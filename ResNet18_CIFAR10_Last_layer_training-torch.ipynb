{
 "cells": [
  {
   "cell_type": "markdown",
   "id": "0248c684-aa66-4bd0-9d4b-b46cfbffdb55",
   "metadata": {},
   "source": [
    "# ResNet-18: Train only output layer - PyTorch\n",
    "\n",
    "Using CIFAR-10 dataset. Freeze all other non output layers, and only train the output (softmax) layer."
   ]
  },
  {
   "cell_type": "code",
   "execution_count": 1,
   "id": "84ac877a-0e2f-4e56-949a-b4d6c6074a22",
   "metadata": {},
   "outputs": [
    {
     "name": "stdout",
     "output_type": "stream",
     "text": [
      "env: CUDA_DEVICE_ORDER=PCI_BUS_ID\n",
      "env: CUDA_VISIBLE_DEVICES=0\n"
     ]
    }
   ],
   "source": [
    "# Specify GPU to be used-\n",
    "%env CUDA_DEVICE_ORDER = PCI_BUS_ID\n",
    "'''\n",
    "Specify GPU(s) to be used here. Say you have 6 GPUs and you want to train Model A on 2 of them\n",
    "and Model B on 4 of them. You can do that as follows-\n",
    "CUDA_VISIBLE_DEVICES=0,1 python model_A.py\n",
    "CUDA_VISIBLE_DEVICES=2,3,4,5 python model_B.py\n",
    "'''\n",
    "# %env CUDA_VISIBLE_DEVICES = 0, 1, 2, 3\n",
    "%env CUDA_VISIBLE_DEVICES = 0"
   ]
  },
  {
   "cell_type": "code",
   "execution_count": 2,
   "id": "0c476136-700d-4549-b8fc-7dd82e82086f",
   "metadata": {},
   "outputs": [
    {
     "name": "stderr",
     "output_type": "stream",
     "text": [
      "Matplotlib is building the font cache; this may take a moment.\n",
      "/home/majumdar/anaconda3/envs/torch-cuda-new/lib/python3.10/site-packages/tqdm/auto.py:22: TqdmWarning: IProgress not found. Please update jupyter and ipywidgets. See https://ipywidgets.readthedocs.io/en/stable/user_install.html\n",
      "  from .autonotebook import tqdm as notebook_tqdm\n"
     ]
    }
   ],
   "source": [
    "import cv2\n",
    "import numpy as np\n",
    "import matplotlib.pyplot as plt\n",
    "\n",
    "import torch\n",
    "import torch.nn as nn\n",
    "import torch.nn.functional as F\n",
    "import torchvision\n",
    "# import torchvision.transforms as transforms\n",
    "\n",
    "from tqdm import tqdm\n",
    "from tqdm import trange\n",
    "import matplotlib.pyplot as plt\n",
    "import seaborn as sns\n",
    "import numpy as np\n",
    "import os, pickle\n",
    "import albumentations as A\n",
    "from albumentations.pytorch import ToTensorV2"
   ]
  },
  {
   "cell_type": "code",
   "execution_count": null,
   "id": "519894bf-dd6b-4c17-92e7-2833e829a63e",
   "metadata": {},
   "outputs": [],
   "source": []
  },
  {
   "cell_type": "code",
   "execution_count": null,
   "id": "70d4e53d-c158-4623-887a-c91c42ad1d22",
   "metadata": {},
   "outputs": [],
   "source": []
  },
  {
   "cell_type": "code",
   "execution_count": 3,
   "id": "830e1953-5d59-4bab-945c-1b3ce1b49dc7",
   "metadata": {},
   "outputs": [
    {
     "name": "stdout",
     "output_type": "stream",
     "text": [
      "torch version: 1.13.1\n",
      "Number of GPU(s) available = 1\n",
      "Current GPU: 0\n",
      "Current GPU name: NVIDIA GeForce GTX TITAN X\n"
     ]
    }
   ],
   "source": [
    "print(f\"torch version: {torch.__version__}\")\n",
    "\n",
    "# Check if there are multiple devices (i.e., GPU cards)-\n",
    "print(f\"Number of GPU(s) available = {torch.cuda.device_count()}\")\n",
    "\n",
    "# Which GPU Is The Current GPU?\n",
    "# print(f\"current GPU: {torch.cuda.current_device()}\")\n",
    "\n",
    "# Get the name of the current GPU-\n",
    "# print(f\"Current GPU name: {torch.cuda.get_device_name(torch.cuda.current_device())}\")\n",
    "\n",
    "# Is PyTorch using a GPU?\n",
    "# print(f\"Is PyTorch using a GPU? {torch.cuda.is_available()}\")\n",
    "\n",
    "if torch.cuda.is_available():\n",
    "    print(f\"Current GPU: {torch.cuda.current_device()}\")\n",
    "    print(f\"Current GPU name: {torch.cuda.get_device_name(torch.cuda.current_device())}\")\n",
    "else:\n",
    "    print(\"PyTorch does not have access to GPU\")"
   ]
  },
  {
   "cell_type": "code",
   "execution_count": null,
   "id": "b6aff24a-41d9-4b30-b169-1c37d73bd85a",
   "metadata": {},
   "outputs": [],
   "source": [
    "# print(torch.cuda.memory_summary())"
   ]
  },
  {
   "cell_type": "code",
   "execution_count": 4,
   "id": "37dbe17c-5855-4a99-a05b-feea197451ae",
   "metadata": {},
   "outputs": [
    {
     "name": "stdout",
     "output_type": "stream",
     "text": [
      "Available device is cuda\n"
     ]
    }
   ],
   "source": [
    "# Device configuration-\n",
    "device = torch.device('cuda' if torch.cuda.is_available() else 'cpu')\n",
    "print(f'Available device is {device}')"
   ]
  },
  {
   "cell_type": "code",
   "execution_count": null,
   "id": "c2461582-5dfb-4aa7-94df-9781b6a4621b",
   "metadata": {},
   "outputs": [],
   "source": []
  },
  {
   "cell_type": "code",
   "execution_count": 5,
   "id": "6f45de07-c66a-4ac3-9ba2-e7f7f9acee26",
   "metadata": {},
   "outputs": [],
   "source": [
    "# Specify hyper-parameters\n",
    "batch_size = 256\n",
    "num_classes = 10\n",
    "num_epochs = 80"
   ]
  },
  {
   "cell_type": "code",
   "execution_count": null,
   "id": "9241487a-159e-4a66-9de2-5b22b7ad51ab",
   "metadata": {},
   "outputs": [],
   "source": []
  },
  {
   "cell_type": "code",
   "execution_count": 6,
   "id": "05c26890-e340-4200-8add-517432fca13d",
   "metadata": {},
   "outputs": [],
   "source": [
    "# Define transformations using albumentations-\n",
    "transform_train = A.Compose(\n",
    "    [\n",
    "        # A.Resize(width = 32, height = 32),\n",
    "        # A.RandomCrop(width = 20, height = 20),\n",
    "        A.Rotate(limit = 40, p = 0.9, border_mode = cv2.BORDER_CONSTANT),\n",
    "        A.HorizontalFlip(p = 0.5),\n",
    "        A.VerticalFlip(p = 0.1),\n",
    "        A.RGBShift(r_shift_limit = 25, g_shift_limit = 25, b_shift_limit = 25, p = 0.9),\n",
    "        A.OneOf([\n",
    "            A.Blur(blur_limit = 3, p = 0.5),\n",
    "            A.ColorJitter(p = 0.5),\n",
    "        ], p = 1.0),\n",
    "        A.Normalize(\n",
    "            # mean = [0.4914, 0.4822, 0.4465],\n",
    "            # std = [0.247, 0.243, 0.261],\n",
    "            mean = [0, 0, 0],\n",
    "            std = [1, 1, 1],\n",
    "            max_pixel_value = 255,\n",
    "        ),\n",
    "        # This is not dividing by 255, which it does in PyTorch-\n",
    "        ToTensorV2(),\n",
    "    ]\n",
    ")\n",
    "\n",
    "transform_val = A.Compose(\n",
    "    [\n",
    "        A.Normalize(\n",
    "            mean = [0, 0, 0],\n",
    "            std = [1, 1, 1],\n",
    "            max_pixel_value = 255\n",
    "        ),\n",
    "        ToTensorV2()\n",
    "    ]\n",
    ")"
   ]
  },
  {
   "cell_type": "code",
   "execution_count": 7,
   "id": "5e315ad8-cd45-4d14-b74c-6b7b1acb9cd2",
   "metadata": {},
   "outputs": [],
   "source": [
    "class Cifar10Dataset(torchvision.datasets.CIFAR10):\n",
    "    def __init__(\n",
    "        self, root = \"~/data/cifar10\",\n",
    "        train = True, download = True,\n",
    "        transform = None\n",
    "    ):\n",
    "        super().__init__(\n",
    "            root = root, train = train,\n",
    "            download = download, transform = transform\n",
    "        )\n",
    "\n",
    "    def __getitem__(self, index):\n",
    "        image, label = self.data[index], self.targets[index]\n",
    "\n",
    "        if self.transform is not None:\n",
    "            transformed = self.transform(image = image)\n",
    "            image = transformed[\"image\"]\n",
    "\n",
    "        return image, label\n",
    "    "
   ]
  },
  {
   "cell_type": "code",
   "execution_count": 8,
   "id": "06d04fce-4347-479c-a6db-546fb887b08d",
   "metadata": {},
   "outputs": [
    {
     "name": "stdout",
     "output_type": "stream",
     "text": [
      "Files already downloaded and verified\n",
      "Files already downloaded and verified\n"
     ]
    }
   ],
   "source": [
    "# Define train and validate sets-\n",
    "train_dataset = Cifar10Dataset(\n",
    "    root = '/home/majumdar/Downloads/.data/', train = True,\n",
    "    download = True, transform = transform_train\n",
    ")\n",
    "\n",
    "val_dataset = Cifar10Dataset(\n",
    "    root = '/home/majumdar/Downloads/.data/', train = False,\n",
    "    download = True, transform = transform_val\n",
    ")"
   ]
  },
  {
   "cell_type": "code",
   "execution_count": 9,
   "id": "9b9a340b-fb4d-49e9-a199-16ee5ea00ee6",
   "metadata": {},
   "outputs": [],
   "source": [
    "# Define train and validate loaders-\n",
    "train_loader = torch.utils.data.DataLoader(\n",
    "    dataset = train_dataset, batch_size = batch_size,\n",
    "    shuffle = True\n",
    "    )\n",
    "\n",
    "val_loader = torch.utils.data.DataLoader(\n",
    "    dataset = val_dataset, batch_size = batch_size,\n",
    "    shuffle = True\n",
    "    )"
   ]
  },
  {
   "cell_type": "code",
   "execution_count": 10,
   "id": "968a1385-6753-470a-810e-189594ae4f13",
   "metadata": {},
   "outputs": [
    {
     "name": "stdout",
     "output_type": "stream",
     "text": [
      "len(train_dataset) = 50000 & len(val_dataset) = 10000\n",
      "len(train_loader) = 196 & len(val_loader) = 40\n"
     ]
    }
   ],
   "source": [
    "print(f\"len(train_dataset) = {len(train_dataset)} & len(val_dataset) = {len(val_dataset)}\")\n",
    "print(f\"len(train_loader) = {len(train_loader)} & len(val_loader) = {len(val_loader)}\")"
   ]
  },
  {
   "cell_type": "code",
   "execution_count": 11,
   "id": "1bf9cba5-f832-4ace-8c87-b54c23c9fe5d",
   "metadata": {},
   "outputs": [
    {
     "data": {
      "text/plain": [
       "(195.3125, 39.0625)"
      ]
     },
     "execution_count": 11,
     "metadata": {},
     "output_type": "execute_result"
    }
   ],
   "source": [
    "# Sanity check-\n",
    "len(train_dataset) / batch_size, len(val_dataset) / batch_size"
   ]
  },
  {
   "cell_type": "code",
   "execution_count": null,
   "id": "ccf0a035-998e-42d9-a58b-8965f8ae6484",
   "metadata": {},
   "outputs": [],
   "source": []
  },
  {
   "cell_type": "code",
   "execution_count": null,
   "id": "d89adcbf-9e4e-4dc1-804b-3d0003b3c54b",
   "metadata": {},
   "outputs": [],
   "source": []
  },
  {
   "cell_type": "code",
   "execution_count": 12,
   "id": "13832774-0d28-47e2-97be-15fbe9512452",
   "metadata": {},
   "outputs": [],
   "source": [
    "class ResNet_Block(nn.Module):\n",
    "    '''\n",
    "    VGG block within a VGG-* CNN model\n",
    "    '''\n",
    "    def __init__(\n",
    "        self, num_inp_channels,\n",
    "        num_channels, stride = 1,\n",
    "        dropout = 0.2, use_1x1_conv = False\n",
    "    ):\n",
    "        super(ResNet_Block, self).__init__()\n",
    "        \n",
    "        self.num_inp_channels = num_inp_channels\n",
    "        self.num_channels = num_channels\n",
    "        self.stride = stride\n",
    "        self.dropout = dropout\n",
    "        self.use_1x1_conv = use_1x1_conv\n",
    "    \n",
    "        \n",
    "        self.conv1 = nn.Conv2d(\n",
    "            in_channels = self.num_inp_channels, out_channels = self.num_channels,\n",
    "            kernel_size = 3, padding = 1,\n",
    "            stride = self.stride, bias = False\n",
    "        )\n",
    "        self.bn1 = nn.BatchNorm2d(num_features = self.num_channels)\n",
    "        \n",
    "        self.conv2 = nn.Conv2d(\n",
    "            in_channels = self.num_channels, out_channels = self.num_channels,\n",
    "            kernel_size = 3, padding = 1,\n",
    "            stride = 1, bias = False\n",
    "        )\n",
    "        self.bn2 = nn.BatchNorm2d(num_features = self.num_channels)\n",
    "        self.dropout = nn.Dropout(p = self.dropout)\n",
    "        \n",
    "        if self.use_1x1_conv:\n",
    "            self.conv3 = nn.Conv2d(\n",
    "            in_channels = self.num_inp_channels, out_channels = num_channels,\n",
    "            kernel_size = 1, padding = 0,\n",
    "            stride = self.stride, bias = False\n",
    "            )\n",
    "            self.bn3 = nn.BatchNorm2d(num_features = self.num_channels)\n",
    "        \n",
    "        self.initialize_weights()\n",
    "\n",
    "            \n",
    "    def initialize_weights(self):\n",
    "        for m in self.modules():\n",
    "            # print(m)\n",
    "            if isinstance(m, nn.Conv2d):\n",
    "                nn.init.kaiming_normal_(m.weight)\n",
    "\n",
    "                '''\n",
    "                # Do not initialize bias (due to batchnorm)-\n",
    "                if m.bias is not None:\n",
    "                    nn.init.constant_(m.bias, 0)\n",
    "                '''\n",
    "            \n",
    "            elif isinstance(m, nn.BatchNorm2d):\n",
    "                # Standard initialization for batch normalization-\n",
    "                nn.init.constant_(m.weight, 1)\n",
    "                nn.init.constant_(m.bias, 0)\n",
    "\n",
    "            elif isinstance(m, nn.Linear):\n",
    "                nn.init.kaiming_normal_(m.weight)\n",
    "                nn.init.constant_(m.bias, 0)\n",
    "    \n",
    "    \n",
    "    def forward(self, x):\n",
    "        y = F.leaky_relu(self.bn1(self.conv1(x)))\n",
    "        y = self.dropout(F.leaky_relu(self.bn2(self.conv2(y))))\n",
    "        \n",
    "        if self.use_1x1_conv:\n",
    "            x = self.bn3(self.conv3(x))\n",
    "            \n",
    "        y += x\n",
    "        return F.leaky_relu(self.dropout(y))\n",
    "    \n",
    "    \n",
    "    def shape_computation(self, x):\n",
    "        print(f\"Input shape: {x.shape}\")\n",
    "        y = (self.bn1(self.conv1(x)))\n",
    "        print(f\"First conv layer output shape: {y.shape}\")\n",
    "        y = self.bn2(self.conv2(y))\n",
    "        print(f\"Second conv layer output shape: {y.shape}\")\n",
    "        \n",
    "        if self.use_1x1_conv:\n",
    "            x = self.bn3(self.conv3(x))\n",
    "            print(f\"Downsample with S = 2; identity connection output shape: {x.shape}\")\n",
    "            \n",
    "        y += x\n",
    "        print(f\"Residual block output shape: {y.shape}\")\n",
    "        return None\n",
    "    "
   ]
  },
  {
   "cell_type": "code",
   "execution_count": 13,
   "id": "1096f585-a0df-41f8-a437-a94fe50b8da6",
   "metadata": {},
   "outputs": [],
   "source": [
    "class ResNet18(nn.Module):\n",
    "    def __init__(self):\n",
    "        super(ResNet18, self).__init__()\n",
    "        \n",
    "        self.conv1 = nn.Conv2d(\n",
    "            in_channels = 3, out_channels = 64,\n",
    "            kernel_size = 3, padding = 1,\n",
    "            stride = 1, bias = False\n",
    "        )\n",
    "        self.bn1 = nn.BatchNorm2d(num_features = 64)\n",
    "        \n",
    "        self.resblock1 = ResNet_Block(\n",
    "            num_inp_channels = 64, num_channels = 64,\n",
    "            stride = 1, dropout = 0.2,\n",
    "            use_1x1_conv = False\n",
    "        )\n",
    "        \n",
    "        self.resblock2 = ResNet_Block(\n",
    "            num_inp_channels = 64, num_channels = 64,\n",
    "            stride = 1, dropout = 0.2,\n",
    "            use_1x1_conv = False\n",
    "        )\n",
    "        \n",
    "        # Downsample-\n",
    "        self.resblock3 = ResNet_Block(\n",
    "            num_inp_channels = 64, num_channels = 128,\n",
    "            stride = 2, dropout = 0.2,\n",
    "            use_1x1_conv = True\n",
    "        )\n",
    "        \n",
    "        self.resblock4 = ResNet_Block(\n",
    "            num_inp_channels = 128, num_channels = 128,\n",
    "            stride = 1, dropout = 0.2,\n",
    "            use_1x1_conv = False\n",
    "        )\n",
    "\n",
    "        # Downsample-\n",
    "        self.resblock5 = ResNet_Block(\n",
    "            num_inp_channels = 128, num_channels = 256,\n",
    "            stride = 2, dropout = 0.2,\n",
    "            use_1x1_conv = True\n",
    "        )\n",
    "\n",
    "        self.resblock6 = ResNet_Block(\n",
    "            num_inp_channels = 256, num_channels = 256,\n",
    "            stride = 1, dropout = 0.2,\n",
    "            use_1x1_conv = False\n",
    "        )\n",
    "\n",
    "        # Downsample-\n",
    "        self.resblock7 = ResNet_Block(\n",
    "            num_inp_channels = 256, num_channels = 512,\n",
    "            stride = 2, dropout = 0.2,\n",
    "            use_1x1_conv = True\n",
    "        )\n",
    "\n",
    "        self.resblock8 = ResNet_Block(\n",
    "            num_inp_channels = 512, num_channels = 512,\n",
    "            stride = 1, dropout = 0.2,\n",
    "            use_1x1_conv = False\n",
    "        )\n",
    "        \n",
    "        self.avg_pool = nn.AvgPool2d(kernel_size = 3, stride = 2)\n",
    "        self.op_layer = nn.Linear(\n",
    "            in_features = 512, out_features = 10,\n",
    "            bias = True\n",
    "        )\n",
    "        \n",
    "    \n",
    "    def forward(self, x):\n",
    "        x = F.relu(self.bn1(self.conv1(x)))\n",
    "        x = self.resblock1(x)\n",
    "        x = self.resblock2(x)\n",
    "        x = self.resblock3(x)\n",
    "        x = self.resblock4(x)\n",
    "        x = self.resblock5(x)\n",
    "        x = self.resblock6(x)\n",
    "        x = self.resblock7(x)\n",
    "        x = self.resblock8(x)\n",
    "        x = self.avg_pool(x).squeeze()\n",
    "        x = self.op_layer(x)\n",
    "        return x\n",
    "    "
   ]
  },
  {
   "cell_type": "code",
   "execution_count": null,
   "id": "6191d8a8-fa4d-4829-82a3-6b9cc0a0a876",
   "metadata": {},
   "outputs": [],
   "source": []
  },
  {
   "cell_type": "code",
   "execution_count": 14,
   "id": "3bf08faf-ea16-41b5-a744-513c17a1c43e",
   "metadata": {},
   "outputs": [],
   "source": [
    "# Initialize ResNet-18 architecture-\n",
    "model = ResNet18().to(device)"
   ]
  },
  {
   "cell_type": "code",
   "execution_count": 15,
   "id": "61ef906c-498c-43ee-8a0f-dff788a2b6ab",
   "metadata": {},
   "outputs": [
    {
     "name": "stdout",
     "output_type": "stream",
     "text": [
      "ResNet-18 CNN has 11173962 total trainable parameters\n"
     ]
    }
   ],
   "source": [
    "# Count number of layer-wise parameters and total parameters-\n",
    "tot_params = 0\n",
    "for param in model.parameters():\n",
    "    # print(f\"layer.shape = {param.shape} has {param.nelement()} parameters\")\n",
    "    tot_params += param.nelement()\n",
    "    \n",
    "print(f\"ResNet-18 CNN has {tot_params} total trainable parameters\")"
   ]
  },
  {
   "cell_type": "code",
   "execution_count": 16,
   "id": "35c28011-91c7-4296-bc9e-6bafc1ee961b",
   "metadata": {},
   "outputs": [],
   "source": [
    "# Save random initial weights-\n",
    "torch.save(model.state_dict(), 'ResNet18_random_weights.pth')\n",
    "\n",
    "# Load randomly initialised weights-\n",
    "# model.load_state_dict(torch.load('VGG18_random_weights_dropouts.pth'))"
   ]
  },
  {
   "cell_type": "code",
   "execution_count": null,
   "id": "dc31e9e3-9b4b-4c03-b891-891bcfce9597",
   "metadata": {},
   "outputs": [],
   "source": []
  },
  {
   "cell_type": "code",
   "execution_count": 20,
   "id": "8f1ba351-252f-498e-b4fd-73d10a703c02",
   "metadata": {},
   "outputs": [],
   "source": [
    "# Freeze all features-\n",
    "for layer_name, param in model.named_parameters():\n",
    "    param.requires_grad = False\n",
    "    # print(f\"layre: {layer_name}, shape: {param.shape}\")"
   ]
  },
  {
   "cell_type": "code",
   "execution_count": 21,
   "id": "8cca2804-d43d-4249-a85c-c73316dd71d6",
   "metadata": {},
   "outputs": [],
   "source": [
    "# Only train new output dense layer-\n",
    "model.op_layer.weight.requires_grad = True\n",
    "model.op_layer.bias.requires_grad = True"
   ]
  },
  {
   "cell_type": "code",
   "execution_count": null,
   "id": "a284f0f0-b4cc-491f-a2b6-aeb8c5c59857",
   "metadata": {},
   "outputs": [],
   "source": []
  },
  {
   "cell_type": "code",
   "execution_count": 22,
   "id": "4c690459-9431-42c2-a095-4664f43be7fc",
   "metadata": {},
   "outputs": [],
   "source": [
    "# Define loss function and optimizer-\n",
    "loss = nn.CrossEntropyLoss()\n",
    "\n",
    "# optimizer = torch.optim.Adam(model.parameters(), lr = learning_rate)\n",
    "optimizer = torch.optim.SGD(model.parameters(), lr = 0.0, momentum = 0.9, weight_decay = 5e-4)"
   ]
  },
  {
   "cell_type": "code",
   "execution_count": null,
   "id": "c2d6c725-49f0-42e5-a066-e2b8183e2256",
   "metadata": {},
   "outputs": [],
   "source": []
  },
  {
   "cell_type": "code",
   "execution_count": null,
   "id": "db1dc170-cc26-4278-9239-f6ae3b3f4847",
   "metadata": {},
   "outputs": [],
   "source": []
  },
  {
   "cell_type": "markdown",
   "id": "c2ad6a9e-8771-4ae8-8e1f-3bdf808eefa3",
   "metadata": {},
   "source": [
    "#### Train model with learning rate scheduler\n",
    "\n",
    "Training dataset = 50000, batch size = 256, number of training steps/iterations per epoch = 50000 / 256 = 195.3125 = 195\n",
    "\n",
    "After an initial linear learning rate warmup of 13 epochs or 2539 training steps:\n",
    "\n",
    "- For the next 32 epochs, or, 6250 steps - until 43rd epoch, use lr = 0.1.\n",
    "\n",
    "- For the next 25 epochs, or, 4882 steps - until 68th epoch, use lr = 0.01.\n",
    "\n",
    "- For remaining epochs (13 epochs), use lr = 0.001."
   ]
  },
  {
   "cell_type": "code",
   "execution_count": 23,
   "id": "df9d4a72-065d-45d4-87bf-c478c896ff33",
   "metadata": {},
   "outputs": [],
   "source": [
    "boundaries = [6250, 11132]\n",
    "values = [0.1, 0.01, 0.001]"
   ]
  },
  {
   "cell_type": "code",
   "execution_count": 24,
   "id": "bab69ef1-4ab3-4464-b1ed-bfd0c0d63fd5",
   "metadata": {},
   "outputs": [],
   "source": [
    "def decay_function(step, boundaries = [6250, 11132], values = [0.1, 0.01, 0.001]):\n",
    "    \n",
    "    for idx, bound in enumerate(boundaries):\n",
    "        if step < bound:\n",
    "            return values[idx]\n",
    "\n",
    "    return values[-1]\n",
    "    "
   ]
  },
  {
   "cell_type": "code",
   "execution_count": 25,
   "id": "0f93f631-9e70-4a26-a013-0a5ac4655203",
   "metadata": {},
   "outputs": [],
   "source": [
    "class schedule():\n",
    "\n",
    "    def __init__(self, initial_learning_rate = 0.1, warmup_steps = 1000, decay_func = None):\n",
    "        self.initial_learning_rate = initial_learning_rate\n",
    "        self.warmup_steps = warmup_steps\n",
    "        self.decay_func = decay_func\n",
    "        self.warmup_step_size = initial_learning_rate/warmup_steps\n",
    "        self.current_lr = 0\n",
    "\n",
    "    def get_lr(self, step):\n",
    "        if step == 0:\n",
    "            return self.current_lr\n",
    "        elif step <= self.warmup_steps:\n",
    "            self.current_lr+=self.warmup_step_size\n",
    "            return self.current_lr\n",
    "        elif step > self.warmup_steps:\n",
    "            if self.decay_func:\n",
    "                return self.decay_func(step)\n",
    "        else:\n",
    "            return self.current_lr\n",
    "        "
   ]
  },
  {
   "cell_type": "code",
   "execution_count": 26,
   "id": "5014ab04-398c-47e5-af66-c1c413cbfb5e",
   "metadata": {},
   "outputs": [],
   "source": [
    "# Initial linear LR warmup: 195.3125 x 13 = 2549 steps in 13 epochs.\n",
    "custom_lr_scheduler = schedule(\n",
    "    initial_learning_rate = 0.1, warmup_steps = 2539,\n",
    "    decay_func = decay_function\n",
    ")\n"
   ]
  },
  {
   "cell_type": "code",
   "execution_count": null,
   "id": "6ddc1fdc-c915-4d6e-9f4f-473024690b6d",
   "metadata": {},
   "outputs": [],
   "source": []
  },
  {
   "cell_type": "code",
   "execution_count": 27,
   "id": "201898d7-6c4a-439d-88ac-2a7e45eb3423",
   "metadata": {},
   "outputs": [],
   "source": [
    "step = 0"
   ]
  },
  {
   "cell_type": "code",
   "execution_count": null,
   "id": "69f47280-4b6a-4dde-9491-1fb13fdeb08f",
   "metadata": {},
   "outputs": [],
   "source": []
  },
  {
   "cell_type": "code",
   "execution_count": 28,
   "id": "ae37a303-d110-4f01-9d01-8ce9ce3a2ea7",
   "metadata": {},
   "outputs": [],
   "source": [
    "def train_model_progress(model, train_loader, train_dataset):\n",
    "    '''\n",
    "    Function to perform one epoch of training by using 'train_loader'.\n",
    "    Returns loss and number of correct predictions for this epoch.\n",
    "    '''\n",
    "    running_loss = 0.0\n",
    "    running_corrects = 0.0\n",
    "    \n",
    "    model.train()\n",
    "    \n",
    "    with tqdm(train_loader, unit = 'batch') as tepoch:\n",
    "        for images, labels in tepoch:\n",
    "            tepoch.set_description(f\"Training: \")\n",
    "            \n",
    "            images = images.to(device)\n",
    "            labels = labels.to(device)\n",
    "            \n",
    "            # Get model predictions-\n",
    "            outputs = model(images)\n",
    "            \n",
    "            # Compute loss-\n",
    "            J = loss(outputs, labels)\n",
    "            \n",
    "            # Empty accumulated gradients-\n",
    "            optimizer.zero_grad()\n",
    "            \n",
    "            # Perform backprop-\n",
    "            J.backward()\n",
    "            \n",
    "            # Update parameters-\n",
    "            optimizer.step()\n",
    "            \n",
    "            global step\n",
    "            optimizer.param_groups[0]['lr'] = custom_lr_scheduler.get_lr(step)\n",
    "\n",
    "            step += 1\n",
    "            \n",
    "            # Compute model's performance statistics-\n",
    "            running_loss += J.item() * images.size(0)\n",
    "            _, predicted = torch.max(outputs, 1)\n",
    "            running_corrects += torch.sum(predicted == labels.data)\n",
    "            \n",
    "            tepoch.set_postfix(\n",
    "                loss = running_loss / len(train_dataset),\n",
    "                accuracy = (running_corrects.double().cpu().numpy() / len(train_dataset)) * 100\n",
    "            )\n",
    "            \n",
    "    \n",
    "    train_loss = running_loss / len(train_dataset)\n",
    "    train_acc = (running_corrects.double() / len(train_dataset)) * 100\n",
    "    \n",
    "\n",
    "    # return running_loss, running_corrects\n",
    "    return train_loss, train_acc.cpu().numpy()\n"
   ]
  },
  {
   "cell_type": "code",
   "execution_count": 29,
   "id": "b93608d9-973d-4fa7-8c13-976a738633bc",
   "metadata": {},
   "outputs": [],
   "source": [
    "def test_model_progress(model, test_loader, test_dataset):\n",
    "    total = 0.0\n",
    "    correct = 0.0\n",
    "    running_loss_val = 0.0\n",
    "\n",
    "    with torch.no_grad():\n",
    "        with tqdm(test_loader, unit = 'batch') as tepoch:\n",
    "            for images, labels in tepoch:\n",
    "                tepoch.set_description(f\"Validation: \")\n",
    "                \n",
    "                images = images.to(device)\n",
    "                labels = labels.to(device)\n",
    "                \n",
    "                # Set model to evaluation mode-\n",
    "                model.eval()\n",
    "            \n",
    "                # Predict using trained model-\n",
    "                outputs = model(images)\n",
    "                _, y_pred = torch.max(outputs, 1)\n",
    "                \n",
    "                # Compute validation loss-\n",
    "                J_val = loss(outputs, labels)\n",
    "                \n",
    "                running_loss_val += J_val.item() * labels.size(0)\n",
    "    \n",
    "                # Total number of labels-\n",
    "                total += labels.size(0)\n",
    "\n",
    "                # Total number of correct predictions-\n",
    "                correct += (y_pred == labels).sum()\n",
    "                \n",
    "                tepoch.set_postfix(\n",
    "                    val_loss = running_loss_val / len(test_dataset),\n",
    "                    val_acc = 100 * (correct.cpu().numpy() / total)\n",
    "                )\n",
    "            \n",
    "        \n",
    "    # return (running_loss_val, correct, total)\n",
    "    val_loss = running_loss_val / len(test_dataset)\n",
    "    val_acc = (correct / total) * 100\n",
    "\n",
    "    return val_loss, val_acc.cpu().numpy()\n"
   ]
  },
  {
   "cell_type": "code",
   "execution_count": null,
   "id": "d04b3ad2-1f9e-472f-9cc0-5dbaca78e632",
   "metadata": {},
   "outputs": [],
   "source": []
  },
  {
   "cell_type": "code",
   "execution_count": 30,
   "id": "bce9801a-adcf-4894-a6aa-0f4147e6cb5d",
   "metadata": {},
   "outputs": [],
   "source": [
    "# Python3 dict to contain training metrics-\n",
    "training_history_lr_scheduler = {}\n",
    "\n",
    "# Initialize parameters saving 'best' models-\n",
    "best_val_acc = 20"
   ]
  },
  {
   "cell_type": "code",
   "execution_count": null,
   "id": "454303b6-1e62-46bd-8f3c-9b3a49c240f4",
   "metadata": {},
   "outputs": [],
   "source": []
  },
  {
   "cell_type": "code",
   "execution_count": 31,
   "id": "5f11e3fd-cea2-47a3-b526-ce2f15255e51",
   "metadata": {},
   "outputs": [
    {
     "name": "stderr",
     "output_type": "stream",
     "text": [
      "Training: : 100%|████████████| 196/196 [00:57<00:00,  3.40batch/s, accuracy=12.1, loss=2.33]\n",
      "Validation: : 100%|██████████| 40/40 [00:03<00:00, 10.67batch/s, val_acc=11.6, val_loss=2.4]\n"
     ]
    },
    {
     "name": "stdout",
     "output_type": "stream",
     "text": [
      "\n",
      "epoch: 1 training loss = 2.3270, training accuracy = 12.14%, val_loss = 2.4042, val_accuracy = 11.61% & LR = 0.0077\n",
      "\n"
     ]
    },
    {
     "name": "stderr",
     "output_type": "stream",
     "text": [
      "Training: : 100%|████████████| 196/196 [00:45<00:00,  4.28batch/s, accuracy=13.7, loss=2.34]\n",
      "Validation: : 100%|█████████| 40/40 [00:03<00:00, 10.63batch/s, val_acc=10.2, val_loss=2.47]\n"
     ]
    },
    {
     "name": "stdout",
     "output_type": "stream",
     "text": [
      "\n",
      "epoch: 2 training loss = 2.3369, training accuracy = 13.70%, val_loss = 2.4741, val_accuracy = 10.18% & LR = 0.0154\n",
      "\n"
     ]
    },
    {
     "name": "stderr",
     "output_type": "stream",
     "text": [
      "Training: : 100%|████████████| 196/196 [00:46<00:00,  4.26batch/s, accuracy=13.7, loss=2.54]\n",
      "Validation: : 100%|█████████| 40/40 [00:03<00:00, 10.79batch/s, val_acc=11.9, val_loss=3.82]\n"
     ]
    },
    {
     "name": "stdout",
     "output_type": "stream",
     "text": [
      "\n",
      "epoch: 3 training loss = 2.5354, training accuracy = 13.72%, val_loss = 3.8152, val_accuracy = 11.93% & LR = 0.0231\n",
      "\n"
     ]
    },
    {
     "name": "stderr",
     "output_type": "stream",
     "text": [
      "Training: : 100%|████████████| 196/196 [00:45<00:00,  4.27batch/s, accuracy=11.8, loss=10.4]\n",
      "Validation: : 100%|█████████| 40/40 [00:03<00:00, 10.87batch/s, val_acc=13.9, val_loss=6.16]\n"
     ]
    },
    {
     "name": "stdout",
     "output_type": "stream",
     "text": [
      "\n",
      "epoch: 4 training loss = 10.3529, training accuracy = 11.76%, val_loss = 6.1640, val_accuracy = 13.92% & LR = 0.0308\n",
      "\n"
     ]
    },
    {
     "name": "stderr",
     "output_type": "stream",
     "text": [
      "Training: : 100%|████████████| 196/196 [00:45<00:00,  4.33batch/s, accuracy=11.8, loss=15.2]\n",
      "Validation: : 100%|███████████| 40/40 [00:03<00:00, 10.72batch/s, val_acc=10, val_loss=11.4]\n"
     ]
    },
    {
     "name": "stdout",
     "output_type": "stream",
     "text": [
      "\n",
      "epoch: 5 training loss = 15.1643, training accuracy = 11.81%, val_loss = 11.4260, val_accuracy = 10.00% & LR = 0.0386\n",
      "\n"
     ]
    },
    {
     "name": "stderr",
     "output_type": "stream",
     "text": [
      "Training: : 100%|████████████| 196/196 [00:45<00:00,  4.33batch/s, accuracy=11.6, loss=20.3]\n",
      "Validation: : 100%|█████████| 40/40 [00:03<00:00, 10.79batch/s, val_acc=10.3, val_loss=15.5]\n"
     ]
    },
    {
     "name": "stdout",
     "output_type": "stream",
     "text": [
      "\n",
      "epoch: 6 training loss = 20.3471, training accuracy = 11.55%, val_loss = 15.5419, val_accuracy = 10.35% & LR = 0.0463\n",
      "\n"
     ]
    },
    {
     "name": "stderr",
     "output_type": "stream",
     "text": [
      "Training: : 100%|██████████████| 196/196 [00:45<00:00,  4.32batch/s, accuracy=11.6, loss=24]\n",
      "Validation: : 100%|█████████| 40/40 [00:03<00:00, 10.34batch/s, val_acc=10.7, val_loss=17.6]\n"
     ]
    },
    {
     "name": "stdout",
     "output_type": "stream",
     "text": [
      "\n",
      "epoch: 7 training loss = 23.9785, training accuracy = 11.59%, val_loss = 17.5812, val_accuracy = 10.70% & LR = 0.0540\n",
      "\n"
     ]
    },
    {
     "name": "stderr",
     "output_type": "stream",
     "text": [
      "Training: : 100%|████████████| 196/196 [00:45<00:00,  4.33batch/s, accuracy=11.7, loss=27.7]\n",
      "Validation: : 100%|███████████| 40/40 [00:03<00:00, 10.67batch/s, val_acc=10, val_loss=20.1]\n"
     ]
    },
    {
     "name": "stdout",
     "output_type": "stream",
     "text": [
      "\n",
      "epoch: 8 training loss = 27.7426, training accuracy = 11.72%, val_loss = 20.1450, val_accuracy = 10.00% & LR = 0.0617\n",
      "\n"
     ]
    },
    {
     "name": "stderr",
     "output_type": "stream",
     "text": [
      "Training: : 100%|████████████| 196/196 [00:45<00:00,  4.33batch/s, accuracy=11.6, loss=31.5]\n",
      "Validation: : 100%|█████████| 40/40 [00:03<00:00, 10.83batch/s, val_acc=12.7, val_loss=25.2]\n"
     ]
    },
    {
     "name": "stdout",
     "output_type": "stream",
     "text": [
      "\n",
      "epoch: 9 training loss = 31.5437, training accuracy = 11.65%, val_loss = 25.2386, val_accuracy = 12.66% & LR = 0.0694\n",
      "\n"
     ]
    },
    {
     "name": "stderr",
     "output_type": "stream",
     "text": [
      "Training: : 100%|████████████| 196/196 [00:45<00:00,  4.33batch/s, accuracy=11.9, loss=34.3]\n",
      "Validation: : 100%|█████████| 40/40 [00:03<00:00, 10.67batch/s, val_acc=10.2, val_loss=26.9]\n"
     ]
    },
    {
     "name": "stdout",
     "output_type": "stream",
     "text": [
      "\n",
      "epoch: 10 training loss = 34.3280, training accuracy = 11.90%, val_loss = 26.9321, val_accuracy = 10.23% & LR = 0.0772\n",
      "\n"
     ]
    },
    {
     "name": "stderr",
     "output_type": "stream",
     "text": [
      "Training: : 100%|████████████| 196/196 [00:45<00:00,  4.28batch/s, accuracy=11.8, loss=44.1]\n",
      "Validation: : 100%|█████████| 40/40 [00:03<00:00, 10.66batch/s, val_acc=10.4, val_loss=30.4]\n"
     ]
    },
    {
     "name": "stdout",
     "output_type": "stream",
     "text": [
      "\n",
      "epoch: 11 training loss = 44.0585, training accuracy = 11.78%, val_loss = 30.4251, val_accuracy = 10.45% & LR = 0.0849\n",
      "\n"
     ]
    },
    {
     "name": "stderr",
     "output_type": "stream",
     "text": [
      "Training: : 100%|████████████| 196/196 [00:45<00:00,  4.31batch/s, accuracy=11.7, loss=39.7]\n",
      "Validation: : 100%|█████████| 40/40 [00:03<00:00, 10.46batch/s, val_acc=15.5, val_loss=18.5]\n"
     ]
    },
    {
     "name": "stdout",
     "output_type": "stream",
     "text": [
      "\n",
      "epoch: 12 training loss = 39.7404, training accuracy = 11.67%, val_loss = 18.5134, val_accuracy = 15.48% & LR = 0.0926\n",
      "\n"
     ]
    },
    {
     "name": "stderr",
     "output_type": "stream",
     "text": [
      "Training: : 100%|████████████| 196/196 [00:46<00:00,  4.24batch/s, accuracy=11.7, loss=51.1]\n",
      "Validation: : 100%|█████████| 40/40 [00:03<00:00, 10.75batch/s, val_acc=10.3, val_loss=26.3]\n"
     ]
    },
    {
     "name": "stdout",
     "output_type": "stream",
     "text": [
      "\n",
      "epoch: 13 training loss = 51.0931, training accuracy = 11.66%, val_loss = 26.3119, val_accuracy = 10.32% & LR = 0.1000\n",
      "\n"
     ]
    },
    {
     "name": "stderr",
     "output_type": "stream",
     "text": [
      "Training: : 100%|████████████| 196/196 [00:45<00:00,  4.32batch/s, accuracy=11.6, loss=49.3]\n",
      "Validation: : 100%|███████████| 40/40 [00:03<00:00, 10.76batch/s, val_acc=12.9, val_loss=19]\n"
     ]
    },
    {
     "name": "stdout",
     "output_type": "stream",
     "text": [
      "\n",
      "epoch: 14 training loss = 49.2791, training accuracy = 11.56%, val_loss = 18.9745, val_accuracy = 12.94% & LR = 0.1000\n",
      "\n"
     ]
    },
    {
     "name": "stderr",
     "output_type": "stream",
     "text": [
      "Training: : 100%|████████████| 196/196 [00:46<00:00,  4.22batch/s, accuracy=11.8, loss=51.2]\n",
      "Validation: : 100%|███████████| 40/40 [00:03<00:00, 10.64batch/s, val_acc=10, val_loss=43.1]\n"
     ]
    },
    {
     "name": "stdout",
     "output_type": "stream",
     "text": [
      "\n",
      "epoch: 15 training loss = 51.2483, training accuracy = 11.81%, val_loss = 43.1322, val_accuracy = 10.04% & LR = 0.1000\n",
      "\n"
     ]
    },
    {
     "name": "stderr",
     "output_type": "stream",
     "text": [
      "Training: : 100%|████████████| 196/196 [00:45<00:00,  4.27batch/s, accuracy=11.7, loss=49.9]\n",
      "Validation: : 100%|███████████| 40/40 [00:03<00:00, 10.70batch/s, val_acc=10, val_loss=43.5]\n"
     ]
    },
    {
     "name": "stdout",
     "output_type": "stream",
     "text": [
      "\n",
      "epoch: 16 training loss = 49.9417, training accuracy = 11.67%, val_loss = 43.4709, val_accuracy = 10.01% & LR = 0.1000\n",
      "\n"
     ]
    },
    {
     "name": "stderr",
     "output_type": "stream",
     "text": [
      "Training: : 100%|██████████████| 196/196 [00:45<00:00,  4.27batch/s, accuracy=11.8, loss=47]\n",
      "Validation: : 100%|█████████| 40/40 [00:03<00:00, 10.74batch/s, val_acc=14.8, val_loss=23.4]\n"
     ]
    },
    {
     "name": "stdout",
     "output_type": "stream",
     "text": [
      "\n",
      "epoch: 17 training loss = 47.0034, training accuracy = 11.81%, val_loss = 23.4095, val_accuracy = 14.75% & LR = 0.1000\n",
      "\n"
     ]
    },
    {
     "name": "stderr",
     "output_type": "stream",
     "text": [
      "Training: : 100%|████████████| 196/196 [00:45<00:00,  4.29batch/s, accuracy=11.7, loss=47.2]\n",
      "Validation: : 100%|███████████| 40/40 [00:03<00:00, 10.65batch/s, val_acc=10.1, val_loss=36]\n"
     ]
    },
    {
     "name": "stdout",
     "output_type": "stream",
     "text": [
      "\n",
      "epoch: 18 training loss = 47.2481, training accuracy = 11.73%, val_loss = 36.0390, val_accuracy = 10.10% & LR = 0.1000\n",
      "\n"
     ]
    },
    {
     "name": "stderr",
     "output_type": "stream",
     "text": [
      "Training: : 100%|████████████| 196/196 [00:45<00:00,  4.27batch/s, accuracy=11.9, loss=47.8]\n",
      "Validation: : 100%|█████████| 40/40 [00:03<00:00, 10.73batch/s, val_acc=12.8, val_loss=21.8]\n"
     ]
    },
    {
     "name": "stdout",
     "output_type": "stream",
     "text": [
      "\n",
      "epoch: 19 training loss = 47.8098, training accuracy = 11.87%, val_loss = 21.7527, val_accuracy = 12.84% & LR = 0.1000\n",
      "\n"
     ]
    },
    {
     "name": "stderr",
     "output_type": "stream",
     "text": [
      "Training: : 100%|████████████| 196/196 [00:45<00:00,  4.26batch/s, accuracy=11.7, loss=50.6]\n",
      "Validation: : 100%|█████████| 40/40 [00:03<00:00, 10.49batch/s, val_acc=14.3, val_loss=18.2]\n"
     ]
    },
    {
     "name": "stdout",
     "output_type": "stream",
     "text": [
      "\n",
      "epoch: 20 training loss = 50.6209, training accuracy = 11.74%, val_loss = 18.2028, val_accuracy = 14.33% & LR = 0.1000\n",
      "\n"
     ]
    },
    {
     "name": "stderr",
     "output_type": "stream",
     "text": [
      "Training: : 100%|████████████| 196/196 [00:45<00:00,  4.32batch/s, accuracy=11.8, loss=45.2]\n",
      "Validation: : 100%|█████████| 40/40 [00:03<00:00, 10.75batch/s, val_acc=10.2, val_loss=26.8]\n"
     ]
    },
    {
     "name": "stdout",
     "output_type": "stream",
     "text": [
      "\n",
      "epoch: 21 training loss = 45.2420, training accuracy = 11.79%, val_loss = 26.8463, val_accuracy = 10.22% & LR = 0.1000\n",
      "\n"
     ]
    },
    {
     "name": "stderr",
     "output_type": "stream",
     "text": [
      "Training: : 100%|████████████| 196/196 [00:45<00:00,  4.29batch/s, accuracy=11.7, loss=49.3]\n",
      "Validation: : 100%|█████████| 40/40 [00:03<00:00, 10.72batch/s, val_acc=10.1, val_loss=43.7]\n"
     ]
    },
    {
     "name": "stdout",
     "output_type": "stream",
     "text": [
      "\n",
      "epoch: 22 training loss = 49.3399, training accuracy = 11.71%, val_loss = 43.6564, val_accuracy = 10.14% & LR = 0.1000\n",
      "\n"
     ]
    },
    {
     "name": "stderr",
     "output_type": "stream",
     "text": [
      "Training: : 100%|████████████| 196/196 [00:45<00:00,  4.30batch/s, accuracy=11.8, loss=47.2]\n",
      "Validation: : 100%|█████████| 40/40 [00:03<00:00, 10.52batch/s, val_acc=11.1, val_loss=27.1]\n"
     ]
    },
    {
     "name": "stdout",
     "output_type": "stream",
     "text": [
      "\n",
      "epoch: 23 training loss = 47.1601, training accuracy = 11.83%, val_loss = 27.1148, val_accuracy = 11.08% & LR = 0.1000\n",
      "\n"
     ]
    },
    {
     "name": "stderr",
     "output_type": "stream",
     "text": [
      "Training: : 100%|████████████| 196/196 [00:46<00:00,  4.24batch/s, accuracy=11.6, loss=46.7]\n",
      "Validation: : 100%|███████████| 40/40 [00:03<00:00, 10.56batch/s, val_acc=10.2, val_loss=24]\n"
     ]
    },
    {
     "name": "stdout",
     "output_type": "stream",
     "text": [
      "\n",
      "epoch: 24 training loss = 46.6527, training accuracy = 11.59%, val_loss = 24.0233, val_accuracy = 10.21% & LR = 0.1000\n",
      "\n"
     ]
    },
    {
     "name": "stderr",
     "output_type": "stream",
     "text": [
      "Training: : 100%|████████████| 196/196 [00:45<00:00,  4.31batch/s, accuracy=11.7, loss=49.7]\n",
      "Validation: : 100%|█████████| 40/40 [00:03<00:00, 10.75batch/s, val_acc=10.2, val_loss=28.5]\n"
     ]
    },
    {
     "name": "stdout",
     "output_type": "stream",
     "text": [
      "\n",
      "epoch: 25 training loss = 49.7267, training accuracy = 11.67%, val_loss = 28.5129, val_accuracy = 10.18% & LR = 0.1000\n",
      "\n"
     ]
    },
    {
     "name": "stderr",
     "output_type": "stream",
     "text": [
      "Training: : 100%|██████████████| 196/196 [00:45<00:00,  4.28batch/s, accuracy=11.8, loss=45]\n",
      "Validation: : 100%|█████████| 40/40 [00:03<00:00, 10.58batch/s, val_acc=9.97, val_loss=51.3]\n"
     ]
    },
    {
     "name": "stdout",
     "output_type": "stream",
     "text": [
      "\n",
      "epoch: 26 training loss = 44.9594, training accuracy = 11.79%, val_loss = 51.2640, val_accuracy = 9.97% & LR = 0.1000\n",
      "\n"
     ]
    },
    {
     "name": "stderr",
     "output_type": "stream",
     "text": [
      "Training: : 100%|████████████| 196/196 [00:46<00:00,  4.24batch/s, accuracy=11.6, loss=51.4]\n",
      "Validation: : 100%|█████████| 40/40 [00:03<00:00, 10.69batch/s, val_acc=16.7, val_loss=20.5]\n"
     ]
    },
    {
     "name": "stdout",
     "output_type": "stream",
     "text": [
      "\n",
      "epoch: 27 training loss = 51.4370, training accuracy = 11.61%, val_loss = 20.5494, val_accuracy = 16.68% & LR = 0.1000\n",
      "\n"
     ]
    },
    {
     "name": "stderr",
     "output_type": "stream",
     "text": [
      "Training: : 100%|██████████████| 196/196 [00:46<00:00,  4.21batch/s, accuracy=12, loss=45.9]\n",
      "Validation: : 100%|███████████| 40/40 [00:03<00:00, 10.73batch/s, val_acc=10, val_loss=51.8]\n"
     ]
    },
    {
     "name": "stdout",
     "output_type": "stream",
     "text": [
      "\n",
      "epoch: 28 training loss = 45.9165, training accuracy = 11.96%, val_loss = 51.8249, val_accuracy = 10.02% & LR = 0.1000\n",
      "\n"
     ]
    },
    {
     "name": "stderr",
     "output_type": "stream",
     "text": [
      "Training: : 100%|████████████| 196/196 [00:45<00:00,  4.30batch/s, accuracy=11.8, loss=47.4]\n",
      "Validation: : 100%|█████████| 40/40 [00:03<00:00, 10.84batch/s, val_acc=10.3, val_loss=25.6]\n"
     ]
    },
    {
     "name": "stdout",
     "output_type": "stream",
     "text": [
      "\n",
      "epoch: 29 training loss = 47.3584, training accuracy = 11.76%, val_loss = 25.5848, val_accuracy = 10.26% & LR = 0.1000\n",
      "\n"
     ]
    },
    {
     "name": "stderr",
     "output_type": "stream",
     "text": [
      "Training: : 100%|████████████| 196/196 [00:45<00:00,  4.29batch/s, accuracy=11.7, loss=42.3]\n",
      "Validation: : 100%|█████████| 40/40 [00:03<00:00, 10.59batch/s, val_acc=10.9, val_loss=24.3]\n"
     ]
    },
    {
     "name": "stdout",
     "output_type": "stream",
     "text": [
      "\n",
      "epoch: 30 training loss = 42.3449, training accuracy = 11.74%, val_loss = 24.3049, val_accuracy = 10.93% & LR = 0.1000\n",
      "\n"
     ]
    },
    {
     "name": "stderr",
     "output_type": "stream",
     "text": [
      "Training: : 100%|████████████| 196/196 [00:45<00:00,  4.30batch/s, accuracy=11.9, loss=47.5]\n",
      "Validation: : 100%|█████████| 40/40 [00:03<00:00, 10.81batch/s, val_acc=11.1, val_loss=31.3]\n"
     ]
    },
    {
     "name": "stdout",
     "output_type": "stream",
     "text": [
      "\n",
      "epoch: 31 training loss = 47.5041, training accuracy = 11.92%, val_loss = 31.2580, val_accuracy = 11.13% & LR = 0.1000\n",
      "\n"
     ]
    },
    {
     "name": "stderr",
     "output_type": "stream",
     "text": [
      "Training: : 100%|████████████| 196/196 [00:45<00:00,  4.31batch/s, accuracy=12.3, loss=42.8]\n",
      "Validation: : 100%|█████████| 40/40 [00:03<00:00, 10.77batch/s, val_acc=10.1, val_loss=13.8]\n"
     ]
    },
    {
     "name": "stdout",
     "output_type": "stream",
     "text": [
      "\n",
      "epoch: 32 training loss = 42.7923, training accuracy = 12.34%, val_loss = 13.8361, val_accuracy = 10.11% & LR = 0.0100\n",
      "\n"
     ]
    },
    {
     "name": "stderr",
     "output_type": "stream",
     "text": [
      "Training: : 100%|██████████████| 196/196 [00:45<00:00,  4.31batch/s, accuracy=15, loss=5.51]\n",
      "Validation: : 100%|██████████| 40/40 [00:03<00:00, 10.74batch/s, val_acc=13.2, val_loss=6.1]\n"
     ]
    },
    {
     "name": "stdout",
     "output_type": "stream",
     "text": [
      "\n",
      "epoch: 33 training loss = 5.5133, training accuracy = 15.02%, val_loss = 6.1044, val_accuracy = 13.25% & LR = 0.0100\n",
      "\n"
     ]
    },
    {
     "name": "stderr",
     "output_type": "stream",
     "text": [
      "Training: : 100%|█████████████| 196/196 [00:45<00:00,  4.30batch/s, accuracy=15.1, loss=4.2]\n",
      "Validation: : 100%|█████████| 40/40 [00:03<00:00, 10.62batch/s, val_acc=13.3, val_loss=5.29]\n"
     ]
    },
    {
     "name": "stdout",
     "output_type": "stream",
     "text": [
      "\n",
      "epoch: 34 training loss = 4.1963, training accuracy = 15.11%, val_loss = 5.2895, val_accuracy = 13.30% & LR = 0.0100\n",
      "\n"
     ]
    },
    {
     "name": "stderr",
     "output_type": "stream",
     "text": [
      "Training: : 100%|████████████| 196/196 [00:45<00:00,  4.31batch/s, accuracy=15.3, loss=3.53]\n",
      "Validation: : 100%|█████████| 40/40 [00:03<00:00, 10.56batch/s, val_acc=12.7, val_loss=4.29]\n"
     ]
    },
    {
     "name": "stdout",
     "output_type": "stream",
     "text": [
      "\n",
      "epoch: 35 training loss = 3.5301, training accuracy = 15.26%, val_loss = 4.2887, val_accuracy = 12.71% & LR = 0.0100\n",
      "\n"
     ]
    },
    {
     "name": "stderr",
     "output_type": "stream",
     "text": [
      "Training: : 100%|██████████████| 196/196 [00:45<00:00,  4.31batch/s, accuracy=15, loss=3.02]\n",
      "Validation: : 100%|██████████| 40/40 [00:03<00:00, 10.51batch/s, val_acc=13.2, val_loss=3.6]\n"
     ]
    },
    {
     "name": "stdout",
     "output_type": "stream",
     "text": [
      "\n",
      "epoch: 36 training loss = 3.0229, training accuracy = 15.05%, val_loss = 3.5961, val_accuracy = 13.16% & LR = 0.0100\n",
      "\n"
     ]
    },
    {
     "name": "stderr",
     "output_type": "stream",
     "text": [
      "Training: : 100%|████████████| 196/196 [00:45<00:00,  4.32batch/s, accuracy=15.3, loss=2.72]\n",
      "Validation: : 100%|█████████| 40/40 [00:03<00:00, 10.80batch/s, val_acc=13.7, val_loss=3.03]\n"
     ]
    },
    {
     "name": "stdout",
     "output_type": "stream",
     "text": [
      "\n",
      "epoch: 37 training loss = 2.7161, training accuracy = 15.26%, val_loss = 3.0329, val_accuracy = 13.68% & LR = 0.0100\n",
      "\n"
     ]
    },
    {
     "name": "stderr",
     "output_type": "stream",
     "text": [
      "Training: : 100%|████████████| 196/196 [00:45<00:00,  4.30batch/s, accuracy=15.2, loss=2.54]\n",
      "Validation: : 100%|█████████| 40/40 [00:03<00:00, 10.62batch/s, val_acc=13.2, val_loss=3.04]\n"
     ]
    },
    {
     "name": "stdout",
     "output_type": "stream",
     "text": [
      "\n",
      "epoch: 38 training loss = 2.5398, training accuracy = 15.22%, val_loss = 3.0351, val_accuracy = 13.19% & LR = 0.0100\n",
      "\n"
     ]
    },
    {
     "name": "stderr",
     "output_type": "stream",
     "text": [
      "Training: : 100%|████████████| 196/196 [00:45<00:00,  4.30batch/s, accuracy=15.4, loss=2.44]\n",
      "Validation: : 100%|█████████| 40/40 [00:03<00:00, 10.71batch/s, val_acc=11.1, val_loss=2.85]\n"
     ]
    },
    {
     "name": "stdout",
     "output_type": "stream",
     "text": [
      "\n",
      "epoch: 39 training loss = 2.4362, training accuracy = 15.39%, val_loss = 2.8490, val_accuracy = 11.11% & LR = 0.0100\n",
      "\n"
     ]
    },
    {
     "name": "stderr",
     "output_type": "stream",
     "text": [
      "Training: : 100%|██████████████| 196/196 [00:45<00:00,  4.34batch/s, accuracy=15, loss=2.37]\n",
      "Validation: : 100%|█████████| 40/40 [00:03<00:00, 10.81batch/s, val_acc=10.7, val_loss=2.78]\n"
     ]
    },
    {
     "name": "stdout",
     "output_type": "stream",
     "text": [
      "\n",
      "epoch: 40 training loss = 2.3676, training accuracy = 15.03%, val_loss = 2.7751, val_accuracy = 10.68% & LR = 0.0100\n",
      "\n"
     ]
    },
    {
     "name": "stderr",
     "output_type": "stream",
     "text": [
      "Training: : 100%|████████████| 196/196 [00:45<00:00,  4.30batch/s, accuracy=15.1, loss=2.32]\n",
      "Validation: : 100%|█████████| 40/40 [00:03<00:00, 10.56batch/s, val_acc=10.8, val_loss=2.75]\n"
     ]
    },
    {
     "name": "stdout",
     "output_type": "stream",
     "text": [
      "\n",
      "epoch: 41 training loss = 2.3211, training accuracy = 15.05%, val_loss = 2.7475, val_accuracy = 10.84% & LR = 0.0100\n",
      "\n"
     ]
    },
    {
     "name": "stderr",
     "output_type": "stream",
     "text": [
      "Training: : 100%|████████████| 196/196 [00:45<00:00,  4.28batch/s, accuracy=14.9, loss=2.33]\n",
      "Validation: : 100%|█████████| 40/40 [00:03<00:00, 10.79batch/s, val_acc=10.6, val_loss=2.73]\n"
     ]
    },
    {
     "name": "stdout",
     "output_type": "stream",
     "text": [
      "\n",
      "epoch: 42 training loss = 2.3341, training accuracy = 14.85%, val_loss = 2.7309, val_accuracy = 10.59% & LR = 0.0100\n",
      "\n"
     ]
    },
    {
     "name": "stderr",
     "output_type": "stream",
     "text": [
      "Training: : 100%|█████████████| 196/196 [00:45<00:00,  4.30batch/s, accuracy=15.4, loss=2.3]\n",
      "Validation: : 100%|█████████| 40/40 [00:03<00:00, 10.75batch/s, val_acc=10.2, val_loss=2.69]\n"
     ]
    },
    {
     "name": "stdout",
     "output_type": "stream",
     "text": [
      "\n",
      "epoch: 43 training loss = 2.3043, training accuracy = 15.36%, val_loss = 2.6895, val_accuracy = 10.15% & LR = 0.0100\n",
      "\n"
     ]
    },
    {
     "name": "stderr",
     "output_type": "stream",
     "text": [
      "Training: : 100%|████████████| 196/196 [00:45<00:00,  4.32batch/s, accuracy=15.3, loss=2.29]\n",
      "Validation: : 100%|█████████| 40/40 [00:03<00:00, 10.76batch/s, val_acc=10.1, val_loss=2.78]\n"
     ]
    },
    {
     "name": "stdout",
     "output_type": "stream",
     "text": [
      "\n",
      "epoch: 44 training loss = 2.2930, training accuracy = 15.31%, val_loss = 2.7837, val_accuracy = 10.12% & LR = 0.0100\n",
      "\n"
     ]
    },
    {
     "name": "stderr",
     "output_type": "stream",
     "text": [
      "Training: : 100%|████████████| 196/196 [00:45<00:00,  4.31batch/s, accuracy=15.6, loss=2.29]\n",
      "Validation: : 100%|█████████| 40/40 [00:03<00:00, 10.75batch/s, val_acc=10.1, val_loss=2.84]\n"
     ]
    },
    {
     "name": "stdout",
     "output_type": "stream",
     "text": [
      "\n",
      "epoch: 45 training loss = 2.2863, training accuracy = 15.61%, val_loss = 2.8426, val_accuracy = 10.13% & LR = 0.0100\n",
      "\n"
     ]
    },
    {
     "name": "stderr",
     "output_type": "stream",
     "text": [
      "Training: : 100%|████████████| 196/196 [00:45<00:00,  4.30batch/s, accuracy=15.2, loss=2.29]\n",
      "Validation: : 100%|█████████| 40/40 [00:03<00:00, 10.79batch/s, val_acc=10.1, val_loss=2.72]\n"
     ]
    },
    {
     "name": "stdout",
     "output_type": "stream",
     "text": [
      "\n",
      "epoch: 46 training loss = 2.2914, training accuracy = 15.20%, val_loss = 2.7153, val_accuracy = 10.13% & LR = 0.0100\n",
      "\n"
     ]
    },
    {
     "name": "stderr",
     "output_type": "stream",
     "text": [
      "Training: : 100%|████████████| 196/196 [00:45<00:00,  4.30batch/s, accuracy=15.2, loss=2.29]\n",
      "Validation: : 100%|█████████| 40/40 [00:03<00:00, 10.75batch/s, val_acc=10.2, val_loss=2.73]\n"
     ]
    },
    {
     "name": "stdout",
     "output_type": "stream",
     "text": [
      "\n",
      "epoch: 47 training loss = 2.2866, training accuracy = 15.24%, val_loss = 2.7349, val_accuracy = 10.23% & LR = 0.0100\n",
      "\n"
     ]
    },
    {
     "name": "stderr",
     "output_type": "stream",
     "text": [
      "Training: : 100%|████████████| 196/196 [00:45<00:00,  4.30batch/s, accuracy=15.3, loss=2.29]\n",
      "Validation: : 100%|█████████| 40/40 [00:03<00:00, 10.77batch/s, val_acc=10.5, val_loss=2.67]\n"
     ]
    },
    {
     "name": "stdout",
     "output_type": "stream",
     "text": [
      "\n",
      "epoch: 48 training loss = 2.2853, training accuracy = 15.31%, val_loss = 2.6665, val_accuracy = 10.54% & LR = 0.0100\n",
      "\n"
     ]
    },
    {
     "name": "stderr",
     "output_type": "stream",
     "text": [
      "Training: : 100%|█████████████| 196/196 [00:45<00:00,  4.29batch/s, accuracy=15.3, loss=2.3]\n",
      "Validation: : 100%|█████████| 40/40 [00:03<00:00, 10.62batch/s, val_acc=10.2, val_loss=2.73]\n"
     ]
    },
    {
     "name": "stdout",
     "output_type": "stream",
     "text": [
      "\n",
      "epoch: 49 training loss = 2.3017, training accuracy = 15.28%, val_loss = 2.7332, val_accuracy = 10.16% & LR = 0.0100\n",
      "\n"
     ]
    },
    {
     "name": "stderr",
     "output_type": "stream",
     "text": [
      "Training: : 100%|█████████████| 196/196 [00:45<00:00,  4.30batch/s, accuracy=15.3, loss=2.3]\n",
      "Validation: : 100%|█████████| 40/40 [00:03<00:00, 10.86batch/s, val_acc=10.1, val_loss=2.65]\n"
     ]
    },
    {
     "name": "stdout",
     "output_type": "stream",
     "text": [
      "\n",
      "epoch: 50 training loss = 2.2954, training accuracy = 15.35%, val_loss = 2.6500, val_accuracy = 10.10% & LR = 0.0100\n",
      "\n"
     ]
    },
    {
     "name": "stderr",
     "output_type": "stream",
     "text": [
      "Training: : 100%|████████████| 196/196 [00:45<00:00,  4.30batch/s, accuracy=15.1, loss=2.29]\n",
      "Validation: : 100%|█████████| 40/40 [00:03<00:00, 10.72batch/s, val_acc=10.1, val_loss=2.76]\n"
     ]
    },
    {
     "name": "stdout",
     "output_type": "stream",
     "text": [
      "\n",
      "epoch: 51 training loss = 2.2881, training accuracy = 15.14%, val_loss = 2.7582, val_accuracy = 10.08% & LR = 0.0100\n",
      "\n"
     ]
    },
    {
     "name": "stderr",
     "output_type": "stream",
     "text": [
      "Training: : 100%|█████████████| 196/196 [00:45<00:00,  4.29batch/s, accuracy=15.1, loss=2.3]\n",
      "Validation: : 100%|█████████| 40/40 [00:03<00:00, 10.65batch/s, val_acc=10.1, val_loss=2.85]\n"
     ]
    },
    {
     "name": "stdout",
     "output_type": "stream",
     "text": [
      "\n",
      "epoch: 52 training loss = 2.2957, training accuracy = 15.11%, val_loss = 2.8525, val_accuracy = 10.14% & LR = 0.0100\n",
      "\n"
     ]
    },
    {
     "name": "stderr",
     "output_type": "stream",
     "text": [
      "Training: : 100%|████████████| 196/196 [00:45<00:00,  4.28batch/s, accuracy=15.1, loss=2.29]\n",
      "Validation: : 100%|█████████| 40/40 [00:03<00:00, 10.74batch/s, val_acc=10.3, val_loss=2.61]\n"
     ]
    },
    {
     "name": "stdout",
     "output_type": "stream",
     "text": [
      "\n",
      "epoch: 53 training loss = 2.2889, training accuracy = 15.10%, val_loss = 2.6106, val_accuracy = 10.33% & LR = 0.0100\n",
      "\n"
     ]
    },
    {
     "name": "stderr",
     "output_type": "stream",
     "text": [
      "Training: : 100%|████████████| 196/196 [00:45<00:00,  4.32batch/s, accuracy=15.2, loss=2.29]\n",
      "Validation: : 100%|█████████| 40/40 [00:03<00:00, 10.72batch/s, val_acc=10.2, val_loss=2.78]\n"
     ]
    },
    {
     "name": "stdout",
     "output_type": "stream",
     "text": [
      "\n",
      "epoch: 54 training loss = 2.2901, training accuracy = 15.22%, val_loss = 2.7795, val_accuracy = 10.17% & LR = 0.0100\n",
      "\n"
     ]
    },
    {
     "name": "stderr",
     "output_type": "stream",
     "text": [
      "Training: : 100%|█████████████| 196/196 [00:46<00:00,  4.25batch/s, accuracy=15.1, loss=2.3]\n",
      "Validation: : 100%|█████████| 40/40 [00:03<00:00, 10.75batch/s, val_acc=12.9, val_loss=2.68]\n"
     ]
    },
    {
     "name": "stdout",
     "output_type": "stream",
     "text": [
      "\n",
      "epoch: 55 training loss = 2.2978, training accuracy = 15.07%, val_loss = 2.6817, val_accuracy = 12.93% & LR = 0.0100\n",
      "\n"
     ]
    },
    {
     "name": "stderr",
     "output_type": "stream",
     "text": [
      "Training: : 100%|██████████████| 196/196 [00:45<00:00,  4.29batch/s, accuracy=15, loss=2.31]\n",
      "Validation: : 100%|█████████| 40/40 [00:03<00:00, 10.85batch/s, val_acc=10.2, val_loss=2.84]\n"
     ]
    },
    {
     "name": "stdout",
     "output_type": "stream",
     "text": [
      "\n",
      "epoch: 56 training loss = 2.3110, training accuracy = 14.98%, val_loss = 2.8366, val_accuracy = 10.17% & LR = 0.0100\n",
      "\n"
     ]
    },
    {
     "name": "stderr",
     "output_type": "stream",
     "text": [
      "Training: : 100%|████████████| 196/196 [00:45<00:00,  4.32batch/s, accuracy=15.4, loss=2.28]\n",
      "Validation: : 100%|█████████| 40/40 [00:03<00:00, 10.83batch/s, val_acc=10.2, val_loss=2.66]\n"
     ]
    },
    {
     "name": "stdout",
     "output_type": "stream",
     "text": [
      "\n",
      "epoch: 57 training loss = 2.2815, training accuracy = 15.36%, val_loss = 2.6614, val_accuracy = 10.24% & LR = 0.0010\n",
      "\n"
     ]
    },
    {
     "name": "stderr",
     "output_type": "stream",
     "text": [
      "Training: : 100%|████████████| 196/196 [00:45<00:00,  4.30batch/s, accuracy=16.4, loss=2.23]\n",
      "Validation: : 100%|█████████| 40/40 [00:03<00:00, 10.64batch/s, val_acc=10.2, val_loss=2.67]\n"
     ]
    },
    {
     "name": "stdout",
     "output_type": "stream",
     "text": [
      "\n",
      "epoch: 58 training loss = 2.2283, training accuracy = 16.42%, val_loss = 2.6738, val_accuracy = 10.16% & LR = 0.0010\n",
      "\n"
     ]
    },
    {
     "name": "stderr",
     "output_type": "stream",
     "text": [
      "Training: : 100%|████████████| 196/196 [00:45<00:00,  4.30batch/s, accuracy=16.7, loss=2.23]\n",
      "Validation: : 100%|█████████| 40/40 [00:03<00:00, 10.64batch/s, val_acc=10.2, val_loss=2.64]\n"
     ]
    },
    {
     "name": "stdout",
     "output_type": "stream",
     "text": [
      "\n",
      "epoch: 59 training loss = 2.2280, training accuracy = 16.69%, val_loss = 2.6423, val_accuracy = 10.16% & LR = 0.0010\n",
      "\n"
     ]
    },
    {
     "name": "stderr",
     "output_type": "stream",
     "text": [
      "Training: : 100%|████████████| 196/196 [00:46<00:00,  4.25batch/s, accuracy=16.5, loss=2.23]\n",
      "Validation: : 100%|█████████| 40/40 [00:03<00:00, 10.65batch/s, val_acc=10.3, val_loss=2.62]\n"
     ]
    },
    {
     "name": "stdout",
     "output_type": "stream",
     "text": [
      "\n",
      "epoch: 60 training loss = 2.2280, training accuracy = 16.46%, val_loss = 2.6209, val_accuracy = 10.30% & LR = 0.0010\n",
      "\n"
     ]
    },
    {
     "name": "stderr",
     "output_type": "stream",
     "text": [
      "Training: : 100%|████████████| 196/196 [00:45<00:00,  4.28batch/s, accuracy=16.9, loss=2.23]\n",
      "Validation: : 100%|█████████| 40/40 [00:03<00:00, 10.55batch/s, val_acc=10.2, val_loss=2.63]\n"
     ]
    },
    {
     "name": "stdout",
     "output_type": "stream",
     "text": [
      "\n",
      "epoch: 61 training loss = 2.2257, training accuracy = 16.85%, val_loss = 2.6295, val_accuracy = 10.23% & LR = 0.0010\n",
      "\n"
     ]
    },
    {
     "name": "stderr",
     "output_type": "stream",
     "text": [
      "Training: : 100%|████████████| 196/196 [00:46<00:00,  4.20batch/s, accuracy=16.9, loss=2.22]\n",
      "Validation: : 100%|█████████| 40/40 [00:03<00:00, 10.68batch/s, val_acc=10.2, val_loss=2.65]\n"
     ]
    },
    {
     "name": "stdout",
     "output_type": "stream",
     "text": [
      "\n",
      "epoch: 62 training loss = 2.2248, training accuracy = 16.90%, val_loss = 2.6499, val_accuracy = 10.17% & LR = 0.0010\n",
      "\n"
     ]
    },
    {
     "name": "stderr",
     "output_type": "stream",
     "text": [
      "Training: : 100%|██████████████| 196/196 [00:46<00:00,  4.24batch/s, accuracy=17, loss=2.22]\n",
      "Validation: : 100%|█████████| 40/40 [00:03<00:00, 10.88batch/s, val_acc=10.1, val_loss=2.66]\n"
     ]
    },
    {
     "name": "stdout",
     "output_type": "stream",
     "text": [
      "\n",
      "epoch: 63 training loss = 2.2242, training accuracy = 16.99%, val_loss = 2.6599, val_accuracy = 10.14% & LR = 0.0010\n",
      "\n"
     ]
    },
    {
     "name": "stderr",
     "output_type": "stream",
     "text": [
      "Training: : 100%|████████████| 196/196 [00:45<00:00,  4.30batch/s, accuracy=16.9, loss=2.22]\n",
      "Validation: : 100%|█████████| 40/40 [00:03<00:00, 11.15batch/s, val_acc=10.2, val_loss=2.66]\n"
     ]
    },
    {
     "name": "stdout",
     "output_type": "stream",
     "text": [
      "\n",
      "epoch: 64 training loss = 2.2221, training accuracy = 16.94%, val_loss = 2.6572, val_accuracy = 10.22% & LR = 0.0010\n",
      "\n"
     ]
    },
    {
     "name": "stderr",
     "output_type": "stream",
     "text": [
      "Training: : 100%|████████████| 196/196 [00:44<00:00,  4.36batch/s, accuracy=16.9, loss=2.22]\n",
      "Validation: : 100%|█████████| 40/40 [00:03<00:00, 11.10batch/s, val_acc=10.3, val_loss=2.63]\n"
     ]
    },
    {
     "name": "stdout",
     "output_type": "stream",
     "text": [
      "\n",
      "epoch: 65 training loss = 2.2240, training accuracy = 16.92%, val_loss = 2.6275, val_accuracy = 10.28% & LR = 0.0010\n",
      "\n"
     ]
    },
    {
     "name": "stderr",
     "output_type": "stream",
     "text": [
      "Training: : 100%|████████████| 196/196 [00:45<00:00,  4.36batch/s, accuracy=16.8, loss=2.22]\n",
      "Validation: : 100%|█████████| 40/40 [00:03<00:00, 10.52batch/s, val_acc=10.1, val_loss=2.69]\n"
     ]
    },
    {
     "name": "stdout",
     "output_type": "stream",
     "text": [
      "\n",
      "epoch: 66 training loss = 2.2230, training accuracy = 16.81%, val_loss = 2.6914, val_accuracy = 10.12% & LR = 0.0010\n",
      "\n"
     ]
    },
    {
     "name": "stderr",
     "output_type": "stream",
     "text": [
      "Training: : 100%|██████████████| 196/196 [00:46<00:00,  4.21batch/s, accuracy=17, loss=2.22]\n",
      "Validation: : 100%|█████████| 40/40 [00:03<00:00, 11.15batch/s, val_acc=10.1, val_loss=2.66]\n"
     ]
    },
    {
     "name": "stdout",
     "output_type": "stream",
     "text": [
      "\n",
      "epoch: 67 training loss = 2.2198, training accuracy = 16.98%, val_loss = 2.6609, val_accuracy = 10.12% & LR = 0.0010\n",
      "\n"
     ]
    },
    {
     "name": "stderr",
     "output_type": "stream",
     "text": [
      "Training: : 100%|████████████| 196/196 [00:44<00:00,  4.36batch/s, accuracy=16.7, loss=2.22]\n",
      "Validation: : 100%|█████████| 40/40 [00:03<00:00, 10.92batch/s, val_acc=10.2, val_loss=2.65]\n"
     ]
    },
    {
     "name": "stdout",
     "output_type": "stream",
     "text": [
      "\n",
      "epoch: 68 training loss = 2.2209, training accuracy = 16.66%, val_loss = 2.6504, val_accuracy = 10.15% & LR = 0.0010\n",
      "\n"
     ]
    },
    {
     "name": "stderr",
     "output_type": "stream",
     "text": [
      "Training: : 100%|████████████| 196/196 [00:45<00:00,  4.35batch/s, accuracy=17.2, loss=2.22]\n",
      "Validation: : 100%|█████████| 40/40 [00:03<00:00, 10.98batch/s, val_acc=10.2, val_loss=2.62]\n"
     ]
    },
    {
     "name": "stdout",
     "output_type": "stream",
     "text": [
      "\n",
      "epoch: 69 training loss = 2.2202, training accuracy = 17.19%, val_loss = 2.6159, val_accuracy = 10.16% & LR = 0.0010\n",
      "\n"
     ]
    },
    {
     "name": "stderr",
     "output_type": "stream",
     "text": [
      "Training: : 100%|████████████| 196/196 [00:45<00:00,  4.34batch/s, accuracy=16.8, loss=2.22]\n",
      "Validation: : 100%|█████████| 40/40 [00:03<00:00, 10.92batch/s, val_acc=10.2, val_loss=2.67]\n"
     ]
    },
    {
     "name": "stdout",
     "output_type": "stream",
     "text": [
      "\n",
      "epoch: 70 training loss = 2.2209, training accuracy = 16.80%, val_loss = 2.6725, val_accuracy = 10.19% & LR = 0.0010\n",
      "\n"
     ]
    },
    {
     "name": "stderr",
     "output_type": "stream",
     "text": [
      "Training: : 100%|████████████| 196/196 [00:45<00:00,  4.33batch/s, accuracy=16.8, loss=2.22]\n",
      "Validation: : 100%|█████████| 40/40 [00:03<00:00, 10.35batch/s, val_acc=10.4, val_loss=2.64]\n"
     ]
    },
    {
     "name": "stdout",
     "output_type": "stream",
     "text": [
      "\n",
      "epoch: 71 training loss = 2.2218, training accuracy = 16.83%, val_loss = 2.6378, val_accuracy = 10.36% & LR = 0.0010\n",
      "\n"
     ]
    },
    {
     "name": "stderr",
     "output_type": "stream",
     "text": [
      "Training: : 100%|████████████| 196/196 [00:46<00:00,  4.22batch/s, accuracy=16.8, loss=2.22]\n",
      "Validation: : 100%|█████████| 40/40 [00:03<00:00, 11.15batch/s, val_acc=10.1, val_loss=2.64]\n"
     ]
    },
    {
     "name": "stdout",
     "output_type": "stream",
     "text": [
      "\n",
      "epoch: 72 training loss = 2.2206, training accuracy = 16.84%, val_loss = 2.6394, val_accuracy = 10.14% & LR = 0.0010\n",
      "\n"
     ]
    },
    {
     "name": "stderr",
     "output_type": "stream",
     "text": [
      "Training: : 100%|████████████| 196/196 [00:44<00:00,  4.36batch/s, accuracy=16.8, loss=2.22]\n",
      "Validation: : 100%|█████████| 40/40 [00:03<00:00, 10.40batch/s, val_acc=10.2, val_loss=2.68]\n"
     ]
    },
    {
     "name": "stdout",
     "output_type": "stream",
     "text": [
      "\n",
      "epoch: 73 training loss = 2.2212, training accuracy = 16.79%, val_loss = 2.6779, val_accuracy = 10.16% & LR = 0.0010\n",
      "\n"
     ]
    },
    {
     "name": "stderr",
     "output_type": "stream",
     "text": [
      "Training: : 100%|████████████| 196/196 [00:45<00:00,  4.33batch/s, accuracy=17.1, loss=2.22]\n",
      "Validation: : 100%|█████████| 40/40 [00:03<00:00, 10.97batch/s, val_acc=10.2, val_loss=2.66]\n"
     ]
    },
    {
     "name": "stdout",
     "output_type": "stream",
     "text": [
      "\n",
      "epoch: 74 training loss = 2.2206, training accuracy = 17.06%, val_loss = 2.6588, val_accuracy = 10.16% & LR = 0.0010\n",
      "\n"
     ]
    },
    {
     "name": "stderr",
     "output_type": "stream",
     "text": [
      "Training: : 100%|████████████| 196/196 [00:45<00:00,  4.35batch/s, accuracy=17.2, loss=2.22]\n",
      "Validation: : 100%|█████████| 40/40 [00:03<00:00, 11.05batch/s, val_acc=10.1, val_loss=2.68]\n"
     ]
    },
    {
     "name": "stdout",
     "output_type": "stream",
     "text": [
      "\n",
      "epoch: 75 training loss = 2.2161, training accuracy = 17.19%, val_loss = 2.6779, val_accuracy = 10.11% & LR = 0.0010\n",
      "\n"
     ]
    },
    {
     "name": "stderr",
     "output_type": "stream",
     "text": [
      "Training: : 100%|████████████| 196/196 [00:45<00:00,  4.34batch/s, accuracy=17.2, loss=2.22]\n",
      "Validation: : 100%|█████████| 40/40 [00:03<00:00, 10.90batch/s, val_acc=10.1, val_loss=2.67]\n"
     ]
    },
    {
     "name": "stdout",
     "output_type": "stream",
     "text": [
      "\n",
      "epoch: 76 training loss = 2.2176, training accuracy = 17.21%, val_loss = 2.6696, val_accuracy = 10.14% & LR = 0.0010\n",
      "\n"
     ]
    },
    {
     "name": "stderr",
     "output_type": "stream",
     "text": [
      "Training: : 100%|████████████| 196/196 [00:45<00:00,  4.33batch/s, accuracy=17.3, loss=2.22]\n",
      "Validation: : 100%|█████████| 40/40 [00:03<00:00, 10.87batch/s, val_acc=10.2, val_loss=2.65]\n"
     ]
    },
    {
     "name": "stdout",
     "output_type": "stream",
     "text": [
      "\n",
      "epoch: 77 training loss = 2.2195, training accuracy = 17.28%, val_loss = 2.6523, val_accuracy = 10.15% & LR = 0.0010\n",
      "\n"
     ]
    },
    {
     "name": "stderr",
     "output_type": "stream",
     "text": [
      "Training: : 100%|██████████████| 196/196 [00:45<00:00,  4.27batch/s, accuracy=17, loss=2.22]\n",
      "Validation: : 100%|█████████| 40/40 [00:03<00:00, 10.71batch/s, val_acc=10.1, val_loss=2.67]\n"
     ]
    },
    {
     "name": "stdout",
     "output_type": "stream",
     "text": [
      "\n",
      "epoch: 78 training loss = 2.2197, training accuracy = 16.97%, val_loss = 2.6693, val_accuracy = 10.13% & LR = 0.0010\n",
      "\n"
     ]
    },
    {
     "name": "stderr",
     "output_type": "stream",
     "text": [
      "Training: : 100%|██████████████| 196/196 [00:45<00:00,  4.32batch/s, accuracy=17, loss=2.22]\n",
      "Validation: : 100%|█████████| 40/40 [00:03<00:00, 10.65batch/s, val_acc=10.2, val_loss=2.63]\n"
     ]
    },
    {
     "name": "stdout",
     "output_type": "stream",
     "text": [
      "\n",
      "epoch: 79 training loss = 2.2200, training accuracy = 17.03%, val_loss = 2.6345, val_accuracy = 10.21% & LR = 0.0010\n",
      "\n"
     ]
    },
    {
     "name": "stderr",
     "output_type": "stream",
     "text": [
      "Training: : 100%|████████████| 196/196 [00:45<00:00,  4.31batch/s, accuracy=17.2, loss=2.22]\n",
      "Validation: : 100%|█████████| 40/40 [00:03<00:00, 10.70batch/s, val_acc=10.2, val_loss=2.64]"
     ]
    },
    {
     "name": "stdout",
     "output_type": "stream",
     "text": [
      "\n",
      "epoch: 80 training loss = 2.2211, training accuracy = 17.20%, val_loss = 2.6410, val_accuracy = 10.18% & LR = 0.0010\n",
      "\n"
     ]
    },
    {
     "name": "stderr",
     "output_type": "stream",
     "text": [
      "\n"
     ]
    }
   ],
   "source": [
    "for epoch in range(num_epochs):\n",
    "\n",
    "    # Train and validate model for 1 epoch-\n",
    "    train_loss, train_acc = train_model_progress(\n",
    "        model = model, train_loader = train_loader,\n",
    "        train_dataset = train_dataset\n",
    "    )\n",
    "    val_loss, val_acc = test_model_progress(\n",
    "        model = model, test_loader = val_loader,\n",
    "        test_dataset = val_dataset\n",
    "    )\n",
    "    \n",
    "    print(f\"\\nepoch: {epoch + 1} training loss = {train_loss:.4f}, \"\n",
    "          f\"training accuracy = {train_acc:.2f}%, val_loss = {val_loss:.4f}\"\n",
    "          f\", val_accuracy = {val_acc:.2f}% & \"\n",
    "          f\"LR = {optimizer.param_groups[0]['lr']:.4f}\\n\")\n",
    "    \n",
    "    training_history_lr_scheduler[epoch + 1] = {\n",
    "        'loss': train_loss, 'acc': train_acc,\n",
    "        'val_loss': val_loss, 'val_acc': val_acc,\n",
    "        'lr': optimizer.param_groups[0]['lr']\n",
    "    }\n",
    "\n",
    "    \n",
    "    # Save best weights achieved until now-\n",
    "    if (val_acc > best_val_acc):    \n",
    "        # update 'best_val_acc' variable to highest val_acc encountered so far-\n",
    "        best_val_acc = val_acc\n",
    "\n",
    "        print(f\"Saving model with highest val_acc = {val_acc:.3f}\\n\")\n",
    "        \n",
    "        # Save trained model with 'best' validation accuracy-\n",
    "        torch.save(model.state_dict(), \"ResNet18_last_layer_best_model.pth\")\n",
    "        \n"
   ]
  },
  {
   "cell_type": "code",
   "execution_count": null,
   "id": "666492d4-485d-4b46-82a3-70b5adbfbe3c",
   "metadata": {},
   "outputs": [],
   "source": []
  },
  {
   "cell_type": "code",
   "execution_count": null,
   "id": "be6d09f7-e271-4205-a271-bfea16240ca5",
   "metadata": {},
   "outputs": [],
   "source": [
    "# Save model from last training epoch-\n",
    "# torch.save(model.state_dict(), \"ResNet18_last_epoch_model.pth\")"
   ]
  },
  {
   "cell_type": "code",
   "execution_count": 33,
   "id": "1918b651-99bd-4e4c-ac37-8716ffd8e6b8",
   "metadata": {},
   "outputs": [],
   "source": [
    "# Save training metrics as Python3 history for later analysis-\n",
    "with open(\"ResNet18_last_layer_training_history_lr_scheduler.pkl\", \"wb\") as file:\n",
    "    pickle.dump(training_history_lr_scheduler, file)"
   ]
  },
  {
   "cell_type": "code",
   "execution_count": null,
   "id": "21b9f417-81fb-40df-8e09-0e35f7127a1f",
   "metadata": {},
   "outputs": [],
   "source": []
  },
  {
   "cell_type": "code",
   "execution_count": null,
   "id": "eafe43cc-e51a-4f51-a258-21aaffb7b0b2",
   "metadata": {},
   "outputs": [],
   "source": []
  },
  {
   "cell_type": "code",
   "execution_count": 34,
   "id": "608ddc96-5beb-4e4d-9478-2c66b101997e",
   "metadata": {},
   "outputs": [
    {
     "data": {
      "image/png": "[encoded data removed]",
      "text/plain": [
       "<Figure size 900x700 with 1 Axes>"
      ]
     },
     "metadata": {},
     "output_type": "display_data"
    }
   ],
   "source": [
    "# Visualize ResNet-training-\n",
    "plt.figure(figsize = (9, 7))\n",
    "plt.plot(list(training_history_lr_scheduler.keys()), [training_history_lr_scheduler[k]['acc'] for k in training_history_lr_scheduler.keys()], label = 'training acc')\n",
    "plt.plot(list(training_history_lr_scheduler.keys()), [training_history_lr_scheduler[k]['val_acc'] for k in training_history_lr_scheduler.keys()], label = 'val acc')\n",
    "plt.title(\"ResNet-18: (Last-layer only) Training Accuracy\")\n",
    "plt.xlabel(\"epochs\")\n",
    "plt.ylabel(\"accuracy (%)\")\n",
    "plt.legend(loc = 'best')\n",
    "plt.show()"
   ]
  },
  {
   "cell_type": "code",
   "execution_count": 35,
   "id": "a01b669d-6094-4d48-b972-4b5424326cf1",
   "metadata": {},
   "outputs": [
    {
     "data": {
      "image/png": "[encoded data removed]",
      "text/plain": [
       "<Figure size 900x700 with 1 Axes>"
      ]
     },
     "metadata": {},
     "output_type": "display_data"
    }
   ],
   "source": [
    "plt.figure(figsize = (9, 7))\n",
    "plt.plot(list(training_history_lr_scheduler.keys()), [training_history_lr_scheduler[k]['loss'] for k in training_history_lr_scheduler.keys()], label = 'training loss')\n",
    "plt.plot(list(training_history_lr_scheduler.keys()), [training_history_lr_scheduler[k]['val_loss'] for k in training_history_lr_scheduler.keys()], label = 'val loss')\n",
    "plt.xlabel(\"epochs\")\n",
    "plt.ylabel(\"loss\")\n",
    "plt.legend(loc = 'best')\n",
    "plt.title(\"ResNet-18: (Last-layer only) Training Loss\")\n",
    "plt.show()"
   ]
  },
  {
   "cell_type": "code",
   "execution_count": 36,
   "id": "571645cc-ec74-4cf8-9416-7f96beb8816c",
   "metadata": {},
   "outputs": [
    {
     "data": {
      "image/png": "[encoded data removed]",
      "text/plain": [
       "<Figure size 900x700 with 1 Axes>"
      ]
     },
     "metadata": {},
     "output_type": "display_data"
    }
   ],
   "source": [
    "plt.figure(figsize = (9, 7))\n",
    "plt.plot(list(training_history_lr_scheduler.keys()), [training_history_lr_scheduler[k]['lr'] for k in training_history_lr_scheduler.keys()])\n",
    "plt.xlabel(\"epochs\")\n",
    "plt.ylabel(\"lr\")\n",
    "plt.title(\"ResNet-18: Learning-Rate\")\n",
    "plt.show()"
   ]
  },
  {
   "cell_type": "code",
   "execution_count": null,
   "id": "b0da4c0e-38d0-4a31-80b9-709c358827b0",
   "metadata": {},
   "outputs": [],
   "source": []
  },
  {
   "cell_type": "code",
   "execution_count": null,
   "id": "fbdb0487-bf7f-4044-8ac0-e9407d2fe506",
   "metadata": {},
   "outputs": [],
   "source": []
  }
 ],
 "metadata": {
  "kernelspec": {
   "display_name": "Python 3 (ipykernel)",
   "language": "python",
   "name": "python3"
  },
  "language_info": {
   "codemirror_mode": {
    "name": "ipython",
    "version": 3
   },
   "file_extension": ".py",
   "mimetype": "text/x-python",
   "name": "python",
   "nbconvert_exporter": "python",
   "pygments_lexer": "ipython3",
   "version": "3.10.8"
  }
 },
 "nbformat": 4,
 "nbformat_minor": 5
}
