{
  "nbformat": 4,
  "nbformat_minor": 5,
  "metadata": {
    "kernelspec": {
      "display_name": "Python 3",
      "language": "python",
      "name": "python3"
    },
    "language_info": {
      "codemirror_mode": {
        "name": "ipython",
        "version": 3
      },
      "file_extension": ".py",
      "mimetype": "text/x-python",
      "name": "python",
      "nbconvert_exporter": "python",
      "pygments_lexer": "ipython3",
      "version": "3.8.8"
    },
    "colab": {
      "name": "ResNet-34_CIFAR10-PyTorch.ipynb",
      "provenance": [],
      "collapsed_sections": []
    },
    "accelerator": "GPU",
    "widgets": {
      "application/vnd.jupyter.widget-state+json": {
        "c7ac81cf3ac34eab9d2e5a33b45d5c51": {
          "model_module": "@jupyter-widgets/controls",
          "model_name": "HBoxModel",
          "state": {
            "_view_name": "HBoxView",
            "_dom_classes": [],
            "_model_name": "HBoxModel",
            "_view_module": "@jupyter-widgets/controls",
            "_model_module_version": "1.5.0",
            "_view_count": null,
            "_view_module_version": "1.5.0",
            "box_style": "",
            "layout": "IPY_MODEL_24117fc5913f456097a5a0e5adb4cd18",
            "_model_module": "@jupyter-widgets/controls",
            "children": [
              "IPY_MODEL_03e58d26690e4d08843f8fe7b2c57cd4",
              "IPY_MODEL_91bb630d452e457f913ca1c166a8ccac"
            ]
          }
        },
        "24117fc5913f456097a5a0e5adb4cd18": {
          "model_module": "@jupyter-widgets/base",
          "model_name": "LayoutModel",
          "state": {
            "_view_name": "LayoutView",
            "grid_template_rows": null,
            "right": null,
            "justify_content": null,
            "_view_module": "@jupyter-widgets/base",
            "overflow": null,
            "_model_module_version": "1.2.0",
            "_view_count": null,
            "flex_flow": null,
            "width": null,
            "min_width": null,
            "border": null,
            "align_items": null,
            "bottom": null,
            "_model_module": "@jupyter-widgets/base",
            "top": null,
            "grid_column": null,
            "overflow_y": null,
            "overflow_x": null,
            "grid_auto_flow": null,
            "grid_area": null,
            "grid_template_columns": null,
            "flex": null,
            "_model_name": "LayoutModel",
            "justify_items": null,
            "grid_row": null,
            "max_height": null,
            "align_content": null,
            "visibility": null,
            "align_self": null,
            "height": null,
            "min_height": null,
            "padding": null,
            "grid_auto_rows": null,
            "grid_gap": null,
            "max_width": null,
            "order": null,
            "_view_module_version": "1.2.0",
            "grid_template_areas": null,
            "object_position": null,
            "object_fit": null,
            "grid_auto_columns": null,
            "margin": null,
            "display": null,
            "left": null
          }
        },
        "03e58d26690e4d08843f8fe7b2c57cd4": {
          "model_module": "@jupyter-widgets/controls",
          "model_name": "FloatProgressModel",
          "state": {
            "_view_name": "ProgressView",
            "style": "IPY_MODEL_54eb1e6f45654ec68db305cdb051e193",
            "_dom_classes": [],
            "description": "",
            "_model_name": "FloatProgressModel",
            "bar_style": "success",
            "max": 170498071,
            "_view_module": "@jupyter-widgets/controls",
            "_model_module_version": "1.5.0",
            "value": 170498071,
            "_view_count": null,
            "_view_module_version": "1.5.0",
            "orientation": "horizontal",
            "min": 0,
            "description_tooltip": null,
            "_model_module": "@jupyter-widgets/controls",
            "layout": "IPY_MODEL_1566dac587154e649623a51be7959fba"
          }
        },
        "91bb630d452e457f913ca1c166a8ccac": {
          "model_module": "@jupyter-widgets/controls",
          "model_name": "HTMLModel",
          "state": {
            "_view_name": "HTMLView",
            "style": "IPY_MODEL_4e63102e28b44ad3aa3140254237009a",
            "_dom_classes": [],
            "description": "",
            "_model_name": "HTMLModel",
            "placeholder": "​",
            "_view_module": "@jupyter-widgets/controls",
            "_model_module_version": "1.5.0",
            "value": " 170499072/? [28:23&lt;00:00, 100074.48it/s]",
            "_view_count": null,
            "_view_module_version": "1.5.0",
            "description_tooltip": null,
            "_model_module": "@jupyter-widgets/controls",
            "layout": "IPY_MODEL_f800d41b6ab549ce81b90f8be849dc59"
          }
        },
        "54eb1e6f45654ec68db305cdb051e193": {
          "model_module": "@jupyter-widgets/controls",
          "model_name": "ProgressStyleModel",
          "state": {
            "_view_name": "StyleView",
            "_model_name": "ProgressStyleModel",
            "description_width": "initial",
            "_view_module": "@jupyter-widgets/base",
            "_model_module_version": "1.5.0",
            "_view_count": null,
            "_view_module_version": "1.2.0",
            "bar_color": null,
            "_model_module": "@jupyter-widgets/controls"
          }
        },
        "1566dac587154e649623a51be7959fba": {
          "model_module": "@jupyter-widgets/base",
          "model_name": "LayoutModel",
          "state": {
            "_view_name": "LayoutView",
            "grid_template_rows": null,
            "right": null,
            "justify_content": null,
            "_view_module": "@jupyter-widgets/base",
            "overflow": null,
            "_model_module_version": "1.2.0",
            "_view_count": null,
            "flex_flow": null,
            "width": null,
            "min_width": null,
            "border": null,
            "align_items": null,
            "bottom": null,
            "_model_module": "@jupyter-widgets/base",
            "top": null,
            "grid_column": null,
            "overflow_y": null,
            "overflow_x": null,
            "grid_auto_flow": null,
            "grid_area": null,
            "grid_template_columns": null,
            "flex": null,
            "_model_name": "LayoutModel",
            "justify_items": null,
            "grid_row": null,
            "max_height": null,
            "align_content": null,
            "visibility": null,
            "align_self": null,
            "height": null,
            "min_height": null,
            "padding": null,
            "grid_auto_rows": null,
            "grid_gap": null,
            "max_width": null,
            "order": null,
            "_view_module_version": "1.2.0",
            "grid_template_areas": null,
            "object_position": null,
            "object_fit": null,
            "grid_auto_columns": null,
            "margin": null,
            "display": null,
            "left": null
          }
        },
        "4e63102e28b44ad3aa3140254237009a": {
          "model_module": "@jupyter-widgets/controls",
          "model_name": "DescriptionStyleModel",
          "state": {
            "_view_name": "StyleView",
            "_model_name": "DescriptionStyleModel",
            "description_width": "",
            "_view_module": "@jupyter-widgets/base",
            "_model_module_version": "1.5.0",
            "_view_count": null,
            "_view_module_version": "1.2.0",
            "_model_module": "@jupyter-widgets/controls"
          }
        },
        "f800d41b6ab549ce81b90f8be849dc59": {
          "model_module": "@jupyter-widgets/base",
          "model_name": "LayoutModel",
          "state": {
            "_view_name": "LayoutView",
            "grid_template_rows": null,
            "right": null,
            "justify_content": null,
            "_view_module": "@jupyter-widgets/base",
            "overflow": null,
            "_model_module_version": "1.2.0",
            "_view_count": null,
            "flex_flow": null,
            "width": null,
            "min_width": null,
            "border": null,
            "align_items": null,
            "bottom": null,
            "_model_module": "@jupyter-widgets/base",
            "top": null,
            "grid_column": null,
            "overflow_y": null,
            "overflow_x": null,
            "grid_auto_flow": null,
            "grid_area": null,
            "grid_template_columns": null,
            "flex": null,
            "_model_name": "LayoutModel",
            "justify_items": null,
            "grid_row": null,
            "max_height": null,
            "align_content": null,
            "visibility": null,
            "align_self": null,
            "height": null,
            "min_height": null,
            "padding": null,
            "grid_auto_rows": null,
            "grid_gap": null,
            "max_width": null,
            "order": null,
            "_view_module_version": "1.2.0",
            "grid_template_areas": null,
            "object_position": null,
            "object_fit": null,
            "grid_auto_columns": null,
            "margin": null,
            "display": null,
            "left": null
          }
        }
      }
    }
  },
  "cells": [
    {
      "cell_type": "markdown",
      "metadata": {
        "id": "young-kitty"
      },
      "source": [
        "# ResNet-34 Convolutional Neural Networks trained on CIFAR-10"
      ],
      "id": "young-kitty"
    },
    {
      "cell_type": "code",
      "metadata": {
        "id": "another-gibraltar"
      },
      "source": [
        "import torch\n",
        "import torch.nn as nn\n",
        "import torch.nn.functional as F\n",
        "import torchvision\n",
        "import torchvision.transforms as transforms\n",
        "import matplotlib.pyplot as plt\n",
        "import numpy as np\n",
        "import os"
      ],
      "id": "another-gibraltar",
      "execution_count": 1,
      "outputs": []
    },
    {
      "cell_type": "code",
      "metadata": {
        "id": "ongoing-addition"
      },
      "source": [
        ""
      ],
      "id": "ongoing-addition",
      "execution_count": null,
      "outputs": []
    },
    {
      "cell_type": "code",
      "metadata": {
        "colab": {
          "base_uri": "https://localhost:8080/"
        },
        "id": "weird-jersey",
        "outputId": "e9ab2e64-52c3-4451-dd6f-2203bc29b59b"
      },
      "source": [
        "# Device configuration-\n",
        "device = torch.device('cuda' if torch.cuda.is_available() else 'cpu')\n",
        "print(f\"currently available device: {device}\")"
      ],
      "id": "weird-jersey",
      "execution_count": 2,
      "outputs": [
        {
          "output_type": "stream",
          "text": [
            "currently available device: cuda\n"
          ],
          "name": "stdout"
        }
      ]
    },
    {
      "cell_type": "code",
      "metadata": {
        "id": "blocked-wages"
      },
      "source": [
        ""
      ],
      "id": "blocked-wages",
      "execution_count": null,
      "outputs": []
    },
    {
      "cell_type": "code",
      "metadata": {
        "id": "optional-butler"
      },
      "source": [
        "# Hyper-parameters-\n",
        "num_epochs = 200\n",
        "batch_size = 128\n",
        "learning_rate = 0.001"
      ],
      "id": "optional-butler",
      "execution_count": 3,
      "outputs": []
    },
    {
      "cell_type": "code",
      "metadata": {
        "id": "ethical-drain"
      },
      "source": [
        "# Define transformations for training and test sets-\n",
        "transform_train = transforms.Compose(\n",
        "    [\n",
        "      transforms.RandomCrop(32, padding = 4),\n",
        "      transforms.RandomHorizontalFlip(),\n",
        "      transforms.ToTensor(),\n",
        "      transforms.Normalize((0.4914, 0.4822, 0.4465), (0.2023, 0.1994, 0.2010)),\n",
        "     ]\n",
        "     )\n",
        "\n",
        "transform_test = transforms.Compose(\n",
        "    [\n",
        "      transforms.ToTensor(),\n",
        "      transforms.Normalize((0.4914, 0.4822, 0.4465), (0.2023, 0.1994, 0.2010)),\n",
        "     ]\n",
        "     )"
      ],
      "id": "ethical-drain",
      "execution_count": 4,
      "outputs": []
    },
    {
      "cell_type": "code",
      "metadata": {
        "id": "hired-collar"
      },
      "source": [
        "'''\n",
        "# Dataset has PILImage images of range [0, 1]. We transform them to Tensors\n",
        "# of normalized range [-1, 1]\n",
        "transform = transforms.Compose(\n",
        "        [\n",
        "            transforms.ToTensor(),\n",
        "            transforms.Normalize((0.5, 0.5, 0.5), (0.5, 0.5, 0.5))\n",
        "            ]\n",
        "        )\n",
        "'''"
      ],
      "id": "hired-collar",
      "execution_count": null,
      "outputs": []
    },
    {
      "cell_type": "code",
      "metadata": {
        "id": "valuable-floor"
      },
      "source": [
        ""
      ],
      "id": "valuable-floor",
      "execution_count": null,
      "outputs": []
    },
    {
      "cell_type": "code",
      "metadata": {
        "id": "public-mother"
      },
      "source": [
        "# os.chdir(\"/home/arjun/Documents/Programs/Python_Codes/PyTorch_Resources/Good_Codes/\")"
      ],
      "id": "public-mother",
      "execution_count": null,
      "outputs": []
    },
    {
      "cell_type": "code",
      "metadata": {
        "colab": {
          "base_uri": "https://localhost:8080/",
          "height": 118,
          "referenced_widgets": [
            "c7ac81cf3ac34eab9d2e5a33b45d5c51",
            "24117fc5913f456097a5a0e5adb4cd18",
            "03e58d26690e4d08843f8fe7b2c57cd4",
            "91bb630d452e457f913ca1c166a8ccac",
            "54eb1e6f45654ec68db305cdb051e193",
            "1566dac587154e649623a51be7959fba",
            "4e63102e28b44ad3aa3140254237009a",
            "f800d41b6ab549ce81b90f8be849dc59"
          ]
        },
        "id": "prepared-integral",
        "outputId": "8abe543b-d9a8-461f-952f-1527815f31ef"
      },
      "source": [
        "# Load dataset-\n",
        "train_dataset = torchvision.datasets.CIFAR10(\n",
        "        root = './data', train = True,\n",
        "        download = True, transform = transform_train\n",
        "        )\n",
        "\n",
        "test_dataset = torchvision.datasets.CIFAR10(\n",
        "        root = './data', train = False,\n",
        "        download = True, transform = transform_test\n",
        "        )"
      ],
      "id": "prepared-integral",
      "execution_count": 5,
      "outputs": [
        {
          "output_type": "stream",
          "text": [
            "Downloading https://www.cs.toronto.edu/~kriz/cifar-10-python.tar.gz to ./data/cifar-10-python.tar.gz\n"
          ],
          "name": "stdout"
        },
        {
          "output_type": "display_data",
          "data": {
            "application/vnd.jupyter.widget-view+json": {
              "model_id": "c7ac81cf3ac34eab9d2e5a33b45d5c51",
              "version_minor": 0,
              "version_major": 2
            },
            "text/plain": [
              "HBox(children=(FloatProgress(value=0.0, max=170498071.0), HTML(value='')))"
            ]
          },
          "metadata": {
            "tags": []
          }
        },
        {
          "output_type": "stream",
          "text": [
            "\n",
            "Extracting ./data/cifar-10-python.tar.gz to ./data\n",
            "Files already downloaded and verified\n"
          ],
          "name": "stdout"
        }
      ]
    },
    {
      "cell_type": "code",
      "metadata": {
        "colab": {
          "base_uri": "https://localhost:8080/"
        },
        "id": "photographic-channels",
        "outputId": "ca51ea4f-a29d-4d9f-b333-43e9c00688ac"
      },
      "source": [
        "print(f\"len(train_dataset) = {len(train_dataset)} & len(test_dataset) = {len(test_dataset)}\")"
      ],
      "id": "photographic-channels",
      "execution_count": 6,
      "outputs": [
        {
          "output_type": "stream",
          "text": [
            "len(train_dataset) = 50000 & len(test_dataset) = 10000\n"
          ],
          "name": "stdout"
        }
      ]
    },
    {
      "cell_type": "code",
      "metadata": {
        "id": "refined-stretch"
      },
      "source": [
        "# Create training and testing loaders-\n",
        "train_loader = torch.utils.data.DataLoader(\n",
        "        train_dataset, batch_size = batch_size,\n",
        "        shuffle = True\n",
        "        )\n",
        "\n",
        "test_loader = torch.utils.data.DataLoader(\n",
        "        test_dataset, batch_size = batch_size,\n",
        "        shuffle = False\n",
        "        )"
      ],
      "id": "refined-stretch",
      "execution_count": 7,
      "outputs": []
    },
    {
      "cell_type": "code",
      "metadata": {
        "colab": {
          "base_uri": "https://localhost:8080/"
        },
        "id": "intelligent-reunion",
        "outputId": "eaa1b449-73d0-4c10-aa1a-bd112708dc0a"
      },
      "source": [
        "print(f\"len(train_loader) = {len(train_loader)} & len(test_loader) = {len(test_loader)}\")"
      ],
      "id": "intelligent-reunion",
      "execution_count": 8,
      "outputs": [
        {
          "output_type": "stream",
          "text": [
            "len(train_loader) = 391 & len(test_loader) = 79\n"
          ],
          "name": "stdout"
        }
      ]
    },
    {
      "cell_type": "code",
      "metadata": {
        "colab": {
          "base_uri": "https://localhost:8080/"
        },
        "id": "transparent-third",
        "outputId": "0175a799-9e3e-4e3d-d051-c937082ec333"
      },
      "source": [
        "# Sanity check-\n",
        "len(train_dataset) / batch_size, len(test_dataset) / batch_size"
      ],
      "id": "transparent-third",
      "execution_count": 9,
      "outputs": [
        {
          "output_type": "execute_result",
          "data": {
            "text/plain": [
              "(390.625, 78.125)"
            ]
          },
          "metadata": {
            "tags": []
          },
          "execution_count": 9
        }
      ]
    },
    {
      "cell_type": "code",
      "metadata": {
        "id": "frozen-reason"
      },
      "source": [
        ""
      ],
      "id": "frozen-reason",
      "execution_count": null,
      "outputs": []
    },
    {
      "cell_type": "code",
      "metadata": {
        "colab": {
          "base_uri": "https://localhost:8080/"
        },
        "id": "existing-bailey",
        "outputId": "b6f44404-51fc-4d4c-f034-96918a5fa736"
      },
      "source": [
        "# Get some random training images-\n",
        "# some_img = iter(train_loader)\n",
        "# images, labels = some_img.next()\n",
        "images, labels = next(iter(train_loader))\n",
        "\n",
        "# You get 32 images due to our specified batch size-\n",
        "print(f\"images.shape: {images.shape} & labels.shape: {labels.shape}\")"
      ],
      "id": "existing-bailey",
      "execution_count": 10,
      "outputs": [
        {
          "output_type": "stream",
          "text": [
            "images.shape: torch.Size([128, 3, 32, 32]) & labels.shape: torch.Size([128])\n"
          ],
          "name": "stdout"
        }
      ]
    },
    {
      "cell_type": "code",
      "metadata": {
        "id": "bearing-essex"
      },
      "source": [
        ""
      ],
      "id": "bearing-essex",
      "execution_count": null,
      "outputs": []
    },
    {
      "cell_type": "code",
      "metadata": {
        "id": "humanitarian-bedroom"
      },
      "source": [
        ""
      ],
      "id": "humanitarian-bedroom",
      "execution_count": null,
      "outputs": []
    },
    {
      "cell_type": "code",
      "metadata": {
        "id": "documented-spanish"
      },
      "source": [
        "class ResidualBlock(nn.Module):\n",
        "    '''\n",
        "    Residual Block within a ResNet CNN model\n",
        "    '''\n",
        "    def __init__(self, input_channels, num_channels, \n",
        "                 use_1x1_conv = False, strides = 1):\n",
        "        # super(ResidualBlock, self).__init__()\n",
        "        super().__init__()\n",
        "     \n",
        "        self.conv1 = nn.Conv2d(\n",
        "            in_channels = input_channels, out_channels = num_channels,\n",
        "            kernel_size = 3, padding = 1, stride = strides,\n",
        "            bias = False\n",
        "            )\n",
        "        self.conv2 = nn.Conv2d(\n",
        "            in_channels = num_channels, out_channels = num_channels,\n",
        "            kernel_size = 3, padding = 1, stride = 1,\n",
        "            bias = False\n",
        "            )\n",
        "        \n",
        "        if use_1x1_conv:\n",
        "            self.conv3 = nn.Conv2d(\n",
        "                in_channels = input_channels, out_channels = num_channels,\n",
        "                kernel_size = 1, stride = strides\n",
        "                )\n",
        "        else:\n",
        "            self.conv3 = None\n",
        "        \n",
        "        self.bn1 = nn.BatchNorm2d(num_features = num_channels)\n",
        "        self.bn2 = nn.BatchNorm2d(num_features = num_channels)\n",
        "        self.relu = nn.ReLU(inplace = True)\n",
        "\n",
        "        self.initialize_weights()\n",
        "        \n",
        "    \n",
        "    def forward(self, X):\n",
        "        Y = F.relu(self.bn1(self.conv1(X)))\n",
        "        Y = self.bn2(self.conv2(Y))\n",
        "        \n",
        "        if self.conv3:\n",
        "            X = self.conv3(X)\n",
        "            # print(f\"X.shape due to 1x1: {X.shape} & Y.shape = {Y.shape}\")\n",
        "        else:\n",
        "            # print(f\"X.shape without 1x1: {X.shape} & Y.shape = {Y.shape}\")\n",
        "            pass\n",
        "        \n",
        "        Y += X\n",
        "        return F.relu(Y)\n",
        "    \n",
        "    \n",
        "    def shape_computation(self, X):\n",
        "        Y = self.conv1(X)\n",
        "        print(f\"self.conv1(X).shape: {Y.shape}\")\n",
        "        Y = self.conv2(Y)\n",
        "        print(f\"self.conv2(X).shape: {Y.shape}\")\n",
        "        \n",
        "        if self.conv3:\n",
        "            h = self.conv3(X)\n",
        "            print(f\"self.conv3(X).shape: {h.shape}\")\n",
        "    \n",
        "\n",
        "    def initialize_weights(self):\n",
        "        for m in self.modules():\n",
        "            # print(m)\n",
        "            if isinstance(m, nn.Conv2d):\n",
        "                nn.init.kaiming_uniform_(m.weight)\n",
        "\n",
        "                '''\n",
        "                # Do not initialize bias (due to batchnorm)-\n",
        "                if m.bias is not None:\n",
        "                    nn.init.constant_(m.bias, 0)\n",
        "                '''\n",
        "            \n",
        "            elif isinstance(m, nn.BatchNorm2d):\n",
        "                # Standard initialization for batch normalization-\n",
        "                nn.init.constant_(m.weight, 1)\n",
        "                nn.init.constant_(m.bias, 0)\n",
        "\n",
        "            elif isinstance(m, nn.Linear):\n",
        "                nn.init.kaiming_normal_(m.weight)\n",
        "                nn.init.constant_(m.bias, 0)\n"
      ],
      "id": "documented-spanish",
      "execution_count": 11,
      "outputs": []
    },
    {
      "cell_type": "code",
      "metadata": {
        "id": "rational-bolivia"
      },
      "source": [
        ""
      ],
      "id": "rational-bolivia",
      "execution_count": null,
      "outputs": []
    },
    {
      "cell_type": "code",
      "metadata": {
        "id": "freelance-judge"
      },
      "source": [
        ""
      ],
      "id": "freelance-judge",
      "execution_count": null,
      "outputs": []
    },
    {
      "cell_type": "code",
      "metadata": {
        "id": "related-saint"
      },
      "source": [
        "'''\n",
        "b1 = nn.Sequential(\n",
        "    nn.Conv2d(in_channels = 3, out_channels = 64, kernel_size = 7, stride = 2, padding = 3),\n",
        "    nn.BatchNorm2d(num_features = 64),\n",
        "    nn.ReLU(),\n",
        "    nn.MaxPool2d(kernel_size = 3, stride = 2, padding = 1))\n",
        "'''"
      ],
      "id": "related-saint",
      "execution_count": null,
      "outputs": []
    },
    {
      "cell_type": "code",
      "metadata": {
        "id": "authentic-setup"
      },
      "source": [
        "b0 = nn.Sequential(\n",
        "    nn.Conv2d(in_channels = 3, out_channels = 64, kernel_size = 3, stride = 1, padding = 1),\n",
        "    nn.BatchNorm2d(num_features = 64),\n",
        "    nn.ReLU())\n",
        "    # nn.MaxPool2d(kernel_size = 2, stride = 2, padding = 1))\n",
        "    # nn.MaxPool2d(kernel_size = 2, stride = 2, padding = 0))"
      ],
      "id": "authentic-setup",
      "execution_count": 12,
      "outputs": []
    },
    {
      "cell_type": "code",
      "metadata": {
        "colab": {
          "base_uri": "https://localhost:8080/"
        },
        "id": "elementary-ottawa",
        "outputId": "6de20b93-9b23-46a6-fd01-9bbdca4be441"
      },
      "source": [
        "# Sanity check-\n",
        "b0(images).shape"
      ],
      "id": "elementary-ottawa",
      "execution_count": 13,
      "outputs": [
        {
          "output_type": "execute_result",
          "data": {
            "text/plain": [
              "torch.Size([128, 64, 32, 32])"
            ]
          },
          "metadata": {
            "tags": []
          },
          "execution_count": 13
        }
      ]
    },
    {
      "cell_type": "code",
      "metadata": {
        "id": "registered-shoulder"
      },
      "source": [
        ""
      ],
      "id": "registered-shoulder",
      "execution_count": null,
      "outputs": []
    },
    {
      "cell_type": "code",
      "metadata": {
        "id": "lined-necklace"
      },
      "source": [
        ""
      ],
      "id": "lined-necklace",
      "execution_count": null,
      "outputs": []
    },
    {
      "cell_type": "code",
      "metadata": {
        "id": "administrative-mechanism"
      },
      "source": [
        "def create_resnet_block(input_filters, output_filters, num_residuals, first_block = False):\n",
        "    # Python list to hold the created ResNet blocks-\n",
        "    resnet_blk = []\n",
        "    \n",
        "    for i in range(num_residuals):\n",
        "        if i == 0 and first_block:\n",
        "            resnet_blk.append(ResidualBlock(input_channels = input_filters, num_channels = output_filters, use_1x1_conv = True, strides = 2))\n",
        "        else:\n",
        "            resnet_blk.append(ResidualBlock(input_channels = output_filters, num_channels = output_filters, use_1x1_conv = False, strides = 1))\n",
        "    \n",
        "    return resnet_blk"
      ],
      "id": "administrative-mechanism",
      "execution_count": 14,
      "outputs": []
    },
    {
      "cell_type": "code",
      "metadata": {
        "id": "played-wound"
      },
      "source": [
        ""
      ],
      "id": "played-wound",
      "execution_count": null,
      "outputs": []
    },
    {
      "cell_type": "code",
      "metadata": {
        "id": "valuable-pressing"
      },
      "source": [
        "b1 = nn.Sequential(*create_resnet_block(input_filters = 64, output_filters = 64, num_residuals = 3, first_block = True))\n",
        "\n",
        "# Sanity check-\n",
        "# b1(torch.normal(mean = 0.0, std = 1.0, size = (128, 64, 32, 32))).shape\n",
        "# torch.Size([128, 64, 16, 16])"
      ],
      "id": "valuable-pressing",
      "execution_count": 15,
      "outputs": []
    },
    {
      "cell_type": "code",
      "metadata": {
        "id": "developing-audit"
      },
      "source": [
        "b2 = nn.Sequential(*create_resnet_block(input_filters = 64, output_filters = 128, num_residuals = 4, first_block = True))\n",
        "\n",
        "# Sanity check-\n",
        "# b2(torch.normal(mean = 0.0, std = 1.0, size = (128, 64, 16, 16))).shape\n",
        "# torch.Size([128, 128, 8, 8])"
      ],
      "id": "developing-audit",
      "execution_count": 16,
      "outputs": []
    },
    {
      "cell_type": "code",
      "metadata": {
        "id": "scheduled-engineering"
      },
      "source": [
        "b3 = nn.Sequential(*create_resnet_block(input_filters = 128, output_filters = 256, num_residuals = 6, first_block = True))\n",
        "\n",
        "# b3(torch.normal(mean = 0.0, std = 1.0, size = (128, 128, 8, 8))).shape\n",
        "# torch.Size([128, 256, 4, 4]) "
      ],
      "id": "scheduled-engineering",
      "execution_count": 17,
      "outputs": []
    },
    {
      "cell_type": "code",
      "metadata": {
        "id": "ahead-patient"
      },
      "source": [
        "b4 = nn.Sequential(*create_resnet_block(input_filters = 256, output_filters = 512, num_residuals = 3, first_block = True))\n",
        "\n",
        "# b4(torch.normal(mean = 0, std = 1, size = (128, 256, 4, 4))).shape\n",
        "# torch.Size([128, 512, 2, 2])"
      ],
      "id": "ahead-patient",
      "execution_count": 18,
      "outputs": []
    },
    {
      "cell_type": "code",
      "metadata": {
        "id": "designing-sunrise"
      },
      "source": [
        "# m = nn.AdaptiveAvgPool2d(output_size = (1, 1))\n",
        "# m(torch.normal(mean = 0, std = 1, size = (128, 512, 2, 2))).shape\n",
        "# torch.Size([128, 512, 1, 1])"
      ],
      "id": "designing-sunrise",
      "execution_count": null,
      "outputs": []
    },
    {
      "cell_type": "code",
      "metadata": {
        "id": "accepting-france"
      },
      "source": [
        ""
      ],
      "id": "accepting-france",
      "execution_count": null,
      "outputs": []
    },
    {
      "cell_type": "code",
      "metadata": {
        "id": "empirical-vocabulary"
      },
      "source": [
        ""
      ],
      "id": "empirical-vocabulary",
      "execution_count": null,
      "outputs": []
    },
    {
      "cell_type": "code",
      "metadata": {
        "id": "portuguese-pregnancy"
      },
      "source": [
        "# Initialize ResNet-34 model-\n",
        "model = nn.Sequential(\n",
        "    b0, b1, b2, b3, b4,\n",
        "    nn.AdaptiveAvgPool2d(output_size = (1, 1)),\n",
        "    nn.Flatten(),\n",
        "    nn.Linear(in_features = 512, out_features = 256),\n",
        "    nn.Linear(in_features = 256, out_features = 10))"
      ],
      "id": "portuguese-pregnancy",
      "execution_count": 19,
      "outputs": []
    },
    {
      "cell_type": "code",
      "metadata": {
        "id": "chinese-gasoline"
      },
      "source": [
        ""
      ],
      "id": "chinese-gasoline",
      "execution_count": null,
      "outputs": []
    },
    {
      "cell_type": "code",
      "metadata": {
        "colab": {
          "base_uri": "https://localhost:8080/"
        },
        "id": "lightweight-piece",
        "outputId": "c919b199-03f8-400d-dace-77ea1d8711c8"
      },
      "source": [
        "# Place model on GPU (if available)-\n",
        "model.to(device)"
      ],
      "id": "lightweight-piece",
      "execution_count": 20,
      "outputs": [
        {
          "output_type": "execute_result",
          "data": {
            "text/plain": [
              "Sequential(\n",
              "  (0): Sequential(\n",
              "    (0): Conv2d(3, 64, kernel_size=(3, 3), stride=(1, 1), padding=(1, 1))\n",
              "    (1): BatchNorm2d(64, eps=1e-05, momentum=0.1, affine=True, track_running_stats=True)\n",
              "    (2): ReLU()\n",
              "  )\n",
              "  (1): Sequential(\n",
              "    (0): ResidualBlock(\n",
              "      (conv1): Conv2d(64, 64, kernel_size=(3, 3), stride=(2, 2), padding=(1, 1), bias=False)\n",
              "      (conv2): Conv2d(64, 64, kernel_size=(3, 3), stride=(1, 1), padding=(1, 1), bias=False)\n",
              "      (conv3): Conv2d(64, 64, kernel_size=(1, 1), stride=(2, 2))\n",
              "      (bn1): BatchNorm2d(64, eps=1e-05, momentum=0.1, affine=True, track_running_stats=True)\n",
              "      (bn2): BatchNorm2d(64, eps=1e-05, momentum=0.1, affine=True, track_running_stats=True)\n",
              "      (relu): ReLU(inplace=True)\n",
              "    )\n",
              "    (1): ResidualBlock(\n",
              "      (conv1): Conv2d(64, 64, kernel_size=(3, 3), stride=(1, 1), padding=(1, 1), bias=False)\n",
              "      (conv2): Conv2d(64, 64, kernel_size=(3, 3), stride=(1, 1), padding=(1, 1), bias=False)\n",
              "      (bn1): BatchNorm2d(64, eps=1e-05, momentum=0.1, affine=True, track_running_stats=True)\n",
              "      (bn2): BatchNorm2d(64, eps=1e-05, momentum=0.1, affine=True, track_running_stats=True)\n",
              "      (relu): ReLU(inplace=True)\n",
              "    )\n",
              "    (2): ResidualBlock(\n",
              "      (conv1): Conv2d(64, 64, kernel_size=(3, 3), stride=(1, 1), padding=(1, 1), bias=False)\n",
              "      (conv2): Conv2d(64, 64, kernel_size=(3, 3), stride=(1, 1), padding=(1, 1), bias=False)\n",
              "      (bn1): BatchNorm2d(64, eps=1e-05, momentum=0.1, affine=True, track_running_stats=True)\n",
              "      (bn2): BatchNorm2d(64, eps=1e-05, momentum=0.1, affine=True, track_running_stats=True)\n",
              "      (relu): ReLU(inplace=True)\n",
              "    )\n",
              "  )\n",
              "  (2): Sequential(\n",
              "    (0): ResidualBlock(\n",
              "      (conv1): Conv2d(64, 128, kernel_size=(3, 3), stride=(2, 2), padding=(1, 1), bias=False)\n",
              "      (conv2): Conv2d(128, 128, kernel_size=(3, 3), stride=(1, 1), padding=(1, 1), bias=False)\n",
              "      (conv3): Conv2d(64, 128, kernel_size=(1, 1), stride=(2, 2))\n",
              "      (bn1): BatchNorm2d(128, eps=1e-05, momentum=0.1, affine=True, track_running_stats=True)\n",
              "      (bn2): BatchNorm2d(128, eps=1e-05, momentum=0.1, affine=True, track_running_stats=True)\n",
              "      (relu): ReLU(inplace=True)\n",
              "    )\n",
              "    (1): ResidualBlock(\n",
              "      (conv1): Conv2d(128, 128, kernel_size=(3, 3), stride=(1, 1), padding=(1, 1), bias=False)\n",
              "      (conv2): Conv2d(128, 128, kernel_size=(3, 3), stride=(1, 1), padding=(1, 1), bias=False)\n",
              "      (bn1): BatchNorm2d(128, eps=1e-05, momentum=0.1, affine=True, track_running_stats=True)\n",
              "      (bn2): BatchNorm2d(128, eps=1e-05, momentum=0.1, affine=True, track_running_stats=True)\n",
              "      (relu): ReLU(inplace=True)\n",
              "    )\n",
              "    (2): ResidualBlock(\n",
              "      (conv1): Conv2d(128, 128, kernel_size=(3, 3), stride=(1, 1), padding=(1, 1), bias=False)\n",
              "      (conv2): Conv2d(128, 128, kernel_size=(3, 3), stride=(1, 1), padding=(1, 1), bias=False)\n",
              "      (bn1): BatchNorm2d(128, eps=1e-05, momentum=0.1, affine=True, track_running_stats=True)\n",
              "      (bn2): BatchNorm2d(128, eps=1e-05, momentum=0.1, affine=True, track_running_stats=True)\n",
              "      (relu): ReLU(inplace=True)\n",
              "    )\n",
              "    (3): ResidualBlock(\n",
              "      (conv1): Conv2d(128, 128, kernel_size=(3, 3), stride=(1, 1), padding=(1, 1), bias=False)\n",
              "      (conv2): Conv2d(128, 128, kernel_size=(3, 3), stride=(1, 1), padding=(1, 1), bias=False)\n",
              "      (bn1): BatchNorm2d(128, eps=1e-05, momentum=0.1, affine=True, track_running_stats=True)\n",
              "      (bn2): BatchNorm2d(128, eps=1e-05, momentum=0.1, affine=True, track_running_stats=True)\n",
              "      (relu): ReLU(inplace=True)\n",
              "    )\n",
              "  )\n",
              "  (3): Sequential(\n",
              "    (0): ResidualBlock(\n",
              "      (conv1): Conv2d(128, 256, kernel_size=(3, 3), stride=(2, 2), padding=(1, 1), bias=False)\n",
              "      (conv2): Conv2d(256, 256, kernel_size=(3, 3), stride=(1, 1), padding=(1, 1), bias=False)\n",
              "      (conv3): Conv2d(128, 256, kernel_size=(1, 1), stride=(2, 2))\n",
              "      (bn1): BatchNorm2d(256, eps=1e-05, momentum=0.1, affine=True, track_running_stats=True)\n",
              "      (bn2): BatchNorm2d(256, eps=1e-05, momentum=0.1, affine=True, track_running_stats=True)\n",
              "      (relu): ReLU(inplace=True)\n",
              "    )\n",
              "    (1): ResidualBlock(\n",
              "      (conv1): Conv2d(256, 256, kernel_size=(3, 3), stride=(1, 1), padding=(1, 1), bias=False)\n",
              "      (conv2): Conv2d(256, 256, kernel_size=(3, 3), stride=(1, 1), padding=(1, 1), bias=False)\n",
              "      (bn1): BatchNorm2d(256, eps=1e-05, momentum=0.1, affine=True, track_running_stats=True)\n",
              "      (bn2): BatchNorm2d(256, eps=1e-05, momentum=0.1, affine=True, track_running_stats=True)\n",
              "      (relu): ReLU(inplace=True)\n",
              "    )\n",
              "    (2): ResidualBlock(\n",
              "      (conv1): Conv2d(256, 256, kernel_size=(3, 3), stride=(1, 1), padding=(1, 1), bias=False)\n",
              "      (conv2): Conv2d(256, 256, kernel_size=(3, 3), stride=(1, 1), padding=(1, 1), bias=False)\n",
              "      (bn1): BatchNorm2d(256, eps=1e-05, momentum=0.1, affine=True, track_running_stats=True)\n",
              "      (bn2): BatchNorm2d(256, eps=1e-05, momentum=0.1, affine=True, track_running_stats=True)\n",
              "      (relu): ReLU(inplace=True)\n",
              "    )\n",
              "    (3): ResidualBlock(\n",
              "      (conv1): Conv2d(256, 256, kernel_size=(3, 3), stride=(1, 1), padding=(1, 1), bias=False)\n",
              "      (conv2): Conv2d(256, 256, kernel_size=(3, 3), stride=(1, 1), padding=(1, 1), bias=False)\n",
              "      (bn1): BatchNorm2d(256, eps=1e-05, momentum=0.1, affine=True, track_running_stats=True)\n",
              "      (bn2): BatchNorm2d(256, eps=1e-05, momentum=0.1, affine=True, track_running_stats=True)\n",
              "      (relu): ReLU(inplace=True)\n",
              "    )\n",
              "    (4): ResidualBlock(\n",
              "      (conv1): Conv2d(256, 256, kernel_size=(3, 3), stride=(1, 1), padding=(1, 1), bias=False)\n",
              "      (conv2): Conv2d(256, 256, kernel_size=(3, 3), stride=(1, 1), padding=(1, 1), bias=False)\n",
              "      (bn1): BatchNorm2d(256, eps=1e-05, momentum=0.1, affine=True, track_running_stats=True)\n",
              "      (bn2): BatchNorm2d(256, eps=1e-05, momentum=0.1, affine=True, track_running_stats=True)\n",
              "      (relu): ReLU(inplace=True)\n",
              "    )\n",
              "    (5): ResidualBlock(\n",
              "      (conv1): Conv2d(256, 256, kernel_size=(3, 3), stride=(1, 1), padding=(1, 1), bias=False)\n",
              "      (conv2): Conv2d(256, 256, kernel_size=(3, 3), stride=(1, 1), padding=(1, 1), bias=False)\n",
              "      (bn1): BatchNorm2d(256, eps=1e-05, momentum=0.1, affine=True, track_running_stats=True)\n",
              "      (bn2): BatchNorm2d(256, eps=1e-05, momentum=0.1, affine=True, track_running_stats=True)\n",
              "      (relu): ReLU(inplace=True)\n",
              "    )\n",
              "  )\n",
              "  (4): Sequential(\n",
              "    (0): ResidualBlock(\n",
              "      (conv1): Conv2d(256, 512, kernel_size=(3, 3), stride=(2, 2), padding=(1, 1), bias=False)\n",
              "      (conv2): Conv2d(512, 512, kernel_size=(3, 3), stride=(1, 1), padding=(1, 1), bias=False)\n",
              "      (conv3): Conv2d(256, 512, kernel_size=(1, 1), stride=(2, 2))\n",
              "      (bn1): BatchNorm2d(512, eps=1e-05, momentum=0.1, affine=True, track_running_stats=True)\n",
              "      (bn2): BatchNorm2d(512, eps=1e-05, momentum=0.1, affine=True, track_running_stats=True)\n",
              "      (relu): ReLU(inplace=True)\n",
              "    )\n",
              "    (1): ResidualBlock(\n",
              "      (conv1): Conv2d(512, 512, kernel_size=(3, 3), stride=(1, 1), padding=(1, 1), bias=False)\n",
              "      (conv2): Conv2d(512, 512, kernel_size=(3, 3), stride=(1, 1), padding=(1, 1), bias=False)\n",
              "      (bn1): BatchNorm2d(512, eps=1e-05, momentum=0.1, affine=True, track_running_stats=True)\n",
              "      (bn2): BatchNorm2d(512, eps=1e-05, momentum=0.1, affine=True, track_running_stats=True)\n",
              "      (relu): ReLU(inplace=True)\n",
              "    )\n",
              "    (2): ResidualBlock(\n",
              "      (conv1): Conv2d(512, 512, kernel_size=(3, 3), stride=(1, 1), padding=(1, 1), bias=False)\n",
              "      (conv2): Conv2d(512, 512, kernel_size=(3, 3), stride=(1, 1), padding=(1, 1), bias=False)\n",
              "      (bn1): BatchNorm2d(512, eps=1e-05, momentum=0.1, affine=True, track_running_stats=True)\n",
              "      (bn2): BatchNorm2d(512, eps=1e-05, momentum=0.1, affine=True, track_running_stats=True)\n",
              "      (relu): ReLU(inplace=True)\n",
              "    )\n",
              "  )\n",
              "  (5): AdaptiveAvgPool2d(output_size=(1, 1))\n",
              "  (6): Flatten(start_dim=1, end_dim=-1)\n",
              "  (7): Linear(in_features=512, out_features=256, bias=True)\n",
              "  (8): Linear(in_features=256, out_features=10, bias=True)\n",
              ")"
            ]
          },
          "metadata": {
            "tags": []
          },
          "execution_count": 20
        }
      ]
    },
    {
      "cell_type": "code",
      "metadata": {
        "id": "second-relations"
      },
      "source": [
        ""
      ],
      "id": "second-relations",
      "execution_count": null,
      "outputs": []
    },
    {
      "cell_type": "code",
      "metadata": {
        "id": "described-lincoln"
      },
      "source": [
        "# Save random initial weights-\n",
        "torch.save(model.state_dict(), '/content/ResNet-34_dense_layer_kaiming_normal_random_weights.pth')"
      ],
      "id": "described-lincoln",
      "execution_count": 21,
      "outputs": []
    },
    {
      "cell_type": "code",
      "metadata": {
        "id": "heated-computer"
      },
      "source": [
        ""
      ],
      "id": "heated-computer",
      "execution_count": null,
      "outputs": []
    },
    {
      "cell_type": "code",
      "metadata": {
        "id": "spanish-orchestra"
      },
      "source": [
        "# model(images).shape\n",
        "# torch.Size([128, 10])"
      ],
      "id": "spanish-orchestra",
      "execution_count": null,
      "outputs": []
    },
    {
      "cell_type": "code",
      "metadata": {
        "colab": {
          "base_uri": "https://localhost:8080/"
        },
        "id": "chronic-intermediate",
        "outputId": "12ecabd6-9c3e-4fc6-e0a4-ff26d8658fcd"
      },
      "source": [
        "# Sanity check- make predictions using the define model-\n",
        "model(images.to(device)).shape  # don't forget to place images to GPU device"
      ],
      "id": "chronic-intermediate",
      "execution_count": 22,
      "outputs": [
        {
          "output_type": "execute_result",
          "data": {
            "text/plain": [
              "torch.Size([128, 10])"
            ]
          },
          "metadata": {
            "tags": []
          },
          "execution_count": 22
        }
      ]
    },
    {
      "cell_type": "code",
      "metadata": {
        "id": "amateur-guide"
      },
      "source": [
        ""
      ],
      "id": "amateur-guide",
      "execution_count": null,
      "outputs": []
    },
    {
      "cell_type": "code",
      "metadata": {
        "colab": {
          "base_uri": "https://localhost:8080/"
        },
        "id": "large-florist",
        "outputId": "2a221b42-2cac-42f7-8677-282db441a747"
      },
      "source": [
        "# Count number of layer-wise parameters and total parameters-\n",
        "tot_params = 0\n",
        "for param in model.parameters():\n",
        "    print(f\"layer.shape = {param.shape} has {param.nelement()} parameters\")\n",
        "    tot_params += param.nelement()"
      ],
      "id": "large-florist",
      "execution_count": 23,
      "outputs": [
        {
          "output_type": "stream",
          "text": [
            "layer.shape = torch.Size([64, 3, 3, 3]) has 1728 parameters\n",
            "layer.shape = torch.Size([64]) has 64 parameters\n",
            "layer.shape = torch.Size([64]) has 64 parameters\n",
            "layer.shape = torch.Size([64]) has 64 parameters\n",
            "layer.shape = torch.Size([64, 64, 3, 3]) has 36864 parameters\n",
            "layer.shape = torch.Size([64, 64, 3, 3]) has 36864 parameters\n",
            "layer.shape = torch.Size([64, 64, 1, 1]) has 4096 parameters\n",
            "layer.shape = torch.Size([64]) has 64 parameters\n",
            "layer.shape = torch.Size([64]) has 64 parameters\n",
            "layer.shape = torch.Size([64]) has 64 parameters\n",
            "layer.shape = torch.Size([64]) has 64 parameters\n",
            "layer.shape = torch.Size([64]) has 64 parameters\n",
            "layer.shape = torch.Size([64, 64, 3, 3]) has 36864 parameters\n",
            "layer.shape = torch.Size([64, 64, 3, 3]) has 36864 parameters\n",
            "layer.shape = torch.Size([64]) has 64 parameters\n",
            "layer.shape = torch.Size([64]) has 64 parameters\n",
            "layer.shape = torch.Size([64]) has 64 parameters\n",
            "layer.shape = torch.Size([64]) has 64 parameters\n",
            "layer.shape = torch.Size([64, 64, 3, 3]) has 36864 parameters\n",
            "layer.shape = torch.Size([64, 64, 3, 3]) has 36864 parameters\n",
            "layer.shape = torch.Size([64]) has 64 parameters\n",
            "layer.shape = torch.Size([64]) has 64 parameters\n",
            "layer.shape = torch.Size([64]) has 64 parameters\n",
            "layer.shape = torch.Size([64]) has 64 parameters\n",
            "layer.shape = torch.Size([128, 64, 3, 3]) has 73728 parameters\n",
            "layer.shape = torch.Size([128, 128, 3, 3]) has 147456 parameters\n",
            "layer.shape = torch.Size([128, 64, 1, 1]) has 8192 parameters\n",
            "layer.shape = torch.Size([128]) has 128 parameters\n",
            "layer.shape = torch.Size([128]) has 128 parameters\n",
            "layer.shape = torch.Size([128]) has 128 parameters\n",
            "layer.shape = torch.Size([128]) has 128 parameters\n",
            "layer.shape = torch.Size([128]) has 128 parameters\n",
            "layer.shape = torch.Size([128, 128, 3, 3]) has 147456 parameters\n",
            "layer.shape = torch.Size([128, 128, 3, 3]) has 147456 parameters\n",
            "layer.shape = torch.Size([128]) has 128 parameters\n",
            "layer.shape = torch.Size([128]) has 128 parameters\n",
            "layer.shape = torch.Size([128]) has 128 parameters\n",
            "layer.shape = torch.Size([128]) has 128 parameters\n",
            "layer.shape = torch.Size([128, 128, 3, 3]) has 147456 parameters\n",
            "layer.shape = torch.Size([128, 128, 3, 3]) has 147456 parameters\n",
            "layer.shape = torch.Size([128]) has 128 parameters\n",
            "layer.shape = torch.Size([128]) has 128 parameters\n",
            "layer.shape = torch.Size([128]) has 128 parameters\n",
            "layer.shape = torch.Size([128]) has 128 parameters\n",
            "layer.shape = torch.Size([128, 128, 3, 3]) has 147456 parameters\n",
            "layer.shape = torch.Size([128, 128, 3, 3]) has 147456 parameters\n",
            "layer.shape = torch.Size([128]) has 128 parameters\n",
            "layer.shape = torch.Size([128]) has 128 parameters\n",
            "layer.shape = torch.Size([128]) has 128 parameters\n",
            "layer.shape = torch.Size([128]) has 128 parameters\n",
            "layer.shape = torch.Size([256, 128, 3, 3]) has 294912 parameters\n",
            "layer.shape = torch.Size([256, 256, 3, 3]) has 589824 parameters\n",
            "layer.shape = torch.Size([256, 128, 1, 1]) has 32768 parameters\n",
            "layer.shape = torch.Size([256]) has 256 parameters\n",
            "layer.shape = torch.Size([256]) has 256 parameters\n",
            "layer.shape = torch.Size([256]) has 256 parameters\n",
            "layer.shape = torch.Size([256]) has 256 parameters\n",
            "layer.shape = torch.Size([256]) has 256 parameters\n",
            "layer.shape = torch.Size([256, 256, 3, 3]) has 589824 parameters\n",
            "layer.shape = torch.Size([256, 256, 3, 3]) has 589824 parameters\n",
            "layer.shape = torch.Size([256]) has 256 parameters\n",
            "layer.shape = torch.Size([256]) has 256 parameters\n",
            "layer.shape = torch.Size([256]) has 256 parameters\n",
            "layer.shape = torch.Size([256]) has 256 parameters\n",
            "layer.shape = torch.Size([256, 256, 3, 3]) has 589824 parameters\n",
            "layer.shape = torch.Size([256, 256, 3, 3]) has 589824 parameters\n",
            "layer.shape = torch.Size([256]) has 256 parameters\n",
            "layer.shape = torch.Size([256]) has 256 parameters\n",
            "layer.shape = torch.Size([256]) has 256 parameters\n",
            "layer.shape = torch.Size([256]) has 256 parameters\n",
            "layer.shape = torch.Size([256, 256, 3, 3]) has 589824 parameters\n",
            "layer.shape = torch.Size([256, 256, 3, 3]) has 589824 parameters\n",
            "layer.shape = torch.Size([256]) has 256 parameters\n",
            "layer.shape = torch.Size([256]) has 256 parameters\n",
            "layer.shape = torch.Size([256]) has 256 parameters\n",
            "layer.shape = torch.Size([256]) has 256 parameters\n",
            "layer.shape = torch.Size([256, 256, 3, 3]) has 589824 parameters\n",
            "layer.shape = torch.Size([256, 256, 3, 3]) has 589824 parameters\n",
            "layer.shape = torch.Size([256]) has 256 parameters\n",
            "layer.shape = torch.Size([256]) has 256 parameters\n",
            "layer.shape = torch.Size([256]) has 256 parameters\n",
            "layer.shape = torch.Size([256]) has 256 parameters\n",
            "layer.shape = torch.Size([256, 256, 3, 3]) has 589824 parameters\n",
            "layer.shape = torch.Size([256, 256, 3, 3]) has 589824 parameters\n",
            "layer.shape = torch.Size([256]) has 256 parameters\n",
            "layer.shape = torch.Size([256]) has 256 parameters\n",
            "layer.shape = torch.Size([256]) has 256 parameters\n",
            "layer.shape = torch.Size([256]) has 256 parameters\n",
            "layer.shape = torch.Size([512, 256, 3, 3]) has 1179648 parameters\n",
            "layer.shape = torch.Size([512, 512, 3, 3]) has 2359296 parameters\n",
            "layer.shape = torch.Size([512, 256, 1, 1]) has 131072 parameters\n",
            "layer.shape = torch.Size([512]) has 512 parameters\n",
            "layer.shape = torch.Size([512]) has 512 parameters\n",
            "layer.shape = torch.Size([512]) has 512 parameters\n",
            "layer.shape = torch.Size([512]) has 512 parameters\n",
            "layer.shape = torch.Size([512]) has 512 parameters\n",
            "layer.shape = torch.Size([512, 512, 3, 3]) has 2359296 parameters\n",
            "layer.shape = torch.Size([512, 512, 3, 3]) has 2359296 parameters\n",
            "layer.shape = torch.Size([512]) has 512 parameters\n",
            "layer.shape = torch.Size([512]) has 512 parameters\n",
            "layer.shape = torch.Size([512]) has 512 parameters\n",
            "layer.shape = torch.Size([512]) has 512 parameters\n",
            "layer.shape = torch.Size([512, 512, 3, 3]) has 2359296 parameters\n",
            "layer.shape = torch.Size([512, 512, 3, 3]) has 2359296 parameters\n",
            "layer.shape = torch.Size([512]) has 512 parameters\n",
            "layer.shape = torch.Size([512]) has 512 parameters\n",
            "layer.shape = torch.Size([512]) has 512 parameters\n",
            "layer.shape = torch.Size([512]) has 512 parameters\n",
            "layer.shape = torch.Size([256, 512]) has 131072 parameters\n",
            "layer.shape = torch.Size([256]) has 256 parameters\n",
            "layer.shape = torch.Size([10, 256]) has 2560 parameters\n",
            "layer.shape = torch.Size([10]) has 10 parameters\n"
          ],
          "name": "stdout"
        }
      ]
    },
    {
      "cell_type": "code",
      "metadata": {
        "colab": {
          "base_uri": "https://localhost:8080/"
        },
        "id": "arctic-rescue",
        "outputId": "4c21ec51-a64e-4ee0-efde-c77a688be54a"
      },
      "source": [
        "print(f\"Total number of parameters in ResNet-34 = {tot_params}\")"
      ],
      "id": "arctic-rescue",
      "execution_count": 24,
      "outputs": [
        {
          "output_type": "stream",
          "text": [
            "Total number of parameters in ResNet-34 = 21414218\n"
          ],
          "name": "stdout"
        }
      ]
    },
    {
      "cell_type": "code",
      "metadata": {
        "id": "clean-rating"
      },
      "source": [
        ""
      ],
      "id": "clean-rating",
      "execution_count": null,
      "outputs": []
    },
    {
      "cell_type": "code",
      "metadata": {
        "colab": {
          "base_uri": "https://localhost:8080/"
        },
        "id": "scientific-parks",
        "outputId": "68147b7c-0975-4f65-fc74-b4422aaf55ea"
      },
      "source": [
        "# Print layer names-\n",
        "for layer in model.state_dict().keys():\n",
        "    print(f\"{layer} has dimension = {model.state_dict()[layer].shape}\")"
      ],
      "id": "scientific-parks",
      "execution_count": 25,
      "outputs": [
        {
          "output_type": "stream",
          "text": [
            "0.0.weight has dimension = torch.Size([64, 3, 3, 3])\n",
            "0.0.bias has dimension = torch.Size([64])\n",
            "0.1.weight has dimension = torch.Size([64])\n",
            "0.1.bias has dimension = torch.Size([64])\n",
            "0.1.running_mean has dimension = torch.Size([64])\n",
            "0.1.running_var has dimension = torch.Size([64])\n",
            "0.1.num_batches_tracked has dimension = torch.Size([])\n",
            "1.0.conv1.weight has dimension = torch.Size([64, 64, 3, 3])\n",
            "1.0.conv2.weight has dimension = torch.Size([64, 64, 3, 3])\n",
            "1.0.conv3.weight has dimension = torch.Size([64, 64, 1, 1])\n",
            "1.0.conv3.bias has dimension = torch.Size([64])\n",
            "1.0.bn1.weight has dimension = torch.Size([64])\n",
            "1.0.bn1.bias has dimension = torch.Size([64])\n",
            "1.0.bn1.running_mean has dimension = torch.Size([64])\n",
            "1.0.bn1.running_var has dimension = torch.Size([64])\n",
            "1.0.bn1.num_batches_tracked has dimension = torch.Size([])\n",
            "1.0.bn2.weight has dimension = torch.Size([64])\n",
            "1.0.bn2.bias has dimension = torch.Size([64])\n",
            "1.0.bn2.running_mean has dimension = torch.Size([64])\n",
            "1.0.bn2.running_var has dimension = torch.Size([64])\n",
            "1.0.bn2.num_batches_tracked has dimension = torch.Size([])\n",
            "1.1.conv1.weight has dimension = torch.Size([64, 64, 3, 3])\n",
            "1.1.conv2.weight has dimension = torch.Size([64, 64, 3, 3])\n",
            "1.1.bn1.weight has dimension = torch.Size([64])\n",
            "1.1.bn1.bias has dimension = torch.Size([64])\n",
            "1.1.bn1.running_mean has dimension = torch.Size([64])\n",
            "1.1.bn1.running_var has dimension = torch.Size([64])\n",
            "1.1.bn1.num_batches_tracked has dimension = torch.Size([])\n",
            "1.1.bn2.weight has dimension = torch.Size([64])\n",
            "1.1.bn2.bias has dimension = torch.Size([64])\n",
            "1.1.bn2.running_mean has dimension = torch.Size([64])\n",
            "1.1.bn2.running_var has dimension = torch.Size([64])\n",
            "1.1.bn2.num_batches_tracked has dimension = torch.Size([])\n",
            "1.2.conv1.weight has dimension = torch.Size([64, 64, 3, 3])\n",
            "1.2.conv2.weight has dimension = torch.Size([64, 64, 3, 3])\n",
            "1.2.bn1.weight has dimension = torch.Size([64])\n",
            "1.2.bn1.bias has dimension = torch.Size([64])\n",
            "1.2.bn1.running_mean has dimension = torch.Size([64])\n",
            "1.2.bn1.running_var has dimension = torch.Size([64])\n",
            "1.2.bn1.num_batches_tracked has dimension = torch.Size([])\n",
            "1.2.bn2.weight has dimension = torch.Size([64])\n",
            "1.2.bn2.bias has dimension = torch.Size([64])\n",
            "1.2.bn2.running_mean has dimension = torch.Size([64])\n",
            "1.2.bn2.running_var has dimension = torch.Size([64])\n",
            "1.2.bn2.num_batches_tracked has dimension = torch.Size([])\n",
            "2.0.conv1.weight has dimension = torch.Size([128, 64, 3, 3])\n",
            "2.0.conv2.weight has dimension = torch.Size([128, 128, 3, 3])\n",
            "2.0.conv3.weight has dimension = torch.Size([128, 64, 1, 1])\n",
            "2.0.conv3.bias has dimension = torch.Size([128])\n",
            "2.0.bn1.weight has dimension = torch.Size([128])\n",
            "2.0.bn1.bias has dimension = torch.Size([128])\n",
            "2.0.bn1.running_mean has dimension = torch.Size([128])\n",
            "2.0.bn1.running_var has dimension = torch.Size([128])\n",
            "2.0.bn1.num_batches_tracked has dimension = torch.Size([])\n",
            "2.0.bn2.weight has dimension = torch.Size([128])\n",
            "2.0.bn2.bias has dimension = torch.Size([128])\n",
            "2.0.bn2.running_mean has dimension = torch.Size([128])\n",
            "2.0.bn2.running_var has dimension = torch.Size([128])\n",
            "2.0.bn2.num_batches_tracked has dimension = torch.Size([])\n",
            "2.1.conv1.weight has dimension = torch.Size([128, 128, 3, 3])\n",
            "2.1.conv2.weight has dimension = torch.Size([128, 128, 3, 3])\n",
            "2.1.bn1.weight has dimension = torch.Size([128])\n",
            "2.1.bn1.bias has dimension = torch.Size([128])\n",
            "2.1.bn1.running_mean has dimension = torch.Size([128])\n",
            "2.1.bn1.running_var has dimension = torch.Size([128])\n",
            "2.1.bn1.num_batches_tracked has dimension = torch.Size([])\n",
            "2.1.bn2.weight has dimension = torch.Size([128])\n",
            "2.1.bn2.bias has dimension = torch.Size([128])\n",
            "2.1.bn2.running_mean has dimension = torch.Size([128])\n",
            "2.1.bn2.running_var has dimension = torch.Size([128])\n",
            "2.1.bn2.num_batches_tracked has dimension = torch.Size([])\n",
            "2.2.conv1.weight has dimension = torch.Size([128, 128, 3, 3])\n",
            "2.2.conv2.weight has dimension = torch.Size([128, 128, 3, 3])\n",
            "2.2.bn1.weight has dimension = torch.Size([128])\n",
            "2.2.bn1.bias has dimension = torch.Size([128])\n",
            "2.2.bn1.running_mean has dimension = torch.Size([128])\n",
            "2.2.bn1.running_var has dimension = torch.Size([128])\n",
            "2.2.bn1.num_batches_tracked has dimension = torch.Size([])\n",
            "2.2.bn2.weight has dimension = torch.Size([128])\n",
            "2.2.bn2.bias has dimension = torch.Size([128])\n",
            "2.2.bn2.running_mean has dimension = torch.Size([128])\n",
            "2.2.bn2.running_var has dimension = torch.Size([128])\n",
            "2.2.bn2.num_batches_tracked has dimension = torch.Size([])\n",
            "2.3.conv1.weight has dimension = torch.Size([128, 128, 3, 3])\n",
            "2.3.conv2.weight has dimension = torch.Size([128, 128, 3, 3])\n",
            "2.3.bn1.weight has dimension = torch.Size([128])\n",
            "2.3.bn1.bias has dimension = torch.Size([128])\n",
            "2.3.bn1.running_mean has dimension = torch.Size([128])\n",
            "2.3.bn1.running_var has dimension = torch.Size([128])\n",
            "2.3.bn1.num_batches_tracked has dimension = torch.Size([])\n",
            "2.3.bn2.weight has dimension = torch.Size([128])\n",
            "2.3.bn2.bias has dimension = torch.Size([128])\n",
            "2.3.bn2.running_mean has dimension = torch.Size([128])\n",
            "2.3.bn2.running_var has dimension = torch.Size([128])\n",
            "2.3.bn2.num_batches_tracked has dimension = torch.Size([])\n",
            "3.0.conv1.weight has dimension = torch.Size([256, 128, 3, 3])\n",
            "3.0.conv2.weight has dimension = torch.Size([256, 256, 3, 3])\n",
            "3.0.conv3.weight has dimension = torch.Size([256, 128, 1, 1])\n",
            "3.0.conv3.bias has dimension = torch.Size([256])\n",
            "3.0.bn1.weight has dimension = torch.Size([256])\n",
            "3.0.bn1.bias has dimension = torch.Size([256])\n",
            "3.0.bn1.running_mean has dimension = torch.Size([256])\n",
            "3.0.bn1.running_var has dimension = torch.Size([256])\n",
            "3.0.bn1.num_batches_tracked has dimension = torch.Size([])\n",
            "3.0.bn2.weight has dimension = torch.Size([256])\n",
            "3.0.bn2.bias has dimension = torch.Size([256])\n",
            "3.0.bn2.running_mean has dimension = torch.Size([256])\n",
            "3.0.bn2.running_var has dimension = torch.Size([256])\n",
            "3.0.bn2.num_batches_tracked has dimension = torch.Size([])\n",
            "3.1.conv1.weight has dimension = torch.Size([256, 256, 3, 3])\n",
            "3.1.conv2.weight has dimension = torch.Size([256, 256, 3, 3])\n",
            "3.1.bn1.weight has dimension = torch.Size([256])\n",
            "3.1.bn1.bias has dimension = torch.Size([256])\n",
            "3.1.bn1.running_mean has dimension = torch.Size([256])\n",
            "3.1.bn1.running_var has dimension = torch.Size([256])\n",
            "3.1.bn1.num_batches_tracked has dimension = torch.Size([])\n",
            "3.1.bn2.weight has dimension = torch.Size([256])\n",
            "3.1.bn2.bias has dimension = torch.Size([256])\n",
            "3.1.bn2.running_mean has dimension = torch.Size([256])\n",
            "3.1.bn2.running_var has dimension = torch.Size([256])\n",
            "3.1.bn2.num_batches_tracked has dimension = torch.Size([])\n",
            "3.2.conv1.weight has dimension = torch.Size([256, 256, 3, 3])\n",
            "3.2.conv2.weight has dimension = torch.Size([256, 256, 3, 3])\n",
            "3.2.bn1.weight has dimension = torch.Size([256])\n",
            "3.2.bn1.bias has dimension = torch.Size([256])\n",
            "3.2.bn1.running_mean has dimension = torch.Size([256])\n",
            "3.2.bn1.running_var has dimension = torch.Size([256])\n",
            "3.2.bn1.num_batches_tracked has dimension = torch.Size([])\n",
            "3.2.bn2.weight has dimension = torch.Size([256])\n",
            "3.2.bn2.bias has dimension = torch.Size([256])\n",
            "3.2.bn2.running_mean has dimension = torch.Size([256])\n",
            "3.2.bn2.running_var has dimension = torch.Size([256])\n",
            "3.2.bn2.num_batches_tracked has dimension = torch.Size([])\n",
            "3.3.conv1.weight has dimension = torch.Size([256, 256, 3, 3])\n",
            "3.3.conv2.weight has dimension = torch.Size([256, 256, 3, 3])\n",
            "3.3.bn1.weight has dimension = torch.Size([256])\n",
            "3.3.bn1.bias has dimension = torch.Size([256])\n",
            "3.3.bn1.running_mean has dimension = torch.Size([256])\n",
            "3.3.bn1.running_var has dimension = torch.Size([256])\n",
            "3.3.bn1.num_batches_tracked has dimension = torch.Size([])\n",
            "3.3.bn2.weight has dimension = torch.Size([256])\n",
            "3.3.bn2.bias has dimension = torch.Size([256])\n",
            "3.3.bn2.running_mean has dimension = torch.Size([256])\n",
            "3.3.bn2.running_var has dimension = torch.Size([256])\n",
            "3.3.bn2.num_batches_tracked has dimension = torch.Size([])\n",
            "3.4.conv1.weight has dimension = torch.Size([256, 256, 3, 3])\n",
            "3.4.conv2.weight has dimension = torch.Size([256, 256, 3, 3])\n",
            "3.4.bn1.weight has dimension = torch.Size([256])\n",
            "3.4.bn1.bias has dimension = torch.Size([256])\n",
            "3.4.bn1.running_mean has dimension = torch.Size([256])\n",
            "3.4.bn1.running_var has dimension = torch.Size([256])\n",
            "3.4.bn1.num_batches_tracked has dimension = torch.Size([])\n",
            "3.4.bn2.weight has dimension = torch.Size([256])\n",
            "3.4.bn2.bias has dimension = torch.Size([256])\n",
            "3.4.bn2.running_mean has dimension = torch.Size([256])\n",
            "3.4.bn2.running_var has dimension = torch.Size([256])\n",
            "3.4.bn2.num_batches_tracked has dimension = torch.Size([])\n",
            "3.5.conv1.weight has dimension = torch.Size([256, 256, 3, 3])\n",
            "3.5.conv2.weight has dimension = torch.Size([256, 256, 3, 3])\n",
            "3.5.bn1.weight has dimension = torch.Size([256])\n",
            "3.5.bn1.bias has dimension = torch.Size([256])\n",
            "3.5.bn1.running_mean has dimension = torch.Size([256])\n",
            "3.5.bn1.running_var has dimension = torch.Size([256])\n",
            "3.5.bn1.num_batches_tracked has dimension = torch.Size([])\n",
            "3.5.bn2.weight has dimension = torch.Size([256])\n",
            "3.5.bn2.bias has dimension = torch.Size([256])\n",
            "3.5.bn2.running_mean has dimension = torch.Size([256])\n",
            "3.5.bn2.running_var has dimension = torch.Size([256])\n",
            "3.5.bn2.num_batches_tracked has dimension = torch.Size([])\n",
            "4.0.conv1.weight has dimension = torch.Size([512, 256, 3, 3])\n",
            "4.0.conv2.weight has dimension = torch.Size([512, 512, 3, 3])\n",
            "4.0.conv3.weight has dimension = torch.Size([512, 256, 1, 1])\n",
            "4.0.conv3.bias has dimension = torch.Size([512])\n",
            "4.0.bn1.weight has dimension = torch.Size([512])\n",
            "4.0.bn1.bias has dimension = torch.Size([512])\n",
            "4.0.bn1.running_mean has dimension = torch.Size([512])\n",
            "4.0.bn1.running_var has dimension = torch.Size([512])\n",
            "4.0.bn1.num_batches_tracked has dimension = torch.Size([])\n",
            "4.0.bn2.weight has dimension = torch.Size([512])\n",
            "4.0.bn2.bias has dimension = torch.Size([512])\n",
            "4.0.bn2.running_mean has dimension = torch.Size([512])\n",
            "4.0.bn2.running_var has dimension = torch.Size([512])\n",
            "4.0.bn2.num_batches_tracked has dimension = torch.Size([])\n",
            "4.1.conv1.weight has dimension = torch.Size([512, 512, 3, 3])\n",
            "4.1.conv2.weight has dimension = torch.Size([512, 512, 3, 3])\n",
            "4.1.bn1.weight has dimension = torch.Size([512])\n",
            "4.1.bn1.bias has dimension = torch.Size([512])\n",
            "4.1.bn1.running_mean has dimension = torch.Size([512])\n",
            "4.1.bn1.running_var has dimension = torch.Size([512])\n",
            "4.1.bn1.num_batches_tracked has dimension = torch.Size([])\n",
            "4.1.bn2.weight has dimension = torch.Size([512])\n",
            "4.1.bn2.bias has dimension = torch.Size([512])\n",
            "4.1.bn2.running_mean has dimension = torch.Size([512])\n",
            "4.1.bn2.running_var has dimension = torch.Size([512])\n",
            "4.1.bn2.num_batches_tracked has dimension = torch.Size([])\n",
            "4.2.conv1.weight has dimension = torch.Size([512, 512, 3, 3])\n",
            "4.2.conv2.weight has dimension = torch.Size([512, 512, 3, 3])\n",
            "4.2.bn1.weight has dimension = torch.Size([512])\n",
            "4.2.bn1.bias has dimension = torch.Size([512])\n",
            "4.2.bn1.running_mean has dimension = torch.Size([512])\n",
            "4.2.bn1.running_var has dimension = torch.Size([512])\n",
            "4.2.bn1.num_batches_tracked has dimension = torch.Size([])\n",
            "4.2.bn2.weight has dimension = torch.Size([512])\n",
            "4.2.bn2.bias has dimension = torch.Size([512])\n",
            "4.2.bn2.running_mean has dimension = torch.Size([512])\n",
            "4.2.bn2.running_var has dimension = torch.Size([512])\n",
            "4.2.bn2.num_batches_tracked has dimension = torch.Size([])\n",
            "7.weight has dimension = torch.Size([256, 512])\n",
            "7.bias has dimension = torch.Size([256])\n",
            "8.weight has dimension = torch.Size([10, 256])\n",
            "8.bias has dimension = torch.Size([10])\n"
          ],
          "name": "stdout"
        }
      ]
    },
    {
      "cell_type": "code",
      "metadata": {
        "id": "certified-necklace"
      },
      "source": [
        ""
      ],
      "id": "certified-necklace",
      "execution_count": null,
      "outputs": []
    },
    {
      "cell_type": "code",
      "metadata": {
        "colab": {
          "base_uri": "https://localhost:8080/"
        },
        "id": "atomic-miracle",
        "outputId": "34ceda0e-4f51-4d7d-af77-b993d038e789"
      },
      "source": [
        "X = images\n",
        "X.shape"
      ],
      "id": "atomic-miracle",
      "execution_count": null,
      "outputs": [
        {
          "output_type": "execute_result",
          "data": {
            "text/plain": [
              "torch.Size([128, 3, 32, 32])"
            ]
          },
          "metadata": {
            "tags": []
          },
          "execution_count": 52
        }
      ]
    },
    {
      "cell_type": "code",
      "metadata": {
        "id": "regional-french"
      },
      "source": [
        "X.to(device) # place on device"
      ],
      "id": "regional-french",
      "execution_count": null,
      "outputs": []
    },
    {
      "cell_type": "code",
      "metadata": {
        "id": "central-reset",
        "outputId": "f827876a-0361-45f2-f048-640bb29b86fa"
      },
      "source": [
        "'''\n",
        "Before training ResNet-18, let us observe how the input shape changes across\n",
        "different modules in ResNet.\n",
        "As in all the previous architectures, the resolution decreases while the number\n",
        "of channels increases up until the point where a global average pooling layer\n",
        "aggregates all features.\n",
        "'''\n",
        "for layer in model:\n",
        "    # X.to(device)\n",
        "    X = layer(X)\n",
        "    print(layer.__class__.__name__,'output shape:\\t', X.shape)"
      ],
      "id": "central-reset",
      "execution_count": null,
      "outputs": [
        {
          "output_type": "stream",
          "text": [
            "Sequential output shape:\t torch.Size([128, 64, 32, 32])\n",
            "Sequential output shape:\t torch.Size([128, 64, 16, 16])\n",
            "Sequential output shape:\t torch.Size([128, 128, 8, 8])\n",
            "Sequential output shape:\t torch.Size([128, 256, 4, 4])\n",
            "Sequential output shape:\t torch.Size([128, 512, 2, 2])\n",
            "AdaptiveAvgPool2d output shape:\t torch.Size([128, 512, 1, 1])\n",
            "Flatten output shape:\t torch.Size([128, 512])\n",
            "Linear output shape:\t torch.Size([128, 256])\n",
            "Linear output shape:\t torch.Size([128, 10])\n"
          ],
          "name": "stdout"
        }
      ]
    },
    {
      "cell_type": "code",
      "metadata": {
        "id": "wireless-howard"
      },
      "source": [
        ""
      ],
      "id": "wireless-howard",
      "execution_count": null,
      "outputs": []
    },
    {
      "cell_type": "code",
      "metadata": {
        "colab": {
          "base_uri": "https://localhost:8080/"
        },
        "id": "improving-lecture",
        "outputId": "32b08c4f-a784-4f64-f784-e9c680cefb32"
      },
      "source": [
        "model(images.to(device)).shape"
      ],
      "id": "improving-lecture",
      "execution_count": null,
      "outputs": [
        {
          "output_type": "execute_result",
          "data": {
            "text/plain": [
              "torch.Size([128, 10])"
            ]
          },
          "metadata": {
            "tags": []
          },
          "execution_count": 26
        }
      ]
    },
    {
      "cell_type": "code",
      "metadata": {
        "id": "spanish-supervisor"
      },
      "source": [
        ""
      ],
      "id": "spanish-supervisor",
      "execution_count": null,
      "outputs": []
    },
    {
      "cell_type": "code",
      "metadata": {
        "id": "hollywood-address"
      },
      "source": [
        ""
      ],
      "id": "hollywood-address",
      "execution_count": null,
      "outputs": []
    },
    {
      "cell_type": "markdown",
      "metadata": {
        "id": "upset-notice"
      },
      "source": [
        "### Train ResNet-34 CNN model:"
      ],
      "id": "upset-notice"
    },
    {
      "cell_type": "code",
      "metadata": {
        "id": "decent-opposition"
      },
      "source": [
        "# User input parameters for Early Stopping in manual implementation-\n",
        "minimum_delta = 0.001\n",
        "patience = 3"
      ],
      "id": "decent-opposition",
      "execution_count": 26,
      "outputs": []
    },
    {
      "cell_type": "code",
      "metadata": {
        "id": "legal-tiger"
      },
      "source": [
        "# Initialize parameters for Early Stopping manual implementation-\n",
        "best_val_loss = 100\n",
        "loc_patience = 0"
      ],
      "id": "legal-tiger",
      "execution_count": 27,
      "outputs": []
    },
    {
      "cell_type": "code",
      "metadata": {
        "id": "exterior-thomas"
      },
      "source": [
        "# Define loss function and optimizer-\n",
        "loss = nn.CrossEntropyLoss()\n",
        "\n",
        "# optimizer = torch.optim.Adam(model.parameters(), lr = learning_rate)\n",
        "optimizer = torch.optim.SGD(model.parameters(), lr = 0.01, momentum = 0.9, weight_decay = 5e-4)"
      ],
      "id": "exterior-thomas",
      "execution_count": 28,
      "outputs": []
    },
    {
      "cell_type": "code",
      "metadata": {
        "id": "gentle-diagram"
      },
      "source": [
        "# Python3 lists to store model training metrics-\n",
        "training_acc = []\n",
        "validation_acc = []\n",
        "training_loss = []\n",
        "validation_loss = []"
      ],
      "id": "gentle-diagram",
      "execution_count": 29,
      "outputs": []
    },
    {
      "cell_type": "code",
      "metadata": {
        "colab": {
          "base_uri": "https://localhost:8080/"
        },
        "id": "tropical-latest",
        "outputId": "b6920b8e-36b6-4fa9-8c75-893c2289e505"
      },
      "source": [
        "for epoch in range(num_epochs):\n",
        "    running_loss = 0.0\n",
        "    running_corrects = 0.0\n",
        "    running_loss_val = 0.0\n",
        "    \n",
        "    if loc_patience >= patience:\n",
        "        print(\"\\n'EarlyStopping' called!\\n\")\n",
        "        break\n",
        "    \n",
        "    \n",
        "    for batch, (images, labels) in enumerate(train_loader):\n",
        "        # Attempt to push to GPU if available\n",
        "        images = images.to(device)\n",
        "        labels = labels.to(device)\n",
        "\n",
        "        model.train()\n",
        "\n",
        "        # Forward pass-\n",
        "        outputs = model(images)\n",
        "\n",
        "        # Compute loss-\n",
        "        J = loss(outputs, labels)\n",
        "\n",
        "        # Backward pass-\n",
        "        optimizer.zero_grad()   # empty accumulated gradients\n",
        "\n",
        "        J.backward()    # does backprop\n",
        "\n",
        "        # Updates parameters-\n",
        "        optimizer.step()\n",
        "        \n",
        "        # Compute model's performance statistics-\n",
        "        running_loss += J.item() * images.size(0)\n",
        "        _, predicted = torch.max(outputs, 1)\n",
        "        running_corrects += torch.sum(predicted == labels.data)\n",
        "\n",
        "        '''\n",
        "        # Print information every 100 steps-\n",
        "        if (batch + 1) % 100 == 0:\n",
        "            print(f\"epoch {epoch + 1}/{num_epochs}, step {batch + 1}/{num_training_steps}, loss = {J.item():.4f}\")\n",
        "        '''\n",
        "\n",
        "    epoch_loss = running_loss / len(train_dataset)\n",
        "    epoch_acc = running_corrects.double() / len(train_dataset)\n",
        "    # print(f\"\\nepoch: {epoch + 1} training loss = {epoch_loss:.4f}, training accuracy = {epoch_acc * 100:.2f}%\\n\")\n",
        "\n",
        "    total = 0\n",
        "    correct = 0\n",
        "    \n",
        "    with torch.no_grad():\n",
        "        for images, labels in test_loader:\n",
        "\n",
        "            # Place features (images) and targets (labels) to GPU-\n",
        "            images = images.to(device)\n",
        "            labels = labels.to(device)\n",
        "            # print(f\"images.shape = {images.shape}, labels.shape = {labels.shape}\")\n",
        "\n",
        "            # Set model to evaluation mode-\n",
        "            model.eval()\n",
        "    \n",
        "            # Make predictions using trained model-\n",
        "            outputs = model(images)\n",
        "            _, y_pred = torch.max(outputs, 1)\n",
        "\n",
        "            # Compute validation loss-\n",
        "            J_val = loss(outputs, labels)\n",
        "\n",
        "            running_loss_val += J_val.item() * labels.size(0)\n",
        "    \n",
        "            # Total number of labels-\n",
        "            total += labels.size(0)\n",
        "\n",
        "            # Total number of correct predictions-\n",
        "            correct += (y_pred == labels).sum()\n",
        "\n",
        "    epoch_val_loss = running_loss_val / len(test_dataset)\n",
        "    val_acc = 100 * (correct / total)\n",
        "    print(f\"\\nepoch: {epoch + 1} training loss = {epoch_loss:.4f}, training accuracy = {epoch_acc * 100:.2f}%, val_loss = {epoch_val_loss:.4f} & val_accuracy = {val_acc:.2f}%\\n\")\n",
        "\n",
        "    # Code for manual Early Stopping:\n",
        "    if np.abs(epoch_val_loss < best_val_loss) >= minimum_delta:\n",
        "        # update 'best_val_loss' variable to lowest loss encountered so far-\n",
        "        best_val_loss = epoch_val_loss\n",
        "        \n",
        "        # reset 'loc_patience' variable-\n",
        "        loc_patience = 0\n",
        "        \n",
        "    else:  # there is no improvement in monitored metric 'val_loss'\n",
        "        loc_patience += 1  # number of epochs without any improvement\n",
        "\n",
        "\n",
        "    training_acc.append(epoch_acc * 100)\n",
        "    validation_acc.append(val_acc)\n",
        "    training_loss.append(epoch_loss)\n",
        "    validation_loss.append(epoch_val_loss)"
      ],
      "id": "tropical-latest",
      "execution_count": 30,
      "outputs": [
        {
          "output_type": "stream",
          "text": [
            "\n",
            "epoch: 1 training loss = 1.6415, training accuracy = 39.09%, val_loss = 1.3673 & val_accuracy = 49.76%\n",
            "\n",
            "\n",
            "epoch: 2 training loss = 1.2774, training accuracy = 53.48%, val_loss = 1.2395 & val_accuracy = 54.96%\n",
            "\n",
            "\n",
            "epoch: 3 training loss = 1.0932, training accuracy = 60.75%, val_loss = 1.0207 & val_accuracy = 63.76%\n",
            "\n",
            "\n",
            "epoch: 4 training loss = 0.9589, training accuracy = 65.87%, val_loss = 0.9532 & val_accuracy = 66.89%\n",
            "\n",
            "\n",
            "epoch: 5 training loss = 0.8464, training accuracy = 69.86%, val_loss = 0.8976 & val_accuracy = 68.34%\n",
            "\n",
            "\n",
            "epoch: 6 training loss = 0.7627, training accuracy = 73.09%, val_loss = 0.8464 & val_accuracy = 71.97%\n",
            "\n",
            "\n",
            "epoch: 7 training loss = 0.7028, training accuracy = 75.42%, val_loss = 0.7621 & val_accuracy = 74.68%\n",
            "\n",
            "\n",
            "epoch: 8 training loss = 0.6462, training accuracy = 77.39%, val_loss = 0.6776 & val_accuracy = 77.23%\n",
            "\n",
            "\n",
            "epoch: 9 training loss = 0.6017, training accuracy = 79.17%, val_loss = 0.6349 & val_accuracy = 78.21%\n",
            "\n",
            "\n",
            "epoch: 10 training loss = 0.5632, training accuracy = 80.45%, val_loss = 0.5807 & val_accuracy = 80.01%\n",
            "\n",
            "\n",
            "epoch: 11 training loss = 0.5310, training accuracy = 81.60%, val_loss = 0.5901 & val_accuracy = 80.27%\n",
            "\n",
            "\n",
            "epoch: 12 training loss = 0.5039, training accuracy = 82.41%, val_loss = 0.6751 & val_accuracy = 78.06%\n",
            "\n",
            "\n",
            "epoch: 13 training loss = 0.4795, training accuracy = 83.38%, val_loss = 0.5447 & val_accuracy = 81.47%\n",
            "\n",
            "\n",
            "epoch: 14 training loss = 0.4493, training accuracy = 84.65%, val_loss = 0.5377 & val_accuracy = 82.46%\n",
            "\n",
            "\n",
            "epoch: 15 training loss = 0.4261, training accuracy = 85.29%, val_loss = 0.5103 & val_accuracy = 83.38%\n",
            "\n",
            "\n",
            "epoch: 16 training loss = 0.4160, training accuracy = 85.56%, val_loss = 0.5356 & val_accuracy = 82.37%\n",
            "\n",
            "\n",
            "epoch: 17 training loss = 0.3978, training accuracy = 86.05%, val_loss = 0.6020 & val_accuracy = 81.33%\n",
            "\n",
            "\n",
            "epoch: 18 training loss = 0.3779, training accuracy = 86.96%, val_loss = 0.5399 & val_accuracy = 82.43%\n",
            "\n",
            "\n",
            "'EarlyStopping' called!\n",
            "\n"
          ],
          "name": "stdout"
        }
      ]
    },
    {
      "cell_type": "code",
      "metadata": {
        "id": "quantitative-jacob"
      },
      "source": [
        ""
      ],
      "id": "quantitative-jacob",
      "execution_count": null,
      "outputs": []
    },
    {
      "cell_type": "code",
      "metadata": {
        "colab": {
          "base_uri": "https://localhost:8080/"
        },
        "id": "compressed-salem",
        "outputId": "fb4dc234-3ad7-4619-e999-3991929720ea"
      },
      "source": [
        "print(f\"\\nResNet-34 CNN training on CIFAR-10 is complete\\n\")"
      ],
      "id": "compressed-salem",
      "execution_count": null,
      "outputs": [
        {
          "output_type": "stream",
          "text": [
            "\n",
            "ResNet-34 CNN training on CIFAR-10 is complete\n",
            "\n"
          ],
          "name": "stdout"
        }
      ]
    },
    {
      "cell_type": "code",
      "metadata": {
        "id": "functional-charger"
      },
      "source": [
        ""
      ],
      "id": "functional-charger",
      "execution_count": null,
      "outputs": []
    },
    {
      "cell_type": "code",
      "metadata": {
        "id": "breeding-holiday"
      },
      "source": [
        "# Variables for computing model metrics-\n",
        "total = 0\n",
        "correct = 0"
      ],
      "id": "breeding-holiday",
      "execution_count": 31,
      "outputs": []
    },
    {
      "cell_type": "code",
      "metadata": {
        "colab": {
          "base_uri": "https://localhost:8080/"
        },
        "id": "extensive-retrieval",
        "outputId": "4ba6f0fd-caf4-44d9-a3e6-7028f76af900"
      },
      "source": [
        "# Evaluate trained CNN model. We don't want these operations to be tracked in\n",
        "# the computational graph. Hence wrap these operations in-\n",
        "with torch.no_grad():\n",
        "    for images, labels in test_loader:\n",
        "\n",
        "        # Place features (images) and targets (labels) to GPU-\n",
        "        images = images.to(device)\n",
        "        labels = labels.to(device)\n",
        "        # print(f\"images.shape = {images.shape}, labels.shape = {labels.shape}\")\n",
        "\n",
        "        # Set model to evaluation mode-\n",
        "        model.eval()\n",
        "\n",
        "        # Make predictions using trained model-\n",
        "        outputs = model(images)\n",
        "        _, y_pred = torch.max(outputs, 1)\n",
        "    \n",
        "        # Total number of labels-\n",
        "        total += labels.size(0)\n",
        "\n",
        "        # Total number of correct predictions-\n",
        "        correct += (y_pred == labels).sum()\n",
        "\n",
        "    val_acc = 100 * (correct / total)\n",
        "    print(f\"ResNet-34 trained CNN's validation metrics on CIFAR-10 are:\")\n",
        "    print(f\"accuracy = {val_acc:.2f}%, # of correct labels = {correct} & total # of labels = {total}\")\n"
      ],
      "id": "extensive-retrieval",
      "execution_count": 32,
      "outputs": [
        {
          "output_type": "stream",
          "text": [
            "ResNet-34 trained CNN's validation metrics on CIFAR-10 are:\n",
            "accuracy = 82.43%, # of correct labels = 8243 & total # of labels = 10000\n"
          ],
          "name": "stdout"
        }
      ]
    },
    {
      "cell_type": "code",
      "metadata": {
        "id": "medical-suspect"
      },
      "source": [
        ""
      ],
      "id": "medical-suspect",
      "execution_count": null,
      "outputs": []
    },
    {
      "cell_type": "code",
      "metadata": {
        "colab": {
          "base_uri": "https://localhost:8080/",
          "height": 504
        },
        "id": "physical-december",
        "outputId": "f5073eec-2bda-4098-f975-6c2b24bfd5ce"
      },
      "source": [
        "# Visualize training metrics-\n",
        "fig=plt.figure(figsize=(9, 7), dpi= 80, facecolor='w', edgecolor='k')\n",
        "\n",
        "plt.plot(np.asarray(training_acc), label = 'training accuracy')\n",
        "plt.plot(np.asarray(validation_acc), label = 'validation accuracy')\n",
        "\n",
        "plt.title(\"ResNet-34 (CIFAR-10) - Accuracy\")\n",
        "plt.xlabel(\"number of epochs\")\n",
        "plt.ylabel(\"accuracy (%)\")\n",
        "# plt.xlim((0, 20))\n",
        "plt.legend(loc = 'best')\n",
        "plt.show()\n"
      ],
      "id": "physical-december",
      "execution_count": 33,
      "outputs": [
        {
          "output_type": "display_data",
          "data": {
            "image/png": "[encoded data removed]",
            "text/plain": [
              "<Figure size 720x560 with 1 Axes>"
            ]
          },
          "metadata": {
            "tags": []
          }
        }
      ]
    },
    {
      "cell_type": "code",
      "metadata": {
        "id": "agricultural-houston"
      },
      "source": [
        ""
      ],
      "id": "agricultural-houston",
      "execution_count": null,
      "outputs": []
    },
    {
      "cell_type": "code",
      "metadata": {
        "colab": {
          "base_uri": "https://localhost:8080/",
          "height": 504
        },
        "id": "hidden-store",
        "outputId": "30f01c01-8ad6-463c-f56e-afb024d6eff4"
      },
      "source": [
        "fig=plt.figure(figsize=(9, 7), dpi= 80, facecolor='w', edgecolor='k')\n",
        "\n",
        "plt.plot(np.asarray(training_loss), label = 'training loss')\n",
        "plt.plot(np.asarray(validation_loss), label = 'validation loss')\n",
        "\n",
        "plt.title(\"ResNet-34 (CIFAR-10) - Loss\")\n",
        "plt.xlabel(\"number of epochs\")\n",
        "plt.ylabel(\"loss\")\n",
        "plt.legend(loc = 'best')\n",
        "plt.show()"
      ],
      "id": "hidden-store",
      "execution_count": 34,
      "outputs": [
        {
          "output_type": "display_data",
          "data": {
            "image/png": "[encoded data removed]",
            "text/plain": [
              "<Figure size 720x560 with 1 Axes>"
            ]
          },
          "metadata": {
            "tags": []
          }
        }
      ]
    },
    {
      "cell_type": "code",
      "metadata": {
        "id": "clear-application"
      },
      "source": [
        ""
      ],
      "id": "clear-application",
      "execution_count": null,
      "outputs": []
    },
    {
      "cell_type": "code",
      "metadata": {
        "id": "alpine-error"
      },
      "source": [
        ""
      ],
      "id": "alpine-error",
      "execution_count": null,
      "outputs": []
    },
    {
      "cell_type": "markdown",
      "metadata": {
        "id": "hollywood-porter"
      },
      "source": [
        "**Save Trained model**"
      ],
      "id": "hollywood-porter"
    },
    {
      "cell_type": "code",
      "metadata": {
        "colab": {
          "base_uri": "https://localhost:8080/",
          "height": 36
        },
        "id": "threaded-lancaster",
        "outputId": "63b1c534-a405-4c69-844a-be82c093fee8"
      },
      "source": [
        "os.getcwd()"
      ],
      "id": "threaded-lancaster",
      "execution_count": null,
      "outputs": [
        {
          "output_type": "execute_result",
          "data": {
            "application/vnd.google.colaboratory.intrinsic+json": {
              "type": "string"
            },
            "text/plain": [
              "'/content'"
            ]
          },
          "metadata": {
            "tags": []
          },
          "execution_count": 40
        }
      ]
    },
    {
      "cell_type": "code",
      "metadata": {
        "id": "starting-token"
      },
      "source": [
        "# Save trained ResNet model to HDD for later use-\n",
        "torch.save(model.state_dict(), '/content/ResNet-34_dense_layer_kaiming_normal_trained.pth')"
      ],
      "id": "starting-token",
      "execution_count": 35,
      "outputs": []
    },
    {
      "cell_type": "code",
      "metadata": {
        "id": "substantial-giving"
      },
      "source": [
        ""
      ],
      "id": "substantial-giving",
      "execution_count": null,
      "outputs": []
    },
    {
      "cell_type": "code",
      "metadata": {
        "id": "informed-bracket"
      },
      "source": [
        ""
      ],
      "id": "informed-bracket",
      "execution_count": null,
      "outputs": []
    },
    {
      "cell_type": "code",
      "metadata": {
        "id": "behavioral-consumption"
      },
      "source": [
        "# Initialize ResNet-34 model for testing trained model-\n",
        "\n",
        "# Initialize ResNet-18 model for randomly initialized weights-\n",
        "model_random = nn.Sequential(\n",
        "    b1, b2, b3, b4, b5,\n",
        "    nn.AdaptiveAvgPool2d((1,1)),\n",
        "    nn.Flatten(),\n",
        "    nn.Linear(in_features = 512, out_features = 10))"
      ],
      "id": "behavioral-consumption",
      "execution_count": null,
      "outputs": []
    },
    {
      "cell_type": "code",
      "metadata": {
        "colab": {
          "base_uri": "https://localhost:8080/"
        },
        "id": "broken-surgery",
        "outputId": "34e0896f-3730-4146-dcf6-ee3bf9324e8a"
      },
      "source": [
        "# Load random weights-\n",
        "model_random.load_state_dict(torch.load('/content/ResNet-18_kaiming_normal_random_weights.pth'))"
      ],
      "id": "broken-surgery",
      "execution_count": null,
      "outputs": [
        {
          "output_type": "execute_result",
          "data": {
            "text/plain": [
              "<All keys matched successfully>"
            ]
          },
          "metadata": {
            "tags": []
          },
          "execution_count": 56
        }
      ]
    },
    {
      "cell_type": "code",
      "metadata": {
        "colab": {
          "base_uri": "https://localhost:8080/"
        },
        "id": "agreed-three",
        "outputId": "e061a8fa-2349-4bd9-8d1a-18ef5b17a850"
      },
      "source": [
        "# Set model to evaluation mode-\n",
        "model_random.eval()"
      ],
      "id": "agreed-three",
      "execution_count": null,
      "outputs": [
        {
          "output_type": "execute_result",
          "data": {
            "text/plain": [
              "Sequential(\n",
              "  (0): Sequential(\n",
              "    (0): Conv2d(3, 64, kernel_size=(7, 7), stride=(2, 2), padding=(3, 3))\n",
              "    (1): BatchNorm2d(64, eps=1e-05, momentum=0.1, affine=True, track_running_stats=True)\n",
              "    (2): ReLU()\n",
              "    (3): MaxPool2d(kernel_size=3, stride=2, padding=1, dilation=1, ceil_mode=False)\n",
              "  )\n",
              "  (1): Sequential(\n",
              "    (0): ResidualBlock(\n",
              "      (conv1): Conv2d(64, 64, kernel_size=(3, 3), stride=(1, 1), padding=(1, 1), bias=False)\n",
              "      (conv2): Conv2d(64, 64, kernel_size=(3, 3), stride=(1, 1), padding=(1, 1), bias=False)\n",
              "      (bn1): BatchNorm2d(64, eps=1e-05, momentum=0.1, affine=True, track_running_stats=True)\n",
              "      (bn2): BatchNorm2d(64, eps=1e-05, momentum=0.1, affine=True, track_running_stats=True)\n",
              "      (relu): ReLU(inplace=True)\n",
              "    )\n",
              "    (1): ResidualBlock(\n",
              "      (conv1): Conv2d(64, 64, kernel_size=(3, 3), stride=(1, 1), padding=(1, 1), bias=False)\n",
              "      (conv2): Conv2d(64, 64, kernel_size=(3, 3), stride=(1, 1), padding=(1, 1), bias=False)\n",
              "      (bn1): BatchNorm2d(64, eps=1e-05, momentum=0.1, affine=True, track_running_stats=True)\n",
              "      (bn2): BatchNorm2d(64, eps=1e-05, momentum=0.1, affine=True, track_running_stats=True)\n",
              "      (relu): ReLU(inplace=True)\n",
              "    )\n",
              "  )\n",
              "  (2): Sequential(\n",
              "    (0): ResidualBlock(\n",
              "      (conv1): Conv2d(64, 128, kernel_size=(3, 3), stride=(2, 2), padding=(1, 1), bias=False)\n",
              "      (conv2): Conv2d(128, 128, kernel_size=(3, 3), stride=(1, 1), padding=(1, 1), bias=False)\n",
              "      (conv3): Conv2d(64, 128, kernel_size=(1, 1), stride=(2, 2))\n",
              "      (bn1): BatchNorm2d(128, eps=1e-05, momentum=0.1, affine=True, track_running_stats=True)\n",
              "      (bn2): BatchNorm2d(128, eps=1e-05, momentum=0.1, affine=True, track_running_stats=True)\n",
              "      (relu): ReLU(inplace=True)\n",
              "    )\n",
              "    (1): ResidualBlock(\n",
              "      (conv1): Conv2d(128, 128, kernel_size=(3, 3), stride=(1, 1), padding=(1, 1), bias=False)\n",
              "      (conv2): Conv2d(128, 128, kernel_size=(3, 3), stride=(1, 1), padding=(1, 1), bias=False)\n",
              "      (bn1): BatchNorm2d(128, eps=1e-05, momentum=0.1, affine=True, track_running_stats=True)\n",
              "      (bn2): BatchNorm2d(128, eps=1e-05, momentum=0.1, affine=True, track_running_stats=True)\n",
              "      (relu): ReLU(inplace=True)\n",
              "    )\n",
              "  )\n",
              "  (3): Sequential(\n",
              "    (0): ResidualBlock(\n",
              "      (conv1): Conv2d(128, 256, kernel_size=(3, 3), stride=(2, 2), padding=(1, 1), bias=False)\n",
              "      (conv2): Conv2d(256, 256, kernel_size=(3, 3), stride=(1, 1), padding=(1, 1), bias=False)\n",
              "      (conv3): Conv2d(128, 256, kernel_size=(1, 1), stride=(2, 2))\n",
              "      (bn1): BatchNorm2d(256, eps=1e-05, momentum=0.1, affine=True, track_running_stats=True)\n",
              "      (bn2): BatchNorm2d(256, eps=1e-05, momentum=0.1, affine=True, track_running_stats=True)\n",
              "      (relu): ReLU(inplace=True)\n",
              "    )\n",
              "    (1): ResidualBlock(\n",
              "      (conv1): Conv2d(256, 256, kernel_size=(3, 3), stride=(1, 1), padding=(1, 1), bias=False)\n",
              "      (conv2): Conv2d(256, 256, kernel_size=(3, 3), stride=(1, 1), padding=(1, 1), bias=False)\n",
              "      (bn1): BatchNorm2d(256, eps=1e-05, momentum=0.1, affine=True, track_running_stats=True)\n",
              "      (bn2): BatchNorm2d(256, eps=1e-05, momentum=0.1, affine=True, track_running_stats=True)\n",
              "      (relu): ReLU(inplace=True)\n",
              "    )\n",
              "  )\n",
              "  (4): Sequential(\n",
              "    (0): ResidualBlock(\n",
              "      (conv1): Conv2d(256, 512, kernel_size=(3, 3), stride=(2, 2), padding=(1, 1), bias=False)\n",
              "      (conv2): Conv2d(512, 512, kernel_size=(3, 3), stride=(1, 1), padding=(1, 1), bias=False)\n",
              "      (conv3): Conv2d(256, 512, kernel_size=(1, 1), stride=(2, 2))\n",
              "      (bn1): BatchNorm2d(512, eps=1e-05, momentum=0.1, affine=True, track_running_stats=True)\n",
              "      (bn2): BatchNorm2d(512, eps=1e-05, momentum=0.1, affine=True, track_running_stats=True)\n",
              "      (relu): ReLU(inplace=True)\n",
              "    )\n",
              "    (1): ResidualBlock(\n",
              "      (conv1): Conv2d(512, 512, kernel_size=(3, 3), stride=(1, 1), padding=(1, 1), bias=False)\n",
              "      (conv2): Conv2d(512, 512, kernel_size=(3, 3), stride=(1, 1), padding=(1, 1), bias=False)\n",
              "      (bn1): BatchNorm2d(512, eps=1e-05, momentum=0.1, affine=True, track_running_stats=True)\n",
              "      (bn2): BatchNorm2d(512, eps=1e-05, momentum=0.1, affine=True, track_running_stats=True)\n",
              "      (relu): ReLU(inplace=True)\n",
              "    )\n",
              "  )\n",
              "  (5): AdaptiveAvgPool2d(output_size=(1, 1))\n",
              "  (6): Flatten(start_dim=1, end_dim=-1)\n",
              "  (7): Linear(in_features=512, out_features=10, bias=True)\n",
              ")"
            ]
          },
          "metadata": {
            "tags": []
          },
          "execution_count": 57
        }
      ]
    },
    {
      "cell_type": "code",
      "metadata": {
        "colab": {
          "base_uri": "https://localhost:8080/"
        },
        "id": "typical-communication",
        "outputId": "ac82b607-773e-4e9d-857b-90bf15965cc6"
      },
      "source": [
        "# Place model on GPU-\n",
        "model_random.to(device)"
      ],
      "id": "typical-communication",
      "execution_count": null,
      "outputs": [
        {
          "output_type": "execute_result",
          "data": {
            "text/plain": [
              "Sequential(\n",
              "  (0): Sequential(\n",
              "    (0): Conv2d(3, 64, kernel_size=(7, 7), stride=(2, 2), padding=(3, 3))\n",
              "    (1): BatchNorm2d(64, eps=1e-05, momentum=0.1, affine=True, track_running_stats=True)\n",
              "    (2): ReLU()\n",
              "    (3): MaxPool2d(kernel_size=3, stride=2, padding=1, dilation=1, ceil_mode=False)\n",
              "  )\n",
              "  (1): Sequential(\n",
              "    (0): ResidualBlock(\n",
              "      (conv1): Conv2d(64, 64, kernel_size=(3, 3), stride=(1, 1), padding=(1, 1), bias=False)\n",
              "      (conv2): Conv2d(64, 64, kernel_size=(3, 3), stride=(1, 1), padding=(1, 1), bias=False)\n",
              "      (bn1): BatchNorm2d(64, eps=1e-05, momentum=0.1, affine=True, track_running_stats=True)\n",
              "      (bn2): BatchNorm2d(64, eps=1e-05, momentum=0.1, affine=True, track_running_stats=True)\n",
              "      (relu): ReLU(inplace=True)\n",
              "    )\n",
              "    (1): ResidualBlock(\n",
              "      (conv1): Conv2d(64, 64, kernel_size=(3, 3), stride=(1, 1), padding=(1, 1), bias=False)\n",
              "      (conv2): Conv2d(64, 64, kernel_size=(3, 3), stride=(1, 1), padding=(1, 1), bias=False)\n",
              "      (bn1): BatchNorm2d(64, eps=1e-05, momentum=0.1, affine=True, track_running_stats=True)\n",
              "      (bn2): BatchNorm2d(64, eps=1e-05, momentum=0.1, affine=True, track_running_stats=True)\n",
              "      (relu): ReLU(inplace=True)\n",
              "    )\n",
              "  )\n",
              "  (2): Sequential(\n",
              "    (0): ResidualBlock(\n",
              "      (conv1): Conv2d(64, 128, kernel_size=(3, 3), stride=(2, 2), padding=(1, 1), bias=False)\n",
              "      (conv2): Conv2d(128, 128, kernel_size=(3, 3), stride=(1, 1), padding=(1, 1), bias=False)\n",
              "      (conv3): Conv2d(64, 128, kernel_size=(1, 1), stride=(2, 2))\n",
              "      (bn1): BatchNorm2d(128, eps=1e-05, momentum=0.1, affine=True, track_running_stats=True)\n",
              "      (bn2): BatchNorm2d(128, eps=1e-05, momentum=0.1, affine=True, track_running_stats=True)\n",
              "      (relu): ReLU(inplace=True)\n",
              "    )\n",
              "    (1): ResidualBlock(\n",
              "      (conv1): Conv2d(128, 128, kernel_size=(3, 3), stride=(1, 1), padding=(1, 1), bias=False)\n",
              "      (conv2): Conv2d(128, 128, kernel_size=(3, 3), stride=(1, 1), padding=(1, 1), bias=False)\n",
              "      (bn1): BatchNorm2d(128, eps=1e-05, momentum=0.1, affine=True, track_running_stats=True)\n",
              "      (bn2): BatchNorm2d(128, eps=1e-05, momentum=0.1, affine=True, track_running_stats=True)\n",
              "      (relu): ReLU(inplace=True)\n",
              "    )\n",
              "  )\n",
              "  (3): Sequential(\n",
              "    (0): ResidualBlock(\n",
              "      (conv1): Conv2d(128, 256, kernel_size=(3, 3), stride=(2, 2), padding=(1, 1), bias=False)\n",
              "      (conv2): Conv2d(256, 256, kernel_size=(3, 3), stride=(1, 1), padding=(1, 1), bias=False)\n",
              "      (conv3): Conv2d(128, 256, kernel_size=(1, 1), stride=(2, 2))\n",
              "      (bn1): BatchNorm2d(256, eps=1e-05, momentum=0.1, affine=True, track_running_stats=True)\n",
              "      (bn2): BatchNorm2d(256, eps=1e-05, momentum=0.1, affine=True, track_running_stats=True)\n",
              "      (relu): ReLU(inplace=True)\n",
              "    )\n",
              "    (1): ResidualBlock(\n",
              "      (conv1): Conv2d(256, 256, kernel_size=(3, 3), stride=(1, 1), padding=(1, 1), bias=False)\n",
              "      (conv2): Conv2d(256, 256, kernel_size=(3, 3), stride=(1, 1), padding=(1, 1), bias=False)\n",
              "      (bn1): BatchNorm2d(256, eps=1e-05, momentum=0.1, affine=True, track_running_stats=True)\n",
              "      (bn2): BatchNorm2d(256, eps=1e-05, momentum=0.1, affine=True, track_running_stats=True)\n",
              "      (relu): ReLU(inplace=True)\n",
              "    )\n",
              "  )\n",
              "  (4): Sequential(\n",
              "    (0): ResidualBlock(\n",
              "      (conv1): Conv2d(256, 512, kernel_size=(3, 3), stride=(2, 2), padding=(1, 1), bias=False)\n",
              "      (conv2): Conv2d(512, 512, kernel_size=(3, 3), stride=(1, 1), padding=(1, 1), bias=False)\n",
              "      (conv3): Conv2d(256, 512, kernel_size=(1, 1), stride=(2, 2))\n",
              "      (bn1): BatchNorm2d(512, eps=1e-05, momentum=0.1, affine=True, track_running_stats=True)\n",
              "      (bn2): BatchNorm2d(512, eps=1e-05, momentum=0.1, affine=True, track_running_stats=True)\n",
              "      (relu): ReLU(inplace=True)\n",
              "    )\n",
              "    (1): ResidualBlock(\n",
              "      (conv1): Conv2d(512, 512, kernel_size=(3, 3), stride=(1, 1), padding=(1, 1), bias=False)\n",
              "      (conv2): Conv2d(512, 512, kernel_size=(3, 3), stride=(1, 1), padding=(1, 1), bias=False)\n",
              "      (bn1): BatchNorm2d(512, eps=1e-05, momentum=0.1, affine=True, track_running_stats=True)\n",
              "      (bn2): BatchNorm2d(512, eps=1e-05, momentum=0.1, affine=True, track_running_stats=True)\n",
              "      (relu): ReLU(inplace=True)\n",
              "    )\n",
              "  )\n",
              "  (5): AdaptiveAvgPool2d(output_size=(1, 1))\n",
              "  (6): Flatten(start_dim=1, end_dim=-1)\n",
              "  (7): Linear(in_features=512, out_features=10, bias=True)\n",
              ")"
            ]
          },
          "metadata": {
            "tags": []
          },
          "execution_count": 58
        }
      ]
    },
    {
      "cell_type": "code",
      "metadata": {
        "id": "lonely-township"
      },
      "source": [
        ""
      ],
      "id": "lonely-township",
      "execution_count": null,
      "outputs": []
    },
    {
      "cell_type": "code",
      "metadata": {
        "id": "complete-society"
      },
      "source": [
        "total = 0.0\n",
        "correct = 0.0"
      ],
      "id": "complete-society",
      "execution_count": null,
      "outputs": []
    },
    {
      "cell_type": "code",
      "metadata": {
        "colab": {
          "base_uri": "https://localhost:8080/"
        },
        "id": "remarkable-cleanup",
        "outputId": "f73f7224-38d6-4b3f-9731-303b9b7a66f1"
      },
      "source": [
        "# Evaluate trained CNN model. We don't want these operations to be tracked in\n",
        "# the computational graph. Hence wrap these operations in-\n",
        "with torch.no_grad():\n",
        "    for images, labels in test_loader:\n",
        "\n",
        "        # Place features (images) and targets (labels) to GPU-\n",
        "        images = images.to(device)\n",
        "        labels = labels.to(device)\n",
        "        # print(f\"images.shape = {images.shape}, labels.shape = {labels.shape}\")\n",
        "\n",
        "        # Set model to evaluation mode-\n",
        "        # model_testing.eval()\n",
        "\n",
        "        # Make predictions using trained model-\n",
        "        outputs = model_random(images)\n",
        "        _, y_pred = torch.max(outputs, 1)\n",
        "    \n",
        "        # Total number of labels-\n",
        "        total += labels.size(0)\n",
        "\n",
        "        # Total number of correct predictions-\n",
        "        correct += (y_pred == labels).sum()\n",
        "\n",
        "    val_acc = 100 * (correct / total)\n",
        "    print(f\"ResNet-22 randomly initialized CNN's validation metrics on CIFAR-10 are:\")\n",
        "    print(f\"accuracy = {val_acc:.2f}%, # of correct labels = {correct} & total # of labels = {total}\")\n"
      ],
      "id": "remarkable-cleanup",
      "execution_count": null,
      "outputs": [
        {
          "output_type": "stream",
          "text": [
            "ResNet-19 randomly initialized CNN's validation metrics on CIFAR-10 are:\n",
            "accuracy = 11.28%, # of correct labels = 1128.0 & total # of labels = 10000.0\n"
          ],
          "name": "stdout"
        }
      ]
    },
    {
      "cell_type": "code",
      "metadata": {
        "id": "printable-constitutional"
      },
      "source": [
        ""
      ],
      "id": "printable-constitutional",
      "execution_count": null,
      "outputs": []
    },
    {
      "cell_type": "code",
      "metadata": {
        "colab": {
          "base_uri": "https://localhost:8080/"
        },
        "id": "unable-voice",
        "outputId": "e5be0afd-5266-443f-87c4-382741415d39"
      },
      "source": [
        "for layer in model.state_dict():\n",
        "    print(f\"layer = {layer} has dimensions: {model.state_dict()[layer].shape}\")\n",
        "    # print(layer)"
      ],
      "id": "unable-voice",
      "execution_count": null,
      "outputs": [
        {
          "output_type": "stream",
          "text": [
            "layer = 0.0.weight has dimensions: torch.Size([64, 3, 7, 7])\n",
            "layer = 0.0.bias has dimensions: torch.Size([64])\n",
            "layer = 0.1.weight has dimensions: torch.Size([64])\n",
            "layer = 0.1.bias has dimensions: torch.Size([64])\n",
            "layer = 0.1.running_mean has dimensions: torch.Size([64])\n",
            "layer = 0.1.running_var has dimensions: torch.Size([64])\n",
            "layer = 0.1.num_batches_tracked has dimensions: torch.Size([])\n",
            "layer = 1.0.conv1.weight has dimensions: torch.Size([64, 64, 3, 3])\n",
            "layer = 1.0.conv2.weight has dimensions: torch.Size([64, 64, 3, 3])\n",
            "layer = 1.0.bn1.weight has dimensions: torch.Size([64])\n",
            "layer = 1.0.bn1.bias has dimensions: torch.Size([64])\n",
            "layer = 1.0.bn1.running_mean has dimensions: torch.Size([64])\n",
            "layer = 1.0.bn1.running_var has dimensions: torch.Size([64])\n",
            "layer = 1.0.bn1.num_batches_tracked has dimensions: torch.Size([])\n",
            "layer = 1.0.bn2.weight has dimensions: torch.Size([64])\n",
            "layer = 1.0.bn2.bias has dimensions: torch.Size([64])\n",
            "layer = 1.0.bn2.running_mean has dimensions: torch.Size([64])\n",
            "layer = 1.0.bn2.running_var has dimensions: torch.Size([64])\n",
            "layer = 1.0.bn2.num_batches_tracked has dimensions: torch.Size([])\n",
            "layer = 1.1.conv1.weight has dimensions: torch.Size([64, 64, 3, 3])\n",
            "layer = 1.1.conv2.weight has dimensions: torch.Size([64, 64, 3, 3])\n",
            "layer = 1.1.bn1.weight has dimensions: torch.Size([64])\n",
            "layer = 1.1.bn1.bias has dimensions: torch.Size([64])\n",
            "layer = 1.1.bn1.running_mean has dimensions: torch.Size([64])\n",
            "layer = 1.1.bn1.running_var has dimensions: torch.Size([64])\n",
            "layer = 1.1.bn1.num_batches_tracked has dimensions: torch.Size([])\n",
            "layer = 1.1.bn2.weight has dimensions: torch.Size([64])\n",
            "layer = 1.1.bn2.bias has dimensions: torch.Size([64])\n",
            "layer = 1.1.bn2.running_mean has dimensions: torch.Size([64])\n",
            "layer = 1.1.bn2.running_var has dimensions: torch.Size([64])\n",
            "layer = 1.1.bn2.num_batches_tracked has dimensions: torch.Size([])\n",
            "layer = 2.0.conv1.weight has dimensions: torch.Size([128, 64, 3, 3])\n",
            "layer = 2.0.conv2.weight has dimensions: torch.Size([128, 128, 3, 3])\n",
            "layer = 2.0.conv3.weight has dimensions: torch.Size([128, 64, 1, 1])\n",
            "layer = 2.0.conv3.bias has dimensions: torch.Size([128])\n",
            "layer = 2.0.bn1.weight has dimensions: torch.Size([128])\n",
            "layer = 2.0.bn1.bias has dimensions: torch.Size([128])\n",
            "layer = 2.0.bn1.running_mean has dimensions: torch.Size([128])\n",
            "layer = 2.0.bn1.running_var has dimensions: torch.Size([128])\n",
            "layer = 2.0.bn1.num_batches_tracked has dimensions: torch.Size([])\n",
            "layer = 2.0.bn2.weight has dimensions: torch.Size([128])\n",
            "layer = 2.0.bn2.bias has dimensions: torch.Size([128])\n",
            "layer = 2.0.bn2.running_mean has dimensions: torch.Size([128])\n",
            "layer = 2.0.bn2.running_var has dimensions: torch.Size([128])\n",
            "layer = 2.0.bn2.num_batches_tracked has dimensions: torch.Size([])\n",
            "layer = 2.1.conv1.weight has dimensions: torch.Size([128, 128, 3, 3])\n",
            "layer = 2.1.conv2.weight has dimensions: torch.Size([128, 128, 3, 3])\n",
            "layer = 2.1.bn1.weight has dimensions: torch.Size([128])\n",
            "layer = 2.1.bn1.bias has dimensions: torch.Size([128])\n",
            "layer = 2.1.bn1.running_mean has dimensions: torch.Size([128])\n",
            "layer = 2.1.bn1.running_var has dimensions: torch.Size([128])\n",
            "layer = 2.1.bn1.num_batches_tracked has dimensions: torch.Size([])\n",
            "layer = 2.1.bn2.weight has dimensions: torch.Size([128])\n",
            "layer = 2.1.bn2.bias has dimensions: torch.Size([128])\n",
            "layer = 2.1.bn2.running_mean has dimensions: torch.Size([128])\n",
            "layer = 2.1.bn2.running_var has dimensions: torch.Size([128])\n",
            "layer = 2.1.bn2.num_batches_tracked has dimensions: torch.Size([])\n",
            "layer = 3.0.conv1.weight has dimensions: torch.Size([256, 128, 3, 3])\n",
            "layer = 3.0.conv2.weight has dimensions: torch.Size([256, 256, 3, 3])\n",
            "layer = 3.0.conv3.weight has dimensions: torch.Size([256, 128, 1, 1])\n",
            "layer = 3.0.conv3.bias has dimensions: torch.Size([256])\n",
            "layer = 3.0.bn1.weight has dimensions: torch.Size([256])\n",
            "layer = 3.0.bn1.bias has dimensions: torch.Size([256])\n",
            "layer = 3.0.bn1.running_mean has dimensions: torch.Size([256])\n",
            "layer = 3.0.bn1.running_var has dimensions: torch.Size([256])\n",
            "layer = 3.0.bn1.num_batches_tracked has dimensions: torch.Size([])\n",
            "layer = 3.0.bn2.weight has dimensions: torch.Size([256])\n",
            "layer = 3.0.bn2.bias has dimensions: torch.Size([256])\n",
            "layer = 3.0.bn2.running_mean has dimensions: torch.Size([256])\n",
            "layer = 3.0.bn2.running_var has dimensions: torch.Size([256])\n",
            "layer = 3.0.bn2.num_batches_tracked has dimensions: torch.Size([])\n",
            "layer = 3.1.conv1.weight has dimensions: torch.Size([256, 256, 3, 3])\n",
            "layer = 3.1.conv2.weight has dimensions: torch.Size([256, 256, 3, 3])\n",
            "layer = 3.1.bn1.weight has dimensions: torch.Size([256])\n",
            "layer = 3.1.bn1.bias has dimensions: torch.Size([256])\n",
            "layer = 3.1.bn1.running_mean has dimensions: torch.Size([256])\n",
            "layer = 3.1.bn1.running_var has dimensions: torch.Size([256])\n",
            "layer = 3.1.bn1.num_batches_tracked has dimensions: torch.Size([])\n",
            "layer = 3.1.bn2.weight has dimensions: torch.Size([256])\n",
            "layer = 3.1.bn2.bias has dimensions: torch.Size([256])\n",
            "layer = 3.1.bn2.running_mean has dimensions: torch.Size([256])\n",
            "layer = 3.1.bn2.running_var has dimensions: torch.Size([256])\n",
            "layer = 3.1.bn2.num_batches_tracked has dimensions: torch.Size([])\n",
            "layer = 4.0.conv1.weight has dimensions: torch.Size([512, 256, 3, 3])\n",
            "layer = 4.0.conv2.weight has dimensions: torch.Size([512, 512, 3, 3])\n",
            "layer = 4.0.conv3.weight has dimensions: torch.Size([512, 256, 1, 1])\n",
            "layer = 4.0.conv3.bias has dimensions: torch.Size([512])\n",
            "layer = 4.0.bn1.weight has dimensions: torch.Size([512])\n",
            "layer = 4.0.bn1.bias has dimensions: torch.Size([512])\n",
            "layer = 4.0.bn1.running_mean has dimensions: torch.Size([512])\n",
            "layer = 4.0.bn1.running_var has dimensions: torch.Size([512])\n",
            "layer = 4.0.bn1.num_batches_tracked has dimensions: torch.Size([])\n",
            "layer = 4.0.bn2.weight has dimensions: torch.Size([512])\n",
            "layer = 4.0.bn2.bias has dimensions: torch.Size([512])\n",
            "layer = 4.0.bn2.running_mean has dimensions: torch.Size([512])\n",
            "layer = 4.0.bn2.running_var has dimensions: torch.Size([512])\n",
            "layer = 4.0.bn2.num_batches_tracked has dimensions: torch.Size([])\n",
            "layer = 4.1.conv1.weight has dimensions: torch.Size([512, 512, 3, 3])\n",
            "layer = 4.1.conv2.weight has dimensions: torch.Size([512, 512, 3, 3])\n",
            "layer = 4.1.bn1.weight has dimensions: torch.Size([512])\n",
            "layer = 4.1.bn1.bias has dimensions: torch.Size([512])\n",
            "layer = 4.1.bn1.running_mean has dimensions: torch.Size([512])\n",
            "layer = 4.1.bn1.running_var has dimensions: torch.Size([512])\n",
            "layer = 4.1.bn1.num_batches_tracked has dimensions: torch.Size([])\n",
            "layer = 4.1.bn2.weight has dimensions: torch.Size([512])\n",
            "layer = 4.1.bn2.bias has dimensions: torch.Size([512])\n",
            "layer = 4.1.bn2.running_mean has dimensions: torch.Size([512])\n",
            "layer = 4.1.bn2.running_var has dimensions: torch.Size([512])\n",
            "layer = 4.1.bn2.num_batches_tracked has dimensions: torch.Size([])\n",
            "layer = 7.weight has dimensions: torch.Size([10, 512])\n",
            "layer = 7.bias has dimensions: torch.Size([10])\n"
          ],
          "name": "stdout"
        }
      ]
    },
    {
      "cell_type": "code",
      "metadata": {
        "id": "concrete-heath"
      },
      "source": [
        ""
      ],
      "id": "concrete-heath",
      "execution_count": null,
      "outputs": []
    },
    {
      "cell_type": "code",
      "metadata": {
        "id": "acting-audience"
      },
      "source": [
        "import seaborn as sns"
      ],
      "id": "acting-audience",
      "execution_count": null,
      "outputs": []
    },
    {
      "cell_type": "code",
      "metadata": {
        "id": "russian-resource"
      },
      "source": [
        "# Extract conv1 trained weights-\n",
        "conv1_trained = model.state_dict()['0.0.weight'].cpu()"
      ],
      "id": "russian-resource",
      "execution_count": null,
      "outputs": []
    },
    {
      "cell_type": "code",
      "metadata": {
        "id": "nearby-linux"
      },
      "source": [
        "# Extract conv1 random weights-\n",
        "conv1_random = model_random.state_dict()['0.0.weight'].cpu()"
      ],
      "id": "nearby-linux",
      "execution_count": null,
      "outputs": []
    },
    {
      "cell_type": "code",
      "metadata": {
        "colab": {
          "base_uri": "https://localhost:8080/"
        },
        "id": "quiet-flush",
        "outputId": "6833a928-f917-4c49-f488-5d4fcb4f061e"
      },
      "source": [
        "conv1_trained.shape, conv1_trained.flatten().shape"
      ],
      "id": "quiet-flush",
      "execution_count": null,
      "outputs": [
        {
          "output_type": "execute_result",
          "data": {
            "text/plain": [
              "(torch.Size([64, 3, 7, 7]), torch.Size([9408]))"
            ]
          },
          "metadata": {
            "tags": []
          },
          "execution_count": 81
        }
      ]
    },
    {
      "cell_type": "code",
      "metadata": {
        "colab": {
          "base_uri": "https://localhost:8080/"
        },
        "id": "practical-aerospace",
        "outputId": "fd6021f8-5927-4338-d535-fdd77245e80f"
      },
      "source": [
        "conv1_random.shape, conv1_random.flatten().shape"
      ],
      "id": "practical-aerospace",
      "execution_count": null,
      "outputs": [
        {
          "output_type": "execute_result",
          "data": {
            "text/plain": [
              "(torch.Size([64, 3, 7, 7]), torch.Size([9408]))"
            ]
          },
          "metadata": {
            "tags": []
          },
          "execution_count": 76
        }
      ]
    },
    {
      "cell_type": "code",
      "metadata": {
        "id": "junior-haven"
      },
      "source": [
        ""
      ],
      "id": "junior-haven",
      "execution_count": null,
      "outputs": []
    },
    {
      "cell_type": "code",
      "metadata": {
        "id": "christian-address"
      },
      "source": [
        ""
      ],
      "id": "christian-address",
      "execution_count": null,
      "outputs": []
    },
    {
      "cell_type": "code",
      "metadata": {
        "colab": {
          "base_uri": "https://localhost:8080/",
          "height": 320
        },
        "id": "jewish-crawford",
        "outputId": "1b3daa26-d7ed-4de2-a0e8-953825a2207c"
      },
      "source": [
        "plt.figure(figsize = (10, 5))\n",
        "plt.hist(conv1_random.flatten(), label = 'kaiming normal random')\n",
        "plt.show()"
      ],
      "id": "jewish-crawford",
      "execution_count": null,
      "outputs": [
        {
          "output_type": "display_data",
          "data": {
            "image/png": "[encoded data removed]",
            "text/plain": [
              "<Figure size 720x360 with 1 Axes>"
            ]
          },
          "metadata": {
            "tags": [],
            "needs_background": "light"
          }
        }
      ]
    },
    {
      "cell_type": "code",
      "metadata": {
        "colab": {
          "base_uri": "https://localhost:8080/",
          "height": 458
        },
        "id": "french-royalty",
        "outputId": "df90f6c4-cecd-4d39-a57b-6f9063f80c59"
      },
      "source": [
        "plt.figure(figsize = (10, 7))\n",
        "\n",
        "# sns.displot(data = conv1_random.flatten(), kde = True, label = 'kaiming normal random')\n",
        "# sns.displot(data = conv1_trained.flatten(), kde = True, label = 'trained')\n",
        "\n",
        "plt.hist(conv1_random.flatten(), label = 'kaiming normal random')\n",
        "plt.hist(conv1_trained.flatten(), label = 'trained')\n",
        "\n",
        "plt.xlabel(\"weights\")\n",
        "plt.ylabel(\"count\")\n",
        "plt.legend(loc = 'best')\n",
        "plt.title(\"ReNet-22: First conv layer\")\n",
        "plt.show()"
      ],
      "id": "french-royalty",
      "execution_count": null,
      "outputs": [
        {
          "output_type": "display_data",
          "data": {
            "image/png": "[encoded data removed]",
            "text/plain": [
              "<Figure size 720x504 with 1 Axes>"
            ]
          },
          "metadata": {
            "tags": [],
            "needs_background": "light"
          }
        }
      ]
    },
    {
      "cell_type": "code",
      "metadata": {
        "id": "intimate-influence"
      },
      "source": [
        ""
      ],
      "id": "intimate-influence",
      "execution_count": null,
      "outputs": []
    },
    {
      "cell_type": "code",
      "metadata": {
        "id": "outdoor-genre"
      },
      "source": [
        ""
      ],
      "id": "outdoor-genre",
      "execution_count": null,
      "outputs": []
    },
    {
      "cell_type": "code",
      "metadata": {
        "id": "chemical-volunteer"
      },
      "source": [
        ""
      ],
      "id": "chemical-volunteer",
      "execution_count": null,
      "outputs": []
    },
    {
      "cell_type": "code",
      "metadata": {
        "id": "frozen-combining"
      },
      "source": [
        ""
      ],
      "id": "frozen-combining",
      "execution_count": null,
      "outputs": []
    },
    {
      "cell_type": "code",
      "metadata": {
        "colab": {
          "base_uri": "https://localhost:8080/"
        },
        "id": "seven-valuation",
        "outputId": "0617ef63-5c80-4e6a-e277-a50771915f13"
      },
      "source": [
        "# Load pre-trained model from before-\n",
        "model_testing.load_state_dict(torch.load('/content/ResNet-19_trained.pth'))\n",
        "model_testing.eval()"
      ],
      "id": "seven-valuation",
      "execution_count": null,
      "outputs": [
        {
          "output_type": "execute_result",
          "data": {
            "text/plain": [
              "Sequential(\n",
              "  (0): Sequential(\n",
              "    (0): Conv2d(3, 64, kernel_size=(7, 7), stride=(2, 2), padding=(3, 3))\n",
              "    (1): BatchNorm2d(64, eps=1e-05, momentum=0.1, affine=True, track_running_stats=True)\n",
              "    (2): ReLU()\n",
              "    (3): MaxPool2d(kernel_size=3, stride=2, padding=1, dilation=1, ceil_mode=False)\n",
              "  )\n",
              "  (1): Sequential(\n",
              "    (0): ResidualBlock(\n",
              "      (conv1): Conv2d(64, 64, kernel_size=(3, 3), stride=(1, 1), padding=(1, 1), bias=False)\n",
              "      (conv2): Conv2d(64, 64, kernel_size=(3, 3), stride=(1, 1), padding=(1, 1), bias=False)\n",
              "      (bn1): BatchNorm2d(64, eps=1e-05, momentum=0.1, affine=True, track_running_stats=True)\n",
              "      (bn2): BatchNorm2d(64, eps=1e-05, momentum=0.1, affine=True, track_running_stats=True)\n",
              "      (relu): ReLU(inplace=True)\n",
              "    )\n",
              "    (1): ResidualBlock(\n",
              "      (conv1): Conv2d(64, 64, kernel_size=(3, 3), stride=(1, 1), padding=(1, 1), bias=False)\n",
              "      (conv2): Conv2d(64, 64, kernel_size=(3, 3), stride=(1, 1), padding=(1, 1), bias=False)\n",
              "      (bn1): BatchNorm2d(64, eps=1e-05, momentum=0.1, affine=True, track_running_stats=True)\n",
              "      (bn2): BatchNorm2d(64, eps=1e-05, momentum=0.1, affine=True, track_running_stats=True)\n",
              "      (relu): ReLU(inplace=True)\n",
              "    )\n",
              "  )\n",
              "  (2): Sequential(\n",
              "    (0): ResidualBlock(\n",
              "      (conv1): Conv2d(64, 128, kernel_size=(3, 3), stride=(2, 2), padding=(1, 1), bias=False)\n",
              "      (conv2): Conv2d(128, 128, kernel_size=(3, 3), stride=(1, 1), padding=(1, 1), bias=False)\n",
              "      (conv3): Conv2d(64, 128, kernel_size=(1, 1), stride=(2, 2))\n",
              "      (bn1): BatchNorm2d(128, eps=1e-05, momentum=0.1, affine=True, track_running_stats=True)\n",
              "      (bn2): BatchNorm2d(128, eps=1e-05, momentum=0.1, affine=True, track_running_stats=True)\n",
              "      (relu): ReLU(inplace=True)\n",
              "    )\n",
              "    (1): ResidualBlock(\n",
              "      (conv1): Conv2d(128, 128, kernel_size=(3, 3), stride=(1, 1), padding=(1, 1), bias=False)\n",
              "      (conv2): Conv2d(128, 128, kernel_size=(3, 3), stride=(1, 1), padding=(1, 1), bias=False)\n",
              "      (bn1): BatchNorm2d(128, eps=1e-05, momentum=0.1, affine=True, track_running_stats=True)\n",
              "      (bn2): BatchNorm2d(128, eps=1e-05, momentum=0.1, affine=True, track_running_stats=True)\n",
              "      (relu): ReLU(inplace=True)\n",
              "    )\n",
              "  )\n",
              "  (3): Sequential(\n",
              "    (0): ResidualBlock(\n",
              "      (conv1): Conv2d(128, 256, kernel_size=(3, 3), stride=(2, 2), padding=(1, 1), bias=False)\n",
              "      (conv2): Conv2d(256, 256, kernel_size=(3, 3), stride=(1, 1), padding=(1, 1), bias=False)\n",
              "      (conv3): Conv2d(128, 256, kernel_size=(1, 1), stride=(2, 2))\n",
              "      (bn1): BatchNorm2d(256, eps=1e-05, momentum=0.1, affine=True, track_running_stats=True)\n",
              "      (bn2): BatchNorm2d(256, eps=1e-05, momentum=0.1, affine=True, track_running_stats=True)\n",
              "      (relu): ReLU(inplace=True)\n",
              "    )\n",
              "    (1): ResidualBlock(\n",
              "      (conv1): Conv2d(256, 256, kernel_size=(3, 3), stride=(1, 1), padding=(1, 1), bias=False)\n",
              "      (conv2): Conv2d(256, 256, kernel_size=(3, 3), stride=(1, 1), padding=(1, 1), bias=False)\n",
              "      (bn1): BatchNorm2d(256, eps=1e-05, momentum=0.1, affine=True, track_running_stats=True)\n",
              "      (bn2): BatchNorm2d(256, eps=1e-05, momentum=0.1, affine=True, track_running_stats=True)\n",
              "      (relu): ReLU(inplace=True)\n",
              "    )\n",
              "  )\n",
              "  (4): Sequential(\n",
              "    (0): ResidualBlock(\n",
              "      (conv1): Conv2d(256, 512, kernel_size=(3, 3), stride=(2, 2), padding=(1, 1), bias=False)\n",
              "      (conv2): Conv2d(512, 512, kernel_size=(3, 3), stride=(1, 1), padding=(1, 1), bias=False)\n",
              "      (conv3): Conv2d(256, 512, kernel_size=(1, 1), stride=(2, 2))\n",
              "      (bn1): BatchNorm2d(512, eps=1e-05, momentum=0.1, affine=True, track_running_stats=True)\n",
              "      (bn2): BatchNorm2d(512, eps=1e-05, momentum=0.1, affine=True, track_running_stats=True)\n",
              "      (relu): ReLU(inplace=True)\n",
              "    )\n",
              "    (1): ResidualBlock(\n",
              "      (conv1): Conv2d(512, 512, kernel_size=(3, 3), stride=(1, 1), padding=(1, 1), bias=False)\n",
              "      (conv2): Conv2d(512, 512, kernel_size=(3, 3), stride=(1, 1), padding=(1, 1), bias=False)\n",
              "      (bn1): BatchNorm2d(512, eps=1e-05, momentum=0.1, affine=True, track_running_stats=True)\n",
              "      (bn2): BatchNorm2d(512, eps=1e-05, momentum=0.1, affine=True, track_running_stats=True)\n",
              "      (relu): ReLU(inplace=True)\n",
              "    )\n",
              "  )\n",
              "  (5): AdaptiveAvgPool2d(output_size=(1, 1))\n",
              "  (6): Flatten(start_dim=1, end_dim=-1)\n",
              "  (7): Linear(in_features=512, out_features=10, bias=True)\n",
              ")"
            ]
          },
          "metadata": {
            "tags": []
          },
          "execution_count": 58
        }
      ]
    },
    {
      "cell_type": "code",
      "metadata": {
        "colab": {
          "base_uri": "https://localhost:8080/"
        },
        "id": "cordless-paint",
        "outputId": "2b691006-64d3-4f73-b356-8c042a20db95"
      },
      "source": [
        "# Place model on GPU-\n",
        "model_testing.to(device)"
      ],
      "id": "cordless-paint",
      "execution_count": null,
      "outputs": [
        {
          "output_type": "execute_result",
          "data": {
            "text/plain": [
              "Sequential(\n",
              "  (0): Sequential(\n",
              "    (0): Conv2d(3, 64, kernel_size=(7, 7), stride=(2, 2), padding=(3, 3))\n",
              "    (1): BatchNorm2d(64, eps=1e-05, momentum=0.1, affine=True, track_running_stats=True)\n",
              "    (2): ReLU()\n",
              "    (3): MaxPool2d(kernel_size=3, stride=2, padding=1, dilation=1, ceil_mode=False)\n",
              "  )\n",
              "  (1): Sequential(\n",
              "    (0): ResidualBlock(\n",
              "      (conv1): Conv2d(64, 64, kernel_size=(3, 3), stride=(1, 1), padding=(1, 1), bias=False)\n",
              "      (conv2): Conv2d(64, 64, kernel_size=(3, 3), stride=(1, 1), padding=(1, 1), bias=False)\n",
              "      (bn1): BatchNorm2d(64, eps=1e-05, momentum=0.1, affine=True, track_running_stats=True)\n",
              "      (bn2): BatchNorm2d(64, eps=1e-05, momentum=0.1, affine=True, track_running_stats=True)\n",
              "      (relu): ReLU(inplace=True)\n",
              "    )\n",
              "    (1): ResidualBlock(\n",
              "      (conv1): Conv2d(64, 64, kernel_size=(3, 3), stride=(1, 1), padding=(1, 1), bias=False)\n",
              "      (conv2): Conv2d(64, 64, kernel_size=(3, 3), stride=(1, 1), padding=(1, 1), bias=False)\n",
              "      (bn1): BatchNorm2d(64, eps=1e-05, momentum=0.1, affine=True, track_running_stats=True)\n",
              "      (bn2): BatchNorm2d(64, eps=1e-05, momentum=0.1, affine=True, track_running_stats=True)\n",
              "      (relu): ReLU(inplace=True)\n",
              "    )\n",
              "  )\n",
              "  (2): Sequential(\n",
              "    (0): ResidualBlock(\n",
              "      (conv1): Conv2d(64, 128, kernel_size=(3, 3), stride=(2, 2), padding=(1, 1), bias=False)\n",
              "      (conv2): Conv2d(128, 128, kernel_size=(3, 3), stride=(1, 1), padding=(1, 1), bias=False)\n",
              "      (conv3): Conv2d(64, 128, kernel_size=(1, 1), stride=(2, 2))\n",
              "      (bn1): BatchNorm2d(128, eps=1e-05, momentum=0.1, affine=True, track_running_stats=True)\n",
              "      (bn2): BatchNorm2d(128, eps=1e-05, momentum=0.1, affine=True, track_running_stats=True)\n",
              "      (relu): ReLU(inplace=True)\n",
              "    )\n",
              "    (1): ResidualBlock(\n",
              "      (conv1): Conv2d(128, 128, kernel_size=(3, 3), stride=(1, 1), padding=(1, 1), bias=False)\n",
              "      (conv2): Conv2d(128, 128, kernel_size=(3, 3), stride=(1, 1), padding=(1, 1), bias=False)\n",
              "      (bn1): BatchNorm2d(128, eps=1e-05, momentum=0.1, affine=True, track_running_stats=True)\n",
              "      (bn2): BatchNorm2d(128, eps=1e-05, momentum=0.1, affine=True, track_running_stats=True)\n",
              "      (relu): ReLU(inplace=True)\n",
              "    )\n",
              "  )\n",
              "  (3): Sequential(\n",
              "    (0): ResidualBlock(\n",
              "      (conv1): Conv2d(128, 256, kernel_size=(3, 3), stride=(2, 2), padding=(1, 1), bias=False)\n",
              "      (conv2): Conv2d(256, 256, kernel_size=(3, 3), stride=(1, 1), padding=(1, 1), bias=False)\n",
              "      (conv3): Conv2d(128, 256, kernel_size=(1, 1), stride=(2, 2))\n",
              "      (bn1): BatchNorm2d(256, eps=1e-05, momentum=0.1, affine=True, track_running_stats=True)\n",
              "      (bn2): BatchNorm2d(256, eps=1e-05, momentum=0.1, affine=True, track_running_stats=True)\n",
              "      (relu): ReLU(inplace=True)\n",
              "    )\n",
              "    (1): ResidualBlock(\n",
              "      (conv1): Conv2d(256, 256, kernel_size=(3, 3), stride=(1, 1), padding=(1, 1), bias=False)\n",
              "      (conv2): Conv2d(256, 256, kernel_size=(3, 3), stride=(1, 1), padding=(1, 1), bias=False)\n",
              "      (bn1): BatchNorm2d(256, eps=1e-05, momentum=0.1, affine=True, track_running_stats=True)\n",
              "      (bn2): BatchNorm2d(256, eps=1e-05, momentum=0.1, affine=True, track_running_stats=True)\n",
              "      (relu): ReLU(inplace=True)\n",
              "    )\n",
              "  )\n",
              "  (4): Sequential(\n",
              "    (0): ResidualBlock(\n",
              "      (conv1): Conv2d(256, 512, kernel_size=(3, 3), stride=(2, 2), padding=(1, 1), bias=False)\n",
              "      (conv2): Conv2d(512, 512, kernel_size=(3, 3), stride=(1, 1), padding=(1, 1), bias=False)\n",
              "      (conv3): Conv2d(256, 512, kernel_size=(1, 1), stride=(2, 2))\n",
              "      (bn1): BatchNorm2d(512, eps=1e-05, momentum=0.1, affine=True, track_running_stats=True)\n",
              "      (bn2): BatchNorm2d(512, eps=1e-05, momentum=0.1, affine=True, track_running_stats=True)\n",
              "      (relu): ReLU(inplace=True)\n",
              "    )\n",
              "    (1): ResidualBlock(\n",
              "      (conv1): Conv2d(512, 512, kernel_size=(3, 3), stride=(1, 1), padding=(1, 1), bias=False)\n",
              "      (conv2): Conv2d(512, 512, kernel_size=(3, 3), stride=(1, 1), padding=(1, 1), bias=False)\n",
              "      (bn1): BatchNorm2d(512, eps=1e-05, momentum=0.1, affine=True, track_running_stats=True)\n",
              "      (bn2): BatchNorm2d(512, eps=1e-05, momentum=0.1, affine=True, track_running_stats=True)\n",
              "      (relu): ReLU(inplace=True)\n",
              "    )\n",
              "  )\n",
              "  (5): AdaptiveAvgPool2d(output_size=(1, 1))\n",
              "  (6): Flatten(start_dim=1, end_dim=-1)\n",
              "  (7): Linear(in_features=512, out_features=10, bias=True)\n",
              ")"
            ]
          },
          "metadata": {
            "tags": []
          },
          "execution_count": 65
        }
      ]
    },
    {
      "cell_type": "code",
      "metadata": {
        "id": "wicked-payment"
      },
      "source": [
        ""
      ],
      "id": "wicked-payment",
      "execution_count": null,
      "outputs": []
    },
    {
      "cell_type": "code",
      "metadata": {
        "id": "undefined-terry"
      },
      "source": [
        "# Variables for computing model metrics-\n",
        "total = 0\n",
        "correct = 0"
      ],
      "id": "undefined-terry",
      "execution_count": null,
      "outputs": []
    },
    {
      "cell_type": "code",
      "metadata": {
        "colab": {
          "base_uri": "https://localhost:8080/"
        },
        "id": "designing-profession",
        "outputId": "876ceba0-bc56-47f5-925f-f139220374f1"
      },
      "source": [
        "# Evaluate trained CNN model. We don't want these operations to be tracked in\n",
        "# the computational graph. Hence wrap these operations in-\n",
        "with torch.no_grad():\n",
        "    for images, labels in test_loader:\n",
        "\n",
        "        # Place features (images) and targets (labels) to GPU-\n",
        "        images = images.to(device)\n",
        "        labels = labels.to(device)\n",
        "        # print(f\"images.shape = {images.shape}, labels.shape = {labels.shape}\")\n",
        "\n",
        "        # Set model to evaluation mode-\n",
        "        # model_testing.eval()\n",
        "\n",
        "        # Make predictions using trained model-\n",
        "        outputs = model_testing(images)\n",
        "        _, y_pred = torch.max(outputs, 1)\n",
        "    \n",
        "        # Total number of labels-\n",
        "        total += labels.size(0)\n",
        "\n",
        "        # Total number of correct predictions-\n",
        "        correct += (y_pred == labels).sum()\n",
        "\n",
        "    val_acc = 100 * (correct / total)\n",
        "    print(f\"ResNet-19 trained CNN's validation metrics on CIFAR-10 are:\")\n",
        "    print(f\"accuracy = {val_acc:.2f}%, # of correct labels = {correct} & total # of labels = {total}\")\n"
      ],
      "id": "designing-profession",
      "execution_count": null,
      "outputs": [
        {
          "output_type": "stream",
          "text": [
            "ResNet-19 trained CNN's validation metrics on CIFAR-10 are:\n",
            "accuracy = 78.88%, # of correct labels = 7888 & total # of labels = 10000\n"
          ],
          "name": "stdout"
        }
      ]
    },
    {
      "cell_type": "code",
      "metadata": {
        "id": "informal-limitation"
      },
      "source": [
        ""
      ],
      "id": "informal-limitation",
      "execution_count": null,
      "outputs": []
    },
    {
      "cell_type": "code",
      "metadata": {
        "id": "assured-species"
      },
      "source": [
        ""
      ],
      "id": "assured-species",
      "execution_count": null,
      "outputs": []
    },
    {
      "cell_type": "code",
      "metadata": {
        "id": "entire-indication"
      },
      "source": [
        "# Initialize ResNet-18 model for testing ENTIRE trained model-\n",
        "model_testing_entire = nn.Sequential(\n",
        "    b1, b2, b3, b4, b5,\n",
        "    nn.AdaptiveAvgPool2d((1,1)),\n",
        "    nn.Flatten(),\n",
        "    nn.Linear(in_features = 512, out_features = 10))\n",
        "\n"
      ],
      "id": "entire-indication",
      "execution_count": null,
      "outputs": []
    },
    {
      "cell_type": "code",
      "metadata": {
        "id": "governmental-hours"
      },
      "source": [
        "# Load entire pre-trained model from before-\n",
        "model_testing_entire = torch.load('/content/ResNet-19_trained_entire_model.pth')"
      ],
      "id": "governmental-hours",
      "execution_count": null,
      "outputs": []
    },
    {
      "cell_type": "code",
      "metadata": {
        "colab": {
          "base_uri": "https://localhost:8080/",
          "height": 167
        },
        "id": "changed-viking",
        "outputId": "3e4005e3-d48f-4903-d614-44a643a0f946"
      },
      "source": [
        "model_testing_entire.state_dict()"
      ],
      "id": "changed-viking",
      "execution_count": null,
      "outputs": [
        {
          "output_type": "error",
          "ename": "AttributeError",
          "evalue": "ignored",
          "traceback": [
            "\u001b[0;31m---------------------------------------------------------------------------\u001b[0m",
            "\u001b[0;31mAttributeError\u001b[0m                            Traceback (most recent call last)",
            "\u001b[0;32m<ipython-input-62-5d15bdb70cc8>\u001b[0m in \u001b[0;36m<module>\u001b[0;34m()\u001b[0m\n\u001b[0;32m----> 1\u001b[0;31m \u001b[0mmodel_testing_entire\u001b[0m\u001b[0;34m.\u001b[0m\u001b[0mstate_dict\u001b[0m\u001b[0;34m(\u001b[0m\u001b[0;34m)\u001b[0m\u001b[0;34m\u001b[0m\u001b[0;34m\u001b[0m\u001b[0m\n\u001b[0m",
            "\u001b[0;31mAttributeError\u001b[0m: 'collections.OrderedDict' object has no attribute 'state_dict'"
          ]
        }
      ]
    },
    {
      "cell_type": "code",
      "metadata": {
        "colab": {
          "base_uri": "https://localhost:8080/",
          "height": 185
        },
        "id": "copyrighted-consciousness",
        "outputId": "0a93de77-50aa-46dd-939d-ad4f828d2bf4"
      },
      "source": [
        "# Set model to evaluation mode-\n",
        "model_testing_entire.eval()"
      ],
      "id": "copyrighted-consciousness",
      "execution_count": null,
      "outputs": [
        {
          "output_type": "error",
          "ename": "AttributeError",
          "evalue": "ignored",
          "traceback": [
            "\u001b[0;31m---------------------------------------------------------------------------\u001b[0m",
            "\u001b[0;31mAttributeError\u001b[0m                            Traceback (most recent call last)",
            "\u001b[0;32m<ipython-input-61-920d6001d2c8>\u001b[0m in \u001b[0;36m<module>\u001b[0;34m()\u001b[0m\n\u001b[1;32m      1\u001b[0m \u001b[0;31m# Set model to evaluation mode-\u001b[0m\u001b[0;34m\u001b[0m\u001b[0;34m\u001b[0m\u001b[0;34m\u001b[0m\u001b[0m\n\u001b[0;32m----> 2\u001b[0;31m \u001b[0mmodel_testing_entire\u001b[0m\u001b[0;34m.\u001b[0m\u001b[0meval\u001b[0m\u001b[0;34m(\u001b[0m\u001b[0;34m)\u001b[0m\u001b[0;34m\u001b[0m\u001b[0;34m\u001b[0m\u001b[0m\n\u001b[0m",
            "\u001b[0;31mAttributeError\u001b[0m: 'collections.OrderedDict' object has no attribute 'eval'"
          ]
        }
      ]
    },
    {
      "cell_type": "code",
      "metadata": {
        "id": "arbitrary-validity"
      },
      "source": [
        ""
      ],
      "id": "arbitrary-validity",
      "execution_count": null,
      "outputs": []
    }
  ]
}