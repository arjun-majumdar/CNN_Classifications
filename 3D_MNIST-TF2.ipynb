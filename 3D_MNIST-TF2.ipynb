{
 "cells": [
  {
   "cell_type": "markdown",
   "id": "252301a7-63a4-4380-93a6-69aec0b2b272",
   "metadata": {},
   "source": [
    "# Conv-3D: 3-D MNIST with TensorFlow2.8\n",
    "\n",
    "You can refer to 3D MNIST dataset [here](https://www.kaggle.com/daavoo/3d-mnist#).\n",
    "\n",
    "Example codes can be referenced [here](https://www.kaggle.com/shivamb/3d-convolutions-understanding-use-case) & [here](https://github.com/christianversloot/machine-learning-articles/blob/main/a-simple-conv3d-example-with-keras.md)"
   ]
  },
  {
   "cell_type": "code",
   "execution_count": null,
   "id": "bfe8415d-c066-47a8-95db-6a71d198449b",
   "metadata": {},
   "outputs": [],
   "source": [
    "# Specify GPU to be used-\n",
    "%env CUDA_DEVICE_ORDER=PCI_BUS_ID\n",
    "%env CUDA_VISIBLE_DEVICES = 0"
   ]
  },
  {
   "cell_type": "code",
   "execution_count": null,
   "id": "51606994-509b-4bc5-86b7-d2830eab5565",
   "metadata": {},
   "outputs": [],
   "source": []
  },
  {
   "cell_type": "code",
   "execution_count": 16,
   "id": "3cef97e8-7610-4e14-8ab7-1b05eb6858ae",
   "metadata": {},
   "outputs": [],
   "source": [
    "import tensorflow\n",
    "from tensorflow import keras\n",
    "from tensorflow.keras.models import Sequential\n",
    "from tensorflow.keras.layers import Dense, Flatten, Conv3D, MaxPooling3D\n",
    "from tensorflow.keras.utils import to_categorical\n",
    "from tensorflow.keras.models import Sequential, Model\n",
    "\n",
    "import tensorflow as tf\n",
    "import h5py\n",
    "import numpy as np\n",
    "import matplotlib.pyplot as plt\n",
    "import seaborn as sns"
   ]
  },
  {
   "cell_type": "code",
   "execution_count": null,
   "id": "8960663a-cc01-4219-97eb-2032356867e7",
   "metadata": {},
   "outputs": [],
   "source": []
  },
  {
   "cell_type": "code",
   "execution_count": null,
   "id": "9fe510cb-a878-4923-b489-067d2a819bad",
   "metadata": {},
   "outputs": [],
   "source": []
  },
  {
   "cell_type": "code",
   "execution_count": 2,
   "id": "a4ab0a46-7b68-4509-9eff-51b046e59ca0",
   "metadata": {},
   "outputs": [
    {
     "name": "stdout",
     "output_type": "stream",
     "text": [
      "TensorFlow version: 2.8.0\n"
     ]
    }
   ],
   "source": [
    "print(f\"TensorFlow version: {tf.__version__}\")"
   ]
  },
  {
   "cell_type": "code",
   "execution_count": 3,
   "id": "a7461f8e-3eb1-44df-8b04-03236fd9e62b",
   "metadata": {},
   "outputs": [
    {
     "name": "stdout",
     "output_type": "stream",
     "text": [
      "number of GPUs available = 0\n",
      "No GPU found\n"
     ]
    }
   ],
   "source": [
    "num_gpus = len(tf.config.list_physical_devices('GPU'))\n",
    "print(f\"number of GPUs available = {num_gpus}\")\n",
    "\n",
    "# Check GPU availibility-\n",
    "gpu_devices = tf.config.list_physical_devices('GPU')\n",
    "\n",
    "if gpu_devices:\n",
    "    print(f\"GPU: {gpu_devices}\")\n",
    "    details = tf.config.experimental.get_device_details(gpu_devices[0])\n",
    "    print(f\"GPU details: {details.get('device_name', 'Unknown GPU')}\")\n",
    "else:\n",
    "    print(\"No GPU found\")"
   ]
  },
  {
   "cell_type": "code",
   "execution_count": null,
   "id": "7385dea5-64a9-427f-be0d-0864a2e64ca6",
   "metadata": {},
   "outputs": [],
   "source": []
  },
  {
   "cell_type": "code",
   "execution_count": null,
   "id": "1eb482c1-5558-49b5-ba02-a2caf371e48a",
   "metadata": {},
   "outputs": [],
   "source": []
  },
  {
   "cell_type": "code",
   "execution_count": 4,
   "id": "bfb23d6b-1456-40ac-8d3f-cc5823348376",
   "metadata": {},
   "outputs": [],
   "source": [
    "# Specify hyper-parameters-\n",
    "batch_size = 64\n",
    "no_epochs = 35\n",
    "learning_rate = 0.001\n",
    "num_classes = 10\n",
    "validation_split = 0.2"
   ]
  },
  {
   "cell_type": "code",
   "execution_count": null,
   "id": "ca33a065-0ae8-4410-8833-4d08bb1a6e88",
   "metadata": {},
   "outputs": [],
   "source": []
  },
  {
   "cell_type": "markdown",
   "id": "790bcb2e-3dc2-44b6-9a21-66b80518eaff",
   "metadata": {},
   "source": [
    "#### Define some helper function"
   ]
  },
  {
   "cell_type": "code",
   "execution_count": 5,
   "id": "dcb84d6a-47ae-4b19-909b-c1fd3e639f16",
   "metadata": {},
   "outputs": [],
   "source": [
    "# Convert 1D vector into 3D values, provided by the 3D MNIST authors at\n",
    "# https://www.kaggle.com/daavoo/3d-mnist\n",
    "def array_to_color(array, cmap=\"Oranges\"):\n",
    "    '''\n",
    "    The imported data has only 1 channel. This function converts the data into 3 channel - RGB format.\n",
    "    This ensures resemblence with the original 2D scenario.\n",
    "    '''\n",
    "    s_m = plt.cm.ScalarMappable(cmap=cmap)\n",
    "    return s_m.to_rgba(array)[:,:-1]\n"
   ]
  },
  {
   "cell_type": "code",
   "execution_count": 6,
   "id": "fd757e77-dd94-4cb4-9cce-c8059cf8faf0",
   "metadata": {},
   "outputs": [],
   "source": [
    "# Reshape data into format that can be handled by Conv3D layers.\n",
    "# Courtesy of Sam Berglin; Zheming Lian; Jiahui Jang - University of Wisconsin-Madison\n",
    "# Report - https://github.com/sberglin/Projects-and-Papers/blob/master/3D%20CNN/Report.pdf\n",
    "# Code - https://github.com/sberglin/Projects-and-Papers/blob/master/3D%20CNN/network_final_version.ipynb\n",
    "def rgb_data_transform(data):\n",
    "    '''\n",
    "    This function reshapes the data, which per sample comes in as 1-D shape: (4096,)  - 16x16x16 pixels = 4096 pixels,\n",
    "    which is a 1-D array. This function reshapes the data into three-channeled, four-dimensional 16x16x16x3 format by\n",
    "    making use of 'array_to_color()'. The Conv3D function can now handle the data.\n",
    "    '''\n",
    "    data_t = []\n",
    "    for i in range(data.shape[0]):\n",
    "        data_t.append(array_to_color(data[i]).reshape(16, 16, 16, 3))\n",
    "    return np.asarray(data_t, dtype=np.float32)\n"
   ]
  },
  {
   "cell_type": "code",
   "execution_count": null,
   "id": "9c4fd533-39ad-420e-8c19-c87559a1652d",
   "metadata": {},
   "outputs": [],
   "source": []
  },
  {
   "cell_type": "code",
   "execution_count": null,
   "id": "e0ed815d-ce45-42c2-b30c-3cbb437a0034",
   "metadata": {},
   "outputs": [],
   "source": []
  },
  {
   "cell_type": "markdown",
   "id": "07506dc8-5f26-491f-b4d5-f0f89cda63f1",
   "metadata": {},
   "source": [
    "### 3-D MNIST data preparation"
   ]
  },
  {
   "cell_type": "code",
   "execution_count": 11,
   "id": "39e21fa0-0480-487c-82aa-f3d9671b0e28",
   "metadata": {},
   "outputs": [
    {
     "name": "stderr",
     "output_type": "stream",
     "text": [
      "C:\\Users\\Arjun\\AppData\\Local\\Temp\\ipykernel_8504\\1228886426.py:20: DeprecationWarning: Converting `np.integer` or `np.signedinteger` to a dtype is deprecated. The current result is `np.dtype(np.int_)` which is not strictly correct. Note that the result depends on the system. To ensure stable results use may want to use `np.int64` or `np.int32`.\n",
      "  y_train = to_categorical(y_train).astype(np.integer)\n",
      "C:\\Users\\Arjun\\AppData\\Local\\Temp\\ipykernel_8504\\1228886426.py:21: DeprecationWarning: Converting `np.integer` or `np.signedinteger` to a dtype is deprecated. The current result is `np.dtype(np.int_)` which is not strictly correct. Note that the result depends on the system. To ensure stable results use may want to use `np.int64` or `np.int32`.\n",
      "  y_test = to_categorical(y_test).astype(np.integer)\n"
     ]
    }
   ],
   "source": [
    "# Load the HDF5 data file\n",
    "with h5py.File(\"3D_MNIST-archive/full_dataset_vectors.h5\", \"r\") as hf:\n",
    "\n",
    "    # Split the data into training, validation features & targets/labels-\n",
    "    X_train = hf[\"X_train\"][:]\n",
    "    y_train = hf[\"y_train\"][:]\n",
    "    X_test = hf[\"X_test\"][:] \n",
    "    y_test = hf[\"y_test\"][:]\n",
    "\n",
    "    # Determine sample shape-\n",
    "    sample_shape = (16, 16, 16, 3)\n",
    "\n",
    "    # Reshape data into 3D format-\n",
    "    # Transform & reshape data from one-channeled (4096,) format into three-channeled\n",
    "    # (16, 16, 16, 3) format.\n",
    "    X_train = rgb_data_transform(X_train)\n",
    "    X_test = rgb_data_transform(X_test)\n",
    "\n",
    "    # Convert target vectors to categorical targets (format)-\n",
    "    y_train = to_categorical(y_train).astype(np.integer)\n",
    "    y_test = to_categorical(y_test).astype(np.integer)\n",
    "    "
   ]
  },
  {
   "cell_type": "code",
   "execution_count": 12,
   "id": "05490fee-d1b8-4a69-99b7-f4ddcfaee039",
   "metadata": {},
   "outputs": [
    {
     "data": {
      "text/plain": [
       "((10000, 16, 16, 16, 3), (2000, 16, 16, 16, 3))"
      ]
     },
     "execution_count": 12,
     "metadata": {},
     "output_type": "execute_result"
    }
   ],
   "source": [
    "# Sanity check-\n",
    "X_train.shape, X_test.shape"
   ]
  },
  {
   "cell_type": "code",
   "execution_count": 13,
   "id": "0ba4abd7-aa77-479a-a7ff-dfd517697de2",
   "metadata": {},
   "outputs": [
    {
     "data": {
      "text/plain": [
       "((10000, 10), (2000, 10))"
      ]
     },
     "execution_count": 13,
     "metadata": {},
     "output_type": "execute_result"
    }
   ],
   "source": [
    "# Sanity check-\n",
    "y_train.shape, y_test.shape"
   ]
  },
  {
   "cell_type": "code",
   "execution_count": null,
   "id": "1e13f977-1e78-478d-92a8-447a4d4e5087",
   "metadata": {},
   "outputs": [],
   "source": []
  },
  {
   "cell_type": "code",
   "execution_count": 19,
   "id": "d50ffad3-3c26-4507-ab6b-78ac2a3c9614",
   "metadata": {},
   "outputs": [
    {
     "name": "stdout",
     "output_type": "stream",
     "text": [
      "Maximum pixel value = 1.000 & minimum pixel value = 0.004\n"
     ]
    }
   ],
   "source": [
    "print(f\"Maximum pixel value = {X_train.max():.3f} & minimum pixel value = {X_train.min():.3f}\")"
   ]
  },
  {
   "cell_type": "code",
   "execution_count": null,
   "id": "cfb11aec-b997-4f5e-9a4b-8ab9d609c275",
   "metadata": {},
   "outputs": [],
   "source": []
  },
  {
   "cell_type": "code",
   "execution_count": null,
   "id": "f9e5a984-5ef0-4872-ab23-7c70ca9acb3c",
   "metadata": {},
   "outputs": [],
   "source": []
  },
  {
   "cell_type": "markdown",
   "id": "a2123f28-9b97-4aab-99e5-0a703c704f2d",
   "metadata": {},
   "source": [
    "### Define Conv3D architecture"
   ]
  },
  {
   "cell_type": "code",
   "execution_count": 27,
   "id": "82b06dd6-09fa-41d2-b957-340662f7b162",
   "metadata": {},
   "outputs": [],
   "source": [
    "class Conv3D_Architecture(Model):\n",
    "    def __init__(self):\n",
    "        super(Conv3D_Architecture, self).__init__()\n",
    "        \n",
    "        self.conv1 = Conv3D(\n",
    "            filters = 32, kernel_size = (3, 3, 3),\n",
    "            activation = None, kernel_initializer = 'he_uniform',\n",
    "            input_shape = sample_shape\n",
    "        )\n",
    "        \n",
    "        self.pool1 = MaxPooling3D(\n",
    "            pool_size = (2, 2, 2)\n",
    "        )\n",
    "        \n",
    "        self.conv2 = Conv3D(\n",
    "            filters = 64, kernel_size = (3, 3, 3),\n",
    "            activation = None, kernel_initializer = 'he_uniform'\n",
    "        )\n",
    "        '''\n",
    "        self.pool2 = MaxPooling3D(\n",
    "            pool_size = (2, 2, 2)\n",
    "        )\n",
    "        '''\n",
    "        self.flatten = Flatten()\n",
    "        \n",
    "        self.dense1 = Dense(\n",
    "            units = 256, activation = None,\n",
    "            kernel_initializer = 'he_uniform'\n",
    "        )\n",
    "        \n",
    "        self.output_layer = Dense(\n",
    "            units = num_classes, activation = None\n",
    "        )\n",
    "        \n",
    "        \n",
    "    def call(self, x):\n",
    "        x = tf.nn.relu(self.conv1(x))\n",
    "        x = self.pool1(x)\n",
    "        x = tf.nn.relu(self.conv2(x))\n",
    "        x = self.pool1(x)\n",
    "        x = self.flatten(x)\n",
    "        x = tf.nn.relu(self.dense1(x))\n",
    "        x = tf.nn.softmax(self.output_layer(x))\n",
    "        return x\n",
    "    \n",
    "    \n",
    "    def shape_computation(self, x):\n",
    "        print(f\"Input shape: {x.shape}\")\n",
    "        x = self.conv1(x)\n",
    "        print(f\"first conv3D output shape: {x.shape}\")\n",
    "        x = self.pool1(x)\n",
    "        print(f\"first MaxPooling3D output shape: {x.shape}\")\n",
    "        x = self.conv2(x)\n",
    "        print(f\"second conv3D output shape: {x.shape}\")\n",
    "        x = self.pool1(x)\n",
    "        print(f\"second MaxPooling3D output shape: {x.shape}\")\n",
    "        x = self.flatten(x)\n",
    "        print(f\"Flattened output shape: {x.shape}\")\n",
    "        x = self.dense1(x)\n",
    "        print(f\"first dense output shape: {x.shape}\")\n",
    "        x = self.output_layer(x)\n",
    "        print(f\"Output layer shape: {x.shape}\")\n",
    "        del x\n",
    "        return None\n",
    "        "
   ]
  },
  {
   "cell_type": "code",
   "execution_count": null,
   "id": "b6ffbd7d-c94b-4d99-83ba-566004d965f2",
   "metadata": {},
   "outputs": [],
   "source": []
  },
  {
   "cell_type": "code",
   "execution_count": 28,
   "id": "2ff16217-7163-406a-9cff-78c8ea8ef2c4",
   "metadata": {},
   "outputs": [],
   "source": [
    "# Initialize an instance of 3D CNN architecture-\n",
    "model = Conv3D_Architecture()\n",
    "model.build(input_shape = (None, 16, 16, 16, 3))"
   ]
  },
  {
   "cell_type": "code",
   "execution_count": null,
   "id": "4f9c101b-7104-4177-81d6-09c7948667b0",
   "metadata": {},
   "outputs": [],
   "source": []
  },
  {
   "cell_type": "code",
   "execution_count": 29,
   "id": "ddacddca-796c-4e08-baa8-06c181ffb418",
   "metadata": {},
   "outputs": [],
   "source": [
    "x = X_train[:5, :]"
   ]
  },
  {
   "cell_type": "code",
   "execution_count": 30,
   "id": "b9e9e396-115f-4f81-bdb5-8d81cc60a9db",
   "metadata": {},
   "outputs": [],
   "source": [
    "x_out = model(x)"
   ]
  },
  {
   "cell_type": "code",
   "execution_count": 31,
   "id": "ad5e622a-5267-4b9e-9594-d9b55ceb9ceb",
   "metadata": {},
   "outputs": [
    {
     "name": "stdout",
     "output_type": "stream",
     "text": [
      "Input shape: (5, 16, 16, 16, 3)\n",
      "first conv3D output shape: (5, 14, 14, 14, 32)\n",
      "first MaxPooling3D output shape: (5, 7, 7, 7, 32)\n",
      "second conv3D output shape: (5, 5, 5, 5, 64)\n",
      "second MaxPooling3D output shape: (5, 2, 2, 2, 64)\n",
      "Flattened output shape: (5, 512)\n",
      "first dense output shape: (5, 256)\n",
      "Output layer shape: (5, 10)\n"
     ]
    }
   ],
   "source": [
    "model.shape_computation(x)"
   ]
  },
  {
   "cell_type": "code",
   "execution_count": 32,
   "id": "caa410af-87e7-47fd-9a24-5e405d671546",
   "metadata": {},
   "outputs": [
    {
     "data": {
      "text/plain": [
       "(TensorShape([5, 10]), (5, 16, 16, 16, 3))"
      ]
     },
     "execution_count": 32,
     "metadata": {},
     "output_type": "execute_result"
    }
   ],
   "source": [
    "x_out.shape, x.shape"
   ]
  },
  {
   "cell_type": "code",
   "execution_count": 33,
   "id": "1b66fd72-ddad-4138-bc85-77b2a0082b54",
   "metadata": {},
   "outputs": [],
   "source": [
    "del x_out, x"
   ]
  },
  {
   "cell_type": "code",
   "execution_count": null,
   "id": "a89dd86f-f66f-4643-8455-c05acc7a5e17",
   "metadata": {},
   "outputs": [],
   "source": []
  },
  {
   "cell_type": "code",
   "execution_count": 34,
   "id": "43724191-611c-44e8-8bd2-84e2ac31845c",
   "metadata": {},
   "outputs": [
    {
     "name": "stdout",
     "output_type": "stream",
     "text": [
      "Model: \"conv3d__architecture_3\"\n",
      "_________________________________________________________________\n",
      " Layer (type)                Output Shape              Param #   \n",
      "=================================================================\n",
      " conv3d_6 (Conv3D)           multiple                  2624      \n",
      "                                                                 \n",
      " max_pooling3d_3 (MaxPooling  multiple                 0         \n",
      " 3D)                                                             \n",
      "                                                                 \n",
      " conv3d_7 (Conv3D)           multiple                  55360     \n",
      "                                                                 \n",
      " flatten_3 (Flatten)         multiple                  0         \n",
      "                                                                 \n",
      " dense_6 (Dense)             multiple                  131328    \n",
      "                                                                 \n",
      " dense_7 (Dense)             multiple                  2570      \n",
      "                                                                 \n",
      "=================================================================\n",
      "Total params: 191,882\n",
      "Trainable params: 191,882\n",
      "Non-trainable params: 0\n",
      "_________________________________________________________________\n"
     ]
    }
   ],
   "source": [
    "# Print model summary-\n",
    "model.summary()"
   ]
  },
  {
   "cell_type": "code",
   "execution_count": null,
   "id": "1d5bb690-269c-4d2c-bcdd-7c6c7d4db858",
   "metadata": {},
   "outputs": [],
   "source": []
  },
  {
   "cell_type": "code",
   "execution_count": 35,
   "id": "e7856fb5-f315-421d-8906-fa27d6d69fe3",
   "metadata": {},
   "outputs": [
    {
     "name": "stdout",
     "output_type": "stream",
     "text": [
      "layer: (3, 3, 3, 3, 32) has 2592 trainable params\n",
      "layer: (32,) has 0 trainable params\n",
      "layer: (3, 3, 3, 32, 64) has 55296 trainable params\n",
      "layer: (64,) has 0 trainable params\n",
      "layer: (512, 256) has 131072 trainable params\n",
      "layer: (256,) has 0 trainable params\n",
      "layer: (256, 10) has 2560 trainable params\n",
      "layer: (10,) has 0 trainable params\n"
     ]
    }
   ],
   "source": [
    "# Get layer-wise trainable parameters-\n",
    "tot_params = 0\n",
    "\n",
    "for layer in model.trainable_weights:\n",
    "    loc_params = tf.math.count_nonzero(layer, axis = None).numpy()\n",
    "    print(f\"layer: {layer.shape} has {loc_params} trainable params\")\n",
    "    tot_params += loc_params"
   ]
  },
  {
   "cell_type": "code",
   "execution_count": 36,
   "id": "c7709f76-722f-42a7-bab1-a71ef7d18e92",
   "metadata": {},
   "outputs": [
    {
     "name": "stdout",
     "output_type": "stream",
     "text": [
      "Total number of trainable parameters = 191520\n"
     ]
    }
   ],
   "source": [
    "print(f\"Total number of trainable parameters = {tot_params}\")"
   ]
  },
  {
   "cell_type": "code",
   "execution_count": null,
   "id": "4ccc9064-657b-490d-a3b9-7d2a1a4a7bdd",
   "metadata": {},
   "outputs": [],
   "source": []
  },
  {
   "cell_type": "code",
   "execution_count": 37,
   "id": "2e352410-0fa6-4275-b9bc-fdb20480a9aa",
   "metadata": {},
   "outputs": [],
   "source": [
    "# Compile define model-\n",
    "model.compile(\n",
    "    loss = tf.keras.losses.categorical_crossentropy,\n",
    "    optimizer = tensorflow.keras.optimizers.Adam(learning_rate = learning_rate),\n",
    "    metrics = ['accuracy']\n",
    ")"
   ]
  },
  {
   "cell_type": "code",
   "execution_count": null,
   "id": "b8cdc53a-2ec4-40e2-93a8-011879c16671",
   "metadata": {},
   "outputs": [],
   "source": []
  },
  {
   "cell_type": "code",
   "execution_count": 38,
   "id": "021cd5c9-ce7d-4074-882d-65e1d2c0cada",
   "metadata": {},
   "outputs": [],
   "source": [
    "# Define early stopping criterion-\n",
    "early_stopping = tf.keras.callbacks.EarlyStopping(\n",
    "    monitor = 'val_loss', min_delta = 0.001,\n",
    "    patience = 5, restore_best_weights = True\n",
    ")"
   ]
  },
  {
   "cell_type": "code",
   "execution_count": null,
   "id": "d3314b93-2549-4a32-a56b-3aa4d287b79f",
   "metadata": {},
   "outputs": [],
   "source": []
  },
  {
   "cell_type": "code",
   "execution_count": null,
   "id": "da583ab2-4746-4cf8-8bb5-9cb9d0e1903a",
   "metadata": {},
   "outputs": [],
   "source": []
  },
  {
   "cell_type": "code",
   "execution_count": 39,
   "id": "dcfa568d-7391-4e5f-8f52-31010c9466e2",
   "metadata": {},
   "outputs": [
    {
     "name": "stdout",
     "output_type": "stream",
     "text": [
      "Epoch 1/35\n",
      "125/125 [==============================] - 42s 331ms/step - loss: 2.1867 - accuracy: 0.2246 - val_loss: 1.8990 - val_accuracy: 0.3320\n",
      "Epoch 2/35\n",
      "125/125 [==============================] - 41s 330ms/step - loss: 1.6715 - accuracy: 0.4232 - val_loss: 1.5184 - val_accuracy: 0.4845\n",
      "Epoch 3/35\n",
      "125/125 [==============================] - 42s 336ms/step - loss: 1.4386 - accuracy: 0.5065 - val_loss: 1.3990 - val_accuracy: 0.5355\n",
      "Epoch 4/35\n",
      "125/125 [==============================] - 40s 322ms/step - loss: 1.3121 - accuracy: 0.5483 - val_loss: 1.2921 - val_accuracy: 0.5640\n",
      "Epoch 5/35\n",
      "125/125 [==============================] - 41s 328ms/step - loss: 1.2334 - accuracy: 0.5730 - val_loss: 1.2291 - val_accuracy: 0.5895\n",
      "Epoch 6/35\n",
      "125/125 [==============================] - 41s 329ms/step - loss: 1.1695 - accuracy: 0.5897 - val_loss: 1.2397 - val_accuracy: 0.5915\n",
      "Epoch 7/35\n",
      "125/125 [==============================] - 41s 331ms/step - loss: 1.1217 - accuracy: 0.6096 - val_loss: 1.1606 - val_accuracy: 0.6100\n",
      "Epoch 8/35\n",
      "125/125 [==============================] - 42s 332ms/step - loss: 1.0889 - accuracy: 0.6210 - val_loss: 1.2360 - val_accuracy: 0.5825\n",
      "Epoch 9/35\n",
      "125/125 [==============================] - 41s 331ms/step - loss: 1.0528 - accuracy: 0.6326 - val_loss: 1.1250 - val_accuracy: 0.6225\n",
      "Epoch 10/35\n",
      "125/125 [==============================] - 42s 335ms/step - loss: 1.0131 - accuracy: 0.6460 - val_loss: 1.1392 - val_accuracy: 0.6135\n",
      "Epoch 11/35\n",
      "125/125 [==============================] - 41s 326ms/step - loss: 0.9883 - accuracy: 0.6503 - val_loss: 1.1418 - val_accuracy: 0.6205\n",
      "Epoch 12/35\n",
      "125/125 [==============================] - 42s 333ms/step - loss: 0.9657 - accuracy: 0.6670 - val_loss: 1.1086 - val_accuracy: 0.6300\n",
      "Epoch 13/35\n",
      "125/125 [==============================] - 41s 327ms/step - loss: 0.9297 - accuracy: 0.6790 - val_loss: 1.1120 - val_accuracy: 0.6250\n",
      "Epoch 14/35\n",
      "125/125 [==============================] - 41s 328ms/step - loss: 0.9045 - accuracy: 0.6904 - val_loss: 1.0712 - val_accuracy: 0.6395\n",
      "Epoch 15/35\n",
      "125/125 [==============================] - 42s 337ms/step - loss: 0.8995 - accuracy: 0.6914 - val_loss: 1.0695 - val_accuracy: 0.6450\n",
      "Epoch 16/35\n",
      "125/125 [==============================] - 43s 341ms/step - loss: 0.8533 - accuracy: 0.7107 - val_loss: 1.0892 - val_accuracy: 0.6465\n",
      "Epoch 17/35\n",
      "125/125 [==============================] - 43s 342ms/step - loss: 0.8240 - accuracy: 0.7179 - val_loss: 1.0541 - val_accuracy: 0.6510\n",
      "Epoch 18/35\n",
      "125/125 [==============================] - 43s 341ms/step - loss: 0.8014 - accuracy: 0.7281 - val_loss: 1.0807 - val_accuracy: 0.6565\n",
      "Epoch 19/35\n",
      "125/125 [==============================] - 42s 336ms/step - loss: 0.7858 - accuracy: 0.7278 - val_loss: 1.0469 - val_accuracy: 0.6590\n",
      "Epoch 20/35\n",
      "125/125 [==============================] - 43s 345ms/step - loss: 0.7583 - accuracy: 0.7398 - val_loss: 1.0351 - val_accuracy: 0.6540\n",
      "Epoch 21/35\n",
      "125/125 [==============================] - 43s 342ms/step - loss: 0.7457 - accuracy: 0.7451 - val_loss: 1.0618 - val_accuracy: 0.6505\n",
      "Epoch 22/35\n",
      "125/125 [==============================] - 43s 343ms/step - loss: 0.7269 - accuracy: 0.7550 - val_loss: 1.0743 - val_accuracy: 0.6565\n",
      "Epoch 23/35\n",
      "125/125 [==============================] - 43s 342ms/step - loss: 0.6977 - accuracy: 0.7644 - val_loss: 1.0671 - val_accuracy: 0.6535\n",
      "Epoch 24/35\n",
      "125/125 [==============================] - 42s 340ms/step - loss: 0.6770 - accuracy: 0.7707 - val_loss: 1.0756 - val_accuracy: 0.6610\n",
      "Epoch 25/35\n",
      "125/125 [==============================] - 43s 345ms/step - loss: 0.6602 - accuracy: 0.7793 - val_loss: 1.0874 - val_accuracy: 0.6500\n",
      "Epoch 26/35\n",
      "125/125 [==============================] - 42s 336ms/step - loss: 0.6578 - accuracy: 0.7775 - val_loss: 1.0579 - val_accuracy: 0.6525\n",
      "Epoch 27/35\n",
      "125/125 [==============================] - 43s 340ms/step - loss: 0.6265 - accuracy: 0.7886 - val_loss: 1.1005 - val_accuracy: 0.6580\n",
      "Epoch 28/35\n",
      "125/125 [==============================] - 43s 347ms/step - loss: 0.6070 - accuracy: 0.7950 - val_loss: 1.1193 - val_accuracy: 0.6625\n",
      "Epoch 29/35\n",
      "125/125 [==============================] - 43s 347ms/step - loss: 0.5874 - accuracy: 0.8043 - val_loss: 1.0826 - val_accuracy: 0.6625\n",
      "Epoch 30/35\n",
      "125/125 [==============================] - 43s 344ms/step - loss: 0.5704 - accuracy: 0.8052 - val_loss: 1.1182 - val_accuracy: 0.6585\n",
      "Epoch 31/35\n",
      "125/125 [==============================] - 43s 340ms/step - loss: 0.5439 - accuracy: 0.8161 - val_loss: 1.1162 - val_accuracy: 0.6695\n",
      "Epoch 32/35\n",
      "125/125 [==============================] - 41s 331ms/step - loss: 0.5388 - accuracy: 0.8170 - val_loss: 1.1287 - val_accuracy: 0.6665\n",
      "Epoch 33/35\n",
      "125/125 [==============================] - 42s 333ms/step - loss: 0.5191 - accuracy: 0.8215 - val_loss: 1.1426 - val_accuracy: 0.6665\n",
      "Epoch 34/35\n",
      "125/125 [==============================] - 41s 331ms/step - loss: 0.5013 - accuracy: 0.8307 - val_loss: 1.1590 - val_accuracy: 0.6630\n",
      "Epoch 35/35\n",
      "125/125 [==============================] - 41s 325ms/step - loss: 0.4786 - accuracy: 0.8375 - val_loss: 1.1569 - val_accuracy: 0.6630\n"
     ]
    }
   ],
   "source": [
    "# Train 3D CNN model-\n",
    "history = model.fit(\n",
    "    x = X_train, y = y_train,\n",
    "    batch_size = batch_size, epochs = 35,\n",
    "    validation_split = validation_split\n",
    ")"
   ]
  },
  {
   "cell_type": "code",
   "execution_count": null,
   "id": "1bdb037a-4d81-402d-95dd-2b100bc4e794",
   "metadata": {},
   "outputs": [],
   "source": []
  },
  {
   "cell_type": "code",
   "execution_count": 40,
   "id": "73560b6a-aa54-4e52-8e7f-1220f01abe23",
   "metadata": {},
   "outputs": [],
   "source": [
    "# Save trained parameters-\n",
    "model.save_weights(\"Trained_3D_MNIST_model.h5\", overwrite = True)"
   ]
  },
  {
   "cell_type": "code",
   "execution_count": null,
   "id": "ae53ad06-3f61-459d-81f2-a2b8f1e66154",
   "metadata": {},
   "outputs": [],
   "source": []
  },
  {
   "cell_type": "code",
   "execution_count": null,
   "id": "7f6f7fd3-326b-42c6-ab25-3c26d597be47",
   "metadata": {},
   "outputs": [],
   "source": []
  },
  {
   "cell_type": "code",
   "execution_count": 41,
   "id": "adcd70fe-f3d8-4d89-b25d-db0a0972d6f0",
   "metadata": {},
   "outputs": [
    {
     "data": {
      "text/plain": [
       "dict_keys(['loss', 'accuracy', 'val_loss', 'val_accuracy'])"
      ]
     },
     "execution_count": 41,
     "metadata": {},
     "output_type": "execute_result"
    }
   ],
   "source": [
    "history.history.keys()"
   ]
  },
  {
   "cell_type": "code",
   "execution_count": null,
   "id": "2eb18184-78ca-48dd-8853-7a375e0fb058",
   "metadata": {},
   "outputs": [],
   "source": []
  },
  {
   "cell_type": "code",
   "execution_count": 42,
   "id": "fbcef0e2-b24b-422b-a870-38725b0187f4",
   "metadata": {},
   "outputs": [
    {
     "data": {
      "image/png": "[encoded data removed]",
      "text/plain": [
       "<Figure size 576x504 with 1 Axes>"
      ]
     },
     "metadata": {
      "needs_background": "light"
     },
     "output_type": "display_data"
    }
   ],
   "source": [
    "plt.figure(figsize = (8, 7))\n",
    "plt.plot(history.history['loss'], label = 'loss')\n",
    "plt.plot(history.history['val_loss'], label = 'val_loss')\n",
    "plt.xlabel(\"epochs\")\n",
    "plt.ylabel(\"loss\")\n",
    "plt.title(\"Training Visualization: Loss\")\n",
    "plt.show()"
   ]
  },
  {
   "cell_type": "code",
   "execution_count": 43,
   "id": "3caf6519-f42e-4bbc-9a35-c139205f5016",
   "metadata": {},
   "outputs": [
    {
     "data": {
      "image/png": "[encoded data removed]",
      "text/plain": [
       "<Figure size 576x504 with 1 Axes>"
      ]
     },
     "metadata": {
      "needs_background": "light"
     },
     "output_type": "display_data"
    }
   ],
   "source": [
    "plt.figure(figsize = (8, 7))\n",
    "plt.plot(history.history['accuracy'], label = 'acc')\n",
    "plt.plot(history.history['val_accuracy'], label = 'val_acc')\n",
    "plt.xlabel(\"epochs\")\n",
    "plt.ylabel(\"acc %\")\n",
    "plt.title(\"Training Visualization: Accuracy %\")\n",
    "plt.show()"
   ]
  },
  {
   "cell_type": "code",
   "execution_count": null,
   "id": "b18eaf41-91a2-42b7-b5b1-c8d3d627d2d4",
   "metadata": {},
   "outputs": [],
   "source": []
  },
  {
   "cell_type": "code",
   "execution_count": null,
   "id": "700fdb39-defd-4c0f-9641-6c5f381c69e0",
   "metadata": {},
   "outputs": [],
   "source": []
  },
  {
   "cell_type": "code",
   "execution_count": 62,
   "id": "1e6d2a01-c5a6-4289-adec-198942f24c19",
   "metadata": {},
   "outputs": [],
   "source": [
    "import plotly.graph_objs as go\n",
    "# import plotly.plotly as py\n",
    "import plotly.express as px\n",
    "import plotly"
   ]
  },
  {
   "cell_type": "code",
   "execution_count": null,
   "id": "64840ea6-faae-47ca-8ba3-34beefb9f145",
   "metadata": {},
   "outputs": [],
   "source": []
  },
  {
   "cell_type": "code",
   "execution_count": 45,
   "id": "99d05299-2fe3-4c16-b3eb-b6a53a43aca1",
   "metadata": {},
   "outputs": [],
   "source": [
    "with h5py.File(\"3D_MNIST-archive/train_point_clouds.h5\", \"r\") as points_dataset:        \n",
    "    digits = []\n",
    "    for i in range(10):\n",
    "        digit = (\n",
    "            points_dataset[str(i)][\"img\"][:], \n",
    "            points_dataset[str(i)][\"points\"][:], \n",
    "            points_dataset[str(i)].attrs[\"label\"]\n",
    "        )\n",
    "        \n",
    "        digits.append(digit)\n",
    "        "
   ]
  },
  {
   "cell_type": "code",
   "execution_count": 46,
   "id": "20fc9d1f-7011-4792-bce3-ad58b0a08225",
   "metadata": {},
   "outputs": [
    {
     "data": {
      "text/plain": [
       "10"
      ]
     },
     "execution_count": 46,
     "metadata": {},
     "output_type": "execute_result"
    }
   ],
   "source": [
    "len(digits)"
   ]
  },
  {
   "cell_type": "code",
   "execution_count": 49,
   "id": "b9f25d2a-a077-46d9-9f76-c1b1654f4a4b",
   "metadata": {},
   "outputs": [
    {
     "data": {
      "text/plain": [
       "3"
      ]
     },
     "execution_count": 49,
     "metadata": {},
     "output_type": "execute_result"
    }
   ],
   "source": [
    "len(digits[0])"
   ]
  },
  {
   "cell_type": "code",
   "execution_count": 65,
   "id": "305d120d-1d47-4ecd-b7d0-53b3080ede7d",
   "metadata": {},
   "outputs": [
    {
     "data": {
      "text/plain": [
       "((30, 30), (25700, 3), ())"
      ]
     },
     "execution_count": 65,
     "metadata": {},
     "output_type": "execute_result"
    }
   ],
   "source": [
    "digits[0][0].shape, digits[0][1].shape, digits[0][2].shape"
   ]
  },
  {
   "cell_type": "code",
   "execution_count": 66,
   "id": "85080a30-25d8-406e-b4ac-abf87b35e7c4",
   "metadata": {},
   "outputs": [
    {
     "data": {
      "text/plain": [
       "(30, 30)"
      ]
     },
     "execution_count": 66,
     "metadata": {},
     "output_type": "execute_result"
    }
   ],
   "source": [
    "# Img-\n",
    "digits[0][0].shape"
   ]
  },
  {
   "cell_type": "code",
   "execution_count": 67,
   "id": "81a6cd00-fd95-42cf-85b5-ef24827128db",
   "metadata": {},
   "outputs": [
    {
     "data": {
      "text/plain": [
       "(25700, 3)"
      ]
     },
     "execution_count": 67,
     "metadata": {},
     "output_type": "execute_result"
    }
   ],
   "source": [
    "# Points in point cloud-\n",
    "digits[0][1].shape\n",
    "# Consists of (x, y, z) coordinates, a tuple of length 3."
   ]
  },
  {
   "cell_type": "code",
   "execution_count": 68,
   "id": "b2f10751-0785-422c-b728-e02e7be2adc4",
   "metadata": {},
   "outputs": [
    {
     "data": {
      "text/plain": [
       "5"
      ]
     },
     "execution_count": 68,
     "metadata": {},
     "output_type": "execute_result"
    }
   ],
   "source": [
    "# Label-\n",
    "digits[0][2]"
   ]
  },
  {
   "cell_type": "code",
   "execution_count": 69,
   "id": "c3a5c9b8-cede-4492-a823-075b151b180d",
   "metadata": {},
   "outputs": [],
   "source": [
    "for r in digits[0][1]:\n",
    "    break"
   ]
  },
  {
   "cell_type": "code",
   "execution_count": 70,
   "id": "c592db77-c7e1-4357-ac64-5a3fbeb7f26d",
   "metadata": {},
   "outputs": [
    {
     "data": {
      "text/plain": [
       "(3,)"
      ]
     },
     "execution_count": 70,
     "metadata": {},
     "output_type": "execute_result"
    }
   ],
   "source": [
    "r.shape"
   ]
  },
  {
   "cell_type": "code",
   "execution_count": 71,
   "id": "06b83ad3-1102-4fe0-8ce2-c12f5a3eeb5e",
   "metadata": {},
   "outputs": [
    {
     "data": {
      "text/plain": [
       "array([ 0.15      , -0.1094358 ,  0.47305447])"
      ]
     },
     "execution_count": 71,
     "metadata": {},
     "output_type": "execute_result"
    }
   ],
   "source": [
    "r"
   ]
  },
  {
   "cell_type": "code",
   "execution_count": null,
   "id": "efd899fd-86f6-41a9-80c4-78c324b4cb2e",
   "metadata": {},
   "outputs": [],
   "source": []
  },
  {
   "cell_type": "code",
   "execution_count": 51,
   "id": "1f5f8433-6644-44f3-86b6-d8667ed08ca6",
   "metadata": {},
   "outputs": [],
   "source": [
    "x_c = [r[0] for r in digits[0][1]]\n",
    "y_c = [r[1] for r in digits[0][1]]\n",
    "z_c = [r[2] for r in digits[0][1]]"
   ]
  },
  {
   "cell_type": "code",
   "execution_count": 54,
   "id": "35cb8702-925b-4dd1-872a-33cc91d55aec",
   "metadata": {},
   "outputs": [
    {
     "data": {
      "text/plain": [
       "(25700, 25700, 25700)"
      ]
     },
     "execution_count": 54,
     "metadata": {},
     "output_type": "execute_result"
    }
   ],
   "source": [
    "len(x_c), len(y_c), len(z_c)"
   ]
  },
  {
   "cell_type": "code",
   "execution_count": null,
   "id": "5a0e3e93-2cfb-447e-8eb2-0f4e46fa403d",
   "metadata": {},
   "outputs": [],
   "source": []
  },
  {
   "cell_type": "code",
   "execution_count": null,
   "id": "a75f66f2-484e-4c54-a658-a6401c7229b0",
   "metadata": {},
   "outputs": [],
   "source": []
  },
  {
   "cell_type": "code",
   "execution_count": 55,
   "id": "08fa8077-92ac-429f-b7cb-0c415eed6637",
   "metadata": {},
   "outputs": [],
   "source": [
    "trace1 = go.Scatter3d(\n",
    "    x=x_c, y=y_c,\n",
    "    z=z_c, mode='markers', \n",
    "    marker = dict(\n",
    "        size=12, color=z_c,\n",
    "        colorscale='Viridis', opacity=0.7\n",
    "    )\n",
    ")"
   ]
  },
  {
   "cell_type": "code",
   "execution_count": 56,
   "id": "14985275-8449-4797-8fa0-d1c7da16d8c5",
   "metadata": {},
   "outputs": [],
   "source": [
    "data = [trace1]\n",
    "layout = go.Layout(\n",
    "    height = 500, width = 600,\n",
    "    title = \"Digit: \" + str(digits[0][2]) + \" in 3D space\"\n",
    ")\n",
    "fig = go.Figure(data = data, layout = layout)"
   ]
  },
  {
   "cell_type": "code",
   "execution_count": null,
   "id": "b63f5e09-64fc-413f-a7d4-8ca475cee127",
   "metadata": {},
   "outputs": [],
   "source": [
    "fig.show()"
   ]
  },
  {
   "cell_type": "code",
   "execution_count": null,
   "id": "c3600333-c617-44db-997d-765c8ea74e08",
   "metadata": {},
   "outputs": [],
   "source": []
  },
  {
   "cell_type": "code",
   "execution_count": null,
   "id": "e645c499-da02-4ca1-80bd-39ceab825d1c",
   "metadata": {},
   "outputs": [],
   "source": []
  },
  {
   "cell_type": "code",
   "execution_count": null,
   "id": "45445870-a214-4fb5-b7c3-c57fb7e6cbd9",
   "metadata": {},
   "outputs": [],
   "source": []
  },
  {
   "cell_type": "code",
   "execution_count": 84,
   "id": "069e3d7a-d8ff-4eb0-889e-92a13fa2a2f5",
   "metadata": {},
   "outputs": [
    {
     "data": {
      "text/plain": [
       "(25700, 3)"
      ]
     },
     "execution_count": 84,
     "metadata": {},
     "output_type": "execute_result"
    }
   ],
   "source": [
    "digits[0][1].shape"
   ]
  },
  {
   "cell_type": "code",
   "execution_count": 74,
   "id": "cc62d6e4-8bf6-4c20-9526-e664eb4a77f1",
   "metadata": {},
   "outputs": [
    {
     "data": {
      "text/plain": [
       "(25700,)"
      ]
     },
     "execution_count": 74,
     "metadata": {},
     "output_type": "execute_result"
    }
   ],
   "source": [
    "digits[0][1][:, 0].shape"
   ]
  },
  {
   "cell_type": "code",
   "execution_count": null,
   "id": "7813c481-4b4f-4d02-b873-09e631059bbe",
   "metadata": {},
   "outputs": [],
   "source": []
  },
  {
   "cell_type": "code",
   "execution_count": null,
   "id": "ca88fb8a-0c58-46b3-b097-43fa3d528759",
   "metadata": {},
   "outputs": [],
   "source": [
    "fig = px.scatter_3d(\n",
    "    digits[0][1], x = digits[0][1][:, 0],\n",
    "    y = digits[0][1][:, 1], z = digits[0][1][:, 2],\n",
    "    color = digits[0][1][:, 2]\n",
    ")\n",
    "\n",
    "fig.show()"
   ]
  },
  {
   "cell_type": "code",
   "execution_count": null,
   "id": "9ce114a5-decd-4aef-86d6-cfd4d7029b61",
   "metadata": {},
   "outputs": [],
   "source": []
  },
  {
   "cell_type": "code",
   "execution_count": null,
   "id": "15f7e76f-a194-47df-b8c8-dad37a4525ca",
   "metadata": {},
   "outputs": [],
   "source": []
  }
 ],
 "metadata": {
  "kernelspec": {
   "display_name": "Python 3 (ipykernel)",
   "language": "python",
   "name": "python3"
  },
  "language_info": {
   "codemirror_mode": {
    "name": "ipython",
    "version": 3
   },
   "file_extension": ".py",
   "mimetype": "text/x-python",
   "name": "python",
   "nbconvert_exporter": "python",
   "pygments_lexer": "ipython3",
   "version": "3.9.7"
  }
 },
 "nbformat": 4,
 "nbformat_minor": 5
}
