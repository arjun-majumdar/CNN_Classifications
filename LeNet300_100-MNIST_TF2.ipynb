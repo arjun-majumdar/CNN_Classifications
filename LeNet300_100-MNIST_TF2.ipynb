{
 "cells": [
  {
   "cell_type": "markdown",
   "id": "f33e6988-9391-4ca8-b58a-7db84f299043",
   "metadata": {},
   "source": [
    "# LeNet-300-100: MNIST with TensorFlow 2.8\n",
    "\n",
    "Trained with _GradientTape()_ API"
   ]
  },
  {
   "cell_type": "code",
   "execution_count": null,
   "id": "746bae19-3ca1-41b6-9f10-b0bea96e6e29",
   "metadata": {},
   "outputs": [],
   "source": [
    "# Specify GPU to be used-\n",
    "%env CUDA_DEVICE_ORDER=PCI_BUS_ID\n",
    "%env CUDA_VISIBLE_DEVICES = 0"
   ]
  },
  {
   "cell_type": "code",
   "execution_count": null,
   "id": "ff9721e0-be42-4894-a359-3ef4082feced",
   "metadata": {},
   "outputs": [],
   "source": []
  },
  {
   "cell_type": "code",
   "execution_count": 1,
   "id": "c80ea32a-31ed-43f9-a234-a4998ae278f4",
   "metadata": {},
   "outputs": [],
   "source": [
    "import tensorflow\n",
    "from tensorflow import keras\n",
    "import tensorflow as tf\n",
    "\n",
    "# from tensorflow.keras.layers import AveragePooling2D, Conv2D, MaxPooling2D, ReLU\n",
    "from tensorflow.keras import models, layers\n",
    "from tensorflow.keras.layers import Dense, Flatten, Reshape, Input, InputLayer, Dropout\n",
    "from tensorflow.keras.models import Sequential, Model\n",
    "from tensorflow.keras.datasets import mnist\n",
    "# from tensorflow.keras.initializers import RandomNormal\n",
    "\n",
    "# import tensorflow.keras.backend as K\n",
    "# from tensorflow.keras.callbacks import LearningRateScheduler\n",
    "\n",
    "import numpy as np\n",
    "import matplotlib.pyplot as plt\n",
    "import seaborn as sns\n",
    "# import math\n",
    "import pickle\n",
    "\n",
    "# from sklearn.metrics import accuracy_score, precision_score, recall_score"
   ]
  },
  {
   "cell_type": "code",
   "execution_count": null,
   "id": "8f219a97-274a-45be-b547-ded18ca85fc7",
   "metadata": {},
   "outputs": [],
   "source": []
  },
  {
   "cell_type": "code",
   "execution_count": null,
   "id": "24195d2e-577c-4e8e-99c4-2b475258d319",
   "metadata": {},
   "outputs": [],
   "source": []
  },
  {
   "cell_type": "code",
   "execution_count": 2,
   "id": "46c872b0-23da-4a61-a009-fecc5831debc",
   "metadata": {
    "colab": {
     "base_uri": "https://localhost:8080/"
    },
    "id": "instrumental-gateway",
    "outputId": "87ed7710-9641-4b82-81ea-bd3bc099c8f1"
   },
   "outputs": [
    {
     "name": "stdout",
     "output_type": "stream",
     "text": [
      "TensorFlow version: 2.8.0\n"
     ]
    }
   ],
   "source": [
    "print(f\"TensorFlow version: {tf.__version__}\")"
   ]
  },
  {
   "cell_type": "code",
   "execution_count": 3,
   "id": "530adcf6-eeeb-4fcf-9849-221200d3c46f",
   "metadata": {
    "id": "approximate-christianity"
   },
   "outputs": [
    {
     "name": "stdout",
     "output_type": "stream",
     "text": [
      "number of GPUs available = 0\n",
      "No GPU found\n"
     ]
    }
   ],
   "source": [
    "num_gpus = len(tf.config.list_physical_devices('GPU'))\n",
    "print(f\"number of GPUs available = {num_gpus}\")\n",
    "\n",
    "# Check GPU availibility-\n",
    "gpu_devices = tf.config.list_physical_devices('GPU')\n",
    "\n",
    "if gpu_devices:\n",
    "    print(f\"GPU: {gpu_devices}\")\n",
    "    details = tf.config.experimental.get_device_details(gpu_devices[0])\n",
    "    print(f\"GPU details: {details.get('device_name', 'Unknown GPU')}\")\n",
    "else:\n",
    "    print(\"No GPU found\")"
   ]
  },
  {
   "cell_type": "code",
   "execution_count": null,
   "id": "4af259e0-c790-4ea5-aaae-7fc5a20cd0f0",
   "metadata": {},
   "outputs": [],
   "source": []
  },
  {
   "cell_type": "code",
   "execution_count": null,
   "id": "e0ad2f9d-c0cd-49fb-bb30-56afe0d51664",
   "metadata": {},
   "outputs": [],
   "source": []
  },
  {
   "cell_type": "markdown",
   "id": "f1dd481e-2139-490a-9968-cc1ce81d0aa2",
   "metadata": {},
   "source": [
    "### MNIST Data Pre-processing"
   ]
  },
  {
   "cell_type": "code",
   "execution_count": 4,
   "id": "c257f86a-2667-4484-84e2-86382cd5ef64",
   "metadata": {},
   "outputs": [],
   "source": [
    "# input image dimensions\n",
    "img_rows, img_cols = 28, 28"
   ]
  },
  {
   "cell_type": "code",
   "execution_count": 5,
   "id": "2e8ac71c-dd7c-4c85-a4ca-18ffae3dcb7d",
   "metadata": {},
   "outputs": [],
   "source": [
    "# Load MNIST dataset-\n",
    "(X_train, y_train), (X_test, y_test) = mnist.load_data()"
   ]
  },
  {
   "cell_type": "code",
   "execution_count": 6,
   "id": "b350441c-bd31-408f-8491-f060518a0486",
   "metadata": {},
   "outputs": [],
   "source": [
    "if tf.keras.backend.image_data_format() == 'channels_first':\n",
    "    X_train = X_train.reshape(X_train.shape[0], 1, img_rows, img_cols)\n",
    "    X_test = X_test.reshape(X_test.shape[0], 1, img_rows, img_cols)\n",
    "    input_shape = (1, img_rows, img_cols)\n",
    "else:\n",
    "    X_train = X_train.reshape(X_train.shape[0], img_rows, img_cols, 1)\n",
    "    X_test = X_test.reshape(X_test.shape[0], img_rows, img_cols, 1)\n",
    "    input_shape = (img_rows, img_cols, 1)"
   ]
  },
  {
   "cell_type": "code",
   "execution_count": 7,
   "id": "668c1c97-b042-4bb4-b086-c5495d53e0cb",
   "metadata": {},
   "outputs": [
    {
     "name": "stdout",
     "output_type": "stream",
     "text": [
      "\n",
      "input_shape to be used: (28, 28, 1)\n"
     ]
    }
   ],
   "source": [
    "print(f\"\\ninput_shape to be used: {input_shape}\")"
   ]
  },
  {
   "cell_type": "code",
   "execution_count": null,
   "id": "d4271b06-4cd0-4319-a411-d4b40095bbb0",
   "metadata": {},
   "outputs": [],
   "source": []
  },
  {
   "cell_type": "code",
   "execution_count": 8,
   "id": "29cd3d46-97f7-4a91-8632-7439ce92a39b",
   "metadata": {},
   "outputs": [],
   "source": [
    "# Specify hyper-parameters-\n",
    "batch_size = 64\n",
    "num_classes = 10\n",
    "num_epochs = 100"
   ]
  },
  {
   "cell_type": "code",
   "execution_count": null,
   "id": "9946bcac-983b-4694-951d-60ecf9f920e1",
   "metadata": {},
   "outputs": [],
   "source": []
  },
  {
   "cell_type": "code",
   "execution_count": 9,
   "id": "bacff245-c432-464e-b18a-3a40e278c261",
   "metadata": {},
   "outputs": [],
   "source": [
    "# Convert datasets to floating point types-\n",
    "X_train = X_train.astype('float32')\n",
    "X_test = X_test.astype('float32')"
   ]
  },
  {
   "cell_type": "code",
   "execution_count": 10,
   "id": "da507ade-8d7f-4caf-9db4-2623936ec123",
   "metadata": {},
   "outputs": [],
   "source": [
    "# By default the image data consists of integers between 0 and 255 for each pixel channel. Neural networks\n",
    "# work best when each input is inside the range –1 to 1, so we need to divide by 255.\n",
    "\n",
    "# Normalize the training and testing datasets-\n",
    "X_train /= 255.0\n",
    "X_test /= 255.0"
   ]
  },
  {
   "cell_type": "code",
   "execution_count": 11,
   "id": "7e09fe9a-9b09-499b-bf64-d2566cb026c2",
   "metadata": {},
   "outputs": [],
   "source": [
    "# Convert class vectors/target to binary class matrices or one-hot encoded values-\n",
    "y_train = tf.keras.utils.to_categorical(y_train, num_classes)\n",
    "y_test = tf.keras.utils.to_categorical(y_test, num_classes)"
   ]
  },
  {
   "cell_type": "code",
   "execution_count": 12,
   "id": "d85e3cd7-5ef0-4cc0-a4a5-a667f263e2a3",
   "metadata": {},
   "outputs": [],
   "source": [
    "# Reshape training and testing sets-\n",
    "X_train = X_train.reshape(X_train.shape[0], 784)\n",
    "X_test = X_test.reshape(X_test.shape[0], 784)"
   ]
  },
  {
   "cell_type": "code",
   "execution_count": 13,
   "id": "26ac0c85-7fad-43ee-8c23-9c8a4f53ccc7",
   "metadata": {},
   "outputs": [
    {
     "name": "stdout",
     "output_type": "stream",
     "text": [
      "\n",
      "Dimensions of training and testing sets are:\n",
      "X_train.shape: (60000, 784), y_train.shape: (60000, 10)\n",
      "X_test.shape: (10000, 784), y_test.shape: (10000, 10)\n"
     ]
    }
   ],
   "source": [
    "print(\"\\nDimensions of training and testing sets are:\")\n",
    "print(f\"X_train.shape: {X_train.shape}, y_train.shape: {y_train.shape}\")\n",
    "print(f\"X_test.shape: {X_test.shape}, y_test.shape: {y_test.shape}\")"
   ]
  },
  {
   "cell_type": "code",
   "execution_count": null,
   "id": "8830a06f-7749-4c71-8010-b1a10936b949",
   "metadata": {},
   "outputs": [],
   "source": []
  },
  {
   "cell_type": "code",
   "execution_count": 14,
   "id": "81b10f15-8e2c-401f-9725-ca4800137a92",
   "metadata": {},
   "outputs": [],
   "source": [
    "# Create TF datasets-\n",
    "train_dataset = tf.data.Dataset.from_tensor_slices((X_train, y_train)).shuffle(60000).batch(batch_size = batch_size)\n",
    "test_dataset = tf.data.Dataset.from_tensor_slices((X_test, y_test)).shuffle(10000).batch(batch_size = batch_size)"
   ]
  },
  {
   "cell_type": "code",
   "execution_count": null,
   "id": "46975729-935f-424a-81d4-ef7f6825643b",
   "metadata": {},
   "outputs": [],
   "source": []
  },
  {
   "cell_type": "code",
   "execution_count": null,
   "id": "5ec02272-c98a-4a44-9030-826f978b0d79",
   "metadata": {},
   "outputs": [],
   "source": []
  },
  {
   "cell_type": "markdown",
   "id": "9afa558d-4f91-4f1c-8b81-165a40b8d3e6",
   "metadata": {},
   "source": [
    "### Define LeNet-300-100 architecture"
   ]
  },
  {
   "cell_type": "code",
   "execution_count": 15,
   "id": "3c289466-eceb-43bc-92e8-dc10317887fc",
   "metadata": {},
   "outputs": [],
   "source": [
    "class LeNet300(Model):\n",
    "    def __init__(self):\n",
    "        super(LeNet300, self).__init__()\n",
    "        \n",
    "        self.dense1 = Dense(\n",
    "            units = 300, activation = None,\n",
    "            kernel_initializer = tf.keras.initializers.GlorotNormal(),\n",
    "            use_bias = True, bias_initializer = 'ones'\n",
    "        )\n",
    "        self.dense2 = Dense(\n",
    "            units = 100, activation = None,\n",
    "            kernel_initializer = tf.keras.initializers.GlorotNormal(),\n",
    "            use_bias = True, bias_initializer = 'ones'\n",
    "        )\n",
    "        self.output_layer = Dense(\n",
    "            units = 10, activation = None,\n",
    "            kernel_initializer = tf.keras.initializers.GlorotNormal(),\n",
    "            use_bias = True, bias_initializer = 'ones'\n",
    "        )\n",
    "    \n",
    "    \n",
    "    def call(self, x):\n",
    "        x = tf.keras.activations.relu(self.dense1(x))\n",
    "        x = tf.keras.activations.relu(self.dense2(x))\n",
    "        x = tf.keras.activations.softmax(self.output_layer(x))\n",
    "        return x\n",
    "        \n",
    " "
   ]
  },
  {
   "cell_type": "code",
   "execution_count": null,
   "id": "1b303123-8ef5-4f41-94d8-40983eb3b1f6",
   "metadata": {},
   "outputs": [],
   "source": []
  },
  {
   "cell_type": "code",
   "execution_count": 16,
   "id": "d3209bdd-c14a-4f0f-98f1-f2c651675df0",
   "metadata": {},
   "outputs": [],
   "source": [
    "# Initialize and build an instance of LeNet-300-100 dense neural network-\n",
    "model = LeNet300()\n",
    "model.build(input_shape = (None, 784))"
   ]
  },
  {
   "cell_type": "code",
   "execution_count": null,
   "id": "07dd0862-3a53-45ad-8917-98a06180b419",
   "metadata": {},
   "outputs": [],
   "source": []
  },
  {
   "cell_type": "code",
   "execution_count": 17,
   "id": "19a525aa-7b00-430e-866b-651dd7e672ab",
   "metadata": {},
   "outputs": [
    {
     "name": "stdout",
     "output_type": "stream",
     "text": [
      "Model: \"le_net300\"\n",
      "_________________________________________________________________\n",
      " Layer (type)                Output Shape              Param #   \n",
      "=================================================================\n",
      " dense (Dense)               multiple                  235500    \n",
      "                                                                 \n",
      " dense_1 (Dense)             multiple                  30100     \n",
      "                                                                 \n",
      " dense_2 (Dense)             multiple                  1010      \n",
      "                                                                 \n",
      "=================================================================\n",
      "Total params: 266,610\n",
      "Trainable params: 266,610\n",
      "Non-trainable params: 0\n",
      "_________________________________________________________________\n"
     ]
    }
   ],
   "source": [
    "# Get model summary-\n",
    "model.summary()"
   ]
  },
  {
   "cell_type": "code",
   "execution_count": 18,
   "id": "1acac258-f6fe-4885-b901-05da63cce7ab",
   "metadata": {},
   "outputs": [
    {
     "name": "stdout",
     "output_type": "stream",
     "text": [
      "layer.shape: (784, 300) has 235200 params\n",
      "layer.shape: (300,) has 300 params\n",
      "layer.shape: (300, 100) has 30000 params\n",
      "layer.shape: (100,) has 100 params\n",
      "layer.shape: (100, 10) has 1000 params\n",
      "layer.shape: (10,) has 10 params\n"
     ]
    }
   ],
   "source": [
    "# Count number of trainable parameters in a layer-wise manner-\n",
    "tot_params = 0\n",
    "for layer in model.trainable_weights:\n",
    "    loc_params = tf.math.count_nonzero(layer, axis = None).numpy()\n",
    "    print(f\"layer.shape: {layer.shape} has {loc_params} params\")\n",
    "    tot_params += loc_params"
   ]
  },
  {
   "cell_type": "code",
   "execution_count": 19,
   "id": "cc85fcee-1536-4280-b3a6-e5cad5406137",
   "metadata": {},
   "outputs": [
    {
     "name": "stdout",
     "output_type": "stream",
     "text": [
      "LeNet-300-100 has 266610 trainable parameters\n"
     ]
    }
   ],
   "source": [
    "print(f\"LeNet-300-100 has {tot_params} trainable parameters\")"
   ]
  },
  {
   "cell_type": "code",
   "execution_count": null,
   "id": "aae70314-19a4-4621-a148-4feb29dc437c",
   "metadata": {},
   "outputs": [],
   "source": []
  },
  {
   "cell_type": "code",
   "execution_count": 20,
   "id": "907a3558-35e6-4d80-920f-9b599c3941d7",
   "metadata": {},
   "outputs": [],
   "source": [
    "# Save random weights-\n",
    "model.save_weights(\"LeNet300_Random_Weights.h5\", overwrite = True)"
   ]
  },
  {
   "cell_type": "code",
   "execution_count": null,
   "id": "effc3bd7-6c50-4d5f-b7c5-f76e71bec32b",
   "metadata": {},
   "outputs": [],
   "source": []
  },
  {
   "cell_type": "code",
   "execution_count": null,
   "id": "05eb73ce-76bf-40db-b090-980f8093f5a2",
   "metadata": {},
   "outputs": [],
   "source": []
  },
  {
   "cell_type": "code",
   "execution_count": 21,
   "id": "cc4e8410-66e1-4d50-bd76-2618fb8829df",
   "metadata": {},
   "outputs": [],
   "source": [
    "# Choose loss function for training-\n",
    "loss_fn = tf.keras.losses.CategoricalCrossentropy()"
   ]
  },
  {
   "cell_type": "code",
   "execution_count": 22,
   "id": "73a07499-bc2e-4807-ac35-af0d216307a4",
   "metadata": {},
   "outputs": [],
   "source": [
    "# Choose gradient descent optimizer-\n",
    "optimizer = tf.keras.optimizers.Adam(learning_rate= 0.0012)"
   ]
  },
  {
   "cell_type": "code",
   "execution_count": null,
   "id": "97a43940-1b39-4b7e-9478-13dda55239cc",
   "metadata": {},
   "outputs": [],
   "source": []
  },
  {
   "cell_type": "code",
   "execution_count": 23,
   "id": "9ee4ece7-fed1-4f97-958b-296c1ad42732",
   "metadata": {},
   "outputs": [],
   "source": [
    "# Select metrics to measure the error & accuracy of model.\n",
    "# These metrics accumulate the values over epochs and then\n",
    "# print the overall result-\n",
    "train_loss = tf.keras.metrics.Mean(name = 'train_loss')\n",
    "train_accuracy = tf.keras.metrics.CategoricalAccuracy(name = 'train_accuracy')\n",
    "\n",
    "test_loss = tf.keras.metrics.Mean(name = 'test_loss')\n",
    "test_accuracy = tf.keras.metrics.CategoricalAccuracy(name = 'test_accuracy')"
   ]
  },
  {
   "cell_type": "code",
   "execution_count": null,
   "id": "3b9f8b0a-2c5f-4407-a285-21a43328651f",
   "metadata": {},
   "outputs": [],
   "source": []
  },
  {
   "cell_type": "code",
   "execution_count": null,
   "id": "4508bdb5-43f6-435f-965c-65b726d9ec4b",
   "metadata": {},
   "outputs": [],
   "source": []
  },
  {
   "cell_type": "markdown",
   "id": "e6ff0010-bde8-471e-96d4-9c3a6c249a6b",
   "metadata": {},
   "source": [
    "### Train neural network using _tf.GradientTape()_ API\n",
    "\n",
    "For a detailed code example pertaining to TF2's _learning rate_ schedulers, refere [here](https://github.com/arjun-majumdar/CNN_Classifications/blob/master/LeNet_300_100-Learning_Rate_Decays_and_Scheduler.ipynb)"
   ]
  },
  {
   "cell_type": "code",
   "execution_count": 24,
   "id": "e263148e-f6a6-4614-b662-2625b02e290c",
   "metadata": {},
   "outputs": [],
   "source": [
    "@tf.function\n",
    "def train_one_step(model, optimizer, x, y):\n",
    "    '''\n",
    "    Function to compute one step of gradient descent optimization\n",
    "    '''\n",
    "    with tf.GradientTape() as tape:\n",
    "        # Make predictions using defined model-\n",
    "        y_pred = model(x)\n",
    "\n",
    "        # Compute loss-\n",
    "        loss = loss_fn(y, y_pred)\n",
    "            \n",
    "    # Compute gradients wrt defined loss and weights and biases-\n",
    "    grads = tape.gradient(loss, model.trainable_variables)\n",
    "    \n",
    "    # type(grads)\n",
    "    # list\n",
    "\n",
    "    # Apply computed gradients to model's weights and biases-\n",
    "    optimizer.apply_gradients(zip(grads, model.trainable_variables))\n",
    "\n",
    "    # Compute accuracy-\n",
    "    train_loss(loss)\n",
    "    train_accuracy(y, y_pred)\n",
    "\n",
    "    return None\n"
   ]
  },
  {
   "cell_type": "code",
   "execution_count": 25,
   "id": "122ceb08-ca2b-436a-b3bb-b056289c5e9c",
   "metadata": {},
   "outputs": [],
   "source": [
    "@tf.function\n",
    "def test_step(model, optimizer, data, labels):\n",
    "    \"\"\"\n",
    "    Function to test model performance\n",
    "    on testing dataset\n",
    "    \"\"\"\n",
    "    \n",
    "    predictions = model(data)\n",
    "    t_loss = loss_fn(labels, predictions)\n",
    "\n",
    "    test_loss(t_loss)\n",
    "    test_accuracy(labels, predictions)\n",
    "\n",
    "    return None\n"
   ]
  },
  {
   "cell_type": "code",
   "execution_count": null,
   "id": "e0ccb389-1212-43ae-a5a9-9bc531ace8e6",
   "metadata": {},
   "outputs": [],
   "source": []
  },
  {
   "cell_type": "code",
   "execution_count": null,
   "id": "20820116-b152-4f11-b65a-9d78df3bfad4",
   "metadata": {},
   "outputs": [],
   "source": []
  },
  {
   "cell_type": "code",
   "execution_count": 26,
   "id": "6e9b6261-4ec3-4154-a04f-f4a7678b1ffa",
   "metadata": {},
   "outputs": [
    {
     "name": "stdout",
     "output_type": "stream",
     "text": [
      "LeNet-300-100 will be trained for 100 epochs\n"
     ]
    }
   ],
   "source": [
    "print(f\"LeNet-300-100 will be trained for {num_epochs} epochs\")"
   ]
  },
  {
   "cell_type": "code",
   "execution_count": null,
   "id": "4ce4369d-323e-4345-9ebd-40e383dac27d",
   "metadata": {},
   "outputs": [],
   "source": []
  },
  {
   "cell_type": "code",
   "execution_count": 27,
   "id": "8179f50e-4aed-410c-8d36-ea314774762b",
   "metadata": {},
   "outputs": [],
   "source": [
    "# Python3 dict to contain training metrics-\n",
    "training_history = {}"
   ]
  },
  {
   "cell_type": "code",
   "execution_count": 28,
   "id": "79bf3abf-dd83-4e5d-8d4b-9f4146711415",
   "metadata": {},
   "outputs": [],
   "source": [
    "# User input parameters for Early Stopping in manual implementation-\n",
    "minimum_delta = 0.001\n",
    "patience = 5\n",
    "\n",
    "best_val_loss = 100\n",
    "loc_patience = 0"
   ]
  },
  {
   "cell_type": "code",
   "execution_count": null,
   "id": "276901d4-ddf9-4ff9-8aa5-60c0fcc07ab2",
   "metadata": {},
   "outputs": [],
   "source": []
  },
  {
   "cell_type": "code",
   "execution_count": null,
   "id": "33992b26-3c11-4095-8b83-fb34b64b642e",
   "metadata": {},
   "outputs": [],
   "source": []
  },
  {
   "cell_type": "code",
   "execution_count": 29,
   "id": "36816373-b9aa-4075-abc3-5ac2541fdeb4",
   "metadata": {},
   "outputs": [
    {
     "name": "stdout",
     "output_type": "stream",
     "text": [
      "Epoch = 1; loss = 0.2776,  val loss = 0.1487, accuracy = 91.73%, val accuracy = 95.57%, LR = 0.0012 & iterations = 938\n",
      "Saving model with lowest val_loss = 0.1487\n",
      "\n",
      "Epoch = 2; loss = 0.1127,  val loss = 0.0918, accuracy = 96.51%, val accuracy = 97.18%, LR = 0.0012 & iterations = 1876\n",
      "Saving model with lowest val_loss = 0.0918\n",
      "\n",
      "Epoch = 3; loss = 0.0740,  val loss = 0.0900, accuracy = 97.65%, val accuracy = 97.39%, LR = 0.0012 & iterations = 2814\n",
      "Saving model with lowest val_loss = 0.0900\n",
      "\n",
      "Epoch = 4; loss = 0.0539,  val loss = 0.0690, accuracy = 98.22%, val accuracy = 97.73%, LR = 0.0012 & iterations = 3752\n",
      "Saving model with lowest val_loss = 0.0690\n",
      "\n",
      "Epoch = 5; loss = 0.0420,  val loss = 0.0756, accuracy = 98.63%, val accuracy = 97.64%, LR = 0.0012 & iterations = 4690\n",
      "Epoch = 6; loss = 0.0339,  val loss = 0.0819, accuracy = 98.85%, val accuracy = 97.69%, LR = 0.0012 & iterations = 5628\n",
      "Epoch = 7; loss = 0.0272,  val loss = 0.0775, accuracy = 99.08%, val accuracy = 97.82%, LR = 0.0012 & iterations = 6566\n",
      "Epoch = 8; loss = 0.0229,  val loss = 0.0844, accuracy = 99.24%, val accuracy = 97.78%, LR = 0.0012 & iterations = 7504\n",
      "Epoch = 9; loss = 0.0205,  val loss = 0.0894, accuracy = 99.30%, val accuracy = 97.69%, LR = 0.0012 & iterations = 8442\n",
      "\n",
      "'EarlyStopping' called!\n",
      "\n"
     ]
    }
   ],
   "source": [
    "# Train model using 'GradientTape'-    \n",
    "for epoch in range(num_epochs):\n",
    "    \n",
    "    if loc_patience >= patience:\n",
    "        print(\"\\n'EarlyStopping' called!\\n\")\n",
    "        break\n",
    "        \n",
    "    # Reset the metrics at the start of the next epoch\n",
    "    train_loss.reset_states()\n",
    "    train_accuracy.reset_states()\n",
    "    test_loss.reset_states()\n",
    "    test_accuracy.reset_states()\n",
    "        \n",
    "        \n",
    "    for x, y in train_dataset:\n",
    "        train_one_step(model, optimizer, x, y)\n",
    "\n",
    "    for x_t, y_t in test_dataset:\n",
    "        test_step(model, optimizer, x_t, y_t)\n",
    "    \n",
    "    \n",
    "    print(f\"Epoch = {epoch + 1}; loss = {train_loss.result():.4f}, \"\n",
    "          f\" val loss = {test_loss.result():.4f}, accuracy = {train_accuracy.result() * 100:.2f}%\"\n",
    "          f\", val accuracy = {test_accuracy.result() * 100:.2f}%, LR = {optimizer._decayed_lr('float32').numpy():.4f}\"\n",
    "          f\" & iterations = {optimizer.iterations.numpy()}\"\n",
    "         )\n",
    "\n",
    "    training_history[epoch + 1] = {\n",
    "        'loss': train_loss.result().numpy(), 'val_loss': test_loss.result().numpy(),\n",
    "        'acc': train_accuracy.result().numpy() * 100, 'val_acc': test_accuracy.result().numpy() * 100,\n",
    "        'lr': optimizer._decayed_lr('float32').numpy(), 'iterations': optimizer.iterations.numpy()\n",
    "    }                     \n",
    "    \n",
    "    \n",
    "    # Code for manual Early Stopping:\n",
    "    if (test_loss.result() < best_val_loss) and (np.abs(test_loss.result() - best_val_loss) >= minimum_delta):\n",
    "        # update 'best_val_loss' variable to lowest loss encountered so far-\n",
    "        best_val_loss = test_loss.result()\n",
    "        \n",
    "        # reset 'loc_patience' variable-\n",
    "        loc_patience = 0\n",
    "        \n",
    "        print(f\"Saving model with lowest val_loss = {test_loss.result():.4f}\\n\")\n",
    "        model.save_weights(\"LeNet300_best_val_loss.h5\", overwrite = True)\n",
    "        \n",
    "    else:  # there is no improvement in monitored metric 'val_loss'\n",
    "        loc_patience += 1  # number of epochs without any improvement\n",
    "\n",
    "        "
   ]
  },
  {
   "cell_type": "code",
   "execution_count": null,
   "id": "730f8b5d-7c99-4b3f-a9be-0c3419c24439",
   "metadata": {},
   "outputs": [],
   "source": []
  },
  {
   "cell_type": "code",
   "execution_count": null,
   "id": "f29782c6-14de-4550-b68c-4d0851c6e3f5",
   "metadata": {},
   "outputs": [],
   "source": []
  },
  {
   "cell_type": "code",
   "execution_count": 31,
   "id": "f5019608-93e2-44c1-9d89-191ff24023a0",
   "metadata": {},
   "outputs": [],
   "source": [
    "# Save training metrics-\n",
    "with open(\"LeNet300-training_metrics.pkl\", \"wb\") as file:\n",
    "    pickle.dump(training_history, file)"
   ]
  },
  {
   "cell_type": "code",
   "execution_count": null,
   "id": "b76d5ea8-b7a4-489b-a600-af1b2adf129f",
   "metadata": {},
   "outputs": [],
   "source": [
    "# Load save metrics-\n",
    "'''\n",
    "with open(\"LeNet300-training_metrics.pkl\", \"rb\") as file:\n",
    "    t_h = pickle.load(file)\n",
    "'''"
   ]
  },
  {
   "cell_type": "code",
   "execution_count": null,
   "id": "b97f5c9b-9923-4ab1-b074-6c13c3a6f058",
   "metadata": {},
   "outputs": [],
   "source": [
    "# Sanity check-\n",
    "# t_h.keys()"
   ]
  },
  {
   "cell_type": "code",
   "execution_count": null,
   "id": "25f8f991-4c55-4d26-b6c3-12c3dc53bf9a",
   "metadata": {},
   "outputs": [],
   "source": [
    "# Sanity check-\n",
    "# t_h[2].keys()"
   ]
  },
  {
   "cell_type": "code",
   "execution_count": null,
   "id": "8eed811d-9dd5-4812-a41d-0a03540c600d",
   "metadata": {},
   "outputs": [],
   "source": []
  },
  {
   "cell_type": "code",
   "execution_count": null,
   "id": "275de841-d69c-474e-8274-ac0f662fd4af",
   "metadata": {},
   "outputs": [],
   "source": []
  },
  {
   "cell_type": "markdown",
   "id": "616986bc-afd7-407d-9ed5-b507940d6341",
   "metadata": {},
   "source": [
    "### Training Visualizations"
   ]
  },
  {
   "cell_type": "code",
   "execution_count": 38,
   "id": "85ba1c64-d15f-442b-b071-87e95b2610a1",
   "metadata": {},
   "outputs": [
    {
     "data": {
      "image/png": "[encoded data removed]",
      "text/plain": [
       "<Figure size 648x504 with 1 Axes>"
      ]
     },
     "metadata": {
      "needs_background": "light"
     },
     "output_type": "display_data"
    }
   ],
   "source": [
    "plt.figure(figsize = (9, 7))\n",
    "plt.plot([training_history[x]['loss'] for x in training_history.keys()], label = 'loss')\n",
    "plt.plot([training_history[x]['val_loss'] for x in training_history.keys()], label = 'val_loss')\n",
    "plt.xlabel(\"epochs\")\n",
    "plt.ylabel(\"loss\")\n",
    "plt.legend(loc = 'best')\n",
    "plt.title(\"LeNet-300: Training Visualization - Loss\")\n",
    "plt.show()"
   ]
  },
  {
   "cell_type": "code",
   "execution_count": 40,
   "id": "61f602d3-73f7-4b87-8827-aa1c72812c1a",
   "metadata": {},
   "outputs": [
    {
     "data": {
      "image/png": "[encoded data removed]",
      "text/plain": [
       "<Figure size 648x504 with 1 Axes>"
      ]
     },
     "metadata": {
      "needs_background": "light"
     },
     "output_type": "display_data"
    }
   ],
   "source": [
    "plt.figure(figsize = (9, 7))\n",
    "plt.plot([training_history[x]['acc'] for x in training_history.keys()], label = 'acc')\n",
    "plt.plot([training_history[x]['val_acc'] for x in training_history.keys()], label = 'val_acc')\n",
    "plt.xlabel(\"epochs\")\n",
    "plt.ylabel(\"acc %\")\n",
    "plt.legend(loc = 'best')\n",
    "plt.title(\"LeNet-300: Training Visualization - Accuracy\")\n",
    "plt.show()"
   ]
  },
  {
   "cell_type": "code",
   "execution_count": 41,
   "id": "62d7c8be-896a-4415-9fdf-08537db88efc",
   "metadata": {},
   "outputs": [
    {
     "data": {
      "image/png": "[encoded data removed]",
      "text/plain": [
       "<Figure size 648x504 with 1 Axes>"
      ]
     },
     "metadata": {
      "needs_background": "light"
     },
     "output_type": "display_data"
    }
   ],
   "source": [
    "plt.figure(figsize = (9, 7))\n",
    "plt.plot([training_history[x]['lr'] for x in training_history.keys()], label = 'lr')\n",
    "plt.xlabel(\"epochs\")\n",
    "plt.ylabel(\"lr\")\n",
    "plt.legend(loc = 'best')\n",
    "plt.title(\"LeNet-300: Training Visualization - Learning Rate\")\n",
    "plt.show()"
   ]
  },
  {
   "cell_type": "code",
   "execution_count": 43,
   "id": "edaf591d-da43-4d9d-8650-86646c4cc3c9",
   "metadata": {},
   "outputs": [
    {
     "data": {
      "image/png": "[encoded data removed]",
      "text/plain": [
       "<Figure size 648x504 with 1 Axes>"
      ]
     },
     "metadata": {
      "needs_background": "light"
     },
     "output_type": "display_data"
    }
   ],
   "source": [
    "plt.figure(figsize = (9, 7))\n",
    "plt.plot([training_history[x]['iterations'] for x in training_history.keys()])\n",
    "plt.xlabel(\"epochs\")\n",
    "plt.ylabel(\"steps\")\n",
    "# plt.legend(loc = 'best')\n",
    "plt.title(\"LeNet-300: Training Visualization - Iterations/Steps\")\n",
    "plt.show()"
   ]
  },
  {
   "cell_type": "code",
   "execution_count": null,
   "id": "f49e93b4-5d05-4202-bdcd-dab12155d289",
   "metadata": {},
   "outputs": [],
   "source": []
  },
  {
   "cell_type": "code",
   "execution_count": null,
   "id": "1f0d4596-af35-4b90-b4be-b24f904061e0",
   "metadata": {},
   "outputs": [],
   "source": []
  },
  {
   "cell_type": "code",
   "execution_count": 50,
   "id": "9b52acfb-30e1-4563-98e5-c2b27425fb1f",
   "metadata": {},
   "outputs": [],
   "source": [
    "# Sanity check-\n",
    "best_model = LeNet300()\n",
    "best_model.build(input_shape = (None, 784))"
   ]
  },
  {
   "cell_type": "code",
   "execution_count": 51,
   "id": "e67ade50-a1e7-4712-be21-00dc31be9951",
   "metadata": {},
   "outputs": [],
   "source": [
    "# Load pre-trained weights\n",
    "best_model.load_weights(\"LeNet300_best_val_loss.h5\")"
   ]
  },
  {
   "cell_type": "code",
   "execution_count": 52,
   "id": "3c35d260-53fa-4822-85aa-215634e1c8d6",
   "metadata": {},
   "outputs": [],
   "source": [
    "# Compile model-\n",
    "best_model.compile(\n",
    "    loss = tf.keras.losses.CategoricalCrossentropy(),\n",
    "    optimizer = tf.keras.optimizers.Adam(learning_rate= 0.0012),\n",
    "    metrics = ['accuracy']\n",
    ")"
   ]
  },
  {
   "cell_type": "code",
   "execution_count": 53,
   "id": "f5d21298-5428-434e-b40c-49ea20b9b641",
   "metadata": {},
   "outputs": [
    {
     "name": "stdout",
     "output_type": "stream",
     "text": [
      "313/313 [==============================] - 2s 4ms/step - loss: 0.0694 - accuracy: 0.9773\n"
     ]
    }
   ],
   "source": [
    "# Get evaluation metrics for pre-trained model-\n",
    "val_loss, val_acc = best_model.evaluate(X_test, y_test, verbose = 1)"
   ]
  },
  {
   "cell_type": "code",
   "execution_count": 54,
   "id": "44233086-48a3-4aca-a2e1-01acaaa2f5b4",
   "metadata": {},
   "outputs": [
    {
     "name": "stdout",
     "output_type": "stream",
     "text": [
      "LeNet-300-100 validation metrics: loss = 0.069 & accuracy = 97.73%\n"
     ]
    }
   ],
   "source": [
    "print(f\"LeNet-300-100 validation metrics: loss = {val_loss:.3f} & accuracy = {val_acc * 100:.2f}%\")"
   ]
  },
  {
   "cell_type": "code",
   "execution_count": 55,
   "id": "d82ffc9f-e2d5-4f7e-b661-5748168f9ae2",
   "metadata": {},
   "outputs": [],
   "source": [
    "del best_model, val_loss, val_acc"
   ]
  },
  {
   "cell_type": "code",
   "execution_count": null,
   "id": "46a86ba7-a245-474f-869c-f5aeb2b3391a",
   "metadata": {},
   "outputs": [],
   "source": []
  },
  {
   "cell_type": "code",
   "execution_count": null,
   "id": "395091ee-4e10-4de9-9886-eaf556bcb28c",
   "metadata": {},
   "outputs": [],
   "source": []
  }
 ],
 "metadata": {
  "kernelspec": {
   "display_name": "Python 3 (ipykernel)",
   "language": "python",
   "name": "python3"
  },
  "language_info": {
   "codemirror_mode": {
    "name": "ipython",
    "version": 3
   },
   "file_extension": ".py",
   "mimetype": "text/x-python",
   "name": "python",
   "nbconvert_exporter": "python",
   "pygments_lexer": "ipython3",
   "version": "3.9.7"
  }
 },
 "nbformat": 4,
 "nbformat_minor": 5
}
