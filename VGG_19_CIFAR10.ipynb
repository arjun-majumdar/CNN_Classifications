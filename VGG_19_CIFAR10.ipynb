{
  "nbformat": 4,
  "nbformat_minor": 5,
  "metadata": {
    "accelerator": "GPU",
    "colab": {
      "name": "VGG-19_CIFAR10.ipynb",
      "provenance": [],
      "collapsed_sections": []
    },
    "kernelspec": {
      "display_name": "Python 3",
      "language": "python",
      "name": "python3"
    },
    "language_info": {
      "codemirror_mode": {
        "name": "ipython",
        "version": 3
      },
      "file_extension": ".py",
      "mimetype": "text/x-python",
      "name": "python",
      "nbconvert_exporter": "python",
      "pygments_lexer": "ipython3",
      "version": "3.8.8"
    },
    "widgets": {
      "application/vnd.jupyter.widget-state+json": {
        "c79890bc39534b75aa1c5e1a7450714e": {
          "model_module": "@jupyter-widgets/controls",
          "model_name": "HBoxModel",
          "state": {
            "_view_name": "HBoxView",
            "_dom_classes": [],
            "_model_name": "HBoxModel",
            "_view_module": "@jupyter-widgets/controls",
            "_model_module_version": "1.5.0",
            "_view_count": null,
            "_view_module_version": "1.5.0",
            "box_style": "",
            "layout": "IPY_MODEL_386e2817f9a14016ac0626c9707c0356",
            "_model_module": "@jupyter-widgets/controls",
            "children": [
              "IPY_MODEL_dbb22650c75c4b87b9afe328b68cc8eb",
              "IPY_MODEL_c8c3bdbc26244375ac451ce7da38d728"
            ]
          }
        },
        "386e2817f9a14016ac0626c9707c0356": {
          "model_module": "@jupyter-widgets/base",
          "model_name": "LayoutModel",
          "state": {
            "_view_name": "LayoutView",
            "grid_template_rows": null,
            "right": null,
            "justify_content": null,
            "_view_module": "@jupyter-widgets/base",
            "overflow": null,
            "_model_module_version": "1.2.0",
            "_view_count": null,
            "flex_flow": null,
            "width": null,
            "min_width": null,
            "border": null,
            "align_items": null,
            "bottom": null,
            "_model_module": "@jupyter-widgets/base",
            "top": null,
            "grid_column": null,
            "overflow_y": null,
            "overflow_x": null,
            "grid_auto_flow": null,
            "grid_area": null,
            "grid_template_columns": null,
            "flex": null,
            "_model_name": "LayoutModel",
            "justify_items": null,
            "grid_row": null,
            "max_height": null,
            "align_content": null,
            "visibility": null,
            "align_self": null,
            "height": null,
            "min_height": null,
            "padding": null,
            "grid_auto_rows": null,
            "grid_gap": null,
            "max_width": null,
            "order": null,
            "_view_module_version": "1.2.0",
            "grid_template_areas": null,
            "object_position": null,
            "object_fit": null,
            "grid_auto_columns": null,
            "margin": null,
            "display": null,
            "left": null
          }
        },
        "dbb22650c75c4b87b9afe328b68cc8eb": {
          "model_module": "@jupyter-widgets/controls",
          "model_name": "FloatProgressModel",
          "state": {
            "_view_name": "ProgressView",
            "style": "IPY_MODEL_6cb7b122282747e5be0823b3cb19e6d1",
            "_dom_classes": [],
            "description": "",
            "_model_name": "FloatProgressModel",
            "bar_style": "success",
            "max": 170498071,
            "_view_module": "@jupyter-widgets/controls",
            "_model_module_version": "1.5.0",
            "value": 170498071,
            "_view_count": null,
            "_view_module_version": "1.5.0",
            "orientation": "horizontal",
            "min": 0,
            "description_tooltip": null,
            "_model_module": "@jupyter-widgets/controls",
            "layout": "IPY_MODEL_098086f6c8b942f89c111bd0247c1d45"
          }
        },
        "c8c3bdbc26244375ac451ce7da38d728": {
          "model_module": "@jupyter-widgets/controls",
          "model_name": "HTMLModel",
          "state": {
            "_view_name": "HTMLView",
            "style": "IPY_MODEL_2f190770450b4ec1823d0cf9d5b07414",
            "_dom_classes": [],
            "description": "",
            "_model_name": "HTMLModel",
            "placeholder": "​",
            "_view_module": "@jupyter-widgets/controls",
            "_model_module_version": "1.5.0",
            "value": " 170499072/? [00:05&lt;00:00, 33277342.84it/s]",
            "_view_count": null,
            "_view_module_version": "1.5.0",
            "description_tooltip": null,
            "_model_module": "@jupyter-widgets/controls",
            "layout": "IPY_MODEL_af66e52c45d84185abb674fc8be4e9e5"
          }
        },
        "6cb7b122282747e5be0823b3cb19e6d1": {
          "model_module": "@jupyter-widgets/controls",
          "model_name": "ProgressStyleModel",
          "state": {
            "_view_name": "StyleView",
            "_model_name": "ProgressStyleModel",
            "description_width": "initial",
            "_view_module": "@jupyter-widgets/base",
            "_model_module_version": "1.5.0",
            "_view_count": null,
            "_view_module_version": "1.2.0",
            "bar_color": null,
            "_model_module": "@jupyter-widgets/controls"
          }
        },
        "098086f6c8b942f89c111bd0247c1d45": {
          "model_module": "@jupyter-widgets/base",
          "model_name": "LayoutModel",
          "state": {
            "_view_name": "LayoutView",
            "grid_template_rows": null,
            "right": null,
            "justify_content": null,
            "_view_module": "@jupyter-widgets/base",
            "overflow": null,
            "_model_module_version": "1.2.0",
            "_view_count": null,
            "flex_flow": null,
            "width": null,
            "min_width": null,
            "border": null,
            "align_items": null,
            "bottom": null,
            "_model_module": "@jupyter-widgets/base",
            "top": null,
            "grid_column": null,
            "overflow_y": null,
            "overflow_x": null,
            "grid_auto_flow": null,
            "grid_area": null,
            "grid_template_columns": null,
            "flex": null,
            "_model_name": "LayoutModel",
            "justify_items": null,
            "grid_row": null,
            "max_height": null,
            "align_content": null,
            "visibility": null,
            "align_self": null,
            "height": null,
            "min_height": null,
            "padding": null,
            "grid_auto_rows": null,
            "grid_gap": null,
            "max_width": null,
            "order": null,
            "_view_module_version": "1.2.0",
            "grid_template_areas": null,
            "object_position": null,
            "object_fit": null,
            "grid_auto_columns": null,
            "margin": null,
            "display": null,
            "left": null
          }
        },
        "2f190770450b4ec1823d0cf9d5b07414": {
          "model_module": "@jupyter-widgets/controls",
          "model_name": "DescriptionStyleModel",
          "state": {
            "_view_name": "StyleView",
            "_model_name": "DescriptionStyleModel",
            "description_width": "",
            "_view_module": "@jupyter-widgets/base",
            "_model_module_version": "1.5.0",
            "_view_count": null,
            "_view_module_version": "1.2.0",
            "_model_module": "@jupyter-widgets/controls"
          }
        },
        "af66e52c45d84185abb674fc8be4e9e5": {
          "model_module": "@jupyter-widgets/base",
          "model_name": "LayoutModel",
          "state": {
            "_view_name": "LayoutView",
            "grid_template_rows": null,
            "right": null,
            "justify_content": null,
            "_view_module": "@jupyter-widgets/base",
            "overflow": null,
            "_model_module_version": "1.2.0",
            "_view_count": null,
            "flex_flow": null,
            "width": null,
            "min_width": null,
            "border": null,
            "align_items": null,
            "bottom": null,
            "_model_module": "@jupyter-widgets/base",
            "top": null,
            "grid_column": null,
            "overflow_y": null,
            "overflow_x": null,
            "grid_auto_flow": null,
            "grid_area": null,
            "grid_template_columns": null,
            "flex": null,
            "_model_name": "LayoutModel",
            "justify_items": null,
            "grid_row": null,
            "max_height": null,
            "align_content": null,
            "visibility": null,
            "align_self": null,
            "height": null,
            "min_height": null,
            "padding": null,
            "grid_auto_rows": null,
            "grid_gap": null,
            "max_width": null,
            "order": null,
            "_view_module_version": "1.2.0",
            "grid_template_areas": null,
            "object_position": null,
            "object_fit": null,
            "grid_auto_columns": null,
            "margin": null,
            "display": null,
            "left": null
          }
        }
      }
    }
  },
  "cells": [
    {
      "cell_type": "markdown",
      "metadata": {
        "id": "smaller-alexandria"
      },
      "source": [
        "# VGG-19: CIFAR-10 dataset"
      ],
      "id": "smaller-alexandria"
    },
    {
      "cell_type": "code",
      "metadata": {
        "id": "recorded-deployment"
      },
      "source": [
        "import torch\n",
        "import torch.nn as nn\n",
        "import torch.nn.functional as F\n",
        "import torchvision\n",
        "import torchvision.transforms as transforms\n",
        "import matplotlib.pyplot as plt\n",
        "import numpy as np\n",
        "import os"
      ],
      "id": "recorded-deployment",
      "execution_count": null,
      "outputs": []
    },
    {
      "cell_type": "code",
      "metadata": {
        "id": "upper-dancing"
      },
      "source": [
        ""
      ],
      "id": "upper-dancing",
      "execution_count": null,
      "outputs": []
    },
    {
      "cell_type": "code",
      "metadata": {
        "colab": {
          "base_uri": "https://localhost:8080/"
        },
        "id": "substantial-lodge",
        "outputId": "31131215-06ba-47db-f780-eea46db12680"
      },
      "source": [
        "# Device configuration-\n",
        "device = torch.device('cuda' if torch.cuda.is_available() else 'cpu')\n",
        "print(f\"currently available device: {device}\")"
      ],
      "id": "substantial-lodge",
      "execution_count": null,
      "outputs": [
        {
          "output_type": "stream",
          "text": [
            "currently available device: cuda\n"
          ],
          "name": "stdout"
        }
      ]
    },
    {
      "cell_type": "code",
      "metadata": {
        "id": "greatest-delicious"
      },
      "source": [
        ""
      ],
      "id": "greatest-delicious",
      "execution_count": null,
      "outputs": []
    },
    {
      "cell_type": "code",
      "metadata": {
        "id": "handy-festival"
      },
      "source": [
        "# Hyper-parameters-\n",
        "num_epochs = 200\n",
        "batch_size = 128\n",
        "learning_rate = 0.01"
      ],
      "id": "handy-festival",
      "execution_count": null,
      "outputs": []
    },
    {
      "cell_type": "code",
      "metadata": {
        "id": "confident-husband"
      },
      "source": [
        "# Define transformations for training and test sets-\n",
        "transform_train = transforms.Compose(\n",
        "    [\n",
        "      transforms.RandomCrop(32, padding = 4),\n",
        "      transforms.RandomHorizontalFlip(),\n",
        "      transforms.ToTensor(),\n",
        "      transforms.Normalize((0.4914, 0.4822, 0.4465), (0.2023, 0.1994, 0.2010)),\n",
        "     ]\n",
        "     )\n",
        "\n",
        "transform_test = transforms.Compose(\n",
        "    [\n",
        "      transforms.ToTensor(),\n",
        "      transforms.Normalize((0.4914, 0.4822, 0.4465), (0.2023, 0.1994, 0.2010)),\n",
        "     ]\n",
        "     )"
      ],
      "id": "confident-husband",
      "execution_count": null,
      "outputs": []
    },
    {
      "cell_type": "code",
      "metadata": {
        "id": "incoming-month"
      },
      "source": [
        "'''\n",
        "# Dataset has PILImage images of range [0, 1]. We transform them to Tensors\n",
        "# of normalized range [-1, 1]\n",
        "transform = transforms.Compose(\n",
        "        [\n",
        "            transforms.ToTensor(),\n",
        "            transforms.Normalize((0.5, 0.5, 0.5), (0.5, 0.5, 0.5))\n",
        "            ]\n",
        "        )\n",
        "'''"
      ],
      "id": "incoming-month",
      "execution_count": null,
      "outputs": []
    },
    {
      "cell_type": "code",
      "metadata": {
        "id": "baking-header"
      },
      "source": [
        ""
      ],
      "id": "baking-header",
      "execution_count": null,
      "outputs": []
    },
    {
      "cell_type": "code",
      "metadata": {
        "id": "fabulous-sunglasses"
      },
      "source": [
        "# os.chdir(\"/home/arjun/Documents/Programs/Python_Codes/PyTorch_Resources/Good_Codes/\")"
      ],
      "id": "fabulous-sunglasses",
      "execution_count": null,
      "outputs": []
    },
    {
      "cell_type": "code",
      "metadata": {
        "colab": {
          "base_uri": "https://localhost:8080/",
          "height": 118,
          "referenced_widgets": [
            "c79890bc39534b75aa1c5e1a7450714e",
            "386e2817f9a14016ac0626c9707c0356",
            "dbb22650c75c4b87b9afe328b68cc8eb",
            "c8c3bdbc26244375ac451ce7da38d728",
            "6cb7b122282747e5be0823b3cb19e6d1",
            "098086f6c8b942f89c111bd0247c1d45",
            "2f190770450b4ec1823d0cf9d5b07414",
            "af66e52c45d84185abb674fc8be4e9e5"
          ]
        },
        "id": "invalid-canon",
        "outputId": "12635e86-c705-416a-e719-6f0a85b4cc4a"
      },
      "source": [
        "# Load dataset-\n",
        "train_dataset = torchvision.datasets.CIFAR10(\n",
        "        root = './data', train = True,\n",
        "        download = True, transform = transform_train\n",
        "        )\n",
        "\n",
        "test_dataset = torchvision.datasets.CIFAR10(\n",
        "        root = './data', train = False,\n",
        "        download = True, transform = transform_test\n",
        "        )"
      ],
      "id": "invalid-canon",
      "execution_count": null,
      "outputs": [
        {
          "output_type": "stream",
          "text": [
            "Downloading https://www.cs.toronto.edu/~kriz/cifar-10-python.tar.gz to ./data/cifar-10-python.tar.gz\n"
          ],
          "name": "stdout"
        },
        {
          "output_type": "display_data",
          "data": {
            "application/vnd.jupyter.widget-view+json": {
              "model_id": "c79890bc39534b75aa1c5e1a7450714e",
              "version_minor": 0,
              "version_major": 2
            },
            "text/plain": [
              "HBox(children=(FloatProgress(value=0.0, max=170498071.0), HTML(value='')))"
            ]
          },
          "metadata": {
            "tags": []
          }
        },
        {
          "output_type": "stream",
          "text": [
            "\n",
            "Extracting ./data/cifar-10-python.tar.gz to ./data\n",
            "Files already downloaded and verified\n"
          ],
          "name": "stdout"
        }
      ]
    },
    {
      "cell_type": "code",
      "metadata": {
        "colab": {
          "base_uri": "https://localhost:8080/"
        },
        "id": "dried-vampire",
        "outputId": "e3020035-25f9-4fc1-ffe2-461ea8613528"
      },
      "source": [
        "print(f\"len(train_dataset) = {len(train_dataset)} & len(test_dataset) = {len(test_dataset)}\")"
      ],
      "id": "dried-vampire",
      "execution_count": null,
      "outputs": [
        {
          "output_type": "stream",
          "text": [
            "len(train_dataset) = 50000 & len(test_dataset) = 10000\n"
          ],
          "name": "stdout"
        }
      ]
    },
    {
      "cell_type": "code",
      "metadata": {
        "id": "assisted-farmer"
      },
      "source": [
        "# Create training and testing loaders-\n",
        "train_loader = torch.utils.data.DataLoader(\n",
        "        train_dataset, batch_size = batch_size,\n",
        "        shuffle = True\n",
        "        )\n",
        "\n",
        "test_loader = torch.utils.data.DataLoader(\n",
        "        test_dataset, batch_size = batch_size,\n",
        "        shuffle = False\n",
        "        )"
      ],
      "id": "assisted-farmer",
      "execution_count": null,
      "outputs": []
    },
    {
      "cell_type": "code",
      "metadata": {
        "colab": {
          "base_uri": "https://localhost:8080/"
        },
        "id": "pharmaceutical-casting",
        "outputId": "826cdb37-04af-49ff-e854-ce90d2f0a827"
      },
      "source": [
        "print(f\"len(train_loader) = {len(train_loader)} & len(test_loader) = {len(test_loader)}\")"
      ],
      "id": "pharmaceutical-casting",
      "execution_count": null,
      "outputs": [
        {
          "output_type": "stream",
          "text": [
            "len(train_loader) = 391 & len(test_loader) = 79\n"
          ],
          "name": "stdout"
        }
      ]
    },
    {
      "cell_type": "code",
      "metadata": {
        "colab": {
          "base_uri": "https://localhost:8080/"
        },
        "id": "apparent-pakistan",
        "outputId": "01f39458-ff3a-47c8-bfe8-9b3e794241b4"
      },
      "source": [
        "# Sanity check-\n",
        "len(train_dataset) / batch_size, len(test_dataset) / batch_size"
      ],
      "id": "apparent-pakistan",
      "execution_count": null,
      "outputs": [
        {
          "output_type": "execute_result",
          "data": {
            "text/plain": [
              "(390.625, 78.125)"
            ]
          },
          "metadata": {
            "tags": []
          },
          "execution_count": 9
        }
      ]
    },
    {
      "cell_type": "code",
      "metadata": {
        "id": "immune-yorkshire"
      },
      "source": [
        ""
      ],
      "id": "immune-yorkshire",
      "execution_count": null,
      "outputs": []
    },
    {
      "cell_type": "code",
      "metadata": {
        "colab": {
          "base_uri": "https://localhost:8080/"
        },
        "id": "outer-newcastle",
        "outputId": "700bad6c-1613-4a4d-8dae-7748b0071e2f"
      },
      "source": [
        "# Get some random training images-\n",
        "# some_img = iter(train_loader)\n",
        "# images, labels = some_img.next()\n",
        "images, labels = next(iter(train_loader))\n",
        "\n",
        "# You get 32 images due to our specified batch size-\n",
        "print(f\"images.shape: {images.shape} & labels.shape: {labels.shape}\")"
      ],
      "id": "outer-newcastle",
      "execution_count": null,
      "outputs": [
        {
          "output_type": "stream",
          "text": [
            "images.shape: torch.Size([128, 3, 32, 32]) & labels.shape: torch.Size([128])\n"
          ],
          "name": "stdout"
        }
      ]
    },
    {
      "cell_type": "code",
      "metadata": {
        "id": "raising-coordination"
      },
      "source": [
        ""
      ],
      "id": "raising-coordination",
      "execution_count": null,
      "outputs": []
    },
    {
      "cell_type": "code",
      "metadata": {
        "id": "subject-grade"
      },
      "source": [
        ""
      ],
      "id": "subject-grade",
      "execution_count": null,
      "outputs": []
    },
    {
      "cell_type": "code",
      "metadata": {
        "id": "billion-passage"
      },
      "source": [
        "class VGGBlock(nn.Module):\n",
        "    '''\n",
        "    VGG-19 block within a VGG CNN model\n",
        "    '''\n",
        "    def __init__(self, input_channels, num_channels, padding_size = 1,\n",
        "                 stride_size = 1, use_extra_conv = False):\n",
        "        super().__init__()\n",
        "        \n",
        "        self.conv1 = nn.Conv2d(\n",
        "            in_channels = input_channels, out_channels = num_channels,\n",
        "            kernel_size = 3, padding = padding_size,\n",
        "            stride = stride_size, bias = False\n",
        "        )\n",
        "        \n",
        "        self.conv2 = nn.Conv2d(\n",
        "            in_channels = num_channels, out_channels = num_channels,\n",
        "            kernel_size = 3, padding = padding_size,\n",
        "            stride = stride_size, bias = False\n",
        "        )\n",
        "        \n",
        "        if use_extra_conv:\n",
        "            self.conv3 = nn.Conv2d(\n",
        "                in_channels = num_channels, out_channels = num_channels,\n",
        "                kernel_size = 3, padding = padding_size,\n",
        "                stride = stride_size, bias = False\n",
        "            )\n",
        "            \n",
        "            self.conv4 = nn.Conv2d(\n",
        "                in_channels = num_channels, out_channels = num_channels,\n",
        "                kernel_size = 3, padding = padding_size,\n",
        "                stride = stride_size, bias = False\n",
        "            )\n",
        "        else:\n",
        "            self.conv3 = False\n",
        "            self.conv4 = False\n",
        "        \n",
        "        self.pool = nn.MaxPool2d(\n",
        "            kernel_size = 2, stride = 2)\n",
        "            # padding = 1)\n",
        "        \n",
        "        self.bn1 = nn.BatchNorm2d(num_features = num_channels)\n",
        "        self.bn2 = nn.BatchNorm2d(num_features = num_channels)\n",
        "        self.bn3 = nn.BatchNorm2d(num_features = num_channels)\n",
        "        self.bn4 = nn.BatchNorm2d(num_features = num_channels)\n",
        "        \n",
        "        self.initialize_weights()\n",
        "    \n",
        "    \n",
        "    def forward(self, X):\n",
        "        Y = F.relu(self.bn1(self.conv1(X)))\n",
        "        Y = F.relu(self.bn2(self.conv2(Y)))\n",
        "        \n",
        "        if self.conv3 and self.conv4:\n",
        "            Y = F.relu(self.bn3(self.conv3(Y)))\n",
        "            Y = F.relu(self.bn4(self.conv4(Y)))\n",
        "            Y = self.pool(Y)\n",
        "        else:\n",
        "            Y = self.pool(Y)\n",
        "        \n",
        "        return Y\n",
        "    \n",
        "    \n",
        "    def shape_computation(self, X):\n",
        "        Y = self.bn1(self.conv1(X))\n",
        "        print(f\"self.bn(conv1(X)).shape: {Y.shape}\")\n",
        "        \n",
        "        Y = self.bn2(self.conv2(Y))\n",
        "        print(f\"self.bn(conv2(Y)).shape: {Y.shape}\")\n",
        "        \n",
        "        if self.conv3 and self.conv4:\n",
        "            Y = self.bn3(self.conv3(Y))\n",
        "            print(f\"self.bn(conv3(Y)).shape: {Y.shape}\")\n",
        "            \n",
        "            Y = self.bn4(self.conv4(Y))\n",
        "            print(f\"self.bn(conv4(Y)).shape: {Y.shape}\")\n",
        "            \n",
        "            Y = self.pool(Y)\n",
        "            print(f\"self.pool(Y).shape: {Y.shape}\")\n",
        "        else:\n",
        "            Y = self.pool(Y)\n",
        "            print(f\"self.pool(Y).shape: {Y.shape}\")\n",
        "        \n",
        "\n",
        "    def initialize_weights(self):\n",
        "        for m in self.modules():\n",
        "            # print(m)\n",
        "            if isinstance(m, nn.Conv2d):\n",
        "                nn.init.kaiming_uniform_(m.weight)\n",
        "\n",
        "                '''\n",
        "                # Do not initialize bias (due to batchnorm)-\n",
        "                if m.bias is not None:\n",
        "                    nn.init.constant_(m.bias, 0)\n",
        "                '''\n",
        "            \n",
        "            elif isinstance(m, nn.BatchNorm2d):\n",
        "                # Standard initialization for batch normalization-\n",
        "                nn.init.constant_(m.weight, 1)\n",
        "                nn.init.constant_(m.bias, 0)\n",
        "\n",
        "            elif isinstance(m, nn.Linear):\n",
        "                nn.init.kaiming_normal_(m.weight)\n",
        "                nn.init.constant_(m.bias, 0)\n",
        "\n",
        "        "
      ],
      "id": "billion-passage",
      "execution_count": null,
      "outputs": []
    },
    {
      "cell_type": "code",
      "metadata": {
        "id": "progressive-remainder"
      },
      "source": [
        ""
      ],
      "id": "progressive-remainder",
      "execution_count": null,
      "outputs": []
    },
    {
      "cell_type": "code",
      "metadata": {
        "id": "significant-queens"
      },
      "source": [
        "# Sanity check-\n",
        "b1 = VGGBlock(input_channels = 3, num_channels = 64)"
      ],
      "id": "significant-queens",
      "execution_count": null,
      "outputs": []
    },
    {
      "cell_type": "code",
      "metadata": {
        "id": "found-first",
        "outputId": "8ed12036-837e-433e-eb48-332c7a599134"
      },
      "source": [
        "# Compute dimensions of images for each layer within the VGG block-\n",
        "b1.shape_computation(images)"
      ],
      "id": "found-first",
      "execution_count": null,
      "outputs": [
        {
          "output_type": "stream",
          "text": [
            "self.bn(conv1(X)).shape: torch.Size([128, 64, 32, 32])\n",
            "self.bn(conv2(Y)).shape: torch.Size([128, 64, 32, 32])\n",
            "self.pool(Y).shape: torch.Size([128, 64, 16, 16])\n"
          ],
          "name": "stdout"
        }
      ]
    },
    {
      "cell_type": "code",
      "metadata": {
        "id": "portuguese-saying"
      },
      "source": [
        "Y = b1(images)"
      ],
      "id": "portuguese-saying",
      "execution_count": null,
      "outputs": []
    },
    {
      "cell_type": "code",
      "metadata": {
        "id": "effective-benchmark",
        "outputId": "60bf4890-a15f-4289-9346-ad7efc6c403d"
      },
      "source": [
        "Y.shape"
      ],
      "id": "effective-benchmark",
      "execution_count": null,
      "outputs": [
        {
          "output_type": "execute_result",
          "data": {
            "text/plain": [
              "torch.Size([128, 64, 16, 16])"
            ]
          },
          "metadata": {
            "tags": []
          },
          "execution_count": 16
        }
      ]
    },
    {
      "cell_type": "code",
      "metadata": {
        "id": "decimal-sword"
      },
      "source": [
        ""
      ],
      "id": "decimal-sword",
      "execution_count": null,
      "outputs": []
    },
    {
      "cell_type": "code",
      "metadata": {
        "id": "confident-bryan"
      },
      "source": [
        "b2 = VGGBlock(input_channels = 64, num_channels = 128)"
      ],
      "id": "confident-bryan",
      "execution_count": null,
      "outputs": []
    },
    {
      "cell_type": "code",
      "metadata": {
        "id": "relative-morris"
      },
      "source": [
        "Y = b2(Y)"
      ],
      "id": "relative-morris",
      "execution_count": null,
      "outputs": []
    },
    {
      "cell_type": "code",
      "metadata": {
        "id": "digital-guinea",
        "outputId": "f2b91c0e-af2a-40b6-e765-4cccc11e1117"
      },
      "source": [
        "Y.shape"
      ],
      "id": "digital-guinea",
      "execution_count": null,
      "outputs": [
        {
          "output_type": "execute_result",
          "data": {
            "text/plain": [
              "torch.Size([128, 128, 8, 8])"
            ]
          },
          "metadata": {
            "tags": []
          },
          "execution_count": 19
        }
      ]
    },
    {
      "cell_type": "code",
      "metadata": {
        "id": "corporate-florence",
        "outputId": "150eb664-7a2b-4d58-b0ad-559d21ee3edf"
      },
      "source": [
        "b2.shape_computation(torch.rand(128, 64, 16, 16))"
      ],
      "id": "corporate-florence",
      "execution_count": null,
      "outputs": [
        {
          "output_type": "stream",
          "text": [
            "self.bn(conv1(X)).shape: torch.Size([128, 128, 16, 16])\n",
            "self.bn(conv2(Y)).shape: torch.Size([128, 128, 16, 16])\n",
            "self.pool(Y).shape: torch.Size([128, 128, 8, 8])\n"
          ],
          "name": "stdout"
        }
      ]
    },
    {
      "cell_type": "code",
      "metadata": {
        "id": "bridal-fireplace"
      },
      "source": [
        ""
      ],
      "id": "bridal-fireplace",
      "execution_count": null,
      "outputs": []
    },
    {
      "cell_type": "code",
      "metadata": {
        "id": "unusual-sussex"
      },
      "source": [
        "b3 = VGGBlock(input_channels = 128, num_channels = 256, use_extra_conv = True)"
      ],
      "id": "unusual-sussex",
      "execution_count": null,
      "outputs": []
    },
    {
      "cell_type": "code",
      "metadata": {
        "id": "fantastic-consent"
      },
      "source": [
        "Y = b3(Y)"
      ],
      "id": "fantastic-consent",
      "execution_count": null,
      "outputs": []
    },
    {
      "cell_type": "code",
      "metadata": {
        "id": "shared-infection",
        "outputId": "6bd6f544-d391-4866-e157-e922589ae093"
      },
      "source": [
        "Y.shape"
      ],
      "id": "shared-infection",
      "execution_count": null,
      "outputs": [
        {
          "output_type": "execute_result",
          "data": {
            "text/plain": [
              "torch.Size([128, 256, 4, 4])"
            ]
          },
          "metadata": {
            "tags": []
          },
          "execution_count": 23
        }
      ]
    },
    {
      "cell_type": "code",
      "metadata": {
        "id": "aerial-mouse",
        "outputId": "e9772d9d-e81d-4dc7-e32d-b04174cc5d3c"
      },
      "source": [
        "b3.shape_computation(torch.rand(128, 128, 8, 8))"
      ],
      "id": "aerial-mouse",
      "execution_count": null,
      "outputs": [
        {
          "output_type": "stream",
          "text": [
            "self.bn(conv1(X)).shape: torch.Size([128, 256, 8, 8])\n",
            "self.bn(conv2(Y)).shape: torch.Size([128, 256, 8, 8])\n",
            "self.bn(conv3(Y)).shape: torch.Size([128, 256, 8, 8])\n",
            "self.bn(conv4(Y)).shape: torch.Size([128, 256, 8, 8])\n",
            "self.pool(Y).shape: torch.Size([128, 256, 4, 4])\n"
          ],
          "name": "stdout"
        }
      ]
    },
    {
      "cell_type": "code",
      "metadata": {
        "id": "periodic-contamination"
      },
      "source": [
        ""
      ],
      "id": "periodic-contamination",
      "execution_count": null,
      "outputs": []
    },
    {
      "cell_type": "code",
      "metadata": {
        "id": "eligible-hartford"
      },
      "source": [
        "b4 = VGGBlock(input_channels = 256, num_channels = 512, use_extra_conv = True)"
      ],
      "id": "eligible-hartford",
      "execution_count": null,
      "outputs": []
    },
    {
      "cell_type": "code",
      "metadata": {
        "id": "precise-catering"
      },
      "source": [
        "Y = b4(Y)"
      ],
      "id": "precise-catering",
      "execution_count": null,
      "outputs": []
    },
    {
      "cell_type": "code",
      "metadata": {
        "id": "nasty-button",
        "outputId": "25fb7be9-808e-460c-8e7f-4a0b0da088cc"
      },
      "source": [
        "Y.shape"
      ],
      "id": "nasty-button",
      "execution_count": null,
      "outputs": [
        {
          "output_type": "execute_result",
          "data": {
            "text/plain": [
              "torch.Size([128, 512, 2, 2])"
            ]
          },
          "metadata": {
            "tags": []
          },
          "execution_count": 27
        }
      ]
    },
    {
      "cell_type": "code",
      "metadata": {
        "id": "extended-variance",
        "outputId": "779bb1d2-121e-4d28-d621-b26f2dc00525"
      },
      "source": [
        "b4.shape_computation(torch.rand(128, 256, 4, 4))"
      ],
      "id": "extended-variance",
      "execution_count": null,
      "outputs": [
        {
          "output_type": "stream",
          "text": [
            "self.bn(conv1(X)).shape: torch.Size([128, 512, 4, 4])\n",
            "self.bn(conv2(Y)).shape: torch.Size([128, 512, 4, 4])\n",
            "self.bn(conv3(Y)).shape: torch.Size([128, 512, 4, 4])\n",
            "self.bn(conv4(Y)).shape: torch.Size([128, 512, 4, 4])\n",
            "self.pool(Y).shape: torch.Size([128, 512, 2, 2])\n"
          ],
          "name": "stdout"
        }
      ]
    },
    {
      "cell_type": "code",
      "metadata": {
        "id": "honest-negative"
      },
      "source": [
        ""
      ],
      "id": "honest-negative",
      "execution_count": null,
      "outputs": []
    },
    {
      "cell_type": "code",
      "metadata": {
        "id": "religious-frederick"
      },
      "source": [
        "b5 = VGGBlock(input_channels = 512, num_channels = 512, use_extra_conv = True)"
      ],
      "id": "religious-frederick",
      "execution_count": null,
      "outputs": []
    },
    {
      "cell_type": "code",
      "metadata": {
        "id": "clean-birth"
      },
      "source": [
        "Y = b5(Y)"
      ],
      "id": "clean-birth",
      "execution_count": null,
      "outputs": []
    },
    {
      "cell_type": "code",
      "metadata": {
        "id": "toxic-drama",
        "outputId": "f2a0ecdd-b8dd-481b-d68f-c4aa501736a9"
      },
      "source": [
        "Y.shape"
      ],
      "id": "toxic-drama",
      "execution_count": null,
      "outputs": [
        {
          "output_type": "execute_result",
          "data": {
            "text/plain": [
              "torch.Size([128, 512, 1, 1])"
            ]
          },
          "metadata": {
            "tags": []
          },
          "execution_count": 31
        }
      ]
    },
    {
      "cell_type": "code",
      "metadata": {
        "id": "earned-salmon",
        "outputId": "c2a3519b-56ee-465e-8aea-e9bb3dbf860a"
      },
      "source": [
        "b5.shape_computation(torch.rand(128, 512, 2, 2))"
      ],
      "id": "earned-salmon",
      "execution_count": null,
      "outputs": [
        {
          "output_type": "stream",
          "text": [
            "self.bn(conv1(X)).shape: torch.Size([128, 512, 2, 2])\n",
            "self.bn(conv2(Y)).shape: torch.Size([128, 512, 2, 2])\n",
            "self.bn(conv3(Y)).shape: torch.Size([128, 512, 2, 2])\n",
            "self.bn(conv4(Y)).shape: torch.Size([128, 512, 2, 2])\n",
            "self.pool(Y).shape: torch.Size([128, 512, 1, 1])\n"
          ],
          "name": "stdout"
        }
      ]
    },
    {
      "cell_type": "code",
      "metadata": {
        "id": "hawaiian-financing"
      },
      "source": [
        ""
      ],
      "id": "hawaiian-financing",
      "execution_count": null,
      "outputs": []
    },
    {
      "cell_type": "code",
      "metadata": {
        "id": "collective-essay"
      },
      "source": [
        "pool_layer = nn.MaxPool2d(kernel_size = 1, stride = 1)"
      ],
      "id": "collective-essay",
      "execution_count": null,
      "outputs": []
    },
    {
      "cell_type": "code",
      "metadata": {
        "id": "pacific-slovakia"
      },
      "source": [
        "Y = pool_layer(Y)"
      ],
      "id": "pacific-slovakia",
      "execution_count": null,
      "outputs": []
    },
    {
      "cell_type": "code",
      "metadata": {
        "id": "defensive-plasma",
        "outputId": "6a3116c7-750e-4b22-c972-62582e1a5fb2"
      },
      "source": [
        "Y.shape"
      ],
      "id": "defensive-plasma",
      "execution_count": null,
      "outputs": [
        {
          "output_type": "execute_result",
          "data": {
            "text/plain": [
              "torch.Size([128, 512, 1, 1])"
            ]
          },
          "metadata": {
            "tags": []
          },
          "execution_count": 35
        }
      ]
    },
    {
      "cell_type": "code",
      "metadata": {
        "id": "boring-bouquet"
      },
      "source": [
        ""
      ],
      "id": "boring-bouquet",
      "execution_count": null,
      "outputs": []
    },
    {
      "cell_type": "code",
      "metadata": {
        "id": "quarterly-sheep"
      },
      "source": [
        ""
      ],
      "id": "quarterly-sheep",
      "execution_count": null,
      "outputs": []
    },
    {
      "cell_type": "code",
      "metadata": {
        "id": "floppy-faculty"
      },
      "source": [
        "# Initialize VGG-19 model-\n",
        "model = nn.Sequential(\n",
        "    b1, b2, b3, b4, b5,\n",
        "    nn.MaxPool2d(kernel_size = 1, stride = 1),\n",
        "    nn.Flatten(),\n",
        "    nn.Linear(in_features = 512, out_features = 256),\n",
        "    nn.Linear(in_features = 256, out_features = 10))"
      ],
      "id": "floppy-faculty",
      "execution_count": null,
      "outputs": []
    },
    {
      "cell_type": "code",
      "metadata": {
        "id": "Go6WpZQ4-T3b"
      },
      "source": [
        ""
      ],
      "id": "Go6WpZQ4-T3b",
      "execution_count": null,
      "outputs": []
    },
    {
      "cell_type": "code",
      "metadata": {
        "id": "distinct-malawi"
      },
      "source": [
        "# Load initialization weights-\n",
        "# model.load_state_dict(torch.load(\"/content/VGG19_kaiming_uniform_random_weights.pth\"))"
      ],
      "id": "distinct-malawi",
      "execution_count": null,
      "outputs": []
    },
    {
      "cell_type": "code",
      "metadata": {
        "id": "fewer-independence"
      },
      "source": [
        ""
      ],
      "id": "fewer-independence",
      "execution_count": null,
      "outputs": []
    },
    {
      "cell_type": "code",
      "metadata": {
        "colab": {
          "base_uri": "https://localhost:8080/"
        },
        "id": "vietnamese-colombia",
        "outputId": "56d4b700-7579-479c-d130-6443272abd3f"
      },
      "source": [
        "# Place model on GPU (if available)-\n",
        "model.to(device)"
      ],
      "id": "vietnamese-colombia",
      "execution_count": null,
      "outputs": [
        {
          "output_type": "execute_result",
          "data": {
            "text/plain": [
              "Sequential(\n",
              "  (0): VGGBlock(\n",
              "    (conv1): Conv2d(3, 64, kernel_size=(3, 3), stride=(1, 1), padding=(1, 1), bias=False)\n",
              "    (conv2): Conv2d(64, 64, kernel_size=(3, 3), stride=(1, 1), padding=(1, 1), bias=False)\n",
              "    (pool): MaxPool2d(kernel_size=2, stride=2, padding=0, dilation=1, ceil_mode=False)\n",
              "    (bn1): BatchNorm2d(64, eps=1e-05, momentum=0.1, affine=True, track_running_stats=True)\n",
              "    (bn2): BatchNorm2d(64, eps=1e-05, momentum=0.1, affine=True, track_running_stats=True)\n",
              "    (bn3): BatchNorm2d(64, eps=1e-05, momentum=0.1, affine=True, track_running_stats=True)\n",
              "    (bn4): BatchNorm2d(64, eps=1e-05, momentum=0.1, affine=True, track_running_stats=True)\n",
              "  )\n",
              "  (1): VGGBlock(\n",
              "    (conv1): Conv2d(64, 128, kernel_size=(3, 3), stride=(1, 1), padding=(1, 1), bias=False)\n",
              "    (conv2): Conv2d(128, 128, kernel_size=(3, 3), stride=(1, 1), padding=(1, 1), bias=False)\n",
              "    (pool): MaxPool2d(kernel_size=2, stride=2, padding=0, dilation=1, ceil_mode=False)\n",
              "    (bn1): BatchNorm2d(128, eps=1e-05, momentum=0.1, affine=True, track_running_stats=True)\n",
              "    (bn2): BatchNorm2d(128, eps=1e-05, momentum=0.1, affine=True, track_running_stats=True)\n",
              "    (bn3): BatchNorm2d(128, eps=1e-05, momentum=0.1, affine=True, track_running_stats=True)\n",
              "    (bn4): BatchNorm2d(128, eps=1e-05, momentum=0.1, affine=True, track_running_stats=True)\n",
              "  )\n",
              "  (2): VGGBlock(\n",
              "    (conv1): Conv2d(128, 256, kernel_size=(3, 3), stride=(1, 1), padding=(1, 1), bias=False)\n",
              "    (conv2): Conv2d(256, 256, kernel_size=(3, 3), stride=(1, 1), padding=(1, 1), bias=False)\n",
              "    (conv3): Conv2d(256, 256, kernel_size=(3, 3), stride=(1, 1), padding=(1, 1), bias=False)\n",
              "    (conv4): Conv2d(256, 256, kernel_size=(3, 3), stride=(1, 1), padding=(1, 1), bias=False)\n",
              "    (pool): MaxPool2d(kernel_size=2, stride=2, padding=0, dilation=1, ceil_mode=False)\n",
              "    (bn1): BatchNorm2d(256, eps=1e-05, momentum=0.1, affine=True, track_running_stats=True)\n",
              "    (bn2): BatchNorm2d(256, eps=1e-05, momentum=0.1, affine=True, track_running_stats=True)\n",
              "    (bn3): BatchNorm2d(256, eps=1e-05, momentum=0.1, affine=True, track_running_stats=True)\n",
              "    (bn4): BatchNorm2d(256, eps=1e-05, momentum=0.1, affine=True, track_running_stats=True)\n",
              "  )\n",
              "  (3): VGGBlock(\n",
              "    (conv1): Conv2d(256, 512, kernel_size=(3, 3), stride=(1, 1), padding=(1, 1), bias=False)\n",
              "    (conv2): Conv2d(512, 512, kernel_size=(3, 3), stride=(1, 1), padding=(1, 1), bias=False)\n",
              "    (conv3): Conv2d(512, 512, kernel_size=(3, 3), stride=(1, 1), padding=(1, 1), bias=False)\n",
              "    (conv4): Conv2d(512, 512, kernel_size=(3, 3), stride=(1, 1), padding=(1, 1), bias=False)\n",
              "    (pool): MaxPool2d(kernel_size=2, stride=2, padding=0, dilation=1, ceil_mode=False)\n",
              "    (bn1): BatchNorm2d(512, eps=1e-05, momentum=0.1, affine=True, track_running_stats=True)\n",
              "    (bn2): BatchNorm2d(512, eps=1e-05, momentum=0.1, affine=True, track_running_stats=True)\n",
              "    (bn3): BatchNorm2d(512, eps=1e-05, momentum=0.1, affine=True, track_running_stats=True)\n",
              "    (bn4): BatchNorm2d(512, eps=1e-05, momentum=0.1, affine=True, track_running_stats=True)\n",
              "  )\n",
              "  (4): VGGBlock(\n",
              "    (conv1): Conv2d(512, 512, kernel_size=(3, 3), stride=(1, 1), padding=(1, 1), bias=False)\n",
              "    (conv2): Conv2d(512, 512, kernel_size=(3, 3), stride=(1, 1), padding=(1, 1), bias=False)\n",
              "    (conv3): Conv2d(512, 512, kernel_size=(3, 3), stride=(1, 1), padding=(1, 1), bias=False)\n",
              "    (conv4): Conv2d(512, 512, kernel_size=(3, 3), stride=(1, 1), padding=(1, 1), bias=False)\n",
              "    (pool): MaxPool2d(kernel_size=2, stride=2, padding=0, dilation=1, ceil_mode=False)\n",
              "    (bn1): BatchNorm2d(512, eps=1e-05, momentum=0.1, affine=True, track_running_stats=True)\n",
              "    (bn2): BatchNorm2d(512, eps=1e-05, momentum=0.1, affine=True, track_running_stats=True)\n",
              "    (bn3): BatchNorm2d(512, eps=1e-05, momentum=0.1, affine=True, track_running_stats=True)\n",
              "    (bn4): BatchNorm2d(512, eps=1e-05, momentum=0.1, affine=True, track_running_stats=True)\n",
              "  )\n",
              "  (5): MaxPool2d(kernel_size=1, stride=1, padding=0, dilation=1, ceil_mode=False)\n",
              "  (6): Flatten(start_dim=1, end_dim=-1)\n",
              "  (7): Linear(in_features=512, out_features=256, bias=True)\n",
              "  (8): Linear(in_features=256, out_features=10, bias=True)\n",
              ")"
            ]
          },
          "metadata": {
            "tags": []
          },
          "execution_count": 20
        }
      ]
    },
    {
      "cell_type": "code",
      "metadata": {
        "id": "accepted-secret"
      },
      "source": [
        ""
      ],
      "id": "accepted-secret",
      "execution_count": null,
      "outputs": []
    },
    {
      "cell_type": "code",
      "metadata": {
        "id": "distinct-advocate"
      },
      "source": [
        "# Save random initial weights-\n",
        "torch.save(model.state_dict(), '/content/VGG19_kaiming_uniform_random_weights.pth')"
      ],
      "id": "distinct-advocate",
      "execution_count": null,
      "outputs": []
    },
    {
      "cell_type": "code",
      "metadata": {
        "id": "taken-expansion"
      },
      "source": [
        ""
      ],
      "id": "taken-expansion",
      "execution_count": null,
      "outputs": []
    },
    {
      "cell_type": "code",
      "metadata": {
        "id": "charged-payroll"
      },
      "source": [
        "# model(images).shape\n",
        "# torch.Size([128, 10])"
      ],
      "id": "charged-payroll",
      "execution_count": null,
      "outputs": []
    },
    {
      "cell_type": "code",
      "metadata": {
        "colab": {
          "base_uri": "https://localhost:8080/"
        },
        "id": "early-roads",
        "outputId": "876a9f86-2d09-423d-dada-3682a777093f"
      },
      "source": [
        "# Sanity check- make predictions using the define model-\n",
        "model(images.to(device)).shape  # don't forget to place images to GPU device"
      ],
      "id": "early-roads",
      "execution_count": null,
      "outputs": [
        {
          "output_type": "execute_result",
          "data": {
            "text/plain": [
              "torch.Size([128, 10])"
            ]
          },
          "metadata": {
            "tags": []
          },
          "execution_count": 22
        }
      ]
    },
    {
      "cell_type": "code",
      "metadata": {
        "id": "environmental-memory"
      },
      "source": [
        ""
      ],
      "id": "environmental-memory",
      "execution_count": null,
      "outputs": []
    },
    {
      "cell_type": "code",
      "metadata": {
        "id": "challenging-recall"
      },
      "source": [
        "# Count number of layer-wise parameters and total parameters-\n",
        "tot_params = 0\n",
        "for param in model.parameters():\n",
        "    print(f\"layer.shape = {param.shape} has {param.nelement()} parameters\")\n",
        "    tot_params += param.nelement()"
      ],
      "id": "challenging-recall",
      "execution_count": null,
      "outputs": []
    },
    {
      "cell_type": "code",
      "metadata": {
        "colab": {
          "base_uri": "https://localhost:8080/"
        },
        "id": "humanitarian-somalia",
        "outputId": "d60c6100-7661-4b7f-c2dc-3b8b137f54dd"
      },
      "source": [
        "print(f\"Total number of parameters in VGG-19 CNN = {tot_params}\")\n",
        "\n",
        "# Total number of parameters in VGG-19 CNN = 20164554\n",
        "# Total number of parameters in VGG-16 CNN = 14853194"
      ],
      "id": "humanitarian-somalia",
      "execution_count": null,
      "outputs": [
        {
          "output_type": "stream",
          "text": [
            "Total number of parameters in VGG-19 CNN = 20164554\n"
          ],
          "name": "stdout"
        }
      ]
    },
    {
      "cell_type": "code",
      "metadata": {
        "id": "incorrect-password"
      },
      "source": [
        ""
      ],
      "id": "incorrect-password",
      "execution_count": null,
      "outputs": []
    },
    {
      "cell_type": "code",
      "metadata": {
        "id": "injured-intellectual"
      },
      "source": [
        "# Print layer names-\n",
        "for layer in model.state_dict().keys():\n",
        "    print(f\"{layer} has dimension = {model.state_dict()[layer].shape}\")"
      ],
      "id": "injured-intellectual",
      "execution_count": null,
      "outputs": []
    },
    {
      "cell_type": "code",
      "metadata": {
        "id": "familiar-sailing"
      },
      "source": [
        ""
      ],
      "id": "familiar-sailing",
      "execution_count": null,
      "outputs": []
    },
    {
      "cell_type": "code",
      "metadata": {
        "colab": {
          "base_uri": "https://localhost:8080/"
        },
        "id": "ignored-sunday",
        "outputId": "34ceda0e-4f51-4d7d-af77-b993d038e789"
      },
      "source": [
        "X = images\n",
        "X.shape"
      ],
      "id": "ignored-sunday",
      "execution_count": null,
      "outputs": [
        {
          "output_type": "execute_result",
          "data": {
            "text/plain": [
              "torch.Size([128, 3, 32, 32])"
            ]
          },
          "metadata": {
            "tags": []
          },
          "execution_count": 44
        }
      ]
    },
    {
      "cell_type": "code",
      "metadata": {
        "id": "painted-shepherd"
      },
      "source": [
        "X.to(device) # place on device"
      ],
      "id": "painted-shepherd",
      "execution_count": null,
      "outputs": []
    },
    {
      "cell_type": "code",
      "metadata": {
        "id": "final-building",
        "outputId": "f827876a-0361-45f2-f048-640bb29b86fa"
      },
      "source": [
        "'''\n",
        "Before training VGG-19, let us observe how the input shape changes across\n",
        "different modules in ResNet.\n",
        "As in all the previous architectures, the resolution decreases while the number\n",
        "of channels increases up until the point where a global average pooling layer\n",
        "aggregates all features.\n",
        "'''\n",
        "for layer in model:\n",
        "    # X.to(device)\n",
        "    X = layer(X)\n",
        "    print(layer.__class__.__name__,'output shape:\\t', X.shape)"
      ],
      "id": "final-building",
      "execution_count": null,
      "outputs": [
        {
          "output_type": "stream",
          "text": [
            "VGGBlock output shape:\t torch.Size([128, 64, 16, 16])\n",
            "VGGBlock output shape:\t torch.Size([128, 128, 8, 8])\n",
            "VGGBlock output shape:\t torch.Size([128, 256, 4, 4])\n",
            "VGGBlock output shape:\t torch.Size([128, 512, 2, 2])\n",
            "VGGBlock output shape:\t torch.Size([128, 512, 1, 1])\n",
            "MaxPool2d output shape:\t torch.Size([128, 512, 1, 1])\n",
            "Flatten output shape:\t torch.Size([128, 512])\n",
            "Linear output shape:\t torch.Size([128, 256])\n",
            "Linear output shape:\t torch.Size([128, 10])\n"
          ],
          "name": "stdout"
        }
      ]
    },
    {
      "cell_type": "code",
      "metadata": {
        "id": "color-receipt"
      },
      "source": [
        ""
      ],
      "id": "color-receipt",
      "execution_count": null,
      "outputs": []
    },
    {
      "cell_type": "code",
      "metadata": {
        "colab": {
          "base_uri": "https://localhost:8080/"
        },
        "id": "failing-aerospace",
        "outputId": "32b08c4f-a784-4f64-f784-e9c680cefb32"
      },
      "source": [
        "model(images.to(device)).shape"
      ],
      "id": "failing-aerospace",
      "execution_count": null,
      "outputs": [
        {
          "output_type": "execute_result",
          "data": {
            "text/plain": [
              "torch.Size([128, 10])"
            ]
          },
          "metadata": {
            "tags": []
          },
          "execution_count": 26
        }
      ]
    },
    {
      "cell_type": "code",
      "metadata": {
        "id": "convertible-validity"
      },
      "source": [
        ""
      ],
      "id": "convertible-validity",
      "execution_count": null,
      "outputs": []
    },
    {
      "cell_type": "code",
      "metadata": {
        "id": "still-pride"
      },
      "source": [
        ""
      ],
      "id": "still-pride",
      "execution_count": null,
      "outputs": []
    },
    {
      "cell_type": "markdown",
      "metadata": {
        "id": "grand-isaac"
      },
      "source": [
        "### Train VGG-19 CNN model:"
      ],
      "id": "grand-isaac"
    },
    {
      "cell_type": "code",
      "metadata": {
        "id": "employed-serve"
      },
      "source": [
        "# User input parameters for Early Stopping in manual implementation-\n",
        "minimum_delta = 0.001\n",
        "patience = 5"
      ],
      "id": "employed-serve",
      "execution_count": null,
      "outputs": []
    },
    {
      "cell_type": "code",
      "metadata": {
        "id": "featured-median"
      },
      "source": [
        "# Initialize parameters for Early Stopping manual implementation-\n",
        "best_val_loss = 100\n",
        "loc_patience = 0"
      ],
      "id": "featured-median",
      "execution_count": null,
      "outputs": []
    },
    {
      "cell_type": "code",
      "metadata": {
        "id": "stupid-spiritual"
      },
      "source": [
        "# Define loss function and optimizer-\n",
        "loss = nn.CrossEntropyLoss()\n",
        "\n",
        "# optimizer = torch.optim.Adam(model.parameters(), lr = learning_rate)\n",
        "optimizer = torch.optim.SGD(model.parameters(), lr = 0.01, momentum = 0.9, weight_decay = 5e-4)"
      ],
      "id": "stupid-spiritual",
      "execution_count": null,
      "outputs": []
    },
    {
      "cell_type": "code",
      "metadata": {
        "id": "acting-miniature"
      },
      "source": [
        "# Python3 lists to store model training metrics-\n",
        "training_acc = []\n",
        "validation_acc = []\n",
        "training_loss = []\n",
        "validation_loss = []"
      ],
      "id": "acting-miniature",
      "execution_count": null,
      "outputs": []
    },
    {
      "cell_type": "code",
      "metadata": {
        "colab": {
          "base_uri": "https://localhost:8080/"
        },
        "id": "controlled-fourth",
        "outputId": "7bf7efc4-0a61-46bb-bb24-d21d18e98585"
      },
      "source": [
        "for epoch in range(num_epochs):\n",
        "    running_loss = 0.0\n",
        "    running_corrects = 0.0\n",
        "    running_loss_val = 0.0\n",
        "    \n",
        "    if loc_patience >= patience:\n",
        "        print(\"\\n'EarlyStopping' called!\\n\")\n",
        "        break\n",
        "    \n",
        "    \n",
        "    for batch, (images, labels) in enumerate(train_loader):\n",
        "        # Attempt to push to GPU if available\n",
        "        images = images.to(device)\n",
        "        labels = labels.to(device)\n",
        "\n",
        "        model.train()\n",
        "\n",
        "        # Forward pass-\n",
        "        outputs = model(images)\n",
        "\n",
        "        # Compute loss-\n",
        "        J = loss(outputs, labels)\n",
        "\n",
        "        # Backward pass-\n",
        "        optimizer.zero_grad()   # empty accumulated gradients\n",
        "\n",
        "        J.backward()    # does backprop\n",
        "\n",
        "        # Updates parameters-\n",
        "        optimizer.step()\n",
        "        \n",
        "        # Compute model's performance statistics-\n",
        "        running_loss += J.item() * images.size(0)\n",
        "        _, predicted = torch.max(outputs, 1)\n",
        "        running_corrects += torch.sum(predicted == labels.data)\n",
        "\n",
        "        '''\n",
        "        # Print information every 100 steps-\n",
        "        if (batch + 1) % 100 == 0:\n",
        "            print(f\"epoch {epoch + 1}/{num_epochs}, step {batch + 1}/{num_training_steps}, loss = {J.item():.4f}\")\n",
        "        '''\n",
        "\n",
        "    epoch_loss = running_loss / len(train_dataset)\n",
        "    epoch_acc = running_corrects.double() / len(train_dataset)\n",
        "    # print(f\"\\nepoch: {epoch + 1} training loss = {epoch_loss:.4f}, training accuracy = {epoch_acc * 100:.2f}%\\n\")\n",
        "\n",
        "    total = 0\n",
        "    correct = 0\n",
        "    \n",
        "    with torch.no_grad():\n",
        "        for images, labels in test_loader:\n",
        "\n",
        "            # Place features (images) and targets (labels) to GPU-\n",
        "            images = images.to(device)\n",
        "            labels = labels.to(device)\n",
        "            # print(f\"images.shape = {images.shape}, labels.shape = {labels.shape}\")\n",
        "\n",
        "            # Set model to evaluation mode-\n",
        "            model.eval()\n",
        "    \n",
        "            # Make predictions using trained model-\n",
        "            outputs = model(images)\n",
        "            _, y_pred = torch.max(outputs, 1)\n",
        "\n",
        "            # Compute validation loss-\n",
        "            J_val = loss(outputs, labels)\n",
        "\n",
        "            running_loss_val += J_val.item() * labels.size(0)\n",
        "    \n",
        "            # Total number of labels-\n",
        "            total += labels.size(0)\n",
        "\n",
        "            # Total number of correct predictions-\n",
        "            correct += (y_pred == labels).sum()\n",
        "\n",
        "    epoch_val_loss = running_loss_val / len(test_dataset)\n",
        "    val_acc = 100 * (correct / total)\n",
        "    print(f\"\\nepoch: {epoch + 1} training loss = {epoch_loss:.4f}, training accuracy = {epoch_acc * 100:.2f}%, val_loss = {epoch_val_loss:.4f} & val_accuracy = {val_acc:.2f}%\\n\")\n",
        "\n",
        "    # Code for manual Early Stopping:\n",
        "    # if np.abs(epoch_val_loss < best_val_loss) >= minimum_delta:\n",
        "    if (epoch_val_loss < best_val_loss) and np.abs(epoch_val_loss - best_val_loss) >= minimum_delta:\n",
        "        # update 'best_val_loss' variable to lowest loss encountered so far-\n",
        "        best_val_loss = epoch_val_loss\n",
        "        \n",
        "        # reset 'loc_patience' variable-\n",
        "        loc_patience = 0\n",
        "\n",
        "        print(f\"\\nSaving model with lowest val_loss = {epoch_val_loss:.4f}\")\n",
        "        \n",
        "        # Save trained model with lowest validation loss-\n",
        "        # torch.save(model.state_dict, f\"LeNet-300-100_Trained_{val_acc}.pth\")\n",
        "        torch.save(model.state_dict(), \"/content/VGG19_CIFAR10_Trained.pth\")\n",
        "\n",
        "        \n",
        "    else:  # there is no improvement in monitored metric 'val_loss'\n",
        "        loc_patience += 1  # number of epochs without any improvement\n",
        "\n",
        "\n",
        "    training_acc.append(epoch_acc * 100)\n",
        "    validation_acc.append(val_acc)\n",
        "    training_loss.append(epoch_loss)\n",
        "    validation_loss.append(epoch_val_loss)\n",
        "\n",
        "    "
      ],
      "id": "controlled-fourth",
      "execution_count": null,
      "outputs": [
        {
          "output_type": "stream",
          "text": [
            "\n",
            "epoch: 1 training loss = 1.4903, training accuracy = 44.93%, val_loss = 1.1879 & val_accuracy = 57.94%\n",
            "\n",
            "\n",
            "Saving model with lowest val_loss = 1.1879\n",
            "\n",
            "epoch: 2 training loss = 1.0245, training accuracy = 63.26%, val_loss = 0.9425 & val_accuracy = 66.34%\n",
            "\n",
            "\n",
            "Saving model with lowest val_loss = 0.9425\n",
            "\n",
            "epoch: 3 training loss = 0.8164, training accuracy = 71.50%, val_loss = 0.7459 & val_accuracy = 74.17%\n",
            "\n",
            "\n",
            "Saving model with lowest val_loss = 0.7459\n",
            "\n",
            "epoch: 4 training loss = 0.6970, training accuracy = 75.77%, val_loss = 0.6678 & val_accuracy = 77.46%\n",
            "\n",
            "\n",
            "Saving model with lowest val_loss = 0.6678\n",
            "\n",
            "epoch: 5 training loss = 0.6064, training accuracy = 78.71%, val_loss = 0.6813 & val_accuracy = 77.23%\n",
            "\n",
            "\n",
            "epoch: 6 training loss = 0.5511, training accuracy = 81.05%, val_loss = 0.6355 & val_accuracy = 78.51%\n",
            "\n",
            "\n",
            "Saving model with lowest val_loss = 0.6355\n",
            "\n",
            "epoch: 7 training loss = 0.5069, training accuracy = 82.52%, val_loss = 0.6749 & val_accuracy = 77.80%\n",
            "\n",
            "\n",
            "epoch: 8 training loss = 0.4579, training accuracy = 84.37%, val_loss = 0.5015 & val_accuracy = 82.65%\n",
            "\n",
            "\n",
            "Saving model with lowest val_loss = 0.5015\n",
            "\n",
            "epoch: 9 training loss = 0.4286, training accuracy = 85.18%, val_loss = 0.5526 & val_accuracy = 81.20%\n",
            "\n",
            "\n",
            "epoch: 10 training loss = 0.3938, training accuracy = 86.31%, val_loss = 0.5044 & val_accuracy = 83.00%\n",
            "\n",
            "\n",
            "epoch: 11 training loss = 0.3724, training accuracy = 87.21%, val_loss = 0.4435 & val_accuracy = 85.20%\n",
            "\n",
            "\n",
            "Saving model with lowest val_loss = 0.4435\n",
            "\n",
            "epoch: 12 training loss = 0.3533, training accuracy = 87.98%, val_loss = 0.4282 & val_accuracy = 85.77%\n",
            "\n",
            "\n",
            "Saving model with lowest val_loss = 0.4282\n",
            "\n",
            "epoch: 13 training loss = 0.3304, training accuracy = 88.54%, val_loss = 0.4735 & val_accuracy = 84.57%\n",
            "\n",
            "\n",
            "epoch: 14 training loss = 0.3109, training accuracy = 89.38%, val_loss = 0.4417 & val_accuracy = 85.47%\n",
            "\n",
            "\n",
            "epoch: 15 training loss = 0.2953, training accuracy = 89.74%, val_loss = 0.4690 & val_accuracy = 84.85%\n",
            "\n",
            "\n",
            "epoch: 16 training loss = 0.2755, training accuracy = 90.70%, val_loss = 0.4807 & val_accuracy = 84.31%\n",
            "\n",
            "\n",
            "epoch: 17 training loss = 0.2698, training accuracy = 90.74%, val_loss = 0.4146 & val_accuracy = 86.24%\n",
            "\n",
            "\n",
            "Saving model with lowest val_loss = 0.4146\n",
            "\n",
            "epoch: 18 training loss = 0.2529, training accuracy = 91.14%, val_loss = 0.4432 & val_accuracy = 85.60%\n",
            "\n",
            "\n",
            "epoch: 19 training loss = 0.2423, training accuracy = 91.57%, val_loss = 0.5047 & val_accuracy = 84.79%\n",
            "\n",
            "\n",
            "epoch: 20 training loss = 0.2282, training accuracy = 92.11%, val_loss = 0.4166 & val_accuracy = 86.82%\n",
            "\n",
            "\n",
            "epoch: 21 training loss = 0.2235, training accuracy = 92.20%, val_loss = 0.4515 & val_accuracy = 85.76%\n",
            "\n",
            "\n",
            "epoch: 22 training loss = 0.2134, training accuracy = 92.66%, val_loss = 0.4967 & val_accuracy = 84.73%\n",
            "\n",
            "\n",
            "'EarlyStopping' called!\n",
            "\n"
          ],
          "name": "stdout"
        }
      ]
    },
    {
      "cell_type": "code",
      "metadata": {
        "id": "radio-rates"
      },
      "source": [
        ""
      ],
      "id": "radio-rates",
      "execution_count": null,
      "outputs": []
    },
    {
      "cell_type": "code",
      "metadata": {
        "colab": {
          "base_uri": "https://localhost:8080/"
        },
        "id": "comic-methodology",
        "outputId": "5da15e7c-7a2d-46c3-9ac1-0ce3658c23e7"
      },
      "source": [
        "print(f\"\\nVGG-19 CNN training on CIFAR-10 is complete\\n\")"
      ],
      "id": "comic-methodology",
      "execution_count": null,
      "outputs": [
        {
          "output_type": "stream",
          "text": [
            "\n",
            "VGG-19 CNN training on CIFAR-10 is complete\n",
            "\n"
          ],
          "name": "stdout"
        }
      ]
    },
    {
      "cell_type": "code",
      "metadata": {
        "id": "tropical-fluid"
      },
      "source": [
        ""
      ],
      "id": "tropical-fluid",
      "execution_count": null,
      "outputs": []
    },
    {
      "cell_type": "code",
      "metadata": {
        "id": "assured-nepal"
      },
      "source": [
        ""
      ],
      "id": "assured-nepal",
      "execution_count": null,
      "outputs": []
    },
    {
      "cell_type": "code",
      "metadata": {
        "id": "fantastic-blood"
      },
      "source": [
        "# Initialize ResNet-34 trained model-\n",
        "trained_model = nn.Sequential(\n",
        "    b1, b2, b3, b4, b5,\n",
        "    nn.MaxPool2d(kernel_size = 1, stride = 1),\n",
        "    nn.Flatten(),\n",
        "    nn.Linear(in_features = 512, out_features = 256),\n",
        "    nn.Linear(in_features = 256, out_features = 10))"
      ],
      "id": "fantastic-blood",
      "execution_count": null,
      "outputs": []
    },
    {
      "cell_type": "code",
      "metadata": {
        "colab": {
          "base_uri": "https://localhost:8080/"
        },
        "id": "suspected-paradise",
        "outputId": "be404bee-fb47-4af8-cfb7-fc219c56400d"
      },
      "source": [
        "trained_model.load_state_dict(torch.load(\"/content/VGG19_CIFAR10_Trained.pth\"))"
      ],
      "id": "suspected-paradise",
      "execution_count": null,
      "outputs": [
        {
          "output_type": "execute_result",
          "data": {
            "text/plain": [
              "<All keys matched successfully>"
            ]
          },
          "metadata": {
            "tags": []
          },
          "execution_count": 30
        }
      ]
    },
    {
      "cell_type": "code",
      "metadata": {
        "id": "vital-course"
      },
      "source": [
        ""
      ],
      "id": "vital-course",
      "execution_count": null,
      "outputs": []
    },
    {
      "cell_type": "code",
      "metadata": {
        "colab": {
          "base_uri": "https://localhost:8080/"
        },
        "id": "settled-canberra",
        "outputId": "dca026dd-254e-4484-c573-f41551778a06"
      },
      "source": [
        "trained_model.to(device)"
      ],
      "id": "settled-canberra",
      "execution_count": null,
      "outputs": [
        {
          "output_type": "execute_result",
          "data": {
            "text/plain": [
              "Sequential(\n",
              "  (0): VGGBlock(\n",
              "    (conv1): Conv2d(3, 64, kernel_size=(3, 3), stride=(1, 1), padding=(1, 1), bias=False)\n",
              "    (conv2): Conv2d(64, 64, kernel_size=(3, 3), stride=(1, 1), padding=(1, 1), bias=False)\n",
              "    (pool): MaxPool2d(kernel_size=2, stride=2, padding=0, dilation=1, ceil_mode=False)\n",
              "    (bn1): BatchNorm2d(64, eps=1e-05, momentum=0.1, affine=True, track_running_stats=True)\n",
              "    (bn2): BatchNorm2d(64, eps=1e-05, momentum=0.1, affine=True, track_running_stats=True)\n",
              "    (bn3): BatchNorm2d(64, eps=1e-05, momentum=0.1, affine=True, track_running_stats=True)\n",
              "    (bn4): BatchNorm2d(64, eps=1e-05, momentum=0.1, affine=True, track_running_stats=True)\n",
              "  )\n",
              "  (1): VGGBlock(\n",
              "    (conv1): Conv2d(64, 128, kernel_size=(3, 3), stride=(1, 1), padding=(1, 1), bias=False)\n",
              "    (conv2): Conv2d(128, 128, kernel_size=(3, 3), stride=(1, 1), padding=(1, 1), bias=False)\n",
              "    (pool): MaxPool2d(kernel_size=2, stride=2, padding=0, dilation=1, ceil_mode=False)\n",
              "    (bn1): BatchNorm2d(128, eps=1e-05, momentum=0.1, affine=True, track_running_stats=True)\n",
              "    (bn2): BatchNorm2d(128, eps=1e-05, momentum=0.1, affine=True, track_running_stats=True)\n",
              "    (bn3): BatchNorm2d(128, eps=1e-05, momentum=0.1, affine=True, track_running_stats=True)\n",
              "    (bn4): BatchNorm2d(128, eps=1e-05, momentum=0.1, affine=True, track_running_stats=True)\n",
              "  )\n",
              "  (2): VGGBlock(\n",
              "    (conv1): Conv2d(128, 256, kernel_size=(3, 3), stride=(1, 1), padding=(1, 1), bias=False)\n",
              "    (conv2): Conv2d(256, 256, kernel_size=(3, 3), stride=(1, 1), padding=(1, 1), bias=False)\n",
              "    (conv3): Conv2d(256, 256, kernel_size=(3, 3), stride=(1, 1), padding=(1, 1), bias=False)\n",
              "    (conv4): Conv2d(256, 256, kernel_size=(3, 3), stride=(1, 1), padding=(1, 1), bias=False)\n",
              "    (pool): MaxPool2d(kernel_size=2, stride=2, padding=0, dilation=1, ceil_mode=False)\n",
              "    (bn1): BatchNorm2d(256, eps=1e-05, momentum=0.1, affine=True, track_running_stats=True)\n",
              "    (bn2): BatchNorm2d(256, eps=1e-05, momentum=0.1, affine=True, track_running_stats=True)\n",
              "    (bn3): BatchNorm2d(256, eps=1e-05, momentum=0.1, affine=True, track_running_stats=True)\n",
              "    (bn4): BatchNorm2d(256, eps=1e-05, momentum=0.1, affine=True, track_running_stats=True)\n",
              "  )\n",
              "  (3): VGGBlock(\n",
              "    (conv1): Conv2d(256, 512, kernel_size=(3, 3), stride=(1, 1), padding=(1, 1), bias=False)\n",
              "    (conv2): Conv2d(512, 512, kernel_size=(3, 3), stride=(1, 1), padding=(1, 1), bias=False)\n",
              "    (conv3): Conv2d(512, 512, kernel_size=(3, 3), stride=(1, 1), padding=(1, 1), bias=False)\n",
              "    (conv4): Conv2d(512, 512, kernel_size=(3, 3), stride=(1, 1), padding=(1, 1), bias=False)\n",
              "    (pool): MaxPool2d(kernel_size=2, stride=2, padding=0, dilation=1, ceil_mode=False)\n",
              "    (bn1): BatchNorm2d(512, eps=1e-05, momentum=0.1, affine=True, track_running_stats=True)\n",
              "    (bn2): BatchNorm2d(512, eps=1e-05, momentum=0.1, affine=True, track_running_stats=True)\n",
              "    (bn3): BatchNorm2d(512, eps=1e-05, momentum=0.1, affine=True, track_running_stats=True)\n",
              "    (bn4): BatchNorm2d(512, eps=1e-05, momentum=0.1, affine=True, track_running_stats=True)\n",
              "  )\n",
              "  (4): VGGBlock(\n",
              "    (conv1): Conv2d(512, 512, kernel_size=(3, 3), stride=(1, 1), padding=(1, 1), bias=False)\n",
              "    (conv2): Conv2d(512, 512, kernel_size=(3, 3), stride=(1, 1), padding=(1, 1), bias=False)\n",
              "    (conv3): Conv2d(512, 512, kernel_size=(3, 3), stride=(1, 1), padding=(1, 1), bias=False)\n",
              "    (conv4): Conv2d(512, 512, kernel_size=(3, 3), stride=(1, 1), padding=(1, 1), bias=False)\n",
              "    (pool): MaxPool2d(kernel_size=2, stride=2, padding=0, dilation=1, ceil_mode=False)\n",
              "    (bn1): BatchNorm2d(512, eps=1e-05, momentum=0.1, affine=True, track_running_stats=True)\n",
              "    (bn2): BatchNorm2d(512, eps=1e-05, momentum=0.1, affine=True, track_running_stats=True)\n",
              "    (bn3): BatchNorm2d(512, eps=1e-05, momentum=0.1, affine=True, track_running_stats=True)\n",
              "    (bn4): BatchNorm2d(512, eps=1e-05, momentum=0.1, affine=True, track_running_stats=True)\n",
              "  )\n",
              "  (5): MaxPool2d(kernel_size=1, stride=1, padding=0, dilation=1, ceil_mode=False)\n",
              "  (6): Flatten(start_dim=1, end_dim=-1)\n",
              "  (7): Linear(in_features=512, out_features=256, bias=True)\n",
              "  (8): Linear(in_features=256, out_features=10, bias=True)\n",
              ")"
            ]
          },
          "metadata": {
            "tags": []
          },
          "execution_count": 31
        }
      ]
    },
    {
      "cell_type": "code",
      "metadata": {
        "id": "first-transformation"
      },
      "source": [
        ""
      ],
      "id": "first-transformation",
      "execution_count": null,
      "outputs": []
    },
    {
      "cell_type": "code",
      "metadata": {
        "id": "visible-premium"
      },
      "source": [
        "# Variables for computing model metrics-\n",
        "total = 0\n",
        "correct = 0"
      ],
      "id": "visible-premium",
      "execution_count": null,
      "outputs": []
    },
    {
      "cell_type": "code",
      "metadata": {
        "colab": {
          "base_uri": "https://localhost:8080/"
        },
        "id": "foster-acting",
        "outputId": "808a00a3-8e17-4765-a906-7c7a7f8bfcba"
      },
      "source": [
        "# Evaluate trained CNN model. We don't want these operations to be tracked in\n",
        "# the computational graph. Hence wrap these operations in-\n",
        "with torch.no_grad():\n",
        "    for images, labels in test_loader:\n",
        "\n",
        "        # Place features (images) and targets (labels) to GPU-\n",
        "        images = images.to(device)\n",
        "        labels = labels.to(device)\n",
        "        # print(f\"images.shape = {images.shape}, labels.shape = {labels.shape}\")\n",
        "\n",
        "        # Set model to evaluation mode-\n",
        "        trained_model.eval()\n",
        "\n",
        "        # Make predictions using trained model-\n",
        "        outputs = model(images)\n",
        "        _, y_pred = torch.max(outputs, 1)\n",
        "    \n",
        "        # Total number of labels-\n",
        "        total += labels.size(0)\n",
        "\n",
        "        # Total number of correct predictions-\n",
        "        correct += (y_pred == labels).sum()\n",
        "\n",
        "    val_acc = 100 * (correct / total)\n",
        "    print(f\"VGG-19 trained CNN's validation metrics on CIFAR-10 are:\")\n",
        "    print(f\"accuracy = {val_acc:.2f}%, # of correct labels = {correct} & total # of labels = {total}\")\n"
      ],
      "id": "foster-acting",
      "execution_count": null,
      "outputs": [
        {
          "output_type": "stream",
          "text": [
            "VGG-19 trained CNN's validation metrics on CIFAR-10 are:\n",
            "accuracy = 85.75%, # of correct labels = 17150 & total # of labels = 20000\n"
          ],
          "name": "stdout"
        }
      ]
    },
    {
      "cell_type": "code",
      "metadata": {
        "id": "broad-coral"
      },
      "source": [
        ""
      ],
      "id": "broad-coral",
      "execution_count": null,
      "outputs": []
    },
    {
      "cell_type": "code",
      "metadata": {
        "colab": {
          "base_uri": "https://localhost:8080/",
          "height": 504
        },
        "id": "liked-consultation",
        "outputId": "5ba1ec34-3f14-4ebe-d2ca-346ad290dba8"
      },
      "source": [
        "# Visualize training metrics-\n",
        "fig=plt.figure(figsize=(9, 7), dpi= 80, facecolor='w', edgecolor='k')\n",
        "\n",
        "plt.plot(np.asarray(training_acc), label = 'training accuracy')\n",
        "plt.plot(np.asarray(validation_acc), label = 'validation accuracy')\n",
        "\n",
        "plt.title(\"VGG-19 (CIFAR-10) - Accuracy\")\n",
        "plt.xlabel(\"number of epochs\")\n",
        "plt.ylabel(\"accuracy (%)\")\n",
        "# plt.xlim((0, 20))\n",
        "plt.legend(loc = 'best')\n",
        "plt.show()\n"
      ],
      "id": "liked-consultation",
      "execution_count": null,
      "outputs": [
        {
          "output_type": "display_data",
          "data": {
            "image/png": "[encoded data removed]",
            "text/plain": [
              "<Figure size 720x560 with 1 Axes>"
            ]
          },
          "metadata": {
            "tags": []
          }
        }
      ]
    },
    {
      "cell_type": "code",
      "metadata": {
        "id": "finished-diversity"
      },
      "source": [
        ""
      ],
      "id": "finished-diversity",
      "execution_count": null,
      "outputs": []
    },
    {
      "cell_type": "code",
      "metadata": {
        "colab": {
          "base_uri": "https://localhost:8080/",
          "height": 504
        },
        "id": "dynamic-camping",
        "outputId": "dc4075a3-f80d-41ba-931c-8f8ed9861e2a"
      },
      "source": [
        "fig=plt.figure(figsize=(9, 7), dpi= 80, facecolor='w', edgecolor='k')\n",
        "\n",
        "plt.plot(np.asarray(training_loss), label = 'training loss')\n",
        "plt.plot(np.asarray(validation_loss), label = 'validation loss')\n",
        "\n",
        "plt.title(\"VGG-19 (CIFAR-10) - Loss\")\n",
        "plt.xlabel(\"number of epochs\")\n",
        "plt.ylabel(\"loss\")\n",
        "plt.legend(loc = 'best')\n",
        "plt.show()"
      ],
      "id": "dynamic-camping",
      "execution_count": null,
      "outputs": [
        {
          "output_type": "display_data",
          "data": {
            "image/png": "[encoded data removed]",
            "text/plain": [
              "<Figure size 720x560 with 1 Axes>"
            ]
          },
          "metadata": {
            "tags": []
          }
        }
      ]
    },
    {
      "cell_type": "code",
      "metadata": {
        "id": "crazy-minutes"
      },
      "source": [
        ""
      ],
      "id": "crazy-minutes",
      "execution_count": null,
      "outputs": []
    },
    {
      "cell_type": "code",
      "metadata": {
        "id": "polar-string"
      },
      "source": [
        ""
      ],
      "id": "polar-string",
      "execution_count": null,
      "outputs": []
    },
    {
      "cell_type": "code",
      "metadata": {
        "id": "knowing-tobacco"
      },
      "source": [
        ""
      ],
      "id": "knowing-tobacco",
      "execution_count": null,
      "outputs": []
    },
    {
      "cell_type": "code",
      "metadata": {
        "id": "comic-checklist"
      },
      "source": [
        ""
      ],
      "id": "comic-checklist",
      "execution_count": null,
      "outputs": []
    }
  ]
}