{
  "cells": [
    {
      "cell_type": "markdown",
      "id": "968cf324-c2fc-48e1-9c62-900f73f03b58",
      "metadata": {
        "id": "968cf324-c2fc-48e1-9c62-900f73f03b58"
      },
      "source": [
        "# ResNet-18: CIFAR-10 & TensorFlow-2.8\n",
        "\n",
        "Trained using _tf.GradientTape()_ API and model subclassing."
      ]
    },
    {
      "cell_type": "code",
      "execution_count": 1,
      "id": "0cfdb855-cac6-4020-aa51-6a756d7dd9a6",
      "metadata": {
        "id": "0cfdb855-cac6-4020-aa51-6a756d7dd9a6",
        "outputId": "6433c73f-11ac-4f9f-ae92-51e5f0de9114",
        "colab": {
          "base_uri": "https://localhost:8080/"
        }
      },
      "outputs": [
        {
          "output_type": "stream",
          "name": "stdout",
          "text": [
            "env: CUDA_DEVICE_ORDER=PCI_BUS_ID\n",
            "env: CUDA_VISIBLE_DEVICES=0\n"
          ]
        }
      ],
      "source": [
        "# Specify GPU to be used-\n",
        "%env CUDA_DEVICE_ORDER=PCI_BUS_ID\n",
        "%env CUDA_VISIBLE_DEVICES = 0"
      ]
    },
    {
      "cell_type": "code",
      "execution_count": null,
      "id": "0de5c4d5-f66d-4c0e-993c-7c2ddf126add",
      "metadata": {
        "id": "0de5c4d5-f66d-4c0e-993c-7c2ddf126add"
      },
      "outputs": [],
      "source": [
        ""
      ]
    },
    {
      "cell_type": "code",
      "execution_count": 2,
      "id": "c373f3b5-48d5-48ee-b3b5-05975c528fcd",
      "metadata": {
        "id": "c373f3b5-48d5-48ee-b3b5-05975c528fcd"
      },
      "outputs": [],
      "source": [
        "import tensorflow as tf\n",
        "import numpy as np\n",
        "import matplotlib.pyplot as plt\n",
        "import seaborn as sns\n",
        "import pickle, os, time\n",
        "import math\n",
        "\n",
        "from tqdm import tqdm\n",
        "from tqdm import trange\n",
        "\n",
        "from tensorflow.keras.preprocessing.image import ImageDataGenerator\n",
        "from tensorflow.keras import regularizers\n",
        "import tensorflow.keras.backend as K\n",
        "\n",
        "from tensorflow.keras.layers import AveragePooling2D, Conv2D, MaxPooling2D, ReLU, GlobalAveragePooling2D\n",
        "from tensorflow.keras import models, layers, datasets\n",
        "from tensorflow.keras.layers import Dense, Flatten, Reshape, Input, InputLayer\n",
        "from tensorflow.keras.layers import Layer, Dropout, BatchNormalization, Activation\n",
        "from tensorflow.keras.models import Sequential, Model\n",
        "from tensorflow.keras.initializers import RandomNormal, Constant\n",
        "\n",
        "# from sklearn.metrics import accuracy_score, precision_score, recall_score"
      ]
    },
    {
      "cell_type": "code",
      "execution_count": null,
      "id": "e518bca8-1f3c-4380-960e-54e8f44a5be7",
      "metadata": {
        "id": "e518bca8-1f3c-4380-960e-54e8f44a5be7"
      },
      "outputs": [],
      "source": [
        ""
      ]
    },
    {
      "cell_type": "code",
      "execution_count": null,
      "id": "53f43565-bd6d-4adc-899f-361f20d5f41e",
      "metadata": {
        "id": "53f43565-bd6d-4adc-899f-361f20d5f41e"
      },
      "outputs": [],
      "source": [
        ""
      ]
    },
    {
      "cell_type": "code",
      "execution_count": 3,
      "id": "d2f95e8b-3e13-4512-8d1b-32a7fda431eb",
      "metadata": {
        "colab": {
          "base_uri": "https://localhost:8080/"
        },
        "id": "d2f95e8b-3e13-4512-8d1b-32a7fda431eb",
        "outputId": "3348f0da-534f-4052-cc61-86d5444bf152"
      },
      "outputs": [
        {
          "output_type": "stream",
          "name": "stdout",
          "text": [
            "TensorFlow version: 2.8.0\n"
          ]
        }
      ],
      "source": [
        "print(f\"TensorFlow version: {tf.__version__}\")"
      ]
    },
    {
      "cell_type": "code",
      "execution_count": 4,
      "id": "b3c0c40c-319e-4393-900c-41b49e0af35e",
      "metadata": {
        "colab": {
          "base_uri": "https://localhost:8080/"
        },
        "id": "b3c0c40c-319e-4393-900c-41b49e0af35e",
        "outputId": "f806c625-e661-42e0-b58f-24b156e54d83"
      },
      "outputs": [
        {
          "output_type": "stream",
          "name": "stdout",
          "text": [
            "GPU: [PhysicalDevice(name='/physical_device:GPU:0', device_type='GPU')]\n",
            "GPU details: Tesla K80\n"
          ]
        }
      ],
      "source": [
        "# Check GPU availibility-\n",
        "gpu_devices = tf.config.list_physical_devices('GPU')\n",
        "# print(f\"GPU: {gpu_devices}\")\n",
        "\n",
        "if gpu_devices:\n",
        "    print(f\"GPU: {gpu_devices}\")\n",
        "    details = tf.config.experimental.get_device_details(gpu_devices[0])\n",
        "    print(f\"GPU details: {details.get('device_name', 'Unknown GPU')}\")\n",
        "else:\n",
        "    print(\"No GPU found\")"
      ]
    },
    {
      "cell_type": "code",
      "execution_count": null,
      "id": "a3ce8700-9008-47cf-877e-c4a251977730",
      "metadata": {
        "id": "a3ce8700-9008-47cf-877e-c4a251977730"
      },
      "outputs": [],
      "source": [
        ""
      ]
    },
    {
      "cell_type": "code",
      "execution_count": null,
      "id": "387f76b6-4277-4703-a425-0c3521cdd2a3",
      "metadata": {
        "id": "387f76b6-4277-4703-a425-0c3521cdd2a3"
      },
      "outputs": [],
      "source": [
        ""
      ]
    },
    {
      "cell_type": "code",
      "execution_count": 5,
      "id": "4aa17945-9f0f-469b-8ba0-5f2e369ae4fe",
      "metadata": {
        "id": "4aa17945-9f0f-469b-8ba0-5f2e369ae4fe"
      },
      "outputs": [],
      "source": [
        "# Specify hyper-parameters\n",
        "batch_size = 128\n",
        "num_classes = 10\n",
        "num_epochs = 75\n",
        "\n",
        "weight_decay = 0.0005"
      ]
    },
    {
      "cell_type": "code",
      "execution_count": null,
      "id": "b5d8ff8e-2514-4d4d-8d53-9e0d3ec85c09",
      "metadata": {
        "id": "b5d8ff8e-2514-4d4d-8d53-9e0d3ec85c09"
      },
      "outputs": [],
      "source": [
        ""
      ]
    },
    {
      "cell_type": "code",
      "execution_count": null,
      "id": "e6ae4589-6587-4117-a83d-d87f621d2feb",
      "metadata": {
        "id": "e6ae4589-6587-4117-a83d-d87f621d2feb"
      },
      "outputs": [],
      "source": [
        ""
      ]
    },
    {
      "cell_type": "markdown",
      "id": "b50b995a-8a82-49bf-82f1-8ad942af3260",
      "metadata": {
        "id": "b50b995a-8a82-49bf-82f1-8ad942af3260"
      },
      "source": [
        "### CIFAR-10 data pre-processing"
      ]
    },
    {
      "cell_type": "code",
      "execution_count": 6,
      "id": "9d20e268-8ccc-44ae-a829-a5aac59a93bf",
      "metadata": {
        "colab": {
          "base_uri": "https://localhost:8080/"
        },
        "id": "9d20e268-8ccc-44ae-a829-a5aac59a93bf",
        "outputId": "a829a26f-21a8-4feb-aa19-96aeaccedd03"
      },
      "outputs": [
        {
          "output_type": "stream",
          "name": "stdout",
          "text": [
            "Downloading data from https://www.cs.toronto.edu/~kriz/cifar-10-python.tar.gz\n",
            "170500096/170498071 [==============================] - 2s 0us/step\n",
            "170508288/170498071 [==============================] - 2s 0us/step\n"
          ]
        }
      ],
      "source": [
        "# Data preprocessing and cleaning:\n",
        "# input image dimensions\n",
        "img_rows, img_cols = 32, 32\n",
        "\n",
        "# Load CIFAR-10 dataset-\n",
        "(X_train, y_train), (X_test, y_test) = tf.keras.datasets.cifar10.load_data()\n",
        "\n",
        "# Load CIFAR-100 dataset-\n",
        "# (X_train, y_train), (X_test, y_test) = tf.keras.datasets.cifar100.load_data()"
      ]
    },
    {
      "cell_type": "code",
      "execution_count": 7,
      "id": "1ac7535b-97dd-4ffa-a443-cb1af7af95d3",
      "metadata": {
        "colab": {
          "base_uri": "https://localhost:8080/"
        },
        "id": "1ac7535b-97dd-4ffa-a443-cb1af7af95d3",
        "outputId": "20b05858-4f74-40d7-ac64-f3c20c53b623"
      },
      "outputs": [
        {
          "output_type": "stream",
          "name": "stdout",
          "text": [
            "\n",
            "'input_shape' which will be used = (32, 32, 3)\n",
            "\n"
          ]
        }
      ],
      "source": [
        "if tf.keras.backend.image_data_format() == 'channels_first':\n",
        "    X_train = X_train.reshape(X_train.shape[0], 3, img_rows, img_cols)\n",
        "    X_test = X_test.reshape(X_test.shape[0], 3, img_rows, img_cols)\n",
        "    input_shape = (3, img_rows, img_cols)\n",
        "else:\n",
        "    X_train = X_train.reshape(X_train.shape[0], img_rows, img_cols, 3)\n",
        "    X_test = X_test.reshape(X_test.shape[0], img_rows, img_cols, 3)\n",
        "    input_shape = (img_rows, img_cols, 3)\n",
        "\n",
        "print(f\"'input_shape' format which will be used = {input_shape}\")"
      ]
    },
    {
      "cell_type": "code",
      "execution_count": 8,
      "id": "e0302955-2893-431f-a459-3ee6a6a86e4e",
      "metadata": {
        "id": "e0302955-2893-431f-a459-3ee6a6a86e4e"
      },
      "outputs": [],
      "source": [
        "# Convert datasets to floating point types-\n",
        "X_train = X_train.astype('float32')\n",
        "X_test = X_test.astype('float32')\n",
        "\n",
        "# Normalize the training and testing datasets-\n",
        "X_train /= 255.0\n",
        "X_test /= 255.0"
      ]
    },
    {
      "cell_type": "code",
      "execution_count": 9,
      "id": "1475663a-e107-4730-a1c2-1998d2a079eb",
      "metadata": {
        "id": "1475663a-e107-4730-a1c2-1998d2a079eb"
      },
      "outputs": [],
      "source": [
        "# convert class vectors/target to binary class matrices or one-hot encoded values-\n",
        "y_train = tf.keras.utils.to_categorical(y_train, num_classes)\n",
        "y_test = tf.keras.utils.to_categorical(y_test, num_classes)"
      ]
    },
    {
      "cell_type": "code",
      "execution_count": 10,
      "id": "0fabcf64-5402-497e-98a7-cd1d9d074c12",
      "metadata": {
        "colab": {
          "base_uri": "https://localhost:8080/"
        },
        "id": "0fabcf64-5402-497e-98a7-cd1d9d074c12",
        "outputId": "fa7c3c6e-adf0-4a98-8fa2-56083d4ec4f5"
      },
      "outputs": [
        {
          "output_type": "stream",
          "name": "stdout",
          "text": [
            "\n",
            "Dimensions of training and testing sets are:\n",
            "X_train.shape = (50000, 32, 32, 3), y_train.shape = (50000, 10)\n",
            "X_test.shape = (10000, 32, 32, 3), y_test.shape = (10000, 10)\n"
          ]
        }
      ],
      "source": [
        "print(\"\\nDimensions of training and testing sets are:\")\n",
        "print(\"X_train.shape = {0}, y_train.shape = {1}\".format(X_train.shape, y_train.shape))\n",
        "print(\"X_test.shape = {0}, y_test.shape = {1}\".format(X_test.shape, y_test.shape))"
      ]
    },
    {
      "cell_type": "code",
      "execution_count": null,
      "id": "52d0a93a-bf1b-4de3-84c6-5ba9c32172c1",
      "metadata": {
        "id": "52d0a93a-bf1b-4de3-84c6-5ba9c32172c1"
      },
      "outputs": [],
      "source": [
        ""
      ]
    },
    {
      "cell_type": "code",
      "execution_count": null,
      "id": "65bd9e1e-6829-41a1-b634-675ea5b046b1",
      "metadata": {
        "id": "65bd9e1e-6829-41a1-b634-675ea5b046b1"
      },
      "outputs": [],
      "source": [
        ""
      ]
    },
    {
      "cell_type": "markdown",
      "id": "4053335a-be27-4dd1-884a-9040196108a3",
      "metadata": {
        "id": "4053335a-be27-4dd1-884a-9040196108a3"
      },
      "source": [
        "### Prepare CIFAR10 dataset for TensorFlow _GradientTape_ training:"
      ]
    },
    {
      "cell_type": "code",
      "execution_count": 11,
      "id": "78ae9628-cafa-40a3-8819-d713d3b1ac76",
      "metadata": {
        "id": "78ae9628-cafa-40a3-8819-d713d3b1ac76"
      },
      "outputs": [],
      "source": [
        "# Create training and testing datasets-\n",
        "train_dataset = tf.data.Dataset.from_tensor_slices((X_train, y_train))\n",
        "test_dataset = tf.data.Dataset.from_tensor_slices((X_test, y_test))"
      ]
    },
    {
      "cell_type": "code",
      "execution_count": 12,
      "id": "a5d8e7c8-4905-4b62-bb47-5527fd17ad7f",
      "metadata": {
        "id": "a5d8e7c8-4905-4b62-bb47-5527fd17ad7f"
      },
      "outputs": [],
      "source": [
        "train_dataset = train_dataset.shuffle(buffer_size = 20000, reshuffle_each_iteration = True).batch(batch_size = batch_size, drop_remainder = False)"
      ]
    },
    {
      "cell_type": "code",
      "execution_count": 13,
      "id": "e0b5ee5f-e5c1-4c23-aaaf-12628ec99dd8",
      "metadata": {
        "id": "e0b5ee5f-e5c1-4c23-aaaf-12628ec99dd8"
      },
      "outputs": [],
      "source": [
        "test_dataset = test_dataset.batch(batch_size=batch_size, drop_remainder=False)"
      ]
    },
    {
      "cell_type": "code",
      "execution_count": 14,
      "id": "6e85a178-8ad8-4ef9-aa31-758443004bc7",
      "metadata": {
        "id": "6e85a178-8ad8-4ef9-aa31-758443004bc7"
      },
      "outputs": [],
      "source": [
        "# Choose loss function for training-\n",
        "loss_fn = tf.keras.losses.CategoricalCrossentropy()\n",
        "\n",
        "# optimizer = tf.keras.optimizers.SGD(learning_rate=0.001, momentum=0.9)\n",
        "# optimizer = tf.keras.optimizers.SGD(learning_rate = 0.01, momentum = 0.9)"
      ]
    },
    {
      "cell_type": "code",
      "execution_count": 15,
      "id": "2cb24e59-b805-45c3-935f-e84e55b8b1a6",
      "metadata": {
        "id": "2cb24e59-b805-45c3-935f-e84e55b8b1a6"
      },
      "outputs": [],
      "source": [
        "# Select metrics to measure the error & accuracy of model.\n",
        "# These metrics accumulate the values over epochs and then\n",
        "# print the overall result-\n",
        "train_loss = tf.keras.metrics.Mean(name = 'train_loss')\n",
        "train_accuracy = tf.keras.metrics.CategoricalAccuracy(name = 'train_accuracy')\n",
        "\n",
        "test_loss = tf.keras.metrics.Mean(name = 'test_loss')\n",
        "test_accuracy = tf.keras.metrics.CategoricalAccuracy(name = 'test_accuracy')"
      ]
    },
    {
      "cell_type": "code",
      "execution_count": null,
      "id": "e25d4c5b-741c-4ba5-8468-5a49f6666f09",
      "metadata": {
        "id": "e25d4c5b-741c-4ba5-8468-5a49f6666f09"
      },
      "outputs": [],
      "source": [
        ""
      ]
    },
    {
      "cell_type": "code",
      "execution_count": null,
      "id": "f1ab090f-ff08-41bf-8c1e-8af0e28c9fde",
      "metadata": {
        "id": "f1ab090f-ff08-41bf-8c1e-8af0e28c9fde"
      },
      "outputs": [],
      "source": [
        ""
      ]
    },
    {
      "cell_type": "markdown",
      "id": "b670d5df-61ba-447f-af16-ae10350a2b14",
      "metadata": {
        "id": "b670d5df-61ba-447f-af16-ae10350a2b14"
      },
      "source": [
        "### Define _ResNet-18_ CNN architecture with model subclassing"
      ]
    },
    {
      "cell_type": "code",
      "execution_count": 16,
      "id": "8340afc5-de49-4c7e-8435-7fd0d6be0525",
      "metadata": {
        "id": "8340afc5-de49-4c7e-8435-7fd0d6be0525"
      },
      "outputs": [],
      "source": [
        "class BasicBlock(Layer):\n",
        "\n",
        "    def __init__(self, filter_num, stride = 1):\n",
        "        super(BasicBlock, self).__init__()\n",
        "        self.conv1 = Conv2D(\n",
        "            filters = filter_num, kernel_size = (3, 3),\n",
        "            strides = stride, padding = \"same\",\n",
        "            kernel_initializer = 'he_uniform',\n",
        "            use_bias = False\n",
        "        )\n",
        "        self.bn1 = BatchNormalization()\n",
        "        \n",
        "        self.conv2 = tf.keras.layers.Conv2D(\n",
        "            filters = filter_num, kernel_size = (3, 3),\n",
        "            strides = 1, padding = \"same\",\n",
        "            kernel_initializer = tf.keras.initializers.he_normal(),\n",
        "            use_bias = False\n",
        "        )\n",
        "        self.bn2 = BatchNormalization()\n",
        "        \n",
        "        if stride != 1:\n",
        "            self.downsample = Sequential()\n",
        "            self.downsample.add(\n",
        "                Conv2D(\n",
        "                    filters = filter_num, kernel_size = (1, 1),\n",
        "                    strides = stride, kernel_initializer = tf.keras.initializers.he_normal(),\n",
        "                    use_bias = True, bias_initializer = 'ones'\n",
        "                )\n",
        "            )\n",
        "            self.downsample.add(BatchNormalization())\n",
        "        else:\n",
        "            self.downsample = lambda x: x\n",
        "\n",
        "    def call(self, inputs, training = None, **kwargs):\n",
        "        residual = self.downsample(inputs)\n",
        "\n",
        "        x = self.conv1(inputs)\n",
        "        x = self.bn1(x, training = training)\n",
        "        x = tf.nn.relu(x)\n",
        "        x = self.conv2(x)\n",
        "        x = self.bn2(x, training=training)\n",
        "\n",
        "        output = tf.nn.relu(tf.keras.layers.add([residual, x]))\n",
        "\n",
        "        return output\n",
        "    "
      ]
    },
    {
      "cell_type": "code",
      "execution_count": null,
      "id": "f4b9798f-535b-49cb-99b9-650580977c30",
      "metadata": {
        "id": "f4b9798f-535b-49cb-99b9-650580977c30"
      },
      "outputs": [],
      "source": [
        ""
      ]
    },
    {
      "cell_type": "code",
      "execution_count": 17,
      "id": "cd15b1d9-872f-48b1-9e6d-3cb017283558",
      "metadata": {
        "id": "cd15b1d9-872f-48b1-9e6d-3cb017283558"
      },
      "outputs": [],
      "source": [
        "def make_basic_block_layer(filter_num, blocks, stride = 1):\n",
        "    res_block = Sequential()\n",
        "    res_block.add(BasicBlock(filter_num, stride = stride))\n",
        "\n",
        "    for _ in range(1, blocks):\n",
        "        res_block.add(BasicBlock(filter_num, stride = 1))\n",
        "\n",
        "    return res_block\n"
      ]
    },
    {
      "cell_type": "code",
      "execution_count": null,
      "id": "81844468-e616-48b1-b6e1-90eb77ba0033",
      "metadata": {
        "id": "81844468-e616-48b1-b6e1-90eb77ba0033"
      },
      "outputs": [],
      "source": [
        ""
      ]
    },
    {
      "cell_type": "code",
      "execution_count": 18,
      "id": "e6bd603f-d01f-4464-be4e-5b488757e52d",
      "metadata": {
        "id": "e6bd603f-d01f-4464-be4e-5b488757e52d"
      },
      "outputs": [],
      "source": [
        "class ResNetTypeI(Model):\n",
        "    def __init__(self, layer_params):\n",
        "        super(ResNetTypeI, self).__init__()\n",
        "\n",
        "        self.conv1 = Conv2D(\n",
        "            filters = 64, kernel_size = (3, 3),\n",
        "            strides = 1, padding = \"same\",\n",
        "            kernel_initializer = tf.keras.initializers.he_normal(),\n",
        "            use_bias = False\n",
        "        )\n",
        "        self.bn1 = tf.keras.layers.BatchNormalization()\n",
        "        \n",
        "        self.layer1 = make_basic_block_layer(\n",
        "            filter_num = 64, blocks = layer_params[0]\n",
        "        )\n",
        "        self.layer2 = make_basic_block_layer(\n",
        "            filter_num = 128, blocks = layer_params[1],\n",
        "            stride = 2\n",
        "        )\n",
        "        self.layer3 = make_basic_block_layer(\n",
        "            filter_num = 256, blocks = layer_params[2],\n",
        "            stride = 2\n",
        "        )\n",
        "        self.layer4 = make_basic_block_layer(\n",
        "            filter_num = 512, blocks = layer_params[3],\n",
        "            stride = 2\n",
        "        )\n",
        "\n",
        "        self.avgpool = GlobalAveragePooling2D()\n",
        "        self.fc = Dense(units = 10, activation = None)\n",
        "\n",
        "    def call(self, x, training = None, mask = None):\n",
        "        x = tf.nn.relu(self.bn1(self.conv1(x)))\n",
        "        x = self.layer1(x, training = training)\n",
        "        x = self.layer2(x, training = training)\n",
        "        x = self.layer3(x, training = training)\n",
        "        x = self.layer4(x, training = training)\n",
        "        x = self.avgpool(x)\n",
        "        output = tf.nn.softmax(self.fc(x))\n",
        "\n",
        "        return output\n",
        "    "
      ]
    },
    {
      "cell_type": "code",
      "execution_count": null,
      "id": "8c21d9c4-6742-46d3-89f6-36c4ef0689d7",
      "metadata": {
        "id": "8c21d9c4-6742-46d3-89f6-36c4ef0689d7"
      },
      "outputs": [],
      "source": [
        ""
      ]
    },
    {
      "cell_type": "code",
      "execution_count": 19,
      "id": "e70e2e4c-ea42-4514-9edf-89d7d16eb1ae",
      "metadata": {
        "id": "e70e2e4c-ea42-4514-9edf-89d7d16eb1ae"
      },
      "outputs": [],
      "source": [
        "def resnet_18():\n",
        "    # function to instantiate ResNet-18 CNN architecture\n",
        "    return ResNetTypeI(\n",
        "        layer_params = [2, 2, 2, 2]\n",
        "    )\n"
      ]
    },
    {
      "cell_type": "code",
      "execution_count": null,
      "id": "9b79101b-13fe-4851-b637-c7116865ddec",
      "metadata": {
        "id": "9b79101b-13fe-4851-b637-c7116865ddec"
      },
      "outputs": [],
      "source": [
        ""
      ]
    },
    {
      "cell_type": "code",
      "execution_count": 20,
      "id": "2bdb50ae-7514-4445-b5a5-eaa79b517237",
      "metadata": {
        "id": "2bdb50ae-7514-4445-b5a5-eaa79b517237"
      },
      "outputs": [],
      "source": [
        "# Instantiate ResNet-18 CNN architecture-\n",
        "model = resnet_18()"
      ]
    },
    {
      "cell_type": "code",
      "execution_count": null,
      "id": "09ee2a51-66b9-4daa-97dc-299fc1e6cd60",
      "metadata": {
        "id": "09ee2a51-66b9-4daa-97dc-299fc1e6cd60"
      },
      "outputs": [],
      "source": [
        ""
      ]
    },
    {
      "cell_type": "code",
      "execution_count": 21,
      "id": "4fa52110-a1c0-49bf-8c02-1baa1f78a4e3",
      "metadata": {
        "id": "4fa52110-a1c0-49bf-8c02-1baa1f78a4e3"
      },
      "outputs": [],
      "source": [
        "# Sanity check-\n",
        "x, y = next(iter(train_dataset))"
      ]
    },
    {
      "cell_type": "code",
      "execution_count": 22,
      "id": "06312c8f-3598-4cd7-ad12-a0f506714e4a",
      "metadata": {
        "colab": {
          "base_uri": "https://localhost:8080/"
        },
        "id": "06312c8f-3598-4cd7-ad12-a0f506714e4a",
        "outputId": "f8695262-9183-432b-97bd-d234468e27c9"
      },
      "outputs": [
        {
          "output_type": "execute_result",
          "data": {
            "text/plain": [
              "(TensorShape([128, 32, 32, 3]), TensorShape([128, 10]))"
            ]
          },
          "metadata": {},
          "execution_count": 22
        }
      ],
      "source": [
        "x.shape, y.shape"
      ]
    },
    {
      "cell_type": "code",
      "execution_count": null,
      "id": "ffb9e7e1-c2ad-453d-9f7f-01a873aa4c5c",
      "metadata": {
        "id": "ffb9e7e1-c2ad-453d-9f7f-01a873aa4c5c"
      },
      "outputs": [],
      "source": [
        ""
      ]
    },
    {
      "cell_type": "code",
      "execution_count": 23,
      "id": "76fd6100-9a92-4c3a-86f7-aff8d5560c71",
      "metadata": {
        "id": "76fd6100-9a92-4c3a-86f7-aff8d5560c71"
      },
      "outputs": [],
      "source": [
        "pred = model(x)"
      ]
    },
    {
      "cell_type": "code",
      "execution_count": 24,
      "id": "3801ff32-3a2b-4034-90eb-6b622b7b4471",
      "metadata": {
        "colab": {
          "base_uri": "https://localhost:8080/"
        },
        "id": "3801ff32-3a2b-4034-90eb-6b622b7b4471",
        "outputId": "0781d022-3e21-47c6-b8e9-776c2ccd81dd"
      },
      "outputs": [
        {
          "output_type": "execute_result",
          "data": {
            "text/plain": [
              "(TensorShape([128, 10]), TensorShape([128, 10]))"
            ]
          },
          "metadata": {},
          "execution_count": 24
        }
      ],
      "source": [
        "pred.shape, y.shape"
      ]
    },
    {
      "cell_type": "code",
      "execution_count": 25,
      "id": "a3261782-ee4d-44c7-aac0-418f5e82a9ee",
      "metadata": {
        "id": "a3261782-ee4d-44c7-aac0-418f5e82a9ee"
      },
      "outputs": [],
      "source": [
        "del x, y, pred"
      ]
    },
    {
      "cell_type": "code",
      "execution_count": null,
      "id": "235afb6a-ba67-41af-a323-6f9baf0e3023",
      "metadata": {
        "id": "235afb6a-ba67-41af-a323-6f9baf0e3023"
      },
      "outputs": [],
      "source": [
        ""
      ]
    },
    {
      "cell_type": "code",
      "execution_count": 26,
      "id": "1d3f5ff1-7711-440e-a40f-a253606c46ab",
      "metadata": {
        "id": "1d3f5ff1-7711-440e-a40f-a253606c46ab"
      },
      "outputs": [],
      "source": [
        "# Save current weights-\n",
        "model.save_weights(\"ResNet18_random_weights.h5\", overwrite = True)"
      ]
    },
    {
      "cell_type": "code",
      "execution_count": null,
      "id": "f81a9ac5-7b3c-48b5-94e6-f6d68ef25b70",
      "metadata": {
        "id": "f81a9ac5-7b3c-48b5-94e6-f6d68ef25b70"
      },
      "outputs": [],
      "source": [
        "# model.load_weights(\"ResNet18_random_weights.h5\")"
      ]
    },
    {
      "cell_type": "code",
      "execution_count": null,
      "id": "d859b44e-8351-4ae0-b10a-044d4534aa22",
      "metadata": {
        "id": "d859b44e-8351-4ae0-b10a-044d4534aa22"
      },
      "outputs": [],
      "source": [
        ""
      ]
    },
    {
      "cell_type": "code",
      "execution_count": 27,
      "id": "72a2228f-b086-428b-a459-95b4e46c8fa6",
      "metadata": {
        "colab": {
          "base_uri": "https://localhost:8080/"
        },
        "id": "72a2228f-b086-428b-a459-95b4e46c8fa6",
        "outputId": "8ed795cf-1dbd-46f5-a950-bd2538b93403"
      },
      "outputs": [
        {
          "output_type": "stream",
          "name": "stdout",
          "text": [
            "Model: \"res_net_type_i\"\n",
            "_________________________________________________________________\n",
            " Layer (type)                Output Shape              Param #   \n",
            "=================================================================\n",
            " conv2d (Conv2D)             multiple                  1728      \n",
            "                                                                 \n",
            " batch_normalization (BatchN  multiple                 256       \n",
            " ormalization)                                                   \n",
            "                                                                 \n",
            " sequential (Sequential)     (128, 32, 32, 64)         148480    \n",
            "                                                                 \n",
            " sequential_1 (Sequential)   (128, 16, 16, 128)        526976    \n",
            "                                                                 \n",
            " sequential_3 (Sequential)   (128, 8, 8, 256)          2102528   \n",
            "                                                                 \n",
            " sequential_5 (Sequential)   (128, 4, 4, 512)          8399360   \n",
            "                                                                 \n",
            " global_average_pooling2d (G  multiple                 0         \n",
            " lobalAveragePooling2D)                                          \n",
            "                                                                 \n",
            " dense (Dense)               multiple                  5130      \n",
            "                                                                 \n",
            "=================================================================\n",
            "Total params: 11,184,458\n",
            "Trainable params: 11,174,858\n",
            "Non-trainable params: 9,600\n",
            "_________________________________________________________________\n"
          ]
        }
      ],
      "source": [
        "# Get CNN model summary-\n",
        "model.summary()"
      ]
    },
    {
      "cell_type": "code",
      "execution_count": 28,
      "id": "203225e5-9a26-45e4-970a-875411269f1e",
      "metadata": {
        "colab": {
          "base_uri": "https://localhost:8080/"
        },
        "id": "203225e5-9a26-45e4-970a-875411269f1e",
        "outputId": "eda1e9d6-40c8-42d6-a2bf-85a7e10e23cd"
      },
      "outputs": [
        {
          "output_type": "stream",
          "name": "stdout",
          "text": [
            "layer: (3, 3, 3, 64) has 1728 params\n",
            "layer: (64,) has 64 params\n",
            "layer: (64,) has 0 params\n",
            "layer: (3, 3, 64, 64) has 36864 params\n",
            "layer: (64,) has 64 params\n",
            "layer: (64,) has 0 params\n",
            "layer: (3, 3, 64, 64) has 36864 params\n",
            "layer: (64,) has 64 params\n",
            "layer: (64,) has 0 params\n",
            "layer: (3, 3, 64, 64) has 36864 params\n",
            "layer: (64,) has 64 params\n",
            "layer: (64,) has 0 params\n",
            "layer: (3, 3, 64, 64) has 36864 params\n",
            "layer: (64,) has 64 params\n",
            "layer: (64,) has 0 params\n",
            "layer: (3, 3, 64, 128) has 73728 params\n",
            "layer: (128,) has 128 params\n",
            "layer: (128,) has 0 params\n",
            "layer: (3, 3, 128, 128) has 147455 params\n",
            "layer: (128,) has 128 params\n",
            "layer: (128,) has 0 params\n",
            "layer: (1, 1, 64, 128) has 8192 params\n",
            "layer: (128,) has 128 params\n",
            "layer: (128,) has 128 params\n",
            "layer: (128,) has 0 params\n",
            "layer: (3, 3, 128, 128) has 147456 params\n",
            "layer: (128,) has 128 params\n",
            "layer: (128,) has 0 params\n",
            "layer: (3, 3, 128, 128) has 147456 params\n",
            "layer: (128,) has 128 params\n",
            "layer: (128,) has 0 params\n",
            "layer: (3, 3, 128, 256) has 294912 params\n",
            "layer: (256,) has 256 params\n",
            "layer: (256,) has 0 params\n",
            "layer: (3, 3, 256, 256) has 589824 params\n",
            "layer: (256,) has 256 params\n",
            "layer: (256,) has 0 params\n",
            "layer: (1, 1, 128, 256) has 32768 params\n",
            "layer: (256,) has 256 params\n",
            "layer: (256,) has 256 params\n",
            "layer: (256,) has 0 params\n",
            "layer: (3, 3, 256, 256) has 589824 params\n",
            "layer: (256,) has 256 params\n",
            "layer: (256,) has 0 params\n",
            "layer: (3, 3, 256, 256) has 589824 params\n",
            "layer: (256,) has 256 params\n",
            "layer: (256,) has 0 params\n",
            "layer: (3, 3, 256, 512) has 1179648 params\n",
            "layer: (512,) has 512 params\n",
            "layer: (512,) has 0 params\n",
            "layer: (3, 3, 512, 512) has 2359296 params\n",
            "layer: (512,) has 512 params\n",
            "layer: (512,) has 0 params\n",
            "layer: (1, 1, 256, 512) has 131072 params\n",
            "layer: (512,) has 512 params\n",
            "layer: (512,) has 512 params\n",
            "layer: (512,) has 0 params\n",
            "layer: (3, 3, 512, 512) has 2359295 params\n",
            "layer: (512,) has 512 params\n",
            "layer: (512,) has 0 params\n",
            "layer: (3, 3, 512, 512) has 2359296 params\n",
            "layer: (512,) has 512 params\n",
            "layer: (512,) has 0 params\n",
            "layer: (512, 10) has 5120 params\n",
            "layer: (10,) has 0 params\n"
          ]
        }
      ],
      "source": [
        "# Count number of trainable parameters in VGG-18 model-\n",
        "tot_params = 0\n",
        "\n",
        "for layer in model.trainable_weights:\n",
        "    loc_params = tf.math.count_nonzero(layer, axis = None).numpy()\n",
        "    print(f\"layer: {layer.shape} has {loc_params} params\")\n",
        "    tot_params += loc_params"
      ]
    },
    {
      "cell_type": "code",
      "execution_count": 29,
      "id": "4f574068-45fd-4a6a-b1fb-82c852d6fa70",
      "metadata": {
        "colab": {
          "base_uri": "https://localhost:8080/"
        },
        "id": "4f574068-45fd-4a6a-b1fb-82c852d6fa70",
        "outputId": "710df445-739e-485a-8dd8-67062dc8ea41"
      },
      "outputs": [
        {
          "output_type": "stream",
          "name": "stdout",
          "text": [
            "ResNet-18 has 11170046 trainable parameters\n"
          ]
        }
      ],
      "source": [
        "print(f\"ResNet-18 has {tot_params} trainable parameters\")"
      ]
    },
    {
      "cell_type": "code",
      "execution_count": null,
      "id": "3d12be1f-30a1-4de3-b1e0-0427ee431379",
      "metadata": {
        "id": "3d12be1f-30a1-4de3-b1e0-0427ee431379"
      },
      "outputs": [],
      "source": [
        ""
      ]
    },
    {
      "cell_type": "code",
      "execution_count": 30,
      "id": "5f2a56a2-8528-4cd7-98fd-aabd80bd24b1",
      "metadata": {
        "colab": {
          "base_uri": "https://localhost:8080/"
        },
        "id": "5f2a56a2-8528-4cd7-98fd-aabd80bd24b1",
        "outputId": "884224ff-382d-4358-853f-501135f94f69"
      },
      "outputs": [
        {
          "output_type": "stream",
          "name": "stdout",
          "text": [
            "\n",
            "Number of training weights = 11174858 and non-trainabel weights = 9600\n",
            "\n",
            "Total number of parameters = 11184458\n",
            "\n"
          ]
        }
      ],
      "source": [
        "import tensorflow.keras.backend as K\n",
        "\n",
        "\n",
        "# METHOD-1: This also counts biases\n",
        "trainable_wts = np.sum([K.count_params(w) for w in model.trainable_weights])\n",
        "non_trainable_wts = np.sum([K.count_params(w) for w in model.non_trainable_weights])\n",
        "\n",
        "print(\"\\nNumber of training weights = {0} and non-trainabel weights = {1}\\n\".format(\n",
        "    trainable_wts, non_trainable_wts\n",
        "))\n",
        "print(\"Total number of parameters = {0}\\n\".format(trainable_wts + non_trainable_wts))\n"
      ]
    },
    {
      "cell_type": "code",
      "execution_count": 31,
      "id": "255ee8c5-7fdb-4301-bdae-782a2e97e683",
      "metadata": {
        "colab": {
          "base_uri": "https://localhost:8080/"
        },
        "id": "255ee8c5-7fdb-4301-bdae-782a2e97e683",
        "outputId": "9bccad20-9b19-4a02-f95c-a0ec2bc03a74"
      },
      "outputs": [
        {
          "output_type": "stream",
          "name": "stdout",
          "text": [
            "\n",
            "According to tf.keras.backend: Number of training weights = 11174858, non-trainabel weights = 9600 and total number of parameters = 11184458\n",
            "\n",
            "According to tf.math.count_nonzero() method, total number of trainable weights = 11170046\n",
            "\n"
          ]
        }
      ],
      "source": [
        "print(\"\\nAccording to tf.keras.backend: Number of training weights = {0}, non-trainabel weights = {1} and total number of parameters = {2}\\n\".format(\n",
        "    trainable_wts, non_trainable_wts, (trainable_wts + non_trainable_wts)\n",
        "))\n",
        "\n",
        "print(\"According to tf.math.count_nonzero() method, total number of trainable weights = {0}\\n\".format(tot_params))"
      ]
    },
    {
      "cell_type": "code",
      "execution_count": null,
      "id": "ac439c35-1794-4621-8490-509648ddc82f",
      "metadata": {
        "id": "ac439c35-1794-4621-8490-509648ddc82f"
      },
      "outputs": [],
      "source": [
        ""
      ]
    },
    {
      "cell_type": "code",
      "execution_count": null,
      "id": "fa93c2fa-fcde-4fa9-b5c6-2ff840cc1e6f",
      "metadata": {
        "id": "fa93c2fa-fcde-4fa9-b5c6-2ff840cc1e6f"
      },
      "outputs": [],
      "source": [
        ""
      ]
    },
    {
      "cell_type": "markdown",
      "id": "a34d36f7-a4ba-41b3-a8a6-6a044f4d4d90",
      "metadata": {
        "id": "a34d36f7-a4ba-41b3-a8a6-6a044f4d4d90"
      },
      "source": [
        "### Image Augmentation using _ImageDataGenerator_:\n",
        "\n",
        "Refer-\n",
        "[tf.keras.preprocessing.image.ImageDataGenerator](https://www.tensorflow.org/api_docs/python/tf/keras/preprocessing/image/ImageDataGenerator)"
      ]
    },
    {
      "cell_type": "code",
      "execution_count": 32,
      "id": "e13327ec-44ac-46bf-811c-362d038934d6",
      "metadata": {
        "id": "e13327ec-44ac-46bf-811c-362d038934d6"
      },
      "outputs": [],
      "source": [
        "# Example of using 'tf.keras.preprocessing.image import ImageDataGenerator class's - flow(x, y)':\n",
        "datagen = ImageDataGenerator(\n",
        "    # featurewise_center=True,\n",
        "    # featurewise_std_normalization=True,\n",
        "    rotation_range = 15,\n",
        "    width_shift_range = 0.1, # 0.2\n",
        "    height_shift_range = 0.1, # 0.2\n",
        "    horizontal_flip = True\n",
        ")\n",
        "\n",
        "\n",
        "# flow():\n",
        "# Takes data & label arrays, generates batches of augmented data.\n",
        "\n",
        "# datagen.flow(X_train, y_train, batch_size=batch_size, shuffle=True)"
      ]
    },
    {
      "cell_type": "code",
      "execution_count": 33,
      "id": "5b489aff-93b9-4957-bae8-95d37a129d7a",
      "metadata": {
        "id": "5b489aff-93b9-4957-bae8-95d37a129d7a"
      },
      "outputs": [],
      "source": [
        "# compute quantities required for featurewise normalization\n",
        "# (std, mean, and principal components if ZCA whitening is applied)\n",
        "datagen.fit(X_train)"
      ]
    },
    {
      "cell_type": "code",
      "execution_count": null,
      "id": "cb48f5b2-37da-4113-9b43-d5f69f9571af",
      "metadata": {
        "id": "cb48f5b2-37da-4113-9b43-d5f69f9571af"
      },
      "outputs": [],
      "source": [
        ""
      ]
    },
    {
      "cell_type": "code",
      "execution_count": null,
      "id": "52093cd2-79de-4689-8682-a04d9d87ab5b",
      "metadata": {
        "id": "52093cd2-79de-4689-8682-a04d9d87ab5b"
      },
      "outputs": [],
      "source": [
        ""
      ]
    },
    {
      "cell_type": "code",
      "execution_count": 34,
      "id": "f40910aa-ef00-46db-88f4-b0c82f9d4121",
      "metadata": {
        "id": "f40910aa-ef00-46db-88f4-b0c82f9d4121"
      },
      "outputs": [],
      "source": [
        "def create_mask_np(model):\n",
        "    # Function to create np mask using TF2 neural\n",
        "    # network 'model' as input.\n",
        "    \n",
        "    # Python3 list to contain masks-\n",
        "    mask_model = []\n",
        "    \n",
        "    for layer in model.trainable_weights:\n",
        "        m = np.ones_like(layer, dtype = np.int8)\n",
        "        mask_model.append(m)\n",
        "        \n",
        "    return mask_model\n"
      ]
    },
    {
      "cell_type": "code",
      "execution_count": null,
      "id": "8cd6e6b8-3209-4f47-9d06-ee9fc03959a7",
      "metadata": {
        "id": "8cd6e6b8-3209-4f47-9d06-ee9fc03959a7"
      },
      "outputs": [],
      "source": [
        ""
      ]
    },
    {
      "cell_type": "code",
      "execution_count": 35,
      "id": "80112eda-d9b0-4f0a-b912-2723e166849b",
      "metadata": {
        "id": "80112eda-d9b0-4f0a-b912-2723e166849b"
      },
      "outputs": [],
      "source": [
        "# Sanity check-\n",
        "mask_model = create_mask_np(model = model)"
      ]
    },
    {
      "cell_type": "code",
      "execution_count": null,
      "id": "f4fd148b-64f1-44b1-9568-9bff4ca12b90",
      "metadata": {
        "id": "f4fd148b-64f1-44b1-9568-9bff4ca12b90"
      },
      "outputs": [],
      "source": [
        ""
      ]
    },
    {
      "cell_type": "code",
      "execution_count": 36,
      "id": "0e59594c-e807-4298-9d00-2cb5495efc8a",
      "metadata": {
        "id": "0e59594c-e807-4298-9d00-2cb5495efc8a"
      },
      "outputs": [],
      "source": [
        "def count_nonzero_masks(mask_model):\n",
        "    # Count non-zero masks using Python3 'mask_model'\n",
        "    # list of np arrays as input.\n",
        "    \n",
        "    tot_masks = 0\n",
        "    for x in mask_model:\n",
        "        loc_masks = np.count_nonzero(x)\n",
        "        tot_masks += loc_masks\n",
        "        # print(f\"mask.shape: {x.shape} has {np.count_nonzero(x)} masks\")\n",
        "        \n",
        "    return tot_masks\n"
      ]
    },
    {
      "cell_type": "code",
      "execution_count": 37,
      "id": "f35afc3a-80c9-49c2-b2d9-6fda526adea0",
      "metadata": {
        "id": "f35afc3a-80c9-49c2-b2d9-6fda526adea0"
      },
      "outputs": [],
      "source": [
        "def count_params(model):\n",
        "    # Function to count number of non-zero parameters.\n",
        "    model_sum_params = 0\n",
        "\n",
        "    for layer in model.trainable_weights:\n",
        "        # print(tf.math.count_nonzero(layer, axis = None).numpy())\n",
        "        model_sum_params += tf.math.count_nonzero(layer, axis = None).numpy()\n",
        "    \n",
        "    return model_sum_params\n",
        "    "
      ]
    },
    {
      "cell_type": "code",
      "execution_count": null,
      "id": "a970568f-e5c9-422b-88f1-3a2ffcdb27da",
      "metadata": {
        "id": "a970568f-e5c9-422b-88f1-3a2ffcdb27da"
      },
      "outputs": [],
      "source": [
        ""
      ]
    },
    {
      "cell_type": "code",
      "execution_count": 38,
      "id": "f0b8c286-6e64-4e36-b9a5-1d171a16f3c6",
      "metadata": {
        "id": "f0b8c286-6e64-4e36-b9a5-1d171a16f3c6"
      },
      "outputs": [],
      "source": [
        "mask_params = count_nonzero_masks(mask_model = mask_model)"
      ]
    },
    {
      "cell_type": "code",
      "execution_count": 39,
      "id": "360c7bab-b9a0-4cb2-a4da-e7cf01ee5c8a",
      "metadata": {
        "colab": {
          "base_uri": "https://localhost:8080/"
        },
        "id": "360c7bab-b9a0-4cb2-a4da-e7cf01ee5c8a",
        "outputId": "86f73382-02b7-4c94-e123-076febf217c9"
      },
      "outputs": [
        {
          "output_type": "execute_result",
          "data": {
            "text/plain": [
              "False"
            ]
          },
          "metadata": {},
          "execution_count": 39
        }
      ],
      "source": [
        "mask_params == tot_params"
      ]
    },
    {
      "cell_type": "code",
      "execution_count": 40,
      "id": "0bd39d02-6f76-41f6-88d4-0412d075aad7",
      "metadata": {
        "colab": {
          "base_uri": "https://localhost:8080/"
        },
        "id": "0bd39d02-6f76-41f6-88d4-0412d075aad7",
        "outputId": "045c8e53-29c6-46ed-e66a-a414f64a863f"
      },
      "outputs": [
        {
          "output_type": "execute_result",
          "data": {
            "text/plain": [
              "(11174858, 11170046)"
            ]
          },
          "metadata": {},
          "execution_count": 40
        }
      ],
      "source": [
        "mask_params, tot_params"
      ]
    },
    {
      "cell_type": "code",
      "execution_count": null,
      "id": "d4069ac1-5c20-4c54-bf36-b78d663319f0",
      "metadata": {
        "id": "d4069ac1-5c20-4c54-bf36-b78d663319f0"
      },
      "outputs": [],
      "source": [
        ""
      ]
    },
    {
      "cell_type": "code",
      "execution_count": 41,
      "id": "d059607b-a486-4f72-8aa0-46b21d63f11f",
      "metadata": {
        "colab": {
          "base_uri": "https://localhost:8080/"
        },
        "id": "d059607b-a486-4f72-8aa0-46b21d63f11f",
        "outputId": "1fa07cb9-8e64-44e9-ac86-10e511101c9c"
      },
      "outputs": [
        {
          "output_type": "stream",
          "name": "stdout",
          "text": [
            "ResNet-18 has 11170046 trainable parameters\n"
          ]
        }
      ],
      "source": [
        "# Sanity check-\n",
        "print(f\"ResNet-18 has {count_params(model)} trainable parameters\")"
      ]
    },
    {
      "cell_type": "code",
      "execution_count": null,
      "id": "3536e3e8-c546-4d21-9742-ce19b8055065",
      "metadata": {
        "id": "3536e3e8-c546-4d21-9742-ce19b8055065"
      },
      "outputs": [],
      "source": [
        ""
      ]
    },
    {
      "cell_type": "code",
      "execution_count": null,
      "id": "5fc53781-9055-4331-a65c-301bd92a8386",
      "metadata": {
        "id": "5fc53781-9055-4331-a65c-301bd92a8386"
      },
      "outputs": [],
      "source": [
        ""
      ]
    },
    {
      "cell_type": "code",
      "execution_count": null,
      "id": "601a9f6e-cff3-482d-9064-19dfdf2532de",
      "metadata": {
        "id": "601a9f6e-cff3-482d-9064-19dfdf2532de"
      },
      "outputs": [],
      "source": [
        ""
      ]
    },
    {
      "cell_type": "code",
      "execution_count": null,
      "id": "0a1d857f-e143-4f5c-811c-23f14801e6fa",
      "metadata": {
        "id": "0a1d857f-e143-4f5c-811c-23f14801e6fa"
      },
      "outputs": [],
      "source": [
        ""
      ]
    },
    {
      "cell_type": "markdown",
      "id": "0812c95f-ffe5-4a23-ba48-6232be0cd13a",
      "metadata": {
        "id": "0812c95f-ffe5-4a23-ba48-6232be0cd13a"
      },
      "source": [
        "### Learning rate warmup:\n",
        "\n",
        "Using a large learning rate may result in numerical instability especially at the very beginning of training where parameters are randomly initialized. The warmup strategy increases the learning rate from 0 to the initial learning rate linearly during the initial __N__ epochs or __m__ batches.\n",
        "\n",
        "Even though Keras already came with the _LearningRateScheduler_ capable of updating the learning rate for each training epoch, in order to achieve finer updates for each batch, the following code is how you can implement a custom Keras callback to do that."
      ]
    },
    {
      "cell_type": "code",
      "execution_count": 42,
      "id": "5cf983de-9264-435f-b11f-dc7cb493d4ae",
      "metadata": {
        "id": "5cf983de-9264-435f-b11f-dc7cb493d4ae"
      },
      "outputs": [],
      "source": [
        "from typing import Callable, List, Optional, Union"
      ]
    },
    {
      "cell_type": "code",
      "execution_count": 43,
      "id": "f9b4a29a-5c60-4b93-9280-ea219cdbd9ff",
      "metadata": {
        "id": "f9b4a29a-5c60-4b93-9280-ea219cdbd9ff"
      },
      "outputs": [],
      "source": [
        "class WarmUp(tf.keras.optimizers.schedules.LearningRateSchedule):\n",
        "    \"\"\"\n",
        "    Applies a warmup schedule on a given learning rate decay schedule.\n",
        "\n",
        "    Args:\n",
        "        initial_learning_rate (:obj:`float`):\n",
        "            The initial learning rate for the schedule after the warmup (so this will be the learning rate at the end\n",
        "            of the warmup).\n",
        "            \n",
        "        decay_schedule_fn (:obj:`Callable`):\n",
        "            The schedule function to apply after the warmup for the rest of training.\n",
        "        \n",
        "        warmup_steps (:obj:`int`):\n",
        "            The number of steps for the warmup part of training.\n",
        "        \n",
        "        power (:obj:`float`, `optional`, defaults to 1):\n",
        "            The power to use for the polynomial warmup (defaults is a linear warmup).\n",
        "        \n",
        "        name (:obj:`str`, `optional`):\n",
        "            Optional name prefix for the returned tensors during the schedule.\n",
        "    \"\"\"\n",
        "\n",
        "    def __init__(\n",
        "        self,\n",
        "        initial_learning_rate: float,\n",
        "        decay_schedule_fn: Callable,\n",
        "        warmup_steps: int,\n",
        "        power: float = 1.0,\n",
        "        name: str = None,\n",
        "    ):\n",
        "        super().__init__()\n",
        "        self.initial_learning_rate = initial_learning_rate\n",
        "        self.warmup_steps = warmup_steps\n",
        "        self.power = power\n",
        "        self.decay_schedule_fn = decay_schedule_fn\n",
        "        self.name = name\n",
        "\n",
        "    def __call__(self, step):\n",
        "        with tf.name_scope(self.name or \"WarmUp\") as name:\n",
        "            # Implements polynomial warmup. i.e., if global_step < warmup_steps, the\n",
        "            # learning rate will be `global_step/num_warmup_steps * init_lr`.\n",
        "            global_step_float = tf.cast(step, tf.float32)\n",
        "            warmup_steps_float = tf.cast(self.warmup_steps, tf.float32)\n",
        "            warmup_percent_done = global_step_float / warmup_steps_float\n",
        "            warmup_learning_rate = self.initial_learning_rate * tf.math.pow(warmup_percent_done, self.power)\n",
        "            return tf.cond(\n",
        "                global_step_float < warmup_steps_float,\n",
        "                lambda: warmup_learning_rate,\n",
        "                lambda: self.decay_schedule_fn(step - self.warmup_steps),\n",
        "                name=name,\n",
        "            )\n",
        "\n",
        "    def get_config(self):\n",
        "        return {\n",
        "            \"initial_learning_rate\": self.initial_learning_rate,\n",
        "            \"decay_schedule_fn\": self.decay_schedule_fn,\n",
        "            \"warmup_steps\": self.warmup_steps,\n",
        "            \"power\": self.power,\n",
        "            \"name\": self.name,\n",
        "        }\n",
        "    "
      ]
    },
    {
      "cell_type": "code",
      "execution_count": null,
      "id": "c9506111-dcf8-4971-adf7-6c1ac85518c7",
      "metadata": {
        "id": "c9506111-dcf8-4971-adf7-6c1ac85518c7"
      },
      "outputs": [],
      "source": [
        ""
      ]
    },
    {
      "cell_type": "code",
      "execution_count": 44,
      "id": "e9844b41-3db8-49ad-a6f0-5f40283de992",
      "metadata": {
        "colab": {
          "base_uri": "https://localhost:8080/"
        },
        "id": "e9844b41-3db8-49ad-a6f0-5f40283de992",
        "outputId": "47271ddf-da86-4c12-d836-42a8364eaafc"
      },
      "outputs": [
        {
          "output_type": "stream",
          "name": "stdout",
          "text": [
            "CIFAR-10: Using a batch size of 128 gives 390.625 training steps\n"
          ]
        }
      ],
      "source": [
        "print(f\"CIFAR-10: Using a batch size of {batch_size} gives {len(X_train) / batch_size} training steps\")"
      ]
    },
    {
      "cell_type": "code",
      "execution_count": null,
      "id": "fa711742-6c60-4b10-9bf3-f51ff29d2a30",
      "metadata": {
        "id": "fa711742-6c60-4b10-9bf3-f51ff29d2a30"
      },
      "outputs": [],
      "source": [
        ""
      ]
    },
    {
      "cell_type": "code",
      "execution_count": null,
      "id": "7140b03c-d3ec-48f9-81ad-51229712aead",
      "metadata": {
        "id": "7140b03c-d3ec-48f9-81ad-51229712aead"
      },
      "outputs": [],
      "source": [
        ""
      ]
    },
    {
      "cell_type": "markdown",
      "id": "6600a5de-6fed-4805-9e47-3eb768d91fd8",
      "metadata": {
        "id": "6600a5de-6fed-4805-9e47-3eb768d91fd8"
      },
      "source": [
        "### Train model with _learning rate scheduler_\n",
        "\n",
        "Training dataset = 50000, batch size = 128, number of training steps or,iterations = 50000 / 128 = 390.625 = 391\n",
        "\n",
        "__After an initial linear learning rate warmup of 10 epochs or 3907 training steps:__\n",
        "\n",
        "- For the next 11718.75 = 11718 training steps or 30 epochs - until 40th epoch, use learning rate = 0.1\n",
        "\n",
        "- For the next 7812.5 = 7813 training steps or 20 epochs - until 60th epoch, use learning rate = 0.01\n",
        "\n",
        "- For the next 3906.25 = 3907 training steps or 10 epochs - until 70th epoch, use learning rate = 0.001\n",
        "\n",
        "- For the last 5 epochs, use learning rate = 0.0001"
      ]
    },
    {
      "cell_type": "code",
      "execution_count": 45,
      "id": "4a9b47f1-ddb3-4eaf-b11e-afecc7dfc880",
      "metadata": {
        "id": "4a9b47f1-ddb3-4eaf-b11e-afecc7dfc880"
      },
      "outputs": [],
      "source": [
        "boundaries = [11718, 19531, 23438]\n",
        "values = [0.1, 0.01, 0.001, 0.0001]"
      ]
    },
    {
      "cell_type": "markdown",
      "id": "80979edb-e54c-4e37-9bf4-94e17fd74227",
      "metadata": {
        "id": "80979edb-e54c-4e37-9bf4-94e17fd74227"
      },
      "source": [
        "#### tf.keras.optimizers.schedules.PiecewiseConstantDecay\n",
        "\n",
        "A LearningRateSchedule that uses a piecewise constant decay schedule. Inherits From: ```LearningRateSchedule```\n",
        "\n",
        "```\n",
        "tf.keras.optimizers.schedules.PiecewiseConstantDecay(\n",
        "    boundaries, values, name=None\n",
        ")\n",
        "```\n",
        "\n",
        "The function returns a 1-arg callable to compute the piecewise constant when passed the current optimizer step. This can be useful for changing the learning rate value across different invocations of optimizer functions.\n",
        "\n",
        "Example: use a learning rate that's 1.0 for the first 100001 steps, 0.5 for the next 10000 steps, and 0.1 for any additional steps.\n",
        "```\n",
        "step = tf.Variable(0, trainable=False)\n",
        "boundaries = [100000, 110000]\n",
        "values = [1.0, 0.5, 0.1]\n",
        "learning_rate_fn = keras.optimizers.schedules.PiecewiseConstantDecay(\n",
        "    boundaries, values)\n",
        "\n",
        "# Later, whenever we perform an optimization step, we pass in the step.\n",
        "learning_rate = learning_rate_fn(step)\n",
        "```\n",
        "\n",
        "You can pass this schedule directly into a tf.keras.optimizers.Optimizer as the learning rate. The learning rate schedule is also serializable and deserializable using ```tf.keras.optimizers.schedules.serialize``` and ```tf.keras.optimizers.schedules.deserialize```.\n",
        "\n",
        "\n",
        "__Returns__\n",
        "A 1-arg callable learning rate schedule that takes the current optimizer step and outputs the decayed learning rate, a scalar Tensor of the same type as the boundary tensors.\n",
        "\n",
        "The output of the 1-arg function that takes the ```step``` is ```values[0]``` when ```step <= boundaries[0]```, ```values[1]``` when ```step > boundaries[0]``` and ```step <= boundaries[1]```, ..., and ```values[-1] when step > boundaries[-1]```.\n",
        "\n",
        "[tf.keras.optimizers.schedules.PiecewiseConstantDecay ](https://www.tensorflow.org/api_docs/python/tf/keras/optimizers/schedules/PiecewiseConstantDecay)"
      ]
    },
    {
      "cell_type": "code",
      "execution_count": null,
      "id": "bff96e95-681f-4e91-9da5-a4ade5acc5a3",
      "metadata": {
        "id": "bff96e95-681f-4e91-9da5-a4ade5acc5a3"
      },
      "outputs": [],
      "source": [
        ""
      ]
    },
    {
      "cell_type": "code",
      "execution_count": 46,
      "id": "7c8422bb-a9c3-4dd8-982c-1949adad6f24",
      "metadata": {
        "id": "7c8422bb-a9c3-4dd8-982c-1949adad6f24"
      },
      "outputs": [],
      "source": [
        "learning_rate_fn = tf.keras.optimizers.schedules.PiecewiseConstantDecay(boundaries, values)"
      ]
    },
    {
      "cell_type": "code",
      "execution_count": 47,
      "id": "7e9febd3-612f-4668-814c-73254d773ebd",
      "metadata": {
        "id": "7e9febd3-612f-4668-814c-73254d773ebd"
      },
      "outputs": [],
      "source": [
        "# warmup_shcedule = WarmUp(initial_learning_rate = 0.1, decay_schedule_fn = learning_rate_fn, warmup_steps = 7813)\n",
        "warmup_shcedule = WarmUp(initial_learning_rate = 0.1, decay_schedule_fn = learning_rate_fn, warmup_steps = 3906)"
      ]
    },
    {
      "cell_type": "code",
      "execution_count": 48,
      "id": "52f3a760-0282-45cf-870f-59116ed868de",
      "metadata": {
        "id": "52f3a760-0282-45cf-870f-59116ed868de"
      },
      "outputs": [],
      "source": [
        "optimizer = tf.keras.optimizers.SGD(learning_rate = warmup_shcedule, momentum = 0.9, decay = 0.0, nesterov = False)"
      ]
    },
    {
      "cell_type": "code",
      "execution_count": null,
      "id": "cb546e62-28d2-4a0b-a298-e9a775158ef1",
      "metadata": {
        "id": "cb546e62-28d2-4a0b-a298-e9a775158ef1"
      },
      "outputs": [],
      "source": [
        ""
      ]
    },
    {
      "cell_type": "code",
      "execution_count": null,
      "id": "f00f315a-791d-4fd2-a7ee-79428b54c437",
      "metadata": {
        "id": "f00f315a-791d-4fd2-a7ee-79428b54c437"
      },
      "outputs": [],
      "source": [
        ""
      ]
    },
    {
      "cell_type": "markdown",
      "id": "3278f7bd-f6c5-4766-a328-38f6708a2075",
      "metadata": {
        "id": "3278f7bd-f6c5-4766-a328-38f6708a2075"
      },
      "source": [
        "### Train model using _tf.GradientTape_:"
      ]
    },
    {
      "cell_type": "code",
      "execution_count": null,
      "id": "3de83163-1ca6-4778-a606-f1833cc99c32",
      "metadata": {
        "id": "3de83163-1ca6-4778-a606-f1833cc99c32"
      },
      "outputs": [],
      "source": [
        "# User input parameters for Early Stopping in manual implementation-\n",
        "# minimum_delta = 0.001\n",
        "# patience = 3"
      ]
    },
    {
      "cell_type": "code",
      "execution_count": 49,
      "id": "65b36b4b-dd0e-4bb2-a3dd-48845fc1e725",
      "metadata": {
        "id": "65b36b4b-dd0e-4bb2-a3dd-48845fc1e725"
      },
      "outputs": [],
      "source": [
        "best_val_loss = 100\n",
        "# loc_patience = 0"
      ]
    },
    {
      "cell_type": "code",
      "execution_count": null,
      "id": "0c4ae2b4-3448-418f-9767-11dfe8e4f9f3",
      "metadata": {
        "id": "0c4ae2b4-3448-418f-9767-11dfe8e4f9f3"
      },
      "outputs": [],
      "source": [
        ""
      ]
    },
    {
      "cell_type": "code",
      "execution_count": 50,
      "id": "9ead0567-d5ac-4bcd-8a9f-5b41994d02ba",
      "metadata": {
        "id": "9ead0567-d5ac-4bcd-8a9f-5b41994d02ba"
      },
      "outputs": [],
      "source": [
        "# Define 'train_one_step()' and 'test_step()' functions here-\n",
        "@tf.function\n",
        "def train_one_step(model, mask_model, optimizer, x, y):\n",
        "    '''\n",
        "    Function to compute one step of gradient descent optimization\n",
        "    '''\n",
        "    with tf.GradientTape() as tape:\n",
        "        # Make predictions using defined model-\n",
        "        y_pred = model(x)\n",
        "\n",
        "        # Compute loss-\n",
        "        loss = loss_fn(y, y_pred)\n",
        "        \n",
        "    # Compute gradients wrt defined loss and weights and biases-\n",
        "    grads = tape.gradient(loss, model.trainable_variables)\n",
        "    \n",
        "    # type(grads)\n",
        "    # list\n",
        "    \n",
        "    # List to hold element-wise multiplication between-\n",
        "    # computed gradient and masks-\n",
        "    grad_mask_mul = []\n",
        "    \n",
        "    # Perform element-wise multiplication between computed gradients and masks-\n",
        "    '''\n",
        "    for grad_layer, mask in zip(grads, mask_model.trainable_weights):\n",
        "        grad_mask_mul.append(tf.math.multiply(grad_layer, mask))\n",
        "    '''\n",
        "    for grad_layer, mask in zip(grads, mask_model):\n",
        "        grad_mask_mul.append(\n",
        "            tf.math.multiply(\n",
        "                grad_layer, tf.cast(x = mask, dtype = tf.float32)\n",
        "                # grad_layer, tf.convert_to_tensor(value = mask, dtype = tf.float32)\n",
        "            )\n",
        "        )\n",
        "    \n",
        "    # Apply computed gradients to model's weights and biases-\n",
        "    optimizer.apply_gradients(zip(grad_mask_mul, model.trainable_variables))\n",
        "\n",
        "    # Compute accuracy-\n",
        "    train_loss(loss)\n",
        "    train_accuracy(y, y_pred)\n",
        "\n",
        "    return None\n"
      ]
    },
    {
      "cell_type": "code",
      "execution_count": 51,
      "id": "c0b5509b-f441-4eb0-bab6-4bc55d78d100",
      "metadata": {
        "id": "c0b5509b-f441-4eb0-bab6-4bc55d78d100"
      },
      "outputs": [],
      "source": [
        "@tf.function\n",
        "def test_step(model, optimizer, data, labels):\n",
        "    \"\"\"\n",
        "    Function to test model performance\n",
        "    on testing dataset\n",
        "    \"\"\"\n",
        "    \n",
        "    predictions = model(data)\n",
        "    t_loss = loss_fn(labels, predictions)\n",
        "\n",
        "    test_loss(t_loss)\n",
        "    test_accuracy(labels, predictions)\n",
        "\n",
        "    return None\n"
      ]
    },
    {
      "cell_type": "code",
      "execution_count": null,
      "id": "387f8d45-36ac-4a31-9bd7-d28f33fac74e",
      "metadata": {
        "id": "387f8d45-36ac-4a31-9bd7-d28f33fac74e"
      },
      "outputs": [],
      "source": [
        ""
      ]
    },
    {
      "cell_type": "code",
      "execution_count": null,
      "id": "7b138ff7-5d87-4e07-a317-9c0b77292b4b",
      "metadata": {
        "id": "7b138ff7-5d87-4e07-a317-9c0b77292b4b"
      },
      "outputs": [],
      "source": [
        ""
      ]
    },
    {
      "cell_type": "code",
      "execution_count": 52,
      "id": "b2c2c8ef-a0af-4dc6-bb19-0a5283ae50d0",
      "metadata": {
        "id": "b2c2c8ef-a0af-4dc6-bb19-0a5283ae50d0"
      },
      "outputs": [],
      "source": [
        "# Python3 dict to contain model training metrics-\n",
        "history_lr = {}"
      ]
    },
    {
      "cell_type": "code",
      "execution_count": 53,
      "id": "bb6afb4a-259d-464c-8f4d-c6b64965060c",
      "metadata": {
        "colab": {
          "base_uri": "https://localhost:8080/"
        },
        "id": "bb6afb4a-259d-464c-8f4d-c6b64965060c",
        "outputId": "65a80b52-5ef7-4590-bfca-1163374f512b"
      },
      "outputs": [
        {
          "output_type": "stream",
          "name": "stdout",
          "text": [
            "ResNet-18 will be trained for 75 epochs in total\n"
          ]
        }
      ],
      "source": [
        "print(f\"ResNet-18 will be trained for {num_epochs} epochs in total\")"
      ]
    },
    {
      "cell_type": "code",
      "execution_count": null,
      "id": "3ba5c5b9-baf6-4eda-8055-4bb41b75969b",
      "metadata": {
        "id": "3ba5c5b9-baf6-4eda-8055-4bb41b75969b"
      },
      "outputs": [],
      "source": [
        ""
      ]
    },
    {
      "cell_type": "code",
      "execution_count": null,
      "id": "061c2e5e-658c-41c5-90f6-fed96934664a",
      "metadata": {
        "id": "061c2e5e-658c-41c5-90f6-fed96934664a"
      },
      "outputs": [],
      "source": [
        ""
      ]
    },
    {
      "cell_type": "code",
      "execution_count": 54,
      "id": "c039f7e4-3ea6-49ae-8880-9291be1ab894",
      "metadata": {
        "colab": {
          "base_uri": "https://localhost:8080/"
        },
        "id": "c039f7e4-3ea6-49ae-8880-9291be1ab894",
        "outputId": "62a0d280-6952-46e7-8252-a31bbd462334"
      },
      "outputs": [
        {
          "output_type": "stream",
          "name": "stdout",
          "text": [
            "\n",
            "Epoch = 1; loss = 2.1349, accuracy = 30.879%  val loss = 1.6457, val acc = 39.100% LR = 0.009985 & step_val = 390\n",
            "ResNet-18: total # of trainable parameters = 11174858\n",
            "Saving model with lowest val_loss = 1.6457\n",
            "\n",
            "\n",
            "Epoch = 2; loss = 1.5044, accuracy = 44.607%  val loss = 1.3508, val acc = 51.080% LR = 0.019969 & step_val = 780\n",
            "ResNet-18: total # of trainable parameters = 11174858\n",
            "Saving model with lowest val_loss = 1.3508\n",
            "\n",
            "\n",
            "Epoch = 3; loss = 1.3193, accuracy = 52.111%  val loss = 1.1703, val acc = 57.660% LR = 0.029954 & step_val = 1170\n",
            "ResNet-18: total # of trainable parameters = 11174858\n",
            "Saving model with lowest val_loss = 1.1703\n",
            "\n",
            "\n",
            "Epoch = 4; loss = 1.1431, accuracy = 58.976%  val loss = 1.0343, val acc = 64.120% LR = 0.039939 & step_val = 1560\n",
            "ResNet-18: total # of trainable parameters = 11174858\n",
            "Saving model with lowest val_loss = 1.0343\n",
            "\n",
            "\n",
            "Epoch = 5; loss = 1.0255, accuracy = 63.674%  val loss = 0.8789, val acc = 69.690% LR = 0.049923 & step_val = 1950\n",
            "ResNet-18: total # of trainable parameters = 11174858\n",
            "Saving model with lowest val_loss = 0.8789\n",
            "\n",
            "\n",
            "Epoch = 6; loss = 0.9187, accuracy = 67.542%  val loss = 0.8949, val acc = 69.320% LR = 0.059908 & step_val = 2340\n",
            "ResNet-18: total # of trainable parameters = 11174858\n",
            "\n",
            "Epoch = 7; loss = 0.8263, accuracy = 71.062%  val loss = 0.8571, val acc = 70.810% LR = 0.069892 & step_val = 2730\n",
            "ResNet-18: total # of trainable parameters = 11174858\n",
            "Saving model with lowest val_loss = 0.8571\n",
            "\n",
            "\n",
            "Epoch = 8; loss = 0.7543, accuracy = 73.634%  val loss = 0.6715, val acc = 77.330% LR = 0.079877 & step_val = 3120\n",
            "ResNet-18: total # of trainable parameters = 11174858\n",
            "Saving model with lowest val_loss = 0.6715\n",
            "\n",
            "\n",
            "Epoch = 9; loss = 0.7096, accuracy = 75.441%  val loss = 0.8627, val acc = 73.130% LR = 0.089862 & step_val = 3510\n",
            "ResNet-18: total # of trainable parameters = 11174858\n",
            "\n",
            "Epoch = 10; loss = 0.6743, accuracy = 76.424%  val loss = 0.6567, val acc = 78.420% LR = 0.099846 & step_val = 3900\n",
            "ResNet-18: total # of trainable parameters = 11174858\n",
            "Saving model with lowest val_loss = 0.6567\n",
            "\n",
            "\n",
            "Epoch = 11; loss = 0.6151, accuracy = 78.654%  val loss = 0.6170, val acc = 79.740% LR = 0.100000 & step_val = 4290\n",
            "ResNet-18: total # of trainable parameters = 11174858\n",
            "Saving model with lowest val_loss = 0.6170\n",
            "\n",
            "\n",
            "Epoch = 12; loss = 0.5660, accuracy = 80.230%  val loss = 0.5434, val acc = 81.940% LR = 0.100000 & step_val = 4680\n",
            "ResNet-18: total # of trainable parameters = 11174858\n",
            "Saving model with lowest val_loss = 0.5434\n",
            "\n",
            "\n",
            "Epoch = 13; loss = 0.5307, accuracy = 81.741%  val loss = 0.5048, val acc = 83.010% LR = 0.100000 & step_val = 5070\n",
            "ResNet-18: total # of trainable parameters = 11174858\n",
            "Saving model with lowest val_loss = 0.5048\n",
            "\n",
            "\n",
            "Epoch = 14; loss = 0.4921, accuracy = 83.045%  val loss = 0.4770, val acc = 83.880% LR = 0.100000 & step_val = 5460\n",
            "ResNet-18: total # of trainable parameters = 11174858\n",
            "Saving model with lowest val_loss = 0.4770\n",
            "\n",
            "\n",
            "Epoch = 15; loss = 0.4615, accuracy = 84.065%  val loss = 0.5266, val acc = 82.570% LR = 0.100000 & step_val = 5850\n",
            "ResNet-18: total # of trainable parameters = 11174858\n",
            "\n",
            "Epoch = 16; loss = 0.4442, accuracy = 84.724%  val loss = 0.5146, val acc = 83.680% LR = 0.100000 & step_val = 6240\n",
            "ResNet-18: total # of trainable parameters = 11174858\n",
            "\n",
            "Epoch = 17; loss = 0.4154, accuracy = 85.717%  val loss = 0.5473, val acc = 83.590% LR = 0.100000 & step_val = 6630\n",
            "ResNet-18: total # of trainable parameters = 11174858\n",
            "\n",
            "Epoch = 18; loss = 0.3948, accuracy = 86.326%  val loss = 0.5048, val acc = 84.090% LR = 0.100000 & step_val = 7020\n",
            "ResNet-18: total # of trainable parameters = 11174858\n",
            "\n",
            "Epoch = 19; loss = 0.3780, accuracy = 86.831%  val loss = 0.4279, val acc = 86.240% LR = 0.100000 & step_val = 7410\n",
            "ResNet-18: total # of trainable parameters = 11174858\n",
            "Saving model with lowest val_loss = 0.4279\n",
            "\n",
            "\n",
            "Epoch = 20; loss = 0.3598, accuracy = 87.468%  val loss = 0.4555, val acc = 85.510% LR = 0.100000 & step_val = 7800\n",
            "ResNet-18: total # of trainable parameters = 11174858\n",
            "\n",
            "Epoch = 21; loss = 0.3446, accuracy = 88.125%  val loss = 0.4226, val acc = 85.980% LR = 0.100000 & step_val = 8190\n",
            "ResNet-18: total # of trainable parameters = 11174858\n",
            "Saving model with lowest val_loss = 0.4226\n",
            "\n",
            "\n",
            "Epoch = 22; loss = 0.3310, accuracy = 88.411%  val loss = 0.4072, val acc = 86.970% LR = 0.100000 & step_val = 8580\n",
            "ResNet-18: total # of trainable parameters = 11174858\n",
            "Saving model with lowest val_loss = 0.4072\n",
            "\n",
            "\n",
            "Epoch = 23; loss = 0.3090, accuracy = 89.179%  val loss = 0.4312, val acc = 86.320% LR = 0.100000 & step_val = 8970\n",
            "ResNet-18: total # of trainable parameters = 11174858\n",
            "\n",
            "Epoch = 24; loss = 0.2991, accuracy = 89.605%  val loss = 0.4214, val acc = 87.280% LR = 0.100000 & step_val = 9360\n",
            "ResNet-18: total # of trainable parameters = 11174858\n",
            "\n",
            "Epoch = 25; loss = 0.2883, accuracy = 90.054%  val loss = 0.4445, val acc = 86.010% LR = 0.100000 & step_val = 9750\n",
            "ResNet-18: total # of trainable parameters = 11174858\n",
            "\n",
            "Epoch = 26; loss = 0.2755, accuracy = 90.363%  val loss = 0.4166, val acc = 86.570% LR = 0.100000 & step_val = 10140\n",
            "ResNet-18: total # of trainable parameters = 11174858\n",
            "\n",
            "Epoch = 27; loss = 0.2708, accuracy = 90.631%  val loss = 0.4400, val acc = 86.820% LR = 0.100000 & step_val = 10530\n",
            "ResNet-18: total # of trainable parameters = 11174858\n",
            "\n",
            "Epoch = 28; loss = 0.2578, accuracy = 90.927%  val loss = 0.3894, val acc = 87.800% LR = 0.100000 & step_val = 10920\n",
            "ResNet-18: total # of trainable parameters = 11174858\n",
            "Saving model with lowest val_loss = 0.3894\n",
            "\n",
            "\n",
            "Epoch = 29; loss = 0.2482, accuracy = 91.184%  val loss = 0.4086, val acc = 87.600% LR = 0.100000 & step_val = 11310\n",
            "ResNet-18: total # of trainable parameters = 11174858\n",
            "\n",
            "Epoch = 30; loss = 0.2380, accuracy = 91.653%  val loss = 0.3906, val acc = 87.800% LR = 0.100000 & step_val = 11700\n",
            "ResNet-18: total # of trainable parameters = 11174858\n",
            "\n",
            "Epoch = 31; loss = 0.2353, accuracy = 91.889%  val loss = 0.3899, val acc = 88.050% LR = 0.100000 & step_val = 12090\n",
            "ResNet-18: total # of trainable parameters = 11174858\n",
            "\n",
            "Epoch = 32; loss = 0.2289, accuracy = 92.053%  val loss = 0.4156, val acc = 87.650% LR = 0.100000 & step_val = 12480\n",
            "ResNet-18: total # of trainable parameters = 11174858\n",
            "\n",
            "Epoch = 33; loss = 0.2187, accuracy = 92.410%  val loss = 0.3907, val acc = 88.030% LR = 0.100000 & step_val = 12870\n",
            "ResNet-18: total # of trainable parameters = 11174858\n",
            "\n",
            "Epoch = 34; loss = 0.2094, accuracy = 92.636%  val loss = 0.4137, val acc = 87.430% LR = 0.100000 & step_val = 13260\n",
            "ResNet-18: total # of trainable parameters = 11174858\n",
            "\n",
            "Epoch = 35; loss = 0.2087, accuracy = 92.843%  val loss = 0.3850, val acc = 88.560% LR = 0.100000 & step_val = 13650\n",
            "ResNet-18: total # of trainable parameters = 11174858\n",
            "Saving model with lowest val_loss = 0.3850\n",
            "\n",
            "\n",
            "Epoch = 36; loss = 0.1978, accuracy = 93.041%  val loss = 0.3865, val acc = 88.610% LR = 0.100000 & step_val = 14040\n",
            "ResNet-18: total # of trainable parameters = 11174858\n",
            "\n",
            "Epoch = 37; loss = 0.1948, accuracy = 93.111%  val loss = 0.4204, val acc = 87.730% LR = 0.100000 & step_val = 14430\n",
            "ResNet-18: total # of trainable parameters = 11174858\n",
            "\n",
            "Epoch = 38; loss = 0.1928, accuracy = 93.203%  val loss = 0.4150, val acc = 88.130% LR = 0.100000 & step_val = 14820\n",
            "ResNet-18: total # of trainable parameters = 11174858\n",
            "\n",
            "Epoch = 39; loss = 0.1823, accuracy = 93.660%  val loss = 0.3967, val acc = 88.330% LR = 0.100000 & step_val = 15210\n",
            "ResNet-18: total # of trainable parameters = 11174858\n",
            "\n",
            "Epoch = 40; loss = 0.1787, accuracy = 93.776%  val loss = 0.4154, val acc = 88.420% LR = 0.100000 & step_val = 15600\n",
            "ResNet-18: total # of trainable parameters = 11174858\n",
            "\n",
            "Epoch = 41; loss = 0.1162, accuracy = 95.958%  val loss = 0.3712, val acc = 90.030% LR = 0.010000 & step_val = 15990\n",
            "ResNet-18: total # of trainable parameters = 11174858\n",
            "Saving model with lowest val_loss = 0.3712\n",
            "\n",
            "\n",
            "Epoch = 42; loss = 0.0874, accuracy = 96.905%  val loss = 0.3510, val acc = 90.480% LR = 0.010000 & step_val = 16380\n",
            "ResNet-18: total # of trainable parameters = 11174858\n",
            "Saving model with lowest val_loss = 0.3510\n",
            "\n",
            "\n",
            "Epoch = 43; loss = 0.0791, accuracy = 97.262%  val loss = 0.3500, val acc = 90.760% LR = 0.010000 & step_val = 16770\n",
            "ResNet-18: total # of trainable parameters = 11174858\n",
            "Saving model with lowest val_loss = 0.3500\n",
            "\n",
            "\n",
            "Epoch = 44; loss = 0.0738, accuracy = 97.384%  val loss = 0.3609, val acc = 90.640% LR = 0.010000 & step_val = 17160\n",
            "ResNet-18: total # of trainable parameters = 11174858\n",
            "\n",
            "Epoch = 45; loss = 0.0685, accuracy = 97.580%  val loss = 0.3686, val acc = 90.900% LR = 0.010000 & step_val = 17550\n",
            "ResNet-18: total # of trainable parameters = 11174858\n",
            "\n",
            "Epoch = 46; loss = 0.0653, accuracy = 97.742%  val loss = 0.3693, val acc = 90.810% LR = 0.010000 & step_val = 17940\n",
            "ResNet-18: total # of trainable parameters = 11174858\n",
            "\n",
            "Epoch = 47; loss = 0.0651, accuracy = 97.754%  val loss = 0.3460, val acc = 91.150% LR = 0.010000 & step_val = 18330\n",
            "ResNet-18: total # of trainable parameters = 11174858\n",
            "Saving model with lowest val_loss = 0.3460\n",
            "\n",
            "\n",
            "Epoch = 48; loss = 0.0590, accuracy = 97.963%  val loss = 0.3826, val acc = 90.700% LR = 0.010000 & step_val = 18720\n",
            "ResNet-18: total # of trainable parameters = 11174858\n",
            "\n",
            "Epoch = 49; loss = 0.0571, accuracy = 98.045%  val loss = 0.3900, val acc = 90.460% LR = 0.010000 & step_val = 19110\n",
            "ResNet-18: total # of trainable parameters = 11174858\n",
            "\n",
            "Epoch = 50; loss = 0.0557, accuracy = 98.089%  val loss = 0.3941, val acc = 90.730% LR = 0.010000 & step_val = 19500\n",
            "ResNet-18: total # of trainable parameters = 11174858\n",
            "\n",
            "Epoch = 51; loss = 0.0562, accuracy = 98.055%  val loss = 0.3777, val acc = 91.080% LR = 0.010000 & step_val = 19890\n",
            "ResNet-18: total # of trainable parameters = 11174858\n",
            "\n",
            "Epoch = 52; loss = 0.0515, accuracy = 98.197%  val loss = 0.3844, val acc = 90.770% LR = 0.010000 & step_val = 20280\n",
            "ResNet-18: total # of trainable parameters = 11174858\n",
            "\n",
            "Epoch = 53; loss = 0.0480, accuracy = 98.369%  val loss = 0.3979, val acc = 90.690% LR = 0.010000 & step_val = 20670\n",
            "ResNet-18: total # of trainable parameters = 11174858\n",
            "\n",
            "Epoch = 54; loss = 0.0482, accuracy = 98.291%  val loss = 0.3921, val acc = 90.880% LR = 0.010000 & step_val = 21060\n",
            "ResNet-18: total # of trainable parameters = 11174858\n",
            "\n",
            "Epoch = 55; loss = 0.0471, accuracy = 98.353%  val loss = 0.3874, val acc = 90.990% LR = 0.010000 & step_val = 21450\n",
            "ResNet-18: total # of trainable parameters = 11174858\n",
            "\n",
            "Epoch = 56; loss = 0.0456, accuracy = 98.401%  val loss = 0.3943, val acc = 90.980% LR = 0.010000 & step_val = 21840\n",
            "ResNet-18: total # of trainable parameters = 11174858\n",
            "\n",
            "Epoch = 57; loss = 0.0440, accuracy = 98.456%  val loss = 0.4012, val acc = 91.030% LR = 0.010000 & step_val = 22230\n",
            "ResNet-18: total # of trainable parameters = 11174858\n",
            "\n",
            "Epoch = 58; loss = 0.0434, accuracy = 98.466%  val loss = 0.3920, val acc = 91.030% LR = 0.010000 & step_val = 22620\n",
            "ResNet-18: total # of trainable parameters = 11174858\n",
            "\n",
            "Epoch = 59; loss = 0.0401, accuracy = 98.636%  val loss = 0.3988, val acc = 90.990% LR = 0.010000 & step_val = 23010\n",
            "ResNet-18: total # of trainable parameters = 11174858\n",
            "\n",
            "Epoch = 60; loss = 0.0402, accuracy = 98.610%  val loss = 0.4051, val acc = 91.020% LR = 0.010000 & step_val = 23400\n",
            "ResNet-18: total # of trainable parameters = 11174858\n",
            "\n",
            "Epoch = 61; loss = 0.0376, accuracy = 98.772%  val loss = 0.3955, val acc = 91.240% LR = 0.001000 & step_val = 23790\n",
            "ResNet-18: total # of trainable parameters = 11174858\n",
            "\n",
            "Epoch = 62; loss = 0.0352, accuracy = 98.808%  val loss = 0.3988, val acc = 91.250% LR = 0.001000 & step_val = 24180\n",
            "ResNet-18: total # of trainable parameters = 11174858\n",
            "\n",
            "Epoch = 63; loss = 0.0364, accuracy = 98.732%  val loss = 0.4030, val acc = 91.170% LR = 0.001000 & step_val = 24570\n",
            "ResNet-18: total # of trainable parameters = 11174858\n",
            "\n",
            "Epoch = 64; loss = 0.0360, accuracy = 98.722%  val loss = 0.4002, val acc = 91.120% LR = 0.001000 & step_val = 24960\n",
            "ResNet-18: total # of trainable parameters = 11174858\n",
            "\n",
            "Epoch = 65; loss = 0.0378, accuracy = 98.744%  val loss = 0.3998, val acc = 91.180% LR = 0.001000 & step_val = 25350\n",
            "ResNet-18: total # of trainable parameters = 11174858\n",
            "\n",
            "Epoch = 66; loss = 0.0361, accuracy = 98.754%  val loss = 0.3984, val acc = 91.260% LR = 0.001000 & step_val = 25740\n",
            "ResNet-18: total # of trainable parameters = 11174858\n",
            "\n",
            "Epoch = 67; loss = 0.0344, accuracy = 98.820%  val loss = 0.3998, val acc = 91.180% LR = 0.001000 & step_val = 26130\n",
            "ResNet-18: total # of trainable parameters = 11174858\n",
            "\n",
            "Epoch = 68; loss = 0.0359, accuracy = 98.792%  val loss = 0.4021, val acc = 91.100% LR = 0.001000 & step_val = 26520\n",
            "ResNet-18: total # of trainable parameters = 11174858\n",
            "\n",
            "Epoch = 69; loss = 0.0319, accuracy = 98.854%  val loss = 0.4040, val acc = 91.250% LR = 0.001000 & step_val = 26910\n",
            "ResNet-18: total # of trainable parameters = 11174858\n",
            "\n",
            "Epoch = 70; loss = 0.0341, accuracy = 98.842%  val loss = 0.4005, val acc = 91.240% LR = 0.001000 & step_val = 27300\n",
            "ResNet-18: total # of trainable parameters = 11174858\n",
            "\n",
            "Epoch = 71; loss = 0.0317, accuracy = 98.896%  val loss = 0.4040, val acc = 91.180% LR = 0.000100 & step_val = 27690\n",
            "ResNet-18: total # of trainable parameters = 11174858\n",
            "\n",
            "Epoch = 72; loss = 0.0333, accuracy = 98.844%  val loss = 0.4033, val acc = 91.180% LR = 0.000100 & step_val = 28080\n",
            "ResNet-18: total # of trainable parameters = 11174858\n",
            "\n",
            "Epoch = 73; loss = 0.0347, accuracy = 98.790%  val loss = 0.4034, val acc = 91.190% LR = 0.000100 & step_val = 28470\n",
            "ResNet-18: total # of trainable parameters = 11174858\n",
            "\n",
            "Epoch = 74; loss = 0.0351, accuracy = 98.816%  val loss = 0.4045, val acc = 91.180% LR = 0.000100 & step_val = 28860\n",
            "ResNet-18: total # of trainable parameters = 11174858\n",
            "\n",
            "Epoch = 75; loss = 0.0330, accuracy = 98.906%  val loss = 0.4045, val acc = 91.200% LR = 0.000100 & step_val = 29250\n",
            "ResNet-18: total # of trainable parameters = 11174858\n"
          ]
        }
      ],
      "source": [
        "for epoch in range(num_epochs):\n",
        "    '''\n",
        "    if loc_patience >= patience:\n",
        "        print(\"\\n'EarlyStopping' called!\\n\")\n",
        "        break\n",
        "    '''\n",
        "    \n",
        "    # Reset the metrics at the start of the next epoch\n",
        "    train_loss.reset_states()\n",
        "    train_accuracy.reset_states()\n",
        "    test_loss.reset_states()\n",
        "    test_accuracy.reset_states()\n",
        "    \n",
        "    # variable to keep track of current training step-\n",
        "    curr_step = 0\n",
        "    \n",
        "    # Train using data augmentation (ImageDataGenerator())-\n",
        "    for x, y in datagen.flow(X_train, y_train, batch_size = batch_size, shuffle = True):\n",
        "        train_one_step(model, mask_model, optimizer, x, y)\n",
        "        # print(\"current step = \", curr_step)\n",
        "        curr_step += 1\n",
        "        \n",
        "        # break out of infinite loop to end current training epoch-\n",
        "        if curr_step >= X_train.shape[0] // batch_size:\n",
        "            # print(\"\\nTerminating training (datagen.flow())\")\n",
        "            break\n",
        "\n",
        "    # Testing dataset-\n",
        "    for x_t, y_t in test_dataset:\n",
        "        test_step(model, optimizer, x_t, y_t)\n",
        "    \n",
        "    print(f\"\\nEpoch = {epoch + 1}; loss = {train_loss.result().numpy():.4f}, accuracy = {train_accuracy.result().numpy() * 100:.3f}%\",\n",
        "          f\" val loss = {test_loss.result().numpy():.4f}, val acc = {test_accuracy.result().numpy() * 100:.3f}%\"\n",
        "          f\" LR = {optimizer._decayed_lr('float32').numpy():.6f} & step_val = {optimizer.iterations.numpy()}\"\n",
        "         )\n",
        "    \n",
        "    history_lr[epoch + 1] = {\n",
        "        'loss': train_loss.result().numpy(), 'acc': train_accuracy.result().numpy() * 100,\n",
        "        'val_loss': test_loss.result().numpy(), 'val_acc': test_accuracy.result().numpy() * 100,\n",
        "        'lr': optimizer._decayed_lr('float32').numpy(), 'step_val': optimizer.iterations.numpy()\n",
        "    }\n",
        "\n",
        "    # Count number of non-zero parameters in each layer and in total-\n",
        "    print(f\"ResNet-18: total # of trainable parameters = {count_params(model)}\")\n",
        "    \n",
        "    # Insert manual implementation of code for early stopping here.\n",
        "    \n",
        "    \n",
        "    # Save best weights achieved until now-\n",
        "    if (test_loss.result() < best_val_loss):    \n",
        "        # update 'best_val_loss' variable to lowest loss encountered so far-\n",
        "        best_val_loss = test_loss.result()\n",
        "        \n",
        "        print(f\"Saving model with lowest val_loss = {test_loss.result():.4f}\\n\")\n",
        "        \n",
        "        # Save trained model with validation accuracy-\n",
        "        model.save_weights(\"ResNet18_best_trained_loss.h5\", overwrite = True)\n",
        "   "
      ]
    },
    {
      "cell_type": "code",
      "execution_count": null,
      "id": "9550a194-6a81-4450-9c70-a1feac8b7108",
      "metadata": {
        "id": "9550a194-6a81-4450-9c70-a1feac8b7108"
      },
      "outputs": [],
      "source": [
        ""
      ]
    },
    {
      "cell_type": "code",
      "execution_count": null,
      "id": "e0100d52-a9d0-4295-aa2f-e72b38b15013",
      "metadata": {
        "id": "e0100d52-a9d0-4295-aa2f-e72b38b15013"
      },
      "outputs": [],
      "source": [
        ""
      ]
    },
    {
      "cell_type": "code",
      "execution_count": 58,
      "id": "31d46f89-7787-4953-be58-e1f6ee7fdf87",
      "metadata": {
        "id": "31d46f89-7787-4953-be58-e1f6ee7fdf87"
      },
      "outputs": [],
      "source": [
        "# Last epoch trained parameters-\n",
        "model.save_weights(\"ResNet18_best_trained_weights.h5\", overwrite = True)"
      ]
    },
    {
      "cell_type": "code",
      "execution_count": null,
      "id": "5ab43664-dfee-444a-a882-69956f87041e",
      "metadata": {
        "id": "5ab43664-dfee-444a-a882-69956f87041e"
      },
      "outputs": [],
      "source": [
        ""
      ]
    },
    {
      "cell_type": "code",
      "execution_count": 59,
      "id": "cc221d0b-3018-4afb-b1a2-f4c009ac687f",
      "metadata": {
        "colab": {
          "base_uri": "https://localhost:8080/"
        },
        "id": "cc221d0b-3018-4afb-b1a2-f4c009ac687f",
        "outputId": "1ad532df-f4fd-4a33-f71f-333600732df2"
      },
      "outputs": [
        {
          "output_type": "stream",
          "name": "stdout",
          "text": [
            "\n",
            "Finished training ResNet-18 CNN\n",
            "\n"
          ]
        }
      ],
      "source": [
        "print(\"\\nFinished training ResNet-18 CNN\\n\")"
      ]
    },
    {
      "cell_type": "code",
      "execution_count": null,
      "id": "92543c8b-415c-4252-b849-e0a7d7a0834d",
      "metadata": {
        "id": "92543c8b-415c-4252-b849-e0a7d7a0834d"
      },
      "outputs": [],
      "source": [
        ""
      ]
    },
    {
      "cell_type": "code",
      "execution_count": 60,
      "id": "94047237-ddcd-4432-90d2-060abcf67b2c",
      "metadata": {
        "colab": {
          "base_uri": "https://localhost:8080/"
        },
        "id": "94047237-ddcd-4432-90d2-060abcf67b2c",
        "outputId": "a0e7c5d5-d85b-479e-ccab-40398604d0d8"
      },
      "outputs": [
        {
          "output_type": "execute_result",
          "data": {
            "text/plain": [
              "dict_keys([1, 2, 3, 4, 5, 6, 7, 8, 9, 10, 11, 12, 13, 14, 15, 16, 17, 18, 19, 20, 21, 22, 23, 24, 25, 26, 27, 28, 29, 30, 31, 32, 33, 34, 35, 36, 37, 38, 39, 40, 41, 42, 43, 44, 45, 46, 47, 48, 49, 50, 51, 52, 53, 54, 55, 56, 57, 58, 59, 60, 61, 62, 63, 64, 65, 66, 67, 68, 69, 70, 71, 72, 73, 74, 75])"
            ]
          },
          "metadata": {},
          "execution_count": 60
        }
      ],
      "source": [
        "# Sanity check for Python3 dict containing training metrics\n",
        "# as nested dictionaries-\n",
        "history_lr.keys()"
      ]
    },
    {
      "cell_type": "code",
      "execution_count": 61,
      "id": "9a8e1b02-0cb2-4360-8125-ac5764c4050a",
      "metadata": {
        "colab": {
          "base_uri": "https://localhost:8080/"
        },
        "id": "9a8e1b02-0cb2-4360-8125-ac5764c4050a",
        "outputId": "17fbb9c0-5d2b-478c-9d59-5380696b1a28"
      },
      "outputs": [
        {
          "output_type": "execute_result",
          "data": {
            "text/plain": [
              "dict_keys(['loss', 'acc', 'val_loss', 'val_acc', 'lr', 'step_val'])"
            ]
          },
          "metadata": {},
          "execution_count": 61
        }
      ],
      "source": [
        "history_lr[10].keys()"
      ]
    },
    {
      "cell_type": "code",
      "execution_count": 62,
      "id": "9d96f5e0-cc30-4827-896d-9b7e4c16a3e8",
      "metadata": {
        "colab": {
          "base_uri": "https://localhost:8080/"
        },
        "id": "9d96f5e0-cc30-4827-896d-9b7e4c16a3e8",
        "outputId": "f2415223-c0a1-4dc3-8159-3a67270403d4"
      },
      "outputs": [
        {
          "output_type": "execute_result",
          "data": {
            "text/plain": [
              "(78.42000126838684, 76.42427682876587)"
            ]
          },
          "metadata": {},
          "execution_count": 62
        }
      ],
      "source": [
        "history_lr[10]['val_acc'], history_lr[10]['acc']"
      ]
    },
    {
      "cell_type": "code",
      "execution_count": 63,
      "id": "8e9aac50-6e54-4886-95de-7c108d4daaa0",
      "metadata": {
        "colab": {
          "base_uri": "https://localhost:8080/"
        },
        "id": "8e9aac50-6e54-4886-95de-7c108d4daaa0",
        "outputId": "dbc084f3-4c09-4864-ce6f-d8257647017a"
      },
      "outputs": [
        {
          "output_type": "execute_result",
          "data": {
            "text/plain": [
              "(0.6743152, 0.65665966)"
            ]
          },
          "metadata": {},
          "execution_count": 63
        }
      ],
      "source": [
        "history_lr[10]['loss'], history_lr[10]['val_loss']"
      ]
    },
    {
      "cell_type": "code",
      "execution_count": 64,
      "id": "cc940c23-e063-4722-a4bd-4cd55576055a",
      "metadata": {
        "colab": {
          "base_uri": "https://localhost:8080/"
        },
        "id": "cc940c23-e063-4722-a4bd-4cd55576055a",
        "outputId": "00c65be0-8f0b-41e8-de96-7c143349a53b"
      },
      "outputs": [
        {
          "output_type": "execute_result",
          "data": {
            "text/plain": [
              "0.099846385"
            ]
          },
          "metadata": {},
          "execution_count": 64
        }
      ],
      "source": [
        "history_lr[10]['lr']"
      ]
    },
    {
      "cell_type": "code",
      "execution_count": null,
      "id": "242a6e10-45b9-450d-82bf-6f34c7474c6f",
      "metadata": {
        "id": "242a6e10-45b9-450d-82bf-6f34c7474c6f"
      },
      "outputs": [],
      "source": [
        ""
      ]
    },
    {
      "cell_type": "code",
      "execution_count": 65,
      "id": "a0765e3e-72fa-404e-87bd-ae715dfe0c0b",
      "metadata": {
        "id": "a0765e3e-72fa-404e-87bd-ae715dfe0c0b"
      },
      "outputs": [],
      "source": [
        "import pickle\n",
        "\n",
        "# Save metrics for later analysis-\n",
        "with open(\"ResNet18_training_history_lr_scheduler.pkl\", \"wb\") as file:\n",
        "    pickle.dump(history_lr, file)\n"
      ]
    },
    {
      "cell_type": "code",
      "execution_count": null,
      "id": "2a0d6275-c250-4a24-9849-60a37e2cd4f6",
      "metadata": {
        "id": "2a0d6275-c250-4a24-9849-60a37e2cd4f6"
      },
      "outputs": [],
      "source": [
        ""
      ]
    },
    {
      "cell_type": "code",
      "execution_count": null,
      "id": "dc6b0507-35a2-4b1f-b1a2-fdcba6dc8ade",
      "metadata": {
        "id": "dc6b0507-35a2-4b1f-b1a2-fdcba6dc8ade"
      },
      "outputs": [],
      "source": [
        ""
      ]
    },
    {
      "cell_type": "markdown",
      "id": "bce1335e-bbe2-4c20-99bb-4f6ee984d6aa",
      "metadata": {
        "id": "bce1335e-bbe2-4c20-99bb-4f6ee984d6aa"
      },
      "source": [
        "### ResNet-18 - Training Visualizations:"
      ]
    },
    {
      "cell_type": "code",
      "execution_count": 66,
      "id": "502c361f-820a-42d2-a349-abb6f97122f4",
      "metadata": {
        "colab": {
          "base_uri": "https://localhost:8080/",
          "height": 458
        },
        "id": "502c361f-820a-42d2-a349-abb6f97122f4",
        "outputId": "14d1fbe7-3332-4fb6-ceb5-62a2ab8cbc99"
      },
      "outputs": [
        {
          "output_type": "display_data",
          "data": {
            "text/plain": [
              "<Figure size 648x504 with 1 Axes>"
            ],
            "image/png": "[encoded data removed]"
          },
          "metadata": {
            "needs_background": "light"
          }
        }
      ],
      "source": [
        "# Visualize accuracies-\n",
        "plt.figure(figsize = (9, 7))\n",
        "plt.plot(list(history_lr.keys()), [history_lr[x]['val_acc'] for x in history_lr.keys()], label = 'val_acc')\n",
        "plt.plot(list(history_lr.keys()), [history_lr[x]['acc'] for x in history_lr.keys()], label = 'acc')\n",
        "plt.title(\"ResNet-18: Training Visualization - Accuracy\")\n",
        "plt.xlabel(\"epochs\")\n",
        "plt.ylabel(\"accuracy (%)\")\n",
        "plt.legend(loc = 'best')\n",
        "plt.show()"
      ]
    },
    {
      "cell_type": "code",
      "execution_count": 67,
      "id": "0af58a62-a65c-44f6-b3ce-e0c1e2008f00",
      "metadata": {
        "colab": {
          "base_uri": "https://localhost:8080/",
          "height": 458
        },
        "id": "0af58a62-a65c-44f6-b3ce-e0c1e2008f00",
        "outputId": "10bc6032-ebb0-47ed-de00-5f050a2b163f"
      },
      "outputs": [
        {
          "output_type": "display_data",
          "data": {
            "text/plain": [
              "<Figure size 648x504 with 1 Axes>"
            ],
            "image/png": "[encoded data removed]"
          },
          "metadata": {
            "needs_background": "light"
          }
        }
      ],
      "source": [
        "# Visualize losses-\n",
        "plt.figure(figsize = (9, 7))\n",
        "plt.plot(list(history_lr.keys()), [history_lr[x]['val_loss'] for x in history_lr.keys()], label = 'val_loss')\n",
        "plt.plot(list(history_lr.keys()), [history_lr[x]['loss'] for x in history_lr.keys()], label = 'loss')\n",
        "plt.title(\"ResNet-18: Training Visualization - Loss\")\n",
        "plt.xlabel(\"epochs\")\n",
        "plt.ylabel(\"loss\")\n",
        "plt.legend(loc = 'best')\n",
        "plt.show()"
      ]
    },
    {
      "cell_type": "code",
      "execution_count": null,
      "id": "1f060b14-b1e3-41e7-b450-e334a127ff86",
      "metadata": {
        "id": "1f060b14-b1e3-41e7-b450-e334a127ff86"
      },
      "outputs": [],
      "source": [
        ""
      ]
    },
    {
      "cell_type": "code",
      "execution_count": 68,
      "id": "4de54ca2-ee43-4652-80bf-f073fa33a401",
      "metadata": {
        "colab": {
          "base_uri": "https://localhost:8080/",
          "height": 458
        },
        "id": "4de54ca2-ee43-4652-80bf-f073fa33a401",
        "outputId": "20ac6e2e-7ed7-42e2-ecd4-81a76ea5e1a2"
      },
      "outputs": [
        {
          "output_type": "display_data",
          "data": {
            "text/plain": [
              "<Figure size 648x504 with 1 Axes>"
            ],
            "image/png": "[encoded data removed]"
          },
          "metadata": {
            "needs_background": "light"
          }
        }
      ],
      "source": [
        "# Visualize learning rate during training-\n",
        "plt.figure(figsize = (9, 7))\n",
        "plt.plot(list(history_lr.keys()), [history_lr[x]['lr'] for x in history_lr.keys()])\n",
        "plt.title(\"ResNet-18: Learning Rate Warmup & Step-Decay (SGD)\")\n",
        "plt.xlabel(\"epochs\")\n",
        "plt.ylabel(\"LR\")\n",
        "plt.show()"
      ]
    },
    {
      "cell_type": "code",
      "execution_count": null,
      "id": "f552ab03-8adf-4c9f-9769-25c941765638",
      "metadata": {
        "id": "f552ab03-8adf-4c9f-9769-25c941765638"
      },
      "outputs": [],
      "source": [
        ""
      ]
    },
    {
      "cell_type": "code",
      "execution_count": 57,
      "id": "d450d025-a0de-4f58-89de-a44ec9e010e0",
      "metadata": {
        "id": "d450d025-a0de-4f58-89de-a44ec9e010e0"
      },
      "outputs": [],
      "source": [
        ""
      ]
    },
    {
      "cell_type": "code",
      "source": [
        "# Sanity check: Initialize & load best weights model-\n",
        "best_model = resnet_18()\n",
        "best_model.build(input_shape = (None, 32, 32, 3))\n",
        "\n",
        "best_model.load_weights(\"ResNet18_best_trained_weights.h5\")"
      ],
      "metadata": {
        "id": "vk7qXrWTEsaV"
      },
      "id": "vk7qXrWTEsaV",
      "execution_count": 69,
      "outputs": []
    },
    {
      "cell_type": "code",
      "source": [
        "# Compile model-\n",
        "best_model.compile(\n",
        "    loss=tf.keras.losses.categorical_crossentropy,\n",
        "    optimizer = tf.keras.optimizers.SGD(learning_rate = warmup_shcedule, momentum = 0.9, decay = 0.0, nesterov = False),\n",
        "    # optimizer = tf.keras.optimizers.SGD(learning_rate = 0.01, momentum = 0.9),\n",
        "    metrics=['accuracy']\n",
        ")"
      ],
      "metadata": {
        "id": "IVfwLIngE1Yg"
      },
      "id": "IVfwLIngE1Yg",
      "execution_count": 70,
      "outputs": []
    },
    {
      "cell_type": "code",
      "source": [
        "# Evaluate trained model's validation loss and validation accuracy on validation dataset-\n",
        "loss, acc = best_model.evaluate(X_test, y_test, verbose = 0)"
      ],
      "metadata": {
        "id": "lErD3VhKEuHu"
      },
      "id": "lErD3VhKEuHu",
      "execution_count": 71,
      "outputs": []
    },
    {
      "cell_type": "code",
      "source": [
        "print(\"\\nTrained ResNet-18 CNN model metrics on validation dataset:\")\n",
        "print(f\"loss = {loss:.4f} & accuracy = {acc * 100:.2f}%\")"
      ],
      "metadata": {
        "colab": {
          "base_uri": "https://localhost:8080/"
        },
        "id": "5Fe3EmmkEuYf",
        "outputId": "2b09dda6-cbe9-4ac2-a01d-f190d4c12b4a"
      },
      "id": "5Fe3EmmkEuYf",
      "execution_count": 72,
      "outputs": [
        {
          "output_type": "stream",
          "name": "stdout",
          "text": [
            "\n",
            "Trained ResNet-18 CNN model metrics on validation dataset:\n",
            "loss = 0.4007 & accuracy = 91.20%\n"
          ]
        }
      ]
    },
    {
      "cell_type": "code",
      "source": [
        ""
      ],
      "metadata": {
        "id": "-1W-QMkTEwWo"
      },
      "id": "-1W-QMkTEwWo",
      "execution_count": null,
      "outputs": []
    },
    {
      "cell_type": "code",
      "source": [
        ""
      ],
      "metadata": {
        "id": "_Vugi5bwEwaY"
      },
      "id": "_Vugi5bwEwaY",
      "execution_count": null,
      "outputs": []
    }
  ],
  "metadata": {
    "kernelspec": {
      "display_name": "Python 3 (ipykernel)",
      "language": "python",
      "name": "python3"
    },
    "language_info": {
      "codemirror_mode": {
        "name": "ipython",
        "version": 3
      },
      "file_extension": ".py",
      "mimetype": "text/x-python",
      "name": "python",
      "nbconvert_exporter": "python",
      "pygments_lexer": "ipython3",
      "version": "3.9.7"
    },
    "colab": {
      "name": "ResNet-18_CIFAR10_TF2.ipynb",
      "provenance": [],
      "collapsed_sections": []
    },
    "accelerator": "GPU"
  },
  "nbformat": 4,
  "nbformat_minor": 5
}