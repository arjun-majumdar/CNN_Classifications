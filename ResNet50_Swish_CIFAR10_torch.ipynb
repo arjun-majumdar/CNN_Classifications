{
 "cells": [
  {
   "cell_type": "markdown",
   "id": "7628cb51-ec9d-4d38-adcb-f36678bde2ee",
   "metadata": {},
   "source": [
    "# ResNet-50: CIFAR-10\n",
    "\n",
    "- Trained with Swish activation function: $f(x) = \\frac{x}{1 + e^{-\\beta \\cdot x}}$, where $\\beta$ is a trainable hyper-parameter. Or, $f(x) = x \\cdot sigmoid(\\beta \\cdot x)$.\n",
    "- Linear learning-rate warmup, followed by step-decays."
   ]
  },
  {
   "cell_type": "code",
   "execution_count": 1,
   "id": "afa812dd-961b-4ce1-a422-cba4c98802b3",
   "metadata": {},
   "outputs": [
    {
     "name": "stdout",
     "output_type": "stream",
     "text": [
      "env: CUDA_DEVICE_ORDER=PCI_BUS_ID\n",
      "env: CUDA_VISIBLE_DEVICES=0, 1\n"
     ]
    }
   ],
   "source": [
    "# Specify GPU to be used-\n",
    "%env CUDA_DEVICE_ORDER = PCI_BUS_ID\n",
    "'''\n",
    "Specify GPU(s) to be used here. Say you have 6 GPUs and you want to train Model A on 2 of them\n",
    "and Model B on 4 of them. You can do that as follows-\n",
    "CUDA_VISIBLE_DEVICES=0,1 python model_A.py\n",
    "CUDA_VISIBLE_DEVICES=2,3,4,5 python model_B.py\n",
    "'''\n",
    "# %env CUDA_VISIBLE_DEVICES = 0, 1, 2, 3\n",
    "%env CUDA_VISIBLE_DEVICES = 0, 1"
   ]
  },
  {
   "cell_type": "code",
   "execution_count": 2,
   "id": "812af13d-b8da-4d23-b681-30acc2dfe249",
   "metadata": {},
   "outputs": [],
   "source": [
    "import torch\n",
    "import torch.nn as nn\n",
    "import torch.nn.functional as F\n",
    "\n",
    "from resnet_bottleneck_block import resnet_block, ResNet50\n",
    "from cifar10_dataloader import get_cifar10_data\n",
    "from tqdm import tqdm\n",
    "from tqdm import trange\n",
    "import matplotlib.pyplot as plt\n",
    "import numpy as np\n",
    "import os, pickle"
   ]
  },
  {
   "cell_type": "code",
   "execution_count": null,
   "id": "d36f79d8-754c-4252-97b9-7cad852a5ba1",
   "metadata": {},
   "outputs": [],
   "source": []
  },
  {
   "cell_type": "code",
   "execution_count": null,
   "id": "9cdcd502-a70d-41a3-b7d9-2d4eacbffe1f",
   "metadata": {},
   "outputs": [],
   "source": []
  },
  {
   "cell_type": "code",
   "execution_count": 3,
   "id": "bb58e0e3-3ee5-4404-9de4-828b3ea81536",
   "metadata": {},
   "outputs": [
    {
     "name": "stdout",
     "output_type": "stream",
     "text": [
      "torch version: 1.13.1\n",
      "Number of GPU(s) available = 2\n",
      "Current GPU: 0\n",
      "Current GPU name: NVIDIA TITAN RTX\n",
      "Available device is cuda\n"
     ]
    }
   ],
   "source": [
    "print(f\"torch version: {torch.__version__}\")\n",
    "\n",
    "\n",
    "# Check if there are multiple devices (i.e., GPU cards)-\n",
    "print(f\"Number of GPU(s) available = {torch.cuda.device_count()}\")\n",
    "\n",
    "if torch.cuda.is_available():\n",
    "    print(f\"Current GPU: {torch.cuda.current_device()}\")\n",
    "    print(f\"Current GPU name: {torch.cuda.get_device_name(torch.cuda.current_device())}\")\n",
    "else:\n",
    "    print(\"PyTorch does not have access to GPU\")\n",
    "\n",
    "# Device configuration-\n",
    "device = torch.device('cuda' if torch.cuda.is_available() else 'cpu')\n",
    "print(f'Available device is {device}')"
   ]
  },
  {
   "cell_type": "code",
   "execution_count": null,
   "id": "a1656e60-ae43-407e-8303-bbd4214e0778",
   "metadata": {},
   "outputs": [],
   "source": []
  },
  {
   "cell_type": "code",
   "execution_count": 4,
   "id": "d9477170-5b2c-447a-bb1d-c88fac7423de",
   "metadata": {},
   "outputs": [],
   "source": [
    "# Specify hyper-parameters\n",
    "batch_size = 256\n",
    "num_classes = 10\n",
    "num_epochs = 85"
   ]
  },
  {
   "cell_type": "code",
   "execution_count": null,
   "id": "dd9ff2a9-5599-4f9d-ab21-9eef6194b842",
   "metadata": {},
   "outputs": [],
   "source": []
  },
  {
   "cell_type": "code",
   "execution_count": 5,
   "id": "31d51cd0-bece-4fcd-89e2-6358b61e0e5a",
   "metadata": {},
   "outputs": [
    {
     "name": "stdout",
     "output_type": "stream",
     "text": [
      "Files already downloaded and verified\n",
      "Files already downloaded and verified\n"
     ]
    }
   ],
   "source": [
    "# Get CIFAR-10 dataset-\n",
    "train_loader, val_loader, train_dataset, val_dataset = get_cifar10_data(\n",
    "    path_to_files = '/home/majumdar/Downloads/.data/',\n",
    "    batch_size = 256\n",
    ")"
   ]
  },
  {
   "cell_type": "code",
   "execution_count": null,
   "id": "df813694-884e-455d-8bac-eb79aa34f240",
   "metadata": {},
   "outputs": [],
   "source": []
  },
  {
   "cell_type": "markdown",
   "id": "f4204ac3-1bfa-4e97-9b0a-9e52a8c21584",
   "metadata": {},
   "source": [
    "#### ResNet-50 + $\\beta$ parameter (Swish) from initial experiment\n",
    "\n",
    "A previous experiment found that the optimal $\\beta = 5.354$ gave the highest validation accuracy. So, a new ResNet-50 is initialized with this $\\beta$ value and retrained from scratch to compare the benefits of initializing the same network with the previously obtained optimal value."
   ]
  },
  {
   "cell_type": "code",
   "execution_count": 6,
   "id": "5eb22e60-1c05-49e1-9b2b-a64b08c540a6",
   "metadata": {},
   "outputs": [],
   "source": [
    "# Instantiate ResNet-50 CNN-\n",
    "model = ResNet50(beta = 5.354).to(device)"
   ]
  },
  {
   "cell_type": "code",
   "execution_count": 7,
   "id": "b7b8a08f-641a-4e07-a253-2cec86fad5fc",
   "metadata": {},
   "outputs": [
    {
     "name": "stdout",
     "output_type": "stream",
     "text": [
      "beta is initialized as:5.3540\n"
     ]
    }
   ],
   "source": [
    "# Sanity check-\n",
    "print(f\"beta is initialized as:{model.swish_fn.beta.detach().item():.4f}\")"
   ]
  },
  {
   "cell_type": "code",
   "execution_count": null,
   "id": "0447665e-2a66-4239-a057-f32bf211d502",
   "metadata": {},
   "outputs": [],
   "source": []
  },
  {
   "cell_type": "code",
   "execution_count": 8,
   "id": "cdc6e70e-e454-4528-a382-446463ade37e",
   "metadata": {},
   "outputs": [],
   "source": [
    "def count_trainable_params(model):\n",
    "    # Count number of layer-wise parameters and total parameters-\n",
    "    tot_params = 0\n",
    "    for param in model.parameters():\n",
    "        # print(f\"layer.shape = {param.shape} has {param.nelement()} parameters\")\n",
    "        tot_params += param.nelement()\n",
    "\n",
    "    return tot_params\n"
   ]
  },
  {
   "cell_type": "code",
   "execution_count": 9,
   "id": "972aeac1-f780-4d47-be9e-1ca1109eeb2a",
   "metadata": {},
   "outputs": [
    {
     "name": "stdout",
     "output_type": "stream",
     "text": [
      "ResNet-50 CNN has 23520843 params\n"
     ]
    }
   ],
   "source": [
    "print(f\"ResNet-50 CNN has {count_trainable_params(model)} params\")"
   ]
  },
  {
   "cell_type": "code",
   "execution_count": null,
   "id": "b1420a0b-9602-4e93-b0e1-ad11719f5904",
   "metadata": {},
   "outputs": [],
   "source": []
  },
  {
   "cell_type": "code",
   "execution_count": 10,
   "id": "f8f58956-7945-430b-8210-78076924dabe",
   "metadata": {},
   "outputs": [],
   "source": [
    "# Define loss function and optimizer-\n",
    "loss = nn.CrossEntropyLoss()\n",
    "\n",
    "optimizer = torch.optim.SGD(\n",
    "    params = model.parameters(), lr = 0.0,\n",
    "    momentum = 0.9, weight_decay = 5e-4\n",
    ")"
   ]
  },
  {
   "cell_type": "code",
   "execution_count": null,
   "id": "2b039d39-48fd-44a6-9ca4-470110577739",
   "metadata": {},
   "outputs": [],
   "source": []
  },
  {
   "cell_type": "markdown",
   "id": "602ad582-04d4-4a9a-8c05-713e68710ff1",
   "metadata": {},
   "source": [
    "#### Train model with learning rate scheduler\n",
    "\n",
    "Training dataset = 50000, batch size = 256, number of training steps/iterations per epoch = 50000 / 256 = 195.3125 = 195\n",
    "\n",
    "After an initial linear learning rate warmup of 13 epochs or 2539 training steps:\n",
    "\n",
    "- For the next 7 epochs, or, until $20^{th}$ epoch, use lr = 0.1.\n",
    "\n",
    "- For the next 25 epochs, or, until $45^{th}$ epoch, use lr = 0.01.\n",
    "\n",
    "- For the 25 epochs, or, until $70^{th}$ epoch, use lr = 0.001.\n",
    "\n",
    "- For remaining epochs (10 epochs), use lr = 0.0001."
   ]
  },
  {
   "cell_type": "code",
   "execution_count": 11,
   "id": "c42074f6-7dda-4ee3-9414-2c1d5291d6ca",
   "metadata": {},
   "outputs": [],
   "source": [
    "boundaries = [3906, 8790, 13672]\n",
    "values = [0.1, 0.01, 0.001, 0.0001]"
   ]
  },
  {
   "cell_type": "code",
   "execution_count": 12,
   "id": "f01a2460-1fc2-4868-b76c-d43cbbe732d4",
   "metadata": {},
   "outputs": [],
   "source": [
    "def decay_function(\n",
    "    step, boundaries = [3906, 8790, 13672],\n",
    "    values = [0.1, 0.01, 0.001, 0.0001]\n",
    "):    \n",
    "    for idx, bound in enumerate(boundaries):\n",
    "        if step < bound:\n",
    "            return values[idx]\n",
    "\n",
    "    return values[-1]\n",
    "\n",
    "class schedule():\n",
    "\n",
    "    def __init__(self, initial_learning_rate = 0.1, warmup_steps = 1000, decay_func = None):\n",
    "        self.initial_learning_rate = initial_learning_rate\n",
    "        self.warmup_steps = warmup_steps\n",
    "        self.decay_func = decay_func\n",
    "        self.warmup_step_size = initial_learning_rate/warmup_steps\n",
    "        self.current_lr = 0\n",
    "\n",
    "    def get_lr(self, step):\n",
    "        if step == 0:\n",
    "            return self.current_lr\n",
    "        elif step <= self.warmup_steps:\n",
    "            self.current_lr+= self.warmup_step_size\n",
    "            return self.current_lr\n",
    "        elif step > self.warmup_steps:\n",
    "            if self.decay_func:\n",
    "                return self.decay_func(step)\n",
    "        else:\n",
    "            return self.current_lr\n",
    "        "
   ]
  },
  {
   "cell_type": "code",
   "execution_count": 13,
   "id": "8f587445-b39b-47c6-aa60-63035dcd5975",
   "metadata": {},
   "outputs": [],
   "source": [
    "# Initial linear LR warmup: 195.3125 x 13 = 2549 steps in 13 epochs.\n",
    "custom_lr_scheduler = schedule(\n",
    "    initial_learning_rate = 0.1, warmup_steps = 2539,\n",
    "    decay_func = decay_function\n",
    ")"
   ]
  },
  {
   "cell_type": "code",
   "execution_count": null,
   "id": "172d0880-3eab-42e3-b86d-c5d3c40ebfb6",
   "metadata": {},
   "outputs": [],
   "source": []
  },
  {
   "cell_type": "code",
   "execution_count": 14,
   "id": "2f31fce2-adf0-4be1-9603-3060c6641a9e",
   "metadata": {},
   "outputs": [],
   "source": [
    "step = 0"
   ]
  },
  {
   "cell_type": "code",
   "execution_count": 15,
   "id": "5cb7817c-89f2-4c7c-af70-ac614d21be3c",
   "metadata": {},
   "outputs": [],
   "source": [
    "def train_model_progress(model, train_loader, train_dataset):\n",
    "    '''\n",
    "    Function to perform one epoch of training by using 'train_loader'.\n",
    "    Returns loss and number of correct predictions for this epoch.\n",
    "    '''\n",
    "    running_loss = 0.0\n",
    "    running_corrects = 0.0\n",
    "    \n",
    "    model.train()\n",
    "    \n",
    "    with tqdm(train_loader, unit = 'batch') as tepoch:\n",
    "        for images, labels in tepoch:\n",
    "            tepoch.set_description(f\"Training: \")\n",
    "            \n",
    "            images = images.to(device)\n",
    "            labels = labels.to(device)\n",
    "            \n",
    "            # Get model predictions-\n",
    "            outputs = model(images)\n",
    "            \n",
    "            # Compute loss-\n",
    "            J = loss(outputs, labels)\n",
    "            \n",
    "            # Empty accumulated gradients-\n",
    "            optimizer.zero_grad()\n",
    "            \n",
    "            # Perform backprop-\n",
    "            J.backward()\n",
    "            \n",
    "            # Update parameters-\n",
    "            optimizer.step()\n",
    "            \n",
    "            global step\n",
    "            optimizer.param_groups[0]['lr'] = custom_lr_scheduler.get_lr(step)\n",
    "\n",
    "            step += 1\n",
    "            \n",
    "            # Compute model's performance statistics-\n",
    "            running_loss += J.item() * images.size(0)\n",
    "            _, predicted = torch.max(outputs, 1)\n",
    "            running_corrects += torch.sum(predicted == labels.data)\n",
    "            \n",
    "            tepoch.set_postfix(\n",
    "                loss = running_loss / len(train_dataset),\n",
    "                accuracy = (running_corrects.double().cpu().numpy() / len(train_dataset)) * 100\n",
    "            )\n",
    "            \n",
    "    \n",
    "    train_loss = running_loss / len(train_dataset)\n",
    "    train_acc = (running_corrects.double() / len(train_dataset)) * 100\n",
    "    \n",
    "\n",
    "    # return running_loss, running_corrects\n",
    "    return train_loss, train_acc.cpu().numpy()\n",
    "\n",
    "def test_model_progress(model, test_loader, test_dataset):\n",
    "    total = 0.0\n",
    "    correct = 0.0\n",
    "    running_loss_val = 0.0\n",
    "\n",
    "    with torch.no_grad():\n",
    "        with tqdm(test_loader, unit = 'batch') as tepoch:\n",
    "            for images, labels in tepoch:\n",
    "                tepoch.set_description(f\"Validation: \")\n",
    "                \n",
    "                images = images.to(device)\n",
    "                labels = labels.to(device)\n",
    "                \n",
    "                # Set model to evaluation mode-\n",
    "                model.eval()\n",
    "            \n",
    "                # Predict using trained model-\n",
    "                outputs = model(images)\n",
    "                _, y_pred = torch.max(outputs, 1)\n",
    "                \n",
    "                # Compute validation loss-\n",
    "                J_val = loss(outputs, labels)\n",
    "                \n",
    "                running_loss_val += J_val.item() * labels.size(0)\n",
    "    \n",
    "                # Total number of labels-\n",
    "                total += labels.size(0)\n",
    "\n",
    "                # Total number of correct predictions-\n",
    "                correct += (y_pred == labels).sum()\n",
    "                \n",
    "                tepoch.set_postfix(\n",
    "                    val_loss = running_loss_val / len(test_dataset),\n",
    "                    val_acc = 100 * (correct.cpu().numpy() / total)\n",
    "                )\n",
    "            \n",
    "        \n",
    "    # return (running_loss_val, correct, total)\n",
    "    val_loss = running_loss_val / len(test_dataset)\n",
    "    val_acc = (correct / total) * 100\n",
    "\n",
    "    return val_loss, val_acc.cpu().numpy()\n"
   ]
  },
  {
   "cell_type": "code",
   "execution_count": null,
   "id": "f14b2e2b-0087-4702-91de-814cbe26a8e4",
   "metadata": {},
   "outputs": [],
   "source": []
  },
  {
   "cell_type": "code",
   "execution_count": 16,
   "id": "094df51a-2763-49c5-8b4b-9510ee2489fd",
   "metadata": {},
   "outputs": [],
   "source": [
    "# Python3 dict to contain training metrics-\n",
    "training_history_lr_scheduler = {}\n",
    "\n",
    "# Initialize parameters saving 'best' models-\n",
    "best_val_acc = 50"
   ]
  },
  {
   "cell_type": "code",
   "execution_count": null,
   "id": "95f955f0-ca1c-422a-815b-a3189fdd4874",
   "metadata": {},
   "outputs": [],
   "source": []
  },
  {
   "cell_type": "code",
   "execution_count": 17,
   "id": "8c5d8aaf-554d-4910-a6c4-5752b154beaa",
   "metadata": {},
   "outputs": [
    {
     "name": "stderr",
     "output_type": "stream",
     "text": [
      "Training: : 100%|████████████████████████████████████| 196/196 [01:34<00:00,  2.07batch/s, accuracy=15.6, loss=2.25]\n",
      "Validation: : 100%|█████████████████████████████████| 40/40 [00:04<00:00,  9.40batch/s, val_acc=21.7, val_loss=2.33]\n"
     ]
    },
    {
     "name": "stdout",
     "output_type": "stream",
     "text": [
      "\n",
      "epoch: 1 training loss = 2.2529, training accuracy = 15.61%, val_loss = 2.3296, val_accuracy = 21.66% LR = 0.0077 & beta = 5.323336\n",
      "\n"
     ]
    },
    {
     "name": "stderr",
     "output_type": "stream",
     "text": [
      "Training: : 100%|████████████████████████████████████| 196/196 [01:33<00:00,  2.10batch/s, accuracy=25.1, loss=2.13]\n",
      "Validation: : 100%|█████████████████████████████████| 40/40 [00:04<00:00,  9.34batch/s, val_acc=36.5, val_loss=1.77]\n"
     ]
    },
    {
     "name": "stdout",
     "output_type": "stream",
     "text": [
      "\n",
      "epoch: 2 training loss = 2.1254, training accuracy = 25.14%, val_loss = 1.7741, val_accuracy = 36.55% LR = 0.0154 & beta = 5.157431\n",
      "\n"
     ]
    },
    {
     "name": "stderr",
     "output_type": "stream",
     "text": [
      "Training: : 100%|████████████████████████████████████| 196/196 [01:33<00:00,  2.09batch/s, accuracy=33.5, loss=1.88]\n",
      "Validation: : 100%|███████████████████████████████████| 40/40 [00:04<00:00,  9.36batch/s, val_acc=39, val_loss=1.71]\n"
     ]
    },
    {
     "name": "stdout",
     "output_type": "stream",
     "text": [
      "\n",
      "epoch: 3 training loss = 1.8773, training accuracy = 33.51%, val_loss = 1.7106, val_accuracy = 38.95% LR = 0.0231 & beta = 4.915476\n",
      "\n"
     ]
    },
    {
     "name": "stderr",
     "output_type": "stream",
     "text": [
      "Training: : 100%|████████████████████████████████████| 196/196 [01:34<00:00,  2.08batch/s, accuracy=39.3, loss=1.69]\n",
      "Validation: : 100%|█████████████████████████████████| 40/40 [00:04<00:00,  9.31batch/s, val_acc=46.6, val_loss=1.45]\n"
     ]
    },
    {
     "name": "stdout",
     "output_type": "stream",
     "text": [
      "\n",
      "epoch: 4 training loss = 1.6920, training accuracy = 39.27%, val_loss = 1.4487, val_accuracy = 46.57% LR = 0.0308 & beta = 4.629663\n",
      "\n"
     ]
    },
    {
     "name": "stderr",
     "output_type": "stream",
     "text": [
      "Training: : 100%|████████████████████████████████████| 196/196 [01:34<00:00,  2.08batch/s, accuracy=45.2, loss=1.54]\n",
      "Validation: : 100%|████████████████████████████████████| 40/40 [00:04<00:00,  9.33batch/s, val_acc=51, val_loss=1.4]\n"
     ]
    },
    {
     "name": "stdout",
     "output_type": "stream",
     "text": [
      "\n",
      "epoch: 5 training loss = 1.5357, training accuracy = 45.20%, val_loss = 1.3976, val_accuracy = 50.96% LR = 0.0386 & beta = 4.303523\n",
      "\n",
      "Saving model with highest val acc = 50.9600%\n",
      "\n"
     ]
    },
    {
     "name": "stderr",
     "output_type": "stream",
     "text": [
      "Training: : 100%|█████████████████████████████████████| 196/196 [01:34<00:00,  2.08batch/s, accuracy=50.1, loss=1.4]\n",
      "Validation: : 100%|█████████████████████████████████| 40/40 [00:04<00:00,  9.32batch/s, val_acc=58.2, val_loss=1.21]\n"
     ]
    },
    {
     "name": "stdout",
     "output_type": "stream",
     "text": [
      "\n",
      "epoch: 6 training loss = 1.3976, training accuracy = 50.11%, val_loss = 1.2062, val_accuracy = 58.25% LR = 0.0463 & beta = 3.902002\n",
      "\n",
      "Saving model with highest val acc = 58.2500%\n",
      "\n"
     ]
    },
    {
     "name": "stderr",
     "output_type": "stream",
     "text": [
      "Training: : 100%|████████████████████████████████████| 196/196 [01:34<00:00,  2.08batch/s, accuracy=54.6, loss=1.29]\n",
      "Validation: : 100%|█████████████████████████████████| 40/40 [00:04<00:00,  9.32batch/s, val_acc=53.5, val_loss=1.68]\n"
     ]
    },
    {
     "name": "stdout",
     "output_type": "stream",
     "text": [
      "\n",
      "epoch: 7 training loss = 1.2855, training accuracy = 54.56%, val_loss = 1.6827, val_accuracy = 53.54% LR = 0.0540 & beta = 3.400167\n",
      "\n"
     ]
    },
    {
     "name": "stderr",
     "output_type": "stream",
     "text": [
      "Training: : 100%|████████████████████████████████████| 196/196 [01:34<00:00,  2.08batch/s, accuracy=59.5, loss=1.15]\n",
      "Validation: : 100%|████████████████████████████████| 40/40 [00:04<00:00,  9.32batch/s, val_acc=66.3, val_loss=0.961]\n"
     ]
    },
    {
     "name": "stdout",
     "output_type": "stream",
     "text": [
      "\n",
      "epoch: 8 training loss = 1.1493, training accuracy = 59.53%, val_loss = 0.9612, val_accuracy = 66.35% LR = 0.0617 & beta = 2.954192\n",
      "\n",
      "Saving model with highest val acc = 66.3500%\n",
      "\n"
     ]
    },
    {
     "name": "stderr",
     "output_type": "stream",
     "text": [
      "Training: : 100%|████████████████████████████████████| 196/196 [01:34<00:00,  2.08batch/s, accuracy=62.7, loss=1.06]\n",
      "Validation: : 100%|██████████████████████████████████| 40/40 [00:04<00:00,  9.32batch/s, val_acc=68.9, val_loss=0.9]\n"
     ]
    },
    {
     "name": "stdout",
     "output_type": "stream",
     "text": [
      "\n",
      "epoch: 9 training loss = 1.0565, training accuracy = 62.69%, val_loss = 0.9004, val_accuracy = 68.88% LR = 0.0694 & beta = 2.677884\n",
      "\n",
      "Saving model with highest val acc = 68.8800%\n",
      "\n"
     ]
    },
    {
     "name": "stderr",
     "output_type": "stream",
     "text": [
      "Training: : 100%|███████████████████████████████████| 196/196 [01:34<00:00,  2.08batch/s, accuracy=65.3, loss=0.995]\n",
      "Validation: : 100%|██████████████████████████████████| 40/40 [00:04<00:00,  9.32batch/s, val_acc=69, val_loss=0.887]\n"
     ]
    },
    {
     "name": "stdout",
     "output_type": "stream",
     "text": [
      "\n",
      "epoch: 10 training loss = 0.9949, training accuracy = 65.26%, val_loss = 0.8874, val_accuracy = 69.04% LR = 0.0772 & beta = 2.682029\n",
      "\n",
      "Saving model with highest val acc = 69.0400%\n",
      "\n"
     ]
    },
    {
     "name": "stderr",
     "output_type": "stream",
     "text": [
      "Training: : 100%|███████████████████████████████████| 196/196 [01:34<00:00,  2.08batch/s, accuracy=67.6, loss=0.933]\n",
      "Validation: : 100%|████████████████████████████████| 40/40 [00:04<00:00,  9.31batch/s, val_acc=69.5, val_loss=0.868]\n"
     ]
    },
    {
     "name": "stdout",
     "output_type": "stream",
     "text": [
      "\n",
      "epoch: 11 training loss = 0.9328, training accuracy = 67.56%, val_loss = 0.8676, val_accuracy = 69.54% LR = 0.0849 & beta = 2.784408\n",
      "\n",
      "Saving model with highest val acc = 69.5400%\n",
      "\n"
     ]
    },
    {
     "name": "stderr",
     "output_type": "stream",
     "text": [
      "Training: : 100%|███████████████████████████████████| 196/196 [01:34<00:00,  2.08batch/s, accuracy=69.7, loss=0.872]\n",
      "Validation: : 100%|████████████████████████████████| 40/40 [00:04<00:00,  9.32batch/s, val_acc=75.5, val_loss=0.716]\n"
     ]
    },
    {
     "name": "stdout",
     "output_type": "stream",
     "text": [
      "\n",
      "epoch: 12 training loss = 0.8723, training accuracy = 69.73%, val_loss = 0.7157, val_accuracy = 75.53% LR = 0.0926 & beta = 2.909071\n",
      "\n",
      "Saving model with highest val acc = 75.5300%\n",
      "\n"
     ]
    },
    {
     "name": "stderr",
     "output_type": "stream",
     "text": [
      "Training: : 100%|███████████████████████████████████| 196/196 [01:34<00:00,  2.08batch/s, accuracy=70.6, loss=0.847]\n",
      "Validation: : 100%|████████████████████████████████| 40/40 [00:04<00:00,  9.33batch/s, val_acc=72.2, val_loss=0.818]\n"
     ]
    },
    {
     "name": "stdout",
     "output_type": "stream",
     "text": [
      "\n",
      "epoch: 13 training loss = 0.8471, training accuracy = 70.57%, val_loss = 0.8180, val_accuracy = 72.24% LR = 0.1000 & beta = 3.193128\n",
      "\n"
     ]
    },
    {
     "name": "stderr",
     "output_type": "stream",
     "text": [
      "Training: : 100%|███████████████████████████████████| 196/196 [01:34<00:00,  2.08batch/s, accuracy=71.8, loss=0.814]\n",
      "Validation: : 100%|████████████████████████████████| 40/40 [00:04<00:00,  9.32batch/s, val_acc=73.1, val_loss=0.794]\n"
     ]
    },
    {
     "name": "stdout",
     "output_type": "stream",
     "text": [
      "\n",
      "epoch: 14 training loss = 0.8137, training accuracy = 71.77%, val_loss = 0.7939, val_accuracy = 73.09% LR = 0.1000 & beta = 3.481975\n",
      "\n"
     ]
    },
    {
     "name": "stderr",
     "output_type": "stream",
     "text": [
      "Training: : 100%|███████████████████████████████████| 196/196 [01:34<00:00,  2.08batch/s, accuracy=72.9, loss=0.776]\n",
      "Validation: : 100%|█████████████████████████████████| 40/40 [00:04<00:00,  9.33batch/s, val_acc=76.8, val_loss=0.67]\n"
     ]
    },
    {
     "name": "stdout",
     "output_type": "stream",
     "text": [
      "\n",
      "epoch: 15 training loss = 0.7756, training accuracy = 72.88%, val_loss = 0.6702, val_accuracy = 76.83% LR = 0.1000 & beta = 3.706782\n",
      "\n",
      "Saving model with highest val acc = 76.8300%\n",
      "\n"
     ]
    },
    {
     "name": "stderr",
     "output_type": "stream",
     "text": [
      "Training: : 100%|███████████████████████████████████| 196/196 [01:34<00:00,  2.08batch/s, accuracy=74.2, loss=0.745]\n",
      "Validation: : 100%|████████████████████████████████| 40/40 [00:04<00:00,  9.32batch/s, val_acc=77.2, val_loss=0.658]\n"
     ]
    },
    {
     "name": "stdout",
     "output_type": "stream",
     "text": [
      "\n",
      "epoch: 16 training loss = 0.7454, training accuracy = 74.21%, val_loss = 0.6584, val_accuracy = 77.25% LR = 0.1000 & beta = 4.037765\n",
      "\n",
      "Saving model with highest val acc = 77.2500%\n",
      "\n"
     ]
    },
    {
     "name": "stderr",
     "output_type": "stream",
     "text": [
      "Training: : 100%|███████████████████████████████████| 196/196 [01:34<00:00,  2.08batch/s, accuracy=75.2, loss=0.714]\n",
      "Validation: : 100%|████████████████████████████████| 40/40 [00:04<00:00,  9.33batch/s, val_acc=79.7, val_loss=0.592]\n"
     ]
    },
    {
     "name": "stdout",
     "output_type": "stream",
     "text": [
      "\n",
      "epoch: 17 training loss = 0.7143, training accuracy = 75.21%, val_loss = 0.5918, val_accuracy = 79.70% LR = 0.1000 & beta = 4.359786\n",
      "\n",
      "Saving model with highest val acc = 79.7000%\n",
      "\n"
     ]
    },
    {
     "name": "stderr",
     "output_type": "stream",
     "text": [
      "Training: : 100%|███████████████████████████████████| 196/196 [01:34<00:00,  2.08batch/s, accuracy=75.3, loss=0.708]\n",
      "Validation: : 100%|████████████████████████████████| 40/40 [00:04<00:00,  9.32batch/s, val_acc=74.5, val_loss=0.752]\n"
     ]
    },
    {
     "name": "stdout",
     "output_type": "stream",
     "text": [
      "\n",
      "epoch: 18 training loss = 0.7084, training accuracy = 75.28%, val_loss = 0.7517, val_accuracy = 74.45% LR = 0.1000 & beta = 4.644651\n",
      "\n"
     ]
    },
    {
     "name": "stderr",
     "output_type": "stream",
     "text": [
      "Training: : 100%|███████████████████████████████████| 196/196 [01:34<00:00,  2.08batch/s, accuracy=75.9, loss=0.689]\n",
      "Validation: : 100%|████████████████████████████████| 40/40 [00:04<00:00,  9.31batch/s, val_acc=79.9, val_loss=0.586]\n"
     ]
    },
    {
     "name": "stdout",
     "output_type": "stream",
     "text": [
      "\n",
      "epoch: 19 training loss = 0.6892, training accuracy = 75.88%, val_loss = 0.5864, val_accuracy = 79.91% LR = 0.1000 & beta = 4.978436\n",
      "\n",
      "Saving model with highest val acc = 79.9100%\n",
      "\n"
     ]
    },
    {
     "name": "stderr",
     "output_type": "stream",
     "text": [
      "Training: : 100%|███████████████████████████████████| 196/196 [01:34<00:00,  2.08batch/s, accuracy=76.7, loss=0.667]\n",
      "Validation: : 100%|████████████████████████████████| 40/40 [00:04<00:00,  9.33batch/s, val_acc=83.9, val_loss=0.475]\n"
     ]
    },
    {
     "name": "stdout",
     "output_type": "stream",
     "text": [
      "\n",
      "epoch: 20 training loss = 0.6673, training accuracy = 76.67%, val_loss = 0.4753, val_accuracy = 83.91% LR = 0.0100 & beta = 5.235280\n",
      "\n",
      "Saving model with highest val acc = 83.9100%\n",
      "\n"
     ]
    },
    {
     "name": "stderr",
     "output_type": "stream",
     "text": [
      "Training: : 100%|███████████████████████████████████| 196/196 [01:34<00:00,  2.08batch/s, accuracy=82.8, loss=0.488]\n",
      "Validation: : 100%|████████████████████████████████| 40/40 [00:04<00:00,  9.32batch/s, val_acc=87.4, val_loss=0.383]\n"
     ]
    },
    {
     "name": "stdout",
     "output_type": "stream",
     "text": [
      "\n",
      "epoch: 21 training loss = 0.4879, training accuracy = 82.79%, val_loss = 0.3834, val_accuracy = 87.35% LR = 0.0100 & beta = 5.254888\n",
      "\n",
      "Saving model with highest val acc = 87.3500%\n",
      "\n"
     ]
    },
    {
     "name": "stderr",
     "output_type": "stream",
     "text": [
      "Training: : 100%|███████████████████████████████████| 196/196 [01:34<00:00,  2.08batch/s, accuracy=84.9, loss=0.433]\n",
      "Validation: : 100%|████████████████████████████████| 40/40 [00:04<00:00,  9.32batch/s, val_acc=87.5, val_loss=0.364]\n"
     ]
    },
    {
     "name": "stdout",
     "output_type": "stream",
     "text": [
      "\n",
      "epoch: 22 training loss = 0.4329, training accuracy = 84.89%, val_loss = 0.3635, val_accuracy = 87.49% LR = 0.0100 & beta = 5.259077\n",
      "\n",
      "Saving model with highest val acc = 87.4900%\n",
      "\n"
     ]
    },
    {
     "name": "stderr",
     "output_type": "stream",
     "text": [
      "Training: : 100%|███████████████████████████████████| 196/196 [01:34<00:00,  2.08batch/s, accuracy=85.8, loss=0.411]\n",
      "Validation: : 100%|████████████████████████████████| 40/40 [00:04<00:00,  9.33batch/s, val_acc=88.2, val_loss=0.354]\n"
     ]
    },
    {
     "name": "stdout",
     "output_type": "stream",
     "text": [
      "\n",
      "epoch: 23 training loss = 0.4108, training accuracy = 85.81%, val_loss = 0.3540, val_accuracy = 88.16% LR = 0.0100 & beta = 5.260085\n",
      "\n",
      "Saving model with highest val acc = 88.1600%\n",
      "\n"
     ]
    },
    {
     "name": "stderr",
     "output_type": "stream",
     "text": [
      "Training: : 100%|███████████████████████████████████| 196/196 [01:34<00:00,  2.08batch/s, accuracy=86.3, loss=0.394]\n",
      "Validation: : 100%|█████████████████████████████████| 40/40 [00:04<00:00,  9.34batch/s, val_acc=88.9, val_loss=0.33]\n"
     ]
    },
    {
     "name": "stdout",
     "output_type": "stream",
     "text": [
      "\n",
      "epoch: 24 training loss = 0.3936, training accuracy = 86.32%, val_loss = 0.3302, val_accuracy = 88.86% LR = 0.0100 & beta = 5.265076\n",
      "\n",
      "Saving model with highest val acc = 88.8600%\n",
      "\n"
     ]
    },
    {
     "name": "stderr",
     "output_type": "stream",
     "text": [
      "Training: : 100%|███████████████████████████████████| 196/196 [01:34<00:00,  2.08batch/s, accuracy=86.8, loss=0.381]\n",
      "Validation: : 100%|████████████████████████████████| 40/40 [00:04<00:00,  9.33batch/s, val_acc=88.9, val_loss=0.329]\n"
     ]
    },
    {
     "name": "stdout",
     "output_type": "stream",
     "text": [
      "\n",
      "epoch: 25 training loss = 0.3812, training accuracy = 86.84%, val_loss = 0.3286, val_accuracy = 88.94% LR = 0.0100 & beta = 5.276586\n",
      "\n",
      "Saving model with highest val acc = 88.9400%\n",
      "\n"
     ]
    },
    {
     "name": "stderr",
     "output_type": "stream",
     "text": [
      "Training: : 100%|███████████████████████████████████| 196/196 [01:34<00:00,  2.08batch/s, accuracy=87.1, loss=0.368]\n",
      "Validation: : 100%|████████████████████████████████| 40/40 [00:04<00:00,  9.33batch/s, val_acc=89.1, val_loss=0.323]\n"
     ]
    },
    {
     "name": "stdout",
     "output_type": "stream",
     "text": [
      "\n",
      "epoch: 26 training loss = 0.3681, training accuracy = 87.14%, val_loss = 0.3231, val_accuracy = 89.13% LR = 0.0100 & beta = 5.284295\n",
      "\n",
      "Saving model with highest val acc = 89.1300%\n",
      "\n"
     ]
    },
    {
     "name": "stderr",
     "output_type": "stream",
     "text": [
      "Training: : 100%|███████████████████████████████████| 196/196 [01:34<00:00,  2.08batch/s, accuracy=87.6, loss=0.357]\n",
      "Validation: : 100%|████████████████████████████████| 40/40 [00:04<00:00,  9.34batch/s, val_acc=89.1, val_loss=0.317]\n"
     ]
    },
    {
     "name": "stdout",
     "output_type": "stream",
     "text": [
      "\n",
      "epoch: 27 training loss = 0.3573, training accuracy = 87.56%, val_loss = 0.3171, val_accuracy = 89.08% LR = 0.0100 & beta = 5.297175\n",
      "\n"
     ]
    },
    {
     "name": "stderr",
     "output_type": "stream",
     "text": [
      "Training: : 100%|█████████████████████████████████████| 196/196 [01:34<00:00,  2.08batch/s, accuracy=88, loss=0.341]\n",
      "Validation: : 100%|█████████████████████████████████| 40/40 [00:04<00:00,  9.26batch/s, val_acc=89.4, val_loss=0.31]\n"
     ]
    },
    {
     "name": "stdout",
     "output_type": "stream",
     "text": [
      "\n",
      "epoch: 28 training loss = 0.3413, training accuracy = 88.02%, val_loss = 0.3103, val_accuracy = 89.44% LR = 0.0100 & beta = 5.317672\n",
      "\n",
      "Saving model with highest val acc = 89.4400%\n",
      "\n"
     ]
    },
    {
     "name": "stderr",
     "output_type": "stream",
     "text": [
      "Training: : 100%|███████████████████████████████████| 196/196 [01:34<00:00,  2.08batch/s, accuracy=88.6, loss=0.328]\n",
      "Validation: : 100%|████████████████████████████████| 40/40 [00:04<00:00,  9.33batch/s, val_acc=89.3, val_loss=0.311]\n"
     ]
    },
    {
     "name": "stdout",
     "output_type": "stream",
     "text": [
      "\n",
      "epoch: 29 training loss = 0.3280, training accuracy = 88.64%, val_loss = 0.3111, val_accuracy = 89.28% LR = 0.0100 & beta = 5.335474\n",
      "\n"
     ]
    },
    {
     "name": "stderr",
     "output_type": "stream",
     "text": [
      "Training: : 100%|███████████████████████████████████| 196/196 [01:34<00:00,  2.08batch/s, accuracy=88.8, loss=0.324]\n",
      "Validation: : 100%|████████████████████████████████| 40/40 [00:04<00:00,  9.34batch/s, val_acc=89.5, val_loss=0.303]\n"
     ]
    },
    {
     "name": "stdout",
     "output_type": "stream",
     "text": [
      "\n",
      "epoch: 30 training loss = 0.3236, training accuracy = 88.84%, val_loss = 0.3027, val_accuracy = 89.54% LR = 0.0100 & beta = 5.349105\n",
      "\n",
      "Saving model with highest val acc = 89.5400%\n",
      "\n"
     ]
    },
    {
     "name": "stderr",
     "output_type": "stream",
     "text": [
      "Training: : 100%|███████████████████████████████████| 196/196 [01:34<00:00,  2.08batch/s, accuracy=89.2, loss=0.312]\n",
      "Validation: : 100%|████████████████████████████████| 40/40 [00:04<00:00,  9.32batch/s, val_acc=89.4, val_loss=0.312]\n"
     ]
    },
    {
     "name": "stdout",
     "output_type": "stream",
     "text": [
      "\n",
      "epoch: 31 training loss = 0.3122, training accuracy = 89.15%, val_loss = 0.3125, val_accuracy = 89.43% LR = 0.0100 & beta = 5.367851\n",
      "\n"
     ]
    },
    {
     "name": "stderr",
     "output_type": "stream",
     "text": [
      "Training: : 100%|████████████████████████████████████| 196/196 [01:34<00:00,  2.08batch/s, accuracy=89.3, loss=0.31]\n",
      "Validation: : 100%|█████████████████████████████████| 40/40 [00:04<00:00,  9.32batch/s, val_acc=89.6, val_loss=0.31]\n"
     ]
    },
    {
     "name": "stdout",
     "output_type": "stream",
     "text": [
      "\n",
      "epoch: 32 training loss = 0.3097, training accuracy = 89.33%, val_loss = 0.3098, val_accuracy = 89.60% LR = 0.0100 & beta = 5.393928\n",
      "\n",
      "Saving model with highest val acc = 89.6000%\n",
      "\n"
     ]
    },
    {
     "name": "stderr",
     "output_type": "stream",
     "text": [
      "Training: : 100%|███████████████████████████████████| 196/196 [01:34<00:00,  2.08batch/s, accuracy=89.7, loss=0.299]\n",
      "Validation: : 100%|████████████████████████████████| 40/40 [00:04<00:00,  9.32batch/s, val_acc=89.2, val_loss=0.309]\n"
     ]
    },
    {
     "name": "stdout",
     "output_type": "stream",
     "text": [
      "\n",
      "epoch: 33 training loss = 0.2990, training accuracy = 89.71%, val_loss = 0.3086, val_accuracy = 89.18% LR = 0.0100 & beta = 5.424795\n",
      "\n"
     ]
    },
    {
     "name": "stderr",
     "output_type": "stream",
     "text": [
      "Training: : 100%|███████████████████████████████████| 196/196 [01:34<00:00,  2.08batch/s, accuracy=89.8, loss=0.295]\n",
      "Validation: : 100%|████████████████████████████████| 40/40 [00:04<00:00,  9.33batch/s, val_acc=89.8, val_loss=0.306]\n"
     ]
    },
    {
     "name": "stdout",
     "output_type": "stream",
     "text": [
      "\n",
      "epoch: 34 training loss = 0.2951, training accuracy = 89.81%, val_loss = 0.3064, val_accuracy = 89.85% LR = 0.0100 & beta = 5.449564\n",
      "\n",
      "Saving model with highest val acc = 89.8500%\n",
      "\n"
     ]
    },
    {
     "name": "stderr",
     "output_type": "stream",
     "text": [
      "Training: : 100%|███████████████████████████████████| 196/196 [01:34<00:00,  2.08batch/s, accuracy=90.2, loss=0.284]\n",
      "Validation: : 100%|████████████████████████████████| 40/40 [00:04<00:00,  9.34batch/s, val_acc=89.8, val_loss=0.306]\n"
     ]
    },
    {
     "name": "stdout",
     "output_type": "stream",
     "text": [
      "\n",
      "epoch: 35 training loss = 0.2842, training accuracy = 90.15%, val_loss = 0.3061, val_accuracy = 89.79% LR = 0.0100 & beta = 5.479353\n",
      "\n"
     ]
    },
    {
     "name": "stderr",
     "output_type": "stream",
     "text": [
      "Training: : 100%|███████████████████████████████████| 196/196 [01:34<00:00,  2.08batch/s, accuracy=90.4, loss=0.277]\n",
      "Validation: : 100%|████████████████████████████████| 40/40 [00:04<00:00,  9.35batch/s, val_acc=89.8, val_loss=0.304]\n"
     ]
    },
    {
     "name": "stdout",
     "output_type": "stream",
     "text": [
      "\n",
      "epoch: 36 training loss = 0.2770, training accuracy = 90.41%, val_loss = 0.3043, val_accuracy = 89.75% LR = 0.0100 & beta = 5.525251\n",
      "\n"
     ]
    },
    {
     "name": "stderr",
     "output_type": "stream",
     "text": [
      "Training: : 100%|███████████████████████████████████| 196/196 [01:34<00:00,  2.08batch/s, accuracy=90.6, loss=0.271]\n",
      "Validation: : 100%|████████████████████████████████| 40/40 [00:04<00:00,  9.33batch/s, val_acc=89.8, val_loss=0.302]\n"
     ]
    },
    {
     "name": "stdout",
     "output_type": "stream",
     "text": [
      "\n",
      "epoch: 37 training loss = 0.2706, training accuracy = 90.64%, val_loss = 0.3017, val_accuracy = 89.75% LR = 0.0100 & beta = 5.555652\n",
      "\n"
     ]
    },
    {
     "name": "stderr",
     "output_type": "stream",
     "text": [
      "Training: : 100%|███████████████████████████████████| 196/196 [01:34<00:00,  2.08batch/s, accuracy=91.1, loss=0.263]\n",
      "Validation: : 100%|████████████████████████████████| 40/40 [00:04<00:00,  9.32batch/s, val_acc=89.3, val_loss=0.323]\n"
     ]
    },
    {
     "name": "stdout",
     "output_type": "stream",
     "text": [
      "\n",
      "epoch: 38 training loss = 0.2628, training accuracy = 91.07%, val_loss = 0.3226, val_accuracy = 89.30% LR = 0.0100 & beta = 5.593637\n",
      "\n"
     ]
    },
    {
     "name": "stderr",
     "output_type": "stream",
     "text": [
      "Training: : 100%|███████████████████████████████████| 196/196 [01:34<00:00,  2.08batch/s, accuracy=91.1, loss=0.263]\n",
      "Validation: : 100%|████████████████████████████████| 40/40 [00:04<00:00,  9.33batch/s, val_acc=89.8, val_loss=0.311]\n"
     ]
    },
    {
     "name": "stdout",
     "output_type": "stream",
     "text": [
      "\n",
      "epoch: 39 training loss = 0.2626, training accuracy = 91.08%, val_loss = 0.3108, val_accuracy = 89.76% LR = 0.0100 & beta = 5.629722\n",
      "\n"
     ]
    },
    {
     "name": "stderr",
     "output_type": "stream",
     "text": [
      "Training: : 100%|███████████████████████████████████| 196/196 [01:34<00:00,  2.08batch/s, accuracy=91.2, loss=0.254]\n",
      "Validation: : 100%|██████████████████████████████████| 40/40 [00:04<00:00,  9.33batch/s, val_acc=90, val_loss=0.298]\n"
     ]
    },
    {
     "name": "stdout",
     "output_type": "stream",
     "text": [
      "\n",
      "epoch: 40 training loss = 0.2540, training accuracy = 91.22%, val_loss = 0.2977, val_accuracy = 90.03% LR = 0.0100 & beta = 5.666465\n",
      "\n",
      "Saving model with highest val acc = 90.0300%\n",
      "\n"
     ]
    },
    {
     "name": "stderr",
     "output_type": "stream",
     "text": [
      "Training: : 100%|███████████████████████████████████| 196/196 [01:34<00:00,  2.08batch/s, accuracy=91.6, loss=0.246]\n",
      "Validation: : 100%|██████████████████████████████████| 40/40 [00:04<00:00,  9.32batch/s, val_acc=90, val_loss=0.307]\n"
     ]
    },
    {
     "name": "stdout",
     "output_type": "stream",
     "text": [
      "\n",
      "epoch: 41 training loss = 0.2456, training accuracy = 91.61%, val_loss = 0.3072, val_accuracy = 89.99% LR = 0.0100 & beta = 5.702801\n",
      "\n"
     ]
    },
    {
     "name": "stderr",
     "output_type": "stream",
     "text": [
      "Training: : 100%|███████████████████████████████████| 196/196 [01:34<00:00,  2.08batch/s, accuracy=91.7, loss=0.246]\n",
      "Validation: : 100%|████████████████████████████████| 40/40 [00:04<00:00,  9.33batch/s, val_acc=89.6, val_loss=0.305]\n"
     ]
    },
    {
     "name": "stdout",
     "output_type": "stream",
     "text": [
      "\n",
      "epoch: 42 training loss = 0.2458, training accuracy = 91.70%, val_loss = 0.3046, val_accuracy = 89.58% LR = 0.0100 & beta = 5.741313\n",
      "\n"
     ]
    },
    {
     "name": "stderr",
     "output_type": "stream",
     "text": [
      "Training: : 100%|███████████████████████████████████| 196/196 [01:34<00:00,  2.08batch/s, accuracy=91.9, loss=0.238]\n",
      "Validation: : 100%|████████████████████████████████| 40/40 [00:04<00:00,  9.34batch/s, val_acc=89.9, val_loss=0.303]\n"
     ]
    },
    {
     "name": "stdout",
     "output_type": "stream",
     "text": [
      "\n",
      "epoch: 43 training loss = 0.2384, training accuracy = 91.86%, val_loss = 0.3031, val_accuracy = 89.94% LR = 0.0100 & beta = 5.779944\n",
      "\n"
     ]
    },
    {
     "name": "stderr",
     "output_type": "stream",
     "text": [
      "Training: : 100%|█████████████████████████████████████| 196/196 [01:34<00:00,  2.08batch/s, accuracy=92, loss=0.236]\n",
      "Validation: : 100%|████████████████████████████████| 40/40 [00:04<00:00,  9.31batch/s, val_acc=89.1, val_loss=0.324]\n"
     ]
    },
    {
     "name": "stdout",
     "output_type": "stream",
     "text": [
      "\n",
      "epoch: 44 training loss = 0.2359, training accuracy = 91.96%, val_loss = 0.3237, val_accuracy = 89.13% LR = 0.0100 & beta = 5.823212\n",
      "\n"
     ]
    },
    {
     "name": "stderr",
     "output_type": "stream",
     "text": [
      "Training: : 100%|███████████████████████████████████| 196/196 [01:34<00:00,  2.08batch/s, accuracy=91.9, loss=0.236]\n",
      "Validation: : 100%|████████████████████████████████| 40/40 [00:04<00:00,  9.33batch/s, val_acc=90.3, val_loss=0.292]\n"
     ]
    },
    {
     "name": "stdout",
     "output_type": "stream",
     "text": [
      "\n",
      "epoch: 45 training loss = 0.2357, training accuracy = 91.87%, val_loss = 0.2918, val_accuracy = 90.35% LR = 0.0010 & beta = 5.853659\n",
      "\n",
      "Saving model with highest val acc = 90.3500%\n",
      "\n"
     ]
    },
    {
     "name": "stderr",
     "output_type": "stream",
     "text": [
      "Training: : 100%|███████████████████████████████████| 196/196 [01:34<00:00,  2.08batch/s, accuracy=93.5, loss=0.192]\n",
      "Validation: : 100%|████████████████████████████████| 40/40 [00:04<00:00,  9.30batch/s, val_acc=90.8, val_loss=0.275]\n"
     ]
    },
    {
     "name": "stdout",
     "output_type": "stream",
     "text": [
      "\n",
      "epoch: 46 training loss = 0.1925, training accuracy = 93.53%, val_loss = 0.2750, val_accuracy = 90.83% LR = 0.0010 & beta = 5.856497\n",
      "\n",
      "Saving model with highest val acc = 90.8300%\n",
      "\n"
     ]
    },
    {
     "name": "stderr",
     "output_type": "stream",
     "text": [
      "Training: : 100%|███████████████████████████████████| 196/196 [01:34<00:00,  2.08batch/s, accuracy=94.2, loss=0.177]\n",
      "Validation: : 100%|██████████████████████████████████| 40/40 [00:04<00:00,  9.32batch/s, val_acc=91, val_loss=0.272]\n"
     ]
    },
    {
     "name": "stdout",
     "output_type": "stream",
     "text": [
      "\n",
      "epoch: 47 training loss = 0.1770, training accuracy = 94.22%, val_loss = 0.2716, val_accuracy = 91.04% LR = 0.0010 & beta = 5.857751\n",
      "\n",
      "Saving model with highest val acc = 91.0400%\n",
      "\n"
     ]
    },
    {
     "name": "stderr",
     "output_type": "stream",
     "text": [
      "Training: : 100%|███████████████████████████████████| 196/196 [01:34<00:00,  2.08batch/s, accuracy=94.5, loss=0.172]\n",
      "Validation: : 100%|████████████████████████████████| 40/40 [00:04<00:00,  9.33batch/s, val_acc=91.3, val_loss=0.264]\n"
     ]
    },
    {
     "name": "stdout",
     "output_type": "stream",
     "text": [
      "\n",
      "epoch: 48 training loss = 0.1718, training accuracy = 94.50%, val_loss = 0.2643, val_accuracy = 91.32% LR = 0.0010 & beta = 5.859433\n",
      "\n",
      "Saving model with highest val acc = 91.3200%\n",
      "\n"
     ]
    },
    {
     "name": "stderr",
     "output_type": "stream",
     "text": [
      "Training: : 100%|███████████████████████████████████| 196/196 [01:34<00:00,  2.08batch/s, accuracy=94.6, loss=0.166]\n",
      "Validation: : 100%|████████████████████████████████| 40/40 [00:04<00:00,  9.34batch/s, val_acc=91.2, val_loss=0.267]\n"
     ]
    },
    {
     "name": "stdout",
     "output_type": "stream",
     "text": [
      "\n",
      "epoch: 49 training loss = 0.1661, training accuracy = 94.56%, val_loss = 0.2669, val_accuracy = 91.17% LR = 0.0010 & beta = 5.860623\n",
      "\n"
     ]
    },
    {
     "name": "stderr",
     "output_type": "stream",
     "text": [
      "Training: : 100%|███████████████████████████████████| 196/196 [01:33<00:00,  2.09batch/s, accuracy=94.7, loss=0.162]\n",
      "Validation: : 100%|████████████████████████████████| 40/40 [00:04<00:00,  9.35batch/s, val_acc=91.3, val_loss=0.267]\n"
     ]
    },
    {
     "name": "stdout",
     "output_type": "stream",
     "text": [
      "\n",
      "epoch: 50 training loss = 0.1622, training accuracy = 94.72%, val_loss = 0.2665, val_accuracy = 91.26% LR = 0.0010 & beta = 5.861127\n",
      "\n"
     ]
    },
    {
     "name": "stderr",
     "output_type": "stream",
     "text": [
      "Training: : 100%|███████████████████████████████████| 196/196 [01:34<00:00,  2.08batch/s, accuracy=94.8, loss=0.158]\n",
      "Validation: : 100%|████████████████████████████████| 40/40 [00:04<00:00,  9.34batch/s, val_acc=91.4, val_loss=0.266]\n"
     ]
    },
    {
     "name": "stdout",
     "output_type": "stream",
     "text": [
      "\n",
      "epoch: 51 training loss = 0.1582, training accuracy = 94.80%, val_loss = 0.2658, val_accuracy = 91.42% LR = 0.0010 & beta = 5.862113\n",
      "\n",
      "Saving model with highest val acc = 91.4200%\n",
      "\n"
     ]
    },
    {
     "name": "stderr",
     "output_type": "stream",
     "text": [
      "Training: : 100%|███████████████████████████████████| 196/196 [01:34<00:00,  2.08batch/s, accuracy=94.9, loss=0.156]\n",
      "Validation: : 100%|████████████████████████████████| 40/40 [00:04<00:00,  9.33batch/s, val_acc=91.4, val_loss=0.265]\n"
     ]
    },
    {
     "name": "stdout",
     "output_type": "stream",
     "text": [
      "\n",
      "epoch: 52 training loss = 0.1561, training accuracy = 94.93%, val_loss = 0.2654, val_accuracy = 91.44% LR = 0.0010 & beta = 5.863811\n",
      "\n",
      "Saving model with highest val acc = 91.4400%\n",
      "\n"
     ]
    },
    {
     "name": "stderr",
     "output_type": "stream",
     "text": [
      "Training: : 100%|███████████████████████████████████| 196/196 [01:33<00:00,  2.09batch/s, accuracy=94.9, loss=0.153]\n",
      "Validation: : 100%|████████████████████████████████| 40/40 [00:04<00:00,  9.35batch/s, val_acc=91.3, val_loss=0.264]\n"
     ]
    },
    {
     "name": "stdout",
     "output_type": "stream",
     "text": [
      "\n",
      "epoch: 53 training loss = 0.1530, training accuracy = 94.92%, val_loss = 0.2645, val_accuracy = 91.32% LR = 0.0010 & beta = 5.863107\n",
      "\n"
     ]
    },
    {
     "name": "stderr",
     "output_type": "stream",
     "text": [
      "Training: : 100%|███████████████████████████████████| 196/196 [01:33<00:00,  2.09batch/s, accuracy=95.2, loss=0.148]\n",
      "Validation: : 100%|████████████████████████████████| 40/40 [00:04<00:00,  9.35batch/s, val_acc=91.4, val_loss=0.269]\n"
     ]
    },
    {
     "name": "stdout",
     "output_type": "stream",
     "text": [
      "\n",
      "epoch: 54 training loss = 0.1481, training accuracy = 95.16%, val_loss = 0.2691, val_accuracy = 91.38% LR = 0.0010 & beta = 5.864272\n",
      "\n"
     ]
    },
    {
     "name": "stderr",
     "output_type": "stream",
     "text": [
      "Training: : 100%|████████████████████████████████████| 196/196 [01:34<00:00,  2.08batch/s, accuracy=95.2, loss=0.15]\n",
      "Validation: : 100%|████████████████████████████████| 40/40 [00:04<00:00,  9.33batch/s, val_acc=91.4, val_loss=0.269]\n"
     ]
    },
    {
     "name": "stdout",
     "output_type": "stream",
     "text": [
      "\n",
      "epoch: 55 training loss = 0.1497, training accuracy = 95.18%, val_loss = 0.2689, val_accuracy = 91.43% LR = 0.0010 & beta = 5.865068\n",
      "\n"
     ]
    },
    {
     "name": "stderr",
     "output_type": "stream",
     "text": [
      "Training: : 100%|███████████████████████████████████| 196/196 [01:34<00:00,  2.08batch/s, accuracy=95.3, loss=0.146]\n",
      "Validation: : 100%|████████████████████████████████| 40/40 [00:04<00:00,  9.33batch/s, val_acc=91.3, val_loss=0.267]\n"
     ]
    },
    {
     "name": "stdout",
     "output_type": "stream",
     "text": [
      "\n",
      "epoch: 56 training loss = 0.1464, training accuracy = 95.33%, val_loss = 0.2669, val_accuracy = 91.34% LR = 0.0010 & beta = 5.865669\n",
      "\n"
     ]
    },
    {
     "name": "stderr",
     "output_type": "stream",
     "text": [
      "Training: : 100%|███████████████████████████████████| 196/196 [01:34<00:00,  2.08batch/s, accuracy=95.3, loss=0.146]\n",
      "Validation: : 100%|████████████████████████████████| 40/40 [00:04<00:00,  9.34batch/s, val_acc=91.3, val_loss=0.268]\n"
     ]
    },
    {
     "name": "stdout",
     "output_type": "stream",
     "text": [
      "\n",
      "epoch: 57 training loss = 0.1459, training accuracy = 95.29%, val_loss = 0.2682, val_accuracy = 91.27% LR = 0.0010 & beta = 5.866251\n",
      "\n"
     ]
    },
    {
     "name": "stderr",
     "output_type": "stream",
     "text": [
      "Training: : 100%|███████████████████████████████████| 196/196 [01:33<00:00,  2.09batch/s, accuracy=95.5, loss=0.139]\n",
      "Validation: : 100%|████████████████████████████████| 40/40 [00:04<00:00,  9.34batch/s, val_acc=91.3, val_loss=0.269]\n"
     ]
    },
    {
     "name": "stdout",
     "output_type": "stream",
     "text": [
      "\n",
      "epoch: 58 training loss = 0.1392, training accuracy = 95.49%, val_loss = 0.2692, val_accuracy = 91.30% LR = 0.0010 & beta = 5.866070\n",
      "\n"
     ]
    },
    {
     "name": "stderr",
     "output_type": "stream",
     "text": [
      "Training: : 100%|███████████████████████████████████| 196/196 [01:33<00:00,  2.09batch/s, accuracy=95.5, loss=0.144]\n",
      "Validation: : 100%|████████████████████████████████| 40/40 [00:04<00:00,  9.34batch/s, val_acc=91.4, val_loss=0.265]\n"
     ]
    },
    {
     "name": "stdout",
     "output_type": "stream",
     "text": [
      "\n",
      "epoch: 59 training loss = 0.1436, training accuracy = 95.46%, val_loss = 0.2654, val_accuracy = 91.40% LR = 0.0010 & beta = 5.866460\n",
      "\n"
     ]
    },
    {
     "name": "stderr",
     "output_type": "stream",
     "text": [
      "Training: : 100%|████████████████████████████████████| 196/196 [01:33<00:00,  2.09batch/s, accuracy=95.6, loss=0.14]\n",
      "Validation: : 100%|████████████████████████████████| 40/40 [00:04<00:00,  9.33batch/s, val_acc=91.3, val_loss=0.269]\n"
     ]
    },
    {
     "name": "stdout",
     "output_type": "stream",
     "text": [
      "\n",
      "epoch: 60 training loss = 0.1401, training accuracy = 95.56%, val_loss = 0.2691, val_accuracy = 91.28% LR = 0.0010 & beta = 5.866505\n",
      "\n"
     ]
    },
    {
     "name": "stderr",
     "output_type": "stream",
     "text": [
      "Training: : 100%|███████████████████████████████████| 196/196 [01:34<00:00,  2.08batch/s, accuracy=95.6, loss=0.136]\n",
      "Validation: : 100%|████████████████████████████████| 40/40 [00:04<00:00,  9.36batch/s, val_acc=91.2, val_loss=0.269]\n"
     ]
    },
    {
     "name": "stdout",
     "output_type": "stream",
     "text": [
      "\n",
      "epoch: 61 training loss = 0.1359, training accuracy = 95.60%, val_loss = 0.2687, val_accuracy = 91.25% LR = 0.0010 & beta = 5.865776\n",
      "\n"
     ]
    },
    {
     "name": "stderr",
     "output_type": "stream",
     "text": [
      "Training: : 100%|███████████████████████████████████| 196/196 [01:34<00:00,  2.08batch/s, accuracy=95.7, loss=0.135]\n",
      "Validation: : 100%|████████████████████████████████| 40/40 [00:04<00:00,  9.33batch/s, val_acc=91.4, val_loss=0.269]\n"
     ]
    },
    {
     "name": "stdout",
     "output_type": "stream",
     "text": [
      "\n",
      "epoch: 62 training loss = 0.1354, training accuracy = 95.71%, val_loss = 0.2692, val_accuracy = 91.42% LR = 0.0010 & beta = 5.865740\n",
      "\n"
     ]
    },
    {
     "name": "stderr",
     "output_type": "stream",
     "text": [
      "Training: : 100%|███████████████████████████████████| 196/196 [01:33<00:00,  2.09batch/s, accuracy=95.6, loss=0.134]\n",
      "Validation: : 100%|████████████████████████████████| 40/40 [00:04<00:00,  9.34batch/s, val_acc=91.4, val_loss=0.268]\n"
     ]
    },
    {
     "name": "stdout",
     "output_type": "stream",
     "text": [
      "\n",
      "epoch: 63 training loss = 0.1336, training accuracy = 95.62%, val_loss = 0.2682, val_accuracy = 91.42% LR = 0.0010 & beta = 5.865839\n",
      "\n"
     ]
    },
    {
     "name": "stderr",
     "output_type": "stream",
     "text": [
      "Training: : 100%|███████████████████████████████████| 196/196 [01:34<00:00,  2.08batch/s, accuracy=95.7, loss=0.134]\n",
      "Validation: : 100%|█████████████████████████████████| 40/40 [00:04<00:00,  9.32batch/s, val_acc=91.5, val_loss=0.27]\n"
     ]
    },
    {
     "name": "stdout",
     "output_type": "stream",
     "text": [
      "\n",
      "epoch: 64 training loss = 0.1337, training accuracy = 95.70%, val_loss = 0.2700, val_accuracy = 91.46% LR = 0.0010 & beta = 5.865566\n",
      "\n",
      "Saving model with highest val acc = 91.4600%\n",
      "\n"
     ]
    },
    {
     "name": "stderr",
     "output_type": "stream",
     "text": [
      "Training: : 100%|█████████████████████████████████████| 196/196 [01:34<00:00,  2.08batch/s, accuracy=96, loss=0.127]\n",
      "Validation: : 100%|█████████████████████████████████| 40/40 [00:04<00:00,  9.44batch/s, val_acc=91.2, val_loss=0.27]\n"
     ]
    },
    {
     "name": "stdout",
     "output_type": "stream",
     "text": [
      "\n",
      "epoch: 65 training loss = 0.1266, training accuracy = 95.98%, val_loss = 0.2703, val_accuracy = 91.18% LR = 0.0010 & beta = 5.866371\n",
      "\n"
     ]
    },
    {
     "name": "stderr",
     "output_type": "stream",
     "text": [
      "Training: : 100%|███████████████████████████████████| 196/196 [01:34<00:00,  2.08batch/s, accuracy=95.9, loss=0.131]\n",
      "Validation: : 100%|████████████████████████████████| 40/40 [00:04<00:00,  9.33batch/s, val_acc=91.3, val_loss=0.271]\n"
     ]
    },
    {
     "name": "stdout",
     "output_type": "stream",
     "text": [
      "\n",
      "epoch: 66 training loss = 0.1309, training accuracy = 95.88%, val_loss = 0.2709, val_accuracy = 91.32% LR = 0.0010 & beta = 5.866257\n",
      "\n"
     ]
    },
    {
     "name": "stderr",
     "output_type": "stream",
     "text": [
      "Training: : 100%|███████████████████████████████████| 196/196 [01:34<00:00,  2.08batch/s, accuracy=95.9, loss=0.127]\n",
      "Validation: : 100%|████████████████████████████████| 40/40 [00:04<00:00,  9.34batch/s, val_acc=91.2, val_loss=0.271]\n"
     ]
    },
    {
     "name": "stdout",
     "output_type": "stream",
     "text": [
      "\n",
      "epoch: 67 training loss = 0.1268, training accuracy = 95.88%, val_loss = 0.2712, val_accuracy = 91.25% LR = 0.0010 & beta = 5.866765\n",
      "\n"
     ]
    },
    {
     "name": "stderr",
     "output_type": "stream",
     "text": [
      "Training: : 100%|███████████████████████████████████| 196/196 [01:34<00:00,  2.08batch/s, accuracy=95.9, loss=0.128]\n",
      "Validation: : 100%|████████████████████████████████| 40/40 [00:04<00:00,  9.33batch/s, val_acc=91.4, val_loss=0.269]\n"
     ]
    },
    {
     "name": "stdout",
     "output_type": "stream",
     "text": [
      "\n",
      "epoch: 68 training loss = 0.1280, training accuracy = 95.95%, val_loss = 0.2693, val_accuracy = 91.41% LR = 0.0010 & beta = 5.867671\n",
      "\n"
     ]
    },
    {
     "name": "stderr",
     "output_type": "stream",
     "text": [
      "Training: : 100%|███████████████████████████████████| 196/196 [01:33<00:00,  2.09batch/s, accuracy=96.1, loss=0.123]\n",
      "Validation: : 100%|████████████████████████████████| 40/40 [00:04<00:00,  9.33batch/s, val_acc=91.2, val_loss=0.271]\n"
     ]
    },
    {
     "name": "stdout",
     "output_type": "stream",
     "text": [
      "\n",
      "epoch: 69 training loss = 0.1228, training accuracy = 96.09%, val_loss = 0.2708, val_accuracy = 91.19% LR = 0.0010 & beta = 5.867098\n",
      "\n"
     ]
    },
    {
     "name": "stderr",
     "output_type": "stream",
     "text": [
      "Training: : 100%|███████████████████████████████████| 196/196 [01:34<00:00,  2.08batch/s, accuracy=96.1, loss=0.123]\n",
      "Validation: : 100%|████████████████████████████████| 40/40 [00:04<00:00,  9.35batch/s, val_acc=91.5, val_loss=0.268]\n"
     ]
    },
    {
     "name": "stdout",
     "output_type": "stream",
     "text": [
      "\n",
      "epoch: 70 training loss = 0.1232, training accuracy = 96.12%, val_loss = 0.2682, val_accuracy = 91.45% LR = 0.0001 & beta = 5.867257\n",
      "\n"
     ]
    },
    {
     "name": "stderr",
     "output_type": "stream",
     "text": [
      "Training: : 100%|███████████████████████████████████| 196/196 [01:33<00:00,  2.09batch/s, accuracy=96.3, loss=0.118]\n",
      "Validation: : 100%|████████████████████████████████| 40/40 [00:04<00:00,  9.34batch/s, val_acc=91.6, val_loss=0.268]\n"
     ]
    },
    {
     "name": "stdout",
     "output_type": "stream",
     "text": [
      "\n",
      "epoch: 71 training loss = 0.1175, training accuracy = 96.29%, val_loss = 0.2681, val_accuracy = 91.56% LR = 0.0001 & beta = 5.867233\n",
      "\n",
      "Saving model with highest val acc = 91.5600%\n",
      "\n"
     ]
    },
    {
     "name": "stderr",
     "output_type": "stream",
     "text": [
      "Training: : 100%|███████████████████████████████████| 196/196 [01:33<00:00,  2.09batch/s, accuracy=96.2, loss=0.122]\n",
      "Validation: : 100%|████████████████████████████████| 40/40 [00:04<00:00,  9.35batch/s, val_acc=91.5, val_loss=0.267]\n"
     ]
    },
    {
     "name": "stdout",
     "output_type": "stream",
     "text": [
      "\n",
      "epoch: 72 training loss = 0.1216, training accuracy = 96.24%, val_loss = 0.2674, val_accuracy = 91.50% LR = 0.0001 & beta = 5.867229\n",
      "\n"
     ]
    },
    {
     "name": "stderr",
     "output_type": "stream",
     "text": [
      "Training: : 100%|███████████████████████████████████| 196/196 [01:33<00:00,  2.09batch/s, accuracy=96.2, loss=0.122]\n",
      "Validation: : 100%|████████████████████████████████| 40/40 [00:04<00:00,  9.36batch/s, val_acc=91.5, val_loss=0.268]\n"
     ]
    },
    {
     "name": "stdout",
     "output_type": "stream",
     "text": [
      "\n",
      "epoch: 73 training loss = 0.1219, training accuracy = 96.15%, val_loss = 0.2683, val_accuracy = 91.54% LR = 0.0001 & beta = 5.867147\n",
      "\n"
     ]
    },
    {
     "name": "stderr",
     "output_type": "stream",
     "text": [
      "Training: : 100%|███████████████████████████████████| 196/196 [01:33<00:00,  2.09batch/s, accuracy=96.4, loss=0.117]\n",
      "Validation: : 100%|████████████████████████████████| 40/40 [00:04<00:00,  9.32batch/s, val_acc=91.5, val_loss=0.266]\n"
     ]
    },
    {
     "name": "stdout",
     "output_type": "stream",
     "text": [
      "\n",
      "epoch: 74 training loss = 0.1172, training accuracy = 96.40%, val_loss = 0.2658, val_accuracy = 91.53% LR = 0.0001 & beta = 5.867158\n",
      "\n"
     ]
    },
    {
     "name": "stderr",
     "output_type": "stream",
     "text": [
      "Training: : 100%|███████████████████████████████████| 196/196 [01:33<00:00,  2.09batch/s, accuracy=96.2, loss=0.119]\n",
      "Validation: : 100%|████████████████████████████████| 40/40 [00:04<00:00,  9.34batch/s, val_acc=91.5, val_loss=0.268]\n"
     ]
    },
    {
     "name": "stdout",
     "output_type": "stream",
     "text": [
      "\n",
      "epoch: 75 training loss = 0.1187, training accuracy = 96.21%, val_loss = 0.2684, val_accuracy = 91.52% LR = 0.0001 & beta = 5.867083\n",
      "\n"
     ]
    },
    {
     "name": "stderr",
     "output_type": "stream",
     "text": [
      "Training: : 100%|███████████████████████████████████| 196/196 [01:34<00:00,  2.08batch/s, accuracy=96.3, loss=0.117]\n",
      "Validation: : 100%|████████████████████████████████| 40/40 [00:04<00:00,  9.34batch/s, val_acc=91.5, val_loss=0.268]\n"
     ]
    },
    {
     "name": "stdout",
     "output_type": "stream",
     "text": [
      "\n",
      "epoch: 76 training loss = 0.1166, training accuracy = 96.34%, val_loss = 0.2677, val_accuracy = 91.45% LR = 0.0001 & beta = 5.867015\n",
      "\n"
     ]
    },
    {
     "name": "stderr",
     "output_type": "stream",
     "text": [
      "Training: : 100%|███████████████████████████████████| 196/196 [01:33<00:00,  2.09batch/s, accuracy=96.3, loss=0.117]\n",
      "Validation: : 100%|████████████████████████████████| 40/40 [00:04<00:00,  9.34batch/s, val_acc=91.5, val_loss=0.268]\n"
     ]
    },
    {
     "name": "stdout",
     "output_type": "stream",
     "text": [
      "\n",
      "epoch: 77 training loss = 0.1170, training accuracy = 96.28%, val_loss = 0.2683, val_accuracy = 91.50% LR = 0.0001 & beta = 5.866958\n",
      "\n"
     ]
    },
    {
     "name": "stderr",
     "output_type": "stream",
     "text": [
      "Training: : 100%|███████████████████████████████████| 196/196 [01:34<00:00,  2.08batch/s, accuracy=96.4, loss=0.114]\n",
      "Validation: : 100%|████████████████████████████████| 40/40 [00:04<00:00,  9.37batch/s, val_acc=91.6, val_loss=0.268]\n"
     ]
    },
    {
     "name": "stdout",
     "output_type": "stream",
     "text": [
      "\n",
      "epoch: 78 training loss = 0.1138, training accuracy = 96.39%, val_loss = 0.2683, val_accuracy = 91.59% LR = 0.0001 & beta = 5.866834\n",
      "\n",
      "Saving model with highest val acc = 91.5900%\n",
      "\n"
     ]
    },
    {
     "name": "stderr",
     "output_type": "stream",
     "text": [
      "Training: : 100%|███████████████████████████████████| 196/196 [01:33<00:00,  2.09batch/s, accuracy=96.3, loss=0.118]\n",
      "Validation: : 100%|████████████████████████████████| 40/40 [00:04<00:00,  9.34batch/s, val_acc=91.5, val_loss=0.268]\n"
     ]
    },
    {
     "name": "stdout",
     "output_type": "stream",
     "text": [
      "\n",
      "epoch: 79 training loss = 0.1175, training accuracy = 96.32%, val_loss = 0.2682, val_accuracy = 91.49% LR = 0.0001 & beta = 5.866755\n",
      "\n"
     ]
    },
    {
     "name": "stderr",
     "output_type": "stream",
     "text": [
      "Training: : 100%|███████████████████████████████████| 196/196 [01:33<00:00,  2.09batch/s, accuracy=96.4, loss=0.114]\n",
      "Validation: : 100%|████████████████████████████████| 40/40 [00:04<00:00,  9.35batch/s, val_acc=91.6, val_loss=0.268]\n"
     ]
    },
    {
     "name": "stdout",
     "output_type": "stream",
     "text": [
      "\n",
      "epoch: 80 training loss = 0.1138, training accuracy = 96.45%, val_loss = 0.2677, val_accuracy = 91.58% LR = 0.0001 & beta = 5.866787\n",
      "\n"
     ]
    },
    {
     "name": "stderr",
     "output_type": "stream",
     "text": [
      "Training: : 100%|███████████████████████████████████| 196/196 [01:33<00:00,  2.09batch/s, accuracy=96.4, loss=0.114]\n",
      "Validation: : 100%|████████████████████████████████| 40/40 [00:04<00:00,  9.34batch/s, val_acc=91.5, val_loss=0.266]\n"
     ]
    },
    {
     "name": "stdout",
     "output_type": "stream",
     "text": [
      "\n",
      "epoch: 81 training loss = 0.1142, training accuracy = 96.43%, val_loss = 0.2664, val_accuracy = 91.53% LR = 0.0001 & beta = 5.866889\n",
      "\n"
     ]
    },
    {
     "name": "stderr",
     "output_type": "stream",
     "text": [
      "Training: : 100%|███████████████████████████████████| 196/196 [01:33<00:00,  2.09batch/s, accuracy=96.3, loss=0.119]\n",
      "Validation: : 100%|████████████████████████████████| 40/40 [00:04<00:00,  9.36batch/s, val_acc=91.5, val_loss=0.267]\n"
     ]
    },
    {
     "name": "stdout",
     "output_type": "stream",
     "text": [
      "\n",
      "epoch: 82 training loss = 0.1193, training accuracy = 96.28%, val_loss = 0.2672, val_accuracy = 91.47% LR = 0.0001 & beta = 5.866879\n",
      "\n"
     ]
    },
    {
     "name": "stderr",
     "output_type": "stream",
     "text": [
      "Training: : 100%|███████████████████████████████████| 196/196 [01:34<00:00,  2.08batch/s, accuracy=96.4, loss=0.115]\n",
      "Validation: : 100%|████████████████████████████████| 40/40 [00:04<00:00,  9.33batch/s, val_acc=91.6, val_loss=0.267]\n"
     ]
    },
    {
     "name": "stdout",
     "output_type": "stream",
     "text": [
      "\n",
      "epoch: 83 training loss = 0.1154, training accuracy = 96.41%, val_loss = 0.2668, val_accuracy = 91.56% LR = 0.0001 & beta = 5.866838\n",
      "\n"
     ]
    },
    {
     "name": "stderr",
     "output_type": "stream",
     "text": [
      "Training: : 100%|███████████████████████████████████| 196/196 [01:33<00:00,  2.09batch/s, accuracy=96.5, loss=0.112]\n",
      "Validation: : 100%|████████████████████████████████| 40/40 [00:04<00:00,  9.35batch/s, val_acc=91.6, val_loss=0.267]\n"
     ]
    },
    {
     "name": "stdout",
     "output_type": "stream",
     "text": [
      "\n",
      "epoch: 84 training loss = 0.1117, training accuracy = 96.54%, val_loss = 0.2670, val_accuracy = 91.56% LR = 0.0001 & beta = 5.866815\n",
      "\n"
     ]
    },
    {
     "name": "stderr",
     "output_type": "stream",
     "text": [
      "Training: : 100%|███████████████████████████████████| 196/196 [01:33<00:00,  2.09batch/s, accuracy=96.4, loss=0.115]\n",
      "Validation: : 100%|████████████████████████████████| 40/40 [00:04<00:00,  9.34batch/s, val_acc=91.6, val_loss=0.268]"
     ]
    },
    {
     "name": "stdout",
     "output_type": "stream",
     "text": [
      "\n",
      "epoch: 85 training loss = 0.1153, training accuracy = 96.42%, val_loss = 0.2682, val_accuracy = 91.58% LR = 0.0001 & beta = 5.866677\n",
      "\n"
     ]
    },
    {
     "name": "stderr",
     "output_type": "stream",
     "text": [
      "\n"
     ]
    }
   ],
   "source": [
    "for epoch in range(num_epochs):\n",
    "\n",
    "    # Train and validate model for 1 epoch-\n",
    "    train_loss, train_acc = train_model_progress(\n",
    "        model = model, train_loader = train_loader,\n",
    "        train_dataset = train_dataset\n",
    "    )\n",
    "    val_loss, val_acc = test_model_progress(\n",
    "        model = model, test_loader = val_loader,\n",
    "        test_dataset = val_dataset\n",
    "    )\n",
    "    \n",
    "    curr_lr = optimizer.param_groups[0]['lr']\n",
    "    curr_beta = model.swish_fn.beta.detach().item()\n",
    "    \n",
    "    print(f\"\\nepoch: {epoch + 1} training loss = {train_loss:.4f}, \"\n",
    "          f\"training accuracy = {train_acc:.2f}%, val_loss = {val_loss:.4f}\"\n",
    "          f\", val_accuracy = {val_acc:.2f}% \"\n",
    "          f\"LR = {curr_lr:.4f} & beta = {curr_beta:.6f}\\n\")\n",
    "    \n",
    "    training_history_lr_scheduler[epoch + 1] = {\n",
    "        'loss': train_loss, 'acc': train_acc,\n",
    "        'val_loss': val_loss, 'val_acc': val_acc,\n",
    "        'lr': curr_lr, 'beta': curr_beta\n",
    "    }\n",
    "    \n",
    "    # Save best weights achieved until now-\n",
    "    if (val_acc > best_val_acc):\n",
    "        # update 'best_val_loss' variable to lowest loss encountered so far-\n",
    "        best_val_acc = val_acc\n",
    "\n",
    "        print(f\"Saving model with highest val acc = {val_acc:.4f}%\\n\")\n",
    "        \n",
    "        # Save trained model with 'best' validation accuracy-\n",
    "        torch.save(model.state_dict(), \"ResNet50_best_valacc_model.pth\")\n",
    "        "
   ]
  },
  {
   "cell_type": "code",
   "execution_count": null,
   "id": "7d9d23ca-5658-4cc7-aef6-00f6ee06b8f3",
   "metadata": {},
   "outputs": [],
   "source": []
  },
  {
   "cell_type": "code",
   "execution_count": 19,
   "id": "f7cf3533-f2de-4659-9e8a-bb1c59c37bb3",
   "metadata": {},
   "outputs": [],
   "source": [
    "# Save training metrics as Python3 history for later analysis-\n",
    "with open(\"ResNet50_swish_training_history.pkl\", \"wb\") as file:\n",
    "    pickle.dump(training_history_lr_scheduler, file)"
   ]
  },
  {
   "cell_type": "code",
   "execution_count": null,
   "id": "6581b739-ffff-49fc-94a0-1b76e05361a8",
   "metadata": {},
   "outputs": [],
   "source": []
  },
  {
   "cell_type": "code",
   "execution_count": 20,
   "id": "cef6b168-5e0a-41ee-8697-47d87ef24a6c",
   "metadata": {},
   "outputs": [],
   "source": [
    "del model"
   ]
  },
  {
   "cell_type": "code",
   "execution_count": null,
   "id": "e6d2e412-4d88-461e-8a4d-ae595d2a46f4",
   "metadata": {},
   "outputs": [],
   "source": []
  },
  {
   "cell_type": "code",
   "execution_count": null,
   "id": "5a3aac2c-2346-4c0d-9403-953ace452750",
   "metadata": {},
   "outputs": [],
   "source": []
  },
  {
   "cell_type": "code",
   "execution_count": 21,
   "id": "655f8ad7-9c98-4eb8-9004-a101f24a3a8d",
   "metadata": {},
   "outputs": [
    {
     "data": {
      "image/png": "[encoded data removed]",
      "text/plain": [
       "<Figure size 900x700 with 1 Axes>"
      ]
     },
     "metadata": {},
     "output_type": "display_data"
    }
   ],
   "source": [
    "plt.figure(figsize = (9, 7))\n",
    "plt.plot(list(training_history_lr_scheduler.keys()), [training_history_lr_scheduler[k]['acc'] for k in training_history_lr_scheduler.keys()], label = 'training acc')\n",
    "plt.plot(list(training_history_lr_scheduler.keys()), [training_history_lr_scheduler[k]['val_acc'] for k in training_history_lr_scheduler.keys()], label = 'val acc')\n",
    "plt.title(\"ResNet-50: Training Accuracy\")\n",
    "plt.xlabel(\"epochs\")\n",
    "plt.ylabel(\"accuracy (%)\")\n",
    "plt.legend(loc = 'best')\n",
    "plt.show()"
   ]
  },
  {
   "cell_type": "code",
   "execution_count": 22,
   "id": "95ee8bc7-b387-48f4-a29c-089d8f21a0d0",
   "metadata": {},
   "outputs": [
    {
     "data": {
      "image/png": "[encoded data removed]",
      "text/plain": [
       "<Figure size 900x700 with 1 Axes>"
      ]
     },
     "metadata": {},
     "output_type": "display_data"
    }
   ],
   "source": [
    "plt.figure(figsize = (9, 7))\n",
    "plt.plot(list(training_history_lr_scheduler.keys()), [training_history_lr_scheduler[k]['loss'] for k in training_history_lr_scheduler.keys()], label = 'training loss')\n",
    "plt.plot(list(training_history_lr_scheduler.keys()), [training_history_lr_scheduler[k]['val_loss'] for k in training_history_lr_scheduler.keys()], label = 'val loss')\n",
    "plt.xlabel(\"epochs\")\n",
    "plt.ylabel(\"loss\")\n",
    "plt.legend(loc = 'best')\n",
    "plt.title(\"ResNet-50: Training Loss\")\n",
    "plt.show()"
   ]
  },
  {
   "cell_type": "code",
   "execution_count": 23,
   "id": "2aedb3e1-d3c2-490f-90d8-159aa5ada459",
   "metadata": {},
   "outputs": [
    {
     "data": {
      "image/png": "[encoded data removed]",
      "text/plain": [
       "<Figure size 900x700 with 1 Axes>"
      ]
     },
     "metadata": {},
     "output_type": "display_data"
    }
   ],
   "source": [
    "plt.figure(figsize = (9, 7))\n",
    "plt.plot(list(training_history_lr_scheduler.keys()), [training_history_lr_scheduler[k]['lr'] for k in training_history_lr_scheduler.keys()])\n",
    "plt.xlabel(\"epochs\")\n",
    "plt.ylabel(\"lr\")\n",
    "plt.title(\"ResNet-50: Learning-Rate\")\n",
    "plt.show()"
   ]
  },
  {
   "cell_type": "code",
   "execution_count": 24,
   "id": "3d704cac-4aa3-4b0f-bb43-7d6e186e810b",
   "metadata": {},
   "outputs": [
    {
     "data": {
      "image/png": "[encoded data removed]",
      "text/plain": [
       "<Figure size 900x700 with 1 Axes>"
      ]
     },
     "metadata": {},
     "output_type": "display_data"
    }
   ],
   "source": [
    "plt.figure(figsize = (9, 7))\n",
    "plt.plot(list(training_history_lr_scheduler.keys()), [training_history_lr_scheduler[k]['beta'] for k in training_history_lr_scheduler.keys()])\n",
    "plt.xlabel(\"epochs\")\n",
    "plt.ylabel(\"beta\")\n",
    "plt.title(\"ResNet-50: Swish (beta) activation function\")\n",
    "plt.show()"
   ]
  },
  {
   "cell_type": "code",
   "execution_count": null,
   "id": "5d1f4698-e0db-456d-9aec-c75934d76181",
   "metadata": {},
   "outputs": [],
   "source": []
  },
  {
   "cell_type": "code",
   "execution_count": 25,
   "id": "258cd1d1-2692-427a-9df9-d164c1f04f38",
   "metadata": {},
   "outputs": [
    {
     "name": "stdout",
     "output_type": "stream",
     "text": [
      "highest val acc = 91.59%  is obtained for beta = 5.8668\n"
     ]
    }
   ],
   "source": [
    "# max([train_history[k]['val_acc'] for k in train_history.keys()])\n",
    "max_val_acc = 0\n",
    "max_epoch = 0\n",
    "\n",
    "for e in training_history_lr_scheduler.keys():\n",
    "    if training_history_lr_scheduler[e]['val_acc'] > max_val_acc:\n",
    "        max_val_acc = training_history_lr_scheduler[e]['val_acc']\n",
    "        max_epoch = e\n",
    "\n",
    "print(f\"highest val acc = {training_history_lr_scheduler[max_epoch]['val_acc']:.2f}%\",\n",
    "      f\" is obtained for beta = {training_history_lr_scheduler[max_epoch]['beta']:.4f}\"\n",
    ")"
   ]
  },
  {
   "cell_type": "code",
   "execution_count": null,
   "id": "f3a42f25-fbd2-4efc-a7a8-befc11e69d63",
   "metadata": {},
   "outputs": [],
   "source": []
  },
  {
   "cell_type": "code",
   "execution_count": null,
   "id": "edf04050-fcf5-4a64-b89d-fbd643fda9e9",
   "metadata": {},
   "outputs": [],
   "source": [
    "# Initialize and load 'best' trained parameters from above-\n",
    "best_model = ResNet50()\n",
    "best_model.load_state_dict(torch.load(\"ResNet50_best_valacc_model.pth\"))\n",
    "\n",
    "# Move to GPU device-\n",
    "best_model.to(device)"
   ]
  },
  {
   "cell_type": "code",
   "execution_count": 29,
   "id": "dec81d42-73d2-4e83-94c1-f9e6df0674e0",
   "metadata": {},
   "outputs": [
    {
     "name": "stderr",
     "output_type": "stream",
     "text": [
      "Validation: : 100%|████████████████████████████████| 40/40 [00:04<00:00,  9.32batch/s, val_acc=91.6, val_loss=0.268]"
     ]
    },
    {
     "name": "stdout",
     "output_type": "stream",
     "text": [
      "ResNet-50 'best' trained validation metrics:  loss = 0.2683 & acc = 91.59%\n"
     ]
    },
    {
     "name": "stderr",
     "output_type": "stream",
     "text": [
      "\n"
     ]
    }
   ],
   "source": [
    "# Get validation metrics of 'best' trained model-\n",
    "val_loss, val_acc = test_model_progress(\n",
    "    model = best_model, test_loader = val_loader,\n",
    "    test_dataset = val_dataset\n",
    ")\n",
    "\n",
    "print(\"ResNet-50 'best' trained validation metrics: \",\n",
    "      f\"loss = {val_loss:.4f} & acc = {val_acc:.2f}%\"\n",
    ")"
   ]
  },
  {
   "cell_type": "code",
   "execution_count": null,
   "id": "3810040b-e519-40aa-8bab-b427ecdcaf5f",
   "metadata": {},
   "outputs": [],
   "source": []
  },
  {
   "cell_type": "code",
   "execution_count": null,
   "id": "fcb37708-683b-4bf3-8357-ca9d870f0d97",
   "metadata": {},
   "outputs": [],
   "source": []
  }
 ],
 "metadata": {
  "kernelspec": {
   "display_name": "Python 3 (ipykernel)",
   "language": "python",
   "name": "python3"
  },
  "language_info": {
   "codemirror_mode": {
    "name": "ipython",
    "version": 3
   },
   "file_extension": ".py",
   "mimetype": "text/x-python",
   "name": "python",
   "nbconvert_exporter": "python",
   "pygments_lexer": "ipython3",
   "version": "3.9.16"
  }
 },
 "nbformat": 4,
 "nbformat_minor": 5
}
