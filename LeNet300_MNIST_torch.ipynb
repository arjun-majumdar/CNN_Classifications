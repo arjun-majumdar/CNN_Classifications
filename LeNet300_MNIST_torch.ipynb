{
 "cells": [
  {
   "cell_type": "markdown",
   "id": "c970204a-6ffe-4096-84ad-41dd8e7d7a0e",
   "metadata": {},
   "source": [
    "# LeNet-300-100: MNIST + PyTorch\n",
    "\n",
    "Linear learning-rate warmup followed by step-decay."
   ]
  },
  {
   "cell_type": "code",
   "execution_count": 1,
   "id": "30e34f9a-09ba-4f9d-9b46-16dc069479ec",
   "metadata": {},
   "outputs": [
    {
     "name": "stdout",
     "output_type": "stream",
     "text": [
      "env: CUDA_DEVICE_ORDER=PCI_BUS_ID\n",
      "env: CUDA_VISIBLE_DEVICES=0\n"
     ]
    }
   ],
   "source": [
    "# Specify GPU to be used-\n",
    "%env CUDA_DEVICE_ORDER = PCI_BUS_ID\n",
    "%env CUDA_VISIBLE_DEVICES = 0"
   ]
  },
  {
   "cell_type": "code",
   "execution_count": 2,
   "id": "a77a7f22-4aa0-45c1-89f3-6d9d7818b96c",
   "metadata": {},
   "outputs": [],
   "source": [
    "import torch\n",
    "import torch.nn as nn\n",
    "import torchvision\n",
    "import torch.nn.functional as F\n",
    "\n",
    "import numpy as np\n",
    "import torchvision.transforms as transforms\n",
    "import matplotlib.pyplot as plt\n",
    "import os, pickle\n",
    "from tqdm import tqdm\n",
    "from tqdm import trange"
   ]
  },
  {
   "cell_type": "code",
   "execution_count": null,
   "id": "f14835cd-8a24-4d98-96c8-49dd5670f044",
   "metadata": {},
   "outputs": [],
   "source": []
  },
  {
   "cell_type": "code",
   "execution_count": null,
   "id": "6dac0821-840c-4b32-abe9-0d3627e18ab2",
   "metadata": {},
   "outputs": [],
   "source": []
  },
  {
   "cell_type": "code",
   "execution_count": 3,
   "id": "e6101145-00de-4212-b785-64391d91b999",
   "metadata": {},
   "outputs": [
    {
     "name": "stdout",
     "output_type": "stream",
     "text": [
      "torch version: 2.0.0\n",
      "Number of GPU(s) available = 1\n",
      "Current GPU: 0\n",
      "Current GPU name: NVIDIA GeForce RTX 3080 Laptop GPU\n",
      "Available device is cuda\n"
     ]
    }
   ],
   "source": [
    "print(f\"torch version: {torch.__version__}\")\n",
    "\n",
    "\n",
    "# Check if there are multiple devices (i.e., GPU cards)-\n",
    "print(f\"Number of GPU(s) available = {torch.cuda.device_count()}\")\n",
    "\n",
    "if torch.cuda.is_available():\n",
    "    print(f\"Current GPU: {torch.cuda.current_device()}\")\n",
    "    print(f\"Current GPU name: {torch.cuda.get_device_name(torch.cuda.current_device())}\")\n",
    "else:\n",
    "    print(\"PyTorch does not have access to GPU\")\n",
    "\n",
    "# Device configuration-\n",
    "device = torch.device('cuda' if torch.cuda.is_available() else 'cpu')\n",
    "print(f'Available device is {device}')"
   ]
  },
  {
   "cell_type": "code",
   "execution_count": null,
   "id": "e80314e3-9cb8-4efb-aab1-d3cce2c78784",
   "metadata": {},
   "outputs": [],
   "source": []
  },
  {
   "cell_type": "code",
   "execution_count": 4,
   "id": "b9d33c16-9066-41c4-864b-1d52882ff36a",
   "metadata": {},
   "outputs": [],
   "source": [
    "# Specify hyper-parameters\n",
    "batch_size = 256\n",
    "num_classes = 10\n",
    "num_epochs = 85"
   ]
  },
  {
   "cell_type": "code",
   "execution_count": null,
   "id": "6790c5d1-b238-4df5-b2c8-d9c33ef7b0c1",
   "metadata": {},
   "outputs": [],
   "source": []
  },
  {
   "cell_type": "code",
   "execution_count": 5,
   "id": "d61b148f-20cc-4dae-ada6-11f46cc58d83",
   "metadata": {},
   "outputs": [],
   "source": [
    "# MNIST dataset statistics:\n",
    "# mean = tensor([0.1307]) & std dev = tensor([0.3081])\n",
    "mean = np.array([0.1307])\n",
    "std_dev = np.array([0.3081])\n",
    "\n",
    "transforms_apply = transforms.Compose([\n",
    "    transforms.ToTensor(),\n",
    "    transforms.Normalize(mean = mean, std = std_dev)\n",
    "    ])\n",
    "     \n",
    "\n",
    "# MNIST dataset-\n",
    "train_dataset = torchvision.datasets.MNIST(\n",
    "        root = 'C:/Users/arjun/Downloads/data/', train = True,\n",
    "        transform = transforms_apply, download = True\n",
    "        )\n",
    "\n",
    "test_dataset = torchvision.datasets.MNIST(\n",
    "        root = 'C:/Users/arjun/Downloads/data/', train = False,\n",
    "        transform = transforms_apply\n",
    "        )"
   ]
  },
  {
   "cell_type": "code",
   "execution_count": 6,
   "id": "fc61fbd6-7146-4ac5-9605-e25da8f82909",
   "metadata": {},
   "outputs": [],
   "source": [
    "# Create dataloader-\n",
    "train_loader = torch.utils.data.DataLoader(\n",
    "        dataset = train_dataset, batch_size = batch_size,\n",
    "        shuffle = True\n",
    "        )\n",
    "\n",
    "test_loader = torch.utils.data.DataLoader(\n",
    "        dataset = test_dataset, batch_size = batch_size,\n",
    "        shuffle = False\n",
    "        )"
   ]
  },
  {
   "cell_type": "code",
   "execution_count": 7,
   "id": "9b08b014-8cbe-4718-8c7b-be65769574fd",
   "metadata": {},
   "outputs": [
    {
     "data": {
      "text/plain": [
       "(60000, 10000)"
      ]
     },
     "execution_count": 7,
     "metadata": {},
     "output_type": "execute_result"
    }
   ],
   "source": [
    "len(train_dataset), len(test_dataset)"
   ]
  },
  {
   "cell_type": "code",
   "execution_count": null,
   "id": "ef9dee3b-06f4-4ae9-a1a1-79639e5f2510",
   "metadata": {},
   "outputs": [],
   "source": []
  },
  {
   "cell_type": "code",
   "execution_count": 8,
   "id": "dd808ae1-8a51-4b01-8cbb-dc83eb6e5e61",
   "metadata": {},
   "outputs": [
    {
     "data": {
      "text/plain": [
       "(torch.Size([256, 1, 28, 28]), torch.Size([256]))"
      ]
     },
     "execution_count": 8,
     "metadata": {},
     "output_type": "execute_result"
    }
   ],
   "source": [
    "# Sanity check-\n",
    "X, y = next(iter(train_loader))\n",
    "X.shape, y.shape"
   ]
  },
  {
   "cell_type": "code",
   "execution_count": 9,
   "id": "7bcdf9bc-787b-4c71-b996-5a2eae20b484",
   "metadata": {},
   "outputs": [
    {
     "data": {
      "text/plain": [
       "torch.Size([256, 784])"
      ]
     },
     "execution_count": 9,
     "metadata": {},
     "output_type": "execute_result"
    }
   ],
   "source": [
    "# Reshape input so that it can be fed into LeNet-300-100 architecture model-\n",
    "X.reshape(-1, 28 * 28 * 1).shape"
   ]
  },
  {
   "cell_type": "code",
   "execution_count": 10,
   "id": "dd1ff8bb-5fb8-4f31-a26c-05ea8d3a8591",
   "metadata": {},
   "outputs": [
    {
     "data": {
      "image/png": "[encoded data removed]",
      "text/plain": [
       "<Figure size 640x480 with 6 Axes>"
      ]
     },
     "metadata": {},
     "output_type": "display_data"
    }
   ],
   "source": [
    "# Print 6 images from training set-\n",
    "for i in range(6):\n",
    "    plt.subplot(2, 3, i + 1)    # 2 rows & 3 columns\n",
    "    plt.imshow(X[i][0], cmap = 'gray')     # '0' to access first channel\n",
    "plt.show()"
   ]
  },
  {
   "cell_type": "code",
   "execution_count": 11,
   "id": "24444292-94af-4e3d-8322-82490d0d3ec3",
   "metadata": {},
   "outputs": [],
   "source": [
    "del X, y"
   ]
  },
  {
   "cell_type": "code",
   "execution_count": null,
   "id": "633bf7df-bdaa-45cb-8eb9-cf7649b978e9",
   "metadata": {},
   "outputs": [],
   "source": []
  },
  {
   "cell_type": "code",
   "execution_count": null,
   "id": "88948e31-055e-4e38-a89e-4c5bc24ed02d",
   "metadata": {},
   "outputs": [],
   "source": []
  },
  {
   "cell_type": "code",
   "execution_count": 12,
   "id": "eeaef7bb-244b-4170-be40-41fe01cebf89",
   "metadata": {},
   "outputs": [],
   "source": [
    "class LeNet300(nn.Module):\n",
    "    def __init__(self):\n",
    "        super(LeNet300, self).__init__()\n",
    "        \n",
    "        # Define layers-\n",
    "        self.fc1 = nn.Linear(in_features = 28 * 28 * 1, out_features = 300)\n",
    "        self.fc2 = nn.Linear(in_features = 300, out_features = 100)\n",
    "        self.output = nn.Linear(in_features = 100, out_features = 10)\n",
    "        \n",
    "        self.weights_initialization()\n",
    "    \n",
    "    \n",
    "    def forward(self, x):\n",
    "        out = F.leaky_relu(self.fc1(x))\n",
    "        out = F.leaky_relu(self.fc2(out))\n",
    "        return self.output(out)\n",
    "    \n",
    "    \n",
    "    def weights_initialization(self):\n",
    "        '''\n",
    "        When we define all the modules such as the layers in '__init__()'\n",
    "        method above, these are all stored in 'self.modules()'.\n",
    "        We go through each module one by one. This is the entire network,\n",
    "        basically.\n",
    "        '''\n",
    "        for m in self.modules():\n",
    "            if isinstance(m, nn.Linear):\n",
    "                nn.init.xavier_normal_(m.weight)\n",
    "                nn.init.constant_(m.bias, 0)\n",
    "                "
   ]
  },
  {
   "cell_type": "code",
   "execution_count": 13,
   "id": "a7ef1728-af39-4d21-98bf-d150b51bb3c0",
   "metadata": {},
   "outputs": [],
   "source": [
    "# Initialize an instance of LeNet-300-100 dense neural network-\n",
    "model = LeNet300().to(device)"
   ]
  },
  {
   "cell_type": "code",
   "execution_count": 14,
   "id": "28040dfa-6cdb-41d9-a3e4-b4cd8ab018a4",
   "metadata": {},
   "outputs": [],
   "source": [
    "torch.save(model.state_dict(), \"LeNet300_random_params.pth\")"
   ]
  },
  {
   "cell_type": "code",
   "execution_count": null,
   "id": "20b7f684-0fd5-4123-963c-c12b229c72bb",
   "metadata": {},
   "outputs": [],
   "source": []
  },
  {
   "cell_type": "code",
   "execution_count": 15,
   "id": "fe2b1524-9dfa-4846-a13e-d3321766579c",
   "metadata": {},
   "outputs": [],
   "source": [
    "def count_trainable_params(model):\n",
    "    # Count number of layer-wise parameters and total parameters-\n",
    "    tot_params = 0\n",
    "    for param in model.parameters():\n",
    "        # print(f\"layer.shape = {param.shape} has {param.nelement()} parameters\")\n",
    "        tot_params += param.nelement()\n",
    "\n",
    "    return tot_params\n"
   ]
  },
  {
   "cell_type": "code",
   "execution_count": 16,
   "id": "ce1fa9e3-7357-42ce-97ed-b63c1075ecaf",
   "metadata": {},
   "outputs": [
    {
     "name": "stdout",
     "output_type": "stream",
     "text": [
      "LeNet-300-100 has 266610 params\n"
     ]
    }
   ],
   "source": [
    "print(f\"LeNet-300-100 has {count_trainable_params(model = model)} params\")"
   ]
  },
  {
   "cell_type": "code",
   "execution_count": null,
   "id": "ecbcb2f0-e6e5-4609-95a0-cf2c4cc3956f",
   "metadata": {},
   "outputs": [],
   "source": []
  },
  {
   "cell_type": "code",
   "execution_count": null,
   "id": "0a8198e2-be01-45a8-a131-e2d5b75d2463",
   "metadata": {},
   "outputs": [],
   "source": []
  },
  {
   "cell_type": "markdown",
   "id": "6ccd0555-51b3-437c-966e-576be8814fee",
   "metadata": {},
   "source": [
    "### Learning Rate Scheduler\n",
    "\n",
    "Training dataset size = 60K, batch-size = 256, number of training steps per epoch = 60K / 256 = 234.375.\n",
    "\n",
    "After an initial LR warmup of 13 epochs or, 3046.875 = 3047 training iterations:\n",
    "\n",
    "- For the next 32 epochs, or, 6250 steps - until $45^{th}$ epoch, use lr = 01.\n",
    "\n",
    "- For the next 25 epochs, or, 4882.8125 steps - until $70^{th}$ epoch, use lr = 0.01.\n",
    "\n",
    "- For remaninig epochs, use lr = 0.001."
   ]
  },
  {
   "cell_type": "code",
   "execution_count": 17,
   "id": "7de9b68d-43b2-45b3-b589-9d6ced3d30c7",
   "metadata": {},
   "outputs": [],
   "source": [
    "boundaries = [10547, 16406]\n",
    "values = [0.1, 0.01, 0.001]"
   ]
  },
  {
   "cell_type": "code",
   "execution_count": null,
   "id": "cbcf954f-576c-47b6-900a-2a677e665753",
   "metadata": {},
   "outputs": [],
   "source": []
  },
  {
   "cell_type": "code",
   "execution_count": 18,
   "id": "3637a7a4-8dcf-4f6b-8a3d-29f2c98a536d",
   "metadata": {},
   "outputs": [],
   "source": [
    "# Define loss function and optimizer-\n",
    "loss = nn.CrossEntropyLoss()\n",
    "\n",
    "optimizer = torch.optim.SGD(\n",
    "    params = model.parameters(), lr = 0.0,\n",
    "    momentum = 0.9, weight_decay = 5e-4\n",
    ")"
   ]
  },
  {
   "cell_type": "code",
   "execution_count": 19,
   "id": "2c506833-c0dd-4ec7-bfa4-0ba5794fa7d3",
   "metadata": {},
   "outputs": [
    {
     "data": {
      "text/plain": [
       "0.0"
      ]
     },
     "execution_count": 19,
     "metadata": {},
     "output_type": "execute_result"
    }
   ],
   "source": [
    "# Sanity check-\n",
    "optimizer.param_groups[0]['lr']"
   ]
  },
  {
   "cell_type": "code",
   "execution_count": null,
   "id": "24bdbaee-bc47-4f74-8591-664ac4c0cd95",
   "metadata": {},
   "outputs": [],
   "source": []
  },
  {
   "cell_type": "code",
   "execution_count": 21,
   "id": "5340fc82-2220-472e-a19b-a21c99518075",
   "metadata": {},
   "outputs": [],
   "source": [
    "def decay_function(step, boundaries = [10547, 16406], values = [0.1, 0.01, 0.001]):\n",
    "    \n",
    "    for idx, bound in enumerate(boundaries):\n",
    "        if step < bound:\n",
    "            return values[idx]\n",
    "\n",
    "    return values[-1]\n",
    "\n",
    "\n",
    "class schedule():\n",
    "    def __init__(self, initial_learning_rate = 0.1, warmup_steps = 1000, decay_func = None):\n",
    "        self.initial_learning_rate = initial_learning_rate\n",
    "        self.warmup_steps = warmup_steps\n",
    "        self.decay_func = decay_func\n",
    "        self.warmup_step_size = initial_learning_rate/warmup_steps\n",
    "        self.current_lr = 0\n",
    "\n",
    "    def get_lr(self, step):\n",
    "        if step == 0:\n",
    "            return self.current_lr\n",
    "        elif step <= self.warmup_steps:\n",
    "            self.current_lr+=self.warmup_step_size\n",
    "            return self.current_lr\n",
    "        elif step > self.warmup_steps:\n",
    "            if self.decay_func:\n",
    "                return self.decay_func(\n",
    "                    step, boundaries,\n",
    "                    values\n",
    "                )\n",
    "        else:\n",
    "            return self.current_lr\n",
    "        "
   ]
  },
  {
   "cell_type": "code",
   "execution_count": 22,
   "id": "77622e26-0702-4449-85ab-6d0db2066750",
   "metadata": {},
   "outputs": [],
   "source": [
    "# Initial linear LR warmup: 234.375 = 3047 steps in 13 epochs.\n",
    "custom_lr_scheduler = schedule(\n",
    "    initial_learning_rate = 0.1, warmup_steps = 3047,\n",
    "    decay_func = decay_function\n",
    ")"
   ]
  },
  {
   "cell_type": "code",
   "execution_count": null,
   "id": "0461eccf-bffa-4867-bb7d-d3f7da928ee8",
   "metadata": {},
   "outputs": [],
   "source": []
  },
  {
   "cell_type": "code",
   "execution_count": 24,
   "id": "354eeb2f-6191-4d2d-9aef-099494c1b307",
   "metadata": {},
   "outputs": [],
   "source": [
    "step = 0"
   ]
  },
  {
   "cell_type": "code",
   "execution_count": 25,
   "id": "a8cddd5e-fcce-40ce-8d97-69ae2207f6cf",
   "metadata": {},
   "outputs": [],
   "source": [
    "def train_model_progress(model, train_loader, train_dataset):\n",
    "    '''\n",
    "    Function to perform one epoch of training by using 'train_loader'.\n",
    "    Returns loss and number of correct predictions for this epoch.\n",
    "    '''\n",
    "    running_loss = 0.0\n",
    "    running_corrects = 0.0\n",
    "    \n",
    "    model.train()\n",
    "    \n",
    "    with tqdm(train_loader, unit = 'batch') as tepoch:\n",
    "        for images, labels in tepoch:\n",
    "            tepoch.set_description(f\"Training: \")\n",
    "            \n",
    "            images = images.to(device)\n",
    "            labels = labels.to(device)\n",
    "            images = images.reshape(-1, 28 * 28 * 1)\n",
    "            \n",
    "            # Get model predictions-\n",
    "            outputs = model(images)\n",
    "            \n",
    "            # Compute loss-\n",
    "            J = loss(outputs, labels)\n",
    "            \n",
    "            # Empty accumulated gradients-\n",
    "            optimizer.zero_grad()\n",
    "            \n",
    "            # Perform backprop-\n",
    "            J.backward()\n",
    "            \n",
    "            # Update parameters-\n",
    "            optimizer.step()\n",
    "            \n",
    "            global step\n",
    "            optimizer.param_groups[0]['lr'] = custom_lr_scheduler.get_lr(step)\n",
    "\n",
    "            step += 1\n",
    "            \n",
    "            # Compute model's performance statistics-\n",
    "            running_loss += J.item() * images.size(0)\n",
    "            _, predicted = torch.max(outputs, 1)\n",
    "            running_corrects += torch.sum(predicted == labels.data)\n",
    "            \n",
    "            tepoch.set_postfix(\n",
    "                loss = running_loss / len(train_dataset),\n",
    "                accuracy = (running_corrects.double().cpu().numpy() / len(train_dataset)) * 100\n",
    "            )\n",
    "            \n",
    "    \n",
    "    train_loss = running_loss / len(train_dataset)\n",
    "    train_acc = (running_corrects.double() / len(train_dataset)) * 100\n",
    "\n",
    "    # return running_loss, running_corrects\n",
    "    return train_loss, train_acc.cpu().numpy()\n",
    "\n",
    "\n",
    "def test_model_progress(model, test_loader, test_dataset):\n",
    "    total = 0.0\n",
    "    correct = 0.0\n",
    "    running_loss_val = 0.0\n",
    "    \n",
    "    # Set model to evaluation mode-\n",
    "    model.eval()\n",
    "\n",
    "    with torch.no_grad():\n",
    "        with tqdm(test_loader, unit = 'batch') as tepoch:\n",
    "            for images, labels in tepoch:\n",
    "                tepoch.set_description(f\"Validation: \")\n",
    "                \n",
    "                images = images.to(device)\n",
    "                labels = labels.to(device)\n",
    "                images = images.reshape(-1, 28 * 28 * 1)\n",
    "            \n",
    "                # Predict using trained model-\n",
    "                outputs = model(images)\n",
    "                _, y_pred = torch.max(outputs, 1)\n",
    "                \n",
    "                # Compute validation loss-\n",
    "                J_val = loss(outputs, labels)\n",
    "                \n",
    "                running_loss_val += J_val.item() * labels.size(0)\n",
    "    \n",
    "                # Total number of labels-\n",
    "                total += labels.size(0)\n",
    "\n",
    "                # Total number of correct predictions-\n",
    "                correct += (y_pred == labels).sum()\n",
    "                \n",
    "                tepoch.set_postfix(\n",
    "                    val_loss = running_loss_val / len(test_dataset),\n",
    "                    val_acc = 100 * (correct.cpu().numpy() / total)\n",
    "                )\n",
    "            \n",
    "        \n",
    "    # return (running_loss_val, correct, total)\n",
    "    val_loss = running_loss_val / len(test_dataset)\n",
    "    val_acc = (correct / total) * 100\n",
    "\n",
    "    return val_loss, val_acc.cpu().numpy()\n",
    " "
   ]
  },
  {
   "cell_type": "code",
   "execution_count": null,
   "id": "931ade41-3265-41c0-b6dc-a5319acfe3fa",
   "metadata": {},
   "outputs": [],
   "source": []
  },
  {
   "cell_type": "code",
   "execution_count": 26,
   "id": "1028d93e-c9b2-4e6b-b9b9-89a52cb92317",
   "metadata": {},
   "outputs": [],
   "source": [
    "# Python3 dict to contain training metrics-\n",
    "training_history_lr_scheduler = {}\n",
    "\n",
    "# Initialize parameters saving 'best' models-\n",
    "best_val_acc = 0\n",
    "loc_patience = 0"
   ]
  },
  {
   "cell_type": "code",
   "execution_count": null,
   "id": "f09d5367-81f3-4dd6-8a0b-121776a30ef8",
   "metadata": {},
   "outputs": [],
   "source": []
  },
  {
   "cell_type": "code",
   "execution_count": 27,
   "id": "309e50dd-8fc3-4d08-bdf7-2023d2436da6",
   "metadata": {},
   "outputs": [
    {
     "name": "stderr",
     "output_type": "stream",
     "text": [
      "Training: : 100%|██████████████████████████████████████| 235/235 [00:12<00:00, 19.50batch/s, accuracy=75.7, loss=0.781]\n",
      "Validation: : 100%|███████████████████████████████████| 40/40 [00:01<00:00, 25.47batch/s, val_acc=92.6, val_loss=0.247]\n"
     ]
    },
    {
     "name": "stdout",
     "output_type": "stream",
     "text": [
      "\n",
      "epoch: 1 training loss = 0.7809, training accuracy = 75.70%, val_loss = 0.2475, val_accuracy = 92.62% & LR = 0.0077\n",
      "\n",
      "Saving model with highest val_acc = 92.6200\n",
      "\n"
     ]
    },
    {
     "name": "stderr",
     "output_type": "stream",
     "text": [
      "Training: : 100%|██████████████████████████████████████| 235/235 [00:09<00:00, 23.99batch/s, accuracy=94.2, loss=0.202]\n",
      "Validation: : 100%|███████████████████████████████████| 40/40 [00:01<00:00, 25.46batch/s, val_acc=95.3, val_loss=0.155]\n"
     ]
    },
    {
     "name": "stdout",
     "output_type": "stream",
     "text": [
      "\n",
      "epoch: 2 training loss = 0.2015, training accuracy = 94.15%, val_loss = 0.1551, val_accuracy = 95.26% & LR = 0.0154\n",
      "\n",
      "Saving model with highest val_acc = 95.2600\n",
      "\n"
     ]
    },
    {
     "name": "stderr",
     "output_type": "stream",
     "text": [
      "Training: : 100%|██████████████████████████████████████| 235/235 [00:09<00:00, 24.04batch/s, accuracy=96.3, loss=0.126]\n",
      "Validation: : 100%|███████████████████████████████████| 40/40 [00:01<00:00, 25.97batch/s, val_acc=96.6, val_loss=0.111]\n"
     ]
    },
    {
     "name": "stdout",
     "output_type": "stream",
     "text": [
      "\n",
      "epoch: 3 training loss = 0.1259, training accuracy = 96.29%, val_loss = 0.1111, val_accuracy = 96.61% & LR = 0.0231\n",
      "\n",
      "Saving model with highest val_acc = 96.6100\n",
      "\n"
     ]
    },
    {
     "name": "stderr",
     "output_type": "stream",
     "text": [
      "Training: : 100%|█████████████████████████████████████| 235/235 [00:09<00:00, 24.18batch/s, accuracy=97.3, loss=0.0891]\n",
      "Validation: : 100%|████████████████████████████████████| 40/40 [00:01<00:00, 26.01batch/s, val_acc=97, val_loss=0.0954]\n"
     ]
    },
    {
     "name": "stdout",
     "output_type": "stream",
     "text": [
      "\n",
      "epoch: 4 training loss = 0.0891, training accuracy = 97.34%, val_loss = 0.0954, val_accuracy = 96.95% & LR = 0.0308\n",
      "\n",
      "Saving model with highest val_acc = 96.9500\n",
      "\n"
     ]
    },
    {
     "name": "stderr",
     "output_type": "stream",
     "text": [
      "Training: : 100%|█████████████████████████████████████| 235/235 [00:09<00:00, 24.26batch/s, accuracy=97.8, loss=0.0685]\n",
      "Validation: : 100%|██████████████████████████████████| 40/40 [00:01<00:00, 25.94batch/s, val_acc=97.1, val_loss=0.0933]\n"
     ]
    },
    {
     "name": "stdout",
     "output_type": "stream",
     "text": [
      "\n",
      "epoch: 5 training loss = 0.0685, training accuracy = 97.85%, val_loss = 0.0933, val_accuracy = 97.10% & LR = 0.0385\n",
      "\n",
      "Saving model with highest val_acc = 97.1000\n",
      "\n"
     ]
    },
    {
     "name": "stderr",
     "output_type": "stream",
     "text": [
      "Training: : 100%|█████████████████████████████████████| 235/235 [00:09<00:00, 24.22batch/s, accuracy=98.3, loss=0.0542]\n",
      "Validation: : 100%|███████████████████████████████████| 40/40 [00:01<00:00, 25.73batch/s, val_acc=96.7, val_loss=0.107]\n"
     ]
    },
    {
     "name": "stdout",
     "output_type": "stream",
     "text": [
      "\n",
      "epoch: 6 training loss = 0.0542, training accuracy = 98.29%, val_loss = 0.1074, val_accuracy = 96.73% & LR = 0.0462\n",
      "\n"
     ]
    },
    {
     "name": "stderr",
     "output_type": "stream",
     "text": [
      "Training: : 100%|█████████████████████████████████████| 235/235 [00:09<00:00, 24.27batch/s, accuracy=98.5, loss=0.0492]\n",
      "Validation: : 100%|███████████████████████████████████| 40/40 [00:01<00:00, 25.69batch/s, val_acc=97.6, val_loss=0.078]\n"
     ]
    },
    {
     "name": "stdout",
     "output_type": "stream",
     "text": [
      "\n",
      "epoch: 7 training loss = 0.0492, training accuracy = 98.48%, val_loss = 0.0780, val_accuracy = 97.61% & LR = 0.0540\n",
      "\n",
      "Saving model with highest val_acc = 97.6100\n",
      "\n"
     ]
    },
    {
     "name": "stderr",
     "output_type": "stream",
     "text": [
      "Training: : 100%|█████████████████████████████████████| 235/235 [00:09<00:00, 24.26batch/s, accuracy=98.6, loss=0.0453]\n",
      "Validation: : 100%|██████████████████████████████████| 40/40 [00:01<00:00, 26.02batch/s, val_acc=97.4, val_loss=0.0889]\n"
     ]
    },
    {
     "name": "stdout",
     "output_type": "stream",
     "text": [
      "\n",
      "epoch: 8 training loss = 0.0453, training accuracy = 98.55%, val_loss = 0.0889, val_accuracy = 97.41% & LR = 0.0617\n",
      "\n"
     ]
    },
    {
     "name": "stderr",
     "output_type": "stream",
     "text": [
      "Training: : 100%|█████████████████████████████████████| 235/235 [00:09<00:00, 24.23batch/s, accuracy=98.7, loss=0.0393]\n",
      "Validation: : 100%|██████████████████████████████████| 40/40 [00:01<00:00, 25.76batch/s, val_acc=97.3, val_loss=0.0848]\n"
     ]
    },
    {
     "name": "stdout",
     "output_type": "stream",
     "text": [
      "\n",
      "epoch: 9 training loss = 0.0393, training accuracy = 98.72%, val_loss = 0.0848, val_accuracy = 97.33% & LR = 0.0694\n",
      "\n"
     ]
    },
    {
     "name": "stderr",
     "output_type": "stream",
     "text": [
      "Training: : 100%|█████████████████████████████████████| 235/235 [00:09<00:00, 24.19batch/s, accuracy=98.8, loss=0.0374]\n",
      "Validation: : 100%|██████████████████████████████████| 40/40 [00:01<00:00, 26.01batch/s, val_acc=97.2, val_loss=0.0897]\n"
     ]
    },
    {
     "name": "stdout",
     "output_type": "stream",
     "text": [
      "\n",
      "epoch: 10 training loss = 0.0374, training accuracy = 98.83%, val_loss = 0.0897, val_accuracy = 97.19% & LR = 0.0771\n",
      "\n"
     ]
    },
    {
     "name": "stderr",
     "output_type": "stream",
     "text": [
      "Training: : 100%|█████████████████████████████████████| 235/235 [00:09<00:00, 24.22batch/s, accuracy=98.8, loss=0.0372]\n",
      "Validation: : 100%|██████████████████████████████████| 40/40 [00:01<00:00, 25.66batch/s, val_acc=97.7, val_loss=0.0788]\n"
     ]
    },
    {
     "name": "stdout",
     "output_type": "stream",
     "text": [
      "\n",
      "epoch: 11 training loss = 0.0372, training accuracy = 98.76%, val_loss = 0.0788, val_accuracy = 97.71% & LR = 0.0848\n",
      "\n",
      "Saving model with highest val_acc = 97.7100\n",
      "\n"
     ]
    },
    {
     "name": "stderr",
     "output_type": "stream",
     "text": [
      "Training: : 100%|█████████████████████████████████████| 235/235 [00:09<00:00, 24.24batch/s, accuracy=98.9, loss=0.0337]\n",
      "Validation: : 100%|██████████████████████████████████| 40/40 [00:01<00:00, 25.94batch/s, val_acc=97.5, val_loss=0.0777]\n"
     ]
    },
    {
     "name": "stdout",
     "output_type": "stream",
     "text": [
      "\n",
      "epoch: 12 training loss = 0.0337, training accuracy = 98.88%, val_loss = 0.0777, val_accuracy = 97.51% & LR = 0.0925\n",
      "\n"
     ]
    },
    {
     "name": "stderr",
     "output_type": "stream",
     "text": [
      "Training: : 100%|█████████████████████████████████████| 235/235 [00:09<00:00, 24.26batch/s, accuracy=98.8, loss=0.0378]\n",
      "Validation: : 100%|███████████████████████████████████| 40/40 [00:01<00:00, 25.96batch/s, val_acc=96.6, val_loss=0.109]\n"
     ]
    },
    {
     "name": "stdout",
     "output_type": "stream",
     "text": [
      "\n",
      "epoch: 13 training loss = 0.0378, training accuracy = 98.77%, val_loss = 0.1094, val_accuracy = 96.61% & LR = 0.1000\n",
      "\n"
     ]
    },
    {
     "name": "stderr",
     "output_type": "stream",
     "text": [
      "Training: : 100%|█████████████████████████████████████| 235/235 [00:09<00:00, 24.21batch/s, accuracy=98.8, loss=0.0353]\n",
      "Validation: : 100%|██████████████████████████████████| 40/40 [00:01<00:00, 25.84batch/s, val_acc=97.7, val_loss=0.0832]\n"
     ]
    },
    {
     "name": "stdout",
     "output_type": "stream",
     "text": [
      "\n",
      "epoch: 14 training loss = 0.0353, training accuracy = 98.84%, val_loss = 0.0832, val_accuracy = 97.66% & LR = 0.1000\n",
      "\n"
     ]
    },
    {
     "name": "stderr",
     "output_type": "stream",
     "text": [
      "Training: : 100%|███████████████████████████████████████| 235/235 [00:09<00:00, 24.28batch/s, accuracy=99, loss=0.0309]\n",
      "Validation: : 100%|███████████████████████████████████| 40/40 [00:01<00:00, 25.68batch/s, val_acc=97.9, val_loss=0.073]\n"
     ]
    },
    {
     "name": "stdout",
     "output_type": "stream",
     "text": [
      "\n",
      "epoch: 15 training loss = 0.0309, training accuracy = 98.99%, val_loss = 0.0730, val_accuracy = 97.90% & LR = 0.1000\n",
      "\n",
      "Saving model with highest val_acc = 97.9000\n",
      "\n"
     ]
    },
    {
     "name": "stderr",
     "output_type": "stream",
     "text": [
      "Training: : 100%|█████████████████████████████████████| 235/235 [00:09<00:00, 24.29batch/s, accuracy=99.1, loss=0.0272]\n",
      "Validation: : 100%|████████████████████████████████████| 40/40 [00:01<00:00, 25.93batch/s, val_acc=98, val_loss=0.0657]\n"
     ]
    },
    {
     "name": "stdout",
     "output_type": "stream",
     "text": [
      "\n",
      "epoch: 16 training loss = 0.0272, training accuracy = 99.08%, val_loss = 0.0657, val_accuracy = 98.03% & LR = 0.1000\n",
      "\n",
      "Saving model with highest val_acc = 98.0300\n",
      "\n"
     ]
    },
    {
     "name": "stderr",
     "output_type": "stream",
     "text": [
      "Training: : 100%|█████████████████████████████████████| 235/235 [00:09<00:00, 24.21batch/s, accuracy=99.3, loss=0.0224]\n",
      "Validation: : 100%|██████████████████████████████████| 40/40 [00:01<00:00, 25.80batch/s, val_acc=97.8, val_loss=0.0718]\n"
     ]
    },
    {
     "name": "stdout",
     "output_type": "stream",
     "text": [
      "\n",
      "epoch: 17 training loss = 0.0224, training accuracy = 99.27%, val_loss = 0.0718, val_accuracy = 97.83% & LR = 0.1000\n",
      "\n"
     ]
    },
    {
     "name": "stderr",
     "output_type": "stream",
     "text": [
      "Training: : 100%|█████████████████████████████████████| 235/235 [00:09<00:00, 24.27batch/s, accuracy=99.3, loss=0.0213]\n",
      "Validation: : 100%|███████████████████████████████████| 40/40 [00:01<00:00, 26.05batch/s, val_acc=97.9, val_loss=0.073]\n"
     ]
    },
    {
     "name": "stdout",
     "output_type": "stream",
     "text": [
      "\n",
      "epoch: 18 training loss = 0.0213, training accuracy = 99.31%, val_loss = 0.0730, val_accuracy = 97.86% & LR = 0.1000\n",
      "\n"
     ]
    },
    {
     "name": "stderr",
     "output_type": "stream",
     "text": [
      "Training: : 100%|█████████████████████████████████████| 235/235 [00:09<00:00, 24.20batch/s, accuracy=99.3, loss=0.0234]\n",
      "Validation: : 100%|████████████████████████████████████| 40/40 [00:01<00:00, 25.78batch/s, val_acc=98, val_loss=0.0688]\n"
     ]
    },
    {
     "name": "stdout",
     "output_type": "stream",
     "text": [
      "\n",
      "epoch: 19 training loss = 0.0234, training accuracy = 99.26%, val_loss = 0.0688, val_accuracy = 97.98% & LR = 0.1000\n",
      "\n"
     ]
    },
    {
     "name": "stderr",
     "output_type": "stream",
     "text": [
      "Training: : 100%|█████████████████████████████████████| 235/235 [00:09<00:00, 24.28batch/s, accuracy=99.2, loss=0.0233]\n",
      "Validation: : 100%|██████████████████████████████████| 40/40 [00:01<00:00, 25.95batch/s, val_acc=98.1, val_loss=0.0696]\n"
     ]
    },
    {
     "name": "stdout",
     "output_type": "stream",
     "text": [
      "\n",
      "epoch: 20 training loss = 0.0233, training accuracy = 99.23%, val_loss = 0.0696, val_accuracy = 98.09% & LR = 0.1000\n",
      "\n",
      "Saving model with highest val_acc = 98.0900\n",
      "\n"
     ]
    },
    {
     "name": "stderr",
     "output_type": "stream",
     "text": [
      "Training: : 100%|█████████████████████████████████████| 235/235 [00:09<00:00, 24.25batch/s, accuracy=99.2, loss=0.0244]\n",
      "Validation: : 100%|██████████████████████████████████| 40/40 [00:01<00:00, 25.72batch/s, val_acc=97.9, val_loss=0.0756]\n"
     ]
    },
    {
     "name": "stdout",
     "output_type": "stream",
     "text": [
      "\n",
      "epoch: 21 training loss = 0.0244, training accuracy = 99.21%, val_loss = 0.0756, val_accuracy = 97.92% & LR = 0.1000\n",
      "\n"
     ]
    },
    {
     "name": "stderr",
     "output_type": "stream",
     "text": [
      "Training: : 100%|█████████████████████████████████████| 235/235 [00:09<00:00, 24.25batch/s, accuracy=99.2, loss=0.0255]\n",
      "Validation: : 100%|██████████████████████████████████| 40/40 [00:01<00:00, 25.96batch/s, val_acc=97.9, val_loss=0.0679]\n"
     ]
    },
    {
     "name": "stdout",
     "output_type": "stream",
     "text": [
      "\n",
      "epoch: 22 training loss = 0.0255, training accuracy = 99.19%, val_loss = 0.0679, val_accuracy = 97.92% & LR = 0.1000\n",
      "\n"
     ]
    },
    {
     "name": "stderr",
     "output_type": "stream",
     "text": [
      "Training: : 100%|█████████████████████████████████████| 235/235 [00:09<00:00, 24.25batch/s, accuracy=99.2, loss=0.0231]\n",
      "Validation: : 100%|████████████████████████████████████| 40/40 [00:01<00:00, 25.91batch/s, val_acc=98, val_loss=0.0687]\n"
     ]
    },
    {
     "name": "stdout",
     "output_type": "stream",
     "text": [
      "\n",
      "epoch: 23 training loss = 0.0231, training accuracy = 99.23%, val_loss = 0.0687, val_accuracy = 98.01% & LR = 0.1000\n",
      "\n"
     ]
    },
    {
     "name": "stderr",
     "output_type": "stream",
     "text": [
      "Training: : 100%|█████████████████████████████████████| 235/235 [00:09<00:00, 24.25batch/s, accuracy=99.4, loss=0.0204]\n",
      "Validation: : 100%|██████████████████████████████████| 40/40 [00:01<00:00, 25.89batch/s, val_acc=98.2, val_loss=0.0613]\n"
     ]
    },
    {
     "name": "stdout",
     "output_type": "stream",
     "text": [
      "\n",
      "epoch: 24 training loss = 0.0204, training accuracy = 99.36%, val_loss = 0.0613, val_accuracy = 98.20% & LR = 0.1000\n",
      "\n",
      "Saving model with highest val_acc = 98.2000\n",
      "\n"
     ]
    },
    {
     "name": "stderr",
     "output_type": "stream",
     "text": [
      "Training: : 100%|█████████████████████████████████████| 235/235 [00:09<00:00, 24.16batch/s, accuracy=99.6, loss=0.0143]\n",
      "Validation: : 100%|███████████████████████████████████| 40/40 [00:01<00:00, 25.61batch/s, val_acc=97.6, val_loss=0.087]\n"
     ]
    },
    {
     "name": "stdout",
     "output_type": "stream",
     "text": [
      "\n",
      "epoch: 25 training loss = 0.0143, training accuracy = 99.59%, val_loss = 0.0870, val_accuracy = 97.56% & LR = 0.1000\n",
      "\n"
     ]
    },
    {
     "name": "stderr",
     "output_type": "stream",
     "text": [
      "Training: : 100%|█████████████████████████████████████| 235/235 [00:09<00:00, 24.41batch/s, accuracy=99.4, loss=0.0191]\n",
      "Validation: : 100%|██████████████████████████████████| 40/40 [00:01<00:00, 26.20batch/s, val_acc=98.1, val_loss=0.0621]\n"
     ]
    },
    {
     "name": "stdout",
     "output_type": "stream",
     "text": [
      "\n",
      "epoch: 26 training loss = 0.0191, training accuracy = 99.40%, val_loss = 0.0621, val_accuracy = 98.11% & LR = 0.1000\n",
      "\n"
     ]
    },
    {
     "name": "stderr",
     "output_type": "stream",
     "text": [
      "Training: : 100%|█████████████████████████████████████| 235/235 [00:09<00:00, 24.24batch/s, accuracy=99.4, loss=0.0188]\n",
      "Validation: : 100%|████████████████████████████████████| 40/40 [00:01<00:00, 25.78batch/s, val_acc=98, val_loss=0.0653]\n"
     ]
    },
    {
     "name": "stdout",
     "output_type": "stream",
     "text": [
      "\n",
      "epoch: 27 training loss = 0.0188, training accuracy = 99.40%, val_loss = 0.0653, val_accuracy = 98.01% & LR = 0.1000\n",
      "\n"
     ]
    },
    {
     "name": "stderr",
     "output_type": "stream",
     "text": [
      "Training: : 100%|█████████████████████████████████████| 235/235 [00:09<00:00, 24.34batch/s, accuracy=99.4, loss=0.0199]\n",
      "Validation: : 100%|████████████████████████████████████| 40/40 [00:01<00:00, 25.96batch/s, val_acc=98, val_loss=0.0673]\n"
     ]
    },
    {
     "name": "stdout",
     "output_type": "stream",
     "text": [
      "\n",
      "epoch: 28 training loss = 0.0199, training accuracy = 99.41%, val_loss = 0.0673, val_accuracy = 98.01% & LR = 0.1000\n",
      "\n"
     ]
    },
    {
     "name": "stderr",
     "output_type": "stream",
     "text": [
      "Training: : 100%|█████████████████████████████████████| 235/235 [00:09<00:00, 24.19batch/s, accuracy=99.3, loss=0.0208]\n",
      "Validation: : 100%|████████████████████████████████████| 40/40 [00:01<00:00, 26.14batch/s, val_acc=98, val_loss=0.0649]\n"
     ]
    },
    {
     "name": "stdout",
     "output_type": "stream",
     "text": [
      "\n",
      "epoch: 29 training loss = 0.0208, training accuracy = 99.34%, val_loss = 0.0649, val_accuracy = 98.03% & LR = 0.1000\n",
      "\n"
     ]
    },
    {
     "name": "stderr",
     "output_type": "stream",
     "text": [
      "Training: : 100%|█████████████████████████████████████| 235/235 [00:09<00:00, 24.32batch/s, accuracy=99.3, loss=0.0211]\n",
      "Validation: : 100%|██████████████████████████████████| 40/40 [00:01<00:00, 25.79batch/s, val_acc=97.9, val_loss=0.0678]\n"
     ]
    },
    {
     "name": "stdout",
     "output_type": "stream",
     "text": [
      "\n",
      "epoch: 30 training loss = 0.0211, training accuracy = 99.32%, val_loss = 0.0678, val_accuracy = 97.87% & LR = 0.1000\n",
      "\n"
     ]
    },
    {
     "name": "stderr",
     "output_type": "stream",
     "text": [
      "Training: : 100%|██████████████████████████████████████| 235/235 [00:09<00:00, 24.27batch/s, accuracy=99.3, loss=0.021]\n",
      "Validation: : 100%|██████████████████████████████████| 40/40 [00:01<00:00, 25.92batch/s, val_acc=98.1, val_loss=0.0628]\n"
     ]
    },
    {
     "name": "stdout",
     "output_type": "stream",
     "text": [
      "\n",
      "epoch: 31 training loss = 0.0210, training accuracy = 99.32%, val_loss = 0.0628, val_accuracy = 98.10% & LR = 0.1000\n",
      "\n"
     ]
    },
    {
     "name": "stderr",
     "output_type": "stream",
     "text": [
      "Training: : 100%|█████████████████████████████████████| 235/235 [00:09<00:00, 24.34batch/s, accuracy=99.3, loss=0.0214]\n",
      "Validation: : 100%|██████████████████████████████████| 40/40 [00:01<00:00, 25.85batch/s, val_acc=98.3, val_loss=0.0623]\n"
     ]
    },
    {
     "name": "stdout",
     "output_type": "stream",
     "text": [
      "\n",
      "epoch: 32 training loss = 0.0214, training accuracy = 99.31%, val_loss = 0.0623, val_accuracy = 98.26% & LR = 0.1000\n",
      "\n",
      "Saving model with highest val_acc = 98.2600\n",
      "\n"
     ]
    },
    {
     "name": "stderr",
     "output_type": "stream",
     "text": [
      "Training: : 100%|█████████████████████████████████████| 235/235 [00:09<00:00, 24.22batch/s, accuracy=99.5, loss=0.0159]\n",
      "Validation: : 100%|██████████████████████████████████| 40/40 [00:01<00:00, 26.08batch/s, val_acc=98.3, val_loss=0.0579]\n"
     ]
    },
    {
     "name": "stdout",
     "output_type": "stream",
     "text": [
      "\n",
      "epoch: 33 training loss = 0.0159, training accuracy = 99.53%, val_loss = 0.0579, val_accuracy = 98.31% & LR = 0.1000\n",
      "\n",
      "Saving model with highest val_acc = 98.3100\n",
      "\n"
     ]
    },
    {
     "name": "stderr",
     "output_type": "stream",
     "text": [
      "Training: : 100%|██████████████████████████████████████| 235/235 [00:09<00:00, 24.29batch/s, accuracy=99.4, loss=0.018]\n",
      "Validation: : 100%|██████████████████████████████████| 40/40 [00:01<00:00, 25.70batch/s, val_acc=98.2, val_loss=0.0583]\n"
     ]
    },
    {
     "name": "stdout",
     "output_type": "stream",
     "text": [
      "\n",
      "epoch: 34 training loss = 0.0180, training accuracy = 99.43%, val_loss = 0.0583, val_accuracy = 98.24% & LR = 0.1000\n",
      "\n"
     ]
    },
    {
     "name": "stderr",
     "output_type": "stream",
     "text": [
      "Training: : 100%|█████████████████████████████████████| 235/235 [00:09<00:00, 24.22batch/s, accuracy=99.5, loss=0.0157]\n",
      "Validation: : 100%|██████████████████████████████████| 40/40 [00:01<00:00, 25.78batch/s, val_acc=98.1, val_loss=0.0693]\n"
     ]
    },
    {
     "name": "stdout",
     "output_type": "stream",
     "text": [
      "\n",
      "epoch: 35 training loss = 0.0157, training accuracy = 99.54%, val_loss = 0.0693, val_accuracy = 98.07% & LR = 0.1000\n",
      "\n"
     ]
    },
    {
     "name": "stderr",
     "output_type": "stream",
     "text": [
      "Training: : 100%|█████████████████████████████████████| 235/235 [00:09<00:00, 24.27batch/s, accuracy=99.4, loss=0.0198]\n",
      "Validation: : 100%|██████████████████████████████████| 40/40 [00:01<00:00, 25.74batch/s, val_acc=97.9, val_loss=0.0658]\n"
     ]
    },
    {
     "name": "stdout",
     "output_type": "stream",
     "text": [
      "\n",
      "epoch: 36 training loss = 0.0198, training accuracy = 99.41%, val_loss = 0.0658, val_accuracy = 97.86% & LR = 0.1000\n",
      "\n"
     ]
    },
    {
     "name": "stderr",
     "output_type": "stream",
     "text": [
      "Training: : 100%|█████████████████████████████████████| 235/235 [00:09<00:00, 24.25batch/s, accuracy=99.3, loss=0.0209]\n",
      "Validation: : 100%|██████████████████████████████████| 40/40 [00:01<00:00, 25.91batch/s, val_acc=97.8, val_loss=0.0701]\n"
     ]
    },
    {
     "name": "stdout",
     "output_type": "stream",
     "text": [
      "\n",
      "epoch: 37 training loss = 0.0209, training accuracy = 99.32%, val_loss = 0.0701, val_accuracy = 97.81% & LR = 0.1000\n",
      "\n"
     ]
    },
    {
     "name": "stderr",
     "output_type": "stream",
     "text": [
      "Training: : 100%|██████████████████████████████████████| 235/235 [00:09<00:00, 24.29batch/s, accuracy=99.5, loss=0.017]\n",
      "Validation: : 100%|███████████████████████████████████| 40/40 [00:01<00:00, 25.75batch/s, val_acc=97.7, val_loss=0.075]\n"
     ]
    },
    {
     "name": "stdout",
     "output_type": "stream",
     "text": [
      "\n",
      "epoch: 38 training loss = 0.0170, training accuracy = 99.50%, val_loss = 0.0750, val_accuracy = 97.68% & LR = 0.1000\n",
      "\n"
     ]
    },
    {
     "name": "stderr",
     "output_type": "stream",
     "text": [
      "Training: : 100%|█████████████████████████████████████| 235/235 [00:09<00:00, 24.15batch/s, accuracy=99.4, loss=0.0192]\n",
      "Validation: : 100%|██████████████████████████████████| 40/40 [00:01<00:00, 25.73batch/s, val_acc=98.2, val_loss=0.0583]\n"
     ]
    },
    {
     "name": "stdout",
     "output_type": "stream",
     "text": [
      "\n",
      "epoch: 39 training loss = 0.0192, training accuracy = 99.38%, val_loss = 0.0583, val_accuracy = 98.25% & LR = 0.1000\n",
      "\n"
     ]
    },
    {
     "name": "stderr",
     "output_type": "stream",
     "text": [
      "Training: : 100%|█████████████████████████████████████| 235/235 [00:09<00:00, 24.30batch/s, accuracy=99.6, loss=0.0148]\n",
      "Validation: : 100%|██████████████████████████████████| 40/40 [00:01<00:00, 26.11batch/s, val_acc=98.2, val_loss=0.0575]\n"
     ]
    },
    {
     "name": "stdout",
     "output_type": "stream",
     "text": [
      "\n",
      "epoch: 40 training loss = 0.0148, training accuracy = 99.57%, val_loss = 0.0575, val_accuracy = 98.21% & LR = 0.1000\n",
      "\n"
     ]
    },
    {
     "name": "stderr",
     "output_type": "stream",
     "text": [
      "Training: : 100%|█████████████████████████████████████| 235/235 [00:09<00:00, 24.32batch/s, accuracy=99.6, loss=0.0149]\n",
      "Validation: : 100%|██████████████████████████████████| 40/40 [00:01<00:00, 25.83batch/s, val_acc=98.3, val_loss=0.0569]\n"
     ]
    },
    {
     "name": "stdout",
     "output_type": "stream",
     "text": [
      "\n",
      "epoch: 41 training loss = 0.0149, training accuracy = 99.58%, val_loss = 0.0569, val_accuracy = 98.26% & LR = 0.1000\n",
      "\n"
     ]
    },
    {
     "name": "stderr",
     "output_type": "stream",
     "text": [
      "Training: : 100%|█████████████████████████████████████| 235/235 [00:09<00:00, 24.32batch/s, accuracy=99.6, loss=0.0134]\n",
      "Validation: : 100%|██████████████████████████████████| 40/40 [00:01<00:00, 25.62batch/s, val_acc=98.2, val_loss=0.0604]\n"
     ]
    },
    {
     "name": "stdout",
     "output_type": "stream",
     "text": [
      "\n",
      "epoch: 42 training loss = 0.0134, training accuracy = 99.62%, val_loss = 0.0604, val_accuracy = 98.21% & LR = 0.1000\n",
      "\n"
     ]
    },
    {
     "name": "stderr",
     "output_type": "stream",
     "text": [
      "Training: : 100%|█████████████████████████████████████| 235/235 [00:09<00:00, 24.27batch/s, accuracy=99.5, loss=0.0166]\n",
      "Validation: : 100%|██████████████████████████████████| 40/40 [00:01<00:00, 25.87batch/s, val_acc=98.1, val_loss=0.0591]\n"
     ]
    },
    {
     "name": "stdout",
     "output_type": "stream",
     "text": [
      "\n",
      "epoch: 43 training loss = 0.0166, training accuracy = 99.51%, val_loss = 0.0591, val_accuracy = 98.14% & LR = 0.1000\n",
      "\n"
     ]
    },
    {
     "name": "stderr",
     "output_type": "stream",
     "text": [
      "Training: : 100%|█████████████████████████████████████| 235/235 [00:09<00:00, 24.28batch/s, accuracy=99.3, loss=0.0231]\n",
      "Validation: : 100%|██████████████████████████████████| 40/40 [00:01<00:00, 25.43batch/s, val_acc=97.9, val_loss=0.0718]\n"
     ]
    },
    {
     "name": "stdout",
     "output_type": "stream",
     "text": [
      "\n",
      "epoch: 44 training loss = 0.0231, training accuracy = 99.26%, val_loss = 0.0718, val_accuracy = 97.89% & LR = 0.1000\n",
      "\n"
     ]
    },
    {
     "name": "stderr",
     "output_type": "stream",
     "text": [
      "Training: : 100%|█████████████████████████████████████| 235/235 [00:09<00:00, 24.35batch/s, accuracy=99.5, loss=0.0167]\n",
      "Validation: : 100%|██████████████████████████████████| 40/40 [00:01<00:00, 25.88batch/s, val_acc=98.5, val_loss=0.0526]\n"
     ]
    },
    {
     "name": "stdout",
     "output_type": "stream",
     "text": [
      "\n",
      "epoch: 45 training loss = 0.0167, training accuracy = 99.48%, val_loss = 0.0526, val_accuracy = 98.45% & LR = 0.0100\n",
      "\n",
      "Saving model with highest val_acc = 98.4500\n",
      "\n"
     ]
    },
    {
     "name": "stderr",
     "output_type": "stream",
     "text": [
      "Training: : 100%|████████████████████████████████████| 235/235 [00:09<00:00, 24.33batch/s, accuracy=99.9, loss=0.00466]\n",
      "Validation: : 100%|██████████████████████████████████| 40/40 [00:01<00:00, 26.14batch/s, val_acc=98.6, val_loss=0.0465]\n"
     ]
    },
    {
     "name": "stdout",
     "output_type": "stream",
     "text": [
      "\n",
      "epoch: 46 training loss = 0.0047, training accuracy = 99.94%, val_loss = 0.0465, val_accuracy = 98.55% & LR = 0.0100\n",
      "\n",
      "Saving model with highest val_acc = 98.5500\n",
      "\n"
     ]
    },
    {
     "name": "stderr",
     "output_type": "stream",
     "text": [
      "Training: : 100%|█████████████████████████████████████| 235/235 [00:09<00:00, 24.35batch/s, accuracy=100, loss=0.00324]\n",
      "Validation: : 100%|██████████████████████████████████| 40/40 [00:01<00:00, 26.07batch/s, val_acc=98.6, val_loss=0.0453]\n"
     ]
    },
    {
     "name": "stdout",
     "output_type": "stream",
     "text": [
      "\n",
      "epoch: 47 training loss = 0.0032, training accuracy = 99.99%, val_loss = 0.0453, val_accuracy = 98.56% & LR = 0.0100\n",
      "\n",
      "Saving model with highest val_acc = 98.5600\n",
      "\n"
     ]
    },
    {
     "name": "stderr",
     "output_type": "stream",
     "text": [
      "Training: : 100%|█████████████████████████████████████| 235/235 [00:09<00:00, 24.34batch/s, accuracy=100, loss=0.00288]\n",
      "Validation: : 100%|██████████████████████████████████| 40/40 [00:01<00:00, 25.64batch/s, val_acc=98.6, val_loss=0.0447]\n"
     ]
    },
    {
     "name": "stdout",
     "output_type": "stream",
     "text": [
      "\n",
      "epoch: 48 training loss = 0.0029, training accuracy = 99.99%, val_loss = 0.0447, val_accuracy = 98.59% & LR = 0.0100\n",
      "\n",
      "Saving model with highest val_acc = 98.5900\n",
      "\n"
     ]
    },
    {
     "name": "stderr",
     "output_type": "stream",
     "text": [
      "Training: : 100%|█████████████████████████████████████| 235/235 [00:09<00:00, 24.31batch/s, accuracy=100, loss=0.00275]\n",
      "Validation: : 100%|██████████████████████████████████| 40/40 [00:01<00:00, 25.90batch/s, val_acc=98.6, val_loss=0.0445]\n"
     ]
    },
    {
     "name": "stdout",
     "output_type": "stream",
     "text": [
      "\n",
      "epoch: 49 training loss = 0.0028, training accuracy = 100.00%, val_loss = 0.0445, val_accuracy = 98.62% & LR = 0.0100\n",
      "\n",
      "Saving model with highest val_acc = 98.6200\n",
      "\n"
     ]
    },
    {
     "name": "stderr",
     "output_type": "stream",
     "text": [
      "Training: : 100%|█████████████████████████████████████| 235/235 [00:09<00:00, 24.29batch/s, accuracy=100, loss=0.00271]\n",
      "Validation: : 100%|██████████████████████████████████| 40/40 [00:01<00:00, 25.64batch/s, val_acc=98.6, val_loss=0.0447]\n"
     ]
    },
    {
     "name": "stdout",
     "output_type": "stream",
     "text": [
      "\n",
      "epoch: 50 training loss = 0.0027, training accuracy = 100.00%, val_loss = 0.0447, val_accuracy = 98.62% & LR = 0.0100\n",
      "\n"
     ]
    },
    {
     "name": "stderr",
     "output_type": "stream",
     "text": [
      "Training: : 100%|█████████████████████████████████████| 235/235 [00:09<00:00, 24.39batch/s, accuracy=100, loss=0.00271]\n",
      "Validation: : 100%|██████████████████████████████████| 40/40 [00:01<00:00, 26.13batch/s, val_acc=98.6, val_loss=0.0441]\n"
     ]
    },
    {
     "name": "stdout",
     "output_type": "stream",
     "text": [
      "\n",
      "epoch: 51 training loss = 0.0027, training accuracy = 100.00%, val_loss = 0.0441, val_accuracy = 98.62% & LR = 0.0100\n",
      "\n"
     ]
    },
    {
     "name": "stderr",
     "output_type": "stream",
     "text": [
      "Training: : 100%|█████████████████████████████████████| 235/235 [00:09<00:00, 24.21batch/s, accuracy=100, loss=0.00274]\n",
      "Validation: : 100%|██████████████████████████████████| 40/40 [00:01<00:00, 25.82batch/s, val_acc=98.7, val_loss=0.0436]\n"
     ]
    },
    {
     "name": "stdout",
     "output_type": "stream",
     "text": [
      "\n",
      "epoch: 52 training loss = 0.0027, training accuracy = 100.00%, val_loss = 0.0436, val_accuracy = 98.65% & LR = 0.0100\n",
      "\n",
      "Saving model with highest val_acc = 98.6500\n",
      "\n"
     ]
    },
    {
     "name": "stderr",
     "output_type": "stream",
     "text": [
      "Training: : 100%|█████████████████████████████████████| 235/235 [00:09<00:00, 24.36batch/s, accuracy=100, loss=0.00279]\n",
      "Validation: : 100%|██████████████████████████████████| 40/40 [00:01<00:00, 25.84batch/s, val_acc=98.7, val_loss=0.0436]\n"
     ]
    },
    {
     "name": "stdout",
     "output_type": "stream",
     "text": [
      "\n",
      "epoch: 53 training loss = 0.0028, training accuracy = 100.00%, val_loss = 0.0436, val_accuracy = 98.65% & LR = 0.0100\n",
      "\n"
     ]
    },
    {
     "name": "stderr",
     "output_type": "stream",
     "text": [
      "Training: : 100%|█████████████████████████████████████| 235/235 [00:09<00:00, 24.26batch/s, accuracy=100, loss=0.00286]\n",
      "Validation: : 100%|██████████████████████████████████| 40/40 [00:01<00:00, 25.85batch/s, val_acc=98.7, val_loss=0.0433]\n"
     ]
    },
    {
     "name": "stdout",
     "output_type": "stream",
     "text": [
      "\n",
      "epoch: 54 training loss = 0.0029, training accuracy = 100.00%, val_loss = 0.0433, val_accuracy = 98.67% & LR = 0.0100\n",
      "\n",
      "Saving model with highest val_acc = 98.6700\n",
      "\n"
     ]
    },
    {
     "name": "stderr",
     "output_type": "stream",
     "text": [
      "Training: : 100%|█████████████████████████████████████| 235/235 [00:09<00:00, 24.36batch/s, accuracy=100, loss=0.00293]\n",
      "Validation: : 100%|██████████████████████████████████| 40/40 [00:01<00:00, 25.79batch/s, val_acc=98.7, val_loss=0.0435]\n"
     ]
    },
    {
     "name": "stdout",
     "output_type": "stream",
     "text": [
      "\n",
      "epoch: 55 training loss = 0.0029, training accuracy = 100.00%, val_loss = 0.0435, val_accuracy = 98.66% & LR = 0.0100\n",
      "\n"
     ]
    },
    {
     "name": "stderr",
     "output_type": "stream",
     "text": [
      "Training: : 100%|█████████████████████████████████████| 235/235 [00:09<00:00, 24.30batch/s, accuracy=100, loss=0.00301]\n",
      "Validation: : 100%|██████████████████████████████████| 40/40 [00:01<00:00, 25.88batch/s, val_acc=98.7, val_loss=0.0432]\n"
     ]
    },
    {
     "name": "stdout",
     "output_type": "stream",
     "text": [
      "\n",
      "epoch: 56 training loss = 0.0030, training accuracy = 100.00%, val_loss = 0.0432, val_accuracy = 98.65% & LR = 0.0100\n",
      "\n"
     ]
    },
    {
     "name": "stderr",
     "output_type": "stream",
     "text": [
      "Training: : 100%|█████████████████████████████████████| 235/235 [00:09<00:00, 24.42batch/s, accuracy=100, loss=0.00309]\n",
      "Validation: : 100%|██████████████████████████████████| 40/40 [00:01<00:00, 25.83batch/s, val_acc=98.7, val_loss=0.0433]\n"
     ]
    },
    {
     "name": "stdout",
     "output_type": "stream",
     "text": [
      "\n",
      "epoch: 57 training loss = 0.0031, training accuracy = 100.00%, val_loss = 0.0433, val_accuracy = 98.66% & LR = 0.0100\n",
      "\n"
     ]
    },
    {
     "name": "stderr",
     "output_type": "stream",
     "text": [
      "Training: : 100%|█████████████████████████████████████| 235/235 [00:09<00:00, 24.32batch/s, accuracy=100, loss=0.00317]\n",
      "Validation: : 100%|██████████████████████████████████| 40/40 [00:01<00:00, 25.55batch/s, val_acc=98.7, val_loss=0.0429]\n"
     ]
    },
    {
     "name": "stdout",
     "output_type": "stream",
     "text": [
      "\n",
      "epoch: 58 training loss = 0.0032, training accuracy = 100.00%, val_loss = 0.0429, val_accuracy = 98.67% & LR = 0.0100\n",
      "\n"
     ]
    },
    {
     "name": "stderr",
     "output_type": "stream",
     "text": [
      "Training: : 100%|█████████████████████████████████████| 235/235 [00:09<00:00, 24.41batch/s, accuracy=100, loss=0.00326]\n",
      "Validation: : 100%|██████████████████████████████████| 40/40 [00:01<00:00, 25.92batch/s, val_acc=98.7, val_loss=0.0432]\n"
     ]
    },
    {
     "name": "stdout",
     "output_type": "stream",
     "text": [
      "\n",
      "epoch: 59 training loss = 0.0033, training accuracy = 100.00%, val_loss = 0.0432, val_accuracy = 98.65% & LR = 0.0100\n",
      "\n"
     ]
    },
    {
     "name": "stderr",
     "output_type": "stream",
     "text": [
      "Training: : 100%|█████████████████████████████████████| 235/235 [00:09<00:00, 24.28batch/s, accuracy=100, loss=0.00333]\n",
      "Validation: : 100%|███████████████████████████████████| 40/40 [00:01<00:00, 26.26batch/s, val_acc=98.7, val_loss=0.043]\n"
     ]
    },
    {
     "name": "stdout",
     "output_type": "stream",
     "text": [
      "\n",
      "epoch: 60 training loss = 0.0033, training accuracy = 100.00%, val_loss = 0.0430, val_accuracy = 98.66% & LR = 0.0100\n",
      "\n"
     ]
    },
    {
     "name": "stderr",
     "output_type": "stream",
     "text": [
      "Training: : 100%|█████████████████████████████████████| 235/235 [00:09<00:00, 24.36batch/s, accuracy=100, loss=0.00343]\n",
      "Validation: : 100%|██████████████████████████████████| 40/40 [00:01<00:00, 25.54batch/s, val_acc=98.7, val_loss=0.0429]\n"
     ]
    },
    {
     "name": "stdout",
     "output_type": "stream",
     "text": [
      "\n",
      "epoch: 61 training loss = 0.0034, training accuracy = 100.00%, val_loss = 0.0429, val_accuracy = 98.65% & LR = 0.0100\n",
      "\n"
     ]
    },
    {
     "name": "stderr",
     "output_type": "stream",
     "text": [
      "Training: : 100%|█████████████████████████████████████| 235/235 [00:09<00:00, 24.00batch/s, accuracy=100, loss=0.00351]\n",
      "Validation: : 100%|██████████████████████████████████| 40/40 [00:01<00:00, 26.03batch/s, val_acc=98.7, val_loss=0.0426]\n"
     ]
    },
    {
     "name": "stdout",
     "output_type": "stream",
     "text": [
      "\n",
      "epoch: 62 training loss = 0.0035, training accuracy = 100.00%, val_loss = 0.0426, val_accuracy = 98.65% & LR = 0.0100\n",
      "\n"
     ]
    },
    {
     "name": "stderr",
     "output_type": "stream",
     "text": [
      "Training: : 100%|█████████████████████████████████████| 235/235 [00:09<00:00, 24.20batch/s, accuracy=100, loss=0.00357]\n",
      "Validation: : 100%|██████████████████████████████████| 40/40 [00:01<00:00, 25.26batch/s, val_acc=98.6, val_loss=0.0429]\n"
     ]
    },
    {
     "name": "stdout",
     "output_type": "stream",
     "text": [
      "\n",
      "epoch: 63 training loss = 0.0036, training accuracy = 100.00%, val_loss = 0.0429, val_accuracy = 98.63% & LR = 0.0100\n",
      "\n"
     ]
    },
    {
     "name": "stderr",
     "output_type": "stream",
     "text": [
      "Training: : 100%|█████████████████████████████████████| 235/235 [00:09<00:00, 24.04batch/s, accuracy=100, loss=0.00365]\n",
      "Validation: : 100%|██████████████████████████████████| 40/40 [00:01<00:00, 25.41batch/s, val_acc=98.7, val_loss=0.0428]\n"
     ]
    },
    {
     "name": "stdout",
     "output_type": "stream",
     "text": [
      "\n",
      "epoch: 64 training loss = 0.0036, training accuracy = 100.00%, val_loss = 0.0428, val_accuracy = 98.66% & LR = 0.0100\n",
      "\n"
     ]
    },
    {
     "name": "stderr",
     "output_type": "stream",
     "text": [
      "Training: : 100%|█████████████████████████████████████| 235/235 [00:09<00:00, 24.01batch/s, accuracy=100, loss=0.00372]\n",
      "Validation: : 100%|██████████████████████████████████| 40/40 [00:01<00:00, 25.37batch/s, val_acc=98.6, val_loss=0.0428]\n"
     ]
    },
    {
     "name": "stdout",
     "output_type": "stream",
     "text": [
      "\n",
      "epoch: 65 training loss = 0.0037, training accuracy = 100.00%, val_loss = 0.0428, val_accuracy = 98.63% & LR = 0.0100\n",
      "\n"
     ]
    },
    {
     "name": "stderr",
     "output_type": "stream",
     "text": [
      "Training: : 100%|█████████████████████████████████████| 235/235 [00:09<00:00, 23.96batch/s, accuracy=100, loss=0.00378]\n",
      "Validation: : 100%|██████████████████████████████████| 40/40 [00:01<00:00, 25.38batch/s, val_acc=98.6, val_loss=0.0427]\n"
     ]
    },
    {
     "name": "stdout",
     "output_type": "stream",
     "text": [
      "\n",
      "epoch: 66 training loss = 0.0038, training accuracy = 100.00%, val_loss = 0.0427, val_accuracy = 98.64% & LR = 0.0100\n",
      "\n"
     ]
    },
    {
     "name": "stderr",
     "output_type": "stream",
     "text": [
      "Training: : 100%|█████████████████████████████████████| 235/235 [00:09<00:00, 24.04batch/s, accuracy=100, loss=0.00385]\n",
      "Validation: : 100%|██████████████████████████████████| 40/40 [00:01<00:00, 25.46batch/s, val_acc=98.6, val_loss=0.0431]\n"
     ]
    },
    {
     "name": "stdout",
     "output_type": "stream",
     "text": [
      "\n",
      "epoch: 67 training loss = 0.0038, training accuracy = 100.00%, val_loss = 0.0431, val_accuracy = 98.58% & LR = 0.0100\n",
      "\n"
     ]
    },
    {
     "name": "stderr",
     "output_type": "stream",
     "text": [
      "Training: : 100%|█████████████████████████████████████| 235/235 [00:09<00:00, 24.17batch/s, accuracy=100, loss=0.00392]\n",
      "Validation: : 100%|██████████████████████████████████| 40/40 [00:01<00:00, 25.49batch/s, val_acc=98.6, val_loss=0.0429]\n"
     ]
    },
    {
     "name": "stdout",
     "output_type": "stream",
     "text": [
      "\n",
      "epoch: 68 training loss = 0.0039, training accuracy = 100.00%, val_loss = 0.0429, val_accuracy = 98.64% & LR = 0.0100\n",
      "\n"
     ]
    },
    {
     "name": "stderr",
     "output_type": "stream",
     "text": [
      "Training: : 100%|█████████████████████████████████████| 235/235 [00:09<00:00, 24.03batch/s, accuracy=100, loss=0.00397]\n",
      "Validation: : 100%|██████████████████████████████████| 40/40 [00:01<00:00, 25.23batch/s, val_acc=98.6, val_loss=0.0432]\n"
     ]
    },
    {
     "name": "stdout",
     "output_type": "stream",
     "text": [
      "\n",
      "epoch: 69 training loss = 0.0040, training accuracy = 100.00%, val_loss = 0.0432, val_accuracy = 98.60% & LR = 0.0100\n",
      "\n"
     ]
    },
    {
     "name": "stderr",
     "output_type": "stream",
     "text": [
      "Training: : 100%|█████████████████████████████████████| 235/235 [00:09<00:00, 24.04batch/s, accuracy=100, loss=0.00402]\n",
      "Validation: : 100%|███████████████████████████████████| 40/40 [00:01<00:00, 25.63batch/s, val_acc=98.6, val_loss=0.043]\n"
     ]
    },
    {
     "name": "stdout",
     "output_type": "stream",
     "text": [
      "\n",
      "epoch: 70 training loss = 0.0040, training accuracy = 100.00%, val_loss = 0.0430, val_accuracy = 98.62% & LR = 0.0010\n",
      "\n"
     ]
    },
    {
     "name": "stderr",
     "output_type": "stream",
     "text": [
      "Training: : 100%|█████████████████████████████████████| 235/235 [00:09<00:00, 23.99batch/s, accuracy=100, loss=0.00389]\n",
      "Validation: : 100%|██████████████████████████████████| 40/40 [00:01<00:00, 25.18batch/s, val_acc=98.6, val_loss=0.0429]\n"
     ]
    },
    {
     "name": "stdout",
     "output_type": "stream",
     "text": [
      "\n",
      "epoch: 71 training loss = 0.0039, training accuracy = 100.00%, val_loss = 0.0429, val_accuracy = 98.64% & LR = 0.0010\n",
      "\n"
     ]
    },
    {
     "name": "stderr",
     "output_type": "stream",
     "text": [
      "Training: : 100%|█████████████████████████████████████| 235/235 [00:09<00:00, 24.00batch/s, accuracy=100, loss=0.00389]\n",
      "Validation: : 100%|██████████████████████████████████| 40/40 [00:01<00:00, 25.46batch/s, val_acc=98.6, val_loss=0.0429]\n"
     ]
    },
    {
     "name": "stdout",
     "output_type": "stream",
     "text": [
      "\n",
      "epoch: 72 training loss = 0.0039, training accuracy = 100.00%, val_loss = 0.0429, val_accuracy = 98.63% & LR = 0.0010\n",
      "\n"
     ]
    },
    {
     "name": "stderr",
     "output_type": "stream",
     "text": [
      "Training: : 100%|█████████████████████████████████████| 235/235 [00:09<00:00, 23.90batch/s, accuracy=100, loss=0.00389]\n",
      "Validation: : 100%|██████████████████████████████████| 40/40 [00:01<00:00, 25.17batch/s, val_acc=98.6, val_loss=0.0429]\n"
     ]
    },
    {
     "name": "stdout",
     "output_type": "stream",
     "text": [
      "\n",
      "epoch: 73 training loss = 0.0039, training accuracy = 100.00%, val_loss = 0.0429, val_accuracy = 98.63% & LR = 0.0010\n",
      "\n"
     ]
    },
    {
     "name": "stderr",
     "output_type": "stream",
     "text": [
      "Training: : 100%|█████████████████████████████████████| 235/235 [00:09<00:00, 23.91batch/s, accuracy=100, loss=0.00389]\n",
      "Validation: : 100%|██████████████████████████████████| 40/40 [00:01<00:00, 25.50batch/s, val_acc=98.6, val_loss=0.0429]\n"
     ]
    },
    {
     "name": "stdout",
     "output_type": "stream",
     "text": [
      "\n",
      "epoch: 74 training loss = 0.0039, training accuracy = 100.00%, val_loss = 0.0429, val_accuracy = 98.62% & LR = 0.0010\n",
      "\n"
     ]
    },
    {
     "name": "stderr",
     "output_type": "stream",
     "text": [
      "Training: : 100%|██████████████████████████████████████| 235/235 [00:09<00:00, 23.96batch/s, accuracy=100, loss=0.0039]\n",
      "Validation: : 100%|██████████████████████████████████| 40/40 [00:01<00:00, 25.17batch/s, val_acc=98.6, val_loss=0.0429]\n"
     ]
    },
    {
     "name": "stdout",
     "output_type": "stream",
     "text": [
      "\n",
      "epoch: 75 training loss = 0.0039, training accuracy = 100.00%, val_loss = 0.0429, val_accuracy = 98.63% & LR = 0.0010\n",
      "\n"
     ]
    },
    {
     "name": "stderr",
     "output_type": "stream",
     "text": [
      "Training: : 100%|██████████████████████████████████████| 235/235 [00:09<00:00, 24.01batch/s, accuracy=100, loss=0.0039]\n",
      "Validation: : 100%|██████████████████████████████████| 40/40 [00:01<00:00, 25.32batch/s, val_acc=98.6, val_loss=0.0429]\n"
     ]
    },
    {
     "name": "stdout",
     "output_type": "stream",
     "text": [
      "\n",
      "epoch: 76 training loss = 0.0039, training accuracy = 100.00%, val_loss = 0.0429, val_accuracy = 98.62% & LR = 0.0010\n",
      "\n"
     ]
    },
    {
     "name": "stderr",
     "output_type": "stream",
     "text": [
      "Training: : 100%|█████████████████████████████████████| 235/235 [00:09<00:00, 23.94batch/s, accuracy=100, loss=0.00391]\n",
      "Validation: : 100%|██████████████████████████████████| 40/40 [00:01<00:00, 25.40batch/s, val_acc=98.6, val_loss=0.0429]\n"
     ]
    },
    {
     "name": "stdout",
     "output_type": "stream",
     "text": [
      "\n",
      "epoch: 77 training loss = 0.0039, training accuracy = 100.00%, val_loss = 0.0429, val_accuracy = 98.62% & LR = 0.0010\n",
      "\n"
     ]
    },
    {
     "name": "stderr",
     "output_type": "stream",
     "text": [
      "Training: : 100%|█████████████████████████████████████| 235/235 [00:09<00:00, 23.95batch/s, accuracy=100, loss=0.00391]\n",
      "Validation: : 100%|██████████████████████████████████| 40/40 [00:01<00:00, 25.18batch/s, val_acc=98.6, val_loss=0.0429]\n"
     ]
    },
    {
     "name": "stdout",
     "output_type": "stream",
     "text": [
      "\n",
      "epoch: 78 training loss = 0.0039, training accuracy = 100.00%, val_loss = 0.0429, val_accuracy = 98.62% & LR = 0.0010\n",
      "\n"
     ]
    },
    {
     "name": "stderr",
     "output_type": "stream",
     "text": [
      "Training: : 100%|█████████████████████████████████████| 235/235 [00:09<00:00, 23.95batch/s, accuracy=100, loss=0.00391]\n",
      "Validation: : 100%|██████████████████████████████████| 40/40 [00:01<00:00, 25.40batch/s, val_acc=98.6, val_loss=0.0429]\n"
     ]
    },
    {
     "name": "stdout",
     "output_type": "stream",
     "text": [
      "\n",
      "epoch: 79 training loss = 0.0039, training accuracy = 100.00%, val_loss = 0.0429, val_accuracy = 98.63% & LR = 0.0010\n",
      "\n"
     ]
    },
    {
     "name": "stderr",
     "output_type": "stream",
     "text": [
      "Training: : 100%|█████████████████████████████████████| 235/235 [00:09<00:00, 24.02batch/s, accuracy=100, loss=0.00392]\n",
      "Validation: : 100%|██████████████████████████████████| 40/40 [00:01<00:00, 25.40batch/s, val_acc=98.6, val_loss=0.0429]\n"
     ]
    },
    {
     "name": "stdout",
     "output_type": "stream",
     "text": [
      "\n",
      "epoch: 80 training loss = 0.0039, training accuracy = 100.00%, val_loss = 0.0429, val_accuracy = 98.63% & LR = 0.0010\n",
      "\n"
     ]
    },
    {
     "name": "stderr",
     "output_type": "stream",
     "text": [
      "Training: : 100%|█████████████████████████████████████| 235/235 [00:09<00:00, 23.92batch/s, accuracy=100, loss=0.00393]\n",
      "Validation: : 100%|██████████████████████████████████| 40/40 [00:01<00:00, 25.40batch/s, val_acc=98.6, val_loss=0.0429]\n"
     ]
    },
    {
     "name": "stdout",
     "output_type": "stream",
     "text": [
      "\n",
      "epoch: 81 training loss = 0.0039, training accuracy = 100.00%, val_loss = 0.0429, val_accuracy = 98.63% & LR = 0.0010\n",
      "\n"
     ]
    },
    {
     "name": "stderr",
     "output_type": "stream",
     "text": [
      "Training: : 100%|█████████████████████████████████████| 235/235 [00:09<00:00, 23.98batch/s, accuracy=100, loss=0.00393]\n",
      "Validation: : 100%|██████████████████████████████████| 40/40 [00:01<00:00, 25.44batch/s, val_acc=98.6, val_loss=0.0429]\n"
     ]
    },
    {
     "name": "stdout",
     "output_type": "stream",
     "text": [
      "\n",
      "epoch: 82 training loss = 0.0039, training accuracy = 100.00%, val_loss = 0.0429, val_accuracy = 98.63% & LR = 0.0010\n",
      "\n"
     ]
    },
    {
     "name": "stderr",
     "output_type": "stream",
     "text": [
      "Training: : 100%|█████████████████████████████████████| 235/235 [00:09<00:00, 23.90batch/s, accuracy=100, loss=0.00394]\n",
      "Validation: : 100%|██████████████████████████████████| 40/40 [00:01<00:00, 25.19batch/s, val_acc=98.6, val_loss=0.0429]\n"
     ]
    },
    {
     "name": "stdout",
     "output_type": "stream",
     "text": [
      "\n",
      "epoch: 83 training loss = 0.0039, training accuracy = 100.00%, val_loss = 0.0429, val_accuracy = 98.62% & LR = 0.0010\n",
      "\n"
     ]
    },
    {
     "name": "stderr",
     "output_type": "stream",
     "text": [
      "Training: : 100%|█████████████████████████████████████| 235/235 [00:09<00:00, 23.87batch/s, accuracy=100, loss=0.00394]\n",
      "Validation: : 100%|██████████████████████████████████| 40/40 [00:01<00:00, 24.98batch/s, val_acc=98.6, val_loss=0.0429]\n"
     ]
    },
    {
     "name": "stdout",
     "output_type": "stream",
     "text": [
      "\n",
      "epoch: 84 training loss = 0.0039, training accuracy = 100.00%, val_loss = 0.0429, val_accuracy = 98.62% & LR = 0.0010\n",
      "\n"
     ]
    },
    {
     "name": "stderr",
     "output_type": "stream",
     "text": [
      "Training: : 100%|█████████████████████████████████████| 235/235 [00:09<00:00, 23.95batch/s, accuracy=100, loss=0.00395]\n",
      "Validation: : 100%|██████████████████████████████████| 40/40 [00:01<00:00, 25.26batch/s, val_acc=98.6, val_loss=0.0429]"
     ]
    },
    {
     "name": "stdout",
     "output_type": "stream",
     "text": [
      "\n",
      "epoch: 85 training loss = 0.0039, training accuracy = 100.00%, val_loss = 0.0429, val_accuracy = 98.63% & LR = 0.0010\n",
      "\n"
     ]
    },
    {
     "name": "stderr",
     "output_type": "stream",
     "text": [
      "\n"
     ]
    }
   ],
   "source": [
    "for epoch in range(num_epochs):\n",
    "\n",
    "    # Train and validate model for 1 epoch-\n",
    "    train_loss, train_acc = train_model_progress(\n",
    "        model, train_loader,\n",
    "        train_dataset\n",
    "    )\n",
    "    val_loss, val_acc = test_model_progress(\n",
    "        model, test_loader,\n",
    "        test_dataset\n",
    "    )\n",
    "    \n",
    "    print(f\"\\nepoch: {epoch + 1} training loss = {train_loss:.4f}, \"\n",
    "          f\"training accuracy = {train_acc:.2f}%, val_loss = {val_loss:.4f}\"\n",
    "          f\", val_accuracy = {val_acc:.2f}% & \"\n",
    "          f\"LR = {optimizer.param_groups[0]['lr']:.4f}\\n\")\n",
    "    \n",
    "    training_history_lr_scheduler[epoch + 1] = {\n",
    "        'loss': train_loss, 'acc': train_acc,\n",
    "        'val_loss': val_loss, 'val_acc': val_acc,\n",
    "        'lr': optimizer.param_groups[0]['lr']\n",
    "    }\n",
    "\n",
    "    \n",
    "    # Save best weights achieved until now-\n",
    "    if (val_acc > best_val_acc):\n",
    "        # update 'best_val_loss' variable to lowest loss encountered so far-\n",
    "        best_val_acc = val_acc\n",
    "\n",
    "        print(f\"Saving model with highest val_acc = {val_acc:.4f}\\n\")\n",
    "        \n",
    "        # Save trained model with 'best' validation accuracy-\n",
    "        torch.save(model.state_dict(), \"LeNet300_best_model.pth\")\n",
    "        "
   ]
  },
  {
   "cell_type": "code",
   "execution_count": null,
   "id": "e44a8c8d-9171-4209-943e-c3b2d67f54fa",
   "metadata": {},
   "outputs": [],
   "source": []
  },
  {
   "cell_type": "code",
   "execution_count": 29,
   "id": "0165ff77-5974-414c-b3c6-46421c54279e",
   "metadata": {},
   "outputs": [],
   "source": [
    "# Save training metrics as Python3 history for later analysis-\n",
    "with open(\"LeNet300_training_history_lr_scheduler.pkl\", \"wb\") as file:\n",
    "    pickle.dump(training_history_lr_scheduler, file)"
   ]
  },
  {
   "cell_type": "code",
   "execution_count": null,
   "id": "bc95c04e-a48f-4aa8-b076-60059bd744d7",
   "metadata": {},
   "outputs": [],
   "source": []
  },
  {
   "cell_type": "code",
   "execution_count": 30,
   "id": "282c6fb7-b3e9-41a1-be72-84c0b92786c8",
   "metadata": {},
   "outputs": [
    {
     "data": {
      "image/png": "[encoded data removed]",
      "text/plain": [
       "<Figure size 800x600 with 1 Axes>"
      ]
     },
     "metadata": {},
     "output_type": "display_data"
    }
   ],
   "source": [
    "plt.figure(figsize = (8, 6))\n",
    "plt.plot(list(training_history_lr_scheduler.keys()), [training_history_lr_scheduler[k]['acc'] for k in training_history_lr_scheduler.keys()], label = 'training acc')\n",
    "plt.plot(list(training_history_lr_scheduler.keys()), [training_history_lr_scheduler[k]['val_acc'] for k in training_history_lr_scheduler.keys()], label = 'val acc')\n",
    "plt.title(\"LeNet-300: Training Accuracy\")\n",
    "plt.xlabel(\"epochs\")\n",
    "plt.ylabel(\"accuracy (%)\")\n",
    "plt.legend(loc = 'best')\n",
    "plt.show()"
   ]
  },
  {
   "cell_type": "code",
   "execution_count": 31,
   "id": "41a67e86-c6fc-43be-8ead-de31abf11740",
   "metadata": {},
   "outputs": [
    {
     "data": {
      "image/png": "[encoded data removed]",
      "text/plain": [
       "<Figure size 800x600 with 1 Axes>"
      ]
     },
     "metadata": {},
     "output_type": "display_data"
    }
   ],
   "source": [
    "plt.figure(figsize = (8, 6))\n",
    "plt.plot(list(training_history_lr_scheduler.keys()), [training_history_lr_scheduler[k]['loss'] for k in training_history_lr_scheduler.keys()], label = 'training loss')\n",
    "plt.plot(list(training_history_lr_scheduler.keys()), [training_history_lr_scheduler[k]['val_loss'] for k in training_history_lr_scheduler.keys()], label = 'val loss')\n",
    "plt.xlabel(\"epochs\")\n",
    "plt.ylabel(\"loss\")\n",
    "plt.legend(loc = 'best')\n",
    "plt.title(\"LeNet-300: Training Loss\")\n",
    "plt.show()"
   ]
  },
  {
   "cell_type": "code",
   "execution_count": 32,
   "id": "7dcdb7cc-427c-452c-b521-56efde91dad6",
   "metadata": {},
   "outputs": [
    {
     "data": {
      "image/png": "[encoded data removed]",
      "text/plain": [
       "<Figure size 800x600 with 1 Axes>"
      ]
     },
     "metadata": {},
     "output_type": "display_data"
    }
   ],
   "source": [
    "plt.figure(figsize = (8, 6))\n",
    "plt.plot(list(training_history_lr_scheduler.keys()), [training_history_lr_scheduler[k]['lr'] for k in training_history_lr_scheduler.keys()])\n",
    "plt.xlabel(\"epochs\")\n",
    "plt.ylabel(\"lr\")\n",
    "plt.title(\"LeNet-300: Learning-Rate\")\n",
    "plt.show()"
   ]
  },
  {
   "cell_type": "code",
   "execution_count": 33,
   "id": "b381e75f-05a6-4df5-81b3-90ed61716974",
   "metadata": {},
   "outputs": [],
   "source": [
    "del model"
   ]
  },
  {
   "cell_type": "code",
   "execution_count": null,
   "id": "19521dfe-917b-4e04-8d1f-808903960099",
   "metadata": {},
   "outputs": [],
   "source": []
  },
  {
   "cell_type": "code",
   "execution_count": 34,
   "id": "958098a4-e5bd-4ea8-9f9c-48c2cd733fd0",
   "metadata": {},
   "outputs": [],
   "source": [
    "# Load 'best' trained parameters-\n",
    "best_model = LeNet300()\n",
    "best_model.load_state_dict(torch.load(\"LeNet300_best_model.pth\"))\n",
    "best_model = best_model.to(device)"
   ]
  },
  {
   "cell_type": "code",
   "execution_count": 35,
   "id": "4c35529f-aab1-4400-b9e8-a1689adeb747",
   "metadata": {},
   "outputs": [
    {
     "name": "stderr",
     "output_type": "stream",
     "text": [
      "Validation: : 100%|██████████████████████████████████| 40/40 [00:01<00:00, 25.64batch/s, val_acc=98.7, val_loss=0.0433]\n"
     ]
    }
   ],
   "source": [
    "val_loss, val_acc = test_model_progress(\n",
    "    best_model, test_loader,\n",
    "    test_dataset\n",
    ")"
   ]
  },
  {
   "cell_type": "code",
   "execution_count": 36,
   "id": "2556adb4-74b2-4765-99aa-985e1bde5c37",
   "metadata": {},
   "outputs": [
    {
     "name": "stdout",
     "output_type": "stream",
     "text": [
      "LeNet-300 'best' trained metrics:  loss: 0.0433 & accuracy = 98.67%\n"
     ]
    }
   ],
   "source": [
    "print(\"LeNet-300 'best' trained metrics: \",\n",
    "      f\"loss: {val_loss:.4f} & accuracy = {val_acc:.2f}%\"\n",
    "     )"
   ]
  },
  {
   "cell_type": "code",
   "execution_count": null,
   "id": "f109d976-b8ef-4b52-8cec-f73801b569f6",
   "metadata": {},
   "outputs": [],
   "source": []
  },
  {
   "cell_type": "code",
   "execution_count": null,
   "id": "95510301-f658-43b3-bf67-1234cca9d9d7",
   "metadata": {},
   "outputs": [],
   "source": []
  }
 ],
 "metadata": {
  "kernelspec": {
   "display_name": "Python 3 (ipykernel)",
   "language": "python",
   "name": "python3"
  },
  "language_info": {
   "codemirror_mode": {
    "name": "ipython",
    "version": 3
   },
   "file_extension": ".py",
   "mimetype": "text/x-python",
   "name": "python",
   "nbconvert_exporter": "python",
   "pygments_lexer": "ipython3",
   "version": "3.10.9"
  }
 },
 "nbformat": 4,
 "nbformat_minor": 5
}
