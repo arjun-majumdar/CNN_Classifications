{
  "nbformat": 4,
  "nbformat_minor": 0,
  "metadata": {
    "colab": {
      "name": "ResNet-22_Experiments.ipynb",
      "provenance": [],
      "collapsed_sections": []
    },
    "kernelspec": {
      "name": "python3",
      "display_name": "Python 3"
    },
    "accelerator": "GPU",
    "widgets": {
      "application/vnd.jupyter.widget-state+json": {
        "3cfebcdb5913400ea0e826c4dea41a37": {
          "model_module": "@jupyter-widgets/controls",
          "model_name": "HBoxModel",
          "state": {
            "_view_name": "HBoxView",
            "_dom_classes": [],
            "_model_name": "HBoxModel",
            "_view_module": "@jupyter-widgets/controls",
            "_model_module_version": "1.5.0",
            "_view_count": null,
            "_view_module_version": "1.5.0",
            "box_style": "",
            "layout": "IPY_MODEL_b5757c828d214cddb96e224d958404bd",
            "_model_module": "@jupyter-widgets/controls",
            "children": [
              "IPY_MODEL_9419c87331564c578d9c3671908f4f77",
              "IPY_MODEL_2dfdf3f768d2473b831781bf9f0b6e50"
            ]
          }
        },
        "b5757c828d214cddb96e224d958404bd": {
          "model_module": "@jupyter-widgets/base",
          "model_name": "LayoutModel",
          "state": {
            "_view_name": "LayoutView",
            "grid_template_rows": null,
            "right": null,
            "justify_content": null,
            "_view_module": "@jupyter-widgets/base",
            "overflow": null,
            "_model_module_version": "1.2.0",
            "_view_count": null,
            "flex_flow": null,
            "width": null,
            "min_width": null,
            "border": null,
            "align_items": null,
            "bottom": null,
            "_model_module": "@jupyter-widgets/base",
            "top": null,
            "grid_column": null,
            "overflow_y": null,
            "overflow_x": null,
            "grid_auto_flow": null,
            "grid_area": null,
            "grid_template_columns": null,
            "flex": null,
            "_model_name": "LayoutModel",
            "justify_items": null,
            "grid_row": null,
            "max_height": null,
            "align_content": null,
            "visibility": null,
            "align_self": null,
            "height": null,
            "min_height": null,
            "padding": null,
            "grid_auto_rows": null,
            "grid_gap": null,
            "max_width": null,
            "order": null,
            "_view_module_version": "1.2.0",
            "grid_template_areas": null,
            "object_position": null,
            "object_fit": null,
            "grid_auto_columns": null,
            "margin": null,
            "display": null,
            "left": null
          }
        },
        "9419c87331564c578d9c3671908f4f77": {
          "model_module": "@jupyter-widgets/controls",
          "model_name": "FloatProgressModel",
          "state": {
            "_view_name": "ProgressView",
            "style": "IPY_MODEL_c09efd4c66e845c3a46dd2b4241bde99",
            "_dom_classes": [],
            "description": "",
            "_model_name": "FloatProgressModel",
            "bar_style": "info",
            "max": 1,
            "_view_module": "@jupyter-widgets/controls",
            "_model_module_version": "1.5.0",
            "value": 1,
            "_view_count": null,
            "_view_module_version": "1.5.0",
            "orientation": "horizontal",
            "min": 0,
            "description_tooltip": null,
            "_model_module": "@jupyter-widgets/controls",
            "layout": "IPY_MODEL_5ac000eafa8e402cb0ed26757ede3c4b"
          }
        },
        "2dfdf3f768d2473b831781bf9f0b6e50": {
          "model_module": "@jupyter-widgets/controls",
          "model_name": "HTMLModel",
          "state": {
            "_view_name": "HTMLView",
            "style": "IPY_MODEL_95922754125f43868761a2e2a44135af",
            "_dom_classes": [],
            "description": "",
            "_model_name": "HTMLModel",
            "placeholder": "​",
            "_view_module": "@jupyter-widgets/controls",
            "_model_module_version": "1.5.0",
            "value": " 170500096/? [00:20&lt;00:00, 50184271.08it/s]",
            "_view_count": null,
            "_view_module_version": "1.5.0",
            "description_tooltip": null,
            "_model_module": "@jupyter-widgets/controls",
            "layout": "IPY_MODEL_e9de5d1547ba4213907e1ffe29f97945"
          }
        },
        "c09efd4c66e845c3a46dd2b4241bde99": {
          "model_module": "@jupyter-widgets/controls",
          "model_name": "ProgressStyleModel",
          "state": {
            "_view_name": "StyleView",
            "_model_name": "ProgressStyleModel",
            "description_width": "initial",
            "_view_module": "@jupyter-widgets/base",
            "_model_module_version": "1.5.0",
            "_view_count": null,
            "_view_module_version": "1.2.0",
            "bar_color": null,
            "_model_module": "@jupyter-widgets/controls"
          }
        },
        "5ac000eafa8e402cb0ed26757ede3c4b": {
          "model_module": "@jupyter-widgets/base",
          "model_name": "LayoutModel",
          "state": {
            "_view_name": "LayoutView",
            "grid_template_rows": null,
            "right": null,
            "justify_content": null,
            "_view_module": "@jupyter-widgets/base",
            "overflow": null,
            "_model_module_version": "1.2.0",
            "_view_count": null,
            "flex_flow": null,
            "width": null,
            "min_width": null,
            "border": null,
            "align_items": null,
            "bottom": null,
            "_model_module": "@jupyter-widgets/base",
            "top": null,
            "grid_column": null,
            "overflow_y": null,
            "overflow_x": null,
            "grid_auto_flow": null,
            "grid_area": null,
            "grid_template_columns": null,
            "flex": null,
            "_model_name": "LayoutModel",
            "justify_items": null,
            "grid_row": null,
            "max_height": null,
            "align_content": null,
            "visibility": null,
            "align_self": null,
            "height": null,
            "min_height": null,
            "padding": null,
            "grid_auto_rows": null,
            "grid_gap": null,
            "max_width": null,
            "order": null,
            "_view_module_version": "1.2.0",
            "grid_template_areas": null,
            "object_position": null,
            "object_fit": null,
            "grid_auto_columns": null,
            "margin": null,
            "display": null,
            "left": null
          }
        },
        "95922754125f43868761a2e2a44135af": {
          "model_module": "@jupyter-widgets/controls",
          "model_name": "DescriptionStyleModel",
          "state": {
            "_view_name": "StyleView",
            "_model_name": "DescriptionStyleModel",
            "description_width": "",
            "_view_module": "@jupyter-widgets/base",
            "_model_module_version": "1.5.0",
            "_view_count": null,
            "_view_module_version": "1.2.0",
            "_model_module": "@jupyter-widgets/controls"
          }
        },
        "e9de5d1547ba4213907e1ffe29f97945": {
          "model_module": "@jupyter-widgets/base",
          "model_name": "LayoutModel",
          "state": {
            "_view_name": "LayoutView",
            "grid_template_rows": null,
            "right": null,
            "justify_content": null,
            "_view_module": "@jupyter-widgets/base",
            "overflow": null,
            "_model_module_version": "1.2.0",
            "_view_count": null,
            "flex_flow": null,
            "width": null,
            "min_width": null,
            "border": null,
            "align_items": null,
            "bottom": null,
            "_model_module": "@jupyter-widgets/base",
            "top": null,
            "grid_column": null,
            "overflow_y": null,
            "overflow_x": null,
            "grid_auto_flow": null,
            "grid_area": null,
            "grid_template_columns": null,
            "flex": null,
            "_model_name": "LayoutModel",
            "justify_items": null,
            "grid_row": null,
            "max_height": null,
            "align_content": null,
            "visibility": null,
            "align_self": null,
            "height": null,
            "min_height": null,
            "padding": null,
            "grid_auto_rows": null,
            "grid_gap": null,
            "max_width": null,
            "order": null,
            "_view_module_version": "1.2.0",
            "grid_template_areas": null,
            "object_position": null,
            "object_fit": null,
            "grid_auto_columns": null,
            "margin": null,
            "display": null,
            "left": null
          }
        }
      }
    }
  },
  "cells": [
    {
      "cell_type": "markdown",
      "metadata": {
        "id": "6EerumeaqLVv"
      },
      "source": [
        "**ResNet-22 Convolutional Neural Networks trained on CIFAR-10**"
      ]
    },
    {
      "cell_type": "code",
      "metadata": {
        "id": "PhobNirAqPNC"
      },
      "source": [
        "import torch\n",
        "import torch.nn as nn\n",
        "import torch.nn.functional as F\n",
        "import torchvision\n",
        "import torchvision.transforms as transforms\n",
        "import matplotlib.pyplot as plt\n",
        "import numpy as np\n",
        "import os"
      ],
      "execution_count": 1,
      "outputs": []
    },
    {
      "cell_type": "code",
      "metadata": {
        "id": "ommMsfONqZgj"
      },
      "source": [
        ""
      ],
      "execution_count": null,
      "outputs": []
    },
    {
      "cell_type": "code",
      "metadata": {
        "colab": {
          "base_uri": "https://localhost:8080/"
        },
        "id": "ADmt_VNVqZtz",
        "outputId": "d8e2370e-7e9b-4c2a-c623-ce576f0d2146"
      },
      "source": [
        "# Device configuration-\n",
        "device = torch.device('cuda' if torch.cuda.is_available() else 'cpu')\n",
        "print(f\"currently available device: {device}\")"
      ],
      "execution_count": 2,
      "outputs": [
        {
          "output_type": "stream",
          "text": [
            "currently available device: cuda\n"
          ],
          "name": "stdout"
        }
      ]
    },
    {
      "cell_type": "code",
      "metadata": {
        "id": "gaqQpqHbqeoA"
      },
      "source": [
        ""
      ],
      "execution_count": null,
      "outputs": []
    },
    {
      "cell_type": "code",
      "metadata": {
        "id": "kqvbdSHzqcNb"
      },
      "source": [
        "# Hyper-parameters-\n",
        "num_epochs = 100\n",
        "batch_size = 128\n",
        "learning_rate = 0.001"
      ],
      "execution_count": 3,
      "outputs": []
    },
    {
      "cell_type": "code",
      "metadata": {
        "id": "jEwgAPpSAKF7"
      },
      "source": [
        "# Define transformations for training and test sets-\n",
        "transform_train = transforms.Compose(\n",
        "    [\n",
        "      transforms.RandomCrop(32, padding = 4),\n",
        "      transforms.RandomHorizontalFlip(),\n",
        "      transforms.ToTensor(),\n",
        "      transforms.Normalize((0.4914, 0.4822, 0.4465), (0.2023, 0.1994, 0.2010)),\n",
        "     ]\n",
        "     )\n",
        "\n",
        "transform_test = transforms.Compose(\n",
        "    [\n",
        "      transforms.ToTensor(),\n",
        "      transforms.Normalize((0.4914, 0.4822, 0.4465), (0.2023, 0.1994, 0.2010)),\n",
        "     ]\n",
        "     )"
      ],
      "execution_count": 4,
      "outputs": []
    },
    {
      "cell_type": "code",
      "metadata": {
        "id": "L6fnVlTbqfIL"
      },
      "source": [
        "'''\n",
        "# Dataset has PILImage images of range [0, 1]. We transform them to Tensors\n",
        "# of normalized range [-1, 1]\n",
        "transform = transforms.Compose(\n",
        "        [\n",
        "            transforms.ToTensor(),\n",
        "            transforms.Normalize((0.5, 0.5, 0.5), (0.5, 0.5, 0.5))\n",
        "            ]\n",
        "        )\n",
        "'''"
      ],
      "execution_count": null,
      "outputs": []
    },
    {
      "cell_type": "code",
      "metadata": {
        "colab": {
          "base_uri": "https://localhost:8080/",
          "height": 101,
          "referenced_widgets": [
            "3cfebcdb5913400ea0e826c4dea41a37",
            "b5757c828d214cddb96e224d958404bd",
            "9419c87331564c578d9c3671908f4f77",
            "2dfdf3f768d2473b831781bf9f0b6e50",
            "c09efd4c66e845c3a46dd2b4241bde99",
            "5ac000eafa8e402cb0ed26757ede3c4b",
            "95922754125f43868761a2e2a44135af",
            "e9de5d1547ba4213907e1ffe29f97945"
          ]
        },
        "id": "xzYnuq-Aqg_6",
        "outputId": "48889f44-d928-4564-8171-cbef08a5349b"
      },
      "source": [
        "# Load dataset-\n",
        "train_dataset = torchvision.datasets.CIFAR10(\n",
        "        root = './data', train = True,\n",
        "        download = True, transform = transform_train\n",
        "        )\n",
        "\n",
        "test_dataset = torchvision.datasets.CIFAR10(\n",
        "        root = './data', train = False,\n",
        "        download = True, transform = transform_test\n",
        "        )"
      ],
      "execution_count": 5,
      "outputs": [
        {
          "output_type": "stream",
          "text": [
            "Downloading https://www.cs.toronto.edu/~kriz/cifar-10-python.tar.gz to ./data/cifar-10-python.tar.gz\n"
          ],
          "name": "stdout"
        },
        {
          "output_type": "display_data",
          "data": {
            "application/vnd.jupyter.widget-view+json": {
              "model_id": "3cfebcdb5913400ea0e826c4dea41a37",
              "version_minor": 0,
              "version_major": 2
            },
            "text/plain": [
              "HBox(children=(FloatProgress(value=1.0, bar_style='info', max=1.0), HTML(value='')))"
            ]
          },
          "metadata": {
            "tags": []
          }
        },
        {
          "output_type": "stream",
          "text": [
            "Extracting ./data/cifar-10-python.tar.gz to ./data\n",
            "Files already downloaded and verified\n"
          ],
          "name": "stdout"
        }
      ]
    },
    {
      "cell_type": "code",
      "metadata": {
        "colab": {
          "base_uri": "https://localhost:8080/"
        },
        "id": "KZeZh-8VqkIJ",
        "outputId": "9d2fe5cb-9a8b-45e0-fec1-afa78a21643d"
      },
      "source": [
        "print(f\"len(train_dataset) = {len(train_dataset)} & len(test_dataset) = {len(test_dataset)}\")"
      ],
      "execution_count": 6,
      "outputs": [
        {
          "output_type": "stream",
          "text": [
            "len(train_dataset) = 50000 & len(test_dataset) = 10000\n"
          ],
          "name": "stdout"
        }
      ]
    },
    {
      "cell_type": "code",
      "metadata": {
        "id": "lrMJVFt-qlFR"
      },
      "source": [
        "# Create training and testing loaders-\n",
        "train_loader = torch.utils.data.DataLoader(\n",
        "        train_dataset, batch_size = batch_size,\n",
        "        shuffle = True\n",
        "        )\n",
        "\n",
        "test_loader = torch.utils.data.DataLoader(\n",
        "        test_dataset, batch_size = batch_size,\n",
        "        shuffle = False\n",
        "        )"
      ],
      "execution_count": 7,
      "outputs": []
    },
    {
      "cell_type": "code",
      "metadata": {
        "colab": {
          "base_uri": "https://localhost:8080/"
        },
        "id": "93Ya0qnXqoXd",
        "outputId": "6a51fe1f-e86a-4a73-ec96-3250e94e9260"
      },
      "source": [
        "print(f\"len(train_loader) = {len(train_loader)} & len(test_loader) = {len(test_loader)}\")"
      ],
      "execution_count": 8,
      "outputs": [
        {
          "output_type": "stream",
          "text": [
            "len(train_loader) = 391 & len(test_loader) = 79\n"
          ],
          "name": "stdout"
        }
      ]
    },
    {
      "cell_type": "code",
      "metadata": {
        "colab": {
          "base_uri": "https://localhost:8080/"
        },
        "id": "M-8FPGEqqpAf",
        "outputId": "a62e6343-08e6-4f10-87e5-c7015656651c"
      },
      "source": [
        "# Sanity check-\n",
        "len(train_dataset) / batch_size, len(test_dataset) / batch_size"
      ],
      "execution_count": 9,
      "outputs": [
        {
          "output_type": "execute_result",
          "data": {
            "text/plain": [
              "(390.625, 78.125)"
            ]
          },
          "metadata": {
            "tags": []
          },
          "execution_count": 9
        }
      ]
    },
    {
      "cell_type": "code",
      "metadata": {
        "id": "REC4tDdlqrLE"
      },
      "source": [
        ""
      ],
      "execution_count": null,
      "outputs": []
    },
    {
      "cell_type": "code",
      "metadata": {
        "colab": {
          "base_uri": "https://localhost:8080/"
        },
        "id": "ViCTAvtXqt5t",
        "outputId": "fd0d6a80-41da-4a62-cf1e-6dd88a30c950"
      },
      "source": [
        "# Get some random training images-\n",
        "# some_img = iter(train_loader)\n",
        "# images, labels = some_img.next()\n",
        "images, labels = next(iter(train_loader))\n",
        "\n",
        "# You get 32 images due to our specified batch size-\n",
        "print(f\"images.shape: {images.shape} & labels.shape: {labels.shape}\")"
      ],
      "execution_count": 10,
      "outputs": [
        {
          "output_type": "stream",
          "text": [
            "images.shape: torch.Size([128, 3, 32, 32]) & labels.shape: torch.Size([128])\n"
          ],
          "name": "stdout"
        }
      ]
    },
    {
      "cell_type": "code",
      "metadata": {
        "id": "CvqT5GyfquqV"
      },
      "source": [
        ""
      ],
      "execution_count": null,
      "outputs": []
    },
    {
      "cell_type": "code",
      "metadata": {
        "id": "yny3gCpSqyIc"
      },
      "source": [
        ""
      ],
      "execution_count": null,
      "outputs": []
    },
    {
      "cell_type": "code",
      "metadata": {
        "id": "MpdfJrHaqySQ"
      },
      "source": [
        "class ResidualBlock(nn.Module):\n",
        "    '''\n",
        "    Residual Block within a ResNet CNN model\n",
        "    '''\n",
        "    def __init__(self, input_channels, num_channels, \n",
        "                 use_1x1_conv = False, strides = 1):\n",
        "        # super(ResidualBlock, self).__init__()\n",
        "        super().__init__()\n",
        "     \n",
        "        self.conv1 = nn.Conv2d(\n",
        "            in_channels = input_channels, out_channels = num_channels,\n",
        "            kernel_size = 3, padding = 1, stride = strides,\n",
        "            bias = False\n",
        "            )\n",
        "        self.conv2 = nn.Conv2d(\n",
        "            in_channels = num_channels, out_channels = num_channels,\n",
        "            kernel_size = 3, padding = 1, stride = 1,\n",
        "            bias = False\n",
        "            )\n",
        "        \n",
        "        if use_1x1_conv:\n",
        "            self.conv3 = nn.Conv2d(\n",
        "                in_channels = input_channels, out_channels = num_channels,\n",
        "                kernel_size = 1, stride = strides\n",
        "                )\n",
        "        else:\n",
        "            self.conv3 = None\n",
        "        \n",
        "        self.bn1 = nn.BatchNorm2d(num_features = num_channels)\n",
        "        self.bn2 = nn.BatchNorm2d(num_features = num_channels)\n",
        "        self.relu = nn.ReLU(inplace = True)\n",
        "\n",
        "        self.initialize_weights()\n",
        "        \n",
        "    \n",
        "    def forward(self, X):\n",
        "        Y = F.relu(self.bn1(self.conv1(X)))\n",
        "        Y = self.bn2(self.conv2(Y))\n",
        "        \n",
        "        if self.conv3:\n",
        "            X = self.conv3(X)\n",
        "            # print(f\"X.shape due to 1x1: {X.shape} & Y.shape = {Y.shape}\")\n",
        "        else:\n",
        "            # print(f\"X.shape without 1x1: {X.shape} & Y.shape = {Y.shape}\")\n",
        "            pass\n",
        "        \n",
        "        Y += X\n",
        "        return F.relu(Y)\n",
        "    \n",
        "    \n",
        "    def shape_computation(self, X):\n",
        "        Y = self.conv1(X)\n",
        "        print(f\"self.conv1(X).shape: {Y.shape}\")\n",
        "        Y = self.conv2(Y)\n",
        "        print(f\"self.conv2(X).shape: {Y.shape}\")\n",
        "        \n",
        "        if self.conv3:\n",
        "            h = self.conv3(X)\n",
        "            print(f\"self.conv3(X).shape: {h.shape}\")\n",
        "    \n",
        "\n",
        "    def initialize_weights(self):\n",
        "        for m in self.modules():\n",
        "            # print(m)\n",
        "            if isinstance(m, nn.Conv2d):\n",
        "                nn.init.kaiming_uniform_(m.weight)\n",
        "\n",
        "                '''\n",
        "                # Do not initialize bias (due to batchnorm)-\n",
        "                if m.bias is not None:\n",
        "                    nn.init.constant_(m.bias, 0)\n",
        "                '''\n",
        "            \n",
        "            elif isinstance(m, nn.BatchNorm2d):\n",
        "                # Standard initialization for batch normalization-\n",
        "                nn.init.constant_(m.weight, 1)\n",
        "                nn.init.constant_(m.bias, 0)\n",
        "\n",
        "            elif isinstance(m, nn.Linear):\n",
        "                nn.init.kaiming_normal_(m.weight)\n",
        "                nn.init.constant_(m.bias, 0)\n"
      ],
      "execution_count": 11,
      "outputs": []
    },
    {
      "cell_type": "code",
      "metadata": {
        "id": "In1_fKzvqyvs"
      },
      "source": [
        ""
      ],
      "execution_count": null,
      "outputs": []
    },
    {
      "cell_type": "code",
      "metadata": {
        "id": "DrRcTujhq-up"
      },
      "source": [
        "# input and output have same shape/dimension-\n",
        "\n",
        "# Initialize a residual block-\n",
        "resblock = ResidualBlock(input_channels = 3, num_channels = 3)"
      ],
      "execution_count": 12,
      "outputs": []
    },
    {
      "cell_type": "code",
      "metadata": {
        "id": "eUr_Ecb-vVjX"
      },
      "source": [
        "resblock.initialize_weights()"
      ],
      "execution_count": null,
      "outputs": []
    },
    {
      "cell_type": "code",
      "metadata": {
        "id": "iXGmVsZ-vpbm"
      },
      "source": [
        ""
      ],
      "execution_count": null,
      "outputs": []
    },
    {
      "cell_type": "code",
      "metadata": {
        "colab": {
          "base_uri": "https://localhost:8080/"
        },
        "id": "vG5tQL51rHPl",
        "outputId": "699745bd-9d50-4fdf-bb68-8eca2c7eb418"
      },
      "source": [
        "# create a random data-\n",
        "X = torch.rand(4, 3, 6, 6)\n",
        "X.shape"
      ],
      "execution_count": null,
      "outputs": [
        {
          "output_type": "execute_result",
          "data": {
            "text/plain": [
              "torch.Size([4, 3, 6, 6])"
            ]
          },
          "metadata": {
            "tags": []
          },
          "execution_count": 15
        }
      ]
    },
    {
      "cell_type": "code",
      "metadata": {
        "colab": {
          "base_uri": "https://localhost:8080/"
        },
        "id": "GsVN1y9brMHW",
        "outputId": "137f16b7-a80f-400a-f87f-9e5e2f8471c4"
      },
      "source": [
        "Y = resblock(X)\n",
        "Y.shape"
      ],
      "execution_count": null,
      "outputs": [
        {
          "output_type": "execute_result",
          "data": {
            "text/plain": [
              "torch.Size([4, 3, 6, 6])"
            ]
          },
          "metadata": {
            "tags": []
          },
          "execution_count": 16
        }
      ]
    },
    {
      "cell_type": "code",
      "metadata": {
        "colab": {
          "base_uri": "https://localhost:8080/"
        },
        "id": "wHph9q7HrO9Q",
        "outputId": "d5500d21-711d-48f2-9758-8ff67d195ae9"
      },
      "source": [
        "# Compute output volumes for the conv layers-\n",
        "resblock.shape_computation(X)"
      ],
      "execution_count": null,
      "outputs": [
        {
          "output_type": "stream",
          "text": [
            "self.conv1(X).shape: torch.Size([4, 3, 6, 6])\n",
            "self.conv2(X).shape: torch.Size([4, 3, 6, 6])\n"
          ],
          "name": "stdout"
        }
      ]
    },
    {
      "cell_type": "code",
      "metadata": {
        "id": "-wntbdukrRiA"
      },
      "source": [
        ""
      ],
      "execution_count": null,
      "outputs": []
    },
    {
      "cell_type": "code",
      "metadata": {
        "colab": {
          "base_uri": "https://localhost:8080/"
        },
        "id": "e7mas0WTrbJE",
        "outputId": "2418b190-d1c4-44d8-f8a1-a4bf09941691"
      },
      "source": [
        "images.shape"
      ],
      "execution_count": null,
      "outputs": [
        {
          "output_type": "execute_result",
          "data": {
            "text/plain": [
              "torch.Size([32, 3, 32, 32])"
            ]
          },
          "metadata": {
            "tags": []
          },
          "execution_count": 18
        }
      ]
    },
    {
      "cell_type": "code",
      "metadata": {
        "colab": {
          "base_uri": "https://localhost:8080/"
        },
        "id": "zVGlkrsZrmNE",
        "outputId": "1b4fc2e2-12ac-4526-8995-94f9b6da0212"
      },
      "source": [
        "resblock(images).shape"
      ],
      "execution_count": null,
      "outputs": [
        {
          "output_type": "execute_result",
          "data": {
            "text/plain": [
              "torch.Size([32, 3, 32, 32])"
            ]
          },
          "metadata": {
            "tags": []
          },
          "execution_count": 26
        }
      ]
    },
    {
      "cell_type": "code",
      "metadata": {
        "colab": {
          "base_uri": "https://localhost:8080/"
        },
        "id": "xIIh75F32mYo",
        "outputId": "282084c2-2c23-48a6-e4a3-a9ebf87ac7ce"
      },
      "source": [
        "resblock.shape_computation(images)"
      ],
      "execution_count": null,
      "outputs": [
        {
          "output_type": "stream",
          "text": [
            "self.conv1(X).shape: torch.Size([32, 3, 32, 32])\n",
            "self.conv2(X).shape: torch.Size([32, 3, 32, 32])\n"
          ],
          "name": "stdout"
        }
      ]
    },
    {
      "cell_type": "code",
      "metadata": {
        "id": "XdufTjVK2oav"
      },
      "source": [
        ""
      ],
      "execution_count": null,
      "outputs": []
    },
    {
      "cell_type": "code",
      "metadata": {
        "id": "D1kWrzpCr-T6"
      },
      "source": [
        "# Halve the output height and width while increasing the number of output channels/filters-\n",
        "resblock_1x1 = ResidualBlock(input_channels = 3, num_channels = 6,\n",
        "                    use_1x1_conv = True, strides = 2)"
      ],
      "execution_count": 13,
      "outputs": []
    },
    {
      "cell_type": "code",
      "metadata": {
        "colab": {
          "base_uri": "https://localhost:8080/"
        },
        "id": "UuAtezzpsHNu",
        "outputId": "b4d0dbb3-efa9-4955-f44a-7ef7e73ed037"
      },
      "source": [
        "resblock_1x1(images).shape"
      ],
      "execution_count": null,
      "outputs": [
        {
          "output_type": "execute_result",
          "data": {
            "text/plain": [
              "torch.Size([32, 6, 16, 16])"
            ]
          },
          "metadata": {
            "tags": []
          },
          "execution_count": 29
        }
      ]
    },
    {
      "cell_type": "code",
      "metadata": {
        "id": "y079i5WysRB6",
        "colab": {
          "base_uri": "https://localhost:8080/"
        },
        "outputId": "6463105d-7b57-4189-b7b0-37560e469f47"
      },
      "source": [
        "resblock_1x1.shape_computation(images)"
      ],
      "execution_count": null,
      "outputs": [
        {
          "output_type": "stream",
          "text": [
            "self.conv1(X).shape: torch.Size([32, 6, 16, 16])\n",
            "self.conv2(X).shape: torch.Size([32, 6, 16, 16])\n",
            "self.conv3(X).shape: torch.Size([32, 6, 16, 16])\n"
          ],
          "name": "stdout"
        }
      ]
    },
    {
      "cell_type": "code",
      "metadata": {
        "id": "ujqfPZY44nPi"
      },
      "source": [
        ""
      ],
      "execution_count": null,
      "outputs": []
    },
    {
      "cell_type": "code",
      "metadata": {
        "id": "M-U42ZV4scGl"
      },
      "source": [
        ""
      ],
      "execution_count": null,
      "outputs": []
    },
    {
      "cell_type": "code",
      "metadata": {
        "id": "LWyCzhgvscWf"
      },
      "source": [
        "'''\n",
        "b1 = nn.Sequential(\n",
        "    nn.Conv2d(in_channels = 3, out_channels = 64, kernel_size = 7, stride = 2, padding = 3),\n",
        "    nn.BatchNorm2d(num_features = 64),\n",
        "    nn.ReLU(),\n",
        "    nn.MaxPool2d(kernel_size = 3, stride = 2, padding = 1))\n",
        "'''"
      ],
      "execution_count": null,
      "outputs": []
    },
    {
      "cell_type": "code",
      "metadata": {
        "id": "XdSHXjfyV__v"
      },
      "source": [
        "b1 = nn.Sequential(\n",
        "    nn.Conv2d(in_channels = 3, out_channels = 64, kernel_size = 3, stride = 1, padding = 1),\n",
        "    nn.BatchNorm2d(num_features = 64),\n",
        "    nn.ReLU(),\n",
        "    # nn.MaxPool2d(kernel_size = 2, stride = 2, padding = 1))\n",
        "    nn.MaxPool2d(kernel_size = 2, stride = 2, padding = 0))"
      ],
      "execution_count": 14,
      "outputs": []
    },
    {
      "cell_type": "code",
      "metadata": {
        "colab": {
          "base_uri": "https://localhost:8080/"
        },
        "id": "fgZKlKf4sf33",
        "outputId": "0c492079-a838-420d-cbdb-7a8c69e035cd"
      },
      "source": [
        "b1"
      ],
      "execution_count": 15,
      "outputs": [
        {
          "output_type": "execute_result",
          "data": {
            "text/plain": [
              "Sequential(\n",
              "  (0): Conv2d(3, 64, kernel_size=(3, 3), stride=(1, 1), padding=(1, 1))\n",
              "  (1): BatchNorm2d(64, eps=1e-05, momentum=0.1, affine=True, track_running_stats=True)\n",
              "  (2): ReLU()\n",
              "  (3): MaxPool2d(kernel_size=2, stride=2, padding=0, dilation=1, ceil_mode=False)\n",
              ")"
            ]
          },
          "metadata": {
            "tags": []
          },
          "execution_count": 15
        }
      ]
    },
    {
      "cell_type": "code",
      "metadata": {
        "id": "ne81c0mosgjW"
      },
      "source": [
        ""
      ],
      "execution_count": null,
      "outputs": []
    },
    {
      "cell_type": "code",
      "metadata": {
        "id": "P5v1jkrMqSFG",
        "colab": {
          "base_uri": "https://localhost:8080/"
        },
        "outputId": "fc55be74-4020-49f4-c54c-f61c2187726d"
      },
      "source": [
        "b1(images).shape"
      ],
      "execution_count": 16,
      "outputs": [
        {
          "output_type": "execute_result",
          "data": {
            "text/plain": [
              "torch.Size([128, 64, 16, 16])"
            ]
          },
          "metadata": {
            "tags": []
          },
          "execution_count": 16
        }
      ]
    },
    {
      "cell_type": "code",
      "metadata": {
        "id": "hcUkAC-M30vb"
      },
      "source": [
        ""
      ],
      "execution_count": null,
      "outputs": []
    },
    {
      "cell_type": "code",
      "metadata": {
        "id": "QvkP3J5Y3yzB"
      },
      "source": [
        ""
      ],
      "execution_count": null,
      "outputs": []
    },
    {
      "cell_type": "code",
      "metadata": {
        "id": "z4kSv3pP43lV"
      },
      "source": [
        "def resnet_block(input_channels, num_channels, num_residuals, first_block=False):\n",
        "    blk = []\n",
        "    for i in range(num_residuals):\n",
        "        if i == 0 and not first_block:\n",
        "            blk.append(ResidualBlock(input_channels, num_channels, use_1x1_conv = True, strides = 2))\n",
        "        else:\n",
        "            blk.append(ResidualBlock(num_channels, num_channels))\n",
        "    return blk\n"
      ],
      "execution_count": 17,
      "outputs": []
    },
    {
      "cell_type": "code",
      "metadata": {
        "id": "e91ahzCb49KR"
      },
      "source": [
        "b2 = nn.Sequential(*resnet_block(input_channels = 64, num_channels = 64, num_residuals = 2, first_block=True))\n",
        "b3 = nn.Sequential(*resnet_block(input_channels = 64, num_channels = 128, num_residuals = 2))\n",
        "b4 = nn.Sequential(*resnet_block(input_channels = 128, num_channels = 256, num_residuals = 2))\n",
        "b5 = nn.Sequential(*resnet_block(input_channels = 256, num_channels = 512, num_residuals = 2))"
      ],
      "execution_count": 18,
      "outputs": []
    },
    {
      "cell_type": "code",
      "metadata": {
        "id": "wuKGdDUV5jN-"
      },
      "source": [
        "# Initialize ResNet-18 model-\n",
        "model = nn.Sequential(\n",
        "    b1, b2, b3, b4, b5,\n",
        "    nn.AdaptiveAvgPool2d((1,1)),\n",
        "    nn.Flatten(),\n",
        "    nn.Linear(in_features = 512, out_features = 10))"
      ],
      "execution_count": 19,
      "outputs": []
    },
    {
      "cell_type": "code",
      "metadata": {
        "id": "uWSiHfGx571J",
        "colab": {
          "base_uri": "https://localhost:8080/"
        },
        "outputId": "b3c13eb7-0148-4cd4-bd58-c819e7cb3608"
      },
      "source": [
        "# Place model on GPU (if available)-\n",
        "model.to(device)"
      ],
      "execution_count": 20,
      "outputs": [
        {
          "output_type": "execute_result",
          "data": {
            "text/plain": [
              "Sequential(\n",
              "  (0): Sequential(\n",
              "    (0): Conv2d(3, 64, kernel_size=(3, 3), stride=(1, 1), padding=(1, 1))\n",
              "    (1): BatchNorm2d(64, eps=1e-05, momentum=0.1, affine=True, track_running_stats=True)\n",
              "    (2): ReLU()\n",
              "    (3): MaxPool2d(kernel_size=2, stride=2, padding=0, dilation=1, ceil_mode=False)\n",
              "  )\n",
              "  (1): Sequential(\n",
              "    (0): ResidualBlock(\n",
              "      (conv1): Conv2d(64, 64, kernel_size=(3, 3), stride=(1, 1), padding=(1, 1), bias=False)\n",
              "      (conv2): Conv2d(64, 64, kernel_size=(3, 3), stride=(1, 1), padding=(1, 1), bias=False)\n",
              "      (bn1): BatchNorm2d(64, eps=1e-05, momentum=0.1, affine=True, track_running_stats=True)\n",
              "      (bn2): BatchNorm2d(64, eps=1e-05, momentum=0.1, affine=True, track_running_stats=True)\n",
              "      (relu): ReLU(inplace=True)\n",
              "    )\n",
              "    (1): ResidualBlock(\n",
              "      (conv1): Conv2d(64, 64, kernel_size=(3, 3), stride=(1, 1), padding=(1, 1), bias=False)\n",
              "      (conv2): Conv2d(64, 64, kernel_size=(3, 3), stride=(1, 1), padding=(1, 1), bias=False)\n",
              "      (bn1): BatchNorm2d(64, eps=1e-05, momentum=0.1, affine=True, track_running_stats=True)\n",
              "      (bn2): BatchNorm2d(64, eps=1e-05, momentum=0.1, affine=True, track_running_stats=True)\n",
              "      (relu): ReLU(inplace=True)\n",
              "    )\n",
              "  )\n",
              "  (2): Sequential(\n",
              "    (0): ResidualBlock(\n",
              "      (conv1): Conv2d(64, 128, kernel_size=(3, 3), stride=(2, 2), padding=(1, 1), bias=False)\n",
              "      (conv2): Conv2d(128, 128, kernel_size=(3, 3), stride=(1, 1), padding=(1, 1), bias=False)\n",
              "      (conv3): Conv2d(64, 128, kernel_size=(1, 1), stride=(2, 2))\n",
              "      (bn1): BatchNorm2d(128, eps=1e-05, momentum=0.1, affine=True, track_running_stats=True)\n",
              "      (bn2): BatchNorm2d(128, eps=1e-05, momentum=0.1, affine=True, track_running_stats=True)\n",
              "      (relu): ReLU(inplace=True)\n",
              "    )\n",
              "    (1): ResidualBlock(\n",
              "      (conv1): Conv2d(128, 128, kernel_size=(3, 3), stride=(1, 1), padding=(1, 1), bias=False)\n",
              "      (conv2): Conv2d(128, 128, kernel_size=(3, 3), stride=(1, 1), padding=(1, 1), bias=False)\n",
              "      (bn1): BatchNorm2d(128, eps=1e-05, momentum=0.1, affine=True, track_running_stats=True)\n",
              "      (bn2): BatchNorm2d(128, eps=1e-05, momentum=0.1, affine=True, track_running_stats=True)\n",
              "      (relu): ReLU(inplace=True)\n",
              "    )\n",
              "  )\n",
              "  (3): Sequential(\n",
              "    (0): ResidualBlock(\n",
              "      (conv1): Conv2d(128, 256, kernel_size=(3, 3), stride=(2, 2), padding=(1, 1), bias=False)\n",
              "      (conv2): Conv2d(256, 256, kernel_size=(3, 3), stride=(1, 1), padding=(1, 1), bias=False)\n",
              "      (conv3): Conv2d(128, 256, kernel_size=(1, 1), stride=(2, 2))\n",
              "      (bn1): BatchNorm2d(256, eps=1e-05, momentum=0.1, affine=True, track_running_stats=True)\n",
              "      (bn2): BatchNorm2d(256, eps=1e-05, momentum=0.1, affine=True, track_running_stats=True)\n",
              "      (relu): ReLU(inplace=True)\n",
              "    )\n",
              "    (1): ResidualBlock(\n",
              "      (conv1): Conv2d(256, 256, kernel_size=(3, 3), stride=(1, 1), padding=(1, 1), bias=False)\n",
              "      (conv2): Conv2d(256, 256, kernel_size=(3, 3), stride=(1, 1), padding=(1, 1), bias=False)\n",
              "      (bn1): BatchNorm2d(256, eps=1e-05, momentum=0.1, affine=True, track_running_stats=True)\n",
              "      (bn2): BatchNorm2d(256, eps=1e-05, momentum=0.1, affine=True, track_running_stats=True)\n",
              "      (relu): ReLU(inplace=True)\n",
              "    )\n",
              "  )\n",
              "  (4): Sequential(\n",
              "    (0): ResidualBlock(\n",
              "      (conv1): Conv2d(256, 512, kernel_size=(3, 3), stride=(2, 2), padding=(1, 1), bias=False)\n",
              "      (conv2): Conv2d(512, 512, kernel_size=(3, 3), stride=(1, 1), padding=(1, 1), bias=False)\n",
              "      (conv3): Conv2d(256, 512, kernel_size=(1, 1), stride=(2, 2))\n",
              "      (bn1): BatchNorm2d(512, eps=1e-05, momentum=0.1, affine=True, track_running_stats=True)\n",
              "      (bn2): BatchNorm2d(512, eps=1e-05, momentum=0.1, affine=True, track_running_stats=True)\n",
              "      (relu): ReLU(inplace=True)\n",
              "    )\n",
              "    (1): ResidualBlock(\n",
              "      (conv1): Conv2d(512, 512, kernel_size=(3, 3), stride=(1, 1), padding=(1, 1), bias=False)\n",
              "      (conv2): Conv2d(512, 512, kernel_size=(3, 3), stride=(1, 1), padding=(1, 1), bias=False)\n",
              "      (bn1): BatchNorm2d(512, eps=1e-05, momentum=0.1, affine=True, track_running_stats=True)\n",
              "      (bn2): BatchNorm2d(512, eps=1e-05, momentum=0.1, affine=True, track_running_stats=True)\n",
              "      (relu): ReLU(inplace=True)\n",
              "    )\n",
              "  )\n",
              "  (5): AdaptiveAvgPool2d(output_size=(1, 1))\n",
              "  (6): Flatten(start_dim=1, end_dim=-1)\n",
              "  (7): Linear(in_features=512, out_features=10, bias=True)\n",
              ")"
            ]
          },
          "metadata": {
            "tags": []
          },
          "execution_count": 20
        }
      ]
    },
    {
      "cell_type": "code",
      "metadata": {
        "id": "bqA2Cqb1iod5"
      },
      "source": [
        ""
      ],
      "execution_count": null,
      "outputs": []
    },
    {
      "cell_type": "code",
      "metadata": {
        "id": "dAw820ZEiopu"
      },
      "source": [
        "# Save random initial weights-\n",
        "torch.save(model.state_dict(), '/content/ResNet-22_kaiming_normal_random_weights.pth')"
      ],
      "execution_count": 21,
      "outputs": []
    },
    {
      "cell_type": "code",
      "metadata": {
        "id": "yKBXLFwTi2x7"
      },
      "source": [
        ""
      ],
      "execution_count": null,
      "outputs": []
    },
    {
      "cell_type": "code",
      "metadata": {
        "id": "zRokY0Jb9GY7"
      },
      "source": [
        ""
      ],
      "execution_count": null,
      "outputs": []
    },
    {
      "cell_type": "code",
      "metadata": {
        "colab": {
          "base_uri": "https://localhost:8080/"
        },
        "id": "ZNpOpZpU7u5E",
        "outputId": "c9de80c7-5bcb-46dd-f334-cd117b20b346"
      },
      "source": [
        "images.shape"
      ],
      "execution_count": 22,
      "outputs": [
        {
          "output_type": "execute_result",
          "data": {
            "text/plain": [
              "torch.Size([128, 3, 32, 32])"
            ]
          },
          "metadata": {
            "tags": []
          },
          "execution_count": 22
        }
      ]
    },
    {
      "cell_type": "code",
      "metadata": {
        "id": "_s4ve35w7v4o",
        "colab": {
          "base_uri": "https://localhost:8080/"
        },
        "outputId": "ee02a2db-91c1-432f-93ca-282188b80072"
      },
      "source": [
        "# Sanity check- make predictions using the define model-\n",
        "model(images.to(device)).shape  # don't forget to place images to GPU device"
      ],
      "execution_count": 23,
      "outputs": [
        {
          "output_type": "execute_result",
          "data": {
            "text/plain": [
              "torch.Size([128, 10])"
            ]
          },
          "metadata": {
            "tags": []
          },
          "execution_count": 23
        }
      ]
    },
    {
      "cell_type": "code",
      "metadata": {
        "id": "AorzteA37xen"
      },
      "source": [
        ""
      ],
      "execution_count": null,
      "outputs": []
    },
    {
      "cell_type": "code",
      "metadata": {
        "colab": {
          "base_uri": "https://localhost:8080/"
        },
        "id": "1MAEhCMg6Jgf",
        "outputId": "c5c24280-a3af-4a28-907d-5fb6906c4431"
      },
      "source": [
        "# Count number of layer-wise parameters and total parameters-\n",
        "tot_params = 0\n",
        "for param in model.parameters():\n",
        "    print(f\"layer.shape = {param.shape} has {param.nelement()} parameters\")\n",
        "    tot_params += param.nelement()"
      ],
      "execution_count": 24,
      "outputs": [
        {
          "output_type": "stream",
          "text": [
            "layer.shape = torch.Size([64, 3, 3, 3]) has 1728 parameters\n",
            "layer.shape = torch.Size([64]) has 64 parameters\n",
            "layer.shape = torch.Size([64]) has 64 parameters\n",
            "layer.shape = torch.Size([64]) has 64 parameters\n",
            "layer.shape = torch.Size([64, 64, 3, 3]) has 36864 parameters\n",
            "layer.shape = torch.Size([64, 64, 3, 3]) has 36864 parameters\n",
            "layer.shape = torch.Size([64]) has 64 parameters\n",
            "layer.shape = torch.Size([64]) has 64 parameters\n",
            "layer.shape = torch.Size([64]) has 64 parameters\n",
            "layer.shape = torch.Size([64]) has 64 parameters\n",
            "layer.shape = torch.Size([64, 64, 3, 3]) has 36864 parameters\n",
            "layer.shape = torch.Size([64, 64, 3, 3]) has 36864 parameters\n",
            "layer.shape = torch.Size([64]) has 64 parameters\n",
            "layer.shape = torch.Size([64]) has 64 parameters\n",
            "layer.shape = torch.Size([64]) has 64 parameters\n",
            "layer.shape = torch.Size([64]) has 64 parameters\n",
            "layer.shape = torch.Size([128, 64, 3, 3]) has 73728 parameters\n",
            "layer.shape = torch.Size([128, 128, 3, 3]) has 147456 parameters\n",
            "layer.shape = torch.Size([128, 64, 1, 1]) has 8192 parameters\n",
            "layer.shape = torch.Size([128]) has 128 parameters\n",
            "layer.shape = torch.Size([128]) has 128 parameters\n",
            "layer.shape = torch.Size([128]) has 128 parameters\n",
            "layer.shape = torch.Size([128]) has 128 parameters\n",
            "layer.shape = torch.Size([128]) has 128 parameters\n",
            "layer.shape = torch.Size([128, 128, 3, 3]) has 147456 parameters\n",
            "layer.shape = torch.Size([128, 128, 3, 3]) has 147456 parameters\n",
            "layer.shape = torch.Size([128]) has 128 parameters\n",
            "layer.shape = torch.Size([128]) has 128 parameters\n",
            "layer.shape = torch.Size([128]) has 128 parameters\n",
            "layer.shape = torch.Size([128]) has 128 parameters\n",
            "layer.shape = torch.Size([256, 128, 3, 3]) has 294912 parameters\n",
            "layer.shape = torch.Size([256, 256, 3, 3]) has 589824 parameters\n",
            "layer.shape = torch.Size([256, 128, 1, 1]) has 32768 parameters\n",
            "layer.shape = torch.Size([256]) has 256 parameters\n",
            "layer.shape = torch.Size([256]) has 256 parameters\n",
            "layer.shape = torch.Size([256]) has 256 parameters\n",
            "layer.shape = torch.Size([256]) has 256 parameters\n",
            "layer.shape = torch.Size([256]) has 256 parameters\n",
            "layer.shape = torch.Size([256, 256, 3, 3]) has 589824 parameters\n",
            "layer.shape = torch.Size([256, 256, 3, 3]) has 589824 parameters\n",
            "layer.shape = torch.Size([256]) has 256 parameters\n",
            "layer.shape = torch.Size([256]) has 256 parameters\n",
            "layer.shape = torch.Size([256]) has 256 parameters\n",
            "layer.shape = torch.Size([256]) has 256 parameters\n",
            "layer.shape = torch.Size([512, 256, 3, 3]) has 1179648 parameters\n",
            "layer.shape = torch.Size([512, 512, 3, 3]) has 2359296 parameters\n",
            "layer.shape = torch.Size([512, 256, 1, 1]) has 131072 parameters\n",
            "layer.shape = torch.Size([512]) has 512 parameters\n",
            "layer.shape = torch.Size([512]) has 512 parameters\n",
            "layer.shape = torch.Size([512]) has 512 parameters\n",
            "layer.shape = torch.Size([512]) has 512 parameters\n",
            "layer.shape = torch.Size([512]) has 512 parameters\n",
            "layer.shape = torch.Size([512, 512, 3, 3]) has 2359296 parameters\n",
            "layer.shape = torch.Size([512, 512, 3, 3]) has 2359296 parameters\n",
            "layer.shape = torch.Size([512]) has 512 parameters\n",
            "layer.shape = torch.Size([512]) has 512 parameters\n",
            "layer.shape = torch.Size([512]) has 512 parameters\n",
            "layer.shape = torch.Size([512]) has 512 parameters\n",
            "layer.shape = torch.Size([10, 512]) has 5120 parameters\n",
            "layer.shape = torch.Size([10]) has 10 parameters\n"
          ],
          "name": "stdout"
        }
      ]
    },
    {
      "cell_type": "code",
      "metadata": {
        "colab": {
          "base_uri": "https://localhost:8080/"
        },
        "id": "OZhKgAmv6Lek",
        "outputId": "92e78c7f-0e00-4aff-d209-d956211ec0c3"
      },
      "source": [
        "print(f\"Total number of parameters in ResNet-18 = {tot_params}\")"
      ],
      "execution_count": 25,
      "outputs": [
        {
          "output_type": "stream",
          "text": [
            "Total number of parameters in ResNet-18 = 11173130\n"
          ],
          "name": "stdout"
        }
      ]
    },
    {
      "cell_type": "code",
      "metadata": {
        "id": "sr3wc1tE6h-9"
      },
      "source": [
        ""
      ],
      "execution_count": null,
      "outputs": []
    },
    {
      "cell_type": "code",
      "metadata": {
        "colab": {
          "base_uri": "https://localhost:8080/"
        },
        "id": "Kfj0fW7d6ZTu",
        "outputId": "c7bda07f-2913-4c29-8f95-c6018528e24c"
      },
      "source": [
        "# Print layer names-\n",
        "for layer in model.state_dict().keys():\n",
        "    print(f\"{layer} has dimension = {model.state_dict()[layer].shape}\")"
      ],
      "execution_count": 26,
      "outputs": [
        {
          "output_type": "stream",
          "text": [
            "0.0.weight has dimension = torch.Size([64, 3, 3, 3])\n",
            "0.0.bias has dimension = torch.Size([64])\n",
            "0.1.weight has dimension = torch.Size([64])\n",
            "0.1.bias has dimension = torch.Size([64])\n",
            "0.1.running_mean has dimension = torch.Size([64])\n",
            "0.1.running_var has dimension = torch.Size([64])\n",
            "0.1.num_batches_tracked has dimension = torch.Size([])\n",
            "1.0.conv1.weight has dimension = torch.Size([64, 64, 3, 3])\n",
            "1.0.conv2.weight has dimension = torch.Size([64, 64, 3, 3])\n",
            "1.0.bn1.weight has dimension = torch.Size([64])\n",
            "1.0.bn1.bias has dimension = torch.Size([64])\n",
            "1.0.bn1.running_mean has dimension = torch.Size([64])\n",
            "1.0.bn1.running_var has dimension = torch.Size([64])\n",
            "1.0.bn1.num_batches_tracked has dimension = torch.Size([])\n",
            "1.0.bn2.weight has dimension = torch.Size([64])\n",
            "1.0.bn2.bias has dimension = torch.Size([64])\n",
            "1.0.bn2.running_mean has dimension = torch.Size([64])\n",
            "1.0.bn2.running_var has dimension = torch.Size([64])\n",
            "1.0.bn2.num_batches_tracked has dimension = torch.Size([])\n",
            "1.1.conv1.weight has dimension = torch.Size([64, 64, 3, 3])\n",
            "1.1.conv2.weight has dimension = torch.Size([64, 64, 3, 3])\n",
            "1.1.bn1.weight has dimension = torch.Size([64])\n",
            "1.1.bn1.bias has dimension = torch.Size([64])\n",
            "1.1.bn1.running_mean has dimension = torch.Size([64])\n",
            "1.1.bn1.running_var has dimension = torch.Size([64])\n",
            "1.1.bn1.num_batches_tracked has dimension = torch.Size([])\n",
            "1.1.bn2.weight has dimension = torch.Size([64])\n",
            "1.1.bn2.bias has dimension = torch.Size([64])\n",
            "1.1.bn2.running_mean has dimension = torch.Size([64])\n",
            "1.1.bn2.running_var has dimension = torch.Size([64])\n",
            "1.1.bn2.num_batches_tracked has dimension = torch.Size([])\n",
            "2.0.conv1.weight has dimension = torch.Size([128, 64, 3, 3])\n",
            "2.0.conv2.weight has dimension = torch.Size([128, 128, 3, 3])\n",
            "2.0.conv3.weight has dimension = torch.Size([128, 64, 1, 1])\n",
            "2.0.conv3.bias has dimension = torch.Size([128])\n",
            "2.0.bn1.weight has dimension = torch.Size([128])\n",
            "2.0.bn1.bias has dimension = torch.Size([128])\n",
            "2.0.bn1.running_mean has dimension = torch.Size([128])\n",
            "2.0.bn1.running_var has dimension = torch.Size([128])\n",
            "2.0.bn1.num_batches_tracked has dimension = torch.Size([])\n",
            "2.0.bn2.weight has dimension = torch.Size([128])\n",
            "2.0.bn2.bias has dimension = torch.Size([128])\n",
            "2.0.bn2.running_mean has dimension = torch.Size([128])\n",
            "2.0.bn2.running_var has dimension = torch.Size([128])\n",
            "2.0.bn2.num_batches_tracked has dimension = torch.Size([])\n",
            "2.1.conv1.weight has dimension = torch.Size([128, 128, 3, 3])\n",
            "2.1.conv2.weight has dimension = torch.Size([128, 128, 3, 3])\n",
            "2.1.bn1.weight has dimension = torch.Size([128])\n",
            "2.1.bn1.bias has dimension = torch.Size([128])\n",
            "2.1.bn1.running_mean has dimension = torch.Size([128])\n",
            "2.1.bn1.running_var has dimension = torch.Size([128])\n",
            "2.1.bn1.num_batches_tracked has dimension = torch.Size([])\n",
            "2.1.bn2.weight has dimension = torch.Size([128])\n",
            "2.1.bn2.bias has dimension = torch.Size([128])\n",
            "2.1.bn2.running_mean has dimension = torch.Size([128])\n",
            "2.1.bn2.running_var has dimension = torch.Size([128])\n",
            "2.1.bn2.num_batches_tracked has dimension = torch.Size([])\n",
            "3.0.conv1.weight has dimension = torch.Size([256, 128, 3, 3])\n",
            "3.0.conv2.weight has dimension = torch.Size([256, 256, 3, 3])\n",
            "3.0.conv3.weight has dimension = torch.Size([256, 128, 1, 1])\n",
            "3.0.conv3.bias has dimension = torch.Size([256])\n",
            "3.0.bn1.weight has dimension = torch.Size([256])\n",
            "3.0.bn1.bias has dimension = torch.Size([256])\n",
            "3.0.bn1.running_mean has dimension = torch.Size([256])\n",
            "3.0.bn1.running_var has dimension = torch.Size([256])\n",
            "3.0.bn1.num_batches_tracked has dimension = torch.Size([])\n",
            "3.0.bn2.weight has dimension = torch.Size([256])\n",
            "3.0.bn2.bias has dimension = torch.Size([256])\n",
            "3.0.bn2.running_mean has dimension = torch.Size([256])\n",
            "3.0.bn2.running_var has dimension = torch.Size([256])\n",
            "3.0.bn2.num_batches_tracked has dimension = torch.Size([])\n",
            "3.1.conv1.weight has dimension = torch.Size([256, 256, 3, 3])\n",
            "3.1.conv2.weight has dimension = torch.Size([256, 256, 3, 3])\n",
            "3.1.bn1.weight has dimension = torch.Size([256])\n",
            "3.1.bn1.bias has dimension = torch.Size([256])\n",
            "3.1.bn1.running_mean has dimension = torch.Size([256])\n",
            "3.1.bn1.running_var has dimension = torch.Size([256])\n",
            "3.1.bn1.num_batches_tracked has dimension = torch.Size([])\n",
            "3.1.bn2.weight has dimension = torch.Size([256])\n",
            "3.1.bn2.bias has dimension = torch.Size([256])\n",
            "3.1.bn2.running_mean has dimension = torch.Size([256])\n",
            "3.1.bn2.running_var has dimension = torch.Size([256])\n",
            "3.1.bn2.num_batches_tracked has dimension = torch.Size([])\n",
            "4.0.conv1.weight has dimension = torch.Size([512, 256, 3, 3])\n",
            "4.0.conv2.weight has dimension = torch.Size([512, 512, 3, 3])\n",
            "4.0.conv3.weight has dimension = torch.Size([512, 256, 1, 1])\n",
            "4.0.conv3.bias has dimension = torch.Size([512])\n",
            "4.0.bn1.weight has dimension = torch.Size([512])\n",
            "4.0.bn1.bias has dimension = torch.Size([512])\n",
            "4.0.bn1.running_mean has dimension = torch.Size([512])\n",
            "4.0.bn1.running_var has dimension = torch.Size([512])\n",
            "4.0.bn1.num_batches_tracked has dimension = torch.Size([])\n",
            "4.0.bn2.weight has dimension = torch.Size([512])\n",
            "4.0.bn2.bias has dimension = torch.Size([512])\n",
            "4.0.bn2.running_mean has dimension = torch.Size([512])\n",
            "4.0.bn2.running_var has dimension = torch.Size([512])\n",
            "4.0.bn2.num_batches_tracked has dimension = torch.Size([])\n",
            "4.1.conv1.weight has dimension = torch.Size([512, 512, 3, 3])\n",
            "4.1.conv2.weight has dimension = torch.Size([512, 512, 3, 3])\n",
            "4.1.bn1.weight has dimension = torch.Size([512])\n",
            "4.1.bn1.bias has dimension = torch.Size([512])\n",
            "4.1.bn1.running_mean has dimension = torch.Size([512])\n",
            "4.1.bn1.running_var has dimension = torch.Size([512])\n",
            "4.1.bn1.num_batches_tracked has dimension = torch.Size([])\n",
            "4.1.bn2.weight has dimension = torch.Size([512])\n",
            "4.1.bn2.bias has dimension = torch.Size([512])\n",
            "4.1.bn2.running_mean has dimension = torch.Size([512])\n",
            "4.1.bn2.running_var has dimension = torch.Size([512])\n",
            "4.1.bn2.num_batches_tracked has dimension = torch.Size([])\n",
            "7.weight has dimension = torch.Size([10, 512])\n",
            "7.bias has dimension = torch.Size([10])\n"
          ],
          "name": "stdout"
        }
      ]
    },
    {
      "cell_type": "code",
      "metadata": {
        "id": "I4a0dM1X6aIO"
      },
      "source": [
        ""
      ],
      "execution_count": null,
      "outputs": []
    },
    {
      "cell_type": "code",
      "metadata": {
        "colab": {
          "base_uri": "https://localhost:8080/"
        },
        "id": "FdSxeVmw61a2",
        "outputId": "34ceda0e-4f51-4d7d-af77-b993d038e789"
      },
      "source": [
        "X = images\n",
        "X.shape"
      ],
      "execution_count": null,
      "outputs": [
        {
          "output_type": "execute_result",
          "data": {
            "text/plain": [
              "torch.Size([32, 3, 32, 32])"
            ]
          },
          "metadata": {
            "tags": []
          },
          "execution_count": 32
        }
      ]
    },
    {
      "cell_type": "code",
      "metadata": {
        "id": "PoNDt1g1asSL"
      },
      "source": [
        "X.to(device) # place on device"
      ],
      "execution_count": null,
      "outputs": []
    },
    {
      "cell_type": "code",
      "metadata": {
        "id": "hibgJ3bK6t_x"
      },
      "source": [
        "'''\n",
        "Before training ResNet-18, let us observe how the input shape changes across\n",
        "different modules in ResNet.\n",
        "As in all the previous architectures, the resolution decreases while the number\n",
        "of channels increases up until the point where a global average pooling layer\n",
        "aggregates all features.\n",
        "'''\n",
        "for layer in model:\n",
        "    # X.to(device)\n",
        "    X = layer(X)\n",
        "    print(layer.__class__.__name__,'output shape:\\t', X.shape)"
      ],
      "execution_count": null,
      "outputs": []
    },
    {
      "cell_type": "code",
      "metadata": {
        "id": "JrfgxzRW63_n"
      },
      "source": [
        ""
      ],
      "execution_count": null,
      "outputs": []
    },
    {
      "cell_type": "code",
      "metadata": {
        "colab": {
          "base_uri": "https://localhost:8080/"
        },
        "id": "B9NmMAbq665P",
        "outputId": "97486ee1-af5c-48d0-9795-d46a593c76c3"
      },
      "source": [
        "model(images.to(device)).shape"
      ],
      "execution_count": 27,
      "outputs": [
        {
          "output_type": "execute_result",
          "data": {
            "text/plain": [
              "torch.Size([128, 10])"
            ]
          },
          "metadata": {
            "tags": []
          },
          "execution_count": 27
        }
      ]
    },
    {
      "cell_type": "code",
      "metadata": {
        "id": "aaAquRSp7QPo"
      },
      "source": [
        ""
      ],
      "execution_count": null,
      "outputs": []
    },
    {
      "cell_type": "code",
      "metadata": {
        "id": "2RJCSMIu7Qq3"
      },
      "source": [
        "# User input parameters for Early Stopping in manual implementation-\n",
        "minimum_delta = 0.001\n",
        "patience = 3"
      ],
      "execution_count": 28,
      "outputs": []
    },
    {
      "cell_type": "code",
      "metadata": {
        "id": "VV1n1FEy7RF2"
      },
      "source": [
        "# Initialize parameters for Early Stopping manual implementation-\n",
        "best_val_loss = 100\n",
        "loc_patience = 0"
      ],
      "execution_count": 29,
      "outputs": []
    },
    {
      "cell_type": "code",
      "metadata": {
        "id": "uDRViiLq9nil"
      },
      "source": [
        "# Define loss function and optimizer-\n",
        "loss = nn.CrossEntropyLoss()\n",
        "\n",
        "# optimizer = torch.optim.Adam(model.parameters(), lr = learning_rate)\n",
        "optimizer = torch.optim.SGD(model.parameters(), lr = 0.01, momentum = 0.9, weight_decay = 5e-4)"
      ],
      "execution_count": 30,
      "outputs": []
    },
    {
      "cell_type": "code",
      "metadata": {
        "id": "iQ_r9pC87Sqz"
      },
      "source": [
        "# Python3 lists to store model training metrics-\n",
        "training_acc = []\n",
        "validation_acc = []\n",
        "training_loss = []\n",
        "validation_loss = []"
      ],
      "execution_count": 31,
      "outputs": []
    },
    {
      "cell_type": "code",
      "metadata": {
        "colab": {
          "base_uri": "https://localhost:8080/"
        },
        "id": "KCpxY0aM7UZe",
        "outputId": "88ef0600-1b1e-461c-d74f-67de223aa7e5"
      },
      "source": [
        "for epoch in range(num_epochs):\n",
        "    running_loss = 0.0\n",
        "    running_corrects = 0.0\n",
        "    running_loss_val = 0.0\n",
        "    \n",
        "    if loc_patience >= patience:\n",
        "        print(\"\\n'EarlyStopping' called!\\n\")\n",
        "        break\n",
        "    \n",
        "    \n",
        "    for batch, (images, labels) in enumerate(train_loader):\n",
        "        # Attempt to push to GPU if available\n",
        "        images = images.to(device)\n",
        "        labels = labels.to(device)\n",
        "\n",
        "        model.train()\n",
        "\n",
        "        # Forward pass-\n",
        "        outputs = model(images)\n",
        "\n",
        "        # Compute loss-\n",
        "        J = loss(outputs, labels)\n",
        "\n",
        "        # Backward pass-\n",
        "        optimizer.zero_grad()   # empty accumulated gradients\n",
        "\n",
        "        J.backward()    # does backprop\n",
        "\n",
        "        # Updates parameters-\n",
        "        optimizer.step()\n",
        "        \n",
        "        # Compute model's performance statistics-\n",
        "        running_loss += J.item() * images.size(0)\n",
        "        _, predicted = torch.max(outputs, 1)\n",
        "        running_corrects += torch.sum(predicted == labels.data)\n",
        "\n",
        "        '''\n",
        "        # Print information every 100 steps-\n",
        "        if (batch + 1) % 100 == 0:\n",
        "            print(f\"epoch {epoch + 1}/{num_epochs}, step {batch + 1}/{num_training_steps}, loss = {J.item():.4f}\")\n",
        "        '''\n",
        "\n",
        "    epoch_loss = running_loss / len(train_dataset)\n",
        "    epoch_acc = running_corrects.double() / len(train_dataset)\n",
        "    # print(f\"\\nepoch: {epoch + 1} training loss = {epoch_loss:.4f}, training accuracy = {epoch_acc * 100:.2f}%\\n\")\n",
        "\n",
        "    total = 0\n",
        "    correct = 0\n",
        "    \n",
        "    with torch.no_grad():\n",
        "        for images, labels in test_loader:\n",
        "\n",
        "            # Place features (images) and targets (labels) to GPU-\n",
        "            images = images.to(device)\n",
        "            labels = labels.to(device)\n",
        "            # print(f\"images.shape = {images.shape}, labels.shape = {labels.shape}\")\n",
        "\n",
        "            # Set model to evaluation mode-\n",
        "            model.eval()\n",
        "    \n",
        "            # Make predictions using trained model-\n",
        "            outputs = model(images)\n",
        "            _, y_pred = torch.max(outputs, 1)\n",
        "\n",
        "            # Compute validation loss-\n",
        "            J_val = loss(outputs, labels)\n",
        "\n",
        "            running_loss_val += J_val.item() * labels.size(0)\n",
        "    \n",
        "            # Total number of labels-\n",
        "            total += labels.size(0)\n",
        "\n",
        "            # Total number of correct predictions-\n",
        "            correct += (y_pred == labels).sum()\n",
        "\n",
        "    epoch_val_loss = running_loss_val / len(test_dataset)\n",
        "    val_acc = 100 * (correct / total)\n",
        "    print(f\"\\nepoch: {epoch + 1} training loss = {epoch_loss:.4f}, training accuracy = {epoch_acc * 100:.2f}%, val_loss = {epoch_val_loss:.4f} & val_accuracy = {val_acc:.2f}%\\n\")\n",
        "\n",
        "    # Code for manual Early Stopping:\n",
        "    if np.abs(epoch_val_loss < best_val_loss) >= minimum_delta:\n",
        "        # update 'best_val_loss' variable to lowest loss encountered so far-\n",
        "        best_val_loss = epoch_val_loss\n",
        "        \n",
        "        # reset 'loc_patience' variable-\n",
        "        loc_patience = 0\n",
        "        \n",
        "    else:  # there is no improvement in monitored metric 'val_loss'\n",
        "        loc_patience += 1  # number of epochs without any improvement\n",
        "\n",
        "\n",
        "    training_acc.append(epoch_acc * 100)\n",
        "    validation_acc.append(val_acc)\n",
        "    training_loss.append(epoch_loss)\n",
        "    validation_loss.append(epoch_val_loss)"
      ],
      "execution_count": 32,
      "outputs": [
        {
          "output_type": "stream",
          "text": [
            "\n",
            "epoch: 1 training loss = 1.5997, training accuracy = 41.43%, val_loss = 1.3144 & val_accuracy = 52.43%\n",
            "\n",
            "\n",
            "epoch: 2 training loss = 1.2149, training accuracy = 55.87%, val_loss = 1.1369 & val_accuracy = 60.11%\n",
            "\n",
            "\n",
            "epoch: 3 training loss = 1.0356, training accuracy = 62.81%, val_loss = 0.9468 & val_accuracy = 66.59%\n",
            "\n",
            "\n",
            "epoch: 4 training loss = 0.9079, training accuracy = 67.42%, val_loss = 0.8505 & val_accuracy = 69.97%\n",
            "\n",
            "\n",
            "epoch: 5 training loss = 0.8111, training accuracy = 71.09%, val_loss = 0.7673 & val_accuracy = 73.50%\n",
            "\n",
            "\n",
            "epoch: 6 training loss = 0.7459, training accuracy = 73.83%, val_loss = 0.7104 & val_accuracy = 75.39%\n",
            "\n",
            "\n",
            "epoch: 7 training loss = 0.6778, training accuracy = 76.19%, val_loss = 0.7076 & val_accuracy = 75.36%\n",
            "\n",
            "\n",
            "epoch: 8 training loss = 0.6379, training accuracy = 77.70%, val_loss = 0.6804 & val_accuracy = 76.13%\n",
            "\n",
            "\n",
            "epoch: 9 training loss = 0.5968, training accuracy = 79.07%, val_loss = 0.6310 & val_accuracy = 78.29%\n",
            "\n",
            "\n",
            "epoch: 10 training loss = 0.5588, training accuracy = 80.49%, val_loss = 0.6535 & val_accuracy = 78.24%\n",
            "\n",
            "\n",
            "epoch: 11 training loss = 0.5337, training accuracy = 81.35%, val_loss = 0.6385 & val_accuracy = 78.56%\n",
            "\n",
            "\n",
            "epoch: 12 training loss = 0.5064, training accuracy = 82.24%, val_loss = 0.5310 & val_accuracy = 81.70%\n",
            "\n",
            "\n",
            "epoch: 13 training loss = 0.4745, training accuracy = 83.45%, val_loss = 0.5193 & val_accuracy = 82.64%\n",
            "\n",
            "\n",
            "epoch: 14 training loss = 0.4631, training accuracy = 83.78%, val_loss = 0.5589 & val_accuracy = 81.36%\n",
            "\n",
            "\n",
            "epoch: 15 training loss = 0.4412, training accuracy = 84.62%, val_loss = 0.5356 & val_accuracy = 81.82%\n",
            "\n",
            "\n",
            "epoch: 16 training loss = 0.4157, training accuracy = 85.56%, val_loss = 0.5523 & val_accuracy = 81.87%\n",
            "\n",
            "\n",
            "'EarlyStopping' called!\n",
            "\n"
          ],
          "name": "stdout"
        }
      ]
    },
    {
      "cell_type": "code",
      "metadata": {
        "id": "p8NasNEb7dAv"
      },
      "source": [
        ""
      ],
      "execution_count": null,
      "outputs": []
    },
    {
      "cell_type": "code",
      "metadata": {
        "colab": {
          "base_uri": "https://localhost:8080/"
        },
        "id": "HmxiGSdaeydX",
        "outputId": "244086bb-3c6c-47ee-a0cf-b74837856c56"
      },
      "source": [
        "print(f\"\\nResNet-22 CNN training on CIFAR-10 is complete\\n\")"
      ],
      "execution_count": 33,
      "outputs": [
        {
          "output_type": "stream",
          "text": [
            "\n",
            "ResNet-22 CNN training on CIFAR-10 is complete\n",
            "\n"
          ],
          "name": "stdout"
        }
      ]
    },
    {
      "cell_type": "code",
      "metadata": {
        "id": "S_OtCHkh7iGc"
      },
      "source": [
        ""
      ],
      "execution_count": null,
      "outputs": []
    },
    {
      "cell_type": "code",
      "metadata": {
        "id": "vGaQyp_y_ZOm"
      },
      "source": [
        "# Variables for computing model metrics-\n",
        "total = 0\n",
        "correct = 0"
      ],
      "execution_count": 34,
      "outputs": []
    },
    {
      "cell_type": "code",
      "metadata": {
        "colab": {
          "base_uri": "https://localhost:8080/"
        },
        "id": "oH3tFJAx_Zfn",
        "outputId": "bac0974b-1794-4429-99a5-e803dcf7d700"
      },
      "source": [
        "# Evaluate trained CNN model. We don't want these operations to be tracked in\n",
        "# the computational graph. Hence wrap these operations in-\n",
        "with torch.no_grad():\n",
        "    for images, labels in test_loader:\n",
        "\n",
        "        # Place features (images) and targets (labels) to GPU-\n",
        "        images = images.to(device)\n",
        "        labels = labels.to(device)\n",
        "        # print(f\"images.shape = {images.shape}, labels.shape = {labels.shape}\")\n",
        "\n",
        "        # Set model to evaluation mode-\n",
        "        model.eval()\n",
        "\n",
        "        # Make predictions using trained model-\n",
        "        outputs = model(images)\n",
        "        _, y_pred = torch.max(outputs, 1)\n",
        "    \n",
        "        # Total number of labels-\n",
        "        total += labels.size(0)\n",
        "\n",
        "        # Total number of correct predictions-\n",
        "        correct += (y_pred == labels).sum()\n",
        "\n",
        "    val_acc = 100 * (correct / total)\n",
        "    print(f\"ResNet-19 trained CNN's validation metrics on CIFAR-10 are:\")\n",
        "    print(f\"accuracy = {val_acc:.2f}%, # of correct labels = {correct} & total # of labels = {total}\")\n"
      ],
      "execution_count": 35,
      "outputs": [
        {
          "output_type": "stream",
          "text": [
            "ResNet-19 trained CNN's validation metrics on CIFAR-10 are:\n",
            "accuracy = 81.87%, # of correct labels = 8187 & total # of labels = 10000\n"
          ],
          "name": "stdout"
        }
      ]
    },
    {
      "cell_type": "code",
      "metadata": {
        "id": "EjdJ2u1-_bY7"
      },
      "source": [
        ""
      ],
      "execution_count": null,
      "outputs": []
    },
    {
      "cell_type": "code",
      "metadata": {
        "colab": {
          "base_uri": "https://localhost:8080/",
          "height": 504
        },
        "id": "-JdO8qEj_mGq",
        "outputId": "907e674a-ba4a-481d-d2e9-ce60b019c4ea"
      },
      "source": [
        "# Visualize training metrics-\n",
        "fig=plt.figure(figsize=(9, 7), dpi= 80, facecolor='w', edgecolor='k')\n",
        "\n",
        "plt.plot(np.asarray(training_acc), label = 'training accuracy')\n",
        "plt.plot(np.asarray(validation_acc), label = 'validation accuracy')\n",
        "\n",
        "plt.title(\"ResNet-22 (CIFAR-10) - Accuracy\")\n",
        "plt.xlabel(\"number of epochs\")\n",
        "plt.ylabel(\"accuracy (%)\")\n",
        "# plt.xlim((0, 20))\n",
        "plt.legend(loc = 'best')\n",
        "plt.show()\n"
      ],
      "execution_count": 38,
      "outputs": [
        {
          "output_type": "display_data",
          "data": {
            "image/png": "[encoded data removed]",
            "text/plain": [
              "<Figure size 720x560 with 1 Axes>"
            ]
          },
          "metadata": {
            "tags": []
          }
        }
      ]
    },
    {
      "cell_type": "code",
      "metadata": {
        "id": "90POx9Kc_p3g"
      },
      "source": [
        ""
      ],
      "execution_count": null,
      "outputs": []
    },
    {
      "cell_type": "code",
      "metadata": {
        "colab": {
          "base_uri": "https://localhost:8080/",
          "height": 504
        },
        "id": "Dg0oPaUy_rl4",
        "outputId": "37daa55a-6e3c-412b-e674-6849ff237706"
      },
      "source": [
        "fig=plt.figure(figsize=(9, 7), dpi= 80, facecolor='w', edgecolor='k')\n",
        "\n",
        "plt.plot(np.asarray(training_loss), label = 'training loss')\n",
        "plt.plot(np.asarray(validation_loss), label = 'validation loss')\n",
        "\n",
        "plt.title(\"ResNet-22 (CIFAR-10) - Loss\")\n",
        "plt.xlabel(\"number of epochs\")\n",
        "plt.ylabel(\"loss\")\n",
        "plt.legend(loc = 'best')\n",
        "plt.show()"
      ],
      "execution_count": 39,
      "outputs": [
        {
          "output_type": "display_data",
          "data": {
            "image/png": "[encoded data removed]",
            "text/plain": [
              "<Figure size 720x560 with 1 Axes>"
            ]
          },
          "metadata": {
            "tags": []
          }
        }
      ]
    },
    {
      "cell_type": "code",
      "metadata": {
        "id": "MyaHljFH_tuw"
      },
      "source": [
        ""
      ],
      "execution_count": null,
      "outputs": []
    },
    {
      "cell_type": "code",
      "metadata": {
        "id": "qVaZXghXfj4d"
      },
      "source": [
        ""
      ],
      "execution_count": null,
      "outputs": []
    },
    {
      "cell_type": "markdown",
      "metadata": {
        "id": "zoSllxcRfki6"
      },
      "source": [
        "**Save Trained model**"
      ]
    },
    {
      "cell_type": "code",
      "metadata": {
        "colab": {
          "base_uri": "https://localhost:8080/",
          "height": 36
        },
        "id": "o4yjPSl7fnbn",
        "outputId": "d2cd6664-4c62-4b17-e1e4-9114f8a3f02a"
      },
      "source": [
        "os.getcwd()"
      ],
      "execution_count": null,
      "outputs": [
        {
          "output_type": "execute_result",
          "data": {
            "application/vnd.google.colaboratory.intrinsic+json": {
              "type": "string"
            },
            "text/plain": [
              "'/content'"
            ]
          },
          "metadata": {
            "tags": []
          },
          "execution_count": 51
        }
      ]
    },
    {
      "cell_type": "code",
      "metadata": {
        "id": "3XzUhuWff2BB"
      },
      "source": [
        "# Save trained ResNet model to HDD for later use-\n",
        "torch.save(model.state_dict(), '/content/ResNet-22_kaiming_normal_trained.pth')"
      ],
      "execution_count": null,
      "outputs": []
    },
    {
      "cell_type": "code",
      "metadata": {
        "id": "9w6JuE2cgMET"
      },
      "source": [
        "# Save entire ResNet model to HDD for later use-\n",
        "torch.save(model.state_dict(), '/content/ResNet-22_trained_entire_model.pth')"
      ],
      "execution_count": null,
      "outputs": []
    },
    {
      "cell_type": "code",
      "metadata": {
        "id": "73UfNzfagQN_"
      },
      "source": [
        ""
      ],
      "execution_count": null,
      "outputs": []
    },
    {
      "cell_type": "code",
      "metadata": {
        "id": "IFZ3mzJ8gjRz"
      },
      "source": [
        ""
      ],
      "execution_count": null,
      "outputs": []
    },
    {
      "cell_type": "code",
      "metadata": {
        "id": "nEHuLpQggb7g"
      },
      "source": [
        "# Initialize ResNet-18 model for testing trained model-\n",
        "\n",
        "# Initialize ResNet-18 model for randomly initialized weights-\n",
        "model_random = nn.Sequential(\n",
        "    b1, b2, b3, b4, b5,\n",
        "    nn.AdaptiveAvgPool2d((1,1)),\n",
        "    nn.Flatten(),\n",
        "    nn.Linear(in_features = 512, out_features = 10))"
      ],
      "execution_count": null,
      "outputs": []
    },
    {
      "cell_type": "code",
      "metadata": {
        "colab": {
          "base_uri": "https://localhost:8080/"
        },
        "id": "IlKNUJsS5KCc",
        "outputId": "34e0896f-3730-4146-dcf6-ee3bf9324e8a"
      },
      "source": [
        "# Load random weights-\n",
        "model_random.load_state_dict(torch.load('/content/ResNet-22_kaiming_normal_random_weights.pth'))"
      ],
      "execution_count": null,
      "outputs": [
        {
          "output_type": "execute_result",
          "data": {
            "text/plain": [
              "<All keys matched successfully>"
            ]
          },
          "metadata": {
            "tags": []
          },
          "execution_count": 56
        }
      ]
    },
    {
      "cell_type": "code",
      "metadata": {
        "colab": {
          "base_uri": "https://localhost:8080/"
        },
        "id": "iLnJBkAH5Yxm",
        "outputId": "e061a8fa-2349-4bd9-8d1a-18ef5b17a850"
      },
      "source": [
        "# Set model to evaluation mode-\n",
        "model_random.eval()"
      ],
      "execution_count": null,
      "outputs": [
        {
          "output_type": "execute_result",
          "data": {
            "text/plain": [
              "Sequential(\n",
              "  (0): Sequential(\n",
              "    (0): Conv2d(3, 64, kernel_size=(7, 7), stride=(2, 2), padding=(3, 3))\n",
              "    (1): BatchNorm2d(64, eps=1e-05, momentum=0.1, affine=True, track_running_stats=True)\n",
              "    (2): ReLU()\n",
              "    (3): MaxPool2d(kernel_size=3, stride=2, padding=1, dilation=1, ceil_mode=False)\n",
              "  )\n",
              "  (1): Sequential(\n",
              "    (0): ResidualBlock(\n",
              "      (conv1): Conv2d(64, 64, kernel_size=(3, 3), stride=(1, 1), padding=(1, 1), bias=False)\n",
              "      (conv2): Conv2d(64, 64, kernel_size=(3, 3), stride=(1, 1), padding=(1, 1), bias=False)\n",
              "      (bn1): BatchNorm2d(64, eps=1e-05, momentum=0.1, affine=True, track_running_stats=True)\n",
              "      (bn2): BatchNorm2d(64, eps=1e-05, momentum=0.1, affine=True, track_running_stats=True)\n",
              "      (relu): ReLU(inplace=True)\n",
              "    )\n",
              "    (1): ResidualBlock(\n",
              "      (conv1): Conv2d(64, 64, kernel_size=(3, 3), stride=(1, 1), padding=(1, 1), bias=False)\n",
              "      (conv2): Conv2d(64, 64, kernel_size=(3, 3), stride=(1, 1), padding=(1, 1), bias=False)\n",
              "      (bn1): BatchNorm2d(64, eps=1e-05, momentum=0.1, affine=True, track_running_stats=True)\n",
              "      (bn2): BatchNorm2d(64, eps=1e-05, momentum=0.1, affine=True, track_running_stats=True)\n",
              "      (relu): ReLU(inplace=True)\n",
              "    )\n",
              "  )\n",
              "  (2): Sequential(\n",
              "    (0): ResidualBlock(\n",
              "      (conv1): Conv2d(64, 128, kernel_size=(3, 3), stride=(2, 2), padding=(1, 1), bias=False)\n",
              "      (conv2): Conv2d(128, 128, kernel_size=(3, 3), stride=(1, 1), padding=(1, 1), bias=False)\n",
              "      (conv3): Conv2d(64, 128, kernel_size=(1, 1), stride=(2, 2))\n",
              "      (bn1): BatchNorm2d(128, eps=1e-05, momentum=0.1, affine=True, track_running_stats=True)\n",
              "      (bn2): BatchNorm2d(128, eps=1e-05, momentum=0.1, affine=True, track_running_stats=True)\n",
              "      (relu): ReLU(inplace=True)\n",
              "    )\n",
              "    (1): ResidualBlock(\n",
              "      (conv1): Conv2d(128, 128, kernel_size=(3, 3), stride=(1, 1), padding=(1, 1), bias=False)\n",
              "      (conv2): Conv2d(128, 128, kernel_size=(3, 3), stride=(1, 1), padding=(1, 1), bias=False)\n",
              "      (bn1): BatchNorm2d(128, eps=1e-05, momentum=0.1, affine=True, track_running_stats=True)\n",
              "      (bn2): BatchNorm2d(128, eps=1e-05, momentum=0.1, affine=True, track_running_stats=True)\n",
              "      (relu): ReLU(inplace=True)\n",
              "    )\n",
              "  )\n",
              "  (3): Sequential(\n",
              "    (0): ResidualBlock(\n",
              "      (conv1): Conv2d(128, 256, kernel_size=(3, 3), stride=(2, 2), padding=(1, 1), bias=False)\n",
              "      (conv2): Conv2d(256, 256, kernel_size=(3, 3), stride=(1, 1), padding=(1, 1), bias=False)\n",
              "      (conv3): Conv2d(128, 256, kernel_size=(1, 1), stride=(2, 2))\n",
              "      (bn1): BatchNorm2d(256, eps=1e-05, momentum=0.1, affine=True, track_running_stats=True)\n",
              "      (bn2): BatchNorm2d(256, eps=1e-05, momentum=0.1, affine=True, track_running_stats=True)\n",
              "      (relu): ReLU(inplace=True)\n",
              "    )\n",
              "    (1): ResidualBlock(\n",
              "      (conv1): Conv2d(256, 256, kernel_size=(3, 3), stride=(1, 1), padding=(1, 1), bias=False)\n",
              "      (conv2): Conv2d(256, 256, kernel_size=(3, 3), stride=(1, 1), padding=(1, 1), bias=False)\n",
              "      (bn1): BatchNorm2d(256, eps=1e-05, momentum=0.1, affine=True, track_running_stats=True)\n",
              "      (bn2): BatchNorm2d(256, eps=1e-05, momentum=0.1, affine=True, track_running_stats=True)\n",
              "      (relu): ReLU(inplace=True)\n",
              "    )\n",
              "  )\n",
              "  (4): Sequential(\n",
              "    (0): ResidualBlock(\n",
              "      (conv1): Conv2d(256, 512, kernel_size=(3, 3), stride=(2, 2), padding=(1, 1), bias=False)\n",
              "      (conv2): Conv2d(512, 512, kernel_size=(3, 3), stride=(1, 1), padding=(1, 1), bias=False)\n",
              "      (conv3): Conv2d(256, 512, kernel_size=(1, 1), stride=(2, 2))\n",
              "      (bn1): BatchNorm2d(512, eps=1e-05, momentum=0.1, affine=True, track_running_stats=True)\n",
              "      (bn2): BatchNorm2d(512, eps=1e-05, momentum=0.1, affine=True, track_running_stats=True)\n",
              "      (relu): ReLU(inplace=True)\n",
              "    )\n",
              "    (1): ResidualBlock(\n",
              "      (conv1): Conv2d(512, 512, kernel_size=(3, 3), stride=(1, 1), padding=(1, 1), bias=False)\n",
              "      (conv2): Conv2d(512, 512, kernel_size=(3, 3), stride=(1, 1), padding=(1, 1), bias=False)\n",
              "      (bn1): BatchNorm2d(512, eps=1e-05, momentum=0.1, affine=True, track_running_stats=True)\n",
              "      (bn2): BatchNorm2d(512, eps=1e-05, momentum=0.1, affine=True, track_running_stats=True)\n",
              "      (relu): ReLU(inplace=True)\n",
              "    )\n",
              "  )\n",
              "  (5): AdaptiveAvgPool2d(output_size=(1, 1))\n",
              "  (6): Flatten(start_dim=1, end_dim=-1)\n",
              "  (7): Linear(in_features=512, out_features=10, bias=True)\n",
              ")"
            ]
          },
          "metadata": {
            "tags": []
          },
          "execution_count": 57
        }
      ]
    },
    {
      "cell_type": "code",
      "metadata": {
        "colab": {
          "base_uri": "https://localhost:8080/"
        },
        "id": "itk4uc2j5cll",
        "outputId": "ac82b607-773e-4e9d-857b-90bf15965cc6"
      },
      "source": [
        "# Place model on GPU-\n",
        "model_random.to(device)"
      ],
      "execution_count": null,
      "outputs": [
        {
          "output_type": "execute_result",
          "data": {
            "text/plain": [
              "Sequential(\n",
              "  (0): Sequential(\n",
              "    (0): Conv2d(3, 64, kernel_size=(7, 7), stride=(2, 2), padding=(3, 3))\n",
              "    (1): BatchNorm2d(64, eps=1e-05, momentum=0.1, affine=True, track_running_stats=True)\n",
              "    (2): ReLU()\n",
              "    (3): MaxPool2d(kernel_size=3, stride=2, padding=1, dilation=1, ceil_mode=False)\n",
              "  )\n",
              "  (1): Sequential(\n",
              "    (0): ResidualBlock(\n",
              "      (conv1): Conv2d(64, 64, kernel_size=(3, 3), stride=(1, 1), padding=(1, 1), bias=False)\n",
              "      (conv2): Conv2d(64, 64, kernel_size=(3, 3), stride=(1, 1), padding=(1, 1), bias=False)\n",
              "      (bn1): BatchNorm2d(64, eps=1e-05, momentum=0.1, affine=True, track_running_stats=True)\n",
              "      (bn2): BatchNorm2d(64, eps=1e-05, momentum=0.1, affine=True, track_running_stats=True)\n",
              "      (relu): ReLU(inplace=True)\n",
              "    )\n",
              "    (1): ResidualBlock(\n",
              "      (conv1): Conv2d(64, 64, kernel_size=(3, 3), stride=(1, 1), padding=(1, 1), bias=False)\n",
              "      (conv2): Conv2d(64, 64, kernel_size=(3, 3), stride=(1, 1), padding=(1, 1), bias=False)\n",
              "      (bn1): BatchNorm2d(64, eps=1e-05, momentum=0.1, affine=True, track_running_stats=True)\n",
              "      (bn2): BatchNorm2d(64, eps=1e-05, momentum=0.1, affine=True, track_running_stats=True)\n",
              "      (relu): ReLU(inplace=True)\n",
              "    )\n",
              "  )\n",
              "  (2): Sequential(\n",
              "    (0): ResidualBlock(\n",
              "      (conv1): Conv2d(64, 128, kernel_size=(3, 3), stride=(2, 2), padding=(1, 1), bias=False)\n",
              "      (conv2): Conv2d(128, 128, kernel_size=(3, 3), stride=(1, 1), padding=(1, 1), bias=False)\n",
              "      (conv3): Conv2d(64, 128, kernel_size=(1, 1), stride=(2, 2))\n",
              "      (bn1): BatchNorm2d(128, eps=1e-05, momentum=0.1, affine=True, track_running_stats=True)\n",
              "      (bn2): BatchNorm2d(128, eps=1e-05, momentum=0.1, affine=True, track_running_stats=True)\n",
              "      (relu): ReLU(inplace=True)\n",
              "    )\n",
              "    (1): ResidualBlock(\n",
              "      (conv1): Conv2d(128, 128, kernel_size=(3, 3), stride=(1, 1), padding=(1, 1), bias=False)\n",
              "      (conv2): Conv2d(128, 128, kernel_size=(3, 3), stride=(1, 1), padding=(1, 1), bias=False)\n",
              "      (bn1): BatchNorm2d(128, eps=1e-05, momentum=0.1, affine=True, track_running_stats=True)\n",
              "      (bn2): BatchNorm2d(128, eps=1e-05, momentum=0.1, affine=True, track_running_stats=True)\n",
              "      (relu): ReLU(inplace=True)\n",
              "    )\n",
              "  )\n",
              "  (3): Sequential(\n",
              "    (0): ResidualBlock(\n",
              "      (conv1): Conv2d(128, 256, kernel_size=(3, 3), stride=(2, 2), padding=(1, 1), bias=False)\n",
              "      (conv2): Conv2d(256, 256, kernel_size=(3, 3), stride=(1, 1), padding=(1, 1), bias=False)\n",
              "      (conv3): Conv2d(128, 256, kernel_size=(1, 1), stride=(2, 2))\n",
              "      (bn1): BatchNorm2d(256, eps=1e-05, momentum=0.1, affine=True, track_running_stats=True)\n",
              "      (bn2): BatchNorm2d(256, eps=1e-05, momentum=0.1, affine=True, track_running_stats=True)\n",
              "      (relu): ReLU(inplace=True)\n",
              "    )\n",
              "    (1): ResidualBlock(\n",
              "      (conv1): Conv2d(256, 256, kernel_size=(3, 3), stride=(1, 1), padding=(1, 1), bias=False)\n",
              "      (conv2): Conv2d(256, 256, kernel_size=(3, 3), stride=(1, 1), padding=(1, 1), bias=False)\n",
              "      (bn1): BatchNorm2d(256, eps=1e-05, momentum=0.1, affine=True, track_running_stats=True)\n",
              "      (bn2): BatchNorm2d(256, eps=1e-05, momentum=0.1, affine=True, track_running_stats=True)\n",
              "      (relu): ReLU(inplace=True)\n",
              "    )\n",
              "  )\n",
              "  (4): Sequential(\n",
              "    (0): ResidualBlock(\n",
              "      (conv1): Conv2d(256, 512, kernel_size=(3, 3), stride=(2, 2), padding=(1, 1), bias=False)\n",
              "      (conv2): Conv2d(512, 512, kernel_size=(3, 3), stride=(1, 1), padding=(1, 1), bias=False)\n",
              "      (conv3): Conv2d(256, 512, kernel_size=(1, 1), stride=(2, 2))\n",
              "      (bn1): BatchNorm2d(512, eps=1e-05, momentum=0.1, affine=True, track_running_stats=True)\n",
              "      (bn2): BatchNorm2d(512, eps=1e-05, momentum=0.1, affine=True, track_running_stats=True)\n",
              "      (relu): ReLU(inplace=True)\n",
              "    )\n",
              "    (1): ResidualBlock(\n",
              "      (conv1): Conv2d(512, 512, kernel_size=(3, 3), stride=(1, 1), padding=(1, 1), bias=False)\n",
              "      (conv2): Conv2d(512, 512, kernel_size=(3, 3), stride=(1, 1), padding=(1, 1), bias=False)\n",
              "      (bn1): BatchNorm2d(512, eps=1e-05, momentum=0.1, affine=True, track_running_stats=True)\n",
              "      (bn2): BatchNorm2d(512, eps=1e-05, momentum=0.1, affine=True, track_running_stats=True)\n",
              "      (relu): ReLU(inplace=True)\n",
              "    )\n",
              "  )\n",
              "  (5): AdaptiveAvgPool2d(output_size=(1, 1))\n",
              "  (6): Flatten(start_dim=1, end_dim=-1)\n",
              "  (7): Linear(in_features=512, out_features=10, bias=True)\n",
              ")"
            ]
          },
          "metadata": {
            "tags": []
          },
          "execution_count": 58
        }
      ]
    },
    {
      "cell_type": "code",
      "metadata": {
        "id": "qb07NcNi5iE7"
      },
      "source": [
        ""
      ],
      "execution_count": null,
      "outputs": []
    },
    {
      "cell_type": "code",
      "metadata": {
        "id": "l3PLSqd15o8E"
      },
      "source": [
        "total = 0.0\n",
        "correct = 0.0"
      ],
      "execution_count": null,
      "outputs": []
    },
    {
      "cell_type": "code",
      "metadata": {
        "colab": {
          "base_uri": "https://localhost:8080/"
        },
        "id": "yymhzfNt5qpq",
        "outputId": "f73f7224-38d6-4b3f-9731-303b9b7a66f1"
      },
      "source": [
        "# Evaluate trained CNN model. We don't want these operations to be tracked in\n",
        "# the computational graph. Hence wrap these operations in-\n",
        "with torch.no_grad():\n",
        "    for images, labels in test_loader:\n",
        "\n",
        "        # Place features (images) and targets (labels) to GPU-\n",
        "        images = images.to(device)\n",
        "        labels = labels.to(device)\n",
        "        # print(f\"images.shape = {images.shape}, labels.shape = {labels.shape}\")\n",
        "\n",
        "        # Set model to evaluation mode-\n",
        "        # model_testing.eval()\n",
        "\n",
        "        # Make predictions using trained model-\n",
        "        outputs = model_random(images)\n",
        "        _, y_pred = torch.max(outputs, 1)\n",
        "    \n",
        "        # Total number of labels-\n",
        "        total += labels.size(0)\n",
        "\n",
        "        # Total number of correct predictions-\n",
        "        correct += (y_pred == labels).sum()\n",
        "\n",
        "    val_acc = 100 * (correct / total)\n",
        "    print(f\"ResNet-22 randomly initialized CNN's validation metrics on CIFAR-10 are:\")\n",
        "    print(f\"accuracy = {val_acc:.2f}%, # of correct labels = {correct} & total # of labels = {total}\")\n"
      ],
      "execution_count": null,
      "outputs": [
        {
          "output_type": "stream",
          "text": [
            "ResNet-19 randomly initialized CNN's validation metrics on CIFAR-10 are:\n",
            "accuracy = 11.28%, # of correct labels = 1128.0 & total # of labels = 10000.0\n"
          ],
          "name": "stdout"
        }
      ]
    },
    {
      "cell_type": "code",
      "metadata": {
        "id": "y1s6Qo5j5wFa"
      },
      "source": [
        ""
      ],
      "execution_count": null,
      "outputs": []
    },
    {
      "cell_type": "code",
      "metadata": {
        "colab": {
          "base_uri": "https://localhost:8080/"
        },
        "id": "5wjOALLQ55U7",
        "outputId": "e5be0afd-5266-443f-87c4-382741415d39"
      },
      "source": [
        "for layer in model.state_dict():\n",
        "    print(f\"layer = {layer} has dimensions: {model.state_dict()[layer].shape}\")\n",
        "    # print(layer)"
      ],
      "execution_count": null,
      "outputs": [
        {
          "output_type": "stream",
          "text": [
            "layer = 0.0.weight has dimensions: torch.Size([64, 3, 7, 7])\n",
            "layer = 0.0.bias has dimensions: torch.Size([64])\n",
            "layer = 0.1.weight has dimensions: torch.Size([64])\n",
            "layer = 0.1.bias has dimensions: torch.Size([64])\n",
            "layer = 0.1.running_mean has dimensions: torch.Size([64])\n",
            "layer = 0.1.running_var has dimensions: torch.Size([64])\n",
            "layer = 0.1.num_batches_tracked has dimensions: torch.Size([])\n",
            "layer = 1.0.conv1.weight has dimensions: torch.Size([64, 64, 3, 3])\n",
            "layer = 1.0.conv2.weight has dimensions: torch.Size([64, 64, 3, 3])\n",
            "layer = 1.0.bn1.weight has dimensions: torch.Size([64])\n",
            "layer = 1.0.bn1.bias has dimensions: torch.Size([64])\n",
            "layer = 1.0.bn1.running_mean has dimensions: torch.Size([64])\n",
            "layer = 1.0.bn1.running_var has dimensions: torch.Size([64])\n",
            "layer = 1.0.bn1.num_batches_tracked has dimensions: torch.Size([])\n",
            "layer = 1.0.bn2.weight has dimensions: torch.Size([64])\n",
            "layer = 1.0.bn2.bias has dimensions: torch.Size([64])\n",
            "layer = 1.0.bn2.running_mean has dimensions: torch.Size([64])\n",
            "layer = 1.0.bn2.running_var has dimensions: torch.Size([64])\n",
            "layer = 1.0.bn2.num_batches_tracked has dimensions: torch.Size([])\n",
            "layer = 1.1.conv1.weight has dimensions: torch.Size([64, 64, 3, 3])\n",
            "layer = 1.1.conv2.weight has dimensions: torch.Size([64, 64, 3, 3])\n",
            "layer = 1.1.bn1.weight has dimensions: torch.Size([64])\n",
            "layer = 1.1.bn1.bias has dimensions: torch.Size([64])\n",
            "layer = 1.1.bn1.running_mean has dimensions: torch.Size([64])\n",
            "layer = 1.1.bn1.running_var has dimensions: torch.Size([64])\n",
            "layer = 1.1.bn1.num_batches_tracked has dimensions: torch.Size([])\n",
            "layer = 1.1.bn2.weight has dimensions: torch.Size([64])\n",
            "layer = 1.1.bn2.bias has dimensions: torch.Size([64])\n",
            "layer = 1.1.bn2.running_mean has dimensions: torch.Size([64])\n",
            "layer = 1.1.bn2.running_var has dimensions: torch.Size([64])\n",
            "layer = 1.1.bn2.num_batches_tracked has dimensions: torch.Size([])\n",
            "layer = 2.0.conv1.weight has dimensions: torch.Size([128, 64, 3, 3])\n",
            "layer = 2.0.conv2.weight has dimensions: torch.Size([128, 128, 3, 3])\n",
            "layer = 2.0.conv3.weight has dimensions: torch.Size([128, 64, 1, 1])\n",
            "layer = 2.0.conv3.bias has dimensions: torch.Size([128])\n",
            "layer = 2.0.bn1.weight has dimensions: torch.Size([128])\n",
            "layer = 2.0.bn1.bias has dimensions: torch.Size([128])\n",
            "layer = 2.0.bn1.running_mean has dimensions: torch.Size([128])\n",
            "layer = 2.0.bn1.running_var has dimensions: torch.Size([128])\n",
            "layer = 2.0.bn1.num_batches_tracked has dimensions: torch.Size([])\n",
            "layer = 2.0.bn2.weight has dimensions: torch.Size([128])\n",
            "layer = 2.0.bn2.bias has dimensions: torch.Size([128])\n",
            "layer = 2.0.bn2.running_mean has dimensions: torch.Size([128])\n",
            "layer = 2.0.bn2.running_var has dimensions: torch.Size([128])\n",
            "layer = 2.0.bn2.num_batches_tracked has dimensions: torch.Size([])\n",
            "layer = 2.1.conv1.weight has dimensions: torch.Size([128, 128, 3, 3])\n",
            "layer = 2.1.conv2.weight has dimensions: torch.Size([128, 128, 3, 3])\n",
            "layer = 2.1.bn1.weight has dimensions: torch.Size([128])\n",
            "layer = 2.1.bn1.bias has dimensions: torch.Size([128])\n",
            "layer = 2.1.bn1.running_mean has dimensions: torch.Size([128])\n",
            "layer = 2.1.bn1.running_var has dimensions: torch.Size([128])\n",
            "layer = 2.1.bn1.num_batches_tracked has dimensions: torch.Size([])\n",
            "layer = 2.1.bn2.weight has dimensions: torch.Size([128])\n",
            "layer = 2.1.bn2.bias has dimensions: torch.Size([128])\n",
            "layer = 2.1.bn2.running_mean has dimensions: torch.Size([128])\n",
            "layer = 2.1.bn2.running_var has dimensions: torch.Size([128])\n",
            "layer = 2.1.bn2.num_batches_tracked has dimensions: torch.Size([])\n",
            "layer = 3.0.conv1.weight has dimensions: torch.Size([256, 128, 3, 3])\n",
            "layer = 3.0.conv2.weight has dimensions: torch.Size([256, 256, 3, 3])\n",
            "layer = 3.0.conv3.weight has dimensions: torch.Size([256, 128, 1, 1])\n",
            "layer = 3.0.conv3.bias has dimensions: torch.Size([256])\n",
            "layer = 3.0.bn1.weight has dimensions: torch.Size([256])\n",
            "layer = 3.0.bn1.bias has dimensions: torch.Size([256])\n",
            "layer = 3.0.bn1.running_mean has dimensions: torch.Size([256])\n",
            "layer = 3.0.bn1.running_var has dimensions: torch.Size([256])\n",
            "layer = 3.0.bn1.num_batches_tracked has dimensions: torch.Size([])\n",
            "layer = 3.0.bn2.weight has dimensions: torch.Size([256])\n",
            "layer = 3.0.bn2.bias has dimensions: torch.Size([256])\n",
            "layer = 3.0.bn2.running_mean has dimensions: torch.Size([256])\n",
            "layer = 3.0.bn2.running_var has dimensions: torch.Size([256])\n",
            "layer = 3.0.bn2.num_batches_tracked has dimensions: torch.Size([])\n",
            "layer = 3.1.conv1.weight has dimensions: torch.Size([256, 256, 3, 3])\n",
            "layer = 3.1.conv2.weight has dimensions: torch.Size([256, 256, 3, 3])\n",
            "layer = 3.1.bn1.weight has dimensions: torch.Size([256])\n",
            "layer = 3.1.bn1.bias has dimensions: torch.Size([256])\n",
            "layer = 3.1.bn1.running_mean has dimensions: torch.Size([256])\n",
            "layer = 3.1.bn1.running_var has dimensions: torch.Size([256])\n",
            "layer = 3.1.bn1.num_batches_tracked has dimensions: torch.Size([])\n",
            "layer = 3.1.bn2.weight has dimensions: torch.Size([256])\n",
            "layer = 3.1.bn2.bias has dimensions: torch.Size([256])\n",
            "layer = 3.1.bn2.running_mean has dimensions: torch.Size([256])\n",
            "layer = 3.1.bn2.running_var has dimensions: torch.Size([256])\n",
            "layer = 3.1.bn2.num_batches_tracked has dimensions: torch.Size([])\n",
            "layer = 4.0.conv1.weight has dimensions: torch.Size([512, 256, 3, 3])\n",
            "layer = 4.0.conv2.weight has dimensions: torch.Size([512, 512, 3, 3])\n",
            "layer = 4.0.conv3.weight has dimensions: torch.Size([512, 256, 1, 1])\n",
            "layer = 4.0.conv3.bias has dimensions: torch.Size([512])\n",
            "layer = 4.0.bn1.weight has dimensions: torch.Size([512])\n",
            "layer = 4.0.bn1.bias has dimensions: torch.Size([512])\n",
            "layer = 4.0.bn1.running_mean has dimensions: torch.Size([512])\n",
            "layer = 4.0.bn1.running_var has dimensions: torch.Size([512])\n",
            "layer = 4.0.bn1.num_batches_tracked has dimensions: torch.Size([])\n",
            "layer = 4.0.bn2.weight has dimensions: torch.Size([512])\n",
            "layer = 4.0.bn2.bias has dimensions: torch.Size([512])\n",
            "layer = 4.0.bn2.running_mean has dimensions: torch.Size([512])\n",
            "layer = 4.0.bn2.running_var has dimensions: torch.Size([512])\n",
            "layer = 4.0.bn2.num_batches_tracked has dimensions: torch.Size([])\n",
            "layer = 4.1.conv1.weight has dimensions: torch.Size([512, 512, 3, 3])\n",
            "layer = 4.1.conv2.weight has dimensions: torch.Size([512, 512, 3, 3])\n",
            "layer = 4.1.bn1.weight has dimensions: torch.Size([512])\n",
            "layer = 4.1.bn1.bias has dimensions: torch.Size([512])\n",
            "layer = 4.1.bn1.running_mean has dimensions: torch.Size([512])\n",
            "layer = 4.1.bn1.running_var has dimensions: torch.Size([512])\n",
            "layer = 4.1.bn1.num_batches_tracked has dimensions: torch.Size([])\n",
            "layer = 4.1.bn2.weight has dimensions: torch.Size([512])\n",
            "layer = 4.1.bn2.bias has dimensions: torch.Size([512])\n",
            "layer = 4.1.bn2.running_mean has dimensions: torch.Size([512])\n",
            "layer = 4.1.bn2.running_var has dimensions: torch.Size([512])\n",
            "layer = 4.1.bn2.num_batches_tracked has dimensions: torch.Size([])\n",
            "layer = 7.weight has dimensions: torch.Size([10, 512])\n",
            "layer = 7.bias has dimensions: torch.Size([10])\n"
          ],
          "name": "stdout"
        }
      ]
    },
    {
      "cell_type": "code",
      "metadata": {
        "id": "3thO443a6Nzn"
      },
      "source": [
        ""
      ],
      "execution_count": null,
      "outputs": []
    },
    {
      "cell_type": "code",
      "metadata": {
        "id": "7iIBgVOf6u4P"
      },
      "source": [
        "import seaborn as sns"
      ],
      "execution_count": null,
      "outputs": []
    },
    {
      "cell_type": "code",
      "metadata": {
        "id": "T8nr59GU671Q"
      },
      "source": [
        "# Extract conv1 trained weights-\n",
        "conv1_trained = model.state_dict()['0.0.weight'].cpu()"
      ],
      "execution_count": null,
      "outputs": []
    },
    {
      "cell_type": "code",
      "metadata": {
        "id": "ZeV-RXOm7iBQ"
      },
      "source": [
        "# Extract conv1 random weights-\n",
        "conv1_random = model_random.state_dict()['0.0.weight'].cpu()"
      ],
      "execution_count": null,
      "outputs": []
    },
    {
      "cell_type": "code",
      "metadata": {
        "colab": {
          "base_uri": "https://localhost:8080/"
        },
        "id": "I8-__TsA7p_L",
        "outputId": "6833a928-f917-4c49-f488-5d4fcb4f061e"
      },
      "source": [
        "conv1_trained.shape, conv1_trained.flatten().shape"
      ],
      "execution_count": null,
      "outputs": [
        {
          "output_type": "execute_result",
          "data": {
            "text/plain": [
              "(torch.Size([64, 3, 7, 7]), torch.Size([9408]))"
            ]
          },
          "metadata": {
            "tags": []
          },
          "execution_count": 81
        }
      ]
    },
    {
      "cell_type": "code",
      "metadata": {
        "colab": {
          "base_uri": "https://localhost:8080/"
        },
        "id": "YHVZ-Jjt7Hdp",
        "outputId": "fd6021f8-5927-4338-d535-fdd77245e80f"
      },
      "source": [
        "conv1_random.shape, conv1_random.flatten().shape"
      ],
      "execution_count": null,
      "outputs": [
        {
          "output_type": "execute_result",
          "data": {
            "text/plain": [
              "(torch.Size([64, 3, 7, 7]), torch.Size([9408]))"
            ]
          },
          "metadata": {
            "tags": []
          },
          "execution_count": 76
        }
      ]
    },
    {
      "cell_type": "code",
      "metadata": {
        "id": "FVPPT-bo7JWh"
      },
      "source": [
        ""
      ],
      "execution_count": null,
      "outputs": []
    },
    {
      "cell_type": "code",
      "metadata": {
        "id": "MkfJIun36_qR"
      },
      "source": [
        ""
      ],
      "execution_count": null,
      "outputs": []
    },
    {
      "cell_type": "code",
      "metadata": {
        "colab": {
          "base_uri": "https://localhost:8080/",
          "height": 320
        },
        "id": "mc8pSBSQ8zqX",
        "outputId": "1b3daa26-d7ed-4de2-a0e8-953825a2207c"
      },
      "source": [
        "plt.figure(figsize = (10, 5))\n",
        "plt.hist(conv1_random.flatten(), label = 'kaiming normal random')\n",
        "plt.show()"
      ],
      "execution_count": null,
      "outputs": [
        {
          "output_type": "display_data",
          "data": {
            "image/png": "[encoded data removed]",
            "text/plain": [
              "<Figure size 720x360 with 1 Axes>"
            ]
          },
          "metadata": {
            "tags": [],
            "needs_background": "light"
          }
        }
      ]
    },
    {
      "cell_type": "code",
      "metadata": {
        "colab": {
          "base_uri": "https://localhost:8080/",
          "height": 458
        },
        "id": "fXSsY8x-6m3d",
        "outputId": "df90f6c4-cecd-4d39-a57b-6f9063f80c59"
      },
      "source": [
        "plt.figure(figsize = (10, 7))\n",
        "\n",
        "# sns.displot(data = conv1_random.flatten(), kde = True, label = 'kaiming normal random')\n",
        "# sns.displot(data = conv1_trained.flatten(), kde = True, label = 'trained')\n",
        "\n",
        "plt.hist(conv1_random.flatten(), label = 'kaiming normal random')\n",
        "plt.hist(conv1_trained.flatten(), label = 'trained')\n",
        "\n",
        "plt.xlabel(\"weights\")\n",
        "plt.ylabel(\"count\")\n",
        "plt.legend(loc = 'best')\n",
        "plt.title(\"ReNet-22: First conv layer\")\n",
        "plt.show()"
      ],
      "execution_count": null,
      "outputs": [
        {
          "output_type": "display_data",
          "data": {
            "image/png": "[encoded data removed]",
            "text/plain": [
              "<Figure size 720x504 with 1 Axes>"
            ]
          },
          "metadata": {
            "tags": [],
            "needs_background": "light"
          }
        }
      ]
    },
    {
      "cell_type": "code",
      "metadata": {
        "id": "WQzZahVo7_Qx"
      },
      "source": [
        ""
      ],
      "execution_count": null,
      "outputs": []
    },
    {
      "cell_type": "code",
      "metadata": {
        "id": "9JP510dj7Uxx"
      },
      "source": [
        ""
      ],
      "execution_count": null,
      "outputs": []
    },
    {
      "cell_type": "code",
      "metadata": {
        "id": "PR2NpLQz58J7"
      },
      "source": [
        ""
      ],
      "execution_count": null,
      "outputs": []
    },
    {
      "cell_type": "code",
      "metadata": {
        "id": "U5FVMO1DggFN"
      },
      "source": [
        ""
      ],
      "execution_count": null,
      "outputs": []
    },
    {
      "cell_type": "code",
      "metadata": {
        "colab": {
          "base_uri": "https://localhost:8080/"
        },
        "id": "PqcWd6Mmgm5W",
        "outputId": "0617ef63-5c80-4e6a-e277-a50771915f13"
      },
      "source": [
        "# Load pre-trained model from before-\n",
        "model_testing.load_state_dict(torch.load('/content/ResNet-19_trained.pth'))\n",
        "model_testing.eval()"
      ],
      "execution_count": null,
      "outputs": [
        {
          "output_type": "execute_result",
          "data": {
            "text/plain": [
              "Sequential(\n",
              "  (0): Sequential(\n",
              "    (0): Conv2d(3, 64, kernel_size=(7, 7), stride=(2, 2), padding=(3, 3))\n",
              "    (1): BatchNorm2d(64, eps=1e-05, momentum=0.1, affine=True, track_running_stats=True)\n",
              "    (2): ReLU()\n",
              "    (3): MaxPool2d(kernel_size=3, stride=2, padding=1, dilation=1, ceil_mode=False)\n",
              "  )\n",
              "  (1): Sequential(\n",
              "    (0): ResidualBlock(\n",
              "      (conv1): Conv2d(64, 64, kernel_size=(3, 3), stride=(1, 1), padding=(1, 1), bias=False)\n",
              "      (conv2): Conv2d(64, 64, kernel_size=(3, 3), stride=(1, 1), padding=(1, 1), bias=False)\n",
              "      (bn1): BatchNorm2d(64, eps=1e-05, momentum=0.1, affine=True, track_running_stats=True)\n",
              "      (bn2): BatchNorm2d(64, eps=1e-05, momentum=0.1, affine=True, track_running_stats=True)\n",
              "      (relu): ReLU(inplace=True)\n",
              "    )\n",
              "    (1): ResidualBlock(\n",
              "      (conv1): Conv2d(64, 64, kernel_size=(3, 3), stride=(1, 1), padding=(1, 1), bias=False)\n",
              "      (conv2): Conv2d(64, 64, kernel_size=(3, 3), stride=(1, 1), padding=(1, 1), bias=False)\n",
              "      (bn1): BatchNorm2d(64, eps=1e-05, momentum=0.1, affine=True, track_running_stats=True)\n",
              "      (bn2): BatchNorm2d(64, eps=1e-05, momentum=0.1, affine=True, track_running_stats=True)\n",
              "      (relu): ReLU(inplace=True)\n",
              "    )\n",
              "  )\n",
              "  (2): Sequential(\n",
              "    (0): ResidualBlock(\n",
              "      (conv1): Conv2d(64, 128, kernel_size=(3, 3), stride=(2, 2), padding=(1, 1), bias=False)\n",
              "      (conv2): Conv2d(128, 128, kernel_size=(3, 3), stride=(1, 1), padding=(1, 1), bias=False)\n",
              "      (conv3): Conv2d(64, 128, kernel_size=(1, 1), stride=(2, 2))\n",
              "      (bn1): BatchNorm2d(128, eps=1e-05, momentum=0.1, affine=True, track_running_stats=True)\n",
              "      (bn2): BatchNorm2d(128, eps=1e-05, momentum=0.1, affine=True, track_running_stats=True)\n",
              "      (relu): ReLU(inplace=True)\n",
              "    )\n",
              "    (1): ResidualBlock(\n",
              "      (conv1): Conv2d(128, 128, kernel_size=(3, 3), stride=(1, 1), padding=(1, 1), bias=False)\n",
              "      (conv2): Conv2d(128, 128, kernel_size=(3, 3), stride=(1, 1), padding=(1, 1), bias=False)\n",
              "      (bn1): BatchNorm2d(128, eps=1e-05, momentum=0.1, affine=True, track_running_stats=True)\n",
              "      (bn2): BatchNorm2d(128, eps=1e-05, momentum=0.1, affine=True, track_running_stats=True)\n",
              "      (relu): ReLU(inplace=True)\n",
              "    )\n",
              "  )\n",
              "  (3): Sequential(\n",
              "    (0): ResidualBlock(\n",
              "      (conv1): Conv2d(128, 256, kernel_size=(3, 3), stride=(2, 2), padding=(1, 1), bias=False)\n",
              "      (conv2): Conv2d(256, 256, kernel_size=(3, 3), stride=(1, 1), padding=(1, 1), bias=False)\n",
              "      (conv3): Conv2d(128, 256, kernel_size=(1, 1), stride=(2, 2))\n",
              "      (bn1): BatchNorm2d(256, eps=1e-05, momentum=0.1, affine=True, track_running_stats=True)\n",
              "      (bn2): BatchNorm2d(256, eps=1e-05, momentum=0.1, affine=True, track_running_stats=True)\n",
              "      (relu): ReLU(inplace=True)\n",
              "    )\n",
              "    (1): ResidualBlock(\n",
              "      (conv1): Conv2d(256, 256, kernel_size=(3, 3), stride=(1, 1), padding=(1, 1), bias=False)\n",
              "      (conv2): Conv2d(256, 256, kernel_size=(3, 3), stride=(1, 1), padding=(1, 1), bias=False)\n",
              "      (bn1): BatchNorm2d(256, eps=1e-05, momentum=0.1, affine=True, track_running_stats=True)\n",
              "      (bn2): BatchNorm2d(256, eps=1e-05, momentum=0.1, affine=True, track_running_stats=True)\n",
              "      (relu): ReLU(inplace=True)\n",
              "    )\n",
              "  )\n",
              "  (4): Sequential(\n",
              "    (0): ResidualBlock(\n",
              "      (conv1): Conv2d(256, 512, kernel_size=(3, 3), stride=(2, 2), padding=(1, 1), bias=False)\n",
              "      (conv2): Conv2d(512, 512, kernel_size=(3, 3), stride=(1, 1), padding=(1, 1), bias=False)\n",
              "      (conv3): Conv2d(256, 512, kernel_size=(1, 1), stride=(2, 2))\n",
              "      (bn1): BatchNorm2d(512, eps=1e-05, momentum=0.1, affine=True, track_running_stats=True)\n",
              "      (bn2): BatchNorm2d(512, eps=1e-05, momentum=0.1, affine=True, track_running_stats=True)\n",
              "      (relu): ReLU(inplace=True)\n",
              "    )\n",
              "    (1): ResidualBlock(\n",
              "      (conv1): Conv2d(512, 512, kernel_size=(3, 3), stride=(1, 1), padding=(1, 1), bias=False)\n",
              "      (conv2): Conv2d(512, 512, kernel_size=(3, 3), stride=(1, 1), padding=(1, 1), bias=False)\n",
              "      (bn1): BatchNorm2d(512, eps=1e-05, momentum=0.1, affine=True, track_running_stats=True)\n",
              "      (bn2): BatchNorm2d(512, eps=1e-05, momentum=0.1, affine=True, track_running_stats=True)\n",
              "      (relu): ReLU(inplace=True)\n",
              "    )\n",
              "  )\n",
              "  (5): AdaptiveAvgPool2d(output_size=(1, 1))\n",
              "  (6): Flatten(start_dim=1, end_dim=-1)\n",
              "  (7): Linear(in_features=512, out_features=10, bias=True)\n",
              ")"
            ]
          },
          "metadata": {
            "tags": []
          },
          "execution_count": 58
        }
      ]
    },
    {
      "cell_type": "code",
      "metadata": {
        "colab": {
          "base_uri": "https://localhost:8080/"
        },
        "id": "VKhCOJPBh-_m",
        "outputId": "2b691006-64d3-4f73-b356-8c042a20db95"
      },
      "source": [
        "# Place model on GPU-\n",
        "model_testing.to(device)"
      ],
      "execution_count": null,
      "outputs": [
        {
          "output_type": "execute_result",
          "data": {
            "text/plain": [
              "Sequential(\n",
              "  (0): Sequential(\n",
              "    (0): Conv2d(3, 64, kernel_size=(7, 7), stride=(2, 2), padding=(3, 3))\n",
              "    (1): BatchNorm2d(64, eps=1e-05, momentum=0.1, affine=True, track_running_stats=True)\n",
              "    (2): ReLU()\n",
              "    (3): MaxPool2d(kernel_size=3, stride=2, padding=1, dilation=1, ceil_mode=False)\n",
              "  )\n",
              "  (1): Sequential(\n",
              "    (0): ResidualBlock(\n",
              "      (conv1): Conv2d(64, 64, kernel_size=(3, 3), stride=(1, 1), padding=(1, 1), bias=False)\n",
              "      (conv2): Conv2d(64, 64, kernel_size=(3, 3), stride=(1, 1), padding=(1, 1), bias=False)\n",
              "      (bn1): BatchNorm2d(64, eps=1e-05, momentum=0.1, affine=True, track_running_stats=True)\n",
              "      (bn2): BatchNorm2d(64, eps=1e-05, momentum=0.1, affine=True, track_running_stats=True)\n",
              "      (relu): ReLU(inplace=True)\n",
              "    )\n",
              "    (1): ResidualBlock(\n",
              "      (conv1): Conv2d(64, 64, kernel_size=(3, 3), stride=(1, 1), padding=(1, 1), bias=False)\n",
              "      (conv2): Conv2d(64, 64, kernel_size=(3, 3), stride=(1, 1), padding=(1, 1), bias=False)\n",
              "      (bn1): BatchNorm2d(64, eps=1e-05, momentum=0.1, affine=True, track_running_stats=True)\n",
              "      (bn2): BatchNorm2d(64, eps=1e-05, momentum=0.1, affine=True, track_running_stats=True)\n",
              "      (relu): ReLU(inplace=True)\n",
              "    )\n",
              "  )\n",
              "  (2): Sequential(\n",
              "    (0): ResidualBlock(\n",
              "      (conv1): Conv2d(64, 128, kernel_size=(3, 3), stride=(2, 2), padding=(1, 1), bias=False)\n",
              "      (conv2): Conv2d(128, 128, kernel_size=(3, 3), stride=(1, 1), padding=(1, 1), bias=False)\n",
              "      (conv3): Conv2d(64, 128, kernel_size=(1, 1), stride=(2, 2))\n",
              "      (bn1): BatchNorm2d(128, eps=1e-05, momentum=0.1, affine=True, track_running_stats=True)\n",
              "      (bn2): BatchNorm2d(128, eps=1e-05, momentum=0.1, affine=True, track_running_stats=True)\n",
              "      (relu): ReLU(inplace=True)\n",
              "    )\n",
              "    (1): ResidualBlock(\n",
              "      (conv1): Conv2d(128, 128, kernel_size=(3, 3), stride=(1, 1), padding=(1, 1), bias=False)\n",
              "      (conv2): Conv2d(128, 128, kernel_size=(3, 3), stride=(1, 1), padding=(1, 1), bias=False)\n",
              "      (bn1): BatchNorm2d(128, eps=1e-05, momentum=0.1, affine=True, track_running_stats=True)\n",
              "      (bn2): BatchNorm2d(128, eps=1e-05, momentum=0.1, affine=True, track_running_stats=True)\n",
              "      (relu): ReLU(inplace=True)\n",
              "    )\n",
              "  )\n",
              "  (3): Sequential(\n",
              "    (0): ResidualBlock(\n",
              "      (conv1): Conv2d(128, 256, kernel_size=(3, 3), stride=(2, 2), padding=(1, 1), bias=False)\n",
              "      (conv2): Conv2d(256, 256, kernel_size=(3, 3), stride=(1, 1), padding=(1, 1), bias=False)\n",
              "      (conv3): Conv2d(128, 256, kernel_size=(1, 1), stride=(2, 2))\n",
              "      (bn1): BatchNorm2d(256, eps=1e-05, momentum=0.1, affine=True, track_running_stats=True)\n",
              "      (bn2): BatchNorm2d(256, eps=1e-05, momentum=0.1, affine=True, track_running_stats=True)\n",
              "      (relu): ReLU(inplace=True)\n",
              "    )\n",
              "    (1): ResidualBlock(\n",
              "      (conv1): Conv2d(256, 256, kernel_size=(3, 3), stride=(1, 1), padding=(1, 1), bias=False)\n",
              "      (conv2): Conv2d(256, 256, kernel_size=(3, 3), stride=(1, 1), padding=(1, 1), bias=False)\n",
              "      (bn1): BatchNorm2d(256, eps=1e-05, momentum=0.1, affine=True, track_running_stats=True)\n",
              "      (bn2): BatchNorm2d(256, eps=1e-05, momentum=0.1, affine=True, track_running_stats=True)\n",
              "      (relu): ReLU(inplace=True)\n",
              "    )\n",
              "  )\n",
              "  (4): Sequential(\n",
              "    (0): ResidualBlock(\n",
              "      (conv1): Conv2d(256, 512, kernel_size=(3, 3), stride=(2, 2), padding=(1, 1), bias=False)\n",
              "      (conv2): Conv2d(512, 512, kernel_size=(3, 3), stride=(1, 1), padding=(1, 1), bias=False)\n",
              "      (conv3): Conv2d(256, 512, kernel_size=(1, 1), stride=(2, 2))\n",
              "      (bn1): BatchNorm2d(512, eps=1e-05, momentum=0.1, affine=True, track_running_stats=True)\n",
              "      (bn2): BatchNorm2d(512, eps=1e-05, momentum=0.1, affine=True, track_running_stats=True)\n",
              "      (relu): ReLU(inplace=True)\n",
              "    )\n",
              "    (1): ResidualBlock(\n",
              "      (conv1): Conv2d(512, 512, kernel_size=(3, 3), stride=(1, 1), padding=(1, 1), bias=False)\n",
              "      (conv2): Conv2d(512, 512, kernel_size=(3, 3), stride=(1, 1), padding=(1, 1), bias=False)\n",
              "      (bn1): BatchNorm2d(512, eps=1e-05, momentum=0.1, affine=True, track_running_stats=True)\n",
              "      (bn2): BatchNorm2d(512, eps=1e-05, momentum=0.1, affine=True, track_running_stats=True)\n",
              "      (relu): ReLU(inplace=True)\n",
              "    )\n",
              "  )\n",
              "  (5): AdaptiveAvgPool2d(output_size=(1, 1))\n",
              "  (6): Flatten(start_dim=1, end_dim=-1)\n",
              "  (7): Linear(in_features=512, out_features=10, bias=True)\n",
              ")"
            ]
          },
          "metadata": {
            "tags": []
          },
          "execution_count": 65
        }
      ]
    },
    {
      "cell_type": "code",
      "metadata": {
        "id": "nZLvhwuShwFy"
      },
      "source": [
        ""
      ],
      "execution_count": null,
      "outputs": []
    },
    {
      "cell_type": "code",
      "metadata": {
        "id": "FTMz9aXUh2uL"
      },
      "source": [
        "# Variables for computing model metrics-\n",
        "total = 0\n",
        "correct = 0"
      ],
      "execution_count": null,
      "outputs": []
    },
    {
      "cell_type": "code",
      "metadata": {
        "colab": {
          "base_uri": "https://localhost:8080/"
        },
        "id": "AeHSUMW0hwOh",
        "outputId": "876ceba0-bc56-47f5-925f-f139220374f1"
      },
      "source": [
        "# Evaluate trained CNN model. We don't want these operations to be tracked in\n",
        "# the computational graph. Hence wrap these operations in-\n",
        "with torch.no_grad():\n",
        "    for images, labels in test_loader:\n",
        "\n",
        "        # Place features (images) and targets (labels) to GPU-\n",
        "        images = images.to(device)\n",
        "        labels = labels.to(device)\n",
        "        # print(f\"images.shape = {images.shape}, labels.shape = {labels.shape}\")\n",
        "\n",
        "        # Set model to evaluation mode-\n",
        "        # model_testing.eval()\n",
        "\n",
        "        # Make predictions using trained model-\n",
        "        outputs = model_testing(images)\n",
        "        _, y_pred = torch.max(outputs, 1)\n",
        "    \n",
        "        # Total number of labels-\n",
        "        total += labels.size(0)\n",
        "\n",
        "        # Total number of correct predictions-\n",
        "        correct += (y_pred == labels).sum()\n",
        "\n",
        "    val_acc = 100 * (correct / total)\n",
        "    print(f\"ResNet-19 trained CNN's validation metrics on CIFAR-10 are:\")\n",
        "    print(f\"accuracy = {val_acc:.2f}%, # of correct labels = {correct} & total # of labels = {total}\")\n"
      ],
      "execution_count": null,
      "outputs": [
        {
          "output_type": "stream",
          "text": [
            "ResNet-19 trained CNN's validation metrics on CIFAR-10 are:\n",
            "accuracy = 78.88%, # of correct labels = 7888 & total # of labels = 10000\n"
          ],
          "name": "stdout"
        }
      ]
    },
    {
      "cell_type": "code",
      "metadata": {
        "id": "q6xj882wgyJ9"
      },
      "source": [
        ""
      ],
      "execution_count": null,
      "outputs": []
    },
    {
      "cell_type": "code",
      "metadata": {
        "id": "ukcwcXxRhCsm"
      },
      "source": [
        ""
      ],
      "execution_count": null,
      "outputs": []
    },
    {
      "cell_type": "code",
      "metadata": {
        "id": "mfft6JxzhC9y"
      },
      "source": [
        "# Initialize ResNet-18 model for testing ENTIRE trained model-\n",
        "model_testing_entire = nn.Sequential(\n",
        "    b1, b2, b3, b4, b5,\n",
        "    nn.AdaptiveAvgPool2d((1,1)),\n",
        "    nn.Flatten(),\n",
        "    nn.Linear(in_features = 512, out_features = 10))\n",
        "\n"
      ],
      "execution_count": null,
      "outputs": []
    },
    {
      "cell_type": "code",
      "metadata": {
        "id": "Lu1FtKEVhHrc"
      },
      "source": [
        "# Load entire pre-trained model from before-\n",
        "model_testing_entire = torch.load('/content/ResNet-19_trained_entire_model.pth')"
      ],
      "execution_count": null,
      "outputs": []
    },
    {
      "cell_type": "code",
      "metadata": {
        "colab": {
          "base_uri": "https://localhost:8080/",
          "height": 167
        },
        "id": "PhzTXeNDhjU5",
        "outputId": "3e4005e3-d48f-4903-d614-44a643a0f946"
      },
      "source": [
        "model_testing_entire.state_dict()"
      ],
      "execution_count": null,
      "outputs": [
        {
          "output_type": "error",
          "ename": "AttributeError",
          "evalue": "ignored",
          "traceback": [
            "\u001b[0;31m---------------------------------------------------------------------------\u001b[0m",
            "\u001b[0;31mAttributeError\u001b[0m                            Traceback (most recent call last)",
            "\u001b[0;32m<ipython-input-62-5d15bdb70cc8>\u001b[0m in \u001b[0;36m<module>\u001b[0;34m()\u001b[0m\n\u001b[0;32m----> 1\u001b[0;31m \u001b[0mmodel_testing_entire\u001b[0m\u001b[0;34m.\u001b[0m\u001b[0mstate_dict\u001b[0m\u001b[0;34m(\u001b[0m\u001b[0;34m)\u001b[0m\u001b[0;34m\u001b[0m\u001b[0;34m\u001b[0m\u001b[0m\n\u001b[0m",
            "\u001b[0;31mAttributeError\u001b[0m: 'collections.OrderedDict' object has no attribute 'state_dict'"
          ]
        }
      ]
    },
    {
      "cell_type": "code",
      "metadata": {
        "colab": {
          "base_uri": "https://localhost:8080/",
          "height": 185
        },
        "id": "Q3U093H9hVsJ",
        "outputId": "0a93de77-50aa-46dd-939d-ad4f828d2bf4"
      },
      "source": [
        "# Set model to evaluation mode-\n",
        "model_testing_entire.eval()"
      ],
      "execution_count": null,
      "outputs": [
        {
          "output_type": "error",
          "ename": "AttributeError",
          "evalue": "ignored",
          "traceback": [
            "\u001b[0;31m---------------------------------------------------------------------------\u001b[0m",
            "\u001b[0;31mAttributeError\u001b[0m                            Traceback (most recent call last)",
            "\u001b[0;32m<ipython-input-61-920d6001d2c8>\u001b[0m in \u001b[0;36m<module>\u001b[0;34m()\u001b[0m\n\u001b[1;32m      1\u001b[0m \u001b[0;31m# Set model to evaluation mode-\u001b[0m\u001b[0;34m\u001b[0m\u001b[0;34m\u001b[0m\u001b[0;34m\u001b[0m\u001b[0m\n\u001b[0;32m----> 2\u001b[0;31m \u001b[0mmodel_testing_entire\u001b[0m\u001b[0;34m.\u001b[0m\u001b[0meval\u001b[0m\u001b[0;34m(\u001b[0m\u001b[0;34m)\u001b[0m\u001b[0;34m\u001b[0m\u001b[0;34m\u001b[0m\u001b[0m\n\u001b[0m",
            "\u001b[0;31mAttributeError\u001b[0m: 'collections.OrderedDict' object has no attribute 'eval'"
          ]
        }
      ]
    },
    {
      "cell_type": "code",
      "metadata": {
        "id": "OvuuPj9KhaYZ"
      },
      "source": [
        ""
      ],
      "execution_count": null,
      "outputs": []
    }
  ]
}