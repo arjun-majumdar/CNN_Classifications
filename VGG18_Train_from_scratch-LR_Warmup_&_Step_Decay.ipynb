{
 "cells": [
  {
   "cell_type": "markdown",
   "metadata": {
    "id": "545ab774"
   },
   "source": [
    "# VGG-18: Training from scratch"
   ]
  },
  {
   "cell_type": "code",
   "execution_count": 1,
   "metadata": {
    "id": "c1e700f2"
   },
   "outputs": [],
   "source": [
    "import tensorflow as tf\n",
    "import numpy as np\n",
    "import matplotlib.pyplot as plt\n",
    "import seaborn as sns\n",
    "import math\n",
    "\n",
    "from tensorflow.keras.preprocessing.image import ImageDataGenerator\n",
    "# from keras import regularizers\n",
    "from tensorflow.keras import regularizers\n",
    "\n",
    "from tensorflow.keras.layers import AveragePooling2D, Conv2D, MaxPooling2D, ReLU\n",
    "from tensorflow.keras import models, layers, datasets\n",
    "from tensorflow.keras.layers import Dense, Flatten, Reshape, Input, InputLayer\n",
    "from tensorflow.keras.layers import Layer, Dropout, BatchNormalization, Activation\n",
    "from tensorflow.keras.models import Sequential, Model\n",
    "from tensorflow.keras.initializers import RandomNormal\n",
    "\n",
    "from sklearn.metrics import accuracy_score, precision_score, recall_score\n"
   ]
  },
  {
   "cell_type": "code",
   "execution_count": null,
   "metadata": {
    "id": "42f757b7"
   },
   "outputs": [],
   "source": []
  },
  {
   "cell_type": "code",
   "execution_count": null,
   "metadata": {
    "id": "ace688e8"
   },
   "outputs": [],
   "source": []
  },
  {
   "cell_type": "code",
   "execution_count": 2,
   "metadata": {
    "colab": {
     "base_uri": "https://localhost:8080/"
    },
    "id": "4f73a861",
    "outputId": "63f0eb6b-6054-458f-88f1-89755e0591b7"
   },
   "outputs": [
    {
     "name": "stdout",
     "output_type": "stream",
     "text": [
      "TensoFlow version: 2.4.1\n"
     ]
    }
   ],
   "source": [
    "print(f\"TensoFlow version: {tf.__version__}\")"
   ]
  },
  {
   "cell_type": "code",
   "execution_count": null,
   "metadata": {
    "id": "95fa4af4"
   },
   "outputs": [],
   "source": []
  },
  {
   "cell_type": "code",
   "execution_count": 3,
   "metadata": {
    "colab": {
     "base_uri": "https://localhost:8080/"
    },
    "id": "f1995a53",
    "outputId": "75cf94c2-6499-4f44-b5c7-7f9314e34d1c"
   },
   "outputs": [
    {
     "name": "stdout",
     "output_type": "stream",
     "text": [
      "env: CUDA_DEVICE_ORDER=PCI_BUS_ID\n",
      "env: CUDA_VISIBLE_DEVICES=2\n"
     ]
    }
   ],
   "source": [
    "%env CUDA_DEVICE_ORDER=PCI_BUS_ID\n",
    "%env CUDA_VISIBLE_DEVICES = 2"
   ]
  },
  {
   "cell_type": "code",
   "execution_count": null,
   "metadata": {
    "id": "550c51b5"
   },
   "outputs": [],
   "source": []
  },
  {
   "cell_type": "code",
   "execution_count": 4,
   "metadata": {
    "id": "3bf35735"
   },
   "outputs": [],
   "source": [
    "batch_size = 64\n",
    "num_classes = 10\n",
    "# num_epochs = 145\n",
    "num_epochs = 60"
   ]
  },
  {
   "cell_type": "code",
   "execution_count": 5,
   "metadata": {
    "id": "0d7aa014"
   },
   "outputs": [],
   "source": [
    "weight_decay = 0.0005"
   ]
  },
  {
   "cell_type": "code",
   "execution_count": 6,
   "metadata": {
    "colab": {
     "base_uri": "https://localhost:8080/"
    },
    "id": "e55f74f2",
    "outputId": "595b8813-6985-4bfb-f574-77dae4ca124e"
   },
   "outputs": [],
   "source": [
    "# Data preprocessing and cleaning:\n",
    "# input image dimensions\n",
    "img_rows, img_cols = 32, 32\n",
    "\n",
    "# Load CIFAR-10 dataset-\n",
    "(X_train, y_train), (X_test, y_test) = tf.keras.datasets.cifar10.load_data()\n",
    "\n",
    "# Load CIFAR-100 dataset-\n",
    "# (X_train, y_train), (X_test, y_test) = tf.keras.datasets.cifar100.load_data()"
   ]
  },
  {
   "cell_type": "code",
   "execution_count": 7,
   "metadata": {
    "colab": {
     "base_uri": "https://localhost:8080/"
    },
    "id": "b2478468",
    "outputId": "0a3081ed-c7c7-4fd4-ed7d-66bae982d82c"
   },
   "outputs": [
    {
     "name": "stdout",
     "output_type": "stream",
     "text": [
      "\n",
      "'input_shape' which will be used = (32, 32, 3)\n",
      "\n"
     ]
    }
   ],
   "source": [
    "if tf.keras.backend.image_data_format() == 'channels_first':\n",
    "    X_train = X_train.reshape(X_train.shape[0], 3, img_rows, img_cols)\n",
    "    X_test = X_test.reshape(X_test.shape[0], 3, img_rows, img_cols)\n",
    "    input_shape = (3, img_rows, img_cols)\n",
    "else:\n",
    "    X_train = X_train.reshape(X_train.shape[0], img_rows, img_cols, 3)\n",
    "    X_test = X_test.reshape(X_test.shape[0], img_rows, img_cols, 3)\n",
    "    input_shape = (img_rows, img_cols, 3)\n",
    "\n",
    "print(\"\\n'input_shape' which will be used = {0}\\n\".format(input_shape))"
   ]
  },
  {
   "cell_type": "code",
   "execution_count": 8,
   "metadata": {
    "id": "3df56a26"
   },
   "outputs": [],
   "source": [
    "# Convert datasets to floating point types-\n",
    "X_train = X_train.astype('float32')\n",
    "X_test = X_test.astype('float32')\n",
    "\n",
    "# Normalize the training and testing datasets-\n",
    "X_train /= 255.0\n",
    "X_test /= 255.0"
   ]
  },
  {
   "cell_type": "code",
   "execution_count": 9,
   "metadata": {
    "id": "8e1e166f"
   },
   "outputs": [],
   "source": [
    "# convert class vectors/target to binary class matrices or one-hot encoded values-\n",
    "y_train = tf.keras.utils.to_categorical(y_train, num_classes)\n",
    "y_test = tf.keras.utils.to_categorical(y_test, num_classes)"
   ]
  },
  {
   "cell_type": "code",
   "execution_count": 10,
   "metadata": {
    "colab": {
     "base_uri": "https://localhost:8080/"
    },
    "id": "c774a846",
    "outputId": "9bb0d068-99bf-495a-9f7b-1a9b568bcb54"
   },
   "outputs": [
    {
     "name": "stdout",
     "output_type": "stream",
     "text": [
      "\n",
      "Dimensions of training and testing sets are:\n",
      "X_train.shape = (50000, 32, 32, 3), y_train.shape = (50000, 10)\n",
      "X_test.shape = (10000, 32, 32, 3), y_test.shape = (10000, 10)\n"
     ]
    }
   ],
   "source": [
    "print(\"\\nDimensions of training and testing sets are:\")\n",
    "print(\"X_train.shape = {0}, y_train.shape = {1}\".format(X_train.shape, y_train.shape))\n",
    "print(\"X_test.shape = {0}, y_test.shape = {1}\".format(X_test.shape, y_test.shape))"
   ]
  },
  {
   "cell_type": "code",
   "execution_count": null,
   "metadata": {
    "id": "f0363635"
   },
   "outputs": [],
   "source": []
  },
  {
   "cell_type": "code",
   "execution_count": null,
   "metadata": {
    "id": "44fe89e5"
   },
   "outputs": [],
   "source": []
  },
  {
   "cell_type": "markdown",
   "metadata": {
    "id": "0fe2a970"
   },
   "source": [
    "### Prepare CIFAR10 dataset for TensorFlow _GradientTape_ training:"
   ]
  },
  {
   "cell_type": "code",
   "execution_count": 11,
   "metadata": {
    "id": "33272085"
   },
   "outputs": [],
   "source": [
    "# Create training and testing datasets-\n",
    "train_dataset = tf.data.Dataset.from_tensor_slices((X_train, y_train))\n",
    "test_dataset = tf.data.Dataset.from_tensor_slices((X_test, y_test))"
   ]
  },
  {
   "cell_type": "code",
   "execution_count": 12,
   "metadata": {
    "id": "f5e88856"
   },
   "outputs": [],
   "source": [
    "train_dataset = train_dataset.shuffle(buffer_size = 20000, reshuffle_each_iteration = True).batch(batch_size = batch_size, drop_remainder = False)"
   ]
  },
  {
   "cell_type": "code",
   "execution_count": 13,
   "metadata": {
    "id": "b59dc84a"
   },
   "outputs": [],
   "source": [
    "test_dataset = test_dataset.batch(batch_size=batch_size, drop_remainder=False)"
   ]
  },
  {
   "cell_type": "code",
   "execution_count": 14,
   "metadata": {
    "id": "7b3e409f"
   },
   "outputs": [],
   "source": [
    "# Choose loss function for training-\n",
    "loss_fn = tf.keras.losses.CategoricalCrossentropy()\n",
    "\n",
    "# optimizer = tf.keras.optimizers.SGD(learning_rate=0.001, momentum=0.9)\n",
    "# optimizer = tf.keras.optimizers.SGD(learning_rate = 0.01, momentum = 0.9)"
   ]
  },
  {
   "cell_type": "code",
   "execution_count": 15,
   "metadata": {
    "id": "9fe0379c"
   },
   "outputs": [],
   "source": [
    "# Select metrics to measure the error & accuracy of model.\n",
    "# These metrics accumulate the values over epochs and then\n",
    "# print the overall result-\n",
    "train_loss = tf.keras.metrics.Mean(name = 'train_loss')\n",
    "train_accuracy = tf.keras.metrics.CategoricalAccuracy(name = 'train_accuracy')\n",
    "\n",
    "test_loss = tf.keras.metrics.Mean(name = 'test_loss')\n",
    "test_accuracy = tf.keras.metrics.CategoricalAccuracy(name = 'test_accuracy')"
   ]
  },
  {
   "cell_type": "code",
   "execution_count": null,
   "metadata": {
    "id": "c8fc17a9"
   },
   "outputs": [],
   "source": []
  },
  {
   "cell_type": "code",
   "execution_count": null,
   "metadata": {
    "id": "d93907b7"
   },
   "outputs": [],
   "source": []
  },
  {
   "cell_type": "markdown",
   "metadata": {
    "id": "48cd0104"
   },
   "source": [
    "### Learning Rate Schedule:\n",
    "\n",
    "Training size = 50,000 and batch size = 64. Number of training iterations/steps in one epoch = 781.25.\n",
    "\n",
    "62,500 iterations has 80 epochs and 93,750 iterations has 120 epochs.\n",
    "\n",
    "\n",
    "The learning rate schedule is as follows-\n",
    "\n",
    "1. For the first 62,5001 training steps, use a learning rate of 0.01\n",
    "\n",
    "1. For the next 31,250 training steps, use a learning rate of 0.001\n",
    "\n",
    "1. For any remaing training steps, use a learning rate of 0.0001"
   ]
  },
  {
   "cell_type": "code",
   "execution_count": null,
   "metadata": {
    "id": "1a4899d6"
   },
   "outputs": [],
   "source": [
    "'''\n",
    "boundaries = [62500, 93750]\n",
    "values = [0.01, 0.001, 0.0001]\n",
    "\n",
    "learning_rate_fn = tf.keras.optimizers.schedules.PiecewiseConstantDecay(boundaries, values)\n",
    "\n",
    "# optimizer = tf.keras.optimizers.Adam(learning_rate=learning_rate_fn)\n",
    "# optimizer = tf.keras.optimizers.Adam(learning_rate=0.0012)\n",
    "\n",
    "optimizer = tf.keras.optimizers.SGD(learning_rate=learning_rate_fn, momentum=0.9)\n",
    "'''"
   ]
  },
  {
   "cell_type": "code",
   "execution_count": null,
   "metadata": {
    "id": "d8144a3e"
   },
   "outputs": [],
   "source": []
  },
  {
   "cell_type": "code",
   "execution_count": null,
   "metadata": {
    "id": "32c0c6a3"
   },
   "outputs": [],
   "source": []
  },
  {
   "cell_type": "code",
   "execution_count": 16,
   "metadata": {
    "id": "0e5ce50c"
   },
   "outputs": [],
   "source": [
    "def vgg18_nn():\n",
    "    '''\n",
    "    Function to define the architecture of a convolutional neural network\n",
    "    model following VGG-19 architecture for CIFAR-10 dataset.\n",
    "    \n",
    "    Vgg-19 architecture-\n",
    "    64, 64, pool                 -- convolutional layers\n",
    "    128, 128, pool               -- convolutional layers\n",
    "    256, 256, 256, 256, max-pool -- convolutional layers\n",
    "    512, 512, 512, 512, max-pool -- convolutional layers\n",
    "    512, 512, 512, 512, avg-pool -- convolutional layers\n",
    "    10                           -- fully connected layers\n",
    "    \n",
    "    Output: Returns designed and compiled convolutional neural network model\n",
    "    '''\n",
    "\n",
    "    # l = tf.keras.layers\n",
    "    \n",
    "    model = Sequential()\n",
    "    \n",
    "    model.add(\n",
    "    Conv2D(\n",
    "            filters = 64, kernel_size = (3, 3),\n",
    "            activation='relu', kernel_initializer = tf.initializers.he_normal(),\n",
    "            strides = (1, 1), padding = 'same', kernel_regularizer = regularizers.l2(weight_decay),\n",
    "            input_shape=(32, 32, 3)\n",
    "        )\n",
    "    )\n",
    "\n",
    "    model.add(BatchNormalization())\n",
    "    # model.add(Dropout(0.3))\n",
    "    \n",
    "    model.add(\n",
    "    Conv2D(\n",
    "            filters = 64, kernel_size = (3, 3),\n",
    "            activation='relu', kernel_initializer = tf.initializers.he_normal(),\n",
    "            strides = (1, 1), padding = 'same',\n",
    "            kernel_regularizer = regularizers.l2(weight_decay)\n",
    "        )\n",
    "    )\n",
    "    \n",
    "    model.add(BatchNormalization())\n",
    "    \n",
    "    model.add(\n",
    "    MaxPooling2D(\n",
    "            pool_size = (2, 2),\n",
    "            strides = (2, 2)\n",
    "        )\n",
    "    )\n",
    "    \n",
    "    model.add(\n",
    "    Conv2D(\n",
    "            filters = 128, kernel_size = (3, 3),\n",
    "            activation='relu', kernel_initializer = tf.initializers.he_normal(),\n",
    "            strides = (1, 1), padding = 'same',\n",
    "            kernel_regularizer = regularizers.l2(weight_decay)\n",
    "        )\n",
    "    )\n",
    "    \n",
    "    model.add(BatchNormalization())\n",
    "    # model.add(Dropout(0.4))\n",
    "    \n",
    "    model.add(\n",
    "    Conv2D(\n",
    "            filters = 128, kernel_size = (3, 3),\n",
    "            activation='relu', kernel_initializer = tf.initializers.he_normal(),\n",
    "            strides = (1, 1), padding = 'same',\n",
    "            kernel_regularizer = regularizers.l2(weight_decay)\n",
    "        )\n",
    "    )\n",
    "    \n",
    "    model.add(BatchNormalization())\n",
    "    \n",
    "    model.add(\n",
    "    MaxPooling2D(\n",
    "            pool_size = (2, 2),\n",
    "            strides = (2, 2)\n",
    "        )\n",
    "    )\n",
    "    \n",
    "    model.add(\n",
    "    Conv2D(\n",
    "            filters = 256, kernel_size = (3, 3),\n",
    "            activation='relu', kernel_initializer = tf.initializers.he_normal(),\n",
    "            strides = (1, 1), padding = 'same',\n",
    "            kernel_regularizer = regularizers.l2(weight_decay)\n",
    "        )\n",
    "    )\n",
    "    \n",
    "    model.add(BatchNormalization())\n",
    "    # model.add(Dropout(0.4))\n",
    "    \n",
    "    model.add(\n",
    "    Conv2D(\n",
    "            filters = 256, kernel_size = (3, 3),\n",
    "            activation='relu', kernel_initializer = tf.initializers.he_normal(),\n",
    "            strides = (1, 1), padding = 'same',\n",
    "            kernel_regularizer = regularizers.l2(weight_decay)\n",
    "        )\n",
    "    )\n",
    "    \n",
    "    model.add(BatchNormalization())\n",
    "    # model.add(Dropout(0.4))\n",
    "    \n",
    "    model.add(\n",
    "    Conv2D(\n",
    "            filters = 256, kernel_size = (3, 3),\n",
    "            activation='relu', kernel_initializer = tf.initializers.he_normal(),\n",
    "            strides = (1, 1), padding = 'same',\n",
    "            kernel_regularizer = regularizers.l2(weight_decay)\n",
    "        )\n",
    "    )\n",
    "    \n",
    "    model.add(BatchNormalization())\n",
    "    # model.add(Dropout(0.4))\n",
    "    \n",
    "    model.add(\n",
    "    Conv2D(\n",
    "            filters = 256, kernel_size = (3, 3),\n",
    "            activation='relu', kernel_initializer = tf.initializers.he_normal(),\n",
    "            strides = (1, 1), padding = 'same',\n",
    "            kernel_regularizer = regularizers.l2(weight_decay)\n",
    "        )\n",
    "    )\n",
    "    \n",
    "    model.add(BatchNormalization())\n",
    "    \n",
    "    model.add(\n",
    "    MaxPooling2D(\n",
    "            pool_size = (2, 2),\n",
    "            strides = (2, 2)\n",
    "        )\n",
    "    )\n",
    "    \n",
    "    model.add(\n",
    "    Conv2D(\n",
    "            filters = 512, kernel_size = (3, 3),\n",
    "            activation='relu', kernel_initializer = tf.initializers.he_normal(),\n",
    "            strides = (1, 1), padding = 'same',\n",
    "            kernel_regularizer = regularizers.l2(weight_decay)\n",
    "        )\n",
    "    )\n",
    "    \n",
    "    model.add(BatchNormalization())\n",
    "    # model.add(Dropout(0.4))\n",
    "    \n",
    "    model.add(\n",
    "    Conv2D(\n",
    "            filters = 512, kernel_size = (3, 3),\n",
    "            activation='relu', kernel_initializer = tf.initializers.he_normal(),\n",
    "            strides = (1, 1), padding = 'same',\n",
    "            kernel_regularizer = regularizers.l2(weight_decay)\n",
    "        )\n",
    "    )\n",
    "    \n",
    "    model.add(BatchNormalization())\n",
    "    # model.add(Dropout(0.4))\n",
    "    \n",
    "    model.add(\n",
    "    Conv2D(\n",
    "            filters = 512, kernel_size = (3, 3),\n",
    "            activation='relu', kernel_initializer = tf.initializers.he_normal(),\n",
    "            strides = (1, 1), padding = 'same',\n",
    "            kernel_regularizer = regularizers.l2(weight_decay)\n",
    "        )\n",
    "    )\n",
    "    \n",
    "    model.add(BatchNormalization())\n",
    "    # model.add(Dropout(0.4))\n",
    "    \n",
    "    model.add(\n",
    "    Conv2D(\n",
    "            filters = 512, kernel_size = (3, 3),\n",
    "            activation='relu', kernel_initializer = tf.initializers.he_normal(),\n",
    "            strides = (1, 1), padding = 'same',\n",
    "            kernel_regularizer = regularizers.l2(weight_decay)\n",
    "        )\n",
    "    )\n",
    "    \n",
    "    model.add(BatchNormalization())\n",
    "    \n",
    "    model.add(\n",
    "    MaxPooling2D(\n",
    "            pool_size = (2, 2),\n",
    "            strides = (2, 2)\n",
    "        )\n",
    "    )\n",
    "    \n",
    "    model.add(\n",
    "    Conv2D(\n",
    "            filters = 512, kernel_size = (3, 3),\n",
    "            activation='relu', kernel_initializer = tf.initializers.he_normal(),\n",
    "            strides = (1, 1), padding = 'same',\n",
    "            kernel_regularizer = regularizers.l2(weight_decay)\n",
    "        )\n",
    "    )\n",
    "    \n",
    "    # model.add(BatchNormalization())\n",
    "    # model.add(Dropout(0.4))\n",
    "    \n",
    "    model.add(\n",
    "    Conv2D(\n",
    "            filters = 512, kernel_size = (3, 3),\n",
    "            activation='relu', kernel_initializer = tf.initializers.he_normal(),\n",
    "            strides = (1, 1), padding = 'same',\n",
    "            kernel_regularizer = regularizers.l2(weight_decay)\n",
    "        )\n",
    "    )\n",
    "    \n",
    "    model.add(BatchNormalization())\n",
    "    # model.add(Dropout(0.4))\n",
    "    \n",
    "    model.add(\n",
    "    Conv2D(\n",
    "            filters = 512, kernel_size = (3, 3),\n",
    "            activation='relu', kernel_initializer = tf.initializers.he_normal(),\n",
    "            strides = (1, 1), padding = 'same',\n",
    "            kernel_regularizer = regularizers.l2(weight_decay)\n",
    "        )\n",
    "    )\n",
    "    \n",
    "    model.add(BatchNormalization())\n",
    "    # model.add(Dropout(0.4))\n",
    "    \n",
    "    model.add(\n",
    "    Conv2D(\n",
    "            filters = 512, kernel_size = (3, 3),\n",
    "            activation='relu', kernel_initializer = tf.initializers.he_normal(),\n",
    "            strides = (1, 1), padding = 'same',\n",
    "            kernel_regularizer = regularizers.l2(weight_decay)\n",
    "        )\n",
    "    )\n",
    "    \n",
    "    model.add(BatchNormalization())\n",
    "    \n",
    "    \n",
    "    model.add(\n",
    "        # AveragePooling2D(\n",
    "        MaxPooling2D(\n",
    "            pool_size=(2, 2), strides=(2, 2)\n",
    "        )\n",
    "    )\n",
    "    \n",
    "    # model.add(Dropout(0.5))\n",
    "    \n",
    "    model.add(Flatten())\n",
    "    \n",
    "  \n",
    "    model.add(\n",
    "    Dense(\n",
    "            units = 512, activation='relu',\n",
    "            kernel_initializer = tf.initializers.he_normal(),\n",
    "            kernel_regularizer=regularizers.l2(weight_decay)\n",
    "        )\n",
    "    )\n",
    "    \n",
    "    # model.add(BatchNormalization())\n",
    "    # model.add(Dropout(0.5))\n",
    "    \n",
    "    '''\n",
    "    model.add(\n",
    "    Dense(\n",
    "            units = 256, activation='relu',\n",
    "            kernel_initializer = tf.initializers.he_normal()\n",
    "        )\n",
    "    )\n",
    "    \n",
    "    model.add(BatchNormalization())\n",
    "    \n",
    "    model.add(Dropout(0.4))\n",
    "    '''\n",
    "    \n",
    "    model.add(\n",
    "    Dense(\n",
    "            units = num_classes, activation='softmax'\n",
    "        )\n",
    "    )\n",
    "\n",
    "    \n",
    "    return model\n"
   ]
  },
  {
   "cell_type": "code",
   "execution_count": null,
   "metadata": {},
   "outputs": [],
   "source": []
  },
  {
   "cell_type": "code",
   "execution_count": 17,
   "metadata": {},
   "outputs": [],
   "source": [
    "class VGGBlock(Layer):\n",
    "    def __init__(self, num_filters = 32, use_four_block = False, weight_decay = 0.0005):\n",
    "        super(VGGBlock, self).__init__()\n",
    "\n",
    "        self.conv1 = Conv2D(\n",
    "            filters = num_filters, kernel_size = (3, 3),\n",
    "            kernel_initializer = tf.initializers.he_normal(),\n",
    "            strides = (1, 1), padding = 'same',\n",
    "            use_bias = False,\n",
    "            kernel_regularizer = regularizers.l2(weight_decay)\n",
    "            )\n",
    "        self.bn1 = BatchNormalization()\n",
    "        self.relu1 = Activation(tf.nn.relu)\n",
    "        \n",
    "        self.conv2 = Conv2D(\n",
    "            filters = num_filters, kernel_size = (3, 3),\n",
    "            kernel_initializer = tf.initializers.he_normal(),\n",
    "            strides = (1, 1), padding = 'same',\n",
    "            use_bias = False,\n",
    "            kernel_regularizer = regularizers.l2(weight_decay)\n",
    "            )\n",
    "        self.bn2 = BatchNormalization()\n",
    "        self.relu2 = Activation(tf.nn.relu)\n",
    "        \n",
    "        if use_four_block:\n",
    "            self.conv3 = Conv2D(\n",
    "                filters = num_filters, kernel_size = (3, 3),\n",
    "                kernel_initializer = tf.initializers.he_normal(),\n",
    "                strides = (1, 1), padding = 'same',\n",
    "                use_bias = False,\n",
    "                kernel_regularizer = regularizers.l2(weight_decay)\n",
    "            )\n",
    "            self.bn3 = BatchNormalization()\n",
    "            self.relu3 = Activation(tf.nn.relu)\n",
    "            \n",
    "            self.conv4 = Conv2D(\n",
    "                filters = num_filters, kernel_size = (3, 3),\n",
    "                kernel_initializer = tf.initializers.he_normal(),\n",
    "                strides = (1, 1), padding = 'same',\n",
    "                use_bias = False,\n",
    "                kernel_regularizer = regularizers.l2(weight_decay)\n",
    "            )\n",
    "            self.bn4 = BatchNormalization()\n",
    "            self.relu4 = Activation(tf.nn.relu)\n",
    "        else:\n",
    "            self.conv3 = None\n",
    "            \n",
    "        \n",
    "        self.pool = MaxPooling2D(\n",
    "            pool_size = (2, 2),\n",
    "            strides = (2, 2)\n",
    "            )\n",
    "        \n",
    "        # self.pool = tf.keras.layers.GlobalAveragePooling2D()\n",
    "\n",
    "\n",
    "    def call(self, inputs):\n",
    "        x = self.relu1(self.bn1(self.conv1(inputs)))\n",
    "        x = self.relu2(self.bn2(self.conv2(x)))\n",
    "        \n",
    "        # if use_four_block:\n",
    "        if self.conv3:\n",
    "            x = self.relu3(self.bn3(self.conv3(x)))\n",
    "            x = self.relu4(self.bn4(self.conv4(x)))\n",
    "        \n",
    "        return self.pool(x)\n",
    "\n"
   ]
  },
  {
   "cell_type": "code",
   "execution_count": null,
   "metadata": {},
   "outputs": [],
   "source": []
  },
  {
   "cell_type": "code",
   "execution_count": 21,
   "metadata": {},
   "outputs": [],
   "source": [
    "class VGG19(Model):\n",
    "    def __init__(self):\n",
    "        super(VGG19, self).__init__()\n",
    "        \n",
    "        self.block1 = VGGBlock(num_filters = 64)\n",
    "        self.block2 = VGGBlock(num_filters = 128)\n",
    "        self.block3 = VGGBlock(num_filters = 256, use_four_block = True)\n",
    "        self.block4 = VGGBlock(num_filters = 512, use_four_block = True)\n",
    "        self.block5 = VGGBlock(num_filters = 512, use_four_block = True)\n",
    "        \n",
    "        weight_decay = 0.0005\n",
    "        \n",
    "        self.flatten = Flatten()\n",
    "        self.dense1 =  Dense(\n",
    "            units = 512, kernel_initializer = tf.initializers.he_normal(),\n",
    "            kernel_regularizer = regularizers.l2(weight_decay)\n",
    "            )\n",
    "        # self.bn_dense = BatchNormalization()\n",
    "        self.relu_dense = Activation(tf.nn.relu)\n",
    "        # self.dropout_dense = Dropout(0.5)\n",
    "        \n",
    "        '''\n",
    "        self.dense2 = Dense(\n",
    "            units = 256, kernel_initializer = tf.initializers.he_normal()\n",
    "            )\n",
    "        self.relu2 = Activation(tf.nn.relu)\n",
    "        # self.dropout2 = Dropout(0.4)\n",
    "        '''\n",
    "\n",
    "        self.op = Dense(\n",
    "            units = num_classes, activation = 'softmax'\n",
    "            )\n",
    "    \n",
    "    \n",
    "    def call(self, inputs):\n",
    "        x = self.block1(inputs)\n",
    "        x = self.block2(x)\n",
    "        x = self.block3(x)\n",
    "        x = self.block4(x)\n",
    "        x = self.block5(x)\n",
    "        x = self.flatten(x)\n",
    "        # x = self.dropout1(self.relu1(self.dense1(x)))\n",
    "        x = self.relu_dense(self.dense1(x))\n",
    "        # x = self.dropout2(self.relu2(self.dense2(x)))\n",
    "        # x = self.relu2(self.dense2(x))\n",
    "        return self.op(x)\n",
    "    \n",
    "    \n",
    "    def model(self):\n",
    "        '''\n",
    "        Overrides 'model()' call.\n",
    "        Output shape is not well-defined when using sub-classing. As a\n",
    "        workaround, this method is implemeted.\n",
    "        '''\n",
    "        x = Input(shape = (32, 32, 3))\n",
    "        return Model(inputs = [x], outputs = self.call(x))\n",
    "\n"
   ]
  },
  {
   "cell_type": "code",
   "execution_count": null,
   "metadata": {},
   "outputs": [],
   "source": []
  },
  {
   "cell_type": "code",
   "execution_count": 22,
   "metadata": {
    "id": "5c27dc2a"
   },
   "outputs": [],
   "source": [
    "# Initialize a CNN model-\n",
    "# orig_model = vgg18_nn()\n",
    "\n",
    "orig_model = VGG19()\n",
    "orig_model.build(input_shape = (None, 32, 32, 3))"
   ]
  },
  {
   "cell_type": "code",
   "execution_count": null,
   "metadata": {},
   "outputs": [],
   "source": []
  },
  {
   "cell_type": "code",
   "execution_count": 78,
   "metadata": {
    "id": "EKp9_swVtclz"
   },
   "outputs": [],
   "source": [
    "# Load random weights of defined CNN-\n",
    "# orig_model.load_weights(\"VGG18_Random_Weights_henormal_weight_decay_weights.h5\")"
   ]
  },
  {
   "cell_type": "code",
   "execution_count": 23,
   "metadata": {
    "id": "5b4f63f0"
   },
   "outputs": [],
   "source": [
    "# Save current weights-\n",
    "orig_model.save_weights(\"VGG18_batchnorm_random_weights.h5\", overwrite = True)"
   ]
  },
  {
   "cell_type": "code",
   "execution_count": null,
   "metadata": {
    "id": "fWX1t4lNtjTb"
   },
   "outputs": [],
   "source": []
  },
  {
   "cell_type": "code",
   "execution_count": 19,
   "metadata": {
    "id": "8e25e0a7"
   },
   "outputs": [],
   "source": [
    "# lr_decay = 1e-6"
   ]
  },
  {
   "cell_type": "code",
   "execution_count": null,
   "metadata": {
    "id": "7bdae4eb"
   },
   "outputs": [],
   "source": []
  },
  {
   "cell_type": "code",
   "execution_count": 27,
   "metadata": {
    "colab": {
     "base_uri": "https://localhost:8080/"
    },
    "id": "dd1f1659",
    "outputId": "cc01b417-0289-4e2f-ff55-d30de90cb6f0"
   },
   "outputs": [
    {
     "name": "stdout",
     "output_type": "stream",
     "text": [
      "Model: \"model_1\"\n",
      "_________________________________________________________________\n",
      "Layer (type)                 Output Shape              Param #   \n",
      "=================================================================\n",
      "input_2 (InputLayer)         [(None, 32, 32, 3)]       0         \n",
      "_________________________________________________________________\n",
      "vgg_block_2 (VGGBlock)       (None, 16, 16, 64)        39104     \n",
      "_________________________________________________________________\n",
      "vgg_block_3 (VGGBlock)       (None, 8, 8, 128)         222208    \n",
      "_________________________________________________________________\n",
      "vgg_block_4 (VGGBlock)       (None, 4, 4, 256)         2068480   \n",
      "_________________________________________________________________\n",
      "vgg_block_5 (VGGBlock)       (None, 2, 2, 512)         8265728   \n",
      "_________________________________________________________________\n",
      "vgg_block_6 (VGGBlock)       (None, 1, 1, 512)         9445376   \n",
      "_________________________________________________________________\n",
      "flatten (Flatten)            (None, 512)               0         \n",
      "_________________________________________________________________\n",
      "dense (Dense)                (None, 512)               262656    \n",
      "_________________________________________________________________\n",
      "activation_20 (Activation)   (None, 512)               0         \n",
      "_________________________________________________________________\n",
      "dense_1 (Dense)              (None, 10)                5130      \n",
      "=================================================================\n",
      "Total params: 20,308,682\n",
      "Trainable params: 20,297,674\n",
      "Non-trainable params: 11,008\n",
      "_________________________________________________________________\n"
     ]
    }
   ],
   "source": [
    "# Get CNN model summary-\n",
    "orig_model.model().summary()"
   ]
  },
  {
   "cell_type": "code",
   "execution_count": null,
   "metadata": {
    "id": "c009c4df"
   },
   "outputs": [],
   "source": []
  },
  {
   "cell_type": "code",
   "execution_count": null,
   "metadata": {
    "id": "e7b8b7fb"
   },
   "outputs": [],
   "source": []
  },
  {
   "cell_type": "markdown",
   "metadata": {
    "id": "82101f47"
   },
   "source": [
    "### Image Augmentation using _ImageDataGenerator_:\n",
    "\n",
    "Refer-\n",
    "https://www.tensorflow.org/api_docs/python/tf/keras/preprocessing/image/ImageDataGenerator#fit"
   ]
  },
  {
   "cell_type": "code",
   "execution_count": 28,
   "metadata": {
    "colab": {
     "base_uri": "https://localhost:8080/",
     "height": 54
    },
    "id": "4a1cb243",
    "outputId": "b134bb51-e26d-4738-b359-7805b5acb336"
   },
   "outputs": [
    {
     "data": {
      "text/plain": [
       "'\\nfor x, y in datagen.flow(X_train, y_train, batch_size=batch_size, shuffle=True):\\n\\tprint(x.shape, y.shape)\\n'"
      ]
     },
     "execution_count": 28,
     "metadata": {},
     "output_type": "execute_result"
    }
   ],
   "source": [
    "# Example of using 'tf.keras.preprocessing.image import ImageDataGenerator class's - flow(x, y)':\n",
    "datagen = ImageDataGenerator(\n",
    "    # featurewise_center=True,\n",
    "    # featurewise_std_normalization=True,\n",
    "    rotation_range = 15,\n",
    "    width_shift_range = 0.1, # 0.2\n",
    "    height_shift_range = 0.1, # 0.2\n",
    "    horizontal_flip = True\n",
    ")\n",
    "\n",
    "\n",
    "# flow():\n",
    "# Takes data & label arrays, generates batches of augmented data.\n",
    "\n",
    "# datagen.flow(X_train, y_train, batch_size=batch_size, shuffle=True)\n",
    "'''\n",
    "for x, y in datagen.flow(X_train, y_train, batch_size=batch_size, shuffle=True):\n",
    "\tprint(x.shape, y.shape)\n",
    "'''"
   ]
  },
  {
   "cell_type": "code",
   "execution_count": 29,
   "metadata": {
    "id": "a1f8f18d"
   },
   "outputs": [],
   "source": [
    "# compute quantities required for featurewise normalization\n",
    "# (std, mean, and principal components if ZCA whitening is applied)\n",
    "datagen.fit(X_train)"
   ]
  },
  {
   "cell_type": "code",
   "execution_count": null,
   "metadata": {
    "id": "22a1a607"
   },
   "outputs": [],
   "source": []
  },
  {
   "cell_type": "code",
   "execution_count": null,
   "metadata": {
    "id": "925d5dc9"
   },
   "outputs": [],
   "source": []
  },
  {
   "cell_type": "code",
   "execution_count": 30,
   "metadata": {
    "colab": {
     "base_uri": "https://localhost:8080/"
    },
    "id": "dd152d91",
    "outputId": "52736182-246c-410c-9f3c-4b49508f0512"
   },
   "outputs": [
    {
     "name": "stdout",
     "output_type": "stream",
     "text": [
      "\n",
      "Number of training weights = 20297674 and non-trainabel weights = 11008\n",
      "\n",
      "Total number of parameters = 20308682\n",
      "\n"
     ]
    }
   ],
   "source": [
    "import tensorflow.keras.backend as K\n",
    "\n",
    "\n",
    "# METHOD-1: This also counts biases\n",
    "trainable_wts = np.sum([K.count_params(w) for w in orig_model.trainable_weights])\n",
    "non_trainable_wts = np.sum([K.count_params(w) for w in orig_model.non_trainable_weights])\n",
    "\n",
    "print(\"\\nNumber of training weights = {0} and non-trainabel weights = {1}\\n\".format(\n",
    "    trainable_wts, non_trainable_wts\n",
    "))\n",
    "print(\"Total number of parameters = {0}\\n\".format(trainable_wts + non_trainable_wts))\n"
   ]
  },
  {
   "cell_type": "code",
   "execution_count": null,
   "metadata": {
    "id": "890dc832"
   },
   "outputs": [],
   "source": []
  },
  {
   "cell_type": "code",
   "execution_count": 31,
   "metadata": {
    "colab": {
     "base_uri": "https://localhost:8080/"
    },
    "id": "316af289",
    "outputId": "a185eedd-c366-4f0a-c8b5-b0f2d3c63089"
   },
   "outputs": [
    {
     "name": "stdout",
     "output_type": "stream",
     "text": [
      "layer.shape = (3, 3, 3, 64) has 1728 trainable weights\n",
      "layer.shape = (64,) has 64 trainable weights\n",
      "layer.shape = (64,) has 0 trainable weights\n",
      "layer.shape = (3, 3, 64, 64) has 36864 trainable weights\n",
      "layer.shape = (64,) has 64 trainable weights\n",
      "layer.shape = (64,) has 0 trainable weights\n",
      "layer.shape = (3, 3, 64, 128) has 73728 trainable weights\n",
      "layer.shape = (128,) has 128 trainable weights\n",
      "layer.shape = (128,) has 0 trainable weights\n",
      "layer.shape = (3, 3, 128, 128) has 147456 trainable weights\n",
      "layer.shape = (128,) has 128 trainable weights\n",
      "layer.shape = (128,) has 0 trainable weights\n",
      "layer.shape = (3, 3, 128, 256) has 294912 trainable weights\n",
      "layer.shape = (256,) has 256 trainable weights\n",
      "layer.shape = (256,) has 0 trainable weights\n",
      "layer.shape = (3, 3, 256, 256) has 589824 trainable weights\n",
      "layer.shape = (256,) has 256 trainable weights\n",
      "layer.shape = (256,) has 0 trainable weights\n",
      "layer.shape = (3, 3, 256, 256) has 589824 trainable weights\n",
      "layer.shape = (256,) has 256 trainable weights\n",
      "layer.shape = (256,) has 0 trainable weights\n",
      "layer.shape = (3, 3, 256, 256) has 589824 trainable weights\n",
      "layer.shape = (256,) has 256 trainable weights\n",
      "layer.shape = (256,) has 0 trainable weights\n",
      "layer.shape = (3, 3, 256, 512) has 1179648 trainable weights\n",
      "layer.shape = (512,) has 512 trainable weights\n",
      "layer.shape = (512,) has 0 trainable weights\n",
      "layer.shape = (3, 3, 512, 512) has 2359296 trainable weights\n",
      "layer.shape = (512,) has 512 trainable weights\n",
      "layer.shape = (512,) has 0 trainable weights\n",
      "layer.shape = (3, 3, 512, 512) has 2359296 trainable weights\n",
      "layer.shape = (512,) has 512 trainable weights\n",
      "layer.shape = (512,) has 0 trainable weights\n",
      "layer.shape = (3, 3, 512, 512) has 2359296 trainable weights\n",
      "layer.shape = (512,) has 512 trainable weights\n",
      "layer.shape = (512,) has 0 trainable weights\n",
      "layer.shape = (3, 3, 512, 512) has 2359296 trainable weights\n",
      "layer.shape = (512,) has 512 trainable weights\n",
      "layer.shape = (512,) has 0 trainable weights\n",
      "layer.shape = (3, 3, 512, 512) has 2359296 trainable weights\n",
      "layer.shape = (512,) has 512 trainable weights\n",
      "layer.shape = (512,) has 0 trainable weights\n",
      "layer.shape = (3, 3, 512, 512) has 2359296 trainable weights\n",
      "layer.shape = (512,) has 512 trainable weights\n",
      "layer.shape = (512,) has 0 trainable weights\n",
      "layer.shape = (3, 3, 512, 512) has 2359296 trainable weights\n",
      "layer.shape = (512,) has 512 trainable weights\n",
      "layer.shape = (512,) has 0 trainable weights\n",
      "layer.shape = (512, 512) has 262144 trainable weights\n",
      "layer.shape = (512,) has 0 trainable weights\n",
      "layer.shape = (512, 10) has 5120 trainable weights\n",
      "layer.shape = (10,) has 0 trainable weights\n",
      "\n",
      "VGG-18 has a total of 20291648 trainable parameters\n",
      "\n"
     ]
    }
   ],
   "source": [
    "tot_trainable_params = 0\n",
    "\n",
    "for layer in orig_model.trainable_weights:\n",
    "    loc_params = tf.math.count_nonzero(layer, axis = None).numpy()\n",
    "    print(\"layer.shape = {0} has {1} trainable weights\".format(layer.shape, loc_params))\n",
    "    tot_trainable_params += loc_params\n",
    "    \n",
    "print(\"\\nVGG-18 has a total of {0} trainable parameters\\n\".format(tot_trainable_params))"
   ]
  },
  {
   "cell_type": "code",
   "execution_count": null,
   "metadata": {
    "id": "c4de0687"
   },
   "outputs": [],
   "source": []
  },
  {
   "cell_type": "code",
   "execution_count": 32,
   "metadata": {
    "colab": {
     "base_uri": "https://localhost:8080/"
    },
    "id": "29e56cc0",
    "outputId": "4befce51-c6fd-488a-ee60-0f37289ede18"
   },
   "outputs": [
    {
     "name": "stdout",
     "output_type": "stream",
     "text": [
      "\n",
      "According to tf.keras.backend: Number of training weights = 20297674, non-trainabel weights = 11008 and total number of parameters = 20308682\n",
      "\n",
      "According to tf.math.count_nonzero() method, total number of trainable weights = 20291648\n",
      "\n"
     ]
    }
   ],
   "source": [
    "print(\"\\nAccording to tf.keras.backend: Number of training weights = {0}, non-trainabel weights = {1} and total number of parameters = {2}\\n\".format(\n",
    "    trainable_wts, non_trainable_wts, (trainable_wts + non_trainable_wts)\n",
    "))\n",
    "\n",
    "print(\"According to tf.math.count_nonzero() method, total number of trainable weights = {0}\\n\".format(tot_trainable_params))"
   ]
  },
  {
   "cell_type": "code",
   "execution_count": null,
   "metadata": {
    "id": "889821c7"
   },
   "outputs": [],
   "source": []
  },
  {
   "cell_type": "code",
   "execution_count": null,
   "metadata": {
    "id": "57854422"
   },
   "outputs": [],
   "source": []
  },
  {
   "cell_type": "code",
   "execution_count": 34,
   "metadata": {
    "id": "ab05f13b"
   },
   "outputs": [
    {
     "data": {
      "text/plain": [
       "'\\n# For each layer, for each weight which is 0, leave it, as is.\\n# And for weights which survive the pruning,reinitialize it to ONE (1)-\\nfor wts in mask_model.trainable_weights:\\n    wts.assign(tf.where(tf.equal(wts, 0.), 0., 1.))\\n'"
      ]
     },
     "execution_count": 34,
     "metadata": {},
     "output_type": "execute_result"
    }
   ],
   "source": [
    "# Create mask for original, unpruned model-\n",
    "# mask_model = vgg18_nn()\n",
    "mask_model = VGG19()\n",
    "mask_model.build(input_shape = (None, 32, 32, 3))\n",
    "\n",
    "\n",
    "# Assign all masks to one-\n",
    "for wts in mask_model.trainable_weights:\n",
    "    wts.assign(\n",
    "        tf.ones_like(input = wts, dtype = tf.float32\n",
    "                    )\n",
    "    )\n",
    "\n",
    "'''\n",
    "# For each layer, for each weight which is 0, leave it, as is.\n",
    "# And for weights which survive the pruning,reinitialize it to ONE (1)-\n",
    "for wts in mask_model.trainable_weights:\n",
    "    wts.assign(tf.where(tf.equal(wts, 0.), 0., 1.))\n",
    "'''"
   ]
  },
  {
   "cell_type": "code",
   "execution_count": 35,
   "metadata": {
    "colab": {
     "base_uri": "https://localhost:8080/"
    },
    "id": "b6986df1",
    "outputId": "a184c7d3-4c2f-45a1-9ebb-15a4cd8131e8"
   },
   "outputs": [
    {
     "name": "stdout",
     "output_type": "stream",
     "text": [
      "\n",
      "number of non-zero masks = 20297674\n",
      "\n"
     ]
    }
   ],
   "source": [
    "# Sanity check-\n",
    "mask_params = 0\n",
    "\n",
    "for layer in mask_model.trainable_weights:\n",
    "    loc_params = tf.math.count_nonzero(layer, axis = None).numpy()\n",
    "    mask_params += loc_params\n",
    "    \n",
    "print(\"\\nnumber of non-zero masks = {0}\\n\".format(mask_params))\n",
    "# VGG-19 has a total of 20292095 trainable parameters"
   ]
  },
  {
   "cell_type": "code",
   "execution_count": 36,
   "metadata": {
    "colab": {
     "base_uri": "https://localhost:8080/"
    },
    "id": "d2a8ea88",
    "outputId": "aae37faf-90a6-4a9f-8383-cca82d6057bf"
   },
   "outputs": [
    {
     "data": {
      "text/plain": [
       "False"
      ]
     },
     "execution_count": 36,
     "metadata": {},
     "output_type": "execute_result"
    }
   ],
   "source": [
    "mask_params == tot_trainable_params"
   ]
  },
  {
   "cell_type": "code",
   "execution_count": null,
   "metadata": {
    "id": "466b9c8b"
   },
   "outputs": [],
   "source": []
  },
  {
   "cell_type": "code",
   "execution_count": null,
   "metadata": {
    "id": "9861c1f3"
   },
   "outputs": [],
   "source": []
  },
  {
   "cell_type": "code",
   "execution_count": 37,
   "metadata": {
    "id": "KHnHHS9JvQ-W"
   },
   "outputs": [],
   "source": [
    "def count_params(model):\n",
    "    model_sum_params = 0\n",
    "\n",
    "    for layer in model.trainable_weights:\n",
    "        # print(tf.math.count_nonzero(layer, axis = None).numpy())\n",
    "        model_sum_params += tf.math.count_nonzero(layer, axis = None).numpy()\n",
    "    \n",
    "    return model_sum_params\n",
    "    "
   ]
  },
  {
   "cell_type": "code",
   "execution_count": 38,
   "metadata": {
    "colab": {
     "base_uri": "https://localhost:8080/"
    },
    "id": "3ce2777b",
    "outputId": "b2020682-4e7e-4acf-df50-b4e6d7c18fe8"
   },
   "outputs": [
    {
     "name": "stdout",
     "output_type": "stream",
     "text": [
      "VGG-18 has 20291648 trainable parameters\n"
     ]
    }
   ],
   "source": [
    "# Sanity check-\n",
    "print(f\"VGG-18 has {count_params(orig_model)} trainable parameters\")"
   ]
  },
  {
   "cell_type": "code",
   "execution_count": null,
   "metadata": {
    "id": "j7Np5tjOvk3l"
   },
   "outputs": [],
   "source": []
  },
  {
   "cell_type": "code",
   "execution_count": null,
   "metadata": {
    "id": "0924b97d"
   },
   "outputs": [],
   "source": []
  },
  {
   "cell_type": "code",
   "execution_count": 39,
   "metadata": {},
   "outputs": [],
   "source": [
    "# Compile defined CNN-\n",
    "orig_model.compile(\n",
    "    loss=tf.keras.losses.categorical_crossentropy,\n",
    "    optimizer = tf.keras.optimizers.SGD(learning_rate = 0.1, momentum = 0.9),\n",
    "    # optimizer = tf.keras.optimizers.SGD(learning_rate = learning_rate_fn, momentum = 0.9),\n",
    "    metrics=['accuracy']\n",
    ")"
   ]
  },
  {
   "cell_type": "code",
   "execution_count": null,
   "metadata": {},
   "outputs": [],
   "source": []
  },
  {
   "cell_type": "code",
   "execution_count": null,
   "metadata": {},
   "outputs": [],
   "source": []
  },
  {
   "cell_type": "markdown",
   "metadata": {},
   "source": [
    "### Learning rate warmup:\n",
    "\n",
    "Using a large learning rate may result in numerical instability especially at the very beginning of training where parameters are randomly initialized. The warmup strategy increases the learning rate from 0 to the initial learning rate linearly during the initial __N__ epochs or __m__ batches.\n",
    "\n",
    "Even though Keras already came with the _LearningRateScheduler_ capable of updating the learning rate for each training epoch, in order to achieve finer updates for each batch, the following code is how you can implement a custom Keras callback to do that."
   ]
  },
  {
   "cell_type": "code",
   "execution_count": 41,
   "metadata": {},
   "outputs": [],
   "source": [
    "from typing import Callable, List, Optional, Union"
   ]
  },
  {
   "cell_type": "code",
   "execution_count": 42,
   "metadata": {},
   "outputs": [],
   "source": [
    "class WarmUp(tf.keras.optimizers.schedules.LearningRateSchedule):\n",
    "    \"\"\"\n",
    "    Applies a warmup schedule on a given learning rate decay schedule.\n",
    "\n",
    "    Args:\n",
    "        initial_learning_rate (:obj:`float`):\n",
    "            The initial learning rate for the schedule after the warmup (so this will be the learning rate at the end\n",
    "            of the warmup).\n",
    "            \n",
    "        decay_schedule_fn (:obj:`Callable`):\n",
    "            The schedule function to apply after the warmup for the rest of training.\n",
    "        \n",
    "        warmup_steps (:obj:`int`):\n",
    "            The number of steps for the warmup part of training.\n",
    "        \n",
    "        power (:obj:`float`, `optional`, defaults to 1):\n",
    "            The power to use for the polynomial warmup (defaults is a linear warmup).\n",
    "        \n",
    "        name (:obj:`str`, `optional`):\n",
    "            Optional name prefix for the returned tensors during the schedule.\n",
    "    \"\"\"\n",
    "\n",
    "    def __init__(\n",
    "        self,\n",
    "        initial_learning_rate: float,\n",
    "        decay_schedule_fn: Callable,\n",
    "        warmup_steps: int,\n",
    "        power: float = 1.0,\n",
    "        name: str = None,\n",
    "    ):\n",
    "        super().__init__()\n",
    "        self.initial_learning_rate = initial_learning_rate\n",
    "        self.warmup_steps = warmup_steps\n",
    "        self.power = power\n",
    "        self.decay_schedule_fn = decay_schedule_fn\n",
    "        self.name = name\n",
    "\n",
    "    def __call__(self, step):\n",
    "        with tf.name_scope(self.name or \"WarmUp\") as name:\n",
    "            # Implements polynomial warmup. i.e., if global_step < warmup_steps, the\n",
    "            # learning rate will be `global_step/num_warmup_steps * init_lr`.\n",
    "            global_step_float = tf.cast(step, tf.float32)\n",
    "            warmup_steps_float = tf.cast(self.warmup_steps, tf.float32)\n",
    "            warmup_percent_done = global_step_float / warmup_steps_float\n",
    "            warmup_learning_rate = self.initial_learning_rate * tf.math.pow(warmup_percent_done, self.power)\n",
    "            return tf.cond(\n",
    "                global_step_float < warmup_steps_float,\n",
    "                lambda: warmup_learning_rate,\n",
    "                lambda: self.decay_schedule_fn(step - self.warmup_steps),\n",
    "                name=name,\n",
    "            )\n",
    "\n",
    "    def get_config(self):\n",
    "        return {\n",
    "            \"initial_learning_rate\": self.initial_learning_rate,\n",
    "            \"decay_schedule_fn\": self.decay_schedule_fn,\n",
    "            \"warmup_steps\": self.warmup_steps,\n",
    "            \"power\": self.power,\n",
    "            \"name\": self.name,\n",
    "        }\n",
    "    "
   ]
  },
  {
   "cell_type": "code",
   "execution_count": null,
   "metadata": {},
   "outputs": [],
   "source": []
  },
  {
   "cell_type": "markdown",
   "metadata": {},
   "source": [
    "### Step Decay: Learning Rate Schedule\n",
    "\n",
    "For CIFAR-10 dataset, the training dataset has 50K images and batch size = 64. Therefore, number of training steps in one epoch = 781.25 = 781. So, 10 epochs has 7813 training steps/iterations.\n",
    "\n",
    "__After 10 epochs or 7813 training steps,__ the learning rate schedule is as follows-\n",
    "\n",
    "- For the next 21094 training steps (or, 27 epochs), use a learning rate of 0.1\n",
    "\n",
    "- For the next 13282 training steps (or, 17 epochs), use a learning rate of 0.01\n",
    "\n",
    "- For any remaing training steps, use a learning rate of 0.001\n"
   ]
  },
  {
   "cell_type": "code",
   "execution_count": 43,
   "metadata": {},
   "outputs": [],
   "source": [
    "boundaries = [21093, 34376]\n",
    "values = [0.1, 0.01, 0.001]\n",
    "\n",
    "learning_rate_fn = tf.keras.optimizers.schedules.PiecewiseConstantDecay(boundaries, values)"
   ]
  },
  {
   "cell_type": "code",
   "execution_count": 44,
   "metadata": {},
   "outputs": [],
   "source": [
    "warmup_shcedule = WarmUp(initial_learning_rate = 0.1, decay_schedule_fn = learning_rate_fn, warmup_steps = 7813)"
   ]
  },
  {
   "cell_type": "code",
   "execution_count": 45,
   "metadata": {},
   "outputs": [],
   "source": [
    "optimizer = tf.keras.optimizers.SGD(learning_rate = warmup_shcedule, momentum = 0.9, decay = 0.0, nesterov = False)"
   ]
  },
  {
   "cell_type": "code",
   "execution_count": null,
   "metadata": {},
   "outputs": [],
   "source": []
  },
  {
   "cell_type": "code",
   "execution_count": null,
   "metadata": {},
   "outputs": [],
   "source": []
  },
  {
   "cell_type": "code",
   "execution_count": null,
   "metadata": {},
   "outputs": [],
   "source": []
  },
  {
   "cell_type": "code",
   "execution_count": null,
   "metadata": {},
   "outputs": [],
   "source": []
  },
  {
   "cell_type": "markdown",
   "metadata": {
    "id": "ad54f9b0"
   },
   "source": [
    "### Train model using _tf.GradientTape_:"
   ]
  },
  {
   "cell_type": "code",
   "execution_count": null,
   "metadata": {
    "id": "9307dd9c"
   },
   "outputs": [],
   "source": [
    "# User input parameters for Early Stopping in manual implementation-\n",
    "# minimum_delta = 0.001\n",
    "# patience = 3"
   ]
  },
  {
   "cell_type": "code",
   "execution_count": 46,
   "metadata": {
    "id": "b8ea79e4"
   },
   "outputs": [],
   "source": [
    "best_val_loss = 100\n",
    "# loc_patience = 0"
   ]
  },
  {
   "cell_type": "code",
   "execution_count": null,
   "metadata": {
    "id": "b6718ce3"
   },
   "outputs": [],
   "source": []
  },
  {
   "cell_type": "code",
   "execution_count": 47,
   "metadata": {
    "id": "ed8d7e43"
   },
   "outputs": [],
   "source": [
    "# Define 'train_one_step()' and 'test_step()' functions here-\n",
    "@tf.function\n",
    "def train_one_step(model, mask_model, optimizer, x, y):\n",
    "    '''\n",
    "    Function to compute one step of gradient descent optimization\n",
    "    '''\n",
    "    with tf.GradientTape() as tape:\n",
    "        # Make predictions using defined model-\n",
    "        y_pred = model(x)\n",
    "\n",
    "        # Compute loss-\n",
    "        loss = loss_fn(y, y_pred)\n",
    "        \n",
    "    # Compute gradients wrt defined loss and weights and biases-\n",
    "    grads = tape.gradient(loss, model.trainable_variables)\n",
    "    \n",
    "    # type(grads)\n",
    "    # list\n",
    "    \n",
    "    # List to hold element-wise multiplication between-\n",
    "    # computed gradient and masks-\n",
    "    grad_mask_mul = []\n",
    "    \n",
    "    # Perform element-wise multiplication between computed gradients and masks-\n",
    "    for grad_layer, mask in zip(grads, mask_model.trainable_weights):\n",
    "        grad_mask_mul.append(tf.math.multiply(grad_layer, mask))\n",
    "    \n",
    "    # Apply computed gradients to model's weights and biases-\n",
    "    optimizer.apply_gradients(zip(grad_mask_mul, model.trainable_variables))\n",
    "\n",
    "    # Compute accuracy-\n",
    "    train_loss(loss)\n",
    "    train_accuracy(y, y_pred)\n",
    "\n",
    "    return None\n",
    "    \n",
    "    \n",
    "@tf.function\n",
    "def test_step(model, optimizer, data, labels):\n",
    "    \"\"\"\n",
    "    Function to test model performance\n",
    "    on testing dataset\n",
    "    \"\"\"\n",
    "    \n",
    "    predictions = model(data)\n",
    "    t_loss = loss_fn(labels, predictions)\n",
    "\n",
    "    test_loss(t_loss)\n",
    "    test_accuracy(labels, predictions)\n",
    "\n",
    "    return None\n",
    "\n"
   ]
  },
  {
   "cell_type": "code",
   "execution_count": null,
   "metadata": {},
   "outputs": [],
   "source": []
  },
  {
   "cell_type": "code",
   "execution_count": 48,
   "metadata": {},
   "outputs": [],
   "source": [
    "# Python3 dict to contain model training metrics-\n",
    "history_lr = {}"
   ]
  },
  {
   "cell_type": "code",
   "execution_count": 49,
   "metadata": {
    "id": "f2515dfe"
   },
   "outputs": [
    {
     "data": {
      "text/plain": [
       "60"
      ]
     },
     "execution_count": 49,
     "metadata": {},
     "output_type": "execute_result"
    }
   ],
   "source": [
    "num_epochs"
   ]
  },
  {
   "cell_type": "code",
   "execution_count": null,
   "metadata": {},
   "outputs": [],
   "source": []
  },
  {
   "cell_type": "code",
   "execution_count": 50,
   "metadata": {
    "colab": {
     "base_uri": "https://localhost:8080/",
     "height": 1000
    },
    "id": "bd6b04a0",
    "outputId": "0678acf2-3876-4f8e-c46c-f1e7b7ce6254"
   },
   "outputs": [
    {
     "name": "stdout",
     "output_type": "stream",
     "text": [
      "\n",
      "Epoch 1, Loss: 1.9039, Accuracy: 28.7912, Test Loss: 1.5985, Test Accuracy: 43.349998, LR: 0.009996, Current step value: 781\n",
      "VGG-18: total # of trainable parameters = 20297654\n",
      "Saving model with lowest val_loss = 1.5985\n",
      "\n",
      "\n",
      "Epoch 2, Loss: 1.5104, Accuracy: 44.8564, Test Loss: 1.3506, Test Accuracy: 51.590000, LR: 0.019992, Current step value: 1562\n",
      "VGG-18: total # of trainable parameters = 20297667\n",
      "Saving model with lowest val_loss = 1.3506\n",
      "\n",
      "\n",
      "Epoch 3, Loss: 1.3259, Accuracy: 52.6208, Test Loss: 1.1812, Test Accuracy: 59.670002, LR: 0.029988, Current step value: 2343\n",
      "VGG-18: total # of trainable parameters = 20297673\n",
      "Saving model with lowest val_loss = 1.1812\n",
      "\n",
      "\n",
      "Epoch 4, Loss: 1.2224, Accuracy: 57.3484, Test Loss: 1.0485, Test Accuracy: 64.610001, LR: 0.039985, Current step value: 3124\n",
      "VGG-18: total # of trainable parameters = 20297674\n",
      "Saving model with lowest val_loss = 1.0485\n",
      "\n",
      "\n",
      "Epoch 5, Loss: 1.1588, Accuracy: 60.1473, Test Loss: 1.1105, Test Accuracy: 63.300003, LR: 0.049981, Current step value: 3905\n",
      "VGG-18: total # of trainable parameters = 20297674\n",
      "\n",
      "Epoch 6, Loss: 1.0939, Accuracy: 63.1302, Test Loss: 0.9831, Test Accuracy: 67.769997, LR: 0.059977, Current step value: 4686\n",
      "VGG-18: total # of trainable parameters = 20297674\n",
      "Saving model with lowest val_loss = 0.9831\n",
      "\n",
      "\n",
      "Epoch 7, Loss: 1.0643, Accuracy: 64.4546, Test Loss: 1.0071, Test Accuracy: 67.189995, LR: 0.069973, Current step value: 5467\n",
      "VGG-18: total # of trainable parameters = 20297674\n",
      "\n",
      "Epoch 8, Loss: 1.0444, Accuracy: 65.7730, Test Loss: 1.0000, Test Accuracy: 67.250000, LR: 0.079969, Current step value: 6248\n",
      "VGG-18: total # of trainable parameters = 20297674\n",
      "\n",
      "Epoch 9, Loss: 1.0380, Accuracy: 66.1212, Test Loss: 0.9066, Test Accuracy: 71.779999, LR: 0.089965, Current step value: 7029\n",
      "VGG-18: total # of trainable parameters = 20297674\n",
      "Saving model with lowest val_loss = 0.9066\n",
      "\n",
      "\n",
      "Epoch 10, Loss: 1.0219, Accuracy: 67.0375, Test Loss: 0.8925, Test Accuracy: 73.119995, LR: 0.099962, Current step value: 7810\n",
      "VGG-18: total # of trainable parameters = 20297674\n",
      "Saving model with lowest val_loss = 0.8925\n",
      "\n",
      "\n",
      "Epoch 11, Loss: 0.9626, Accuracy: 69.0521, Test Loss: 1.0474, Test Accuracy: 63.389999, LR: 0.100000, Current step value: 8591\n",
      "VGG-18: total # of trainable parameters = 20297674\n",
      "\n",
      "Epoch 12, Loss: 0.8929, Accuracy: 71.1528, Test Loss: 0.7755, Test Accuracy: 75.169998, LR: 0.100000, Current step value: 9372\n",
      "VGG-18: total # of trainable parameters = 20297674\n",
      "Saving model with lowest val_loss = 0.7755\n",
      "\n",
      "\n",
      "Epoch 13, Loss: 0.8189, Accuracy: 73.6756, Test Loss: 0.8127, Test Accuracy: 73.750000, LR: 0.100000, Current step value: 10153\n",
      "VGG-18: total # of trainable parameters = 20297674\n",
      "\n",
      "Epoch 14, Loss: 0.7825, Accuracy: 74.8339, Test Loss: 0.7123, Test Accuracy: 77.820000, LR: 0.100000, Current step value: 10934\n",
      "VGG-18: total # of trainable parameters = 20297674\n",
      "Saving model with lowest val_loss = 0.7123\n",
      "\n",
      "\n",
      "Epoch 15, Loss: 0.7314, Accuracy: 76.4205, Test Loss: 0.6646, Test Accuracy: 79.089996, LR: 0.100000, Current step value: 11715\n",
      "VGG-18: total # of trainable parameters = 20297674\n",
      "Saving model with lowest val_loss = 0.6646\n",
      "\n",
      "\n",
      "Epoch 16, Loss: 0.6974, Accuracy: 77.3408, Test Loss: 0.6436, Test Accuracy: 79.659996, LR: 0.100000, Current step value: 12496\n",
      "VGG-18: total # of trainable parameters = 20297674\n",
      "Saving model with lowest val_loss = 0.6436\n",
      "\n",
      "\n",
      "Epoch 17, Loss: 0.6670, Accuracy: 78.3831, Test Loss: 0.6550, Test Accuracy: 78.829994, LR: 0.100000, Current step value: 13277\n",
      "VGG-18: total # of trainable parameters = 20297674\n",
      "\n",
      "Epoch 18, Loss: 0.6500, Accuracy: 79.1073, Test Loss: 0.6105, Test Accuracy: 80.349998, LR: 0.100000, Current step value: 14058\n",
      "VGG-18: total # of trainable parameters = 20297674\n",
      "Saving model with lowest val_loss = 0.6105\n",
      "\n",
      "\n",
      "Epoch 19, Loss: 0.6255, Accuracy: 80.0076, Test Loss: 0.5948, Test Accuracy: 80.900002, LR: 0.100000, Current step value: 14839\n",
      "VGG-18: total # of trainable parameters = 20297674\n",
      "Saving model with lowest val_loss = 0.5948\n",
      "\n",
      "\n",
      "Epoch 20, Loss: 0.5970, Accuracy: 80.7438, Test Loss: 0.5310, Test Accuracy: 83.170006, LR: 0.100000, Current step value: 15620\n",
      "VGG-18: total # of trainable parameters = 20297674\n",
      "Saving model with lowest val_loss = 0.5310\n",
      "\n",
      "\n",
      "Epoch 21, Loss: 0.5712, Accuracy: 81.7061, Test Loss: 0.5385, Test Accuracy: 82.660004, LR: 0.100000, Current step value: 16401\n",
      "VGG-18: total # of trainable parameters = 20297674\n",
      "\n",
      "Epoch 22, Loss: 0.5483, Accuracy: 82.4884, Test Loss: 0.6841, Test Accuracy: 78.619995, LR: 0.100000, Current step value: 17182\n",
      "VGG-18: total # of trainable parameters = 20297674\n",
      "\n",
      "Epoch 23, Loss: 0.5281, Accuracy: 82.9485, Test Loss: 0.5913, Test Accuracy: 82.599998, LR: 0.100000, Current step value: 17963\n",
      "VGG-18: total # of trainable parameters = 20297674\n",
      "\n",
      "Epoch 24, Loss: 0.5167, Accuracy: 83.2606, Test Loss: 0.5486, Test Accuracy: 82.910004, LR: 0.100000, Current step value: 18744\n",
      "VGG-18: total # of trainable parameters = 20297674\n",
      "\n",
      "Epoch 25, Loss: 0.5061, Accuracy: 83.8768, Test Loss: 0.5160, Test Accuracy: 84.220001, LR: 0.100000, Current step value: 19525\n",
      "VGG-18: total # of trainable parameters = 20297674\n",
      "Saving model with lowest val_loss = 0.5160\n",
      "\n",
      "\n",
      "Epoch 26, Loss: 0.4882, Accuracy: 84.2210, Test Loss: 0.5001, Test Accuracy: 83.779999, LR: 0.100000, Current step value: 20306\n",
      "VGG-18: total # of trainable parameters = 20297674\n",
      "Saving model with lowest val_loss = 0.5001\n",
      "\n",
      "\n",
      "Epoch 27, Loss: 0.4744, Accuracy: 84.8071, Test Loss: 0.5394, Test Accuracy: 84.580002, LR: 0.100000, Current step value: 21087\n",
      "VGG-18: total # of trainable parameters = 20297674\n",
      "\n",
      "Epoch 28, Loss: 0.4659, Accuracy: 85.0712, Test Loss: 0.5606, Test Accuracy: 84.270004, LR: 0.100000, Current step value: 21868\n",
      "VGG-18: total # of trainable parameters = 20297674\n",
      "\n",
      "Epoch 29, Loss: 0.4429, Accuracy: 85.9935, Test Loss: 0.4911, Test Accuracy: 84.250000, LR: 0.100000, Current step value: 22649\n",
      "VGG-18: total # of trainable parameters = 20297674\n",
      "Saving model with lowest val_loss = 0.4911\n",
      "\n",
      "\n",
      "Epoch 30, Loss: 0.4278, Accuracy: 86.4397, Test Loss: 0.5370, Test Accuracy: 85.079994, LR: 0.100000, Current step value: 23430\n",
      "VGG-18: total # of trainable parameters = 20297674\n",
      "\n",
      "Epoch 31, Loss: 0.4287, Accuracy: 86.1956, Test Loss: 0.5950, Test Accuracy: 84.190002, LR: 0.100000, Current step value: 24211\n",
      "VGG-18: total # of trainable parameters = 20297674\n",
      "\n",
      "Epoch 32, Loss: 0.4258, Accuracy: 86.3296, Test Loss: 0.5239, Test Accuracy: 84.410004, LR: 0.100000, Current step value: 24992\n",
      "VGG-18: total # of trainable parameters = 20297674\n",
      "\n",
      "Epoch 33, Loss: 0.4141, Accuracy: 86.9338, Test Loss: 0.4889, Test Accuracy: 85.860001, LR: 0.100000, Current step value: 25773\n",
      "VGG-18: total # of trainable parameters = 20297674\n",
      "Saving model with lowest val_loss = 0.4889\n",
      "\n",
      "\n",
      "Epoch 34, Loss: 0.4121, Accuracy: 87.1159, Test Loss: 0.5456, Test Accuracy: 83.700005, LR: 0.100000, Current step value: 26554\n",
      "VGG-18: total # of trainable parameters = 20297674\n",
      "\n",
      "Epoch 35, Loss: 0.4059, Accuracy: 87.0779, Test Loss: 0.4777, Test Accuracy: 85.869995, LR: 0.100000, Current step value: 27335\n",
      "VGG-18: total # of trainable parameters = 20297674\n",
      "Saving model with lowest val_loss = 0.4777\n",
      "\n",
      "\n",
      "Epoch 36, Loss: 0.3885, Accuracy: 87.6861, Test Loss: 0.4883, Test Accuracy: 85.199997, LR: 0.100000, Current step value: 28116\n",
      "VGG-18: total # of trainable parameters = 20297674\n",
      "\n",
      "Epoch 37, Loss: 0.3861, Accuracy: 87.7241, Test Loss: 0.5061, Test Accuracy: 85.829994, LR: 0.100000, Current step value: 28897\n",
      "VGG-18: total # of trainable parameters = 20297674\n",
      "\n",
      "Epoch 38, Loss: 0.2674, Accuracy: 91.3492, Test Loss: 0.3836, Test Accuracy: 88.800003, LR: 0.010000, Current step value: 29678\n",
      "VGG-18: total # of trainable parameters = 20297674\n",
      "Saving model with lowest val_loss = 0.3836\n",
      "\n",
      "\n",
      "Epoch 39, Loss: 0.2292, Accuracy: 92.4516, Test Loss: 0.3650, Test Accuracy: 89.060005, LR: 0.010000, Current step value: 30459\n",
      "VGG-18: total # of trainable parameters = 20297674\n",
      "Saving model with lowest val_loss = 0.3650\n",
      "\n",
      "\n",
      "Epoch 40, Loss: 0.2120, Accuracy: 92.8937, Test Loss: 0.4011, Test Accuracy: 88.610001, LR: 0.010000, Current step value: 31240\n",
      "VGG-18: total # of trainable parameters = 20297674\n",
      "\n",
      "Epoch 41, Loss: 0.2077, Accuracy: 93.0098, Test Loss: 0.3846, Test Accuracy: 89.020004, LR: 0.010000, Current step value: 32021\n",
      "VGG-18: total # of trainable parameters = 20297674\n",
      "\n",
      "Epoch 42, Loss: 0.1955, Accuracy: 93.5659, Test Loss: 0.3704, Test Accuracy: 89.400002, LR: 0.010000, Current step value: 32802\n",
      "VGG-18: total # of trainable parameters = 20297674\n",
      "\n",
      "Epoch 43, Loss: 0.1886, Accuracy: 93.6400, Test Loss: 0.3601, Test Accuracy: 89.620003, LR: 0.010000, Current step value: 33583\n",
      "VGG-18: total # of trainable parameters = 20297674\n",
      "Saving model with lowest val_loss = 0.3601\n",
      "\n",
      "\n",
      "Epoch 44, Loss: 0.1914, Accuracy: 93.5759, Test Loss: 0.3553, Test Accuracy: 89.630005, LR: 0.010000, Current step value: 34364\n",
      "VGG-18: total # of trainable parameters = 20297674\n",
      "Saving model with lowest val_loss = 0.3553\n",
      "\n",
      "\n",
      "Epoch 45, Loss: 0.1836, Accuracy: 93.8100, Test Loss: 0.3659, Test Accuracy: 89.709999, LR: 0.010000, Current step value: 35145\n",
      "VGG-18: total # of trainable parameters = 20297674\n",
      "\n",
      "Epoch 46, Loss: 0.1733, Accuracy: 94.1701, Test Loss: 0.3777, Test Accuracy: 89.580002, LR: 0.010000, Current step value: 35926\n",
      "VGG-18: total # of trainable parameters = 20297674\n",
      "\n",
      "Epoch 47, Loss: 0.1716, Accuracy: 94.2422, Test Loss: 0.3568, Test Accuracy: 89.700005, LR: 0.010000, Current step value: 36707\n",
      "VGG-18: total # of trainable parameters = 20297674\n",
      "\n",
      "Epoch 48, Loss: 0.1695, Accuracy: 94.2602, Test Loss: 0.3705, Test Accuracy: 89.590004, LR: 0.010000, Current step value: 37488\n",
      "VGG-18: total # of trainable parameters = 20297674\n",
      "\n",
      "Epoch 49, Loss: 0.1641, Accuracy: 94.4242, Test Loss: 0.3746, Test Accuracy: 89.730003, LR: 0.010000, Current step value: 38269\n",
      "VGG-18: total # of trainable parameters = 20297674\n",
      "\n",
      "Epoch 50, Loss: 0.1611, Accuracy: 94.5903, Test Loss: 0.3730, Test Accuracy: 89.740005, LR: 0.010000, Current step value: 39050\n",
      "VGG-18: total # of trainable parameters = 20297674\n",
      "\n",
      "Epoch 51, Loss: 0.1593, Accuracy: 94.4882, Test Loss: 0.3795, Test Accuracy: 89.650002, LR: 0.010000, Current step value: 39831\n",
      "VGG-18: total # of trainable parameters = 20297674\n",
      "\n",
      "Epoch 52, Loss: 0.1540, Accuracy: 94.8644, Test Loss: 0.3977, Test Accuracy: 89.510002, LR: 0.010000, Current step value: 40612\n",
      "VGG-18: total # of trainable parameters = 20297674\n",
      "\n",
      "Epoch 53, Loss: 0.1517, Accuracy: 94.9084, Test Loss: 0.3689, Test Accuracy: 89.830002, LR: 0.010000, Current step value: 41393\n",
      "VGG-18: total # of trainable parameters = 20297674\n",
      "\n",
      "Epoch 54, Loss: 0.1486, Accuracy: 94.8924, Test Loss: 0.3910, Test Accuracy: 89.540001, LR: 0.010000, Current step value: 42174\n",
      "VGG-18: total # of trainable parameters = 20297674\n",
      "\n",
      "Epoch 55, Loss: 0.1428, Accuracy: 95.1705, Test Loss: 0.3758, Test Accuracy: 89.850006, LR: 0.001000, Current step value: 42955\n",
      "VGG-18: total # of trainable parameters = 20297674\n",
      "\n",
      "Epoch 56, Loss: 0.1399, Accuracy: 95.1845, Test Loss: 0.3769, Test Accuracy: 89.780006, LR: 0.001000, Current step value: 43736\n",
      "VGG-18: total # of trainable parameters = 20297674\n",
      "\n",
      "Epoch 57, Loss: 0.1390, Accuracy: 95.2565, Test Loss: 0.3774, Test Accuracy: 89.870003, LR: 0.001000, Current step value: 44517\n",
      "VGG-18: total # of trainable parameters = 20297674\n",
      "\n",
      "Epoch 58, Loss: 0.1380, Accuracy: 95.3065, Test Loss: 0.3733, Test Accuracy: 89.870003, LR: 0.001000, Current step value: 45298\n",
      "VGG-18: total # of trainable parameters = 20297674\n",
      "\n",
      "Epoch 59, Loss: 0.1397, Accuracy: 95.2725, Test Loss: 0.3739, Test Accuracy: 89.840004, LR: 0.001000, Current step value: 46079\n",
      "VGG-18: total # of trainable parameters = 20297674\n",
      "\n",
      "Epoch 60, Loss: 0.1405, Accuracy: 95.3205, Test Loss: 0.3721, Test Accuracy: 89.850006, LR: 0.001000, Current step value: 46860\n",
      "VGG-18: total # of trainable parameters = 20297674\n"
     ]
    }
   ],
   "source": [
    "# Train model using 'GradientTape'-\n",
    "    \n",
    "# Initialize parameters for Early Stopping manual implementation-\n",
    "# best_val_loss = 100\n",
    "# loc_patience = 0\n",
    "    \n",
    "for epoch in range(num_epochs):\n",
    "    '''\n",
    "    if loc_patience >= patience:\n",
    "        print(\"\\n'EarlyStopping' called!\\n\")\n",
    "        break\n",
    "    '''\n",
    "    \n",
    "    # Reset the metrics at the start of the next epoch\n",
    "    train_loss.reset_states()\n",
    "    train_accuracy.reset_states()\n",
    "    test_loss.reset_states()\n",
    "    test_accuracy.reset_states()\n",
    "    \n",
    "    # variable to keep track of current training step-\n",
    "    curr_step = 0\n",
    "    \n",
    "    # Train using data augmentation (ImageDataGenerator())-\n",
    "    for x, y in datagen.flow(X_train, y_train, batch_size = batch_size, shuffle = True):\n",
    "    # for x, y in zip(augmented_train_batches, y_train):\n",
    "        train_one_step(orig_model, mask_model, optimizer, x, y)\n",
    "        # print(\"current step = \", curr_step)\n",
    "        curr_step += 1\n",
    "        \n",
    "        # break out of infinite loop to end current training epoch-\n",
    "        if curr_step >= X_train.shape[0] // batch_size:\n",
    "            # print(\"\\nTerminating training (datagen.flow())\")\n",
    "            break\n",
    "\n",
    "    # Testing dataset-\n",
    "    for x_t, y_t in test_dataset:\n",
    "    # for x_t, y_t in zip(validation_batches, y_test):\n",
    "        test_step(orig_model, optimizer, x_t, y_t)\n",
    "    \n",
    "    '''\n",
    "    for x, y in train_dataset:\n",
    "        train_one_step(winning_ticket_model, mask_model, optimizer, x, y)\n",
    "\n",
    "    for x_t, y_t in test_dataset:\n",
    "        test_step(winning_ticket_model, optimizer, x_t, y_t)\n",
    "\n",
    "    '''\n",
    "\n",
    "    '''\n",
    "    template = 'Epoch {0}, Loss: {1:.4f}, Accuracy: {2:.4f}, Test Loss: {3:.4f}, Test Accuracy: {4:4f}'\n",
    "    \n",
    "    print(template.format(\n",
    "        epoch + 1, train_loss.result(),\n",
    "        train_accuracy.result() * 100, test_loss.result(),\n",
    "        test_accuracy.result()  *100)\n",
    "         )\n",
    "    '''\n",
    "       \n",
    "    template = '\\nEpoch {0}, Loss: {1:.4f}, Accuracy: {2:.4f}, Test Loss: {3:.4f}, Test Accuracy: {4:4f}, LR: {5:.6f}, Current step value: {6}'\n",
    "\n",
    "    print(template.format(\n",
    "        epoch + 1, train_loss.result(), train_accuracy.result()*100,\n",
    "        test_loss.result(), test_accuracy.result()*100,\n",
    "        # optimizer.learning_rate.numpy()\n",
    "        optimizer._decayed_lr('float32').numpy(),\n",
    "        optimizer.iterations.numpy()\n",
    "    )\n",
    "         )\n",
    "    \n",
    "    history_lr[epoch + 1] = {'loss': train_loss.result(), 'acc': train_accuracy.result() * 100, 'val_loss': test_loss.result(),\n",
    "                                      'val_acc': test_accuracy.result() * 100, 'lr': optimizer._decayed_lr('float32').numpy(),\n",
    "                                      'step_val': optimizer.iterations.numpy()\n",
    "                                     }\n",
    "    \n",
    "    \n",
    "    # Count number of non-zero parameters in each layer and in total-\n",
    "    print(f\"VGG-18: total # of trainable parameters = {count_params(orig_model)}\")\n",
    "    \n",
    "    # Insert manual implementation of code for early stopping here.\n",
    "    \n",
    "    \n",
    "    # Save best weights achieved until now-\n",
    "    if (test_loss.result() < best_val_loss):    \n",
    "        # update 'best_val_loss' variable to lowest loss encountered so far-\n",
    "        best_val_loss = test_loss.result()\n",
    "        \n",
    "        print(f\"Saving model with lowest val_loss = {test_loss.result():.4f}\\n\")\n",
    "        \n",
    "        # Save trained model with validation accuracy-\n",
    "        orig_model.save_weights(\"VGG18_best_trained_loss.h5\", overwrite = True)\n",
    "   "
   ]
  },
  {
   "cell_type": "code",
   "execution_count": null,
   "metadata": {
    "id": "165f9dfd"
   },
   "outputs": [],
   "source": []
  },
  {
   "cell_type": "code",
   "execution_count": 51,
   "metadata": {
    "id": "3d2a08e5",
    "outputId": "a44774e1-c53b-42e2-8d5b-bfe55e614079"
   },
   "outputs": [
    {
     "name": "stdout",
     "output_type": "stream",
     "text": [
      "\n",
      "Finished training VGG-18 CNN\n",
      "\n"
     ]
    }
   ],
   "source": [
    "print(\"\\nFinished training VGG-18 CNN\\n\")"
   ]
  },
  {
   "cell_type": "code",
   "execution_count": null,
   "metadata": {},
   "outputs": [],
   "source": []
  },
  {
   "cell_type": "code",
   "execution_count": 52,
   "metadata": {},
   "outputs": [],
   "source": [
    "import pickle\n",
    "\n",
    "with open(\"VGG18_batchnorm_subclass_history_lr.pkl\", \"wb\") as file:\n",
    "    pickle.dump(history_lr, file)\n"
   ]
  },
  {
   "cell_type": "code",
   "execution_count": null,
   "metadata": {
    "id": "38aa1336"
   },
   "outputs": [],
   "source": []
  },
  {
   "cell_type": "code",
   "execution_count": 53,
   "metadata": {
    "id": "406cd399"
   },
   "outputs": [],
   "source": [
    "# Initialize & load best weights model-\n",
    "best_model = VGG19()\n",
    "best_model.build(input_shape = (None, 32, 32, 3))\n",
    "# best_model = vgg18_nn()\n",
    "\n",
    "best_model.load_weights(\"VGG18_best_trained_loss.h5\")"
   ]
  },
  {
   "cell_type": "code",
   "execution_count": 55,
   "metadata": {},
   "outputs": [],
   "source": [
    "# Compile model-\n",
    "best_model.compile(\n",
    "    loss=tf.keras.losses.categorical_crossentropy,\n",
    "    optimizer = tf.keras.optimizers.SGD(learning_rate = warmup_shcedule, momentum = 0.9, decay = 0.0, nesterov = False),\n",
    "    # optimizer = tf.keras.optimizers.SGD(learning_rate = 0.01, momentum = 0.9),\n",
    "    metrics=['accuracy']\n",
    ")"
   ]
  },
  {
   "cell_type": "code",
   "execution_count": null,
   "metadata": {},
   "outputs": [],
   "source": []
  },
  {
   "cell_type": "code",
   "execution_count": 56,
   "metadata": {
    "id": "f391eb75"
   },
   "outputs": [],
   "source": [
    "# Evaluate trained model's validation loss and validation accuracy on validation dataset-\n",
    "loss, acc = best_model.evaluate(X_test, y_test, verbose = 0)"
   ]
  },
  {
   "cell_type": "code",
   "execution_count": 57,
   "metadata": {
    "id": "69ba58a5",
    "outputId": "b8edce97-a1f9-4e05-afe2-a74b631bf9c0"
   },
   "outputs": [
    {
     "name": "stdout",
     "output_type": "stream",
     "text": [
      "\n",
      "Trained VGG-18 CNN model metrics on validation dataset:\n",
      "validation loss = 27.2752 and validation accuracy = 89.6300%\n",
      "\n"
     ]
    }
   ],
   "source": [
    "print(\"\\nTrained VGG-18 CNN model metrics on validation dataset:\")\n",
    "print(\"validation loss = {0:.4f} and validation accuracy = {1:.4f}%\\n\".format(loss, acc * 100))"
   ]
  },
  {
   "cell_type": "code",
   "execution_count": null,
   "metadata": {
    "id": "f378aed3"
   },
   "outputs": [],
   "source": []
  },
  {
   "cell_type": "code",
   "execution_count": null,
   "metadata": {
    "id": "0d8a3596"
   },
   "outputs": [],
   "source": []
  },
  {
   "cell_type": "markdown",
   "metadata": {},
   "source": [
    "### Visualize learning rate during training:"
   ]
  },
  {
   "cell_type": "code",
   "execution_count": 58,
   "metadata": {},
   "outputs": [],
   "source": [
    "plot_lr = {}"
   ]
  },
  {
   "cell_type": "code",
   "execution_count": 59,
   "metadata": {},
   "outputs": [],
   "source": [
    "for epoch in history_lr.keys():\n",
    "    plot_lr[epoch] = history_lr[epoch]['lr']"
   ]
  },
  {
   "cell_type": "code",
   "execution_count": 60,
   "metadata": {},
   "outputs": [
    {
     "data": {
      "image/png": "[encoded data removed]",
      "text/plain": [
       "<Figure size 648x504 with 1 Axes>"
      ]
     },
     "metadata": {
      "needs_background": "light"
     },
     "output_type": "display_data"
    }
   ],
   "source": [
    "# Visualize learning rate during training-\n",
    "plt.figure(figsize = (9, 7))\n",
    "\n",
    "plt.plot(list(plot_lr.keys()), list(plot_lr.values()), label = 'learning rate')\n",
    "\n",
    "# plt.title(\"LeNet-300-100: LR & step values\")\n",
    "plt.title(\"LeNet-300-100: Warmup & Step-Decay (SGD) Learning Rate\")\n",
    "plt.xlabel(\"number of epochs\")\n",
    "plt.ylabel(\"LR\")\n",
    "plt.legend(loc = 'best')\n",
    "plt.show()"
   ]
  },
  {
   "cell_type": "code",
   "execution_count": null,
   "metadata": {},
   "outputs": [],
   "source": []
  }
 ],
 "metadata": {
  "accelerator": "GPU",
  "colab": {
   "collapsed_sections": [],
   "name": "VGG18_Train_from_scratch.ipynb",
   "provenance": []
  },
  "kernelspec": {
   "display_name": "research_paper",
   "language": "python",
   "name": "research_paper"
  },
  "language_info": {
   "codemirror_mode": {
    "name": "ipython",
    "version": 3
   },
   "file_extension": ".py",
   "mimetype": "text/x-python",
   "name": "python",
   "nbconvert_exporter": "python",
   "pygments_lexer": "ipython3",
   "version": "3.8.5"
  }
 },
 "nbformat": 4,
 "nbformat_minor": 5
}
