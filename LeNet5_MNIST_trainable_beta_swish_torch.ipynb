{
 "cells": [
  {
   "cell_type": "markdown",
   "id": "df34296f-d638-4bb9-9cf5-e99fa3f6f4a2",
   "metadata": {},
   "source": [
    "# LeNet-5: MNIST + PyTorch\n",
    "\n",
    "- Using Swish activation function, with trainable $\\beta$ parameter. Refer to [SWISH: A Self-Gated Activation Function](https://arxiv.org/pdf/1710.05941v1.pdf) paper by Prajit Ramachandran, Barret Zoph and Quoc V. Le.\n",
    "- Multi-step learning rate scheduler."
   ]
  },
  {
   "cell_type": "code",
   "execution_count": 1,
   "id": "e75dc809-a0eb-45aa-b28f-8b82fa21ef8c",
   "metadata": {},
   "outputs": [
    {
     "name": "stdout",
     "output_type": "stream",
     "text": [
      "env: CUDA_DEVICE_ORDER=PCI_BUS_ID\n",
      "env: CUDA_VISIBLE_DEVICES=0\n"
     ]
    }
   ],
   "source": [
    "# Specify GPU to be used-\n",
    "%env CUDA_DEVICE_ORDER = PCI_BUS_ID\n",
    "%env CUDA_VISIBLE_DEVICES = 0"
   ]
  },
  {
   "cell_type": "code",
   "execution_count": 2,
   "id": "d17824ee-70fe-46d1-8534-bdc4b361eaa8",
   "metadata": {},
   "outputs": [],
   "source": [
    "import torch\n",
    "import torch.nn as nn\n",
    "import torchvision\n",
    "import torch.nn.functional as F\n",
    "\n",
    "import numpy as np\n",
    "import torchvision.transforms as transforms\n",
    "import matplotlib.pyplot as plt\n",
    "import os, pickle\n",
    "from tqdm import tqdm\n",
    "from tqdm import trange"
   ]
  },
  {
   "cell_type": "code",
   "execution_count": null,
   "id": "5fbf64d8-08f8-47c3-b0ba-37ebbcf2e432",
   "metadata": {},
   "outputs": [],
   "source": []
  },
  {
   "cell_type": "code",
   "execution_count": null,
   "id": "edecad4c-5770-457a-8681-49ca83dde899",
   "metadata": {},
   "outputs": [],
   "source": []
  },
  {
   "cell_type": "code",
   "execution_count": 3,
   "id": "67872e35-6edc-47d5-9b2c-d1510d4eb033",
   "metadata": {},
   "outputs": [
    {
     "name": "stdout",
     "output_type": "stream",
     "text": [
      "torch version: 2.0.0\n",
      "Number of GPU(s) available = 1\n",
      "Current GPU: 0\n",
      "Current GPU name: NVIDIA GeForce RTX 3080 Laptop GPU\n",
      "Available device is cuda\n"
     ]
    }
   ],
   "source": [
    "print(f\"torch version: {torch.__version__}\")\n",
    "\n",
    "# Check if there are multiple devices (i.e., GPU cards)-\n",
    "print(f\"Number of GPU(s) available = {torch.cuda.device_count()}\")\n",
    "\n",
    "if torch.cuda.is_available():\n",
    "    print(f\"Current GPU: {torch.cuda.current_device()}\")\n",
    "    print(f\"Current GPU name: {torch.cuda.get_device_name(torch.cuda.current_device())}\")\n",
    "else:\n",
    "    print(\"PyTorch does not have access to GPU\")\n",
    "\n",
    "# Device configuration-\n",
    "device = torch.device('cuda' if torch.cuda.is_available() else 'cpu')\n",
    "print(f'Available device is {device}')"
   ]
  },
  {
   "cell_type": "code",
   "execution_count": null,
   "id": "d76fb781-46d0-4536-aff7-b8c1e03a0554",
   "metadata": {},
   "outputs": [],
   "source": []
  },
  {
   "cell_type": "code",
   "execution_count": null,
   "id": "904dc4ed-b264-4b4e-8445-babc15958483",
   "metadata": {},
   "outputs": [],
   "source": []
  },
  {
   "cell_type": "code",
   "execution_count": 4,
   "id": "3a8255ee-ab86-43d7-8705-b2e7676f7f56",
   "metadata": {},
   "outputs": [],
   "source": [
    "# Specify hyper-parameters\n",
    "batch_size = 256\n",
    "num_classes = 10\n",
    "num_epochs = 90"
   ]
  },
  {
   "cell_type": "code",
   "execution_count": null,
   "id": "c18c69a6-ebeb-4ffc-bc36-2387a11b5dcc",
   "metadata": {},
   "outputs": [],
   "source": []
  },
  {
   "cell_type": "code",
   "execution_count": 5,
   "id": "66b82c07-316c-478a-a19f-24f349937938",
   "metadata": {},
   "outputs": [],
   "source": [
    "# MNIST dataset statistics:\n",
    "# mean = tensor([0.1307]) & std dev = tensor([0.3081])\n",
    "mean = np.array([0.1307])\n",
    "std_dev = np.array([0.3081])\n",
    "\n",
    "transforms_apply = transforms.Compose([\n",
    "    transforms.ToTensor(),\n",
    "    transforms.Normalize(mean = mean, std = std_dev)\n",
    "    ])\n",
    "     \n",
    "\n",
    "# MNIST dataset-\n",
    "train_dataset = torchvision.datasets.MNIST(\n",
    "    root = 'C:/Users/arjun/Downloads/data/', train = True,\n",
    "    transform = transforms_apply, download = True\n",
    ")\n",
    "\n",
    "test_dataset = torchvision.datasets.MNIST(\n",
    "    root = 'C:/Users/arjun/Downloads/data/', train = False,\n",
    "    transform = transforms_apply\n",
    ")"
   ]
  },
  {
   "cell_type": "code",
   "execution_count": 6,
   "id": "25dcd8cf-f3c9-453a-aad1-a983529e5aaf",
   "metadata": {},
   "outputs": [],
   "source": [
    "# Create dataloader-\n",
    "train_loader = torch.utils.data.DataLoader(\n",
    "    dataset = train_dataset, batch_size = batch_size,\n",
    "    shuffle = True\n",
    ")\n",
    "\n",
    "test_loader = torch.utils.data.DataLoader(\n",
    "    dataset = test_dataset, batch_size = batch_size,\n",
    "    shuffle = False\n",
    ")"
   ]
  },
  {
   "cell_type": "code",
   "execution_count": null,
   "id": "8c4084f7-93b3-45e2-8b97-b4aaf37d98dd",
   "metadata": {},
   "outputs": [],
   "source": []
  },
  {
   "cell_type": "code",
   "execution_count": null,
   "id": "b8be8988-d28b-4cf9-a5e1-43aaa4a18aec",
   "metadata": {},
   "outputs": [],
   "source": []
  },
  {
   "cell_type": "markdown",
   "id": "c210b761-88ec-49f4-a056-4ccab6ec3dc1",
   "metadata": {},
   "source": [
    "### LeNet-5 CNN architecture\n",
    "\n",
    "Refer to PyTorch discussion to train scalar parameters [here](https://discuss.pytorch.org/t/scalar-parameters-not-showing-up-in-model-parameters/121450)."
   ]
  },
  {
   "cell_type": "code",
   "execution_count": 7,
   "id": "3cf2ea1b-4930-4f14-bee5-ce87d2f69c2d",
   "metadata": {},
   "outputs": [],
   "source": [
    "class LeNet5(nn.Module):\n",
    "    def __init__(self, beta = 1.0):\n",
    "        super(LeNet5, self).__init__()\n",
    "        \n",
    "        # Trainable parameter for swish activation function-\n",
    "        self.beta = nn.Parameter(torch.tensor(beta, requires_grad = True))\n",
    "        \n",
    "        self.conv1 = nn.Conv2d(\n",
    "            in_channels = 1, out_channels = 6, \n",
    "            kernel_size = 5, stride = 1,\n",
    "            padding = 0, bias = False \n",
    "        )\n",
    "        self.bn1 = nn.BatchNorm2d(num_features = 6)\n",
    "        self.pool = nn.MaxPool2d(kernel_size = 2, stride = 2)\n",
    "        self.conv2 = nn.Conv2d(\n",
    "            in_channels = 6, out_channels = 16,\n",
    "            kernel_size = 5, stride = 1,\n",
    "            padding = 0, bias = False\n",
    "        )\n",
    "        self.bn2 = nn.BatchNorm2d(num_features = 16)\n",
    "        self.fc1 = nn.Linear(\n",
    "            in_features = 256, out_features = 120,\n",
    "            bias = True\n",
    "        )\n",
    "        self.bn3 = nn.BatchNorm1d(num_features = 120)\n",
    "        self.fc2 = nn.Linear(\n",
    "            in_features = 120, out_features = 84,\n",
    "            bias = True\n",
    "        )\n",
    "        self.bn4 = nn.BatchNorm1d(num_features = 84)\n",
    "        self.fc3 = nn.Linear(\n",
    "            in_features = 84, out_features = 10,\n",
    "            bias = True\n",
    "        )\n",
    "        \n",
    "        self.initialize_weights()\n",
    "\n",
    "        \n",
    "    def initialize_weights(self):\n",
    "        for m in self.modules():\n",
    "            # print(m)\n",
    "            if isinstance(m, nn.Conv2d):\n",
    "                nn.init.kaiming_normal_(m.weight)\n",
    "                \n",
    "                # Do not initialize bias (due to batchnorm)-\n",
    "                if m.bias is not None:\n",
    "                    nn.init.constant_(m.bias, 0)\n",
    "                \n",
    "            elif isinstance(m, nn.BatchNorm2d):\n",
    "                # Standard initialization for batch normalization-\n",
    "                nn.init.constant_(m.weight, 1)\n",
    "                nn.init.constant_(m.bias, 0)\n",
    "\n",
    "            elif isinstance(m, nn.Linear):\n",
    "                nn.init.kaiming_normal_(m.weight)\n",
    "                nn.init.constant_(m.bias, 0)\n",
    "    \n",
    "    \n",
    "    def swish_fn(self, x):\n",
    "        return x * torch.sigmoid(x * self.beta)\n",
    "\n",
    "    \n",
    "    def forward(self, x):\n",
    "        '''\n",
    "        x = nn.SiLU()(self.pool1(self.bn1(self.conv1(x))))\n",
    "        x = nn.SiLU()(self.pool1(self.bn2(self.conv2(x))))\n",
    "        x = x.view(-1, 256)\n",
    "        x = nn.SiLU()(self.bn3(self.fc1(x)))\n",
    "        x = nn.SiLU()(self.bn4(self.fc2(x)))\n",
    "        '''\n",
    "        x = self.pool(self.bn1(self.conv1(x)))\n",
    "        x = self.swish_fn(x = x)\n",
    "        x = self.pool(self.bn2(self.conv2(x)))\n",
    "        x = self.swish_fn(x = x)\n",
    "        x = x.view(-1, 256)\n",
    "        x = self.bn3(self.fc1(x))\n",
    "        x = self.swish_fn(x = x)\n",
    "        x = self.bn4(self.fc2(x))\n",
    "        x = self.swish_fn(x = x)\n",
    "        x = self.fc3(x)\n",
    "        return x\n",
    "    "
   ]
  },
  {
   "cell_type": "code",
   "execution_count": 8,
   "id": "f664a322-3222-4aea-869b-dbbf7cd55108",
   "metadata": {},
   "outputs": [],
   "source": [
    "# Initialize an instance of LeNet-5 CNN architecture-\n",
    "model = LeNet5(beta = 1.0).to(device)"
   ]
  },
  {
   "cell_type": "code",
   "execution_count": null,
   "id": "4a94eaea-a969-4f9a-9b95-1a547bfd5da4",
   "metadata": {},
   "outputs": [],
   "source": []
  },
  {
   "cell_type": "code",
   "execution_count": 9,
   "id": "32a8f321-c371-4dfc-9e18-ccefe4ace68a",
   "metadata": {},
   "outputs": [
    {
     "name": "stdout",
     "output_type": "stream",
     "text": [
      "i: 0, shape: torch.Size([])\n",
      "i: 1, shape: torch.Size([6, 1, 5, 5])\n",
      "i: 2, shape: torch.Size([6])\n",
      "i: 3, shape: torch.Size([6])\n",
      "i: 4, shape: torch.Size([16, 6, 5, 5])\n",
      "i: 5, shape: torch.Size([16])\n",
      "i: 6, shape: torch.Size([16])\n",
      "i: 7, shape: torch.Size([120, 256])\n",
      "i: 8, shape: torch.Size([120])\n",
      "i: 9, shape: torch.Size([120])\n",
      "i: 10, shape: torch.Size([120])\n",
      "i: 11, shape: torch.Size([84, 120])\n",
      "i: 12, shape: torch.Size([84])\n",
      "i: 13, shape: torch.Size([84])\n",
      "i: 14, shape: torch.Size([84])\n",
      "i: 15, shape: torch.Size([10, 84])\n",
      "i: 16, shape: torch.Size([10])\n"
     ]
    }
   ],
   "source": [
    "# Sanity checks for verifying that beta is registered-\n",
    "for i, param in enumerate(model.parameters()):\n",
    "    print(f\"i: {i}, shape: {param.shape}\")"
   ]
  },
  {
   "cell_type": "code",
   "execution_count": 11,
   "id": "f0cacd43-af2a-41af-8d36-3d3788a0a155",
   "metadata": {},
   "outputs": [
    {
     "data": {
      "text/plain": [
       "True"
      ]
     },
     "execution_count": 11,
     "metadata": {},
     "output_type": "execute_result"
    }
   ],
   "source": [
    "'beta' in model.state_dict().keys()"
   ]
  },
  {
   "cell_type": "code",
   "execution_count": null,
   "id": "db4fa840-bfdc-4ec1-bccb-92735b6d193b",
   "metadata": {},
   "outputs": [],
   "source": []
  },
  {
   "cell_type": "code",
   "execution_count": 12,
   "id": "edcec8d6-d5b3-4c79-ad6b-938fae7a2189",
   "metadata": {},
   "outputs": [
    {
     "name": "stdout",
     "output_type": "stream",
     "text": [
      "CNN model has 44857 parameters\n"
     ]
    }
   ],
   "source": [
    "# Count number of layer-wise parameters and total parameters-\n",
    "tot_params = 0\n",
    "for param in model.parameters():\n",
    "    # print(f\"layer.shape = {param.shape} has {param.nelement()} parameters\")\n",
    "    tot_params += param.nelement()\n",
    "\n",
    "print(f\"CNN model has {tot_params} parameters\")"
   ]
  },
  {
   "cell_type": "code",
   "execution_count": null,
   "id": "a2dbb42a-5d94-43d6-8f23-1112f8f733cd",
   "metadata": {},
   "outputs": [],
   "source": []
  },
  {
   "cell_type": "code",
   "execution_count": 13,
   "id": "7cb5b189-99dd-4a95-b0be-d7e558141c8f",
   "metadata": {},
   "outputs": [],
   "source": [
    "# Define cost function-\n",
    "loss = nn.CrossEntropyLoss()"
   ]
  },
  {
   "cell_type": "markdown",
   "id": "851c4c99-71b7-4a85-8f82-f74c0d40a145",
   "metadata": {},
   "source": [
    "[Giving multiple parameters in optimizer](https://discuss.pytorch.org/t/giving-multiple-parameters-in-optimizer/869/5)"
   ]
  },
  {
   "cell_type": "code",
   "execution_count": 14,
   "id": "d719dc30-a160-402c-8d56-390e8092f319",
   "metadata": {},
   "outputs": [],
   "source": [
    "# Multiple parameters as input to optimizer-\n",
    "# params = list(fc1.parameters()) + list(fc2.parameters())\n",
    "# torch.optim.SGD(params, lr=0.01)\n",
    "\n",
    "# new_params = list(model.parameters()) + list(model.beta)\n",
    "\n",
    "# Defing SGD optimizer-\n",
    "optimizer = torch.optim.SGD(\n",
    "    params = model.parameters(), lr = 0.1,\n",
    "    # params = new_params, lr = 0.1,\n",
    "    momentum = 0.9, weight_decay = 5e-4\n",
    ")"
   ]
  },
  {
   "cell_type": "code",
   "execution_count": 15,
   "id": "a2c73a5c-5a18-4f6a-a57d-f8d1f74d3f44",
   "metadata": {},
   "outputs": [],
   "source": [
    "# Decay lr at 20th, 40th, 60th and 75th epochs by a factor of 10-\n",
    "scheduler = torch.optim.lr_scheduler.MultiStepLR(\n",
    "    optimizer = optimizer, milestones = [20, 40, 60, 75],\n",
    "    gamma = 0.1\n",
    ")"
   ]
  },
  {
   "cell_type": "code",
   "execution_count": null,
   "id": "49bbb55d-8e6e-498b-aaf2-310524b87c66",
   "metadata": {},
   "outputs": [],
   "source": []
  },
  {
   "cell_type": "code",
   "execution_count": 17,
   "id": "547073ae-541a-49f8-bdb7-4f4443f4e668",
   "metadata": {},
   "outputs": [],
   "source": [
    "def train_one_step(model, train_loader, train_dataset):\n",
    "    running_loss = 0.0\n",
    "    running_corrects = 0.0\n",
    "    \n",
    "    model.to(device)\n",
    "    model.train()\n",
    "    \n",
    "    with tqdm(train_loader, unit = 'batch') as tepoch:\n",
    "        for images, labels in tepoch:\n",
    "            tepoch.set_description(f\"Training: \")\n",
    "            \n",
    "            images = images.to(device)\n",
    "            labels = labels.to(device)\n",
    "            \n",
    "            # Get model predictions-\n",
    "            outputs = model(images)\n",
    "            \n",
    "            # Empty accumulated gradients-\n",
    "            optimizer.zero_grad()\n",
    "            \n",
    "            # Compute loss-\n",
    "            J = loss(outputs, labels)\n",
    "            \n",
    "            # Perform backprop-\n",
    "            J.backward()\n",
    "            \n",
    "            # Update parameters-\n",
    "            optimizer.step()\n",
    "            \n",
    "            # Compute model's performance statistics-\n",
    "            running_loss += J.item() * images.size(0)\n",
    "            _, predicted = torch.max(outputs, 1)\n",
    "            running_corrects += torch.sum(predicted == labels.data)\n",
    "            \n",
    "            tepoch.set_postfix(\n",
    "                loss = running_loss / len(train_dataset),\n",
    "                accuracy = (running_corrects.double().cpu().numpy() / len(train_dataset)) * 100\n",
    "            )\n",
    "            \n",
    "    \n",
    "    train_loss = running_loss / len(train_dataset)\n",
    "    train_acc = (running_corrects.double() / len(train_dataset)) * 100\n",
    "    \n",
    "\n",
    "    # return running_loss, running_corrects\n",
    "    return train_loss, train_acc.detach().cpu().item()\n",
    "\n",
    "\n",
    "def test_one_step(model, test_loader, test_dataset):\n",
    "    total = 0.0\n",
    "    correct = 0.0\n",
    "    running_loss_val = 0.0\n",
    "    \n",
    "    model.to(device)\n",
    "    model.eval()\n",
    "\n",
    "    with torch.no_grad():\n",
    "        with tqdm(test_loader, unit = 'batch') as tepoch:\n",
    "            for images, labels in tepoch:\n",
    "                tepoch.set_description(f\"Validation: \")\n",
    "                \n",
    "                images = images.to(device)\n",
    "                labels = labels.to(device)\n",
    "                \n",
    "                # Predict using trained model-\n",
    "                outputs = model(images)\n",
    "                _, y_pred = torch.max(outputs, 1)\n",
    "                \n",
    "                # Compute validation loss-\n",
    "                J_val = loss(outputs, labels)\n",
    "                \n",
    "                running_loss_val += J_val.item() * labels.size(0)\n",
    "    \n",
    "                # Total number of labels-\n",
    "                total += labels.size(0)\n",
    "\n",
    "                # Total number of correct predictions-\n",
    "                correct += (y_pred == labels).sum()\n",
    "                \n",
    "                tepoch.set_postfix(\n",
    "                    val_loss = running_loss_val / len(test_dataset),\n",
    "                    val_acc = 100 * (correct.cpu().numpy() / total)\n",
    "                )\n",
    "            \n",
    "        \n",
    "    # return (running_loss_val, correct, total)\n",
    "    val_loss = running_loss_val / len(test_dataset)\n",
    "    val_acc = (correct / total) * 100\n",
    "\n",
    "    return val_loss, val_acc.detach().cpu().item()\n"
   ]
  },
  {
   "cell_type": "code",
   "execution_count": null,
   "id": "4476235a-d46f-45c7-a8b4-6d15fbee33eb",
   "metadata": {},
   "outputs": [],
   "source": []
  },
  {
   "cell_type": "code",
   "execution_count": 18,
   "id": "f9e22a5f-9032-441f-86b1-488ef8cf41de",
   "metadata": {},
   "outputs": [],
   "source": [
    "# Python3 dict to contain training metrics-\n",
    "train_history = {}\n",
    "\n",
    "# Variable to store 'best' model-\n",
    "best_val_acc = 0"
   ]
  },
  {
   "cell_type": "code",
   "execution_count": null,
   "id": "96079237-c099-4222-b731-7118fb939098",
   "metadata": {},
   "outputs": [],
   "source": []
  },
  {
   "cell_type": "code",
   "execution_count": 19,
   "id": "d492930d-ef4b-4751-b475-4897c1648db1",
   "metadata": {},
   "outputs": [
    {
     "name": "stderr",
     "output_type": "stream",
     "text": [
      "Training: : 100%|██████████████████████████████████████| 235/235 [00:14<00:00, 15.80batch/s, accuracy=95.2, loss=0.163]\n",
      "Validation: : 100%|██████████████████████████████████| 40/40 [00:01<00:00, 23.88batch/s, val_acc=98.4, val_loss=0.0514]\n"
     ]
    },
    {
     "name": "stdout",
     "output_type": "stream",
     "text": [
      "Epoch: 1; loss = 0.1625, acc = 95.16%  val loss = 0.0514, val acc = 98.41%, beta = 1.682996 & LR = 0.10000\n",
      "Saving model with highest val_acc = 98.41%\n",
      "\n"
     ]
    },
    {
     "name": "stderr",
     "output_type": "stream",
     "text": [
      "Training: : 100%|█████████████████████████████████████| 235/235 [00:12<00:00, 19.16batch/s, accuracy=98.6, loss=0.0451]\n",
      "Validation: : 100%|██████████████████████████████████| 40/40 [00:01<00:00, 23.95batch/s, val_acc=98.2, val_loss=0.0566]\n"
     ]
    },
    {
     "name": "stdout",
     "output_type": "stream",
     "text": [
      "Epoch: 2; loss = 0.0451, acc = 98.64%  val loss = 0.0566, val acc = 98.20%, beta = 1.983717 & LR = 0.10000\n"
     ]
    },
    {
     "name": "stderr",
     "output_type": "stream",
     "text": [
      "Training: : 100%|███████████████████████████████████████| 235/235 [00:11<00:00, 20.10batch/s, accuracy=99, loss=0.0347]\n",
      "Validation: : 100%|██████████████████████████████████| 40/40 [00:01<00:00, 24.11batch/s, val_acc=98.9, val_loss=0.0384]\n"
     ]
    },
    {
     "name": "stdout",
     "output_type": "stream",
     "text": [
      "Epoch: 3; loss = 0.0347, acc = 99.04%  val loss = 0.0384, val acc = 98.85%, beta = 2.185365 & LR = 0.10000\n",
      "Saving model with highest val_acc = 98.85%\n",
      "\n"
     ]
    },
    {
     "name": "stderr",
     "output_type": "stream",
     "text": [
      "Training: : 100%|█████████████████████████████████████| 235/235 [00:11<00:00, 20.04batch/s, accuracy=99.2, loss=0.0272]\n",
      "Validation: : 100%|██████████████████████████████████| 40/40 [00:01<00:00, 24.42batch/s, val_acc=98.8, val_loss=0.0364]\n"
     ]
    },
    {
     "name": "stdout",
     "output_type": "stream",
     "text": [
      "Epoch: 4; loss = 0.0272, acc = 99.25%  val loss = 0.0364, val acc = 98.78%, beta = 2.361460 & LR = 0.10000\n"
     ]
    },
    {
     "name": "stderr",
     "output_type": "stream",
     "text": [
      "Training: : 100%|█████████████████████████████████████| 235/235 [00:11<00:00, 20.28batch/s, accuracy=99.3, loss=0.0236]\n",
      "Validation: : 100%|██████████████████████████████████| 40/40 [00:01<00:00, 24.45batch/s, val_acc=98.8, val_loss=0.0347]\n"
     ]
    },
    {
     "name": "stdout",
     "output_type": "stream",
     "text": [
      "Epoch: 5; loss = 0.0236, acc = 99.29%  val loss = 0.0347, val acc = 98.80%, beta = 2.493883 & LR = 0.10000\n"
     ]
    },
    {
     "name": "stderr",
     "output_type": "stream",
     "text": [
      "Training: : 100%|█████████████████████████████████████| 235/235 [00:11<00:00, 20.33batch/s, accuracy=99.4, loss=0.0229]\n",
      "Validation: : 100%|██████████████████████████████████| 40/40 [00:01<00:00, 24.34batch/s, val_acc=98.9, val_loss=0.0327]\n"
     ]
    },
    {
     "name": "stdout",
     "output_type": "stream",
     "text": [
      "Epoch: 6; loss = 0.0229, acc = 99.35%  val loss = 0.0327, val acc = 98.94%, beta = 2.623777 & LR = 0.10000\n",
      "Saving model with highest val_acc = 98.94%\n",
      "\n"
     ]
    },
    {
     "name": "stderr",
     "output_type": "stream",
     "text": [
      "Training: : 100%|██████████████████████████████████████| 235/235 [00:11<00:00, 20.22batch/s, accuracy=99.4, loss=0.021]\n",
      "Validation: : 100%|██████████████████████████████████| 40/40 [00:01<00:00, 24.46batch/s, val_acc=98.8, val_loss=0.0416]\n"
     ]
    },
    {
     "name": "stdout",
     "output_type": "stream",
     "text": [
      "Epoch: 7; loss = 0.0210, acc = 99.42%  val loss = 0.0416, val acc = 98.78%, beta = 2.749203 & LR = 0.10000\n"
     ]
    },
    {
     "name": "stderr",
     "output_type": "stream",
     "text": [
      "Training: : 100%|█████████████████████████████████████| 235/235 [00:11<00:00, 20.38batch/s, accuracy=99.4, loss=0.0208]\n",
      "Validation: : 100%|██████████████████████████████████| 40/40 [00:01<00:00, 24.39batch/s, val_acc=98.9, val_loss=0.0347]\n"
     ]
    },
    {
     "name": "stdout",
     "output_type": "stream",
     "text": [
      "Epoch: 8; loss = 0.0208, acc = 99.43%  val loss = 0.0347, val acc = 98.85%, beta = 2.893627 & LR = 0.10000\n"
     ]
    },
    {
     "name": "stderr",
     "output_type": "stream",
     "text": [
      "Training: : 100%|███████████████████████████████████████| 235/235 [00:11<00:00, 20.31batch/s, accuracy=99.4, loss=0.02]\n",
      "Validation: : 100%|██████████████████████████████████| 40/40 [00:01<00:00, 24.50batch/s, val_acc=99.1, val_loss=0.0331]\n"
     ]
    },
    {
     "name": "stdout",
     "output_type": "stream",
     "text": [
      "Epoch: 9; loss = 0.0200, acc = 99.42%  val loss = 0.0331, val acc = 99.07%, beta = 2.995278 & LR = 0.10000\n",
      "Saving model with highest val_acc = 99.07%\n",
      "\n"
     ]
    },
    {
     "name": "stderr",
     "output_type": "stream",
     "text": [
      "Training: : 100%|███████████████████████████████████████| 235/235 [00:11<00:00, 20.26batch/s, accuracy=99.4, loss=0.02]\n",
      "Validation: : 100%|██████████████████████████████████| 40/40 [00:01<00:00, 24.56batch/s, val_acc=99.1, val_loss=0.0307]\n"
     ]
    },
    {
     "name": "stdout",
     "output_type": "stream",
     "text": [
      "Epoch: 10; loss = 0.0200, acc = 99.44%  val loss = 0.0307, val acc = 99.10%, beta = 3.077684 & LR = 0.10000\n",
      "Saving model with highest val_acc = 99.10%\n",
      "\n"
     ]
    },
    {
     "name": "stderr",
     "output_type": "stream",
     "text": [
      "Training: : 100%|█████████████████████████████████████| 235/235 [00:11<00:00, 20.36batch/s, accuracy=99.4, loss=0.0194]\n",
      "Validation: : 100%|██████████████████████████████████| 40/40 [00:01<00:00, 24.39batch/s, val_acc=98.8, val_loss=0.0367]\n"
     ]
    },
    {
     "name": "stdout",
     "output_type": "stream",
     "text": [
      "Epoch: 11; loss = 0.0194, acc = 99.45%  val loss = 0.0367, val acc = 98.82%, beta = 3.151518 & LR = 0.10000\n"
     ]
    },
    {
     "name": "stderr",
     "output_type": "stream",
     "text": [
      "Training: : 100%|█████████████████████████████████████| 235/235 [00:11<00:00, 20.33batch/s, accuracy=99.4, loss=0.0197]\n",
      "Validation: : 100%|██████████████████████████████████| 40/40 [00:01<00:00, 24.47batch/s, val_acc=98.4, val_loss=0.0504]\n"
     ]
    },
    {
     "name": "stdout",
     "output_type": "stream",
     "text": [
      "Epoch: 12; loss = 0.0197, acc = 99.45%  val loss = 0.0504, val acc = 98.44%, beta = 3.224891 & LR = 0.10000\n"
     ]
    },
    {
     "name": "stderr",
     "output_type": "stream",
     "text": [
      "Training: : 100%|██████████████████████████████████████| 235/235 [00:11<00:00, 20.20batch/s, accuracy=99.5, loss=0.018]\n",
      "Validation: : 100%|██████████████████████████████████| 40/40 [00:01<00:00, 24.30batch/s, val_acc=99.1, val_loss=0.0274]\n"
     ]
    },
    {
     "name": "stdout",
     "output_type": "stream",
     "text": [
      "Epoch: 13; loss = 0.0180, acc = 99.49%  val loss = 0.0274, val acc = 99.09%, beta = 3.294074 & LR = 0.10000\n"
     ]
    },
    {
     "name": "stderr",
     "output_type": "stream",
     "text": [
      "Training: : 100%|█████████████████████████████████████| 235/235 [00:11<00:00, 20.36batch/s, accuracy=99.5, loss=0.0183]\n",
      "Validation: : 100%|██████████████████████████████████| 40/40 [00:01<00:00, 24.24batch/s, val_acc=98.7, val_loss=0.0416]\n"
     ]
    },
    {
     "name": "stdout",
     "output_type": "stream",
     "text": [
      "Epoch: 14; loss = 0.0183, acc = 99.51%  val loss = 0.0416, val acc = 98.66%, beta = 3.326241 & LR = 0.10000\n"
     ]
    },
    {
     "name": "stderr",
     "output_type": "stream",
     "text": [
      "Training: : 100%|█████████████████████████████████████| 235/235 [00:11<00:00, 20.08batch/s, accuracy=99.5, loss=0.0175]\n",
      "Validation: : 100%|████████████████████████████████████| 40/40 [00:01<00:00, 24.30batch/s, val_acc=99, val_loss=0.0349]\n"
     ]
    },
    {
     "name": "stdout",
     "output_type": "stream",
     "text": [
      "Epoch: 15; loss = 0.0175, acc = 99.52%  val loss = 0.0349, val acc = 98.95%, beta = 3.376525 & LR = 0.10000\n"
     ]
    },
    {
     "name": "stderr",
     "output_type": "stream",
     "text": [
      "Training: : 100%|█████████████████████████████████████| 235/235 [00:11<00:00, 20.24batch/s, accuracy=99.5, loss=0.0191]\n",
      "Validation: : 100%|██████████████████████████████████| 40/40 [00:01<00:00, 24.36batch/s, val_acc=99.1, val_loss=0.0306]\n"
     ]
    },
    {
     "name": "stdout",
     "output_type": "stream",
     "text": [
      "Epoch: 16; loss = 0.0191, acc = 99.47%  val loss = 0.0306, val acc = 99.05%, beta = 3.421915 & LR = 0.10000\n"
     ]
    },
    {
     "name": "stderr",
     "output_type": "stream",
     "text": [
      "Training: : 100%|█████████████████████████████████████| 235/235 [00:11<00:00, 20.07batch/s, accuracy=99.5, loss=0.0162]\n",
      "Validation: : 100%|███████████████████████████████████| 40/40 [00:01<00:00, 24.14batch/s, val_acc=98.9, val_loss=0.034]\n"
     ]
    },
    {
     "name": "stdout",
     "output_type": "stream",
     "text": [
      "Epoch: 17; loss = 0.0162, acc = 99.55%  val loss = 0.0340, val acc = 98.91%, beta = 3.418001 & LR = 0.10000\n"
     ]
    },
    {
     "name": "stderr",
     "output_type": "stream",
     "text": [
      "Training: : 100%|█████████████████████████████████████| 235/235 [00:11<00:00, 20.13batch/s, accuracy=99.5, loss=0.0183]\n",
      "Validation: : 100%|██████████████████████████████████| 40/40 [00:01<00:00, 24.10batch/s, val_acc=98.9, val_loss=0.0343]\n"
     ]
    },
    {
     "name": "stdout",
     "output_type": "stream",
     "text": [
      "Epoch: 18; loss = 0.0183, acc = 99.50%  val loss = 0.0343, val acc = 98.94%, beta = 3.445547 & LR = 0.10000\n"
     ]
    },
    {
     "name": "stderr",
     "output_type": "stream",
     "text": [
      "Training: : 100%|█████████████████████████████████████| 235/235 [00:11<00:00, 20.26batch/s, accuracy=99.6, loss=0.0159]\n",
      "Validation: : 100%|██████████████████████████████████| 40/40 [00:01<00:00, 24.45batch/s, val_acc=98.7, val_loss=0.0429]\n"
     ]
    },
    {
     "name": "stdout",
     "output_type": "stream",
     "text": [
      "Epoch: 19; loss = 0.0159, acc = 99.58%  val loss = 0.0429, val acc = 98.69%, beta = 3.465129 & LR = 0.10000\n"
     ]
    },
    {
     "name": "stderr",
     "output_type": "stream",
     "text": [
      "Training: : 100%|█████████████████████████████████████| 235/235 [00:11<00:00, 20.25batch/s, accuracy=99.6, loss=0.0158]\n",
      "Validation: : 100%|██████████████████████████████████| 40/40 [00:01<00:00, 24.37batch/s, val_acc=98.8, val_loss=0.0388]\n"
     ]
    },
    {
     "name": "stdout",
     "output_type": "stream",
     "text": [
      "Epoch: 20; loss = 0.0158, acc = 99.57%  val loss = 0.0388, val acc = 98.80%, beta = 3.457953 & LR = 0.01000\n"
     ]
    },
    {
     "name": "stderr",
     "output_type": "stream",
     "text": [
      "Training: : 100%|████████████████████████████████████| 235/235 [00:11<00:00, 20.31batch/s, accuracy=99.9, loss=0.00785]\n",
      "Validation: : 100%|██████████████████████████████████| 40/40 [00:01<00:00, 24.27batch/s, val_acc=99.3, val_loss=0.0228]\n"
     ]
    },
    {
     "name": "stdout",
     "output_type": "stream",
     "text": [
      "Epoch: 21; loss = 0.0078, acc = 99.87%  val loss = 0.0228, val acc = 99.27%, beta = 3.443133 & LR = 0.01000\n",
      "Saving model with highest val_acc = 99.27%\n",
      "\n"
     ]
    },
    {
     "name": "stderr",
     "output_type": "stream",
     "text": [
      "Training: : 100%|████████████████████████████████████| 235/235 [00:11<00:00, 20.25batch/s, accuracy=99.9, loss=0.00553]\n",
      "Validation: : 100%|██████████████████████████████████| 40/40 [00:01<00:00, 24.57batch/s, val_acc=99.2, val_loss=0.0223]\n"
     ]
    },
    {
     "name": "stdout",
     "output_type": "stream",
     "text": [
      "Epoch: 22; loss = 0.0055, acc = 99.94%  val loss = 0.0223, val acc = 99.25%, beta = 3.425440 & LR = 0.01000\n"
     ]
    },
    {
     "name": "stderr",
     "output_type": "stream",
     "text": [
      "Training: : 100%|█████████████████████████████████████| 235/235 [00:11<00:00, 20.13batch/s, accuracy=100, loss=0.00484]\n",
      "Validation: : 100%|██████████████████████████████████| 40/40 [00:01<00:00, 24.32batch/s, val_acc=99.2, val_loss=0.0221]\n"
     ]
    },
    {
     "name": "stdout",
     "output_type": "stream",
     "text": [
      "Epoch: 23; loss = 0.0048, acc = 99.95%  val loss = 0.0221, val acc = 99.25%, beta = 3.405324 & LR = 0.01000\n"
     ]
    },
    {
     "name": "stderr",
     "output_type": "stream",
     "text": [
      "Training: : 100%|█████████████████████████████████████| 235/235 [00:11<00:00, 20.16batch/s, accuracy=100, loss=0.00438]\n",
      "Validation: : 100%|██████████████████████████████████| 40/40 [00:01<00:00, 24.15batch/s, val_acc=99.3, val_loss=0.0225]\n"
     ]
    },
    {
     "name": "stdout",
     "output_type": "stream",
     "text": [
      "Epoch: 24; loss = 0.0044, acc = 99.97%  val loss = 0.0225, val acc = 99.27%, beta = 3.385393 & LR = 0.01000\n"
     ]
    },
    {
     "name": "stderr",
     "output_type": "stream",
     "text": [
      "Training: : 100%|█████████████████████████████████████| 235/235 [00:11<00:00, 20.16batch/s, accuracy=100, loss=0.00429]\n",
      "Validation: : 100%|██████████████████████████████████| 40/40 [00:01<00:00, 24.51batch/s, val_acc=99.3, val_loss=0.0223]\n"
     ]
    },
    {
     "name": "stdout",
     "output_type": "stream",
     "text": [
      "Epoch: 25; loss = 0.0043, acc = 99.97%  val loss = 0.0223, val acc = 99.27%, beta = 3.365163 & LR = 0.01000\n"
     ]
    },
    {
     "name": "stderr",
     "output_type": "stream",
     "text": [
      "Training: : 100%|█████████████████████████████████████| 235/235 [00:11<00:00, 20.28batch/s, accuracy=100, loss=0.00411]\n",
      "Validation: : 100%|██████████████████████████████████| 40/40 [00:01<00:00, 24.12batch/s, val_acc=99.3, val_loss=0.0226]\n"
     ]
    },
    {
     "name": "stdout",
     "output_type": "stream",
     "text": [
      "Epoch: 26; loss = 0.0041, acc = 99.97%  val loss = 0.0226, val acc = 99.30%, beta = 3.344978 & LR = 0.01000\n",
      "Saving model with highest val_acc = 99.30%\n",
      "\n"
     ]
    },
    {
     "name": "stderr",
     "output_type": "stream",
     "text": [
      "Training: : 100%|█████████████████████████████████████| 235/235 [00:11<00:00, 20.36batch/s, accuracy=100, loss=0.00402]\n",
      "Validation: : 100%|███████████████████████████████████| 40/40 [00:01<00:00, 23.83batch/s, val_acc=99.3, val_loss=0.022]\n"
     ]
    },
    {
     "name": "stdout",
     "output_type": "stream",
     "text": [
      "Epoch: 27; loss = 0.0040, acc = 99.98%  val loss = 0.0220, val acc = 99.33%, beta = 3.325889 & LR = 0.01000\n",
      "Saving model with highest val_acc = 99.33%\n",
      "\n"
     ]
    },
    {
     "name": "stderr",
     "output_type": "stream",
     "text": [
      "Training: : 100%|█████████████████████████████████████| 235/235 [00:11<00:00, 20.15batch/s, accuracy=100, loss=0.00373]\n",
      "Validation: : 100%|██████████████████████████████████| 40/40 [00:01<00:00, 24.43batch/s, val_acc=99.3, val_loss=0.0227]\n"
     ]
    },
    {
     "name": "stdout",
     "output_type": "stream",
     "text": [
      "Epoch: 28; loss = 0.0037, acc = 99.98%  val loss = 0.0227, val acc = 99.30%, beta = 3.305989 & LR = 0.01000\n"
     ]
    },
    {
     "name": "stderr",
     "output_type": "stream",
     "text": [
      "Training: : 100%|█████████████████████████████████████| 235/235 [00:11<00:00, 20.18batch/s, accuracy=100, loss=0.00378]\n",
      "Validation: : 100%|██████████████████████████████████| 40/40 [00:01<00:00, 24.14batch/s, val_acc=99.3, val_loss=0.0222]\n"
     ]
    },
    {
     "name": "stdout",
     "output_type": "stream",
     "text": [
      "Epoch: 29; loss = 0.0038, acc = 99.98%  val loss = 0.0222, val acc = 99.28%, beta = 3.287496 & LR = 0.01000\n"
     ]
    },
    {
     "name": "stderr",
     "output_type": "stream",
     "text": [
      "Training: : 100%|█████████████████████████████████████| 235/235 [00:11<00:00, 20.23batch/s, accuracy=100, loss=0.00371]\n",
      "Validation: : 100%|██████████████████████████████████| 40/40 [00:01<00:00, 23.63batch/s, val_acc=99.3, val_loss=0.0223]\n"
     ]
    },
    {
     "name": "stdout",
     "output_type": "stream",
     "text": [
      "Epoch: 30; loss = 0.0037, acc = 99.98%  val loss = 0.0223, val acc = 99.32%, beta = 3.269495 & LR = 0.01000\n"
     ]
    },
    {
     "name": "stderr",
     "output_type": "stream",
     "text": [
      "Training: : 100%|█████████████████████████████████████| 235/235 [00:11<00:00, 20.23batch/s, accuracy=100, loss=0.00363]\n",
      "Validation: : 100%|██████████████████████████████████| 40/40 [00:01<00:00, 23.30batch/s, val_acc=99.3, val_loss=0.0224]\n"
     ]
    },
    {
     "name": "stdout",
     "output_type": "stream",
     "text": [
      "Epoch: 31; loss = 0.0036, acc = 99.98%  val loss = 0.0224, val acc = 99.30%, beta = 3.250357 & LR = 0.01000\n"
     ]
    },
    {
     "name": "stderr",
     "output_type": "stream",
     "text": [
      "Training: : 100%|█████████████████████████████████████| 235/235 [00:11<00:00, 20.00batch/s, accuracy=100, loss=0.00369]\n",
      "Validation: : 100%|██████████████████████████████████| 40/40 [00:01<00:00, 22.48batch/s, val_acc=99.3, val_loss=0.0218]\n"
     ]
    },
    {
     "name": "stdout",
     "output_type": "stream",
     "text": [
      "Epoch: 32; loss = 0.0037, acc = 99.98%  val loss = 0.0218, val acc = 99.30%, beta = 3.233158 & LR = 0.01000\n"
     ]
    },
    {
     "name": "stderr",
     "output_type": "stream",
     "text": [
      "Training: : 100%|█████████████████████████████████████| 235/235 [00:11<00:00, 20.24batch/s, accuracy=100, loss=0.00366]\n",
      "Validation: : 100%|███████████████████████████████████| 40/40 [00:01<00:00, 24.15batch/s, val_acc=99.3, val_loss=0.022]\n"
     ]
    },
    {
     "name": "stdout",
     "output_type": "stream",
     "text": [
      "Epoch: 33; loss = 0.0037, acc = 99.99%  val loss = 0.0220, val acc = 99.31%, beta = 3.216350 & LR = 0.01000\n"
     ]
    },
    {
     "name": "stderr",
     "output_type": "stream",
     "text": [
      "Training: : 100%|█████████████████████████████████████| 235/235 [00:11<00:00, 19.84batch/s, accuracy=100, loss=0.00355]\n",
      "Validation: : 100%|██████████████████████████████████| 40/40 [00:01<00:00, 21.44batch/s, val_acc=99.3, val_loss=0.0224]\n"
     ]
    },
    {
     "name": "stdout",
     "output_type": "stream",
     "text": [
      "Epoch: 34; loss = 0.0036, acc = 99.98%  val loss = 0.0224, val acc = 99.32%, beta = 3.200274 & LR = 0.01000\n"
     ]
    },
    {
     "name": "stderr",
     "output_type": "stream",
     "text": [
      "Training: : 100%|█████████████████████████████████████| 235/235 [00:13<00:00, 16.98batch/s, accuracy=100, loss=0.00363]\n",
      "Validation: : 100%|██████████████████████████████████| 40/40 [00:01<00:00, 24.18batch/s, val_acc=99.3, val_loss=0.0226]\n"
     ]
    },
    {
     "name": "stdout",
     "output_type": "stream",
     "text": [
      "Epoch: 35; loss = 0.0036, acc = 99.98%  val loss = 0.0226, val acc = 99.29%, beta = 3.184304 & LR = 0.01000\n"
     ]
    },
    {
     "name": "stderr",
     "output_type": "stream",
     "text": [
      "Training: : 100%|█████████████████████████████████████| 235/235 [00:12<00:00, 19.13batch/s, accuracy=100, loss=0.00357]\n",
      "Validation: : 100%|██████████████████████████████████| 40/40 [00:02<00:00, 18.20batch/s, val_acc=99.3, val_loss=0.0226]\n"
     ]
    },
    {
     "name": "stdout",
     "output_type": "stream",
     "text": [
      "Epoch: 36; loss = 0.0036, acc = 99.99%  val loss = 0.0226, val acc = 99.29%, beta = 3.169415 & LR = 0.01000\n"
     ]
    },
    {
     "name": "stderr",
     "output_type": "stream",
     "text": [
      "Training: : 100%|█████████████████████████████████████| 235/235 [00:14<00:00, 15.92batch/s, accuracy=100, loss=0.00342]\n",
      "Validation: : 100%|██████████████████████████████████| 40/40 [00:02<00:00, 19.53batch/s, val_acc=99.3, val_loss=0.0223]\n"
     ]
    },
    {
     "name": "stdout",
     "output_type": "stream",
     "text": [
      "Epoch: 37; loss = 0.0034, acc = 99.99%  val loss = 0.0223, val acc = 99.31%, beta = 3.154562 & LR = 0.01000\n"
     ]
    },
    {
     "name": "stderr",
     "output_type": "stream",
     "text": [
      "Training: : 100%|█████████████████████████████████████| 235/235 [00:15<00:00, 15.39batch/s, accuracy=100, loss=0.00357]\n",
      "Validation: : 100%|██████████████████████████████████| 40/40 [00:01<00:00, 20.58batch/s, val_acc=99.3, val_loss=0.0226]\n"
     ]
    },
    {
     "name": "stdout",
     "output_type": "stream",
     "text": [
      "Epoch: 38; loss = 0.0036, acc = 99.98%  val loss = 0.0226, val acc = 99.32%, beta = 3.139556 & LR = 0.01000\n"
     ]
    },
    {
     "name": "stderr",
     "output_type": "stream",
     "text": [
      "Training: : 100%|█████████████████████████████████████| 235/235 [00:14<00:00, 16.32batch/s, accuracy=100, loss=0.00352]\n",
      "Validation: : 100%|██████████████████████████████████| 40/40 [00:02<00:00, 19.98batch/s, val_acc=99.3, val_loss=0.0225]\n"
     ]
    },
    {
     "name": "stdout",
     "output_type": "stream",
     "text": [
      "Epoch: 39; loss = 0.0035, acc = 99.98%  val loss = 0.0225, val acc = 99.31%, beta = 3.125837 & LR = 0.01000\n"
     ]
    },
    {
     "name": "stderr",
     "output_type": "stream",
     "text": [
      "Training: : 100%|█████████████████████████████████████| 235/235 [00:14<00:00, 15.81batch/s, accuracy=100, loss=0.00346]\n",
      "Validation: : 100%|██████████████████████████████████| 40/40 [00:01<00:00, 21.02batch/s, val_acc=99.3, val_loss=0.0222]\n"
     ]
    },
    {
     "name": "stdout",
     "output_type": "stream",
     "text": [
      "Epoch: 40; loss = 0.0035, acc = 99.99%  val loss = 0.0222, val acc = 99.29%, beta = 3.112734 & LR = 0.00100\n"
     ]
    },
    {
     "name": "stderr",
     "output_type": "stream",
     "text": [
      "Training: : 100%|█████████████████████████████████████| 235/235 [00:14<00:00, 16.17batch/s, accuracy=100, loss=0.00311]\n",
      "Validation: : 100%|██████████████████████████████████| 40/40 [00:01<00:00, 20.78batch/s, val_acc=99.3, val_loss=0.0221]\n"
     ]
    },
    {
     "name": "stdout",
     "output_type": "stream",
     "text": [
      "Epoch: 41; loss = 0.0031, acc = 100.00%  val loss = 0.0221, val acc = 99.27%, beta = 3.111171 & LR = 0.00100\n"
     ]
    },
    {
     "name": "stderr",
     "output_type": "stream",
     "text": [
      "Training: : 100%|█████████████████████████████████████| 235/235 [00:15<00:00, 15.03batch/s, accuracy=100, loss=0.00317]\n",
      "Validation: : 100%|██████████████████████████████████| 40/40 [00:02<00:00, 19.69batch/s, val_acc=99.3, val_loss=0.0224]\n"
     ]
    },
    {
     "name": "stdout",
     "output_type": "stream",
     "text": [
      "Epoch: 42; loss = 0.0032, acc = 100.00%  val loss = 0.0224, val acc = 99.32%, beta = 3.109623 & LR = 0.00100\n"
     ]
    },
    {
     "name": "stderr",
     "output_type": "stream",
     "text": [
      "Training: : 100%|█████████████████████████████████████| 235/235 [00:14<00:00, 15.94batch/s, accuracy=100, loss=0.00317]\n",
      "Validation: : 100%|██████████████████████████████████| 40/40 [00:01<00:00, 21.95batch/s, val_acc=99.3, val_loss=0.0222]\n"
     ]
    },
    {
     "name": "stdout",
     "output_type": "stream",
     "text": [
      "Epoch: 43; loss = 0.0032, acc = 100.00%  val loss = 0.0222, val acc = 99.27%, beta = 3.108102 & LR = 0.00100\n"
     ]
    },
    {
     "name": "stderr",
     "output_type": "stream",
     "text": [
      "Training: : 100%|█████████████████████████████████████| 235/235 [00:13<00:00, 17.03batch/s, accuracy=100, loss=0.00319]\n",
      "Validation: : 100%|██████████████████████████████████| 40/40 [00:01<00:00, 21.19batch/s, val_acc=99.3, val_loss=0.0221]\n"
     ]
    },
    {
     "name": "stdout",
     "output_type": "stream",
     "text": [
      "Epoch: 44; loss = 0.0032, acc = 100.00%  val loss = 0.0221, val acc = 99.31%, beta = 3.106670 & LR = 0.00100\n"
     ]
    },
    {
     "name": "stderr",
     "output_type": "stream",
     "text": [
      "Training: : 100%|█████████████████████████████████████| 235/235 [00:14<00:00, 16.49batch/s, accuracy=100, loss=0.00315]\n",
      "Validation: : 100%|██████████████████████████████████| 40/40 [00:02<00:00, 19.64batch/s, val_acc=99.3, val_loss=0.0222]\n"
     ]
    },
    {
     "name": "stdout",
     "output_type": "stream",
     "text": [
      "Epoch: 45; loss = 0.0031, acc = 100.00%  val loss = 0.0222, val acc = 99.29%, beta = 3.105229 & LR = 0.00100\n"
     ]
    },
    {
     "name": "stderr",
     "output_type": "stream",
     "text": [
      "Training: : 100%|█████████████████████████████████████| 235/235 [00:15<00:00, 14.98batch/s, accuracy=100, loss=0.00314]\n",
      "Validation: : 100%|██████████████████████████████████| 40/40 [00:01<00:00, 21.23batch/s, val_acc=99.3, val_loss=0.0227]\n"
     ]
    },
    {
     "name": "stdout",
     "output_type": "stream",
     "text": [
      "Epoch: 46; loss = 0.0031, acc = 100.00%  val loss = 0.0227, val acc = 99.31%, beta = 3.103782 & LR = 0.00100\n"
     ]
    },
    {
     "name": "stderr",
     "output_type": "stream",
     "text": [
      "Training: : 100%|█████████████████████████████████████| 235/235 [00:15<00:00, 15.49batch/s, accuracy=100, loss=0.00319]\n",
      "Validation: : 100%|██████████████████████████████████| 40/40 [00:02<00:00, 18.49batch/s, val_acc=99.3, val_loss=0.0226]\n"
     ]
    },
    {
     "name": "stdout",
     "output_type": "stream",
     "text": [
      "Epoch: 47; loss = 0.0032, acc = 99.99%  val loss = 0.0226, val acc = 99.27%, beta = 3.102318 & LR = 0.00100\n"
     ]
    },
    {
     "name": "stderr",
     "output_type": "stream",
     "text": [
      "Training: : 100%|█████████████████████████████████████| 235/235 [00:13<00:00, 17.49batch/s, accuracy=100, loss=0.00313]\n",
      "Validation: : 100%|██████████████████████████████████| 40/40 [00:01<00:00, 21.96batch/s, val_acc=99.3, val_loss=0.0225]\n"
     ]
    },
    {
     "name": "stdout",
     "output_type": "stream",
     "text": [
      "Epoch: 48; loss = 0.0031, acc = 99.99%  val loss = 0.0225, val acc = 99.28%, beta = 3.100789 & LR = 0.00100\n"
     ]
    },
    {
     "name": "stderr",
     "output_type": "stream",
     "text": [
      "Training: : 100%|█████████████████████████████████████| 235/235 [00:14<00:00, 16.55batch/s, accuracy=100, loss=0.00316]\n",
      "Validation: : 100%|██████████████████████████████████| 40/40 [00:02<00:00, 18.62batch/s, val_acc=99.3, val_loss=0.0222]\n"
     ]
    },
    {
     "name": "stdout",
     "output_type": "stream",
     "text": [
      "Epoch: 49; loss = 0.0032, acc = 99.99%  val loss = 0.0222, val acc = 99.29%, beta = 3.099316 & LR = 0.00100\n"
     ]
    },
    {
     "name": "stderr",
     "output_type": "stream",
     "text": [
      "Training: : 100%|█████████████████████████████████████| 235/235 [00:15<00:00, 15.58batch/s, accuracy=100, loss=0.00326]\n",
      "Validation: : 100%|██████████████████████████████████| 40/40 [00:02<00:00, 19.12batch/s, val_acc=99.3, val_loss=0.0222]\n"
     ]
    },
    {
     "name": "stdout",
     "output_type": "stream",
     "text": [
      "Epoch: 50; loss = 0.0033, acc = 100.00%  val loss = 0.0222, val acc = 99.32%, beta = 3.097829 & LR = 0.00100\n"
     ]
    },
    {
     "name": "stderr",
     "output_type": "stream",
     "text": [
      "Training: : 100%|█████████████████████████████████████| 235/235 [00:15<00:00, 15.36batch/s, accuracy=100, loss=0.00315]\n",
      "Validation: : 100%|██████████████████████████████████| 40/40 [00:02<00:00, 19.42batch/s, val_acc=99.3, val_loss=0.0222]\n"
     ]
    },
    {
     "name": "stdout",
     "output_type": "stream",
     "text": [
      "Epoch: 51; loss = 0.0031, acc = 100.00%  val loss = 0.0222, val acc = 99.31%, beta = 3.096424 & LR = 0.00100\n"
     ]
    },
    {
     "name": "stderr",
     "output_type": "stream",
     "text": [
      "Training: : 100%|█████████████████████████████████████| 235/235 [00:16<00:00, 13.97batch/s, accuracy=100, loss=0.00313]\n",
      "Validation: : 100%|██████████████████████████████████| 40/40 [00:02<00:00, 15.44batch/s, val_acc=99.3, val_loss=0.0221]\n"
     ]
    },
    {
     "name": "stdout",
     "output_type": "stream",
     "text": [
      "Epoch: 52; loss = 0.0031, acc = 100.00%  val loss = 0.0221, val acc = 99.29%, beta = 3.094951 & LR = 0.00100\n"
     ]
    },
    {
     "name": "stderr",
     "output_type": "stream",
     "text": [
      "Training: : 100%|█████████████████████████████████████| 235/235 [00:15<00:00, 14.99batch/s, accuracy=100, loss=0.00319]\n",
      "Validation: : 100%|██████████████████████████████████| 40/40 [00:01<00:00, 22.94batch/s, val_acc=99.3, val_loss=0.0224]\n"
     ]
    },
    {
     "name": "stdout",
     "output_type": "stream",
     "text": [
      "Epoch: 53; loss = 0.0032, acc = 99.99%  val loss = 0.0224, val acc = 99.29%, beta = 3.093450 & LR = 0.00100\n"
     ]
    },
    {
     "name": "stderr",
     "output_type": "stream",
     "text": [
      "Training: : 100%|█████████████████████████████████████| 235/235 [00:13<00:00, 17.19batch/s, accuracy=100, loss=0.00314]\n",
      "Validation: : 100%|███████████████████████████████████| 40/40 [00:01<00:00, 23.99batch/s, val_acc=99.3, val_loss=0.022]\n"
     ]
    },
    {
     "name": "stdout",
     "output_type": "stream",
     "text": [
      "Epoch: 54; loss = 0.0031, acc = 100.00%  val loss = 0.0220, val acc = 99.32%, beta = 3.092041 & LR = 0.00100\n"
     ]
    },
    {
     "name": "stderr",
     "output_type": "stream",
     "text": [
      "Training: : 100%|██████████████████████████████████████| 235/235 [00:13<00:00, 17.40batch/s, accuracy=100, loss=0.0031]\n",
      "Validation: : 100%|██████████████████████████████████| 40/40 [00:02<00:00, 19.46batch/s, val_acc=99.3, val_loss=0.0224]\n"
     ]
    },
    {
     "name": "stdout",
     "output_type": "stream",
     "text": [
      "Epoch: 55; loss = 0.0031, acc = 100.00%  val loss = 0.0224, val acc = 99.31%, beta = 3.090556 & LR = 0.00100\n"
     ]
    },
    {
     "name": "stderr",
     "output_type": "stream",
     "text": [
      "Training: : 100%|█████████████████████████████████████| 235/235 [00:13<00:00, 17.63batch/s, accuracy=100, loss=0.00319]\n",
      "Validation: : 100%|███████████████████████████████████| 40/40 [00:01<00:00, 21.60batch/s, val_acc=99.3, val_loss=0.022]\n"
     ]
    },
    {
     "name": "stdout",
     "output_type": "stream",
     "text": [
      "Epoch: 56; loss = 0.0032, acc = 100.00%  val loss = 0.0220, val acc = 99.32%, beta = 3.089110 & LR = 0.00100\n"
     ]
    },
    {
     "name": "stderr",
     "output_type": "stream",
     "text": [
      "Training: : 100%|█████████████████████████████████████| 235/235 [00:12<00:00, 18.22batch/s, accuracy=100, loss=0.00314]\n",
      "Validation: : 100%|██████████████████████████████████| 40/40 [00:01<00:00, 20.68batch/s, val_acc=99.3, val_loss=0.0225]\n"
     ]
    },
    {
     "name": "stdout",
     "output_type": "stream",
     "text": [
      "Epoch: 57; loss = 0.0031, acc = 100.00%  val loss = 0.0225, val acc = 99.28%, beta = 3.087673 & LR = 0.00100\n"
     ]
    },
    {
     "name": "stderr",
     "output_type": "stream",
     "text": [
      "Training: : 100%|█████████████████████████████████████| 235/235 [00:13<00:00, 17.98batch/s, accuracy=100, loss=0.00319]\n",
      "Validation: : 100%|██████████████████████████████████| 40/40 [00:01<00:00, 22.14batch/s, val_acc=99.3, val_loss=0.0225]\n"
     ]
    },
    {
     "name": "stdout",
     "output_type": "stream",
     "text": [
      "Epoch: 58; loss = 0.0032, acc = 100.00%  val loss = 0.0225, val acc = 99.30%, beta = 3.086278 & LR = 0.00100\n"
     ]
    },
    {
     "name": "stderr",
     "output_type": "stream",
     "text": [
      "Training: : 100%|██████████████████████████████████████| 235/235 [00:13<00:00, 17.14batch/s, accuracy=100, loss=0.0031]\n",
      "Validation: : 100%|███████████████████████████████████| 40/40 [00:01<00:00, 20.33batch/s, val_acc=99.3, val_loss=0.022]\n"
     ]
    },
    {
     "name": "stdout",
     "output_type": "stream",
     "text": [
      "Epoch: 59; loss = 0.0031, acc = 100.00%  val loss = 0.0220, val acc = 99.31%, beta = 3.084835 & LR = 0.00100\n"
     ]
    },
    {
     "name": "stderr",
     "output_type": "stream",
     "text": [
      "Training: : 100%|█████████████████████████████████████| 235/235 [00:14<00:00, 15.90batch/s, accuracy=100, loss=0.00313]\n",
      "Validation: : 100%|██████████████████████████████████| 40/40 [00:01<00:00, 21.11batch/s, val_acc=99.3, val_loss=0.0218]\n"
     ]
    },
    {
     "name": "stdout",
     "output_type": "stream",
     "text": [
      "Epoch: 60; loss = 0.0031, acc = 100.00%  val loss = 0.0218, val acc = 99.34%, beta = 3.083464 & LR = 0.00010\n",
      "Saving model with highest val_acc = 99.34%\n",
      "\n"
     ]
    },
    {
     "name": "stderr",
     "output_type": "stream",
     "text": [
      "Training: : 100%|██████████████████████████████████████| 235/235 [00:15<00:00, 15.34batch/s, accuracy=100, loss=0.0031]\n",
      "Validation: : 100%|██████████████████████████████████| 40/40 [00:01<00:00, 21.67batch/s, val_acc=99.3, val_loss=0.0225]\n"
     ]
    },
    {
     "name": "stdout",
     "output_type": "stream",
     "text": [
      "Epoch: 61; loss = 0.0031, acc = 100.00%  val loss = 0.0225, val acc = 99.30%, beta = 3.083323 & LR = 0.00010\n"
     ]
    },
    {
     "name": "stderr",
     "output_type": "stream",
     "text": [
      "Training: : 100%|█████████████████████████████████████| 235/235 [00:14<00:00, 16.50batch/s, accuracy=100, loss=0.00321]\n",
      "Validation: : 100%|██████████████████████████████████| 40/40 [00:01<00:00, 20.79batch/s, val_acc=99.3, val_loss=0.0227]\n"
     ]
    },
    {
     "name": "stdout",
     "output_type": "stream",
     "text": [
      "Epoch: 62; loss = 0.0032, acc = 99.99%  val loss = 0.0227, val acc = 99.30%, beta = 3.083183 & LR = 0.00010\n"
     ]
    },
    {
     "name": "stderr",
     "output_type": "stream",
     "text": [
      "Training: : 100%|█████████████████████████████████████| 235/235 [00:13<00:00, 18.02batch/s, accuracy=100, loss=0.00312]\n",
      "Validation: : 100%|██████████████████████████████████| 40/40 [00:01<00:00, 20.93batch/s, val_acc=99.3, val_loss=0.0221]\n"
     ]
    },
    {
     "name": "stdout",
     "output_type": "stream",
     "text": [
      "Epoch: 63; loss = 0.0031, acc = 100.00%  val loss = 0.0221, val acc = 99.31%, beta = 3.083033 & LR = 0.00010\n"
     ]
    },
    {
     "name": "stderr",
     "output_type": "stream",
     "text": [
      "Training: : 100%|█████████████████████████████████████| 235/235 [00:14<00:00, 16.47batch/s, accuracy=100, loss=0.00321]\n",
      "Validation: : 100%|██████████████████████████████████| 40/40 [00:02<00:00, 20.00batch/s, val_acc=99.3, val_loss=0.0221]\n"
     ]
    },
    {
     "name": "stdout",
     "output_type": "stream",
     "text": [
      "Epoch: 64; loss = 0.0032, acc = 100.00%  val loss = 0.0221, val acc = 99.33%, beta = 3.082893 & LR = 0.00010\n"
     ]
    },
    {
     "name": "stderr",
     "output_type": "stream",
     "text": [
      "Training: : 100%|█████████████████████████████████████| 235/235 [00:13<00:00, 17.98batch/s, accuracy=100, loss=0.00314]\n",
      "Validation: : 100%|██████████████████████████████████| 40/40 [00:02<00:00, 17.09batch/s, val_acc=99.3, val_loss=0.0219]\n"
     ]
    },
    {
     "name": "stdout",
     "output_type": "stream",
     "text": [
      "Epoch: 65; loss = 0.0031, acc = 99.99%  val loss = 0.0219, val acc = 99.33%, beta = 3.082746 & LR = 0.00010\n"
     ]
    },
    {
     "name": "stderr",
     "output_type": "stream",
     "text": [
      "Training: : 100%|█████████████████████████████████████| 235/235 [00:13<00:00, 17.16batch/s, accuracy=100, loss=0.00311]\n",
      "Validation: : 100%|███████████████████████████████████| 40/40 [00:02<00:00, 18.42batch/s, val_acc=99.3, val_loss=0.022]\n"
     ]
    },
    {
     "name": "stdout",
     "output_type": "stream",
     "text": [
      "Epoch: 66; loss = 0.0031, acc = 100.00%  val loss = 0.0220, val acc = 99.32%, beta = 3.082599 & LR = 0.00010\n"
     ]
    },
    {
     "name": "stderr",
     "output_type": "stream",
     "text": [
      "Training: : 100%|█████████████████████████████████████| 235/235 [00:14<00:00, 15.75batch/s, accuracy=100, loss=0.00314]\n",
      "Validation: : 100%|███████████████████████████████████| 40/40 [00:01<00:00, 20.46batch/s, val_acc=99.3, val_loss=0.022]\n"
     ]
    },
    {
     "name": "stdout",
     "output_type": "stream",
     "text": [
      "Epoch: 67; loss = 0.0031, acc = 100.00%  val loss = 0.0220, val acc = 99.33%, beta = 3.082450 & LR = 0.00010\n"
     ]
    },
    {
     "name": "stderr",
     "output_type": "stream",
     "text": [
      "Training: : 100%|█████████████████████████████████████| 235/235 [00:13<00:00, 17.29batch/s, accuracy=100, loss=0.00307]\n",
      "Validation: : 100%|██████████████████████████████████| 40/40 [00:02<00:00, 19.70batch/s, val_acc=99.3, val_loss=0.0221]\n"
     ]
    },
    {
     "name": "stdout",
     "output_type": "stream",
     "text": [
      "Epoch: 68; loss = 0.0031, acc = 100.00%  val loss = 0.0221, val acc = 99.31%, beta = 3.082297 & LR = 0.00010\n"
     ]
    },
    {
     "name": "stderr",
     "output_type": "stream",
     "text": [
      "Training: : 100%|█████████████████████████████████████| 235/235 [00:13<00:00, 17.45batch/s, accuracy=100, loss=0.00314]\n",
      "Validation: : 100%|██████████████████████████████████| 40/40 [00:02<00:00, 19.99batch/s, val_acc=99.3, val_loss=0.0223]\n"
     ]
    },
    {
     "name": "stdout",
     "output_type": "stream",
     "text": [
      "Epoch: 69; loss = 0.0031, acc = 100.00%  val loss = 0.0223, val acc = 99.33%, beta = 3.082153 & LR = 0.00010\n"
     ]
    },
    {
     "name": "stderr",
     "output_type": "stream",
     "text": [
      "Training: : 100%|█████████████████████████████████████| 235/235 [00:14<00:00, 16.68batch/s, accuracy=100, loss=0.00318]\n",
      "Validation: : 100%|██████████████████████████████████| 40/40 [00:01<00:00, 20.30batch/s, val_acc=99.4, val_loss=0.0222]\n"
     ]
    },
    {
     "name": "stdout",
     "output_type": "stream",
     "text": [
      "Epoch: 70; loss = 0.0032, acc = 99.99%  val loss = 0.0222, val acc = 99.36%, beta = 3.082012 & LR = 0.00010\n",
      "Saving model with highest val_acc = 99.36%\n",
      "\n"
     ]
    },
    {
     "name": "stderr",
     "output_type": "stream",
     "text": [
      "Training: : 100%|█████████████████████████████████████| 235/235 [00:13<00:00, 17.21batch/s, accuracy=100, loss=0.00311]\n",
      "Validation: : 100%|██████████████████████████████████| 40/40 [00:01<00:00, 20.16batch/s, val_acc=99.3, val_loss=0.0223]\n"
     ]
    },
    {
     "name": "stdout",
     "output_type": "stream",
     "text": [
      "Epoch: 71; loss = 0.0031, acc = 100.00%  val loss = 0.0223, val acc = 99.33%, beta = 3.081870 & LR = 0.00010\n"
     ]
    },
    {
     "name": "stderr",
     "output_type": "stream",
     "text": [
      "Training: : 100%|█████████████████████████████████████| 235/235 [00:15<00:00, 15.11batch/s, accuracy=100, loss=0.00307]\n",
      "Validation: : 100%|██████████████████████████████████| 40/40 [00:01<00:00, 20.77batch/s, val_acc=99.4, val_loss=0.0221]\n"
     ]
    },
    {
     "name": "stdout",
     "output_type": "stream",
     "text": [
      "Epoch: 72; loss = 0.0031, acc = 100.00%  val loss = 0.0221, val acc = 99.35%, beta = 3.081721 & LR = 0.00010\n"
     ]
    },
    {
     "name": "stderr",
     "output_type": "stream",
     "text": [
      "Training: : 100%|█████████████████████████████████████| 235/235 [00:14<00:00, 16.44batch/s, accuracy=100, loss=0.00311]\n",
      "Validation: : 100%|██████████████████████████████████| 40/40 [00:02<00:00, 19.29batch/s, val_acc=99.3, val_loss=0.0223]\n"
     ]
    },
    {
     "name": "stdout",
     "output_type": "stream",
     "text": [
      "Epoch: 73; loss = 0.0031, acc = 100.00%  val loss = 0.0223, val acc = 99.30%, beta = 3.081575 & LR = 0.00010\n"
     ]
    },
    {
     "name": "stderr",
     "output_type": "stream",
     "text": [
      "Training: : 100%|█████████████████████████████████████| 235/235 [00:14<00:00, 16.72batch/s, accuracy=100, loss=0.00319]\n",
      "Validation: : 100%|██████████████████████████████████| 40/40 [00:02<00:00, 17.08batch/s, val_acc=99.3, val_loss=0.0219]\n"
     ]
    },
    {
     "name": "stdout",
     "output_type": "stream",
     "text": [
      "Epoch: 74; loss = 0.0032, acc = 100.00%  val loss = 0.0219, val acc = 99.33%, beta = 3.081434 & LR = 0.00010\n"
     ]
    },
    {
     "name": "stderr",
     "output_type": "stream",
     "text": [
      "Training: : 100%|█████████████████████████████████████| 235/235 [00:13<00:00, 17.21batch/s, accuracy=100, loss=0.00317]\n",
      "Validation: : 100%|██████████████████████████████████| 40/40 [00:02<00:00, 19.87batch/s, val_acc=99.3, val_loss=0.0218]\n"
     ]
    },
    {
     "name": "stdout",
     "output_type": "stream",
     "text": [
      "Epoch: 75; loss = 0.0032, acc = 99.99%  val loss = 0.0218, val acc = 99.29%, beta = 3.081292 & LR = 0.00001\n"
     ]
    },
    {
     "name": "stderr",
     "output_type": "stream",
     "text": [
      "Training: : 100%|█████████████████████████████████████| 235/235 [00:14<00:00, 16.55batch/s, accuracy=100, loss=0.00322]\n",
      "Validation: : 100%|███████████████████████████████████| 40/40 [00:02<00:00, 19.12batch/s, val_acc=99.3, val_loss=0.022]\n"
     ]
    },
    {
     "name": "stdout",
     "output_type": "stream",
     "text": [
      "Epoch: 76; loss = 0.0032, acc = 100.00%  val loss = 0.0220, val acc = 99.33%, beta = 3.081292 & LR = 0.00001\n"
     ]
    },
    {
     "name": "stderr",
     "output_type": "stream",
     "text": [
      "Training: : 100%|█████████████████████████████████████| 235/235 [00:13<00:00, 16.86batch/s, accuracy=100, loss=0.00318]\n",
      "Validation: : 100%|██████████████████████████████████| 40/40 [00:01<00:00, 21.48batch/s, val_acc=99.3, val_loss=0.0224]\n"
     ]
    },
    {
     "name": "stdout",
     "output_type": "stream",
     "text": [
      "Epoch: 77; loss = 0.0032, acc = 100.00%  val loss = 0.0224, val acc = 99.31%, beta = 3.081292 & LR = 0.00001\n"
     ]
    },
    {
     "name": "stderr",
     "output_type": "stream",
     "text": [
      "Training: : 100%|█████████████████████████████████████| 235/235 [00:13<00:00, 16.81batch/s, accuracy=100, loss=0.00309]\n",
      "Validation: : 100%|██████████████████████████████████| 40/40 [00:02<00:00, 17.44batch/s, val_acc=99.3, val_loss=0.0226]\n"
     ]
    },
    {
     "name": "stdout",
     "output_type": "stream",
     "text": [
      "Epoch: 78; loss = 0.0031, acc = 100.00%  val loss = 0.0226, val acc = 99.33%, beta = 3.081292 & LR = 0.00001\n"
     ]
    },
    {
     "name": "stderr",
     "output_type": "stream",
     "text": [
      "Training: : 100%|█████████████████████████████████████| 235/235 [00:13<00:00, 17.40batch/s, accuracy=100, loss=0.00311]\n",
      "Validation: : 100%|██████████████████████████████████| 40/40 [00:01<00:00, 22.77batch/s, val_acc=99.3, val_loss=0.0222]\n"
     ]
    },
    {
     "name": "stdout",
     "output_type": "stream",
     "text": [
      "Epoch: 79; loss = 0.0031, acc = 100.00%  val loss = 0.0222, val acc = 99.32%, beta = 3.081292 & LR = 0.00001\n"
     ]
    },
    {
     "name": "stderr",
     "output_type": "stream",
     "text": [
      "Training: : 100%|█████████████████████████████████████| 235/235 [00:15<00:00, 15.41batch/s, accuracy=100, loss=0.00316]\n",
      "Validation: : 100%|██████████████████████████████████| 40/40 [00:01<00:00, 21.35batch/s, val_acc=99.3, val_loss=0.0223]\n"
     ]
    },
    {
     "name": "stdout",
     "output_type": "stream",
     "text": [
      "Epoch: 80; loss = 0.0032, acc = 100.00%  val loss = 0.0223, val acc = 99.29%, beta = 3.081292 & LR = 0.00001\n"
     ]
    },
    {
     "name": "stderr",
     "output_type": "stream",
     "text": [
      "Training: : 100%|█████████████████████████████████████| 235/235 [00:16<00:00, 14.50batch/s, accuracy=100, loss=0.00312]\n",
      "Validation: : 100%|██████████████████████████████████| 40/40 [00:01<00:00, 21.36batch/s, val_acc=99.3, val_loss=0.0225]\n"
     ]
    },
    {
     "name": "stdout",
     "output_type": "stream",
     "text": [
      "Epoch: 81; loss = 0.0031, acc = 100.00%  val loss = 0.0225, val acc = 99.33%, beta = 3.081292 & LR = 0.00001\n"
     ]
    },
    {
     "name": "stderr",
     "output_type": "stream",
     "text": [
      "Training: : 100%|██████████████████████████████████████| 235/235 [00:13<00:00, 16.82batch/s, accuracy=100, loss=0.0031]\n",
      "Validation: : 100%|██████████████████████████████████| 40/40 [00:01<00:00, 22.14batch/s, val_acc=99.3, val_loss=0.0223]\n"
     ]
    },
    {
     "name": "stdout",
     "output_type": "stream",
     "text": [
      "Epoch: 82; loss = 0.0031, acc = 100.00%  val loss = 0.0223, val acc = 99.29%, beta = 3.081292 & LR = 0.00001\n"
     ]
    },
    {
     "name": "stderr",
     "output_type": "stream",
     "text": [
      "Training: : 100%|█████████████████████████████████████| 235/235 [00:13<00:00, 17.45batch/s, accuracy=100, loss=0.00316]\n",
      "Validation: : 100%|███████████████████████████████████| 40/40 [00:01<00:00, 20.33batch/s, val_acc=99.3, val_loss=0.022]\n"
     ]
    },
    {
     "name": "stdout",
     "output_type": "stream",
     "text": [
      "Epoch: 83; loss = 0.0032, acc = 100.00%  val loss = 0.0220, val acc = 99.32%, beta = 3.081292 & LR = 0.00001\n"
     ]
    },
    {
     "name": "stderr",
     "output_type": "stream",
     "text": [
      "Training: : 100%|█████████████████████████████████████| 235/235 [00:13<00:00, 17.02batch/s, accuracy=100, loss=0.00312]\n",
      "Validation: : 100%|██████████████████████████████████| 40/40 [00:02<00:00, 16.05batch/s, val_acc=99.3, val_loss=0.0222]\n"
     ]
    },
    {
     "name": "stdout",
     "output_type": "stream",
     "text": [
      "Epoch: 84; loss = 0.0031, acc = 100.00%  val loss = 0.0222, val acc = 99.31%, beta = 3.081292 & LR = 0.00001\n"
     ]
    },
    {
     "name": "stderr",
     "output_type": "stream",
     "text": [
      "Training: : 100%|█████████████████████████████████████| 235/235 [00:13<00:00, 17.12batch/s, accuracy=100, loss=0.00318]\n",
      "Validation: : 100%|███████████████████████████████████| 40/40 [00:01<00:00, 20.99batch/s, val_acc=99.3, val_loss=0.022]\n"
     ]
    },
    {
     "name": "stdout",
     "output_type": "stream",
     "text": [
      "Epoch: 85; loss = 0.0032, acc = 99.99%  val loss = 0.0220, val acc = 99.30%, beta = 3.081292 & LR = 0.00001\n"
     ]
    },
    {
     "name": "stderr",
     "output_type": "stream",
     "text": [
      "Training: : 100%|█████████████████████████████████████| 235/235 [00:13<00:00, 17.03batch/s, accuracy=100, loss=0.00312]\n",
      "Validation: : 100%|██████████████████████████████████| 40/40 [00:02<00:00, 19.82batch/s, val_acc=99.3, val_loss=0.0223]\n"
     ]
    },
    {
     "name": "stdout",
     "output_type": "stream",
     "text": [
      "Epoch: 86; loss = 0.0031, acc = 100.00%  val loss = 0.0223, val acc = 99.32%, beta = 3.081292 & LR = 0.00001\n"
     ]
    },
    {
     "name": "stderr",
     "output_type": "stream",
     "text": [
      "Training: : 100%|█████████████████████████████████████| 235/235 [00:13<00:00, 17.05batch/s, accuracy=100, loss=0.00316]\n",
      "Validation: : 100%|██████████████████████████████████| 40/40 [00:01<00:00, 22.72batch/s, val_acc=99.3, val_loss=0.0221]\n"
     ]
    },
    {
     "name": "stdout",
     "output_type": "stream",
     "text": [
      "Epoch: 87; loss = 0.0032, acc = 100.00%  val loss = 0.0221, val acc = 99.32%, beta = 3.081292 & LR = 0.00001\n"
     ]
    },
    {
     "name": "stderr",
     "output_type": "stream",
     "text": [
      "Training: : 100%|██████████████████████████████████████| 235/235 [00:13<00:00, 17.89batch/s, accuracy=100, loss=0.0031]\n",
      "Validation: : 100%|██████████████████████████████████| 40/40 [00:01<00:00, 21.57batch/s, val_acc=99.3, val_loss=0.0221]\n"
     ]
    },
    {
     "name": "stdout",
     "output_type": "stream",
     "text": [
      "Epoch: 88; loss = 0.0031, acc = 100.00%  val loss = 0.0221, val acc = 99.31%, beta = 3.081292 & LR = 0.00001\n"
     ]
    },
    {
     "name": "stderr",
     "output_type": "stream",
     "text": [
      "Training: : 100%|█████████████████████████████████████| 235/235 [00:13<00:00, 17.22batch/s, accuracy=100, loss=0.00308]\n",
      "Validation: : 100%|██████████████████████████████████| 40/40 [00:01<00:00, 22.90batch/s, val_acc=99.3, val_loss=0.0221]\n"
     ]
    },
    {
     "name": "stdout",
     "output_type": "stream",
     "text": [
      "Epoch: 89; loss = 0.0031, acc = 100.00%  val loss = 0.0221, val acc = 99.32%, beta = 3.081292 & LR = 0.00001\n"
     ]
    },
    {
     "name": "stderr",
     "output_type": "stream",
     "text": [
      "Training: : 100%|█████████████████████████████████████| 235/235 [00:13<00:00, 16.88batch/s, accuracy=100, loss=0.00312]\n",
      "Validation: : 100%|██████████████████████████████████| 40/40 [00:01<00:00, 20.33batch/s, val_acc=99.3, val_loss=0.0221]"
     ]
    },
    {
     "name": "stdout",
     "output_type": "stream",
     "text": [
      "Epoch: 90; loss = 0.0031, acc = 100.00%  val loss = 0.0221, val acc = 99.31%, beta = 3.081292 & LR = 0.00001\n"
     ]
    },
    {
     "name": "stderr",
     "output_type": "stream",
     "text": [
      "\n"
     ]
    }
   ],
   "source": [
    "for epoch in range(1, num_epochs + 1):\n",
    "    \n",
    "    # One epoch of training-\n",
    "    train_loss, train_acc = train_one_step(\n",
    "        model = model, train_loader = train_loader,\n",
    "        train_dataset = train_dataset\n",
    "    )\n",
    "    \n",
    "    # Get validation metrics after 1 epoch of training-\n",
    "    val_loss, val_acc = test_one_step(\n",
    "        model = model, test_loader = test_loader,\n",
    "        test_dataset = test_dataset\n",
    "    )\n",
    "    \n",
    "    scheduler.step()\n",
    "    current_lr = optimizer.param_groups[0][\"lr\"]\n",
    "    \n",
    "    print(f\"Epoch: {epoch}; loss = {train_loss:.4f}, acc = {train_acc:.2f}%\",\n",
    "          f\" val loss = {val_loss:.4f}, val acc = {val_acc:.2f}%,\"\n",
    "          f\" beta = {model.beta.cpu().detach().numpy():.6f} & LR = {current_lr:.5f}\"\n",
    "         )\n",
    "    \n",
    "    # Save training metrics to Python3 dict-\n",
    "    train_history[epoch] = {\n",
    "        'train_loss': train_loss, 'val_loss': val_loss,\n",
    "        'train_acc': train_acc, 'val_acc': val_acc,\n",
    "        'lr': current_lr, 'beta': model.beta.cpu().detach().numpy()\n",
    "    }\n",
    "    \n",
    "    # Save model with best validation accuracy-\n",
    "    if (val_acc > best_val_acc):\n",
    "        best_val_acc = val_acc\n",
    "        print(f\"Saving model with highest val_acc = {val_acc:.2f}%\\n\")\n",
    "        torch.save(model.state_dict(), \"LeNet5_MNIST_best_val_acc.pth\")\n",
    "        "
   ]
  },
  {
   "cell_type": "code",
   "execution_count": null,
   "id": "b3904986-9f31-44cc-a394-ca8247b6816a",
   "metadata": {},
   "outputs": [],
   "source": []
  },
  {
   "cell_type": "code",
   "execution_count": 20,
   "id": "440f97fc-20ab-4796-bf7a-09427614ef4e",
   "metadata": {},
   "outputs": [],
   "source": [
    "# Save training metrics as pickled object-\n",
    "with open(\"LeNet5_MNIST_swish_training_history.pkl\", \"wb\") as file:\n",
    "    pickle.dump(train_history, file)"
   ]
  },
  {
   "cell_type": "code",
   "execution_count": null,
   "id": "c23b1161-78b0-48d3-a087-da0e6a493a35",
   "metadata": {},
   "outputs": [],
   "source": []
  },
  {
   "cell_type": "code",
   "execution_count": null,
   "id": "fa82d391-77ac-45bc-b86d-08506f0923f9",
   "metadata": {},
   "outputs": [],
   "source": []
  },
  {
   "cell_type": "code",
   "execution_count": 21,
   "id": "2d9dd28d-7191-4c60-bec6-cba291a6bfb1",
   "metadata": {},
   "outputs": [
    {
     "data": {
      "image/png": "[encoded data removed]",
      "text/plain": [
       "<Figure size 800x600 with 1 Axes>"
      ]
     },
     "metadata": {},
     "output_type": "display_data"
    }
   ],
   "source": [
    "plt.figure(figsize = (8, 6))\n",
    "plt.plot(list(train_history.keys()), [train_history[k]['train_acc'] for k in train_history.keys()], label = 'training acc')\n",
    "plt.plot(list(train_history.keys()), [train_history[k]['val_acc'] for k in train_history.keys()], label = 'val acc')\n",
    "plt.title(\"LeNet-5: Training Accuracy\")\n",
    "plt.xlabel(\"epochs\")\n",
    "plt.ylabel(\"accuracy (%)\")\n",
    "plt.legend(loc = 'best')\n",
    "plt.show()"
   ]
  },
  {
   "cell_type": "code",
   "execution_count": 22,
   "id": "0366b43a-499e-475a-a89e-531e160254b7",
   "metadata": {},
   "outputs": [
    {
     "data": {
      "image/png": "[encoded data removed]",
      "text/plain": [
       "<Figure size 800x600 with 1 Axes>"
      ]
     },
     "metadata": {},
     "output_type": "display_data"
    }
   ],
   "source": [
    "plt.figure(figsize = (8, 6))\n",
    "plt.plot(list(train_history.keys()), [train_history[k]['train_loss'] for k in train_history.keys()], label = 'training loss')\n",
    "plt.plot(list(train_history.keys()), [train_history[k]['val_loss'] for k in train_history.keys()], label = 'val loss')\n",
    "plt.xlabel(\"epochs\")\n",
    "plt.ylabel(\"loss\")\n",
    "plt.legend(loc = 'best')\n",
    "plt.title(\"LeNet-5: Training Loss\")\n",
    "plt.show()"
   ]
  },
  {
   "cell_type": "code",
   "execution_count": 23,
   "id": "c1978e89-606f-4452-bad0-cc3f5d201ece",
   "metadata": {},
   "outputs": [
    {
     "data": {
      "image/png": "[encoded data removed]",
      "text/plain": [
       "<Figure size 800x600 with 1 Axes>"
      ]
     },
     "metadata": {},
     "output_type": "display_data"
    }
   ],
   "source": [
    "plt.figure(figsize = (8, 6))\n",
    "plt.plot(list(train_history.keys()), [train_history[k]['lr'] for k in train_history.keys()])\n",
    "plt.xlabel(\"epochs\")\n",
    "plt.ylabel(\"lr\")\n",
    "plt.title(\"LeNet-5: Learning-Rate\")\n",
    "plt.show()"
   ]
  },
  {
   "cell_type": "code",
   "execution_count": 24,
   "id": "a42b2a13-1ebb-4590-9e80-a8b12bd861a5",
   "metadata": {},
   "outputs": [
    {
     "data": {
      "image/png": "[encoded data removed]",
      "text/plain": [
       "<Figure size 800x600 with 1 Axes>"
      ]
     },
     "metadata": {},
     "output_type": "display_data"
    }
   ],
   "source": [
    "plt.figure(figsize = (8, 6))\n",
    "plt.plot(list(train_history.keys()), [train_history[k]['beta'] for k in train_history.keys()])\n",
    "plt.xlabel(\"epochs\")\n",
    "plt.ylabel(\"lr\")\n",
    "plt.title(\"LeNet-5: beta swish hyper-param\")\n",
    "plt.show()"
   ]
  },
  {
   "cell_type": "code",
   "execution_count": null,
   "id": "ca0877d5-38d4-448b-8fd4-8b9f69984e55",
   "metadata": {},
   "outputs": [],
   "source": [
    "del model"
   ]
  },
  {
   "cell_type": "code",
   "execution_count": null,
   "id": "2bad18d5-43fe-4a54-919a-a63f3ec3d28e",
   "metadata": {},
   "outputs": [],
   "source": []
  },
  {
   "cell_type": "code",
   "execution_count": null,
   "id": "44c13249-8be5-4b70-8eed-cab22576ea6c",
   "metadata": {},
   "outputs": [],
   "source": []
  },
  {
   "cell_type": "code",
   "execution_count": 27,
   "id": "cfd1d362-c8c4-4aa8-90ed-6abf5019ac57",
   "metadata": {},
   "outputs": [
    {
     "data": {
      "text/plain": [
       "<All keys matched successfully>"
      ]
     },
     "execution_count": 27,
     "metadata": {},
     "output_type": "execute_result"
    }
   ],
   "source": [
    "# Load best trained parameters from before-\n",
    "best_model = LeNet5().to(device)\n",
    "best_model.load_state_dict(torch.load(\"LeNet5_MNIST_best_val_acc.pth\"))"
   ]
  },
  {
   "cell_type": "code",
   "execution_count": 28,
   "id": "c45ebf3c-3653-416e-af91-e6442556ff20",
   "metadata": {},
   "outputs": [
    {
     "name": "stderr",
     "output_type": "stream",
     "text": [
      "Validation: : 100%|██████████████████████████████████| 40/40 [00:01<00:00, 24.65batch/s, val_acc=99.4, val_loss=0.0222]\n"
     ]
    }
   ],
   "source": [
    "# Get validation metrics after 1 epoch of training-\n",
    "val_loss, val_acc = test_one_step(\n",
    "    model = best_model, test_loader = test_loader,\n",
    "    test_dataset = test_dataset\n",
    ")"
   ]
  },
  {
   "cell_type": "code",
   "execution_count": 29,
   "id": "8dd2f383-719f-4014-bff4-4739c721ae7f",
   "metadata": {},
   "outputs": [
    {
     "name": "stderr",
     "output_type": "stream",
     "text": [
      "Validation: : 100%|████████████████████████████████| 235/235 [00:09<00:00, 23.82batch/s, val_acc=100, val_loss=0.00238]\n"
     ]
    }
   ],
   "source": [
    "loss, acc = test_one_step(\n",
    "    model = best_model, test_loader = train_loader,\n",
    "    test_dataset = train_dataset\n",
    ")"
   ]
  },
  {
   "cell_type": "code",
   "execution_count": 30,
   "id": "abe1b858-8a99-47ae-ac11-e99e047c382c",
   "metadata": {},
   "outputs": [
    {
     "name": "stdout",
     "output_type": "stream",
     "text": [
      "LeNet-5 'best' trained validation metrics:  loss: 0.0222 & accuracy = 99.36%\n",
      "LeNet-5 'best' trained train metrics:  loss: 0.0024 & accuracy = 100.00%\n"
     ]
    }
   ],
   "source": [
    "print(\"LeNet-5 'best' trained validation metrics: \",\n",
    "      f\"loss: {val_loss:.4f} & accuracy = {val_acc:.2f}%\"\n",
    "     )\n",
    "print(\"LeNet-5 'best' trained train metrics: \",\n",
    "      f\"loss: {loss:.4f} & accuracy = {acc:.2f}%\"\n",
    "     )"
   ]
  },
  {
   "cell_type": "code",
   "execution_count": null,
   "id": "d1c78e29-0e2c-4059-aef1-b845fc904ec6",
   "metadata": {},
   "outputs": [],
   "source": []
  },
  {
   "cell_type": "code",
   "execution_count": 34,
   "id": "8a64f434-1550-40b4-8b24-c7e3a122693e",
   "metadata": {},
   "outputs": [],
   "source": [
    "# max([train_history[k]['val_acc'] for k in train_history.keys()])\n",
    "max_val_acc = 0\n",
    "max_epoch = 0\n",
    "\n",
    "for e in train_history.keys():\n",
    "    if train_history[e]['val_acc'] > max_val_acc:\n",
    "        max_val_acc = train_history[e]['val_acc']\n",
    "        max_epoch = e"
   ]
  },
  {
   "cell_type": "code",
   "execution_count": 35,
   "id": "3feb4717-e9d5-4071-b5f5-2c5200d98f1d",
   "metadata": {},
   "outputs": [
    {
     "data": {
      "text/plain": [
       "(70, 99.35999298095703)"
      ]
     },
     "execution_count": 35,
     "metadata": {},
     "output_type": "execute_result"
    }
   ],
   "source": [
    "max_epoch, max_val_acc"
   ]
  },
  {
   "cell_type": "code",
   "execution_count": 40,
   "id": "7d13c92e-1c8e-485b-a254-336f443b810b",
   "metadata": {},
   "outputs": [
    {
     "name": "stdout",
     "output_type": "stream",
     "text": [
      "highest val acc = 99.36%  is obtained for beta = 3.0820\n"
     ]
    }
   ],
   "source": [
    "print(f\"highest val acc = {train_history[max_epoch]['val_acc']:.2f}%\",\n",
    "      f\" is obtained for beta = {train_history[max_epoch]['beta']:.4f}\"\n",
    ")"
   ]
  },
  {
   "cell_type": "code",
   "execution_count": null,
   "id": "863536cf-00c6-4177-8bd1-e09b52b65b12",
   "metadata": {},
   "outputs": [],
   "source": []
  },
  {
   "cell_type": "code",
   "execution_count": null,
   "id": "316117f4-1f83-4503-a700-cabcf122efcd",
   "metadata": {},
   "outputs": [],
   "source": []
  },
  {
   "cell_type": "code",
   "execution_count": null,
   "id": "bd4dfec8-6047-49e5-befc-2351cfd66c50",
   "metadata": {},
   "outputs": [],
   "source": []
  }
 ],
 "metadata": {
  "kernelspec": {
   "display_name": "Python 3 (ipykernel)",
   "language": "python",
   "name": "python3"
  },
  "language_info": {
   "codemirror_mode": {
    "name": "ipython",
    "version": 3
   },
   "file_extension": ".py",
   "mimetype": "text/x-python",
   "name": "python",
   "nbconvert_exporter": "python",
   "pygments_lexer": "ipython3",
   "version": "3.10.9"
  }
 },
 "nbformat": 4,
 "nbformat_minor": 5
}
