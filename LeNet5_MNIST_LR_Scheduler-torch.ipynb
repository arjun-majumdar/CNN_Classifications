{
 "cells": [
  {
   "cell_type": "markdown",
   "id": "b96b6401-a177-44f0-9cb7-2ea3f9a97ae6",
   "metadata": {},
   "source": [
    "# _LeNet-5_ CNN Learning Rate Schedulers: MNIST & PyTorch\n",
    "\n",
    "[Guide to LR Schedulers in PyTorch](https://www.kaggle.com/code/isbhargav/guide-to-pytorch-learning-rate-scheduling/notebook)"
   ]
  },
  {
   "cell_type": "code",
   "execution_count": null,
   "id": "c8abd4da-194e-4298-8a69-ac6f52715016",
   "metadata": {},
   "outputs": [],
   "source": [
    "# Specify GPU to be used-\n",
    "# %env CUDA_DEVICE_ORDER = PCI_BUS_ID\n",
    "# %env CUDA_VISIBLE_DEVICES = 0"
   ]
  },
  {
   "cell_type": "code",
   "execution_count": 1,
   "id": "763122d7-5c29-40d2-9821-5948de00e85f",
   "metadata": {},
   "outputs": [
    {
     "name": "stderr",
     "output_type": "stream",
     "text": [
      "/home/arjunm/anaconda3/envs/torch-cpu/lib/python3.10/site-packages/tqdm/auto.py:22: TqdmWarning: IProgress not found. Please update jupyter and ipywidgets. See https://ipywidgets.readthedocs.io/en/stable/user_install.html\n",
      "  from .autonotebook import tqdm as notebook_tqdm\n"
     ]
    }
   ],
   "source": [
    "import torch\n",
    "import torch.nn as nn\n",
    "import torch.nn.functional as F\n",
    "import torchvision\n",
    "import torchvision.transforms as transforms\n",
    "\n",
    "from tqdm import tqdm\n",
    "from tqdm import trange\n",
    "import matplotlib.pyplot as plt\n",
    "import seaborn as sns\n",
    "import numpy as np\n",
    "import pickle"
   ]
  },
  {
   "cell_type": "code",
   "execution_count": null,
   "id": "dbbfd258-e76f-4f7e-90d6-000886db724e",
   "metadata": {},
   "outputs": [],
   "source": []
  },
  {
   "cell_type": "code",
   "execution_count": null,
   "id": "8ac2d226-1f4c-465b-8195-ac1e97c0cfa5",
   "metadata": {},
   "outputs": [],
   "source": []
  },
  {
   "cell_type": "code",
   "execution_count": 2,
   "id": "2d41450a-0448-4193-ad2e-55680e5f871b",
   "metadata": {},
   "outputs": [
    {
     "name": "stdout",
     "output_type": "stream",
     "text": [
      "torch version: 1.12.1\n"
     ]
    }
   ],
   "source": [
    "print(f\"torch version: {torch.__version__}\")"
   ]
  },
  {
   "cell_type": "code",
   "execution_count": 3,
   "id": "c2b4d8ce-10a4-4429-8d31-fb58fa1c8a46",
   "metadata": {},
   "outputs": [
    {
     "name": "stdout",
     "output_type": "stream",
     "text": [
      "Number of GPU(s) available = 0\n",
      "PyTorch does not have access to GPU\n"
     ]
    }
   ],
   "source": [
    "# Check if there are multiple devices (i.e., GPU cards)-\n",
    "print(f\"Number of GPU(s) available = {torch.cuda.device_count()}\")\n",
    "\n",
    "if torch.cuda.is_available():\n",
    "    print(f\"Current GPU: {torch.cuda.current_device()}\")\n",
    "    print(f\"Current GPU name: {torch.cuda.get_device_name(torch.cuda.current_device())}\")\n",
    "else:\n",
    "    print(\"PyTorch does not have access to GPU\")"
   ]
  },
  {
   "cell_type": "code",
   "execution_count": 4,
   "id": "f0b73fcf-942a-40bf-9347-b03a95c3c43d",
   "metadata": {},
   "outputs": [
    {
     "name": "stdout",
     "output_type": "stream",
     "text": [
      "Available device is cpu\n"
     ]
    }
   ],
   "source": [
    "# Device configuration-\n",
    "device = torch.device('cuda' if torch.cuda.is_available() else 'cpu')\n",
    "print(f'Available device is {device}')"
   ]
  },
  {
   "cell_type": "code",
   "execution_count": null,
   "id": "d464778f-397f-436a-acde-9be46ea46d74",
   "metadata": {},
   "outputs": [],
   "source": []
  },
  {
   "cell_type": "code",
   "execution_count": null,
   "id": "59b7e4eb-ac1f-4ae2-9d04-4cef41c22e57",
   "metadata": {},
   "outputs": [],
   "source": []
  },
  {
   "cell_type": "code",
   "execution_count": 5,
   "id": "bf00bcf8-b08c-456c-bd14-5592911e4a3f",
   "metadata": {},
   "outputs": [],
   "source": [
    "# MNIST dataset statistics-\n",
    "mean = np.array([0.1307])\n",
    "std_dev = np.array([0.3081])\n",
    "\n",
    "# Apply transforms-\n",
    "transforms_apply = transforms.Compose([\n",
    "    transforms.ToTensor(),\n",
    "    transforms.Normalize(mean = mean, std = std_dev)\n",
    "    ])"
   ]
  },
  {
   "cell_type": "code",
   "execution_count": 6,
   "id": "7bb6d181-2a5d-4316-b0aa-57c786f6d40e",
   "metadata": {},
   "outputs": [],
   "source": [
    "# MNIST dataset-\n",
    "train_dataset = torchvision.datasets.MNIST(\n",
    "        root = '/home/arjunm/Downloads/data', train = True,\n",
    "        transform = transforms_apply, download = True\n",
    "        )\n",
    "\n",
    "test_dataset = torchvision.datasets.MNIST(\n",
    "        root = '/home/arjunm/Downloads/data', train = False,\n",
    "        transform = transforms_apply\n",
    "        )"
   ]
  },
  {
   "cell_type": "code",
   "execution_count": 7,
   "id": "f11af0ac-0c3a-4aa9-9019-2f4951bd6696",
   "metadata": {},
   "outputs": [
    {
     "name": "stdout",
     "output_type": "stream",
     "text": [
      "len(train_dataset): 60000 & len(test_dataset): 10000\n"
     ]
    }
   ],
   "source": [
    "print(f\"len(train_dataset): {len(train_dataset)} & len(test_dataset): {len(test_dataset)}\")"
   ]
  },
  {
   "cell_type": "code",
   "execution_count": null,
   "id": "c8e8e384-bf23-422d-bba0-adde2df270e8",
   "metadata": {},
   "outputs": [],
   "source": []
  },
  {
   "cell_type": "code",
   "execution_count": 8,
   "id": "8ebb8d99-7054-4583-b33b-b97cb2cea071",
   "metadata": {},
   "outputs": [],
   "source": [
    "# Hyper-parameters-\n",
    "num_epochs = 30\n",
    "batch_size = 256\n",
    "learning_rate = 0.001"
   ]
  },
  {
   "cell_type": "code",
   "execution_count": null,
   "id": "df7685b3-a6dc-412b-8ca4-664dc26ae26f",
   "metadata": {},
   "outputs": [],
   "source": []
  },
  {
   "cell_type": "code",
   "execution_count": 9,
   "id": "4433c799-bd99-49d7-ae9f-15d940512a55",
   "metadata": {},
   "outputs": [],
   "source": [
    "# Create dataloader-\n",
    "train_loader = torch.utils.data.DataLoader(\n",
    "        dataset = train_dataset, batch_size = batch_size,\n",
    "        shuffle = True\n",
    "        )\n",
    "\n",
    "test_loader = torch.utils.data.DataLoader(\n",
    "        dataset = test_dataset, batch_size = batch_size,\n",
    "        shuffle = False\n",
    "        )"
   ]
  },
  {
   "cell_type": "code",
   "execution_count": 10,
   "id": "b1d6e659-e1b9-47b3-b641-baa5815e047a",
   "metadata": {},
   "outputs": [
    {
     "name": "stdout",
     "output_type": "stream",
     "text": [
      "len(train_loader) = 235 & len(test_loader) = 40\n"
     ]
    }
   ],
   "source": [
    "print(f\"len(train_loader) = {len(train_loader)} & len(test_loader) = {len(test_loader)}\")"
   ]
  },
  {
   "cell_type": "code",
   "execution_count": null,
   "id": "72692ef3-e25d-4e49-bb35-de70149b1a3e",
   "metadata": {},
   "outputs": [],
   "source": []
  },
  {
   "cell_type": "code",
   "execution_count": 13,
   "id": "ed39256f-252c-4a7f-9243-1689988eacaf",
   "metadata": {},
   "outputs": [],
   "source": [
    "x, y = next(iter(train_loader))"
   ]
  },
  {
   "cell_type": "code",
   "execution_count": 14,
   "id": "7eedb9a8-879e-4b09-8a1b-1ae909eb2bc5",
   "metadata": {},
   "outputs": [
    {
     "data": {
      "text/plain": [
       "(tensor(-0.4242), tensor(2.8215))"
      ]
     },
     "execution_count": 14,
     "metadata": {},
     "output_type": "execute_result"
    }
   ],
   "source": [
    "x.min(), x.max()"
   ]
  },
  {
   "cell_type": "code",
   "execution_count": 15,
   "id": "bbe15718-9049-4501-b6bb-dbc29e3bb7d8",
   "metadata": {},
   "outputs": [
    {
     "data": {
      "text/plain": [
       "(torch.Size([256, 1, 28, 28]), torch.Size([256]))"
      ]
     },
     "execution_count": 15,
     "metadata": {},
     "output_type": "execute_result"
    }
   ],
   "source": [
    "x.shape, y.shape"
   ]
  },
  {
   "cell_type": "code",
   "execution_count": 17,
   "id": "5ff0d21e-6cd6-44f5-a898-b29bd757ada1",
   "metadata": {},
   "outputs": [
    {
     "data": {
      "text/plain": [
       "torch.Size([256, 28, 28, 1])"
      ]
     },
     "execution_count": 17,
     "metadata": {},
     "output_type": "execute_result"
    }
   ],
   "source": [
    "x = x.permute((0, 2, 3, 1))\n",
    "x.shape"
   ]
  },
  {
   "cell_type": "code",
   "execution_count": null,
   "id": "cba59865-fd27-46f6-9f81-fd1cb5ebc3a0",
   "metadata": {},
   "outputs": [],
   "source": []
  },
  {
   "cell_type": "code",
   "execution_count": 21,
   "id": "86f8826d-a5d7-4024-896a-e0fceeabe12a",
   "metadata": {},
   "outputs": [
    {
     "data": {
      "image/png": "[encoded data removed]",
      "text/plain": [
       "<Figure size 1000x900 with 40 Axes>"
      ]
     },
     "metadata": {},
     "output_type": "display_data"
    }
   ],
   "source": [
    "# Print images from training set-\n",
    "plt.figure(figsize = (10, 9))\n",
    "for i in range(40):\n",
    "    plt.subplot(8, 5, i + 1)\n",
    "    plt.imshow(x[i], cmap = 'gray')\n",
    "plt.show()"
   ]
  },
  {
   "cell_type": "code",
   "execution_count": 26,
   "id": "3a364b9a-a977-4475-ac10-f6fa33dac91e",
   "metadata": {},
   "outputs": [],
   "source": [
    "del x, y"
   ]
  },
  {
   "cell_type": "code",
   "execution_count": null,
   "id": "8a9369bb-7696-4bb2-89c6-957adee2f062",
   "metadata": {},
   "outputs": [],
   "source": []
  },
  {
   "cell_type": "code",
   "execution_count": null,
   "id": "cca9c37b-007e-48f3-bcac-6c2f26bc0d39",
   "metadata": {},
   "outputs": [],
   "source": []
  },
  {
   "cell_type": "markdown",
   "id": "ba650eef-a1d5-4c98-b0cf-3bd495a7e4f6",
   "metadata": {},
   "source": [
    "### _LeNet-5_ CNN architecture\n",
    "\n",
    "- Use Batch normalization\n",
    "\n",
    "- Use Sigmoid Linear Unit (SiLU)"
   ]
  },
  {
   "cell_type": "code",
   "execution_count": 11,
   "id": "2727a049-322c-4ce5-a5c5-993ef367c569",
   "metadata": {},
   "outputs": [],
   "source": [
    "class LeNet5(nn.Module):\n",
    "    def __init__(self):\n",
    "        super(LeNet5, self).__init__()\n",
    "        \n",
    "        self.conv1 = nn.Conv2d(\n",
    "            in_channels = 1, out_channels = 6, \n",
    "            kernel_size = 5, stride = 1,\n",
    "            padding = 0, bias = False \n",
    "        )\n",
    "        self.bn1 = nn.BatchNorm2d(num_features = 6)\n",
    "        self.pool1 = nn.MaxPool2d(kernel_size = 2, stride = 2)\n",
    "        self.conv2 = nn.Conv2d(\n",
    "            in_channels = 6, out_channels = 16,\n",
    "            kernel_size = 5, stride = 1,\n",
    "            padding = 0, bias = False\n",
    "        )\n",
    "        self.bn2 = nn.BatchNorm2d(num_features = 16)\n",
    "        self.pool2 = nn.MaxPool2d(kernel_size = 2, stride = 2)\n",
    "        self.fc1 = nn.Linear(\n",
    "            in_features = 256, out_features = 120,\n",
    "            bias = True\n",
    "        )\n",
    "        self.bn3 = nn.BatchNorm1d(num_features = 120)\n",
    "        self.fc2 = nn.Linear(\n",
    "            in_features = 120, out_features = 84,\n",
    "            bias = True\n",
    "        )\n",
    "        self.bn4 = nn.BatchNorm1d(num_features = 84)\n",
    "        self.fc3 = nn.Linear(\n",
    "            in_features = 84, out_features = 10,\n",
    "            bias = True\n",
    "        )\n",
    "        \n",
    "        self.initialize_weights()\n",
    "\n",
    "        \n",
    "    def initialize_weights(self):\n",
    "        for m in self.modules():\n",
    "            # print(m)\n",
    "            if isinstance(m, nn.Conv2d):\n",
    "                nn.init.kaiming_normal_(m.weight)\n",
    "                \n",
    "                # Do not initialize bias (due to batchnorm)-\n",
    "                if m.bias is not None:\n",
    "                    nn.init.constant_(m.bias, 0)\n",
    "                \n",
    "            elif isinstance(m, nn.BatchNorm2d):\n",
    "                # Standard initialization for batch normalization-\n",
    "                nn.init.constant_(m.weight, 1)\n",
    "                nn.init.constant_(m.bias, 0)\n",
    "\n",
    "            elif isinstance(m, nn.Linear):\n",
    "                nn.init.kaiming_normal_(m.weight)\n",
    "                nn.init.constant_(m.bias, 0)\n",
    "    \n",
    "    \n",
    "    def forward(self, x):\n",
    "        x = nn.SiLU()(self.pool1(self.bn1(self.conv1(x))))\n",
    "        x = nn.SiLU()(self.pool1(self.bn2(self.conv2(x))))\n",
    "        x = x.view(-1, 256)\n",
    "        x = nn.SiLU()(self.bn3(self.fc1(x)))\n",
    "        x = nn.SiLU()(self.bn4(self.fc2(x)))\n",
    "        x = self.fc3(x)\n",
    "        return x\n",
    "    "
   ]
  },
  {
   "cell_type": "code",
   "execution_count": null,
   "id": "895f7682-c0e7-4d2e-a7aa-794ec7910022",
   "metadata": {},
   "outputs": [],
   "source": []
  },
  {
   "cell_type": "code",
   "execution_count": 12,
   "id": "f7053a92-bd2f-4c05-9772-6ad5aa6e4cbb",
   "metadata": {},
   "outputs": [],
   "source": [
    "# Initialize an instance of LeNet-5 CNN architecture-\n",
    "model = LeNet5().to(device)"
   ]
  },
  {
   "cell_type": "code",
   "execution_count": null,
   "id": "304fa385-c347-47e0-9ba1-802713268561",
   "metadata": {},
   "outputs": [],
   "source": []
  },
  {
   "cell_type": "code",
   "execution_count": 13,
   "id": "5e1bbc68-8ea0-421d-8c56-4c837c0038cb",
   "metadata": {},
   "outputs": [],
   "source": [
    "# Sanity check-\n",
    "x, y = next(iter(train_loader))"
   ]
  },
  {
   "cell_type": "code",
   "execution_count": 14,
   "id": "ba1d0029-6c51-4a61-a6bc-e90458a36d8f",
   "metadata": {},
   "outputs": [],
   "source": [
    "out = model(x)"
   ]
  },
  {
   "cell_type": "code",
   "execution_count": 15,
   "id": "22a6c7af-b841-49a3-b3ec-2245b5b05406",
   "metadata": {},
   "outputs": [
    {
     "data": {
      "text/plain": [
       "torch.Size([256, 10])"
      ]
     },
     "execution_count": 15,
     "metadata": {},
     "output_type": "execute_result"
    }
   ],
   "source": [
    "out.shape"
   ]
  },
  {
   "cell_type": "code",
   "execution_count": 16,
   "id": "49b68a54-e80e-4be7-a1ac-a9b6a323c00b",
   "metadata": {},
   "outputs": [],
   "source": [
    "del x, y, out"
   ]
  },
  {
   "cell_type": "code",
   "execution_count": null,
   "id": "a314cebc-b023-47e0-bd2b-1a61de9ac0fb",
   "metadata": {},
   "outputs": [],
   "source": []
  },
  {
   "cell_type": "code",
   "execution_count": 13,
   "id": "7c40dda6-279a-411c-b09c-8bdf2456852b",
   "metadata": {},
   "outputs": [],
   "source": [
    "# Count number of layer-wise parameters and total parameters-\n",
    "tot_params = 0\n",
    "for param in model.parameters():\n",
    "    # print(f\"layer.shape = {param.shape} has {param.nelement()} parameters\")\n",
    "    tot_params += param.nelement()"
   ]
  },
  {
   "cell_type": "code",
   "execution_count": 14,
   "id": "e7de1ef4-3473-4f14-b706-2167d26a5fa9",
   "metadata": {},
   "outputs": [
    {
     "name": "stdout",
     "output_type": "stream",
     "text": [
      "CNN model has 44856 parameters\n"
     ]
    }
   ],
   "source": [
    "print(f\"CNN model has {tot_params} parameters\")"
   ]
  },
  {
   "cell_type": "code",
   "execution_count": null,
   "id": "c93d049d-9275-4079-ada4-12edf886d625",
   "metadata": {},
   "outputs": [],
   "source": []
  },
  {
   "cell_type": "code",
   "execution_count": 15,
   "id": "03901e7a-ab8d-4fba-b682-d91b7b9cef5f",
   "metadata": {},
   "outputs": [],
   "source": [
    "# Define cost function-\n",
    "loss = nn.CrossEntropyLoss()"
   ]
  },
  {
   "cell_type": "code",
   "execution_count": null,
   "id": "8ad0ffe2-4bd1-46f9-ae6c-b02568712854",
   "metadata": {},
   "outputs": [],
   "source": []
  },
  {
   "cell_type": "code",
   "execution_count": 16,
   "id": "4ac7d6a6-7d7f-43b4-8c4d-adcd2e147330",
   "metadata": {},
   "outputs": [],
   "source": [
    "# Defing SGD optimizer-\n",
    "optimizer = torch.optim.SGD(model.parameters(), lr = 0.01)"
   ]
  },
  {
   "cell_type": "code",
   "execution_count": 17,
   "id": "30c550b8-09f9-41c7-ad99-71f2edb5162a",
   "metadata": {},
   "outputs": [
    {
     "name": "stdout",
     "output_type": "stream",
     "text": [
      "number of train steps in one epoch = 235.0\n"
     ]
    }
   ],
   "source": [
    "print(f\"number of train steps in one epoch = {np.ceil(len(train_loader.dataset) / batch_size)}\")"
   ]
  },
  {
   "cell_type": "code",
   "execution_count": null,
   "id": "202cd1a8-3fe0-444b-89b8-37e2f9ac5437",
   "metadata": {},
   "outputs": [],
   "source": []
  },
  {
   "cell_type": "markdown",
   "id": "7a0e3563-4aa1-4bdd-8eb5-96984763917a",
   "metadata": {},
   "source": [
    "#### ```MultiStepLR``` PyTorch\n",
    "\n",
    "```\n",
    "# Assuming optimizer uses lr = 0.05 for all groups\n",
    "# lr = 0.05     if epoch < 30\n",
    "# lr = 0.005    if 30 <= epoch < 80\n",
    "# lr = 0.0005   if epoch >= 80\n",
    "scheduler = MultiStepLR(optimizer, milestones=[30,80], gamma=0.1)\n",
    "```\n",
    "\n",
    "[MultiStepLR](https://pytorch.org/docs/stable/generated/torch.optim.lr_scheduler.MultiStepLR.html)"
   ]
  },
  {
   "cell_type": "code",
   "execution_count": 18,
   "id": "6914fe1c-bcc9-44da-bdee-7b484ccca12c",
   "metadata": {},
   "outputs": [],
   "source": [
    "# Decay lr at 10th and 20th epochs by a factor of 10-\n",
    "scheduler = torch.optim.lr_scheduler.MultiStepLR(\n",
    "    optimizer = optimizer, milestones = [10, 20],\n",
    "    gamma = 0.1\n",
    ")"
   ]
  },
  {
   "cell_type": "code",
   "execution_count": null,
   "id": "f20b0fd5-05c5-4674-b94b-1480982f8b70",
   "metadata": {},
   "outputs": [],
   "source": []
  },
  {
   "cell_type": "code",
   "execution_count": null,
   "id": "e042bbf1-81db-4d56-909d-9de6ead231f9",
   "metadata": {},
   "outputs": [],
   "source": []
  },
  {
   "cell_type": "code",
   "execution_count": 19,
   "id": "dfa81165-a1b9-40ad-ac01-3ee79c77c3ad",
   "metadata": {},
   "outputs": [],
   "source": [
    "def train_one_step(model, train_loader, train_dataset):\n",
    "    running_loss = 0.0\n",
    "    running_corrects = 0.0\n",
    "    \n",
    "    model.to(device)\n",
    "    model.train()\n",
    "    \n",
    "    with tqdm(train_loader, unit = 'batch') as tepoch:\n",
    "        for images, labels in tepoch:\n",
    "            tepoch.set_description(f\"Training: \")\n",
    "            \n",
    "            images = images.to(device)\n",
    "            labels = labels.to(device)\n",
    "            \n",
    "            # Get model predictions-\n",
    "            outputs = model(images)\n",
    "            \n",
    "            # Compute loss-\n",
    "            J = loss(outputs, labels)\n",
    "            \n",
    "            # Empty accumulated gradients-\n",
    "            optimizer.zero_grad()\n",
    "            \n",
    "            # Perform backprop-\n",
    "            J.backward()\n",
    "            \n",
    "            # Update parameters-\n",
    "            optimizer.step()\n",
    "            \n",
    "            # Compute model's performance statistics-\n",
    "            running_loss += J.item() * images.size(0)\n",
    "            _, predicted = torch.max(outputs, 1)\n",
    "            running_corrects += torch.sum(predicted == labels.data)\n",
    "            \n",
    "            tepoch.set_postfix(\n",
    "                loss = running_loss / len(train_dataset),\n",
    "                accuracy = (running_corrects.double().cpu().numpy() / len(train_dataset)) * 100\n",
    "            )\n",
    "            \n",
    "    \n",
    "    train_loss = running_loss / len(train_dataset)\n",
    "    train_acc = (running_corrects.double() / len(train_dataset)) * 100\n",
    "    \n",
    "\n",
    "    # return running_loss, running_corrects\n",
    "    return train_loss, train_acc.detach().cpu().item()\n"
   ]
  },
  {
   "cell_type": "code",
   "execution_count": 20,
   "id": "5f4ba8c5-7ef6-495e-b9c5-afac20489b24",
   "metadata": {},
   "outputs": [],
   "source": [
    "def test_one_step(model, test_loader, test_dataset):\n",
    "    total = 0.0\n",
    "    correct = 0.0\n",
    "    running_loss_val = 0.0\n",
    "    \n",
    "    model.to(device)\n",
    "    model.eval()\n",
    "\n",
    "    with torch.no_grad():\n",
    "        with tqdm(test_loader, unit = 'batch') as tepoch:\n",
    "            for images, labels in tepoch:\n",
    "                tepoch.set_description(f\"Validation: \")\n",
    "                \n",
    "                images = images.to(device)\n",
    "                labels = labels.to(device)\n",
    "                \n",
    "                # Predict using trained model-\n",
    "                outputs = model(images)\n",
    "                _, y_pred = torch.max(outputs, 1)\n",
    "                \n",
    "                # Compute validation loss-\n",
    "                J_val = loss(outputs, labels)\n",
    "                \n",
    "                running_loss_val += J_val.item() * labels.size(0)\n",
    "    \n",
    "                # Total number of labels-\n",
    "                total += labels.size(0)\n",
    "\n",
    "                # Total number of correct predictions-\n",
    "                correct += (y_pred == labels).sum()\n",
    "                \n",
    "                tepoch.set_postfix(\n",
    "                    val_loss = running_loss_val / len(test_dataset),\n",
    "                    val_acc = 100 * (correct.cpu().numpy() / total)\n",
    "                )\n",
    "            \n",
    "        \n",
    "    # return (running_loss_val, correct, total)\n",
    "    val_loss = running_loss_val / len(test_dataset)\n",
    "    val_acc = (correct / total) * 100\n",
    "\n",
    "    return val_loss, val_acc.detach().cpu().item()\n"
   ]
  },
  {
   "cell_type": "code",
   "execution_count": null,
   "id": "2900fab3-0cde-44f4-b5e1-b22fd81b9a0b",
   "metadata": {},
   "outputs": [],
   "source": []
  },
  {
   "cell_type": "code",
   "execution_count": 21,
   "id": "edf4430d-63a5-4a71-aba1-af2eb5b57d3a",
   "metadata": {},
   "outputs": [],
   "source": [
    "# Python3 dict to contain training metrics-\n",
    "train_history = {}"
   ]
  },
  {
   "cell_type": "code",
   "execution_count": 22,
   "id": "47466ed9-040d-4f00-8b1d-ad0a5f38ae44",
   "metadata": {},
   "outputs": [],
   "source": [
    "best_val_acc = 0"
   ]
  },
  {
   "cell_type": "code",
   "execution_count": null,
   "id": "be9b9fc0-d648-4789-bd0b-4134c16c3888",
   "metadata": {},
   "outputs": [],
   "source": []
  },
  {
   "cell_type": "code",
   "execution_count": 23,
   "id": "b9b6df4c-78d3-4394-b668-7d0f3dd35125",
   "metadata": {},
   "outputs": [
    {
     "name": "stderr",
     "output_type": "stream",
     "text": [
      "Training: : 100%|█| 235/235 [00:08<00:00, 26.16batch/s, accuracy=65.3, loss=1.24\n",
      "Validation: : 100%|█| 40/40 [00:01<00:00, 33.61batch/s, val_acc=87.7, val_loss=0\n"
     ]
    },
    {
     "name": "stdout",
     "output_type": "stream",
     "text": [
      "Epoch: 1; loss = 1.2353, acc = 65.32%  val loss = 0.6112, val acc = 87.68% & LR = 0.010\n",
      "Saving model with highest val_acc = 87.68%\n",
      "\n"
     ]
    },
    {
     "name": "stderr",
     "output_type": "stream",
     "text": [
      "Training: : 100%|█| 235/235 [00:08<00:00, 26.49batch/s, accuracy=89, loss=0.507]\n",
      "Validation: : 100%|█| 40/40 [00:01<00:00, 34.19batch/s, val_acc=91.7, val_loss=0\n"
     ]
    },
    {
     "name": "stdout",
     "output_type": "stream",
     "text": [
      "Epoch: 2; loss = 0.5067, acc = 89.05%  val loss = 0.3788, val acc = 91.70% & LR = 0.010\n",
      "Saving model with highest val_acc = 91.70%\n",
      "\n"
     ]
    },
    {
     "name": "stderr",
     "output_type": "stream",
     "text": [
      "Training: : 100%|█| 235/235 [00:08<00:00, 26.43batch/s, accuracy=91.7, loss=0.35\n",
      "Validation: : 100%|█| 40/40 [00:01<00:00, 31.47batch/s, val_acc=93.3, val_loss=0\n"
     ]
    },
    {
     "name": "stdout",
     "output_type": "stream",
     "text": [
      "Epoch: 3; loss = 0.3587, acc = 91.69%  val loss = 0.2882, val acc = 93.27% & LR = 0.010\n",
      "Saving model with highest val_acc = 93.27%\n",
      "\n"
     ]
    },
    {
     "name": "stderr",
     "output_type": "stream",
     "text": [
      "Training: : 100%|█| 235/235 [00:08<00:00, 26.30batch/s, accuracy=93, loss=0.288]\n",
      "Validation: : 100%|█| 40/40 [00:01<00:00, 33.17batch/s, val_acc=94.1, val_loss=0\n"
     ]
    },
    {
     "name": "stdout",
     "output_type": "stream",
     "text": [
      "Epoch: 4; loss = 0.2883, acc = 92.96%  val loss = 0.2391, val acc = 94.06% & LR = 0.010\n",
      "Saving model with highest val_acc = 94.06%\n",
      "\n"
     ]
    },
    {
     "name": "stderr",
     "output_type": "stream",
     "text": [
      "Training: : 100%|█| 235/235 [00:09<00:00, 25.68batch/s, accuracy=93.9, loss=0.24\n",
      "Validation: : 100%|█| 40/40 [00:01<00:00, 34.84batch/s, val_acc=94.8, val_loss=0\n"
     ]
    },
    {
     "name": "stdout",
     "output_type": "stream",
     "text": [
      "Epoch: 5; loss = 0.2461, acc = 93.86%  val loss = 0.2056, val acc = 94.76% & LR = 0.010\n",
      "Saving model with highest val_acc = 94.76%\n",
      "\n"
     ]
    },
    {
     "name": "stderr",
     "output_type": "stream",
     "text": [
      "Training: : 100%|█| 235/235 [00:08<00:00, 26.33batch/s, accuracy=94.5, loss=0.21\n",
      "Validation: : 100%|█| 40/40 [00:01<00:00, 34.88batch/s, val_acc=95.2, val_loss=0\n"
     ]
    },
    {
     "name": "stdout",
     "output_type": "stream",
     "text": [
      "Epoch: 6; loss = 0.2162, acc = 94.51%  val loss = 0.1849, val acc = 95.21% & LR = 0.010\n",
      "Saving model with highest val_acc = 95.21%\n",
      "\n"
     ]
    },
    {
     "name": "stderr",
     "output_type": "stream",
     "text": [
      "Training: : 100%|█| 235/235 [00:09<00:00, 25.83batch/s, accuracy=95, loss=0.193]\n",
      "Validation: : 100%|█| 40/40 [00:01<00:00, 33.63batch/s, val_acc=95.6, val_loss=0\n"
     ]
    },
    {
     "name": "stdout",
     "output_type": "stream",
     "text": [
      "Epoch: 7; loss = 0.1933, acc = 95.00%  val loss = 0.1652, val acc = 95.57% & LR = 0.010\n",
      "Saving model with highest val_acc = 95.57%\n",
      "\n"
     ]
    },
    {
     "name": "stderr",
     "output_type": "stream",
     "text": [
      "Training: : 100%|█| 235/235 [00:09<00:00, 25.87batch/s, accuracy=95.4, loss=0.17\n",
      "Validation: : 100%|█| 40/40 [00:01<00:00, 33.35batch/s, val_acc=95.8, val_loss=0\n"
     ]
    },
    {
     "name": "stdout",
     "output_type": "stream",
     "text": [
      "Epoch: 8; loss = 0.1760, acc = 95.36%  val loss = 0.1507, val acc = 95.84% & LR = 0.010\n",
      "Saving model with highest val_acc = 95.84%\n",
      "\n"
     ]
    },
    {
     "name": "stderr",
     "output_type": "stream",
     "text": [
      "Training: : 100%|█| 235/235 [00:08<00:00, 26.69batch/s, accuracy=95.7, loss=0.16\n",
      "Validation: : 100%|█| 40/40 [00:01<00:00, 35.86batch/s, val_acc=96.1, val_loss=0\n"
     ]
    },
    {
     "name": "stdout",
     "output_type": "stream",
     "text": [
      "Epoch: 9; loss = 0.1627, acc = 95.68%  val loss = 0.1404, val acc = 96.10% & LR = 0.010\n",
      "Saving model with highest val_acc = 96.10%\n",
      "\n"
     ]
    },
    {
     "name": "stderr",
     "output_type": "stream",
     "text": [
      "Training: : 100%|█| 235/235 [00:08<00:00, 26.83batch/s, accuracy=96, loss=0.151]\n",
      "Validation: : 100%|█| 40/40 [00:01<00:00, 34.51batch/s, val_acc=96.3, val_loss=0\n"
     ]
    },
    {
     "name": "stdout",
     "output_type": "stream",
     "text": [
      "Epoch: 10; loss = 0.1506, acc = 95.99%  val loss = 0.1298, val acc = 96.34% & LR = 0.001\n",
      "Saving model with highest val_acc = 96.34%\n",
      "\n"
     ]
    },
    {
     "name": "stderr",
     "output_type": "stream",
     "text": [
      "Training: : 100%|█| 235/235 [00:08<00:00, 26.69batch/s, accuracy=96.2, loss=0.14\n",
      "Validation: : 100%|█| 40/40 [00:01<00:00, 35.15batch/s, val_acc=96.4, val_loss=0\n"
     ]
    },
    {
     "name": "stdout",
     "output_type": "stream",
     "text": [
      "Epoch: 11; loss = 0.1442, acc = 96.17%  val loss = 0.1295, val acc = 96.35% & LR = 0.001\n",
      "Saving model with highest val_acc = 96.35%\n",
      "\n"
     ]
    },
    {
     "name": "stderr",
     "output_type": "stream",
     "text": [
      "Training: : 100%|█| 235/235 [00:08<00:00, 26.61batch/s, accuracy=96.2, loss=0.14\n",
      "Validation: : 100%|█| 40/40 [00:01<00:00, 35.03batch/s, val_acc=96.3, val_loss=0\n"
     ]
    },
    {
     "name": "stdout",
     "output_type": "stream",
     "text": [
      "Epoch: 12; loss = 0.1431, acc = 96.17%  val loss = 0.1291, val acc = 96.34% & LR = 0.001\n"
     ]
    },
    {
     "name": "stderr",
     "output_type": "stream",
     "text": [
      "Training: : 100%|█| 235/235 [00:08<00:00, 26.13batch/s, accuracy=96.2, loss=0.14\n",
      "Validation: : 100%|█| 40/40 [00:01<00:00, 34.01batch/s, val_acc=96.4, val_loss=0\n"
     ]
    },
    {
     "name": "stdout",
     "output_type": "stream",
     "text": [
      "Epoch: 13; loss = 0.1431, acc = 96.19%  val loss = 0.1280, val acc = 96.37% & LR = 0.001\n",
      "Saving model with highest val_acc = 96.37%\n",
      "\n"
     ]
    },
    {
     "name": "stderr",
     "output_type": "stream",
     "text": [
      "Training: : 100%|█| 235/235 [00:08<00:00, 26.63batch/s, accuracy=96.2, loss=0.14\n",
      "Validation: : 100%|█| 40/40 [00:01<00:00, 34.07batch/s, val_acc=96.4, val_loss=0\n"
     ]
    },
    {
     "name": "stdout",
     "output_type": "stream",
     "text": [
      "Epoch: 14; loss = 0.1420, acc = 96.19%  val loss = 0.1270, val acc = 96.35% & LR = 0.001\n"
     ]
    },
    {
     "name": "stderr",
     "output_type": "stream",
     "text": [
      "Training: : 100%|█| 235/235 [00:08<00:00, 26.49batch/s, accuracy=96.3, loss=0.14\n",
      "Validation: : 100%|█| 40/40 [00:01<00:00, 34.89batch/s, val_acc=96.4, val_loss=0\n"
     ]
    },
    {
     "name": "stdout",
     "output_type": "stream",
     "text": [
      "Epoch: 15; loss = 0.1404, acc = 96.26%  val loss = 0.1261, val acc = 96.44% & LR = 0.001\n",
      "Saving model with highest val_acc = 96.44%\n",
      "\n"
     ]
    },
    {
     "name": "stderr",
     "output_type": "stream",
     "text": [
      "Training: : 100%|█| 235/235 [00:08<00:00, 26.45batch/s, accuracy=96.3, loss=0.14\n",
      "Validation: : 100%|█| 40/40 [00:01<00:00, 34.41batch/s, val_acc=96.5, val_loss=0\n"
     ]
    },
    {
     "name": "stdout",
     "output_type": "stream",
     "text": [
      "Epoch: 16; loss = 0.1401, acc = 96.27%  val loss = 0.1259, val acc = 96.45% & LR = 0.001\n",
      "Saving model with highest val_acc = 96.45%\n",
      "\n"
     ]
    },
    {
     "name": "stderr",
     "output_type": "stream",
     "text": [
      "Training: : 100%|█| 235/235 [00:09<00:00, 25.89batch/s, accuracy=96.2, loss=0.13\n",
      "Validation: : 100%|█| 40/40 [00:01<00:00, 36.49batch/s, val_acc=96.4, val_loss=0\n"
     ]
    },
    {
     "name": "stdout",
     "output_type": "stream",
     "text": [
      "Epoch: 17; loss = 0.1394, acc = 96.25%  val loss = 0.1247, val acc = 96.40% & LR = 0.001\n"
     ]
    },
    {
     "name": "stderr",
     "output_type": "stream",
     "text": [
      "Training: : 100%|█| 235/235 [00:08<00:00, 26.67batch/s, accuracy=96.3, loss=0.13\n",
      "Validation: : 100%|█| 40/40 [00:01<00:00, 36.31batch/s, val_acc=96.5, val_loss=0\n"
     ]
    },
    {
     "name": "stdout",
     "output_type": "stream",
     "text": [
      "Epoch: 18; loss = 0.1388, acc = 96.31%  val loss = 0.1239, val acc = 96.46% & LR = 0.001\n",
      "Saving model with highest val_acc = 96.46%\n",
      "\n"
     ]
    },
    {
     "name": "stderr",
     "output_type": "stream",
     "text": [
      "Training: : 100%|█| 235/235 [00:08<00:00, 27.20batch/s, accuracy=96.3, loss=0.13\n",
      "Validation: : 100%|█| 40/40 [00:01<00:00, 35.00batch/s, val_acc=96.5, val_loss=0\n"
     ]
    },
    {
     "name": "stdout",
     "output_type": "stream",
     "text": [
      "Epoch: 19; loss = 0.1371, acc = 96.33%  val loss = 0.1239, val acc = 96.52% & LR = 0.001\n",
      "Saving model with highest val_acc = 96.52%\n",
      "\n"
     ]
    },
    {
     "name": "stderr",
     "output_type": "stream",
     "text": [
      "Training: : 100%|█| 235/235 [00:08<00:00, 26.66batch/s, accuracy=96.4, loss=0.13\n",
      "Validation: : 100%|█| 40/40 [00:01<00:00, 37.03batch/s, val_acc=96.5, val_loss=0\n"
     ]
    },
    {
     "name": "stdout",
     "output_type": "stream",
     "text": [
      "Epoch: 20; loss = 0.1368, acc = 96.35%  val loss = 0.1224, val acc = 96.49% & LR = 0.000\n"
     ]
    },
    {
     "name": "stderr",
     "output_type": "stream",
     "text": [
      "Training: : 100%|█| 235/235 [00:08<00:00, 26.77batch/s, accuracy=96.4, loss=0.13\n",
      "Validation: : 100%|█| 40/40 [00:01<00:00, 35.86batch/s, val_acc=96.5, val_loss=0\n"
     ]
    },
    {
     "name": "stdout",
     "output_type": "stream",
     "text": [
      "Epoch: 21; loss = 0.1360, acc = 96.38%  val loss = 0.1232, val acc = 96.48% & LR = 0.000\n"
     ]
    },
    {
     "name": "stderr",
     "output_type": "stream",
     "text": [
      "Training: : 100%|█| 235/235 [00:08<00:00, 26.61batch/s, accuracy=96.3, loss=0.13\n",
      "Validation: : 100%|█| 40/40 [00:01<00:00, 35.16batch/s, val_acc=96.5, val_loss=0\n"
     ]
    },
    {
     "name": "stdout",
     "output_type": "stream",
     "text": [
      "Epoch: 22; loss = 0.1365, acc = 96.32%  val loss = 0.1228, val acc = 96.47% & LR = 0.000\n"
     ]
    },
    {
     "name": "stderr",
     "output_type": "stream",
     "text": [
      "Training: : 100%|█| 235/235 [00:08<00:00, 26.45batch/s, accuracy=96.4, loss=0.13\n",
      "Validation: : 100%|█| 40/40 [00:01<00:00, 36.25batch/s, val_acc=96.5, val_loss=0\n"
     ]
    },
    {
     "name": "stdout",
     "output_type": "stream",
     "text": [
      "Epoch: 23; loss = 0.1355, acc = 96.40%  val loss = 0.1217, val acc = 96.46% & LR = 0.000\n"
     ]
    },
    {
     "name": "stderr",
     "output_type": "stream",
     "text": [
      "Training: : 100%|█| 235/235 [00:08<00:00, 26.46batch/s, accuracy=96.4, loss=0.13\n",
      "Validation: : 100%|█| 40/40 [00:01<00:00, 35.70batch/s, val_acc=96.5, val_loss=0\n"
     ]
    },
    {
     "name": "stdout",
     "output_type": "stream",
     "text": [
      "Epoch: 24; loss = 0.1355, acc = 96.35%  val loss = 0.1223, val acc = 96.49% & LR = 0.000\n"
     ]
    },
    {
     "name": "stderr",
     "output_type": "stream",
     "text": [
      "Training: : 100%|█| 235/235 [00:08<00:00, 27.00batch/s, accuracy=96.3, loss=0.13\n",
      "Validation: : 100%|█| 40/40 [00:01<00:00, 36.46batch/s, val_acc=96.5, val_loss=0\n"
     ]
    },
    {
     "name": "stdout",
     "output_type": "stream",
     "text": [
      "Epoch: 25; loss = 0.1352, acc = 96.33%  val loss = 0.1230, val acc = 96.48% & LR = 0.000\n"
     ]
    },
    {
     "name": "stderr",
     "output_type": "stream",
     "text": [
      "Training: : 100%|█| 235/235 [00:08<00:00, 26.83batch/s, accuracy=96.4, loss=0.13\n",
      "Validation: : 100%|█| 40/40 [00:01<00:00, 32.98batch/s, val_acc=96.5, val_loss=0\n"
     ]
    },
    {
     "name": "stdout",
     "output_type": "stream",
     "text": [
      "Epoch: 26; loss = 0.1355, acc = 96.41%  val loss = 0.1216, val acc = 96.48% & LR = 0.000\n"
     ]
    },
    {
     "name": "stderr",
     "output_type": "stream",
     "text": [
      "Training: : 100%|█| 235/235 [00:08<00:00, 26.60batch/s, accuracy=96.4, loss=0.13\n",
      "Validation: : 100%|█| 40/40 [00:01<00:00, 36.29batch/s, val_acc=96.5, val_loss=0\n"
     ]
    },
    {
     "name": "stdout",
     "output_type": "stream",
     "text": [
      "Epoch: 27; loss = 0.1355, acc = 96.37%  val loss = 0.1228, val acc = 96.49% & LR = 0.000\n"
     ]
    },
    {
     "name": "stderr",
     "output_type": "stream",
     "text": [
      "Training: : 100%|█| 235/235 [00:08<00:00, 26.92batch/s, accuracy=96.4, loss=0.13\n",
      "Validation: : 100%|█| 40/40 [00:01<00:00, 34.93batch/s, val_acc=96.5, val_loss=0\n"
     ]
    },
    {
     "name": "stdout",
     "output_type": "stream",
     "text": [
      "Epoch: 28; loss = 0.1353, acc = 96.38%  val loss = 0.1219, val acc = 96.54% & LR = 0.000\n",
      "Saving model with highest val_acc = 96.54%\n",
      "\n"
     ]
    },
    {
     "name": "stderr",
     "output_type": "stream",
     "text": [
      "Training: : 100%|█| 235/235 [00:08<00:00, 26.80batch/s, accuracy=96.3, loss=0.13\n",
      "Validation: : 100%|█| 40/40 [00:01<00:00, 35.65batch/s, val_acc=96.5, val_loss=0\n"
     ]
    },
    {
     "name": "stdout",
     "output_type": "stream",
     "text": [
      "Epoch: 29; loss = 0.1357, acc = 96.34%  val loss = 0.1228, val acc = 96.50% & LR = 0.000\n"
     ]
    },
    {
     "name": "stderr",
     "output_type": "stream",
     "text": [
      "Training: : 100%|█| 235/235 [00:08<00:00, 26.22batch/s, accuracy=96.4, loss=0.13\n",
      "Validation: : 100%|█| 40/40 [00:01<00:00, 36.08batch/s, val_acc=96.5, val_loss=0"
     ]
    },
    {
     "name": "stdout",
     "output_type": "stream",
     "text": [
      "Epoch: 30; loss = 0.1355, acc = 96.37%  val loss = 0.1215, val acc = 96.47% & LR = 0.000\n"
     ]
    },
    {
     "name": "stderr",
     "output_type": "stream",
     "text": [
      "\n"
     ]
    }
   ],
   "source": [
    "for epoch in range(1, num_epochs + 1):\n",
    "    \n",
    "    # One epoch of training-\n",
    "    train_loss, train_acc = train_one_step(\n",
    "        model = model, train_loader = train_loader,\n",
    "        train_dataset = train_dataset\n",
    "    )\n",
    "    \n",
    "    # Get validation metrics after 1 epoch of training-\n",
    "    val_loss, val_acc = test_one_step(\n",
    "        model = model, test_loader = test_loader,\n",
    "        test_dataset = test_dataset\n",
    "    )\n",
    "    \n",
    "    scheduler.step()\n",
    "    \n",
    "    current_lr = optimizer.param_groups[0][\"lr\"]\n",
    "    \n",
    "    print(f\"Epoch: {epoch}; loss = {train_loss:.4f}, acc = {train_acc:.2f}%\",\n",
    "          f\" val loss = {val_loss:.4f}, val acc = {val_acc:.2f}% & LR = {current_lr:.3f}\"\n",
    "         )\n",
    "    \n",
    "    # Save training metrics to Python3 dict-\n",
    "    train_history[epoch] = {\n",
    "        'train_loss': train_loss, 'val_loss': val_loss,\n",
    "        'train_acc': train_acc, 'val_acc': val_acc,\n",
    "        'lr': current_lr\n",
    "    }\n",
    "    \n",
    "    # Save model with best validation accuracy-\n",
    "    if (val_acc > best_val_acc):\n",
    "        best_val_acc = val_acc\n",
    "        print(f\"Saving model with highest val_acc = {val_acc:.2f}%\\n\")\n",
    "        torch.save(model.state_dict(), \"LeNet5_MNIST_best_val_acc.pth\")\n",
    "        "
   ]
  },
  {
   "cell_type": "code",
   "execution_count": null,
   "id": "6b3a9f43-6b47-451e-a61b-6590664bf275",
   "metadata": {},
   "outputs": [],
   "source": []
  },
  {
   "cell_type": "code",
   "execution_count": 24,
   "id": "f52c92f6-c3ce-44de-b41d-aa78506741be",
   "metadata": {},
   "outputs": [],
   "source": [
    "# Save training metrics as pickled object-\n",
    "with open(\"LeNet5_MNIST_training_history.pkl\", \"wb\") as file:\n",
    "    pickle.dump(train_history, file)"
   ]
  },
  {
   "cell_type": "code",
   "execution_count": null,
   "id": "11af4dc0-e5df-4397-8585-ec44e05a58cd",
   "metadata": {},
   "outputs": [],
   "source": []
  },
  {
   "cell_type": "code",
   "execution_count": null,
   "id": "55514680-f3e6-4e33-af4b-d30ed27112b0",
   "metadata": {},
   "outputs": [],
   "source": []
  },
  {
   "cell_type": "markdown",
   "id": "c1cd3b56-2dae-475b-9eac-f16ff9d0d846",
   "metadata": {},
   "source": [
    "### Training Visualizations"
   ]
  },
  {
   "cell_type": "code",
   "execution_count": 25,
   "id": "12deb7e3-9973-4a3f-b322-f409fa4a0f67",
   "metadata": {},
   "outputs": [
    {
     "data": {
      "image/png": "[encoded data removed]",
      "text/plain": [
       "<Figure size 800x700 with 1 Axes>"
      ]
     },
     "metadata": {},
     "output_type": "display_data"
    }
   ],
   "source": [
    "plt.figure(figsize = (8, 7))\n",
    "plt.plot([train_history[e]['lr'] for e in train_history.keys()])\n",
    "plt.xlabel(\"epochs\")\n",
    "plt.ylabel(\"lr\")\n",
    "plt.title(\"LR Training\")\n",
    "plt.show()"
   ]
  },
  {
   "cell_type": "code",
   "execution_count": 26,
   "id": "50502809-6128-454a-bd4f-0943cba9762f",
   "metadata": {},
   "outputs": [
    {
     "data": {
      "image/png": "[encoded data removed]",
      "text/plain": [
       "<Figure size 800x700 with 1 Axes>"
      ]
     },
     "metadata": {},
     "output_type": "display_data"
    }
   ],
   "source": [
    "plt.figure(figsize = (8, 7))\n",
    "plt.plot([train_history[e]['train_loss'] for e in train_history.keys()], label = 'loss')\n",
    "plt.plot([train_history[e]['val_loss'] for e in train_history.keys()], label = 'val loss')\n",
    "plt.xlabel(\"epochs\")\n",
    "plt.ylabel(\"loss\")\n",
    "plt.title(\"Loss Visualization Training\")\n",
    "plt.legend(loc = 'best')\n",
    "plt.show()"
   ]
  },
  {
   "cell_type": "code",
   "execution_count": 27,
   "id": "22793fef-d107-49c4-a67d-12bd764c2bac",
   "metadata": {},
   "outputs": [
    {
     "data": {
      "image/png": "[encoded data removed]",
      "text/plain": [
       "<Figure size 800x700 with 1 Axes>"
      ]
     },
     "metadata": {},
     "output_type": "display_data"
    }
   ],
   "source": [
    "plt.figure(figsize = (8, 7))\n",
    "plt.plot([train_history[e]['train_acc'] for e in train_history.keys()], label = 'acc')\n",
    "plt.plot([train_history[e]['val_acc'] for e in train_history.keys()], label = 'val acc')\n",
    "plt.xlabel(\"epochs\")\n",
    "plt.ylabel(\"acc %\")\n",
    "plt.title(\"Accuracy Visualization Training\")\n",
    "plt.legend(loc = 'best')\n",
    "plt.show()"
   ]
  },
  {
   "cell_type": "code",
   "execution_count": null,
   "id": "6917509e-d78a-4745-9566-4a8a6d6942cd",
   "metadata": {},
   "outputs": [],
   "source": []
  },
  {
   "cell_type": "code",
   "execution_count": null,
   "id": "f46a1ee2-62a0-4e6c-95ce-02d58dd40ff2",
   "metadata": {},
   "outputs": [],
   "source": []
  }
 ],
 "metadata": {
  "kernelspec": {
   "display_name": "Python 3 (ipykernel)",
   "language": "python",
   "name": "python3"
  },
  "language_info": {
   "codemirror_mode": {
    "name": "ipython",
    "version": 3
   },
   "file_extension": ".py",
   "mimetype": "text/x-python",
   "name": "python",
   "nbconvert_exporter": "python",
   "pygments_lexer": "ipython3",
   "version": "3.10.6"
  }
 },
 "nbformat": 4,
 "nbformat_minor": 5
}
