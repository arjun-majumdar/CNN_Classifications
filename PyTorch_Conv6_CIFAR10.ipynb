{
  "nbformat": 4,
  "nbformat_minor": 0,
  "metadata": {
    "colab": {
      "name": "PyTorch_Conv6_CIFAR10.ipynb",
      "provenance": [],
      "collapsed_sections": []
    },
    "kernelspec": {
      "name": "python3",
      "display_name": "Python 3"
    },
    "accelerator": "GPU",
    "widgets": {
      "application/vnd.jupyter.widget-state+json": {
        "98e877144ec741dcb117992786692e25": {
          "model_module": "@jupyter-widgets/controls",
          "model_name": "HBoxModel",
          "state": {
            "_view_name": "HBoxView",
            "_dom_classes": [],
            "_model_name": "HBoxModel",
            "_view_module": "@jupyter-widgets/controls",
            "_model_module_version": "1.5.0",
            "_view_count": null,
            "_view_module_version": "1.5.0",
            "box_style": "",
            "layout": "IPY_MODEL_e673a0125cc649118537921864ea6d89",
            "_model_module": "@jupyter-widgets/controls",
            "children": [
              "IPY_MODEL_a8192c0cb7174bc1a395cb53c6592c28",
              "IPY_MODEL_caf6eb805ee54fe7921eb4be5709406e"
            ]
          }
        },
        "e673a0125cc649118537921864ea6d89": {
          "model_module": "@jupyter-widgets/base",
          "model_name": "LayoutModel",
          "state": {
            "_view_name": "LayoutView",
            "grid_template_rows": null,
            "right": null,
            "justify_content": null,
            "_view_module": "@jupyter-widgets/base",
            "overflow": null,
            "_model_module_version": "1.2.0",
            "_view_count": null,
            "flex_flow": null,
            "width": null,
            "min_width": null,
            "border": null,
            "align_items": null,
            "bottom": null,
            "_model_module": "@jupyter-widgets/base",
            "top": null,
            "grid_column": null,
            "overflow_y": null,
            "overflow_x": null,
            "grid_auto_flow": null,
            "grid_area": null,
            "grid_template_columns": null,
            "flex": null,
            "_model_name": "LayoutModel",
            "justify_items": null,
            "grid_row": null,
            "max_height": null,
            "align_content": null,
            "visibility": null,
            "align_self": null,
            "height": null,
            "min_height": null,
            "padding": null,
            "grid_auto_rows": null,
            "grid_gap": null,
            "max_width": null,
            "order": null,
            "_view_module_version": "1.2.0",
            "grid_template_areas": null,
            "object_position": null,
            "object_fit": null,
            "grid_auto_columns": null,
            "margin": null,
            "display": null,
            "left": null
          }
        },
        "a8192c0cb7174bc1a395cb53c6592c28": {
          "model_module": "@jupyter-widgets/controls",
          "model_name": "FloatProgressModel",
          "state": {
            "_view_name": "ProgressView",
            "style": "IPY_MODEL_f3a162d27f124bcc9bae2451c281156d",
            "_dom_classes": [],
            "description": "",
            "_model_name": "FloatProgressModel",
            "bar_style": "info",
            "max": 1,
            "_view_module": "@jupyter-widgets/controls",
            "_model_module_version": "1.5.0",
            "value": 1,
            "_view_count": null,
            "_view_module_version": "1.5.0",
            "orientation": "horizontal",
            "min": 0,
            "description_tooltip": null,
            "_model_module": "@jupyter-widgets/controls",
            "layout": "IPY_MODEL_31a5d5ebea7a41e1b02fea711a51dfca"
          }
        },
        "caf6eb805ee54fe7921eb4be5709406e": {
          "model_module": "@jupyter-widgets/controls",
          "model_name": "HTMLModel",
          "state": {
            "_view_name": "HTMLView",
            "style": "IPY_MODEL_39c47299e5f9419c8f6f19e6098440d3",
            "_dom_classes": [],
            "description": "",
            "_model_name": "HTMLModel",
            "placeholder": "​",
            "_view_module": "@jupyter-widgets/controls",
            "_model_module_version": "1.5.0",
            "value": " 170500096/? [00:30&lt;00:00, 14634812.93it/s]",
            "_view_count": null,
            "_view_module_version": "1.5.0",
            "description_tooltip": null,
            "_model_module": "@jupyter-widgets/controls",
            "layout": "IPY_MODEL_938e203ba0ed4dd3890ed9e3a7afc34f"
          }
        },
        "f3a162d27f124bcc9bae2451c281156d": {
          "model_module": "@jupyter-widgets/controls",
          "model_name": "ProgressStyleModel",
          "state": {
            "_view_name": "StyleView",
            "_model_name": "ProgressStyleModel",
            "description_width": "initial",
            "_view_module": "@jupyter-widgets/base",
            "_model_module_version": "1.5.0",
            "_view_count": null,
            "_view_module_version": "1.2.0",
            "bar_color": null,
            "_model_module": "@jupyter-widgets/controls"
          }
        },
        "31a5d5ebea7a41e1b02fea711a51dfca": {
          "model_module": "@jupyter-widgets/base",
          "model_name": "LayoutModel",
          "state": {
            "_view_name": "LayoutView",
            "grid_template_rows": null,
            "right": null,
            "justify_content": null,
            "_view_module": "@jupyter-widgets/base",
            "overflow": null,
            "_model_module_version": "1.2.0",
            "_view_count": null,
            "flex_flow": null,
            "width": null,
            "min_width": null,
            "border": null,
            "align_items": null,
            "bottom": null,
            "_model_module": "@jupyter-widgets/base",
            "top": null,
            "grid_column": null,
            "overflow_y": null,
            "overflow_x": null,
            "grid_auto_flow": null,
            "grid_area": null,
            "grid_template_columns": null,
            "flex": null,
            "_model_name": "LayoutModel",
            "justify_items": null,
            "grid_row": null,
            "max_height": null,
            "align_content": null,
            "visibility": null,
            "align_self": null,
            "height": null,
            "min_height": null,
            "padding": null,
            "grid_auto_rows": null,
            "grid_gap": null,
            "max_width": null,
            "order": null,
            "_view_module_version": "1.2.0",
            "grid_template_areas": null,
            "object_position": null,
            "object_fit": null,
            "grid_auto_columns": null,
            "margin": null,
            "display": null,
            "left": null
          }
        },
        "39c47299e5f9419c8f6f19e6098440d3": {
          "model_module": "@jupyter-widgets/controls",
          "model_name": "DescriptionStyleModel",
          "state": {
            "_view_name": "StyleView",
            "_model_name": "DescriptionStyleModel",
            "description_width": "",
            "_view_module": "@jupyter-widgets/base",
            "_model_module_version": "1.5.0",
            "_view_count": null,
            "_view_module_version": "1.2.0",
            "_model_module": "@jupyter-widgets/controls"
          }
        },
        "938e203ba0ed4dd3890ed9e3a7afc34f": {
          "model_module": "@jupyter-widgets/base",
          "model_name": "LayoutModel",
          "state": {
            "_view_name": "LayoutView",
            "grid_template_rows": null,
            "right": null,
            "justify_content": null,
            "_view_module": "@jupyter-widgets/base",
            "overflow": null,
            "_model_module_version": "1.2.0",
            "_view_count": null,
            "flex_flow": null,
            "width": null,
            "min_width": null,
            "border": null,
            "align_items": null,
            "bottom": null,
            "_model_module": "@jupyter-widgets/base",
            "top": null,
            "grid_column": null,
            "overflow_y": null,
            "overflow_x": null,
            "grid_auto_flow": null,
            "grid_area": null,
            "grid_template_columns": null,
            "flex": null,
            "_model_name": "LayoutModel",
            "justify_items": null,
            "grid_row": null,
            "max_height": null,
            "align_content": null,
            "visibility": null,
            "align_self": null,
            "height": null,
            "min_height": null,
            "padding": null,
            "grid_auto_rows": null,
            "grid_gap": null,
            "max_width": null,
            "order": null,
            "_view_module_version": "1.2.0",
            "grid_template_areas": null,
            "object_position": null,
            "object_fit": null,
            "grid_auto_columns": null,
            "margin": null,
            "display": null,
            "left": null
          }
        }
      }
    }
  },
  "cells": [
    {
      "cell_type": "markdown",
      "metadata": {
        "id": "bXdJ_tRFycLu"
      },
      "source": [
        "**PyTorch implementation of Conv-6 for CIFAR-10 classification**"
      ]
    },
    {
      "cell_type": "code",
      "metadata": {
        "id": "5OWffvU8ycqg"
      },
      "source": [
        "import torch\n",
        "import torch.nn as nn\n",
        "import torch.nn.functional as F\n",
        "import torchvision\n",
        "import torchvision.transforms as transforms\n",
        "import matplotlib.pyplot as plt\n",
        "import numpy as np"
      ],
      "execution_count": 1,
      "outputs": []
    },
    {
      "cell_type": "code",
      "metadata": {
        "id": "4knRai2qzCzs"
      },
      "source": [
        ""
      ],
      "execution_count": null,
      "outputs": []
    },
    {
      "cell_type": "code",
      "metadata": {
        "id": "HYr_o5IWzGI8"
      },
      "source": [
        "# Device configuration-\n",
        "device = torch.device('cuda' if torch.cuda.is_available() else 'cpu')"
      ],
      "execution_count": 2,
      "outputs": []
    },
    {
      "cell_type": "code",
      "metadata": {
        "colab": {
          "base_uri": "https://localhost:8080/"
        },
        "id": "iePtc0UXzIlO",
        "outputId": "f55a2b1a-e000-424b-bab7-4b2db2fdf025"
      },
      "source": [
        "print(f'\\nAvailable device is {device}')"
      ],
      "execution_count": 3,
      "outputs": [
        {
          "output_type": "stream",
          "text": [
            "\n",
            "Available device is cuda\n"
          ],
          "name": "stdout"
        }
      ]
    },
    {
      "cell_type": "code",
      "metadata": {
        "id": "p6Oryg7qzJKJ"
      },
      "source": [
        "# Hyper-parameters-\n",
        "num_epochs = 16\n",
        "batch_size = 32\n",
        "learning_rate = 0.0003"
      ],
      "execution_count": 4,
      "outputs": []
    },
    {
      "cell_type": "code",
      "metadata": {
        "id": "c6SpvYUlAV0P"
      },
      "source": [
        "# Dataset has PILImage images of range [0, 1]. We transform them to Tensors\n",
        "# of normalized range [-1, 1]\n",
        "transform = transforms.Compose(\n",
        "        [\n",
        "            transforms.ToTensor(),\n",
        "            transforms.Normalize((0.5, 0.5, 0.5), (0.5, 0.5, 0.5))\n",
        "            ]\n",
        "        )"
      ],
      "execution_count": 5,
      "outputs": []
    },
    {
      "cell_type": "code",
      "metadata": {
        "colab": {
          "base_uri": "https://localhost:8080/",
          "height": 101,
          "referenced_widgets": [
            "98e877144ec741dcb117992786692e25",
            "e673a0125cc649118537921864ea6d89",
            "a8192c0cb7174bc1a395cb53c6592c28",
            "caf6eb805ee54fe7921eb4be5709406e",
            "f3a162d27f124bcc9bae2451c281156d",
            "31a5d5ebea7a41e1b02fea711a51dfca",
            "39c47299e5f9419c8f6f19e6098440d3",
            "938e203ba0ed4dd3890ed9e3a7afc34f"
          ]
        },
        "id": "kIwbYjlxAYJ2",
        "outputId": "c6346115-13c6-44ae-8b63-52c37a49f1bb"
      },
      "source": [
        "# Load dataset-\n",
        "train_dataset = torchvision.datasets.CIFAR10(\n",
        "        root = './data', train = True,\n",
        "        download = True, transform = transform\n",
        "        )\n",
        "\n",
        "test_dataset = torchvision.datasets.CIFAR10(\n",
        "        root = './data', train = False,\n",
        "        download = True, transform = transform\n",
        "        )"
      ],
      "execution_count": 6,
      "outputs": [
        {
          "output_type": "stream",
          "text": [
            "Downloading https://www.cs.toronto.edu/~kriz/cifar-10-python.tar.gz to ./data/cifar-10-python.tar.gz\n"
          ],
          "name": "stdout"
        },
        {
          "output_type": "display_data",
          "data": {
            "application/vnd.jupyter.widget-view+json": {
              "model_id": "98e877144ec741dcb117992786692e25",
              "version_minor": 0,
              "version_major": 2
            },
            "text/plain": [
              "HBox(children=(FloatProgress(value=1.0, bar_style='info', max=1.0), HTML(value='')))"
            ]
          },
          "metadata": {
            "tags": []
          }
        },
        {
          "output_type": "stream",
          "text": [
            "Extracting ./data/cifar-10-python.tar.gz to ./data\n",
            "Files already downloaded and verified\n"
          ],
          "name": "stdout"
        }
      ]
    },
    {
      "cell_type": "code",
      "metadata": {
        "id": "i6afPnQvAaTz"
      },
      "source": [
        "train_loader = torch.utils.data.DataLoader(\n",
        "        train_dataset, batch_size = batch_size,\n",
        "        shuffle = True\n",
        "        )\n",
        "\n",
        "test_loader = torch.utils.data.DataLoader(\n",
        "        test_dataset, batch_size = batch_size,\n",
        "        shuffle = False\n",
        "        )"
      ],
      "execution_count": 7,
      "outputs": []
    },
    {
      "cell_type": "markdown",
      "metadata": {
        "id": "_G-9vR-LAfQ1"
      },
      "source": [
        "After defining dataset and dataloader, we can do automatic batch optimization and batch training"
      ]
    },
    {
      "cell_type": "code",
      "metadata": {
        "id": "8U0SKReSAc0x"
      },
      "source": [
        "# Define CIFAR-10 classes-\n",
        "classes = ('plane', 'car', 'bird', 'cat', 'deer', 'dog', 'frog', 'horse',\n",
        "        'ship', 'truck')"
      ],
      "execution_count": 8,
      "outputs": []
    },
    {
      "cell_type": "code",
      "metadata": {
        "id": "Fz292Oc0AjSg"
      },
      "source": [
        ""
      ],
      "execution_count": null,
      "outputs": []
    },
    {
      "cell_type": "code",
      "metadata": {
        "id": "8YSiala1AkuY"
      },
      "source": [
        "def show_some_imgs(img):\n",
        "    # De-normalize img-\n",
        "    img = img / 2 * 0.5\n",
        "    np_img = img.numpy()\n",
        "    plt.imshow(np.transpose(np_img, (1, 2, 0)))\n",
        "    plt.show()\n",
        "\n",
        "    return None"
      ],
      "execution_count": null,
      "outputs": []
    },
    {
      "cell_type": "code",
      "metadata": {
        "colab": {
          "base_uri": "https://localhost:8080/"
        },
        "id": "laEjWor6AlPn",
        "outputId": "23780408-e154-4dad-a3fa-a12f4b14dd90"
      },
      "source": [
        "# Get some random training images-\n",
        "some_img = iter(train_loader)\n",
        "images, labels = some_img.next()\n",
        "\n",
        "# You get 32 images due to our specified batch size-\n",
        "images.shape, labels.shape"
      ],
      "execution_count": 9,
      "outputs": [
        {
          "output_type": "execute_result",
          "data": {
            "text/plain": [
              "(torch.Size([32, 3, 32, 32]), torch.Size([32]))"
            ]
          },
          "metadata": {
            "tags": []
          },
          "execution_count": 9
        }
      ]
    },
    {
      "cell_type": "code",
      "metadata": {
        "colab": {
          "base_uri": "https://localhost:8080/",
          "height": 237
        },
        "id": "UFanyMjwAo2X",
        "outputId": "c78389cb-ecbf-4552-eb1c-5fc78b4fe0b6"
      },
      "source": [
        "# Visualize these random images-\n",
        "show_some_imgs(torchvision.utils.make_grid(images))"
      ],
      "execution_count": null,
      "outputs": [
        {
          "output_type": "stream",
          "text": [
            "Clipping input data to the valid range for imshow with RGB data ([0..1] for floats or [0..255] for integers).\n"
          ],
          "name": "stderr"
        },
        {
          "output_type": "display_data",
          "data": {
            "image/png": "[encoded data removed]",
            "text/plain": [
              "<Figure size 432x288 with 1 Axes>"
            ]
          },
          "metadata": {
            "tags": [],
            "needs_background": "light"
          }
        }
      ]
    },
    {
      "cell_type": "code",
      "metadata": {
        "id": "g0njS0WqAvov"
      },
      "source": [
        ""
      ],
      "execution_count": null,
      "outputs": []
    },
    {
      "cell_type": "code",
      "metadata": {
        "id": "sHr5S1h2vH7M"
      },
      "source": [
        ""
      ],
      "execution_count": null,
      "outputs": []
    },
    {
      "cell_type": "code",
      "metadata": {
        "id": "xxj_lgIBvvka",
        "colab": {
          "base_uri": "https://localhost:8080/",
          "height": 36
        },
        "outputId": "c31d72ff-26ca-4e5a-824a-924b38cdbf14"
      },
      "source": [
        "# Testing-\n",
        "conv1 = nn.Conv2d(\n",
        "    in_channels = 3, out_channels = 64,\n",
        "    kernel_size = 3, stride = 1,\n",
        "    padding = 1, bias = True\n",
        "    )\n",
        "conv2 = nn.Conv2d(\n",
        "    in_channels = 64, out_channels = 64,\n",
        "    kernel_size = 3, stride = 1,\n",
        "    padding = 1, bias = True\n",
        "    )\n",
        "pool = nn.MaxPool2d(\n",
        "    kernel_size = 2, stride = 2\n",
        "    )\n",
        "conv3 = nn.Conv2d(\n",
        "    in_channels = 64, out_channels = 128,\n",
        "    kernel_size = 3, stride = 1,\n",
        "    padding = 1, bias = True\n",
        "    )\n",
        "conv4 = nn.Conv2d(\n",
        "    in_channels = 128, out_channels = 128,\n",
        "    kernel_size = 3, stride = 1,\n",
        "    padding = 1, bias = True\n",
        "    )\n",
        "pool = nn.MaxPool2d(\n",
        "    kernel_size = 2, stride = 2\n",
        "    )\n",
        "conv5 = nn.Conv2d(\n",
        "    in_channels = 128, out_channels = 256,\n",
        "    kernel_size = 3, stride = 1,\n",
        "    padding = 1, bias = True\n",
        "    )\n",
        "conv6 = nn.Conv2d(\n",
        "    in_channels = 256, out_channels = 256,\n",
        "    kernel_size = 3, stride = 1,\n",
        "    padding = 1, bias = True\n",
        "    )\n",
        "pool = nn.MaxPool2d(\n",
        "    kernel_size = 2, stride = 2\n",
        "    )\n",
        "'''\n",
        "fc1 = nn.Linear(\n",
        "    in_features = 64 * 16 * 16, out_features = 256\n",
        "    # bias = True\n",
        ")'''"
      ],
      "execution_count": 26,
      "outputs": [
        {
          "output_type": "execute_result",
          "data": {
            "application/vnd.google.colaboratory.intrinsic+json": {
              "type": "string"
            },
            "text/plain": [
              "'\\nfc1 = nn.Linear(\\n    in_features = 64 * 16 * 16, out_features = 256\\n    # bias = True\\n)'"
            ]
          },
          "metadata": {
            "tags": []
          },
          "execution_count": 26
        }
      ]
    },
    {
      "cell_type": "code",
      "metadata": {
        "colab": {
          "base_uri": "https://localhost:8080/"
        },
        "id": "PBjNhqxcv2ik",
        "outputId": "36bdc67b-80ce-42ce-b9fe-7ca438621419"
      },
      "source": [
        "x = conv1(images)\n",
        "x.shape"
      ],
      "execution_count": 49,
      "outputs": [
        {
          "output_type": "execute_result",
          "data": {
            "text/plain": [
              "torch.Size([32, 64, 32, 32])"
            ]
          },
          "metadata": {
            "tags": []
          },
          "execution_count": 49
        }
      ]
    },
    {
      "cell_type": "code",
      "metadata": {
        "colab": {
          "base_uri": "https://localhost:8080/"
        },
        "id": "LPE7NB4bv9Zn",
        "outputId": "285f8306-21ac-4037-ee86-0b93ae86a837"
      },
      "source": [
        "x = conv2(x)\n",
        "x.shape"
      ],
      "execution_count": 50,
      "outputs": [
        {
          "output_type": "execute_result",
          "data": {
            "text/plain": [
              "torch.Size([32, 64, 32, 32])"
            ]
          },
          "metadata": {
            "tags": []
          },
          "execution_count": 50
        }
      ]
    },
    {
      "cell_type": "code",
      "metadata": {
        "colab": {
          "base_uri": "https://localhost:8080/"
        },
        "id": "FCQZgu0rwEf0",
        "outputId": "9c9c8067-2e31-458d-9fde-05b8ed292866"
      },
      "source": [
        "x = pool(x)\n",
        "x.shape"
      ],
      "execution_count": 51,
      "outputs": [
        {
          "output_type": "execute_result",
          "data": {
            "text/plain": [
              "torch.Size([32, 64, 16, 16])"
            ]
          },
          "metadata": {
            "tags": []
          },
          "execution_count": 51
        }
      ]
    },
    {
      "cell_type": "code",
      "metadata": {
        "colab": {
          "base_uri": "https://localhost:8080/"
        },
        "id": "7bSsEc_beWGu",
        "outputId": "2914e516-fd84-4cc2-e6e7-37db0940e708"
      },
      "source": [
        "x = conv3(x)\n",
        "x.shape"
      ],
      "execution_count": 52,
      "outputs": [
        {
          "output_type": "execute_result",
          "data": {
            "text/plain": [
              "torch.Size([32, 128, 16, 16])"
            ]
          },
          "metadata": {
            "tags": []
          },
          "execution_count": 52
        }
      ]
    },
    {
      "cell_type": "code",
      "metadata": {
        "colab": {
          "base_uri": "https://localhost:8080/"
        },
        "id": "86XHG4OGeYda",
        "outputId": "62bcfc38-eca6-44d4-8b0c-94396381d6e2"
      },
      "source": [
        "x = conv4(x)\n",
        "x.shape"
      ],
      "execution_count": 53,
      "outputs": [
        {
          "output_type": "execute_result",
          "data": {
            "text/plain": [
              "torch.Size([32, 128, 16, 16])"
            ]
          },
          "metadata": {
            "tags": []
          },
          "execution_count": 53
        }
      ]
    },
    {
      "cell_type": "code",
      "metadata": {
        "colab": {
          "base_uri": "https://localhost:8080/"
        },
        "id": "U7xPaR-XebRY",
        "outputId": "8e966893-f1d2-4a6b-ea46-16c5a6f2e740"
      },
      "source": [
        "x = pool(x)\n",
        "x.shape"
      ],
      "execution_count": 54,
      "outputs": [
        {
          "output_type": "execute_result",
          "data": {
            "text/plain": [
              "torch.Size([32, 128, 8, 8])"
            ]
          },
          "metadata": {
            "tags": []
          },
          "execution_count": 54
        }
      ]
    },
    {
      "cell_type": "code",
      "metadata": {
        "colab": {
          "base_uri": "https://localhost:8080/"
        },
        "id": "5UQIyf01exqe",
        "outputId": "c9b77973-8163-422d-a169-8c9ca800c9b5"
      },
      "source": [
        "x = conv5(x)\n",
        "x.shape"
      ],
      "execution_count": 55,
      "outputs": [
        {
          "output_type": "execute_result",
          "data": {
            "text/plain": [
              "torch.Size([32, 256, 8, 8])"
            ]
          },
          "metadata": {
            "tags": []
          },
          "execution_count": 55
        }
      ]
    },
    {
      "cell_type": "code",
      "metadata": {
        "colab": {
          "base_uri": "https://localhost:8080/"
        },
        "id": "iwyR33F0e1WQ",
        "outputId": "0626145f-1b4f-4bab-b761-723812c91c0c"
      },
      "source": [
        "x = conv6(x)\n",
        "x.shape"
      ],
      "execution_count": 56,
      "outputs": [
        {
          "output_type": "execute_result",
          "data": {
            "text/plain": [
              "torch.Size([32, 256, 8, 8])"
            ]
          },
          "metadata": {
            "tags": []
          },
          "execution_count": 56
        }
      ]
    },
    {
      "cell_type": "code",
      "metadata": {
        "colab": {
          "base_uri": "https://localhost:8080/"
        },
        "id": "OZT3t7fse3fV",
        "outputId": "62df14f2-1e79-465a-ae67-cf8c81fe2482"
      },
      "source": [
        "x = pool(x)\n",
        "x.shape"
      ],
      "execution_count": 57,
      "outputs": [
        {
          "output_type": "execute_result",
          "data": {
            "text/plain": [
              "torch.Size([32, 256, 4, 4])"
            ]
          },
          "metadata": {
            "tags": []
          },
          "execution_count": 57
        }
      ]
    },
    {
      "cell_type": "code",
      "metadata": {
        "colab": {
          "base_uri": "https://localhost:8080/"
        },
        "id": "jdl8VmmFW5m_",
        "outputId": "e32c3a53-b79d-46f5-e311-14aba0935766"
      },
      "source": [
        "x = torch.flatten(x, start_dim=1)\n",
        "x.shape"
      ],
      "execution_count": 58,
      "outputs": [
        {
          "output_type": "execute_result",
          "data": {
            "text/plain": [
              "torch.Size([32, 4096])"
            ]
          },
          "metadata": {
            "tags": []
          },
          "execution_count": 58
        }
      ]
    },
    {
      "cell_type": "code",
      "metadata": {
        "id": "m4qKJ-CDf7uK"
      },
      "source": [
        "fc1 = nn.Linear(\n",
        "    in_features = 256 * 4 * 4, out_features = 256,\n",
        "    bias = True)"
      ],
      "execution_count": 59,
      "outputs": []
    },
    {
      "cell_type": "code",
      "metadata": {
        "id": "7mhbeFXJzt0M"
      },
      "source": [
        "x = fc1(x)"
      ],
      "execution_count": 60,
      "outputs": []
    },
    {
      "cell_type": "code",
      "metadata": {
        "id": "UpGewWp6wjst",
        "colab": {
          "base_uri": "https://localhost:8080/"
        },
        "outputId": "90397ddb-e59a-457e-d946-5f5856040ae7"
      },
      "source": [
        "x.shape"
      ],
      "execution_count": 61,
      "outputs": [
        {
          "output_type": "execute_result",
          "data": {
            "text/plain": [
              "torch.Size([32, 256])"
            ]
          },
          "metadata": {
            "tags": []
          },
          "execution_count": 61
        }
      ]
    },
    {
      "cell_type": "code",
      "metadata": {
        "id": "U6qYJ-sfXDYH"
      },
      "source": [
        ""
      ],
      "execution_count": null,
      "outputs": []
    },
    {
      "cell_type": "code",
      "metadata": {
        "id": "iTydpKy_jU7K"
      },
      "source": [
        "class cnn_block(nn.Module):\n",
        "  def __init__(self, input_channels, output_channels):\n",
        "    super(cnn_block, self).__init__()\n",
        "\n",
        "    # Define layers-\n",
        "    self.conv1 = nn.Conv2d(\n",
        "        in_channels = input_channels, out_channels = output_channels,\n",
        "        kernel_size = 3, stride = 1,\n",
        "        padding = 1, bias = True\n",
        "    )\n",
        "    self.conv2 = nn.Conv2d(\n",
        "        in_channels = output_channels, out_channels = output_channels,\n",
        "        kernel_size = 3, stride = 1,\n",
        "        padding = 1, bias = True\n",
        "    )\n",
        "    self.pool = nn.MaxPool2d(\n",
        "        kernel_size = 2, stride = 2\n",
        "    )\n",
        "  \n",
        "\n",
        "  def forward(self, x):\n",
        "    x = F.relu(self.conv1(x))\n",
        "    x = F.relu(self.conv2(x))\n",
        "    return self.pool(x)\n"
      ],
      "execution_count": 41,
      "outputs": []
    },
    {
      "cell_type": "code",
      "metadata": {
        "id": "EfxkCNWec-BN"
      },
      "source": [
        ""
      ],
      "execution_count": null,
      "outputs": []
    },
    {
      "cell_type": "code",
      "metadata": {
        "id": "KxDdHLr7kdB_"
      },
      "source": [
        "class Conv6(nn.Module):\n",
        "  def __init__(self):\n",
        "    super(Conv6, self).__init__()\n",
        "\n",
        "    self.block1 = cnn_block(input_channels = 3, output_channels = 64)\n",
        "    self.block2 = cnn_block(input_channels = 64, output_channels = 128)\n",
        "    self.block3 = cnn_block(input_channels = 128, output_channels = 256)\n",
        "\n",
        "    self.fc1 = nn.Linear(\n",
        "        in_features = 256 * 4 * 4, out_features = 256,\n",
        "        bias = True\n",
        "    )\n",
        "    self.fc2 = nn.Linear(\n",
        "        in_features = 256, out_features = 256,\n",
        "        bias = True\n",
        "    )\n",
        "    self.op_layer = nn.Linear(\n",
        "        in_features = 256, out_features = 10,\n",
        "        bias = True\n",
        "    )\n",
        "    \n",
        "\n",
        "  def forward(self, x):\n",
        "    x = self.block1(x)\n",
        "    x = self.block2(x)\n",
        "    x = self.block3(x)\n",
        "    x = torch.flatten(x, start_dim=1)\n",
        "    x = F.relu(self.fc1(x))\n",
        "    x = F.relu(self.fc2(x))\n",
        "    return self.op_layer(x)\n",
        "    \n"
      ],
      "execution_count": 67,
      "outputs": []
    },
    {
      "cell_type": "code",
      "metadata": {
        "id": "eBrIZiNulqzB"
      },
      "source": [
        ""
      ],
      "execution_count": 44,
      "outputs": []
    },
    {
      "cell_type": "code",
      "metadata": {
        "id": "VFSPebxNghUY"
      },
      "source": [
        ""
      ],
      "execution_count": 63,
      "outputs": []
    },
    {
      "cell_type": "code",
      "metadata": {
        "id": "w-E0cT48lXIo"
      },
      "source": [
        "# Instantiate an instance of CNN model-\n",
        "model = Conv6().to(device)"
      ],
      "execution_count": 103,
      "outputs": []
    },
    {
      "cell_type": "code",
      "metadata": {
        "id": "i0QxxRHjlwZq",
        "colab": {
          "base_uri": "https://localhost:8080/"
        },
        "outputId": "1de9980b-a015-4e30-deec-6570e4a82ff9"
      },
      "source": [
        "# Count number of trainable parameters per layer-\n",
        "tot_params = 0\n",
        "for layer in model.parameters():\n",
        "  print(f\"layer.shape: {layer.shape} has {layer.nelement()} parameters\")\n",
        "  tot_params += layer.nelement()"
      ],
      "execution_count": 104,
      "outputs": [
        {
          "output_type": "stream",
          "text": [
            "layer.shape: torch.Size([64, 3, 3, 3]) has 1728 parameters\n",
            "layer.shape: torch.Size([64]) has 64 parameters\n",
            "layer.shape: torch.Size([64, 64, 3, 3]) has 36864 parameters\n",
            "layer.shape: torch.Size([64]) has 64 parameters\n",
            "layer.shape: torch.Size([128, 64, 3, 3]) has 73728 parameters\n",
            "layer.shape: torch.Size([128]) has 128 parameters\n",
            "layer.shape: torch.Size([128, 128, 3, 3]) has 147456 parameters\n",
            "layer.shape: torch.Size([128]) has 128 parameters\n",
            "layer.shape: torch.Size([256, 128, 3, 3]) has 294912 parameters\n",
            "layer.shape: torch.Size([256]) has 256 parameters\n",
            "layer.shape: torch.Size([256, 256, 3, 3]) has 589824 parameters\n",
            "layer.shape: torch.Size([256]) has 256 parameters\n",
            "layer.shape: torch.Size([256, 4096]) has 1048576 parameters\n",
            "layer.shape: torch.Size([256]) has 256 parameters\n",
            "layer.shape: torch.Size([256, 256]) has 65536 parameters\n",
            "layer.shape: torch.Size([256]) has 256 parameters\n",
            "layer.shape: torch.Size([10, 256]) has 2560 parameters\n",
            "layer.shape: torch.Size([10]) has 10 parameters\n"
          ],
          "name": "stdout"
        }
      ]
    },
    {
      "cell_type": "code",
      "metadata": {
        "colab": {
          "base_uri": "https://localhost:8080/"
        },
        "id": "WFbOLv6dlxln",
        "outputId": "7290a0eb-bb3e-4d00-d936-34404f15ebea"
      },
      "source": [
        "print(f\"Conv-6 CNN has {tot_params} parameters.\")"
      ],
      "execution_count": 105,
      "outputs": [
        {
          "output_type": "stream",
          "text": [
            "Conv-6 CNN has 2262602 parameters.\n"
          ],
          "name": "stdout"
        }
      ]
    },
    {
      "cell_type": "code",
      "metadata": {
        "id": "hwbQiRuVlmls"
      },
      "source": [
        ""
      ],
      "execution_count": null,
      "outputs": []
    },
    {
      "cell_type": "code",
      "metadata": {
        "id": "Uapj71RLAzOH"
      },
      "source": [
        "# Define loss function and optimizer-\n",
        "loss = nn.CrossEntropyLoss()\n",
        "optimizer = torch.optim.Adam(model.parameters(), lr = learning_rate)"
      ],
      "execution_count": 106,
      "outputs": []
    },
    {
      "cell_type": "code",
      "metadata": {
        "id": "6kXxK_vpA1LF"
      },
      "source": [
        "num_training_steps = len(train_loader)"
      ],
      "execution_count": 107,
      "outputs": []
    },
    {
      "cell_type": "code",
      "metadata": {
        "id": "mDZbzJFzA-zD",
        "colab": {
          "base_uri": "https://localhost:8080/"
        },
        "outputId": "cd98325e-bb65-46c9-854f-6d00586cf02a"
      },
      "source": [
        "print(f\"number of training steps in one epoch = {num_training_steps}\")"
      ],
      "execution_count": 108,
      "outputs": [
        {
          "output_type": "stream",
          "text": [
            "number of training steps in one epoch = 1563\n"
          ],
          "name": "stdout"
        }
      ]
    },
    {
      "cell_type": "code",
      "metadata": {
        "id": "UyLyAenCaG7k"
      },
      "source": [
        ""
      ],
      "execution_count": 43,
      "outputs": []
    },
    {
      "cell_type": "code",
      "metadata": {
        "colab": {
          "base_uri": "https://localhost:8080/"
        },
        "id": "RFiLaFp-aKTT",
        "outputId": "6c956b94-3c32-42c4-9b1f-66a916981a2a"
      },
      "source": [
        "# Sanity check before training model-\n",
        "images.shape"
      ],
      "execution_count": 50,
      "outputs": [
        {
          "output_type": "execute_result",
          "data": {
            "text/plain": [
              "torch.Size([32, 3, 32, 32])"
            ]
          },
          "metadata": {
            "tags": []
          },
          "execution_count": 50
        }
      ]
    },
    {
      "cell_type": "code",
      "metadata": {
        "colab": {
          "base_uri": "https://localhost:8080/"
        },
        "id": "aTU4fSalcJ2p",
        "outputId": "6b1578c8-c45b-4d52-929c-5802b9aa3ffb"
      },
      "source": [
        "y_pred = model(images)\n",
        "y_pred.shape"
      ],
      "execution_count": 65,
      "outputs": [
        {
          "output_type": "execute_result",
          "data": {
            "text/plain": [
              "torch.Size([32, 10])"
            ]
          },
          "metadata": {
            "tags": []
          },
          "execution_count": 65
        }
      ]
    },
    {
      "cell_type": "code",
      "metadata": {
        "colab": {
          "base_uri": "https://localhost:8080/"
        },
        "id": "5SUKd6u3hEsi",
        "outputId": "4e6a240e-a45d-4ebe-d8e4-644b57914888"
      },
      "source": [
        "_, predicted = torch.max(y_pred, 1)\n",
        "predicted.shape"
      ],
      "execution_count": 66,
      "outputs": [
        {
          "output_type": "execute_result",
          "data": {
            "text/plain": [
              "torch.Size([32])"
            ]
          },
          "metadata": {
            "tags": []
          },
          "execution_count": 66
        }
      ]
    },
    {
      "cell_type": "code",
      "metadata": {
        "id": "X0Bf_Ky2hL4N"
      },
      "source": [
        ""
      ],
      "execution_count": null,
      "outputs": []
    },
    {
      "cell_type": "code",
      "metadata": {
        "id": "ygcjaNm4cMsX"
      },
      "source": [
        "training_acc = []\n",
        "validation_acc = []"
      ],
      "execution_count": 109,
      "outputs": []
    },
    {
      "cell_type": "code",
      "metadata": {
        "colab": {
          "base_uri": "https://localhost:8080/"
        },
        "id": "BM-zP3BoaKnw",
        "outputId": "17293266-cdd9-453a-dd3b-98339334e4a0"
      },
      "source": [
        "for epoch in range(num_epochs):\n",
        "    running_loss = 0.0\n",
        "    running_corrects = 0.0\n",
        "    \n",
        "    for batch, (images, labels) in enumerate(train_loader):\n",
        "        # Attempt to push to GPU if available\n",
        "        images = images.to(device)\n",
        "        labels = labels.to(device)\n",
        "\n",
        "        # Forward pass-\n",
        "        outputs = model(images)\n",
        "\n",
        "        # Compute loss-\n",
        "        J = loss(outputs, labels)\n",
        "\n",
        "        # Backward pass-\n",
        "        optimizer.zero_grad()   # empty accumulated gradients\n",
        "\n",
        "        J.backward()    # does backprop\n",
        "\n",
        "        # Updates parameters-\n",
        "        optimizer.step()\n",
        "        \n",
        "        # Compute model's performance statistics-\n",
        "        running_loss += J.item() * images.size(0)\n",
        "        _, predicted = torch.max(outputs, 1)\n",
        "        running_corrects += torch.sum(predicted == labels.data)\n",
        "\n",
        "        '''\n",
        "        # Print information every 100 steps-\n",
        "        if (batch + 1) % 100 == 0:\n",
        "            print(f\"epoch {epoch + 1}/{num_epochs}, step {batch + 1}/{num_training_steps}, loss = {J.item():.4f}\")\n",
        "        '''\n",
        "\n",
        "    epoch_loss = running_loss / len(train_dataset)\n",
        "    epoch_acc = running_corrects.double() / len(train_dataset)\n",
        "    # print(f\"\\nepoch: {epoch + 1} training loss = {epoch_loss:.4f}, training accuracy = {epoch_acc * 100:.2f}%\\n\")\n",
        "\n",
        "    with torch.no_grad():\n",
        "      for images, labels in test_loader:\n",
        "\n",
        "        # Place features (images) and targets (labels) to GPU-\n",
        "        images = images.to(device)\n",
        "        labels = labels.to(device)\n",
        "        # print(f\"images.shape = {images.shape}, labels.shape = {labels.shape}\")\n",
        "\n",
        "        # Make predictions using trained model-\n",
        "        outputs = model(images)\n",
        "        _, y_pred = torch.max(outputs, 1)\n",
        "    \n",
        "        # Total number of labels-\n",
        "        total += labels.size(0)\n",
        "\n",
        "        # Total number of correct predictions-\n",
        "        correct += (y_pred == labels).sum()\n",
        "\n",
        "    val_acc = 100 * (correct / total)\n",
        "    print(f\"\\nepoch: {epoch + 1} training loss = {epoch_loss:.4f}, training accuracy = {epoch_acc * 100:.2f}% & val_accuracy = {val_acc:.2f}%\\n\")\n",
        "\n",
        "    training_acc.append(epoch_acc * 100)\n",
        "    validation_acc.append(val_acc)\n"
      ],
      "execution_count": 110,
      "outputs": [
        {
          "output_type": "stream",
          "text": [
            "\n",
            "epoch: 1 training loss = 1.5655, training accuracy = 42.05% & val_accuracy = 75.29%\n",
            "\n",
            "\n",
            "epoch: 2 training loss = 1.0546, training accuracy = 62.41% & val_accuracy = 73.48%\n",
            "\n",
            "\n",
            "epoch: 3 training loss = 0.8142, training accuracy = 71.34% & val_accuracy = 73.32%\n",
            "\n",
            "\n",
            "epoch: 4 training loss = 0.6621, training accuracy = 76.76% & val_accuracy = 73.56%\n",
            "\n",
            "\n",
            "epoch: 5 training loss = 0.5423, training accuracy = 81.00% & val_accuracy = 73.87%\n",
            "\n",
            "\n",
            "epoch: 6 training loss = 0.4343, training accuracy = 84.85% & val_accuracy = 74.25%\n",
            "\n",
            "\n",
            "epoch: 7 training loss = 0.3391, training accuracy = 88.00% & val_accuracy = 74.67%\n",
            "\n",
            "\n",
            "epoch: 8 training loss = 0.2588, training accuracy = 90.87% & val_accuracy = 75.04%\n",
            "\n",
            "\n",
            "epoch: 9 training loss = 0.1946, training accuracy = 93.10% & val_accuracy = 75.37%\n",
            "\n",
            "\n",
            "epoch: 10 training loss = 0.1525, training accuracy = 94.67% & val_accuracy = 75.64%\n",
            "\n",
            "\n",
            "epoch: 11 training loss = 0.1209, training accuracy = 95.73% & val_accuracy = 75.87%\n",
            "\n",
            "\n",
            "epoch: 12 training loss = 0.0993, training accuracy = 96.58% & val_accuracy = 76.08%\n",
            "\n",
            "\n",
            "epoch: 13 training loss = 0.0905, training accuracy = 96.82% & val_accuracy = 76.28%\n",
            "\n",
            "\n",
            "epoch: 14 training loss = 0.0779, training accuracy = 97.29% & val_accuracy = 76.40%\n",
            "\n",
            "\n",
            "epoch: 15 training loss = 0.0710, training accuracy = 97.53% & val_accuracy = 76.53%\n",
            "\n",
            "\n",
            "epoch: 16 training loss = 0.0674, training accuracy = 97.70% & val_accuracy = 76.66%\n",
            "\n"
          ],
          "name": "stdout"
        }
      ]
    },
    {
      "cell_type": "code",
      "metadata": {
        "id": "1SBdS4OXaLJ8"
      },
      "source": [
        ""
      ],
      "execution_count": null,
      "outputs": []
    },
    {
      "cell_type": "code",
      "metadata": {
        "colab": {
          "base_uri": "https://localhost:8080/"
        },
        "id": "3vvYPCTnA58g",
        "outputId": "02c739fc-07b7-446c-b351-d3dd42253ff7"
      },
      "source": [
        "print(\"\\nFinished training Conv-6 CNN model\\n\")"
      ],
      "execution_count": 111,
      "outputs": [
        {
          "output_type": "stream",
          "text": [
            "\n",
            "Finished training Conv-6 CNN model\n",
            "\n"
          ],
          "name": "stdout"
        }
      ]
    },
    {
      "cell_type": "code",
      "metadata": {
        "id": "VtM-F07ByfZv"
      },
      "source": [
        ""
      ],
      "execution_count": null,
      "outputs": []
    },
    {
      "cell_type": "code",
      "metadata": {
        "id": "QNgAqBShE0TM"
      },
      "source": [
        "# print(model)"
      ],
      "execution_count": 76,
      "outputs": []
    },
    {
      "cell_type": "code",
      "metadata": {
        "id": "YODrmLLVE1Du"
      },
      "source": [
        ""
      ],
      "execution_count": 78,
      "outputs": []
    },
    {
      "cell_type": "code",
      "metadata": {
        "id": "OeUQaeRHE22b"
      },
      "source": [
        "total = 0\n",
        "correct = 0"
      ],
      "execution_count": 112,
      "outputs": []
    },
    {
      "cell_type": "code",
      "metadata": {
        "id": "yqE0tSdsHBrE",
        "colab": {
          "base_uri": "https://localhost:8080/"
        },
        "outputId": "05c6f8c0-7526-4e5e-fa99-446b86f1f6c3"
      },
      "source": [
        "# Evaluate trained CNN model. We don't want these operations to be tracked in\n",
        "# the computational graph. Hence wrap these operations in-\n",
        "with torch.no_grad():\n",
        "  for images, labels in test_loader:\n",
        "\n",
        "    # Place features (images) and targets (labels) to GPU-\n",
        "    images = images.to(device)\n",
        "    labels = labels.to(device)\n",
        "    # print(f\"images.shape = {images.shape}, labels.shape = {labels.shape}\")\n",
        "\n",
        "    # Make predictions using trained model-\n",
        "    outputs = model(images)\n",
        "    _, y_pred = torch.max(outputs, 1)\n",
        "    \n",
        "    # Total number of labels-\n",
        "    total += labels.size(0)\n",
        "\n",
        "    # Total number of correct predictions-\n",
        "    correct += (y_pred == labels).sum()\n",
        "\n",
        "  val_acc = 100 * (correct / total)\n",
        "  print(f\"Conv-6 trained CNN's validation metrics are:\")\n",
        "  print(f\"accuracy = {val_acc:.2f}%, # of correct labels = {correct} & total # of labels = {total}\")\n",
        "\n"
      ],
      "execution_count": 113,
      "outputs": [
        {
          "output_type": "stream",
          "text": [
            "Conv-6 trained CNN's validation metrics are:\n",
            "accuracy = 79.13%, # of correct labels = 7913 & total # of labels = 10000\n"
          ],
          "name": "stdout"
        }
      ]
    },
    {
      "cell_type": "code",
      "metadata": {
        "id": "vTFdhNoImd8-"
      },
      "source": [
        ""
      ],
      "execution_count": 119,
      "outputs": []
    },
    {
      "cell_type": "code",
      "metadata": {
        "colab": {
          "base_uri": "https://localhost:8080/",
          "height": 504
        },
        "id": "ivrlhiiSsxvG",
        "outputId": "e52b52f3-7c02-4421-9ead-2775a27494fa"
      },
      "source": [
        "# Visualize training metrics-\n",
        "fig=plt.figure(figsize=(9, 7), dpi= 80, facecolor='w', edgecolor='k')\n",
        "\n",
        "plt.plot(np.asarray(training_acc), label = 'training accuracy')\n",
        "plt.plot(np.asarray(validation_acc), label = 'validation accuracy')\n",
        "\n",
        "plt.title(\"Conv-6 Training Metrics\")\n",
        "plt.xlabel(\"number of epochs\")\n",
        "plt.ylabel(\"accuracy (%)\")\n",
        "plt.legend(loc = 'best')\n",
        "plt.show()\n"
      ],
      "execution_count": 123,
      "outputs": [
        {
          "output_type": "display_data",
          "data": {
            "image/png": "[encoded data removed]",
            "text/plain": [
              "<Figure size 720x560 with 1 Axes>"
            ]
          },
          "metadata": {
            "tags": []
          }
        }
      ]
    },
    {
      "cell_type": "code",
      "metadata": {
        "id": "cRHeh6KktEhM"
      },
      "source": [
        ""
      ],
      "execution_count": null,
      "outputs": []
    },
    {
      "cell_type": "code",
      "metadata": {
        "id": "YoUy3jSEllQy"
      },
      "source": [
        ""
      ],
      "execution_count": 114,
      "outputs": []
    },
    {
      "cell_type": "code",
      "metadata": {
        "colab": {
          "base_uri": "https://localhost:8080/",
          "height": 36
        },
        "id": "dStdBNq4r5ca",
        "outputId": "b4fd49ca-c7a1-4a6e-eee3-be99fe235a24"
      },
      "source": [
        "import os\n",
        "os.getcwd()"
      ],
      "execution_count": 130,
      "outputs": [
        {
          "output_type": "execute_result",
          "data": {
            "application/vnd.google.colaboratory.intrinsic+json": {
              "type": "string"
            },
            "text/plain": [
              "'/content'"
            ]
          },
          "metadata": {
            "tags": []
          },
          "execution_count": 130
        }
      ]
    },
    {
      "cell_type": "code",
      "metadata": {
        "colab": {
          "base_uri": "https://localhost:8080/"
        },
        "id": "l7xErmzAvWFq",
        "outputId": "8352440d-179f-4d7d-8939-a7f72644d8fa"
      },
      "source": [
        "os.listdir()"
      ],
      "execution_count": 131,
      "outputs": [
        {
          "output_type": "execute_result",
          "data": {
            "text/plain": [
              "['.config', 'data', 'Conv6_Trained.pth', 'sample_data']"
            ]
          },
          "metadata": {
            "tags": []
          },
          "execution_count": 131
        }
      ]
    },
    {
      "cell_type": "code",
      "metadata": {
        "colab": {
          "base_uri": "https://localhost:8080/"
        },
        "id": "AieTI4WvuTpB",
        "outputId": "b337fff1-f358-4799-8073-3037a28f36be"
      },
      "source": [
        "for layer in model.state_dict().keys():\n",
        "  print(f\"{layer} has shape: {model.state_dict()[layer].shape}\")"
      ],
      "execution_count": 126,
      "outputs": [
        {
          "output_type": "stream",
          "text": [
            "block1.conv1.weight has shape: torch.Size([64, 3, 3, 3])\n",
            "block1.conv1.bias has shape: torch.Size([64])\n",
            "block1.conv2.weight has shape: torch.Size([64, 64, 3, 3])\n",
            "block1.conv2.bias has shape: torch.Size([64])\n",
            "block2.conv1.weight has shape: torch.Size([128, 64, 3, 3])\n",
            "block2.conv1.bias has shape: torch.Size([128])\n",
            "block2.conv2.weight has shape: torch.Size([128, 128, 3, 3])\n",
            "block2.conv2.bias has shape: torch.Size([128])\n",
            "block3.conv1.weight has shape: torch.Size([256, 128, 3, 3])\n",
            "block3.conv1.bias has shape: torch.Size([256])\n",
            "block3.conv2.weight has shape: torch.Size([256, 256, 3, 3])\n",
            "block3.conv2.bias has shape: torch.Size([256])\n",
            "fc1.weight has shape: torch.Size([256, 4096])\n",
            "fc1.bias has shape: torch.Size([256])\n",
            "fc2.weight has shape: torch.Size([256, 256])\n",
            "fc2.bias has shape: torch.Size([256])\n",
            "op_layer.weight has shape: torch.Size([10, 256])\n",
            "op_layer.bias has shape: torch.Size([10])\n"
          ],
          "name": "stdout"
        }
      ]
    },
    {
      "cell_type": "code",
      "metadata": {
        "id": "-BhD0az6uezX"
      },
      "source": [
        ""
      ],
      "execution_count": null,
      "outputs": []
    },
    {
      "cell_type": "code",
      "metadata": {
        "id": "vL_H4sGMuW5x"
      },
      "source": [
        ""
      ],
      "execution_count": null,
      "outputs": []
    },
    {
      "cell_type": "code",
      "metadata": {
        "id": "AEiPZ-cGrxdv"
      },
      "source": [
        "# Save trained model-\n",
        "torch.save(model.state_dict(), '/content/Conv6_Trained.pth')"
      ],
      "execution_count": 127,
      "outputs": []
    },
    {
      "cell_type": "code",
      "metadata": {
        "id": "lGwbnYAYr2-x"
      },
      "source": [
        "# Instantiate a new model and load weights-\n",
        "test_model = Conv6().to(device)"
      ],
      "execution_count": 134,
      "outputs": []
    },
    {
      "cell_type": "code",
      "metadata": {
        "colab": {
          "base_uri": "https://localhost:8080/"
        },
        "id": "a5Ch29povNtt",
        "outputId": "eed4805b-756d-42ad-ef14-877d1f03990a"
      },
      "source": [
        "# Load saved and pre-trained model-\n",
        "test_model.load_state_dict(torch.load('/content/Conv6_Trained.pth'))"
      ],
      "execution_count": 135,
      "outputs": [
        {
          "output_type": "execute_result",
          "data": {
            "text/plain": [
              "<All keys matched successfully>"
            ]
          },
          "metadata": {
            "tags": []
          },
          "execution_count": 135
        }
      ]
    },
    {
      "cell_type": "code",
      "metadata": {
        "colab": {
          "base_uri": "https://localhost:8080/"
        },
        "id": "pO8zqStFv0Ag",
        "outputId": "bef1fef0-7fce-48a3-8e6e-37de3a021fdb"
      },
      "source": [
        "# Set the loaded model to evaluation mode-\n",
        "test_model.eval()"
      ],
      "execution_count": 136,
      "outputs": [
        {
          "output_type": "execute_result",
          "data": {
            "text/plain": [
              "Conv6(\n",
              "  (block1): cnn_block(\n",
              "    (conv1): Conv2d(3, 64, kernel_size=(3, 3), stride=(1, 1), padding=(1, 1))\n",
              "    (conv2): Conv2d(64, 64, kernel_size=(3, 3), stride=(1, 1), padding=(1, 1))\n",
              "    (pool): MaxPool2d(kernel_size=2, stride=2, padding=0, dilation=1, ceil_mode=False)\n",
              "  )\n",
              "  (block2): cnn_block(\n",
              "    (conv1): Conv2d(64, 128, kernel_size=(3, 3), stride=(1, 1), padding=(1, 1))\n",
              "    (conv2): Conv2d(128, 128, kernel_size=(3, 3), stride=(1, 1), padding=(1, 1))\n",
              "    (pool): MaxPool2d(kernel_size=2, stride=2, padding=0, dilation=1, ceil_mode=False)\n",
              "  )\n",
              "  (block3): cnn_block(\n",
              "    (conv1): Conv2d(128, 256, kernel_size=(3, 3), stride=(1, 1), padding=(1, 1))\n",
              "    (conv2): Conv2d(256, 256, kernel_size=(3, 3), stride=(1, 1), padding=(1, 1))\n",
              "    (pool): MaxPool2d(kernel_size=2, stride=2, padding=0, dilation=1, ceil_mode=False)\n",
              "  )\n",
              "  (fc1): Linear(in_features=4096, out_features=256, bias=True)\n",
              "  (fc2): Linear(in_features=256, out_features=256, bias=True)\n",
              "  (op_layer): Linear(in_features=256, out_features=10, bias=True)\n",
              ")"
            ]
          },
          "metadata": {
            "tags": []
          },
          "execution_count": 136
        }
      ]
    },
    {
      "cell_type": "code",
      "metadata": {
        "id": "o5Srb1dmv3zU"
      },
      "source": [
        ""
      ],
      "execution_count": null,
      "outputs": []
    },
    {
      "cell_type": "code",
      "metadata": {
        "colab": {
          "base_uri": "https://localhost:8080/"
        },
        "id": "g4-MYleUsRKb",
        "outputId": "4e23013e-0465-46c2-b3fa-74e03f4ac134"
      },
      "source": [
        "# Evaluate loaded CNN model. We don't want these operations to be tracked in\n",
        "# the computational graph. Hence wrap these operations in-\n",
        "with torch.no_grad():\n",
        "  for images, labels in test_loader:\n",
        "\n",
        "    # Place features (images) and targets (labels) to GPU-\n",
        "    images = images.to(device)\n",
        "    labels = labels.to(device)\n",
        "    # print(f\"images.shape = {images.shape}, labels.shape = {labels.shape}\")\n",
        "\n",
        "    # Make predictions using trained model-\n",
        "    outputs = test_model(images)\n",
        "    _, y_pred = torch.max(outputs, 1)\n",
        "    \n",
        "    # Total number of labels-\n",
        "    total += labels.size(0)\n",
        "\n",
        "    # Total number of correct predictions-\n",
        "    correct += (y_pred == labels).sum()\n",
        "\n",
        "  val_acc = 100 * (correct / total)\n",
        "  print(f\"Conv-6 trained CNN's validation metrics are:\")\n",
        "  print(f\"accuracy = {val_acc:.2f}%, # of correct labels = {correct} & total # of labels = {total}\")\n",
        "\n"
      ],
      "execution_count": 137,
      "outputs": [
        {
          "output_type": "stream",
          "text": [
            "Conv-6 trained CNN's validation metrics are:\n",
            "accuracy = 79.13%, # of correct labels = 15826 & total # of labels = 20000\n"
          ],
          "name": "stdout"
        }
      ]
    },
    {
      "cell_type": "code",
      "metadata": {
        "id": "6xNqQ131wOAw"
      },
      "source": [
        ""
      ],
      "execution_count": null,
      "outputs": []
    },
    {
      "cell_type": "code",
      "metadata": {
        "id": "CRl1zFt5lej5"
      },
      "source": [
        ""
      ],
      "execution_count": null,
      "outputs": []
    },
    {
      "cell_type": "code",
      "metadata": {
        "id": "5a8Nn4DgJNzi"
      },
      "source": [
        ""
      ],
      "execution_count": null,
      "outputs": []
    }
  ]
}