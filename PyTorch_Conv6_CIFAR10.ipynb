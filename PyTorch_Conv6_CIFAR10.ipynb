{
  "nbformat": 4,
  "nbformat_minor": 0,
  "metadata": {
    "accelerator": "GPU",
    "colab": {
      "name": "PyTorch_Conv6_CIFAR10.ipynb",
      "provenance": [],
      "collapsed_sections": []
    },
    "kernelspec": {
      "display_name": "Python 3",
      "language": "python",
      "name": "python3"
    },
    "language_info": {
      "codemirror_mode": {
        "name": "ipython",
        "version": 3
      },
      "file_extension": ".py",
      "mimetype": "text/x-python",
      "name": "python",
      "nbconvert_exporter": "python",
      "pygments_lexer": "ipython3",
      "version": "3.8.5"
    },
    "widgets": {
      "application/vnd.jupyter.widget-state+json": {
        "f4ba2b6ee9a54ec6b99e7fd321e842e0": {
          "model_module": "@jupyter-widgets/controls",
          "model_name": "HBoxModel",
          "state": {
            "_view_name": "HBoxView",
            "_dom_classes": [],
            "_model_name": "HBoxModel",
            "_view_module": "@jupyter-widgets/controls",
            "_model_module_version": "1.5.0",
            "_view_count": null,
            "_view_module_version": "1.5.0",
            "box_style": "",
            "layout": "IPY_MODEL_7e5d4c370d53482e87e64ef392b8a642",
            "_model_module": "@jupyter-widgets/controls",
            "children": [
              "IPY_MODEL_c98fe4be7cd444d296472dc4683f4e6e",
              "IPY_MODEL_f74c3cddf8734375be6f29fc0a088e64"
            ]
          }
        },
        "7e5d4c370d53482e87e64ef392b8a642": {
          "model_module": "@jupyter-widgets/base",
          "model_name": "LayoutModel",
          "state": {
            "_view_name": "LayoutView",
            "grid_template_rows": null,
            "right": null,
            "justify_content": null,
            "_view_module": "@jupyter-widgets/base",
            "overflow": null,
            "_model_module_version": "1.2.0",
            "_view_count": null,
            "flex_flow": null,
            "width": null,
            "min_width": null,
            "border": null,
            "align_items": null,
            "bottom": null,
            "_model_module": "@jupyter-widgets/base",
            "top": null,
            "grid_column": null,
            "overflow_y": null,
            "overflow_x": null,
            "grid_auto_flow": null,
            "grid_area": null,
            "grid_template_columns": null,
            "flex": null,
            "_model_name": "LayoutModel",
            "justify_items": null,
            "grid_row": null,
            "max_height": null,
            "align_content": null,
            "visibility": null,
            "align_self": null,
            "height": null,
            "min_height": null,
            "padding": null,
            "grid_auto_rows": null,
            "grid_gap": null,
            "max_width": null,
            "order": null,
            "_view_module_version": "1.2.0",
            "grid_template_areas": null,
            "object_position": null,
            "object_fit": null,
            "grid_auto_columns": null,
            "margin": null,
            "display": null,
            "left": null
          }
        },
        "c98fe4be7cd444d296472dc4683f4e6e": {
          "model_module": "@jupyter-widgets/controls",
          "model_name": "FloatProgressModel",
          "state": {
            "_view_name": "ProgressView",
            "style": "IPY_MODEL_b25f70cf46da4bd19ce917b0ad53b634",
            "_dom_classes": [],
            "description": "",
            "_model_name": "FloatProgressModel",
            "bar_style": "info",
            "max": 1,
            "_view_module": "@jupyter-widgets/controls",
            "_model_module_version": "1.5.0",
            "value": 1,
            "_view_count": null,
            "_view_module_version": "1.5.0",
            "orientation": "horizontal",
            "min": 0,
            "description_tooltip": null,
            "_model_module": "@jupyter-widgets/controls",
            "layout": "IPY_MODEL_3a9b0976365f4caaa8653d5d37a097d1"
          }
        },
        "f74c3cddf8734375be6f29fc0a088e64": {
          "model_module": "@jupyter-widgets/controls",
          "model_name": "HTMLModel",
          "state": {
            "_view_name": "HTMLView",
            "style": "IPY_MODEL_ababd3f28d2d49b0b010985720c3e9d8",
            "_dom_classes": [],
            "description": "",
            "_model_name": "HTMLModel",
            "placeholder": "​",
            "_view_module": "@jupyter-widgets/controls",
            "_model_module_version": "1.5.0",
            "value": " 170500096/? [00:20&lt;00:00, 52142194.71it/s]",
            "_view_count": null,
            "_view_module_version": "1.5.0",
            "description_tooltip": null,
            "_model_module": "@jupyter-widgets/controls",
            "layout": "IPY_MODEL_74ddfdb46e954904a442c49b0955436b"
          }
        },
        "b25f70cf46da4bd19ce917b0ad53b634": {
          "model_module": "@jupyter-widgets/controls",
          "model_name": "ProgressStyleModel",
          "state": {
            "_view_name": "StyleView",
            "_model_name": "ProgressStyleModel",
            "description_width": "initial",
            "_view_module": "@jupyter-widgets/base",
            "_model_module_version": "1.5.0",
            "_view_count": null,
            "_view_module_version": "1.2.0",
            "bar_color": null,
            "_model_module": "@jupyter-widgets/controls"
          }
        },
        "3a9b0976365f4caaa8653d5d37a097d1": {
          "model_module": "@jupyter-widgets/base",
          "model_name": "LayoutModel",
          "state": {
            "_view_name": "LayoutView",
            "grid_template_rows": null,
            "right": null,
            "justify_content": null,
            "_view_module": "@jupyter-widgets/base",
            "overflow": null,
            "_model_module_version": "1.2.0",
            "_view_count": null,
            "flex_flow": null,
            "width": null,
            "min_width": null,
            "border": null,
            "align_items": null,
            "bottom": null,
            "_model_module": "@jupyter-widgets/base",
            "top": null,
            "grid_column": null,
            "overflow_y": null,
            "overflow_x": null,
            "grid_auto_flow": null,
            "grid_area": null,
            "grid_template_columns": null,
            "flex": null,
            "_model_name": "LayoutModel",
            "justify_items": null,
            "grid_row": null,
            "max_height": null,
            "align_content": null,
            "visibility": null,
            "align_self": null,
            "height": null,
            "min_height": null,
            "padding": null,
            "grid_auto_rows": null,
            "grid_gap": null,
            "max_width": null,
            "order": null,
            "_view_module_version": "1.2.0",
            "grid_template_areas": null,
            "object_position": null,
            "object_fit": null,
            "grid_auto_columns": null,
            "margin": null,
            "display": null,
            "left": null
          }
        },
        "ababd3f28d2d49b0b010985720c3e9d8": {
          "model_module": "@jupyter-widgets/controls",
          "model_name": "DescriptionStyleModel",
          "state": {
            "_view_name": "StyleView",
            "_model_name": "DescriptionStyleModel",
            "description_width": "",
            "_view_module": "@jupyter-widgets/base",
            "_model_module_version": "1.5.0",
            "_view_count": null,
            "_view_module_version": "1.2.0",
            "_model_module": "@jupyter-widgets/controls"
          }
        },
        "74ddfdb46e954904a442c49b0955436b": {
          "model_module": "@jupyter-widgets/base",
          "model_name": "LayoutModel",
          "state": {
            "_view_name": "LayoutView",
            "grid_template_rows": null,
            "right": null,
            "justify_content": null,
            "_view_module": "@jupyter-widgets/base",
            "overflow": null,
            "_model_module_version": "1.2.0",
            "_view_count": null,
            "flex_flow": null,
            "width": null,
            "min_width": null,
            "border": null,
            "align_items": null,
            "bottom": null,
            "_model_module": "@jupyter-widgets/base",
            "top": null,
            "grid_column": null,
            "overflow_y": null,
            "overflow_x": null,
            "grid_auto_flow": null,
            "grid_area": null,
            "grid_template_columns": null,
            "flex": null,
            "_model_name": "LayoutModel",
            "justify_items": null,
            "grid_row": null,
            "max_height": null,
            "align_content": null,
            "visibility": null,
            "align_self": null,
            "height": null,
            "min_height": null,
            "padding": null,
            "grid_auto_rows": null,
            "grid_gap": null,
            "max_width": null,
            "order": null,
            "_view_module_version": "1.2.0",
            "grid_template_areas": null,
            "object_position": null,
            "object_fit": null,
            "grid_auto_columns": null,
            "margin": null,
            "display": null,
            "left": null
          }
        }
      }
    }
  },
  "cells": [
    {
      "cell_type": "markdown",
      "metadata": {
        "id": "bXdJ_tRFycLu"
      },
      "source": [
        "**PyTorch implementation of Conv-6 for CIFAR-10 classification**"
      ]
    },
    {
      "cell_type": "code",
      "metadata": {
        "id": "5OWffvU8ycqg"
      },
      "source": [
        "import torch\n",
        "import torch.nn as nn\n",
        "import torch.nn.functional as F\n",
        "import torchvision\n",
        "import torchvision.transforms as transforms\n",
        "import matplotlib.pyplot as plt\n",
        "import numpy as np"
      ],
      "execution_count": 1,
      "outputs": []
    },
    {
      "cell_type": "code",
      "metadata": {
        "id": "4knRai2qzCzs"
      },
      "source": [
        ""
      ],
      "execution_count": null,
      "outputs": []
    },
    {
      "cell_type": "code",
      "metadata": {
        "id": "HYr_o5IWzGI8"
      },
      "source": [
        "# Device configuration-\n",
        "device = torch.device('cuda' if torch.cuda.is_available() else 'cpu')"
      ],
      "execution_count": 2,
      "outputs": []
    },
    {
      "cell_type": "code",
      "metadata": {
        "colab": {
          "base_uri": "https://localhost:8080/"
        },
        "id": "iePtc0UXzIlO",
        "outputId": "830c7dc8-bef4-4ddf-92c3-d2f223169288"
      },
      "source": [
        "print(f'\\nAvailable device is {device}')"
      ],
      "execution_count": 3,
      "outputs": [
        {
          "output_type": "stream",
          "text": [
            "\n",
            "Available device is cuda\n"
          ],
          "name": "stdout"
        }
      ]
    },
    {
      "cell_type": "code",
      "metadata": {
        "id": "p6Oryg7qzJKJ"
      },
      "source": [
        "# Hyper-parameters-\n",
        "num_epochs = 16\n",
        "batch_size = 32\n",
        "learning_rate = 0.0003"
      ],
      "execution_count": 4,
      "outputs": []
    },
    {
      "cell_type": "code",
      "metadata": {
        "id": "c6SpvYUlAV0P"
      },
      "source": [
        "# Dataset has PILImage images of range [0, 1]. We transform them to Tensors\n",
        "# of normalized range [-1, 1]\n",
        "transform = transforms.Compose(\n",
        "        [\n",
        "            transforms.ToTensor(),\n",
        "            transforms.Normalize((0.5, 0.5, 0.5), (0.5, 0.5, 0.5))\n",
        "            ]\n",
        "        )"
      ],
      "execution_count": 5,
      "outputs": []
    },
    {
      "cell_type": "code",
      "metadata": {
        "colab": {
          "base_uri": "https://localhost:8080/",
          "height": 101,
          "referenced_widgets": [
            "f4ba2b6ee9a54ec6b99e7fd321e842e0",
            "7e5d4c370d53482e87e64ef392b8a642",
            "c98fe4be7cd444d296472dc4683f4e6e",
            "f74c3cddf8734375be6f29fc0a088e64",
            "b25f70cf46da4bd19ce917b0ad53b634",
            "3a9b0976365f4caaa8653d5d37a097d1",
            "ababd3f28d2d49b0b010985720c3e9d8",
            "74ddfdb46e954904a442c49b0955436b"
          ]
        },
        "id": "kIwbYjlxAYJ2",
        "outputId": "dbfa8088-120f-4a7f-a0ec-515bdf82abe2"
      },
      "source": [
        "# Load dataset-\n",
        "train_dataset = torchvision.datasets.CIFAR10(\n",
        "        root = './data', train = True,\n",
        "        download = True, transform = transform\n",
        "        )\n",
        "\n",
        "test_dataset = torchvision.datasets.CIFAR10(\n",
        "        root = './data', train = False,\n",
        "        download = True, transform = transform\n",
        "        )"
      ],
      "execution_count": 6,
      "outputs": [
        {
          "output_type": "stream",
          "text": [
            "Downloading https://www.cs.toronto.edu/~kriz/cifar-10-python.tar.gz to ./data/cifar-10-python.tar.gz\n"
          ],
          "name": "stdout"
        },
        {
          "output_type": "display_data",
          "data": {
            "application/vnd.jupyter.widget-view+json": {
              "model_id": "f4ba2b6ee9a54ec6b99e7fd321e842e0",
              "version_minor": 0,
              "version_major": 2
            },
            "text/plain": [
              "HBox(children=(FloatProgress(value=1.0, bar_style='info', max=1.0), HTML(value='')))"
            ]
          },
          "metadata": {
            "tags": []
          }
        },
        {
          "output_type": "stream",
          "text": [
            "Extracting ./data/cifar-10-python.tar.gz to ./data\n",
            "Files already downloaded and verified\n"
          ],
          "name": "stdout"
        }
      ]
    },
    {
      "cell_type": "code",
      "metadata": {
        "id": "i6afPnQvAaTz"
      },
      "source": [
        "train_loader = torch.utils.data.DataLoader(\n",
        "        train_dataset, batch_size = batch_size,\n",
        "        shuffle = True\n",
        "        )\n",
        "\n",
        "test_loader = torch.utils.data.DataLoader(\n",
        "        test_dataset, batch_size = batch_size,\n",
        "        shuffle = False\n",
        "        )"
      ],
      "execution_count": 7,
      "outputs": []
    },
    {
      "cell_type": "code",
      "metadata": {
        "colab": {
          "base_uri": "https://localhost:8080/"
        },
        "id": "IoYM-oBsOP2l",
        "outputId": "c730d194-9f6c-461a-a6f2-3ab6055dd502"
      },
      "source": [
        "print(f\"Sizes of train_dataset: {len(train_dataset)} and test_dataet: {len(test_dataset)}\")\n",
        "print(f\"Sizes of train_loader: {len(train_loader)} and test_loader: {len(test_loader)}\")"
      ],
      "execution_count": 8,
      "outputs": [
        {
          "output_type": "stream",
          "text": [
            "Sizes of train_dataset: 50000 and test_dataet: 10000\n",
            "Sizes of train_loader: 1563 and test_loader: 313\n"
          ],
          "name": "stdout"
        }
      ]
    },
    {
      "cell_type": "code",
      "metadata": {
        "id": "18S3yRIDOP2n"
      },
      "source": [
        ""
      ],
      "execution_count": null,
      "outputs": []
    },
    {
      "cell_type": "markdown",
      "metadata": {
        "id": "_G-9vR-LAfQ1"
      },
      "source": [
        "After defining dataset and dataloader, we can do automatic batch optimization and batch training"
      ]
    },
    {
      "cell_type": "code",
      "metadata": {
        "id": "8U0SKReSAc0x"
      },
      "source": [
        "# Define CIFAR-10 classes-\n",
        "classes = ('plane', 'car', 'bird', 'cat', 'deer', 'dog', 'frog', 'horse',\n",
        "        'ship', 'truck')"
      ],
      "execution_count": 9,
      "outputs": []
    },
    {
      "cell_type": "code",
      "metadata": {
        "id": "Fz292Oc0AjSg"
      },
      "source": [
        ""
      ],
      "execution_count": null,
      "outputs": []
    },
    {
      "cell_type": "code",
      "metadata": {
        "id": "8YSiala1AkuY"
      },
      "source": [
        "def show_some_imgs(img):\n",
        "    # De-normalize img-\n",
        "    img = img / 2 * 0.5\n",
        "    np_img = img.numpy()\n",
        "    plt.imshow(np.transpose(np_img, (1, 2, 0)))\n",
        "    plt.show()\n",
        "\n",
        "    return None"
      ],
      "execution_count": null,
      "outputs": []
    },
    {
      "cell_type": "code",
      "metadata": {
        "colab": {
          "base_uri": "https://localhost:8080/"
        },
        "id": "laEjWor6AlPn",
        "outputId": "93fa3cca-0920-4415-b573-8884c8cd9707"
      },
      "source": [
        "# Get some random training images-\n",
        "some_img = iter(train_loader)\n",
        "images, labels = some_img.next()\n",
        "\n",
        "# You get 32 images due to our specified batch size-\n",
        "images.shape, labels.shape"
      ],
      "execution_count": null,
      "outputs": [
        {
          "output_type": "execute_result",
          "data": {
            "text/plain": [
              "(torch.Size([32, 3, 32, 32]), torch.Size([32]))"
            ]
          },
          "metadata": {
            "tags": []
          },
          "execution_count": 9
        }
      ]
    },
    {
      "cell_type": "code",
      "metadata": {
        "colab": {
          "base_uri": "https://localhost:8080/",
          "height": 237
        },
        "id": "UFanyMjwAo2X",
        "outputId": "c78389cb-ecbf-4552-eb1c-5fc78b4fe0b6"
      },
      "source": [
        "# Visualize these random images-\n",
        "show_some_imgs(torchvision.utils.make_grid(images))"
      ],
      "execution_count": null,
      "outputs": [
        {
          "output_type": "stream",
          "text": [
            "Clipping input data to the valid range for imshow with RGB data ([0..1] for floats or [0..255] for integers).\n"
          ],
          "name": "stderr"
        },
        {
          "output_type": "display_data",
          "data": {
            "image/png": "[encoded data removed]",
            "text/plain": [
              "<Figure size 432x288 with 1 Axes>"
            ]
          },
          "metadata": {
            "tags": [],
            "needs_background": "light"
          }
        }
      ]
    },
    {
      "cell_type": "code",
      "metadata": {
        "id": "g0njS0WqAvov"
      },
      "source": [
        ""
      ],
      "execution_count": null,
      "outputs": []
    },
    {
      "cell_type": "code",
      "metadata": {
        "id": "sHr5S1h2vH7M"
      },
      "source": [
        ""
      ],
      "execution_count": null,
      "outputs": []
    },
    {
      "cell_type": "code",
      "metadata": {
        "id": "iTydpKy_jU7K"
      },
      "source": [
        "class cnn_block(nn.Module):\n",
        "  def __init__(self, input_channels, output_channels):\n",
        "    super(cnn_block, self).__init__()\n",
        "\n",
        "    # Define layers-\n",
        "    self.conv1 = nn.Conv2d(\n",
        "        in_channels = input_channels, out_channels = output_channels,\n",
        "        kernel_size = 3, stride = 1,\n",
        "        padding = 1, bias = True\n",
        "    )\n",
        "    self.conv2 = nn.Conv2d(\n",
        "        in_channels = output_channels, out_channels = output_channels,\n",
        "        kernel_size = 3, stride = 1,\n",
        "        padding = 1, bias = True\n",
        "    )\n",
        "    self.pool = nn.MaxPool2d(\n",
        "        kernel_size = 2, stride = 2\n",
        "    )\n",
        "  \n",
        "\n",
        "  def forward(self, x):\n",
        "    x = F.relu(self.conv1(x))\n",
        "    x = F.relu(self.conv2(x))\n",
        "    return self.pool(x)\n"
      ],
      "execution_count": 10,
      "outputs": []
    },
    {
      "cell_type": "code",
      "metadata": {
        "id": "EfxkCNWec-BN"
      },
      "source": [
        ""
      ],
      "execution_count": null,
      "outputs": []
    },
    {
      "cell_type": "code",
      "metadata": {
        "id": "KxDdHLr7kdB_"
      },
      "source": [
        "class Conv6(nn.Module):\n",
        "  def __init__(self):\n",
        "    super(Conv6, self).__init__()\n",
        "\n",
        "    self.block1 = cnn_block(input_channels = 3, output_channels = 64)\n",
        "    self.block2 = cnn_block(input_channels = 64, output_channels = 128)\n",
        "    self.block3 = cnn_block(input_channels = 128, output_channels = 256)\n",
        "\n",
        "    self.fc1 = nn.Linear(\n",
        "        in_features = 256 * 4 * 4, out_features = 256,\n",
        "        bias = True\n",
        "    )\n",
        "    self.fc2 = nn.Linear(\n",
        "        in_features = 256, out_features = 256,\n",
        "        bias = True\n",
        "    )\n",
        "    self.op_layer = nn.Linear(\n",
        "        in_features = 256, out_features = 10,\n",
        "        bias = True\n",
        "    )\n",
        "    \n",
        "\n",
        "  def forward(self, x):\n",
        "    x = self.block1(x)\n",
        "    x = self.block2(x)\n",
        "    x = self.block3(x)\n",
        "    x = torch.flatten(x, start_dim=1)\n",
        "    x = F.relu(self.fc1(x))\n",
        "    x = F.relu(self.fc2(x))\n",
        "    return self.op_layer(x)\n",
        "    \n"
      ],
      "execution_count": 11,
      "outputs": []
    },
    {
      "cell_type": "code",
      "metadata": {
        "id": "eBrIZiNulqzB"
      },
      "source": [
        ""
      ],
      "execution_count": null,
      "outputs": []
    },
    {
      "cell_type": "code",
      "metadata": {
        "id": "VFSPebxNghUY"
      },
      "source": [
        ""
      ],
      "execution_count": null,
      "outputs": []
    },
    {
      "cell_type": "code",
      "metadata": {
        "id": "w-E0cT48lXIo"
      },
      "source": [
        "# Instantiate an instance of CNN model-\n",
        "model = Conv6().to(device)"
      ],
      "execution_count": 22,
      "outputs": []
    },
    {
      "cell_type": "code",
      "metadata": {
        "colab": {
          "base_uri": "https://localhost:8080/"
        },
        "id": "i0QxxRHjlwZq",
        "outputId": "1de9980b-a015-4e30-deec-6570e4a82ff9"
      },
      "source": [
        "# Count number of trainable parameters per layer-\n",
        "tot_params = 0\n",
        "for layer in model.parameters():\n",
        "  print(f\"layer.shape: {layer.shape} has {layer.nelement()} parameters\")\n",
        "  tot_params += layer.nelement()"
      ],
      "execution_count": null,
      "outputs": [
        {
          "output_type": "stream",
          "text": [
            "layer.shape: torch.Size([64, 3, 3, 3]) has 1728 parameters\n",
            "layer.shape: torch.Size([64]) has 64 parameters\n",
            "layer.shape: torch.Size([64, 64, 3, 3]) has 36864 parameters\n",
            "layer.shape: torch.Size([64]) has 64 parameters\n",
            "layer.shape: torch.Size([128, 64, 3, 3]) has 73728 parameters\n",
            "layer.shape: torch.Size([128]) has 128 parameters\n",
            "layer.shape: torch.Size([128, 128, 3, 3]) has 147456 parameters\n",
            "layer.shape: torch.Size([128]) has 128 parameters\n",
            "layer.shape: torch.Size([256, 128, 3, 3]) has 294912 parameters\n",
            "layer.shape: torch.Size([256]) has 256 parameters\n",
            "layer.shape: torch.Size([256, 256, 3, 3]) has 589824 parameters\n",
            "layer.shape: torch.Size([256]) has 256 parameters\n",
            "layer.shape: torch.Size([256, 4096]) has 1048576 parameters\n",
            "layer.shape: torch.Size([256]) has 256 parameters\n",
            "layer.shape: torch.Size([256, 256]) has 65536 parameters\n",
            "layer.shape: torch.Size([256]) has 256 parameters\n",
            "layer.shape: torch.Size([10, 256]) has 2560 parameters\n",
            "layer.shape: torch.Size([10]) has 10 parameters\n"
          ],
          "name": "stdout"
        }
      ]
    },
    {
      "cell_type": "code",
      "metadata": {
        "colab": {
          "base_uri": "https://localhost:8080/"
        },
        "id": "WFbOLv6dlxln",
        "outputId": "7290a0eb-bb3e-4d00-d936-34404f15ebea"
      },
      "source": [
        "print(f\"Conv-6 CNN has {tot_params} parameters.\")"
      ],
      "execution_count": null,
      "outputs": [
        {
          "output_type": "stream",
          "text": [
            "Conv-6 CNN has 2262602 parameters.\n"
          ],
          "name": "stdout"
        }
      ]
    },
    {
      "cell_type": "code",
      "metadata": {
        "id": "hwbQiRuVlmls"
      },
      "source": [
        ""
      ],
      "execution_count": null,
      "outputs": []
    },
    {
      "cell_type": "code",
      "metadata": {
        "id": "Uapj71RLAzOH"
      },
      "source": [
        "# Define loss function and optimizer-\n",
        "loss = nn.CrossEntropyLoss()\n",
        "optimizer = torch.optim.Adam(model.parameters(), lr = learning_rate)"
      ],
      "execution_count": 23,
      "outputs": []
    },
    {
      "cell_type": "code",
      "metadata": {
        "id": "6kXxK_vpA1LF"
      },
      "source": [
        "num_training_steps = len(train_loader)"
      ],
      "execution_count": 14,
      "outputs": []
    },
    {
      "cell_type": "code",
      "metadata": {
        "colab": {
          "base_uri": "https://localhost:8080/"
        },
        "id": "mDZbzJFzA-zD",
        "outputId": "81e444f0-a940-4c4b-e4d4-f9e329c9c176"
      },
      "source": [
        "print(f\"number of training steps in one epoch = {num_training_steps}\")"
      ],
      "execution_count": 15,
      "outputs": [
        {
          "output_type": "stream",
          "text": [
            "number of training steps in one epoch = 1563\n"
          ],
          "name": "stdout"
        }
      ]
    },
    {
      "cell_type": "code",
      "metadata": {
        "id": "UyLyAenCaG7k"
      },
      "source": [
        ""
      ],
      "execution_count": null,
      "outputs": []
    },
    {
      "cell_type": "code",
      "metadata": {
        "colab": {
          "base_uri": "https://localhost:8080/"
        },
        "id": "RFiLaFp-aKTT",
        "outputId": "6c956b94-3c32-42c4-9b1f-66a916981a2a"
      },
      "source": [
        "# Sanity check before training model-\n",
        "images.shape"
      ],
      "execution_count": null,
      "outputs": [
        {
          "output_type": "execute_result",
          "data": {
            "text/plain": [
              "torch.Size([32, 3, 32, 32])"
            ]
          },
          "metadata": {
            "tags": []
          },
          "execution_count": 50
        }
      ]
    },
    {
      "cell_type": "code",
      "metadata": {
        "colab": {
          "base_uri": "https://localhost:8080/"
        },
        "id": "aTU4fSalcJ2p",
        "outputId": "6b1578c8-c45b-4d52-929c-5802b9aa3ffb"
      },
      "source": [
        "y_pred = model(images)\n",
        "y_pred.shape"
      ],
      "execution_count": null,
      "outputs": [
        {
          "output_type": "execute_result",
          "data": {
            "text/plain": [
              "torch.Size([32, 10])"
            ]
          },
          "metadata": {
            "tags": []
          },
          "execution_count": 65
        }
      ]
    },
    {
      "cell_type": "code",
      "metadata": {
        "colab": {
          "base_uri": "https://localhost:8080/"
        },
        "id": "5SUKd6u3hEsi",
        "outputId": "4e6a240e-a45d-4ebe-d8e4-644b57914888"
      },
      "source": [
        "_, predicted = torch.max(y_pred, 1)\n",
        "predicted.shape"
      ],
      "execution_count": null,
      "outputs": [
        {
          "output_type": "execute_result",
          "data": {
            "text/plain": [
              "torch.Size([32])"
            ]
          },
          "metadata": {
            "tags": []
          },
          "execution_count": 66
        }
      ]
    },
    {
      "cell_type": "code",
      "metadata": {
        "id": "X0Bf_Ky2hL4N"
      },
      "source": [
        ""
      ],
      "execution_count": null,
      "outputs": []
    },
    {
      "cell_type": "code",
      "metadata": {
        "id": "FHzGH8xWOP25"
      },
      "source": [
        ""
      ],
      "execution_count": null,
      "outputs": []
    },
    {
      "cell_type": "code",
      "metadata": {
        "id": "4tyA4lCzOP27"
      },
      "source": [
        "# User input parameters for Early Stopping in manual implementation-\n",
        "minimum_delta = 0.001\n",
        "patience = 3"
      ],
      "execution_count": 24,
      "outputs": []
    },
    {
      "cell_type": "code",
      "metadata": {
        "id": "MsRPUvB1OP27"
      },
      "source": [
        "# Initialize parameters for Early Stopping manual implementation-\n",
        "best_val_loss = 100\n",
        "loc_patience = 0"
      ],
      "execution_count": 25,
      "outputs": []
    },
    {
      "cell_type": "code",
      "metadata": {
        "id": "ygcjaNm4cMsX"
      },
      "source": [
        "# Python3 lists to store model training metrics-\n",
        "training_acc = []\n",
        "validation_acc = []\n",
        "training_loss = []\n",
        "validation_loss = []"
      ],
      "execution_count": 26,
      "outputs": []
    },
    {
      "cell_type": "code",
      "metadata": {
        "colab": {
          "base_uri": "https://localhost:8080/"
        },
        "id": "BM-zP3BoaKnw",
        "outputId": "58b205a2-d343-4085-8336-3e05a721878d"
      },
      "source": [
        "for epoch in range(num_epochs):\n",
        "    running_loss = 0.0\n",
        "    running_corrects = 0.0\n",
        "    running_loss_val = 0.0\n",
        "    \n",
        "    if loc_patience >= patience:\n",
        "        print(\"\\n'EarlyStopping' called!\\n\")\n",
        "        break\n",
        "    \n",
        "    \n",
        "    for batch, (images, labels) in enumerate(train_loader):\n",
        "        # Attempt to push to GPU if available\n",
        "        images = images.to(device)\n",
        "        labels = labels.to(device)\n",
        "\n",
        "        model.train()\n",
        "\n",
        "        # Forward pass-\n",
        "        outputs = model(images)\n",
        "\n",
        "        # Compute loss-\n",
        "        J = loss(outputs, labels)\n",
        "\n",
        "        # Backward pass-\n",
        "        optimizer.zero_grad()   # empty accumulated gradients\n",
        "\n",
        "        J.backward()    # does backprop\n",
        "\n",
        "        # Updates parameters-\n",
        "        optimizer.step()\n",
        "        \n",
        "        # Compute model's performance statistics-\n",
        "        running_loss += J.item() * images.size(0)\n",
        "        _, predicted = torch.max(outputs, 1)\n",
        "        running_corrects += torch.sum(predicted == labels.data)\n",
        "\n",
        "        '''\n",
        "        # Print information every 100 steps-\n",
        "        if (batch + 1) % 100 == 0:\n",
        "            print(f\"epoch {epoch + 1}/{num_epochs}, step {batch + 1}/{num_training_steps}, loss = {J.item():.4f}\")\n",
        "        '''\n",
        "\n",
        "    epoch_loss = running_loss / len(train_dataset)\n",
        "    epoch_acc = running_corrects.double() / len(train_dataset)\n",
        "    # print(f\"\\nepoch: {epoch + 1} training loss = {epoch_loss:.4f}, training accuracy = {epoch_acc * 100:.2f}%\\n\")\n",
        "\n",
        "    total = 0\n",
        "    correct = 0\n",
        "    \n",
        "    with torch.no_grad():\n",
        "        for images, labels in test_loader:\n",
        "\n",
        "            # Place features (images) and targets (labels) to GPU-\n",
        "            images = images.to(device)\n",
        "            labels = labels.to(device)\n",
        "            # print(f\"images.shape = {images.shape}, labels.shape = {labels.shape}\")\n",
        "\n",
        "            model.eval()\n",
        "    \n",
        "            # Make predictions using trained model-\n",
        "            outputs = model(images)\n",
        "            _, y_pred = torch.max(outputs, 1)\n",
        "\n",
        "            # Compute validation loss-\n",
        "            J_val = loss(outputs, labels)\n",
        "\n",
        "            running_loss_val += J_val.item() * labels.size(0)\n",
        "    \n",
        "            # Total number of labels-\n",
        "            total += labels.size(0)\n",
        "\n",
        "            # Total number of correct predictions-\n",
        "            correct += (y_pred == labels).sum()\n",
        "\n",
        "    epoch_val_loss = running_loss_val / len(test_dataset)\n",
        "    val_acc = 100 * (correct / total)\n",
        "    print(f\"\\nepoch: {epoch + 1} training loss = {epoch_loss:.4f}, training accuracy = {epoch_acc * 100:.2f}%, val_loss = {epoch_val_loss:.4f} & val_accuracy = {val_acc:.2f}%\\n\")\n",
        "\n",
        "    # Code for manual Early Stopping:\n",
        "    if np.abs(epoch_val_loss < best_val_loss) >= minimum_delta:\n",
        "        # update 'best_val_loss' variable to lowest loss encountered so far-\n",
        "        best_val_loss = epoch_val_loss\n",
        "        \n",
        "        # reset 'loc_patience' variable-\n",
        "        loc_patience = 0\n",
        "        \n",
        "    else:  # there is no improvement in monitored metric 'val_loss'\n",
        "        loc_patience += 1  # number of epochs without any improvement\n",
        "\n",
        "\n",
        "    training_acc.append(epoch_acc * 100)\n",
        "    validation_acc.append(val_acc)\n",
        "    training_loss.append(epoch_loss)\n",
        "    validation_loss.append(epoch_val_loss)\n"
      ],
      "execution_count": 27,
      "outputs": [
        {
          "output_type": "stream",
          "text": [
            "\n",
            "epoch: 1 training loss = 1.5563, training accuracy = 41.66%, val_loss = 1.1760 & val_accuracy = 57.02%\n",
            "\n",
            "\n",
            "epoch: 2 training loss = 1.0303, training accuracy = 63.09%, val_loss = 0.9131 & val_accuracy = 67.38%\n",
            "\n",
            "\n",
            "epoch: 3 training loss = 0.7609, training accuracy = 73.23%, val_loss = 0.7337 & val_accuracy = 74.86%\n",
            "\n",
            "\n",
            "epoch: 4 training loss = 0.5959, training accuracy = 79.17%, val_loss = 0.6425 & val_accuracy = 77.81%\n",
            "\n",
            "\n",
            "epoch: 5 training loss = 0.4726, training accuracy = 83.41%, val_loss = 0.6126 & val_accuracy = 79.21%\n",
            "\n",
            "\n",
            "epoch: 6 training loss = 0.3590, training accuracy = 87.53%, val_loss = 0.6315 & val_accuracy = 79.92%\n",
            "\n",
            "\n",
            "epoch: 7 training loss = 0.2685, training accuracy = 90.56%, val_loss = 0.7512 & val_accuracy = 78.35%\n",
            "\n",
            "\n",
            "epoch: 8 training loss = 0.1906, training accuracy = 93.29%, val_loss = 0.7229 & val_accuracy = 79.92%\n",
            "\n",
            "\n",
            "'EarlyStopping' called!\n",
            "\n"
          ],
          "name": "stdout"
        }
      ]
    },
    {
      "cell_type": "code",
      "metadata": {
        "id": "1SBdS4OXaLJ8"
      },
      "source": [
        ""
      ],
      "execution_count": null,
      "outputs": []
    },
    {
      "cell_type": "code",
      "metadata": {
        "colab": {
          "base_uri": "https://localhost:8080/"
        },
        "id": "3vvYPCTnA58g",
        "outputId": "65625285-9e18-4410-8e0f-0c01cd29fad6"
      },
      "source": [
        "print(\"\\nFinished training Conv-6 CNN model\\n\")"
      ],
      "execution_count": 28,
      "outputs": [
        {
          "output_type": "stream",
          "text": [
            "\n",
            "Finished training Conv-6 CNN model\n",
            "\n"
          ],
          "name": "stdout"
        }
      ]
    },
    {
      "cell_type": "code",
      "metadata": {
        "id": "VtM-F07ByfZv"
      },
      "source": [
        ""
      ],
      "execution_count": null,
      "outputs": []
    },
    {
      "cell_type": "code",
      "metadata": {
        "id": "QNgAqBShE0TM"
      },
      "source": [
        "# print(model)"
      ],
      "execution_count": null,
      "outputs": []
    },
    {
      "cell_type": "code",
      "metadata": {
        "id": "YODrmLLVE1Du"
      },
      "source": [
        ""
      ],
      "execution_count": null,
      "outputs": []
    },
    {
      "cell_type": "code",
      "metadata": {
        "id": "OeUQaeRHE22b"
      },
      "source": [
        "# Variables for computing model metrics-\n",
        "total = 0\n",
        "correct = 0"
      ],
      "execution_count": 29,
      "outputs": []
    },
    {
      "cell_type": "code",
      "metadata": {
        "colab": {
          "base_uri": "https://localhost:8080/"
        },
        "id": "yqE0tSdsHBrE",
        "outputId": "9b618248-c5ed-4934-96c5-b61d0a2102d5"
      },
      "source": [
        "# Evaluate trained CNN model. We don't want these operations to be tracked in\n",
        "# the computational graph. Hence wrap these operations in-\n",
        "with torch.no_grad():\n",
        "  for images, labels in test_loader:\n",
        "\n",
        "    # Place features (images) and targets (labels) to GPU-\n",
        "    images = images.to(device)\n",
        "    labels = labels.to(device)\n",
        "    # print(f\"images.shape = {images.shape}, labels.shape = {labels.shape}\")\n",
        "\n",
        "    # Make predictions using trained model-\n",
        "    outputs = model(images)\n",
        "    _, y_pred = torch.max(outputs, 1)\n",
        "    \n",
        "    # Total number of labels-\n",
        "    total += labels.size(0)\n",
        "\n",
        "    # Total number of correct predictions-\n",
        "    correct += (y_pred == labels).sum()\n",
        "\n",
        "  val_acc = 100 * (correct / total)\n",
        "  print(f\"Conv-6 trained CNN's validation metrics are:\")\n",
        "  print(f\"accuracy = {val_acc:.2f}%, # of correct labels = {correct} & total # of labels = {total}\")\n",
        "\n"
      ],
      "execution_count": 30,
      "outputs": [
        {
          "output_type": "stream",
          "text": [
            "Conv-6 trained CNN's validation metrics are:\n",
            "accuracy = 79.92%, # of correct labels = 7992 & total # of labels = 10000\n"
          ],
          "name": "stdout"
        }
      ]
    },
    {
      "cell_type": "code",
      "metadata": {
        "id": "vTFdhNoImd8-"
      },
      "source": [
        ""
      ],
      "execution_count": null,
      "outputs": []
    },
    {
      "cell_type": "code",
      "metadata": {
        "colab": {
          "base_uri": "https://localhost:8080/",
          "height": 504
        },
        "id": "ivrlhiiSsxvG",
        "outputId": "ac8c07b0-473e-475f-b094-46af0875ae82"
      },
      "source": [
        "# Visualize training metrics-\n",
        "fig=plt.figure(figsize=(9, 7), dpi= 80, facecolor='w', edgecolor='k')\n",
        "\n",
        "plt.plot(np.asarray(training_acc), label = 'training accuracy')\n",
        "plt.plot(np.asarray(validation_acc), label = 'validation accuracy')\n",
        "\n",
        "plt.title(\"Conv-6 Training Metrics\")\n",
        "plt.xlabel(\"number of epochs\")\n",
        "plt.ylabel(\"accuracy (%)\")\n",
        "plt.legend(loc = 'best')\n",
        "plt.show()\n"
      ],
      "execution_count": 31,
      "outputs": [
        {
          "output_type": "display_data",
          "data": {
            "image/png": "[encoded data removed]",
            "text/plain": [
              "<Figure size 720x560 with 1 Axes>"
            ]
          },
          "metadata": {
            "tags": []
          }
        }
      ]
    },
    {
      "cell_type": "code",
      "metadata": {
        "id": "cRHeh6KktEhM"
      },
      "source": [
        "fig=plt.figure(figsize=(9, 7), dpi= 80, facecolor='w', edgecolor='k')\n",
        "\n",
        "plt.plot(np.asarray(training_loss), label = 'training loss')\n",
        "plt.plot(np.asarray(validation_loss), label = 'validation loss')\n",
        "\n",
        "plt.title(\"Conv-6 Training Metrics\")\n",
        "plt.xlabel(\"number of epochs\")\n",
        "plt.ylabel(\"loss\")\n",
        "plt.legend(loc = 'best')\n",
        "plt.show()"
      ],
      "execution_count": null,
      "outputs": []
    },
    {
      "cell_type": "code",
      "metadata": {
        "id": "q7laxZgfDzDW"
      },
      "source": [
        ""
      ],
      "execution_count": null,
      "outputs": []
    },
    {
      "cell_type": "code",
      "metadata": {
        "id": "YoUy3jSEllQy"
      },
      "source": [
        ""
      ],
      "execution_count": null,
      "outputs": []
    },
    {
      "cell_type": "code",
      "metadata": {
        "colab": {
          "base_uri": "https://localhost:8080/",
          "height": 36
        },
        "id": "dStdBNq4r5ca",
        "outputId": "6860d634-bde2-4b5f-db1a-db7700634bdc"
      },
      "source": [
        "import os\n",
        "os.getcwd()"
      ],
      "execution_count": null,
      "outputs": [
        {
          "output_type": "execute_result",
          "data": {
            "application/vnd.google.colaboratory.intrinsic+json": {
              "type": "string"
            },
            "text/plain": [
              "'/content'"
            ]
          },
          "metadata": {
            "tags": []
          },
          "execution_count": 34
        }
      ]
    },
    {
      "cell_type": "code",
      "metadata": {
        "colab": {
          "base_uri": "https://localhost:8080/"
        },
        "id": "l7xErmzAvWFq",
        "outputId": "8352440d-179f-4d7d-8939-a7f72644d8fa"
      },
      "source": [
        "os.listdir()"
      ],
      "execution_count": null,
      "outputs": [
        {
          "output_type": "execute_result",
          "data": {
            "text/plain": [
              "['.config', 'data', 'Conv6_Trained.pth', 'sample_data']"
            ]
          },
          "metadata": {
            "tags": []
          },
          "execution_count": 131
        }
      ]
    },
    {
      "cell_type": "code",
      "metadata": {
        "colab": {
          "base_uri": "https://localhost:8080/"
        },
        "id": "AieTI4WvuTpB",
        "outputId": "b337fff1-f358-4799-8073-3037a28f36be"
      },
      "source": [
        "for layer in model.state_dict().keys():\n",
        "  print(f\"{layer} has shape: {model.state_dict()[layer].shape}\")"
      ],
      "execution_count": null,
      "outputs": [
        {
          "output_type": "stream",
          "text": [
            "block1.conv1.weight has shape: torch.Size([64, 3, 3, 3])\n",
            "block1.conv1.bias has shape: torch.Size([64])\n",
            "block1.conv2.weight has shape: torch.Size([64, 64, 3, 3])\n",
            "block1.conv2.bias has shape: torch.Size([64])\n",
            "block2.conv1.weight has shape: torch.Size([128, 64, 3, 3])\n",
            "block2.conv1.bias has shape: torch.Size([128])\n",
            "block2.conv2.weight has shape: torch.Size([128, 128, 3, 3])\n",
            "block2.conv2.bias has shape: torch.Size([128])\n",
            "block3.conv1.weight has shape: torch.Size([256, 128, 3, 3])\n",
            "block3.conv1.bias has shape: torch.Size([256])\n",
            "block3.conv2.weight has shape: torch.Size([256, 256, 3, 3])\n",
            "block3.conv2.bias has shape: torch.Size([256])\n",
            "fc1.weight has shape: torch.Size([256, 4096])\n",
            "fc1.bias has shape: torch.Size([256])\n",
            "fc2.weight has shape: torch.Size([256, 256])\n",
            "fc2.bias has shape: torch.Size([256])\n",
            "op_layer.weight has shape: torch.Size([10, 256])\n",
            "op_layer.bias has shape: torch.Size([10])\n"
          ],
          "name": "stdout"
        }
      ]
    },
    {
      "cell_type": "code",
      "metadata": {
        "id": "-BhD0az6uezX"
      },
      "source": [
        ""
      ],
      "execution_count": null,
      "outputs": []
    },
    {
      "cell_type": "code",
      "metadata": {
        "id": "vL_H4sGMuW5x"
      },
      "source": [
        ""
      ],
      "execution_count": null,
      "outputs": []
    },
    {
      "cell_type": "code",
      "metadata": {
        "id": "AEiPZ-cGrxdv"
      },
      "source": [
        "# Save trained model-\n",
        "torch.save(model.state_dict(), '/content/Conv6_Trained.pth')"
      ],
      "execution_count": 33,
      "outputs": []
    },
    {
      "cell_type": "code",
      "metadata": {
        "id": "lGwbnYAYr2-x"
      },
      "source": [
        "# Instantiate a new model and load weights-\n",
        "test_model = Conv6().to(device)"
      ],
      "execution_count": null,
      "outputs": []
    },
    {
      "cell_type": "code",
      "metadata": {
        "id": "a5Ch29povNtt"
      },
      "source": [
        "# Load saved and pre-trained model-\n",
        "if torch.cuda.is_available():\n",
        "    test_model.load_state_dict(torch.load('Conv6_Trained.pth'))\n",
        "else:\n",
        "    test_model.load_state_dict(torch.load('Conv6_Trained.pth', map_location=torch.device('cpu')))"
      ],
      "execution_count": null,
      "outputs": []
    },
    {
      "cell_type": "code",
      "metadata": {
        "colab": {
          "base_uri": "https://localhost:8080/"
        },
        "id": "pO8zqStFv0Ag",
        "outputId": "33124683-c984-42e8-cd0d-b79ed1f5f6ef"
      },
      "source": [
        "# Set the loaded model to evaluation mode-\n",
        "test_model.eval()"
      ],
      "execution_count": null,
      "outputs": [
        {
          "output_type": "execute_result",
          "data": {
            "text/plain": [
              "Conv6(\n",
              "  (block1): cnn_block(\n",
              "    (conv1): Conv2d(3, 64, kernel_size=(3, 3), stride=(1, 1), padding=(1, 1))\n",
              "    (conv2): Conv2d(64, 64, kernel_size=(3, 3), stride=(1, 1), padding=(1, 1))\n",
              "    (pool): MaxPool2d(kernel_size=2, stride=2, padding=0, dilation=1, ceil_mode=False)\n",
              "  )\n",
              "  (block2): cnn_block(\n",
              "    (conv1): Conv2d(64, 128, kernel_size=(3, 3), stride=(1, 1), padding=(1, 1))\n",
              "    (conv2): Conv2d(128, 128, kernel_size=(3, 3), stride=(1, 1), padding=(1, 1))\n",
              "    (pool): MaxPool2d(kernel_size=2, stride=2, padding=0, dilation=1, ceil_mode=False)\n",
              "  )\n",
              "  (block3): cnn_block(\n",
              "    (conv1): Conv2d(128, 256, kernel_size=(3, 3), stride=(1, 1), padding=(1, 1))\n",
              "    (conv2): Conv2d(256, 256, kernel_size=(3, 3), stride=(1, 1), padding=(1, 1))\n",
              "    (pool): MaxPool2d(kernel_size=2, stride=2, padding=0, dilation=1, ceil_mode=False)\n",
              "  )\n",
              "  (fc1): Linear(in_features=4096, out_features=256, bias=True)\n",
              "  (fc2): Linear(in_features=256, out_features=256, bias=True)\n",
              "  (op_layer): Linear(in_features=256, out_features=10, bias=True)\n",
              ")"
            ]
          },
          "metadata": {
            "tags": []
          },
          "execution_count": 18
        }
      ]
    },
    {
      "cell_type": "code",
      "metadata": {
        "id": "o5Srb1dmv3zU"
      },
      "source": [
        ""
      ],
      "execution_count": null,
      "outputs": []
    },
    {
      "cell_type": "code",
      "metadata": {
        "id": "oGowrb-dOP3L"
      },
      "source": [
        "total = 0\n",
        "correct = 0"
      ],
      "execution_count": null,
      "outputs": []
    },
    {
      "cell_type": "code",
      "metadata": {
        "colab": {
          "base_uri": "https://localhost:8080/"
        },
        "id": "g4-MYleUsRKb",
        "outputId": "93716475-b7ff-4998-9b1f-cffe07fe57dc"
      },
      "source": [
        "# Evaluate loaded CNN model. We don't want these operations to be tracked in\n",
        "# the computational graph. Hence wrap these operations in-\n",
        "with torch.no_grad():\n",
        "  for images, labels in test_loader:\n",
        "\n",
        "    # Place features (images) and targets (labels) to GPU-\n",
        "    images = images.to(device)\n",
        "    labels = labels.to(device)\n",
        "    # print(f\"images.shape = {images.shape}, labels.shape = {labels.shape}\")\n",
        "\n",
        "    # Make predictions using trained model-\n",
        "    outputs = test_model(images)\n",
        "    _, y_pred = torch.max(outputs, 1)\n",
        "    \n",
        "    # Total number of labels-\n",
        "    total += labels.size(0)\n",
        "\n",
        "    # Total number of correct predictions-\n",
        "    correct += (y_pred == labels).sum()\n",
        "\n",
        "  val_acc = 100 * (correct / total)\n",
        "  print(f\"Conv-6 trained CNN's validation metrics are:\")\n",
        "  print(f\"accuracy = {val_acc:.2f}%, # of correct labels = {correct} & total # of labels = {total}\")\n",
        "\n"
      ],
      "execution_count": null,
      "outputs": [
        {
          "output_type": "stream",
          "text": [
            "Conv-6 trained CNN's validation metrics are:\n",
            "accuracy = 78.57%, # of correct labels = 7857 & total # of labels = 10000\n"
          ],
          "name": "stdout"
        }
      ]
    },
    {
      "cell_type": "code",
      "metadata": {
        "id": "6xNqQ131wOAw"
      },
      "source": [
        ""
      ],
      "execution_count": null,
      "outputs": []
    },
    {
      "cell_type": "code",
      "metadata": {
        "id": "CRl1zFt5lej5",
        "outputId": "10956c0a-db12-40b9-8672-51f922c944bc"
      },
      "source": [
        "test_model.parameters()"
      ],
      "execution_count": null,
      "outputs": [
        {
          "output_type": "execute_result",
          "data": {
            "text/plain": [
              "<generator object Module.parameters at 0x7f5f86bd76d0>"
            ]
          },
          "metadata": {
            "tags": []
          },
          "execution_count": 22
        }
      ]
    },
    {
      "cell_type": "code",
      "metadata": {
        "id": "5a8Nn4DgJNzi",
        "outputId": "7c52f408-ac8a-4767-fb76-9195c02180dd"
      },
      "source": [
        "for layer in test_model.state_dict().keys():\n",
        "    print(f\"layer: {layer} has shape: {test_model.state_dict()[layer].shape}\")\n",
        "    '''\n",
        "    if len(test_model.state_dict()[layer].shape) > 1:\n",
        "        print(f\"layer: {layer} has shape: {test_model.state_dict()[layer].shape}\")\n",
        "    '''"
      ],
      "execution_count": null,
      "outputs": [
        {
          "output_type": "stream",
          "text": [
            "layer: block1.conv1.weight has shape: torch.Size([64, 3, 3, 3])\n",
            "layer: block1.conv1.bias has shape: torch.Size([64])\n",
            "layer: block1.conv2.weight has shape: torch.Size([64, 64, 3, 3])\n",
            "layer: block1.conv2.bias has shape: torch.Size([64])\n",
            "layer: block2.conv1.weight has shape: torch.Size([128, 64, 3, 3])\n",
            "layer: block2.conv1.bias has shape: torch.Size([128])\n",
            "layer: block2.conv2.weight has shape: torch.Size([128, 128, 3, 3])\n",
            "layer: block2.conv2.bias has shape: torch.Size([128])\n",
            "layer: block3.conv1.weight has shape: torch.Size([256, 128, 3, 3])\n",
            "layer: block3.conv1.bias has shape: torch.Size([256])\n",
            "layer: block3.conv2.weight has shape: torch.Size([256, 256, 3, 3])\n",
            "layer: block3.conv2.bias has shape: torch.Size([256])\n",
            "layer: fc1.weight has shape: torch.Size([256, 4096])\n",
            "layer: fc1.bias has shape: torch.Size([256])\n",
            "layer: fc2.weight has shape: torch.Size([256, 256])\n",
            "layer: fc2.bias has shape: torch.Size([256])\n",
            "layer: op_layer.weight has shape: torch.Size([10, 256])\n",
            "layer: op_layer.bias has shape: torch.Size([10])\n"
          ],
          "name": "stdout"
        }
      ]
    },
    {
      "cell_type": "code",
      "metadata": {
        "id": "PDjZ0xw2OP3P"
      },
      "source": [
        ""
      ],
      "execution_count": null,
      "outputs": []
    },
    {
      "cell_type": "code",
      "metadata": {
        "id": "jCBQNNAfOP3Q"
      },
      "source": [
        "modified_wts = {}\n",
        "for layer in test_model.state_dict().keys():\n",
        "    modified_wts[layer] = test_model.state_dict()[layer]"
      ],
      "execution_count": null,
      "outputs": []
    },
    {
      "cell_type": "code",
      "metadata": {
        "id": "owEz9CDeOP3Q"
      },
      "source": [
        ""
      ],
      "execution_count": null,
      "outputs": []
    },
    {
      "cell_type": "code",
      "metadata": {
        "id": "LPtA0OFeOP3R",
        "outputId": "fdc67bce-1922-4b9e-97be-af4703e3dba4"
      },
      "source": [
        "for layer in modified_wts.keys():\n",
        "    print(layer, modified_wts[layer].shape)"
      ],
      "execution_count": null,
      "outputs": [
        {
          "output_type": "stream",
          "text": [
            "block1.conv1.weight torch.Size([64, 3, 3, 3])\n",
            "block1.conv1.bias torch.Size([64])\n",
            "block1.conv2.weight torch.Size([64, 64, 3, 3])\n",
            "block1.conv2.bias torch.Size([64])\n",
            "block2.conv1.weight torch.Size([128, 64, 3, 3])\n",
            "block2.conv1.bias torch.Size([128])\n",
            "block2.conv2.weight torch.Size([128, 128, 3, 3])\n",
            "block2.conv2.bias torch.Size([128])\n",
            "block3.conv1.weight torch.Size([256, 128, 3, 3])\n",
            "block3.conv1.bias torch.Size([256])\n",
            "block3.conv2.weight torch.Size([256, 256, 3, 3])\n",
            "block3.conv2.bias torch.Size([256])\n",
            "fc1.weight torch.Size([256, 4096])\n",
            "fc1.bias torch.Size([256])\n",
            "fc2.weight torch.Size([256, 256])\n",
            "fc2.bias torch.Size([256])\n",
            "op_layer.weight torch.Size([10, 256])\n",
            "op_layer.bias torch.Size([10])\n"
          ],
          "name": "stdout"
        }
      ]
    },
    {
      "cell_type": "code",
      "metadata": {
        "id": "SMPjjy8aOP3R"
      },
      "source": [
        ""
      ],
      "execution_count": null,
      "outputs": []
    },
    {
      "cell_type": "code",
      "metadata": {
        "id": "wG5xXvamOP3S"
      },
      "source": [
        "new_model = Conv6()"
      ],
      "execution_count": null,
      "outputs": []
    },
    {
      "cell_type": "code",
      "metadata": {
        "id": "IYvOOTlFOP3S",
        "outputId": "14b304d3-a280-413b-f224-cb916f3b82cc"
      },
      "source": [
        "new_model.load_state_dict(modified_wts)"
      ],
      "execution_count": null,
      "outputs": [
        {
          "output_type": "execute_result",
          "data": {
            "text/plain": [
              "<All keys matched successfully>"
            ]
          },
          "metadata": {
            "tags": []
          },
          "execution_count": 36
        }
      ]
    },
    {
      "cell_type": "code",
      "metadata": {
        "id": "-5klNRM0OP3T",
        "outputId": "25c6e6a3-54ca-4ad9-cc95-d12c33da978f"
      },
      "source": [
        "new_model.eval()"
      ],
      "execution_count": null,
      "outputs": [
        {
          "output_type": "execute_result",
          "data": {
            "text/plain": [
              "Conv6(\n",
              "  (block1): cnn_block(\n",
              "    (conv1): Conv2d(3, 64, kernel_size=(3, 3), stride=(1, 1), padding=(1, 1))\n",
              "    (conv2): Conv2d(64, 64, kernel_size=(3, 3), stride=(1, 1), padding=(1, 1))\n",
              "    (pool): MaxPool2d(kernel_size=2, stride=2, padding=0, dilation=1, ceil_mode=False)\n",
              "  )\n",
              "  (block2): cnn_block(\n",
              "    (conv1): Conv2d(64, 128, kernel_size=(3, 3), stride=(1, 1), padding=(1, 1))\n",
              "    (conv2): Conv2d(128, 128, kernel_size=(3, 3), stride=(1, 1), padding=(1, 1))\n",
              "    (pool): MaxPool2d(kernel_size=2, stride=2, padding=0, dilation=1, ceil_mode=False)\n",
              "  )\n",
              "  (block3): cnn_block(\n",
              "    (conv1): Conv2d(128, 256, kernel_size=(3, 3), stride=(1, 1), padding=(1, 1))\n",
              "    (conv2): Conv2d(256, 256, kernel_size=(3, 3), stride=(1, 1), padding=(1, 1))\n",
              "    (pool): MaxPool2d(kernel_size=2, stride=2, padding=0, dilation=1, ceil_mode=False)\n",
              "  )\n",
              "  (fc1): Linear(in_features=4096, out_features=256, bias=True)\n",
              "  (fc2): Linear(in_features=256, out_features=256, bias=True)\n",
              "  (op_layer): Linear(in_features=256, out_features=10, bias=True)\n",
              ")"
            ]
          },
          "metadata": {
            "tags": []
          },
          "execution_count": 37
        }
      ]
    },
    {
      "cell_type": "code",
      "metadata": {
        "id": "4_bNYdYWOP3V"
      },
      "source": [
        ""
      ],
      "execution_count": null,
      "outputs": []
    },
    {
      "cell_type": "code",
      "metadata": {
        "id": "vOD0JwvDOP3V"
      },
      "source": [
        "total = 0\n",
        "correct = 0"
      ],
      "execution_count": null,
      "outputs": []
    },
    {
      "cell_type": "code",
      "metadata": {
        "colab": {
          "base_uri": "https://localhost:8080/"
        },
        "id": "kG3zM8f6OP3V",
        "outputId": "93716475-b7ff-4998-9b1f-cffe07fe57dc"
      },
      "source": [
        "# Evaluate loaded CNN model. We don't want these operations to be tracked in\n",
        "# the computational graph. Hence wrap these operations in-\n",
        "with torch.no_grad():\n",
        "  for images, labels in test_loader:\n",
        "\n",
        "    # Place features (images) and targets (labels) to GPU-\n",
        "    images = images.to(device)\n",
        "    labels = labels.to(device)\n",
        "    # print(f\"images.shape = {images.shape}, labels.shape = {labels.shape}\")\n",
        "\n",
        "    # Make predictions using trained model-\n",
        "    outputs = new_model(images)\n",
        "    _, y_pred = torch.max(outputs, 1)\n",
        "    \n",
        "    # Total number of labels-\n",
        "    total += labels.size(0)\n",
        "\n",
        "    # Total number of correct predictions-\n",
        "    correct += (y_pred == labels).sum()\n",
        "\n",
        "  val_acc = 100 * (correct / total)\n",
        "  print(f\"Conv-6 trained CNN's validation metrics are:\")\n",
        "  print(f\"accuracy = {val_acc:.2f}%, # of correct labels = {correct} & total # of labels = {total}\")\n",
        "\n"
      ],
      "execution_count": null,
      "outputs": [
        {
          "output_type": "stream",
          "text": [
            "Conv-6 trained CNN's validation metrics are:\n",
            "accuracy = 78.57%, # of correct labels = 7857 & total # of labels = 10000\n"
          ],
          "name": "stdout"
        }
      ]
    },
    {
      "cell_type": "code",
      "metadata": {
        "id": "V-3bPzAVOP3W"
      },
      "source": [
        ""
      ],
      "execution_count": null,
      "outputs": []
    }
  ]
}