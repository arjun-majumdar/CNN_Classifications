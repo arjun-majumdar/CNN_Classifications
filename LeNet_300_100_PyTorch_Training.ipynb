{
  "nbformat": 4,
  "nbformat_minor": 0,
  "metadata": {
    "colab": {
      "name": "LeNet_300_100-PyTorch_Training.ipynb",
      "provenance": [],
      "collapsed_sections": []
    },
    "kernelspec": {
      "name": "python3",
      "display_name": "Python 3"
    },
    "accelerator": "GPU",
    "widgets": {
      "application/vnd.jupyter.widget-state+json": {
        "4aeb2c0374a2416b90f723eb37c1bb30": {
          "model_module": "@jupyter-widgets/controls",
          "model_name": "HBoxModel",
          "state": {
            "_view_name": "HBoxView",
            "_dom_classes": [],
            "_model_name": "HBoxModel",
            "_view_module": "@jupyter-widgets/controls",
            "_model_module_version": "1.5.0",
            "_view_count": null,
            "_view_module_version": "1.5.0",
            "box_style": "",
            "layout": "IPY_MODEL_c0bcab73d3aa498488ee54bfd90a93c3",
            "_model_module": "@jupyter-widgets/controls",
            "children": [
              "IPY_MODEL_e9398f1e5c3d4c90bab77abea86d8114",
              "IPY_MODEL_dfc40b1edca74e5c9f0547ef64227b06"
            ]
          }
        },
        "c0bcab73d3aa498488ee54bfd90a93c3": {
          "model_module": "@jupyter-widgets/base",
          "model_name": "LayoutModel",
          "state": {
            "_view_name": "LayoutView",
            "grid_template_rows": null,
            "right": null,
            "justify_content": null,
            "_view_module": "@jupyter-widgets/base",
            "overflow": null,
            "_model_module_version": "1.2.0",
            "_view_count": null,
            "flex_flow": null,
            "width": null,
            "min_width": null,
            "border": null,
            "align_items": null,
            "bottom": null,
            "_model_module": "@jupyter-widgets/base",
            "top": null,
            "grid_column": null,
            "overflow_y": null,
            "overflow_x": null,
            "grid_auto_flow": null,
            "grid_area": null,
            "grid_template_columns": null,
            "flex": null,
            "_model_name": "LayoutModel",
            "justify_items": null,
            "grid_row": null,
            "max_height": null,
            "align_content": null,
            "visibility": null,
            "align_self": null,
            "height": null,
            "min_height": null,
            "padding": null,
            "grid_auto_rows": null,
            "grid_gap": null,
            "max_width": null,
            "order": null,
            "_view_module_version": "1.2.0",
            "grid_template_areas": null,
            "object_position": null,
            "object_fit": null,
            "grid_auto_columns": null,
            "margin": null,
            "display": null,
            "left": null
          }
        },
        "e9398f1e5c3d4c90bab77abea86d8114": {
          "model_module": "@jupyter-widgets/controls",
          "model_name": "FloatProgressModel",
          "state": {
            "_view_name": "ProgressView",
            "style": "IPY_MODEL_ea5fab6b4806468a9a515d68f5ec2729",
            "_dom_classes": [],
            "description": "",
            "_model_name": "FloatProgressModel",
            "bar_style": "info",
            "max": 1,
            "_view_module": "@jupyter-widgets/controls",
            "_model_module_version": "1.5.0",
            "value": 1,
            "_view_count": null,
            "_view_module_version": "1.5.0",
            "orientation": "horizontal",
            "min": 0,
            "description_tooltip": null,
            "_model_module": "@jupyter-widgets/controls",
            "layout": "IPY_MODEL_18ad9ad9fd9b4fb2904bdf7013aa1caf"
          }
        },
        "dfc40b1edca74e5c9f0547ef64227b06": {
          "model_module": "@jupyter-widgets/controls",
          "model_name": "HTMLModel",
          "state": {
            "_view_name": "HTMLView",
            "style": "IPY_MODEL_242dce6ea6f14f8fa9e2f1f3fa069aff",
            "_dom_classes": [],
            "description": "",
            "_model_name": "HTMLModel",
            "placeholder": "​",
            "_view_module": "@jupyter-widgets/controls",
            "_model_module_version": "1.5.0",
            "value": " 9920512/? [00:20&lt;00:00, 816740.62it/s]",
            "_view_count": null,
            "_view_module_version": "1.5.0",
            "description_tooltip": null,
            "_model_module": "@jupyter-widgets/controls",
            "layout": "IPY_MODEL_34f94da802924a29aac5527ecbf66321"
          }
        },
        "ea5fab6b4806468a9a515d68f5ec2729": {
          "model_module": "@jupyter-widgets/controls",
          "model_name": "ProgressStyleModel",
          "state": {
            "_view_name": "StyleView",
            "_model_name": "ProgressStyleModel",
            "description_width": "initial",
            "_view_module": "@jupyter-widgets/base",
            "_model_module_version": "1.5.0",
            "_view_count": null,
            "_view_module_version": "1.2.0",
            "bar_color": null,
            "_model_module": "@jupyter-widgets/controls"
          }
        },
        "18ad9ad9fd9b4fb2904bdf7013aa1caf": {
          "model_module": "@jupyter-widgets/base",
          "model_name": "LayoutModel",
          "state": {
            "_view_name": "LayoutView",
            "grid_template_rows": null,
            "right": null,
            "justify_content": null,
            "_view_module": "@jupyter-widgets/base",
            "overflow": null,
            "_model_module_version": "1.2.0",
            "_view_count": null,
            "flex_flow": null,
            "width": null,
            "min_width": null,
            "border": null,
            "align_items": null,
            "bottom": null,
            "_model_module": "@jupyter-widgets/base",
            "top": null,
            "grid_column": null,
            "overflow_y": null,
            "overflow_x": null,
            "grid_auto_flow": null,
            "grid_area": null,
            "grid_template_columns": null,
            "flex": null,
            "_model_name": "LayoutModel",
            "justify_items": null,
            "grid_row": null,
            "max_height": null,
            "align_content": null,
            "visibility": null,
            "align_self": null,
            "height": null,
            "min_height": null,
            "padding": null,
            "grid_auto_rows": null,
            "grid_gap": null,
            "max_width": null,
            "order": null,
            "_view_module_version": "1.2.0",
            "grid_template_areas": null,
            "object_position": null,
            "object_fit": null,
            "grid_auto_columns": null,
            "margin": null,
            "display": null,
            "left": null
          }
        },
        "242dce6ea6f14f8fa9e2f1f3fa069aff": {
          "model_module": "@jupyter-widgets/controls",
          "model_name": "DescriptionStyleModel",
          "state": {
            "_view_name": "StyleView",
            "_model_name": "DescriptionStyleModel",
            "description_width": "",
            "_view_module": "@jupyter-widgets/base",
            "_model_module_version": "1.5.0",
            "_view_count": null,
            "_view_module_version": "1.2.0",
            "_model_module": "@jupyter-widgets/controls"
          }
        },
        "34f94da802924a29aac5527ecbf66321": {
          "model_module": "@jupyter-widgets/base",
          "model_name": "LayoutModel",
          "state": {
            "_view_name": "LayoutView",
            "grid_template_rows": null,
            "right": null,
            "justify_content": null,
            "_view_module": "@jupyter-widgets/base",
            "overflow": null,
            "_model_module_version": "1.2.0",
            "_view_count": null,
            "flex_flow": null,
            "width": null,
            "min_width": null,
            "border": null,
            "align_items": null,
            "bottom": null,
            "_model_module": "@jupyter-widgets/base",
            "top": null,
            "grid_column": null,
            "overflow_y": null,
            "overflow_x": null,
            "grid_auto_flow": null,
            "grid_area": null,
            "grid_template_columns": null,
            "flex": null,
            "_model_name": "LayoutModel",
            "justify_items": null,
            "grid_row": null,
            "max_height": null,
            "align_content": null,
            "visibility": null,
            "align_self": null,
            "height": null,
            "min_height": null,
            "padding": null,
            "grid_auto_rows": null,
            "grid_gap": null,
            "max_width": null,
            "order": null,
            "_view_module_version": "1.2.0",
            "grid_template_areas": null,
            "object_position": null,
            "object_fit": null,
            "grid_auto_columns": null,
            "margin": null,
            "display": null,
            "left": null
          }
        },
        "ea386f16bc284fc1bdd1f0286837963c": {
          "model_module": "@jupyter-widgets/controls",
          "model_name": "HBoxModel",
          "state": {
            "_view_name": "HBoxView",
            "_dom_classes": [],
            "_model_name": "HBoxModel",
            "_view_module": "@jupyter-widgets/controls",
            "_model_module_version": "1.5.0",
            "_view_count": null,
            "_view_module_version": "1.5.0",
            "box_style": "",
            "layout": "IPY_MODEL_b692c09c888b4651ac85aa1e2bb695ba",
            "_model_module": "@jupyter-widgets/controls",
            "children": [
              "IPY_MODEL_37d827c601b74385a90afb048ea93b4a",
              "IPY_MODEL_84eebb1d684342238cf22ef69ce2509d"
            ]
          }
        },
        "b692c09c888b4651ac85aa1e2bb695ba": {
          "model_module": "@jupyter-widgets/base",
          "model_name": "LayoutModel",
          "state": {
            "_view_name": "LayoutView",
            "grid_template_rows": null,
            "right": null,
            "justify_content": null,
            "_view_module": "@jupyter-widgets/base",
            "overflow": null,
            "_model_module_version": "1.2.0",
            "_view_count": null,
            "flex_flow": null,
            "width": null,
            "min_width": null,
            "border": null,
            "align_items": null,
            "bottom": null,
            "_model_module": "@jupyter-widgets/base",
            "top": null,
            "grid_column": null,
            "overflow_y": null,
            "overflow_x": null,
            "grid_auto_flow": null,
            "grid_area": null,
            "grid_template_columns": null,
            "flex": null,
            "_model_name": "LayoutModel",
            "justify_items": null,
            "grid_row": null,
            "max_height": null,
            "align_content": null,
            "visibility": null,
            "align_self": null,
            "height": null,
            "min_height": null,
            "padding": null,
            "grid_auto_rows": null,
            "grid_gap": null,
            "max_width": null,
            "order": null,
            "_view_module_version": "1.2.0",
            "grid_template_areas": null,
            "object_position": null,
            "object_fit": null,
            "grid_auto_columns": null,
            "margin": null,
            "display": null,
            "left": null
          }
        },
        "37d827c601b74385a90afb048ea93b4a": {
          "model_module": "@jupyter-widgets/controls",
          "model_name": "FloatProgressModel",
          "state": {
            "_view_name": "ProgressView",
            "style": "IPY_MODEL_78fc83a610c04aa480304e265e6de7cf",
            "_dom_classes": [],
            "description": "",
            "_model_name": "FloatProgressModel",
            "bar_style": "success",
            "max": 1,
            "_view_module": "@jupyter-widgets/controls",
            "_model_module_version": "1.5.0",
            "value": 1,
            "_view_count": null,
            "_view_module_version": "1.5.0",
            "orientation": "horizontal",
            "min": 0,
            "description_tooltip": null,
            "_model_module": "@jupyter-widgets/controls",
            "layout": "IPY_MODEL_e6971a0cfe204e08854d40b1eb4cd17d"
          }
        },
        "84eebb1d684342238cf22ef69ce2509d": {
          "model_module": "@jupyter-widgets/controls",
          "model_name": "HTMLModel",
          "state": {
            "_view_name": "HTMLView",
            "style": "IPY_MODEL_246af6971dff4eb4a24534c330daa858",
            "_dom_classes": [],
            "description": "",
            "_model_name": "HTMLModel",
            "placeholder": "​",
            "_view_module": "@jupyter-widgets/controls",
            "_model_module_version": "1.5.0",
            "value": " 32768/? [00:00&lt;00:00, 115292.24it/s]",
            "_view_count": null,
            "_view_module_version": "1.5.0",
            "description_tooltip": null,
            "_model_module": "@jupyter-widgets/controls",
            "layout": "IPY_MODEL_52ae18ce336248278d663216d0b16183"
          }
        },
        "78fc83a610c04aa480304e265e6de7cf": {
          "model_module": "@jupyter-widgets/controls",
          "model_name": "ProgressStyleModel",
          "state": {
            "_view_name": "StyleView",
            "_model_name": "ProgressStyleModel",
            "description_width": "initial",
            "_view_module": "@jupyter-widgets/base",
            "_model_module_version": "1.5.0",
            "_view_count": null,
            "_view_module_version": "1.2.0",
            "bar_color": null,
            "_model_module": "@jupyter-widgets/controls"
          }
        },
        "e6971a0cfe204e08854d40b1eb4cd17d": {
          "model_module": "@jupyter-widgets/base",
          "model_name": "LayoutModel",
          "state": {
            "_view_name": "LayoutView",
            "grid_template_rows": null,
            "right": null,
            "justify_content": null,
            "_view_module": "@jupyter-widgets/base",
            "overflow": null,
            "_model_module_version": "1.2.0",
            "_view_count": null,
            "flex_flow": null,
            "width": null,
            "min_width": null,
            "border": null,
            "align_items": null,
            "bottom": null,
            "_model_module": "@jupyter-widgets/base",
            "top": null,
            "grid_column": null,
            "overflow_y": null,
            "overflow_x": null,
            "grid_auto_flow": null,
            "grid_area": null,
            "grid_template_columns": null,
            "flex": null,
            "_model_name": "LayoutModel",
            "justify_items": null,
            "grid_row": null,
            "max_height": null,
            "align_content": null,
            "visibility": null,
            "align_self": null,
            "height": null,
            "min_height": null,
            "padding": null,
            "grid_auto_rows": null,
            "grid_gap": null,
            "max_width": null,
            "order": null,
            "_view_module_version": "1.2.0",
            "grid_template_areas": null,
            "object_position": null,
            "object_fit": null,
            "grid_auto_columns": null,
            "margin": null,
            "display": null,
            "left": null
          }
        },
        "246af6971dff4eb4a24534c330daa858": {
          "model_module": "@jupyter-widgets/controls",
          "model_name": "DescriptionStyleModel",
          "state": {
            "_view_name": "StyleView",
            "_model_name": "DescriptionStyleModel",
            "description_width": "",
            "_view_module": "@jupyter-widgets/base",
            "_model_module_version": "1.5.0",
            "_view_count": null,
            "_view_module_version": "1.2.0",
            "_model_module": "@jupyter-widgets/controls"
          }
        },
        "52ae18ce336248278d663216d0b16183": {
          "model_module": "@jupyter-widgets/base",
          "model_name": "LayoutModel",
          "state": {
            "_view_name": "LayoutView",
            "grid_template_rows": null,
            "right": null,
            "justify_content": null,
            "_view_module": "@jupyter-widgets/base",
            "overflow": null,
            "_model_module_version": "1.2.0",
            "_view_count": null,
            "flex_flow": null,
            "width": null,
            "min_width": null,
            "border": null,
            "align_items": null,
            "bottom": null,
            "_model_module": "@jupyter-widgets/base",
            "top": null,
            "grid_column": null,
            "overflow_y": null,
            "overflow_x": null,
            "grid_auto_flow": null,
            "grid_area": null,
            "grid_template_columns": null,
            "flex": null,
            "_model_name": "LayoutModel",
            "justify_items": null,
            "grid_row": null,
            "max_height": null,
            "align_content": null,
            "visibility": null,
            "align_self": null,
            "height": null,
            "min_height": null,
            "padding": null,
            "grid_auto_rows": null,
            "grid_gap": null,
            "max_width": null,
            "order": null,
            "_view_module_version": "1.2.0",
            "grid_template_areas": null,
            "object_position": null,
            "object_fit": null,
            "grid_auto_columns": null,
            "margin": null,
            "display": null,
            "left": null
          }
        },
        "ab85721fe1e04ce29f514d6615c4915b": {
          "model_module": "@jupyter-widgets/controls",
          "model_name": "HBoxModel",
          "state": {
            "_view_name": "HBoxView",
            "_dom_classes": [],
            "_model_name": "HBoxModel",
            "_view_module": "@jupyter-widgets/controls",
            "_model_module_version": "1.5.0",
            "_view_count": null,
            "_view_module_version": "1.5.0",
            "box_style": "",
            "layout": "IPY_MODEL_e6d464b5d3b148ff81c30a203c1884d3",
            "_model_module": "@jupyter-widgets/controls",
            "children": [
              "IPY_MODEL_df8370f3fa35477bb0995f8cc37fb941",
              "IPY_MODEL_a1e9db15b3c04255a547d3b669c837f5"
            ]
          }
        },
        "e6d464b5d3b148ff81c30a203c1884d3": {
          "model_module": "@jupyter-widgets/base",
          "model_name": "LayoutModel",
          "state": {
            "_view_name": "LayoutView",
            "grid_template_rows": null,
            "right": null,
            "justify_content": null,
            "_view_module": "@jupyter-widgets/base",
            "overflow": null,
            "_model_module_version": "1.2.0",
            "_view_count": null,
            "flex_flow": null,
            "width": null,
            "min_width": null,
            "border": null,
            "align_items": null,
            "bottom": null,
            "_model_module": "@jupyter-widgets/base",
            "top": null,
            "grid_column": null,
            "overflow_y": null,
            "overflow_x": null,
            "grid_auto_flow": null,
            "grid_area": null,
            "grid_template_columns": null,
            "flex": null,
            "_model_name": "LayoutModel",
            "justify_items": null,
            "grid_row": null,
            "max_height": null,
            "align_content": null,
            "visibility": null,
            "align_self": null,
            "height": null,
            "min_height": null,
            "padding": null,
            "grid_auto_rows": null,
            "grid_gap": null,
            "max_width": null,
            "order": null,
            "_view_module_version": "1.2.0",
            "grid_template_areas": null,
            "object_position": null,
            "object_fit": null,
            "grid_auto_columns": null,
            "margin": null,
            "display": null,
            "left": null
          }
        },
        "df8370f3fa35477bb0995f8cc37fb941": {
          "model_module": "@jupyter-widgets/controls",
          "model_name": "FloatProgressModel",
          "state": {
            "_view_name": "ProgressView",
            "style": "IPY_MODEL_c096115a5bff4de78685e41a463f4f73",
            "_dom_classes": [],
            "description": "",
            "_model_name": "FloatProgressModel",
            "bar_style": "info",
            "max": 1,
            "_view_module": "@jupyter-widgets/controls",
            "_model_module_version": "1.5.0",
            "value": 1,
            "_view_count": null,
            "_view_module_version": "1.5.0",
            "orientation": "horizontal",
            "min": 0,
            "description_tooltip": null,
            "_model_module": "@jupyter-widgets/controls",
            "layout": "IPY_MODEL_36efde7c8e1c4581a7ee9eeb4ba4db11"
          }
        },
        "a1e9db15b3c04255a547d3b669c837f5": {
          "model_module": "@jupyter-widgets/controls",
          "model_name": "HTMLModel",
          "state": {
            "_view_name": "HTMLView",
            "style": "IPY_MODEL_1defdfbfca074dd0977a8d3d9d249449",
            "_dom_classes": [],
            "description": "",
            "_model_name": "HTMLModel",
            "placeholder": "​",
            "_view_module": "@jupyter-widgets/controls",
            "_model_module_version": "1.5.0",
            "value": " 1654784/? [00:18&lt;00:00, 522121.91it/s]",
            "_view_count": null,
            "_view_module_version": "1.5.0",
            "description_tooltip": null,
            "_model_module": "@jupyter-widgets/controls",
            "layout": "IPY_MODEL_d12196b29fdb4176a57e465417961b04"
          }
        },
        "c096115a5bff4de78685e41a463f4f73": {
          "model_module": "@jupyter-widgets/controls",
          "model_name": "ProgressStyleModel",
          "state": {
            "_view_name": "StyleView",
            "_model_name": "ProgressStyleModel",
            "description_width": "initial",
            "_view_module": "@jupyter-widgets/base",
            "_model_module_version": "1.5.0",
            "_view_count": null,
            "_view_module_version": "1.2.0",
            "bar_color": null,
            "_model_module": "@jupyter-widgets/controls"
          }
        },
        "36efde7c8e1c4581a7ee9eeb4ba4db11": {
          "model_module": "@jupyter-widgets/base",
          "model_name": "LayoutModel",
          "state": {
            "_view_name": "LayoutView",
            "grid_template_rows": null,
            "right": null,
            "justify_content": null,
            "_view_module": "@jupyter-widgets/base",
            "overflow": null,
            "_model_module_version": "1.2.0",
            "_view_count": null,
            "flex_flow": null,
            "width": null,
            "min_width": null,
            "border": null,
            "align_items": null,
            "bottom": null,
            "_model_module": "@jupyter-widgets/base",
            "top": null,
            "grid_column": null,
            "overflow_y": null,
            "overflow_x": null,
            "grid_auto_flow": null,
            "grid_area": null,
            "grid_template_columns": null,
            "flex": null,
            "_model_name": "LayoutModel",
            "justify_items": null,
            "grid_row": null,
            "max_height": null,
            "align_content": null,
            "visibility": null,
            "align_self": null,
            "height": null,
            "min_height": null,
            "padding": null,
            "grid_auto_rows": null,
            "grid_gap": null,
            "max_width": null,
            "order": null,
            "_view_module_version": "1.2.0",
            "grid_template_areas": null,
            "object_position": null,
            "object_fit": null,
            "grid_auto_columns": null,
            "margin": null,
            "display": null,
            "left": null
          }
        },
        "1defdfbfca074dd0977a8d3d9d249449": {
          "model_module": "@jupyter-widgets/controls",
          "model_name": "DescriptionStyleModel",
          "state": {
            "_view_name": "StyleView",
            "_model_name": "DescriptionStyleModel",
            "description_width": "",
            "_view_module": "@jupyter-widgets/base",
            "_model_module_version": "1.5.0",
            "_view_count": null,
            "_view_module_version": "1.2.0",
            "_model_module": "@jupyter-widgets/controls"
          }
        },
        "d12196b29fdb4176a57e465417961b04": {
          "model_module": "@jupyter-widgets/base",
          "model_name": "LayoutModel",
          "state": {
            "_view_name": "LayoutView",
            "grid_template_rows": null,
            "right": null,
            "justify_content": null,
            "_view_module": "@jupyter-widgets/base",
            "overflow": null,
            "_model_module_version": "1.2.0",
            "_view_count": null,
            "flex_flow": null,
            "width": null,
            "min_width": null,
            "border": null,
            "align_items": null,
            "bottom": null,
            "_model_module": "@jupyter-widgets/base",
            "top": null,
            "grid_column": null,
            "overflow_y": null,
            "overflow_x": null,
            "grid_auto_flow": null,
            "grid_area": null,
            "grid_template_columns": null,
            "flex": null,
            "_model_name": "LayoutModel",
            "justify_items": null,
            "grid_row": null,
            "max_height": null,
            "align_content": null,
            "visibility": null,
            "align_self": null,
            "height": null,
            "min_height": null,
            "padding": null,
            "grid_auto_rows": null,
            "grid_gap": null,
            "max_width": null,
            "order": null,
            "_view_module_version": "1.2.0",
            "grid_template_areas": null,
            "object_position": null,
            "object_fit": null,
            "grid_auto_columns": null,
            "margin": null,
            "display": null,
            "left": null
          }
        },
        "4bb4d6ab5ef64c5b98ae267eae262f92": {
          "model_module": "@jupyter-widgets/controls",
          "model_name": "HBoxModel",
          "state": {
            "_view_name": "HBoxView",
            "_dom_classes": [],
            "_model_name": "HBoxModel",
            "_view_module": "@jupyter-widgets/controls",
            "_model_module_version": "1.5.0",
            "_view_count": null,
            "_view_module_version": "1.5.0",
            "box_style": "",
            "layout": "IPY_MODEL_89d4034969f3400b9597770107c2b7d3",
            "_model_module": "@jupyter-widgets/controls",
            "children": [
              "IPY_MODEL_622d36e18f544c8fab5e0302a5e73421",
              "IPY_MODEL_36febfb8b2854cd793df011a53f52520"
            ]
          }
        },
        "89d4034969f3400b9597770107c2b7d3": {
          "model_module": "@jupyter-widgets/base",
          "model_name": "LayoutModel",
          "state": {
            "_view_name": "LayoutView",
            "grid_template_rows": null,
            "right": null,
            "justify_content": null,
            "_view_module": "@jupyter-widgets/base",
            "overflow": null,
            "_model_module_version": "1.2.0",
            "_view_count": null,
            "flex_flow": null,
            "width": null,
            "min_width": null,
            "border": null,
            "align_items": null,
            "bottom": null,
            "_model_module": "@jupyter-widgets/base",
            "top": null,
            "grid_column": null,
            "overflow_y": null,
            "overflow_x": null,
            "grid_auto_flow": null,
            "grid_area": null,
            "grid_template_columns": null,
            "flex": null,
            "_model_name": "LayoutModel",
            "justify_items": null,
            "grid_row": null,
            "max_height": null,
            "align_content": null,
            "visibility": null,
            "align_self": null,
            "height": null,
            "min_height": null,
            "padding": null,
            "grid_auto_rows": null,
            "grid_gap": null,
            "max_width": null,
            "order": null,
            "_view_module_version": "1.2.0",
            "grid_template_areas": null,
            "object_position": null,
            "object_fit": null,
            "grid_auto_columns": null,
            "margin": null,
            "display": null,
            "left": null
          }
        },
        "622d36e18f544c8fab5e0302a5e73421": {
          "model_module": "@jupyter-widgets/controls",
          "model_name": "FloatProgressModel",
          "state": {
            "_view_name": "ProgressView",
            "style": "IPY_MODEL_4b4956cefa9346438ae0a7d5bf5eb75b",
            "_dom_classes": [],
            "description": "  0%",
            "_model_name": "FloatProgressModel",
            "bar_style": "info",
            "max": 1,
            "_view_module": "@jupyter-widgets/controls",
            "_model_module_version": "1.5.0",
            "value": 0,
            "_view_count": null,
            "_view_module_version": "1.5.0",
            "orientation": "horizontal",
            "min": 0,
            "description_tooltip": null,
            "_model_module": "@jupyter-widgets/controls",
            "layout": "IPY_MODEL_a2c7917fda6247aeb34a7071a754e15f"
          }
        },
        "36febfb8b2854cd793df011a53f52520": {
          "model_module": "@jupyter-widgets/controls",
          "model_name": "HTMLModel",
          "state": {
            "_view_name": "HTMLView",
            "style": "IPY_MODEL_6ec8fa08720c422fb69ddfe210dc63b9",
            "_dom_classes": [],
            "description": "",
            "_model_name": "HTMLModel",
            "placeholder": "​",
            "_view_module": "@jupyter-widgets/controls",
            "_model_module_version": "1.5.0",
            "value": " 0/4542 [00:00&lt;?, ?it/s]",
            "_view_count": null,
            "_view_module_version": "1.5.0",
            "description_tooltip": null,
            "_model_module": "@jupyter-widgets/controls",
            "layout": "IPY_MODEL_4174b13569c5472fa208ff0064fc6b29"
          }
        },
        "4b4956cefa9346438ae0a7d5bf5eb75b": {
          "model_module": "@jupyter-widgets/controls",
          "model_name": "ProgressStyleModel",
          "state": {
            "_view_name": "StyleView",
            "_model_name": "ProgressStyleModel",
            "description_width": "initial",
            "_view_module": "@jupyter-widgets/base",
            "_model_module_version": "1.5.0",
            "_view_count": null,
            "_view_module_version": "1.2.0",
            "bar_color": null,
            "_model_module": "@jupyter-widgets/controls"
          }
        },
        "a2c7917fda6247aeb34a7071a754e15f": {
          "model_module": "@jupyter-widgets/base",
          "model_name": "LayoutModel",
          "state": {
            "_view_name": "LayoutView",
            "grid_template_rows": null,
            "right": null,
            "justify_content": null,
            "_view_module": "@jupyter-widgets/base",
            "overflow": null,
            "_model_module_version": "1.2.0",
            "_view_count": null,
            "flex_flow": null,
            "width": null,
            "min_width": null,
            "border": null,
            "align_items": null,
            "bottom": null,
            "_model_module": "@jupyter-widgets/base",
            "top": null,
            "grid_column": null,
            "overflow_y": null,
            "overflow_x": null,
            "grid_auto_flow": null,
            "grid_area": null,
            "grid_template_columns": null,
            "flex": null,
            "_model_name": "LayoutModel",
            "justify_items": null,
            "grid_row": null,
            "max_height": null,
            "align_content": null,
            "visibility": null,
            "align_self": null,
            "height": null,
            "min_height": null,
            "padding": null,
            "grid_auto_rows": null,
            "grid_gap": null,
            "max_width": null,
            "order": null,
            "_view_module_version": "1.2.0",
            "grid_template_areas": null,
            "object_position": null,
            "object_fit": null,
            "grid_auto_columns": null,
            "margin": null,
            "display": null,
            "left": null
          }
        },
        "6ec8fa08720c422fb69ddfe210dc63b9": {
          "model_module": "@jupyter-widgets/controls",
          "model_name": "DescriptionStyleModel",
          "state": {
            "_view_name": "StyleView",
            "_model_name": "DescriptionStyleModel",
            "description_width": "",
            "_view_module": "@jupyter-widgets/base",
            "_model_module_version": "1.5.0",
            "_view_count": null,
            "_view_module_version": "1.2.0",
            "_model_module": "@jupyter-widgets/controls"
          }
        },
        "4174b13569c5472fa208ff0064fc6b29": {
          "model_module": "@jupyter-widgets/base",
          "model_name": "LayoutModel",
          "state": {
            "_view_name": "LayoutView",
            "grid_template_rows": null,
            "right": null,
            "justify_content": null,
            "_view_module": "@jupyter-widgets/base",
            "overflow": null,
            "_model_module_version": "1.2.0",
            "_view_count": null,
            "flex_flow": null,
            "width": null,
            "min_width": null,
            "border": null,
            "align_items": null,
            "bottom": null,
            "_model_module": "@jupyter-widgets/base",
            "top": null,
            "grid_column": null,
            "overflow_y": null,
            "overflow_x": null,
            "grid_auto_flow": null,
            "grid_area": null,
            "grid_template_columns": null,
            "flex": null,
            "_model_name": "LayoutModel",
            "justify_items": null,
            "grid_row": null,
            "max_height": null,
            "align_content": null,
            "visibility": null,
            "align_self": null,
            "height": null,
            "min_height": null,
            "padding": null,
            "grid_auto_rows": null,
            "grid_gap": null,
            "max_width": null,
            "order": null,
            "_view_module_version": "1.2.0",
            "grid_template_areas": null,
            "object_position": null,
            "object_fit": null,
            "grid_auto_columns": null,
            "margin": null,
            "display": null,
            "left": null
          }
        }
      }
    }
  },
  "cells": [
    {
      "cell_type": "markdown",
      "metadata": {
        "id": "Yxy03vXuTMPS"
      },
      "source": [
        "**LeNet-300-100 Training**"
      ]
    },
    {
      "cell_type": "code",
      "metadata": {
        "id": "rB22hIcuTQhm"
      },
      "source": [
        "import torch\n",
        "import torch.nn as nn\n",
        "import torchvision\n",
        "import torch.nn.functional as F\n",
        "import numpy as np\n",
        "import torchvision.transforms as transforms\n",
        "import matplotlib.pyplot as plt\n",
        "import os"
      ],
      "execution_count": null,
      "outputs": []
    },
    {
      "cell_type": "code",
      "metadata": {
        "id": "7TTUT1rKTSQE"
      },
      "source": [
        ""
      ],
      "execution_count": null,
      "outputs": []
    },
    {
      "cell_type": "code",
      "metadata": {
        "colab": {
          "base_uri": "https://localhost:8080/"
        },
        "id": "Ibqvh92yTSaJ",
        "outputId": "ec0e2fad-4be7-4298-e9d1-3a6d58ef7049"
      },
      "source": [
        "# GPU device configuration-\n",
        "device = torch.device('cuda' if torch.cuda.is_available() else 'cpu')\n",
        "\n",
        "print(f\"Available device: {device}\")"
      ],
      "execution_count": null,
      "outputs": [
        {
          "output_type": "stream",
          "text": [
            "Available device: cuda\n"
          ],
          "name": "stdout"
        }
      ]
    },
    {
      "cell_type": "code",
      "metadata": {
        "id": "RcdXJGP3TWQp"
      },
      "source": [
        ""
      ],
      "execution_count": null,
      "outputs": []
    },
    {
      "cell_type": "code",
      "metadata": {
        "id": "_Tbq0CIyTZDY"
      },
      "source": [
        "# Hyper-parameters-\n",
        "input_size = 784    # 28 x 28, flattened to be 1-D tensor\n",
        "hidden_size = 100\n",
        "num_classes = 10\n",
        "num_epochs = 10\n",
        "batch_size = 32\n",
        "learning_rate = 0.0012"
      ],
      "execution_count": null,
      "outputs": []
    },
    {
      "cell_type": "code",
      "metadata": {
        "id": "vMpnVSqVTZwL"
      },
      "source": [
        "# MNIST dataset statistics:\n",
        "# mean = tensor([0.1307]) & std dev = tensor([0.3081])\n",
        "mean = np.array([0.1307])\n",
        "std_dev = np.array([0.3081])\n",
        "\n",
        "transforms_apply = transforms.Compose([\n",
        "    transforms.ToTensor(),\n",
        "    transforms.Normalize(mean = mean, std = std_dev)\n",
        "    ])"
      ],
      "execution_count": null,
      "outputs": []
    },
    {
      "cell_type": "code",
      "metadata": {
        "colab": {
          "base_uri": "https://localhost:8080/",
          "height": 408,
          "referenced_widgets": [
            "4aeb2c0374a2416b90f723eb37c1bb30",
            "c0bcab73d3aa498488ee54bfd90a93c3",
            "e9398f1e5c3d4c90bab77abea86d8114",
            "dfc40b1edca74e5c9f0547ef64227b06",
            "ea5fab6b4806468a9a515d68f5ec2729",
            "18ad9ad9fd9b4fb2904bdf7013aa1caf",
            "242dce6ea6f14f8fa9e2f1f3fa069aff",
            "34f94da802924a29aac5527ecbf66321",
            "ea386f16bc284fc1bdd1f0286837963c",
            "b692c09c888b4651ac85aa1e2bb695ba",
            "37d827c601b74385a90afb048ea93b4a",
            "84eebb1d684342238cf22ef69ce2509d",
            "78fc83a610c04aa480304e265e6de7cf",
            "e6971a0cfe204e08854d40b1eb4cd17d",
            "246af6971dff4eb4a24534c330daa858",
            "52ae18ce336248278d663216d0b16183",
            "ab85721fe1e04ce29f514d6615c4915b",
            "e6d464b5d3b148ff81c30a203c1884d3",
            "df8370f3fa35477bb0995f8cc37fb941",
            "a1e9db15b3c04255a547d3b669c837f5",
            "c096115a5bff4de78685e41a463f4f73",
            "36efde7c8e1c4581a7ee9eeb4ba4db11",
            "1defdfbfca074dd0977a8d3d9d249449",
            "d12196b29fdb4176a57e465417961b04",
            "4bb4d6ab5ef64c5b98ae267eae262f92",
            "89d4034969f3400b9597770107c2b7d3",
            "622d36e18f544c8fab5e0302a5e73421",
            "36febfb8b2854cd793df011a53f52520",
            "4b4956cefa9346438ae0a7d5bf5eb75b",
            "a2c7917fda6247aeb34a7071a754e15f",
            "6ec8fa08720c422fb69ddfe210dc63b9",
            "4174b13569c5472fa208ff0064fc6b29"
          ]
        },
        "id": "ifBi9VXlTf44",
        "outputId": "cf730363-6e0a-4084-a9eb-5ef720f6369c"
      },
      "source": [
        "# MNIST dataset-\n",
        "train_dataset = torchvision.datasets.MNIST(\n",
        "        root = './data', train = True,\n",
        "        transform = transforms_apply, download = True\n",
        "        )\n",
        "\n",
        "test_dataset = torchvision.datasets.MNIST(\n",
        "        root = './data', train = False,\n",
        "        transform = transforms_apply\n",
        "        )\n",
        "\n",
        "print(f\"len(train_dataset): {len(train_dataset)} & len(test_dataset): {len(test_dataset)}\")"
      ],
      "execution_count": null,
      "outputs": [
        {
          "output_type": "stream",
          "text": [
            "Downloading http://yann.lecun.com/exdb/mnist/train-images-idx3-ubyte.gz to ./data/MNIST/raw/train-images-idx3-ubyte.gz\n"
          ],
          "name": "stdout"
        },
        {
          "output_type": "display_data",
          "data": {
            "application/vnd.jupyter.widget-view+json": {
              "model_id": "4aeb2c0374a2416b90f723eb37c1bb30",
              "version_minor": 0,
              "version_major": 2
            },
            "text/plain": [
              "HBox(children=(FloatProgress(value=1.0, bar_style='info', max=1.0), HTML(value='')))"
            ]
          },
          "metadata": {
            "tags": []
          }
        },
        {
          "output_type": "stream",
          "text": [
            "Extracting ./data/MNIST/raw/train-images-idx3-ubyte.gz to ./data/MNIST/raw\n",
            "Downloading http://yann.lecun.com/exdb/mnist/train-labels-idx1-ubyte.gz to ./data/MNIST/raw/train-labels-idx1-ubyte.gz\n"
          ],
          "name": "stdout"
        },
        {
          "output_type": "display_data",
          "data": {
            "application/vnd.jupyter.widget-view+json": {
              "model_id": "ea386f16bc284fc1bdd1f0286837963c",
              "version_minor": 0,
              "version_major": 2
            },
            "text/plain": [
              "HBox(children=(FloatProgress(value=1.0, bar_style='info', max=1.0), HTML(value='')))"
            ]
          },
          "metadata": {
            "tags": []
          }
        },
        {
          "output_type": "stream",
          "text": [
            "Extracting ./data/MNIST/raw/train-labels-idx1-ubyte.gz to ./data/MNIST/raw\n",
            "Downloading http://yann.lecun.com/exdb/mnist/t10k-images-idx3-ubyte.gz to ./data/MNIST/raw/t10k-images-idx3-ubyte.gz\n",
            "\n"
          ],
          "name": "stdout"
        },
        {
          "output_type": "display_data",
          "data": {
            "application/vnd.jupyter.widget-view+json": {
              "model_id": "ab85721fe1e04ce29f514d6615c4915b",
              "version_minor": 0,
              "version_major": 2
            },
            "text/plain": [
              "HBox(children=(FloatProgress(value=1.0, bar_style='info', max=1.0), HTML(value='')))"
            ]
          },
          "metadata": {
            "tags": []
          }
        },
        {
          "output_type": "stream",
          "text": [
            "Extracting ./data/MNIST/raw/t10k-images-idx3-ubyte.gz to ./data/MNIST/raw\n",
            "Downloading http://yann.lecun.com/exdb/mnist/t10k-labels-idx1-ubyte.gz to ./data/MNIST/raw/t10k-labels-idx1-ubyte.gz\n"
          ],
          "name": "stdout"
        },
        {
          "output_type": "display_data",
          "data": {
            "application/vnd.jupyter.widget-view+json": {
              "model_id": "4bb4d6ab5ef64c5b98ae267eae262f92",
              "version_minor": 0,
              "version_major": 2
            },
            "text/plain": [
              "HBox(children=(FloatProgress(value=1.0, bar_style='info', max=1.0), HTML(value='')))"
            ]
          },
          "metadata": {
            "tags": []
          }
        },
        {
          "output_type": "stream",
          "text": [
            "Extracting ./data/MNIST/raw/t10k-labels-idx1-ubyte.gz to ./data/MNIST/raw\n",
            "Processing...\n",
            "Done!\n",
            "len(train_dataset): 60000 & len(test_dataset): 10000\n"
          ],
          "name": "stdout"
        },
        {
          "output_type": "stream",
          "text": [
            "/usr/local/lib/python3.6/dist-packages/torchvision/datasets/mnist.py:480: UserWarning: The given NumPy array is not writeable, and PyTorch does not support non-writeable tensors. This means you can write to the underlying (supposedly non-writeable) NumPy array using the tensor. You may want to copy the array to protect its data or make it writeable before converting it to a tensor. This type of warning will be suppressed for the rest of this program. (Triggered internally at  /pytorch/torch/csrc/utils/tensor_numpy.cpp:141.)\n",
            "  return torch.from_numpy(parsed.astype(m[2], copy=False)).view(*s)\n"
          ],
          "name": "stderr"
        }
      ]
    },
    {
      "cell_type": "code",
      "metadata": {
        "colab": {
          "base_uri": "https://localhost:8080/"
        },
        "id": "Vv7ws-wTTgxm",
        "outputId": "fb4c799c-b509-4eb7-a50a-00c55c2d3033"
      },
      "source": [
        "# Create dataloader-\n",
        "train_loader = torch.utils.data.DataLoader(\n",
        "        dataset = train_dataset, batch_size = batch_size,\n",
        "        shuffle = True\n",
        "        )\n",
        "\n",
        "test_loader = torch.utils.data.DataLoader(\n",
        "        dataset = test_dataset, batch_size = batch_size,\n",
        "        shuffle = False\n",
        "        )\n",
        "\n",
        "print(f\"len(train_loader) = {len(train_loader)} & len(test_loader) = {len(test_loader)}\")"
      ],
      "execution_count": null,
      "outputs": [
        {
          "output_type": "stream",
          "text": [
            "len(train_loader) = 1875 & len(test_loader) = 313\n"
          ],
          "name": "stdout"
        }
      ]
    },
    {
      "cell_type": "code",
      "metadata": {
        "colab": {
          "base_uri": "https://localhost:8080/"
        },
        "id": "u4asDp3jTmvh",
        "outputId": "bacf3a10-7e74-43f4-84e3-00848950f732"
      },
      "source": [
        "X, y = next(iter(train_loader))\n",
        "X.shape, y.shape"
      ],
      "execution_count": null,
      "outputs": [
        {
          "output_type": "execute_result",
          "data": {
            "text/plain": [
              "(torch.Size([32, 1, 28, 28]), torch.Size([32]))"
            ]
          },
          "metadata": {
            "tags": []
          },
          "execution_count": 7
        }
      ]
    },
    {
      "cell_type": "code",
      "metadata": {
        "colab": {
          "base_uri": "https://localhost:8080/"
        },
        "id": "HCInKcUYu0UM",
        "outputId": "ea8d45b5-4e29-4aa7-bf35-06ceb4cb8f04"
      },
      "source": [
        "# Reshape input so that it can be fed into LeNet-300-100 architecture model-\n",
        "X.reshape(-1, input_size).shape"
      ],
      "execution_count": null,
      "outputs": [
        {
          "output_type": "execute_result",
          "data": {
            "text/plain": [
              "torch.Size([32, 784])"
            ]
          },
          "metadata": {
            "tags": []
          },
          "execution_count": 23
        }
      ]
    },
    {
      "cell_type": "code",
      "metadata": {
        "id": "5Y9qPw4wu-fN"
      },
      "source": [
        ""
      ],
      "execution_count": null,
      "outputs": []
    },
    {
      "cell_type": "code",
      "metadata": {
        "colab": {
          "base_uri": "https://localhost:8080/",
          "height": 267
        },
        "id": "mGxMTlcPTwp2",
        "outputId": "ea12c6ee-aca4-471c-f783-22fcb823d21c"
      },
      "source": [
        "# Print 6 images from training set-\n",
        "for i in range(6):\n",
        "    plt.subplot(2, 3, i + 1)    # 2 rows & 3 columns\n",
        "    plt.imshow(X[i][0], cmap = 'gray')     # '0' to access first channel\n",
        "plt.show()"
      ],
      "execution_count": null,
      "outputs": [
        {
          "output_type": "display_data",
          "data": {
            "image/png": "[encoded data removed]",
            "text/plain": [
              "<Figure size 432x288 with 6 Axes>"
            ]
          },
          "metadata": {
            "tags": [],
            "needs_background": "light"
          }
        }
      ]
    },
    {
      "cell_type": "code",
      "metadata": {
        "id": "-8kz_BfBTz9f"
      },
      "source": [
        ""
      ],
      "execution_count": null,
      "outputs": []
    },
    {
      "cell_type": "code",
      "metadata": {
        "id": "Q9KEIRDETumr",
        "colab": {
          "base_uri": "https://localhost:8080/"
        },
        "outputId": "057fd253-04e3-4dc5-b15d-acaba63afc7b"
      },
      "source": [
        "input_size"
      ],
      "execution_count": null,
      "outputs": [
        {
          "output_type": "execute_result",
          "data": {
            "text/plain": [
              "784"
            ]
          },
          "metadata": {
            "tags": []
          },
          "execution_count": 22
        }
      ]
    },
    {
      "cell_type": "code",
      "metadata": {
        "id": "Xe-q4jn1UNrr"
      },
      "source": [
        "class LeNet300(nn.Module):\n",
        "    def __init__(self):\n",
        "        super(LeNet300, self).__init__()\n",
        "        \n",
        "        # Define layers-\n",
        "        self.fc1 = nn.Linear(in_features = input_size, out_features = 300)\n",
        "        self.fc2 = nn.Linear(in_features = 300, out_features = 100)\n",
        "        self.output = nn.Linear(in_features = 100, out_features = 10)\n",
        "        \n",
        "        self.weights_initialization()\n",
        "    \n",
        "    \n",
        "    def forward(self, x):\n",
        "        out = F.relu(self.fc1(x))\n",
        "        out = F.relu(self.fc2(out))\n",
        "        return self.output(out)\n",
        "    \n",
        "    \n",
        "    def weights_initialization(self):\n",
        "        '''\n",
        "        When we define all the modules such as the layers in '__init__()'\n",
        "        method above, these are all stored in 'self.modules()'.\n",
        "        We go through each module one by one. This is the entire network,\n",
        "        basically.\n",
        "        '''\n",
        "        for m in self.modules():\n",
        "            if isinstance(m, nn.Linear):\n",
        "                nn.init.xavier_normal_(m.weight)\n",
        "                nn.init.constant_(m.bias, 0)\n"
      ],
      "execution_count": null,
      "outputs": []
    },
    {
      "cell_type": "code",
      "metadata": {
        "id": "opH634RNUQql"
      },
      "source": [
        ""
      ],
      "execution_count": null,
      "outputs": []
    },
    {
      "cell_type": "code",
      "metadata": {
        "id": "evsVSUAjUPZF"
      },
      "source": [
        "# Initialize an instance of LeNet-300-100 dense neural network-\n",
        "model = LeNet300().to(device)"
      ],
      "execution_count": null,
      "outputs": []
    },
    {
      "cell_type": "code",
      "metadata": {
        "colab": {
          "base_uri": "https://localhost:8080/"
        },
        "id": "L2UNMu5oufrw",
        "outputId": "9b3a9bcd-8e07-4eac-da3d-f033d8bf22f5"
      },
      "source": [
        "# Sanity check-\n",
        "y_pred = model(X.reshape(-1, input_size).to(device))\n",
        "y_pred.shape"
      ],
      "execution_count": null,
      "outputs": [
        {
          "output_type": "execute_result",
          "data": {
            "text/plain": [
              "torch.Size([32, 10])"
            ]
          },
          "metadata": {
            "tags": []
          },
          "execution_count": 25
        }
      ]
    },
    {
      "cell_type": "code",
      "metadata": {
        "id": "CVqf-e0-uiXR"
      },
      "source": [
        ""
      ],
      "execution_count": null,
      "outputs": []
    },
    {
      "cell_type": "code",
      "metadata": {
        "colab": {
          "base_uri": "https://localhost:8080/"
        },
        "id": "8hZVYCJkURow",
        "outputId": "f38b7a3f-5c60-4dda-ac4a-950f7bae86af"
      },
      "source": [
        "# Count number of layer-wise parameters and total parameters-\n",
        "tot_params = 0\n",
        "for param in model.parameters():\n",
        "    print(f\"layer.shape = {param.shape} has {param.nelement()} parameters\")\n",
        "    tot_params += param.nelement()\n",
        "\n",
        "print(f\"\\nLeNet-300-100 has {tot_params} parameters\\n\")"
      ],
      "execution_count": null,
      "outputs": [
        {
          "output_type": "stream",
          "text": [
            "layer.shape = torch.Size([300, 784]) has 235200 parameters\n",
            "layer.shape = torch.Size([300]) has 300 parameters\n",
            "layer.shape = torch.Size([100, 300]) has 30000 parameters\n",
            "layer.shape = torch.Size([100]) has 100 parameters\n",
            "layer.shape = torch.Size([10, 100]) has 1000 parameters\n",
            "layer.shape = torch.Size([10]) has 10 parameters\n",
            "\n",
            "LeNet-300-100 has 266610 parameters\n",
            "\n"
          ],
          "name": "stdout"
        }
      ]
    },
    {
      "cell_type": "code",
      "metadata": {
        "colab": {
          "base_uri": "https://localhost:8080/"
        },
        "id": "TJKGyCJrUWYx",
        "outputId": "7cc5d5a6-cf1c-4d7a-fcfa-61bbb6a341b7"
      },
      "source": [
        "print(f\"\\nLeNet-300-100 model's layer names are:\")\n",
        "for layer in model.state_dict().keys():\n",
        "    print(f\"{layer} has dimension = {model.state_dict()[layer].shape}\")"
      ],
      "execution_count": null,
      "outputs": [
        {
          "output_type": "stream",
          "text": [
            "\n",
            "LeNet-300-100 model's layer names are:\n",
            "fc1.weight has dimension = torch.Size([300, 784])\n",
            "fc1.bias has dimension = torch.Size([300])\n",
            "fc2.weight has dimension = torch.Size([100, 300])\n",
            "fc2.bias has dimension = torch.Size([100])\n",
            "output.weight has dimension = torch.Size([10, 100])\n",
            "output.bias has dimension = torch.Size([10])\n"
          ],
          "name": "stdout"
        }
      ]
    },
    {
      "cell_type": "code",
      "metadata": {
        "id": "Se8P60uMUcsy"
      },
      "source": [
        ""
      ],
      "execution_count": null,
      "outputs": []
    },
    {
      "cell_type": "code",
      "metadata": {
        "id": "rpiAOFxmUY_b"
      },
      "source": [
        "# Define loss and optimizer-\n",
        "loss = nn.CrossEntropyLoss()    # applies softmax for us\n",
        "optimizer = torch.optim.Adam(model.parameters(), lr = learning_rate)"
      ],
      "execution_count": null,
      "outputs": []
    },
    {
      "cell_type": "code",
      "metadata": {
        "colab": {
          "base_uri": "https://localhost:8080/"
        },
        "id": "SOIm7Hp1UdJW",
        "outputId": "3f9374a6-aef2-40b5-9ebf-58d511291806"
      },
      "source": [
        "# Training loop-\n",
        "num_steps = len(train_loader)\n",
        "\n",
        "print(f\"num_steps = {num_steps} & (sanity check): len(train_dataset)/batch_size = {len(train_dataset) / batch_size}\")"
      ],
      "execution_count": null,
      "outputs": [
        {
          "output_type": "stream",
          "text": [
            "num_steps = 1875 & (sanity check): len(train_dataset)/batch_size = 1875.0\n"
          ],
          "name": "stdout"
        }
      ]
    },
    {
      "cell_type": "code",
      "metadata": {
        "colab": {
          "base_uri": "https://localhost:8080/"
        },
        "id": "gF1FdUXqUi2O",
        "outputId": "26df93ae-842b-4657-d377-2b1dceb1a1e1"
      },
      "source": [
        "print(f\"number of training steps in one epoch = {num_steps}\")"
      ],
      "execution_count": null,
      "outputs": [
        {
          "output_type": "stream",
          "text": [
            "number of training steps in one epoch = 1875\n"
          ],
          "name": "stdout"
        }
      ]
    },
    {
      "cell_type": "code",
      "metadata": {
        "id": "_QF33l8FuEdb"
      },
      "source": [
        ""
      ],
      "execution_count": null,
      "outputs": []
    },
    {
      "cell_type": "code",
      "metadata": {
        "id": "6n0enIEQuEri"
      },
      "source": [
        "# User input parameters for Early Stopping in manual implementation-\n",
        "minimum_delta = 0.001\n",
        "patience = 3"
      ],
      "execution_count": null,
      "outputs": []
    },
    {
      "cell_type": "code",
      "metadata": {
        "id": "RCw7fjwfuG3o"
      },
      "source": [
        "# Initialize parameters for Early Stopping manual implementation-\n",
        "best_val_loss = 100\n",
        "loc_patience = 0"
      ],
      "execution_count": null,
      "outputs": []
    },
    {
      "cell_type": "code",
      "metadata": {
        "id": "Ue4M-SCtuKt7"
      },
      "source": [
        "# Python3 lists to store model training metrics-\n",
        "training_acc = []\n",
        "validation_acc = []\n",
        "training_loss = []\n",
        "validation_loss = []"
      ],
      "execution_count": null,
      "outputs": []
    },
    {
      "cell_type": "code",
      "metadata": {
        "id": "zzJxyNzyuMSL"
      },
      "source": [
        ""
      ],
      "execution_count": null,
      "outputs": []
    },
    {
      "cell_type": "markdown",
      "metadata": {
        "id": "Xl9n-T8tvlF1"
      },
      "source": [
        "**Train model using Early Stopping**"
      ]
    },
    {
      "cell_type": "code",
      "metadata": {
        "colab": {
          "base_uri": "https://localhost:8080/"
        },
        "id": "XbLeUJGGuNi3",
        "outputId": "0ae0db91-7c3f-42ef-f726-56ef16af510d"
      },
      "source": [
        "for epoch in range(num_epochs):\n",
        "    running_loss = 0.0\n",
        "    running_corrects = 0.0\n",
        "    running_loss_val = 0.0\n",
        "    \n",
        "    if loc_patience >= patience:\n",
        "        print(\"\\n'EarlyStopping' called!\\n\")\n",
        "        break\n",
        "    \n",
        "    \n",
        "    for batch, (images, labels) in enumerate(train_loader):\n",
        "        # Attempt to push to GPU if available-\n",
        "        images = images.reshape(-1, input_size).to(device)\n",
        "        labels = labels.to(device)\n",
        "\n",
        "        # Set model to training mode-\n",
        "        model.train()\n",
        "\n",
        "        # Forward pass-\n",
        "        outputs = model(images)\n",
        "\n",
        "        # Compute loss-\n",
        "        J = loss(outputs, labels)\n",
        "\n",
        "        # Backward pass-\n",
        "        optimizer.zero_grad()   # empty accumulated gradients\n",
        "\n",
        "        J.backward()    # does backprop\n",
        "\n",
        "        # Updates parameters-\n",
        "        optimizer.step()\n",
        "        \n",
        "        # Compute model's performance statistics-\n",
        "        running_loss += J.item() * images.size(0)\n",
        "        _, predicted = torch.max(outputs, 1)\n",
        "        running_corrects += torch.sum(predicted == labels.data)\n",
        "\n",
        "        '''\n",
        "        # Print information every 100 steps-\n",
        "        if (batch + 1) % 100 == 0:\n",
        "            print(f\"epoch {epoch + 1}/{num_epochs}, step {batch + 1}/{num_training_steps}, loss = {J.item():.4f}\")\n",
        "        '''\n",
        "\n",
        "    epoch_loss = running_loss / len(train_dataset)\n",
        "    epoch_acc = running_corrects.double() / len(train_dataset)\n",
        "    # print(f\"\\nepoch: {epoch + 1} training loss = {epoch_loss:.4f}, training accuracy = {epoch_acc * 100:.2f}%\\n\")\n",
        "\n",
        "    total = 0\n",
        "    correct = 0\n",
        "    \n",
        "    with torch.no_grad():\n",
        "        for images, labels in test_loader:\n",
        "\n",
        "            # Place features (images) and targets (labels) to GPU-\n",
        "            images = images.reshape(-1, input_size).to(device)\n",
        "            labels = labels.to(device)\n",
        "            # print(f\"images.shape = {images.shape}, labels.shape = {labels.shape}\")\n",
        "\n",
        "            # Set model to evaluation mode-\n",
        "            model.eval()\n",
        "    \n",
        "            # Make predictions using trained model-\n",
        "            outputs = model(images)\n",
        "            _, y_pred = torch.max(outputs, 1)\n",
        "\n",
        "            # Compute validation loss-\n",
        "            J_val = loss(outputs, labels)\n",
        "\n",
        "            running_loss_val += J_val.item() * labels.size(0)\n",
        "    \n",
        "            # Total number of labels-\n",
        "            total += labels.size(0)\n",
        "\n",
        "            # Total number of correct predictions-\n",
        "            correct += (y_pred == labels).sum()\n",
        "\n",
        "    epoch_val_loss = running_loss_val / len(test_dataset)\n",
        "    val_acc = 100 * (correct / total)\n",
        "    print(f\"\\nepoch: {epoch + 1} training loss = {epoch_loss:.4f}, training accuracy = {epoch_acc * 100:.2f}%, val_loss = {epoch_val_loss:.4f} & val_accuracy = {val_acc:.2f}%\\n\")\n",
        "\n",
        "    # Code for manual Early Stopping:\n",
        "    if np.abs(epoch_val_loss < best_val_loss) >= minimum_delta:\n",
        "        # update 'best_val_loss' variable to lowest loss encountered so far-\n",
        "        best_val_loss = epoch_val_loss\n",
        "        \n",
        "        # reset 'loc_patience' variable-\n",
        "        loc_patience = 0\n",
        "        \n",
        "    else:  # there is no improvement in monitored metric 'val_loss'\n",
        "        loc_patience += 1  # number of epochs without any improvement\n",
        "\n",
        "\n",
        "    training_acc.append(epoch_acc * 100)\n",
        "    validation_acc.append(val_acc)\n",
        "    training_loss.append(epoch_loss)\n",
        "    validation_loss.append(epoch_val_loss)\n"
      ],
      "execution_count": null,
      "outputs": [
        {
          "output_type": "stream",
          "text": [
            "\n",
            "epoch: 1 training loss = 0.2023, training accuracy = 93.75%, val_loss = 0.1180 & val_accuracy = 96.35%\n",
            "\n",
            "\n",
            "epoch: 2 training loss = 0.0963, training accuracy = 97.09%, val_loss = 0.1182 & val_accuracy = 96.48%\n",
            "\n",
            "\n",
            "epoch: 3 training loss = 0.0723, training accuracy = 97.74%, val_loss = 0.0920 & val_accuracy = 97.25%\n",
            "\n",
            "\n",
            "epoch: 4 training loss = 0.0590, training accuracy = 98.20%, val_loss = 0.1131 & val_accuracy = 96.55%\n",
            "\n",
            "\n",
            "epoch: 5 training loss = 0.0496, training accuracy = 98.47%, val_loss = 0.1084 & val_accuracy = 97.20%\n",
            "\n",
            "\n",
            "epoch: 6 training loss = 0.0436, training accuracy = 98.59%, val_loss = 0.0892 & val_accuracy = 97.57%\n",
            "\n",
            "\n",
            "epoch: 7 training loss = 0.0370, training accuracy = 98.79%, val_loss = 0.0987 & val_accuracy = 97.63%\n",
            "\n",
            "\n",
            "epoch: 8 training loss = 0.0349, training accuracy = 98.92%, val_loss = 0.0968 & val_accuracy = 97.64%\n",
            "\n",
            "\n",
            "epoch: 9 training loss = 0.0323, training accuracy = 98.98%, val_loss = 0.0986 & val_accuracy = 97.89%\n",
            "\n",
            "\n",
            "'EarlyStopping' called!\n",
            "\n"
          ],
          "name": "stdout"
        }
      ]
    },
    {
      "cell_type": "code",
      "metadata": {
        "id": "bM43-DlhuRfz"
      },
      "source": [
        ""
      ],
      "execution_count": null,
      "outputs": []
    },
    {
      "cell_type": "code",
      "metadata": {
        "id": "qft5w_I-wiWf"
      },
      "source": [
        ""
      ],
      "execution_count": null,
      "outputs": []
    },
    {
      "cell_type": "code",
      "metadata": {
        "colab": {
          "base_uri": "https://localhost:8080/",
          "height": 504
        },
        "id": "j2By6r6wwdg4",
        "outputId": "01487f97-59a8-48d7-8405-c22c263bb912"
      },
      "source": [
        "# Visualize training metrics-\n",
        "fig=plt.figure(figsize=(9, 7), dpi= 80, facecolor='w', edgecolor='k')\n",
        "\n",
        "plt.plot(np.asarray(training_acc), label = 'training accuracy')\n",
        "plt.plot(np.asarray(validation_acc), label = 'validation accuracy')\n",
        "\n",
        "plt.title(\"LeNet-300-100 Training Metrics\")\n",
        "plt.xlabel(\"number of epochs\")\n",
        "plt.ylabel(\"accuracy (%)\")\n",
        "plt.legend(loc = 'best')\n",
        "plt.show()\n"
      ],
      "execution_count": null,
      "outputs": [
        {
          "output_type": "display_data",
          "data": {
            "image/png": "[encoded data removed]",
            "text/plain": [
              "<Figure size 720x560 with 1 Axes>"
            ]
          },
          "metadata": {
            "tags": []
          }
        }
      ]
    },
    {
      "cell_type": "code",
      "metadata": {
        "colab": {
          "base_uri": "https://localhost:8080/",
          "height": 504
        },
        "id": "Quiq_LpEwlei",
        "outputId": "a69f63a4-85d9-4b8f-f85f-adac56c49e6e"
      },
      "source": [
        "# Visualize training metrics-\n",
        "fig=plt.figure(figsize=(9, 7), dpi= 80, facecolor='w', edgecolor='k')\n",
        "\n",
        "plt.plot(np.asarray(training_loss), label = 'training loss')\n",
        "plt.plot(np.asarray(validation_loss), label = 'validation loss')\n",
        "\n",
        "plt.title(\"LeNet-300-100 Training Metrics\")\n",
        "plt.xlabel(\"number of epochs\")\n",
        "plt.ylabel(\"loss\")\n",
        "plt.legend(loc = 'best')\n",
        "plt.show()\n"
      ],
      "execution_count": null,
      "outputs": [
        {
          "output_type": "display_data",
          "data": {
            "image/png": "[encoded data removed]",
            "text/plain": [
              "<Figure size 720x560 with 1 Axes>"
            ]
          },
          "metadata": {
            "tags": []
          }
        }
      ]
    },
    {
      "cell_type": "code",
      "metadata": {
        "id": "rl8QB0Fpwt7A"
      },
      "source": [
        ""
      ],
      "execution_count": null,
      "outputs": []
    },
    {
      "cell_type": "code",
      "metadata": {
        "id": "vk3T0TbbuMqR"
      },
      "source": [
        ""
      ],
      "execution_count": null,
      "outputs": []
    },
    {
      "cell_type": "code",
      "metadata": {
        "id": "_jD4rV3WUjdJ"
      },
      "source": [
        ""
      ],
      "execution_count": null,
      "outputs": []
    },
    {
      "cell_type": "code",
      "metadata": {
        "id": "_Qog_x6Vw49J"
      },
      "source": [
        ""
      ],
      "execution_count": null,
      "outputs": []
    },
    {
      "cell_type": "code",
      "metadata": {
        "id": "t_2jLY7xVh0l"
      },
      "source": [
        "def train_model(model, train_loader):\n",
        "    '''\n",
        "    Function to perform one epoch of training by using 'train_loader'.\n",
        "    Returns loss and number of correct predictions for this epoch.\n",
        "    '''\n",
        "    running_loss = 0.0\n",
        "    running_corrects = 0.0\n",
        "\n",
        "    for batch, (images, labels) in enumerate(train_loader):\n",
        "        # Reshape image and place it on GPU-\n",
        "        images = images.reshape(-1, input_size).to(device)\n",
        "        labels = labels.to(device) \n",
        "        outputs = model(images)   # forward pass\n",
        "        J = loss(outputs, labels) # compute loss\n",
        "        optimizer.zero_grad()     # empty accumulated gradients\n",
        "        J.backward()              # perform backpropagation\n",
        "        optimizer.step()          # update parameters\n",
        "\n",
        "        # Compute model's performance statistics-\n",
        "        running_loss += J.item() * images.size(0)\n",
        "        _, predicted = torch.max(outputs, 1)\n",
        "        running_corrects += torch.sum(predicted == labels.data)\n",
        "\n",
        "        '''\n",
        "        # Print information every 100 steps-\n",
        "        if (batch + 1) % 100 == 0:\n",
        "            print(f\"epoch {epoch + 1}/{num_epochs}, step {batch + 1}/{num_steps}, loss = {J.item():.4f}\")\n",
        "        '''\n",
        "\n",
        "    return running_loss, running_corrects\n",
        "\n"
      ],
      "execution_count": null,
      "outputs": []
    },
    {
      "cell_type": "code",
      "metadata": {
        "id": "9a67VrIBxJy4"
      },
      "source": [
        "def test_model(model, test_loader):\n",
        "    total = 0.0\n",
        "    correct = 0.0\n",
        "    running_loss_val = 0.0\n",
        "\n",
        "    with torch.no_grad():\n",
        "        for images, labels in test_loader:\n",
        "\n",
        "            # Place features (images) and targets (labels) to GPU-\n",
        "            images = images.reshape(-1, input_size).to(device)\n",
        "            labels = labels.to(device)\n",
        "            # print(f\"images.shape = {images.shape}, labels.shape = {labels.shape}\")\n",
        "\n",
        "            # Set model to evaluation mode-\n",
        "            model.eval()\n",
        "    \n",
        "            # Make predictions using trained model-\n",
        "            outputs = model(images)\n",
        "            _, y_pred = torch.max(outputs, 1)\n",
        "\n",
        "            # Compute validation loss-\n",
        "            J_val = loss(outputs, labels)\n",
        "\n",
        "            running_loss_val += J_val.item() * labels.size(0)\n",
        "    \n",
        "            # Total number of labels-\n",
        "            total += labels.size(0)\n",
        "\n",
        "            # Total number of correct predictions-\n",
        "            correct += (y_pred == labels).sum()\n",
        "\n",
        "    return (running_loss_val, correct, total)\n"
      ],
      "execution_count": null,
      "outputs": []
    },
    {
      "cell_type": "code",
      "metadata": {
        "id": "PItoZaFL0BTw"
      },
      "source": [
        ""
      ],
      "execution_count": null,
      "outputs": []
    },
    {
      "cell_type": "code",
      "metadata": {
        "id": "sC_grohc0K0a"
      },
      "source": [
        "new_model = LeNet300().to(device)"
      ],
      "execution_count": null,
      "outputs": []
    },
    {
      "cell_type": "code",
      "metadata": {
        "id": "5_fEntHR0NzT"
      },
      "source": [
        "# Define loss and optimizer-\n",
        "loss = nn.CrossEntropyLoss()    # applies softmax for us\n",
        "optimizer = torch.optim.Adam(model.parameters(), lr = learning_rate)"
      ],
      "execution_count": null,
      "outputs": []
    },
    {
      "cell_type": "code",
      "metadata": {
        "id": "oraFd8nj0Tfc"
      },
      "source": [
        ""
      ],
      "execution_count": null,
      "outputs": []
    },
    {
      "cell_type": "code",
      "metadata": {
        "id": "xLU7oDCWWo1Q",
        "colab": {
          "base_uri": "https://localhost:8080/",
          "height": 591
        },
        "outputId": "15f6b7a2-5d82-43be-bcbd-499284de249a"
      },
      "source": [
        "for epoch in range(num_epochs):\n",
        "    running_loss = 0.0\n",
        "    running_corrects = 0.0\n",
        "\n",
        "    running_loss, running_corrects = train_model(new_model, train_loader)\n",
        "  \n",
        "    epoch_loss = running_loss / len(train_dataset)\n",
        "    epoch_acc = running_corrects.double() / len(train_dataset)\n",
        "    # epoch_acc = 100 * running_corrects / len(trainset)\n",
        "    # print(f\"\\nepoch: {epoch + 1} training loss = {epoch_loss:.4f}, training accuracy = {epoch_acc * 100:.2f}%\\n\")\n",
        "\n",
        "    running_loss_val, correct, total = test_model(model, test_loader)\n",
        "\n",
        "    epoch_val_loss = running_loss_val / len(test_dataset)\n",
        "    val_acc = 100 * (correct / total)\n",
        "    # print(f\"\\nepoch: {epoch + 1} training loss = {epoch_loss:.4f}, training accuracy = {epoch_acc * 100:.2f}%, val_loss = {epoch_val_loss:.4f} & val_accuracy = {val_acc:.2f}%\\n\")\n",
        "\n",
        "    print(f\"\\nepoch: {epoch + 1} training loss = {epoch_loss:.4f}, training accuracy = {epoch_acc * 100:.2f}%, val_loss = {epoch_val_loss:.4f} & val_accuracy = {val_acc:.2f}%\\n\")\n",
        "\n"
      ],
      "execution_count": null,
      "outputs": [
        {
          "output_type": "stream",
          "text": [
            "\n",
            "epoch: 1 training loss = 2.8310, training accuracy = 9.10%, val_loss = 0.0986 & val_accuracy = 97.89%\n",
            "\n",
            "\n",
            "epoch: 2 training loss = 2.8310, training accuracy = 9.10%, val_loss = 0.0986 & val_accuracy = 97.89%\n",
            "\n",
            "\n",
            "epoch: 3 training loss = 2.8310, training accuracy = 9.10%, val_loss = 0.0986 & val_accuracy = 97.89%\n",
            "\n",
            "\n",
            "epoch: 4 training loss = 2.8310, training accuracy = 9.10%, val_loss = 0.0986 & val_accuracy = 97.89%\n",
            "\n"
          ],
          "name": "stdout"
        },
        {
          "output_type": "error",
          "ename": "KeyboardInterrupt",
          "evalue": "ignored",
          "traceback": [
            "\u001b[0;31m---------------------------------------------------------------------------\u001b[0m",
            "\u001b[0;31mKeyboardInterrupt\u001b[0m                         Traceback (most recent call last)",
            "\u001b[0;32m<ipython-input-55-edf759634f18>\u001b[0m in \u001b[0;36m<module>\u001b[0;34m()\u001b[0m\n\u001b[1;32m      3\u001b[0m     \u001b[0mrunning_corrects\u001b[0m \u001b[0;34m=\u001b[0m \u001b[0;36m0.0\u001b[0m\u001b[0;34m\u001b[0m\u001b[0;34m\u001b[0m\u001b[0m\n\u001b[1;32m      4\u001b[0m \u001b[0;34m\u001b[0m\u001b[0m\n\u001b[0;32m----> 5\u001b[0;31m     \u001b[0mrunning_loss\u001b[0m\u001b[0;34m,\u001b[0m \u001b[0mrunning_corrects\u001b[0m \u001b[0;34m=\u001b[0m \u001b[0mtrain_model\u001b[0m\u001b[0;34m(\u001b[0m\u001b[0mnew_model\u001b[0m\u001b[0;34m,\u001b[0m \u001b[0mtrain_loader\u001b[0m\u001b[0;34m)\u001b[0m\u001b[0;34m\u001b[0m\u001b[0;34m\u001b[0m\u001b[0m\n\u001b[0m\u001b[1;32m      6\u001b[0m \u001b[0;34m\u001b[0m\u001b[0m\n\u001b[1;32m      7\u001b[0m     \u001b[0mepoch_loss\u001b[0m \u001b[0;34m=\u001b[0m \u001b[0mrunning_loss\u001b[0m \u001b[0;34m/\u001b[0m \u001b[0mlen\u001b[0m\u001b[0;34m(\u001b[0m\u001b[0mtrain_dataset\u001b[0m\u001b[0;34m)\u001b[0m\u001b[0;34m\u001b[0m\u001b[0;34m\u001b[0m\u001b[0m\n",
            "\u001b[0;32m<ipython-input-48-f56f66cd8454>\u001b[0m in \u001b[0;36mtrain_model\u001b[0;34m(model, train_loader)\u001b[0m\n\u001b[1;32m      7\u001b[0m     \u001b[0mrunning_corrects\u001b[0m \u001b[0;34m=\u001b[0m \u001b[0;36m0.0\u001b[0m\u001b[0;34m\u001b[0m\u001b[0;34m\u001b[0m\u001b[0m\n\u001b[1;32m      8\u001b[0m \u001b[0;34m\u001b[0m\u001b[0m\n\u001b[0;32m----> 9\u001b[0;31m     \u001b[0;32mfor\u001b[0m \u001b[0mbatch\u001b[0m\u001b[0;34m,\u001b[0m \u001b[0;34m(\u001b[0m\u001b[0mimages\u001b[0m\u001b[0;34m,\u001b[0m \u001b[0mlabels\u001b[0m\u001b[0;34m)\u001b[0m \u001b[0;32min\u001b[0m \u001b[0menumerate\u001b[0m\u001b[0;34m(\u001b[0m\u001b[0mtrain_loader\u001b[0m\u001b[0;34m)\u001b[0m\u001b[0;34m:\u001b[0m\u001b[0;34m\u001b[0m\u001b[0;34m\u001b[0m\u001b[0m\n\u001b[0m\u001b[1;32m     10\u001b[0m         \u001b[0;31m# Reshape image and place it on GPU-\u001b[0m\u001b[0;34m\u001b[0m\u001b[0;34m\u001b[0m\u001b[0;34m\u001b[0m\u001b[0m\n\u001b[1;32m     11\u001b[0m         \u001b[0mimages\u001b[0m \u001b[0;34m=\u001b[0m \u001b[0mimages\u001b[0m\u001b[0;34m.\u001b[0m\u001b[0mreshape\u001b[0m\u001b[0;34m(\u001b[0m\u001b[0;34m-\u001b[0m\u001b[0;36m1\u001b[0m\u001b[0;34m,\u001b[0m \u001b[0minput_size\u001b[0m\u001b[0;34m)\u001b[0m\u001b[0;34m.\u001b[0m\u001b[0mto\u001b[0m\u001b[0;34m(\u001b[0m\u001b[0mdevice\u001b[0m\u001b[0;34m)\u001b[0m\u001b[0;34m\u001b[0m\u001b[0;34m\u001b[0m\u001b[0m\n",
            "\u001b[0;32m/usr/local/lib/python3.6/dist-packages/torch/utils/data/dataloader.py\u001b[0m in \u001b[0;36m__next__\u001b[0;34m(self)\u001b[0m\n\u001b[1;32m    433\u001b[0m         \u001b[0;32mif\u001b[0m \u001b[0mself\u001b[0m\u001b[0;34m.\u001b[0m\u001b[0m_sampler_iter\u001b[0m \u001b[0;32mis\u001b[0m \u001b[0;32mNone\u001b[0m\u001b[0;34m:\u001b[0m\u001b[0;34m\u001b[0m\u001b[0;34m\u001b[0m\u001b[0m\n\u001b[1;32m    434\u001b[0m             \u001b[0mself\u001b[0m\u001b[0;34m.\u001b[0m\u001b[0m_reset\u001b[0m\u001b[0;34m(\u001b[0m\u001b[0;34m)\u001b[0m\u001b[0;34m\u001b[0m\u001b[0;34m\u001b[0m\u001b[0m\n\u001b[0;32m--> 435\u001b[0;31m         \u001b[0mdata\u001b[0m \u001b[0;34m=\u001b[0m \u001b[0mself\u001b[0m\u001b[0;34m.\u001b[0m\u001b[0m_next_data\u001b[0m\u001b[0;34m(\u001b[0m\u001b[0;34m)\u001b[0m\u001b[0;34m\u001b[0m\u001b[0;34m\u001b[0m\u001b[0m\n\u001b[0m\u001b[1;32m    436\u001b[0m         \u001b[0mself\u001b[0m\u001b[0;34m.\u001b[0m\u001b[0m_num_yielded\u001b[0m \u001b[0;34m+=\u001b[0m \u001b[0;36m1\u001b[0m\u001b[0;34m\u001b[0m\u001b[0;34m\u001b[0m\u001b[0m\n\u001b[1;32m    437\u001b[0m         \u001b[0;32mif\u001b[0m \u001b[0mself\u001b[0m\u001b[0;34m.\u001b[0m\u001b[0m_dataset_kind\u001b[0m \u001b[0;34m==\u001b[0m \u001b[0m_DatasetKind\u001b[0m\u001b[0;34m.\u001b[0m\u001b[0mIterable\u001b[0m \u001b[0;32mand\u001b[0m\u001b[0;31m \u001b[0m\u001b[0;31m\\\u001b[0m\u001b[0;34m\u001b[0m\u001b[0;34m\u001b[0m\u001b[0m\n",
            "\u001b[0;32m/usr/local/lib/python3.6/dist-packages/torch/utils/data/dataloader.py\u001b[0m in \u001b[0;36m_next_data\u001b[0;34m(self)\u001b[0m\n\u001b[1;32m    473\u001b[0m     \u001b[0;32mdef\u001b[0m \u001b[0m_next_data\u001b[0m\u001b[0;34m(\u001b[0m\u001b[0mself\u001b[0m\u001b[0;34m)\u001b[0m\u001b[0;34m:\u001b[0m\u001b[0;34m\u001b[0m\u001b[0;34m\u001b[0m\u001b[0m\n\u001b[1;32m    474\u001b[0m         \u001b[0mindex\u001b[0m \u001b[0;34m=\u001b[0m \u001b[0mself\u001b[0m\u001b[0;34m.\u001b[0m\u001b[0m_next_index\u001b[0m\u001b[0;34m(\u001b[0m\u001b[0;34m)\u001b[0m  \u001b[0;31m# may raise StopIteration\u001b[0m\u001b[0;34m\u001b[0m\u001b[0;34m\u001b[0m\u001b[0m\n\u001b[0;32m--> 475\u001b[0;31m         \u001b[0mdata\u001b[0m \u001b[0;34m=\u001b[0m \u001b[0mself\u001b[0m\u001b[0;34m.\u001b[0m\u001b[0m_dataset_fetcher\u001b[0m\u001b[0;34m.\u001b[0m\u001b[0mfetch\u001b[0m\u001b[0;34m(\u001b[0m\u001b[0mindex\u001b[0m\u001b[0;34m)\u001b[0m  \u001b[0;31m# may raise StopIteration\u001b[0m\u001b[0;34m\u001b[0m\u001b[0;34m\u001b[0m\u001b[0m\n\u001b[0m\u001b[1;32m    476\u001b[0m         \u001b[0;32mif\u001b[0m \u001b[0mself\u001b[0m\u001b[0;34m.\u001b[0m\u001b[0m_pin_memory\u001b[0m\u001b[0;34m:\u001b[0m\u001b[0;34m\u001b[0m\u001b[0;34m\u001b[0m\u001b[0m\n\u001b[1;32m    477\u001b[0m             \u001b[0mdata\u001b[0m \u001b[0;34m=\u001b[0m \u001b[0m_utils\u001b[0m\u001b[0;34m.\u001b[0m\u001b[0mpin_memory\u001b[0m\u001b[0;34m.\u001b[0m\u001b[0mpin_memory\u001b[0m\u001b[0;34m(\u001b[0m\u001b[0mdata\u001b[0m\u001b[0;34m)\u001b[0m\u001b[0;34m\u001b[0m\u001b[0;34m\u001b[0m\u001b[0m\n",
            "\u001b[0;32m/usr/local/lib/python3.6/dist-packages/torch/utils/data/_utils/fetch.py\u001b[0m in \u001b[0;36mfetch\u001b[0;34m(self, possibly_batched_index)\u001b[0m\n\u001b[1;32m     42\u001b[0m     \u001b[0;32mdef\u001b[0m \u001b[0mfetch\u001b[0m\u001b[0;34m(\u001b[0m\u001b[0mself\u001b[0m\u001b[0;34m,\u001b[0m \u001b[0mpossibly_batched_index\u001b[0m\u001b[0;34m)\u001b[0m\u001b[0;34m:\u001b[0m\u001b[0;34m\u001b[0m\u001b[0;34m\u001b[0m\u001b[0m\n\u001b[1;32m     43\u001b[0m         \u001b[0;32mif\u001b[0m \u001b[0mself\u001b[0m\u001b[0;34m.\u001b[0m\u001b[0mauto_collation\u001b[0m\u001b[0;34m:\u001b[0m\u001b[0;34m\u001b[0m\u001b[0;34m\u001b[0m\u001b[0m\n\u001b[0;32m---> 44\u001b[0;31m             \u001b[0mdata\u001b[0m \u001b[0;34m=\u001b[0m \u001b[0;34m[\u001b[0m\u001b[0mself\u001b[0m\u001b[0;34m.\u001b[0m\u001b[0mdataset\u001b[0m\u001b[0;34m[\u001b[0m\u001b[0midx\u001b[0m\u001b[0;34m]\u001b[0m \u001b[0;32mfor\u001b[0m \u001b[0midx\u001b[0m \u001b[0;32min\u001b[0m \u001b[0mpossibly_batched_index\u001b[0m\u001b[0;34m]\u001b[0m\u001b[0;34m\u001b[0m\u001b[0;34m\u001b[0m\u001b[0m\n\u001b[0m\u001b[1;32m     45\u001b[0m         \u001b[0;32melse\u001b[0m\u001b[0;34m:\u001b[0m\u001b[0;34m\u001b[0m\u001b[0;34m\u001b[0m\u001b[0m\n\u001b[1;32m     46\u001b[0m             \u001b[0mdata\u001b[0m \u001b[0;34m=\u001b[0m \u001b[0mself\u001b[0m\u001b[0;34m.\u001b[0m\u001b[0mdataset\u001b[0m\u001b[0;34m[\u001b[0m\u001b[0mpossibly_batched_index\u001b[0m\u001b[0;34m]\u001b[0m\u001b[0;34m\u001b[0m\u001b[0;34m\u001b[0m\u001b[0m\n",
            "\u001b[0;32m/usr/local/lib/python3.6/dist-packages/torch/utils/data/_utils/fetch.py\u001b[0m in \u001b[0;36m<listcomp>\u001b[0;34m(.0)\u001b[0m\n\u001b[1;32m     42\u001b[0m     \u001b[0;32mdef\u001b[0m \u001b[0mfetch\u001b[0m\u001b[0;34m(\u001b[0m\u001b[0mself\u001b[0m\u001b[0;34m,\u001b[0m \u001b[0mpossibly_batched_index\u001b[0m\u001b[0;34m)\u001b[0m\u001b[0;34m:\u001b[0m\u001b[0;34m\u001b[0m\u001b[0;34m\u001b[0m\u001b[0m\n\u001b[1;32m     43\u001b[0m         \u001b[0;32mif\u001b[0m \u001b[0mself\u001b[0m\u001b[0;34m.\u001b[0m\u001b[0mauto_collation\u001b[0m\u001b[0;34m:\u001b[0m\u001b[0;34m\u001b[0m\u001b[0;34m\u001b[0m\u001b[0m\n\u001b[0;32m---> 44\u001b[0;31m             \u001b[0mdata\u001b[0m \u001b[0;34m=\u001b[0m \u001b[0;34m[\u001b[0m\u001b[0mself\u001b[0m\u001b[0;34m.\u001b[0m\u001b[0mdataset\u001b[0m\u001b[0;34m[\u001b[0m\u001b[0midx\u001b[0m\u001b[0;34m]\u001b[0m \u001b[0;32mfor\u001b[0m \u001b[0midx\u001b[0m \u001b[0;32min\u001b[0m \u001b[0mpossibly_batched_index\u001b[0m\u001b[0;34m]\u001b[0m\u001b[0;34m\u001b[0m\u001b[0;34m\u001b[0m\u001b[0m\n\u001b[0m\u001b[1;32m     45\u001b[0m         \u001b[0;32melse\u001b[0m\u001b[0;34m:\u001b[0m\u001b[0;34m\u001b[0m\u001b[0;34m\u001b[0m\u001b[0m\n\u001b[1;32m     46\u001b[0m             \u001b[0mdata\u001b[0m \u001b[0;34m=\u001b[0m \u001b[0mself\u001b[0m\u001b[0;34m.\u001b[0m\u001b[0mdataset\u001b[0m\u001b[0;34m[\u001b[0m\u001b[0mpossibly_batched_index\u001b[0m\u001b[0;34m]\u001b[0m\u001b[0;34m\u001b[0m\u001b[0;34m\u001b[0m\u001b[0m\n",
            "\u001b[0;32m/usr/local/lib/python3.6/dist-packages/torchvision/datasets/mnist.py\u001b[0m in \u001b[0;36m__getitem__\u001b[0;34m(self, index)\u001b[0m\n\u001b[1;32m    104\u001b[0m \u001b[0;34m\u001b[0m\u001b[0m\n\u001b[1;32m    105\u001b[0m         \u001b[0;32mif\u001b[0m \u001b[0mself\u001b[0m\u001b[0;34m.\u001b[0m\u001b[0mtransform\u001b[0m \u001b[0;32mis\u001b[0m \u001b[0;32mnot\u001b[0m \u001b[0;32mNone\u001b[0m\u001b[0;34m:\u001b[0m\u001b[0;34m\u001b[0m\u001b[0;34m\u001b[0m\u001b[0m\n\u001b[0;32m--> 106\u001b[0;31m             \u001b[0mimg\u001b[0m \u001b[0;34m=\u001b[0m \u001b[0mself\u001b[0m\u001b[0;34m.\u001b[0m\u001b[0mtransform\u001b[0m\u001b[0;34m(\u001b[0m\u001b[0mimg\u001b[0m\u001b[0;34m)\u001b[0m\u001b[0;34m\u001b[0m\u001b[0;34m\u001b[0m\u001b[0m\n\u001b[0m\u001b[1;32m    107\u001b[0m \u001b[0;34m\u001b[0m\u001b[0m\n\u001b[1;32m    108\u001b[0m         \u001b[0;32mif\u001b[0m \u001b[0mself\u001b[0m\u001b[0;34m.\u001b[0m\u001b[0mtarget_transform\u001b[0m \u001b[0;32mis\u001b[0m \u001b[0;32mnot\u001b[0m \u001b[0;32mNone\u001b[0m\u001b[0;34m:\u001b[0m\u001b[0;34m\u001b[0m\u001b[0;34m\u001b[0m\u001b[0m\n",
            "\u001b[0;32m/usr/local/lib/python3.6/dist-packages/torchvision/transforms/transforms.py\u001b[0m in \u001b[0;36m__call__\u001b[0;34m(self, img)\u001b[0m\n\u001b[1;32m     65\u001b[0m     \u001b[0;32mdef\u001b[0m \u001b[0m__call__\u001b[0m\u001b[0;34m(\u001b[0m\u001b[0mself\u001b[0m\u001b[0;34m,\u001b[0m \u001b[0mimg\u001b[0m\u001b[0;34m)\u001b[0m\u001b[0;34m:\u001b[0m\u001b[0;34m\u001b[0m\u001b[0;34m\u001b[0m\u001b[0m\n\u001b[1;32m     66\u001b[0m         \u001b[0;32mfor\u001b[0m \u001b[0mt\u001b[0m \u001b[0;32min\u001b[0m \u001b[0mself\u001b[0m\u001b[0;34m.\u001b[0m\u001b[0mtransforms\u001b[0m\u001b[0;34m:\u001b[0m\u001b[0;34m\u001b[0m\u001b[0;34m\u001b[0m\u001b[0m\n\u001b[0;32m---> 67\u001b[0;31m             \u001b[0mimg\u001b[0m \u001b[0;34m=\u001b[0m \u001b[0mt\u001b[0m\u001b[0;34m(\u001b[0m\u001b[0mimg\u001b[0m\u001b[0;34m)\u001b[0m\u001b[0;34m\u001b[0m\u001b[0;34m\u001b[0m\u001b[0m\n\u001b[0m\u001b[1;32m     68\u001b[0m         \u001b[0;32mreturn\u001b[0m \u001b[0mimg\u001b[0m\u001b[0;34m\u001b[0m\u001b[0;34m\u001b[0m\u001b[0m\n\u001b[1;32m     69\u001b[0m \u001b[0;34m\u001b[0m\u001b[0m\n",
            "\u001b[0;32m/usr/local/lib/python3.6/dist-packages/torch/nn/modules/module.py\u001b[0m in \u001b[0;36m_call_impl\u001b[0;34m(self, *input, **kwargs)\u001b[0m\n\u001b[1;32m    725\u001b[0m             \u001b[0mresult\u001b[0m \u001b[0;34m=\u001b[0m \u001b[0mself\u001b[0m\u001b[0;34m.\u001b[0m\u001b[0m_slow_forward\u001b[0m\u001b[0;34m(\u001b[0m\u001b[0;34m*\u001b[0m\u001b[0minput\u001b[0m\u001b[0;34m,\u001b[0m \u001b[0;34m**\u001b[0m\u001b[0mkwargs\u001b[0m\u001b[0;34m)\u001b[0m\u001b[0;34m\u001b[0m\u001b[0;34m\u001b[0m\u001b[0m\n\u001b[1;32m    726\u001b[0m         \u001b[0;32melse\u001b[0m\u001b[0;34m:\u001b[0m\u001b[0;34m\u001b[0m\u001b[0;34m\u001b[0m\u001b[0m\n\u001b[0;32m--> 727\u001b[0;31m             \u001b[0mresult\u001b[0m \u001b[0;34m=\u001b[0m \u001b[0mself\u001b[0m\u001b[0;34m.\u001b[0m\u001b[0mforward\u001b[0m\u001b[0;34m(\u001b[0m\u001b[0;34m*\u001b[0m\u001b[0minput\u001b[0m\u001b[0;34m,\u001b[0m \u001b[0;34m**\u001b[0m\u001b[0mkwargs\u001b[0m\u001b[0;34m)\u001b[0m\u001b[0;34m\u001b[0m\u001b[0;34m\u001b[0m\u001b[0m\n\u001b[0m\u001b[1;32m    728\u001b[0m         for hook in itertools.chain(\n\u001b[1;32m    729\u001b[0m                 \u001b[0m_global_forward_hooks\u001b[0m\u001b[0;34m.\u001b[0m\u001b[0mvalues\u001b[0m\u001b[0;34m(\u001b[0m\u001b[0;34m)\u001b[0m\u001b[0;34m,\u001b[0m\u001b[0;34m\u001b[0m\u001b[0;34m\u001b[0m\u001b[0m\n",
            "\u001b[0;32m/usr/local/lib/python3.6/dist-packages/torchvision/transforms/transforms.py\u001b[0m in \u001b[0;36mforward\u001b[0;34m(self, tensor)\u001b[0m\n\u001b[1;32m    224\u001b[0m             \u001b[0mTensor\u001b[0m\u001b[0;34m:\u001b[0m \u001b[0mNormalized\u001b[0m \u001b[0mTensor\u001b[0m \u001b[0mimage\u001b[0m\u001b[0;34m.\u001b[0m\u001b[0;34m\u001b[0m\u001b[0;34m\u001b[0m\u001b[0m\n\u001b[1;32m    225\u001b[0m         \"\"\"\n\u001b[0;32m--> 226\u001b[0;31m         \u001b[0;32mreturn\u001b[0m \u001b[0mF\u001b[0m\u001b[0;34m.\u001b[0m\u001b[0mnormalize\u001b[0m\u001b[0;34m(\u001b[0m\u001b[0mtensor\u001b[0m\u001b[0;34m,\u001b[0m \u001b[0mself\u001b[0m\u001b[0;34m.\u001b[0m\u001b[0mmean\u001b[0m\u001b[0;34m,\u001b[0m \u001b[0mself\u001b[0m\u001b[0;34m.\u001b[0m\u001b[0mstd\u001b[0m\u001b[0;34m,\u001b[0m \u001b[0mself\u001b[0m\u001b[0;34m.\u001b[0m\u001b[0minplace\u001b[0m\u001b[0;34m)\u001b[0m\u001b[0;34m\u001b[0m\u001b[0;34m\u001b[0m\u001b[0m\n\u001b[0m\u001b[1;32m    227\u001b[0m \u001b[0;34m\u001b[0m\u001b[0m\n\u001b[1;32m    228\u001b[0m     \u001b[0;32mdef\u001b[0m \u001b[0m__repr__\u001b[0m\u001b[0;34m(\u001b[0m\u001b[0mself\u001b[0m\u001b[0;34m)\u001b[0m\u001b[0;34m:\u001b[0m\u001b[0;34m\u001b[0m\u001b[0;34m\u001b[0m\u001b[0m\n",
            "\u001b[0;32m/usr/local/lib/python3.6/dist-packages/torchvision/transforms/functional.py\u001b[0m in \u001b[0;36mnormalize\u001b[0;34m(tensor, mean, std, inplace)\u001b[0m\n\u001b[1;32m    275\u001b[0m     \u001b[0mdtype\u001b[0m \u001b[0;34m=\u001b[0m \u001b[0mtensor\u001b[0m\u001b[0;34m.\u001b[0m\u001b[0mdtype\u001b[0m\u001b[0;34m\u001b[0m\u001b[0;34m\u001b[0m\u001b[0m\n\u001b[1;32m    276\u001b[0m     \u001b[0mmean\u001b[0m \u001b[0;34m=\u001b[0m \u001b[0mtorch\u001b[0m\u001b[0;34m.\u001b[0m\u001b[0mas_tensor\u001b[0m\u001b[0;34m(\u001b[0m\u001b[0mmean\u001b[0m\u001b[0;34m,\u001b[0m \u001b[0mdtype\u001b[0m\u001b[0;34m=\u001b[0m\u001b[0mdtype\u001b[0m\u001b[0;34m,\u001b[0m \u001b[0mdevice\u001b[0m\u001b[0;34m=\u001b[0m\u001b[0mtensor\u001b[0m\u001b[0;34m.\u001b[0m\u001b[0mdevice\u001b[0m\u001b[0;34m)\u001b[0m\u001b[0;34m\u001b[0m\u001b[0;34m\u001b[0m\u001b[0m\n\u001b[0;32m--> 277\u001b[0;31m     \u001b[0mstd\u001b[0m \u001b[0;34m=\u001b[0m \u001b[0mtorch\u001b[0m\u001b[0;34m.\u001b[0m\u001b[0mas_tensor\u001b[0m\u001b[0;34m(\u001b[0m\u001b[0mstd\u001b[0m\u001b[0;34m,\u001b[0m \u001b[0mdtype\u001b[0m\u001b[0;34m=\u001b[0m\u001b[0mdtype\u001b[0m\u001b[0;34m,\u001b[0m \u001b[0mdevice\u001b[0m\u001b[0;34m=\u001b[0m\u001b[0mtensor\u001b[0m\u001b[0;34m.\u001b[0m\u001b[0mdevice\u001b[0m\u001b[0;34m)\u001b[0m\u001b[0;34m\u001b[0m\u001b[0;34m\u001b[0m\u001b[0m\n\u001b[0m\u001b[1;32m    278\u001b[0m     \u001b[0;32mif\u001b[0m \u001b[0;34m(\u001b[0m\u001b[0mstd\u001b[0m \u001b[0;34m==\u001b[0m \u001b[0;36m0\u001b[0m\u001b[0;34m)\u001b[0m\u001b[0;34m.\u001b[0m\u001b[0many\u001b[0m\u001b[0;34m(\u001b[0m\u001b[0;34m)\u001b[0m\u001b[0;34m:\u001b[0m\u001b[0;34m\u001b[0m\u001b[0;34m\u001b[0m\u001b[0m\n\u001b[1;32m    279\u001b[0m         \u001b[0;32mraise\u001b[0m \u001b[0mValueError\u001b[0m\u001b[0;34m(\u001b[0m\u001b[0;34m'std evaluated to zero after conversion to {}, leading to division by zero.'\u001b[0m\u001b[0;34m.\u001b[0m\u001b[0mformat\u001b[0m\u001b[0;34m(\u001b[0m\u001b[0mdtype\u001b[0m\u001b[0;34m)\u001b[0m\u001b[0;34m)\u001b[0m\u001b[0;34m\u001b[0m\u001b[0;34m\u001b[0m\u001b[0m\n",
            "\u001b[0;31mKeyboardInterrupt\u001b[0m: "
          ]
        }
      ]
    },
    {
      "cell_type": "code",
      "metadata": {
        "id": "GjvJczqV0g8P"
      },
      "source": [
        ""
      ],
      "execution_count": null,
      "outputs": []
    },
    {
      "cell_type": "code",
      "metadata": {
        "id": "6_Gc1DK20hAp"
      },
      "source": [
        ""
      ],
      "execution_count": null,
      "outputs": []
    },
    {
      "cell_type": "code",
      "metadata": {
        "colab": {
          "base_uri": "https://localhost:8080/"
        },
        "id": "vTr3P91CiQCZ",
        "outputId": "38192d24-82df-4f7d-cce5-15fd43277060"
      },
      "source": [
        "# Training loop-\n",
        "for epoch in range(num_epochs):\n",
        "    running_loss = 0.0\n",
        "    running_corrects = 0.0\n",
        "    \n",
        "    for batch, (images, labels) in enumerate(train_loader):\n",
        "        # Reshape images first-\n",
        "        # 32, 1, 28, 28\n",
        "        # Input size needs to be 32, 784\n",
        "        images = images.reshape(-1, 28 * 28 * 1).to(device)\n",
        "        # Tries to push to GPU if available\n",
        "        \n",
        "        labels = labels.to(device)\n",
        "\n",
        "        # Forward pass-\n",
        "        outputs = model(images)\n",
        "\n",
        "        # Compute loss-\n",
        "        J = loss(outputs, labels)\n",
        "\n",
        "        # Backward pass-\n",
        "        optimizer.zero_grad()   # empty accumulated gradients\n",
        "\n",
        "        J.backward()    # does backprop\n",
        "\n",
        "        # Updates parameters-\n",
        "        optimizer.step()\n",
        "        \n",
        "        # Compute model's performance statistics-\n",
        "        running_loss += J.item() * images.size(0)\n",
        "        _, predicted = torch.max(outputs, 1)\n",
        "        running_corrects += torch.sum(predicted == labels.data)\n",
        "\n",
        "        '''\n",
        "        # Print information every 100 steps-\n",
        "        if (batch + 1) % 100 == 0:\n",
        "            print(f\"epoch {epoch + 1}/{num_epochs}, step {batch + 1}/{num_steps}, loss = {J.item():.4f}\")\n",
        "        '''\n",
        "        \n",
        "    epoch_loss = running_loss / len(train_dataset)\n",
        "    epoch_acc = running_corrects.double() / len(train_dataset)\n",
        "    # epoch_acc = 100 * running_corrects / len(trainset)\n",
        "    print(f\"\\nepoch: {epoch + 1} training loss = {epoch_loss:.4f}, training accuracy = {epoch_acc * 100:.2f}%\\n\")\n"
      ],
      "execution_count": null,
      "outputs": [
        {
          "output_type": "stream",
          "text": [
            "epoch 1/10, step 100/1875, loss = 0.1445\n",
            "epoch 1/10, step 200/1875, loss = 0.2513\n",
            "epoch 1/10, step 300/1875, loss = 0.1319\n",
            "epoch 1/10, step 400/1875, loss = 0.2112\n",
            "epoch 1/10, step 500/1875, loss = 0.1163\n",
            "epoch 1/10, step 600/1875, loss = 0.2038\n",
            "epoch 1/10, step 700/1875, loss = 0.1331\n",
            "epoch 1/10, step 800/1875, loss = 0.2032\n",
            "epoch 1/10, step 900/1875, loss = 0.0416\n",
            "epoch 1/10, step 1000/1875, loss = 0.1949\n",
            "epoch 1/10, step 1100/1875, loss = 0.0992\n",
            "epoch 1/10, step 1200/1875, loss = 0.3378\n",
            "epoch 1/10, step 1300/1875, loss = 0.2760\n",
            "epoch 1/10, step 1400/1875, loss = 0.0504\n",
            "epoch 1/10, step 1500/1875, loss = 0.2095\n",
            "epoch 1/10, step 1600/1875, loss = 0.0967\n",
            "epoch 1/10, step 1700/1875, loss = 0.1612\n",
            "epoch 1/10, step 1800/1875, loss = 0.1670\n",
            "\n",
            "epoch: 1 training loss = 0.2007, training accuracy = 93.98%\n",
            "\n",
            "epoch 2/10, step 100/1875, loss = 0.0938\n",
            "epoch 2/10, step 200/1875, loss = 0.0225\n",
            "epoch 2/10, step 300/1875, loss = 0.1387\n",
            "epoch 2/10, step 400/1875, loss = 0.0397\n",
            "epoch 2/10, step 500/1875, loss = 0.0062\n",
            "epoch 2/10, step 600/1875, loss = 0.1365\n",
            "epoch 2/10, step 700/1875, loss = 0.0686\n",
            "epoch 2/10, step 800/1875, loss = 0.0500\n",
            "epoch 2/10, step 900/1875, loss = 0.1326\n",
            "epoch 2/10, step 1000/1875, loss = 0.0867\n",
            "epoch 2/10, step 1100/1875, loss = 0.0949\n",
            "epoch 2/10, step 1200/1875, loss = 0.0450\n",
            "epoch 2/10, step 1300/1875, loss = 0.0454\n",
            "epoch 2/10, step 1400/1875, loss = 0.0720\n",
            "epoch 2/10, step 1500/1875, loss = 0.1072\n",
            "epoch 2/10, step 1600/1875, loss = 0.0607\n",
            "epoch 2/10, step 1700/1875, loss = 0.1286\n",
            "epoch 2/10, step 1800/1875, loss = 0.0520\n",
            "\n",
            "epoch: 2 training loss = 0.0977, training accuracy = 97.04%\n",
            "\n",
            "epoch 3/10, step 100/1875, loss = 0.0120\n",
            "epoch 3/10, step 200/1875, loss = 0.1144\n",
            "epoch 3/10, step 300/1875, loss = 0.0210\n",
            "epoch 3/10, step 400/1875, loss = 0.0343\n",
            "epoch 3/10, step 500/1875, loss = 0.0407\n",
            "epoch 3/10, step 600/1875, loss = 0.0204\n",
            "epoch 3/10, step 700/1875, loss = 0.1451\n",
            "epoch 3/10, step 800/1875, loss = 0.0316\n",
            "epoch 3/10, step 900/1875, loss = 0.2592\n",
            "epoch 3/10, step 1000/1875, loss = 0.0039\n",
            "epoch 3/10, step 1100/1875, loss = 0.0326\n",
            "epoch 3/10, step 1200/1875, loss = 0.0126\n",
            "epoch 3/10, step 1300/1875, loss = 0.2323\n",
            "epoch 3/10, step 1400/1875, loss = 0.3751\n",
            "epoch 3/10, step 1500/1875, loss = 0.0074\n",
            "epoch 3/10, step 1600/1875, loss = 0.1235\n",
            "epoch 3/10, step 1700/1875, loss = 0.0537\n",
            "epoch 3/10, step 1800/1875, loss = 0.2465\n",
            "\n",
            "epoch: 3 training loss = 0.0747, training accuracy = 97.72%\n",
            "\n",
            "epoch 4/10, step 100/1875, loss = 0.0028\n",
            "epoch 4/10, step 200/1875, loss = 0.0114\n",
            "epoch 4/10, step 300/1875, loss = 0.0132\n",
            "epoch 4/10, step 400/1875, loss = 0.0010\n",
            "epoch 4/10, step 500/1875, loss = 0.1270\n",
            "epoch 4/10, step 600/1875, loss = 0.0015\n",
            "epoch 4/10, step 700/1875, loss = 0.0144\n",
            "epoch 4/10, step 800/1875, loss = 0.0011\n",
            "epoch 4/10, step 900/1875, loss = 0.0143\n",
            "epoch 4/10, step 1000/1875, loss = 0.0154\n",
            "epoch 4/10, step 1100/1875, loss = 0.0011\n",
            "epoch 4/10, step 1200/1875, loss = 0.0762\n",
            "epoch 4/10, step 1300/1875, loss = 0.3200\n",
            "epoch 4/10, step 1400/1875, loss = 0.2084\n",
            "epoch 4/10, step 1500/1875, loss = 0.1804\n",
            "epoch 4/10, step 1600/1875, loss = 0.0068\n",
            "epoch 4/10, step 1700/1875, loss = 0.0076\n",
            "epoch 4/10, step 1800/1875, loss = 0.0125\n",
            "\n",
            "epoch: 4 training loss = 0.0582, training accuracy = 98.18%\n",
            "\n",
            "epoch 5/10, step 100/1875, loss = 0.0006\n",
            "epoch 5/10, step 200/1875, loss = 0.0225\n",
            "epoch 5/10, step 300/1875, loss = 0.1341\n",
            "epoch 5/10, step 400/1875, loss = 0.0172\n",
            "epoch 5/10, step 500/1875, loss = 0.0283\n",
            "epoch 5/10, step 600/1875, loss = 0.1148\n",
            "epoch 5/10, step 700/1875, loss = 0.0340\n",
            "epoch 5/10, step 800/1875, loss = 0.0175\n",
            "epoch 5/10, step 900/1875, loss = 0.2164\n",
            "epoch 5/10, step 1000/1875, loss = 0.3121\n",
            "epoch 5/10, step 1100/1875, loss = 0.0019\n",
            "epoch 5/10, step 1200/1875, loss = 0.0072\n",
            "epoch 5/10, step 1300/1875, loss = 0.0170\n",
            "epoch 5/10, step 1400/1875, loss = 0.0045\n",
            "epoch 5/10, step 1500/1875, loss = 0.0170\n",
            "epoch 5/10, step 1600/1875, loss = 0.0023\n",
            "epoch 5/10, step 1700/1875, loss = 0.0089\n",
            "epoch 5/10, step 1800/1875, loss = 0.0435\n",
            "\n",
            "epoch: 5 training loss = 0.0484, training accuracy = 98.50%\n",
            "\n",
            "epoch 6/10, step 100/1875, loss = 0.0196\n",
            "epoch 6/10, step 200/1875, loss = 0.1160\n",
            "epoch 6/10, step 300/1875, loss = 0.0412\n",
            "epoch 6/10, step 400/1875, loss = 0.0024\n",
            "epoch 6/10, step 500/1875, loss = 0.0002\n",
            "epoch 6/10, step 600/1875, loss = 0.0009\n",
            "epoch 6/10, step 700/1875, loss = 0.0800\n",
            "epoch 6/10, step 800/1875, loss = 0.0401\n",
            "epoch 6/10, step 900/1875, loss = 0.0078\n",
            "epoch 6/10, step 1000/1875, loss = 0.0031\n",
            "epoch 6/10, step 1100/1875, loss = 0.1571\n",
            "epoch 6/10, step 1200/1875, loss = 0.0001\n",
            "epoch 6/10, step 1300/1875, loss = 0.0433\n",
            "epoch 6/10, step 1400/1875, loss = 0.0153\n",
            "epoch 6/10, step 1500/1875, loss = 0.0222\n",
            "epoch 6/10, step 1600/1875, loss = 0.0005\n",
            "epoch 6/10, step 1700/1875, loss = 0.0604\n",
            "epoch 6/10, step 1800/1875, loss = 0.0176\n",
            "\n",
            "epoch: 6 training loss = 0.0430, training accuracy = 98.64%\n",
            "\n",
            "epoch 7/10, step 100/1875, loss = 0.0025\n",
            "epoch 7/10, step 200/1875, loss = 0.0035\n",
            "epoch 7/10, step 300/1875, loss = 0.0184\n",
            "epoch 7/10, step 400/1875, loss = 0.1626\n",
            "epoch 7/10, step 500/1875, loss = 0.0195\n",
            "epoch 7/10, step 600/1875, loss = 0.0407\n",
            "epoch 7/10, step 700/1875, loss = 0.0025\n",
            "epoch 7/10, step 800/1875, loss = 0.0006\n",
            "epoch 7/10, step 900/1875, loss = 0.0075\n",
            "epoch 7/10, step 1000/1875, loss = 0.0117\n",
            "epoch 7/10, step 1100/1875, loss = 0.0002\n",
            "epoch 7/10, step 1200/1875, loss = 0.2492\n",
            "epoch 7/10, step 1300/1875, loss = 0.0052\n",
            "epoch 7/10, step 1400/1875, loss = 0.0055\n",
            "epoch 7/10, step 1500/1875, loss = 0.0083\n",
            "epoch 7/10, step 1600/1875, loss = 0.1095\n",
            "epoch 7/10, step 1700/1875, loss = 0.0084\n",
            "epoch 7/10, step 1800/1875, loss = 0.0578\n",
            "\n",
            "epoch: 7 training loss = 0.0376, training accuracy = 98.80%\n",
            "\n",
            "epoch 8/10, step 100/1875, loss = 0.0001\n",
            "epoch 8/10, step 200/1875, loss = 0.0182\n",
            "epoch 8/10, step 300/1875, loss = 0.0974\n",
            "epoch 8/10, step 400/1875, loss = 0.0000\n",
            "epoch 8/10, step 500/1875, loss = 0.0252\n",
            "epoch 8/10, step 600/1875, loss = 0.0022\n",
            "epoch 8/10, step 700/1875, loss = 0.0036\n",
            "epoch 8/10, step 800/1875, loss = 0.0052\n",
            "epoch 8/10, step 900/1875, loss = 0.0038\n",
            "epoch 8/10, step 1000/1875, loss = 0.0696\n",
            "epoch 8/10, step 1100/1875, loss = 0.0005\n",
            "epoch 8/10, step 1200/1875, loss = 0.1120\n",
            "epoch 8/10, step 1300/1875, loss = 0.0009\n",
            "epoch 8/10, step 1400/1875, loss = 0.2005\n",
            "epoch 8/10, step 1500/1875, loss = 0.0096\n",
            "epoch 8/10, step 1600/1875, loss = 0.2066\n",
            "epoch 8/10, step 1700/1875, loss = 0.0017\n",
            "epoch 8/10, step 1800/1875, loss = 0.0016\n",
            "\n",
            "epoch: 8 training loss = 0.0344, training accuracy = 98.86%\n",
            "\n",
            "epoch 9/10, step 100/1875, loss = 0.0041\n",
            "epoch 9/10, step 200/1875, loss = 0.1544\n",
            "epoch 9/10, step 300/1875, loss = 0.0177\n",
            "epoch 9/10, step 400/1875, loss = 0.0307\n",
            "epoch 9/10, step 500/1875, loss = 0.0036\n",
            "epoch 9/10, step 600/1875, loss = 0.0011\n",
            "epoch 9/10, step 700/1875, loss = 0.0434\n",
            "epoch 9/10, step 800/1875, loss = 0.0191\n",
            "epoch 9/10, step 900/1875, loss = 0.0035\n",
            "epoch 9/10, step 1000/1875, loss = 0.0006\n",
            "epoch 9/10, step 1100/1875, loss = 0.1210\n",
            "epoch 9/10, step 1200/1875, loss = 0.0470\n",
            "epoch 9/10, step 1300/1875, loss = 0.0030\n",
            "epoch 9/10, step 1400/1875, loss = 0.0194\n",
            "epoch 9/10, step 1500/1875, loss = 0.0054\n",
            "epoch 9/10, step 1600/1875, loss = 0.0142\n",
            "epoch 9/10, step 1700/1875, loss = 0.0002\n",
            "epoch 9/10, step 1800/1875, loss = 0.0187\n",
            "\n",
            "epoch: 9 training loss = 0.0320, training accuracy = 99.03%\n",
            "\n",
            "epoch 10/10, step 100/1875, loss = 0.0014\n",
            "epoch 10/10, step 200/1875, loss = 0.0071\n",
            "epoch 10/10, step 300/1875, loss = 0.0013\n",
            "epoch 10/10, step 400/1875, loss = 0.0001\n",
            "epoch 10/10, step 500/1875, loss = 0.2808\n",
            "epoch 10/10, step 600/1875, loss = 0.0084\n",
            "epoch 10/10, step 700/1875, loss = 0.0070\n",
            "epoch 10/10, step 800/1875, loss = 0.0340\n",
            "epoch 10/10, step 900/1875, loss = 0.0242\n",
            "epoch 10/10, step 1000/1875, loss = 0.0019\n",
            "epoch 10/10, step 1100/1875, loss = 0.0009\n",
            "epoch 10/10, step 1200/1875, loss = 0.0017\n",
            "epoch 10/10, step 1300/1875, loss = 0.0421\n",
            "epoch 10/10, step 1400/1875, loss = 0.0013\n",
            "epoch 10/10, step 1500/1875, loss = 0.0001\n",
            "epoch 10/10, step 1600/1875, loss = 0.0009\n",
            "epoch 10/10, step 1700/1875, loss = 0.0010\n",
            "epoch 10/10, step 1800/1875, loss = 0.0025\n",
            "\n",
            "epoch: 10 training loss = 0.0273, training accuracy = 99.13%\n",
            "\n"
          ],
          "name": "stdout"
        }
      ]
    },
    {
      "cell_type": "code",
      "metadata": {
        "colab": {
          "base_uri": "https://localhost:8080/"
        },
        "id": "ASUmeGGzUtr5",
        "outputId": "38192d24-82df-4f7d-cce5-15fd43277060"
      },
      "source": [
        "# Training loop-\n",
        "for epoch in range(num_epochs):\n",
        "    running_loss = 0.0\n",
        "    running_corrects = 0.0\n",
        "    \n",
        "    for batch, (images, labels) in enumerate(train_loader):\n",
        "        # Reshape images first-\n",
        "        # 32, 1, 28, 28\n",
        "        # Input size needs to be 32, 784\n",
        "        images = images.reshape(-1, 28 * 28 * 1).to(device)\n",
        "        # Tries to push to GPU if available\n",
        "        \n",
        "        labels = labels.to(device)\n",
        "\n",
        "        # Forward pass-\n",
        "        outputs = model(images)\n",
        "\n",
        "        # Compute loss-\n",
        "        J = loss(outputs, labels)\n",
        "\n",
        "        # Backward pass-\n",
        "        optimizer.zero_grad()   # empty accumulated gradients\n",
        "\n",
        "        J.backward()    # does backprop\n",
        "\n",
        "        # Updates parameters-\n",
        "        optimizer.step()\n",
        "        \n",
        "        # Compute model's performance statistics-\n",
        "        running_loss += J.item() * images.size(0)\n",
        "        _, predicted = torch.max(outputs, 1)\n",
        "        running_corrects += torch.sum(predicted == labels.data)\n",
        "\n",
        "        '''\n",
        "        # Print information every 100 steps-\n",
        "        if (batch + 1) % 100 == 0:\n",
        "            print(f\"epoch {epoch + 1}/{num_epochs}, step {batch + 1}/{num_steps}, loss = {J.item():.4f}\")\n",
        "        '''\n",
        "        \n",
        "    epoch_loss = running_loss / len(train_dataset)\n",
        "    epoch_acc = running_corrects.double() / len(train_dataset)\n",
        "    # epoch_acc = 100 * running_corrects / len(trainset)\n",
        "    print(f\"\\nepoch: {epoch + 1} training loss = {epoch_loss:.4f}, training accuracy = {epoch_acc * 100:.2f}%\\n\")\n"
      ],
      "execution_count": null,
      "outputs": [
        {
          "output_type": "stream",
          "text": [
            "epoch 1/10, step 100/1875, loss = 0.1445\n",
            "epoch 1/10, step 200/1875, loss = 0.2513\n",
            "epoch 1/10, step 300/1875, loss = 0.1319\n",
            "epoch 1/10, step 400/1875, loss = 0.2112\n",
            "epoch 1/10, step 500/1875, loss = 0.1163\n",
            "epoch 1/10, step 600/1875, loss = 0.2038\n",
            "epoch 1/10, step 700/1875, loss = 0.1331\n",
            "epoch 1/10, step 800/1875, loss = 0.2032\n",
            "epoch 1/10, step 900/1875, loss = 0.0416\n",
            "epoch 1/10, step 1000/1875, loss = 0.1949\n",
            "epoch 1/10, step 1100/1875, loss = 0.0992\n",
            "epoch 1/10, step 1200/1875, loss = 0.3378\n",
            "epoch 1/10, step 1300/1875, loss = 0.2760\n",
            "epoch 1/10, step 1400/1875, loss = 0.0504\n",
            "epoch 1/10, step 1500/1875, loss = 0.2095\n",
            "epoch 1/10, step 1600/1875, loss = 0.0967\n",
            "epoch 1/10, step 1700/1875, loss = 0.1612\n",
            "epoch 1/10, step 1800/1875, loss = 0.1670\n",
            "\n",
            "epoch: 1 training loss = 0.2007, training accuracy = 93.98%\n",
            "\n",
            "epoch 2/10, step 100/1875, loss = 0.0938\n",
            "epoch 2/10, step 200/1875, loss = 0.0225\n",
            "epoch 2/10, step 300/1875, loss = 0.1387\n",
            "epoch 2/10, step 400/1875, loss = 0.0397\n",
            "epoch 2/10, step 500/1875, loss = 0.0062\n",
            "epoch 2/10, step 600/1875, loss = 0.1365\n",
            "epoch 2/10, step 700/1875, loss = 0.0686\n",
            "epoch 2/10, step 800/1875, loss = 0.0500\n",
            "epoch 2/10, step 900/1875, loss = 0.1326\n",
            "epoch 2/10, step 1000/1875, loss = 0.0867\n",
            "epoch 2/10, step 1100/1875, loss = 0.0949\n",
            "epoch 2/10, step 1200/1875, loss = 0.0450\n",
            "epoch 2/10, step 1300/1875, loss = 0.0454\n",
            "epoch 2/10, step 1400/1875, loss = 0.0720\n",
            "epoch 2/10, step 1500/1875, loss = 0.1072\n",
            "epoch 2/10, step 1600/1875, loss = 0.0607\n",
            "epoch 2/10, step 1700/1875, loss = 0.1286\n",
            "epoch 2/10, step 1800/1875, loss = 0.0520\n",
            "\n",
            "epoch: 2 training loss = 0.0977, training accuracy = 97.04%\n",
            "\n",
            "epoch 3/10, step 100/1875, loss = 0.0120\n",
            "epoch 3/10, step 200/1875, loss = 0.1144\n",
            "epoch 3/10, step 300/1875, loss = 0.0210\n",
            "epoch 3/10, step 400/1875, loss = 0.0343\n",
            "epoch 3/10, step 500/1875, loss = 0.0407\n",
            "epoch 3/10, step 600/1875, loss = 0.0204\n",
            "epoch 3/10, step 700/1875, loss = 0.1451\n",
            "epoch 3/10, step 800/1875, loss = 0.0316\n",
            "epoch 3/10, step 900/1875, loss = 0.2592\n",
            "epoch 3/10, step 1000/1875, loss = 0.0039\n",
            "epoch 3/10, step 1100/1875, loss = 0.0326\n",
            "epoch 3/10, step 1200/1875, loss = 0.0126\n",
            "epoch 3/10, step 1300/1875, loss = 0.2323\n",
            "epoch 3/10, step 1400/1875, loss = 0.3751\n",
            "epoch 3/10, step 1500/1875, loss = 0.0074\n",
            "epoch 3/10, step 1600/1875, loss = 0.1235\n",
            "epoch 3/10, step 1700/1875, loss = 0.0537\n",
            "epoch 3/10, step 1800/1875, loss = 0.2465\n",
            "\n",
            "epoch: 3 training loss = 0.0747, training accuracy = 97.72%\n",
            "\n",
            "epoch 4/10, step 100/1875, loss = 0.0028\n",
            "epoch 4/10, step 200/1875, loss = 0.0114\n",
            "epoch 4/10, step 300/1875, loss = 0.0132\n",
            "epoch 4/10, step 400/1875, loss = 0.0010\n",
            "epoch 4/10, step 500/1875, loss = 0.1270\n",
            "epoch 4/10, step 600/1875, loss = 0.0015\n",
            "epoch 4/10, step 700/1875, loss = 0.0144\n",
            "epoch 4/10, step 800/1875, loss = 0.0011\n",
            "epoch 4/10, step 900/1875, loss = 0.0143\n",
            "epoch 4/10, step 1000/1875, loss = 0.0154\n",
            "epoch 4/10, step 1100/1875, loss = 0.0011\n",
            "epoch 4/10, step 1200/1875, loss = 0.0762\n",
            "epoch 4/10, step 1300/1875, loss = 0.3200\n",
            "epoch 4/10, step 1400/1875, loss = 0.2084\n",
            "epoch 4/10, step 1500/1875, loss = 0.1804\n",
            "epoch 4/10, step 1600/1875, loss = 0.0068\n",
            "epoch 4/10, step 1700/1875, loss = 0.0076\n",
            "epoch 4/10, step 1800/1875, loss = 0.0125\n",
            "\n",
            "epoch: 4 training loss = 0.0582, training accuracy = 98.18%\n",
            "\n",
            "epoch 5/10, step 100/1875, loss = 0.0006\n",
            "epoch 5/10, step 200/1875, loss = 0.0225\n",
            "epoch 5/10, step 300/1875, loss = 0.1341\n",
            "epoch 5/10, step 400/1875, loss = 0.0172\n",
            "epoch 5/10, step 500/1875, loss = 0.0283\n",
            "epoch 5/10, step 600/1875, loss = 0.1148\n",
            "epoch 5/10, step 700/1875, loss = 0.0340\n",
            "epoch 5/10, step 800/1875, loss = 0.0175\n",
            "epoch 5/10, step 900/1875, loss = 0.2164\n",
            "epoch 5/10, step 1000/1875, loss = 0.3121\n",
            "epoch 5/10, step 1100/1875, loss = 0.0019\n",
            "epoch 5/10, step 1200/1875, loss = 0.0072\n",
            "epoch 5/10, step 1300/1875, loss = 0.0170\n",
            "epoch 5/10, step 1400/1875, loss = 0.0045\n",
            "epoch 5/10, step 1500/1875, loss = 0.0170\n",
            "epoch 5/10, step 1600/1875, loss = 0.0023\n",
            "epoch 5/10, step 1700/1875, loss = 0.0089\n",
            "epoch 5/10, step 1800/1875, loss = 0.0435\n",
            "\n",
            "epoch: 5 training loss = 0.0484, training accuracy = 98.50%\n",
            "\n",
            "epoch 6/10, step 100/1875, loss = 0.0196\n",
            "epoch 6/10, step 200/1875, loss = 0.1160\n",
            "epoch 6/10, step 300/1875, loss = 0.0412\n",
            "epoch 6/10, step 400/1875, loss = 0.0024\n",
            "epoch 6/10, step 500/1875, loss = 0.0002\n",
            "epoch 6/10, step 600/1875, loss = 0.0009\n",
            "epoch 6/10, step 700/1875, loss = 0.0800\n",
            "epoch 6/10, step 800/1875, loss = 0.0401\n",
            "epoch 6/10, step 900/1875, loss = 0.0078\n",
            "epoch 6/10, step 1000/1875, loss = 0.0031\n",
            "epoch 6/10, step 1100/1875, loss = 0.1571\n",
            "epoch 6/10, step 1200/1875, loss = 0.0001\n",
            "epoch 6/10, step 1300/1875, loss = 0.0433\n",
            "epoch 6/10, step 1400/1875, loss = 0.0153\n",
            "epoch 6/10, step 1500/1875, loss = 0.0222\n",
            "epoch 6/10, step 1600/1875, loss = 0.0005\n",
            "epoch 6/10, step 1700/1875, loss = 0.0604\n",
            "epoch 6/10, step 1800/1875, loss = 0.0176\n",
            "\n",
            "epoch: 6 training loss = 0.0430, training accuracy = 98.64%\n",
            "\n",
            "epoch 7/10, step 100/1875, loss = 0.0025\n",
            "epoch 7/10, step 200/1875, loss = 0.0035\n",
            "epoch 7/10, step 300/1875, loss = 0.0184\n",
            "epoch 7/10, step 400/1875, loss = 0.1626\n",
            "epoch 7/10, step 500/1875, loss = 0.0195\n",
            "epoch 7/10, step 600/1875, loss = 0.0407\n",
            "epoch 7/10, step 700/1875, loss = 0.0025\n",
            "epoch 7/10, step 800/1875, loss = 0.0006\n",
            "epoch 7/10, step 900/1875, loss = 0.0075\n",
            "epoch 7/10, step 1000/1875, loss = 0.0117\n",
            "epoch 7/10, step 1100/1875, loss = 0.0002\n",
            "epoch 7/10, step 1200/1875, loss = 0.2492\n",
            "epoch 7/10, step 1300/1875, loss = 0.0052\n",
            "epoch 7/10, step 1400/1875, loss = 0.0055\n",
            "epoch 7/10, step 1500/1875, loss = 0.0083\n",
            "epoch 7/10, step 1600/1875, loss = 0.1095\n",
            "epoch 7/10, step 1700/1875, loss = 0.0084\n",
            "epoch 7/10, step 1800/1875, loss = 0.0578\n",
            "\n",
            "epoch: 7 training loss = 0.0376, training accuracy = 98.80%\n",
            "\n",
            "epoch 8/10, step 100/1875, loss = 0.0001\n",
            "epoch 8/10, step 200/1875, loss = 0.0182\n",
            "epoch 8/10, step 300/1875, loss = 0.0974\n",
            "epoch 8/10, step 400/1875, loss = 0.0000\n",
            "epoch 8/10, step 500/1875, loss = 0.0252\n",
            "epoch 8/10, step 600/1875, loss = 0.0022\n",
            "epoch 8/10, step 700/1875, loss = 0.0036\n",
            "epoch 8/10, step 800/1875, loss = 0.0052\n",
            "epoch 8/10, step 900/1875, loss = 0.0038\n",
            "epoch 8/10, step 1000/1875, loss = 0.0696\n",
            "epoch 8/10, step 1100/1875, loss = 0.0005\n",
            "epoch 8/10, step 1200/1875, loss = 0.1120\n",
            "epoch 8/10, step 1300/1875, loss = 0.0009\n",
            "epoch 8/10, step 1400/1875, loss = 0.2005\n",
            "epoch 8/10, step 1500/1875, loss = 0.0096\n",
            "epoch 8/10, step 1600/1875, loss = 0.2066\n",
            "epoch 8/10, step 1700/1875, loss = 0.0017\n",
            "epoch 8/10, step 1800/1875, loss = 0.0016\n",
            "\n",
            "epoch: 8 training loss = 0.0344, training accuracy = 98.86%\n",
            "\n",
            "epoch 9/10, step 100/1875, loss = 0.0041\n",
            "epoch 9/10, step 200/1875, loss = 0.1544\n",
            "epoch 9/10, step 300/1875, loss = 0.0177\n",
            "epoch 9/10, step 400/1875, loss = 0.0307\n",
            "epoch 9/10, step 500/1875, loss = 0.0036\n",
            "epoch 9/10, step 600/1875, loss = 0.0011\n",
            "epoch 9/10, step 700/1875, loss = 0.0434\n",
            "epoch 9/10, step 800/1875, loss = 0.0191\n",
            "epoch 9/10, step 900/1875, loss = 0.0035\n",
            "epoch 9/10, step 1000/1875, loss = 0.0006\n",
            "epoch 9/10, step 1100/1875, loss = 0.1210\n",
            "epoch 9/10, step 1200/1875, loss = 0.0470\n",
            "epoch 9/10, step 1300/1875, loss = 0.0030\n",
            "epoch 9/10, step 1400/1875, loss = 0.0194\n",
            "epoch 9/10, step 1500/1875, loss = 0.0054\n",
            "epoch 9/10, step 1600/1875, loss = 0.0142\n",
            "epoch 9/10, step 1700/1875, loss = 0.0002\n",
            "epoch 9/10, step 1800/1875, loss = 0.0187\n",
            "\n",
            "epoch: 9 training loss = 0.0320, training accuracy = 99.03%\n",
            "\n",
            "epoch 10/10, step 100/1875, loss = 0.0014\n",
            "epoch 10/10, step 200/1875, loss = 0.0071\n",
            "epoch 10/10, step 300/1875, loss = 0.0013\n",
            "epoch 10/10, step 400/1875, loss = 0.0001\n",
            "epoch 10/10, step 500/1875, loss = 0.2808\n",
            "epoch 10/10, step 600/1875, loss = 0.0084\n",
            "epoch 10/10, step 700/1875, loss = 0.0070\n",
            "epoch 10/10, step 800/1875, loss = 0.0340\n",
            "epoch 10/10, step 900/1875, loss = 0.0242\n",
            "epoch 10/10, step 1000/1875, loss = 0.0019\n",
            "epoch 10/10, step 1100/1875, loss = 0.0009\n",
            "epoch 10/10, step 1200/1875, loss = 0.0017\n",
            "epoch 10/10, step 1300/1875, loss = 0.0421\n",
            "epoch 10/10, step 1400/1875, loss = 0.0013\n",
            "epoch 10/10, step 1500/1875, loss = 0.0001\n",
            "epoch 10/10, step 1600/1875, loss = 0.0009\n",
            "epoch 10/10, step 1700/1875, loss = 0.0010\n",
            "epoch 10/10, step 1800/1875, loss = 0.0025\n",
            "\n",
            "epoch: 10 training loss = 0.0273, training accuracy = 99.13%\n",
            "\n"
          ],
          "name": "stdout"
        }
      ]
    },
    {
      "cell_type": "code",
      "metadata": {
        "id": "S-gBMC8UUulI"
      },
      "source": [
        ""
      ],
      "execution_count": null,
      "outputs": []
    },
    {
      "cell_type": "code",
      "metadata": {
        "colab": {
          "base_uri": "https://localhost:8080/"
        },
        "id": "K7k3WtAHVBoV",
        "outputId": "b83c3fd9-944b-4f59-c772-b6c9dbc03087"
      },
      "source": [
        "# Trained model evaluation. For this, we do not want to compute gradients for\n",
        "# all of the steps. Hence wrap it-\n",
        "with torch.no_grad():\n",
        "    num_correct = 0\n",
        "    num_samples = 0\n",
        "\n",
        "    for images, labels in test_loader:\n",
        "        # Reshape images-\n",
        "        images = images.reshape(-1, 28 * 28 * 1).to(device)\n",
        "        labels = labels.to(device)\n",
        "\n",
        "        outputs = model(images)\n",
        "\n",
        "        # torch.max() returns value and index. We are interested in index\n",
        "        # hence we use '_' since we don't need first value-\n",
        "        _, y_pred = torch.max(outputs, 1)   # along first dimension\n",
        "\n",
        "        # number of samples in correct batch-\n",
        "        num_samples += labels.shape[0]\n",
        "\n",
        "        num_correct += (y_pred == labels).sum().item()\n",
        "\n",
        "    acc = 100.0 * num_correct / num_samples\n",
        "    print(f\"Trained model's validation accuracy = {acc:.2f}%\")\n",
        "    # Trained model's accuracy = 98.05%\n"
      ],
      "execution_count": null,
      "outputs": [
        {
          "output_type": "stream",
          "text": [
            "Trained model's validation accuracy = 97.68%\n"
          ],
          "name": "stdout"
        }
      ]
    },
    {
      "cell_type": "code",
      "metadata": {
        "id": "DjpMnjfhVCkr"
      },
      "source": [
        ""
      ],
      "execution_count": null,
      "outputs": []
    }
  ]
}