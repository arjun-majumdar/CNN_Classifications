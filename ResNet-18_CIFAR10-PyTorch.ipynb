{
 "cells": [
  {
   "cell_type": "markdown",
   "metadata": {
    "id": "6EerumeaqLVv"
   },
   "source": [
    "# ResNet-18 Convolutional Neural Networks trained on CIFAR-10"
   ]
  },
  {
   "cell_type": "code",
   "execution_count": 1,
   "metadata": {
    "id": "PhobNirAqPNC"
   },
   "outputs": [],
   "source": [
    "import torch\n",
    "import torch.nn as nn\n",
    "import torch.nn.functional as F\n",
    "import torchvision\n",
    "import torchvision.transforms as transforms\n",
    "import matplotlib.pyplot as plt\n",
    "import numpy as np\n",
    "import os"
   ]
  },
  {
   "cell_type": "code",
   "execution_count": null,
   "metadata": {
    "id": "ommMsfONqZgj"
   },
   "outputs": [],
   "source": []
  },
  {
   "cell_type": "code",
   "execution_count": 22,
   "metadata": {
    "colab": {
     "base_uri": "https://localhost:8080/"
    },
    "id": "ADmt_VNVqZtz",
    "outputId": "8c7cd0f4-bff7-4a70-e5c3-1fa6dd5b19cd"
   },
   "outputs": [
    {
     "name": "stdout",
     "output_type": "stream",
     "text": [
      "currently available device: cpu\n"
     ]
    }
   ],
   "source": [
    "# Device configuration-\n",
    "device = torch.device('cuda' if torch.cuda.is_available() else 'cpu')\n",
    "print(f\"currently available device: {device}\")"
   ]
  },
  {
   "cell_type": "code",
   "execution_count": null,
   "metadata": {
    "id": "gaqQpqHbqeoA"
   },
   "outputs": [],
   "source": []
  },
  {
   "cell_type": "code",
   "execution_count": 2,
   "metadata": {
    "id": "kqvbdSHzqcNb"
   },
   "outputs": [],
   "source": [
    "# Hyper-parameters-\n",
    "num_epochs = 200\n",
    "batch_size = 128\n",
    "learning_rate = 0.001"
   ]
  },
  {
   "cell_type": "code",
   "execution_count": 3,
   "metadata": {
    "id": "jEwgAPpSAKF7"
   },
   "outputs": [],
   "source": [
    "# Define transformations for training and test sets-\n",
    "transform_train = transforms.Compose(\n",
    "    [\n",
    "      transforms.RandomCrop(32, padding = 4),\n",
    "      transforms.RandomHorizontalFlip(),\n",
    "      transforms.ToTensor(),\n",
    "      transforms.Normalize((0.4914, 0.4822, 0.4465), (0.2023, 0.1994, 0.2010)),\n",
    "     ]\n",
    "     )\n",
    "\n",
    "transform_test = transforms.Compose(\n",
    "    [\n",
    "      transforms.ToTensor(),\n",
    "      transforms.Normalize((0.4914, 0.4822, 0.4465), (0.2023, 0.1994, 0.2010)),\n",
    "     ]\n",
    "     )"
   ]
  },
  {
   "cell_type": "code",
   "execution_count": null,
   "metadata": {
    "id": "L6fnVlTbqfIL"
   },
   "outputs": [],
   "source": [
    "'''\n",
    "# Dataset has PILImage images of range [0, 1]. We transform them to Tensors\n",
    "# of normalized range [-1, 1]\n",
    "transform = transforms.Compose(\n",
    "        [\n",
    "            transforms.ToTensor(),\n",
    "            transforms.Normalize((0.5, 0.5, 0.5), (0.5, 0.5, 0.5))\n",
    "            ]\n",
    "        )\n",
    "'''"
   ]
  },
  {
   "cell_type": "code",
   "execution_count": null,
   "metadata": {
    "id": "NnT9RQUO2OxC"
   },
   "outputs": [],
   "source": []
  },
  {
   "cell_type": "code",
   "execution_count": 4,
   "metadata": {
    "id": "G9mENKed2OxC"
   },
   "outputs": [],
   "source": [
    "os.chdir(\"/home/arjun/Documents/Programs/Python_Codes/PyTorch_Resources/Good_Codes/\")"
   ]
  },
  {
   "cell_type": "code",
   "execution_count": 5,
   "metadata": {
    "colab": {
     "base_uri": "https://localhost:8080/",
     "height": 118,
     "referenced_widgets": [
      "307259ef902043dba4373ed58440783b",
      "83a54184b7374a42bb4bfa3b10456b5d",
      "f9258497ed574c2f93b0892dffd8a573",
      "0c3bed444bee49e9b7fb2dbcbcf2e284",
      "d2b3a5c9f6c24fd8b71a5ad0b5903e05",
      "a4c1c4f30ac34465bfccc790aed22f84",
      "1430e944e0e9455883c106a4c0815e3f",
      "64372ec04c7840a1bb2db512a76d7479"
     ]
    },
    "id": "xzYnuq-Aqg_6",
    "outputId": "d2ddfc22-48f3-4087-bcc1-bf3f82fda9ae"
   },
   "outputs": [
    {
     "name": "stdout",
     "output_type": "stream",
     "text": [
      "Files already downloaded and verified\n",
      "Files already downloaded and verified\n"
     ]
    }
   ],
   "source": [
    "# Load dataset-\n",
    "train_dataset = torchvision.datasets.CIFAR10(\n",
    "        root = './data', train = True,\n",
    "        download = True, transform = transform_train\n",
    "        )\n",
    "\n",
    "test_dataset = torchvision.datasets.CIFAR10(\n",
    "        root = './data', train = False,\n",
    "        download = True, transform = transform_test\n",
    "        )"
   ]
  },
  {
   "cell_type": "code",
   "execution_count": 6,
   "metadata": {
    "colab": {
     "base_uri": "https://localhost:8080/"
    },
    "id": "KZeZh-8VqkIJ",
    "outputId": "374f53a6-7c19-40aa-eb95-ea220920a401"
   },
   "outputs": [
    {
     "name": "stdout",
     "output_type": "stream",
     "text": [
      "len(train_dataset) = 50000 & len(test_dataset) = 10000\n"
     ]
    }
   ],
   "source": [
    "print(f\"len(train_dataset) = {len(train_dataset)} & len(test_dataset) = {len(test_dataset)}\")"
   ]
  },
  {
   "cell_type": "code",
   "execution_count": 7,
   "metadata": {
    "id": "lrMJVFt-qlFR"
   },
   "outputs": [],
   "source": [
    "# Create training and testing loaders-\n",
    "train_loader = torch.utils.data.DataLoader(\n",
    "        train_dataset, batch_size = batch_size,\n",
    "        shuffle = True\n",
    "        )\n",
    "\n",
    "test_loader = torch.utils.data.DataLoader(\n",
    "        test_dataset, batch_size = batch_size,\n",
    "        shuffle = False\n",
    "        )"
   ]
  },
  {
   "cell_type": "code",
   "execution_count": 8,
   "metadata": {
    "colab": {
     "base_uri": "https://localhost:8080/"
    },
    "id": "93Ya0qnXqoXd",
    "outputId": "8f1f0c9c-b021-4cf1-adb2-23735cba6cff"
   },
   "outputs": [
    {
     "name": "stdout",
     "output_type": "stream",
     "text": [
      "len(train_loader) = 391 & len(test_loader) = 79\n"
     ]
    }
   ],
   "source": [
    "print(f\"len(train_loader) = {len(train_loader)} & len(test_loader) = {len(test_loader)}\")"
   ]
  },
  {
   "cell_type": "code",
   "execution_count": 9,
   "metadata": {
    "colab": {
     "base_uri": "https://localhost:8080/"
    },
    "id": "M-8FPGEqqpAf",
    "outputId": "7a3913aa-7a30-4d6d-ae7e-339b50fd55bb"
   },
   "outputs": [
    {
     "data": {
      "text/plain": [
       "(390.625, 78.125)"
      ]
     },
     "execution_count": 9,
     "metadata": {},
     "output_type": "execute_result"
    }
   ],
   "source": [
    "# Sanity check-\n",
    "len(train_dataset) / batch_size, len(test_dataset) / batch_size"
   ]
  },
  {
   "cell_type": "code",
   "execution_count": null,
   "metadata": {
    "id": "REC4tDdlqrLE"
   },
   "outputs": [],
   "source": []
  },
  {
   "cell_type": "code",
   "execution_count": 10,
   "metadata": {
    "colab": {
     "base_uri": "https://localhost:8080/"
    },
    "id": "ViCTAvtXqt5t",
    "outputId": "47bb769a-1546-4e96-ae0d-c0026e38711e"
   },
   "outputs": [
    {
     "name": "stdout",
     "output_type": "stream",
     "text": [
      "images.shape: torch.Size([128, 3, 32, 32]) & labels.shape: torch.Size([128])\n"
     ]
    }
   ],
   "source": [
    "# Get some random training images-\n",
    "# some_img = iter(train_loader)\n",
    "# images, labels = some_img.next()\n",
    "images, labels = next(iter(train_loader))\n",
    "\n",
    "# You get 32 images due to our specified batch size-\n",
    "print(f\"images.shape: {images.shape} & labels.shape: {labels.shape}\")"
   ]
  },
  {
   "cell_type": "code",
   "execution_count": null,
   "metadata": {
    "id": "CvqT5GyfquqV"
   },
   "outputs": [],
   "source": []
  },
  {
   "cell_type": "code",
   "execution_count": null,
   "metadata": {
    "id": "yny3gCpSqyIc"
   },
   "outputs": [],
   "source": []
  },
  {
   "cell_type": "code",
   "execution_count": 11,
   "metadata": {
    "id": "MpdfJrHaqySQ"
   },
   "outputs": [],
   "source": [
    "class ResidualBlock(nn.Module):\n",
    "    '''\n",
    "    Residual Block within a ResNet CNN model\n",
    "    '''\n",
    "    def __init__(self, input_channels, num_channels, \n",
    "                 use_1x1_conv = False, strides = 1):\n",
    "        # super(ResidualBlock, self).__init__()\n",
    "        super().__init__()\n",
    "     \n",
    "        self.conv1 = nn.Conv2d(\n",
    "            in_channels = input_channels, out_channels = num_channels,\n",
    "            kernel_size = 3, padding = 1, stride = strides,\n",
    "            bias = False\n",
    "            )\n",
    "        self.conv2 = nn.Conv2d(\n",
    "            in_channels = num_channels, out_channels = num_channels,\n",
    "            kernel_size = 3, padding = 1, stride = 1,\n",
    "            bias = False\n",
    "            )\n",
    "        \n",
    "        if use_1x1_conv:\n",
    "            self.conv3 = nn.Conv2d(\n",
    "                in_channels = input_channels, out_channels = num_channels,\n",
    "                kernel_size = 1, stride = strides\n",
    "                )\n",
    "        else:\n",
    "            self.conv3 = None\n",
    "        \n",
    "        self.bn1 = nn.BatchNorm2d(num_features = num_channels)\n",
    "        self.bn2 = nn.BatchNorm2d(num_features = num_channels)\n",
    "        self.relu = nn.ReLU(inplace = True)\n",
    "\n",
    "        self.initialize_weights()\n",
    "        \n",
    "    \n",
    "    def forward(self, X):\n",
    "        Y = F.relu(self.bn1(self.conv1(X)))\n",
    "        Y = self.bn2(self.conv2(Y))\n",
    "        \n",
    "        if self.conv3:\n",
    "            X = self.conv3(X)\n",
    "            # print(f\"X.shape due to 1x1: {X.shape} & Y.shape = {Y.shape}\")\n",
    "        else:\n",
    "            # print(f\"X.shape without 1x1: {X.shape} & Y.shape = {Y.shape}\")\n",
    "            pass\n",
    "        \n",
    "        Y += X\n",
    "        return F.relu(Y)\n",
    "    \n",
    "    \n",
    "    def shape_computation(self, X):\n",
    "        Y = self.conv1(X)\n",
    "        print(f\"self.conv1(X).shape: {Y.shape}\")\n",
    "        Y = self.conv2(Y)\n",
    "        print(f\"self.conv2(X).shape: {Y.shape}\")\n",
    "        \n",
    "        if self.conv3:\n",
    "            h = self.conv3(X)\n",
    "            print(f\"self.conv3(X).shape: {h.shape}\")\n",
    "    \n",
    "\n",
    "    def initialize_weights(self):\n",
    "        for m in self.modules():\n",
    "            # print(m)\n",
    "            if isinstance(m, nn.Conv2d):\n",
    "                nn.init.kaiming_uniform_(m.weight)\n",
    "\n",
    "                '''\n",
    "                # Do not initialize bias (due to batchnorm)-\n",
    "                if m.bias is not None:\n",
    "                    nn.init.constant_(m.bias, 0)\n",
    "                '''\n",
    "            \n",
    "            elif isinstance(m, nn.BatchNorm2d):\n",
    "                # Standard initialization for batch normalization-\n",
    "                nn.init.constant_(m.weight, 1)\n",
    "                nn.init.constant_(m.bias, 0)\n",
    "\n",
    "            elif isinstance(m, nn.Linear):\n",
    "                nn.init.kaiming_normal_(m.weight)\n",
    "                nn.init.constant_(m.bias, 0)\n"
   ]
  },
  {
   "cell_type": "code",
   "execution_count": null,
   "metadata": {
    "id": "In1_fKzvqyvs"
   },
   "outputs": [],
   "source": []
  },
  {
   "cell_type": "code",
   "execution_count": null,
   "metadata": {
    "id": "M-U42ZV4scGl"
   },
   "outputs": [],
   "source": []
  },
  {
   "cell_type": "code",
   "execution_count": null,
   "metadata": {
    "id": "LWyCzhgvscWf"
   },
   "outputs": [],
   "source": [
    "'''\n",
    "b1 = nn.Sequential(\n",
    "    nn.Conv2d(in_channels = 3, out_channels = 64, kernel_size = 7, stride = 2, padding = 3),\n",
    "    nn.BatchNorm2d(num_features = 64),\n",
    "    nn.ReLU(),\n",
    "    nn.MaxPool2d(kernel_size = 3, stride = 2, padding = 1))\n",
    "'''"
   ]
  },
  {
   "cell_type": "code",
   "execution_count": 12,
   "metadata": {
    "id": "XdSHXjfyV__v"
   },
   "outputs": [],
   "source": [
    "b0 = nn.Sequential(\n",
    "    nn.Conv2d(in_channels = 3, out_channels = 64, kernel_size = 3, stride = 1, padding = 1),\n",
    "    nn.BatchNorm2d(num_features = 64),\n",
    "    nn.ReLU())\n",
    "    # nn.MaxPool2d(kernel_size = 2, stride = 2, padding = 1))\n",
    "    # nn.MaxPool2d(kernel_size = 2, stride = 2, padding = 0))"
   ]
  },
  {
   "cell_type": "code",
   "execution_count": 14,
   "metadata": {
    "colab": {
     "base_uri": "https://localhost:8080/"
    },
    "id": "UskseKPx2OxS",
    "outputId": "53a023f6-68d0-4913-d093-cf9689b05173"
   },
   "outputs": [
    {
     "data": {
      "text/plain": [
       "torch.Size([128, 64, 32, 32])"
      ]
     },
     "execution_count": 14,
     "metadata": {
      "tags": []
     },
     "output_type": "execute_result"
    }
   ],
   "source": [
    "# Sanity check-\n",
    "b0(images).shape"
   ]
  },
  {
   "cell_type": "code",
   "execution_count": null,
   "metadata": {
    "id": "iJMMMsle2OxT"
   },
   "outputs": [],
   "source": []
  },
  {
   "cell_type": "code",
   "execution_count": null,
   "metadata": {
    "id": "gEG7YzCn2OxU"
   },
   "outputs": [],
   "source": []
  },
  {
   "cell_type": "code",
   "execution_count": 13,
   "metadata": {
    "id": "tqnUv_TL2OxU"
   },
   "outputs": [],
   "source": [
    "def create_resnet_block(input_filters, output_filters, num_residuals, first_block = False):\n",
    "    # Python list to hold the created ResNet blocks-\n",
    "    resnet_blk = []\n",
    "    \n",
    "    for i in range(num_residuals):\n",
    "        if i == 0 and first_block:\n",
    "            resnet_blk.append(ResidualBlock(input_channels = input_filters, num_channels = output_filters, use_1x1_conv = True, strides = 2))\n",
    "        else:\n",
    "            resnet_blk.append(ResidualBlock(input_channels = output_filters, num_channels = output_filters, use_1x1_conv = False, strides = 1))\n",
    "    \n",
    "    return resnet_blk"
   ]
  },
  {
   "cell_type": "code",
   "execution_count": null,
   "metadata": {
    "id": "aO_xfQp42OxU"
   },
   "outputs": [],
   "source": []
  },
  {
   "cell_type": "code",
   "execution_count": 14,
   "metadata": {
    "id": "3v2xaGqP2OxV"
   },
   "outputs": [],
   "source": [
    "b1 = nn.Sequential(*create_resnet_block(input_filters = 64, output_filters = 64, num_residuals = 2, first_block = True))\n",
    "\n",
    "# # Sanity check-\n",
    "# b1(torch.normal(mean = 0.0, std = 1.0, size = (128, 64, 32, 32))).shape\n",
    "# torch.Size([128, 64, 16, 16])"
   ]
  },
  {
   "cell_type": "code",
   "execution_count": null,
   "metadata": {
    "id": "j5vFMwoT2OxV"
   },
   "outputs": [],
   "source": [
    "# b2 = nn.Sequential(*create_resnet_block(input_filters = 64, output_filters = 64, num_residuals = 2))\n",
    "\n",
    "# Sanity check-\n",
    "# b2(torch.normal(mean = 0.0, std = 1.0, size = (128, 64, 16, 16))).shape\n",
    "# torch.Size([128, 64, 16, 16])"
   ]
  },
  {
   "cell_type": "code",
   "execution_count": 15,
   "metadata": {
    "id": "HaggLSvC2OxV"
   },
   "outputs": [],
   "source": [
    "b3 = nn.Sequential(*create_resnet_block(input_filters = 64, output_filters = 128, num_residuals = 2, first_block = True))\n",
    "\n",
    "# b3(torch.normal(mean = 0.0, std = 1.0, size = (128, 64, 16, 16))).shape\n",
    "# torch.Size([128, 128, 8, 8]) "
   ]
  },
  {
   "cell_type": "code",
   "execution_count": null,
   "metadata": {
    "id": "4oluU4WR2OxW"
   },
   "outputs": [],
   "source": [
    "# b4 = nn.Sequential(*create_resnet_block(input_filters = 128, output_filters = 128, num_residuals = 2))\n",
    "\n",
    "# b4(torch.normal(mean = 0, std = 1, size = (128, 128, 8, 8))).shape\n",
    "# torch.Size([128, 128, 8, 8])"
   ]
  },
  {
   "cell_type": "code",
   "execution_count": 16,
   "metadata": {
    "id": "0UMzyOKd2OxW"
   },
   "outputs": [],
   "source": [
    "b5 = nn.Sequential(*create_resnet_block(input_filters = 128, output_filters = 256, num_residuals = 2, first_block = True))\n",
    "\n",
    "# b5(torch.normal(mean = 0, std = 1, size = (128, 128, 8, 8))).shape\n",
    "# torch.Size([128, 256, 4, 4])"
   ]
  },
  {
   "cell_type": "code",
   "execution_count": null,
   "metadata": {
    "id": "3YDcvuuI2OxW"
   },
   "outputs": [],
   "source": [
    "# b6 = nn.Sequential(*create_resnet_block(input_filters = 256, output_filters = 256, num_residuals = 2))\n",
    "\n",
    "# b6(torch.normal(mean = 0, std = 1, size = (128, 256, 4, 4))).shape\n",
    "# torch.Size([128, 256, 4, 4])"
   ]
  },
  {
   "cell_type": "code",
   "execution_count": 17,
   "metadata": {
    "id": "hQERQfhi2OxY"
   },
   "outputs": [],
   "source": [
    "b7 = nn.Sequential(*create_resnet_block(input_filters = 256, output_filters = 512, num_residuals = 2, first_block = True))\n",
    "\n",
    "# b7(torch.normal(mean = 0, std = 1, size = (128, 256, 4, 4))).shape\n",
    "# torch.Size([128, 512, 2, 2])"
   ]
  },
  {
   "cell_type": "code",
   "execution_count": null,
   "metadata": {
    "id": "YWixDNLc2OxY"
   },
   "outputs": [],
   "source": [
    "# b8 = nn.Sequential(*create_resnet_block(input_filters = 512, output_filters = 512, num_residuals = 2))\n",
    "\n",
    "# b8(torch.normal(mean = 0, std = 1, size = (128, 512, 2, 2))).shape\n",
    "# torch.Size([128, 512, 2, 2])"
   ]
  },
  {
   "cell_type": "code",
   "execution_count": null,
   "metadata": {
    "id": "qv7gGZnV2OxY"
   },
   "outputs": [],
   "source": []
  },
  {
   "cell_type": "code",
   "execution_count": null,
   "metadata": {
    "id": "c--SzdhS2OxY"
   },
   "outputs": [],
   "source": [
    "# m = nn.AdaptiveAvgPool2d(output_size = (1, 1))\n",
    "# m(torch.normal(mean = 0, std = 1, size = (128, 512, 2, 2))).shape\n",
    "# torch.Size([128, 512, 1, 1])"
   ]
  },
  {
   "cell_type": "code",
   "execution_count": null,
   "metadata": {
    "id": "s9oR1_-f2OxZ"
   },
   "outputs": [],
   "source": []
  },
  {
   "cell_type": "code",
   "execution_count": null,
   "metadata": {
    "id": "3UUAlf8a2OxZ"
   },
   "outputs": [],
   "source": []
  },
  {
   "cell_type": "code",
   "execution_count": 20,
   "metadata": {
    "id": "-j63mTk82Oxa"
   },
   "outputs": [],
   "source": [
    "# Initialize ResNet-18 model-\n",
    "model = nn.Sequential(\n",
    "    # b0, b1, b2, b3, b4, b5, b6, b7, b8,\n",
    "    b0, b1, b3, b5, b7,\n",
    "    nn.AdaptiveAvgPool2d(output_size = (1, 1)),\n",
    "    nn.Flatten(),\n",
    "    nn.Linear(in_features = 512, out_features = 10))"
   ]
  },
  {
   "cell_type": "code",
   "execution_count": null,
   "metadata": {
    "id": "HdknKw8K2Oxa"
   },
   "outputs": [],
   "source": []
  },
  {
   "cell_type": "code",
   "execution_count": null,
   "metadata": {
    "id": "bUAwmOnz2Oxa"
   },
   "outputs": [],
   "source": []
  },
  {
   "cell_type": "code",
   "execution_count": null,
   "metadata": {
    "id": "kmnid-TX2Oxa"
   },
   "outputs": [],
   "source": []
  },
  {
   "cell_type": "code",
   "execution_count": null,
   "metadata": {
    "id": "ne81c0mosgjW"
   },
   "outputs": [],
   "source": []
  },
  {
   "cell_type": "code",
   "execution_count": null,
   "metadata": {
    "id": "z4kSv3pP43lV"
   },
   "outputs": [],
   "source": [
    "'''\n",
    "def resnet_block(input_channels, num_channels, num_residuals, first_block = False):\n",
    "    blk = []\n",
    "    for i in range(num_residuals):\n",
    "        if i == 0 and not first_block:\n",
    "            blk.append(ResidualBlock(input_channels, num_channels, use_1x1_conv = True, strides = 2))\n",
    "        else:\n",
    "            blk.append(ResidualBlock(num_channels, num_channels))\n",
    "    return blk\n",
    "\n",
    "'''"
   ]
  },
  {
   "cell_type": "code",
   "execution_count": null,
   "metadata": {
    "id": "e91ahzCb49KR"
   },
   "outputs": [],
   "source": [
    "'''\n",
    "b2 = nn.Sequential(*resnet_block(input_channels = 64, num_channels = 64, num_residuals = 2, first_block=True))\n",
    "b3 = nn.Sequential(*resnet_block(input_channels = 64, num_channels = 128, num_residuals = 2))\n",
    "b4 = nn.Sequential(*resnet_block(input_channels = 128, num_channels = 256, num_residuals = 2))\n",
    "b5 = nn.Sequential(*resnet_block(input_channels = 256, num_channels = 512, num_residuals = 2))\n",
    "'''"
   ]
  },
  {
   "cell_type": "code",
   "execution_count": null,
   "metadata": {
    "id": "wuKGdDUV5jN-"
   },
   "outputs": [],
   "source": [
    "'''\n",
    "# Initialize ResNet-18 model-\n",
    "model = nn.Sequential(\n",
    "    b1, b2, b3, b4, b5,\n",
    "    nn.AdaptiveAvgPool2d((1,1)),\n",
    "    nn.Flatten(),\n",
    "    nn.Linear(in_features = 512, out_features = 10))\n",
    "'''"
   ]
  },
  {
   "cell_type": "code",
   "execution_count": null,
   "metadata": {
    "id": "WWuaLk_P2Oxb"
   },
   "outputs": [],
   "source": []
  },
  {
   "cell_type": "code",
   "execution_count": null,
   "metadata": {
    "id": "4fpB1np22Oxc"
   },
   "outputs": [],
   "source": [
    "# model"
   ]
  },
  {
   "cell_type": "code",
   "execution_count": 21,
   "metadata": {
    "colab": {
     "base_uri": "https://localhost:8080/"
    },
    "id": "uWSiHfGx571J",
    "outputId": "6eaa1b19-dbeb-4cf2-9105-1efcd040b687"
   },
   "outputs": [
    {
     "data": {
      "text/plain": [
       "Sequential(\n",
       "  (0): Sequential(\n",
       "    (0): Conv2d(3, 64, kernel_size=(3, 3), stride=(1, 1), padding=(1, 1))\n",
       "    (1): BatchNorm2d(64, eps=1e-05, momentum=0.1, affine=True, track_running_stats=True)\n",
       "    (2): ReLU()\n",
       "  )\n",
       "  (1): Sequential(\n",
       "    (0): ResidualBlock(\n",
       "      (conv1): Conv2d(64, 64, kernel_size=(3, 3), stride=(2, 2), padding=(1, 1), bias=False)\n",
       "      (conv2): Conv2d(64, 64, kernel_size=(3, 3), stride=(1, 1), padding=(1, 1), bias=False)\n",
       "      (conv3): Conv2d(64, 64, kernel_size=(1, 1), stride=(2, 2))\n",
       "      (bn1): BatchNorm2d(64, eps=1e-05, momentum=0.1, affine=True, track_running_stats=True)\n",
       "      (bn2): BatchNorm2d(64, eps=1e-05, momentum=0.1, affine=True, track_running_stats=True)\n",
       "      (relu): ReLU(inplace=True)\n",
       "    )\n",
       "    (1): ResidualBlock(\n",
       "      (conv1): Conv2d(64, 64, kernel_size=(3, 3), stride=(1, 1), padding=(1, 1), bias=False)\n",
       "      (conv2): Conv2d(64, 64, kernel_size=(3, 3), stride=(1, 1), padding=(1, 1), bias=False)\n",
       "      (bn1): BatchNorm2d(64, eps=1e-05, momentum=0.1, affine=True, track_running_stats=True)\n",
       "      (bn2): BatchNorm2d(64, eps=1e-05, momentum=0.1, affine=True, track_running_stats=True)\n",
       "      (relu): ReLU(inplace=True)\n",
       "    )\n",
       "  )\n",
       "  (2): Sequential(\n",
       "    (0): ResidualBlock(\n",
       "      (conv1): Conv2d(64, 128, kernel_size=(3, 3), stride=(2, 2), padding=(1, 1), bias=False)\n",
       "      (conv2): Conv2d(128, 128, kernel_size=(3, 3), stride=(1, 1), padding=(1, 1), bias=False)\n",
       "      (conv3): Conv2d(64, 128, kernel_size=(1, 1), stride=(2, 2))\n",
       "      (bn1): BatchNorm2d(128, eps=1e-05, momentum=0.1, affine=True, track_running_stats=True)\n",
       "      (bn2): BatchNorm2d(128, eps=1e-05, momentum=0.1, affine=True, track_running_stats=True)\n",
       "      (relu): ReLU(inplace=True)\n",
       "    )\n",
       "    (1): ResidualBlock(\n",
       "      (conv1): Conv2d(128, 128, kernel_size=(3, 3), stride=(1, 1), padding=(1, 1), bias=False)\n",
       "      (conv2): Conv2d(128, 128, kernel_size=(3, 3), stride=(1, 1), padding=(1, 1), bias=False)\n",
       "      (bn1): BatchNorm2d(128, eps=1e-05, momentum=0.1, affine=True, track_running_stats=True)\n",
       "      (bn2): BatchNorm2d(128, eps=1e-05, momentum=0.1, affine=True, track_running_stats=True)\n",
       "      (relu): ReLU(inplace=True)\n",
       "    )\n",
       "  )\n",
       "  (3): Sequential(\n",
       "    (0): ResidualBlock(\n",
       "      (conv1): Conv2d(128, 256, kernel_size=(3, 3), stride=(2, 2), padding=(1, 1), bias=False)\n",
       "      (conv2): Conv2d(256, 256, kernel_size=(3, 3), stride=(1, 1), padding=(1, 1), bias=False)\n",
       "      (conv3): Conv2d(128, 256, kernel_size=(1, 1), stride=(2, 2))\n",
       "      (bn1): BatchNorm2d(256, eps=1e-05, momentum=0.1, affine=True, track_running_stats=True)\n",
       "      (bn2): BatchNorm2d(256, eps=1e-05, momentum=0.1, affine=True, track_running_stats=True)\n",
       "      (relu): ReLU(inplace=True)\n",
       "    )\n",
       "    (1): ResidualBlock(\n",
       "      (conv1): Conv2d(256, 256, kernel_size=(3, 3), stride=(1, 1), padding=(1, 1), bias=False)\n",
       "      (conv2): Conv2d(256, 256, kernel_size=(3, 3), stride=(1, 1), padding=(1, 1), bias=False)\n",
       "      (bn1): BatchNorm2d(256, eps=1e-05, momentum=0.1, affine=True, track_running_stats=True)\n",
       "      (bn2): BatchNorm2d(256, eps=1e-05, momentum=0.1, affine=True, track_running_stats=True)\n",
       "      (relu): ReLU(inplace=True)\n",
       "    )\n",
       "  )\n",
       "  (4): Sequential(\n",
       "    (0): ResidualBlock(\n",
       "      (conv1): Conv2d(256, 512, kernel_size=(3, 3), stride=(2, 2), padding=(1, 1), bias=False)\n",
       "      (conv2): Conv2d(512, 512, kernel_size=(3, 3), stride=(1, 1), padding=(1, 1), bias=False)\n",
       "      (conv3): Conv2d(256, 512, kernel_size=(1, 1), stride=(2, 2))\n",
       "      (bn1): BatchNorm2d(512, eps=1e-05, momentum=0.1, affine=True, track_running_stats=True)\n",
       "      (bn2): BatchNorm2d(512, eps=1e-05, momentum=0.1, affine=True, track_running_stats=True)\n",
       "      (relu): ReLU(inplace=True)\n",
       "    )\n",
       "    (1): ResidualBlock(\n",
       "      (conv1): Conv2d(512, 512, kernel_size=(3, 3), stride=(1, 1), padding=(1, 1), bias=False)\n",
       "      (conv2): Conv2d(512, 512, kernel_size=(3, 3), stride=(1, 1), padding=(1, 1), bias=False)\n",
       "      (bn1): BatchNorm2d(512, eps=1e-05, momentum=0.1, affine=True, track_running_stats=True)\n",
       "      (bn2): BatchNorm2d(512, eps=1e-05, momentum=0.1, affine=True, track_running_stats=True)\n",
       "      (relu): ReLU(inplace=True)\n",
       "    )\n",
       "  )\n",
       "  (5): AdaptiveAvgPool2d(output_size=(1, 1))\n",
       "  (6): Flatten(start_dim=1, end_dim=-1)\n",
       "  (7): Linear(in_features=512, out_features=10, bias=True)\n",
       ")"
      ]
     },
     "execution_count": 21,
     "metadata": {
      "tags": []
     },
     "output_type": "execute_result"
    }
   ],
   "source": [
    "# Place model on GPU (if available)-\n",
    "model.to(device)"
   ]
  },
  {
   "cell_type": "code",
   "execution_count": null,
   "metadata": {
    "id": "bqA2Cqb1iod5"
   },
   "outputs": [],
   "source": []
  },
  {
   "cell_type": "code",
   "execution_count": 22,
   "metadata": {
    "id": "dAw820ZEiopu"
   },
   "outputs": [],
   "source": [
    "# Save random initial weights-\n",
    "torch.save(model.state_dict(), '/content/ResNet-18_kaiming_normal_random_weights.pth')"
   ]
  },
  {
   "cell_type": "code",
   "execution_count": null,
   "metadata": {
    "id": "zRokY0Jb9GY7"
   },
   "outputs": [],
   "source": []
  },
  {
   "cell_type": "code",
   "execution_count": null,
   "metadata": {
    "id": "FnV_1kFX2Oxe"
   },
   "outputs": [],
   "source": [
    "# model(images).shape\n",
    "# torch.Size([128, 10])"
   ]
  },
  {
   "cell_type": "code",
   "execution_count": 23,
   "metadata": {
    "colab": {
     "base_uri": "https://localhost:8080/"
    },
    "id": "_s4ve35w7v4o",
    "outputId": "99e25dc0-5507-4e09-bd6f-f39f1fa4888c"
   },
   "outputs": [
    {
     "data": {
      "text/plain": [
       "torch.Size([128, 10])"
      ]
     },
     "execution_count": 23,
     "metadata": {
      "tags": []
     },
     "output_type": "execute_result"
    }
   ],
   "source": [
    "# Sanity check- make predictions using the define model-\n",
    "model(images.to(device)).shape  # don't forget to place images to GPU device"
   ]
  },
  {
   "cell_type": "code",
   "execution_count": null,
   "metadata": {
    "id": "AorzteA37xen"
   },
   "outputs": [],
   "source": []
  },
  {
   "cell_type": "code",
   "execution_count": 24,
   "metadata": {
    "colab": {
     "base_uri": "https://localhost:8080/"
    },
    "id": "1MAEhCMg6Jgf",
    "outputId": "8af13fd6-d8f0-454d-be86-14d441c0c3af"
   },
   "outputs": [
    {
     "name": "stdout",
     "output_type": "stream",
     "text": [
      "layer.shape = torch.Size([64, 3, 3, 3]) has 1728 parameters\n",
      "layer.shape = torch.Size([64]) has 64 parameters\n",
      "layer.shape = torch.Size([64]) has 64 parameters\n",
      "layer.shape = torch.Size([64]) has 64 parameters\n",
      "layer.shape = torch.Size([64, 64, 3, 3]) has 36864 parameters\n",
      "layer.shape = torch.Size([64, 64, 3, 3]) has 36864 parameters\n",
      "layer.shape = torch.Size([64, 64, 1, 1]) has 4096 parameters\n",
      "layer.shape = torch.Size([64]) has 64 parameters\n",
      "layer.shape = torch.Size([64]) has 64 parameters\n",
      "layer.shape = torch.Size([64]) has 64 parameters\n",
      "layer.shape = torch.Size([64]) has 64 parameters\n",
      "layer.shape = torch.Size([64]) has 64 parameters\n",
      "layer.shape = torch.Size([64, 64, 3, 3]) has 36864 parameters\n",
      "layer.shape = torch.Size([64, 64, 3, 3]) has 36864 parameters\n",
      "layer.shape = torch.Size([64]) has 64 parameters\n",
      "layer.shape = torch.Size([64]) has 64 parameters\n",
      "layer.shape = torch.Size([64]) has 64 parameters\n",
      "layer.shape = torch.Size([64]) has 64 parameters\n",
      "layer.shape = torch.Size([128, 64, 3, 3]) has 73728 parameters\n",
      "layer.shape = torch.Size([128, 128, 3, 3]) has 147456 parameters\n",
      "layer.shape = torch.Size([128, 64, 1, 1]) has 8192 parameters\n",
      "layer.shape = torch.Size([128]) has 128 parameters\n",
      "layer.shape = torch.Size([128]) has 128 parameters\n",
      "layer.shape = torch.Size([128]) has 128 parameters\n",
      "layer.shape = torch.Size([128]) has 128 parameters\n",
      "layer.shape = torch.Size([128]) has 128 parameters\n",
      "layer.shape = torch.Size([128, 128, 3, 3]) has 147456 parameters\n",
      "layer.shape = torch.Size([128, 128, 3, 3]) has 147456 parameters\n",
      "layer.shape = torch.Size([128]) has 128 parameters\n",
      "layer.shape = torch.Size([128]) has 128 parameters\n",
      "layer.shape = torch.Size([128]) has 128 parameters\n",
      "layer.shape = torch.Size([128]) has 128 parameters\n",
      "layer.shape = torch.Size([256, 128, 3, 3]) has 294912 parameters\n",
      "layer.shape = torch.Size([256, 256, 3, 3]) has 589824 parameters\n",
      "layer.shape = torch.Size([256, 128, 1, 1]) has 32768 parameters\n",
      "layer.shape = torch.Size([256]) has 256 parameters\n",
      "layer.shape = torch.Size([256]) has 256 parameters\n",
      "layer.shape = torch.Size([256]) has 256 parameters\n",
      "layer.shape = torch.Size([256]) has 256 parameters\n",
      "layer.shape = torch.Size([256]) has 256 parameters\n",
      "layer.shape = torch.Size([256, 256, 3, 3]) has 589824 parameters\n",
      "layer.shape = torch.Size([256, 256, 3, 3]) has 589824 parameters\n",
      "layer.shape = torch.Size([256]) has 256 parameters\n",
      "layer.shape = torch.Size([256]) has 256 parameters\n",
      "layer.shape = torch.Size([256]) has 256 parameters\n",
      "layer.shape = torch.Size([256]) has 256 parameters\n",
      "layer.shape = torch.Size([512, 256, 3, 3]) has 1179648 parameters\n",
      "layer.shape = torch.Size([512, 512, 3, 3]) has 2359296 parameters\n",
      "layer.shape = torch.Size([512, 256, 1, 1]) has 131072 parameters\n",
      "layer.shape = torch.Size([512]) has 512 parameters\n",
      "layer.shape = torch.Size([512]) has 512 parameters\n",
      "layer.shape = torch.Size([512]) has 512 parameters\n",
      "layer.shape = torch.Size([512]) has 512 parameters\n",
      "layer.shape = torch.Size([512]) has 512 parameters\n",
      "layer.shape = torch.Size([512, 512, 3, 3]) has 2359296 parameters\n",
      "layer.shape = torch.Size([512, 512, 3, 3]) has 2359296 parameters\n",
      "layer.shape = torch.Size([512]) has 512 parameters\n",
      "layer.shape = torch.Size([512]) has 512 parameters\n",
      "layer.shape = torch.Size([512]) has 512 parameters\n",
      "layer.shape = torch.Size([512]) has 512 parameters\n",
      "layer.shape = torch.Size([10, 512]) has 5120 parameters\n",
      "layer.shape = torch.Size([10]) has 10 parameters\n"
     ]
    }
   ],
   "source": [
    "# Count number of layer-wise parameters and total parameters-\n",
    "tot_params = 0\n",
    "for param in model.parameters():\n",
    "    print(f\"layer.shape = {param.shape} has {param.nelement()} parameters\")\n",
    "    tot_params += param.nelement()"
   ]
  },
  {
   "cell_type": "code",
   "execution_count": 25,
   "metadata": {
    "colab": {
     "base_uri": "https://localhost:8080/"
    },
    "id": "OZhKgAmv6Lek",
    "outputId": "dc118880-fc80-42fa-d082-dafa73755902"
   },
   "outputs": [
    {
     "name": "stdout",
     "output_type": "stream",
     "text": [
      "Total number of parameters in ResNet-18 = 11177290\n"
     ]
    }
   ],
   "source": [
    "print(f\"Total number of parameters in ResNet-18 = {tot_params}\")"
   ]
  },
  {
   "cell_type": "code",
   "execution_count": null,
   "metadata": {
    "id": "sr3wc1tE6h-9"
   },
   "outputs": [],
   "source": []
  },
  {
   "cell_type": "code",
   "execution_count": 26,
   "metadata": {
    "colab": {
     "base_uri": "https://localhost:8080/"
    },
    "id": "Kfj0fW7d6ZTu",
    "outputId": "cea73ed0-20d7-4ba0-a1d5-ffd741ef0fbe"
   },
   "outputs": [
    {
     "name": "stdout",
     "output_type": "stream",
     "text": [
      "0.0.weight has dimension = torch.Size([64, 3, 3, 3])\n",
      "0.0.bias has dimension = torch.Size([64])\n",
      "0.1.weight has dimension = torch.Size([64])\n",
      "0.1.bias has dimension = torch.Size([64])\n",
      "0.1.running_mean has dimension = torch.Size([64])\n",
      "0.1.running_var has dimension = torch.Size([64])\n",
      "0.1.num_batches_tracked has dimension = torch.Size([])\n",
      "1.0.conv1.weight has dimension = torch.Size([64, 64, 3, 3])\n",
      "1.0.conv2.weight has dimension = torch.Size([64, 64, 3, 3])\n",
      "1.0.conv3.weight has dimension = torch.Size([64, 64, 1, 1])\n",
      "1.0.conv3.bias has dimension = torch.Size([64])\n",
      "1.0.bn1.weight has dimension = torch.Size([64])\n",
      "1.0.bn1.bias has dimension = torch.Size([64])\n",
      "1.0.bn1.running_mean has dimension = torch.Size([64])\n",
      "1.0.bn1.running_var has dimension = torch.Size([64])\n",
      "1.0.bn1.num_batches_tracked has dimension = torch.Size([])\n",
      "1.0.bn2.weight has dimension = torch.Size([64])\n",
      "1.0.bn2.bias has dimension = torch.Size([64])\n",
      "1.0.bn2.running_mean has dimension = torch.Size([64])\n",
      "1.0.bn2.running_var has dimension = torch.Size([64])\n",
      "1.0.bn2.num_batches_tracked has dimension = torch.Size([])\n",
      "1.1.conv1.weight has dimension = torch.Size([64, 64, 3, 3])\n",
      "1.1.conv2.weight has dimension = torch.Size([64, 64, 3, 3])\n",
      "1.1.bn1.weight has dimension = torch.Size([64])\n",
      "1.1.bn1.bias has dimension = torch.Size([64])\n",
      "1.1.bn1.running_mean has dimension = torch.Size([64])\n",
      "1.1.bn1.running_var has dimension = torch.Size([64])\n",
      "1.1.bn1.num_batches_tracked has dimension = torch.Size([])\n",
      "1.1.bn2.weight has dimension = torch.Size([64])\n",
      "1.1.bn2.bias has dimension = torch.Size([64])\n",
      "1.1.bn2.running_mean has dimension = torch.Size([64])\n",
      "1.1.bn2.running_var has dimension = torch.Size([64])\n",
      "1.1.bn2.num_batches_tracked has dimension = torch.Size([])\n",
      "2.0.conv1.weight has dimension = torch.Size([128, 64, 3, 3])\n",
      "2.0.conv2.weight has dimension = torch.Size([128, 128, 3, 3])\n",
      "2.0.conv3.weight has dimension = torch.Size([128, 64, 1, 1])\n",
      "2.0.conv3.bias has dimension = torch.Size([128])\n",
      "2.0.bn1.weight has dimension = torch.Size([128])\n",
      "2.0.bn1.bias has dimension = torch.Size([128])\n",
      "2.0.bn1.running_mean has dimension = torch.Size([128])\n",
      "2.0.bn1.running_var has dimension = torch.Size([128])\n",
      "2.0.bn1.num_batches_tracked has dimension = torch.Size([])\n",
      "2.0.bn2.weight has dimension = torch.Size([128])\n",
      "2.0.bn2.bias has dimension = torch.Size([128])\n",
      "2.0.bn2.running_mean has dimension = torch.Size([128])\n",
      "2.0.bn2.running_var has dimension = torch.Size([128])\n",
      "2.0.bn2.num_batches_tracked has dimension = torch.Size([])\n",
      "2.1.conv1.weight has dimension = torch.Size([128, 128, 3, 3])\n",
      "2.1.conv2.weight has dimension = torch.Size([128, 128, 3, 3])\n",
      "2.1.bn1.weight has dimension = torch.Size([128])\n",
      "2.1.bn1.bias has dimension = torch.Size([128])\n",
      "2.1.bn1.running_mean has dimension = torch.Size([128])\n",
      "2.1.bn1.running_var has dimension = torch.Size([128])\n",
      "2.1.bn1.num_batches_tracked has dimension = torch.Size([])\n",
      "2.1.bn2.weight has dimension = torch.Size([128])\n",
      "2.1.bn2.bias has dimension = torch.Size([128])\n",
      "2.1.bn2.running_mean has dimension = torch.Size([128])\n",
      "2.1.bn2.running_var has dimension = torch.Size([128])\n",
      "2.1.bn2.num_batches_tracked has dimension = torch.Size([])\n",
      "3.0.conv1.weight has dimension = torch.Size([256, 128, 3, 3])\n",
      "3.0.conv2.weight has dimension = torch.Size([256, 256, 3, 3])\n",
      "3.0.conv3.weight has dimension = torch.Size([256, 128, 1, 1])\n",
      "3.0.conv3.bias has dimension = torch.Size([256])\n",
      "3.0.bn1.weight has dimension = torch.Size([256])\n",
      "3.0.bn1.bias has dimension = torch.Size([256])\n",
      "3.0.bn1.running_mean has dimension = torch.Size([256])\n",
      "3.0.bn1.running_var has dimension = torch.Size([256])\n",
      "3.0.bn1.num_batches_tracked has dimension = torch.Size([])\n",
      "3.0.bn2.weight has dimension = torch.Size([256])\n",
      "3.0.bn2.bias has dimension = torch.Size([256])\n",
      "3.0.bn2.running_mean has dimension = torch.Size([256])\n",
      "3.0.bn2.running_var has dimension = torch.Size([256])\n",
      "3.0.bn2.num_batches_tracked has dimension = torch.Size([])\n",
      "3.1.conv1.weight has dimension = torch.Size([256, 256, 3, 3])\n",
      "3.1.conv2.weight has dimension = torch.Size([256, 256, 3, 3])\n",
      "3.1.bn1.weight has dimension = torch.Size([256])\n",
      "3.1.bn1.bias has dimension = torch.Size([256])\n",
      "3.1.bn1.running_mean has dimension = torch.Size([256])\n",
      "3.1.bn1.running_var has dimension = torch.Size([256])\n",
      "3.1.bn1.num_batches_tracked has dimension = torch.Size([])\n",
      "3.1.bn2.weight has dimension = torch.Size([256])\n",
      "3.1.bn2.bias has dimension = torch.Size([256])\n",
      "3.1.bn2.running_mean has dimension = torch.Size([256])\n",
      "3.1.bn2.running_var has dimension = torch.Size([256])\n",
      "3.1.bn2.num_batches_tracked has dimension = torch.Size([])\n",
      "4.0.conv1.weight has dimension = torch.Size([512, 256, 3, 3])\n",
      "4.0.conv2.weight has dimension = torch.Size([512, 512, 3, 3])\n",
      "4.0.conv3.weight has dimension = torch.Size([512, 256, 1, 1])\n",
      "4.0.conv3.bias has dimension = torch.Size([512])\n",
      "4.0.bn1.weight has dimension = torch.Size([512])\n",
      "4.0.bn1.bias has dimension = torch.Size([512])\n",
      "4.0.bn1.running_mean has dimension = torch.Size([512])\n",
      "4.0.bn1.running_var has dimension = torch.Size([512])\n",
      "4.0.bn1.num_batches_tracked has dimension = torch.Size([])\n",
      "4.0.bn2.weight has dimension = torch.Size([512])\n",
      "4.0.bn2.bias has dimension = torch.Size([512])\n",
      "4.0.bn2.running_mean has dimension = torch.Size([512])\n",
      "4.0.bn2.running_var has dimension = torch.Size([512])\n",
      "4.0.bn2.num_batches_tracked has dimension = torch.Size([])\n",
      "4.1.conv1.weight has dimension = torch.Size([512, 512, 3, 3])\n",
      "4.1.conv2.weight has dimension = torch.Size([512, 512, 3, 3])\n",
      "4.1.bn1.weight has dimension = torch.Size([512])\n",
      "4.1.bn1.bias has dimension = torch.Size([512])\n",
      "4.1.bn1.running_mean has dimension = torch.Size([512])\n",
      "4.1.bn1.running_var has dimension = torch.Size([512])\n",
      "4.1.bn1.num_batches_tracked has dimension = torch.Size([])\n",
      "4.1.bn2.weight has dimension = torch.Size([512])\n",
      "4.1.bn2.bias has dimension = torch.Size([512])\n",
      "4.1.bn2.running_mean has dimension = torch.Size([512])\n",
      "4.1.bn2.running_var has dimension = torch.Size([512])\n",
      "4.1.bn2.num_batches_tracked has dimension = torch.Size([])\n",
      "7.weight has dimension = torch.Size([10, 512])\n",
      "7.bias has dimension = torch.Size([10])\n"
     ]
    }
   ],
   "source": [
    "# Print layer names-\n",
    "for layer in model.state_dict().keys():\n",
    "    print(f\"{layer} has dimension = {model.state_dict()[layer].shape}\")"
   ]
  },
  {
   "cell_type": "code",
   "execution_count": null,
   "metadata": {
    "id": "I4a0dM1X6aIO"
   },
   "outputs": [],
   "source": []
  },
  {
   "cell_type": "code",
   "execution_count": null,
   "metadata": {
    "colab": {
     "base_uri": "https://localhost:8080/"
    },
    "id": "FdSxeVmw61a2",
    "outputId": "34ceda0e-4f51-4d7d-af77-b993d038e789"
   },
   "outputs": [
    {
     "data": {
      "text/plain": [
       "torch.Size([128, 3, 32, 32])"
      ]
     },
     "execution_count": 34,
     "metadata": {
      "tags": []
     },
     "output_type": "execute_result"
    }
   ],
   "source": [
    "X = images\n",
    "X.shape"
   ]
  },
  {
   "cell_type": "code",
   "execution_count": null,
   "metadata": {
    "id": "PoNDt1g1asSL"
   },
   "outputs": [],
   "source": [
    "X.to(device) # place on device"
   ]
  },
  {
   "cell_type": "code",
   "execution_count": null,
   "metadata": {
    "id": "hibgJ3bK6t_x",
    "outputId": "f827876a-0361-45f2-f048-640bb29b86fa"
   },
   "outputs": [
    {
     "name": "stdout",
     "output_type": "stream",
     "text": [
      "Sequential output shape:\t torch.Size([128, 64, 32, 32])\n",
      "Sequential output shape:\t torch.Size([128, 64, 16, 16])\n",
      "Sequential output shape:\t torch.Size([128, 128, 8, 8])\n",
      "Sequential output shape:\t torch.Size([128, 256, 4, 4])\n",
      "Sequential output shape:\t torch.Size([128, 512, 2, 2])\n",
      "AdaptiveAvgPool2d output shape:\t torch.Size([128, 512, 1, 1])\n",
      "Flatten output shape:\t torch.Size([128, 512])\n",
      "Linear output shape:\t torch.Size([128, 10])\n"
     ]
    }
   ],
   "source": [
    "'''\n",
    "Before training ResNet-18, let us observe how the input shape changes across\n",
    "different modules in ResNet.\n",
    "As in all the previous architectures, the resolution decreases while the number\n",
    "of channels increases up until the point where a global average pooling layer\n",
    "aggregates all features.\n",
    "'''\n",
    "for layer in model:\n",
    "    # X.to(device)\n",
    "    X = layer(X)\n",
    "    print(layer.__class__.__name__,'output shape:\\t', X.shape)"
   ]
  },
  {
   "cell_type": "code",
   "execution_count": null,
   "metadata": {
    "id": "JrfgxzRW63_n"
   },
   "outputs": [],
   "source": []
  },
  {
   "cell_type": "code",
   "execution_count": 27,
   "metadata": {
    "colab": {
     "base_uri": "https://localhost:8080/"
    },
    "id": "B9NmMAbq665P",
    "outputId": "be3ed131-aa55-4bf3-f5cf-53dc12e54fe8"
   },
   "outputs": [
    {
     "data": {
      "text/plain": [
       "torch.Size([128, 10])"
      ]
     },
     "execution_count": 27,
     "metadata": {
      "tags": []
     },
     "output_type": "execute_result"
    }
   ],
   "source": [
    "model(images.to(device)).shape"
   ]
  },
  {
   "cell_type": "code",
   "execution_count": 27,
   "metadata": {
    "id": "aaAquRSp7QPo"
   },
   "outputs": [],
   "source": []
  },
  {
   "cell_type": "code",
   "execution_count": 27,
   "metadata": {
    "id": "_HBZJ-Sf3ICP"
   },
   "outputs": [],
   "source": []
  },
  {
   "cell_type": "markdown",
   "metadata": {
    "id": "phykZu_z3I3x"
   },
   "source": [
    "**Train ResNet-18 CNN model:**"
   ]
  },
  {
   "cell_type": "code",
   "execution_count": 28,
   "metadata": {
    "id": "2RJCSMIu7Qq3"
   },
   "outputs": [],
   "source": [
    "# User input parameters for Early Stopping in manual implementation-\n",
    "minimum_delta = 0.001\n",
    "patience = 3"
   ]
  },
  {
   "cell_type": "code",
   "execution_count": 29,
   "metadata": {
    "id": "VV1n1FEy7RF2"
   },
   "outputs": [],
   "source": [
    "# Initialize parameters for Early Stopping manual implementation-\n",
    "best_val_loss = 100\n",
    "loc_patience = 0"
   ]
  },
  {
   "cell_type": "code",
   "execution_count": 30,
   "metadata": {
    "id": "uDRViiLq9nil"
   },
   "outputs": [],
   "source": [
    "# Define loss function and optimizer-\n",
    "loss = nn.CrossEntropyLoss()\n",
    "\n",
    "# optimizer = torch.optim.Adam(model.parameters(), lr = learning_rate)\n",
    "optimizer = torch.optim.SGD(model.parameters(), lr = 0.01, momentum = 0.9, weight_decay = 5e-4)"
   ]
  },
  {
   "cell_type": "code",
   "execution_count": 31,
   "metadata": {
    "id": "iQ_r9pC87Sqz"
   },
   "outputs": [],
   "source": [
    "# Python3 lists to store model training metrics-\n",
    "training_acc = []\n",
    "validation_acc = []\n",
    "training_loss = []\n",
    "validation_loss = []"
   ]
  },
  {
   "cell_type": "code",
   "execution_count": 32,
   "metadata": {
    "colab": {
     "base_uri": "https://localhost:8080/"
    },
    "id": "KCpxY0aM7UZe",
    "outputId": "c4125b6d-e3a6-480a-a423-91e04a4eda8a"
   },
   "outputs": [
    {
     "name": "stdout",
     "output_type": "stream",
     "text": [
      "\n",
      "epoch: 1 training loss = 1.6627, training accuracy = 38.94%, val_loss = 1.4392 & val_accuracy = 47.74%\n",
      "\n",
      "\n",
      "epoch: 2 training loss = 1.3137, training accuracy = 52.25%, val_loss = 1.1986 & val_accuracy = 57.20%\n",
      "\n",
      "\n",
      "epoch: 3 training loss = 1.1387, training accuracy = 59.12%, val_loss = 1.1296 & val_accuracy = 60.13%\n",
      "\n",
      "\n",
      "epoch: 4 training loss = 1.0034, training accuracy = 64.14%, val_loss = 0.9588 & val_accuracy = 65.85%\n",
      "\n",
      "\n",
      "epoch: 5 training loss = 0.9009, training accuracy = 68.07%, val_loss = 0.8130 & val_accuracy = 71.13%\n",
      "\n",
      "\n",
      "epoch: 6 training loss = 0.8091, training accuracy = 71.42%, val_loss = 0.7553 & val_accuracy = 73.16%\n",
      "\n",
      "\n",
      "epoch: 7 training loss = 0.7392, training accuracy = 73.85%, val_loss = 0.7574 & val_accuracy = 74.09%\n",
      "\n",
      "\n",
      "epoch: 8 training loss = 0.6788, training accuracy = 76.21%, val_loss = 0.6521 & val_accuracy = 76.84%\n",
      "\n",
      "\n",
      "epoch: 9 training loss = 0.6314, training accuracy = 77.92%, val_loss = 0.7096 & val_accuracy = 75.44%\n",
      "\n",
      "\n",
      "epoch: 10 training loss = 0.5875, training accuracy = 79.41%, val_loss = 0.6537 & val_accuracy = 77.92%\n",
      "\n",
      "\n",
      "epoch: 11 training loss = 0.5513, training accuracy = 80.76%, val_loss = 0.6098 & val_accuracy = 79.39%\n",
      "\n",
      "\n",
      "epoch: 12 training loss = 0.5215, training accuracy = 81.62%, val_loss = 0.5472 & val_accuracy = 81.34%\n",
      "\n",
      "\n",
      "epoch: 13 training loss = 0.4948, training accuracy = 82.64%, val_loss = 0.5381 & val_accuracy = 81.44%\n",
      "\n",
      "\n",
      "epoch: 14 training loss = 0.4771, training accuracy = 83.34%, val_loss = 0.5208 & val_accuracy = 82.21%\n",
      "\n",
      "\n",
      "epoch: 15 training loss = 0.4444, training accuracy = 84.45%, val_loss = 0.5405 & val_accuracy = 81.85%\n",
      "\n",
      "\n",
      "epoch: 16 training loss = 0.4266, training accuracy = 85.00%, val_loss = 0.4868 & val_accuracy = 83.53%\n",
      "\n",
      "\n",
      "epoch: 17 training loss = 0.4098, training accuracy = 85.56%, val_loss = 0.4975 & val_accuracy = 83.29%\n",
      "\n",
      "\n",
      "epoch: 18 training loss = 0.3915, training accuracy = 86.35%, val_loss = 0.5219 & val_accuracy = 82.50%\n",
      "\n",
      "\n",
      "epoch: 19 training loss = 0.3727, training accuracy = 86.99%, val_loss = 0.4809 & val_accuracy = 83.49%\n",
      "\n",
      "\n",
      "epoch: 20 training loss = 0.3634, training accuracy = 87.26%, val_loss = 0.5069 & val_accuracy = 83.37%\n",
      "\n",
      "\n",
      "epoch: 21 training loss = 0.3467, training accuracy = 87.76%, val_loss = 0.4515 & val_accuracy = 84.91%\n",
      "\n",
      "\n",
      "epoch: 22 training loss = 0.3306, training accuracy = 88.44%, val_loss = 0.4636 & val_accuracy = 84.67%\n",
      "\n",
      "\n",
      "epoch: 23 training loss = 0.3201, training accuracy = 88.77%, val_loss = 0.5065 & val_accuracy = 83.41%\n",
      "\n",
      "\n",
      "epoch: 24 training loss = 0.3094, training accuracy = 89.13%, val_loss = 0.5151 & val_accuracy = 84.01%\n",
      "\n",
      "\n",
      "'EarlyStopping' called!\n",
      "\n"
     ]
    }
   ],
   "source": [
    "for epoch in range(num_epochs):\n",
    "    running_loss = 0.0\n",
    "    running_corrects = 0.0\n",
    "    running_loss_val = 0.0\n",
    "    \n",
    "    if loc_patience >= patience:\n",
    "        print(\"\\n'EarlyStopping' called!\\n\")\n",
    "        break\n",
    "    \n",
    "    \n",
    "    for batch, (images, labels) in enumerate(train_loader):\n",
    "        # Attempt to push to GPU if available\n",
    "        images = images.to(device)\n",
    "        labels = labels.to(device)\n",
    "\n",
    "        model.train()\n",
    "\n",
    "        # Forward pass-\n",
    "        outputs = model(images)\n",
    "\n",
    "        # Compute loss-\n",
    "        J = loss(outputs, labels)\n",
    "\n",
    "        # Backward pass-\n",
    "        optimizer.zero_grad()   # empty accumulated gradients\n",
    "\n",
    "        J.backward()    # does backprop\n",
    "\n",
    "        # Updates parameters-\n",
    "        optimizer.step()\n",
    "        \n",
    "        # Compute model's performance statistics-\n",
    "        running_loss += J.item() * images.size(0)\n",
    "        _, predicted = torch.max(outputs, 1)\n",
    "        running_corrects += torch.sum(predicted == labels.data)\n",
    "\n",
    "        '''\n",
    "        # Print information every 100 steps-\n",
    "        if (batch + 1) % 100 == 0:\n",
    "            print(f\"epoch {epoch + 1}/{num_epochs}, step {batch + 1}/{num_training_steps}, loss = {J.item():.4f}\")\n",
    "        '''\n",
    "\n",
    "    epoch_loss = running_loss / len(train_dataset)\n",
    "    epoch_acc = running_corrects.double() / len(train_dataset)\n",
    "    # print(f\"\\nepoch: {epoch + 1} training loss = {epoch_loss:.4f}, training accuracy = {epoch_acc * 100:.2f}%\\n\")\n",
    "\n",
    "    total = 0\n",
    "    correct = 0\n",
    "    \n",
    "    with torch.no_grad():\n",
    "        for images, labels in test_loader:\n",
    "\n",
    "            # Place features (images) and targets (labels) to GPU-\n",
    "            images = images.to(device)\n",
    "            labels = labels.to(device)\n",
    "            # print(f\"images.shape = {images.shape}, labels.shape = {labels.shape}\")\n",
    "\n",
    "            # Set model to evaluation mode-\n",
    "            model.eval()\n",
    "    \n",
    "            # Make predictions using trained model-\n",
    "            outputs = model(images)\n",
    "            _, y_pred = torch.max(outputs, 1)\n",
    "\n",
    "            # Compute validation loss-\n",
    "            J_val = loss(outputs, labels)\n",
    "\n",
    "            running_loss_val += J_val.item() * labels.size(0)\n",
    "    \n",
    "            # Total number of labels-\n",
    "            total += labels.size(0)\n",
    "\n",
    "            # Total number of correct predictions-\n",
    "            correct += (y_pred == labels).sum()\n",
    "\n",
    "    epoch_val_loss = running_loss_val / len(test_dataset)\n",
    "    val_acc = 100 * (correct / total)\n",
    "    print(f\"\\nepoch: {epoch + 1} training loss = {epoch_loss:.4f}, training accuracy = {epoch_acc * 100:.2f}%, val_loss = {epoch_val_loss:.4f} & val_accuracy = {val_acc:.2f}%\\n\")\n",
    "\n",
    "    # Code for manual Early Stopping:\n",
    "    if np.abs(epoch_val_loss < best_val_loss) >= minimum_delta:\n",
    "        # update 'best_val_loss' variable to lowest loss encountered so far-\n",
    "        best_val_loss = epoch_val_loss\n",
    "        \n",
    "        # reset 'loc_patience' variable-\n",
    "        loc_patience = 0\n",
    "        \n",
    "    else:  # there is no improvement in monitored metric 'val_loss'\n",
    "        loc_patience += 1  # number of epochs without any improvement\n",
    "\n",
    "\n",
    "    training_acc.append(epoch_acc * 100)\n",
    "    validation_acc.append(val_acc)\n",
    "    training_loss.append(epoch_loss)\n",
    "    validation_loss.append(epoch_val_loss)"
   ]
  },
  {
   "cell_type": "code",
   "execution_count": null,
   "metadata": {
    "id": "p8NasNEb7dAv"
   },
   "outputs": [],
   "source": []
  },
  {
   "cell_type": "code",
   "execution_count": 34,
   "metadata": {
    "colab": {
     "base_uri": "https://localhost:8080/"
    },
    "id": "HmxiGSdaeydX",
    "outputId": "2a9f449a-6bc8-4771-e09c-4bb459bb3cad"
   },
   "outputs": [
    {
     "name": "stdout",
     "output_type": "stream",
     "text": [
      "\n",
      "ResNet-18 CNN training on CIFAR-10 is complete\n",
      "\n"
     ]
    }
   ],
   "source": [
    "print(f\"\\nResNet-18 CNN training on CIFAR-10 is complete\\n\")"
   ]
  },
  {
   "cell_type": "code",
   "execution_count": null,
   "metadata": {
    "id": "S_OtCHkh7iGc"
   },
   "outputs": [],
   "source": []
  },
  {
   "cell_type": "code",
   "execution_count": 35,
   "metadata": {
    "id": "vGaQyp_y_ZOm"
   },
   "outputs": [],
   "source": [
    "# Variables for computing model metrics-\n",
    "total = 0\n",
    "correct = 0"
   ]
  },
  {
   "cell_type": "code",
   "execution_count": 37,
   "metadata": {
    "colab": {
     "base_uri": "https://localhost:8080/"
    },
    "id": "oH3tFJAx_Zfn",
    "outputId": "39759eab-06b2-4498-a711-8b7300e20445"
   },
   "outputs": [
    {
     "name": "stdout",
     "output_type": "stream",
     "text": [
      "ResNet-18 trained CNN's validation metrics on CIFAR-10 are:\n",
      "accuracy = 84.01%, # of correct labels = 16802 & total # of labels = 20000\n"
     ]
    }
   ],
   "source": [
    "# Evaluate trained CNN model. We don't want these operations to be tracked in\n",
    "# the computational graph. Hence wrap these operations in-\n",
    "with torch.no_grad():\n",
    "    for images, labels in test_loader:\n",
    "\n",
    "        # Place features (images) and targets (labels) to GPU-\n",
    "        images = images.to(device)\n",
    "        labels = labels.to(device)\n",
    "        # print(f\"images.shape = {images.shape}, labels.shape = {labels.shape}\")\n",
    "\n",
    "        # Set model to evaluation mode-\n",
    "        model.eval()\n",
    "\n",
    "        # Make predictions using trained model-\n",
    "        outputs = model(images)\n",
    "        _, y_pred = torch.max(outputs, 1)\n",
    "    \n",
    "        # Total number of labels-\n",
    "        total += labels.size(0)\n",
    "\n",
    "        # Total number of correct predictions-\n",
    "        correct += (y_pred == labels).sum()\n",
    "\n",
    "    val_acc = 100 * (correct / total)\n",
    "    print(f\"ResNet-18 trained CNN's validation metrics on CIFAR-10 are:\")\n",
    "    print(f\"accuracy = {val_acc:.2f}%, # of correct labels = {correct} & total # of labels = {total}\")\n"
   ]
  },
  {
   "cell_type": "code",
   "execution_count": null,
   "metadata": {
    "id": "EjdJ2u1-_bY7"
   },
   "outputs": [],
   "source": []
  },
  {
   "cell_type": "code",
   "execution_count": 38,
   "metadata": {
    "colab": {
     "base_uri": "https://localhost:8080/",
     "height": 504
    },
    "id": "-JdO8qEj_mGq",
    "outputId": "7ab911c4-adb4-47f6-901e-1af5e1fd873b"
   },
   "outputs": [
    {
     "data": {
      "image/png": "[encoded data removed]",
      "text/plain": [
       "<Figure size 720x560 with 1 Axes>"
      ]
     },
     "metadata": {
      "tags": []
     },
     "output_type": "display_data"
    }
   ],
   "source": [
    "# Visualize training metrics-\n",
    "fig=plt.figure(figsize=(9, 7), dpi= 80, facecolor='w', edgecolor='k')\n",
    "\n",
    "plt.plot(np.asarray(training_acc), label = 'training accuracy')\n",
    "plt.plot(np.asarray(validation_acc), label = 'validation accuracy')\n",
    "\n",
    "plt.title(\"ResNet-18 (CIFAR-10) - Accuracy\")\n",
    "plt.xlabel(\"number of epochs\")\n",
    "plt.ylabel(\"accuracy (%)\")\n",
    "# plt.xlim((0, 20))\n",
    "plt.legend(loc = 'best')\n",
    "plt.show()\n"
   ]
  },
  {
   "cell_type": "code",
   "execution_count": null,
   "metadata": {
    "id": "90POx9Kc_p3g"
   },
   "outputs": [],
   "source": []
  },
  {
   "cell_type": "code",
   "execution_count": 39,
   "metadata": {
    "colab": {
     "base_uri": "https://localhost:8080/",
     "height": 504
    },
    "id": "Dg0oPaUy_rl4",
    "outputId": "aa7cb0cb-ca46-4e28-e5ca-d9e374dc3c29"
   },
   "outputs": [
    {
     "data": {
      "image/png": "[encoded data removed]",
      "text/plain": [
       "<Figure size 720x560 with 1 Axes>"
      ]
     },
     "metadata": {
      "tags": []
     },
     "output_type": "display_data"
    }
   ],
   "source": [
    "fig=plt.figure(figsize=(9, 7), dpi= 80, facecolor='w', edgecolor='k')\n",
    "\n",
    "plt.plot(np.asarray(training_loss), label = 'training loss')\n",
    "plt.plot(np.asarray(validation_loss), label = 'validation loss')\n",
    "\n",
    "plt.title(\"ResNet-18 (CIFAR-10) - Loss\")\n",
    "plt.xlabel(\"number of epochs\")\n",
    "plt.ylabel(\"loss\")\n",
    "plt.legend(loc = 'best')\n",
    "plt.show()"
   ]
  },
  {
   "cell_type": "code",
   "execution_count": null,
   "metadata": {
    "id": "MyaHljFH_tuw"
   },
   "outputs": [],
   "source": []
  },
  {
   "cell_type": "code",
   "execution_count": null,
   "metadata": {
    "id": "qVaZXghXfj4d"
   },
   "outputs": [],
   "source": []
  },
  {
   "cell_type": "markdown",
   "metadata": {
    "id": "zoSllxcRfki6"
   },
   "source": [
    "**Save Trained model**"
   ]
  },
  {
   "cell_type": "code",
   "execution_count": 40,
   "metadata": {
    "colab": {
     "base_uri": "https://localhost:8080/",
     "height": 36
    },
    "id": "o4yjPSl7fnbn",
    "outputId": "63b1c534-a405-4c69-844a-be82c093fee8"
   },
   "outputs": [
    {
     "data": {
      "application/vnd.google.colaboratory.intrinsic+json": {
       "type": "string"
      },
      "text/plain": [
       "'/content'"
      ]
     },
     "execution_count": 40,
     "metadata": {
      "tags": []
     },
     "output_type": "execute_result"
    }
   ],
   "source": [
    "os.getcwd()"
   ]
  },
  {
   "cell_type": "code",
   "execution_count": 41,
   "metadata": {
    "id": "3XzUhuWff2BB"
   },
   "outputs": [],
   "source": [
    "# Save trained ResNet model to HDD for later use-\n",
    "torch.save(model.state_dict(), '/content/ResNet-18_kaiming_normal_trained.pth')"
   ]
  },
  {
   "cell_type": "code",
   "execution_count": null,
   "metadata": {
    "id": "9w6JuE2cgMET"
   },
   "outputs": [],
   "source": [
    "# Save entire ResNet model to HDD for later use-\n",
    "# torch.save(model.state_dict(), '/content/ResNet-22_trained_entire_model.pth')"
   ]
  },
  {
   "cell_type": "code",
   "execution_count": null,
   "metadata": {
    "id": "73UfNzfagQN_"
   },
   "outputs": [],
   "source": []
  },
  {
   "cell_type": "code",
   "execution_count": null,
   "metadata": {
    "id": "IFZ3mzJ8gjRz"
   },
   "outputs": [],
   "source": []
  },
  {
   "cell_type": "code",
   "execution_count": null,
   "metadata": {
    "id": "nEHuLpQggb7g"
   },
   "outputs": [],
   "source": [
    "# Initialize ResNet-18 model for testing trained model-\n",
    "\n",
    "# Initialize ResNet-18 model for randomly initialized weights-\n",
    "model_random = nn.Sequential(\n",
    "    b1, b2, b3, b4, b5,\n",
    "    nn.AdaptiveAvgPool2d((1,1)),\n",
    "    nn.Flatten(),\n",
    "    nn.Linear(in_features = 512, out_features = 10))"
   ]
  },
  {
   "cell_type": "code",
   "execution_count": null,
   "metadata": {
    "colab": {
     "base_uri": "https://localhost:8080/"
    },
    "id": "IlKNUJsS5KCc",
    "outputId": "34e0896f-3730-4146-dcf6-ee3bf9324e8a"
   },
   "outputs": [
    {
     "data": {
      "text/plain": [
       "<All keys matched successfully>"
      ]
     },
     "execution_count": 56,
     "metadata": {
      "tags": []
     },
     "output_type": "execute_result"
    }
   ],
   "source": [
    "# Load random weights-\n",
    "model_random.load_state_dict(torch.load('/content/ResNet-18_kaiming_normal_random_weights.pth'))"
   ]
  },
  {
   "cell_type": "code",
   "execution_count": null,
   "metadata": {
    "colab": {
     "base_uri": "https://localhost:8080/"
    },
    "id": "iLnJBkAH5Yxm",
    "outputId": "e061a8fa-2349-4bd9-8d1a-18ef5b17a850"
   },
   "outputs": [
    {
     "data": {
      "text/plain": [
       "Sequential(\n",
       "  (0): Sequential(\n",
       "    (0): Conv2d(3, 64, kernel_size=(7, 7), stride=(2, 2), padding=(3, 3))\n",
       "    (1): BatchNorm2d(64, eps=1e-05, momentum=0.1, affine=True, track_running_stats=True)\n",
       "    (2): ReLU()\n",
       "    (3): MaxPool2d(kernel_size=3, stride=2, padding=1, dilation=1, ceil_mode=False)\n",
       "  )\n",
       "  (1): Sequential(\n",
       "    (0): ResidualBlock(\n",
       "      (conv1): Conv2d(64, 64, kernel_size=(3, 3), stride=(1, 1), padding=(1, 1), bias=False)\n",
       "      (conv2): Conv2d(64, 64, kernel_size=(3, 3), stride=(1, 1), padding=(1, 1), bias=False)\n",
       "      (bn1): BatchNorm2d(64, eps=1e-05, momentum=0.1, affine=True, track_running_stats=True)\n",
       "      (bn2): BatchNorm2d(64, eps=1e-05, momentum=0.1, affine=True, track_running_stats=True)\n",
       "      (relu): ReLU(inplace=True)\n",
       "    )\n",
       "    (1): ResidualBlock(\n",
       "      (conv1): Conv2d(64, 64, kernel_size=(3, 3), stride=(1, 1), padding=(1, 1), bias=False)\n",
       "      (conv2): Conv2d(64, 64, kernel_size=(3, 3), stride=(1, 1), padding=(1, 1), bias=False)\n",
       "      (bn1): BatchNorm2d(64, eps=1e-05, momentum=0.1, affine=True, track_running_stats=True)\n",
       "      (bn2): BatchNorm2d(64, eps=1e-05, momentum=0.1, affine=True, track_running_stats=True)\n",
       "      (relu): ReLU(inplace=True)\n",
       "    )\n",
       "  )\n",
       "  (2): Sequential(\n",
       "    (0): ResidualBlock(\n",
       "      (conv1): Conv2d(64, 128, kernel_size=(3, 3), stride=(2, 2), padding=(1, 1), bias=False)\n",
       "      (conv2): Conv2d(128, 128, kernel_size=(3, 3), stride=(1, 1), padding=(1, 1), bias=False)\n",
       "      (conv3): Conv2d(64, 128, kernel_size=(1, 1), stride=(2, 2))\n",
       "      (bn1): BatchNorm2d(128, eps=1e-05, momentum=0.1, affine=True, track_running_stats=True)\n",
       "      (bn2): BatchNorm2d(128, eps=1e-05, momentum=0.1, affine=True, track_running_stats=True)\n",
       "      (relu): ReLU(inplace=True)\n",
       "    )\n",
       "    (1): ResidualBlock(\n",
       "      (conv1): Conv2d(128, 128, kernel_size=(3, 3), stride=(1, 1), padding=(1, 1), bias=False)\n",
       "      (conv2): Conv2d(128, 128, kernel_size=(3, 3), stride=(1, 1), padding=(1, 1), bias=False)\n",
       "      (bn1): BatchNorm2d(128, eps=1e-05, momentum=0.1, affine=True, track_running_stats=True)\n",
       "      (bn2): BatchNorm2d(128, eps=1e-05, momentum=0.1, affine=True, track_running_stats=True)\n",
       "      (relu): ReLU(inplace=True)\n",
       "    )\n",
       "  )\n",
       "  (3): Sequential(\n",
       "    (0): ResidualBlock(\n",
       "      (conv1): Conv2d(128, 256, kernel_size=(3, 3), stride=(2, 2), padding=(1, 1), bias=False)\n",
       "      (conv2): Conv2d(256, 256, kernel_size=(3, 3), stride=(1, 1), padding=(1, 1), bias=False)\n",
       "      (conv3): Conv2d(128, 256, kernel_size=(1, 1), stride=(2, 2))\n",
       "      (bn1): BatchNorm2d(256, eps=1e-05, momentum=0.1, affine=True, track_running_stats=True)\n",
       "      (bn2): BatchNorm2d(256, eps=1e-05, momentum=0.1, affine=True, track_running_stats=True)\n",
       "      (relu): ReLU(inplace=True)\n",
       "    )\n",
       "    (1): ResidualBlock(\n",
       "      (conv1): Conv2d(256, 256, kernel_size=(3, 3), stride=(1, 1), padding=(1, 1), bias=False)\n",
       "      (conv2): Conv2d(256, 256, kernel_size=(3, 3), stride=(1, 1), padding=(1, 1), bias=False)\n",
       "      (bn1): BatchNorm2d(256, eps=1e-05, momentum=0.1, affine=True, track_running_stats=True)\n",
       "      (bn2): BatchNorm2d(256, eps=1e-05, momentum=0.1, affine=True, track_running_stats=True)\n",
       "      (relu): ReLU(inplace=True)\n",
       "    )\n",
       "  )\n",
       "  (4): Sequential(\n",
       "    (0): ResidualBlock(\n",
       "      (conv1): Conv2d(256, 512, kernel_size=(3, 3), stride=(2, 2), padding=(1, 1), bias=False)\n",
       "      (conv2): Conv2d(512, 512, kernel_size=(3, 3), stride=(1, 1), padding=(1, 1), bias=False)\n",
       "      (conv3): Conv2d(256, 512, kernel_size=(1, 1), stride=(2, 2))\n",
       "      (bn1): BatchNorm2d(512, eps=1e-05, momentum=0.1, affine=True, track_running_stats=True)\n",
       "      (bn2): BatchNorm2d(512, eps=1e-05, momentum=0.1, affine=True, track_running_stats=True)\n",
       "      (relu): ReLU(inplace=True)\n",
       "    )\n",
       "    (1): ResidualBlock(\n",
       "      (conv1): Conv2d(512, 512, kernel_size=(3, 3), stride=(1, 1), padding=(1, 1), bias=False)\n",
       "      (conv2): Conv2d(512, 512, kernel_size=(3, 3), stride=(1, 1), padding=(1, 1), bias=False)\n",
       "      (bn1): BatchNorm2d(512, eps=1e-05, momentum=0.1, affine=True, track_running_stats=True)\n",
       "      (bn2): BatchNorm2d(512, eps=1e-05, momentum=0.1, affine=True, track_running_stats=True)\n",
       "      (relu): ReLU(inplace=True)\n",
       "    )\n",
       "  )\n",
       "  (5): AdaptiveAvgPool2d(output_size=(1, 1))\n",
       "  (6): Flatten(start_dim=1, end_dim=-1)\n",
       "  (7): Linear(in_features=512, out_features=10, bias=True)\n",
       ")"
      ]
     },
     "execution_count": 57,
     "metadata": {
      "tags": []
     },
     "output_type": "execute_result"
    }
   ],
   "source": [
    "# Set model to evaluation mode-\n",
    "model_random.eval()"
   ]
  },
  {
   "cell_type": "code",
   "execution_count": null,
   "metadata": {
    "colab": {
     "base_uri": "https://localhost:8080/"
    },
    "id": "itk4uc2j5cll",
    "outputId": "ac82b607-773e-4e9d-857b-90bf15965cc6"
   },
   "outputs": [
    {
     "data": {
      "text/plain": [
       "Sequential(\n",
       "  (0): Sequential(\n",
       "    (0): Conv2d(3, 64, kernel_size=(7, 7), stride=(2, 2), padding=(3, 3))\n",
       "    (1): BatchNorm2d(64, eps=1e-05, momentum=0.1, affine=True, track_running_stats=True)\n",
       "    (2): ReLU()\n",
       "    (3): MaxPool2d(kernel_size=3, stride=2, padding=1, dilation=1, ceil_mode=False)\n",
       "  )\n",
       "  (1): Sequential(\n",
       "    (0): ResidualBlock(\n",
       "      (conv1): Conv2d(64, 64, kernel_size=(3, 3), stride=(1, 1), padding=(1, 1), bias=False)\n",
       "      (conv2): Conv2d(64, 64, kernel_size=(3, 3), stride=(1, 1), padding=(1, 1), bias=False)\n",
       "      (bn1): BatchNorm2d(64, eps=1e-05, momentum=0.1, affine=True, track_running_stats=True)\n",
       "      (bn2): BatchNorm2d(64, eps=1e-05, momentum=0.1, affine=True, track_running_stats=True)\n",
       "      (relu): ReLU(inplace=True)\n",
       "    )\n",
       "    (1): ResidualBlock(\n",
       "      (conv1): Conv2d(64, 64, kernel_size=(3, 3), stride=(1, 1), padding=(1, 1), bias=False)\n",
       "      (conv2): Conv2d(64, 64, kernel_size=(3, 3), stride=(1, 1), padding=(1, 1), bias=False)\n",
       "      (bn1): BatchNorm2d(64, eps=1e-05, momentum=0.1, affine=True, track_running_stats=True)\n",
       "      (bn2): BatchNorm2d(64, eps=1e-05, momentum=0.1, affine=True, track_running_stats=True)\n",
       "      (relu): ReLU(inplace=True)\n",
       "    )\n",
       "  )\n",
       "  (2): Sequential(\n",
       "    (0): ResidualBlock(\n",
       "      (conv1): Conv2d(64, 128, kernel_size=(3, 3), stride=(2, 2), padding=(1, 1), bias=False)\n",
       "      (conv2): Conv2d(128, 128, kernel_size=(3, 3), stride=(1, 1), padding=(1, 1), bias=False)\n",
       "      (conv3): Conv2d(64, 128, kernel_size=(1, 1), stride=(2, 2))\n",
       "      (bn1): BatchNorm2d(128, eps=1e-05, momentum=0.1, affine=True, track_running_stats=True)\n",
       "      (bn2): BatchNorm2d(128, eps=1e-05, momentum=0.1, affine=True, track_running_stats=True)\n",
       "      (relu): ReLU(inplace=True)\n",
       "    )\n",
       "    (1): ResidualBlock(\n",
       "      (conv1): Conv2d(128, 128, kernel_size=(3, 3), stride=(1, 1), padding=(1, 1), bias=False)\n",
       "      (conv2): Conv2d(128, 128, kernel_size=(3, 3), stride=(1, 1), padding=(1, 1), bias=False)\n",
       "      (bn1): BatchNorm2d(128, eps=1e-05, momentum=0.1, affine=True, track_running_stats=True)\n",
       "      (bn2): BatchNorm2d(128, eps=1e-05, momentum=0.1, affine=True, track_running_stats=True)\n",
       "      (relu): ReLU(inplace=True)\n",
       "    )\n",
       "  )\n",
       "  (3): Sequential(\n",
       "    (0): ResidualBlock(\n",
       "      (conv1): Conv2d(128, 256, kernel_size=(3, 3), stride=(2, 2), padding=(1, 1), bias=False)\n",
       "      (conv2): Conv2d(256, 256, kernel_size=(3, 3), stride=(1, 1), padding=(1, 1), bias=False)\n",
       "      (conv3): Conv2d(128, 256, kernel_size=(1, 1), stride=(2, 2))\n",
       "      (bn1): BatchNorm2d(256, eps=1e-05, momentum=0.1, affine=True, track_running_stats=True)\n",
       "      (bn2): BatchNorm2d(256, eps=1e-05, momentum=0.1, affine=True, track_running_stats=True)\n",
       "      (relu): ReLU(inplace=True)\n",
       "    )\n",
       "    (1): ResidualBlock(\n",
       "      (conv1): Conv2d(256, 256, kernel_size=(3, 3), stride=(1, 1), padding=(1, 1), bias=False)\n",
       "      (conv2): Conv2d(256, 256, kernel_size=(3, 3), stride=(1, 1), padding=(1, 1), bias=False)\n",
       "      (bn1): BatchNorm2d(256, eps=1e-05, momentum=0.1, affine=True, track_running_stats=True)\n",
       "      (bn2): BatchNorm2d(256, eps=1e-05, momentum=0.1, affine=True, track_running_stats=True)\n",
       "      (relu): ReLU(inplace=True)\n",
       "    )\n",
       "  )\n",
       "  (4): Sequential(\n",
       "    (0): ResidualBlock(\n",
       "      (conv1): Conv2d(256, 512, kernel_size=(3, 3), stride=(2, 2), padding=(1, 1), bias=False)\n",
       "      (conv2): Conv2d(512, 512, kernel_size=(3, 3), stride=(1, 1), padding=(1, 1), bias=False)\n",
       "      (conv3): Conv2d(256, 512, kernel_size=(1, 1), stride=(2, 2))\n",
       "      (bn1): BatchNorm2d(512, eps=1e-05, momentum=0.1, affine=True, track_running_stats=True)\n",
       "      (bn2): BatchNorm2d(512, eps=1e-05, momentum=0.1, affine=True, track_running_stats=True)\n",
       "      (relu): ReLU(inplace=True)\n",
       "    )\n",
       "    (1): ResidualBlock(\n",
       "      (conv1): Conv2d(512, 512, kernel_size=(3, 3), stride=(1, 1), padding=(1, 1), bias=False)\n",
       "      (conv2): Conv2d(512, 512, kernel_size=(3, 3), stride=(1, 1), padding=(1, 1), bias=False)\n",
       "      (bn1): BatchNorm2d(512, eps=1e-05, momentum=0.1, affine=True, track_running_stats=True)\n",
       "      (bn2): BatchNorm2d(512, eps=1e-05, momentum=0.1, affine=True, track_running_stats=True)\n",
       "      (relu): ReLU(inplace=True)\n",
       "    )\n",
       "  )\n",
       "  (5): AdaptiveAvgPool2d(output_size=(1, 1))\n",
       "  (6): Flatten(start_dim=1, end_dim=-1)\n",
       "  (7): Linear(in_features=512, out_features=10, bias=True)\n",
       ")"
      ]
     },
     "execution_count": 58,
     "metadata": {
      "tags": []
     },
     "output_type": "execute_result"
    }
   ],
   "source": [
    "# Place model on GPU-\n",
    "model_random.to(device)"
   ]
  },
  {
   "cell_type": "code",
   "execution_count": null,
   "metadata": {
    "id": "qb07NcNi5iE7"
   },
   "outputs": [],
   "source": []
  },
  {
   "cell_type": "code",
   "execution_count": null,
   "metadata": {
    "id": "l3PLSqd15o8E"
   },
   "outputs": [],
   "source": [
    "total = 0.0\n",
    "correct = 0.0"
   ]
  },
  {
   "cell_type": "code",
   "execution_count": null,
   "metadata": {
    "colab": {
     "base_uri": "https://localhost:8080/"
    },
    "id": "yymhzfNt5qpq",
    "outputId": "f73f7224-38d6-4b3f-9731-303b9b7a66f1"
   },
   "outputs": [
    {
     "name": "stdout",
     "output_type": "stream",
     "text": [
      "ResNet-19 randomly initialized CNN's validation metrics on CIFAR-10 are:\n",
      "accuracy = 11.28%, # of correct labels = 1128.0 & total # of labels = 10000.0\n"
     ]
    }
   ],
   "source": [
    "# Evaluate trained CNN model. We don't want these operations to be tracked in\n",
    "# the computational graph. Hence wrap these operations in-\n",
    "with torch.no_grad():\n",
    "    for images, labels in test_loader:\n",
    "\n",
    "        # Place features (images) and targets (labels) to GPU-\n",
    "        images = images.to(device)\n",
    "        labels = labels.to(device)\n",
    "        # print(f\"images.shape = {images.shape}, labels.shape = {labels.shape}\")\n",
    "\n",
    "        # Set model to evaluation mode-\n",
    "        # model_testing.eval()\n",
    "\n",
    "        # Make predictions using trained model-\n",
    "        outputs = model_random(images)\n",
    "        _, y_pred = torch.max(outputs, 1)\n",
    "    \n",
    "        # Total number of labels-\n",
    "        total += labels.size(0)\n",
    "\n",
    "        # Total number of correct predictions-\n",
    "        correct += (y_pred == labels).sum()\n",
    "\n",
    "    val_acc = 100 * (correct / total)\n",
    "    print(f\"ResNet-22 randomly initialized CNN's validation metrics on CIFAR-10 are:\")\n",
    "    print(f\"accuracy = {val_acc:.2f}%, # of correct labels = {correct} & total # of labels = {total}\")\n"
   ]
  },
  {
   "cell_type": "code",
   "execution_count": null,
   "metadata": {
    "id": "y1s6Qo5j5wFa"
   },
   "outputs": [],
   "source": []
  },
  {
   "cell_type": "code",
   "execution_count": null,
   "metadata": {
    "colab": {
     "base_uri": "https://localhost:8080/"
    },
    "id": "5wjOALLQ55U7",
    "outputId": "e5be0afd-5266-443f-87c4-382741415d39"
   },
   "outputs": [
    {
     "name": "stdout",
     "output_type": "stream",
     "text": [
      "layer = 0.0.weight has dimensions: torch.Size([64, 3, 7, 7])\n",
      "layer = 0.0.bias has dimensions: torch.Size([64])\n",
      "layer = 0.1.weight has dimensions: torch.Size([64])\n",
      "layer = 0.1.bias has dimensions: torch.Size([64])\n",
      "layer = 0.1.running_mean has dimensions: torch.Size([64])\n",
      "layer = 0.1.running_var has dimensions: torch.Size([64])\n",
      "layer = 0.1.num_batches_tracked has dimensions: torch.Size([])\n",
      "layer = 1.0.conv1.weight has dimensions: torch.Size([64, 64, 3, 3])\n",
      "layer = 1.0.conv2.weight has dimensions: torch.Size([64, 64, 3, 3])\n",
      "layer = 1.0.bn1.weight has dimensions: torch.Size([64])\n",
      "layer = 1.0.bn1.bias has dimensions: torch.Size([64])\n",
      "layer = 1.0.bn1.running_mean has dimensions: torch.Size([64])\n",
      "layer = 1.0.bn1.running_var has dimensions: torch.Size([64])\n",
      "layer = 1.0.bn1.num_batches_tracked has dimensions: torch.Size([])\n",
      "layer = 1.0.bn2.weight has dimensions: torch.Size([64])\n",
      "layer = 1.0.bn2.bias has dimensions: torch.Size([64])\n",
      "layer = 1.0.bn2.running_mean has dimensions: torch.Size([64])\n",
      "layer = 1.0.bn2.running_var has dimensions: torch.Size([64])\n",
      "layer = 1.0.bn2.num_batches_tracked has dimensions: torch.Size([])\n",
      "layer = 1.1.conv1.weight has dimensions: torch.Size([64, 64, 3, 3])\n",
      "layer = 1.1.conv2.weight has dimensions: torch.Size([64, 64, 3, 3])\n",
      "layer = 1.1.bn1.weight has dimensions: torch.Size([64])\n",
      "layer = 1.1.bn1.bias has dimensions: torch.Size([64])\n",
      "layer = 1.1.bn1.running_mean has dimensions: torch.Size([64])\n",
      "layer = 1.1.bn1.running_var has dimensions: torch.Size([64])\n",
      "layer = 1.1.bn1.num_batches_tracked has dimensions: torch.Size([])\n",
      "layer = 1.1.bn2.weight has dimensions: torch.Size([64])\n",
      "layer = 1.1.bn2.bias has dimensions: torch.Size([64])\n",
      "layer = 1.1.bn2.running_mean has dimensions: torch.Size([64])\n",
      "layer = 1.1.bn2.running_var has dimensions: torch.Size([64])\n",
      "layer = 1.1.bn2.num_batches_tracked has dimensions: torch.Size([])\n",
      "layer = 2.0.conv1.weight has dimensions: torch.Size([128, 64, 3, 3])\n",
      "layer = 2.0.conv2.weight has dimensions: torch.Size([128, 128, 3, 3])\n",
      "layer = 2.0.conv3.weight has dimensions: torch.Size([128, 64, 1, 1])\n",
      "layer = 2.0.conv3.bias has dimensions: torch.Size([128])\n",
      "layer = 2.0.bn1.weight has dimensions: torch.Size([128])\n",
      "layer = 2.0.bn1.bias has dimensions: torch.Size([128])\n",
      "layer = 2.0.bn1.running_mean has dimensions: torch.Size([128])\n",
      "layer = 2.0.bn1.running_var has dimensions: torch.Size([128])\n",
      "layer = 2.0.bn1.num_batches_tracked has dimensions: torch.Size([])\n",
      "layer = 2.0.bn2.weight has dimensions: torch.Size([128])\n",
      "layer = 2.0.bn2.bias has dimensions: torch.Size([128])\n",
      "layer = 2.0.bn2.running_mean has dimensions: torch.Size([128])\n",
      "layer = 2.0.bn2.running_var has dimensions: torch.Size([128])\n",
      "layer = 2.0.bn2.num_batches_tracked has dimensions: torch.Size([])\n",
      "layer = 2.1.conv1.weight has dimensions: torch.Size([128, 128, 3, 3])\n",
      "layer = 2.1.conv2.weight has dimensions: torch.Size([128, 128, 3, 3])\n",
      "layer = 2.1.bn1.weight has dimensions: torch.Size([128])\n",
      "layer = 2.1.bn1.bias has dimensions: torch.Size([128])\n",
      "layer = 2.1.bn1.running_mean has dimensions: torch.Size([128])\n",
      "layer = 2.1.bn1.running_var has dimensions: torch.Size([128])\n",
      "layer = 2.1.bn1.num_batches_tracked has dimensions: torch.Size([])\n",
      "layer = 2.1.bn2.weight has dimensions: torch.Size([128])\n",
      "layer = 2.1.bn2.bias has dimensions: torch.Size([128])\n",
      "layer = 2.1.bn2.running_mean has dimensions: torch.Size([128])\n",
      "layer = 2.1.bn2.running_var has dimensions: torch.Size([128])\n",
      "layer = 2.1.bn2.num_batches_tracked has dimensions: torch.Size([])\n",
      "layer = 3.0.conv1.weight has dimensions: torch.Size([256, 128, 3, 3])\n",
      "layer = 3.0.conv2.weight has dimensions: torch.Size([256, 256, 3, 3])\n",
      "layer = 3.0.conv3.weight has dimensions: torch.Size([256, 128, 1, 1])\n",
      "layer = 3.0.conv3.bias has dimensions: torch.Size([256])\n",
      "layer = 3.0.bn1.weight has dimensions: torch.Size([256])\n",
      "layer = 3.0.bn1.bias has dimensions: torch.Size([256])\n",
      "layer = 3.0.bn1.running_mean has dimensions: torch.Size([256])\n",
      "layer = 3.0.bn1.running_var has dimensions: torch.Size([256])\n",
      "layer = 3.0.bn1.num_batches_tracked has dimensions: torch.Size([])\n",
      "layer = 3.0.bn2.weight has dimensions: torch.Size([256])\n",
      "layer = 3.0.bn2.bias has dimensions: torch.Size([256])\n",
      "layer = 3.0.bn2.running_mean has dimensions: torch.Size([256])\n",
      "layer = 3.0.bn2.running_var has dimensions: torch.Size([256])\n",
      "layer = 3.0.bn2.num_batches_tracked has dimensions: torch.Size([])\n",
      "layer = 3.1.conv1.weight has dimensions: torch.Size([256, 256, 3, 3])\n",
      "layer = 3.1.conv2.weight has dimensions: torch.Size([256, 256, 3, 3])\n",
      "layer = 3.1.bn1.weight has dimensions: torch.Size([256])\n",
      "layer = 3.1.bn1.bias has dimensions: torch.Size([256])\n",
      "layer = 3.1.bn1.running_mean has dimensions: torch.Size([256])\n",
      "layer = 3.1.bn1.running_var has dimensions: torch.Size([256])\n",
      "layer = 3.1.bn1.num_batches_tracked has dimensions: torch.Size([])\n",
      "layer = 3.1.bn2.weight has dimensions: torch.Size([256])\n",
      "layer = 3.1.bn2.bias has dimensions: torch.Size([256])\n",
      "layer = 3.1.bn2.running_mean has dimensions: torch.Size([256])\n",
      "layer = 3.1.bn2.running_var has dimensions: torch.Size([256])\n",
      "layer = 3.1.bn2.num_batches_tracked has dimensions: torch.Size([])\n",
      "layer = 4.0.conv1.weight has dimensions: torch.Size([512, 256, 3, 3])\n",
      "layer = 4.0.conv2.weight has dimensions: torch.Size([512, 512, 3, 3])\n",
      "layer = 4.0.conv3.weight has dimensions: torch.Size([512, 256, 1, 1])\n",
      "layer = 4.0.conv3.bias has dimensions: torch.Size([512])\n",
      "layer = 4.0.bn1.weight has dimensions: torch.Size([512])\n",
      "layer = 4.0.bn1.bias has dimensions: torch.Size([512])\n",
      "layer = 4.0.bn1.running_mean has dimensions: torch.Size([512])\n",
      "layer = 4.0.bn1.running_var has dimensions: torch.Size([512])\n",
      "layer = 4.0.bn1.num_batches_tracked has dimensions: torch.Size([])\n",
      "layer = 4.0.bn2.weight has dimensions: torch.Size([512])\n",
      "layer = 4.0.bn2.bias has dimensions: torch.Size([512])\n",
      "layer = 4.0.bn2.running_mean has dimensions: torch.Size([512])\n",
      "layer = 4.0.bn2.running_var has dimensions: torch.Size([512])\n",
      "layer = 4.0.bn2.num_batches_tracked has dimensions: torch.Size([])\n",
      "layer = 4.1.conv1.weight has dimensions: torch.Size([512, 512, 3, 3])\n",
      "layer = 4.1.conv2.weight has dimensions: torch.Size([512, 512, 3, 3])\n",
      "layer = 4.1.bn1.weight has dimensions: torch.Size([512])\n",
      "layer = 4.1.bn1.bias has dimensions: torch.Size([512])\n",
      "layer = 4.1.bn1.running_mean has dimensions: torch.Size([512])\n",
      "layer = 4.1.bn1.running_var has dimensions: torch.Size([512])\n",
      "layer = 4.1.bn1.num_batches_tracked has dimensions: torch.Size([])\n",
      "layer = 4.1.bn2.weight has dimensions: torch.Size([512])\n",
      "layer = 4.1.bn2.bias has dimensions: torch.Size([512])\n",
      "layer = 4.1.bn2.running_mean has dimensions: torch.Size([512])\n",
      "layer = 4.1.bn2.running_var has dimensions: torch.Size([512])\n",
      "layer = 4.1.bn2.num_batches_tracked has dimensions: torch.Size([])\n",
      "layer = 7.weight has dimensions: torch.Size([10, 512])\n",
      "layer = 7.bias has dimensions: torch.Size([10])\n"
     ]
    }
   ],
   "source": [
    "for layer in model.state_dict():\n",
    "    print(f\"layer = {layer} has dimensions: {model.state_dict()[layer].shape}\")\n",
    "    # print(layer)"
   ]
  },
  {
   "cell_type": "code",
   "execution_count": null,
   "metadata": {
    "id": "3thO443a6Nzn"
   },
   "outputs": [],
   "source": []
  },
  {
   "cell_type": "code",
   "execution_count": null,
   "metadata": {
    "id": "7iIBgVOf6u4P"
   },
   "outputs": [],
   "source": [
    "import seaborn as sns"
   ]
  },
  {
   "cell_type": "code",
   "execution_count": null,
   "metadata": {
    "id": "T8nr59GU671Q"
   },
   "outputs": [],
   "source": [
    "# Extract conv1 trained weights-\n",
    "conv1_trained = model.state_dict()['0.0.weight'].cpu()"
   ]
  },
  {
   "cell_type": "code",
   "execution_count": null,
   "metadata": {
    "id": "ZeV-RXOm7iBQ"
   },
   "outputs": [],
   "source": [
    "# Extract conv1 random weights-\n",
    "conv1_random = model_random.state_dict()['0.0.weight'].cpu()"
   ]
  },
  {
   "cell_type": "code",
   "execution_count": null,
   "metadata": {
    "colab": {
     "base_uri": "https://localhost:8080/"
    },
    "id": "I8-__TsA7p_L",
    "outputId": "6833a928-f917-4c49-f488-5d4fcb4f061e"
   },
   "outputs": [
    {
     "data": {
      "text/plain": [
       "(torch.Size([64, 3, 7, 7]), torch.Size([9408]))"
      ]
     },
     "execution_count": 81,
     "metadata": {
      "tags": []
     },
     "output_type": "execute_result"
    }
   ],
   "source": [
    "conv1_trained.shape, conv1_trained.flatten().shape"
   ]
  },
  {
   "cell_type": "code",
   "execution_count": null,
   "metadata": {
    "colab": {
     "base_uri": "https://localhost:8080/"
    },
    "id": "YHVZ-Jjt7Hdp",
    "outputId": "fd6021f8-5927-4338-d535-fdd77245e80f"
   },
   "outputs": [
    {
     "data": {
      "text/plain": [
       "(torch.Size([64, 3, 7, 7]), torch.Size([9408]))"
      ]
     },
     "execution_count": 76,
     "metadata": {
      "tags": []
     },
     "output_type": "execute_result"
    }
   ],
   "source": [
    "conv1_random.shape, conv1_random.flatten().shape"
   ]
  },
  {
   "cell_type": "code",
   "execution_count": null,
   "metadata": {
    "id": "FVPPT-bo7JWh"
   },
   "outputs": [],
   "source": []
  },
  {
   "cell_type": "code",
   "execution_count": null,
   "metadata": {
    "id": "MkfJIun36_qR"
   },
   "outputs": [],
   "source": []
  },
  {
   "cell_type": "code",
   "execution_count": null,
   "metadata": {
    "colab": {
     "base_uri": "https://localhost:8080/",
     "height": 320
    },
    "id": "mc8pSBSQ8zqX",
    "outputId": "1b3daa26-d7ed-4de2-a0e8-953825a2207c"
   },
   "outputs": [
    {
     "data": {
      "image/png": "[encoded data removed]",
      "text/plain": [
       "<Figure size 720x360 with 1 Axes>"
      ]
     },
     "metadata": {
      "needs_background": "light",
      "tags": []
     },
     "output_type": "display_data"
    }
   ],
   "source": [
    "plt.figure(figsize = (10, 5))\n",
    "plt.hist(conv1_random.flatten(), label = 'kaiming normal random')\n",
    "plt.show()"
   ]
  },
  {
   "cell_type": "code",
   "execution_count": null,
   "metadata": {
    "colab": {
     "base_uri": "https://localhost:8080/",
     "height": 458
    },
    "id": "fXSsY8x-6m3d",
    "outputId": "df90f6c4-cecd-4d39-a57b-6f9063f80c59"
   },
   "outputs": [
    {
     "data": {
      "image/png": "[encoded data removed]",
      "text/plain": [
       "<Figure size 720x504 with 1 Axes>"
      ]
     },
     "metadata": {
      "needs_background": "light",
      "tags": []
     },
     "output_type": "display_data"
    }
   ],
   "source": [
    "plt.figure(figsize = (10, 7))\n",
    "\n",
    "# sns.displot(data = conv1_random.flatten(), kde = True, label = 'kaiming normal random')\n",
    "# sns.displot(data = conv1_trained.flatten(), kde = True, label = 'trained')\n",
    "\n",
    "plt.hist(conv1_random.flatten(), label = 'kaiming normal random')\n",
    "plt.hist(conv1_trained.flatten(), label = 'trained')\n",
    "\n",
    "plt.xlabel(\"weights\")\n",
    "plt.ylabel(\"count\")\n",
    "plt.legend(loc = 'best')\n",
    "plt.title(\"ReNet-22: First conv layer\")\n",
    "plt.show()"
   ]
  },
  {
   "cell_type": "code",
   "execution_count": null,
   "metadata": {
    "id": "WQzZahVo7_Qx"
   },
   "outputs": [],
   "source": []
  },
  {
   "cell_type": "code",
   "execution_count": null,
   "metadata": {
    "id": "9JP510dj7Uxx"
   },
   "outputs": [],
   "source": []
  },
  {
   "cell_type": "code",
   "execution_count": null,
   "metadata": {
    "id": "PR2NpLQz58J7"
   },
   "outputs": [],
   "source": []
  },
  {
   "cell_type": "code",
   "execution_count": null,
   "metadata": {
    "id": "U5FVMO1DggFN"
   },
   "outputs": [],
   "source": []
  },
  {
   "cell_type": "code",
   "execution_count": 18,
   "metadata": {},
   "outputs": [],
   "source": [
    "# Initialize ResNet-18 model-\n",
    "model_testing = nn.Sequential(\n",
    "    # b0, b1, b2, b3, b4, b5, b6, b7, b8,\n",
    "    b0, b1, b3, b5, b7,\n",
    "    nn.AdaptiveAvgPool2d(output_size = (1, 1)),\n",
    "    nn.Flatten(),\n",
    "    nn.Linear(in_features = 512, out_features = 10))"
   ]
  },
  {
   "cell_type": "code",
   "execution_count": 20,
   "metadata": {},
   "outputs": [],
   "source": [
    "os.chdir(\"/home/arjun/Downloads/ResNet_Codes/\")"
   ]
  },
  {
   "cell_type": "code",
   "execution_count": null,
   "metadata": {},
   "outputs": [],
   "source": []
  },
  {
   "cell_type": "code",
   "execution_count": 26,
   "metadata": {
    "colab": {
     "base_uri": "https://localhost:8080/"
    },
    "id": "PqcWd6Mmgm5W",
    "outputId": "0617ef63-5c80-4e6a-e277-a50771915f13"
   },
   "outputs": [
    {
     "data": {
      "text/plain": [
       "Sequential(\n",
       "  (0): Sequential(\n",
       "    (0): Conv2d(3, 64, kernel_size=(3, 3), stride=(1, 1), padding=(1, 1))\n",
       "    (1): BatchNorm2d(64, eps=1e-05, momentum=0.1, affine=True, track_running_stats=True)\n",
       "    (2): ReLU()\n",
       "  )\n",
       "  (1): Sequential(\n",
       "    (0): ResidualBlock(\n",
       "      (conv1): Conv2d(64, 64, kernel_size=(3, 3), stride=(2, 2), padding=(1, 1), bias=False)\n",
       "      (conv2): Conv2d(64, 64, kernel_size=(3, 3), stride=(1, 1), padding=(1, 1), bias=False)\n",
       "      (conv3): Conv2d(64, 64, kernel_size=(1, 1), stride=(2, 2))\n",
       "      (bn1): BatchNorm2d(64, eps=1e-05, momentum=0.1, affine=True, track_running_stats=True)\n",
       "      (bn2): BatchNorm2d(64, eps=1e-05, momentum=0.1, affine=True, track_running_stats=True)\n",
       "      (relu): ReLU(inplace=True)\n",
       "    )\n",
       "    (1): ResidualBlock(\n",
       "      (conv1): Conv2d(64, 64, kernel_size=(3, 3), stride=(1, 1), padding=(1, 1), bias=False)\n",
       "      (conv2): Conv2d(64, 64, kernel_size=(3, 3), stride=(1, 1), padding=(1, 1), bias=False)\n",
       "      (bn1): BatchNorm2d(64, eps=1e-05, momentum=0.1, affine=True, track_running_stats=True)\n",
       "      (bn2): BatchNorm2d(64, eps=1e-05, momentum=0.1, affine=True, track_running_stats=True)\n",
       "      (relu): ReLU(inplace=True)\n",
       "    )\n",
       "  )\n",
       "  (2): Sequential(\n",
       "    (0): ResidualBlock(\n",
       "      (conv1): Conv2d(64, 128, kernel_size=(3, 3), stride=(2, 2), padding=(1, 1), bias=False)\n",
       "      (conv2): Conv2d(128, 128, kernel_size=(3, 3), stride=(1, 1), padding=(1, 1), bias=False)\n",
       "      (conv3): Conv2d(64, 128, kernel_size=(1, 1), stride=(2, 2))\n",
       "      (bn1): BatchNorm2d(128, eps=1e-05, momentum=0.1, affine=True, track_running_stats=True)\n",
       "      (bn2): BatchNorm2d(128, eps=1e-05, momentum=0.1, affine=True, track_running_stats=True)\n",
       "      (relu): ReLU(inplace=True)\n",
       "    )\n",
       "    (1): ResidualBlock(\n",
       "      (conv1): Conv2d(128, 128, kernel_size=(3, 3), stride=(1, 1), padding=(1, 1), bias=False)\n",
       "      (conv2): Conv2d(128, 128, kernel_size=(3, 3), stride=(1, 1), padding=(1, 1), bias=False)\n",
       "      (bn1): BatchNorm2d(128, eps=1e-05, momentum=0.1, affine=True, track_running_stats=True)\n",
       "      (bn2): BatchNorm2d(128, eps=1e-05, momentum=0.1, affine=True, track_running_stats=True)\n",
       "      (relu): ReLU(inplace=True)\n",
       "    )\n",
       "  )\n",
       "  (3): Sequential(\n",
       "    (0): ResidualBlock(\n",
       "      (conv1): Conv2d(128, 256, kernel_size=(3, 3), stride=(2, 2), padding=(1, 1), bias=False)\n",
       "      (conv2): Conv2d(256, 256, kernel_size=(3, 3), stride=(1, 1), padding=(1, 1), bias=False)\n",
       "      (conv3): Conv2d(128, 256, kernel_size=(1, 1), stride=(2, 2))\n",
       "      (bn1): BatchNorm2d(256, eps=1e-05, momentum=0.1, affine=True, track_running_stats=True)\n",
       "      (bn2): BatchNorm2d(256, eps=1e-05, momentum=0.1, affine=True, track_running_stats=True)\n",
       "      (relu): ReLU(inplace=True)\n",
       "    )\n",
       "    (1): ResidualBlock(\n",
       "      (conv1): Conv2d(256, 256, kernel_size=(3, 3), stride=(1, 1), padding=(1, 1), bias=False)\n",
       "      (conv2): Conv2d(256, 256, kernel_size=(3, 3), stride=(1, 1), padding=(1, 1), bias=False)\n",
       "      (bn1): BatchNorm2d(256, eps=1e-05, momentum=0.1, affine=True, track_running_stats=True)\n",
       "      (bn2): BatchNorm2d(256, eps=1e-05, momentum=0.1, affine=True, track_running_stats=True)\n",
       "      (relu): ReLU(inplace=True)\n",
       "    )\n",
       "  )\n",
       "  (4): Sequential(\n",
       "    (0): ResidualBlock(\n",
       "      (conv1): Conv2d(256, 512, kernel_size=(3, 3), stride=(2, 2), padding=(1, 1), bias=False)\n",
       "      (conv2): Conv2d(512, 512, kernel_size=(3, 3), stride=(1, 1), padding=(1, 1), bias=False)\n",
       "      (conv3): Conv2d(256, 512, kernel_size=(1, 1), stride=(2, 2))\n",
       "      (bn1): BatchNorm2d(512, eps=1e-05, momentum=0.1, affine=True, track_running_stats=True)\n",
       "      (bn2): BatchNorm2d(512, eps=1e-05, momentum=0.1, affine=True, track_running_stats=True)\n",
       "      (relu): ReLU(inplace=True)\n",
       "    )\n",
       "    (1): ResidualBlock(\n",
       "      (conv1): Conv2d(512, 512, kernel_size=(3, 3), stride=(1, 1), padding=(1, 1), bias=False)\n",
       "      (conv2): Conv2d(512, 512, kernel_size=(3, 3), stride=(1, 1), padding=(1, 1), bias=False)\n",
       "      (bn1): BatchNorm2d(512, eps=1e-05, momentum=0.1, affine=True, track_running_stats=True)\n",
       "      (bn2): BatchNorm2d(512, eps=1e-05, momentum=0.1, affine=True, track_running_stats=True)\n",
       "      (relu): ReLU(inplace=True)\n",
       "    )\n",
       "  )\n",
       "  (5): AdaptiveAvgPool2d(output_size=(1, 1))\n",
       "  (6): Flatten(start_dim=1, end_dim=-1)\n",
       "  (7): Linear(in_features=512, out_features=10, bias=True)\n",
       ")"
      ]
     },
     "execution_count": 26,
     "metadata": {},
     "output_type": "execute_result"
    }
   ],
   "source": [
    "# Load pre-trained model from before-\n",
    "if device.type == 'cpu':\n",
    "    model_testing.load_state_dict(torch.load('ResNet-18_kaiming_normal_trained.pth', map_location = torch.device('cpu')))\n",
    "else:\n",
    "    model_testing.load_state_dict(torch.load('ResNet-18_kaiming_normal_trained.pth'))\n",
    "\n",
    "# Set model to evaluation mode-\n",
    "model_testing.eval()"
   ]
  },
  {
   "cell_type": "code",
   "execution_count": 27,
   "metadata": {
    "colab": {
     "base_uri": "https://localhost:8080/"
    },
    "id": "VKhCOJPBh-_m",
    "outputId": "2b691006-64d3-4f73-b356-8c042a20db95"
   },
   "outputs": [
    {
     "data": {
      "text/plain": [
       "Sequential(\n",
       "  (0): Sequential(\n",
       "    (0): Conv2d(3, 64, kernel_size=(3, 3), stride=(1, 1), padding=(1, 1))\n",
       "    (1): BatchNorm2d(64, eps=1e-05, momentum=0.1, affine=True, track_running_stats=True)\n",
       "    (2): ReLU()\n",
       "  )\n",
       "  (1): Sequential(\n",
       "    (0): ResidualBlock(\n",
       "      (conv1): Conv2d(64, 64, kernel_size=(3, 3), stride=(2, 2), padding=(1, 1), bias=False)\n",
       "      (conv2): Conv2d(64, 64, kernel_size=(3, 3), stride=(1, 1), padding=(1, 1), bias=False)\n",
       "      (conv3): Conv2d(64, 64, kernel_size=(1, 1), stride=(2, 2))\n",
       "      (bn1): BatchNorm2d(64, eps=1e-05, momentum=0.1, affine=True, track_running_stats=True)\n",
       "      (bn2): BatchNorm2d(64, eps=1e-05, momentum=0.1, affine=True, track_running_stats=True)\n",
       "      (relu): ReLU(inplace=True)\n",
       "    )\n",
       "    (1): ResidualBlock(\n",
       "      (conv1): Conv2d(64, 64, kernel_size=(3, 3), stride=(1, 1), padding=(1, 1), bias=False)\n",
       "      (conv2): Conv2d(64, 64, kernel_size=(3, 3), stride=(1, 1), padding=(1, 1), bias=False)\n",
       "      (bn1): BatchNorm2d(64, eps=1e-05, momentum=0.1, affine=True, track_running_stats=True)\n",
       "      (bn2): BatchNorm2d(64, eps=1e-05, momentum=0.1, affine=True, track_running_stats=True)\n",
       "      (relu): ReLU(inplace=True)\n",
       "    )\n",
       "  )\n",
       "  (2): Sequential(\n",
       "    (0): ResidualBlock(\n",
       "      (conv1): Conv2d(64, 128, kernel_size=(3, 3), stride=(2, 2), padding=(1, 1), bias=False)\n",
       "      (conv2): Conv2d(128, 128, kernel_size=(3, 3), stride=(1, 1), padding=(1, 1), bias=False)\n",
       "      (conv3): Conv2d(64, 128, kernel_size=(1, 1), stride=(2, 2))\n",
       "      (bn1): BatchNorm2d(128, eps=1e-05, momentum=0.1, affine=True, track_running_stats=True)\n",
       "      (bn2): BatchNorm2d(128, eps=1e-05, momentum=0.1, affine=True, track_running_stats=True)\n",
       "      (relu): ReLU(inplace=True)\n",
       "    )\n",
       "    (1): ResidualBlock(\n",
       "      (conv1): Conv2d(128, 128, kernel_size=(3, 3), stride=(1, 1), padding=(1, 1), bias=False)\n",
       "      (conv2): Conv2d(128, 128, kernel_size=(3, 3), stride=(1, 1), padding=(1, 1), bias=False)\n",
       "      (bn1): BatchNorm2d(128, eps=1e-05, momentum=0.1, affine=True, track_running_stats=True)\n",
       "      (bn2): BatchNorm2d(128, eps=1e-05, momentum=0.1, affine=True, track_running_stats=True)\n",
       "      (relu): ReLU(inplace=True)\n",
       "    )\n",
       "  )\n",
       "  (3): Sequential(\n",
       "    (0): ResidualBlock(\n",
       "      (conv1): Conv2d(128, 256, kernel_size=(3, 3), stride=(2, 2), padding=(1, 1), bias=False)\n",
       "      (conv2): Conv2d(256, 256, kernel_size=(3, 3), stride=(1, 1), padding=(1, 1), bias=False)\n",
       "      (conv3): Conv2d(128, 256, kernel_size=(1, 1), stride=(2, 2))\n",
       "      (bn1): BatchNorm2d(256, eps=1e-05, momentum=0.1, affine=True, track_running_stats=True)\n",
       "      (bn2): BatchNorm2d(256, eps=1e-05, momentum=0.1, affine=True, track_running_stats=True)\n",
       "      (relu): ReLU(inplace=True)\n",
       "    )\n",
       "    (1): ResidualBlock(\n",
       "      (conv1): Conv2d(256, 256, kernel_size=(3, 3), stride=(1, 1), padding=(1, 1), bias=False)\n",
       "      (conv2): Conv2d(256, 256, kernel_size=(3, 3), stride=(1, 1), padding=(1, 1), bias=False)\n",
       "      (bn1): BatchNorm2d(256, eps=1e-05, momentum=0.1, affine=True, track_running_stats=True)\n",
       "      (bn2): BatchNorm2d(256, eps=1e-05, momentum=0.1, affine=True, track_running_stats=True)\n",
       "      (relu): ReLU(inplace=True)\n",
       "    )\n",
       "  )\n",
       "  (4): Sequential(\n",
       "    (0): ResidualBlock(\n",
       "      (conv1): Conv2d(256, 512, kernel_size=(3, 3), stride=(2, 2), padding=(1, 1), bias=False)\n",
       "      (conv2): Conv2d(512, 512, kernel_size=(3, 3), stride=(1, 1), padding=(1, 1), bias=False)\n",
       "      (conv3): Conv2d(256, 512, kernel_size=(1, 1), stride=(2, 2))\n",
       "      (bn1): BatchNorm2d(512, eps=1e-05, momentum=0.1, affine=True, track_running_stats=True)\n",
       "      (bn2): BatchNorm2d(512, eps=1e-05, momentum=0.1, affine=True, track_running_stats=True)\n",
       "      (relu): ReLU(inplace=True)\n",
       "    )\n",
       "    (1): ResidualBlock(\n",
       "      (conv1): Conv2d(512, 512, kernel_size=(3, 3), stride=(1, 1), padding=(1, 1), bias=False)\n",
       "      (conv2): Conv2d(512, 512, kernel_size=(3, 3), stride=(1, 1), padding=(1, 1), bias=False)\n",
       "      (bn1): BatchNorm2d(512, eps=1e-05, momentum=0.1, affine=True, track_running_stats=True)\n",
       "      (bn2): BatchNorm2d(512, eps=1e-05, momentum=0.1, affine=True, track_running_stats=True)\n",
       "      (relu): ReLU(inplace=True)\n",
       "    )\n",
       "  )\n",
       "  (5): AdaptiveAvgPool2d(output_size=(1, 1))\n",
       "  (6): Flatten(start_dim=1, end_dim=-1)\n",
       "  (7): Linear(in_features=512, out_features=10, bias=True)\n",
       ")"
      ]
     },
     "execution_count": 27,
     "metadata": {},
     "output_type": "execute_result"
    }
   ],
   "source": [
    "# Place model on GPU (if available)-\n",
    "model_testing.to(device)"
   ]
  },
  {
   "cell_type": "code",
   "execution_count": null,
   "metadata": {
    "id": "nZLvhwuShwFy"
   },
   "outputs": [],
   "source": []
  },
  {
   "cell_type": "code",
   "execution_count": 28,
   "metadata": {
    "id": "FTMz9aXUh2uL"
   },
   "outputs": [],
   "source": [
    "# Variables for computing model metrics-\n",
    "total = 0\n",
    "correct = 0"
   ]
  },
  {
   "cell_type": "code",
   "execution_count": 30,
   "metadata": {
    "colab": {
     "base_uri": "https://localhost:8080/"
    },
    "id": "AeHSUMW0hwOh",
    "outputId": "876ceba0-bc56-47f5-925f-f139220374f1"
   },
   "outputs": [
    {
     "name": "stdout",
     "output_type": "stream",
     "text": [
      "ResNet-18 trained CNN's validation metrics on CIFAR-10 are:\n",
      "accuracy = 84.03%, # of correct labels = 8726 & total # of labels = 10384\n"
     ]
    }
   ],
   "source": [
    "# Evaluate trained CNN model. We don't want these operations to be tracked in\n",
    "# the computational graph. Hence wrap these operations in-\n",
    "with torch.no_grad():\n",
    "    for images, labels in test_loader:\n",
    "\n",
    "        # Place features (images) and targets (labels) to GPU-\n",
    "        images = images.to(device)\n",
    "        labels = labels.to(device)\n",
    "        # print(f\"images.shape = {images.shape}, labels.shape = {labels.shape}\")\n",
    "\n",
    "        # Set model to evaluation mode-\n",
    "        # model_testing.eval()\n",
    "\n",
    "        # Make predictions using trained model-\n",
    "        outputs = model_testing(images)\n",
    "        _, y_pred = torch.max(outputs, 1)\n",
    "    \n",
    "        # Total number of labels-\n",
    "        total += labels.size(0)\n",
    "\n",
    "        # Total number of correct predictions-\n",
    "        correct += (y_pred == labels).sum()\n",
    "\n",
    "    val_acc = 100 * (correct / total)\n",
    "    print(f\"ResNet-18 trained CNN's validation metrics on CIFAR-10 are:\")\n",
    "    print(f\"accuracy = {val_acc:.2f}%, # of correct labels = {correct} & total # of labels = {total}\")\n"
   ]
  },
  {
   "cell_type": "code",
   "execution_count": null,
   "metadata": {
    "id": "q6xj882wgyJ9"
   },
   "outputs": [],
   "source": []
  },
  {
   "cell_type": "code",
   "execution_count": null,
   "metadata": {
    "id": "ukcwcXxRhCsm"
   },
   "outputs": [],
   "source": []
  }
 ],
 "metadata": {
  "accelerator": "GPU",
  "colab": {
   "collapsed_sections": [],
   "name": "ResNet-18_Experiments-PyTorch.ipynb",
   "provenance": []
  },
  "kernelspec": {
   "display_name": "Python 3",
   "language": "python",
   "name": "python3"
  },
  "language_info": {
   "codemirror_mode": {
    "name": "ipython",
    "version": 3
   },
   "file_extension": ".py",
   "mimetype": "text/x-python",
   "name": "python",
   "nbconvert_exporter": "python",
   "pygments_lexer": "ipython3",
   "version": "3.8.8"
  },
  "widgets": {
   "application/vnd.jupyter.widget-state+json": {
    "0c3bed444bee49e9b7fb2dbcbcf2e284": {
     "model_module": "@jupyter-widgets/controls",
     "model_name": "HTMLModel",
     "state": {
      "_dom_classes": [],
      "_model_module": "@jupyter-widgets/controls",
      "_model_module_version": "1.5.0",
      "_model_name": "HTMLModel",
      "_view_count": null,
      "_view_module": "@jupyter-widgets/controls",
      "_view_module_version": "1.5.0",
      "_view_name": "HTMLView",
      "description": "",
      "description_tooltip": null,
      "layout": "IPY_MODEL_64372ec04c7840a1bb2db512a76d7479",
      "placeholder": "​",
      "style": "IPY_MODEL_1430e944e0e9455883c106a4c0815e3f",
      "value": " 170499072/? [1:04:58&lt;00:00, 43734.10it/s]"
     }
    },
    "1430e944e0e9455883c106a4c0815e3f": {
     "model_module": "@jupyter-widgets/controls",
     "model_name": "DescriptionStyleModel",
     "state": {
      "_model_module": "@jupyter-widgets/controls",
      "_model_module_version": "1.5.0",
      "_model_name": "DescriptionStyleModel",
      "_view_count": null,
      "_view_module": "@jupyter-widgets/base",
      "_view_module_version": "1.2.0",
      "_view_name": "StyleView",
      "description_width": ""
     }
    },
    "307259ef902043dba4373ed58440783b": {
     "model_module": "@jupyter-widgets/controls",
     "model_name": "HBoxModel",
     "state": {
      "_dom_classes": [],
      "_model_module": "@jupyter-widgets/controls",
      "_model_module_version": "1.5.0",
      "_model_name": "HBoxModel",
      "_view_count": null,
      "_view_module": "@jupyter-widgets/controls",
      "_view_module_version": "1.5.0",
      "_view_name": "HBoxView",
      "box_style": "",
      "children": [
       "IPY_MODEL_f9258497ed574c2f93b0892dffd8a573",
       "IPY_MODEL_0c3bed444bee49e9b7fb2dbcbcf2e284"
      ],
      "layout": "IPY_MODEL_83a54184b7374a42bb4bfa3b10456b5d"
     }
    },
    "64372ec04c7840a1bb2db512a76d7479": {
     "model_module": "@jupyter-widgets/base",
     "model_name": "LayoutModel",
     "state": {
      "_model_module": "@jupyter-widgets/base",
      "_model_module_version": "1.2.0",
      "_model_name": "LayoutModel",
      "_view_count": null,
      "_view_module": "@jupyter-widgets/base",
      "_view_module_version": "1.2.0",
      "_view_name": "LayoutView",
      "align_content": null,
      "align_items": null,
      "align_self": null,
      "border": null,
      "bottom": null,
      "display": null,
      "flex": null,
      "flex_flow": null,
      "grid_area": null,
      "grid_auto_columns": null,
      "grid_auto_flow": null,
      "grid_auto_rows": null,
      "grid_column": null,
      "grid_gap": null,
      "grid_row": null,
      "grid_template_areas": null,
      "grid_template_columns": null,
      "grid_template_rows": null,
      "height": null,
      "justify_content": null,
      "justify_items": null,
      "left": null,
      "margin": null,
      "max_height": null,
      "max_width": null,
      "min_height": null,
      "min_width": null,
      "object_fit": null,
      "object_position": null,
      "order": null,
      "overflow": null,
      "overflow_x": null,
      "overflow_y": null,
      "padding": null,
      "right": null,
      "top": null,
      "visibility": null,
      "width": null
     }
    },
    "83a54184b7374a42bb4bfa3b10456b5d": {
     "model_module": "@jupyter-widgets/base",
     "model_name": "LayoutModel",
     "state": {
      "_model_module": "@jupyter-widgets/base",
      "_model_module_version": "1.2.0",
      "_model_name": "LayoutModel",
      "_view_count": null,
      "_view_module": "@jupyter-widgets/base",
      "_view_module_version": "1.2.0",
      "_view_name": "LayoutView",
      "align_content": null,
      "align_items": null,
      "align_self": null,
      "border": null,
      "bottom": null,
      "display": null,
      "flex": null,
      "flex_flow": null,
      "grid_area": null,
      "grid_auto_columns": null,
      "grid_auto_flow": null,
      "grid_auto_rows": null,
      "grid_column": null,
      "grid_gap": null,
      "grid_row": null,
      "grid_template_areas": null,
      "grid_template_columns": null,
      "grid_template_rows": null,
      "height": null,
      "justify_content": null,
      "justify_items": null,
      "left": null,
      "margin": null,
      "max_height": null,
      "max_width": null,
      "min_height": null,
      "min_width": null,
      "object_fit": null,
      "object_position": null,
      "order": null,
      "overflow": null,
      "overflow_x": null,
      "overflow_y": null,
      "padding": null,
      "right": null,
      "top": null,
      "visibility": null,
      "width": null
     }
    },
    "a4c1c4f30ac34465bfccc790aed22f84": {
     "model_module": "@jupyter-widgets/base",
     "model_name": "LayoutModel",
     "state": {
      "_model_module": "@jupyter-widgets/base",
      "_model_module_version": "1.2.0",
      "_model_name": "LayoutModel",
      "_view_count": null,
      "_view_module": "@jupyter-widgets/base",
      "_view_module_version": "1.2.0",
      "_view_name": "LayoutView",
      "align_content": null,
      "align_items": null,
      "align_self": null,
      "border": null,
      "bottom": null,
      "display": null,
      "flex": null,
      "flex_flow": null,
      "grid_area": null,
      "grid_auto_columns": null,
      "grid_auto_flow": null,
      "grid_auto_rows": null,
      "grid_column": null,
      "grid_gap": null,
      "grid_row": null,
      "grid_template_areas": null,
      "grid_template_columns": null,
      "grid_template_rows": null,
      "height": null,
      "justify_content": null,
      "justify_items": null,
      "left": null,
      "margin": null,
      "max_height": null,
      "max_width": null,
      "min_height": null,
      "min_width": null,
      "object_fit": null,
      "object_position": null,
      "order": null,
      "overflow": null,
      "overflow_x": null,
      "overflow_y": null,
      "padding": null,
      "right": null,
      "top": null,
      "visibility": null,
      "width": null
     }
    },
    "d2b3a5c9f6c24fd8b71a5ad0b5903e05": {
     "model_module": "@jupyter-widgets/controls",
     "model_name": "ProgressStyleModel",
     "state": {
      "_model_module": "@jupyter-widgets/controls",
      "_model_module_version": "1.5.0",
      "_model_name": "ProgressStyleModel",
      "_view_count": null,
      "_view_module": "@jupyter-widgets/base",
      "_view_module_version": "1.2.0",
      "_view_name": "StyleView",
      "bar_color": null,
      "description_width": "initial"
     }
    },
    "f9258497ed574c2f93b0892dffd8a573": {
     "model_module": "@jupyter-widgets/controls",
     "model_name": "FloatProgressModel",
     "state": {
      "_dom_classes": [],
      "_model_module": "@jupyter-widgets/controls",
      "_model_module_version": "1.5.0",
      "_model_name": "FloatProgressModel",
      "_view_count": null,
      "_view_module": "@jupyter-widgets/controls",
      "_view_module_version": "1.5.0",
      "_view_name": "ProgressView",
      "bar_style": "success",
      "description": "",
      "description_tooltip": null,
      "layout": "IPY_MODEL_a4c1c4f30ac34465bfccc790aed22f84",
      "max": 170498071,
      "min": 0,
      "orientation": "horizontal",
      "style": "IPY_MODEL_d2b3a5c9f6c24fd8b71a5ad0b5903e05",
      "value": 170498071
     }
    }
   }
  }
 },
 "nbformat": 4,
 "nbformat_minor": 4
}
