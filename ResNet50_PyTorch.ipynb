{
 "cells": [
  {
   "cell_type": "markdown",
   "id": "d49547c6-36f2-48c9-8680-5464c43a091e",
   "metadata": {},
   "source": [
    "# ResNet-50: CIFAR-10 & PyTorch"
   ]
  },
  {
   "cell_type": "code",
   "execution_count": null,
   "id": "2ebd9d3b-8603-4d7e-972c-5d59572ac5de",
   "metadata": {},
   "outputs": [],
   "source": [
    "# Specify GPU to be used-\n",
    "# %env CUDA_DEVICE_ORDER = PCI_BUS_ID\n",
    "# %env CUDA_VISIBLE_DEVICES = 0"
   ]
  },
  {
   "cell_type": "code",
   "execution_count": 1,
   "id": "25492039-c783-4b13-90e8-ab84ec1db331",
   "metadata": {},
   "outputs": [
    {
     "name": "stderr",
     "output_type": "stream",
     "text": [
      "/home/arjun/anaconda3/envs/pytorch-gpu/lib/python3.9/site-packages/tqdm/auto.py:22: TqdmWarning: IProgress not found. Please update jupyter and ipywidgets. See https://ipywidgets.readthedocs.io/en/stable/user_install.html\n",
      "  from .autonotebook import tqdm as notebook_tqdm\n"
     ]
    }
   ],
   "source": [
    "import torch\n",
    "import torch.nn as nn\n",
    "import torch.nn.functional as F\n",
    "import torchvision\n",
    "import torchvision.transforms as transforms\n",
    "\n",
    "from tqdm import tqdm\n",
    "from tqdm import trange\n",
    "import matplotlib.pyplot as plt\n",
    "import seaborn as sns\n",
    "import numpy as np\n",
    "import os\n",
    "import pickle"
   ]
  },
  {
   "cell_type": "code",
   "execution_count": null,
   "id": "8f0b59c6-3c97-4f0e-9267-74836bfec293",
   "metadata": {},
   "outputs": [],
   "source": []
  },
  {
   "cell_type": "code",
   "execution_count": null,
   "id": "8dceffc7-4ea5-4e43-95a4-b08c264e5945",
   "metadata": {},
   "outputs": [],
   "source": []
  },
  {
   "cell_type": "code",
   "execution_count": 2,
   "id": "b7ebc006-e7c2-48a8-969e-078d0ac6b9a1",
   "metadata": {},
   "outputs": [
    {
     "name": "stdout",
     "output_type": "stream",
     "text": [
      "torch version: 1.11.0\n"
     ]
    }
   ],
   "source": [
    "print(f\"torch version: {torch.__version__}\")"
   ]
  },
  {
   "cell_type": "code",
   "execution_count": 3,
   "id": "f06af6ff-7430-4347-b5b3-9b0d4ac4698a",
   "metadata": {},
   "outputs": [
    {
     "name": "stdout",
     "output_type": "stream",
     "text": [
      "Number of GPU(s) available = 2\n",
      "Current GPU: 0\n",
      "Current GPU name: NVIDIA GeForce RTX 3080\n"
     ]
    }
   ],
   "source": [
    "# Check if there are multiple devices (i.e., GPU cards)-\n",
    "print(f\"Number of GPU(s) available = {torch.cuda.device_count()}\")\n",
    "\n",
    "# Which GPU Is The Current GPU?\n",
    "# print(f\"current GPU: {torch.cuda.current_device()}\")\n",
    "\n",
    "# Get the name of the current GPU-\n",
    "# print(f\"Current GPU name: {torch.cuda.get_device_name(torch.cuda.current_device())}\")\n",
    "\n",
    "# Is PyTorch using a GPU?\n",
    "# print(f\"Is PyTorch using a GPU? {torch.cuda.is_available()}\")\n",
    "\n",
    "if torch.cuda.is_available():\n",
    "    print(f\"Current GPU: {torch.cuda.current_device()}\")\n",
    "    print(f\"Current GPU name: {torch.cuda.get_device_name(torch.cuda.current_device())}\")\n",
    "else:\n",
    "    print(\"PyTorch does not have access to GPU\")"
   ]
  },
  {
   "cell_type": "code",
   "execution_count": 4,
   "id": "cdd0286a-995d-4211-ac1c-15b927ba5f9e",
   "metadata": {},
   "outputs": [
    {
     "name": "stdout",
     "output_type": "stream",
     "text": [
      "Available device is cuda\n"
     ]
    }
   ],
   "source": [
    "# Device configuration-\n",
    "device = torch.device('cuda' if torch.cuda.is_available() else 'cpu')\n",
    "print(f'Available device is {device}')"
   ]
  },
  {
   "cell_type": "code",
   "execution_count": null,
   "id": "eff14fda-6d32-4339-a681-06b428b7944c",
   "metadata": {},
   "outputs": [],
   "source": []
  },
  {
   "cell_type": "code",
   "execution_count": null,
   "id": "ec3e9f6b-a06c-4ba3-b211-484eaa5449cd",
   "metadata": {},
   "outputs": [],
   "source": []
  },
  {
   "cell_type": "code",
   "execution_count": 5,
   "id": "f4366577-708f-457c-acef-eb70ed14207d",
   "metadata": {},
   "outputs": [],
   "source": [
    "# Specify hyper-parameters\n",
    "batch_size = 64\n",
    "num_classes = 10\n",
    "num_epochs = 85"
   ]
  },
  {
   "cell_type": "code",
   "execution_count": null,
   "id": "031379e8-196c-4873-82da-35eace3ddf52",
   "metadata": {},
   "outputs": [],
   "source": []
  },
  {
   "cell_type": "code",
   "execution_count": null,
   "id": "485140fb-2c58-4e29-a8b3-0b7cb10502db",
   "metadata": {},
   "outputs": [],
   "source": []
  },
  {
   "cell_type": "markdown",
   "id": "b356c3f2-eca7-4e23-8275-9c545c588df5",
   "metadata": {},
   "source": [
    "### CIFAR-10 data pre-processing"
   ]
  },
  {
   "cell_type": "code",
   "execution_count": 6,
   "id": "101e7e48-195a-43cd-ab44-be095e1794e5",
   "metadata": {},
   "outputs": [],
   "source": [
    "# Define transformations for training and test sets-\n",
    "transform_train = transforms.Compose(\n",
    "    [\n",
    "      transforms.RandomCrop(32, padding = 4),\n",
    "      transforms.RandomHorizontalFlip(),\n",
    "      transforms.ToTensor(),\n",
    "      transforms.Normalize(\n",
    "        mean = (0.4914, 0.4822, 0.4465),\n",
    "        std = (0.0305, 0.0296, 0.0342)),\n",
    "     ]\n",
    ")\n",
    "\n",
    "transform_test = transforms.Compose(\n",
    "    [\n",
    "      transforms.ToTensor(),\n",
    "      transforms.Normalize(\n",
    "        mean = (0.4942, 0.4846, 0.4498),\n",
    "        std = (0.0304, 0.0295, 0.0342)),\n",
    "     ]\n",
    ")"
   ]
  },
  {
   "cell_type": "code",
   "execution_count": 7,
   "id": "940bd5f5-3773-4e1d-8e9f-6ef30dc1775a",
   "metadata": {},
   "outputs": [
    {
     "name": "stdout",
     "output_type": "stream",
     "text": [
      "Files already downloaded and verified\n",
      "Files already downloaded and verified\n"
     ]
    }
   ],
   "source": [
    "train_dataset = torchvision.datasets.CIFAR10(\n",
    "    root = './data', train = True,\n",
    "    download = True, transform = transform_train\n",
    ")\n",
    "\n",
    "test_dataset = torchvision.datasets.CIFAR10(\n",
    "    root = './data', train = False,\n",
    "    download = True, transform = transform_test\n",
    ")"
   ]
  },
  {
   "cell_type": "code",
   "execution_count": 8,
   "id": "812b33ec-db22-4ce5-842f-475ecf28a673",
   "metadata": {},
   "outputs": [],
   "source": [
    "train_loader = torch.utils.data.DataLoader(\n",
    "    dataset = train_dataset, batch_size = batch_size,\n",
    "    shuffle = True\n",
    "    )\n",
    "\n",
    "test_loader = torch.utils.data.DataLoader(\n",
    "    dataset = test_dataset, batch_size = batch_size,\n",
    "    shuffle = True\n",
    "    )"
   ]
  },
  {
   "cell_type": "code",
   "execution_count": null,
   "id": "5e21be4d-6e47-49ff-9307-be3047b1a4f1",
   "metadata": {},
   "outputs": [],
   "source": []
  },
  {
   "cell_type": "code",
   "execution_count": 9,
   "id": "30337cb8-3a0f-48ef-ba56-7241f6ecbf41",
   "metadata": {},
   "outputs": [
    {
     "name": "stdout",
     "output_type": "stream",
     "text": [
      "len(train_dataset) = 50000 & len(test_dataset) = 10000\n"
     ]
    }
   ],
   "source": [
    "print(f\"len(train_dataset) = {len(train_dataset)} & len(test_dataset) = {len(test_dataset)}\")"
   ]
  },
  {
   "cell_type": "code",
   "execution_count": 10,
   "id": "99f4faa6-2feb-4d9b-9928-f3f82f1af72f",
   "metadata": {},
   "outputs": [
    {
     "name": "stdout",
     "output_type": "stream",
     "text": [
      "len(train_loader) = 782 & len(test_loader) = 157\n"
     ]
    }
   ],
   "source": [
    "print(f\"len(train_loader) = {len(train_loader)} & len(test_loader) = {len(test_loader)}\")"
   ]
  },
  {
   "cell_type": "code",
   "execution_count": 11,
   "id": "6501c11f-bd08-4e4c-adda-30a75e349e1a",
   "metadata": {},
   "outputs": [
    {
     "data": {
      "text/plain": [
       "(781.25, 156.25)"
      ]
     },
     "execution_count": 11,
     "metadata": {},
     "output_type": "execute_result"
    }
   ],
   "source": [
    "len(train_dataset) / batch_size, len(test_dataset) / batch_size"
   ]
  },
  {
   "cell_type": "code",
   "execution_count": null,
   "id": "a068a2f3-fd04-4ec9-9624-ce4cc8e8ec77",
   "metadata": {},
   "outputs": [],
   "source": []
  },
  {
   "cell_type": "code",
   "execution_count": null,
   "id": "cd1c7b5d-e1b9-4433-a5fd-42f8b56ee5d3",
   "metadata": {},
   "outputs": [],
   "source": [
    "def calculate_mean_stddev(data_loader):\n",
    "    '''\n",
    "    Compute mean and standard-deviation across all channels for the input\n",
    "    data loader.\n",
    "    '''\n",
    "    # VAR(X) = E(X^2) - E(X) ^ 2\n",
    "    channels_sum, channels_squared_sum, num_batches = 0, 0, 0\n",
    "    \n",
    "    for data, _ in data_loader:\n",
    "        channels_sum += torch.mean(data, dim = [0, 2, 3])\n",
    "        # We don't want mean across channels (1st dimension), hence it is ignored.\n",
    "        \n",
    "        channels_squared_sum += torch.mean(data ** 2, dim = [0, 2, 3])\n",
    "        num_batches += 1\n",
    "    \n",
    "    mean = channels_sum / num_batches\n",
    "    std_dev = (channels_squared_sum / num_batches - (mean ** 2)) * 0.5\n",
    "    # You cannot sum the standard deviation as it is not a linear operation.\n",
    "    \n",
    "    return mean, std_dev\n"
   ]
  },
  {
   "cell_type": "code",
   "execution_count": null,
   "id": "9bb7337d-58bf-4f6a-ac06-2faad6fc31c4",
   "metadata": {},
   "outputs": [],
   "source": [
    "# mean_train, std_dev_train = calculate_mean_stddev(data_loader = train_loader)"
   ]
  },
  {
   "cell_type": "code",
   "execution_count": null,
   "id": "8eb7d116-3457-4c4e-a836-2c78eb33356b",
   "metadata": {},
   "outputs": [],
   "source": [
    "# mean_test, std_dev_test = calculate_mean_stddev(data_loader = test_loader)"
   ]
  },
  {
   "cell_type": "code",
   "execution_count": null,
   "id": "560009d7-f1c1-44df-827f-919ac422095b",
   "metadata": {},
   "outputs": [],
   "source": [
    "# print(f\"CIFAR-10 train dataset: mean = {mean_train} & std-dev = {std_dev_train}\")\n",
    "# print(f\"CIFAR-10 train dataset: mean = {mean_test} & std-dev = {std_dev_test}\")\n",
    "\n",
    "# Ignore this due to data augmentations which do not reflect the true data statistics!"
   ]
  },
  {
   "cell_type": "code",
   "execution_count": null,
   "id": "6e208c19-3c03-4340-b18d-caeaaf1f745d",
   "metadata": {},
   "outputs": [],
   "source": []
  },
  {
   "cell_type": "code",
   "execution_count": null,
   "id": "a5f47555-a09f-4793-bedc-6694de67ae61",
   "metadata": {},
   "outputs": [],
   "source": []
  },
  {
   "cell_type": "markdown",
   "id": "6cd07a61-b09f-4cba-91ba-fea67584392a",
   "metadata": {},
   "source": [
    "### Define _ResNet-50_ CNN architecture"
   ]
  },
  {
   "cell_type": "code",
   "execution_count": 12,
   "id": "1c202137-3281-4c2f-b850-8a8823dd8da1",
   "metadata": {},
   "outputs": [],
   "source": [
    "class ResNet_Block(nn.Module):\n",
    "   \n",
    "    def __init__(\n",
    "        self, num_inp_channels,\n",
    "        num_channels, num_bottleneck_channels,\n",
    "        stride = 1, dropout = 0.2,\n",
    "        use_1x1_conv = False, first_resblock = False\n",
    "    ):\n",
    "        super(ResNet_Block, self).__init__()\n",
    "        \n",
    "        self.num_inp_channels = num_inp_channels\n",
    "        self.num_channels = num_channels\n",
    "        self.num_bottleneck_channels = num_bottleneck_channels\n",
    "        self.stride = stride\n",
    "        self.dropout = dropout\n",
    "        self.use_1x1_conv = use_1x1_conv\n",
    "        self.first_resblock = first_resblock\n",
    "    \n",
    "        if self.first_resblock:\n",
    "            self.conv1 = nn.Conv2d(\n",
    "                in_channels = self.num_inp_channels, out_channels = self.num_bottleneck_channels,\n",
    "                kernel_size = 1, padding = 0,\n",
    "                stride = self.stride, bias = False\n",
    "            )\n",
    "            self.bn1 = nn.BatchNorm2d(num_features = self.num_bottleneck_channels)\n",
    "        else:\n",
    "            self.conv1 = nn.Conv2d(\n",
    "                in_channels = self.num_inp_channels, out_channels = self.num_bottleneck_channels,\n",
    "                kernel_size = 1, padding = 0,\n",
    "                stride = self.stride, bias = False\n",
    "            )\n",
    "            self.bn1 = nn.BatchNorm2d(num_features = self.num_bottleneck_channels)\n",
    "        \n",
    "        self.conv2 = nn.Conv2d(\n",
    "            in_channels = self.num_bottleneck_channels, out_channels = self.num_bottleneck_channels,\n",
    "            kernel_size = 3, padding = 1,\n",
    "            stride = 1, bias = False\n",
    "        )\n",
    "        self.bn2 = nn.BatchNorm2d(num_features = self.num_bottleneck_channels)\n",
    "        self.dropout = nn.Dropout(p = self.dropout)\n",
    "        \n",
    "        self.conv3 = nn.Conv2d(\n",
    "            in_channels = self.num_bottleneck_channels, out_channels = self.num_channels,\n",
    "            kernel_size = 1, padding = 0,\n",
    "            stride = 1, bias = False\n",
    "        )\n",
    "        self.bn3 = nn.BatchNorm2d(num_features = self.num_channels)\n",
    "        \n",
    "        if self.use_1x1_conv:\n",
    "            self.conv4 = nn.Conv2d(\n",
    "            in_channels = self.num_inp_channels, out_channels = self.num_channels,\n",
    "            kernel_size = 1, padding = 0,\n",
    "            stride = self.stride, bias = False\n",
    "            )\n",
    "            self.bn4 = nn.BatchNorm2d(num_features = self.num_channels)\n",
    "        \n",
    "        self.initialize_weights()\n",
    "\n",
    "            \n",
    "    def initialize_weights(self):\n",
    "        for m in self.modules():\n",
    "            # print(m)\n",
    "            if isinstance(m, nn.Conv2d):\n",
    "                nn.init.kaiming_normal_(m.weight)\n",
    "\n",
    "                '''\n",
    "                # Do not initialize bias (due to batchnorm)-\n",
    "                if m.bias is not None:\n",
    "                    nn.init.constant_(m.bias, 0)\n",
    "                '''\n",
    "            \n",
    "            elif isinstance(m, nn.BatchNorm2d):\n",
    "                # Standard initialization for batch normalization-\n",
    "                nn.init.constant_(m.weight, 1)\n",
    "                nn.init.constant_(m.bias, 0)\n",
    "\n",
    "            elif isinstance(m, nn.Linear):\n",
    "                nn.init.kaiming_normal_(m.weight)\n",
    "                nn.init.constant_(m.bias, 0)\n",
    "    \n",
    "    \n",
    "    def forward(self, x):\n",
    "        y = F.relu(self.bn1(self.conv1(x)))\n",
    "        y = self.dropout(F.relu(self.bn2(self.conv2(y))))\n",
    "        y = self.dropout(F.relu(self.bn3(self.conv3(y))))\n",
    "        \n",
    "        if self.use_1x1_conv:\n",
    "            x = self.bn4(self.conv4(x))\n",
    "            \n",
    "        y += x\n",
    "        return F.relu(self.dropout(y))\n",
    "    \n",
    "    \n",
    "    def shape_computation(self, x):\n",
    "        print(f\"Input shape: {x.shape}\")\n",
    "        y = F.relu(self.bn1(self.conv1(x)))\n",
    "        print(f\"First conv layer output shape: {y.shape}\")\n",
    "        y = self.bn2(self.conv2(y))\n",
    "        print(f\"Second conv layer output shape: {y.shape}\")\n",
    "        y = self.bn3(self.conv3(y))\n",
    "        print(f\"Third conv layer output shape: {y.shape}\")\n",
    "        \n",
    "        if self.use_1x1_conv:\n",
    "            x = self.bn4(self.conv4(x))\n",
    "            print(f\"Downsample with S = 2; identity connection output shape: {x.shape}\")\n",
    "            \n",
    "        y += x\n",
    "        print(f\"Residual block output shape: {y.shape}\")\n",
    "        return None\n",
    "    "
   ]
  },
  {
   "cell_type": "code",
   "execution_count": null,
   "id": "8ebf085a-d5ad-40c9-b212-633dc817e552",
   "metadata": {},
   "outputs": [],
   "source": []
  },
  {
   "cell_type": "code",
   "execution_count": 13,
   "id": "a27a0633-7e8d-4d75-a25b-84bf1ba82fb0",
   "metadata": {},
   "outputs": [],
   "source": [
    "class ResNet50(nn.Module):\n",
    "    def __init__(self):\n",
    "        super(ResNet50, self).__init__()\n",
    "        \n",
    "        self.conv1 = nn.Conv2d(\n",
    "            in_channels = 3, out_channels = 64,\n",
    "            kernel_size = 3, padding = 1,\n",
    "            stride = 1, bias = False\n",
    "        )\n",
    "        self.bn1 = nn.BatchNorm2d(num_features = 64)\n",
    "        \n",
    "        self.resblock1 = ResNet_Block(\n",
    "            num_inp_channels = 64, num_channels = 256,\n",
    "            num_bottleneck_channels = 64, stride = 1,\n",
    "            dropout = 0.2, use_1x1_conv = True,\n",
    "            first_resblock = True\n",
    "        )\n",
    "        \n",
    "        self.resblock2 = ResNet_Block(\n",
    "            num_inp_channels = 256, num_channels = 256,\n",
    "            num_bottleneck_channels = 64, stride = 1,\n",
    "            dropout = 0.2, use_1x1_conv = True,\n",
    "            first_resblock = False\n",
    "        )\n",
    "        \n",
    "        self.resblock3 = ResNet_Block(\n",
    "            num_inp_channels = 256, num_channels = 256,\n",
    "            num_bottleneck_channels = 64, stride = 1,\n",
    "            dropout = 0.2, use_1x1_conv = True,\n",
    "            first_resblock = False\n",
    "        )\n",
    "        \n",
    "        # Downsample-\n",
    "        self.resblock4 = ResNet_Block(\n",
    "            num_inp_channels = 256, num_channels = 512,\n",
    "            num_bottleneck_channels = 128, stride = 2,\n",
    "            dropout = 0.2, use_1x1_conv = True,\n",
    "            first_resblock = False\n",
    "        )\n",
    "        \n",
    "        self.resblock5 = ResNet_Block(\n",
    "            num_inp_channels = 512, num_channels = 512,\n",
    "            num_bottleneck_channels = 128, stride = 1,\n",
    "            dropout = 0.2, use_1x1_conv = True,\n",
    "            first_resblock = False\n",
    "        )\n",
    "        \n",
    "        self.resblock6 = ResNet_Block(\n",
    "            num_inp_channels = 512, num_channels = 512,\n",
    "            num_bottleneck_channels = 128, stride = 1,\n",
    "            dropout = 0.2, use_1x1_conv = True,\n",
    "            first_resblock = False\n",
    "        )\n",
    "        \n",
    "        self.resblock7 = ResNet_Block(\n",
    "            num_inp_channels = 512, num_channels = 512,\n",
    "            num_bottleneck_channels = 128, stride = 1,\n",
    "            dropout = 0.2, use_1x1_conv = True,\n",
    "            first_resblock = False\n",
    "        )\n",
    "        \n",
    "        # Downsample-\n",
    "        self.resblock8 = ResNet_Block(\n",
    "            num_inp_channels = 512, num_channels = 1024,\n",
    "            num_bottleneck_channels = 256, stride = 2,\n",
    "            dropout = 0.2, use_1x1_conv = True,\n",
    "            first_resblock = False\n",
    "        )\n",
    "        \n",
    "        self.resblock9 = ResNet_Block(\n",
    "            num_inp_channels = 1024, num_channels = 1024,\n",
    "            num_bottleneck_channels = 256, stride = 1,\n",
    "            dropout = 0.2, use_1x1_conv = True,\n",
    "            first_resblock = False\n",
    "        )\n",
    "        \n",
    "        self.resblock10 = ResNet_Block(\n",
    "            num_inp_channels = 1024, num_channels = 1024,\n",
    "            num_bottleneck_channels = 256, stride = 1,\n",
    "            dropout = 0.2, use_1x1_conv = True,\n",
    "            first_resblock = False\n",
    "        )\n",
    "        \n",
    "        self.resblock11 = resblock9 = ResNet_Block(\n",
    "            num_inp_channels = 1024, num_channels = 1024,\n",
    "            num_bottleneck_channels = 256, stride = 1,\n",
    "            dropout = 0.2, use_1x1_conv = True,\n",
    "            first_resblock = False\n",
    "        )\n",
    "        \n",
    "        self.resblock12 = resblock9 = ResNet_Block(\n",
    "            num_inp_channels = 1024, num_channels = 1024,\n",
    "            num_bottleneck_channels = 256, stride = 1,\n",
    "            dropout = 0.2, use_1x1_conv = True,\n",
    "            first_resblock = False\n",
    "        )\n",
    "        \n",
    "        self.resblock13 = resblock9 = ResNet_Block(\n",
    "            num_inp_channels = 1024, num_channels = 1024,\n",
    "            num_bottleneck_channels = 256, stride = 1,\n",
    "            dropout = 0.2, use_1x1_conv = True,\n",
    "            first_resblock = False\n",
    "        )\n",
    "        \n",
    "        # Downsample-\n",
    "        self.resblock14 = ResNet_Block(\n",
    "            num_inp_channels = 1024, num_channels = 2048,\n",
    "            num_bottleneck_channels = 512, stride = 2,\n",
    "            dropout = 0.2, use_1x1_conv = True,\n",
    "            first_resblock = False\n",
    "        )\n",
    "        \n",
    "        self.resblock15 = ResNet_Block(\n",
    "            num_inp_channels = 2048, num_channels = 2048,\n",
    "            num_bottleneck_channels = 512, stride = 1,\n",
    "            dropout = 0.2, use_1x1_conv = True,\n",
    "            first_resblock = False\n",
    "        )\n",
    "        \n",
    "        self.resblock16 = ResNet_Block(\n",
    "            num_inp_channels = 2048, num_channels = 2048,\n",
    "            num_bottleneck_channels = 512, stride = 1,\n",
    "            dropout = 0.2, use_1x1_conv = True,\n",
    "            first_resblock = False\n",
    "        )\n",
    "        \n",
    "        # self.avg_pool = nn.AvgPool2d(kernel_size = 3, stride = 2)\n",
    "        self.avg_pool = nn.AdaptiveAvgPool2d(output_size = (1, 1))\n",
    "        self.output_layer = nn.Linear(in_features = 2048, out_features = 10)\n",
    "        \n",
    "        \n",
    "    def forward(self, x):\n",
    "        x = F.relu(self.bn1(self.conv1(x)))\n",
    "        x = self.resblock1(x)\n",
    "        x = self.resblock2(x)\n",
    "        x = self.resblock3(x)\n",
    "        x = self.resblock4(x)\n",
    "        x = self.resblock5(x)\n",
    "        x = self.resblock6(x)\n",
    "        x = self.resblock7(x)\n",
    "        x = self.resblock8(x)\n",
    "        x = self.resblock9(x)\n",
    "        x = self.resblock10(x)\n",
    "        x = self.resblock11(x)\n",
    "        x = self.resblock12(x)\n",
    "        x = self.resblock13(x)\n",
    "        x = self.resblock14(x)\n",
    "        x = self.resblock15(x)\n",
    "        x = self.resblock16(x)\n",
    "        x = self.avg_pool(x).squeeze()\n",
    "        x = self.output_layer(x)\n",
    "        return x\n",
    "    \n",
    "    \n",
    "    def shape_computation(self, x):\n",
    "        print(f\"Input shape: {x.shape}\")\n",
    "        x = F.relu(self.bn1(self.conv1(x)))\n",
    "        print(f\"First conv layer output shape: {x.shape}\")\n",
    "        x = self.resblock1(x)\n",
    "        print(f\"ResBlock 1 output shape: {x.shape}\")\n",
    "        x = self.resblock2(x)\n",
    "        print(f\"ResBlock 2 output shape: {x.shape}\")\n",
    "        x = self.resblock3(x)\n",
    "        print(f\"ResBlock 3 output shape: {x.shape}\")\n",
    "        x = self.resblock4(x)\n",
    "        print(f\"ResBlock 4 output shape: {x.shape}\")\n",
    "        x = self.resblock5(x)\n",
    "        print(f\"ResBlock 5 output shape: {x.shape}\")\n",
    "        x = self.resblock6(x)\n",
    "        print(f\"ResBlock 6 output shape: {x.shape}\")\n",
    "        x = self.resblock7(x)\n",
    "        print(f\"ResBlock 7 output shape: {x.shape}\")\n",
    "        x = self.resblock8(x)\n",
    "        print(f\"ResBlock 8 output shape: {x.shape}\")\n",
    "        x = self.resblock9(x)\n",
    "        print(f\"ResBlock 9 output shape: {x.shape}\")\n",
    "        x = self.resblock10(x)\n",
    "        print(f\"ResBlock 10 output shape: {x.shape}\")\n",
    "        x = self.resblock11(x)\n",
    "        print(f\"ResBlock 11 output shape: {x.shape}\")\n",
    "        x = self.resblock12(x)\n",
    "        print(f\"ResBlock 12 output shape: {x.shape}\")\n",
    "        x = self.resblock13(x)\n",
    "        print(f\"ResBlock 13 output shape: {x.shape}\")\n",
    "        x = self.resblock14(x)\n",
    "        print(f\"ResBlock 14 output shape: {x.shape}\")\n",
    "        x = self.resblock15(x)\n",
    "        print(f\"ResBlock 15 output shape: {x.shape}\")\n",
    "        x = self.resblock16(x)\n",
    "        print(f\"ResBlock 16 output shape: {x.shape}\")\n",
    "        x = self.avg_pool(x).squeeze()\n",
    "        print(f\"Average pool output shape: {x.shape}\")\n",
    "        x = self.output_layer(x)\n",
    "        print(f\"Output layer shape: {x.shape}\")\n",
    "        del x\n",
    "        return None\n",
    "        \n",
    "    "
   ]
  },
  {
   "cell_type": "code",
   "execution_count": null,
   "id": "b855adb3-51d9-48c1-9229-61676c20cf3b",
   "metadata": {},
   "outputs": [],
   "source": []
  },
  {
   "cell_type": "code",
   "execution_count": null,
   "id": "b4f5b522-e9b1-4b7c-a8e6-55ee48430caa",
   "metadata": {},
   "outputs": [],
   "source": []
  },
  {
   "cell_type": "markdown",
   "id": "9da37a6d-d548-448d-8289-c305bfda8eaa",
   "metadata": {},
   "source": [
    "### Multi-GPU Training in PyTorch\n",
    "\n",
    "- [Multi-GPU Examples](https://pytorch.org/tutorials/beginner/former_torchies/parallelism_tutorial.html)\n",
    "\n",
    "- [Data Parallelism](https://pytorch.org/tutorials/beginner/blitz/data_parallel_tutorial.html)"
   ]
  },
  {
   "cell_type": "code",
   "execution_count": 14,
   "id": "9dcd1bf0-6410-46cc-8661-3d0423f786df",
   "metadata": {},
   "outputs": [],
   "source": [
    "# Initialize ResNet-50 architecture-\n",
    "model = ResNet50()"
   ]
  },
  {
   "cell_type": "code",
   "execution_count": null,
   "id": "bf376469-d058-42c2-b498-522de2083acf",
   "metadata": {},
   "outputs": [],
   "source": [
    "# Use all available GPUs-\n",
    "model = nn.DataParallel(model)\n",
    "model.to(device)"
   ]
  },
  {
   "cell_type": "code",
   "execution_count": null,
   "id": "fe7c561e-21d6-4b36-8e73-77c499d22b49",
   "metadata": {},
   "outputs": [],
   "source": []
  },
  {
   "cell_type": "code",
   "execution_count": 16,
   "id": "1874f493-d893-4ab1-afc3-2fe8148fb291",
   "metadata": {},
   "outputs": [],
   "source": [
    "# Sanity check-\n",
    "x, y = next(iter(train_loader))\n",
    "x = x.to(device)\n",
    "y = y.to(device)"
   ]
  },
  {
   "cell_type": "code",
   "execution_count": 17,
   "id": "61ac4f1e-5e4e-4a26-a3c9-fca011f5b9bb",
   "metadata": {},
   "outputs": [
    {
     "data": {
      "text/plain": [
       "(torch.Size([64, 3, 32, 32]), torch.Size([64]))"
      ]
     },
     "execution_count": 17,
     "metadata": {},
     "output_type": "execute_result"
    }
   ],
   "source": [
    "x.shape, y.shape"
   ]
  },
  {
   "cell_type": "code",
   "execution_count": 18,
   "id": "e6f8783c-aebd-4eb2-825c-9c2e5255afc1",
   "metadata": {},
   "outputs": [],
   "source": [
    "out = model(x)"
   ]
  },
  {
   "cell_type": "code",
   "execution_count": 19,
   "id": "f66435e8-8e6c-4d80-ba42-2121c4ee47b8",
   "metadata": {},
   "outputs": [
    {
     "data": {
      "text/plain": [
       "torch.Size([64, 10])"
      ]
     },
     "execution_count": 19,
     "metadata": {},
     "output_type": "execute_result"
    }
   ],
   "source": [
    "out.shape"
   ]
  },
  {
   "cell_type": "code",
   "execution_count": 20,
   "id": "63c871d9-5854-4b88-97ea-2a38181479cd",
   "metadata": {},
   "outputs": [],
   "source": [
    "del x, y, out"
   ]
  },
  {
   "cell_type": "code",
   "execution_count": null,
   "id": "f3ac51a3-f676-410d-8ccf-c0d6ffd9fd6e",
   "metadata": {},
   "outputs": [],
   "source": []
  },
  {
   "cell_type": "code",
   "execution_count": 21,
   "id": "6faa4990-1d94-42fb-9ecf-1b363dea01dc",
   "metadata": {},
   "outputs": [
    {
     "name": "stdout",
     "output_type": "stream",
     "text": [
      "layer.shape = torch.Size([64, 3, 3, 3]) has 1728 parameters\n",
      "layer.shape = torch.Size([64]) has 64 parameters\n",
      "layer.shape = torch.Size([64]) has 64 parameters\n",
      "layer.shape = torch.Size([64, 64, 1, 1]) has 4096 parameters\n",
      "layer.shape = torch.Size([64]) has 64 parameters\n",
      "layer.shape = torch.Size([64]) has 64 parameters\n",
      "layer.shape = torch.Size([64, 64, 3, 3]) has 36864 parameters\n",
      "layer.shape = torch.Size([64]) has 64 parameters\n",
      "layer.shape = torch.Size([64]) has 64 parameters\n",
      "layer.shape = torch.Size([256, 64, 1, 1]) has 16384 parameters\n",
      "layer.shape = torch.Size([256]) has 256 parameters\n",
      "layer.shape = torch.Size([256]) has 256 parameters\n",
      "layer.shape = torch.Size([256, 64, 1, 1]) has 16384 parameters\n",
      "layer.shape = torch.Size([256]) has 256 parameters\n",
      "layer.shape = torch.Size([256]) has 256 parameters\n",
      "layer.shape = torch.Size([64, 256, 1, 1]) has 16384 parameters\n",
      "layer.shape = torch.Size([64]) has 64 parameters\n",
      "layer.shape = torch.Size([64]) has 64 parameters\n",
      "layer.shape = torch.Size([64, 64, 3, 3]) has 36864 parameters\n",
      "layer.shape = torch.Size([64]) has 64 parameters\n",
      "layer.shape = torch.Size([64]) has 64 parameters\n",
      "layer.shape = torch.Size([256, 64, 1, 1]) has 16384 parameters\n",
      "layer.shape = torch.Size([256]) has 256 parameters\n",
      "layer.shape = torch.Size([256]) has 256 parameters\n",
      "layer.shape = torch.Size([256, 256, 1, 1]) has 65536 parameters\n",
      "layer.shape = torch.Size([256]) has 256 parameters\n",
      "layer.shape = torch.Size([256]) has 256 parameters\n",
      "layer.shape = torch.Size([64, 256, 1, 1]) has 16384 parameters\n",
      "layer.shape = torch.Size([64]) has 64 parameters\n",
      "layer.shape = torch.Size([64]) has 64 parameters\n",
      "layer.shape = torch.Size([64, 64, 3, 3]) has 36864 parameters\n",
      "layer.shape = torch.Size([64]) has 64 parameters\n",
      "layer.shape = torch.Size([64]) has 64 parameters\n",
      "layer.shape = torch.Size([256, 64, 1, 1]) has 16384 parameters\n",
      "layer.shape = torch.Size([256]) has 256 parameters\n",
      "layer.shape = torch.Size([256]) has 256 parameters\n",
      "layer.shape = torch.Size([256, 256, 1, 1]) has 65536 parameters\n",
      "layer.shape = torch.Size([256]) has 256 parameters\n",
      "layer.shape = torch.Size([256]) has 256 parameters\n",
      "layer.shape = torch.Size([128, 256, 1, 1]) has 32768 parameters\n",
      "layer.shape = torch.Size([128]) has 128 parameters\n",
      "layer.shape = torch.Size([128]) has 128 parameters\n",
      "layer.shape = torch.Size([128, 128, 3, 3]) has 147456 parameters\n",
      "layer.shape = torch.Size([128]) has 128 parameters\n",
      "layer.shape = torch.Size([128]) has 128 parameters\n",
      "layer.shape = torch.Size([512, 128, 1, 1]) has 65536 parameters\n",
      "layer.shape = torch.Size([512]) has 512 parameters\n",
      "layer.shape = torch.Size([512]) has 512 parameters\n",
      "layer.shape = torch.Size([512, 256, 1, 1]) has 131072 parameters\n",
      "layer.shape = torch.Size([512]) has 512 parameters\n",
      "layer.shape = torch.Size([512]) has 512 parameters\n",
      "layer.shape = torch.Size([128, 512, 1, 1]) has 65536 parameters\n",
      "layer.shape = torch.Size([128]) has 128 parameters\n",
      "layer.shape = torch.Size([128]) has 128 parameters\n",
      "layer.shape = torch.Size([128, 128, 3, 3]) has 147456 parameters\n",
      "layer.shape = torch.Size([128]) has 128 parameters\n",
      "layer.shape = torch.Size([128]) has 128 parameters\n",
      "layer.shape = torch.Size([512, 128, 1, 1]) has 65536 parameters\n",
      "layer.shape = torch.Size([512]) has 512 parameters\n",
      "layer.shape = torch.Size([512]) has 512 parameters\n",
      "layer.shape = torch.Size([512, 512, 1, 1]) has 262144 parameters\n",
      "layer.shape = torch.Size([512]) has 512 parameters\n",
      "layer.shape = torch.Size([512]) has 512 parameters\n",
      "layer.shape = torch.Size([128, 512, 1, 1]) has 65536 parameters\n",
      "layer.shape = torch.Size([128]) has 128 parameters\n",
      "layer.shape = torch.Size([128]) has 128 parameters\n",
      "layer.shape = torch.Size([128, 128, 3, 3]) has 147456 parameters\n",
      "layer.shape = torch.Size([128]) has 128 parameters\n",
      "layer.shape = torch.Size([128]) has 128 parameters\n",
      "layer.shape = torch.Size([512, 128, 1, 1]) has 65536 parameters\n",
      "layer.shape = torch.Size([512]) has 512 parameters\n",
      "layer.shape = torch.Size([512]) has 512 parameters\n",
      "layer.shape = torch.Size([512, 512, 1, 1]) has 262144 parameters\n",
      "layer.shape = torch.Size([512]) has 512 parameters\n",
      "layer.shape = torch.Size([512]) has 512 parameters\n",
      "layer.shape = torch.Size([128, 512, 1, 1]) has 65536 parameters\n",
      "layer.shape = torch.Size([128]) has 128 parameters\n",
      "layer.shape = torch.Size([128]) has 128 parameters\n",
      "layer.shape = torch.Size([128, 128, 3, 3]) has 147456 parameters\n",
      "layer.shape = torch.Size([128]) has 128 parameters\n",
      "layer.shape = torch.Size([128]) has 128 parameters\n",
      "layer.shape = torch.Size([512, 128, 1, 1]) has 65536 parameters\n",
      "layer.shape = torch.Size([512]) has 512 parameters\n",
      "layer.shape = torch.Size([512]) has 512 parameters\n",
      "layer.shape = torch.Size([512, 512, 1, 1]) has 262144 parameters\n",
      "layer.shape = torch.Size([512]) has 512 parameters\n",
      "layer.shape = torch.Size([512]) has 512 parameters\n",
      "layer.shape = torch.Size([256, 512, 1, 1]) has 131072 parameters\n",
      "layer.shape = torch.Size([256]) has 256 parameters\n",
      "layer.shape = torch.Size([256]) has 256 parameters\n",
      "layer.shape = torch.Size([256, 256, 3, 3]) has 589824 parameters\n",
      "layer.shape = torch.Size([256]) has 256 parameters\n",
      "layer.shape = torch.Size([256]) has 256 parameters\n",
      "layer.shape = torch.Size([1024, 256, 1, 1]) has 262144 parameters\n",
      "layer.shape = torch.Size([1024]) has 1024 parameters\n",
      "layer.shape = torch.Size([1024]) has 1024 parameters\n",
      "layer.shape = torch.Size([1024, 512, 1, 1]) has 524288 parameters\n",
      "layer.shape = torch.Size([1024]) has 1024 parameters\n",
      "layer.shape = torch.Size([1024]) has 1024 parameters\n",
      "layer.shape = torch.Size([256, 1024, 1, 1]) has 262144 parameters\n",
      "layer.shape = torch.Size([256]) has 256 parameters\n",
      "layer.shape = torch.Size([256]) has 256 parameters\n",
      "layer.shape = torch.Size([256, 256, 3, 3]) has 589824 parameters\n",
      "layer.shape = torch.Size([256]) has 256 parameters\n",
      "layer.shape = torch.Size([256]) has 256 parameters\n",
      "layer.shape = torch.Size([1024, 256, 1, 1]) has 262144 parameters\n",
      "layer.shape = torch.Size([1024]) has 1024 parameters\n",
      "layer.shape = torch.Size([1024]) has 1024 parameters\n",
      "layer.shape = torch.Size([1024, 1024, 1, 1]) has 1048576 parameters\n",
      "layer.shape = torch.Size([1024]) has 1024 parameters\n",
      "layer.shape = torch.Size([1024]) has 1024 parameters\n",
      "layer.shape = torch.Size([256, 1024, 1, 1]) has 262144 parameters\n",
      "layer.shape = torch.Size([256]) has 256 parameters\n",
      "layer.shape = torch.Size([256]) has 256 parameters\n",
      "layer.shape = torch.Size([256, 256, 3, 3]) has 589824 parameters\n",
      "layer.shape = torch.Size([256]) has 256 parameters\n",
      "layer.shape = torch.Size([256]) has 256 parameters\n",
      "layer.shape = torch.Size([1024, 256, 1, 1]) has 262144 parameters\n",
      "layer.shape = torch.Size([1024]) has 1024 parameters\n",
      "layer.shape = torch.Size([1024]) has 1024 parameters\n",
      "layer.shape = torch.Size([1024, 1024, 1, 1]) has 1048576 parameters\n",
      "layer.shape = torch.Size([1024]) has 1024 parameters\n",
      "layer.shape = torch.Size([1024]) has 1024 parameters\n",
      "layer.shape = torch.Size([256, 1024, 1, 1]) has 262144 parameters\n",
      "layer.shape = torch.Size([256]) has 256 parameters\n",
      "layer.shape = torch.Size([256]) has 256 parameters\n",
      "layer.shape = torch.Size([256, 256, 3, 3]) has 589824 parameters\n",
      "layer.shape = torch.Size([256]) has 256 parameters\n",
      "layer.shape = torch.Size([256]) has 256 parameters\n",
      "layer.shape = torch.Size([1024, 256, 1, 1]) has 262144 parameters\n",
      "layer.shape = torch.Size([1024]) has 1024 parameters\n",
      "layer.shape = torch.Size([1024]) has 1024 parameters\n",
      "layer.shape = torch.Size([1024, 1024, 1, 1]) has 1048576 parameters\n",
      "layer.shape = torch.Size([1024]) has 1024 parameters\n",
      "layer.shape = torch.Size([1024]) has 1024 parameters\n",
      "layer.shape = torch.Size([256, 1024, 1, 1]) has 262144 parameters\n",
      "layer.shape = torch.Size([256]) has 256 parameters\n",
      "layer.shape = torch.Size([256]) has 256 parameters\n",
      "layer.shape = torch.Size([256, 256, 3, 3]) has 589824 parameters\n",
      "layer.shape = torch.Size([256]) has 256 parameters\n",
      "layer.shape = torch.Size([256]) has 256 parameters\n",
      "layer.shape = torch.Size([1024, 256, 1, 1]) has 262144 parameters\n",
      "layer.shape = torch.Size([1024]) has 1024 parameters\n",
      "layer.shape = torch.Size([1024]) has 1024 parameters\n",
      "layer.shape = torch.Size([1024, 1024, 1, 1]) has 1048576 parameters\n",
      "layer.shape = torch.Size([1024]) has 1024 parameters\n",
      "layer.shape = torch.Size([1024]) has 1024 parameters\n",
      "layer.shape = torch.Size([256, 1024, 1, 1]) has 262144 parameters\n",
      "layer.shape = torch.Size([256]) has 256 parameters\n",
      "layer.shape = torch.Size([256]) has 256 parameters\n",
      "layer.shape = torch.Size([256, 256, 3, 3]) has 589824 parameters\n",
      "layer.shape = torch.Size([256]) has 256 parameters\n",
      "layer.shape = torch.Size([256]) has 256 parameters\n",
      "layer.shape = torch.Size([1024, 256, 1, 1]) has 262144 parameters\n",
      "layer.shape = torch.Size([1024]) has 1024 parameters\n",
      "layer.shape = torch.Size([1024]) has 1024 parameters\n",
      "layer.shape = torch.Size([1024, 1024, 1, 1]) has 1048576 parameters\n",
      "layer.shape = torch.Size([1024]) has 1024 parameters\n",
      "layer.shape = torch.Size([1024]) has 1024 parameters\n",
      "layer.shape = torch.Size([512, 1024, 1, 1]) has 524288 parameters\n",
      "layer.shape = torch.Size([512]) has 512 parameters\n",
      "layer.shape = torch.Size([512]) has 512 parameters\n",
      "layer.shape = torch.Size([512, 512, 3, 3]) has 2359296 parameters\n",
      "layer.shape = torch.Size([512]) has 512 parameters\n",
      "layer.shape = torch.Size([512]) has 512 parameters\n",
      "layer.shape = torch.Size([2048, 512, 1, 1]) has 1048576 parameters\n",
      "layer.shape = torch.Size([2048]) has 2048 parameters\n",
      "layer.shape = torch.Size([2048]) has 2048 parameters\n",
      "layer.shape = torch.Size([2048, 1024, 1, 1]) has 2097152 parameters\n",
      "layer.shape = torch.Size([2048]) has 2048 parameters\n",
      "layer.shape = torch.Size([2048]) has 2048 parameters\n",
      "layer.shape = torch.Size([512, 2048, 1, 1]) has 1048576 parameters\n",
      "layer.shape = torch.Size([512]) has 512 parameters\n",
      "layer.shape = torch.Size([512]) has 512 parameters\n",
      "layer.shape = torch.Size([512, 512, 3, 3]) has 2359296 parameters\n",
      "layer.shape = torch.Size([512]) has 512 parameters\n",
      "layer.shape = torch.Size([512]) has 512 parameters\n",
      "layer.shape = torch.Size([2048, 512, 1, 1]) has 1048576 parameters\n",
      "layer.shape = torch.Size([2048]) has 2048 parameters\n",
      "layer.shape = torch.Size([2048]) has 2048 parameters\n",
      "layer.shape = torch.Size([2048, 2048, 1, 1]) has 4194304 parameters\n",
      "layer.shape = torch.Size([2048]) has 2048 parameters\n",
      "layer.shape = torch.Size([2048]) has 2048 parameters\n",
      "layer.shape = torch.Size([512, 2048, 1, 1]) has 1048576 parameters\n",
      "layer.shape = torch.Size([512]) has 512 parameters\n",
      "layer.shape = torch.Size([512]) has 512 parameters\n",
      "layer.shape = torch.Size([512, 512, 3, 3]) has 2359296 parameters\n",
      "layer.shape = torch.Size([512]) has 512 parameters\n",
      "layer.shape = torch.Size([512]) has 512 parameters\n",
      "layer.shape = torch.Size([2048, 512, 1, 1]) has 1048576 parameters\n",
      "layer.shape = torch.Size([2048]) has 2048 parameters\n",
      "layer.shape = torch.Size([2048]) has 2048 parameters\n",
      "layer.shape = torch.Size([2048, 2048, 1, 1]) has 4194304 parameters\n",
      "layer.shape = torch.Size([2048]) has 2048 parameters\n",
      "layer.shape = torch.Size([2048]) has 2048 parameters\n",
      "layer.shape = torch.Size([10, 2048]) has 20480 parameters\n",
      "layer.shape = torch.Size([10]) has 10 parameters\n"
     ]
    }
   ],
   "source": [
    "# Count number of layer-wise parameters and total parameters-\n",
    "tot_params = 0\n",
    "for param in model.parameters():\n",
    "    print(f\"layer.shape = {param.shape} has {param.nelement()} parameters\")\n",
    "    tot_params += param.nelement()"
   ]
  },
  {
   "cell_type": "code",
   "execution_count": 22,
   "id": "3a41e820-be5c-4e0d-a63e-227c09f01a31",
   "metadata": {},
   "outputs": [
    {
     "name": "stdout",
     "output_type": "stream",
     "text": [
      "Total number of parameters in ResNet-50 CNN = 38092362\n"
     ]
    }
   ],
   "source": [
    "print(f\"Total number of parameters in ResNet-50 CNN = {tot_params}\")"
   ]
  },
  {
   "cell_type": "code",
   "execution_count": null,
   "id": "8cd1e099-3220-4492-813a-db35b5c287a0",
   "metadata": {},
   "outputs": [],
   "source": []
  },
  {
   "cell_type": "code",
   "execution_count": null,
   "id": "2d49d53d-2085-4344-bb6a-193cb8b257ee",
   "metadata": {},
   "outputs": [],
   "source": [
    "'''\n",
    "# Print layer names-\n",
    "for layer in model.state_dict().keys():\n",
    "    print(f\"{layer} has dimension = {model.state_dict()[layer].shape}\")\n",
    "'''"
   ]
  },
  {
   "cell_type": "code",
   "execution_count": null,
   "id": "81acff45-a08a-483e-8e66-3aa9687e79b7",
   "metadata": {},
   "outputs": [],
   "source": [
    "# Save random initial weights-\n",
    "# torch.save(model.state_dict(), 'ResNet50_random_weights.pth')"
   ]
  },
  {
   "cell_type": "code",
   "execution_count": null,
   "id": "7a8b72a3-644e-4343-a88f-9aeefca24561",
   "metadata": {},
   "outputs": [],
   "source": [
    "# Load randomly initialised weights-\n",
    "'''\n",
    "test_model = ResNet50()\n",
    "test_model = nn.DataParallel(test_model)\n",
    "test_model.to(device)\n",
    "test_model.load_state_dict(torch.load(\"ResNet50_random_weights.pth\"))\n",
    "'''"
   ]
  },
  {
   "cell_type": "code",
   "execution_count": null,
   "id": "859f3c6c-2808-4505-a126-ef4a67a1c542",
   "metadata": {},
   "outputs": [],
   "source": []
  },
  {
   "cell_type": "code",
   "execution_count": null,
   "id": "38f7b601-fc05-4bf5-8627-75b55ac1286c",
   "metadata": {},
   "outputs": [],
   "source": []
  },
  {
   "cell_type": "code",
   "execution_count": null,
   "id": "8f631bb3-ccca-43cd-afd0-11024687cd4e",
   "metadata": {},
   "outputs": [],
   "source": []
  },
  {
   "cell_type": "markdown",
   "id": "7cf7403c-a595-4a93-aa29-0bdbca1d2d7e",
   "metadata": {},
   "source": [
    "### Train _ResNet-50_ CNN with Learning Rate Scheduler\n",
    "\n",
    "Training dataset size = 50K, batch-size = 64, number of training steps per epoch = 50K / 64 = 781.25\n",
    "\n",
    "After an initial LR warmup of 13 epochs or, 10156.25 = 10157 training iterations:\n",
    "\n",
    "- For the next 32 epochs, or, 25000 steps - until 45rd epoch, use lr = 0.1.\n",
    "\n",
    "- For the next 25 epochs, or, 19531.25 steps - until 70th epoch, use lr = 0.01.\n",
    "\n",
    "- For remaining epochs, use lr = 0.001."
   ]
  },
  {
   "cell_type": "code",
   "execution_count": 23,
   "id": "336616d8-53c5-4420-812e-1237f75e7500",
   "metadata": {},
   "outputs": [],
   "source": [
    "boundaries = [35157, 53125]\n",
    "values = [0.1, 0.01, 0.001]"
   ]
  },
  {
   "cell_type": "code",
   "execution_count": 24,
   "id": "de486c7a-6dd6-4757-9185-2bc195872abd",
   "metadata": {},
   "outputs": [],
   "source": [
    "# Define loss function and optimizer-\n",
    "loss = nn.CrossEntropyLoss()\n",
    "\n",
    "# optimizer = torch.optim.Adam(model.parameters(), lr = learning_rate)\n",
    "optimizer = torch.optim.SGD(model.parameters(), lr = 0.0, momentum = 0.9, weight_decay = 5e-4)"
   ]
  },
  {
   "cell_type": "code",
   "execution_count": 25,
   "id": "9dd606b8-b267-4eb0-8586-8a5da6a56299",
   "metadata": {},
   "outputs": [
    {
     "data": {
      "text/plain": [
       "0.0"
      ]
     },
     "execution_count": 25,
     "metadata": {},
     "output_type": "execute_result"
    }
   ],
   "source": [
    "# Sanity check-\n",
    "optimizer.param_groups[0]['lr']"
   ]
  },
  {
   "cell_type": "code",
   "execution_count": null,
   "id": "34e8bb2e-ddf1-4d04-8c02-ab33ac62aff4",
   "metadata": {},
   "outputs": [],
   "source": []
  },
  {
   "cell_type": "code",
   "execution_count": 26,
   "id": "794de38a-92fa-4802-9acd-569061f2aa81",
   "metadata": {},
   "outputs": [],
   "source": [
    "def decay_function(step, boundaries = [35157, 53125], values = [0.1, 0.01, 0.001]):\n",
    "    \n",
    "    for idx, bound in enumerate(boundaries):\n",
    "        if step < bound:\n",
    "            return values[idx]\n",
    "\n",
    "    return values[-1]\n"
   ]
  },
  {
   "cell_type": "code",
   "execution_count": 27,
   "id": "44b51e0e-c0ce-4e78-9884-b687edb727d8",
   "metadata": {},
   "outputs": [],
   "source": [
    "class schedule():\n",
    "\n",
    "    def __init__(self, initial_learning_rate = 0.1, warmup_steps = 1000, decay_func = None):\n",
    "        self.initial_learning_rate = initial_learning_rate\n",
    "        self.warmup_steps = warmup_steps\n",
    "        self.decay_func = decay_func\n",
    "        self.warmup_step_size = initial_learning_rate/warmup_steps\n",
    "        self.current_lr = 0\n",
    "\n",
    "    def get_lr(self, step):\n",
    "        if step == 0:\n",
    "            return self.current_lr\n",
    "        elif step <= self.warmup_steps:\n",
    "            self.current_lr+=self.warmup_step_size\n",
    "            return self.current_lr\n",
    "        elif step > self.warmup_steps:\n",
    "            if self.decay_func:\n",
    "                return self.decay_func(step)\n",
    "        else:\n",
    "            return self.current_lr\n",
    "        "
   ]
  },
  {
   "cell_type": "code",
   "execution_count": null,
   "id": "a47c35a0-2e7b-4582-8380-5cc26878f1ab",
   "metadata": {},
   "outputs": [],
   "source": []
  },
  {
   "cell_type": "code",
   "execution_count": 28,
   "id": "99a3defe-f2ab-4dd0-9e39-05122bd6ef32",
   "metadata": {},
   "outputs": [],
   "source": [
    "# Initial linear LR warmup: 781.25 x 13 = 10156.25 steps in 13 epochs.\n",
    "custom_lr_scheduler = schedule(\n",
    "    initial_learning_rate = 0.1, warmup_steps = 10157,\n",
    "    decay_func = decay_function\n",
    ")"
   ]
  },
  {
   "cell_type": "code",
   "execution_count": null,
   "id": "9aa792b4-9eeb-49a7-b7b7-02684ef48fce",
   "metadata": {},
   "outputs": [],
   "source": []
  },
  {
   "cell_type": "code",
   "execution_count": 29,
   "id": "bcd7a4ab-14c1-42ff-9adc-8e9b6e078d6c",
   "metadata": {},
   "outputs": [],
   "source": [
    "step = 0"
   ]
  },
  {
   "cell_type": "code",
   "execution_count": null,
   "id": "93a04b3a-6f6c-48d7-902b-97bfbce94204",
   "metadata": {},
   "outputs": [],
   "source": []
  },
  {
   "cell_type": "code",
   "execution_count": 30,
   "id": "51d4912b-653a-41db-9504-63c78ebadfe9",
   "metadata": {},
   "outputs": [],
   "source": [
    "def train_model_progress(model, train_loader):\n",
    "    '''\n",
    "    Function to perform one epoch of training by using 'train_loader'.\n",
    "    Returns loss and number of correct predictions for this epoch.\n",
    "    '''\n",
    "    running_loss = 0.0\n",
    "    running_corrects = 0.0\n",
    "    \n",
    "    model.train()\n",
    "    \n",
    "    with tqdm(train_loader, unit = 'batch') as tepoch:\n",
    "        for images, labels in tepoch:\n",
    "            tepoch.set_description(f\"Training: \")\n",
    "            \n",
    "            images = images.to(device)\n",
    "            labels = labels.to(device)\n",
    "            \n",
    "            # Get model predictions-\n",
    "            outputs = model(images)\n",
    "            \n",
    "            # Compute loss-\n",
    "            J = loss(outputs, labels)\n",
    "            \n",
    "            # Empty accumulated gradients-\n",
    "            optimizer.zero_grad()\n",
    "            \n",
    "            # Perform backprop-\n",
    "            J.backward()\n",
    "            \n",
    "            # Update parameters-\n",
    "            optimizer.step()\n",
    "            \n",
    "            global step\n",
    "            optimizer.param_groups[0]['lr'] = custom_lr_scheduler.get_lr(step)\n",
    "\n",
    "            step += 1\n",
    "            \n",
    "            # Compute model's performance statistics-\n",
    "            running_loss += J.item() * images.size(0)\n",
    "            _, predicted = torch.max(outputs, 1)\n",
    "            running_corrects += torch.sum(predicted == labels.data)\n",
    "            \n",
    "            tepoch.set_postfix(\n",
    "                loss = running_loss / len(train_dataset),\n",
    "                accuracy = (running_corrects.double().cpu().numpy() / len(train_dataset)) * 100\n",
    "            )\n",
    "            \n",
    "    \n",
    "    train_loss = running_loss / len(train_dataset)\n",
    "    train_acc = (running_corrects.double() / len(train_dataset)) * 100\n",
    "    \n",
    "\n",
    "    # return running_loss, running_corrects\n",
    "    return train_loss, train_acc.cpu().numpy()\n"
   ]
  },
  {
   "cell_type": "code",
   "execution_count": 31,
   "id": "38d67dc9-9126-46fa-9c6a-1da382ae8997",
   "metadata": {},
   "outputs": [],
   "source": [
    "def test_model_progress(model, test_loader):\n",
    "    total = 0.0\n",
    "    correct = 0.0\n",
    "    running_loss_val = 0.0\n",
    "\n",
    "    with torch.no_grad():\n",
    "        with tqdm(test_loader, unit = 'batch') as tepoch:\n",
    "            for images, labels in tepoch:\n",
    "                tepoch.set_description(f\"Validation: \")\n",
    "                \n",
    "                images = images.to(device)\n",
    "                labels = labels.to(device)\n",
    "                \n",
    "                # Set model to evaluation mode-\n",
    "                model.eval()\n",
    "            \n",
    "                # Predict using trained model-\n",
    "                outputs = model(images)\n",
    "                _, y_pred = torch.max(outputs, 1)\n",
    "                \n",
    "                # Compute validation loss-\n",
    "                J_val = loss(outputs, labels)\n",
    "                \n",
    "                running_loss_val += J_val.item() * labels.size(0)\n",
    "    \n",
    "                # Total number of labels-\n",
    "                total += labels.size(0)\n",
    "\n",
    "                # Total number of correct predictions-\n",
    "                correct += (y_pred == labels).sum()\n",
    "                \n",
    "                tepoch.set_postfix(\n",
    "                    val_loss = running_loss_val / len(test_dataset),\n",
    "                    val_acc = 100 * (correct.cpu().numpy() / total)\n",
    "                )\n",
    "            \n",
    "        \n",
    "    # return (running_loss_val, correct, total)\n",
    "    val_loss = running_loss_val / len(test_dataset)\n",
    "    val_acc = (correct / total) * 100\n",
    "\n",
    "    return val_loss, val_acc.cpu().numpy()\n"
   ]
  },
  {
   "cell_type": "code",
   "execution_count": null,
   "id": "dbe1e9ff-2f1f-40f7-a4ee-68901bcefb3b",
   "metadata": {},
   "outputs": [],
   "source": []
  },
  {
   "cell_type": "code",
   "execution_count": null,
   "id": "bf3c9848-6f9b-46ae-9881-08807d1bdd5f",
   "metadata": {},
   "outputs": [],
   "source": []
  },
  {
   "cell_type": "code",
   "execution_count": 32,
   "id": "b1640164-ec43-4745-952a-06f77da16bfb",
   "metadata": {},
   "outputs": [],
   "source": [
    "# Python3 dict to contain training metrics-\n",
    "training_history_lr_scheduler = {}"
   ]
  },
  {
   "cell_type": "code",
   "execution_count": 33,
   "id": "64bd0bc9-d45a-4df6-acdb-1b5372af1075",
   "metadata": {},
   "outputs": [],
   "source": [
    "# Initialize parameters saving 'best' models-\n",
    "best_val_loss = 100\n",
    "loc_patience = 0"
   ]
  },
  {
   "cell_type": "code",
   "execution_count": null,
   "id": "ff1242a0-0287-49e7-81de-2bce8f540711",
   "metadata": {},
   "outputs": [],
   "source": []
  },
  {
   "cell_type": "code",
   "execution_count": 34,
   "id": "63f0126b-c949-486c-b8b4-b28cb909a67c",
   "metadata": {},
   "outputs": [
    {
     "name": "stderr",
     "output_type": "stream",
     "text": [
      "Training: : 100%|███████████████████████████████| 782/782 [01:37<00:00,  7.98batch/s, accuracy=14, loss=2.34]\n",
      "Validation: : 100%|██████████████████████████| 157/157 [00:08<00:00, 18.13batch/s, val_acc=10, val_loss=4.43]\n"
     ]
    },
    {
     "name": "stdout",
     "output_type": "stream",
     "text": [
      "\n",
      "epoch: 1 training loss = 2.3389, training accuracy = 13.97%, val_loss = 4.4263, val_accuracy = 10.00% & LR = 0.0077\n",
      "\n",
      "Saving model with lowest val_loss = 4.4263\n",
      "\n"
     ]
    },
    {
     "name": "stderr",
     "output_type": "stream",
     "text": [
      "Training: : 100%|█████████████████████████████| 782/782 [01:38<00:00,  7.96batch/s, accuracy=19.7, loss=2.09]\n",
      "Validation: : 100%|████████████████████████| 157/157 [00:08<00:00, 17.98batch/s, val_acc=10.4, val_loss=4.46]\n"
     ]
    },
    {
     "name": "stdout",
     "output_type": "stream",
     "text": [
      "\n",
      "epoch: 2 training loss = 2.0942, training accuracy = 19.67%, val_loss = 4.4635, val_accuracy = 10.45% & LR = 0.0154\n",
      "\n"
     ]
    },
    {
     "name": "stderr",
     "output_type": "stream",
     "text": [
      "Training: : 100%|█████████████████████████████| 782/782 [01:39<00:00,  7.84batch/s, accuracy=24.4, loss=1.94]\n",
      "Validation: : 100%|████████████████████████| 157/157 [00:08<00:00, 18.02batch/s, val_acc=12.7, val_loss=3.34]\n"
     ]
    },
    {
     "name": "stdout",
     "output_type": "stream",
     "text": [
      "\n",
      "epoch: 3 training loss = 1.9373, training accuracy = 24.41%, val_loss = 3.3352, val_accuracy = 12.73% & LR = 0.0231\n",
      "\n",
      "Saving model with lowest val_loss = 3.3352\n",
      "\n"
     ]
    },
    {
     "name": "stderr",
     "output_type": "stream",
     "text": [
      "Training: : 100%|█████████████████████████████| 782/782 [01:39<00:00,  7.90batch/s, accuracy=32.3, loss=1.77]\n",
      "Validation: : 100%|████████████████████████| 157/157 [00:08<00:00, 18.06batch/s, val_acc=26.1, val_loss=2.38]\n"
     ]
    },
    {
     "name": "stdout",
     "output_type": "stream",
     "text": [
      "\n",
      "epoch: 4 training loss = 1.7741, training accuracy = 32.26%, val_loss = 2.3844, val_accuracy = 26.11% & LR = 0.0308\n",
      "\n",
      "Saving model with lowest val_loss = 2.3844\n",
      "\n"
     ]
    },
    {
     "name": "stderr",
     "output_type": "stream",
     "text": [
      "Training: : 100%|█████████████████████████████| 782/782 [01:38<00:00,  7.94batch/s, accuracy=41.1, loss=1.57]\n",
      "Validation: : 100%|███████████████████████████| 157/157 [00:08<00:00, 18.15batch/s, val_acc=43, val_loss=1.7]\n"
     ]
    },
    {
     "name": "stdout",
     "output_type": "stream",
     "text": [
      "\n",
      "epoch: 5 training loss = 1.5686, training accuracy = 41.08%, val_loss = 1.6971, val_accuracy = 42.96% & LR = 0.0385\n",
      "\n",
      "Saving model with lowest val_loss = 1.6971\n",
      "\n"
     ]
    },
    {
     "name": "stderr",
     "output_type": "stream",
     "text": [
      "Training: : 100%|█████████████████████████████| 782/782 [01:38<00:00,  7.92batch/s, accuracy=50.2, loss=1.36]\n",
      "Validation: : 100%|█████████████████████████| 157/157 [00:08<00:00, 18.12batch/s, val_acc=47.3, val_loss=1.6]\n"
     ]
    },
    {
     "name": "stdout",
     "output_type": "stream",
     "text": [
      "\n",
      "epoch: 6 training loss = 1.3644, training accuracy = 50.22%, val_loss = 1.5983, val_accuracy = 47.31% & LR = 0.0462\n",
      "\n",
      "Saving model with lowest val_loss = 1.5983\n",
      "\n"
     ]
    },
    {
     "name": "stderr",
     "output_type": "stream",
     "text": [
      "Training: : 100%|█████████████████████████████| 782/782 [01:38<00:00,  7.91batch/s, accuracy=56.2, loss=1.22]\n",
      "Validation: : 100%|████████████████████████| 157/157 [00:08<00:00, 18.15batch/s, val_acc=49.9, val_loss=1.66]\n"
     ]
    },
    {
     "name": "stdout",
     "output_type": "stream",
     "text": [
      "\n",
      "epoch: 7 training loss = 1.2238, training accuracy = 56.21%, val_loss = 1.6606, val_accuracy = 49.92% & LR = 0.0539\n",
      "\n"
     ]
    },
    {
     "name": "stderr",
     "output_type": "stream",
     "text": [
      "Training: : 100%|███████████████████████████████| 782/782 [01:38<00:00,  7.91batch/s, accuracy=59, loss=1.15]\n",
      "Validation: : 100%|████████████████████████| 157/157 [00:08<00:00, 17.86batch/s, val_acc=59.6, val_loss=1.16]\n"
     ]
    },
    {
     "name": "stdout",
     "output_type": "stream",
     "text": [
      "\n",
      "epoch: 8 training loss = 1.1518, training accuracy = 59.05%, val_loss = 1.1581, val_accuracy = 59.59% & LR = 0.0616\n",
      "\n",
      "Saving model with lowest val_loss = 1.1581\n",
      "\n"
     ]
    },
    {
     "name": "stderr",
     "output_type": "stream",
     "text": [
      "Training: : 100%|█████████████████████████████| 782/782 [01:39<00:00,  7.86batch/s, accuracy=61.6, loss=1.09]\n",
      "Validation: : 100%|████████████████████████| 157/157 [00:08<00:00, 17.77batch/s, val_acc=62.2, val_loss=1.07]\n"
     ]
    },
    {
     "name": "stdout",
     "output_type": "stream",
     "text": [
      "\n",
      "epoch: 9 training loss = 1.0923, training accuracy = 61.63%, val_loss = 1.0660, val_accuracy = 62.24% & LR = 0.0693\n",
      "\n",
      "Saving model with lowest val_loss = 1.0660\n",
      "\n"
     ]
    },
    {
     "name": "stderr",
     "output_type": "stream",
     "text": [
      "Training: : 100%|█████████████████████████████| 782/782 [01:39<00:00,  7.89batch/s, accuracy=62.6, loss=1.06]\n",
      "Validation: : 100%|████████████████████████| 157/157 [00:08<00:00, 18.05batch/s, val_acc=57.5, val_loss=1.34]\n"
     ]
    },
    {
     "name": "stdout",
     "output_type": "stream",
     "text": [
      "\n",
      "epoch: 10 training loss = 1.0606, training accuracy = 62.57%, val_loss = 1.3384, val_accuracy = 57.53% & LR = 0.0770\n",
      "\n"
     ]
    },
    {
     "name": "stderr",
     "output_type": "stream",
     "text": [
      "Training: : 100%|█████████████████████████████| 782/782 [01:38<00:00,  7.90batch/s, accuracy=63.2, loss=1.05]\n",
      "Validation: : 100%|████████████████████████| 157/157 [00:08<00:00, 17.78batch/s, val_acc=63.9, val_loss=1.05]\n"
     ]
    },
    {
     "name": "stdout",
     "output_type": "stream",
     "text": [
      "\n",
      "epoch: 11 training loss = 1.0460, training accuracy = 63.16%, val_loss = 1.0500, val_accuracy = 63.94% & LR = 0.0847\n",
      "\n",
      "Saving model with lowest val_loss = 1.0500\n",
      "\n"
     ]
    },
    {
     "name": "stderr",
     "output_type": "stream",
     "text": [
      "Training: : 100%|███████████████████████████████| 782/782 [01:39<00:00,  7.87batch/s, accuracy=64, loss=1.03]\n",
      "Validation: : 100%|████████████████████████| 157/157 [00:08<00:00, 18.05batch/s, val_acc=63.7, val_loss=1.05]\n"
     ]
    },
    {
     "name": "stdout",
     "output_type": "stream",
     "text": [
      "\n",
      "epoch: 12 training loss = 1.0277, training accuracy = 63.98%, val_loss = 1.0475, val_accuracy = 63.73% & LR = 0.0924\n",
      "\n",
      "Saving model with lowest val_loss = 1.0475\n",
      "\n"
     ]
    },
    {
     "name": "stderr",
     "output_type": "stream",
     "text": [
      "Training: : 100%|█████████████████████████████| 782/782 [01:38<00:00,  7.91batch/s, accuracy=64.5, loss=1.02]\n",
      "Validation: : 100%|████████████████████████| 157/157 [00:08<00:00, 18.05batch/s, val_acc=58.4, val_loss=1.28]\n"
     ]
    },
    {
     "name": "stdout",
     "output_type": "stream",
     "text": [
      "\n",
      "epoch: 13 training loss = 1.0200, training accuracy = 64.51%, val_loss = 1.2805, val_accuracy = 58.37% & LR = 0.1000\n",
      "\n"
     ]
    },
    {
     "name": "stderr",
     "output_type": "stream",
     "text": [
      "Training: : 100%|█████████████████████████████| 782/782 [01:38<00:00,  7.91batch/s, accuracy=64.8, loss=1.01]\n",
      "Validation: : 100%|██████████████████████████| 157/157 [00:08<00:00, 18.03batch/s, val_acc=61, val_loss=1.18]\n"
     ]
    },
    {
     "name": "stdout",
     "output_type": "stream",
     "text": [
      "\n",
      "epoch: 14 training loss = 1.0083, training accuracy = 64.85%, val_loss = 1.1813, val_accuracy = 60.98% & LR = 0.1000\n",
      "\n"
     ]
    },
    {
     "name": "stderr",
     "output_type": "stream",
     "text": [
      "Training: : 100%|████████████████████████████| 782/782 [01:38<00:00,  7.91batch/s, accuracy=65.5, loss=0.994]\n",
      "Validation: : 100%|████████████████████████| 157/157 [00:08<00:00, 17.96batch/s, val_acc=64.9, val_loss=1.07]\n"
     ]
    },
    {
     "name": "stdout",
     "output_type": "stream",
     "text": [
      "\n",
      "epoch: 15 training loss = 0.9941, training accuracy = 65.47%, val_loss = 1.0713, val_accuracy = 64.93% & LR = 0.1000\n",
      "\n"
     ]
    },
    {
     "name": "stderr",
     "output_type": "stream",
     "text": [
      "Training: : 100%|█████████████████████████████| 782/782 [01:38<00:00,  7.91batch/s, accuracy=66.2, loss=0.98]\n",
      "Validation: : 100%|████████████████████████| 157/157 [00:08<00:00, 18.08batch/s, val_acc=57.4, val_loss=1.34]\n"
     ]
    },
    {
     "name": "stdout",
     "output_type": "stream",
     "text": [
      "\n",
      "epoch: 16 training loss = 0.9804, training accuracy = 66.19%, val_loss = 1.3401, val_accuracy = 57.41% & LR = 0.1000\n",
      "\n"
     ]
    },
    {
     "name": "stderr",
     "output_type": "stream",
     "text": [
      "Training: : 100%|████████████████████████████| 782/782 [01:38<00:00,  7.91batch/s, accuracy=66.3, loss=0.968]\n",
      "Validation: : 100%|███████████████████████████| 157/157 [00:08<00:00, 18.06batch/s, val_acc=67.2, val_loss=1]\n"
     ]
    },
    {
     "name": "stdout",
     "output_type": "stream",
     "text": [
      "\n",
      "epoch: 17 training loss = 0.9682, training accuracy = 66.29%, val_loss = 1.0021, val_accuracy = 67.23% & LR = 0.1000\n",
      "\n",
      "Saving model with lowest val_loss = 1.0021\n",
      "\n"
     ]
    },
    {
     "name": "stderr",
     "output_type": "stream",
     "text": [
      "Training: : 100%|██████████████████████████████| 782/782 [01:38<00:00,  7.91batch/s, accuracy=67, loss=0.956]\n",
      "Validation: : 100%|████████████████████████| 157/157 [00:08<00:00, 18.00batch/s, val_acc=66.6, val_loss=1.01]\n"
     ]
    },
    {
     "name": "stdout",
     "output_type": "stream",
     "text": [
      "\n",
      "epoch: 18 training loss = 0.9562, training accuracy = 66.97%, val_loss = 1.0106, val_accuracy = 66.60% & LR = 0.1000\n",
      "\n"
     ]
    },
    {
     "name": "stderr",
     "output_type": "stream",
     "text": [
      "Training: : 100%|████████████████████████████| 782/782 [01:38<00:00,  7.91batch/s, accuracy=67.2, loss=0.953]\n",
      "Validation: : 100%|████████████████████████| 157/157 [00:08<00:00, 18.01batch/s, val_acc=62.7, val_loss=1.15]\n"
     ]
    },
    {
     "name": "stdout",
     "output_type": "stream",
     "text": [
      "\n",
      "epoch: 19 training loss = 0.9530, training accuracy = 67.16%, val_loss = 1.1468, val_accuracy = 62.72% & LR = 0.1000\n",
      "\n"
     ]
    },
    {
     "name": "stderr",
     "output_type": "stream",
     "text": [
      "Training: : 100%|████████████████████████████| 782/782 [01:38<00:00,  7.91batch/s, accuracy=67.4, loss=0.949]\n",
      "Validation: : 100%|████████████████████████| 157/157 [00:08<00:00, 17.98batch/s, val_acc=64.5, val_loss=1.09]\n"
     ]
    },
    {
     "name": "stdout",
     "output_type": "stream",
     "text": [
      "\n",
      "epoch: 20 training loss = 0.9486, training accuracy = 67.39%, val_loss = 1.0888, val_accuracy = 64.50% & LR = 0.1000\n",
      "\n"
     ]
    },
    {
     "name": "stderr",
     "output_type": "stream",
     "text": [
      "Training: : 100%|████████████████████████████| 782/782 [01:38<00:00,  7.91batch/s, accuracy=67.4, loss=0.942]\n",
      "Validation: : 100%|███████████████████████| 157/157 [00:08<00:00, 17.99batch/s, val_acc=66.4, val_loss=0.994]\n"
     ]
    },
    {
     "name": "stdout",
     "output_type": "stream",
     "text": [
      "\n",
      "epoch: 21 training loss = 0.9420, training accuracy = 67.37%, val_loss = 0.9945, val_accuracy = 66.39% & LR = 0.1000\n",
      "\n",
      "Saving model with lowest val_loss = 0.9945\n",
      "\n"
     ]
    },
    {
     "name": "stderr",
     "output_type": "stream",
     "text": [
      "Training: : 100%|████████████████████████████| 782/782 [01:38<00:00,  7.91batch/s, accuracy=67.4, loss=0.941]\n",
      "Validation: : 100%|████████████████████████| 157/157 [00:08<00:00, 17.94batch/s, val_acc=63.6, val_loss=1.11]\n"
     ]
    },
    {
     "name": "stdout",
     "output_type": "stream",
     "text": [
      "\n",
      "epoch: 22 training loss = 0.9409, training accuracy = 67.40%, val_loss = 1.1077, val_accuracy = 63.61% & LR = 0.1000\n",
      "\n"
     ]
    },
    {
     "name": "stderr",
     "output_type": "stream",
     "text": [
      "Training: : 100%|████████████████████████████| 782/782 [01:38<00:00,  7.90batch/s, accuracy=67.6, loss=0.936]\n",
      "Validation: : 100%|████████████████████████| 157/157 [00:08<00:00, 18.03batch/s, val_acc=61.1, val_loss=1.17]\n"
     ]
    },
    {
     "name": "stdout",
     "output_type": "stream",
     "text": [
      "\n",
      "epoch: 23 training loss = 0.9356, training accuracy = 67.58%, val_loss = 1.1738, val_accuracy = 61.07% & LR = 0.1000\n",
      "\n"
     ]
    },
    {
     "name": "stderr",
     "output_type": "stream",
     "text": [
      "Training: : 100%|████████████████████████████| 782/782 [01:39<00:00,  7.89batch/s, accuracy=67.6, loss=0.931]\n",
      "Validation: : 100%|████████████████████████| 157/157 [00:08<00:00, 18.00batch/s, val_acc=61.8, val_loss=1.18]\n"
     ]
    },
    {
     "name": "stdout",
     "output_type": "stream",
     "text": [
      "\n",
      "epoch: 24 training loss = 0.9311, training accuracy = 67.64%, val_loss = 1.1806, val_accuracy = 61.78% & LR = 0.1000\n",
      "\n"
     ]
    },
    {
     "name": "stderr",
     "output_type": "stream",
     "text": [
      "Training: : 100%|████████████████████████████| 782/782 [01:38<00:00,  7.91batch/s, accuracy=67.6, loss=0.936]\n",
      "Validation: : 100%|██████████████████████████| 157/157 [00:08<00:00, 18.01batch/s, val_acc=63, val_loss=1.14]\n"
     ]
    },
    {
     "name": "stdout",
     "output_type": "stream",
     "text": [
      "\n",
      "epoch: 25 training loss = 0.9358, training accuracy = 67.59%, val_loss = 1.1402, val_accuracy = 62.99% & LR = 0.1000\n",
      "\n"
     ]
    },
    {
     "name": "stderr",
     "output_type": "stream",
     "text": [
      "Training: : 100%|█████████████████████████████| 782/782 [01:39<00:00,  7.88batch/s, accuracy=67.7, loss=0.93]\n",
      "Validation: : 100%|████████████████████████| 157/157 [00:08<00:00, 18.08batch/s, val_acc=65.8, val_loss=1.02]\n"
     ]
    },
    {
     "name": "stdout",
     "output_type": "stream",
     "text": [
      "\n",
      "epoch: 26 training loss = 0.9297, training accuracy = 67.72%, val_loss = 1.0206, val_accuracy = 65.76% & LR = 0.1000\n",
      "\n"
     ]
    },
    {
     "name": "stderr",
     "output_type": "stream",
     "text": [
      "Training: : 100%|████████████████████████████| 782/782 [01:38<00:00,  7.93batch/s, accuracy=67.6, loss=0.931]\n",
      "Validation: : 100%|████████████████████████| 157/157 [00:08<00:00, 18.13batch/s, val_acc=57.8, val_loss=1.38]\n"
     ]
    },
    {
     "name": "stdout",
     "output_type": "stream",
     "text": [
      "\n",
      "epoch: 27 training loss = 0.9305, training accuracy = 67.64%, val_loss = 1.3823, val_accuracy = 57.77% & LR = 0.1000\n",
      "\n"
     ]
    },
    {
     "name": "stderr",
     "output_type": "stream",
     "text": [
      "Training: : 100%|████████████████████████████| 782/782 [01:38<00:00,  7.93batch/s, accuracy=67.8, loss=0.934]\n",
      "Validation: : 100%|████████████████████████| 157/157 [00:08<00:00, 18.05batch/s, val_acc=65.2, val_loss=1.05]\n"
     ]
    },
    {
     "name": "stdout",
     "output_type": "stream",
     "text": [
      "\n",
      "epoch: 28 training loss = 0.9337, training accuracy = 67.77%, val_loss = 1.0535, val_accuracy = 65.18% & LR = 0.1000\n",
      "\n"
     ]
    },
    {
     "name": "stderr",
     "output_type": "stream",
     "text": [
      "Training: : 100%|████████████████████████████| 782/782 [01:38<00:00,  7.91batch/s, accuracy=67.9, loss=0.931]\n",
      "Validation: : 100%|████████████████████████| 157/157 [00:08<00:00, 18.11batch/s, val_acc=63.4, val_loss=1.12]\n"
     ]
    },
    {
     "name": "stdout",
     "output_type": "stream",
     "text": [
      "\n",
      "epoch: 29 training loss = 0.9314, training accuracy = 67.87%, val_loss = 1.1211, val_accuracy = 63.36% & LR = 0.1000\n",
      "\n"
     ]
    },
    {
     "name": "stderr",
     "output_type": "stream",
     "text": [
      "Training: : 100%|████████████████████████████| 782/782 [01:38<00:00,  7.92batch/s, accuracy=67.9, loss=0.926]\n",
      "Validation: : 100%|████████████████████████| 157/157 [00:08<00:00, 18.10batch/s, val_acc=58.4, val_loss=1.44]\n"
     ]
    },
    {
     "name": "stdout",
     "output_type": "stream",
     "text": [
      "\n",
      "epoch: 30 training loss = 0.9264, training accuracy = 67.87%, val_loss = 1.4414, val_accuracy = 58.44% & LR = 0.1000\n",
      "\n"
     ]
    },
    {
     "name": "stderr",
     "output_type": "stream",
     "text": [
      "Training: : 100%|██████████████████████████████| 782/782 [01:38<00:00,  7.92batch/s, accuracy=68, loss=0.926]\n",
      "Validation: : 100%|████████████████████████| 157/157 [00:08<00:00, 17.99batch/s, val_acc=65.8, val_loss=1.09]\n"
     ]
    },
    {
     "name": "stdout",
     "output_type": "stream",
     "text": [
      "\n",
      "epoch: 31 training loss = 0.9259, training accuracy = 68.00%, val_loss = 1.0874, val_accuracy = 65.75% & LR = 0.1000\n",
      "\n"
     ]
    },
    {
     "name": "stderr",
     "output_type": "stream",
     "text": [
      "Training: : 100%|████████████████████████████| 782/782 [01:38<00:00,  7.91batch/s, accuracy=68.5, loss=0.917]\n",
      "Validation: : 100%|████████████████████████| 157/157 [00:08<00:00, 17.99batch/s, val_acc=63.7, val_loss=1.14]\n"
     ]
    },
    {
     "name": "stdout",
     "output_type": "stream",
     "text": [
      "\n",
      "epoch: 32 training loss = 0.9172, training accuracy = 68.51%, val_loss = 1.1370, val_accuracy = 63.75% & LR = 0.1000\n",
      "\n"
     ]
    },
    {
     "name": "stderr",
     "output_type": "stream",
     "text": [
      "Training: : 100%|██████████████████████████████| 782/782 [01:38<00:00,  7.91batch/s, accuracy=68, loss=0.925]\n",
      "Validation: : 100%|████████████████████████| 157/157 [00:08<00:00, 17.99batch/s, val_acc=59.9, val_loss=1.27]\n"
     ]
    },
    {
     "name": "stdout",
     "output_type": "stream",
     "text": [
      "\n",
      "epoch: 33 training loss = 0.9247, training accuracy = 68.00%, val_loss = 1.2727, val_accuracy = 59.88% & LR = 0.1000\n",
      "\n"
     ]
    },
    {
     "name": "stderr",
     "output_type": "stream",
     "text": [
      "Training: : 100%|████████████████████████████| 782/782 [01:38<00:00,  7.90batch/s, accuracy=68.2, loss=0.922]\n",
      "Validation: : 100%|████████████████████████| 157/157 [00:08<00:00, 18.04batch/s, val_acc=67.8, val_loss=0.97]\n"
     ]
    },
    {
     "name": "stdout",
     "output_type": "stream",
     "text": [
      "\n",
      "epoch: 34 training loss = 0.9222, training accuracy = 68.16%, val_loss = 0.9701, val_accuracy = 67.83% & LR = 0.1000\n",
      "\n",
      "Saving model with lowest val_loss = 0.9701\n",
      "\n"
     ]
    },
    {
     "name": "stderr",
     "output_type": "stream",
     "text": [
      "Training: : 100%|████████████████████████████| 782/782 [01:38<00:00,  7.90batch/s, accuracy=68.3, loss=0.916]\n",
      "Validation: : 100%|███████████████████████| 157/157 [00:08<00:00, 18.04batch/s, val_acc=67.3, val_loss=0.951]\n"
     ]
    },
    {
     "name": "stdout",
     "output_type": "stream",
     "text": [
      "\n",
      "epoch: 35 training loss = 0.9161, training accuracy = 68.31%, val_loss = 0.9515, val_accuracy = 67.27% & LR = 0.1000\n",
      "\n",
      "Saving model with lowest val_loss = 0.9515\n",
      "\n"
     ]
    },
    {
     "name": "stderr",
     "output_type": "stream",
     "text": [
      "Training: : 100%|████████████████████████████| 782/782 [01:39<00:00,  7.90batch/s, accuracy=68.2, loss=0.921]\n",
      "Validation: : 100%|██████████████████████████████████████████████████████████████████| 157/157 [00:08<00:00, 17.91batch/s, val_acc=70.6, val_loss=0.895]\n"
     ]
    },
    {
     "name": "stdout",
     "output_type": "stream",
     "text": [
      "\n",
      "epoch: 36 training loss = 0.9212, training accuracy = 68.23%, val_loss = 0.8951, val_accuracy = 70.57% & LR = 0.1000\n",
      "\n",
      "Saving model with lowest val_loss = 0.8951\n",
      "\n"
     ]
    },
    {
     "name": "stderr",
     "output_type": "stream",
     "text": [
      "Training: : 100%|██████████████████████████████████████████████████████████████████████████| 782/782 [01:38<00:00,  7.90batch/s, accuracy=68, loss=0.92]\n",
      "Validation: : 100%|██████████████████████████████████████████████████████████████████| 157/157 [00:08<00:00, 18.02batch/s, val_acc=67.5, val_loss=0.975]\n"
     ]
    },
    {
     "name": "stdout",
     "output_type": "stream",
     "text": [
      "\n",
      "epoch: 37 training loss = 0.9205, training accuracy = 68.00%, val_loss = 0.9747, val_accuracy = 67.48% & LR = 0.1000\n",
      "\n"
     ]
    },
    {
     "name": "stderr",
     "output_type": "stream",
     "text": [
      "Training: : 100%|███████████████████████████████████████████████████████████████████████| 782/782 [01:38<00:00,  7.90batch/s, accuracy=68.3, loss=0.922]\n",
      "Validation: : 100%|███████████████████████████████████████████████████████████████████| 157/157 [00:08<00:00, 18.00batch/s, val_acc=60.4, val_loss=1.33]\n"
     ]
    },
    {
     "name": "stdout",
     "output_type": "stream",
     "text": [
      "\n",
      "epoch: 38 training loss = 0.9217, training accuracy = 68.26%, val_loss = 1.3323, val_accuracy = 60.36% & LR = 0.1000\n",
      "\n"
     ]
    },
    {
     "name": "stderr",
     "output_type": "stream",
     "text": [
      "Training: : 100%|████████████████████████████████████████████████████████████████████████| 782/782 [01:39<00:00,  7.89batch/s, accuracy=68.4, loss=0.92]\n",
      "Validation: : 100%|███████████████████████████████████████████████████████████████████| 157/157 [00:08<00:00, 18.04batch/s, val_acc=63.2, val_loss=1.22]\n"
     ]
    },
    {
     "name": "stdout",
     "output_type": "stream",
     "text": [
      "\n",
      "epoch: 39 training loss = 0.9197, training accuracy = 68.37%, val_loss = 1.2250, val_accuracy = 63.24% & LR = 0.1000\n",
      "\n"
     ]
    },
    {
     "name": "stderr",
     "output_type": "stream",
     "text": [
      "Training: : 100%|███████████████████████████████████████████████████████████████████████| 782/782 [01:39<00:00,  7.90batch/s, accuracy=68.3, loss=0.918]\n",
      "Validation: : 100%|███████████████████████████████████████████████████████████████████| 157/157 [00:08<00:00, 17.95batch/s, val_acc=59.7, val_loss=1.34]\n"
     ]
    },
    {
     "name": "stdout",
     "output_type": "stream",
     "text": [
      "\n",
      "epoch: 40 training loss = 0.9185, training accuracy = 68.33%, val_loss = 1.3383, val_accuracy = 59.72% & LR = 0.1000\n",
      "\n"
     ]
    },
    {
     "name": "stderr",
     "output_type": "stream",
     "text": [
      "Training: : 100%|█████████████████████████████████████████████████████████████████████████| 782/782 [01:38<00:00,  7.91batch/s, accuracy=68, loss=0.923]\n",
      "Validation: : 100%|███████████████████████████████████████████████████████████████████| 157/157 [00:08<00:00, 18.04batch/s, val_acc=58.6, val_loss=1.35]\n"
     ]
    },
    {
     "name": "stdout",
     "output_type": "stream",
     "text": [
      "\n",
      "epoch: 41 training loss = 0.9226, training accuracy = 68.00%, val_loss = 1.3530, val_accuracy = 58.60% & LR = 0.1000\n",
      "\n"
     ]
    },
    {
     "name": "stderr",
     "output_type": "stream",
     "text": [
      "Training: : 100%|███████████████████████████████████████████████████████████████████████| 782/782 [01:38<00:00,  7.90batch/s, accuracy=68.4, loss=0.916]\n",
      "Validation: : 100%|███████████████████████████████████████████████████████████████████| 157/157 [00:08<00:00, 18.10batch/s, val_acc=58.8, val_loss=1.38]\n"
     ]
    },
    {
     "name": "stdout",
     "output_type": "stream",
     "text": [
      "\n",
      "epoch: 42 training loss = 0.9165, training accuracy = 68.39%, val_loss = 1.3779, val_accuracy = 58.79% & LR = 0.1000\n",
      "\n"
     ]
    },
    {
     "name": "stderr",
     "output_type": "stream",
     "text": [
      "Training: : 100%|███████████████████████████████████████████████████████████████████████| 782/782 [01:38<00:00,  7.90batch/s, accuracy=68.3, loss=0.918]\n",
      "Validation: : 100%|███████████████████████████████████████████████████████████████████| 157/157 [00:08<00:00, 18.01batch/s, val_acc=57.1, val_loss=1.36]\n"
     ]
    },
    {
     "name": "stdout",
     "output_type": "stream",
     "text": [
      "\n",
      "epoch: 43 training loss = 0.9184, training accuracy = 68.27%, val_loss = 1.3574, val_accuracy = 57.09% & LR = 0.1000\n",
      "\n"
     ]
    },
    {
     "name": "stderr",
     "output_type": "stream",
     "text": [
      "Training: : 100%|███████████████████████████████████████████████████████████████████████| 782/782 [01:38<00:00,  7.90batch/s, accuracy=68.6, loss=0.909]\n",
      "Validation: : 100%|███████████████████████████████████████████████████████████████████| 157/157 [00:08<00:00, 18.07batch/s, val_acc=65.6, val_loss=1.02]\n"
     ]
    },
    {
     "name": "stdout",
     "output_type": "stream",
     "text": [
      "\n",
      "epoch: 44 training loss = 0.9090, training accuracy = 68.57%, val_loss = 1.0199, val_accuracy = 65.63% & LR = 0.1000\n",
      "\n"
     ]
    },
    {
     "name": "stderr",
     "output_type": "stream",
     "text": [
      "Training: : 100%|████████████████████████████████████████████████████████████████████████| 782/782 [01:38<00:00,  7.92batch/s, accuracy=68.4, loss=0.92]\n",
      "Validation: : 100%|██████████████████████████████████████████████████████████████████| 157/157 [00:08<00:00, 18.14batch/s, val_acc=75.3, val_loss=0.707]\n"
     ]
    },
    {
     "name": "stdout",
     "output_type": "stream",
     "text": [
      "\n",
      "epoch: 45 training loss = 0.9199, training accuracy = 68.35%, val_loss = 0.7072, val_accuracy = 75.35% & LR = 0.0100\n",
      "\n",
      "Saving model with lowest val_loss = 0.7072\n",
      "\n"
     ]
    },
    {
     "name": "stderr",
     "output_type": "stream",
     "text": [
      "Training: : 100%|███████████████████████████████████████████████████████████████████████| 782/782 [01:38<00:00,  7.92batch/s, accuracy=77.2, loss=0.663]\n",
      "Validation: : 100%|███████████████████████████████████████████████████████████████████| 157/157 [00:08<00:00, 18.06batch/s, val_acc=81.6, val_loss=0.54]\n"
     ]
    },
    {
     "name": "stdout",
     "output_type": "stream",
     "text": [
      "\n",
      "epoch: 46 training loss = 0.6629, training accuracy = 77.22%, val_loss = 0.5402, val_accuracy = 81.58% & LR = 0.0100\n",
      "\n",
      "Saving model with lowest val_loss = 0.5402\n",
      "\n"
     ]
    },
    {
     "name": "stderr",
     "output_type": "stream",
     "text": [
      "Training: : 100%|███████████████████████████████████████████████████████████████████████| 782/782 [01:38<00:00,  7.91batch/s, accuracy=79.1, loss=0.604]\n",
      "Validation: : 100%|██████████████████████████████████████████████████████████████████| 157/157 [00:08<00:00, 18.09batch/s, val_acc=82.1, val_loss=0.522]\n"
     ]
    },
    {
     "name": "stdout",
     "output_type": "stream",
     "text": [
      "\n",
      "epoch: 47 training loss = 0.6043, training accuracy = 79.10%, val_loss = 0.5219, val_accuracy = 82.14% & LR = 0.0100\n",
      "\n",
      "Saving model with lowest val_loss = 0.5219\n",
      "\n"
     ]
    },
    {
     "name": "stderr",
     "output_type": "stream",
     "text": [
      "Training: : 100%|███████████████████████████████████████████████████████████████████████| 782/782 [01:38<00:00,  7.91batch/s, accuracy=80.2, loss=0.579]\n",
      "Validation: : 100%|██████████████████████████████████████████████████████████████████| 157/157 [00:08<00:00, 18.02batch/s, val_acc=83.3, val_loss=0.486]\n"
     ]
    },
    {
     "name": "stdout",
     "output_type": "stream",
     "text": [
      "\n",
      "epoch: 48 training loss = 0.5790, training accuracy = 80.18%, val_loss = 0.4863, val_accuracy = 83.26% & LR = 0.0100\n",
      "\n",
      "Saving model with lowest val_loss = 0.4863\n",
      "\n"
     ]
    },
    {
     "name": "stderr",
     "output_type": "stream",
     "text": [
      "Training: : 100%|███████████████████████████████████████████████████████████████████████| 782/782 [01:38<00:00,  7.93batch/s, accuracy=80.7, loss=0.558]\n",
      "Validation: : 100%|██████████████████████████████████████████████████████████████████| 157/157 [00:08<00:00, 18.18batch/s, val_acc=82.3, val_loss=0.514]\n"
     ]
    },
    {
     "name": "stdout",
     "output_type": "stream",
     "text": [
      "\n",
      "epoch: 49 training loss = 0.5578, training accuracy = 80.71%, val_loss = 0.5138, val_accuracy = 82.34% & LR = 0.0100\n",
      "\n"
     ]
    },
    {
     "name": "stderr",
     "output_type": "stream",
     "text": [
      "Training: : 100%|███████████████████████████████████████████████████████████████████████| 782/782 [01:38<00:00,  7.93batch/s, accuracy=81.2, loss=0.546]\n",
      "Validation: : 100%|████████████████████████████████████████████████████████████████████| 157/157 [00:08<00:00, 18.26batch/s, val_acc=84, val_loss=0.478]\n"
     ]
    },
    {
     "name": "stdout",
     "output_type": "stream",
     "text": [
      "\n",
      "epoch: 50 training loss = 0.5462, training accuracy = 81.18%, val_loss = 0.4785, val_accuracy = 84.00% & LR = 0.0100\n",
      "\n",
      "Saving model with lowest val_loss = 0.4785\n",
      "\n"
     ]
    },
    {
     "name": "stderr",
     "output_type": "stream",
     "text": [
      "Training: : 100%|███████████████████████████████████████████████████████████████████████| 782/782 [01:38<00:00,  7.94batch/s, accuracy=81.7, loss=0.533]\n",
      "Validation: : 100%|██████████████████████████████████████████████████████████████████| 157/157 [00:08<00:00, 18.29batch/s, val_acc=84.6, val_loss=0.448]\n"
     ]
    },
    {
     "name": "stdout",
     "output_type": "stream",
     "text": [
      "\n",
      "epoch: 51 training loss = 0.5332, training accuracy = 81.72%, val_loss = 0.4481, val_accuracy = 84.64% & LR = 0.0100\n",
      "\n",
      "Saving model with lowest val_loss = 0.4481\n",
      "\n"
     ]
    },
    {
     "name": "stderr",
     "output_type": "stream",
     "text": [
      "Training: : 100%|███████████████████████████████████████████████████████████████████████| 782/782 [01:38<00:00,  7.97batch/s, accuracy=81.9, loss=0.524]\n",
      "Validation: : 100%|████████████████████████████████████████████████████████████████████| 157/157 [00:08<00:00, 18.32batch/s, val_acc=84, val_loss=0.465]\n"
     ]
    },
    {
     "name": "stdout",
     "output_type": "stream",
     "text": [
      "\n",
      "epoch: 52 training loss = 0.5236, training accuracy = 81.91%, val_loss = 0.4652, val_accuracy = 83.95% & LR = 0.0100\n",
      "\n"
     ]
    },
    {
     "name": "stderr",
     "output_type": "stream",
     "text": [
      "Training: : 100%|███████████████████████████████████████████████████████████████████████| 782/782 [01:38<00:00,  7.98batch/s, accuracy=82.3, loss=0.516]\n",
      "Validation: : 100%|██████████████████████████████████████████████████████████████████| 157/157 [00:08<00:00, 18.30batch/s, val_acc=84.9, val_loss=0.442]\n"
     ]
    },
    {
     "name": "stdout",
     "output_type": "stream",
     "text": [
      "\n",
      "epoch: 53 training loss = 0.5159, training accuracy = 82.30%, val_loss = 0.4420, val_accuracy = 84.88% & LR = 0.0100\n",
      "\n",
      "Saving model with lowest val_loss = 0.4420\n",
      "\n"
     ]
    },
    {
     "name": "stderr",
     "output_type": "stream",
     "text": [
      "Training: : 100%|████████████████████████████████████████████████████████████████████████| 782/782 [01:38<00:00,  7.97batch/s, accuracy=82.5, loss=0.51]\n",
      "Validation: : 100%|██████████████████████████████████████████████████████████████████| 157/157 [00:08<00:00, 18.24batch/s, val_acc=84.2, val_loss=0.461]\n"
     ]
    },
    {
     "name": "stdout",
     "output_type": "stream",
     "text": [
      "\n",
      "epoch: 54 training loss = 0.5103, training accuracy = 82.49%, val_loss = 0.4613, val_accuracy = 84.16% & LR = 0.0100\n",
      "\n"
     ]
    },
    {
     "name": "stderr",
     "output_type": "stream",
     "text": [
      "Training: : 100%|███████████████████████████████████████████████████████████████████████| 782/782 [01:37<00:00,  7.98batch/s, accuracy=82.5, loss=0.507]\n",
      "Validation: : 100%|██████████████████████████████████████████████████████████████████| 157/157 [00:08<00:00, 18.32batch/s, val_acc=84.7, val_loss=0.457]\n"
     ]
    },
    {
     "name": "stdout",
     "output_type": "stream",
     "text": [
      "\n",
      "epoch: 55 training loss = 0.5067, training accuracy = 82.54%, val_loss = 0.4570, val_accuracy = 84.74% & LR = 0.0100\n",
      "\n"
     ]
    },
    {
     "name": "stderr",
     "output_type": "stream",
     "text": [
      "Training: : 100%|███████████████████████████████████████████████████████████████████████| 782/782 [01:38<00:00,  7.97batch/s, accuracy=82.8, loss=0.502]\n",
      "Validation: : 100%|██████████████████████████████████████████████████████████████████| 157/157 [00:08<00:00, 18.40batch/s, val_acc=83.2, val_loss=0.498]\n"
     ]
    },
    {
     "name": "stdout",
     "output_type": "stream",
     "text": [
      "\n",
      "epoch: 56 training loss = 0.5025, training accuracy = 82.81%, val_loss = 0.4981, val_accuracy = 83.20% & LR = 0.0100\n",
      "\n"
     ]
    },
    {
     "name": "stderr",
     "output_type": "stream",
     "text": [
      "Training: : 100%|███████████████████████████████████████████████████████████████████████| 782/782 [01:38<00:00,  7.97batch/s, accuracy=82.7, loss=0.502]\n",
      "Validation: : 100%|████████████████████████████████████████████████████████████████████| 157/157 [00:08<00:00, 18.27batch/s, val_acc=85, val_loss=0.431]\n"
     ]
    },
    {
     "name": "stdout",
     "output_type": "stream",
     "text": [
      "\n",
      "epoch: 57 training loss = 0.5016, training accuracy = 82.73%, val_loss = 0.4310, val_accuracy = 85.03% & LR = 0.0100\n",
      "\n",
      "Saving model with lowest val_loss = 0.4310\n",
      "\n"
     ]
    },
    {
     "name": "stderr",
     "output_type": "stream",
     "text": [
      "Training: : 100%|█████████████████████████████████████████████████████████████████████████| 782/782 [01:38<00:00,  7.97batch/s, accuracy=83, loss=0.496]\n",
      "Validation: : 100%|██████████████████████████████████████████████████████████████████| 157/157 [00:08<00:00, 18.19batch/s, val_acc=82.8, val_loss=0.508]\n"
     ]
    },
    {
     "name": "stdout",
     "output_type": "stream",
     "text": [
      "\n",
      "epoch: 58 training loss = 0.4960, training accuracy = 82.96%, val_loss = 0.5078, val_accuracy = 82.76% & LR = 0.0100\n",
      "\n"
     ]
    },
    {
     "name": "stderr",
     "output_type": "stream",
     "text": [
      "Training: : 100%|███████████████████████████████████████████████████████████████████████| 782/782 [01:38<00:00,  7.95batch/s, accuracy=83.2, loss=0.492]\n",
      "Validation: : 100%|██████████████████████████████████████████████████████████████████| 157/157 [00:08<00:00, 18.12batch/s, val_acc=84.1, val_loss=0.469]\n"
     ]
    },
    {
     "name": "stdout",
     "output_type": "stream",
     "text": [
      "\n",
      "epoch: 59 training loss = 0.4922, training accuracy = 83.15%, val_loss = 0.4691, val_accuracy = 84.09% & LR = 0.0100\n",
      "\n"
     ]
    },
    {
     "name": "stderr",
     "output_type": "stream",
     "text": [
      "Training: : 100%|███████████████████████████████████████████████████████████████████████| 782/782 [01:38<00:00,  7.94batch/s, accuracy=83.1, loss=0.494]\n",
      "Validation: : 100%|██████████████████████████████████████████████████████████████████| 157/157 [00:08<00:00, 18.21batch/s, val_acc=85.2, val_loss=0.436]\n"
     ]
    },
    {
     "name": "stdout",
     "output_type": "stream",
     "text": [
      "\n",
      "epoch: 60 training loss = 0.4937, training accuracy = 83.12%, val_loss = 0.4363, val_accuracy = 85.15% & LR = 0.0100\n",
      "\n"
     ]
    },
    {
     "name": "stderr",
     "output_type": "stream",
     "text": [
      "Training: : 100%|███████████████████████████████████████████████████████████████████████| 782/782 [01:38<00:00,  7.95batch/s, accuracy=83.3, loss=0.488]\n",
      "Validation: : 100%|██████████████████████████████████████████████████████████████████| 157/157 [00:08<00:00, 18.28batch/s, val_acc=84.2, val_loss=0.465]\n"
     ]
    },
    {
     "name": "stdout",
     "output_type": "stream",
     "text": [
      "\n",
      "epoch: 61 training loss = 0.4880, training accuracy = 83.30%, val_loss = 0.4648, val_accuracy = 84.24% & LR = 0.0100\n",
      "\n"
     ]
    },
    {
     "name": "stderr",
     "output_type": "stream",
     "text": [
      "Training: : 100%|███████████████████████████████████████████████████████████████████████| 782/782 [01:38<00:00,  7.94batch/s, accuracy=83.2, loss=0.488]\n",
      "Validation: : 100%|██████████████████████████████████████████████████████████████████| 157/157 [00:08<00:00, 18.19batch/s, val_acc=84.1, val_loss=0.466]\n"
     ]
    },
    {
     "name": "stdout",
     "output_type": "stream",
     "text": [
      "\n",
      "epoch: 62 training loss = 0.4877, training accuracy = 83.21%, val_loss = 0.4655, val_accuracy = 84.07% & LR = 0.0100\n",
      "\n"
     ]
    },
    {
     "name": "stderr",
     "output_type": "stream",
     "text": [
      "Training: : 100%|███████████████████████████████████████████████████████████████████████| 782/782 [01:38<00:00,  7.92batch/s, accuracy=83.7, loss=0.479]\n",
      "Validation: : 100%|██████████████████████████████████████████████████████████████████| 157/157 [00:08<00:00, 17.67batch/s, val_acc=84.4, val_loss=0.451]\n"
     ]
    },
    {
     "name": "stdout",
     "output_type": "stream",
     "text": [
      "\n",
      "epoch: 63 training loss = 0.4792, training accuracy = 83.67%, val_loss = 0.4515, val_accuracy = 84.39% & LR = 0.0100\n",
      "\n"
     ]
    },
    {
     "name": "stderr",
     "output_type": "stream",
     "text": [
      "Training: : 100%|███████████████████████████████████████████████████████████████████████| 782/782 [01:38<00:00,  7.91batch/s, accuracy=83.3, loss=0.486]\n",
      "Validation: : 100%|██████████████████████████████████████████████████████████████████| 157/157 [00:08<00:00, 18.04batch/s, val_acc=84.2, val_loss=0.464]\n"
     ]
    },
    {
     "name": "stdout",
     "output_type": "stream",
     "text": [
      "\n",
      "epoch: 64 training loss = 0.4857, training accuracy = 83.33%, val_loss = 0.4644, val_accuracy = 84.24% & LR = 0.0100\n",
      "\n"
     ]
    },
    {
     "name": "stderr",
     "output_type": "stream",
     "text": [
      "Training: : 100%|███████████████████████████████████████████████████████████████████████| 782/782 [01:38<00:00,  7.92batch/s, accuracy=83.6, loss=0.475]\n",
      "Validation: : 100%|██████████████████████████████████████████████████████████████████| 157/157 [00:08<00:00, 18.00batch/s, val_acc=85.2, val_loss=0.428]\n"
     ]
    },
    {
     "name": "stdout",
     "output_type": "stream",
     "text": [
      "\n",
      "epoch: 65 training loss = 0.4755, training accuracy = 83.59%, val_loss = 0.4279, val_accuracy = 85.18% & LR = 0.0100\n",
      "\n",
      "Saving model with lowest val_loss = 0.4279\n",
      "\n"
     ]
    },
    {
     "name": "stderr",
     "output_type": "stream",
     "text": [
      "Training: : 100%|███████████████████████████████████████████████████████████████████████| 782/782 [01:38<00:00,  7.90batch/s, accuracy=83.8, loss=0.477]\n",
      "Validation: : 100%|██████████████████████████████████████████████████████████████████| 157/157 [00:08<00:00, 17.99batch/s, val_acc=85.9, val_loss=0.417]\n"
     ]
    },
    {
     "name": "stdout",
     "output_type": "stream",
     "text": [
      "\n",
      "epoch: 66 training loss = 0.4770, training accuracy = 83.81%, val_loss = 0.4168, val_accuracy = 85.88% & LR = 0.0100\n",
      "\n",
      "Saving model with lowest val_loss = 0.4168\n",
      "\n"
     ]
    },
    {
     "name": "stderr",
     "output_type": "stream",
     "text": [
      "Training: : 100%|███████████████████████████████████████████████████████████████████████| 782/782 [01:39<00:00,  7.90batch/s, accuracy=83.6, loss=0.478]\n",
      "Validation: : 100%|██████████████████████████████████████████████████████████████████| 157/157 [00:08<00:00, 17.97batch/s, val_acc=84.9, val_loss=0.435]\n"
     ]
    },
    {
     "name": "stdout",
     "output_type": "stream",
     "text": [
      "\n",
      "epoch: 67 training loss = 0.4779, training accuracy = 83.56%, val_loss = 0.4352, val_accuracy = 84.93% & LR = 0.0100\n",
      "\n"
     ]
    },
    {
     "name": "stderr",
     "output_type": "stream",
     "text": [
      "Training: : 100%|███████████████████████████████████████████████████████████████████████| 782/782 [01:38<00:00,  7.91batch/s, accuracy=83.7, loss=0.475]\n",
      "Validation: : 100%|██████████████████████████████████████████████████████████████████| 157/157 [00:08<00:00, 18.13batch/s, val_acc=86.7, val_loss=0.383]\n"
     ]
    },
    {
     "name": "stdout",
     "output_type": "stream",
     "text": [
      "\n",
      "epoch: 68 training loss = 0.4745, training accuracy = 83.68%, val_loss = 0.3826, val_accuracy = 86.73% & LR = 0.0010\n",
      "\n",
      "Saving model with lowest val_loss = 0.3826\n",
      "\n"
     ]
    },
    {
     "name": "stderr",
     "output_type": "stream",
     "text": [
      "Training: : 100%|███████████████████████████████████████████████████████████████████████| 782/782 [01:38<00:00,  7.91batch/s, accuracy=87.2, loss=0.374]\n",
      "Validation: : 100%|██████████████████████████████████████████████████████████████████| 157/157 [00:08<00:00, 17.95batch/s, val_acc=88.7, val_loss=0.338]\n"
     ]
    },
    {
     "name": "stdout",
     "output_type": "stream",
     "text": [
      "\n",
      "epoch: 69 training loss = 0.3736, training accuracy = 87.25%, val_loss = 0.3379, val_accuracy = 88.70% & LR = 0.0010\n",
      "\n",
      "Saving model with lowest val_loss = 0.3379\n",
      "\n"
     ]
    },
    {
     "name": "stderr",
     "output_type": "stream",
     "text": [
      "Training: : 100%|███████████████████████████████████████████████████████████████████████| 782/782 [01:39<00:00,  7.89batch/s, accuracy=87.7, loss=0.355]\n",
      "Validation: : 100%|██████████████████████████████████████████████████████████████████| 157/157 [00:08<00:00, 18.02batch/s, val_acc=88.8, val_loss=0.327]\n"
     ]
    },
    {
     "name": "stdout",
     "output_type": "stream",
     "text": [
      "\n",
      "epoch: 70 training loss = 0.3546, training accuracy = 87.66%, val_loss = 0.3272, val_accuracy = 88.78% & LR = 0.0010\n",
      "\n",
      "Saving model with lowest val_loss = 0.3272\n",
      "\n"
     ]
    },
    {
     "name": "stderr",
     "output_type": "stream",
     "text": [
      "Training: : 100%|███████████████████████████████████████████████████████████████████████| 782/782 [01:39<00:00,  7.89batch/s, accuracy=88.3, loss=0.343]\n",
      "Validation: : 100%|██████████████████████████████████████████████████████████████████| 157/157 [00:08<00:00, 17.97batch/s, val_acc=88.7, val_loss=0.331]\n"
     ]
    },
    {
     "name": "stdout",
     "output_type": "stream",
     "text": [
      "\n",
      "epoch: 71 training loss = 0.3430, training accuracy = 88.26%, val_loss = 0.3313, val_accuracy = 88.72% & LR = 0.0010\n",
      "\n"
     ]
    },
    {
     "name": "stderr",
     "output_type": "stream",
     "text": [
      "Training: : 100%|███████████████████████████████████████████████████████████████████████| 782/782 [01:39<00:00,  7.88batch/s, accuracy=88.7, loss=0.331]\n",
      "Validation: : 100%|██████████████████████████████████████████████████████████████████| 157/157 [00:08<00:00, 17.90batch/s, val_acc=88.9, val_loss=0.327]\n"
     ]
    },
    {
     "name": "stdout",
     "output_type": "stream",
     "text": [
      "\n",
      "epoch: 72 training loss = 0.3314, training accuracy = 88.73%, val_loss = 0.3267, val_accuracy = 88.86% & LR = 0.0010\n",
      "\n",
      "Saving model with lowest val_loss = 0.3267\n",
      "\n"
     ]
    },
    {
     "name": "stderr",
     "output_type": "stream",
     "text": [
      "Training: : 100%|█████████████████████████████████████████████████████████████████████████| 782/782 [01:39<00:00,  7.89batch/s, accuracy=89, loss=0.323]\n",
      "Validation: : 100%|██████████████████████████████████████████████████████████████████| 157/157 [00:08<00:00, 17.98batch/s, val_acc=89.4, val_loss=0.309]\n"
     ]
    },
    {
     "name": "stdout",
     "output_type": "stream",
     "text": [
      "\n",
      "epoch: 73 training loss = 0.3225, training accuracy = 89.02%, val_loss = 0.3095, val_accuracy = 89.38% & LR = 0.0010\n",
      "\n",
      "Saving model with lowest val_loss = 0.3095\n",
      "\n"
     ]
    },
    {
     "name": "stderr",
     "output_type": "stream",
     "text": [
      "Training: : 100%|█████████████████████████████████████████████████████████████████████████| 782/782 [01:39<00:00,  7.89batch/s, accuracy=89, loss=0.322]\n",
      "Validation: : 100%|██████████████████████████████████████████████████████████████████| 157/157 [00:08<00:00, 17.97batch/s, val_acc=89.1, val_loss=0.322]\n"
     ]
    },
    {
     "name": "stdout",
     "output_type": "stream",
     "text": [
      "\n",
      "epoch: 74 training loss = 0.3217, training accuracy = 88.96%, val_loss = 0.3223, val_accuracy = 89.13% & LR = 0.0010\n",
      "\n"
     ]
    },
    {
     "name": "stderr",
     "output_type": "stream",
     "text": [
      "Training: : 100%|███████████████████████████████████████████████████████████████████████| 782/782 [01:39<00:00,  7.89batch/s, accuracy=89.1, loss=0.316]\n",
      "Validation: : 100%|██████████████████████████████████████████████████████████████████| 157/157 [00:08<00:00, 17.96batch/s, val_acc=89.4, val_loss=0.317]\n"
     ]
    },
    {
     "name": "stdout",
     "output_type": "stream",
     "text": [
      "\n",
      "epoch: 75 training loss = 0.3158, training accuracy = 89.11%, val_loss = 0.3170, val_accuracy = 89.43% & LR = 0.0010\n",
      "\n"
     ]
    },
    {
     "name": "stderr",
     "output_type": "stream",
     "text": [
      "Training: : 100%|████████████████████████████████████████████████████████████████████████| 782/782 [01:39<00:00,  7.90batch/s, accuracy=89.2, loss=0.31]\n",
      "Validation: : 100%|████████████████████████████████████████████████████████████████████| 157/157 [00:08<00:00, 17.99batch/s, val_acc=90, val_loss=0.306]\n"
     ]
    },
    {
     "name": "stdout",
     "output_type": "stream",
     "text": [
      "\n",
      "epoch: 76 training loss = 0.3103, training accuracy = 89.20%, val_loss = 0.3063, val_accuracy = 89.99% & LR = 0.0010\n",
      "\n",
      "Saving model with lowest val_loss = 0.3063\n",
      "\n"
     ]
    },
    {
     "name": "stderr",
     "output_type": "stream",
     "text": [
      "Training: : 100%|███████████████████████████████████████████████████████████████████████| 782/782 [01:39<00:00,  7.89batch/s, accuracy=89.4, loss=0.308]\n",
      "Validation: : 100%|██████████████████████████████████████████████████████████████████| 157/157 [00:08<00:00, 18.06batch/s, val_acc=89.6, val_loss=0.309]\n"
     ]
    },
    {
     "name": "stdout",
     "output_type": "stream",
     "text": [
      "\n",
      "epoch: 77 training loss = 0.3077, training accuracy = 89.43%, val_loss = 0.3094, val_accuracy = 89.65% & LR = 0.0010\n",
      "\n"
     ]
    },
    {
     "name": "stderr",
     "output_type": "stream",
     "text": [
      "Training: : 100%|███████████████████████████████████████████████████████████████████████| 782/782 [01:39<00:00,  7.90batch/s, accuracy=89.5, loss=0.304]\n",
      "Validation: : 100%|██████████████████████████████████████████████████████████████████| 157/157 [00:08<00:00, 17.99batch/s, val_acc=89.7, val_loss=0.308]\n"
     ]
    },
    {
     "name": "stdout",
     "output_type": "stream",
     "text": [
      "\n",
      "epoch: 78 training loss = 0.3038, training accuracy = 89.45%, val_loss = 0.3084, val_accuracy = 89.74% & LR = 0.0010\n",
      "\n"
     ]
    },
    {
     "name": "stderr",
     "output_type": "stream",
     "text": [
      "Training: : 100%|███████████████████████████████████████████████████████████████████████| 782/782 [01:38<00:00,  7.90batch/s, accuracy=89.9, loss=0.297]\n",
      "Validation: : 100%|████████████████████████████████████████████████████████████████████| 157/157 [00:08<00:00, 18.06batch/s, val_acc=90, val_loss=0.311]\n"
     ]
    },
    {
     "name": "stdout",
     "output_type": "stream",
     "text": [
      "\n",
      "epoch: 79 training loss = 0.2970, training accuracy = 89.92%, val_loss = 0.3110, val_accuracy = 90.04% & LR = 0.0010\n",
      "\n"
     ]
    },
    {
     "name": "stderr",
     "output_type": "stream",
     "text": [
      "Training: : 100%|███████████████████████████████████████████████████████████████████████| 782/782 [01:39<00:00,  7.89batch/s, accuracy=89.8, loss=0.298]\n",
      "Validation: : 100%|████████████████████████████████████████████████████████████████████| 157/157 [00:08<00:00, 18.05batch/s, val_acc=90, val_loss=0.306]\n"
     ]
    },
    {
     "name": "stdout",
     "output_type": "stream",
     "text": [
      "\n",
      "epoch: 80 training loss = 0.2979, training accuracy = 89.83%, val_loss = 0.3058, val_accuracy = 90.00% & LR = 0.0010\n",
      "\n",
      "Saving model with lowest val_loss = 0.3058\n",
      "\n"
     ]
    },
    {
     "name": "stderr",
     "output_type": "stream",
     "text": [
      "Training: : 100%|███████████████████████████████████████████████████████████████████████| 782/782 [01:39<00:00,  7.89batch/s, accuracy=89.9, loss=0.292]\n",
      "Validation: : 100%|██████████████████████████████████████████████████████████████████| 157/157 [00:08<00:00, 18.03batch/s, val_acc=90.2, val_loss=0.295]\n"
     ]
    },
    {
     "name": "stdout",
     "output_type": "stream",
     "text": [
      "\n",
      "epoch: 81 training loss = 0.2924, training accuracy = 89.94%, val_loss = 0.2946, val_accuracy = 90.21% & LR = 0.0010\n",
      "\n",
      "Saving model with lowest val_loss = 0.2946\n",
      "\n"
     ]
    },
    {
     "name": "stderr",
     "output_type": "stream",
     "text": [
      "Training: : 100%|██████████████████████████████████████████████████████████████████████████| 782/782 [01:39<00:00,  7.89batch/s, accuracy=90, loss=0.29]\n",
      "Validation: : 100%|██████████████████████████████████████████████████████████████████| 157/157 [00:08<00:00, 17.95batch/s, val_acc=89.5, val_loss=0.319]\n"
     ]
    },
    {
     "name": "stdout",
     "output_type": "stream",
     "text": [
      "\n",
      "epoch: 82 training loss = 0.2901, training accuracy = 90.05%, val_loss = 0.3190, val_accuracy = 89.46% & LR = 0.0010\n",
      "\n"
     ]
    },
    {
     "name": "stderr",
     "output_type": "stream",
     "text": [
      "Training: : 100%|███████████████████████████████████████████████████████████████████████| 782/782 [01:39<00:00,  7.89batch/s, accuracy=90.2, loss=0.286]\n",
      "Validation: : 100%|████████████████████████████████████████████████████████████████████| 157/157 [00:08<00:00, 18.00batch/s, val_acc=90, val_loss=0.292]\n"
     ]
    },
    {
     "name": "stdout",
     "output_type": "stream",
     "text": [
      "\n",
      "epoch: 83 training loss = 0.2856, training accuracy = 90.18%, val_loss = 0.2922, val_accuracy = 89.95% & LR = 0.0010\n",
      "\n",
      "Saving model with lowest val_loss = 0.2922\n",
      "\n"
     ]
    },
    {
     "name": "stderr",
     "output_type": "stream",
     "text": [
      "Training: : 100%|███████████████████████████████████████████████████████████████████████| 782/782 [01:38<00:00,  7.90batch/s, accuracy=90.2, loss=0.285]\n",
      "Validation: : 100%|██████████████████████████████████████████████████████████████████| 157/157 [00:08<00:00, 17.92batch/s, val_acc=90.1, val_loss=0.292]\n"
     ]
    },
    {
     "name": "stdout",
     "output_type": "stream",
     "text": [
      "\n",
      "epoch: 84 training loss = 0.2847, training accuracy = 90.19%, val_loss = 0.2925, val_accuracy = 90.10% & LR = 0.0010\n",
      "\n"
     ]
    },
    {
     "name": "stderr",
     "output_type": "stream",
     "text": [
      "Training: : 100%|███████████████████████████████████████████████████████████████████████| 782/782 [01:39<00:00,  7.89batch/s, accuracy=90.5, loss=0.278]\n",
      "Validation: : 100%|████████████████████████████████████████████████████████████████████| 157/157 [00:08<00:00, 18.00batch/s, val_acc=90, val_loss=0.307]"
     ]
    },
    {
     "name": "stdout",
     "output_type": "stream",
     "text": [
      "\n",
      "epoch: 85 training loss = 0.2783, training accuracy = 90.52%, val_loss = 0.3075, val_accuracy = 90.02% & LR = 0.0010\n",
      "\n"
     ]
    },
    {
     "name": "stderr",
     "output_type": "stream",
     "text": [
      "\n"
     ]
    }
   ],
   "source": [
    "for epoch in range(num_epochs):\n",
    "\n",
    "    # Train and validate model for 1 epoch-\n",
    "    train_loss, train_acc = train_model_progress(model, train_loader)\n",
    "    val_loss, val_acc = test_model_progress(model, test_loader)\n",
    "    \n",
    "    print(f\"\\nepoch: {epoch + 1} training loss = {train_loss:.4f}, \"\n",
    "          f\"training accuracy = {train_acc:.2f}%, val_loss = {val_loss:.4f}\"\n",
    "          f\", val_accuracy = {val_acc:.2f}% & \"\n",
    "          f\"LR = {optimizer.param_groups[0]['lr']:.4f}\\n\")\n",
    "    \n",
    "    training_history_lr_scheduler[epoch + 1] = {\n",
    "        'loss': train_loss, 'acc': train_acc,\n",
    "        'val_loss': val_loss, 'val_acc': val_acc,\n",
    "        'lr': optimizer.param_groups[0]['lr']\n",
    "    }\n",
    "\n",
    "    \n",
    "    # Save best weights achieved until now-\n",
    "    if (val_loss < best_val_loss):    \n",
    "        # update 'best_val_loss' variable to lowest loss encountered so far-\n",
    "        best_val_loss = val_loss\n",
    "\n",
    "        print(f\"Saving model with lowest val_loss = {val_loss:.4f}\\n\")\n",
    "        \n",
    "        # Save trained model with 'best' validation accuracy-\n",
    "        torch.save(model.state_dict(), \"ResNet50_best_model.pth\")\n",
    "        "
   ]
  },
  {
   "cell_type": "code",
   "execution_count": null,
   "id": "f2b6c772-dd30-4159-83ec-3eb4ce55d88e",
   "metadata": {},
   "outputs": [],
   "source": []
  },
  {
   "cell_type": "code",
   "execution_count": 38,
   "id": "e50b88a2-c1e3-47e0-9c2e-37859a5b7c94",
   "metadata": {},
   "outputs": [
    {
     "name": "stdout",
     "output_type": "stream",
     "text": [
      "Finished training ResNet-50 CNN on CIFAR-10 dataset\n"
     ]
    }
   ],
   "source": [
    "print(f\"Finished training ResNet-50 CNN on CIFAR-10 dataset\")"
   ]
  },
  {
   "cell_type": "code",
   "execution_count": 36,
   "id": "2f182899-aa3a-4e5e-a810-8305ba2bec12",
   "metadata": {},
   "outputs": [],
   "source": [
    "# Save model from last training epoch-\n",
    "torch.save(model.state_dict(), \"ResNet50_last_epoch_model.pth\")"
   ]
  },
  {
   "cell_type": "code",
   "execution_count": null,
   "id": "e55a1143-1de7-4289-a01a-5e6ed28c9a87",
   "metadata": {},
   "outputs": [],
   "source": []
  },
  {
   "cell_type": "code",
   "execution_count": 40,
   "id": "691b72d3-14f0-4da9-ae07-9bc2fd6213dc",
   "metadata": {},
   "outputs": [],
   "source": [
    "# Save training metrics as Python3 history for later analysis-\n",
    "with open(\"ResNet50_training_history_lr_scheduler.pkl\", \"wb\") as file:\n",
    "    pickle.dump(training_history_lr_scheduler, file)"
   ]
  },
  {
   "cell_type": "code",
   "execution_count": null,
   "id": "7bd3ddf6-4807-40b8-bda0-af62759d5ce3",
   "metadata": {},
   "outputs": [],
   "source": []
  },
  {
   "cell_type": "code",
   "execution_count": 38,
   "id": "d2e73145-9e2a-4329-a5c9-1c7fc68085ac",
   "metadata": {},
   "outputs": [],
   "source": [
    "del model"
   ]
  },
  {
   "cell_type": "code",
   "execution_count": null,
   "id": "9adc081d-35d3-4836-b6b3-330a5cffbb5c",
   "metadata": {},
   "outputs": [],
   "source": []
  },
  {
   "cell_type": "code",
   "execution_count": 49,
   "id": "2a91ad93-3925-4981-a37f-438bc716a7da",
   "metadata": {},
   "outputs": [
    {
     "data": {
      "text/plain": [
       "<All keys matched successfully>"
      ]
     },
     "execution_count": 49,
     "metadata": {},
     "output_type": "execute_result"
    }
   ],
   "source": [
    "# Initialize and load 'best' trained parameters from above-\n",
    "best_model = ResNet50()\n",
    "\n",
    "# Utilize all available GPUs-\n",
    "best_model = nn.DataParallel(best_model)\n",
    "best_model.to(device)\n",
    "best_model.load_state_dict(torch.load(\"ResNet50_best_model.pth\"))"
   ]
  },
  {
   "cell_type": "code",
   "execution_count": 50,
   "id": "773fa48d-e13c-4779-a4da-84c4b2556ef5",
   "metadata": {},
   "outputs": [
    {
     "name": "stderr",
     "output_type": "stream",
     "text": [
      "Validation: : 100%|████████████████████████████████████████████████████████████████████| 157/157 [00:08<00:00, 17.79batch/s, val_acc=90, val_loss=0.292]\n"
     ]
    }
   ],
   "source": [
    "# Get validation loss and accuracy-\n",
    "val_loss, val_acc = test_model_progress(best_model, test_loader)"
   ]
  },
  {
   "cell_type": "code",
   "execution_count": 52,
   "id": "21ccc258-a58d-4303-ba4f-5d53fc2b8fa7",
   "metadata": {},
   "outputs": [
    {
     "name": "stderr",
     "output_type": "stream",
     "text": [
      "Validation: : 100%|████████████████████████████████████████████████████████████████████| 157/157 [00:08<00:00, 17.90batch/s, val_acc=90, val_loss=0.307]\n"
     ]
    }
   ],
   "source": [
    "val_loss_last, val_acc_last = test_model_progress(model = model, test_loader = test_loader)"
   ]
  },
  {
   "cell_type": "code",
   "execution_count": 53,
   "id": "99636fa8-ac6d-42c8-b323-455be81f4684",
   "metadata": {},
   "outputs": [
    {
     "name": "stdout",
     "output_type": "stream",
     "text": [
      "ResNet-50 'best' model metrics: val_loss = 0.2922 & val_acc = 89.95% \n",
      "last epoch metrics: val_loss = 0.3075 & val_acc = 90.02%\n"
     ]
    }
   ],
   "source": [
    "print(f\"ResNet-50 'best' model metrics: val_loss = {val_loss:.4f} & val_acc = {val_acc:.2f}%\",\n",
    "      f\"\\nlast epoch metrics: val_loss = {val_loss_last:.4f} & val_acc = {val_acc_last:.2f}%\"\n",
    "     )"
   ]
  },
  {
   "cell_type": "markdown",
   "id": "1ef5f953-16d7-4813-a873-b443b1da9f72",
   "metadata": {},
   "source": [
    "##### NOTE\n",
    "\n",
    "Since _best_ parameters are decided using _loss_ and not _accuracy_, there is a gap."
   ]
  },
  {
   "cell_type": "code",
   "execution_count": 54,
   "id": "8963b129-6e43-4a19-8856-7efedc2110bb",
   "metadata": {},
   "outputs": [],
   "source": [
    "del best_trained_model, model"
   ]
  },
  {
   "cell_type": "code",
   "execution_count": null,
   "id": "bb57c606-8480-4d7b-b2fe-c8693804dbd7",
   "metadata": {},
   "outputs": [],
   "source": []
  },
  {
   "cell_type": "code",
   "execution_count": null,
   "id": "5a36655d-aa93-4408-affc-ea37307f87bc",
   "metadata": {},
   "outputs": [],
   "source": []
  },
  {
   "cell_type": "markdown",
   "id": "70fb8247-683a-4deb-a8a9-bd6a3eb78695",
   "metadata": {},
   "source": [
    "### ResNet-50 training visualizations"
   ]
  },
  {
   "cell_type": "code",
   "execution_count": 42,
   "id": "e0287a87-5acf-452f-b11c-d5eb83d4cc37",
   "metadata": {},
   "outputs": [
    {
     "data": {
      "image/png": "[encoded data removed]",
      "text/plain": [
       "<Figure size 648x504 with 1 Axes>"
      ]
     },
     "metadata": {
      "needs_background": "light"
     },
     "output_type": "display_data"
    }
   ],
   "source": [
    "plt.figure(figsize = (9, 7))\n",
    "plt.plot(list(training_history_lr_scheduler.keys()), [training_history_lr_scheduler[k]['acc'] for k in training_history_lr_scheduler.keys()], label = 'training acc')\n",
    "plt.plot(list(training_history_lr_scheduler.keys()), [training_history_lr_scheduler[k]['val_acc'] for k in training_history_lr_scheduler.keys()], label = 'val acc')\n",
    "plt.title(\"ResNet-50: Training Accuracy\")\n",
    "plt.xlabel(\"epochs\")\n",
    "plt.ylabel(\"accuracy (%)\")\n",
    "plt.legend(loc = 'best')\n",
    "plt.show()"
   ]
  },
  {
   "cell_type": "code",
   "execution_count": 43,
   "id": "e6d28b49-c7b4-4977-a3a9-96549b11beca",
   "metadata": {},
   "outputs": [
    {
     "data": {
      "image/png": "[encoded data removed]",
      "text/plain": [
       "<Figure size 648x504 with 1 Axes>"
      ]
     },
     "metadata": {
      "needs_background": "light"
     },
     "output_type": "display_data"
    }
   ],
   "source": [
    "plt.figure(figsize = (9, 7))\n",
    "plt.plot(list(training_history_lr_scheduler.keys()), [training_history_lr_scheduler[k]['loss'] for k in training_history_lr_scheduler.keys()], label = 'training loss')\n",
    "plt.plot(list(training_history_lr_scheduler.keys()), [training_history_lr_scheduler[k]['val_loss'] for k in training_history_lr_scheduler.keys()], label = 'val loss')\n",
    "plt.xlabel(\"epochs\")\n",
    "plt.ylabel(\"loss\")\n",
    "plt.legend(loc = 'best')\n",
    "plt.title(\"ResNet-50: Training Loss\")\n",
    "plt.show()"
   ]
  },
  {
   "cell_type": "code",
   "execution_count": 44,
   "id": "619eeafb-257c-435a-9a47-500289d56ccd",
   "metadata": {},
   "outputs": [
    {
     "data": {
      "image/png": "[encoded data removed]",
      "text/plain": [
       "<Figure size 648x504 with 1 Axes>"
      ]
     },
     "metadata": {
      "needs_background": "light"
     },
     "output_type": "display_data"
    }
   ],
   "source": [
    "plt.figure(figsize = (9, 7))\n",
    "plt.plot(list(training_history_lr_scheduler.keys()), [training_history_lr_scheduler[k]['lr'] for k in training_history_lr_scheduler.keys()])\n",
    "plt.xlabel(\"epochs\")\n",
    "plt.ylabel(\"lr\")\n",
    "plt.title(\"ResNet-50: Learning-Rate\")\n",
    "plt.show()"
   ]
  },
  {
   "cell_type": "code",
   "execution_count": null,
   "id": "60dd08ee-11a8-46f0-9d72-af14c3877cf0",
   "metadata": {},
   "outputs": [],
   "source": []
  },
  {
   "cell_type": "code",
   "execution_count": null,
   "id": "916c11c5-76d2-424b-ae8f-c2921fb1d06c",
   "metadata": {},
   "outputs": [],
   "source": []
  }
 ],
 "metadata": {
  "kernelspec": {
   "display_name": "Python 3 (ipykernel)",
   "language": "python",
   "name": "python3"
  },
  "language_info": {
   "codemirror_mode": {
    "name": "ipython",
    "version": 3
   },
   "file_extension": ".py",
   "mimetype": "text/x-python",
   "name": "python",
   "nbconvert_exporter": "python",
   "pygments_lexer": "ipython3",
   "version": "3.9.12"
  }
 },
 "nbformat": 4,
 "nbformat_minor": 5
}
