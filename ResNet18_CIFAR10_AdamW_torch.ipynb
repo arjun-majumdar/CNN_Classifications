{
 "cells": [
  {
   "cell_type": "markdown",
   "id": "597a7fa4-a104-44d0-a69e-d69182aab529",
   "metadata": {},
   "source": [
    "# ResNet-18: AdamW + CIFAR10 + albumentations"
   ]
  },
  {
   "cell_type": "code",
   "execution_count": 1,
   "id": "32c12c78-1589-4f5b-8231-132e25b41e48",
   "metadata": {},
   "outputs": [
    {
     "name": "stdout",
     "output_type": "stream",
     "text": [
      "env: CUDA_DEVICE_ORDER=PCI_BUS_ID\n",
      "env: CUDA_VISIBLE_DEVICES=0\n"
     ]
    }
   ],
   "source": [
    "# Specify GPU to be used-\n",
    "%env CUDA_DEVICE_ORDER = PCI_BUS_ID\n",
    "'''\n",
    "Specify GPU(s) to be used here. Say you have 6 GPUs and you want to train Model A on 2 of them\n",
    "and Model B on 4 of them. You can do that as follows-\n",
    "CUDA_VISIBLE_DEVICES=0,1 python model_A.py\n",
    "CUDA_VISIBLE_DEVICES=2,3,4,5 python model_B.py\n",
    "'''\n",
    "# %env CUDA_VISIBLE_DEVICES = 0, 1, 2, 3\n",
    "%env CUDA_VISIBLE_DEVICES = 0"
   ]
  },
  {
   "cell_type": "code",
   "execution_count": 2,
   "id": "f99452f4-2823-4f1e-b323-0d120f833d62",
   "metadata": {},
   "outputs": [
    {
     "name": "stderr",
     "output_type": "stream",
     "text": [
      "C:\\Users\\arjun\\anaconda3\\envs\\torch-cuda\\lib\\site-packages\\tqdm\\auto.py:22: TqdmWarning: IProgress not found. Please update jupyter and ipywidgets. See https://ipywidgets.readthedocs.io/en/stable/user_install.html\n",
      "  from .autonotebook import tqdm as notebook_tqdm\n"
     ]
    }
   ],
   "source": [
    "import cv2\n",
    "import numpy as np\n",
    "import matplotlib.pyplot as plt\n",
    "\n",
    "import torch\n",
    "import torch.nn as nn\n",
    "import torch.nn.functional as F\n",
    "import torchvision\n",
    "# import torchvision.transforms as transforms\n",
    "\n",
    "from tqdm import tqdm\n",
    "from tqdm import trange\n",
    "import matplotlib.pyplot as plt\n",
    "import seaborn as sns\n",
    "import numpy as np\n",
    "import os, pickle\n",
    "import albumentations as A\n",
    "from albumentations.pytorch import ToTensorV2"
   ]
  },
  {
   "cell_type": "code",
   "execution_count": null,
   "id": "729145a5-93f0-48e1-ab83-5028dcc63117",
   "metadata": {},
   "outputs": [],
   "source": []
  },
  {
   "cell_type": "code",
   "execution_count": null,
   "id": "2c0b2640-4f9c-4d1e-9ba8-3f200c7ac14c",
   "metadata": {},
   "outputs": [],
   "source": []
  },
  {
   "cell_type": "code",
   "execution_count": 3,
   "id": "fd536a24-70a0-4f33-95bf-bb1a24337293",
   "metadata": {},
   "outputs": [
    {
     "name": "stdout",
     "output_type": "stream",
     "text": [
      "torch version: 1.13.1\n",
      "Number of GPU(s) available = 1\n",
      "Current GPU: 0\n",
      "Current GPU name: NVIDIA GeForce RTX 3080 Laptop GPU\n"
     ]
    }
   ],
   "source": [
    "print(f\"torch version: {torch.__version__}\")\n",
    "\n",
    "# Check if there are multiple devices (i.e., GPU cards)-\n",
    "print(f\"Number of GPU(s) available = {torch.cuda.device_count()}\")\n",
    "\n",
    "# Which GPU Is The Current GPU?\n",
    "# print(f\"current GPU: {torch.cuda.current_device()}\")\n",
    "\n",
    "# Get the name of the current GPU-\n",
    "# print(f\"Current GPU name: {torch.cuda.get_device_name(torch.cuda.current_device())}\")\n",
    "\n",
    "# Is PyTorch using a GPU?\n",
    "# print(f\"Is PyTorch using a GPU? {torch.cuda.is_available()}\")\n",
    "\n",
    "if torch.cuda.is_available():\n",
    "    print(f\"Current GPU: {torch.cuda.current_device()}\")\n",
    "    print(f\"Current GPU name: {torch.cuda.get_device_name(torch.cuda.current_device())}\")\n",
    "else:\n",
    "    print(\"PyTorch does not have access to GPU\")"
   ]
  },
  {
   "cell_type": "code",
   "execution_count": 4,
   "id": "305c9103-6f25-495f-a8e4-a2531ab7eaa4",
   "metadata": {},
   "outputs": [
    {
     "name": "stdout",
     "output_type": "stream",
     "text": [
      "|===========================================================================|\n",
      "|                  PyTorch CUDA memory summary, device ID 0                 |\n",
      "|---------------------------------------------------------------------------|\n",
      "|            CUDA OOMs: 0            |        cudaMalloc retries: 0         |\n",
      "|===========================================================================|\n",
      "|        Metric         | Cur Usage  | Peak Usage | Tot Alloc  | Tot Freed  |\n",
      "|---------------------------------------------------------------------------|\n",
      "| Allocated memory      |       0 B  |       0 B  |       0 B  |       0 B  |\n",
      "|       from large pool |       0 B  |       0 B  |       0 B  |       0 B  |\n",
      "|       from small pool |       0 B  |       0 B  |       0 B  |       0 B  |\n",
      "|---------------------------------------------------------------------------|\n",
      "| Active memory         |       0 B  |       0 B  |       0 B  |       0 B  |\n",
      "|       from large pool |       0 B  |       0 B  |       0 B  |       0 B  |\n",
      "|       from small pool |       0 B  |       0 B  |       0 B  |       0 B  |\n",
      "|---------------------------------------------------------------------------|\n",
      "| GPU reserved memory   |       0 B  |       0 B  |       0 B  |       0 B  |\n",
      "|       from large pool |       0 B  |       0 B  |       0 B  |       0 B  |\n",
      "|       from small pool |       0 B  |       0 B  |       0 B  |       0 B  |\n",
      "|---------------------------------------------------------------------------|\n",
      "| Non-releasable memory |       0 B  |       0 B  |       0 B  |       0 B  |\n",
      "|       from large pool |       0 B  |       0 B  |       0 B  |       0 B  |\n",
      "|       from small pool |       0 B  |       0 B  |       0 B  |       0 B  |\n",
      "|---------------------------------------------------------------------------|\n",
      "| Allocations           |       0    |       0    |       0    |       0    |\n",
      "|       from large pool |       0    |       0    |       0    |       0    |\n",
      "|       from small pool |       0    |       0    |       0    |       0    |\n",
      "|---------------------------------------------------------------------------|\n",
      "| Active allocs         |       0    |       0    |       0    |       0    |\n",
      "|       from large pool |       0    |       0    |       0    |       0    |\n",
      "|       from small pool |       0    |       0    |       0    |       0    |\n",
      "|---------------------------------------------------------------------------|\n",
      "| GPU reserved segments |       0    |       0    |       0    |       0    |\n",
      "|       from large pool |       0    |       0    |       0    |       0    |\n",
      "|       from small pool |       0    |       0    |       0    |       0    |\n",
      "|---------------------------------------------------------------------------|\n",
      "| Non-releasable allocs |       0    |       0    |       0    |       0    |\n",
      "|       from large pool |       0    |       0    |       0    |       0    |\n",
      "|       from small pool |       0    |       0    |       0    |       0    |\n",
      "|---------------------------------------------------------------------------|\n",
      "| Oversize allocations  |       0    |       0    |       0    |       0    |\n",
      "|---------------------------------------------------------------------------|\n",
      "| Oversize GPU segments |       0    |       0    |       0    |       0    |\n",
      "|===========================================================================|\n",
      "\n"
     ]
    }
   ],
   "source": [
    "print(torch.cuda.memory_summary())"
   ]
  },
  {
   "cell_type": "code",
   "execution_count": 5,
   "id": "b5b67df8-6a75-4ce8-bc89-32d01de8f5fe",
   "metadata": {},
   "outputs": [
    {
     "name": "stdout",
     "output_type": "stream",
     "text": [
      "Available device is cuda\n"
     ]
    }
   ],
   "source": [
    "# Device configuration-\n",
    "device = torch.device('cuda' if torch.cuda.is_available() else 'cpu')\n",
    "print(f'Available device is {device}')"
   ]
  },
  {
   "cell_type": "code",
   "execution_count": null,
   "id": "98e39734-8cf0-42f0-a801-fefd99a8d0ee",
   "metadata": {},
   "outputs": [],
   "source": []
  },
  {
   "cell_type": "code",
   "execution_count": null,
   "id": "8e793fb6-d3de-460e-ac88-7dcfdecec4a1",
   "metadata": {},
   "outputs": [],
   "source": []
  },
  {
   "cell_type": "code",
   "execution_count": 6,
   "id": "41228372-fb49-4e1d-b1a2-43042323fcaf",
   "metadata": {},
   "outputs": [],
   "source": [
    "# Specify hyper-parameters\n",
    "batch_size = 256\n",
    "num_classes = 10\n",
    "num_epochs = 80"
   ]
  },
  {
   "cell_type": "code",
   "execution_count": null,
   "id": "15395349-e2e1-4ffb-93d8-48c19be9abae",
   "metadata": {},
   "outputs": [],
   "source": []
  },
  {
   "cell_type": "code",
   "execution_count": null,
   "id": "6ebe8001-52b6-465e-993d-189bec2c0182",
   "metadata": {},
   "outputs": [],
   "source": []
  },
  {
   "cell_type": "code",
   "execution_count": 7,
   "id": "6e5ab018-153d-4644-bea8-ece978de2807",
   "metadata": {},
   "outputs": [],
   "source": [
    "# Define transformations using albumentations-\n",
    "transform_train = A.Compose(\n",
    "    [\n",
    "        # A.Resize(width = 32, height = 32),\n",
    "        # A.RandomCrop(width = 20, height = 20),\n",
    "        A.Rotate(limit = 40, p = 0.9, border_mode = cv2.BORDER_CONSTANT),\n",
    "        A.HorizontalFlip(p = 0.5),\n",
    "        A.VerticalFlip(p = 0.1),\n",
    "        A.RGBShift(r_shift_limit = 25, g_shift_limit = 25, b_shift_limit = 25, p = 0.9),\n",
    "        A.OneOf([\n",
    "            A.Blur(blur_limit = 3, p = 0.5),\n",
    "            A.ColorJitter(p = 0.5),\n",
    "        ], p = 1.0),\n",
    "        A.Normalize(\n",
    "            # mean = [0.4914, 0.4822, 0.4465],\n",
    "            # std = [0.247, 0.243, 0.261],\n",
    "            mean = [0, 0, 0],\n",
    "            std = [1, 1, 1],\n",
    "            max_pixel_value = 255,\n",
    "        ),\n",
    "        # This is not dividing by 255, which it does in PyTorch-\n",
    "        ToTensorV2(),\n",
    "    ]\n",
    ")\n",
    "\n",
    "transform_val = A.Compose(\n",
    "    [\n",
    "        A.Normalize(\n",
    "            mean = [0, 0, 0],\n",
    "            std = [1, 1, 1],\n",
    "            max_pixel_value = 255\n",
    "        ),\n",
    "        ToTensorV2()\n",
    "    ]\n",
    ")\n"
   ]
  },
  {
   "cell_type": "code",
   "execution_count": 8,
   "id": "2d3d62a1-f469-4b28-b671-95139bf0899d",
   "metadata": {},
   "outputs": [],
   "source": [
    "class Cifar10Dataset(torchvision.datasets.CIFAR10):\n",
    "    def __init__(\n",
    "        self, root = \"~/data/cifar10\",\n",
    "        train = True, download = True,\n",
    "        transform = None\n",
    "    ):\n",
    "        super().__init__(\n",
    "            root = root, train = train,\n",
    "            download = download, transform = transform\n",
    "        )\n",
    "\n",
    "    def __getitem__(self, index):\n",
    "        image, label = self.data[index], self.targets[index]\n",
    "\n",
    "        if self.transform is not None:\n",
    "            transformed = self.transform(image = image)\n",
    "            image = transformed[\"image\"]\n",
    "\n",
    "        return image, label\n"
   ]
  },
  {
   "cell_type": "code",
   "execution_count": 9,
   "id": "f1d3f351-02b5-40c0-b96e-be49c9a08e9e",
   "metadata": {},
   "outputs": [
    {
     "name": "stdout",
     "output_type": "stream",
     "text": [
      "Files already downloaded and verified\n",
      "Files already downloaded and verified\n"
     ]
    }
   ],
   "source": [
    "# Define train and validate sets-\n",
    "train_dataset = Cifar10Dataset(\n",
    "    root = 'C:/Users/arjun/Downloads/data/', train = True,\n",
    "    download = True, transform = transform_train\n",
    ")\n",
    "\n",
    "val_dataset = Cifar10Dataset(\n",
    "    root = 'C:/Users/arjun/Downloads/data/', train = False,\n",
    "    download = True, transform = transform_val\n",
    ")"
   ]
  },
  {
   "cell_type": "code",
   "execution_count": 10,
   "id": "ae7f7bce-05e7-4bff-a93c-9be6a0e21ea0",
   "metadata": {},
   "outputs": [],
   "source": [
    "# Define train and validate loaders-\n",
    "train_loader = torch.utils.data.DataLoader(\n",
    "    dataset = train_dataset, batch_size = batch_size,\n",
    "    shuffle = True\n",
    "    )\n",
    "\n",
    "val_loader = torch.utils.data.DataLoader(\n",
    "    dataset = val_dataset, batch_size = batch_size,\n",
    "    shuffle = True\n",
    "    )"
   ]
  },
  {
   "cell_type": "code",
   "execution_count": 11,
   "id": "5d18fe41-cb27-4f43-902e-a82279cd47d2",
   "metadata": {},
   "outputs": [
    {
     "name": "stdout",
     "output_type": "stream",
     "text": [
      "len(train_dataset) = 50000 & len(val_dataset) = 10000\n",
      "len(train_loader) = 196 & len(val_loader) = 40\n"
     ]
    }
   ],
   "source": [
    "print(f\"len(train_dataset) = {len(train_dataset)} & len(val_dataset) = {len(val_dataset)}\")\n",
    "print(f\"len(train_loader) = {len(train_loader)} & len(val_loader) = {len(val_loader)}\")"
   ]
  },
  {
   "cell_type": "code",
   "execution_count": 12,
   "id": "e5aa557e-00df-4238-9ea5-71f4f1469d62",
   "metadata": {},
   "outputs": [
    {
     "data": {
      "text/plain": [
       "(195.3125, 39.0625)"
      ]
     },
     "execution_count": 12,
     "metadata": {},
     "output_type": "execute_result"
    }
   ],
   "source": [
    "# Sanity check-\n",
    "len(train_dataset) / batch_size, len(val_dataset) / batch_size"
   ]
  },
  {
   "cell_type": "code",
   "execution_count": null,
   "id": "479c0910-8f1f-4303-8a9f-f3b1de7a32d8",
   "metadata": {},
   "outputs": [],
   "source": []
  },
  {
   "cell_type": "code",
   "execution_count": null,
   "id": "6c052b84-a7cb-4662-bdaf-196aed3b6f1c",
   "metadata": {},
   "outputs": [],
   "source": []
  },
  {
   "cell_type": "code",
   "execution_count": 13,
   "id": "4a98f161-2279-40da-84b1-4ee7187ae37d",
   "metadata": {},
   "outputs": [],
   "source": [
    "class ResNet_Block(nn.Module):\n",
    "    '''\n",
    "    Residual block for a ResNet CNN model\n",
    "    '''\n",
    "    def __init__(\n",
    "        self, num_inp_channels,\n",
    "        num_channels, stride = 1,\n",
    "        dropout = 0.2, use_1x1_conv = False\n",
    "    ):\n",
    "        super(ResNet_Block, self).__init__()\n",
    "        \n",
    "        self.num_inp_channels = num_inp_channels\n",
    "        self.num_channels = num_channels\n",
    "        self.stride = stride\n",
    "        self.dropout = dropout\n",
    "        self.use_1x1_conv = use_1x1_conv\n",
    "    \n",
    "        \n",
    "        self.conv1 = nn.Conv2d(\n",
    "            in_channels = self.num_inp_channels, out_channels = self.num_channels,\n",
    "            kernel_size = 3, padding = 1,\n",
    "            stride = self.stride, bias = False\n",
    "        )\n",
    "        self.bn1 = nn.BatchNorm2d(num_features = self.num_channels)\n",
    "        \n",
    "        self.conv2 = nn.Conv2d(\n",
    "            in_channels = self.num_channels, out_channels = self.num_channels,\n",
    "            kernel_size = 3, padding = 1,\n",
    "            stride = 1, bias = False\n",
    "        )\n",
    "        self.bn2 = nn.BatchNorm2d(num_features = self.num_channels)\n",
    "        self.dropout = nn.Dropout(p = self.dropout)\n",
    "        \n",
    "        if self.use_1x1_conv:\n",
    "            self.conv3 = nn.Conv2d(\n",
    "            in_channels = self.num_inp_channels, out_channels = num_channels,\n",
    "            kernel_size = 1, padding = 0,\n",
    "            stride = self.stride, bias = False\n",
    "            )\n",
    "            self.bn3 = nn.BatchNorm2d(num_features = self.num_channels)\n",
    "        \n",
    "        self.initialize_weights()\n",
    "\n",
    "            \n",
    "    def initialize_weights(self):\n",
    "        for m in self.modules():\n",
    "            # print(m)\n",
    "            if isinstance(m, nn.Conv2d):\n",
    "                nn.init.kaiming_normal_(m.weight)\n",
    "\n",
    "                '''\n",
    "                # Do not initialize bias (due to batchnorm)-\n",
    "                if m.bias is not None:\n",
    "                    nn.init.constant_(m.bias, 0)\n",
    "                '''\n",
    "            \n",
    "            elif isinstance(m, nn.BatchNorm2d):\n",
    "                # Standard initialization for batch normalization-\n",
    "                nn.init.constant_(m.weight, 1)\n",
    "                nn.init.constant_(m.bias, 0)\n",
    "\n",
    "            elif isinstance(m, nn.Linear):\n",
    "                nn.init.kaiming_normal_(m.weight)\n",
    "                nn.init.constant_(m.bias, 0)\n",
    "    \n",
    "    \n",
    "    def forward(self, x):\n",
    "        y = F.leaky_relu(self.bn1(self.conv1(x)))\n",
    "        y = self.dropout(F.leaky_relu(self.bn2(self.conv2(y))))\n",
    "        \n",
    "        if self.use_1x1_conv:\n",
    "            x = self.bn3(self.conv3(x))\n",
    "            \n",
    "        y += x\n",
    "        return F.leaky_relu(self.dropout(y))\n",
    "    \n",
    "    \n",
    "    def shape_computation(self, x):\n",
    "        print(f\"Input shape: {x.shape}\")\n",
    "        y = (self.bn1(self.conv1(x)))\n",
    "        print(f\"First conv layer output shape: {y.shape}\")\n",
    "        y = self.bn2(self.conv2(y))\n",
    "        print(f\"Second conv layer output shape: {y.shape}\")\n",
    "        \n",
    "        if self.use_1x1_conv:\n",
    "            x = self.bn3(self.conv3(x))\n",
    "            print(f\"Downsample with S = 2; identity connection output shape: {x.shape}\")\n",
    "            \n",
    "        y += x\n",
    "        print(f\"Residual block output shape: {y.shape}\")\n",
    "        return None\n",
    "    "
   ]
  },
  {
   "cell_type": "code",
   "execution_count": 14,
   "id": "72c45d8e-11fb-4029-b28b-079eb3778b72",
   "metadata": {},
   "outputs": [],
   "source": [
    "class ResNet18(nn.Module):\n",
    "    def __init__(self):\n",
    "        super(ResNet18, self).__init__()\n",
    "        \n",
    "        self.conv1 = nn.Conv2d(\n",
    "            in_channels = 3, out_channels = 64,\n",
    "            kernel_size = 3, padding = 1,\n",
    "            stride = 1, bias = False\n",
    "        )\n",
    "        self.bn1 = nn.BatchNorm2d(num_features = 64)\n",
    "        \n",
    "        self.resblock1 = ResNet_Block(\n",
    "            num_inp_channels = 64, num_channels = 64,\n",
    "            stride = 1, dropout = 0.2,\n",
    "            use_1x1_conv = False\n",
    "        )\n",
    "        \n",
    "        self.resblock2 = ResNet_Block(\n",
    "            num_inp_channels = 64, num_channels = 64,\n",
    "            stride = 1, dropout = 0.2,\n",
    "            use_1x1_conv = False\n",
    "        )\n",
    "        \n",
    "        # Downsample-\n",
    "        self.resblock3 = ResNet_Block(\n",
    "            num_inp_channels = 64, num_channels = 128,\n",
    "            stride = 2, dropout = 0.2,\n",
    "            use_1x1_conv = True\n",
    "        )\n",
    "        \n",
    "        self.resblock4 = ResNet_Block(\n",
    "            num_inp_channels = 128, num_channels = 128,\n",
    "            stride = 1, dropout = 0.2,\n",
    "            use_1x1_conv = False\n",
    "        )\n",
    "\n",
    "        # Downsample-\n",
    "        self.resblock5 = ResNet_Block(\n",
    "            num_inp_channels = 128, num_channels = 256,\n",
    "            stride = 2, dropout = 0.2,\n",
    "            use_1x1_conv = True\n",
    "        )\n",
    "\n",
    "        self.resblock6 = ResNet_Block(\n",
    "            num_inp_channels = 256, num_channels = 256,\n",
    "            stride = 1, dropout = 0.2,\n",
    "            use_1x1_conv = False\n",
    "        )\n",
    "\n",
    "        # Downsample-\n",
    "        self.resblock7 = ResNet_Block(\n",
    "            num_inp_channels = 256, num_channels = 512,\n",
    "            stride = 2, dropout = 0.2,\n",
    "            use_1x1_conv = True\n",
    "        )\n",
    "\n",
    "        self.resblock8 = ResNet_Block(\n",
    "            num_inp_channels = 512, num_channels = 512,\n",
    "            stride = 1, dropout = 0.2,\n",
    "            use_1x1_conv = False\n",
    "        )\n",
    "        \n",
    "        self.avg_pool = nn.AvgPool2d(kernel_size = 3, stride = 2)\n",
    "        self.op_layer = nn.Linear(\n",
    "            in_features = 512, out_features = 10,\n",
    "            bias = True\n",
    "        )\n",
    "        \n",
    "    \n",
    "    def forward(self, x):\n",
    "        x = F.relu(self.bn1(self.conv1(x)))\n",
    "        x = self.resblock1(x)\n",
    "        x = self.resblock2(x)\n",
    "        x = self.resblock3(x)\n",
    "        x = self.resblock4(x)\n",
    "        x = self.resblock5(x)\n",
    "        x = self.resblock6(x)\n",
    "        x = self.resblock7(x)\n",
    "        x = self.resblock8(x)\n",
    "        x = self.avg_pool(x).squeeze()\n",
    "        x = self.op_layer(x)\n",
    "        return x\n",
    "    "
   ]
  },
  {
   "cell_type": "code",
   "execution_count": null,
   "id": "b8e65d07-1828-475e-9ad8-189e454ebc8d",
   "metadata": {},
   "outputs": [],
   "source": []
  },
  {
   "cell_type": "code",
   "execution_count": 15,
   "id": "f2558704-04fd-41f3-829e-e081591cec49",
   "metadata": {},
   "outputs": [],
   "source": [
    "# Initialize ResNet-18 architecture-\n",
    "model = ResNet18().to(device)"
   ]
  },
  {
   "cell_type": "code",
   "execution_count": 17,
   "id": "15256573-3dca-4c53-bd14-e5f400f9650c",
   "metadata": {},
   "outputs": [],
   "source": [
    "# Count number of layer-wise parameters and total parameters-\n",
    "tot_params = 0\n",
    "for param in model.parameters():\n",
    "    # print(f\"layer.shape = {param.shape} has {param.nelement()} parameters\")\n",
    "    tot_params += param.nelement()"
   ]
  },
  {
   "cell_type": "code",
   "execution_count": 18,
   "id": "ccbc2c51-531b-4fa9-a2ec-467ad5a757ed",
   "metadata": {},
   "outputs": [
    {
     "name": "stdout",
     "output_type": "stream",
     "text": [
      "Total number of parameters in ResNet-18 CNN = 11173962\n"
     ]
    }
   ],
   "source": [
    "print(f\"Total number of parameters in ResNet-18 CNN = {tot_params}\")"
   ]
  },
  {
   "cell_type": "code",
   "execution_count": null,
   "id": "6e802a4e-cf26-4dbe-8bb0-4b4772e20b93",
   "metadata": {},
   "outputs": [],
   "source": []
  },
  {
   "cell_type": "code",
   "execution_count": 19,
   "id": "e2a6f54a-fc3c-46ed-837c-0c4802f48b50",
   "metadata": {},
   "outputs": [],
   "source": [
    "# Save random initial weights-\n",
    "torch.save(model.state_dict(), 'ResNet18_random_weights.pth')\n",
    "\n",
    "# Load randomly initialised weights-\n",
    "# model.load_state_dict(torch.load('VGG18_random_weights_dropouts.pth'))"
   ]
  },
  {
   "cell_type": "code",
   "execution_count": null,
   "id": "9d9a812a-5d97-41e1-aea3-9d7f706f981e",
   "metadata": {},
   "outputs": [],
   "source": []
  },
  {
   "cell_type": "code",
   "execution_count": 20,
   "id": "b0ed10dd-33b5-492d-88f6-43c18e6ff5fe",
   "metadata": {},
   "outputs": [],
   "source": [
    "# Define loss function and optimizer-\n",
    "loss = nn.CrossEntropyLoss()\n",
    "\n",
    "# optimizer = torch.optim.Adam(model.parameters(), lr = learning_rate)\n",
    "# optimizer = torch.optim.SGD(model.parameters(), lr = 0.0, momentum = 0.9, weight_decay = 5e-4)\n",
    "optimizer = torch.optim.AdamW(\n",
    "    params = model.parameters(), lr = 0.0,\n",
    "    betas = (0.9, 0.999), eps = 1e-08,\n",
    "    weight_decay = 5e-4, amsgrad = True\n",
    ")"
   ]
  },
  {
   "cell_type": "code",
   "execution_count": null,
   "id": "b884ae6c-b007-4a94-99e3-4d5ae2178e44",
   "metadata": {},
   "outputs": [],
   "source": []
  },
  {
   "cell_type": "markdown",
   "id": "3c3acafc-ff68-4656-8f7d-d3d40836e7d5",
   "metadata": {},
   "source": [
    "### Train model with learning rate scheduler\n",
    "\n",
    "Training dataset = 50000, batch size = 256, number of training steps/iterations per epoch = 50000 / 256 = 195.3125 = 195\n",
    "\n",
    "After an initial linear learning rate warmup of 13 epochs or 2539 training steps:\n",
    "\n",
    "- For the next 32 epochs, or, 6250 steps - until 43rd epoch, use lr = 0.1.\n",
    "\n",
    "- For the next 25 epochs, or, 4882 steps - until 68th epoch, use lr = 0.01.\n",
    "\n",
    "- For remaining epochs (13 epochs), use lr = 0.001."
   ]
  },
  {
   "cell_type": "code",
   "execution_count": 21,
   "id": "f89ebb10-bc9c-44a3-a5d7-c4fb4accf1c6",
   "metadata": {},
   "outputs": [],
   "source": [
    "boundaries = [6250, 11132]\n",
    "values = [0.1, 0.01, 0.001]"
   ]
  },
  {
   "cell_type": "code",
   "execution_count": 22,
   "id": "a04771b6-6425-4968-9041-05458a33781e",
   "metadata": {},
   "outputs": [],
   "source": [
    "def decay_function(step, boundaries = [6250, 11132], values = [0.1, 0.01, 0.001]):\n",
    "    \n",
    "    for idx, bound in enumerate(boundaries):\n",
    "        if step < bound:\n",
    "            return values[idx]\n",
    "\n",
    "    return values[-1]\n"
   ]
  },
  {
   "cell_type": "code",
   "execution_count": 23,
   "id": "e655ae5c-fbf3-4751-94db-de5ca8f9263d",
   "metadata": {},
   "outputs": [],
   "source": [
    "class schedule():\n",
    "\n",
    "    def __init__(self, initial_learning_rate = 0.1, warmup_steps = 1000, decay_func = None):\n",
    "        self.initial_learning_rate = initial_learning_rate\n",
    "        self.warmup_steps = warmup_steps\n",
    "        self.decay_func = decay_func\n",
    "        self.warmup_step_size = initial_learning_rate/warmup_steps\n",
    "        self.current_lr = 0\n",
    "\n",
    "    def get_lr(self, step):\n",
    "        if step == 0:\n",
    "            return self.current_lr\n",
    "        elif step <= self.warmup_steps:\n",
    "            self.current_lr+=self.warmup_step_size\n",
    "            return self.current_lr\n",
    "        elif step > self.warmup_steps:\n",
    "            if self.decay_func:\n",
    "                return self.decay_func(step)\n",
    "        else:\n",
    "            return self.current_lr\n",
    "        "
   ]
  },
  {
   "cell_type": "code",
   "execution_count": 24,
   "id": "542739a2-85cd-428d-91ae-4e122681eb37",
   "metadata": {},
   "outputs": [],
   "source": [
    "# Initial linear LR warmup: 195.3125 x 13 = 2549 steps in 13 epochs.\n",
    "custom_lr_scheduler = schedule(\n",
    "    initial_learning_rate = 0.1, warmup_steps = 2539,\n",
    "    decay_func = decay_function\n",
    ")"
   ]
  },
  {
   "cell_type": "code",
   "execution_count": 25,
   "id": "a3358642-a8f7-4501-915e-89c624a07b63",
   "metadata": {},
   "outputs": [],
   "source": [
    "step = 0"
   ]
  },
  {
   "cell_type": "code",
   "execution_count": null,
   "id": "b7020804-9290-44db-a47d-1d6c55a36b2b",
   "metadata": {},
   "outputs": [],
   "source": []
  },
  {
   "cell_type": "code",
   "execution_count": 26,
   "id": "9f98a482-8712-44ea-a9d2-c26a06e342f7",
   "metadata": {},
   "outputs": [],
   "source": [
    "def train_model_progress(model, train_loader, train_dataset):\n",
    "    '''\n",
    "    Function to perform one epoch of training by using 'train_loader'.\n",
    "    Returns loss and number of correct predictions for this epoch.\n",
    "    '''\n",
    "    running_loss = 0.0\n",
    "    running_corrects = 0.0\n",
    "    \n",
    "    model.train()\n",
    "    \n",
    "    with tqdm(train_loader, unit = 'batch') as tepoch:\n",
    "        for images, labels in tepoch:\n",
    "            tepoch.set_description(f\"Training: \")\n",
    "            \n",
    "            images = images.to(device)\n",
    "            labels = labels.to(device)\n",
    "            \n",
    "            # Get model predictions-\n",
    "            outputs = model(images)\n",
    "            \n",
    "            # Compute loss-\n",
    "            J = loss(outputs, labels)\n",
    "            \n",
    "            # Empty accumulated gradients-\n",
    "            optimizer.zero_grad()\n",
    "            \n",
    "            # Perform backprop-\n",
    "            J.backward()\n",
    "            \n",
    "            # Update parameters-\n",
    "            optimizer.step()\n",
    "            \n",
    "            global step\n",
    "            optimizer.param_groups[0]['lr'] = custom_lr_scheduler.get_lr(step)\n",
    "\n",
    "            step += 1\n",
    "            \n",
    "            # Compute model's performance statistics-\n",
    "            running_loss += J.item() * images.size(0)\n",
    "            _, predicted = torch.max(outputs, 1)\n",
    "            running_corrects += torch.sum(predicted == labels.data)\n",
    "            \n",
    "            tepoch.set_postfix(\n",
    "                loss = running_loss / len(train_dataset),\n",
    "                accuracy = (running_corrects.double().cpu().numpy() / len(train_dataset)) * 100\n",
    "            )\n",
    "            \n",
    "    \n",
    "    train_loss = running_loss / len(train_dataset)\n",
    "    train_acc = (running_corrects.double() / len(train_dataset)) * 100\n",
    "    \n",
    "\n",
    "    # return running_loss, running_corrects\n",
    "    return train_loss, train_acc.cpu().numpy()\n",
    "\n",
    "def test_model_progress(model, test_loader, test_dataset):\n",
    "    total = 0.0\n",
    "    correct = 0.0\n",
    "    running_loss_val = 0.0\n",
    "\n",
    "    with torch.no_grad():\n",
    "        with tqdm(test_loader, unit = 'batch') as tepoch:\n",
    "            for images, labels in tepoch:\n",
    "                tepoch.set_description(f\"Validation: \")\n",
    "                \n",
    "                images = images.to(device)\n",
    "                labels = labels.to(device)\n",
    "                \n",
    "                # Set model to evaluation mode-\n",
    "                model.eval()\n",
    "            \n",
    "                # Predict using trained model-\n",
    "                outputs = model(images)\n",
    "                _, y_pred = torch.max(outputs, 1)\n",
    "                \n",
    "                # Compute validation loss-\n",
    "                J_val = loss(outputs, labels)\n",
    "                \n",
    "                running_loss_val += J_val.item() * labels.size(0)\n",
    "    \n",
    "                # Total number of labels-\n",
    "                total += labels.size(0)\n",
    "\n",
    "                # Total number of correct predictions-\n",
    "                correct += (y_pred == labels).sum()\n",
    "                \n",
    "                tepoch.set_postfix(\n",
    "                    val_loss = running_loss_val / len(test_dataset),\n",
    "                    val_acc = 100 * (correct.cpu().numpy() / total)\n",
    "                )\n",
    "            \n",
    "        \n",
    "    # return (running_loss_val, correct, total)\n",
    "    val_loss = running_loss_val / len(test_dataset)\n",
    "    val_acc = (correct / total) * 100\n",
    "\n",
    "    return val_loss, val_acc.cpu().numpy()\n"
   ]
  },
  {
   "cell_type": "code",
   "execution_count": null,
   "id": "6b9811a0-6247-4876-8a53-f606c2cccb96",
   "metadata": {},
   "outputs": [],
   "source": []
  },
  {
   "cell_type": "code",
   "execution_count": 28,
   "id": "0378ed84-de49-4c78-9414-129da0f0296d",
   "metadata": {},
   "outputs": [],
   "source": [
    "# Python3 dict to contain training metrics-\n",
    "training_history_lr_scheduler = {}\n",
    "\n",
    "# Initialize parameters saving 'best' models-\n",
    "best_val_acc = 50"
   ]
  },
  {
   "cell_type": "code",
   "execution_count": null,
   "id": "a5156b4f-747a-4c56-bfed-3df1a7da7382",
   "metadata": {},
   "outputs": [],
   "source": []
  },
  {
   "cell_type": "code",
   "execution_count": 29,
   "id": "28d4252d-33c1-46d0-87bc-814a9f83c1cc",
   "metadata": {},
   "outputs": [
    {
     "name": "stderr",
     "output_type": "stream",
     "text": [
      "Training: : 100%|███████████████████████████████████████| 196/196 [00:50<00:00,  3.91batch/s, accuracy=28.2, loss=1.95]\n",
      "Validation: : 100%|██████████████████████████████████████| 40/40 [00:01<00:00, 21.65batch/s, val_acc=37, val_loss=1.87]\n"
     ]
    },
    {
     "name": "stdout",
     "output_type": "stream",
     "text": [
      "\n",
      "epoch: 1 training loss = 1.9528, training accuracy = 28.21%, val_loss = 1.8749, val_accuracy = 37.03% & LR = 0.0077\n",
      "\n"
     ]
    },
    {
     "name": "stderr",
     "output_type": "stream",
     "text": [
      "Training: : 100%|██████████████████████████████████████████| 196/196 [00:44<00:00,  4.41batch/s, accuracy=42, loss=1.6]\n",
      "Validation: : 100%|██████████████████████████████████████| 40/40 [00:01<00:00, 21.59batch/s, val_acc=56, val_loss=1.24]\n"
     ]
    },
    {
     "name": "stdout",
     "output_type": "stream",
     "text": [
      "\n",
      "epoch: 2 training loss = 1.6018, training accuracy = 42.03%, val_loss = 1.2432, val_accuracy = 56.03% & LR = 0.0154\n",
      "\n",
      "Saving model with highest val acc = 56.030%\n",
      "\n"
     ]
    },
    {
     "name": "stderr",
     "output_type": "stream",
     "text": [
      "Training: : 100%|███████████████████████████████████████| 196/196 [00:44<00:00,  4.41batch/s, accuracy=49.2, loss=1.42]\n",
      "Validation: : 100%|████████████████████████████████████| 40/40 [00:01<00:00, 21.68batch/s, val_acc=59.3, val_loss=1.19]\n"
     ]
    },
    {
     "name": "stdout",
     "output_type": "stream",
     "text": [
      "\n",
      "epoch: 3 training loss = 1.4194, training accuracy = 49.17%, val_loss = 1.1906, val_accuracy = 59.31% & LR = 0.0231\n",
      "\n",
      "Saving model with highest val acc = 59.310%\n",
      "\n"
     ]
    },
    {
     "name": "stderr",
     "output_type": "stream",
     "text": [
      "Training: : 100%|███████████████████████████████████████| 196/196 [00:44<00:00,  4.41batch/s, accuracy=54.1, loss=1.29]\n",
      "Validation: : 100%|████████████████████████████████████| 40/40 [00:01<00:00, 21.72batch/s, val_acc=60.8, val_loss=1.15]\n"
     ]
    },
    {
     "name": "stdout",
     "output_type": "stream",
     "text": [
      "\n",
      "epoch: 4 training loss = 1.2894, training accuracy = 54.06%, val_loss = 1.1519, val_accuracy = 60.77% & LR = 0.0308\n",
      "\n",
      "Saving model with highest val acc = 60.770%\n",
      "\n"
     ]
    },
    {
     "name": "stderr",
     "output_type": "stream",
     "text": [
      "Training: : 100%|███████████████████████████████████████| 196/196 [00:44<00:00,  4.41batch/s, accuracy=57.6, loss=1.21]\n",
      "Validation: : 100%|███████████████████████████████████| 40/40 [00:01<00:00, 21.68batch/s, val_acc=66.6, val_loss=0.972]\n"
     ]
    },
    {
     "name": "stdout",
     "output_type": "stream",
     "text": [
      "\n",
      "epoch: 5 training loss = 1.2106, training accuracy = 57.59%, val_loss = 0.9718, val_accuracy = 66.65% & LR = 0.0386\n",
      "\n",
      "Saving model with highest val acc = 66.650%\n",
      "\n"
     ]
    },
    {
     "name": "stderr",
     "output_type": "stream",
     "text": [
      "Training: : 100%|███████████████████████████████████████| 196/196 [00:44<00:00,  4.41batch/s, accuracy=59.5, loss=1.16]\n",
      "Validation: : 100%|████████████████████████████████████| 40/40 [00:01<00:00, 21.62batch/s, val_acc=63.9, val_loss=1.13]\n"
     ]
    },
    {
     "name": "stdout",
     "output_type": "stream",
     "text": [
      "\n",
      "epoch: 6 training loss = 1.1556, training accuracy = 59.46%, val_loss = 1.1254, val_accuracy = 63.92% & LR = 0.0463\n",
      "\n"
     ]
    },
    {
     "name": "stderr",
     "output_type": "stream",
     "text": [
      "Training: : 100%|███████████████████████████████████████| 196/196 [00:44<00:00,  4.42batch/s, accuracy=61.4, loss=1.11]\n",
      "Validation: : 100%|███████████████████████████████████| 40/40 [00:01<00:00, 21.68batch/s, val_acc=69.2, val_loss=0.908]\n"
     ]
    },
    {
     "name": "stdout",
     "output_type": "stream",
     "text": [
      "\n",
      "epoch: 7 training loss = 1.1088, training accuracy = 61.45%, val_loss = 0.9080, val_accuracy = 69.25% & LR = 0.0540\n",
      "\n",
      "Saving model with highest val acc = 69.250%\n",
      "\n"
     ]
    },
    {
     "name": "stderr",
     "output_type": "stream",
     "text": [
      "Training: : 100%|███████████████████████████████████████| 196/196 [00:44<00:00,  4.42batch/s, accuracy=62.2, loss=1.09]\n",
      "Validation: : 100%|████████████████████████████████████| 40/40 [00:01<00:00, 21.72batch/s, val_acc=67.4, val_loss=1.03]\n"
     ]
    },
    {
     "name": "stdout",
     "output_type": "stream",
     "text": [
      "\n",
      "epoch: 8 training loss = 1.0850, training accuracy = 62.24%, val_loss = 1.0346, val_accuracy = 67.38% & LR = 0.0617\n",
      "\n"
     ]
    },
    {
     "name": "stderr",
     "output_type": "stream",
     "text": [
      "Training: : 100%|███████████████████████████████████████| 196/196 [00:44<00:00,  4.42batch/s, accuracy=63.8, loss=1.04]\n",
      "Validation: : 100%|███████████████████████████████████| 40/40 [00:01<00:00, 21.76batch/s, val_acc=72.9, val_loss=0.793]\n"
     ]
    },
    {
     "name": "stdout",
     "output_type": "stream",
     "text": [
      "\n",
      "epoch: 9 training loss = 1.0432, training accuracy = 63.79%, val_loss = 0.7930, val_accuracy = 72.86% & LR = 0.0694\n",
      "\n",
      "Saving model with highest val acc = 72.860%\n",
      "\n"
     ]
    },
    {
     "name": "stderr",
     "output_type": "stream",
     "text": [
      "Training: : 100%|███████████████████████████████████████| 196/196 [00:44<00:00,  4.42batch/s, accuracy=64.6, loss=1.02]\n",
      "Validation: : 100%|███████████████████████████████████| 40/40 [00:01<00:00, 21.72batch/s, val_acc=72.7, val_loss=0.826]\n"
     ]
    },
    {
     "name": "stdout",
     "output_type": "stream",
     "text": [
      "\n",
      "epoch: 10 training loss = 1.0225, training accuracy = 64.56%, val_loss = 0.8255, val_accuracy = 72.65% & LR = 0.0772\n",
      "\n"
     ]
    },
    {
     "name": "stderr",
     "output_type": "stream",
     "text": [
      "Training: : 100%|██████████████████████████████████████| 196/196 [00:44<00:00,  4.41batch/s, accuracy=66.2, loss=0.981]\n",
      "Validation: : 100%|███████████████████████████████████| 40/40 [00:01<00:00, 21.62batch/s, val_acc=72.2, val_loss=0.823]\n"
     ]
    },
    {
     "name": "stdout",
     "output_type": "stream",
     "text": [
      "\n",
      "epoch: 11 training loss = 0.9813, training accuracy = 66.23%, val_loss = 0.8233, val_accuracy = 72.25% & LR = 0.0849\n",
      "\n"
     ]
    },
    {
     "name": "stderr",
     "output_type": "stream",
     "text": [
      "Training: : 100%|██████████████████████████████████████| 196/196 [00:44<00:00,  4.41batch/s, accuracy=66.6, loss=0.966]\n",
      "Validation: : 100%|█████████████████████████████████████| 40/40 [00:01<00:00, 21.70batch/s, val_acc=75, val_loss=0.741]\n"
     ]
    },
    {
     "name": "stdout",
     "output_type": "stream",
     "text": [
      "\n",
      "epoch: 12 training loss = 0.9658, training accuracy = 66.59%, val_loss = 0.7407, val_accuracy = 74.99% & LR = 0.0926\n",
      "\n",
      "Saving model with highest val acc = 74.990%\n",
      "\n"
     ]
    },
    {
     "name": "stderr",
     "output_type": "stream",
     "text": [
      "Training: : 100%|██████████████████████████████████████| 196/196 [00:44<00:00,  4.39batch/s, accuracy=67.1, loss=0.957]\n",
      "Validation: : 100%|████████████████████████████████████| 40/40 [00:01<00:00, 21.61batch/s, val_acc=73.3, val_loss=0.82]\n"
     ]
    },
    {
     "name": "stdout",
     "output_type": "stream",
     "text": [
      "\n",
      "epoch: 13 training loss = 0.9574, training accuracy = 67.06%, val_loss = 0.8196, val_accuracy = 73.26% & LR = 0.1000\n",
      "\n"
     ]
    },
    {
     "name": "stderr",
     "output_type": "stream",
     "text": [
      "Training: : 100%|██████████████████████████████████████| 196/196 [00:44<00:00,  4.40batch/s, accuracy=67.8, loss=0.938]\n",
      "Validation: : 100%|███████████████████████████████████| 40/40 [00:01<00:00, 21.74batch/s, val_acc=76.5, val_loss=0.709]\n"
     ]
    },
    {
     "name": "stdout",
     "output_type": "stream",
     "text": [
      "\n",
      "epoch: 14 training loss = 0.9379, training accuracy = 67.76%, val_loss = 0.7090, val_accuracy = 76.47% & LR = 0.1000\n",
      "\n",
      "Saving model with highest val acc = 76.470%\n",
      "\n"
     ]
    },
    {
     "name": "stderr",
     "output_type": "stream",
     "text": [
      "Training: : 100%|████████████████████████████████████████| 196/196 [00:44<00:00,  4.40batch/s, accuracy=69, loss=0.902]\n",
      "Validation: : 100%|███████████████████████████████████| 40/40 [00:01<00:00, 21.40batch/s, val_acc=76.7, val_loss=0.704]\n"
     ]
    },
    {
     "name": "stdout",
     "output_type": "stream",
     "text": [
      "\n",
      "epoch: 15 training loss = 0.9018, training accuracy = 68.96%, val_loss = 0.7044, val_accuracy = 76.66% & LR = 0.1000\n",
      "\n",
      "Saving model with highest val acc = 76.660%\n",
      "\n"
     ]
    },
    {
     "name": "stderr",
     "output_type": "stream",
     "text": [
      "Training: : 100%|██████████████████████████████████████| 196/196 [00:44<00:00,  4.40batch/s, accuracy=70.1, loss=0.871]\n",
      "Validation: : 100%|███████████████████████████████████| 40/40 [00:01<00:00, 21.74batch/s, val_acc=78.6, val_loss=0.658]\n"
     ]
    },
    {
     "name": "stdout",
     "output_type": "stream",
     "text": [
      "\n",
      "epoch: 16 training loss = 0.8708, training accuracy = 70.06%, val_loss = 0.6581, val_accuracy = 78.60% & LR = 0.1000\n",
      "\n",
      "Saving model with highest val acc = 78.600%\n",
      "\n"
     ]
    },
    {
     "name": "stderr",
     "output_type": "stream",
     "text": [
      "Training: : 100%|██████████████████████████████████████| 196/196 [00:44<00:00,  4.40batch/s, accuracy=71.1, loss=0.838]\n",
      "Validation: : 100%|███████████████████████████████████| 40/40 [00:01<00:00, 21.70batch/s, val_acc=79.1, val_loss=0.611]\n"
     ]
    },
    {
     "name": "stdout",
     "output_type": "stream",
     "text": [
      "\n",
      "epoch: 17 training loss = 0.8375, training accuracy = 71.13%, val_loss = 0.6111, val_accuracy = 79.09% & LR = 0.1000\n",
      "\n",
      "Saving model with highest val acc = 79.090%\n",
      "\n"
     ]
    },
    {
     "name": "stderr",
     "output_type": "stream",
     "text": [
      "Training: : 100%|██████████████████████████████████████| 196/196 [00:44<00:00,  4.40batch/s, accuracy=71.8, loss=0.825]\n",
      "Validation: : 100%|█████████████████████████████████████| 40/40 [00:01<00:00, 21.69batch/s, val_acc=79, val_loss=0.642]\n"
     ]
    },
    {
     "name": "stdout",
     "output_type": "stream",
     "text": [
      "\n",
      "epoch: 18 training loss = 0.8253, training accuracy = 71.76%, val_loss = 0.6421, val_accuracy = 79.05% & LR = 0.1000\n",
      "\n"
     ]
    },
    {
     "name": "stderr",
     "output_type": "stream",
     "text": [
      "Training: : 100%|████████████████████████████████████████| 196/196 [00:44<00:00,  4.40batch/s, accuracy=72, loss=0.813]\n",
      "Validation: : 100%|███████████████████████████████████| 40/40 [00:01<00:00, 21.68batch/s, val_acc=80.7, val_loss=0.584]\n"
     ]
    },
    {
     "name": "stdout",
     "output_type": "stream",
     "text": [
      "\n",
      "epoch: 19 training loss = 0.8127, training accuracy = 72.04%, val_loss = 0.5839, val_accuracy = 80.65% & LR = 0.1000\n",
      "\n",
      "Saving model with highest val acc = 80.650%\n",
      "\n"
     ]
    },
    {
     "name": "stderr",
     "output_type": "stream",
     "text": [
      "Training: : 100%|██████████████████████████████████████| 196/196 [00:44<00:00,  4.40batch/s, accuracy=73.1, loss=0.782]\n",
      "Validation: : 100%|███████████████████████████████████| 40/40 [00:01<00:00, 21.66batch/s, val_acc=78.5, val_loss=0.662]\n"
     ]
    },
    {
     "name": "stdout",
     "output_type": "stream",
     "text": [
      "\n",
      "epoch: 20 training loss = 0.7819, training accuracy = 73.13%, val_loss = 0.6617, val_accuracy = 78.45% & LR = 0.1000\n",
      "\n"
     ]
    },
    {
     "name": "stderr",
     "output_type": "stream",
     "text": [
      "Training: : 100%|██████████████████████████████████████| 196/196 [00:44<00:00,  4.40batch/s, accuracy=73.3, loss=0.781]\n",
      "Validation: : 100%|███████████████████████████████████| 40/40 [00:01<00:00, 21.62batch/s, val_acc=81.7, val_loss=0.555]\n"
     ]
    },
    {
     "name": "stdout",
     "output_type": "stream",
     "text": [
      "\n",
      "epoch: 21 training loss = 0.7805, training accuracy = 73.30%, val_loss = 0.5550, val_accuracy = 81.73% & LR = 0.1000\n",
      "\n",
      "Saving model with highest val acc = 81.730%\n",
      "\n"
     ]
    },
    {
     "name": "stderr",
     "output_type": "stream",
     "text": [
      "Training: : 100%|██████████████████████████████████████| 196/196 [00:44<00:00,  4.40batch/s, accuracy=74.1, loss=0.757]\n",
      "Validation: : 100%|███████████████████████████████████| 40/40 [00:01<00:00, 21.52batch/s, val_acc=80.2, val_loss=0.604]\n"
     ]
    },
    {
     "name": "stdout",
     "output_type": "stream",
     "text": [
      "\n",
      "epoch: 22 training loss = 0.7573, training accuracy = 74.10%, val_loss = 0.6038, val_accuracy = 80.16% & LR = 0.1000\n",
      "\n"
     ]
    },
    {
     "name": "stderr",
     "output_type": "stream",
     "text": [
      "Training: : 100%|██████████████████████████████████████| 196/196 [00:45<00:00,  4.32batch/s, accuracy=74.5, loss=0.748]\n",
      "Validation: : 100%|█████████████████████████████████████| 40/40 [00:01<00:00, 21.54batch/s, val_acc=83, val_loss=0.529]\n"
     ]
    },
    {
     "name": "stdout",
     "output_type": "stream",
     "text": [
      "\n",
      "epoch: 23 training loss = 0.7482, training accuracy = 74.46%, val_loss = 0.5288, val_accuracy = 83.02% & LR = 0.1000\n",
      "\n",
      "Saving model with highest val acc = 83.020%\n",
      "\n"
     ]
    },
    {
     "name": "stderr",
     "output_type": "stream",
     "text": [
      "Training: : 100%|██████████████████████████████████████| 196/196 [00:44<00:00,  4.38batch/s, accuracy=74.7, loss=0.732]\n",
      "Validation: : 100%|███████████████████████████████████| 40/40 [00:01<00:00, 21.48batch/s, val_acc=81.3, val_loss=0.553]\n"
     ]
    },
    {
     "name": "stdout",
     "output_type": "stream",
     "text": [
      "\n",
      "epoch: 24 training loss = 0.7324, training accuracy = 74.71%, val_loss = 0.5531, val_accuracy = 81.34% & LR = 0.1000\n",
      "\n"
     ]
    },
    {
     "name": "stderr",
     "output_type": "stream",
     "text": [
      "Training: : 100%|██████████████████████████████████████| 196/196 [00:44<00:00,  4.38batch/s, accuracy=75.7, loss=0.714]\n",
      "Validation: : 100%|███████████████████████████████████| 40/40 [00:01<00:00, 21.66batch/s, val_acc=83.7, val_loss=0.481]\n"
     ]
    },
    {
     "name": "stdout",
     "output_type": "stream",
     "text": [
      "\n",
      "epoch: 25 training loss = 0.7140, training accuracy = 75.71%, val_loss = 0.4811, val_accuracy = 83.71% & LR = 0.1000\n",
      "\n",
      "Saving model with highest val acc = 83.710%\n",
      "\n"
     ]
    },
    {
     "name": "stderr",
     "output_type": "stream",
     "text": [
      "Training: : 100%|██████████████████████████████████████| 196/196 [00:44<00:00,  4.39batch/s, accuracy=75.8, loss=0.702]\n",
      "Validation: : 100%|███████████████████████████████████| 40/40 [00:01<00:00, 21.66batch/s, val_acc=83.5, val_loss=0.502]\n"
     ]
    },
    {
     "name": "stdout",
     "output_type": "stream",
     "text": [
      "\n",
      "epoch: 26 training loss = 0.7024, training accuracy = 75.84%, val_loss = 0.5023, val_accuracy = 83.51% & LR = 0.1000\n",
      "\n"
     ]
    },
    {
     "name": "stderr",
     "output_type": "stream",
     "text": [
      "Training: : 100%|██████████████████████████████████████| 196/196 [00:44<00:00,  4.40batch/s, accuracy=76.2, loss=0.692]\n",
      "Validation: : 100%|███████████████████████████████████| 40/40 [00:01<00:00, 21.68batch/s, val_acc=83.8, val_loss=0.491]\n"
     ]
    },
    {
     "name": "stdout",
     "output_type": "stream",
     "text": [
      "\n",
      "epoch: 27 training loss = 0.6919, training accuracy = 76.24%, val_loss = 0.4915, val_accuracy = 83.77% & LR = 0.1000\n",
      "\n",
      "Saving model with highest val acc = 83.770%\n",
      "\n"
     ]
    },
    {
     "name": "stderr",
     "output_type": "stream",
     "text": [
      "Training: : 100%|██████████████████████████████████████| 196/196 [00:44<00:00,  4.37batch/s, accuracy=76.7, loss=0.681]\n",
      "Validation: : 100%|███████████████████████████████████| 40/40 [00:01<00:00, 21.63batch/s, val_acc=84.2, val_loss=0.477]\n"
     ]
    },
    {
     "name": "stdout",
     "output_type": "stream",
     "text": [
      "\n",
      "epoch: 28 training loss = 0.6813, training accuracy = 76.70%, val_loss = 0.4774, val_accuracy = 84.21% & LR = 0.1000\n",
      "\n",
      "Saving model with highest val acc = 84.210%\n",
      "\n"
     ]
    },
    {
     "name": "stderr",
     "output_type": "stream",
     "text": [
      "Training: : 100%|██████████████████████████████████████| 196/196 [00:44<00:00,  4.40batch/s, accuracy=76.5, loss=0.686]\n",
      "Validation: : 100%|███████████████████████████████████| 40/40 [00:01<00:00, 21.72batch/s, val_acc=83.2, val_loss=0.506]\n"
     ]
    },
    {
     "name": "stdout",
     "output_type": "stream",
     "text": [
      "\n",
      "epoch: 29 training loss = 0.6863, training accuracy = 76.55%, val_loss = 0.5057, val_accuracy = 83.19% & LR = 0.1000\n",
      "\n"
     ]
    },
    {
     "name": "stderr",
     "output_type": "stream",
     "text": [
      "Training: : 100%|██████████████████████████████████████| 196/196 [00:44<00:00,  4.40batch/s, accuracy=77.1, loss=0.667]\n",
      "Validation: : 100%|███████████████████████████████████| 40/40 [00:01<00:00, 21.62batch/s, val_acc=84.4, val_loss=0.483]\n"
     ]
    },
    {
     "name": "stdout",
     "output_type": "stream",
     "text": [
      "\n",
      "epoch: 30 training loss = 0.6669, training accuracy = 77.13%, val_loss = 0.4835, val_accuracy = 84.38% & LR = 0.1000\n",
      "\n",
      "Saving model with highest val acc = 84.380%\n",
      "\n"
     ]
    },
    {
     "name": "stderr",
     "output_type": "stream",
     "text": [
      "Training: : 100%|██████████████████████████████████████| 196/196 [00:44<00:00,  4.40batch/s, accuracy=77.3, loss=0.665]\n",
      "Validation: : 100%|███████████████████████████████████| 40/40 [00:01<00:00, 21.61batch/s, val_acc=82.9, val_loss=0.517]\n"
     ]
    },
    {
     "name": "stdout",
     "output_type": "stream",
     "text": [
      "\n",
      "epoch: 31 training loss = 0.6654, training accuracy = 77.27%, val_loss = 0.5172, val_accuracy = 82.91% & LR = 0.1000\n",
      "\n"
     ]
    },
    {
     "name": "stderr",
     "output_type": "stream",
     "text": [
      "Training: : 100%|██████████████████████████████████████| 196/196 [00:44<00:00,  4.39batch/s, accuracy=77.5, loss=0.653]\n",
      "Validation: : 100%|███████████████████████████████████| 40/40 [00:01<00:00, 21.33batch/s, val_acc=86.8, val_loss=0.397]\n"
     ]
    },
    {
     "name": "stdout",
     "output_type": "stream",
     "text": [
      "\n",
      "epoch: 32 training loss = 0.6530, training accuracy = 77.54%, val_loss = 0.3967, val_accuracy = 86.78% & LR = 0.0100\n",
      "\n",
      "Saving model with highest val acc = 86.780%\n",
      "\n"
     ]
    },
    {
     "name": "stderr",
     "output_type": "stream",
     "text": [
      "Training: : 100%|██████████████████████████████████████| 196/196 [00:44<00:00,  4.36batch/s, accuracy=80.8, loss=0.556]\n",
      "Validation: : 100%|███████████████████████████████████| 40/40 [00:01<00:00, 21.68batch/s, val_acc=87.9, val_loss=0.366]\n"
     ]
    },
    {
     "name": "stdout",
     "output_type": "stream",
     "text": [
      "\n",
      "epoch: 33 training loss = 0.5556, training accuracy = 80.84%, val_loss = 0.3663, val_accuracy = 87.88% & LR = 0.0100\n",
      "\n",
      "Saving model with highest val acc = 87.880%\n",
      "\n"
     ]
    },
    {
     "name": "stderr",
     "output_type": "stream",
     "text": [
      "Training: : 100%|██████████████████████████████████████| 196/196 [00:44<00:00,  4.39batch/s, accuracy=81.8, loss=0.529]\n",
      "Validation: : 100%|███████████████████████████████████| 40/40 [00:01<00:00, 21.66batch/s, val_acc=88.3, val_loss=0.354]\n"
     ]
    },
    {
     "name": "stdout",
     "output_type": "stream",
     "text": [
      "\n",
      "epoch: 34 training loss = 0.5293, training accuracy = 81.81%, val_loss = 0.3541, val_accuracy = 88.30% & LR = 0.0100\n",
      "\n",
      "Saving model with highest val acc = 88.300%\n",
      "\n"
     ]
    },
    {
     "name": "stderr",
     "output_type": "stream",
     "text": [
      "Training: : 100%|███████████████████████████████████████| 196/196 [00:44<00:00,  4.39batch/s, accuracy=82.1, loss=0.52]\n",
      "Validation: : 100%|███████████████████████████████████| 40/40 [00:01<00:00, 21.66batch/s, val_acc=88.3, val_loss=0.348]\n"
     ]
    },
    {
     "name": "stdout",
     "output_type": "stream",
     "text": [
      "\n",
      "epoch: 35 training loss = 0.5197, training accuracy = 82.06%, val_loss = 0.3482, val_accuracy = 88.33% & LR = 0.0100\n",
      "\n",
      "Saving model with highest val acc = 88.330%\n",
      "\n"
     ]
    },
    {
     "name": "stderr",
     "output_type": "stream",
     "text": [
      "Training: : 100%|██████████████████████████████████████| 196/196 [00:44<00:00,  4.40batch/s, accuracy=82.2, loss=0.512]\n",
      "Validation: : 100%|███████████████████████████████████| 40/40 [00:01<00:00, 21.64batch/s, val_acc=88.5, val_loss=0.344]\n"
     ]
    },
    {
     "name": "stdout",
     "output_type": "stream",
     "text": [
      "\n",
      "epoch: 36 training loss = 0.5117, training accuracy = 82.21%, val_loss = 0.3439, val_accuracy = 88.54% & LR = 0.0100\n",
      "\n",
      "Saving model with highest val acc = 88.540%\n",
      "\n"
     ]
    },
    {
     "name": "stderr",
     "output_type": "stream",
     "text": [
      "Training: : 100%|██████████████████████████████████████| 196/196 [00:44<00:00,  4.39batch/s, accuracy=82.4, loss=0.507]\n",
      "Validation: : 100%|███████████████████████████████████| 40/40 [00:01<00:00, 20.75batch/s, val_acc=88.7, val_loss=0.345]\n"
     ]
    },
    {
     "name": "stdout",
     "output_type": "stream",
     "text": [
      "\n",
      "epoch: 37 training loss = 0.5072, training accuracy = 82.43%, val_loss = 0.3446, val_accuracy = 88.73% & LR = 0.0100\n",
      "\n",
      "Saving model with highest val acc = 88.730%\n",
      "\n"
     ]
    },
    {
     "name": "stderr",
     "output_type": "stream",
     "text": [
      "Training: : 100%|██████████████████████████████████████| 196/196 [00:45<00:00,  4.35batch/s, accuracy=82.6, loss=0.501]\n",
      "Validation: : 100%|███████████████████████████████████| 40/40 [00:01<00:00, 21.60batch/s, val_acc=88.8, val_loss=0.341]\n"
     ]
    },
    {
     "name": "stdout",
     "output_type": "stream",
     "text": [
      "\n",
      "epoch: 38 training loss = 0.5007, training accuracy = 82.64%, val_loss = 0.3409, val_accuracy = 88.85% & LR = 0.0100\n",
      "\n",
      "Saving model with highest val acc = 88.850%\n",
      "\n"
     ]
    },
    {
     "name": "stderr",
     "output_type": "stream",
     "text": [
      "Training: : 100%|██████████████████████████████████████| 196/196 [00:44<00:00,  4.38batch/s, accuracy=82.9, loss=0.494]\n",
      "Validation: : 100%|███████████████████████████████████| 40/40 [00:01<00:00, 21.57batch/s, val_acc=89.1, val_loss=0.335]\n"
     ]
    },
    {
     "name": "stdout",
     "output_type": "stream",
     "text": [
      "\n",
      "epoch: 39 training loss = 0.4937, training accuracy = 82.88%, val_loss = 0.3350, val_accuracy = 89.13% & LR = 0.0100\n",
      "\n",
      "Saving model with highest val acc = 89.130%\n",
      "\n"
     ]
    },
    {
     "name": "stderr",
     "output_type": "stream",
     "text": [
      "Training: : 100%|██████████████████████████████████████| 196/196 [00:44<00:00,  4.38batch/s, accuracy=83.1, loss=0.491]\n",
      "Validation: : 100%|█████████████████████████████████████| 40/40 [00:01<00:00, 21.52batch/s, val_acc=89, val_loss=0.334]\n"
     ]
    },
    {
     "name": "stdout",
     "output_type": "stream",
     "text": [
      "\n",
      "epoch: 40 training loss = 0.4911, training accuracy = 83.07%, val_loss = 0.3339, val_accuracy = 88.99% & LR = 0.0100\n",
      "\n"
     ]
    },
    {
     "name": "stderr",
     "output_type": "stream",
     "text": [
      "Training: : 100%|████████████████████████████████████████| 196/196 [00:44<00:00,  4.38batch/s, accuracy=83, loss=0.487]\n",
      "Validation: : 100%|███████████████████████████████████| 40/40 [00:01<00:00, 21.58batch/s, val_acc=89.1, val_loss=0.331]\n"
     ]
    },
    {
     "name": "stdout",
     "output_type": "stream",
     "text": [
      "\n",
      "epoch: 41 training loss = 0.4869, training accuracy = 83.00%, val_loss = 0.3306, val_accuracy = 89.11% & LR = 0.0100\n",
      "\n"
     ]
    },
    {
     "name": "stderr",
     "output_type": "stream",
     "text": [
      "Training: : 100%|██████████████████████████████████████| 196/196 [00:44<00:00,  4.38batch/s, accuracy=83.4, loss=0.478]\n",
      "Validation: : 100%|████████████████████████████████████| 40/40 [00:01<00:00, 21.61batch/s, val_acc=89.2, val_loss=0.33]\n"
     ]
    },
    {
     "name": "stdout",
     "output_type": "stream",
     "text": [
      "\n",
      "epoch: 42 training loss = 0.4780, training accuracy = 83.40%, val_loss = 0.3296, val_accuracy = 89.24% & LR = 0.0100\n",
      "\n",
      "Saving model with highest val acc = 89.240%\n",
      "\n"
     ]
    },
    {
     "name": "stderr",
     "output_type": "stream",
     "text": [
      "Training: : 100%|██████████████████████████████████████| 196/196 [00:44<00:00,  4.38batch/s, accuracy=83.5, loss=0.472]\n",
      "Validation: : 100%|█████████████████████████████████████| 40/40 [00:01<00:00, 21.65batch/s, val_acc=89, val_loss=0.327]\n"
     ]
    },
    {
     "name": "stdout",
     "output_type": "stream",
     "text": [
      "\n",
      "epoch: 43 training loss = 0.4725, training accuracy = 83.52%, val_loss = 0.3273, val_accuracy = 89.03% & LR = 0.0100\n",
      "\n"
     ]
    },
    {
     "name": "stderr",
     "output_type": "stream",
     "text": [
      "Training: : 100%|██████████████████████████████████████| 196/196 [00:45<00:00,  4.35batch/s, accuracy=83.4, loss=0.479]\n",
      "Validation: : 100%|███████████████████████████████████| 40/40 [00:01<00:00, 21.56batch/s, val_acc=89.2, val_loss=0.324]\n"
     ]
    },
    {
     "name": "stdout",
     "output_type": "stream",
     "text": [
      "\n",
      "epoch: 44 training loss = 0.4789, training accuracy = 83.38%, val_loss = 0.3236, val_accuracy = 89.19% & LR = 0.0100\n",
      "\n"
     ]
    },
    {
     "name": "stderr",
     "output_type": "stream",
     "text": [
      "Training: : 100%|██████████████████████████████████████| 196/196 [00:44<00:00,  4.38batch/s, accuracy=83.7, loss=0.471]\n",
      "Validation: : 100%|███████████████████████████████████| 40/40 [00:01<00:00, 21.53batch/s, val_acc=89.3, val_loss=0.323]\n"
     ]
    },
    {
     "name": "stdout",
     "output_type": "stream",
     "text": [
      "\n",
      "epoch: 45 training loss = 0.4707, training accuracy = 83.73%, val_loss = 0.3230, val_accuracy = 89.33% & LR = 0.0100\n",
      "\n",
      "Saving model with highest val acc = 89.330%\n",
      "\n"
     ]
    },
    {
     "name": "stderr",
     "output_type": "stream",
     "text": [
      "Training: : 100%|██████████████████████████████████████| 196/196 [00:44<00:00,  4.38batch/s, accuracy=83.7, loss=0.465]\n",
      "Validation: : 100%|███████████████████████████████████| 40/40 [00:01<00:00, 21.54batch/s, val_acc=89.2, val_loss=0.324]\n"
     ]
    },
    {
     "name": "stdout",
     "output_type": "stream",
     "text": [
      "\n",
      "epoch: 46 training loss = 0.4648, training accuracy = 83.71%, val_loss = 0.3243, val_accuracy = 89.23% & LR = 0.0100\n",
      "\n"
     ]
    },
    {
     "name": "stderr",
     "output_type": "stream",
     "text": [
      "Training: : 100%|█████████████████████████████████████████| 196/196 [00:44<00:00,  4.39batch/s, accuracy=84, loss=0.46]\n",
      "Validation: : 100%|███████████████████████████████████| 40/40 [00:01<00:00, 21.57batch/s, val_acc=89.2, val_loss=0.325]\n"
     ]
    },
    {
     "name": "stdout",
     "output_type": "stream",
     "text": [
      "\n",
      "epoch: 47 training loss = 0.4597, training accuracy = 84.01%, val_loss = 0.3250, val_accuracy = 89.17% & LR = 0.0100\n",
      "\n"
     ]
    },
    {
     "name": "stderr",
     "output_type": "stream",
     "text": [
      "Training: : 100%|██████████████████████████████████████| 196/196 [00:46<00:00,  4.23batch/s, accuracy=84.2, loss=0.459]\n",
      "Validation: : 100%|███████████████████████████████████| 40/40 [00:01<00:00, 21.03batch/s, val_acc=89.4, val_loss=0.318]\n"
     ]
    },
    {
     "name": "stdout",
     "output_type": "stream",
     "text": [
      "\n",
      "epoch: 48 training loss = 0.4592, training accuracy = 84.21%, val_loss = 0.3176, val_accuracy = 89.41% & LR = 0.0100\n",
      "\n",
      "Saving model with highest val acc = 89.410%\n",
      "\n"
     ]
    },
    {
     "name": "stderr",
     "output_type": "stream",
     "text": [
      "Training: : 100%|████████████████████████████████████████| 196/196 [00:47<00:00,  4.12batch/s, accuracy=84, loss=0.455]\n",
      "Validation: : 100%|███████████████████████████████████| 40/40 [00:02<00:00, 19.39batch/s, val_acc=89.6, val_loss=0.315]\n"
     ]
    },
    {
     "name": "stdout",
     "output_type": "stream",
     "text": [
      "\n",
      "epoch: 49 training loss = 0.4550, training accuracy = 84.02%, val_loss = 0.3154, val_accuracy = 89.62% & LR = 0.0100\n",
      "\n",
      "Saving model with highest val acc = 89.620%\n",
      "\n"
     ]
    },
    {
     "name": "stderr",
     "output_type": "stream",
     "text": [
      "Training: : 100%|████████████████████████████████████████| 196/196 [00:48<00:00,  4.05batch/s, accuracy=84, loss=0.459]\n",
      "Validation: : 100%|███████████████████████████████████| 40/40 [00:01<00:00, 20.47batch/s, val_acc=89.6, val_loss=0.313]\n"
     ]
    },
    {
     "name": "stdout",
     "output_type": "stream",
     "text": [
      "\n",
      "epoch: 50 training loss = 0.4590, training accuracy = 84.00%, val_loss = 0.3134, val_accuracy = 89.56% & LR = 0.0100\n",
      "\n"
     ]
    },
    {
     "name": "stderr",
     "output_type": "stream",
     "text": [
      "Training: : 100%|██████████████████████████████████████| 196/196 [00:47<00:00,  4.14batch/s, accuracy=84.3, loss=0.454]\n",
      "Validation: : 100%|███████████████████████████████████| 40/40 [00:01<00:00, 20.97batch/s, val_acc=89.7, val_loss=0.314]\n"
     ]
    },
    {
     "name": "stdout",
     "output_type": "stream",
     "text": [
      "\n",
      "epoch: 51 training loss = 0.4537, training accuracy = 84.26%, val_loss = 0.3141, val_accuracy = 89.71% & LR = 0.0100\n",
      "\n",
      "Saving model with highest val acc = 89.710%\n",
      "\n"
     ]
    },
    {
     "name": "stderr",
     "output_type": "stream",
     "text": [
      "Training: : 100%|██████████████████████████████████████| 196/196 [00:46<00:00,  4.25batch/s, accuracy=84.2, loss=0.449]\n",
      "Validation: : 100%|███████████████████████████████████| 40/40 [00:01<00:00, 21.26batch/s, val_acc=89.5, val_loss=0.313]\n"
     ]
    },
    {
     "name": "stdout",
     "output_type": "stream",
     "text": [
      "\n",
      "epoch: 52 training loss = 0.4490, training accuracy = 84.22%, val_loss = 0.3133, val_accuracy = 89.52% & LR = 0.0100\n",
      "\n"
     ]
    },
    {
     "name": "stderr",
     "output_type": "stream",
     "text": [
      "Training: : 100%|██████████████████████████████████████| 196/196 [00:44<00:00,  4.41batch/s, accuracy=84.4, loss=0.451]\n",
      "Validation: : 100%|███████████████████████████████████| 40/40 [00:01<00:00, 21.52batch/s, val_acc=89.6, val_loss=0.311]\n"
     ]
    },
    {
     "name": "stdout",
     "output_type": "stream",
     "text": [
      "\n",
      "epoch: 53 training loss = 0.4509, training accuracy = 84.41%, val_loss = 0.3107, val_accuracy = 89.65% & LR = 0.0100\n",
      "\n"
     ]
    },
    {
     "name": "stderr",
     "output_type": "stream",
     "text": [
      "Training: : 100%|██████████████████████████████████████| 196/196 [00:44<00:00,  4.41batch/s, accuracy=84.6, loss=0.446]\n",
      "Validation: : 100%|████████████████████████████████████| 40/40 [00:01<00:00, 21.63batch/s, val_acc=89.8, val_loss=0.31]\n"
     ]
    },
    {
     "name": "stdout",
     "output_type": "stream",
     "text": [
      "\n",
      "epoch: 54 training loss = 0.4456, training accuracy = 84.60%, val_loss = 0.3100, val_accuracy = 89.75% & LR = 0.0100\n",
      "\n",
      "Saving model with highest val acc = 89.750%\n",
      "\n"
     ]
    },
    {
     "name": "stderr",
     "output_type": "stream",
     "text": [
      "Training: : 100%|██████████████████████████████████████| 196/196 [00:44<00:00,  4.41batch/s, accuracy=84.7, loss=0.442]\n",
      "Validation: : 100%|███████████████████████████████████| 40/40 [00:01<00:00, 21.59batch/s, val_acc=89.5, val_loss=0.312]\n"
     ]
    },
    {
     "name": "stdout",
     "output_type": "stream",
     "text": [
      "\n",
      "epoch: 55 training loss = 0.4423, training accuracy = 84.68%, val_loss = 0.3116, val_accuracy = 89.52% & LR = 0.0100\n",
      "\n"
     ]
    },
    {
     "name": "stderr",
     "output_type": "stream",
     "text": [
      "Training: : 100%|██████████████████████████████████████| 196/196 [00:44<00:00,  4.41batch/s, accuracy=84.7, loss=0.439]\n",
      "Validation: : 100%|███████████████████████████████████| 40/40 [00:01<00:00, 21.56batch/s, val_acc=89.8, val_loss=0.306]\n"
     ]
    },
    {
     "name": "stdout",
     "output_type": "stream",
     "text": [
      "\n",
      "epoch: 56 training loss = 0.4392, training accuracy = 84.65%, val_loss = 0.3056, val_accuracy = 89.76% & LR = 0.0100\n",
      "\n",
      "Saving model with highest val acc = 89.760%\n",
      "\n"
     ]
    },
    {
     "name": "stderr",
     "output_type": "stream",
     "text": [
      "Training: : 100%|██████████████████████████████████████| 196/196 [00:44<00:00,  4.41batch/s, accuracy=84.9, loss=0.433]\n",
      "Validation: : 100%|█████████████████████████████████████| 40/40 [00:01<00:00, 21.58batch/s, val_acc=90, val_loss=0.305]\n"
     ]
    },
    {
     "name": "stdout",
     "output_type": "stream",
     "text": [
      "\n",
      "epoch: 57 training loss = 0.4328, training accuracy = 84.92%, val_loss = 0.3053, val_accuracy = 90.02% & LR = 0.0010\n",
      "\n",
      "Saving model with highest val acc = 90.020%\n",
      "\n"
     ]
    },
    {
     "name": "stderr",
     "output_type": "stream",
     "text": [
      "Training: : 100%|██████████████████████████████████████| 196/196 [00:44<00:00,  4.41batch/s, accuracy=84.9, loss=0.431]\n",
      "Validation: : 100%|███████████████████████████████████| 40/40 [00:01<00:00, 21.61batch/s, val_acc=89.9, val_loss=0.304]\n"
     ]
    },
    {
     "name": "stdout",
     "output_type": "stream",
     "text": [
      "\n",
      "epoch: 58 training loss = 0.4306, training accuracy = 84.92%, val_loss = 0.3045, val_accuracy = 89.92% & LR = 0.0010\n",
      "\n"
     ]
    },
    {
     "name": "stderr",
     "output_type": "stream",
     "text": [
      "Training: : 100%|█████████████████████████████████████████| 196/196 [00:44<00:00,  4.41batch/s, accuracy=85, loss=0.43]\n",
      "Validation: : 100%|███████████████████████████████████| 40/40 [00:01<00:00, 21.55batch/s, val_acc=89.8, val_loss=0.305]\n"
     ]
    },
    {
     "name": "stdout",
     "output_type": "stream",
     "text": [
      "\n",
      "epoch: 59 training loss = 0.4295, training accuracy = 85.01%, val_loss = 0.3047, val_accuracy = 89.84% & LR = 0.0010\n",
      "\n"
     ]
    },
    {
     "name": "stderr",
     "output_type": "stream",
     "text": [
      "Training: : 100%|████████████████████████████████████████| 196/196 [00:47<00:00,  4.14batch/s, accuracy=85, loss=0.429]\n",
      "Validation: : 100%|███████████████████████████████████| 40/40 [00:01<00:00, 21.58batch/s, val_acc=89.9, val_loss=0.304]\n"
     ]
    },
    {
     "name": "stdout",
     "output_type": "stream",
     "text": [
      "\n",
      "epoch: 60 training loss = 0.4291, training accuracy = 84.98%, val_loss = 0.3038, val_accuracy = 89.91% & LR = 0.0010\n",
      "\n"
     ]
    },
    {
     "name": "stderr",
     "output_type": "stream",
     "text": [
      "Training: : 100%|████████████████████████████████████████| 196/196 [00:47<00:00,  4.13batch/s, accuracy=85, loss=0.429]\n",
      "Validation: : 100%|█████████████████████████████████████| 40/40 [00:02<00:00, 19.52batch/s, val_acc=90, val_loss=0.304]\n"
     ]
    },
    {
     "name": "stdout",
     "output_type": "stream",
     "text": [
      "\n",
      "epoch: 61 training loss = 0.4289, training accuracy = 85.03%, val_loss = 0.3041, val_accuracy = 89.98% & LR = 0.0010\n",
      "\n"
     ]
    },
    {
     "name": "stderr",
     "output_type": "stream",
     "text": [
      "Training: : 100%|██████████████████████████████████████| 196/196 [00:45<00:00,  4.27batch/s, accuracy=84.9, loss=0.431]\n",
      "Validation: : 100%|█████████████████████████████████████| 40/40 [00:01<00:00, 20.08batch/s, val_acc=90, val_loss=0.305]\n"
     ]
    },
    {
     "name": "stdout",
     "output_type": "stream",
     "text": [
      "\n",
      "epoch: 62 training loss = 0.4310, training accuracy = 84.93%, val_loss = 0.3047, val_accuracy = 89.96% & LR = 0.0010\n",
      "\n"
     ]
    },
    {
     "name": "stderr",
     "output_type": "stream",
     "text": [
      "Training: : 100%|██████████████████████████████████████| 196/196 [00:47<00:00,  4.11batch/s, accuracy=85.3, loss=0.421]\n",
      "Validation: : 100%|█████████████████████████████████████| 40/40 [00:01<00:00, 20.83batch/s, val_acc=90, val_loss=0.304]\n"
     ]
    },
    {
     "name": "stdout",
     "output_type": "stream",
     "text": [
      "\n",
      "epoch: 63 training loss = 0.4208, training accuracy = 85.28%, val_loss = 0.3040, val_accuracy = 90.03% & LR = 0.0010\n",
      "\n",
      "Saving model with highest val acc = 90.030%\n",
      "\n"
     ]
    },
    {
     "name": "stderr",
     "output_type": "stream",
     "text": [
      "Training: : 100%|██████████████████████████████████████| 196/196 [00:49<00:00,  3.96batch/s, accuracy=85.4, loss=0.421]\n",
      "Validation: : 100%|███████████████████████████████████| 40/40 [00:02<00:00, 19.88batch/s, val_acc=89.9, val_loss=0.304]\n"
     ]
    },
    {
     "name": "stdout",
     "output_type": "stream",
     "text": [
      "\n",
      "epoch: 64 training loss = 0.4213, training accuracy = 85.37%, val_loss = 0.3043, val_accuracy = 89.90% & LR = 0.0010\n",
      "\n"
     ]
    },
    {
     "name": "stderr",
     "output_type": "stream",
     "text": [
      "Training: : 100%|██████████████████████████████████████| 196/196 [00:47<00:00,  4.11batch/s, accuracy=85.2, loss=0.421]\n",
      "Validation: : 100%|███████████████████████████████████| 40/40 [00:02<00:00, 19.54batch/s, val_acc=90.1, val_loss=0.301]\n"
     ]
    },
    {
     "name": "stdout",
     "output_type": "stream",
     "text": [
      "\n",
      "epoch: 65 training loss = 0.4213, training accuracy = 85.22%, val_loss = 0.3013, val_accuracy = 90.10% & LR = 0.0010\n",
      "\n",
      "Saving model with highest val acc = 90.100%\n",
      "\n"
     ]
    },
    {
     "name": "stderr",
     "output_type": "stream",
     "text": [
      "Training: : 100%|██████████████████████████████████████| 196/196 [00:49<00:00,  3.96batch/s, accuracy=85.4, loss=0.422]\n",
      "Validation: : 100%|█████████████████████████████████████| 40/40 [00:02<00:00, 19.99batch/s, val_acc=90, val_loss=0.304]\n"
     ]
    },
    {
     "name": "stdout",
     "output_type": "stream",
     "text": [
      "\n",
      "epoch: 66 training loss = 0.4218, training accuracy = 85.44%, val_loss = 0.3043, val_accuracy = 90.04% & LR = 0.0010\n",
      "\n"
     ]
    },
    {
     "name": "stderr",
     "output_type": "stream",
     "text": [
      "Training: : 100%|██████████████████████████████████████| 196/196 [00:47<00:00,  4.15batch/s, accuracy=85.2, loss=0.425]\n",
      "Validation: : 100%|███████████████████████████████████| 40/40 [00:02<00:00, 18.82batch/s, val_acc=89.9, val_loss=0.302]\n"
     ]
    },
    {
     "name": "stdout",
     "output_type": "stream",
     "text": [
      "\n",
      "epoch: 67 training loss = 0.4253, training accuracy = 85.15%, val_loss = 0.3021, val_accuracy = 89.89% & LR = 0.0010\n",
      "\n"
     ]
    },
    {
     "name": "stderr",
     "output_type": "stream",
     "text": [
      "Training: : 100%|██████████████████████████████████████| 196/196 [00:47<00:00,  4.11batch/s, accuracy=85.3, loss=0.423]\n",
      "Validation: : 100%|█████████████████████████████████████| 40/40 [00:02<00:00, 19.40batch/s, val_acc=90, val_loss=0.303]\n"
     ]
    },
    {
     "name": "stdout",
     "output_type": "stream",
     "text": [
      "\n",
      "epoch: 68 training loss = 0.4228, training accuracy = 85.34%, val_loss = 0.3028, val_accuracy = 90.05% & LR = 0.0010\n",
      "\n"
     ]
    },
    {
     "name": "stderr",
     "output_type": "stream",
     "text": [
      "Training: : 100%|██████████████████████████████████████| 196/196 [00:48<00:00,  4.05batch/s, accuracy=85.2, loss=0.423]\n",
      "Validation: : 100%|█████████████████████████████████████| 40/40 [00:02<00:00, 18.40batch/s, val_acc=90, val_loss=0.301]\n"
     ]
    },
    {
     "name": "stdout",
     "output_type": "stream",
     "text": [
      "\n",
      "epoch: 69 training loss = 0.4229, training accuracy = 85.17%, val_loss = 0.3006, val_accuracy = 90.04% & LR = 0.0010\n",
      "\n"
     ]
    },
    {
     "name": "stderr",
     "output_type": "stream",
     "text": [
      "Training: : 100%|██████████████████████████████████████| 196/196 [00:46<00:00,  4.21batch/s, accuracy=85.3, loss=0.422]\n",
      "Validation: : 100%|███████████████████████████████████████| 40/40 [00:01<00:00, 21.53batch/s, val_acc=90, val_loss=0.3]\n"
     ]
    },
    {
     "name": "stdout",
     "output_type": "stream",
     "text": [
      "\n",
      "epoch: 70 training loss = 0.4222, training accuracy = 85.32%, val_loss = 0.3004, val_accuracy = 90.03% & LR = 0.0010\n",
      "\n"
     ]
    },
    {
     "name": "stderr",
     "output_type": "stream",
     "text": [
      "Training: : 100%|██████████████████████████████████████| 196/196 [00:46<00:00,  4.25batch/s, accuracy=85.3, loss=0.424]\n",
      "Validation: : 100%|█████████████████████████████████████| 40/40 [00:02<00:00, 19.47batch/s, val_acc=90, val_loss=0.301]\n"
     ]
    },
    {
     "name": "stdout",
     "output_type": "stream",
     "text": [
      "\n",
      "epoch: 71 training loss = 0.4239, training accuracy = 85.31%, val_loss = 0.3010, val_accuracy = 89.96% & LR = 0.0010\n",
      "\n"
     ]
    },
    {
     "name": "stderr",
     "output_type": "stream",
     "text": [
      "Training: : 100%|███████████████████████████████████████| 196/196 [00:46<00:00,  4.18batch/s, accuracy=85.3, loss=0.42]\n",
      "Validation: : 100%|█████████████████████████████████████| 40/40 [00:02<00:00, 19.70batch/s, val_acc=90, val_loss=0.301]\n"
     ]
    },
    {
     "name": "stdout",
     "output_type": "stream",
     "text": [
      "\n",
      "epoch: 72 training loss = 0.4204, training accuracy = 85.34%, val_loss = 0.3011, val_accuracy = 90.00% & LR = 0.0010\n",
      "\n"
     ]
    },
    {
     "name": "stderr",
     "output_type": "stream",
     "text": [
      "Training: : 100%|██████████████████████████████████████| 196/196 [00:48<00:00,  4.02batch/s, accuracy=85.2, loss=0.424]\n",
      "Validation: : 100%|███████████████████████████████████| 40/40 [00:01<00:00, 21.66batch/s, val_acc=90.1, val_loss=0.301]\n"
     ]
    },
    {
     "name": "stdout",
     "output_type": "stream",
     "text": [
      "\n",
      "epoch: 73 training loss = 0.4244, training accuracy = 85.16%, val_loss = 0.3009, val_accuracy = 90.08% & LR = 0.0010\n",
      "\n"
     ]
    },
    {
     "name": "stderr",
     "output_type": "stream",
     "text": [
      "Training: : 100%|██████████████████████████████████████| 196/196 [00:47<00:00,  4.13batch/s, accuracy=85.3, loss=0.422]\n",
      "Validation: : 100%|███████████████████████████████████| 40/40 [00:01<00:00, 20.61batch/s, val_acc=90.1, val_loss=0.302]\n"
     ]
    },
    {
     "name": "stdout",
     "output_type": "stream",
     "text": [
      "\n",
      "epoch: 74 training loss = 0.4219, training accuracy = 85.26%, val_loss = 0.3017, val_accuracy = 90.08% & LR = 0.0010\n",
      "\n"
     ]
    },
    {
     "name": "stderr",
     "output_type": "stream",
     "text": [
      "Training: : 100%|███████████████████████████████████████| 196/196 [00:47<00:00,  4.10batch/s, accuracy=85.4, loss=0.42]\n",
      "Validation: : 100%|███████████████████████████████████████| 40/40 [00:01<00:00, 20.49batch/s, val_acc=90, val_loss=0.3]\n"
     ]
    },
    {
     "name": "stdout",
     "output_type": "stream",
     "text": [
      "\n",
      "epoch: 75 training loss = 0.4201, training accuracy = 85.39%, val_loss = 0.3002, val_accuracy = 89.99% & LR = 0.0010\n",
      "\n"
     ]
    },
    {
     "name": "stderr",
     "output_type": "stream",
     "text": [
      "Training: : 100%|██████████████████████████████████████| 196/196 [00:48<00:00,  4.06batch/s, accuracy=85.4, loss=0.419]\n",
      "Validation: : 100%|███████████████████████████████████| 40/40 [00:01<00:00, 21.16batch/s, val_acc=90.1, val_loss=0.299]\n"
     ]
    },
    {
     "name": "stdout",
     "output_type": "stream",
     "text": [
      "\n",
      "epoch: 76 training loss = 0.4193, training accuracy = 85.44%, val_loss = 0.2995, val_accuracy = 90.06% & LR = 0.0010\n",
      "\n"
     ]
    },
    {
     "name": "stderr",
     "output_type": "stream",
     "text": [
      "Training: : 100%|██████████████████████████████████████| 196/196 [00:47<00:00,  4.14batch/s, accuracy=85.4, loss=0.415]\n",
      "Validation: : 100%|███████████████████████████████████| 40/40 [00:02<00:00, 19.90batch/s, val_acc=89.9, val_loss=0.302]\n"
     ]
    },
    {
     "name": "stdout",
     "output_type": "stream",
     "text": [
      "\n",
      "epoch: 77 training loss = 0.4145, training accuracy = 85.41%, val_loss = 0.3017, val_accuracy = 89.93% & LR = 0.0010\n",
      "\n"
     ]
    },
    {
     "name": "stderr",
     "output_type": "stream",
     "text": [
      "Training: : 100%|██████████████████████████████████████| 196/196 [00:47<00:00,  4.11batch/s, accuracy=85.4, loss=0.419]\n",
      "Validation: : 100%|█████████████████████████████████████| 40/40 [00:01<00:00, 20.72batch/s, val_acc=89.9, val_loss=0.3]\n"
     ]
    },
    {
     "name": "stdout",
     "output_type": "stream",
     "text": [
      "\n",
      "epoch: 78 training loss = 0.4186, training accuracy = 85.37%, val_loss = 0.2995, val_accuracy = 89.90% & LR = 0.0010\n",
      "\n"
     ]
    },
    {
     "name": "stderr",
     "output_type": "stream",
     "text": [
      "Training: : 100%|██████████████████████████████████████| 196/196 [00:48<00:00,  4.08batch/s, accuracy=85.4, loss=0.419]\n",
      "Validation: : 100%|███████████████████████████████████| 40/40 [00:02<00:00, 19.67batch/s, val_acc=90.1, val_loss=0.298]\n"
     ]
    },
    {
     "name": "stdout",
     "output_type": "stream",
     "text": [
      "\n",
      "epoch: 79 training loss = 0.4188, training accuracy = 85.39%, val_loss = 0.2980, val_accuracy = 90.12% & LR = 0.0010\n",
      "\n",
      "Saving model with highest val acc = 90.120%\n",
      "\n"
     ]
    },
    {
     "name": "stderr",
     "output_type": "stream",
     "text": [
      "Training: : 100%|██████████████████████████████████████| 196/196 [00:47<00:00,  4.11batch/s, accuracy=85.5, loss=0.418]\n",
      "Validation: : 100%|███████████████████████████████████| 40/40 [00:02<00:00, 17.85batch/s, val_acc=90.1, val_loss=0.298]\n"
     ]
    },
    {
     "name": "stdout",
     "output_type": "stream",
     "text": [
      "\n",
      "epoch: 80 training loss = 0.4180, training accuracy = 85.52%, val_loss = 0.2983, val_accuracy = 90.14% & LR = 0.0010\n",
      "\n",
      "Saving model with highest val acc = 90.140%\n",
      "\n"
     ]
    }
   ],
   "source": [
    "for epoch in range(num_epochs):\n",
    "\n",
    "    # Train and validate model for 1 epoch-\n",
    "    train_loss, train_acc = train_model_progress(\n",
    "        model = model, train_loader = train_loader,\n",
    "        train_dataset = train_dataset\n",
    "    )\n",
    "    val_loss, val_acc = test_model_progress(\n",
    "        model = model, test_loader = val_loader,\n",
    "        test_dataset = val_dataset\n",
    "    )\n",
    "    \n",
    "    print(f\"\\nepoch: {epoch + 1} training loss = {train_loss:.4f}, \"\n",
    "          f\"training accuracy = {train_acc:.2f}%, val_loss = {val_loss:.4f}\"\n",
    "          f\", val_accuracy = {val_acc:.2f}% & \"\n",
    "          f\"LR = {optimizer.param_groups[0]['lr']:.4f}\\n\")\n",
    "    \n",
    "    training_history_lr_scheduler[epoch + 1] = {\n",
    "        'loss': train_loss, 'acc': train_acc,\n",
    "        'val_loss': val_loss, 'val_acc': val_acc,\n",
    "        'lr': optimizer.param_groups[0]['lr']\n",
    "    }\n",
    "\n",
    "    \n",
    "    # Save best weights achieved until now-\n",
    "    if (val_acc > best_val_acc):\n",
    "        # update 'best_val_loss' variable to lowest loss encountered so far-\n",
    "        best_val_acc = val_acc\n",
    "\n",
    "        print(f\"Saving model with highest val acc = {val_acc:.3f}%\\n\")\n",
    "        \n",
    "        # Save trained model with 'best' validation accuracy-\n",
    "        torch.save(model.state_dict(), \"ResNet18_best_valacc_model.pth\")\n",
    "        "
   ]
  },
  {
   "cell_type": "code",
   "execution_count": null,
   "id": "db9182de-1532-4d21-84db-57bdc09b4a35",
   "metadata": {},
   "outputs": [],
   "source": []
  },
  {
   "cell_type": "code",
   "execution_count": 30,
   "id": "8fdb6d85-ce38-49ad-a16c-b6085fd5ee76",
   "metadata": {},
   "outputs": [],
   "source": [
    "# Save training metrics as Python3 history for later analysis-\n",
    "with open(\"ResNet18_AdamW_training_history.pkl\", \"wb\") as file:\n",
    "    pickle.dump(training_history_lr_scheduler, file)"
   ]
  },
  {
   "cell_type": "code",
   "execution_count": null,
   "id": "a7e11396-5a0a-4ad3-b190-24ac44b46a8e",
   "metadata": {},
   "outputs": [],
   "source": []
  },
  {
   "cell_type": "code",
   "execution_count": 31,
   "id": "764da498-04f0-4db8-9ba1-5b09e9179551",
   "metadata": {},
   "outputs": [
    {
     "data": {
      "image/png": "[encoded data removed]",
      "text/plain": [
       "<Figure size 900x700 with 1 Axes>"
      ]
     },
     "metadata": {},
     "output_type": "display_data"
    }
   ],
   "source": [
    "# Visualize ResNet-training-\n",
    "plt.figure(figsize = (9, 7))\n",
    "plt.plot(list(training_history_lr_scheduler.keys()), [training_history_lr_scheduler[k]['acc'] for k in training_history_lr_scheduler.keys()], label = 'training acc')\n",
    "plt.plot(list(training_history_lr_scheduler.keys()), [training_history_lr_scheduler[k]['val_acc'] for k in training_history_lr_scheduler.keys()], label = 'val acc')\n",
    "plt.title(\"ResNet-18: Training Accuracy\")\n",
    "plt.xlabel(\"epochs\")\n",
    "plt.ylabel(\"accuracy (%)\")\n",
    "plt.legend(loc = 'best')\n",
    "plt.show()"
   ]
  },
  {
   "cell_type": "code",
   "execution_count": 32,
   "id": "f296af88-26a6-4d3a-be5c-1f505067ffd5",
   "metadata": {},
   "outputs": [
    {
     "data": {
      "image/png": "[encoded data removed]",
      "text/plain": [
       "<Figure size 900x700 with 1 Axes>"
      ]
     },
     "metadata": {},
     "output_type": "display_data"
    }
   ],
   "source": [
    "plt.figure(figsize = (9, 7))\n",
    "plt.plot(list(training_history_lr_scheduler.keys()), [training_history_lr_scheduler[k]['loss'] for k in training_history_lr_scheduler.keys()], label = 'training loss')\n",
    "plt.plot(list(training_history_lr_scheduler.keys()), [training_history_lr_scheduler[k]['val_loss'] for k in training_history_lr_scheduler.keys()], label = 'val loss')\n",
    "plt.xlabel(\"epochs\")\n",
    "plt.ylabel(\"loss\")\n",
    "plt.legend(loc = 'best')\n",
    "plt.title(\"ResNet-18: Training Loss\")\n",
    "plt.show()"
   ]
  },
  {
   "cell_type": "code",
   "execution_count": 33,
   "id": "84c1aca2-fbb5-47a3-b1e8-068ec6610ff3",
   "metadata": {},
   "outputs": [
    {
     "data": {
      "image/png": "[encoded data removed]",
      "text/plain": [
       "<Figure size 900x700 with 1 Axes>"
      ]
     },
     "metadata": {},
     "output_type": "display_data"
    }
   ],
   "source": [
    "plt.figure(figsize = (9, 7))\n",
    "plt.plot(list(training_history_lr_scheduler.keys()), [training_history_lr_scheduler[k]['lr'] for k in training_history_lr_scheduler.keys()])\n",
    "plt.xlabel(\"epochs\")\n",
    "plt.ylabel(\"lr\")\n",
    "plt.title(\"ResNet-18: Learning-Rate\")\n",
    "plt.show()"
   ]
  },
  {
   "cell_type": "code",
   "execution_count": null,
   "id": "b21d3d0d-e16f-485c-aebf-fdcb05cf826f",
   "metadata": {},
   "outputs": [],
   "source": []
  },
  {
   "cell_type": "code",
   "execution_count": null,
   "id": "6201cc56-6ff2-47ef-bb59-64cc846c11db",
   "metadata": {},
   "outputs": [],
   "source": [
    "# Initialize and load 'best' trained parameters from above-\n",
    "best_trained_model = ResNet18().to(device)\n",
    "best_trained_model.load_state_dict(torch.load('ResNet18_best_valacc_model.pth'))"
   ]
  },
  {
   "cell_type": "code",
   "execution_count": null,
   "id": "8ed04a26-d626-422f-9641-7f8390dc6ebe",
   "metadata": {},
   "outputs": [],
   "source": [
    "# Get validation loss and accuracy-\n",
    "val_loss, val_acc = test_model_progress(\n",
    "    model = best_trained_model, test_loader = val_loader,\n",
    "    test_dataset = val_dataset\n",
    ")\n",
    "print(f\"ResNet-18 'best' model metrics: val_loss = {val_loss:.4f} & val_acc = {val_acc:.2f}%\")"
   ]
  },
  {
   "cell_type": "code",
   "execution_count": null,
   "id": "0faf87d5-6933-4435-bffa-86945a7c820b",
   "metadata": {},
   "outputs": [],
   "source": []
  },
  {
   "cell_type": "code",
   "execution_count": null,
   "id": "8f046333-bece-40c6-885a-7c8eec9f2756",
   "metadata": {},
   "outputs": [],
   "source": []
  }
 ],
 "metadata": {
  "kernelspec": {
   "display_name": "Python 3 (ipykernel)",
   "language": "python",
   "name": "python3"
  },
  "language_info": {
   "codemirror_mode": {
    "name": "ipython",
    "version": 3
   },
   "file_extension": ".py",
   "mimetype": "text/x-python",
   "name": "python",
   "nbconvert_exporter": "python",
   "pygments_lexer": "ipython3",
   "version": "3.10.8"
  }
 },
 "nbformat": 4,
 "nbformat_minor": 5
}
