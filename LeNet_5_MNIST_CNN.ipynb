{
 "cells": [
  {
   "cell_type": "markdown",
   "metadata": {},
   "source": [
    "# LeNet-5: MNIST & TensorFlow-2.8"
   ]
  },
  {
   "cell_type": "code",
   "execution_count": 14,
   "metadata": {},
   "outputs": [],
   "source": [
    "import numpy as np\n",
    "import tensorflow as tf\n",
    "import matplotlib.pyplot as plt\n",
    "from tensorflow.keras.layers import AveragePooling2D, Conv2D, Flatten, Dense\n",
    "from tensorflow.keras import models, layers\n",
    "from tensorflow.keras.models import Sequential, Model"
   ]
  },
  {
   "cell_type": "code",
   "execution_count": null,
   "metadata": {},
   "outputs": [],
   "source": []
  },
  {
   "cell_type": "code",
   "execution_count": null,
   "metadata": {},
   "outputs": [],
   "source": []
  },
  {
   "cell_type": "code",
   "execution_count": 2,
   "metadata": {},
   "outputs": [
    {
     "name": "stdout",
     "output_type": "stream",
     "text": [
      "TensorFlow version: 2.8.0\n"
     ]
    }
   ],
   "source": [
    "print(f\"TensorFlow version: {tf.__version__}\")"
   ]
  },
  {
   "cell_type": "code",
   "execution_count": 3,
   "metadata": {},
   "outputs": [
    {
     "name": "stdout",
     "output_type": "stream",
     "text": [
      "No GPU found\n"
     ]
    }
   ],
   "source": [
    "# Check GPU availibility-\n",
    "gpu_devices = tf.config.list_physical_devices('GPU')\n",
    "# print(f\"GPU: {gpu_devices}\")\n",
    "\n",
    "if gpu_devices:\n",
    "    print(f\"GPU: {gpu_devices}\")\n",
    "    details = tf.config.experimental.get_device_details(gpu_devices[0])\n",
    "    print(f\"GPU details: {details.get('device_name', 'Unknown GPU')}\")\n",
    "else:\n",
    "    print(\"No GPU found\")"
   ]
  },
  {
   "cell_type": "code",
   "execution_count": null,
   "metadata": {},
   "outputs": [],
   "source": []
  },
  {
   "cell_type": "markdown",
   "metadata": {},
   "source": [
    "#### NOTE:\n",
    "Please note that in the original paper \"Gradient-Based Learning Applied to Document Recognition\"\n",
    "by Yann LeCun et al, the original image size was of 32x32 pixels.\n",
    "However, in the TensorFlow MNIST dataset, the images are of 28x28 pixels.\n",
    "\n",
    "Also, in the original paper, hyperbolic tangent (tanh) activation functions were used in the hidden\n",
    "layers, however, in the code below, ReLU activation functions are used in the hidden layers."
   ]
  },
  {
   "cell_type": "code",
   "execution_count": null,
   "metadata": {},
   "outputs": [],
   "source": []
  },
  {
   "cell_type": "code",
   "execution_count": null,
   "metadata": {},
   "outputs": [],
   "source": []
  },
  {
   "cell_type": "markdown",
   "metadata": {},
   "source": [
    "### MNIST Data preprocessing:"
   ]
  },
  {
   "cell_type": "code",
   "execution_count": 4,
   "metadata": {},
   "outputs": [],
   "source": [
    "# Load and prepare the MNIST dataset-\n",
    "mnist = tf.keras.datasets.mnist\n",
    "(X_train, y_train), (X_test, y_test) = mnist.load_data()"
   ]
  },
  {
   "cell_type": "code",
   "execution_count": 5,
   "metadata": {},
   "outputs": [],
   "source": [
    "# Normalize and convert samples from integers to floating-point numbers-\n",
    "X_train, X_test = X_train / 255.0, X_test / 255.0\n",
    "\n",
    "X_train = tf.cast(X_train, dtype=tf.float32)\n",
    "X_test = tf.cast(X_test, dtype=tf.float32)"
   ]
  },
  {
   "cell_type": "code",
   "execution_count": 6,
   "metadata": {},
   "outputs": [],
   "source": [
    "# Perform one-hot encoding for targets-\n",
    "n_classes = 10\n",
    "\n",
    "y_train_ohe = tf.keras.utils.to_categorical(y_train, n_classes)\n",
    "y_test_ohe = tf.keras.utils.to_categorical(y_test, n_classes)"
   ]
  },
  {
   "cell_type": "code",
   "execution_count": 7,
   "metadata": {},
   "outputs": [],
   "source": [
    "X_train = tf.reshape(X_train, shape=(X_train.shape[0], 28, 28, 1))\n",
    "X_test = tf.reshape(X_test, shape = (X_test.shape[0], 28, 28, 1))"
   ]
  },
  {
   "cell_type": "code",
   "execution_count": 8,
   "metadata": {},
   "outputs": [
    {
     "name": "stdout",
     "output_type": "stream",
     "text": [
      "\n",
      "X_train.shape = (60000, 28, 28, 1) & y_train_ohe.shape = (60000, 10)\n",
      "X_test.shape = (10000, 28, 28, 1) & y_test_ohe.shape = (10000, 10)\n",
      "\n"
     ]
    }
   ],
   "source": [
    "print(\"\\nX_train.shape = {0} & y_train_ohe.shape = {1}\".format(X_train.shape, y_train_ohe.shape))\n",
    "print(\"X_test.shape = {0} & y_test_ohe.shape = {1}\\n\".format(X_test.shape, y_test_ohe.shape))"
   ]
  },
  {
   "cell_type": "code",
   "execution_count": null,
   "metadata": {},
   "outputs": [],
   "source": []
  },
  {
   "cell_type": "code",
   "execution_count": null,
   "metadata": {},
   "outputs": [],
   "source": []
  },
  {
   "cell_type": "markdown",
   "metadata": {},
   "source": [
    "## Training LeNet-5 CNN for MNIST classification:"
   ]
  },
  {
   "cell_type": "code",
   "execution_count": 17,
   "metadata": {},
   "outputs": [],
   "source": [
    "class LeNet5(Model):\n",
    "    def __init__(self):\n",
    "        super(LeNet5, self).__init__()\n",
    "        \n",
    "        self.conv1 = Conv2D(\n",
    "            filters = 6, kernel_size = (5, 5),\n",
    "            strides = (1, 1), activation = None,\n",
    "            input_shape = (28, 28, 1)\n",
    "        )\n",
    "        self.pool1 = AveragePooling2D(\n",
    "            pool_size = (2, 2), strides = (2, 2)\n",
    "        )\n",
    "        self.conv2 = Conv2D(\n",
    "            filters = 16, kernel_size = (5, 5),\n",
    "            strides = (1, 1), activation = None\n",
    "        )\n",
    "        self.pool2 = AveragePooling2D(\n",
    "            pool_size = (2, 2), strides = (2, 2)\n",
    "        )\n",
    "        self.flatten = Flatten()\n",
    "        self.dense1 = Dense(\n",
    "            units = 120, activation = None\n",
    "        )\n",
    "        self.dense2 = Dense(\n",
    "            units = 84, activation = None\n",
    "        )\n",
    "        self.output_layer = Dense(\n",
    "            units = 10, activation = None\n",
    "        )\n",
    "    \n",
    "    \n",
    "    def call(self, x):\n",
    "        x = tf.nn.relu(self.conv1(x))\n",
    "        x = self.pool1(x)\n",
    "        x = tf.nn.relu(self.conv2(x))\n",
    "        x = self.pool2(x)\n",
    "        x = self.flatten(x)\n",
    "        x = tf.nn.relu(self.dense1(x))\n",
    "        x = tf.nn.relu(self.dense2(x))\n",
    "        x = tf.nn.softmax(self.output_layer(x))\n",
    "        return x\n",
    "    \n",
    "    \n",
    "    def shape_computation(self, x):\n",
    "        print(f\"Input shape: {x.shape}\")\n",
    "        x = self.conv1(x)\n",
    "        print(f\"conv1 output shape: {x.shape}\")\n",
    "        x = self.pool1(x)\n",
    "        print(f\"pool1 output shape: {x.shape}\")\n",
    "        x = self.conv2(x)\n",
    "        print(f\"conv2 output shape: {x.shape}\")\n",
    "        x = self.pool2(x)\n",
    "        print(f\"pool2 output shape: {x.shape}\")\n",
    "        x = self.flatten(x)\n",
    "        print(f\"flattened shape: {x.shape}\")\n",
    "        x = self.dense1(x)\n",
    "        print(f\"dense1 output shape: {x.shape}\")\n",
    "        x = self.dense2(x)\n",
    "        print(f\"dense2 output shape: {x.shape}\")\n",
    "        x = self.output_layer(x)\n",
    "        print(f\"output shape: {x.shape}\")\n",
    "        del x\n",
    "        return None\n",
    "    \n",
    "        "
   ]
  },
  {
   "cell_type": "code",
   "execution_count": null,
   "metadata": {},
   "outputs": [],
   "source": []
  },
  {
   "cell_type": "code",
   "execution_count": 18,
   "metadata": {},
   "outputs": [],
   "source": [
    "# Initialize an instance of LeNet-5 CNN-\n",
    "model = LeNet5()"
   ]
  },
  {
   "cell_type": "code",
   "execution_count": 19,
   "metadata": {},
   "outputs": [],
   "source": [
    "model.build(input_shape = (None, 28, 28, 1))"
   ]
  },
  {
   "cell_type": "code",
   "execution_count": null,
   "metadata": {},
   "outputs": [],
   "source": []
  },
  {
   "cell_type": "code",
   "execution_count": 20,
   "metadata": {},
   "outputs": [
    {
     "name": "stdout",
     "output_type": "stream",
     "text": [
      "Model: \"le_net5_3\"\n",
      "_________________________________________________________________\n",
      " Layer (type)                Output Shape              Param #   \n",
      "=================================================================\n",
      " conv2d_6 (Conv2D)           multiple                  156       \n",
      "                                                                 \n",
      " average_pooling2d_6 (Averag  multiple                 0         \n",
      " ePooling2D)                                                     \n",
      "                                                                 \n",
      " conv2d_7 (Conv2D)           multiple                  2416      \n",
      "                                                                 \n",
      " average_pooling2d_7 (Averag  multiple                 0         \n",
      " ePooling2D)                                                     \n",
      "                                                                 \n",
      " flatten_2 (Flatten)         multiple                  0         \n",
      "                                                                 \n",
      " dense_3 (Dense)             multiple                  30840     \n",
      "                                                                 \n",
      " dense_4 (Dense)             multiple                  10164     \n",
      "                                                                 \n",
      " dense_5 (Dense)             multiple                  850       \n",
      "                                                                 \n",
      "=================================================================\n",
      "Total params: 44,426\n",
      "Trainable params: 44,426\n",
      "Non-trainable params: 0\n",
      "_________________________________________________________________\n"
     ]
    }
   ],
   "source": [
    "model.summary()"
   ]
  },
  {
   "cell_type": "code",
   "execution_count": 21,
   "metadata": {},
   "outputs": [
    {
     "name": "stdout",
     "output_type": "stream",
     "text": [
      "layer: (5, 5, 1, 6) has 150 params\n",
      "layer: (6,) has 0 params\n",
      "layer: (5, 5, 6, 16) has 2400 params\n",
      "layer: (16,) has 0 params\n",
      "layer: (256, 120) has 30720 params\n",
      "layer: (120,) has 0 params\n",
      "layer: (120, 84) has 10080 params\n",
      "layer: (84,) has 0 params\n",
      "layer: (84, 10) has 840 params\n",
      "layer: (10,) has 0 params\n"
     ]
    }
   ],
   "source": [
    "# Count number of parameters-\n",
    "tot_params = 0\n",
    "\n",
    "for layer in model.weights:\n",
    "    if layer.trainable:\n",
    "        loc_params = tf.math.count_nonzero(layer, axis = None).numpy()\n",
    "        tot_params += loc_params\n",
    "        print(f\"layer: {layer.shape} has {loc_params} params\")"
   ]
  },
  {
   "cell_type": "code",
   "execution_count": 22,
   "metadata": {},
   "outputs": [
    {
     "name": "stdout",
     "output_type": "stream",
     "text": [
      "LeNet-5 has a total of 44190 trainable parameters\n"
     ]
    }
   ],
   "source": [
    "print(f\"LeNet-5 has a total of {tot_params} trainable parameters\")"
   ]
  },
  {
   "cell_type": "code",
   "execution_count": null,
   "metadata": {},
   "outputs": [],
   "source": []
  },
  {
   "cell_type": "code",
   "execution_count": null,
   "metadata": {},
   "outputs": [],
   "source": []
  },
  {
   "cell_type": "code",
   "execution_count": 25,
   "metadata": {},
   "outputs": [],
   "source": [
    "# Compile the designed CNN model-\n",
    "model.compile(\n",
    "    loss = tf.keras.losses.categorical_crossentropy,\n",
    "    # loss = 'categorical_crossentropy',\n",
    "    optimizer = tf.keras.optimizers.SGD(learning_rate = 0.1, momentum = 0.0, decay = 0.0),\n",
    "    metrics=['accuracy']\n",
    ")\n"
   ]
  },
  {
   "cell_type": "code",
   "execution_count": null,
   "metadata": {},
   "outputs": [],
   "source": []
  },
  {
   "cell_type": "code",
   "execution_count": null,
   "metadata": {},
   "outputs": [],
   "source": [
    "# Save INITIAL WEIGHTS before training model-\n",
    "model.save_weights(\"LeNet-5_MNIST_Random_Initial_Weights.h5\", overwrite=True)"
   ]
  },
  {
   "cell_type": "code",
   "execution_count": null,
   "metadata": {},
   "outputs": [],
   "source": []
  },
  {
   "cell_type": "code",
   "execution_count": 27,
   "metadata": {},
   "outputs": [],
   "source": [
    "# Define early stopping criterion-\n",
    "early_stopping_callback = tf.keras.callbacks.EarlyStopping(\n",
    "    monitor = 'val_loss', patience = 5,\n",
    "    restore_best_weights = True\n",
    ")"
   ]
  },
  {
   "cell_type": "code",
   "execution_count": null,
   "metadata": {},
   "outputs": [],
   "source": []
  },
  {
   "cell_type": "code",
   "execution_count": 28,
   "metadata": {},
   "outputs": [
    {
     "name": "stdout",
     "output_type": "stream",
     "text": [
      "Epoch 1/30\n",
      "469/469 [==============================] - 20s 39ms/step - loss: 0.4804 - accuracy: 0.8490 - val_loss: 0.1535 - val_accuracy: 0.9514\n",
      "Epoch 2/30\n",
      "469/469 [==============================] - 18s 38ms/step - loss: 0.1344 - accuracy: 0.9582 - val_loss: 0.1026 - val_accuracy: 0.9660\n",
      "Epoch 3/30\n",
      "469/469 [==============================] - 18s 38ms/step - loss: 0.0943 - accuracy: 0.9703 - val_loss: 0.0982 - val_accuracy: 0.9692\n",
      "Epoch 4/30\n",
      "469/469 [==============================] - 18s 38ms/step - loss: 0.0734 - accuracy: 0.9772 - val_loss: 0.0741 - val_accuracy: 0.9758\n",
      "Epoch 5/30\n",
      "469/469 [==============================] - 18s 39ms/step - loss: 0.0617 - accuracy: 0.9804 - val_loss: 0.0560 - val_accuracy: 0.9825\n",
      "Epoch 6/30\n",
      "469/469 [==============================] - 18s 38ms/step - loss: 0.0521 - accuracy: 0.9838 - val_loss: 0.0593 - val_accuracy: 0.9817\n",
      "Epoch 7/30\n",
      "469/469 [==============================] - 18s 38ms/step - loss: 0.0470 - accuracy: 0.9850 - val_loss: 0.0643 - val_accuracy: 0.9796\n",
      "Epoch 8/30\n",
      "469/469 [==============================] - 18s 38ms/step - loss: 0.0407 - accuracy: 0.9872 - val_loss: 0.0508 - val_accuracy: 0.9837\n",
      "Epoch 9/30\n",
      "469/469 [==============================] - 18s 38ms/step - loss: 0.0359 - accuracy: 0.9891 - val_loss: 0.0502 - val_accuracy: 0.9851\n",
      "Epoch 10/30\n",
      "469/469 [==============================] - 18s 38ms/step - loss: 0.0337 - accuracy: 0.9899 - val_loss: 0.0491 - val_accuracy: 0.9858\n",
      "Epoch 11/30\n",
      "469/469 [==============================] - 18s 39ms/step - loss: 0.0295 - accuracy: 0.9908 - val_loss: 0.0464 - val_accuracy: 0.9857\n",
      "Epoch 12/30\n",
      "469/469 [==============================] - 17s 36ms/step - loss: 0.0263 - accuracy: 0.9916 - val_loss: 0.0514 - val_accuracy: 0.9845\n",
      "Epoch 13/30\n",
      "469/469 [==============================] - 18s 39ms/step - loss: 0.0229 - accuracy: 0.9930 - val_loss: 0.0457 - val_accuracy: 0.9864\n",
      "Epoch 14/30\n",
      "469/469 [==============================] - 18s 39ms/step - loss: 0.0214 - accuracy: 0.9932 - val_loss: 0.0456 - val_accuracy: 0.9870\n",
      "Epoch 15/30\n",
      "469/469 [==============================] - 18s 39ms/step - loss: 0.0196 - accuracy: 0.9936 - val_loss: 0.0481 - val_accuracy: 0.9862\n",
      "Epoch 16/30\n",
      "469/469 [==============================] - 18s 39ms/step - loss: 0.0185 - accuracy: 0.9941 - val_loss: 0.0451 - val_accuracy: 0.9860\n",
      "Epoch 17/30\n",
      "469/469 [==============================] - 18s 39ms/step - loss: 0.0166 - accuracy: 0.9948 - val_loss: 0.0449 - val_accuracy: 0.9873\n",
      "Epoch 18/30\n",
      "469/469 [==============================] - 18s 39ms/step - loss: 0.0149 - accuracy: 0.9951 - val_loss: 0.0571 - val_accuracy: 0.9835\n",
      "Epoch 19/30\n",
      "469/469 [==============================] - 18s 38ms/step - loss: 0.0137 - accuracy: 0.9955 - val_loss: 0.0474 - val_accuracy: 0.9865\n",
      "Epoch 20/30\n",
      "469/469 [==============================] - 18s 39ms/step - loss: 0.0133 - accuracy: 0.9956 - val_loss: 0.0463 - val_accuracy: 0.9879\n",
      "Epoch 21/30\n",
      "469/469 [==============================] - 18s 39ms/step - loss: 0.0112 - accuracy: 0.9965 - val_loss: 0.0466 - val_accuracy: 0.9870\n",
      "Epoch 22/30\n",
      "469/469 [==============================] - 18s 39ms/step - loss: 0.0107 - accuracy: 0.9969 - val_loss: 0.0577 - val_accuracy: 0.9847\n"
     ]
    }
   ],
   "source": [
    "# Train model-\n",
    "history = model.fit(\n",
    "    x = X_train, y = y_train_ohe,\n",
    "    epochs = 30, batch_size = 128,\n",
    "    validation_data = (X_test, y_test_ohe),\n",
    "    callbacks = [early_stopping_callback]\n",
    ")"
   ]
  },
  {
   "cell_type": "code",
   "execution_count": null,
   "metadata": {},
   "outputs": [],
   "source": []
  },
  {
   "cell_type": "code",
   "execution_count": null,
   "metadata": {},
   "outputs": [],
   "source": []
  },
  {
   "cell_type": "code",
   "execution_count": 31,
   "metadata": {},
   "outputs": [],
   "source": [
    "# Save trained weights-\n",
    "model.save_weights(\"LeNet-5_MNIST_Trained_Weights.h5\", overwrite = True)"
   ]
  },
  {
   "cell_type": "code",
   "execution_count": null,
   "metadata": {},
   "outputs": [],
   "source": []
  },
  {
   "cell_type": "code",
   "execution_count": 30,
   "metadata": {},
   "outputs": [
    {
     "data": {
      "text/plain": [
       "dict_keys(['loss', 'accuracy', 'val_loss', 'val_accuracy'])"
      ]
     },
     "execution_count": 30,
     "metadata": {},
     "output_type": "execute_result"
    }
   ],
   "source": [
    "history.history.keys()"
   ]
  },
  {
   "cell_type": "code",
   "execution_count": null,
   "metadata": {},
   "outputs": [],
   "source": []
  },
  {
   "cell_type": "code",
   "execution_count": null,
   "metadata": {},
   "outputs": [],
   "source": []
  },
  {
   "cell_type": "markdown",
   "metadata": {},
   "source": [
    "### Visualize training metrics"
   ]
  },
  {
   "cell_type": "code",
   "execution_count": 34,
   "metadata": {},
   "outputs": [
    {
     "data": {
      "image/png": "[encoded data removed]",
      "text/plain": [
       "<Figure size 648x504 with 1 Axes>"
      ]
     },
     "metadata": {
      "needs_background": "light"
     },
     "output_type": "display_data"
    }
   ],
   "source": [
    "plt.figure(figsize = (9, 7))\n",
    "plt.plot(history.history['val_accuracy'], label = 'val_acc')\n",
    "plt.plot(history.history['accuracy'], label = 'acc')\n",
    "plt.xlabel(\"epochs\")\n",
    "plt.ylabel(\"acc %\")\n",
    "plt.legend(loc = 'best')\n",
    "plt.title(\"LeNet-5: Training Visualization - Accuracy\")\n",
    "plt.show()"
   ]
  },
  {
   "cell_type": "code",
   "execution_count": 35,
   "metadata": {},
   "outputs": [
    {
     "data": {
      "image/png": "[encoded data removed]",
      "text/plain": [
       "<Figure size 648x504 with 1 Axes>"
      ]
     },
     "metadata": {
      "needs_background": "light"
     },
     "output_type": "display_data"
    }
   ],
   "source": [
    "plt.figure(figsize = (9, 7))\n",
    "plt.plot(history.history['val_loss'], label = 'val_loss')\n",
    "plt.plot(history.history['loss'], label = 'loss')\n",
    "plt.xlabel(\"epochs\")\n",
    "plt.ylabel(\"loss\")\n",
    "plt.legend(loc = 'best')\n",
    "plt.title(\"LeNet-5: Training Visualization - Loss\")\n",
    "plt.show()"
   ]
  },
  {
   "cell_type": "code",
   "execution_count": null,
   "metadata": {},
   "outputs": [],
   "source": []
  },
  {
   "cell_type": "code",
   "execution_count": null,
   "metadata": {},
   "outputs": [],
   "source": []
  },
  {
   "cell_type": "markdown",
   "metadata": {},
   "source": [
    "### Evaluate some test images using trained _LeNet-5_ CNN model"
   ]
  },
  {
   "cell_type": "code",
   "execution_count": 36,
   "metadata": {},
   "outputs": [
    {
     "data": {
      "image/png": "[encoded data removed]",
      "text/plain": [
       "<Figure size 432x288 with 1 Axes>"
      ]
     },
     "metadata": {
      "needs_background": "light"
     },
     "output_type": "display_data"
    }
   ],
   "source": [
    "# Evaluating trained model-\n",
    "# Make prediction using trained model-\n",
    "prediction = model.predict(tf.reshape(X_test[234], shape = (1, 28, 28, 1)))\n",
    "# number of examples, 28, 28, number of channels\n",
    "prediction = prediction.argmax()\n",
    "\n",
    "plt.imshow(tf.reshape(X_test[234], shape = (28, 28)), cmap = \"Greys\")\n",
    "plt.title(f\"Prediction: {prediction}\")\n",
    "plt.show()"
   ]
  },
  {
   "cell_type": "code",
   "execution_count": 37,
   "metadata": {},
   "outputs": [
    {
     "data": {
      "image/png": "[encoded data removed]",
      "text/plain": [
       "<Figure size 432x288 with 1 Axes>"
      ]
     },
     "metadata": {
      "needs_background": "light"
     },
     "output_type": "display_data"
    }
   ],
   "source": [
    "# Evaluating trained model-\n",
    "# Make prediction using trained model-\n",
    "prediction = model.predict(tf.reshape(X_test[100], shape = (1, 28, 28, 1)))\n",
    "# number of examples, 28, 28, number of channels\n",
    "prediction = prediction.argmax()\n",
    "\n",
    "plt.imshow(tf.reshape(X_test[100], shape = (28, 28)), cmap = \"Greys\")\n",
    "plt.title(f\"Prediction: {prediction}\")\n",
    "plt.show()"
   ]
  },
  {
   "cell_type": "code",
   "execution_count": 38,
   "metadata": {},
   "outputs": [
    {
     "data": {
      "image/png": "[encoded data removed]",
      "text/plain": [
       "<Figure size 432x288 with 1 Axes>"
      ]
     },
     "metadata": {
      "needs_background": "light"
     },
     "output_type": "display_data"
    }
   ],
   "source": [
    "# Evaluating trained model-\n",
    "# Make prediction using trained model-\n",
    "prediction = model.predict(tf.reshape(X_test[2], shape = (1, 28, 28, 1)))\n",
    "# number of examples, 28, 28, number of channels\n",
    "prediction = prediction.argmax()\n",
    "\n",
    "plt.imshow(tf.reshape(X_test[2], shape = (28, 28)), cmap = \"Greys\")\n",
    "plt.title(f\"Prediction: {prediction}\")\n",
    "plt.show()"
   ]
  },
  {
   "cell_type": "code",
   "execution_count": null,
   "metadata": {},
   "outputs": [],
   "source": []
  },
  {
   "cell_type": "code",
   "execution_count": null,
   "metadata": {},
   "outputs": [],
   "source": []
  },
  {
   "cell_type": "code",
   "execution_count": 39,
   "metadata": {},
   "outputs": [],
   "source": [
    "# Evalutating trained model-\n",
    "val_loss, val_acc = model.evaluate(X_test, y_test_ohe, verbose = 0)"
   ]
  },
  {
   "cell_type": "code",
   "execution_count": 40,
   "metadata": {},
   "outputs": [
    {
     "name": "stdout",
     "output_type": "stream",
     "text": [
      "Trained LeNet-5 CNN validation metrics: loss = 0.0449 & accuracy = 98.73%\n"
     ]
    }
   ],
   "source": [
    "print(\"Trained LeNet-5 CNN validation metrics: \"\n",
    "      f\"loss = {val_loss:.4f} & accuracy = {val_acc * 100:.2f}%\"\n",
    "     )"
   ]
  },
  {
   "cell_type": "code",
   "execution_count": null,
   "metadata": {},
   "outputs": [],
   "source": []
  },
  {
   "cell_type": "code",
   "execution_count": null,
   "metadata": {},
   "outputs": [],
   "source": []
  }
 ],
 "metadata": {
  "kernelspec": {
   "display_name": "Python 3 (ipykernel)",
   "language": "python",
   "name": "python3"
  },
  "language_info": {
   "codemirror_mode": {
    "name": "ipython",
    "version": 3
   },
   "file_extension": ".py",
   "mimetype": "text/x-python",
   "name": "python",
   "nbconvert_exporter": "python",
   "pygments_lexer": "ipython3",
   "version": "3.9.7"
  }
 },
 "nbformat": 4,
 "nbformat_minor": 4
}
