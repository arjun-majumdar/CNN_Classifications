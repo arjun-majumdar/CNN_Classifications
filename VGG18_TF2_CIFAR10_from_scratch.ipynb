{
 "cells": [
  {
   "cell_type": "markdown",
   "id": "d6e17d62",
   "metadata": {
    "id": "248ce6c8"
   },
   "source": [
    "# VGG-18: TensorFlow2 - Trained from Scratch using CIFAR-10"
   ]
  },
  {
   "cell_type": "code",
   "execution_count": 1,
   "id": "a0fdc365",
   "metadata": {
    "id": "e8d1dd1a",
    "outputId": "084a0eec-f5cb-4a1d-b442-52552f09af14"
   },
   "outputs": [
    {
     "name": "stdout",
     "output_type": "stream",
     "text": [
      "env: CUDA_DEVICE_ORDER=PCI_BUS_ID\n",
      "env: CUDA_VISIBLE_DEVICES=0\n"
     ]
    }
   ],
   "source": [
    "# Specify GPU to be used-\n",
    "%env CUDA_DEVICE_ORDER=PCI_BUS_ID\n",
    "%env CUDA_VISIBLE_DEVICES = 0"
   ]
  },
  {
   "cell_type": "code",
   "execution_count": null,
   "id": "8842f757",
   "metadata": {
    "id": "317ba7a8"
   },
   "outputs": [],
   "source": []
  },
  {
   "cell_type": "code",
   "execution_count": 2,
   "id": "0f71a9a8",
   "metadata": {
    "id": "a75d959f"
   },
   "outputs": [],
   "source": [
    "import tensorflow as tf\n",
    "import numpy as np\n",
    "import matplotlib.pyplot as plt\n",
    "import seaborn as sns\n",
    "import pickle, os, time\n",
    "import math\n",
    "\n",
    "from tqdm import tqdm\n",
    "from tqdm import trange\n",
    "\n",
    "from tensorflow.keras.preprocessing.image import ImageDataGenerator\n",
    "from tensorflow.keras import regularizers\n",
    "import tensorflow.keras.backend as K\n",
    "\n",
    "from tensorflow.keras.layers import AveragePooling2D, Conv2D, MaxPooling2D, ReLU\n",
    "from tensorflow.keras import models, layers, datasets\n",
    "from tensorflow.keras.layers import Dense, Flatten, Reshape, Input, InputLayer\n",
    "from tensorflow.keras.layers import Layer, Dropout, BatchNormalization, Activation\n",
    "from tensorflow.keras.models import Sequential, Model\n",
    "from tensorflow.keras.initializers import RandomNormal, Constant\n",
    "\n",
    "# from sklearn.metrics import accuracy_score, precision_score, recall_score"
   ]
  },
  {
   "cell_type": "code",
   "execution_count": null,
   "id": "d872620a",
   "metadata": {
    "id": "e4865713"
   },
   "outputs": [],
   "source": []
  },
  {
   "cell_type": "code",
   "execution_count": null,
   "id": "a60d1df1",
   "metadata": {
    "id": "054ddb7b"
   },
   "outputs": [],
   "source": []
  },
  {
   "cell_type": "code",
   "execution_count": 3,
   "id": "6413be31",
   "metadata": {
    "colab": {
     "base_uri": "https://localhost:8080/"
    },
    "id": "20c042ca",
    "outputId": "3bb05b53-8823-4ac9-d05d-9d460e200227"
   },
   "outputs": [
    {
     "name": "stdout",
     "output_type": "stream",
     "text": [
      "TensorFlow version: 2.8.0\n"
     ]
    }
   ],
   "source": [
    "print(f\"TensorFlow version: {tf.__version__}\")"
   ]
  },
  {
   "cell_type": "code",
   "execution_count": 4,
   "id": "3d5f3f5e",
   "metadata": {
    "colab": {
     "base_uri": "https://localhost:8080/"
    },
    "id": "67bd4d7b",
    "outputId": "d1dbac22-d3cd-4606-97db-796f68693f6d"
   },
   "outputs": [
    {
     "name": "stdout",
     "output_type": "stream",
     "text": [
      "GPU: [PhysicalDevice(name='/physical_device:GPU:0', device_type='GPU')]\n",
      "GPU details: NVIDIA GeForce RTX 3080\n"
     ]
    },
    {
     "name": "stderr",
     "output_type": "stream",
     "text": [
      "2022-02-04 21:09:42.284487: I tensorflow/stream_executor/cuda/cuda_gpu_executor.cc:936] successful NUMA node read from SysFS had negative value (-1), but there must be at least one NUMA node, so returning NUMA node zero\n",
      "2022-02-04 21:09:42.305642: I tensorflow/stream_executor/cuda/cuda_gpu_executor.cc:936] successful NUMA node read from SysFS had negative value (-1), but there must be at least one NUMA node, so returning NUMA node zero\n",
      "2022-02-04 21:09:42.305733: I tensorflow/stream_executor/cuda/cuda_gpu_executor.cc:936] successful NUMA node read from SysFS had negative value (-1), but there must be at least one NUMA node, so returning NUMA node zero\n",
      "2022-02-04 21:09:42.306313: I tensorflow/stream_executor/cuda/cuda_gpu_executor.cc:936] successful NUMA node read from SysFS had negative value (-1), but there must be at least one NUMA node, so returning NUMA node zero\n"
     ]
    }
   ],
   "source": [
    "# Check GPU availibility-\n",
    "gpu_devices = tf.config.list_physical_devices('GPU')\n",
    "# print(f\"GPU: {gpu_devices}\")\n",
    "\n",
    "if gpu_devices:\n",
    "    print(f\"GPU: {gpu_devices}\")\n",
    "    details = tf.config.experimental.get_device_details(gpu_devices[0])\n",
    "    print(f\"GPU details: {details.get('device_name', 'Unknown GPU')}\")\n",
    "else:\n",
    "    print(\"No GPU found\")"
   ]
  },
  {
   "cell_type": "code",
   "execution_count": null,
   "id": "6f2ea57f",
   "metadata": {
    "id": "e1547cc2"
   },
   "outputs": [],
   "source": []
  },
  {
   "cell_type": "code",
   "execution_count": null,
   "id": "ca95a9fa",
   "metadata": {
    "id": "df911f1f"
   },
   "outputs": [],
   "source": []
  },
  {
   "cell_type": "code",
   "execution_count": 5,
   "id": "93da83a0",
   "metadata": {
    "id": "813eed1b"
   },
   "outputs": [],
   "source": [
    "# Specify hyper-parameters\n",
    "batch_size = 128\n",
    "num_classes = 10\n",
    "num_epochs = 75\n",
    "\n",
    "weight_decay = 0.0005"
   ]
  },
  {
   "cell_type": "code",
   "execution_count": null,
   "id": "e3dd3625",
   "metadata": {
    "id": "3b7339c0"
   },
   "outputs": [],
   "source": []
  },
  {
   "cell_type": "code",
   "execution_count": 6,
   "id": "f2d95ae3",
   "metadata": {
    "colab": {
     "base_uri": "https://localhost:8080/"
    },
    "id": "614439bf",
    "outputId": "36e06601-e1e7-49aa-916f-b7008a18e62b"
   },
   "outputs": [],
   "source": [
    "# Data preprocessing and cleaning:\n",
    "# input image dimensions\n",
    "img_rows, img_cols = 32, 32\n",
    "\n",
    "# Load CIFAR-10 dataset-\n",
    "(X_train, y_train), (X_test, y_test) = tf.keras.datasets.cifar10.load_data()\n",
    "\n",
    "# Load CIFAR-100 dataset-\n",
    "# (X_train, y_train), (X_test, y_test) = tf.keras.datasets.cifar100.load_data()"
   ]
  },
  {
   "cell_type": "code",
   "execution_count": 7,
   "id": "31d22e22",
   "metadata": {
    "colab": {
     "base_uri": "https://localhost:8080/"
    },
    "id": "486e947a",
    "outputId": "02e0cfac-2cc8-4256-fbb0-a53e9b126a41"
   },
   "outputs": [
    {
     "name": "stdout",
     "output_type": "stream",
     "text": [
      "\n",
      "'input_shape' which will be used = (32, 32, 3)\n",
      "\n"
     ]
    }
   ],
   "source": [
    "if tf.keras.backend.image_data_format() == 'channels_first':\n",
    "    X_train = X_train.reshape(X_train.shape[0], 3, img_rows, img_cols)\n",
    "    X_test = X_test.reshape(X_test.shape[0], 3, img_rows, img_cols)\n",
    "    input_shape = (3, img_rows, img_cols)\n",
    "else:\n",
    "    X_train = X_train.reshape(X_train.shape[0], img_rows, img_cols, 3)\n",
    "    X_test = X_test.reshape(X_test.shape[0], img_rows, img_cols, 3)\n",
    "    input_shape = (img_rows, img_cols, 3)\n",
    "\n",
    "print(\"\\n'input_shape' which will be used = {0}\\n\".format(input_shape))"
   ]
  },
  {
   "cell_type": "code",
   "execution_count": 8,
   "id": "69e70b83",
   "metadata": {
    "id": "676fc83e"
   },
   "outputs": [],
   "source": [
    "# Convert datasets to floating point types-\n",
    "X_train = X_train.astype('float32')\n",
    "X_test = X_test.astype('float32')\n",
    "\n",
    "# Normalize the training and testing datasets-\n",
    "X_train /= 255.0\n",
    "X_test /= 255.0"
   ]
  },
  {
   "cell_type": "code",
   "execution_count": 9,
   "id": "c5ec7bdd",
   "metadata": {
    "id": "6c170612"
   },
   "outputs": [],
   "source": [
    "# convert class vectors/target to binary class matrices or one-hot encoded values-\n",
    "y_train = tf.keras.utils.to_categorical(y_train, num_classes)\n",
    "y_test = tf.keras.utils.to_categorical(y_test, num_classes)"
   ]
  },
  {
   "cell_type": "code",
   "execution_count": 10,
   "id": "ce4f42fc",
   "metadata": {
    "colab": {
     "base_uri": "https://localhost:8080/"
    },
    "id": "9f581be5",
    "outputId": "bc3622b4-611c-4be1-e693-652f6b64e335"
   },
   "outputs": [
    {
     "name": "stdout",
     "output_type": "stream",
     "text": [
      "\n",
      "Dimensions of training and testing sets are:\n",
      "X_train.shape = (50000, 32, 32, 3), y_train.shape = (50000, 10)\n",
      "X_test.shape = (10000, 32, 32, 3), y_test.shape = (10000, 10)\n"
     ]
    }
   ],
   "source": [
    "print(\"\\nDimensions of training and testing sets are:\")\n",
    "print(\"X_train.shape = {0}, y_train.shape = {1}\".format(X_train.shape, y_train.shape))\n",
    "print(\"X_test.shape = {0}, y_test.shape = {1}\".format(X_test.shape, y_test.shape))"
   ]
  },
  {
   "cell_type": "code",
   "execution_count": null,
   "id": "6106474c",
   "metadata": {
    "id": "a172ba00"
   },
   "outputs": [],
   "source": []
  },
  {
   "cell_type": "code",
   "execution_count": null,
   "id": "cb5138b3",
   "metadata": {
    "id": "95c3fd34"
   },
   "outputs": [],
   "source": []
  },
  {
   "cell_type": "markdown",
   "id": "dd216a4a",
   "metadata": {
    "id": "5d6be766"
   },
   "source": [
    "### Prepare CIFAR10 dataset for TensorFlow _GradientTape_ training:"
   ]
  },
  {
   "cell_type": "code",
   "execution_count": 11,
   "id": "43688479",
   "metadata": {
    "id": "1088ca80"
   },
   "outputs": [
    {
     "name": "stderr",
     "output_type": "stream",
     "text": [
      "2022-02-04 21:09:49.707518: I tensorflow/core/platform/cpu_feature_guard.cc:151] This TensorFlow binary is optimized with oneAPI Deep Neural Network Library (oneDNN) to use the following CPU instructions in performance-critical operations:  AVX2 FMA\n",
      "To enable them in other operations, rebuild TensorFlow with the appropriate compiler flags.\n",
      "2022-02-04 21:09:49.708563: I tensorflow/stream_executor/cuda/cuda_gpu_executor.cc:936] successful NUMA node read from SysFS had negative value (-1), but there must be at least one NUMA node, so returning NUMA node zero\n",
      "2022-02-04 21:09:49.708685: I tensorflow/stream_executor/cuda/cuda_gpu_executor.cc:936] successful NUMA node read from SysFS had negative value (-1), but there must be at least one NUMA node, so returning NUMA node zero\n",
      "2022-02-04 21:09:49.708792: I tensorflow/stream_executor/cuda/cuda_gpu_executor.cc:936] successful NUMA node read from SysFS had negative value (-1), but there must be at least one NUMA node, so returning NUMA node zero\n",
      "2022-02-04 21:09:49.981252: I tensorflow/stream_executor/cuda/cuda_gpu_executor.cc:936] successful NUMA node read from SysFS had negative value (-1), but there must be at least one NUMA node, so returning NUMA node zero\n",
      "2022-02-04 21:09:49.981373: I tensorflow/stream_executor/cuda/cuda_gpu_executor.cc:936] successful NUMA node read from SysFS had negative value (-1), but there must be at least one NUMA node, so returning NUMA node zero\n",
      "2022-02-04 21:09:49.981452: I tensorflow/stream_executor/cuda/cuda_gpu_executor.cc:936] successful NUMA node read from SysFS had negative value (-1), but there must be at least one NUMA node, so returning NUMA node zero\n",
      "2022-02-04 21:09:49.981521: I tensorflow/core/common_runtime/gpu/gpu_device.cc:1525] Created device /job:localhost/replica:0/task:0/device:GPU:0 with 8102 MB memory:  -> device: 0, name: NVIDIA GeForce RTX 3080, pci bus id: 0000:01:00.0, compute capability: 8.6\n"
     ]
    }
   ],
   "source": [
    "# Create training and testing datasets-\n",
    "train_dataset = tf.data.Dataset.from_tensor_slices((X_train, y_train))\n",
    "test_dataset = tf.data.Dataset.from_tensor_slices((X_test, y_test))"
   ]
  },
  {
   "cell_type": "code",
   "execution_count": 12,
   "id": "84ab8297",
   "metadata": {
    "id": "0519b7d1"
   },
   "outputs": [],
   "source": [
    "train_dataset = train_dataset.shuffle(buffer_size = 20000, reshuffle_each_iteration = True).batch(batch_size = batch_size, drop_remainder = False)"
   ]
  },
  {
   "cell_type": "code",
   "execution_count": 13,
   "id": "7f13f6e8",
   "metadata": {
    "id": "a562d154"
   },
   "outputs": [],
   "source": [
    "test_dataset = test_dataset.batch(batch_size=batch_size, drop_remainder=False)"
   ]
  },
  {
   "cell_type": "code",
   "execution_count": 14,
   "id": "4df42b00",
   "metadata": {
    "id": "2ce6a70d"
   },
   "outputs": [],
   "source": [
    "# Choose loss function for training-\n",
    "loss_fn = tf.keras.losses.CategoricalCrossentropy()\n",
    "\n",
    "# optimizer = tf.keras.optimizers.SGD(learning_rate=0.001, momentum=0.9)\n",
    "# optimizer = tf.keras.optimizers.SGD(learning_rate = 0.01, momentum = 0.9)"
   ]
  },
  {
   "cell_type": "code",
   "execution_count": 15,
   "id": "c2446c82",
   "metadata": {
    "id": "a7ad7cf7"
   },
   "outputs": [],
   "source": [
    "# Select metrics to measure the error & accuracy of model.\n",
    "# These metrics accumulate the values over epochs and then\n",
    "# print the overall result-\n",
    "train_loss = tf.keras.metrics.Mean(name = 'train_loss')\n",
    "train_accuracy = tf.keras.metrics.CategoricalAccuracy(name = 'train_accuracy')\n",
    "\n",
    "test_loss = tf.keras.metrics.Mean(name = 'test_loss')\n",
    "test_accuracy = tf.keras.metrics.CategoricalAccuracy(name = 'test_accuracy')"
   ]
  },
  {
   "cell_type": "code",
   "execution_count": null,
   "id": "806851ab",
   "metadata": {
    "id": "ca275537"
   },
   "outputs": [],
   "source": []
  },
  {
   "cell_type": "code",
   "execution_count": null,
   "id": "966313d9",
   "metadata": {
    "id": "3f6cee4f"
   },
   "outputs": [],
   "source": []
  },
  {
   "cell_type": "markdown",
   "id": "ada569ce-46ce-48c4-a7e5-380e1644088c",
   "metadata": {},
   "source": [
    "### Define _VGG-18_ CNN architecture with model subclassing"
   ]
  },
  {
   "cell_type": "code",
   "execution_count": 16,
   "id": "ce791dd7",
   "metadata": {
    "id": "07e8be86"
   },
   "outputs": [],
   "source": [
    "class ConvBlock(Model):\n",
    "    def __init__(self, num_filters, use_four_layers = False):\n",
    "        super(ConvBlock, self).__init__()\n",
    "        self.use_four_layers = use_four_layers\n",
    "        \n",
    "        self.conv1 = Conv2D(\n",
    "            filters = num_filters, kernel_size = (3, 3),\n",
    "            activation = None, kernel_initializer = tf.initializers.he_normal(),\n",
    "            strides = (1, 1), padding = 'same',\n",
    "            use_bias = False, kernel_regularizer = regularizers.l2(weight_decay)\n",
    "        )\n",
    "        self.bn1 = BatchNormalization(\n",
    "            momentum = 0.99, epsilon = 0.001,\n",
    "            beta_initializer = RandomNormal(mean = 0.0, stddev = 0.05),\n",
    "            gamma_initializer = Constant(value = 0.9)\n",
    "        )\n",
    "        \n",
    "        self.conv2 = Conv2D(\n",
    "            filters = num_filters, kernel_size = (3, 3),\n",
    "            activation = None, kernel_initializer = tf.initializers.he_normal(),\n",
    "            strides = (1, 1), padding = 'same',\n",
    "            use_bias = False, kernel_regularizer = regularizers.l2(weight_decay)\n",
    "        )\n",
    "        self.bn2 = BatchNormalization(\n",
    "            momentum = 0.99, epsilon = 0.001,\n",
    "            beta_initializer = RandomNormal(mean = 0.0, stddev = 0.05),\n",
    "            gamma_initializer = Constant(value = 0.9)\n",
    "        )\n",
    "        \n",
    "        if use_four_layers:\n",
    "            self.conv3 = Conv2D(\n",
    "                filters = num_filters, kernel_size = (3, 3),\n",
    "                activation = None, kernel_initializer = tf.initializers.he_normal(),\n",
    "                strides = (1, 1), padding = 'same',\n",
    "                use_bias = False, kernel_regularizer = regularizers.l2(weight_decay)\n",
    "            )\n",
    "            self.bn3 = BatchNormalization(\n",
    "                momentum = 0.99, epsilon = 0.001,\n",
    "                beta_initializer = RandomNormal(mean = 0.0, stddev = 0.05),\n",
    "                gamma_initializer = Constant(value = 0.9)\n",
    "            )\n",
    "            \n",
    "            self.conv4 = Conv2D(\n",
    "                filters = num_filters, kernel_size = (3, 3),\n",
    "                activation = None, kernel_initializer = tf.initializers.he_normal(),\n",
    "                strides = (1, 1), padding = 'same',\n",
    "                use_bias = False, kernel_regularizer = regularizers.l2(weight_decay)\n",
    "            )\n",
    "            self.bn4 = BatchNormalization(\n",
    "                momentum = 0.99, epsilon = 0.001,\n",
    "                beta_initializer = RandomNormal(mean = 0.0, stddev = 0.05),\n",
    "                gamma_initializer = Constant(value = 0.9)\n",
    "            )\n",
    "        \n",
    "        self.pool = MaxPooling2D(\n",
    "            pool_size = (2, 2),\n",
    "            strides = (2, 2)\n",
    "        )\n",
    "    \n",
    "    \n",
    "    def call(self, x):\n",
    "        # x = tf.keras.activations.relu(self.bn1(self.conv1(x)))\n",
    "        x = tf.nn.relu(self.bn1(self.conv1(x)))\n",
    "        # x = tf.keras.activations.relu(self.bn2(self.conv2(x)))\n",
    "        x = tf.nn.relu(self.bn2(self.conv2(x)))\n",
    "        if self.use_four_layers:\n",
    "            # x = tf.keras.activations.relu(self.bn3(self.conv3(x)))\n",
    "            x = tf.nn.relu(self.bn3(self.conv3(x)))\n",
    "            # x = tf.keras.activations.relu(self.bn4(self.conv4(x)))\n",
    "            x = tf.nn.relu(self.bn4(self.conv4(x)))\n",
    "            \n",
    "        return self.pool(x)\n",
    "    "
   ]
  },
  {
   "cell_type": "code",
   "execution_count": null,
   "id": "985a5a66",
   "metadata": {
    "id": "915ab039"
   },
   "outputs": [],
   "source": []
  },
  {
   "cell_type": "code",
   "execution_count": 17,
   "id": "c4448cdb",
   "metadata": {
    "id": "f5cbda8a"
   },
   "outputs": [],
   "source": [
    "class VGG18(Model):\n",
    "    def __init__(self):\n",
    "        super(VGG18, self).__init__()\n",
    "        \n",
    "        self.conv_block1 = ConvBlock(num_filters = 64, use_four_layers = False)\n",
    "        self.conv_block2 = ConvBlock(num_filters = 128, use_four_layers = False)\n",
    "        self.conv_block3 = ConvBlock(num_filters = 256, use_four_layers = True)\n",
    "        self.conv_block4 = ConvBlock(num_filters = 512, use_four_layers = True)\n",
    "        self.conv_block5 = ConvBlock(num_filters = 512, use_four_layers = True)\n",
    "        self.flatten = Flatten()\n",
    "        self.dense1 = Dense(\n",
    "            units = 256, activation = 'relu',\n",
    "            kernel_initializer = tf.initializers.he_normal(),\n",
    "            use_bias = True, bias_initializer = 'ones'\n",
    "        )\n",
    "        self.out = Dense(\n",
    "            units = 10, activation = 'softmax',\n",
    "            use_bias = True, bias_initializer = 'ones'\n",
    "        )\n",
    "    \n",
    "    \n",
    "    def call(self, x):\n",
    "        x = self.conv_block1(x)\n",
    "        x = self.conv_block2(x)\n",
    "        x = self.conv_block3(x)\n",
    "        x = self.conv_block4(x)\n",
    "        x = self.conv_block5(x)\n",
    "        x = self.flatten(x)\n",
    "        x = self.dense1(x)\n",
    "        x = self.out(x)\n",
    "        return x\n",
    "    \n",
    "    \n",
    "    def model(self):\n",
    "        '''\n",
    "        Overrides 'model()' call.\n",
    "        Output shape is not well-defined when using sub-classing. As a\n",
    "        workaround, this method is implemeted.\n",
    "        '''\n",
    "        x = Input(shape = (32, 32, 3))\n",
    "        return Model(inputs = [x], outputs = self.call(x))\n",
    "    \n",
    "    "
   ]
  },
  {
   "cell_type": "code",
   "execution_count": null,
   "id": "cbf74dfe",
   "metadata": {
    "id": "ad1558a1"
   },
   "outputs": [],
   "source": []
  },
  {
   "cell_type": "code",
   "execution_count": 18,
   "id": "616e8a7d",
   "metadata": {
    "id": "c23f2b58"
   },
   "outputs": [],
   "source": [
    "# Initialize a VGG-18 CNN architecture-\n",
    "model = VGG18()\n",
    "model.build(input_shape=(None, 32, 32, 3))"
   ]
  },
  {
   "cell_type": "code",
   "execution_count": 19,
   "id": "bc8dd6a7",
   "metadata": {
    "id": "098b5eb8"
   },
   "outputs": [
    {
     "name": "stderr",
     "output_type": "stream",
     "text": [
      "2022-02-04 21:09:55.742079: I tensorflow/stream_executor/cuda/cuda_dnn.cc:368] Loaded cuDNN version 8301\n",
      "2022-02-04 21:09:56.665390: I tensorflow/stream_executor/cuda/cuda_blas.cc:1786] TensorFloat-32 will be used for the matrix multiplication. This will only be logged once.\n"
     ]
    }
   ],
   "source": [
    "# Sanity check-\n",
    "out = model(X_train[:batch_size, :])"
   ]
  },
  {
   "cell_type": "code",
   "execution_count": 20,
   "id": "0654c412",
   "metadata": {
    "colab": {
     "base_uri": "https://localhost:8080/"
    },
    "id": "fe65b070",
    "outputId": "67c62108-8e42-471d-86b9-fac189e097e8"
   },
   "outputs": [
    {
     "data": {
      "text/plain": [
       "TensorShape([128, 10])"
      ]
     },
     "execution_count": 20,
     "metadata": {},
     "output_type": "execute_result"
    }
   ],
   "source": [
    "out.shape"
   ]
  },
  {
   "cell_type": "code",
   "execution_count": 21,
   "id": "39272876",
   "metadata": {
    "id": "e2241fd4"
   },
   "outputs": [],
   "source": [
    "del out"
   ]
  },
  {
   "cell_type": "code",
   "execution_count": null,
   "id": "56ef81cf",
   "metadata": {
    "id": "672f4b36"
   },
   "outputs": [],
   "source": []
  },
  {
   "cell_type": "code",
   "execution_count": 22,
   "id": "859c6acb",
   "metadata": {
    "id": "0123d114"
   },
   "outputs": [],
   "source": [
    "# Save current weights-\n",
    "model.save_weights(\"VGG18_random_weights.h5\", overwrite = True)"
   ]
  },
  {
   "cell_type": "code",
   "execution_count": 23,
   "id": "3f4477c7",
   "metadata": {
    "id": "3350b160"
   },
   "outputs": [],
   "source": [
    "# model.load_weights(\"VGG18_random_weights.h5\")"
   ]
  },
  {
   "cell_type": "code",
   "execution_count": null,
   "id": "b7a70b2d",
   "metadata": {
    "id": "2b20f0b3"
   },
   "outputs": [],
   "source": []
  },
  {
   "cell_type": "code",
   "execution_count": 24,
   "id": "8a962340",
   "metadata": {
    "colab": {
     "base_uri": "https://localhost:8080/"
    },
    "id": "0ccd4b40",
    "outputId": "27c04783-56e9-42c7-aed4-76f7f95941f2"
   },
   "outputs": [
    {
     "name": "stdout",
     "output_type": "stream",
     "text": [
      "Model: \"model\"\n",
      "_________________________________________________________________\n",
      " Layer (type)                Output Shape              Param #   \n",
      "=================================================================\n",
      " input_1 (InputLayer)        [(None, 32, 32, 3)]       0         \n",
      "                                                                 \n",
      " conv_block (ConvBlock)      (None, 16, 16, 64)        39104     \n",
      "                                                                 \n",
      " conv_block_1 (ConvBlock)    (None, 8, 8, 128)         222208    \n",
      "                                                                 \n",
      " conv_block_2 (ConvBlock)    (None, 4, 4, 256)         2068480   \n",
      "                                                                 \n",
      " conv_block_3 (ConvBlock)    (None, 2, 2, 512)         8265728   \n",
      "                                                                 \n",
      " conv_block_4 (ConvBlock)    (None, 1, 1, 512)         9445376   \n",
      "                                                                 \n",
      " flatten (Flatten)           (None, 512)               0         \n",
      "                                                                 \n",
      " dense (Dense)               (None, 256)               131328    \n",
      "                                                                 \n",
      " dense_1 (Dense)             (None, 10)                2570      \n",
      "                                                                 \n",
      "=================================================================\n",
      "Total params: 20,174,794\n",
      "Trainable params: 20,163,786\n",
      "Non-trainable params: 11,008\n",
      "_________________________________________________________________\n"
     ]
    }
   ],
   "source": [
    "# Get CNN model summary-\n",
    "model.model().summary()"
   ]
  },
  {
   "cell_type": "code",
   "execution_count": 25,
   "id": "6eb175e6",
   "metadata": {
    "colab": {
     "base_uri": "https://localhost:8080/"
    },
    "id": "bfc046bf",
    "outputId": "72979c06-334f-4afd-f586-db5be41a706a"
   },
   "outputs": [
    {
     "name": "stdout",
     "output_type": "stream",
     "text": [
      "layer: (3, 3, 3, 64) has 1728 params\n",
      "layer: (64,) has 64 params\n",
      "layer: (64,) has 64 params\n",
      "layer: (3, 3, 64, 64) has 36864 params\n",
      "layer: (64,) has 64 params\n",
      "layer: (64,) has 64 params\n",
      "layer: (3, 3, 64, 128) has 73728 params\n",
      "layer: (128,) has 128 params\n",
      "layer: (128,) has 128 params\n",
      "layer: (3, 3, 128, 128) has 147456 params\n",
      "layer: (128,) has 128 params\n",
      "layer: (128,) has 128 params\n",
      "layer: (3, 3, 128, 256) has 294912 params\n",
      "layer: (256,) has 256 params\n",
      "layer: (256,) has 256 params\n",
      "layer: (3, 3, 256, 256) has 589824 params\n",
      "layer: (256,) has 256 params\n",
      "layer: (256,) has 256 params\n",
      "layer: (3, 3, 256, 256) has 589824 params\n",
      "layer: (256,) has 256 params\n",
      "layer: (256,) has 256 params\n",
      "layer: (3, 3, 256, 256) has 589824 params\n",
      "layer: (256,) has 256 params\n",
      "layer: (256,) has 256 params\n",
      "layer: (3, 3, 256, 512) has 1179648 params\n",
      "layer: (512,) has 512 params\n",
      "layer: (512,) has 512 params\n",
      "layer: (3, 3, 512, 512) has 2359296 params\n",
      "layer: (512,) has 512 params\n",
      "layer: (512,) has 512 params\n",
      "layer: (3, 3, 512, 512) has 2359296 params\n",
      "layer: (512,) has 512 params\n",
      "layer: (512,) has 512 params\n",
      "layer: (3, 3, 512, 512) has 2359296 params\n",
      "layer: (512,) has 512 params\n",
      "layer: (512,) has 512 params\n",
      "layer: (3, 3, 512, 512) has 2359296 params\n",
      "layer: (512,) has 512 params\n",
      "layer: (512,) has 512 params\n",
      "layer: (3, 3, 512, 512) has 2359296 params\n",
      "layer: (512,) has 512 params\n",
      "layer: (512,) has 512 params\n",
      "layer: (3, 3, 512, 512) has 2359296 params\n",
      "layer: (512,) has 512 params\n",
      "layer: (512,) has 512 params\n",
      "layer: (3, 3, 512, 512) has 2359295 params\n",
      "layer: (512,) has 512 params\n",
      "layer: (512,) has 512 params\n",
      "layer: (512, 256) has 131072 params\n",
      "layer: (256,) has 256 params\n",
      "layer: (256, 10) has 2560 params\n",
      "layer: (10,) has 10 params\n"
     ]
    }
   ],
   "source": [
    "# Count number of trainable parameters in VGG-18 model-\n",
    "tot_params = 0\n",
    "\n",
    "for layer in model.trainable_weights:\n",
    "    loc_params = tf.math.count_nonzero(layer, axis = None).numpy()\n",
    "    print(f\"layer: {layer.shape} has {loc_params} params\")\n",
    "    tot_params += loc_params"
   ]
  },
  {
   "cell_type": "code",
   "execution_count": 26,
   "id": "76a4b3ea",
   "metadata": {
    "colab": {
     "base_uri": "https://localhost:8080/"
    },
    "id": "14cfbc00",
    "outputId": "ff23b680-16b2-4d46-fce6-828e8e340f59"
   },
   "outputs": [
    {
     "name": "stdout",
     "output_type": "stream",
     "text": [
      "VGG-18 has 20163785 trainable parameters\n"
     ]
    }
   ],
   "source": [
    "print(f\"VGG-18 has {tot_params} trainable parameters\")"
   ]
  },
  {
   "cell_type": "code",
   "execution_count": null,
   "id": "0eab7d5e",
   "metadata": {
    "id": "7924d9ed"
   },
   "outputs": [],
   "source": []
  },
  {
   "cell_type": "code",
   "execution_count": 27,
   "id": "1f2ad647",
   "metadata": {
    "colab": {
     "base_uri": "https://localhost:8080/"
    },
    "id": "1e3ecea6",
    "outputId": "8fe9b09f-4e76-48f8-b79d-f7092b8b868d"
   },
   "outputs": [
    {
     "name": "stdout",
     "output_type": "stream",
     "text": [
      "\n",
      "Number of training weights = 20163786 and non-trainabel weights = 11008\n",
      "\n",
      "Total number of parameters = 20174794\n",
      "\n"
     ]
    }
   ],
   "source": [
    "import tensorflow.keras.backend as K\n",
    "\n",
    "\n",
    "# METHOD-1: This also counts biases\n",
    "trainable_wts = np.sum([K.count_params(w) for w in model.trainable_weights])\n",
    "non_trainable_wts = np.sum([K.count_params(w) for w in model.non_trainable_weights])\n",
    "\n",
    "print(\"\\nNumber of training weights = {0} and non-trainabel weights = {1}\\n\".format(\n",
    "    trainable_wts, non_trainable_wts\n",
    "))\n",
    "print(\"Total number of parameters = {0}\\n\".format(trainable_wts + non_trainable_wts))\n"
   ]
  },
  {
   "cell_type": "code",
   "execution_count": 28,
   "id": "5e2ecb6a",
   "metadata": {
    "colab": {
     "base_uri": "https://localhost:8080/"
    },
    "id": "231294ac",
    "outputId": "c3e46c02-8128-4d3f-cfe4-c27960c6452a"
   },
   "outputs": [
    {
     "name": "stdout",
     "output_type": "stream",
     "text": [
      "\n",
      "According to tf.keras.backend: Number of training weights = 20163786, non-trainabel weights = 11008 and total number of parameters = 20174794\n",
      "\n",
      "According to tf.math.count_nonzero() method, total number of trainable weights = 20163785\n",
      "\n"
     ]
    }
   ],
   "source": [
    "print(\"\\nAccording to tf.keras.backend: Number of training weights = {0}, non-trainabel weights = {1} and total number of parameters = {2}\\n\".format(\n",
    "    trainable_wts, non_trainable_wts, (trainable_wts + non_trainable_wts)\n",
    "))\n",
    "\n",
    "print(\"According to tf.math.count_nonzero() method, total number of trainable weights = {0}\\n\".format(tot_params))"
   ]
  },
  {
   "cell_type": "code",
   "execution_count": null,
   "id": "312f2434",
   "metadata": {
    "id": "ce828411"
   },
   "outputs": [],
   "source": []
  },
  {
   "cell_type": "code",
   "execution_count": null,
   "id": "b18d7396",
   "metadata": {
    "id": "1e394adf"
   },
   "outputs": [],
   "source": []
  },
  {
   "cell_type": "markdown",
   "id": "6a62c93a",
   "metadata": {
    "id": "df74248d"
   },
   "source": [
    "### Image Augmentation using _ImageDataGenerator_:\n",
    "\n",
    "Refer-\n",
    "[tf.keras.preprocessing.image.ImageDataGenerator](https://www.tensorflow.org/api_docs/python/tf/keras/preprocessing/image/ImageDataGenerator)"
   ]
  },
  {
   "cell_type": "code",
   "execution_count": 29,
   "id": "c0dd49f0",
   "metadata": {
    "id": "49925e3b"
   },
   "outputs": [],
   "source": [
    "# Example of using 'tf.keras.preprocessing.image import ImageDataGenerator class's - flow(x, y)':\n",
    "datagen = ImageDataGenerator(\n",
    "    # featurewise_center=True,\n",
    "    # featurewise_std_normalization=True,\n",
    "    rotation_range = 15,\n",
    "    width_shift_range = 0.1, # 0.2\n",
    "    height_shift_range = 0.1, # 0.2\n",
    "    horizontal_flip = True\n",
    ")\n",
    "\n",
    "\n",
    "# flow():\n",
    "# Takes data & label arrays, generates batches of augmented data.\n",
    "\n",
    "# datagen.flow(X_train, y_train, batch_size=batch_size, shuffle=True)"
   ]
  },
  {
   "cell_type": "code",
   "execution_count": 30,
   "id": "f765255d",
   "metadata": {
    "id": "4c2997dd"
   },
   "outputs": [],
   "source": [
    "# compute quantities required for featurewise normalization\n",
    "# (std, mean, and principal components if ZCA whitening is applied)\n",
    "datagen.fit(X_train)"
   ]
  },
  {
   "cell_type": "code",
   "execution_count": null,
   "id": "d3408019",
   "metadata": {
    "id": "d518b123"
   },
   "outputs": [],
   "source": []
  },
  {
   "cell_type": "code",
   "execution_count": null,
   "id": "983afa2b",
   "metadata": {
    "id": "075e7491"
   },
   "outputs": [],
   "source": []
  },
  {
   "cell_type": "code",
   "execution_count": 31,
   "id": "e43a6a6a-a7e7-472d-a215-96e0ca715fad",
   "metadata": {},
   "outputs": [],
   "source": [
    "def create_mask_np(model):\n",
    "    # Function to create np mask using TF2 neural\n",
    "    # network 'model' as input.\n",
    "    \n",
    "    # Python3 list to contain masks-\n",
    "    mask_model = []\n",
    "    \n",
    "    for layer in model.trainable_weights:\n",
    "        m = np.ones_like(layer, dtype = np.int8)\n",
    "        mask_model.append(m)\n",
    "        \n",
    "    return mask_model\n"
   ]
  },
  {
   "cell_type": "code",
   "execution_count": null,
   "id": "b2c4bcfb",
   "metadata": {
    "id": "1d3ccb8f"
   },
   "outputs": [],
   "source": [
    "# Create mask for original, unpruned model-\n",
    "# mask_model = VGG18()\n",
    "# mask_model.build(input_shape = (None, 32, 32, 3))"
   ]
  },
  {
   "cell_type": "code",
   "execution_count": null,
   "id": "7c38cc96",
   "metadata": {
    "id": "04620247"
   },
   "outputs": [],
   "source": [
    "'''\n",
    "# Assign all masks to one-\n",
    "for wts in mask_model.trainable_weights:\n",
    "    wts.assign(\n",
    "        tf.ones_like(input = wts, dtype = tf.float32\n",
    "                    )\n",
    "    )\n",
    "'''"
   ]
  },
  {
   "cell_type": "code",
   "execution_count": null,
   "id": "01ad4c20",
   "metadata": {
    "colab": {
     "base_uri": "https://localhost:8080/"
    },
    "id": "115729cc",
    "outputId": "27c170f4-f8a3-48d3-e8fd-7b686fc744a2"
   },
   "outputs": [],
   "source": [
    "'''\n",
    "# Sanity check-\n",
    "mask_params = 0\n",
    "\n",
    "for layer in mask_model.trainable_weights:\n",
    "    loc_params = tf.math.count_nonzero(layer, axis = None).numpy()\n",
    "    mask_params += loc_params\n",
    "    \n",
    "print(\"\\nVGG-18 number of non-zero masks = {0}\\n\".format(mask_params))\n",
    "'''"
   ]
  },
  {
   "cell_type": "code",
   "execution_count": 32,
   "id": "74fa24ec-ef43-4d92-9ced-6af3b6197f5f",
   "metadata": {},
   "outputs": [],
   "source": [
    "# Sanity check-\n",
    "mask_model = create_mask_np(model = model)"
   ]
  },
  {
   "cell_type": "code",
   "execution_count": null,
   "id": "5589022f-58d5-469b-8813-879d24ebd31a",
   "metadata": {},
   "outputs": [],
   "source": []
  },
  {
   "cell_type": "code",
   "execution_count": 33,
   "id": "26d293b3",
   "metadata": {
    "id": "c054d614"
   },
   "outputs": [],
   "source": [
    "def count_nonzero_masks(mask_model):\n",
    "    # Count non-zero masks using Python3 'mask_model'\n",
    "    # list of np arrays as input.\n",
    "    \n",
    "    tot_masks = 0\n",
    "    for x in mask_model:\n",
    "        loc_masks = np.count_nonzero(x)\n",
    "        tot_masks += loc_masks\n",
    "        # print(f\"mask.shape: {x.shape} has {np.count_nonzero(x)} masks\")\n",
    "        \n",
    "    return tot_masks\n"
   ]
  },
  {
   "cell_type": "code",
   "execution_count": 34,
   "id": "24eb38d3",
   "metadata": {
    "id": "8848d02b"
   },
   "outputs": [],
   "source": [
    "def count_params(model):\n",
    "    # Function to count number of non-zero parameters.\n",
    "    model_sum_params = 0\n",
    "\n",
    "    for layer in model.trainable_weights:\n",
    "        # print(tf.math.count_nonzero(layer, axis = None).numpy())\n",
    "        model_sum_params += tf.math.count_nonzero(layer, axis = None).numpy()\n",
    "    \n",
    "    return model_sum_params\n",
    "    "
   ]
  },
  {
   "cell_type": "code",
   "execution_count": null,
   "id": "c03d102a-b9db-4b19-86de-6755c55d0b95",
   "metadata": {},
   "outputs": [],
   "source": []
  },
  {
   "cell_type": "code",
   "execution_count": 35,
   "id": "987221b2-4bd5-44f3-be99-5ba71ee54f5f",
   "metadata": {},
   "outputs": [],
   "source": [
    "mask_params = count_nonzero_masks(mask_model = mask_model)"
   ]
  },
  {
   "cell_type": "code",
   "execution_count": 36,
   "id": "53d65c7e-01ac-4a94-8553-ae61929061bf",
   "metadata": {},
   "outputs": [
    {
     "data": {
      "text/plain": [
       "False"
      ]
     },
     "execution_count": 36,
     "metadata": {},
     "output_type": "execute_result"
    }
   ],
   "source": [
    "mask_params == tot_params"
   ]
  },
  {
   "cell_type": "code",
   "execution_count": 37,
   "id": "c10ecaf9-ef31-41aa-883f-6e4cbcdca27e",
   "metadata": {},
   "outputs": [
    {
     "data": {
      "text/plain": [
       "(20163786, 20163785)"
      ]
     },
     "execution_count": 37,
     "metadata": {},
     "output_type": "execute_result"
    }
   ],
   "source": [
    "mask_params, tot_params"
   ]
  },
  {
   "cell_type": "code",
   "execution_count": null,
   "id": "ffce42d6-217a-4da2-be87-0ee9d633ddeb",
   "metadata": {},
   "outputs": [],
   "source": []
  },
  {
   "cell_type": "code",
   "execution_count": 38,
   "id": "80450634",
   "metadata": {
    "colab": {
     "base_uri": "https://localhost:8080/"
    },
    "id": "0648bea7",
    "outputId": "92af6e39-3edd-462b-987a-18b9fdd94be8"
   },
   "outputs": [
    {
     "name": "stdout",
     "output_type": "stream",
     "text": [
      "VGG-18 has 20163785 trainable parameters\n"
     ]
    }
   ],
   "source": [
    "# Sanity check-\n",
    "print(f\"VGG-18 has {count_params(model)} trainable parameters\")"
   ]
  },
  {
   "cell_type": "code",
   "execution_count": null,
   "id": "be3aed6f",
   "metadata": {
    "id": "1fa16981"
   },
   "outputs": [],
   "source": []
  },
  {
   "cell_type": "code",
   "execution_count": null,
   "id": "6becefa5",
   "metadata": {
    "id": "2a572499"
   },
   "outputs": [],
   "source": []
  },
  {
   "cell_type": "code",
   "execution_count": null,
   "id": "9b795345",
   "metadata": {
    "id": "452016e8"
   },
   "outputs": [],
   "source": []
  },
  {
   "cell_type": "code",
   "execution_count": null,
   "id": "b23e1774",
   "metadata": {
    "id": "0d68f1db"
   },
   "outputs": [],
   "source": []
  },
  {
   "cell_type": "markdown",
   "id": "bec3de4e",
   "metadata": {
    "id": "f1670eb8"
   },
   "source": [
    "### Learning rate warmup:\n",
    "\n",
    "Using a large learning rate may result in numerical instability especially at the very beginning of training where parameters are randomly initialized. The warmup strategy increases the learning rate from 0 to the initial learning rate linearly during the initial __N__ epochs or __m__ batches.\n",
    "\n",
    "Even though Keras already came with the _LearningRateScheduler_ capable of updating the learning rate for each training epoch, in order to achieve finer updates for each batch, the following code is how you can implement a custom Keras callback to do that."
   ]
  },
  {
   "cell_type": "code",
   "execution_count": 39,
   "id": "57d49207",
   "metadata": {
    "id": "fa50ea43"
   },
   "outputs": [],
   "source": [
    "from typing import Callable, List, Optional, Union"
   ]
  },
  {
   "cell_type": "code",
   "execution_count": 40,
   "id": "b6b62e58",
   "metadata": {
    "id": "5d52a3b6"
   },
   "outputs": [],
   "source": [
    "class WarmUp(tf.keras.optimizers.schedules.LearningRateSchedule):\n",
    "    \"\"\"\n",
    "    Applies a warmup schedule on a given learning rate decay schedule.\n",
    "\n",
    "    Args:\n",
    "        initial_learning_rate (:obj:`float`):\n",
    "            The initial learning rate for the schedule after the warmup (so this will be the learning rate at the end\n",
    "            of the warmup).\n",
    "            \n",
    "        decay_schedule_fn (:obj:`Callable`):\n",
    "            The schedule function to apply after the warmup for the rest of training.\n",
    "        \n",
    "        warmup_steps (:obj:`int`):\n",
    "            The number of steps for the warmup part of training.\n",
    "        \n",
    "        power (:obj:`float`, `optional`, defaults to 1):\n",
    "            The power to use for the polynomial warmup (defaults is a linear warmup).\n",
    "        \n",
    "        name (:obj:`str`, `optional`):\n",
    "            Optional name prefix for the returned tensors during the schedule.\n",
    "    \"\"\"\n",
    "\n",
    "    def __init__(\n",
    "        self,\n",
    "        initial_learning_rate: float,\n",
    "        decay_schedule_fn: Callable,\n",
    "        warmup_steps: int,\n",
    "        power: float = 1.0,\n",
    "        name: str = None,\n",
    "    ):\n",
    "        super().__init__()\n",
    "        self.initial_learning_rate = initial_learning_rate\n",
    "        self.warmup_steps = warmup_steps\n",
    "        self.power = power\n",
    "        self.decay_schedule_fn = decay_schedule_fn\n",
    "        self.name = name\n",
    "\n",
    "    def __call__(self, step):\n",
    "        with tf.name_scope(self.name or \"WarmUp\") as name:\n",
    "            # Implements polynomial warmup. i.e., if global_step < warmup_steps, the\n",
    "            # learning rate will be `global_step/num_warmup_steps * init_lr`.\n",
    "            global_step_float = tf.cast(step, tf.float32)\n",
    "            warmup_steps_float = tf.cast(self.warmup_steps, tf.float32)\n",
    "            warmup_percent_done = global_step_float / warmup_steps_float\n",
    "            warmup_learning_rate = self.initial_learning_rate * tf.math.pow(warmup_percent_done, self.power)\n",
    "            return tf.cond(\n",
    "                global_step_float < warmup_steps_float,\n",
    "                lambda: warmup_learning_rate,\n",
    "                lambda: self.decay_schedule_fn(step - self.warmup_steps),\n",
    "                name=name,\n",
    "            )\n",
    "\n",
    "    def get_config(self):\n",
    "        return {\n",
    "            \"initial_learning_rate\": self.initial_learning_rate,\n",
    "            \"decay_schedule_fn\": self.decay_schedule_fn,\n",
    "            \"warmup_steps\": self.warmup_steps,\n",
    "            \"power\": self.power,\n",
    "            \"name\": self.name,\n",
    "        }\n",
    "    "
   ]
  },
  {
   "cell_type": "code",
   "execution_count": null,
   "id": "dff701c5",
   "metadata": {
    "id": "5ec8ceab"
   },
   "outputs": [],
   "source": []
  },
  {
   "cell_type": "code",
   "execution_count": 41,
   "id": "a0a78f51",
   "metadata": {
    "colab": {
     "base_uri": "https://localhost:8080/"
    },
    "id": "211a9259",
    "outputId": "1d74a584-d66f-41d6-928c-2b891ced5cfb"
   },
   "outputs": [
    {
     "name": "stdout",
     "output_type": "stream",
     "text": [
      "CIFAR-10: Using a batch size of 128 gives 390.625 training steps\n"
     ]
    }
   ],
   "source": [
    "print(f\"CIFAR-10: Using a batch size of {batch_size} gives {len(X_train) / batch_size} training steps\")"
   ]
  },
  {
   "cell_type": "code",
   "execution_count": null,
   "id": "c6423776",
   "metadata": {
    "id": "8836a284"
   },
   "outputs": [],
   "source": []
  },
  {
   "cell_type": "code",
   "execution_count": null,
   "id": "81c85fcc",
   "metadata": {
    "id": "1496412f-483e-4c73-bab0-dd1da86f14c1"
   },
   "outputs": [],
   "source": []
  },
  {
   "cell_type": "markdown",
   "id": "15f06cb4",
   "metadata": {
    "id": "a42b42a9"
   },
   "source": [
    "### Train model with _learning rate scheduler_\n",
    "\n",
    "Training dataset = 50000, batch size = 128, number of training steps or,iterations = 50000 / 128 = 390.625 = 391\n",
    "\n",
    "__After an initial linear learning rate warmup of 10 epochs or 3907 training steps:__\n",
    "\n",
    "- For the next 11718.75 = 11718 training steps or 30 epochs - until 40th epoch, use learning rate = 0.1\n",
    "\n",
    "- For the next 7812.5 = 7813 training steps or 20 epochs - until 60th epoch, use learning rate = 0.01\n",
    "\n",
    "- For the next 3906.25 = 3907 training steps or 10 epochs - until 70th epoch, use learning rate = 0.001\n",
    "\n",
    "- For the last 5 epochs, use learning rate = 0.0001"
   ]
  },
  {
   "cell_type": "code",
   "execution_count": 42,
   "id": "d4cedad9",
   "metadata": {
    "id": "QpML3YgY7pVO"
   },
   "outputs": [],
   "source": [
    "boundaries = [11718, 19531, 23438]\n",
    "values = [0.1, 0.01, 0.001, 0.0001]"
   ]
  },
  {
   "cell_type": "markdown",
   "id": "66bbc60b",
   "metadata": {
    "id": "e05537d6-24d2-415c-a6ca-be85758c3f4c"
   },
   "source": [
    "#### tf.keras.optimizers.schedules.PiecewiseConstantDecay\n",
    "\n",
    "A LearningRateSchedule that uses a piecewise constant decay schedule. Inherits From: ```LearningRateSchedule```\n",
    "\n",
    "```\n",
    "tf.keras.optimizers.schedules.PiecewiseConstantDecay(\n",
    "    boundaries, values, name=None\n",
    ")\n",
    "```\n",
    "\n",
    "The function returns a 1-arg callable to compute the piecewise constant when passed the current optimizer step. This can be useful for changing the learning rate value across different invocations of optimizer functions.\n",
    "\n",
    "Example: use a learning rate that's 1.0 for the first 100001 steps, 0.5 for the next 10000 steps, and 0.1 for any additional steps.\n",
    "```\n",
    "step = tf.Variable(0, trainable=False)\n",
    "boundaries = [100000, 110000]\n",
    "values = [1.0, 0.5, 0.1]\n",
    "learning_rate_fn = keras.optimizers.schedules.PiecewiseConstantDecay(\n",
    "    boundaries, values)\n",
    "\n",
    "# Later, whenever we perform an optimization step, we pass in the step.\n",
    "learning_rate = learning_rate_fn(step)\n",
    "```\n",
    "\n",
    "You can pass this schedule directly into a tf.keras.optimizers.Optimizer as the learning rate. The learning rate schedule is also serializable and deserializable using ```tf.keras.optimizers.schedules.serialize``` and ```tf.keras.optimizers.schedules.deserialize```.\n",
    "\n",
    "\n",
    "__Returns__\n",
    "A 1-arg callable learning rate schedule that takes the current optimizer step and outputs the decayed learning rate, a scalar Tensor of the same type as the boundary tensors.\n",
    "\n",
    "The output of the 1-arg function that takes the ```step``` is ```values[0]``` when ```step <= boundaries[0]```, ```values[1]``` when ```step > boundaries[0]``` and ```step <= boundaries[1]```, ..., and ```values[-1] when step > boundaries[-1]```.\n",
    "\n",
    "[tf.keras.optimizers.schedules.PiecewiseConstantDecay ](https://www.tensorflow.org/api_docs/python/tf/keras/optimizers/schedules/PiecewiseConstantDecay)"
   ]
  },
  {
   "cell_type": "code",
   "execution_count": null,
   "id": "14456b39",
   "metadata": {
    "id": "7fbae988-3f10-400c-bf3b-05a3cbadd249"
   },
   "outputs": [],
   "source": []
  },
  {
   "cell_type": "code",
   "execution_count": 43,
   "id": "93e9610c",
   "metadata": {
    "id": "d898e417"
   },
   "outputs": [],
   "source": [
    "learning_rate_fn = tf.keras.optimizers.schedules.PiecewiseConstantDecay(boundaries, values)"
   ]
  },
  {
   "cell_type": "code",
   "execution_count": 44,
   "id": "83031ad6",
   "metadata": {
    "id": "e791cbe3"
   },
   "outputs": [],
   "source": [
    "# warmup_shcedule = WarmUp(initial_learning_rate = 0.1, decay_schedule_fn = learning_rate_fn, warmup_steps = 7813)\n",
    "warmup_shcedule = WarmUp(initial_learning_rate = 0.1, decay_schedule_fn = learning_rate_fn, warmup_steps = 3906)"
   ]
  },
  {
   "cell_type": "code",
   "execution_count": 45,
   "id": "17828c65",
   "metadata": {
    "id": "987719c8"
   },
   "outputs": [],
   "source": [
    "optimizer = tf.keras.optimizers.SGD(learning_rate = warmup_shcedule, momentum = 0.9, decay = 0.0, nesterov = False)"
   ]
  },
  {
   "cell_type": "code",
   "execution_count": null,
   "id": "d82216a6",
   "metadata": {
    "id": "cf67a910"
   },
   "outputs": [],
   "source": []
  },
  {
   "cell_type": "code",
   "execution_count": null,
   "id": "9b124a8b",
   "metadata": {
    "id": "33d796bb"
   },
   "outputs": [],
   "source": []
  },
  {
   "cell_type": "markdown",
   "id": "9f74a793",
   "metadata": {
    "id": "bf3af812"
   },
   "source": [
    "### Train model using _tf.GradientTape_:"
   ]
  },
  {
   "cell_type": "code",
   "execution_count": 46,
   "id": "33b2d57b",
   "metadata": {
    "id": "21f83acc"
   },
   "outputs": [],
   "source": [
    "# User input parameters for Early Stopping in manual implementation-\n",
    "# minimum_delta = 0.001\n",
    "# patience = 3"
   ]
  },
  {
   "cell_type": "code",
   "execution_count": 47,
   "id": "f20ebeec",
   "metadata": {
    "id": "186a04ae"
   },
   "outputs": [],
   "source": [
    "best_val_loss = 100\n",
    "# loc_patience = 0"
   ]
  },
  {
   "cell_type": "code",
   "execution_count": null,
   "id": "8aad7af4",
   "metadata": {
    "id": "362053dc"
   },
   "outputs": [],
   "source": []
  },
  {
   "cell_type": "code",
   "execution_count": 48,
   "id": "2db42cd7",
   "metadata": {
    "id": "9aa83901"
   },
   "outputs": [],
   "source": [
    "# Define 'train_one_step()' and 'test_step()' functions here-\n",
    "@tf.function\n",
    "def train_one_step(model, mask_model, optimizer, x, y):\n",
    "    '''\n",
    "    Function to compute one step of gradient descent optimization\n",
    "    '''\n",
    "    with tf.GradientTape() as tape:\n",
    "        # Make predictions using defined model-\n",
    "        y_pred = model(x)\n",
    "\n",
    "        # Compute loss-\n",
    "        loss = loss_fn(y, y_pred)\n",
    "        \n",
    "    # Compute gradients wrt defined loss and weights and biases-\n",
    "    grads = tape.gradient(loss, model.trainable_variables)\n",
    "    \n",
    "    # type(grads)\n",
    "    # list\n",
    "    \n",
    "    # List to hold element-wise multiplication between-\n",
    "    # computed gradient and masks-\n",
    "    grad_mask_mul = []\n",
    "    \n",
    "    # Perform element-wise multiplication between computed gradients and masks-\n",
    "    '''\n",
    "    for grad_layer, mask in zip(grads, mask_model.trainable_weights):\n",
    "        grad_mask_mul.append(tf.math.multiply(grad_layer, mask))\n",
    "    '''\n",
    "    for grad_layer, mask in zip(grads, mask_model):\n",
    "        grad_mask_mul.append(\n",
    "            tf.math.multiply(\n",
    "                grad_layer, tf.cast(x = mask, dtype = tf.float32)\n",
    "                # grad_layer, tf.convert_to_tensor(value = mask, dtype = tf.float32)\n",
    "            )\n",
    "        )\n",
    "    \n",
    "    # Apply computed gradients to model's weights and biases-\n",
    "    optimizer.apply_gradients(zip(grad_mask_mul, model.trainable_variables))\n",
    "\n",
    "    # Compute accuracy-\n",
    "    train_loss(loss)\n",
    "    train_accuracy(y, y_pred)\n",
    "\n",
    "    return None\n"
   ]
  },
  {
   "cell_type": "code",
   "execution_count": 49,
   "id": "a86e3bfd",
   "metadata": {
    "id": "db820dbd"
   },
   "outputs": [],
   "source": [
    "@tf.function\n",
    "def test_step(model, optimizer, data, labels):\n",
    "    \"\"\"\n",
    "    Function to test model performance\n",
    "    on testing dataset\n",
    "    \"\"\"\n",
    "    \n",
    "    predictions = model(data)\n",
    "    t_loss = loss_fn(labels, predictions)\n",
    "\n",
    "    test_loss(t_loss)\n",
    "    test_accuracy(labels, predictions)\n",
    "\n",
    "    return None\n"
   ]
  },
  {
   "cell_type": "code",
   "execution_count": null,
   "id": "b643d273",
   "metadata": {
    "id": "75d35858"
   },
   "outputs": [],
   "source": []
  },
  {
   "cell_type": "code",
   "execution_count": null,
   "id": "7b029f0e",
   "metadata": {
    "id": "8926995f"
   },
   "outputs": [],
   "source": []
  },
  {
   "cell_type": "code",
   "execution_count": 50,
   "id": "b56f38f8",
   "metadata": {
    "id": "a65bdb81"
   },
   "outputs": [],
   "source": [
    "# Python3 dict to contain model training metrics-\n",
    "history_lr = {}"
   ]
  },
  {
   "cell_type": "code",
   "execution_count": 51,
   "id": "8d381e05",
   "metadata": {
    "colab": {
     "base_uri": "https://localhost:8080/"
    },
    "id": "c768bac5",
    "outputId": "3f1be87e-db4b-4844-ea7e-b6a21ec113e2"
   },
   "outputs": [
    {
     "name": "stdout",
     "output_type": "stream",
     "text": [
      "VGG-18 will be trained for 75 epochs in total\n"
     ]
    }
   ],
   "source": [
    "print(f\"VGG-18 will be trained for {num_epochs} epochs in total\")"
   ]
  },
  {
   "cell_type": "code",
   "execution_count": null,
   "id": "8fd6475a",
   "metadata": {
    "id": "1f643fc0"
   },
   "outputs": [],
   "source": []
  },
  {
   "cell_type": "code",
   "execution_count": null,
   "id": "41d34480",
   "metadata": {
    "id": "09b58502"
   },
   "outputs": [],
   "source": []
  },
  {
   "cell_type": "code",
   "execution_count": 52,
   "id": "b0889234",
   "metadata": {
    "colab": {
     "base_uri": "https://localhost:8080/"
    },
    "id": "9424d99e",
    "outputId": "51d4b0c8-8bd0-48df-f9eb-c28642585d63"
   },
   "outputs": [
    {
     "name": "stdout",
     "output_type": "stream",
     "text": [
      "\n",
      "Epoch = 1; loss = 2.0868, accuracy = 22.065%  val loss = 1.8522, val acc = 31.720% LR = 0.009985 & step_val = 390\n",
      "VGG-18: total # of trainable parameters = 20163786\n",
      "Saving model with lowest val_loss = 1.8522\n",
      "\n",
      "\n",
      "Epoch = 2; loss = 1.6818, accuracy = 37.871%  val loss = 1.4266, val acc = 46.480% LR = 0.019969 & step_val = 780\n",
      "VGG-18: total # of trainable parameters = 20163786\n",
      "Saving model with lowest val_loss = 1.4266\n",
      "\n",
      "\n",
      "Epoch = 3; loss = 1.4410, accuracy = 47.498%  val loss = 1.4904, val acc = 48.900% LR = 0.029954 & step_val = 1170\n",
      "VGG-18: total # of trainable parameters = 20163786\n",
      "\n",
      "Epoch = 4; loss = 1.2628, accuracy = 54.888%  val loss = 1.1040, val acc = 61.890% LR = 0.039939 & step_val = 1560\n",
      "VGG-18: total # of trainable parameters = 20163786\n",
      "Saving model with lowest val_loss = 1.1040\n",
      "\n",
      "\n",
      "Epoch = 5; loss = 1.1279, accuracy = 60.601%  val loss = 1.0775, val acc = 62.700% LR = 0.049923 & step_val = 1950\n",
      "VGG-18: total # of trainable parameters = 20163786\n",
      "Saving model with lowest val_loss = 1.0775\n",
      "\n",
      "\n",
      "Epoch = 6; loss = 1.0552, accuracy = 63.670%  val loss = 1.0082, val acc = 66.710% LR = 0.059908 & step_val = 2340\n",
      "VGG-18: total # of trainable parameters = 20163786\n",
      "Saving model with lowest val_loss = 1.0082\n",
      "\n",
      "\n",
      "Epoch = 7; loss = 0.9636, accuracy = 67.065%  val loss = 0.9879, val acc = 68.710% LR = 0.069892 & step_val = 2730\n",
      "VGG-18: total # of trainable parameters = 20163786\n",
      "Saving model with lowest val_loss = 0.9879\n",
      "\n",
      "\n",
      "Epoch = 8; loss = 0.9360, accuracy = 68.415%  val loss = 0.9072, val acc = 71.210% LR = 0.079877 & step_val = 3120\n",
      "VGG-18: total # of trainable parameters = 20163786\n",
      "Saving model with lowest val_loss = 0.9072\n",
      "\n",
      "\n",
      "Epoch = 9; loss = 0.8796, accuracy = 70.847%  val loss = 0.8107, val acc = 74.030% LR = 0.089862 & step_val = 3510\n",
      "VGG-18: total # of trainable parameters = 20163786\n",
      "Saving model with lowest val_loss = 0.8107\n",
      "\n",
      "\n",
      "Epoch = 10; loss = 0.8501, accuracy = 71.805%  val loss = 0.8276, val acc = 73.250% LR = 0.099846 & step_val = 3900\n",
      "VGG-18: total # of trainable parameters = 20163786\n",
      "\n",
      "Epoch = 11; loss = 0.8000, accuracy = 73.842%  val loss = 0.7492, val acc = 75.730% LR = 0.100000 & step_val = 4290\n",
      "VGG-18: total # of trainable parameters = 20163786\n",
      "Saving model with lowest val_loss = 0.7492\n",
      "\n",
      "\n",
      "Epoch = 12; loss = 0.7473, accuracy = 75.296%  val loss = 0.7204, val acc = 77.150% LR = 0.100000 & step_val = 4680\n",
      "VGG-18: total # of trainable parameters = 20163786\n",
      "Saving model with lowest val_loss = 0.7204\n",
      "\n",
      "\n",
      "Epoch = 13; loss = 0.6986, accuracy = 77.081%  val loss = 0.6249, val acc = 80.480% LR = 0.100000 & step_val = 5070\n",
      "VGG-18: total # of trainable parameters = 20163786\n",
      "Saving model with lowest val_loss = 0.6249\n",
      "\n",
      "\n",
      "Epoch = 14; loss = 0.6503, accuracy = 78.580%  val loss = 0.6128, val acc = 80.430% LR = 0.100000 & step_val = 5460\n",
      "VGG-18: total # of trainable parameters = 20163786\n",
      "Saving model with lowest val_loss = 0.6128\n",
      "\n",
      "\n",
      "Epoch = 15; loss = 0.6190, accuracy = 79.643%  val loss = 0.5992, val acc = 80.980% LR = 0.100000 & step_val = 5850\n",
      "VGG-18: total # of trainable parameters = 20163786\n",
      "Saving model with lowest val_loss = 0.5992\n",
      "\n",
      "\n",
      "Epoch = 16; loss = 0.5796, accuracy = 81.052%  val loss = 0.5775, val acc = 82.360% LR = 0.100000 & step_val = 6240\n",
      "VGG-18: total # of trainable parameters = 20163786\n",
      "Saving model with lowest val_loss = 0.5775\n",
      "\n",
      "\n",
      "Epoch = 17; loss = 0.5559, accuracy = 81.715%  val loss = 0.5254, val acc = 83.460% LR = 0.100000 & step_val = 6630\n",
      "VGG-18: total # of trainable parameters = 20163786\n",
      "Saving model with lowest val_loss = 0.5254\n",
      "\n",
      "\n",
      "Epoch = 18; loss = 0.5276, accuracy = 82.760%  val loss = 0.5265, val acc = 83.610% LR = 0.100000 & step_val = 7020\n",
      "VGG-18: total # of trainable parameters = 20163786\n",
      "\n",
      "Epoch = 19; loss = 0.5097, accuracy = 83.249%  val loss = 0.5107, val acc = 83.950% LR = 0.100000 & step_val = 7410\n",
      "VGG-18: total # of trainable parameters = 20163786\n",
      "Saving model with lowest val_loss = 0.5107\n",
      "\n",
      "\n",
      "Epoch = 20; loss = 0.4908, accuracy = 84.071%  val loss = 0.5642, val acc = 82.580% LR = 0.100000 & step_val = 7800\n",
      "VGG-18: total # of trainable parameters = 20163786\n",
      "\n",
      "Epoch = 21; loss = 0.4695, accuracy = 84.756%  val loss = 0.6204, val acc = 81.490% LR = 0.100000 & step_val = 8190\n",
      "VGG-18: total # of trainable parameters = 20163786\n",
      "\n",
      "Epoch = 22; loss = 0.4531, accuracy = 85.138%  val loss = 0.6008, val acc = 82.300% LR = 0.100000 & step_val = 8580\n",
      "VGG-18: total # of trainable parameters = 20163786\n",
      "\n",
      "Epoch = 23; loss = 0.4478, accuracy = 85.445%  val loss = 0.4980, val acc = 84.630% LR = 0.100000 & step_val = 8970\n",
      "VGG-18: total # of trainable parameters = 20163786\n",
      "Saving model with lowest val_loss = 0.4980\n",
      "\n",
      "\n",
      "Epoch = 24; loss = 0.4248, accuracy = 86.152%  val loss = 0.5609, val acc = 83.730% LR = 0.100000 & step_val = 9360\n",
      "VGG-18: total # of trainable parameters = 20163786\n",
      "\n",
      "Epoch = 25; loss = 0.4063, accuracy = 86.530%  val loss = 0.5784, val acc = 82.320% LR = 0.100000 & step_val = 9750\n",
      "VGG-18: total # of trainable parameters = 20163786\n",
      "\n",
      "Epoch = 26; loss = 0.3954, accuracy = 87.057%  val loss = 0.4932, val acc = 85.020% LR = 0.100000 & step_val = 10140\n",
      "VGG-18: total # of trainable parameters = 20163786\n",
      "Saving model with lowest val_loss = 0.4932\n",
      "\n",
      "\n",
      "Epoch = 27; loss = 0.3832, accuracy = 87.368%  val loss = 0.4680, val acc = 85.440% LR = 0.100000 & step_val = 10530\n",
      "VGG-18: total # of trainable parameters = 20163786\n",
      "Saving model with lowest val_loss = 0.4680\n",
      "\n",
      "\n",
      "Epoch = 28; loss = 0.3724, accuracy = 87.614%  val loss = 0.4973, val acc = 84.960% LR = 0.100000 & step_val = 10920\n",
      "VGG-18: total # of trainable parameters = 20163786\n",
      "\n",
      "Epoch = 29; loss = 0.3619, accuracy = 88.023%  val loss = 0.4450, val acc = 86.350% LR = 0.100000 & step_val = 11310\n",
      "VGG-18: total # of trainable parameters = 20163786\n",
      "Saving model with lowest val_loss = 0.4450\n",
      "\n",
      "\n",
      "Epoch = 30; loss = 0.3545, accuracy = 88.335%  val loss = 0.4530, val acc = 85.940% LR = 0.100000 & step_val = 11700\n",
      "VGG-18: total # of trainable parameters = 20163786\n",
      "\n",
      "Epoch = 31; loss = 0.3474, accuracy = 88.622%  val loss = 0.4376, val acc = 86.320% LR = 0.100000 & step_val = 12090\n",
      "VGG-18: total # of trainable parameters = 20163786\n",
      "Saving model with lowest val_loss = 0.4376\n",
      "\n",
      "\n",
      "Epoch = 32; loss = 0.3282, accuracy = 89.223%  val loss = 0.4464, val acc = 86.070% LR = 0.100000 & step_val = 12480\n",
      "VGG-18: total # of trainable parameters = 20163786\n",
      "\n",
      "Epoch = 33; loss = 0.3285, accuracy = 89.277%  val loss = 0.4298, val acc = 87.120% LR = 0.100000 & step_val = 12870\n",
      "VGG-18: total # of trainable parameters = 20163786\n",
      "Saving model with lowest val_loss = 0.4298\n",
      "\n",
      "\n",
      "Epoch = 34; loss = 0.3099, accuracy = 89.643%  val loss = 0.4280, val acc = 87.470% LR = 0.100000 & step_val = 13260\n",
      "VGG-18: total # of trainable parameters = 20163786\n",
      "Saving model with lowest val_loss = 0.4280\n",
      "\n",
      "\n",
      "Epoch = 35; loss = 0.3022, accuracy = 90.024%  val loss = 0.4668, val acc = 85.960% LR = 0.100000 & step_val = 13650\n",
      "VGG-18: total # of trainable parameters = 20163786\n",
      "\n",
      "Epoch = 36; loss = 0.3011, accuracy = 90.014%  val loss = 0.4044, val acc = 87.590% LR = 0.100000 & step_val = 14040\n",
      "VGG-18: total # of trainable parameters = 20163785\n",
      "Saving model with lowest val_loss = 0.4044\n",
      "\n",
      "\n",
      "Epoch = 37; loss = 0.2929, accuracy = 90.353%  val loss = 0.4293, val acc = 87.340% LR = 0.100000 & step_val = 14430\n",
      "VGG-18: total # of trainable parameters = 20163786\n",
      "\n",
      "Epoch = 38; loss = 0.2921, accuracy = 90.379%  val loss = 0.4199, val acc = 87.340% LR = 0.100000 & step_val = 14820\n",
      "VGG-18: total # of trainable parameters = 20163786\n",
      "\n",
      "Epoch = 39; loss = 0.2746, accuracy = 90.982%  val loss = 0.5579, val acc = 83.600% LR = 0.100000 & step_val = 15210\n",
      "VGG-18: total # of trainable parameters = 20163786\n",
      "\n",
      "Epoch = 40; loss = 0.2672, accuracy = 91.142%  val loss = 0.4067, val acc = 88.030% LR = 0.100000 & step_val = 15600\n",
      "VGG-18: total # of trainable parameters = 20163786\n",
      "\n",
      "Epoch = 41; loss = 0.1960, accuracy = 93.435%  val loss = 0.3751, val acc = 89.280% LR = 0.010000 & step_val = 15990\n",
      "VGG-18: total # of trainable parameters = 20163786\n",
      "Saving model with lowest val_loss = 0.3751\n",
      "\n",
      "\n",
      "Epoch = 42; loss = 0.1509, accuracy = 95.000%  val loss = 0.3705, val acc = 89.380% LR = 0.010000 & step_val = 16380\n",
      "VGG-18: total # of trainable parameters = 20163786\n",
      "Saving model with lowest val_loss = 0.3705\n",
      "\n",
      "\n",
      "Epoch = 43; loss = 0.1383, accuracy = 95.345%  val loss = 0.3561, val acc = 89.900% LR = 0.010000 & step_val = 16770\n",
      "VGG-18: total # of trainable parameters = 20163786\n",
      "Saving model with lowest val_loss = 0.3561\n",
      "\n",
      "\n",
      "Epoch = 44; loss = 0.1278, accuracy = 95.737%  val loss = 0.3611, val acc = 90.020% LR = 0.010000 & step_val = 17160\n",
      "VGG-18: total # of trainable parameters = 20163786\n",
      "\n",
      "Epoch = 45; loss = 0.1255, accuracy = 95.659%  val loss = 0.3662, val acc = 89.920% LR = 0.010000 & step_val = 17550\n",
      "VGG-18: total # of trainable parameters = 20163786\n",
      "\n",
      "Epoch = 46; loss = 0.1211, accuracy = 95.841%  val loss = 0.3558, val acc = 90.250% LR = 0.010000 & step_val = 17940\n",
      "VGG-18: total # of trainable parameters = 20163786\n",
      "Saving model with lowest val_loss = 0.3558\n",
      "\n",
      "\n",
      "Epoch = 47; loss = 0.1170, accuracy = 96.020%  val loss = 0.3659, val acc = 90.120% LR = 0.010000 & step_val = 18330\n",
      "VGG-18: total # of trainable parameters = 20163786\n",
      "\n",
      "Epoch = 48; loss = 0.1082, accuracy = 96.288%  val loss = 0.3694, val acc = 90.300% LR = 0.010000 & step_val = 18720\n",
      "VGG-18: total # of trainable parameters = 20163786\n",
      "\n",
      "Epoch = 49; loss = 0.1103, accuracy = 96.248%  val loss = 0.3526, val acc = 90.570% LR = 0.010000 & step_val = 19110\n",
      "VGG-18: total # of trainable parameters = 20163786\n",
      "Saving model with lowest val_loss = 0.3526\n",
      "\n",
      "\n",
      "Epoch = 50; loss = 0.1066, accuracy = 96.398%  val loss = 0.3564, val acc = 90.500% LR = 0.010000 & step_val = 19500\n",
      "VGG-18: total # of trainable parameters = 20163786\n",
      "\n",
      "Epoch = 51; loss = 0.1016, accuracy = 96.524%  val loss = 0.3650, val acc = 90.510% LR = 0.010000 & step_val = 19890\n",
      "VGG-18: total # of trainable parameters = 20163786\n",
      "\n",
      "Epoch = 52; loss = 0.1015, accuracy = 96.432%  val loss = 0.3710, val acc = 90.410% LR = 0.010000 & step_val = 20280\n",
      "VGG-18: total # of trainable parameters = 20163786\n",
      "\n",
      "Epoch = 53; loss = 0.0943, accuracy = 96.759%  val loss = 0.3718, val acc = 90.430% LR = 0.010000 & step_val = 20670\n",
      "VGG-18: total # of trainable parameters = 20163786\n",
      "\n",
      "Epoch = 54; loss = 0.0932, accuracy = 96.815%  val loss = 0.3866, val acc = 90.420% LR = 0.010000 & step_val = 21060\n",
      "VGG-18: total # of trainable parameters = 20163786\n",
      "\n",
      "Epoch = 55; loss = 0.0926, accuracy = 96.797%  val loss = 0.3812, val acc = 90.300% LR = 0.010000 & step_val = 21450\n",
      "VGG-18: total # of trainable parameters = 20163786\n",
      "\n",
      "Epoch = 56; loss = 0.0901, accuracy = 96.941%  val loss = 0.3827, val acc = 90.000% LR = 0.010000 & step_val = 21840\n",
      "VGG-18: total # of trainable parameters = 20163786\n",
      "\n",
      "Epoch = 57; loss = 0.0883, accuracy = 97.045%  val loss = 0.3765, val acc = 90.330% LR = 0.010000 & step_val = 22230\n",
      "VGG-18: total # of trainable parameters = 20163786\n",
      "\n",
      "Epoch = 58; loss = 0.0840, accuracy = 97.115%  val loss = 0.3709, val acc = 90.600% LR = 0.010000 & step_val = 22620\n",
      "VGG-18: total # of trainable parameters = 20163786\n",
      "\n",
      "Epoch = 59; loss = 0.0806, accuracy = 97.224%  val loss = 0.3736, val acc = 90.450% LR = 0.010000 & step_val = 23010\n",
      "VGG-18: total # of trainable parameters = 20163786\n",
      "\n",
      "Epoch = 60; loss = 0.0823, accuracy = 97.119%  val loss = 0.3747, val acc = 90.670% LR = 0.010000 & step_val = 23400\n",
      "VGG-18: total # of trainable parameters = 20163786\n",
      "\n",
      "Epoch = 61; loss = 0.0771, accuracy = 97.436%  val loss = 0.3832, val acc = 90.610% LR = 0.001000 & step_val = 23790\n",
      "VGG-18: total # of trainable parameters = 20163786\n",
      "\n",
      "Epoch = 62; loss = 0.0753, accuracy = 97.398%  val loss = 0.3809, val acc = 90.710% LR = 0.001000 & step_val = 24180\n",
      "VGG-18: total # of trainable parameters = 20163786\n",
      "\n",
      "Epoch = 63; loss = 0.0719, accuracy = 97.516%  val loss = 0.3774, val acc = 90.740% LR = 0.001000 & step_val = 24570\n",
      "VGG-18: total # of trainable parameters = 20163786\n",
      "\n",
      "Epoch = 64; loss = 0.0733, accuracy = 97.428%  val loss = 0.3811, val acc = 90.740% LR = 0.001000 & step_val = 24960\n",
      "VGG-18: total # of trainable parameters = 20163786\n",
      "\n",
      "Epoch = 65; loss = 0.0703, accuracy = 97.664%  val loss = 0.3846, val acc = 90.640% LR = 0.001000 & step_val = 25350\n",
      "VGG-18: total # of trainable parameters = 20163786\n",
      "\n",
      "Epoch = 66; loss = 0.0724, accuracy = 97.508%  val loss = 0.3848, val acc = 90.630% LR = 0.001000 & step_val = 25740\n",
      "VGG-18: total # of trainable parameters = 20163786\n",
      "\n",
      "Epoch = 67; loss = 0.0730, accuracy = 97.514%  val loss = 0.3814, val acc = 90.730% LR = 0.001000 & step_val = 26130\n",
      "VGG-18: total # of trainable parameters = 20163786\n",
      "\n",
      "Epoch = 68; loss = 0.0707, accuracy = 97.554%  val loss = 0.3800, val acc = 90.680% LR = 0.001000 & step_val = 26520\n",
      "VGG-18: total # of trainable parameters = 20163786\n",
      "\n",
      "Epoch = 69; loss = 0.0689, accuracy = 97.604%  val loss = 0.3890, val acc = 90.640% LR = 0.001000 & step_val = 26910\n",
      "VGG-18: total # of trainable parameters = 20163786\n",
      "\n",
      "Epoch = 70; loss = 0.0723, accuracy = 97.476%  val loss = 0.3850, val acc = 90.680% LR = 0.001000 & step_val = 27300\n",
      "VGG-18: total # of trainable parameters = 20163786\n",
      "\n",
      "Epoch = 71; loss = 0.0707, accuracy = 97.560%  val loss = 0.3838, val acc = 90.750% LR = 0.000100 & step_val = 27690\n",
      "VGG-18: total # of trainable parameters = 20163786\n",
      "\n",
      "Epoch = 72; loss = 0.0693, accuracy = 97.660%  val loss = 0.3845, val acc = 90.730% LR = 0.000100 & step_val = 28080\n",
      "VGG-18: total # of trainable parameters = 20163786\n",
      "\n",
      "Epoch = 73; loss = 0.0683, accuracy = 97.632%  val loss = 0.3855, val acc = 90.690% LR = 0.000100 & step_val = 28470\n",
      "VGG-18: total # of trainable parameters = 20163786\n",
      "\n",
      "Epoch = 74; loss = 0.0697, accuracy = 97.690%  val loss = 0.3853, val acc = 90.710% LR = 0.000100 & step_val = 28860\n",
      "VGG-18: total # of trainable parameters = 20163786\n",
      "\n",
      "Epoch = 75; loss = 0.0705, accuracy = 97.552%  val loss = 0.3863, val acc = 90.690% LR = 0.000100 & step_val = 29250\n",
      "VGG-18: total # of trainable parameters = 20163786\n"
     ]
    }
   ],
   "source": [
    "# Train model using 'GradientTape'-\n",
    "    \n",
    "# Initialize parameters for Early Stopping manual implementation-\n",
    "# best_val_loss = 100\n",
    "# loc_patience = 0\n",
    "    \n",
    "for epoch in range(num_epochs):\n",
    "    '''\n",
    "    if loc_patience >= patience:\n",
    "        print(\"\\n'EarlyStopping' called!\\n\")\n",
    "        break\n",
    "    '''\n",
    "    \n",
    "    # Reset the metrics at the start of the next epoch\n",
    "    train_loss.reset_states()\n",
    "    train_accuracy.reset_states()\n",
    "    test_loss.reset_states()\n",
    "    test_accuracy.reset_states()\n",
    "    \n",
    "    # variable to keep track of current training step-\n",
    "    curr_step = 0\n",
    "    \n",
    "    # Train using data augmentation (ImageDataGenerator())-\n",
    "    for x, y in datagen.flow(X_train, y_train, batch_size = batch_size, shuffle = True):\n",
    "        train_one_step(model, mask_model, optimizer, x, y)\n",
    "        # print(\"current step = \", curr_step)\n",
    "        curr_step += 1\n",
    "        \n",
    "        # break out of infinite loop to end current training epoch-\n",
    "        if curr_step >= X_train.shape[0] // batch_size:\n",
    "            # print(\"\\nTerminating training (datagen.flow())\")\n",
    "            break\n",
    "\n",
    "    # Testing dataset-\n",
    "    for x_t, y_t in test_dataset:\n",
    "        test_step(model, optimizer, x_t, y_t)\n",
    "    \n",
    "    print(f\"\\nEpoch = {epoch + 1}; loss = {train_loss.result().numpy():.4f}, accuracy = {train_accuracy.result().numpy() * 100:.3f}%\",\n",
    "          f\" val loss = {test_loss.result().numpy():.4f}, val acc = {test_accuracy.result().numpy() * 100:.3f}%\"\n",
    "          f\" LR = {optimizer._decayed_lr('float32').numpy():.6f} & step_val = {optimizer.iterations.numpy()}\"\n",
    "         )\n",
    "    \n",
    "    history_lr[epoch + 1] = {\n",
    "        'loss': train_loss.result().numpy(), 'acc': train_accuracy.result().numpy() * 100,\n",
    "        'val_loss': test_loss.result().numpy(), 'val_acc': test_accuracy.result().numpy() * 100,\n",
    "        'lr': optimizer._decayed_lr('float32').numpy(), 'step_val': optimizer.iterations.numpy()\n",
    "    }\n",
    "\n",
    "    # Count number of non-zero parameters in each layer and in total-\n",
    "    print(f\"VGG-18: total # of trainable parameters = {count_params(model)}\")\n",
    "    \n",
    "    # Insert manual implementation of code for early stopping here.\n",
    "    \n",
    "    \n",
    "    # Save best weights achieved until now-\n",
    "    if (test_loss.result() < best_val_loss):    \n",
    "        # update 'best_val_loss' variable to lowest loss encountered so far-\n",
    "        best_val_loss = test_loss.result()\n",
    "        \n",
    "        print(f\"Saving model with lowest val_loss = {test_loss.result():.4f}\\n\")\n",
    "        \n",
    "        # Save trained model with validation accuracy-\n",
    "        model.save_weights(\"VGG18_best_trained_loss.h5\", overwrite = True)\n",
    "   "
   ]
  },
  {
   "cell_type": "code",
   "execution_count": null,
   "id": "7ec5719f",
   "metadata": {
    "id": "ad7b1ca8"
   },
   "outputs": [],
   "source": []
  },
  {
   "cell_type": "code",
   "execution_count": null,
   "id": "9363df73",
   "metadata": {
    "id": "af6e7aac"
   },
   "outputs": [],
   "source": []
  },
  {
   "cell_type": "code",
   "execution_count": 53,
   "id": "95173aa4",
   "metadata": {
    "id": "430842fd"
   },
   "outputs": [],
   "source": [
    "model.save_weights(\"VGG18_best_trained_weights.h5\", overwrite = True)"
   ]
  },
  {
   "cell_type": "code",
   "execution_count": null,
   "id": "ba9b9bfe",
   "metadata": {
    "id": "84404f4b"
   },
   "outputs": [],
   "source": []
  },
  {
   "cell_type": "code",
   "execution_count": 54,
   "id": "850c776e",
   "metadata": {
    "colab": {
     "base_uri": "https://localhost:8080/"
    },
    "id": "53eef89f",
    "outputId": "37bafd44-b0c5-4f66-d5f2-4d30d396dac4"
   },
   "outputs": [
    {
     "name": "stdout",
     "output_type": "stream",
     "text": [
      "\n",
      "Finished training VGG-18 CNN\n",
      "\n"
     ]
    }
   ],
   "source": [
    "print(\"\\nFinished training VGG-18 CNN\\n\")"
   ]
  },
  {
   "cell_type": "code",
   "execution_count": null,
   "id": "2b841141",
   "metadata": {
    "id": "9d067934"
   },
   "outputs": [],
   "source": []
  },
  {
   "cell_type": "code",
   "execution_count": 55,
   "id": "400857d9",
   "metadata": {
    "colab": {
     "base_uri": "https://localhost:8080/"
    },
    "id": "2736e451",
    "outputId": "6143ca6f-4832-4994-9e7b-dc9281fed5d3"
   },
   "outputs": [
    {
     "data": {
      "text/plain": [
       "dict_keys([1, 2, 3, 4, 5, 6, 7, 8, 9, 10, 11, 12, 13, 14, 15, 16, 17, 18, 19, 20, 21, 22, 23, 24, 25, 26, 27, 28, 29, 30, 31, 32, 33, 34, 35, 36, 37, 38, 39, 40, 41, 42, 43, 44, 45, 46, 47, 48, 49, 50, 51, 52, 53, 54, 55, 56, 57, 58, 59, 60, 61, 62, 63, 64, 65, 66, 67, 68, 69, 70, 71, 72, 73, 74, 75])"
      ]
     },
     "execution_count": 55,
     "metadata": {},
     "output_type": "execute_result"
    }
   ],
   "source": [
    "history_lr.keys()"
   ]
  },
  {
   "cell_type": "code",
   "execution_count": 56,
   "id": "ba14eb85",
   "metadata": {
    "colab": {
     "base_uri": "https://localhost:8080/"
    },
    "id": "f697a493",
    "outputId": "e78928cc-2e58-4ee9-ca98-2584f9e017f9"
   },
   "outputs": [
    {
     "data": {
      "text/plain": [
       "dict_keys(['loss', 'acc', 'val_loss', 'val_acc', 'lr', 'step_val'])"
      ]
     },
     "execution_count": 56,
     "metadata": {},
     "output_type": "execute_result"
    }
   ],
   "source": [
    "history_lr[10].keys()"
   ]
  },
  {
   "cell_type": "code",
   "execution_count": 57,
   "id": "633229bb",
   "metadata": {
    "colab": {
     "base_uri": "https://localhost:8080/"
    },
    "id": "474ea56e",
    "outputId": "7fea3547-42c5-4d36-9fd7-d0051c24616f"
   },
   "outputs": [
    {
     "data": {
      "text/plain": [
       "(73.25000166893005, 71.80488705635071)"
      ]
     },
     "execution_count": 57,
     "metadata": {},
     "output_type": "execute_result"
    }
   ],
   "source": [
    "history_lr[10]['val_acc'], history_lr[10]['acc']"
   ]
  },
  {
   "cell_type": "code",
   "execution_count": 58,
   "id": "4f96561e",
   "metadata": {
    "colab": {
     "base_uri": "https://localhost:8080/"
    },
    "id": "71503d5b",
    "outputId": "2c7149a0-8181-497e-ed36-7e153fd6c0f6"
   },
   "outputs": [
    {
     "data": {
      "text/plain": [
       "(0.850139, 0.8275861)"
      ]
     },
     "execution_count": 58,
     "metadata": {},
     "output_type": "execute_result"
    }
   ],
   "source": [
    "history_lr[10]['loss'], history_lr[10]['val_loss']"
   ]
  },
  {
   "cell_type": "code",
   "execution_count": 59,
   "id": "d5b5bb1a",
   "metadata": {
    "colab": {
     "base_uri": "https://localhost:8080/"
    },
    "id": "e9edfc03",
    "outputId": "a1fb6419-7659-4836-b8a3-b3378b4883ef"
   },
   "outputs": [
    {
     "data": {
      "text/plain": [
       "0.099846385"
      ]
     },
     "execution_count": 59,
     "metadata": {},
     "output_type": "execute_result"
    }
   ],
   "source": [
    "history_lr[10]['lr']"
   ]
  },
  {
   "cell_type": "code",
   "execution_count": null,
   "id": "b3217b66",
   "metadata": {
    "id": "5ae6762c"
   },
   "outputs": [],
   "source": []
  },
  {
   "cell_type": "code",
   "execution_count": null,
   "id": "3dedebbf",
   "metadata": {
    "id": "091d52c1"
   },
   "outputs": [],
   "source": []
  },
  {
   "cell_type": "code",
   "execution_count": 60,
   "id": "f0936e02",
   "metadata": {
    "id": "46515aa6"
   },
   "outputs": [],
   "source": [
    "import pickle\n",
    "\n",
    "with open(\"VGG18_training_history_lr_scheduler.pkl\", \"wb\") as file:\n",
    "    pickle.dump(history_lr, file)\n"
   ]
  },
  {
   "cell_type": "code",
   "execution_count": null,
   "id": "db354e04",
   "metadata": {
    "id": "7aeb222a"
   },
   "outputs": [],
   "source": []
  },
  {
   "cell_type": "code",
   "execution_count": null,
   "id": "c854c4a1",
   "metadata": {
    "id": "6e709be0"
   },
   "outputs": [],
   "source": []
  },
  {
   "cell_type": "code",
   "execution_count": 61,
   "id": "3872ad44",
   "metadata": {
    "id": "bacb1ccc"
   },
   "outputs": [],
   "source": [
    "# Initialize & load best weights model-\n",
    "best_model = VGG18()\n",
    "best_model.build(input_shape = (None, 32, 32, 3))\n",
    "\n",
    "# best_model.load_weights(\"VGG18_best_trained_loss.h5\")\n",
    "best_model.load_weights(\"VGG18_best_trained_weights.h5\")"
   ]
  },
  {
   "cell_type": "code",
   "execution_count": 62,
   "id": "6739acd6",
   "metadata": {
    "id": "0a87e23b"
   },
   "outputs": [],
   "source": [
    "# Compile model-\n",
    "best_model.compile(\n",
    "    loss=tf.keras.losses.categorical_crossentropy,\n",
    "    optimizer = tf.keras.optimizers.SGD(learning_rate = warmup_shcedule, momentum = 0.9, decay = 0.0, nesterov = False),\n",
    "    # optimizer = tf.keras.optimizers.SGD(learning_rate = 0.01, momentum = 0.9),\n",
    "    metrics=['accuracy']\n",
    ")"
   ]
  },
  {
   "cell_type": "code",
   "execution_count": null,
   "id": "d7aaff2c",
   "metadata": {
    "id": "5a292009"
   },
   "outputs": [],
   "source": []
  },
  {
   "cell_type": "code",
   "execution_count": 63,
   "id": "099a97ed",
   "metadata": {
    "id": "052081fe"
   },
   "outputs": [],
   "source": [
    "# Evaluate trained model's validation loss and validation accuracy on validation dataset-\n",
    "loss, acc = best_model.evaluate(X_test, y_test, verbose = 0)"
   ]
  },
  {
   "cell_type": "code",
   "execution_count": 64,
   "id": "6e38d523",
   "metadata": {
    "colab": {
     "base_uri": "https://localhost:8080/"
    },
    "id": "13c0d09f",
    "outputId": "189ae048-732f-45d3-91c6-dcd46b4e2b1f"
   },
   "outputs": [
    {
     "name": "stdout",
     "output_type": "stream",
     "text": [
      "\n",
      "Trained VGG-18 CNN model metrics on validation dataset:\n",
      "loss = 15.9775 & accuracy = 90.70%\n"
     ]
    }
   ],
   "source": [
    "print(\"\\nTrained VGG-18 CNN model metrics on validation dataset:\")\n",
    "print(f\"loss = {loss:.4f} & accuracy = {acc * 100:.2f}%\")"
   ]
  },
  {
   "cell_type": "code",
   "execution_count": null,
   "id": "7f75d1f1",
   "metadata": {
    "id": "5f33d212"
   },
   "outputs": [],
   "source": []
  },
  {
   "cell_type": "code",
   "execution_count": null,
   "id": "3833200a",
   "metadata": {
    "id": "ad9ec11c"
   },
   "outputs": [],
   "source": []
  },
  {
   "cell_type": "markdown",
   "id": "ee9b0cea",
   "metadata": {
    "id": "0e1320b3"
   },
   "source": [
    "### Training Visualizations:"
   ]
  },
  {
   "cell_type": "code",
   "execution_count": 65,
   "id": "c20d5abd",
   "metadata": {
    "colab": {
     "base_uri": "https://localhost:8080/",
     "height": 458
    },
    "id": "5b6cfd28",
    "outputId": "d9b6a970-c154-4b2a-8ee3-2611267cbc1b"
   },
   "outputs": [
    {
     "data": {
      "image/png": "[encoded data removed]",
      "text/plain": [
       "<Figure size 648x504 with 1 Axes>"
      ]
     },
     "metadata": {
      "needs_background": "light"
     },
     "output_type": "display_data"
    }
   ],
   "source": [
    "# Visualize accuracies-\n",
    "plt.figure(figsize = (9, 7))\n",
    "plt.plot(list(history_lr.keys()), [history_lr[x]['val_acc'] for x in history_lr.keys()], label = 'val_acc')\n",
    "plt.plot(list(history_lr.keys()), [history_lr[x]['acc'] for x in history_lr.keys()], label = 'acc')\n",
    "plt.title(\"VGG-18: Training Visualization - Accuracy\")\n",
    "plt.xlabel(\"epochs\")\n",
    "plt.ylabel(\"accuracy (%)\")\n",
    "plt.legend(loc = 'best')\n",
    "plt.show()"
   ]
  },
  {
   "cell_type": "code",
   "execution_count": 66,
   "id": "e495ec77",
   "metadata": {
    "colab": {
     "base_uri": "https://localhost:8080/",
     "height": 458
    },
    "id": "cc02c784",
    "outputId": "7e2e65a7-027d-4f44-e3a1-2fa5a93b05f5"
   },
   "outputs": [
    {
     "data": {
      "image/png": "[encoded data removed]",
      "text/plain": [
       "<Figure size 648x504 with 1 Axes>"
      ]
     },
     "metadata": {
      "needs_background": "light"
     },
     "output_type": "display_data"
    }
   ],
   "source": [
    "# Visualize losses-\n",
    "plt.figure(figsize = (9, 7))\n",
    "plt.plot(list(history_lr.keys()), [history_lr[x]['val_loss'] for x in history_lr.keys()], label = 'val_loss')\n",
    "plt.plot(list(history_lr.keys()), [history_lr[x]['loss'] for x in history_lr.keys()], label = 'loss')\n",
    "plt.title(\"VGG-18: Training Visualization - Loss\")\n",
    "plt.xlabel(\"epochs\")\n",
    "plt.ylabel(\"loss\")\n",
    "plt.legend(loc = 'best')\n",
    "plt.show()"
   ]
  },
  {
   "cell_type": "code",
   "execution_count": null,
   "id": "76b119df",
   "metadata": {
    "id": "8d9fb498"
   },
   "outputs": [],
   "source": []
  },
  {
   "cell_type": "code",
   "execution_count": 67,
   "id": "36de1e10",
   "metadata": {
    "colab": {
     "base_uri": "https://localhost:8080/",
     "height": 458
    },
    "id": "7954c501",
    "outputId": "60c6fb7a-7ba2-430a-ab09-9d9f20b63813"
   },
   "outputs": [
    {
     "data": {
      "image/png": "[encoded data removed]",
      "text/plain": [
       "<Figure size 648x504 with 1 Axes>"
      ]
     },
     "metadata": {
      "needs_background": "light"
     },
     "output_type": "display_data"
    }
   ],
   "source": [
    "# Visualize learning rate during training-\n",
    "plt.figure(figsize = (9, 7))\n",
    "plt.plot(list(history_lr.keys()), [history_lr[x]['lr'] for x in history_lr.keys()])\n",
    "plt.title(\"VGG-18: Learning Rate Warmup & Step-Decay (SGD)\")\n",
    "plt.xlabel(\"epochs\")\n",
    "plt.ylabel(\"LR\")\n",
    "plt.show()"
   ]
  },
  {
   "cell_type": "code",
   "execution_count": null,
   "id": "038972e2",
   "metadata": {
    "id": "d7d3eee3"
   },
   "outputs": [],
   "source": []
  },
  {
   "cell_type": "code",
   "execution_count": null,
   "id": "201e27da",
   "metadata": {
    "id": "8d9ac4df"
   },
   "outputs": [],
   "source": []
  }
 ],
 "metadata": {
  "accelerator": "GPU",
  "colab": {
   "collapsed_sections": [],
   "name": "VGG18_CIFAR10_from_scratch_Latest.ipynb",
   "provenance": []
  },
  "kernelspec": {
   "display_name": "Python 3 (ipykernel)",
   "language": "python",
   "name": "python3"
  },
  "language_info": {
   "codemirror_mode": {
    "name": "ipython",
    "version": 3
   },
   "file_extension": ".py",
   "mimetype": "text/x-python",
   "name": "python",
   "nbconvert_exporter": "python",
   "pygments_lexer": "ipython3",
   "version": "3.9.7"
  }
 },
 "nbformat": 4,
 "nbformat_minor": 5
}
