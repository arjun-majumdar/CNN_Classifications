{
 "cells": [
  {
   "cell_type": "markdown",
   "id": "718df939-4e9e-4ea6-b593-dbdde154d5c6",
   "metadata": {},
   "source": [
    "# LeNet-5 CNN: LARS optimizer + LR Scheduler - MNIST & PyTorch\n",
    "\n",
    "\n",
    "LARS optimizer was introduced by Yang You et al. in [Large Batch Training of Convolutional Networks](https://arxiv.org/abs/1708.03888)\n",
    "\n",
    "Layer-wise Adaptive Rate Scaling, or LARS, is a large batch optimization technique. There are two notable differences between LARS and other adaptive algorithms such as Adam or RMSProp:\n",
    "1. first, LARS uses a separate learning rate for each layer and not for each weight.\n",
    "2. And second, the magnitude of the update is controlled with respect to the weight norm for better control of training speed.\n",
    "\n",
    "_Learning Rate Scheduler:_\n",
    "\n",
    "- linear warmup\n",
    "- cosine decay (without warm restart(s))\n",
    "\n",
    "\n",
    "References\n",
    "\n",
    "- [apex LARS optimizer](https://github.com/NVIDIA/apex/blob/master/apex/parallel/LARC.py)\n",
    "- [SwAV official GitHub repo](https://github.com/facebookresearch/swav/blob/main/main_swav.py)\n",
    "- [LARS explained](https://paperswithcode.com/method/lars)"
   ]
  },
  {
   "cell_type": "code",
   "execution_count": null,
   "id": "976bda11-3ad4-482e-9a8d-1889dc16eaae",
   "metadata": {},
   "outputs": [],
   "source": [
    "# Specify GPU to be used-\n",
    "# %env CUDA_DEVICE_ORDER = PCI_BUS_ID\n",
    "'''\n",
    "Specify GPU(s) to be used here. Say you have 6 GPUs and you want to train Model A on 2 of them\n",
    "and Model B on 4 of them. You can do that as follows-\n",
    "CUDA_VISIBLE_DEVICES=0,1 python model_A.py\n",
    "CUDA_VISIBLE_DEVICES=2,3,4,5 python model_B.py\n",
    "'''\n",
    "# %env CUDA_VISIBLE_DEVICES = 0, 1, 2, 3\n",
    "%env CUDA_VISIBLE_DEVICES = 0, 1"
   ]
  },
  {
   "cell_type": "code",
   "execution_count": 1,
   "id": "617ce6f4-d442-4e23-b7f7-ca87839fd697",
   "metadata": {},
   "outputs": [],
   "source": [
    "import torch\n",
    "import torch.nn as nn\n",
    "import torch.nn.functional as F\n",
    "import torchvision\n",
    "import torchvision.transforms as transforms\n",
    "from LARC import LARC\n",
    "\n",
    "from models.LeNet5_CNN_torch import LeNet5, init_weights\n",
    "\n",
    "from tqdm import tqdm\n",
    "from tqdm import trange\n",
    "import matplotlib.pyplot as plt\n",
    "import pickle\n",
    "import numpy as np\n",
    "import matplotlib.pyplot as plt\n",
    "import seaborn as sns"
   ]
  },
  {
   "cell_type": "code",
   "execution_count": null,
   "id": "3bce6cce-206d-48b8-8a09-c458daf7b3f9",
   "metadata": {},
   "outputs": [],
   "source": []
  },
  {
   "cell_type": "code",
   "execution_count": null,
   "id": "6d487520-cea0-42d9-a283-61d8cda39675",
   "metadata": {},
   "outputs": [],
   "source": []
  },
  {
   "cell_type": "code",
   "execution_count": 2,
   "id": "2d5a8c84-bd03-4120-a8c6-bf56a83cce6a",
   "metadata": {},
   "outputs": [
    {
     "name": "stdout",
     "output_type": "stream",
     "text": [
      "torch version: 2.1.1+cpu\n",
      "Number of GPU(s) available = 0\n",
      "PyTorch does not have access to GPU\n",
      "Available device is cpu\n"
     ]
    }
   ],
   "source": [
    "print(f\"torch version: {torch.__version__}\")\n",
    "\n",
    "# Check if there are multiple devices (i.e., GPU cards)-\n",
    "print(f\"Number of GPU(s) available = {torch.cuda.device_count()}\")\n",
    "\n",
    "if torch.cuda.is_available():\n",
    "    print(f\"Current GPU: {torch.cuda.current_device()}\")\n",
    "    print(f\"Current GPU name: {torch.cuda.get_device_name(torch.cuda.current_device())}\")\n",
    "else:\n",
    "    print(\"PyTorch does not have access to GPU\")\n",
    "\n",
    "# Device configuration-\n",
    "device = torch.device('cuda' if torch.cuda.is_available() else 'cpu')\n",
    "print(f'Available device is {device}')"
   ]
  },
  {
   "cell_type": "code",
   "execution_count": null,
   "id": "233b7a31-c604-46f8-9c28-dff2f5a57883",
   "metadata": {},
   "outputs": [],
   "source": []
  },
  {
   "cell_type": "code",
   "execution_count": null,
   "id": "fae00c43-c539-4c3c-8b34-d19b1e7b541f",
   "metadata": {},
   "outputs": [],
   "source": []
  },
  {
   "cell_type": "code",
   "execution_count": 3,
   "id": "c17e54db-04d1-438e-8aa4-88b6b8c93578",
   "metadata": {},
   "outputs": [],
   "source": [
    "# Hyper-parameters-\n",
    "num_train_epochs = 50\n",
    "warmup_epochs = 10\n",
    "batch_size = 1024\n",
    "\n",
    "# learning_rate = 0.001\n",
    "base_lr = 0.6\n",
    "final_lr = 0.0006"
   ]
  },
  {
   "cell_type": "code",
   "execution_count": null,
   "id": "60c2ad87-a4df-4151-85ee-284da537badf",
   "metadata": {},
   "outputs": [],
   "source": []
  },
  {
   "cell_type": "code",
   "execution_count": null,
   "id": "af56c142-48d4-4e82-a59e-17d70e9ba04d",
   "metadata": {},
   "outputs": [],
   "source": []
  },
  {
   "cell_type": "code",
   "execution_count": 4,
   "id": "f751311e-d8a5-46b1-a04f-04615b1a088b",
   "metadata": {},
   "outputs": [],
   "source": [
    "# Define transformations for MNIST dataset-\n",
    "# MNIST dataset statistics-\n",
    "mean = np.array([0.1307])\n",
    "std_dev = np.array([0.3081])\n",
    "\n",
    "transforms_apply = transforms.Compose(\n",
    "    [\n",
    "        transforms.ToTensor(),\n",
    "        transforms.Normalize(mean = mean, std = std_dev)\n",
    "    ]\n",
    ")"
   ]
  },
  {
   "cell_type": "code",
   "execution_count": 5,
   "id": "73088cc6-71de-45e5-a629-bdf91607e95e",
   "metadata": {},
   "outputs": [],
   "source": [
    "# Load MNIST dataset-\n",
    "train_dataset = torchvision.datasets.MNIST(\n",
    "    root = '/home/amajumdar/Downloads/.data/', train = True,\n",
    "    transform = transforms_apply, download = True\n",
    ")\n",
    "\n",
    "test_dataset = torchvision.datasets.MNIST(\n",
    "    root = \"/home/amajumdar/Downloads/.data/\", train = False,\n",
    "    transform = transforms_apply\n",
    ")"
   ]
  },
  {
   "cell_type": "code",
   "execution_count": 6,
   "id": "b25906b4-c3d2-44e0-b442-0682e9754513",
   "metadata": {},
   "outputs": [
    {
     "data": {
      "text/plain": [
       "(60000, 60000)"
      ]
     },
     "execution_count": 6,
     "metadata": {},
     "output_type": "execute_result"
    }
   ],
   "source": [
    "len(train_dataset.targets), len(train_dataset.data)"
   ]
  },
  {
   "cell_type": "code",
   "execution_count": 7,
   "id": "edcad2f2-c41c-4573-aa85-a19500297b79",
   "metadata": {},
   "outputs": [
    {
     "data": {
      "text/plain": [
       "(10000, 10000)"
      ]
     },
     "execution_count": 7,
     "metadata": {},
     "output_type": "execute_result"
    }
   ],
   "source": [
    "len(test_dataset.targets), len(test_dataset.data)"
   ]
  },
  {
   "cell_type": "code",
   "execution_count": 8,
   "id": "4c46f4c8-9f95-4554-bf06-772584f20cda",
   "metadata": {},
   "outputs": [
    {
     "name": "stdout",
     "output_type": "stream",
     "text": [
      "training dataset length/shape: [60000, 28, 28]\n"
     ]
    }
   ],
   "source": [
    "print(f\"training dataset length/shape: {list(train_dataset.data.size())}\")"
   ]
  },
  {
   "cell_type": "code",
   "execution_count": 9,
   "id": "d1dcd603-1621-402a-bcad-e84e1fa8f621",
   "metadata": {},
   "outputs": [
    {
     "name": "stdout",
     "output_type": "stream",
     "text": [
      "mean = 0.1307 &std dev = 0.3081\n"
     ]
    }
   ],
   "source": [
    "print(f\"mean = {train_dataset.data.float().mean() / 255:.4f} &\"\n",
    "      f\"std dev = {train_dataset.data.float().std() / 255:.4f}\"\n",
    "     )"
   ]
  },
  {
   "cell_type": "code",
   "execution_count": 10,
   "id": "765abc95-7c2d-4957-bdea-c3471b0ee282",
   "metadata": {},
   "outputs": [],
   "source": [
    "train_dataset_size = len(train_dataset.data)\n",
    "\n",
    "# number of steps per epoch-\n",
    "num_steps_epoch = int(np.round(train_dataset_size / batch_size))"
   ]
  },
  {
   "cell_type": "code",
   "execution_count": 11,
   "id": "69a6d695-91a6-47fc-9124-6c4c12d05c72",
   "metadata": {},
   "outputs": [
    {
     "name": "stdout",
     "output_type": "stream",
     "text": [
      "train dataset size = 60000 & # of steps per epoch = 59\n"
     ]
    }
   ],
   "source": [
    "print(f\"train dataset size = {train_dataset_size} & # of steps per epoch = {num_steps_epoch}\")"
   ]
  },
  {
   "cell_type": "code",
   "execution_count": null,
   "id": "4ad40fae-0edd-4507-ab77-3d95a7a8ee79",
   "metadata": {},
   "outputs": [],
   "source": []
  },
  {
   "cell_type": "code",
   "execution_count": 12,
   "id": "ed37e26a-1ec3-4bd7-8661-64e7e2500a65",
   "metadata": {},
   "outputs": [],
   "source": [
    "# Create training and testing dataloaders-\n",
    "train_loader = torch.utils.data.DataLoader(\n",
    "    dataset = train_dataset, batch_size = batch_size,\n",
    "    shuffle = True\n",
    ")\n",
    "\n",
    "test_loader = torch.utils.data.DataLoader(\n",
    "    dataset = test_dataset, batch_size = batch_size,\n",
    "    shuffle = False\n",
    ")"
   ]
  },
  {
   "cell_type": "code",
   "execution_count": null,
   "id": "77fc6dc6-a236-495b-a305-5ebccdc66767",
   "metadata": {},
   "outputs": [],
   "source": []
  },
  {
   "cell_type": "code",
   "execution_count": 13,
   "id": "451afc55-963d-4be8-86a9-5ff7b93009a3",
   "metadata": {},
   "outputs": [
    {
     "name": "stdout",
     "output_type": "stream",
     "text": [
      "images.shape: torch.Size([256, 1, 28, 28])\n"
     ]
    }
   ],
   "source": [
    "# Get some random batch of training images & labels-\n",
    "images, labels = next(iter(train_loader))\n",
    "print(f\"images.shape: {images.shape}\")\n",
    "\n",
    "# De-normalize the batch of images-\n",
    "images *= 255.0"
   ]
  },
  {
   "cell_type": "code",
   "execution_count": 14,
   "id": "0aaaa0f7-ef6b-4cbb-91b7-2525a9587972",
   "metadata": {},
   "outputs": [
    {
     "data": {
      "image/png": "[encoded data removed]",
      "text/plain": [
       "<Figure size 700x600 with 20 Axes>"
      ]
     },
     "metadata": {},
     "output_type": "display_data"
    }
   ],
   "source": [
    "# Visualize 20 images from training set-\n",
    "plt.figure(figsize = (7, 6))\n",
    "for i in range(20):\n",
    "    # 4 rows & 5 columns-\n",
    "    plt.subplot(4, 5, i + 1)\n",
    "    # plt.imshow(images[i], cmap = 'gray')\n",
    "    # 0 to access first channel-\n",
    "    plt.imshow(images[i][0], cmap = 'gray')\n",
    "    \n",
    "plt.suptitle(\"Sample MNIST training images\")\n",
    "plt.show()"
   ]
  },
  {
   "cell_type": "code",
   "execution_count": 15,
   "id": "7ed9b2a9-0306-47fd-91fc-c0a13762c19c",
   "metadata": {},
   "outputs": [],
   "source": [
    "del images, labels"
   ]
  },
  {
   "cell_type": "code",
   "execution_count": null,
   "id": "47eaf4da-49d5-4a0d-a750-872d37de86aa",
   "metadata": {},
   "outputs": [],
   "source": []
  },
  {
   "cell_type": "code",
   "execution_count": null,
   "id": "b3aa740c-6877-4696-82cb-9633b77240db",
   "metadata": {},
   "outputs": [],
   "source": []
  },
  {
   "cell_type": "code",
   "execution_count": 13,
   "id": "d85275d6-59a2-4b1e-ac91-fb4caa4fe879",
   "metadata": {},
   "outputs": [
    {
     "data": {
      "text/plain": [
       "LeNet5(\n",
       "  (conv1): Conv2d(1, 6, kernel_size=(5, 5), stride=(1, 1), bias=False)\n",
       "  (bn1): BatchNorm2d(6, eps=1e-05, momentum=0.1, affine=True, track_running_stats=True)\n",
       "  (pool): MaxPool2d(kernel_size=2, stride=2, padding=0, dilation=1, ceil_mode=False)\n",
       "  (conv2): Conv2d(6, 16, kernel_size=(5, 5), stride=(1, 1), bias=False)\n",
       "  (bn2): BatchNorm2d(16, eps=1e-05, momentum=0.1, affine=True, track_running_stats=True)\n",
       "  (fc1): Linear(in_features=256, out_features=120, bias=True)\n",
       "  (bn3): BatchNorm1d(120, eps=1e-05, momentum=0.1, affine=True, track_running_stats=True)\n",
       "  (fc2): Linear(in_features=120, out_features=84, bias=True)\n",
       "  (bn4): BatchNorm1d(84, eps=1e-05, momentum=0.1, affine=True, track_running_stats=True)\n",
       "  (fc3): Linear(in_features=84, out_features=10, bias=True)\n",
       ")"
      ]
     },
     "execution_count": 13,
     "metadata": {},
     "output_type": "execute_result"
    }
   ],
   "source": [
    "# Initialize an instance of LeNet-5 CNN architecture-\n",
    "model = LeNet5(beta = 1.0)\n",
    "\n",
    "# Apply weights initialization-\n",
    "model.apply(init_weights)\n",
    "\n",
    "# Save randomly inialize parameters-\n",
    "# torch.save(model.state_dict(), \"LeNet5_random_params.pth\")"
   ]
  },
  {
   "cell_type": "code",
   "execution_count": 14,
   "id": "3c8f2fc0-885f-4c10-986c-ab53a31dc511",
   "metadata": {},
   "outputs": [],
   "source": [
    "# Push to GPU (if available)-\n",
    "model = model.to(device)"
   ]
  },
  {
   "cell_type": "code",
   "execution_count": null,
   "id": "8641c2b1-0378-4266-8db0-d8fb7a286c44",
   "metadata": {},
   "outputs": [],
   "source": []
  },
  {
   "cell_type": "code",
   "execution_count": null,
   "id": "28a102ec-8eb6-4266-9444-6a9d4347ebc9",
   "metadata": {},
   "outputs": [],
   "source": []
  },
  {
   "cell_type": "code",
   "execution_count": 15,
   "id": "15bd5001-b670-48ea-bbae-87e40b394940",
   "metadata": {},
   "outputs": [],
   "source": [
    "# Define cost function-\n",
    "loss_fn = nn.CrossEntropyLoss()"
   ]
  },
  {
   "cell_type": "code",
   "execution_count": 16,
   "id": "4e694cc3-17dd-4a01-a18a-db06174c3a73",
   "metadata": {},
   "outputs": [],
   "source": [
    "# Define optimizer-\n",
    "optimizer = torch.optim.SGD(\n",
    "    params = model.parameters(),\n",
    "    lr = 0.0, momentum = 0.9,\n",
    "    weight_decay = 5e-4,\n",
    ")\n",
    "\n",
    "optimizer = LARC(\n",
    "    optimizer = optimizer, trust_coefficient = 0.001,\n",
    "    clip = False\n",
    ")"
   ]
  },
  {
   "cell_type": "code",
   "execution_count": null,
   "id": "d985af2b-53d5-4765-aed6-8ad154768a58",
   "metadata": {},
   "outputs": [],
   "source": []
  },
  {
   "cell_type": "markdown",
   "id": "11610cb8-298a-4a4b-9415-e4aabf447553",
   "metadata": {},
   "source": [
    "### Learning Rate Scheduler\n",
    "\n",
    "- linear learning rate warmup\n",
    "- cosine annealing without warm restart(s)"
   ]
  },
  {
   "cell_type": "code",
   "execution_count": 17,
   "id": "36f5d770-06bc-4673-87d4-896143fae9ed",
   "metadata": {},
   "outputs": [],
   "source": [
    "# Linear lr warmup-\n",
    "warmup_lr_schedule = np.linspace(start = 0, stop = base_lr, num = num_steps_epoch * warmup_epochs, endpoint = True)"
   ]
  },
  {
   "cell_type": "code",
   "execution_count": 18,
   "id": "9a2b9906-2f7c-4014-98fb-9d6dededfd29",
   "metadata": {},
   "outputs": [],
   "source": [
    "def cosine_annealing(t, eta, T):\n",
    "    return 0.5 * (1 + np.cos((t * np.pi) / T)) * eta"
   ]
  },
  {
   "cell_type": "code",
   "execution_count": 19,
   "id": "282443a2-9fea-4976-a36a-eecc251035c9",
   "metadata": {},
   "outputs": [],
   "source": [
    "cosine_lr_scheduler = [cosine_annealing(t = t, eta = base_lr, T = (num_train_epochs - warmup_epochs) * num_steps_epoch) for t in range(1, ((num_train_epochs - warmup_epochs) * num_steps_epoch) + 1)]"
   ]
  },
  {
   "cell_type": "code",
   "execution_count": 20,
   "id": "1517d6a7-e720-4f86-a716-b41247b9d9a3",
   "metadata": {},
   "outputs": [],
   "source": [
    "lr_scheduler = np.concatenate((warmup_lr_schedule, cosine_lr_scheduler))"
   ]
  },
  {
   "cell_type": "code",
   "execution_count": 21,
   "id": "72a4af10-8319-4a66-802d-9d094bee4d17",
   "metadata": {},
   "outputs": [
    {
     "data": {
      "image/png": "[encoded data removed]",
      "text/plain": [
       "<Figure size 1000x800 with 1 Axes>"
      ]
     },
     "metadata": {},
     "output_type": "display_data"
    }
   ],
   "source": [
    "# Visualize lr scheduler-\n",
    "plt.figure(figsize = (10, 8))\n",
    "plt.plot(lr_scheduler)\n",
    "plt.xlabel(\"train steps\")\n",
    "plt.ylabel(\"lr\")\n",
    "plt.title(\"lr scheduler\")\n",
    "plt.show()"
   ]
  },
  {
   "cell_type": "code",
   "execution_count": null,
   "id": "f998a2b6-ae22-4af6-b6e2-b20bfee333db",
   "metadata": {},
   "outputs": [],
   "source": []
  },
  {
   "cell_type": "code",
   "execution_count": null,
   "id": "f3fa9165-a3d9-4250-9b23-d24171eeb60f",
   "metadata": {},
   "outputs": [],
   "source": []
  },
  {
   "cell_type": "code",
   "execution_count": 22,
   "id": "9b63b5ad-46e9-44a8-973b-f1fd83a293dd",
   "metadata": {},
   "outputs": [],
   "source": [
    "step = 0"
   ]
  },
  {
   "cell_type": "code",
   "execution_count": null,
   "id": "fad14273-a432-45bd-8700-f0fbbcad7163",
   "metadata": {},
   "outputs": [],
   "source": []
  },
  {
   "cell_type": "code",
   "execution_count": 23,
   "id": "6af38156-c6a6-46f2-8d54-87bcb9917eaf",
   "metadata": {},
   "outputs": [],
   "source": [
    "def train_model_progress(model, train_loader, train_dataset):\n",
    "    '''\n",
    "    Function to perform one epoch of training by using 'train_loader'.\n",
    "    Returns loss and number of correct predictions for this epoch.\n",
    "    '''\n",
    "    running_loss = 0.0\n",
    "    running_corrects = 0.0\n",
    "    \n",
    "    model.train()\n",
    "    \n",
    "    with tqdm(train_loader, unit = 'batch') as tepoch:\n",
    "        for images, labels in tepoch:\n",
    "            tepoch.set_description(f\"Training: \")\n",
    "            \n",
    "            images = images.to(device)\n",
    "            labels = labels.to(device)\n",
    "            \n",
    "            # Get model predictions-\n",
    "            outputs = model(images)\n",
    "            \n",
    "            # Compute loss-\n",
    "            J = loss_fn(outputs, labels)\n",
    "            \n",
    "            # Empty accumulated gradients-\n",
    "            optimizer.zero_grad()\n",
    "            \n",
    "            # Perform backprop-\n",
    "            J.backward()\n",
    "            \n",
    "            # Update parameters-\n",
    "            optimizer.step()\n",
    "\n",
    "            # Update LR scheduler & LARS params-\n",
    "            global step\n",
    "            # optimizer.param_groups[0]['lr'] = custom_lr_scheduler.get_lr(step)\n",
    "            for param_group in optimizer.param_groups:\n",
    "                param_group['lr'] = lr_scheduler[step]\n",
    "            step += 1\n",
    "            \n",
    "            # Compute model's performance statistics-\n",
    "            running_loss += J.item() * images.size(0)\n",
    "            _, predicted = torch.max(outputs, 1)\n",
    "            running_corrects += torch.sum(predicted == labels.data)\n",
    "            \n",
    "            tepoch.set_postfix(\n",
    "                loss = running_loss / len(train_dataset),\n",
    "                accuracy = (running_corrects.double().cpu().numpy() / len(train_dataset)) * 100\n",
    "            )\n",
    "    \n",
    "    train_loss = running_loss / len(train_dataset)\n",
    "    train_acc = (running_corrects.double() / len(train_dataset)) * 100\n",
    "    \n",
    "\n",
    "    # return running_loss, running_corrects\n",
    "    return train_loss, train_acc.cpu().numpy()\n"
   ]
  },
  {
   "cell_type": "code",
   "execution_count": 24,
   "id": "b834c734-ebfe-4d47-afb8-53f9372a0be0",
   "metadata": {},
   "outputs": [],
   "source": [
    "def test_model_progress(model, test_loader, test_dataset):\n",
    "    total = 0.0\n",
    "    correct = 0.0\n",
    "    running_loss_val = 0.0\n",
    "\n",
    "    with torch.no_grad():\n",
    "        with tqdm(test_loader, unit = 'batch') as tepoch:\n",
    "            for images, labels in tepoch:\n",
    "                tepoch.set_description(f\"Validation: \")\n",
    "                \n",
    "                images = images.to(device)\n",
    "                labels = labels.to(device)\n",
    "                \n",
    "                # Set model to evaluation mode-\n",
    "                model.eval()\n",
    "            \n",
    "                # Predict using trained model-\n",
    "                outputs = model(images)\n",
    "                _, y_pred = torch.max(outputs, 1)\n",
    "                \n",
    "                # Compute validation loss-\n",
    "                J_val = loss_fn(outputs, labels)\n",
    "                \n",
    "                running_loss_val += J_val.item() * labels.size(0)\n",
    "    \n",
    "                # Total number of labels-\n",
    "                total += labels.size(0)\n",
    "\n",
    "                # Total number of correct predictions-\n",
    "                correct += (y_pred == labels).sum()\n",
    "                \n",
    "                tepoch.set_postfix(\n",
    "                    val_loss = running_loss_val / len(test_dataset),\n",
    "                    val_acc = 100 * (correct.cpu().numpy() / total)\n",
    "                )\n",
    "            \n",
    "        \n",
    "    # return (running_loss_val, correct, total)\n",
    "    val_loss = running_loss_val / len(test_dataset)\n",
    "    val_acc = (correct / total) * 100\n",
    "\n",
    "    return val_loss, val_acc.cpu().numpy()\n"
   ]
  },
  {
   "cell_type": "code",
   "execution_count": null,
   "id": "6a095de8-25ab-44ea-ae2a-e286ef8492ef",
   "metadata": {},
   "outputs": [],
   "source": []
  },
  {
   "cell_type": "code",
   "execution_count": null,
   "id": "14409ed2-2ca3-428e-875b-837671bfea71",
   "metadata": {},
   "outputs": [],
   "source": []
  },
  {
   "cell_type": "code",
   "execution_count": 25,
   "id": "83752618-315a-4875-b199-c9a6f733145d",
   "metadata": {},
   "outputs": [],
   "source": [
    "# Python3 dict to contain training metrics-\n",
    "training_history = {}\n",
    "\n",
    "# Initialize parameters saving 'best' models-\n",
    "best_val_acc = 0"
   ]
  },
  {
   "cell_type": "code",
   "execution_count": 26,
   "id": "a9444d29-f6a3-4f50-8cb1-918bf2b6620e",
   "metadata": {},
   "outputs": [
    {
     "name": "stderr",
     "output_type": "stream",
     "text": [
      "Training: : 100%|██████████████████████████████████████████████████████████████████████████████| 59/59 [00:09<00:00,  6.42batch/s, accuracy=17.6, loss=2.37]\n",
      "Validation: : 100%|█████████████████████████████████████████████████████████████████████████| 10/10 [00:01<00:00,  8.58batch/s, val_acc=33.2, val_loss=1.91]\n"
     ]
    },
    {
     "name": "stdout",
     "output_type": "stream",
     "text": [
      "\n",
      "epoch: 1 training loss = 2.3736, training accuracy = 17.61%, val_loss = 1.9092, val_accuracy = 33.17% & LR = 0.0591\n",
      "\n",
      "Saving model with highest val_acc = 33.1700%\n",
      "\n"
     ]
    },
    {
     "name": "stderr",
     "output_type": "stream",
     "text": [
      "Training: : 100%|███████████████████████████████████████████████████████████████████████████████| 59/59 [00:08<00:00,  6.89batch/s, accuracy=57.8, loss=1.4]\n",
      "Validation: : 100%|██████████████████████████████████████████████████████████████████████████| 10/10 [00:01<00:00,  9.23batch/s, val_acc=81, val_loss=0.853]\n"
     ]
    },
    {
     "name": "stdout",
     "output_type": "stream",
     "text": [
      "\n",
      "epoch: 2 training loss = 1.3951, training accuracy = 57.83%, val_loss = 0.8528, val_accuracy = 81.01% & LR = 0.1192\n",
      "\n",
      "Saving model with highest val_acc = 81.0100%\n",
      "\n"
     ]
    },
    {
     "name": "stderr",
     "output_type": "stream",
     "text": [
      "Training: : 100%|█████████████████████████████████████████████████████████████████████████████| 59/59 [00:08<00:00,  6.96batch/s, accuracy=86.5, loss=0.603]\n",
      "Validation: : 100%|█████████████████████████████████████████████████████████████████████████| 10/10 [00:01<00:00,  9.20batch/s, val_acc=91.7, val_loss=0.35]\n"
     ]
    },
    {
     "name": "stdout",
     "output_type": "stream",
     "text": [
      "\n",
      "epoch: 3 training loss = 0.6033, training accuracy = 86.49%, val_loss = 0.3496, val_accuracy = 91.70% & LR = 0.1793\n",
      "\n",
      "Saving model with highest val_acc = 91.7000%\n",
      "\n"
     ]
    },
    {
     "name": "stderr",
     "output_type": "stream",
     "text": [
      "Training: : 100%|█████████████████████████████████████████████████████████████████████████████| 59/59 [00:08<00:00,  7.28batch/s, accuracy=93.1, loss=0.271]\n",
      "Validation: : 100%|████████████████████████████████████████████████████████████████████████| 10/10 [00:01<00:00,  9.41batch/s, val_acc=95.2, val_loss=0.181]\n"
     ]
    },
    {
     "name": "stdout",
     "output_type": "stream",
     "text": [
      "\n",
      "epoch: 4 training loss = 0.2708, training accuracy = 93.15%, val_loss = 0.1806, val_accuracy = 95.24% & LR = 0.2394\n",
      "\n",
      "Saving model with highest val_acc = 95.2400%\n",
      "\n"
     ]
    },
    {
     "name": "stderr",
     "output_type": "stream",
     "text": [
      "Training: : 100%|█████████████████████████████████████████████████████████████████████████████| 59/59 [00:08<00:00,  6.93batch/s, accuracy=95.9, loss=0.151]\n",
      "Validation: : 100%|████████████████████████████████████████████████████████████████████████| 10/10 [00:01<00:00,  9.11batch/s, val_acc=96.9, val_loss=0.114]\n"
     ]
    },
    {
     "name": "stdout",
     "output_type": "stream",
     "text": [
      "\n",
      "epoch: 5 training loss = 0.1509, training accuracy = 95.89%, val_loss = 0.1136, val_accuracy = 96.94% & LR = 0.2995\n",
      "\n",
      "Saving model with highest val_acc = 96.9400%\n",
      "\n"
     ]
    },
    {
     "name": "stderr",
     "output_type": "stream",
     "text": [
      "Training: : 100%|█████████████████████████████████████████████████████████████████████████████| 59/59 [00:08<00:00,  6.77batch/s, accuracy=97.1, loss=0.102]\n",
      "Validation: : 100%|███████████████████████████████████████████████████████████████████████| 10/10 [00:01<00:00,  9.00batch/s, val_acc=97.4, val_loss=0.0847]\n"
     ]
    },
    {
     "name": "stdout",
     "output_type": "stream",
     "text": [
      "\n",
      "epoch: 6 training loss = 0.1022, training accuracy = 97.10%, val_loss = 0.0847, val_accuracy = 97.43% & LR = 0.3596\n",
      "\n",
      "Saving model with highest val_acc = 97.4300%\n",
      "\n"
     ]
    },
    {
     "name": "stderr",
     "output_type": "stream",
     "text": [
      "Training: : 100%|████████████████████████████████████████████████████████████████████████████| 59/59 [00:08<00:00,  6.79batch/s, accuracy=97.8, loss=0.0769]\n",
      "Validation: : 100%|█████████████████████████████████████████████████████████████████████████| 10/10 [00:01<00:00,  8.84batch/s, val_acc=98, val_loss=0.0666]\n"
     ]
    },
    {
     "name": "stdout",
     "output_type": "stream",
     "text": [
      "\n",
      "epoch: 7 training loss = 0.0769, training accuracy = 97.81%, val_loss = 0.0666, val_accuracy = 98.02% & LR = 0.4197\n",
      "\n",
      "Saving model with highest val_acc = 98.0200%\n",
      "\n"
     ]
    },
    {
     "name": "stderr",
     "output_type": "stream",
     "text": [
      "Training: : 100%|████████████████████████████████████████████████████████████████████████████| 59/59 [00:08<00:00,  6.81batch/s, accuracy=98.2, loss=0.0617]\n",
      "Validation: : 100%|███████████████████████████████████████████████████████████████████████| 10/10 [00:01<00:00,  9.11batch/s, val_acc=98.4, val_loss=0.0573]\n"
     ]
    },
    {
     "name": "stdout",
     "output_type": "stream",
     "text": [
      "\n",
      "epoch: 8 training loss = 0.0617, training accuracy = 98.20%, val_loss = 0.0573, val_accuracy = 98.40% & LR = 0.4798\n",
      "\n",
      "Saving model with highest val_acc = 98.4000%\n",
      "\n"
     ]
    },
    {
     "name": "stderr",
     "output_type": "stream",
     "text": [
      "Training: : 100%|████████████████████████████████████████████████████████████████████████████| 59/59 [00:08<00:00,  6.97batch/s, accuracy=98.6, loss=0.0514]\n",
      "Validation: : 100%|███████████████████████████████████████████████████████████████████████| 10/10 [00:01<00:00,  8.88batch/s, val_acc=98.5, val_loss=0.0521]\n"
     ]
    },
    {
     "name": "stdout",
     "output_type": "stream",
     "text": [
      "\n",
      "epoch: 9 training loss = 0.0514, training accuracy = 98.56%, val_loss = 0.0521, val_accuracy = 98.46% & LR = 0.5399\n",
      "\n",
      "Saving model with highest val_acc = 98.4600%\n",
      "\n"
     ]
    },
    {
     "name": "stderr",
     "output_type": "stream",
     "text": [
      "Training: : 100%|████████████████████████████████████████████████████████████████████████████| 59/59 [00:09<00:00,  6.29batch/s, accuracy=98.7, loss=0.0441]\n",
      "Validation: : 100%|███████████████████████████████████████████████████████████████████████| 10/10 [00:01<00:00,  8.66batch/s, val_acc=98.7, val_loss=0.0452]\n"
     ]
    },
    {
     "name": "stdout",
     "output_type": "stream",
     "text": [
      "\n",
      "epoch: 10 training loss = 0.0441, training accuracy = 98.70%, val_loss = 0.0452, val_accuracy = 98.67% & LR = 0.6000\n",
      "\n",
      "Saving model with highest val_acc = 98.6700%\n",
      "\n"
     ]
    },
    {
     "name": "stderr",
     "output_type": "stream",
     "text": [
      "Training: : 100%|██████████████████████████████████████████████████████████████████████████████| 59/59 [00:08<00:00,  6.63batch/s, accuracy=99, loss=0.0379]\n",
      "Validation: : 100%|███████████████████████████████████████████████████████████████████████| 10/10 [00:01<00:00,  9.43batch/s, val_acc=98.7, val_loss=0.0445]\n"
     ]
    },
    {
     "name": "stdout",
     "output_type": "stream",
     "text": [
      "\n",
      "epoch: 11 training loss = 0.0379, training accuracy = 98.97%, val_loss = 0.0445, val_accuracy = 98.68% & LR = 0.5991\n",
      "\n",
      "Saving model with highest val_acc = 98.6800%\n",
      "\n"
     ]
    },
    {
     "name": "stderr",
     "output_type": "stream",
     "text": [
      "Training: : 100%|████████████████████████████████████████████████████████████████████████████| 59/59 [00:08<00:00,  7.23batch/s, accuracy=99.1, loss=0.0328]\n",
      "Validation: : 100%|███████████████████████████████████████████████████████████████████████| 10/10 [00:01<00:00,  9.20batch/s, val_acc=98.8, val_loss=0.0407]\n"
     ]
    },
    {
     "name": "stdout",
     "output_type": "stream",
     "text": [
      "\n",
      "epoch: 12 training loss = 0.0328, training accuracy = 99.09%, val_loss = 0.0407, val_accuracy = 98.75% & LR = 0.5963\n",
      "\n",
      "Saving model with highest val_acc = 98.7500%\n",
      "\n"
     ]
    },
    {
     "name": "stderr",
     "output_type": "stream",
     "text": [
      "Training: : 100%|████████████████████████████████████████████████████████████████████████████| 59/59 [00:08<00:00,  7.27batch/s, accuracy=99.2, loss=0.0288]\n",
      "Validation: : 100%|███████████████████████████████████████████████████████████████████████| 10/10 [00:01<00:00,  9.46batch/s, val_acc=98.5, val_loss=0.0423]\n"
     ]
    },
    {
     "name": "stdout",
     "output_type": "stream",
     "text": [
      "\n",
      "epoch: 13 training loss = 0.0288, training accuracy = 99.25%, val_loss = 0.0423, val_accuracy = 98.54% & LR = 0.5917\n",
      "\n"
     ]
    },
    {
     "name": "stderr",
     "output_type": "stream",
     "text": [
      "Training: : 100%|████████████████████████████████████████████████████████████████████████████| 59/59 [00:08<00:00,  7.32batch/s, accuracy=99.4, loss=0.0258]\n",
      "Validation: : 100%|████████████████████████████████████████████████████████████████████████| 10/10 [00:01<00:00,  8.97batch/s, val_acc=98.9, val_loss=0.036]\n"
     ]
    },
    {
     "name": "stdout",
     "output_type": "stream",
     "text": [
      "\n",
      "epoch: 14 training loss = 0.0258, training accuracy = 99.36%, val_loss = 0.0360, val_accuracy = 98.90% & LR = 0.5853\n",
      "\n",
      "Saving model with highest val_acc = 98.9000%\n",
      "\n"
     ]
    },
    {
     "name": "stderr",
     "output_type": "stream",
     "text": [
      "Training: : 100%|████████████████████████████████████████████████████████████████████████████| 59/59 [00:08<00:00,  7.28batch/s, accuracy=99.4, loss=0.0229]\n",
      "Validation: : 100%|███████████████████████████████████████████████████████████████████████| 10/10 [00:01<00:00,  9.51batch/s, val_acc=98.9, val_loss=0.0341]\n"
     ]
    },
    {
     "name": "stdout",
     "output_type": "stream",
     "text": [
      "\n",
      "epoch: 15 training loss = 0.0229, training accuracy = 99.45%, val_loss = 0.0341, val_accuracy = 98.87% & LR = 0.5772\n",
      "\n"
     ]
    },
    {
     "name": "stderr",
     "output_type": "stream",
     "text": [
      "Training: : 100%|████████████████████████████████████████████████████████████████████████████| 59/59 [00:08<00:00,  7.29batch/s, accuracy=99.5, loss=0.0212]\n",
      "Validation: : 100%|███████████████████████████████████████████████████████████████████████| 10/10 [00:01<00:00,  9.42batch/s, val_acc=98.9, val_loss=0.0341]\n"
     ]
    },
    {
     "name": "stdout",
     "output_type": "stream",
     "text": [
      "\n",
      "epoch: 16 training loss = 0.0212, training accuracy = 99.49%, val_loss = 0.0341, val_accuracy = 98.93% & LR = 0.5673\n",
      "\n",
      "Saving model with highest val_acc = 98.9300%\n",
      "\n"
     ]
    },
    {
     "name": "stderr",
     "output_type": "stream",
     "text": [
      "Training: : 100%|████████████████████████████████████████████████████████████████████████████| 59/59 [00:08<00:00,  7.18batch/s, accuracy=99.5, loss=0.0203]\n",
      "Validation: : 100%|████████████████████████████████████████████████████████████████████████| 10/10 [00:01<00:00,  9.38batch/s, val_acc=98.9, val_loss=0.035]\n"
     ]
    },
    {
     "name": "stdout",
     "output_type": "stream",
     "text": [
      "\n",
      "epoch: 17 training loss = 0.0203, training accuracy = 99.52%, val_loss = 0.0350, val_accuracy = 98.87% & LR = 0.5558\n",
      "\n"
     ]
    },
    {
     "name": "stderr",
     "output_type": "stream",
     "text": [
      "Training: : 100%|████████████████████████████████████████████████████████████████████████████| 59/59 [00:08<00:00,  7.27batch/s, accuracy=99.6, loss=0.0179]\n",
      "Validation: : 100%|█████████████████████████████████████████████████████████████████████████| 10/10 [00:01<00:00,  9.62batch/s, val_acc=99, val_loss=0.0322]\n"
     ]
    },
    {
     "name": "stdout",
     "output_type": "stream",
     "text": [
      "\n",
      "epoch: 18 training loss = 0.0179, training accuracy = 99.62%, val_loss = 0.0322, val_accuracy = 98.95% & LR = 0.5427\n",
      "\n",
      "Saving model with highest val_acc = 98.9500%\n",
      "\n"
     ]
    },
    {
     "name": "stderr",
     "output_type": "stream",
     "text": [
      "Training: : 100%|████████████████████████████████████████████████████████████████████████████| 59/59 [00:08<00:00,  7.26batch/s, accuracy=99.6, loss=0.0167]\n",
      "Validation: : 100%|████████████████████████████████████████████████████████████████████████| 10/10 [00:01<00:00,  9.49batch/s, val_acc=99.1, val_loss=0.031]\n"
     ]
    },
    {
     "name": "stdout",
     "output_type": "stream",
     "text": [
      "\n",
      "epoch: 19 training loss = 0.0167, training accuracy = 99.64%, val_loss = 0.0310, val_accuracy = 99.05% & LR = 0.5281\n",
      "\n",
      "Saving model with highest val_acc = 99.0500%\n",
      "\n"
     ]
    },
    {
     "name": "stderr",
     "output_type": "stream",
     "text": [
      "Training: : 100%|████████████████████████████████████████████████████████████████████████████| 59/59 [00:08<00:00,  7.33batch/s, accuracy=99.7, loss=0.0156]\n",
      "Validation: : 100%|█████████████████████████████████████████████████████████████████████████| 10/10 [00:01<00:00,  9.46batch/s, val_acc=99, val_loss=0.0316]\n"
     ]
    },
    {
     "name": "stdout",
     "output_type": "stream",
     "text": [
      "\n",
      "epoch: 20 training loss = 0.0156, training accuracy = 99.69%, val_loss = 0.0316, val_accuracy = 98.98% & LR = 0.5121\n",
      "\n"
     ]
    },
    {
     "name": "stderr",
     "output_type": "stream",
     "text": [
      "Training: : 100%|████████████████████████████████████████████████████████████████████████████| 59/59 [00:08<00:00,  7.33batch/s, accuracy=99.7, loss=0.0147]\n",
      "Validation: : 100%|███████████████████████████████████████████████████████████████████████| 10/10 [00:01<00:00,  9.40batch/s, val_acc=99.1, val_loss=0.0322]\n"
     ]
    },
    {
     "name": "stdout",
     "output_type": "stream",
     "text": [
      "\n",
      "epoch: 21 training loss = 0.0147, training accuracy = 99.70%, val_loss = 0.0322, val_accuracy = 99.05% & LR = 0.4948\n",
      "\n"
     ]
    },
    {
     "name": "stderr",
     "output_type": "stream",
     "text": [
      "Training: : 100%|████████████████████████████████████████████████████████████████████████████| 59/59 [00:08<00:00,  7.26batch/s, accuracy=99.8, loss=0.0136]\n",
      "Validation: : 100%|█████████████████████████████████████████████████████████████████████████| 10/10 [00:01<00:00,  9.47batch/s, val_acc=99, val_loss=0.0321]\n"
     ]
    },
    {
     "name": "stdout",
     "output_type": "stream",
     "text": [
      "\n",
      "epoch: 22 training loss = 0.0136, training accuracy = 99.76%, val_loss = 0.0321, val_accuracy = 98.97% & LR = 0.4763\n",
      "\n"
     ]
    },
    {
     "name": "stderr",
     "output_type": "stream",
     "text": [
      "Training: : 100%|█████████████████████████████████████████████████████████████████████████████| 59/59 [00:08<00:00,  7.29batch/s, accuracy=99.8, loss=0.013]\n",
      "Validation: : 100%|█████████████████████████████████████████████████████████████████████████| 10/10 [00:01<00:00,  9.52batch/s, val_acc=99, val_loss=0.0311]\n"
     ]
    },
    {
     "name": "stdout",
     "output_type": "stream",
     "text": [
      "\n",
      "epoch: 23 training loss = 0.0130, training accuracy = 99.77%, val_loss = 0.0311, val_accuracy = 98.95% & LR = 0.4567\n",
      "\n"
     ]
    },
    {
     "name": "stderr",
     "output_type": "stream",
     "text": [
      "Training: : 100%|████████████████████████████████████████████████████████████████████████████| 59/59 [00:08<00:00,  7.30batch/s, accuracy=99.8, loss=0.0125]\n",
      "Validation: : 100%|████████████████████████████████████████████████████████████████████████| 10/10 [00:01<00:00,  9.08batch/s, val_acc=99.1, val_loss=0.029]\n"
     ]
    },
    {
     "name": "stdout",
     "output_type": "stream",
     "text": [
      "\n",
      "epoch: 24 training loss = 0.0125, training accuracy = 99.80%, val_loss = 0.0290, val_accuracy = 99.13% & LR = 0.4362\n",
      "\n",
      "Saving model with highest val_acc = 99.1300%\n",
      "\n"
     ]
    },
    {
     "name": "stderr",
     "output_type": "stream",
     "text": [
      "Training: : 100%|████████████████████████████████████████████████████████████████████████████| 59/59 [00:08<00:00,  7.18batch/s, accuracy=99.8, loss=0.0118]\n",
      "Validation: : 100%|███████████████████████████████████████████████████████████████████████| 10/10 [00:01<00:00,  9.55batch/s, val_acc=99.2, val_loss=0.0292]\n"
     ]
    },
    {
     "name": "stdout",
     "output_type": "stream",
     "text": [
      "\n",
      "epoch: 25 training loss = 0.0118, training accuracy = 99.81%, val_loss = 0.0292, val_accuracy = 99.15% & LR = 0.4148\n",
      "\n",
      "Saving model with highest val_acc = 99.1500%\n",
      "\n"
     ]
    },
    {
     "name": "stderr",
     "output_type": "stream",
     "text": [
      "Training: : 100%|████████████████████████████████████████████████████████████████████████████| 59/59 [00:08<00:00,  7.21batch/s, accuracy=99.8, loss=0.0112]\n",
      "Validation: : 100%|█████████████████████████████████████████████████████████████████████████| 10/10 [00:01<00:00,  9.39batch/s, val_acc=99, val_loss=0.0316]\n"
     ]
    },
    {
     "name": "stdout",
     "output_type": "stream",
     "text": [
      "\n",
      "epoch: 26 training loss = 0.0112, training accuracy = 99.83%, val_loss = 0.0316, val_accuracy = 99.03% & LR = 0.3927\n",
      "\n"
     ]
    },
    {
     "name": "stderr",
     "output_type": "stream",
     "text": [
      "Training: : 100%|████████████████████████████████████████████████████████████████████████████| 59/59 [00:08<00:00,  7.35batch/s, accuracy=99.8, loss=0.0109]\n",
      "Validation: : 100%|███████████████████████████████████████████████████████████████████████| 10/10 [00:01<00:00,  9.48batch/s, val_acc=99.1, val_loss=0.0295]\n"
     ]
    },
    {
     "name": "stdout",
     "output_type": "stream",
     "text": [
      "\n",
      "epoch: 27 training loss = 0.0109, training accuracy = 99.84%, val_loss = 0.0295, val_accuracy = 99.13% & LR = 0.3700\n",
      "\n"
     ]
    },
    {
     "name": "stderr",
     "output_type": "stream",
     "text": [
      "Training: : 100%|████████████████████████████████████████████████████████████████████████████| 59/59 [00:08<00:00,  7.33batch/s, accuracy=99.9, loss=0.0104]\n",
      "Validation: : 100%|███████████████████████████████████████████████████████████████████████| 10/10 [00:01<00:00,  9.51batch/s, val_acc=99.1, val_loss=0.0294]\n"
     ]
    },
    {
     "name": "stdout",
     "output_type": "stream",
     "text": [
      "\n",
      "epoch: 28 training loss = 0.0104, training accuracy = 99.86%, val_loss = 0.0294, val_accuracy = 99.06% & LR = 0.3469\n",
      "\n"
     ]
    },
    {
     "name": "stderr",
     "output_type": "stream",
     "text": [
      "Training: : 100%|███████████████████████████████████████████████████████████████████████████| 59/59 [00:08<00:00,  7.23batch/s, accuracy=99.9, loss=0.00977]\n",
      "Validation: : 100%|███████████████████████████████████████████████████████████████████████| 10/10 [00:01<00:00,  9.25batch/s, val_acc=99.1, val_loss=0.0295]\n"
     ]
    },
    {
     "name": "stdout",
     "output_type": "stream",
     "text": [
      "\n",
      "epoch: 29 training loss = 0.0098, training accuracy = 99.87%, val_loss = 0.0295, val_accuracy = 99.09% & LR = 0.3235\n",
      "\n"
     ]
    },
    {
     "name": "stderr",
     "output_type": "stream",
     "text": [
      "Training: : 100%|███████████████████████████████████████████████████████████████████████████| 59/59 [00:08<00:00,  7.07batch/s, accuracy=99.9, loss=0.00961]\n",
      "Validation: : 100%|███████████████████████████████████████████████████████████████████████| 10/10 [00:01<00:00,  9.35batch/s, val_acc=99.1, val_loss=0.0294]\n"
     ]
    },
    {
     "name": "stdout",
     "output_type": "stream",
     "text": [
      "\n",
      "epoch: 30 training loss = 0.0096, training accuracy = 99.89%, val_loss = 0.0294, val_accuracy = 99.09% & LR = 0.3000\n",
      "\n"
     ]
    },
    {
     "name": "stderr",
     "output_type": "stream",
     "text": [
      "Training: : 100%|████████████████████████████████████████████████████████████████████████████| 59/59 [00:08<00:00,  7.33batch/s, accuracy=99.9, loss=0.0095]\n",
      "Validation: : 100%|███████████████████████████████████████████████████████████████████████| 10/10 [00:01<00:00,  9.36batch/s, val_acc=99.1, val_loss=0.0291]\n"
     ]
    },
    {
     "name": "stdout",
     "output_type": "stream",
     "text": [
      "\n",
      "epoch: 31 training loss = 0.0095, training accuracy = 99.89%, val_loss = 0.0291, val_accuracy = 99.12% & LR = 0.2765\n",
      "\n"
     ]
    },
    {
     "name": "stderr",
     "output_type": "stream",
     "text": [
      "Training: : 100%|███████████████████████████████████████████████████████████████████████████| 59/59 [00:08<00:00,  7.19batch/s, accuracy=99.9, loss=0.00891]\n",
      "Validation: : 100%|███████████████████████████████████████████████████████████████████████| 10/10 [00:01<00:00,  9.40batch/s, val_acc=99.2, val_loss=0.0287]\n"
     ]
    },
    {
     "name": "stdout",
     "output_type": "stream",
     "text": [
      "\n",
      "epoch: 32 training loss = 0.0089, training accuracy = 99.89%, val_loss = 0.0287, val_accuracy = 99.18% & LR = 0.2531\n",
      "\n",
      "Saving model with highest val_acc = 99.1800%\n",
      "\n"
     ]
    },
    {
     "name": "stderr",
     "output_type": "stream",
     "text": [
      "Training: : 100%|███████████████████████████████████████████████████████████████████████████| 59/59 [00:08<00:00,  6.81batch/s, accuracy=99.9, loss=0.00857]\n",
      "Validation: : 100%|███████████████████████████████████████████████████████████████████████| 10/10 [00:01<00:00,  9.56batch/s, val_acc=99.2, val_loss=0.0282]\n"
     ]
    },
    {
     "name": "stdout",
     "output_type": "stream",
     "text": [
      "\n",
      "epoch: 33 training loss = 0.0086, training accuracy = 99.91%, val_loss = 0.0282, val_accuracy = 99.16% & LR = 0.2300\n",
      "\n"
     ]
    },
    {
     "name": "stderr",
     "output_type": "stream",
     "text": [
      "Training: : 100%|███████████████████████████████████████████████████████████████████████████| 59/59 [00:09<00:00,  6.52batch/s, accuracy=99.9, loss=0.00842]\n",
      "Validation: : 100%|███████████████████████████████████████████████████████████████████████| 10/10 [00:01<00:00,  9.18batch/s, val_acc=99.1, val_loss=0.0291]\n"
     ]
    },
    {
     "name": "stdout",
     "output_type": "stream",
     "text": [
      "\n",
      "epoch: 34 training loss = 0.0084, training accuracy = 99.92%, val_loss = 0.0291, val_accuracy = 99.13% & LR = 0.2073\n",
      "\n"
     ]
    },
    {
     "name": "stderr",
     "output_type": "stream",
     "text": [
      "Training: : 100%|███████████████████████████████████████████████████████████████████████████| 59/59 [00:08<00:00,  6.59batch/s, accuracy=99.9, loss=0.00801]\n",
      "Validation: : 100%|███████████████████████████████████████████████████████████████████████| 10/10 [00:01<00:00,  8.95batch/s, val_acc=99.2, val_loss=0.0279]\n"
     ]
    },
    {
     "name": "stdout",
     "output_type": "stream",
     "text": [
      "\n",
      "epoch: 35 training loss = 0.0080, training accuracy = 99.94%, val_loss = 0.0279, val_accuracy = 99.16% & LR = 0.1852\n",
      "\n"
     ]
    },
    {
     "name": "stderr",
     "output_type": "stream",
     "text": [
      "Training: : 100%|█████████████████████████████████████████████████████████████████████████████| 59/59 [00:08<00:00,  6.86batch/s, accuracy=99.9, loss=0.008]\n",
      "Validation: : 100%|████████████████████████████████████████████████████████████████████████| 10/10 [00:01<00:00,  9.02batch/s, val_acc=99.1, val_loss=0.029]\n"
     ]
    },
    {
     "name": "stdout",
     "output_type": "stream",
     "text": [
      "\n",
      "epoch: 36 training loss = 0.0080, training accuracy = 99.93%, val_loss = 0.0290, val_accuracy = 99.14% & LR = 0.1638\n",
      "\n"
     ]
    },
    {
     "name": "stderr",
     "output_type": "stream",
     "text": [
      "Training: : 100%|███████████████████████████████████████████████████████████████████████████| 59/59 [00:08<00:00,  6.65batch/s, accuracy=99.9, loss=0.00774]\n",
      "Validation: : 100%|███████████████████████████████████████████████████████████████████████| 10/10 [00:01<00:00,  9.04batch/s, val_acc=99.2, val_loss=0.0284]\n"
     ]
    },
    {
     "name": "stdout",
     "output_type": "stream",
     "text": [
      "\n",
      "epoch: 37 training loss = 0.0077, training accuracy = 99.95%, val_loss = 0.0284, val_accuracy = 99.15% & LR = 0.1433\n",
      "\n"
     ]
    },
    {
     "name": "stderr",
     "output_type": "stream",
     "text": [
      "Training: : 100%|███████████████████████████████████████████████████████████████████████████| 59/59 [00:08<00:00,  6.61batch/s, accuracy=99.9, loss=0.00765]\n",
      "Validation: : 100%|███████████████████████████████████████████████████████████████████████| 10/10 [00:01<00:00,  8.89batch/s, val_acc=99.2, val_loss=0.0281]\n"
     ]
    },
    {
     "name": "stdout",
     "output_type": "stream",
     "text": [
      "\n",
      "epoch: 38 training loss = 0.0076, training accuracy = 99.94%, val_loss = 0.0281, val_accuracy = 99.16% & LR = 0.1237\n",
      "\n"
     ]
    },
    {
     "name": "stderr",
     "output_type": "stream",
     "text": [
      "Training: : 100%|████████████████████████████████████████████████████████████████████████████| 59/59 [00:08<00:00,  6.85batch/s, accuracy=100, loss=0.00745]\n",
      "Validation: : 100%|███████████████████████████████████████████████████████████████████████| 10/10 [00:01<00:00,  8.95batch/s, val_acc=99.2, val_loss=0.0278]\n"
     ]
    },
    {
     "name": "stdout",
     "output_type": "stream",
     "text": [
      "\n",
      "epoch: 39 training loss = 0.0075, training accuracy = 99.95%, val_loss = 0.0278, val_accuracy = 99.15% & LR = 0.1052\n",
      "\n"
     ]
    },
    {
     "name": "stderr",
     "output_type": "stream",
     "text": [
      "Training: : 100%|███████████████████████████████████████████████████████████████████████████| 59/59 [00:08<00:00,  6.81batch/s, accuracy=99.9, loss=0.00756]\n",
      "Validation: : 100%|███████████████████████████████████████████████████████████████████████| 10/10 [00:01<00:00,  8.98batch/s, val_acc=99.2, val_loss=0.0276]\n"
     ]
    },
    {
     "name": "stdout",
     "output_type": "stream",
     "text": [
      "\n",
      "epoch: 40 training loss = 0.0076, training accuracy = 99.95%, val_loss = 0.0276, val_accuracy = 99.19% & LR = 0.0879\n",
      "\n",
      "Saving model with highest val_acc = 99.1900%\n",
      "\n"
     ]
    },
    {
     "name": "stderr",
     "output_type": "stream",
     "text": [
      "Training: : 100%|████████████████████████████████████████████████████████████████████████████| 59/59 [00:08<00:00,  6.76batch/s, accuracy=100, loss=0.00728]\n",
      "Validation: : 100%|███████████████████████████████████████████████████████████████████████| 10/10 [00:01<00:00,  9.15batch/s, val_acc=99.2, val_loss=0.0281]\n"
     ]
    },
    {
     "name": "stdout",
     "output_type": "stream",
     "text": [
      "\n",
      "epoch: 41 training loss = 0.0073, training accuracy = 99.95%, val_loss = 0.0281, val_accuracy = 99.18% & LR = 0.0719\n",
      "\n"
     ]
    },
    {
     "name": "stderr",
     "output_type": "stream",
     "text": [
      "Training: : 100%|███████████████████████████████████████████████████████████████████████████| 59/59 [00:08<00:00,  6.97batch/s, accuracy=99.9, loss=0.00721]\n",
      "Validation: : 100%|████████████████████████████████████████████████████████████████████████| 10/10 [00:01<00:00,  9.40batch/s, val_acc=99.2, val_loss=0.028]\n"
     ]
    },
    {
     "name": "stdout",
     "output_type": "stream",
     "text": [
      "\n",
      "epoch: 42 training loss = 0.0072, training accuracy = 99.95%, val_loss = 0.0280, val_accuracy = 99.22% & LR = 0.0573\n",
      "\n",
      "Saving model with highest val_acc = 99.2200%\n",
      "\n"
     ]
    },
    {
     "name": "stderr",
     "output_type": "stream",
     "text": [
      "Training: : 100%|████████████████████████████████████████████████████████████████████████████| 59/59 [00:08<00:00,  6.79batch/s, accuracy=100, loss=0.00714]\n",
      "Validation: : 100%|████████████████████████████████████████████████████████████████████████| 10/10 [00:01<00:00,  9.12batch/s, val_acc=99.2, val_loss=0.028]\n"
     ]
    },
    {
     "name": "stdout",
     "output_type": "stream",
     "text": [
      "\n",
      "epoch: 43 training loss = 0.0071, training accuracy = 99.96%, val_loss = 0.0280, val_accuracy = 99.21% & LR = 0.0442\n",
      "\n"
     ]
    },
    {
     "name": "stderr",
     "output_type": "stream",
     "text": [
      "Training: : 100%|████████████████████████████████████████████████████████████████████████████| 59/59 [00:08<00:00,  7.05batch/s, accuracy=100, loss=0.00696]\n",
      "Validation: : 100%|███████████████████████████████████████████████████████████████████████| 10/10 [00:01<00:00,  8.74batch/s, val_acc=99.2, val_loss=0.0279]\n"
     ]
    },
    {
     "name": "stdout",
     "output_type": "stream",
     "text": [
      "\n",
      "epoch: 44 training loss = 0.0070, training accuracy = 99.95%, val_loss = 0.0279, val_accuracy = 99.21% & LR = 0.0327\n",
      "\n"
     ]
    },
    {
     "name": "stderr",
     "output_type": "stream",
     "text": [
      "Training: : 100%|█████████████████████████████████████████████████████████████████████████████| 59/59 [00:09<00:00,  6.49batch/s, accuracy=100, loss=0.0069]\n",
      "Validation: : 100%|███████████████████████████████████████████████████████████████████████| 10/10 [00:01<00:00,  8.62batch/s, val_acc=99.2, val_loss=0.0278]\n"
     ]
    },
    {
     "name": "stdout",
     "output_type": "stream",
     "text": [
      "\n",
      "epoch: 45 training loss = 0.0069, training accuracy = 99.96%, val_loss = 0.0278, val_accuracy = 99.21% & LR = 0.0228\n",
      "\n"
     ]
    },
    {
     "name": "stderr",
     "output_type": "stream",
     "text": [
      "Training: : 100%|████████████████████████████████████████████████████████████████████████████| 59/59 [00:08<00:00,  6.61batch/s, accuracy=100, loss=0.00694]\n",
      "Validation: : 100%|███████████████████████████████████████████████████████████████████████| 10/10 [00:01<00:00,  9.13batch/s, val_acc=99.2, val_loss=0.0277]\n"
     ]
    },
    {
     "name": "stdout",
     "output_type": "stream",
     "text": [
      "\n",
      "epoch: 46 training loss = 0.0069, training accuracy = 99.96%, val_loss = 0.0277, val_accuracy = 99.21% & LR = 0.0147\n",
      "\n"
     ]
    },
    {
     "name": "stderr",
     "output_type": "stream",
     "text": [
      "Training: : 100%|████████████████████████████████████████████████████████████████████████████| 59/59 [00:08<00:00,  6.98batch/s, accuracy=100, loss=0.00688]\n",
      "Validation: : 100%|███████████████████████████████████████████████████████████████████████| 10/10 [00:01<00:00,  9.00batch/s, val_acc=99.2, val_loss=0.0278]\n"
     ]
    },
    {
     "name": "stdout",
     "output_type": "stream",
     "text": [
      "\n",
      "epoch: 47 training loss = 0.0069, training accuracy = 99.97%, val_loss = 0.0278, val_accuracy = 99.19% & LR = 0.0083\n",
      "\n"
     ]
    },
    {
     "name": "stderr",
     "output_type": "stream",
     "text": [
      "Training: : 100%|████████████████████████████████████████████████████████████████████████████| 59/59 [00:08<00:00,  6.98batch/s, accuracy=100, loss=0.00678]\n",
      "Validation: : 100%|███████████████████████████████████████████████████████████████████████| 10/10 [00:01<00:00,  9.14batch/s, val_acc=99.2, val_loss=0.0278]\n"
     ]
    },
    {
     "name": "stdout",
     "output_type": "stream",
     "text": [
      "\n",
      "epoch: 48 training loss = 0.0068, training accuracy = 99.96%, val_loss = 0.0278, val_accuracy = 99.19% & LR = 0.0037\n",
      "\n"
     ]
    },
    {
     "name": "stderr",
     "output_type": "stream",
     "text": [
      "Training: : 100%|████████████████████████████████████████████████████████████████████████████| 59/59 [00:08<00:00,  6.75batch/s, accuracy=100, loss=0.00671]\n",
      "Validation: : 100%|███████████████████████████████████████████████████████████████████████| 10/10 [00:01<00:00,  9.23batch/s, val_acc=99.2, val_loss=0.0279]\n"
     ]
    },
    {
     "name": "stdout",
     "output_type": "stream",
     "text": [
      "\n",
      "epoch: 49 training loss = 0.0067, training accuracy = 99.96%, val_loss = 0.0279, val_accuracy = 99.19% & LR = 0.0009\n",
      "\n"
     ]
    },
    {
     "name": "stderr",
     "output_type": "stream",
     "text": [
      "Training: : 100%|████████████████████████████████████████████████████████████████████████████| 59/59 [00:08<00:00,  6.98batch/s, accuracy=100, loss=0.00673]\n",
      "Validation: : 100%|███████████████████████████████████████████████████████████████████████| 10/10 [00:01<00:00,  8.90batch/s, val_acc=99.2, val_loss=0.0279]"
     ]
    },
    {
     "name": "stdout",
     "output_type": "stream",
     "text": [
      "\n",
      "epoch: 50 training loss = 0.0067, training accuracy = 99.97%, val_loss = 0.0279, val_accuracy = 99.20% & LR = 0.0000\n",
      "\n"
     ]
    },
    {
     "name": "stderr",
     "output_type": "stream",
     "text": [
      "\n"
     ]
    }
   ],
   "source": [
    "for epoch in range(num_train_epochs):\n",
    "\n",
    "    # Train and validate model for 1 epoch-\n",
    "    train_loss, train_acc = train_model_progress(\n",
    "        model = model, train_loader = train_loader,\n",
    "        train_dataset = train_dataset\n",
    "    )\n",
    "    \n",
    "    val_loss, val_acc = test_model_progress(\n",
    "        model = model, test_loader = test_loader,\n",
    "        test_dataset = test_dataset\n",
    "    )\n",
    "    \n",
    "    print(f\"\\nepoch: {epoch + 1} training loss = {train_loss:.4f}, \"\n",
    "          f\"training accuracy = {train_acc:.2f}%, val_loss = {val_loss:.4f}\"\n",
    "          f\", val_accuracy = {val_acc:.2f}%\"\n",
    "          f\" & LR = {optimizer.param_groups[0]['lr']:.4f}\\n\")\n",
    "    \n",
    "    training_history[epoch + 1] = {\n",
    "        'loss': train_loss, 'acc': train_acc,\n",
    "        'val_loss': val_loss, 'val_acc': val_acc,\n",
    "        'lr': optimizer.param_groups[0]['lr']\n",
    "    }\n",
    "\n",
    "    \n",
    "    # Save best weights achieved until now-\n",
    "    if (val_acc > best_val_acc):\n",
    "        # update 'best_val_loss' variable to lowest loss encountered so far-\n",
    "        best_val_acc = val_acc\n",
    "\n",
    "        print(f\"Saving model with highest val_acc = {val_acc:.4f}%\\n\")\n",
    "        \n",
    "        # Save trained model with 'best' validation accuracy-\n",
    "        torch.save(model.state_dict(), \"LeNet5_best_model.pth\")\n",
    "         "
   ]
  },
  {
   "cell_type": "code",
   "execution_count": null,
   "id": "01039511-4834-40c6-82b1-f7aade08e2d2",
   "metadata": {},
   "outputs": [],
   "source": []
  },
  {
   "cell_type": "code",
   "execution_count": 27,
   "id": "c9b53260-11e3-4137-862a-5f281cea7526",
   "metadata": {},
   "outputs": [],
   "source": [
    "# Save training metrics as Python3 history for later analysis-\n",
    "with open(\"LeNet5_swish_LARS-training_history.pkl\", \"wb\") as file:\n",
    "    pickle.dump(training_history, file)"
   ]
  },
  {
   "cell_type": "code",
   "execution_count": null,
   "id": "2f725a3c-73bd-42ba-8b04-5413f0860365",
   "metadata": {},
   "outputs": [],
   "source": []
  },
  {
   "cell_type": "code",
   "execution_count": null,
   "id": "6428aaf8-d0cf-4f51-b73e-0959b38e03c9",
   "metadata": {},
   "outputs": [],
   "source": []
  },
  {
   "cell_type": "code",
   "execution_count": 28,
   "id": "73bec9e0-081e-472d-b7fb-fd281c092258",
   "metadata": {},
   "outputs": [
    {
     "data": {
      "image/png": "[encoded data removed]",
      "text/plain": [
       "<Figure size 900x700 with 1 Axes>"
      ]
     },
     "metadata": {},
     "output_type": "display_data"
    }
   ],
   "source": [
    "plt.figure(figsize = (9, 7))\n",
    "plt.plot(list(training_history.keys()), [training_history[k]['acc'] for k in training_history.keys()], label = 'training acc')\n",
    "plt.plot(list(training_history.keys()), [training_history[k]['val_acc'] for k in training_history.keys()], label = 'val acc')\n",
    "plt.title(\"LeNet-5: Accuracy\")\n",
    "plt.xlabel(\"epochs\")\n",
    "plt.ylabel(\"accuracy (%)\")\n",
    "plt.legend(loc = 'best')\n",
    "plt.show()"
   ]
  },
  {
   "cell_type": "code",
   "execution_count": 29,
   "id": "53cab234-d17d-4d76-983a-c18ec6a11718",
   "metadata": {},
   "outputs": [
    {
     "data": {
      "image/png": "[encoded data removed]",
      "text/plain": [
       "<Figure size 900x700 with 1 Axes>"
      ]
     },
     "metadata": {},
     "output_type": "display_data"
    }
   ],
   "source": [
    "plt.figure(figsize = (9, 7))\n",
    "plt.plot(list(training_history.keys()), [training_history[k]['loss'] for k in training_history.keys()], label = 'training loss')\n",
    "plt.plot(list(training_history.keys()), [training_history[k]['val_loss'] for k in training_history.keys()], label = 'val loss')\n",
    "plt.xlabel(\"epochs\")\n",
    "plt.ylabel(\"loss\")\n",
    "plt.legend(loc = 'best')\n",
    "plt.title(\"LeNet-5: Loss\")\n",
    "plt.show()"
   ]
  },
  {
   "cell_type": "code",
   "execution_count": 30,
   "id": "ca778dd8-dc2f-4fae-a9d3-930c9ee92321",
   "metadata": {},
   "outputs": [
    {
     "data": {
      "image/png": "[encoded data removed]",
      "text/plain": [
       "<Figure size 900x700 with 1 Axes>"
      ]
     },
     "metadata": {},
     "output_type": "display_data"
    }
   ],
   "source": [
    "plt.figure(figsize = (9, 7))\n",
    "plt.plot(list(training_history.keys()), [training_history[k]['lr'] for k in training_history.keys()])\n",
    "plt.xlabel(\"epochs\")\n",
    "plt.ylabel(\"lr\")\n",
    "plt.title(\"LeNet-5: Learning-Rate\")\n",
    "plt.show()"
   ]
  },
  {
   "cell_type": "code",
   "execution_count": 31,
   "id": "df5f9b6f-7459-4938-b2a7-d2cb9cd6c38e",
   "metadata": {},
   "outputs": [
    {
     "data": {
      "text/plain": [
       "[0.01468304511145394,\n",
       " 0.008289023880697032,\n",
       " 0.003693497821458702,\n",
       " 0.0009247998800616108,\n",
       " 0.0]"
      ]
     },
     "execution_count": 31,
     "metadata": {},
     "output_type": "execute_result"
    }
   ],
   "source": [
    "# Last 5 lr values-\n",
    "[training_history[k]['lr'] for k in training_history.keys()][-5:]"
   ]
  },
  {
   "cell_type": "code",
   "execution_count": 32,
   "id": "09accd4b-1c8d-4144-98c4-5192ff2111a3",
   "metadata": {},
   "outputs": [
    {
     "data": {
      "text/plain": [
       "[0.05908319185059423,\n",
       " 0.11918505942275041,\n",
       " 0.17928692699490661,\n",
       " 0.2393887945670628,\n",
       " 0.299490662139219]"
      ]
     },
     "execution_count": 32,
     "metadata": {},
     "output_type": "execute_result"
    }
   ],
   "source": [
    "# First 5 lr values-\n",
    "[training_history[k]['lr'] for k in training_history.keys()][:5]"
   ]
  },
  {
   "cell_type": "code",
   "execution_count": null,
   "id": "ea78bae0-6391-4c86-b343-bb1bdfe0fe58",
   "metadata": {},
   "outputs": [],
   "source": []
  },
  {
   "cell_type": "code",
   "execution_count": null,
   "id": "9e18bd48-8726-409e-803a-553678c73f2c",
   "metadata": {},
   "outputs": [],
   "source": []
  },
  {
   "cell_type": "code",
   "execution_count": 33,
   "id": "b531e1fb-0973-4306-9c42-acc48c12daa3",
   "metadata": {},
   "outputs": [],
   "source": [
    "# Save LARS optimizer-\n",
    "torch.save(optimizer.state_dict(), 'LeNet5_bestmodel_swish_lrscheduler_LARS_optim.pth')"
   ]
  },
  {
   "cell_type": "code",
   "execution_count": null,
   "id": "8f7ddca8-968d-44e7-a1ba-0790106b6ab4",
   "metadata": {},
   "outputs": [],
   "source": []
  },
  {
   "cell_type": "code",
   "execution_count": null,
   "id": "1b22094a-4228-410b-a4e3-054b02376223",
   "metadata": {},
   "outputs": [],
   "source": []
  },
  {
   "cell_type": "code",
   "execution_count": 34,
   "id": "a52961a3-70bf-4937-ba83-d6101f00efd4",
   "metadata": {},
   "outputs": [
    {
     "data": {
      "text/plain": [
       "dict_keys(['state', 'param_groups'])"
      ]
     },
     "execution_count": 34,
     "metadata": {},
     "output_type": "execute_result"
    }
   ],
   "source": [
    "optimizer.state_dict().keys()"
   ]
  },
  {
   "cell_type": "code",
   "execution_count": 35,
   "id": "d9240ed1-5cee-401c-b2b7-518dd5be479c",
   "metadata": {},
   "outputs": [
    {
     "data": {
      "text/plain": [
       "dict_keys([0, 1, 2, 3, 4, 5, 6, 7, 8, 9, 10, 11, 12, 13, 14, 15, 16])"
      ]
     },
     "execution_count": 35,
     "metadata": {},
     "output_type": "execute_result"
    }
   ],
   "source": [
    "optimizer.state_dict()['state'].keys()"
   ]
  },
  {
   "cell_type": "code",
   "execution_count": 36,
   "id": "cf27d6f1-6676-43b1-bb0b-ff61707eecd5",
   "metadata": {},
   "outputs": [
    {
     "data": {
      "text/plain": [
       "dict_keys(['lr', 'momentum', 'dampening', 'weight_decay', 'nesterov', 'maximize', 'foreach', 'differentiable', 'params'])"
      ]
     },
     "execution_count": 36,
     "metadata": {},
     "output_type": "execute_result"
    }
   ],
   "source": [
    "optimizer.state_dict()['param_groups'][0].keys()"
   ]
  },
  {
   "cell_type": "code",
   "execution_count": 37,
   "id": "68870100-e11d-4859-8791-3853c494ddcf",
   "metadata": {},
   "outputs": [
    {
     "data": {
      "text/plain": [
       "{'lr': 0.0,\n",
       " 'momentum': 0.9,\n",
       " 'dampening': 0,\n",
       " 'weight_decay': 0.0005,\n",
       " 'nesterov': False,\n",
       " 'maximize': False,\n",
       " 'foreach': None,\n",
       " 'differentiable': False,\n",
       " 'params': [0, 1, 2, 3, 4, 5, 6, 7, 8, 9, 10, 11, 12, 13, 14, 15, 16]}"
      ]
     },
     "execution_count": 37,
     "metadata": {},
     "output_type": "execute_result"
    }
   ],
   "source": [
    "optimizer.state_dict()['param_groups'][0]"
   ]
  },
  {
   "cell_type": "code",
   "execution_count": 38,
   "id": "b0e89ce3-78af-4bc9-b899-718b2e17ce30",
   "metadata": {},
   "outputs": [
    {
     "data": {
      "text/plain": [
       "[0, 1, 2, 3, 4, 5, 6, 7, 8, 9, 10, 11, 12, 13, 14, 15, 16]"
      ]
     },
     "execution_count": 38,
     "metadata": {},
     "output_type": "execute_result"
    }
   ],
   "source": [
    "optimizer.state_dict()['param_groups'][0]['params']"
   ]
  },
  {
   "cell_type": "code",
   "execution_count": 39,
   "id": "f4a858ed-0d64-4abd-b761-aac64bbb72c3",
   "metadata": {},
   "outputs": [
    {
     "data": {
      "text/plain": [
       "dict_keys(['momentum_buffer'])"
      ]
     },
     "execution_count": 39,
     "metadata": {},
     "output_type": "execute_result"
    }
   ],
   "source": [
    "optimizer.state_dict()['state'][0].keys()"
   ]
  },
  {
   "cell_type": "code",
   "execution_count": null,
   "id": "e0ad1ec1-e562-44fd-b67e-5933bfa53be6",
   "metadata": {},
   "outputs": [],
   "source": []
  },
  {
   "cell_type": "code",
   "execution_count": null,
   "id": "6f0e50cd-f193-4b4c-89a1-67a8d37371e7",
   "metadata": {},
   "outputs": [],
   "source": []
  }
 ],
 "metadata": {
  "kernelspec": {
   "display_name": "Python 3 (ipykernel)",
   "language": "python",
   "name": "python3"
  },
  "language_info": {
   "codemirror_mode": {
    "name": "ipython",
    "version": 3
   },
   "file_extension": ".py",
   "mimetype": "text/x-python",
   "name": "python",
   "nbconvert_exporter": "python",
   "pygments_lexer": "ipython3",
   "version": "3.10.13"
  }
 },
 "nbformat": 4,
 "nbformat_minor": 5
}
