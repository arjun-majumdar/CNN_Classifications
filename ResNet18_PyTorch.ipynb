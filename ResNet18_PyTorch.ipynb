{
 "cells": [
  {
   "cell_type": "markdown",
   "id": "756e461a-8a12-46d8-90d0-3fc773f2a40b",
   "metadata": {},
   "source": [
    "# ResNet-18: CIFAR-10 & PyTorch"
   ]
  },
  {
   "cell_type": "code",
   "execution_count": 1,
   "id": "100cf985-e399-4feb-bc92-7df8d42e8de5",
   "metadata": {},
   "outputs": [
    {
     "name": "stdout",
     "output_type": "stream",
     "text": [
      "env: CUDA_DEVICE_ORDER=PCI_BUS_ID\n",
      "env: CUDA_VISIBLE_DEVICES=0\n"
     ]
    }
   ],
   "source": [
    "# Specify GPU to be used-\n",
    "%env CUDA_DEVICE_ORDER = PCI_BUS_ID\n",
    "%env CUDA_VISIBLE_DEVICES = 0"
   ]
  },
  {
   "cell_type": "code",
   "execution_count": 2,
   "id": "af4b440c-8504-4e2f-80b3-e49029b85def",
   "metadata": {},
   "outputs": [
    {
     "name": "stderr",
     "output_type": "stream",
     "text": [
      "/home/arjun/anaconda3/envs/pytorch-gpu/lib/python3.9/site-packages/tqdm/auto.py:22: TqdmWarning: IProgress not found. Please update jupyter and ipywidgets. See https://ipywidgets.readthedocs.io/en/stable/user_install.html\n",
      "  from .autonotebook import tqdm as notebook_tqdm\n"
     ]
    }
   ],
   "source": [
    "import torch\n",
    "import torch.nn as nn\n",
    "import torch.nn.functional as F\n",
    "import torchvision\n",
    "import torchvision.transforms as transforms\n",
    "\n",
    "from tqdm import tqdm\n",
    "from tqdm import trange\n",
    "import matplotlib.pyplot as plt\n",
    "import seaborn as sns\n",
    "import numpy as np\n",
    "import os\n",
    "import pickle"
   ]
  },
  {
   "cell_type": "code",
   "execution_count": null,
   "id": "2b369184-536b-4932-a5ce-916249331590",
   "metadata": {},
   "outputs": [],
   "source": []
  },
  {
   "cell_type": "code",
   "execution_count": null,
   "id": "bdb8cb93-afc1-4a70-8be0-ccc7c548aa58",
   "metadata": {},
   "outputs": [],
   "source": []
  },
  {
   "cell_type": "code",
   "execution_count": 3,
   "id": "52e94d94-1fa2-49f9-9683-4a5eef63690d",
   "metadata": {},
   "outputs": [
    {
     "name": "stdout",
     "output_type": "stream",
     "text": [
      "torch version: 1.11.0\n"
     ]
    }
   ],
   "source": [
    "print(f\"torch version: {torch.__version__}\")"
   ]
  },
  {
   "cell_type": "code",
   "execution_count": 4,
   "id": "17e59fb4-c467-4764-8ff0-7118f738b0f8",
   "metadata": {},
   "outputs": [
    {
     "name": "stdout",
     "output_type": "stream",
     "text": [
      "Number of GPU(s) available = 1\n",
      "Current GPU: 0\n",
      "Current GPU name: NVIDIA GeForce RTX 3080\n"
     ]
    }
   ],
   "source": [
    "# Check if there are multiple devices (i.e., GPU cards)-\n",
    "print(f\"Number of GPU(s) available = {torch.cuda.device_count()}\")\n",
    "\n",
    "# Which GPU Is The Current GPU?\n",
    "# print(f\"current GPU: {torch.cuda.current_device()}\")\n",
    "\n",
    "# Get the name of the current GPU-\n",
    "# print(f\"Current GPU name: {torch.cuda.get_device_name(torch.cuda.current_device())}\")\n",
    "\n",
    "# Is PyTorch using a GPU?\n",
    "# print(f\"Is PyTorch using a GPU? {torch.cuda.is_available()}\")\n",
    "\n",
    "if torch.cuda.is_available():\n",
    "    print(f\"Current GPU: {torch.cuda.current_device()}\")\n",
    "    print(f\"Current GPU name: {torch.cuda.get_device_name(torch.cuda.current_device())}\")\n",
    "else:\n",
    "    print(\"PyTorch does not have access to GPU\")"
   ]
  },
  {
   "cell_type": "code",
   "execution_count": 5,
   "id": "38a7ba68-ac04-4113-ba4c-a1593a4a5e60",
   "metadata": {},
   "outputs": [
    {
     "name": "stdout",
     "output_type": "stream",
     "text": [
      "Available device is cuda\n"
     ]
    }
   ],
   "source": [
    "# Device configuration-\n",
    "device = torch.device('cuda' if torch.cuda.is_available() else 'cpu')\n",
    "print(f'Available device is {device}')"
   ]
  },
  {
   "cell_type": "code",
   "execution_count": null,
   "id": "0e26f888-ade7-4781-ae5e-b2c0b1ebcc25",
   "metadata": {},
   "outputs": [],
   "source": []
  },
  {
   "cell_type": "code",
   "execution_count": null,
   "id": "56e5f3bf-3f54-4c5a-8987-0ffc8dd777c0",
   "metadata": {},
   "outputs": [],
   "source": []
  },
  {
   "cell_type": "code",
   "execution_count": 6,
   "id": "16cf6317-59bd-467b-a2ff-1cbed96a7a4f",
   "metadata": {},
   "outputs": [],
   "source": [
    "# Specify hyper-parameters\n",
    "batch_size = 256\n",
    "num_classes = 10\n",
    "num_epochs = 80"
   ]
  },
  {
   "cell_type": "code",
   "execution_count": null,
   "id": "68bdf0d1-6541-44b9-8b6d-e2d63a66d5c0",
   "metadata": {},
   "outputs": [],
   "source": []
  },
  {
   "cell_type": "code",
   "execution_count": null,
   "id": "d9ca6039-546d-4bbd-8884-ec4ebf800e25",
   "metadata": {},
   "outputs": [],
   "source": []
  },
  {
   "cell_type": "markdown",
   "id": "221db477-251f-41cc-9343-915d82e9a7ed",
   "metadata": {},
   "source": [
    "### CIFAR-10 data pre-processing"
   ]
  },
  {
   "cell_type": "code",
   "execution_count": 7,
   "id": "f43cf104-519f-4206-9f63-5753bfea893f",
   "metadata": {},
   "outputs": [],
   "source": [
    "# Define transformations for training and test sets-\n",
    "transform_train = transforms.Compose(\n",
    "    [\n",
    "      transforms.RandomCrop(32, padding = 4),\n",
    "      transforms.RandomHorizontalFlip(),\n",
    "      transforms.ToTensor(),\n",
    "      transforms.Normalize(\n",
    "        mean = (0.4914, 0.4822, 0.4465),\n",
    "        std = (0.0305, 0.0296, 0.0342)),\n",
    "     ]\n",
    ")\n",
    "\n",
    "transform_test = transforms.Compose(\n",
    "    [\n",
    "      transforms.ToTensor(),\n",
    "      transforms.Normalize(\n",
    "        mean = (0.4942, 0.4846, 0.4498),\n",
    "        std = (0.0304, 0.0295, 0.0342)),\n",
    "     ]\n",
    ")"
   ]
  },
  {
   "cell_type": "code",
   "execution_count": 8,
   "id": "0a8fc5a6-d264-4ece-8272-b4d111a95883",
   "metadata": {},
   "outputs": [
    {
     "name": "stdout",
     "output_type": "stream",
     "text": [
      "Files already downloaded and verified\n",
      "Files already downloaded and verified\n"
     ]
    }
   ],
   "source": [
    "train_dataset = torchvision.datasets.CIFAR10(\n",
    "    root = './data', train = True,\n",
    "    download = True, transform = transform_train\n",
    ")\n",
    "\n",
    "test_dataset = torchvision.datasets.CIFAR10(\n",
    "    root = './data', train = False,\n",
    "    download = True, transform = transform_test\n",
    ")"
   ]
  },
  {
   "cell_type": "code",
   "execution_count": 9,
   "id": "3e2c641b-fcf1-4c6c-9891-ed84f0f6682d",
   "metadata": {},
   "outputs": [],
   "source": [
    "train_loader = torch.utils.data.DataLoader(\n",
    "    dataset = train_dataset, batch_size = 256,\n",
    "    shuffle = True\n",
    "    )\n",
    "\n",
    "test_loader = torch.utils.data.DataLoader(\n",
    "    dataset = test_dataset, batch_size = 256,\n",
    "    shuffle = True\n",
    "    )"
   ]
  },
  {
   "cell_type": "code",
   "execution_count": null,
   "id": "e0ddbc81-e876-443e-8cf4-5f04c59269c0",
   "metadata": {},
   "outputs": [],
   "source": []
  },
  {
   "cell_type": "code",
   "execution_count": 10,
   "id": "908b5192-b185-4601-ae4a-433ce9edb667",
   "metadata": {},
   "outputs": [
    {
     "name": "stdout",
     "output_type": "stream",
     "text": [
      "len(train_dataset) = 50000 & len(test_dataset) = 10000\n"
     ]
    }
   ],
   "source": [
    "print(f\"len(train_dataset) = {len(train_dataset)} & len(test_dataset) = {len(test_dataset)}\")"
   ]
  },
  {
   "cell_type": "code",
   "execution_count": 11,
   "id": "2dbdf9cf-86f8-441c-8325-f7dad7b89cf1",
   "metadata": {},
   "outputs": [
    {
     "name": "stdout",
     "output_type": "stream",
     "text": [
      "len(train_loader) = 196 & len(test_loader) = 40\n"
     ]
    }
   ],
   "source": [
    "print(f\"len(train_loader) = {len(train_loader)} & len(test_loader) = {len(test_loader)}\")"
   ]
  },
  {
   "cell_type": "code",
   "execution_count": 12,
   "id": "8db5329d-c1f4-47d0-8348-73fcf636d7a7",
   "metadata": {},
   "outputs": [
    {
     "data": {
      "text/plain": [
       "(195.3125, 39.0625)"
      ]
     },
     "execution_count": 12,
     "metadata": {},
     "output_type": "execute_result"
    }
   ],
   "source": [
    "len(train_dataset) / 256, len(test_dataset) / 256"
   ]
  },
  {
   "cell_type": "code",
   "execution_count": null,
   "id": "a6575649-dd79-4149-9d83-a92ac5397ebf",
   "metadata": {},
   "outputs": [],
   "source": []
  },
  {
   "cell_type": "code",
   "execution_count": null,
   "id": "f3758b33-2d1a-477c-8194-cb5f42208b82",
   "metadata": {},
   "outputs": [],
   "source": [
    "def calculate_mean_stddev(data_loader):\n",
    "    '''\n",
    "    Compute mean and standard-deviation across all channels for the input\n",
    "    data loader.\n",
    "    '''\n",
    "    # VAR(X) = E(X^2) - E(X) ^ 2\n",
    "    channels_sum, channels_squared_sum, num_batches = 0, 0, 0\n",
    "    \n",
    "    for data, _ in data_loader:\n",
    "        channels_sum += torch.mean(data, dim = [0, 2, 3])\n",
    "        # We don't want mean across channels (1st dimension), hence it is ignored.\n",
    "        \n",
    "        channels_squared_sum += torch.mean(data ** 2, dim = [0, 2, 3])\n",
    "        num_batches += 1\n",
    "    \n",
    "    mean = channels_sum / num_batches\n",
    "    std_dev = (channels_squared_sum / num_batches - (mean ** 2)) * 0.5\n",
    "    # You cannot sum the standard deviation as it is not a linear operation.\n",
    "    \n",
    "    return mean, std_dev\n"
   ]
  },
  {
   "cell_type": "code",
   "execution_count": null,
   "id": "4fedde1e-b366-4cf3-b761-4080f9d485c1",
   "metadata": {},
   "outputs": [],
   "source": [
    "# mean_train, std_dev_train = calculate_mean_stddev(data_loader = train_loader)"
   ]
  },
  {
   "cell_type": "code",
   "execution_count": null,
   "id": "19e1511f-6b4c-4715-8208-528f7ee25235",
   "metadata": {},
   "outputs": [],
   "source": [
    "# mean_test, std_dev_test = calculate_mean_stddev(data_loader = test_loader)"
   ]
  },
  {
   "cell_type": "code",
   "execution_count": null,
   "id": "0ff43bea-7562-4c95-98f7-176ef57fa7df",
   "metadata": {},
   "outputs": [],
   "source": [
    "# print(f\"CIFAR-10 train dataset: mean = {mean_train} & std-dev = {std_dev_train}\")\n",
    "# print(f\"CIFAR-10 train dataset: mean = {mean_test} & std-dev = {std_dev_test}\")\n",
    "\n",
    "# Ignore this due to data augmentations which do not reflect the true data statistics!"
   ]
  },
  {
   "cell_type": "code",
   "execution_count": null,
   "id": "481022ba-8f1f-4185-9a06-6abaf413b0c6",
   "metadata": {},
   "outputs": [],
   "source": []
  },
  {
   "cell_type": "code",
   "execution_count": null,
   "id": "c91680b6-156b-4f8f-b684-2672a08642ee",
   "metadata": {},
   "outputs": [],
   "source": []
  },
  {
   "cell_type": "markdown",
   "id": "7d29d736-5a05-4bfd-8630-561d2243c4c4",
   "metadata": {},
   "source": [
    "### Define _ResNet-18_ CNN architecture"
   ]
  },
  {
   "cell_type": "code",
   "execution_count": 13,
   "id": "71f9ef7c-4e87-49d1-8189-83c253c0ccc8",
   "metadata": {},
   "outputs": [],
   "source": [
    "class ResNet_Block(nn.Module):\n",
    "    '''\n",
    "    VGG block within a VGG-* CNN model\n",
    "    '''\n",
    "    def __init__(\n",
    "        self, num_inp_channels,\n",
    "        num_channels, stride = 1,\n",
    "        dropout = 0.2, use_1x1_conv = False\n",
    "    ):\n",
    "        super(ResNet_Block, self).__init__()\n",
    "        \n",
    "        self.num_inp_channels = num_inp_channels\n",
    "        self.num_channels = num_channels\n",
    "        self.stride = stride\n",
    "        self.dropout = dropout\n",
    "        self.use_1x1_conv = use_1x1_conv\n",
    "    \n",
    "        \n",
    "        self.conv1 = nn.Conv2d(\n",
    "            in_channels = self.num_inp_channels, out_channels = self.num_channels,\n",
    "            kernel_size = 3, padding = 1,\n",
    "            stride = self.stride, bias = False\n",
    "        )\n",
    "        self.bn1 = nn.BatchNorm2d(num_features = self.num_channels)\n",
    "        \n",
    "        self.conv2 = nn.Conv2d(\n",
    "            in_channels = self.num_channels, out_channels = self.num_channels,\n",
    "            kernel_size = 3, padding = 1,\n",
    "            stride = 1, bias = False\n",
    "        )\n",
    "        self.bn2 = nn.BatchNorm2d(num_features = self.num_channels)\n",
    "        self.dropout = nn.Dropout(p = self.dropout)\n",
    "        \n",
    "        if self.use_1x1_conv:\n",
    "            self.conv3 = nn.Conv2d(\n",
    "            in_channels = self.num_inp_channels, out_channels = num_channels,\n",
    "            kernel_size = 1, padding = 0,\n",
    "            stride = self.stride, bias = False\n",
    "            )\n",
    "            self.bn3 = nn.BatchNorm2d(num_features = self.num_channels)\n",
    "        \n",
    "        self.initialize_weights()\n",
    "\n",
    "            \n",
    "    def initialize_weights(self):\n",
    "        for m in self.modules():\n",
    "            # print(m)\n",
    "            if isinstance(m, nn.Conv2d):\n",
    "                nn.init.kaiming_normal_(m.weight)\n",
    "\n",
    "                '''\n",
    "                # Do not initialize bias (due to batchnorm)-\n",
    "                if m.bias is not None:\n",
    "                    nn.init.constant_(m.bias, 0)\n",
    "                '''\n",
    "            \n",
    "            elif isinstance(m, nn.BatchNorm2d):\n",
    "                # Standard initialization for batch normalization-\n",
    "                nn.init.constant_(m.weight, 1)\n",
    "                nn.init.constant_(m.bias, 0)\n",
    "\n",
    "            elif isinstance(m, nn.Linear):\n",
    "                nn.init.kaiming_normal_(m.weight)\n",
    "                nn.init.constant_(m.bias, 0)\n",
    "    \n",
    "    \n",
    "    def forward(self, x):\n",
    "        y = F.relu(self.bn1(self.conv1(x)))\n",
    "        y = self.dropout(F.relu(self.bn2(self.conv2(y))))\n",
    "        \n",
    "        if self.use_1x1_conv:\n",
    "            x = self.bn3(self.conv3(x))\n",
    "            \n",
    "        y += x\n",
    "        return F.relu(self.dropout(y))\n",
    "    \n",
    "    \n",
    "    def shape_computation(self, x):\n",
    "        print(f\"Input shape: {x.shape}\")\n",
    "        y = F.relu(self.bn1(self.conv1(x)))\n",
    "        print(f\"First conv layer output shape: {y.shape}\")\n",
    "        y = self.bn2(self.conv2(y))\n",
    "        print(f\"Second conv layer output shape: {y.shape}\")\n",
    "        \n",
    "        if self.use_1x1_conv:\n",
    "            x = self.bn3(self.conv3(x))\n",
    "            print(f\"Downsample with S = 2; identity connection output shape: {x.shape}\")\n",
    "            \n",
    "        y += x\n",
    "        print(f\"Residual block output shape: {y.shape}\")\n",
    "        return None\n",
    "    "
   ]
  },
  {
   "cell_type": "code",
   "execution_count": null,
   "id": "a54d44ca-04a2-44c7-a345-a075bfe71752",
   "metadata": {},
   "outputs": [],
   "source": []
  },
  {
   "cell_type": "code",
   "execution_count": 14,
   "id": "09d3264d-4dd2-434b-a770-e9317da73586",
   "metadata": {},
   "outputs": [],
   "source": [
    "class ResNet18(nn.Module):\n",
    "    def __init__(self):\n",
    "        super(ResNet18, self).__init__()\n",
    "        \n",
    "        self.conv1 = nn.Conv2d(\n",
    "            in_channels = 3, out_channels = 64,\n",
    "            kernel_size = 3, padding = 1,\n",
    "            stride = 1, bias = False\n",
    "        )\n",
    "        self.bn1 = nn.BatchNorm2d(num_features = 64)\n",
    "        \n",
    "        self.resblock1 = ResNet_Block(\n",
    "            num_inp_channels = 64, num_channels = 64,\n",
    "            stride = 1, dropout = 0.2,\n",
    "            use_1x1_conv = False\n",
    "        )\n",
    "        \n",
    "        self.resblock2 = ResNet_Block(\n",
    "            num_inp_channels = 64, num_channels = 64,\n",
    "            stride = 1, dropout = 0.2,\n",
    "            use_1x1_conv = False\n",
    "        )\n",
    "        \n",
    "        # Downsample-\n",
    "        self.resblock3 = ResNet_Block(\n",
    "            num_inp_channels = 64, num_channels = 128,\n",
    "            stride = 2, dropout = 0.2,\n",
    "            use_1x1_conv = True\n",
    "        )\n",
    "        \n",
    "        self.resblock4 = ResNet_Block(\n",
    "            num_inp_channels = 128, num_channels = 128,\n",
    "            stride = 1, dropout = 0.2,\n",
    "            use_1x1_conv = False\n",
    "        )\n",
    "\n",
    "        # Downsample-\n",
    "        self.resblock5 = ResNet_Block(\n",
    "            num_inp_channels = 128, num_channels = 256,\n",
    "            stride = 2, dropout = 0.2,\n",
    "            use_1x1_conv = True\n",
    "        )\n",
    "\n",
    "        self.resblock6 = ResNet_Block(\n",
    "            num_inp_channels = 256, num_channels = 256,\n",
    "            stride = 1, dropout = 0.2,\n",
    "            use_1x1_conv = False\n",
    "        )\n",
    "\n",
    "        # Downsample-\n",
    "        self.resblock7 = ResNet_Block(\n",
    "            num_inp_channels = 256, num_channels = 512,\n",
    "            stride = 2, dropout = 0.2,\n",
    "            use_1x1_conv = True\n",
    "        )\n",
    "\n",
    "        self.resblock8 = ResNet_Block(\n",
    "            num_inp_channels = 512, num_channels = 512,\n",
    "            stride = 1, dropout = 0.2,\n",
    "            use_1x1_conv = False\n",
    "        )\n",
    "        \n",
    "        self.avg_pool = nn.AvgPool2d(kernel_size = 3, stride = 2)\n",
    "        \n",
    "    \n",
    "    def forward(self, x):\n",
    "        x = F.relu(self.bn1(self.conv1(x)))\n",
    "        x = self.resblock1(x)\n",
    "        x = self.resblock2(x)\n",
    "        x = self.resblock3(x)\n",
    "        x = self.resblock4(x)\n",
    "        x = self.resblock5(x)\n",
    "        x = self.resblock6(x)\n",
    "        x = self.resblock7(x)\n",
    "        x = self.resblock8(x)\n",
    "        x = self.avg_pool(x).squeeze()\n",
    "        return x\n",
    "\n"
   ]
  },
  {
   "cell_type": "code",
   "execution_count": null,
   "id": "ff51a4c1-de95-498f-a139-d87ba32c0d50",
   "metadata": {},
   "outputs": [],
   "source": []
  },
  {
   "cell_type": "code",
   "execution_count": 15,
   "id": "6ef45d08-ae63-48c3-a0b6-0cddade3e56e",
   "metadata": {},
   "outputs": [],
   "source": [
    "# Initialize ResNet-18 architecture-\n",
    "model = ResNet18().to(device)"
   ]
  },
  {
   "cell_type": "code",
   "execution_count": null,
   "id": "f668da02-0433-4c7e-88a4-53cc46a74e01",
   "metadata": {},
   "outputs": [],
   "source": []
  },
  {
   "cell_type": "code",
   "execution_count": 16,
   "id": "e9886192-5dab-405a-bd60-5c857e475f81",
   "metadata": {},
   "outputs": [],
   "source": [
    "# Sanity check-\n",
    "x, y = next(iter(train_loader))\n",
    "x = x.to(device)\n",
    "y = y.to(device)"
   ]
  },
  {
   "cell_type": "code",
   "execution_count": 17,
   "id": "66fdf542-6b9b-4103-b956-215d5d98c3cc",
   "metadata": {},
   "outputs": [
    {
     "data": {
      "text/plain": [
       "(torch.Size([256, 3, 32, 32]), torch.Size([256]))"
      ]
     },
     "execution_count": 17,
     "metadata": {},
     "output_type": "execute_result"
    }
   ],
   "source": [
    "x.shape, y.shape"
   ]
  },
  {
   "cell_type": "code",
   "execution_count": 18,
   "id": "f18e888e-ab51-4432-b7b1-14ec832e4449",
   "metadata": {},
   "outputs": [],
   "source": [
    "out = model(x)"
   ]
  },
  {
   "cell_type": "code",
   "execution_count": 19,
   "id": "baa38272-e519-4a85-9272-cc81611ef427",
   "metadata": {},
   "outputs": [
    {
     "data": {
      "text/plain": [
       "torch.Size([256, 512])"
      ]
     },
     "execution_count": 19,
     "metadata": {},
     "output_type": "execute_result"
    }
   ],
   "source": [
    "out.shape"
   ]
  },
  {
   "cell_type": "code",
   "execution_count": 20,
   "id": "da28bb39-8a36-45dc-b584-588cdf690ea5",
   "metadata": {},
   "outputs": [],
   "source": [
    "del x, y, out"
   ]
  },
  {
   "cell_type": "code",
   "execution_count": null,
   "id": "6528cf16-bb2d-456a-ad5e-14023711eaea",
   "metadata": {},
   "outputs": [],
   "source": []
  },
  {
   "cell_type": "code",
   "execution_count": 21,
   "id": "a8a8d013-9ac8-4096-88bf-8586904ffe23",
   "metadata": {},
   "outputs": [
    {
     "name": "stdout",
     "output_type": "stream",
     "text": [
      "layer.shape = torch.Size([64, 3, 3, 3]) has 1728 parameters\n",
      "layer.shape = torch.Size([64]) has 64 parameters\n",
      "layer.shape = torch.Size([64]) has 64 parameters\n",
      "layer.shape = torch.Size([64, 64, 3, 3]) has 36864 parameters\n",
      "layer.shape = torch.Size([64]) has 64 parameters\n",
      "layer.shape = torch.Size([64]) has 64 parameters\n",
      "layer.shape = torch.Size([64, 64, 3, 3]) has 36864 parameters\n",
      "layer.shape = torch.Size([64]) has 64 parameters\n",
      "layer.shape = torch.Size([64]) has 64 parameters\n",
      "layer.shape = torch.Size([64, 64, 3, 3]) has 36864 parameters\n",
      "layer.shape = torch.Size([64]) has 64 parameters\n",
      "layer.shape = torch.Size([64]) has 64 parameters\n",
      "layer.shape = torch.Size([64, 64, 3, 3]) has 36864 parameters\n",
      "layer.shape = torch.Size([64]) has 64 parameters\n",
      "layer.shape = torch.Size([64]) has 64 parameters\n",
      "layer.shape = torch.Size([128, 64, 3, 3]) has 73728 parameters\n",
      "layer.shape = torch.Size([128]) has 128 parameters\n",
      "layer.shape = torch.Size([128]) has 128 parameters\n",
      "layer.shape = torch.Size([128, 128, 3, 3]) has 147456 parameters\n",
      "layer.shape = torch.Size([128]) has 128 parameters\n",
      "layer.shape = torch.Size([128]) has 128 parameters\n",
      "layer.shape = torch.Size([128, 64, 1, 1]) has 8192 parameters\n",
      "layer.shape = torch.Size([128]) has 128 parameters\n",
      "layer.shape = torch.Size([128]) has 128 parameters\n",
      "layer.shape = torch.Size([128, 128, 3, 3]) has 147456 parameters\n",
      "layer.shape = torch.Size([128]) has 128 parameters\n",
      "layer.shape = torch.Size([128]) has 128 parameters\n",
      "layer.shape = torch.Size([128, 128, 3, 3]) has 147456 parameters\n",
      "layer.shape = torch.Size([128]) has 128 parameters\n",
      "layer.shape = torch.Size([128]) has 128 parameters\n",
      "layer.shape = torch.Size([256, 128, 3, 3]) has 294912 parameters\n",
      "layer.shape = torch.Size([256]) has 256 parameters\n",
      "layer.shape = torch.Size([256]) has 256 parameters\n",
      "layer.shape = torch.Size([256, 256, 3, 3]) has 589824 parameters\n",
      "layer.shape = torch.Size([256]) has 256 parameters\n",
      "layer.shape = torch.Size([256]) has 256 parameters\n",
      "layer.shape = torch.Size([256, 128, 1, 1]) has 32768 parameters\n",
      "layer.shape = torch.Size([256]) has 256 parameters\n",
      "layer.shape = torch.Size([256]) has 256 parameters\n",
      "layer.shape = torch.Size([256, 256, 3, 3]) has 589824 parameters\n",
      "layer.shape = torch.Size([256]) has 256 parameters\n",
      "layer.shape = torch.Size([256]) has 256 parameters\n",
      "layer.shape = torch.Size([256, 256, 3, 3]) has 589824 parameters\n",
      "layer.shape = torch.Size([256]) has 256 parameters\n",
      "layer.shape = torch.Size([256]) has 256 parameters\n",
      "layer.shape = torch.Size([512, 256, 3, 3]) has 1179648 parameters\n",
      "layer.shape = torch.Size([512]) has 512 parameters\n",
      "layer.shape = torch.Size([512]) has 512 parameters\n",
      "layer.shape = torch.Size([512, 512, 3, 3]) has 2359296 parameters\n",
      "layer.shape = torch.Size([512]) has 512 parameters\n",
      "layer.shape = torch.Size([512]) has 512 parameters\n",
      "layer.shape = torch.Size([512, 256, 1, 1]) has 131072 parameters\n",
      "layer.shape = torch.Size([512]) has 512 parameters\n",
      "layer.shape = torch.Size([512]) has 512 parameters\n",
      "layer.shape = torch.Size([512, 512, 3, 3]) has 2359296 parameters\n",
      "layer.shape = torch.Size([512]) has 512 parameters\n",
      "layer.shape = torch.Size([512]) has 512 parameters\n",
      "layer.shape = torch.Size([512, 512, 3, 3]) has 2359296 parameters\n",
      "layer.shape = torch.Size([512]) has 512 parameters\n",
      "layer.shape = torch.Size([512]) has 512 parameters\n"
     ]
    }
   ],
   "source": [
    "# Count number of layer-wise parameters and total parameters-\n",
    "tot_params = 0\n",
    "for param in model.parameters():\n",
    "    print(f\"layer.shape = {param.shape} has {param.nelement()} parameters\")\n",
    "    tot_params += param.nelement()"
   ]
  },
  {
   "cell_type": "code",
   "execution_count": 22,
   "id": "8193813b-afa5-41f4-a2c5-c7ee025ef21d",
   "metadata": {},
   "outputs": [
    {
     "name": "stdout",
     "output_type": "stream",
     "text": [
      "Total number of parameters in ResNet-18 CNN = 11168832\n"
     ]
    }
   ],
   "source": [
    "print(f\"Total number of parameters in ResNet-18 CNN = {tot_params}\")"
   ]
  },
  {
   "cell_type": "code",
   "execution_count": null,
   "id": "1948972f-b576-423c-8f72-361ec086d61a",
   "metadata": {},
   "outputs": [],
   "source": []
  },
  {
   "cell_type": "code",
   "execution_count": null,
   "id": "31c63b41-09c5-4c44-9962-137bc38b1bbd",
   "metadata": {},
   "outputs": [],
   "source": [
    "'''\n",
    "# Print layer names-\n",
    "for layer in model.state_dict().keys():\n",
    "    print(f\"{layer} has dimension = {model.state_dict()[layer].shape}\")\n",
    "'''"
   ]
  },
  {
   "cell_type": "code",
   "execution_count": null,
   "id": "802da96e-e01c-4493-bdee-61e82de4f884",
   "metadata": {},
   "outputs": [],
   "source": [
    "# Save random initial weights-\n",
    "# torch.save(model.state_dict(), 'ResNet18_random_weights.pth')\n",
    "\n",
    "# Load randomly initialised weights-\n",
    "# model.load_state_dict(torch.load('VGG18_random_weights_dropouts.pth'))"
   ]
  },
  {
   "cell_type": "code",
   "execution_count": null,
   "id": "d4f7b707-5ce7-4e8b-95c7-4c6a2d93bc72",
   "metadata": {},
   "outputs": [],
   "source": []
  },
  {
   "cell_type": "code",
   "execution_count": null,
   "id": "c40772a8-c359-4daf-809d-20e6be8620d2",
   "metadata": {},
   "outputs": [],
   "source": []
  },
  {
   "cell_type": "markdown",
   "id": "18abc5e2-3a18-4b92-b121-f68f0000e7de",
   "metadata": {},
   "source": [
    "### Train model with learning rate scheduler\n",
    "\n",
    "Training dataset = 50000, batch size = 256, number of training steps/iterations per epoch = 50000 / 256 = 195.3125 = 195\n",
    "\n",
    "After an initial linear learning rate warmup of 13 epochs or 2539 training steps:\n",
    "\n",
    "- For the next 32 epochs, or, 6250 steps - until 43rd epoch, use lr = 0.1.\n",
    "\n",
    "- For the next 25 epochs, or, 4882 steps - until 68th epoch, use lr = 0.01.\n",
    "\n",
    "- For remaining epochs (13 epochs), use lr = 0.001."
   ]
  },
  {
   "cell_type": "code",
   "execution_count": 23,
   "id": "520b76f0-0f7e-4c11-bcdc-376b18bdec1d",
   "metadata": {},
   "outputs": [],
   "source": [
    "boundaries = [6250, 11132]\n",
    "values = [0.1, 0.01, 0.001]"
   ]
  },
  {
   "cell_type": "code",
   "execution_count": 24,
   "id": "a627f835-dbdd-44e9-8dbf-5f464b344f6e",
   "metadata": {},
   "outputs": [],
   "source": [
    "# Define loss function and optimizer-\n",
    "loss = nn.CrossEntropyLoss()\n",
    "\n",
    "# optimizer = torch.optim.Adam(model.parameters(), lr = learning_rate)\n",
    "optimizer = torch.optim.SGD(model.parameters(), lr = 0.0, momentum = 0.9, weight_decay = 5e-4)"
   ]
  },
  {
   "cell_type": "code",
   "execution_count": 25,
   "id": "238c80c5-fda5-4648-8bec-bffe7acf41d9",
   "metadata": {},
   "outputs": [
    {
     "data": {
      "text/plain": [
       "0.0"
      ]
     },
     "execution_count": 25,
     "metadata": {},
     "output_type": "execute_result"
    }
   ],
   "source": [
    "# Sanity check-\n",
    "optimizer.param_groups[0]['lr']"
   ]
  },
  {
   "cell_type": "code",
   "execution_count": null,
   "id": "be4fa96b-c20f-46ef-ac9c-752f488e99bf",
   "metadata": {},
   "outputs": [],
   "source": []
  },
  {
   "cell_type": "code",
   "execution_count": 26,
   "id": "60fd6ce2-fede-4027-ab16-11e9d7e045e3",
   "metadata": {},
   "outputs": [],
   "source": [
    "def decay_function(step, boundaries = [6250, 11132], values = [0.1, 0.01, 0.001]):\n",
    "    \n",
    "    for idx, bound in enumerate(boundaries):\n",
    "        if step < bound:\n",
    "            return values[idx]\n",
    "\n",
    "    return values[-1]\n"
   ]
  },
  {
   "cell_type": "code",
   "execution_count": null,
   "id": "08e60e2a-96d9-4768-8963-85845f1d4ce8",
   "metadata": {},
   "outputs": [],
   "source": []
  },
  {
   "cell_type": "code",
   "execution_count": 27,
   "id": "14cceaf3-3f0c-457e-8b22-ada8ab9aec07",
   "metadata": {},
   "outputs": [],
   "source": [
    "class schedule():\n",
    "\n",
    "    def __init__(self, initial_learning_rate = 0.1, warmup_steps = 1000, decay_func = None):\n",
    "        self.initial_learning_rate = initial_learning_rate\n",
    "        self.warmup_steps = warmup_steps\n",
    "        self.decay_func = decay_func\n",
    "        self.warmup_step_size = initial_learning_rate/warmup_steps\n",
    "        self.current_lr = 0\n",
    "\n",
    "    def get_lr(self, step):\n",
    "        if step == 0:\n",
    "            return self.current_lr\n",
    "        elif step <= self.warmup_steps:\n",
    "            self.current_lr+=self.warmup_step_size\n",
    "            return self.current_lr\n",
    "        elif step > self.warmup_steps:\n",
    "            if self.decay_func:\n",
    "                return self.decay_func(step)\n",
    "        else:\n",
    "            return self.current_lr\n",
    "        "
   ]
  },
  {
   "cell_type": "code",
   "execution_count": null,
   "id": "7c11bba3-67c4-4efd-bcb5-1c4ee42e27cb",
   "metadata": {},
   "outputs": [],
   "source": []
  },
  {
   "cell_type": "code",
   "execution_count": 28,
   "id": "1ad3bc9a-6491-4742-9054-9c241de1043f",
   "metadata": {},
   "outputs": [],
   "source": [
    "# Initial linear LR warmup: 195.3125 x 13 = 2549 steps in 13 epochs.\n",
    "custom_lr_scheduler = schedule(\n",
    "    initial_learning_rate = 0.1, warmup_steps = 2539,\n",
    "    decay_func = decay_function\n",
    ")"
   ]
  },
  {
   "cell_type": "code",
   "execution_count": null,
   "id": "fbe552ef-1d70-42ae-a300-1c6151532f7c",
   "metadata": {},
   "outputs": [],
   "source": []
  },
  {
   "cell_type": "code",
   "execution_count": 29,
   "id": "3cf6339d-8888-43a0-9dbf-7555ccc6b614",
   "metadata": {},
   "outputs": [],
   "source": [
    "step = 0"
   ]
  },
  {
   "cell_type": "code",
   "execution_count": null,
   "id": "098563f6-dc50-41e7-a011-c3e1e8b5780a",
   "metadata": {},
   "outputs": [],
   "source": []
  },
  {
   "cell_type": "code",
   "execution_count": 30,
   "id": "4cfdc866-cbd5-41e3-a809-0787e78d1b6c",
   "metadata": {},
   "outputs": [],
   "source": [
    "def train_model_progress(model, train_loader):\n",
    "    '''\n",
    "    Function to perform one epoch of training by using 'train_loader'.\n",
    "    Returns loss and number of correct predictions for this epoch.\n",
    "    '''\n",
    "    running_loss = 0.0\n",
    "    running_corrects = 0.0\n",
    "    \n",
    "    model.train()\n",
    "    \n",
    "    with tqdm(train_loader, unit = 'batch') as tepoch:\n",
    "        for images, labels in tepoch:\n",
    "            tepoch.set_description(f\"Training: \")\n",
    "            \n",
    "            images = images.to(device)\n",
    "            labels = labels.to(device)\n",
    "            \n",
    "            # Get model predictions-\n",
    "            outputs = model(images)\n",
    "            \n",
    "            # Compute loss-\n",
    "            J = loss(outputs, labels)\n",
    "            \n",
    "            # Empty accumulated gradients-\n",
    "            optimizer.zero_grad()\n",
    "            \n",
    "            # Perform backprop-\n",
    "            J.backward()\n",
    "            \n",
    "            # Update parameters-\n",
    "            optimizer.step()\n",
    "            \n",
    "            global step\n",
    "            optimizer.param_groups[0]['lr'] = custom_lr_scheduler.get_lr(step)\n",
    "\n",
    "            step += 1\n",
    "            \n",
    "            # Compute model's performance statistics-\n",
    "            running_loss += J.item() * images.size(0)\n",
    "            _, predicted = torch.max(outputs, 1)\n",
    "            running_corrects += torch.sum(predicted == labels.data)\n",
    "            \n",
    "            tepoch.set_postfix(\n",
    "                loss = running_loss / len(train_dataset),\n",
    "                accuracy = (running_corrects.double().cpu().numpy() / len(train_dataset)) * 100\n",
    "            )\n",
    "            \n",
    "    \n",
    "    train_loss = running_loss / len(train_dataset)\n",
    "    train_acc = (running_corrects.double() / len(train_dataset)) * 100\n",
    "    \n",
    "\n",
    "    # return running_loss, running_corrects\n",
    "    return train_loss, train_acc.cpu().numpy()\n"
   ]
  },
  {
   "cell_type": "code",
   "execution_count": 31,
   "id": "9cbcf1a6-e97b-4e78-88df-b0dbbb15b459",
   "metadata": {},
   "outputs": [],
   "source": [
    "def test_model_progress(model, test_loader):\n",
    "    total = 0.0\n",
    "    correct = 0.0\n",
    "    running_loss_val = 0.0\n",
    "\n",
    "    with torch.no_grad():\n",
    "        with tqdm(test_loader, unit = 'batch') as tepoch:\n",
    "            for images, labels in tepoch:\n",
    "                tepoch.set_description(f\"Validation: \")\n",
    "                \n",
    "                images = images.to(device)\n",
    "                labels = labels.to(device)\n",
    "                \n",
    "                # Set model to evaluation mode-\n",
    "                model.eval()\n",
    "            \n",
    "                # Predict using trained model-\n",
    "                outputs = model(images)\n",
    "                _, y_pred = torch.max(outputs, 1)\n",
    "                \n",
    "                # Compute validation loss-\n",
    "                J_val = loss(outputs, labels)\n",
    "                \n",
    "                running_loss_val += J_val.item() * labels.size(0)\n",
    "    \n",
    "                # Total number of labels-\n",
    "                total += labels.size(0)\n",
    "\n",
    "                # Total number of correct predictions-\n",
    "                correct += (y_pred == labels).sum()\n",
    "                \n",
    "                tepoch.set_postfix(\n",
    "                    val_loss = running_loss_val / len(test_dataset),\n",
    "                    val_acc = 100 * (correct.cpu().numpy() / total)\n",
    "                )\n",
    "            \n",
    "        \n",
    "    # return (running_loss_val, correct, total)\n",
    "    val_loss = running_loss_val / len(test_dataset)\n",
    "    val_acc = (correct / total) * 100\n",
    "\n",
    "    return val_loss, val_acc.cpu().numpy()\n"
   ]
  },
  {
   "cell_type": "code",
   "execution_count": null,
   "id": "615be219-575d-4f9e-ad99-ba73c065c8b2",
   "metadata": {},
   "outputs": [],
   "source": []
  },
  {
   "cell_type": "code",
   "execution_count": 32,
   "id": "71e9b214-dc52-4f32-9f19-4c893735c754",
   "metadata": {},
   "outputs": [],
   "source": [
    "# Python3 dict to contain training metrics-\n",
    "training_history_lr_scheduler = {}"
   ]
  },
  {
   "cell_type": "code",
   "execution_count": 33,
   "id": "5841cc77-bef8-4057-8bb5-1c92ff3f5077",
   "metadata": {},
   "outputs": [],
   "source": [
    "# Initialize parameters saving 'best' models-\n",
    "best_val_loss = 100\n",
    "loc_patience = 0"
   ]
  },
  {
   "cell_type": "code",
   "execution_count": null,
   "id": "cc0f7cb0-681a-436c-8b1d-f3daa91d3a1e",
   "metadata": {},
   "outputs": [],
   "source": []
  },
  {
   "cell_type": "code",
   "execution_count": 34,
   "id": "126a1cf9-6e7d-43c7-b2ca-4a6078a04a46",
   "metadata": {},
   "outputs": [
    {
     "name": "stderr",
     "output_type": "stream",
     "text": [
      "Training: : 100%|████████████████████████████████████████████████████████████████████████| 196/196 [00:25<00:00,  7.61batch/s, accuracy=14.2, loss=4.49]\n",
      "Validation: : 100%|██████████████████████████████████████████████████████████████████████| 40/40 [00:01<00:00, 22.05batch/s, val_acc=12.6, val_loss=4.2]\n"
     ]
    },
    {
     "name": "stdout",
     "output_type": "stream",
     "text": [
      "\n",
      "epoch: 1 training loss = 4.4880, training accuracy = 14.21%, val_loss = 4.1957, val_accuracy = 12.58% & LR = 0.0077\n",
      "\n",
      "Saving model with lowest val_loss = 4.1957\n",
      "\n"
     ]
    },
    {
     "name": "stderr",
     "output_type": "stream",
     "text": [
      "Training: : 100%|████████████████████████████████████████████████████████████████████████| 196/196 [00:25<00:00,  7.62batch/s, accuracy=27.5, loss=2.49]\n",
      "Validation: : 100%|█████████████████████████████████████████████████████████████████████| 40/40 [00:01<00:00, 22.14batch/s, val_acc=26.9, val_loss=2.69]\n"
     ]
    },
    {
     "name": "stdout",
     "output_type": "stream",
     "text": [
      "\n",
      "epoch: 2 training loss = 2.4922, training accuracy = 27.52%, val_loss = 2.6890, val_accuracy = 26.93% & LR = 0.0154\n",
      "\n",
      "Saving model with lowest val_loss = 2.6890\n",
      "\n"
     ]
    },
    {
     "name": "stderr",
     "output_type": "stream",
     "text": [
      "Training: : 100%|████████████████████████████████████████████████████████████████████████| 196/196 [00:25<00:00,  7.59batch/s, accuracy=34.3, loss=2.17]\n",
      "Validation: : 100%|█████████████████████████████████████████████████████████████████████| 40/40 [00:01<00:00, 22.11batch/s, val_acc=42.3, val_loss=1.88]\n"
     ]
    },
    {
     "name": "stdout",
     "output_type": "stream",
     "text": [
      "\n",
      "epoch: 3 training loss = 2.1685, training accuracy = 34.31%, val_loss = 1.8820, val_accuracy = 42.32% & LR = 0.0231\n",
      "\n",
      "Saving model with lowest val_loss = 1.8820\n",
      "\n"
     ]
    },
    {
     "name": "stderr",
     "output_type": "stream",
     "text": [
      "Training: : 100%|████████████████████████████████████████████████████████████████████████| 196/196 [00:25<00:00,  7.57batch/s, accuracy=40.9, loss=1.95]\n",
      "Validation: : 100%|█████████████████████████████████████████████████████████████████████| 40/40 [00:01<00:00, 22.11batch/s, val_acc=48.7, val_loss=1.76]\n"
     ]
    },
    {
     "name": "stdout",
     "output_type": "stream",
     "text": [
      "\n",
      "epoch: 4 training loss = 1.9535, training accuracy = 40.91%, val_loss = 1.7640, val_accuracy = 48.70% & LR = 0.0308\n",
      "\n",
      "Saving model with lowest val_loss = 1.7640\n",
      "\n"
     ]
    },
    {
     "name": "stderr",
     "output_type": "stream",
     "text": [
      "Training: : 100%|████████████████████████████████████████████████████████████████████████| 196/196 [00:25<00:00,  7.55batch/s, accuracy=48.1, loss=1.73]\n",
      "Validation: : 100%|█████████████████████████████████████████████████████████████████████| 40/40 [00:01<00:00, 22.06batch/s, val_acc=49.4, val_loss=1.96]\n"
     ]
    },
    {
     "name": "stdout",
     "output_type": "stream",
     "text": [
      "\n",
      "epoch: 5 training loss = 1.7279, training accuracy = 48.06%, val_loss = 1.9610, val_accuracy = 49.36% & LR = 0.0386\n",
      "\n"
     ]
    },
    {
     "name": "stderr",
     "output_type": "stream",
     "text": [
      "Training: : 100%|████████████████████████████████████████████████████████████████████████| 196/196 [00:26<00:00,  7.54batch/s, accuracy=53.3, loss=1.58]\n",
      "Validation: : 100%|█████████████████████████████████████████████████████████████████████| 40/40 [00:01<00:00, 22.11batch/s, val_acc=56.6, val_loss=1.89]\n"
     ]
    },
    {
     "name": "stdout",
     "output_type": "stream",
     "text": [
      "\n",
      "epoch: 6 training loss = 1.5753, training accuracy = 53.29%, val_loss = 1.8909, val_accuracy = 56.65% & LR = 0.0463\n",
      "\n"
     ]
    },
    {
     "name": "stderr",
     "output_type": "stream",
     "text": [
      "Training: : 100%|████████████████████████████████████████████████████████████████████████| 196/196 [00:25<00:00,  7.54batch/s, accuracy=57.6, loss=1.45]\n",
      "Validation: : 100%|█████████████████████████████████████████████████████████████████████| 40/40 [00:01<00:00, 22.05batch/s, val_acc=63.9, val_loss=1.25]\n"
     ]
    },
    {
     "name": "stdout",
     "output_type": "stream",
     "text": [
      "\n",
      "epoch: 7 training loss = 1.4450, training accuracy = 57.58%, val_loss = 1.2546, val_accuracy = 63.90% & LR = 0.0540\n",
      "\n",
      "Saving model with lowest val_loss = 1.2546\n",
      "\n"
     ]
    },
    {
     "name": "stderr",
     "output_type": "stream",
     "text": [
      "Training: : 100%|████████████████████████████████████████████████████████████████████████| 196/196 [00:26<00:00,  7.54batch/s, accuracy=60.7, loss=1.34]\n",
      "Validation: : 100%|█████████████████████████████████████████████████████████████████████| 40/40 [00:01<00:00, 22.07batch/s, val_acc=54.8, val_loss=1.76]\n"
     ]
    },
    {
     "name": "stdout",
     "output_type": "stream",
     "text": [
      "\n",
      "epoch: 8 training loss = 1.3439, training accuracy = 60.70%, val_loss = 1.7612, val_accuracy = 54.83% & LR = 0.0617\n",
      "\n"
     ]
    },
    {
     "name": "stderr",
     "output_type": "stream",
     "text": [
      "Training: : 100%|████████████████████████████████████████████████████████████████████████| 196/196 [00:26<00:00,  7.51batch/s, accuracy=63.2, loss=1.27]\n",
      "Validation: : 100%|█████████████████████████████████████████████████████████████████████| 40/40 [00:01<00:00, 22.14batch/s, val_acc=60.6, val_loss=1.71]\n"
     ]
    },
    {
     "name": "stdout",
     "output_type": "stream",
     "text": [
      "\n",
      "epoch: 9 training loss = 1.2673, training accuracy = 63.25%, val_loss = 1.7128, val_accuracy = 60.60% & LR = 0.0694\n",
      "\n"
     ]
    },
    {
     "name": "stderr",
     "output_type": "stream",
     "text": [
      "Training: : 100%|█████████████████████████████████████████████████████████████████████████| 196/196 [00:26<00:00,  7.49batch/s, accuracy=65.3, loss=1.2]\n",
      "Validation: : 100%|██████████████████████████████████████████████████████████████████████| 40/40 [00:01<00:00, 22.08batch/s, val_acc=68.2, val_loss=1.3]\n"
     ]
    },
    {
     "name": "stdout",
     "output_type": "stream",
     "text": [
      "\n",
      "epoch: 10 training loss = 1.1951, training accuracy = 65.32%, val_loss = 1.3021, val_accuracy = 68.16% & LR = 0.0772\n",
      "\n"
     ]
    },
    {
     "name": "stderr",
     "output_type": "stream",
     "text": [
      "Training: : 100%|████████████████████████████████████████████████████████████████████████| 196/196 [00:26<00:00,  7.48batch/s, accuracy=67.7, loss=1.12]\n",
      "Validation: : 100%|█████████████████████████████████████████████████████████████████████| 40/40 [00:01<00:00, 22.06batch/s, val_acc=70.8, val_loss=1.04]\n"
     ]
    },
    {
     "name": "stdout",
     "output_type": "stream",
     "text": [
      "\n",
      "epoch: 11 training loss = 1.1216, training accuracy = 67.68%, val_loss = 1.0358, val_accuracy = 70.77% & LR = 0.0849\n",
      "\n",
      "Saving model with lowest val_loss = 1.0358\n",
      "\n"
     ]
    },
    {
     "name": "stderr",
     "output_type": "stream",
     "text": [
      "Training: : 100%|████████████████████████████████████████████████████████████████████████| 196/196 [00:26<00:00,  7.47batch/s, accuracy=69.7, loss=1.06]\n",
      "Validation: : 100%|█████████████████████████████████████████████████████████████████████| 40/40 [00:01<00:00, 22.01batch/s, val_acc=69.9, val_loss=1.22]\n"
     ]
    },
    {
     "name": "stdout",
     "output_type": "stream",
     "text": [
      "\n",
      "epoch: 12 training loss = 1.0565, training accuracy = 69.68%, val_loss = 1.2223, val_accuracy = 69.93% & LR = 0.0926\n",
      "\n"
     ]
    },
    {
     "name": "stderr",
     "output_type": "stream",
     "text": [
      "Training: : 100%|████████████████████████████████████████████████████████████████████████| 196/196 [00:26<00:00,  7.47batch/s, accuracy=71.6, loss=1.01]\n",
      "Validation: : 100%|████████████████████████████████████████████████████████████████████| 40/40 [00:01<00:00, 21.97batch/s, val_acc=76.8, val_loss=0.875]\n"
     ]
    },
    {
     "name": "stdout",
     "output_type": "stream",
     "text": [
      "\n",
      "epoch: 13 training loss = 1.0055, training accuracy = 71.60%, val_loss = 0.8748, val_accuracy = 76.82% & LR = 0.1000\n",
      "\n",
      "Saving model with lowest val_loss = 0.8748\n",
      "\n"
     ]
    },
    {
     "name": "stderr",
     "output_type": "stream",
     "text": [
      "Training: : 100%|███████████████████████████████████████████████████████████████████████| 196/196 [00:26<00:00,  7.48batch/s, accuracy=72.6, loss=0.973]\n",
      "Validation: : 100%|█████████████████████████████████████████████████████████████████████| 40/40 [00:01<00:00, 21.99batch/s, val_acc=69.7, val_loss=1.19]\n"
     ]
    },
    {
     "name": "stdout",
     "output_type": "stream",
     "text": [
      "\n",
      "epoch: 14 training loss = 0.9732, training accuracy = 72.64%, val_loss = 1.1860, val_accuracy = 69.71% & LR = 0.1000\n",
      "\n"
     ]
    },
    {
     "name": "stderr",
     "output_type": "stream",
     "text": [
      "Training: : 100%|███████████████████████████████████████████████████████████████████████| 196/196 [00:26<00:00,  7.50batch/s, accuracy=74.3, loss=0.916]\n",
      "Validation: : 100%|████████████████████████████████████████████████████████████████████| 40/40 [00:01<00:00, 22.07batch/s, val_acc=77.5, val_loss=0.811]\n"
     ]
    },
    {
     "name": "stdout",
     "output_type": "stream",
     "text": [
      "\n",
      "epoch: 15 training loss = 0.9165, training accuracy = 74.26%, val_loss = 0.8109, val_accuracy = 77.54% & LR = 0.1000\n",
      "\n",
      "Saving model with lowest val_loss = 0.8109\n",
      "\n"
     ]
    },
    {
     "name": "stderr",
     "output_type": "stream",
     "text": [
      "Training: : 100%|███████████████████████████████████████████████████████████████████████| 196/196 [00:26<00:00,  7.51batch/s, accuracy=75.3, loss=0.875]\n",
      "Validation: : 100%|████████████████████████████████████████████████████████████████████| 40/40 [00:01<00:00, 22.11batch/s, val_acc=76.1, val_loss=0.939]\n"
     ]
    },
    {
     "name": "stdout",
     "output_type": "stream",
     "text": [
      "\n",
      "epoch: 16 training loss = 0.8747, training accuracy = 75.29%, val_loss = 0.9386, val_accuracy = 76.10% & LR = 0.1000\n",
      "\n"
     ]
    },
    {
     "name": "stderr",
     "output_type": "stream",
     "text": [
      "Training: : 100%|██████████████████████████████████████████████████████████████████████████| 196/196 [00:26<00:00,  7.52batch/s, accuracy=76, loss=0.86]\n",
      "Validation: : 100%|████████████████████████████████████████████████████████████████████| 40/40 [00:01<00:00, 22.12batch/s, val_acc=76.8, val_loss=0.888]\n"
     ]
    },
    {
     "name": "stdout",
     "output_type": "stream",
     "text": [
      "\n",
      "epoch: 17 training loss = 0.8597, training accuracy = 76.00%, val_loss = 0.8880, val_accuracy = 76.83% & LR = 0.1000\n",
      "\n"
     ]
    },
    {
     "name": "stderr",
     "output_type": "stream",
     "text": [
      "Training: : 100%|███████████████████████████████████████████████████████████████████████| 196/196 [00:26<00:00,  7.52batch/s, accuracy=77.1, loss=0.827]\n",
      "Validation: : 100%|█████████████████████████████████████████████████████████████████████| 40/40 [00:01<00:00, 22.10batch/s, val_acc=70.9, val_loss=1.17]\n"
     ]
    },
    {
     "name": "stdout",
     "output_type": "stream",
     "text": [
      "\n",
      "epoch: 18 training loss = 0.8269, training accuracy = 77.05%, val_loss = 1.1727, val_accuracy = 70.94% & LR = 0.1000\n",
      "\n"
     ]
    },
    {
     "name": "stderr",
     "output_type": "stream",
     "text": [
      "Training: : 100%|███████████████████████████████████████████████████████████████████████| 196/196 [00:26<00:00,  7.52batch/s, accuracy=77.6, loss=0.803]\n",
      "Validation: : 100%|██████████████████████████████████████████████████████████████████████| 40/40 [00:01<00:00, 22.11batch/s, val_acc=78, val_loss=0.819]\n"
     ]
    },
    {
     "name": "stdout",
     "output_type": "stream",
     "text": [
      "\n",
      "epoch: 19 training loss = 0.8034, training accuracy = 77.60%, val_loss = 0.8187, val_accuracy = 78.04% & LR = 0.1000\n",
      "\n"
     ]
    },
    {
     "name": "stderr",
     "output_type": "stream",
     "text": [
      "Training: : 100%|█████████████████████████████████████████████████████████████████████████| 196/196 [00:26<00:00,  7.51batch/s, accuracy=77.7, loss=0.8]\n",
      "Validation: : 100%|████████████████████████████████████████████████████████████████████| 40/40 [00:01<00:00, 22.11batch/s, val_acc=79.5, val_loss=0.765]\n"
     ]
    },
    {
     "name": "stdout",
     "output_type": "stream",
     "text": [
      "\n",
      "epoch: 20 training loss = 0.8004, training accuracy = 77.66%, val_loss = 0.7647, val_accuracy = 79.45% & LR = 0.1000\n",
      "\n",
      "Saving model with lowest val_loss = 0.7647\n",
      "\n"
     ]
    },
    {
     "name": "stderr",
     "output_type": "stream",
     "text": [
      "Training: : 100%|███████████████████████████████████████████████████████████████████████| 196/196 [00:26<00:00,  7.51batch/s, accuracy=78.6, loss=0.768]\n",
      "Validation: : 100%|█████████████████████████████████████████████████████████████████████| 40/40 [00:01<00:00, 22.02batch/s, val_acc=75.1, val_loss=1.01]\n"
     ]
    },
    {
     "name": "stdout",
     "output_type": "stream",
     "text": [
      "\n",
      "epoch: 21 training loss = 0.7684, training accuracy = 78.61%, val_loss = 1.0060, val_accuracy = 75.06% & LR = 0.1000\n",
      "\n"
     ]
    },
    {
     "name": "stderr",
     "output_type": "stream",
     "text": [
      "Training: : 100%|███████████████████████████████████████████████████████████████████████| 196/196 [00:26<00:00,  7.52batch/s, accuracy=78.7, loss=0.774]\n",
      "Validation: : 100%|████████████████████████████████████████████████████████████████████| 40/40 [00:01<00:00, 21.99batch/s, val_acc=82.4, val_loss=0.672]\n"
     ]
    },
    {
     "name": "stdout",
     "output_type": "stream",
     "text": [
      "\n",
      "epoch: 22 training loss = 0.7737, training accuracy = 78.73%, val_loss = 0.6717, val_accuracy = 82.38% & LR = 0.1000\n",
      "\n",
      "Saving model with lowest val_loss = 0.6717\n",
      "\n"
     ]
    },
    {
     "name": "stderr",
     "output_type": "stream",
     "text": [
      "Training: : 100%|█████████████████████████████████████████████████████████████████████████| 196/196 [00:26<00:00,  7.51batch/s, accuracy=79, loss=0.763]\n",
      "Validation: : 100%|█████████████████████████████████████████████████████████████████████| 40/40 [00:01<00:00, 22.09batch/s, val_acc=82.6, val_loss=0.65]\n"
     ]
    },
    {
     "name": "stdout",
     "output_type": "stream",
     "text": [
      "\n",
      "epoch: 23 training loss = 0.7629, training accuracy = 78.98%, val_loss = 0.6499, val_accuracy = 82.59% & LR = 0.1000\n",
      "\n",
      "Saving model with lowest val_loss = 0.6499\n",
      "\n"
     ]
    },
    {
     "name": "stderr",
     "output_type": "stream",
     "text": [
      "Training: : 100%|███████████████████████████████████████████████████████████████████████| 196/196 [00:26<00:00,  7.51batch/s, accuracy=79.5, loss=0.744]\n",
      "Validation: : 100%|█████████████████████████████████████████████████████████████████████| 40/40 [00:01<00:00, 21.98batch/s, val_acc=74.1, val_loss=1.09]\n"
     ]
    },
    {
     "name": "stdout",
     "output_type": "stream",
     "text": [
      "\n",
      "epoch: 24 training loss = 0.7440, training accuracy = 79.47%, val_loss = 1.0943, val_accuracy = 74.13% & LR = 0.1000\n",
      "\n"
     ]
    },
    {
     "name": "stderr",
     "output_type": "stream",
     "text": [
      "Training: : 100%|███████████████████████████████████████████████████████████████████████| 196/196 [00:26<00:00,  7.51batch/s, accuracy=79.5, loss=0.747]\n",
      "Validation: : 100%|████████████████████████████████████████████████████████████████████| 40/40 [00:01<00:00, 22.11batch/s, val_acc=80.5, val_loss=0.743]\n"
     ]
    },
    {
     "name": "stdout",
     "output_type": "stream",
     "text": [
      "\n",
      "epoch: 25 training loss = 0.7466, training accuracy = 79.53%, val_loss = 0.7431, val_accuracy = 80.53% & LR = 0.1000\n",
      "\n"
     ]
    },
    {
     "name": "stderr",
     "output_type": "stream",
     "text": [
      "Training: : 100%|█████████████████████████████████████████████████████████████████████████| 196/196 [00:26<00:00,  7.52batch/s, accuracy=80, loss=0.729]\n",
      "Validation: : 100%|████████████████████████████████████████████████████████████████████| 40/40 [00:01<00:00, 22.10batch/s, val_acc=82.2, val_loss=0.705]\n"
     ]
    },
    {
     "name": "stdout",
     "output_type": "stream",
     "text": [
      "\n",
      "epoch: 26 training loss = 0.7292, training accuracy = 79.97%, val_loss = 0.7054, val_accuracy = 82.25% & LR = 0.1000\n",
      "\n"
     ]
    },
    {
     "name": "stderr",
     "output_type": "stream",
     "text": [
      "Training: : 100%|██████████████████████████████████████████████████████████████████████████| 196/196 [00:26<00:00,  7.51batch/s, accuracy=80, loss=0.73]\n",
      "Validation: : 100%|███████████████████████████████████████████████████████████████████████| 40/40 [00:01<00:00, 21.96batch/s, val_acc=82, val_loss=0.68]\n"
     ]
    },
    {
     "name": "stdout",
     "output_type": "stream",
     "text": [
      "\n",
      "epoch: 27 training loss = 0.7299, training accuracy = 80.00%, val_loss = 0.6799, val_accuracy = 81.97% & LR = 0.1000\n",
      "\n"
     ]
    },
    {
     "name": "stderr",
     "output_type": "stream",
     "text": [
      "Training: : 100%|█████████████████████████████████████████████████████████████████████████| 196/196 [00:26<00:00,  7.51batch/s, accuracy=80, loss=0.726]\n",
      "Validation: : 100%|████████████████████████████████████████████████████████████████████| 40/40 [00:01<00:00, 22.10batch/s, val_acc=80.5, val_loss=0.794]\n"
     ]
    },
    {
     "name": "stdout",
     "output_type": "stream",
     "text": [
      "\n",
      "epoch: 28 training loss = 0.7257, training accuracy = 80.00%, val_loss = 0.7937, val_accuracy = 80.45% & LR = 0.1000\n",
      "\n"
     ]
    },
    {
     "name": "stderr",
     "output_type": "stream",
     "text": [
      "Training: : 100%|███████████████████████████████████████████████████████████████████████| 196/196 [00:26<00:00,  7.52batch/s, accuracy=80.6, loss=0.699]\n",
      "Validation: : 100%|████████████████████████████████████████████████████████████████████| 40/40 [00:01<00:00, 21.46batch/s, val_acc=80.2, val_loss=0.759]\n"
     ]
    },
    {
     "name": "stdout",
     "output_type": "stream",
     "text": [
      "\n",
      "epoch: 29 training loss = 0.6986, training accuracy = 80.62%, val_loss = 0.7589, val_accuracy = 80.22% & LR = 0.1000\n",
      "\n"
     ]
    },
    {
     "name": "stderr",
     "output_type": "stream",
     "text": [
      "Training: : 100%|███████████████████████████████████████████████████████████████████████| 196/196 [00:26<00:00,  7.38batch/s, accuracy=80.6, loss=0.706]\n",
      "Validation: : 100%|█████████████████████████████████████████████████████████████████████| 40/40 [00:01<00:00, 21.42batch/s, val_acc=73.6, val_loss=1.31]\n"
     ]
    },
    {
     "name": "stdout",
     "output_type": "stream",
     "text": [
      "\n",
      "epoch: 30 training loss = 0.7061, training accuracy = 80.60%, val_loss = 1.3056, val_accuracy = 73.59% & LR = 0.1000\n",
      "\n"
     ]
    },
    {
     "name": "stderr",
     "output_type": "stream",
     "text": [
      "Training: : 100%|███████████████████████████████████████████████████████████████████████| 196/196 [00:26<00:00,  7.36batch/s, accuracy=80.8, loss=0.695]\n",
      "Validation: : 100%|████████████████████████████████████████████████████████████████████| 40/40 [00:01<00:00, 21.42batch/s, val_acc=80.9, val_loss=0.713]\n"
     ]
    },
    {
     "name": "stdout",
     "output_type": "stream",
     "text": [
      "\n",
      "epoch: 31 training loss = 0.6951, training accuracy = 80.81%, val_loss = 0.7130, val_accuracy = 80.86% & LR = 0.1000\n",
      "\n"
     ]
    },
    {
     "name": "stderr",
     "output_type": "stream",
     "text": [
      "Training: : 100%|███████████████████████████████████████████████████████████████████████| 196/196 [00:26<00:00,  7.46batch/s, accuracy=81.2, loss=0.688]\n",
      "Validation: : 100%|████████████████████████████████████████████████████████████████████| 40/40 [00:01<00:00, 21.59batch/s, val_acc=88.3, val_loss=0.431]\n"
     ]
    },
    {
     "name": "stdout",
     "output_type": "stream",
     "text": [
      "\n",
      "epoch: 32 training loss = 0.6876, training accuracy = 81.19%, val_loss = 0.4313, val_accuracy = 88.31% & LR = 0.0100\n",
      "\n",
      "Saving model with lowest val_loss = 0.4313\n",
      "\n"
     ]
    },
    {
     "name": "stderr",
     "output_type": "stream",
     "text": [
      "Training: : 100%|█████████████████████████████████████████████████████████████████████████| 196/196 [00:26<00:00,  7.47batch/s, accuracy=86.1, loss=0.5]\n",
      "Validation: : 100%|████████████████████████████████████████████████████████████████████| 40/40 [00:01<00:00, 21.36batch/s, val_acc=90.2, val_loss=0.355]\n"
     ]
    },
    {
     "name": "stdout",
     "output_type": "stream",
     "text": [
      "\n",
      "epoch: 33 training loss = 0.5003, training accuracy = 86.06%, val_loss = 0.3547, val_accuracy = 90.21% & LR = 0.0100\n",
      "\n",
      "Saving model with lowest val_loss = 0.3547\n",
      "\n"
     ]
    },
    {
     "name": "stderr",
     "output_type": "stream",
     "text": [
      "Training: : 100%|███████████████████████████████████████████████████████████████████████| 196/196 [00:26<00:00,  7.37batch/s, accuracy=87.8, loss=0.438]\n",
      "Validation: : 100%|████████████████████████████████████████████████████████████████████| 40/40 [00:01<00:00, 21.37batch/s, val_acc=90.7, val_loss=0.344]\n"
     ]
    },
    {
     "name": "stdout",
     "output_type": "stream",
     "text": [
      "\n",
      "epoch: 34 training loss = 0.4382, training accuracy = 87.79%, val_loss = 0.3443, val_accuracy = 90.70% & LR = 0.0100\n",
      "\n",
      "Saving model with lowest val_loss = 0.3443\n",
      "\n"
     ]
    },
    {
     "name": "stderr",
     "output_type": "stream",
     "text": [
      "Training: : 100%|███████████████████████████████████████████████████████████████████████| 196/196 [00:26<00:00,  7.38batch/s, accuracy=88.7, loss=0.411]\n",
      "Validation: : 100%|████████████████████████████████████████████████████████████████████| 40/40 [00:01<00:00, 21.38batch/s, val_acc=90.9, val_loss=0.344]\n"
     ]
    },
    {
     "name": "stdout",
     "output_type": "stream",
     "text": [
      "\n",
      "epoch: 35 training loss = 0.4106, training accuracy = 88.67%, val_loss = 0.3439, val_accuracy = 90.88% & LR = 0.0100\n",
      "\n",
      "Saving model with lowest val_loss = 0.3439\n",
      "\n"
     ]
    },
    {
     "name": "stderr",
     "output_type": "stream",
     "text": [
      "Training: : 100%|███████████████████████████████████████████████████████████████████████| 196/196 [00:26<00:00,  7.50batch/s, accuracy=89.1, loss=0.399]\n",
      "Validation: : 100%|████████████████████████████████████████████████████████████████████| 40/40 [00:01<00:00, 22.12batch/s, val_acc=91.3, val_loss=0.333]\n"
     ]
    },
    {
     "name": "stdout",
     "output_type": "stream",
     "text": [
      "\n",
      "epoch: 36 training loss = 0.3994, training accuracy = 89.11%, val_loss = 0.3332, val_accuracy = 91.34% & LR = 0.0100\n",
      "\n",
      "Saving model with lowest val_loss = 0.3332\n",
      "\n"
     ]
    },
    {
     "name": "stderr",
     "output_type": "stream",
     "text": [
      "Training: : 100%|███████████████████████████████████████████████████████████████████████| 196/196 [00:26<00:00,  7.52batch/s, accuracy=89.5, loss=0.386]\n",
      "Validation: : 100%|████████████████████████████████████████████████████████████████████| 40/40 [00:01<00:00, 22.16batch/s, val_acc=91.2, val_loss=0.334]\n"
     ]
    },
    {
     "name": "stdout",
     "output_type": "stream",
     "text": [
      "\n",
      "epoch: 37 training loss = 0.3860, training accuracy = 89.53%, val_loss = 0.3339, val_accuracy = 91.20% & LR = 0.0100\n",
      "\n"
     ]
    },
    {
     "name": "stderr",
     "output_type": "stream",
     "text": [
      "Training: : 100%|███████████████████████████████████████████████████████████████████████| 196/196 [00:26<00:00,  7.52batch/s, accuracy=89.7, loss=0.378]\n",
      "Validation: : 100%|████████████████████████████████████████████████████████████████████| 40/40 [00:01<00:00, 22.15batch/s, val_acc=91.3, val_loss=0.347]\n"
     ]
    },
    {
     "name": "stdout",
     "output_type": "stream",
     "text": [
      "\n",
      "epoch: 38 training loss = 0.3778, training accuracy = 89.73%, val_loss = 0.3470, val_accuracy = 91.29% & LR = 0.0100\n",
      "\n"
     ]
    },
    {
     "name": "stderr",
     "output_type": "stream",
     "text": [
      "Training: : 100%|███████████████████████████████████████████████████████████████████████| 196/196 [00:26<00:00,  7.52batch/s, accuracy=90.2, loss=0.359]\n",
      "Validation: : 100%|████████████████████████████████████████████████████████████████████| 40/40 [00:01<00:00, 22.14batch/s, val_acc=91.1, val_loss=0.348]\n"
     ]
    },
    {
     "name": "stdout",
     "output_type": "stream",
     "text": [
      "\n",
      "epoch: 39 training loss = 0.3591, training accuracy = 90.16%, val_loss = 0.3485, val_accuracy = 91.09% & LR = 0.0100\n",
      "\n"
     ]
    },
    {
     "name": "stderr",
     "output_type": "stream",
     "text": [
      "Training: : 100%|███████████████████████████████████████████████████████████████████████| 196/196 [00:26<00:00,  7.52batch/s, accuracy=90.2, loss=0.361]\n",
      "Validation: : 100%|████████████████████████████████████████████████████████████████████| 40/40 [00:01<00:00, 22.14batch/s, val_acc=91.3, val_loss=0.348]\n"
     ]
    },
    {
     "name": "stdout",
     "output_type": "stream",
     "text": [
      "\n",
      "epoch: 40 training loss = 0.3610, training accuracy = 90.25%, val_loss = 0.3485, val_accuracy = 91.28% & LR = 0.0100\n",
      "\n"
     ]
    },
    {
     "name": "stderr",
     "output_type": "stream",
     "text": [
      "Training: : 100%|████████████████████████████████████████████████████████████████████████| 196/196 [00:26<00:00,  7.53batch/s, accuracy=90.5, loss=0.35]\n",
      "Validation: : 100%|████████████████████████████████████████████████████████████████████| 40/40 [00:01<00:00, 22.13batch/s, val_acc=91.5, val_loss=0.338]\n"
     ]
    },
    {
     "name": "stdout",
     "output_type": "stream",
     "text": [
      "\n",
      "epoch: 41 training loss = 0.3499, training accuracy = 90.54%, val_loss = 0.3384, val_accuracy = 91.52% & LR = 0.0100\n",
      "\n"
     ]
    },
    {
     "name": "stderr",
     "output_type": "stream",
     "text": [
      "Training: : 100%|███████████████████████████████████████████████████████████████████████| 196/196 [00:26<00:00,  7.52batch/s, accuracy=90.8, loss=0.338]\n",
      "Validation: : 100%|████████████████████████████████████████████████████████████████████| 40/40 [00:01<00:00, 22.15batch/s, val_acc=91.4, val_loss=0.347]\n"
     ]
    },
    {
     "name": "stdout",
     "output_type": "stream",
     "text": [
      "\n",
      "epoch: 42 training loss = 0.3382, training accuracy = 90.77%, val_loss = 0.3467, val_accuracy = 91.41% & LR = 0.0100\n",
      "\n"
     ]
    },
    {
     "name": "stderr",
     "output_type": "stream",
     "text": [
      "Training: : 100%|███████████████████████████████████████████████████████████████████████| 196/196 [00:26<00:00,  7.52batch/s, accuracy=90.9, loss=0.333]\n",
      "Validation: : 100%|████████████████████████████████████████████████████████████████████| 40/40 [00:01<00:00, 22.14batch/s, val_acc=91.1, val_loss=0.358]\n"
     ]
    },
    {
     "name": "stdout",
     "output_type": "stream",
     "text": [
      "\n",
      "epoch: 43 training loss = 0.3333, training accuracy = 90.95%, val_loss = 0.3576, val_accuracy = 91.06% & LR = 0.0100\n",
      "\n"
     ]
    },
    {
     "name": "stderr",
     "output_type": "stream",
     "text": [
      "Training: : 100%|███████████████████████████████████████████████████████████████████████| 196/196 [00:26<00:00,  7.52batch/s, accuracy=91.1, loss=0.331]\n",
      "Validation: : 100%|████████████████████████████████████████████████████████████████████| 40/40 [00:01<00:00, 22.12batch/s, val_acc=91.5, val_loss=0.339]\n"
     ]
    },
    {
     "name": "stdout",
     "output_type": "stream",
     "text": [
      "\n",
      "epoch: 44 training loss = 0.3309, training accuracy = 91.09%, val_loss = 0.3387, val_accuracy = 91.51% & LR = 0.0100\n",
      "\n"
     ]
    },
    {
     "name": "stderr",
     "output_type": "stream",
     "text": [
      "Training: : 100%|███████████████████████████████████████████████████████████████████████| 196/196 [00:26<00:00,  7.53batch/s, accuracy=91.2, loss=0.318]\n",
      "Validation: : 100%|████████████████████████████████████████████████████████████████████| 40/40 [00:01<00:00, 22.16batch/s, val_acc=91.6, val_loss=0.349]\n"
     ]
    },
    {
     "name": "stdout",
     "output_type": "stream",
     "text": [
      "\n",
      "epoch: 45 training loss = 0.3182, training accuracy = 91.21%, val_loss = 0.3494, val_accuracy = 91.60% & LR = 0.0100\n",
      "\n"
     ]
    },
    {
     "name": "stderr",
     "output_type": "stream",
     "text": [
      "Training: : 100%|████████████████████████████████████████████████████████████████████████| 196/196 [00:26<00:00,  7.52batch/s, accuracy=91.4, loss=0.32]\n",
      "Validation: : 100%|████████████████████████████████████████████████████████████████████| 40/40 [00:01<00:00, 22.14batch/s, val_acc=91.4, val_loss=0.348]\n"
     ]
    },
    {
     "name": "stdout",
     "output_type": "stream",
     "text": [
      "\n",
      "epoch: 46 training loss = 0.3196, training accuracy = 91.36%, val_loss = 0.3483, val_accuracy = 91.39% & LR = 0.0100\n",
      "\n"
     ]
    },
    {
     "name": "stderr",
     "output_type": "stream",
     "text": [
      "Training: : 100%|███████████████████████████████████████████████████████████████████████| 196/196 [00:25<00:00,  7.62batch/s, accuracy=91.5, loss=0.312]\n",
      "Validation: : 100%|████████████████████████████████████████████████████████████████████| 40/40 [00:01<00:00, 22.67batch/s, val_acc=91.8, val_loss=0.346]\n"
     ]
    },
    {
     "name": "stdout",
     "output_type": "stream",
     "text": [
      "\n",
      "epoch: 47 training loss = 0.3123, training accuracy = 91.47%, val_loss = 0.3458, val_accuracy = 91.83% & LR = 0.0100\n",
      "\n"
     ]
    },
    {
     "name": "stderr",
     "output_type": "stream",
     "text": [
      "Training: : 100%|█████████████████████████████████████████████████████████████████████████| 196/196 [00:25<00:00,  7.61batch/s, accuracy=91.9, loss=0.3]\n",
      "Validation: : 100%|████████████████████████████████████████████████████████████████████| 40/40 [00:01<00:00, 22.65batch/s, val_acc=91.5, val_loss=0.348]\n"
     ]
    },
    {
     "name": "stdout",
     "output_type": "stream",
     "text": [
      "\n",
      "epoch: 48 training loss = 0.3003, training accuracy = 91.90%, val_loss = 0.3477, val_accuracy = 91.52% & LR = 0.0100\n",
      "\n"
     ]
    },
    {
     "name": "stderr",
     "output_type": "stream",
     "text": [
      "Training: : 100%|███████████████████████████████████████████████████████████████████████| 196/196 [00:25<00:00,  7.61batch/s, accuracy=91.9, loss=0.301]\n",
      "Validation: : 100%|████████████████████████████████████████████████████████████████████| 40/40 [00:01<00:00, 22.65batch/s, val_acc=91.7, val_loss=0.344]\n"
     ]
    },
    {
     "name": "stdout",
     "output_type": "stream",
     "text": [
      "\n",
      "epoch: 49 training loss = 0.3007, training accuracy = 91.86%, val_loss = 0.3438, val_accuracy = 91.68% & LR = 0.0100\n",
      "\n"
     ]
    },
    {
     "name": "stderr",
     "output_type": "stream",
     "text": [
      "Training: : 100%|███████████████████████████████████████████████████████████████████████| 196/196 [00:25<00:00,  7.61batch/s, accuracy=91.9, loss=0.302]\n",
      "Validation: : 100%|████████████████████████████████████████████████████████████████████| 40/40 [00:01<00:00, 22.60batch/s, val_acc=91.9, val_loss=0.346]\n"
     ]
    },
    {
     "name": "stdout",
     "output_type": "stream",
     "text": [
      "\n",
      "epoch: 50 training loss = 0.3016, training accuracy = 91.95%, val_loss = 0.3458, val_accuracy = 91.87% & LR = 0.0100\n",
      "\n"
     ]
    },
    {
     "name": "stderr",
     "output_type": "stream",
     "text": [
      "Training: : 100%|███████████████████████████████████████████████████████████████████████| 196/196 [00:25<00:00,  7.65batch/s, accuracy=92.1, loss=0.295]\n",
      "Validation: : 100%|████████████████████████████████████████████████████████████████████| 40/40 [00:01<00:00, 22.69batch/s, val_acc=91.6, val_loss=0.341]\n"
     ]
    },
    {
     "name": "stdout",
     "output_type": "stream",
     "text": [
      "\n",
      "epoch: 51 training loss = 0.2950, training accuracy = 92.13%, val_loss = 0.3412, val_accuracy = 91.60% & LR = 0.0100\n",
      "\n"
     ]
    },
    {
     "name": "stderr",
     "output_type": "stream",
     "text": [
      "Training: : 100%|███████████████████████████████████████████████████████████████████████| 196/196 [00:25<00:00,  7.63batch/s, accuracy=92.1, loss=0.294]\n",
      "Validation: : 100%|████████████████████████████████████████████████████████████████████| 40/40 [00:01<00:00, 22.73batch/s, val_acc=91.8, val_loss=0.349]\n"
     ]
    },
    {
     "name": "stdout",
     "output_type": "stream",
     "text": [
      "\n",
      "epoch: 52 training loss = 0.2945, training accuracy = 92.12%, val_loss = 0.3490, val_accuracy = 91.79% & LR = 0.0100\n",
      "\n"
     ]
    },
    {
     "name": "stderr",
     "output_type": "stream",
     "text": [
      "Training: : 100%|███████████████████████████████████████████████████████████████████████| 196/196 [00:25<00:00,  7.63batch/s, accuracy=92.4, loss=0.283]\n",
      "Validation: : 100%|████████████████████████████████████████████████████████████████████| 40/40 [00:01<00:00, 22.79batch/s, val_acc=91.7, val_loss=0.357]\n"
     ]
    },
    {
     "name": "stdout",
     "output_type": "stream",
     "text": [
      "\n",
      "epoch: 53 training loss = 0.2835, training accuracy = 92.37%, val_loss = 0.3567, val_accuracy = 91.69% & LR = 0.0100\n",
      "\n"
     ]
    },
    {
     "name": "stderr",
     "output_type": "stream",
     "text": [
      "Training: : 100%|███████████████████████████████████████████████████████████████████████| 196/196 [00:25<00:00,  7.63batch/s, accuracy=92.4, loss=0.283]\n",
      "Validation: : 100%|████████████████████████████████████████████████████████████████████| 40/40 [00:01<00:00, 22.75batch/s, val_acc=91.5, val_loss=0.358]\n"
     ]
    },
    {
     "name": "stdout",
     "output_type": "stream",
     "text": [
      "\n",
      "epoch: 54 training loss = 0.2830, training accuracy = 92.35%, val_loss = 0.3584, val_accuracy = 91.51% & LR = 0.0100\n",
      "\n"
     ]
    },
    {
     "name": "stderr",
     "output_type": "stream",
     "text": [
      "Training: : 100%|███████████████████████████████████████████████████████████████████████| 196/196 [00:25<00:00,  7.64batch/s, accuracy=92.5, loss=0.278]\n",
      "Validation: : 100%|████████████████████████████████████████████████████████████████████| 40/40 [00:01<00:00, 22.78batch/s, val_acc=92.2, val_loss=0.327]\n"
     ]
    },
    {
     "name": "stdout",
     "output_type": "stream",
     "text": [
      "\n",
      "epoch: 55 training loss = 0.2782, training accuracy = 92.48%, val_loss = 0.3266, val_accuracy = 92.24% & LR = 0.0100\n",
      "\n",
      "Saving model with lowest val_loss = 0.3266\n",
      "\n"
     ]
    },
    {
     "name": "stderr",
     "output_type": "stream",
     "text": [
      "Training: : 100%|███████████████████████████████████████████████████████████████████████| 196/196 [00:25<00:00,  7.63batch/s, accuracy=92.2, loss=0.284]\n",
      "Validation: : 100%|████████████████████████████████████████████████████████████████████| 40/40 [00:01<00:00, 22.75batch/s, val_acc=91.5, val_loss=0.374]\n"
     ]
    },
    {
     "name": "stdout",
     "output_type": "stream",
     "text": [
      "\n",
      "epoch: 56 training loss = 0.2842, training accuracy = 92.25%, val_loss = 0.3737, val_accuracy = 91.53% & LR = 0.0100\n",
      "\n"
     ]
    },
    {
     "name": "stderr",
     "output_type": "stream",
     "text": [
      "Training: : 100%|███████████████████████████████████████████████████████████████████████| 196/196 [00:25<00:00,  7.60batch/s, accuracy=92.9, loss=0.266]\n",
      "Validation: : 100%|████████████████████████████████████████████████████████████████████| 40/40 [00:01<00:00, 22.78batch/s, val_acc=92.3, val_loss=0.336]\n"
     ]
    },
    {
     "name": "stdout",
     "output_type": "stream",
     "text": [
      "\n",
      "epoch: 57 training loss = 0.2664, training accuracy = 92.88%, val_loss = 0.3362, val_accuracy = 92.27% & LR = 0.0010\n",
      "\n"
     ]
    },
    {
     "name": "stderr",
     "output_type": "stream",
     "text": [
      "Training: : 100%|████████████████████████████████████████████████████████████████████████| 196/196 [00:25<00:00,  7.59batch/s, accuracy=93.8, loss=0.23]\n",
      "Validation: : 100%|████████████████████████████████████████████████████████████████████| 40/40 [00:01<00:00, 22.18batch/s, val_acc=92.5, val_loss=0.318]\n"
     ]
    },
    {
     "name": "stdout",
     "output_type": "stream",
     "text": [
      "\n",
      "epoch: 58 training loss = 0.2297, training accuracy = 93.77%, val_loss = 0.3179, val_accuracy = 92.47% & LR = 0.0010\n",
      "\n",
      "Saving model with lowest val_loss = 0.3179\n",
      "\n"
     ]
    },
    {
     "name": "stderr",
     "output_type": "stream",
     "text": [
      "Training: : 100%|███████████████████████████████████████████████████████████████████████| 196/196 [00:25<00:00,  7.54batch/s, accuracy=94.1, loss=0.217]\n",
      "Validation: : 100%|████████████████████████████████████████████████████████████████████| 40/40 [00:01<00:00, 22.16batch/s, val_acc=92.8, val_loss=0.318]\n"
     ]
    },
    {
     "name": "stdout",
     "output_type": "stream",
     "text": [
      "\n",
      "epoch: 59 training loss = 0.2174, training accuracy = 94.08%, val_loss = 0.3181, val_accuracy = 92.83% & LR = 0.0010\n",
      "\n"
     ]
    },
    {
     "name": "stderr",
     "output_type": "stream",
     "text": [
      "Training: : 100%|███████████████████████████████████████████████████████████████████████| 196/196 [00:25<00:00,  7.54batch/s, accuracy=94.4, loss=0.211]\n",
      "Validation: : 100%|██████████████████████████████████████████████████████████████████████| 40/40 [00:01<00:00, 22.18batch/s, val_acc=93, val_loss=0.315]\n"
     ]
    },
    {
     "name": "stdout",
     "output_type": "stream",
     "text": [
      "\n",
      "epoch: 60 training loss = 0.2110, training accuracy = 94.35%, val_loss = 0.3145, val_accuracy = 92.96% & LR = 0.0010\n",
      "\n",
      "Saving model with lowest val_loss = 0.3145\n",
      "\n"
     ]
    },
    {
     "name": "stderr",
     "output_type": "stream",
     "text": [
      "Training: : 100%|███████████████████████████████████████████████████████████████████████| 196/196 [00:25<00:00,  7.55batch/s, accuracy=94.5, loss=0.204]\n",
      "Validation: : 100%|████████████████████████████████████████████████████████████████████| 40/40 [00:01<00:00, 22.16batch/s, val_acc=92.8, val_loss=0.315]\n"
     ]
    },
    {
     "name": "stdout",
     "output_type": "stream",
     "text": [
      "\n",
      "epoch: 61 training loss = 0.2044, training accuracy = 94.46%, val_loss = 0.3151, val_accuracy = 92.83% & LR = 0.0010\n",
      "\n"
     ]
    },
    {
     "name": "stderr",
     "output_type": "stream",
     "text": [
      "Training: : 100%|███████████████████████████████████████████████████████████████████████| 196/196 [00:25<00:00,  7.54batch/s, accuracy=94.6, loss=0.198]\n",
      "Validation: : 100%|████████████████████████████████████████████████████████████████████| 40/40 [00:01<00:00, 22.17batch/s, val_acc=92.9, val_loss=0.316]\n"
     ]
    },
    {
     "name": "stdout",
     "output_type": "stream",
     "text": [
      "\n",
      "epoch: 62 training loss = 0.1983, training accuracy = 94.58%, val_loss = 0.3156, val_accuracy = 92.89% & LR = 0.0010\n",
      "\n"
     ]
    },
    {
     "name": "stderr",
     "output_type": "stream",
     "text": [
      "Training: : 100%|█████████████████████████████████████████████████████████████████████████| 196/196 [00:25<00:00,  7.55batch/s, accuracy=94.6, loss=0.2]\n",
      "Validation: : 100%|████████████████████████████████████████████████████████████████████| 40/40 [00:01<00:00, 22.18batch/s, val_acc=93.1, val_loss=0.318]\n"
     ]
    },
    {
     "name": "stdout",
     "output_type": "stream",
     "text": [
      "\n",
      "epoch: 63 training loss = 0.1995, training accuracy = 94.64%, val_loss = 0.3180, val_accuracy = 93.08% & LR = 0.0010\n",
      "\n"
     ]
    },
    {
     "name": "stderr",
     "output_type": "stream",
     "text": [
      "Training: : 100%|███████████████████████████████████████████████████████████████████████| 196/196 [00:25<00:00,  7.54batch/s, accuracy=94.7, loss=0.202]\n",
      "Validation: : 100%|████████████████████████████████████████████████████████████████████| 40/40 [00:01<00:00, 22.08batch/s, val_acc=93.1, val_loss=0.315]\n"
     ]
    },
    {
     "name": "stdout",
     "output_type": "stream",
     "text": [
      "\n",
      "epoch: 64 training loss = 0.2020, training accuracy = 94.66%, val_loss = 0.3150, val_accuracy = 93.12% & LR = 0.0010\n",
      "\n"
     ]
    },
    {
     "name": "stderr",
     "output_type": "stream",
     "text": [
      "Training: : 100%|███████████████████████████████████████████████████████████████████████| 196/196 [00:25<00:00,  7.55batch/s, accuracy=94.6, loss=0.199]\n",
      "Validation: : 100%|████████████████████████████████████████████████████████████████████| 40/40 [00:01<00:00, 22.18batch/s, val_acc=92.9, val_loss=0.318]\n"
     ]
    },
    {
     "name": "stdout",
     "output_type": "stream",
     "text": [
      "\n",
      "epoch: 65 training loss = 0.1994, training accuracy = 94.56%, val_loss = 0.3179, val_accuracy = 92.89% & LR = 0.0010\n",
      "\n"
     ]
    },
    {
     "name": "stderr",
     "output_type": "stream",
     "text": [
      "Training: : 100%|███████████████████████████████████████████████████████████████████████| 196/196 [00:25<00:00,  7.55batch/s, accuracy=94.7, loss=0.199]\n",
      "Validation: : 100%|████████████████████████████████████████████████████████████████████| 40/40 [00:01<00:00, 22.19batch/s, val_acc=92.9, val_loss=0.317]\n"
     ]
    },
    {
     "name": "stdout",
     "output_type": "stream",
     "text": [
      "\n",
      "epoch: 66 training loss = 0.1994, training accuracy = 94.65%, val_loss = 0.3167, val_accuracy = 92.94% & LR = 0.0010\n",
      "\n"
     ]
    },
    {
     "name": "stderr",
     "output_type": "stream",
     "text": [
      "Training: : 100%|███████████████████████████████████████████████████████████████████████| 196/196 [00:25<00:00,  7.55batch/s, accuracy=94.8, loss=0.195]\n",
      "Validation: : 100%|████████████████████████████████████████████████████████████████████| 40/40 [00:01<00:00, 22.25batch/s, val_acc=93.1, val_loss=0.312]\n"
     ]
    },
    {
     "name": "stdout",
     "output_type": "stream",
     "text": [
      "\n",
      "epoch: 67 training loss = 0.1948, training accuracy = 94.78%, val_loss = 0.3118, val_accuracy = 93.14% & LR = 0.0010\n",
      "\n",
      "Saving model with lowest val_loss = 0.3118\n",
      "\n"
     ]
    },
    {
     "name": "stderr",
     "output_type": "stream",
     "text": [
      "Training: : 100%|███████████████████████████████████████████████████████████████████████| 196/196 [00:26<00:00,  7.50batch/s, accuracy=94.9, loss=0.189]\n",
      "Validation: : 100%|██████████████████████████████████████████████████████████████████████| 40/40 [00:01<00:00, 22.02batch/s, val_acc=93, val_loss=0.316]\n"
     ]
    },
    {
     "name": "stdout",
     "output_type": "stream",
     "text": [
      "\n",
      "epoch: 68 training loss = 0.1886, training accuracy = 94.93%, val_loss = 0.3156, val_accuracy = 93.03% & LR = 0.0010\n",
      "\n"
     ]
    },
    {
     "name": "stderr",
     "output_type": "stream",
     "text": [
      "Training: : 100%|█████████████████████████████████████████████████████████████████████████| 196/196 [00:26<00:00,  7.53batch/s, accuracy=95, loss=0.181]\n",
      "Validation: : 100%|██████████████████████████████████████████████████████████████████████| 40/40 [00:01<00:00, 22.10batch/s, val_acc=93, val_loss=0.316]\n"
     ]
    },
    {
     "name": "stdout",
     "output_type": "stream",
     "text": [
      "\n",
      "epoch: 69 training loss = 0.1815, training accuracy = 94.99%, val_loss = 0.3165, val_accuracy = 93.01% & LR = 0.0010\n",
      "\n"
     ]
    },
    {
     "name": "stderr",
     "output_type": "stream",
     "text": [
      "Training: : 100%|█████████████████████████████████████████████████████████████████████████| 196/196 [00:26<00:00,  7.48batch/s, accuracy=95, loss=0.186]\n",
      "Validation: : 100%|███████████████████████████████████████████████████████████████████████| 40/40 [00:01<00:00, 21.70batch/s, val_acc=93, val_loss=0.32]\n"
     ]
    },
    {
     "name": "stdout",
     "output_type": "stream",
     "text": [
      "\n",
      "epoch: 70 training loss = 0.1857, training accuracy = 95.00%, val_loss = 0.3203, val_accuracy = 93.01% & LR = 0.0010\n",
      "\n"
     ]
    },
    {
     "name": "stderr",
     "output_type": "stream",
     "text": [
      "Training: : 100%|███████████████████████████████████████████████████████████████████████| 196/196 [00:26<00:00,  7.52batch/s, accuracy=95.1, loss=0.183]\n",
      "Validation: : 100%|████████████████████████████████████████████████████████████████████| 40/40 [00:01<00:00, 22.15batch/s, val_acc=92.9, val_loss=0.321]\n"
     ]
    },
    {
     "name": "stdout",
     "output_type": "stream",
     "text": [
      "\n",
      "epoch: 71 training loss = 0.1833, training accuracy = 95.09%, val_loss = 0.3209, val_accuracy = 92.88% & LR = 0.0010\n",
      "\n"
     ]
    },
    {
     "name": "stderr",
     "output_type": "stream",
     "text": [
      "Training: : 100%|███████████████████████████████████████████████████████████████████████| 196/196 [00:25<00:00,  7.54batch/s, accuracy=95.1, loss=0.187]\n",
      "Validation: : 100%|████████████████████████████████████████████████████████████████████| 40/40 [00:01<00:00, 22.14batch/s, val_acc=93.1, val_loss=0.321]\n"
     ]
    },
    {
     "name": "stdout",
     "output_type": "stream",
     "text": [
      "\n",
      "epoch: 72 training loss = 0.1866, training accuracy = 95.05%, val_loss = 0.3213, val_accuracy = 93.06% & LR = 0.0010\n",
      "\n"
     ]
    },
    {
     "name": "stderr",
     "output_type": "stream",
     "text": [
      "Training: : 100%|███████████████████████████████████████████████████████████████████████| 196/196 [00:25<00:00,  7.55batch/s, accuracy=95.2, loss=0.179]\n",
      "Validation: : 100%|████████████████████████████████████████████████████████████████████| 40/40 [00:01<00:00, 22.16batch/s, val_acc=93.2, val_loss=0.325]\n"
     ]
    },
    {
     "name": "stdout",
     "output_type": "stream",
     "text": [
      "\n",
      "epoch: 73 training loss = 0.1790, training accuracy = 95.17%, val_loss = 0.3249, val_accuracy = 93.20% & LR = 0.0010\n",
      "\n"
     ]
    },
    {
     "name": "stderr",
     "output_type": "stream",
     "text": [
      "Training: : 100%|████████████████████████████████████████████████████████████████████████| 196/196 [00:25<00:00,  7.55batch/s, accuracy=95.2, loss=0.18]\n",
      "Validation: : 100%|████████████████████████████████████████████████████████████████████| 40/40 [00:01<00:00, 22.19batch/s, val_acc=93.3, val_loss=0.318]\n"
     ]
    },
    {
     "name": "stdout",
     "output_type": "stream",
     "text": [
      "\n",
      "epoch: 74 training loss = 0.1803, training accuracy = 95.24%, val_loss = 0.3184, val_accuracy = 93.32% & LR = 0.0010\n",
      "\n"
     ]
    },
    {
     "name": "stderr",
     "output_type": "stream",
     "text": [
      "Training: : 100%|████████████████████████████████████████████████████████████████████████| 196/196 [00:25<00:00,  7.55batch/s, accuracy=95.2, loss=0.18]\n",
      "Validation: : 100%|████████████████████████████████████████████████████████████████████| 40/40 [00:01<00:00, 22.14batch/s, val_acc=93.1, val_loss=0.327]\n"
     ]
    },
    {
     "name": "stdout",
     "output_type": "stream",
     "text": [
      "\n",
      "epoch: 75 training loss = 0.1797, training accuracy = 95.24%, val_loss = 0.3267, val_accuracy = 93.13% & LR = 0.0010\n",
      "\n"
     ]
    },
    {
     "name": "stderr",
     "output_type": "stream",
     "text": [
      "Training: : 100%|███████████████████████████████████████████████████████████████████████| 196/196 [00:25<00:00,  7.55batch/s, accuracy=95.2, loss=0.177]\n",
      "Validation: : 100%|█████████████████████████████████████████████████████████████████████| 40/40 [00:01<00:00, 22.16batch/s, val_acc=93.3, val_loss=0.32]\n"
     ]
    },
    {
     "name": "stdout",
     "output_type": "stream",
     "text": [
      "\n",
      "epoch: 76 training loss = 0.1771, training accuracy = 95.23%, val_loss = 0.3199, val_accuracy = 93.26% & LR = 0.0010\n",
      "\n"
     ]
    },
    {
     "name": "stderr",
     "output_type": "stream",
     "text": [
      "Training: : 100%|███████████████████████████████████████████████████████████████████████| 196/196 [00:25<00:00,  7.55batch/s, accuracy=95.3, loss=0.175]\n",
      "Validation: : 100%|████████████████████████████████████████████████████████████████████| 40/40 [00:01<00:00, 22.08batch/s, val_acc=93.2, val_loss=0.328]\n"
     ]
    },
    {
     "name": "stdout",
     "output_type": "stream",
     "text": [
      "\n",
      "epoch: 77 training loss = 0.1749, training accuracy = 95.32%, val_loss = 0.3281, val_accuracy = 93.25% & LR = 0.0010\n",
      "\n"
     ]
    },
    {
     "name": "stderr",
     "output_type": "stream",
     "text": [
      "Training: : 100%|███████████████████████████████████████████████████████████████████████| 196/196 [00:26<00:00,  7.53batch/s, accuracy=95.2, loss=0.176]\n",
      "Validation: : 100%|██████████████████████████████████████████████████████████████████████| 40/40 [00:01<00:00, 22.14batch/s, val_acc=93, val_loss=0.326]\n"
     ]
    },
    {
     "name": "stdout",
     "output_type": "stream",
     "text": [
      "\n",
      "epoch: 78 training loss = 0.1764, training accuracy = 95.25%, val_loss = 0.3257, val_accuracy = 92.99% & LR = 0.0010\n",
      "\n"
     ]
    },
    {
     "name": "stderr",
     "output_type": "stream",
     "text": [
      "Training: : 100%|███████████████████████████████████████████████████████████████████████| 196/196 [00:26<00:00,  7.54batch/s, accuracy=95.4, loss=0.171]\n",
      "Validation: : 100%|████████████████████████████████████████████████████████████████████| 40/40 [00:01<00:00, 22.11batch/s, val_acc=93.2, val_loss=0.328]\n"
     ]
    },
    {
     "name": "stdout",
     "output_type": "stream",
     "text": [
      "\n",
      "epoch: 79 training loss = 0.1708, training accuracy = 95.41%, val_loss = 0.3276, val_accuracy = 93.20% & LR = 0.0010\n",
      "\n"
     ]
    },
    {
     "name": "stderr",
     "output_type": "stream",
     "text": [
      "Training: : 100%|███████████████████████████████████████████████████████████████████████| 196/196 [00:25<00:00,  7.61batch/s, accuracy=95.3, loss=0.172]\n",
      "Validation: : 100%|█████████████████████████████████████████████████████████████████████| 40/40 [00:01<00:00, 22.63batch/s, val_acc=93.2, val_loss=0.33]"
     ]
    },
    {
     "name": "stdout",
     "output_type": "stream",
     "text": [
      "\n",
      "epoch: 80 training loss = 0.1715, training accuracy = 95.35%, val_loss = 0.3296, val_accuracy = 93.19% & LR = 0.0010\n",
      "\n"
     ]
    },
    {
     "name": "stderr",
     "output_type": "stream",
     "text": [
      "\n"
     ]
    }
   ],
   "source": [
    "for epoch in range(num_epochs):\n",
    "\n",
    "    # Train and validate model for 1 epoch-\n",
    "    train_loss, train_acc = train_model_progress(model, train_loader)\n",
    "    val_loss, val_acc = test_model_progress(model, test_loader)\n",
    "    \n",
    "    print(f\"\\nepoch: {epoch + 1} training loss = {train_loss:.4f}, \"\n",
    "          f\"training accuracy = {train_acc:.2f}%, val_loss = {val_loss:.4f}\"\n",
    "          f\", val_accuracy = {val_acc:.2f}% & \"\n",
    "          f\"LR = {optimizer.param_groups[0]['lr']:.4f}\\n\")\n",
    "    \n",
    "    training_history_lr_scheduler[epoch + 1] = {\n",
    "        'loss': train_loss, 'acc': train_acc,\n",
    "        'val_loss': val_loss, 'val_acc': val_acc,\n",
    "        'lr': optimizer.param_groups[0]['lr']\n",
    "    }\n",
    "\n",
    "    \n",
    "    # Save best weights achieved until now-\n",
    "    if (val_loss < best_val_loss):    \n",
    "        # update 'best_val_loss' variable to lowest loss encountered so far-\n",
    "        best_val_loss = val_loss\n",
    "\n",
    "        print(f\"Saving model with lowest val_loss = {val_loss:.4f}\\n\")\n",
    "        \n",
    "        # Save trained model with 'best' validation accuracy-\n",
    "        torch.save(model.state_dict(), \"ResNet18_best_model.pth\")\n",
    "        "
   ]
  },
  {
   "cell_type": "code",
   "execution_count": null,
   "id": "d89da023-e289-4166-89b3-c78aad7cf548",
   "metadata": {},
   "outputs": [],
   "source": []
  },
  {
   "cell_type": "code",
   "execution_count": 35,
   "id": "a274d8f3-2506-4887-896c-af2959a62c61",
   "metadata": {},
   "outputs": [
    {
     "name": "stdout",
     "output_type": "stream",
     "text": [
      "Finished training ResNet-18 CNN on CIFAR-10 dataset\n"
     ]
    }
   ],
   "source": [
    "print(f\"Finished training ResNet-18 CNN on CIFAR-10 dataset\")"
   ]
  },
  {
   "cell_type": "code",
   "execution_count": 36,
   "id": "4e252b63-3b02-400d-b922-a90ddaac3b2b",
   "metadata": {},
   "outputs": [],
   "source": [
    "# Save model from last training epoch-\n",
    "torch.save(model.state_dict(), \"ResNet18_last_epoch_model.pth\")"
   ]
  },
  {
   "cell_type": "code",
   "execution_count": null,
   "id": "57acc7bf-b2b5-4f4e-93ba-142f01e3f3da",
   "metadata": {},
   "outputs": [],
   "source": []
  },
  {
   "cell_type": "code",
   "execution_count": 37,
   "id": "4b9e9b1c-77bf-4377-b8a3-739b10c14119",
   "metadata": {},
   "outputs": [],
   "source": [
    "# Save training metrics as Python3 history for later analysis-\n",
    "with open(\"ResNet18_training_history_lr_scheduler.pkl\", \"wb\") as file:\n",
    "    pickle.dump(training_history_lr_scheduler, file)"
   ]
  },
  {
   "cell_type": "code",
   "execution_count": 38,
   "id": "8738816d-3ef3-4bbe-a0d9-8b5e06938b70",
   "metadata": {},
   "outputs": [],
   "source": [
    "del model"
   ]
  },
  {
   "cell_type": "code",
   "execution_count": null,
   "id": "cdc9a4e8-62d6-4aee-b970-a4cd43da6bee",
   "metadata": {},
   "outputs": [],
   "source": []
  },
  {
   "cell_type": "code",
   "execution_count": 39,
   "id": "27bf12d7-3f27-4542-ba6c-e51eb2ede4fa",
   "metadata": {},
   "outputs": [
    {
     "data": {
      "text/plain": [
       "<All keys matched successfully>"
      ]
     },
     "execution_count": 39,
     "metadata": {},
     "output_type": "execute_result"
    }
   ],
   "source": [
    "# Initialize and load 'best' trained parameters from above-\n",
    "best_trained_model = ResNet18().to(device)\n",
    "best_trained_model.load_state_dict(torch.load('ResNet18_best_model.pth'))"
   ]
  },
  {
   "cell_type": "code",
   "execution_count": 40,
   "id": "dbb4256f-61d1-47d4-af12-f4cc370a06c4",
   "metadata": {},
   "outputs": [
    {
     "name": "stderr",
     "output_type": "stream",
     "text": [
      "Validation: : 100%|████████████████████████████████████████████████████████████████████| 40/40 [00:01<00:00, 23.02batch/s, val_acc=93.1, val_loss=0.312]\n"
     ]
    }
   ],
   "source": [
    "# Get validation loss and accuracy-\n",
    "val_loss, val_acc = test_model_progress(best_trained_model, test_loader)"
   ]
  },
  {
   "cell_type": "code",
   "execution_count": 41,
   "id": "f5b9a230-83a0-4990-8f67-0b99a28e4a59",
   "metadata": {},
   "outputs": [
    {
     "name": "stdout",
     "output_type": "stream",
     "text": [
      "ResNet-18 'best' model metrics: val_loss = 0.3118 & val_acc = 93.14%\n"
     ]
    }
   ],
   "source": [
    "print(f\"ResNet-18 'best' model metrics: val_loss = {val_loss:.4f} & val_acc = {val_acc:.2f}%\")"
   ]
  },
  {
   "cell_type": "code",
   "execution_count": 42,
   "id": "8119a41d-ef4b-4cf9-b697-7bd2f4204ded",
   "metadata": {},
   "outputs": [],
   "source": [
    "del best_trained_model"
   ]
  },
  {
   "cell_type": "code",
   "execution_count": null,
   "id": "b09a2591-186e-4e5b-a6e3-8e3595768169",
   "metadata": {},
   "outputs": [],
   "source": []
  },
  {
   "cell_type": "code",
   "execution_count": null,
   "id": "841f7c0f-20f2-492d-a6ac-d9d515551317",
   "metadata": {},
   "outputs": [],
   "source": []
  },
  {
   "cell_type": "markdown",
   "id": "392d3dd7-3d0b-4eba-b65d-501526fffb13",
   "metadata": {},
   "source": [
    "### ResNet-18 training visualizations"
   ]
  },
  {
   "cell_type": "code",
   "execution_count": 43,
   "id": "1f5f0910-0612-4266-97b2-2fd4f78d0b63",
   "metadata": {},
   "outputs": [
    {
     "data": {
      "image/png": "[encoded data removed]",
      "text/plain": [
       "<Figure size 648x504 with 1 Axes>"
      ]
     },
     "metadata": {
      "needs_background": "light"
     },
     "output_type": "display_data"
    }
   ],
   "source": [
    "plt.figure(figsize = (9, 7))\n",
    "plt.plot(list(training_history_lr_scheduler.keys()), [training_history_lr_scheduler[k]['acc'] for k in training_history_lr_scheduler.keys()], label = 'training acc')\n",
    "plt.plot(list(training_history_lr_scheduler.keys()), [training_history_lr_scheduler[k]['val_acc'] for k in training_history_lr_scheduler.keys()], label = 'val acc')\n",
    "plt.title(\"ResNet-18: Training Accuracy\")\n",
    "plt.xlabel(\"epochs\")\n",
    "plt.ylabel(\"accuracy (%)\")\n",
    "plt.legend(loc = 'best')\n",
    "plt.show()"
   ]
  },
  {
   "cell_type": "code",
   "execution_count": 44,
   "id": "a80b7ee1-ce7c-4eb0-bec4-8dcb5cd01d16",
   "metadata": {},
   "outputs": [
    {
     "data": {
      "image/png": "[encoded data removed]",
      "text/plain": [
       "<Figure size 648x504 with 1 Axes>"
      ]
     },
     "metadata": {
      "needs_background": "light"
     },
     "output_type": "display_data"
    }
   ],
   "source": [
    "plt.figure(figsize = (9, 7))\n",
    "plt.plot(list(training_history_lr_scheduler.keys()), [training_history_lr_scheduler[k]['loss'] for k in training_history_lr_scheduler.keys()], label = 'training loss')\n",
    "plt.plot(list(training_history_lr_scheduler.keys()), [training_history_lr_scheduler[k]['val_loss'] for k in training_history_lr_scheduler.keys()], label = 'val loss')\n",
    "plt.xlabel(\"epochs\")\n",
    "plt.ylabel(\"loss\")\n",
    "plt.legend(loc = 'best')\n",
    "plt.title(\"ResNet-18: Training Loss\")\n",
    "plt.show()"
   ]
  },
  {
   "cell_type": "code",
   "execution_count": 45,
   "id": "6ca1a9c4-3b93-44a0-8e99-89f6c413cd9c",
   "metadata": {},
   "outputs": [
    {
     "data": {
      "image/png": "[encoded data removed]",
      "text/plain": [
       "<Figure size 648x504 with 1 Axes>"
      ]
     },
     "metadata": {
      "needs_background": "light"
     },
     "output_type": "display_data"
    }
   ],
   "source": [
    "plt.figure(figsize = (9, 7))\n",
    "plt.plot(list(training_history_lr_scheduler.keys()), [training_history_lr_scheduler[k]['lr'] for k in training_history_lr_scheduler.keys()])\n",
    "plt.xlabel(\"epochs\")\n",
    "plt.ylabel(\"lr\")\n",
    "plt.title(\"ResNet-18: Learning-Rate\")\n",
    "plt.show()"
   ]
  },
  {
   "cell_type": "code",
   "execution_count": null,
   "id": "27a3aa25-050c-42a7-96d6-f7511ef070fe",
   "metadata": {},
   "outputs": [],
   "source": []
  },
  {
   "cell_type": "code",
   "execution_count": null,
   "id": "c9be4d8f-d21e-4fee-8c51-da85800c2b51",
   "metadata": {},
   "outputs": [],
   "source": []
  }
 ],
 "metadata": {
  "kernelspec": {
   "display_name": "Python 3 (ipykernel)",
   "language": "python",
   "name": "python3"
  },
  "language_info": {
   "codemirror_mode": {
    "name": "ipython",
    "version": 3
   },
   "file_extension": ".py",
   "mimetype": "text/x-python",
   "name": "python",
   "nbconvert_exporter": "python",
   "pygments_lexer": "ipython3",
   "version": "3.9.12"
  }
 },
 "nbformat": 4,
 "nbformat_minor": 5
}
