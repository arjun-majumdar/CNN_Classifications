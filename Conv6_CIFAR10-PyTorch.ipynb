{
 "cells": [
  {
   "cell_type": "markdown",
   "id": "d8410294-0c74-4db3-9dad-8a76184bfa72",
   "metadata": {},
   "source": [
    "# Conv-6: Convolutional Neural Network with CIFAR10 and PyTorch"
   ]
  },
  {
   "cell_type": "code",
   "execution_count": 1,
   "id": "b8aabefc-00b6-4b72-acf4-d628b1e19a8f",
   "metadata": {},
   "outputs": [
    {
     "name": "stdout",
     "output_type": "stream",
     "text": [
      "env: CUDA_DEVICE_ORDER=PCI_BUS_ID\n",
      "env: CUDA_VISIBLE_DEVICES=0\n"
     ]
    }
   ],
   "source": [
    "# Specify GPU to be used-\n",
    "%env CUDA_DEVICE_ORDER = PCI_BUS_ID\n",
    "%env CUDA_VISIBLE_DEVICES = 0"
   ]
  },
  {
   "cell_type": "code",
   "execution_count": 2,
   "id": "a05fad2a-708d-4bfc-a0f8-9b061246fb90",
   "metadata": {},
   "outputs": [],
   "source": [
    "import torch\n",
    "import torch.nn as nn\n",
    "import torch.nn.functional as F\n",
    "import torchvision\n",
    "import torchvision.transforms as transforms\n",
    "\n",
    "from tqdm import tqdm\n",
    "from tqdm import trange\n",
    "import matplotlib.pyplot as plt\n",
    "import seaborn as sns\n",
    "import numpy as np\n",
    "import pickle"
   ]
  },
  {
   "cell_type": "code",
   "execution_count": null,
   "id": "b191d3f1-9712-4191-9f05-e7becae8e986",
   "metadata": {},
   "outputs": [],
   "source": []
  },
  {
   "cell_type": "code",
   "execution_count": null,
   "id": "9fa22102-3bde-480d-ae77-ef30beab2009",
   "metadata": {},
   "outputs": [],
   "source": []
  },
  {
   "cell_type": "code",
   "execution_count": 3,
   "id": "263501aa-b0d4-4e56-96e0-4076cd76274b",
   "metadata": {},
   "outputs": [
    {
     "name": "stdout",
     "output_type": "stream",
     "text": [
      "torch version: 1.11.0\n"
     ]
    }
   ],
   "source": [
    "print(f\"torch version: {torch.__version__}\")"
   ]
  },
  {
   "cell_type": "code",
   "execution_count": 4,
   "id": "9d0f434e-d0b8-4538-abeb-dd4e12af49b0",
   "metadata": {},
   "outputs": [
    {
     "name": "stdout",
     "output_type": "stream",
     "text": [
      "Number of GPU(s) available = 1\n",
      "Current GPU: 0\n",
      "Current GPU name: NVIDIA GeForce RTX 3080 Laptop GPU\n"
     ]
    }
   ],
   "source": [
    "# Check if there are multiple devices (i.e., GPU cards)-\n",
    "print(f\"Number of GPU(s) available = {torch.cuda.device_count()}\")\n",
    "\n",
    "# Which GPU Is The Current GPU?\n",
    "# print(f\"current GPU: {torch.cuda.current_device()}\")\n",
    "\n",
    "# Get the name of the current GPU-\n",
    "# print(f\"Current GPU name: {torch.cuda.get_device_name(torch.cuda.current_device())}\")\n",
    "\n",
    "# Is PyTorch using a GPU?\n",
    "# print(f\"Is PyTorch using a GPU? {torch.cuda.is_available()}\")\n",
    "\n",
    "if torch.cuda.is_available():\n",
    "    print(f\"Current GPU: {torch.cuda.current_device()}\")\n",
    "    print(f\"Current GPU name: {torch.cuda.get_device_name(torch.cuda.current_device())}\")\n",
    "else:\n",
    "    print(\"PyTorch does not have access to GPU\")"
   ]
  },
  {
   "cell_type": "code",
   "execution_count": 5,
   "id": "049eea2c-2763-4d42-ac32-4db71112d9c5",
   "metadata": {},
   "outputs": [
    {
     "name": "stdout",
     "output_type": "stream",
     "text": [
      "Available device is cuda\n"
     ]
    }
   ],
   "source": [
    "# Device configuration-\n",
    "device = torch.device('cuda' if torch.cuda.is_available() else 'cpu')\n",
    "print(f'Available device is {device}')"
   ]
  },
  {
   "cell_type": "code",
   "execution_count": null,
   "id": "f5b9ddaf-a1ec-4496-8f2d-4aa39a47ff37",
   "metadata": {},
   "outputs": [],
   "source": []
  },
  {
   "cell_type": "code",
   "execution_count": null,
   "id": "d2bbb7b5-ef14-44ca-b764-2bafef320de3",
   "metadata": {},
   "outputs": [],
   "source": []
  },
  {
   "cell_type": "code",
   "execution_count": 6,
   "id": "36c7d5de-5bcc-48fb-8af3-f7d4464bb8b9",
   "metadata": {},
   "outputs": [],
   "source": [
    "# Hyper-parameters-\n",
    "num_epochs = 50\n",
    "batch_size = 64\n",
    "learning_rate = 0.001"
   ]
  },
  {
   "cell_type": "code",
   "execution_count": null,
   "id": "5b1ebf10-0996-4d29-a028-153344b8fc86",
   "metadata": {},
   "outputs": [],
   "source": []
  },
  {
   "cell_type": "code",
   "execution_count": null,
   "id": "2fb3cd49-6f3b-4863-b181-d3453047576b",
   "metadata": {},
   "outputs": [],
   "source": []
  },
  {
   "cell_type": "markdown",
   "id": "a05220d5-c066-433f-85ca-9d0123beb483",
   "metadata": {},
   "source": [
    "### CIFAR-10 Data Pre-preprocessing\n",
    "\n",
    "__Insight:__\n",
    "\n",
    "```transforms.ToTensor()``` is similar to TensorFlow's ```X_train /= 255.0``` and ```X_test /= 255.0``` to get the resulting pixel values in the range of 0-1."
   ]
  },
  {
   "cell_type": "code",
   "execution_count": null,
   "id": "a00e23a5-8092-4785-8790-a4a97ba53739",
   "metadata": {},
   "outputs": [],
   "source": [
    "'''\n",
    "# train dataset-\n",
    "transforms.Normalize(\n",
    "    mean = [0.49139968, 0.48215841, 0.44653091],\n",
    "    std = [0.24703223, 0.24348513, 0.26158784],\n",
    "    inplace = False\n",
    ")\n",
    "'''"
   ]
  },
  {
   "cell_type": "code",
   "execution_count": null,
   "id": "561d2b67-2196-4c8c-a460-1db1fe01ec65",
   "metadata": {},
   "outputs": [],
   "source": [
    "'''\n",
    "# test dataset-\n",
    "transforms.Normalize(\n",
    "    mean = [0.49421428, 0.48513139, 0.45040909],\n",
    "    std = [0.24665252, 0.24289226, 0.26159238],\n",
    "    inplace = False\n",
    ")\n",
    "'''"
   ]
  },
  {
   "cell_type": "code",
   "execution_count": null,
   "id": "a42d678d-3c5d-4942-897c-85249e9d48d0",
   "metadata": {},
   "outputs": [],
   "source": [
    "# train dataset transform-\n",
    "'''\n",
    "transforms.Normalize(\n",
    "    mean = [0.49139968, 0.48215841, 0.44653091],\n",
    "    std = [0.24703223, 0.24348513, 0.26158784],\n",
    "    inplace = False\n",
    ")\n",
    "\n",
    "# transforms.Normalize((0.4914, 0.4822, 0.4465), (0.2023, 0.1994, 0.2010))\n",
    "# transforms.Normalize((0.5, 0.5, 0.5), (0.5, 0.5, 0.5))\n",
    "'''\n",
    "\n",
    "# test dataset transform-\n",
    "'''\n",
    "transforms.Normalize(\n",
    "    mean = [0.49421428, 0.48513139, 0.45040909],\n",
    "    std = [0.24665252, 0.24289226, 0.26159238],\n",
    "    inplace = False\n",
    ")\n",
    "'''\n",
    "# transforms.Normalize((0.4914, 0.4822, 0.4465), (0.2023, 0.1994, 0.2010))\n",
    "# transforms.Normalize((0.5, 0.5, 0.5), (0.5, 0.5, 0.5))"
   ]
  },
  {
   "cell_type": "code",
   "execution_count": null,
   "id": "5145d17e-60bf-478d-a199-d2dce205a9d0",
   "metadata": {},
   "outputs": [],
   "source": []
  },
  {
   "cell_type": "code",
   "execution_count": 7,
   "id": "948a224b-2c57-4f9e-b6fc-e0baf0a0b076",
   "metadata": {},
   "outputs": [],
   "source": [
    "path_to_data = \"C:\\\\Users\\\\arjun\\Downloads\\\\\""
   ]
  },
  {
   "cell_type": "markdown",
   "id": "9a41d60f-fb76-462a-b5a2-796fe5ecb89c",
   "metadata": {},
   "source": [
    "#### ```transforms.ToTensor()```\n",
    "\n",
    "Convert a _PIL Image_ or _numpy.ndarray_ to tensor. This transform does not support torchscript.\n",
    "\n",
    "Converts a PIL Image or numpy.ndarray (H x W x C) in the range [0, 255] to a torch.FloatTensor of shape (C x H x W) in the range [0.0, 1.0] if the PIL Image belongs to one of the modes (L, LA, P, I, F, RGB, YCbCr, RGBA, CMYK, 1) or if the numpy.ndarray has ```dtype = np.uint8```.\n",
    "\n",
    "In the other cases, tensors are returned without scaling.\n",
    "\n",
    "__Note:__ Because the input image is scaled to [0.0, 1.0], this transformation should not be used when transforming target image masks."
   ]
  },
  {
   "cell_type": "code",
   "execution_count": 8,
   "id": "0eeaa7cb-2f77-4552-9f87-453c7b5139fd",
   "metadata": {},
   "outputs": [],
   "source": [
    "# Dataset has PILImage images of range [0, 1]. We transform them to Tensors\n",
    "# of normalized range [-1, 1].\n",
    "\n",
    "# Define transformations for CIFAR-10 training & test sets-\n",
    "transform_train = transforms.Compose(\n",
    "    [\n",
    "        transforms.RandomCrop(size = 32, padding = 4),\n",
    "        transforms.RandomHorizontalFlip(p = 0.5),\n",
    "        transforms.ToTensor()\n",
    "    ]\n",
    ")\n",
    "\n",
    "transform_test = transforms.Compose(\n",
    "    [\n",
    "        transforms.ToTensor()\n",
    "    ]\n",
    ")"
   ]
  },
  {
   "cell_type": "code",
   "execution_count": 9,
   "id": "40415fc1-fd85-45ad-ba51-b6a5ecc66429",
   "metadata": {},
   "outputs": [
    {
     "name": "stdout",
     "output_type": "stream",
     "text": [
      "Files already downloaded and verified\n",
      "Files already downloaded and verified\n"
     ]
    }
   ],
   "source": [
    "# Load CIFAR-10 dataset-\n",
    "train_dataset = torchvision.datasets.CIFAR10(\n",
    "        root = path_to_data + 'data', train = True,\n",
    "        download = True, transform = transform_train\n",
    "        )\n",
    "\n",
    "test_dataset = torchvision.datasets.CIFAR10(\n",
    "        root = path_to_data + 'data', train = False,\n",
    "        download = True, transform = transform_test\n",
    "        )"
   ]
  },
  {
   "cell_type": "code",
   "execution_count": 10,
   "id": "f9e329e0-d1de-442a-a5f4-bc3423b3ec23",
   "metadata": {},
   "outputs": [
    {
     "name": "stdout",
     "output_type": "stream",
     "text": [
      "training dataset shape: (50000, 32, 32, 3) & test dataset shape: (10000, 32, 32, 3)\n"
     ]
    }
   ],
   "source": [
    "print(f\"training dataset shape: {train_dataset.data.shape} & test dataset shape:\"\n",
    "     f\" {test_dataset.data.shape}\")"
   ]
  },
  {
   "cell_type": "code",
   "execution_count": 11,
   "id": "ce0cd20c-d4df-4bc9-a8b3-4f180dc42b59",
   "metadata": {},
   "outputs": [
    {
     "name": "stdout",
     "output_type": "stream",
     "text": [
      "train_dataset statistics for all channels:\n",
      "mean for all channels = [0.49139968 0.48215841 0.44653091]\n",
      "std dev for all channels = [0.24703223 0.24348513 0.26158784]\n"
     ]
    }
   ],
   "source": [
    "print(\"train_dataset statistics for all channels:\")\n",
    "print(f\"mean for all channels = {train_dataset.data.mean(axis = (0, 1, 2)) / 255}\")\n",
    "print(f\"std dev for all channels = {train_dataset.data.std(axis = (0, 1, 2)) / 255}\")"
   ]
  },
  {
   "cell_type": "code",
   "execution_count": 12,
   "id": "6001ed00-44d0-4ac9-b5dc-075c236f7934",
   "metadata": {},
   "outputs": [
    {
     "name": "stdout",
     "output_type": "stream",
     "text": [
      "test_dataset statistics for all channels:\n",
      "mean for all channels = [0.49421428 0.48513139 0.45040909]\n",
      "std dev for all channels = [0.24665252 0.24289226 0.26159238]\n"
     ]
    }
   ],
   "source": [
    "print(\"test_dataset statistics for all channels:\")\n",
    "print(f\"mean for all channels = {test_dataset.data.mean(axis = (0, 1, 2)) / 255}\")\n",
    "print(f\"std dev for all channels = {test_dataset.data.std(axis = (0, 1, 2)) / 255}\")"
   ]
  },
  {
   "cell_type": "code",
   "execution_count": null,
   "id": "ae02fd7d-2871-41d6-b182-7b2fc2f5a92d",
   "metadata": {},
   "outputs": [],
   "source": []
  },
  {
   "cell_type": "code",
   "execution_count": 13,
   "id": "895e5aea-ee55-4d7d-b77d-501cc798ab17",
   "metadata": {},
   "outputs": [
    {
     "data": {
      "text/plain": [
       "(0, 255)"
      ]
     },
     "execution_count": 13,
     "metadata": {},
     "output_type": "execute_result"
    }
   ],
   "source": [
    "# Sanity check-\n",
    "train_dataset.data.min(), train_dataset.data.max()"
   ]
  },
  {
   "cell_type": "code",
   "execution_count": 14,
   "id": "09d3f1c7-14b2-4e25-abba-08bdf8fbe246",
   "metadata": {},
   "outputs": [],
   "source": [
    "# Create training and testing loaders-\n",
    "train_loader = torch.utils.data.DataLoader(\n",
    "    dataset = train_dataset, batch_size = batch_size,\n",
    "    shuffle = True\n",
    ")\n",
    "\n",
    "test_loader = torch.utils.data.DataLoader(\n",
    "    dataset = test_dataset, batch_size = batch_size,\n",
    "    shuffle = False\n",
    ")"
   ]
  },
  {
   "cell_type": "code",
   "execution_count": 15,
   "id": "9a8657ed-2a9f-4085-99fe-818805fd2ea2",
   "metadata": {},
   "outputs": [
    {
     "name": "stdout",
     "output_type": "stream",
     "text": [
      "Sizes of train_dataset: 50000 and test_dataet: 10000\n",
      "Sizes of train_loader: 782 and test_loader: 157\n"
     ]
    }
   ],
   "source": [
    "print(f\"Sizes of train_dataset: {len(train_dataset)} and test_dataet: {len(test_dataset)}\")\n",
    "print(f\"Sizes of train_loader: {len(train_loader)} and test_loader: {len(test_loader)}\")"
   ]
  },
  {
   "cell_type": "code",
   "execution_count": 16,
   "id": "176316dd-83cc-4e51-a5fe-d3706a51fcc9",
   "metadata": {},
   "outputs": [
    {
     "name": "stdout",
     "output_type": "stream",
     "text": [
      "len(train_loader) = 782 & len(test_loader) = 157\n"
     ]
    }
   ],
   "source": [
    "print(f\"len(train_loader) = {len(train_loader)} & len(test_loader) = {len(test_loader)}\")"
   ]
  },
  {
   "cell_type": "code",
   "execution_count": 17,
   "id": "723c847c-1ecb-49e1-8278-77b84c628031",
   "metadata": {},
   "outputs": [
    {
     "data": {
      "text/plain": [
       "(781.25, 156.25)"
      ]
     },
     "execution_count": 17,
     "metadata": {},
     "output_type": "execute_result"
    }
   ],
   "source": [
    "# Sanity check-\n",
    "len(train_dataset) / batch_size, len(test_dataset) / batch_size"
   ]
  },
  {
   "cell_type": "code",
   "execution_count": 18,
   "id": "536b7027-240d-4804-a568-74d78801f59f",
   "metadata": {},
   "outputs": [
    {
     "data": {
      "text/plain": [
       "(50000, 32, 32, 3)"
      ]
     },
     "execution_count": 18,
     "metadata": {},
     "output_type": "execute_result"
    }
   ],
   "source": [
    "# next(iter(train_loader))\n",
    "train_loader.dataset.data.shape"
   ]
  },
  {
   "cell_type": "code",
   "execution_count": null,
   "id": "cc707dd5-558b-4bce-9838-201cd1a6cc70",
   "metadata": {},
   "outputs": [],
   "source": []
  },
  {
   "cell_type": "code",
   "execution_count": null,
   "id": "7093bd3f-4330-4176-931f-54b66170ef88",
   "metadata": {},
   "outputs": [],
   "source": []
  },
  {
   "cell_type": "code",
   "execution_count": 19,
   "id": "9a00b630-5545-46f2-8fac-df4801898a43",
   "metadata": {},
   "outputs": [],
   "source": [
    "# Sanity check- Pixel values are in the range [0,1]-\n",
    "for images, labels in train_loader:\n",
    "    if images.min() != 0:\n",
    "        print(f\"images.min() = {images.min():.2f}\")\n",
    "    if images.max() != 1:\n",
    "        print(f\"images.max() = {images.max():.2f}\")"
   ]
  },
  {
   "cell_type": "code",
   "execution_count": 20,
   "id": "980cb217-2e9c-4045-a3d0-5f103dbe9e42",
   "metadata": {},
   "outputs": [],
   "source": [
    "# Sanity check- Pixel values are in the range [0,1]-\n",
    "for images, labels in test_loader:\n",
    "    if images.min() != 0:\n",
    "        print(f\"images.min() = {images.min():.2f}\")\n",
    "    if images.max() != 1:\n",
    "        print(f\"images.max() = {images.max():.2f}\")"
   ]
  },
  {
   "cell_type": "code",
   "execution_count": null,
   "id": "35cfd2d8-0fe6-4a59-b0f0-96eef911dc1e",
   "metadata": {},
   "outputs": [],
   "source": []
  },
  {
   "cell_type": "code",
   "execution_count": 21,
   "id": "fae78fec-7f73-415b-9b18-34b1fc4d520e",
   "metadata": {},
   "outputs": [],
   "source": [
    "images, labels = next(iter(train_loader))"
   ]
  },
  {
   "cell_type": "code",
   "execution_count": 22,
   "id": "cfa752ed-ff62-448a-bc8f-5d08202f96bc",
   "metadata": {},
   "outputs": [],
   "source": [
    "images = images.cpu().detach().numpy()\n",
    "labels = labels.cpu().detach().numpy()"
   ]
  },
  {
   "cell_type": "code",
   "execution_count": 23,
   "id": "5ed1a91f-729e-4a57-82d2-a29a14bea8f0",
   "metadata": {},
   "outputs": [],
   "source": [
    "# De-normalize the batch of images-\n",
    "images = images / 2 + 0.5"
   ]
  },
  {
   "cell_type": "code",
   "execution_count": 24,
   "id": "afe939ec-7f7b-483c-beb1-7de76ccfe9ea",
   "metadata": {},
   "outputs": [],
   "source": [
    "images = np.transpose(images, (0, 2, 3, 1))"
   ]
  },
  {
   "cell_type": "code",
   "execution_count": 25,
   "id": "e466cc4f-bb67-4512-82fc-c4021f5d0356",
   "metadata": {},
   "outputs": [
    {
     "data": {
      "text/plain": [
       "(64, 32, 32, 3)"
      ]
     },
     "execution_count": 25,
     "metadata": {},
     "output_type": "execute_result"
    }
   ],
   "source": [
    "images.shape"
   ]
  },
  {
   "cell_type": "code",
   "execution_count": 26,
   "id": "95d3df40-c833-4c3c-8f86-2f260718fcbd",
   "metadata": {},
   "outputs": [
    {
     "data": {
      "text/plain": [
       "(0.5, 1.0)"
      ]
     },
     "execution_count": 26,
     "metadata": {},
     "output_type": "execute_result"
    }
   ],
   "source": [
    "images.min(), images.max()"
   ]
  },
  {
   "cell_type": "code",
   "execution_count": null,
   "id": "c6e2b217-dd64-4668-903c-bf817276d938",
   "metadata": {},
   "outputs": [],
   "source": []
  },
  {
   "cell_type": "code",
   "execution_count": 27,
   "id": "72ead821-8a80-4773-866a-c8d20180f8ec",
   "metadata": {},
   "outputs": [
    {
     "data": {
      "text/plain": [
       "<matplotlib.image.AxesImage at 0x17918fe1760>"
      ]
     },
     "execution_count": 27,
     "metadata": {},
     "output_type": "execute_result"
    },
    {
     "data": {
      "image/png": "[encoded data removed]",
      "text/plain": [
       "<Figure size 432x288 with 1 Axes>"
      ]
     },
     "metadata": {
      "needs_background": "light"
     },
     "output_type": "display_data"
    }
   ],
   "source": [
    "plt.imshow(images[2])"
   ]
  },
  {
   "cell_type": "code",
   "execution_count": null,
   "id": "f0d4bd28-4318-4469-b4b7-4e90598ad5ab",
   "metadata": {},
   "outputs": [],
   "source": []
  },
  {
   "cell_type": "code",
   "execution_count": 28,
   "id": "862a994d-9f22-4d82-86ec-5a68825ccaef",
   "metadata": {},
   "outputs": [
    {
     "data": {
      "image/png": "[encoded data removed]",
      "text/plain": [
       "<Figure size 576x504 with 20 Axes>"
      ]
     },
     "metadata": {
      "needs_background": "light"
     },
     "output_type": "display_data"
    }
   ],
   "source": [
    "# Visualize 20 images from training set-\n",
    "plt.figure(figsize = (8, 7))\n",
    "for i in range(20):\n",
    "    # 4 rows and 5 columns-\n",
    "    plt.subplot(4, 5, i + 1)\n",
    "    plt.imshow(images[i])\n",
    "    \n",
    "plt.suptitle(\"Sample CIFAR-10 training images\")\n",
    "plt.show()"
   ]
  },
  {
   "cell_type": "code",
   "execution_count": null,
   "id": "20669ac5-46b7-4623-bf61-3cc765410a69",
   "metadata": {},
   "outputs": [],
   "source": []
  },
  {
   "cell_type": "code",
   "execution_count": null,
   "id": "189ab83b-f460-482c-b491-22c775b6147b",
   "metadata": {},
   "outputs": [],
   "source": []
  },
  {
   "cell_type": "markdown",
   "id": "79c3b9b9-029a-4481-8cb1-9854db6997f5",
   "metadata": {},
   "source": [
    "### Define _Conv-6_ CNN architecture"
   ]
  },
  {
   "cell_type": "code",
   "execution_count": 29,
   "id": "c8c276d8-2f1e-4455-9f9f-87603180394c",
   "metadata": {},
   "outputs": [],
   "source": [
    "class cnn_block(nn.Module):\n",
    "    def __init__(self, input_channels, output_channels):\n",
    "        super(cnn_block, self).__init__()\n",
    "        \n",
    "        # Define layers-\n",
    "        self.conv1 = nn.Conv2d(\n",
    "            in_channels = input_channels, out_channels = output_channels,\n",
    "            kernel_size = 3, stride = 1,\n",
    "            padding = 1, bias = True\n",
    "        )\n",
    "        self.conv2 = nn.Conv2d(\n",
    "            in_channels = output_channels, out_channels = output_channels,\n",
    "            kernel_size = 3, stride = 1,\n",
    "            padding = 1, bias = True\n",
    "        )\n",
    "        self.pool = nn.MaxPool2d(\n",
    "            kernel_size = 2, stride = 2\n",
    "        )\n",
    "        \n",
    "        self.initialize_weights()\n",
    "  \n",
    "\n",
    "    def forward(self, x):\n",
    "        x = F.relu(self.conv1(x))\n",
    "        x = F.relu(self.conv2(x))\n",
    "        return self.pool(x)\n",
    "    \n",
    "    \n",
    "    def shape_computation(self, x):\n",
    "        print(f\"Input shape: {x.shape}\")\n",
    "        x = self.conv1(x)\n",
    "        print(f\"Conv1 output shape: {x.shape}\")\n",
    "        x = self.conv2(x)\n",
    "        print(f\"Conv2 output shape: {x.shape}\")\n",
    "        x = self.pool(x)\n",
    "        print(f\"Pooling output shape: {x.shape}\")\n",
    "        del x\n",
    "        return None\n",
    "    \n",
    "    \n",
    "    def initialize_weights(self):\n",
    "        for m in self.modules():\n",
    "            # print(m)\n",
    "            if isinstance(m, nn.Conv2d):\n",
    "                nn.init.kaiming_uniform_(m.weight)\n",
    "                \n",
    "                # Do not initialize bias (due to batchnorm)-\n",
    "                if m.bias is not None:\n",
    "                    nn.init.constant_(m.bias, 0)\n",
    "                \n",
    "            elif isinstance(m, nn.BatchNorm2d):\n",
    "                # Standard initialization for batch normalization-\n",
    "                nn.init.constant_(m.weight, 1)\n",
    "                nn.init.constant_(m.bias, 0)\n",
    "\n",
    "            elif isinstance(m, nn.Linear):\n",
    "                nn.init.kaiming_normal_(m.weight)\n",
    "                nn.init.constant_(m.bias, 0)\n",
    "        \n",
    "        "
   ]
  },
  {
   "cell_type": "code",
   "execution_count": 30,
   "id": "fcc04985-b6c8-4a79-9805-29a1745b856b",
   "metadata": {},
   "outputs": [],
   "source": [
    "class Conv6(nn.Module):\n",
    "    def __init__(self):\n",
    "        super(Conv6, self).__init__()\n",
    "        \n",
    "        self.block1 = cnn_block(input_channels = 3, output_channels = 64)\n",
    "        self.block2 = cnn_block(input_channels = 64, output_channels = 128)\n",
    "        self.block3 = cnn_block(input_channels = 128, output_channels = 256)\n",
    "        \n",
    "        self.fc1 = nn.Linear(\n",
    "            in_features = 256 * 4 * 4, out_features = 256,\n",
    "            bias = True\n",
    "        )\n",
    "        self.fc2 = nn.Linear(\n",
    "            in_features = 256, out_features = 256,\n",
    "            bias = True\n",
    "        )\n",
    "        self.op_layer = nn.Linear(\n",
    "            in_features = 256, out_features = 10,\n",
    "            bias = True\n",
    "        )\n",
    "        \n",
    "        self.initialize_weights()\n",
    "    \n",
    "\n",
    "    def forward(self, x):\n",
    "        x = self.block1(x)\n",
    "        x = self.block2(x)\n",
    "        x = self.block3(x)\n",
    "        x = torch.flatten(x, start_dim = 1)\n",
    "        x = F.relu(self.fc1(x))\n",
    "        x = F.relu(self.fc2(x))\n",
    "        return self.op_layer(x)\n",
    "\n",
    "\n",
    "    def shape_computation(self, x):\n",
    "        print(f\"Input shape: {x.shape}\")\n",
    "        x = self.block1(x)\n",
    "        print(f\"conv block1 output shape: {x.shape}\")\n",
    "        x = self.block2(x)\n",
    "        print(f\"conv block2 output shape: {x.shape}\")\n",
    "        x = self.block3(x)\n",
    "        print(f\"conv block3 output shape: {x.shape}\")\n",
    "        x = torch.flatten(x, start_dim = 1)\n",
    "        print(f\"flattened shape: {x.shape}\")\n",
    "        x = self.fc1(x)\n",
    "        print(f\"dense1 output shape: {x.shape}\")\n",
    "        x = self.fc2(x)\n",
    "        print(f\"dense2 output shape: {x.shape}\")\n",
    "        x = self.op_layer(x)\n",
    "        print(f\"output shape: {x.shape}\")\n",
    "        del x\n",
    "        return None\n",
    "    \n",
    "    \n",
    "    def initialize_weights(self):\n",
    "        for m in self.modules():\n",
    "            # print(m)\n",
    "            if isinstance(m, nn.Conv2d):\n",
    "                nn.init.kaiming_uniform_(m.weight)\n",
    "                \n",
    "                # Do not initialize bias (due to batchnorm)-\n",
    "                if m.bias is not None:\n",
    "                    nn.init.constant_(m.bias, 0)\n",
    "                \n",
    "            elif isinstance(m, nn.BatchNorm2d):\n",
    "                # Standard initialization for batch normalization-\n",
    "                nn.init.constant_(m.weight, 1)\n",
    "                nn.init.constant_(m.bias, 0)\n",
    "\n",
    "            elif isinstance(m, nn.Linear):\n",
    "                nn.init.kaiming_normal_(m.weight)\n",
    "                nn.init.constant_(m.bias, 0)\n",
    "        \n",
    "    "
   ]
  },
  {
   "cell_type": "code",
   "execution_count": null,
   "id": "0fdae880-c44a-49c6-b0f4-49450e67bd59",
   "metadata": {},
   "outputs": [],
   "source": []
  },
  {
   "cell_type": "code",
   "execution_count": 31,
   "id": "46ce0233-dd9c-48a3-b8f0-8456e85bacbf",
   "metadata": {},
   "outputs": [],
   "source": [
    "# Instantiate an instance of CNN model-\n",
    "model = Conv6().to(device)"
   ]
  },
  {
   "cell_type": "code",
   "execution_count": null,
   "id": "c35bd21e-17a1-4dfa-be35-1ed8731d4eb7",
   "metadata": {},
   "outputs": [],
   "source": []
  },
  {
   "cell_type": "code",
   "execution_count": 32,
   "id": "82a4c76e-b2ee-4857-9866-f96b44b73e6b",
   "metadata": {},
   "outputs": [],
   "source": [
    "# Sanity check-\n",
    "images, labels = next(iter(train_loader))"
   ]
  },
  {
   "cell_type": "code",
   "execution_count": 33,
   "id": "9bd4d428-ce74-4235-b2c4-04ca0cb56460",
   "metadata": {},
   "outputs": [],
   "source": [
    "images = images.to(device)"
   ]
  },
  {
   "cell_type": "code",
   "execution_count": 34,
   "id": "359e3295-ad72-4d1b-9355-6ff4d7bcc0fb",
   "metadata": {},
   "outputs": [],
   "source": [
    "labels_pred = model(images)"
   ]
  },
  {
   "cell_type": "code",
   "execution_count": 35,
   "id": "8ca41402-da10-4a5c-a502-97a892f1a6b1",
   "metadata": {},
   "outputs": [
    {
     "data": {
      "text/plain": [
       "(torch.Size([64]), torch.Size([64, 10]))"
      ]
     },
     "execution_count": 35,
     "metadata": {},
     "output_type": "execute_result"
    }
   ],
   "source": [
    "labels.shape, labels_pred.shape"
   ]
  },
  {
   "cell_type": "code",
   "execution_count": 36,
   "id": "7ade0557-b2fe-4d4a-affb-0884b2efed9d",
   "metadata": {},
   "outputs": [
    {
     "data": {
      "text/plain": [
       "torch.Size([64])"
      ]
     },
     "execution_count": 36,
     "metadata": {},
     "output_type": "execute_result"
    }
   ],
   "source": [
    "_, labels_pred = torch.max(labels_pred, 1)\n",
    "labels_pred.shape"
   ]
  },
  {
   "cell_type": "code",
   "execution_count": null,
   "id": "99242602-fe88-424b-bdde-d9c242b44cb1",
   "metadata": {},
   "outputs": [],
   "source": []
  },
  {
   "cell_type": "code",
   "execution_count": 37,
   "id": "8ad5244e-fec6-4b54-9225-eae3b38cbdb4",
   "metadata": {},
   "outputs": [
    {
     "name": "stdout",
     "output_type": "stream",
     "text": [
      "Input shape: torch.Size([64, 3, 32, 32])\n",
      "conv block1 output shape: torch.Size([64, 64, 16, 16])\n",
      "conv block2 output shape: torch.Size([64, 128, 8, 8])\n",
      "conv block3 output shape: torch.Size([64, 256, 4, 4])\n",
      "flattened shape: torch.Size([64, 4096])\n",
      "dense1 output shape: torch.Size([64, 256])\n",
      "dense2 output shape: torch.Size([64, 256])\n",
      "output shape: torch.Size([64, 10])\n"
     ]
    }
   ],
   "source": [
    "model.shape_computation(images)"
   ]
  },
  {
   "cell_type": "code",
   "execution_count": 38,
   "id": "f63ff72a-0efc-472d-95c7-df3e3ffbf5ae",
   "metadata": {},
   "outputs": [],
   "source": [
    "del images, labels, labels_pred"
   ]
  },
  {
   "cell_type": "code",
   "execution_count": null,
   "id": "07c9cc65-db97-4f6d-9575-d66bc6c50299",
   "metadata": {},
   "outputs": [],
   "source": []
  },
  {
   "cell_type": "code",
   "execution_count": null,
   "id": "45155dd2-c45a-4160-b3e3-787b6edcf2f0",
   "metadata": {},
   "outputs": [],
   "source": []
  },
  {
   "cell_type": "code",
   "execution_count": 39,
   "id": "89ef300f-b8bd-40f2-9031-3472c8942fdd",
   "metadata": {},
   "outputs": [
    {
     "name": "stdout",
     "output_type": "stream",
     "text": [
      "Conv6(\n",
      "  (block1): cnn_block(\n",
      "    (conv1): Conv2d(3, 64, kernel_size=(3, 3), stride=(1, 1), padding=(1, 1))\n",
      "    (conv2): Conv2d(64, 64, kernel_size=(3, 3), stride=(1, 1), padding=(1, 1))\n",
      "    (pool): MaxPool2d(kernel_size=2, stride=2, padding=0, dilation=1, ceil_mode=False)\n",
      "  )\n",
      "  (block2): cnn_block(\n",
      "    (conv1): Conv2d(64, 128, kernel_size=(3, 3), stride=(1, 1), padding=(1, 1))\n",
      "    (conv2): Conv2d(128, 128, kernel_size=(3, 3), stride=(1, 1), padding=(1, 1))\n",
      "    (pool): MaxPool2d(kernel_size=2, stride=2, padding=0, dilation=1, ceil_mode=False)\n",
      "  )\n",
      "  (block3): cnn_block(\n",
      "    (conv1): Conv2d(128, 256, kernel_size=(3, 3), stride=(1, 1), padding=(1, 1))\n",
      "    (conv2): Conv2d(256, 256, kernel_size=(3, 3), stride=(1, 1), padding=(1, 1))\n",
      "    (pool): MaxPool2d(kernel_size=2, stride=2, padding=0, dilation=1, ceil_mode=False)\n",
      "  )\n",
      "  (fc1): Linear(in_features=4096, out_features=256, bias=True)\n",
      "  (fc2): Linear(in_features=256, out_features=256, bias=True)\n",
      "  (op_layer): Linear(in_features=256, out_features=10, bias=True)\n",
      ")\n"
     ]
    }
   ],
   "source": [
    "print(model)"
   ]
  },
  {
   "cell_type": "code",
   "execution_count": 40,
   "id": "4cf1e737-1622-48f6-905a-8d376ebfa3de",
   "metadata": {},
   "outputs": [
    {
     "name": "stdout",
     "output_type": "stream",
     "text": [
      "layer.shape: torch.Size([64, 3, 3, 3]) has 1728 parameters\n",
      "layer.shape: torch.Size([64]) has 64 parameters\n",
      "layer.shape: torch.Size([64, 64, 3, 3]) has 36864 parameters\n",
      "layer.shape: torch.Size([64]) has 64 parameters\n",
      "layer.shape: torch.Size([128, 64, 3, 3]) has 73728 parameters\n",
      "layer.shape: torch.Size([128]) has 128 parameters\n",
      "layer.shape: torch.Size([128, 128, 3, 3]) has 147456 parameters\n",
      "layer.shape: torch.Size([128]) has 128 parameters\n",
      "layer.shape: torch.Size([256, 128, 3, 3]) has 294912 parameters\n",
      "layer.shape: torch.Size([256]) has 256 parameters\n",
      "layer.shape: torch.Size([256, 256, 3, 3]) has 589824 parameters\n",
      "layer.shape: torch.Size([256]) has 256 parameters\n",
      "layer.shape: torch.Size([256, 4096]) has 1048576 parameters\n",
      "layer.shape: torch.Size([256]) has 256 parameters\n",
      "layer.shape: torch.Size([256, 256]) has 65536 parameters\n",
      "layer.shape: torch.Size([256]) has 256 parameters\n",
      "layer.shape: torch.Size([10, 256]) has 2560 parameters\n",
      "layer.shape: torch.Size([10]) has 10 parameters\n"
     ]
    }
   ],
   "source": [
    "# Count number of trainable parameters per layer-\n",
    "tot_params = 0\n",
    "for layer in model.parameters():\n",
    "    print(f\"layer.shape: {layer.shape} has {layer.nelement()} parameters\")\n",
    "    tot_params += layer.nelement()"
   ]
  },
  {
   "cell_type": "code",
   "execution_count": 41,
   "id": "10414d15-1813-4632-a729-73b1f2e09195",
   "metadata": {},
   "outputs": [
    {
     "name": "stdout",
     "output_type": "stream",
     "text": [
      "Conv-6 CNN has 2262602 parameters.\n"
     ]
    }
   ],
   "source": [
    "print(f\"Conv-6 CNN has {tot_params} parameters.\")"
   ]
  },
  {
   "cell_type": "code",
   "execution_count": null,
   "id": "6a08e3cb-9338-49b2-963c-21bd0183aadf",
   "metadata": {},
   "outputs": [],
   "source": []
  },
  {
   "cell_type": "code",
   "execution_count": 42,
   "id": "6cec4dd4-c151-4898-9b70-2137b370f82e",
   "metadata": {},
   "outputs": [
    {
     "name": "stdout",
     "output_type": "stream",
     "text": [
      "block1.conv1.weight has shape: torch.Size([64, 3, 3, 3])\n",
      "block1.conv1.bias has shape: torch.Size([64])\n",
      "block1.conv2.weight has shape: torch.Size([64, 64, 3, 3])\n",
      "block1.conv2.bias has shape: torch.Size([64])\n",
      "block2.conv1.weight has shape: torch.Size([128, 64, 3, 3])\n",
      "block2.conv1.bias has shape: torch.Size([128])\n",
      "block2.conv2.weight has shape: torch.Size([128, 128, 3, 3])\n",
      "block2.conv2.bias has shape: torch.Size([128])\n",
      "block3.conv1.weight has shape: torch.Size([256, 128, 3, 3])\n",
      "block3.conv1.bias has shape: torch.Size([256])\n",
      "block3.conv2.weight has shape: torch.Size([256, 256, 3, 3])\n",
      "block3.conv2.bias has shape: torch.Size([256])\n",
      "fc1.weight has shape: torch.Size([256, 4096])\n",
      "fc1.bias has shape: torch.Size([256])\n",
      "fc2.weight has shape: torch.Size([256, 256])\n",
      "fc2.bias has shape: torch.Size([256])\n",
      "op_layer.weight has shape: torch.Size([10, 256])\n",
      "op_layer.bias has shape: torch.Size([10])\n"
     ]
    }
   ],
   "source": [
    "for layer in model.state_dict().keys():\n",
    "    print(f\"{layer} has shape: {model.state_dict()[layer].shape}\")"
   ]
  },
  {
   "cell_type": "code",
   "execution_count": null,
   "id": "f857068e-b771-453b-b4e7-8427468c5c34",
   "metadata": {},
   "outputs": [],
   "source": []
  },
  {
   "cell_type": "code",
   "execution_count": null,
   "id": "44cee42e-f945-496e-bfca-328f9d0771d0",
   "metadata": {},
   "outputs": [],
   "source": []
  },
  {
   "cell_type": "code",
   "execution_count": 43,
   "id": "4380999f-6943-41a7-a771-e211d2cbf162",
   "metadata": {},
   "outputs": [],
   "source": [
    "# Save randomly initialized weights-\n",
    "torch.save(model.state_dict(), 'Conv6_Random_Wts-CIFAR10.pth')"
   ]
  },
  {
   "cell_type": "code",
   "execution_count": null,
   "id": "945e71d5-0ef9-494d-ae53-39a01d1c6575",
   "metadata": {},
   "outputs": [],
   "source": [
    "\"\"\"\n",
    "# Instantiate a new model and load weights-\n",
    "random_model = Conv6().to(device)\n",
    "\n",
    "# Load saved and pre-trained model-\n",
    "if torch.cuda.is_available():\n",
    "    random_model.load_state_dict(torch.load('Conv6_Random_Wts-CIFAR10.pth'))\n",
    "else:\n",
    "    random_model.load_state_dict(torch.load('Conv6_Random_Wts-CIFAR10.pth', map_location = torch.device('cpu')))\n",
    "\"\"\""
   ]
  },
  {
   "cell_type": "code",
   "execution_count": null,
   "id": "1aabd7dd-fbd9-4f79-99ac-35a0a9e6f90e",
   "metadata": {},
   "outputs": [],
   "source": []
  },
  {
   "cell_type": "code",
   "execution_count": null,
   "id": "f613e614-fbaf-4c8f-a78a-059752c0df60",
   "metadata": {},
   "outputs": [],
   "source": []
  },
  {
   "cell_type": "code",
   "execution_count": 44,
   "id": "2c17a538-b83d-4cce-9070-f9bc99c17f77",
   "metadata": {},
   "outputs": [
    {
     "name": "stdout",
     "output_type": "stream",
     "text": [
      "Adam gradient descent optimizer with learning rate = 0.0010 is used\n"
     ]
    }
   ],
   "source": [
    "print(f\"Adam gradient descent optimizer with learning rate = {learning_rate:.4f} is used\")"
   ]
  },
  {
   "cell_type": "code",
   "execution_count": 45,
   "id": "ddaf89e1-19b3-4e11-b61c-02542d0f4b0a",
   "metadata": {},
   "outputs": [],
   "source": [
    "# Define loss function and optimizer-\n",
    "loss = nn.CrossEntropyLoss()\n",
    "optimizer = torch.optim.Adam(model.parameters(), lr = learning_rate)"
   ]
  },
  {
   "cell_type": "code",
   "execution_count": 46,
   "id": "9dc98961-f638-44ef-afd9-00efbbba5e30",
   "metadata": {},
   "outputs": [
    {
     "name": "stdout",
     "output_type": "stream",
     "text": [
      "With batch-size = 64 & training set size = 50000, number of training steps in 1 epoch = 782\n"
     ]
    }
   ],
   "source": [
    "num_training_steps = len(train_loader)\n",
    "print(f\"With batch-size = {batch_size} & training set size = {len(train_dataset)}\"\n",
    "      f\", number of training steps in 1 epoch = {num_training_steps}\")"
   ]
  },
  {
   "cell_type": "code",
   "execution_count": null,
   "id": "7202cef9-ce94-487a-a951-682861a31260",
   "metadata": {},
   "outputs": [],
   "source": []
  },
  {
   "cell_type": "code",
   "execution_count": null,
   "id": "9e07451f-5db7-42c7-adba-383e9b6217b1",
   "metadata": {},
   "outputs": [],
   "source": []
  },
  {
   "cell_type": "code",
   "execution_count": 47,
   "id": "75b005d0-8837-44bd-b6d5-a82192d47506",
   "metadata": {},
   "outputs": [],
   "source": [
    "def train_model_progress(model, train_loader):\n",
    "    '''\n",
    "    Function to perform one epoch of training by using 'train_loader'.\n",
    "    Returns loss and number of correct predictions for this epoch.\n",
    "    '''\n",
    "    running_loss = 0.0\n",
    "    running_corrects = 0.0\n",
    "    \n",
    "    model.train()\n",
    "    \n",
    "    with tqdm(train_loader, unit = 'batch') as tepoch:\n",
    "        for images, labels in tepoch:\n",
    "            tepoch.set_description(f\"Training: \")\n",
    "            \n",
    "            images = images.to(device)\n",
    "            labels = labels.to(device)\n",
    "            \n",
    "            # Get model predictions-\n",
    "            outputs = model(images)\n",
    "            \n",
    "            # Compute loss-\n",
    "            J = loss(outputs, labels)\n",
    "            \n",
    "            # Empty accumulated gradients-\n",
    "            optimizer.zero_grad()\n",
    "            \n",
    "            # Perform backprop-\n",
    "            J.backward()\n",
    "            \n",
    "            # Update parameters-\n",
    "            optimizer.step()\n",
    "            \n",
    "            # Compute model's performance statistics-\n",
    "            running_loss += J.item() * images.size(0)\n",
    "            _, predicted = torch.max(outputs, 1)\n",
    "            running_corrects += torch.sum(predicted == labels.data)\n",
    "            \n",
    "            tepoch.set_postfix(\n",
    "                loss = running_loss / len(train_dataset),\n",
    "                accuracy = (running_corrects.double().cpu().numpy() / len(train_dataset)) * 100\n",
    "            )\n",
    "            \n",
    "    \n",
    "    train_loss = running_loss / len(train_dataset)\n",
    "    train_acc = (running_corrects.double() / len(train_dataset)) * 100\n",
    "    \n",
    "\n",
    "    # return running_loss, running_corrects\n",
    "    return train_loss, train_acc.cpu().numpy()\n",
    "    "
   ]
  },
  {
   "cell_type": "code",
   "execution_count": 48,
   "id": "d60da126-7788-422c-a1e4-f24276862b78",
   "metadata": {},
   "outputs": [],
   "source": [
    "def test_model_progress(model, test_loader):\n",
    "    total = 0.0\n",
    "    correct = 0.0\n",
    "    running_loss_val = 0.0\n",
    "\n",
    "    with torch.no_grad():\n",
    "        with tqdm(test_loader, unit = 'batch') as tepoch:\n",
    "            for images, labels in tepoch:\n",
    "                tepoch.set_description(f\"Validation: \")\n",
    "                \n",
    "                images = images.to(device)\n",
    "                labels = labels.to(device)\n",
    "                \n",
    "                # Set model to evaluation mode-\n",
    "                model.eval()\n",
    "            \n",
    "                # Predict using trained model-\n",
    "                outputs = model(images)\n",
    "                _, y_pred = torch.max(outputs, 1)\n",
    "                \n",
    "                # Compute validation loss-\n",
    "                J_val = loss(outputs, labels)\n",
    "                \n",
    "                running_loss_val += J_val.item() * labels.size(0)\n",
    "    \n",
    "                # Total number of labels-\n",
    "                total += labels.size(0)\n",
    "\n",
    "                # Total number of correct predictions-\n",
    "                correct += (y_pred == labels).sum()\n",
    "                \n",
    "                tepoch.set_postfix(\n",
    "                    val_loss = running_loss_val / len(test_dataset),\n",
    "                    val_acc = 100 * (correct.cpu().numpy() / total)\n",
    "                )\n",
    "            \n",
    "        \n",
    "    # return (running_loss_val, correct, total)\n",
    "    val_loss = running_loss_val / len(test_dataset)\n",
    "    val_acc = (correct / total) * 100\n",
    "\n",
    "    return val_loss, val_acc.cpu().numpy()\n"
   ]
  },
  {
   "cell_type": "code",
   "execution_count": null,
   "id": "8f61205b-d16c-48d2-bce0-57f59ead15f5",
   "metadata": {},
   "outputs": [],
   "source": []
  },
  {
   "cell_type": "code",
   "execution_count": null,
   "id": "8b740468-d8a7-45f7-a324-89d584c8621a",
   "metadata": {},
   "outputs": [],
   "source": [
    "'''\n",
    "# Sanity check-\n",
    "train_loss, train_acc = train_model_progress(\n",
    "    model = model, train_loader = train_loader\n",
    ")\n",
    "'''"
   ]
  },
  {
   "cell_type": "code",
   "execution_count": null,
   "id": "5765da74-ab31-41e1-8892-63eeceb5e511",
   "metadata": {},
   "outputs": [],
   "source": [
    "'''\n",
    "val_loss, val_acc = test_model_progress(\n",
    "    model = model, test_loader = test_loader\n",
    ")\n",
    "'''"
   ]
  },
  {
   "cell_type": "code",
   "execution_count": null,
   "id": "e072ba8e-e995-4ddc-bff4-dbea1a0c1576",
   "metadata": {},
   "outputs": [],
   "source": [
    "'''\n",
    "print(f\"train_loss = {train_loss:.4f}, val_loss = {val_loss:.4f}\"\n",
    "      f\", train_acc = {train_acc:.2f}% & val_acc = {val_acc:.2f}%\"\n",
    "     )\n",
    "'''"
   ]
  },
  {
   "cell_type": "code",
   "execution_count": null,
   "id": "25335815-cbc6-453f-945a-a509861b5df7",
   "metadata": {},
   "outputs": [],
   "source": []
  },
  {
   "cell_type": "code",
   "execution_count": null,
   "id": "1baa0b24-8172-40fd-b180-c00962f978e5",
   "metadata": {},
   "outputs": [],
   "source": []
  },
  {
   "cell_type": "markdown",
   "id": "4b9e5676-6c90-4007-80a0-295f1921ec44",
   "metadata": {},
   "source": [
    "### Train Conv-6 CNN model with _early stopping_ criterion"
   ]
  },
  {
   "cell_type": "code",
   "execution_count": 49,
   "id": "c26ef80c-e4a5-4f4b-bc11-a396ae46611d",
   "metadata": {},
   "outputs": [],
   "source": [
    "# User input parameters for Early Stopping in manual implementation-\n",
    "minimum_delta = 0.001\n",
    "patience = 3"
   ]
  },
  {
   "cell_type": "code",
   "execution_count": 50,
   "id": "1a72316e-69c1-467e-9a66-f1b1ec5d205d",
   "metadata": {},
   "outputs": [],
   "source": [
    "# Initialize parameters for Early Stopping manual implementation-\n",
    "# best_val_loss = 100\n",
    "best_val_acc = 0\n",
    "loc_patience = 0"
   ]
  },
  {
   "cell_type": "code",
   "execution_count": null,
   "id": "b76a4905-492d-4e58-9104-9c5b227f7bda",
   "metadata": {},
   "outputs": [],
   "source": []
  },
  {
   "cell_type": "code",
   "execution_count": 51,
   "id": "cbe8f974-355c-4430-a722-9799e4a42407",
   "metadata": {},
   "outputs": [],
   "source": [
    "# Python3 dict to contain training metrics-\n",
    "train_history = {}"
   ]
  },
  {
   "cell_type": "code",
   "execution_count": null,
   "id": "f29feda6-c6b8-4ca1-8066-c531ce4cbbb6",
   "metadata": {},
   "outputs": [],
   "source": []
  },
  {
   "cell_type": "code",
   "execution_count": 52,
   "id": "d4526fdb-3b58-4586-830e-9275faa8d75a",
   "metadata": {},
   "outputs": [
    {
     "name": "stdout",
     "output_type": "stream",
     "text": [
      "Train Conv-6 CNN + CIFAR-10 for 50 epochs\n"
     ]
    }
   ],
   "source": [
    "print(f\"Train Conv-6 CNN + CIFAR-10 for {num_epochs} epochs\")"
   ]
  },
  {
   "cell_type": "code",
   "execution_count": null,
   "id": "e5287f21-5165-4066-95ee-757f32471ba2",
   "metadata": {},
   "outputs": [],
   "source": []
  },
  {
   "cell_type": "code",
   "execution_count": null,
   "id": "d75275ee-45df-4e36-8ab9-5b4a676e3ad0",
   "metadata": {},
   "outputs": [],
   "source": []
  },
  {
   "cell_type": "code",
   "execution_count": 53,
   "id": "3ee8411e-ed1c-4436-a28b-83f3bc908bb3",
   "metadata": {},
   "outputs": [
    {
     "name": "stderr",
     "output_type": "stream",
     "text": [
      "Training: : 100%|███████████████████████████████████████| 782/782 [00:21<00:00, 36.30batch/s, accuracy=40.7, loss=1.61]\n",
      "Validation: : 100%|███████████████████████████████████| 157/157 [00:01<00:00, 79.76batch/s, val_acc=57.5, val_loss=1.2]\n"
     ]
    },
    {
     "name": "stdout",
     "output_type": "stream",
     "text": [
      "Saving model with highest val_acc = 57.47%\n",
      "\n"
     ]
    },
    {
     "name": "stderr",
     "output_type": "stream",
     "text": [
      "Training: : 100%|█████████████████████████████████████████| 782/782 [00:20<00:00, 37.67batch/s, accuracy=61, loss=1.09]\n",
      "Validation: : 100%|███████████████████████████████████| 157/157 [00:01<00:00, 79.27batch/s, val_acc=69, val_loss=0.888]\n"
     ]
    },
    {
     "name": "stdout",
     "output_type": "stream",
     "text": [
      "Saving model with highest val_acc = 69.02%\n",
      "\n"
     ]
    },
    {
     "name": "stderr",
     "output_type": "stream",
     "text": [
      "Training: : 100%|██████████████████████████████████████| 782/782 [00:20<00:00, 37.57batch/s, accuracy=69.8, loss=0.857]\n",
      "Validation: : 100%|███████████████████████████████████| 157/157 [00:01<00:00, 78.64batch/s, val_acc=74, val_loss=0.747]\n"
     ]
    },
    {
     "name": "stdout",
     "output_type": "stream",
     "text": [
      "Saving model with highest val_acc = 74.00%\n",
      "\n"
     ]
    },
    {
     "name": "stderr",
     "output_type": "stream",
     "text": [
      "Training: : 100%|██████████████████████████████████████| 782/782 [00:20<00:00, 37.41batch/s, accuracy=74.2, loss=0.739]\n",
      "Validation: : 100%|█████████████████████████████████| 157/157 [00:01<00:00, 79.08batch/s, val_acc=75.5, val_loss=0.693]\n"
     ]
    },
    {
     "name": "stdout",
     "output_type": "stream",
     "text": [
      "Saving model with highest val_acc = 75.53%\n",
      "\n"
     ]
    },
    {
     "name": "stderr",
     "output_type": "stream",
     "text": [
      "Training: : 100%|██████████████████████████████████████| 782/782 [00:20<00:00, 37.50batch/s, accuracy=76.9, loss=0.668]\n",
      "Validation: : 100%|█████████████████████████████████| 157/157 [00:01<00:00, 78.76batch/s, val_acc=77.7, val_loss=0.651]\n"
     ]
    },
    {
     "name": "stdout",
     "output_type": "stream",
     "text": [
      "Saving model with highest val_acc = 77.72%\n",
      "\n"
     ]
    },
    {
     "name": "stderr",
     "output_type": "stream",
     "text": [
      "Training: : 100%|██████████████████████████████████████| 782/782 [00:20<00:00, 37.48batch/s, accuracy=79.1, loss=0.601]\n",
      "Validation: : 100%|███████████████████████████████████| 157/157 [00:01<00:00, 78.88batch/s, val_acc=80, val_loss=0.588]\n"
     ]
    },
    {
     "name": "stdout",
     "output_type": "stream",
     "text": [
      "Saving model with highest val_acc = 80.03%\n",
      "\n"
     ]
    },
    {
     "name": "stderr",
     "output_type": "stream",
     "text": [
      "Training: : 100%|██████████████████████████████████████| 782/782 [00:20<00:00, 37.40batch/s, accuracy=80.8, loss=0.556]\n",
      "Validation: : 100%|█████████████████████████████████| 157/157 [00:01<00:00, 78.68batch/s, val_acc=79.6, val_loss=0.604]\n",
      "Training: : 100%|██████████████████████████████████████| 782/782 [00:20<00:00, 37.27batch/s, accuracy=81.7, loss=0.535]\n",
      "Validation: : 100%|█████████████████████████████████| 157/157 [00:01<00:00, 79.40batch/s, val_acc=80.5, val_loss=0.594]\n"
     ]
    },
    {
     "name": "stdout",
     "output_type": "stream",
     "text": [
      "Saving model with highest val_acc = 80.50%\n",
      "\n"
     ]
    },
    {
     "name": "stderr",
     "output_type": "stream",
     "text": [
      "Training: : 100%|██████████████████████████████████████| 782/782 [00:21<00:00, 36.96batch/s, accuracy=82.7, loss=0.503]\n",
      "Validation: : 100%|█████████████████████████████████| 157/157 [00:01<00:00, 78.60batch/s, val_acc=82.6, val_loss=0.534]\n"
     ]
    },
    {
     "name": "stdout",
     "output_type": "stream",
     "text": [
      "Saving model with highest val_acc = 82.59%\n",
      "\n"
     ]
    },
    {
     "name": "stderr",
     "output_type": "stream",
     "text": [
      "Training: : 100%|██████████████████████████████████████| 782/782 [00:20<00:00, 37.44batch/s, accuracy=83.4, loss=0.478]\n",
      "Validation: : 100%|█████████████████████████████████| 157/157 [00:01<00:00, 78.88batch/s, val_acc=81.8, val_loss=0.544]\n",
      "Training: : 100%|███████████████████████████████████████| 782/782 [00:20<00:00, 37.40batch/s, accuracy=84.4, loss=0.45]\n",
      "Validation: : 100%|█████████████████████████████████| 157/157 [00:02<00:00, 76.12batch/s, val_acc=83.3, val_loss=0.503]\n"
     ]
    },
    {
     "name": "stdout",
     "output_type": "stream",
     "text": [
      "Saving model with highest val_acc = 83.29%\n",
      "\n"
     ]
    },
    {
     "name": "stderr",
     "output_type": "stream",
     "text": [
      "Training: : 100%|██████████████████████████████████████| 782/782 [00:20<00:00, 37.49batch/s, accuracy=84.8, loss=0.436]\n",
      "Validation: : 100%|█████████████████████████████████| 157/157 [00:01<00:00, 79.23batch/s, val_acc=82.6, val_loss=0.524]\n",
      "Training: : 100%|██████████████████████████████████████| 782/782 [00:20<00:00, 37.55batch/s, accuracy=85.6, loss=0.419]\n",
      "Validation: : 100%|█████████████████████████████████| 157/157 [00:01<00:00, 79.16batch/s, val_acc=83.2, val_loss=0.528]\n",
      "Training: : 100%|██████████████████████████████████████| 782/782 [00:20<00:00, 37.53batch/s, accuracy=86.3, loss=0.403]\n",
      "Validation: : 100%|█████████████████████████████████| 157/157 [00:01<00:00, 80.08batch/s, val_acc=83.2, val_loss=0.502]"
     ]
    },
    {
     "name": "stdout",
     "output_type": "stream",
     "text": [
      "\n",
      "'EarlyStopping' called!\n",
      "\n"
     ]
    },
    {
     "name": "stderr",
     "output_type": "stream",
     "text": [
      "\n"
     ]
    }
   ],
   "source": [
    "for epoch in range(1, num_epochs + 1):\n",
    "    \n",
    "    if loc_patience >= patience:\n",
    "        print(\"\\n'EarlyStopping' called!\\n\")\n",
    "        break\n",
    "    \n",
    "    # One epoch of training-\n",
    "    train_loss, train_acc = train_model_progress(\n",
    "        model = model, train_loader = train_loader\n",
    "    )\n",
    "    \n",
    "    # Get validation metrics after 1 epoch of training-\n",
    "    val_loss, val_acc = test_model_progress(\n",
    "        model = model, test_loader = test_loader\n",
    "    )\n",
    "    \n",
    "    # Save training metrics to Python3 dict-\n",
    "    train_history[epoch] = {\n",
    "        'train_loss': train_loss, 'val_loss': val_loss,\n",
    "        'train_acc': train_acc, 'val_acc': val_acc\n",
    "    }\n",
    "    \n",
    "    # Code for manual Early Stopping:\n",
    "    '''\n",
    "    # Save model with best validation loss-\n",
    "    if (val_loss < best_val_loss) and \\\n",
    "    (np.abs(val_loss - best_val_loss) >= minimum_delta):\n",
    "    '''\n",
    "    # Save model with best validation accuracy-\n",
    "    if (val_acc > best_val_acc) and (np.abs(val_acc - best_val_acc) >= minimum_delta):\n",
    "        # update 'best_val_loss' variable to lowest loss encountered so far-\n",
    "        # best_val_loss = val_loss\n",
    "        best_val_acc = val_acc\n",
    "        \n",
    "        # reset 'loc_patience' variable-\n",
    "        loc_patience = 0\n",
    "\n",
    "        # print(f\"Saving model with lowest val_loss = {val_loss:.4f}\\n\")\n",
    "        print(f\"Saving model with highest val_acc = {val_acc:.2f}%\\n\")\n",
    "        \n",
    "        # Save trained model with 'best' validation loss-\n",
    "        # torch.save(model.state_dict(), \"Conv6_CIFAR10_best_val_loss.pth\")\n",
    "        torch.save(model.state_dict(), \"Conv6_CIFAR10_best_val_acc.pth\")\n",
    "        \n",
    "    else:  # there is no improvement in monitored metric 'val_loss'\n",
    "        loc_patience += 1  # number of epochs without any improvement\n",
    "        \n",
    "    "
   ]
  },
  {
   "cell_type": "code",
   "execution_count": null,
   "id": "b4b6bbd5-e2e2-4940-8267-1b7f339682f3",
   "metadata": {},
   "outputs": [],
   "source": []
  },
  {
   "cell_type": "code",
   "execution_count": null,
   "id": "96989401-82eb-48a7-8378-198526f41689",
   "metadata": {},
   "outputs": [],
   "source": [
    "# Save trained model at last epoch-\n",
    "# torch.save(model.state_dict(), \"Conv6_CIFAR10_last_epoch.pth\")"
   ]
  },
  {
   "cell_type": "code",
   "execution_count": null,
   "id": "cb2c4a23-149d-4a74-8aa0-57b5e6115cc5",
   "metadata": {},
   "outputs": [],
   "source": []
  },
  {
   "cell_type": "code",
   "execution_count": 54,
   "id": "37ce2b3a-f867-4725-b023-8282b30c255e",
   "metadata": {},
   "outputs": [],
   "source": [
    "# Save training metrics as pickled object-\n",
    "with open(\"Conv6_CIFAR10_training_history.pkl\", \"wb\") as file:\n",
    "    pickle.dump(train_history, file)"
   ]
  },
  {
   "cell_type": "code",
   "execution_count": null,
   "id": "489f725e-1064-450b-968c-18e19801dbbf",
   "metadata": {},
   "outputs": [],
   "source": []
  },
  {
   "cell_type": "code",
   "execution_count": null,
   "id": "f6fb17e6-afc4-4ffc-8401-1c3756e307e0",
   "metadata": {},
   "outputs": [],
   "source": []
  },
  {
   "cell_type": "markdown",
   "id": "95622425-04fd-4c60-b972-9657b9414414",
   "metadata": {},
   "source": [
    "### Visualization training metrics"
   ]
  },
  {
   "cell_type": "code",
   "execution_count": 55,
   "id": "e4e9e4b4-f030-422e-a610-ba7ead6e32a5",
   "metadata": {},
   "outputs": [
    {
     "data": {
      "image/png": "[encoded data removed]",
      "text/plain": [
       "<Figure size 648x504 with 1 Axes>"
      ]
     },
     "metadata": {
      "needs_background": "light"
     },
     "output_type": "display_data"
    }
   ],
   "source": [
    "plt.figure(figsize = (9, 7))\n",
    "plt.plot([train_history[e]['train_loss'] for e in train_history.keys()], label = 'loss')\n",
    "plt.plot([train_history[e]['val_loss'] for e in train_history.keys()], label = 'val_loss')\n",
    "plt.xlabel(\"epochs\")\n",
    "plt.ylabel(\"loss\")\n",
    "plt.title(\"Conv-6: Training Visualization - Loss\")\n",
    "plt.legend(loc = 'best')\n",
    "plt.show()"
   ]
  },
  {
   "cell_type": "code",
   "execution_count": 56,
   "id": "91cb5fcd-f73a-4bda-accd-7f1e3355c4bb",
   "metadata": {},
   "outputs": [
    {
     "data": {
      "image/png": "[encoded data removed]",
      "text/plain": [
       "<Figure size 648x504 with 1 Axes>"
      ]
     },
     "metadata": {
      "needs_background": "light"
     },
     "output_type": "display_data"
    }
   ],
   "source": [
    "plt.figure(figsize = (9, 7))\n",
    "plt.plot([train_history[e]['train_acc'] for e in train_history.keys()], label = 'acc')\n",
    "plt.plot([train_history[e]['val_acc'] for e in train_history.keys()], label = 'val_acc')\n",
    "plt.xlabel(\"epochs\")\n",
    "plt.ylabel(\"acc %\")\n",
    "plt.title(\"Conv-6: Training Visualization - Accuracy\")\n",
    "plt.legend(loc = 'best')\n",
    "plt.show()"
   ]
  },
  {
   "cell_type": "code",
   "execution_count": null,
   "id": "984f3d0a-8870-4641-ae04-f1551a52e434",
   "metadata": {},
   "outputs": [],
   "source": []
  },
  {
   "cell_type": "code",
   "execution_count": null,
   "id": "43da63ca-0c23-4f15-8c6e-a6e2bda6de11",
   "metadata": {},
   "outputs": [],
   "source": []
  },
  {
   "cell_type": "markdown",
   "id": "54d79810-a990-4e24-9c39-c415c9c70fb1",
   "metadata": {},
   "source": [
    "### Visualize _trained_ layer(s)"
   ]
  },
  {
   "cell_type": "code",
   "execution_count": 57,
   "id": "147a523f-cc31-4cd0-a1e3-b2af032d2826",
   "metadata": {},
   "outputs": [
    {
     "name": "stdout",
     "output_type": "stream",
     "text": [
      "layer: block1.conv1.weight\n",
      "layer: block1.conv1.bias\n",
      "layer: block1.conv2.weight\n",
      "layer: block1.conv2.bias\n",
      "layer: block2.conv1.weight\n",
      "layer: block2.conv1.bias\n",
      "layer: block2.conv2.weight\n",
      "layer: block2.conv2.bias\n",
      "layer: block3.conv1.weight\n",
      "layer: block3.conv1.bias\n",
      "layer: block3.conv2.weight\n",
      "layer: block3.conv2.bias\n",
      "layer: fc1.weight\n",
      "layer: fc1.bias\n",
      "layer: fc2.weight\n",
      "layer: fc2.bias\n",
      "layer: op_layer.weight\n",
      "layer: op_layer.bias\n"
     ]
    }
   ],
   "source": [
    "# Access each layer-\n",
    "for layer in model.state_dict().keys():\n",
    "    print(f\"layer: {layer}\")"
   ]
  },
  {
   "cell_type": "code",
   "execution_count": 58,
   "id": "353811c6-4e49-48b5-a265-f1ed580b32c4",
   "metadata": {},
   "outputs": [],
   "source": [
    "# Example - access trained weights of first conv layer-\n",
    "conv1 = model.state_dict()['block1.conv1.weight']"
   ]
  },
  {
   "cell_type": "code",
   "execution_count": 59,
   "id": "37f4b971-63d6-4702-9b25-242690e71740",
   "metadata": {},
   "outputs": [],
   "source": [
    "# Example - access trained weights of sixth conv layer-\n",
    "conv6 = model.state_dict()['block3.conv2.weight']"
   ]
  },
  {
   "cell_type": "code",
   "execution_count": 60,
   "id": "bd98719b-2c58-402b-8c7d-047e9501b181",
   "metadata": {},
   "outputs": [],
   "source": [
    "conv1 = conv1.cpu().detach().numpy()\n",
    "conv6 = conv6.cpu().detach().numpy()"
   ]
  },
  {
   "cell_type": "code",
   "execution_count": 61,
   "id": "0ce445ec-7831-45ab-8d72-9299aab0be88",
   "metadata": {},
   "outputs": [
    {
     "data": {
      "text/plain": [
       "((64, 3, 3, 3), (256, 256, 3, 3))"
      ]
     },
     "execution_count": 61,
     "metadata": {},
     "output_type": "execute_result"
    }
   ],
   "source": [
    "conv1.shape, conv6.shape"
   ]
  },
  {
   "cell_type": "code",
   "execution_count": null,
   "id": "f885e52e-c68f-43c8-bc9a-2b3eaa0086b6",
   "metadata": {},
   "outputs": [],
   "source": []
  },
  {
   "cell_type": "code",
   "execution_count": 62,
   "id": "6c63f749-e9ff-4672-b40d-4501c21c4ad0",
   "metadata": {},
   "outputs": [
    {
     "data": {
      "image/png": "[encoded data removed]",
      "text/plain": [
       "<Figure size 648x504 with 1 Axes>"
      ]
     },
     "metadata": {
      "needs_background": "light"
     },
     "output_type": "display_data"
    }
   ],
   "source": [
    "plt.figure(figsize = (9, 7))\n",
    "sns.histplot(data = conv1.flatten(), bins = int(np.ceil(np.sqrt(conv1.size))))\n",
    "plt.xlabel(\"weights\")\n",
    "plt.title(\"Conv-6: Trained first conv layer: (64, 3, 3, 3)\")\n",
    "plt.show()"
   ]
  },
  {
   "cell_type": "code",
   "execution_count": 63,
   "id": "9d246ee6-fccb-449a-a305-ad2934ecc35f",
   "metadata": {},
   "outputs": [
    {
     "data": {
      "image/png": "[encoded data removed]",
      "text/plain": [
       "<Figure size 648x504 with 1 Axes>"
      ]
     },
     "metadata": {
      "needs_background": "light"
     },
     "output_type": "display_data"
    }
   ],
   "source": [
    "plt.figure(figsize = (9, 7))\n",
    "sns.histplot(data = conv6.flatten(), bins = int(np.ceil(np.sqrt(conv6.size))))\n",
    "plt.xlabel(\"weights\")\n",
    "plt.title(\"Conv-6: Trained sixth conv layer: (256, 256, 3, 3)\")\n",
    "plt.show()"
   ]
  },
  {
   "cell_type": "code",
   "execution_count": null,
   "id": "37de9f98-7a0d-45a2-b24b-93ede3cb4f86",
   "metadata": {},
   "outputs": [],
   "source": []
  },
  {
   "cell_type": "code",
   "execution_count": null,
   "id": "278b3694-1f83-4a0b-b85c-2c6d511827a2",
   "metadata": {},
   "outputs": [],
   "source": []
  },
  {
   "cell_type": "code",
   "execution_count": 64,
   "id": "b29a2da0-5134-4f11-8efb-bac430be5660",
   "metadata": {},
   "outputs": [],
   "source": [
    "# Sanity check- Initialize a new model with trained weights-\n",
    "trained_model = Conv6().to(device)\n",
    "\n",
    "# Load saved and pre-trained model-\n",
    "if torch.cuda.is_available():\n",
    "    trained_model.load_state_dict(torch.load('Conv6_CIFAR10_best_val_acc.pth'))\n",
    "else:\n",
    "    trained_model.load_state_dict(torch.load('Conv6_CIFAR10_best_val_acc.pth', map_location = torch.device('cpu')))"
   ]
  },
  {
   "cell_type": "code",
   "execution_count": 65,
   "id": "22213784-2a3c-4500-bf51-0fde4074967b",
   "metadata": {},
   "outputs": [
    {
     "name": "stderr",
     "output_type": "stream",
     "text": [
      "Validation: : 100%|█████████████████████████████████| 157/157 [00:02<00:00, 71.84batch/s, val_acc=83.3, val_loss=0.503]\n"
     ]
    }
   ],
   "source": [
    "# Get model metrics on validation set-\n",
    "val_loss, val_acc = test_model_progress(\n",
    "    model = trained_model, test_loader = test_loader\n",
    ")"
   ]
  },
  {
   "cell_type": "code",
   "execution_count": 66,
   "id": "1ac933a3-c9e9-46c5-868e-a95bd95a509a",
   "metadata": {},
   "outputs": [
    {
     "name": "stdout",
     "output_type": "stream",
     "text": [
      "Trained Conv-6 metrics: val_loss = 0.5033 & val_acc = 83.290%\n"
     ]
    }
   ],
   "source": [
    "print(f\"Trained Conv-6 metrics: val_loss = {val_loss:.4f} &\"\n",
    "      f\" val_acc = {val_acc:.3f}%\")"
   ]
  },
  {
   "cell_type": "code",
   "execution_count": 67,
   "id": "81c3ed05-e3c4-4123-92d0-fc5f25da9136",
   "metadata": {},
   "outputs": [],
   "source": [
    "del trained_model"
   ]
  },
  {
   "cell_type": "code",
   "execution_count": null,
   "id": "52fe4855-e251-4593-975d-34616ac696a3",
   "metadata": {},
   "outputs": [],
   "source": []
  },
  {
   "cell_type": "code",
   "execution_count": null,
   "id": "d19cfed1-9058-4b5f-9827-07808f264b1e",
   "metadata": {},
   "outputs": [],
   "source": []
  }
 ],
 "metadata": {
  "kernelspec": {
   "display_name": "Python 3 (ipykernel)",
   "language": "python",
   "name": "python3"
  },
  "language_info": {
   "codemirror_mode": {
    "name": "ipython",
    "version": 3
   },
   "file_extension": ".py",
   "mimetype": "text/x-python",
   "name": "python",
   "nbconvert_exporter": "python",
   "pygments_lexer": "ipython3",
   "version": "3.8.12"
  }
 },
 "nbformat": 4,
 "nbformat_minor": 5
}
