{
  "nbformat": 4,
  "nbformat_minor": 5,
  "metadata": {
    "kernelspec": {
      "display_name": "Python 3",
      "language": "python",
      "name": "python3"
    },
    "language_info": {
      "codemirror_mode": {
        "name": "ipython",
        "version": 3
      },
      "file_extension": ".py",
      "mimetype": "text/x-python",
      "name": "python",
      "nbconvert_exporter": "python",
      "pygments_lexer": "ipython3",
      "version": "3.8.8"
    },
    "colab": {
      "name": "VGG-16_CIFAR10.ipynb",
      "provenance": [],
      "collapsed_sections": []
    },
    "accelerator": "GPU",
    "widgets": {
      "application/vnd.jupyter.widget-state+json": {
        "7dba09dc511547fb9968a383344ed8ef": {
          "model_module": "@jupyter-widgets/controls",
          "model_name": "HBoxModel",
          "state": {
            "_view_name": "HBoxView",
            "_dom_classes": [],
            "_model_name": "HBoxModel",
            "_view_module": "@jupyter-widgets/controls",
            "_model_module_version": "1.5.0",
            "_view_count": null,
            "_view_module_version": "1.5.0",
            "box_style": "",
            "layout": "IPY_MODEL_baa5207118914a42b9040b3e6b1fc354",
            "_model_module": "@jupyter-widgets/controls",
            "children": [
              "IPY_MODEL_4eed49b9cc8a45698e6cf937f45319db",
              "IPY_MODEL_bf7efcca188045f9a871222edd005a09"
            ]
          }
        },
        "baa5207118914a42b9040b3e6b1fc354": {
          "model_module": "@jupyter-widgets/base",
          "model_name": "LayoutModel",
          "state": {
            "_view_name": "LayoutView",
            "grid_template_rows": null,
            "right": null,
            "justify_content": null,
            "_view_module": "@jupyter-widgets/base",
            "overflow": null,
            "_model_module_version": "1.2.0",
            "_view_count": null,
            "flex_flow": null,
            "width": null,
            "min_width": null,
            "border": null,
            "align_items": null,
            "bottom": null,
            "_model_module": "@jupyter-widgets/base",
            "top": null,
            "grid_column": null,
            "overflow_y": null,
            "overflow_x": null,
            "grid_auto_flow": null,
            "grid_area": null,
            "grid_template_columns": null,
            "flex": null,
            "_model_name": "LayoutModel",
            "justify_items": null,
            "grid_row": null,
            "max_height": null,
            "align_content": null,
            "visibility": null,
            "align_self": null,
            "height": null,
            "min_height": null,
            "padding": null,
            "grid_auto_rows": null,
            "grid_gap": null,
            "max_width": null,
            "order": null,
            "_view_module_version": "1.2.0",
            "grid_template_areas": null,
            "object_position": null,
            "object_fit": null,
            "grid_auto_columns": null,
            "margin": null,
            "display": null,
            "left": null
          }
        },
        "4eed49b9cc8a45698e6cf937f45319db": {
          "model_module": "@jupyter-widgets/controls",
          "model_name": "FloatProgressModel",
          "state": {
            "_view_name": "ProgressView",
            "style": "IPY_MODEL_08584aa7db0c46aa922c8bed783abd85",
            "_dom_classes": [],
            "description": "",
            "_model_name": "FloatProgressModel",
            "bar_style": "success",
            "max": 170498071,
            "_view_module": "@jupyter-widgets/controls",
            "_model_module_version": "1.5.0",
            "value": 170498071,
            "_view_count": null,
            "_view_module_version": "1.5.0",
            "orientation": "horizontal",
            "min": 0,
            "description_tooltip": null,
            "_model_module": "@jupyter-widgets/controls",
            "layout": "IPY_MODEL_767f88f0f260476da3cc3bea5571a299"
          }
        },
        "bf7efcca188045f9a871222edd005a09": {
          "model_module": "@jupyter-widgets/controls",
          "model_name": "HTMLModel",
          "state": {
            "_view_name": "HTMLView",
            "style": "IPY_MODEL_bb98f7148ca642888a49d77be5126232",
            "_dom_classes": [],
            "description": "",
            "_model_name": "HTMLModel",
            "placeholder": "​",
            "_view_module": "@jupyter-widgets/controls",
            "_model_module_version": "1.5.0",
            "value": " 170499072/? [46:23&lt;00:00, 61248.76it/s]",
            "_view_count": null,
            "_view_module_version": "1.5.0",
            "description_tooltip": null,
            "_model_module": "@jupyter-widgets/controls",
            "layout": "IPY_MODEL_82ed028212e04dabb60928f0ef212659"
          }
        },
        "08584aa7db0c46aa922c8bed783abd85": {
          "model_module": "@jupyter-widgets/controls",
          "model_name": "ProgressStyleModel",
          "state": {
            "_view_name": "StyleView",
            "_model_name": "ProgressStyleModel",
            "description_width": "initial",
            "_view_module": "@jupyter-widgets/base",
            "_model_module_version": "1.5.0",
            "_view_count": null,
            "_view_module_version": "1.2.0",
            "bar_color": null,
            "_model_module": "@jupyter-widgets/controls"
          }
        },
        "767f88f0f260476da3cc3bea5571a299": {
          "model_module": "@jupyter-widgets/base",
          "model_name": "LayoutModel",
          "state": {
            "_view_name": "LayoutView",
            "grid_template_rows": null,
            "right": null,
            "justify_content": null,
            "_view_module": "@jupyter-widgets/base",
            "overflow": null,
            "_model_module_version": "1.2.0",
            "_view_count": null,
            "flex_flow": null,
            "width": null,
            "min_width": null,
            "border": null,
            "align_items": null,
            "bottom": null,
            "_model_module": "@jupyter-widgets/base",
            "top": null,
            "grid_column": null,
            "overflow_y": null,
            "overflow_x": null,
            "grid_auto_flow": null,
            "grid_area": null,
            "grid_template_columns": null,
            "flex": null,
            "_model_name": "LayoutModel",
            "justify_items": null,
            "grid_row": null,
            "max_height": null,
            "align_content": null,
            "visibility": null,
            "align_self": null,
            "height": null,
            "min_height": null,
            "padding": null,
            "grid_auto_rows": null,
            "grid_gap": null,
            "max_width": null,
            "order": null,
            "_view_module_version": "1.2.0",
            "grid_template_areas": null,
            "object_position": null,
            "object_fit": null,
            "grid_auto_columns": null,
            "margin": null,
            "display": null,
            "left": null
          }
        },
        "bb98f7148ca642888a49d77be5126232": {
          "model_module": "@jupyter-widgets/controls",
          "model_name": "DescriptionStyleModel",
          "state": {
            "_view_name": "StyleView",
            "_model_name": "DescriptionStyleModel",
            "description_width": "",
            "_view_module": "@jupyter-widgets/base",
            "_model_module_version": "1.5.0",
            "_view_count": null,
            "_view_module_version": "1.2.0",
            "_model_module": "@jupyter-widgets/controls"
          }
        },
        "82ed028212e04dabb60928f0ef212659": {
          "model_module": "@jupyter-widgets/base",
          "model_name": "LayoutModel",
          "state": {
            "_view_name": "LayoutView",
            "grid_template_rows": null,
            "right": null,
            "justify_content": null,
            "_view_module": "@jupyter-widgets/base",
            "overflow": null,
            "_model_module_version": "1.2.0",
            "_view_count": null,
            "flex_flow": null,
            "width": null,
            "min_width": null,
            "border": null,
            "align_items": null,
            "bottom": null,
            "_model_module": "@jupyter-widgets/base",
            "top": null,
            "grid_column": null,
            "overflow_y": null,
            "overflow_x": null,
            "grid_auto_flow": null,
            "grid_area": null,
            "grid_template_columns": null,
            "flex": null,
            "_model_name": "LayoutModel",
            "justify_items": null,
            "grid_row": null,
            "max_height": null,
            "align_content": null,
            "visibility": null,
            "align_self": null,
            "height": null,
            "min_height": null,
            "padding": null,
            "grid_auto_rows": null,
            "grid_gap": null,
            "max_width": null,
            "order": null,
            "_view_module_version": "1.2.0",
            "grid_template_areas": null,
            "object_position": null,
            "object_fit": null,
            "grid_auto_columns": null,
            "margin": null,
            "display": null,
            "left": null
          }
        }
      }
    }
  },
  "cells": [
    {
      "cell_type": "markdown",
      "metadata": {
        "id": "durable-sessions"
      },
      "source": [
        "# VGG-16: CIFAR-10 dataset"
      ],
      "id": "durable-sessions"
    },
    {
      "cell_type": "code",
      "metadata": {
        "id": "devoted-roots"
      },
      "source": [
        "import torch\n",
        "import torch.nn as nn\n",
        "import torch.nn.functional as F\n",
        "import torchvision\n",
        "import torchvision.transforms as transforms\n",
        "import matplotlib.pyplot as plt\n",
        "import numpy as np\n",
        "import os"
      ],
      "id": "devoted-roots",
      "execution_count": 1,
      "outputs": []
    },
    {
      "cell_type": "code",
      "metadata": {
        "id": "expensive-criticism"
      },
      "source": [
        ""
      ],
      "id": "expensive-criticism",
      "execution_count": null,
      "outputs": []
    },
    {
      "cell_type": "code",
      "metadata": {
        "colab": {
          "base_uri": "https://localhost:8080/"
        },
        "id": "opening-ballet",
        "outputId": "8abe9a21-4ad0-4da6-c1d2-8e2b33073a2a"
      },
      "source": [
        "# Device configuration-\n",
        "device = torch.device('cuda' if torch.cuda.is_available() else 'cpu')\n",
        "print(f\"currently available device: {device}\")"
      ],
      "id": "opening-ballet",
      "execution_count": 2,
      "outputs": [
        {
          "output_type": "stream",
          "text": [
            "currently available device: cuda\n"
          ],
          "name": "stdout"
        }
      ]
    },
    {
      "cell_type": "code",
      "metadata": {
        "id": "included-entrepreneur"
      },
      "source": [
        ""
      ],
      "id": "included-entrepreneur",
      "execution_count": null,
      "outputs": []
    },
    {
      "cell_type": "code",
      "metadata": {
        "id": "ready-rouge"
      },
      "source": [
        "# Hyper-parameters-\n",
        "num_epochs = 200\n",
        "batch_size = 128\n",
        "learning_rate = 0.01"
      ],
      "id": "ready-rouge",
      "execution_count": 3,
      "outputs": []
    },
    {
      "cell_type": "code",
      "metadata": {
        "id": "forward-inquiry"
      },
      "source": [
        "# Define transformations for training and test sets-\n",
        "transform_train = transforms.Compose(\n",
        "    [\n",
        "      transforms.RandomCrop(32, padding = 4),\n",
        "      transforms.RandomHorizontalFlip(),\n",
        "      transforms.ToTensor(),\n",
        "      transforms.Normalize((0.4914, 0.4822, 0.4465), (0.2023, 0.1994, 0.2010)),\n",
        "     ]\n",
        "     )\n",
        "\n",
        "transform_test = transforms.Compose(\n",
        "    [\n",
        "      transforms.ToTensor(),\n",
        "      transforms.Normalize((0.4914, 0.4822, 0.4465), (0.2023, 0.1994, 0.2010)),\n",
        "     ]\n",
        "     )"
      ],
      "id": "forward-inquiry",
      "execution_count": 4,
      "outputs": []
    },
    {
      "cell_type": "code",
      "metadata": {
        "id": "mathematical-breakfast"
      },
      "source": [
        "'''\n",
        "# Dataset has PILImage images of range [0, 1]. We transform them to Tensors\n",
        "# of normalized range [-1, 1]\n",
        "transform = transforms.Compose(\n",
        "        [\n",
        "            transforms.ToTensor(),\n",
        "            transforms.Normalize((0.5, 0.5, 0.5), (0.5, 0.5, 0.5))\n",
        "            ]\n",
        "        )\n",
        "'''"
      ],
      "id": "mathematical-breakfast",
      "execution_count": null,
      "outputs": []
    },
    {
      "cell_type": "code",
      "metadata": {
        "id": "studied-boutique"
      },
      "source": [
        ""
      ],
      "id": "studied-boutique",
      "execution_count": null,
      "outputs": []
    },
    {
      "cell_type": "code",
      "metadata": {
        "id": "excited-robert"
      },
      "source": [
        "# os.chdir(\"/home/arjun/Documents/Programs/Python_Codes/PyTorch_Resources/Good_Codes/\")"
      ],
      "id": "excited-robert",
      "execution_count": null,
      "outputs": []
    },
    {
      "cell_type": "code",
      "metadata": {
        "colab": {
          "base_uri": "https://localhost:8080/",
          "height": 118,
          "referenced_widgets": [
            "7dba09dc511547fb9968a383344ed8ef",
            "baa5207118914a42b9040b3e6b1fc354",
            "4eed49b9cc8a45698e6cf937f45319db",
            "bf7efcca188045f9a871222edd005a09",
            "08584aa7db0c46aa922c8bed783abd85",
            "767f88f0f260476da3cc3bea5571a299",
            "bb98f7148ca642888a49d77be5126232",
            "82ed028212e04dabb60928f0ef212659"
          ]
        },
        "id": "focused-interaction",
        "outputId": "b838fa6a-b8d9-4eed-db6c-54a5e1bd172c"
      },
      "source": [
        "# Load dataset-\n",
        "train_dataset = torchvision.datasets.CIFAR10(\n",
        "        root = './data', train = True,\n",
        "        download = True, transform = transform_train\n",
        "        )\n",
        "\n",
        "test_dataset = torchvision.datasets.CIFAR10(\n",
        "        root = './data', train = False,\n",
        "        download = True, transform = transform_test\n",
        "        )"
      ],
      "id": "focused-interaction",
      "execution_count": 5,
      "outputs": [
        {
          "output_type": "stream",
          "text": [
            "Downloading https://www.cs.toronto.edu/~kriz/cifar-10-python.tar.gz to ./data/cifar-10-python.tar.gz\n"
          ],
          "name": "stdout"
        },
        {
          "output_type": "display_data",
          "data": {
            "application/vnd.jupyter.widget-view+json": {
              "model_id": "7dba09dc511547fb9968a383344ed8ef",
              "version_minor": 0,
              "version_major": 2
            },
            "text/plain": [
              "HBox(children=(FloatProgress(value=0.0, max=170498071.0), HTML(value='')))"
            ]
          },
          "metadata": {
            "tags": []
          }
        },
        {
          "output_type": "stream",
          "text": [
            "\n",
            "Extracting ./data/cifar-10-python.tar.gz to ./data\n",
            "Files already downloaded and verified\n"
          ],
          "name": "stdout"
        }
      ]
    },
    {
      "cell_type": "code",
      "metadata": {
        "colab": {
          "base_uri": "https://localhost:8080/"
        },
        "id": "russian-composer",
        "outputId": "79d510db-e903-4c1b-897c-370728f85f79"
      },
      "source": [
        "print(f\"len(train_dataset) = {len(train_dataset)} & len(test_dataset) = {len(test_dataset)}\")"
      ],
      "id": "russian-composer",
      "execution_count": 6,
      "outputs": [
        {
          "output_type": "stream",
          "text": [
            "len(train_dataset) = 50000 & len(test_dataset) = 10000\n"
          ],
          "name": "stdout"
        }
      ]
    },
    {
      "cell_type": "code",
      "metadata": {
        "id": "attended-sheriff"
      },
      "source": [
        "# Create training and testing loaders-\n",
        "train_loader = torch.utils.data.DataLoader(\n",
        "        train_dataset, batch_size = batch_size,\n",
        "        shuffle = True\n",
        "        )\n",
        "\n",
        "test_loader = torch.utils.data.DataLoader(\n",
        "        test_dataset, batch_size = batch_size,\n",
        "        shuffle = False\n",
        "        )"
      ],
      "id": "attended-sheriff",
      "execution_count": 7,
      "outputs": []
    },
    {
      "cell_type": "code",
      "metadata": {
        "colab": {
          "base_uri": "https://localhost:8080/"
        },
        "id": "maritime-assist",
        "outputId": "88050405-e704-460f-aa8c-357076c577cf"
      },
      "source": [
        "print(f\"len(train_loader) = {len(train_loader)} & len(test_loader) = {len(test_loader)}\")"
      ],
      "id": "maritime-assist",
      "execution_count": 8,
      "outputs": [
        {
          "output_type": "stream",
          "text": [
            "len(train_loader) = 391 & len(test_loader) = 79\n"
          ],
          "name": "stdout"
        }
      ]
    },
    {
      "cell_type": "code",
      "metadata": {
        "colab": {
          "base_uri": "https://localhost:8080/"
        },
        "id": "streaming-voltage",
        "outputId": "e3469822-bd53-4207-9278-1cdc348ffd74"
      },
      "source": [
        "# Sanity check-\n",
        "len(train_dataset) / batch_size, len(test_dataset) / batch_size"
      ],
      "id": "streaming-voltage",
      "execution_count": 9,
      "outputs": [
        {
          "output_type": "execute_result",
          "data": {
            "text/plain": [
              "(390.625, 78.125)"
            ]
          },
          "metadata": {
            "tags": []
          },
          "execution_count": 9
        }
      ]
    },
    {
      "cell_type": "code",
      "metadata": {
        "id": "otherwise-complex"
      },
      "source": [
        ""
      ],
      "id": "otherwise-complex",
      "execution_count": null,
      "outputs": []
    },
    {
      "cell_type": "code",
      "metadata": {
        "colab": {
          "base_uri": "https://localhost:8080/"
        },
        "id": "legislative-continuity",
        "outputId": "40bfbf39-5faa-4482-ab44-8d6f882a5762"
      },
      "source": [
        "# Get some random training images-\n",
        "# some_img = iter(train_loader)\n",
        "# images, labels = some_img.next()\n",
        "images, labels = next(iter(train_loader))\n",
        "\n",
        "# You get 32 images due to our specified batch size-\n",
        "print(f\"images.shape: {images.shape} & labels.shape: {labels.shape}\")"
      ],
      "id": "legislative-continuity",
      "execution_count": 10,
      "outputs": [
        {
          "output_type": "stream",
          "text": [
            "images.shape: torch.Size([128, 3, 32, 32]) & labels.shape: torch.Size([128])\n"
          ],
          "name": "stdout"
        }
      ]
    },
    {
      "cell_type": "code",
      "metadata": {
        "id": "aggregate-senate"
      },
      "source": [
        ""
      ],
      "id": "aggregate-senate",
      "execution_count": null,
      "outputs": []
    },
    {
      "cell_type": "code",
      "metadata": {
        "id": "union-senator"
      },
      "source": [
        ""
      ],
      "id": "union-senator",
      "execution_count": null,
      "outputs": []
    },
    {
      "cell_type": "code",
      "metadata": {
        "id": "completed-matthew"
      },
      "source": [
        "class VGGBlock(nn.Module):\n",
        "    '''\n",
        "    VGG-* block within a VGG CNN model\n",
        "    '''\n",
        "    def __init__(self, input_channels, num_channels, padding_size = 1,\n",
        "                 stride_size = 1, use_third_conv = False):\n",
        "        super().__init__()\n",
        "        \n",
        "        self.conv1 = nn.Conv2d(\n",
        "            in_channels = input_channels, out_channels = num_channels,\n",
        "            kernel_size = 3, padding = padding_size,\n",
        "            stride = stride_size, bias = False\n",
        "        )\n",
        "        \n",
        "        self.conv2 = nn.Conv2d(\n",
        "            in_channels = num_channels, out_channels = num_channels,\n",
        "            kernel_size = 3, padding = padding_size,\n",
        "            stride = stride_size, bias = False\n",
        "        )\n",
        "        \n",
        "        if use_third_conv:\n",
        "            self.conv3 = nn.Conv2d(\n",
        "                in_channels = num_channels, out_channels = num_channels,\n",
        "                kernel_size = 3, padding = padding_size,\n",
        "                stride = stride_size, bias = False\n",
        "            )\n",
        "        else:\n",
        "            self.conv3 = False\n",
        "        \n",
        "        self.pool = nn.MaxPool2d(\n",
        "            kernel_size = 2, stride = 2)\n",
        "            # padding = 1)\n",
        "        \n",
        "        self.bn1 = nn.BatchNorm2d(num_features = num_channels)\n",
        "        self.bn2 = nn.BatchNorm2d(num_features = num_channels)\n",
        "        self.bn3 = nn.BatchNorm2d(num_features = num_channels)\n",
        "        \n",
        "        self.initialize_weights()\n",
        "    \n",
        "    \n",
        "    def forward(self, X):\n",
        "        Y = F.relu(self.bn1(self.conv1(X)))\n",
        "        Y = F.relu(self.bn2(self.conv2(Y)))\n",
        "        \n",
        "        if self.conv3:\n",
        "            Y = F.relu(self.bn3(self.conv3(Y)))\n",
        "            Y = self.pool(Y)\n",
        "        else:\n",
        "            Y = self.pool(Y)\n",
        "        \n",
        "        return Y\n",
        "    \n",
        "    \n",
        "    def shape_computation(self, X):\n",
        "        Y = self.bn1(self.conv1(X))\n",
        "        print(f\"self.bn(conv1(X)).shape: {Y.shape}\")\n",
        "        \n",
        "        Y = self.bn2(self.conv2(Y))\n",
        "        print(f\"self.bn(conv2(Y)).shape: {Y.shape}\")\n",
        "        \n",
        "        if self.conv3:\n",
        "            Y = self.bn3(self.conv3(Y))\n",
        "            print(f\"self.bn(conv3(Y)).shape: {Y.shape}\")\n",
        "            \n",
        "            Y = self.pool(Y)\n",
        "            print(f\"self.pool(Y).shape: {Y.shape}\")\n",
        "        else:\n",
        "            Y = self.pool(Y)\n",
        "            print(f\"self.pool(Y).shape: {Y.shape}\")\n",
        "        \n",
        "\n",
        "    def initialize_weights(self):\n",
        "        for m in self.modules():\n",
        "            # print(m)\n",
        "            if isinstance(m, nn.Conv2d):\n",
        "                nn.init.kaiming_uniform_(m.weight)\n",
        "\n",
        "                '''\n",
        "                # Do not initialize bias (due to batchnorm)-\n",
        "                if m.bias is not None:\n",
        "                    nn.init.constant_(m.bias, 0)\n",
        "                '''\n",
        "            \n",
        "            elif isinstance(m, nn.BatchNorm2d):\n",
        "                # Standard initialization for batch normalization-\n",
        "                nn.init.constant_(m.weight, 1)\n",
        "                nn.init.constant_(m.bias, 0)\n",
        "\n",
        "            elif isinstance(m, nn.Linear):\n",
        "                nn.init.kaiming_normal_(m.weight)\n",
        "                nn.init.constant_(m.bias, 0)\n",
        "\n",
        "        "
      ],
      "id": "completed-matthew",
      "execution_count": 11,
      "outputs": []
    },
    {
      "cell_type": "code",
      "metadata": {
        "id": "operational-convert"
      },
      "source": [
        ""
      ],
      "id": "operational-convert",
      "execution_count": null,
      "outputs": []
    },
    {
      "cell_type": "code",
      "metadata": {
        "id": "anonymous-potato"
      },
      "source": [
        "# Sanity check-\n",
        "b1 = VGGBlock(input_channels = 3, num_channels = 64)"
      ],
      "id": "anonymous-potato",
      "execution_count": 13,
      "outputs": []
    },
    {
      "cell_type": "code",
      "metadata": {
        "id": "understanding-cycle",
        "outputId": "8ed12036-837e-433e-eb48-332c7a599134"
      },
      "source": [
        "# Compute dimensions of images for each layer within the VGG block-\n",
        "b1.shape_computation(images)"
      ],
      "id": "understanding-cycle",
      "execution_count": null,
      "outputs": [
        {
          "output_type": "stream",
          "text": [
            "self.bn(conv1(X)).shape: torch.Size([128, 64, 32, 32])\n",
            "self.bn(conv2(Y)).shape: torch.Size([128, 64, 32, 32])\n",
            "self.pool(Y).shape: torch.Size([128, 64, 16, 16])\n"
          ],
          "name": "stdout"
        }
      ]
    },
    {
      "cell_type": "code",
      "metadata": {
        "id": "verified-yesterday"
      },
      "source": [
        "Y = b1(images)"
      ],
      "id": "verified-yesterday",
      "execution_count": null,
      "outputs": []
    },
    {
      "cell_type": "code",
      "metadata": {
        "id": "industrial-dating",
        "outputId": "60bf4890-a15f-4289-9346-ad7efc6c403d"
      },
      "source": [
        "Y.shape"
      ],
      "id": "industrial-dating",
      "execution_count": null,
      "outputs": [
        {
          "output_type": "execute_result",
          "data": {
            "text/plain": [
              "torch.Size([128, 64, 16, 16])"
            ]
          },
          "metadata": {
            "tags": []
          },
          "execution_count": 37
        }
      ]
    },
    {
      "cell_type": "code",
      "metadata": {
        "id": "addressed-brave"
      },
      "source": [
        ""
      ],
      "id": "addressed-brave",
      "execution_count": null,
      "outputs": []
    },
    {
      "cell_type": "code",
      "metadata": {
        "id": "solved-monte"
      },
      "source": [
        "b2 = VGGBlock(input_channels = 64, num_channels = 128)"
      ],
      "id": "solved-monte",
      "execution_count": 14,
      "outputs": []
    },
    {
      "cell_type": "code",
      "metadata": {
        "id": "beginning-allen"
      },
      "source": [
        "Y = b2(Y)"
      ],
      "id": "beginning-allen",
      "execution_count": null,
      "outputs": []
    },
    {
      "cell_type": "code",
      "metadata": {
        "id": "durable-acrobat",
        "outputId": "f2b91c0e-af2a-40b6-e765-4cccc11e1117"
      },
      "source": [
        "Y.shape"
      ],
      "id": "durable-acrobat",
      "execution_count": null,
      "outputs": [
        {
          "output_type": "execute_result",
          "data": {
            "text/plain": [
              "torch.Size([128, 128, 8, 8])"
            ]
          },
          "metadata": {
            "tags": []
          },
          "execution_count": 40
        }
      ]
    },
    {
      "cell_type": "code",
      "metadata": {
        "id": "synthetic-representative",
        "outputId": "150eb664-7a2b-4d58-b0ad-559d21ee3edf"
      },
      "source": [
        "b2.shape_computation(torch.rand(128, 64, 16, 16))"
      ],
      "id": "synthetic-representative",
      "execution_count": null,
      "outputs": [
        {
          "output_type": "stream",
          "text": [
            "self.bn(conv1(X)).shape: torch.Size([128, 128, 16, 16])\n",
            "self.bn(conv2(Y)).shape: torch.Size([128, 128, 16, 16])\n",
            "self.pool(Y).shape: torch.Size([128, 128, 8, 8])\n"
          ],
          "name": "stdout"
        }
      ]
    },
    {
      "cell_type": "code",
      "metadata": {
        "id": "genuine-transition"
      },
      "source": [
        ""
      ],
      "id": "genuine-transition",
      "execution_count": null,
      "outputs": []
    },
    {
      "cell_type": "code",
      "metadata": {
        "id": "published-values"
      },
      "source": [
        "b3 = VGGBlock(input_channels = 128, num_channels = 256, use_third_conv = True)"
      ],
      "id": "published-values",
      "execution_count": 15,
      "outputs": []
    },
    {
      "cell_type": "code",
      "metadata": {
        "id": "fifty-weapon"
      },
      "source": [
        "Y = b3(Y)"
      ],
      "id": "fifty-weapon",
      "execution_count": null,
      "outputs": []
    },
    {
      "cell_type": "code",
      "metadata": {
        "id": "exciting-washer",
        "outputId": "6bd6f544-d391-4866-e157-e922589ae093"
      },
      "source": [
        "Y.shape"
      ],
      "id": "exciting-washer",
      "execution_count": null,
      "outputs": [
        {
          "output_type": "execute_result",
          "data": {
            "text/plain": [
              "torch.Size([128, 256, 4, 4])"
            ]
          },
          "metadata": {
            "tags": []
          },
          "execution_count": 44
        }
      ]
    },
    {
      "cell_type": "code",
      "metadata": {
        "id": "governmental-queen",
        "outputId": "e9772d9d-e81d-4dc7-e32d-b04174cc5d3c"
      },
      "source": [
        "b3.shape_computation(torch.rand(128, 128, 8, 8))"
      ],
      "id": "governmental-queen",
      "execution_count": null,
      "outputs": [
        {
          "output_type": "stream",
          "text": [
            "self.bn(conv1(X)).shape: torch.Size([128, 256, 8, 8])\n",
            "self.bn(conv2(Y)).shape: torch.Size([128, 256, 8, 8])\n",
            "self.bn(conv3(Y)).shape: torch.Size([128, 256, 8, 8])\n",
            "self.pool(Y).shape: torch.Size([128, 256, 4, 4])\n"
          ],
          "name": "stdout"
        }
      ]
    },
    {
      "cell_type": "code",
      "metadata": {
        "id": "rotary-server"
      },
      "source": [
        ""
      ],
      "id": "rotary-server",
      "execution_count": null,
      "outputs": []
    },
    {
      "cell_type": "code",
      "metadata": {
        "id": "sought-extent"
      },
      "source": [
        "b4 = VGGBlock(input_channels = 256, num_channels = 512, use_third_conv = True)"
      ],
      "id": "sought-extent",
      "execution_count": 16,
      "outputs": []
    },
    {
      "cell_type": "code",
      "metadata": {
        "id": "southern-county"
      },
      "source": [
        "Y = b4(Y)"
      ],
      "id": "southern-county",
      "execution_count": null,
      "outputs": []
    },
    {
      "cell_type": "code",
      "metadata": {
        "id": "southern-cache",
        "outputId": "25fb7be9-808e-460c-8e7f-4a0b0da088cc"
      },
      "source": [
        "Y.shape"
      ],
      "id": "southern-cache",
      "execution_count": null,
      "outputs": [
        {
          "output_type": "execute_result",
          "data": {
            "text/plain": [
              "torch.Size([128, 512, 2, 2])"
            ]
          },
          "metadata": {
            "tags": []
          },
          "execution_count": 48
        }
      ]
    },
    {
      "cell_type": "code",
      "metadata": {
        "id": "incorrect-twenty",
        "outputId": "779bb1d2-121e-4d28-d621-b26f2dc00525"
      },
      "source": [
        "b4.shape_computation(torch.rand(128, 256, 4, 4))"
      ],
      "id": "incorrect-twenty",
      "execution_count": null,
      "outputs": [
        {
          "output_type": "stream",
          "text": [
            "self.bn(conv1(X)).shape: torch.Size([128, 512, 4, 4])\n",
            "self.bn(conv2(Y)).shape: torch.Size([128, 512, 4, 4])\n",
            "self.bn(conv3(Y)).shape: torch.Size([128, 512, 4, 4])\n",
            "self.pool(Y).shape: torch.Size([128, 512, 2, 2])\n"
          ],
          "name": "stdout"
        }
      ]
    },
    {
      "cell_type": "code",
      "metadata": {
        "id": "accessible-communication"
      },
      "source": [
        ""
      ],
      "id": "accessible-communication",
      "execution_count": null,
      "outputs": []
    },
    {
      "cell_type": "code",
      "metadata": {
        "id": "bridal-metallic"
      },
      "source": [
        "b5 = VGGBlock(input_channels = 512, num_channels = 512, use_third_conv = True)"
      ],
      "id": "bridal-metallic",
      "execution_count": 17,
      "outputs": []
    },
    {
      "cell_type": "code",
      "metadata": {
        "id": "subsequent-revolution"
      },
      "source": [
        "Y = b5(Y)"
      ],
      "id": "subsequent-revolution",
      "execution_count": null,
      "outputs": []
    },
    {
      "cell_type": "code",
      "metadata": {
        "id": "extra-domestic",
        "outputId": "f2a0ecdd-b8dd-481b-d68f-c4aa501736a9"
      },
      "source": [
        "Y.shape"
      ],
      "id": "extra-domestic",
      "execution_count": null,
      "outputs": [
        {
          "output_type": "execute_result",
          "data": {
            "text/plain": [
              "torch.Size([128, 512, 1, 1])"
            ]
          },
          "metadata": {
            "tags": []
          },
          "execution_count": 53
        }
      ]
    },
    {
      "cell_type": "code",
      "metadata": {
        "id": "coral-magic",
        "outputId": "c2a3519b-56ee-465e-8aea-e9bb3dbf860a"
      },
      "source": [
        "b5.shape_computation(torch.rand(128, 512, 2, 2))"
      ],
      "id": "coral-magic",
      "execution_count": null,
      "outputs": [
        {
          "output_type": "stream",
          "text": [
            "self.bn(conv1(X)).shape: torch.Size([128, 512, 2, 2])\n",
            "self.bn(conv2(Y)).shape: torch.Size([128, 512, 2, 2])\n",
            "self.bn(conv3(Y)).shape: torch.Size([128, 512, 2, 2])\n",
            "self.pool(Y).shape: torch.Size([128, 512, 1, 1])\n"
          ],
          "name": "stdout"
        }
      ]
    },
    {
      "cell_type": "code",
      "metadata": {
        "id": "fresh-promise"
      },
      "source": [
        ""
      ],
      "id": "fresh-promise",
      "execution_count": null,
      "outputs": []
    },
    {
      "cell_type": "code",
      "metadata": {
        "id": "wound-interference"
      },
      "source": [
        "pool_layer = nn.MaxPool2d(kernel_size = 1, stride = 1)"
      ],
      "id": "wound-interference",
      "execution_count": null,
      "outputs": []
    },
    {
      "cell_type": "code",
      "metadata": {
        "id": "pregnant-special"
      },
      "source": [
        "Y = pool_layer(Y)"
      ],
      "id": "pregnant-special",
      "execution_count": null,
      "outputs": []
    },
    {
      "cell_type": "code",
      "metadata": {
        "id": "fitted-computer",
        "outputId": "6a3116c7-750e-4b22-c972-62582e1a5fb2"
      },
      "source": [
        "Y.shape"
      ],
      "id": "fitted-computer",
      "execution_count": null,
      "outputs": [
        {
          "output_type": "execute_result",
          "data": {
            "text/plain": [
              "torch.Size([128, 512, 1, 1])"
            ]
          },
          "metadata": {
            "tags": []
          },
          "execution_count": 61
        }
      ]
    },
    {
      "cell_type": "code",
      "metadata": {
        "id": "precious-immigration"
      },
      "source": [
        ""
      ],
      "id": "precious-immigration",
      "execution_count": null,
      "outputs": []
    },
    {
      "cell_type": "code",
      "metadata": {
        "id": "ceramic-denver"
      },
      "source": [
        ""
      ],
      "id": "ceramic-denver",
      "execution_count": null,
      "outputs": []
    },
    {
      "cell_type": "code",
      "metadata": {
        "id": "following-extra"
      },
      "source": [
        "# Initialize ResNet-34 model-\n",
        "model = nn.Sequential(\n",
        "    b1, b2, b3, b4, b5,\n",
        "    nn.MaxPool2d(kernel_size = 1, stride = 1),\n",
        "    nn.Flatten(),\n",
        "    nn.Linear(in_features = 512, out_features = 256),\n",
        "    nn.Linear(in_features = 256, out_features = 10))"
      ],
      "id": "following-extra",
      "execution_count": 32,
      "outputs": []
    },
    {
      "cell_type": "code",
      "metadata": {
        "colab": {
          "base_uri": "https://localhost:8080/"
        },
        "id": "4PEKVdY4bTLH",
        "outputId": "f73eab5c-1f95-436f-b05a-1a5447afa2cc"
      },
      "source": [
        "# Load initialization weights-\n",
        "model.load_state_dict(torch.load(\"/content/VGG16_kaiming_uniform_random_weights.pth\"))"
      ],
      "id": "4PEKVdY4bTLH",
      "execution_count": 33,
      "outputs": [
        {
          "output_type": "execute_result",
          "data": {
            "text/plain": [
              "<All keys matched successfully>"
            ]
          },
          "metadata": {
            "tags": []
          },
          "execution_count": 33
        }
      ]
    },
    {
      "cell_type": "code",
      "metadata": {
        "id": "grateful-endorsement"
      },
      "source": [
        ""
      ],
      "id": "grateful-endorsement",
      "execution_count": null,
      "outputs": []
    },
    {
      "cell_type": "code",
      "metadata": {
        "id": "normal-flood"
      },
      "source": [
        ""
      ],
      "id": "normal-flood",
      "execution_count": null,
      "outputs": []
    },
    {
      "cell_type": "code",
      "metadata": {
        "colab": {
          "base_uri": "https://localhost:8080/"
        },
        "id": "accessory-commissioner",
        "outputId": "51cb796b-658b-4418-e53c-3829a5cb6502"
      },
      "source": [
        "# Place model on GPU (if available)-\n",
        "model.to(device)"
      ],
      "id": "accessory-commissioner",
      "execution_count": 34,
      "outputs": [
        {
          "output_type": "execute_result",
          "data": {
            "text/plain": [
              "Sequential(\n",
              "  (0): VGGBlock(\n",
              "    (conv1): Conv2d(3, 64, kernel_size=(3, 3), stride=(1, 1), padding=(1, 1), bias=False)\n",
              "    (conv2): Conv2d(64, 64, kernel_size=(3, 3), stride=(1, 1), padding=(1, 1), bias=False)\n",
              "    (pool): MaxPool2d(kernel_size=2, stride=2, padding=0, dilation=1, ceil_mode=False)\n",
              "    (bn1): BatchNorm2d(64, eps=1e-05, momentum=0.1, affine=True, track_running_stats=True)\n",
              "    (bn2): BatchNorm2d(64, eps=1e-05, momentum=0.1, affine=True, track_running_stats=True)\n",
              "    (bn3): BatchNorm2d(64, eps=1e-05, momentum=0.1, affine=True, track_running_stats=True)\n",
              "  )\n",
              "  (1): VGGBlock(\n",
              "    (conv1): Conv2d(64, 128, kernel_size=(3, 3), stride=(1, 1), padding=(1, 1), bias=False)\n",
              "    (conv2): Conv2d(128, 128, kernel_size=(3, 3), stride=(1, 1), padding=(1, 1), bias=False)\n",
              "    (pool): MaxPool2d(kernel_size=2, stride=2, padding=0, dilation=1, ceil_mode=False)\n",
              "    (bn1): BatchNorm2d(128, eps=1e-05, momentum=0.1, affine=True, track_running_stats=True)\n",
              "    (bn2): BatchNorm2d(128, eps=1e-05, momentum=0.1, affine=True, track_running_stats=True)\n",
              "    (bn3): BatchNorm2d(128, eps=1e-05, momentum=0.1, affine=True, track_running_stats=True)\n",
              "  )\n",
              "  (2): VGGBlock(\n",
              "    (conv1): Conv2d(128, 256, kernel_size=(3, 3), stride=(1, 1), padding=(1, 1), bias=False)\n",
              "    (conv2): Conv2d(256, 256, kernel_size=(3, 3), stride=(1, 1), padding=(1, 1), bias=False)\n",
              "    (conv3): Conv2d(256, 256, kernel_size=(3, 3), stride=(1, 1), padding=(1, 1), bias=False)\n",
              "    (pool): MaxPool2d(kernel_size=2, stride=2, padding=0, dilation=1, ceil_mode=False)\n",
              "    (bn1): BatchNorm2d(256, eps=1e-05, momentum=0.1, affine=True, track_running_stats=True)\n",
              "    (bn2): BatchNorm2d(256, eps=1e-05, momentum=0.1, affine=True, track_running_stats=True)\n",
              "    (bn3): BatchNorm2d(256, eps=1e-05, momentum=0.1, affine=True, track_running_stats=True)\n",
              "  )\n",
              "  (3): VGGBlock(\n",
              "    (conv1): Conv2d(256, 512, kernel_size=(3, 3), stride=(1, 1), padding=(1, 1), bias=False)\n",
              "    (conv2): Conv2d(512, 512, kernel_size=(3, 3), stride=(1, 1), padding=(1, 1), bias=False)\n",
              "    (conv3): Conv2d(512, 512, kernel_size=(3, 3), stride=(1, 1), padding=(1, 1), bias=False)\n",
              "    (pool): MaxPool2d(kernel_size=2, stride=2, padding=0, dilation=1, ceil_mode=False)\n",
              "    (bn1): BatchNorm2d(512, eps=1e-05, momentum=0.1, affine=True, track_running_stats=True)\n",
              "    (bn2): BatchNorm2d(512, eps=1e-05, momentum=0.1, affine=True, track_running_stats=True)\n",
              "    (bn3): BatchNorm2d(512, eps=1e-05, momentum=0.1, affine=True, track_running_stats=True)\n",
              "  )\n",
              "  (4): VGGBlock(\n",
              "    (conv1): Conv2d(512, 512, kernel_size=(3, 3), stride=(1, 1), padding=(1, 1), bias=False)\n",
              "    (conv2): Conv2d(512, 512, kernel_size=(3, 3), stride=(1, 1), padding=(1, 1), bias=False)\n",
              "    (conv3): Conv2d(512, 512, kernel_size=(3, 3), stride=(1, 1), padding=(1, 1), bias=False)\n",
              "    (pool): MaxPool2d(kernel_size=2, stride=2, padding=0, dilation=1, ceil_mode=False)\n",
              "    (bn1): BatchNorm2d(512, eps=1e-05, momentum=0.1, affine=True, track_running_stats=True)\n",
              "    (bn2): BatchNorm2d(512, eps=1e-05, momentum=0.1, affine=True, track_running_stats=True)\n",
              "    (bn3): BatchNorm2d(512, eps=1e-05, momentum=0.1, affine=True, track_running_stats=True)\n",
              "  )\n",
              "  (5): MaxPool2d(kernel_size=1, stride=1, padding=0, dilation=1, ceil_mode=False)\n",
              "  (6): Flatten(start_dim=1, end_dim=-1)\n",
              "  (7): Linear(in_features=512, out_features=256, bias=True)\n",
              "  (8): Linear(in_features=256, out_features=10, bias=True)\n",
              ")"
            ]
          },
          "metadata": {
            "tags": []
          },
          "execution_count": 34
        }
      ]
    },
    {
      "cell_type": "code",
      "metadata": {
        "id": "equal-medication"
      },
      "source": [
        ""
      ],
      "id": "equal-medication",
      "execution_count": null,
      "outputs": []
    },
    {
      "cell_type": "code",
      "metadata": {
        "id": "stock-latter"
      },
      "source": [
        "# Save random initial weights-\n",
        "torch.save(model.state_dict(), '/content/VGG16_kaiming_uniform_random_weights.pth')"
      ],
      "id": "stock-latter",
      "execution_count": 20,
      "outputs": []
    },
    {
      "cell_type": "code",
      "metadata": {
        "id": "harmful-bleeding"
      },
      "source": [
        ""
      ],
      "id": "harmful-bleeding",
      "execution_count": null,
      "outputs": []
    },
    {
      "cell_type": "code",
      "metadata": {
        "id": "hazardous-professor"
      },
      "source": [
        "# model(images).shape\n",
        "# torch.Size([128, 10])"
      ],
      "id": "hazardous-professor",
      "execution_count": null,
      "outputs": []
    },
    {
      "cell_type": "code",
      "metadata": {
        "colab": {
          "base_uri": "https://localhost:8080/"
        },
        "id": "concerned-array",
        "outputId": "b80bf41b-71d1-41e0-9c15-8159f2d7ae37"
      },
      "source": [
        "# Sanity check- make predictions using the define model-\n",
        "model(images.to(device)).shape  # don't forget to place images to GPU device"
      ],
      "id": "concerned-array",
      "execution_count": 35,
      "outputs": [
        {
          "output_type": "execute_result",
          "data": {
            "text/plain": [
              "torch.Size([16, 10])"
            ]
          },
          "metadata": {
            "tags": []
          },
          "execution_count": 35
        }
      ]
    },
    {
      "cell_type": "code",
      "metadata": {
        "id": "protected-snowboard"
      },
      "source": [
        ""
      ],
      "id": "protected-snowboard",
      "execution_count": null,
      "outputs": []
    },
    {
      "cell_type": "code",
      "metadata": {
        "id": "tough-google"
      },
      "source": [
        "# Count number of layer-wise parameters and total parameters-\n",
        "tot_params = 0\n",
        "for param in model.parameters():\n",
        "    print(f\"layer.shape = {param.shape} has {param.nelement()} parameters\")\n",
        "    tot_params += param.nelement()"
      ],
      "id": "tough-google",
      "execution_count": null,
      "outputs": []
    },
    {
      "cell_type": "code",
      "metadata": {
        "colab": {
          "base_uri": "https://localhost:8080/"
        },
        "id": "czech-commons",
        "outputId": "d60c6100-7661-4b7f-c2dc-3b8b137f54dd"
      },
      "source": [
        "print(f\"Total number of parameters in VGG-16 CNN = {tot_params}\")"
      ],
      "id": "czech-commons",
      "execution_count": 39,
      "outputs": [
        {
          "output_type": "stream",
          "text": [
            "Total number of parameters in VGG-16 CNN = 14853194\n"
          ],
          "name": "stdout"
        }
      ]
    },
    {
      "cell_type": "code",
      "metadata": {
        "id": "recreational-myanmar"
      },
      "source": [
        ""
      ],
      "id": "recreational-myanmar",
      "execution_count": null,
      "outputs": []
    },
    {
      "cell_type": "code",
      "metadata": {
        "id": "pleasant-architect"
      },
      "source": [
        "# Print layer names-\n",
        "for layer in model.state_dict().keys():\n",
        "    print(f\"{layer} has dimension = {model.state_dict()[layer].shape}\")"
      ],
      "id": "pleasant-architect",
      "execution_count": null,
      "outputs": []
    },
    {
      "cell_type": "code",
      "metadata": {
        "id": "completed-timer"
      },
      "source": [
        ""
      ],
      "id": "completed-timer",
      "execution_count": null,
      "outputs": []
    },
    {
      "cell_type": "code",
      "metadata": {
        "colab": {
          "base_uri": "https://localhost:8080/"
        },
        "id": "realistic-genome",
        "outputId": "34ceda0e-4f51-4d7d-af77-b993d038e789"
      },
      "source": [
        "X = images\n",
        "X.shape"
      ],
      "id": "realistic-genome",
      "execution_count": null,
      "outputs": [
        {
          "output_type": "execute_result",
          "data": {
            "text/plain": [
              "torch.Size([128, 3, 32, 32])"
            ]
          },
          "metadata": {
            "tags": []
          },
          "execution_count": 68
        }
      ]
    },
    {
      "cell_type": "code",
      "metadata": {
        "id": "hollywood-playlist"
      },
      "source": [
        "X.to(device) # place on device"
      ],
      "id": "hollywood-playlist",
      "execution_count": null,
      "outputs": []
    },
    {
      "cell_type": "code",
      "metadata": {
        "id": "encouraging-massachusetts",
        "outputId": "f827876a-0361-45f2-f048-640bb29b86fa"
      },
      "source": [
        "'''\n",
        "Before training ResNet-18, let us observe how the input shape changes across\n",
        "different modules in ResNet.\n",
        "As in all the previous architectures, the resolution decreases while the number\n",
        "of channels increases up until the point where a global average pooling layer\n",
        "aggregates all features.\n",
        "'''\n",
        "for layer in model:\n",
        "    # X.to(device)\n",
        "    X = layer(X)\n",
        "    print(layer.__class__.__name__,'output shape:\\t', X.shape)"
      ],
      "id": "encouraging-massachusetts",
      "execution_count": null,
      "outputs": [
        {
          "output_type": "stream",
          "text": [
            "VGGBlock output shape:\t torch.Size([128, 64, 16, 16])\n",
            "VGGBlock output shape:\t torch.Size([128, 128, 8, 8])\n",
            "VGGBlock output shape:\t torch.Size([128, 256, 4, 4])\n",
            "VGGBlock output shape:\t torch.Size([128, 512, 2, 2])\n",
            "VGGBlock output shape:\t torch.Size([128, 512, 1, 1])\n",
            "MaxPool2d output shape:\t torch.Size([128, 512, 1, 1])\n",
            "Flatten output shape:\t torch.Size([128, 512])\n",
            "Linear output shape:\t torch.Size([128, 256])\n",
            "Linear output shape:\t torch.Size([128, 10])\n"
          ],
          "name": "stdout"
        }
      ]
    },
    {
      "cell_type": "code",
      "metadata": {
        "id": "distinct-generic"
      },
      "source": [
        ""
      ],
      "id": "distinct-generic",
      "execution_count": null,
      "outputs": []
    },
    {
      "cell_type": "code",
      "metadata": {
        "colab": {
          "base_uri": "https://localhost:8080/"
        },
        "id": "preceding-aspect",
        "outputId": "32b08c4f-a784-4f64-f784-e9c680cefb32"
      },
      "source": [
        "model(images.to(device)).shape"
      ],
      "id": "preceding-aspect",
      "execution_count": null,
      "outputs": [
        {
          "output_type": "execute_result",
          "data": {
            "text/plain": [
              "torch.Size([128, 10])"
            ]
          },
          "metadata": {
            "tags": []
          },
          "execution_count": 26
        }
      ]
    },
    {
      "cell_type": "code",
      "metadata": {
        "id": "spare-transformation"
      },
      "source": [
        ""
      ],
      "id": "spare-transformation",
      "execution_count": null,
      "outputs": []
    },
    {
      "cell_type": "code",
      "metadata": {
        "id": "olive-richards"
      },
      "source": [
        ""
      ],
      "id": "olive-richards",
      "execution_count": null,
      "outputs": []
    },
    {
      "cell_type": "markdown",
      "metadata": {
        "id": "thermal-spelling"
      },
      "source": [
        "### Train VGG-16 CNN model:"
      ],
      "id": "thermal-spelling"
    },
    {
      "cell_type": "code",
      "metadata": {
        "id": "adequate-fleece"
      },
      "source": [
        "# User input parameters for Early Stopping in manual implementation-\n",
        "minimum_delta = 0.001\n",
        "patience = 5"
      ],
      "id": "adequate-fleece",
      "execution_count": 40,
      "outputs": []
    },
    {
      "cell_type": "code",
      "metadata": {
        "id": "textile-bruce"
      },
      "source": [
        "# Initialize parameters for Early Stopping manual implementation-\n",
        "best_val_loss = 100\n",
        "loc_patience = 0"
      ],
      "id": "textile-bruce",
      "execution_count": 41,
      "outputs": []
    },
    {
      "cell_type": "code",
      "metadata": {
        "id": "frank-gazette"
      },
      "source": [
        "# Define loss function and optimizer-\n",
        "loss = nn.CrossEntropyLoss()\n",
        "\n",
        "# optimizer = torch.optim.Adam(model.parameters(), lr = learning_rate)\n",
        "optimizer = torch.optim.SGD(model.parameters(), lr = 0.01, momentum = 0.9, weight_decay = 5e-4)"
      ],
      "id": "frank-gazette",
      "execution_count": 42,
      "outputs": []
    },
    {
      "cell_type": "code",
      "metadata": {
        "id": "blocked-corner"
      },
      "source": [
        "# Python3 lists to store model training metrics-\n",
        "training_acc = []\n",
        "validation_acc = []\n",
        "training_loss = []\n",
        "validation_loss = []"
      ],
      "id": "blocked-corner",
      "execution_count": 43,
      "outputs": []
    },
    {
      "cell_type": "code",
      "metadata": {
        "colab": {
          "base_uri": "https://localhost:8080/"
        },
        "id": "affiliated-holocaust",
        "outputId": "da136722-bc46-4e05-e941-c5c187670266"
      },
      "source": [
        "for epoch in range(num_epochs):\n",
        "    running_loss = 0.0\n",
        "    running_corrects = 0.0\n",
        "    running_loss_val = 0.0\n",
        "    \n",
        "    if loc_patience >= patience:\n",
        "        print(\"\\n'EarlyStopping' called!\\n\")\n",
        "        break\n",
        "    \n",
        "    \n",
        "    for batch, (images, labels) in enumerate(train_loader):\n",
        "        # Attempt to push to GPU if available\n",
        "        images = images.to(device)\n",
        "        labels = labels.to(device)\n",
        "\n",
        "        model.train()\n",
        "\n",
        "        # Forward pass-\n",
        "        outputs = model(images)\n",
        "\n",
        "        # Compute loss-\n",
        "        J = loss(outputs, labels)\n",
        "\n",
        "        # Backward pass-\n",
        "        optimizer.zero_grad()   # empty accumulated gradients\n",
        "\n",
        "        J.backward()    # does backprop\n",
        "\n",
        "        # Updates parameters-\n",
        "        optimizer.step()\n",
        "        \n",
        "        # Compute model's performance statistics-\n",
        "        running_loss += J.item() * images.size(0)\n",
        "        _, predicted = torch.max(outputs, 1)\n",
        "        running_corrects += torch.sum(predicted == labels.data)\n",
        "\n",
        "        '''\n",
        "        # Print information every 100 steps-\n",
        "        if (batch + 1) % 100 == 0:\n",
        "            print(f\"epoch {epoch + 1}/{num_epochs}, step {batch + 1}/{num_training_steps}, loss = {J.item():.4f}\")\n",
        "        '''\n",
        "\n",
        "    epoch_loss = running_loss / len(train_dataset)\n",
        "    epoch_acc = running_corrects.double() / len(train_dataset)\n",
        "    # print(f\"\\nepoch: {epoch + 1} training loss = {epoch_loss:.4f}, training accuracy = {epoch_acc * 100:.2f}%\\n\")\n",
        "\n",
        "    total = 0\n",
        "    correct = 0\n",
        "    \n",
        "    with torch.no_grad():\n",
        "        for images, labels in test_loader:\n",
        "\n",
        "            # Place features (images) and targets (labels) to GPU-\n",
        "            images = images.to(device)\n",
        "            labels = labels.to(device)\n",
        "            # print(f\"images.shape = {images.shape}, labels.shape = {labels.shape}\")\n",
        "\n",
        "            # Set model to evaluation mode-\n",
        "            model.eval()\n",
        "    \n",
        "            # Make predictions using trained model-\n",
        "            outputs = model(images)\n",
        "            _, y_pred = torch.max(outputs, 1)\n",
        "\n",
        "            # Compute validation loss-\n",
        "            J_val = loss(outputs, labels)\n",
        "\n",
        "            running_loss_val += J_val.item() * labels.size(0)\n",
        "    \n",
        "            # Total number of labels-\n",
        "            total += labels.size(0)\n",
        "\n",
        "            # Total number of correct predictions-\n",
        "            correct += (y_pred == labels).sum()\n",
        "\n",
        "    epoch_val_loss = running_loss_val / len(test_dataset)\n",
        "    val_acc = 100 * (correct / total)\n",
        "    print(f\"\\nepoch: {epoch + 1} training loss = {epoch_loss:.4f}, training accuracy = {epoch_acc * 100:.2f}%, val_loss = {epoch_val_loss:.4f} & val_accuracy = {val_acc:.2f}%\\n\")\n",
        "\n",
        "    # Code for manual Early Stopping:\n",
        "    # if np.abs(epoch_val_loss < best_val_loss) >= minimum_delta:\n",
        "    if (epoch_val_loss < best_val_loss) and np.abs(epoch_val_loss - best_val_loss) >= minimum_delta:\n",
        "        # update 'best_val_loss' variable to lowest loss encountered so far-\n",
        "        best_val_loss = epoch_val_loss\n",
        "        \n",
        "        # reset 'loc_patience' variable-\n",
        "        loc_patience = 0\n",
        "\n",
        "        print(f\"\\nSaving model with lowest val_loss = {epoch_val_loss:.4f}\")\n",
        "        \n",
        "        # Save trained model with lowest validation loss-\n",
        "        # torch.save(model.state_dict, f\"LeNet-300-100_Trained_{val_acc}.pth\")\n",
        "        torch.save(model.state_dict(), \"/content/VGG16_CIFAR10_Trained.pth\")\n",
        "\n",
        "        \n",
        "    else:  # there is no improvement in monitored metric 'val_loss'\n",
        "        loc_patience += 1  # number of epochs without any improvement\n",
        "\n",
        "\n",
        "    training_acc.append(epoch_acc * 100)\n",
        "    validation_acc.append(val_acc)\n",
        "    training_loss.append(epoch_loss)\n",
        "    validation_loss.append(epoch_val_loss)"
      ],
      "id": "affiliated-holocaust",
      "execution_count": 44,
      "outputs": [
        {
          "output_type": "stream",
          "text": [
            "\n",
            "epoch: 1 training loss = 1.4135, training accuracy = 48.09%, val_loss = 1.1372 & val_accuracy = 58.58%\n",
            "\n",
            "\n",
            "Saving model with lowest val_loss = 1.1372\n",
            "\n",
            "epoch: 2 training loss = 0.9542, training accuracy = 66.27%, val_loss = 0.9546 & val_accuracy = 67.25%\n",
            "\n",
            "\n",
            "Saving model with lowest val_loss = 0.9546\n",
            "\n",
            "epoch: 3 training loss = 0.7643, training accuracy = 73.39%, val_loss = 0.8421 & val_accuracy = 71.24%\n",
            "\n",
            "\n",
            "Saving model with lowest val_loss = 0.8421\n",
            "\n",
            "epoch: 4 training loss = 0.6591, training accuracy = 77.10%, val_loss = 0.6900 & val_accuracy = 76.66%\n",
            "\n",
            "\n",
            "Saving model with lowest val_loss = 0.6900\n",
            "\n",
            "epoch: 5 training loss = 0.5904, training accuracy = 79.55%, val_loss = 0.6690 & val_accuracy = 77.00%\n",
            "\n",
            "\n",
            "Saving model with lowest val_loss = 0.6690\n",
            "\n",
            "epoch: 6 training loss = 0.5319, training accuracy = 81.54%, val_loss = 0.5888 & val_accuracy = 80.18%\n",
            "\n",
            "\n",
            "Saving model with lowest val_loss = 0.5888\n",
            "\n",
            "epoch: 7 training loss = 0.4874, training accuracy = 83.13%, val_loss = 0.6723 & val_accuracy = 77.96%\n",
            "\n",
            "\n",
            "epoch: 8 training loss = 0.4533, training accuracy = 84.39%, val_loss = 0.5146 & val_accuracy = 82.91%\n",
            "\n",
            "\n",
            "Saving model with lowest val_loss = 0.5146\n",
            "\n",
            "epoch: 9 training loss = 0.4208, training accuracy = 85.44%, val_loss = 0.5014 & val_accuracy = 83.45%\n",
            "\n",
            "\n",
            "Saving model with lowest val_loss = 0.5014\n",
            "\n",
            "epoch: 10 training loss = 0.3922, training accuracy = 86.34%, val_loss = 0.5419 & val_accuracy = 82.14%\n",
            "\n",
            "\n",
            "epoch: 11 training loss = 0.3658, training accuracy = 87.27%, val_loss = 0.4538 & val_accuracy = 85.13%\n",
            "\n",
            "\n",
            "Saving model with lowest val_loss = 0.4538\n",
            "\n",
            "epoch: 12 training loss = 0.3496, training accuracy = 87.83%, val_loss = 0.4429 & val_accuracy = 86.14%\n",
            "\n",
            "\n",
            "Saving model with lowest val_loss = 0.4429\n",
            "\n",
            "epoch: 13 training loss = 0.3230, training accuracy = 88.87%, val_loss = 0.4716 & val_accuracy = 84.73%\n",
            "\n",
            "\n",
            "epoch: 14 training loss = 0.3101, training accuracy = 89.20%, val_loss = 0.4727 & val_accuracy = 84.92%\n",
            "\n",
            "\n",
            "epoch: 15 training loss = 0.2968, training accuracy = 89.74%, val_loss = 0.4487 & val_accuracy = 84.71%\n",
            "\n",
            "\n",
            "epoch: 16 training loss = 0.2779, training accuracy = 90.38%, val_loss = 0.5657 & val_accuracy = 82.39%\n",
            "\n",
            "\n",
            "epoch: 17 training loss = 0.2636, training accuracy = 90.81%, val_loss = 0.4316 & val_accuracy = 86.32%\n",
            "\n",
            "\n",
            "Saving model with lowest val_loss = 0.4316\n",
            "\n",
            "epoch: 18 training loss = 0.2519, training accuracy = 91.24%, val_loss = 0.4768 & val_accuracy = 84.93%\n",
            "\n",
            "\n",
            "epoch: 19 training loss = 0.2466, training accuracy = 91.40%, val_loss = 0.5104 & val_accuracy = 83.82%\n",
            "\n",
            "\n",
            "epoch: 20 training loss = 0.2356, training accuracy = 91.78%, val_loss = 0.5009 & val_accuracy = 84.27%\n",
            "\n",
            "\n",
            "epoch: 21 training loss = 0.2200, training accuracy = 92.39%, val_loss = 0.4249 & val_accuracy = 86.11%\n",
            "\n",
            "\n",
            "Saving model with lowest val_loss = 0.4249\n",
            "\n",
            "epoch: 22 training loss = 0.2100, training accuracy = 92.69%, val_loss = 0.4165 & val_accuracy = 86.97%\n",
            "\n",
            "\n",
            "Saving model with lowest val_loss = 0.4165\n",
            "\n",
            "epoch: 23 training loss = 0.2022, training accuracy = 92.85%, val_loss = 0.4439 & val_accuracy = 86.60%\n",
            "\n",
            "\n",
            "epoch: 24 training loss = 0.2007, training accuracy = 92.99%, val_loss = 0.4242 & val_accuracy = 86.63%\n",
            "\n",
            "\n",
            "epoch: 25 training loss = 0.1899, training accuracy = 93.38%, val_loss = 0.4055 & val_accuracy = 87.41%\n",
            "\n",
            "\n",
            "Saving model with lowest val_loss = 0.4055\n",
            "\n",
            "epoch: 26 training loss = 0.1816, training accuracy = 93.74%, val_loss = 0.3892 & val_accuracy = 88.20%\n",
            "\n",
            "\n",
            "Saving model with lowest val_loss = 0.3892\n",
            "\n",
            "epoch: 27 training loss = 0.1781, training accuracy = 93.82%, val_loss = 0.4207 & val_accuracy = 86.73%\n",
            "\n",
            "\n",
            "epoch: 28 training loss = 0.1666, training accuracy = 94.15%, val_loss = 0.4836 & val_accuracy = 85.73%\n",
            "\n",
            "\n",
            "epoch: 29 training loss = 0.1687, training accuracy = 94.05%, val_loss = 0.3990 & val_accuracy = 87.75%\n",
            "\n",
            "\n",
            "epoch: 30 training loss = 0.1567, training accuracy = 94.54%, val_loss = 0.3892 & val_accuracy = 87.55%\n",
            "\n",
            "\n",
            "epoch: 31 training loss = 0.1505, training accuracy = 94.74%, val_loss = 0.4409 & val_accuracy = 86.94%\n",
            "\n",
            "\n",
            "'EarlyStopping' called!\n",
            "\n"
          ],
          "name": "stdout"
        }
      ]
    },
    {
      "cell_type": "code",
      "metadata": {
        "id": "mexican-syndrome"
      },
      "source": [
        ""
      ],
      "id": "mexican-syndrome",
      "execution_count": null,
      "outputs": []
    },
    {
      "cell_type": "code",
      "metadata": {
        "colab": {
          "base_uri": "https://localhost:8080/"
        },
        "id": "least-friend",
        "outputId": "8656f519-7dca-4ccc-a9c4-930138536c6c"
      },
      "source": [
        "print(f\"\\nVGG-16 CNN training on CIFAR-10 is complete\\n\")"
      ],
      "id": "least-friend",
      "execution_count": 45,
      "outputs": [
        {
          "output_type": "stream",
          "text": [
            "\n",
            "VGG-16 CNN training on CIFAR-10 is complete\n",
            "\n"
          ],
          "name": "stdout"
        }
      ]
    },
    {
      "cell_type": "code",
      "metadata": {
        "id": "animal-technical"
      },
      "source": [
        ""
      ],
      "id": "animal-technical",
      "execution_count": 28,
      "outputs": []
    },
    {
      "cell_type": "code",
      "metadata": {
        "id": "vXcd91j0aZ2i"
      },
      "source": [
        ""
      ],
      "id": "vXcd91j0aZ2i",
      "execution_count": null,
      "outputs": []
    },
    {
      "cell_type": "code",
      "metadata": {
        "id": "hXRsH91waYA5"
      },
      "source": [
        "# Initialize ResNet-34 trained model-\n",
        "trained_model = nn.Sequential(\n",
        "    b1, b2, b3, b4, b5,\n",
        "    nn.MaxPool2d(kernel_size = 1, stride = 1),\n",
        "    nn.Flatten(),\n",
        "    nn.Linear(in_features = 512, out_features = 256),\n",
        "    nn.Linear(in_features = 256, out_features = 10))"
      ],
      "id": "hXRsH91waYA5",
      "execution_count": 47,
      "outputs": []
    },
    {
      "cell_type": "code",
      "metadata": {
        "colab": {
          "base_uri": "https://localhost:8080/"
        },
        "id": "RcXPCIbfaiWu",
        "outputId": "1ea27d09-8a28-4273-c3aa-db39cb2232bf"
      },
      "source": [
        "trained_model.load_state_dict(torch.load(\"/content/VGG16_CIFAR10_Trained.pth\"))"
      ],
      "id": "RcXPCIbfaiWu",
      "execution_count": 48,
      "outputs": [
        {
          "output_type": "execute_result",
          "data": {
            "text/plain": [
              "<All keys matched successfully>"
            ]
          },
          "metadata": {
            "tags": []
          },
          "execution_count": 48
        }
      ]
    },
    {
      "cell_type": "code",
      "metadata": {
        "id": "l-6rLnLXaq-3"
      },
      "source": [
        ""
      ],
      "id": "l-6rLnLXaq-3",
      "execution_count": null,
      "outputs": []
    },
    {
      "cell_type": "code",
      "metadata": {
        "colab": {
          "base_uri": "https://localhost:8080/"
        },
        "id": "CqWtYIyuabz9",
        "outputId": "7449fe67-ea09-45f9-8d51-1c8ec4ff227e"
      },
      "source": [
        "trained_model.to(device)"
      ],
      "id": "CqWtYIyuabz9",
      "execution_count": 49,
      "outputs": [
        {
          "output_type": "execute_result",
          "data": {
            "text/plain": [
              "Sequential(\n",
              "  (0): VGGBlock(\n",
              "    (conv1): Conv2d(3, 64, kernel_size=(3, 3), stride=(1, 1), padding=(1, 1), bias=False)\n",
              "    (conv2): Conv2d(64, 64, kernel_size=(3, 3), stride=(1, 1), padding=(1, 1), bias=False)\n",
              "    (pool): MaxPool2d(kernel_size=2, stride=2, padding=0, dilation=1, ceil_mode=False)\n",
              "    (bn1): BatchNorm2d(64, eps=1e-05, momentum=0.1, affine=True, track_running_stats=True)\n",
              "    (bn2): BatchNorm2d(64, eps=1e-05, momentum=0.1, affine=True, track_running_stats=True)\n",
              "    (bn3): BatchNorm2d(64, eps=1e-05, momentum=0.1, affine=True, track_running_stats=True)\n",
              "  )\n",
              "  (1): VGGBlock(\n",
              "    (conv1): Conv2d(64, 128, kernel_size=(3, 3), stride=(1, 1), padding=(1, 1), bias=False)\n",
              "    (conv2): Conv2d(128, 128, kernel_size=(3, 3), stride=(1, 1), padding=(1, 1), bias=False)\n",
              "    (pool): MaxPool2d(kernel_size=2, stride=2, padding=0, dilation=1, ceil_mode=False)\n",
              "    (bn1): BatchNorm2d(128, eps=1e-05, momentum=0.1, affine=True, track_running_stats=True)\n",
              "    (bn2): BatchNorm2d(128, eps=1e-05, momentum=0.1, affine=True, track_running_stats=True)\n",
              "    (bn3): BatchNorm2d(128, eps=1e-05, momentum=0.1, affine=True, track_running_stats=True)\n",
              "  )\n",
              "  (2): VGGBlock(\n",
              "    (conv1): Conv2d(128, 256, kernel_size=(3, 3), stride=(1, 1), padding=(1, 1), bias=False)\n",
              "    (conv2): Conv2d(256, 256, kernel_size=(3, 3), stride=(1, 1), padding=(1, 1), bias=False)\n",
              "    (conv3): Conv2d(256, 256, kernel_size=(3, 3), stride=(1, 1), padding=(1, 1), bias=False)\n",
              "    (pool): MaxPool2d(kernel_size=2, stride=2, padding=0, dilation=1, ceil_mode=False)\n",
              "    (bn1): BatchNorm2d(256, eps=1e-05, momentum=0.1, affine=True, track_running_stats=True)\n",
              "    (bn2): BatchNorm2d(256, eps=1e-05, momentum=0.1, affine=True, track_running_stats=True)\n",
              "    (bn3): BatchNorm2d(256, eps=1e-05, momentum=0.1, affine=True, track_running_stats=True)\n",
              "  )\n",
              "  (3): VGGBlock(\n",
              "    (conv1): Conv2d(256, 512, kernel_size=(3, 3), stride=(1, 1), padding=(1, 1), bias=False)\n",
              "    (conv2): Conv2d(512, 512, kernel_size=(3, 3), stride=(1, 1), padding=(1, 1), bias=False)\n",
              "    (conv3): Conv2d(512, 512, kernel_size=(3, 3), stride=(1, 1), padding=(1, 1), bias=False)\n",
              "    (pool): MaxPool2d(kernel_size=2, stride=2, padding=0, dilation=1, ceil_mode=False)\n",
              "    (bn1): BatchNorm2d(512, eps=1e-05, momentum=0.1, affine=True, track_running_stats=True)\n",
              "    (bn2): BatchNorm2d(512, eps=1e-05, momentum=0.1, affine=True, track_running_stats=True)\n",
              "    (bn3): BatchNorm2d(512, eps=1e-05, momentum=0.1, affine=True, track_running_stats=True)\n",
              "  )\n",
              "  (4): VGGBlock(\n",
              "    (conv1): Conv2d(512, 512, kernel_size=(3, 3), stride=(1, 1), padding=(1, 1), bias=False)\n",
              "    (conv2): Conv2d(512, 512, kernel_size=(3, 3), stride=(1, 1), padding=(1, 1), bias=False)\n",
              "    (conv3): Conv2d(512, 512, kernel_size=(3, 3), stride=(1, 1), padding=(1, 1), bias=False)\n",
              "    (pool): MaxPool2d(kernel_size=2, stride=2, padding=0, dilation=1, ceil_mode=False)\n",
              "    (bn1): BatchNorm2d(512, eps=1e-05, momentum=0.1, affine=True, track_running_stats=True)\n",
              "    (bn2): BatchNorm2d(512, eps=1e-05, momentum=0.1, affine=True, track_running_stats=True)\n",
              "    (bn3): BatchNorm2d(512, eps=1e-05, momentum=0.1, affine=True, track_running_stats=True)\n",
              "  )\n",
              "  (5): MaxPool2d(kernel_size=1, stride=1, padding=0, dilation=1, ceil_mode=False)\n",
              "  (6): Flatten(start_dim=1, end_dim=-1)\n",
              "  (7): Linear(in_features=512, out_features=256, bias=True)\n",
              "  (8): Linear(in_features=256, out_features=10, bias=True)\n",
              ")"
            ]
          },
          "metadata": {
            "tags": []
          },
          "execution_count": 49
        }
      ]
    },
    {
      "cell_type": "code",
      "metadata": {
        "id": "wmM7IJlUafWB"
      },
      "source": [
        ""
      ],
      "id": "wmM7IJlUafWB",
      "execution_count": null,
      "outputs": []
    },
    {
      "cell_type": "code",
      "metadata": {
        "id": "connected-basics"
      },
      "source": [
        "# Variables for computing model metrics-\n",
        "total = 0\n",
        "correct = 0"
      ],
      "id": "connected-basics",
      "execution_count": 50,
      "outputs": []
    },
    {
      "cell_type": "code",
      "metadata": {
        "colab": {
          "base_uri": "https://localhost:8080/"
        },
        "id": "juvenile-directive",
        "outputId": "a05cb366-d610-417d-ef99-480599872827"
      },
      "source": [
        "# Evaluate trained CNN model. We don't want these operations to be tracked in\n",
        "# the computational graph. Hence wrap these operations in-\n",
        "with torch.no_grad():\n",
        "    for images, labels in test_loader:\n",
        "\n",
        "        # Place features (images) and targets (labels) to GPU-\n",
        "        images = images.to(device)\n",
        "        labels = labels.to(device)\n",
        "        # print(f\"images.shape = {images.shape}, labels.shape = {labels.shape}\")\n",
        "\n",
        "        # Set model to evaluation mode-\n",
        "        model.eval()\n",
        "\n",
        "        # Make predictions using trained model-\n",
        "        outputs = model(images)\n",
        "        _, y_pred = torch.max(outputs, 1)\n",
        "    \n",
        "        # Total number of labels-\n",
        "        total += labels.size(0)\n",
        "\n",
        "        # Total number of correct predictions-\n",
        "        correct += (y_pred == labels).sum()\n",
        "\n",
        "    val_acc = 100 * (correct / total)\n",
        "    print(f\"VGG-16 trained CNN's validation metrics on CIFAR-10 are:\")\n",
        "    print(f\"accuracy = {val_acc:.2f}%, # of correct labels = {correct} & total # of labels = {total}\")\n"
      ],
      "id": "juvenile-directive",
      "execution_count": 52,
      "outputs": [
        {
          "output_type": "stream",
          "text": [
            "VGG-16 trained CNN's validation metrics on CIFAR-10 are:\n",
            "accuracy = 88.39%, # of correct labels = 17678 & total # of labels = 20000\n"
          ],
          "name": "stdout"
        }
      ]
    },
    {
      "cell_type": "code",
      "metadata": {
        "id": "smooth-crystal"
      },
      "source": [
        ""
      ],
      "id": "smooth-crystal",
      "execution_count": null,
      "outputs": []
    },
    {
      "cell_type": "code",
      "metadata": {
        "colab": {
          "base_uri": "https://localhost:8080/",
          "height": 504
        },
        "id": "immune-market",
        "outputId": "2de27f9c-445f-4504-bbbe-514ecc5ebd07"
      },
      "source": [
        "# Visualize training metrics-\n",
        "fig=plt.figure(figsize=(9, 7), dpi= 80, facecolor='w', edgecolor='k')\n",
        "\n",
        "plt.plot(np.asarray(training_acc), label = 'training accuracy')\n",
        "plt.plot(np.asarray(validation_acc), label = 'validation accuracy')\n",
        "\n",
        "plt.title(\"VGG-16 (CIFAR-10) - Accuracy\")\n",
        "plt.xlabel(\"number of epochs\")\n",
        "plt.ylabel(\"accuracy (%)\")\n",
        "# plt.xlim((0, 20))\n",
        "plt.legend(loc = 'best')\n",
        "plt.show()\n"
      ],
      "id": "immune-market",
      "execution_count": 53,
      "outputs": [
        {
          "output_type": "display_data",
          "data": {
            "image/png": "[encoded data removed]",
            "text/plain": [
              "<Figure size 720x560 with 1 Axes>"
            ]
          },
          "metadata": {
            "tags": []
          }
        }
      ]
    },
    {
      "cell_type": "code",
      "metadata": {
        "id": "realistic-perry"
      },
      "source": [
        ""
      ],
      "id": "realistic-perry",
      "execution_count": null,
      "outputs": []
    },
    {
      "cell_type": "code",
      "metadata": {
        "colab": {
          "base_uri": "https://localhost:8080/",
          "height": 504
        },
        "id": "contemporary-organizer",
        "outputId": "516a71a5-742f-4951-f73d-40f62ba6a498"
      },
      "source": [
        "fig=plt.figure(figsize=(9, 7), dpi= 80, facecolor='w', edgecolor='k')\n",
        "\n",
        "plt.plot(np.asarray(training_loss), label = 'training loss')\n",
        "plt.plot(np.asarray(validation_loss), label = 'validation loss')\n",
        "\n",
        "plt.title(\"VGG-16 (CIFAR-10) - Loss\")\n",
        "plt.xlabel(\"number of epochs\")\n",
        "plt.ylabel(\"loss\")\n",
        "plt.legend(loc = 'best')\n",
        "plt.show()"
      ],
      "id": "contemporary-organizer",
      "execution_count": 54,
      "outputs": [
        {
          "output_type": "display_data",
          "data": {
            "image/png": "[encoded data removed]",
            "text/plain": [
              "<Figure size 720x560 with 1 Axes>"
            ]
          },
          "metadata": {
            "tags": []
          }
        }
      ]
    },
    {
      "cell_type": "code",
      "metadata": {
        "id": "green-process"
      },
      "source": [
        ""
      ],
      "id": "green-process",
      "execution_count": null,
      "outputs": []
    },
    {
      "cell_type": "code",
      "metadata": {
        "id": "mounted-stockholm"
      },
      "source": [
        ""
      ],
      "id": "mounted-stockholm",
      "execution_count": null,
      "outputs": []
    },
    {
      "cell_type": "code",
      "metadata": {
        "id": "smoking-pathology"
      },
      "source": [
        ""
      ],
      "id": "smoking-pathology",
      "execution_count": null,
      "outputs": []
    },
    {
      "cell_type": "code",
      "metadata": {
        "id": "transparent-boulder"
      },
      "source": [
        ""
      ],
      "id": "transparent-boulder",
      "execution_count": null,
      "outputs": []
    }
  ]
}