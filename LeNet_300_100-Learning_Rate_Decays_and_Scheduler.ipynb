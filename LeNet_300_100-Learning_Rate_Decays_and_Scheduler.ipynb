{
 "cells": [
  {
   "cell_type": "markdown",
   "metadata": {},
   "source": [
    "# LeNet-300-100: Learning Rate Decay, warmup & Scheduler\n",
    "\n",
    "Experiments with LeNet-300-100 Dense neural network on MNIST dataset by using different _Learning Rate scheduler_, _decays_ and _warmup_."
   ]
  },
  {
   "cell_type": "code",
   "execution_count": 122,
   "metadata": {},
   "outputs": [],
   "source": [
    "import tensorflow as tf\n",
    "import numpy as np\n",
    "import matplotlib.pyplot as plt\n",
    "import math\n",
    "\n",
    "from tensorflow.keras.layers import AveragePooling2D, Conv2D, MaxPooling2D, ReLU\n",
    "from tensorflow.keras import models, layers, datasets\n",
    "from tensorflow.keras.layers import Dense, Flatten, Reshape, Input, InputLayer, Dropout\n",
    "from tensorflow.keras.models import Sequential, Model\n",
    "from tensorflow.keras.initializers import RandomNormal\n",
    "\n",
    "import tensorflow.keras.backend as K\n",
    "from tensorflow.keras.callbacks import LearningRateScheduler\n",
    "\n",
    "from sklearn.metrics import accuracy_score, precision_score, recall_score"
   ]
  },
  {
   "cell_type": "code",
   "execution_count": null,
   "metadata": {},
   "outputs": [],
   "source": []
  },
  {
   "cell_type": "code",
   "execution_count": null,
   "metadata": {},
   "outputs": [],
   "source": []
  },
  {
   "cell_type": "code",
   "execution_count": 2,
   "metadata": {},
   "outputs": [
    {
     "name": "stdout",
     "output_type": "stream",
     "text": [
      "TensorFlow version: 2.4.1\n"
     ]
    }
   ],
   "source": [
    "print(f\"TensorFlow version: {tf.__version__}\")"
   ]
  },
  {
   "cell_type": "code",
   "execution_count": null,
   "metadata": {},
   "outputs": [],
   "source": []
  },
  {
   "cell_type": "code",
   "execution_count": 3,
   "metadata": {},
   "outputs": [],
   "source": [
    "batch_size = 64\n",
    "num_classes = 10\n",
    "num_epochs = 100"
   ]
  },
  {
   "cell_type": "code",
   "execution_count": 4,
   "metadata": {},
   "outputs": [],
   "source": [
    "# Data preprocessing and cleadning:\n",
    "# input image dimensions\n",
    "img_rows, img_cols = 28, 28\n",
    "\n",
    "# Load MNIST dataset-\n",
    "(X_train, y_train), (X_test, y_test) = tf.keras.datasets.mnist.load_data()"
   ]
  },
  {
   "cell_type": "code",
   "execution_count": 5,
   "metadata": {},
   "outputs": [
    {
     "name": "stdout",
     "output_type": "stream",
     "text": [
      "\n",
      "'input_shape' which will be used = (28, 28, 1)\n",
      "\n"
     ]
    }
   ],
   "source": [
    "if tf.keras.backend.image_data_format() == 'channels_first':\n",
    "    X_train = X_train.reshape(X_train.shape[0], 1, img_rows, img_cols)\n",
    "    X_test = X_test.reshape(X_test.shape[0], 1, img_rows, img_cols)\n",
    "    input_shape = (1, img_rows, img_cols)\n",
    "else:\n",
    "    X_train = X_train.reshape(X_train.shape[0], img_rows, img_cols, 1)\n",
    "    X_test = X_test.reshape(X_test.shape[0], img_rows, img_cols, 1)\n",
    "    input_shape = (img_rows, img_cols, 1)\n",
    "\n",
    "print(\"\\n'input_shape' which will be used = {0}\\n\".format(input_shape))"
   ]
  },
  {
   "cell_type": "code",
   "execution_count": 6,
   "metadata": {},
   "outputs": [],
   "source": [
    "# Convert datasets to floating point types-\n",
    "X_train = X_train.astype('float32')\n",
    "X_test = X_test.astype('float32')\n",
    "\n",
    "# Normalize the training and testing datasets-\n",
    "X_train /= 255.0\n",
    "X_test /= 255.0"
   ]
  },
  {
   "cell_type": "code",
   "execution_count": 7,
   "metadata": {},
   "outputs": [],
   "source": [
    "# convert class vectors/target to binary class matrices or one-hot encoded values-\n",
    "y_train = tf.keras.utils.to_categorical(y_train, num_classes)\n",
    "y_test = tf.keras.utils.to_categorical(y_test, num_classes)"
   ]
  },
  {
   "cell_type": "code",
   "execution_count": 8,
   "metadata": {},
   "outputs": [],
   "source": [
    "# Reshape training and testing sets-\n",
    "X_train = X_train.reshape(X_train.shape[0], 784)\n",
    "X_test = X_test.reshape(X_test.shape[0], 784)"
   ]
  },
  {
   "cell_type": "code",
   "execution_count": 9,
   "metadata": {},
   "outputs": [
    {
     "name": "stdout",
     "output_type": "stream",
     "text": [
      "\n",
      "Dimensions of training and testing sets are:\n",
      "X_train.shape = (60000, 784), y_train.shape = (60000, 10)\n",
      "X_test.shape = (10000, 784), y_test.shape = (10000, 10)\n"
     ]
    }
   ],
   "source": [
    "print(\"\\nDimensions of training and testing sets are:\")\n",
    "print(\"X_train.shape = {0}, y_train.shape = {1}\".format(X_train.shape, y_train.shape))\n",
    "print(\"X_test.shape = {0}, y_test.shape = {1}\".format(X_test.shape, y_test.shape))"
   ]
  },
  {
   "cell_type": "code",
   "execution_count": null,
   "metadata": {},
   "outputs": [],
   "source": []
  },
  {
   "cell_type": "code",
   "execution_count": null,
   "metadata": {},
   "outputs": [],
   "source": []
  },
  {
   "cell_type": "markdown",
   "metadata": {},
   "source": [
    "### Prepare MNIST dataset for TensorFlow _GradientTape_ training:"
   ]
  },
  {
   "cell_type": "code",
   "execution_count": 10,
   "metadata": {},
   "outputs": [],
   "source": [
    "# Create training and testing datasets-\n",
    "train_dataset = tf.data.Dataset.from_tensor_slices((X_train, y_train))\n",
    "test_dataset = tf.data.Dataset.from_tensor_slices((X_test, y_test))"
   ]
  },
  {
   "cell_type": "code",
   "execution_count": 11,
   "metadata": {},
   "outputs": [],
   "source": [
    "train_dataset = train_dataset.shuffle(buffer_size = 20000, reshuffle_each_iteration = True).batch(batch_size = batch_size, drop_remainder = False)"
   ]
  },
  {
   "cell_type": "code",
   "execution_count": 12,
   "metadata": {},
   "outputs": [],
   "source": [
    "test_dataset = test_dataset.batch(batch_size=batch_size, drop_remainder=False)"
   ]
  },
  {
   "cell_type": "code",
   "execution_count": 13,
   "metadata": {},
   "outputs": [],
   "source": [
    "# Choose loss function for training-\n",
    "loss_fn = tf.keras.losses.CategoricalCrossentropy()\n",
    "# optimizer = tf.keras.optimizers.Adam(lr = 0.0012)"
   ]
  },
  {
   "cell_type": "code",
   "execution_count": 14,
   "metadata": {},
   "outputs": [],
   "source": [
    "# Select metrics to measure the error & accuracy of model.\n",
    "# These metrics accumulate the values over epochs and then\n",
    "# print the overall result-\n",
    "train_loss = tf.keras.metrics.Mean(name = 'train_loss')\n",
    "train_accuracy = tf.keras.metrics.CategoricalAccuracy(name = 'train_accuracy')\n",
    "\n",
    "test_loss = tf.keras.metrics.Mean(name = 'test_loss')\n",
    "test_accuracy = tf.keras.metrics.CategoricalAccuracy(name = 'test_accuracy')"
   ]
  },
  {
   "cell_type": "code",
   "execution_count": null,
   "metadata": {},
   "outputs": [],
   "source": []
  },
  {
   "cell_type": "code",
   "execution_count": null,
   "metadata": {},
   "outputs": [],
   "source": []
  },
  {
   "cell_type": "code",
   "execution_count": 15,
   "metadata": {},
   "outputs": [],
   "source": [
    "def lenet300():\n",
    "    \"\"\"\n",
    "    Define LeNet-300-100 dense neural network\n",
    "    \"\"\"\n",
    "    \n",
    "    model = Sequential()\n",
    "    \n",
    "    model.add(InputLayer(input_shape=(784, )))\n",
    "    \n",
    "    model.add(Flatten())\n",
    "    \n",
    "    model.add(\n",
    "        Dense(\n",
    "            units = 300, activation='relu',\n",
    "            kernel_initializer=tf.initializers.GlorotUniform())\n",
    "    )\n",
    "    \n",
    "    # model.add(Dropout(0.2))\n",
    "    \n",
    "    model.add(\n",
    "        Dense(\n",
    "            units = 100, activation='relu',\n",
    "            kernel_initializer=tf.initializers.GlorotUniform())\n",
    "    )\n",
    "    \n",
    "    # model.add(Dropout(0.1))\n",
    "    \n",
    "    model.add(\n",
    "        Dense(units = num_classes, activation='softmax')\n",
    "    )\n",
    "    \n",
    "    \n",
    "    return model\n"
   ]
  },
  {
   "cell_type": "code",
   "execution_count": null,
   "metadata": {},
   "outputs": [],
   "source": []
  },
  {
   "cell_type": "code",
   "execution_count": 45,
   "metadata": {},
   "outputs": [],
   "source": [
    "# Initialize a LeNet-300-100 model-\n",
    "model = lenet300()"
   ]
  },
  {
   "cell_type": "code",
   "execution_count": null,
   "metadata": {},
   "outputs": [],
   "source": []
  },
  {
   "cell_type": "markdown",
   "metadata": {},
   "source": [
    "### Constant Learning Rate:\n",
    "\n",
    "Constant learning rate is the default learning rate schedule in SGD optimizer in Keras. Momentum and decay rate are both set to zero by default. It is tricky to choose the right learning rate. By experimenting with range of learning rates in author's example, lr = 0.1 shows a relatively good performance to start with. This can serve as a baseline for us to experiment with different learning rate strategies.\n",
    "\n",
    "[Refer](https://towardsdatascience.com/learning-rate-schedules-and-adaptive-learning-rate-methods-for-deep-learning-2c8f433990d1) and [GitHub code](https://github.com/sukilau/Ziff-deep-learning/blob/master/3-CIFAR10-lrate/CIFAR10-lrate.ipynb)"
   ]
  },
  {
   "cell_type": "code",
   "execution_count": 79,
   "metadata": {},
   "outputs": [],
   "source": [
    "# Constant Learning Rate-\n",
    "optimizer = tf.keras.optimizers.SGD(lr = 0.1, momentum = 0.0, decay = 0.0, nesterov = False)"
   ]
  },
  {
   "cell_type": "code",
   "execution_count": null,
   "metadata": {},
   "outputs": [],
   "source": []
  },
  {
   "cell_type": "markdown",
   "metadata": {},
   "source": [
    "### Time-Based Decay Learning Rate:\n",
    "\n",
    "The mathematical form of time-based decay is: $lr = \\frac{lr_0}{1 + k \\cdot t}$ where\n",
    "\n",
    "- 'lr' & 'k' are hyperparameters\n",
    "- 't' is the iteration number\n",
    "\n",
    "Looking into the source code of Keras, the SGD optimizer takes 'decay' and 'lr' arguments and updates the learning rate by a decreasing factor in each epoch as follows-\n",
    "\n",
    "lr = lr * (1. / (1. + self.decay * self.iterations))"
   ]
  },
  {
   "cell_type": "code",
   "execution_count": 125,
   "metadata": {},
   "outputs": [],
   "source": [
    "# Time-Based Decay Learning Rate-\n",
    "optimizer = tf.keras.optimizers.SGD(lr = 0.1, momentum = 0.0, decay = 1e-3, nesterov = False)"
   ]
  },
  {
   "cell_type": "code",
   "execution_count": 116,
   "metadata": {},
   "outputs": [],
   "source": [
    "# Specify parameters for SGD optimizer-\n",
    "lr = 0.1\n",
    "decay = 1e-3\n",
    "iterations = 0"
   ]
  },
  {
   "cell_type": "code",
   "execution_count": 117,
   "metadata": {},
   "outputs": [],
   "source": [
    "# Python list to contain updated learning rates-\n",
    "lr_vals = [0.1]"
   ]
  },
  {
   "cell_type": "code",
   "execution_count": 118,
   "metadata": {},
   "outputs": [],
   "source": [
    "for epoch in range(20):\n",
    "    iterations += 938\n",
    "    \n",
    "    # Keras code for SGD updates the LR by a decreasing factor in each epoch-\n",
    "    lr *= (1 / (1 + decay * iterations))\n",
    "    \n",
    "    lr_vals.append(lr)"
   ]
  },
  {
   "cell_type": "code",
   "execution_count": 121,
   "metadata": {},
   "outputs": [
    {
     "data": {
      "image/png": "[encoded data removed]",
      "text/plain": [
       "<Figure size 648x504 with 1 Axes>"
      ]
     },
     "metadata": {
      "needs_background": "light"
     },
     "output_type": "display_data"
    }
   ],
   "source": [
    "# Visualize time-based decay lr-\n",
    "plt.figure(figsize = (9, 7))\n",
    "\n",
    "plt.plot(lr_vals)\n",
    "plt.title(\"Time-Based Decay Learning Rate (SGD)\")\n",
    "plt.xlim(0, 20)\n",
    "plt.show()"
   ]
  },
  {
   "cell_type": "code",
   "execution_count": null,
   "metadata": {},
   "outputs": [],
   "source": []
  },
  {
   "cell_type": "markdown",
   "metadata": {},
   "source": [
    "### SGD _momentum_:\n",
    "\n",
    "__Momentum__ is another argument in SGD optimizer which we can be tweaked to hopefully achieve faster convergence.\n",
    "\n",
    "Unlike classical SGD, _momentum_ method helps the parameter vector to build up velocity in any direction with constant gradient descent so as to prevent oscillations. A typical choice of momentum is between 0.5 to 0.9.\n",
    "\n",
    "\n",
    "### SGD _nesterov_:\n",
    "SGD optimizer also has an argument called __nesterov__ which is set to false by default. __Nesterov momentum is a different version of the momentum method which has a stronger theoretical convergence guarantees for convex functions__. _In practice, it works slightly better than the standard momentum method._"
   ]
  },
  {
   "cell_type": "code",
   "execution_count": 142,
   "metadata": {},
   "outputs": [
    {
     "name": "stdout",
     "output_type": "stream",
     "text": [
      "\n",
      "For an initial learning rate of 0.1 & number of epochs = 100, decay rate = 0.001\n",
      "\n"
     ]
    }
   ],
   "source": [
    "# In Keras, time-based decay can be implemented by setting the initial learning rate, decay rate & momentum parameters in the SGD optimizer-\n",
    "learning_rate = 0.1\n",
    "decay_rate = learning_rate / num_epochs\n",
    "momentum = 0.8\n",
    "\n",
    "print(f\"\\nFor an initial learning rate of {learning_rate} & number of epochs = {num_epochs}, decay rate = {decay_rate}\\n\")\n",
    "\n",
    "optimizer = tf.keras.optimizers.SGD(lr = learning_rate, momentum = momentum, decay = decay_rate, nesterov = False)"
   ]
  },
  {
   "cell_type": "code",
   "execution_count": null,
   "metadata": {},
   "outputs": [],
   "source": []
  },
  {
   "cell_type": "markdown",
   "metadata": {},
   "source": [
    "### Step Decay:\n",
    "\n",
    "Step decay schedule drops the learning rate by a factor every few epochs. Mathematically, step decay can be represented as:\n",
    "$lr = lr_0 \\times drop^{\\lfloor\\frac{epoch}{epochs\\, drop}\\rfloor}$\n",
    "\n",
    "Or, in code as ```lr = lr0 * drop^floor(epoch / epochs_drop)```\n",
    "\n",
    "A typical way is to to drop the learning rate by half every 10 epochs. To implement this in Keras, we can define a step decay function and use [LearningRateScheduler](https://keras.io/callbacks/#learningratescheduler) callback to take the step decay function as argument and return the updated learning rates for use in SGD optimizer."
   ]
  },
  {
   "cell_type": "code",
   "execution_count": 18,
   "metadata": {},
   "outputs": [],
   "source": [
    "def step_decay(epoch):\n",
    "    initial_lrate = 0.1\n",
    "    drop = 0.5\n",
    "    epochs_drop = 10.0\n",
    "    \n",
    "    lrate = initial_lrate * math.pow(drop, math.floor((1 + epoch) / epochs_drop))\n",
    "    \n",
    "    return lrate\n"
   ]
  },
  {
   "cell_type": "code",
   "execution_count": 21,
   "metadata": {},
   "outputs": [],
   "source": [
    "lrate = LearningRateScheduler(step_decay)"
   ]
  },
  {
   "cell_type": "markdown",
   "metadata": {},
   "source": [
    "As a digression, a [callback](https://keras.io/callbacks/#callback) is a set of functions to be applied at given stages of the training procedure. We can use callbacks to get a view on internal states and statistics of the model during training.\n",
    "\n",
    "In the following example, we create a custom callback by extending the base class ```keras.callbacks.Callback``` to record loss history and learning rate during the training procedure."
   ]
  },
  {
   "cell_type": "code",
   "execution_count": 25,
   "metadata": {},
   "outputs": [],
   "source": [
    "class LossHistory(tf.keras.callbacks.Callback):\n",
    "    '''\n",
    "    A custom callback to record loss history and learning rate\n",
    "    during model training.\n",
    "    '''\n",
    "    \n",
    "    def on_train_begin(self, logs={}):\n",
    "        self.losses = []\n",
    "        self.lr = []\n",
    " \n",
    "    def on_epoch_end(self, batch, logs={}):\n",
    "        self.losses.append(logs.get('loss'))\n",
    "        self.lr.append(step_decay(len(self.losses)))\n",
    "        "
   ]
  },
  {
   "cell_type": "code",
   "execution_count": null,
   "metadata": {},
   "outputs": [],
   "source": []
  },
  {
   "cell_type": "markdown",
   "metadata": {},
   "source": [
    "Putting everything together, we can pass a callback list consisting of ```LearningRateScheduler``` callback and our custom callback to train/fit the model. We can then visualize the learning rate schedule and the loss history by accessing ```loss_history.lr``` and ```loss_history.losses```."
   ]
  },
  {
   "cell_type": "code",
   "execution_count": 30,
   "metadata": {},
   "outputs": [],
   "source": [
    "# define SGD optimizer\n",
    "momentum = 0.5\n",
    "sgd = tf.keras.optimizers.SGD(lr = 0.0, momentum = momentum, decay = 0.0, nesterov = False) \n",
    "\n",
    "# Compile model-\n",
    "model.compile(\n",
    "    loss = tf.keras.losses.categorical_crossentropy,\n",
    "    optimizer = sgd,\n",
    "    metrics=['accuracy']\n",
    ")\n"
   ]
  },
  {
   "cell_type": "code",
   "execution_count": 31,
   "metadata": {},
   "outputs": [
    {
     "name": "stdout",
     "output_type": "stream",
     "text": [
      "Epoch 1/15\n",
      "938/938 - 6s - loss: 0.2569 - accuracy: 0.9239 - val_loss: 0.1470 - val_accuracy: 0.9556\n",
      "Epoch 2/15\n",
      "938/938 - 5s - loss: 0.1039 - accuracy: 0.9690 - val_loss: 0.1069 - val_accuracy: 0.9675\n",
      "Epoch 3/15\n",
      "938/938 - 5s - loss: 0.0698 - accuracy: 0.9785 - val_loss: 0.0852 - val_accuracy: 0.9726\n",
      "Epoch 4/15\n",
      "938/938 - 5s - loss: 0.0507 - accuracy: 0.9843 - val_loss: 0.0734 - val_accuracy: 0.9775\n",
      "Epoch 5/15\n",
      "938/938 - 5s - loss: 0.0379 - accuracy: 0.9882 - val_loss: 0.0723 - val_accuracy: 0.9778\n",
      "Epoch 6/15\n",
      "938/938 - 5s - loss: 0.0284 - accuracy: 0.9917 - val_loss: 0.0753 - val_accuracy: 0.9768\n",
      "Epoch 7/15\n",
      "938/938 - 4s - loss: 0.0214 - accuracy: 0.9934 - val_loss: 0.0670 - val_accuracy: 0.9785\n",
      "Epoch 8/15\n",
      "938/938 - 5s - loss: 0.0154 - accuracy: 0.9955 - val_loss: 0.0607 - val_accuracy: 0.9829\n",
      "Epoch 9/15\n",
      "938/938 - 5s - loss: 0.0113 - accuracy: 0.9969 - val_loss: 0.0689 - val_accuracy: 0.9796\n",
      "Epoch 10/15\n",
      "938/938 - 5s - loss: 0.0048 - accuracy: 0.9992 - val_loss: 0.0613 - val_accuracy: 0.9820\n",
      "Epoch 11/15\n",
      "938/938 - 5s - loss: 0.0031 - accuracy: 0.9998 - val_loss: 0.0605 - val_accuracy: 0.9829\n",
      "Epoch 12/15\n",
      "938/938 - 5s - loss: 0.0024 - accuracy: 0.9998 - val_loss: 0.0618 - val_accuracy: 0.9825\n",
      "Epoch 13/15\n",
      "938/938 - 5s - loss: 0.0020 - accuracy: 0.9999 - val_loss: 0.0625 - val_accuracy: 0.9824\n",
      "Epoch 14/15\n",
      "938/938 - 5s - loss: 0.0018 - accuracy: 0.9999 - val_loss: 0.0630 - val_accuracy: 0.9818\n",
      "Epoch 15/15\n",
      "938/938 - 5s - loss: 0.0016 - accuracy: 1.0000 - val_loss: 0.0636 - val_accuracy: 0.9818\n"
     ]
    }
   ],
   "source": [
    "# Custom callback to record loss history & learning rate during training-\n",
    "loss_history = LossHistory()\n",
    "\n",
    "# 'LearningRateScheduler' callback-\n",
    "lrate = LearningRateScheduler(step_decay)\n",
    "\n",
    "# callback list-\n",
    "callbacks_list = [loss_history, lrate]\n",
    "\n",
    "history_step_decay = model.fit(\n",
    "    x = X_train, y = y_train, \n",
    "    validation_data=(X_test, y_test),\n",
    "    epochs = 15, batch_size = batch_size, \n",
    "    callbacks = callbacks_list, verbose = 2)"
   ]
  },
  {
   "cell_type": "code",
   "execution_count": null,
   "metadata": {},
   "outputs": [],
   "source": []
  },
  {
   "cell_type": "code",
   "execution_count": 32,
   "metadata": {},
   "outputs": [
    {
     "data": {
      "text/plain": [
       "dict_keys(['loss', 'accuracy', 'val_loss', 'val_accuracy', 'lr'])"
      ]
     },
     "execution_count": 32,
     "metadata": {},
     "output_type": "execute_result"
    }
   ],
   "source": [
    "history_step_decay.history.keys()"
   ]
  },
  {
   "cell_type": "code",
   "execution_count": 34,
   "metadata": {},
   "outputs": [
    {
     "data": {
      "image/png": "[encoded data removed]",
      "text/plain": [
       "<Figure size 648x504 with 1 Axes>"
      ]
     },
     "metadata": {
      "needs_background": "light"
     },
     "output_type": "display_data"
    }
   ],
   "source": [
    "# Visualize learning rate decay-\n",
    "\n",
    "plt.figure(figsize = (9, 7))\n",
    "plt.plot(history_step_decay.history['lr'])\n",
    "\n",
    "plt.xlabel(\"number of epochs\")\n",
    "plt.ylabel(\"learning rate\")\n",
    "plt.title(\"LeNet-300-100: Step Decay LR\")\n",
    "plt.show()"
   ]
  },
  {
   "cell_type": "code",
   "execution_count": null,
   "metadata": {},
   "outputs": [],
   "source": []
  },
  {
   "cell_type": "markdown",
   "metadata": {},
   "source": [
    "### Step Decay: Learning Rate Schedule\n",
    "\n",
    "For MNIST, training dataset has 60K images and batch size = 64. Therefore, number of training steps in one epoch = 937.5 = 938. So, 12 epochs has 11256 training steps/iterations.\n",
    "\n",
    "According to these calculations, the learning rate schedule is as follows-\n",
    "\n",
    "1. For the first 11256 training steps (or, 12 epochs), use a learning rate of 0.1\n",
    "\n",
    "1. For the next 4690 training steps (or, 5 epochs), use a learning rate of 0.01\n",
    "\n",
    "1. For any remaing training steps, use a learning rate of 0.001\n",
    "\n",
    "For explanation of this, refer to [stack overflow answer](https://stackoverflow.com/questions/60801746/tensorflow-2-0-learning-rate-scheduler-with-tf-gradienttape), [tensorflow piecewise constant decay tutorial](https://www.tensorflow.org/api_docs/python/tf/keras/optimizers/schedules/PiecewiseConstantDecay) and [tensorflow customization](https://stackoverflow.com/questions/60801746/tensorflow-2-0-learning-rate-scheduler-with-tf-gradienttape)"
   ]
  },
  {
   "cell_type": "code",
   "execution_count": 90,
   "metadata": {},
   "outputs": [],
   "source": [
    "model = lenet300()"
   ]
  },
  {
   "cell_type": "code",
   "execution_count": 91,
   "metadata": {},
   "outputs": [],
   "source": [
    "boundaries = [11255, 15946]\n",
    "values = [0.1, 0.01, 0.001]\n",
    "\n",
    "learning_rate_fn = tf.keras.optimizers.schedules.PiecewiseConstantDecay(boundaries, values)\n",
    "\n",
    "# optimizer = tf.keras.optimizers.Adam(learning_rate=learning_rate_fn)\n",
    "# optimizer = tf.keras.optimizers.Adam(learning_rate=0.0012)\n",
    "optimizer = tf.keras.optimizers.SGD(learning_rate = learning_rate_fn, momentum = 0.9, decay = 0.0, nesterov = False) "
   ]
  },
  {
   "cell_type": "code",
   "execution_count": null,
   "metadata": {},
   "outputs": [],
   "source": []
  },
  {
   "cell_type": "code",
   "execution_count": null,
   "metadata": {},
   "outputs": [],
   "source": []
  },
  {
   "cell_type": "markdown",
   "metadata": {},
   "source": [
    "### Exponential Decay:\n",
    "\n",
    "Another common learning rate schedule is _exponential decay_. It has the mathematical form of $lr = lr_0 \\times e^{-kt}$ where 'lr' and 'k' are hyperparameters and 't' is the iteration number. It can be denoted in code as ```lr = lr0 * e^(−kt)```.\n",
    "\n",
    "Similarly, we can implement this by defining an exponential decay function and pass it to ```LearningRateScheduler```. In fact, __any custom decay schedule can be implemented in Keras using this approach__. The only difference is to define a different custom decay function.\n",
    "\n",
    "[tensorflow exponential decay reference page](https://www.tensorflow.org/api_docs/python/tf/keras/optimizers/schedules/ExponentialDecay)"
   ]
  },
  {
   "cell_type": "code",
   "execution_count": 107,
   "metadata": {},
   "outputs": [],
   "source": [
    "model = lenet300()"
   ]
  },
  {
   "cell_type": "code",
   "execution_count": 108,
   "metadata": {},
   "outputs": [],
   "source": [
    "def exp_decay(epoch):\n",
    "    initial_lrate = 0.1\n",
    "    k = 0.1\n",
    "    lrate = initial_lrate * exp(-k*t)\n",
    "    \n",
    "    return lrate\n"
   ]
  },
  {
   "cell_type": "code",
   "execution_count": 109,
   "metadata": {},
   "outputs": [],
   "source": [
    "lrate = LearningRateScheduler(exp_decay)"
   ]
  },
  {
   "cell_type": "code",
   "execution_count": 111,
   "metadata": {},
   "outputs": [],
   "source": [
    "# define SGD optimizer\n",
    "momentum = 0.8\n",
    "optimizer = tf.keras.optimizers.SGD(lr = 0.0, momentum = momentum, decay = 0.0, nesterov = False)\n",
    "\n",
    "# Compile model-\n",
    "model.compile(\n",
    "    loss = tf.keras.losses.categorical_crossentropy,\n",
    "    optimizer = sgd,\n",
    "    metrics = ['accuracy']\n",
    ")\n"
   ]
  },
  {
   "cell_type": "code",
   "execution_count": 113,
   "metadata": {},
   "outputs": [],
   "source": [
    "class LossHistory_(tf.keras.callbacks.Callback):\n",
    "    def on_train_begin(self, logs={}):\n",
    "        self.losses = []\n",
    "        self.lr = []\n",
    "        \n",
    "    def on_epoch_end(self, batch, logs={}):\n",
    "        self.losses.append(logs.get('loss'))\n",
    "        self.lr.append(exp_decay(len(self.losses)))\n",
    "        print('lr:', exp_decay(len(self.losses)))\n",
    "\n",
    "def exp_decay(epoch):\n",
    "    initial_lrate = 0.1\n",
    "    k = 0.1\n",
    "    lrate = initial_lrate * np.exp(-k*epoch)\n",
    "    return lrate\n",
    "\n",
    "# learning schedule callback\n",
    "loss_history_ = LossHistory_()\n",
    "lrate_ = LearningRateScheduler(exp_decay)\n",
    "callbacks_list_ = [loss_history_, lrate_]\n"
   ]
  },
  {
   "cell_type": "code",
   "execution_count": 114,
   "metadata": {},
   "outputs": [
    {
     "name": "stdout",
     "output_type": "stream",
     "text": [
      "Epoch 1/15\n",
      "938/938 [==============================] - 9s 9ms/step - loss: 0.4439 - accuracy: 0.8738 - val_loss: 0.1389 - val_accuracy: 0.9582\n",
      "lr: 0.09048374180359596\n",
      "Epoch 2/15\n",
      "938/938 [==============================] - 9s 9ms/step - loss: 0.1092 - accuracy: 0.9682 - val_loss: 0.0837 - val_accuracy: 0.9737\n",
      "lr: 0.0818730753077982\n",
      "Epoch 3/15\n",
      "938/938 [==============================] - 8s 9ms/step - loss: 0.0672 - accuracy: 0.9791 - val_loss: 0.0819 - val_accuracy: 0.9731\n",
      "lr: 0.0740818220681718\n",
      "Epoch 4/15\n",
      "938/938 [==============================] - 9s 9ms/step - loss: 0.0486 - accuracy: 0.9855 - val_loss: 0.0662 - val_accuracy: 0.9792\n",
      "lr: 0.06703200460356394\n",
      "Epoch 5/15\n",
      "938/938 [==============================] - 8s 8ms/step - loss: 0.0336 - accuracy: 0.9908 - val_loss: 0.0671 - val_accuracy: 0.9771\n",
      "lr: 0.06065306597126335\n",
      "Epoch 6/15\n",
      "938/938 [==============================] - 8s 9ms/step - loss: 0.0258 - accuracy: 0.9933 - val_loss: 0.0576 - val_accuracy: 0.9808\n",
      "lr: 0.05488116360940264\n",
      "Epoch 7/15\n",
      "938/938 [==============================] - 8s 9ms/step - loss: 0.0193 - accuracy: 0.9958 - val_loss: 0.0589 - val_accuracy: 0.9810\n",
      "lr: 0.04965853037914095\n",
      "Epoch 8/15\n",
      "938/938 [==============================] - 9s 9ms/step - loss: 0.0128 - accuracy: 0.9979 - val_loss: 0.0572 - val_accuracy: 0.9819\n",
      "lr: 0.044932896411722156\n",
      "Epoch 9/15\n",
      "938/938 [==============================] - 9s 10ms/step - loss: 0.0122 - accuracy: 0.9976 - val_loss: 0.0562 - val_accuracy: 0.9824\n",
      "lr: 0.04065696597405991\n",
      "Epoch 10/15\n",
      "938/938 [==============================] - 8s 9ms/step - loss: 0.0083 - accuracy: 0.9989 - val_loss: 0.0559 - val_accuracy: 0.9825\n",
      "lr: 0.036787944117144235\n",
      "Epoch 11/15\n",
      "938/938 [==============================] - 9s 9ms/step - loss: 0.0071 - accuracy: 0.9991 - val_loss: 0.0554 - val_accuracy: 0.9829\n",
      "lr: 0.03328710836980796\n",
      "Epoch 12/15\n",
      "938/938 [==============================] - 9s 10ms/step - loss: 0.0058 - accuracy: 0.9995 - val_loss: 0.0559 - val_accuracy: 0.9824\n",
      "lr: 0.030119421191220203\n",
      "Epoch 13/15\n",
      "938/938 [==============================] - 9s 10ms/step - loss: 0.0048 - accuracy: 0.9998 - val_loss: 0.0560 - val_accuracy: 0.9823\n",
      "lr: 0.02725317930340126\n",
      "Epoch 14/15\n",
      "938/938 [==============================] - 10s 10ms/step - loss: 0.0047 - accuracy: 0.9997 - val_loss: 0.0561 - val_accuracy: 0.9828\n",
      "lr: 0.024659696394160643\n",
      "Epoch 15/15\n",
      "938/938 [==============================] - 7s 7ms/step - loss: 0.0038 - accuracy: 0.9999 - val_loss: 0.0565 - val_accuracy: 0.9827\n",
      "lr: 0.022313016014842982\n"
     ]
    }
   ],
   "source": [
    "# Train model-\n",
    "history_exp_decay = model.fit(\n",
    "    x = X_train, y = y_train, \n",
    "    validation_data=(X_test, y_test), \n",
    "    epochs = 15,  batch_size = batch_size,\n",
    "    callbacks = callbacks_list_ \n",
    ")"
   ]
  },
  {
   "cell_type": "code",
   "execution_count": null,
   "metadata": {},
   "outputs": [],
   "source": []
  },
  {
   "cell_type": "code",
   "execution_count": 115,
   "metadata": {},
   "outputs": [
    {
     "data": {
      "image/png": "[encoded data removed]",
      "text/plain": [
       "<Figure size 648x504 with 1 Axes>"
      ]
     },
     "metadata": {
      "needs_background": "light"
     },
     "output_type": "display_data"
    }
   ],
   "source": [
    "# Visualize learning rate decay-\n",
    "\n",
    "plt.figure(figsize = (9, 7))\n",
    "plt.plot(history_exp_decay.history['lr'])\n",
    "\n",
    "plt.xlabel(\"number of epochs\")\n",
    "plt.ylabel(\"learning rate\")\n",
    "plt.title(\"LeNet-300-100: Exponential Decay LR\")\n",
    "plt.show()"
   ]
  },
  {
   "cell_type": "code",
   "execution_count": null,
   "metadata": {},
   "outputs": [],
   "source": []
  },
  {
   "cell_type": "code",
   "execution_count": null,
   "metadata": {},
   "outputs": [],
   "source": []
  },
  {
   "cell_type": "code",
   "execution_count": 92,
   "metadata": {},
   "outputs": [],
   "source": [
    "# Compile model-\n",
    "model.compile(\n",
    "    loss=tf.keras.losses.categorical_crossentropy,\n",
    "    # optimizer='adam',\n",
    "    # optimizer=tf.keras.optimizers.Adam(lr = 0.0012),\n",
    "    optimizer = optimizer,\n",
    "    metrics=['accuracy']\n",
    ")"
   ]
  },
  {
   "cell_type": "code",
   "execution_count": null,
   "metadata": {},
   "outputs": [],
   "source": []
  },
  {
   "cell_type": "code",
   "execution_count": 93,
   "metadata": {},
   "outputs": [
    {
     "name": "stdout",
     "output_type": "stream",
     "text": [
      "Model: \"sequential_11\"\n",
      "_________________________________________________________________\n",
      "Layer (type)                 Output Shape              Param #   \n",
      "=================================================================\n",
      "flatten_11 (Flatten)         (None, 784)               0         \n",
      "_________________________________________________________________\n",
      "dense_33 (Dense)             (None, 300)               235500    \n",
      "_________________________________________________________________\n",
      "dense_34 (Dense)             (None, 100)               30100     \n",
      "_________________________________________________________________\n",
      "dense_35 (Dense)             (None, 10)                1010      \n",
      "=================================================================\n",
      "Total params: 266,610\n",
      "Trainable params: 266,610\n",
      "Non-trainable params: 0\n",
      "_________________________________________________________________\n"
     ]
    }
   ],
   "source": [
    "# Get summary of defined neural network-\n",
    "model.summary()"
   ]
  },
  {
   "cell_type": "code",
   "execution_count": null,
   "metadata": {},
   "outputs": [],
   "source": []
  },
  {
   "cell_type": "code",
   "execution_count": 33,
   "metadata": {},
   "outputs": [
    {
     "name": "stdout",
     "output_type": "stream",
     "text": [
      "\n",
      "Number of training weights = 266610 and non-trainabel weights = 0.0\n",
      "\n",
      "Total number of parameters = 266610.0\n",
      "\n"
     ]
    }
   ],
   "source": [
    "# Counting trainable and non-trainable weights. Also counts biases.\n",
    "\n",
    "trainable_wts = np.sum([K.count_params(w) for w in model.trainable_weights])\n",
    "non_trainable_wts = np.sum([K.count_params(w) for w in model.non_trainable_weights])\n",
    "\n",
    "print(\"\\nNumber of training weights = {0} and non-trainabel weights = {1}\\n\".format(\n",
    "    trainable_wts, non_trainable_wts\n",
    "))\n",
    "print(\"Total number of parameters = {0}\\n\".format(trainable_wts + non_trainable_wts))"
   ]
  },
  {
   "cell_type": "code",
   "execution_count": null,
   "metadata": {},
   "outputs": [],
   "source": []
  },
  {
   "cell_type": "code",
   "execution_count": null,
   "metadata": {},
   "outputs": [],
   "source": []
  },
  {
   "cell_type": "code",
   "execution_count": 94,
   "metadata": {},
   "outputs": [],
   "source": [
    "# Instantiate a new neural network model & load weights for masks-\n",
    "mask_model = lenet300()\n",
    "mask_model.set_weights(model.get_weights())"
   ]
  },
  {
   "cell_type": "code",
   "execution_count": 95,
   "metadata": {},
   "outputs": [],
   "source": [
    "# For each layer, for each weight which is 0, leave it, as is.\n",
    "# And for weights which survive the pruning,reinitialize it to ONE (1)-\n",
    "# for wts in mask_model_stripped.trainable_weights:\n",
    "#    wts.assign(tf.where(tf.equal(wts, 0.), 0., 1.))\n",
    "\n",
    "# Assign each parameter to 1s-\n",
    "for wts in mask_model.trainable_weights:\n",
    "    wts.assign(tf.ones_like(wts))"
   ]
  },
  {
   "cell_type": "code",
   "execution_count": null,
   "metadata": {},
   "outputs": [],
   "source": []
  },
  {
   "cell_type": "code",
   "execution_count": 96,
   "metadata": {},
   "outputs": [
    {
     "name": "stdout",
     "output_type": "stream",
     "text": [
      "layer.shape: (784, 300) has 235200 parameters\n",
      "layer.shape: (300,) has 300 parameters\n",
      "layer.shape: (300, 100) has 30000 parameters\n",
      "layer.shape: (100,) has 100 parameters\n",
      "layer.shape: (100, 10) has 1000 parameters\n",
      "layer.shape: (10,) has 10 parameters\n",
      "\n",
      "Number of non-zero parameters in mask = 266610\n",
      "\n"
     ]
    }
   ],
   "source": [
    "# Count number of non-zero parameters in mask-\n",
    "mask_sum_params = 0\n",
    "\n",
    "for layer in mask_model.trainable_weights:\n",
    "    loc_params = tf.math.count_nonzero(layer, axis = None).numpy()\n",
    "    mask_sum_params += loc_params\n",
    "    print(f\"layer.shape: {layer.shape} has {loc_params} parameters\")\n",
    "\n",
    "print(\"\\nNumber of non-zero parameters in mask = {0}\\n\".format(mask_sum_params))"
   ]
  },
  {
   "cell_type": "code",
   "execution_count": 63,
   "metadata": {},
   "outputs": [
    {
     "name": "stdout",
     "output_type": "stream",
     "text": [
      "layer.shape: (784, 300) has 235200 parameters\n",
      "layer.shape: (300,) has 0 parameters\n",
      "layer.shape: (300, 100) has 30000 parameters\n",
      "layer.shape: (100,) has 0 parameters\n",
      "layer.shape: (100, 10) has 1000 parameters\n",
      "layer.shape: (10,) has 0 parameters\n",
      "\n",
      "Number of non-zero parameters in model = 266200\n",
      "\n"
     ]
    }
   ],
   "source": [
    "# Count number of non-zero parameters in model-\n",
    "orig_params = 0\n",
    "\n",
    "for layer in model.trainable_weights:\n",
    "    loc_params = tf.math.count_nonzero(layer, axis = None).numpy()\n",
    "    orig_params += loc_params\n",
    "    print(f\"layer.shape: {layer.shape} has {loc_params} parameters\")\n",
    "\n",
    "print(\"\\nNumber of non-zero parameters in model = {0}\\n\".format(orig_params))"
   ]
  },
  {
   "cell_type": "code",
   "execution_count": null,
   "metadata": {},
   "outputs": [],
   "source": []
  },
  {
   "cell_type": "code",
   "execution_count": null,
   "metadata": {},
   "outputs": [],
   "source": []
  },
  {
   "cell_type": "code",
   "execution_count": 84,
   "metadata": {},
   "outputs": [],
   "source": [
    "def count_nonzero_params(model):\n",
    "    model_sum_params = 0\n",
    "    \n",
    "    for layer in model.trainable_weights:\n",
    "        loc_params = tf.math.count_nonzero(layer, axis = None).numpy()\n",
    "        model_sum_params += loc_params\n",
    "        \n",
    "    return model_sum_params\n"
   ]
  },
  {
   "cell_type": "code",
   "execution_count": 65,
   "metadata": {},
   "outputs": [
    {
     "data": {
      "text/plain": [
       "266200"
      ]
     },
     "execution_count": 65,
     "metadata": {},
     "output_type": "execute_result"
    }
   ],
   "source": [
    "# Sanity check-\n",
    "count_nonzero_params(model)"
   ]
  },
  {
   "cell_type": "code",
   "execution_count": null,
   "metadata": {},
   "outputs": [],
   "source": []
  },
  {
   "cell_type": "code",
   "execution_count": null,
   "metadata": {},
   "outputs": [],
   "source": []
  },
  {
   "cell_type": "code",
   "execution_count": null,
   "metadata": {},
   "outputs": [],
   "source": []
  },
  {
   "cell_type": "code",
   "execution_count": null,
   "metadata": {},
   "outputs": [],
   "source": []
  },
  {
   "cell_type": "markdown",
   "metadata": {},
   "source": [
    "## Learning rate warmup:\n",
    "\n",
    "Using a large learning rate may result in numerical instability especially at the very beginning of training where parameters are randomly initialized. The warmup strategy increases the learning rate from 0 to the initial learning rate linearly during the initial __N__ epochs or __m__ batches.\n",
    "\n",
    "Even though Keras already came with the [LearningRateScheduler](https://keras.io/callbacks/#learningratescheduler) capable of updating the learning rate for each training epoch, in order to achieve finer updates for each batch, the following code is _how you can implement a custom Keras callback to do that_.\n",
    "\n",
    "\n",
    "[reference](https://www.dlology.com/blog/bag-of-tricks-for-image-classification-with-convolutional-neural-networks-in-keras/)"
   ]
  },
  {
   "cell_type": "code",
   "execution_count": 127,
   "metadata": {},
   "outputs": [],
   "source": [
    "model = lenet300()"
   ]
  },
  {
   "cell_type": "code",
   "execution_count": 131,
   "metadata": {},
   "outputs": [],
   "source": [
    "# Compile model-\n",
    "model.compile(\n",
    "    loss = tf.keras.losses.categorical_crossentropy,\n",
    "    optimizer = tf.keras.optimizers.SGD(lr = 0.1, momentum = 0.8, decay = 0.0, nesterov = False),\n",
    "    metrics=['accuracy']\n",
    ")"
   ]
  },
  {
   "cell_type": "code",
   "execution_count": null,
   "metadata": {},
   "outputs": [],
   "source": []
  },
  {
   "cell_type": "code",
   "execution_count": 132,
   "metadata": {},
   "outputs": [],
   "source": [
    "class WarmUpLearningRateScheduler(tf.keras.callbacks.Callback):\n",
    "    \"\"\"\n",
    "    Warmup learning rate scheduler\n",
    "    \"\"\"\n",
    "    def __init__(self, warmup_batches, init_lr, verbose = 0):\n",
    "        \"\"\"\n",
    "        Constructor for warmup learning rate scheduler\n",
    "\n",
    "        Arguments:\n",
    "            1.) warmup_batches {int} -- Number of batches/steps for warmup.\n",
    "            2.) init_lr {float} -- Learning rate after warmup.\n",
    "\n",
    "        Keyword Arguments:\n",
    "            verbose {int} -- 0: quiet, 1: update messages. (default: {0})\n",
    "        \"\"\"\n",
    "\n",
    "        super(WarmUpLearningRateScheduler, self).__init__()\n",
    "        self.warmup_batches = warmup_batches\n",
    "        self.init_lr = init_lr\n",
    "        self.verbose = verbose\n",
    "        self.batch_count = 0\n",
    "        self.learning_rates = []\n",
    "\n",
    "        \n",
    "    def on_batch_end(self, batch, logs = None):\n",
    "        self.batch_count = self.batch_count + 1\n",
    "        lr = K.get_value(self.model.optimizer.lr)\n",
    "        self.learning_rates.append(lr)\n",
    "        \n",
    "        return None\n",
    "\n",
    "    \n",
    "    def on_batch_begin(self, batch, logs = None):\n",
    "        if self.batch_count <= self.warmup_batches:\n",
    "            lr = self.batch_count*self.init_lr/self.warmup_batches\n",
    "            K.set_value(self.model.optimizer.lr, lr)\n",
    "            \n",
    "            if self.verbose > 0:\n",
    "                print(f\"batch = {self.batch_count + 1}: WarmUpLearningRateScheduler setting learning rate to {lr:.6f}\")\n",
    "                \"\"\"\n",
    "                print('\\nBatch %05d: WarmUpLearningRateScheduler setting learning '\n",
    "                      'rate to %s.' % (self.batch_count + 1, lr))\n",
    "                \"\"\"\n",
    "        \n",
    "        return None\n",
    "    \n"
   ]
  },
  {
   "cell_type": "code",
   "execution_count": null,
   "metadata": {},
   "outputs": [],
   "source": []
  },
  {
   "cell_type": "code",
   "execution_count": 133,
   "metadata": {},
   "outputs": [
    {
     "name": "stdout",
     "output_type": "stream",
     "text": [
      "number of warmup epochs = 5 & number of warmup batches = 4687.5\n"
     ]
    }
   ],
   "source": [
    "# Number of warmup epochs-\n",
    "warmup_epoch = 5\n",
    "\n",
    "# Compute the number of warmup batches-\n",
    "warmup_batches = warmup_epoch * X_train.shape[0] / batch_size\n",
    "\n",
    "print(f\"number of warmup epochs = {warmup_epoch} & number of warmup batches = {warmup_batches}\")"
   ]
  },
  {
   "cell_type": "code",
   "execution_count": 134,
   "metadata": {},
   "outputs": [],
   "source": [
    "# Create the Learning rate scheduler.\n",
    "warm_up_lr = WarmUpLearningRateScheduler(warmup_batches, init_lr = 0.01)\n",
    "\n",
    "# init_lr -> learning rate AFTER warmup"
   ]
  },
  {
   "cell_type": "code",
   "execution_count": 136,
   "metadata": {},
   "outputs": [
    {
     "name": "stdout",
     "output_type": "stream",
     "text": [
      "Epoch 1/15\n",
      "938/938 [==============================] - 9s 9ms/step - loss: 2.0449 - accuracy: 0.3135 - val_loss: 0.5604 - val_accuracy: 0.8665\n",
      "Epoch 2/15\n",
      "938/938 [==============================] - 8s 9ms/step - loss: 0.4727 - accuracy: 0.8773 - val_loss: 0.2990 - val_accuracy: 0.9172\n",
      "Epoch 3/15\n",
      "938/938 [==============================] - 9s 9ms/step - loss: 0.2985 - accuracy: 0.9157 - val_loss: 0.2333 - val_accuracy: 0.9321\n",
      "Epoch 4/15\n",
      "938/938 [==============================] - 9s 9ms/step - loss: 0.2218 - accuracy: 0.9368 - val_loss: 0.1830 - val_accuracy: 0.9461\n",
      "Epoch 5/15\n",
      "938/938 [==============================] - 9s 10ms/step - loss: 0.1723 - accuracy: 0.9501 - val_loss: 0.1471 - val_accuracy: 0.9560\n",
      "Epoch 6/15\n",
      "938/938 [==============================] - 8s 9ms/step - loss: 0.1313 - accuracy: 0.9626 - val_loss: 0.1242 - val_accuracy: 0.9620\n",
      "Epoch 7/15\n",
      "938/938 [==============================] - 9s 9ms/step - loss: 0.1097 - accuracy: 0.9678 - val_loss: 0.1064 - val_accuracy: 0.9676\n",
      "Epoch 8/15\n",
      "938/938 [==============================] - 9s 9ms/step - loss: 0.0875 - accuracy: 0.9745 - val_loss: 0.1026 - val_accuracy: 0.9689\n",
      "Epoch 9/15\n",
      "938/938 [==============================] - 8s 8ms/step - loss: 0.0765 - accuracy: 0.9796 - val_loss: 0.0862 - val_accuracy: 0.9732\n",
      "Epoch 10/15\n",
      "938/938 [==============================] - 10s 11ms/step - loss: 0.0650 - accuracy: 0.9814 - val_loss: 0.0830 - val_accuracy: 0.9744\n",
      "Epoch 11/15\n",
      "938/938 [==============================] - 7s 8ms/step - loss: 0.0555 - accuracy: 0.9843 - val_loss: 0.0750 - val_accuracy: 0.9768\n",
      "Epoch 12/15\n",
      "938/938 [==============================] - 10s 11ms/step - loss: 0.0472 - accuracy: 0.9863 - val_loss: 0.0749 - val_accuracy: 0.9768\n",
      "Epoch 13/15\n",
      "938/938 [==============================] - 11s 11ms/step - loss: 0.0410 - accuracy: 0.9890 - val_loss: 0.0715 - val_accuracy: 0.9771\n",
      "Epoch 14/15\n",
      "938/938 [==============================] - 7s 8ms/step - loss: 0.0364 - accuracy: 0.9905 - val_loss: 0.0682 - val_accuracy: 0.9782\n",
      "Epoch 15/15\n",
      "938/938 [==============================] - 9s 10ms/step - loss: 0.0327 - accuracy: 0.9915 - val_loss: 0.0674 - val_accuracy: 0.9788\n"
     ]
    }
   ],
   "source": [
    "history_lr_warmup = model.fit(\n",
    "    x = X_train, y = y_train,\n",
    "    epochs = 15, batch_size = batch_size,\n",
    "    validation_data = (X_test, y_test),\n",
    "    callbacks = [warm_up_lr]\n",
    ")"
   ]
  },
  {
   "cell_type": "code",
   "execution_count": null,
   "metadata": {},
   "outputs": [],
   "source": []
  },
  {
   "cell_type": "code",
   "execution_count": 138,
   "metadata": {},
   "outputs": [
    {
     "data": {
      "text/plain": [
       "dict_keys(['loss', 'accuracy', 'val_loss', 'val_accuracy'])"
      ]
     },
     "execution_count": 138,
     "metadata": {},
     "output_type": "execute_result"
    }
   ],
   "source": [
    "history_lr_warmup.history.keys()"
   ]
  },
  {
   "cell_type": "code",
   "execution_count": null,
   "metadata": {},
   "outputs": [],
   "source": []
  },
  {
   "cell_type": "code",
   "execution_count": 141,
   "metadata": {},
   "outputs": [
    {
     "data": {
      "image/png": "[encoded data removed]",
      "text/plain": [
       "<Figure size 648x504 with 1 Axes>"
      ]
     },
     "metadata": {
      "needs_background": "light"
     },
     "output_type": "display_data"
    }
   ],
   "source": [
    "# Visualize learning rate warmup-\n",
    "\n",
    "plt.figure(figsize = (9, 7))\n",
    "plt.plot(warm_up_lr.learning_rates)\n",
    "\n",
    "plt.xlabel(\"number of epochs\")\n",
    "plt.ylabel(\"learning rate\")\n",
    "plt.title(\"LeNet-300-100: Learning Rate Warmup\")\n",
    "plt.show()"
   ]
  },
  {
   "cell_type": "code",
   "execution_count": null,
   "metadata": {},
   "outputs": [],
   "source": []
  },
  {
   "cell_type": "code",
   "execution_count": null,
   "metadata": {},
   "outputs": [],
   "source": []
  },
  {
   "cell_type": "code",
   "execution_count": null,
   "metadata": {},
   "outputs": [],
   "source": []
  },
  {
   "cell_type": "code",
   "execution_count": null,
   "metadata": {},
   "outputs": [],
   "source": []
  },
  {
   "cell_type": "markdown",
   "metadata": {},
   "source": [
    "### Train LeNet-300-100 model:"
   ]
  },
  {
   "cell_type": "code",
   "execution_count": 97,
   "metadata": {},
   "outputs": [],
   "source": [
    "# User input parameters for Early Stopping in manual implementation-\n",
    "minimum_delta = 0.001\n",
    "patience = 15"
   ]
  },
  {
   "cell_type": "code",
   "execution_count": 98,
   "metadata": {},
   "outputs": [],
   "source": [
    "best_val_loss = 100\n",
    "loc_patience = 0"
   ]
  },
  {
   "cell_type": "code",
   "execution_count": null,
   "metadata": {},
   "outputs": [],
   "source": []
  },
  {
   "cell_type": "code",
   "execution_count": 150,
   "metadata": {},
   "outputs": [],
   "source": [
    "@tf.function\n",
    "def train_one_step(model, mask_model, optimizer, x, y):\n",
    "    '''\n",
    "    Function to compute one step of gradient descent optimization\n",
    "    '''\n",
    "    with tf.GradientTape() as tape:\n",
    "        # Make predictions using defined model-\n",
    "        y_pred = model(x)\n",
    "\n",
    "        # Compute loss-\n",
    "        loss = loss_fn(y, y_pred)\n",
    "            \n",
    "    # Compute gradients wrt defined loss and weights and biases-\n",
    "    grads = tape.gradient(loss, model.trainable_variables)\n",
    "    \n",
    "    # type(grads)\n",
    "    # list\n",
    "\n",
    "    # List to hold element-wise multiplication between-\n",
    "    # computed gradient and masks-\n",
    "    grad_mask_mul = []\n",
    "    \n",
    "    # Perform element-wise multiplication between computed gradients and masks-\n",
    "    for grad_layer, mask in zip(grads, mask_model.trainable_weights):\n",
    "        grad_mask_mul.append(tf.math.multiply(grad_layer, mask))\n",
    "    \n",
    "    # Apply computed gradients to model's weights and biases-\n",
    "    optimizer.apply_gradients(zip(grad_mask_mul, model.trainable_variables))\n",
    "\n",
    "    # Compute accuracy-\n",
    "    train_loss(loss)\n",
    "    train_accuracy(y, y_pred)\n",
    "\n",
    "    return None\n",
    "    \n",
    "    \n",
    "@tf.function\n",
    "def test_step(model, optimizer, data, labels):\n",
    "    \"\"\"\n",
    "    Function to test model performance\n",
    "    on testing dataset\n",
    "    \"\"\"\n",
    "    \n",
    "    predictions = model(data)\n",
    "    t_loss = loss_fn(labels, predictions)\n",
    "\n",
    "    test_loss(t_loss)\n",
    "    test_accuracy(labels, predictions)\n",
    "\n",
    "    return None\n"
   ]
  },
  {
   "cell_type": "code",
   "execution_count": null,
   "metadata": {},
   "outputs": [],
   "source": []
  },
  {
   "cell_type": "code",
   "execution_count": 151,
   "metadata": {},
   "outputs": [],
   "source": [
    "# Python3 dict to contain training metrics for Constant Learning Rate-\n",
    "# history_constant_lr = {}\n",
    "\n",
    "# Python3 dict to contain training metrics for Time-Based Decay Learning Rate-\n",
    "# history_time_decay_lr = {}\n",
    "\n",
    "# Python3 dict to contain training metrics for Step Decay Learning Rate-\n",
    "# history_step_decay_lr = {}\n",
    "\n",
    "# Python3 dict to contain training metrics for Learning Rate Warmpup and Step Decay-\n",
    "history_warmup_and_decay_lr = {}"
   ]
  },
  {
   "cell_type": "code",
   "execution_count": null,
   "metadata": {},
   "outputs": [],
   "source": []
  },
  {
   "cell_type": "code",
   "execution_count": null,
   "metadata": {},
   "outputs": [],
   "source": []
  },
  {
   "cell_type": "markdown",
   "metadata": {},
   "source": [
    "### To get the optimizer's current learning rate:\n",
    "\n",
    "- If you directly extract the learning rate from the optimizer by using ```optimizer.lr``` or ```optimizer.learning_rate.numpy()```, it always shows the initial learning rate rather than the updated/decayed learning rate. Also, if you use a custom training loop, you cannot use callback!\n",
    "\n",
    "- __The correct solution is to use:__\n",
    "\n",
    "```optimizer._decayed_lr('float32').numpy()```\n",
    "\n",
    "```print(optimizer._decayed_lr('float32').numpy())```\n",
    "\n",
    "[GitHub answer URL](https://github.com/tensorflow/tensorflow/issues/39782)"
   ]
  },
  {
   "cell_type": "code",
   "execution_count": null,
   "metadata": {},
   "outputs": [],
   "source": []
  },
  {
   "cell_type": "code",
   "execution_count": null,
   "metadata": {},
   "outputs": [],
   "source": [
    "# Train model using 'GradientTape'-    \n",
    "for epoch in range(num_epochs):\n",
    "    \n",
    "    if loc_patience >= patience:\n",
    "        print(\"\\n'EarlyStopping' called!\\n\")\n",
    "        break\n",
    "        \n",
    "    # Reset the metrics at the start of the next epoch\n",
    "    train_loss.reset_states()\n",
    "    train_accuracy.reset_states()\n",
    "    test_loss.reset_states()\n",
    "    test_accuracy.reset_states()\n",
    "        \n",
    "        \n",
    "    for x, y in train_dataset:\n",
    "        train_one_step(model, mask_model, optimizer, x, y)\n",
    "\n",
    "    for x_t, y_t in test_dataset:\n",
    "        test_step(model, optimizer, x_t, y_t)\n",
    "\n",
    "    \n",
    "    # template = 'Epoch {0}, Loss: {1:.4f}, Accuracy: {2:.4f}, Test Loss: {3:.4f}, Test Accuracy: {4:4f}'\n",
    "    # print(\"\\nCurrent step value: {0}, LR: {1:.6f}\\n\".format(optimizer.iterations.numpy(), optimizer.learning_rate(optimizer.iterations)))\n",
    "    template = '\\nEpoch {0}, Loss: {1:.4f}, Accuracy: {2:.4f}, Test Loss: {3:.4f}, Test Accuracy: {4:4f}, LR: {5:.6f}, Current step value: {6}'\n",
    "\n",
    "    \n",
    "    print(template.format(epoch + 1, \n",
    "                          train_loss.result(), train_accuracy.result()*100,\n",
    "                          test_loss.result(), test_accuracy.result()*100,\n",
    "                          # optimizer.learning_rate.numpy()\n",
    "                          optimizer._decayed_lr('float32').numpy(),\n",
    "                          optimizer.iterations.numpy()\n",
    "                         )\n",
    "         )\n",
    "    \n",
    "    # history_constant_lr[epoch + 1]\n",
    "    history_step_decay_lr[epoch + 1] = {'loss': train_loss.result(), 'acc': train_accuracy.result() * 100, 'val_loss': test_loss.result(),\n",
    "                                      'val_acc': test_accuracy.result() * 100, 'lr': optimizer._decayed_lr('float32').numpy(),\n",
    "                                      'step_val': optimizer.iterations.numpy()\n",
    "                                     }\n",
    "    \n",
    "    print(f\"Total number of trainable parameters = {count_nonzero_params(model)}\")\n",
    "\n",
    "    # Code for manual Early Stopping:\n",
    "    if (test_loss.result() < best_val_loss) and (np.abs(test_loss.result() - best_val_loss) >= minimum_delta):\n",
    "        # update 'best_val_loss' variable to lowest loss encountered so far-\n",
    "        best_val_loss = test_loss.result()\n",
    "        \n",
    "        # reset 'loc_patience' variable-\n",
    "        loc_patience = 0\n",
    "        \n",
    "        print(f\"Saving model with lowest val_loss = {test_loss.result()}\\n\")\n",
    "        model.save_weights(\"LeNet300_best_val_loss.h5\", overwrite = True)\n",
    "        \n",
    "    else:  # there is no improvement in monitored metric 'val_loss'\n",
    "        loc_patience += 1  # number of epochs without any improvement\n",
    "\n",
    "    "
   ]
  },
  {
   "cell_type": "code",
   "execution_count": null,
   "metadata": {},
   "outputs": [],
   "source": []
  },
  {
   "cell_type": "code",
   "execution_count": null,
   "metadata": {},
   "outputs": [],
   "source": []
  },
  {
   "cell_type": "code",
   "execution_count": null,
   "metadata": {},
   "outputs": [],
   "source": []
  },
  {
   "cell_type": "code",
   "execution_count": null,
   "metadata": {},
   "outputs": [],
   "source": []
  },
  {
   "cell_type": "markdown",
   "metadata": {},
   "source": [
    "### Using learning rate _warmup_ and _step-decay_ with TensorFlow2:\n",
    "\n",
    "[Warmup code](https://huggingface.co/transformers/_modules/transformers/optimization_tf.html#WarmUp) & [StackOverflow answer](https://stackoverflow.com/questions/63213252/using-learning-rate-schedule-and-learning-rate-warmup-with-tensorflow2). Also have a look into [GitHub](https://github.com/tensorflow/addons/issues/2086)"
   ]
  },
  {
   "cell_type": "code",
   "execution_count": 143,
   "metadata": {},
   "outputs": [],
   "source": [
    "from typing import Callable, List, Optional, Union"
   ]
  },
  {
   "cell_type": "code",
   "execution_count": 144,
   "metadata": {},
   "outputs": [],
   "source": [
    "class WarmUp(tf.keras.optimizers.schedules.LearningRateSchedule):\n",
    "    \"\"\"\n",
    "    Applies a warmup schedule on a given learning rate decay schedule.\n",
    "\n",
    "    Args:\n",
    "        initial_learning_rate (:obj:`float`):\n",
    "            The initial learning rate for the schedule after the warmup (so this will be the learning rate at the end\n",
    "            of the warmup).\n",
    "            \n",
    "        decay_schedule_fn (:obj:`Callable`):\n",
    "            The schedule function to apply after the warmup for the rest of training.\n",
    "        \n",
    "        warmup_steps (:obj:`int`):\n",
    "            The number of steps for the warmup part of training.\n",
    "        \n",
    "        power (:obj:`float`, `optional`, defaults to 1):\n",
    "            The power to use for the polynomial warmup (defaults is a linear warmup).\n",
    "        \n",
    "        name (:obj:`str`, `optional`):\n",
    "            Optional name prefix for the returned tensors during the schedule.\n",
    "    \"\"\"\n",
    "\n",
    "    def __init__(\n",
    "        self,\n",
    "        initial_learning_rate: float,\n",
    "        decay_schedule_fn: Callable,\n",
    "        warmup_steps: int,\n",
    "        power: float = 1.0,\n",
    "        name: str = None,\n",
    "    ):\n",
    "        super().__init__()\n",
    "        self.initial_learning_rate = initial_learning_rate\n",
    "        self.warmup_steps = warmup_steps\n",
    "        self.power = power\n",
    "        self.decay_schedule_fn = decay_schedule_fn\n",
    "        self.name = name\n",
    "\n",
    "    def __call__(self, step):\n",
    "        with tf.name_scope(self.name or \"WarmUp\") as name:\n",
    "            # Implements polynomial warmup. i.e., if global_step < warmup_steps, the\n",
    "            # learning rate will be `global_step/num_warmup_steps * init_lr`.\n",
    "            global_step_float = tf.cast(step, tf.float32)\n",
    "            warmup_steps_float = tf.cast(self.warmup_steps, tf.float32)\n",
    "            warmup_percent_done = global_step_float / warmup_steps_float\n",
    "            warmup_learning_rate = self.initial_learning_rate * tf.math.pow(warmup_percent_done, self.power)\n",
    "            return tf.cond(\n",
    "                global_step_float < warmup_steps_float,\n",
    "                lambda: warmup_learning_rate,\n",
    "                lambda: self.decay_schedule_fn(step - self.warmup_steps),\n",
    "                name=name,\n",
    "            )\n",
    "\n",
    "    def get_config(self):\n",
    "        return {\n",
    "            \"initial_learning_rate\": self.initial_learning_rate,\n",
    "            \"decay_schedule_fn\": self.decay_schedule_fn,\n",
    "            \"warmup_steps\": self.warmup_steps,\n",
    "            \"power\": self.power,\n",
    "            \"name\": self.name,\n",
    "        }\n",
    "    \n",
    "    "
   ]
  },
  {
   "cell_type": "code",
   "execution_count": null,
   "metadata": {},
   "outputs": [],
   "source": []
  },
  {
   "cell_type": "markdown",
   "metadata": {},
   "source": [
    "### Step decay learning rate \"after\" learning rate warmup:\n",
    "\n",
    "__After 10 epochs or 9380 training steps__:\n",
    "\n",
    "- for the next 11256 training steps or 12 epochs, use the learning rate = 0.1\n",
    "\n",
    "- for the next 4690 training steps or 5 epochs, use the learning rate = 0.01\n",
    "\n",
    "- for any remaining training steps, use the learning rate = 0.001\n",
    "\n",
    "```\n",
    "boundaries = [11255, 15946]\n",
    "values = [0.1, 0.01, 0.001]\n",
    "\n",
    "learning_rate_fn = tf.keras.optimizers.schedules.PiecewiseConstantDecay(boundaries, values)\n",
    "```\n"
   ]
  },
  {
   "cell_type": "code",
   "execution_count": 146,
   "metadata": {},
   "outputs": [],
   "source": [
    "warmup_shcedule = WarmUp(initial_learning_rate = 0.1, decay_schedule_fn = learning_rate_fn, warmup_steps = 9380)"
   ]
  },
  {
   "cell_type": "code",
   "execution_count": 147,
   "metadata": {},
   "outputs": [],
   "source": [
    "optimizer = tf.keras.optimizers.SGD(learning_rate = warmup_shcedule, momentum = 0.9, decay = 0.0, nesterov = False)"
   ]
  },
  {
   "cell_type": "code",
   "execution_count": null,
   "metadata": {},
   "outputs": [],
   "source": []
  },
  {
   "cell_type": "code",
   "execution_count": 148,
   "metadata": {},
   "outputs": [],
   "source": [
    "# Initialize a new model-\n",
    "model = lenet300()"
   ]
  },
  {
   "cell_type": "code",
   "execution_count": 149,
   "metadata": {},
   "outputs": [],
   "source": [
    "# Compile model-\n",
    "model.compile(\n",
    "    loss = tf.keras.losses.categorical_crossentropy,\n",
    "    optimizer = optimizer,\n",
    "    metrics=['accuracy']\n",
    ")"
   ]
  },
  {
   "cell_type": "code",
   "execution_count": null,
   "metadata": {},
   "outputs": [],
   "source": []
  },
  {
   "cell_type": "code",
   "execution_count": null,
   "metadata": {},
   "outputs": [],
   "source": []
  },
  {
   "cell_type": "markdown",
   "metadata": {},
   "source": [
    "### Training loop for _Warmup schedule_ and _Step Decay_ of learning rate:"
   ]
  },
  {
   "cell_type": "code",
   "execution_count": 153,
   "metadata": {},
   "outputs": [],
   "source": [
    "best_val_loss = 100"
   ]
  },
  {
   "cell_type": "code",
   "execution_count": 154,
   "metadata": {},
   "outputs": [
    {
     "name": "stdout",
     "output_type": "stream",
     "text": [
      "\n",
      "Epoch 1, Loss: 0.7202, Accuracy: 79.7267, Test Loss: 0.2451, Test Accuracy: 92.760002, LR: 0.010000, Current step value: 938\n",
      "Total number of trainable parameters = 266610\n",
      "Saving model with lowest val_loss = 0.2451491802930832\n",
      "\n",
      "\n",
      "Epoch 2, Loss: 0.1830, Accuracy: 94.5833, Test Loss: 0.1263, Test Accuracy: 96.160004, LR: 0.020000, Current step value: 1876\n",
      "Total number of trainable parameters = 266610\n",
      "Saving model with lowest val_loss = 0.12634992599487305\n",
      "\n",
      "\n",
      "Epoch 3, Loss: 0.1132, Accuracy: 96.5233, Test Loss: 0.1018, Test Accuracy: 96.979996, LR: 0.030000, Current step value: 2814\n",
      "Total number of trainable parameters = 266610\n",
      "Saving model with lowest val_loss = 0.10179414600133896\n",
      "\n",
      "\n",
      "Epoch 4, Loss: 0.0858, Accuracy: 97.3167, Test Loss: 0.1043, Test Accuracy: 96.820000, LR: 0.040000, Current step value: 3752\n",
      "Total number of trainable parameters = 266610\n",
      "Saving model with lowest val_loss = 0.10429243743419647\n",
      "\n",
      "\n",
      "Epoch 5, Loss: 0.0748, Accuracy: 97.5950, Test Loss: 0.0965, Test Accuracy: 97.000000, LR: 0.050000, Current step value: 4690\n",
      "Total number of trainable parameters = 266610\n",
      "Saving model with lowest val_loss = 0.09649089723825455\n",
      "\n",
      "\n",
      "Epoch 6, Loss: 0.0672, Accuracy: 97.8500, Test Loss: 0.0983, Test Accuracy: 97.119995, LR: 0.060000, Current step value: 5628\n",
      "Total number of trainable parameters = 266610\n",
      "Saving model with lowest val_loss = 0.0982741191983223\n",
      "\n",
      "\n",
      "Epoch 7, Loss: 0.0600, Accuracy: 98.0533, Test Loss: 0.0891, Test Accuracy: 97.419998, LR: 0.070000, Current step value: 6566\n",
      "Total number of trainable parameters = 266610\n",
      "Saving model with lowest val_loss = 0.08913161605596542\n",
      "\n",
      "\n",
      "Epoch 8, Loss: 0.0634, Accuracy: 98.0133, Test Loss: 0.0929, Test Accuracy: 97.459999, LR: 0.080000, Current step value: 7504\n",
      "Total number of trainable parameters = 266610\n",
      "Saving model with lowest val_loss = 0.09290744364261627\n",
      "\n",
      "\n",
      "Epoch 9, Loss: 0.0615, Accuracy: 98.0867, Test Loss: 0.1207, Test Accuracy: 96.930000, LR: 0.090000, Current step value: 8442\n",
      "Total number of trainable parameters = 266610\n",
      "Saving model with lowest val_loss = 0.12073570489883423\n",
      "\n",
      "\n",
      "Epoch 10, Loss: 0.0637, Accuracy: 98.0817, Test Loss: 0.1100, Test Accuracy: 96.709999, LR: 0.100000, Current step value: 9380\n",
      "Total number of trainable parameters = 266610\n",
      "Saving model with lowest val_loss = 0.10998965054750443\n",
      "\n",
      "\n",
      "Epoch 11, Loss: 0.0625, Accuracy: 98.1500, Test Loss: 0.1143, Test Accuracy: 97.040001, LR: 0.100000, Current step value: 10318\n",
      "Total number of trainable parameters = 266610\n",
      "Saving model with lowest val_loss = 0.11431466788053513\n",
      "\n",
      "\n",
      "Epoch 12, Loss: 0.0523, Accuracy: 98.4183, Test Loss: 0.1088, Test Accuracy: 97.239998, LR: 0.100000, Current step value: 11256\n",
      "Total number of trainable parameters = 266610\n",
      "Saving model with lowest val_loss = 0.10884564369916916\n",
      "\n",
      "\n",
      "Epoch 13, Loss: 0.0481, Accuracy: 98.5717, Test Loss: 0.1008, Test Accuracy: 97.589996, LR: 0.100000, Current step value: 12194\n",
      "Total number of trainable parameters = 266610\n",
      "Saving model with lowest val_loss = 0.10082858800888062\n",
      "\n",
      "\n",
      "Epoch 14, Loss: 0.0444, Accuracy: 98.6850, Test Loss: 0.1143, Test Accuracy: 97.290001, LR: 0.100000, Current step value: 13132\n",
      "Total number of trainable parameters = 266610\n",
      "Saving model with lowest val_loss = 0.11428871005773544\n",
      "\n",
      "\n",
      "Epoch 15, Loss: 0.0462, Accuracy: 98.6550, Test Loss: 0.1331, Test Accuracy: 97.360001, LR: 0.100000, Current step value: 14070\n",
      "Total number of trainable parameters = 266610\n",
      "Saving model with lowest val_loss = 0.1330508589744568\n",
      "\n",
      "\n",
      "Epoch 16, Loss: 0.0389, Accuracy: 98.8450, Test Loss: 0.1610, Test Accuracy: 96.690002, LR: 0.100000, Current step value: 15008\n",
      "Total number of trainable parameters = 266610\n",
      "Saving model with lowest val_loss = 0.16098695993423462\n",
      "\n",
      "\n",
      "Epoch 17, Loss: 0.0356, Accuracy: 98.9617, Test Loss: 0.1408, Test Accuracy: 97.360001, LR: 0.100000, Current step value: 15946\n",
      "Total number of trainable parameters = 266610\n",
      "Saving model with lowest val_loss = 0.14079003036022186\n",
      "\n",
      "\n",
      "Epoch 18, Loss: 0.0351, Accuracy: 99.0583, Test Loss: 0.1449, Test Accuracy: 97.239998, LR: 0.100000, Current step value: 16884\n",
      "Total number of trainable parameters = 266610\n",
      "Saving model with lowest val_loss = 0.1449248045682907\n",
      "\n",
      "\n",
      "Epoch 19, Loss: 0.0436, Accuracy: 98.7983, Test Loss: 0.1283, Test Accuracy: 97.559998, LR: 0.100000, Current step value: 17822\n",
      "Total number of trainable parameters = 266610\n",
      "Saving model with lowest val_loss = 0.12830014526844025\n",
      "\n",
      "\n",
      "Epoch 20, Loss: 0.0335, Accuracy: 99.0733, Test Loss: 0.1315, Test Accuracy: 97.680000, LR: 0.100000, Current step value: 18760\n",
      "Total number of trainable parameters = 266610\n",
      "Saving model with lowest val_loss = 0.13151219487190247\n",
      "\n",
      "\n",
      "Epoch 21, Loss: 0.0285, Accuracy: 99.2283, Test Loss: 0.1284, Test Accuracy: 97.839996, LR: 0.100000, Current step value: 19698\n",
      "Total number of trainable parameters = 266610\n",
      "Saving model with lowest val_loss = 0.12840968370437622\n",
      "\n",
      "\n",
      "Epoch 22, Loss: 0.0227, Accuracy: 99.3317, Test Loss: 0.1227, Test Accuracy: 98.059998, LR: 0.010000, Current step value: 20636\n",
      "Total number of trainable parameters = 266610\n",
      "Saving model with lowest val_loss = 0.12272393703460693\n",
      "\n",
      "\n",
      "Epoch 23, Loss: 0.0103, Accuracy: 99.7050, Test Loss: 0.1068, Test Accuracy: 98.269997, LR: 0.010000, Current step value: 21574\n",
      "Total number of trainable parameters = 266610\n",
      "Saving model with lowest val_loss = 0.10679032653570175\n",
      "\n",
      "\n",
      "Epoch 24, Loss: 0.0020, Accuracy: 99.9450, Test Loss: 0.1057, Test Accuracy: 98.339996, LR: 0.010000, Current step value: 22512\n",
      "Total number of trainable parameters = 266610\n",
      "Saving model with lowest val_loss = 0.10574418306350708\n",
      "\n",
      "\n",
      "Epoch 25, Loss: 0.0011, Accuracy: 99.9833, Test Loss: 0.1072, Test Accuracy: 98.299995, LR: 0.010000, Current step value: 23450\n",
      "Total number of trainable parameters = 266610\n",
      "Saving model with lowest val_loss = 0.10720708221197128\n",
      "\n",
      "\n",
      "Epoch 26, Loss: 0.0008, Accuracy: 99.9917, Test Loss: 0.1074, Test Accuracy: 98.329994, LR: 0.010000, Current step value: 24388\n",
      "Total number of trainable parameters = 266610\n",
      "Saving model with lowest val_loss = 0.10744819045066833\n",
      "\n",
      "\n",
      "Epoch 27, Loss: 0.0007, Accuracy: 99.9967, Test Loss: 0.1081, Test Accuracy: 98.349998, LR: 0.010000, Current step value: 25326\n",
      "Total number of trainable parameters = 266610\n",
      "Saving model with lowest val_loss = 0.10812284052371979\n",
      "\n",
      "\n",
      "Epoch 28, Loss: 0.0005, Accuracy: 99.9983, Test Loss: 0.1082, Test Accuracy: 98.339996, LR: 0.001000, Current step value: 26264\n",
      "Total number of trainable parameters = 266610\n",
      "Saving model with lowest val_loss = 0.10816549509763718\n",
      "\n",
      "\n",
      "Epoch 29, Loss: 0.0005, Accuracy: 99.9983, Test Loss: 0.1082, Test Accuracy: 98.339996, LR: 0.001000, Current step value: 27202\n",
      "Total number of trainable parameters = 266610\n",
      "Saving model with lowest val_loss = 0.10823468863964081\n",
      "\n",
      "\n",
      "Epoch 30, Loss: 0.0005, Accuracy: 99.9983, Test Loss: 0.1083, Test Accuracy: 98.339996, LR: 0.001000, Current step value: 28140\n",
      "Total number of trainable parameters = 266610\n",
      "Saving model with lowest val_loss = 0.1083138957619667\n",
      "\n"
     ]
    }
   ],
   "source": [
    "# Train model using 'GradientTape' and without early stopping criterion-\n",
    "for epoch in range(30):\n",
    "        \n",
    "    # Reset the metrics at the start of the next epoch\n",
    "    train_loss.reset_states()\n",
    "    train_accuracy.reset_states()\n",
    "    test_loss.reset_states()\n",
    "    test_accuracy.reset_states()\n",
    "        \n",
    "        \n",
    "    for x, y in train_dataset:\n",
    "        train_one_step(model, mask_model, optimizer, x, y)\n",
    "\n",
    "    for x_t, y_t in test_dataset:\n",
    "        test_step(model, optimizer, x_t, y_t)\n",
    "\n",
    "    \n",
    "    # template = 'Epoch {0}, Loss: {1:.4f}, Accuracy: {2:.4f}, Test Loss: {3:.4f}, Test Accuracy: {4:4f}'\n",
    "    # print(\"\\nCurrent step value: {0}, LR: {1:.6f}\\n\".format(optimizer.iterations.numpy(), optimizer.learning_rate(optimizer.iterations)))\n",
    "    template = '\\nEpoch {0}, Loss: {1:.4f}, Accuracy: {2:.4f}, Test Loss: {3:.4f}, Test Accuracy: {4:4f}, LR: {5:.6f}, Current step value: {6}'\n",
    "\n",
    "    \n",
    "    print(template.format(epoch + 1, \n",
    "                          train_loss.result(), train_accuracy.result()*100,\n",
    "                          test_loss.result(), test_accuracy.result()*100,\n",
    "                          # optimizer.learning_rate.numpy()\n",
    "                          optimizer._decayed_lr('float32').numpy(),\n",
    "                          optimizer.iterations.numpy()\n",
    "                         )\n",
    "         )\n",
    "    \n",
    "    history_warmup_and_decay_lr[epoch + 1] = {'loss': train_loss.result(), 'acc': train_accuracy.result() * 100, 'val_loss': test_loss.result(),\n",
    "                                      'val_acc': test_accuracy.result() * 100, 'lr': optimizer._decayed_lr('float32').numpy(),\n",
    "                                      'step_val': optimizer.iterations.numpy()\n",
    "                                     }\n",
    "    \n",
    "    print(f\"Total number of trainable parameters = {count_nonzero_params(model)}\")\n",
    "\n",
    "    \n",
    "    if test_loss.result() < best_val_loss:\n",
    "        print(f\"Saving model with lowest val_loss = {test_loss.result()}\\n\")\n",
    "        model.save_weights(\"LeNet300_best_val_loss.h5\", overwrite = True)\n",
    "        \n",
    "    "
   ]
  },
  {
   "cell_type": "code",
   "execution_count": null,
   "metadata": {},
   "outputs": [],
   "source": []
  },
  {
   "cell_type": "code",
   "execution_count": null,
   "metadata": {},
   "outputs": [],
   "source": []
  },
  {
   "cell_type": "code",
   "execution_count": null,
   "metadata": {},
   "outputs": [],
   "source": []
  },
  {
   "cell_type": "code",
   "execution_count": 159,
   "metadata": {},
   "outputs": [],
   "source": [
    "# Save Python3 dict for later analysis-\n",
    "import pickle\n",
    "\n",
    "# with open(\"LeNet300-history_constant_lr.pkl\", \"wb\") as file:\n",
    "# with open(\"LeNet300-time_based_decay_lr.pkl\", \"wb\") as file:\n",
    "with open(\"LeNet300-warmup_and_stepdecay_lr.pkl\", \"wb\") as file:\n",
    "    # pickle.dump(history_constant_lr, file)\n",
    "    # pickle.dump(history_time_decay_lr, file)\n",
    "    pickle.dump(history_warmup_and_decay_lr, file)"
   ]
  },
  {
   "cell_type": "code",
   "execution_count": null,
   "metadata": {},
   "outputs": [],
   "source": []
  },
  {
   "cell_type": "code",
   "execution_count": null,
   "metadata": {},
   "outputs": [],
   "source": []
  },
  {
   "cell_type": "markdown",
   "metadata": {},
   "source": [
    "### Visualize training metrics:"
   ]
  },
  {
   "cell_type": "code",
   "execution_count": 86,
   "metadata": {},
   "outputs": [],
   "source": [
    "plot_acc = {}\n",
    "plot_val_acc = {}"
   ]
  },
  {
   "cell_type": "code",
   "execution_count": 87,
   "metadata": {},
   "outputs": [],
   "source": [
    "for epoch in history_constant_lr.keys():\n",
    "    plot_acc[epoch] = history_constant_lr[epoch]['acc']\n",
    "    plot_val_acc[epoch] = history_constant_lr[epoch]['val_acc']"
   ]
  },
  {
   "cell_type": "code",
   "execution_count": null,
   "metadata": {},
   "outputs": [],
   "source": []
  },
  {
   "cell_type": "code",
   "execution_count": 88,
   "metadata": {},
   "outputs": [
    {
     "data": {
      "image/png": "[encoded data removed]",
      "text/plain": [
       "<Figure size 648x504 with 1 Axes>"
      ]
     },
     "metadata": {
      "needs_background": "light"
     },
     "output_type": "display_data"
    }
   ],
   "source": [
    "# Visualize accuracies-\n",
    "plt.figure(figsize = (9, 7))\n",
    "\n",
    "plt.plot(list(plot_acc.keys()), list(plot_acc.values()), label = 'train accuracy')\n",
    "plt.plot(list(plot_val_acc.keys()), list(plot_val_acc.values()), label = 'val accuracy')\n",
    "\n",
    "plt.title(\"LeNet-300-100: Accuracy\")\n",
    "plt.xlabel(\"number of epochs\")\n",
    "plt.ylabel(\"accuracy %\")\n",
    "plt.legend(loc = 'best')\n",
    "plt.show()\n"
   ]
  },
  {
   "cell_type": "code",
   "execution_count": null,
   "metadata": {},
   "outputs": [],
   "source": []
  },
  {
   "cell_type": "code",
   "execution_count": null,
   "metadata": {},
   "outputs": [],
   "source": []
  },
  {
   "cell_type": "code",
   "execution_count": 89,
   "metadata": {},
   "outputs": [],
   "source": [
    "plot_loss = {}\n",
    "plot_val_loss = {}"
   ]
  },
  {
   "cell_type": "code",
   "execution_count": 90,
   "metadata": {},
   "outputs": [],
   "source": [
    "for epoch in history_constant_lr.keys():\n",
    "    plot_loss[epoch] = history_constant_lr[epoch]['loss']\n",
    "    plot_val_loss[epoch] = history_constant_lr[epoch]['val_loss']\n",
    "    "
   ]
  },
  {
   "cell_type": "code",
   "execution_count": null,
   "metadata": {},
   "outputs": [],
   "source": []
  },
  {
   "cell_type": "code",
   "execution_count": 91,
   "metadata": {},
   "outputs": [
    {
     "data": {
      "image/png": "[encoded data removed]",
      "text/plain": [
       "<Figure size 648x504 with 1 Axes>"
      ]
     },
     "metadata": {
      "needs_background": "light"
     },
     "output_type": "display_data"
    }
   ],
   "source": [
    "# Visualize losses-\n",
    "plt.figure(figsize = (9, 7))\n",
    "\n",
    "plt.plot(list(plot_loss.keys()), list(plot_loss.values()), label = 'train loss')\n",
    "plt.plot(list(plot_val_loss.keys()), list(plot_val_loss.values()), label = 'val loss')\n",
    "\n",
    "plt.title(\"LeNet-300-100: Loss\")\n",
    "plt.xlabel(\"number of epochs\")\n",
    "plt.ylabel(\"loss\")\n",
    "plt.legend(loc = 'best')\n",
    "plt.show()\n"
   ]
  },
  {
   "cell_type": "code",
   "execution_count": null,
   "metadata": {},
   "outputs": [],
   "source": []
  },
  {
   "cell_type": "code",
   "execution_count": null,
   "metadata": {},
   "outputs": [],
   "source": []
  },
  {
   "cell_type": "code",
   "execution_count": 103,
   "metadata": {},
   "outputs": [],
   "source": [
    "plot_lr = {}\n",
    "# plot_steps = {}"
   ]
  },
  {
   "cell_type": "code",
   "execution_count": 156,
   "metadata": {},
   "outputs": [],
   "source": [
    "# for epoch in history_constant_lr.keys():\n",
    "for epoch in history_warmup_and_decay_lr.keys():\n",
    "    plot_lr[epoch] = history_warmup_and_decay_lr[epoch]['lr']\n",
    "    # plot_steps[epoch] = history_constant_lr[epoch]['step_val']\n",
    "    "
   ]
  },
  {
   "cell_type": "code",
   "execution_count": 139,
   "metadata": {},
   "outputs": [
    {
     "data": {
      "text/plain": [
       "dict_keys(['loss', 'acc', 'val_loss', 'val_acc', 'lr', 'step_val'])"
      ]
     },
     "execution_count": 139,
     "metadata": {},
     "output_type": "execute_result"
    }
   ],
   "source": [
    "history_time_decay_lr.keys()"
   ]
  },
  {
   "cell_type": "code",
   "execution_count": 158,
   "metadata": {},
   "outputs": [
    {
     "data": {
      "image/png": "[encoded data removed]",
      "text/plain": [
       "<Figure size 648x504 with 1 Axes>"
      ]
     },
     "metadata": {
      "needs_background": "light"
     },
     "output_type": "display_data"
    }
   ],
   "source": [
    "# Visualize accuracies-\n",
    "plt.figure(figsize = (9, 7))\n",
    "\n",
    "plt.plot(list(plot_lr.keys()), list(plot_lr.values()), label = 'learning rate')\n",
    "# plt.plot(list(plot_steps.keys()), list(plot_steps.values()), label = 'step values')\n",
    "\n",
    "# plt.title(\"LeNet-300-100: LR & step values\")\n",
    "plt.title(\"LeNet-300-100: Warmup & Step-Decay (SGD) Learning Rate\")\n",
    "plt.xlabel(\"number of epochs\")\n",
    "plt.ylabel(\"LR\")\n",
    "plt.legend(loc = 'best')\n",
    "plt.show()\n"
   ]
  },
  {
   "cell_type": "code",
   "execution_count": null,
   "metadata": {},
   "outputs": [],
   "source": []
  },
  {
   "cell_type": "code",
   "execution_count": null,
   "metadata": {},
   "outputs": [],
   "source": []
  }
 ],
 "metadata": {
  "kernelspec": {
   "display_name": "Python 3",
   "language": "python",
   "name": "python3"
  },
  "language_info": {
   "codemirror_mode": {
    "name": "ipython",
    "version": 3
   },
   "file_extension": ".py",
   "mimetype": "text/x-python",
   "name": "python",
   "nbconvert_exporter": "python",
   "pygments_lexer": "ipython3",
   "version": "3.8.8"
  }
 },
 "nbformat": 4,
 "nbformat_minor": 4
}
