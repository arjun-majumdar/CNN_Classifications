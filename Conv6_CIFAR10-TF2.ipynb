{
 "cells": [
  {
   "cell_type": "code",
   "execution_count": null,
   "id": "d84c662b-4fa2-4665-819b-4c447d194f82",
   "metadata": {},
   "outputs": [],
   "source": []
  },
  {
   "cell_type": "code",
   "execution_count": 1,
   "id": "9aae9dc6-61ae-4dfe-a72c-7943ff685f48",
   "metadata": {
    "id": "a0fdc365",
    "outputId": "084a0eec-f5cb-4a1d-b442-52552f09af14"
   },
   "outputs": [
    {
     "name": "stdout",
     "output_type": "stream",
     "text": [
      "env: CUDA_DEVICE_ORDER=PCI_BUS_ID\n",
      "env: CUDA_VISIBLE_DEVICES=0\n"
     ]
    }
   ],
   "source": [
    "# Specify GPU to be used-\n",
    "%env CUDA_DEVICE_ORDER=PCI_BUS_ID\n",
    "%env CUDA_VISIBLE_DEVICES = 0"
   ]
  },
  {
   "cell_type": "code",
   "execution_count": null,
   "id": "4595d67f-aa13-4f52-8c62-1f3be7da3b18",
   "metadata": {
    "id": "8842f757"
   },
   "outputs": [],
   "source": []
  },
  {
   "cell_type": "code",
   "execution_count": 2,
   "id": "50629bdb-01f9-4d51-b51d-313fc89b2c4d",
   "metadata": {
    "id": "0f71a9a8"
   },
   "outputs": [],
   "source": [
    "import tensorflow\n",
    "from tensorflow import keras\n",
    "import tensorflow as tf\n",
    "import numpy as np\n",
    "import matplotlib.pyplot as plt\n",
    "import seaborn as sns\n",
    "import pickle, os, time\n",
    "import math\n",
    "\n",
    "from tqdm import tqdm\n",
    "from tqdm import trange\n",
    "\n",
    "from tensorflow.keras.preprocessing.image import ImageDataGenerator\n",
    "from tensorflow.keras import regularizers\n",
    "import tensorflow.keras.backend as K\n",
    "\n",
    "from tensorflow.keras.layers import AveragePooling2D, Conv2D, MaxPooling2D, ReLU\n",
    "from tensorflow.keras import models, layers, datasets\n",
    "from tensorflow.keras.layers import Dense, Flatten, Reshape, Input, InputLayer\n",
    "from tensorflow.keras.layers import Layer, Dropout, BatchNormalization, Activation\n",
    "from tensorflow.keras.models import Sequential, Model\n",
    "from tensorflow.keras.initializers import RandomNormal, Constant\n",
    "\n",
    "# from sklearn.metrics import accuracy_score, precision_score, recall_score"
   ]
  },
  {
   "cell_type": "code",
   "execution_count": null,
   "id": "fb9be9e2-f385-4079-86b0-9b2dac1bad95",
   "metadata": {
    "id": "d872620a"
   },
   "outputs": [],
   "source": []
  },
  {
   "cell_type": "code",
   "execution_count": null,
   "id": "6d055770-395e-43e6-8979-03b77997c833",
   "metadata": {
    "id": "a60d1df1"
   },
   "outputs": [],
   "source": []
  },
  {
   "cell_type": "code",
   "execution_count": 3,
   "id": "58287fc6-46c1-4cf1-acd7-0dc195e708c8",
   "metadata": {
    "colab": {
     "base_uri": "https://localhost:8080/"
    },
    "id": "6413be31",
    "outputId": "ae3e3ad4-3109-45ef-a29f-d49bc1fa83d5"
   },
   "outputs": [
    {
     "name": "stdout",
     "output_type": "stream",
     "text": [
      "TensorFlow version: 2.8.0\n"
     ]
    }
   ],
   "source": [
    "print(f\"TensorFlow version: {tf.__version__}\")"
   ]
  },
  {
   "cell_type": "code",
   "execution_count": 4,
   "id": "ed96473e-ed78-4dc1-8388-451aca28a0ef",
   "metadata": {
    "colab": {
     "base_uri": "https://localhost:8080/"
    },
    "id": "3d5f3f5e",
    "outputId": "877fa14b-159b-4230-c778-dc47c05e2c7d"
   },
   "outputs": [
    {
     "name": "stdout",
     "output_type": "stream",
     "text": [
      "GPU: [PhysicalDevice(name='/physical_device:GPU:0', device_type='GPU')]\n",
      "GPU details: NVIDIA GeForce RTX 3080\n"
     ]
    },
    {
     "name": "stderr",
     "output_type": "stream",
     "text": [
      "2022-03-21 22:11:45.382210: I tensorflow/stream_executor/cuda/cuda_gpu_executor.cc:936] successful NUMA node read from SysFS had negative value (-1), but there must be at least one NUMA node, so returning NUMA node zero\n",
      "2022-03-21 22:11:45.402055: I tensorflow/stream_executor/cuda/cuda_gpu_executor.cc:936] successful NUMA node read from SysFS had negative value (-1), but there must be at least one NUMA node, so returning NUMA node zero\n",
      "2022-03-21 22:11:45.402144: I tensorflow/stream_executor/cuda/cuda_gpu_executor.cc:936] successful NUMA node read from SysFS had negative value (-1), but there must be at least one NUMA node, so returning NUMA node zero\n",
      "2022-03-21 22:11:45.402794: I tensorflow/stream_executor/cuda/cuda_gpu_executor.cc:936] successful NUMA node read from SysFS had negative value (-1), but there must be at least one NUMA node, so returning NUMA node zero\n"
     ]
    }
   ],
   "source": [
    "# Check GPU availibility-\n",
    "gpu_devices = tf.config.list_physical_devices('GPU')\n",
    "# print(f\"GPU: {gpu_devices}\")\n",
    "\n",
    "if gpu_devices:\n",
    "    print(f\"GPU: {gpu_devices}\")\n",
    "    details = tf.config.experimental.get_device_details(gpu_devices[0])\n",
    "    print(f\"GPU details: {details.get('device_name', 'Unknown GPU')}\")\n",
    "else:\n",
    "    print(\"No GPU found\")"
   ]
  },
  {
   "cell_type": "code",
   "execution_count": null,
   "id": "82aca8d5-38ac-4637-93e7-da14d6aa0ee5",
   "metadata": {
    "id": "6f2ea57f"
   },
   "outputs": [],
   "source": []
  },
  {
   "cell_type": "code",
   "execution_count": null,
   "id": "65ab4781-10f5-44bf-b622-5a4ac7b2b50f",
   "metadata": {
    "id": "ca95a9fa"
   },
   "outputs": [],
   "source": []
  },
  {
   "cell_type": "code",
   "execution_count": 5,
   "id": "3ae9e91b-c478-422e-80f4-052b13183319",
   "metadata": {
    "id": "93da83a0"
   },
   "outputs": [],
   "source": [
    "# Specify hyper-parameters\n",
    "batch_size = 64\n",
    "num_classes = 10\n",
    "num_epochs = 80\n",
    "\n",
    "# weight_decay = 0.0005\n",
    "weight_decay = 0.001"
   ]
  },
  {
   "cell_type": "code",
   "execution_count": null,
   "id": "513e4bff-738d-4840-9129-581666f86daf",
   "metadata": {
    "id": "e3dd3625"
   },
   "outputs": [],
   "source": []
  },
  {
   "cell_type": "code",
   "execution_count": null,
   "id": "ad6be612-9421-4585-b6a5-c6e7c6a3a66a",
   "metadata": {},
   "outputs": [],
   "source": []
  },
  {
   "cell_type": "markdown",
   "id": "a6e8229d-8ec6-488a-944e-e3a3706c9193",
   "metadata": {},
   "source": [
    "### CIFAR-10 Data Pre-processing"
   ]
  },
  {
   "cell_type": "code",
   "execution_count": 6,
   "id": "276c1217-38e3-4a14-94ce-cb07b9e44087",
   "metadata": {
    "colab": {
     "base_uri": "https://localhost:8080/"
    },
    "id": "f2d95ae3",
    "outputId": "c4a32980-84d9-410b-d475-401ea2eb1905"
   },
   "outputs": [],
   "source": [
    "# Data preprocessing and cleaning:\n",
    "# input image dimensions\n",
    "img_rows, img_cols = 32, 32\n",
    "\n",
    "# Load CIFAR-10 dataset-\n",
    "(X_train, y_train), (X_test, y_test) = tf.keras.datasets.cifar10.load_data()\n",
    "\n",
    "# Load CIFAR-100 dataset-\n",
    "# (X_train, y_train), (X_test, y_test) = tf.keras.datasets.cifar100.load_data()"
   ]
  },
  {
   "cell_type": "code",
   "execution_count": 7,
   "id": "fb5d8a87-f20f-4a74-9fd4-498a3f92cdb8",
   "metadata": {
    "colab": {
     "base_uri": "https://localhost:8080/"
    },
    "id": "31d22e22",
    "outputId": "01047d8a-9bd5-4495-88f5-a7fb8a58dd8b"
   },
   "outputs": [
    {
     "name": "stdout",
     "output_type": "stream",
     "text": [
      "\n",
      "'input_shape' which will be used = (32, 32, 3)\n",
      "\n"
     ]
    }
   ],
   "source": [
    "if tf.keras.backend.image_data_format() == 'channels_first':\n",
    "    X_train = X_train.reshape(X_train.shape[0], 3, img_rows, img_cols)\n",
    "    X_test = X_test.reshape(X_test.shape[0], 3, img_rows, img_cols)\n",
    "    input_shape = (3, img_rows, img_cols)\n",
    "else:\n",
    "    X_train = X_train.reshape(X_train.shape[0], img_rows, img_cols, 3)\n",
    "    X_test = X_test.reshape(X_test.shape[0], img_rows, img_cols, 3)\n",
    "    input_shape = (img_rows, img_cols, 3)\n",
    "\n",
    "print(\"\\n'input_shape' which will be used = {0}\\n\".format(input_shape))"
   ]
  },
  {
   "cell_type": "code",
   "execution_count": 8,
   "id": "0a88227e-71e0-4567-8612-f8df611c19a5",
   "metadata": {
    "id": "69e70b83"
   },
   "outputs": [],
   "source": [
    "# Convert datasets to floating point types-\n",
    "X_train = X_train.astype('float32')\n",
    "X_test = X_test.astype('float32')\n",
    "\n",
    "# Normalize the training and testing datasets-\n",
    "X_train /= 255.0\n",
    "X_test /= 255.0"
   ]
  },
  {
   "cell_type": "code",
   "execution_count": 9,
   "id": "f546bafd-8f18-49ff-b7b0-9253ae48c690",
   "metadata": {
    "id": "c5ec7bdd"
   },
   "outputs": [],
   "source": [
    "# convert class vectors/target to binary class matrices or one-hot encoded values-\n",
    "y_train = tf.keras.utils.to_categorical(y_train, num_classes)\n",
    "y_test = tf.keras.utils.to_categorical(y_test, num_classes)"
   ]
  },
  {
   "cell_type": "code",
   "execution_count": 10,
   "id": "304d1eca-b663-4adb-8f11-d29c42a9d2f3",
   "metadata": {
    "colab": {
     "base_uri": "https://localhost:8080/"
    },
    "id": "ce4f42fc",
    "outputId": "5a9feab2-5221-4244-9c30-4109622cbe99"
   },
   "outputs": [
    {
     "name": "stdout",
     "output_type": "stream",
     "text": [
      "\n",
      "Dimensions of training and testing sets are:\n",
      "X_train.shape = (50000, 32, 32, 3), y_train.shape = (50000, 10)\n",
      "X_test.shape = (10000, 32, 32, 3), y_test.shape = (10000, 10)\n"
     ]
    }
   ],
   "source": [
    "print(\"\\nDimensions of training and testing sets are:\")\n",
    "print(\"X_train.shape = {0}, y_train.shape = {1}\".format(X_train.shape, y_train.shape))\n",
    "print(\"X_test.shape = {0}, y_test.shape = {1}\".format(X_test.shape, y_test.shape))"
   ]
  },
  {
   "cell_type": "code",
   "execution_count": null,
   "id": "2c7d0b09-b568-40d2-b040-19b2f1f90dc3",
   "metadata": {
    "id": "98bacb25-6bf9-48a6-943b-3f494593d74d"
   },
   "outputs": [],
   "source": []
  },
  {
   "cell_type": "code",
   "execution_count": 11,
   "id": "1e91f52a-510f-4459-a37b-6f420b71fc3c",
   "metadata": {
    "colab": {
     "base_uri": "https://localhost:8080/"
    },
    "id": "6106474c",
    "outputId": "8b10222f-f84f-4907-b6a9-72fd27982e3c"
   },
   "outputs": [
    {
     "name": "stdout",
     "output_type": "stream",
     "text": [
      "There are 781.25 training steps in one epoch\n"
     ]
    }
   ],
   "source": [
    "print(f\"There are {len(X_train) / batch_size} training steps in one epoch\")"
   ]
  },
  {
   "cell_type": "code",
   "execution_count": 12,
   "id": "d3538282-5b56-4d24-8900-15d04a281f71",
   "metadata": {
    "colab": {
     "base_uri": "https://localhost:8080/"
    },
    "id": "4eb5d0f6-7c95-4cf3-9e72-72bd6506f961",
    "outputId": "328b94e2-8b95-42c4-9d35-7de5eb318c88"
   },
   "outputs": [
    {
     "name": "stdout",
     "output_type": "stream",
     "text": [
      "In 80 epochs there are 62500.0 training steps/iterations\n"
     ]
    }
   ],
   "source": [
    "print(f\"In {num_epochs} epochs there are {num_epochs * (len(X_train) / batch_size)} training steps/iterations\")"
   ]
  },
  {
   "cell_type": "code",
   "execution_count": null,
   "id": "58842af9-194e-41fc-a84f-407a20b27cf5",
   "metadata": {
    "id": "bec70c7e-62bc-4f08-99e4-6359b0e6f8e5"
   },
   "outputs": [],
   "source": []
  },
  {
   "cell_type": "code",
   "execution_count": null,
   "id": "b58176b9-5507-4bc3-8256-4b41a9ebdd47",
   "metadata": {
    "id": "cb5138b3"
   },
   "outputs": [],
   "source": []
  },
  {
   "cell_type": "markdown",
   "id": "df6dca10-4adc-49c9-9bff-e327838cfc3e",
   "metadata": {
    "id": "dd216a4a"
   },
   "source": [
    "### Prepare CIFAR10 dataset for TensorFlow _GradientTape_ training:"
   ]
  },
  {
   "cell_type": "code",
   "execution_count": 13,
   "id": "8ca886fe-bce3-441d-a0f3-0cf2b909afd7",
   "metadata": {
    "id": "43688479"
   },
   "outputs": [
    {
     "name": "stderr",
     "output_type": "stream",
     "text": [
      "2022-03-21 22:11:57.353294: I tensorflow/core/platform/cpu_feature_guard.cc:151] This TensorFlow binary is optimized with oneAPI Deep Neural Network Library (oneDNN) to use the following CPU instructions in performance-critical operations:  AVX2 FMA\n",
      "To enable them in other operations, rebuild TensorFlow with the appropriate compiler flags.\n",
      "2022-03-21 22:11:57.354693: I tensorflow/stream_executor/cuda/cuda_gpu_executor.cc:936] successful NUMA node read from SysFS had negative value (-1), but there must be at least one NUMA node, so returning NUMA node zero\n",
      "2022-03-21 22:11:57.354815: I tensorflow/stream_executor/cuda/cuda_gpu_executor.cc:936] successful NUMA node read from SysFS had negative value (-1), but there must be at least one NUMA node, so returning NUMA node zero\n",
      "2022-03-21 22:11:57.354891: I tensorflow/stream_executor/cuda/cuda_gpu_executor.cc:936] successful NUMA node read from SysFS had negative value (-1), but there must be at least one NUMA node, so returning NUMA node zero\n",
      "2022-03-21 22:11:57.685065: I tensorflow/stream_executor/cuda/cuda_gpu_executor.cc:936] successful NUMA node read from SysFS had negative value (-1), but there must be at least one NUMA node, so returning NUMA node zero\n",
      "2022-03-21 22:11:57.685189: I tensorflow/stream_executor/cuda/cuda_gpu_executor.cc:936] successful NUMA node read from SysFS had negative value (-1), but there must be at least one NUMA node, so returning NUMA node zero\n",
      "2022-03-21 22:11:57.685272: I tensorflow/stream_executor/cuda/cuda_gpu_executor.cc:936] successful NUMA node read from SysFS had negative value (-1), but there must be at least one NUMA node, so returning NUMA node zero\n",
      "2022-03-21 22:11:57.685343: I tensorflow/core/common_runtime/gpu/gpu_device.cc:1525] Created device /job:localhost/replica:0/task:0/device:GPU:0 with 8102 MB memory:  -> device: 0, name: NVIDIA GeForce RTX 3080, pci bus id: 0000:01:00.0, compute capability: 8.6\n"
     ]
    }
   ],
   "source": [
    "# Create training and testing datasets-\n",
    "train_dataset = tf.data.Dataset.from_tensor_slices((X_train, y_train))\n",
    "test_dataset = tf.data.Dataset.from_tensor_slices((X_test, y_test))"
   ]
  },
  {
   "cell_type": "code",
   "execution_count": 14,
   "id": "36430900-9bb2-4b47-b2ee-6b958a839734",
   "metadata": {
    "id": "84ab8297"
   },
   "outputs": [],
   "source": [
    "train_dataset = train_dataset.shuffle(buffer_size = 20000, reshuffle_each_iteration = True).batch(batch_size = batch_size, drop_remainder = False)"
   ]
  },
  {
   "cell_type": "code",
   "execution_count": 15,
   "id": "58622d8a-cb1e-42b2-bfff-f3223f2431af",
   "metadata": {
    "id": "7f13f6e8"
   },
   "outputs": [],
   "source": [
    "test_dataset = test_dataset.batch(batch_size = batch_size, drop_remainder = False)"
   ]
  },
  {
   "cell_type": "code",
   "execution_count": 16,
   "id": "ee3117b2-b91f-4f50-a60e-27aeff2ef563",
   "metadata": {
    "id": "4df42b00"
   },
   "outputs": [],
   "source": [
    "# Choose loss function for training-\n",
    "loss_fn = tf.keras.losses.CategoricalCrossentropy()\n",
    "\n",
    "optimizer = tf.keras.optimizers.SGD(learning_rate = 0.01, momentum = 0.9)"
   ]
  },
  {
   "cell_type": "code",
   "execution_count": 17,
   "id": "50eb8367-ddb5-4164-9233-373e1ce12f65",
   "metadata": {
    "id": "c2446c82"
   },
   "outputs": [],
   "source": [
    "# Select metrics to measure the error & accuracy of model.\n",
    "# These metrics accumulate the values over epochs and then\n",
    "# print the overall result-\n",
    "train_loss = tf.keras.metrics.Mean(name = 'train_loss')\n",
    "train_accuracy = tf.keras.metrics.CategoricalAccuracy(name = 'train_accuracy')\n",
    "\n",
    "test_loss = tf.keras.metrics.Mean(name = 'test_loss')\n",
    "test_accuracy = tf.keras.metrics.CategoricalAccuracy(name = 'test_accuracy')"
   ]
  },
  {
   "cell_type": "code",
   "execution_count": null,
   "id": "6afa7423-20a6-4914-a6cb-6df2fd68aeda",
   "metadata": {
    "id": "806851ab"
   },
   "outputs": [],
   "source": []
  },
  {
   "cell_type": "code",
   "execution_count": null,
   "id": "5184a613-ed7a-4152-a78c-2ba021a13c33",
   "metadata": {
    "id": "966313d9"
   },
   "outputs": [],
   "source": []
  },
  {
   "cell_type": "markdown",
   "id": "20f66b70-5ead-4c38-b4f2-3534d12726fb",
   "metadata": {},
   "source": [
    "### Define _Conv-6_ CNN architecture"
   ]
  },
  {
   "cell_type": "code",
   "execution_count": 18,
   "id": "d148aef7-4b77-4729-9ab7-57c1877a2997",
   "metadata": {
    "id": "ce791dd7"
   },
   "outputs": [],
   "source": [
    "class ConvBlock(Model):\n",
    "    def __init__(self, num_filters, use_four_layers = False):\n",
    "        super(ConvBlock, self).__init__()\n",
    "        self.use_four_layers = use_four_layers\n",
    "        \n",
    "        self.conv1 = Conv2D(\n",
    "            filters = num_filters, kernel_size = (3, 3),\n",
    "            activation = None, kernel_initializer = tf.keras.initializers.he_normal(),\n",
    "            strides = (1, 1), padding = 'same',\n",
    "            use_bias = False, kernel_regularizer = regularizers.l2(weight_decay)\n",
    "        )\n",
    "        self.bn1 = BatchNormalization(\n",
    "            momentum = 0.99, epsilon = 0.001,\n",
    "            beta_initializer = RandomNormal(mean = 0.0, stddev = 0.05),\n",
    "            gamma_initializer = Constant(value = 0.9)\n",
    "        )\n",
    "        \n",
    "        self.conv2 = Conv2D(\n",
    "            filters = num_filters, kernel_size = (3, 3),\n",
    "            activation = None, kernel_initializer = tf.keras.initializers.he_normal(),\n",
    "            strides = (1, 1), padding = 'same',\n",
    "            use_bias = False, kernel_regularizer = regularizers.l2(weight_decay)\n",
    "        )\n",
    "        self.bn2 = BatchNormalization(\n",
    "            momentum = 0.99, epsilon = 0.001,\n",
    "            beta_initializer = RandomNormal(mean = 0.0, stddev = 0.05),\n",
    "            gamma_initializer = Constant(value = 0.9)\n",
    "        )\n",
    "        \n",
    "        if use_four_layers:\n",
    "            self.conv3 = Conv2D(\n",
    "                filters = num_filters, kernel_size = (3, 3),\n",
    "                activation = None, kernel_initializer = tf.keras.initializers.he_normal(),\n",
    "                strides = (1, 1), padding = 'same',\n",
    "                use_bias = False, kernel_regularizer = regularizers.l2(weight_decay)\n",
    "            )\n",
    "            self.bn3 = BatchNormalization(\n",
    "                momentum = 0.99, epsilon = 0.001,\n",
    "                beta_initializer = RandomNormal(mean = 0.0, stddev = 0.05),\n",
    "                gamma_initializer = Constant(value = 0.9)\n",
    "            )\n",
    "            \n",
    "            self.conv4 = Conv2D(\n",
    "                filters = num_filters, kernel_size = (3, 3),\n",
    "                activation = None, kernel_initializer = tf.keras.initializers.he_normal(),\n",
    "                strides = (1, 1), padding = 'same',\n",
    "                use_bias = False, kernel_regularizer = regularizers.l2(weight_decay)\n",
    "            )\n",
    "            self.bn4 = BatchNormalization(\n",
    "                momentum = 0.99, epsilon = 0.001,\n",
    "                beta_initializer = RandomNormal(mean = 0.0, stddev = 0.05),\n",
    "                gamma_initializer = Constant(value = 0.9)\n",
    "            )\n",
    "        \n",
    "        self.pool = MaxPooling2D(\n",
    "            pool_size = (2, 2),\n",
    "            strides = (2, 2)\n",
    "        )\n",
    "    \n",
    "    \n",
    "    def call(self, x):\n",
    "        # x = tf.keras.activations.relu(self.bn1(self.conv1(x)))\n",
    "        x = tf.nn.relu(self.bn1(self.conv1(x)))\n",
    "        # x = tf.keras.activations.relu(self.bn2(self.conv2(x)))\n",
    "        x = tf.nn.relu(self.bn2(self.conv2(x)))\n",
    "        if self.use_four_layers:\n",
    "            # x = tf.keras.activations.relu(self.bn3(self.conv3(x)))\n",
    "            x = tf.nn.relu(self.bn3(self.conv3(x)))\n",
    "            # x = tf.keras.activations.relu(self.bn4(self.conv4(x)))\n",
    "            x = tf.nn.relu(self.bn4(self.conv4(x)))\n",
    "            \n",
    "        return self.pool(x)\n",
    "    \n",
    "    \n",
    "    def shape_computation(self, x):\n",
    "        print(f\"Input shape: {x.shape}\")\n",
    "        x = self.conv1(x)\n",
    "        print(f\"Conv1 output shape: {x.shape}\")\n",
    "        x = self.conv2(x)\n",
    "        print(f\"Conv2 output shape: {x.shape}\")\n",
    "        \n",
    "        if self.use_four_layers:\n",
    "            x = self.conv3(x)\n",
    "            print(f\"Conv3 output shape: {x.shape}\")\n",
    "            x = self.conv4(x)\n",
    "            print(f\"Conv4 output shape: {x.shape}\")\n",
    "        \n",
    "        x = self.pool(x)\n",
    "        print(f\"Pool output shape: {x.shape}\")\n",
    "        del x\n",
    "        return None\n",
    "    \n",
    "    "
   ]
  },
  {
   "cell_type": "code",
   "execution_count": null,
   "id": "1b8df31d-d549-4b75-9c9b-25458f99444e",
   "metadata": {},
   "outputs": [],
   "source": []
  },
  {
   "cell_type": "code",
   "execution_count": 19,
   "id": "6faa8821-1224-4496-b147-f27d816e0f9f",
   "metadata": {},
   "outputs": [],
   "source": [
    "class Conv6(Model):\n",
    "    def __init__(self):\n",
    "        super(Conv6, self).__init__()\n",
    "        \n",
    "        self.conv_block1 = ConvBlock(num_filters = 64, use_four_layers = False)\n",
    "        self.conv_block2 = ConvBlock(num_filters = 128, use_four_layers = False)\n",
    "        self.conv_block3 = ConvBlock(num_filters = 256, use_four_layers = True)\n",
    "\n",
    "        self.flatten = Flatten()\n",
    "        \n",
    "        self.dense1 = Dense(\n",
    "            units = 256, activation = None,\n",
    "            kernel_initializer = tf.keras.initializers.he_normal(),\n",
    "            use_bias = False, bias_initializer = 'ones'\n",
    "        )\n",
    "        self.bn1 = BatchNormalization(\n",
    "            momentum = 0.99, epsilon = 0.001,\n",
    "            beta_initializer = RandomNormal(mean = 0.0, stddev = 0.05),\n",
    "            gamma_initializer = Constant(value = 0.9)\n",
    "        )\n",
    "        \n",
    "        self.dense2 = Dense(\n",
    "            units = 256, activation = None,\n",
    "            kernel_initializer = tf.keras.initializers.he_normal(),\n",
    "            use_bias = False, bias_initializer = 'ones'\n",
    "        )\n",
    "        self.bn2 = BatchNormalization(\n",
    "            momentum = 0.99, epsilon = 0.001,\n",
    "            beta_initializer = RandomNormal(mean = 0.0, stddev = 0.05),\n",
    "            gamma_initializer = Constant(value = 0.9)\n",
    "        )\n",
    "        \n",
    "        self.out = Dense(\n",
    "            units = 10, activation = None,\n",
    "            use_bias = True, bias_initializer = 'ones'\n",
    "        )\n",
    "    \n",
    "    \n",
    "    def call(self, x):\n",
    "        x = self.conv_block1(x)\n",
    "        x = self.conv_block2(x)\n",
    "        x = self.conv_block3(x)\n",
    "        x = self.flatten(x)\n",
    "        x = self.bn1(tf.nn.relu(self.dense1(x)))\n",
    "        x = self.bn2(tf.nn.relu(self.dense2(x)))\n",
    "        x = tf.nn.softmax(self.out(x))\n",
    "        return x\n",
    "    \n",
    "    \n",
    "    def shape_computation(self, x):\n",
    "        print(f\"Input shape: {x.shape}\")\n",
    "        x = self.conv_block1(x)\n",
    "        print(f\"conv_block1 output shape: {x.shape}\")\n",
    "        x = self.conv_block2(x)\n",
    "        print(f\"conv_block2 output shape: {x.shape}\")\n",
    "        x = self.conv_block3(x)\n",
    "        print(f\"conv_block3 output shape: {x.shape}\")\n",
    "        x = self.flatten(x)\n",
    "        print(f\"flattened output shape: {x.shape}\")\n",
    "        x = self.dense1(x)\n",
    "        print(f\"dense1 output shape: {x.shape}\")\n",
    "        x = self.dense2(x)\n",
    "        print(f\"dense2 output shape: {x.shape}\")\n",
    "        x = self.out(x)\n",
    "        print(f\"Output shape: {x.shape}\")\n",
    "        del x\n",
    "        return None\n",
    "    \n",
    "    \n",
    "    def model(self):\n",
    "        '''\n",
    "        Overrides 'model()' call.\n",
    "        Output shape is not well-defined when using sub-classing. As a\n",
    "        workaround, this method is implemeted.\n",
    "        '''\n",
    "        x = Input(shape = (32, 32, 3))\n",
    "        return Model(inputs = [x], outputs = self.call(x))\n",
    "        \n",
    "        "
   ]
  },
  {
   "cell_type": "code",
   "execution_count": null,
   "id": "89454ddf-556a-4e66-8b77-478429eb7ff7",
   "metadata": {},
   "outputs": [],
   "source": []
  },
  {
   "cell_type": "code",
   "execution_count": 20,
   "id": "ff0610d8-7f34-4787-8294-c24ea53e0c70",
   "metadata": {},
   "outputs": [],
   "source": [
    "# Initialize an instance of Conv-6 CNN-\n",
    "model = Conv6()\n",
    "# model.build(input_shape = (None, 32, 32, 3))"
   ]
  },
  {
   "cell_type": "code",
   "execution_count": null,
   "id": "b1d4fe90-1d5b-4369-8418-783c61980196",
   "metadata": {},
   "outputs": [],
   "source": []
  },
  {
   "cell_type": "code",
   "execution_count": 21,
   "id": "1973c205-3024-45d7-97d3-c4efdcb0d1be",
   "metadata": {},
   "outputs": [],
   "source": [
    "# Sanity check-\n",
    "x, y = next(iter(train_dataset))"
   ]
  },
  {
   "cell_type": "code",
   "execution_count": 22,
   "id": "77b3881e-5267-45e5-91eb-ae593694e813",
   "metadata": {},
   "outputs": [
    {
     "name": "stderr",
     "output_type": "stream",
     "text": [
      "2022-03-21 22:12:08.308001: I tensorflow/stream_executor/cuda/cuda_dnn.cc:368] Loaded cuDNN version 8302\n",
      "2022-03-21 22:12:09.153956: I tensorflow/stream_executor/cuda/cuda_blas.cc:1786] TensorFloat-32 will be used for the matrix multiplication. This will only be logged once.\n"
     ]
    }
   ],
   "source": [
    "pred = model(x)"
   ]
  },
  {
   "cell_type": "code",
   "execution_count": 23,
   "id": "8294b186-cd2f-411c-a7d3-d19404c593f8",
   "metadata": {},
   "outputs": [
    {
     "data": {
      "text/plain": [
       "(TensorShape([64, 10]), TensorShape([64, 10]))"
      ]
     },
     "execution_count": 23,
     "metadata": {},
     "output_type": "execute_result"
    }
   ],
   "source": [
    "pred.shape, y.shape"
   ]
  },
  {
   "cell_type": "code",
   "execution_count": 24,
   "id": "9c8ed1db-0f62-4908-8845-02f5c3e5e786",
   "metadata": {},
   "outputs": [
    {
     "name": "stdout",
     "output_type": "stream",
     "text": [
      "Input shape: (64, 32, 32, 3)\n",
      "conv_block1 output shape: (64, 16, 16, 64)\n",
      "conv_block2 output shape: (64, 8, 8, 128)\n",
      "conv_block3 output shape: (64, 4, 4, 256)\n",
      "flattened output shape: (64, 4096)\n",
      "dense1 output shape: (64, 256)\n",
      "dense2 output shape: (64, 256)\n",
      "Output shape: (64, 10)\n"
     ]
    }
   ],
   "source": [
    "model.shape_computation(x)"
   ]
  },
  {
   "cell_type": "code",
   "execution_count": null,
   "id": "ce1d745a-1f18-4a20-b72a-45bf799ba6b6",
   "metadata": {},
   "outputs": [],
   "source": []
  },
  {
   "cell_type": "code",
   "execution_count": 25,
   "id": "e64516a1-21fe-453f-9a82-660d1a62b174",
   "metadata": {},
   "outputs": [],
   "source": [
    "del x, y, pred"
   ]
  },
  {
   "cell_type": "code",
   "execution_count": null,
   "id": "e1da2ab2-079a-474a-8fba-1502cc9f9fc0",
   "metadata": {},
   "outputs": [],
   "source": []
  },
  {
   "cell_type": "code",
   "execution_count": null,
   "id": "3debe49d-377b-4954-ab41-3f5c94c4c46e",
   "metadata": {},
   "outputs": [],
   "source": []
  },
  {
   "cell_type": "code",
   "execution_count": 26,
   "id": "1b301b94-5fdc-427d-897d-3956980e0bd8",
   "metadata": {
    "id": "859c6acb"
   },
   "outputs": [],
   "source": [
    "# Save current weights-\n",
    "model.save_weights(\"Conv6_random_weights.h5\", overwrite = True)"
   ]
  },
  {
   "cell_type": "code",
   "execution_count": null,
   "id": "3597044e-9eb8-48f6-bdb2-07a5825c9522",
   "metadata": {
    "id": "3f4477c7"
   },
   "outputs": [],
   "source": [
    "# model.load_weights(\"Conv6_random_weights.h5\")"
   ]
  },
  {
   "cell_type": "code",
   "execution_count": null,
   "id": "88cd0339-af43-4e01-b463-e2cb74911abb",
   "metadata": {
    "id": "b7a70b2d"
   },
   "outputs": [],
   "source": []
  },
  {
   "cell_type": "code",
   "execution_count": 27,
   "id": "6aa463dd-f95a-4438-9895-bcee424dcd37",
   "metadata": {
    "colab": {
     "base_uri": "https://localhost:8080/"
    },
    "id": "8a962340",
    "outputId": "1827812b-c864-462b-e295-609a23193891"
   },
   "outputs": [
    {
     "name": "stdout",
     "output_type": "stream",
     "text": [
      "Model: \"model\"\n",
      "_________________________________________________________________\n",
      " Layer (type)                Output Shape              Param #   \n",
      "=================================================================\n",
      " input_1 (InputLayer)        [(None, 32, 32, 3)]       0         \n",
      "                                                                 \n",
      " conv_block (ConvBlock)      (None, 16, 16, 64)        39104     \n",
      "                                                                 \n",
      " conv_block_1 (ConvBlock)    (None, 8, 8, 128)         222208    \n",
      "                                                                 \n",
      " conv_block_2 (ConvBlock)    (None, 4, 4, 256)         2068480   \n",
      "                                                                 \n",
      " flatten (Flatten)           (None, 4096)              0         \n",
      "                                                                 \n",
      " dense (Dense)               (None, 256)               1048576   \n",
      "                                                                 \n",
      " tf.nn.relu (TFOpLambda)     (None, 256)               0         \n",
      "                                                                 \n",
      " batch_normalization_8 (Batc  (None, 256)              1024      \n",
      " hNormalization)                                                 \n",
      "                                                                 \n",
      " dense_1 (Dense)             (None, 256)               65536     \n",
      "                                                                 \n",
      " tf.nn.relu_1 (TFOpLambda)   (None, 256)               0         \n",
      "                                                                 \n",
      " batch_normalization_9 (Batc  (None, 256)              1024      \n",
      " hNormalization)                                                 \n",
      "                                                                 \n",
      " dense_2 (Dense)             (None, 10)                2570      \n",
      "                                                                 \n",
      " tf.nn.softmax (TFOpLambda)  (None, 10)                0         \n",
      "                                                                 \n",
      "=================================================================\n",
      "Total params: 3,448,522\n",
      "Trainable params: 3,444,682\n",
      "Non-trainable params: 3,840\n",
      "_________________________________________________________________\n"
     ]
    }
   ],
   "source": [
    "# Get CNN model summary-\n",
    "model.model().summary()"
   ]
  },
  {
   "cell_type": "code",
   "execution_count": 28,
   "id": "8c51dcd4-963a-4548-b643-860ad96ef9fa",
   "metadata": {
    "colab": {
     "base_uri": "https://localhost:8080/"
    },
    "id": "6eb175e6",
    "outputId": "dc602f53-bcd7-4b66-d6b5-b7e3f7b9881f"
   },
   "outputs": [
    {
     "name": "stdout",
     "output_type": "stream",
     "text": [
      "layer: (3, 3, 3, 64) has 1728 params\n",
      "layer: (64,) has 64 params\n",
      "layer: (64,) has 64 params\n",
      "layer: (3, 3, 64, 64) has 36864 params\n",
      "layer: (64,) has 64 params\n",
      "layer: (64,) has 64 params\n",
      "layer: (3, 3, 64, 128) has 73728 params\n",
      "layer: (128,) has 128 params\n",
      "layer: (128,) has 128 params\n",
      "layer: (3, 3, 128, 128) has 147456 params\n",
      "layer: (128,) has 128 params\n",
      "layer: (128,) has 128 params\n",
      "layer: (3, 3, 128, 256) has 294912 params\n",
      "layer: (256,) has 256 params\n",
      "layer: (256,) has 256 params\n",
      "layer: (3, 3, 256, 256) has 589824 params\n",
      "layer: (256,) has 256 params\n",
      "layer: (256,) has 256 params\n",
      "layer: (3, 3, 256, 256) has 589824 params\n",
      "layer: (256,) has 256 params\n",
      "layer: (256,) has 256 params\n",
      "layer: (3, 3, 256, 256) has 589824 params\n",
      "layer: (256,) has 256 params\n",
      "layer: (256,) has 256 params\n",
      "layer: (4096, 256) has 1048576 params\n",
      "layer: (256,) has 256 params\n",
      "layer: (256,) has 256 params\n",
      "layer: (256, 256) has 65536 params\n",
      "layer: (256,) has 256 params\n",
      "layer: (256,) has 256 params\n",
      "layer: (256, 10) has 2560 params\n",
      "layer: (10,) has 10 params\n"
     ]
    }
   ],
   "source": [
    "# Count number of trainable parameters in VGG-18 model-\n",
    "tot_params = 0\n",
    "\n",
    "for layer in model.trainable_weights:\n",
    "    loc_params = tf.math.count_nonzero(layer, axis = None).numpy()\n",
    "    print(f\"layer: {layer.shape} has {loc_params} params\")\n",
    "    tot_params += loc_params"
   ]
  },
  {
   "cell_type": "code",
   "execution_count": 29,
   "id": "2aca061d-68b1-4b28-8e6e-b436c5efc17e",
   "metadata": {
    "colab": {
     "base_uri": "https://localhost:8080/"
    },
    "id": "76a4b3ea",
    "outputId": "5411b85b-9a1f-4d53-fae4-b5947bae94c1"
   },
   "outputs": [
    {
     "name": "stdout",
     "output_type": "stream",
     "text": [
      "Conv-6 has 3444682 trainable parameters\n"
     ]
    }
   ],
   "source": [
    "print(f\"Conv-6 has {tot_params} trainable parameters\")"
   ]
  },
  {
   "cell_type": "code",
   "execution_count": null,
   "id": "b2360b21-cea0-4431-9b33-959f4886b181",
   "metadata": {
    "id": "0eab7d5e"
   },
   "outputs": [],
   "source": []
  },
  {
   "cell_type": "code",
   "execution_count": 30,
   "id": "b4deed95-7ffb-4707-8a92-96caea3e99ab",
   "metadata": {
    "colab": {
     "base_uri": "https://localhost:8080/"
    },
    "id": "1f2ad647",
    "outputId": "6e0e618c-4d1e-49fc-dbf4-8b84850d73f4"
   },
   "outputs": [
    {
     "name": "stdout",
     "output_type": "stream",
     "text": [
      "\n",
      "Number of training weights = 3444682 and non-trainabel weights = 3840\n",
      "\n",
      "Total number of parameters = 3448522\n",
      "\n"
     ]
    }
   ],
   "source": [
    "import tensorflow.keras.backend as K\n",
    "\n",
    "\n",
    "# METHOD-1: This also counts biases\n",
    "trainable_wts = np.sum([K.count_params(w) for w in model.trainable_weights])\n",
    "non_trainable_wts = np.sum([K.count_params(w) for w in model.non_trainable_weights])\n",
    "\n",
    "print(\"\\nNumber of training weights = {0} and non-trainabel weights = {1}\\n\".format(\n",
    "    trainable_wts, non_trainable_wts\n",
    "))\n",
    "print(\"Total number of parameters = {0}\\n\".format(trainable_wts + non_trainable_wts))\n"
   ]
  },
  {
   "cell_type": "code",
   "execution_count": 31,
   "id": "c67cc721-311a-42ef-868e-773db1186d09",
   "metadata": {
    "colab": {
     "base_uri": "https://localhost:8080/"
    },
    "id": "5e2ecb6a",
    "outputId": "f62d47c3-e2e5-449a-b735-dd2edb3381b8"
   },
   "outputs": [
    {
     "name": "stdout",
     "output_type": "stream",
     "text": [
      "\n",
      "According to tf.keras.backend: Number of training weights = 3444682, non-trainabel weights = 3840 and total number of parameters = 3448522\n",
      "\n",
      "According to tf.math.count_nonzero() method, total number of trainable weights = 3444682\n",
      "\n"
     ]
    }
   ],
   "source": [
    "print(\"\\nAccording to tf.keras.backend: Number of training weights = {0}, non-trainabel weights = {1} and total number of parameters = {2}\\n\".format(\n",
    "    trainable_wts, non_trainable_wts, (trainable_wts + non_trainable_wts)\n",
    "))\n",
    "\n",
    "print(\"According to tf.math.count_nonzero() method, total number of trainable weights = {0}\\n\".format(tot_params))"
   ]
  },
  {
   "cell_type": "code",
   "execution_count": null,
   "id": "fc05d030-c133-45b3-b7b9-53d45fa8138c",
   "metadata": {},
   "outputs": [],
   "source": []
  },
  {
   "cell_type": "code",
   "execution_count": null,
   "id": "0d5f2c65-10e4-4c5f-96ba-800e7e75aada",
   "metadata": {},
   "outputs": [],
   "source": []
  },
  {
   "cell_type": "code",
   "execution_count": 32,
   "id": "7b08c9c8-b454-45e8-8888-864adb1eb116",
   "metadata": {},
   "outputs": [],
   "source": [
    "def create_first_mask_np(model):\n",
    "    # Function to create numpy masks of all 1s\n",
    "    # using TF2 neural network 'model' as input.\n",
    "    \n",
    "    # Python3 list to contain masks-\n",
    "    mask_model = []\n",
    "    \n",
    "    # Iterate through the model and for each trainable layer,\n",
    "    # initialize all parameters to 1-\n",
    "    for layer in model.trainable_weights:\n",
    "        m = np.ones_like(layer, dtype = np.int8)\n",
    "        mask_model.append(m)\n",
    "        \n",
    "    return mask_model\n"
   ]
  },
  {
   "cell_type": "code",
   "execution_count": null,
   "id": "fd7ca8cf-3f24-4352-91bd-f49db4246be1",
   "metadata": {},
   "outputs": [],
   "source": []
  },
  {
   "cell_type": "code",
   "execution_count": 33,
   "id": "e4dbab55-cba5-4480-8951-f60a3de2e7a6",
   "metadata": {},
   "outputs": [],
   "source": [
    "# Sanity check-\n",
    "mask_model = create_first_mask_np(model = model)"
   ]
  },
  {
   "cell_type": "code",
   "execution_count": 34,
   "id": "6daeb795-67e2-439e-be56-f0619aa1225b",
   "metadata": {},
   "outputs": [
    {
     "name": "stdout",
     "output_type": "stream",
     "text": [
      "layer.shape: (3, 3, 3, 64), mask.shape: (3, 3, 3, 64)\n",
      "layer.shape: (64,), mask.shape: (64,)\n",
      "layer.shape: (64,), mask.shape: (64,)\n",
      "layer.shape: (3, 3, 64, 64), mask.shape: (3, 3, 64, 64)\n",
      "layer.shape: (64,), mask.shape: (64,)\n",
      "layer.shape: (64,), mask.shape: (64,)\n",
      "layer.shape: (3, 3, 64, 128), mask.shape: (3, 3, 64, 128)\n",
      "layer.shape: (128,), mask.shape: (128,)\n",
      "layer.shape: (128,), mask.shape: (128,)\n",
      "layer.shape: (3, 3, 128, 128), mask.shape: (3, 3, 128, 128)\n",
      "layer.shape: (128,), mask.shape: (128,)\n",
      "layer.shape: (128,), mask.shape: (128,)\n",
      "layer.shape: (3, 3, 128, 256), mask.shape: (3, 3, 128, 256)\n",
      "layer.shape: (256,), mask.shape: (256,)\n",
      "layer.shape: (256,), mask.shape: (256,)\n",
      "layer.shape: (3, 3, 256, 256), mask.shape: (3, 3, 256, 256)\n",
      "layer.shape: (256,), mask.shape: (256,)\n",
      "layer.shape: (256,), mask.shape: (256,)\n",
      "layer.shape: (3, 3, 256, 256), mask.shape: (3, 3, 256, 256)\n",
      "layer.shape: (256,), mask.shape: (256,)\n",
      "layer.shape: (256,), mask.shape: (256,)\n",
      "layer.shape: (3, 3, 256, 256), mask.shape: (3, 3, 256, 256)\n",
      "layer.shape: (256,), mask.shape: (256,)\n",
      "layer.shape: (256,), mask.shape: (256,)\n",
      "layer.shape: (4096, 256), mask.shape: (4096, 256)\n",
      "layer.shape: (256,), mask.shape: (256,)\n",
      "layer.shape: (256,), mask.shape: (256,)\n",
      "layer.shape: (256, 256), mask.shape: (256, 256)\n",
      "layer.shape: (256,), mask.shape: (256,)\n",
      "layer.shape: (256,), mask.shape: (256,)\n",
      "layer.shape: (256, 10), mask.shape: (256, 10)\n",
      "layer.shape: (10,), mask.shape: (10,)\n"
     ]
    }
   ],
   "source": [
    "# Sanity check-\n",
    "for layer, x in zip(model.trainable_weights, mask_model):\n",
    "    print(f\"layer.shape: {layer.shape}, mask.shape: {x.shape}\")\n"
   ]
  },
  {
   "cell_type": "code",
   "execution_count": null,
   "id": "38ea3a98-df6d-416f-8f59-5f5d45216cf6",
   "metadata": {},
   "outputs": [],
   "source": []
  },
  {
   "cell_type": "code",
   "execution_count": 35,
   "id": "daf43ce0-8cc6-4e27-bc94-19e5108f342a",
   "metadata": {},
   "outputs": [],
   "source": [
    "def count_nonzero_masks(mask_model):\n",
    "    # Count non-zero masks using Python3 'mask_model'\n",
    "    # as input.\n",
    "    \n",
    "    tot_masks = 0\n",
    "    for x in mask_model:\n",
    "        loc_masks = np.count_nonzero(x)\n",
    "        tot_masks += loc_masks\n",
    "        # print(f\"mask.shape: {x.shape} has {np.count_nonzero(x)} masks\")\n",
    "        \n",
    "    return tot_masks\n"
   ]
  },
  {
   "cell_type": "code",
   "execution_count": 36,
   "id": "44ed7ab6-8d2a-4eaa-b5c8-e304298aa7db",
   "metadata": {},
   "outputs": [],
   "source": [
    "def count_nonzero_params(model):\n",
    "    # Count non-zero trainable parameters using\n",
    "    # TF2 'model' as input.\n",
    "    \n",
    "    tot_params = 0\n",
    "    \n",
    "    for layer in model.trainable_weights:\n",
    "        loc_params = tf.math.count_nonzero(layer, axis = None).numpy()\n",
    "        tot_params += loc_params\n",
    "    \n",
    "    return tot_params\n"
   ]
  },
  {
   "cell_type": "code",
   "execution_count": null,
   "id": "3417b2e7-1db5-4fe7-91ae-07b31fa14a96",
   "metadata": {},
   "outputs": [],
   "source": []
  },
  {
   "cell_type": "code",
   "execution_count": 37,
   "id": "adb57147-410b-41c4-973a-d9b51d678cc2",
   "metadata": {},
   "outputs": [
    {
     "name": "stdout",
     "output_type": "stream",
     "text": [
      "Conv-6 has 3444682 trainable parameters & 3444682 masks\n"
     ]
    }
   ],
   "source": [
    "# Sanity check-\n",
    "print(f\"Conv-6 has {count_nonzero_params(model)} trainable parameters\"\n",
    "      f\" & {count_nonzero_masks(mask_model)} masks\"\n",
    "     )"
   ]
  },
  {
   "cell_type": "code",
   "execution_count": null,
   "id": "65b3a62e-73e4-4c00-b91b-f709d0d7370f",
   "metadata": {
    "id": "312f2434"
   },
   "outputs": [],
   "source": []
  },
  {
   "cell_type": "code",
   "execution_count": null,
   "id": "0c3ea1b5-d88f-4224-b7eb-d687c0d878a4",
   "metadata": {},
   "outputs": [],
   "source": []
  },
  {
   "cell_type": "markdown",
   "id": "ad2ef407-47ec-46db-851a-e1c04901b83b",
   "metadata": {
    "id": "6a62c93a"
   },
   "source": [
    "### Image Augmentation using _ImageDataGenerator_:\n",
    "\n",
    "Refer-\n",
    "[tf.keras.preprocessing.image.ImageDataGenerator](https://www.tensorflow.org/api_docs/python/tf/keras/preprocessing/image/ImageDataGenerator)"
   ]
  },
  {
   "cell_type": "code",
   "execution_count": 38,
   "id": "eafb3f97-c1a4-4ad2-a675-3f74f4cf2cab",
   "metadata": {
    "id": "c0dd49f0"
   },
   "outputs": [],
   "source": [
    "# Example of using 'tf.keras.preprocessing.image import ImageDataGenerator class's - flow(x, y)':\n",
    "datagen = ImageDataGenerator(\n",
    "    # featurewise_center=True,\n",
    "    # featurewise_std_normalization=True,\n",
    "    rotation_range = 15,\n",
    "    width_shift_range = 0.1, # 0.2\n",
    "    height_shift_range = 0.1, # 0.2\n",
    "    horizontal_flip = True\n",
    ")\n",
    "\n",
    "\n",
    "# flow():\n",
    "# Takes data & label arrays, generates batches of augmented data.\n",
    "\n",
    "# datagen.flow(X_train, y_train, batch_size=batch_size, shuffle=True)"
   ]
  },
  {
   "cell_type": "code",
   "execution_count": 39,
   "id": "8eca5f25-34ee-4df0-b3b6-0431a6d778d8",
   "metadata": {
    "id": "f765255d"
   },
   "outputs": [],
   "source": [
    "# compute quantities required for featurewise normalization\n",
    "# (std, mean, and principal components if ZCA whitening is applied)\n",
    "datagen.fit(X_train)"
   ]
  },
  {
   "cell_type": "code",
   "execution_count": null,
   "id": "a7fbc0e8-89ba-4c25-b116-6346c0cb7d7c",
   "metadata": {
    "id": "d3408019"
   },
   "outputs": [],
   "source": []
  },
  {
   "cell_type": "code",
   "execution_count": null,
   "id": "f14109d9-5849-45cf-9c99-9ff674c6c899",
   "metadata": {},
   "outputs": [],
   "source": []
  },
  {
   "cell_type": "markdown",
   "id": "e8075ce4-1bb9-4fd4-9e4d-7a3357da0b4a",
   "metadata": {},
   "source": [
    "### Train neural network with _tf.GradientTape()_ and _masks_"
   ]
  },
  {
   "cell_type": "code",
   "execution_count": 40,
   "id": "3b7bdae2-141a-4280-8ef6-5bc4f79ce48e",
   "metadata": {},
   "outputs": [],
   "source": [
    "@tf.function\n",
    "def train_one_step(model, mask_model, optimizer, x, y):\n",
    "    '''\n",
    "    Compute one training step/iteration of gradient descent optimization.\n",
    "    \n",
    "    Input arguments-\n",
    "    1. model - TF2 model\n",
    "    2. mask_model - Python3 list containing np arrays of type int8\n",
    "    3. optimizer - gradient descent optimizer\n",
    "    '''\n",
    "    \n",
    "    with tf.GradientTape() as tape:\n",
    "        # Predict with defined model-\n",
    "        pred = model(x)\n",
    "        \n",
    "        # Compute loss-\n",
    "        loss = loss_fn(y, pred)\n",
    "        \n",
    "    # Compute gradients wrt defined loss and weights & biases-\n",
    "    grads = tape.gradient(loss, model.trainable_variables)\n",
    "    \n",
    "    # type(grads)-\n",
    "    # list\n",
    "    \n",
    "    # List to hold element-wise multiplication between-\n",
    "    # computed gradient and masks-\n",
    "    grad_mask_mul = []\n",
    "    \n",
    "    # Perform element-wise multiplication between computed gradients and masks-\n",
    "    '''\n",
    "    for grad_layer, mask in zip(grads, mask_model.trainable_weights):\n",
    "        grad_mask_mul.append(tf.math.multiply(grad_layer, mask))\n",
    "    '''\n",
    "    for grad_layer, mask in zip(grads, mask_model):\n",
    "        grad_mask_mul.append(\n",
    "            tf.math.multiply(\n",
    "                grad_layer, tf.cast(x = mask, dtype = tf.float32)\n",
    "                # grad_layer, tf.convert_to_tensor(value = mask, dtype = tf.float32)\n",
    "            )\n",
    "        )\n",
    "    \n",
    "    # Apply computed gradients to model's weights and biases-\n",
    "    optimizer.apply_gradients(zip(grad_mask_mul, model.trainable_variables))\n",
    "    \n",
    "    # Compute metrics-\n",
    "    train_loss(loss)\n",
    "    train_accuracy(y, pred)\n",
    "    \n",
    "    return None\n",
    "    "
   ]
  },
  {
   "cell_type": "code",
   "execution_count": 41,
   "id": "92992652-04d6-456f-9ce0-d5696ebe1d6b",
   "metadata": {},
   "outputs": [],
   "source": [
    "@tf.function\n",
    "def test_step(model, optimizer, data, labels):\n",
    "    '''\n",
    "    Compute (trained) model performance on testing dataset\n",
    "    '''\n",
    "    \n",
    "    # Make predictions-\n",
    "    predictions = model(data)\n",
    "    \n",
    "    # Compute loss-\n",
    "    t_loss = loss_fn(labels, predictions)\n",
    "\n",
    "    # Compute metrics-\n",
    "    test_loss(t_loss)\n",
    "    test_accuracy(labels, predictions)\n",
    "\n",
    "    return None\n"
   ]
  },
  {
   "cell_type": "code",
   "execution_count": null,
   "id": "54a19510-f779-4c35-9154-26ecb803a433",
   "metadata": {},
   "outputs": [],
   "source": []
  },
  {
   "cell_type": "code",
   "execution_count": null,
   "id": "ad8eb596-0012-443c-b787-74c3b7628024",
   "metadata": {},
   "outputs": [],
   "source": []
  },
  {
   "cell_type": "code",
   "execution_count": 44,
   "id": "fec8b687-0553-4ad0-a8ed-2354c2cae0a3",
   "metadata": {},
   "outputs": [],
   "source": [
    "# User input parameters for Early Stopping in manual implementation-\n",
    "minimum_delta = 0.001\n",
    "patience = 5"
   ]
  },
  {
   "cell_type": "code",
   "execution_count": 45,
   "id": "8aad5462-b683-4dcc-98dc-73ce614fc021",
   "metadata": {},
   "outputs": [],
   "source": [
    "# Initialize parameters for Early Stopping manual implementation-\n",
    "best_val_acc = 0\n",
    "loc_patience = 0    "
   ]
  },
  {
   "cell_type": "code",
   "execution_count": null,
   "id": "823db434-ba89-4d74-8afc-f6030ca8cf99",
   "metadata": {},
   "outputs": [],
   "source": []
  },
  {
   "cell_type": "code",
   "execution_count": null,
   "id": "e89607e6-2c85-4278-928a-0a90d923a7da",
   "metadata": {},
   "outputs": [],
   "source": []
  },
  {
   "cell_type": "code",
   "execution_count": 46,
   "id": "951f1ff9-1d9b-459b-aca8-991ab6bd7c4e",
   "metadata": {},
   "outputs": [],
   "source": [
    "# Python3 dict to contain training metrics-\n",
    "train_hist = {}"
   ]
  },
  {
   "cell_type": "code",
   "execution_count": 47,
   "id": "26c2580f-4994-4d66-bb37-3944ab979c95",
   "metadata": {},
   "outputs": [
    {
     "name": "stdout",
     "output_type": "stream",
     "text": [
      "Train model for 80 epochs\n"
     ]
    }
   ],
   "source": [
    "print(f\"Train model for {num_epochs} epochs\")"
   ]
  },
  {
   "cell_type": "code",
   "execution_count": null,
   "id": "8977ccf7-042a-47b7-9e25-9227d3d4b21d",
   "metadata": {},
   "outputs": [],
   "source": []
  },
  {
   "cell_type": "code",
   "execution_count": null,
   "id": "9958f1e8-815a-460d-a530-973d4e2a798f",
   "metadata": {},
   "outputs": [],
   "source": []
  },
  {
   "cell_type": "code",
   "execution_count": 48,
   "id": "3cefa588-ec5b-4769-b4b3-b03cbcea30f3",
   "metadata": {},
   "outputs": [
    {
     "name": "stdout",
     "output_type": "stream",
     "text": [
      "\n",
      "Epoch = 1; loss = 1.6948, accuracy = 37.262%  val loss = 1.3549, val acc = 50.820% LR = 0.010000 & step_val = 781\n",
      "Conv-6: total # of trainable parameters = 3444682\n",
      "Saving model with highest val_acc = 50.820%\n",
      "\n",
      "\n",
      "Epoch = 2; loss = 1.2718, accuracy = 53.989%  val loss = 1.0299, val acc = 63.260% LR = 0.010000 & step_val = 1562\n",
      "Conv-6: total # of trainable parameters = 3444682\n",
      "Saving model with highest val_acc = 63.260%\n",
      "\n",
      "\n",
      "Epoch = 3; loss = 1.0558, accuracy = 62.422%  val loss = 0.9625, val acc = 66.900% LR = 0.010000 & step_val = 2343\n",
      "Conv-6: total # of trainable parameters = 3444682\n",
      "Saving model with highest val_acc = 66.900%\n",
      "\n",
      "\n",
      "Epoch = 4; loss = 0.9028, accuracy = 68.186%  val loss = 0.7602, val acc = 74.010% LR = 0.010000 & step_val = 3124\n",
      "Conv-6: total # of trainable parameters = 3444682\n",
      "Saving model with highest val_acc = 74.010%\n",
      "\n",
      "\n",
      "Epoch = 5; loss = 0.8024, accuracy = 71.827%  val loss = 0.7168, val acc = 76.010% LR = 0.010000 & step_val = 3905\n",
      "Conv-6: total # of trainable parameters = 3444682\n",
      "Saving model with highest val_acc = 76.010%\n",
      "\n",
      "\n",
      "Epoch = 6; loss = 0.7209, accuracy = 74.940%  val loss = 0.6631, val acc = 77.330% LR = 0.010000 & step_val = 4686\n",
      "Conv-6: total # of trainable parameters = 3444682\n",
      "Saving model with highest val_acc = 77.330%\n",
      "\n",
      "\n",
      "Epoch = 7; loss = 0.6584, accuracy = 77.081%  val loss = 0.6424, val acc = 78.330% LR = 0.010000 & step_val = 5467\n",
      "Conv-6: total # of trainable parameters = 3444682\n",
      "Saving model with highest val_acc = 78.330%\n",
      "\n",
      "\n",
      "Epoch = 8; loss = 0.6186, accuracy = 78.581%  val loss = 0.6710, val acc = 78.040% LR = 0.010000 & step_val = 6248\n",
      "Conv-6: total # of trainable parameters = 3444682\n",
      "\n",
      "Epoch = 9; loss = 0.5725, accuracy = 80.054%  val loss = 0.5369, val acc = 82.390% LR = 0.010000 & step_val = 7029\n",
      "Conv-6: total # of trainable parameters = 3444682\n",
      "Saving model with highest val_acc = 82.390%\n",
      "\n",
      "\n",
      "Epoch = 10; loss = 0.5407, accuracy = 81.298%  val loss = 0.6012, val acc = 80.540% LR = 0.010000 & step_val = 7810\n",
      "Conv-6: total # of trainable parameters = 3444682\n",
      "\n",
      "Epoch = 11; loss = 0.5104, accuracy = 82.284%  val loss = 0.5494, val acc = 82.070% LR = 0.010000 & step_val = 8591\n",
      "Conv-6: total # of trainable parameters = 3444682\n",
      "\n",
      "Epoch = 12; loss = 0.4830, accuracy = 83.377%  val loss = 0.5056, val acc = 83.180% LR = 0.010000 & step_val = 9372\n",
      "Conv-6: total # of trainable parameters = 3444682\n",
      "Saving model with highest val_acc = 83.180%\n",
      "\n",
      "\n",
      "Epoch = 13; loss = 0.4623, accuracy = 84.057%  val loss = 0.5631, val acc = 82.040% LR = 0.010000 & step_val = 10153\n",
      "Conv-6: total # of trainable parameters = 3444682\n",
      "\n",
      "Epoch = 14; loss = 0.4364, accuracy = 84.813%  val loss = 0.5182, val acc = 83.290% LR = 0.010000 & step_val = 10934\n",
      "Conv-6: total # of trainable parameters = 3444682\n",
      "Saving model with highest val_acc = 83.290%\n",
      "\n",
      "\n",
      "Epoch = 15; loss = 0.4193, accuracy = 85.367%  val loss = 0.5234, val acc = 82.960% LR = 0.010000 & step_val = 11715\n",
      "Conv-6: total # of trainable parameters = 3444682\n",
      "\n",
      "Epoch = 16; loss = 0.3991, accuracy = 86.146%  val loss = 0.4548, val acc = 85.120% LR = 0.010000 & step_val = 12496\n",
      "Conv-6: total # of trainable parameters = 3444682\n",
      "Saving model with highest val_acc = 85.120%\n",
      "\n",
      "\n",
      "Epoch = 17; loss = 0.3779, accuracy = 86.808%  val loss = 0.4761, val acc = 85.090% LR = 0.010000 & step_val = 13277\n",
      "Conv-6: total # of trainable parameters = 3444682\n",
      "\n",
      "Epoch = 18; loss = 0.3712, accuracy = 87.126%  val loss = 0.4684, val acc = 85.510% LR = 0.010000 & step_val = 14058\n",
      "Conv-6: total # of trainable parameters = 3444682\n",
      "Saving model with highest val_acc = 85.510%\n",
      "\n",
      "\n",
      "Epoch = 19; loss = 0.3487, accuracy = 87.902%  val loss = 0.4476, val acc = 85.710% LR = 0.010000 & step_val = 14839\n",
      "Conv-6: total # of trainable parameters = 3444682\n",
      "Saving model with highest val_acc = 85.710%\n",
      "\n",
      "\n",
      "Epoch = 20; loss = 0.3341, accuracy = 88.422%  val loss = 0.4819, val acc = 84.830% LR = 0.010000 & step_val = 15620\n",
      "Conv-6: total # of trainable parameters = 3444682\n",
      "\n",
      "Epoch = 21; loss = 0.3233, accuracy = 88.654%  val loss = 0.4893, val acc = 84.780% LR = 0.010000 & step_val = 16401\n",
      "Conv-6: total # of trainable parameters = 3444682\n",
      "\n",
      "Epoch = 22; loss = 0.3109, accuracy = 89.239%  val loss = 0.4679, val acc = 85.650% LR = 0.010000 & step_val = 17182\n",
      "Conv-6: total # of trainable parameters = 3444682\n",
      "\n",
      "Epoch = 23; loss = 0.3050, accuracy = 89.089%  val loss = 0.4149, val acc = 86.690% LR = 0.010000 & step_val = 17963\n",
      "Conv-6: total # of trainable parameters = 3444682\n",
      "Saving model with highest val_acc = 86.690%\n",
      "\n",
      "\n",
      "Epoch = 24; loss = 0.2884, accuracy = 90.043%  val loss = 0.5255, val acc = 84.460% LR = 0.010000 & step_val = 18744\n",
      "Conv-6: total # of trainable parameters = 3444682\n",
      "\n",
      "Epoch = 25; loss = 0.2826, accuracy = 90.081%  val loss = 0.5314, val acc = 84.630% LR = 0.010000 & step_val = 19525\n",
      "Conv-6: total # of trainable parameters = 3444682\n",
      "\n",
      "Epoch = 26; loss = 0.2727, accuracy = 90.277%  val loss = 0.4425, val acc = 86.300% LR = 0.010000 & step_val = 20306\n",
      "Conv-6: total # of trainable parameters = 3444682\n",
      "\n",
      "Epoch = 27; loss = 0.2650, accuracy = 90.643%  val loss = 0.4121, val acc = 87.270% LR = 0.010000 & step_val = 21087\n",
      "Conv-6: total # of trainable parameters = 3444682\n",
      "Saving model with highest val_acc = 87.270%\n",
      "\n",
      "\n",
      "Epoch = 28; loss = 0.2539, accuracy = 91.085%  val loss = 0.4969, val acc = 84.970% LR = 0.010000 & step_val = 21868\n",
      "Conv-6: total # of trainable parameters = 3444682\n",
      "\n",
      "Epoch = 29; loss = 0.2407, accuracy = 91.585%  val loss = 0.4186, val acc = 87.640% LR = 0.010000 & step_val = 22649\n",
      "Conv-6: total # of trainable parameters = 3444682\n",
      "Saving model with highest val_acc = 87.640%\n",
      "\n",
      "\n",
      "Epoch = 30; loss = 0.2325, accuracy = 91.945%  val loss = 0.4913, val acc = 86.250% LR = 0.010000 & step_val = 23430\n",
      "Conv-6: total # of trainable parameters = 3444682\n",
      "\n",
      "Epoch = 31; loss = 0.2284, accuracy = 92.007%  val loss = 0.4906, val acc = 85.950% LR = 0.010000 & step_val = 24211\n",
      "Conv-6: total # of trainable parameters = 3444682\n",
      "\n",
      "Epoch = 32; loss = 0.2218, accuracy = 92.200%  val loss = 0.4647, val acc = 87.120% LR = 0.010000 & step_val = 24992\n",
      "Conv-6: total # of trainable parameters = 3444682\n",
      "\n",
      "Epoch = 33; loss = 0.2170, accuracy = 92.446%  val loss = 0.4357, val acc = 86.970% LR = 0.010000 & step_val = 25773\n",
      "Conv-6: total # of trainable parameters = 3444682\n",
      "\n",
      "Epoch = 34; loss = 0.2020, accuracy = 92.878%  val loss = 0.4418, val acc = 87.570% LR = 0.010000 & step_val = 26554\n",
      "Conv-6: total # of trainable parameters = 3444682\n",
      "\n",
      "'EarlyStopping' called!\n",
      "\n"
     ]
    }
   ],
   "source": [
    "for epoch in range(num_epochs):\n",
    "    \n",
    "    if loc_patience >= patience:\n",
    "        print(\"\\n'EarlyStopping' called!\\n\")\n",
    "        break\n",
    "    \n",
    "    \n",
    "    # Reset the metrics at the start of the next epoch\n",
    "    train_loss.reset_states()\n",
    "    train_accuracy.reset_states()\n",
    "    test_loss.reset_states()\n",
    "    test_accuracy.reset_states()\n",
    "    \n",
    "    # variable to keep track of current training step-\n",
    "    curr_step = 0\n",
    "    \n",
    "    # Train using data augmentation (ImageDataGenerator())-\n",
    "    for x, y in datagen.flow(X_train, y_train, batch_size = batch_size, shuffle = True):\n",
    "        train_one_step(model, mask_model, optimizer, x, y)\n",
    "        # print(\"current step = \", curr_step)\n",
    "        curr_step += 1\n",
    "        \n",
    "        # break out of infinite loop to end current training epoch-\n",
    "        if curr_step >= X_train.shape[0] // batch_size:\n",
    "            # print(\"\\nTerminating training (datagen.flow())\")\n",
    "            break\n",
    "\n",
    "    # Testing dataset-\n",
    "    for x_t, y_t in test_dataset:\n",
    "        test_step(model, optimizer, x_t, y_t)\n",
    "    \n",
    "    print(f\"\\nEpoch = {epoch + 1}; loss = {train_loss.result().numpy():.4f}, accuracy = {train_accuracy.result().numpy() * 100:.3f}%\",\n",
    "          f\" val loss = {test_loss.result().numpy():.4f}, val acc = {test_accuracy.result().numpy() * 100:.3f}%\"\n",
    "          f\" LR = {optimizer._decayed_lr('float32').numpy():.6f} & step_val = {optimizer.iterations.numpy()}\"\n",
    "         )\n",
    "    \n",
    "    train_hist[epoch + 1] = {\n",
    "        'loss': train_loss.result().numpy(), 'acc': train_accuracy.result().numpy() * 100,\n",
    "        'val_loss': test_loss.result().numpy(), 'val_acc': test_accuracy.result().numpy() * 100,\n",
    "        'lr': optimizer._decayed_lr('float32').numpy(), 'step_val': optimizer.iterations.numpy()\n",
    "    }\n",
    "\n",
    "    # Count number of non-zero parameters in each layer and in total-\n",
    "    print(f\"Conv-6: total # of trainable parameters = {count_nonzero_params(model = model)}\")\n",
    "    \n",
    "    \n",
    "    # Insert manual implementation of code for early stopping here-\n",
    "    if (test_accuracy.result() * 100 > best_val_acc) and (np.abs((test_accuracy.result() * 100) - best_val_acc) >= minimum_delta):\n",
    "\n",
    "        # Update 'best_val_loss' variable to lowest loss encountered so far-\n",
    "        # best_val_loss = test_loss.result()\n",
    "        \n",
    "        # Update best val acc to highest val acc so far-\n",
    "        best_val_acc = test_accuracy.result() * 100\n",
    "        \n",
    "        # reset 'loc_patience' variable-\n",
    "        loc_patience = 0\n",
    "\n",
    "        # print(f\"Saving model with lowest val_loss = {test_loss.result():.4f}\\n\")\n",
    "        print(f\"Saving model with highest val_acc = {best_val_acc:.3f}%\\n\")\n",
    "        \n",
    "        # Save trained model with 'best' validation loss-\n",
    "        # model.save_weights(\"Conv6_best_val_loss.h5\", overwrite = True)\n",
    "        \n",
    "        # Save trained model with 'best' validation accuracy-\n",
    "        model.save_weights(\"Conv6_best_val_acc.h5\", overwrite = True)\n",
    "    \n",
    "    # There is no improvement in monitored metric 'val_loss'-\n",
    "    else:\n",
    "        # number of epochs without any improvement-\n",
    "        loc_patience += 1\n",
    "        \n",
    "    \n",
    "   "
   ]
  },
  {
   "cell_type": "code",
   "execution_count": null,
   "id": "a07d739b-56e1-42c0-bead-f838f7bca5ff",
   "metadata": {},
   "outputs": [],
   "source": []
  },
  {
   "cell_type": "code",
   "execution_count": null,
   "id": "1fac7eee-e4eb-44e2-ab87-48f29c8b43bb",
   "metadata": {},
   "outputs": [],
   "source": []
  },
  {
   "cell_type": "code",
   "execution_count": 49,
   "id": "c12e906d-9726-4517-9ead-d5c7be562b12",
   "metadata": {},
   "outputs": [
    {
     "data": {
      "text/plain": [
       "(3444682, 3444682)"
      ]
     },
     "execution_count": 49,
     "metadata": {},
     "output_type": "execute_result"
    }
   ],
   "source": [
    "# Sanity check-\n",
    "count_nonzero_params(model), count_nonzero_masks(mask_model)"
   ]
  },
  {
   "cell_type": "code",
   "execution_count": 50,
   "id": "108eeb87-38e0-4251-912b-c56fe6c601da",
   "metadata": {},
   "outputs": [
    {
     "name": "stdout",
     "output_type": "stream",
     "text": [
      "layer: (3, 3, 3, 64), type: <class 'tensorflow.python.ops.resource_variable_ops.ResourceVariable'>\n",
      "layer: (64,), type: <class 'tensorflow.python.ops.resource_variable_ops.ResourceVariable'>\n",
      "layer: (64,), type: <class 'tensorflow.python.ops.resource_variable_ops.ResourceVariable'>\n",
      "layer: (64,), type: <class 'tensorflow.python.ops.resource_variable_ops.ResourceVariable'>\n",
      "layer: (64,), type: <class 'tensorflow.python.ops.resource_variable_ops.ResourceVariable'>\n",
      "layer: (3, 3, 64, 64), type: <class 'tensorflow.python.ops.resource_variable_ops.ResourceVariable'>\n",
      "layer: (64,), type: <class 'tensorflow.python.ops.resource_variable_ops.ResourceVariable'>\n",
      "layer: (64,), type: <class 'tensorflow.python.ops.resource_variable_ops.ResourceVariable'>\n",
      "layer: (64,), type: <class 'tensorflow.python.ops.resource_variable_ops.ResourceVariable'>\n",
      "layer: (64,), type: <class 'tensorflow.python.ops.resource_variable_ops.ResourceVariable'>\n",
      "layer: (3, 3, 64, 128), type: <class 'tensorflow.python.ops.resource_variable_ops.ResourceVariable'>\n",
      "layer: (128,), type: <class 'tensorflow.python.ops.resource_variable_ops.ResourceVariable'>\n",
      "layer: (128,), type: <class 'tensorflow.python.ops.resource_variable_ops.ResourceVariable'>\n",
      "layer: (128,), type: <class 'tensorflow.python.ops.resource_variable_ops.ResourceVariable'>\n",
      "layer: (128,), type: <class 'tensorflow.python.ops.resource_variable_ops.ResourceVariable'>\n",
      "layer: (3, 3, 128, 128), type: <class 'tensorflow.python.ops.resource_variable_ops.ResourceVariable'>\n",
      "layer: (128,), type: <class 'tensorflow.python.ops.resource_variable_ops.ResourceVariable'>\n",
      "layer: (128,), type: <class 'tensorflow.python.ops.resource_variable_ops.ResourceVariable'>\n",
      "layer: (128,), type: <class 'tensorflow.python.ops.resource_variable_ops.ResourceVariable'>\n",
      "layer: (128,), type: <class 'tensorflow.python.ops.resource_variable_ops.ResourceVariable'>\n",
      "layer: (3, 3, 128, 256), type: <class 'tensorflow.python.ops.resource_variable_ops.ResourceVariable'>\n",
      "layer: (256,), type: <class 'tensorflow.python.ops.resource_variable_ops.ResourceVariable'>\n",
      "layer: (256,), type: <class 'tensorflow.python.ops.resource_variable_ops.ResourceVariable'>\n",
      "layer: (256,), type: <class 'tensorflow.python.ops.resource_variable_ops.ResourceVariable'>\n",
      "layer: (256,), type: <class 'tensorflow.python.ops.resource_variable_ops.ResourceVariable'>\n",
      "layer: (3, 3, 256, 256), type: <class 'tensorflow.python.ops.resource_variable_ops.ResourceVariable'>\n",
      "layer: (256,), type: <class 'tensorflow.python.ops.resource_variable_ops.ResourceVariable'>\n",
      "layer: (256,), type: <class 'tensorflow.python.ops.resource_variable_ops.ResourceVariable'>\n",
      "layer: (256,), type: <class 'tensorflow.python.ops.resource_variable_ops.ResourceVariable'>\n",
      "layer: (256,), type: <class 'tensorflow.python.ops.resource_variable_ops.ResourceVariable'>\n",
      "layer: (3, 3, 256, 256), type: <class 'tensorflow.python.ops.resource_variable_ops.ResourceVariable'>\n",
      "layer: (256,), type: <class 'tensorflow.python.ops.resource_variable_ops.ResourceVariable'>\n",
      "layer: (256,), type: <class 'tensorflow.python.ops.resource_variable_ops.ResourceVariable'>\n",
      "layer: (256,), type: <class 'tensorflow.python.ops.resource_variable_ops.ResourceVariable'>\n",
      "layer: (256,), type: <class 'tensorflow.python.ops.resource_variable_ops.ResourceVariable'>\n",
      "layer: (3, 3, 256, 256), type: <class 'tensorflow.python.ops.resource_variable_ops.ResourceVariable'>\n",
      "layer: (256,), type: <class 'tensorflow.python.ops.resource_variable_ops.ResourceVariable'>\n",
      "layer: (256,), type: <class 'tensorflow.python.ops.resource_variable_ops.ResourceVariable'>\n",
      "layer: (256,), type: <class 'tensorflow.python.ops.resource_variable_ops.ResourceVariable'>\n",
      "layer: (256,), type: <class 'tensorflow.python.ops.resource_variable_ops.ResourceVariable'>\n",
      "layer: (4096, 256), type: <class 'tensorflow.python.ops.resource_variable_ops.ResourceVariable'>\n",
      "layer: (256,), type: <class 'tensorflow.python.ops.resource_variable_ops.ResourceVariable'>\n",
      "layer: (256,), type: <class 'tensorflow.python.ops.resource_variable_ops.ResourceVariable'>\n",
      "layer: (256,), type: <class 'tensorflow.python.ops.resource_variable_ops.ResourceVariable'>\n",
      "layer: (256,), type: <class 'tensorflow.python.ops.resource_variable_ops.ResourceVariable'>\n",
      "layer: (256, 256), type: <class 'tensorflow.python.ops.resource_variable_ops.ResourceVariable'>\n",
      "layer: (256,), type: <class 'tensorflow.python.ops.resource_variable_ops.ResourceVariable'>\n",
      "layer: (256,), type: <class 'tensorflow.python.ops.resource_variable_ops.ResourceVariable'>\n",
      "layer: (256,), type: <class 'tensorflow.python.ops.resource_variable_ops.ResourceVariable'>\n",
      "layer: (256,), type: <class 'tensorflow.python.ops.resource_variable_ops.ResourceVariable'>\n",
      "layer: (256, 10), type: <class 'tensorflow.python.ops.resource_variable_ops.ResourceVariable'>\n",
      "layer: (10,), type: <class 'tensorflow.python.ops.resource_variable_ops.ResourceVariable'>\n"
     ]
    }
   ],
   "source": [
    "# Further sanity check-\n",
    "for layer in model.weights:\n",
    "    print(f\"layer: {layer.shape}, type: {type(layer)}\")"
   ]
  },
  {
   "cell_type": "code",
   "execution_count": 51,
   "id": "67b7966d-a4e8-491b-9903-9c3419f66ede",
   "metadata": {},
   "outputs": [
    {
     "name": "stdout",
     "output_type": "stream",
     "text": [
      "layer: (3, 3, 3, 64), type: <class 'numpy.ndarray'>\n",
      "layer: (64,), type: <class 'numpy.ndarray'>\n",
      "layer: (64,), type: <class 'numpy.ndarray'>\n",
      "layer: (3, 3, 64, 64), type: <class 'numpy.ndarray'>\n",
      "layer: (64,), type: <class 'numpy.ndarray'>\n",
      "layer: (64,), type: <class 'numpy.ndarray'>\n",
      "layer: (3, 3, 64, 128), type: <class 'numpy.ndarray'>\n",
      "layer: (128,), type: <class 'numpy.ndarray'>\n",
      "layer: (128,), type: <class 'numpy.ndarray'>\n",
      "layer: (3, 3, 128, 128), type: <class 'numpy.ndarray'>\n",
      "layer: (128,), type: <class 'numpy.ndarray'>\n",
      "layer: (128,), type: <class 'numpy.ndarray'>\n",
      "layer: (3, 3, 128, 256), type: <class 'numpy.ndarray'>\n",
      "layer: (256,), type: <class 'numpy.ndarray'>\n",
      "layer: (256,), type: <class 'numpy.ndarray'>\n",
      "layer: (3, 3, 256, 256), type: <class 'numpy.ndarray'>\n",
      "layer: (256,), type: <class 'numpy.ndarray'>\n",
      "layer: (256,), type: <class 'numpy.ndarray'>\n",
      "layer: (3, 3, 256, 256), type: <class 'numpy.ndarray'>\n",
      "layer: (256,), type: <class 'numpy.ndarray'>\n",
      "layer: (256,), type: <class 'numpy.ndarray'>\n",
      "layer: (3, 3, 256, 256), type: <class 'numpy.ndarray'>\n",
      "layer: (256,), type: <class 'numpy.ndarray'>\n",
      "layer: (256,), type: <class 'numpy.ndarray'>\n",
      "layer: (4096, 256), type: <class 'numpy.ndarray'>\n",
      "layer: (256,), type: <class 'numpy.ndarray'>\n",
      "layer: (256,), type: <class 'numpy.ndarray'>\n",
      "layer: (256, 256), type: <class 'numpy.ndarray'>\n",
      "layer: (256,), type: <class 'numpy.ndarray'>\n",
      "layer: (256,), type: <class 'numpy.ndarray'>\n",
      "layer: (256, 10), type: <class 'numpy.ndarray'>\n",
      "layer: (10,), type: <class 'numpy.ndarray'>\n"
     ]
    }
   ],
   "source": [
    "# Further sanity check-\n",
    "for layer in mask_model:\n",
    "    print(f\"layer: {layer.shape}, type: {type(layer)}\")"
   ]
  },
  {
   "cell_type": "code",
   "execution_count": null,
   "id": "8d01274e-d3c0-44ef-ab9e-d3761d04227c",
   "metadata": {},
   "outputs": [],
   "source": []
  },
  {
   "cell_type": "code",
   "execution_count": null,
   "id": "a07c235d-14cc-4bd4-981c-bd457d830084",
   "metadata": {},
   "outputs": [],
   "source": []
  },
  {
   "cell_type": "markdown",
   "id": "5cd5621d-5172-49c6-a08d-08010abc3611",
   "metadata": {},
   "source": [
    "### Visualize training metrics"
   ]
  },
  {
   "cell_type": "code",
   "execution_count": 54,
   "id": "567fb073-9be9-4df5-ba6e-6d6c4bbaa074",
   "metadata": {},
   "outputs": [
    {
     "data": {
      "image/png": "[encoded data removed]",
      "text/plain": [
       "<Figure size 576x504 with 1 Axes>"
      ]
     },
     "metadata": {
      "needs_background": "light"
     },
     "output_type": "display_data"
    }
   ],
   "source": [
    "# Visualizations-\n",
    "plt.figure(figsize = (8, 7))\n",
    "plt.plot([train_hist[x]['acc'] for x in train_hist.keys()], label = 'acc')\n",
    "plt.plot([train_hist[x]['val_acc'] for x in train_hist.keys()], label = 'val_acc')\n",
    "plt.xlabel(\"epochs\")\n",
    "plt.ylabel(\"accuracy (%)\")\n",
    "plt.title(\"Conv-6: Training Visualizations\")\n",
    "plt.legend(loc = \"best\")\n",
    "plt.show()"
   ]
  },
  {
   "cell_type": "code",
   "execution_count": 55,
   "id": "93eef8ed-2003-473a-b07a-78d60759f7d6",
   "metadata": {},
   "outputs": [
    {
     "data": {
      "image/png": "[encoded data removed]",
      "text/plain": [
       "<Figure size 576x504 with 1 Axes>"
      ]
     },
     "metadata": {
      "needs_background": "light"
     },
     "output_type": "display_data"
    }
   ],
   "source": [
    "# Visualizations-\n",
    "plt.figure(figsize = (8, 7))\n",
    "plt.plot([train_hist[x]['loss'] for x in train_hist.keys()], label = 'loss')\n",
    "plt.plot([train_hist[x]['val_loss'] for x in train_hist.keys()], label = 'val_loss')\n",
    "plt.xlabel(\"epochs\")\n",
    "plt.ylabel(\"loss\")\n",
    "plt.title(\"Conv-6: Training Visualizations\")\n",
    "plt.legend(loc = \"best\")\n",
    "plt.show()"
   ]
  },
  {
   "cell_type": "code",
   "execution_count": null,
   "id": "3800a375-4202-4b4b-8368-ff3bbac66873",
   "metadata": {},
   "outputs": [],
   "source": []
  },
  {
   "cell_type": "code",
   "execution_count": 56,
   "id": "a4dce233-a895-40b1-bdbd-39733aa8ea02",
   "metadata": {},
   "outputs": [],
   "source": [
    "# Save training metrics as pickled object-\n",
    "with open(\"Conv6_training_history.pkl\", \"wb\") as file:\n",
    "    pickle.dump(train_hist, file)"
   ]
  },
  {
   "cell_type": "code",
   "execution_count": null,
   "id": "88e225eb-addf-4266-aebe-d37b5c96ec1f",
   "metadata": {},
   "outputs": [],
   "source": []
  },
  {
   "cell_type": "code",
   "execution_count": null,
   "id": "0f85a469-9635-4ab8-bc20-31f45239ca55",
   "metadata": {},
   "outputs": [],
   "source": []
  },
  {
   "cell_type": "code",
   "execution_count": 57,
   "id": "d82c1dfd-2580-4b67-a6fb-5d6e8527b7ea",
   "metadata": {},
   "outputs": [],
   "source": [
    "# Sanity check- Initialize and load weights from before-\n",
    "best_model = Conv6()\n",
    "best_model.build(input_shape = (None, 32, 32, 3))"
   ]
  },
  {
   "cell_type": "code",
   "execution_count": 58,
   "id": "fd48071a-1894-42c7-ad90-baf1cd61fe0a",
   "metadata": {},
   "outputs": [],
   "source": [
    "best_model.load_weights(\"Conv6_best_val_acc.h5\")"
   ]
  },
  {
   "cell_type": "code",
   "execution_count": null,
   "id": "545b35ef-c83b-4f97-ad75-5acf5c9cb6c3",
   "metadata": {},
   "outputs": [],
   "source": []
  },
  {
   "cell_type": "code",
   "execution_count": 59,
   "id": "7fb9a9d1-88a7-4d7d-b301-0c89b93145a6",
   "metadata": {},
   "outputs": [],
   "source": [
    "# Compile model-\n",
    "best_model.compile(\n",
    "    loss = tf.keras.losses.CategoricalCrossentropy(),\n",
    "    optimizer = tf.keras.optimizers.SGD(learning_rate = 0.01, momentum = 0.9),\n",
    "    metrics=['accuracy']\n",
    ")"
   ]
  },
  {
   "cell_type": "code",
   "execution_count": 60,
   "id": "11c1abba-b958-46de-be4a-e50f0bc27eb5",
   "metadata": {},
   "outputs": [
    {
     "name": "stdout",
     "output_type": "stream",
     "text": [
      "313/313 [==============================] - 1s 2ms/step - loss: 5.0804 - accuracy: 0.8764\n"
     ]
    }
   ],
   "source": [
    "# Get validation metrics on validation dataset-\n",
    "val_loss, val_acc = best_model.evaluate(x = X_test, y = y_test)"
   ]
  },
  {
   "cell_type": "code",
   "execution_count": 61,
   "id": "9ebf85c2-eddf-4087-8b7d-f021d427de13",
   "metadata": {},
   "outputs": [
    {
     "name": "stdout",
     "output_type": "stream",
     "text": [
      "Trained Conv-6 CNN validataion metrics: loss = 5.0804 & accuracy = 87.640%\n"
     ]
    }
   ],
   "source": [
    "print(\"Trained Conv-6 CNN validataion metrics: loss\"\n",
    "      f\" = {val_loss:.4f} & accuracy = {val_acc * 100:.3f}%\")"
   ]
  },
  {
   "cell_type": "code",
   "execution_count": null,
   "id": "74d46b6c-3af3-4c5a-ba21-8f5ad22dd4cc",
   "metadata": {},
   "outputs": [],
   "source": []
  },
  {
   "cell_type": "code",
   "execution_count": 62,
   "id": "2c6eb1ed-d0fd-4b73-88d4-583770484a0d",
   "metadata": {},
   "outputs": [],
   "source": [
    "del model, best_model, mask_model"
   ]
  },
  {
   "cell_type": "code",
   "execution_count": null,
   "id": "88630ea4-549a-48ae-83ba-2ae8641420c9",
   "metadata": {},
   "outputs": [],
   "source": []
  },
  {
   "cell_type": "code",
   "execution_count": null,
   "id": "3fa41a34-770b-4738-99d7-fe03f235179e",
   "metadata": {},
   "outputs": [],
   "source": []
  }
 ],
 "metadata": {
  "kernelspec": {
   "display_name": "Python 3 (ipykernel)",
   "language": "python",
   "name": "python3"
  },
  "language_info": {
   "codemirror_mode": {
    "name": "ipython",
    "version": 3
   },
   "file_extension": ".py",
   "mimetype": "text/x-python",
   "name": "python",
   "nbconvert_exporter": "python",
   "pygments_lexer": "ipython3",
   "version": "3.9.7"
  }
 },
 "nbformat": 4,
 "nbformat_minor": 5
}
