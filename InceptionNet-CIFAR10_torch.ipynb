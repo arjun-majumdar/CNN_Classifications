{
 "cells": [
  {
   "cell_type": "markdown",
   "id": "b387f8ad-f515-42bd-9cc2-6c5900f5884d",
   "metadata": {},
   "source": [
    "# InceptionNet: CIFAR-10 + PyTorch\n",
    "\n",
    "- refer to _Going deeper with convolutions_ by Christian Szegedy et al. paper.\n",
    "\n",
    "- modified for CIFAR-10 dataset\n"
   ]
  },
  {
   "cell_type": "code",
   "execution_count": 1,
   "id": "2cdb0b47-e0de-4cfc-82d7-41042494cc0f",
   "metadata": {
    "tags": []
   },
   "outputs": [
    {
     "name": "stdout",
     "output_type": "stream",
     "text": [
      "env: CUDA_VISIBLE_DEVICES=0\n"
     ]
    }
   ],
   "source": [
    "# Specify GPU to be used-\n",
    "# %env CUDA_DEVICE_ORDER = PCI_BUS_ID\n",
    "%env CUDA_VISIBLE_DEVICES = 0"
   ]
  },
  {
   "cell_type": "code",
   "execution_count": 2,
   "id": "aeb57f98-1031-4659-bd86-4bb744c5e220",
   "metadata": {
    "tags": []
   },
   "outputs": [
    {
     "name": "stderr",
     "output_type": "stream",
     "text": [
      "/home/majumdar/anaconda3/envs/torch-cuda-new/lib/python3.10/site-packages/torchvision/io/image.py:13: UserWarning: Failed to load image Python extension: /home/majumdar/anaconda3/envs/torch-cuda-new/lib/python3.10/site-packages/torchvision/image.so: undefined symbol: _ZN5torch3jit17parseSchemaOrNameERKNSt7__cxx1112basic_stringIcSt11char_traitsIcESaIcEEE\n",
      "  warn(f\"Failed to load image Python extension: {e}\")\n"
     ]
    }
   ],
   "source": [
    "import torch\n",
    "import torch.nn as nn\n",
    "import torch.nn.functional as F\n",
    "\n",
    "from tqdm import tqdm\n",
    "from tqdm import trange\n",
    "import matplotlib.pyplot as plt\n",
    "import numpy as np\n",
    "import os, pickle\n",
    "\n",
    "from cifar10_dataloader import get_cifar10_data\n",
    "from InceptionNet_torch import InceptionBlock, InceptionNet"
   ]
  },
  {
   "cell_type": "code",
   "execution_count": null,
   "id": "6457d6a7-6d1d-4cbc-b88e-67bd6dd4b725",
   "metadata": {},
   "outputs": [],
   "source": []
  },
  {
   "cell_type": "code",
   "execution_count": null,
   "id": "353d4b81-8e66-4e31-8f28-6559aa91e283",
   "metadata": {},
   "outputs": [],
   "source": []
  },
  {
   "cell_type": "code",
   "execution_count": 3,
   "id": "a8f9d92c-fdf5-4f81-9d3f-993fe737c259",
   "metadata": {
    "tags": []
   },
   "outputs": [
    {
     "name": "stdout",
     "output_type": "stream",
     "text": [
      "torch version: 1.13.1\n",
      "Number of GPU(s) available = 1\n",
      "Current GPU: 0\n",
      "Current GPU name: NVIDIA GeForce RTX 3090\n",
      "Available device is cuda\n"
     ]
    }
   ],
   "source": [
    "print(f\"torch version: {torch.__version__}\")\n",
    "\n",
    "\n",
    "# Check if there are multiple devices (i.e., GPU cards)-\n",
    "print(f\"Number of GPU(s) available = {torch.cuda.device_count()}\")\n",
    "\n",
    "if torch.cuda.is_available():\n",
    "    print(f\"Current GPU: {torch.cuda.current_device()}\")\n",
    "    print(f\"Current GPU name: {torch.cuda.get_device_name(torch.cuda.current_device())}\")\n",
    "else:\n",
    "    print(\"PyTorch does not have access to GPU\")\n",
    "\n",
    "# Device configuration-\n",
    "device = torch.device('cuda' if torch.cuda.is_available() else 'cpu')\n",
    "print(f'Available device is {device}')"
   ]
  },
  {
   "cell_type": "code",
   "execution_count": null,
   "id": "7f3c285e-9a8e-4146-8ccf-7a0c69154980",
   "metadata": {},
   "outputs": [],
   "source": []
  },
  {
   "cell_type": "code",
   "execution_count": 4,
   "id": "b9177f46-6c75-446a-86aa-cb1ad81674a9",
   "metadata": {
    "tags": []
   },
   "outputs": [],
   "source": [
    "# Specify hyper-parameters\n",
    "batch_size = 256\n",
    "num_classes = 10\n",
    "num_epochs = 85"
   ]
  },
  {
   "cell_type": "code",
   "execution_count": null,
   "id": "59e31d5c-6fa7-4c6e-b9eb-6a44570b4086",
   "metadata": {},
   "outputs": [],
   "source": []
  },
  {
   "cell_type": "code",
   "execution_count": 5,
   "id": "f996cd39-1b1b-4954-b1a5-ad26eeb97eb9",
   "metadata": {
    "tags": []
   },
   "outputs": [
    {
     "name": "stdout",
     "output_type": "stream",
     "text": [
      "Files already downloaded and verified\n",
      "Files already downloaded and verified\n"
     ]
    }
   ],
   "source": [
    "# Get CIFAR-10 datasets-\n",
    "train_loader, val_loader, train_dataset, val_dataset = get_cifar10_data(\n",
    "    path_to_files = '/home/majumdar/Downloads/.data/',\n",
    "    batch_size = batch_size\n",
    ")"
   ]
  },
  {
   "cell_type": "code",
   "execution_count": null,
   "id": "aaad6d3b-b8ff-461e-aae3-da516785958c",
   "metadata": {},
   "outputs": [],
   "source": []
  },
  {
   "cell_type": "code",
   "execution_count": null,
   "id": "dda6cf5f-c124-49ed-93b5-03e4e508dc2e",
   "metadata": {},
   "outputs": [],
   "source": []
  },
  {
   "cell_type": "markdown",
   "id": "422d4fbc-b0c6-43e9-a5d1-b8396930e53c",
   "metadata": {},
   "source": [
    "#### InceptionNet-v1 CNN\n",
    "\n",
    "modified for CIFAR-10 dataset."
   ]
  },
  {
   "cell_type": "code",
   "execution_count": 6,
   "id": "011b8246-984d-4aca-a6cf-a3bb43d2c755",
   "metadata": {
    "tags": []
   },
   "outputs": [],
   "source": [
    "# Define feature map for inception blocks-\n",
    "feat_map = [\n",
    "    [64, 96, 128, 16, 32, 32],\n",
    "    [128, 128, 192, 32, 96, 64],\n",
    "    [192, 96, 208, 16, 48, 64],\n",
    "    [160, 112, 224, 24, 64, 64],\n",
    "    [128, 128, 256, 24, 64, 64],\n",
    "    [112, 144, 288, 32, 64, 64],\n",
    "    [256, 160, 320, 32, 128, 128],\n",
    "    [256, 160, 320, 32, 128, 128],\n",
    "    [384, 192, 384, 48, 128, 128]\n",
    "    ]\n",
    "\n",
    "# inp_channels = [192, 256, 480, 512, 512, 512, 528, 832, 1024]\n",
    "inp_channels = [64, 352, 576, 672, 672, 704, 752, 1024, 1024]"
   ]
  },
  {
   "cell_type": "code",
   "execution_count": 7,
   "id": "48b7006d-709c-4e7c-af15-8b2559f95f5f",
   "metadata": {
    "tags": []
   },
   "outputs": [],
   "source": [
    "# Initialize InceptionNet-\n",
    "model = InceptionNet(\n",
    "    inp_channels = inp_channels, feat_map = feat_map\n",
    ").to(device)"
   ]
  },
  {
   "cell_type": "code",
   "execution_count": null,
   "id": "5f534815-75ff-45f2-a015-c451cf29890c",
   "metadata": {},
   "outputs": [],
   "source": []
  },
  {
   "cell_type": "code",
   "execution_count": 8,
   "id": "cf8b2a9d-1334-4263-a786-d4702a382288",
   "metadata": {
    "tags": []
   },
   "outputs": [
    {
     "name": "stdout",
     "output_type": "stream",
     "text": [
      "InceptionNet has 14849376 params\n"
     ]
    }
   ],
   "source": [
    "def count_trainable_params(model):\n",
    "    # Count number of layer-wise parameters and total parameters-\n",
    "    tot_params = 0\n",
    "    for param in model.parameters():\n",
    "        # print(f\"layer.shape = {param.shape} has {param.nelement()} parameters\")\n",
    "        tot_params += param.nelement()\n",
    "\n",
    "    return tot_params\n",
    "\n",
    "print(f\"InceptionNet has {count_trainable_params(model = model)} params\")"
   ]
  },
  {
   "cell_type": "code",
   "execution_count": null,
   "id": "83cb6eeb-92bf-4366-9673-05300005c7e6",
   "metadata": {},
   "outputs": [],
   "source": []
  },
  {
   "cell_type": "code",
   "execution_count": null,
   "id": "c6070e43-1c26-47c7-956e-c14e2c2c76d4",
   "metadata": {},
   "outputs": [],
   "source": []
  },
  {
   "cell_type": "markdown",
   "id": "dc28b7cb-7fab-427c-9460-047baef6dcf3",
   "metadata": {},
   "source": [
    "### Learning Rate Scheduler\n",
    "\n",
    "Training dataset size = 50K, batch-size = 256, number of training steps per epoch = 50K / 256 = 195.3125\n",
    "\n",
    "After an initial LR warmup of 13 epochs or, 2539.0625 = 2540 training iterations:\n",
    "\n",
    "- For the next 32 epochs, or, until $45^{th}$ epoch, use lr = 01.\n",
    "\n",
    "- For the next 25 epochs, or, until $70^{th}$ epoch, use lr = 0.01.\n",
    "\n",
    "- For remaninig epochs, use lr = 0.001."
   ]
  },
  {
   "cell_type": "code",
   "execution_count": 9,
   "id": "e8380e26-d32d-4415-b9f7-5950f20f62ea",
   "metadata": {
    "tags": []
   },
   "outputs": [],
   "source": [
    "boundaries = [8790, 13672]\n",
    "values = [0.1, 0.01, 0.001]"
   ]
  },
  {
   "cell_type": "code",
   "execution_count": null,
   "id": "9d87a2a2-dfad-4e0b-b312-e3bcf0241ca8",
   "metadata": {},
   "outputs": [],
   "source": []
  },
  {
   "cell_type": "code",
   "execution_count": 10,
   "id": "c57e3b21-726d-46bc-a91c-09a5eb9bc0e8",
   "metadata": {
    "tags": []
   },
   "outputs": [],
   "source": [
    "# Define loss function and optimizer-\n",
    "loss = nn.CrossEntropyLoss()\n",
    "\n",
    "optimizer = torch.optim.SGD(\n",
    "    params = model.parameters(), lr = 0.0,\n",
    "    momentum = 0.9, weight_decay = 5e-4\n",
    ")"
   ]
  },
  {
   "cell_type": "code",
   "execution_count": 11,
   "id": "c307d347-0f21-4041-b3ed-d236ae22457e",
   "metadata": {
    "tags": []
   },
   "outputs": [
    {
     "data": {
      "text/plain": [
       "0.0"
      ]
     },
     "execution_count": 11,
     "metadata": {},
     "output_type": "execute_result"
    }
   ],
   "source": [
    "# Sanity check-\n",
    "optimizer.param_groups[0]['lr']"
   ]
  },
  {
   "cell_type": "code",
   "execution_count": null,
   "id": "418b9e45-9a1a-4c48-8056-bae3baf67c59",
   "metadata": {},
   "outputs": [],
   "source": []
  },
  {
   "cell_type": "code",
   "execution_count": 12,
   "id": "2f776671-58f4-4c1c-bdda-31c607988466",
   "metadata": {
    "tags": []
   },
   "outputs": [],
   "source": [
    "def decay_function(step, boundaries = [8790, 13672], values = [0.1, 0.01, 0.001]):\n",
    "    \n",
    "    for idx, bound in enumerate(boundaries):\n",
    "        if step < bound:\n",
    "            return values[idx]\n",
    "\n",
    "    return values[-1]\n",
    "\n",
    "\n",
    "class schedule():\n",
    "    def __init__(self, initial_learning_rate = 0.1, warmup_steps = 1000, decay_func = None):\n",
    "        self.initial_learning_rate = initial_learning_rate\n",
    "        self.warmup_steps = warmup_steps\n",
    "        self.decay_func = decay_func\n",
    "        self.warmup_step_size = initial_learning_rate/warmup_steps\n",
    "        self.current_lr = 0\n",
    "\n",
    "    def get_lr(self, step):\n",
    "        if step == 0:\n",
    "            return self.current_lr\n",
    "        elif step <= self.warmup_steps:\n",
    "            self.current_lr+=self.warmup_step_size\n",
    "            return self.current_lr\n",
    "        elif step > self.warmup_steps:\n",
    "            if self.decay_func:\n",
    "                return self.decay_func(step)\n",
    "        else:\n",
    "            return self.current_lr\n",
    "        "
   ]
  },
  {
   "cell_type": "code",
   "execution_count": 13,
   "id": "b067fd46-3185-4754-b6b9-7cb3a94a1151",
   "metadata": {
    "tags": []
   },
   "outputs": [],
   "source": [
    "# Initial linear LR warmup: 195.3125 x 13 = 2540 steps in 13 epochs.\n",
    "custom_lr_scheduler = schedule(\n",
    "    initial_learning_rate = 0.1, warmup_steps = 2540,\n",
    "    decay_func = decay_function\n",
    ")"
   ]
  },
  {
   "cell_type": "code",
   "execution_count": null,
   "id": "55559894-2292-40c0-9ba9-35b9d9147dc2",
   "metadata": {},
   "outputs": [],
   "source": []
  },
  {
   "cell_type": "code",
   "execution_count": 14,
   "id": "a4d9e9fd-7078-4c9c-9191-7899ee4f370e",
   "metadata": {
    "tags": []
   },
   "outputs": [],
   "source": [
    "step = 0"
   ]
  },
  {
   "cell_type": "code",
   "execution_count": 15,
   "id": "df47f007-7860-4d0d-970c-091f0bf3f26e",
   "metadata": {
    "tags": []
   },
   "outputs": [],
   "source": [
    "def train_model_progress(model, train_loader, train_dataset):\n",
    "    '''\n",
    "    Function to perform one epoch of training by using 'train_loader'.\n",
    "    Returns loss and number of correct predictions for this epoch.\n",
    "    '''\n",
    "    running_loss = 0.0\n",
    "    running_corrects = 0.0\n",
    "    \n",
    "    model.train()\n",
    "    \n",
    "    with tqdm(train_loader, unit = 'batch') as tepoch:\n",
    "        for images, labels in tepoch:\n",
    "            tepoch.set_description(f\"Training: \")\n",
    "            \n",
    "            images = images.to(device)\n",
    "            labels = labels.to(device)\n",
    "            \n",
    "            # Get model predictions-\n",
    "            outputs = model(images)\n",
    "            \n",
    "            # Compute loss-\n",
    "            J = loss(outputs, labels)\n",
    "            \n",
    "            # Empty accumulated gradients-\n",
    "            optimizer.zero_grad()\n",
    "            \n",
    "            # Perform backprop-\n",
    "            J.backward()\n",
    "            \n",
    "            # Update parameters-\n",
    "            optimizer.step()\n",
    "            \n",
    "            global step\n",
    "            optimizer.param_groups[0]['lr'] = custom_lr_scheduler.get_lr(step)\n",
    "            step += 1\n",
    "            \n",
    "            # Compute model's performance statistics-\n",
    "            running_loss += J.item() * images.size(0)\n",
    "            _, predicted = torch.max(outputs, 1)\n",
    "            running_corrects += torch.sum(predicted == labels.data)\n",
    "            \n",
    "            tepoch.set_postfix(\n",
    "                loss = running_loss / len(train_dataset),\n",
    "                accuracy = (running_corrects.double().cpu().numpy() / len(train_dataset)) * 100\n",
    "            )\n",
    "            \n",
    "    \n",
    "    train_loss = running_loss / len(train_dataset)\n",
    "    train_acc = (running_corrects.double() / len(train_dataset)) * 100\n",
    "\n",
    "    # return running_loss, running_corrects\n",
    "    return train_loss, train_acc.cpu().numpy()\n",
    "\n",
    "\n",
    "def test_model_progress(model, test_loader, test_dataset):\n",
    "    total = 0.0\n",
    "    correct = 0.0\n",
    "    running_loss_val = 0.0\n",
    "    \n",
    "    # Set model to evaluation mode-\n",
    "    model.eval()\n",
    "\n",
    "    with torch.no_grad():\n",
    "        with tqdm(test_loader, unit = 'batch') as tepoch:\n",
    "            for images, labels in tepoch:\n",
    "                tepoch.set_description(f\"Validation: \")\n",
    "                \n",
    "                images = images.to(device)\n",
    "                labels = labels.to(device)\n",
    "            \n",
    "                # Predict using trained model-\n",
    "                outputs = model(images)\n",
    "                _, y_pred = torch.max(outputs, 1)\n",
    "                \n",
    "                # Compute validation loss-\n",
    "                J_val = loss(outputs, labels)\n",
    "                \n",
    "                running_loss_val += J_val.item() * labels.size(0)\n",
    "    \n",
    "                # Total number of labels-\n",
    "                total += labels.size(0)\n",
    "\n",
    "                # Total number of correct predictions-\n",
    "                correct += (y_pred == labels).sum()\n",
    "                \n",
    "                tepoch.set_postfix(\n",
    "                    val_loss = running_loss_val / len(test_dataset),\n",
    "                    val_acc = 100 * (correct.cpu().numpy() / total)\n",
    "                )\n",
    "            \n",
    "        \n",
    "    # return (running_loss_val, correct, total)\n",
    "    val_loss = running_loss_val / len(test_dataset)\n",
    "    val_acc = (correct / total) * 100\n",
    "\n",
    "    return val_loss, val_acc.cpu().numpy()\n",
    " "
   ]
  },
  {
   "cell_type": "code",
   "execution_count": null,
   "id": "af5998c5-e9fd-4fda-b59f-bb936f4417b5",
   "metadata": {},
   "outputs": [],
   "source": []
  },
  {
   "cell_type": "code",
   "execution_count": 16,
   "id": "c6f7b8ee-7d15-4908-9f2b-a0a043a8dd80",
   "metadata": {
    "tags": []
   },
   "outputs": [],
   "source": [
    "# Python3 dict to contain training metrics-\n",
    "training_history_lr_scheduler = {}\n",
    "\n",
    "# Initialize parameters saving 'best' models-\n",
    "best_val_acc = 0"
   ]
  },
  {
   "cell_type": "code",
   "execution_count": null,
   "id": "4964925b-d3af-4192-b93c-ac5506f07f62",
   "metadata": {},
   "outputs": [],
   "source": []
  },
  {
   "cell_type": "code",
   "execution_count": 17,
   "id": "dff35c19-931b-4a80-ac96-8a166b47caa7",
   "metadata": {
    "tags": []
   },
   "outputs": [
    {
     "name": "stderr",
     "output_type": "stream",
     "text": [
      "Training: : 100%|██████████████████████████████████████████████████████████████████████████████| 196/196 [01:44<00:00,  1.88batch/s, accuracy=18, loss=5.94]\n",
      "Validation: : 100%|███████████████████████████████████████████████████████████████████████████| 40/40 [00:05<00:00,  7.67batch/s, val_acc=35, val_loss=4.04]\n"
     ]
    },
    {
     "name": "stdout",
     "output_type": "stream",
     "text": [
      "\n",
      "epoch: 1 training loss = 5.9359, training accuracy = 17.96%, val_loss = 4.0389, val_accuracy = 35.02% & \n",
      "Saving model with highest val_acc = 35.0200%\n",
      "\n"
     ]
    },
    {
     "name": "stderr",
     "output_type": "stream",
     "text": [
      "Training: : 100%|████████████████████████████████████████████████████████████████████████████| 196/196 [01:41<00:00,  1.93batch/s, accuracy=41.6, loss=2.67]\n",
      "Validation: : 100%|█████████████████████████████████████████████████████████████████████████| 40/40 [00:05<00:00,  7.73batch/s, val_acc=51.7, val_loss=1.71]\n"
     ]
    },
    {
     "name": "stdout",
     "output_type": "stream",
     "text": [
      "\n",
      "epoch: 2 training loss = 2.6668, training accuracy = 41.65%, val_loss = 1.7053, val_accuracy = 51.70% & \n",
      "Saving model with highest val_acc = 51.7000%\n",
      "\n"
     ]
    },
    {
     "name": "stderr",
     "output_type": "stream",
     "text": [
      "Training: : 100%|████████████████████████████████████████████████████████████████████████████| 196/196 [01:41<00:00,  1.93batch/s, accuracy=51.6, loss=1.56]\n",
      "Validation: : 100%|█████████████████████████████████████████████████████████████████████████| 40/40 [00:05<00:00,  7.73batch/s, val_acc=61.8, val_loss=1.18]\n"
     ]
    },
    {
     "name": "stdout",
     "output_type": "stream",
     "text": [
      "\n",
      "epoch: 3 training loss = 1.5641, training accuracy = 51.65%, val_loss = 1.1809, val_accuracy = 61.77% & \n",
      "Saving model with highest val_acc = 61.7700%\n",
      "\n"
     ]
    },
    {
     "name": "stderr",
     "output_type": "stream",
     "text": [
      "Training: : 100%|████████████████████████████████████████████████████████████████████████████| 196/196 [01:41<00:00,  1.92batch/s, accuracy=58.1, loss=1.26]\n",
      "Validation: : 100%|█████████████████████████████████████████████████████████████████████████| 40/40 [00:05<00:00,  7.66batch/s, val_acc=66.5, val_loss=1.01]\n"
     ]
    },
    {
     "name": "stdout",
     "output_type": "stream",
     "text": [
      "\n",
      "epoch: 4 training loss = 1.2596, training accuracy = 58.11%, val_loss = 1.0099, val_accuracy = 66.49% & \n",
      "Saving model with highest val_acc = 66.4900%\n",
      "\n"
     ]
    },
    {
     "name": "stderr",
     "output_type": "stream",
     "text": [
      "Training: : 100%|████████████████████████████████████████████████████████████████████████████| 196/196 [01:41<00:00,  1.93batch/s, accuracy=63.1, loss=1.09]\n",
      "Validation: : 100%|████████████████████████████████████████████████████████████████████████| 40/40 [00:05<00:00,  7.66batch/s, val_acc=69.8, val_loss=0.915]\n"
     ]
    },
    {
     "name": "stdout",
     "output_type": "stream",
     "text": [
      "\n",
      "epoch: 5 training loss = 1.0947, training accuracy = 63.10%, val_loss = 0.9151, val_accuracy = 69.75% & \n",
      "Saving model with highest val_acc = 69.7500%\n",
      "\n"
     ]
    },
    {
     "name": "stderr",
     "output_type": "stream",
     "text": [
      "Training: : 100%|███████████████████████████████████████████████████████████████████████████| 196/196 [01:41<00:00,  1.93batch/s, accuracy=66.6, loss=0.981]\n",
      "Validation: : 100%|████████████████████████████████████████████████████████████████████████| 40/40 [00:05<00:00,  7.64batch/s, val_acc=68.1, val_loss=0.971]\n"
     ]
    },
    {
     "name": "stdout",
     "output_type": "stream",
     "text": [
      "\n",
      "epoch: 6 training loss = 0.9812, training accuracy = 66.65%, val_loss = 0.9706, val_accuracy = 68.06% & \n"
     ]
    },
    {
     "name": "stderr",
     "output_type": "stream",
     "text": [
      "Training: : 100%|███████████████████████████████████████████████████████████████████████████| 196/196 [01:41<00:00,  1.93batch/s, accuracy=69.5, loss=0.901]\n",
      "Validation: : 100%|████████████████████████████████████████████████████████████████████████| 40/40 [00:05<00:00,  7.66batch/s, val_acc=75.1, val_loss=0.741]\n"
     ]
    },
    {
     "name": "stdout",
     "output_type": "stream",
     "text": [
      "\n",
      "epoch: 7 training loss = 0.9013, training accuracy = 69.48%, val_loss = 0.7406, val_accuracy = 75.15% & \n",
      "Saving model with highest val_acc = 75.1500%\n",
      "\n"
     ]
    },
    {
     "name": "stderr",
     "output_type": "stream",
     "text": [
      "Training: : 100%|███████████████████████████████████████████████████████████████████████████| 196/196 [01:41<00:00,  1.93batch/s, accuracy=71.5, loss=0.839]\n",
      "Validation: : 100%|█████████████████████████████████████████████████████████████████████████| 40/40 [00:05<00:00,  7.66batch/s, val_acc=76.7, val_loss=0.69]\n"
     ]
    },
    {
     "name": "stdout",
     "output_type": "stream",
     "text": [
      "\n",
      "epoch: 8 training loss = 0.8386, training accuracy = 71.52%, val_loss = 0.6898, val_accuracy = 76.71% & \n",
      "Saving model with highest val_acc = 76.7100%\n",
      "\n"
     ]
    },
    {
     "name": "stderr",
     "output_type": "stream",
     "text": [
      "Training: : 100%|███████████████████████████████████████████████████████████████████████████| 196/196 [01:41<00:00,  1.93batch/s, accuracy=73.4, loss=0.786]\n",
      "Validation: : 100%|██████████████████████████████████████████████████████████████████████████| 40/40 [00:05<00:00,  7.65batch/s, val_acc=76, val_loss=0.727]\n"
     ]
    },
    {
     "name": "stdout",
     "output_type": "stream",
     "text": [
      "\n",
      "epoch: 9 training loss = 0.7857, training accuracy = 73.41%, val_loss = 0.7273, val_accuracy = 76.05% & \n"
     ]
    },
    {
     "name": "stderr",
     "output_type": "stream",
     "text": [
      "Training: : 100%|█████████████████████████████████████████████████████████████████████████████| 196/196 [01:41<00:00,  1.93batch/s, accuracy=75, loss=0.738]\n",
      "Validation: : 100%|████████████████████████████████████████████████████████████████████████| 40/40 [00:05<00:00,  7.66batch/s, val_acc=77.2, val_loss=0.694]\n"
     ]
    },
    {
     "name": "stdout",
     "output_type": "stream",
     "text": [
      "\n",
      "epoch: 10 training loss = 0.7378, training accuracy = 74.96%, val_loss = 0.6944, val_accuracy = 77.17% & \n",
      "Saving model with highest val_acc = 77.1700%\n",
      "\n"
     ]
    },
    {
     "name": "stderr",
     "output_type": "stream",
     "text": [
      "Training: : 100%|███████████████████████████████████████████████████████████████████████████| 196/196 [01:41<00:00,  1.93batch/s, accuracy=75.7, loss=0.714]\n",
      "Validation: : 100%|████████████████████████████████████████████████████████████████████████| 40/40 [00:05<00:00,  7.67batch/s, val_acc=76.4, val_loss=0.728]\n"
     ]
    },
    {
     "name": "stdout",
     "output_type": "stream",
     "text": [
      "\n",
      "epoch: 11 training loss = 0.7140, training accuracy = 75.67%, val_loss = 0.7275, val_accuracy = 76.44% & \n"
     ]
    },
    {
     "name": "stderr",
     "output_type": "stream",
     "text": [
      "Training: : 100%|███████████████████████████████████████████████████████████████████████████| 196/196 [01:41<00:00,  1.93batch/s, accuracy=76.4, loss=0.687]\n",
      "Validation: : 100%|████████████████████████████████████████████████████████████████████████| 40/40 [00:05<00:00,  7.69batch/s, val_acc=72.3, val_loss=0.841]\n"
     ]
    },
    {
     "name": "stdout",
     "output_type": "stream",
     "text": [
      "\n",
      "epoch: 12 training loss = 0.6872, training accuracy = 76.41%, val_loss = 0.8410, val_accuracy = 72.31% & \n"
     ]
    },
    {
     "name": "stderr",
     "output_type": "stream",
     "text": [
      "Training: : 100%|███████████████████████████████████████████████████████████████████████████| 196/196 [01:41<00:00,  1.93batch/s, accuracy=77.5, loss=0.659]\n",
      "Validation: : 100%|████████████████████████████████████████████████████████████████████████| 40/40 [00:05<00:00,  7.70batch/s, val_acc=77.3, val_loss=0.663]\n"
     ]
    },
    {
     "name": "stdout",
     "output_type": "stream",
     "text": [
      "\n",
      "epoch: 13 training loss = 0.6591, training accuracy = 77.52%, val_loss = 0.6629, val_accuracy = 77.30% & \n",
      "Saving model with highest val_acc = 77.3000%\n",
      "\n"
     ]
    },
    {
     "name": "stderr",
     "output_type": "stream",
     "text": [
      "Training: : 100%|███████████████████████████████████████████████████████████████████████████| 196/196 [01:41<00:00,  1.93batch/s, accuracy=78.4, loss=0.638]\n",
      "Validation: : 100%|██████████████████████████████████████████████████████████████████████████| 40/40 [00:05<00:00,  7.70batch/s, val_acc=79, val_loss=0.648]\n"
     ]
    },
    {
     "name": "stdout",
     "output_type": "stream",
     "text": [
      "\n",
      "epoch: 14 training loss = 0.6380, training accuracy = 78.36%, val_loss = 0.6481, val_accuracy = 79.02% & \n",
      "Saving model with highest val_acc = 79.0200%\n",
      "\n"
     ]
    },
    {
     "name": "stderr",
     "output_type": "stream",
     "text": [
      "Training: : 100%|███████████████████████████████████████████████████████████████████████████| 196/196 [01:41<00:00,  1.93batch/s, accuracy=79.4, loss=0.607]\n",
      "Validation: : 100%|████████████████████████████████████████████████████████████████████████| 40/40 [00:05<00:00,  7.67batch/s, val_acc=80.2, val_loss=0.609]\n"
     ]
    },
    {
     "name": "stdout",
     "output_type": "stream",
     "text": [
      "\n",
      "epoch: 15 training loss = 0.6067, training accuracy = 79.42%, val_loss = 0.6092, val_accuracy = 80.19% & \n",
      "Saving model with highest val_acc = 80.1900%\n",
      "\n"
     ]
    },
    {
     "name": "stderr",
     "output_type": "stream",
     "text": [
      "Training: : 100%|███████████████████████████████████████████████████████████████████████████| 196/196 [01:41<00:00,  1.93batch/s, accuracy=80.1, loss=0.587]\n",
      "Validation: : 100%|██████████████████████████████████████████████████████████████████████████| 40/40 [00:05<00:00,  7.67batch/s, val_acc=73, val_loss=0.782]\n"
     ]
    },
    {
     "name": "stdout",
     "output_type": "stream",
     "text": [
      "\n",
      "epoch: 16 training loss = 0.5869, training accuracy = 80.06%, val_loss = 0.7819, val_accuracy = 73.00% & \n"
     ]
    },
    {
     "name": "stderr",
     "output_type": "stream",
     "text": [
      "Training: : 100%|███████████████████████████████████████████████████████████████████████████| 196/196 [01:41<00:00,  1.93batch/s, accuracy=80.6, loss=0.577]\n",
      "Validation: : 100%|████████████████████████████████████████████████████████████████████████| 40/40 [00:05<00:00,  7.66batch/s, val_acc=81.7, val_loss=0.536]\n"
     ]
    },
    {
     "name": "stdout",
     "output_type": "stream",
     "text": [
      "\n",
      "epoch: 17 training loss = 0.5773, training accuracy = 80.55%, val_loss = 0.5363, val_accuracy = 81.70% & \n",
      "Saving model with highest val_acc = 81.7000%\n",
      "\n"
     ]
    },
    {
     "name": "stderr",
     "output_type": "stream",
     "text": [
      "Training: : 100%|███████████████████████████████████████████████████████████████████████████| 196/196 [01:41<00:00,  1.94batch/s, accuracy=81.2, loss=0.556]\n",
      "Validation: : 100%|██████████████████████████████████████████████████████████████████████████| 40/40 [00:05<00:00,  7.66batch/s, val_acc=80, val_loss=0.598]\n"
     ]
    },
    {
     "name": "stdout",
     "output_type": "stream",
     "text": [
      "\n",
      "epoch: 18 training loss = 0.5557, training accuracy = 81.21%, val_loss = 0.5982, val_accuracy = 79.95% & \n"
     ]
    },
    {
     "name": "stderr",
     "output_type": "stream",
     "text": [
      "Training: : 100%|███████████████████████████████████████████████████████████████████████████| 196/196 [01:41<00:00,  1.93batch/s, accuracy=81.6, loss=0.544]\n",
      "Validation: : 100%|████████████████████████████████████████████████████████████████████████| 40/40 [00:05<00:00,  7.66batch/s, val_acc=81.3, val_loss=0.564]\n"
     ]
    },
    {
     "name": "stdout",
     "output_type": "stream",
     "text": [
      "\n",
      "epoch: 19 training loss = 0.5444, training accuracy = 81.57%, val_loss = 0.5638, val_accuracy = 81.28% & \n"
     ]
    },
    {
     "name": "stderr",
     "output_type": "stream",
     "text": [
      "Training: : 100%|███████████████████████████████████████████████████████████████████████████| 196/196 [01:41<00:00,  1.93batch/s, accuracy=81.7, loss=0.539]\n",
      "Validation: : 100%|████████████████████████████████████████████████████████████████████████| 40/40 [00:05<00:00,  7.68batch/s, val_acc=81.4, val_loss=0.594]\n"
     ]
    },
    {
     "name": "stdout",
     "output_type": "stream",
     "text": [
      "\n",
      "epoch: 20 training loss = 0.5385, training accuracy = 81.69%, val_loss = 0.5937, val_accuracy = 81.40% & \n"
     ]
    },
    {
     "name": "stderr",
     "output_type": "stream",
     "text": [
      "Training: : 100%|█████████████████████████████████████████████████████████████████████████████| 196/196 [01:41<00:00,  1.93batch/s, accuracy=82, loss=0.529]\n",
      "Validation: : 100%|████████████████████████████████████████████████████████████████████████| 40/40 [00:05<00:00,  7.67batch/s, val_acc=82.9, val_loss=0.528]\n"
     ]
    },
    {
     "name": "stdout",
     "output_type": "stream",
     "text": [
      "\n",
      "epoch: 21 training loss = 0.5288, training accuracy = 82.04%, val_loss = 0.5275, val_accuracy = 82.88% & \n",
      "Saving model with highest val_acc = 82.8800%\n",
      "\n"
     ]
    },
    {
     "name": "stderr",
     "output_type": "stream",
     "text": [
      "Training: : 100%|███████████████████████████████████████████████████████████████████████████| 196/196 [01:41<00:00,  1.93batch/s, accuracy=82.3, loss=0.525]\n",
      "Validation: : 100%|████████████████████████████████████████████████████████████████████████| 40/40 [00:05<00:00,  7.67batch/s, val_acc=79.5, val_loss=0.625]\n"
     ]
    },
    {
     "name": "stdout",
     "output_type": "stream",
     "text": [
      "\n",
      "epoch: 22 training loss = 0.5251, training accuracy = 82.32%, val_loss = 0.6254, val_accuracy = 79.50% & \n"
     ]
    },
    {
     "name": "stderr",
     "output_type": "stream",
     "text": [
      "Training: : 100%|███████████████████████████████████████████████████████████████████████████| 196/196 [01:41<00:00,  1.93batch/s, accuracy=82.5, loss=0.513]\n",
      "Validation: : 100%|████████████████████████████████████████████████████████████████████████| 40/40 [00:05<00:00,  7.77batch/s, val_acc=82.8, val_loss=0.542]\n"
     ]
    },
    {
     "name": "stdout",
     "output_type": "stream",
     "text": [
      "\n",
      "epoch: 23 training loss = 0.5134, training accuracy = 82.54%, val_loss = 0.5415, val_accuracy = 82.84% & \n"
     ]
    },
    {
     "name": "stderr",
     "output_type": "stream",
     "text": [
      "Training: : 100%|███████████████████████████████████████████████████████████████████████████| 196/196 [01:41<00:00,  1.93batch/s, accuracy=82.5, loss=0.512]\n",
      "Validation: : 100%|█████████████████████████████████████████████████████████████████████████| 40/40 [00:05<00:00,  7.68batch/s, val_acc=77.4, val_loss=0.69]\n"
     ]
    },
    {
     "name": "stdout",
     "output_type": "stream",
     "text": [
      "\n",
      "epoch: 24 training loss = 0.5118, training accuracy = 82.47%, val_loss = 0.6903, val_accuracy = 77.39% & \n"
     ]
    },
    {
     "name": "stderr",
     "output_type": "stream",
     "text": [
      "Training: : 100%|███████████████████████████████████████████████████████████████████████████| 196/196 [01:41<00:00,  1.93batch/s, accuracy=83.1, loss=0.504]\n",
      "Validation: : 100%|█████████████████████████████████████████████████████████████████████████| 40/40 [00:05<00:00,  7.67batch/s, val_acc=84.9, val_loss=0.46]\n"
     ]
    },
    {
     "name": "stdout",
     "output_type": "stream",
     "text": [
      "\n",
      "epoch: 25 training loss = 0.5041, training accuracy = 83.10%, val_loss = 0.4597, val_accuracy = 84.86% & \n",
      "Saving model with highest val_acc = 84.8600%\n",
      "\n"
     ]
    },
    {
     "name": "stderr",
     "output_type": "stream",
     "text": [
      "Training: : 100%|███████████████████████████████████████████████████████████████████████████| 196/196 [01:41<00:00,  1.93batch/s, accuracy=83.4, loss=0.496]\n",
      "Validation: : 100%|████████████████████████████████████████████████████████████████████████| 40/40 [00:05<00:00,  7.67batch/s, val_acc=74.2, val_loss=0.816]\n"
     ]
    },
    {
     "name": "stdout",
     "output_type": "stream",
     "text": [
      "\n",
      "epoch: 26 training loss = 0.4959, training accuracy = 83.35%, val_loss = 0.8158, val_accuracy = 74.24% & \n"
     ]
    },
    {
     "name": "stderr",
     "output_type": "stream",
     "text": [
      "Training: : 100%|███████████████████████████████████████████████████████████████████████████| 196/196 [01:41<00:00,  1.93batch/s, accuracy=83.1, loss=0.499]\n",
      "Validation: : 100%|████████████████████████████████████████████████████████████████████████| 40/40 [00:05<00:00,  7.67batch/s, val_acc=80.1, val_loss=0.622]\n"
     ]
    },
    {
     "name": "stdout",
     "output_type": "stream",
     "text": [
      "\n",
      "epoch: 27 training loss = 0.4988, training accuracy = 83.11%, val_loss = 0.6218, val_accuracy = 80.08% & \n"
     ]
    },
    {
     "name": "stderr",
     "output_type": "stream",
     "text": [
      "Training: : 100%|███████████████████████████████████████████████████████████████████████████| 196/196 [01:41<00:00,  1.93batch/s, accuracy=83.4, loss=0.493]\n",
      "Validation: : 100%|████████████████████████████████████████████████████████████████████████| 40/40 [00:05<00:00,  7.67batch/s, val_acc=81.3, val_loss=0.582]\n"
     ]
    },
    {
     "name": "stdout",
     "output_type": "stream",
     "text": [
      "\n",
      "epoch: 28 training loss = 0.4927, training accuracy = 83.38%, val_loss = 0.5817, val_accuracy = 81.27% & \n"
     ]
    },
    {
     "name": "stderr",
     "output_type": "stream",
     "text": [
      "Training: : 100%|███████████████████████████████████████████████████████████████████████████| 196/196 [01:41<00:00,  1.93batch/s, accuracy=83.4, loss=0.493]\n",
      "Validation: : 100%|████████████████████████████████████████████████████████████████████████| 40/40 [00:05<00:00,  7.65batch/s, val_acc=81.7, val_loss=0.557]\n"
     ]
    },
    {
     "name": "stdout",
     "output_type": "stream",
     "text": [
      "\n",
      "epoch: 29 training loss = 0.4930, training accuracy = 83.40%, val_loss = 0.5566, val_accuracy = 81.65% & \n"
     ]
    },
    {
     "name": "stderr",
     "output_type": "stream",
     "text": [
      "Training: : 100%|████████████████████████████████████████████████████████████████████████████| 196/196 [01:41<00:00,  1.93batch/s, accuracy=83.5, loss=0.49]\n",
      "Validation: : 100%|████████████████████████████████████████████████████████████████████████| 40/40 [00:05<00:00,  7.67batch/s, val_acc=84.3, val_loss=0.477]\n"
     ]
    },
    {
     "name": "stdout",
     "output_type": "stream",
     "text": [
      "\n",
      "epoch: 30 training loss = 0.4898, training accuracy = 83.47%, val_loss = 0.4771, val_accuracy = 84.32% & \n"
     ]
    },
    {
     "name": "stderr",
     "output_type": "stream",
     "text": [
      "Training: : 100%|█████████████████████████████████████████████████████████████████████████████| 196/196 [01:41<00:00,  1.93batch/s, accuracy=84, loss=0.475]\n",
      "Validation: : 100%|████████████████████████████████████████████████████████████████████████| 40/40 [00:05<00:00,  7.68batch/s, val_acc=79.4, val_loss=0.629]\n"
     ]
    },
    {
     "name": "stdout",
     "output_type": "stream",
     "text": [
      "\n",
      "epoch: 31 training loss = 0.4754, training accuracy = 84.00%, val_loss = 0.6286, val_accuracy = 79.36% & \n"
     ]
    },
    {
     "name": "stderr",
     "output_type": "stream",
     "text": [
      "Training: : 100%|█████████████████████████████████████████████████████████████████████████████| 196/196 [01:41<00:00,  1.93batch/s, accuracy=84, loss=0.475]\n",
      "Validation: : 100%|█████████████████████████████████████████████████████████████████████████| 40/40 [00:05<00:00,  7.68batch/s, val_acc=67.2, val_loss=1.23]\n"
     ]
    },
    {
     "name": "stdout",
     "output_type": "stream",
     "text": [
      "\n",
      "epoch: 32 training loss = 0.4754, training accuracy = 84.04%, val_loss = 1.2309, val_accuracy = 67.24% & \n"
     ]
    },
    {
     "name": "stderr",
     "output_type": "stream",
     "text": [
      "Training: : 100%|███████████████████████████████████████████████████████████████████████████| 196/196 [01:41<00:00,  1.93batch/s, accuracy=84.2, loss=0.467]\n",
      "Validation: : 100%|████████████████████████████████████████████████████████████████████████| 40/40 [00:05<00:00,  7.67batch/s, val_acc=73.9, val_loss=0.838]\n"
     ]
    },
    {
     "name": "stdout",
     "output_type": "stream",
     "text": [
      "\n",
      "epoch: 33 training loss = 0.4672, training accuracy = 84.15%, val_loss = 0.8384, val_accuracy = 73.86% & \n"
     ]
    },
    {
     "name": "stderr",
     "output_type": "stream",
     "text": [
      "Training: : 100%|███████████████████████████████████████████████████████████████████████████| 196/196 [01:41<00:00,  1.93batch/s, accuracy=84.3, loss=0.468]\n",
      "Validation: : 100%|████████████████████████████████████████████████████████████████████████| 40/40 [00:05<00:00,  7.67batch/s, val_acc=81.1, val_loss=0.592]\n"
     ]
    },
    {
     "name": "stdout",
     "output_type": "stream",
     "text": [
      "\n",
      "epoch: 34 training loss = 0.4683, training accuracy = 84.30%, val_loss = 0.5918, val_accuracy = 81.08% & \n"
     ]
    },
    {
     "name": "stderr",
     "output_type": "stream",
     "text": [
      "Training: : 100%|███████████████████████████████████████████████████████████████████████████| 196/196 [01:41<00:00,  1.93batch/s, accuracy=84.3, loss=0.468]\n",
      "Validation: : 100%|████████████████████████████████████████████████████████████████████████| 40/40 [00:05<00:00,  7.67batch/s, val_acc=81.3, val_loss=0.571]\n"
     ]
    },
    {
     "name": "stdout",
     "output_type": "stream",
     "text": [
      "\n",
      "epoch: 35 training loss = 0.4681, training accuracy = 84.27%, val_loss = 0.5715, val_accuracy = 81.31% & \n"
     ]
    },
    {
     "name": "stderr",
     "output_type": "stream",
     "text": [
      "Training: : 100%|███████████████████████████████████████████████████████████████████████████| 196/196 [01:41<00:00,  1.93batch/s, accuracy=84.3, loss=0.462]\n",
      "Validation: : 100%|████████████████████████████████████████████████████████████████████████| 40/40 [00:05<00:00,  7.68batch/s, val_acc=79.1, val_loss=0.643]\n"
     ]
    },
    {
     "name": "stdout",
     "output_type": "stream",
     "text": [
      "\n",
      "epoch: 36 training loss = 0.4624, training accuracy = 84.32%, val_loss = 0.6434, val_accuracy = 79.15% & \n"
     ]
    },
    {
     "name": "stderr",
     "output_type": "stream",
     "text": [
      "Training: : 100%|███████████████████████████████████████████████████████████████████████████| 196/196 [01:41<00:00,  1.93batch/s, accuracy=84.3, loss=0.462]\n",
      "Validation: : 100%|████████████████████████████████████████████████████████████████████████| 40/40 [00:05<00:00,  7.68batch/s, val_acc=84.8, val_loss=0.471]\n"
     ]
    },
    {
     "name": "stdout",
     "output_type": "stream",
     "text": [
      "\n",
      "epoch: 37 training loss = 0.4616, training accuracy = 84.29%, val_loss = 0.4706, val_accuracy = 84.75% & \n"
     ]
    },
    {
     "name": "stderr",
     "output_type": "stream",
     "text": [
      "Training: : 100%|███████████████████████████████████████████████████████████████████████████| 196/196 [01:41<00:00,  1.93batch/s, accuracy=84.8, loss=0.455]\n",
      "Validation: : 100%|██████████████████████████████████████████████████████████████████████████| 40/40 [00:05<00:00,  7.67batch/s, val_acc=84, val_loss=0.483]\n"
     ]
    },
    {
     "name": "stdout",
     "output_type": "stream",
     "text": [
      "\n",
      "epoch: 38 training loss = 0.4550, training accuracy = 84.79%, val_loss = 0.4833, val_accuracy = 84.02% & \n"
     ]
    },
    {
     "name": "stderr",
     "output_type": "stream",
     "text": [
      "Training: : 100%|█████████████████████████████████████████████████████████████████████████████| 196/196 [01:41<00:00,  1.93batch/s, accuracy=85, loss=0.446]\n",
      "Validation: : 100%|████████████████████████████████████████████████████████████████████████| 40/40 [00:05<00:00,  7.67batch/s, val_acc=82.7, val_loss=0.518]\n"
     ]
    },
    {
     "name": "stdout",
     "output_type": "stream",
     "text": [
      "\n",
      "epoch: 39 training loss = 0.4462, training accuracy = 85.00%, val_loss = 0.5180, val_accuracy = 82.68% & \n"
     ]
    },
    {
     "name": "stderr",
     "output_type": "stream",
     "text": [
      "Training: : 100%|███████████████████████████████████████████████████████████████████████████| 196/196 [01:41<00:00,  1.93batch/s, accuracy=85.1, loss=0.446]\n",
      "Validation: : 100%|████████████████████████████████████████████████████████████████████████| 40/40 [00:05<00:00,  7.70batch/s, val_acc=85.2, val_loss=0.456]\n"
     ]
    },
    {
     "name": "stdout",
     "output_type": "stream",
     "text": [
      "\n",
      "epoch: 40 training loss = 0.4462, training accuracy = 85.15%, val_loss = 0.4556, val_accuracy = 85.22% & \n",
      "Saving model with highest val_acc = 85.2200%\n",
      "\n"
     ]
    },
    {
     "name": "stderr",
     "output_type": "stream",
     "text": [
      "Training: : 100%|███████████████████████████████████████████████████████████████████████████| 196/196 [01:41<00:00,  1.93batch/s, accuracy=85.1, loss=0.449]\n",
      "Validation: : 100%|████████████████████████████████████████████████████████████████████████| 40/40 [00:05<00:00,  7.67batch/s, val_acc=84.3, val_loss=0.482]\n"
     ]
    },
    {
     "name": "stdout",
     "output_type": "stream",
     "text": [
      "\n",
      "epoch: 41 training loss = 0.4492, training accuracy = 85.08%, val_loss = 0.4819, val_accuracy = 84.30% & \n"
     ]
    },
    {
     "name": "stderr",
     "output_type": "stream",
     "text": [
      "Training: : 100%|███████████████████████████████████████████████████████████████████████████| 196/196 [01:41<00:00,  1.93batch/s, accuracy=85.3, loss=0.439]\n",
      "Validation: : 100%|█████████████████████████████████████████████████████████████████████████| 40/40 [00:05<00:00,  7.67batch/s, val_acc=82.8, val_loss=0.54]\n"
     ]
    },
    {
     "name": "stdout",
     "output_type": "stream",
     "text": [
      "\n",
      "epoch: 42 training loss = 0.4390, training accuracy = 85.33%, val_loss = 0.5397, val_accuracy = 82.78% & \n"
     ]
    },
    {
     "name": "stderr",
     "output_type": "stream",
     "text": [
      "Training: : 100%|███████████████████████████████████████████████████████████████████████████| 196/196 [01:41<00:00,  1.93batch/s, accuracy=85.2, loss=0.437]\n",
      "Validation: : 100%|█████████████████████████████████████████████████████████████████████████| 40/40 [00:05<00:00,  7.72batch/s, val_acc=83.6, val_loss=0.51]\n"
     ]
    },
    {
     "name": "stdout",
     "output_type": "stream",
     "text": [
      "\n",
      "epoch: 43 training loss = 0.4373, training accuracy = 85.24%, val_loss = 0.5097, val_accuracy = 83.60% & \n"
     ]
    },
    {
     "name": "stderr",
     "output_type": "stream",
     "text": [
      "Training: : 100%|███████████████████████████████████████████████████████████████████████████| 196/196 [01:41<00:00,  1.93batch/s, accuracy=85.4, loss=0.436]\n",
      "Validation: : 100%|████████████████████████████████████████████████████████████████████████| 40/40 [00:05<00:00,  7.70batch/s, val_acc=83.2, val_loss=0.529]\n"
     ]
    },
    {
     "name": "stdout",
     "output_type": "stream",
     "text": [
      "\n",
      "epoch: 44 training loss = 0.4361, training accuracy = 85.38%, val_loss = 0.5288, val_accuracy = 83.22% & \n"
     ]
    },
    {
     "name": "stderr",
     "output_type": "stream",
     "text": [
      "Training: : 100%|███████████████████████████████████████████████████████████████████████████| 196/196 [01:41<00:00,  1.93batch/s, accuracy=85.8, loss=0.428]\n",
      "Validation: : 100%|████████████████████████████████████████████████████████████████████████| 40/40 [00:05<00:00,  7.69batch/s, val_acc=91.2, val_loss=0.266]\n"
     ]
    },
    {
     "name": "stdout",
     "output_type": "stream",
     "text": [
      "\n",
      "epoch: 45 training loss = 0.4276, training accuracy = 85.80%, val_loss = 0.2661, val_accuracy = 91.17% & \n",
      "Saving model with highest val_acc = 91.1700%\n",
      "\n"
     ]
    },
    {
     "name": "stderr",
     "output_type": "stream",
     "text": [
      "Training: : 100%|███████████████████████████████████████████████████████████████████████████| 196/196 [01:41<00:00,  1.93batch/s, accuracy=91.1, loss=0.267]\n",
      "Validation: : 100%|████████████████████████████████████████████████████████████████████████| 40/40 [00:05<00:00,  7.70batch/s, val_acc=92.7, val_loss=0.221]\n"
     ]
    },
    {
     "name": "stdout",
     "output_type": "stream",
     "text": [
      "\n",
      "epoch: 46 training loss = 0.2667, training accuracy = 91.10%, val_loss = 0.2206, val_accuracy = 92.74% & \n",
      "Saving model with highest val_acc = 92.7400%\n",
      "\n"
     ]
    },
    {
     "name": "stderr",
     "output_type": "stream",
     "text": [
      "Training: : 100%|███████████████████████████████████████████████████████████████████████████| 196/196 [01:41<00:00,  1.93batch/s, accuracy=92.3, loss=0.228]\n",
      "Validation: : 100%|████████████████████████████████████████████████████████████████████████| 40/40 [00:05<00:00,  7.71batch/s, val_acc=93.4, val_loss=0.203]\n"
     ]
    },
    {
     "name": "stdout",
     "output_type": "stream",
     "text": [
      "\n",
      "epoch: 47 training loss = 0.2283, training accuracy = 92.29%, val_loss = 0.2025, val_accuracy = 93.39% & \n",
      "Saving model with highest val_acc = 93.3900%\n",
      "\n"
     ]
    },
    {
     "name": "stderr",
     "output_type": "stream",
     "text": [
      "Training: : 100%|█████████████████████████████████████████████████████████████████████████████| 196/196 [01:41<00:00,  1.93batch/s, accuracy=93, loss=0.207]\n",
      "Validation: : 100%|████████████████████████████████████████████████████████████████████████| 40/40 [00:05<00:00,  7.71batch/s, val_acc=93.3, val_loss=0.207]\n"
     ]
    },
    {
     "name": "stdout",
     "output_type": "stream",
     "text": [
      "\n",
      "epoch: 48 training loss = 0.2069, training accuracy = 93.03%, val_loss = 0.2065, val_accuracy = 93.31% & \n"
     ]
    },
    {
     "name": "stderr",
     "output_type": "stream",
     "text": [
      "Training: : 100%|███████████████████████████████████████████████████████████████████████████| 196/196 [01:41<00:00,  1.93batch/s, accuracy=93.6, loss=0.194]\n",
      "Validation: : 100%|████████████████████████████████████████████████████████████████████████| 40/40 [00:05<00:00,  7.70batch/s, val_acc=93.4, val_loss=0.201]\n"
     ]
    },
    {
     "name": "stdout",
     "output_type": "stream",
     "text": [
      "\n",
      "epoch: 49 training loss = 0.1942, training accuracy = 93.56%, val_loss = 0.2014, val_accuracy = 93.36% & \n"
     ]
    },
    {
     "name": "stderr",
     "output_type": "stream",
     "text": [
      "Training: : 100%|███████████████████████████████████████████████████████████████████████████| 196/196 [01:41<00:00,  1.93batch/s, accuracy=93.8, loss=0.184]\n",
      "Validation: : 100%|████████████████████████████████████████████████████████████████████████| 40/40 [00:05<00:00,  7.69batch/s, val_acc=93.7, val_loss=0.191]\n"
     ]
    },
    {
     "name": "stdout",
     "output_type": "stream",
     "text": [
      "\n",
      "epoch: 50 training loss = 0.1836, training accuracy = 93.83%, val_loss = 0.1909, val_accuracy = 93.65% & \n",
      "Saving model with highest val_acc = 93.6500%\n",
      "\n"
     ]
    },
    {
     "name": "stderr",
     "output_type": "stream",
     "text": [
      "Training: : 100%|███████████████████████████████████████████████████████████████████████████| 196/196 [01:41<00:00,  1.93batch/s, accuracy=94.2, loss=0.175]\n",
      "Validation: : 100%|████████████████████████████████████████████████████████████████████████| 40/40 [00:05<00:00,  7.72batch/s, val_acc=93.8, val_loss=0.198]\n"
     ]
    },
    {
     "name": "stdout",
     "output_type": "stream",
     "text": [
      "\n",
      "epoch: 51 training loss = 0.1754, training accuracy = 94.23%, val_loss = 0.1981, val_accuracy = 93.78% & \n",
      "Saving model with highest val_acc = 93.7800%\n",
      "\n"
     ]
    },
    {
     "name": "stderr",
     "output_type": "stream",
     "text": [
      "Training: : 100%|███████████████████████████████████████████████████████████████████████████| 196/196 [01:41<00:00,  1.93batch/s, accuracy=94.4, loss=0.169]\n",
      "Validation: : 100%|████████████████████████████████████████████████████████████████████████| 40/40 [00:05<00:00,  7.69batch/s, val_acc=93.7, val_loss=0.197]\n"
     ]
    },
    {
     "name": "stdout",
     "output_type": "stream",
     "text": [
      "\n",
      "epoch: 52 training loss = 0.1689, training accuracy = 94.42%, val_loss = 0.1975, val_accuracy = 93.68% & \n"
     ]
    },
    {
     "name": "stderr",
     "output_type": "stream",
     "text": [
      "Training: : 100%|███████████████████████████████████████████████████████████████████████████| 196/196 [01:41<00:00,  1.93batch/s, accuracy=94.7, loss=0.162]\n",
      "Validation: : 100%|████████████████████████████████████████████████████████████████████████| 40/40 [00:05<00:00,  7.70batch/s, val_acc=93.4, val_loss=0.209]\n"
     ]
    },
    {
     "name": "stdout",
     "output_type": "stream",
     "text": [
      "\n",
      "epoch: 53 training loss = 0.1619, training accuracy = 94.67%, val_loss = 0.2085, val_accuracy = 93.41% & \n"
     ]
    },
    {
     "name": "stderr",
     "output_type": "stream",
     "text": [
      "Training: : 100%|███████████████████████████████████████████████████████████████████████████| 196/196 [01:41<00:00,  1.93batch/s, accuracy=94.8, loss=0.157]\n",
      "Validation: : 100%|████████████████████████████████████████████████████████████████████████| 40/40 [00:05<00:00,  7.68batch/s, val_acc=93.8, val_loss=0.194]\n"
     ]
    },
    {
     "name": "stdout",
     "output_type": "stream",
     "text": [
      "\n",
      "epoch: 54 training loss = 0.1572, training accuracy = 94.85%, val_loss = 0.1939, val_accuracy = 93.82% & \n",
      "Saving model with highest val_acc = 93.8200%\n",
      "\n"
     ]
    },
    {
     "name": "stderr",
     "output_type": "stream",
     "text": [
      "Training: : 100%|█████████████████████████████████████████████████████████████████████████████| 196/196 [01:41<00:00,  1.93batch/s, accuracy=95, loss=0.152]\n",
      "Validation: : 100%|████████████████████████████████████████████████████████████████████████| 40/40 [00:05<00:00,  7.68batch/s, val_acc=93.9, val_loss=0.197]\n"
     ]
    },
    {
     "name": "stdout",
     "output_type": "stream",
     "text": [
      "\n",
      "epoch: 55 training loss = 0.1516, training accuracy = 95.04%, val_loss = 0.1969, val_accuracy = 93.87% & \n",
      "Saving model with highest val_acc = 93.8700%\n",
      "\n"
     ]
    },
    {
     "name": "stderr",
     "output_type": "stream",
     "text": [
      "Training: : 100%|███████████████████████████████████████████████████████████████████████████| 196/196 [01:41<00:00,  1.93batch/s, accuracy=95.2, loss=0.148]\n",
      "Validation: : 100%|████████████████████████████████████████████████████████████████████████| 40/40 [00:05<00:00,  7.68batch/s, val_acc=93.7, val_loss=0.201]\n"
     ]
    },
    {
     "name": "stdout",
     "output_type": "stream",
     "text": [
      "\n",
      "epoch: 56 training loss = 0.1476, training accuracy = 95.25%, val_loss = 0.2006, val_accuracy = 93.71% & \n"
     ]
    },
    {
     "name": "stderr",
     "output_type": "stream",
     "text": [
      "Training: : 100%|███████████████████████████████████████████████████████████████████████████| 196/196 [01:41<00:00,  1.93batch/s, accuracy=95.4, loss=0.144]\n",
      "Validation: : 100%|█████████████████████████████████████████████████████████████████████████| 40/40 [00:05<00:00,  7.68batch/s, val_acc=93.8, val_loss=0.19]\n"
     ]
    },
    {
     "name": "stdout",
     "output_type": "stream",
     "text": [
      "\n",
      "epoch: 57 training loss = 0.1436, training accuracy = 95.41%, val_loss = 0.1896, val_accuracy = 93.78% & \n"
     ]
    },
    {
     "name": "stderr",
     "output_type": "stream",
     "text": [
      "Training: : 100%|███████████████████████████████████████████████████████████████████████████| 196/196 [01:41<00:00,  1.93batch/s, accuracy=95.6, loss=0.136]\n",
      "Validation: : 100%|████████████████████████████████████████████████████████████████████████| 40/40 [00:05<00:00,  7.70batch/s, val_acc=93.8, val_loss=0.198]\n"
     ]
    },
    {
     "name": "stdout",
     "output_type": "stream",
     "text": [
      "\n",
      "epoch: 58 training loss = 0.1357, training accuracy = 95.55%, val_loss = 0.1983, val_accuracy = 93.77% & \n"
     ]
    },
    {
     "name": "stderr",
     "output_type": "stream",
     "text": [
      "Training: : 100%|███████████████████████████████████████████████████████████████████████████| 196/196 [01:41<00:00,  1.94batch/s, accuracy=95.6, loss=0.134]\n",
      "Validation: : 100%|█████████████████████████████████████████████████████████████████████████| 40/40 [00:05<00:00,  7.72batch/s, val_acc=94.1, val_loss=0.19]\n"
     ]
    },
    {
     "name": "stdout",
     "output_type": "stream",
     "text": [
      "\n",
      "epoch: 59 training loss = 0.1337, training accuracy = 95.65%, val_loss = 0.1904, val_accuracy = 94.14% & \n",
      "Saving model with highest val_acc = 94.1400%\n",
      "\n"
     ]
    },
    {
     "name": "stderr",
     "output_type": "stream",
     "text": [
      "Training: : 100%|███████████████████████████████████████████████████████████████████████████| 196/196 [01:41<00:00,  1.93batch/s, accuracy=95.8, loss=0.129]\n",
      "Validation: : 100%|████████████████████████████████████████████████████████████████████████| 40/40 [00:05<00:00,  7.72batch/s, val_acc=93.9, val_loss=0.196]\n"
     ]
    },
    {
     "name": "stdout",
     "output_type": "stream",
     "text": [
      "\n",
      "epoch: 60 training loss = 0.1293, training accuracy = 95.83%, val_loss = 0.1957, val_accuracy = 93.92% & \n"
     ]
    },
    {
     "name": "stderr",
     "output_type": "stream",
     "text": [
      "Training: : 100%|███████████████████████████████████████████████████████████████████████████| 196/196 [01:41<00:00,  1.93batch/s, accuracy=95.9, loss=0.128]\n",
      "Validation: : 100%|████████████████████████████████████████████████████████████████████████| 40/40 [00:05<00:00,  7.69batch/s, val_acc=93.9, val_loss=0.198]\n"
     ]
    },
    {
     "name": "stdout",
     "output_type": "stream",
     "text": [
      "\n",
      "epoch: 61 training loss = 0.1282, training accuracy = 95.88%, val_loss = 0.1976, val_accuracy = 93.93% & \n"
     ]
    },
    {
     "name": "stderr",
     "output_type": "stream",
     "text": [
      "Training: : 100%|███████████████████████████████████████████████████████████████████████████| 196/196 [01:41<00:00,  1.93batch/s, accuracy=95.9, loss=0.126]\n",
      "Validation: : 100%|████████████████████████████████████████████████████████████████████████| 40/40 [00:05<00:00,  7.68batch/s, val_acc=93.9, val_loss=0.196]\n"
     ]
    },
    {
     "name": "stdout",
     "output_type": "stream",
     "text": [
      "\n",
      "epoch: 62 training loss = 0.1265, training accuracy = 95.93%, val_loss = 0.1964, val_accuracy = 93.90% & \n"
     ]
    },
    {
     "name": "stderr",
     "output_type": "stream",
     "text": [
      "Training: : 100%|███████████████████████████████████████████████████████████████████████████| 196/196 [01:41<00:00,  1.93batch/s, accuracy=96.1, loss=0.122]\n",
      "Validation: : 100%|████████████████████████████████████████████████████████████████████████| 40/40 [00:05<00:00,  7.72batch/s, val_acc=93.9, val_loss=0.202]\n"
     ]
    },
    {
     "name": "stdout",
     "output_type": "stream",
     "text": [
      "\n",
      "epoch: 63 training loss = 0.1220, training accuracy = 96.06%, val_loss = 0.2024, val_accuracy = 93.94% & \n"
     ]
    },
    {
     "name": "stderr",
     "output_type": "stream",
     "text": [
      "Training: : 100%|███████████████████████████████████████████████████████████████████████████| 196/196 [01:41<00:00,  1.93batch/s, accuracy=96.2, loss=0.118]\n",
      "Validation: : 100%|████████████████████████████████████████████████████████████████████████| 40/40 [00:05<00:00,  7.67batch/s, val_acc=93.9, val_loss=0.198]\n"
     ]
    },
    {
     "name": "stdout",
     "output_type": "stream",
     "text": [
      "\n",
      "epoch: 64 training loss = 0.1183, training accuracy = 96.16%, val_loss = 0.1982, val_accuracy = 93.90% & \n"
     ]
    },
    {
     "name": "stderr",
     "output_type": "stream",
     "text": [
      "Training: : 100%|███████████████████████████████████████████████████████████████████████████| 196/196 [01:41<00:00,  1.93batch/s, accuracy=96.3, loss=0.117]\n",
      "Validation: : 100%|██████████████████████████████████████████████████████████████████████████| 40/40 [00:05<00:00,  7.71batch/s, val_acc=94, val_loss=0.203]\n"
     ]
    },
    {
     "name": "stdout",
     "output_type": "stream",
     "text": [
      "\n",
      "epoch: 65 training loss = 0.1174, training accuracy = 96.28%, val_loss = 0.2032, val_accuracy = 93.95% & \n"
     ]
    },
    {
     "name": "stderr",
     "output_type": "stream",
     "text": [
      "Training: : 100%|███████████████████████████████████████████████████████████████████████████| 196/196 [01:41<00:00,  1.93batch/s, accuracy=96.3, loss=0.115]\n",
      "Validation: : 100%|████████████████████████████████████████████████████████████████████████| 40/40 [00:05<00:00,  7.71batch/s, val_acc=93.5, val_loss=0.212]\n"
     ]
    },
    {
     "name": "stdout",
     "output_type": "stream",
     "text": [
      "\n",
      "epoch: 66 training loss = 0.1148, training accuracy = 96.32%, val_loss = 0.2117, val_accuracy = 93.49% & \n"
     ]
    },
    {
     "name": "stderr",
     "output_type": "stream",
     "text": [
      "Training: : 100%|███████████████████████████████████████████████████████████████████████████| 196/196 [01:41<00:00,  1.93batch/s, accuracy=96.4, loss=0.115]\n",
      "Validation: : 100%|████████████████████████████████████████████████████████████████████████| 40/40 [00:05<00:00,  7.67batch/s, val_acc=93.9, val_loss=0.198]\n"
     ]
    },
    {
     "name": "stdout",
     "output_type": "stream",
     "text": [
      "\n",
      "epoch: 67 training loss = 0.1152, training accuracy = 96.38%, val_loss = 0.1976, val_accuracy = 93.92% & \n"
     ]
    },
    {
     "name": "stderr",
     "output_type": "stream",
     "text": [
      "Training: : 100%|████████████████████████████████████████████████████████████████████████████| 196/196 [01:41<00:00,  1.93batch/s, accuracy=96.5, loss=0.11]\n",
      "Validation: : 100%|████████████████████████████████████████████████████████████████████████| 40/40 [00:05<00:00,  7.71batch/s, val_acc=93.7, val_loss=0.204]\n"
     ]
    },
    {
     "name": "stdout",
     "output_type": "stream",
     "text": [
      "\n",
      "epoch: 68 training loss = 0.1096, training accuracy = 96.52%, val_loss = 0.2039, val_accuracy = 93.67% & \n"
     ]
    },
    {
     "name": "stderr",
     "output_type": "stream",
     "text": [
      "Training: : 100%|███████████████████████████████████████████████████████████████████████████| 196/196 [01:41<00:00,  1.93batch/s, accuracy=96.7, loss=0.105]\n",
      "Validation: : 100%|█████████████████████████████████████████████████████████████████████████| 40/40 [00:05<00:00,  7.72batch/s, val_acc=93.7, val_loss=0.21]\n"
     ]
    },
    {
     "name": "stdout",
     "output_type": "stream",
     "text": [
      "\n",
      "epoch: 69 training loss = 0.1055, training accuracy = 96.67%, val_loss = 0.2096, val_accuracy = 93.66% & \n"
     ]
    },
    {
     "name": "stderr",
     "output_type": "stream",
     "text": [
      "Training: : 100%|███████████████████████████████████████████████████████████████████████████| 196/196 [01:41<00:00,  1.93batch/s, accuracy=96.5, loss=0.109]\n",
      "Validation: : 100%|██████████████████████████████████████████████████████████████████████████| 40/40 [00:05<00:00,  7.67batch/s, val_acc=94, val_loss=0.196]\n"
     ]
    },
    {
     "name": "stdout",
     "output_type": "stream",
     "text": [
      "\n",
      "epoch: 70 training loss = 0.1090, training accuracy = 96.50%, val_loss = 0.1963, val_accuracy = 93.97% & \n"
     ]
    },
    {
     "name": "stderr",
     "output_type": "stream",
     "text": [
      "Training: : 100%|██████████████████████████████████████████████████████████████████████████| 196/196 [01:41<00:00,  1.93batch/s, accuracy=97.3, loss=0.0901]\n",
      "Validation: : 100%|█████████████████████████████████████████████████████████████████████████| 40/40 [00:05<00:00,  7.70batch/s, val_acc=94.2, val_loss=0.19]\n"
     ]
    },
    {
     "name": "stdout",
     "output_type": "stream",
     "text": [
      "\n",
      "epoch: 71 training loss = 0.0901, training accuracy = 97.31%, val_loss = 0.1902, val_accuracy = 94.16% & \n",
      "Saving model with highest val_acc = 94.1600%\n",
      "\n"
     ]
    },
    {
     "name": "stderr",
     "output_type": "stream",
     "text": [
      "Training: : 100%|██████████████████████████████████████████████████████████████████████████| 196/196 [01:41<00:00,  1.93batch/s, accuracy=97.4, loss=0.0842]\n",
      "Validation: : 100%|████████████████████████████████████████████████████████████████████████| 40/40 [00:05<00:00,  7.67batch/s, val_acc=94.2, val_loss=0.191]\n"
     ]
    },
    {
     "name": "stdout",
     "output_type": "stream",
     "text": [
      "\n",
      "epoch: 72 training loss = 0.0842, training accuracy = 97.44%, val_loss = 0.1911, val_accuracy = 94.18% & \n",
      "Saving model with highest val_acc = 94.1800%\n",
      "\n"
     ]
    },
    {
     "name": "stderr",
     "output_type": "stream",
     "text": [
      "Training: : 100%|███████████████████████████████████████████████████████████████████████████| 196/196 [01:41<00:00,  1.93batch/s, accuracy=97.6, loss=0.082]\n",
      "Validation: : 100%|█████████████████████████████████████████████████████████████████████████| 40/40 [00:05<00:00,  7.72batch/s, val_acc=94.3, val_loss=0.19]\n"
     ]
    },
    {
     "name": "stdout",
     "output_type": "stream",
     "text": [
      "\n",
      "epoch: 73 training loss = 0.0820, training accuracy = 97.60%, val_loss = 0.1896, val_accuracy = 94.29% & \n",
      "Saving model with highest val_acc = 94.2900%\n",
      "\n"
     ]
    },
    {
     "name": "stderr",
     "output_type": "stream",
     "text": [
      "Training: : 100%|██████████████████████████████████████████████████████████████████████████| 196/196 [01:41<00:00,  1.93batch/s, accuracy=97.7, loss=0.0788]\n",
      "Validation: : 100%|████████████████████████████████████████████████████████████████████████| 40/40 [00:05<00:00,  7.69batch/s, val_acc=94.3, val_loss=0.189]\n"
     ]
    },
    {
     "name": "stdout",
     "output_type": "stream",
     "text": [
      "\n",
      "epoch: 74 training loss = 0.0788, training accuracy = 97.66%, val_loss = 0.1890, val_accuracy = 94.26% & \n"
     ]
    },
    {
     "name": "stderr",
     "output_type": "stream",
     "text": [
      "Training: : 100%|██████████████████████████████████████████████████████████████████████████| 196/196 [01:41<00:00,  1.93batch/s, accuracy=97.8, loss=0.0744]\n",
      "Validation: : 100%|████████████████████████████████████████████████████████████████████████| 40/40 [00:05<00:00,  7.68batch/s, val_acc=94.2, val_loss=0.189]\n"
     ]
    },
    {
     "name": "stdout",
     "output_type": "stream",
     "text": [
      "\n",
      "epoch: 75 training loss = 0.0744, training accuracy = 97.76%, val_loss = 0.1887, val_accuracy = 94.23% & \n"
     ]
    },
    {
     "name": "stderr",
     "output_type": "stream",
     "text": [
      "Training: : 100%|███████████████████████████████████████████████████████████████████████████| 196/196 [01:41<00:00,  1.93batch/s, accuracy=97.8, loss=0.075]\n",
      "Validation: : 100%|████████████████████████████████████████████████████████████████████████| 40/40 [00:05<00:00,  7.69batch/s, val_acc=94.4, val_loss=0.187]\n"
     ]
    },
    {
     "name": "stdout",
     "output_type": "stream",
     "text": [
      "\n",
      "epoch: 76 training loss = 0.0750, training accuracy = 97.80%, val_loss = 0.1866, val_accuracy = 94.37% & \n",
      "Saving model with highest val_acc = 94.3700%\n",
      "\n"
     ]
    },
    {
     "name": "stderr",
     "output_type": "stream",
     "text": [
      "Training: : 100%|██████████████████████████████████████████████████████████████████████████| 196/196 [01:41<00:00,  1.93batch/s, accuracy=97.8, loss=0.0741]\n",
      "Validation: : 100%|████████████████████████████████████████████████████████████████████████| 40/40 [00:05<00:00,  7.69batch/s, val_acc=94.3, val_loss=0.188]\n"
     ]
    },
    {
     "name": "stdout",
     "output_type": "stream",
     "text": [
      "\n",
      "epoch: 77 training loss = 0.0741, training accuracy = 97.78%, val_loss = 0.1878, val_accuracy = 94.35% & \n"
     ]
    },
    {
     "name": "stderr",
     "output_type": "stream",
     "text": [
      "Training: : 100%|██████████████████████████████████████████████████████████████████████████| 196/196 [01:41<00:00,  1.93batch/s, accuracy=97.9, loss=0.0721]\n",
      "Validation: : 100%|████████████████████████████████████████████████████████████████████████| 40/40 [00:05<00:00,  7.71batch/s, val_acc=94.3, val_loss=0.189]\n"
     ]
    },
    {
     "name": "stdout",
     "output_type": "stream",
     "text": [
      "\n",
      "epoch: 78 training loss = 0.0721, training accuracy = 97.87%, val_loss = 0.1888, val_accuracy = 94.32% & \n"
     ]
    },
    {
     "name": "stderr",
     "output_type": "stream",
     "text": [
      "Training: : 100%|████████████████████████████████████████████████████████████████████████████| 196/196 [01:41<00:00,  1.93batch/s, accuracy=98, loss=0.0706]\n",
      "Validation: : 100%|████████████████████████████████████████████████████████████████████████| 40/40 [00:05<00:00,  7.68batch/s, val_acc=94.4, val_loss=0.189]\n"
     ]
    },
    {
     "name": "stdout",
     "output_type": "stream",
     "text": [
      "\n",
      "epoch: 79 training loss = 0.0706, training accuracy = 97.98%, val_loss = 0.1891, val_accuracy = 94.38% & \n",
      "Saving model with highest val_acc = 94.3800%\n",
      "\n"
     ]
    },
    {
     "name": "stderr",
     "output_type": "stream",
     "text": [
      "Training: : 100%|████████████████████████████████████████████████████████████████████████████| 196/196 [01:41<00:00,  1.93batch/s, accuracy=98, loss=0.0705]\n",
      "Validation: : 100%|████████████████████████████████████████████████████████████████████████| 40/40 [00:05<00:00,  7.69batch/s, val_acc=94.3, val_loss=0.189]\n"
     ]
    },
    {
     "name": "stdout",
     "output_type": "stream",
     "text": [
      "\n",
      "epoch: 80 training loss = 0.0705, training accuracy = 97.98%, val_loss = 0.1885, val_accuracy = 94.26% & \n"
     ]
    },
    {
     "name": "stderr",
     "output_type": "stream",
     "text": [
      "Training: : 100%|██████████████████████████████████████████████████████████████████████████| 196/196 [01:41<00:00,  1.93batch/s, accuracy=97.9, loss=0.0695]\n",
      "Validation: : 100%|████████████████████████████████████████████████████████████████████████| 40/40 [00:05<00:00,  7.74batch/s, val_acc=94.3, val_loss=0.187]\n"
     ]
    },
    {
     "name": "stdout",
     "output_type": "stream",
     "text": [
      "\n",
      "epoch: 81 training loss = 0.0695, training accuracy = 97.93%, val_loss = 0.1875, val_accuracy = 94.33% & \n"
     ]
    },
    {
     "name": "stderr",
     "output_type": "stream",
     "text": [
      "Training: : 100%|████████████████████████████████████████████████████████████████████████████| 196/196 [01:41<00:00,  1.93batch/s, accuracy=98, loss=0.0674]\n",
      "Validation: : 100%|████████████████████████████████████████████████████████████████████████| 40/40 [00:05<00:00,  7.69batch/s, val_acc=94.5, val_loss=0.187]\n"
     ]
    },
    {
     "name": "stdout",
     "output_type": "stream",
     "text": [
      "\n",
      "epoch: 82 training loss = 0.0674, training accuracy = 98.03%, val_loss = 0.1868, val_accuracy = 94.47% & \n",
      "Saving model with highest val_acc = 94.4700%\n",
      "\n"
     ]
    },
    {
     "name": "stderr",
     "output_type": "stream",
     "text": [
      "Training: : 100%|████████████████████████████████████████████████████████████████████████████| 196/196 [01:41<00:00,  1.93batch/s, accuracy=98, loss=0.0675]\n",
      "Validation: : 100%|████████████████████████████████████████████████████████████████████████| 40/40 [00:05<00:00,  7.67batch/s, val_acc=94.4, val_loss=0.185]\n"
     ]
    },
    {
     "name": "stdout",
     "output_type": "stream",
     "text": [
      "\n",
      "epoch: 83 training loss = 0.0675, training accuracy = 97.96%, val_loss = 0.1848, val_accuracy = 94.40% & \n"
     ]
    },
    {
     "name": "stderr",
     "output_type": "stream",
     "text": [
      "Training: : 100%|██████████████████████████████████████████████████████████████████████████| 196/196 [01:41<00:00,  1.93batch/s, accuracy=98.1, loss=0.0672]\n",
      "Validation: : 100%|████████████████████████████████████████████████████████████████████████| 40/40 [00:05<00:00,  7.68batch/s, val_acc=94.5, val_loss=0.188]\n"
     ]
    },
    {
     "name": "stdout",
     "output_type": "stream",
     "text": [
      "\n",
      "epoch: 84 training loss = 0.0672, training accuracy = 98.07%, val_loss = 0.1877, val_accuracy = 94.51% & \n",
      "Saving model with highest val_acc = 94.5100%\n",
      "\n"
     ]
    },
    {
     "name": "stderr",
     "output_type": "stream",
     "text": [
      "Training: : 100%|████████████████████████████████████████████████████████████████████████████| 196/196 [01:41<00:00,  1.93batch/s, accuracy=98, loss=0.0679]\n",
      "Validation: : 100%|████████████████████████████████████████████████████████████████████████| 40/40 [00:05<00:00,  7.67batch/s, val_acc=94.3, val_loss=0.188]"
     ]
    },
    {
     "name": "stdout",
     "output_type": "stream",
     "text": [
      "\n",
      "epoch: 85 training loss = 0.0679, training accuracy = 98.00%, val_loss = 0.1884, val_accuracy = 94.33% & \n"
     ]
    },
    {
     "name": "stderr",
     "output_type": "stream",
     "text": [
      "\n"
     ]
    }
   ],
   "source": [
    "for epoch in range(num_epochs):\n",
    "\n",
    "    # Train and validate model for 1 epoch-\n",
    "    train_loss, train_acc = train_model_progress(\n",
    "        model, train_loader,\n",
    "        train_dataset\n",
    "    )\n",
    "    val_loss, val_acc = test_model_progress(\n",
    "        model, val_loader,\n",
    "        val_dataset\n",
    "    )\n",
    "    \n",
    "    print(f\"\\nepoch: {epoch + 1} training loss = {train_loss:.4f}, \"\n",
    "          f\"training accuracy = {train_acc:.2f}%, val_loss = {val_loss:.4f}\"\n",
    "          f\", val_accuracy = {val_acc:.2f}% & \"\n",
    "          # f\" beta = {model.beta.cpu().detach().numpy():.6f} & LR = {optimizer.param_groups[0]['lr']:.5f}\\n\"\n",
    "         )\n",
    "    \n",
    "    training_history_lr_scheduler[epoch + 1] = {\n",
    "        'loss': train_loss, 'acc': train_acc,\n",
    "        'val_loss': val_loss, 'val_acc': val_acc,\n",
    "        'lr': optimizer.param_groups[0]['lr'],\n",
    "        # 'beta': model.beta.cpu().detach().numpy()\n",
    "    }\n",
    "\n",
    "    \n",
    "    # Save best weights achieved until now-\n",
    "    if (val_acc > best_val_acc):\n",
    "        # update 'best_val_loss' variable to lowest loss encountered so far-\n",
    "        best_val_acc = val_acc\n",
    "\n",
    "        print(f\"Saving model with highest val_acc = {val_acc:.4f}%\\n\")\n",
    "        \n",
    "        # Save trained model with 'best' validation accuracy-\n",
    "        torch.save(model.state_dict(), \"InceptionNet_best_model.pth\")\n",
    "        "
   ]
  },
  {
   "cell_type": "code",
   "execution_count": null,
   "id": "67d0b5b7-8a4b-46a0-8a59-91f6a900aa8b",
   "metadata": {},
   "outputs": [],
   "source": []
  },
  {
   "cell_type": "code",
   "execution_count": 18,
   "id": "0c8d0b29-c41c-4c16-803f-46bd901ab61c",
   "metadata": {
    "tags": []
   },
   "outputs": [],
   "source": [
    "# Save training metrics as Python3 history for later analysis-\n",
    "with open(\"InceptionNet_training_history.pkl\", \"wb\") as file:\n",
    "    pickle.dump(training_history_lr_scheduler, file)"
   ]
  },
  {
   "cell_type": "code",
   "execution_count": null,
   "id": "47a91b3e-33c1-4b93-b67e-47902e4d46d2",
   "metadata": {},
   "outputs": [],
   "source": []
  },
  {
   "cell_type": "code",
   "execution_count": null,
   "id": "ea706e26-96dc-439f-8940-038d0814e87c",
   "metadata": {},
   "outputs": [],
   "source": []
  },
  {
   "cell_type": "markdown",
   "id": "be8b0bc5-8a69-4ecf-b045-b0e36bf2bb40",
   "metadata": {},
   "source": [
    "### Training Visualizations"
   ]
  },
  {
   "cell_type": "code",
   "execution_count": 19,
   "id": "b32f2f74-87eb-42f2-8f59-59e6cf54251f",
   "metadata": {
    "tags": []
   },
   "outputs": [
    {
     "data": {
      "image/png": "[encoded data removed]",
      "text/plain": [
       "<Figure size 900x700 with 1 Axes>"
      ]
     },
     "metadata": {},
     "output_type": "display_data"
    }
   ],
   "source": [
    "plt.figure(figsize = (9, 7))\n",
    "plt.plot(list(training_history_lr_scheduler.keys()), [training_history_lr_scheduler[k]['acc'] for k in training_history_lr_scheduler.keys()], label = 'training acc')\n",
    "plt.plot(list(training_history_lr_scheduler.keys()), [training_history_lr_scheduler[k]['val_acc'] for k in training_history_lr_scheduler.keys()], label = 'val acc')\n",
    "plt.title(\"InceptionNet: Training Accuracy\")\n",
    "plt.xlabel(\"epochs\")\n",
    "plt.ylabel(\"accuracy (%)\")\n",
    "plt.legend(loc = 'best')\n",
    "plt.show()"
   ]
  },
  {
   "cell_type": "code",
   "execution_count": 20,
   "id": "c16cbe1e-d97d-4c81-97bc-dac73e185a46",
   "metadata": {
    "tags": []
   },
   "outputs": [
    {
     "data": {
      "image/png": "[encoded data removed]",
      "text/plain": [
       "<Figure size 900x700 with 1 Axes>"
      ]
     },
     "metadata": {},
     "output_type": "display_data"
    }
   ],
   "source": [
    "plt.figure(figsize = (9, 7))\n",
    "plt.plot(list(training_history_lr_scheduler.keys()), [training_history_lr_scheduler[k]['loss'] for k in training_history_lr_scheduler.keys()], label = 'training loss')\n",
    "plt.plot(list(training_history_lr_scheduler.keys()), [training_history_lr_scheduler[k]['val_loss'] for k in training_history_lr_scheduler.keys()], label = 'val loss')\n",
    "plt.xlabel(\"epochs\")\n",
    "plt.ylabel(\"loss\")\n",
    "plt.legend(loc = 'best')\n",
    "plt.title(\"InceptionNet: Training Loss\")\n",
    "plt.show()"
   ]
  },
  {
   "cell_type": "code",
   "execution_count": 21,
   "id": "5eab50bc-974b-4e9c-a31a-44d53c2885b5",
   "metadata": {
    "tags": []
   },
   "outputs": [
    {
     "data": {
      "image/png": "[encoded data removed]",
      "text/plain": [
       "<Figure size 900x700 with 1 Axes>"
      ]
     },
     "metadata": {},
     "output_type": "display_data"
    }
   ],
   "source": [
    "plt.figure(figsize = (9, 7))\n",
    "plt.plot(list(training_history_lr_scheduler.keys()), [training_history_lr_scheduler[k]['lr'] for k in training_history_lr_scheduler.keys()])\n",
    "plt.xlabel(\"epochs\")\n",
    "plt.ylabel(\"lr\")\n",
    "plt.title(\"Learning-Rate Scheduler\")\n",
    "plt.show()"
   ]
  },
  {
   "cell_type": "code",
   "execution_count": null,
   "id": "2a1c6e69-3c18-4e17-a9d9-ca36480b9201",
   "metadata": {
    "tags": []
   },
   "outputs": [],
   "source": [
    "'''\n",
    "plt.figure(figsize = (9, 7))\n",
    "plt.plot(list(training_history_lr_scheduler.keys()), [training_history_lr_scheduler[k]['beta'] for k in training_history_lr_scheduler.keys()])\n",
    "plt.xlabel(\"epochs\")\n",
    "plt.ylabel(\"lr\")\n",
    "plt.title(\"InceptionNet: Swish (beta) activation function\")\n",
    "plt.show()\n",
    "'''"
   ]
  },
  {
   "cell_type": "code",
   "execution_count": 22,
   "id": "33f93f11-4717-47ba-8e9c-7aaa0fa30cef",
   "metadata": {
    "tags": []
   },
   "outputs": [],
   "source": [
    "del model"
   ]
  },
  {
   "cell_type": "code",
   "execution_count": null,
   "id": "c7faf704-8d62-4f6c-8a35-3db047d5e5e4",
   "metadata": {},
   "outputs": [],
   "source": []
  },
  {
   "cell_type": "code",
   "execution_count": null,
   "id": "52c9c52e-a953-4525-bf55-cca4e82cdde6",
   "metadata": {},
   "outputs": [],
   "source": []
  },
  {
   "cell_type": "code",
   "execution_count": null,
   "id": "92bef4f5-be77-43fc-be6e-4d82c248699c",
   "metadata": {
    "tags": []
   },
   "outputs": [],
   "source": [
    "# Initialize and load 'best' trained parameters from above-\n",
    "best_model = InceptionNet(\n",
    "    inp_channels = inp_channels,\n",
    "    feat_map = feat_map\n",
    ")\n",
    "best_model.load_state_dict(torch.load(\"InceptionNet_best_model.pth\"))\n",
    "\n",
    "# Move to GPU device-\n",
    "best_model.to(device)"
   ]
  },
  {
   "cell_type": "code",
   "execution_count": 26,
   "id": "5e3abb48-5f38-4b7c-b8dc-c9a79f9a03b3",
   "metadata": {
    "tags": []
   },
   "outputs": [
    {
     "name": "stderr",
     "output_type": "stream",
     "text": [
      "Validation: : 100%|████████████████████████████████████████████████████████████████████████| 40/40 [00:05<00:00,  7.74batch/s, val_acc=94.5, val_loss=0.188]\n"
     ]
    }
   ],
   "source": [
    "# Get validation metrics of 'best' trained model-\n",
    "val_loss, val_acc = test_model_progress(\n",
    "    model = best_model, test_loader = val_loader,\n",
    "    test_dataset = val_dataset\n",
    ")"
   ]
  },
  {
   "cell_type": "code",
   "execution_count": 27,
   "id": "7624efa6-c576-4722-99ba-5b3ad38687d2",
   "metadata": {
    "tags": []
   },
   "outputs": [
    {
     "name": "stdout",
     "output_type": "stream",
     "text": [
      "InceptionNet 'best' trained validation metrics:  loss = 0.1877 & acc = 94.51%\n"
     ]
    }
   ],
   "source": [
    "print(\"InceptionNet 'best' trained validation metrics: \",\n",
    "      f\"loss = {val_loss:.4f} & acc = {val_acc:.2f}%\"\n",
    "     )"
   ]
  },
  {
   "cell_type": "code",
   "execution_count": null,
   "id": "c1fc0370-a8b9-4d4d-871f-9028350812f8",
   "metadata": {},
   "outputs": [],
   "source": []
  },
  {
   "cell_type": "code",
   "execution_count": null,
   "id": "3b4b9e5d-3fe2-4058-b785-705a7414a68d",
   "metadata": {},
   "outputs": [],
   "source": []
  }
 ],
 "metadata": {
  "kernelspec": {
   "display_name": "Python 3 (ipykernel)",
   "language": "python",
   "name": "python3"
  },
  "language_info": {
   "codemirror_mode": {
    "name": "ipython",
    "version": 3
   },
   "file_extension": ".py",
   "mimetype": "text/x-python",
   "name": "python",
   "nbconvert_exporter": "python",
   "pygments_lexer": "ipython3",
   "version": "3.10.8"
  }
 },
 "nbformat": 4,
 "nbformat_minor": 5
}
