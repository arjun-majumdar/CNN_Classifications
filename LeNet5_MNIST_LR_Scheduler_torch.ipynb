{
 "cells": [
  {
   "cell_type": "markdown",
   "id": "b96b6401-a177-44f0-9cb7-2ea3f9a97ae6",
   "metadata": {},
   "source": [
    "# _LeNet-5_ CNN Learning Rate Schedulers: MNIST & PyTorch\n",
    "\n",
    "[Guide to LR Schedulers in PyTorch](https://www.kaggle.com/code/isbhargav/guide-to-pytorch-learning-rate-scheduling/notebook)"
   ]
  },
  {
   "cell_type": "code",
   "execution_count": null,
   "id": "c8abd4da-194e-4298-8a69-ac6f52715016",
   "metadata": {},
   "outputs": [],
   "source": [
    "# Specify GPU to be used-\n",
    "# %env CUDA_DEVICE_ORDER = PCI_BUS_ID\n",
    "# %env CUDA_VISIBLE_DEVICES = 0"
   ]
  },
  {
   "cell_type": "code",
   "execution_count": 1,
   "id": "763122d7-5c29-40d2-9821-5948de00e85f",
   "metadata": {},
   "outputs": [
    {
     "name": "stderr",
     "output_type": "stream",
     "text": [
      "/home/arjun/anaconda3/envs/torch-cpu/lib/python3.10/site-packages/tqdm/auto.py:22: TqdmWarning: IProgress not found. Please update jupyter and ipywidgets. See https://ipywidgets.readthedocs.io/en/stable/user_install.html\n",
      "  from .autonotebook import tqdm as notebook_tqdm\n",
      "/home/arjun/anaconda3/envs/torch-cpu/lib/python3.10/site-packages/torchvision/io/image.py:13: UserWarning: Failed to load image Python extension: /home/arjun/anaconda3/envs/torch-cpu/lib/python3.10/site-packages/torchvision/image.so: undefined symbol: _ZN5torch3jit17parseSchemaOrNameERKNSt7__cxx1112basic_stringIcSt11char_traitsIcESaIcEEE\n",
      "  warn(f\"Failed to load image Python extension: {e}\")\n"
     ]
    }
   ],
   "source": [
    "import torch\n",
    "import torch.nn as nn\n",
    "import torch.nn.functional as F\n",
    "import torchvision\n",
    "import torchvision.transforms as transforms\n",
    "\n",
    "from tqdm import tqdm\n",
    "from tqdm import trange\n",
    "import matplotlib.pyplot as plt\n",
    "import seaborn as sns\n",
    "import numpy as np\n",
    "import pickle"
   ]
  },
  {
   "cell_type": "code",
   "execution_count": null,
   "id": "dbbfd258-e76f-4f7e-90d6-000886db724e",
   "metadata": {},
   "outputs": [],
   "source": []
  },
  {
   "cell_type": "code",
   "execution_count": null,
   "id": "8ac2d226-1f4c-465b-8195-ac1e97c0cfa5",
   "metadata": {},
   "outputs": [],
   "source": []
  },
  {
   "cell_type": "code",
   "execution_count": 2,
   "id": "2d41450a-0448-4193-ad2e-55680e5f871b",
   "metadata": {},
   "outputs": [
    {
     "name": "stdout",
     "output_type": "stream",
     "text": [
      "torch version: 1.12.1+cu102\n"
     ]
    }
   ],
   "source": [
    "print(f\"torch version: {torch.__version__}\")"
   ]
  },
  {
   "cell_type": "code",
   "execution_count": 3,
   "id": "c2b4d8ce-10a4-4429-8d31-fb58fa1c8a46",
   "metadata": {},
   "outputs": [
    {
     "name": "stdout",
     "output_type": "stream",
     "text": [
      "Number of GPU(s) available = 0\n",
      "PyTorch does not have access to GPU\n",
      "Available device is cpu\n"
     ]
    }
   ],
   "source": [
    "# Check if there are multiple devices (i.e., GPU cards)-\n",
    "print(f\"Number of GPU(s) available = {torch.cuda.device_count()}\")\n",
    "\n",
    "if torch.cuda.is_available():\n",
    "    print(f\"Current GPU: {torch.cuda.current_device()}\")\n",
    "    print(f\"Current GPU name: {torch.cuda.get_device_name(torch.cuda.current_device())}\")\n",
    "else:\n",
    "    print(\"PyTorch does not have access to GPU\")\n",
    "\n",
    "# Device configuration-\n",
    "device = torch.device('cuda' if torch.cuda.is_available() else 'cpu')\n",
    "print(f'Available device is {device}')"
   ]
  },
  {
   "cell_type": "code",
   "execution_count": null,
   "id": "d464778f-397f-436a-acde-9be46ea46d74",
   "metadata": {},
   "outputs": [],
   "source": []
  },
  {
   "cell_type": "code",
   "execution_count": null,
   "id": "59b7e4eb-ac1f-4ae2-9d04-4cef41c22e57",
   "metadata": {},
   "outputs": [],
   "source": []
  },
  {
   "cell_type": "code",
   "execution_count": 4,
   "id": "bf00bcf8-b08c-456c-bd14-5592911e4a3f",
   "metadata": {},
   "outputs": [],
   "source": [
    "# MNIST dataset statistics-\n",
    "mean = np.array([0.1307])\n",
    "std_dev = np.array([0.3081])\n",
    "\n",
    "# Apply transforms-\n",
    "transforms_apply = transforms.Compose(\n",
    "    [\n",
    "        transforms.ToTensor(),\n",
    "        transforms.Normalize(mean = mean, std = std_dev)\n",
    "    ]\n",
    ")"
   ]
  },
  {
   "cell_type": "code",
   "execution_count": 6,
   "id": "7bb6d181-2a5d-4316-b0aa-57c786f6d40e",
   "metadata": {},
   "outputs": [],
   "source": [
    "# MNIST dataset-\n",
    "train_dataset = torchvision.datasets.MNIST(\n",
    "        root = '/home/arjun/Downloads/.data', train = True,\n",
    "        transform = transforms_apply, download = True\n",
    "        )\n",
    "\n",
    "test_dataset = torchvision.datasets.MNIST(\n",
    "        root = '/home/arjun/Downloads/.data', train = False,\n",
    "        transform = transforms_apply\n",
    "        )"
   ]
  },
  {
   "cell_type": "code",
   "execution_count": 7,
   "id": "f11af0ac-0c3a-4aa9-9019-2f4951bd6696",
   "metadata": {},
   "outputs": [
    {
     "name": "stdout",
     "output_type": "stream",
     "text": [
      "len(train_dataset): 60000 & len(test_dataset): 10000\n"
     ]
    }
   ],
   "source": [
    "print(f\"len(train_dataset): {len(train_dataset)} & len(test_dataset): {len(test_dataset)}\")"
   ]
  },
  {
   "cell_type": "code",
   "execution_count": null,
   "id": "c8e8e384-bf23-422d-bba0-adde2df270e8",
   "metadata": {},
   "outputs": [],
   "source": []
  },
  {
   "cell_type": "code",
   "execution_count": 8,
   "id": "8ebb8d99-7054-4583-b33b-b97cb2cea071",
   "metadata": {},
   "outputs": [],
   "source": [
    "# Hyper-parameters-\n",
    "num_epochs = 30\n",
    "batch_size = 256\n",
    "learning_rate = 0.001"
   ]
  },
  {
   "cell_type": "code",
   "execution_count": null,
   "id": "df7685b3-a6dc-412b-8ca4-664dc26ae26f",
   "metadata": {},
   "outputs": [],
   "source": []
  },
  {
   "cell_type": "code",
   "execution_count": 10,
   "id": "4433c799-bd99-49d7-ae9f-15d940512a55",
   "metadata": {},
   "outputs": [],
   "source": [
    "# Create dataloader-\n",
    "train_loader = torch.utils.data.DataLoader(\n",
    "        dataset = train_dataset, batch_size = batch_size,\n",
    "        shuffle = True\n",
    "        )\n",
    "\n",
    "test_loader = torch.utils.data.DataLoader(\n",
    "        dataset = test_dataset, batch_size = batch_size,\n",
    "        shuffle = True\n",
    "        )"
   ]
  },
  {
   "cell_type": "code",
   "execution_count": 11,
   "id": "b1d6e659-e1b9-47b3-b641-baa5815e047a",
   "metadata": {},
   "outputs": [
    {
     "name": "stdout",
     "output_type": "stream",
     "text": [
      "len(train_loader) = 235 & len(test_loader) = 40\n"
     ]
    }
   ],
   "source": [
    "print(f\"len(train_loader) = {len(train_loader)} & len(test_loader) = {len(test_loader)}\")"
   ]
  },
  {
   "cell_type": "code",
   "execution_count": null,
   "id": "72692ef3-e25d-4e49-bb35-de70149b1a3e",
   "metadata": {},
   "outputs": [],
   "source": []
  },
  {
   "cell_type": "code",
   "execution_count": 12,
   "id": "ed39256f-252c-4a7f-9243-1689988eacaf",
   "metadata": {},
   "outputs": [],
   "source": [
    "# Sanity check-\n",
    "x, y = next(iter(train_loader))"
   ]
  },
  {
   "cell_type": "code",
   "execution_count": 13,
   "id": "7eedb9a8-879e-4b09-8a1b-1ae909eb2bc5",
   "metadata": {},
   "outputs": [
    {
     "data": {
      "text/plain": [
       "(tensor(-0.4242), tensor(2.8215))"
      ]
     },
     "execution_count": 13,
     "metadata": {},
     "output_type": "execute_result"
    }
   ],
   "source": [
    "x.min(), x.max()"
   ]
  },
  {
   "cell_type": "code",
   "execution_count": 14,
   "id": "bbe15718-9049-4501-b6bb-dbc29e3bb7d8",
   "metadata": {},
   "outputs": [
    {
     "data": {
      "text/plain": [
       "(torch.Size([256, 1, 28, 28]), torch.Size([256]))"
      ]
     },
     "execution_count": 14,
     "metadata": {},
     "output_type": "execute_result"
    }
   ],
   "source": [
    "x.shape, y.shape"
   ]
  },
  {
   "cell_type": "code",
   "execution_count": 15,
   "id": "5ff0d21e-6cd6-44f5-a898-b29bd757ada1",
   "metadata": {},
   "outputs": [
    {
     "data": {
      "text/plain": [
       "torch.Size([256, 28, 28, 1])"
      ]
     },
     "execution_count": 15,
     "metadata": {},
     "output_type": "execute_result"
    }
   ],
   "source": [
    "x = x.permute((0, 2, 3, 1))\n",
    "x.shape"
   ]
  },
  {
   "cell_type": "code",
   "execution_count": 16,
   "id": "86f8826d-a5d7-4024-896a-e0fceeabe12a",
   "metadata": {},
   "outputs": [
    {
     "data": {
      "image/png": "[encoded data removed]",
      "text/plain": [
       "<Figure size 1000x900 with 40 Axes>"
      ]
     },
     "metadata": {},
     "output_type": "display_data"
    }
   ],
   "source": [
    "# Print images from training set-\n",
    "plt.figure(figsize = (10, 9))\n",
    "for i in range(40):\n",
    "    plt.subplot(8, 5, i + 1)\n",
    "    plt.imshow(x[i], cmap = 'gray')\n",
    "plt.show()"
   ]
  },
  {
   "cell_type": "code",
   "execution_count": 17,
   "id": "3a364b9a-a977-4475-ac10-f6fa33dac91e",
   "metadata": {},
   "outputs": [],
   "source": [
    "del x, y"
   ]
  },
  {
   "cell_type": "code",
   "execution_count": null,
   "id": "8a9369bb-7696-4bb2-89c6-957adee2f062",
   "metadata": {},
   "outputs": [],
   "source": []
  },
  {
   "cell_type": "code",
   "execution_count": null,
   "id": "cca9c37b-007e-48f3-bcac-6c2f26bc0d39",
   "metadata": {},
   "outputs": [],
   "source": []
  },
  {
   "cell_type": "markdown",
   "id": "ba650eef-a1d5-4c98-b0cf-3bd495a7e4f6",
   "metadata": {},
   "source": [
    "### _LeNet-5_ CNN architecture\n",
    "\n",
    "- Use Batch normalization\n",
    "\n",
    "- Use Sigmoid Linear Unit (SiLU)"
   ]
  },
  {
   "cell_type": "code",
   "execution_count": 18,
   "id": "2727a049-322c-4ce5-a5c5-993ef367c569",
   "metadata": {},
   "outputs": [],
   "source": [
    "class LeNet5(nn.Module):\n",
    "    def __init__(self):\n",
    "        super(LeNet5, self).__init__()\n",
    "        \n",
    "        self.conv1 = nn.Conv2d(\n",
    "            in_channels = 1, out_channels = 6, \n",
    "            kernel_size = 5, stride = 1,\n",
    "            padding = 0, bias = False \n",
    "        )\n",
    "        self.bn1 = nn.BatchNorm2d(num_features = 6)\n",
    "        self.pool1 = nn.MaxPool2d(kernel_size = 2, stride = 2)\n",
    "        self.conv2 = nn.Conv2d(\n",
    "            in_channels = 6, out_channels = 16,\n",
    "            kernel_size = 5, stride = 1,\n",
    "            padding = 0, bias = False\n",
    "        )\n",
    "        self.bn2 = nn.BatchNorm2d(num_features = 16)\n",
    "        self.pool2 = nn.MaxPool2d(kernel_size = 2, stride = 2)\n",
    "        self.fc1 = nn.Linear(\n",
    "            in_features = 256, out_features = 120,\n",
    "            bias = True\n",
    "        )\n",
    "        self.bn3 = nn.BatchNorm1d(num_features = 120)\n",
    "        self.fc2 = nn.Linear(\n",
    "            in_features = 120, out_features = 84,\n",
    "            bias = True\n",
    "        )\n",
    "        self.bn4 = nn.BatchNorm1d(num_features = 84)\n",
    "        self.fc3 = nn.Linear(\n",
    "            in_features = 84, out_features = 10,\n",
    "            bias = True\n",
    "        )\n",
    "        \n",
    "        self.initialize_weights()\n",
    "\n",
    "        \n",
    "    def initialize_weights(self):\n",
    "        for m in self.modules():\n",
    "            # print(m)\n",
    "            if isinstance(m, nn.Conv2d):\n",
    "                nn.init.kaiming_normal_(m.weight)\n",
    "                \n",
    "                # Do not initialize bias (due to batchnorm)-\n",
    "                if m.bias is not None:\n",
    "                    nn.init.constant_(m.bias, 0)\n",
    "                \n",
    "            elif isinstance(m, nn.BatchNorm2d):\n",
    "                # Standard initialization for batch normalization-\n",
    "                nn.init.constant_(m.weight, 1)\n",
    "                nn.init.constant_(m.bias, 0)\n",
    "\n",
    "            elif isinstance(m, nn.Linear):\n",
    "                nn.init.kaiming_normal_(m.weight)\n",
    "                nn.init.constant_(m.bias, 0)\n",
    "    \n",
    "    \n",
    "    def forward(self, x):\n",
    "        x = nn.SiLU()(self.pool1(self.bn1(self.conv1(x))))\n",
    "        x = nn.SiLU()(self.pool1(self.bn2(self.conv2(x))))\n",
    "        x = x.view(-1, 256)\n",
    "        x = nn.SiLU()(self.bn3(self.fc1(x)))\n",
    "        x = nn.SiLU()(self.bn4(self.fc2(x)))\n",
    "        x = self.fc3(x)\n",
    "        return x\n",
    "    "
   ]
  },
  {
   "cell_type": "code",
   "execution_count": null,
   "id": "895f7682-c0e7-4d2e-a7aa-794ec7910022",
   "metadata": {},
   "outputs": [],
   "source": []
  },
  {
   "cell_type": "code",
   "execution_count": 19,
   "id": "f7053a92-bd2f-4c05-9772-6ad5aa6e4cbb",
   "metadata": {},
   "outputs": [],
   "source": [
    "# Initialize an instance of LeNet-5 CNN architecture-\n",
    "model = LeNet5().to(device)"
   ]
  },
  {
   "cell_type": "code",
   "execution_count": null,
   "id": "304fa385-c347-47e0-9ba1-802713268561",
   "metadata": {},
   "outputs": [],
   "source": []
  },
  {
   "cell_type": "code",
   "execution_count": 20,
   "id": "7c40dda6-279a-411c-b09c-8bdf2456852b",
   "metadata": {},
   "outputs": [],
   "source": [
    "# Count number of layer-wise parameters and total parameters-\n",
    "tot_params = 0\n",
    "for param in model.parameters():\n",
    "    # print(f\"layer.shape = {param.shape} has {param.nelement()} parameters\")\n",
    "    tot_params += param.nelement()"
   ]
  },
  {
   "cell_type": "code",
   "execution_count": 21,
   "id": "e7de1ef4-3473-4f14-b706-2167d26a5fa9",
   "metadata": {},
   "outputs": [
    {
     "name": "stdout",
     "output_type": "stream",
     "text": [
      "CNN model has 44856 parameters\n"
     ]
    }
   ],
   "source": [
    "print(f\"CNN model has {tot_params} parameters\")"
   ]
  },
  {
   "cell_type": "code",
   "execution_count": null,
   "id": "c93d049d-9275-4079-ada4-12edf886d625",
   "metadata": {},
   "outputs": [],
   "source": []
  },
  {
   "cell_type": "code",
   "execution_count": 22,
   "id": "03901e7a-ab8d-4fba-b682-d91b7b9cef5f",
   "metadata": {},
   "outputs": [],
   "source": [
    "# Define cost function-\n",
    "loss = nn.CrossEntropyLoss()"
   ]
  },
  {
   "cell_type": "code",
   "execution_count": null,
   "id": "8ad0ffe2-4bd1-46f9-ae6c-b02568712854",
   "metadata": {},
   "outputs": [],
   "source": []
  },
  {
   "cell_type": "code",
   "execution_count": 23,
   "id": "4ac7d6a6-7d7f-43b4-8c4d-adcd2e147330",
   "metadata": {},
   "outputs": [],
   "source": [
    "# Defing SGD optimizer-\n",
    "optimizer = torch.optim.SGD(model.parameters(), lr = 0.01)"
   ]
  },
  {
   "cell_type": "code",
   "execution_count": 24,
   "id": "30c550b8-09f9-41c7-ad99-71f2edb5162a",
   "metadata": {},
   "outputs": [
    {
     "name": "stdout",
     "output_type": "stream",
     "text": [
      "number of train steps in one epoch = 235.0\n"
     ]
    }
   ],
   "source": [
    "print(f\"number of train steps in one epoch = {np.ceil(len(train_loader.dataset) / batch_size)}\")"
   ]
  },
  {
   "cell_type": "code",
   "execution_count": null,
   "id": "202cd1a8-3fe0-444b-89b8-37e2f9ac5437",
   "metadata": {},
   "outputs": [],
   "source": []
  },
  {
   "cell_type": "markdown",
   "id": "7a0e3563-4aa1-4bdd-8eb5-96984763917a",
   "metadata": {},
   "source": [
    "#### ```MultiStepLR``` PyTorch\n",
    "\n",
    "```torch.optim.lr_scheduler.MultiStepLR(optimizer, milestones, gamma=0.1, last_epoch=- 1, verbose=False)```\n",
    "\n",
    "Decays the learning rate of each parameter group by _gamma_ once the number of epoch reaches one of the milestones. Notice that such decay can happen simultaneously with other changes to the learning rate from outside this scheduler. When last_epoch=-1, sets initial lr as lr.\n",
    "\n",
    "\n",
    "Parameters:\n",
    "\n",
    "- optimizer (Optimizer) – Wrapped optimizer.\n",
    "- milestones (list) – List of epoch indices. Must be increasing.\n",
    "- gamma (float) – Multiplicative factor of learning rate decay. Default: 0.1.\n",
    "- last_epoch (int) – The index of last epoch. Default: -1.\n",
    "- verbose (bool) – If True, prints a message to stdout for each update. Default: False.\n",
    "\n",
    "\n",
    "Example:\n",
    "\n",
    "```\n",
    "# Assuming optimizer uses lr = 0.05 for all groups\n",
    "# lr = 0.05     if epoch < 30\n",
    "# lr = 0.005    if 30 <= epoch < 80\n",
    "# lr = 0.0005   if epoch >= 80\n",
    "scheduler = MultiStepLR(optimizer, milestones=[30,80], gamma=0.1)\n",
    "```\n",
    "\n",
    "[MultiStepLR](https://pytorch.org/docs/stable/generated/torch.optim.lr_scheduler.MultiStepLR.html). You might aso consider [StepLR](https://pytorch.org/docs/stable/generated/torch.optim.lr_scheduler.StepLR.html) scheduler."
   ]
  },
  {
   "cell_type": "code",
   "execution_count": 25,
   "id": "6914fe1c-bcc9-44da-bdee-7b484ccca12c",
   "metadata": {},
   "outputs": [],
   "source": [
    "# Decay lr at 10th and 20th epochs by a factor of 10-\n",
    "scheduler = torch.optim.lr_scheduler.MultiStepLR(\n",
    "    optimizer = optimizer, milestones = [10, 20],\n",
    "    gamma = 0.1\n",
    ")"
   ]
  },
  {
   "cell_type": "code",
   "execution_count": null,
   "id": "f20b0fd5-05c5-4674-b94b-1480982f8b70",
   "metadata": {},
   "outputs": [],
   "source": []
  },
  {
   "cell_type": "code",
   "execution_count": null,
   "id": "e042bbf1-81db-4d56-909d-9de6ead231f9",
   "metadata": {},
   "outputs": [],
   "source": []
  },
  {
   "cell_type": "code",
   "execution_count": 26,
   "id": "dfa81165-a1b9-40ad-ac01-3ee79c77c3ad",
   "metadata": {},
   "outputs": [],
   "source": [
    "def train_one_step(model, train_loader, train_dataset):\n",
    "    running_loss = 0.0\n",
    "    running_corrects = 0.0\n",
    "    \n",
    "    model.to(device)\n",
    "    model.train()\n",
    "    \n",
    "    with tqdm(train_loader, unit = 'batch') as tepoch:\n",
    "        for images, labels in tepoch:\n",
    "            tepoch.set_description(f\"Training: \")\n",
    "            \n",
    "            images = images.to(device)\n",
    "            labels = labels.to(device)\n",
    "            \n",
    "            # Get model predictions-\n",
    "            outputs = model(images)\n",
    "            \n",
    "            # Compute loss-\n",
    "            J = loss(outputs, labels)\n",
    "            \n",
    "            # Empty accumulated gradients-\n",
    "            optimizer.zero_grad()\n",
    "            \n",
    "            # Perform backprop-\n",
    "            J.backward()\n",
    "            \n",
    "            # Update parameters-\n",
    "            optimizer.step()\n",
    "            \n",
    "            # Compute model's performance statistics-\n",
    "            running_loss += J.item() * images.size(0)\n",
    "            _, predicted = torch.max(outputs, 1)\n",
    "            running_corrects += torch.sum(predicted == labels.data)\n",
    "            \n",
    "            tepoch.set_postfix(\n",
    "                loss = running_loss / len(train_dataset),\n",
    "                accuracy = (running_corrects.double().cpu().numpy() / len(train_dataset)) * 100\n",
    "            )\n",
    "            \n",
    "    \n",
    "    train_loss = running_loss / len(train_dataset)\n",
    "    train_acc = (running_corrects.double() / len(train_dataset)) * 100\n",
    "    \n",
    "\n",
    "    # return running_loss, running_corrects\n",
    "    return train_loss, train_acc.detach().cpu().item()\n"
   ]
  },
  {
   "cell_type": "code",
   "execution_count": 27,
   "id": "5f4ba8c5-7ef6-495e-b9c5-afac20489b24",
   "metadata": {},
   "outputs": [],
   "source": [
    "def test_one_step(model, test_loader, test_dataset):\n",
    "    total = 0.0\n",
    "    correct = 0.0\n",
    "    running_loss_val = 0.0\n",
    "    \n",
    "    model.to(device)\n",
    "    model.eval()\n",
    "\n",
    "    with torch.no_grad():\n",
    "        with tqdm(test_loader, unit = 'batch') as tepoch:\n",
    "            for images, labels in tepoch:\n",
    "                tepoch.set_description(f\"Validation: \")\n",
    "                \n",
    "                images = images.to(device)\n",
    "                labels = labels.to(device)\n",
    "                \n",
    "                # Predict using trained model-\n",
    "                outputs = model(images)\n",
    "                _, y_pred = torch.max(outputs, 1)\n",
    "                \n",
    "                # Compute validation loss-\n",
    "                J_val = loss(outputs, labels)\n",
    "                \n",
    "                running_loss_val += J_val.item() * labels.size(0)\n",
    "    \n",
    "                # Total number of labels-\n",
    "                total += labels.size(0)\n",
    "\n",
    "                # Total number of correct predictions-\n",
    "                correct += (y_pred == labels).sum()\n",
    "                \n",
    "                tepoch.set_postfix(\n",
    "                    val_loss = running_loss_val / len(test_dataset),\n",
    "                    val_acc = 100 * (correct.cpu().numpy() / total)\n",
    "                )\n",
    "            \n",
    "        \n",
    "    # return (running_loss_val, correct, total)\n",
    "    val_loss = running_loss_val / len(test_dataset)\n",
    "    val_acc = (correct / total) * 100\n",
    "\n",
    "    return val_loss, val_acc.detach().cpu().item()\n"
   ]
  },
  {
   "cell_type": "code",
   "execution_count": null,
   "id": "2900fab3-0cde-44f4-b5e1-b22fd81b9a0b",
   "metadata": {},
   "outputs": [],
   "source": []
  },
  {
   "cell_type": "code",
   "execution_count": 28,
   "id": "edf4430d-63a5-4a71-aba1-af2eb5b57d3a",
   "metadata": {},
   "outputs": [],
   "source": [
    "# Python3 dict to contain training metrics-\n",
    "train_history = {}"
   ]
  },
  {
   "cell_type": "code",
   "execution_count": 29,
   "id": "47466ed9-040d-4f00-8b1d-ad0a5f38ae44",
   "metadata": {},
   "outputs": [],
   "source": [
    "# Variable to store 'best' model-\n",
    "best_val_acc = 0"
   ]
  },
  {
   "cell_type": "code",
   "execution_count": null,
   "id": "be9b9fc0-d648-4789-bd0b-4134c16c3888",
   "metadata": {},
   "outputs": [],
   "source": []
  },
  {
   "cell_type": "code",
   "execution_count": 31,
   "id": "b9b6df4c-78d3-4394-b668-7d0f3dd35125",
   "metadata": {},
   "outputs": [
    {
     "name": "stderr",
     "output_type": "stream",
     "text": [
      "Training: : 100%|█| 235/235 [00:09<00:00, 24.94batch/s, accuracy=80, loss=0.\n",
      "Validation: : 100%|█| 40/40 [00:01<00:00, 31.14batch/s, val_acc=89.1, val_lo\n"
     ]
    },
    {
     "name": "stdout",
     "output_type": "stream",
     "text": [
      "Epoch: 1; loss = 0.8244, acc = 80.01%  val loss = 0.5042, val acc = 89.11% & LR = 0.01000\n",
      "Saving model with highest val_acc = 89.11%\n",
      "\n"
     ]
    },
    {
     "name": "stderr",
     "output_type": "stream",
     "text": [
      "Training: : 100%|█| 235/235 [00:09<00:00, 25.05batch/s, accuracy=90.5, loss=\n",
      "Validation: : 100%|█| 40/40 [00:01<00:00, 32.65batch/s, val_acc=92.5, val_lo\n"
     ]
    },
    {
     "name": "stdout",
     "output_type": "stream",
     "text": [
      "Epoch: 2; loss = 0.4329, acc = 90.48%  val loss = 0.3321, val acc = 92.53% & LR = 0.01000\n",
      "Saving model with highest val_acc = 92.53%\n",
      "\n"
     ]
    },
    {
     "name": "stderr",
     "output_type": "stream",
     "text": [
      "Training: : 100%|█| 235/235 [00:09<00:00, 25.00batch/s, accuracy=92.9, loss=\n",
      "Validation: : 100%|█| 40/40 [00:01<00:00, 33.59batch/s, val_acc=93.9, val_lo\n"
     ]
    },
    {
     "name": "stdout",
     "output_type": "stream",
     "text": [
      "Epoch: 3; loss = 0.3122, acc = 92.87%  val loss = 0.2588, val acc = 93.89% & LR = 0.01000\n",
      "Saving model with highest val_acc = 93.89%\n",
      "\n"
     ]
    },
    {
     "name": "stderr",
     "output_type": "stream",
     "text": [
      "Training: : 100%|█| 235/235 [00:09<00:00, 24.99batch/s, accuracy=94.1, loss=\n",
      "Validation: : 100%|█| 40/40 [00:01<00:00, 32.19batch/s, val_acc=94.8, val_lo\n"
     ]
    },
    {
     "name": "stdout",
     "output_type": "stream",
     "text": [
      "Epoch: 4; loss = 0.2503, acc = 94.13%  val loss = 0.2133, val acc = 94.81% & LR = 0.01000\n",
      "Saving model with highest val_acc = 94.81%\n",
      "\n"
     ]
    },
    {
     "name": "stderr",
     "output_type": "stream",
     "text": [
      "Training: : 100%|█| 235/235 [00:09<00:00, 25.91batch/s, accuracy=94.9, loss=\n",
      "Validation: : 100%|█| 40/40 [00:01<00:00, 32.68batch/s, val_acc=95.3, val_lo\n"
     ]
    },
    {
     "name": "stdout",
     "output_type": "stream",
     "text": [
      "Epoch: 5; loss = 0.2125, acc = 94.94%  val loss = 0.1840, val acc = 95.26% & LR = 0.01000\n",
      "Saving model with highest val_acc = 95.26%\n",
      "\n"
     ]
    },
    {
     "name": "stderr",
     "output_type": "stream",
     "text": [
      "Training: : 100%|█| 235/235 [00:09<00:00, 25.15batch/s, accuracy=95.5, loss=\n",
      "Validation: : 100%|█| 40/40 [00:01<00:00, 33.54batch/s, val_acc=95.7, val_lo\n"
     ]
    },
    {
     "name": "stdout",
     "output_type": "stream",
     "text": [
      "Epoch: 6; loss = 0.1862, acc = 95.46%  val loss = 0.1644, val acc = 95.71% & LR = 0.01000\n",
      "Saving model with highest val_acc = 95.71%\n",
      "\n"
     ]
    },
    {
     "name": "stderr",
     "output_type": "stream",
     "text": [
      "Training: : 100%|█| 235/235 [00:09<00:00, 24.65batch/s, accuracy=95.8, loss=\n",
      "Validation: : 100%|█| 40/40 [00:01<00:00, 31.39batch/s, val_acc=96.2, val_lo\n"
     ]
    },
    {
     "name": "stdout",
     "output_type": "stream",
     "text": [
      "Epoch: 7; loss = 0.1674, acc = 95.85%  val loss = 0.1486, val acc = 96.19% & LR = 0.01000\n",
      "Saving model with highest val_acc = 96.19%\n",
      "\n"
     ]
    },
    {
     "name": "stderr",
     "output_type": "stream",
     "text": [
      "Training: : 100%|█| 235/235 [00:09<00:00, 24.58batch/s, accuracy=96.2, loss=\n",
      "Validation: : 100%|█| 40/40 [00:01<00:00, 33.96batch/s, val_acc=96.6, val_lo\n"
     ]
    },
    {
     "name": "stdout",
     "output_type": "stream",
     "text": [
      "Epoch: 8; loss = 0.1517, acc = 96.19%  val loss = 0.1357, val acc = 96.59% & LR = 0.01000\n",
      "Saving model with highest val_acc = 96.59%\n",
      "\n"
     ]
    },
    {
     "name": "stderr",
     "output_type": "stream",
     "text": [
      "Training: : 100%|█| 235/235 [00:09<00:00, 25.25batch/s, accuracy=96.5, loss=\n",
      "Validation: : 100%|█| 40/40 [00:01<00:00, 32.47batch/s, val_acc=96.7, val_lo\n"
     ]
    },
    {
     "name": "stdout",
     "output_type": "stream",
     "text": [
      "Epoch: 9; loss = 0.1398, acc = 96.49%  val loss = 0.1260, val acc = 96.74% & LR = 0.01000\n",
      "Saving model with highest val_acc = 96.74%\n",
      "\n"
     ]
    },
    {
     "name": "stderr",
     "output_type": "stream",
     "text": [
      "Training: : 100%|█| 235/235 [00:09<00:00, 25.03batch/s, accuracy=96.6, loss=\n",
      "Validation: : 100%|█| 40/40 [00:01<00:00, 31.85batch/s, val_acc=97, val_loss\n"
     ]
    },
    {
     "name": "stdout",
     "output_type": "stream",
     "text": [
      "Epoch: 10; loss = 0.1301, acc = 96.61%  val loss = 0.1182, val acc = 96.99% & LR = 0.00100\n",
      "Saving model with highest val_acc = 96.99%\n",
      "\n"
     ]
    },
    {
     "name": "stderr",
     "output_type": "stream",
     "text": [
      "Training: : 100%|█| 235/235 [00:09<00:00, 25.14batch/s, accuracy=96.8, loss=\n",
      "Validation: : 100%|█| 40/40 [00:01<00:00, 32.99batch/s, val_acc=97, val_loss\n"
     ]
    },
    {
     "name": "stdout",
     "output_type": "stream",
     "text": [
      "Epoch: 11; loss = 0.1247, acc = 96.84%  val loss = 0.1172, val acc = 97.03% & LR = 0.00100\n",
      "Saving model with highest val_acc = 97.03%\n",
      "\n"
     ]
    },
    {
     "name": "stderr",
     "output_type": "stream",
     "text": [
      "Training: : 100%|█| 235/235 [00:09<00:00, 25.08batch/s, accuracy=96.8, loss=\n",
      "Validation: : 100%|█| 40/40 [00:01<00:00, 33.81batch/s, val_acc=96.9, val_lo\n"
     ]
    },
    {
     "name": "stdout",
     "output_type": "stream",
     "text": [
      "Epoch: 12; loss = 0.1236, acc = 96.85%  val loss = 0.1170, val acc = 96.92% & LR = 0.00100\n"
     ]
    },
    {
     "name": "stderr",
     "output_type": "stream",
     "text": [
      "Training: : 100%|█| 235/235 [00:09<00:00, 25.28batch/s, accuracy=96.9, loss=\n",
      "Validation: : 100%|█| 40/40 [00:01<00:00, 32.26batch/s, val_acc=97, val_loss\n"
     ]
    },
    {
     "name": "stdout",
     "output_type": "stream",
     "text": [
      "Epoch: 13; loss = 0.1225, acc = 96.89%  val loss = 0.1160, val acc = 96.98% & LR = 0.00100\n"
     ]
    },
    {
     "name": "stderr",
     "output_type": "stream",
     "text": [
      "Training: : 100%|█| 235/235 [00:09<00:00, 25.18batch/s, accuracy=96.9, loss=\n",
      "Validation: : 100%|█| 40/40 [00:01<00:00, 33.12batch/s, val_acc=97, val_loss\n"
     ]
    },
    {
     "name": "stdout",
     "output_type": "stream",
     "text": [
      "Epoch: 14; loss = 0.1221, acc = 96.88%  val loss = 0.1150, val acc = 96.98% & LR = 0.00100\n"
     ]
    },
    {
     "name": "stderr",
     "output_type": "stream",
     "text": [
      "Training: : 100%|█| 235/235 [00:09<00:00, 25.23batch/s, accuracy=96.9, loss=\n",
      "Validation: : 100%|█| 40/40 [00:01<00:00, 33.23batch/s, val_acc=97.1, val_lo\n"
     ]
    },
    {
     "name": "stdout",
     "output_type": "stream",
     "text": [
      "Epoch: 15; loss = 0.1209, acc = 96.93%  val loss = 0.1152, val acc = 97.10% & LR = 0.00100\n",
      "Saving model with highest val_acc = 97.10%\n",
      "\n"
     ]
    },
    {
     "name": "stderr",
     "output_type": "stream",
     "text": [
      "Training: : 100%|█| 235/235 [00:09<00:00, 25.38batch/s, accuracy=96.9, loss=\n",
      "Validation: : 100%|█| 40/40 [00:01<00:00, 32.84batch/s, val_acc=97.1, val_lo\n"
     ]
    },
    {
     "name": "stdout",
     "output_type": "stream",
     "text": [
      "Epoch: 16; loss = 0.1201, acc = 96.88%  val loss = 0.1136, val acc = 97.07% & LR = 0.00100\n"
     ]
    },
    {
     "name": "stderr",
     "output_type": "stream",
     "text": [
      "Training: : 100%|█| 235/235 [00:09<00:00, 25.27batch/s, accuracy=96.9, loss=\n",
      "Validation: : 100%|█| 40/40 [00:01<00:00, 33.29batch/s, val_acc=97.1, val_lo\n"
     ]
    },
    {
     "name": "stdout",
     "output_type": "stream",
     "text": [
      "Epoch: 17; loss = 0.1200, acc = 96.92%  val loss = 0.1129, val acc = 97.10% & LR = 0.00100\n"
     ]
    },
    {
     "name": "stderr",
     "output_type": "stream",
     "text": [
      "Training: : 100%|█| 235/235 [00:09<00:00, 25.34batch/s, accuracy=96.9, loss=\n",
      "Validation: : 100%|█| 40/40 [00:01<00:00, 33.04batch/s, val_acc=97.1, val_lo\n"
     ]
    },
    {
     "name": "stdout",
     "output_type": "stream",
     "text": [
      "Epoch: 18; loss = 0.1197, acc = 96.93%  val loss = 0.1119, val acc = 97.10% & LR = 0.00100\n"
     ]
    },
    {
     "name": "stderr",
     "output_type": "stream",
     "text": [
      "Training: : 100%|█| 235/235 [00:09<00:00, 25.14batch/s, accuracy=96.9, loss=\n",
      "Validation: : 100%|█| 40/40 [00:01<00:00, 33.18batch/s, val_acc=97.1, val_lo\n"
     ]
    },
    {
     "name": "stdout",
     "output_type": "stream",
     "text": [
      "Epoch: 19; loss = 0.1187, acc = 96.95%  val loss = 0.1122, val acc = 97.12% & LR = 0.00100\n",
      "Saving model with highest val_acc = 97.12%\n",
      "\n"
     ]
    },
    {
     "name": "stderr",
     "output_type": "stream",
     "text": [
      "Training: : 100%|█| 235/235 [00:09<00:00, 25.34batch/s, accuracy=97, loss=0.\n",
      "Validation: : 100%|█| 40/40 [00:01<00:00, 33.66batch/s, val_acc=97.1, val_lo\n"
     ]
    },
    {
     "name": "stdout",
     "output_type": "stream",
     "text": [
      "Epoch: 20; loss = 0.1178, acc = 97.00%  val loss = 0.1109, val acc = 97.10% & LR = 0.00010\n"
     ]
    },
    {
     "name": "stderr",
     "output_type": "stream",
     "text": [
      "Training: : 100%|█| 235/235 [00:09<00:00, 25.31batch/s, accuracy=96.9, loss=\n",
      "Validation: : 100%|█| 40/40 [00:01<00:00, 32.93batch/s, val_acc=97.1, val_lo\n"
     ]
    },
    {
     "name": "stdout",
     "output_type": "stream",
     "text": [
      "Epoch: 21; loss = 0.1172, acc = 96.94%  val loss = 0.1106, val acc = 97.09% & LR = 0.00010\n"
     ]
    },
    {
     "name": "stderr",
     "output_type": "stream",
     "text": [
      "Training: : 100%|█| 235/235 [00:09<00:00, 25.40batch/s, accuracy=97, loss=0.\n",
      "Validation: : 100%|█| 40/40 [00:01<00:00, 33.19batch/s, val_acc=97.1, val_lo\n"
     ]
    },
    {
     "name": "stdout",
     "output_type": "stream",
     "text": [
      "Epoch: 22; loss = 0.1176, acc = 96.97%  val loss = 0.1109, val acc = 97.13% & LR = 0.00010\n",
      "Saving model with highest val_acc = 97.13%\n",
      "\n"
     ]
    },
    {
     "name": "stderr",
     "output_type": "stream",
     "text": [
      "Training: : 100%|█| 235/235 [00:09<00:00, 25.28batch/s, accuracy=97, loss=0.\n",
      "Validation: : 100%|█| 40/40 [00:01<00:00, 32.77batch/s, val_acc=97.1, val_lo\n"
     ]
    },
    {
     "name": "stdout",
     "output_type": "stream",
     "text": [
      "Epoch: 23; loss = 0.1175, acc = 97.02%  val loss = 0.1107, val acc = 97.13% & LR = 0.00010\n"
     ]
    },
    {
     "name": "stderr",
     "output_type": "stream",
     "text": [
      "Training: : 100%|█| 235/235 [00:09<00:00, 25.33batch/s, accuracy=97, loss=0.\n",
      "Validation: : 100%|█| 40/40 [00:01<00:00, 33.26batch/s, val_acc=97.2, val_lo\n"
     ]
    },
    {
     "name": "stdout",
     "output_type": "stream",
     "text": [
      "Epoch: 24; loss = 0.1174, acc = 97.00%  val loss = 0.1109, val acc = 97.15% & LR = 0.00010\n",
      "Saving model with highest val_acc = 97.15%\n",
      "\n"
     ]
    },
    {
     "name": "stderr",
     "output_type": "stream",
     "text": [
      "Training: : 100%|█| 235/235 [00:09<00:00, 24.93batch/s, accuracy=97, loss=0.\n",
      "Validation: : 100%|█| 40/40 [00:01<00:00, 33.21batch/s, val_acc=97.1, val_lo\n"
     ]
    },
    {
     "name": "stdout",
     "output_type": "stream",
     "text": [
      "Epoch: 25; loss = 0.1172, acc = 96.95%  val loss = 0.1108, val acc = 97.14% & LR = 0.00010\n"
     ]
    },
    {
     "name": "stderr",
     "output_type": "stream",
     "text": [
      "Training: : 100%|█| 235/235 [00:09<00:00, 25.12batch/s, accuracy=97, loss=0.\n",
      "Validation: : 100%|█| 40/40 [00:01<00:00, 33.14batch/s, val_acc=97.2, val_lo\n"
     ]
    },
    {
     "name": "stdout",
     "output_type": "stream",
     "text": [
      "Epoch: 26; loss = 0.1174, acc = 96.95%  val loss = 0.1103, val acc = 97.18% & LR = 0.00010\n",
      "Saving model with highest val_acc = 97.18%\n",
      "\n"
     ]
    },
    {
     "name": "stderr",
     "output_type": "stream",
     "text": [
      "Training: : 100%|█| 235/235 [00:09<00:00, 25.06batch/s, accuracy=96.9, loss=\n",
      "Validation: : 100%|█| 40/40 [00:01<00:00, 32.21batch/s, val_acc=97.1, val_lo\n"
     ]
    },
    {
     "name": "stdout",
     "output_type": "stream",
     "text": [
      "Epoch: 27; loss = 0.1171, acc = 96.95%  val loss = 0.1105, val acc = 97.09% & LR = 0.00010\n"
     ]
    },
    {
     "name": "stderr",
     "output_type": "stream",
     "text": [
      "Training: : 100%|█| 235/235 [00:09<00:00, 25.09batch/s, accuracy=97, loss=0.\n",
      "Validation: : 100%|█| 40/40 [00:01<00:00, 32.69batch/s, val_acc=97.2, val_lo\n"
     ]
    },
    {
     "name": "stdout",
     "output_type": "stream",
     "text": [
      "Epoch: 28; loss = 0.1167, acc = 97.04%  val loss = 0.1101, val acc = 97.17% & LR = 0.00010\n"
     ]
    },
    {
     "name": "stderr",
     "output_type": "stream",
     "text": [
      "Training: : 100%|█| 235/235 [00:09<00:00, 24.82batch/s, accuracy=97, loss=0.\n",
      "Validation: : 100%|█| 40/40 [00:01<00:00, 32.56batch/s, val_acc=97.1, val_lo\n"
     ]
    },
    {
     "name": "stdout",
     "output_type": "stream",
     "text": [
      "Epoch: 29; loss = 0.1169, acc = 97.02%  val loss = 0.1111, val acc = 97.11% & LR = 0.00010\n"
     ]
    },
    {
     "name": "stderr",
     "output_type": "stream",
     "text": [
      "Training: : 100%|█| 235/235 [00:09<00:00, 25.09batch/s, accuracy=97, loss=0.\n",
      "Validation: : 100%|█| 40/40 [00:01<00:00, 33.06batch/s, val_acc=97.2, val_lo"
     ]
    },
    {
     "name": "stdout",
     "output_type": "stream",
     "text": [
      "Epoch: 30; loss = 0.1169, acc = 96.98%  val loss = 0.1110, val acc = 97.21% & LR = 0.00010\n",
      "Saving model with highest val_acc = 97.21%\n",
      "\n"
     ]
    },
    {
     "name": "stderr",
     "output_type": "stream",
     "text": [
      "\n"
     ]
    }
   ],
   "source": [
    "for epoch in range(1, num_epochs + 1):\n",
    "    \n",
    "    # One epoch of training-\n",
    "    train_loss, train_acc = train_one_step(\n",
    "        model = model, train_loader = train_loader,\n",
    "        train_dataset = train_dataset\n",
    "    )\n",
    "    \n",
    "    # Get validation metrics after 1 epoch of training-\n",
    "    val_loss, val_acc = test_one_step(\n",
    "        model = model, test_loader = test_loader,\n",
    "        test_dataset = test_dataset\n",
    "    )\n",
    "    \n",
    "    scheduler.step()\n",
    "    \n",
    "    current_lr = optimizer.param_groups[0][\"lr\"]\n",
    "    \n",
    "    print(f\"Epoch: {epoch}; loss = {train_loss:.4f}, acc = {train_acc:.2f}%\",\n",
    "          f\" val loss = {val_loss:.4f}, val acc = {val_acc:.2f}% & LR = {current_lr:.5f}\"\n",
    "         )\n",
    "    \n",
    "    # Save training metrics to Python3 dict-\n",
    "    train_history[epoch] = {\n",
    "        'train_loss': train_loss, 'val_loss': val_loss,\n",
    "        'train_acc': train_acc, 'val_acc': val_acc,\n",
    "        'lr': current_lr\n",
    "    }\n",
    "    \n",
    "    # Save model with best validation accuracy-\n",
    "    if (val_acc > best_val_acc):\n",
    "        best_val_acc = val_acc\n",
    "        print(f\"Saving model with highest val_acc = {val_acc:.2f}%\\n\")\n",
    "        torch.save(model.state_dict(), \"LeNet5_MNIST_best_val_acc.pth\")\n",
    "        "
   ]
  },
  {
   "cell_type": "code",
   "execution_count": null,
   "id": "6b3a9f43-6b47-451e-a61b-6590664bf275",
   "metadata": {},
   "outputs": [],
   "source": []
  },
  {
   "cell_type": "code",
   "execution_count": 32,
   "id": "f52c92f6-c3ce-44de-b41d-aa78506741be",
   "metadata": {},
   "outputs": [],
   "source": [
    "# Save training metrics as pickled object-\n",
    "with open(\"LeNet5_MNIST_training_history.pkl\", \"wb\") as file:\n",
    "    pickle.dump(train_history, file)"
   ]
  },
  {
   "cell_type": "code",
   "execution_count": null,
   "id": "11af4dc0-e5df-4397-8585-ec44e05a58cd",
   "metadata": {},
   "outputs": [],
   "source": []
  },
  {
   "cell_type": "code",
   "execution_count": null,
   "id": "55514680-f3e6-4e33-af4b-d30ed27112b0",
   "metadata": {},
   "outputs": [],
   "source": []
  },
  {
   "cell_type": "markdown",
   "id": "c1cd3b56-2dae-475b-9eac-f16ff9d0d846",
   "metadata": {},
   "source": [
    "### Training Visualizations"
   ]
  },
  {
   "cell_type": "code",
   "execution_count": 33,
   "id": "12deb7e3-9973-4a3f-b322-f409fa4a0f67",
   "metadata": {},
   "outputs": [
    {
     "data": {
      "image/png": "[encoded data removed]",
      "text/plain": [
       "<Figure size 800x700 with 1 Axes>"
      ]
     },
     "metadata": {},
     "output_type": "display_data"
    }
   ],
   "source": [
    "plt.figure(figsize = (8, 7))\n",
    "plt.plot([train_history[e]['lr'] for e in train_history.keys()])\n",
    "plt.xlabel(\"epochs\")\n",
    "plt.ylabel(\"lr\")\n",
    "plt.title(\"LR Training\")\n",
    "plt.show()"
   ]
  },
  {
   "cell_type": "code",
   "execution_count": 34,
   "id": "50502809-6128-454a-bd4f-0943cba9762f",
   "metadata": {},
   "outputs": [
    {
     "data": {
      "image/png": "[encoded data removed]",
      "text/plain": [
       "<Figure size 800x700 with 1 Axes>"
      ]
     },
     "metadata": {},
     "output_type": "display_data"
    }
   ],
   "source": [
    "plt.figure(figsize = (8, 7))\n",
    "plt.plot([train_history[e]['train_loss'] for e in train_history.keys()], label = 'loss')\n",
    "plt.plot([train_history[e]['val_loss'] for e in train_history.keys()], label = 'val loss')\n",
    "plt.xlabel(\"epochs\")\n",
    "plt.ylabel(\"loss\")\n",
    "plt.title(\"Loss Visualization Training\")\n",
    "plt.legend(loc = 'best')\n",
    "plt.show()"
   ]
  },
  {
   "cell_type": "code",
   "execution_count": 35,
   "id": "22793fef-d107-49c4-a67d-12bd764c2bac",
   "metadata": {},
   "outputs": [
    {
     "data": {
      "image/png": "[encoded data removed]",
      "text/plain": [
       "<Figure size 800x700 with 1 Axes>"
      ]
     },
     "metadata": {},
     "output_type": "display_data"
    }
   ],
   "source": [
    "plt.figure(figsize = (8, 7))\n",
    "plt.plot([train_history[e]['train_acc'] for e in train_history.keys()], label = 'acc')\n",
    "plt.plot([train_history[e]['val_acc'] for e in train_history.keys()], label = 'val acc')\n",
    "plt.xlabel(\"epochs\")\n",
    "plt.ylabel(\"acc %\")\n",
    "plt.title(\"Accuracy Visualization Training\")\n",
    "plt.legend(loc = 'best')\n",
    "plt.show()"
   ]
  },
  {
   "cell_type": "code",
   "execution_count": null,
   "id": "6917509e-d78a-4745-9566-4a8a6d6942cd",
   "metadata": {},
   "outputs": [],
   "source": []
  },
  {
   "cell_type": "code",
   "execution_count": null,
   "id": "f46a1ee2-62a0-4e6c-95ce-02d58dd40ff2",
   "metadata": {},
   "outputs": [],
   "source": []
  },
  {
   "cell_type": "code",
   "execution_count": 36,
   "id": "240cef39-cec2-494a-8102-722a7e0e0a5f",
   "metadata": {},
   "outputs": [
    {
     "data": {
      "text/plain": [
       "<All keys matched successfully>"
      ]
     },
     "execution_count": 36,
     "metadata": {},
     "output_type": "execute_result"
    }
   ],
   "source": [
    "# Initialize and load trained parameters-\n",
    "trained_model = LeNet5().to(device = device)\n",
    "trained_model.load_state_dict(torch.load(\"LeNet5_MNIST_best_val_acc.pth\"))"
   ]
  },
  {
   "cell_type": "code",
   "execution_count": 38,
   "id": "60ba768f-2eac-48d2-8d02-9fb1466d425f",
   "metadata": {},
   "outputs": [
    {
     "name": "stderr",
     "output_type": "stream",
     "text": [
      "Validation: : 100%|█| 40/40 [00:01<00:00, 33.51batch/s, val_acc=97.2, val_lo"
     ]
    },
    {
     "name": "stdout",
     "output_type": "stream",
     "text": [
      "LeNet-5 'best' trained model: val loss = 0.1110 & val acc = 97.21%\n"
     ]
    },
    {
     "name": "stderr",
     "output_type": "stream",
     "text": [
      "\n"
     ]
    }
   ],
   "source": [
    "val_loss, val_acc = test_one_step(\n",
    "    model = trained_model, test_loader = test_loader,\n",
    "    test_dataset = test_dataset\n",
    ")\n",
    "print(f\"LeNet-5 'best' trained model: val loss = {val_loss:.4f} &\"\n",
    "      f\" val acc = {val_acc:.2f}%\")"
   ]
  },
  {
   "cell_type": "code",
   "execution_count": null,
   "id": "3ebb15ce-4eea-4c3b-9432-0613913ed79e",
   "metadata": {},
   "outputs": [],
   "source": []
  },
  {
   "cell_type": "code",
   "execution_count": 39,
   "id": "ae0da7e0-f059-4699-ab9f-237483df00ef",
   "metadata": {},
   "outputs": [
    {
     "name": "stdout",
     "output_type": "stream",
     "text": [
      "conv1.weight, params.shape: torch.Size([6, 1, 5, 5])\n",
      "bn1.weight, params.shape: torch.Size([6])\n",
      "bn1.bias, params.shape: torch.Size([6])\n",
      "conv2.weight, params.shape: torch.Size([16, 6, 5, 5])\n",
      "bn2.weight, params.shape: torch.Size([16])\n",
      "bn2.bias, params.shape: torch.Size([16])\n",
      "fc1.weight, params.shape: torch.Size([120, 256])\n",
      "fc1.bias, params.shape: torch.Size([120])\n",
      "bn3.weight, params.shape: torch.Size([120])\n",
      "bn3.bias, params.shape: torch.Size([120])\n",
      "fc2.weight, params.shape: torch.Size([84, 120])\n",
      "fc2.bias, params.shape: torch.Size([84])\n",
      "bn4.weight, params.shape: torch.Size([84])\n",
      "bn4.bias, params.shape: torch.Size([84])\n",
      "fc3.weight, params.shape: torch.Size([10, 84])\n",
      "fc3.bias, params.shape: torch.Size([10])\n"
     ]
    }
   ],
   "source": [
    "for layer_name, params in trained_model.named_parameters():\n",
    "    print(f\"{layer_name}, params.shape: {params.shape}\")"
   ]
  },
  {
   "cell_type": "code",
   "execution_count": 40,
   "id": "45f552a5-8eb5-4e7b-b522-b2d58a7863d5",
   "metadata": {},
   "outputs": [
    {
     "data": {
      "text/plain": [
       "torch.Size([6, 1, 5, 5])"
      ]
     },
     "execution_count": 40,
     "metadata": {},
     "output_type": "execute_result"
    }
   ],
   "source": [
    "trained_model.conv1.weight.shape"
   ]
  },
  {
   "cell_type": "code",
   "execution_count": 41,
   "id": "f641ccab-ecf6-4c6e-8fbc-892822077d6f",
   "metadata": {},
   "outputs": [
    {
     "name": "stdout",
     "output_type": "stream",
     "text": [
      "filter: 1, l2-norm = 1.4670\n",
      "filter: 2, l2-norm = 1.5785\n",
      "filter: 3, l2-norm = 1.5208\n",
      "filter: 4, l2-norm = 1.4626\n",
      "filter: 5, l2-norm = 1.5640\n",
      "filter: 6, l2-norm = 1.3949\n"
     ]
    }
   ],
   "source": [
    "# Compute L2-norm for each filter in conv layer-\n",
    "for i in range(len(trained_model.conv1.weight)):\n",
    "    print(f\"filter: {i + 1}, l2-norm = {torch.norm(input = trained_model.conv1.weight[i], p = 2):.4f}\")"
   ]
  },
  {
   "cell_type": "code",
   "execution_count": 42,
   "id": "cb6b3ee9-c736-478e-ac8d-bdfd84e30441",
   "metadata": {},
   "outputs": [],
   "source": [
    "# Compute L2 norm for all filters in first conv layer-\n",
    "conv1_l2_norms = [torch.norm(input = trained_model.conv1.weight[i], p = 2).item() for i in range(len(trained_model.conv1.weight))]"
   ]
  },
  {
   "cell_type": "code",
   "execution_count": 43,
   "id": "6774a2b6-c8bd-46e1-8b4d-6748b4a8e7da",
   "metadata": {},
   "outputs": [
    {
     "data": {
      "text/plain": [
       "[1.466958999633789,\n",
       " 1.578518033027649,\n",
       " 1.520751953125,\n",
       " 1.4625601768493652,\n",
       " 1.5639575719833374,\n",
       " 1.3948670625686646]"
      ]
     },
     "execution_count": 43,
     "metadata": {},
     "output_type": "execute_result"
    }
   ],
   "source": [
    "conv1_l2_norms"
   ]
  },
  {
   "cell_type": "code",
   "execution_count": 44,
   "id": "f4daa689-3e40-47fe-9de2-8f899a35fc26",
   "metadata": {},
   "outputs": [
    {
     "data": {
      "text/plain": [
       "tensor([5, 3, 0, 2, 4, 1])"
      ]
     },
     "execution_count": 44,
     "metadata": {},
     "output_type": "execute_result"
    }
   ],
   "source": [
    "# Sort conv filters according to L2 norms and get sorted indices-\n",
    "torch.argsort(torch.tensor(conv1_l2_norms))"
   ]
  },
  {
   "cell_type": "code",
   "execution_count": null,
   "id": "58292c41-e49c-4546-a8c3-ef811cd79852",
   "metadata": {},
   "outputs": [],
   "source": []
  },
  {
   "cell_type": "code",
   "execution_count": null,
   "id": "2de10484-9ba6-4124-8456-3699fd13b1e4",
   "metadata": {},
   "outputs": [],
   "source": []
  }
 ],
 "metadata": {
  "kernelspec": {
   "display_name": "Python 3 (ipykernel)",
   "language": "python",
   "name": "python3"
  },
  "language_info": {
   "codemirror_mode": {
    "name": "ipython",
    "version": 3
   },
   "file_extension": ".py",
   "mimetype": "text/x-python",
   "name": "python",
   "nbconvert_exporter": "python",
   "pygments_lexer": "ipython3",
   "version": "3.10.8"
  }
 },
 "nbformat": 4,
 "nbformat_minor": 5
}
