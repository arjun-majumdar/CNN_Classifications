{
 "cells": [
  {
   "cell_type": "markdown",
   "metadata": {
    "id": "TM439NOkPalz"
   },
   "source": [
    "# EXP: ResNet-34: CIFAR-10 + PyTorch + ```albumentations```"
   ]
  },
  {
   "cell_type": "code",
   "execution_count": 1,
   "metadata": {
    "colab": {
     "base_uri": "https://localhost:8080/"
    },
    "id": "s5ZPstpkPgUH",
    "outputId": "90592016-b0f0-43e7-ee12-7c6feeec2c32"
   },
   "outputs": [
    {
     "name": "stdout",
     "output_type": "stream",
     "text": [
      "env: CUDA_DEVICE_ORDER=PCI_BUS_ID\n",
      "env: CUDA_VISIBLE_DEVICES=0\n"
     ]
    }
   ],
   "source": [
    "# Specify GPU to be used-\n",
    "%env CUDA_DEVICE_ORDER = PCI_BUS_ID\n",
    "'''\n",
    "Specify GPU(s) to be used here. Say you have 6 GPUs and you want to train Model A on 2 of them\n",
    "and Model B on 4 of them. You can do that as follows-\n",
    "CUDA_VISIBLE_DEVICES=0,1 python model_A.py\n",
    "CUDA_VISIBLE_DEVICES=2,3,4,5 python model_B.py\n",
    "'''\n",
    "# %env CUDA_VISIBLE_DEVICES = 0, 1, 2, 3\n",
    "%env CUDA_VISIBLE_DEVICES = 0"
   ]
  },
  {
   "cell_type": "code",
   "execution_count": 2,
   "metadata": {
    "id": "sfyoNJvUPt7r"
   },
   "outputs": [
    {
     "name": "stderr",
     "output_type": "stream",
     "text": [
      "C:\\Users\\arjun\\anaconda3\\envs\\torch-cuda\\lib\\site-packages\\tqdm\\auto.py:22: TqdmWarning: IProgress not found. Please update jupyter and ipywidgets. See https://ipywidgets.readthedocs.io/en/stable/user_install.html\n",
      "  from .autonotebook import tqdm as notebook_tqdm\n"
     ]
    }
   ],
   "source": [
    "import cv2\n",
    "import numpy as np\n",
    "import matplotlib.pyplot as plt\n",
    "\n",
    "import torch\n",
    "import torch.nn as nn\n",
    "import torch.nn.functional as F\n",
    "import torchvision\n",
    "# import torchvision.transforms as transforms\n",
    "\n",
    "from tqdm import tqdm\n",
    "from tqdm import trange\n",
    "import matplotlib.pyplot as plt\n",
    "import seaborn as sns\n",
    "import numpy as np\n",
    "import os, pickle\n",
    "import albumentations as A\n",
    "from albumentations.pytorch import ToTensorV2"
   ]
  },
  {
   "cell_type": "code",
   "execution_count": null,
   "metadata": {
    "id": "PtuaCzy_Pwtd"
   },
   "outputs": [],
   "source": []
  },
  {
   "cell_type": "code",
   "execution_count": null,
   "metadata": {
    "id": "tlGd6M9ZPwzs"
   },
   "outputs": [],
   "source": []
  },
  {
   "cell_type": "code",
   "execution_count": 3,
   "metadata": {
    "colab": {
     "base_uri": "https://localhost:8080/"
    },
    "id": "5U_VyEZRPw6f",
    "outputId": "0cc86af6-f594-4ae4-bf99-43d19e174a58"
   },
   "outputs": [
    {
     "name": "stdout",
     "output_type": "stream",
     "text": [
      "torch version: 1.13.1\n",
      "Number of GPU(s) available = 1\n",
      "Current GPU: 0\n",
      "Current GPU name: NVIDIA GeForce RTX 3080 Laptop GPU\n"
     ]
    }
   ],
   "source": [
    "print(f\"torch version: {torch.__version__}\")\n",
    "\n",
    "# Check if there are multiple devices (i.e., GPU cards)-\n",
    "print(f\"Number of GPU(s) available = {torch.cuda.device_count()}\")\n",
    "\n",
    "# Which GPU Is The Current GPU?\n",
    "# print(f\"current GPU: {torch.cuda.current_device()}\")\n",
    "\n",
    "# Get the name of the current GPU-\n",
    "# print(f\"Current GPU name: {torch.cuda.get_device_name(torch.cuda.current_device())}\")\n",
    "\n",
    "# Is PyTorch using a GPU?\n",
    "# print(f\"Is PyTorch using a GPU? {torch.cuda.is_available()}\")\n",
    "\n",
    "if torch.cuda.is_available():\n",
    "    print(f\"Current GPU: {torch.cuda.current_device()}\")\n",
    "    print(f\"Current GPU name: {torch.cuda.get_device_name(torch.cuda.current_device())}\")\n",
    "else:\n",
    "    print(\"PyTorch does not have access to GPU\")"
   ]
  },
  {
   "cell_type": "code",
   "execution_count": 4,
   "metadata": {
    "colab": {
     "base_uri": "https://localhost:8080/"
    },
    "id": "8P2C1VZ9P86z",
    "outputId": "1b8b9386-dbfb-4cb1-ccc8-362b01dc219e"
   },
   "outputs": [
    {
     "name": "stdout",
     "output_type": "stream",
     "text": [
      "Available device is cuda\n"
     ]
    }
   ],
   "source": [
    "# Device configuration-\n",
    "device = torch.device('cuda' if torch.cuda.is_available() else 'cpu')\n",
    "print(f'Available device is {device}')"
   ]
  },
  {
   "cell_type": "code",
   "execution_count": null,
   "metadata": {
    "id": "b80I9-RdPzbQ"
   },
   "outputs": [],
   "source": [
    "# print(torch.cuda.memory_summary())"
   ]
  },
  {
   "cell_type": "code",
   "execution_count": null,
   "metadata": {
    "id": "lYJv86x3P5bY"
   },
   "outputs": [],
   "source": []
  },
  {
   "cell_type": "code",
   "execution_count": 5,
   "metadata": {
    "id": "uy1Pab99P2J4"
   },
   "outputs": [],
   "source": [
    "# Specify hyper-parameters\n",
    "batch_size = 256\n",
    "num_classes = 10\n",
    "num_epochs = 80"
   ]
  },
  {
   "cell_type": "code",
   "execution_count": null,
   "metadata": {
    "id": "5IIo0C4aP_0N"
   },
   "outputs": [],
   "source": []
  },
  {
   "cell_type": "code",
   "execution_count": null,
   "metadata": {
    "id": "zzsce7ujP_62"
   },
   "outputs": [],
   "source": []
  },
  {
   "cell_type": "code",
   "execution_count": 6,
   "metadata": {
    "id": "NJbW68m_QAAa"
   },
   "outputs": [],
   "source": [
    "# Define transformations using albumentations-\n",
    "transform_train = A.Compose(\n",
    "    [\n",
    "        # A.Resize(width = 32, height = 32),\n",
    "        # A.RandomCrop(width = 20, height = 20),\n",
    "        A.Rotate(limit = 40, p = 0.9, border_mode = cv2.BORDER_CONSTANT),\n",
    "        A.HorizontalFlip(p = 0.5),\n",
    "        A.VerticalFlip(p = 0.1),\n",
    "        A.RGBShift(r_shift_limit = 25, g_shift_limit = 25, b_shift_limit = 25, p = 0.9),\n",
    "        A.OneOf([\n",
    "            A.Blur(blur_limit = 3, p = 0.5),\n",
    "            A.ColorJitter(p = 0.5),\n",
    "        ], p = 1.0),\n",
    "        A.Normalize(\n",
    "            # mean = [0.4914, 0.4822, 0.4465],\n",
    "            # std = [0.247, 0.243, 0.261],\n",
    "            mean = [0, 0, 0],\n",
    "            std = [1, 1, 1],\n",
    "            max_pixel_value = 255,\n",
    "        ),\n",
    "        # This is not dividing by 255, which it does in PyTorch-\n",
    "        ToTensorV2(),\n",
    "    ]\n",
    ")\n",
    "\n",
    "transform_val = A.Compose(\n",
    "    [\n",
    "        A.Normalize(\n",
    "            mean = [0, 0, 0],\n",
    "            std = [1, 1, 1],\n",
    "            max_pixel_value = 255\n",
    "        ),\n",
    "        ToTensorV2()\n",
    "    ]\n",
    ")\n"
   ]
  },
  {
   "cell_type": "code",
   "execution_count": 7,
   "metadata": {
    "id": "0GBypjtVQC6A"
   },
   "outputs": [],
   "source": [
    "class Cifar10Dataset(torchvision.datasets.CIFAR10):\n",
    "    def __init__(\n",
    "        self, root = \"~/data/cifar10\",\n",
    "        train = True, download = True,\n",
    "        transform = None\n",
    "    ):\n",
    "        super().__init__(\n",
    "            root = root, train = train,\n",
    "            download = download, transform = transform\n",
    "        )\n",
    "\n",
    "    def __getitem__(self, index):\n",
    "        image, label = self.data[index], self.targets[index]\n",
    "\n",
    "        if self.transform is not None:\n",
    "            transformed = self.transform(image = image)\n",
    "            image = transformed[\"image\"]\n",
    "\n",
    "        return image, label\n"
   ]
  },
  {
   "cell_type": "code",
   "execution_count": 8,
   "metadata": {
    "colab": {
     "base_uri": "https://localhost:8080/"
    },
    "id": "3QO8_PzlQI50",
    "outputId": "0701b368-38fa-439c-94f3-9e3fbceecc97"
   },
   "outputs": [
    {
     "name": "stdout",
     "output_type": "stream",
     "text": [
      "Files already downloaded and verified\n",
      "Files already downloaded and verified\n"
     ]
    }
   ],
   "source": [
    "# Define train and validate sets-\n",
    "train_dataset = Cifar10Dataset(\n",
    "    root = 'C:/Users/arjun/Downloads/data/', train = True,\n",
    "    download = True, transform = transform_train\n",
    ")\n",
    "\n",
    "val_dataset = Cifar10Dataset(\n",
    "    root = 'C:/Users/arjun/Downloads/data/', train = False,\n",
    "    download = True, transform = transform_val\n",
    ")"
   ]
  },
  {
   "cell_type": "code",
   "execution_count": 9,
   "metadata": {
    "id": "ESRXD28wQMRM"
   },
   "outputs": [],
   "source": [
    "# Define train and validate loaders-\n",
    "train_loader = torch.utils.data.DataLoader(\n",
    "    dataset = train_dataset, batch_size = batch_size,\n",
    "    shuffle = True\n",
    "    )\n",
    "\n",
    "val_loader = torch.utils.data.DataLoader(\n",
    "    dataset = val_dataset, batch_size = batch_size,\n",
    "    shuffle = True\n",
    "    )"
   ]
  },
  {
   "cell_type": "code",
   "execution_count": 10,
   "metadata": {
    "colab": {
     "base_uri": "https://localhost:8080/"
    },
    "id": "HfI9NYs3QSAT",
    "outputId": "01454615-0cd5-46ce-f4d0-590ea4858f48"
   },
   "outputs": [
    {
     "name": "stdout",
     "output_type": "stream",
     "text": [
      "len(train_dataset) = 50000 & len(val_dataset) = 10000\n",
      "len(train_loader) = 196 & len(val_loader) = 40\n"
     ]
    },
    {
     "data": {
      "text/plain": [
       "(195.3125, 39.0625)"
      ]
     },
     "execution_count": 10,
     "metadata": {},
     "output_type": "execute_result"
    }
   ],
   "source": [
    "print(f\"len(train_dataset) = {len(train_dataset)} & len(val_dataset) = {len(val_dataset)}\")\n",
    "print(f\"len(train_loader) = {len(train_loader)} & len(val_loader) = {len(val_loader)}\")\n",
    "\n",
    "# Sanity check-\n",
    "len(train_dataset) / batch_size, len(val_dataset) / batch_size"
   ]
  },
  {
   "cell_type": "code",
   "execution_count": null,
   "metadata": {
    "id": "wduihU3CQToY"
   },
   "outputs": [],
   "source": []
  },
  {
   "cell_type": "code",
   "execution_count": null,
   "metadata": {
    "id": "dLtSez1XQZvS"
   },
   "outputs": [],
   "source": []
  },
  {
   "cell_type": "markdown",
   "metadata": {
    "id": "Tl0RGgGGTVWj"
   },
   "source": [
    "#### ResNet-34 CNN architecture"
   ]
  },
  {
   "cell_type": "code",
   "execution_count": 11,
   "metadata": {
    "id": "F5PiChHIQZ19"
   },
   "outputs": [],
   "source": [
    "class ResNet_Block(nn.Module):\n",
    "    '''\n",
    "    Residual block for a ResNet CNN model\n",
    "    '''\n",
    "    def __init__(\n",
    "        self, num_inp_channels,\n",
    "        num_channels, stride = 1,\n",
    "        dropout = 0.2, use_1x1_conv = False\n",
    "    ):\n",
    "        super(ResNet_Block, self).__init__()\n",
    "        \n",
    "        self.num_inp_channels = num_inp_channels\n",
    "        self.num_channels = num_channels\n",
    "        self.stride = stride\n",
    "        self.dropout = dropout\n",
    "        self.use_1x1_conv = use_1x1_conv\n",
    "    \n",
    "        \n",
    "        self.conv1 = nn.Conv2d(\n",
    "            in_channels = self.num_inp_channels, out_channels = self.num_channels,\n",
    "            kernel_size = 3, padding = 1,\n",
    "            stride = self.stride, bias = False\n",
    "        )\n",
    "        self.bn1 = nn.BatchNorm2d(num_features = self.num_channels)\n",
    "        \n",
    "        self.conv2 = nn.Conv2d(\n",
    "            in_channels = self.num_channels, out_channels = self.num_channels,\n",
    "            kernel_size = 3, padding = 1,\n",
    "            stride = 1, bias = False\n",
    "        )\n",
    "        self.bn2 = nn.BatchNorm2d(num_features = self.num_channels)\n",
    "        self.dropout = nn.Dropout(p = self.dropout)\n",
    "        \n",
    "        if self.use_1x1_conv:\n",
    "            self.conv3 = nn.Conv2d(\n",
    "            in_channels = self.num_inp_channels, out_channels = num_channels,\n",
    "            kernel_size = 1, padding = 0,\n",
    "            stride = self.stride, bias = False\n",
    "            )\n",
    "            self.bn3 = nn.BatchNorm2d(num_features = self.num_channels)\n",
    "        \n",
    "        self.initialize_weights()\n",
    "\n",
    "            \n",
    "    def initialize_weights(self):\n",
    "        for m in self.modules():\n",
    "            # print(m)\n",
    "            if isinstance(m, nn.Conv2d):\n",
    "                nn.init.kaiming_normal_(m.weight)\n",
    "\n",
    "                '''\n",
    "                # Do not initialize bias (due to batchnorm)-\n",
    "                if m.bias is not None:\n",
    "                    nn.init.constant_(m.bias, 0)\n",
    "                '''\n",
    "            \n",
    "            elif isinstance(m, nn.BatchNorm2d):\n",
    "                # Standard initialization for batch normalization-\n",
    "                nn.init.constant_(m.weight, 1)\n",
    "                nn.init.constant_(m.bias, 0)\n",
    "\n",
    "            elif isinstance(m, nn.Linear):\n",
    "                nn.init.kaiming_normal_(m.weight)\n",
    "                nn.init.constant_(m.bias, 0)\n",
    "    \n",
    "    \n",
    "    def forward(self, x):\n",
    "        y = F.leaky_relu(self.bn1(self.conv1(x)))\n",
    "        y = self.dropout(F.leaky_relu(self.bn2(self.conv2(y))))\n",
    "        \n",
    "        if self.use_1x1_conv:\n",
    "            x = self.bn3(self.conv3(x))\n",
    "            \n",
    "        y += x\n",
    "        return F.leaky_relu(self.dropout(y))\n",
    "    \n",
    "    \n",
    "    def shape_computation(self, x):\n",
    "        print(f\"Input shape: {x.shape}\")\n",
    "        y = (self.bn1(self.conv1(x)))\n",
    "        print(f\"First conv layer output shape: {y.shape}\")\n",
    "        y = self.bn2(self.conv2(y))\n",
    "        print(f\"Second conv layer output shape: {y.shape}\")\n",
    "        \n",
    "        if self.use_1x1_conv:\n",
    "            x = self.bn3(self.conv3(x))\n",
    "            print(f\"Downsample with S = 2; identity connection output shape: {x.shape}\")\n",
    "            \n",
    "        y += x\n",
    "        print(f\"Residual block output shape: {y.shape}\")\n",
    "        return None\n",
    "    "
   ]
  },
  {
   "cell_type": "code",
   "execution_count": 12,
   "metadata": {
    "id": "-zFHEwx4Qazy"
   },
   "outputs": [],
   "source": [
    "class ResNet34(nn.Module):\n",
    "    def __init__(self):\n",
    "        super(ResNet34, self).__init__()\n",
    "        \n",
    "        self.conv1 = nn.Conv2d(\n",
    "            in_channels = 3, out_channels = 64,\n",
    "            kernel_size = 3, padding = 1,\n",
    "            stride = 1, bias = False\n",
    "        )\n",
    "        self.bn1 = nn.BatchNorm2d(num_features = 64)\n",
    "        \n",
    "        self.resblock1 = ResNet_Block(\n",
    "            num_inp_channels = 64, num_channels = 64,\n",
    "            stride = 1, dropout = 0.2,\n",
    "            use_1x1_conv = False\n",
    "        )\n",
    "        \n",
    "        self.resblock2 = ResNet_Block(\n",
    "            num_inp_channels = 64, num_channels = 64,\n",
    "            stride = 1, dropout = 0.2,\n",
    "            use_1x1_conv = False\n",
    "        )\n",
    "\n",
    "        self.resblock3 = ResNet_Block(\n",
    "            num_inp_channels = 64, num_channels = 64,\n",
    "            stride = 1, dropout = 0.2,\n",
    "            use_1x1_conv = False\n",
    "        )\n",
    "        \n",
    "        # Downsample-\n",
    "        self.resblock4 = ResNet_Block(\n",
    "            num_inp_channels = 64, num_channels = 128,\n",
    "            stride = 2, dropout = 0.2,\n",
    "            use_1x1_conv = True\n",
    "        )\n",
    "        \n",
    "        self.resblock5 = ResNet_Block(\n",
    "            num_inp_channels = 128, num_channels = 128,\n",
    "            stride = 1, dropout = 0.2,\n",
    "            use_1x1_conv = False\n",
    "        )\n",
    "\n",
    "        self.resblock6 = ResNet_Block(\n",
    "            num_inp_channels = 128, num_channels = 128,\n",
    "            stride = 1, dropout = 0.2,\n",
    "            use_1x1_conv = False\n",
    "        )\n",
    "\n",
    "        self.resblock7 = ResNet_Block(\n",
    "            num_inp_channels = 128, num_channels = 128,\n",
    "            stride = 1, dropout = 0.2,\n",
    "            use_1x1_conv = False\n",
    "        )\n",
    "\n",
    "        # Downsample-\n",
    "        self.resblock8 = ResNet_Block(\n",
    "            num_inp_channels = 128, num_channels = 256,\n",
    "            stride = 2, dropout = 0.2,\n",
    "            use_1x1_conv = True\n",
    "        )\n",
    "\n",
    "        self.resblock9 = ResNet_Block(\n",
    "            num_inp_channels = 256, num_channels = 256,\n",
    "            stride = 1, dropout = 0.2,\n",
    "            use_1x1_conv = False\n",
    "        )\n",
    "\n",
    "        self.resblock10 = ResNet_Block(\n",
    "            num_inp_channels = 256, num_channels = 256,\n",
    "            stride = 1, dropout = 0.2,\n",
    "            use_1x1_conv = False\n",
    "        )\n",
    "\n",
    "        self.resblock11 = ResNet_Block(\n",
    "            num_inp_channels = 256, num_channels = 256,\n",
    "            stride = 1, dropout = 0.2,\n",
    "            use_1x1_conv = False\n",
    "        )\n",
    "\n",
    "        self.resblock12 = ResNet_Block(\n",
    "            num_inp_channels = 256, num_channels = 256,\n",
    "            stride = 1, dropout = 0.2,\n",
    "            use_1x1_conv = False\n",
    "        )\n",
    "\n",
    "        self.resblock13 = ResNet_Block(\n",
    "            num_inp_channels = 256, num_channels = 256,\n",
    "            stride = 1, dropout = 0.2,\n",
    "            use_1x1_conv = False\n",
    "        )\n",
    "\n",
    "        # Downsample-\n",
    "        self.resblock14 = ResNet_Block(\n",
    "            num_inp_channels = 256, num_channels = 512,\n",
    "            stride = 2, dropout = 0.2,\n",
    "            use_1x1_conv = True\n",
    "        )\n",
    "\n",
    "        self.resblock15 = ResNet_Block(\n",
    "            num_inp_channels = 512, num_channels = 512,\n",
    "            stride = 1, dropout = 0.2,\n",
    "            use_1x1_conv = False\n",
    "        )\n",
    "\n",
    "        self.resblock16 = ResNet_Block(\n",
    "            num_inp_channels = 512, num_channels = 512,\n",
    "            stride = 1, dropout = 0.2,\n",
    "            use_1x1_conv = False\n",
    "        )\n",
    "        \n",
    "        self.avg_pool = nn.AvgPool2d(kernel_size = 3, stride = 2)\n",
    "        self.op_layer = nn.Linear(\n",
    "            in_features = 512, out_features = 10,\n",
    "            bias = True\n",
    "        )\n",
    "        \n",
    "    \n",
    "    def forward(self, x):\n",
    "        x = F.relu(self.bn1(self.conv1(x)))\n",
    "        x = self.resblock1(x)\n",
    "        x = self.resblock2(x)\n",
    "        x = self.resblock3(x)\n",
    "        x = self.resblock4(x)\n",
    "        x = self.resblock5(x)\n",
    "        x = self.resblock6(x)\n",
    "        x = self.resblock7(x)\n",
    "        x = self.resblock8(x)\n",
    "        x = self.resblock9(x)\n",
    "        x = self.resblock10(x)\n",
    "        x = self.resblock11(x)\n",
    "        x = self.resblock12(x)\n",
    "        x = self.resblock13(x)\n",
    "        x = self.resblock14(x)\n",
    "        x = self.resblock15(x)\n",
    "        x = self.resblock16(x)\n",
    "        x = self.avg_pool(x).squeeze()\n",
    "        x = self.op_layer(x)\n",
    "        return x\n"
   ]
  },
  {
   "cell_type": "code",
   "execution_count": null,
   "metadata": {
    "id": "jMXw0U-zRXvV"
   },
   "outputs": [],
   "source": []
  },
  {
   "cell_type": "code",
   "execution_count": 13,
   "metadata": {
    "id": "5h7CgCSBRX2-"
   },
   "outputs": [],
   "source": [
    "# Initialize ResNet-34 CNN architecture-\n",
    "model = ResNet34().to(device)"
   ]
  },
  {
   "cell_type": "code",
   "execution_count": 14,
   "metadata": {
    "colab": {
     "base_uri": "https://localhost:8080/"
    },
    "id": "3ecjzhRdRcSM",
    "outputId": "f477bf7a-e41b-4bde-cb17-5d008f574309"
   },
   "outputs": [
    {
     "name": "stdout",
     "output_type": "stream",
     "text": [
      "Total number of parameters in ResNet-34 CNN = 21282122\n"
     ]
    }
   ],
   "source": [
    "# Count number of layer-wise parameters and total parameters-\n",
    "tot_params = 0\n",
    "for param in model.parameters():\n",
    "    # print(f\"layer.shape = {param.shape} has {param.nelement()} parameters\")\n",
    "    tot_params += param.nelement()\n",
    "\n",
    "print(f\"Total number of parameters in ResNet-34 CNN = {tot_params}\")"
   ]
  },
  {
   "cell_type": "code",
   "execution_count": 15,
   "metadata": {
    "id": "bndDNNB9Rjo3"
   },
   "outputs": [],
   "source": [
    "# Save random initial weights-\n",
    "torch.save(model.state_dict(), 'ResNet34_random_weights.pth')\n",
    "\n",
    "# Load randomly initialised weights-\n",
    "# model.load_state_dict(torch.load('ResNet34_random_weights.pth'))"
   ]
  },
  {
   "cell_type": "code",
   "execution_count": null,
   "metadata": {
    "id": "3dK0eX3KRpOV"
   },
   "outputs": [],
   "source": []
  },
  {
   "cell_type": "code",
   "execution_count": 16,
   "metadata": {
    "id": "XjMmOaMJRpZS"
   },
   "outputs": [],
   "source": [
    "# Define loss function and optimizer-\n",
    "loss = nn.CrossEntropyLoss()\n",
    "\n",
    "# optimizer = torch.optim.Adam(model.parameters(), lr = learning_rate)\n",
    "optimizer = torch.optim.SGD(model.parameters(), lr = 0.0, momentum = 0.9, weight_decay = 5e-4)"
   ]
  },
  {
   "cell_type": "code",
   "execution_count": null,
   "metadata": {
    "id": "KY7IE_zERx_J"
   },
   "outputs": [],
   "source": []
  },
  {
   "cell_type": "code",
   "execution_count": null,
   "metadata": {
    "id": "v3rgfXKtRyF6"
   },
   "outputs": [],
   "source": []
  },
  {
   "cell_type": "markdown",
   "metadata": {
    "id": "j9MSbvUuR0A-"
   },
   "source": [
    "#### Train model with learning rate scheduler\n",
    "\n",
    "Training dataset = 50000, batch size = 256, number of training steps/iterations per epoch = 50000 / 256 = 195.3125 = 195\n",
    "\n",
    "After an initial linear learning rate warmup of 13 epochs or 2539 training steps:\n",
    "\n",
    "- For the next 32 epochs, or, 6250 steps - until 43rd epoch, use lr = 0.1.\n",
    "\n",
    "- For the next 25 epochs, or, 4882 steps - until 68th epoch, use lr = 0.01.\n",
    "\n",
    "- For remaining epochs (13 epochs), use lr = 0.001."
   ]
  },
  {
   "cell_type": "code",
   "execution_count": 17,
   "metadata": {
    "id": "bZpeRlDmR4gD"
   },
   "outputs": [],
   "source": [
    "boundaries = [6250, 11132]\n",
    "values = [0.1, 0.01, 0.001]"
   ]
  },
  {
   "cell_type": "code",
   "execution_count": 18,
   "metadata": {
    "id": "bwB1LVTGR606"
   },
   "outputs": [],
   "source": [
    "def decay_function(step, boundaries = [6250, 11132], values = [0.1, 0.01, 0.001]):\n",
    "    \n",
    "    for idx, bound in enumerate(boundaries):\n",
    "        if step < bound:\n",
    "            return values[idx]\n",
    "\n",
    "    return values[-1]\n",
    "    "
   ]
  },
  {
   "cell_type": "code",
   "execution_count": 19,
   "metadata": {
    "id": "aT0lFnAQR97r"
   },
   "outputs": [],
   "source": [
    "class schedule():\n",
    "\n",
    "    def __init__(self, initial_learning_rate = 0.1, warmup_steps = 1000, decay_func = None):\n",
    "        self.initial_learning_rate = initial_learning_rate\n",
    "        self.warmup_steps = warmup_steps\n",
    "        self.decay_func = decay_func\n",
    "        self.warmup_step_size = initial_learning_rate/warmup_steps\n",
    "        self.current_lr = 0\n",
    "\n",
    "    def get_lr(self, step):\n",
    "        if step == 0:\n",
    "            return self.current_lr\n",
    "        elif step <= self.warmup_steps:\n",
    "            self.current_lr+=self.warmup_step_size\n",
    "            return self.current_lr\n",
    "        elif step > self.warmup_steps:\n",
    "            if self.decay_func:\n",
    "                return self.decay_func(step)\n",
    "        else:\n",
    "            return self.current_lr\n",
    "            "
   ]
  },
  {
   "cell_type": "code",
   "execution_count": 20,
   "metadata": {
    "id": "ykQU03n5R_hK"
   },
   "outputs": [],
   "source": [
    "# Initial linear LR warmup: 195.3125 x 13 = 2549 steps in 13 epochs.\n",
    "custom_lr_scheduler = schedule(\n",
    "    initial_learning_rate = 0.1, warmup_steps = 2539,\n",
    "    decay_func = decay_function\n",
    ")"
   ]
  },
  {
   "cell_type": "code",
   "execution_count": 21,
   "metadata": {
    "id": "QDS8tfZOSBCM"
   },
   "outputs": [],
   "source": [
    "step = 0"
   ]
  },
  {
   "cell_type": "code",
   "execution_count": null,
   "metadata": {
    "id": "RbhTyLbxSCVj"
   },
   "outputs": [],
   "source": []
  },
  {
   "cell_type": "code",
   "execution_count": 22,
   "metadata": {
    "id": "pcT4kWcYSCZT"
   },
   "outputs": [],
   "source": [
    "def train_model_progress(model, train_loader, train_dataset):\n",
    "    '''\n",
    "    Function to perform one epoch of training by using 'train_loader'.\n",
    "    Returns loss and number of correct predictions for this epoch.\n",
    "    '''\n",
    "    running_loss = 0.0\n",
    "    running_corrects = 0.0\n",
    "    \n",
    "    model.train()\n",
    "    \n",
    "    with tqdm(train_loader, unit = 'batch') as tepoch:\n",
    "        for images, labels in tepoch:\n",
    "            tepoch.set_description(f\"Training: \")\n",
    "            \n",
    "            images = images.to(device)\n",
    "            labels = labels.to(device)\n",
    "            \n",
    "            # Get model predictions-\n",
    "            outputs = model(images)\n",
    "            \n",
    "            # Compute loss-\n",
    "            J = loss(outputs, labels)\n",
    "            \n",
    "            # Empty accumulated gradients-\n",
    "            optimizer.zero_grad()\n",
    "            \n",
    "            # Perform backprop-\n",
    "            J.backward()\n",
    "            \n",
    "            # Update parameters-\n",
    "            optimizer.step()\n",
    "            \n",
    "            global step\n",
    "            optimizer.param_groups[0]['lr'] = custom_lr_scheduler.get_lr(step)\n",
    "\n",
    "            step += 1\n",
    "            \n",
    "            # Compute model's performance statistics-\n",
    "            running_loss += J.item() * images.size(0)\n",
    "            _, predicted = torch.max(outputs, 1)\n",
    "            running_corrects += torch.sum(predicted == labels.data)\n",
    "            \n",
    "            tepoch.set_postfix(\n",
    "                loss = running_loss / len(train_dataset),\n",
    "                accuracy = (running_corrects.double().cpu().numpy() / len(train_dataset)) * 100\n",
    "            )\n",
    "            \n",
    "    \n",
    "    train_loss = running_loss / len(train_dataset)\n",
    "    train_acc = (running_corrects.double() / len(train_dataset)) * 100\n",
    "    \n",
    "\n",
    "    # return running_loss, running_corrects\n",
    "    return train_loss, train_acc.cpu().numpy()\n"
   ]
  },
  {
   "cell_type": "code",
   "execution_count": 23,
   "metadata": {
    "id": "Vjkv0acHSEk2"
   },
   "outputs": [],
   "source": [
    "def test_model_progress(model, test_loader, test_dataset):\n",
    "    total = 0.0\n",
    "    correct = 0.0\n",
    "    running_loss_val = 0.0\n",
    "\n",
    "    with torch.no_grad():\n",
    "        with tqdm(test_loader, unit = 'batch') as tepoch:\n",
    "            for images, labels in tepoch:\n",
    "                tepoch.set_description(f\"Validation: \")\n",
    "                \n",
    "                images = images.to(device)\n",
    "                labels = labels.to(device)\n",
    "                \n",
    "                # Set model to evaluation mode-\n",
    "                model.eval()\n",
    "            \n",
    "                # Predict using trained model-\n",
    "                outputs = model(images)\n",
    "                _, y_pred = torch.max(outputs, 1)\n",
    "                \n",
    "                # Compute validation loss-\n",
    "                J_val = loss(outputs, labels)\n",
    "                \n",
    "                running_loss_val += J_val.item() * labels.size(0)\n",
    "    \n",
    "                # Total number of labels-\n",
    "                total += labels.size(0)\n",
    "\n",
    "                # Total number of correct predictions-\n",
    "                correct += (y_pred == labels).sum()\n",
    "                \n",
    "                tepoch.set_postfix(\n",
    "                    val_loss = running_loss_val / len(test_dataset),\n",
    "                    val_acc = 100 * (correct.cpu().numpy() / total)\n",
    "                )\n",
    "            \n",
    "        \n",
    "    # return (running_loss_val, correct, total)\n",
    "    val_loss = running_loss_val / len(test_dataset)\n",
    "    val_acc = (correct / total) * 100\n",
    "\n",
    "    return val_loss, val_acc.cpu().numpy()\n",
    "    "
   ]
  },
  {
   "cell_type": "code",
   "execution_count": null,
   "metadata": {
    "id": "lBqWmm0TSGoc"
   },
   "outputs": [],
   "source": []
  },
  {
   "cell_type": "code",
   "execution_count": 24,
   "metadata": {
    "id": "q6Dmm4G8SGwN"
   },
   "outputs": [],
   "source": [
    "# Python3 dict to contain training metrics-\n",
    "training_history_lr_scheduler = {}\n",
    "\n",
    "# Initialize parameters saving 'best' models-\n",
    "best_val_acc = 80"
   ]
  },
  {
   "cell_type": "code",
   "execution_count": null,
   "metadata": {
    "id": "GNvSq5-tSKxh"
   },
   "outputs": [],
   "source": []
  },
  {
   "cell_type": "code",
   "execution_count": 25,
   "metadata": {
    "colab": {
     "base_uri": "https://localhost:8080/"
    },
    "id": "9NVannziSQXd",
    "outputId": "04374ef9-1ac9-44a1-c9a4-615d87151cc6"
   },
   "outputs": [
    {
     "name": "stderr",
     "output_type": "stream",
     "text": [
      "Training: : 100%|███████████████████████████████████████| 196/196 [01:10<00:00,  2.79batch/s, accuracy=14.6, loss=2.31]\n",
      "Validation: : 100%|██████████████████████████████████████| 40/40 [00:03<00:00, 10.25batch/s, val_acc=10, val_loss=3.31]\n"
     ]
    },
    {
     "name": "stdout",
     "output_type": "stream",
     "text": [
      "\n",
      "epoch: 1 training loss = 2.3111, training accuracy = 14.60%, val_loss = 3.3113, val_accuracy = 10.00% & LR = 0.00768\n",
      "\n"
     ]
    },
    {
     "name": "stderr",
     "output_type": "stream",
     "text": [
      "Training: : 100%|███████████████████████████████████████| 196/196 [01:06<00:00,  2.93batch/s, accuracy=18.8, loss=2.18]\n",
      "Validation: : 100%|████████████████████████████████████| 40/40 [00:03<00:00, 11.40batch/s, val_acc=9.94, val_loss=3.92]\n"
     ]
    },
    {
     "name": "stdout",
     "output_type": "stream",
     "text": [
      "\n",
      "epoch: 2 training loss = 2.1794, training accuracy = 18.83%, val_loss = 3.9165, val_accuracy = 9.94% & LR = 0.01540\n",
      "\n"
     ]
    },
    {
     "name": "stderr",
     "output_type": "stream",
     "text": [
      "Training: : 100%|███████████████████████████████████████| 196/196 [01:06<00:00,  2.96batch/s, accuracy=21.9, loss=2.07]\n",
      "Validation: : 100%|██████████████████████████████████████| 40/40 [00:02<00:00, 13.53batch/s, val_acc=10, val_loss=4.97]\n"
     ]
    },
    {
     "name": "stdout",
     "output_type": "stream",
     "text": [
      "\n",
      "epoch: 3 training loss = 2.0701, training accuracy = 21.85%, val_loss = 4.9727, val_accuracy = 10.00% & LR = 0.02312\n",
      "\n"
     ]
    },
    {
     "name": "stderr",
     "output_type": "stream",
     "text": [
      "Training: : 100%|███████████████████████████████████████| 196/196 [01:05<00:00,  2.99batch/s, accuracy=26.6, loss=1.95]\n",
      "Validation: : 100%|████████████████████████████████████| 40/40 [00:02<00:00, 13.47batch/s, val_acc=12.7, val_loss=3.83]\n"
     ]
    },
    {
     "name": "stdout",
     "output_type": "stream",
     "text": [
      "\n",
      "epoch: 4 training loss = 1.9451, training accuracy = 26.61%, val_loss = 3.8259, val_accuracy = 12.69% & LR = 0.03084\n",
      "\n"
     ]
    },
    {
     "name": "stderr",
     "output_type": "stream",
     "text": [
      "Training: : 100%|███████████████████████████████████████| 196/196 [01:07<00:00,  2.91batch/s, accuracy=30.6, loss=1.85]\n",
      "Validation: : 100%|██████████████████████████████████████| 40/40 [00:03<00:00, 12.51batch/s, val_acc=20, val_loss=2.56]\n"
     ]
    },
    {
     "name": "stdout",
     "output_type": "stream",
     "text": [
      "\n",
      "epoch: 5 training loss = 1.8517, training accuracy = 30.57%, val_loss = 2.5570, val_accuracy = 20.03% & LR = 0.03856\n",
      "\n"
     ]
    },
    {
     "name": "stderr",
     "output_type": "stream",
     "text": [
      "Training: : 100%|███████████████████████████████████████| 196/196 [01:05<00:00,  2.98batch/s, accuracy=34.5, loss=1.76]\n",
      "Validation: : 100%|████████████████████████████████████| 40/40 [00:02<00:00, 13.34batch/s, val_acc=28.8, val_loss=2.45]\n"
     ]
    },
    {
     "name": "stdout",
     "output_type": "stream",
     "text": [
      "\n",
      "epoch: 6 training loss = 1.7573, training accuracy = 34.47%, val_loss = 2.4499, val_accuracy = 28.81% & LR = 0.04628\n",
      "\n"
     ]
    },
    {
     "name": "stderr",
     "output_type": "stream",
     "text": [
      "Training: : 100%|███████████████████████████████████████| 196/196 [01:08<00:00,  2.87batch/s, accuracy=38.3, loss=1.67]\n",
      "Validation: : 100%|█████████████████████████████████████| 40/40 [00:03<00:00, 12.77batch/s, val_acc=25.8, val_loss=2.6]\n"
     ]
    },
    {
     "name": "stdout",
     "output_type": "stream",
     "text": [
      "\n",
      "epoch: 7 training loss = 1.6678, training accuracy = 38.29%, val_loss = 2.5965, val_accuracy = 25.79% & LR = 0.05400\n",
      "\n"
     ]
    },
    {
     "name": "stderr",
     "output_type": "stream",
     "text": [
      "Training: : 100%|███████████████████████████████████████| 196/196 [01:08<00:00,  2.87batch/s, accuracy=42.1, loss=1.58]\n",
      "Validation: : 100%|████████████████████████████████████| 40/40 [00:03<00:00, 13.03batch/s, val_acc=38.4, val_loss=1.99]\n"
     ]
    },
    {
     "name": "stdout",
     "output_type": "stream",
     "text": [
      "\n",
      "epoch: 8 training loss = 1.5809, training accuracy = 42.07%, val_loss = 1.9854, val_accuracy = 38.41% & LR = 0.06172\n",
      "\n"
     ]
    },
    {
     "name": "stderr",
     "output_type": "stream",
     "text": [
      "Training: : 100%|███████████████████████████████████████| 196/196 [01:06<00:00,  2.94batch/s, accuracy=44.8, loss=1.52]\n",
      "Validation: : 100%|█████████████████████████████████████| 40/40 [00:03<00:00, 12.52batch/s, val_acc=48.2, val_loss=1.5]\n"
     ]
    },
    {
     "name": "stdout",
     "output_type": "stream",
     "text": [
      "\n",
      "epoch: 9 training loss = 1.5163, training accuracy = 44.81%, val_loss = 1.5047, val_accuracy = 48.23% & LR = 0.06944\n",
      "\n"
     ]
    },
    {
     "name": "stderr",
     "output_type": "stream",
     "text": [
      "Training: : 100%|███████████████████████████████████████| 196/196 [01:05<00:00,  3.01batch/s, accuracy=47.8, loss=1.45]\n",
      "Validation: : 100%|████████████████████████████████████| 40/40 [00:03<00:00, 10.75batch/s, val_acc=50.1, val_loss=1.45]\n"
     ]
    },
    {
     "name": "stdout",
     "output_type": "stream",
     "text": [
      "\n",
      "epoch: 10 training loss = 1.4496, training accuracy = 47.81%, val_loss = 1.4487, val_accuracy = 50.09% & LR = 0.07716\n",
      "\n"
     ]
    },
    {
     "name": "stderr",
     "output_type": "stream",
     "text": [
      "Training: : 100%|███████████████████████████████████████| 196/196 [01:09<00:00,  2.82batch/s, accuracy=50.3, loss=1.38]\n",
      "Validation: : 100%|████████████████████████████████████| 40/40 [00:02<00:00, 13.37batch/s, val_acc=46.2, val_loss=1.69]\n"
     ]
    },
    {
     "name": "stdout",
     "output_type": "stream",
     "text": [
      "\n",
      "epoch: 11 training loss = 1.3804, training accuracy = 50.30%, val_loss = 1.6888, val_accuracy = 46.25% & LR = 0.08488\n",
      "\n"
     ]
    },
    {
     "name": "stderr",
     "output_type": "stream",
     "text": [
      "Training: : 100%|███████████████████████████████████████| 196/196 [01:05<00:00,  2.98batch/s, accuracy=53.2, loss=1.31]\n",
      "Validation: : 100%|██████████████████████████████████████| 40/40 [00:03<00:00, 11.69batch/s, val_acc=54, val_loss=1.35]\n"
     ]
    },
    {
     "name": "stdout",
     "output_type": "stream",
     "text": [
      "\n",
      "epoch: 12 training loss = 1.3146, training accuracy = 53.20%, val_loss = 1.3550, val_accuracy = 54.03% & LR = 0.09260\n",
      "\n"
     ]
    },
    {
     "name": "stderr",
     "output_type": "stream",
     "text": [
      "Training: : 100%|███████████████████████████████████████| 196/196 [01:06<00:00,  2.94batch/s, accuracy=54.8, loss=1.26]\n",
      "Validation: : 100%|████████████████████████████████████| 40/40 [00:03<00:00, 12.28batch/s, val_acc=62.1, val_loss=1.07]\n"
     ]
    },
    {
     "name": "stdout",
     "output_type": "stream",
     "text": [
      "\n",
      "epoch: 13 training loss = 1.2638, training accuracy = 54.79%, val_loss = 1.0723, val_accuracy = 62.05% & LR = 0.10000\n",
      "\n"
     ]
    },
    {
     "name": "stderr",
     "output_type": "stream",
     "text": [
      "Training: : 100%|███████████████████████████████████████| 196/196 [01:06<00:00,  2.94batch/s, accuracy=57.3, loss=1.21]\n",
      "Validation: : 100%|████████████████████████████████████| 40/40 [00:04<00:00,  9.53batch/s, val_acc=63.1, val_loss=1.06]\n"
     ]
    },
    {
     "name": "stdout",
     "output_type": "stream",
     "text": [
      "\n",
      "epoch: 14 training loss = 1.2092, training accuracy = 57.29%, val_loss = 1.0596, val_accuracy = 63.10% & LR = 0.10000\n",
      "\n"
     ]
    },
    {
     "name": "stderr",
     "output_type": "stream",
     "text": [
      "Training: : 100%|███████████████████████████████████████| 196/196 [01:05<00:00,  2.97batch/s, accuracy=58.6, loss=1.17]\n",
      "Validation: : 100%|████████████████████████████████████| 40/40 [00:02<00:00, 13.44batch/s, val_acc=60.4, val_loss=1.14]\n"
     ]
    },
    {
     "name": "stdout",
     "output_type": "stream",
     "text": [
      "\n",
      "epoch: 15 training loss = 1.1689, training accuracy = 58.58%, val_loss = 1.1367, val_accuracy = 60.40% & LR = 0.10000\n",
      "\n"
     ]
    },
    {
     "name": "stderr",
     "output_type": "stream",
     "text": [
      "Training: : 100%|███████████████████████████████████████| 196/196 [01:07<00:00,  2.92batch/s, accuracy=60.3, loss=1.12]\n",
      "Validation: : 100%|████████████████████████████████████| 40/40 [00:03<00:00, 13.20batch/s, val_acc=61.3, val_loss=1.16]\n"
     ]
    },
    {
     "name": "stdout",
     "output_type": "stream",
     "text": [
      "\n",
      "epoch: 16 training loss = 1.1241, training accuracy = 60.34%, val_loss = 1.1606, val_accuracy = 61.30% & LR = 0.10000\n",
      "\n"
     ]
    },
    {
     "name": "stderr",
     "output_type": "stream",
     "text": [
      "Training: : 100%|████████████████████████████████████████| 196/196 [01:06<00:00,  2.97batch/s, accuracy=61.6, loss=1.1]\n",
      "Validation: : 100%|███████████████████████████████████████| 40/40 [00:03<00:00, 12.58batch/s, val_acc=56, val_loss=1.4]\n"
     ]
    },
    {
     "name": "stdout",
     "output_type": "stream",
     "text": [
      "\n",
      "epoch: 17 training loss = 1.0951, training accuracy = 61.59%, val_loss = 1.4013, val_accuracy = 56.00% & LR = 0.10000\n",
      "\n"
     ]
    },
    {
     "name": "stderr",
     "output_type": "stream",
     "text": [
      "Training: : 100%|███████████████████████████████████████| 196/196 [01:04<00:00,  3.03batch/s, accuracy=62.9, loss=1.06]\n",
      "Validation: : 100%|███████████████████████████████████| 40/40 [00:02<00:00, 13.55batch/s, val_acc=68.4, val_loss=0.967]\n"
     ]
    },
    {
     "name": "stdout",
     "output_type": "stream",
     "text": [
      "\n",
      "epoch: 18 training loss = 1.0615, training accuracy = 62.90%, val_loss = 0.9673, val_accuracy = 68.38% & LR = 0.10000\n",
      "\n"
     ]
    },
    {
     "name": "stderr",
     "output_type": "stream",
     "text": [
      "Training: : 100%|███████████████████████████████████████| 196/196 [01:07<00:00,  2.91batch/s, accuracy=63.6, loss=1.04]\n",
      "Validation: : 100%|█████████████████████████████████████| 40/40 [00:03<00:00, 12.44batch/s, val_acc=70.2, val_loss=0.9]\n"
     ]
    },
    {
     "name": "stdout",
     "output_type": "stream",
     "text": [
      "\n",
      "epoch: 19 training loss = 1.0404, training accuracy = 63.62%, val_loss = 0.8997, val_accuracy = 70.20% & LR = 0.10000\n",
      "\n"
     ]
    },
    {
     "name": "stderr",
     "output_type": "stream",
     "text": [
      "Training: : 100%|███████████████████████████████████████| 196/196 [01:06<00:00,  2.96batch/s, accuracy=64.6, loss=1.01]\n",
      "Validation: : 100%|███████████████████████████████████| 40/40 [00:03<00:00, 12.33batch/s, val_acc=70.7, val_loss=0.859]\n"
     ]
    },
    {
     "name": "stdout",
     "output_type": "stream",
     "text": [
      "\n",
      "epoch: 20 training loss = 1.0129, training accuracy = 64.64%, val_loss = 0.8591, val_accuracy = 70.73% & LR = 0.10000\n",
      "\n"
     ]
    },
    {
     "name": "stderr",
     "output_type": "stream",
     "text": [
      "Training: : 100%|██████████████████████████████████████| 196/196 [01:05<00:00,  2.98batch/s, accuracy=65.2, loss=0.992]\n",
      "Validation: : 100%|███████████████████████████████████| 40/40 [00:03<00:00, 11.66batch/s, val_acc=69.4, val_loss=0.875]\n"
     ]
    },
    {
     "name": "stdout",
     "output_type": "stream",
     "text": [
      "\n",
      "epoch: 21 training loss = 0.9924, training accuracy = 65.25%, val_loss = 0.8746, val_accuracy = 69.39% & LR = 0.10000\n",
      "\n"
     ]
    },
    {
     "name": "stderr",
     "output_type": "stream",
     "text": [
      "Training: : 100%|██████████████████████████████████████| 196/196 [01:05<00:00,  3.00batch/s, accuracy=66.5, loss=0.962]\n",
      "Validation: : 100%|████████████████████████████████████| 40/40 [00:03<00:00, 12.46batch/s, val_acc=72.7, val_loss=0.82]\n"
     ]
    },
    {
     "name": "stdout",
     "output_type": "stream",
     "text": [
      "\n",
      "epoch: 22 training loss = 0.9620, training accuracy = 66.49%, val_loss = 0.8197, val_accuracy = 72.68% & LR = 0.10000\n",
      "\n"
     ]
    },
    {
     "name": "stderr",
     "output_type": "stream",
     "text": [
      "Training: : 100%|██████████████████████████████████████| 196/196 [01:07<00:00,  2.92batch/s, accuracy=66.8, loss=0.948]\n",
      "Validation: : 100%|███████████████████████████████████| 40/40 [00:02<00:00, 13.43batch/s, val_acc=75.1, val_loss=0.746]\n"
     ]
    },
    {
     "name": "stdout",
     "output_type": "stream",
     "text": [
      "\n",
      "epoch: 23 training loss = 0.9476, training accuracy = 66.84%, val_loss = 0.7460, val_accuracy = 75.07% & LR = 0.10000\n",
      "\n"
     ]
    },
    {
     "name": "stderr",
     "output_type": "stream",
     "text": [
      "Training: : 100%|███████████████████████████████████████| 196/196 [01:10<00:00,  2.80batch/s, accuracy=67.5, loss=0.93]\n",
      "Validation: : 100%|███████████████████████████████████| 40/40 [00:03<00:00, 11.36batch/s, val_acc=75.5, val_loss=0.711]\n"
     ]
    },
    {
     "name": "stdout",
     "output_type": "stream",
     "text": [
      "\n",
      "epoch: 24 training loss = 0.9298, training accuracy = 67.46%, val_loss = 0.7113, val_accuracy = 75.46% & LR = 0.10000\n",
      "\n"
     ]
    },
    {
     "name": "stderr",
     "output_type": "stream",
     "text": [
      "Training: : 100%|██████████████████████████████████████| 196/196 [01:13<00:00,  2.68batch/s, accuracy=68.1, loss=0.914]\n",
      "Validation: : 100%|███████████████████████████████████| 40/40 [00:02<00:00, 13.44batch/s, val_acc=72.2, val_loss=0.836]\n"
     ]
    },
    {
     "name": "stdout",
     "output_type": "stream",
     "text": [
      "\n",
      "epoch: 25 training loss = 0.9144, training accuracy = 68.13%, val_loss = 0.8357, val_accuracy = 72.17% & LR = 0.10000\n",
      "\n"
     ]
    },
    {
     "name": "stderr",
     "output_type": "stream",
     "text": [
      "Training: : 100%|██████████████████████████████████████| 196/196 [01:09<00:00,  2.81batch/s, accuracy=68.3, loss=0.909]\n",
      "Validation: : 100%|█████████████████████████████████████| 40/40 [00:03<00:00, 11.43batch/s, val_acc=75, val_loss=0.759]\n"
     ]
    },
    {
     "name": "stdout",
     "output_type": "stream",
     "text": [
      "\n",
      "epoch: 26 training loss = 0.9092, training accuracy = 68.29%, val_loss = 0.7587, val_accuracy = 75.04% & LR = 0.10000\n",
      "\n"
     ]
    },
    {
     "name": "stderr",
     "output_type": "stream",
     "text": [
      "Training: : 100%|██████████████████████████████████████| 196/196 [01:09<00:00,  2.83batch/s, accuracy=68.8, loss=0.895]\n",
      "Validation: : 100%|█████████████████████████████████████| 40/40 [00:03<00:00, 11.90batch/s, val_acc=78, val_loss=0.654]\n"
     ]
    },
    {
     "name": "stdout",
     "output_type": "stream",
     "text": [
      "\n",
      "epoch: 27 training loss = 0.8949, training accuracy = 68.77%, val_loss = 0.6540, val_accuracy = 78.02% & LR = 0.10000\n",
      "\n"
     ]
    },
    {
     "name": "stderr",
     "output_type": "stream",
     "text": [
      "Training: : 100%|██████████████████████████████████████| 196/196 [01:08<00:00,  2.88batch/s, accuracy=69.7, loss=0.878]\n",
      "Validation: : 100%|███████████████████████████████████| 40/40 [00:03<00:00, 10.86batch/s, val_acc=75.4, val_loss=0.759]\n"
     ]
    },
    {
     "name": "stdout",
     "output_type": "stream",
     "text": [
      "\n",
      "epoch: 28 training loss = 0.8782, training accuracy = 69.68%, val_loss = 0.7594, val_accuracy = 75.40% & LR = 0.10000\n",
      "\n"
     ]
    },
    {
     "name": "stderr",
     "output_type": "stream",
     "text": [
      "Training: : 100%|██████████████████████████████████████| 196/196 [01:10<00:00,  2.79batch/s, accuracy=69.5, loss=0.878]\n",
      "Validation: : 100%|███████████████████████████████████| 40/40 [00:03<00:00, 11.28batch/s, val_acc=77.5, val_loss=0.679]\n"
     ]
    },
    {
     "name": "stdout",
     "output_type": "stream",
     "text": [
      "\n",
      "epoch: 29 training loss = 0.8775, training accuracy = 69.45%, val_loss = 0.6786, val_accuracy = 77.50% & LR = 0.10000\n",
      "\n"
     ]
    },
    {
     "name": "stderr",
     "output_type": "stream",
     "text": [
      "Training: : 100%|██████████████████████████████████████| 196/196 [01:05<00:00,  2.97batch/s, accuracy=70.1, loss=0.863]\n",
      "Validation: : 100%|███████████████████████████████████| 40/40 [00:03<00:00, 12.80batch/s, val_acc=76.4, val_loss=0.709]\n"
     ]
    },
    {
     "name": "stdout",
     "output_type": "stream",
     "text": [
      "\n",
      "epoch: 30 training loss = 0.8632, training accuracy = 70.13%, val_loss = 0.7092, val_accuracy = 76.43% & LR = 0.10000\n",
      "\n"
     ]
    },
    {
     "name": "stderr",
     "output_type": "stream",
     "text": [
      "Training: : 100%|████████████████████████████████████████| 196/196 [01:08<00:00,  2.86batch/s, accuracy=70, loss=0.865]\n",
      "Validation: : 100%|███████████████████████████████████| 40/40 [00:03<00:00, 10.62batch/s, val_acc=76.6, val_loss=0.687]\n"
     ]
    },
    {
     "name": "stdout",
     "output_type": "stream",
     "text": [
      "\n",
      "epoch: 31 training loss = 0.8652, training accuracy = 69.97%, val_loss = 0.6871, val_accuracy = 76.64% & LR = 0.10000\n",
      "\n"
     ]
    },
    {
     "name": "stderr",
     "output_type": "stream",
     "text": [
      "Training: : 100%|██████████████████████████████████████| 196/196 [01:12<00:00,  2.69batch/s, accuracy=70.6, loss=0.848]\n",
      "Validation: : 100%|███████████████████████████████████| 40/40 [00:03<00:00, 10.35batch/s, val_acc=83.2, val_loss=0.496]\n"
     ]
    },
    {
     "name": "stdout",
     "output_type": "stream",
     "text": [
      "\n",
      "epoch: 32 training loss = 0.8479, training accuracy = 70.57%, val_loss = 0.4955, val_accuracy = 83.20% & LR = 0.01000\n",
      "\n",
      "Saving model with highest val_acc = 83.20%\n",
      "\n"
     ]
    },
    {
     "name": "stderr",
     "output_type": "stream",
     "text": [
      "Training: : 100%|██████████████████████████████████████| 196/196 [01:09<00:00,  2.80batch/s, accuracy=76.4, loss=0.679]\n",
      "Validation: : 100%|███████████████████████████████████| 40/40 [00:03<00:00, 11.67batch/s, val_acc=85.2, val_loss=0.447]\n"
     ]
    },
    {
     "name": "stdout",
     "output_type": "stream",
     "text": [
      "\n",
      "epoch: 33 training loss = 0.6788, training accuracy = 76.45%, val_loss = 0.4467, val_accuracy = 85.23% & LR = 0.01000\n",
      "\n",
      "Saving model with highest val_acc = 85.23%\n",
      "\n"
     ]
    },
    {
     "name": "stderr",
     "output_type": "stream",
     "text": [
      "Training: : 100%|██████████████████████████████████████| 196/196 [01:07<00:00,  2.92batch/s, accuracy=77.6, loss=0.642]\n",
      "Validation: : 100%|███████████████████████████████████| 40/40 [00:03<00:00, 12.98batch/s, val_acc=85.4, val_loss=0.432]\n"
     ]
    },
    {
     "name": "stdout",
     "output_type": "stream",
     "text": [
      "\n",
      "epoch: 34 training loss = 0.6415, training accuracy = 77.61%, val_loss = 0.4321, val_accuracy = 85.39% & LR = 0.01000\n",
      "\n",
      "Saving model with highest val_acc = 85.39%\n",
      "\n"
     ]
    },
    {
     "name": "stderr",
     "output_type": "stream",
     "text": [
      "Training: : 100%|██████████████████████████████████████| 196/196 [01:08<00:00,  2.85batch/s, accuracy=78.5, loss=0.618]\n",
      "Validation: : 100%|███████████████████████████████████| 40/40 [00:03<00:00, 12.94batch/s, val_acc=86.5, val_loss=0.412]\n"
     ]
    },
    {
     "name": "stdout",
     "output_type": "stream",
     "text": [
      "\n",
      "epoch: 35 training loss = 0.6182, training accuracy = 78.52%, val_loss = 0.4124, val_accuracy = 86.50% & LR = 0.01000\n",
      "\n",
      "Saving model with highest val_acc = 86.50%\n",
      "\n"
     ]
    },
    {
     "name": "stderr",
     "output_type": "stream",
     "text": [
      "Training: : 100%|██████████████████████████████████████| 196/196 [01:07<00:00,  2.92batch/s, accuracy=78.8, loss=0.609]\n",
      "Validation: : 100%|███████████████████████████████████| 40/40 [00:03<00:00, 12.10batch/s, val_acc=86.4, val_loss=0.408]\n"
     ]
    },
    {
     "name": "stdout",
     "output_type": "stream",
     "text": [
      "\n",
      "epoch: 36 training loss = 0.6089, training accuracy = 78.81%, val_loss = 0.4076, val_accuracy = 86.36% & LR = 0.01000\n",
      "\n"
     ]
    },
    {
     "name": "stderr",
     "output_type": "stream",
     "text": [
      "Training: : 100%|██████████████████████████████████████| 196/196 [01:09<00:00,  2.80batch/s, accuracy=79.4, loss=0.595]\n",
      "Validation: : 100%|███████████████████████████████████| 40/40 [00:03<00:00, 11.40batch/s, val_acc=86.6, val_loss=0.401]\n"
     ]
    },
    {
     "name": "stdout",
     "output_type": "stream",
     "text": [
      "\n",
      "epoch: 37 training loss = 0.5948, training accuracy = 79.37%, val_loss = 0.4010, val_accuracy = 86.63% & LR = 0.01000\n",
      "\n",
      "Saving model with highest val_acc = 86.63%\n",
      "\n"
     ]
    },
    {
     "name": "stderr",
     "output_type": "stream",
     "text": [
      "Training: : 100%|██████████████████████████████████████| 196/196 [01:09<00:00,  2.83batch/s, accuracy=79.5, loss=0.588]\n",
      "Validation: : 100%|███████████████████████████████████| 40/40 [00:03<00:00, 10.91batch/s, val_acc=86.7, val_loss=0.392]\n"
     ]
    },
    {
     "name": "stdout",
     "output_type": "stream",
     "text": [
      "\n",
      "epoch: 38 training loss = 0.5876, training accuracy = 79.54%, val_loss = 0.3916, val_accuracy = 86.71% & LR = 0.01000\n",
      "\n",
      "Saving model with highest val_acc = 86.71%\n",
      "\n"
     ]
    },
    {
     "name": "stderr",
     "output_type": "stream",
     "text": [
      "Training: : 100%|██████████████████████████████████████| 196/196 [01:07<00:00,  2.91batch/s, accuracy=79.8, loss=0.578]\n",
      "Validation: : 100%|███████████████████████████████████| 40/40 [00:03<00:00, 12.54batch/s, val_acc=87.1, val_loss=0.387]\n"
     ]
    },
    {
     "name": "stdout",
     "output_type": "stream",
     "text": [
      "\n",
      "epoch: 39 training loss = 0.5782, training accuracy = 79.77%, val_loss = 0.3873, val_accuracy = 87.07% & LR = 0.01000\n",
      "\n",
      "Saving model with highest val_acc = 87.07%\n",
      "\n"
     ]
    },
    {
     "name": "stderr",
     "output_type": "stream",
     "text": [
      "Training: : 100%|███████████████████████████████████████| 196/196 [01:07<00:00,  2.91batch/s, accuracy=80.4, loss=0.57]\n",
      "Validation: : 100%|███████████████████████████████████| 40/40 [00:03<00:00, 13.13batch/s, val_acc=86.3, val_loss=0.403]\n"
     ]
    },
    {
     "name": "stdout",
     "output_type": "stream",
     "text": [
      "\n",
      "epoch: 40 training loss = 0.5696, training accuracy = 80.40%, val_loss = 0.4033, val_accuracy = 86.32% & LR = 0.01000\n",
      "\n"
     ]
    },
    {
     "name": "stderr",
     "output_type": "stream",
     "text": [
      "Training: : 100%|██████████████████████████████████████| 196/196 [01:09<00:00,  2.80batch/s, accuracy=80.4, loss=0.565]\n",
      "Validation: : 100%|█████████████████████████████████████| 40/40 [00:03<00:00, 11.77batch/s, val_acc=87, val_loss=0.387]\n"
     ]
    },
    {
     "name": "stdout",
     "output_type": "stream",
     "text": [
      "\n",
      "epoch: 41 training loss = 0.5650, training accuracy = 80.43%, val_loss = 0.3869, val_accuracy = 87.00% & LR = 0.01000\n",
      "\n"
     ]
    },
    {
     "name": "stderr",
     "output_type": "stream",
     "text": [
      "Training: : 100%|██████████████████████████████████████| 196/196 [01:09<00:00,  2.83batch/s, accuracy=80.8, loss=0.555]\n",
      "Validation: : 100%|███████████████████████████████████| 40/40 [00:03<00:00, 12.23batch/s, val_acc=87.1, val_loss=0.379]\n"
     ]
    },
    {
     "name": "stdout",
     "output_type": "stream",
     "text": [
      "\n",
      "epoch: 42 training loss = 0.5548, training accuracy = 80.80%, val_loss = 0.3790, val_accuracy = 87.13% & LR = 0.01000\n",
      "\n",
      "Saving model with highest val_acc = 87.13%\n",
      "\n"
     ]
    },
    {
     "name": "stderr",
     "output_type": "stream",
     "text": [
      "Training: : 100%|██████████████████████████████████████| 196/196 [01:08<00:00,  2.88batch/s, accuracy=81.3, loss=0.543]\n",
      "Validation: : 100%|██████████████████████████████████████| 40/40 [00:03<00:00, 12.10batch/s, val_acc=87, val_loss=0.39]\n"
     ]
    },
    {
     "name": "stdout",
     "output_type": "stream",
     "text": [
      "\n",
      "epoch: 43 training loss = 0.5425, training accuracy = 81.26%, val_loss = 0.3900, val_accuracy = 87.04% & LR = 0.01000\n",
      "\n"
     ]
    },
    {
     "name": "stderr",
     "output_type": "stream",
     "text": [
      "Training: : 100%|██████████████████████████████████████| 196/196 [01:05<00:00,  2.97batch/s, accuracy=81.2, loss=0.542]\n",
      "Validation: : 100%|███████████████████████████████████| 40/40 [00:04<00:00,  9.63batch/s, val_acc=88.1, val_loss=0.351]\n"
     ]
    },
    {
     "name": "stdout",
     "output_type": "stream",
     "text": [
      "\n",
      "epoch: 44 training loss = 0.5423, training accuracy = 81.18%, val_loss = 0.3514, val_accuracy = 88.15% & LR = 0.01000\n",
      "\n",
      "Saving model with highest val_acc = 88.15%\n",
      "\n"
     ]
    },
    {
     "name": "stderr",
     "output_type": "stream",
     "text": [
      "Training: : 100%|██████████████████████████████████████| 196/196 [01:07<00:00,  2.92batch/s, accuracy=81.3, loss=0.542]\n",
      "Validation: : 100%|███████████████████████████████████| 40/40 [00:03<00:00, 12.08batch/s, val_acc=87.5, val_loss=0.369]\n"
     ]
    },
    {
     "name": "stdout",
     "output_type": "stream",
     "text": [
      "\n",
      "epoch: 45 training loss = 0.5421, training accuracy = 81.30%, val_loss = 0.3693, val_accuracy = 87.54% & LR = 0.01000\n",
      "\n"
     ]
    },
    {
     "name": "stderr",
     "output_type": "stream",
     "text": [
      "Training: : 100%|██████████████████████████████████████| 196/196 [01:08<00:00,  2.85batch/s, accuracy=81.3, loss=0.534]\n",
      "Validation: : 100%|████████████████████████████████████| 40/40 [00:03<00:00, 12.33batch/s, val_acc=87.9, val_loss=0.36]\n"
     ]
    },
    {
     "name": "stdout",
     "output_type": "stream",
     "text": [
      "\n",
      "epoch: 46 training loss = 0.5337, training accuracy = 81.27%, val_loss = 0.3597, val_accuracy = 87.89% & LR = 0.01000\n",
      "\n"
     ]
    },
    {
     "name": "stderr",
     "output_type": "stream",
     "text": [
      "Training: : 100%|██████████████████████████████████████| 196/196 [01:06<00:00,  2.94batch/s, accuracy=81.6, loss=0.528]\n",
      "Validation: : 100%|███████████████████████████████████| 40/40 [00:03<00:00, 12.27batch/s, val_acc=87.7, val_loss=0.371]\n"
     ]
    },
    {
     "name": "stdout",
     "output_type": "stream",
     "text": [
      "\n",
      "epoch: 47 training loss = 0.5278, training accuracy = 81.56%, val_loss = 0.3711, val_accuracy = 87.73% & LR = 0.01000\n",
      "\n"
     ]
    },
    {
     "name": "stderr",
     "output_type": "stream",
     "text": [
      "Training: : 100%|██████████████████████████████████████| 196/196 [01:10<00:00,  2.79batch/s, accuracy=81.7, loss=0.524]\n",
      "Validation: : 100%|███████████████████████████████████| 40/40 [00:03<00:00, 12.35batch/s, val_acc=88.5, val_loss=0.347]\n"
     ]
    },
    {
     "name": "stdout",
     "output_type": "stream",
     "text": [
      "\n",
      "epoch: 48 training loss = 0.5242, training accuracy = 81.67%, val_loss = 0.3466, val_accuracy = 88.49% & LR = 0.01000\n",
      "\n",
      "Saving model with highest val_acc = 88.49%\n",
      "\n"
     ]
    },
    {
     "name": "stderr",
     "output_type": "stream",
     "text": [
      "Training: : 100%|██████████████████████████████████████| 196/196 [01:08<00:00,  2.85batch/s, accuracy=81.9, loss=0.521]\n",
      "Validation: : 100%|███████████████████████████████████| 40/40 [00:03<00:00, 11.60batch/s, val_acc=88.2, val_loss=0.343]\n"
     ]
    },
    {
     "name": "stdout",
     "output_type": "stream",
     "text": [
      "\n",
      "epoch: 49 training loss = 0.5209, training accuracy = 81.86%, val_loss = 0.3432, val_accuracy = 88.24% & LR = 0.01000\n",
      "\n"
     ]
    },
    {
     "name": "stderr",
     "output_type": "stream",
     "text": [
      "Training: : 100%|███████████████████████████████████████| 196/196 [01:08<00:00,  2.84batch/s, accuracy=81.9, loss=0.52]\n",
      "Validation: : 100%|███████████████████████████████████| 40/40 [00:03<00:00, 12.79batch/s, val_acc=87.4, val_loss=0.372]\n"
     ]
    },
    {
     "name": "stdout",
     "output_type": "stream",
     "text": [
      "\n",
      "epoch: 50 training loss = 0.5202, training accuracy = 81.93%, val_loss = 0.3721, val_accuracy = 87.44% & LR = 0.01000\n",
      "\n"
     ]
    },
    {
     "name": "stderr",
     "output_type": "stream",
     "text": [
      "Training: : 100%|██████████████████████████████████████| 196/196 [01:08<00:00,  2.84batch/s, accuracy=82.1, loss=0.513]\n",
      "Validation: : 100%|███████████████████████████████████| 40/40 [00:03<00:00, 12.41batch/s, val_acc=88.5, val_loss=0.341]\n"
     ]
    },
    {
     "name": "stdout",
     "output_type": "stream",
     "text": [
      "\n",
      "epoch: 51 training loss = 0.5127, training accuracy = 82.11%, val_loss = 0.3413, val_accuracy = 88.51% & LR = 0.01000\n",
      "\n",
      "Saving model with highest val_acc = 88.51%\n",
      "\n"
     ]
    },
    {
     "name": "stderr",
     "output_type": "stream",
     "text": [
      "Training: : 100%|██████████████████████████████████████| 196/196 [01:10<00:00,  2.79batch/s, accuracy=82.2, loss=0.509]\n",
      "Validation: : 100%|███████████████████████████████████| 40/40 [00:03<00:00, 12.65batch/s, val_acc=87.2, val_loss=0.376]\n"
     ]
    },
    {
     "name": "stdout",
     "output_type": "stream",
     "text": [
      "\n",
      "epoch: 52 training loss = 0.5087, training accuracy = 82.19%, val_loss = 0.3763, val_accuracy = 87.22% & LR = 0.01000\n",
      "\n"
     ]
    },
    {
     "name": "stderr",
     "output_type": "stream",
     "text": [
      "Training: : 100%|██████████████████████████████████████| 196/196 [01:09<00:00,  2.82batch/s, accuracy=82.4, loss=0.501]\n",
      "Validation: : 100%|███████████████████████████████████| 40/40 [00:03<00:00, 10.74batch/s, val_acc=88.2, val_loss=0.348]\n"
     ]
    },
    {
     "name": "stdout",
     "output_type": "stream",
     "text": [
      "\n",
      "epoch: 53 training loss = 0.5007, training accuracy = 82.44%, val_loss = 0.3485, val_accuracy = 88.19% & LR = 0.01000\n",
      "\n"
     ]
    },
    {
     "name": "stderr",
     "output_type": "stream",
     "text": [
      "Training: : 100%|██████████████████████████████████████| 196/196 [01:10<00:00,  2.77batch/s, accuracy=82.6, loss=0.504]\n",
      "Validation: : 100%|███████████████████████████████████| 40/40 [00:03<00:00, 10.35batch/s, val_acc=88.8, val_loss=0.336]\n"
     ]
    },
    {
     "name": "stdout",
     "output_type": "stream",
     "text": [
      "\n",
      "epoch: 54 training loss = 0.5036, training accuracy = 82.56%, val_loss = 0.3364, val_accuracy = 88.83% & LR = 0.01000\n",
      "\n",
      "Saving model with highest val_acc = 88.83%\n",
      "\n"
     ]
    },
    {
     "name": "stderr",
     "output_type": "stream",
     "text": [
      "Training: : 100%|████████████████████████████████████████| 196/196 [01:04<00:00,  3.06batch/s, accuracy=83, loss=0.493]\n",
      "Validation: : 100%|████████████████████████████████████| 40/40 [00:03<00:00, 12.35batch/s, val_acc=88.4, val_loss=0.35]\n"
     ]
    },
    {
     "name": "stdout",
     "output_type": "stream",
     "text": [
      "\n",
      "epoch: 55 training loss = 0.4927, training accuracy = 82.97%, val_loss = 0.3496, val_accuracy = 88.36% & LR = 0.01000\n",
      "\n"
     ]
    },
    {
     "name": "stderr",
     "output_type": "stream",
     "text": [
      "Training: : 100%|██████████████████████████████████████| 196/196 [01:10<00:00,  2.79batch/s, accuracy=82.8, loss=0.493]\n",
      "Validation: : 100%|███████████████████████████████████| 40/40 [00:03<00:00, 12.46batch/s, val_acc=88.5, val_loss=0.338]\n"
     ]
    },
    {
     "name": "stdout",
     "output_type": "stream",
     "text": [
      "\n",
      "epoch: 56 training loss = 0.4926, training accuracy = 82.85%, val_loss = 0.3383, val_accuracy = 88.55% & LR = 0.01000\n",
      "\n"
     ]
    },
    {
     "name": "stderr",
     "output_type": "stream",
     "text": [
      "Training: : 100%|██████████████████████████████████████| 196/196 [01:11<00:00,  2.74batch/s, accuracy=83.1, loss=0.487]\n",
      "Validation: : 100%|███████████████████████████████████| 40/40 [00:03<00:00, 13.09batch/s, val_acc=89.3, val_loss=0.318]\n"
     ]
    },
    {
     "name": "stdout",
     "output_type": "stream",
     "text": [
      "\n",
      "epoch: 57 training loss = 0.4874, training accuracy = 83.08%, val_loss = 0.3177, val_accuracy = 89.33% & LR = 0.00100\n",
      "\n",
      "Saving model with highest val_acc = 89.33%\n",
      "\n"
     ]
    },
    {
     "name": "stderr",
     "output_type": "stream",
     "text": [
      "Training: : 100%|██████████████████████████████████████| 196/196 [01:08<00:00,  2.86batch/s, accuracy=84.4, loss=0.447]\n",
      "Validation: : 100%|███████████████████████████████████| 40/40 [00:03<00:00, 12.55batch/s, val_acc=89.8, val_loss=0.308]\n"
     ]
    },
    {
     "name": "stdout",
     "output_type": "stream",
     "text": [
      "\n",
      "epoch: 58 training loss = 0.4472, training accuracy = 84.36%, val_loss = 0.3078, val_accuracy = 89.75% & LR = 0.00100\n",
      "\n",
      "Saving model with highest val_acc = 89.75%\n",
      "\n"
     ]
    },
    {
     "name": "stderr",
     "output_type": "stream",
     "text": [
      "Training: : 100%|██████████████████████████████████████| 196/196 [01:08<00:00,  2.86batch/s, accuracy=84.7, loss=0.438]\n",
      "Validation: : 100%|█████████████████████████████████████| 40/40 [00:03<00:00, 13.11batch/s, val_acc=90, val_loss=0.301]\n"
     ]
    },
    {
     "name": "stdout",
     "output_type": "stream",
     "text": [
      "\n",
      "epoch: 59 training loss = 0.4377, training accuracy = 84.72%, val_loss = 0.3006, val_accuracy = 89.96% & LR = 0.00100\n",
      "\n",
      "Saving model with highest val_acc = 89.96%\n",
      "\n"
     ]
    },
    {
     "name": "stderr",
     "output_type": "stream",
     "text": [
      "Training: : 100%|██████████████████████████████████████| 196/196 [01:07<00:00,  2.91batch/s, accuracy=84.9, loss=0.433]\n",
      "Validation: : 100%|███████████████████████████████████| 40/40 [00:03<00:00, 13.26batch/s, val_acc=89.9, val_loss=0.299]\n"
     ]
    },
    {
     "name": "stdout",
     "output_type": "stream",
     "text": [
      "\n",
      "epoch: 60 training loss = 0.4325, training accuracy = 84.93%, val_loss = 0.2994, val_accuracy = 89.91% & LR = 0.00100\n",
      "\n"
     ]
    },
    {
     "name": "stderr",
     "output_type": "stream",
     "text": [
      "Training: : 100%|██████████████████████████████████████| 196/196 [01:08<00:00,  2.85batch/s, accuracy=85.1, loss=0.427]\n",
      "Validation: : 100%|█████████████████████████████████████| 40/40 [00:03<00:00, 11.68batch/s, val_acc=90, val_loss=0.297]\n"
     ]
    },
    {
     "name": "stdout",
     "output_type": "stream",
     "text": [
      "\n",
      "epoch: 61 training loss = 0.4270, training accuracy = 85.12%, val_loss = 0.2970, val_accuracy = 90.05% & LR = 0.00100\n",
      "\n",
      "Saving model with highest val_acc = 90.05%\n",
      "\n"
     ]
    },
    {
     "name": "stderr",
     "output_type": "stream",
     "text": [
      "Training: : 100%|██████████████████████████████████████| 196/196 [01:09<00:00,  2.80batch/s, accuracy=85.3, loss=0.426]\n",
      "Validation: : 100%|█████████████████████████████████████| 40/40 [00:03<00:00, 12.85batch/s, val_acc=90, val_loss=0.293]\n"
     ]
    },
    {
     "name": "stdout",
     "output_type": "stream",
     "text": [
      "\n",
      "epoch: 62 training loss = 0.4259, training accuracy = 85.34%, val_loss = 0.2932, val_accuracy = 90.00% & LR = 0.00100\n",
      "\n"
     ]
    },
    {
     "name": "stderr",
     "output_type": "stream",
     "text": [
      "Training: : 100%|██████████████████████████████████████| 196/196 [01:07<00:00,  2.92batch/s, accuracy=85.3, loss=0.421]\n",
      "Validation: : 100%|███████████████████████████████████| 40/40 [00:03<00:00, 12.99batch/s, val_acc=90.2, val_loss=0.297]\n"
     ]
    },
    {
     "name": "stdout",
     "output_type": "stream",
     "text": [
      "\n",
      "epoch: 63 training loss = 0.4207, training accuracy = 85.27%, val_loss = 0.2972, val_accuracy = 90.17% & LR = 0.00100\n",
      "\n",
      "Saving model with highest val_acc = 90.17%\n",
      "\n"
     ]
    },
    {
     "name": "stderr",
     "output_type": "stream",
     "text": [
      "Training: : 100%|███████████████████████████████████████| 196/196 [01:07<00:00,  2.91batch/s, accuracy=85.4, loss=0.42]\n",
      "Validation: : 100%|███████████████████████████████████| 40/40 [00:03<00:00, 12.16batch/s, val_acc=90.4, val_loss=0.292]\n"
     ]
    },
    {
     "name": "stdout",
     "output_type": "stream",
     "text": [
      "\n",
      "epoch: 64 training loss = 0.4203, training accuracy = 85.42%, val_loss = 0.2919, val_accuracy = 90.38% & LR = 0.00100\n",
      "\n",
      "Saving model with highest val_acc = 90.38%\n",
      "\n"
     ]
    },
    {
     "name": "stderr",
     "output_type": "stream",
     "text": [
      "Training: : 100%|██████████████████████████████████████| 196/196 [01:07<00:00,  2.91batch/s, accuracy=85.4, loss=0.417]\n",
      "Validation: : 100%|███████████████████████████████████| 40/40 [00:02<00:00, 13.39batch/s, val_acc=90.3, val_loss=0.294]\n"
     ]
    },
    {
     "name": "stdout",
     "output_type": "stream",
     "text": [
      "\n",
      "epoch: 65 training loss = 0.4174, training accuracy = 85.40%, val_loss = 0.2940, val_accuracy = 90.29% & LR = 0.00100\n",
      "\n"
     ]
    },
    {
     "name": "stderr",
     "output_type": "stream",
     "text": [
      "Training: : 100%|██████████████████████████████████████| 196/196 [01:07<00:00,  2.91batch/s, accuracy=85.6, loss=0.415]\n",
      "Validation: : 100%|███████████████████████████████████| 40/40 [00:03<00:00, 11.60batch/s, val_acc=90.1, val_loss=0.297]\n"
     ]
    },
    {
     "name": "stdout",
     "output_type": "stream",
     "text": [
      "\n",
      "epoch: 66 training loss = 0.4154, training accuracy = 85.57%, val_loss = 0.2966, val_accuracy = 90.06% & LR = 0.00100\n",
      "\n"
     ]
    },
    {
     "name": "stderr",
     "output_type": "stream",
     "text": [
      "Training: : 100%|██████████████████████████████████████| 196/196 [01:11<00:00,  2.73batch/s, accuracy=85.6, loss=0.415]\n",
      "Validation: : 100%|███████████████████████████████████| 40/40 [00:03<00:00, 11.44batch/s, val_acc=90.5, val_loss=0.287]\n"
     ]
    },
    {
     "name": "stdout",
     "output_type": "stream",
     "text": [
      "\n",
      "epoch: 67 training loss = 0.4148, training accuracy = 85.56%, val_loss = 0.2868, val_accuracy = 90.49% & LR = 0.00100\n",
      "\n",
      "Saving model with highest val_acc = 90.49%\n",
      "\n"
     ]
    },
    {
     "name": "stderr",
     "output_type": "stream",
     "text": [
      "Training: : 100%|██████████████████████████████████████| 196/196 [01:13<00:00,  2.67batch/s, accuracy=85.7, loss=0.411]\n",
      "Validation: : 100%|███████████████████████████████████| 40/40 [00:03<00:00, 10.55batch/s, val_acc=90.2, val_loss=0.291]\n"
     ]
    },
    {
     "name": "stdout",
     "output_type": "stream",
     "text": [
      "\n",
      "epoch: 68 training loss = 0.4109, training accuracy = 85.68%, val_loss = 0.2910, val_accuracy = 90.18% & LR = 0.00100\n",
      "\n"
     ]
    },
    {
     "name": "stderr",
     "output_type": "stream",
     "text": [
      "Training: : 100%|██████████████████████████████████████| 196/196 [01:11<00:00,  2.73batch/s, accuracy=85.6, loss=0.414]\n",
      "Validation: : 100%|███████████████████████████████████| 40/40 [00:03<00:00, 11.40batch/s, val_acc=90.5, val_loss=0.287]\n"
     ]
    },
    {
     "name": "stdout",
     "output_type": "stream",
     "text": [
      "\n",
      "epoch: 69 training loss = 0.4142, training accuracy = 85.61%, val_loss = 0.2871, val_accuracy = 90.50% & LR = 0.00100\n",
      "\n",
      "Saving model with highest val_acc = 90.50%\n",
      "\n"
     ]
    },
    {
     "name": "stderr",
     "output_type": "stream",
     "text": [
      "Training: : 100%|███████████████████████████████████████| 196/196 [01:09<00:00,  2.81batch/s, accuracy=85.7, loss=0.41]\n",
      "Validation: : 100%|███████████████████████████████████| 40/40 [00:03<00:00, 12.05batch/s, val_acc=90.6, val_loss=0.287]\n"
     ]
    },
    {
     "name": "stdout",
     "output_type": "stream",
     "text": [
      "\n",
      "epoch: 70 training loss = 0.4099, training accuracy = 85.69%, val_loss = 0.2874, val_accuracy = 90.57% & LR = 0.00100\n",
      "\n",
      "Saving model with highest val_acc = 90.57%\n",
      "\n"
     ]
    },
    {
     "name": "stderr",
     "output_type": "stream",
     "text": [
      "Training: : 100%|██████████████████████████████████████| 196/196 [01:10<00:00,  2.78batch/s, accuracy=85.9, loss=0.409]\n",
      "Validation: : 100%|████████████████████████████████████| 40/40 [00:03<00:00, 11.90batch/s, val_acc=90.5, val_loss=0.29]\n"
     ]
    },
    {
     "name": "stdout",
     "output_type": "stream",
     "text": [
      "\n",
      "epoch: 71 training loss = 0.4093, training accuracy = 85.86%, val_loss = 0.2903, val_accuracy = 90.45% & LR = 0.00100\n",
      "\n"
     ]
    },
    {
     "name": "stderr",
     "output_type": "stream",
     "text": [
      "Training: : 100%|██████████████████████████████████████| 196/196 [01:10<00:00,  2.79batch/s, accuracy=85.8, loss=0.408]\n",
      "Validation: : 100%|███████████████████████████████████| 40/40 [00:03<00:00, 12.09batch/s, val_acc=90.5, val_loss=0.284]\n"
     ]
    },
    {
     "name": "stdout",
     "output_type": "stream",
     "text": [
      "\n",
      "epoch: 72 training loss = 0.4082, training accuracy = 85.82%, val_loss = 0.2839, val_accuracy = 90.50% & LR = 0.00100\n",
      "\n"
     ]
    },
    {
     "name": "stderr",
     "output_type": "stream",
     "text": [
      "Training: : 100%|██████████████████████████████████████| 196/196 [01:07<00:00,  2.89batch/s, accuracy=85.9, loss=0.405]\n",
      "Validation: : 100%|███████████████████████████████████| 40/40 [00:03<00:00, 11.94batch/s, val_acc=90.6, val_loss=0.286]\n"
     ]
    },
    {
     "name": "stdout",
     "output_type": "stream",
     "text": [
      "\n",
      "epoch: 73 training loss = 0.4052, training accuracy = 85.92%, val_loss = 0.2864, val_accuracy = 90.56% & LR = 0.00100\n",
      "\n"
     ]
    },
    {
     "name": "stderr",
     "output_type": "stream",
     "text": [
      "Training: : 100%|██████████████████████████████████████| 196/196 [01:07<00:00,  2.90batch/s, accuracy=85.9, loss=0.405]\n",
      "Validation: : 100%|███████████████████████████████████| 40/40 [00:03<00:00, 12.74batch/s, val_acc=90.6, val_loss=0.281]\n"
     ]
    },
    {
     "name": "stdout",
     "output_type": "stream",
     "text": [
      "\n",
      "epoch: 74 training loss = 0.4052, training accuracy = 85.91%, val_loss = 0.2813, val_accuracy = 90.60% & LR = 0.00100\n",
      "\n",
      "Saving model with highest val_acc = 90.60%\n",
      "\n"
     ]
    },
    {
     "name": "stderr",
     "output_type": "stream",
     "text": [
      "Training: : 100%|██████████████████████████████████████| 196/196 [01:07<00:00,  2.89batch/s, accuracy=85.9, loss=0.406]\n",
      "Validation: : 100%|███████████████████████████████████| 40/40 [00:02<00:00, 13.53batch/s, val_acc=90.5, val_loss=0.281]\n"
     ]
    },
    {
     "name": "stdout",
     "output_type": "stream",
     "text": [
      "\n",
      "epoch: 75 training loss = 0.4060, training accuracy = 85.85%, val_loss = 0.2812, val_accuracy = 90.53% & LR = 0.00100\n",
      "\n"
     ]
    },
    {
     "name": "stderr",
     "output_type": "stream",
     "text": [
      "Training: : 100%|██████████████████████████████████████| 196/196 [01:09<00:00,  2.81batch/s, accuracy=85.9, loss=0.403]\n",
      "Validation: : 100%|███████████████████████████████████| 40/40 [00:03<00:00, 11.55batch/s, val_acc=90.2, val_loss=0.289]\n"
     ]
    },
    {
     "name": "stdout",
     "output_type": "stream",
     "text": [
      "\n",
      "epoch: 76 training loss = 0.4027, training accuracy = 85.87%, val_loss = 0.2890, val_accuracy = 90.22% & LR = 0.00100\n",
      "\n"
     ]
    },
    {
     "name": "stderr",
     "output_type": "stream",
     "text": [
      "Training: : 100%|██████████████████████████████████████| 196/196 [01:07<00:00,  2.91batch/s, accuracy=86.2, loss=0.398]\n",
      "Validation: : 100%|███████████████████████████████████| 40/40 [00:03<00:00, 10.50batch/s, val_acc=90.4, val_loss=0.284]\n"
     ]
    },
    {
     "name": "stdout",
     "output_type": "stream",
     "text": [
      "\n",
      "epoch: 77 training loss = 0.3983, training accuracy = 86.22%, val_loss = 0.2841, val_accuracy = 90.40% & LR = 0.00100\n",
      "\n"
     ]
    },
    {
     "name": "stderr",
     "output_type": "stream",
     "text": [
      "Training: : 100%|██████████████████████████████████████| 196/196 [01:09<00:00,  2.81batch/s, accuracy=85.9, loss=0.404]\n",
      "Validation: : 100%|███████████████████████████████████| 40/40 [00:03<00:00, 11.81batch/s, val_acc=90.8, val_loss=0.281]\n"
     ]
    },
    {
     "name": "stdout",
     "output_type": "stream",
     "text": [
      "\n",
      "epoch: 78 training loss = 0.4043, training accuracy = 85.95%, val_loss = 0.2808, val_accuracy = 90.81% & LR = 0.00100\n",
      "\n",
      "Saving model with highest val_acc = 90.81%\n",
      "\n"
     ]
    },
    {
     "name": "stderr",
     "output_type": "stream",
     "text": [
      "Training: : 100%|██████████████████████████████████████| 196/196 [01:09<00:00,  2.83batch/s, accuracy=86.2, loss=0.399]\n",
      "Validation: : 100%|███████████████████████████████████| 40/40 [00:03<00:00, 12.28batch/s, val_acc=90.3, val_loss=0.283]\n"
     ]
    },
    {
     "name": "stdout",
     "output_type": "stream",
     "text": [
      "\n",
      "epoch: 79 training loss = 0.3992, training accuracy = 86.19%, val_loss = 0.2829, val_accuracy = 90.34% & LR = 0.00100\n",
      "\n"
     ]
    },
    {
     "name": "stderr",
     "output_type": "stream",
     "text": [
      "Training: : 100%|██████████████████████████████████████| 196/196 [01:08<00:00,  2.86batch/s, accuracy=85.9, loss=0.404]\n",
      "Validation: : 100%|███████████████████████████████████| 40/40 [00:02<00:00, 13.48batch/s, val_acc=90.4, val_loss=0.285]"
     ]
    },
    {
     "name": "stdout",
     "output_type": "stream",
     "text": [
      "\n",
      "epoch: 80 training loss = 0.4039, training accuracy = 85.85%, val_loss = 0.2855, val_accuracy = 90.40% & LR = 0.00100\n",
      "\n"
     ]
    },
    {
     "name": "stderr",
     "output_type": "stream",
     "text": [
      "\n"
     ]
    }
   ],
   "source": [
    "for epoch in range(num_epochs):\n",
    "\n",
    "    # Train and validate model for 1 epoch-\n",
    "    train_loss, train_acc = train_model_progress(\n",
    "        model = model, train_loader = train_loader,\n",
    "        train_dataset = train_dataset\n",
    "    )\n",
    "    val_loss, val_acc = test_model_progress(\n",
    "        model = model, test_loader = val_loader,\n",
    "        test_dataset = val_dataset\n",
    "    )\n",
    "    \n",
    "    print(f\"\\nepoch: {epoch + 1} training loss = {train_loss:.4f}, \"\n",
    "          f\"training accuracy = {train_acc:.2f}%, val_loss = {val_loss:.4f}\"\n",
    "          f\", val_accuracy = {val_acc:.2f}% & \"\n",
    "          f\"LR = {optimizer.param_groups[0]['lr']:.5f}\\n\")\n",
    "    \n",
    "    training_history_lr_scheduler[epoch + 1] = {\n",
    "        'loss': train_loss, 'acc': train_acc,\n",
    "        'val_loss': val_loss, 'val_acc': val_acc,\n",
    "        'lr': optimizer.param_groups[0]['lr']\n",
    "    }\n",
    "\n",
    "    \n",
    "    # Save best weights achieved until now-\n",
    "    if (val_acc > best_val_acc):\n",
    "        # update 'best_val_loss' variable to lowest loss encountered so far-\n",
    "        best_val_acc = val_acc\n",
    "\n",
    "        print(f\"Saving model with highest val_acc = {val_acc:.2f}%\\n\")\n",
    "        \n",
    "        # Save trained model with 'best' validation accuracy-\n",
    "        torch.save(model.state_dict(), \"ResNet34_best_model.pth\")\n",
    "        "
   ]
  },
  {
   "cell_type": "code",
   "execution_count": null,
   "metadata": {
    "id": "-UvUwKAJTKos"
   },
   "outputs": [],
   "source": []
  },
  {
   "cell_type": "code",
   "execution_count": null,
   "metadata": {
    "id": "jKHvsAoKSeNn"
   },
   "outputs": [],
   "source": [
    "# Save model from last training epoch-\n",
    "# torch.save(model.state_dict(), \"ResNet34_last_epoch_model.pth\")"
   ]
  },
  {
   "cell_type": "code",
   "execution_count": 26,
   "metadata": {
    "id": "O_aADDvwSnFX"
   },
   "outputs": [],
   "source": [
    "# Save training metrics as Python3 history for later analysis-\n",
    "with open(\"ResNet34_CIFAR10_training_history.pkl\", \"wb\") as file:\n",
    "    pickle.dump(training_history_lr_scheduler, file)"
   ]
  },
  {
   "cell_type": "code",
   "execution_count": null,
   "metadata": {
    "id": "PH1GV3afSrqD"
   },
   "outputs": [],
   "source": [
    "del model"
   ]
  },
  {
   "cell_type": "code",
   "execution_count": null,
   "metadata": {
    "id": "URI-dqvqSyIW"
   },
   "outputs": [],
   "source": [
    "# Initialize and load 'best' trained parameters from above-\n",
    "best_trained_model = ResNet34().to(device)\n",
    "best_trained_model.load_state_dict(torch.load('ResNet34_best_model.pth'))"
   ]
  },
  {
   "cell_type": "code",
   "execution_count": null,
   "metadata": {
    "id": "zXxW3JVgSsWP"
   },
   "outputs": [],
   "source": [
    "# Get validation loss and accuracy-\n",
    "val_loss, val_acc = test_model_progress(\n",
    "    model = best_trained_model, test_loader = val_loader,\n",
    "    test_dataset = val_dataset\n",
    ")\n",
    "print(f\"ResNet-34 'best' model metrics: val_loss = {val_loss:.4f} & val_acc = {val_acc:.2f}%\")"
   ]
  },
  {
   "cell_type": "code",
   "execution_count": null,
   "metadata": {
    "id": "L1PkOovRSsbA"
   },
   "outputs": [],
   "source": [
    "del best_trained_model"
   ]
  },
  {
   "cell_type": "code",
   "execution_count": null,
   "metadata": {
    "id": "cJB7TKpPS201"
   },
   "outputs": [],
   "source": []
  },
  {
   "cell_type": "code",
   "execution_count": 27,
   "metadata": {
    "id": "lhCuWr8kS4U4"
   },
   "outputs": [
    {
     "data": {
      "image/png": "[encoded data removed]",
      "text/plain": [
       "<Figure size 900x700 with 1 Axes>"
      ]
     },
     "metadata": {},
     "output_type": "display_data"
    }
   ],
   "source": [
    "# Visualize ResNet-training-\n",
    "plt.figure(figsize = (9, 7))\n",
    "plt.plot(list(training_history_lr_scheduler.keys()), [training_history_lr_scheduler[k]['acc'] for k in training_history_lr_scheduler.keys()], label = 'training acc')\n",
    "plt.plot(list(training_history_lr_scheduler.keys()), [training_history_lr_scheduler[k]['val_acc'] for k in training_history_lr_scheduler.keys()], label = 'val acc')\n",
    "plt.title(\"ResNet-34: Training Accuracy\")\n",
    "plt.xlabel(\"epochs\")\n",
    "plt.ylabel(\"accuracy (%)\")\n",
    "plt.legend(loc = 'best')\n",
    "plt.show()"
   ]
  },
  {
   "cell_type": "code",
   "execution_count": 28,
   "metadata": {
    "id": "OnvkWN4eS5qh"
   },
   "outputs": [
    {
     "data": {
      "image/png": "[encoded data removed]",
      "text/plain": [
       "<Figure size 900x700 with 1 Axes>"
      ]
     },
     "metadata": {},
     "output_type": "display_data"
    }
   ],
   "source": [
    "plt.figure(figsize = (9, 7))\n",
    "plt.plot(list(training_history_lr_scheduler.keys()), [training_history_lr_scheduler[k]['loss'] for k in training_history_lr_scheduler.keys()], label = 'training loss')\n",
    "plt.plot(list(training_history_lr_scheduler.keys()), [training_history_lr_scheduler[k]['val_loss'] for k in training_history_lr_scheduler.keys()], label = 'val loss')\n",
    "plt.xlabel(\"epochs\")\n",
    "plt.ylabel(\"loss\")\n",
    "plt.legend(loc = 'best')\n",
    "plt.title(\"ResNet-34: Training Loss\")\n",
    "plt.show()"
   ]
  },
  {
   "cell_type": "code",
   "execution_count": 29,
   "metadata": {
    "id": "VkOiIWrKS8B6"
   },
   "outputs": [
    {
     "data": {
      "image/png": "[encoded data removed]",
      "text/plain": [
       "<Figure size 900x700 with 1 Axes>"
      ]
     },
     "metadata": {},
     "output_type": "display_data"
    }
   ],
   "source": [
    "plt.figure(figsize = (9, 7))\n",
    "plt.plot(list(training_history_lr_scheduler.keys()), [training_history_lr_scheduler[k]['lr'] for k in training_history_lr_scheduler.keys()])\n",
    "plt.xlabel(\"epochs\")\n",
    "plt.ylabel(\"lr\")\n",
    "plt.title(\"ResNet-34: Learning-Rate\")\n",
    "plt.show()"
   ]
  },
  {
   "cell_type": "code",
   "execution_count": null,
   "metadata": {
    "id": "sJwdBbApS-Ze"
   },
   "outputs": [],
   "source": []
  },
  {
   "cell_type": "code",
   "execution_count": null,
   "metadata": {
    "id": "6ke6MoBOS-eL"
   },
   "outputs": [],
   "source": []
  }
 ],
 "metadata": {
  "accelerator": "GPU",
  "colab": {
   "provenance": []
  },
  "gpuClass": "standard",
  "kernelspec": {
   "display_name": "Python 3 (ipykernel)",
   "language": "python",
   "name": "python3"
  },
  "language_info": {
   "codemirror_mode": {
    "name": "ipython",
    "version": 3
   },
   "file_extension": ".py",
   "mimetype": "text/x-python",
   "name": "python",
   "nbconvert_exporter": "python",
   "pygments_lexer": "ipython3",
   "version": "3.10.8"
  }
 },
 "nbformat": 4,
 "nbformat_minor": 4
}
