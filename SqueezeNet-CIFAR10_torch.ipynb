{
 "cells": [
  {
   "cell_type": "markdown",
   "id": "d48ec993-f0bc-4498-ace5-25efd9b55ee1",
   "metadata": {},
   "source": [
    "# SqueezeNet-1.1: CIFAR-10 + PyTorch with _fine-tuning_\n",
    "\n",
    "using ```albumentations``` and learning rate scheduler. To read the research paper, refer to _SqueezeNet: AlexNet-level accuracy with 50x fewer parameters and < 0.5 MB model size_ by \n",
    "Forrest N. Iandola et al.\n",
    "\n",
    "[Finetuning torchvision CNN architectures reference](https://pytorch.org/tutorials/beginner/finetuning_torchvision_models_tutorial.html)"
   ]
  },
  {
   "cell_type": "code",
   "execution_count": 1,
   "id": "f3c4ca1a-a2e9-41f4-986d-18ad9b8c69cc",
   "metadata": {},
   "outputs": [
    {
     "name": "stdout",
     "output_type": "stream",
     "text": [
      "env: CUDA_DEVICE_ORDER=PCI_BUS_ID\n",
      "env: CUDA_VISIBLE_DEVICES=0\n"
     ]
    }
   ],
   "source": [
    "# Specify GPU to be used-\n",
    "%env CUDA_DEVICE_ORDER = PCI_BUS_ID\n",
    "'''\n",
    "Specify GPU(s) to be used here. Say you have 6 GPUs and you want to train Model A on 2 of them\n",
    "and Model B on 4 of them. You can do that as follows-\n",
    "CUDA_VISIBLE_DEVICES=0,1 python model_A.py\n",
    "CUDA_VISIBLE_DEVICES=2,3,4,5 python model_B.py\n",
    "'''\n",
    "# %env CUDA_VISIBLE_DEVICES = 0, 1, 2, 3\n",
    "%env CUDA_VISIBLE_DEVICES = 0"
   ]
  },
  {
   "cell_type": "code",
   "execution_count": 2,
   "id": "3e15f208-7220-4ee8-ae2e-b9a4298db5ad",
   "metadata": {},
   "outputs": [
    {
     "name": "stderr",
     "output_type": "stream",
     "text": [
      "C:\\Users\\arjun\\anaconda3\\envs\\torch-cuda\\lib\\site-packages\\tqdm\\auto.py:22: TqdmWarning: IProgress not found. Please update jupyter and ipywidgets. See https://ipywidgets.readthedocs.io/en/stable/user_install.html\n",
      "  from .autonotebook import tqdm as notebook_tqdm\n"
     ]
    }
   ],
   "source": [
    "import cv2\n",
    "import numpy as np\n",
    "import matplotlib.pyplot as plt\n",
    "\n",
    "import torch\n",
    "import torch.nn as nn\n",
    "import torch.nn.functional as F\n",
    "import torchvision\n",
    "from torchvision import datasets, models\n",
    "# import torchvision.transforms as transforms\n",
    "\n",
    "from tqdm import tqdm\n",
    "from tqdm import trange\n",
    "import matplotlib.pyplot as plt\n",
    "import seaborn as sns\n",
    "import numpy as np\n",
    "import os, pickle\n",
    "import albumentations as A\n",
    "from albumentations.pytorch import ToTensorV2"
   ]
  },
  {
   "cell_type": "code",
   "execution_count": null,
   "id": "b7c2dea2-7666-4576-9f48-66d8cbf097d7",
   "metadata": {},
   "outputs": [],
   "source": []
  },
  {
   "cell_type": "code",
   "execution_count": null,
   "id": "cbeeeff4-0ff5-4a52-a335-4cbf09eb2988",
   "metadata": {},
   "outputs": [],
   "source": []
  },
  {
   "cell_type": "code",
   "execution_count": 3,
   "id": "25937e66-5ac5-4732-9903-87be57bbff59",
   "metadata": {},
   "outputs": [
    {
     "name": "stdout",
     "output_type": "stream",
     "text": [
      "torch version: 1.13.1\n",
      "Number of GPU(s) available = 1\n",
      "Current GPU: 0\n",
      "Current GPU name: NVIDIA GeForce RTX 3080 Laptop GPU\n",
      "Available device is cuda\n"
     ]
    }
   ],
   "source": [
    "print(f\"torch version: {torch.__version__}\")\n",
    "\n",
    "# Check if there are multiple devices (i.e., GPU cards)-\n",
    "print(f\"Number of GPU(s) available = {torch.cuda.device_count()}\")\n",
    "\n",
    "# Which GPU Is The Current GPU?\n",
    "# print(f\"current GPU: {torch.cuda.current_device()}\")\n",
    "\n",
    "# Get the name of the current GPU-\n",
    "# print(f\"Current GPU name: {torch.cuda.get_device_name(torch.cuda.current_device())}\")\n",
    "\n",
    "# Is PyTorch using a GPU?\n",
    "# print(f\"Is PyTorch using a GPU? {torch.cuda.is_available()}\")\n",
    "\n",
    "if torch.cuda.is_available():\n",
    "    print(f\"Current GPU: {torch.cuda.current_device()}\")\n",
    "    print(f\"Current GPU name: {torch.cuda.get_device_name(torch.cuda.current_device())}\")\n",
    "else:\n",
    "    print(\"PyTorch does not have access to GPU\")\n",
    "\n",
    "# Device configuration-\n",
    "device = torch.device('cuda' if torch.cuda.is_available() else 'cpu')\n",
    "print(f'Available device is {device}')"
   ]
  },
  {
   "cell_type": "code",
   "execution_count": null,
   "id": "eb15be3a-a784-4ac6-bebe-1694387361b5",
   "metadata": {},
   "outputs": [],
   "source": []
  },
  {
   "cell_type": "code",
   "execution_count": null,
   "id": "2b0e299f-ffbf-4e0b-9571-6c6d866d7bbc",
   "metadata": {},
   "outputs": [],
   "source": []
  },
  {
   "cell_type": "code",
   "execution_count": 4,
   "id": "195cdabc-8e5e-4585-a55e-58e88bf355d2",
   "metadata": {},
   "outputs": [],
   "source": [
    "# Specify hyper-parameters\n",
    "batch_size = 256\n",
    "num_classes = 10\n",
    "num_epochs = 40"
   ]
  },
  {
   "cell_type": "code",
   "execution_count": null,
   "id": "46fdf873-ead3-4720-a380-73d9bd3a5e68",
   "metadata": {},
   "outputs": [],
   "source": []
  },
  {
   "cell_type": "code",
   "execution_count": 5,
   "id": "6b6ae1cd-a096-4b14-a273-4ea777f21082",
   "metadata": {},
   "outputs": [],
   "source": [
    "# Define transformations using albumentations-\n",
    "transform_train = A.Compose(\n",
    "    [\n",
    "        # A.Resize(width = 32, height = 32),\n",
    "        # A.RandomCrop(width = 20, height = 20),\n",
    "        A.Rotate(limit = 40, p = 0.9, border_mode = cv2.BORDER_CONSTANT),\n",
    "        A.HorizontalFlip(p = 0.5),\n",
    "        A.VerticalFlip(p = 0.1),\n",
    "        A.RGBShift(r_shift_limit = 25, g_shift_limit = 25, b_shift_limit = 25, p = 0.9),\n",
    "        A.OneOf([\n",
    "            A.Blur(blur_limit = 3, p = 0.5),\n",
    "            A.ColorJitter(p = 0.5),\n",
    "        ], p = 1.0),\n",
    "        A.Normalize(\n",
    "            # mean = [0.4914, 0.4822, 0.4465],\n",
    "            # std = [0.247, 0.243, 0.261],\n",
    "            mean = [0, 0, 0],\n",
    "            std = [1, 1, 1],\n",
    "            max_pixel_value = 255,\n",
    "        ),\n",
    "        # This is not dividing by 255, which it does in PyTorch-\n",
    "        ToTensorV2(),\n",
    "    ]\n",
    ")\n",
    "\n",
    "transform_val = A.Compose(\n",
    "    [\n",
    "        A.Normalize(\n",
    "            mean = [0, 0, 0],\n",
    "            std = [1, 1, 1],\n",
    "            max_pixel_value = 255\n",
    "        ),\n",
    "        ToTensorV2()\n",
    "    ]\n",
    ")"
   ]
  },
  {
   "cell_type": "code",
   "execution_count": 7,
   "id": "5d045ef5-5f2f-4903-aa5d-3d0ba2f3abe2",
   "metadata": {},
   "outputs": [],
   "source": [
    "class Cifar10Dataset(torchvision.datasets.CIFAR10):\n",
    "    def __init__(\n",
    "        self, root = \"~/data/cifar10\",\n",
    "        train = True, download = True,\n",
    "        transform = None\n",
    "    ):\n",
    "        super().__init__(\n",
    "            root = root, train = train,\n",
    "            download = download, transform = transform\n",
    "        )\n",
    "\n",
    "    def __getitem__(self, index):\n",
    "        image, label = self.data[index], self.targets[index]\n",
    "\n",
    "        if self.transform is not None:\n",
    "            transformed = self.transform(image = image)\n",
    "            image = transformed[\"image\"]\n",
    "\n",
    "        return image, label\n",
    "    "
   ]
  },
  {
   "cell_type": "code",
   "execution_count": 8,
   "id": "4bce7c50-8435-4797-bfdd-6d8d8ba8d6b3",
   "metadata": {},
   "outputs": [
    {
     "name": "stdout",
     "output_type": "stream",
     "text": [
      "Files already downloaded and verified\n",
      "Files already downloaded and verified\n"
     ]
    }
   ],
   "source": [
    "# Define train and validate sets-\n",
    "train_dataset = Cifar10Dataset(\n",
    "    root = 'C:/Users/arjun/Downloads/data/', train = True,\n",
    "    download = True, transform = transform_train\n",
    ")\n",
    "\n",
    "val_dataset = Cifar10Dataset(\n",
    "    root = 'C:/Users/arjun/Downloads/data/', train = False,\n",
    "    download = True, transform = transform_val\n",
    ")"
   ]
  },
  {
   "cell_type": "code",
   "execution_count": 9,
   "id": "88f11be1-dc90-4039-88d9-72ce730d88b4",
   "metadata": {},
   "outputs": [],
   "source": [
    "# Define train and validate loaders-\n",
    "train_loader = torch.utils.data.DataLoader(\n",
    "    dataset = train_dataset, batch_size = batch_size,\n",
    "    shuffle = True\n",
    "    )\n",
    "\n",
    "val_loader = torch.utils.data.DataLoader(\n",
    "    dataset = val_dataset, batch_size = batch_size,\n",
    "    shuffle = True\n",
    "    )"
   ]
  },
  {
   "cell_type": "code",
   "execution_count": 10,
   "id": "5855841d-ba85-4015-abe4-2de3c323432a",
   "metadata": {},
   "outputs": [
    {
     "name": "stdout",
     "output_type": "stream",
     "text": [
      "len(train_dataset) = 50000 & len(val_dataset) = 10000\n",
      "len(train_loader) = 196 & len(val_loader) = 40\n"
     ]
    },
    {
     "data": {
      "text/plain": [
       "(195.3125, 39.0625)"
      ]
     },
     "execution_count": 10,
     "metadata": {},
     "output_type": "execute_result"
    }
   ],
   "source": [
    "print(f\"len(train_dataset) = {len(train_dataset)} & len(val_dataset) = {len(val_dataset)}\")\n",
    "print(f\"len(train_loader) = {len(train_loader)} & len(val_loader) = {len(val_loader)}\")\n",
    "\n",
    "# Sanity check-\n",
    "len(train_dataset) / batch_size, len(val_dataset) / batch_size"
   ]
  },
  {
   "cell_type": "code",
   "execution_count": null,
   "id": "8d4e15fd-8d92-462a-8f02-efdf62f783d3",
   "metadata": {},
   "outputs": [],
   "source": []
  },
  {
   "cell_type": "code",
   "execution_count": null,
   "id": "398f1f78-9acf-47aa-9e5a-487d7e4cc9eb",
   "metadata": {},
   "outputs": [],
   "source": []
  },
  {
   "cell_type": "markdown",
   "id": "4746740c-6b77-4cce-8234-dacbdae7c1ef",
   "metadata": {},
   "source": [
    "### Use pre-trained _SqueezeNet-1.1_ CNN"
   ]
  },
  {
   "cell_type": "code",
   "execution_count": 14,
   "id": "87a2f0fa-5228-45e2-9451-c241018d46dd",
   "metadata": {},
   "outputs": [],
   "source": [
    "# Load pre-trained SqueezeNet-1.1 model-\n",
    "model = models.squeezenet1_1(weights = torchvision.models.SqueezeNet1_1_Weights.DEFAULT)\n",
    "\n",
    "# Side note:\n",
    "# ResNet-18 model size = 44.6 MB\n",
    "# ResNet-50 model size = 97.7 MB\n",
    "# SqueezeNet-1.1 model size = 4.72 MB!"
   ]
  },
  {
   "cell_type": "code",
   "execution_count": 15,
   "id": "ac6ec831-fb26-4158-88f0-621767820ede",
   "metadata": {},
   "outputs": [],
   "source": [
    "# Modify output layer to have 10 instead of 1000 output neurons-\n",
    "model.classifier[1] = nn.Conv2d(\n",
    "    in_channels = 512, out_channels = 10,\n",
    "    kernel_size = 1, padding = 1,\n",
    "        stride = 1, bias = True\n",
    ")"
   ]
  },
  {
   "cell_type": "code",
   "execution_count": 16,
   "id": "c57ba2f0-b3b6-419f-9c75-2330dca029b6",
   "metadata": {},
   "outputs": [
    {
     "data": {
      "text/plain": [
       "Sequential(\n",
       "  (0): Dropout(p=0.5, inplace=False)\n",
       "  (1): Conv2d(512, 10, kernel_size=(1, 1), stride=(1, 1), padding=(1, 1))\n",
       "  (2): ReLU(inplace=True)\n",
       "  (3): AdaptiveAvgPool2d(output_size=(1, 1))\n",
       ")"
      ]
     },
     "execution_count": 16,
     "metadata": {},
     "output_type": "execute_result"
    }
   ],
   "source": [
    "# Sanity check-\n",
    "model.classifier"
   ]
  },
  {
   "cell_type": "code",
   "execution_count": 17,
   "id": "b676d360-92d5-4ea6-a96d-04da66e00956",
   "metadata": {},
   "outputs": [],
   "source": [
    "# Place model on GPU-\n",
    "model = model.to(device)"
   ]
  },
  {
   "cell_type": "code",
   "execution_count": null,
   "id": "bfa72a41-9bdf-4c94-b258-2a526f42def1",
   "metadata": {},
   "outputs": [],
   "source": []
  },
  {
   "cell_type": "code",
   "execution_count": 18,
   "id": "e3bc41e4-4fd7-4ed8-8270-32cbc73afefc",
   "metadata": {},
   "outputs": [],
   "source": [
    "# Define cost function-\n",
    "loss = nn.CrossEntropyLoss()\n",
    "\n",
    "# Learning rate - Observe that all parameters are being optimized-\n",
    "optimizer = torch.optim.SGD(model.parameters(), lr = 0.001, momentum = 0.9)"
   ]
  },
  {
   "cell_type": "markdown",
   "id": "c407ac65-1b12-47e9-9a36-428ba0913339",
   "metadata": {},
   "source": [
    "#### Note\n",
    "\n",
    "All layer weights are trained instead of freezing some layers as feature extractors and training newly added layers."
   ]
  },
  {
   "cell_type": "code",
   "execution_count": 19,
   "id": "2a92f2e1-237f-4c2a-9a8c-c8bac69c02b0",
   "metadata": {},
   "outputs": [],
   "source": [
    "# Learning rate scheduler - Decay LR by a factor of 0.1 every 15 epochs-\n",
    "exp_lr_scheduler = torch.optim.lr_scheduler.StepLR(optimizer, step_size = 15, gamma = 0.1)"
   ]
  },
  {
   "cell_type": "code",
   "execution_count": null,
   "id": "79dfe92c-42f5-4fe8-9542-840bafaf2b3e",
   "metadata": {},
   "outputs": [],
   "source": []
  },
  {
   "cell_type": "code",
   "execution_count": 20,
   "id": "c812bf4b-dfa5-48ea-90ea-bb0362658ab8",
   "metadata": {},
   "outputs": [],
   "source": [
    "def train_model_progress(model, train_loader, train_dataset):\n",
    "    '''\n",
    "    Function to perform one epoch of training by using 'train_loader'.\n",
    "    Returns loss and number of correct predictions for this epoch.\n",
    "    '''\n",
    "    running_loss = 0.0\n",
    "    running_corrects = 0.0\n",
    "    \n",
    "    model.train()\n",
    "    \n",
    "    with tqdm(train_loader, unit = 'batch') as tepoch:\n",
    "        for images, labels in tepoch:\n",
    "            tepoch.set_description(f\"Training: \")\n",
    "            \n",
    "            images = images.to(device)\n",
    "            labels = labels.to(device)\n",
    "            \n",
    "            # Get model predictions-\n",
    "            outputs = model(images)\n",
    "            \n",
    "            # Compute loss-\n",
    "            J = loss(outputs, labels)\n",
    "            \n",
    "            # Empty accumulated gradients-\n",
    "            optimizer.zero_grad()\n",
    "            \n",
    "            # Perform backprop-\n",
    "            J.backward()\n",
    "            \n",
    "            # Update parameters-\n",
    "            optimizer.step()\n",
    "            \n",
    "            # global step\n",
    "            # optimizer.param_groups[0]['lr'] = custom_lr_scheduler.get_lr(step)\n",
    "            # step += 1\n",
    "            \n",
    "            # Compute model's performance statistics-\n",
    "            running_loss += J.item() * images.size(0)\n",
    "            _, predicted = torch.max(outputs, 1)\n",
    "            running_corrects += torch.sum(predicted == labels.data)\n",
    "            \n",
    "            tepoch.set_postfix(\n",
    "                loss = running_loss / len(train_dataset),\n",
    "                accuracy = (running_corrects.double().cpu().numpy() / len(train_dataset)) * 100\n",
    "            )\n",
    "            \n",
    "    \n",
    "    train_loss = running_loss / len(train_dataset)\n",
    "    train_acc = (running_corrects.double() / len(train_dataset)) * 100\n",
    "    \n",
    "\n",
    "    # return running_loss, running_corrects\n",
    "    return train_loss, train_acc.cpu().numpy()\n",
    "\n",
    "def test_model_progress(model, test_loader, test_dataset):\n",
    "    total = 0.0\n",
    "    correct = 0.0\n",
    "    running_loss_val = 0.0\n",
    "\n",
    "    with torch.no_grad():\n",
    "        with tqdm(test_loader, unit = 'batch') as tepoch:\n",
    "            for images, labels in tepoch:\n",
    "                tepoch.set_description(f\"Validation: \")\n",
    "                \n",
    "                images = images.to(device)\n",
    "                labels = labels.to(device)\n",
    "                \n",
    "                # Set model to evaluation mode-\n",
    "                model.eval()\n",
    "            \n",
    "                # Predict using trained model-\n",
    "                outputs = model(images)\n",
    "                _, y_pred = torch.max(outputs, 1)\n",
    "                \n",
    "                # Compute validation loss-\n",
    "                J_val = loss(outputs, labels)\n",
    "                \n",
    "                running_loss_val += J_val.item() * labels.size(0)\n",
    "    \n",
    "                # Total number of labels-\n",
    "                total += labels.size(0)\n",
    "\n",
    "                # Total number of correct predictions-\n",
    "                correct += (y_pred == labels).sum()\n",
    "                \n",
    "                tepoch.set_postfix(\n",
    "                    val_loss = running_loss_val / len(test_dataset),\n",
    "                    val_acc = 100 * (correct.cpu().numpy() / total)\n",
    "                )\n",
    "            \n",
    "        \n",
    "    # return (running_loss_val, correct, total)\n",
    "    val_loss = running_loss_val / len(test_dataset)\n",
    "    val_acc = (correct / total) * 100\n",
    "\n",
    "    return val_loss, val_acc.cpu().numpy()\n",
    "    "
   ]
  },
  {
   "cell_type": "code",
   "execution_count": null,
   "id": "083fdad1-3430-4efb-b1ab-b949bdeb229f",
   "metadata": {},
   "outputs": [],
   "source": []
  },
  {
   "cell_type": "code",
   "execution_count": 21,
   "id": "9d73ea74-b597-4f00-b1fb-57afba91ce2e",
   "metadata": {},
   "outputs": [],
   "source": [
    "# Python3 dict to contain training metrics-\n",
    "training_history_lr_scheduler = {}\n",
    "\n",
    "# Initialize parameters saving 'best' models-\n",
    "best_val_acc = 80"
   ]
  },
  {
   "cell_type": "code",
   "execution_count": null,
   "id": "2cd38bde-6baf-4695-918e-6a3718e23d3b",
   "metadata": {},
   "outputs": [],
   "source": []
  },
  {
   "cell_type": "code",
   "execution_count": 22,
   "id": "167bb221-29b6-4741-a4b9-b1cc89446475",
   "metadata": {},
   "outputs": [
    {
     "name": "stderr",
     "output_type": "stream",
     "text": [
      "Training: : 100%|███████████████████████████████████████| 196/196 [00:32<00:00,  6.11batch/s, accuracy=24.1, loss=2.08]\n",
      "Validation: : 100%|████████████████████████████████████| 40/40 [00:01<00:00, 37.77batch/s, val_acc=40.2, val_loss=1.66]\n"
     ]
    },
    {
     "name": "stdout",
     "output_type": "stream",
     "text": [
      "\n",
      "epoch: 1 training loss = 2.0824, training accuracy = 24.09%, val_loss = 1.6624, val_accuracy = 40.17% & LR = 0.00100\n",
      "\n"
     ]
    },
    {
     "name": "stderr",
     "output_type": "stream",
     "text": [
      "Training: : 100%|███████████████████████████████████████| 196/196 [00:31<00:00,  6.29batch/s, accuracy=36.6, loss=1.74]\n",
      "Validation: : 100%|█████████████████████████████████████| 40/40 [00:01<00:00, 37.16batch/s, val_acc=44.7, val_loss=1.5]\n"
     ]
    },
    {
     "name": "stdout",
     "output_type": "stream",
     "text": [
      "\n",
      "epoch: 2 training loss = 1.7421, training accuracy = 36.59%, val_loss = 1.5016, val_accuracy = 44.68% & LR = 0.00100\n",
      "\n"
     ]
    },
    {
     "name": "stderr",
     "output_type": "stream",
     "text": [
      "Training: : 100%|███████████████████████████████████████| 196/196 [00:30<00:00,  6.44batch/s, accuracy=41.1, loss=1.64]\n",
      "Validation: : 100%|████████████████████████████████████| 40/40 [00:01<00:00, 39.30batch/s, val_acc=49.6, val_loss=1.38]\n"
     ]
    },
    {
     "name": "stdout",
     "output_type": "stream",
     "text": [
      "\n",
      "epoch: 3 training loss = 1.6356, training accuracy = 41.09%, val_loss = 1.3807, val_accuracy = 49.65% & LR = 0.00100\n",
      "\n"
     ]
    },
    {
     "name": "stderr",
     "output_type": "stream",
     "text": [
      "Training: : 100%|███████████████████████████████████████| 196/196 [00:30<00:00,  6.50batch/s, accuracy=43.4, loss=1.57]\n",
      "Validation: : 100%|████████████████████████████████████| 40/40 [00:01<00:00, 36.94batch/s, val_acc=51.8, val_loss=1.33]\n"
     ]
    },
    {
     "name": "stdout",
     "output_type": "stream",
     "text": [
      "\n",
      "epoch: 4 training loss = 1.5670, training accuracy = 43.39%, val_loss = 1.3280, val_accuracy = 51.77% & LR = 0.00100\n",
      "\n"
     ]
    },
    {
     "name": "stderr",
     "output_type": "stream",
     "text": [
      "Training: : 100%|███████████████████████████████████████| 196/196 [00:30<00:00,  6.35batch/s, accuracy=45.5, loss=1.52]\n",
      "Validation: : 100%|████████████████████████████████████| 40/40 [00:01<00:00, 38.77batch/s, val_acc=54.4, val_loss=1.27]\n"
     ]
    },
    {
     "name": "stdout",
     "output_type": "stream",
     "text": [
      "\n",
      "epoch: 5 training loss = 1.5188, training accuracy = 45.46%, val_loss = 1.2744, val_accuracy = 54.35% & LR = 0.00100\n",
      "\n"
     ]
    },
    {
     "name": "stderr",
     "output_type": "stream",
     "text": [
      "Training: : 100%|███████████████████████████████████████| 196/196 [00:30<00:00,  6.42batch/s, accuracy=47.3, loss=1.48]\n",
      "Validation: : 100%|████████████████████████████████████| 40/40 [00:00<00:00, 40.14batch/s, val_acc=54.4, val_loss=1.25]\n"
     ]
    },
    {
     "name": "stdout",
     "output_type": "stream",
     "text": [
      "\n",
      "epoch: 6 training loss = 1.4783, training accuracy = 47.26%, val_loss = 1.2537, val_accuracy = 54.40% & LR = 0.00100\n",
      "\n"
     ]
    },
    {
     "name": "stderr",
     "output_type": "stream",
     "text": [
      "Training: : 100%|█████████████████████████████████████████| 196/196 [00:30<00:00,  6.36batch/s, accuracy=48, loss=1.46]\n",
      "Validation: : 100%|██████████████████████████████████████| 40/40 [00:01<00:00, 38.78batch/s, val_acc=56, val_loss=1.22]\n"
     ]
    },
    {
     "name": "stdout",
     "output_type": "stream",
     "text": [
      "\n",
      "epoch: 7 training loss = 1.4567, training accuracy = 48.03%, val_loss = 1.2197, val_accuracy = 56.04% & LR = 0.00100\n",
      "\n"
     ]
    },
    {
     "name": "stderr",
     "output_type": "stream",
     "text": [
      "Training: : 100%|███████████████████████████████████████| 196/196 [00:30<00:00,  6.35batch/s, accuracy=49.2, loss=1.43]\n",
      "Validation: : 100%|█████████████████████████████████████| 40/40 [00:01<00:00, 38.07batch/s, val_acc=56.8, val_loss=1.2]\n"
     ]
    },
    {
     "name": "stdout",
     "output_type": "stream",
     "text": [
      "\n",
      "epoch: 8 training loss = 1.4299, training accuracy = 49.25%, val_loss = 1.1980, val_accuracy = 56.83% & LR = 0.00100\n",
      "\n"
     ]
    },
    {
     "name": "stderr",
     "output_type": "stream",
     "text": [
      "Training: : 100%|████████████████████████████████████████| 196/196 [00:30<00:00,  6.34batch/s, accuracy=50.1, loss=1.4]\n",
      "Validation: : 100%|████████████████████████████████████| 40/40 [00:01<00:00, 39.75batch/s, val_acc=58.4, val_loss=1.16]\n"
     ]
    },
    {
     "name": "stdout",
     "output_type": "stream",
     "text": [
      "\n",
      "epoch: 9 training loss = 1.3994, training accuracy = 50.12%, val_loss = 1.1606, val_accuracy = 58.41% & LR = 0.00100\n",
      "\n"
     ]
    },
    {
     "name": "stderr",
     "output_type": "stream",
     "text": [
      "Training: : 100%|███████████████████████████████████████| 196/196 [00:30<00:00,  6.34batch/s, accuracy=51.1, loss=1.38]\n",
      "Validation: : 100%|████████████████████████████████████| 40/40 [00:01<00:00, 38.88batch/s, val_acc=59.3, val_loss=1.14]\n"
     ]
    },
    {
     "name": "stdout",
     "output_type": "stream",
     "text": [
      "\n",
      "epoch: 10 training loss = 1.3836, training accuracy = 51.10%, val_loss = 1.1408, val_accuracy = 59.31% & LR = 0.00100\n",
      "\n"
     ]
    },
    {
     "name": "stderr",
     "output_type": "stream",
     "text": [
      "Training: : 100%|███████████████████████████████████████| 196/196 [00:30<00:00,  6.46batch/s, accuracy=51.8, loss=1.36]\n",
      "Validation: : 100%|████████████████████████████████████| 40/40 [00:00<00:00, 40.06batch/s, val_acc=60.2, val_loss=1.12]\n"
     ]
    },
    {
     "name": "stdout",
     "output_type": "stream",
     "text": [
      "\n",
      "epoch: 11 training loss = 1.3624, training accuracy = 51.76%, val_loss = 1.1198, val_accuracy = 60.17% & LR = 0.00100\n",
      "\n"
     ]
    },
    {
     "name": "stderr",
     "output_type": "stream",
     "text": [
      "Training: : 100%|███████████████████████████████████████| 196/196 [00:31<00:00,  6.17batch/s, accuracy=52.6, loss=1.35]\n",
      "Validation: : 100%|█████████████████████████████████████| 40/40 [00:01<00:00, 38.75batch/s, val_acc=60.8, val_loss=1.1]\n"
     ]
    },
    {
     "name": "stdout",
     "output_type": "stream",
     "text": [
      "\n",
      "epoch: 12 training loss = 1.3458, training accuracy = 52.64%, val_loss = 1.1015, val_accuracy = 60.75% & LR = 0.00100\n",
      "\n"
     ]
    },
    {
     "name": "stderr",
     "output_type": "stream",
     "text": [
      "Training: : 100%|███████████████████████████████████████| 196/196 [00:31<00:00,  6.31batch/s, accuracy=52.9, loss=1.34]\n",
      "Validation: : 100%|████████████████████████████████████| 40/40 [00:00<00:00, 40.15batch/s, val_acc=60.2, val_loss=1.12]\n"
     ]
    },
    {
     "name": "stdout",
     "output_type": "stream",
     "text": [
      "\n",
      "epoch: 13 training loss = 1.3357, training accuracy = 52.88%, val_loss = 1.1196, val_accuracy = 60.17% & LR = 0.00100\n",
      "\n"
     ]
    },
    {
     "name": "stderr",
     "output_type": "stream",
     "text": [
      "Training: : 100%|███████████████████████████████████████| 196/196 [00:30<00:00,  6.40batch/s, accuracy=53.6, loss=1.31]\n",
      "Validation: : 100%|████████████████████████████████████| 40/40 [00:00<00:00, 40.01batch/s, val_acc=61.8, val_loss=1.08]\n"
     ]
    },
    {
     "name": "stdout",
     "output_type": "stream",
     "text": [
      "\n",
      "epoch: 14 training loss = 1.3125, training accuracy = 53.60%, val_loss = 1.0785, val_accuracy = 61.79% & LR = 0.00100\n",
      "\n"
     ]
    },
    {
     "name": "stderr",
     "output_type": "stream",
     "text": [
      "Training: : 100%|████████████████████████████████████████| 196/196 [00:30<00:00,  6.36batch/s, accuracy=54.3, loss=1.3]\n",
      "Validation: : 100%|████████████████████████████████████| 40/40 [00:01<00:00, 35.31batch/s, val_acc=61.9, val_loss=1.07]\n"
     ]
    },
    {
     "name": "stdout",
     "output_type": "stream",
     "text": [
      "\n",
      "epoch: 15 training loss = 1.3001, training accuracy = 54.32%, val_loss = 1.0734, val_accuracy = 61.92% & LR = 0.00100\n",
      "\n"
     ]
    },
    {
     "name": "stderr",
     "output_type": "stream",
     "text": [
      "Training: : 100%|███████████████████████████████████████| 196/196 [00:30<00:00,  6.48batch/s, accuracy=55.3, loss=1.27]\n",
      "Validation: : 100%|████████████████████████████████████| 40/40 [00:01<00:00, 38.88batch/s, val_acc=62.7, val_loss=1.05]\n"
     ]
    },
    {
     "name": "stdout",
     "output_type": "stream",
     "text": [
      "\n",
      "epoch: 16 training loss = 1.2668, training accuracy = 55.27%, val_loss = 1.0521, val_accuracy = 62.74% & LR = 0.00010\n",
      "\n"
     ]
    },
    {
     "name": "stderr",
     "output_type": "stream",
     "text": [
      "Training: : 100%|███████████████████████████████████████| 196/196 [00:30<00:00,  6.49batch/s, accuracy=55.4, loss=1.27]\n",
      "Validation: : 100%|████████████████████████████████████| 40/40 [00:01<00:00, 37.04batch/s, val_acc=62.9, val_loss=1.05]\n"
     ]
    },
    {
     "name": "stdout",
     "output_type": "stream",
     "text": [
      "\n",
      "epoch: 17 training loss = 1.2703, training accuracy = 55.44%, val_loss = 1.0467, val_accuracy = 62.93% & LR = 0.00010\n",
      "\n"
     ]
    },
    {
     "name": "stderr",
     "output_type": "stream",
     "text": [
      "Training: : 100%|███████████████████████████████████████| 196/196 [00:29<00:00,  6.56batch/s, accuracy=55.3, loss=1.27]\n",
      "Validation: : 100%|████████████████████████████████████| 40/40 [00:01<00:00, 38.64batch/s, val_acc=62.9, val_loss=1.05]\n"
     ]
    },
    {
     "name": "stdout",
     "output_type": "stream",
     "text": [
      "\n",
      "epoch: 18 training loss = 1.2654, training accuracy = 55.29%, val_loss = 1.0487, val_accuracy = 62.86% & LR = 0.00010\n",
      "\n"
     ]
    },
    {
     "name": "stderr",
     "output_type": "stream",
     "text": [
      "Training: : 100%|███████████████████████████████████████| 196/196 [00:30<00:00,  6.46batch/s, accuracy=55.6, loss=1.26]\n",
      "Validation: : 100%|████████████████████████████████████| 40/40 [00:01<00:00, 38.67batch/s, val_acc=62.9, val_loss=1.05]\n"
     ]
    },
    {
     "name": "stdout",
     "output_type": "stream",
     "text": [
      "\n",
      "epoch: 19 training loss = 1.2565, training accuracy = 55.64%, val_loss = 1.0510, val_accuracy = 62.94% & LR = 0.00010\n",
      "\n"
     ]
    },
    {
     "name": "stderr",
     "output_type": "stream",
     "text": [
      "Training: : 100%|███████████████████████████████████████| 196/196 [00:30<00:00,  6.45batch/s, accuracy=55.4, loss=1.26]\n",
      "Validation: : 100%|████████████████████████████████████| 40/40 [00:01<00:00, 37.78batch/s, val_acc=62.9, val_loss=1.04]\n"
     ]
    },
    {
     "name": "stdout",
     "output_type": "stream",
     "text": [
      "\n",
      "epoch: 20 training loss = 1.2597, training accuracy = 55.44%, val_loss = 1.0440, val_accuracy = 62.88% & LR = 0.00010\n",
      "\n"
     ]
    },
    {
     "name": "stderr",
     "output_type": "stream",
     "text": [
      "Training: : 100%|███████████████████████████████████████| 196/196 [00:29<00:00,  6.55batch/s, accuracy=55.5, loss=1.26]\n",
      "Validation: : 100%|████████████████████████████████████| 40/40 [00:01<00:00, 39.33batch/s, val_acc=63.4, val_loss=1.04]\n"
     ]
    },
    {
     "name": "stdout",
     "output_type": "stream",
     "text": [
      "\n",
      "epoch: 21 training loss = 1.2588, training accuracy = 55.48%, val_loss = 1.0373, val_accuracy = 63.37% & LR = 0.00010\n",
      "\n"
     ]
    },
    {
     "name": "stderr",
     "output_type": "stream",
     "text": [
      "Training: : 100%|███████████████████████████████████████| 196/196 [00:30<00:00,  6.48batch/s, accuracy=55.9, loss=1.25]\n",
      "Validation: : 100%|████████████████████████████████████| 40/40 [00:00<00:00, 40.00batch/s, val_acc=63.1, val_loss=1.04]\n"
     ]
    },
    {
     "name": "stdout",
     "output_type": "stream",
     "text": [
      "\n",
      "epoch: 22 training loss = 1.2545, training accuracy = 55.87%, val_loss = 1.0424, val_accuracy = 63.11% & LR = 0.00010\n",
      "\n"
     ]
    },
    {
     "name": "stderr",
     "output_type": "stream",
     "text": [
      "Training: : 100%|███████████████████████████████████████| 196/196 [00:30<00:00,  6.41batch/s, accuracy=55.7, loss=1.25]\n",
      "Validation: : 100%|████████████████████████████████████| 40/40 [00:01<00:00, 36.22batch/s, val_acc=62.9, val_loss=1.04]\n"
     ]
    },
    {
     "name": "stdout",
     "output_type": "stream",
     "text": [
      "\n",
      "epoch: 23 training loss = 1.2518, training accuracy = 55.71%, val_loss = 1.0436, val_accuracy = 62.94% & LR = 0.00010\n",
      "\n"
     ]
    },
    {
     "name": "stderr",
     "output_type": "stream",
     "text": [
      "Training: : 100%|███████████████████████████████████████| 196/196 [00:32<00:00,  6.08batch/s, accuracy=56.4, loss=1.24]\n",
      "Validation: : 100%|████████████████████████████████████| 40/40 [00:01<00:00, 39.41batch/s, val_acc=63.3, val_loss=1.03]\n"
     ]
    },
    {
     "name": "stdout",
     "output_type": "stream",
     "text": [
      "\n",
      "epoch: 24 training loss = 1.2444, training accuracy = 56.41%, val_loss = 1.0315, val_accuracy = 63.31% & LR = 0.00010\n",
      "\n"
     ]
    },
    {
     "name": "stderr",
     "output_type": "stream",
     "text": [
      "Training: : 100%|█████████████████████████████████████████| 196/196 [00:30<00:00,  6.53batch/s, accuracy=56, loss=1.24]\n",
      "Validation: : 100%|████████████████████████████████████| 40/40 [00:01<00:00, 39.65batch/s, val_acc=63.5, val_loss=1.03]\n"
     ]
    },
    {
     "name": "stdout",
     "output_type": "stream",
     "text": [
      "\n",
      "epoch: 25 training loss = 1.2441, training accuracy = 56.01%, val_loss = 1.0292, val_accuracy = 63.46% & LR = 0.00010\n",
      "\n"
     ]
    },
    {
     "name": "stderr",
     "output_type": "stream",
     "text": [
      "Training: : 100%|███████████████████████████████████████| 196/196 [00:29<00:00,  6.54batch/s, accuracy=56.3, loss=1.24]\n",
      "Validation: : 100%|████████████████████████████████████| 40/40 [00:01<00:00, 37.82batch/s, val_acc=63.4, val_loss=1.03]\n"
     ]
    },
    {
     "name": "stdout",
     "output_type": "stream",
     "text": [
      "\n",
      "epoch: 26 training loss = 1.2449, training accuracy = 56.26%, val_loss = 1.0263, val_accuracy = 63.40% & LR = 0.00010\n",
      "\n"
     ]
    },
    {
     "name": "stderr",
     "output_type": "stream",
     "text": [
      "Training: : 100%|███████████████████████████████████████| 196/196 [00:30<00:00,  6.47batch/s, accuracy=56.1, loss=1.25]\n",
      "Validation: : 100%|████████████████████████████████████| 40/40 [00:01<00:00, 37.97batch/s, val_acc=63.4, val_loss=1.03]\n"
     ]
    },
    {
     "name": "stdout",
     "output_type": "stream",
     "text": [
      "\n",
      "epoch: 27 training loss = 1.2508, training accuracy = 56.06%, val_loss = 1.0308, val_accuracy = 63.41% & LR = 0.00010\n",
      "\n"
     ]
    },
    {
     "name": "stderr",
     "output_type": "stream",
     "text": [
      "Training: : 100%|███████████████████████████████████████| 196/196 [00:29<00:00,  6.65batch/s, accuracy=56.2, loss=1.24]\n",
      "Validation: : 100%|████████████████████████████████████| 40/40 [00:01<00:00, 38.33batch/s, val_acc=63.3, val_loss=1.03]\n"
     ]
    },
    {
     "name": "stdout",
     "output_type": "stream",
     "text": [
      "\n",
      "epoch: 28 training loss = 1.2435, training accuracy = 56.23%, val_loss = 1.0338, val_accuracy = 63.31% & LR = 0.00010\n",
      "\n"
     ]
    },
    {
     "name": "stderr",
     "output_type": "stream",
     "text": [
      "Training: : 100%|███████████████████████████████████████| 196/196 [00:30<00:00,  6.51batch/s, accuracy=56.5, loss=1.24]\n",
      "Validation: : 100%|████████████████████████████████████| 40/40 [00:01<00:00, 36.48batch/s, val_acc=63.4, val_loss=1.03]\n"
     ]
    },
    {
     "name": "stdout",
     "output_type": "stream",
     "text": [
      "\n",
      "epoch: 29 training loss = 1.2359, training accuracy = 56.48%, val_loss = 1.0301, val_accuracy = 63.44% & LR = 0.00010\n",
      "\n"
     ]
    },
    {
     "name": "stderr",
     "output_type": "stream",
     "text": [
      "Training: : 100%|███████████████████████████████████████| 196/196 [00:30<00:00,  6.41batch/s, accuracy=56.1, loss=1.24]\n",
      "Validation: : 100%|████████████████████████████████████| 40/40 [00:01<00:00, 37.37batch/s, val_acc=63.6, val_loss=1.02]\n"
     ]
    },
    {
     "name": "stdout",
     "output_type": "stream",
     "text": [
      "\n",
      "epoch: 30 training loss = 1.2423, training accuracy = 56.10%, val_loss = 1.0233, val_accuracy = 63.59% & LR = 0.00010\n",
      "\n"
     ]
    },
    {
     "name": "stderr",
     "output_type": "stream",
     "text": [
      "Training: : 100%|███████████████████████████████████████| 196/196 [00:30<00:00,  6.46batch/s, accuracy=56.3, loss=1.23]\n",
      "Validation: : 100%|████████████████████████████████████| 40/40 [00:01<00:00, 38.40batch/s, val_acc=63.9, val_loss=1.02]\n"
     ]
    },
    {
     "name": "stdout",
     "output_type": "stream",
     "text": [
      "\n",
      "epoch: 31 training loss = 1.2343, training accuracy = 56.29%, val_loss = 1.0239, val_accuracy = 63.88% & LR = 0.00001\n",
      "\n"
     ]
    },
    {
     "name": "stderr",
     "output_type": "stream",
     "text": [
      "Training: : 100%|███████████████████████████████████████| 196/196 [00:31<00:00,  6.17batch/s, accuracy=56.5, loss=1.24]\n",
      "Validation: : 100%|████████████████████████████████████| 40/40 [00:01<00:00, 36.89batch/s, val_acc=63.7, val_loss=1.02]\n"
     ]
    },
    {
     "name": "stdout",
     "output_type": "stream",
     "text": [
      "\n",
      "epoch: 32 training loss = 1.2358, training accuracy = 56.47%, val_loss = 1.0237, val_accuracy = 63.74% & LR = 0.00001\n",
      "\n"
     ]
    },
    {
     "name": "stderr",
     "output_type": "stream",
     "text": [
      "Training: : 100%|███████████████████████████████████████| 196/196 [00:30<00:00,  6.48batch/s, accuracy=56.5, loss=1.24]\n",
      "Validation: : 100%|████████████████████████████████████| 40/40 [00:01<00:00, 39.88batch/s, val_acc=63.7, val_loss=1.03]\n"
     ]
    },
    {
     "name": "stdout",
     "output_type": "stream",
     "text": [
      "\n",
      "epoch: 33 training loss = 1.2395, training accuracy = 56.49%, val_loss = 1.0261, val_accuracy = 63.66% & LR = 0.00001\n",
      "\n"
     ]
    },
    {
     "name": "stderr",
     "output_type": "stream",
     "text": [
      "Training: : 100%|███████████████████████████████████████| 196/196 [00:30<00:00,  6.46batch/s, accuracy=56.5, loss=1.24]\n",
      "Validation: : 100%|████████████████████████████████████| 40/40 [00:01<00:00, 37.34batch/s, val_acc=63.8, val_loss=1.02]\n"
     ]
    },
    {
     "name": "stdout",
     "output_type": "stream",
     "text": [
      "\n",
      "epoch: 34 training loss = 1.2357, training accuracy = 56.48%, val_loss = 1.0224, val_accuracy = 63.81% & LR = 0.00001\n",
      "\n"
     ]
    },
    {
     "name": "stderr",
     "output_type": "stream",
     "text": [
      "Training: : 100%|███████████████████████████████████████| 196/196 [00:30<00:00,  6.41batch/s, accuracy=56.4, loss=1.24]\n",
      "Validation: : 100%|████████████████████████████████████| 40/40 [00:01<00:00, 38.69batch/s, val_acc=63.6, val_loss=1.03]\n"
     ]
    },
    {
     "name": "stdout",
     "output_type": "stream",
     "text": [
      "\n",
      "epoch: 35 training loss = 1.2371, training accuracy = 56.39%, val_loss = 1.0254, val_accuracy = 63.63% & LR = 0.00001\n",
      "\n"
     ]
    },
    {
     "name": "stderr",
     "output_type": "stream",
     "text": [
      "Training: : 100%|███████████████████████████████████████| 196/196 [00:30<00:00,  6.34batch/s, accuracy=56.4, loss=1.24]\n",
      "Validation: : 100%|████████████████████████████████████| 40/40 [00:01<00:00, 36.08batch/s, val_acc=63.7, val_loss=1.02]\n"
     ]
    },
    {
     "name": "stdout",
     "output_type": "stream",
     "text": [
      "\n",
      "epoch: 36 training loss = 1.2350, training accuracy = 56.37%, val_loss = 1.0235, val_accuracy = 63.66% & LR = 0.00001\n",
      "\n"
     ]
    },
    {
     "name": "stderr",
     "output_type": "stream",
     "text": [
      "Training: : 100%|███████████████████████████████████████| 196/196 [00:37<00:00,  5.21batch/s, accuracy=56.5, loss=1.24]\n",
      "Validation: : 100%|████████████████████████████████████| 40/40 [00:01<00:00, 30.22batch/s, val_acc=63.7, val_loss=1.03]\n"
     ]
    },
    {
     "name": "stdout",
     "output_type": "stream",
     "text": [
      "\n",
      "epoch: 37 training loss = 1.2381, training accuracy = 56.53%, val_loss = 1.0254, val_accuracy = 63.75% & LR = 0.00001\n",
      "\n"
     ]
    },
    {
     "name": "stderr",
     "output_type": "stream",
     "text": [
      "Training: : 100%|███████████████████████████████████████| 196/196 [00:32<00:00,  5.97batch/s, accuracy=56.5, loss=1.23]\n",
      "Validation: : 100%|████████████████████████████████████| 40/40 [00:01<00:00, 34.99batch/s, val_acc=63.8, val_loss=1.02]\n"
     ]
    },
    {
     "name": "stdout",
     "output_type": "stream",
     "text": [
      "\n",
      "epoch: 38 training loss = 1.2330, training accuracy = 56.54%, val_loss = 1.0225, val_accuracy = 63.83% & LR = 0.00001\n",
      "\n"
     ]
    },
    {
     "name": "stderr",
     "output_type": "stream",
     "text": [
      "Training: : 100%|███████████████████████████████████████| 196/196 [00:31<00:00,  6.28batch/s, accuracy=56.5, loss=1.24]\n",
      "Validation: : 100%|████████████████████████████████████| 40/40 [00:01<00:00, 38.75batch/s, val_acc=63.8, val_loss=1.02]\n"
     ]
    },
    {
     "name": "stdout",
     "output_type": "stream",
     "text": [
      "\n",
      "epoch: 39 training loss = 1.2375, training accuracy = 56.51%, val_loss = 1.0235, val_accuracy = 63.76% & LR = 0.00001\n",
      "\n"
     ]
    },
    {
     "name": "stderr",
     "output_type": "stream",
     "text": [
      "Training: : 100%|███████████████████████████████████████| 196/196 [00:30<00:00,  6.33batch/s, accuracy=57.1, loss=1.23]\n",
      "Validation: : 100%|████████████████████████████████████| 40/40 [00:01<00:00, 39.84batch/s, val_acc=63.7, val_loss=1.02]"
     ]
    },
    {
     "name": "stdout",
     "output_type": "stream",
     "text": [
      "\n",
      "epoch: 40 training loss = 1.2311, training accuracy = 57.09%, val_loss = 1.0240, val_accuracy = 63.69% & LR = 0.00001\n",
      "\n"
     ]
    },
    {
     "name": "stderr",
     "output_type": "stream",
     "text": [
      "\n"
     ]
    }
   ],
   "source": [
    "for epoch in range(num_epochs):\n",
    "\n",
    "    # Train and validate model for 1 epoch-\n",
    "    train_loss, train_acc = train_model_progress(\n",
    "        model = model, train_loader = train_loader,\n",
    "        train_dataset = train_dataset\n",
    "    )\n",
    "    val_loss, val_acc = test_model_progress(\n",
    "        model = model, test_loader = val_loader,\n",
    "        test_dataset = val_dataset\n",
    "    )\n",
    "    \n",
    "    print(f\"\\nepoch: {epoch + 1} training loss = {train_loss:.4f}, \"\n",
    "          f\"training accuracy = {train_acc:.2f}%, val_loss = {val_loss:.4f}\"\n",
    "          f\", val_accuracy = {val_acc:.2f}% & \"\n",
    "          f\"LR = {optimizer.param_groups[0]['lr']:.5f}\\n\")\n",
    "    \n",
    "    training_history_lr_scheduler[epoch + 1] = {\n",
    "        'loss': train_loss, 'acc': train_acc,\n",
    "        'val_loss': val_loss, 'val_acc': val_acc,\n",
    "        'lr': optimizer.param_groups[0]['lr']\n",
    "    }\n",
    "\n",
    "    exp_lr_scheduler.step()\n",
    "    \n",
    "    # Save best weights achieved until now-\n",
    "    if (val_acc > best_val_acc):\n",
    "        # update 'best_val_loss' variable to lowest loss encountered so far-\n",
    "        best_val_acc = val_acc\n",
    "\n",
    "        print(f\"Saving model with highest val_acc = {val_acc:.2f}%\\n\")\n",
    "        \n",
    "        # Save trained model with 'best' validation accuracy-\n",
    "        torch.save(model.state_dict(), \"SqueezeNet_best_model.pth\")\n",
    "        "
   ]
  },
  {
   "cell_type": "code",
   "execution_count": null,
   "id": "1d6a3b4c-4c1e-48e9-8114-a3cdda532a3a",
   "metadata": {},
   "outputs": [],
   "source": []
  },
  {
   "cell_type": "code",
   "execution_count": 23,
   "id": "70aab0e1-06f5-48ae-aae6-aeec64a529d3",
   "metadata": {},
   "outputs": [],
   "source": [
    "# Save training metrics as Python3 history for later analysis-\n",
    "with open(\"SqueezeNet_CIFAR10_training_history.pkl\", \"wb\") as file:\n",
    "    pickle.dump(training_history_lr_scheduler, file)"
   ]
  },
  {
   "cell_type": "code",
   "execution_count": null,
   "id": "2a51c837-7e5c-44e6-a71f-2f73d477ff24",
   "metadata": {},
   "outputs": [],
   "source": []
  },
  {
   "cell_type": "code",
   "execution_count": null,
   "id": "c0a5666d-26ae-48b9-a5aa-398d8b5c6afd",
   "metadata": {},
   "outputs": [],
   "source": []
  },
  {
   "cell_type": "code",
   "execution_count": 24,
   "id": "640ad7fa-ce84-4683-bfa4-ec8362dd3c25",
   "metadata": {},
   "outputs": [
    {
     "data": {
      "image/png": "[encoded data removed]",
      "text/plain": [
       "<Figure size 900x700 with 1 Axes>"
      ]
     },
     "metadata": {},
     "output_type": "display_data"
    }
   ],
   "source": [
    "# Visualize ResNet-training-\n",
    "plt.figure(figsize = (9, 7))\n",
    "plt.plot(list(training_history_lr_scheduler.keys()), [training_history_lr_scheduler[k]['acc'] for k in training_history_lr_scheduler.keys()], label = 'training acc')\n",
    "plt.plot(list(training_history_lr_scheduler.keys()), [training_history_lr_scheduler[k]['val_acc'] for k in training_history_lr_scheduler.keys()], label = 'val acc')\n",
    "plt.title(\"SqueezeNet-1.1: Training Accuracy\")\n",
    "plt.xlabel(\"epochs\")\n",
    "plt.ylabel(\"accuracy (%)\")\n",
    "plt.legend(loc = 'best')\n",
    "plt.show()"
   ]
  },
  {
   "cell_type": "code",
   "execution_count": 25,
   "id": "32df8213-e22b-4e40-b30e-f25637269507",
   "metadata": {},
   "outputs": [
    {
     "data": {
      "image/png": "[encoded data removed]",
      "text/plain": [
       "<Figure size 900x700 with 1 Axes>"
      ]
     },
     "metadata": {},
     "output_type": "display_data"
    }
   ],
   "source": [
    "plt.figure(figsize = (9, 7))\n",
    "plt.plot(list(training_history_lr_scheduler.keys()), [training_history_lr_scheduler[k]['loss'] for k in training_history_lr_scheduler.keys()], label = 'training loss')\n",
    "plt.plot(list(training_history_lr_scheduler.keys()), [training_history_lr_scheduler[k]['val_loss'] for k in training_history_lr_scheduler.keys()], label = 'val loss')\n",
    "plt.xlabel(\"epochs\")\n",
    "plt.ylabel(\"loss\")\n",
    "plt.legend(loc = 'best')\n",
    "plt.title(\"SqueezeNet-1.1: Training Loss\")\n",
    "plt.show()"
   ]
  },
  {
   "cell_type": "code",
   "execution_count": 26,
   "id": "1996f6a2-f957-43e7-adb2-2559f164ad22",
   "metadata": {},
   "outputs": [
    {
     "data": {
      "image/png": "[encoded data removed]",
      "text/plain": [
       "<Figure size 900x700 with 1 Axes>"
      ]
     },
     "metadata": {},
     "output_type": "display_data"
    }
   ],
   "source": [
    "plt.figure(figsize = (9, 7))\n",
    "plt.plot(list(training_history_lr_scheduler.keys()), [training_history_lr_scheduler[k]['lr'] for k in training_history_lr_scheduler.keys()])\n",
    "plt.xlabel(\"epochs\")\n",
    "plt.ylabel(\"lr\")\n",
    "plt.title(\"SqueezeNet-1.1: Learning-Rate\")\n",
    "plt.show()"
   ]
  },
  {
   "cell_type": "code",
   "execution_count": null,
   "id": "7975be0e-4b24-4435-a172-113fee09c740",
   "metadata": {},
   "outputs": [],
   "source": []
  },
  {
   "cell_type": "markdown",
   "id": "473ac2f9-9620-4b08-9769-746c1705ceda",
   "metadata": {},
   "source": [
    "The accuracy achieved is dreadful?!"
   ]
  },
  {
   "cell_type": "code",
   "execution_count": null,
   "id": "e75f9773-2647-46fe-9d4f-22c47f3925bc",
   "metadata": {},
   "outputs": [],
   "source": []
  }
 ],
 "metadata": {
  "kernelspec": {
   "display_name": "Python 3 (ipykernel)",
   "language": "python",
   "name": "python3"
  },
  "language_info": {
   "codemirror_mode": {
    "name": "ipython",
    "version": 3
   },
   "file_extension": ".py",
   "mimetype": "text/x-python",
   "name": "python",
   "nbconvert_exporter": "python",
   "pygments_lexer": "ipython3",
   "version": "3.10.8"
  }
 },
 "nbformat": 4,
 "nbformat_minor": 5
}
