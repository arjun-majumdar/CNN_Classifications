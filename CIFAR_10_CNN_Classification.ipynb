{
  "nbformat": 4,
  "nbformat_minor": 0,
  "metadata": {
    "colab": {
      "name": "CIFAR_10_CNN_Classification.ipynb",
      "provenance": [],
      "collapsed_sections": []
    },
    "kernelspec": {
      "name": "python3",
      "display_name": "Python 3"
    },
    "accelerator": "GPU"
  },
  "cells": [
    {
      "cell_type": "code",
      "metadata": {
        "id": "wY85l2BwOiPI",
        "colab_type": "code",
        "colab": {}
      },
      "source": [
        "!pip uninstall tensorflow"
      ],
      "execution_count": 0,
      "outputs": []
    },
    {
      "cell_type": "code",
      "metadata": {
        "id": "fmjomYDAOjgi",
        "colab_type": "code",
        "colab": {}
      },
      "source": [
        "!pip install tensorflow-gpu"
      ],
      "execution_count": 0,
      "outputs": []
    },
    {
      "cell_type": "code",
      "metadata": {
        "id": "Y-FSOa9GOlqa",
        "colab_type": "code",
        "colab": {}
      },
      "source": [
        "import tensorflow as tf\n",
        "import numpy as np"
      ],
      "execution_count": 0,
      "outputs": []
    },
    {
      "cell_type": "code",
      "metadata": {
        "id": "pnf73la9PYXg",
        "colab_type": "code",
        "outputId": "8827ceb5-73a4-4f4c-99c3-ca931aa83f40",
        "colab": {
          "base_uri": "https://localhost:8080/",
          "height": 34
        }
      },
      "source": [
        "tf.__version__"
      ],
      "execution_count": 45,
      "outputs": [
        {
          "output_type": "execute_result",
          "data": {
            "text/plain": [
              "'2.0.0'"
            ]
          },
          "metadata": {
            "tags": []
          },
          "execution_count": 45
        }
      ]
    },
    {
      "cell_type": "code",
      "metadata": {
        "id": "2FXmO4sFOnyZ",
        "colab_type": "code",
        "outputId": "281e8508-f504-404d-e423-4ce7c9405328",
        "colab": {
          "base_uri": "https://localhost:8080/",
          "height": 69
        }
      },
      "source": [
        "if tf.test.is_gpu_available():\n",
        "    print(\"\\nYour GPU is available to TensorFlow\\n\")\n",
        "else:\n",
        "    print(\"\\nYour GPU is NOT available to TensorFlow\\n\")"
      ],
      "execution_count": 46,
      "outputs": [
        {
          "output_type": "stream",
          "text": [
            "\n",
            "Your GPU is available to TensorFlow\n",
            "\n"
          ],
          "name": "stdout"
        }
      ]
    },
    {
      "cell_type": "code",
      "metadata": {
        "id": "262wLxypOp_Y",
        "colab_type": "code",
        "outputId": "fb3229fb-23c7-40a1-d699-243a3ead57d7",
        "colab": {
          "base_uri": "https://localhost:8080/",
          "height": 52
        }
      },
      "source": [
        "print(('Is your GPU available for use?\\n{0}').format(\n",
        "    'Yes, your GPU is available: True' if tf.test.is_gpu_available() == True else 'No, your GPU is NOT available: False'\n",
        "))"
      ],
      "execution_count": 47,
      "outputs": [
        {
          "output_type": "stream",
          "text": [
            "Is your GPU available for use?\n",
            "Yes, your GPU is available: True\n"
          ],
          "name": "stdout"
        }
      ]
    },
    {
      "cell_type": "code",
      "metadata": {
        "id": "FrID8hfEOtLZ",
        "colab_type": "code",
        "colab": {}
      },
      "source": [
        "import matplotlib.pyplot as plt\n",
        "from tensorflow.keras.layers import AveragePooling2D, Conv2D\n",
        "from tensorflow.keras.layers import Dense, Flatten, Reshape, Input, InputLayer\n",
        "from tensorflow.keras import models, layers\n",
        "from tensorflow.keras.models import Sequential, Model\n",
        "from tensorflow.keras.initializers import RandomNormal\n",
        "import matplotlib.pyplot as plt\n"
      ],
      "execution_count": 0,
      "outputs": []
    },
    {
      "cell_type": "markdown",
      "metadata": {
        "id": "6U7qsoh-PF6w",
        "colab_type": "text"
      },
      "source": [
        "**Download and prepare the CIFAR10 dataset**\n",
        "\n",
        "The CIFAR10 dataset contains 60,000 color images in 10 classes, with 6,000 images in each class.\n",
        "\n",
        "The dataset is divided into 50,000 training images and 10,000 testing images. The classes are mutually exclusive and there is no overlap between them.\n"
      ]
    },
    {
      "cell_type": "code",
      "metadata": {
        "id": "ukYVnxrlPdro",
        "colab_type": "code",
        "colab": {}
      },
      "source": [
        "# Download CIFAR 10 dataset-\n",
        "(X_train, y_train), (X_test, y_test) = tf.keras.datasets.cifar10.load_data()\n"
      ],
      "execution_count": 0,
      "outputs": []
    },
    {
      "cell_type": "code",
      "metadata": {
        "id": "SD73WwFNPkjl",
        "colab_type": "code",
        "colab": {}
      },
      "source": [
        "# Normalize pixel values to be between 0 and 1\n",
        "X_train, X_test = X_train / 255.0, X_test / 255.0"
      ],
      "execution_count": 0,
      "outputs": []
    },
    {
      "cell_type": "code",
      "metadata": {
        "id": "7UKyWH3VP2z1",
        "colab_type": "code",
        "outputId": "2a51782d-932c-4fda-8c37-be4a25890041",
        "colab": {
          "base_uri": "https://localhost:8080/",
          "height": 104
        }
      },
      "source": [
        "print(\"\\nTraining and testing shapes are:\")\n",
        "print(\"X_train.shape = {0}, y_train.shape = {1}\".format(X_train.shape, y_train.shape))\n",
        "print(\"X_test.shape = {0}, y_test.shape = {1}\\n\".format(X_test.shape, y_test.shape))"
      ],
      "execution_count": 51,
      "outputs": [
        {
          "output_type": "stream",
          "text": [
            "\n",
            "Training and testing shapes are:\n",
            "X_train.shape = (50000, 32, 32, 3), y_train.shape = (50000, 1)\n",
            "X_test.shape = (10000, 32, 32, 3), y_test.shape = (10000, 1)\n",
            "\n"
          ],
          "name": "stdout"
        }
      ]
    },
    {
      "cell_type": "markdown",
      "metadata": {
        "id": "jOaTZ6KAPodi",
        "colab_type": "text"
      },
      "source": [
        "**Verify the data**\n",
        "\n",
        "To verify that the dataset looks correct, let's plot the first 15 images from the training set and display the class name below each image."
      ]
    },
    {
      "cell_type": "code",
      "metadata": {
        "id": "LyicWDO_PsZk",
        "colab_type": "code",
        "outputId": "c8512594-a50e-442b-e52d-b7eb3b58cbdb",
        "colab": {
          "base_uri": "https://localhost:8080/",
          "height": 364
        }
      },
      "source": [
        "class_names = ['airplane', 'automobile', 'bird', 'cat', 'deer',\n",
        "               'dog', 'frog', 'horse', 'ship', 'truck']\n",
        "\n",
        "plt.figure(figsize=(10,10))\n",
        "\n",
        "for i in range(15):\n",
        "  plt.subplot(5, 5,i+1)\n",
        "  plt.xticks([])\n",
        "  plt.yticks([])\n",
        "  plt.grid(False)\n",
        "  plt.imshow(X_train[i], cmap=plt.cm.binary)\n",
        "  # The CIFAR labels happen to be arrays, \n",
        "  # which is why you need the extra index\n",
        "  plt.xlabel(class_names[y_train[i][0]])\n",
        "\n",
        "plt.show()"
      ],
      "execution_count": 52,
      "outputs": [
        {
          "output_type": "display_data",
          "data": {
            "image/png": "[encoded data removed]",
            "text/plain": [
              "<Figure size 720x720 with 15 Axes>"
            ]
          },
          "metadata": {
            "tags": []
          }
        }
      ]
    },
    {
      "cell_type": "markdown",
      "metadata": {
        "id": "XiSLwBCvQ1ef",
        "colab_type": "text"
      },
      "source": [
        "**Create the convolutional base**\n",
        "\n",
        "The 6 lines of code below define the convolutional base using a common pattern: a stack of Conv2D and MaxPooling2D layers.\n",
        "\n",
        "As input, a CNN takes tensors of shape (image_height, image_width, color_channels), ignoring the batch size, color_channels refers to (R,G,B).\n",
        "\n",
        "In this example, the CNN is designed to process inputs of shape (32, 32, 3), which is the format of CIFAR images. You can do this by passing the argument input_shape to our first layer."
      ]
    },
    {
      "cell_type": "markdown",
      "metadata": {
        "id": "-0YVbSzO7wM5",
        "colab_type": "text"
      },
      "source": [
        "**Formulas for CNN**:\n",
        "\n",
        "1.) Output size (O) of a convolution operations is-\n",
        "\n",
        "    O = ((W - K + (2 * P) / S) + 1\n",
        "\n",
        "where, W is input height/width, K is filter size, P is zero padding size and S is stride size\n",
        "\n",
        "\n",
        "2.) Output size of a maxpool layer is-\n",
        "\n",
        "    W' = ((W - f) / S) + 1\n",
        "\n",
        "    H' = ((H - f) / S) + 1\n",
        "\n",
        "where, W is input width, H is input height, f is pool/filter size and S is stride size\n",
        "\n"
      ]
    },
    {
      "cell_type": "code",
      "metadata": {
        "id": "jahqjIS6SfWg",
        "colab_type": "code",
        "outputId": "a4625f0d-24c9-4a91-d688-cd359d1368d8",
        "colab": {
          "base_uri": "https://localhost:8080/",
          "height": 34
        }
      },
      "source": [
        "model = models.Sequential()\n",
        "\n",
        "# Input: (32, 32, 3)\n",
        "model.add(layers.Conv2D(\n",
        "    filters = 32, kernel_size = (3, 3),\n",
        "    activation='relu', kernel_initializer = tf.initializers.GlorotUniform(),\n",
        "    strides = (1, 1), padding = 'valid',\n",
        "    input_shape=(32, 32, 3))\n",
        ")\n",
        "\n",
        "'''\n",
        "K = 3 (3, 3) or, filter size\n",
        "S = 1 or, stride size\n",
        "P = 0 or, zerro padding\n",
        "'''\n",
        "# Output: (30, 30, 32)\n",
        "\n",
        "# Input: (30, 30, 32)\n",
        "model.add(layers.MaxPooling2D(\n",
        "    pool_size = (2, 2),\n",
        "    strides = (2, 2))\n",
        ")\n",
        "\n",
        "'''\n",
        "f = 2 (2, 2) or, filter/pool size\n",
        "S = 2 or, stride size\n",
        "'''\n",
        "# Output: (15, 15, 32)\n",
        "\n",
        "# Input: (15, 15, 32)\n",
        "model.add(layers.Conv2D(\n",
        "    filters = 64, kernel_size = (3, 3),\n",
        "    activation='relu', kernel_initializer = tf.initializers.GlorotUniform())\n",
        ")\n",
        "\n",
        "'''\n",
        "K = 3 or, (3, 3) or, filter size\n",
        "P = 0 or, zero padding\n",
        "S = 1 or, (1, 1) or, stide\n",
        "'''\n",
        "# Output: (13, 13, 64)\n",
        "\n",
        "# Input: (13, 13, 64)\n",
        "model.add(layers.MaxPooling2D(\n",
        "    pool_size = (2, 2),\n",
        "    strides = (2, 2))\n",
        ")\n",
        "\n",
        "'''\n",
        "f = (2, 2) or 2, or filter/pool size\n",
        "S = (1, 1) or 1, or stride size\n",
        "'''\n",
        "# Output: (6, 6, 64)\n",
        "\n",
        "# Input: (6, 6, 64)\n",
        "model.add(layers.Conv2D(\n",
        "    filters = 64, kernel_size = (3, 3),\n",
        "    activation='relu', kernel_initializer = tf.initializers.GlorotUniform())\n",
        ")\n",
        "\n",
        "'''\n",
        "K = 3 or, (3, 3) or, filter size\n",
        "S = 1 or (1, 1) or, stride\n",
        "P = 0 or zero padding\n",
        "'''\n",
        "# Output: (4, 4, 64)\n",
        "\n",
        "\n",
        "# https://stackoverflow.com/questions/55322754/how-to-do-weight-initialization-by-xavier-rule-in-tensorflow-2-0"
      ],
      "execution_count": 53,
      "outputs": [
        {
          "output_type": "execute_result",
          "data": {
            "text/plain": [
              "'\\nK = 3 or, (3, 3) or, filter size\\nS = 1 or (1, 1) or, stride\\nP = 0 or zero padding\\n'"
            ]
          },
          "metadata": {
            "tags": []
          },
          "execution_count": 53
        }
      ]
    },
    {
      "cell_type": "code",
      "metadata": {
        "id": "fTET9jWDPlYZ",
        "colab_type": "code",
        "outputId": "610cea5f-f742-40da-8b19-77a4662a8593",
        "colab": {
          "base_uri": "https://localhost:8080/",
          "height": 330
        }
      },
      "source": [
        "# Architecture and output volumes from each of layers, till now-\n",
        "model.summary()"
      ],
      "execution_count": 54,
      "outputs": [
        {
          "output_type": "stream",
          "text": [
            "Model: \"sequential_4\"\n",
            "_________________________________________________________________\n",
            "Layer (type)                 Output Shape              Param #   \n",
            "=================================================================\n",
            "conv2d_11 (Conv2D)           (None, 30, 30, 32)        896       \n",
            "_________________________________________________________________\n",
            "max_pooling2d_8 (MaxPooling2 (None, 15, 15, 32)        0         \n",
            "_________________________________________________________________\n",
            "conv2d_12 (Conv2D)           (None, 13, 13, 64)        18496     \n",
            "_________________________________________________________________\n",
            "max_pooling2d_9 (MaxPooling2 (None, 6, 6, 64)          0         \n",
            "_________________________________________________________________\n",
            "conv2d_13 (Conv2D)           (None, 4, 4, 64)          36928     \n",
            "=================================================================\n",
            "Total params: 56,320\n",
            "Trainable params: 56,320\n",
            "Non-trainable params: 0\n",
            "_________________________________________________________________\n"
          ],
          "name": "stdout"
        }
      ]
    },
    {
      "cell_type": "markdown",
      "metadata": {
        "id": "2tvCGyzA35_5",
        "colab_type": "text"
      },
      "source": [
        "Above, you can see that the output of every Conv2D and MaxPooling2D layer is a 3D tensor of shape (height, width, channels).\n",
        "\n",
        "The width and height dimensions tend to shrink as you go deeper in the network. The number of output channels for each Conv2D layer is controlled by the first argument (e.g., 32 or 64).\n",
        "\n",
        "Typically, **as the width and height shrink, you can afford (computationally) to add more output channels in each Conv2D layer**."
      ]
    },
    {
      "cell_type": "markdown",
      "metadata": {
        "id": "ysbbpOrO4L5e",
        "colab_type": "text"
      },
      "source": [
        "**Add Dense layers on top**\n",
        "\n",
        "To complete the CNN model, feed the last output tensor from the convolutional base (of shape (4, 4, 64)) into one or more Dense layers to perform classification.\n",
        "\n",
        "**Dense layers take vectors as input (which are 1D)**, while the current output is a 3D tensor.\n",
        "\n",
        "First, you will flatten (or unroll) the 3D output to 1D, then add one or more Dense layers on top. CIFAR has 10 output classes, so you use a final Dense layer with 10 outputs and a softmax activation.\n",
        "\n"
      ]
    },
    {
      "cell_type": "code",
      "metadata": {
        "id": "HBTiKhXbU_ps",
        "colab_type": "code",
        "colab": {}
      },
      "source": [
        "model.add(layers.Flatten())\n",
        "model.add(layers.Dense(64, activation='relu', kernel_initializer = tf.initializers.GlorotUniform()))\n",
        "model.add(tf.keras.layers.Dropout(rate = 0.4))\n",
        "model.add(layers.Dense(10, activation='softmax'))"
      ],
      "execution_count": 0,
      "outputs": []
    },
    {
      "cell_type": "code",
      "metadata": {
        "id": "LGFO2WTY6tq3",
        "colab_type": "code",
        "colab": {}
      },
      "source": [
        "# Add early stopping\n",
        "callback = tf.keras.callbacks.EarlyStopping(monitor='val_loss', patience = 5)"
      ],
      "execution_count": 0,
      "outputs": []
    },
    {
      "cell_type": "code",
      "metadata": {
        "id": "ll_X1sFc4vXk",
        "colab_type": "code",
        "outputId": "1b1339df-c089-4300-b879-e3b2803fce95",
        "colab": {
          "base_uri": "https://localhost:8080/",
          "height": 469
        }
      },
      "source": [
        "# Complete architecture of designed CNN model-\n",
        "model.summary()"
      ],
      "execution_count": 57,
      "outputs": [
        {
          "output_type": "stream",
          "text": [
            "Model: \"sequential_4\"\n",
            "_________________________________________________________________\n",
            "Layer (type)                 Output Shape              Param #   \n",
            "=================================================================\n",
            "conv2d_11 (Conv2D)           (None, 30, 30, 32)        896       \n",
            "_________________________________________________________________\n",
            "max_pooling2d_8 (MaxPooling2 (None, 15, 15, 32)        0         \n",
            "_________________________________________________________________\n",
            "conv2d_12 (Conv2D)           (None, 13, 13, 64)        18496     \n",
            "_________________________________________________________________\n",
            "max_pooling2d_9 (MaxPooling2 (None, 6, 6, 64)          0         \n",
            "_________________________________________________________________\n",
            "conv2d_13 (Conv2D)           (None, 4, 4, 64)          36928     \n",
            "_________________________________________________________________\n",
            "flatten_4 (Flatten)          (None, 1024)              0         \n",
            "_________________________________________________________________\n",
            "dense_7 (Dense)              (None, 64)                65600     \n",
            "_________________________________________________________________\n",
            "dropout_2 (Dropout)          (None, 64)                0         \n",
            "_________________________________________________________________\n",
            "dense_8 (Dense)              (None, 10)                650       \n",
            "=================================================================\n",
            "Total params: 122,570\n",
            "Trainable params: 122,570\n",
            "Non-trainable params: 0\n",
            "_________________________________________________________________\n"
          ],
          "name": "stdout"
        }
      ]
    },
    {
      "cell_type": "markdown",
      "metadata": {
        "id": "yFKqLRyA5EbV",
        "colab_type": "text"
      },
      "source": [
        "As you can see, (4, 4, 64) outputs were flattened into vectors of shape (1024) before going through two Dense layers.\n",
        "\n",
        "Since, 4 x 4 x 64 = 1024."
      ]
    },
    {
      "cell_type": "code",
      "metadata": {
        "id": "_6vlwKkY41Ob",
        "colab_type": "code",
        "colab": {}
      },
      "source": [
        "# Compile defined model-\n",
        "model.compile(\n",
        "    optimizer='adam',\n",
        "    loss='sparse_categorical_crossentropy',\n",
        "    metrics=['accuracy'])"
      ],
      "execution_count": 0,
      "outputs": []
    },
    {
      "cell_type": "markdown",
      "metadata": {
        "id": "he5l7gWU5wli",
        "colab_type": "text"
      },
      "source": [
        "**categorical_crossentropy VS. sparse_categorical_crossentropy**\n",
        "\n",
        "If your targets are one-hot encoded, use categorical_crossentropy.\n",
        "\n",
        "Examples of one-hot encodings:\n",
        "\n",
        "            [1,0,0]\n",
        "            [0,1,0]\n",
        "            [0,0,1]\n",
        "\n",
        "But if your targets are integers, use sparse_categorical_crossentropy.\n",
        "\n",
        "Examples of integer encodings (for the sake of completion):\n",
        "\n",
        "            1\n",
        "            2\n",
        "            3\n",
        "\n",
        "\n"
      ]
    },
    {
      "cell_type": "code",
      "metadata": {
        "id": "jaWuYmoE5Ys9",
        "colab_type": "code",
        "outputId": "7eb6f07f-ab61-4b26-f35e-9dd1aabb2eba",
        "colab": {
          "base_uri": "https://localhost:8080/",
          "height": 972
        }
      },
      "source": [
        "# Train model-\n",
        "history = model.fit(x = X_train, y = y_train,\n",
        "                    batch_size = 128, epochs=50,\n",
        "                    callbacks=[callback],\n",
        "                    validation_data=(X_test, y_test))\n"
      ],
      "execution_count": 59,
      "outputs": [
        {
          "output_type": "stream",
          "text": [
            "Train on 50000 samples, validate on 10000 samples\n",
            "Epoch 1/50\n",
            "50000/50000 [==============================] - 3s 65us/sample - loss: 1.8180 - accuracy: 0.3249 - val_loss: 1.4799 - val_accuracy: 0.4643\n",
            "Epoch 2/50\n",
            "50000/50000 [==============================] - 3s 51us/sample - loss: 1.5084 - accuracy: 0.4532 - val_loss: 1.3117 - val_accuracy: 0.5409\n",
            "Epoch 3/50\n",
            "50000/50000 [==============================] - 3s 51us/sample - loss: 1.3608 - accuracy: 0.5119 - val_loss: 1.2119 - val_accuracy: 0.5723\n",
            "Epoch 4/50\n",
            "50000/50000 [==============================] - 3s 50us/sample - loss: 1.2716 - accuracy: 0.5489 - val_loss: 1.2219 - val_accuracy: 0.5531\n",
            "Epoch 5/50\n",
            "50000/50000 [==============================] - 3s 51us/sample - loss: 1.2022 - accuracy: 0.5761 - val_loss: 1.0517 - val_accuracy: 0.6280\n",
            "Epoch 6/50\n",
            "50000/50000 [==============================] - 3s 51us/sample - loss: 1.1397 - accuracy: 0.5994 - val_loss: 1.0257 - val_accuracy: 0.6407\n",
            "Epoch 7/50\n",
            "50000/50000 [==============================] - 3s 51us/sample - loss: 1.0926 - accuracy: 0.6193 - val_loss: 1.0317 - val_accuracy: 0.6381\n",
            "Epoch 8/50\n",
            "50000/50000 [==============================] - 3s 51us/sample - loss: 1.0400 - accuracy: 0.6368 - val_loss: 0.9552 - val_accuracy: 0.6657\n",
            "Epoch 9/50\n",
            "50000/50000 [==============================] - 3s 51us/sample - loss: 1.0054 - accuracy: 0.6488 - val_loss: 0.9331 - val_accuracy: 0.6708\n",
            "Epoch 10/50\n",
            "50000/50000 [==============================] - 3s 52us/sample - loss: 0.9681 - accuracy: 0.6631 - val_loss: 0.9568 - val_accuracy: 0.6600\n",
            "Epoch 11/50\n",
            "50000/50000 [==============================] - 3s 52us/sample - loss: 0.9427 - accuracy: 0.6712 - val_loss: 0.9017 - val_accuracy: 0.6828\n",
            "Epoch 12/50\n",
            "50000/50000 [==============================] - 3s 51us/sample - loss: 0.9079 - accuracy: 0.6833 - val_loss: 0.8892 - val_accuracy: 0.6880\n",
            "Epoch 13/50\n",
            "50000/50000 [==============================] - 3s 51us/sample - loss: 0.8784 - accuracy: 0.6930 - val_loss: 0.8630 - val_accuracy: 0.6964\n",
            "Epoch 14/50\n",
            "50000/50000 [==============================] - 3s 51us/sample - loss: 0.8562 - accuracy: 0.7025 - val_loss: 0.8694 - val_accuracy: 0.6996\n",
            "Epoch 15/50\n",
            "50000/50000 [==============================] - 3s 51us/sample - loss: 0.8336 - accuracy: 0.7093 - val_loss: 0.8590 - val_accuracy: 0.7002\n",
            "Epoch 16/50\n",
            "50000/50000 [==============================] - 3s 51us/sample - loss: 0.8146 - accuracy: 0.7146 - val_loss: 0.8610 - val_accuracy: 0.7031\n",
            "Epoch 17/50\n",
            "50000/50000 [==============================] - 3s 52us/sample - loss: 0.7890 - accuracy: 0.7233 - val_loss: 0.8301 - val_accuracy: 0.7152\n",
            "Epoch 18/50\n",
            "50000/50000 [==============================] - 3s 51us/sample - loss: 0.7637 - accuracy: 0.7314 - val_loss: 0.8622 - val_accuracy: 0.7056\n",
            "Epoch 19/50\n",
            "50000/50000 [==============================] - 3s 54us/sample - loss: 0.7424 - accuracy: 0.7394 - val_loss: 0.8241 - val_accuracy: 0.7169\n",
            "Epoch 20/50\n",
            "50000/50000 [==============================] - 3s 53us/sample - loss: 0.7271 - accuracy: 0.7428 - val_loss: 0.8283 - val_accuracy: 0.7215\n",
            "Epoch 21/50\n",
            "50000/50000 [==============================] - 3s 51us/sample - loss: 0.7194 - accuracy: 0.7447 - val_loss: 0.8456 - val_accuracy: 0.7094\n",
            "Epoch 22/50\n",
            "50000/50000 [==============================] - 3s 51us/sample - loss: 0.6977 - accuracy: 0.7540 - val_loss: 0.8188 - val_accuracy: 0.7207\n",
            "Epoch 23/50\n",
            "50000/50000 [==============================] - 3s 51us/sample - loss: 0.6768 - accuracy: 0.7591 - val_loss: 0.8437 - val_accuracy: 0.7162\n",
            "Epoch 24/50\n",
            "50000/50000 [==============================] - 3s 51us/sample - loss: 0.6706 - accuracy: 0.7611 - val_loss: 0.8397 - val_accuracy: 0.7193\n",
            "Epoch 25/50\n",
            "50000/50000 [==============================] - 3s 51us/sample - loss: 0.6516 - accuracy: 0.7669 - val_loss: 0.8542 - val_accuracy: 0.7174\n",
            "Epoch 26/50\n",
            "50000/50000 [==============================] - 3s 51us/sample - loss: 0.6426 - accuracy: 0.7693 - val_loss: 0.8495 - val_accuracy: 0.7177\n",
            "Epoch 27/50\n",
            "50000/50000 [==============================] - 3s 50us/sample - loss: 0.6296 - accuracy: 0.7764 - val_loss: 0.8291 - val_accuracy: 0.7260\n"
          ],
          "name": "stdout"
        }
      ]
    },
    {
      "cell_type": "code",
      "metadata": {
        "id": "rcXhXz-V5k61",
        "colab_type": "code",
        "outputId": "b9dd5924-6394-44a8-e3af-312490468f87",
        "colab": {
          "base_uri": "https://localhost:8080/",
          "height": 312
        }
      },
      "source": [
        "plt.plot(history.history['accuracy'], label='training accuracy')\n",
        "plt.plot(history.history['val_accuracy'], label = 'testing accuracy')\n",
        "\n",
        "plt.title(\"CIFAR-10 training visualization\")\n",
        "plt.xlabel('# of epochs')\n",
        "plt.ylabel('Accuracy')\n",
        "plt.ylim([0.5, 1])\n",
        "plt.legend(loc='lower right')\n"
      ],
      "execution_count": 60,
      "outputs": [
        {
          "output_type": "execute_result",
          "data": {
            "text/plain": [
              "<matplotlib.legend.Legend at 0x7faa30035da0>"
            ]
          },
          "metadata": {
            "tags": []
          },
          "execution_count": 60
        },
        {
          "output_type": "display_data",
          "data": {
            "image/png": "[encoded data removed]",
            "text/plain": [
              "<Figure size 432x288 with 1 Axes>"
            ]
          },
          "metadata": {
            "tags": []
          }
        }
      ]
    },
    {
      "cell_type": "code",
      "metadata": {
        "id": "IVXJ-sRL6Pmc",
        "colab_type": "code",
        "outputId": "a461996d-2010-4a73-f187-387707c8c34c",
        "colab": {
          "base_uri": "https://localhost:8080/",
          "height": 34
        }
      },
      "source": [
        "test_loss, test_acc = model.evaluate(X_test,  y_test, verbose=2)"
      ],
      "execution_count": 61,
      "outputs": [
        {
          "output_type": "stream",
          "text": [
            "10000/1 - 1s - loss: 1.1103 - accuracy: 0.7260\n"
          ],
          "name": "stdout"
        }
      ]
    },
    {
      "cell_type": "code",
      "metadata": {
        "id": "_Cek9How7W8B",
        "colab_type": "code",
        "outputId": "fbf24708-6e89-4b90-e958-81e60c29bd0d",
        "colab": {
          "base_uri": "https://localhost:8080/",
          "height": 69
        }
      },
      "source": [
        "print(\"\\nTesting dataset loss = {0:.4f} & accuracy = {1:.4f}\\n\".format(test_loss, test_acc))"
      ],
      "execution_count": 62,
      "outputs": [
        {
          "output_type": "stream",
          "text": [
            "\n",
            "Testing dataset loss = 0.8291 & accuracy = 0.7260\n",
            "\n"
          ],
          "name": "stdout"
        }
      ]
    },
    {
      "cell_type": "markdown",
      "metadata": {
        "id": "aPueiOn79deL",
        "colab_type": "text"
      },
      "source": [
        "**Using TensorFlow GradientTape API**"
      ]
    },
    {
      "cell_type": "code",
      "metadata": {
        "id": "_JrzHt6y-59i",
        "colab_type": "code",
        "colab": {}
      },
      "source": [
        "# Using 'tf.data' to batch and shuffle the dataset-\n",
        "\n",
        "train_ds = tf.data.Dataset.from_tensor_slices(\n",
        "    (X_train, y_train)).shuffle(10000).batch(128)\n",
        "\n",
        "test_ds = tf.data.Dataset.from_tensor_slices((X_test, y_test)).batch(128)"
      ],
      "execution_count": 0,
      "outputs": []
    },
    {
      "cell_type": "code",
      "metadata": {
        "id": "0BhQEDNd7fst",
        "colab_type": "code",
        "colab": {}
      },
      "source": [
        "# Define a loss function-\n",
        "loss_object = tf.keras.losses.SparseCategoricalCrossentropy()"
      ],
      "execution_count": 0,
      "outputs": []
    },
    {
      "cell_type": "code",
      "metadata": {
        "id": "FvDv1fVw9nWj",
        "colab_type": "code",
        "colab": {}
      },
      "source": [
        "# Define Gradient Descent optimizer-\n",
        "optimizer = tf.keras.optimizers.Adam()"
      ],
      "execution_count": 0,
      "outputs": []
    },
    {
      "cell_type": "code",
      "metadata": {
        "id": "RpC4s2M59n-3",
        "colab_type": "code",
        "colab": {}
      },
      "source": [
        "# Choosing metrics to measure the loss and the accuracy of the model.\n",
        "# These metrics accumulate the values over epochs and then print the overall result\n",
        "\n",
        "train_loss = tf.keras.metrics.Mean(name = 'train_loss')\n",
        "train_accuracy = tf.keras.metrics.SparseCategoricalAccuracy(name = 'train_accuracy')\n",
        "\n",
        "test_loss = tf.keras.metrics.Mean(name = 'test_loss')\n",
        "test_accuracy = tf.keras.metrics.SparseCategoricalAccuracy(name = 'test_accuracy')"
      ],
      "execution_count": 0,
      "outputs": []
    },
    {
      "cell_type": "code",
      "metadata": {
        "id": "Lfksv9Ib96nd",
        "colab_type": "code",
        "colab": {}
      },
      "source": [
        "# Using 'tf.GradientTape' to train the defined model-\n",
        "\n",
        "@tf.function\n",
        "def train_step(images, labels):\n",
        "  with tf.GradientTape() as tape:\n",
        "    # make predictions using defined model-\n",
        "    predictions = model(images)\n",
        "\n",
        "    # compute loss-\n",
        "    loss = loss_object(labels, predictions)\n",
        "\n",
        "  # compute gradient wrt loss-\n",
        "  gradients = tape.gradient(loss, model.trainable_variables)\n",
        "\n",
        "  # apply computed gradients to weights & biases of model-\n",
        "  optimizer.apply_gradients(zip(gradients, model.trainable_variables))\n",
        "\n",
        "  # accumulate chosen metrics over epochs-\n",
        "  train_loss(loss)\n",
        "  train_accuracy(labels, predictions)\n",
        "\n",
        "  return None"
      ],
      "execution_count": 0,
      "outputs": []
    },
    {
      "cell_type": "code",
      "metadata": {
        "id": "cSIOqaHr-VpS",
        "colab_type": "code",
        "colab": {}
      },
      "source": [
        "# Function to test the model-\n",
        "\n",
        "@tf.function\n",
        "def test_step(images, labels):\n",
        "  # make predictions using defined model-\n",
        "  predictions = model(images)\n",
        "\n",
        "  # compute loss-\n",
        "  test_loss_val = loss_object(labels, predictions)\n",
        "\n",
        "  # accumulate chosen metrics-\n",
        "  test_loss(test_loss_val)\n",
        "  test_accuracy(labels, predictions)\n",
        "\n",
        "  return None\n"
      ],
      "execution_count": 0,
      "outputs": []
    },
    {
      "cell_type": "code",
      "metadata": {
        "id": "dUoOu6SU-o98",
        "colab_type": "code",
        "colab": {}
      },
      "source": [
        "EPOCHS = 25"
      ],
      "execution_count": 0,
      "outputs": []
    },
    {
      "cell_type": "code",
      "metadata": {
        "id": "cz5qxW-4-ulS",
        "colab_type": "code",
        "colab": {
          "base_uri": "https://localhost:8080/",
          "height": 575
        },
        "outputId": "e2446cfc-cf54-4dac-8c90-873cbf8bd29c"
      },
      "source": [
        "for epoch in range(EPOCHS):\n",
        "  # Reset the metrics at the start of the next epoch\n",
        "  train_loss.reset_states()\n",
        "  train_accuracy.reset_states()\n",
        "  \n",
        "  test_loss.reset_states()\n",
        "  test_accuracy.reset_states()\n",
        "\n",
        "  for images, labels in train_ds:\n",
        "    train_step(images, labels)\n",
        "\n",
        "  for test_images, test_labels in test_ds:\n",
        "    test_step(test_images, test_labels)\n",
        "\n",
        "  template = 'Epoch {}, Training Loss: {}, Training Accuracy: {}, Test Loss: {}, Test Accuracy: {}'\n",
        "  print(template.format(epoch+1,\n",
        "                        train_loss.result(),\n",
        "                        train_accuracy.result()*100,\n",
        "                        test_loss.result(),\n",
        "                        test_accuracy.result()*100))\n"
      ],
      "execution_count": 70,
      "outputs": [
        {
          "output_type": "stream",
          "text": [
            "WARNING:tensorflow:Layer conv2d_11 is casting an input tensor from dtype float64 to the layer's dtype of float32, which is new behavior in TensorFlow 2.  The layer has dtype float32 because it's dtype defaults to floatx.\n",
            "\n",
            "If you intended to run this layer in float32, you can safely ignore this warning. If in doubt, this warning is likely only an issue if you are porting a TensorFlow 1.X model to TensorFlow 2.\n",
            "\n",
            "To change all layers to have dtype float64 by default, call `tf.keras.backend.set_floatx('float64')`. To change just this layer, pass dtype='float64' to the layer constructor. If you are the author of this layer, you can disable autocasting by passing autocast=False to the base Layer constructor.\n",
            "\n",
            "Epoch 1, Training Loss: 0.5728324055671692, Training Accuracy: 79.2959976196289, Test Loss: 0.9153845310211182, Test Accuracy: 70.62000274658203\n",
            "Epoch 2, Training Loss: 0.5416855216026306, Training Accuracy: 80.29399871826172, Test Loss: 0.9325942993164062, Test Accuracy: 71.12000274658203\n",
            "Epoch 3, Training Loss: 0.5091399550437927, Training Accuracy: 81.49799346923828, Test Loss: 0.993395209312439, Test Accuracy: 69.93000030517578\n",
            "Epoch 4, Training Loss: 0.48093363642692566, Training Accuracy: 82.5479965209961, Test Loss: 1.02859628200531, Test Accuracy: 70.29000091552734\n",
            "Epoch 5, Training Loss: 0.44699469208717346, Training Accuracy: 83.47200012207031, Test Loss: 1.0699243545532227, Test Accuracy: 69.97000122070312\n",
            "Epoch 6, Training Loss: 0.4207947254180908, Training Accuracy: 84.63199615478516, Test Loss: 1.0879167318344116, Test Accuracy: 70.09000396728516\n",
            "Epoch 7, Training Loss: 0.39527627825737, Training Accuracy: 85.6780014038086, Test Loss: 1.1425024271011353, Test Accuracy: 70.1300048828125\n",
            "Epoch 8, Training Loss: 0.3663785755634308, Training Accuracy: 86.63999938964844, Test Loss: 1.1495540142059326, Test Accuracy: 70.42000579833984\n",
            "Epoch 9, Training Loss: 0.3488854765892029, Training Accuracy: 87.35200500488281, Test Loss: 1.300072193145752, Test Accuracy: 69.30000305175781\n",
            "Epoch 10, Training Loss: 0.3264801502227783, Training Accuracy: 88.00199890136719, Test Loss: 1.2607226371765137, Test Accuracy: 70.70000457763672\n",
            "Epoch 11, Training Loss: 0.3065760135650635, Training Accuracy: 88.6760025024414, Test Loss: 1.3468269109725952, Test Accuracy: 69.62000274658203\n",
            "Epoch 12, Training Loss: 0.2908373475074768, Training Accuracy: 89.45800018310547, Test Loss: 1.3344669342041016, Test Accuracy: 69.47000122070312\n",
            "Epoch 13, Training Loss: 0.26544374227523804, Training Accuracy: 90.21800231933594, Test Loss: 1.4408109188079834, Test Accuracy: 69.88999938964844\n",
            "Epoch 14, Training Loss: 0.2588328719139099, Training Accuracy: 90.4800033569336, Test Loss: 1.5007802248001099, Test Accuracy: 69.22000122070312\n",
            "Epoch 15, Training Loss: 0.25130704045295715, Training Accuracy: 90.79199981689453, Test Loss: 1.5474021434783936, Test Accuracy: 69.0\n",
            "Epoch 16, Training Loss: 0.22259485721588135, Training Accuracy: 91.97599792480469, Test Loss: 1.6548582315444946, Test Accuracy: 69.77000427246094\n",
            "Epoch 17, Training Loss: 0.2247224599123001, Training Accuracy: 91.7699966430664, Test Loss: 1.6212525367736816, Test Accuracy: 69.54000091552734\n",
            "Epoch 18, Training Loss: 0.20658348500728607, Training Accuracy: 92.552001953125, Test Loss: 1.7356064319610596, Test Accuracy: 69.25\n",
            "Epoch 19, Training Loss: 0.20852988958358765, Training Accuracy: 92.37999725341797, Test Loss: 1.8536741733551025, Test Accuracy: 68.30000305175781\n",
            "Epoch 20, Training Loss: 0.1870814859867096, Training Accuracy: 93.197998046875, Test Loss: 1.8827136754989624, Test Accuracy: 68.86000061035156\n",
            "Epoch 21, Training Loss: 0.19378185272216797, Training Accuracy: 93.10399627685547, Test Loss: 1.8502558469772339, Test Accuracy: 69.13999938964844\n",
            "Epoch 22, Training Loss: 0.17893707752227783, Training Accuracy: 93.58000183105469, Test Loss: 1.9573845863342285, Test Accuracy: 68.40999603271484\n",
            "Epoch 23, Training Loss: 0.17730675637722015, Training Accuracy: 93.61799621582031, Test Loss: 2.0401270389556885, Test Accuracy: 68.41999816894531\n",
            "Epoch 24, Training Loss: 0.17464998364448547, Training Accuracy: 93.87000274658203, Test Loss: 2.0079164505004883, Test Accuracy: 68.30000305175781\n",
            "Epoch 25, Training Loss: 0.159633070230484, Training Accuracy: 94.27799987792969, Test Loss: 2.1329104900360107, Test Accuracy: 68.0\n"
          ],
          "name": "stdout"
        }
      ]
    },
    {
      "cell_type": "code",
      "metadata": {
        "id": "V_2pDIC-_IuT",
        "colab_type": "code",
        "colab": {
          "base_uri": "https://localhost:8080/",
          "height": 34
        },
        "outputId": "f598d64c-95fa-4433-f539-187eab4bfe6b"
      },
      "source": [
        "train_accuracy.result().numpy(), test_accuracy.result().numpy()"
      ],
      "execution_count": 73,
      "outputs": [
        {
          "output_type": "execute_result",
          "data": {
            "text/plain": [
              "(0.94278, 0.68)"
            ]
          },
          "metadata": {
            "tags": []
          },
          "execution_count": 73
        }
      ]
    },
    {
      "cell_type": "code",
      "metadata": {
        "id": "ANe7eZHU_try",
        "colab_type": "code",
        "colab": {
          "base_uri": "https://localhost:8080/",
          "height": 34
        },
        "outputId": "cc19c2e1-f134-4981-844a-903ac47cb326"
      },
      "source": [
        "train_loss.result().numpy(), test_loss.result().numpy()"
      ],
      "execution_count": 74,
      "outputs": [
        {
          "output_type": "execute_result",
          "data": {
            "text/plain": [
              "(0.15963307, 2.1329105)"
            ]
          },
          "metadata": {
            "tags": []
          },
          "execution_count": 74
        }
      ]
    },
    {
      "cell_type": "markdown",
      "metadata": {
        "id": "O-3W4FpA_3_H",
        "colab_type": "text"
      },
      "source": [
        "**Observations**\n",
        "\n",
        "From the above codes, we can see that the defined CNN model has overfitted to the dataset!\n"
      ]
    },
    {
      "cell_type": "code",
      "metadata": {
        "id": "fYGqNiBf_ozc",
        "colab_type": "code",
        "colab": {}
      },
      "source": [
        ""
      ],
      "execution_count": 0,
      "outputs": []
    }
  ]
}