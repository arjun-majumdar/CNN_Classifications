{
 "cells": [
  {
   "cell_type": "markdown",
   "id": "df34296f-d638-4bb9-9cf5-e99fa3f6f4a2",
   "metadata": {},
   "source": [
    "# LeNet-5: MNIST + PyTorch\n",
    "\n",
    "- [Automatic Mixed Precision, torch](https://pytorch.org/tutorials/recipes/recipes/amp_recipe.html)\n",
    "- Using Swish activation function, with trainable $\\beta$ parameter. Refer to [SWISH: A Self-Gated Activation Function](https://arxiv.org/pdf/1710.05941v1.pdf) paper by Prajit Ramachandran, Barret Zoph and Quoc V. Le.\n",
    "- Multi-step learning rate scheduler."
   ]
  },
  {
   "cell_type": "code",
   "execution_count": 1,
   "id": "e75dc809-a0eb-45aa-b28f-8b82fa21ef8c",
   "metadata": {},
   "outputs": [
    {
     "name": "stdout",
     "output_type": "stream",
     "text": [
      "env: CUDA_VISIBLE_DEVICES=0\n"
     ]
    }
   ],
   "source": [
    "# Specify GPU to be used-\n",
    "# %env CUDA_DEVICE_ORDER = PCI_BUS_ID\n",
    "%env CUDA_VISIBLE_DEVICES = 0"
   ]
  },
  {
   "cell_type": "code",
   "execution_count": 2,
   "id": "d17824ee-70fe-46d1-8534-bdc4b361eaa8",
   "metadata": {},
   "outputs": [],
   "source": [
    "import torch\n",
    "import torch.nn as nn\n",
    "import torchvision\n",
    "import torch.nn.functional as F\n",
    "\n",
    "import numpy as np\n",
    "import torchvision.transforms as transforms\n",
    "import matplotlib.pyplot as plt\n",
    "import os, pickle, gc, time\n",
    "from tqdm import tqdm\n",
    "from tqdm import trange"
   ]
  },
  {
   "cell_type": "code",
   "execution_count": null,
   "id": "5fbf64d8-08f8-47c3-b0ba-37ebbcf2e432",
   "metadata": {},
   "outputs": [],
   "source": []
  },
  {
   "cell_type": "code",
   "execution_count": null,
   "id": "edecad4c-5770-457a-8681-49ca83dde899",
   "metadata": {},
   "outputs": [],
   "source": []
  },
  {
   "cell_type": "code",
   "execution_count": 3,
   "id": "67872e35-6edc-47d5-9b2c-d1510d4eb033",
   "metadata": {},
   "outputs": [
    {
     "name": "stdout",
     "output_type": "stream",
     "text": [
      "torch version: 2.0.0\n",
      "Number of GPU(s) available = 1\n",
      "Current GPU: 0\n",
      "Current GPU name: NVIDIA GeForce RTX 3080 Laptop GPU\n",
      "Available device is cuda\n"
     ]
    }
   ],
   "source": [
    "print(f\"torch version: {torch.__version__}\")\n",
    "\n",
    "# Check if there are multiple devices (i.e., GPU cards)-\n",
    "print(f\"Number of GPU(s) available = {torch.cuda.device_count()}\")\n",
    "\n",
    "if torch.cuda.is_available():\n",
    "    print(f\"Current GPU: {torch.cuda.current_device()}\")\n",
    "    print(f\"Current GPU name: {torch.cuda.get_device_name(torch.cuda.current_device())}\")\n",
    "else:\n",
    "    print(\"PyTorch does not have access to GPU\")\n",
    "\n",
    "# Device configuration-\n",
    "device = torch.device('cuda' if torch.cuda.is_available() else 'cpu')\n",
    "print(f'Available device is {device}')"
   ]
  },
  {
   "cell_type": "code",
   "execution_count": null,
   "id": "d76fb781-46d0-4536-aff7-b8c1e03a0554",
   "metadata": {},
   "outputs": [],
   "source": []
  },
  {
   "cell_type": "code",
   "execution_count": null,
   "id": "904dc4ed-b264-4b4e-8445-babc15958483",
   "metadata": {},
   "outputs": [],
   "source": []
  },
  {
   "cell_type": "code",
   "execution_count": 4,
   "id": "3a8255ee-ab86-43d7-8705-b2e7676f7f56",
   "metadata": {},
   "outputs": [],
   "source": [
    "# Specify hyper-parameters\n",
    "batch_size = 256\n",
    "num_classes = 10\n",
    "num_epochs = 30"
   ]
  },
  {
   "cell_type": "code",
   "execution_count": null,
   "id": "5c465784-e0d5-4cf4-bf2a-18ce814557fb",
   "metadata": {},
   "outputs": [],
   "source": []
  },
  {
   "cell_type": "code",
   "execution_count": 5,
   "id": "f47ebf8b-6ec6-4f05-9434-a7a8ed7ebbb0",
   "metadata": {},
   "outputs": [],
   "source": [
    "# Timing utilities-\n",
    "start_time = None\n",
    "\n",
    "def start_timer():\n",
    "    global start_time\n",
    "    gc.collect()\n",
    "    torch.cuda.empty_cache()\n",
    "    torch.cuda.reset_max_memory_allocated()\n",
    "    torch.cuda.synchronize()\n",
    "    start_time = time.time()\n",
    "\n",
    "def end_timer_and_print(local_msg):\n",
    "    torch.cuda.synchronize()\n",
    "    end_time = time.time()\n",
    "    print(\"\\n\" + local_msg)\n",
    "    print(f\"Total execution time = {end_time - start_time:.3f} sec\")\n",
    "    print(f\"Max memory used by tensors = {torch.cuda.max_memory_allocated()} bytes\")"
   ]
  },
  {
   "cell_type": "code",
   "execution_count": null,
   "id": "c18c69a6-ebeb-4ffc-bc36-2387a11b5dcc",
   "metadata": {},
   "outputs": [],
   "source": []
  },
  {
   "cell_type": "code",
   "execution_count": 6,
   "id": "66b82c07-316c-478a-a19f-24f349937938",
   "metadata": {},
   "outputs": [],
   "source": [
    "# MNIST dataset statistics:\n",
    "# mean = tensor([0.1307]) & std dev = tensor([0.3081])\n",
    "mean = np.array([0.1307])\n",
    "std_dev = np.array([0.3081])\n",
    "\n",
    "transforms_apply = transforms.Compose([\n",
    "    transforms.ToTensor(),\n",
    "    transforms.Normalize(mean = mean, std = std_dev)\n",
    "    ])\n",
    "     \n",
    "\n",
    "# MNIST dataset-\n",
    "train_dataset = torchvision.datasets.MNIST(\n",
    "    root = 'C:/Users/arjun/Downloads/data/', train = True,\n",
    "    transform = transforms_apply, download = True\n",
    ")\n",
    "\n",
    "test_dataset = torchvision.datasets.MNIST(\n",
    "    root = 'C:/Users/arjun/Downloads/data/', train = False,\n",
    "    transform = transforms_apply\n",
    ")"
   ]
  },
  {
   "cell_type": "code",
   "execution_count": 7,
   "id": "25dcd8cf-f3c9-453a-aad1-a983529e5aaf",
   "metadata": {},
   "outputs": [],
   "source": [
    "# Create dataloader-\n",
    "train_loader = torch.utils.data.DataLoader(\n",
    "    dataset = train_dataset, batch_size = batch_size,\n",
    "    shuffle = True\n",
    ")\n",
    "\n",
    "test_loader = torch.utils.data.DataLoader(\n",
    "    dataset = test_dataset, batch_size = batch_size,\n",
    "    shuffle = False\n",
    ")"
   ]
  },
  {
   "cell_type": "code",
   "execution_count": null,
   "id": "8c4084f7-93b3-45e2-8b97-b4aaf37d98dd",
   "metadata": {},
   "outputs": [],
   "source": []
  },
  {
   "cell_type": "code",
   "execution_count": null,
   "id": "b8be8988-d28b-4cf9-a5e1-43aaa4a18aec",
   "metadata": {},
   "outputs": [],
   "source": []
  },
  {
   "cell_type": "markdown",
   "id": "c210b761-88ec-49f4-a056-4ccab6ec3dc1",
   "metadata": {},
   "source": [
    "### LeNet-5 CNN architecture\n",
    "\n",
    "Refer to PyTorch discussion to train scalar parameters [here](https://discuss.pytorch.org/t/scalar-parameters-not-showing-up-in-model-parameters/121450)."
   ]
  },
  {
   "cell_type": "code",
   "execution_count": 8,
   "id": "3cf2ea1b-4930-4f14-bee5-ce87d2f69c2d",
   "metadata": {},
   "outputs": [],
   "source": [
    "class LeNet5(nn.Module):\n",
    "    def __init__(self, beta = 1.0):\n",
    "        super(LeNet5, self).__init__()\n",
    "        \n",
    "        # Trainable parameter for swish activation function-\n",
    "        self.beta = nn.Parameter(torch.tensor(beta, requires_grad = True))\n",
    "        \n",
    "        self.conv1 = nn.Conv2d(\n",
    "            in_channels = 1, out_channels = 6, \n",
    "            kernel_size = 5, stride = 1,\n",
    "            padding = 0, bias = False \n",
    "        )\n",
    "        self.bn1 = nn.BatchNorm2d(num_features = 6)\n",
    "        self.pool = nn.MaxPool2d(kernel_size = 2, stride = 2)\n",
    "        self.conv2 = nn.Conv2d(\n",
    "            in_channels = 6, out_channels = 16,\n",
    "            kernel_size = 5, stride = 1,\n",
    "            padding = 0, bias = False\n",
    "        )\n",
    "        self.bn2 = nn.BatchNorm2d(num_features = 16)\n",
    "        self.fc1 = nn.Linear(\n",
    "            in_features = 256, out_features = 120,\n",
    "            bias = True\n",
    "        )\n",
    "        self.bn3 = nn.BatchNorm1d(num_features = 120)\n",
    "        self.fc2 = nn.Linear(\n",
    "            in_features = 120, out_features = 84,\n",
    "            bias = True\n",
    "        )\n",
    "        self.bn4 = nn.BatchNorm1d(num_features = 84)\n",
    "        self.fc3 = nn.Linear(\n",
    "            in_features = 84, out_features = 10,\n",
    "            bias = True\n",
    "        )\n",
    "        \n",
    "        self.initialize_weights()\n",
    "\n",
    "        \n",
    "    def initialize_weights(self):\n",
    "        for m in self.modules():\n",
    "            # print(m)\n",
    "            if isinstance(m, nn.Conv2d):\n",
    "                nn.init.kaiming_normal_(m.weight)\n",
    "                \n",
    "                # Do not initialize bias (due to batchnorm)-\n",
    "                if m.bias is not None:\n",
    "                    nn.init.constant_(m.bias, 0)\n",
    "                \n",
    "            elif isinstance(m, nn.BatchNorm2d):\n",
    "                # Standard initialization for batch normalization-\n",
    "                nn.init.constant_(m.weight, 1)\n",
    "                nn.init.constant_(m.bias, 0)\n",
    "\n",
    "            elif isinstance(m, nn.Linear):\n",
    "                nn.init.kaiming_normal_(m.weight)\n",
    "                nn.init.constant_(m.bias, 0)\n",
    "    \n",
    "    \n",
    "    def swish_fn(self, x):\n",
    "        return x * torch.sigmoid(x * self.beta)\n",
    "\n",
    "    \n",
    "    def forward(self, x):\n",
    "        '''\n",
    "        x = nn.SiLU()(self.pool1(self.bn1(self.conv1(x))))\n",
    "        x = nn.SiLU()(self.pool1(self.bn2(self.conv2(x))))\n",
    "        x = x.view(-1, 256)\n",
    "        x = nn.SiLU()(self.bn3(self.fc1(x)))\n",
    "        x = nn.SiLU()(self.bn4(self.fc2(x)))\n",
    "        '''\n",
    "        x = self.pool(self.bn1(self.conv1(x)))\n",
    "        x = self.swish_fn(x = x)\n",
    "        x = self.pool(self.bn2(self.conv2(x)))\n",
    "        x = self.swish_fn(x = x)\n",
    "        x = x.view(-1, 256)\n",
    "        x = self.bn3(self.fc1(x))\n",
    "        x = self.swish_fn(x = x)\n",
    "        x = self.bn4(self.fc2(x))\n",
    "        x = self.swish_fn(x = x)\n",
    "        x = self.fc3(x)\n",
    "        return x\n",
    "    "
   ]
  },
  {
   "cell_type": "code",
   "execution_count": 9,
   "id": "f664a322-3222-4aea-869b-dbbf7cd55108",
   "metadata": {},
   "outputs": [],
   "source": [
    "# Initialize an instance of LeNet-5 CNN architecture-\n",
    "model = LeNet5(beta = 1.0).to(device)"
   ]
  },
  {
   "cell_type": "code",
   "execution_count": null,
   "id": "4a94eaea-a969-4f9a-9b95-1a547bfd5da4",
   "metadata": {},
   "outputs": [],
   "source": []
  },
  {
   "cell_type": "code",
   "execution_count": 10,
   "id": "32a8f321-c371-4dfc-9e18-ccefe4ace68a",
   "metadata": {},
   "outputs": [
    {
     "name": "stdout",
     "output_type": "stream",
     "text": [
      "i: 0, shape: torch.Size([])\n",
      "i: 1, shape: torch.Size([6, 1, 5, 5])\n",
      "i: 2, shape: torch.Size([6])\n",
      "i: 3, shape: torch.Size([6])\n",
      "i: 4, shape: torch.Size([16, 6, 5, 5])\n",
      "i: 5, shape: torch.Size([16])\n",
      "i: 6, shape: torch.Size([16])\n",
      "i: 7, shape: torch.Size([120, 256])\n",
      "i: 8, shape: torch.Size([120])\n",
      "i: 9, shape: torch.Size([120])\n",
      "i: 10, shape: torch.Size([120])\n",
      "i: 11, shape: torch.Size([84, 120])\n",
      "i: 12, shape: torch.Size([84])\n",
      "i: 13, shape: torch.Size([84])\n",
      "i: 14, shape: torch.Size([84])\n",
      "i: 15, shape: torch.Size([10, 84])\n",
      "i: 16, shape: torch.Size([10])\n"
     ]
    }
   ],
   "source": [
    "# Sanity checks for verifying that beta is registered-\n",
    "for i, param in enumerate(model.parameters()):\n",
    "    print(f\"i: {i}, shape: {param.shape}\")"
   ]
  },
  {
   "cell_type": "code",
   "execution_count": 11,
   "id": "f0cacd43-af2a-41af-8d36-3d3788a0a155",
   "metadata": {},
   "outputs": [
    {
     "data": {
      "text/plain": [
       "True"
      ]
     },
     "execution_count": 11,
     "metadata": {},
     "output_type": "execute_result"
    }
   ],
   "source": [
    "'beta' in model.state_dict().keys()"
   ]
  },
  {
   "cell_type": "code",
   "execution_count": null,
   "id": "db4fa840-bfdc-4ec1-bccb-92735b6d193b",
   "metadata": {},
   "outputs": [],
   "source": []
  },
  {
   "cell_type": "code",
   "execution_count": 12,
   "id": "edcec8d6-d5b3-4c79-ad6b-938fae7a2189",
   "metadata": {},
   "outputs": [
    {
     "name": "stdout",
     "output_type": "stream",
     "text": [
      "CNN model has 44857 parameters\n"
     ]
    }
   ],
   "source": [
    "# Count number of layer-wise parameters and total parameters-\n",
    "tot_params = 0\n",
    "for param in model.parameters():\n",
    "    # print(f\"layer.shape = {param.shape} has {param.nelement()} parameters\")\n",
    "    tot_params += param.nelement()\n",
    "\n",
    "print(f\"CNN model has {tot_params} parameters\")"
   ]
  },
  {
   "cell_type": "code",
   "execution_count": null,
   "id": "a2dbb42a-5d94-43d6-8f23-1112f8f733cd",
   "metadata": {},
   "outputs": [],
   "source": []
  },
  {
   "cell_type": "code",
   "execution_count": 48,
   "id": "7cb5b189-99dd-4a95-b0be-d7e558141c8f",
   "metadata": {},
   "outputs": [],
   "source": [
    "# Define cost function-\n",
    "loss = nn.CrossEntropyLoss().cuda()"
   ]
  },
  {
   "cell_type": "markdown",
   "id": "851c4c99-71b7-4a85-8f82-f74c0d40a145",
   "metadata": {},
   "source": [
    "[Giving multiple parameters in optimizer](https://discuss.pytorch.org/t/giving-multiple-parameters-in-optimizer/869/5)"
   ]
  },
  {
   "cell_type": "code",
   "execution_count": 14,
   "id": "d719dc30-a160-402c-8d56-390e8092f319",
   "metadata": {},
   "outputs": [],
   "source": [
    "# Multiple parameters as input to optimizer-\n",
    "# params = list(fc1.parameters()) + list(fc2.parameters())\n",
    "# torch.optim.SGD(params, lr=0.01)\n",
    "\n",
    "# new_params = list(model.parameters()) + list(model.beta)\n",
    "\n",
    "# Defing SGD optimizer-\n",
    "'''\n",
    "optimizer = torch.optim.SGD(\n",
    "    params = model.parameters(), lr = 0.1,\n",
    "    # params = new_params, lr = 0.1,\n",
    "    momentum = 0.9, weight_decay = 5e-4\n",
    ")\n",
    "'''\n",
    "optimizer = torch.optim.Adam(\n",
    "    params = model.parameters(), lr = 0.001,\n",
    "    betas = (0.9, 0.999), eps = 1e-08,\n",
    "    weight_decay = 5e-4, amsgrad = False\n",
    ")"
   ]
  },
  {
   "cell_type": "code",
   "execution_count": null,
   "id": "a2c73a5c-5a18-4f6a-a57d-f8d1f74d3f44",
   "metadata": {},
   "outputs": [],
   "source": [
    "'''\n",
    "# Decay lr at 20th, 40th, 60th and 75th epochs by a factor of 10-\n",
    "scheduler = torch.optim.lr_scheduler.MultiStepLR(\n",
    "    optimizer = optimizer, milestones = [20, 40, 60, 75],\n",
    "    gamma = 0.1\n",
    ")\n",
    "'''"
   ]
  },
  {
   "cell_type": "code",
   "execution_count": null,
   "id": "49bbb55d-8e6e-498b-aaf2-310524b87c66",
   "metadata": {},
   "outputs": [],
   "source": []
  },
  {
   "cell_type": "markdown",
   "id": "2f20564a-20d0-4adb-abfa-079bd53d1c88",
   "metadata": {},
   "source": [
    "#### Default Precision\n",
    "\n",
    "Without ```torch.cuda.amp```, the following simple network executes all ops in default precision (torch.float32):\n",
    "\n",
    "```\n",
    "net = make_model(in_size, out_size, num_layers)\n",
    "opt = torch.optim.SGD(net.parameters(), lr=0.001)\n",
    "\n",
    "start_timer()\n",
    "for epoch in range(epochs):\n",
    "    for input, target in zip(data, targets):\n",
    "        output = net(input)\n",
    "        loss = loss_fn(output, target)\n",
    "        loss.backward()\n",
    "        opt.step()\n",
    "        opt.zero_grad() # set_to_none=True here can modestly improve performance\n",
    "end_timer_and_print(\"Default precision:\")\n",
    "```"
   ]
  },
  {
   "cell_type": "code",
   "execution_count": 15,
   "id": "547073ae-541a-49f8-bdb7-4f4443f4e668",
   "metadata": {},
   "outputs": [],
   "source": [
    "def train_one_epoch(model, train_loader, train_dataset):\n",
    "    running_loss = 0.0\n",
    "    running_corrects = 0.0\n",
    "    \n",
    "    model.to(device)\n",
    "    model.train()\n",
    "    \n",
    "    with tqdm(train_loader, unit = 'batch') as tepoch:\n",
    "        for images, labels in tepoch:\n",
    "            tepoch.set_description(f\"Training: \")\n",
    "            \n",
    "            images = images.to(device)\n",
    "            labels = labels.to(device)\n",
    "            \n",
    "            # Get model predictions-\n",
    "            outputs = model(images)\n",
    "            \n",
    "            # Empty accumulated gradients-\n",
    "            optimizer.zero_grad()\n",
    "            \n",
    "            # Compute loss-\n",
    "            J = loss(outputs, labels)\n",
    "            \n",
    "            # Perform backprop-\n",
    "            J.backward()\n",
    "            \n",
    "            # Update parameters-\n",
    "            optimizer.step()\n",
    "            \n",
    "            # Compute model's performance statistics-\n",
    "            running_loss += J.item() * images.size(0)\n",
    "            _, predicted = torch.max(outputs, 1)\n",
    "            running_corrects += torch.sum(predicted == labels.data)\n",
    "            \n",
    "            tepoch.set_postfix(\n",
    "                loss = running_loss / len(train_dataset),\n",
    "                accuracy = (running_corrects.double().cpu().numpy() / len(train_dataset)) * 100\n",
    "            )\n",
    "            \n",
    "    \n",
    "    train_loss = running_loss / len(train_dataset)\n",
    "    train_acc = (running_corrects.double() / len(train_dataset)) * 100\n",
    "    \n",
    "\n",
    "    # return running_loss, running_corrects\n",
    "    return train_loss, train_acc.detach().cpu().item()\n",
    "\n",
    "\n",
    "def test_one_epoch(model, test_loader, test_dataset):\n",
    "    total = 0.0\n",
    "    correct = 0.0\n",
    "    running_loss_val = 0.0\n",
    "    \n",
    "    model.to(device)\n",
    "    model.eval()\n",
    "\n",
    "    with torch.no_grad():\n",
    "        with tqdm(test_loader, unit = 'batch') as tepoch:\n",
    "            for images, labels in tepoch:\n",
    "                tepoch.set_description(f\"Validation: \")\n",
    "                \n",
    "                images = images.to(device)\n",
    "                labels = labels.to(device)\n",
    "                \n",
    "                # Predict using trained model-\n",
    "                outputs = model(images)\n",
    "                _, y_pred = torch.max(outputs, 1)\n",
    "                \n",
    "                # Compute validation loss-\n",
    "                J_val = loss(outputs, labels)\n",
    "                \n",
    "                running_loss_val += J_val.item() * labels.size(0)\n",
    "    \n",
    "                # Total number of labels-\n",
    "                total += labels.size(0)\n",
    "\n",
    "                # Total number of correct predictions-\n",
    "                correct += (y_pred == labels).sum()\n",
    "                \n",
    "                tepoch.set_postfix(\n",
    "                    val_loss = running_loss_val / len(test_dataset),\n",
    "                    val_acc = 100 * (correct.cpu().numpy() / total)\n",
    "                )\n",
    "            \n",
    "        \n",
    "    # return (running_loss_val, correct, total)\n",
    "    val_loss = running_loss_val / len(test_dataset)\n",
    "    val_acc = (correct / total) * 100\n",
    "\n",
    "    return val_loss, val_acc.detach().cpu().item()\n"
   ]
  },
  {
   "cell_type": "code",
   "execution_count": null,
   "id": "8b01e303-3a2c-4c6d-8e1c-e18867c7df8f",
   "metadata": {},
   "outputs": [],
   "source": []
  },
  {
   "cell_type": "markdown",
   "id": "4c801f94-646a-4b1d-9e51-44be89d1d5e4",
   "metadata": {},
   "source": [
    "#### Adding autocast\n",
    "\n",
    "Instances of [torch.autocast](https://pytorch.org/docs/stable/amp.html#autocasting) serve as context managers that allow regions of your script to run in mixed precision.\n",
    "\n",
    "In these regions, CUDA ops run in a dtype chosen by autocast to improve performance while maintaining accuracy. See the [Autocast Op Reference](https://pytorch.org/docs/stable/amp.html#autocast-op-reference) for details on what precision autocast chooses for each op, and under what circumstances.\n",
    "\n",
    "```\n",
    "for epoch in range(0): # 0 epochs, this section is for illustration only\n",
    "    for input, target in zip(data, targets):\n",
    "        # Runs the forward pass under autocast.\n",
    "        with torch.autocast(device_type='cuda', dtype=torch.float16):\n",
    "            output = net(input)\n",
    "            # output is float16 because linear layers autocast to float16.\n",
    "            assert output.dtype is torch.float16\n",
    "\n",
    "            loss = loss_fn(output, target)\n",
    "            # loss is float32 because mse_loss layers autocast to float32.\n",
    "            assert loss.dtype is torch.float32\n",
    "\n",
    "        # Exits autocast before backward().\n",
    "        # Backward passes under autocast are not recommended.\n",
    "        # Backward ops run in the same dtype autocast chose for corresponding forward ops.\n",
    "        loss.backward()\n",
    "        opt.step()\n",
    "        opt.zero_grad() # set_to_none=True here can modestly improve performance\n",
    "```"
   ]
  },
  {
   "cell_type": "markdown",
   "id": "dd7c0b3a-1a9d-4be9-9786-c865e6b06584",
   "metadata": {},
   "source": [
    "#### Adding GradScaler\n",
    "\n",
    "[Gradient scaling](https://pytorch.org/docs/stable/amp.html#gradient-scaling) helps prevent gradients with small magnitudes from flushing to zero (“underflowing”) when training with mixed precision.\n",
    "\n",
    "[torch.cuda.amp.GradScaler](https://pytorch.org/docs/stable/amp.html#torch.cuda.amp.GradScaler) performs the steps of gradient scaling conveniently.\n",
    "\n",
    "```\n",
    "# Constructs scaler once, at the beginning of the convergence run, using default args.\n",
    "# If your network fails to converge with default GradScaler args, please file an issue.\n",
    "# The same GradScaler instance should be used for the entire convergence run.\n",
    "# If you perform multiple convergence runs in the same script, each run should use\n",
    "# a dedicated fresh GradScaler instance.  GradScaler instances are lightweight.\n",
    "scaler = torch.cuda.amp.GradScaler()\n",
    "\n",
    "for epoch in range(0): # 0 epochs, this section is for illustration only\n",
    "    for input, target in zip(data, targets):\n",
    "        with torch.autocast(device_type='cuda', dtype=torch.float16):\n",
    "            output = net(input)\n",
    "            loss = loss_fn(output, target)\n",
    "\n",
    "        # Scales loss.  Calls backward() on scaled loss to create scaled gradients.\n",
    "        scaler.scale(loss).backward()\n",
    "\n",
    "        # scaler.step() first unscales the gradients of the optimizer's assigned params.\n",
    "        # If these gradients do not contain infs or NaNs, optimizer.step() is then called,\n",
    "        # otherwise, optimizer.step() is skipped.\n",
    "        scaler.step(opt)\n",
    "\n",
    "        # Updates the scale for next iteration.\n",
    "        scaler.update()\n",
    "\n",
    "        opt.zero_grad() # set_to_none=True here can modestly improve performance\n",
    "```"
   ]
  },
  {
   "cell_type": "markdown",
   "id": "84bbbdef-a8a8-4860-bb78-0167b6067d93",
   "metadata": {},
   "source": [
    "#### All together: “Automatic Mixed Precision”\n",
    "\n",
    "(The following also demonstrates ```enabled```, an optional convenience argument to ```autocast``` and ```GradScaler```. If False, ```autocast``` and ```GradScaler```‘s calls become no-ops. This allows switching between default precision and mixed precision without if/else statements.)\n",
    "\n",
    "```\n",
    "use_amp = True\n",
    "\n",
    "net = make_model(in_size, out_size, num_layers)\n",
    "opt = torch.optim.SGD(net.parameters(), lr=0.001)\n",
    "scaler = torch.cuda.amp.GradScaler(enabled=use_amp)\n",
    "\n",
    "start_timer()\n",
    "for epoch in range(epochs):\n",
    "    for input, target in zip(data, targets):\n",
    "        with torch.autocast(device_type='cuda', dtype=torch.float16, enabled=use_amp):\n",
    "            output = net(input)\n",
    "            loss = loss_fn(output, target)\n",
    "        scaler.scale(loss).backward()\n",
    "        scaler.step(opt)\n",
    "        scaler.update()\n",
    "        opt.zero_grad() # set_to_none=True here can modestly improve performance\n",
    "end_timer_and_print(\"Mixed precision:\")\n",
    "```"
   ]
  },
  {
   "cell_type": "markdown",
   "id": "9214a74c-37cf-422c-abf4-33230d192962",
   "metadata": {},
   "source": [
    "#### Inspecting/modifying gradients (e.g., clipping)\n",
    "\n",
    "All gradients produced by ```scaler.scale(loss).backward()``` are scaled. If you wish to modify or inspect the parameters’ ```.grad``` attributes between ```backward()``` and ```scaler.step(optimizer)```, you should unscale them first using [scaler.unscale_(optimizer)](https://pytorch.org/docs/stable/amp.html#torch.cuda.amp.GradScaler.unscale_).\n",
    "\n",
    "```\n",
    "for epoch in range(0): # 0 epochs, this section is for illustration only\n",
    "    for input, target in zip(data, targets):\n",
    "        with torch.autocast(device_type='cuda', dtype=torch.float16):\n",
    "            output = net(input)\n",
    "            loss = loss_fn(output, target)\n",
    "        scaler.scale(loss).backward()\n",
    "\n",
    "        # Unscales the gradients of optimizer's assigned params in-place\n",
    "        scaler.unscale_(opt)\n",
    "\n",
    "        # Since the gradients of optimizer's assigned params are now unscaled, clips as usual.\n",
    "        # You may use the same value for max_norm here as you would without gradient scaling.\n",
    "        torch.nn.utils.clip_grad_norm_(net.parameters(), max_norm=0.1)\n",
    "\n",
    "        scaler.step(opt)\n",
    "        scaler.update()\n",
    "        opt.zero_grad() # set_to_none=True here can modestly improve performance\n",
    "```"
   ]
  },
  {
   "cell_type": "code",
   "execution_count": 16,
   "id": "536620c9-9be9-42b6-b9a3-57feab51e94d",
   "metadata": {},
   "outputs": [],
   "source": [
    "use_amp = True\n",
    "scaler = torch.cuda.amp.GradScaler(enabled = use_amp)"
   ]
  },
  {
   "cell_type": "code",
   "execution_count": 17,
   "id": "fcb525d1-8cd5-469b-90f4-b2ce2f391c46",
   "metadata": {},
   "outputs": [],
   "source": [
    "def train_one_epoch_mixedprecision(model, train_loader, train_dataset):\n",
    "    running_loss = 0.0\n",
    "    running_corrects = 0.0\n",
    "    \n",
    "    model.to(device)\n",
    "    model.train()\n",
    "    \n",
    "    with tqdm(train_loader, unit = 'batch') as tepoch:\n",
    "        for images, labels in tepoch:\n",
    "            tepoch.set_description(f\"Training: \")\n",
    "            with torch.autocast(\n",
    "                device_type = 'cuda', dtype = torch.float16,\n",
    "                enabled = use_amp\n",
    "            ):\n",
    "            \n",
    "                images = images.to(device)\n",
    "                labels = labels.to(device)\n",
    "\n",
    "                # Get model predictions-\n",
    "                outputs = model(images)\n",
    "\n",
    "                # Compute loss-\n",
    "                J = loss(outputs, labels)\n",
    "            \n",
    "            # Perform backprop-\n",
    "            scaler.scale(J).backward()\n",
    "            \n",
    "            # Update parameters-\n",
    "            scaler.step(optimizer = optimizer)\n",
    "            scaler.update()\n",
    "            \n",
    "            # Empty accumulated gradients-\n",
    "            optimizer.zero_grad()\n",
    "            \n",
    "            # Compute model's performance statistics-\n",
    "            # running_loss += J.item() * images.size(0)\n",
    "            running_loss += scaler.scale(J).item() * images.size(0)\n",
    "            _, predicted = torch.max(outputs, 1)\n",
    "            running_corrects += torch.sum(predicted == labels.data)\n",
    "            \n",
    "            tepoch.set_postfix(\n",
    "                loss = running_loss / len(train_dataset),\n",
    "                accuracy = (running_corrects.double().cpu().numpy() / len(train_dataset)) * 100\n",
    "            )\n",
    "            \n",
    "    \n",
    "    train_loss = running_loss / len(train_dataset)\n",
    "    train_acc = (running_corrects.double() / len(train_dataset)) * 100\n",
    "    \n",
    "\n",
    "    # return running_loss, running_corrects\n",
    "    return train_loss, train_acc.detach().cpu().item()\n",
    "\n",
    "\n",
    "def test_one_epoch_mixedprecision(model, test_loader, test_dataset):\n",
    "    total = 0.0\n",
    "    correct = 0.0\n",
    "    running_loss_val = 0.0\n",
    "    \n",
    "    model.to(device)\n",
    "    model.eval()\n",
    "\n",
    "    with torch.no_grad():\n",
    "        with tqdm(test_loader, unit = 'batch') as tepoch:\n",
    "            for images, labels in tepoch:\n",
    "                tepoch.set_description(f\"Validation: \")\n",
    "                with torch.autocast(\n",
    "                device_type = 'cuda', dtype = torch.float16,\n",
    "                enabled = use_amp\n",
    "            ):\n",
    "                \n",
    "                    images = images.to(device)\n",
    "                    labels = labels.to(device)\n",
    "\n",
    "                    # Predict using trained model-\n",
    "                    outputs = model(images)\n",
    "                    _, y_pred = torch.max(outputs, 1)\n",
    "\n",
    "                    # Compute validation loss-\n",
    "                    J_val = loss(outputs, labels)\n",
    "                \n",
    "                scaler.scale(J_val)\n",
    "                # running_loss_val += J_val.item() * labels.size(0)\n",
    "                running_loss_val += scaler.scale(J_val).item() * labels.size(0)\n",
    "    \n",
    "                # Total number of labels-\n",
    "                total += labels.size(0)\n",
    "\n",
    "                # Total number of correct predictions-\n",
    "                correct += (y_pred == labels).sum()\n",
    "                \n",
    "                tepoch.set_postfix(\n",
    "                    val_loss = running_loss_val / len(test_dataset),\n",
    "                    val_acc = 100 * (correct.cpu().numpy() / total)\n",
    "                )\n",
    "            \n",
    "        \n",
    "    # return (running_loss_val, correct, total)\n",
    "    val_loss = running_loss_val / len(test_dataset)\n",
    "    val_acc = (correct / total) * 100\n",
    "\n",
    "    return val_loss, val_acc.detach().cpu().item()\n"
   ]
  },
  {
   "cell_type": "code",
   "execution_count": 19,
   "id": "046caf2d-0612-4052-9b18-371d6e3160e9",
   "metadata": {},
   "outputs": [
    {
     "name": "stderr",
     "output_type": "stream",
     "text": [
      "Training: : 100%|████████████████████████████████████| 235/235 [00:11<00:00, 19.63batch/s, accuracy=98.7, loss=3.03e+3]\n"
     ]
    },
    {
     "name": "stdout",
     "output_type": "stream",
     "text": [
      "\n",
      "Mixed precision:\n",
      "Total execution time = 11.975 sec\n",
      "Max memory used by tensors = 28192256 bytes\n"
     ]
    },
    {
     "name": "stderr",
     "output_type": "stream",
     "text": [
      "Training: : 100%|█████████████████████████████████████| 235/235 [00:12<00:00, 19.31batch/s, accuracy=99.1, loss=0.0352]"
     ]
    },
    {
     "name": "stdout",
     "output_type": "stream",
     "text": [
      "\n",
      "Default precision:\n",
      "Total execution time = 12.175 sec\n",
      "Max memory used by tensors = 34360320 bytes\n"
     ]
    },
    {
     "name": "stderr",
     "output_type": "stream",
     "text": [
      "\n"
     ]
    }
   ],
   "source": [
    "\n",
    "start_timer()\n",
    "train_loss, train_acc = train_one_epoch_mixedprecision(\n",
    "        model = model, train_loader = train_loader,\n",
    "        train_dataset = train_dataset\n",
    "    )\n",
    "end_timer_and_print(\"Mixed precision:\")\n",
    "\n",
    "start_timer()\n",
    "train_loss, train_acc = train_one_epoch(\n",
    "        model = model, train_loader = train_loader,\n",
    "        train_dataset = train_dataset\n",
    "    )\n",
    "end_timer_and_print(\"Default precision:\")\n"
   ]
  },
  {
   "cell_type": "code",
   "execution_count": 20,
   "id": "4b503984-3749-40be-8ccf-7ae827d18cec",
   "metadata": {},
   "outputs": [
    {
     "name": "stderr",
     "output_type": "stream",
     "text": [
      "Validation: : 100%|█████████████████████████████████| 40/40 [00:01<00:00, 22.03batch/s, val_acc=98.8, val_loss=2.66e+3]\n"
     ]
    },
    {
     "name": "stdout",
     "output_type": "stream",
     "text": [
      "\n",
      "Mixed precision:\n",
      "Total execution time = 1.819 sec\n",
      "Max memory used by tensors = 22577152 bytes\n"
     ]
    },
    {
     "name": "stderr",
     "output_type": "stream",
     "text": [
      "Validation: : 100%|██████████████████████████████████| 40/40 [00:01<00:00, 23.13batch/s, val_acc=98.8, val_loss=0.0405]"
     ]
    },
    {
     "name": "stdout",
     "output_type": "stream",
     "text": [
      "\n",
      "Default precision:\n",
      "Total execution time = 1.729 sec\n",
      "Max memory used by tensors = 25678848 bytes\n"
     ]
    },
    {
     "name": "stderr",
     "output_type": "stream",
     "text": [
      "\n"
     ]
    }
   ],
   "source": [
    "start_timer()\n",
    "test_loss, test_acc = test_one_epoch_mixedprecision(\n",
    "        model = model, test_loader = test_loader,\n",
    "        test_dataset = test_dataset\n",
    "    )\n",
    "end_timer_and_print(\"Mixed precision:\")\n",
    "\n",
    "start_timer()\n",
    "test_loss, test_acc = test_one_epoch(\n",
    "        model = model, test_loader = test_loader,\n",
    "        test_dataset = test_dataset\n",
    "    )\n",
    "end_timer_and_print(\"Default precision:\")\n"
   ]
  },
  {
   "cell_type": "code",
   "execution_count": null,
   "id": "9ea4ddcd-f106-49c5-8e80-599c9b5bb2c6",
   "metadata": {},
   "outputs": [],
   "source": []
  },
  {
   "cell_type": "code",
   "execution_count": null,
   "id": "4476235a-d46f-45c7-a8b4-6d15fbee33eb",
   "metadata": {},
   "outputs": [],
   "source": []
  },
  {
   "cell_type": "code",
   "execution_count": 21,
   "id": "f9e22a5f-9032-441f-86b1-488ef8cf41de",
   "metadata": {},
   "outputs": [],
   "source": [
    "# Python3 dict to contain training metrics-\n",
    "train_history = {}\n",
    "\n",
    "# Variable to store 'best' model-\n",
    "best_val_acc = 0"
   ]
  },
  {
   "cell_type": "code",
   "execution_count": null,
   "id": "c198841b-72fb-4f92-913e-75e18b5c74ad",
   "metadata": {},
   "outputs": [],
   "source": []
  },
  {
   "cell_type": "code",
   "execution_count": 22,
   "id": "d492930d-ef4b-4751-b475-4897c1648db1",
   "metadata": {},
   "outputs": [
    {
     "name": "stderr",
     "output_type": "stream",
     "text": [
      "Training: : 100%|████████████████████████████████████| 235/235 [00:14<00:00, 16.25batch/s, accuracy=99.2, loss=1.89e+3]\n",
      "Validation: : 100%|█████████████████████████████████| 40/40 [00:02<00:00, 18.82batch/s, val_acc=98.8, val_loss=2.36e+3]\n"
     ]
    },
    {
     "name": "stdout",
     "output_type": "stream",
     "text": [
      "Epoch: 1; loss = 1886.9572, acc = 99.18%  val loss = 2362.8918, val acc = 98.82%, beta = 1.559879 & LR = 0.00100\n",
      "Saving model with highest val_acc = 98.82%\n",
      "\n"
     ]
    },
    {
     "name": "stderr",
     "output_type": "stream",
     "text": [
      "Training: : 100%|████████████████████████████████████| 235/235 [00:14<00:00, 16.45batch/s, accuracy=99.3, loss=1.59e+3]\n",
      "Validation: : 100%|█████████████████████████████████| 40/40 [00:01<00:00, 20.49batch/s, val_acc=98.8, val_loss=2.73e+3]\n"
     ]
    },
    {
     "name": "stdout",
     "output_type": "stream",
     "text": [
      "Epoch: 2; loss = 1593.0909, acc = 99.34%  val loss = 2731.6328, val acc = 98.76%, beta = 1.648291 & LR = 0.00100\n"
     ]
    },
    {
     "name": "stderr",
     "output_type": "stream",
     "text": [
      "Training: : 100%|████████████████████████████████████| 235/235 [00:13<00:00, 17.37batch/s, accuracy=99.5, loss=1.35e+3]\n",
      "Validation: : 100%|█████████████████████████████████| 40/40 [00:02<00:00, 18.88batch/s, val_acc=98.8, val_loss=2.46e+3]\n"
     ]
    },
    {
     "name": "stdout",
     "output_type": "stream",
     "text": [
      "Epoch: 3; loss = 1350.2170, acc = 99.46%  val loss = 2462.5070, val acc = 98.78%, beta = 1.735514 & LR = 0.00100\n"
     ]
    },
    {
     "name": "stderr",
     "output_type": "stream",
     "text": [
      "Training: : 100%|████████████████████████████████████| 235/235 [00:13<00:00, 17.89batch/s, accuracy=99.5, loss=1.25e+3]\n",
      "Validation: : 100%|█████████████████████████████████| 40/40 [00:01<00:00, 22.77batch/s, val_acc=98.9, val_loss=2.48e+3]\n"
     ]
    },
    {
     "name": "stdout",
     "output_type": "stream",
     "text": [
      "Epoch: 4; loss = 1252.8159, acc = 99.50%  val loss = 2481.8336, val acc = 98.85%, beta = 1.822876 & LR = 0.00100\n",
      "Saving model with highest val_acc = 98.85%\n",
      "\n"
     ]
    },
    {
     "name": "stderr",
     "output_type": "stream",
     "text": [
      "Training: : 100%|████████████████████████████████████| 235/235 [00:13<00:00, 17.42batch/s, accuracy=99.5, loss=1.17e+3]\n",
      "Validation: : 100%|███████████████████████████████████| 40/40 [00:01<00:00, 21.07batch/s, val_acc=99, val_loss=2.08e+3]\n"
     ]
    },
    {
     "name": "stdout",
     "output_type": "stream",
     "text": [
      "Epoch: 5; loss = 1172.9846, acc = 99.51%  val loss = 2081.8763, val acc = 98.99%, beta = 1.917096 & LR = 0.00100\n",
      "Saving model with highest val_acc = 98.99%\n",
      "\n"
     ]
    },
    {
     "name": "stderr",
     "output_type": "stream",
     "text": [
      "Training: : 100%|████████████████████████████████████| 235/235 [00:13<00:00, 17.91batch/s, accuracy=99.6, loss=1.04e+3]\n",
      "Validation: : 100%|█████████████████████████████████| 40/40 [00:01<00:00, 20.92batch/s, val_acc=98.7, val_loss=3.01e+3]\n"
     ]
    },
    {
     "name": "stdout",
     "output_type": "stream",
     "text": [
      "Epoch: 6; loss = 1041.3140, acc = 99.58%  val loss = 3012.1032, val acc = 98.65%, beta = 1.999009 & LR = 0.00100\n"
     ]
    },
    {
     "name": "stderr",
     "output_type": "stream",
     "text": [
      "Training: : 100%|████████████████████████████████████| 235/235 [00:13<00:00, 17.46batch/s, accuracy=99.6, loss=1.58e+3]\n",
      "Validation: : 100%|█████████████████████████████████| 40/40 [00:01<00:00, 20.48batch/s, val_acc=98.7, val_loss=5.19e+3]\n"
     ]
    },
    {
     "name": "stdout",
     "output_type": "stream",
     "text": [
      "Epoch: 7; loss = 1583.6457, acc = 99.59%  val loss = 5186.1458, val acc = 98.66%, beta = 2.091959 & LR = 0.00100\n"
     ]
    },
    {
     "name": "stderr",
     "output_type": "stream",
     "text": [
      "Training: : 100%|████████████████████████████████████| 235/235 [00:13<00:00, 17.01batch/s, accuracy=99.6, loss=1.98e+3]\n",
      "Validation: : 100%|█████████████████████████████████| 40/40 [00:02<00:00, 18.28batch/s, val_acc=98.9, val_loss=4.37e+3]\n"
     ]
    },
    {
     "name": "stdout",
     "output_type": "stream",
     "text": [
      "Epoch: 8; loss = 1975.1314, acc = 99.61%  val loss = 4367.7401, val acc = 98.94%, beta = 2.177973 & LR = 0.00100\n"
     ]
    },
    {
     "name": "stderr",
     "output_type": "stream",
     "text": [
      "Training: : 100%|████████████████████████████████████| 235/235 [00:14<00:00, 16.38batch/s, accuracy=99.6, loss=1.88e+3]\n",
      "Validation: : 100%|█████████████████████████████████| 40/40 [00:02<00:00, 19.56batch/s, val_acc=98.9, val_loss=4.62e+3]\n"
     ]
    },
    {
     "name": "stdout",
     "output_type": "stream",
     "text": [
      "Epoch: 9; loss = 1884.8895, acc = 99.65%  val loss = 4623.7161, val acc = 98.92%, beta = 2.262912 & LR = 0.00100\n"
     ]
    },
    {
     "name": "stderr",
     "output_type": "stream",
     "text": [
      "Training: : 100%|████████████████████████████████████| 235/235 [00:13<00:00, 17.74batch/s, accuracy=99.7, loss=1.76e+3]\n",
      "Validation: : 100%|██████████████████████████████████| 40/40 [00:01<00:00, 22.58batch/s, val_acc=98.9, val_loss=4.8e+3]\n"
     ]
    },
    {
     "name": "stdout",
     "output_type": "stream",
     "text": [
      "Epoch: 10; loss = 1755.5616, acc = 99.69%  val loss = 4800.1152, val acc = 98.87%, beta = 2.344560 & LR = 0.00100\n"
     ]
    },
    {
     "name": "stderr",
     "output_type": "stream",
     "text": [
      "Training: : 100%|█████████████████████████████████████| 235/235 [00:14<00:00, 16.61batch/s, accuracy=99.7, loss=1.8e+3]\n",
      "Validation: : 100%|█████████████████████████████████| 40/40 [00:02<00:00, 18.25batch/s, val_acc=98.9, val_loss=4.66e+3]\n"
     ]
    },
    {
     "name": "stdout",
     "output_type": "stream",
     "text": [
      "Epoch: 11; loss = 1798.4288, acc = 99.69%  val loss = 4663.4645, val acc = 98.86%, beta = 2.425687 & LR = 0.00100\n"
     ]
    },
    {
     "name": "stderr",
     "output_type": "stream",
     "text": [
      "Training: : 100%|████████████████████████████████████| 235/235 [00:12<00:00, 18.27batch/s, accuracy=99.7, loss=1.59e+3]\n",
      "Validation: : 100%|█████████████████████████████████| 40/40 [00:01<00:00, 22.90batch/s, val_acc=98.9, val_loss=5.09e+3]\n"
     ]
    },
    {
     "name": "stdout",
     "output_type": "stream",
     "text": [
      "Epoch: 12; loss = 1585.8878, acc = 99.73%  val loss = 5092.6363, val acc = 98.91%, beta = 2.502721 & LR = 0.00100\n"
     ]
    },
    {
     "name": "stderr",
     "output_type": "stream",
     "text": [
      "Training: : 100%|████████████████████████████████████| 235/235 [00:12<00:00, 19.45batch/s, accuracy=99.7, loss=1.61e+3]\n",
      "Validation: : 100%|███████████████████████████████████| 40/40 [00:01<00:00, 23.26batch/s, val_acc=99, val_loss=4.31e+3]\n"
     ]
    },
    {
     "name": "stdout",
     "output_type": "stream",
     "text": [
      "Epoch: 13; loss = 1610.0857, acc = 99.72%  val loss = 4312.9143, val acc = 98.99%, beta = 2.572848 & LR = 0.00100\n"
     ]
    },
    {
     "name": "stderr",
     "output_type": "stream",
     "text": [
      "Training: : 100%|████████████████████████████████████| 235/235 [00:12<00:00, 19.40batch/s, accuracy=99.7, loss=1.55e+3]\n",
      "Validation: : 100%|█████████████████████████████████| 40/40 [00:01<00:00, 20.70batch/s, val_acc=98.9, val_loss=4.69e+3]\n"
     ]
    },
    {
     "name": "stdout",
     "output_type": "stream",
     "text": [
      "Epoch: 14; loss = 1546.4952, acc = 99.71%  val loss = 4692.5548, val acc = 98.94%, beta = 2.645633 & LR = 0.00100\n"
     ]
    },
    {
     "name": "stderr",
     "output_type": "stream",
     "text": [
      "Training: : 100%|████████████████████████████████████| 235/235 [00:13<00:00, 17.55batch/s, accuracy=99.7, loss=1.47e+3]\n",
      "Validation: : 100%|███████████████████████████████████| 40/40 [00:01<00:00, 23.23batch/s, val_acc=99, val_loss=4.67e+3]\n"
     ]
    },
    {
     "name": "stdout",
     "output_type": "stream",
     "text": [
      "Epoch: 15; loss = 1471.6643, acc = 99.74%  val loss = 4665.5862, val acc = 98.96%, beta = 2.713258 & LR = 0.00100\n"
     ]
    },
    {
     "name": "stderr",
     "output_type": "stream",
     "text": [
      "Training: : 100%|████████████████████████████████████| 235/235 [00:13<00:00, 17.53batch/s, accuracy=99.8, loss=2.84e+3]\n",
      "Validation: : 100%|█████████████████████████████████| 40/40 [00:02<00:00, 19.42batch/s, val_acc=98.8, val_loss=1.06e+4]\n"
     ]
    },
    {
     "name": "stdout",
     "output_type": "stream",
     "text": [
      "Epoch: 16; loss = 2844.6015, acc = 99.76%  val loss = 10612.9001, val acc = 98.79%, beta = 2.765795 & LR = 0.00100\n"
     ]
    },
    {
     "name": "stderr",
     "output_type": "stream",
     "text": [
      "Training: : 100%|████████████████████████████████████| 235/235 [00:12<00:00, 18.53batch/s, accuracy=99.7, loss=3.08e+3]\n",
      "Validation: : 100%|███████████████████████████████████| 40/40 [00:01<00:00, 23.07batch/s, val_acc=99, val_loss=8.44e+3]\n"
     ]
    },
    {
     "name": "stdout",
     "output_type": "stream",
     "text": [
      "Epoch: 17; loss = 3083.7432, acc = 99.75%  val loss = 8441.5064, val acc = 99.04%, beta = 2.827121 & LR = 0.00100\n",
      "Saving model with highest val_acc = 99.04%\n",
      "\n"
     ]
    },
    {
     "name": "stderr",
     "output_type": "stream",
     "text": [
      "Training: : 100%|████████████████████████████████████| 235/235 [00:12<00:00, 19.46batch/s, accuracy=99.7, loss=2.99e+3]\n",
      "Validation: : 100%|████████████████████████████████████| 40/40 [00:01<00:00, 23.38batch/s, val_acc=99, val_loss=8.9e+3]\n"
     ]
    },
    {
     "name": "stdout",
     "output_type": "stream",
     "text": [
      "Epoch: 18; loss = 2992.7430, acc = 99.73%  val loss = 8899.0164, val acc = 98.98%, beta = 2.883867 & LR = 0.00100\n"
     ]
    },
    {
     "name": "stderr",
     "output_type": "stream",
     "text": [
      "Training: : 100%|████████████████████████████████████| 235/235 [00:12<00:00, 19.58batch/s, accuracy=99.8, loss=2.63e+3]\n",
      "Validation: : 100%|█████████████████████████████████| 40/40 [00:01<00:00, 23.35batch/s, val_acc=98.9, val_loss=9.57e+3]\n"
     ]
    },
    {
     "name": "stdout",
     "output_type": "stream",
     "text": [
      "Epoch: 19; loss = 2625.2585, acc = 99.81%  val loss = 9573.8323, val acc = 98.89%, beta = 2.916879 & LR = 0.00100\n"
     ]
    },
    {
     "name": "stderr",
     "output_type": "stream",
     "text": [
      "Training: : 100%|████████████████████████████████████| 235/235 [00:12<00:00, 19.51batch/s, accuracy=99.8, loss=2.65e+3]\n",
      "Validation: : 100%|█████████████████████████████████| 40/40 [00:01<00:00, 23.32batch/s, val_acc=98.8, val_loss=1.08e+4]\n"
     ]
    },
    {
     "name": "stdout",
     "output_type": "stream",
     "text": [
      "Epoch: 20; loss = 2647.8978, acc = 99.77%  val loss = 10825.1696, val acc = 98.75%, beta = 2.962232 & LR = 0.00100\n"
     ]
    },
    {
     "name": "stderr",
     "output_type": "stream",
     "text": [
      "Training: : 100%|████████████████████████████████████| 235/235 [00:12<00:00, 19.53batch/s, accuracy=99.8, loss=3.08e+3]\n",
      "Validation: : 100%|█████████████████████████████████| 40/40 [00:01<00:00, 23.19batch/s, val_acc=98.9, val_loss=9.34e+3]\n"
     ]
    },
    {
     "name": "stdout",
     "output_type": "stream",
     "text": [
      "Epoch: 21; loss = 3076.3189, acc = 99.75%  val loss = 9342.5474, val acc = 98.91%, beta = 3.008791 & LR = 0.00100\n"
     ]
    },
    {
     "name": "stderr",
     "output_type": "stream",
     "text": [
      "Training: : 100%|████████████████████████████████████| 235/235 [00:12<00:00, 19.46batch/s, accuracy=99.8, loss=2.61e+3]\n",
      "Validation: : 100%|███████████████████████████████████| 40/40 [00:01<00:00, 23.34batch/s, val_acc=99, val_loss=9.05e+3]\n"
     ]
    },
    {
     "name": "stdout",
     "output_type": "stream",
     "text": [
      "Epoch: 22; loss = 2605.1812, acc = 99.78%  val loss = 9045.0178, val acc = 98.96%, beta = 3.036449 & LR = 0.00100\n"
     ]
    },
    {
     "name": "stderr",
     "output_type": "stream",
     "text": [
      "Training: : 100%|████████████████████████████████████| 235/235 [00:12<00:00, 18.22batch/s, accuracy=99.7, loss=2.98e+3]\n",
      "Validation: : 100%|███████████████████████████████████| 40/40 [00:01<00:00, 22.93batch/s, val_acc=99, val_loss=9.28e+3]\n"
     ]
    },
    {
     "name": "stdout",
     "output_type": "stream",
     "text": [
      "Epoch: 23; loss = 2978.7491, acc = 99.75%  val loss = 9281.9256, val acc = 99.02%, beta = 3.068920 & LR = 0.00100\n"
     ]
    },
    {
     "name": "stderr",
     "output_type": "stream",
     "text": [
      "Training: : 100%|████████████████████████████████████| 235/235 [00:12<00:00, 19.31batch/s, accuracy=99.8, loss=3.68e+3]\n",
      "Validation: : 100%|█████████████████████████████████| 40/40 [00:01<00:00, 23.17batch/s, val_acc=99.1, val_loss=1.48e+4]\n"
     ]
    },
    {
     "name": "stdout",
     "output_type": "stream",
     "text": [
      "Epoch: 24; loss = 3681.4911, acc = 99.82%  val loss = 14820.4561, val acc = 99.14%, beta = 3.079891 & LR = 0.00100\n",
      "Saving model with highest val_acc = 99.14%\n",
      "\n"
     ]
    },
    {
     "name": "stderr",
     "output_type": "stream",
     "text": [
      "Training: : 100%|████████████████████████████████████| 235/235 [00:12<00:00, 19.01batch/s, accuracy=99.8, loss=5.09e+3]\n",
      "Validation: : 100%|█████████████████████████████████| 40/40 [00:01<00:00, 20.49batch/s, val_acc=99.1, val_loss=1.62e+4]\n"
     ]
    },
    {
     "name": "stdout",
     "output_type": "stream",
     "text": [
      "Epoch: 25; loss = 5091.4441, acc = 99.81%  val loss = 16206.1089, val acc = 99.05%, beta = 3.093501 & LR = 0.00100\n"
     ]
    },
    {
     "name": "stderr",
     "output_type": "stream",
     "text": [
      "Training: : 100%|████████████████████████████████████| 235/235 [00:12<00:00, 19.13batch/s, accuracy=99.8, loss=5.21e+3]\n",
      "Validation: : 100%|█████████████████████████████████| 40/40 [00:01<00:00, 23.01batch/s, val_acc=98.9, val_loss=1.86e+4]\n"
     ]
    },
    {
     "name": "stdout",
     "output_type": "stream",
     "text": [
      "Epoch: 26; loss = 5209.1770, acc = 99.79%  val loss = 18611.0497, val acc = 98.90%, beta = 3.117620 & LR = 0.00100\n"
     ]
    },
    {
     "name": "stderr",
     "output_type": "stream",
     "text": [
      "Training: : 100%|████████████████████████████████████| 235/235 [00:12<00:00, 19.41batch/s, accuracy=99.7, loss=5.95e+3]\n",
      "Validation: : 100%|█████████████████████████████████| 40/40 [00:01<00:00, 23.10batch/s, val_acc=99.1, val_loss=1.84e+4]\n"
     ]
    },
    {
     "name": "stdout",
     "output_type": "stream",
     "text": [
      "Epoch: 27; loss = 5948.8394, acc = 99.73%  val loss = 18415.4134, val acc = 99.05%, beta = 3.154265 & LR = 0.00100\n"
     ]
    },
    {
     "name": "stderr",
     "output_type": "stream",
     "text": [
      "Training: : 100%|████████████████████████████████████| 235/235 [00:12<00:00, 19.43batch/s, accuracy=99.8, loss=4.72e+3]\n",
      "Validation: : 100%|███████████████████████████████████| 40/40 [00:01<00:00, 23.20batch/s, val_acc=99, val_loss=1.83e+4]\n"
     ]
    },
    {
     "name": "stdout",
     "output_type": "stream",
     "text": [
      "Epoch: 28; loss = 4716.6755, acc = 99.82%  val loss = 18277.9032, val acc = 98.97%, beta = 3.168463 & LR = 0.00100\n"
     ]
    },
    {
     "name": "stderr",
     "output_type": "stream",
     "text": [
      "Training: : 100%|████████████████████████████████████| 235/235 [00:12<00:00, 19.24batch/s, accuracy=99.8, loss=4.72e+3]\n",
      "Validation: : 100%|█████████████████████████████████| 40/40 [00:01<00:00, 20.38batch/s, val_acc=99.1, val_loss=1.66e+4]\n"
     ]
    },
    {
     "name": "stdout",
     "output_type": "stream",
     "text": [
      "Epoch: 29; loss = 4718.5647, acc = 99.80%  val loss = 16613.4000, val acc = 99.09%, beta = 3.168017 & LR = 0.00100\n"
     ]
    },
    {
     "name": "stderr",
     "output_type": "stream",
     "text": [
      "Training: : 100%|████████████████████████████████████| 235/235 [00:13<00:00, 17.25batch/s, accuracy=99.8, loss=4.71e+3]\n",
      "Validation: : 100%|█████████████████████████████████| 40/40 [00:01<00:00, 21.93batch/s, val_acc=98.9, val_loss=1.99e+4]"
     ]
    },
    {
     "name": "stdout",
     "output_type": "stream",
     "text": [
      "Epoch: 30; loss = 4712.6257, acc = 99.82%  val loss = 19900.1971, val acc = 98.90%, beta = 3.178592 & LR = 0.00100\n"
     ]
    },
    {
     "name": "stderr",
     "output_type": "stream",
     "text": [
      "\n"
     ]
    }
   ],
   "source": [
    "# start_timer()\n",
    "\n",
    "for epoch in range(1, num_epochs + 1):\n",
    "    \n",
    "    start_timer()\n",
    "    # One epoch of training-\n",
    "    train_loss, train_acc = train_one_epoch_mixedprecision(\n",
    "        model = model, train_loader = train_loader,\n",
    "        train_dataset = train_dataset\n",
    "    )\n",
    "    # end_timer_and_print(\"Mixed precision:\")\n",
    "    \n",
    "    # Get validation metrics after 1 epoch of training-\n",
    "    val_loss, val_acc = test_one_epoch_mixedprecision(\n",
    "        model = model, test_loader = test_loader,\n",
    "        test_dataset = test_dataset\n",
    "    )\n",
    "    \n",
    "    current_lr = optimizer.param_groups[0][\"lr\"]\n",
    "    # scheduler.step()\n",
    "\n",
    "    print(f\"Epoch: {epoch}; loss = {train_loss:.4f}, acc = {train_acc:.2f}%\",\n",
    "          f\" val loss = {val_loss:.4f}, val acc = {val_acc:.2f}%,\"\n",
    "          f\" beta = {model.beta.cpu().detach().numpy():.6f} & LR = {current_lr:.5f}\"\n",
    "         )\n",
    "    \n",
    "    # Save training metrics to Python3 dict-\n",
    "    train_history[epoch] = {\n",
    "        'train_loss': train_loss, 'val_loss': val_loss,\n",
    "        'train_acc': train_acc, 'val_acc': val_acc,\n",
    "        'lr': current_lr, 'beta': model.beta.cpu().detach().numpy()\n",
    "    }\n",
    "    \n",
    "    # Save model with best validation accuracy-\n",
    "    if (val_acc > best_val_acc):\n",
    "        best_val_acc = val_acc\n",
    "        print(f\"Saving model with highest val_acc = {val_acc:.2f}%\\n\")\n",
    "        torch.save(model.state_dict(), \"LeNet5_MNIST_amp_best_acc.pth\")\n"
   ]
  },
  {
   "cell_type": "code",
   "execution_count": null,
   "id": "b3904986-9f31-44cc-a394-ca8247b6816a",
   "metadata": {},
   "outputs": [],
   "source": []
  },
  {
   "cell_type": "code",
   "execution_count": 20,
   "id": "440f97fc-20ab-4796-bf7a-09427614ef4e",
   "metadata": {},
   "outputs": [],
   "source": [
    "# Save training metrics as pickled object-\n",
    "with open(\"LeNet5_MNIST_swish_training_history.pkl\", \"wb\") as file:\n",
    "    pickle.dump(train_history, file)"
   ]
  },
  {
   "cell_type": "code",
   "execution_count": null,
   "id": "c23b1161-78b0-48d3-a087-da0e6a493a35",
   "metadata": {},
   "outputs": [],
   "source": []
  },
  {
   "cell_type": "code",
   "execution_count": null,
   "id": "fa82d391-77ac-45bc-b86d-08506f0923f9",
   "metadata": {},
   "outputs": [],
   "source": []
  },
  {
   "cell_type": "code",
   "execution_count": 23,
   "id": "2d9dd28d-7191-4c60-bec6-cba291a6bfb1",
   "metadata": {},
   "outputs": [
    {
     "data": {
      "image/png": "[encoded data removed]",
      "text/plain": [
       "<Figure size 800x600 with 1 Axes>"
      ]
     },
     "metadata": {},
     "output_type": "display_data"
    }
   ],
   "source": [
    "plt.figure(figsize = (8, 6))\n",
    "plt.plot(list(train_history.keys()), [train_history[k]['train_acc'] for k in train_history.keys()], label = 'training acc')\n",
    "plt.plot(list(train_history.keys()), [train_history[k]['val_acc'] for k in train_history.keys()], label = 'val acc')\n",
    "plt.title(\"LeNet-5: Training Accuracy\")\n",
    "plt.xlabel(\"epochs\")\n",
    "plt.ylabel(\"accuracy (%)\")\n",
    "plt.legend(loc = 'best')\n",
    "plt.show()"
   ]
  },
  {
   "cell_type": "code",
   "execution_count": 24,
   "id": "0366b43a-499e-475a-a89e-531e160254b7",
   "metadata": {},
   "outputs": [
    {
     "data": {
      "image/png": "[encoded data removed]",
      "text/plain": [
       "<Figure size 800x600 with 1 Axes>"
      ]
     },
     "metadata": {},
     "output_type": "display_data"
    }
   ],
   "source": [
    "plt.figure(figsize = (8, 6))\n",
    "plt.plot(list(train_history.keys()), [train_history[k]['train_loss'] for k in train_history.keys()], label = 'training loss')\n",
    "plt.plot(list(train_history.keys()), [train_history[k]['val_loss'] for k in train_history.keys()], label = 'val loss')\n",
    "plt.xlabel(\"epochs\")\n",
    "plt.ylabel(\"loss\")\n",
    "plt.legend(loc = 'best')\n",
    "plt.title(\"LeNet-5: Training Loss\")\n",
    "plt.show()"
   ]
  },
  {
   "cell_type": "code",
   "execution_count": 25,
   "id": "c1978e89-606f-4452-bad0-cc3f5d201ece",
   "metadata": {},
   "outputs": [
    {
     "data": {
      "image/png": "[encoded data removed]",
      "text/plain": [
       "<Figure size 800x600 with 1 Axes>"
      ]
     },
     "metadata": {},
     "output_type": "display_data"
    }
   ],
   "source": [
    "plt.figure(figsize = (8, 6))\n",
    "plt.plot(list(train_history.keys()), [train_history[k]['lr'] for k in train_history.keys()])\n",
    "plt.xlabel(\"epochs\")\n",
    "plt.ylabel(\"lr\")\n",
    "plt.title(\"LeNet-5: Learning-Rate\")\n",
    "plt.show()"
   ]
  },
  {
   "cell_type": "code",
   "execution_count": 26,
   "id": "a42b2a13-1ebb-4590-9e80-a8b12bd861a5",
   "metadata": {},
   "outputs": [
    {
     "data": {
      "image/png": "[encoded data removed]",
      "text/plain": [
       "<Figure size 800x600 with 1 Axes>"
      ]
     },
     "metadata": {},
     "output_type": "display_data"
    }
   ],
   "source": [
    "plt.figure(figsize = (8, 6))\n",
    "plt.plot(list(train_history.keys()), [train_history[k]['beta'] for k in train_history.keys()])\n",
    "plt.xlabel(\"epochs\")\n",
    "plt.ylabel(\"beta\")\n",
    "plt.title(\"LeNet-5: beta swish hyper-param\")\n",
    "plt.show()"
   ]
  },
  {
   "cell_type": "code",
   "execution_count": null,
   "id": "20ee4825-2d4c-4f94-8dd3-c8663ec96c32",
   "metadata": {},
   "outputs": [],
   "source": []
  },
  {
   "cell_type": "markdown",
   "id": "caf15dfc-57aa-46fe-8a86-81f739a3b60f",
   "metadata": {},
   "source": [
    "#### Saving/Resuming\n",
    "\n",
    "To save/resume Amp-enabled runs with bitwise accuracy, use [scaler.state_dict](https://pytorch.org/docs/stable/amp.html#torch.cuda.amp.GradScaler.state_dict) and [scaler.load_state_dict](https://pytorch.org/docs/stable/amp.html#torch.cuda.amp.GradScaler.load_state_dict).\n",
    "\n",
    "When saving, save the scaler state dict alongside the usual model and optimizer state dicts. Do this either at the beginning of an iteration before any forward passes, or at the end of an iteration after ```scaler.update()```.\n",
    "\n",
    "```\n",
    "checkpoint = {\"model\": net.state_dict(),\n",
    "              \"optimizer\": opt.state_dict(),\n",
    "              \"scaler\": scaler.state_dict()}\n",
    "# Write checkpoint as desired, e.g.,\n",
    "# torch.save(checkpoint, \"filename\")\n",
    "```"
   ]
  },
  {
   "cell_type": "code",
   "execution_count": 27,
   "id": "6aa13eea-0dc8-457e-9c9a-8fcc1646c98e",
   "metadata": {},
   "outputs": [],
   "source": [
    "# Create checkpoint-\n",
    "chkpt = {\n",
    "    'model': model.state_dict(),\n",
    "    'optimizer': optimizer.state_dict(),\n",
    "    'scaler': scaler.state_dict()\n",
    "}\n",
    "\n",
    "# Save checkpoint-\n",
    "torch.save(chkpt, 'LeNet5_swish_amp.pth')"
   ]
  },
  {
   "cell_type": "code",
   "execution_count": 28,
   "id": "ca0877d5-38d4-448b-8fd4-8b9f69984e55",
   "metadata": {},
   "outputs": [],
   "source": [
    "del model"
   ]
  },
  {
   "cell_type": "code",
   "execution_count": null,
   "id": "2bad18d5-43fe-4a54-919a-a63f3ec3d28e",
   "metadata": {},
   "outputs": [],
   "source": []
  },
  {
   "cell_type": "markdown",
   "id": "d66ccfc8-364e-4a53-add5-773cbe4c723a",
   "metadata": {},
   "source": [
    "When resuming, load the scaler state dict alongside the model and optimizer state dicts.\n",
    "\n",
    "```\n",
    "# Read checkpoint as desired, e.g.,\n",
    "# dev = torch.cuda.current_device()\n",
    "# checkpoint = torch.load(\"filename\",\n",
    "#                         map_location = lambda storage, loc: storage.cuda(dev))\n",
    "net.load_state_dict(checkpoint[\"model\"])\n",
    "opt.load_state_dict(checkpoint[\"optimizer\"])\n",
    "scaler.load_state_dict(checkpoint[\"scaler\"])\n",
    "```\n",
    "\n",
    "If a checkpoint was created from a run without Amp, and you want to resume training with Amp, load model and optimizer states from the checkpoint as usual. The checkpoint won’t contain a saved scaler state, so use a fresh instance of ```GradScaler```.\n",
    "\n",
    "If a checkpoint was created from a run with Amp and you want to resume training without Amp, load model and optimizer states from the checkpoint as usual, and ignore the saved scaler state.\n",
    "\n",
    "\n",
    "#### Inference/Evaluation\n",
    "\n",
    "```autocast``` may be used by itself to wrap inference or evaluation forward passes. ```GradScaler``` is not necessary.\n"
   ]
  },
  {
   "cell_type": "markdown",
   "id": "240a2f27-e346-4e1f-a090-815c669300e1",
   "metadata": {},
   "source": [
    "#### Advanced topics\n",
    "\n",
    "See the [Automatic Mixed Precision Examples](https://pytorch.org/docs/stable/notes/amp_examples.html) for advanced use cases including:\n",
    "\n",
    "- Gradient accumulation\n",
    "\n",
    "- Gradient penalty/double backward\n",
    "\n",
    "- Networks with multiple models, optimizers, or losses\n",
    "\n",
    "- Multiple GPUs (```torch.nn.DataParallel``` or ```torch.nn.parallel.DistributedDataParallel```)\n",
    "\n",
    "- Custom autograd functions (subclasses of ```torch.autograd.Function```)\n",
    "\n",
    "If you perform multiple convergence runs in the same script, each run should use a dedicated fresh GradScaler instance. GradScaler instances are lightweight.\n",
    "\n",
    "If you’re registering a custom C++ op with the dispatcher, see the [autocast section](https://pytorch.org/tutorials/advanced/dispatcher.html#autocast) of the dispatcher tutorial."
   ]
  },
  {
   "cell_type": "code",
   "execution_count": 31,
   "id": "44c13249-8be5-4b70-8eed-cab22576ea6c",
   "metadata": {},
   "outputs": [
    {
     "data": {
      "text/plain": [
       "<All keys matched successfully>"
      ]
     },
     "execution_count": 31,
     "metadata": {},
     "output_type": "execute_result"
    }
   ],
   "source": [
    "checkpoint = torch.load(\"LeNet5_swish_amp.pth\", map_location = lambda storage, loc: storage.cuda(device))\n",
    "\n",
    "# Load best trained parameters from before-\n",
    "best_model = LeNet5().to(device)\n",
    "best_model.load_state_dict(checkpoint[\"model\"])\n",
    "# best_model.load_state_dict(torch.load(\"LeNet5_MNIST_best_val_acc.pth\"))"
   ]
  },
  {
   "cell_type": "code",
   "execution_count": 32,
   "id": "9da55b5b-13a8-4854-8702-e57edc59686c",
   "metadata": {},
   "outputs": [],
   "source": [
    "use_amp = True\n",
    "scaler = torch.cuda.amp.GradScaler(enabled = use_amp)\n",
    "\n",
    "opt = torch.optim.Adam(\n",
    "    params = best_model.parameters(), lr = 0.001,\n",
    "    betas = (0.9, 0.999), eps = 1e-08,\n",
    "    weight_decay = 5e-4, amsgrad = False\n",
    ")"
   ]
  },
  {
   "cell_type": "code",
   "execution_count": 33,
   "id": "28add4d9-7f4c-4252-b56c-b0874b5ac24c",
   "metadata": {},
   "outputs": [],
   "source": [
    "opt.load_state_dict(checkpoint[\"optimizer\"])\n",
    "scaler.load_state_dict(checkpoint[\"scaler\"])"
   ]
  },
  {
   "cell_type": "code",
   "execution_count": 49,
   "id": "c45ebf3c-3653-416e-af91-e6442556ff20",
   "metadata": {},
   "outputs": [
    {
     "name": "stderr",
     "output_type": "stream",
     "text": [
      "Validation: : 100%|█████████████████████████████████| 40/40 [00:01<00:00, 23.25batch/s, val_acc=98.9, val_loss=1.99e+4]"
     ]
    },
    {
     "name": "stdout",
     "output_type": "stream",
     "text": [
      "\n",
      "Mixed precision: \n",
      "Total execution time = 1.724 sec\n",
      "Max memory used by tensors = 24344064 bytes\n"
     ]
    },
    {
     "name": "stderr",
     "output_type": "stream",
     "text": [
      "\n"
     ]
    }
   ],
   "source": [
    "start_timer()\n",
    "# Get validation metrics after 1 epoch of training-\n",
    "val_loss, val_acc = test_one_epoch_mixedprecision(\n",
    "    model = best_model, test_loader = test_loader,\n",
    "    test_dataset = test_dataset\n",
    ")\n",
    "end_timer_and_print(\"Mixed precision: \")"
   ]
  },
  {
   "cell_type": "code",
   "execution_count": 50,
   "id": "3037804e-65af-4c79-b7c1-85bec4bcff10",
   "metadata": {},
   "outputs": [
    {
     "name": "stderr",
     "output_type": "stream",
     "text": [
      "Validation: : 100%|███████████████████████████████████| 40/40 [00:01<00:00, 22.81batch/s, val_acc=98.9, val_loss=0.038]"
     ]
    },
    {
     "name": "stdout",
     "output_type": "stream",
     "text": [
      "\n",
      "Fixed precision: \n",
      "Total execution time = 1.753 sec\n",
      "Max memory used by tensors = 27445760 bytes\n"
     ]
    },
    {
     "name": "stderr",
     "output_type": "stream",
     "text": [
      "\n"
     ]
    }
   ],
   "source": [
    "start_timer()\n",
    "# Get validation metrics after 1 epoch of training-\n",
    "val_loss_noamp, val_acc_noamp = test_one_epoch(\n",
    "    model = best_model, test_loader = test_loader,\n",
    "    test_dataset = test_dataset\n",
    ")\n",
    "end_timer_and_print(\"Fixed precision: \")"
   ]
  },
  {
   "cell_type": "code",
   "execution_count": null,
   "id": "dfb6262f-8c3f-41d8-9883-09822ffea941",
   "metadata": {},
   "outputs": [],
   "source": []
  },
  {
   "cell_type": "code",
   "execution_count": 51,
   "id": "abe1b858-8a99-47ae-ac11-e99e047c382c",
   "metadata": {},
   "outputs": [
    {
     "name": "stdout",
     "output_type": "stream",
     "text": [
      "LeNet-5 'best' trained validation metrics:  loss: 19900.1971 & accuracy = 98.90%\n"
     ]
    }
   ],
   "source": [
    "print(\"LeNet-5 'best' trained validation metrics: \",\n",
    "      f\"loss: {val_loss:.4f} & accuracy = {val_acc:.2f}%\"\n",
    "     )"
   ]
  },
  {
   "cell_type": "code",
   "execution_count": null,
   "id": "d1c78e29-0e2c-4059-aef1-b845fc904ec6",
   "metadata": {},
   "outputs": [],
   "source": []
  },
  {
   "cell_type": "code",
   "execution_count": 43,
   "id": "8a64f434-1550-40b4-8b24-c7e3a122693e",
   "metadata": {},
   "outputs": [],
   "source": [
    "# max([train_history[k]['val_acc'] for k in train_history.keys()])\n",
    "max_val_acc = 0\n",
    "max_epoch = 0\n",
    "\n",
    "for e in train_history.keys():\n",
    "    if train_history[e]['val_acc'] > max_val_acc:\n",
    "        max_val_acc = train_history[e]['val_acc']\n",
    "        max_epoch = e"
   ]
  },
  {
   "cell_type": "code",
   "execution_count": 44,
   "id": "3feb4717-e9d5-4071-b5f5-2c5200d98f1d",
   "metadata": {},
   "outputs": [
    {
     "data": {
      "text/plain": [
       "(24, 99.13999938964844)"
      ]
     },
     "execution_count": 44,
     "metadata": {},
     "output_type": "execute_result"
    }
   ],
   "source": [
    "max_epoch, max_val_acc"
   ]
  },
  {
   "cell_type": "code",
   "execution_count": 46,
   "id": "7d13c92e-1c8e-485b-a254-336f443b810b",
   "metadata": {},
   "outputs": [
    {
     "name": "stdout",
     "output_type": "stream",
     "text": [
      "highest val acc = 99.14%  is obtained for beta = 3.0799\n"
     ]
    }
   ],
   "source": [
    "print(f\"highest val acc = {train_history[max_epoch]['val_acc']:.2f}%\",\n",
    "      f\" is obtained for beta = {train_history[max_epoch]['beta']:.4f}\"\n",
    ")"
   ]
  },
  {
   "cell_type": "code",
   "execution_count": null,
   "id": "316117f4-1f83-4503-a700-cabcf122efcd",
   "metadata": {},
   "outputs": [],
   "source": []
  },
  {
   "cell_type": "code",
   "execution_count": null,
   "id": "bd4dfec8-6047-49e5-befc-2351cfd66c50",
   "metadata": {},
   "outputs": [],
   "source": []
  }
 ],
 "metadata": {
  "kernelspec": {
   "display_name": "Python 3 (ipykernel)",
   "language": "python",
   "name": "python3"
  },
  "language_info": {
   "codemirror_mode": {
    "name": "ipython",
    "version": 3
   },
   "file_extension": ".py",
   "mimetype": "text/x-python",
   "name": "python",
   "nbconvert_exporter": "python",
   "pygments_lexer": "ipython3",
   "version": "3.10.9"
  }
 },
 "nbformat": 4,
 "nbformat_minor": 5
}
