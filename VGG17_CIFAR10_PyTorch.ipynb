{
 "cells": [
  {
   "cell_type": "markdown",
   "id": "e551093e-28e4-4e0d-bd14-d377fc1f1435",
   "metadata": {},
   "source": [
    "# VGG-17: CIFAR-10 & PyTorch"
   ]
  },
  {
   "cell_type": "code",
   "execution_count": 1,
   "id": "e561e306-a482-4076-94aa-9d9c83190df5",
   "metadata": {},
   "outputs": [
    {
     "name": "stdout",
     "output_type": "stream",
     "text": [
      "env: CUDA_DEVICE_ORDER=PCI_BUS_ID\n",
      "env: CUDA_VISIBLE_DEVICES=0\n"
     ]
    }
   ],
   "source": [
    "# Specify GPU to be used-\n",
    "%env CUDA_DEVICE_ORDER=PCI_BUS_ID\n",
    "%env CUDA_VISIBLE_DEVICES = 0"
   ]
  },
  {
   "cell_type": "code",
   "execution_count": 2,
   "id": "2a0d18fc-5e4e-4f2d-92b0-1c98ccf90b48",
   "metadata": {},
   "outputs": [
    {
     "name": "stderr",
     "output_type": "stream",
     "text": [
      "/home/arjun/anaconda3/envs/pytorch-gpu/lib/python3.9/site-packages/tqdm/auto.py:22: TqdmWarning: IProgress not found. Please update jupyter and ipywidgets. See https://ipywidgets.readthedocs.io/en/stable/user_install.html\n",
      "  from .autonotebook import tqdm as notebook_tqdm\n"
     ]
    }
   ],
   "source": [
    "import torch\n",
    "import torch.nn as nn\n",
    "import torch.nn.functional as F\n",
    "import torchvision\n",
    "import torchvision.transforms as transforms\n",
    "\n",
    "from tqdm import tqdm\n",
    "from tqdm import trange\n",
    "import matplotlib.pyplot as plt\n",
    "import seaborn as sns\n",
    "import numpy as np\n",
    "import os\n",
    "import pickle"
   ]
  },
  {
   "cell_type": "code",
   "execution_count": null,
   "id": "466ba631-0f82-46ff-989b-428245b67c6f",
   "metadata": {},
   "outputs": [],
   "source": []
  },
  {
   "cell_type": "code",
   "execution_count": null,
   "id": "5708a4f6-f11f-4729-833c-a75cfbadba52",
   "metadata": {},
   "outputs": [],
   "source": []
  },
  {
   "cell_type": "code",
   "execution_count": 3,
   "id": "085b8d75-8b44-46a7-80ba-461dc98de9fd",
   "metadata": {},
   "outputs": [
    {
     "name": "stdout",
     "output_type": "stream",
     "text": [
      "torch version: 1.11.0\n"
     ]
    }
   ],
   "source": [
    "print(f\"torch version: {torch.__version__}\")"
   ]
  },
  {
   "cell_type": "code",
   "execution_count": 4,
   "id": "47fd6374-2994-45ea-958d-975691a79e6b",
   "metadata": {},
   "outputs": [
    {
     "name": "stdout",
     "output_type": "stream",
     "text": [
      "Number of GPU(s) available = 1\n",
      "Current GPU: 0\n",
      "Current GPU name: NVIDIA GeForce RTX 3080\n"
     ]
    }
   ],
   "source": [
    "# Check if there are multiple devices (i.e., GPU cards)-\n",
    "print(f\"Number of GPU(s) available = {torch.cuda.device_count()}\")\n",
    "\n",
    "# Which GPU Is The Current GPU?\n",
    "# print(f\"current GPU: {torch.cuda.current_device()}\")\n",
    "\n",
    "# Get the name of the current GPU-\n",
    "# print(f\"Current GPU name: {torch.cuda.get_device_name(torch.cuda.current_device())}\")\n",
    "\n",
    "# Is PyTorch using a GPU?\n",
    "# print(f\"Is PyTorch using a GPU? {torch.cuda.is_available()}\")\n",
    "\n",
    "if torch.cuda.is_available():\n",
    "    print(f\"Current GPU: {torch.cuda.current_device()}\")\n",
    "    print(f\"Current GPU name: {torch.cuda.get_device_name(torch.cuda.current_device())}\")\n",
    "else:\n",
    "    print(\"PyTorch does not have access to GPU\")"
   ]
  },
  {
   "cell_type": "code",
   "execution_count": 5,
   "id": "210c9465-3d1e-42b3-83d3-f0986088f566",
   "metadata": {},
   "outputs": [
    {
     "name": "stdout",
     "output_type": "stream",
     "text": [
      "Available device is cuda\n"
     ]
    }
   ],
   "source": [
    "# Device configuration-\n",
    "device = torch.device('cuda' if torch.cuda.is_available() else 'cpu')\n",
    "print(f'Available device is {device}')"
   ]
  },
  {
   "cell_type": "code",
   "execution_count": null,
   "id": "a86796cd-1743-434a-b354-e8cd3654fd36",
   "metadata": {},
   "outputs": [],
   "source": []
  },
  {
   "cell_type": "code",
   "execution_count": null,
   "id": "a826c6d7-8e5c-41d6-bed5-3d66fcf333d9",
   "metadata": {},
   "outputs": [],
   "source": []
  },
  {
   "cell_type": "code",
   "execution_count": 6,
   "id": "63eb096a-9259-491b-bdc5-d69a50d82601",
   "metadata": {},
   "outputs": [],
   "source": [
    "# Specify hyper-parameters-\n",
    "num_epochs = 80\n",
    "batch_size = 256\n",
    "learning_rate = 0.01"
   ]
  },
  {
   "cell_type": "code",
   "execution_count": null,
   "id": "6ac86075-2ead-4aae-8f10-baee06ae8d8d",
   "metadata": {},
   "outputs": [],
   "source": []
  },
  {
   "cell_type": "markdown",
   "id": "30eaa499-23bc-4ccd-8448-495ce5b06785",
   "metadata": {},
   "source": [
    "### CIFAR-10 data pre-processing"
   ]
  },
  {
   "cell_type": "code",
   "execution_count": 7,
   "id": "0d1cbec1-f207-4c14-a787-63165597bbe7",
   "metadata": {},
   "outputs": [],
   "source": [
    "# Define transformations for training and test sets-\n",
    "transform_train = transforms.Compose(\n",
    "    [\n",
    "        transforms.RandomCrop(32, padding = 4),\n",
    "        transforms.RandomHorizontalFlip(),\n",
    "        transforms.ToTensor(),\n",
    "        transforms.Normalize(\n",
    "            (0.4914, 0.4822, 0.4465),\n",
    "            (0.2023, 0.1994, 0.2010)\n",
    "        ),\n",
    "    ]\n",
    ")\n",
    "\n",
    "transform_test = transforms.Compose(\n",
    "    [\n",
    "        transforms.ToTensor(),\n",
    "        transforms.Normalize(\n",
    "            (0.4914, 0.4822, 0.4465),\n",
    "            (0.2023, 0.1994, 0.2010)\n",
    "        ),\n",
    "    ]\n",
    ")"
   ]
  },
  {
   "cell_type": "code",
   "execution_count": 8,
   "id": "b4ecf1d7-95d5-4ebc-a684-41686ca8f718",
   "metadata": {},
   "outputs": [
    {
     "name": "stdout",
     "output_type": "stream",
     "text": [
      "Files already downloaded and verified\n",
      "Files already downloaded and verified\n"
     ]
    }
   ],
   "source": [
    "# Load CIFAR-10 dataset-\n",
    "train_dataset = torchvision.datasets.CIFAR10(\n",
    "    root = './data', train = True,\n",
    "    download = True, transform = transform_train\n",
    ")\n",
    "\n",
    "test_dataset = torchvision.datasets.CIFAR10(\n",
    "    root = './data', train = False,\n",
    "    download = True, transform = transform_test\n",
    ")"
   ]
  },
  {
   "cell_type": "code",
   "execution_count": 9,
   "id": "190f7d7e-d3dd-458f-9312-83e6c7812326",
   "metadata": {},
   "outputs": [
    {
     "name": "stdout",
     "output_type": "stream",
     "text": [
      "len(train_dataset) = 50000 & len(test_dataset) = 10000\n"
     ]
    }
   ],
   "source": [
    "print(f\"len(train_dataset) = {len(train_dataset)} & len(test_dataset) = {len(test_dataset)}\")"
   ]
  },
  {
   "cell_type": "code",
   "execution_count": 10,
   "id": "b7470e8f-4f37-44dc-b18b-ac3a7a9a8b5e",
   "metadata": {},
   "outputs": [],
   "source": [
    "# Create training and testing loaders-\n",
    "train_loader = torch.utils.data.DataLoader(\n",
    "    train_dataset, batch_size = batch_size,\n",
    "    shuffle = True\n",
    ")\n",
    "\n",
    "test_loader = torch.utils.data.DataLoader(\n",
    "    test_dataset, batch_size = batch_size,\n",
    "    shuffle = True\n",
    ")"
   ]
  },
  {
   "cell_type": "code",
   "execution_count": 11,
   "id": "0f6a09f2-f431-47f9-a0a1-2c99a10d443f",
   "metadata": {},
   "outputs": [
    {
     "name": "stdout",
     "output_type": "stream",
     "text": [
      "len(train_loader) = 196 & len(test_loader) = 40\n"
     ]
    }
   ],
   "source": [
    "print(f\"len(train_loader) = {len(train_loader)} & len(test_loader) = {len(test_loader)}\")"
   ]
  },
  {
   "cell_type": "code",
   "execution_count": 13,
   "id": "731a2236-b013-426f-b926-efbc11a6679a",
   "metadata": {},
   "outputs": [
    {
     "name": "stdout",
     "output_type": "stream",
     "text": [
      "number of training steps in one epoch = 195.3125 & number of validation steps in 1 epoch = 39.0625\n"
     ]
    }
   ],
   "source": [
    "# Sanity check-\n",
    "print(f\"number of training steps in one epoch = {len(train_dataset) / batch_size}\"\n",
    "      f\" & number of validation steps in 1 epoch = {len(test_dataset) / batch_size}\")"
   ]
  },
  {
   "cell_type": "code",
   "execution_count": 14,
   "id": "e6d1da42-1c10-44e4-9140-d4d391519194",
   "metadata": {},
   "outputs": [
    {
     "data": {
      "text/plain": [
       "(torch.Size([256, 3, 32, 32]), torch.Size([256]))"
      ]
     },
     "execution_count": 14,
     "metadata": {},
     "output_type": "execute_result"
    }
   ],
   "source": [
    "# Sanity check-\n",
    "images, labels = next(iter(train_loader))\n",
    "\n",
    "images.size(), labels.shape"
   ]
  },
  {
   "cell_type": "code",
   "execution_count": 15,
   "id": "c806df3d-bed2-455e-8fd6-961993911af4",
   "metadata": {},
   "outputs": [
    {
     "data": {
      "text/plain": [
       "(256, 32, 32, 3)"
      ]
     },
     "execution_count": 15,
     "metadata": {},
     "output_type": "execute_result"
    }
   ],
   "source": [
    "# Unnormalize images-\n",
    "images = images / 2 + 0.5\n",
    "images = np.transpose(images.numpy(), (0, 2, 3, 1))\n",
    "\n",
    "images.shape"
   ]
  },
  {
   "cell_type": "code",
   "execution_count": 16,
   "id": "302f539e-d7c1-4da7-a044-e900a5029a20",
   "metadata": {},
   "outputs": [
    {
     "name": "stderr",
     "output_type": "stream",
     "text": [
      "Clipping input data to the valid range for imshow with RGB data ([0..1] for floats or [0..255] for integers).\n",
      "Clipping input data to the valid range for imshow with RGB data ([0..1] for floats or [0..255] for integers).\n",
      "Clipping input data to the valid range for imshow with RGB data ([0..1] for floats or [0..255] for integers).\n",
      "Clipping input data to the valid range for imshow with RGB data ([0..1] for floats or [0..255] for integers).\n",
      "Clipping input data to the valid range for imshow with RGB data ([0..1] for floats or [0..255] for integers).\n",
      "Clipping input data to the valid range for imshow with RGB data ([0..1] for floats or [0..255] for integers).\n",
      "Clipping input data to the valid range for imshow with RGB data ([0..1] for floats or [0..255] for integers).\n",
      "Clipping input data to the valid range for imshow with RGB data ([0..1] for floats or [0..255] for integers).\n",
      "Clipping input data to the valid range for imshow with RGB data ([0..1] for floats or [0..255] for integers).\n",
      "Clipping input data to the valid range for imshow with RGB data ([0..1] for floats or [0..255] for integers).\n",
      "Clipping input data to the valid range for imshow with RGB data ([0..1] for floats or [0..255] for integers).\n",
      "Clipping input data to the valid range for imshow with RGB data ([0..1] for floats or [0..255] for integers).\n",
      "Clipping input data to the valid range for imshow with RGB data ([0..1] for floats or [0..255] for integers).\n",
      "Clipping input data to the valid range for imshow with RGB data ([0..1] for floats or [0..255] for integers).\n",
      "Clipping input data to the valid range for imshow with RGB data ([0..1] for floats or [0..255] for integers).\n",
      "Clipping input data to the valid range for imshow with RGB data ([0..1] for floats or [0..255] for integers).\n",
      "Clipping input data to the valid range for imshow with RGB data ([0..1] for floats or [0..255] for integers).\n",
      "Clipping input data to the valid range for imshow with RGB data ([0..1] for floats or [0..255] for integers).\n",
      "Clipping input data to the valid range for imshow with RGB data ([0..1] for floats or [0..255] for integers).\n",
      "Clipping input data to the valid range for imshow with RGB data ([0..1] for floats or [0..255] for integers).\n",
      "Clipping input data to the valid range for imshow with RGB data ([0..1] for floats or [0..255] for integers).\n",
      "Clipping input data to the valid range for imshow with RGB data ([0..1] for floats or [0..255] for integers).\n",
      "Clipping input data to the valid range for imshow with RGB data ([0..1] for floats or [0..255] for integers).\n",
      "Clipping input data to the valid range for imshow with RGB data ([0..1] for floats or [0..255] for integers).\n",
      "Clipping input data to the valid range for imshow with RGB data ([0..1] for floats or [0..255] for integers).\n",
      "Clipping input data to the valid range for imshow with RGB data ([0..1] for floats or [0..255] for integers).\n",
      "Clipping input data to the valid range for imshow with RGB data ([0..1] for floats or [0..255] for integers).\n",
      "Clipping input data to the valid range for imshow with RGB data ([0..1] for floats or [0..255] for integers).\n",
      "Clipping input data to the valid range for imshow with RGB data ([0..1] for floats or [0..255] for integers).\n",
      "Clipping input data to the valid range for imshow with RGB data ([0..1] for floats or [0..255] for integers).\n",
      "Clipping input data to the valid range for imshow with RGB data ([0..1] for floats or [0..255] for integers).\n",
      "Clipping input data to the valid range for imshow with RGB data ([0..1] for floats or [0..255] for integers).\n",
      "Clipping input data to the valid range for imshow with RGB data ([0..1] for floats or [0..255] for integers).\n",
      "Clipping input data to the valid range for imshow with RGB data ([0..1] for floats or [0..255] for integers).\n",
      "Clipping input data to the valid range for imshow with RGB data ([0..1] for floats or [0..255] for integers).\n",
      "Clipping input data to the valid range for imshow with RGB data ([0..1] for floats or [0..255] for integers).\n",
      "Clipping input data to the valid range for imshow with RGB data ([0..1] for floats or [0..255] for integers).\n",
      "Clipping input data to the valid range for imshow with RGB data ([0..1] for floats or [0..255] for integers).\n",
      "Clipping input data to the valid range for imshow with RGB data ([0..1] for floats or [0..255] for integers).\n",
      "Clipping input data to the valid range for imshow with RGB data ([0..1] for floats or [0..255] for integers).\n",
      "Clipping input data to the valid range for imshow with RGB data ([0..1] for floats or [0..255] for integers).\n",
      "Clipping input data to the valid range for imshow with RGB data ([0..1] for floats or [0..255] for integers).\n",
      "Clipping input data to the valid range for imshow with RGB data ([0..1] for floats or [0..255] for integers).\n",
      "Clipping input data to the valid range for imshow with RGB data ([0..1] for floats or [0..255] for integers).\n",
      "Clipping input data to the valid range for imshow with RGB data ([0..1] for floats or [0..255] for integers).\n",
      "Clipping input data to the valid range for imshow with RGB data ([0..1] for floats or [0..255] for integers).\n",
      "Clipping input data to the valid range for imshow with RGB data ([0..1] for floats or [0..255] for integers).\n",
      "Clipping input data to the valid range for imshow with RGB data ([0..1] for floats or [0..255] for integers).\n",
      "Clipping input data to the valid range for imshow with RGB data ([0..1] for floats or [0..255] for integers).\n",
      "Clipping input data to the valid range for imshow with RGB data ([0..1] for floats or [0..255] for integers).\n"
     ]
    },
    {
     "data": {
      "image/png": "[encoded data removed]",
      "text/plain": [
       "<Figure size 720x648 with 50 Axes>"
      ]
     },
     "metadata": {
      "needs_background": "light"
     },
     "output_type": "display_data"
    }
   ],
   "source": [
    "# Visualize 50 images from training set-\n",
    "plt.figure(figsize = (10, 9))\n",
    "\n",
    "for i in range(50):\n",
    "    plt.subplot(5, 10, i + 1)\n",
    "    plt.imshow(images[i])\n",
    "    \n",
    "plt.suptitle(\"Sample CIFAR-10 training images\")\n",
    "plt.show()"
   ]
  },
  {
   "cell_type": "code",
   "execution_count": 17,
   "id": "c23064d9-d278-4627-b7d2-ac02a2365354",
   "metadata": {},
   "outputs": [
    {
     "data": {
      "text/plain": [
       "(1.8768656, -0.71453285)"
      ]
     },
     "execution_count": 17,
     "metadata": {},
     "output_type": "execute_result"
    }
   ],
   "source": [
    "images.max(), images.min()"
   ]
  },
  {
   "cell_type": "code",
   "execution_count": 18,
   "id": "4866ca01-a4e4-45fb-a630-49aeecfcaf87",
   "metadata": {},
   "outputs": [],
   "source": [
    "del images, labels"
   ]
  },
  {
   "cell_type": "code",
   "execution_count": null,
   "id": "15a1340e-5cd1-4bcd-b2dd-fc0d2c1a9e3c",
   "metadata": {},
   "outputs": [],
   "source": []
  },
  {
   "cell_type": "code",
   "execution_count": null,
   "id": "6b7a6d25-9c8d-4983-a26b-3a38ac2a1ef1",
   "metadata": {},
   "outputs": [],
   "source": []
  },
  {
   "cell_type": "markdown",
   "id": "230a4ea3-8250-43ae-a3b9-2a219fc7f205",
   "metadata": {},
   "source": [
    "### Define _VGG-17_ CNN architecture"
   ]
  },
  {
   "cell_type": "code",
   "execution_count": 19,
   "id": "f06037f5-b29e-473f-9560-d356aa50a401",
   "metadata": {},
   "outputs": [],
   "source": [
    "class VGGBlock(nn.Module):\n",
    "    '''\n",
    "    VGG block within a VGG-* CNN model\n",
    "    '''\n",
    "    def __init__(self, input_channels, num_channels, padding_size = 1,\n",
    "                 stride_size = 1, use_extra_conv = False, dropout = 0.2):\n",
    "        super().__init__()\n",
    "        \n",
    "        self.conv1 = nn.Conv2d(\n",
    "            in_channels = input_channels, out_channels = num_channels,\n",
    "            kernel_size = 3, padding = padding_size,\n",
    "            stride = stride_size, bias = False\n",
    "        )\n",
    "        \n",
    "        self.dropout = nn.Dropout(p = dropout)\n",
    "        \n",
    "        self.conv2 = nn.Conv2d(\n",
    "            in_channels = num_channels, out_channels = num_channels,\n",
    "            kernel_size = 3, padding = padding_size,\n",
    "            stride = stride_size, bias = False\n",
    "        )\n",
    "        \n",
    "        if use_extra_conv:\n",
    "            self.conv3 = nn.Conv2d(\n",
    "                in_channels = num_channels, out_channels = num_channels,\n",
    "                kernel_size = 3, padding = padding_size,\n",
    "                stride = stride_size, bias = False\n",
    "            )\n",
    "            \n",
    "            self.conv4 = nn.Conv2d(\n",
    "                in_channels = num_channels, out_channels = num_channels,\n",
    "                kernel_size = 3, padding = padding_size,\n",
    "                stride = stride_size, bias = False\n",
    "            )\n",
    "        else:\n",
    "            self.conv3 = False\n",
    "            self.conv4 = False\n",
    "        \n",
    "        self.pool = nn.MaxPool2d(\n",
    "            kernel_size = 2, stride = 2)\n",
    "            # padding = 1)\n",
    "        \n",
    "        self.bn1 = nn.BatchNorm2d(num_features = num_channels)\n",
    "        self.bn2 = nn.BatchNorm2d(num_features = num_channels)\n",
    "\n",
    "        if use_extra_conv:\n",
    "            self.bn3 = nn.BatchNorm2d(num_features = num_channels)\n",
    "            self.bn4 = nn.BatchNorm2d(num_features = num_channels)\n",
    "        \n",
    "        self.initialize_weights()\n",
    "    \n",
    "    \n",
    "    def forward(self, X):\n",
    "        Y = self.dropout(F.relu(self.bn1(self.conv1(X))))\n",
    "        Y = self.dropout(F.relu(self.bn2(self.conv2(Y))))\n",
    "        \n",
    "        if self.conv3 and self.conv4:\n",
    "            Y = self.dropout(F.relu(self.bn3(self.conv3(Y))))\n",
    "            Y = self.dropout(F.relu(self.bn4(self.conv4(Y))))\n",
    "            Y = self.pool(Y)\n",
    "        else:\n",
    "            Y = self.pool(Y)\n",
    "        \n",
    "        return Y\n",
    "    \n",
    "    \n",
    "    def shape_computation(self, X):\n",
    "        Y = self.bn1(self.conv1(X))\n",
    "        print(f\"self.bn(conv1(X)).shape: {Y.shape}\")\n",
    "        \n",
    "        Y = self.bn2(self.conv2(Y))\n",
    "        print(f\"self.bn(conv2(Y)).shape: {Y.shape}\")\n",
    "        \n",
    "        if self.conv3 and self.conv4:\n",
    "            Y = self.bn3(self.conv3(Y))\n",
    "            print(f\"self.bn(conv3(Y)).shape: {Y.shape}\")\n",
    "            \n",
    "            Y = self.bn4(self.conv4(Y))\n",
    "            print(f\"self.bn(conv4(Y)).shape: {Y.shape}\")\n",
    "            \n",
    "            Y = self.pool(Y)\n",
    "            print(f\"self.pool(Y).shape: {Y.shape}\")\n",
    "        else:\n",
    "            Y = self.pool(Y)\n",
    "            print(f\"self.pool(Y).shape: {Y.shape}\")\n",
    "        \n",
    "\n",
    "    def initialize_weights(self):\n",
    "        for m in self.modules():\n",
    "            # print(m)\n",
    "            if isinstance(m, nn.Conv2d):\n",
    "                nn.init.kaiming_normal_(m.weight)\n",
    "\n",
    "                '''\n",
    "                # Do not initialize bias (due to batchnorm)-\n",
    "                if m.bias is not None:\n",
    "                    nn.init.constant_(m.bias, 0)\n",
    "                '''\n",
    "            \n",
    "            elif isinstance(m, nn.BatchNorm2d):\n",
    "                # Standard initialization for batch normalization-\n",
    "                nn.init.constant_(m.weight, 1)\n",
    "                nn.init.constant_(m.bias, 0)\n",
    "\n",
    "            elif isinstance(m, nn.Linear):\n",
    "                nn.init.kaiming_normal_(m.weight)\n",
    "                nn.init.constant_(m.bias, 0)\n",
    "                "
   ]
  },
  {
   "cell_type": "code",
   "execution_count": 20,
   "id": "e3bce8b3-c56b-4b73-97a1-d6e9ddae4722",
   "metadata": {},
   "outputs": [],
   "source": [
    "class VGG17(nn.Module):\n",
    "    def __init__(self):\n",
    "        super().__init__()\n",
    "\n",
    "        self.block1 = VGGBlock(input_channels = 3, num_channels = 64, dropout = 0)\n",
    "        self.block2 = VGGBlock(input_channels = 64, num_channels = 128)\n",
    "        self.block3 = VGGBlock(input_channels = 128, num_channels = 256,\n",
    "                use_extra_conv = True, dropout = 0.3)\n",
    "        self.block4 = VGGBlock(input_channels = 256, num_channels = 512,\n",
    "                use_extra_conv = True, dropout = 0.3)\n",
    "        self.block5 = VGGBlock(input_channels = 512, num_channels = 512,\n",
    "                use_extra_conv = True, dropout = 0.3)\n",
    "        # self.pool = nn.AdaptiveAvgPool1d()\n",
    "        self.flatten = nn.Flatten()\n",
    "        self.output_layer = nn.Linear(in_features = 512, out_features = 10)\n",
    "        \n",
    "    \n",
    "    def forward(self, x):\n",
    "        x = self.block1(x)\n",
    "        x = self.block2(x)\n",
    "        x = self.block3(x)\n",
    "        x = self.block4(x)\n",
    "        x = self.block5(x)\n",
    "        # x = self.pool(x)\n",
    "        x = self.flatten(x)\n",
    "        x = self.output_layer(x)\n",
    "        return x\n",
    "    "
   ]
  },
  {
   "cell_type": "code",
   "execution_count": null,
   "id": "164aa86c-dfac-4b0d-8f1c-790a9ac6d7b0",
   "metadata": {},
   "outputs": [],
   "source": []
  },
  {
   "cell_type": "code",
   "execution_count": null,
   "id": "6aaaac8c-001f-469d-8d1a-45767d850381",
   "metadata": {},
   "outputs": [],
   "source": []
  },
  {
   "cell_type": "code",
   "execution_count": 22,
   "id": "693c2313-3c68-49c7-822c-d27a4886c7a8",
   "metadata": {},
   "outputs": [],
   "source": [
    "# Initialize VGG-17 architecture-\n",
    "model = VGG17().to(device)"
   ]
  },
  {
   "cell_type": "code",
   "execution_count": 23,
   "id": "5f376dc8-b6a5-496e-8775-04b76218ecb2",
   "metadata": {},
   "outputs": [],
   "source": [
    "# Sanity check-\n",
    "x, y = next(iter(train_loader))\n",
    "x = x.to(device)\n",
    "y = y.to(device)"
   ]
  },
  {
   "cell_type": "code",
   "execution_count": 24,
   "id": "68a8ac0c-12a4-45f7-b982-63d58ea6ee50",
   "metadata": {},
   "outputs": [
    {
     "data": {
      "text/plain": [
       "(torch.Size([256, 3, 32, 32]), torch.Size([256]))"
      ]
     },
     "execution_count": 24,
     "metadata": {},
     "output_type": "execute_result"
    }
   ],
   "source": [
    "x.shape, y.shape"
   ]
  },
  {
   "cell_type": "code",
   "execution_count": 25,
   "id": "13c6aaf9-7a86-4440-bf32-a9725b45e94a",
   "metadata": {},
   "outputs": [],
   "source": [
    "out = model(x)"
   ]
  },
  {
   "cell_type": "code",
   "execution_count": 26,
   "id": "ec735ec5-c47c-489d-8e8f-ff1c7639d295",
   "metadata": {},
   "outputs": [
    {
     "data": {
      "text/plain": [
       "(torch.Size([256, 10]), torch.Size([256]))"
      ]
     },
     "execution_count": 26,
     "metadata": {},
     "output_type": "execute_result"
    }
   ],
   "source": [
    "out.shape, y.shape"
   ]
  },
  {
   "cell_type": "code",
   "execution_count": null,
   "id": "f23e5995-dd3e-4569-a0a3-779cdd876e00",
   "metadata": {},
   "outputs": [],
   "source": []
  },
  {
   "cell_type": "code",
   "execution_count": null,
   "id": "414fea05-cb8d-463e-8f28-ef32acdb76d7",
   "metadata": {},
   "outputs": [],
   "source": []
  },
  {
   "cell_type": "code",
   "execution_count": 27,
   "id": "60bfdc1c-e2b8-4910-b8f3-b1b7051c9bb7",
   "metadata": {},
   "outputs": [
    {
     "name": "stdout",
     "output_type": "stream",
     "text": [
      "layer.shape = torch.Size([64, 3, 3, 3]) has 1728 parameters\n",
      "layer.shape = torch.Size([64, 64, 3, 3]) has 36864 parameters\n",
      "layer.shape = torch.Size([64]) has 64 parameters\n",
      "layer.shape = torch.Size([64]) has 64 parameters\n",
      "layer.shape = torch.Size([64]) has 64 parameters\n",
      "layer.shape = torch.Size([64]) has 64 parameters\n",
      "layer.shape = torch.Size([128, 64, 3, 3]) has 73728 parameters\n",
      "layer.shape = torch.Size([128, 128, 3, 3]) has 147456 parameters\n",
      "layer.shape = torch.Size([128]) has 128 parameters\n",
      "layer.shape = torch.Size([128]) has 128 parameters\n",
      "layer.shape = torch.Size([128]) has 128 parameters\n",
      "layer.shape = torch.Size([128]) has 128 parameters\n",
      "layer.shape = torch.Size([256, 128, 3, 3]) has 294912 parameters\n",
      "layer.shape = torch.Size([256, 256, 3, 3]) has 589824 parameters\n",
      "layer.shape = torch.Size([256, 256, 3, 3]) has 589824 parameters\n",
      "layer.shape = torch.Size([256, 256, 3, 3]) has 589824 parameters\n",
      "layer.shape = torch.Size([256]) has 256 parameters\n",
      "layer.shape = torch.Size([256]) has 256 parameters\n",
      "layer.shape = torch.Size([256]) has 256 parameters\n",
      "layer.shape = torch.Size([256]) has 256 parameters\n",
      "layer.shape = torch.Size([256]) has 256 parameters\n",
      "layer.shape = torch.Size([256]) has 256 parameters\n",
      "layer.shape = torch.Size([256]) has 256 parameters\n",
      "layer.shape = torch.Size([256]) has 256 parameters\n",
      "layer.shape = torch.Size([512, 256, 3, 3]) has 1179648 parameters\n",
      "layer.shape = torch.Size([512, 512, 3, 3]) has 2359296 parameters\n",
      "layer.shape = torch.Size([512, 512, 3, 3]) has 2359296 parameters\n",
      "layer.shape = torch.Size([512, 512, 3, 3]) has 2359296 parameters\n",
      "layer.shape = torch.Size([512]) has 512 parameters\n",
      "layer.shape = torch.Size([512]) has 512 parameters\n",
      "layer.shape = torch.Size([512]) has 512 parameters\n",
      "layer.shape = torch.Size([512]) has 512 parameters\n",
      "layer.shape = torch.Size([512]) has 512 parameters\n",
      "layer.shape = torch.Size([512]) has 512 parameters\n",
      "layer.shape = torch.Size([512]) has 512 parameters\n",
      "layer.shape = torch.Size([512]) has 512 parameters\n",
      "layer.shape = torch.Size([512, 512, 3, 3]) has 2359296 parameters\n",
      "layer.shape = torch.Size([512, 512, 3, 3]) has 2359296 parameters\n",
      "layer.shape = torch.Size([512, 512, 3, 3]) has 2359296 parameters\n",
      "layer.shape = torch.Size([512, 512, 3, 3]) has 2359296 parameters\n",
      "layer.shape = torch.Size([512]) has 512 parameters\n",
      "layer.shape = torch.Size([512]) has 512 parameters\n",
      "layer.shape = torch.Size([512]) has 512 parameters\n",
      "layer.shape = torch.Size([512]) has 512 parameters\n",
      "layer.shape = torch.Size([512]) has 512 parameters\n",
      "layer.shape = torch.Size([512]) has 512 parameters\n",
      "layer.shape = torch.Size([512]) has 512 parameters\n",
      "layer.shape = torch.Size([512]) has 512 parameters\n",
      "layer.shape = torch.Size([10, 512]) has 5120 parameters\n",
      "layer.shape = torch.Size([10]) has 10 parameters\n"
     ]
    }
   ],
   "source": [
    "# Count number of layer-wise parameters and total parameters-\n",
    "tot_params = 0\n",
    "for param in model.parameters():\n",
    "    print(f\"layer.shape = {param.shape} has {param.nelement()} parameters\")\n",
    "    tot_params += param.nelement()"
   ]
  },
  {
   "cell_type": "code",
   "execution_count": 28,
   "id": "89f8c7b3-9dba-4db4-b57a-727b6e24ba18",
   "metadata": {},
   "outputs": [
    {
     "name": "stdout",
     "output_type": "stream",
     "text": [
      "Total number of parameters in VGG-17 CNN = 20035018\n"
     ]
    }
   ],
   "source": [
    "print(f\"Total number of parameters in VGG-17 CNN = {tot_params}\")"
   ]
  },
  {
   "cell_type": "code",
   "execution_count": null,
   "id": "8e5a47ff-715c-4209-b90e-610c35d327ee",
   "metadata": {},
   "outputs": [],
   "source": [
    "'''\n",
    "# Print layer names-\n",
    "for layer in model.state_dict().keys():\n",
    "    print(f\"{layer} has dimension = {model.state_dict()[layer].shape}\")\n",
    "'''"
   ]
  },
  {
   "cell_type": "code",
   "execution_count": null,
   "id": "5088eddd-f871-4f04-bed0-befeca4bf62b",
   "metadata": {},
   "outputs": [],
   "source": []
  },
  {
   "cell_type": "code",
   "execution_count": null,
   "id": "046f8b5f-2c6e-4c73-b706-66d3942b08e3",
   "metadata": {},
   "outputs": [],
   "source": [
    "# Save random initial weights-\n",
    "torch.save(model.state_dict(), 'VGG18_random_weights_dropouts.pth')"
   ]
  },
  {
   "cell_type": "code",
   "execution_count": null,
   "id": "cea9496e-a7d0-46e1-b3a9-b545c6067807",
   "metadata": {},
   "outputs": [],
   "source": [
    "# Load randomly initialised weights-\n",
    "# model.load_state_dict(torch.load('VGG18_random_weights_dropouts.pth'))"
   ]
  },
  {
   "cell_type": "code",
   "execution_count": null,
   "id": "6d9216db-e6b0-4bdd-b01a-b97d2e424313",
   "metadata": {},
   "outputs": [],
   "source": []
  },
  {
   "cell_type": "code",
   "execution_count": null,
   "id": "2718ea79-ef6f-4a6d-bedc-87ef03fca19e",
   "metadata": {},
   "outputs": [],
   "source": []
  },
  {
   "cell_type": "markdown",
   "id": "cc9e084c-d248-4187-ad81-e1c02ab81c45",
   "metadata": {},
   "source": [
    "### Train _VGG-17_ CNN with _Initial learning rate warmup & step-decay_\n",
    "\n",
    "- number of train images = 50K, batch-size = 256, number of train steps in 1 epoch = 50K / 256 = 195.3125 = 195 steps.\n",
    "\n",
    "- Initial linear LR warmup: 195.3125 x 10 = 1953.125 steps. Or, 10 epochs from initial LR warmup = 0.0 to 0.1.\n",
    "\n",
    "- Use LR = 0.1 until $35^{th}$ epoch. Or, use LR = 0.1 until 6835.9375 steps = 6836 steps.\n",
    "\n",
    "- From $36^{th}$ until $50^{th}$ epochs use LR = 0.01. Or, until 9765.625 steps = 9766 steps.\n",
    "\n",
    "- From $51^{st}$ until $70^{th}$ epochs use LR = 0.001. Or, until 13671.875 steps = 13672 steps.\n",
    "\n",
    "- For remaining epochs, use LR = 0.0001."
   ]
  },
  {
   "cell_type": "code",
   "execution_count": 37,
   "id": "77ac8b68-71c5-4886-9bcd-4c62c4b8789b",
   "metadata": {},
   "outputs": [],
   "source": [
    "boundaries = [6836, 9766, 13672]\n",
    "values = [0.1, 0.01, 0.001, 0.0001]"
   ]
  },
  {
   "cell_type": "code",
   "execution_count": null,
   "id": "73d49afd-792a-42cd-917a-e2848ad994a4",
   "metadata": {},
   "outputs": [],
   "source": []
  },
  {
   "cell_type": "code",
   "execution_count": 38,
   "id": "01d6ecc9-2399-4af9-be49-dc13c074647d",
   "metadata": {},
   "outputs": [],
   "source": [
    "# Define loss function and optimizer-\n",
    "loss = nn.CrossEntropyLoss()\n",
    "\n",
    "# optimizer = torch.optim.Adam(model.parameters(), lr = learning_rate)\n",
    "optimizer = torch.optim.SGD(model.parameters(), lr = 0.0, momentum = 0.9, weight_decay = 5e-4)"
   ]
  },
  {
   "cell_type": "code",
   "execution_count": 39,
   "id": "1a0fc3f0-628e-4eaf-8d20-1e6629f664a5",
   "metadata": {},
   "outputs": [
    {
     "data": {
      "text/plain": [
       "0.0"
      ]
     },
     "execution_count": 39,
     "metadata": {},
     "output_type": "execute_result"
    }
   ],
   "source": [
    "# Sanity check-\n",
    "optimizer.param_groups[0]['lr']"
   ]
  },
  {
   "cell_type": "code",
   "execution_count": null,
   "id": "9c8192ae-e31a-44af-98e7-ad96c58a7443",
   "metadata": {},
   "outputs": [],
   "source": []
  },
  {
   "cell_type": "code",
   "execution_count": 45,
   "id": "2bfe2281-88e8-4b65-b35c-4259a44896a5",
   "metadata": {},
   "outputs": [],
   "source": [
    "def decay_function(step, boundaries = [6836, 9766, 13672], values = [0.1, 0.01, 0.001, 0.0001]):\n",
    "    '''\n",
    "    One epoch has 195.3125 steps/iterations using batch size used above.\n",
    "    \n",
    "    Until 35th epochs, or 35 x 195.3125 = 6836 steps, use lr = 0.1\n",
    "    From 36th epoch until 50th epoch, or 9766 steps use LR = 0.01\n",
    "    From 51st epoch until 70th epoch or, 13672 steps use LR = 0.001\n",
    "    For remaining epochs/steps LR = 0.0001\n",
    "    '''\n",
    "    \n",
    "    for idx, bound in enumerate(boundaries):\n",
    "        if step < bound:\n",
    "            return values[idx]\n",
    "\n",
    "    return values[-1]\n"
   ]
  },
  {
   "cell_type": "code",
   "execution_count": null,
   "id": "c46fe9fc-44b1-4e9d-8adb-0c81f02758c8",
   "metadata": {},
   "outputs": [],
   "source": []
  },
  {
   "cell_type": "code",
   "execution_count": 46,
   "id": "592dcba1-567a-460b-83d8-5750bf5a306a",
   "metadata": {},
   "outputs": [],
   "source": [
    "class schedule():\n",
    "\n",
    "    def __init__(self, initial_learning_rate = 0.1, warmup_steps = 1000, decay_func = None):\n",
    "        self.initial_learning_rate = initial_learning_rate\n",
    "        self.warmup_steps = warmup_steps\n",
    "        self.decay_func = decay_func\n",
    "        self.warmup_step_size = initial_learning_rate/warmup_steps\n",
    "        self.current_lr = 0\n",
    "\n",
    "    def get_lr(self, step):\n",
    "        if step == 0:\n",
    "            return self.current_lr\n",
    "        elif step <= self.warmup_steps:\n",
    "            self.current_lr+=self.warmup_step_size\n",
    "            return self.current_lr\n",
    "        elif step > self.warmup_steps:\n",
    "            if self.decay_func:\n",
    "                return self.decay_func(step)\n",
    "        else:\n",
    "            return self.current_lr\n"
   ]
  },
  {
   "cell_type": "code",
   "execution_count": null,
   "id": "26d70c2a-00e8-4b9f-8e73-08f0e2bc126e",
   "metadata": {},
   "outputs": [],
   "source": []
  },
  {
   "cell_type": "code",
   "execution_count": 47,
   "id": "2d9a02f2-d243-49dc-8ef4-ed4946109e4c",
   "metadata": {},
   "outputs": [],
   "source": [
    "# Initial linear LR warmup: 195.3125 x 10 = 1953.125 steps in 10 epochs.\n",
    "custom_lr_scheduler = schedule(\n",
    "    initial_learning_rate = 0.1, warmup_steps = 1953,\n",
    "    decay_func = decay_function\n",
    ")\n"
   ]
  },
  {
   "cell_type": "code",
   "execution_count": null,
   "id": "dba0ec4b-264a-48db-a2d7-06e5f48dc7cc",
   "metadata": {},
   "outputs": [],
   "source": []
  },
  {
   "cell_type": "code",
   "execution_count": 48,
   "id": "ea2a1676-02da-4a8c-beb4-c7d493c0e3c5",
   "metadata": {},
   "outputs": [],
   "source": [
    "step = 0"
   ]
  },
  {
   "cell_type": "code",
   "execution_count": null,
   "id": "b9a69467-8c10-424e-9ff3-636466f1ddce",
   "metadata": {},
   "outputs": [],
   "source": []
  },
  {
   "cell_type": "code",
   "execution_count": 49,
   "id": "1510979c-ec43-49c8-9c02-28dd8075c311",
   "metadata": {},
   "outputs": [],
   "source": [
    "def train_model_progress(model, train_loader):\n",
    "    '''\n",
    "    Function to perform one epoch of training by using 'train_loader'.\n",
    "    Returns loss and number of correct predictions for this epoch.\n",
    "    '''\n",
    "    running_loss = 0.0\n",
    "    running_corrects = 0.0\n",
    "    \n",
    "    model.train()\n",
    "    \n",
    "    with tqdm(train_loader, unit = 'batch') as tepoch:\n",
    "        for images, labels in tepoch:\n",
    "            tepoch.set_description(f\"Training: \")\n",
    "            \n",
    "            images = images.to(device)\n",
    "            labels = labels.to(device)\n",
    "            \n",
    "            # Get model predictions-\n",
    "            outputs = model(images)\n",
    "            \n",
    "            # Compute loss-\n",
    "            J = loss(outputs, labels)\n",
    "            \n",
    "            # Empty accumulated gradients-\n",
    "            optimizer.zero_grad()\n",
    "            \n",
    "            # Perform backprop-\n",
    "            J.backward()\n",
    "            \n",
    "            # Update parameters-\n",
    "            optimizer.step()\n",
    "            \n",
    "            global step\n",
    "            optimizer.param_groups[0]['lr'] = custom_lr_scheduler.get_lr(step)\n",
    "\n",
    "            step += 1\n",
    "            \n",
    "            # Compute model's performance statistics-\n",
    "            running_loss += J.item() * images.size(0)\n",
    "            _, predicted = torch.max(outputs, 1)\n",
    "            running_corrects += torch.sum(predicted == labels.data)\n",
    "            \n",
    "            tepoch.set_postfix(\n",
    "                loss = running_loss / len(train_dataset),\n",
    "                accuracy = (running_corrects.double().cpu().numpy() / len(train_dataset)) * 100\n",
    "            )\n",
    "            \n",
    "    \n",
    "    train_loss = running_loss / len(train_dataset)\n",
    "    train_acc = (running_corrects.double() / len(train_dataset)) * 100\n",
    "    \n",
    "\n",
    "    # return running_loss, running_corrects\n",
    "    return train_loss, train_acc.cpu().numpy()\n",
    "    "
   ]
  },
  {
   "cell_type": "code",
   "execution_count": 50,
   "id": "4bf50071-3241-4ac0-b37d-0fc6acdd50b7",
   "metadata": {},
   "outputs": [],
   "source": [
    "def test_model_progress(model, test_loader):\n",
    "    total = 0.0\n",
    "    correct = 0.0\n",
    "    running_loss_val = 0.0\n",
    "\n",
    "    with torch.no_grad():\n",
    "        with tqdm(test_loader, unit = 'batch') as tepoch:\n",
    "            for images, labels in tepoch:\n",
    "                tepoch.set_description(f\"Validation: \")\n",
    "                \n",
    "                images = images.to(device)\n",
    "                labels = labels.to(device)\n",
    "                \n",
    "                # Set model to evaluation mode-\n",
    "                model.eval()\n",
    "            \n",
    "                # Predict using trained model-\n",
    "                outputs = model(images)\n",
    "                _, y_pred = torch.max(outputs, 1)\n",
    "                \n",
    "                # Compute validation loss-\n",
    "                J_val = loss(outputs, labels)\n",
    "                \n",
    "                running_loss_val += J_val.item() * labels.size(0)\n",
    "    \n",
    "                # Total number of labels-\n",
    "                total += labels.size(0)\n",
    "\n",
    "                # Total number of correct predictions-\n",
    "                correct += (y_pred == labels).sum()\n",
    "                \n",
    "                tepoch.set_postfix(\n",
    "                    val_loss = running_loss_val / len(test_dataset),\n",
    "                    val_acc = 100 * (correct.cpu().numpy() / total)\n",
    "                )\n",
    "            \n",
    "        \n",
    "    # return (running_loss_val, correct, total)\n",
    "    val_loss = running_loss_val / len(test_dataset)\n",
    "    val_acc = (correct / total) * 100\n",
    "\n",
    "    return val_loss, val_acc.cpu().numpy()\n"
   ]
  },
  {
   "cell_type": "code",
   "execution_count": null,
   "id": "ab07979c-f17e-406a-af38-03f279021cee",
   "metadata": {},
   "outputs": [],
   "source": []
  },
  {
   "cell_type": "code",
   "execution_count": null,
   "id": "48c41835-2380-49d1-a4a4-d8759e6c16ea",
   "metadata": {},
   "outputs": [],
   "source": []
  },
  {
   "cell_type": "code",
   "execution_count": 51,
   "id": "a6bdacbe-255f-4d3e-bc12-7578677ba48a",
   "metadata": {},
   "outputs": [],
   "source": [
    "# Python3 dict to contain training metrics-\n",
    "training_history_lr_scheduler = {}"
   ]
  },
  {
   "cell_type": "code",
   "execution_count": 52,
   "id": "8e77bbbe-80bc-46e6-8c7b-5eae271cebc0",
   "metadata": {},
   "outputs": [],
   "source": [
    "# Initialize parameters saving 'best' models-\n",
    "best_val_loss = 100\n",
    "loc_patience = 0"
   ]
  },
  {
   "cell_type": "code",
   "execution_count": null,
   "id": "b5c9c21b-dbda-4cd4-a370-ac2a4b873c3b",
   "metadata": {},
   "outputs": [],
   "source": []
  },
  {
   "cell_type": "code",
   "execution_count": 53,
   "id": "8bc9b728-58b2-4964-bc4f-cdecb972107b",
   "metadata": {},
   "outputs": [
    {
     "name": "stderr",
     "output_type": "stream",
     "text": [
      "Training: : 100%|████████████████████████████████████████████████████████████████████████| 196/196 [00:17<00:00, 11.29batch/s, accuracy=15.8, loss=2.23]\n",
      "Validation: : 100%|███████████████████████████████████████████████████████████████████████| 40/40 [00:01<00:00, 26.99batch/s, val_acc=10, val_loss=3.07]\n"
     ]
    },
    {
     "name": "stdout",
     "output_type": "stream",
     "text": [
      "\n",
      "epoch: 1 training loss = 2.2345, training accuracy = 15.83%, val_loss = 3.0697, val_accuracy = 10.00% & LR = 0.0100\n",
      "\n",
      "Saving model with lowest val_loss = 3.0697\n",
      "\n"
     ]
    },
    {
     "name": "stderr",
     "output_type": "stream",
     "text": [
      "Training: : 100%|████████████████████████████████████████████████████████████████████████| 196/196 [00:17<00:00, 11.32batch/s, accuracy=26.7, loss=1.86]\n",
      "Validation: : 100%|█████████████████████████████████████████████████████████████████████| 40/40 [00:01<00:00, 26.88batch/s, val_acc=14.6, val_loss=3.43]\n"
     ]
    },
    {
     "name": "stdout",
     "output_type": "stream",
     "text": [
      "\n",
      "epoch: 2 training loss = 1.8590, training accuracy = 26.70%, val_loss = 3.4272, val_accuracy = 14.59% & LR = 0.0200\n",
      "\n"
     ]
    },
    {
     "name": "stderr",
     "output_type": "stream",
     "text": [
      "Training: : 100%|████████████████████████████████████████████████████████████████████████| 196/196 [00:17<00:00, 11.30batch/s, accuracy=37.4, loss=1.62]\n",
      "Validation: : 100%|█████████████████████████████████████████████████████████████████████| 40/40 [00:01<00:00, 26.83batch/s, val_acc=13.2, val_loss=2.89]\n"
     ]
    },
    {
     "name": "stdout",
     "output_type": "stream",
     "text": [
      "\n",
      "epoch: 3 training loss = 1.6155, training accuracy = 37.36%, val_loss = 2.8894, val_accuracy = 13.19% & LR = 0.0301\n",
      "\n",
      "Saving model with lowest val_loss = 2.8894\n",
      "\n"
     ]
    },
    {
     "name": "stderr",
     "output_type": "stream",
     "text": [
      "Training: : 100%|████████████████████████████████████████████████████████████████████████| 196/196 [00:17<00:00, 11.25batch/s, accuracy=49.1, loss=1.37]\n",
      "Validation: : 100%|███████████████████████████████████████████████████████████████████████| 40/40 [00:01<00:00, 26.76batch/s, val_acc=34, val_loss=1.85]\n"
     ]
    },
    {
     "name": "stdout",
     "output_type": "stream",
     "text": [
      "\n",
      "epoch: 4 training loss = 1.3668, training accuracy = 49.09%, val_loss = 1.8484, val_accuracy = 33.95% & LR = 0.0401\n",
      "\n",
      "Saving model with lowest val_loss = 1.8484\n",
      "\n"
     ]
    },
    {
     "name": "stderr",
     "output_type": "stream",
     "text": [
      "Training: : 100%|███████████████████████████████████████████████████████████████████████████| 196/196 [00:17<00:00, 11.28batch/s, accuracy=61, loss=1.1]\n",
      "Validation: : 100%|█████████████████████████████████████████████████████████████████████| 40/40 [00:01<00:00, 26.80batch/s, val_acc=50.6, val_loss=1.43]\n"
     ]
    },
    {
     "name": "stdout",
     "output_type": "stream",
     "text": [
      "\n",
      "epoch: 5 training loss = 1.0980, training accuracy = 61.01%, val_loss = 1.4324, val_accuracy = 50.60% & LR = 0.0501\n",
      "\n",
      "Saving model with lowest val_loss = 1.4324\n",
      "\n"
     ]
    },
    {
     "name": "stderr",
     "output_type": "stream",
     "text": [
      "Training: : 100%|███████████████████████████████████████████████████████████████████████| 196/196 [00:17<00:00, 11.22batch/s, accuracy=66.5, loss=0.955]\n",
      "Validation: : 100%|█████████████████████████████████████████████████████████████████████| 40/40 [00:01<00:00, 26.73batch/s, val_acc=59.5, val_loss=1.26]\n"
     ]
    },
    {
     "name": "stdout",
     "output_type": "stream",
     "text": [
      "\n",
      "epoch: 6 training loss = 0.9546, training accuracy = 66.54%, val_loss = 1.2605, val_accuracy = 59.50% & LR = 0.0602\n",
      "\n",
      "Saving model with lowest val_loss = 1.2605\n",
      "\n"
     ]
    },
    {
     "name": "stderr",
     "output_type": "stream",
     "text": [
      "Training: : 100%|███████████████████████████████████████████████████████████████████████| 196/196 [00:17<00:00, 11.20batch/s, accuracy=70.6, loss=0.856]\n",
      "Validation: : 100%|█████████████████████████████████████████████████████████████████████| 40/40 [00:01<00:00, 26.71batch/s, val_acc=54.7, val_loss=1.39]\n"
     ]
    },
    {
     "name": "stdout",
     "output_type": "stream",
     "text": [
      "\n",
      "epoch: 7 training loss = 0.8560, training accuracy = 70.61%, val_loss = 1.3886, val_accuracy = 54.69% & LR = 0.0702\n",
      "\n"
     ]
    },
    {
     "name": "stderr",
     "output_type": "stream",
     "text": [
      "Training: : 100%|███████████████████████████████████████████████████████████████████████| 196/196 [00:17<00:00, 11.21batch/s, accuracy=73.4, loss=0.782]\n",
      "Validation: : 100%|█████████████████████████████████████████████████████████████████████| 40/40 [00:01<00:00, 26.77batch/s, val_acc=71.1, val_loss=1.01]\n"
     ]
    },
    {
     "name": "stdout",
     "output_type": "stream",
     "text": [
      "\n",
      "epoch: 8 training loss = 0.7816, training accuracy = 73.42%, val_loss = 1.0124, val_accuracy = 71.13% & LR = 0.0802\n",
      "\n",
      "Saving model with lowest val_loss = 1.0124\n",
      "\n"
     ]
    },
    {
     "name": "stderr",
     "output_type": "stream",
     "text": [
      "Training: : 100%|███████████████████████████████████████████████████████████████████████| 196/196 [00:17<00:00, 11.21batch/s, accuracy=75.3, loss=0.739]\n",
      "Validation: : 100%|██████████████████████████████████████████████████████████████████████| 40/40 [00:01<00:00, 26.75batch/s, val_acc=64.1, val_loss=1.1]\n"
     ]
    },
    {
     "name": "stdout",
     "output_type": "stream",
     "text": [
      "\n",
      "epoch: 9 training loss = 0.7388, training accuracy = 75.35%, val_loss = 1.0990, val_accuracy = 64.14% & LR = 0.0903\n",
      "\n"
     ]
    },
    {
     "name": "stderr",
     "output_type": "stream",
     "text": [
      "Training: : 100%|███████████████████████████████████████████████████████████████████████| 196/196 [00:17<00:00, 11.22batch/s, accuracy=77.1, loss=0.693]\n",
      "Validation: : 100%|███████████████████████████████████████████████████████████████████████| 40/40 [00:01<00:00, 26.75batch/s, val_acc=69, val_loss=1.03]\n"
     ]
    },
    {
     "name": "stdout",
     "output_type": "stream",
     "text": [
      "\n",
      "epoch: 10 training loss = 0.6929, training accuracy = 77.09%, val_loss = 1.0262, val_accuracy = 69.02% & LR = 0.1000\n",
      "\n"
     ]
    },
    {
     "name": "stderr",
     "output_type": "stream",
     "text": [
      "Training: : 100%|███████████████████████████████████████████████████████████████████████| 196/196 [00:17<00:00, 11.22batch/s, accuracy=78.3, loss=0.659]\n",
      "Validation: : 100%|█████████████████████████████████████████████████████████████████████| 40/40 [00:01<00:00, 26.73batch/s, val_acc=65.2, val_loss=1.09]\n"
     ]
    },
    {
     "name": "stdout",
     "output_type": "stream",
     "text": [
      "\n",
      "epoch: 11 training loss = 0.6586, training accuracy = 78.26%, val_loss = 1.0863, val_accuracy = 65.16% & LR = 0.1000\n",
      "\n"
     ]
    },
    {
     "name": "stderr",
     "output_type": "stream",
     "text": [
      "Training: : 100%|███████████████████████████████████████████████████████████████████████| 196/196 [00:17<00:00, 11.22batch/s, accuracy=79.7, loss=0.614]\n",
      "Validation: : 100%|████████████████████████████████████████████████████████████████████| 40/40 [00:01<00:00, 26.69batch/s, val_acc=76.8, val_loss=0.801]\n"
     ]
    },
    {
     "name": "stdout",
     "output_type": "stream",
     "text": [
      "\n",
      "epoch: 12 training loss = 0.6142, training accuracy = 79.65%, val_loss = 0.8007, val_accuracy = 76.83% & LR = 0.1000\n",
      "\n",
      "Saving model with lowest val_loss = 0.8007\n",
      "\n"
     ]
    },
    {
     "name": "stderr",
     "output_type": "stream",
     "text": [
      "Training: : 100%|█████████████████████████████████████████████████████████████████████████| 196/196 [00:17<00:00, 11.17batch/s, accuracy=81, loss=0.577]\n",
      "Validation: : 100%|████████████████████████████████████████████████████████████████████████| 40/40 [00:01<00:00, 26.59batch/s, val_acc=68.9, val_loss=1]\n"
     ]
    },
    {
     "name": "stdout",
     "output_type": "stream",
     "text": [
      "\n",
      "epoch: 13 training loss = 0.5772, training accuracy = 80.99%, val_loss = 1.0028, val_accuracy = 68.92% & LR = 0.1000\n",
      "\n"
     ]
    },
    {
     "name": "stderr",
     "output_type": "stream",
     "text": [
      "Training: : 100%|███████████████████████████████████████████████████████████████████████| 196/196 [00:17<00:00, 11.17batch/s, accuracy=81.3, loss=0.569]\n",
      "Validation: : 100%|████████████████████████████████████████████████████████████████████| 40/40 [00:01<00:00, 26.72batch/s, val_acc=77.3, val_loss=0.781]\n"
     ]
    },
    {
     "name": "stdout",
     "output_type": "stream",
     "text": [
      "\n",
      "epoch: 14 training loss = 0.5686, training accuracy = 81.29%, val_loss = 0.7813, val_accuracy = 77.32% & LR = 0.1000\n",
      "\n",
      "Saving model with lowest val_loss = 0.7813\n",
      "\n"
     ]
    },
    {
     "name": "stderr",
     "output_type": "stream",
     "text": [
      "Training: : 100%|███████████████████████████████████████████████████████████████████████| 196/196 [00:17<00:00, 11.20batch/s, accuracy=82.3, loss=0.541]\n",
      "Validation: : 100%|████████████████████████████████████████████████████████████████████| 40/40 [00:01<00:00, 26.70batch/s, val_acc=76.4, val_loss=0.793]\n"
     ]
    },
    {
     "name": "stdout",
     "output_type": "stream",
     "text": [
      "\n",
      "epoch: 15 training loss = 0.5409, training accuracy = 82.31%, val_loss = 0.7925, val_accuracy = 76.39% & LR = 0.1000\n",
      "\n"
     ]
    },
    {
     "name": "stderr",
     "output_type": "stream",
     "text": [
      "Training: : 100%|███████████████████████████████████████████████████████████████████████| 196/196 [00:17<00:00, 11.16batch/s, accuracy=82.7, loss=0.522]\n",
      "Validation: : 100%|██████████████████████████████████████████████████████████████████████| 40/40 [00:01<00:00, 26.67batch/s, val_acc=78, val_loss=0.795]\n"
     ]
    },
    {
     "name": "stdout",
     "output_type": "stream",
     "text": [
      "\n",
      "epoch: 16 training loss = 0.5219, training accuracy = 82.68%, val_loss = 0.7947, val_accuracy = 77.98% & LR = 0.1000\n",
      "\n"
     ]
    },
    {
     "name": "stderr",
     "output_type": "stream",
     "text": [
      "Training: : 100%|███████████████████████████████████████████████████████████████████████| 196/196 [00:17<00:00, 11.16batch/s, accuracy=83.1, loss=0.514]\n",
      "Validation: : 100%|████████████████████████████████████████████████████████████████████| 40/40 [00:01<00:00, 26.61batch/s, val_acc=71.1, val_loss=0.909]\n"
     ]
    },
    {
     "name": "stdout",
     "output_type": "stream",
     "text": [
      "\n",
      "epoch: 17 training loss = 0.5137, training accuracy = 83.10%, val_loss = 0.9088, val_accuracy = 71.14% & LR = 0.1000\n",
      "\n"
     ]
    },
    {
     "name": "stderr",
     "output_type": "stream",
     "text": [
      "Training: : 100%|███████████████████████████████████████████████████████████████████████| 196/196 [00:17<00:00, 11.14batch/s, accuracy=83.4, loss=0.506]\n",
      "Validation: : 100%|██████████████████████████████████████████████████████████████████████| 40/40 [00:01<00:00, 26.59batch/s, val_acc=76.8, val_loss=0.8]\n"
     ]
    },
    {
     "name": "stdout",
     "output_type": "stream",
     "text": [
      "\n",
      "epoch: 18 training loss = 0.5056, training accuracy = 83.44%, val_loss = 0.8005, val_accuracy = 76.75% & LR = 0.1000\n",
      "\n"
     ]
    },
    {
     "name": "stderr",
     "output_type": "stream",
     "text": [
      "Training: : 100%|███████████████████████████████████████████████████████████████████████| 196/196 [00:17<00:00, 11.14batch/s, accuracy=83.8, loss=0.494]\n",
      "Validation: : 100%|██████████████████████████████████████████████████████████████████████| 40/40 [00:01<00:00, 26.60batch/s, val_acc=78, val_loss=0.732]\n"
     ]
    },
    {
     "name": "stdout",
     "output_type": "stream",
     "text": [
      "\n",
      "epoch: 19 training loss = 0.4939, training accuracy = 83.81%, val_loss = 0.7316, val_accuracy = 78.02% & LR = 0.1000\n",
      "\n",
      "Saving model with lowest val_loss = 0.7316\n",
      "\n"
     ]
    },
    {
     "name": "stderr",
     "output_type": "stream",
     "text": [
      "Training: : 100%|███████████████████████████████████████████████████████████████████████| 196/196 [00:17<00:00, 11.11batch/s, accuracy=84.1, loss=0.486]\n",
      "Validation: : 100%|████████████████████████████████████████████████████████████████████| 40/40 [00:01<00:00, 26.57batch/s, val_acc=80.5, val_loss=0.693]\n"
     ]
    },
    {
     "name": "stdout",
     "output_type": "stream",
     "text": [
      "\n",
      "epoch: 20 training loss = 0.4859, training accuracy = 84.12%, val_loss = 0.6930, val_accuracy = 80.46% & LR = 0.1000\n",
      "\n",
      "Saving model with lowest val_loss = 0.6930\n",
      "\n"
     ]
    },
    {
     "name": "stderr",
     "output_type": "stream",
     "text": [
      "Training: : 100%|███████████████████████████████████████████████████████████████████████| 196/196 [00:17<00:00, 11.11batch/s, accuracy=83.9, loss=0.491]\n",
      "Validation: : 100%|████████████████████████████████████████████████████████████████████| 40/40 [00:01<00:00, 26.53batch/s, val_acc=76.5, val_loss=0.794]\n"
     ]
    },
    {
     "name": "stdout",
     "output_type": "stream",
     "text": [
      "\n",
      "epoch: 21 training loss = 0.4908, training accuracy = 83.92%, val_loss = 0.7939, val_accuracy = 76.46% & LR = 0.1000\n",
      "\n"
     ]
    },
    {
     "name": "stderr",
     "output_type": "stream",
     "text": [
      "Training: : 100%|█████████████████████████████████████████████████████████████████████████| 196/196 [00:17<00:00, 11.11batch/s, accuracy=85, loss=0.464]\n",
      "Validation: : 100%|████████████████████████████████████████████████████████████████████| 40/40 [00:01<00:00, 26.52batch/s, val_acc=73.5, val_loss=0.797]\n"
     ]
    },
    {
     "name": "stdout",
     "output_type": "stream",
     "text": [
      "\n",
      "epoch: 22 training loss = 0.4641, training accuracy = 85.02%, val_loss = 0.7969, val_accuracy = 73.48% & LR = 0.1000\n",
      "\n"
     ]
    },
    {
     "name": "stderr",
     "output_type": "stream",
     "text": [
      "Training: : 100%|███████████████████████████████████████████████████████████████████████| 196/196 [00:17<00:00, 11.10batch/s, accuracy=84.5, loss=0.477]\n",
      "Validation: : 100%|████████████████████████████████████████████████████████████████████| 40/40 [00:01<00:00, 26.54batch/s, val_acc=69.1, val_loss=0.889]\n"
     ]
    },
    {
     "name": "stdout",
     "output_type": "stream",
     "text": [
      "\n",
      "epoch: 23 training loss = 0.4775, training accuracy = 84.45%, val_loss = 0.8887, val_accuracy = 69.10% & LR = 0.1000\n",
      "\n"
     ]
    },
    {
     "name": "stderr",
     "output_type": "stream",
     "text": [
      "Training: : 100%|███████████████████████████████████████████████████████████████████████| 196/196 [00:17<00:00, 11.12batch/s, accuracy=84.7, loss=0.467]\n",
      "Validation: : 100%|████████████████████████████████████████████████████████████████████| 40/40 [00:01<00:00, 26.56batch/s, val_acc=75.2, val_loss=0.774]\n"
     ]
    },
    {
     "name": "stdout",
     "output_type": "stream",
     "text": [
      "\n",
      "epoch: 24 training loss = 0.4671, training accuracy = 84.65%, val_loss = 0.7737, val_accuracy = 75.25% & LR = 0.1000\n",
      "\n"
     ]
    },
    {
     "name": "stderr",
     "output_type": "stream",
     "text": [
      "Training: : 100%|█████████████████████████████████████████████████████████████████████████| 196/196 [00:17<00:00, 11.11batch/s, accuracy=85, loss=0.459]\n",
      "Validation: : 100%|████████████████████████████████████████████████████████████████████| 40/40 [00:01<00:00, 26.52batch/s, val_acc=79.6, val_loss=0.693]\n"
     ]
    },
    {
     "name": "stdout",
     "output_type": "stream",
     "text": [
      "\n",
      "epoch: 25 training loss = 0.4588, training accuracy = 85.04%, val_loss = 0.6935, val_accuracy = 79.56% & LR = 0.1000\n",
      "\n"
     ]
    },
    {
     "name": "stderr",
     "output_type": "stream",
     "text": [
      "Training: : 100%|███████████████████████████████████████████████████████████████████████| 196/196 [00:17<00:00, 11.14batch/s, accuracy=85.1, loss=0.459]\n",
      "Validation: : 100%|████████████████████████████████████████████████████████████████████| 40/40 [00:01<00:00, 26.61batch/s, val_acc=82.5, val_loss=0.625]\n"
     ]
    },
    {
     "name": "stdout",
     "output_type": "stream",
     "text": [
      "\n",
      "epoch: 26 training loss = 0.4589, training accuracy = 85.10%, val_loss = 0.6252, val_accuracy = 82.53% & LR = 0.1000\n",
      "\n",
      "Saving model with lowest val_loss = 0.6252\n",
      "\n"
     ]
    },
    {
     "name": "stderr",
     "output_type": "stream",
     "text": [
      "Training: : 100%|███████████████████████████████████████████████████████████████████████| 196/196 [00:17<00:00, 11.11batch/s, accuracy=85.5, loss=0.448]\n",
      "Validation: : 100%|████████████████████████████████████████████████████████████████████| 40/40 [00:01<00:00, 26.64batch/s, val_acc=78.6, val_loss=0.687]\n"
     ]
    },
    {
     "name": "stdout",
     "output_type": "stream",
     "text": [
      "\n",
      "epoch: 27 training loss = 0.4481, training accuracy = 85.47%, val_loss = 0.6866, val_accuracy = 78.65% & LR = 0.1000\n",
      "\n"
     ]
    },
    {
     "name": "stderr",
     "output_type": "stream",
     "text": [
      "Training: : 100%|███████████████████████████████████████████████████████████████████████| 196/196 [00:17<00:00, 11.13batch/s, accuracy=85.5, loss=0.444]\n",
      "Validation: : 100%|████████████████████████████████████████████████████████████████████| 40/40 [00:01<00:00, 26.60batch/s, val_acc=81.4, val_loss=0.684]\n"
     ]
    },
    {
     "name": "stdout",
     "output_type": "stream",
     "text": [
      "\n",
      "epoch: 28 training loss = 0.4439, training accuracy = 85.53%, val_loss = 0.6838, val_accuracy = 81.42% & LR = 0.1000\n",
      "\n"
     ]
    },
    {
     "name": "stderr",
     "output_type": "stream",
     "text": [
      "Training: : 100%|████████████████████████████████████████████████████████████████████████| 196/196 [00:17<00:00, 11.11batch/s, accuracy=85.7, loss=0.44]\n",
      "Validation: : 100%|████████████████████████████████████████████████████████████████████| 40/40 [00:01<00:00, 26.46batch/s, val_acc=81.8, val_loss=0.673]\n"
     ]
    },
    {
     "name": "stdout",
     "output_type": "stream",
     "text": [
      "\n",
      "epoch: 29 training loss = 0.4397, training accuracy = 85.69%, val_loss = 0.6727, val_accuracy = 81.81% & LR = 0.1000\n",
      "\n"
     ]
    },
    {
     "name": "stderr",
     "output_type": "stream",
     "text": [
      "Training: : 100%|███████████████████████████████████████████████████████████████████████| 196/196 [00:17<00:00, 11.10batch/s, accuracy=85.4, loss=0.445]\n",
      "Validation: : 100%|████████████████████████████████████████████████████████████████████| 40/40 [00:01<00:00, 26.52batch/s, val_acc=75.6, val_loss=0.785]\n"
     ]
    },
    {
     "name": "stdout",
     "output_type": "stream",
     "text": [
      "\n",
      "epoch: 30 training loss = 0.4451, training accuracy = 85.44%, val_loss = 0.7846, val_accuracy = 75.65% & LR = 0.1000\n",
      "\n"
     ]
    },
    {
     "name": "stderr",
     "output_type": "stream",
     "text": [
      "Training: : 100%|███████████████████████████████████████████████████████████████████████| 196/196 [00:17<00:00, 11.10batch/s, accuracy=85.7, loss=0.444]\n",
      "Validation: : 100%|████████████████████████████████████████████████████████████████████| 40/40 [00:01<00:00, 26.50batch/s, val_acc=77.8, val_loss=0.708]\n"
     ]
    },
    {
     "name": "stdout",
     "output_type": "stream",
     "text": [
      "\n",
      "epoch: 31 training loss = 0.4440, training accuracy = 85.70%, val_loss = 0.7078, val_accuracy = 77.82% & LR = 0.1000\n",
      "\n"
     ]
    },
    {
     "name": "stderr",
     "output_type": "stream",
     "text": [
      "Training: : 100%|█████████████████████████████████████████████████████████████████████████| 196/196 [00:17<00:00, 11.10batch/s, accuracy=86, loss=0.431]\n",
      "Validation: : 100%|████████████████████████████████████████████████████████████████████| 40/40 [00:01<00:00, 26.53batch/s, val_acc=83.8, val_loss=0.586]\n"
     ]
    },
    {
     "name": "stdout",
     "output_type": "stream",
     "text": [
      "\n",
      "epoch: 32 training loss = 0.4310, training accuracy = 86.03%, val_loss = 0.5860, val_accuracy = 83.79% & LR = 0.1000\n",
      "\n",
      "Saving model with lowest val_loss = 0.5860\n",
      "\n"
     ]
    },
    {
     "name": "stderr",
     "output_type": "stream",
     "text": [
      "Training: : 100%|███████████████████████████████████████████████████████████████████████| 196/196 [00:17<00:00, 11.13batch/s, accuracy=85.8, loss=0.436]\n",
      "Validation: : 100%|████████████████████████████████████████████████████████████████████| 40/40 [00:01<00:00, 26.54batch/s, val_acc=80.5, val_loss=0.671]\n"
     ]
    },
    {
     "name": "stdout",
     "output_type": "stream",
     "text": [
      "\n",
      "epoch: 33 training loss = 0.4355, training accuracy = 85.83%, val_loss = 0.6714, val_accuracy = 80.51% & LR = 0.1000\n",
      "\n"
     ]
    },
    {
     "name": "stderr",
     "output_type": "stream",
     "text": [
      "Training: : 100%|███████████████████████████████████████████████████████████████████████| 196/196 [00:17<00:00, 11.11batch/s, accuracy=85.7, loss=0.444]\n",
      "Validation: : 100%|████████████████████████████████████████████████████████████████████| 40/40 [00:01<00:00, 26.56batch/s, val_acc=80.2, val_loss=0.663]\n"
     ]
    },
    {
     "name": "stdout",
     "output_type": "stream",
     "text": [
      "\n",
      "epoch: 34 training loss = 0.4442, training accuracy = 85.66%, val_loss = 0.6629, val_accuracy = 80.25% & LR = 0.1000\n",
      "\n"
     ]
    },
    {
     "name": "stderr",
     "output_type": "stream",
     "text": [
      "Training: : 100%|███████████████████████████████████████████████████████████████████████| 196/196 [00:17<00:00, 11.15batch/s, accuracy=86.4, loss=0.421]\n",
      "Validation: : 100%|████████████████████████████████████████████████████████████████████| 40/40 [00:01<00:00, 26.57batch/s, val_acc=87.7, val_loss=0.491]\n"
     ]
    },
    {
     "name": "stdout",
     "output_type": "stream",
     "text": [
      "\n",
      "epoch: 35 training loss = 0.4215, training accuracy = 86.35%, val_loss = 0.4911, val_accuracy = 87.72% & LR = 0.0100\n",
      "\n",
      "Saving model with lowest val_loss = 0.4911\n",
      "\n"
     ]
    },
    {
     "name": "stderr",
     "output_type": "stream",
     "text": [
      "Training: : 100%|█████████████████████████████████████████████████████████████████████████| 196/196 [00:17<00:00, 11.11batch/s, accuracy=91, loss=0.276]\n",
      "Validation: : 100%|████████████████████████████████████████████████████████████████████| 40/40 [00:01<00:00, 26.49batch/s, val_acc=90.5, val_loss=0.362]\n"
     ]
    },
    {
     "name": "stdout",
     "output_type": "stream",
     "text": [
      "\n",
      "epoch: 36 training loss = 0.2761, training accuracy = 90.96%, val_loss = 0.3619, val_accuracy = 90.50% & LR = 0.0100\n",
      "\n",
      "Saving model with lowest val_loss = 0.3619\n",
      "\n"
     ]
    },
    {
     "name": "stderr",
     "output_type": "stream",
     "text": [
      "Training: : 100%|████████████████████████████████████████████████████████████████████████| 196/196 [00:17<00:00, 11.09batch/s, accuracy=92.1, loss=0.24]\n",
      "Validation: : 100%|██████████████████████████████████████████████████████████████████████| 40/40 [00:01<00:00, 26.53batch/s, val_acc=91, val_loss=0.329]\n"
     ]
    },
    {
     "name": "stdout",
     "output_type": "stream",
     "text": [
      "\n",
      "epoch: 37 training loss = 0.2396, training accuracy = 92.06%, val_loss = 0.3288, val_accuracy = 90.99% & LR = 0.0100\n",
      "\n",
      "Saving model with lowest val_loss = 0.3288\n",
      "\n"
     ]
    },
    {
     "name": "stderr",
     "output_type": "stream",
     "text": [
      "Training: : 100%|███████████████████████████████████████████████████████████████████████| 196/196 [00:17<00:00, 11.10batch/s, accuracy=92.4, loss=0.226]\n",
      "Validation: : 100%|████████████████████████████████████████████████████████████████████| 40/40 [00:01<00:00, 26.53batch/s, val_acc=90.7, val_loss=0.328]\n"
     ]
    },
    {
     "name": "stdout",
     "output_type": "stream",
     "text": [
      "\n",
      "epoch: 38 training loss = 0.2263, training accuracy = 92.40%, val_loss = 0.3284, val_accuracy = 90.68% & LR = 0.0100\n",
      "\n",
      "Saving model with lowest val_loss = 0.3284\n",
      "\n"
     ]
    },
    {
     "name": "stderr",
     "output_type": "stream",
     "text": [
      "Training: : 100%|███████████████████████████████████████████████████████████████████████| 196/196 [00:17<00:00, 11.09batch/s, accuracy=92.9, loss=0.216]\n",
      "Validation: : 100%|████████████████████████████████████████████████████████████████████| 40/40 [00:01<00:00, 26.51batch/s, val_acc=91.1, val_loss=0.311]\n"
     ]
    },
    {
     "name": "stdout",
     "output_type": "stream",
     "text": [
      "\n",
      "epoch: 39 training loss = 0.2157, training accuracy = 92.88%, val_loss = 0.3110, val_accuracy = 91.07% & LR = 0.0100\n",
      "\n",
      "Saving model with lowest val_loss = 0.3110\n",
      "\n"
     ]
    },
    {
     "name": "stderr",
     "output_type": "stream",
     "text": [
      "Training: : 100%|███████████████████████████████████████████████████████████████████████| 196/196 [00:17<00:00, 11.10batch/s, accuracy=93.3, loss=0.204]\n",
      "Validation: : 100%|████████████████████████████████████████████████████████████████████| 40/40 [00:01<00:00, 26.52batch/s, val_acc=91.5, val_loss=0.299]\n"
     ]
    },
    {
     "name": "stdout",
     "output_type": "stream",
     "text": [
      "\n",
      "epoch: 40 training loss = 0.2040, training accuracy = 93.32%, val_loss = 0.2993, val_accuracy = 91.55% & LR = 0.0100\n",
      "\n",
      "Saving model with lowest val_loss = 0.2993\n",
      "\n"
     ]
    },
    {
     "name": "stderr",
     "output_type": "stream",
     "text": [
      "Training: : 100%|█████████████████████████████████████████████████████████████████████████| 196/196 [00:17<00:00, 11.11batch/s, accuracy=93.4, loss=0.2]\n",
      "Validation: : 100%|████████████████████████████████████████████████████████████████████| 40/40 [00:01<00:00, 26.51batch/s, val_acc=91.2, val_loss=0.296]\n"
     ]
    },
    {
     "name": "stdout",
     "output_type": "stream",
     "text": [
      "\n",
      "epoch: 41 training loss = 0.1997, training accuracy = 93.37%, val_loss = 0.2961, val_accuracy = 91.19% & LR = 0.0100\n",
      "\n",
      "Saving model with lowest val_loss = 0.2961\n",
      "\n"
     ]
    },
    {
     "name": "stderr",
     "output_type": "stream",
     "text": [
      "Training: : 100%|███████████████████████████████████████████████████████████████████████| 196/196 [00:17<00:00, 11.10batch/s, accuracy=93.6, loss=0.191]\n",
      "Validation: : 100%|███████████████████████████████████████████████████████████████████████| 40/40 [00:01<00:00, 26.44batch/s, val_acc=92, val_loss=0.28]\n"
     ]
    },
    {
     "name": "stdout",
     "output_type": "stream",
     "text": [
      "\n",
      "epoch: 42 training loss = 0.1907, training accuracy = 93.64%, val_loss = 0.2802, val_accuracy = 92.02% & LR = 0.0100\n",
      "\n",
      "Saving model with lowest val_loss = 0.2802\n",
      "\n"
     ]
    },
    {
     "name": "stderr",
     "output_type": "stream",
     "text": [
      "Training: : 100%|███████████████████████████████████████████████████████████████████████| 196/196 [00:17<00:00, 11.10batch/s, accuracy=93.7, loss=0.187]\n",
      "Validation: : 100%|████████████████████████████████████████████████████████████████████| 40/40 [00:01<00:00, 26.50batch/s, val_acc=91.3, val_loss=0.287]\n"
     ]
    },
    {
     "name": "stdout",
     "output_type": "stream",
     "text": [
      "\n",
      "epoch: 43 training loss = 0.1874, training accuracy = 93.72%, val_loss = 0.2868, val_accuracy = 91.35% & LR = 0.0100\n",
      "\n"
     ]
    },
    {
     "name": "stderr",
     "output_type": "stream",
     "text": [
      "Training: : 100%|███████████████████████████████████████████████████████████████████████| 196/196 [00:17<00:00, 11.10batch/s, accuracy=94.1, loss=0.178]\n",
      "Validation: : 100%|███████████████████████████████████████████████████████████████████████| 40/40 [00:01<00:00, 26.55batch/s, val_acc=92, val_loss=0.27]\n"
     ]
    },
    {
     "name": "stdout",
     "output_type": "stream",
     "text": [
      "\n",
      "epoch: 44 training loss = 0.1782, training accuracy = 94.12%, val_loss = 0.2699, val_accuracy = 92.02% & LR = 0.0100\n",
      "\n",
      "Saving model with lowest val_loss = 0.2699\n",
      "\n"
     ]
    },
    {
     "name": "stderr",
     "output_type": "stream",
     "text": [
      "Training: : 100%|███████████████████████████████████████████████████████████████████████| 196/196 [00:17<00:00, 11.11batch/s, accuracy=94.2, loss=0.176]\n",
      "Validation: : 100%|██████████████████████████████████████████████████████████████████████| 40/40 [00:01<00:00, 26.49batch/s, val_acc=92, val_loss=0.269]\n"
     ]
    },
    {
     "name": "stdout",
     "output_type": "stream",
     "text": [
      "\n",
      "epoch: 45 training loss = 0.1764, training accuracy = 94.17%, val_loss = 0.2692, val_accuracy = 91.95% & LR = 0.0100\n",
      "\n",
      "Saving model with lowest val_loss = 0.2692\n",
      "\n"
     ]
    },
    {
     "name": "stderr",
     "output_type": "stream",
     "text": [
      "Training: : 100%|███████████████████████████████████████████████████████████████████████| 196/196 [00:17<00:00, 11.10batch/s, accuracy=94.4, loss=0.168]\n",
      "Validation: : 100%|███████████████████████████████████████████████████████████████████████| 40/40 [00:01<00:00, 26.52batch/s, val_acc=92, val_loss=0.27]\n"
     ]
    },
    {
     "name": "stdout",
     "output_type": "stream",
     "text": [
      "\n",
      "epoch: 46 training loss = 0.1680, training accuracy = 94.36%, val_loss = 0.2702, val_accuracy = 92.00% & LR = 0.0100\n",
      "\n"
     ]
    },
    {
     "name": "stderr",
     "output_type": "stream",
     "text": [
      "Training: : 100%|███████████████████████████████████████████████████████████████████████| 196/196 [00:17<00:00, 11.09batch/s, accuracy=94.5, loss=0.163]\n",
      "Validation: : 100%|████████████████████████████████████████████████████████████████████| 40/40 [00:01<00:00, 26.52batch/s, val_acc=91.5, val_loss=0.279]\n"
     ]
    },
    {
     "name": "stdout",
     "output_type": "stream",
     "text": [
      "\n",
      "epoch: 47 training loss = 0.1632, training accuracy = 94.53%, val_loss = 0.2790, val_accuracy = 91.49% & LR = 0.0100\n",
      "\n"
     ]
    },
    {
     "name": "stderr",
     "output_type": "stream",
     "text": [
      "Training: : 100%|███████████████████████████████████████████████████████████████████████| 196/196 [00:17<00:00, 11.16batch/s, accuracy=94.5, loss=0.164]\n",
      "Validation: : 100%|████████████████████████████████████████████████████████████████████| 40/40 [00:01<00:00, 26.50batch/s, val_acc=91.8, val_loss=0.268]\n"
     ]
    },
    {
     "name": "stdout",
     "output_type": "stream",
     "text": [
      "\n",
      "epoch: 48 training loss = 0.1636, training accuracy = 94.48%, val_loss = 0.2682, val_accuracy = 91.79% & LR = 0.0100\n",
      "\n",
      "Saving model with lowest val_loss = 0.2682\n",
      "\n"
     ]
    },
    {
     "name": "stderr",
     "output_type": "stream",
     "text": [
      "Training: : 100%|███████████████████████████████████████████████████████████████████████| 196/196 [00:17<00:00, 11.10batch/s, accuracy=94.8, loss=0.158]\n",
      "Validation: : 100%|████████████████████████████████████████████████████████████████████| 40/40 [00:01<00:00, 26.51batch/s, val_acc=91.9, val_loss=0.264]\n"
     ]
    },
    {
     "name": "stdout",
     "output_type": "stream",
     "text": [
      "\n",
      "epoch: 49 training loss = 0.1584, training accuracy = 94.77%, val_loss = 0.2642, val_accuracy = 91.91% & LR = 0.0100\n",
      "\n",
      "Saving model with lowest val_loss = 0.2642\n",
      "\n"
     ]
    },
    {
     "name": "stderr",
     "output_type": "stream",
     "text": [
      "Training: : 100%|███████████████████████████████████████████████████████████████████████| 196/196 [00:17<00:00, 11.11batch/s, accuracy=94.7, loss=0.157]\n",
      "Validation: : 100%|██████████████████████████████████████████████████████████████████████| 40/40 [00:01<00:00, 26.49batch/s, val_acc=92, val_loss=0.258]\n"
     ]
    },
    {
     "name": "stdout",
     "output_type": "stream",
     "text": [
      "\n",
      "epoch: 50 training loss = 0.1572, training accuracy = 94.74%, val_loss = 0.2577, val_accuracy = 92.01% & LR = 0.0010\n",
      "\n",
      "Saving model with lowest val_loss = 0.2577\n",
      "\n"
     ]
    },
    {
     "name": "stderr",
     "output_type": "stream",
     "text": [
      "Training: : 100%|███████████████████████████████████████████████████████████████████████| 196/196 [00:17<00:00, 11.10batch/s, accuracy=95.5, loss=0.137]\n",
      "Validation: : 100%|████████████████████████████████████████████████████████████████████| 40/40 [00:01<00:00, 26.49batch/s, val_acc=92.4, val_loss=0.249]\n"
     ]
    },
    {
     "name": "stdout",
     "output_type": "stream",
     "text": [
      "\n",
      "epoch: 51 training loss = 0.1369, training accuracy = 95.49%, val_loss = 0.2494, val_accuracy = 92.39% & LR = 0.0010\n",
      "\n",
      "Saving model with lowest val_loss = 0.2494\n",
      "\n"
     ]
    },
    {
     "name": "stderr",
     "output_type": "stream",
     "text": [
      "Training: : 100%|███████████████████████████████████████████████████████████████████████| 196/196 [00:17<00:00, 11.09batch/s, accuracy=95.5, loss=0.135]\n",
      "Validation: : 100%|████████████████████████████████████████████████████████████████████| 40/40 [00:01<00:00, 26.33batch/s, val_acc=92.4, val_loss=0.248]\n"
     ]
    },
    {
     "name": "stdout",
     "output_type": "stream",
     "text": [
      "\n",
      "epoch: 52 training loss = 0.1352, training accuracy = 95.50%, val_loss = 0.2484, val_accuracy = 92.39% & LR = 0.0010\n",
      "\n",
      "Saving model with lowest val_loss = 0.2484\n",
      "\n"
     ]
    },
    {
     "name": "stderr",
     "output_type": "stream",
     "text": [
      "Training: : 100%|███████████████████████████████████████████████████████████████████████| 196/196 [00:17<00:00, 11.09batch/s, accuracy=95.5, loss=0.132]\n",
      "Validation: : 100%|████████████████████████████████████████████████████████████████████| 40/40 [00:01<00:00, 26.50batch/s, val_acc=92.3, val_loss=0.248]\n"
     ]
    },
    {
     "name": "stdout",
     "output_type": "stream",
     "text": [
      "\n",
      "epoch: 53 training loss = 0.1322, training accuracy = 95.55%, val_loss = 0.2478, val_accuracy = 92.30% & LR = 0.0010\n",
      "\n",
      "Saving model with lowest val_loss = 0.2478\n",
      "\n"
     ]
    },
    {
     "name": "stderr",
     "output_type": "stream",
     "text": [
      "Training: : 100%|███████████████████████████████████████████████████████████████████████| 196/196 [00:17<00:00, 11.12batch/s, accuracy=95.8, loss=0.127]\n",
      "Validation: : 100%|█████████████████████████████████████████████████████████████████████| 40/40 [00:01<00:00, 26.52batch/s, val_acc=92.5, val_loss=0.24]\n"
     ]
    },
    {
     "name": "stdout",
     "output_type": "stream",
     "text": [
      "\n",
      "epoch: 54 training loss = 0.1271, training accuracy = 95.77%, val_loss = 0.2404, val_accuracy = 92.48% & LR = 0.0010\n",
      "\n",
      "Saving model with lowest val_loss = 0.2404\n",
      "\n"
     ]
    },
    {
     "name": "stderr",
     "output_type": "stream",
     "text": [
      "Training: : 100%|███████████████████████████████████████████████████████████████████████| 196/196 [00:17<00:00, 11.11batch/s, accuracy=95.8, loss=0.129]\n",
      "Validation: : 100%|█████████████████████████████████████████████████████████████████████| 40/40 [00:01<00:00, 26.49batch/s, val_acc=92.5, val_loss=0.24]\n"
     ]
    },
    {
     "name": "stdout",
     "output_type": "stream",
     "text": [
      "\n",
      "epoch: 55 training loss = 0.1288, training accuracy = 95.75%, val_loss = 0.2401, val_accuracy = 92.52% & LR = 0.0010\n",
      "\n",
      "Saving model with lowest val_loss = 0.2401\n",
      "\n"
     ]
    },
    {
     "name": "stderr",
     "output_type": "stream",
     "text": [
      "Training: : 100%|███████████████████████████████████████████████████████████████████████| 196/196 [00:17<00:00, 11.11batch/s, accuracy=95.9, loss=0.125]\n",
      "Validation: : 100%|████████████████████████████████████████████████████████████████████| 40/40 [00:01<00:00, 26.55batch/s, val_acc=92.3, val_loss=0.242]\n"
     ]
    },
    {
     "name": "stdout",
     "output_type": "stream",
     "text": [
      "\n",
      "epoch: 56 training loss = 0.1254, training accuracy = 95.89%, val_loss = 0.2416, val_accuracy = 92.34% & LR = 0.0010\n",
      "\n"
     ]
    },
    {
     "name": "stderr",
     "output_type": "stream",
     "text": [
      "Training: : 100%|███████████████████████████████████████████████████████████████████████| 196/196 [00:17<00:00, 11.13batch/s, accuracy=95.8, loss=0.123]\n",
      "Validation: : 100%|████████████████████████████████████████████████████████████████████| 40/40 [00:01<00:00, 26.57batch/s, val_acc=92.3, val_loss=0.241]\n"
     ]
    },
    {
     "name": "stdout",
     "output_type": "stream",
     "text": [
      "\n",
      "epoch: 57 training loss = 0.1230, training accuracy = 95.83%, val_loss = 0.2410, val_accuracy = 92.30% & LR = 0.0010\n",
      "\n"
     ]
    },
    {
     "name": "stderr",
     "output_type": "stream",
     "text": [
      "Training: : 100%|███████████████████████████████████████████████████████████████████████| 196/196 [00:17<00:00, 11.12batch/s, accuracy=95.7, loss=0.123]\n",
      "Validation: : 100%|████████████████████████████████████████████████████████████████████| 40/40 [00:01<00:00, 26.59batch/s, val_acc=92.3, val_loss=0.242]\n"
     ]
    },
    {
     "name": "stdout",
     "output_type": "stream",
     "text": [
      "\n",
      "epoch: 58 training loss = 0.1226, training accuracy = 95.75%, val_loss = 0.2424, val_accuracy = 92.31% & LR = 0.0010\n",
      "\n"
     ]
    },
    {
     "name": "stderr",
     "output_type": "stream",
     "text": [
      "Training: : 100%|███████████████████████████████████████████████████████████████████████| 196/196 [00:17<00:00, 11.13batch/s, accuracy=95.8, loss=0.124]\n",
      "Validation: : 100%|████████████████████████████████████████████████████████████████████| 40/40 [00:01<00:00, 26.64batch/s, val_acc=92.4, val_loss=0.237]\n"
     ]
    },
    {
     "name": "stdout",
     "output_type": "stream",
     "text": [
      "\n",
      "epoch: 59 training loss = 0.1238, training accuracy = 95.77%, val_loss = 0.2373, val_accuracy = 92.38% & LR = 0.0010\n",
      "\n",
      "Saving model with lowest val_loss = 0.2373\n",
      "\n"
     ]
    },
    {
     "name": "stderr",
     "output_type": "stream",
     "text": [
      "Training: : 100%|███████████████████████████████████████████████████████████████████████| 196/196 [00:17<00:00, 11.16batch/s, accuracy=95.8, loss=0.125]\n",
      "Validation: : 100%|████████████████████████████████████████████████████████████████████| 40/40 [00:01<00:00, 26.64batch/s, val_acc=92.4, val_loss=0.235]\n"
     ]
    },
    {
     "name": "stdout",
     "output_type": "stream",
     "text": [
      "\n",
      "epoch: 60 training loss = 0.1249, training accuracy = 95.78%, val_loss = 0.2352, val_accuracy = 92.41% & LR = 0.0010\n",
      "\n",
      "Saving model with lowest val_loss = 0.2352\n",
      "\n"
     ]
    },
    {
     "name": "stderr",
     "output_type": "stream",
     "text": [
      "Training: : 100%|██████████████████████████████████████████████████████████████████████████| 196/196 [00:17<00:00, 11.17batch/s, accuracy=96, loss=0.12]\n",
      "Validation: : 100%|████████████████████████████████████████████████████████████████████| 40/40 [00:01<00:00, 26.66batch/s, val_acc=92.3, val_loss=0.241]\n"
     ]
    },
    {
     "name": "stdout",
     "output_type": "stream",
     "text": [
      "\n",
      "epoch: 61 training loss = 0.1200, training accuracy = 95.97%, val_loss = 0.2405, val_accuracy = 92.27% & LR = 0.0010\n",
      "\n"
     ]
    },
    {
     "name": "stderr",
     "output_type": "stream",
     "text": [
      "Training: : 100%|█████████████████████████████████████████████████████████████████████████| 196/196 [00:17<00:00, 11.19batch/s, accuracy=96, loss=0.121]\n",
      "Validation: : 100%|████████████████████████████████████████████████████████████████████| 40/40 [00:01<00:00, 26.62batch/s, val_acc=92.4, val_loss=0.238]\n"
     ]
    },
    {
     "name": "stdout",
     "output_type": "stream",
     "text": [
      "\n",
      "epoch: 62 training loss = 0.1208, training accuracy = 95.96%, val_loss = 0.2381, val_accuracy = 92.38% & LR = 0.0010\n",
      "\n"
     ]
    },
    {
     "name": "stderr",
     "output_type": "stream",
     "text": [
      "Training: : 100%|███████████████████████████████████████████████████████████████████████| 196/196 [00:17<00:00, 11.17batch/s, accuracy=95.9, loss=0.121]\n",
      "Validation: : 100%|█████████████████████████████████████████████████████████████████████| 40/40 [00:01<00:00, 26.61batch/s, val_acc=92.3, val_loss=0.24]\n"
     ]
    },
    {
     "name": "stdout",
     "output_type": "stream",
     "text": [
      "\n",
      "epoch: 63 training loss = 0.1211, training accuracy = 95.94%, val_loss = 0.2402, val_accuracy = 92.27% & LR = 0.0010\n",
      "\n"
     ]
    },
    {
     "name": "stderr",
     "output_type": "stream",
     "text": [
      "Training: : 100%|███████████████████████████████████████████████████████████████████████| 196/196 [00:17<00:00, 11.16batch/s, accuracy=96.1, loss=0.119]\n",
      "Validation: : 100%|████████████████████████████████████████████████████████████████████| 40/40 [00:01<00:00, 26.64batch/s, val_acc=92.4, val_loss=0.236]\n"
     ]
    },
    {
     "name": "stdout",
     "output_type": "stream",
     "text": [
      "\n",
      "epoch: 64 training loss = 0.1193, training accuracy = 96.08%, val_loss = 0.2358, val_accuracy = 92.38% & LR = 0.0010\n",
      "\n"
     ]
    },
    {
     "name": "stderr",
     "output_type": "stream",
     "text": [
      "Training: : 100%|████████████████████████████████████████████████████████████████████████| 196/196 [00:17<00:00, 11.18batch/s, accuracy=95.9, loss=0.12]\n",
      "Validation: : 100%|████████████████████████████████████████████████████████████████████| 40/40 [00:01<00:00, 26.63batch/s, val_acc=92.3, val_loss=0.239]\n"
     ]
    },
    {
     "name": "stdout",
     "output_type": "stream",
     "text": [
      "\n",
      "epoch: 65 training loss = 0.1196, training accuracy = 95.94%, val_loss = 0.2386, val_accuracy = 92.35% & LR = 0.0010\n",
      "\n"
     ]
    },
    {
     "name": "stderr",
     "output_type": "stream",
     "text": [
      "Training: : 100%|███████████████████████████████████████████████████████████████████████| 196/196 [00:17<00:00, 11.19batch/s, accuracy=95.9, loss=0.119]\n",
      "Validation: : 100%|████████████████████████████████████████████████████████████████████| 40/40 [00:01<00:00, 26.66batch/s, val_acc=92.4, val_loss=0.237]\n"
     ]
    },
    {
     "name": "stdout",
     "output_type": "stream",
     "text": [
      "\n",
      "epoch: 66 training loss = 0.1195, training accuracy = 95.94%, val_loss = 0.2366, val_accuracy = 92.42% & LR = 0.0010\n",
      "\n"
     ]
    },
    {
     "name": "stderr",
     "output_type": "stream",
     "text": [
      "Training: : 100%|███████████████████████████████████████████████████████████████████████| 196/196 [00:17<00:00, 11.17batch/s, accuracy=96.1, loss=0.116]\n",
      "Validation: : 100%|████████████████████████████████████████████████████████████████████| 40/40 [00:01<00:00, 26.63batch/s, val_acc=92.4, val_loss=0.235]\n"
     ]
    },
    {
     "name": "stdout",
     "output_type": "stream",
     "text": [
      "\n",
      "epoch: 67 training loss = 0.1161, training accuracy = 96.09%, val_loss = 0.2348, val_accuracy = 92.44% & LR = 0.0010\n",
      "\n",
      "Saving model with lowest val_loss = 0.2348\n",
      "\n"
     ]
    },
    {
     "name": "stderr",
     "output_type": "stream",
     "text": [
      "Training: : 100%|███████████████████████████████████████████████████████████████████████| 196/196 [00:17<00:00, 11.15batch/s, accuracy=96.1, loss=0.119]\n",
      "Validation: : 100%|████████████████████████████████████████████████████████████████████| 40/40 [00:01<00:00, 26.64batch/s, val_acc=92.4, val_loss=0.235]\n"
     ]
    },
    {
     "name": "stdout",
     "output_type": "stream",
     "text": [
      "\n",
      "epoch: 68 training loss = 0.1187, training accuracy = 96.06%, val_loss = 0.2349, val_accuracy = 92.37% & LR = 0.0010\n",
      "\n"
     ]
    },
    {
     "name": "stderr",
     "output_type": "stream",
     "text": [
      "Training: : 100%|███████████████████████████████████████████████████████████████████████| 196/196 [00:17<00:00, 11.16batch/s, accuracy=96.1, loss=0.117]\n",
      "Validation: : 100%|████████████████████████████████████████████████████████████████████| 40/40 [00:01<00:00, 26.64batch/s, val_acc=92.4, val_loss=0.238]\n"
     ]
    },
    {
     "name": "stdout",
     "output_type": "stream",
     "text": [
      "\n",
      "epoch: 69 training loss = 0.1169, training accuracy = 96.09%, val_loss = 0.2376, val_accuracy = 92.44% & LR = 0.0010\n",
      "\n"
     ]
    },
    {
     "name": "stderr",
     "output_type": "stream",
     "text": [
      "Training: : 100%|█████████████████████████████████████████████████████████████████████████| 196/196 [00:17<00:00, 11.15batch/s, accuracy=96, loss=0.114]\n",
      "Validation: : 100%|████████████████████████████████████████████████████████████████████| 40/40 [00:01<00:00, 26.64batch/s, val_acc=92.3, val_loss=0.237]\n"
     ]
    },
    {
     "name": "stdout",
     "output_type": "stream",
     "text": [
      "\n",
      "epoch: 70 training loss = 0.1144, training accuracy = 96.04%, val_loss = 0.2369, val_accuracy = 92.29% & LR = 0.0001\n",
      "\n"
     ]
    },
    {
     "name": "stderr",
     "output_type": "stream",
     "text": [
      "Training: : 100%|███████████████████████████████████████████████████████████████████████| 196/196 [00:17<00:00, 11.15batch/s, accuracy=96.1, loss=0.114]\n",
      "Validation: : 100%|████████████████████████████████████████████████████████████████████| 40/40 [00:01<00:00, 26.65batch/s, val_acc=92.3, val_loss=0.237]\n"
     ]
    },
    {
     "name": "stdout",
     "output_type": "stream",
     "text": [
      "\n",
      "epoch: 71 training loss = 0.1137, training accuracy = 96.10%, val_loss = 0.2368, val_accuracy = 92.34% & LR = 0.0001\n",
      "\n"
     ]
    },
    {
     "name": "stderr",
     "output_type": "stream",
     "text": [
      "Training: : 100%|███████████████████████████████████████████████████████████████████████| 196/196 [00:17<00:00, 11.14batch/s, accuracy=96.3, loss=0.111]\n",
      "Validation: : 100%|████████████████████████████████████████████████████████████████████| 40/40 [00:01<00:00, 26.61batch/s, val_acc=92.5, val_loss=0.231]\n"
     ]
    },
    {
     "name": "stdout",
     "output_type": "stream",
     "text": [
      "\n",
      "epoch: 72 training loss = 0.1113, training accuracy = 96.30%, val_loss = 0.2310, val_accuracy = 92.48% & LR = 0.0001\n",
      "\n",
      "Saving model with lowest val_loss = 0.2310\n",
      "\n"
     ]
    },
    {
     "name": "stderr",
     "output_type": "stream",
     "text": [
      "Training: : 100%|███████████████████████████████████████████████████████████████████████| 196/196 [00:17<00:00, 11.13batch/s, accuracy=96.1, loss=0.116]\n",
      "Validation: : 100%|████████████████████████████████████████████████████████████████████| 40/40 [00:01<00:00, 26.64batch/s, val_acc=92.5, val_loss=0.234]\n"
     ]
    },
    {
     "name": "stdout",
     "output_type": "stream",
     "text": [
      "\n",
      "epoch: 73 training loss = 0.1163, training accuracy = 96.15%, val_loss = 0.2340, val_accuracy = 92.47% & LR = 0.0001\n",
      "\n"
     ]
    },
    {
     "name": "stderr",
     "output_type": "stream",
     "text": [
      "Training: : 100%|███████████████████████████████████████████████████████████████████████| 196/196 [00:17<00:00, 11.16batch/s, accuracy=96.2, loss=0.112]\n",
      "Validation: : 100%|████████████████████████████████████████████████████████████████████| 40/40 [00:01<00:00, 26.65batch/s, val_acc=92.4, val_loss=0.236]\n"
     ]
    },
    {
     "name": "stdout",
     "output_type": "stream",
     "text": [
      "\n",
      "epoch: 74 training loss = 0.1124, training accuracy = 96.20%, val_loss = 0.2361, val_accuracy = 92.39% & LR = 0.0001\n",
      "\n"
     ]
    },
    {
     "name": "stderr",
     "output_type": "stream",
     "text": [
      "Training: : 100%|███████████████████████████████████████████████████████████████████████| 196/196 [00:17<00:00, 11.15batch/s, accuracy=96.2, loss=0.116]\n",
      "Validation: : 100%|████████████████████████████████████████████████████████████████████| 40/40 [00:01<00:00, 26.66batch/s, val_acc=92.5, val_loss=0.232]\n"
     ]
    },
    {
     "name": "stdout",
     "output_type": "stream",
     "text": [
      "\n",
      "epoch: 75 training loss = 0.1156, training accuracy = 96.17%, val_loss = 0.2319, val_accuracy = 92.55% & LR = 0.0001\n",
      "\n"
     ]
    },
    {
     "name": "stderr",
     "output_type": "stream",
     "text": [
      "Training: : 100%|███████████████████████████████████████████████████████████████████████| 196/196 [00:17<00:00, 11.17batch/s, accuracy=96.1, loss=0.114]\n",
      "Validation: : 100%|████████████████████████████████████████████████████████████████████| 40/40 [00:01<00:00, 26.67batch/s, val_acc=92.5, val_loss=0.233]\n"
     ]
    },
    {
     "name": "stdout",
     "output_type": "stream",
     "text": [
      "\n",
      "epoch: 76 training loss = 0.1136, training accuracy = 96.10%, val_loss = 0.2332, val_accuracy = 92.50% & LR = 0.0001\n",
      "\n"
     ]
    },
    {
     "name": "stderr",
     "output_type": "stream",
     "text": [
      "Training: : 100%|███████████████████████████████████████████████████████████████████████| 196/196 [00:17<00:00, 11.15batch/s, accuracy=96.2, loss=0.113]\n",
      "Validation: : 100%|████████████████████████████████████████████████████████████████████| 40/40 [00:01<00:00, 26.63batch/s, val_acc=92.4, val_loss=0.236]\n"
     ]
    },
    {
     "name": "stdout",
     "output_type": "stream",
     "text": [
      "\n",
      "epoch: 77 training loss = 0.1134, training accuracy = 96.22%, val_loss = 0.2360, val_accuracy = 92.41% & LR = 0.0001\n",
      "\n"
     ]
    },
    {
     "name": "stderr",
     "output_type": "stream",
     "text": [
      "Training: : 100%|███████████████████████████████████████████████████████████████████████| 196/196 [00:17<00:00, 11.17batch/s, accuracy=96.1, loss=0.116]\n",
      "Validation: : 100%|████████████████████████████████████████████████████████████████████| 40/40 [00:01<00:00, 26.64batch/s, val_acc=92.3, val_loss=0.235]\n"
     ]
    },
    {
     "name": "stdout",
     "output_type": "stream",
     "text": [
      "\n",
      "epoch: 78 training loss = 0.1158, training accuracy = 96.13%, val_loss = 0.2355, val_accuracy = 92.34% & LR = 0.0001\n",
      "\n"
     ]
    },
    {
     "name": "stderr",
     "output_type": "stream",
     "text": [
      "Training: : 100%|███████████████████████████████████████████████████████████████████████| 196/196 [00:17<00:00, 11.17batch/s, accuracy=96.2, loss=0.112]\n",
      "Validation: : 100%|████████████████████████████████████████████████████████████████████| 40/40 [00:01<00:00, 26.64batch/s, val_acc=92.4, val_loss=0.235]\n"
     ]
    },
    {
     "name": "stdout",
     "output_type": "stream",
     "text": [
      "\n",
      "epoch: 79 training loss = 0.1120, training accuracy = 96.16%, val_loss = 0.2355, val_accuracy = 92.39% & LR = 0.0001\n",
      "\n"
     ]
    },
    {
     "name": "stderr",
     "output_type": "stream",
     "text": [
      "Training: : 100%|███████████████████████████████████████████████████████████████████████| 196/196 [00:17<00:00, 11.15batch/s, accuracy=96.3, loss=0.113]\n",
      "Validation: : 100%|████████████████████████████████████████████████████████████████████| 40/40 [00:01<00:00, 26.65batch/s, val_acc=92.5, val_loss=0.234]"
     ]
    },
    {
     "name": "stdout",
     "output_type": "stream",
     "text": [
      "\n",
      "epoch: 80 training loss = 0.1128, training accuracy = 96.27%, val_loss = 0.2340, val_accuracy = 92.46% & LR = 0.0001\n",
      "\n"
     ]
    },
    {
     "name": "stderr",
     "output_type": "stream",
     "text": [
      "\n"
     ]
    }
   ],
   "source": [
    "for epoch in range(num_epochs):\n",
    "\n",
    "    # Train and validate model for 1 epoch-\n",
    "    train_loss, train_acc = train_model_progress(model, train_loader)\n",
    "    val_loss, val_acc = test_model_progress(model, test_loader)\n",
    "    \n",
    "    print(f\"\\nepoch: {epoch + 1} training loss = {train_loss:.4f}, \"\n",
    "          f\"training accuracy = {train_acc:.2f}%, val_loss = {val_loss:.4f}\"\n",
    "          f\", val_accuracy = {val_acc:.2f}% & \"\n",
    "          f\"LR = {optimizer.param_groups[0]['lr']:.4f}\\n\")\n",
    "    \n",
    "    training_history_lr_scheduler[epoch + 1] = {\n",
    "        'loss': train_loss, 'acc': train_acc,\n",
    "        'val_loss': val_loss, 'val_acc': val_acc,\n",
    "        'lr': optimizer.param_groups[0]['lr']\n",
    "    }\n",
    "\n",
    "    \n",
    "    # Save best weights achieved until now-\n",
    "    if (val_loss < best_val_loss):    \n",
    "        # update 'best_val_loss' variable to lowest loss encountered so far-\n",
    "        best_val_loss = val_loss\n",
    "\n",
    "        print(f\"Saving model with lowest val_loss = {val_loss:.4f}\\n\")\n",
    "        \n",
    "        # Save trained model with 'best' validation accuracy-\n",
    "        torch.save(model.state_dict(), \"VGG17_best_model.pth\")\n",
    "        "
   ]
  },
  {
   "cell_type": "code",
   "execution_count": null,
   "id": "6db7275a-cad7-4f54-b01b-20efa44c9803",
   "metadata": {},
   "outputs": [],
   "source": []
  },
  {
   "cell_type": "code",
   "execution_count": 54,
   "id": "a697b020-7235-4bd3-872e-6d9b64263d9c",
   "metadata": {},
   "outputs": [
    {
     "name": "stdout",
     "output_type": "stream",
     "text": [
      "Finished training VGG-17 CNN on CIFAR-10 dataset\n"
     ]
    }
   ],
   "source": [
    "print(f\"Finished training VGG-17 CNN on CIFAR-10 dataset\")"
   ]
  },
  {
   "cell_type": "code",
   "execution_count": 57,
   "id": "1668e29c-853d-4202-8dde-d362094adf21",
   "metadata": {},
   "outputs": [],
   "source": [
    "# Save model from last training epoch-\n",
    "torch.save(model.state_dict(), \"VGG17_last_epoch_model.pth\")"
   ]
  },
  {
   "cell_type": "code",
   "execution_count": null,
   "id": "1da4deb3-18d0-4739-be1d-a65b46e3ed40",
   "metadata": {},
   "outputs": [],
   "source": []
  },
  {
   "cell_type": "code",
   "execution_count": 56,
   "id": "97a35a6c-07b9-4462-b5ac-cbd47f1ffcd0",
   "metadata": {},
   "outputs": [],
   "source": [
    "# Save training metrics as Python3 history for later analysis-\n",
    "with open(\"VGG17_training_history_lr_scheduler.pkl\", \"wb\") as file:\n",
    "    pickle.dump(training_history_lr_scheduler, file)"
   ]
  },
  {
   "cell_type": "code",
   "execution_count": 58,
   "id": "9a2cb04a-d3ae-4d13-933d-02431018fd38",
   "metadata": {},
   "outputs": [],
   "source": [
    "del model"
   ]
  },
  {
   "cell_type": "code",
   "execution_count": null,
   "id": "36e8977e-8997-4e86-a4b6-bc15eb77e806",
   "metadata": {},
   "outputs": [],
   "source": []
  },
  {
   "cell_type": "code",
   "execution_count": 59,
   "id": "b636a8bd-54e2-455e-aa7d-7bf70e7def88",
   "metadata": {},
   "outputs": [
    {
     "data": {
      "text/plain": [
       "<All keys matched successfully>"
      ]
     },
     "execution_count": 59,
     "metadata": {},
     "output_type": "execute_result"
    }
   ],
   "source": [
    "# Initialize and load 'best' trained parameters from above-\n",
    "best_trained_model = VGG17().to(device)\n",
    "best_trained_model.load_state_dict(torch.load('VGG18_best_model.pth'))"
   ]
  },
  {
   "cell_type": "code",
   "execution_count": 60,
   "id": "ab99240c-6415-4edd-82a2-704bf55b4d8d",
   "metadata": {},
   "outputs": [
    {
     "name": "stderr",
     "output_type": "stream",
     "text": [
      "Validation: : 100%|████████████████████████████████████████████████████████████████████| 40/40 [00:01<00:00, 26.26batch/s, val_acc=92.5, val_loss=0.231]\n"
     ]
    }
   ],
   "source": [
    "# Get validation loss and accuracy-\n",
    "val_loss, val_acc = test_model_progress(best_trained_model, test_loader)"
   ]
  },
  {
   "cell_type": "code",
   "execution_count": 61,
   "id": "4b341ad5-a90a-451c-b62e-25643e01720a",
   "metadata": {},
   "outputs": [
    {
     "name": "stdout",
     "output_type": "stream",
     "text": [
      "VGG-17 'best' model metrics: val_loss = 0.2310 & val_acc = 92.48%\n"
     ]
    }
   ],
   "source": [
    "print(f\"VGG-17 'best' model metrics: val_loss = {val_loss:.4f} & val_acc = {val_acc:.2f}%\")"
   ]
  },
  {
   "cell_type": "code",
   "execution_count": null,
   "id": "e07e5b1b-da30-4500-b087-5f8ba3d0e8bb",
   "metadata": {},
   "outputs": [],
   "source": [
    "del best_trained_model"
   ]
  },
  {
   "cell_type": "code",
   "execution_count": null,
   "id": "a8e8520d-48fe-4c4f-a1fb-d55f79151592",
   "metadata": {},
   "outputs": [],
   "source": []
  },
  {
   "cell_type": "code",
   "execution_count": null,
   "id": "e8dba637-3314-4c8a-874c-13b559b43599",
   "metadata": {},
   "outputs": [],
   "source": []
  },
  {
   "cell_type": "markdown",
   "id": "e0b5bcca-76be-46cf-b1d3-5cfee4c26f9c",
   "metadata": {},
   "source": [
    "### VGG-17 training visualizations"
   ]
  },
  {
   "cell_type": "code",
   "execution_count": 62,
   "id": "ea93f2d2-dd9e-4c10-85c9-5507dffa67f5",
   "metadata": {},
   "outputs": [
    {
     "data": {
      "image/png": "[encoded data removed]",
      "text/plain": [
       "<Figure size 648x504 with 1 Axes>"
      ]
     },
     "metadata": {
      "needs_background": "light"
     },
     "output_type": "display_data"
    }
   ],
   "source": [
    "plt.figure(figsize = (9, 7))\n",
    "plt.plot(list(training_history_lr_scheduler.keys()), [training_history_lr_scheduler[k]['acc'] for k in training_history_lr_scheduler.keys()], label = 'training acc')\n",
    "plt.plot(list(training_history_lr_scheduler.keys()), [training_history_lr_scheduler[k]['val_acc'] for k in training_history_lr_scheduler.keys()], label = 'val acc')\n",
    "plt.title(\"VGG-17: Training Accuracy\")\n",
    "plt.xlabel(\"epochs\")\n",
    "plt.ylabel(\"accuracy (%)\")\n",
    "plt.legend(loc = 'best')\n",
    "plt.show()"
   ]
  },
  {
   "cell_type": "code",
   "execution_count": 63,
   "id": "8322f248-84fa-4b49-a357-9162fbd3fb59",
   "metadata": {},
   "outputs": [
    {
     "data": {
      "image/png": "[encoded data removed]",
      "text/plain": [
       "<Figure size 648x504 with 1 Axes>"
      ]
     },
     "metadata": {
      "needs_background": "light"
     },
     "output_type": "display_data"
    }
   ],
   "source": [
    "plt.figure(figsize = (9, 7))\n",
    "plt.plot(list(training_history_lr_scheduler.keys()), [training_history_lr_scheduler[k]['loss'] for k in training_history_lr_scheduler.keys()], label = 'training loss')\n",
    "plt.plot(list(training_history_lr_scheduler.keys()), [training_history_lr_scheduler[k]['val_loss'] for k in training_history_lr_scheduler.keys()], label = 'val loss')\n",
    "plt.xlabel(\"epochs\")\n",
    "plt.ylabel(\"loss\")\n",
    "plt.legend(loc = 'best')\n",
    "plt.title(\"VGG-17: Training Loss\")\n",
    "plt.show()"
   ]
  },
  {
   "cell_type": "code",
   "execution_count": 64,
   "id": "b60c12f3-056b-4acf-9bf4-708a03696d93",
   "metadata": {},
   "outputs": [
    {
     "data": {
      "image/png": "[encoded data removed]",
      "text/plain": [
       "<Figure size 648x504 with 1 Axes>"
      ]
     },
     "metadata": {
      "needs_background": "light"
     },
     "output_type": "display_data"
    }
   ],
   "source": [
    "plt.figure(figsize = (9, 7))\n",
    "plt.plot(list(training_history_lr_scheduler.keys()), [training_history_lr_scheduler[k]['lr'] for k in training_history_lr_scheduler.keys()])\n",
    "plt.xlabel(\"epochs\")\n",
    "plt.ylabel(\"lr\")\n",
    "plt.title(\"VGG-18: Learning-Rate\")\n",
    "plt.show()"
   ]
  },
  {
   "cell_type": "code",
   "execution_count": null,
   "id": "75d2ee10-bb91-4d33-adba-df782b07d923",
   "metadata": {},
   "outputs": [],
   "source": []
  },
  {
   "cell_type": "code",
   "execution_count": null,
   "id": "a93d12f1-eb47-466e-b1e2-4cfe89ca3408",
   "metadata": {},
   "outputs": [],
   "source": []
  }
 ],
 "metadata": {
  "kernelspec": {
   "display_name": "Python 3 (ipykernel)",
   "language": "python",
   "name": "python3"
  },
  "language_info": {
   "codemirror_mode": {
    "name": "ipython",
    "version": 3
   },
   "file_extension": ".py",
   "mimetype": "text/x-python",
   "name": "python",
   "nbconvert_exporter": "python",
   "pygments_lexer": "ipython3",
   "version": "3.9.12"
  }
 },
 "nbformat": 4,
 "nbformat_minor": 5
}
