{
 "cells": [
  {
   "cell_type": "markdown",
   "id": "e551093e-28e4-4e0d-bd14-d377fc1f1435",
   "metadata": {},
   "source": [
    "# VGG-17: CIFAR-10 & PyTorch"
   ]
  },
  {
   "cell_type": "code",
   "execution_count": null,
   "id": "e561e306-a482-4076-94aa-9d9c83190df5",
   "metadata": {},
   "outputs": [],
   "source": [
    "# Specify GPU to be used-\n",
    "# %env CUDA_DEVICE_ORDER = PCI_BUS_ID\n",
    "# %env CUDA_VISIBLE_DEVICES = 0"
   ]
  },
  {
   "cell_type": "code",
   "execution_count": 1,
   "id": "2a0d18fc-5e4e-4f2d-92b0-1c98ccf90b48",
   "metadata": {},
   "outputs": [
    {
     "name": "stderr",
     "output_type": "stream",
     "text": [
      "/home/arjun/anaconda3/envs/pytorch-gpu/lib/python3.9/site-packages/tqdm/auto.py:22: TqdmWarning: IProgress not found. Please update jupyter and ipywidgets. See https://ipywidgets.readthedocs.io/en/stable/user_install.html\n",
      "  from .autonotebook import tqdm as notebook_tqdm\n"
     ]
    }
   ],
   "source": [
    "import torch\n",
    "import torch.nn as nn\n",
    "import torch.nn.functional as F\n",
    "import torchvision\n",
    "import torchvision.transforms as transforms\n",
    "\n",
    "from tqdm import tqdm\n",
    "from tqdm import trange\n",
    "import matplotlib.pyplot as plt\n",
    "import seaborn as sns\n",
    "import numpy as np\n",
    "import os\n",
    "import pickle"
   ]
  },
  {
   "cell_type": "code",
   "execution_count": null,
   "id": "466ba631-0f82-46ff-989b-428245b67c6f",
   "metadata": {},
   "outputs": [],
   "source": []
  },
  {
   "cell_type": "code",
   "execution_count": null,
   "id": "5708a4f6-f11f-4729-833c-a75cfbadba52",
   "metadata": {},
   "outputs": [],
   "source": []
  },
  {
   "cell_type": "code",
   "execution_count": 2,
   "id": "085b8d75-8b44-46a7-80ba-461dc98de9fd",
   "metadata": {},
   "outputs": [
    {
     "name": "stdout",
     "output_type": "stream",
     "text": [
      "torch version: 1.11.0\n"
     ]
    }
   ],
   "source": [
    "print(f\"torch version: {torch.__version__}\")"
   ]
  },
  {
   "cell_type": "code",
   "execution_count": 3,
   "id": "47fd6374-2994-45ea-958d-975691a79e6b",
   "metadata": {},
   "outputs": [
    {
     "name": "stdout",
     "output_type": "stream",
     "text": [
      "Number of GPU(s) available = 2\n",
      "Current GPU: 0\n",
      "Current GPU name: NVIDIA GeForce RTX 3080\n"
     ]
    }
   ],
   "source": [
    "# Check if there are multiple devices (i.e., GPU cards)-\n",
    "print(f\"Number of GPU(s) available = {torch.cuda.device_count()}\")\n",
    "\n",
    "# Which GPU Is The Current GPU?\n",
    "# print(f\"current GPU: {torch.cuda.current_device()}\")\n",
    "\n",
    "# Get the name of the current GPU-\n",
    "# print(f\"Current GPU name: {torch.cuda.get_device_name(torch.cuda.current_device())}\")\n",
    "\n",
    "# Is PyTorch using a GPU?\n",
    "# print(f\"Is PyTorch using a GPU? {torch.cuda.is_available()}\")\n",
    "\n",
    "if torch.cuda.is_available():\n",
    "    print(f\"Current GPU: {torch.cuda.current_device()}\")\n",
    "    print(f\"Current GPU name: {torch.cuda.get_device_name(torch.cuda.current_device())}\")\n",
    "else:\n",
    "    print(\"PyTorch does not have access to GPU\")"
   ]
  },
  {
   "cell_type": "code",
   "execution_count": 4,
   "id": "210c9465-3d1e-42b3-83d3-f0986088f566",
   "metadata": {},
   "outputs": [
    {
     "name": "stdout",
     "output_type": "stream",
     "text": [
      "Available device is cuda\n"
     ]
    }
   ],
   "source": [
    "# Device configuration-\n",
    "device = torch.device('cuda' if torch.cuda.is_available() else 'cpu')\n",
    "print(f'Available device is {device}')"
   ]
  },
  {
   "cell_type": "code",
   "execution_count": null,
   "id": "a86796cd-1743-434a-b354-e8cd3654fd36",
   "metadata": {},
   "outputs": [],
   "source": []
  },
  {
   "cell_type": "code",
   "execution_count": null,
   "id": "a826c6d7-8e5c-41d6-bed5-3d66fcf333d9",
   "metadata": {},
   "outputs": [],
   "source": []
  },
  {
   "cell_type": "code",
   "execution_count": 5,
   "id": "e276035f-df2a-4718-a1a4-c71d90ae7500",
   "metadata": {},
   "outputs": [],
   "source": [
    "# Specify hyper-parameters\n",
    "batch_size = 64\n",
    "num_classes = 10\n",
    "num_epochs = 85\n",
    "learning_rate = 0.01"
   ]
  },
  {
   "cell_type": "code",
   "execution_count": null,
   "id": "1841dbbc-85d6-406a-925a-1ccacb55c37a",
   "metadata": {},
   "outputs": [],
   "source": []
  },
  {
   "cell_type": "code",
   "execution_count": null,
   "id": "6ac86075-2ead-4aae-8f10-baee06ae8d8d",
   "metadata": {},
   "outputs": [],
   "source": []
  },
  {
   "cell_type": "markdown",
   "id": "30eaa499-23bc-4ccd-8448-495ce5b06785",
   "metadata": {},
   "source": [
    "### CIFAR-10 data pre-processing"
   ]
  },
  {
   "cell_type": "code",
   "execution_count": 6,
   "id": "0d1cbec1-f207-4c14-a787-63165597bbe7",
   "metadata": {},
   "outputs": [],
   "source": [
    "# Define transformations for training and test sets-\n",
    "transform_train = transforms.Compose(\n",
    "    [\n",
    "        transforms.RandomCrop(32, padding = 4),\n",
    "        transforms.RandomHorizontalFlip(),\n",
    "        transforms.ToTensor(),\n",
    "        transforms.Normalize(\n",
    "            (0.4914, 0.4822, 0.4465),\n",
    "            (0.2023, 0.1994, 0.2010)\n",
    "        ),\n",
    "    ]\n",
    ")\n",
    "\n",
    "transform_test = transforms.Compose(\n",
    "    [\n",
    "        transforms.ToTensor(),\n",
    "        transforms.Normalize(\n",
    "            (0.4914, 0.4822, 0.4465),\n",
    "            (0.2023, 0.1994, 0.2010)\n",
    "        ),\n",
    "    ]\n",
    ")"
   ]
  },
  {
   "cell_type": "code",
   "execution_count": 7,
   "id": "b4ecf1d7-95d5-4ebc-a684-41686ca8f718",
   "metadata": {},
   "outputs": [
    {
     "name": "stdout",
     "output_type": "stream",
     "text": [
      "Files already downloaded and verified\n",
      "Files already downloaded and verified\n"
     ]
    }
   ],
   "source": [
    "# Load CIFAR-10 dataset-\n",
    "train_dataset = torchvision.datasets.CIFAR10(\n",
    "    root = './data', train = True,\n",
    "    download = True, transform = transform_train\n",
    ")\n",
    "\n",
    "test_dataset = torchvision.datasets.CIFAR10(\n",
    "    root = './data', train = False,\n",
    "    download = True, transform = transform_test\n",
    ")"
   ]
  },
  {
   "cell_type": "code",
   "execution_count": 8,
   "id": "e57be624-831c-4c55-8d57-3f4fb65429f5",
   "metadata": {},
   "outputs": [],
   "source": [
    "train_loader = torch.utils.data.DataLoader(\n",
    "    dataset = train_dataset, batch_size = batch_size,\n",
    "    shuffle = True\n",
    "    )\n",
    "\n",
    "test_loader = torch.utils.data.DataLoader(\n",
    "    dataset = test_dataset, batch_size = batch_size,\n",
    "    shuffle = True\n",
    "    )"
   ]
  },
  {
   "cell_type": "code",
   "execution_count": null,
   "id": "c88fe6bb-0384-45b6-bd28-68b687db35f8",
   "metadata": {},
   "outputs": [],
   "source": []
  },
  {
   "cell_type": "code",
   "execution_count": 9,
   "id": "67f433d9-0ff7-4ae0-9430-366c3a821657",
   "metadata": {},
   "outputs": [
    {
     "name": "stdout",
     "output_type": "stream",
     "text": [
      "len(train_dataset) = 50000 & len(test_dataset) = 10000\n"
     ]
    }
   ],
   "source": [
    "print(f\"len(train_dataset) = {len(train_dataset)} & len(test_dataset) = {len(test_dataset)}\")"
   ]
  },
  {
   "cell_type": "code",
   "execution_count": 10,
   "id": "9710390a-497b-4fc4-8513-3c25ca236bbc",
   "metadata": {},
   "outputs": [
    {
     "name": "stdout",
     "output_type": "stream",
     "text": [
      "len(train_loader) = 782 & len(test_loader) = 157\n"
     ]
    }
   ],
   "source": [
    "print(f\"len(train_loader) = {len(train_loader)} & len(test_loader) = {len(test_loader)}\")"
   ]
  },
  {
   "cell_type": "code",
   "execution_count": 11,
   "id": "8d862313-1e29-4270-8d7f-53f1b104c45d",
   "metadata": {},
   "outputs": [
    {
     "data": {
      "text/plain": [
       "(781.25, 156.25)"
      ]
     },
     "execution_count": 11,
     "metadata": {},
     "output_type": "execute_result"
    }
   ],
   "source": [
    "len(train_dataset) / batch_size, len(test_dataset) / batch_size"
   ]
  },
  {
   "cell_type": "code",
   "execution_count": 12,
   "id": "190f7d7e-d3dd-458f-9312-83e6c7812326",
   "metadata": {},
   "outputs": [
    {
     "name": "stdout",
     "output_type": "stream",
     "text": [
      "len(train_dataset) = 50000 & len(test_dataset) = 10000\n"
     ]
    }
   ],
   "source": [
    "print(f\"len(train_dataset) = {len(train_dataset)} & len(test_dataset) = {len(test_dataset)}\")"
   ]
  },
  {
   "cell_type": "code",
   "execution_count": 13,
   "id": "68989806-72d2-4f19-8a84-476fc8626372",
   "metadata": {},
   "outputs": [
    {
     "name": "stdout",
     "output_type": "stream",
     "text": [
      "len(train_loader) = 782 & len(test_loader) = 157\n"
     ]
    }
   ],
   "source": [
    "print(f\"len(train_loader) = {len(train_loader)} & len(test_loader) = {len(test_loader)}\")"
   ]
  },
  {
   "cell_type": "code",
   "execution_count": 14,
   "id": "08887d4a-1b2b-4640-8c3d-df017036892f",
   "metadata": {},
   "outputs": [
    {
     "data": {
      "text/plain": [
       "(781.25, 156.25)"
      ]
     },
     "execution_count": 14,
     "metadata": {},
     "output_type": "execute_result"
    }
   ],
   "source": [
    "len(train_dataset) / batch_size, len(test_dataset) / batch_size"
   ]
  },
  {
   "cell_type": "code",
   "execution_count": null,
   "id": "9e2324b4-0550-470e-8ff5-f1c5c4d9d81a",
   "metadata": {},
   "outputs": [],
   "source": []
  },
  {
   "cell_type": "code",
   "execution_count": 15,
   "id": "e6d1da42-1c10-44e4-9140-d4d391519194",
   "metadata": {},
   "outputs": [
    {
     "data": {
      "text/plain": [
       "(torch.Size([64, 3, 32, 32]), torch.Size([64]))"
      ]
     },
     "execution_count": 15,
     "metadata": {},
     "output_type": "execute_result"
    }
   ],
   "source": [
    "# Sanity check-\n",
    "images, labels = next(iter(train_loader))\n",
    "\n",
    "images.size(), labels.shape"
   ]
  },
  {
   "cell_type": "code",
   "execution_count": 16,
   "id": "c806df3d-bed2-455e-8fd6-961993911af4",
   "metadata": {},
   "outputs": [
    {
     "data": {
      "text/plain": [
       "(64, 32, 32, 3)"
      ]
     },
     "execution_count": 16,
     "metadata": {},
     "output_type": "execute_result"
    }
   ],
   "source": [
    "# Unnormalize images-\n",
    "images = images / 2 + 0.5\n",
    "images = np.transpose(images.numpy(), (0, 2, 3, 1))\n",
    "\n",
    "images.shape"
   ]
  },
  {
   "cell_type": "code",
   "execution_count": 17,
   "id": "302f539e-d7c1-4da7-a044-e900a5029a20",
   "metadata": {},
   "outputs": [
    {
     "name": "stderr",
     "output_type": "stream",
     "text": [
      "Clipping input data to the valid range for imshow with RGB data ([0..1] for floats or [0..255] for integers).\n",
      "Clipping input data to the valid range for imshow with RGB data ([0..1] for floats or [0..255] for integers).\n",
      "Clipping input data to the valid range for imshow with RGB data ([0..1] for floats or [0..255] for integers).\n",
      "Clipping input data to the valid range for imshow with RGB data ([0..1] for floats or [0..255] for integers).\n",
      "Clipping input data to the valid range for imshow with RGB data ([0..1] for floats or [0..255] for integers).\n",
      "Clipping input data to the valid range for imshow with RGB data ([0..1] for floats or [0..255] for integers).\n",
      "Clipping input data to the valid range for imshow with RGB data ([0..1] for floats or [0..255] for integers).\n",
      "Clipping input data to the valid range for imshow with RGB data ([0..1] for floats or [0..255] for integers).\n",
      "Clipping input data to the valid range for imshow with RGB data ([0..1] for floats or [0..255] for integers).\n",
      "Clipping input data to the valid range for imshow with RGB data ([0..1] for floats or [0..255] for integers).\n",
      "Clipping input data to the valid range for imshow with RGB data ([0..1] for floats or [0..255] for integers).\n",
      "Clipping input data to the valid range for imshow with RGB data ([0..1] for floats or [0..255] for integers).\n",
      "Clipping input data to the valid range for imshow with RGB data ([0..1] for floats or [0..255] for integers).\n",
      "Clipping input data to the valid range for imshow with RGB data ([0..1] for floats or [0..255] for integers).\n",
      "Clipping input data to the valid range for imshow with RGB data ([0..1] for floats or [0..255] for integers).\n",
      "Clipping input data to the valid range for imshow with RGB data ([0..1] for floats or [0..255] for integers).\n",
      "Clipping input data to the valid range for imshow with RGB data ([0..1] for floats or [0..255] for integers).\n",
      "Clipping input data to the valid range for imshow with RGB data ([0..1] for floats or [0..255] for integers).\n",
      "Clipping input data to the valid range for imshow with RGB data ([0..1] for floats or [0..255] for integers).\n",
      "Clipping input data to the valid range for imshow with RGB data ([0..1] for floats or [0..255] for integers).\n",
      "Clipping input data to the valid range for imshow with RGB data ([0..1] for floats or [0..255] for integers).\n",
      "Clipping input data to the valid range for imshow with RGB data ([0..1] for floats or [0..255] for integers).\n",
      "Clipping input data to the valid range for imshow with RGB data ([0..1] for floats or [0..255] for integers).\n",
      "Clipping input data to the valid range for imshow with RGB data ([0..1] for floats or [0..255] for integers).\n",
      "Clipping input data to the valid range for imshow with RGB data ([0..1] for floats or [0..255] for integers).\n",
      "Clipping input data to the valid range for imshow with RGB data ([0..1] for floats or [0..255] for integers).\n",
      "Clipping input data to the valid range for imshow with RGB data ([0..1] for floats or [0..255] for integers).\n",
      "Clipping input data to the valid range for imshow with RGB data ([0..1] for floats or [0..255] for integers).\n",
      "Clipping input data to the valid range for imshow with RGB data ([0..1] for floats or [0..255] for integers).\n",
      "Clipping input data to the valid range for imshow with RGB data ([0..1] for floats or [0..255] for integers).\n",
      "Clipping input data to the valid range for imshow with RGB data ([0..1] for floats or [0..255] for integers).\n",
      "Clipping input data to the valid range for imshow with RGB data ([0..1] for floats or [0..255] for integers).\n",
      "Clipping input data to the valid range for imshow with RGB data ([0..1] for floats or [0..255] for integers).\n",
      "Clipping input data to the valid range for imshow with RGB data ([0..1] for floats or [0..255] for integers).\n",
      "Clipping input data to the valid range for imshow with RGB data ([0..1] for floats or [0..255] for integers).\n",
      "Clipping input data to the valid range for imshow with RGB data ([0..1] for floats or [0..255] for integers).\n",
      "Clipping input data to the valid range for imshow with RGB data ([0..1] for floats or [0..255] for integers).\n",
      "Clipping input data to the valid range for imshow with RGB data ([0..1] for floats or [0..255] for integers).\n",
      "Clipping input data to the valid range for imshow with RGB data ([0..1] for floats or [0..255] for integers).\n",
      "Clipping input data to the valid range for imshow with RGB data ([0..1] for floats or [0..255] for integers).\n",
      "Clipping input data to the valid range for imshow with RGB data ([0..1] for floats or [0..255] for integers).\n",
      "Clipping input data to the valid range for imshow with RGB data ([0..1] for floats or [0..255] for integers).\n",
      "Clipping input data to the valid range for imshow with RGB data ([0..1] for floats or [0..255] for integers).\n",
      "Clipping input data to the valid range for imshow with RGB data ([0..1] for floats or [0..255] for integers).\n",
      "Clipping input data to the valid range for imshow with RGB data ([0..1] for floats or [0..255] for integers).\n",
      "Clipping input data to the valid range for imshow with RGB data ([0..1] for floats or [0..255] for integers).\n",
      "Clipping input data to the valid range for imshow with RGB data ([0..1] for floats or [0..255] for integers).\n",
      "Clipping input data to the valid range for imshow with RGB data ([0..1] for floats or [0..255] for integers).\n",
      "Clipping input data to the valid range for imshow with RGB data ([0..1] for floats or [0..255] for integers).\n",
      "Clipping input data to the valid range for imshow with RGB data ([0..1] for floats or [0..255] for integers).\n"
     ]
    },
    {
     "data": {
      "image/png": "[encoded data removed]",
      "text/plain": [
       "<Figure size 720x648 with 50 Axes>"
      ]
     },
     "metadata": {
      "needs_background": "light"
     },
     "output_type": "display_data"
    }
   ],
   "source": [
    "# Visualize 50 images from training set-\n",
    "plt.figure(figsize = (10, 9))\n",
    "\n",
    "for i in range(50):\n",
    "    plt.subplot(5, 10, i + 1)\n",
    "    plt.imshow(images[i])\n",
    "    \n",
    "plt.suptitle(\"Sample CIFAR-10 training images\")\n",
    "plt.show()"
   ]
  },
  {
   "cell_type": "code",
   "execution_count": 18,
   "id": "c23064d9-d278-4627-b7d2-ac02a2365354",
   "metadata": {},
   "outputs": [
    {
     "data": {
      "text/plain": [
       "(1.8768656, -0.71453285)"
      ]
     },
     "execution_count": 18,
     "metadata": {},
     "output_type": "execute_result"
    }
   ],
   "source": [
    "images.max(), images.min()"
   ]
  },
  {
   "cell_type": "code",
   "execution_count": 18,
   "id": "4866ca01-a4e4-45fb-a630-49aeecfcaf87",
   "metadata": {},
   "outputs": [],
   "source": [
    "del images, labels"
   ]
  },
  {
   "cell_type": "code",
   "execution_count": null,
   "id": "15a1340e-5cd1-4bcd-b2dd-fc0d2c1a9e3c",
   "metadata": {},
   "outputs": [],
   "source": []
  },
  {
   "cell_type": "code",
   "execution_count": null,
   "id": "6b7a6d25-9c8d-4983-a26b-3a38ac2a1ef1",
   "metadata": {},
   "outputs": [],
   "source": []
  },
  {
   "cell_type": "markdown",
   "id": "230a4ea3-8250-43ae-a3b9-2a219fc7f205",
   "metadata": {},
   "source": [
    "### Define _VGG-17_ CNN architecture"
   ]
  },
  {
   "cell_type": "code",
   "execution_count": 19,
   "id": "f06037f5-b29e-473f-9560-d356aa50a401",
   "metadata": {},
   "outputs": [],
   "source": [
    "class VGGBlock(nn.Module):\n",
    "    '''\n",
    "    VGG block within a VGG-* CNN model\n",
    "    '''\n",
    "    def __init__(self, input_channels, num_channels, padding_size = 1,\n",
    "                 stride_size = 1, use_extra_conv = False, dropout = 0.2):\n",
    "        super().__init__()\n",
    "        \n",
    "        self.conv1 = nn.Conv2d(\n",
    "            in_channels = input_channels, out_channels = num_channels,\n",
    "            kernel_size = 3, padding = padding_size,\n",
    "            stride = stride_size, bias = False\n",
    "        )\n",
    "        \n",
    "        self.dropout = nn.Dropout(p = dropout)\n",
    "        \n",
    "        self.conv2 = nn.Conv2d(\n",
    "            in_channels = num_channels, out_channels = num_channels,\n",
    "            kernel_size = 3, padding = padding_size,\n",
    "            stride = stride_size, bias = False\n",
    "        )\n",
    "        \n",
    "        if use_extra_conv:\n",
    "            self.conv3 = nn.Conv2d(\n",
    "                in_channels = num_channels, out_channels = num_channels,\n",
    "                kernel_size = 3, padding = padding_size,\n",
    "                stride = stride_size, bias = False\n",
    "            )\n",
    "            \n",
    "            self.conv4 = nn.Conv2d(\n",
    "                in_channels = num_channels, out_channels = num_channels,\n",
    "                kernel_size = 3, padding = padding_size,\n",
    "                stride = stride_size, bias = False\n",
    "            )\n",
    "        else:\n",
    "            self.conv3 = False\n",
    "            self.conv4 = False\n",
    "        \n",
    "        self.pool = nn.MaxPool2d(\n",
    "            kernel_size = 2, stride = 2)\n",
    "            # padding = 1)\n",
    "        \n",
    "        self.bn1 = nn.BatchNorm2d(num_features = num_channels)\n",
    "        self.bn2 = nn.BatchNorm2d(num_features = num_channels)\n",
    "\n",
    "        if use_extra_conv:\n",
    "            self.bn3 = nn.BatchNorm2d(num_features = num_channels)\n",
    "            self.bn4 = nn.BatchNorm2d(num_features = num_channels)\n",
    "        \n",
    "        self.initialize_weights()\n",
    "    \n",
    "    \n",
    "    def forward(self, X):\n",
    "        Y = self.dropout(F.relu(self.bn1(self.conv1(X))))\n",
    "        Y = self.dropout(F.relu(self.bn2(self.conv2(Y))))\n",
    "        \n",
    "        if self.conv3 and self.conv4:\n",
    "            Y = self.dropout(F.relu(self.bn3(self.conv3(Y))))\n",
    "            Y = self.dropout(F.relu(self.bn4(self.conv4(Y))))\n",
    "            Y = self.pool(Y)\n",
    "        else:\n",
    "            Y = self.pool(Y)\n",
    "        \n",
    "        return Y\n",
    "    \n",
    "    \n",
    "    def shape_computation(self, X):\n",
    "        Y = self.bn1(self.conv1(X))\n",
    "        print(f\"self.bn(conv1(X)).shape: {Y.shape}\")\n",
    "        \n",
    "        Y = self.bn2(self.conv2(Y))\n",
    "        print(f\"self.bn(conv2(Y)).shape: {Y.shape}\")\n",
    "        \n",
    "        if self.conv3 and self.conv4:\n",
    "            Y = self.bn3(self.conv3(Y))\n",
    "            print(f\"self.bn(conv3(Y)).shape: {Y.shape}\")\n",
    "            \n",
    "            Y = self.bn4(self.conv4(Y))\n",
    "            print(f\"self.bn(conv4(Y)).shape: {Y.shape}\")\n",
    "            \n",
    "            Y = self.pool(Y)\n",
    "            print(f\"self.pool(Y).shape: {Y.shape}\")\n",
    "        else:\n",
    "            Y = self.pool(Y)\n",
    "            print(f\"self.pool(Y).shape: {Y.shape}\")\n",
    "        \n",
    "\n",
    "    def initialize_weights(self):\n",
    "        for m in self.modules():\n",
    "            # print(m)\n",
    "            if isinstance(m, nn.Conv2d):\n",
    "                nn.init.kaiming_normal_(m.weight)\n",
    "\n",
    "                '''\n",
    "                # Do not initialize bias (due to batchnorm)-\n",
    "                if m.bias is not None:\n",
    "                    nn.init.constant_(m.bias, 0)\n",
    "                '''\n",
    "            \n",
    "            elif isinstance(m, nn.BatchNorm2d):\n",
    "                # Standard initialization for batch normalization-\n",
    "                nn.init.constant_(m.weight, 1)\n",
    "                nn.init.constant_(m.bias, 0)\n",
    "\n",
    "            elif isinstance(m, nn.Linear):\n",
    "                nn.init.kaiming_normal_(m.weight)\n",
    "                nn.init.constant_(m.bias, 0)\n",
    "                "
   ]
  },
  {
   "cell_type": "code",
   "execution_count": 21,
   "id": "e3bce8b3-c56b-4b73-97a1-d6e9ddae4722",
   "metadata": {},
   "outputs": [],
   "source": [
    "class VGG17(nn.Module):\n",
    "    def __init__(self):\n",
    "        super().__init__()\n",
    "\n",
    "        self.block1 = VGGBlock(input_channels = 3, num_channels = 64, dropout = 0)\n",
    "        self.block2 = VGGBlock(input_channels = 64, num_channels = 128)\n",
    "        self.block3 = VGGBlock(\n",
    "            input_channels = 128, num_channels = 256,\n",
    "            use_extra_conv = True, dropout = 0.3)\n",
    "        self.block4 = VGGBlock(\n",
    "            input_channels = 256, num_channels = 512,\n",
    "            use_extra_conv = True, dropout = 0.3)\n",
    "        self.block5 = VGGBlock(\n",
    "            input_channels = 512, num_channels = 512,\n",
    "            use_extra_conv = True, dropout = 0.3)\n",
    "        # self.pool = nn.AdaptiveAvgPool1d()\n",
    "        self.flatten = nn.Flatten()\n",
    "        self.output_layer = nn.Linear(in_features = 512, out_features = 10)\n",
    "        \n",
    "    \n",
    "    def forward(self, x):\n",
    "        x = self.block1(x)\n",
    "        x = self.block2(x)\n",
    "        x = self.block3(x)\n",
    "        x = self.block4(x)\n",
    "        x = self.block5(x)\n",
    "        # x = self.pool(x)\n",
    "        x = self.flatten(x)\n",
    "        x = self.output_layer(x)\n",
    "        return x\n",
    "    "
   ]
  },
  {
   "cell_type": "code",
   "execution_count": null,
   "id": "164aa86c-dfac-4b0d-8f1c-790a9ac6d7b0",
   "metadata": {},
   "outputs": [],
   "source": []
  },
  {
   "cell_type": "code",
   "execution_count": null,
   "id": "6aaaac8c-001f-469d-8d1a-45767d850381",
   "metadata": {},
   "outputs": [],
   "source": []
  },
  {
   "cell_type": "markdown",
   "id": "a91c3701-863f-4c42-bb71-5f2a41c6eb83",
   "metadata": {},
   "source": [
    "### Multi-GPU Training in PyTorch\n",
    "\n",
    "- [Multi-GPU Examples](https://pytorch.org/tutorials/beginner/former_torchies/parallelism_tutorial.html)\n",
    "\n",
    "- [Data Parallelism](https://pytorch.org/tutorials/beginner/blitz/data_parallel_tutorial.html)"
   ]
  },
  {
   "cell_type": "code",
   "execution_count": 22,
   "id": "728d4586-0107-449e-9713-3ac767ae7901",
   "metadata": {},
   "outputs": [],
   "source": [
    "# Initialize VGG-17 architecture-\n",
    "model = VGG17()"
   ]
  },
  {
   "cell_type": "code",
   "execution_count": null,
   "id": "6d61a3f7-47ac-4bbe-afaf-b93ea4950509",
   "metadata": {},
   "outputs": [],
   "source": [
    "# Use all available GPUs-\n",
    "model = nn.DataParallel(model)\n",
    "model.to(device)"
   ]
  },
  {
   "cell_type": "code",
   "execution_count": null,
   "id": "90b7cbca-5414-4c86-98a5-7b660135c0bd",
   "metadata": {},
   "outputs": [],
   "source": []
  },
  {
   "cell_type": "code",
   "execution_count": 24,
   "id": "f5ea35c5-50e4-47ad-8cb1-be172b4ad452",
   "metadata": {},
   "outputs": [],
   "source": [
    "# Sanity check-\n",
    "x, y = next(iter(train_loader))\n",
    "x = x.to(device)\n",
    "y = y.to(device)"
   ]
  },
  {
   "cell_type": "code",
   "execution_count": 25,
   "id": "122542d5-e3f1-489a-b988-98957b01dd1f",
   "metadata": {},
   "outputs": [
    {
     "data": {
      "text/plain": [
       "(torch.Size([64, 3, 32, 32]), torch.Size([64]))"
      ]
     },
     "execution_count": 25,
     "metadata": {},
     "output_type": "execute_result"
    }
   ],
   "source": [
    "x.shape, y.shape"
   ]
  },
  {
   "cell_type": "code",
   "execution_count": 26,
   "id": "2115fe3c-1dc3-4d92-b1b7-32a882ffb333",
   "metadata": {},
   "outputs": [],
   "source": [
    "out = model(x)"
   ]
  },
  {
   "cell_type": "code",
   "execution_count": 27,
   "id": "e35becfb-b221-4c58-9c64-06d93751e8e4",
   "metadata": {},
   "outputs": [
    {
     "data": {
      "text/plain": [
       "torch.Size([64, 10])"
      ]
     },
     "execution_count": 27,
     "metadata": {},
     "output_type": "execute_result"
    }
   ],
   "source": [
    "out.shape"
   ]
  },
  {
   "cell_type": "code",
   "execution_count": 28,
   "id": "9fbb9ce2-93c4-4f3d-9188-57892436873c",
   "metadata": {},
   "outputs": [],
   "source": [
    "del x, y, out"
   ]
  },
  {
   "cell_type": "code",
   "execution_count": null,
   "id": "f23e5995-dd3e-4569-a0a3-779cdd876e00",
   "metadata": {},
   "outputs": [],
   "source": []
  },
  {
   "cell_type": "code",
   "execution_count": 29,
   "id": "60bfdc1c-e2b8-4910-b8f3-b1b7051c9bb7",
   "metadata": {},
   "outputs": [
    {
     "name": "stdout",
     "output_type": "stream",
     "text": [
      "layer.shape = torch.Size([64, 3, 3, 3]) has 1728 parameters\n",
      "layer.shape = torch.Size([64, 64, 3, 3]) has 36864 parameters\n",
      "layer.shape = torch.Size([64]) has 64 parameters\n",
      "layer.shape = torch.Size([64]) has 64 parameters\n",
      "layer.shape = torch.Size([64]) has 64 parameters\n",
      "layer.shape = torch.Size([64]) has 64 parameters\n",
      "layer.shape = torch.Size([128, 64, 3, 3]) has 73728 parameters\n",
      "layer.shape = torch.Size([128, 128, 3, 3]) has 147456 parameters\n",
      "layer.shape = torch.Size([128]) has 128 parameters\n",
      "layer.shape = torch.Size([128]) has 128 parameters\n",
      "layer.shape = torch.Size([128]) has 128 parameters\n",
      "layer.shape = torch.Size([128]) has 128 parameters\n",
      "layer.shape = torch.Size([256, 128, 3, 3]) has 294912 parameters\n",
      "layer.shape = torch.Size([256, 256, 3, 3]) has 589824 parameters\n",
      "layer.shape = torch.Size([256, 256, 3, 3]) has 589824 parameters\n",
      "layer.shape = torch.Size([256, 256, 3, 3]) has 589824 parameters\n",
      "layer.shape = torch.Size([256]) has 256 parameters\n",
      "layer.shape = torch.Size([256]) has 256 parameters\n",
      "layer.shape = torch.Size([256]) has 256 parameters\n",
      "layer.shape = torch.Size([256]) has 256 parameters\n",
      "layer.shape = torch.Size([256]) has 256 parameters\n",
      "layer.shape = torch.Size([256]) has 256 parameters\n",
      "layer.shape = torch.Size([256]) has 256 parameters\n",
      "layer.shape = torch.Size([256]) has 256 parameters\n",
      "layer.shape = torch.Size([512, 256, 3, 3]) has 1179648 parameters\n",
      "layer.shape = torch.Size([512, 512, 3, 3]) has 2359296 parameters\n",
      "layer.shape = torch.Size([512, 512, 3, 3]) has 2359296 parameters\n",
      "layer.shape = torch.Size([512, 512, 3, 3]) has 2359296 parameters\n",
      "layer.shape = torch.Size([512]) has 512 parameters\n",
      "layer.shape = torch.Size([512]) has 512 parameters\n",
      "layer.shape = torch.Size([512]) has 512 parameters\n",
      "layer.shape = torch.Size([512]) has 512 parameters\n",
      "layer.shape = torch.Size([512]) has 512 parameters\n",
      "layer.shape = torch.Size([512]) has 512 parameters\n",
      "layer.shape = torch.Size([512]) has 512 parameters\n",
      "layer.shape = torch.Size([512]) has 512 parameters\n",
      "layer.shape = torch.Size([512, 512, 3, 3]) has 2359296 parameters\n",
      "layer.shape = torch.Size([512, 512, 3, 3]) has 2359296 parameters\n",
      "layer.shape = torch.Size([512, 512, 3, 3]) has 2359296 parameters\n",
      "layer.shape = torch.Size([512, 512, 3, 3]) has 2359296 parameters\n",
      "layer.shape = torch.Size([512]) has 512 parameters\n",
      "layer.shape = torch.Size([512]) has 512 parameters\n",
      "layer.shape = torch.Size([512]) has 512 parameters\n",
      "layer.shape = torch.Size([512]) has 512 parameters\n",
      "layer.shape = torch.Size([512]) has 512 parameters\n",
      "layer.shape = torch.Size([512]) has 512 parameters\n",
      "layer.shape = torch.Size([512]) has 512 parameters\n",
      "layer.shape = torch.Size([512]) has 512 parameters\n",
      "layer.shape = torch.Size([10, 512]) has 5120 parameters\n",
      "layer.shape = torch.Size([10]) has 10 parameters\n"
     ]
    }
   ],
   "source": [
    "# Count number of layer-wise parameters and total parameters-\n",
    "tot_params = 0\n",
    "for param in model.parameters():\n",
    "    print(f\"layer.shape = {param.shape} has {param.nelement()} parameters\")\n",
    "    tot_params += param.nelement()"
   ]
  },
  {
   "cell_type": "code",
   "execution_count": 30,
   "id": "89f8c7b3-9dba-4db4-b57a-727b6e24ba18",
   "metadata": {},
   "outputs": [
    {
     "name": "stdout",
     "output_type": "stream",
     "text": [
      "Total number of parameters in VGG-17 CNN = 20035018\n"
     ]
    }
   ],
   "source": [
    "print(f\"Total number of parameters in VGG-17 CNN = {tot_params}\")"
   ]
  },
  {
   "cell_type": "code",
   "execution_count": null,
   "id": "8e5a47ff-715c-4209-b90e-610c35d327ee",
   "metadata": {},
   "outputs": [],
   "source": [
    "'''\n",
    "# Print layer names-\n",
    "for layer in model.state_dict().keys():\n",
    "    print(f\"{layer} has dimension = {model.state_dict()[layer].shape}\")\n",
    "'''"
   ]
  },
  {
   "cell_type": "code",
   "execution_count": null,
   "id": "5088eddd-f871-4f04-bed0-befeca4bf62b",
   "metadata": {},
   "outputs": [],
   "source": []
  },
  {
   "cell_type": "code",
   "execution_count": null,
   "id": "046f8b5f-2c6e-4c73-b706-66d3942b08e3",
   "metadata": {},
   "outputs": [],
   "source": [
    "# Save random initial weights-\n",
    "torch.save(model.state_dict(), 'VGG18_random_weights.pth')"
   ]
  },
  {
   "cell_type": "code",
   "execution_count": null,
   "id": "cea9496e-a7d0-46e1-b3a9-b545c6067807",
   "metadata": {},
   "outputs": [],
   "source": [
    "# Load randomly initialised weights-\n",
    "'''\n",
    "test_model = VGG17\n",
    "test_model = nn.DataParallel(test_model)\n",
    "test_model.to(device)\n",
    "test_model.load_state_dict(torch.load(\"VGG17_random_weights.pth\"))\n",
    "'''"
   ]
  },
  {
   "cell_type": "code",
   "execution_count": null,
   "id": "6d9216db-e6b0-4bdd-b01a-b97d2e424313",
   "metadata": {},
   "outputs": [],
   "source": []
  },
  {
   "cell_type": "code",
   "execution_count": null,
   "id": "2718ea79-ef6f-4a6d-bedc-87ef03fca19e",
   "metadata": {},
   "outputs": [],
   "source": []
  },
  {
   "cell_type": "markdown",
   "id": "69ebbc64-4248-4fb7-9d87-1e6ca26cef4a",
   "metadata": {},
   "source": [
    "### Train _VGG-17_ CNN with Learning Rate Scheduler\n",
    "\n",
    "Training dataset size = 50K, batch-size = 64, number of training steps per epoch = 50K / 64 = 781.25\n",
    "\n",
    "After an initial LR warmup of 13 epochs or, 10156.25 = 10157 training iterations:\n",
    "\n",
    "- For the next 32 epochs, or, 25000 steps - until 45rd epoch, use lr = 0.1.\n",
    "\n",
    "- For the next 25 epochs, or, 19531.25 steps - until 70th epoch, use lr = 0.01.\n",
    "\n",
    "- For remaining epochs, use lr = 0.001."
   ]
  },
  {
   "cell_type": "code",
   "execution_count": 31,
   "id": "affb8644-676e-438e-a821-823e4e8e7df4",
   "metadata": {},
   "outputs": [],
   "source": [
    "boundaries = [35157, 53125]\n",
    "values = [0.1, 0.01, 0.001]"
   ]
  },
  {
   "cell_type": "code",
   "execution_count": 32,
   "id": "23d4d1e1-93c5-4517-b1bc-d29afc50943b",
   "metadata": {},
   "outputs": [],
   "source": [
    "# Define loss function and optimizer-\n",
    "loss = nn.CrossEntropyLoss()\n",
    "\n",
    "# optimizer = torch.optim.Adam(model.parameters(), lr = learning_rate)\n",
    "optimizer = torch.optim.SGD(model.parameters(), lr = 0.0, momentum = 0.9, weight_decay = 5e-4)"
   ]
  },
  {
   "cell_type": "code",
   "execution_count": 33,
   "id": "252cc2ba-4483-46a4-bfbe-c80038e0a74d",
   "metadata": {},
   "outputs": [
    {
     "data": {
      "text/plain": [
       "0.0"
      ]
     },
     "execution_count": 33,
     "metadata": {},
     "output_type": "execute_result"
    }
   ],
   "source": [
    "# Sanity check-\n",
    "optimizer.param_groups[0]['lr']"
   ]
  },
  {
   "cell_type": "code",
   "execution_count": null,
   "id": "0b592fa2-f475-4e65-b2ed-7051d18c4dc9",
   "metadata": {},
   "outputs": [],
   "source": []
  },
  {
   "cell_type": "code",
   "execution_count": 34,
   "id": "9b192024-b9f2-4bae-95e1-36fa18242f2a",
   "metadata": {},
   "outputs": [],
   "source": [
    "def decay_function(step, boundaries = [35157, 53125], values = [0.1, 0.01, 0.001]):\n",
    "    \n",
    "    for idx, bound in enumerate(boundaries):\n",
    "        if step < bound:\n",
    "            return values[idx]\n",
    "\n",
    "    return values[-1]\n"
   ]
  },
  {
   "cell_type": "code",
   "execution_count": 35,
   "id": "9a4c4e00-a95b-4928-89e4-ffc58faca798",
   "metadata": {},
   "outputs": [],
   "source": [
    "class schedule():\n",
    "\n",
    "    def __init__(self, initial_learning_rate = 0.1, warmup_steps = 1000, decay_func = None):\n",
    "        self.initial_learning_rate = initial_learning_rate\n",
    "        self.warmup_steps = warmup_steps\n",
    "        self.decay_func = decay_func\n",
    "        self.warmup_step_size = initial_learning_rate/warmup_steps\n",
    "        self.current_lr = 0\n",
    "\n",
    "    def get_lr(self, step):\n",
    "        if step == 0:\n",
    "            return self.current_lr\n",
    "        elif step <= self.warmup_steps:\n",
    "            self.current_lr+=self.warmup_step_size\n",
    "            return self.current_lr\n",
    "        elif step > self.warmup_steps:\n",
    "            if self.decay_func:\n",
    "                return self.decay_func(step)\n",
    "        else:\n",
    "            return self.current_lr\n",
    "        "
   ]
  },
  {
   "cell_type": "code",
   "execution_count": null,
   "id": "2d9766f5-b6e6-403c-9065-17e45580d47d",
   "metadata": {},
   "outputs": [],
   "source": []
  },
  {
   "cell_type": "code",
   "execution_count": 36,
   "id": "d70ee6be-711b-4d01-81c3-9740a9be2cf3",
   "metadata": {},
   "outputs": [],
   "source": [
    "# Initial linear LR warmup: 781.25 x 13 = 10156.25 steps in 13 epochs.\n",
    "custom_lr_scheduler = schedule(\n",
    "    initial_learning_rate = 0.1, warmup_steps = 10157,\n",
    "    decay_func = decay_function\n",
    ")"
   ]
  },
  {
   "cell_type": "code",
   "execution_count": null,
   "id": "0d865819-9811-4de8-9b2c-916cd17dde7e",
   "metadata": {},
   "outputs": [],
   "source": []
  },
  {
   "cell_type": "code",
   "execution_count": 37,
   "id": "9f87a67b-37ce-4d29-a3ab-811a92792c58",
   "metadata": {},
   "outputs": [],
   "source": [
    "step = 0"
   ]
  },
  {
   "cell_type": "code",
   "execution_count": null,
   "id": "c46fe9fc-44b1-4e9d-8adb-0c81f02758c8",
   "metadata": {},
   "outputs": [],
   "source": []
  },
  {
   "cell_type": "code",
   "execution_count": 38,
   "id": "75ed50ba-3a9a-4e4e-ba3e-a5abb2aa9807",
   "metadata": {},
   "outputs": [],
   "source": [
    "def train_model_progress(model, train_loader):\n",
    "    '''\n",
    "    Function to perform one epoch of training by using 'train_loader'.\n",
    "    Returns loss and number of correct predictions for this epoch.\n",
    "    '''\n",
    "    running_loss = 0.0\n",
    "    running_corrects = 0.0\n",
    "    \n",
    "    model.train()\n",
    "    \n",
    "    with tqdm(train_loader, unit = 'batch') as tepoch:\n",
    "        for images, labels in tepoch:\n",
    "            tepoch.set_description(f\"Training: \")\n",
    "            \n",
    "            images = images.to(device)\n",
    "            labels = labels.to(device)\n",
    "            \n",
    "            # Get model predictions-\n",
    "            outputs = model(images)\n",
    "            \n",
    "            # Compute loss-\n",
    "            J = loss(outputs, labels)\n",
    "            \n",
    "            # Empty accumulated gradients-\n",
    "            optimizer.zero_grad()\n",
    "            \n",
    "            # Perform backprop-\n",
    "            J.backward()\n",
    "            \n",
    "            # Update parameters-\n",
    "            optimizer.step()\n",
    "            \n",
    "            global step\n",
    "            optimizer.param_groups[0]['lr'] = custom_lr_scheduler.get_lr(step)\n",
    "\n",
    "            step += 1\n",
    "            \n",
    "            # Compute model's performance statistics-\n",
    "            running_loss += J.item() * images.size(0)\n",
    "            _, predicted = torch.max(outputs, 1)\n",
    "            running_corrects += torch.sum(predicted == labels.data)\n",
    "            \n",
    "            tepoch.set_postfix(\n",
    "                loss = running_loss / len(train_dataset),\n",
    "                accuracy = (running_corrects.double().cpu().numpy() / len(train_dataset)) * 100\n",
    "            )\n",
    "            \n",
    "    \n",
    "    train_loss = running_loss / len(train_dataset)\n",
    "    train_acc = (running_corrects.double() / len(train_dataset)) * 100\n",
    "    \n",
    "\n",
    "    # return running_loss, running_corrects\n",
    "    return train_loss, train_acc.cpu().numpy()\n"
   ]
  },
  {
   "cell_type": "code",
   "execution_count": 39,
   "id": "bd6ccc81-75ee-4f60-a9f7-269d2d4c05da",
   "metadata": {},
   "outputs": [],
   "source": [
    "def test_model_progress(model, test_loader):\n",
    "    total = 0.0\n",
    "    correct = 0.0\n",
    "    running_loss_val = 0.0\n",
    "\n",
    "    with torch.no_grad():\n",
    "        with tqdm(test_loader, unit = 'batch') as tepoch:\n",
    "            for images, labels in tepoch:\n",
    "                tepoch.set_description(f\"Validation: \")\n",
    "                \n",
    "                images = images.to(device)\n",
    "                labels = labels.to(device)\n",
    "                \n",
    "                # Set model to evaluation mode-\n",
    "                model.eval()\n",
    "            \n",
    "                # Predict using trained model-\n",
    "                outputs = model(images)\n",
    "                _, y_pred = torch.max(outputs, 1)\n",
    "                \n",
    "                # Compute validation loss-\n",
    "                J_val = loss(outputs, labels)\n",
    "                \n",
    "                running_loss_val += J_val.item() * labels.size(0)\n",
    "    \n",
    "                # Total number of labels-\n",
    "                total += labels.size(0)\n",
    "\n",
    "                # Total number of correct predictions-\n",
    "                correct += (y_pred == labels).sum()\n",
    "                \n",
    "                tepoch.set_postfix(\n",
    "                    val_loss = running_loss_val / len(test_dataset),\n",
    "                    val_acc = 100 * (correct.cpu().numpy() / total)\n",
    "                )\n",
    "            \n",
    "        \n",
    "    # return (running_loss_val, correct, total)\n",
    "    val_loss = running_loss_val / len(test_dataset)\n",
    "    val_acc = (correct / total) * 100\n",
    "\n",
    "    return val_loss, val_acc.cpu().numpy()\n"
   ]
  },
  {
   "cell_type": "code",
   "execution_count": null,
   "id": "99f96ced-f329-484b-9a9d-00a505ac546a",
   "metadata": {},
   "outputs": [],
   "source": []
  },
  {
   "cell_type": "code",
   "execution_count": null,
   "id": "c66d7fe6-0a0b-4979-ad00-221f26ee560c",
   "metadata": {},
   "outputs": [],
   "source": []
  },
  {
   "cell_type": "code",
   "execution_count": 40,
   "id": "1eaae7b8-9837-49bf-a927-cfdaf6c39feb",
   "metadata": {},
   "outputs": [],
   "source": [
    "# Python3 dict to contain training metrics-\n",
    "training_history_lr_scheduler = {}"
   ]
  },
  {
   "cell_type": "code",
   "execution_count": 41,
   "id": "f1d9aa4e-0916-4649-9847-3c5002bf45dd",
   "metadata": {},
   "outputs": [],
   "source": [
    "# Initialize parameters saving 'best' models-\n",
    "best_val_acc = 0\n",
    "loc_patience = 0"
   ]
  },
  {
   "cell_type": "code",
   "execution_count": null,
   "id": "ec1cebf0-e46c-407d-a2c2-8d97090d4eb6",
   "metadata": {},
   "outputs": [],
   "source": []
  },
  {
   "cell_type": "code",
   "execution_count": 42,
   "id": "84c35546-562d-4f02-8357-9e3044e6b08e",
   "metadata": {},
   "outputs": [
    {
     "name": "stderr",
     "output_type": "stream",
     "text": [
      "Training: : 100%|██████████| 782/782 [00:40<00:00, 19.40batch/s, accuracy=19, loss=2.13]    \n",
      "Validation: : 100%|██████████| 157/157 [00:04<00:00, 38.14batch/s, val_acc=10, val_loss=3.35]  \n"
     ]
    },
    {
     "name": "stdout",
     "output_type": "stream",
     "text": [
      "\n",
      "epoch: 1 training loss = 2.1263, training accuracy = 18.98%, val_loss = 3.3541, val_accuracy = 10.00% & LR = 0.0077\n",
      "\n",
      "Saving model with highest val_acc = 10.0000\n",
      "\n"
     ]
    },
    {
     "name": "stderr",
     "output_type": "stream",
     "text": [
      "Training: : 100%|██████████| 782/782 [00:40<00:00, 19.38batch/s, accuracy=31.9, loss=1.74]  \n",
      "Validation: : 100%|██████████| 157/157 [00:04<00:00, 38.03batch/s, val_acc=19.1, val_loss=2.27]\n"
     ]
    },
    {
     "name": "stdout",
     "output_type": "stream",
     "text": [
      "\n",
      "epoch: 2 training loss = 1.7362, training accuracy = 31.90%, val_loss = 2.2743, val_accuracy = 19.05% & LR = 0.0154\n",
      "\n",
      "Saving model with highest val_acc = 19.0500\n",
      "\n"
     ]
    },
    {
     "name": "stderr",
     "output_type": "stream",
     "text": [
      "Training: : 100%|██████████| 782/782 [00:40<00:00, 19.25batch/s, accuracy=44.3, loss=1.48]  \n",
      "Validation: : 100%|██████████| 157/157 [00:04<00:00, 37.97batch/s, val_acc=43, val_loss=1.61]  \n"
     ]
    },
    {
     "name": "stdout",
     "output_type": "stream",
     "text": [
      "\n",
      "epoch: 3 training loss = 1.4818, training accuracy = 44.27%, val_loss = 1.6050, val_accuracy = 42.97% & LR = 0.0231\n",
      "\n",
      "Saving model with highest val_acc = 42.9700\n",
      "\n"
     ]
    },
    {
     "name": "stderr",
     "output_type": "stream",
     "text": [
      "Training: : 100%|██████████| 782/782 [00:40<00:00, 19.33batch/s, accuracy=57.9, loss=1.19]  \n",
      "Validation: : 100%|██████████| 157/157 [00:04<00:00, 37.91batch/s, val_acc=62.7, val_loss=1.22] \n"
     ]
    },
    {
     "name": "stdout",
     "output_type": "stream",
     "text": [
      "\n",
      "epoch: 4 training loss = 1.1923, training accuracy = 57.94%, val_loss = 1.2184, val_accuracy = 62.70% & LR = 0.0308\n",
      "\n",
      "Saving model with highest val_acc = 62.7000\n",
      "\n"
     ]
    },
    {
     "name": "stderr",
     "output_type": "stream",
     "text": [
      "Training: : 100%|██████████| 782/782 [00:40<00:00, 19.31batch/s, accuracy=63.7, loss=1.06]  \n",
      "Validation: : 100%|██████████| 157/157 [00:04<00:00, 37.87batch/s, val_acc=58.3, val_loss=1.19] \n"
     ]
    },
    {
     "name": "stdout",
     "output_type": "stream",
     "text": [
      "\n",
      "epoch: 5 training loss = 1.0607, training accuracy = 63.75%, val_loss = 1.1878, val_accuracy = 58.32% & LR = 0.0385\n",
      "\n"
     ]
    },
    {
     "name": "stderr",
     "output_type": "stream",
     "text": [
      "Training: : 100%|██████████| 782/782 [00:40<00:00, 19.36batch/s, accuracy=67.5, loss=0.963] \n",
      "Validation: : 100%|██████████| 157/157 [00:04<00:00, 37.93batch/s, val_acc=58.1, val_loss=1.28] \n"
     ]
    },
    {
     "name": "stdout",
     "output_type": "stream",
     "text": [
      "\n",
      "epoch: 6 training loss = 0.9631, training accuracy = 67.54%, val_loss = 1.2829, val_accuracy = 58.13% & LR = 0.0462\n",
      "\n"
     ]
    },
    {
     "name": "stderr",
     "output_type": "stream",
     "text": [
      "Training: : 100%|██████████| 782/782 [00:40<00:00, 19.42batch/s, accuracy=70.2, loss=0.901] \n",
      "Validation: : 100%|██████████| 157/157 [00:04<00:00, 37.57batch/s, val_acc=66.6, val_loss=1.08] \n"
     ]
    },
    {
     "name": "stdout",
     "output_type": "stream",
     "text": [
      "\n",
      "epoch: 7 training loss = 0.9012, training accuracy = 70.20%, val_loss = 1.0843, val_accuracy = 66.60% & LR = 0.0539\n",
      "\n",
      "Saving model with highest val_acc = 66.6000\n",
      "\n"
     ]
    },
    {
     "name": "stderr",
     "output_type": "stream",
     "text": [
      "Training: : 100%|██████████| 782/782 [00:40<00:00, 19.40batch/s, accuracy=71.7, loss=0.87]  \n",
      "Validation: : 100%|██████████| 157/157 [00:04<00:00, 37.45batch/s, val_acc=65.7, val_loss=1.09] \n"
     ]
    },
    {
     "name": "stdout",
     "output_type": "stream",
     "text": [
      "\n",
      "epoch: 8 training loss = 0.8700, training accuracy = 71.66%, val_loss = 1.0910, val_accuracy = 65.73% & LR = 0.0616\n",
      "\n"
     ]
    },
    {
     "name": "stderr",
     "output_type": "stream",
     "text": [
      "Training: : 100%|██████████| 782/782 [00:40<00:00, 19.28batch/s, accuracy=72.2, loss=0.854] \n",
      "Validation: : 100%|██████████| 157/157 [00:04<00:00, 37.87batch/s, val_acc=75.4, val_loss=0.848]\n"
     ]
    },
    {
     "name": "stdout",
     "output_type": "stream",
     "text": [
      "\n",
      "epoch: 9 training loss = 0.8541, training accuracy = 72.21%, val_loss = 0.8479, val_accuracy = 75.41% & LR = 0.0693\n",
      "\n",
      "Saving model with highest val_acc = 75.4100\n",
      "\n"
     ]
    },
    {
     "name": "stderr",
     "output_type": "stream",
     "text": [
      "Training: : 100%|██████████| 782/782 [00:40<00:00, 19.26batch/s, accuracy=72.5, loss=0.849] \n",
      "Validation: : 100%|██████████| 157/157 [00:04<00:00, 37.83batch/s, val_acc=64.1, val_loss=1.08] \n"
     ]
    },
    {
     "name": "stdout",
     "output_type": "stream",
     "text": [
      "\n",
      "epoch: 10 training loss = 0.8493, training accuracy = 72.52%, val_loss = 1.0760, val_accuracy = 64.08% & LR = 0.0770\n",
      "\n"
     ]
    },
    {
     "name": "stderr",
     "output_type": "stream",
     "text": [
      "Training: : 100%|██████████| 782/782 [00:40<00:00, 19.18batch/s, accuracy=72.8, loss=0.848] \n",
      "Validation: : 100%|██████████| 157/157 [00:04<00:00, 37.65batch/s, val_acc=66, val_loss=1.08]   \n"
     ]
    },
    {
     "name": "stdout",
     "output_type": "stream",
     "text": [
      "\n",
      "epoch: 11 training loss = 0.8480, training accuracy = 72.81%, val_loss = 1.0807, val_accuracy = 66.02% & LR = 0.0847\n",
      "\n"
     ]
    },
    {
     "name": "stderr",
     "output_type": "stream",
     "text": [
      "Training: : 100%|██████████| 782/782 [00:40<00:00, 19.15batch/s, accuracy=72.3, loss=0.861] \n",
      "Validation: : 100%|██████████| 157/157 [00:04<00:00, 37.64batch/s, val_acc=68.6, val_loss=1.07] \n"
     ]
    },
    {
     "name": "stdout",
     "output_type": "stream",
     "text": [
      "\n",
      "epoch: 12 training loss = 0.8612, training accuracy = 72.34%, val_loss = 1.0680, val_accuracy = 68.63% & LR = 0.0924\n",
      "\n"
     ]
    },
    {
     "name": "stderr",
     "output_type": "stream",
     "text": [
      "Training: : 100%|██████████| 782/782 [00:40<00:00, 19.14batch/s, accuracy=72, loss=0.871]   \n",
      "Validation: : 100%|██████████| 157/157 [00:04<00:00, 37.57batch/s, val_acc=70.2, val_loss=0.972]\n"
     ]
    },
    {
     "name": "stdout",
     "output_type": "stream",
     "text": [
      "\n",
      "epoch: 13 training loss = 0.8710, training accuracy = 71.96%, val_loss = 0.9723, val_accuracy = 70.16% & LR = 0.1000\n",
      "\n"
     ]
    },
    {
     "name": "stderr",
     "output_type": "stream",
     "text": [
      "Training: : 100%|██████████| 782/782 [00:41<00:00, 19.07batch/s, accuracy=72.4, loss=0.876] \n",
      "Validation: : 100%|██████████| 157/157 [00:04<00:00, 36.82batch/s, val_acc=69.3, val_loss=1.01] \n"
     ]
    },
    {
     "name": "stdout",
     "output_type": "stream",
     "text": [
      "\n",
      "epoch: 14 training loss = 0.8761, training accuracy = 72.39%, val_loss = 1.0139, val_accuracy = 69.26% & LR = 0.1000\n",
      "\n"
     ]
    },
    {
     "name": "stderr",
     "output_type": "stream",
     "text": [
      "Training: : 100%|██████████| 782/782 [00:40<00:00, 19.15batch/s, accuracy=72.9, loss=0.854] \n",
      "Validation: : 100%|██████████| 157/157 [00:04<00:00, 37.08batch/s, val_acc=72.6, val_loss=0.867]\n"
     ]
    },
    {
     "name": "stdout",
     "output_type": "stream",
     "text": [
      "\n",
      "epoch: 15 training loss = 0.8539, training accuracy = 72.92%, val_loss = 0.8668, val_accuracy = 72.61% & LR = 0.1000\n",
      "\n"
     ]
    },
    {
     "name": "stderr",
     "output_type": "stream",
     "text": [
      "Training: : 100%|██████████| 782/782 [00:40<00:00, 19.22batch/s, accuracy=72.9, loss=0.85]  \n",
      "Validation: : 100%|██████████| 157/157 [00:04<00:00, 37.68batch/s, val_acc=62.4, val_loss=1.16] \n"
     ]
    },
    {
     "name": "stdout",
     "output_type": "stream",
     "text": [
      "\n",
      "epoch: 16 training loss = 0.8495, training accuracy = 72.85%, val_loss = 1.1591, val_accuracy = 62.39% & LR = 0.1000\n",
      "\n"
     ]
    },
    {
     "name": "stderr",
     "output_type": "stream",
     "text": [
      "Training: : 100%|██████████| 782/782 [00:40<00:00, 19.15batch/s, accuracy=73.2, loss=0.84]  \n",
      "Validation: : 100%|██████████| 157/157 [00:04<00:00, 37.74batch/s, val_acc=66.4, val_loss=1.06] \n"
     ]
    },
    {
     "name": "stdout",
     "output_type": "stream",
     "text": [
      "\n",
      "epoch: 17 training loss = 0.8397, training accuracy = 73.25%, val_loss = 1.0595, val_accuracy = 66.40% & LR = 0.1000\n",
      "\n"
     ]
    },
    {
     "name": "stderr",
     "output_type": "stream",
     "text": [
      "Training: : 100%|██████████| 782/782 [00:40<00:00, 19.18batch/s, accuracy=73.4, loss=0.838] \n",
      "Validation: : 100%|██████████| 157/157 [00:04<00:00, 37.62batch/s, val_acc=74, val_loss=0.904]  \n"
     ]
    },
    {
     "name": "stdout",
     "output_type": "stream",
     "text": [
      "\n",
      "epoch: 18 training loss = 0.8385, training accuracy = 73.42%, val_loss = 0.9035, val_accuracy = 74.02% & LR = 0.1000\n",
      "\n"
     ]
    },
    {
     "name": "stderr",
     "output_type": "stream",
     "text": [
      "Training: : 100%|██████████| 782/782 [00:40<00:00, 19.18batch/s, accuracy=73.8, loss=0.826] \n",
      "Validation: : 100%|██████████| 157/157 [00:04<00:00, 37.57batch/s, val_acc=64, val_loss=1.11]   \n"
     ]
    },
    {
     "name": "stdout",
     "output_type": "stream",
     "text": [
      "\n",
      "epoch: 19 training loss = 0.8261, training accuracy = 73.79%, val_loss = 1.1074, val_accuracy = 64.02% & LR = 0.1000\n",
      "\n"
     ]
    },
    {
     "name": "stderr",
     "output_type": "stream",
     "text": [
      "Training: : 100%|██████████| 782/782 [00:40<00:00, 19.10batch/s, accuracy=73.9, loss=0.821] \n",
      "Validation: : 100%|██████████| 157/157 [00:04<00:00, 37.43batch/s, val_acc=64.2, val_loss=1.18] \n"
     ]
    },
    {
     "name": "stdout",
     "output_type": "stream",
     "text": [
      "\n",
      "epoch: 20 training loss = 0.8211, training accuracy = 73.94%, val_loss = 1.1836, val_accuracy = 64.23% & LR = 0.1000\n",
      "\n"
     ]
    },
    {
     "name": "stderr",
     "output_type": "stream",
     "text": [
      "Training: : 100%|██████████| 782/782 [00:41<00:00, 19.05batch/s, accuracy=73.7, loss=0.826] \n",
      "Validation: : 100%|██████████| 157/157 [00:04<00:00, 37.34batch/s, val_acc=71.8, val_loss=0.97] \n"
     ]
    },
    {
     "name": "stdout",
     "output_type": "stream",
     "text": [
      "\n",
      "epoch: 21 training loss = 0.8260, training accuracy = 73.71%, val_loss = 0.9698, val_accuracy = 71.83% & LR = 0.1000\n",
      "\n"
     ]
    },
    {
     "name": "stderr",
     "output_type": "stream",
     "text": [
      "Training: : 100%|██████████| 782/782 [00:40<00:00, 19.14batch/s, accuracy=74.2, loss=0.81]  \n",
      "Validation: : 100%|██████████| 157/157 [00:04<00:00, 37.77batch/s, val_acc=68.8, val_loss=0.982]\n"
     ]
    },
    {
     "name": "stdout",
     "output_type": "stream",
     "text": [
      "\n",
      "epoch: 22 training loss = 0.8098, training accuracy = 74.22%, val_loss = 0.9820, val_accuracy = 68.75% & LR = 0.1000\n",
      "\n"
     ]
    },
    {
     "name": "stderr",
     "output_type": "stream",
     "text": [
      "Training: : 100%|██████████| 782/782 [00:40<00:00, 19.23batch/s, accuracy=73.8, loss=0.817] \n",
      "Validation: : 100%|██████████| 157/157 [00:04<00:00, 37.14batch/s, val_acc=72.4, val_loss=0.935]\n"
     ]
    },
    {
     "name": "stdout",
     "output_type": "stream",
     "text": [
      "\n",
      "epoch: 23 training loss = 0.8172, training accuracy = 73.85%, val_loss = 0.9348, val_accuracy = 72.38% & LR = 0.1000\n",
      "\n"
     ]
    },
    {
     "name": "stderr",
     "output_type": "stream",
     "text": [
      "Training: : 100%|██████████| 782/782 [00:40<00:00, 19.23batch/s, accuracy=74.1, loss=0.814] \n",
      "Validation: : 100%|██████████| 157/157 [00:04<00:00, 37.64batch/s, val_acc=72.5, val_loss=0.884]\n"
     ]
    },
    {
     "name": "stdout",
     "output_type": "stream",
     "text": [
      "\n",
      "epoch: 24 training loss = 0.8138, training accuracy = 74.15%, val_loss = 0.8842, val_accuracy = 72.49% & LR = 0.1000\n",
      "\n"
     ]
    },
    {
     "name": "stderr",
     "output_type": "stream",
     "text": [
      "Training: : 100%|██████████| 782/782 [00:40<00:00, 19.20batch/s, accuracy=74.1, loss=0.818] \n",
      "Validation: : 100%|██████████| 157/157 [00:04<00:00, 37.63batch/s, val_acc=70.7, val_loss=0.961]\n"
     ]
    },
    {
     "name": "stdout",
     "output_type": "stream",
     "text": [
      "\n",
      "epoch: 25 training loss = 0.8180, training accuracy = 74.07%, val_loss = 0.9612, val_accuracy = 70.74% & LR = 0.1000\n",
      "\n"
     ]
    },
    {
     "name": "stderr",
     "output_type": "stream",
     "text": [
      "Training: : 100%|██████████| 782/782 [00:40<00:00, 19.21batch/s, accuracy=74.1, loss=0.814] \n",
      "Validation: : 100%|██████████| 157/157 [00:04<00:00, 37.68batch/s, val_acc=68.4, val_loss=0.994]\n"
     ]
    },
    {
     "name": "stdout",
     "output_type": "stream",
     "text": [
      "\n",
      "epoch: 26 training loss = 0.8136, training accuracy = 74.08%, val_loss = 0.9935, val_accuracy = 68.40% & LR = 0.1000\n",
      "\n"
     ]
    },
    {
     "name": "stderr",
     "output_type": "stream",
     "text": [
      "Training: : 100%|██████████| 782/782 [00:40<00:00, 19.18batch/s, accuracy=74, loss=0.813]   \n",
      "Validation: : 100%|██████████| 157/157 [00:04<00:00, 37.67batch/s, val_acc=71.8, val_loss=0.959]\n"
     ]
    },
    {
     "name": "stdout",
     "output_type": "stream",
     "text": [
      "\n",
      "epoch: 27 training loss = 0.8126, training accuracy = 74.02%, val_loss = 0.9595, val_accuracy = 71.81% & LR = 0.1000\n",
      "\n"
     ]
    },
    {
     "name": "stderr",
     "output_type": "stream",
     "text": [
      "Training: : 100%|██████████| 782/782 [00:40<00:00, 19.20batch/s, accuracy=74.5, loss=0.8]   \n",
      "Validation: : 100%|██████████| 157/157 [00:04<00:00, 37.73batch/s, val_acc=70.5, val_loss=1]    \n"
     ]
    },
    {
     "name": "stdout",
     "output_type": "stream",
     "text": [
      "\n",
      "epoch: 28 training loss = 0.8000, training accuracy = 74.54%, val_loss = 1.0008, val_accuracy = 70.48% & LR = 0.1000\n",
      "\n"
     ]
    },
    {
     "name": "stderr",
     "output_type": "stream",
     "text": [
      "Training: : 100%|██████████| 782/782 [00:40<00:00, 19.12batch/s, accuracy=74.3, loss=0.805] \n",
      "Validation: : 100%|██████████| 157/157 [00:04<00:00, 37.79batch/s, val_acc=68.4, val_loss=1.03] \n"
     ]
    },
    {
     "name": "stdout",
     "output_type": "stream",
     "text": [
      "\n",
      "epoch: 29 training loss = 0.8047, training accuracy = 74.32%, val_loss = 1.0284, val_accuracy = 68.36% & LR = 0.1000\n",
      "\n"
     ]
    },
    {
     "name": "stderr",
     "output_type": "stream",
     "text": [
      "Training: : 100%|██████████| 782/782 [00:40<00:00, 19.36batch/s, accuracy=74.4, loss=0.806] \n",
      "Validation: : 100%|██████████| 157/157 [00:04<00:00, 38.00batch/s, val_acc=72.1, val_loss=0.91] \n"
     ]
    },
    {
     "name": "stdout",
     "output_type": "stream",
     "text": [
      "\n",
      "epoch: 30 training loss = 0.8063, training accuracy = 74.36%, val_loss = 0.9098, val_accuracy = 72.14% & LR = 0.1000\n",
      "\n"
     ]
    },
    {
     "name": "stderr",
     "output_type": "stream",
     "text": [
      "Training: : 100%|██████████| 782/782 [00:40<00:00, 19.32batch/s, accuracy=75, loss=0.789]    \n",
      "Validation: : 100%|██████████| 157/157 [00:04<00:00, 37.46batch/s, val_acc=63, val_loss=1.19]   \n"
     ]
    },
    {
     "name": "stdout",
     "output_type": "stream",
     "text": [
      "\n",
      "epoch: 31 training loss = 0.7893, training accuracy = 75.03%, val_loss = 1.1927, val_accuracy = 62.98% & LR = 0.1000\n",
      "\n"
     ]
    },
    {
     "name": "stderr",
     "output_type": "stream",
     "text": [
      "Training: : 100%|██████████| 782/782 [00:40<00:00, 19.38batch/s, accuracy=75.1, loss=0.789]  \n",
      "Validation: : 100%|██████████| 157/157 [00:04<00:00, 38.08batch/s, val_acc=68.3, val_loss=1.04] \n"
     ]
    },
    {
     "name": "stdout",
     "output_type": "stream",
     "text": [
      "\n",
      "epoch: 32 training loss = 0.7892, training accuracy = 75.06%, val_loss = 1.0445, val_accuracy = 68.34% & LR = 0.1000\n",
      "\n"
     ]
    },
    {
     "name": "stderr",
     "output_type": "stream",
     "text": [
      "Training: : 100%|██████████| 782/782 [00:40<00:00, 19.36batch/s, accuracy=74.9, loss=0.796] \n",
      "Validation: : 100%|██████████| 157/157 [00:04<00:00, 38.25batch/s, val_acc=75.8, val_loss=0.87] \n"
     ]
    },
    {
     "name": "stdout",
     "output_type": "stream",
     "text": [
      "\n",
      "epoch: 33 training loss = 0.7956, training accuracy = 74.85%, val_loss = 0.8705, val_accuracy = 75.75% & LR = 0.1000\n",
      "\n",
      "Saving model with highest val_acc = 75.7500\n",
      "\n"
     ]
    },
    {
     "name": "stderr",
     "output_type": "stream",
     "text": [
      "Training: : 100%|██████████| 782/782 [00:40<00:00, 19.24batch/s, accuracy=75, loss=0.79]    \n",
      "Validation: : 100%|██████████| 157/157 [00:04<00:00, 37.45batch/s, val_acc=68.8, val_loss=1.03] \n"
     ]
    },
    {
     "name": "stdout",
     "output_type": "stream",
     "text": [
      "\n",
      "epoch: 34 training loss = 0.7902, training accuracy = 74.98%, val_loss = 1.0285, val_accuracy = 68.81% & LR = 0.1000\n",
      "\n"
     ]
    },
    {
     "name": "stderr",
     "output_type": "stream",
     "text": [
      "Training: : 100%|██████████| 782/782 [00:40<00:00, 19.17batch/s, accuracy=75.1, loss=0.791] \n",
      "Validation: : 100%|██████████| 157/157 [00:04<00:00, 37.37batch/s, val_acc=65.5, val_loss=1.11] \n"
     ]
    },
    {
     "name": "stdout",
     "output_type": "stream",
     "text": [
      "\n",
      "epoch: 35 training loss = 0.7915, training accuracy = 75.09%, val_loss = 1.1124, val_accuracy = 65.46% & LR = 0.1000\n",
      "\n"
     ]
    },
    {
     "name": "stderr",
     "output_type": "stream",
     "text": [
      "Training: : 100%|██████████| 782/782 [00:40<00:00, 19.16batch/s, accuracy=75.1, loss=0.787] \n",
      "Validation: : 100%|██████████| 157/157 [00:04<00:00, 37.35batch/s, val_acc=63, val_loss=1.21]   \n"
     ]
    },
    {
     "name": "stdout",
     "output_type": "stream",
     "text": [
      "\n",
      "epoch: 36 training loss = 0.7866, training accuracy = 75.11%, val_loss = 1.2079, val_accuracy = 62.99% & LR = 0.1000\n",
      "\n"
     ]
    },
    {
     "name": "stderr",
     "output_type": "stream",
     "text": [
      "Training: : 100%|██████████| 782/782 [00:40<00:00, 19.16batch/s, accuracy=74.7, loss=0.796] \n",
      "Validation: : 100%|██████████| 157/157 [00:04<00:00, 37.35batch/s, val_acc=68.6, val_loss=1.04] \n"
     ]
    },
    {
     "name": "stdout",
     "output_type": "stream",
     "text": [
      "\n",
      "epoch: 37 training loss = 0.7958, training accuracy = 74.66%, val_loss = 1.0410, val_accuracy = 68.57% & LR = 0.1000\n",
      "\n"
     ]
    },
    {
     "name": "stderr",
     "output_type": "stream",
     "text": [
      "Training: : 100%|██████████| 782/782 [00:40<00:00, 19.14batch/s, accuracy=74.7, loss=0.791] \n",
      "Validation: : 100%|██████████| 157/157 [00:04<00:00, 37.37batch/s, val_acc=69.8, val_loss=0.999]\n"
     ]
    },
    {
     "name": "stdout",
     "output_type": "stream",
     "text": [
      "\n",
      "epoch: 38 training loss = 0.7909, training accuracy = 74.73%, val_loss = 0.9989, val_accuracy = 69.78% & LR = 0.1000\n",
      "\n"
     ]
    },
    {
     "name": "stderr",
     "output_type": "stream",
     "text": [
      "Training: : 100%|██████████| 782/782 [00:40<00:00, 19.18batch/s, accuracy=75, loss=0.787]   \n",
      "Validation: : 100%|██████████| 157/157 [00:04<00:00, 36.85batch/s, val_acc=66.5, val_loss=1.16] \n"
     ]
    },
    {
     "name": "stdout",
     "output_type": "stream",
     "text": [
      "\n",
      "epoch: 39 training loss = 0.7872, training accuracy = 75.03%, val_loss = 1.1603, val_accuracy = 66.52% & LR = 0.1000\n",
      "\n"
     ]
    },
    {
     "name": "stderr",
     "output_type": "stream",
     "text": [
      "Training: : 100%|██████████| 782/782 [00:40<00:00, 19.18batch/s, accuracy=75, loss=0.783]    \n",
      "Validation: : 100%|██████████| 157/157 [00:04<00:00, 37.33batch/s, val_acc=57.2, val_loss=1.29] \n"
     ]
    },
    {
     "name": "stdout",
     "output_type": "stream",
     "text": [
      "\n",
      "epoch: 40 training loss = 0.7829, training accuracy = 74.99%, val_loss = 1.2889, val_accuracy = 57.24% & LR = 0.1000\n",
      "\n"
     ]
    },
    {
     "name": "stderr",
     "output_type": "stream",
     "text": [
      "Training: : 100%|██████████| 782/782 [00:40<00:00, 19.16batch/s, accuracy=75.1, loss=0.787] \n",
      "Validation: : 100%|██████████| 157/157 [00:04<00:00, 37.72batch/s, val_acc=67.5, val_loss=1.05] \n"
     ]
    },
    {
     "name": "stdout",
     "output_type": "stream",
     "text": [
      "\n",
      "epoch: 41 training loss = 0.7868, training accuracy = 75.09%, val_loss = 1.0518, val_accuracy = 67.55% & LR = 0.1000\n",
      "\n"
     ]
    },
    {
     "name": "stderr",
     "output_type": "stream",
     "text": [
      "Training: : 100%|██████████| 782/782 [00:40<00:00, 19.18batch/s, accuracy=75.2, loss=0.784] \n",
      "Validation: : 100%|██████████| 157/157 [00:04<00:00, 37.78batch/s, val_acc=59.8, val_loss=1.23] \n"
     ]
    },
    {
     "name": "stdout",
     "output_type": "stream",
     "text": [
      "\n",
      "epoch: 42 training loss = 0.7842, training accuracy = 75.17%, val_loss = 1.2343, val_accuracy = 59.75% & LR = 0.1000\n",
      "\n"
     ]
    },
    {
     "name": "stderr",
     "output_type": "stream",
     "text": [
      "Training: : 100%|██████████| 782/782 [00:40<00:00, 19.18batch/s, accuracy=75, loss=0.787]   \n",
      "Validation: : 100%|██████████| 157/157 [00:04<00:00, 37.77batch/s, val_acc=73.1, val_loss=0.938]\n"
     ]
    },
    {
     "name": "stdout",
     "output_type": "stream",
     "text": [
      "\n",
      "epoch: 43 training loss = 0.7874, training accuracy = 74.98%, val_loss = 0.9378, val_accuracy = 73.13% & LR = 0.1000\n",
      "\n"
     ]
    },
    {
     "name": "stderr",
     "output_type": "stream",
     "text": [
      "Training: : 100%|██████████| 782/782 [00:40<00:00, 19.17batch/s, accuracy=75.3, loss=0.78]   \n",
      "Validation: : 100%|██████████| 157/157 [00:04<00:00, 37.79batch/s, val_acc=73, val_loss=0.939]  \n"
     ]
    },
    {
     "name": "stdout",
     "output_type": "stream",
     "text": [
      "\n",
      "epoch: 44 training loss = 0.7797, training accuracy = 75.33%, val_loss = 0.9391, val_accuracy = 73.02% & LR = 0.1000\n",
      "\n"
     ]
    },
    {
     "name": "stderr",
     "output_type": "stream",
     "text": [
      "Training: : 100%|██████████| 782/782 [00:40<00:00, 19.21batch/s, accuracy=74.8, loss=0.789] \n",
      "Validation: : 100%|██████████| 157/157 [00:04<00:00, 37.64batch/s, val_acc=81.9, val_loss=0.693]\n"
     ]
    },
    {
     "name": "stdout",
     "output_type": "stream",
     "text": [
      "\n",
      "epoch: 45 training loss = 0.7895, training accuracy = 74.81%, val_loss = 0.6931, val_accuracy = 81.91% & LR = 0.0100\n",
      "\n",
      "Saving model with highest val_acc = 81.9100\n",
      "\n"
     ]
    },
    {
     "name": "stderr",
     "output_type": "stream",
     "text": [
      "Training: : 100%|██████████| 782/782 [00:40<00:00, 19.20batch/s, accuracy=84, loss=0.496]   \n",
      "Validation: : 100%|██████████| 157/157 [00:04<00:00, 37.67batch/s, val_acc=87, val_loss=0.479]  \n"
     ]
    },
    {
     "name": "stdout",
     "output_type": "stream",
     "text": [
      "\n",
      "epoch: 46 training loss = 0.4961, training accuracy = 84.03%, val_loss = 0.4789, val_accuracy = 86.98% & LR = 0.0100\n",
      "\n",
      "Saving model with highest val_acc = 86.9800\n",
      "\n"
     ]
    },
    {
     "name": "stderr",
     "output_type": "stream",
     "text": [
      "Training: : 100%|██████████| 782/782 [00:40<00:00, 19.22batch/s, accuracy=85.8, loss=0.434] \n",
      "Validation: : 100%|██████████| 157/157 [00:04<00:00, 37.08batch/s, val_acc=87.5, val_loss=0.469]\n"
     ]
    },
    {
     "name": "stdout",
     "output_type": "stream",
     "text": [
      "\n",
      "epoch: 47 training loss = 0.4339, training accuracy = 85.83%, val_loss = 0.4689, val_accuracy = 87.49% & LR = 0.0100\n",
      "\n",
      "Saving model with highest val_acc = 87.4900\n",
      "\n"
     ]
    },
    {
     "name": "stderr",
     "output_type": "stream",
     "text": [
      "Training: : 100%|██████████| 782/782 [00:40<00:00, 19.22batch/s, accuracy=86.6, loss=0.408]  \n",
      "Validation: : 100%|██████████| 157/157 [00:04<00:00, 37.68batch/s, val_acc=88.5, val_loss=0.429]\n"
     ]
    },
    {
     "name": "stdout",
     "output_type": "stream",
     "text": [
      "\n",
      "epoch: 48 training loss = 0.4082, training accuracy = 86.57%, val_loss = 0.4292, val_accuracy = 88.48% & LR = 0.0100\n",
      "\n",
      "Saving model with highest val_acc = 88.4800\n",
      "\n"
     ]
    },
    {
     "name": "stderr",
     "output_type": "stream",
     "text": [
      "Training: : 100%|██████████| 782/782 [00:40<00:00, 19.29batch/s, accuracy=87.3, loss=0.384]  \n",
      "Validation: : 100%|██████████| 157/157 [00:04<00:00, 38.00batch/s, val_acc=88.1, val_loss=0.429]\n"
     ]
    },
    {
     "name": "stdout",
     "output_type": "stream",
     "text": [
      "\n",
      "epoch: 49 training loss = 0.3842, training accuracy = 87.31%, val_loss = 0.4293, val_accuracy = 88.11% & LR = 0.0100\n",
      "\n"
     ]
    },
    {
     "name": "stderr",
     "output_type": "stream",
     "text": [
      "Training: : 100%|██████████| 782/782 [00:40<00:00, 19.34batch/s, accuracy=88.1, loss=0.364] \n",
      "Validation: : 100%|██████████| 157/157 [00:04<00:00, 37.90batch/s, val_acc=88, val_loss=0.418]  \n"
     ]
    },
    {
     "name": "stdout",
     "output_type": "stream",
     "text": [
      "\n",
      "epoch: 50 training loss = 0.3638, training accuracy = 88.05%, val_loss = 0.4183, val_accuracy = 87.97% & LR = 0.0100\n",
      "\n"
     ]
    },
    {
     "name": "stderr",
     "output_type": "stream",
     "text": [
      "Training: : 100%|██████████| 782/782 [00:40<00:00, 19.17batch/s, accuracy=88.2, loss=0.357] \n",
      "Validation: : 100%|██████████| 157/157 [00:04<00:00, 37.68batch/s, val_acc=88.3, val_loss=0.41] \n"
     ]
    },
    {
     "name": "stdout",
     "output_type": "stream",
     "text": [
      "\n",
      "epoch: 51 training loss = 0.3567, training accuracy = 88.24%, val_loss = 0.4103, val_accuracy = 88.34% & LR = 0.0100\n",
      "\n"
     ]
    },
    {
     "name": "stderr",
     "output_type": "stream",
     "text": [
      "Training: : 100%|██████████| 782/782 [00:40<00:00, 19.21batch/s, accuracy=88.9, loss=0.343]  \n",
      "Validation: : 100%|██████████| 157/157 [00:04<00:00, 37.65batch/s, val_acc=87.6, val_loss=0.442]\n"
     ]
    },
    {
     "name": "stdout",
     "output_type": "stream",
     "text": [
      "\n",
      "epoch: 52 training loss = 0.3429, training accuracy = 88.90%, val_loss = 0.4419, val_accuracy = 87.59% & LR = 0.0100\n",
      "\n"
     ]
    },
    {
     "name": "stderr",
     "output_type": "stream",
     "text": [
      "Training: : 100%|██████████| 782/782 [00:40<00:00, 19.25batch/s, accuracy=89.1, loss=0.335]  \n",
      "Validation: : 100%|██████████| 157/157 [00:04<00:00, 37.99batch/s, val_acc=89.2, val_loss=0.384]\n"
     ]
    },
    {
     "name": "stdout",
     "output_type": "stream",
     "text": [
      "\n",
      "epoch: 53 training loss = 0.3352, training accuracy = 89.09%, val_loss = 0.3843, val_accuracy = 89.18% & LR = 0.0100\n",
      "\n",
      "Saving model with highest val_acc = 89.1800\n",
      "\n"
     ]
    },
    {
     "name": "stderr",
     "output_type": "stream",
     "text": [
      "Training: : 100%|██████████| 782/782 [00:40<00:00, 19.34batch/s, accuracy=89.1, loss=0.332]  \n",
      "Validation: : 100%|██████████| 157/157 [00:04<00:00, 37.97batch/s, val_acc=88.5, val_loss=0.418]\n"
     ]
    },
    {
     "name": "stdout",
     "output_type": "stream",
     "text": [
      "\n",
      "epoch: 54 training loss = 0.3324, training accuracy = 89.10%, val_loss = 0.4179, val_accuracy = 88.49% & LR = 0.0100\n",
      "\n"
     ]
    },
    {
     "name": "stderr",
     "output_type": "stream",
     "text": [
      "Training: : 100%|██████████| 782/782 [00:40<00:00, 19.27batch/s, accuracy=89.5, loss=0.32]  \n",
      "Validation: : 100%|██████████| 157/157 [00:04<00:00, 37.32batch/s, val_acc=89, val_loss=0.396]  \n"
     ]
    },
    {
     "name": "stdout",
     "output_type": "stream",
     "text": [
      "\n",
      "epoch: 55 training loss = 0.3203, training accuracy = 89.52%, val_loss = 0.3958, val_accuracy = 89.02% & LR = 0.0100\n",
      "\n"
     ]
    },
    {
     "name": "stderr",
     "output_type": "stream",
     "text": [
      "Training: : 100%|██████████| 782/782 [00:40<00:00, 19.33batch/s, accuracy=89.5, loss=0.319]  \n",
      "Validation: : 100%|██████████| 157/157 [00:04<00:00, 37.92batch/s, val_acc=87.4, val_loss=0.407]\n"
     ]
    },
    {
     "name": "stdout",
     "output_type": "stream",
     "text": [
      "\n",
      "epoch: 56 training loss = 0.3188, training accuracy = 89.53%, val_loss = 0.4075, val_accuracy = 87.41% & LR = 0.0100\n",
      "\n"
     ]
    },
    {
     "name": "stderr",
     "output_type": "stream",
     "text": [
      "Training: : 100%|██████████| 782/782 [00:40<00:00, 19.32batch/s, accuracy=89.7, loss=0.315]  \n",
      "Validation: : 100%|██████████| 157/157 [00:04<00:00, 37.95batch/s, val_acc=88.4, val_loss=0.399]\n"
     ]
    },
    {
     "name": "stdout",
     "output_type": "stream",
     "text": [
      "\n",
      "epoch: 57 training loss = 0.3152, training accuracy = 89.68%, val_loss = 0.3986, val_accuracy = 88.41% & LR = 0.0100\n",
      "\n"
     ]
    },
    {
     "name": "stderr",
     "output_type": "stream",
     "text": [
      "Training: : 100%|██████████| 782/782 [00:40<00:00, 19.26batch/s, accuracy=89.6, loss=0.319]  \n",
      "Validation: : 100%|██████████| 157/157 [00:04<00:00, 37.87batch/s, val_acc=87.3, val_loss=0.428]\n"
     ]
    },
    {
     "name": "stdout",
     "output_type": "stream",
     "text": [
      "\n",
      "epoch: 58 training loss = 0.3190, training accuracy = 89.60%, val_loss = 0.4285, val_accuracy = 87.26% & LR = 0.0100\n",
      "\n"
     ]
    },
    {
     "name": "stderr",
     "output_type": "stream",
     "text": [
      "Training: : 100%|██████████| 782/782 [00:40<00:00, 19.32batch/s, accuracy=89.8, loss=0.309]  \n",
      "Validation: : 100%|██████████| 157/157 [00:04<00:00, 37.59batch/s, val_acc=89.3, val_loss=0.376]\n"
     ]
    },
    {
     "name": "stdout",
     "output_type": "stream",
     "text": [
      "\n",
      "epoch: 59 training loss = 0.3095, training accuracy = 89.85%, val_loss = 0.3755, val_accuracy = 89.34% & LR = 0.0100\n",
      "\n",
      "Saving model with highest val_acc = 89.3400\n",
      "\n"
     ]
    },
    {
     "name": "stderr",
     "output_type": "stream",
     "text": [
      "Training: : 100%|██████████| 782/782 [00:40<00:00, 19.18batch/s, accuracy=89.7, loss=0.315] \n",
      "Validation: : 100%|██████████| 157/157 [00:04<00:00, 37.69batch/s, val_acc=89.1, val_loss=0.409]\n"
     ]
    },
    {
     "name": "stdout",
     "output_type": "stream",
     "text": [
      "\n",
      "epoch: 60 training loss = 0.3153, training accuracy = 89.74%, val_loss = 0.4086, val_accuracy = 89.13% & LR = 0.0100\n",
      "\n"
     ]
    },
    {
     "name": "stderr",
     "output_type": "stream",
     "text": [
      "Training: : 100%|██████████| 782/782 [00:40<00:00, 19.14batch/s, accuracy=89.7, loss=0.316] \n",
      "Validation: : 100%|██████████| 157/157 [00:04<00:00, 37.59batch/s, val_acc=88.7, val_loss=0.404]\n"
     ]
    },
    {
     "name": "stdout",
     "output_type": "stream",
     "text": [
      "\n",
      "epoch: 61 training loss = 0.3160, training accuracy = 89.70%, val_loss = 0.4038, val_accuracy = 88.71% & LR = 0.0100\n",
      "\n"
     ]
    },
    {
     "name": "stderr",
     "output_type": "stream",
     "text": [
      "Training: : 100%|██████████| 782/782 [00:40<00:00, 19.13batch/s, accuracy=89.8, loss=0.31]   \n",
      "Validation: : 100%|██████████| 157/157 [00:04<00:00, 37.72batch/s, val_acc=88.9, val_loss=0.376]\n"
     ]
    },
    {
     "name": "stdout",
     "output_type": "stream",
     "text": [
      "\n",
      "epoch: 62 training loss = 0.3097, training accuracy = 89.79%, val_loss = 0.3756, val_accuracy = 88.91% & LR = 0.0100\n",
      "\n"
     ]
    },
    {
     "name": "stderr",
     "output_type": "stream",
     "text": [
      "Training: : 100%|██████████| 782/782 [00:40<00:00, 19.24batch/s, accuracy=89.9, loss=0.312] \n",
      "Validation: : 100%|██████████| 157/157 [00:04<00:00, 37.13batch/s, val_acc=89, val_loss=0.39]   \n"
     ]
    },
    {
     "name": "stdout",
     "output_type": "stream",
     "text": [
      "\n",
      "epoch: 63 training loss = 0.3118, training accuracy = 89.90%, val_loss = 0.3904, val_accuracy = 89.03% & LR = 0.0100\n",
      "\n"
     ]
    },
    {
     "name": "stderr",
     "output_type": "stream",
     "text": [
      "Training: : 100%|██████████| 782/782 [00:40<00:00, 19.27batch/s, accuracy=89.7, loss=0.316]  \n",
      "Validation: : 100%|██████████| 157/157 [00:04<00:00, 37.70batch/s, val_acc=88.9, val_loss=0.405]\n"
     ]
    },
    {
     "name": "stdout",
     "output_type": "stream",
     "text": [
      "\n",
      "epoch: 64 training loss = 0.3163, training accuracy = 89.67%, val_loss = 0.4047, val_accuracy = 88.95% & LR = 0.0100\n",
      "\n"
     ]
    },
    {
     "name": "stderr",
     "output_type": "stream",
     "text": [
      "Training: : 100%|██████████| 782/782 [00:40<00:00, 19.20batch/s, accuracy=89.9, loss=0.31]   \n",
      "Validation: : 100%|██████████| 157/157 [00:04<00:00, 37.64batch/s, val_acc=87, val_loss=0.434]  \n"
     ]
    },
    {
     "name": "stdout",
     "output_type": "stream",
     "text": [
      "\n",
      "epoch: 65 training loss = 0.3102, training accuracy = 89.93%, val_loss = 0.4335, val_accuracy = 87.02% & LR = 0.0100\n",
      "\n"
     ]
    },
    {
     "name": "stderr",
     "output_type": "stream",
     "text": [
      "Training: : 100%|██████████| 782/782 [00:40<00:00, 19.22batch/s, accuracy=89.9, loss=0.309]  \n",
      "Validation: : 100%|██████████| 157/157 [00:04<00:00, 37.76batch/s, val_acc=87.1, val_loss=0.412]\n"
     ]
    },
    {
     "name": "stdout",
     "output_type": "stream",
     "text": [
      "\n",
      "epoch: 66 training loss = 0.3091, training accuracy = 89.92%, val_loss = 0.4124, val_accuracy = 87.10% & LR = 0.0100\n",
      "\n"
     ]
    },
    {
     "name": "stderr",
     "output_type": "stream",
     "text": [
      "Training: : 100%|██████████| 782/782 [00:40<00:00, 19.30batch/s, accuracy=89.8, loss=0.313]  \n",
      "Validation: : 100%|██████████| 157/157 [00:04<00:00, 37.90batch/s, val_acc=87.7, val_loss=0.405]\n"
     ]
    },
    {
     "name": "stdout",
     "output_type": "stream",
     "text": [
      "\n",
      "epoch: 67 training loss = 0.3131, training accuracy = 89.80%, val_loss = 0.4051, val_accuracy = 87.67% & LR = 0.0100\n",
      "\n"
     ]
    },
    {
     "name": "stderr",
     "output_type": "stream",
     "text": [
      "Training: : 100%|██████████| 782/782 [00:40<00:00, 19.37batch/s, accuracy=90, loss=0.307]    \n",
      "Validation: : 100%|██████████| 157/157 [00:04<00:00, 38.08batch/s, val_acc=90.6, val_loss=0.358]\n"
     ]
    },
    {
     "name": "stdout",
     "output_type": "stream",
     "text": [
      "\n",
      "epoch: 68 training loss = 0.3066, training accuracy = 89.97%, val_loss = 0.3577, val_accuracy = 90.59% & LR = 0.0010\n",
      "\n",
      "Saving model with highest val_acc = 90.5900\n",
      "\n"
     ]
    },
    {
     "name": "stderr",
     "output_type": "stream",
     "text": [
      "Training: : 100%|██████████| 782/782 [00:40<00:00, 19.36batch/s, accuracy=92.7, loss=0.224]  \n",
      "Validation: : 100%|██████████| 157/157 [00:04<00:00, 38.07batch/s, val_acc=91.5, val_loss=0.299]\n"
     ]
    },
    {
     "name": "stdout",
     "output_type": "stream",
     "text": [
      "\n",
      "epoch: 69 training loss = 0.2238, training accuracy = 92.72%, val_loss = 0.2986, val_accuracy = 91.47% & LR = 0.0010\n",
      "\n",
      "Saving model with highest val_acc = 91.4700\n",
      "\n"
     ]
    },
    {
     "name": "stderr",
     "output_type": "stream",
     "text": [
      "Training: : 100%|██████████| 782/782 [00:40<00:00, 19.20batch/s, accuracy=93.4, loss=0.197]  \n",
      "Validation: : 100%|██████████| 157/157 [00:04<00:00, 37.59batch/s, val_acc=91.7, val_loss=0.28] \n"
     ]
    },
    {
     "name": "stdout",
     "output_type": "stream",
     "text": [
      "\n",
      "epoch: 70 training loss = 0.1973, training accuracy = 93.45%, val_loss = 0.2796, val_accuracy = 91.72% & LR = 0.0010\n",
      "\n",
      "Saving model with highest val_acc = 91.7200\n",
      "\n"
     ]
    },
    {
     "name": "stderr",
     "output_type": "stream",
     "text": [
      "Training: : 100%|██████████| 782/782 [00:40<00:00, 19.25batch/s, accuracy=93.9, loss=0.183]  \n",
      "Validation: : 100%|██████████| 157/157 [00:04<00:00, 37.13batch/s, val_acc=91.7, val_loss=0.271]\n"
     ]
    },
    {
     "name": "stdout",
     "output_type": "stream",
     "text": [
      "\n",
      "epoch: 71 training loss = 0.1831, training accuracy = 93.93%, val_loss = 0.2705, val_accuracy = 91.72% & LR = 0.0010\n",
      "\n"
     ]
    },
    {
     "name": "stderr",
     "output_type": "stream",
     "text": [
      "Training: : 100%|██████████| 782/782 [00:40<00:00, 19.24batch/s, accuracy=94.3, loss=0.175]  \n",
      "Validation: : 100%|██████████| 157/157 [00:04<00:00, 37.57batch/s, val_acc=91.8, val_loss=0.263]\n"
     ]
    },
    {
     "name": "stdout",
     "output_type": "stream",
     "text": [
      "\n",
      "epoch: 72 training loss = 0.1748, training accuracy = 94.26%, val_loss = 0.2631, val_accuracy = 91.81% & LR = 0.0010\n",
      "\n",
      "Saving model with highest val_acc = 91.8100\n",
      "\n"
     ]
    },
    {
     "name": "stderr",
     "output_type": "stream",
     "text": [
      "Training: : 100%|██████████| 782/782 [00:40<00:00, 19.17batch/s, accuracy=94.4, loss=0.17]   \n",
      "Validation: : 100%|██████████| 157/157 [00:04<00:00, 37.63batch/s, val_acc=91.9, val_loss=0.259]\n"
     ]
    },
    {
     "name": "stdout",
     "output_type": "stream",
     "text": [
      "\n",
      "epoch: 73 training loss = 0.1696, training accuracy = 94.43%, val_loss = 0.2585, val_accuracy = 91.87% & LR = 0.0010\n",
      "\n",
      "Saving model with highest val_acc = 91.8700\n",
      "\n"
     ]
    },
    {
     "name": "stderr",
     "output_type": "stream",
     "text": [
      "Training: : 100%|██████████| 782/782 [00:40<00:00, 19.23batch/s, accuracy=94.6, loss=0.164]  \n",
      "Validation: : 100%|██████████| 157/157 [00:04<00:00, 37.85batch/s, val_acc=92, val_loss=0.26]   \n"
     ]
    },
    {
     "name": "stdout",
     "output_type": "stream",
     "text": [
      "\n",
      "epoch: 74 training loss = 0.1640, training accuracy = 94.61%, val_loss = 0.2604, val_accuracy = 92.02% & LR = 0.0010\n",
      "\n",
      "Saving model with highest val_acc = 92.0200\n",
      "\n"
     ]
    },
    {
     "name": "stderr",
     "output_type": "stream",
     "text": [
      "Training: : 100%|██████████| 782/782 [00:40<00:00, 19.25batch/s, accuracy=94.7, loss=0.16]   \n",
      "Validation: : 100%|██████████| 157/157 [00:04<00:00, 37.85batch/s, val_acc=92, val_loss=0.251]  \n"
     ]
    },
    {
     "name": "stdout",
     "output_type": "stream",
     "text": [
      "\n",
      "epoch: 75 training loss = 0.1598, training accuracy = 94.72%, val_loss = 0.2509, val_accuracy = 92.02% & LR = 0.0010\n",
      "\n"
     ]
    },
    {
     "name": "stderr",
     "output_type": "stream",
     "text": [
      "Training: : 100%|██████████| 782/782 [00:40<00:00, 19.25batch/s, accuracy=94.8, loss=0.155]  \n",
      "Validation: : 100%|██████████| 157/157 [00:04<00:00, 37.89batch/s, val_acc=92.1, val_loss=0.251]\n"
     ]
    },
    {
     "name": "stdout",
     "output_type": "stream",
     "text": [
      "\n",
      "epoch: 76 training loss = 0.1547, training accuracy = 94.84%, val_loss = 0.2506, val_accuracy = 92.11% & LR = 0.0010\n",
      "\n",
      "Saving model with highest val_acc = 92.1100\n",
      "\n"
     ]
    },
    {
     "name": "stderr",
     "output_type": "stream",
     "text": [
      "Training: : 100%|██████████| 782/782 [00:40<00:00, 19.26batch/s, accuracy=95, loss=0.151]    \n",
      "Validation: : 100%|██████████| 157/157 [00:04<00:00, 37.80batch/s, val_acc=92.2, val_loss=0.246]\n"
     ]
    },
    {
     "name": "stdout",
     "output_type": "stream",
     "text": [
      "\n",
      "epoch: 77 training loss = 0.1511, training accuracy = 95.02%, val_loss = 0.2460, val_accuracy = 92.20% & LR = 0.0010\n",
      "\n",
      "Saving model with highest val_acc = 92.2000\n",
      "\n"
     ]
    },
    {
     "name": "stderr",
     "output_type": "stream",
     "text": [
      "Training: : 100%|██████████| 782/782 [00:40<00:00, 19.26batch/s, accuracy=95, loss=0.147]    \n",
      "Validation: : 100%|██████████| 157/157 [00:04<00:00, 37.80batch/s, val_acc=92.2, val_loss=0.25] \n"
     ]
    },
    {
     "name": "stdout",
     "output_type": "stream",
     "text": [
      "\n",
      "epoch: 78 training loss = 0.1469, training accuracy = 95.05%, val_loss = 0.2502, val_accuracy = 92.21% & LR = 0.0010\n",
      "\n",
      "Saving model with highest val_acc = 92.2100\n",
      "\n"
     ]
    },
    {
     "name": "stderr",
     "output_type": "stream",
     "text": [
      "Training: : 100%|██████████| 782/782 [00:40<00:00, 19.28batch/s, accuracy=95.2, loss=0.146]  \n",
      "Validation: : 100%|██████████| 157/157 [00:04<00:00, 37.20batch/s, val_acc=92.4, val_loss=0.244]\n"
     ]
    },
    {
     "name": "stdout",
     "output_type": "stream",
     "text": [
      "\n",
      "epoch: 79 training loss = 0.1456, training accuracy = 95.18%, val_loss = 0.2439, val_accuracy = 92.41% & LR = 0.0010\n",
      "\n",
      "Saving model with highest val_acc = 92.4100\n",
      "\n"
     ]
    },
    {
     "name": "stderr",
     "output_type": "stream",
     "text": [
      "Training: : 100%|██████████| 782/782 [00:40<00:00, 19.19batch/s, accuracy=95.4, loss=0.141]  \n",
      "Validation: : 100%|██████████| 157/157 [00:04<00:00, 37.94batch/s, val_acc=92.3, val_loss=0.241]\n"
     ]
    },
    {
     "name": "stdout",
     "output_type": "stream",
     "text": [
      "\n",
      "epoch: 80 training loss = 0.1409, training accuracy = 95.38%, val_loss = 0.2411, val_accuracy = 92.29% & LR = 0.0010\n",
      "\n"
     ]
    },
    {
     "name": "stderr",
     "output_type": "stream",
     "text": [
      "Training: : 100%|██████████| 782/782 [00:40<00:00, 19.17batch/s, accuracy=95.4, loss=0.139]  \n",
      "Validation: : 100%|██████████| 157/157 [00:04<00:00, 37.36batch/s, val_acc=92.3, val_loss=0.243]\n"
     ]
    },
    {
     "name": "stdout",
     "output_type": "stream",
     "text": [
      "\n",
      "epoch: 81 training loss = 0.1390, training accuracy = 95.38%, val_loss = 0.2433, val_accuracy = 92.34% & LR = 0.0010\n",
      "\n"
     ]
    },
    {
     "name": "stderr",
     "output_type": "stream",
     "text": [
      "Training: : 100%|██████████| 782/782 [00:40<00:00, 19.18batch/s, accuracy=95.5, loss=0.139]  \n",
      "Validation: : 100%|██████████| 157/157 [00:04<00:00, 37.51batch/s, val_acc=92.5, val_loss=0.239]\n"
     ]
    },
    {
     "name": "stdout",
     "output_type": "stream",
     "text": [
      "\n",
      "epoch: 82 training loss = 0.1385, training accuracy = 95.45%, val_loss = 0.2392, val_accuracy = 92.50% & LR = 0.0010\n",
      "\n",
      "Saving model with highest val_acc = 92.5000\n",
      "\n"
     ]
    },
    {
     "name": "stderr",
     "output_type": "stream",
     "text": [
      "Training: : 100%|██████████| 782/782 [00:40<00:00, 19.20batch/s, accuracy=95.5, loss=0.136]  \n",
      "Validation: : 100%|██████████| 157/157 [00:04<00:00, 38.61batch/s, val_acc=92.2, val_loss=0.242]\n"
     ]
    },
    {
     "name": "stdout",
     "output_type": "stream",
     "text": [
      "\n",
      "epoch: 83 training loss = 0.1356, training accuracy = 95.50%, val_loss = 0.2415, val_accuracy = 92.24% & LR = 0.0010\n",
      "\n"
     ]
    },
    {
     "name": "stderr",
     "output_type": "stream",
     "text": [
      "Training: : 100%|██████████| 782/782 [00:40<00:00, 19.44batch/s, accuracy=95.8, loss=0.13]   \n",
      "Validation: : 100%|██████████| 157/157 [00:04<00:00, 38.56batch/s, val_acc=92.2, val_loss=0.24] \n"
     ]
    },
    {
     "name": "stdout",
     "output_type": "stream",
     "text": [
      "\n",
      "epoch: 84 training loss = 0.1296, training accuracy = 95.81%, val_loss = 0.2404, val_accuracy = 92.19% & LR = 0.0010\n",
      "\n"
     ]
    },
    {
     "name": "stderr",
     "output_type": "stream",
     "text": [
      "Training: : 100%|██████████| 782/782 [00:40<00:00, 19.45batch/s, accuracy=95.7, loss=0.129]  \n",
      "Validation: : 100%|██████████| 157/157 [00:04<00:00, 38.34batch/s, val_acc=92.3, val_loss=0.238]"
     ]
    },
    {
     "name": "stdout",
     "output_type": "stream",
     "text": [
      "\n",
      "epoch: 85 training loss = 0.1288, training accuracy = 95.66%, val_loss = 0.2377, val_accuracy = 92.30% & LR = 0.0010\n",
      "\n"
     ]
    },
    {
     "name": "stderr",
     "output_type": "stream",
     "text": [
      "\n"
     ]
    }
   ],
   "source": [
    "for epoch in range(num_epochs):\n",
    "\n",
    "    # Train and validate model for 1 epoch-\n",
    "    train_loss, train_acc = train_model_progress(model, train_loader)\n",
    "    val_loss, val_acc = test_model_progress(model, test_loader)\n",
    "    \n",
    "    print(f\"\\nepoch: {epoch + 1} training loss = {train_loss:.4f}, \"\n",
    "          f\"training accuracy = {train_acc:.2f}%, val_loss = {val_loss:.4f}\"\n",
    "          f\", val_accuracy = {val_acc:.2f}% & \"\n",
    "          f\"LR = {optimizer.param_groups[0]['lr']:.4f}\\n\")\n",
    "    \n",
    "    training_history_lr_scheduler[epoch + 1] = {\n",
    "        'loss': train_loss, 'acc': train_acc,\n",
    "        'val_loss': val_loss, 'val_acc': val_acc,\n",
    "        'lr': optimizer.param_groups[0]['lr']\n",
    "    }\n",
    "\n",
    "    \n",
    "    # Save best weights achieved until now-\n",
    "    if (val_acc > best_val_acc):\n",
    "        # update 'best_val_loss' variable to lowest loss encountered so far-\n",
    "        best_val_acc = val_acc\n",
    "\n",
    "        print(f\"Saving model with highest val_acc = {val_acc:.4f}\\n\")\n",
    "        \n",
    "        # Save trained model with 'best' validation accuracy-\n",
    "        torch.save(model.state_dict(), \"VGG17_best_model.pth\")\n",
    "        "
   ]
  },
  {
   "cell_type": "code",
   "execution_count": null,
   "id": "a422806a-299e-4593-a18c-db8e990b61cb",
   "metadata": {},
   "outputs": [],
   "source": []
  },
  {
   "cell_type": "code",
   "execution_count": 43,
   "id": "a697b020-7235-4bd3-872e-6d9b64263d9c",
   "metadata": {},
   "outputs": [
    {
     "name": "stdout",
     "output_type": "stream",
     "text": [
      "Finished training VGG-17 CNN on CIFAR-10 dataset\n"
     ]
    }
   ],
   "source": [
    "print(f\"Finished training VGG-17 CNN on CIFAR-10 dataset\")"
   ]
  },
  {
   "cell_type": "code",
   "execution_count": 44,
   "id": "1668e29c-853d-4202-8dde-d362094adf21",
   "metadata": {},
   "outputs": [],
   "source": [
    "# Save model from last training epoch-\n",
    "torch.save(model.state_dict(), \"VGG17_last_epoch_model.pth\")"
   ]
  },
  {
   "cell_type": "code",
   "execution_count": null,
   "id": "1da4deb3-18d0-4739-be1d-a65b46e3ed40",
   "metadata": {},
   "outputs": [],
   "source": []
  },
  {
   "cell_type": "code",
   "execution_count": 45,
   "id": "97a35a6c-07b9-4462-b5ac-cbd47f1ffcd0",
   "metadata": {},
   "outputs": [],
   "source": [
    "# Save training metrics as Python3 history for later analysis-\n",
    "with open(\"VGG17_training_history_lr_scheduler.pkl\", \"wb\") as file:\n",
    "    pickle.dump(training_history_lr_scheduler, file)"
   ]
  },
  {
   "cell_type": "code",
   "execution_count": null,
   "id": "9a2cb04a-d3ae-4d13-933d-02431018fd38",
   "metadata": {},
   "outputs": [],
   "source": []
  },
  {
   "cell_type": "code",
   "execution_count": null,
   "id": "36e8977e-8997-4e86-a4b6-bc15eb77e806",
   "metadata": {},
   "outputs": [],
   "source": []
  },
  {
   "cell_type": "code",
   "execution_count": 46,
   "id": "94def7af-6a52-483f-a6a1-394b5556c6d8",
   "metadata": {},
   "outputs": [
    {
     "data": {
      "text/plain": [
       "<All keys matched successfully>"
      ]
     },
     "execution_count": 46,
     "metadata": {},
     "output_type": "execute_result"
    }
   ],
   "source": [
    "# Initialize and load 'best' trained parameters from above-\n",
    "best_model = VGG17()\n",
    "\n",
    "# Utilize all available GPUs-\n",
    "best_model = nn.DataParallel(best_model)\n",
    "best_model.to(device)\n",
    "best_model.load_state_dict(torch.load(\"VGG17_best_model.pth\"))"
   ]
  },
  {
   "cell_type": "code",
   "execution_count": 47,
   "id": "ab99240c-6415-4edd-82a2-704bf55b4d8d",
   "metadata": {},
   "outputs": [
    {
     "name": "stderr",
     "output_type": "stream",
     "text": [
      "Validation: : 100%|██████████| 157/157 [00:04<00:00, 37.55batch/s, val_acc=92.5, val_loss=0.239]\n"
     ]
    }
   ],
   "source": [
    "# Get validation loss and accuracy-\n",
    "val_loss, val_acc = test_model_progress(best_model, test_loader)"
   ]
  },
  {
   "cell_type": "code",
   "execution_count": 48,
   "id": "b34a2fe4-8c43-4420-8e2d-5fe8b5d4a1b2",
   "metadata": {},
   "outputs": [
    {
     "name": "stderr",
     "output_type": "stream",
     "text": [
      "Validation: : 100%|██████████| 157/157 [00:04<00:00, 37.97batch/s, val_acc=92.3, val_loss=0.238]\n"
     ]
    }
   ],
   "source": [
    "val_loss_last, val_acc_last = test_model_progress(model = model, test_loader = test_loader)"
   ]
  },
  {
   "cell_type": "code",
   "execution_count": 49,
   "id": "4b341ad5-a90a-451c-b62e-25643e01720a",
   "metadata": {},
   "outputs": [
    {
     "name": "stdout",
     "output_type": "stream",
     "text": [
      "VGG-17 'best' model metrics: val_loss = 0.2392 & val_acc = 92.50% \n",
      "last epoch metrics: val_loss = 0.2377 & val_acc = 92.30%\n"
     ]
    }
   ],
   "source": [
    "print(f\"VGG-17 'best' model metrics: val_loss = {val_loss:.4f} & val_acc = {val_acc:.2f}%\",\n",
    "      f\"\\nlast epoch metrics: val_loss = {val_loss_last:.4f} & val_acc = {val_acc_last:.2f}%\"\n",
    "     )"
   ]
  },
  {
   "cell_type": "code",
   "execution_count": 50,
   "id": "e07e5b1b-da30-4500-b087-5f8ba3d0e8bb",
   "metadata": {},
   "outputs": [],
   "source": [
    "del model, best_model"
   ]
  },
  {
   "cell_type": "code",
   "execution_count": null,
   "id": "a8e8520d-48fe-4c4f-a1fb-d55f79151592",
   "metadata": {},
   "outputs": [],
   "source": []
  },
  {
   "cell_type": "code",
   "execution_count": null,
   "id": "e8dba637-3314-4c8a-874c-13b559b43599",
   "metadata": {},
   "outputs": [],
   "source": []
  },
  {
   "cell_type": "markdown",
   "id": "e0b5bcca-76be-46cf-b1d3-5cfee4c26f9c",
   "metadata": {},
   "source": [
    "### VGG-17 training visualizations"
   ]
  },
  {
   "cell_type": "code",
   "execution_count": 51,
   "id": "ea93f2d2-dd9e-4c10-85c9-5507dffa67f5",
   "metadata": {},
   "outputs": [
    {
     "data": {
      "image/png": "[encoded data removed]",
      "text/plain": [
       "<Figure size 648x504 with 1 Axes>"
      ]
     },
     "metadata": {
      "needs_background": "light"
     },
     "output_type": "display_data"
    }
   ],
   "source": [
    "plt.figure(figsize = (9, 7))\n",
    "plt.plot(list(training_history_lr_scheduler.keys()), [training_history_lr_scheduler[k]['acc'] for k in training_history_lr_scheduler.keys()], label = 'training acc')\n",
    "plt.plot(list(training_history_lr_scheduler.keys()), [training_history_lr_scheduler[k]['val_acc'] for k in training_history_lr_scheduler.keys()], label = 'val acc')\n",
    "plt.title(\"VGG-17: Training Accuracy\")\n",
    "plt.xlabel(\"epochs\")\n",
    "plt.ylabel(\"accuracy (%)\")\n",
    "plt.legend(loc = 'best')\n",
    "plt.show()"
   ]
  },
  {
   "cell_type": "code",
   "execution_count": 52,
   "id": "8322f248-84fa-4b49-a357-9162fbd3fb59",
   "metadata": {},
   "outputs": [
    {
     "data": {
      "image/png": "[encoded data removed]",
      "text/plain": [
       "<Figure size 648x504 with 1 Axes>"
      ]
     },
     "metadata": {
      "needs_background": "light"
     },
     "output_type": "display_data"
    }
   ],
   "source": [
    "plt.figure(figsize = (9, 7))\n",
    "plt.plot(list(training_history_lr_scheduler.keys()), [training_history_lr_scheduler[k]['loss'] for k in training_history_lr_scheduler.keys()], label = 'training loss')\n",
    "plt.plot(list(training_history_lr_scheduler.keys()), [training_history_lr_scheduler[k]['val_loss'] for k in training_history_lr_scheduler.keys()], label = 'val loss')\n",
    "plt.xlabel(\"epochs\")\n",
    "plt.ylabel(\"loss\")\n",
    "plt.legend(loc = 'best')\n",
    "plt.title(\"VGG-17: Training Loss\")\n",
    "plt.show()"
   ]
  },
  {
   "cell_type": "code",
   "execution_count": 53,
   "id": "b60c12f3-056b-4acf-9bf4-708a03696d93",
   "metadata": {},
   "outputs": [
    {
     "data": {
      "image/png": "[encoded data removed]",
      "text/plain": [
       "<Figure size 648x504 with 1 Axes>"
      ]
     },
     "metadata": {
      "needs_background": "light"
     },
     "output_type": "display_data"
    }
   ],
   "source": [
    "plt.figure(figsize = (9, 7))\n",
    "plt.plot(list(training_history_lr_scheduler.keys()), [training_history_lr_scheduler[k]['lr'] for k in training_history_lr_scheduler.keys()])\n",
    "plt.xlabel(\"epochs\")\n",
    "plt.ylabel(\"lr\")\n",
    "plt.title(\"VGG-18: Learning-Rate\")\n",
    "plt.show()"
   ]
  },
  {
   "cell_type": "code",
   "execution_count": null,
   "id": "75d2ee10-bb91-4d33-adba-df782b07d923",
   "metadata": {},
   "outputs": [],
   "source": []
  },
  {
   "cell_type": "code",
   "execution_count": null,
   "id": "a93d12f1-eb47-466e-b1e2-4cfe89ca3408",
   "metadata": {},
   "outputs": [],
   "source": []
  }
 ],
 "metadata": {
  "kernelspec": {
   "display_name": "Python 3 (ipykernel)",
   "language": "python",
   "name": "python3"
  },
  "language_info": {
   "codemirror_mode": {
    "name": "ipython",
    "version": 3
   },
   "file_extension": ".py",
   "mimetype": "text/x-python",
   "name": "python",
   "nbconvert_exporter": "python",
   "pygments_lexer": "ipython3",
   "version": "3.9.12"
  }
 },
 "nbformat": 4,
 "nbformat_minor": 5
}
