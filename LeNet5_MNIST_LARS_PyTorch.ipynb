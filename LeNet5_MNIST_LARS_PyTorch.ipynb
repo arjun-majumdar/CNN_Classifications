{
 "cells": [
  {
   "cell_type": "markdown",
   "id": "718df939-4e9e-4ea6-b593-dbdde154d5c6",
   "metadata": {},
   "source": [
    "# LeNet-5 CNN & _LARS_ optimizer: MNIST & PyTorch\n",
    "\n",
    "\n",
    "LARS optimizer was introduced by Yang You et al. in [Large Batch Training of Convolutional Networks](https://arxiv.org/abs/1708.03888)\n",
    "\n",
    "Layer-wise Adaptive Rate Scaling, or LARS, is a large batch optimization technique. There are two notable differences between LARS and other adaptive algorithms such as Adam or RMSProp:\n",
    "1. first, LARS uses a separate learning rate for each layer and not for each weight.\n",
    "2. And second, the magnitude of the update is controlled with respect to the weight norm for better control of training speed.\n",
    "\n",
    "\n",
    "\n",
    "- [apex LARS optimizer](https://github.com/NVIDIA/apex/blob/master/apex/parallel/LARC.py)\n",
    "- [SwAV official GitHub repo](https://github.com/facebookresearch/swav/blob/main/main_swav.py)\n",
    "- [LARS explained](https://paperswithcode.com/method/lars)"
   ]
  },
  {
   "cell_type": "code",
   "execution_count": 1,
   "id": "617ce6f4-d442-4e23-b7f7-ca87839fd697",
   "metadata": {},
   "outputs": [],
   "source": [
    "import torch\n",
    "import torch.nn as nn\n",
    "import torch.nn.functional as F\n",
    "import torchvision\n",
    "import torchvision.transforms as transforms\n",
    "from LARC import LARC\n",
    "\n",
    "from tqdm import tqdm\n",
    "from tqdm import trange\n",
    "import matplotlib.pyplot as plt\n",
    "import pickle\n",
    "import numpy as np\n",
    "import matplotlib.pyplot as plt\n",
    "import seaborn as sns"
   ]
  },
  {
   "cell_type": "code",
   "execution_count": null,
   "id": "3bce6cce-206d-48b8-8a09-c458daf7b3f9",
   "metadata": {},
   "outputs": [],
   "source": []
  },
  {
   "cell_type": "code",
   "execution_count": null,
   "id": "6d487520-cea0-42d9-a283-61d8cda39675",
   "metadata": {},
   "outputs": [],
   "source": []
  },
  {
   "cell_type": "code",
   "execution_count": 2,
   "id": "2d5a8c84-bd03-4120-a8c6-bf56a83cce6a",
   "metadata": {},
   "outputs": [
    {
     "name": "stdout",
     "output_type": "stream",
     "text": [
      "torch version: 2.1.1+cpu\n",
      "Number of GPU(s) available = 0\n",
      "PyTorch does not have access to GPU\n",
      "Available device is cpu\n"
     ]
    }
   ],
   "source": [
    "print(f\"torch version: {torch.__version__}\")\n",
    "\n",
    "# Check if there are multiple devices (i.e., GPU cards)-\n",
    "print(f\"Number of GPU(s) available = {torch.cuda.device_count()}\")\n",
    "\n",
    "if torch.cuda.is_available():\n",
    "    print(f\"Current GPU: {torch.cuda.current_device()}\")\n",
    "    print(f\"Current GPU name: {torch.cuda.get_device_name(torch.cuda.current_device())}\")\n",
    "else:\n",
    "    print(\"PyTorch does not have access to GPU\")\n",
    "\n",
    "# Device configuration-\n",
    "device = torch.device('cuda' if torch.cuda.is_available() else 'cpu')\n",
    "print(f'Available device is {device}')"
   ]
  },
  {
   "cell_type": "code",
   "execution_count": null,
   "id": "233b7a31-c604-46f8-9c28-dff2f5a57883",
   "metadata": {},
   "outputs": [],
   "source": []
  },
  {
   "cell_type": "code",
   "execution_count": null,
   "id": "fae00c43-c539-4c3c-8b34-d19b1e7b541f",
   "metadata": {},
   "outputs": [],
   "source": []
  },
  {
   "cell_type": "code",
   "execution_count": 3,
   "id": "c17e54db-04d1-438e-8aa4-88b6b8c93578",
   "metadata": {},
   "outputs": [],
   "source": [
    "# Hyper-parameters-\n",
    "num_epochs = 50\n",
    "batch_size = 256\n",
    "learning_rate = 0.001"
   ]
  },
  {
   "cell_type": "code",
   "execution_count": null,
   "id": "60c2ad87-a4df-4151-85ee-284da537badf",
   "metadata": {},
   "outputs": [],
   "source": []
  },
  {
   "cell_type": "code",
   "execution_count": null,
   "id": "af56c142-48d4-4e82-a59e-17d70e9ba04d",
   "metadata": {},
   "outputs": [],
   "source": []
  },
  {
   "cell_type": "code",
   "execution_count": 4,
   "id": "f751311e-d8a5-46b1-a04f-04615b1a088b",
   "metadata": {},
   "outputs": [],
   "source": [
    "# Define transformations for MNIST dataset-\n",
    "# MNIST dataset statistics-\n",
    "mean = np.array([0.1307])\n",
    "std_dev = np.array([0.3081])\n",
    "\n",
    "transforms_apply = transforms.Compose(\n",
    "    [\n",
    "        transforms.ToTensor(),\n",
    "        transforms.Normalize(mean = mean, std = std_dev)\n",
    "    ]\n",
    ")"
   ]
  },
  {
   "cell_type": "code",
   "execution_count": 5,
   "id": "73088cc6-71de-45e5-a629-bdf91607e95e",
   "metadata": {},
   "outputs": [],
   "source": [
    "# Load MNIST dataset-\n",
    "train_dataset = torchvision.datasets.MNIST(\n",
    "    root = '/home/amajumdar/Downloads/.data/', train = True,\n",
    "    transform = transforms_apply, download = True\n",
    ")\n",
    "\n",
    "test_dataset = torchvision.datasets.MNIST(\n",
    "    root = \"/home/amajumdar/Downloads/.data/\", train = False,\n",
    "    transform = transforms_apply\n",
    ")"
   ]
  },
  {
   "cell_type": "code",
   "execution_count": 6,
   "id": "b25906b4-c3d2-44e0-b442-0682e9754513",
   "metadata": {},
   "outputs": [
    {
     "data": {
      "text/plain": [
       "(60000, 60000)"
      ]
     },
     "execution_count": 6,
     "metadata": {},
     "output_type": "execute_result"
    }
   ],
   "source": [
    "len(train_dataset.targets), len(train_dataset.data)"
   ]
  },
  {
   "cell_type": "code",
   "execution_count": 7,
   "id": "edcad2f2-c41c-4573-aa85-a19500297b79",
   "metadata": {},
   "outputs": [
    {
     "data": {
      "text/plain": [
       "(10000, 10000)"
      ]
     },
     "execution_count": 7,
     "metadata": {},
     "output_type": "execute_result"
    }
   ],
   "source": [
    "len(test_dataset.targets), len(test_dataset.data)"
   ]
  },
  {
   "cell_type": "code",
   "execution_count": 8,
   "id": "4c46f4c8-9f95-4554-bf06-772584f20cda",
   "metadata": {},
   "outputs": [
    {
     "name": "stdout",
     "output_type": "stream",
     "text": [
      "training dataset length/shape: [60000, 28, 28]\n"
     ]
    }
   ],
   "source": [
    "print(f\"training dataset length/shape: {list(train_dataset.data.size())}\")"
   ]
  },
  {
   "cell_type": "code",
   "execution_count": 9,
   "id": "d1dcd603-1621-402a-bcad-e84e1fa8f621",
   "metadata": {},
   "outputs": [
    {
     "name": "stdout",
     "output_type": "stream",
     "text": [
      "mean = 0.1307 &std dev = 0.3081\n"
     ]
    }
   ],
   "source": [
    "print(f\"mean = {train_dataset.data.float().mean() / 255:.4f} &\"\n",
    "      f\"std dev = {train_dataset.data.float().std() / 255:.4f}\"\n",
    "     )"
   ]
  },
  {
   "cell_type": "code",
   "execution_count": null,
   "id": "4ad40fae-0edd-4507-ab77-3d95a7a8ee79",
   "metadata": {},
   "outputs": [],
   "source": []
  },
  {
   "cell_type": "code",
   "execution_count": 10,
   "id": "ed37e26a-1ec3-4bd7-8661-64e7e2500a65",
   "metadata": {},
   "outputs": [],
   "source": [
    "# Create training and testing dataloaders-\n",
    "train_loader = torch.utils.data.DataLoader(\n",
    "    dataset = train_dataset, batch_size = batch_size,\n",
    "    shuffle = True\n",
    ")\n",
    "\n",
    "test_loader = torch.utils.data.DataLoader(\n",
    "    dataset = test_dataset, batch_size = batch_size,\n",
    "    shuffle = False\n",
    ")"
   ]
  },
  {
   "cell_type": "code",
   "execution_count": null,
   "id": "77fc6dc6-a236-495b-a305-5ebccdc66767",
   "metadata": {},
   "outputs": [],
   "source": []
  },
  {
   "cell_type": "code",
   "execution_count": 13,
   "id": "451afc55-963d-4be8-86a9-5ff7b93009a3",
   "metadata": {},
   "outputs": [
    {
     "name": "stdout",
     "output_type": "stream",
     "text": [
      "images.shape: torch.Size([256, 1, 28, 28])\n"
     ]
    }
   ],
   "source": [
    "# Get some random batch of training images & labels-\n",
    "images, labels = next(iter(train_loader))\n",
    "print(f\"images.shape: {images.shape}\")\n",
    "\n",
    "# De-normalize the batch of images-\n",
    "images *= 255.0"
   ]
  },
  {
   "cell_type": "code",
   "execution_count": 14,
   "id": "0aaaa0f7-ef6b-4cbb-91b7-2525a9587972",
   "metadata": {},
   "outputs": [
    {
     "data": {
      "image/png": "[encoded data removed]",
      "text/plain": [
       "<Figure size 700x600 with 20 Axes>"
      ]
     },
     "metadata": {},
     "output_type": "display_data"
    }
   ],
   "source": [
    "# Visualize 20 images from training set-\n",
    "plt.figure(figsize = (7, 6))\n",
    "for i in range(20):\n",
    "    # 4 rows & 5 columns-\n",
    "    plt.subplot(4, 5, i + 1)\n",
    "    # plt.imshow(images[i], cmap = 'gray')\n",
    "    # 0 to access first channel-\n",
    "    plt.imshow(images[i][0], cmap = 'gray')\n",
    "    \n",
    "plt.suptitle(\"Sample MNIST training images\")\n",
    "plt.show()"
   ]
  },
  {
   "cell_type": "code",
   "execution_count": 15,
   "id": "7ed9b2a9-0306-47fd-91fc-c0a13762c19c",
   "metadata": {},
   "outputs": [],
   "source": [
    "del images, labels"
   ]
  },
  {
   "cell_type": "code",
   "execution_count": null,
   "id": "47eaf4da-49d5-4a0d-a750-872d37de86aa",
   "metadata": {},
   "outputs": [],
   "source": []
  },
  {
   "cell_type": "code",
   "execution_count": null,
   "id": "b3aa740c-6877-4696-82cb-9633b77240db",
   "metadata": {},
   "outputs": [],
   "source": []
  },
  {
   "cell_type": "code",
   "execution_count": 11,
   "id": "a70175c0-0ce0-4ca9-b937-6324da728468",
   "metadata": {},
   "outputs": [],
   "source": [
    "class LeNet_CNN(nn.Module):\n",
    "    def __init__(self):\n",
    "        super(LeNet_CNN, self).__init__()\n",
    "        \n",
    "        self.conv1 = nn.Conv2d(\n",
    "            in_channels = 1, out_channels = 6,\n",
    "            kernel_size = 3, stride = 2,\n",
    "            padding = 1, bias = True\n",
    "        )\n",
    "        self.conv2 = nn.Conv2d(\n",
    "            in_channels = 6, out_channels = 16,\n",
    "            kernel_size = 5, stride = 1,\n",
    "            padding = 0, bias = True\n",
    "        )\n",
    "        self.conv3 = nn.Conv2d(\n",
    "            in_channels = 16, out_channels = 16,\n",
    "            kernel_size = 5, stride = 1,\n",
    "            padding = 0, bias = True\n",
    "        )\n",
    "        self.conv4 = nn.Conv2d(\n",
    "            in_channels = 16, out_channels = 16,\n",
    "            kernel_size = 5, stride = 1,\n",
    "            padding = 0, bias = True\n",
    "        )\n",
    "        self.dense = nn.Linear(\n",
    "            in_features = 64, out_features = 10,\n",
    "            bias = True\n",
    "        )\n",
    "        self.initialize_weights()\n",
    "        \n",
    "    \n",
    "    def initialize_weights(self):\n",
    "        for m in self.modules():\n",
    "            # print(m)\n",
    "            if isinstance(m, nn.Conv2d):\n",
    "                nn.init.kaiming_normal_(m.weight)\n",
    "                \n",
    "                # Do not initialize bias (due to batchnorm)-\n",
    "                if m.bias is not None:\n",
    "                    nn.init.constant_(m.bias, 0)\n",
    "                \n",
    "            elif isinstance(m, nn.BatchNorm2d):\n",
    "                # Standard initialization for batch normalization-\n",
    "                nn.init.constant_(m.weight, 1)\n",
    "                nn.init.constant_(m.bias, 0)\n",
    "\n",
    "            elif isinstance(m, nn.Linear):\n",
    "                nn.init.kaiming_normal_(m.weight)\n",
    "                nn.init.constant_(m.bias, 0)\n",
    "        \n",
    "    \n",
    "    def forward(self, x):\n",
    "        x = F.leaky_relu(self.conv1(x))\n",
    "        x = F.leaky_relu(self.conv2(x))\n",
    "        x = F.leaky_relu(self.conv3(x))\n",
    "        x = F.leaky_relu(self.conv4(x))\n",
    "        # print(f\"before flatten, x.shape: {x.shape}\")\n",
    "        x = torch.flatten(x, start_dim = 1)\n",
    "        x = self.dense(x)\n",
    "        return x\n",
    "        "
   ]
  },
  {
   "cell_type": "code",
   "execution_count": null,
   "id": "8641c2b1-0378-4266-8db0-d8fb7a286c44",
   "metadata": {},
   "outputs": [],
   "source": []
  },
  {
   "cell_type": "code",
   "execution_count": 12,
   "id": "f132775a-ab6c-4d72-9189-5df6f10d1a18",
   "metadata": {},
   "outputs": [],
   "source": [
    "# Initialize LeNet-5 CNN architecture-\n",
    "model = LeNet_CNN().to(device)"
   ]
  },
  {
   "cell_type": "code",
   "execution_count": null,
   "id": "28a102ec-8eb6-4266-9444-6a9d4347ebc9",
   "metadata": {},
   "outputs": [],
   "source": []
  },
  {
   "cell_type": "code",
   "execution_count": 13,
   "id": "15bd5001-b670-48ea-bbae-87e40b394940",
   "metadata": {},
   "outputs": [],
   "source": [
    "# Define loss function and optimizer-\n",
    "loss_fn = nn.CrossEntropyLoss()"
   ]
  },
  {
   "cell_type": "code",
   "execution_count": 14,
   "id": "4e694cc3-17dd-4a01-a18a-db06174c3a73",
   "metadata": {},
   "outputs": [],
   "source": [
    "# build optimizer\n",
    "optimizer = torch.optim.SGD(\n",
    "    params = model.parameters(),\n",
    "    lr = 0.01, momentum = 0.9,\n",
    "    weight_decay = 5e-4,\n",
    ")\n",
    "\n",
    "optimizer = LARC(\n",
    "    optimizer = optimizer, trust_coefficient = 0.001,\n",
    "    clip = False\n",
    ")"
   ]
  },
  {
   "cell_type": "code",
   "execution_count": null,
   "id": "f3fa9165-a3d9-4250-9b23-d24171eeb60f",
   "metadata": {},
   "outputs": [],
   "source": []
  },
  {
   "cell_type": "code",
   "execution_count": null,
   "id": "9b63b5ad-46e9-44a8-973b-f1fd83a293dd",
   "metadata": {},
   "outputs": [],
   "source": []
  },
  {
   "cell_type": "code",
   "execution_count": 15,
   "id": "6af38156-c6a6-46f2-8d54-87bcb9917eaf",
   "metadata": {},
   "outputs": [],
   "source": [
    "def train_model_progress(model, train_loader, train_dataset):\n",
    "    '''\n",
    "    Function to perform one epoch of training by using 'train_loader'.\n",
    "    Returns loss and number of correct predictions for this epoch.\n",
    "    '''\n",
    "    running_loss = 0.0\n",
    "    running_corrects = 0.0\n",
    "    \n",
    "    model.train()\n",
    "    \n",
    "    with tqdm(train_loader, unit = 'batch') as tepoch:\n",
    "        for images, labels in tepoch:\n",
    "            tepoch.set_description(f\"Training: \")\n",
    "            \n",
    "            images = images.to(device)\n",
    "            labels = labels.to(device)\n",
    "            \n",
    "            # Get model predictions-\n",
    "            outputs = model(images)\n",
    "            \n",
    "            # Compute loss-\n",
    "            J = loss_fn(outputs, labels)\n",
    "            \n",
    "            # Empty accumulated gradients-\n",
    "            optimizer.zero_grad()\n",
    "            \n",
    "            # Perform backprop-\n",
    "            J.backward()\n",
    "            \n",
    "            # Update parameters-\n",
    "            optimizer.step()\n",
    "            \n",
    "            # global step\n",
    "            # optimizer.param_groups[0]['lr'] = custom_lr_scheduler.get_lr(step)\n",
    "            # step += 1\n",
    "            \n",
    "            # Compute model's performance statistics-\n",
    "            running_loss += J.item() * images.size(0)\n",
    "            _, predicted = torch.max(outputs, 1)\n",
    "            running_corrects += torch.sum(predicted == labels.data)\n",
    "            \n",
    "            tepoch.set_postfix(\n",
    "                loss = running_loss / len(train_dataset),\n",
    "                accuracy = (running_corrects.double().cpu().numpy() / len(train_dataset)) * 100\n",
    "            )\n",
    "    \n",
    "    train_loss = running_loss / len(train_dataset)\n",
    "    train_acc = (running_corrects.double() / len(train_dataset)) * 100\n",
    "    \n",
    "\n",
    "    # return running_loss, running_corrects\n",
    "    return train_loss, train_acc.cpu().numpy()\n"
   ]
  },
  {
   "cell_type": "code",
   "execution_count": 16,
   "id": "b834c734-ebfe-4d47-afb8-53f9372a0be0",
   "metadata": {},
   "outputs": [],
   "source": [
    "def test_model_progress(model, test_loader, test_dataset):\n",
    "    total = 0.0\n",
    "    correct = 0.0\n",
    "    running_loss_val = 0.0\n",
    "\n",
    "    with torch.no_grad():\n",
    "        with tqdm(test_loader, unit = 'batch') as tepoch:\n",
    "            for images, labels in tepoch:\n",
    "                tepoch.set_description(f\"Validation: \")\n",
    "                \n",
    "                images = images.to(device)\n",
    "                labels = labels.to(device)\n",
    "                \n",
    "                # Set model to evaluation mode-\n",
    "                model.eval()\n",
    "            \n",
    "                # Predict using trained model-\n",
    "                outputs = model(images)\n",
    "                _, y_pred = torch.max(outputs, 1)\n",
    "                \n",
    "                # Compute validation loss-\n",
    "                J_val = loss_fn(outputs, labels)\n",
    "                \n",
    "                running_loss_val += J_val.item() * labels.size(0)\n",
    "    \n",
    "                # Total number of labels-\n",
    "                total += labels.size(0)\n",
    "\n",
    "                # Total number of correct predictions-\n",
    "                correct += (y_pred == labels).sum()\n",
    "                \n",
    "                tepoch.set_postfix(\n",
    "                    val_loss = running_loss_val / len(test_dataset),\n",
    "                    val_acc = 100 * (correct.cpu().numpy() / total)\n",
    "                )\n",
    "            \n",
    "        \n",
    "    # return (running_loss_val, correct, total)\n",
    "    val_loss = running_loss_val / len(test_dataset)\n",
    "    val_acc = (correct / total) * 100\n",
    "\n",
    "    return val_loss, val_acc.cpu().numpy()\n"
   ]
  },
  {
   "cell_type": "code",
   "execution_count": null,
   "id": "6a095de8-25ab-44ea-ae2a-e286ef8492ef",
   "metadata": {},
   "outputs": [],
   "source": []
  },
  {
   "cell_type": "code",
   "execution_count": null,
   "id": "14409ed2-2ca3-428e-875b-837671bfea71",
   "metadata": {},
   "outputs": [],
   "source": []
  },
  {
   "cell_type": "code",
   "execution_count": 17,
   "id": "83752618-315a-4875-b199-c9a6f733145d",
   "metadata": {},
   "outputs": [],
   "source": [
    "# Python3 dict to contain training metrics-\n",
    "training_history = {}\n",
    "\n",
    "# Initialize parameters saving 'best' models-\n",
    "best_val_acc = 0"
   ]
  },
  {
   "cell_type": "code",
   "execution_count": 18,
   "id": "a9444d29-f6a3-4f50-8cb1-918bf2b6620e",
   "metadata": {},
   "outputs": [
    {
     "name": "stderr",
     "output_type": "stream",
     "text": [
      "Training: : 100%|████████████████████████████████████████████████████████████████████████████| 235/235 [00:08<00:00, 26.68batch/s, accuracy=17.1, loss=2.33]\n",
      "Validation: : 100%|█████████████████████████████████████████████████████████████████████████| 40/40 [00:01<00:00, 33.06batch/s, val_acc=24.6, val_loss=2.13]\n"
     ]
    },
    {
     "name": "stdout",
     "output_type": "stream",
     "text": [
      "\n",
      "epoch: 1 training loss = 2.3340, training accuracy = 17.11%, val_loss = 2.1285, val_accuracy = 24.63%\n",
      "\n",
      "Saving model with highest val_acc = 24.6300%\n",
      "\n"
     ]
    },
    {
     "name": "stderr",
     "output_type": "stream",
     "text": [
      "Training: : 100%|███████████████████████████████████████████████████████████████████████████████| 235/235 [00:09<00:00, 26.09batch/s, accuracy=30.7, loss=2]\n",
      "Validation: : 100%|█████████████████████████████████████████████████████████████████████████| 40/40 [00:01<00:00, 34.68batch/s, val_acc=36.8, val_loss=1.86]\n"
     ]
    },
    {
     "name": "stdout",
     "output_type": "stream",
     "text": [
      "\n",
      "epoch: 2 training loss = 2.0023, training accuracy = 30.70%, val_loss = 1.8628, val_accuracy = 36.81%\n",
      "\n",
      "Saving model with highest val_acc = 36.8100%\n",
      "\n"
     ]
    },
    {
     "name": "stderr",
     "output_type": "stream",
     "text": [
      "Training: : 100%|████████████████████████████████████████████████████████████████████████████| 235/235 [00:08<00:00, 26.61batch/s, accuracy=41.7, loss=1.73]\n",
      "Validation: : 100%|█████████████████████████████████████████████████████████████████████████| 40/40 [00:01<00:00, 34.36batch/s, val_acc=47.9, val_loss=1.57]\n"
     ]
    },
    {
     "name": "stdout",
     "output_type": "stream",
     "text": [
      "\n",
      "epoch: 3 training loss = 1.7269, training accuracy = 41.66%, val_loss = 1.5685, val_accuracy = 47.94%\n",
      "\n",
      "Saving model with highest val_acc = 47.9400%\n",
      "\n"
     ]
    },
    {
     "name": "stderr",
     "output_type": "stream",
     "text": [
      "Training: : 100%|████████████████████████████████████████████████████████████████████████████| 235/235 [00:08<00:00, 27.52batch/s, accuracy=53.3, loss=1.43]\n",
      "Validation: : 100%|█████████████████████████████████████████████████████████████████████████| 40/40 [00:01<00:00, 33.99batch/s, val_acc=58.3, val_loss=1.28]\n"
     ]
    },
    {
     "name": "stdout",
     "output_type": "stream",
     "text": [
      "\n",
      "epoch: 4 training loss = 1.4321, training accuracy = 53.26%, val_loss = 1.2767, val_accuracy = 58.27%\n",
      "\n",
      "Saving model with highest val_acc = 58.2700%\n",
      "\n"
     ]
    },
    {
     "name": "stderr",
     "output_type": "stream",
     "text": [
      "Training: : 100%|████████████████████████████████████████████████████████████████████████████| 235/235 [00:08<00:00, 27.52batch/s, accuracy=62.9, loss=1.17]\n",
      "Validation: : 100%|█████████████████████████████████████████████████████████████████████████| 40/40 [00:01<00:00, 34.79batch/s, val_acc=66.6, val_loss=1.04]\n"
     ]
    },
    {
     "name": "stdout",
     "output_type": "stream",
     "text": [
      "\n",
      "epoch: 5 training loss = 1.1674, training accuracy = 62.93%, val_loss = 1.0418, val_accuracy = 66.56%\n",
      "\n",
      "Saving model with highest val_acc = 66.5600%\n",
      "\n"
     ]
    },
    {
     "name": "stderr",
     "output_type": "stream",
     "text": [
      "Training: : 100%|███████████████████████████████████████████████████████████████████████████| 235/235 [00:08<00:00, 27.42batch/s, accuracy=69.2, loss=0.972]\n",
      "Validation: : 100%|████████████████████████████████████████████████████████████████████████| 40/40 [00:01<00:00, 35.32batch/s, val_acc=72.1, val_loss=0.881]\n"
     ]
    },
    {
     "name": "stdout",
     "output_type": "stream",
     "text": [
      "\n",
      "epoch: 6 training loss = 0.9723, training accuracy = 69.16%, val_loss = 0.8809, val_accuracy = 72.14%\n",
      "\n",
      "Saving model with highest val_acc = 72.1400%\n",
      "\n"
     ]
    },
    {
     "name": "stderr",
     "output_type": "stream",
     "text": [
      "Training: : 100%|███████████████████████████████████████████████████████████████████████████| 235/235 [00:08<00:00, 27.03batch/s, accuracy=73.5, loss=0.842]\n",
      "Validation: : 100%|████████████████████████████████████████████████████████████████████████| 40/40 [00:01<00:00, 36.05batch/s, val_acc=76.1, val_loss=0.771]\n"
     ]
    },
    {
     "name": "stdout",
     "output_type": "stream",
     "text": [
      "\n",
      "epoch: 7 training loss = 0.8424, training accuracy = 73.47%, val_loss = 0.7708, val_accuracy = 76.13%\n",
      "\n",
      "Saving model with highest val_acc = 76.1300%\n",
      "\n"
     ]
    },
    {
     "name": "stderr",
     "output_type": "stream",
     "text": [
      "Training: : 100%|███████████████████████████████████████████████████████████████████████████| 235/235 [00:08<00:00, 27.06batch/s, accuracy=76.5, loss=0.751]\n",
      "Validation: : 100%|████████████████████████████████████████████████████████████████████████| 40/40 [00:01<00:00, 35.14batch/s, val_acc=78.8, val_loss=0.691]\n"
     ]
    },
    {
     "name": "stdout",
     "output_type": "stream",
     "text": [
      "\n",
      "epoch: 8 training loss = 0.7508, training accuracy = 76.53%, val_loss = 0.6907, val_accuracy = 78.79%\n",
      "\n",
      "Saving model with highest val_acc = 78.7900%\n",
      "\n"
     ]
    },
    {
     "name": "stderr",
     "output_type": "stream",
     "text": [
      "Training: : 100%|███████████████████████████████████████████████████████████████████████████| 235/235 [00:08<00:00, 27.29batch/s, accuracy=78.8, loss=0.683]\n",
      "Validation: : 100%|█████████████████████████████████████████████████████████████████████████| 40/40 [00:01<00:00, 34.23batch/s, val_acc=80.7, val_loss=0.63]\n"
     ]
    },
    {
     "name": "stdout",
     "output_type": "stream",
     "text": [
      "\n",
      "epoch: 9 training loss = 0.6826, training accuracy = 78.84%, val_loss = 0.6300, val_accuracy = 80.66%\n",
      "\n",
      "Saving model with highest val_acc = 80.6600%\n",
      "\n"
     ]
    },
    {
     "name": "stderr",
     "output_type": "stream",
     "text": [
      "Training: : 100%|███████████████████████████████████████████████████████████████████████████| 235/235 [00:08<00:00, 26.88batch/s, accuracy=80.6, loss=0.629]\n",
      "Validation: : 100%|████████████████████████████████████████████████████████████████████████| 40/40 [00:01<00:00, 34.74batch/s, val_acc=82.2, val_loss=0.584]\n"
     ]
    },
    {
     "name": "stdout",
     "output_type": "stream",
     "text": [
      "\n",
      "epoch: 10 training loss = 0.6292, training accuracy = 80.63%, val_loss = 0.5837, val_accuracy = 82.15%\n",
      "\n",
      "Saving model with highest val_acc = 82.1500%\n",
      "\n"
     ]
    },
    {
     "name": "stderr",
     "output_type": "stream",
     "text": [
      "Training: : 100%|█████████████████████████████████████████████████████████████████████████████| 235/235 [00:08<00:00, 26.91batch/s, accuracy=82, loss=0.587]\n",
      "Validation: : 100%|████████████████████████████████████████████████████████████████████████| 40/40 [00:01<00:00, 33.95batch/s, val_acc=83.2, val_loss=0.546]\n"
     ]
    },
    {
     "name": "stdout",
     "output_type": "stream",
     "text": [
      "\n",
      "epoch: 11 training loss = 0.5868, training accuracy = 82.05%, val_loss = 0.5464, val_accuracy = 83.19%\n",
      "\n",
      "Saving model with highest val_acc = 83.1900%\n",
      "\n"
     ]
    },
    {
     "name": "stderr",
     "output_type": "stream",
     "text": [
      "Training: : 100%|███████████████████████████████████████████████████████████████████████████| 235/235 [00:08<00:00, 27.42batch/s, accuracy=83.2, loss=0.552]\n",
      "Validation: : 100%|████████████████████████████████████████████████████████████████████████| 40/40 [00:01<00:00, 35.19batch/s, val_acc=84.3, val_loss=0.515]\n"
     ]
    },
    {
     "name": "stdout",
     "output_type": "stream",
     "text": [
      "\n",
      "epoch: 12 training loss = 0.5519, training accuracy = 83.23%, val_loss = 0.5154, val_accuracy = 84.32%\n",
      "\n",
      "Saving model with highest val_acc = 84.3200%\n",
      "\n"
     ]
    },
    {
     "name": "stderr",
     "output_type": "stream",
     "text": [
      "Training: : 100%|███████████████████████████████████████████████████████████████████████████| 235/235 [00:08<00:00, 27.06batch/s, accuracy=84.2, loss=0.522]\n",
      "Validation: : 100%|████████████████████████████████████████████████████████████████████████| 40/40 [00:01<00:00, 34.88batch/s, val_acc=85.1, val_loss=0.489]\n"
     ]
    },
    {
     "name": "stdout",
     "output_type": "stream",
     "text": [
      "\n",
      "epoch: 13 training loss = 0.5217, training accuracy = 84.22%, val_loss = 0.4886, val_accuracy = 85.14%\n",
      "\n",
      "Saving model with highest val_acc = 85.1400%\n",
      "\n"
     ]
    },
    {
     "name": "stderr",
     "output_type": "stream",
     "text": [
      "Training: : 100%|███████████████████████████████████████████████████████████████████████████| 235/235 [00:08<00:00, 27.43batch/s, accuracy=85.1, loss=0.495]\n",
      "Validation: : 100%|██████████████████████████████████████████████████████████████████████████| 40/40 [00:01<00:00, 34.87batch/s, val_acc=86, val_loss=0.465]\n"
     ]
    },
    {
     "name": "stdout",
     "output_type": "stream",
     "text": [
      "\n",
      "epoch: 14 training loss = 0.4953, training accuracy = 85.08%, val_loss = 0.4653, val_accuracy = 85.96%\n",
      "\n",
      "Saving model with highest val_acc = 85.9600%\n",
      "\n"
     ]
    },
    {
     "name": "stderr",
     "output_type": "stream",
     "text": [
      "Training: : 100%|███████████████████████████████████████████████████████████████████████████| 235/235 [00:08<00:00, 27.71batch/s, accuracy=85.8, loss=0.473]\n",
      "Validation: : 100%|████████████████████████████████████████████████████████████████████████| 40/40 [00:01<00:00, 32.56batch/s, val_acc=86.6, val_loss=0.446]\n"
     ]
    },
    {
     "name": "stdout",
     "output_type": "stream",
     "text": [
      "\n",
      "epoch: 15 training loss = 0.4726, training accuracy = 85.82%, val_loss = 0.4459, val_accuracy = 86.58%\n",
      "\n",
      "Saving model with highest val_acc = 86.5800%\n",
      "\n"
     ]
    },
    {
     "name": "stderr",
     "output_type": "stream",
     "text": [
      "Training: : 100%|███████████████████████████████████████████████████████████████████████████| 235/235 [00:08<00:00, 28.78batch/s, accuracy=86.4, loss=0.453]\n",
      "Validation: : 100%|██████████████████████████████████████████████████████████████████████████| 40/40 [00:01<00:00, 32.57batch/s, val_acc=87, val_loss=0.428]\n"
     ]
    },
    {
     "name": "stdout",
     "output_type": "stream",
     "text": [
      "\n",
      "epoch: 16 training loss = 0.4531, training accuracy = 86.44%, val_loss = 0.4282, val_accuracy = 86.97%\n",
      "\n",
      "Saving model with highest val_acc = 86.9700%\n",
      "\n"
     ]
    },
    {
     "name": "stderr",
     "output_type": "stream",
     "text": [
      "Training: : 100%|█████████████████████████████████████████████████████████████████████████████| 235/235 [00:08<00:00, 27.84batch/s, accuracy=87, loss=0.436]\n",
      "Validation: : 100%|████████████████████████████████████████████████████████████████████████| 40/40 [00:01<00:00, 34.74batch/s, val_acc=87.4, val_loss=0.412]\n"
     ]
    },
    {
     "name": "stdout",
     "output_type": "stream",
     "text": [
      "\n",
      "epoch: 17 training loss = 0.4358, training accuracy = 86.99%, val_loss = 0.4117, val_accuracy = 87.39%\n",
      "\n",
      "Saving model with highest val_acc = 87.3900%\n",
      "\n"
     ]
    },
    {
     "name": "stderr",
     "output_type": "stream",
     "text": [
      "Training: : 100%|████████████████████████████████████████████████████████████████████████████| 235/235 [00:08<00:00, 27.62batch/s, accuracy=87.5, loss=0.42]\n",
      "Validation: : 100%|████████████████████████████████████████████████████████████████████████| 40/40 [00:01<00:00, 33.92batch/s, val_acc=87.9, val_loss=0.397]\n"
     ]
    },
    {
     "name": "stdout",
     "output_type": "stream",
     "text": [
      "\n",
      "epoch: 18 training loss = 0.4202, training accuracy = 87.53%, val_loss = 0.3974, val_accuracy = 87.88%\n",
      "\n",
      "Saving model with highest val_acc = 87.8800%\n",
      "\n"
     ]
    },
    {
     "name": "stderr",
     "output_type": "stream",
     "text": [
      "Training: : 100%|█████████████████████████████████████████████████████████████████████████████| 235/235 [00:08<00:00, 27.18batch/s, accuracy=88, loss=0.406]\n",
      "Validation: : 100%|████████████████████████████████████████████████████████████████████████| 40/40 [00:01<00:00, 34.69batch/s, val_acc=88.3, val_loss=0.384]\n"
     ]
    },
    {
     "name": "stdout",
     "output_type": "stream",
     "text": [
      "\n",
      "epoch: 19 training loss = 0.4061, training accuracy = 87.97%, val_loss = 0.3844, val_accuracy = 88.35%\n",
      "\n",
      "Saving model with highest val_acc = 88.3500%\n",
      "\n"
     ]
    },
    {
     "name": "stderr",
     "output_type": "stream",
     "text": [
      "Training: : 100%|███████████████████████████████████████████████████████████████████████████| 235/235 [00:08<00:00, 27.78batch/s, accuracy=88.3, loss=0.393]\n",
      "Validation: : 100%|████████████████████████████████████████████████████████████████████████| 40/40 [00:01<00:00, 35.01batch/s, val_acc=88.8, val_loss=0.373]\n"
     ]
    },
    {
     "name": "stdout",
     "output_type": "stream",
     "text": [
      "\n",
      "epoch: 20 training loss = 0.3933, training accuracy = 88.33%, val_loss = 0.3729, val_accuracy = 88.80%\n",
      "\n",
      "Saving model with highest val_acc = 88.8000%\n",
      "\n"
     ]
    },
    {
     "name": "stderr",
     "output_type": "stream",
     "text": [
      "Training: : 100%|███████████████████████████████████████████████████████████████████████████| 235/235 [00:08<00:00, 27.70batch/s, accuracy=88.7, loss=0.382]\n",
      "Validation: : 100%|██████████████████████████████████████████████████████████████████████████| 40/40 [00:01<00:00, 34.84batch/s, val_acc=89, val_loss=0.361]\n"
     ]
    },
    {
     "name": "stdout",
     "output_type": "stream",
     "text": [
      "\n",
      "epoch: 21 training loss = 0.3816, training accuracy = 88.69%, val_loss = 0.3610, val_accuracy = 89.02%\n",
      "\n",
      "Saving model with highest val_acc = 89.0200%\n",
      "\n"
     ]
    },
    {
     "name": "stderr",
     "output_type": "stream",
     "text": [
      "Training: : 100%|█████████████████████████████████████████████████████████████████████████████| 235/235 [00:08<00:00, 27.71batch/s, accuracy=89, loss=0.371]\n",
      "Validation: : 100%|████████████████████████████████████████████████████████████████████████| 40/40 [00:01<00:00, 34.74batch/s, val_acc=89.3, val_loss=0.352]\n"
     ]
    },
    {
     "name": "stdout",
     "output_type": "stream",
     "text": [
      "\n",
      "epoch: 22 training loss = 0.3708, training accuracy = 89.03%, val_loss = 0.3519, val_accuracy = 89.28%\n",
      "\n",
      "Saving model with highest val_acc = 89.2800%\n",
      "\n"
     ]
    },
    {
     "name": "stderr",
     "output_type": "stream",
     "text": [
      "Training: : 100%|███████████████████████████████████████████████████████████████████████████| 235/235 [00:08<00:00, 26.61batch/s, accuracy=89.3, loss=0.361]\n",
      "Validation: : 100%|████████████████████████████████████████████████████████████████████████| 40/40 [00:01<00:00, 34.48batch/s, val_acc=89.7, val_loss=0.343]\n"
     ]
    },
    {
     "name": "stdout",
     "output_type": "stream",
     "text": [
      "\n",
      "epoch: 23 training loss = 0.3610, training accuracy = 89.34%, val_loss = 0.3433, val_accuracy = 89.72%\n",
      "\n",
      "Saving model with highest val_acc = 89.7200%\n",
      "\n"
     ]
    },
    {
     "name": "stderr",
     "output_type": "stream",
     "text": [
      "Training: : 100%|███████████████████████████████████████████████████████████████████████████| 235/235 [00:08<00:00, 28.14batch/s, accuracy=89.6, loss=0.352]\n",
      "Validation: : 100%|████████████████████████████████████████████████████████████████████████| 40/40 [00:01<00:00, 35.26batch/s, val_acc=89.9, val_loss=0.334]\n"
     ]
    },
    {
     "name": "stdout",
     "output_type": "stream",
     "text": [
      "\n",
      "epoch: 24 training loss = 0.3519, training accuracy = 89.64%, val_loss = 0.3340, val_accuracy = 89.93%\n",
      "\n",
      "Saving model with highest val_acc = 89.9300%\n",
      "\n"
     ]
    },
    {
     "name": "stderr",
     "output_type": "stream",
     "text": [
      "Training: : 100%|█████████████████████████████████████████████████████████████████████████████| 235/235 [00:08<00:00, 26.54batch/s, accuracy=90, loss=0.344]\n",
      "Validation: : 100%|████████████████████████████████████████████████████████████████████████| 40/40 [00:01<00:00, 33.71batch/s, val_acc=90.1, val_loss=0.326]\n"
     ]
    },
    {
     "name": "stdout",
     "output_type": "stream",
     "text": [
      "\n",
      "epoch: 25 training loss = 0.3436, training accuracy = 89.95%, val_loss = 0.3263, val_accuracy = 90.14%\n",
      "\n",
      "Saving model with highest val_acc = 90.1400%\n",
      "\n"
     ]
    },
    {
     "name": "stderr",
     "output_type": "stream",
     "text": [
      "Training: : 100%|███████████████████████████████████████████████████████████████████████████| 235/235 [00:08<00:00, 27.97batch/s, accuracy=90.2, loss=0.336]\n",
      "Validation: : 100%|████████████████████████████████████████████████████████████████████████| 40/40 [00:01<00:00, 35.17batch/s, val_acc=90.3, val_loss=0.319]\n"
     ]
    },
    {
     "name": "stdout",
     "output_type": "stream",
     "text": [
      "\n",
      "epoch: 26 training loss = 0.3361, training accuracy = 90.18%, val_loss = 0.3190, val_accuracy = 90.31%\n",
      "\n",
      "Saving model with highest val_acc = 90.3100%\n",
      "\n"
     ]
    },
    {
     "name": "stderr",
     "output_type": "stream",
     "text": [
      "Training: : 100%|███████████████████████████████████████████████████████████████████████████| 235/235 [00:07<00:00, 29.65batch/s, accuracy=90.4, loss=0.329]\n",
      "Validation: : 100%|████████████████████████████████████████████████████████████████████████| 40/40 [00:01<00:00, 37.21batch/s, val_acc=90.5, val_loss=0.312]\n"
     ]
    },
    {
     "name": "stdout",
     "output_type": "stream",
     "text": [
      "\n",
      "epoch: 27 training loss = 0.3287, training accuracy = 90.42%, val_loss = 0.3122, val_accuracy = 90.52%\n",
      "\n",
      "Saving model with highest val_acc = 90.5200%\n",
      "\n"
     ]
    },
    {
     "name": "stderr",
     "output_type": "stream",
     "text": [
      "Training: : 100%|███████████████████████████████████████████████████████████████████████████| 235/235 [00:08<00:00, 27.98batch/s, accuracy=90.6, loss=0.322]\n",
      "Validation: : 100%|████████████████████████████████████████████████████████████████████████| 40/40 [00:01<00:00, 33.56batch/s, val_acc=90.6, val_loss=0.305]\n"
     ]
    },
    {
     "name": "stdout",
     "output_type": "stream",
     "text": [
      "\n",
      "epoch: 28 training loss = 0.3220, training accuracy = 90.57%, val_loss = 0.3051, val_accuracy = 90.61%\n",
      "\n",
      "Saving model with highest val_acc = 90.6100%\n",
      "\n"
     ]
    },
    {
     "name": "stderr",
     "output_type": "stream",
     "text": [
      "Training: : 100%|███████████████████████████████████████████████████████████████████████████| 235/235 [00:08<00:00, 28.32batch/s, accuracy=90.8, loss=0.316]\n",
      "Validation: : 100%|████████████████████████████████████████████████████████████████████████| 40/40 [00:01<00:00, 33.67batch/s, val_acc=90.8, val_loss=0.299]\n"
     ]
    },
    {
     "name": "stdout",
     "output_type": "stream",
     "text": [
      "\n",
      "epoch: 29 training loss = 0.3155, training accuracy = 90.79%, val_loss = 0.2992, val_accuracy = 90.84%\n",
      "\n",
      "Saving model with highest val_acc = 90.8400%\n",
      "\n"
     ]
    },
    {
     "name": "stderr",
     "output_type": "stream",
     "text": [
      "Training: : 100%|█████████████████████████████████████████████████████████████████████████████| 235/235 [00:08<00:00, 27.28batch/s, accuracy=91, loss=0.309]\n",
      "Validation: : 100%|██████████████████████████████████████████████████████████████████████████| 40/40 [00:01<00:00, 33.50batch/s, val_acc=91, val_loss=0.294]\n"
     ]
    },
    {
     "name": "stdout",
     "output_type": "stream",
     "text": [
      "\n",
      "epoch: 30 training loss = 0.3094, training accuracy = 90.96%, val_loss = 0.2936, val_accuracy = 91.04%\n",
      "\n",
      "Saving model with highest val_acc = 91.0400%\n",
      "\n"
     ]
    },
    {
     "name": "stderr",
     "output_type": "stream",
     "text": [
      "Training: : 100%|███████████████████████████████████████████████████████████████████████████| 235/235 [00:09<00:00, 25.68batch/s, accuracy=91.2, loss=0.304]\n",
      "Validation: : 100%|████████████████████████████████████████████████████████████████████████| 40/40 [00:01<00:00, 36.21batch/s, val_acc=91.2, val_loss=0.288]\n"
     ]
    },
    {
     "name": "stdout",
     "output_type": "stream",
     "text": [
      "\n",
      "epoch: 31 training loss = 0.3036, training accuracy = 91.16%, val_loss = 0.2877, val_accuracy = 91.20%\n",
      "\n",
      "Saving model with highest val_acc = 91.2000%\n",
      "\n"
     ]
    },
    {
     "name": "stderr",
     "output_type": "stream",
     "text": [
      "Training: : 100%|███████████████████████████████████████████████████████████████████████████| 235/235 [00:08<00:00, 27.88batch/s, accuracy=91.3, loss=0.298]\n",
      "Validation: : 100%|████████████████████████████████████████████████████████████████████████| 40/40 [00:01<00:00, 32.13batch/s, val_acc=91.3, val_loss=0.283]\n"
     ]
    },
    {
     "name": "stdout",
     "output_type": "stream",
     "text": [
      "\n",
      "epoch: 32 training loss = 0.2982, training accuracy = 91.31%, val_loss = 0.2833, val_accuracy = 91.30%\n",
      "\n",
      "Saving model with highest val_acc = 91.3000%\n",
      "\n"
     ]
    },
    {
     "name": "stderr",
     "output_type": "stream",
     "text": [
      "Training: : 100%|███████████████████████████████████████████████████████████████████████████| 235/235 [00:08<00:00, 27.61batch/s, accuracy=91.4, loss=0.293]\n",
      "Validation: : 100%|████████████████████████████████████████████████████████████████████████| 40/40 [00:01<00:00, 35.08batch/s, val_acc=91.5, val_loss=0.279]\n"
     ]
    },
    {
     "name": "stdout",
     "output_type": "stream",
     "text": [
      "\n",
      "epoch: 33 training loss = 0.2928, training accuracy = 91.42%, val_loss = 0.2786, val_accuracy = 91.53%\n",
      "\n",
      "Saving model with highest val_acc = 91.5300%\n",
      "\n"
     ]
    },
    {
     "name": "stderr",
     "output_type": "stream",
     "text": [
      "Training: : 100%|███████████████████████████████████████████████████████████████████████████| 235/235 [00:08<00:00, 28.02batch/s, accuracy=91.6, loss=0.288]\n",
      "Validation: : 100%|████████████████████████████████████████████████████████████████████████| 40/40 [00:01<00:00, 34.58batch/s, val_acc=91.7, val_loss=0.273]\n"
     ]
    },
    {
     "name": "stdout",
     "output_type": "stream",
     "text": [
      "\n",
      "epoch: 34 training loss = 0.2879, training accuracy = 91.55%, val_loss = 0.2733, val_accuracy = 91.68%\n",
      "\n",
      "Saving model with highest val_acc = 91.6800%\n",
      "\n"
     ]
    },
    {
     "name": "stderr",
     "output_type": "stream",
     "text": [
      "Training: : 100%|███████████████████████████████████████████████████████████████████████████| 235/235 [00:08<00:00, 28.72batch/s, accuracy=91.7, loss=0.283]\n",
      "Validation: : 100%|█████████████████████████████████████████████████████████████████████████| 40/40 [00:01<00:00, 35.19batch/s, val_acc=91.8, val_loss=0.27]\n"
     ]
    },
    {
     "name": "stdout",
     "output_type": "stream",
     "text": [
      "\n",
      "epoch: 35 training loss = 0.2831, training accuracy = 91.70%, val_loss = 0.2696, val_accuracy = 91.76%\n",
      "\n",
      "Saving model with highest val_acc = 91.7600%\n",
      "\n"
     ]
    },
    {
     "name": "stderr",
     "output_type": "stream",
     "text": [
      "Training: : 100%|███████████████████████████████████████████████████████████████████████████| 235/235 [00:08<00:00, 28.36batch/s, accuracy=91.8, loss=0.279]\n",
      "Validation: : 100%|██████████████████████████████████████████████████████████████████████████| 40/40 [00:01<00:00, 35.49batch/s, val_acc=92, val_loss=0.265]\n"
     ]
    },
    {
     "name": "stdout",
     "output_type": "stream",
     "text": [
      "\n",
      "epoch: 36 training loss = 0.2787, training accuracy = 91.79%, val_loss = 0.2653, val_accuracy = 91.99%\n",
      "\n",
      "Saving model with highest val_acc = 91.9900%\n",
      "\n"
     ]
    },
    {
     "name": "stderr",
     "output_type": "stream",
     "text": [
      "Training: : 100%|███████████████████████████████████████████████████████████████████████████| 235/235 [00:08<00:00, 28.98batch/s, accuracy=91.9, loss=0.274]\n",
      "Validation: : 100%|██████████████████████████████████████████████████████████████████████████| 40/40 [00:01<00:00, 34.64batch/s, val_acc=92, val_loss=0.261]\n"
     ]
    },
    {
     "name": "stdout",
     "output_type": "stream",
     "text": [
      "\n",
      "epoch: 37 training loss = 0.2744, training accuracy = 91.95%, val_loss = 0.2612, val_accuracy = 91.99%\n",
      "\n"
     ]
    },
    {
     "name": "stderr",
     "output_type": "stream",
     "text": [
      "Training: : 100%|████████████████████████████████████████████████████████████████████████████| 235/235 [00:08<00:00, 28.20batch/s, accuracy=92.1, loss=0.27]\n",
      "Validation: : 100%|████████████████████████████████████████████████████████████████████████| 40/40 [00:01<00:00, 34.67batch/s, val_acc=92.1, val_loss=0.257]\n"
     ]
    },
    {
     "name": "stdout",
     "output_type": "stream",
     "text": [
      "\n",
      "epoch: 38 training loss = 0.2703, training accuracy = 92.05%, val_loss = 0.2568, val_accuracy = 92.11%\n",
      "\n",
      "Saving model with highest val_acc = 92.1100%\n",
      "\n"
     ]
    },
    {
     "name": "stderr",
     "output_type": "stream",
     "text": [
      "Training: : 100%|███████████████████████████████████████████████████████████████████████████| 235/235 [00:08<00:00, 29.34batch/s, accuracy=92.2, loss=0.266]\n",
      "Validation: : 100%|████████████████████████████████████████████████████████████████████████| 40/40 [00:01<00:00, 35.22batch/s, val_acc=92.2, val_loss=0.253]\n"
     ]
    },
    {
     "name": "stdout",
     "output_type": "stream",
     "text": [
      "\n",
      "epoch: 39 training loss = 0.2661, training accuracy = 92.16%, val_loss = 0.2527, val_accuracy = 92.17%\n",
      "\n",
      "Saving model with highest val_acc = 92.1700%\n",
      "\n"
     ]
    },
    {
     "name": "stderr",
     "output_type": "stream",
     "text": [
      "Training: : 100%|███████████████████████████████████████████████████████████████████████████| 235/235 [00:08<00:00, 28.41batch/s, accuracy=92.3, loss=0.262]\n",
      "Validation: : 100%|████████████████████████████████████████████████████████████████████████| 40/40 [00:01<00:00, 35.51batch/s, val_acc=92.4, val_loss=0.249]\n"
     ]
    },
    {
     "name": "stdout",
     "output_type": "stream",
     "text": [
      "\n",
      "epoch: 40 training loss = 0.2623, training accuracy = 92.27%, val_loss = 0.2492, val_accuracy = 92.38%\n",
      "\n",
      "Saving model with highest val_acc = 92.3800%\n",
      "\n"
     ]
    },
    {
     "name": "stderr",
     "output_type": "stream",
     "text": [
      "Training: : 100%|███████████████████████████████████████████████████████████████████████████| 235/235 [00:08<00:00, 28.07batch/s, accuracy=92.4, loss=0.258]\n",
      "Validation: : 100%|████████████████████████████████████████████████████████████████████████| 40/40 [00:01<00:00, 35.02batch/s, val_acc=92.5, val_loss=0.246]\n"
     ]
    },
    {
     "name": "stdout",
     "output_type": "stream",
     "text": [
      "\n",
      "epoch: 41 training loss = 0.2584, training accuracy = 92.38%, val_loss = 0.2457, val_accuracy = 92.45%\n",
      "\n",
      "Saving model with highest val_acc = 92.4500%\n",
      "\n"
     ]
    },
    {
     "name": "stderr",
     "output_type": "stream",
     "text": [
      "Training: : 100%|███████████████████████████████████████████████████████████████████████████| 235/235 [00:08<00:00, 27.48batch/s, accuracy=92.5, loss=0.255]\n",
      "Validation: : 100%|████████████████████████████████████████████████████████████████████████| 40/40 [00:01<00:00, 34.75batch/s, val_acc=92.5, val_loss=0.243]\n"
     ]
    },
    {
     "name": "stdout",
     "output_type": "stream",
     "text": [
      "\n",
      "epoch: 42 training loss = 0.2550, training accuracy = 92.47%, val_loss = 0.2427, val_accuracy = 92.53%\n",
      "\n",
      "Saving model with highest val_acc = 92.5300%\n",
      "\n"
     ]
    },
    {
     "name": "stderr",
     "output_type": "stream",
     "text": [
      "Training: : 100%|███████████████████████████████████████████████████████████████████████████| 235/235 [00:08<00:00, 26.56batch/s, accuracy=92.5, loss=0.251]\n",
      "Validation: : 100%|████████████████████████████████████████████████████████████████████████| 40/40 [00:01<00:00, 33.99batch/s, val_acc=92.7, val_loss=0.239]\n"
     ]
    },
    {
     "name": "stdout",
     "output_type": "stream",
     "text": [
      "\n",
      "epoch: 43 training loss = 0.2513, training accuracy = 92.50%, val_loss = 0.2390, val_accuracy = 92.65%\n",
      "\n",
      "Saving model with highest val_acc = 92.6500%\n",
      "\n"
     ]
    },
    {
     "name": "stderr",
     "output_type": "stream",
     "text": [
      "Training: : 100%|███████████████████████████████████████████████████████████████████████████| 235/235 [00:09<00:00, 25.97batch/s, accuracy=92.6, loss=0.248]\n",
      "Validation: : 100%|████████████████████████████████████████████████████████████████████████| 40/40 [00:01<00:00, 34.24batch/s, val_acc=92.7, val_loss=0.236]\n"
     ]
    },
    {
     "name": "stdout",
     "output_type": "stream",
     "text": [
      "\n",
      "epoch: 44 training loss = 0.2482, training accuracy = 92.64%, val_loss = 0.2360, val_accuracy = 92.72%\n",
      "\n",
      "Saving model with highest val_acc = 92.7200%\n",
      "\n"
     ]
    },
    {
     "name": "stderr",
     "output_type": "stream",
     "text": [
      "Training: : 100%|███████████████████████████████████████████████████████████████████████████| 235/235 [00:09<00:00, 25.83batch/s, accuracy=92.7, loss=0.245]\n",
      "Validation: : 100%|████████████████████████████████████████████████████████████████████████| 40/40 [00:01<00:00, 34.61batch/s, val_acc=92.8, val_loss=0.233]\n"
     ]
    },
    {
     "name": "stdout",
     "output_type": "stream",
     "text": [
      "\n",
      "epoch: 45 training loss = 0.2448, training accuracy = 92.75%, val_loss = 0.2331, val_accuracy = 92.80%\n",
      "\n",
      "Saving model with highest val_acc = 92.8000%\n",
      "\n"
     ]
    },
    {
     "name": "stderr",
     "output_type": "stream",
     "text": [
      "Training: : 100%|███████████████████████████████████████████████████████████████████████████| 235/235 [00:08<00:00, 26.41batch/s, accuracy=92.8, loss=0.242]\n",
      "Validation: : 100%|█████████████████████████████████████████████████████████████████████████| 40/40 [00:01<00:00, 32.66batch/s, val_acc=92.9, val_loss=0.23]\n"
     ]
    },
    {
     "name": "stdout",
     "output_type": "stream",
     "text": [
      "\n",
      "epoch: 46 training loss = 0.2418, training accuracy = 92.83%, val_loss = 0.2301, val_accuracy = 92.89%\n",
      "\n",
      "Saving model with highest val_acc = 92.8900%\n",
      "\n"
     ]
    },
    {
     "name": "stderr",
     "output_type": "stream",
     "text": [
      "Training: : 100%|███████████████████████████████████████████████████████████████████████████| 235/235 [00:08<00:00, 27.00batch/s, accuracy=92.9, loss=0.239]\n",
      "Validation: : 100%|████████████████████████████████████████████████████████████████████████| 40/40 [00:01<00:00, 34.14batch/s, val_acc=92.9, val_loss=0.227]\n"
     ]
    },
    {
     "name": "stdout",
     "output_type": "stream",
     "text": [
      "\n",
      "epoch: 47 training loss = 0.2387, training accuracy = 92.90%, val_loss = 0.2272, val_accuracy = 92.91%\n",
      "\n",
      "Saving model with highest val_acc = 92.9100%\n",
      "\n"
     ]
    },
    {
     "name": "stderr",
     "output_type": "stream",
     "text": [
      "Training: : 100%|█████████████████████████████████████████████████████████████████████████████| 235/235 [00:08<00:00, 27.25batch/s, accuracy=93, loss=0.236]\n",
      "Validation: : 100%|████████████████████████████████████████████████████████████████████████| 40/40 [00:01<00:00, 35.19batch/s, val_acc=93.1, val_loss=0.225]\n"
     ]
    },
    {
     "name": "stdout",
     "output_type": "stream",
     "text": [
      "\n",
      "epoch: 48 training loss = 0.2357, training accuracy = 93.01%, val_loss = 0.2249, val_accuracy = 93.10%\n",
      "\n",
      "Saving model with highest val_acc = 93.1000%\n",
      "\n"
     ]
    },
    {
     "name": "stderr",
     "output_type": "stream",
     "text": [
      "Training: : 100%|███████████████████████████████████████████████████████████████████████████| 235/235 [00:09<00:00, 24.98batch/s, accuracy=93.1, loss=0.233]\n",
      "Validation: : 100%|████████████████████████████████████████████████████████████████████████| 40/40 [00:01<00:00, 36.30batch/s, val_acc=93.2, val_loss=0.222]\n"
     ]
    },
    {
     "name": "stdout",
     "output_type": "stream",
     "text": [
      "\n",
      "epoch: 49 training loss = 0.2329, training accuracy = 93.10%, val_loss = 0.2218, val_accuracy = 93.25%\n",
      "\n",
      "Saving model with highest val_acc = 93.2500%\n",
      "\n"
     ]
    },
    {
     "name": "stderr",
     "output_type": "stream",
     "text": [
      "Training: : 100%|████████████████████████████████████████████████████████████████████████████| 235/235 [00:08<00:00, 26.85batch/s, accuracy=93.2, loss=0.23]\n",
      "Validation: : 100%|████████████████████████████████████████████████████████████████████████| 40/40 [00:01<00:00, 34.92batch/s, val_acc=93.3, val_loss=0.219]"
     ]
    },
    {
     "name": "stdout",
     "output_type": "stream",
     "text": [
      "\n",
      "epoch: 50 training loss = 0.2300, training accuracy = 93.18%, val_loss = 0.2190, val_accuracy = 93.33%\n",
      "\n",
      "Saving model with highest val_acc = 93.3300%\n",
      "\n"
     ]
    },
    {
     "name": "stderr",
     "output_type": "stream",
     "text": [
      "\n"
     ]
    }
   ],
   "source": [
    "for epoch in range(num_epochs):\n",
    "\n",
    "    # Train and validate model for 1 epoch-\n",
    "    train_loss, train_acc = train_model_progress(\n",
    "        model = model, train_loader = train_loader,\n",
    "        train_dataset = train_dataset\n",
    "    )\n",
    "    \n",
    "    val_loss, val_acc = test_model_progress(\n",
    "        model = model, test_loader = test_loader,\n",
    "        test_dataset = test_dataset\n",
    "    )\n",
    "    \n",
    "    print(f\"\\nepoch: {epoch + 1} training loss = {train_loss:.4f}, \"\n",
    "          f\"training accuracy = {train_acc:.2f}%, val_loss = {val_loss:.4f}\"\n",
    "          f\", val_accuracy = {val_acc:.2f}%\"\n",
    "          # f\" & LR = {optimizer.param_groups[0]['lr']:.4f}\n",
    "          f\"\\n\")\n",
    "    \n",
    "    training_history[epoch + 1] = {\n",
    "        'loss': train_loss, 'acc': train_acc,\n",
    "        'val_loss': val_loss, 'val_acc': val_acc,\n",
    "        # 'lr': optimizer.param_groups[0]['lr']\n",
    "    }\n",
    "\n",
    "    \n",
    "    # Save best weights achieved until now-\n",
    "    if (val_acc > best_val_acc):\n",
    "        # update 'best_val_loss' variable to lowest loss encountered so far-\n",
    "        best_val_acc = val_acc\n",
    "\n",
    "        print(f\"Saving model with highest val_acc = {val_acc:.4f}%\\n\")\n",
    "        \n",
    "        # Save trained model with 'best' validation accuracy-\n",
    "        torch.save(model.state_dict(), \"LeNet5_best_model.pth\")\n",
    "         "
   ]
  },
  {
   "cell_type": "code",
   "execution_count": null,
   "id": "01039511-4834-40c6-82b1-f7aade08e2d2",
   "metadata": {},
   "outputs": [],
   "source": []
  },
  {
   "cell_type": "code",
   "execution_count": 19,
   "id": "c9b53260-11e3-4137-862a-5f281cea7526",
   "metadata": {},
   "outputs": [],
   "source": [
    "# Save training metrics as Python3 history for later analysis-\n",
    "with open(\"LeNet5_training_history.pkl\", \"wb\") as file:\n",
    "    pickle.dump(training_history, file)"
   ]
  },
  {
   "cell_type": "code",
   "execution_count": null,
   "id": "2f725a3c-73bd-42ba-8b04-5413f0860365",
   "metadata": {},
   "outputs": [],
   "source": []
  },
  {
   "cell_type": "code",
   "execution_count": null,
   "id": "6428aaf8-d0cf-4f51-b73e-0959b38e03c9",
   "metadata": {},
   "outputs": [],
   "source": []
  },
  {
   "cell_type": "code",
   "execution_count": 20,
   "id": "73bec9e0-081e-472d-b7fb-fd281c092258",
   "metadata": {},
   "outputs": [
    {
     "data": {
      "image/png": "[encoded data removed]",
      "text/plain": [
       "<Figure size 900x700 with 1 Axes>"
      ]
     },
     "metadata": {},
     "output_type": "display_data"
    }
   ],
   "source": [
    "plt.figure(figsize = (9, 7))\n",
    "plt.plot(list(training_history.keys()), [training_history[k]['acc'] for k in training_history.keys()], label = 'training acc')\n",
    "plt.plot(list(training_history.keys()), [training_history[k]['val_acc'] for k in training_history.keys()], label = 'val acc')\n",
    "plt.title(\"LeNet-5: Accuracy\")\n",
    "plt.xlabel(\"epochs\")\n",
    "plt.ylabel(\"accuracy (%)\")\n",
    "plt.legend(loc = 'best')\n",
    "plt.show()"
   ]
  },
  {
   "cell_type": "code",
   "execution_count": 21,
   "id": "53cab234-d17d-4d76-983a-c18ec6a11718",
   "metadata": {},
   "outputs": [
    {
     "data": {
      "image/png": "[encoded data removed]",
      "text/plain": [
       "<Figure size 900x700 with 1 Axes>"
      ]
     },
     "metadata": {},
     "output_type": "display_data"
    }
   ],
   "source": [
    "plt.figure(figsize = (9, 7))\n",
    "plt.plot(list(training_history.keys()), [training_history[k]['loss'] for k in training_history.keys()], label = 'training loss')\n",
    "plt.plot(list(training_history.keys()), [training_history[k]['val_loss'] for k in training_history.keys()], label = 'val loss')\n",
    "plt.xlabel(\"epochs\")\n",
    "plt.ylabel(\"loss\")\n",
    "plt.legend(loc = 'best')\n",
    "plt.title(\"LeNet-5: Loss\")\n",
    "plt.show()"
   ]
  },
  {
   "cell_type": "code",
   "execution_count": null,
   "id": "ca778dd8-dc2f-4fae-a9d3-930c9ee92321",
   "metadata": {},
   "outputs": [],
   "source": [
    "\"\"\"\n",
    "plt.figure(figsize = (9, 7))\n",
    "plt.plot(list(training_history.keys()), [training_history[k]['lr'] for k in training_history.keys()])\n",
    "plt.xlabel(\"epochs\")\n",
    "plt.ylabel(\"lr\")\n",
    "plt.title(\"LeNet-5: Learning-Rate\")\n",
    "plt.show()\n",
    "\"\"\""
   ]
  },
  {
   "cell_type": "code",
   "execution_count": null,
   "id": "df5f9b6f-7459-4938-b2a7-d2cb9cd6c38e",
   "metadata": {},
   "outputs": [],
   "source": []
  },
  {
   "cell_type": "code",
   "execution_count": null,
   "id": "9e18bd48-8726-409e-803a-553678c73f2c",
   "metadata": {},
   "outputs": [],
   "source": []
  },
  {
   "cell_type": "code",
   "execution_count": 41,
   "id": "b531e1fb-0973-4306-9c42-acc48c12daa3",
   "metadata": {},
   "outputs": [],
   "source": [
    "# Save LARS optimizer-\n",
    "torch.save(optimizer.state_dict(), 'LeNet5_bestmodel_LARS_optim.pth')"
   ]
  },
  {
   "cell_type": "code",
   "execution_count": null,
   "id": "8f7ddca8-968d-44e7-a1ba-0790106b6ab4",
   "metadata": {},
   "outputs": [],
   "source": []
  },
  {
   "cell_type": "code",
   "execution_count": null,
   "id": "1b22094a-4228-410b-a4e3-054b02376223",
   "metadata": {},
   "outputs": [],
   "source": []
  },
  {
   "cell_type": "code",
   "execution_count": 23,
   "id": "a52961a3-70bf-4937-ba83-d6101f00efd4",
   "metadata": {},
   "outputs": [
    {
     "data": {
      "text/plain": [
       "dict_keys(['state', 'param_groups'])"
      ]
     },
     "execution_count": 23,
     "metadata": {},
     "output_type": "execute_result"
    }
   ],
   "source": [
    "optimizer.state_dict().keys()"
   ]
  },
  {
   "cell_type": "code",
   "execution_count": 30,
   "id": "d9240ed1-5cee-401c-b2b7-518dd5be479c",
   "metadata": {},
   "outputs": [
    {
     "data": {
      "text/plain": [
       "dict_keys([0, 1, 2, 3, 4, 5, 6, 7, 8, 9])"
      ]
     },
     "execution_count": 30,
     "metadata": {},
     "output_type": "execute_result"
    }
   ],
   "source": [
    "optimizer.state_dict()['state'].keys()"
   ]
  },
  {
   "cell_type": "code",
   "execution_count": 35,
   "id": "cf27d6f1-6676-43b1-bb0b-ff61707eecd5",
   "metadata": {},
   "outputs": [
    {
     "data": {
      "text/plain": [
       "dict_keys(['lr', 'momentum', 'dampening', 'weight_decay', 'nesterov', 'maximize', 'foreach', 'differentiable', 'params'])"
      ]
     },
     "execution_count": 35,
     "metadata": {},
     "output_type": "execute_result"
    }
   ],
   "source": [
    "optimizer.state_dict()['param_groups'][0].keys()"
   ]
  },
  {
   "cell_type": "code",
   "execution_count": 36,
   "id": "68870100-e11d-4859-8791-3853c494ddcf",
   "metadata": {},
   "outputs": [
    {
     "data": {
      "text/plain": [
       "{'lr': 0.01,\n",
       " 'momentum': 0.9,\n",
       " 'dampening': 0,\n",
       " 'weight_decay': 0.0005,\n",
       " 'nesterov': False,\n",
       " 'maximize': False,\n",
       " 'foreach': None,\n",
       " 'differentiable': False,\n",
       " 'params': [0, 1, 2, 3, 4, 5, 6, 7, 8, 9]}"
      ]
     },
     "execution_count": 36,
     "metadata": {},
     "output_type": "execute_result"
    }
   ],
   "source": [
    "optimizer.state_dict()['param_groups'][0]"
   ]
  },
  {
   "cell_type": "code",
   "execution_count": 37,
   "id": "b0e89ce3-78af-4bc9-b899-718b2e17ce30",
   "metadata": {},
   "outputs": [
    {
     "data": {
      "text/plain": [
       "[0, 1, 2, 3, 4, 5, 6, 7, 8, 9]"
      ]
     },
     "execution_count": 37,
     "metadata": {},
     "output_type": "execute_result"
    }
   ],
   "source": [
    "optimizer.state_dict()['param_groups'][0]['params']"
   ]
  },
  {
   "cell_type": "code",
   "execution_count": 39,
   "id": "f4a858ed-0d64-4abd-b761-aac64bbb72c3",
   "metadata": {},
   "outputs": [
    {
     "data": {
      "text/plain": [
       "dict_keys(['momentum_buffer'])"
      ]
     },
     "execution_count": 39,
     "metadata": {},
     "output_type": "execute_result"
    }
   ],
   "source": [
    "optimizer.state_dict()['state'][0].keys()"
   ]
  },
  {
   "cell_type": "code",
   "execution_count": null,
   "id": "e0ad1ec1-e562-44fd-b67e-5933bfa53be6",
   "metadata": {},
   "outputs": [],
   "source": []
  }
 ],
 "metadata": {
  "kernelspec": {
   "display_name": "Python 3 (ipykernel)",
   "language": "python",
   "name": "python3"
  },
  "language_info": {
   "codemirror_mode": {
    "name": "ipython",
    "version": 3
   },
   "file_extension": ".py",
   "mimetype": "text/x-python",
   "name": "python",
   "nbconvert_exporter": "python",
   "pygments_lexer": "ipython3",
   "version": "3.10.13"
  }
 },
 "nbformat": 4,
 "nbformat_minor": 5
}
