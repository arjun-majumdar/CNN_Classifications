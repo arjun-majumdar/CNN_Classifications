{
 "cells": [
  {
   "cell_type": "markdown",
   "id": "76c6ca28-2e0e-4cd2-bbbc-edb0d648b760",
   "metadata": {},
   "source": [
    "# ResNet-34: CIFAR-10 & TF2\n",
    "\n",
    "__Deep Residual Learning for Image Recognition__ research paper by Kaiming He et al."
   ]
  },
  {
   "cell_type": "code",
   "execution_count": null,
   "id": "7a5f70f9-a202-4366-9d29-da931ade6223",
   "metadata": {},
   "outputs": [],
   "source": [
    "# Specify GPU to be used-\n",
    "# %env CUDA_DEVICE_ORDER = PCI_BUS_ID\n",
    "# %env CUDA_VISIBLE_DEVICES = 0"
   ]
  },
  {
   "cell_type": "code",
   "execution_count": 1,
   "id": "78b56ead-32bd-4655-b39c-5ca66a6e0837",
   "metadata": {},
   "outputs": [],
   "source": [
    "import tensorflow as tf\n",
    "import numpy as np\n",
    "import matplotlib.pyplot as plt\n",
    "import seaborn as sns\n",
    "import pickle, os, time\n",
    "import math\n",
    "\n",
    "from tqdm import tqdm\n",
    "from tqdm import trange\n",
    "\n",
    "from tensorflow.keras.preprocessing.image import ImageDataGenerator\n",
    "from tensorflow.keras import regularizers\n",
    "import tensorflow.keras.backend as K\n",
    "\n",
    "from tensorflow.keras.layers import AveragePooling2D, Conv2D, MaxPooling2D, ReLU\n",
    "from tensorflow.keras import models, layers, datasets\n",
    "from tensorflow.keras.layers import Dense, Flatten, Reshape, Input, InputLayer, GlobalAveragePooling2D\n",
    "from tensorflow.keras.layers import Layer, Dropout, BatchNormalization, Activation\n",
    "from tensorflow.keras.models import Sequential, Model\n",
    "from tensorflow.keras.initializers import RandomNormal, Constant"
   ]
  },
  {
   "cell_type": "code",
   "execution_count": null,
   "id": "3882420a-eeb0-48b1-953d-174f0842db25",
   "metadata": {},
   "outputs": [],
   "source": []
  },
  {
   "cell_type": "code",
   "execution_count": null,
   "id": "e1114a49-b2a9-4ee5-8792-9dbca94b84e8",
   "metadata": {},
   "outputs": [],
   "source": []
  },
  {
   "cell_type": "code",
   "execution_count": 2,
   "id": "8a6efdde-eb3b-481b-ad30-464c39f32612",
   "metadata": {},
   "outputs": [
    {
     "name": "stdout",
     "output_type": "stream",
     "text": [
      "TensorFlow version: 2.8.0\n"
     ]
    }
   ],
   "source": [
    "print(f\"TensorFlow version: {tf.__version__}\")"
   ]
  },
  {
   "cell_type": "code",
   "execution_count": 3,
   "id": "15690aa7-dd48-4475-93c6-6ab9695ee09e",
   "metadata": {},
   "outputs": [
    {
     "name": "stdout",
     "output_type": "stream",
     "text": [
      "GPU: [PhysicalDevice(name='/physical_device:GPU:0', device_type='GPU'), PhysicalDevice(name='/physical_device:GPU:1', device_type='GPU')]\n",
      "GPU details: NVIDIA GeForce RTX 3080\n"
     ]
    },
    {
     "name": "stderr",
     "output_type": "stream",
     "text": [
      "2022-07-16 11:42:12.165915: I tensorflow/stream_executor/cuda/cuda_gpu_executor.cc:936] successful NUMA node read from SysFS had negative value (-1), but there must be at least one NUMA node, so returning NUMA node zero\n",
      "2022-07-16 11:42:12.166150: I tensorflow/stream_executor/cuda/cuda_gpu_executor.cc:936] successful NUMA node read from SysFS had negative value (-1), but there must be at least one NUMA node, so returning NUMA node zero\n",
      "2022-07-16 11:42:12.182972: I tensorflow/stream_executor/cuda/cuda_gpu_executor.cc:936] successful NUMA node read from SysFS had negative value (-1), but there must be at least one NUMA node, so returning NUMA node zero\n",
      "2022-07-16 11:42:12.183165: I tensorflow/stream_executor/cuda/cuda_gpu_executor.cc:936] successful NUMA node read from SysFS had negative value (-1), but there must be at least one NUMA node, so returning NUMA node zero\n",
      "2022-07-16 11:42:12.183346: I tensorflow/stream_executor/cuda/cuda_gpu_executor.cc:936] successful NUMA node read from SysFS had negative value (-1), but there must be at least one NUMA node, so returning NUMA node zero\n",
      "2022-07-16 11:42:12.183519: I tensorflow/stream_executor/cuda/cuda_gpu_executor.cc:936] successful NUMA node read from SysFS had negative value (-1), but there must be at least one NUMA node, so returning NUMA node zero\n",
      "2022-07-16 11:42:12.184225: I tensorflow/stream_executor/cuda/cuda_gpu_executor.cc:936] successful NUMA node read from SysFS had negative value (-1), but there must be at least one NUMA node, so returning NUMA node zero\n"
     ]
    }
   ],
   "source": [
    "# Check GPU availibility-\n",
    "gpu_devices = tf.config.list_physical_devices('GPU')\n",
    "# print(f\"GPU: {gpu_devices}\")\n",
    "\n",
    "if gpu_devices:\n",
    "    print(f\"GPU: {gpu_devices}\")\n",
    "    details = tf.config.experimental.get_device_details(gpu_devices[0])\n",
    "    print(f\"GPU details: {details.get('device_name', 'Unknown GPU')}\")\n",
    "else:\n",
    "    print(\"No GPU found\")"
   ]
  },
  {
   "cell_type": "code",
   "execution_count": null,
   "id": "f9725359-1db6-45f2-98d3-739d1c8f5621",
   "metadata": {},
   "outputs": [],
   "source": []
  },
  {
   "cell_type": "code",
   "execution_count": null,
   "id": "a0b6c97b-0be0-4f89-ba91-6a4b2e34b1f9",
   "metadata": {},
   "outputs": [],
   "source": []
  },
  {
   "cell_type": "code",
   "execution_count": 4,
   "id": "a93e5ee5-7894-4cf4-b970-2bdc3fbf71c7",
   "metadata": {},
   "outputs": [],
   "source": [
    "# Specify hyper-parameters\n",
    "batch_size = 256\n",
    "num_classes = 10\n",
    "num_epochs = 80"
   ]
  },
  {
   "cell_type": "code",
   "execution_count": 5,
   "id": "df51fd4e-30d4-4016-bf85-c09d04bb2021",
   "metadata": {},
   "outputs": [],
   "source": [
    "# A regularizer that applies a L2 regularization penalty-\n",
    "weight_decay = 0.001"
   ]
  },
  {
   "cell_type": "code",
   "execution_count": null,
   "id": "7f25986d-0578-4889-93b9-17777ec6f7ca",
   "metadata": {},
   "outputs": [],
   "source": []
  },
  {
   "cell_type": "code",
   "execution_count": null,
   "id": "ac172205-cefc-494d-a412-637363821a77",
   "metadata": {},
   "outputs": [],
   "source": []
  },
  {
   "cell_type": "markdown",
   "id": "21e4bcff-b8f6-4f88-890d-cd5190970567",
   "metadata": {},
   "source": [
    "### CIFAR-10 data pre-processing"
   ]
  },
  {
   "cell_type": "code",
   "execution_count": 6,
   "id": "a2b688fe-f3df-4983-a17c-8db2dcf9d4d2",
   "metadata": {},
   "outputs": [
    {
     "name": "stdout",
     "output_type": "stream",
     "text": [
      "'input_shape' which will be used = (32, 32, 3)\n",
      "\n"
     ]
    }
   ],
   "source": [
    "# Data preprocessing and cleaning:\n",
    "# input image dimensions\n",
    "img_rows, img_cols = 32, 32\n",
    "\n",
    "# Load CIFAR-10 dataset-\n",
    "(X_train, y_train), (X_test, y_test) = tf.keras.datasets.cifar10.load_data()\n",
    "\n",
    "if tf.keras.backend.image_data_format() == 'channels_first':\n",
    "    X_train = X_train.reshape(X_train.shape[0], 3, img_rows, img_cols)\n",
    "    X_test = X_test.reshape(X_test.shape[0], 3, img_rows, img_cols)\n",
    "    input_shape = (3, img_rows, img_cols)\n",
    "else:\n",
    "    X_train = X_train.reshape(X_train.shape[0], img_rows, img_cols, 3)\n",
    "    X_test = X_test.reshape(X_test.shape[0], img_rows, img_cols, 3)\n",
    "    input_shape = (img_rows, img_cols, 3)\n",
    "\n",
    "print(\"'input_shape' which will be used = {0}\\n\".format(input_shape))"
   ]
  },
  {
   "cell_type": "code",
   "execution_count": 7,
   "id": "962ddb0c-a9bb-4e9c-9194-c7404611f470",
   "metadata": {},
   "outputs": [],
   "source": [
    "# Convert datasets to floating point types-\n",
    "X_train = X_train.astype('float32')\n",
    "X_test = X_test.astype('float32')\n",
    "\n",
    "# Normalize the training and testing datasets-\n",
    "X_train /= 255.0\n",
    "X_test /= 255.0\n",
    "\n",
    "# convert class vectors/target to binary class matrices or one-hot encoded values-\n",
    "y_train = tf.keras.utils.to_categorical(y_train, num_classes)\n",
    "y_test = tf.keras.utils.to_categorical(y_test, num_classes)"
   ]
  },
  {
   "cell_type": "code",
   "execution_count": 8,
   "id": "dcdcfa7b-38af-422d-ae4a-883f90840c6a",
   "metadata": {},
   "outputs": [
    {
     "name": "stdout",
     "output_type": "stream",
     "text": [
      "\n",
      "Dimensions of training and testing sets are:\n",
      "X_train.shape = (50000, 32, 32, 3), y_train.shape = (50000, 10)\n",
      "X_test.shape = (10000, 32, 32, 3), y_test.shape = (10000, 10)\n"
     ]
    }
   ],
   "source": [
    "print(\"\\nDimensions of training and testing sets are:\")\n",
    "print(\"X_train.shape = {0}, y_train.shape = {1}\".format(X_train.shape, y_train.shape))\n",
    "print(\"X_test.shape = {0}, y_test.shape = {1}\".format(X_test.shape, y_test.shape))"
   ]
  },
  {
   "cell_type": "code",
   "execution_count": null,
   "id": "695727f9-5ead-4235-96c6-ff9ce5bb63a6",
   "metadata": {},
   "outputs": [],
   "source": []
  },
  {
   "cell_type": "code",
   "execution_count": 9,
   "id": "6acab034-c5f0-4b19-b5bb-68e7cdfc66f0",
   "metadata": {},
   "outputs": [
    {
     "name": "stderr",
     "output_type": "stream",
     "text": [
      "2022-07-16 11:42:19.704446: I tensorflow/core/platform/cpu_feature_guard.cc:151] This TensorFlow binary is optimized with oneAPI Deep Neural Network Library (oneDNN) to use the following CPU instructions in performance-critical operations:  AVX2 FMA\n",
      "To enable them in other operations, rebuild TensorFlow with the appropriate compiler flags.\n",
      "2022-07-16 11:42:19.837047: I tensorflow/stream_executor/cuda/cuda_gpu_executor.cc:936] successful NUMA node read from SysFS had negative value (-1), but there must be at least one NUMA node, so returning NUMA node zero\n",
      "2022-07-16 11:42:19.837224: I tensorflow/stream_executor/cuda/cuda_gpu_executor.cc:936] successful NUMA node read from SysFS had negative value (-1), but there must be at least one NUMA node, so returning NUMA node zero\n",
      "2022-07-16 11:42:19.837356: I tensorflow/stream_executor/cuda/cuda_gpu_executor.cc:936] successful NUMA node read from SysFS had negative value (-1), but there must be at least one NUMA node, so returning NUMA node zero\n",
      "2022-07-16 11:42:19.837478: I tensorflow/stream_executor/cuda/cuda_gpu_executor.cc:936] successful NUMA node read from SysFS had negative value (-1), but there must be at least one NUMA node, so returning NUMA node zero\n",
      "2022-07-16 11:42:19.837591: I tensorflow/stream_executor/cuda/cuda_gpu_executor.cc:936] successful NUMA node read from SysFS had negative value (-1), but there must be at least one NUMA node, so returning NUMA node zero\n",
      "2022-07-16 11:42:19.837703: I tensorflow/stream_executor/cuda/cuda_gpu_executor.cc:936] successful NUMA node read from SysFS had negative value (-1), but there must be at least one NUMA node, so returning NUMA node zero\n",
      "2022-07-16 11:42:20.209943: I tensorflow/stream_executor/cuda/cuda_gpu_executor.cc:936] successful NUMA node read from SysFS had negative value (-1), but there must be at least one NUMA node, so returning NUMA node zero\n",
      "2022-07-16 11:42:20.210150: I tensorflow/stream_executor/cuda/cuda_gpu_executor.cc:936] successful NUMA node read from SysFS had negative value (-1), but there must be at least one NUMA node, so returning NUMA node zero\n",
      "2022-07-16 11:42:20.210301: I tensorflow/stream_executor/cuda/cuda_gpu_executor.cc:936] successful NUMA node read from SysFS had negative value (-1), but there must be at least one NUMA node, so returning NUMA node zero\n",
      "2022-07-16 11:42:20.210444: I tensorflow/stream_executor/cuda/cuda_gpu_executor.cc:936] successful NUMA node read from SysFS had negative value (-1), but there must be at least one NUMA node, so returning NUMA node zero\n",
      "2022-07-16 11:42:20.210583: I tensorflow/stream_executor/cuda/cuda_gpu_executor.cc:936] successful NUMA node read from SysFS had negative value (-1), but there must be at least one NUMA node, so returning NUMA node zero\n",
      "2022-07-16 11:42:20.210717: I tensorflow/core/common_runtime/gpu/gpu_device.cc:1525] Created device /job:localhost/replica:0/task:0/device:GPU:0 with 8096 MB memory:  -> device: 0, name: NVIDIA GeForce RTX 3080, pci bus id: 0000:04:00.0, compute capability: 8.6\n",
      "2022-07-16 11:42:20.210996: I tensorflow/stream_executor/cuda/cuda_gpu_executor.cc:936] successful NUMA node read from SysFS had negative value (-1), but there must be at least one NUMA node, so returning NUMA node zero\n",
      "2022-07-16 11:42:20.211119: I tensorflow/core/common_runtime/gpu/gpu_device.cc:1525] Created device /job:localhost/replica:0/task:0/device:GPU:1 with 8004 MB memory:  -> device: 1, name: NVIDIA GeForce RTX 3080, pci bus id: 0000:09:00.0, compute capability: 8.6\n"
     ]
    }
   ],
   "source": [
    "# Prepare CIFAR10 dataset for TensorFlow GradientTape training:\n",
    "\n",
    "# Create training and testing datasets-\n",
    "train_dataset = tf.data.Dataset.from_tensor_slices((X_train, y_train))\n",
    "test_dataset = tf.data.Dataset.from_tensor_slices((X_test, y_test))"
   ]
  },
  {
   "cell_type": "code",
   "execution_count": 10,
   "id": "85658351-6d68-4544-8e4a-7eccdb3d6fa0",
   "metadata": {},
   "outputs": [],
   "source": [
    "train_dataset = train_dataset.\\\n",
    "shuffle(buffer_size = 20000, reshuffle_each_iteration = True).\\\n",
    "batch(batch_size = batch_size, drop_remainder = False)\n",
    "test_dataset = test_dataset.batch(batch_size=batch_size, drop_remainder=False)"
   ]
  },
  {
   "cell_type": "code",
   "execution_count": null,
   "id": "830701b6-42d3-4a49-a943-8f544b66c3a7",
   "metadata": {},
   "outputs": [],
   "source": []
  },
  {
   "cell_type": "code",
   "execution_count": 11,
   "id": "82d04676-f55f-4e24-8a00-7cd525ae9dcb",
   "metadata": {},
   "outputs": [],
   "source": [
    "# Choose loss function for training-\n",
    "loss_fn = tf.keras.losses.CategoricalCrossentropy()"
   ]
  },
  {
   "cell_type": "code",
   "execution_count": 12,
   "id": "ef1b52a7-ea47-4d02-92a4-cb8b2e936d6b",
   "metadata": {},
   "outputs": [],
   "source": [
    "# Select metrics to measure the error & accuracy of model.\n",
    "# These metrics accumulate the values over epochs and then\n",
    "# print the overall result-\n",
    "train_loss = tf.keras.metrics.Mean(name = 'train_loss')\n",
    "train_accuracy = tf.keras.metrics.CategoricalAccuracy(name = 'train_accuracy')\n",
    "\n",
    "test_loss = tf.keras.metrics.Mean(name = 'test_loss')\n",
    "test_accuracy = tf.keras.metrics.CategoricalAccuracy(name = 'test_accuracy')"
   ]
  },
  {
   "cell_type": "code",
   "execution_count": null,
   "id": "ad1e8763-64bd-44c7-ae00-1fb7223c66c8",
   "metadata": {},
   "outputs": [],
   "source": []
  },
  {
   "cell_type": "code",
   "execution_count": null,
   "id": "1d216663-ffa9-416c-b892-ccd9f927562f",
   "metadata": {},
   "outputs": [],
   "source": []
  },
  {
   "cell_type": "markdown",
   "id": "daaa01cf-06a4-4236-9a35-3f670fbcfdbe",
   "metadata": {},
   "source": [
    "### ResNet-34 architecture\n",
    "\n",
    "__Deep Residual Learning for Image Recognition__ research paper by Kaiming He et al.\n",
    "\n",
    "Periodically, we double the number of filters and down sample spatially using stride = 2 (when we do that)."
   ]
  },
  {
   "cell_type": "code",
   "execution_count": 13,
   "id": "eb1d5360-99cd-40d4-9518-016cfd836a73",
   "metadata": {},
   "outputs": [],
   "source": [
    "class ResNet_Block(Layer):\n",
    "    \n",
    "    def __init__(\n",
    "        self, num_channels,\n",
    "        stride = 1, dropout = 0.2,\n",
    "        use_1x1_conv = False\n",
    "    ):\n",
    "        super(ResNet_Block, self).__init__()\n",
    "    \n",
    "        self.num_channels = num_channels\n",
    "        self.stride = stride\n",
    "        self.dropout = dropout\n",
    "        self.use_1x1_conv = use_1x1_conv\n",
    "    \n",
    "        \n",
    "        self.conv1 = Conv2D(\n",
    "            filters = self.num_channels, kernel_size = (3, 3),\n",
    "            strides = self.stride, padding = \"same\",\n",
    "            kernel_initializer = tf.keras.initializers.he_normal(),\n",
    "            use_bias = False\n",
    "        )\n",
    "        self.bn1 = BatchNormalization()\n",
    "    \n",
    "        self.conv2 = Conv2D(\n",
    "            filters = self.num_channels, kernel_size = (3, 3),\n",
    "            strides = 1, padding = \"same\",\n",
    "            kernel_initializer = tf.keras.initializers.he_normal(),\n",
    "            use_bias = False\n",
    "        )\n",
    "        self.bn2 = BatchNormalization()\n",
    "        self.dropout = Dropout(rate = self.dropout)\n",
    "        \n",
    "        if use_1x1_conv:\n",
    "            self.conv3 = Conv2D(\n",
    "            filters = self.num_channels, kernel_size = (1, 1),\n",
    "            strides = self.stride, padding = \"same\",\n",
    "            kernel_initializer = tf.keras.initializers.he_normal(),\n",
    "            use_bias = False\n",
    "            )\n",
    "            self.bn3 = BatchNormalization()\n",
    "    \n",
    "    \n",
    "    def call(self, x):\n",
    "        y = tf.nn.relu(self.bn1(self.conv1(x)))\n",
    "        y = self.bn2(self.conv2(y))\n",
    "        \n",
    "        if self.use_1x1_conv:\n",
    "            x = self.bn3(self.conv3(x))\n",
    "            \n",
    "        y += x\n",
    "        return tf.nn.relu(self.dropout(y))\n",
    "    \n",
    "    \n",
    "    def shape_computation(self, x):\n",
    "        print(f\"Input shape: {x.shape}\")\n",
    "        y = tf.nn.relu(self.bn1(self.conv1(x)))\n",
    "        print(f\"First conv layer output shape: {y.shape}\")\n",
    "        y = self.bn2(self.conv2(y))\n",
    "        print(f\"Second conv layer output shape: {y.shape}\")\n",
    "        \n",
    "        if self.use_1x1_conv:\n",
    "            x = self.bn3(self.conv3(x))\n",
    "            print(f\"Downsample with S = 2; identity connection output shape: {x.shape}\")\n",
    "            \n",
    "        y += x\n",
    "        print(f\"Residual block output shape: {y.shape}\")\n",
    "        return None\n",
    "    "
   ]
  },
  {
   "cell_type": "code",
   "execution_count": null,
   "id": "3350a164-d8df-40b6-a8e6-e0bc90d912bb",
   "metadata": {},
   "outputs": [],
   "source": []
  },
  {
   "cell_type": "code",
   "execution_count": 14,
   "id": "e85a9ba8-25bf-419e-99c1-24a071cb0615",
   "metadata": {},
   "outputs": [],
   "source": [
    "class ResNet34(Model):\n",
    "    def __init__(self):\n",
    "        super(ResNet34, self).__init__()\n",
    "        \n",
    "        self.conv1 = Conv2D(\n",
    "            filters = 64, kernel_size = (3, 3),\n",
    "            strides = 1, padding = \"same\",\n",
    "            kernel_initializer = tf.keras.initializers.he_normal(),\n",
    "            use_bias = False, kernel_regularizer = regularizers.l2(weight_decay)\n",
    "        )\n",
    "        self.bn1 = BatchNormalization()\n",
    "        \n",
    "        self.resblock1 = ResNet_Block(\n",
    "            num_channels = 64, stride = 1,\n",
    "            dropout = 0.2, use_1x1_conv = False\n",
    "        )\n",
    "        \n",
    "        self.resblock2 = ResNet_Block(\n",
    "            num_channels = 64, stride = 1,\n",
    "            dropout = 0.2, use_1x1_conv = False\n",
    "        )\n",
    "        \n",
    "        self.resblock3 = ResNet_Block(\n",
    "            num_channels = 64, stride = 1,\n",
    "            dropout = 0.2, use_1x1_conv = False\n",
    "        )\n",
    "\n",
    "        # Downsample-\n",
    "        self.resblock4 = ResNet_Block(\n",
    "            num_channels = 128, stride = 2,\n",
    "            dropout = 0.2, use_1x1_conv = True\n",
    "        )\n",
    "\n",
    "        self.resblock5 = ResNet_Block(\n",
    "            num_channels = 128, stride = 1,\n",
    "            dropout = 0.2, use_1x1_conv = False\n",
    "        )\n",
    "        \n",
    "        self.resblock6 = ResNet_Block(\n",
    "            num_channels = 128, stride = 1,\n",
    "            dropout = 0.2, use_1x1_conv = False\n",
    "        )\n",
    "        \n",
    "        self.resblock7 = ResNet_Block(\n",
    "            num_channels = 128, stride = 1,\n",
    "            dropout = 0.2, use_1x1_conv = False\n",
    "        )\n",
    "\n",
    "        # Downsample-\n",
    "        self.resblock8 = ResNet_Block(\n",
    "            num_channels = 256, stride = 2,\n",
    "            dropout = 0.2, use_1x1_conv = True\n",
    "        )\n",
    "\n",
    "        self.resblock9 = ResNet_Block(\n",
    "            num_channels = 256, stride = 1,\n",
    "            dropout = 0.2, use_1x1_conv = False\n",
    "        )\n",
    "        \n",
    "        self.resblock10 = ResNet_Block(\n",
    "            num_channels = 256, stride = 1,\n",
    "            dropout = 0.2, use_1x1_conv = False\n",
    "        )\n",
    "        \n",
    "        self.resblock11 = ResNet_Block(\n",
    "            num_channels = 256, stride = 1,\n",
    "            dropout = 0.2, use_1x1_conv = False\n",
    "        )\n",
    "        \n",
    "        self.resblock12 = ResNet_Block(\n",
    "            num_channels = 256, stride = 1,\n",
    "            dropout = 0.2, use_1x1_conv = False\n",
    "        )\n",
    "        \n",
    "        self.resblock13 = ResNet_Block(\n",
    "            num_channels = 256, stride = 1,\n",
    "            dropout = 0.2, use_1x1_conv = False\n",
    "        )\n",
    "\n",
    "        # Downsample-\n",
    "        self.resblock14 = ResNet_Block(\n",
    "            num_channels = 512, stride = 2,\n",
    "            dropout = 0.2, use_1x1_conv = True\n",
    "        )\n",
    "\n",
    "        self.resblock15 = ResNet_Block(\n",
    "            num_channels = 512, stride = 1,\n",
    "            dropout = 0.2, use_1x1_conv = False\n",
    "        )\n",
    "        \n",
    "        self.resblock16 = ResNet_Block(\n",
    "            num_channels = 512, stride = 1,\n",
    "            dropout = 0.2, use_1x1_conv = False\n",
    "        )\n",
    "\n",
    "        self.avg_pool = GlobalAveragePooling2D()\n",
    "        self.output_layer = Dense(units = 10, activation = None)\n",
    "\n",
    "\n",
    "\n",
    "    def call(self, x):\n",
    "        x = tf.nn.relu(self.bn1(self.conv1(x)))\n",
    "        x = self.resblock1(x)\n",
    "        x = self.resblock2(x)\n",
    "        x = self.resblock3(x)\n",
    "        x = self.resblock4(x)\n",
    "        x = self.resblock5(x)\n",
    "        x = self.resblock6(x)\n",
    "        x = self.resblock7(x)\n",
    "        x = self.resblock8(x)\n",
    "        x = self.resblock9(x)\n",
    "        x = self.resblock10(x)\n",
    "        x = self.resblock11(x)\n",
    "        x = self.resblock12(x)\n",
    "        x = self.resblock13(x)\n",
    "        x = self.resblock14(x)\n",
    "        x = self.resblock15(x)\n",
    "        x = self.resblock16(x)\n",
    "        x = self.avg_pool(x)\n",
    "        x = tf.nn.softmax(self.output_layer(x))\n",
    "        return x\n",
    "    \n",
    "    \n",
    "    def shape_computation(self, x):\n",
    "        print(f\"Input shape: {x.shape}\")\n",
    "        x = tf.nn.relu(self.bn1(self.conv1(x)))\n",
    "        print(f\"First conv layer output shape: {x.shape}\")\n",
    "        x = self.resblock1(x)\n",
    "        print(f\"First Residual block output shape: {x.shape}\")\n",
    "        x = self.resblock2(x)\n",
    "        print(f\"Second Residual block output shape: {x.shape}\")\n",
    "        x = self.resblock3(x)\n",
    "        print(f\"Third Residual block output shape: {x.shape}\")\n",
    "        x = self.resblock4(x)\n",
    "        print(f\"Forth Residual block output shape: {x.shape}\")\n",
    "        x = self.resblock5(x)\n",
    "        print(f\"Fifth Residual block output shape: {x.shape}\")\n",
    "        x = self.resblock6(x)\n",
    "        print(f\"Sixth Residual block output shape: {x.shape}\")\n",
    "        x = self.resblock7(x)\n",
    "        print(f\"Seventh Residual block output shape: {x.shape}\")\n",
    "        x = self.resblock8(x)\n",
    "        print(f\"Eigth Residual block output shape: {x.shape}\")\n",
    "        x = self.resblock9(x)\n",
    "        print(f\"Ninth Residual block output shape: {x.shape}\")\n",
    "        x = self.resblock10(x)\n",
    "        print(f\"Tenth Residual block output shape: {x.shape}\")\n",
    "        x = self.resblock11(x)\n",
    "        print(f\"Eleventh Residual block output shape: {x.shape}\")\n",
    "        x = self.resblock12(x)\n",
    "        print(f\"Twelth Residual block output shape: {x.shape}\")\n",
    "        x = self.resblock13(x)\n",
    "        print(f\"Thirteenth Residual block output shape: {x.shape}\")\n",
    "        x = self.resblock14(x)\n",
    "        print(f\"Fourteenth Residual block output shape: {x.shape}\")\n",
    "        x = self.resblock15(x)\n",
    "        print(f\"Fifteenth Residual block output shape: {x.shape}\")\n",
    "        x = self.resblock16(x)\n",
    "        print(f\"Sixteenth Residual block output shape: {x.shape}\")\n",
    "        x = self.avg_pool(x)\n",
    "        print(f\"Global Average Pool 2D output shape: {x.shape}\")\n",
    "        x = tf.nn.softmax(self.output_layer(x))\n",
    "        print(f\"Output layer shape: {x.shape}\")\n",
    "        del x\n",
    "        return None\n",
    "    "
   ]
  },
  {
   "cell_type": "code",
   "execution_count": null,
   "id": "9ea3673e-a206-455d-bcbe-d03744ced4b1",
   "metadata": {},
   "outputs": [],
   "source": []
  },
  {
   "cell_type": "code",
   "execution_count": null,
   "id": "0512a2f7-2f00-4d99-a0a0-dce1d44e6838",
   "metadata": {},
   "outputs": [],
   "source": []
  },
  {
   "cell_type": "markdown",
   "id": "5e94b34d-fb58-427c-bc3d-db3b9cb01861",
   "metadata": {},
   "source": [
    "### [Distributed training with TensorFlow](https://www.tensorflow.org/guide/distributed_training#mirroredstrategy)\n",
    "\n",
    "##### MirroredStrategy\n",
    "\n",
    "```tf.distribute.MirroredStrategy``` supports synchronous distributed training on multiple GPUs on one machine. It creates one replica per GPU device. Each variable in the model is mirrored across all the replicas. Together, these variables form a single conceptual variable called ```MirroredVariable```. These variables are kept in sync with each other by applying identical updates.\n",
    "\n",
    "Efficient all-reduce algorithms are used to communicate the variable updates across the devices. All-reduce aggregates tensors across all the devices by adding them up, and makes them available on each device. It’s a fused algorithm that is very efficient and can reduce the overhead of synchronization significantly. There are many all-reduce algorithms and implementations available, depending on the type of communication available between devices. By default, it uses the NVIDIA Collective Communication Library (NCCL) as the all-reduce implementation. You can choose from a few other options or write your own.\n",
    "\n",
    "A simple way of creating ```MirroredStrategy``` is shown below, for more details refere [here](https://www.tensorflow.org/guide/distributed_training#mirroredstrategy)."
   ]
  },
  {
   "cell_type": "code",
   "execution_count": 15,
   "id": "a3fd413f-712e-491c-8721-e9045d7f0200",
   "metadata": {},
   "outputs": [
    {
     "name": "stdout",
     "output_type": "stream",
     "text": [
      "INFO:tensorflow:Using MirroredStrategy with devices ('/job:localhost/replica:0/task:0/device:GPU:0', '/job:localhost/replica:0/task:0/device:GPU:1')\n"
     ]
    }
   ],
   "source": [
    "# Multi-GPU training-\n",
    "mirrored_strategy = tf.distribute.MirroredStrategy(devices=[\"/gpu:0\", \"/gpu:1\"])"
   ]
  },
  {
   "cell_type": "code",
   "execution_count": null,
   "id": "69a99154-5e6c-4ac8-90ef-ca7657ec0fcb",
   "metadata": {},
   "outputs": [],
   "source": []
  },
  {
   "cell_type": "code",
   "execution_count": 17,
   "id": "1e1e8e75-4d6b-49f3-b171-be036de1b253",
   "metadata": {},
   "outputs": [],
   "source": [
    "with mirrored_strategy.scope():\n",
    "    # Initialize ResNet-34 CNN architecture-\n",
    "    model = ResNet34()"
   ]
  },
  {
   "cell_type": "code",
   "execution_count": null,
   "id": "44465be5-c4ba-43dc-a5b3-6e9a07c5955b",
   "metadata": {},
   "outputs": [],
   "source": []
  },
  {
   "cell_type": "code",
   "execution_count": 18,
   "id": "0ae52057-71b3-4707-aec4-5f13538073fe",
   "metadata": {},
   "outputs": [
    {
     "data": {
      "text/plain": [
       "(TensorShape([256, 32, 32, 3]), TensorShape([256, 10]))"
      ]
     },
     "execution_count": 18,
     "metadata": {},
     "output_type": "execute_result"
    }
   ],
   "source": [
    "# Sanity check-\n",
    "x, y = next(iter(train_dataset))\n",
    "x.shape, y.shape"
   ]
  },
  {
   "cell_type": "code",
   "execution_count": 19,
   "id": "bbc9ffa1-2bde-4abc-8c1c-a481368ab3ad",
   "metadata": {},
   "outputs": [
    {
     "name": "stderr",
     "output_type": "stream",
     "text": [
      "2022-07-16 11:43:20.936376: I tensorflow/stream_executor/cuda/cuda_dnn.cc:368] Loaded cuDNN version 8400\n",
      "2022-07-16 11:43:21.875930: I tensorflow/stream_executor/cuda/cuda_blas.cc:1786] TensorFloat-32 will be used for the matrix multiplication. This will only be logged once.\n"
     ]
    }
   ],
   "source": [
    "out = model(x)"
   ]
  },
  {
   "cell_type": "code",
   "execution_count": 20,
   "id": "7a33bcbd-4670-40db-a5a7-0601cc5c2454",
   "metadata": {},
   "outputs": [
    {
     "data": {
      "text/plain": [
       "TensorShape([256, 10])"
      ]
     },
     "execution_count": 20,
     "metadata": {},
     "output_type": "execute_result"
    }
   ],
   "source": [
    "out.shape"
   ]
  },
  {
   "cell_type": "code",
   "execution_count": 21,
   "id": "ecf875c4-67fc-4509-bfb6-cdb11101e12d",
   "metadata": {},
   "outputs": [
    {
     "name": "stdout",
     "output_type": "stream",
     "text": [
      "Input shape: (256, 32, 32, 3)\n",
      "First conv layer output shape: (256, 32, 32, 64)\n",
      "First Residual block output shape: (256, 32, 32, 64)\n",
      "Second Residual block output shape: (256, 32, 32, 64)\n",
      "Third Residual block output shape: (256, 32, 32, 64)\n",
      "Forth Residual block output shape: (256, 16, 16, 128)\n",
      "Fifth Residual block output shape: (256, 16, 16, 128)\n",
      "Sixth Residual block output shape: (256, 16, 16, 128)\n",
      "Seventh Residual block output shape: (256, 16, 16, 128)\n",
      "Eigth Residual block output shape: (256, 8, 8, 256)\n",
      "Ninth Residual block output shape: (256, 8, 8, 256)\n",
      "Tenth Residual block output shape: (256, 8, 8, 256)\n",
      "Eleventh Residual block output shape: (256, 8, 8, 256)\n",
      "Twelth Residual block output shape: (256, 8, 8, 256)\n",
      "Thirteenth Residual block output shape: (256, 8, 8, 256)\n",
      "Fourteenth Residual block output shape: (256, 4, 4, 512)\n",
      "Fifteenth Residual block output shape: (256, 4, 4, 512)\n",
      "Sixteenth Residual block output shape: (256, 4, 4, 512)\n",
      "Global Average Pool 2D output shape: (256, 512)\n",
      "Output layer shape: (256, 10)\n"
     ]
    }
   ],
   "source": [
    "model.shape_computation(x)"
   ]
  },
  {
   "cell_type": "code",
   "execution_count": 22,
   "id": "0afc1931-7542-43ab-befa-fd4ddf99e036",
   "metadata": {},
   "outputs": [],
   "source": [
    "del x, y, out"
   ]
  },
  {
   "cell_type": "code",
   "execution_count": null,
   "id": "ed5729f4-3ece-423e-a670-7dcb69e34ce6",
   "metadata": {},
   "outputs": [],
   "source": []
  },
  {
   "cell_type": "code",
   "execution_count": 23,
   "id": "6efeb605-afef-4fd4-943b-76063dc579bd",
   "metadata": {},
   "outputs": [
    {
     "name": "stdout",
     "output_type": "stream",
     "text": [
      "layer: (3, 3, 3, 64) has 1728 params\n",
      "layer: (64,) has 64 params\n",
      "layer: (64,) has 0 params\n",
      "layer: (3, 3, 64, 64) has 36864 params\n",
      "layer: (64,) has 64 params\n",
      "layer: (64,) has 0 params\n",
      "layer: (3, 3, 64, 64) has 36864 params\n",
      "layer: (64,) has 64 params\n",
      "layer: (64,) has 0 params\n",
      "layer: (3, 3, 64, 64) has 36864 params\n",
      "layer: (64,) has 64 params\n",
      "layer: (64,) has 0 params\n",
      "layer: (3, 3, 64, 64) has 36864 params\n",
      "layer: (64,) has 64 params\n",
      "layer: (64,) has 0 params\n",
      "layer: (3, 3, 64, 64) has 36864 params\n",
      "layer: (64,) has 64 params\n",
      "layer: (64,) has 0 params\n",
      "layer: (3, 3, 64, 64) has 36864 params\n",
      "layer: (64,) has 64 params\n",
      "layer: (64,) has 0 params\n",
      "layer: (3, 3, 64, 128) has 73728 params\n",
      "layer: (128,) has 128 params\n",
      "layer: (128,) has 0 params\n",
      "layer: (3, 3, 128, 128) has 147456 params\n",
      "layer: (128,) has 128 params\n",
      "layer: (128,) has 0 params\n",
      "layer: (1, 1, 64, 128) has 8192 params\n",
      "layer: (128,) has 128 params\n",
      "layer: (128,) has 0 params\n",
      "layer: (3, 3, 128, 128) has 147456 params\n",
      "layer: (128,) has 128 params\n",
      "layer: (128,) has 0 params\n",
      "layer: (3, 3, 128, 128) has 147456 params\n",
      "layer: (128,) has 128 params\n",
      "layer: (128,) has 0 params\n",
      "layer: (3, 3, 128, 128) has 147456 params\n",
      "layer: (128,) has 128 params\n",
      "layer: (128,) has 0 params\n",
      "layer: (3, 3, 128, 128) has 147456 params\n",
      "layer: (128,) has 128 params\n",
      "layer: (128,) has 0 params\n",
      "layer: (3, 3, 128, 128) has 147456 params\n",
      "layer: (128,) has 128 params\n",
      "layer: (128,) has 0 params\n",
      "layer: (3, 3, 128, 128) has 147456 params\n",
      "layer: (128,) has 128 params\n",
      "layer: (128,) has 0 params\n",
      "layer: (3, 3, 128, 256) has 294912 params\n",
      "layer: (256,) has 256 params\n",
      "layer: (256,) has 0 params\n",
      "layer: (3, 3, 256, 256) has 589824 params\n",
      "layer: (256,) has 256 params\n",
      "layer: (256,) has 0 params\n",
      "layer: (1, 1, 128, 256) has 32768 params\n",
      "layer: (256,) has 256 params\n",
      "layer: (256,) has 0 params\n",
      "layer: (3, 3, 256, 256) has 589824 params\n",
      "layer: (256,) has 256 params\n",
      "layer: (256,) has 0 params\n",
      "layer: (3, 3, 256, 256) has 589824 params\n",
      "layer: (256,) has 256 params\n",
      "layer: (256,) has 0 params\n",
      "layer: (3, 3, 256, 256) has 589824 params\n",
      "layer: (256,) has 256 params\n",
      "layer: (256,) has 0 params\n",
      "layer: (3, 3, 256, 256) has 589824 params\n",
      "layer: (256,) has 256 params\n",
      "layer: (256,) has 0 params\n",
      "layer: (3, 3, 256, 256) has 589824 params\n",
      "layer: (256,) has 256 params\n",
      "layer: (256,) has 0 params\n",
      "layer: (3, 3, 256, 256) has 589824 params\n",
      "layer: (256,) has 256 params\n",
      "layer: (256,) has 0 params\n",
      "layer: (3, 3, 256, 256) has 589824 params\n",
      "layer: (256,) has 256 params\n",
      "layer: (256,) has 0 params\n",
      "layer: (3, 3, 256, 256) has 589824 params\n",
      "layer: (256,) has 256 params\n",
      "layer: (256,) has 0 params\n",
      "layer: (3, 3, 256, 256) has 589824 params\n",
      "layer: (256,) has 256 params\n",
      "layer: (256,) has 0 params\n",
      "layer: (3, 3, 256, 256) has 589824 params\n",
      "layer: (256,) has 256 params\n",
      "layer: (256,) has 0 params\n",
      "layer: (3, 3, 256, 512) has 1179648 params\n",
      "layer: (512,) has 512 params\n",
      "layer: (512,) has 0 params\n",
      "layer: (3, 3, 512, 512) has 2359296 params\n",
      "layer: (512,) has 512 params\n",
      "layer: (512,) has 0 params\n",
      "layer: (1, 1, 256, 512) has 131072 params\n",
      "layer: (512,) has 512 params\n",
      "layer: (512,) has 0 params\n",
      "layer: (3, 3, 512, 512) has 2359296 params\n",
      "layer: (512,) has 512 params\n",
      "layer: (512,) has 0 params\n",
      "layer: (3, 3, 512, 512) has 2359296 params\n",
      "layer: (512,) has 512 params\n",
      "layer: (512,) has 0 params\n",
      "layer: (3, 3, 512, 512) has 2359295 params\n",
      "layer: (512,) has 512 params\n",
      "layer: (512,) has 0 params\n",
      "layer: (3, 3, 512, 512) has 2359294 params\n",
      "layer: (512,) has 512 params\n",
      "layer: (512,) has 0 params\n",
      "layer: (512, 10) has 5120 params\n",
      "layer: (10,) has 0 params\n"
     ]
    }
   ],
   "source": [
    "# Count number of trainable parameters in ResNet-18 model-\n",
    "tot_params = 0\n",
    "\n",
    "for layer in model.trainable_weights:\n",
    "    loc_params = tf.math.count_nonzero(layer, axis = None).numpy()\n",
    "    print(f\"layer: {layer.shape} has {loc_params} params\")\n",
    "    tot_params += loc_params"
   ]
  },
  {
   "cell_type": "code",
   "execution_count": 24,
   "id": "4c07442d-3424-4d8e-adba-b89377facf17",
   "metadata": {},
   "outputs": [
    {
     "name": "stdout",
     "output_type": "stream",
     "text": [
      "ResNet-34 has 21273597 trainable parameters\n"
     ]
    }
   ],
   "source": [
    "print(f\"ResNet-34 has {tot_params} trainable parameters\")"
   ]
  },
  {
   "cell_type": "code",
   "execution_count": 25,
   "id": "f8d9ac04-82b6-4a3a-9eca-fb0a2c09c4c6",
   "metadata": {},
   "outputs": [
    {
     "name": "stdout",
     "output_type": "stream",
     "text": [
      "Number of training weights = 21282122 and non-trainable weights = 17024\n",
      "Total number of parameters = 21299146\n"
     ]
    }
   ],
   "source": [
    "import tensorflow.keras.backend as K\n",
    "\n",
    "\n",
    "# METHOD-1: This also counts biases\n",
    "trainable_wts = np.sum([K.count_params(w) for w in model.trainable_weights])\n",
    "non_trainable_wts = np.sum([K.count_params(w) for w in model.non_trainable_weights])\n",
    "\n",
    "print(f\"Number of training weights = {trainable_wts} and non-trainable weights = {non_trainable_wts}\")\n",
    "print(f\"Total number of parameters = {trainable_wts + non_trainable_wts}\")"
   ]
  },
  {
   "cell_type": "code",
   "execution_count": 27,
   "id": "581118ce-2e17-4860-b82d-f168a388b562",
   "metadata": {},
   "outputs": [
    {
     "name": "stdout",
     "output_type": "stream",
     "text": [
      "According to tf.keras.backend: number of training weights = 21282122, non-trainable weights = 17024 and total number of parameters = 21299146\n",
      "According to tf.math.count_nonzero() method, total number of trainable weights = 21273597\n"
     ]
    }
   ],
   "source": [
    "print(f\"According to tf.keras.backend: number of training weights = {trainable_wts},\"\n",
    "      f\" non-trainable weights = {non_trainable_wts} and total number of parameters \"\n",
    "      f\"= {(trainable_wts + non_trainable_wts)}\")\n",
    "print(f\"According to tf.math.count_nonzero() method, total number of trainable weights = {tot_params}\")"
   ]
  },
  {
   "cell_type": "code",
   "execution_count": null,
   "id": "10831111-bf16-4337-83e5-a0c62620ab10",
   "metadata": {},
   "outputs": [],
   "source": []
  },
  {
   "cell_type": "markdown",
   "id": "752b9bae-c2e9-4cd9-b7f7-f90895171da1",
   "metadata": {},
   "source": [
    "#### Image Augmentation using ImageDataGenerator:\n",
    "\n",
    "[Reference](https://www.tensorflow.org/api_docs/python/tf/keras/preprocessing/image/ImageDataGenerator)"
   ]
  },
  {
   "cell_type": "code",
   "execution_count": 28,
   "id": "8643a11c-e129-4701-b77f-dbb61c7d7cc5",
   "metadata": {},
   "outputs": [],
   "source": [
    "# Example of using 'tf.keras.preprocessing.image import ImageDataGenerator class's - flow(x, y)':\n",
    "datagen = ImageDataGenerator(\n",
    "    # featurewise_center=True,\n",
    "    # featurewise_std_normalization=True,\n",
    "    rotation_range = 15,\n",
    "    width_shift_range = 0.1, # 0.2\n",
    "    height_shift_range = 0.1, # 0.2\n",
    "    horizontal_flip = True\n",
    ")\n",
    "\n",
    "# flow():\n",
    "# Takes data & label arrays, generates batches of augmented data.\n",
    "\n",
    "# datagen.flow(X_train, y_train, batch_size=batch_size, shuffle=True)"
   ]
  },
  {
   "cell_type": "code",
   "execution_count": 29,
   "id": "70720d33-4d9a-4e40-838e-c73695486135",
   "metadata": {},
   "outputs": [],
   "source": [
    "# compute quantities required for featurewise normalization\n",
    "# (std, mean, and principal components if ZCA whitening is applied)\n",
    "datagen.fit(X_train)"
   ]
  },
  {
   "cell_type": "code",
   "execution_count": null,
   "id": "f60458cc-c828-40ae-b2be-46eb6bf933e8",
   "metadata": {},
   "outputs": [],
   "source": []
  },
  {
   "cell_type": "code",
   "execution_count": null,
   "id": "df18ed13-f392-4397-9ed4-7fd844f9d3c1",
   "metadata": {},
   "outputs": [],
   "source": []
  },
  {
   "cell_type": "code",
   "execution_count": 30,
   "id": "54344882-6e3b-4a0b-afd0-12b885f9ab42",
   "metadata": {},
   "outputs": [],
   "source": [
    "def create_mask_np(model):\n",
    "    # Function to create np mask using TF2 neural\n",
    "    # network 'model' as input.\n",
    "    \n",
    "    # Python3 list to contain masks-\n",
    "    mask_model = []\n",
    "    \n",
    "    for layer in model.trainable_weights:\n",
    "        m = np.ones_like(layer, dtype = np.int8)\n",
    "        mask_model.append(m)\n",
    "        \n",
    "    return mask_model\n"
   ]
  },
  {
   "cell_type": "code",
   "execution_count": null,
   "id": "ff853047-64b3-4110-8427-915243d85ec4",
   "metadata": {},
   "outputs": [],
   "source": []
  },
  {
   "cell_type": "code",
   "execution_count": 31,
   "id": "766b2caf-681b-41f5-99c9-5af4c103ca64",
   "metadata": {},
   "outputs": [],
   "source": [
    "# Sanity check-\n",
    "mask_model = create_mask_np(model = model)"
   ]
  },
  {
   "cell_type": "code",
   "execution_count": null,
   "id": "8611f97c-a2f0-4db1-86ea-272dcf1edb5c",
   "metadata": {},
   "outputs": [],
   "source": []
  },
  {
   "cell_type": "code",
   "execution_count": 32,
   "id": "abc29343-4e94-4fd1-89ed-147611ac7eea",
   "metadata": {},
   "outputs": [],
   "source": [
    "def count_nonzero_masks(mask_model):\n",
    "    # Count non-zero masks using Python3 'mask_model'\n",
    "    # list of np arrays as input.\n",
    "    \n",
    "    tot_masks = 0\n",
    "    for x in mask_model:\n",
    "        loc_masks = np.count_nonzero(x)\n",
    "        tot_masks += loc_masks\n",
    "        # print(f\"mask.shape: {x.shape} has {np.count_nonzero(x)} masks\")\n",
    "        \n",
    "    return tot_masks\n"
   ]
  },
  {
   "cell_type": "code",
   "execution_count": 33,
   "id": "4d9e3071-6404-40d4-9c21-0d02b0cae53a",
   "metadata": {},
   "outputs": [],
   "source": [
    "def count_params(model):\n",
    "    # Function to count number of non-zero parameters.\n",
    "    model_sum_params = 0\n",
    "\n",
    "    for layer in model.trainable_weights:\n",
    "        # print(tf.math.count_nonzero(layer, axis = None).numpy())\n",
    "        model_sum_params += tf.math.count_nonzero(layer, axis = None).numpy()\n",
    "    \n",
    "    return model_sum_params\n",
    "    \n"
   ]
  },
  {
   "cell_type": "code",
   "execution_count": null,
   "id": "5c62bd89-6829-4e02-8d5c-6228776f8543",
   "metadata": {},
   "outputs": [],
   "source": []
  },
  {
   "cell_type": "code",
   "execution_count": 34,
   "id": "7880abd5-4efb-49e4-a408-7a4a885a81c2",
   "metadata": {},
   "outputs": [
    {
     "name": "stdout",
     "output_type": "stream",
     "text": [
      " total # of params = 21273597 & # of masks = 21282122\n"
     ]
    }
   ],
   "source": [
    "print(f\" total # of params = {tot_params} & # of masks = \"\n",
    "      f\"{count_nonzero_masks(mask_model = mask_model)}\")"
   ]
  },
  {
   "cell_type": "code",
   "execution_count": null,
   "id": "da94501b-baec-458b-9aa4-a5eb2ca0ab84",
   "metadata": {},
   "outputs": [],
   "source": []
  },
  {
   "cell_type": "code",
   "execution_count": null,
   "id": "855a5171-d0fb-444b-95be-d72ac3224650",
   "metadata": {},
   "outputs": [],
   "source": []
  },
  {
   "cell_type": "markdown",
   "id": "b9059492-2d63-40d1-b596-514dc152cf75",
   "metadata": {},
   "source": [
    "### Learning rate warmup:\n",
    "\n",
    "Using a large learning rate may result in numerical instability especially at the very beginning of training where parameters are randomly initialized. The warmup strategy increases the learning rate from 0 to the initial learning rate linearly during the initial __N__ epochs or __m__ batches.\n",
    "\n",
    "Even though Keras already came with the LearningRateScheduler capable of updating the learning rate for each training epoch, in order to achieve finer updates for each batch, the following code is how you can implement a custom Keras callback to do that."
   ]
  },
  {
   "cell_type": "code",
   "execution_count": 35,
   "id": "83823d03-c7d6-4049-b6bc-02d4ee0d49b2",
   "metadata": {},
   "outputs": [],
   "source": [
    "from typing import Callable, List, Optional, Union"
   ]
  },
  {
   "cell_type": "code",
   "execution_count": 36,
   "id": "28152ab6-8d1b-4513-89ad-84a6e798bb71",
   "metadata": {},
   "outputs": [],
   "source": [
    "class WarmUp(tf.keras.optimizers.schedules.LearningRateSchedule):\n",
    "    \"\"\"\n",
    "    Applies a warmup schedule on a given learning rate decay schedule.\n",
    "\n",
    "    Args:\n",
    "        initial_learning_rate (:obj:`float`):\n",
    "            The initial learning rate for the schedule after the warmup (so this will be the learning rate at the end\n",
    "            of the warmup).\n",
    "            \n",
    "        decay_schedule_fn (:obj:`Callable`):\n",
    "            The schedule function to apply after the warmup for the rest of training.\n",
    "        \n",
    "        warmup_steps (:obj:`int`):\n",
    "            The number of steps for the warmup part of training.\n",
    "        \n",
    "        power (:obj:`float`, `optional`, defaults to 1):\n",
    "            The power to use for the polynomial warmup (defaults is a linear warmup).\n",
    "        \n",
    "        name (:obj:`str`, `optional`):\n",
    "            Optional name prefix for the returned tensors during the schedule.\n",
    "    \"\"\"\n",
    "\n",
    "    def __init__(\n",
    "        self,\n",
    "        initial_learning_rate: float,\n",
    "        decay_schedule_fn: Callable,\n",
    "        warmup_steps: int,\n",
    "        power: float = 1.0,\n",
    "        name: str = None,\n",
    "    ):\n",
    "        super().__init__()\n",
    "        self.initial_learning_rate = initial_learning_rate\n",
    "        self.warmup_steps = warmup_steps\n",
    "        self.power = power\n",
    "        self.decay_schedule_fn = decay_schedule_fn\n",
    "        self.name = name\n",
    "\n",
    "    def __call__(self, step):\n",
    "        with tf.name_scope(self.name or \"WarmUp\") as name:\n",
    "            # Implements polynomial warmup. i.e., if global_step < warmup_steps, the\n",
    "            # learning rate will be `global_step/num_warmup_steps * init_lr`.\n",
    "            global_step_float = tf.cast(step, tf.float32)\n",
    "            warmup_steps_float = tf.cast(self.warmup_steps, tf.float32)\n",
    "            warmup_percent_done = global_step_float / warmup_steps_float\n",
    "            warmup_learning_rate = self.initial_learning_rate * tf.math.pow(warmup_percent_done, self.power)\n",
    "            return tf.cond(\n",
    "                global_step_float < warmup_steps_float,\n",
    "                lambda: warmup_learning_rate,\n",
    "                lambda: self.decay_schedule_fn(step - self.warmup_steps),\n",
    "                name=name,\n",
    "            )\n",
    "\n",
    "    def get_config(self):\n",
    "        return {\n",
    "            \"initial_learning_rate\": self.initial_learning_rate,\n",
    "            \"decay_schedule_fn\": self.decay_schedule_fn,\n",
    "            \"warmup_steps\": self.warmup_steps,\n",
    "            \"power\": self.power,\n",
    "            \"name\": self.name,\n",
    "        }\n",
    "    "
   ]
  },
  {
   "cell_type": "code",
   "execution_count": null,
   "id": "693608f8-6c49-46da-add3-0d7489a0a609",
   "metadata": {},
   "outputs": [],
   "source": []
  },
  {
   "cell_type": "code",
   "execution_count": 37,
   "id": "2ba54b0e-98b0-4476-909a-292de69974c6",
   "metadata": {},
   "outputs": [
    {
     "name": "stdout",
     "output_type": "stream",
     "text": [
      "CIFAR-10: Using a batch size of 256 gives 195.3125 training steps\n"
     ]
    }
   ],
   "source": [
    "print(f\"CIFAR-10: Using a batch size of {batch_size} gives {len(X_train) / batch_size} training steps\")"
   ]
  },
  {
   "cell_type": "code",
   "execution_count": null,
   "id": "78f7d2b9-24bc-44b8-a693-de2dad030352",
   "metadata": {},
   "outputs": [],
   "source": []
  },
  {
   "cell_type": "markdown",
   "id": "ee754214-bd62-4dce-9b8b-b36a5f0ab64c",
   "metadata": {},
   "source": [
    "### Train model with learning rate scheduler\n",
    "\n",
    "Training dataset = 50000, batch size = 256, number of training steps/iterations per epoch = 50000 / 256 = 195.3125 = 195\n",
    "\n",
    "After an initial linear learning rate warmup of 13 epochs or 2539 training steps:\n",
    "\n",
    "- For the next 32 epochs, or, 6250 steps - until 43rd epoch, use lr = 0.1.\n",
    "\n",
    "- For the next 25 epochs, or, 4882 steps - until 68th epoch, use lr = 0.01.\n",
    "\n",
    "- For remaining epochs (13 epochs), use lr = 0.001."
   ]
  },
  {
   "cell_type": "code",
   "execution_count": 38,
   "id": "90da50b0-2c76-428a-bb0e-375494f1123d",
   "metadata": {},
   "outputs": [],
   "source": [
    "boundaries = [6250, 11132]\n",
    "values = [0.1, 0.01, 0.001]"
   ]
  },
  {
   "cell_type": "markdown",
   "id": "42f432f8-a84c-4cb4-b569-ace83c67a4f5",
   "metadata": {},
   "source": [
    "tf.keras.optimizers.schedules.PiecewiseConstantDecay\n",
    "\n",
    "A LearningRateSchedule that uses a piecewise constant decay schedule. Inherits From: ```LearningRateSchedule```\n",
    "\n",
    "tf.keras.optimizers.schedules.PiecewiseConstantDecay(\n",
    "    boundaries, values, name=None\n",
    ")\n",
    "\n",
    "The function returns a 1-arg callable to compute the piecewise constant when passed the current optimizer step. This can be useful for changing the learning rate value across different invocations of optimizer functions.\n",
    "\n",
    "Example: use a learning rate that's 1.0 for the first 100001 steps, 0.5 for the next 10000 steps, and 0.1 for any additional steps.\n",
    "\n",
    "```\n",
    "step = tf.Variable(0, trainable=False)\n",
    "boundaries = [100000, 110000]\n",
    "values = [1.0, 0.5, 0.1]\n",
    "learning_rate_fn = keras.optimizers.schedules.PiecewiseConstantDecay(\n",
    "    boundaries, values)\n",
    "\n",
    "# Later, whenever we perform an optimization step, we pass in the step.\n",
    "learning_rate = learning_rate_fn(step)\n",
    "```\n",
    "\n",
    "You can pass this schedule directly into a tf.keras.optimizers.Optimizer as the learning rate. The learning rate schedule is also serializable and deserializable using ```tf.keras.optimizers.schedules.serialize``` and ```tf.keras.optimizers.schedules.deserialize```.\n",
    "\n",
    "__Returns__ A 1-arg callable learning rate schedule that takes the current optimizer step and outputs the decayed learning rate, a scalar Tensor of the same type as the boundary tensors.\n",
    "\n",
    "The output of the 1-arg function that takes the ```step``` is ```values[0]``` when ```step <= boundaries[0]```, ```values[1]``` when ```step > boundaries[0]``` and ```step <= boundaries[1]```, ..., and ```values[-1]``` when ```step > boundaries[-1]```.\n",
    "\n",
    "[tf.keras.optimizers.schedules.PiecewiseConstantDecay](https://www.tensorflow.org/api_docs/python/tf/keras/optimizers/schedules/PiecewiseConstantDecay)"
   ]
  },
  {
   "cell_type": "code",
   "execution_count": 39,
   "id": "b08c7686-626b-4bd1-90cc-d7dcdcc5ffc1",
   "metadata": {},
   "outputs": [],
   "source": [
    "learning_rate_fn = tf.keras.optimizers.schedules.PiecewiseConstantDecay(boundaries, values)"
   ]
  },
  {
   "cell_type": "code",
   "execution_count": 40,
   "id": "1cab1272-4efc-4971-91e8-995d52a70805",
   "metadata": {},
   "outputs": [],
   "source": [
    "warmup_shcedule = WarmUp(initial_learning_rate = 0.1, decay_schedule_fn = learning_rate_fn, warmup_steps = 2539)"
   ]
  },
  {
   "cell_type": "code",
   "execution_count": 41,
   "id": "a413a4ef-4633-44fd-95c3-e412fbdb3002",
   "metadata": {},
   "outputs": [],
   "source": [
    "optimizer = tf.keras.optimizers.SGD(learning_rate = warmup_shcedule, momentum = 0.9, decay = 0.0, nesterov = False)"
   ]
  },
  {
   "cell_type": "code",
   "execution_count": null,
   "id": "f3f44596-d068-4c3f-a3ed-e607d04b4fe8",
   "metadata": {},
   "outputs": [],
   "source": []
  },
  {
   "cell_type": "code",
   "execution_count": null,
   "id": "ba1e01d2-c902-4836-af4a-6601751ded6d",
   "metadata": {},
   "outputs": [],
   "source": []
  },
  {
   "cell_type": "markdown",
   "id": "fc81ef37-d7ff-4fa2-9ebe-6f12798c9af6",
   "metadata": {},
   "source": [
    "### Train model using ```tf.GradientTape```:"
   ]
  },
  {
   "cell_type": "code",
   "execution_count": 42,
   "id": "8980ff09-f29a-475b-b26e-8afe9ba545d5",
   "metadata": {},
   "outputs": [],
   "source": [
    "# Define 'train_one_step()' and 'test_step()' functions here-\n",
    "@tf.function\n",
    "def train_one_step(model, mask_model, optimizer, x, y):\n",
    "    '''\n",
    "    Function to compute one step of gradient descent optimization\n",
    "    '''\n",
    "    with tf.GradientTape() as tape:\n",
    "        # Make predictions using defined model-\n",
    "        y_pred = model(x)\n",
    "\n",
    "        # Compute loss-\n",
    "        loss = loss_fn(y, y_pred)\n",
    "        \n",
    "    # Compute gradients wrt defined loss and weights and biases-\n",
    "    grads = tape.gradient(loss, model.trainable_variables)\n",
    "    \n",
    "    # type(grads)\n",
    "    # list\n",
    "    \n",
    "    # List to hold element-wise multiplication between-\n",
    "    # computed gradient and masks-\n",
    "    grad_mask_mul = []\n",
    "    \n",
    "    # Perform element-wise multiplication between computed gradients and masks-\n",
    "    '''\n",
    "    for grad_layer, mask in zip(grads, mask_model.trainable_weights):\n",
    "        grad_mask_mul.append(tf.math.multiply(grad_layer, mask))\n",
    "    '''\n",
    "    for grad_layer, mask in zip(grads, mask_model):\n",
    "        grad_mask_mul.append(\n",
    "            tf.math.multiply(\n",
    "                grad_layer, tf.cast(x = mask, dtype = tf.float32)\n",
    "                # grad_layer, tf.convert_to_tensor(value = mask, dtype = tf.float32)\n",
    "            )\n",
    "        )\n",
    "    \n",
    "    # Apply computed gradients to model's weights and biases-\n",
    "    optimizer.apply_gradients(zip(grad_mask_mul, model.trainable_variables))\n",
    "\n",
    "    # Compute accuracy-\n",
    "    train_loss(loss)\n",
    "    train_accuracy(y, y_pred)\n",
    "\n",
    "    return None\n"
   ]
  },
  {
   "cell_type": "code",
   "execution_count": 43,
   "id": "3708f332-b672-446f-88c8-ea35caec245a",
   "metadata": {},
   "outputs": [],
   "source": [
    "@tf.function\n",
    "def test_step(model, optimizer, data, labels):\n",
    "    \"\"\"\n",
    "    Function to test model performance\n",
    "    on testing dataset\n",
    "    \"\"\"\n",
    "    \n",
    "    predictions = model(data)\n",
    "    t_loss = loss_fn(labels, predictions)\n",
    "\n",
    "    test_loss(t_loss)\n",
    "    test_accuracy(labels, predictions)\n",
    "\n",
    "    return None\n"
   ]
  },
  {
   "cell_type": "code",
   "execution_count": null,
   "id": "4b5a24ed-aa72-452a-bc03-ba63d4b7f8d5",
   "metadata": {},
   "outputs": [],
   "source": []
  },
  {
   "cell_type": "code",
   "execution_count": 44,
   "id": "f990b040-39fd-4fd2-8bec-191a408d7f9d",
   "metadata": {},
   "outputs": [],
   "source": [
    "def train_till_convergence(model, mask_model):\n",
    "    \n",
    "    # Keep track of best validation accuracy-\n",
    "    best_val_acc = 0\n",
    "\n",
    "    \n",
    "    # Python3 dict to contain model training metrics-\n",
    "    train_hist = {}\n",
    "    \n",
    "    # Training Loop:\n",
    "    for epoch in range(num_epochs):\n",
    "    \n",
    "        # Reset the metrics at the start of the next epoch\n",
    "        train_loss.reset_states()\n",
    "        train_accuracy.reset_states()\n",
    "        test_loss.reset_states()\n",
    "        test_accuracy.reset_states()\n",
    "    \n",
    "        # variable to keep track of current training step-\n",
    "        curr_step = 0\n",
    "    \n",
    "        # Train using data augmentation (ImageDataGenerator())-\n",
    "        for x, y in datagen.flow(X_train, y_train, batch_size = batch_size, shuffle = True):\n",
    "            train_one_step(\n",
    "                model = model, mask_model = mask_model,\n",
    "                optimizer = optimizer, x = x,\n",
    "                y = y\n",
    "            )\n",
    "            \n",
    "            # print(\"current step = \", curr_step)\n",
    "            curr_step += 1\n",
    "        \n",
    "            # break out of infinite loop to end current training epoch-\n",
    "            if curr_step >= X_train.shape[0] // batch_size:\n",
    "                # print(\"\\nTerminating training (datagen.flow())\")\n",
    "                break\n",
    "\n",
    "        # Testing dataset-\n",
    "        for x_t, y_t in test_dataset:\n",
    "            test_step(\n",
    "                model = model, optimizer = optimizer,\n",
    "                data = x_t, labels = y_t\n",
    "            )\n",
    "\n",
    "    \n",
    "        print(f\"\\nEpoch = {epoch + 1}; loss = {train_loss.result().numpy():.4f}, accuracy = {train_accuracy.result().numpy() * 100:.3f}%\",\n",
    "              f\" val loss = {test_loss.result().numpy():.4f}, val acc = {test_accuracy.result().numpy() * 100:.3f}%\"\n",
    "              f\" LR = {optimizer._decayed_lr('float32').numpy():.6f} & step_val = {optimizer.iterations.numpy()}\"\n",
    "             )\n",
    "    \n",
    "        train_hist[epoch + 1] = {\n",
    "            'loss': train_loss.result().numpy(), 'acc': train_accuracy.result().numpy() * 100,\n",
    "            'val_loss': test_loss.result().numpy(), 'val_acc': test_accuracy.result().numpy() * 100,\n",
    "            'lr': optimizer._decayed_lr('float32').numpy(), 'step_val': optimizer.iterations.numpy()\n",
    "        }\n",
    "        \n",
    "        # Compute sparsity-\n",
    "        sparsity = (trainable_wts - count_params(model)) / tot_params * 100\n",
    "        \n",
    "        # Count number of non-zero parameters in each layer and in total-\n",
    "        print(f\"ResNet-34: total # of trainable parameters = {count_params(model = model)}, \"\n",
    "              f\"# of masks = {count_nonzero_masks(mask_model = mask_model)} & sparsity = {sparsity:.3f}%\"\n",
    "             )\n",
    "    \n",
    "    \n",
    "        # Save 'best' trained model so far-\n",
    "        if (test_accuracy.result() * 100 > best_val_acc):\n",
    "\n",
    "            # Update 'best_val_loss' variable to lowest loss encountered so far-\n",
    "            # best_val_loss = test_loss.result()\n",
    "        \n",
    "            # Update best val acc to highest val acc so far-\n",
    "            best_val_acc = test_accuracy.result() * 100\n",
    "        \n",
    "            # print(f\"Saving model with lowest val_loss = {test_loss.result():.4f}\\n\")\n",
    "            print(f\"Saving trained model with highest val_acc = {best_val_acc:.3f}%, sparsity = {sparsity:.3f}%\")\n",
    "        \n",
    "            # Save trained model with 'best' validation accuracy-\n",
    "            model.save_weights(f\"ResNet34_best_val_acc_{sparsity:.2f}.h5\", overwrite = True)\n",
    "    \n",
    "    \n",
    "    return model, train_hist\n"
   ]
  },
  {
   "cell_type": "code",
   "execution_count": null,
   "id": "7c231e52-7297-4db8-8d7d-2d6447ee67ce",
   "metadata": {},
   "outputs": [],
   "source": []
  },
  {
   "cell_type": "code",
   "execution_count": 45,
   "id": "dc8fb462-76b4-44d9-abcd-beb00c40eea9",
   "metadata": {},
   "outputs": [
    {
     "name": "stdout",
     "output_type": "stream",
     "text": [
      "\n",
      "Epoch = 1; loss = 7.9699, accuracy = 12.598%  val loss = 2.2523, val acc = 15.680% LR = 0.007680 & step_val = 195\n",
      "ResNet-34: total # of trainable parameters = 21282122, # of masks = 21282122 & sparsity = 0.000%\n",
      "Saving trained model with highest val_acc = 15.680%, sparsity = 0.000%\n",
      "\n",
      "Epoch = 2; loss = 2.2149, accuracy = 16.516%  val loss = 2.2351, val acc = 14.830% LR = 0.015360 & step_val = 390\n",
      "ResNet-34: total # of trainable parameters = 21282122, # of masks = 21282122 & sparsity = 0.000%\n",
      "\n",
      "Epoch = 3; loss = 2.1696, accuracy = 17.592%  val loss = 1.9618, val acc = 24.640% LR = 0.023041 & step_val = 585\n",
      "ResNet-34: total # of trainable parameters = 21282122, # of masks = 21282122 & sparsity = 0.000%\n",
      "Saving trained model with highest val_acc = 24.640%, sparsity = 0.000%\n",
      "\n",
      "Epoch = 4; loss = 1.8275, accuracy = 31.474%  val loss = 1.6946, val acc = 37.610% LR = 0.030721 & step_val = 780\n",
      "ResNet-34: total # of trainable parameters = 21282122, # of masks = 21282122 & sparsity = 0.000%\n",
      "Saving trained model with highest val_acc = 37.610%, sparsity = 0.000%\n",
      "\n",
      "Epoch = 5; loss = 1.6355, accuracy = 39.359%  val loss = 1.6117, val acc = 39.660% LR = 0.038401 & step_val = 975\n",
      "ResNet-34: total # of trainable parameters = 21282122, # of masks = 21282122 & sparsity = 0.000%\n",
      "Saving trained model with highest val_acc = 39.660%, sparsity = 0.000%\n",
      "\n",
      "Epoch = 6; loss = 1.5194, accuracy = 44.065%  val loss = 1.4238, val acc = 48.080% LR = 0.046081 & step_val = 1170\n",
      "ResNet-34: total # of trainable parameters = 21282122, # of masks = 21282122 & sparsity = 0.000%\n",
      "Saving trained model with highest val_acc = 48.080%, sparsity = 0.000%\n",
      "\n",
      "Epoch = 7; loss = 1.4152, accuracy = 48.241%  val loss = 1.2241, val acc = 55.580% LR = 0.053761 & step_val = 1365\n",
      "ResNet-34: total # of trainable parameters = 21282122, # of masks = 21282122 & sparsity = 0.000%\n",
      "Saving trained model with highest val_acc = 55.580%, sparsity = 0.000%\n",
      "\n",
      "Epoch = 8; loss = 1.2883, accuracy = 53.185%  val loss = 1.1615, val acc = 58.250% LR = 0.061442 & step_val = 1560\n",
      "ResNet-34: total # of trainable parameters = 21282122, # of masks = 21282122 & sparsity = 0.000%\n",
      "Saving trained model with highest val_acc = 58.250%, sparsity = 0.000%\n",
      "\n",
      "Epoch = 9; loss = 1.1578, accuracy = 58.175%  val loss = 1.0126, val acc = 64.430% LR = 0.069122 & step_val = 1755\n",
      "ResNet-34: total # of trainable parameters = 21282122, # of masks = 21282122 & sparsity = 0.000%\n",
      "Saving trained model with highest val_acc = 64.430%, sparsity = 0.000%\n",
      "\n",
      "Epoch = 10; loss = 1.0406, accuracy = 62.985%  val loss = 0.9342, val acc = 66.890% LR = 0.076802 & step_val = 1950\n",
      "ResNet-34: total # of trainable parameters = 21282122, # of masks = 21282122 & sparsity = 0.000%\n",
      "Saving trained model with highest val_acc = 66.890%, sparsity = 0.000%\n",
      "\n",
      "Epoch = 11; loss = 0.9477, accuracy = 66.352%  val loss = 0.8972, val acc = 69.010% LR = 0.084482 & step_val = 2145\n",
      "ResNet-34: total # of trainable parameters = 21282122, # of masks = 21282122 & sparsity = 0.000%\n",
      "Saving trained model with highest val_acc = 69.010%, sparsity = 0.000%\n",
      "\n",
      "Epoch = 12; loss = 0.8753, accuracy = 69.159%  val loss = 0.8119, val acc = 72.660% LR = 0.092162 & step_val = 2340\n",
      "ResNet-34: total # of trainable parameters = 21282122, # of masks = 21282122 & sparsity = 0.000%\n",
      "Saving trained model with highest val_acc = 72.660%, sparsity = 0.000%\n",
      "\n",
      "Epoch = 13; loss = 0.7931, accuracy = 72.226%  val loss = 0.7863, val acc = 73.380% LR = 0.099842 & step_val = 2535\n",
      "ResNet-34: total # of trainable parameters = 21282122, # of masks = 21282122 & sparsity = 0.000%\n",
      "Saving trained model with highest val_acc = 73.380%, sparsity = 0.000%\n",
      "\n",
      "Epoch = 14; loss = 0.7261, accuracy = 74.657%  val loss = 0.6723, val acc = 76.930% LR = 0.100000 & step_val = 2730\n",
      "ResNet-34: total # of trainable parameters = 21282122, # of masks = 21282122 & sparsity = 0.000%\n",
      "Saving trained model with highest val_acc = 76.930%, sparsity = 0.000%\n",
      "\n",
      "Epoch = 15; loss = 0.6883, accuracy = 76.062%  val loss = 0.6792, val acc = 76.420% LR = 0.100000 & step_val = 2925\n",
      "ResNet-34: total # of trainable parameters = 21282122, # of masks = 21282122 & sparsity = 0.000%\n",
      "\n",
      "Epoch = 16; loss = 0.6310, accuracy = 78.047%  val loss = 0.5751, val acc = 80.420% LR = 0.100000 & step_val = 3120\n",
      "ResNet-34: total # of trainable parameters = 21282122, # of masks = 21282122 & sparsity = 0.000%\n",
      "Saving trained model with highest val_acc = 80.420%, sparsity = 0.000%\n",
      "\n",
      "Epoch = 17; loss = 0.5936, accuracy = 79.429%  val loss = 0.6455, val acc = 78.810% LR = 0.100000 & step_val = 3315\n",
      "ResNet-34: total # of trainable parameters = 21282122, # of masks = 21282122 & sparsity = 0.000%\n",
      "\n",
      "Epoch = 18; loss = 0.5520, accuracy = 80.869%  val loss = 0.6062, val acc = 80.260% LR = 0.100000 & step_val = 3510\n",
      "ResNet-34: total # of trainable parameters = 21282122, # of masks = 21282122 & sparsity = 0.000%\n",
      "\n",
      "Epoch = 19; loss = 0.5179, accuracy = 81.959%  val loss = 0.6247, val acc = 79.800% LR = 0.100000 & step_val = 3705\n",
      "ResNet-34: total # of trainable parameters = 21282122, # of masks = 21282122 & sparsity = 0.000%\n",
      "\n",
      "Epoch = 20; loss = 0.5035, accuracy = 82.492%  val loss = 0.5602, val acc = 81.530% LR = 0.100000 & step_val = 3900\n",
      "ResNet-34: total # of trainable parameters = 21282122, # of masks = 21282122 & sparsity = 0.000%\n",
      "Saving trained model with highest val_acc = 81.530%, sparsity = 0.000%\n",
      "\n",
      "Epoch = 21; loss = 0.4648, accuracy = 83.896%  val loss = 0.5416, val acc = 82.690% LR = 0.100000 & step_val = 4095\n",
      "ResNet-34: total # of trainable parameters = 21282122, # of masks = 21282122 & sparsity = 0.000%\n",
      "Saving trained model with highest val_acc = 82.690%, sparsity = 0.000%\n",
      "\n",
      "Epoch = 22; loss = 0.4335, accuracy = 84.866%  val loss = 0.5224, val acc = 82.980% LR = 0.100000 & step_val = 4290\n",
      "ResNet-34: total # of trainable parameters = 21282122, # of masks = 21282122 & sparsity = 0.000%\n",
      "Saving trained model with highest val_acc = 82.980%, sparsity = 0.000%\n",
      "\n",
      "Epoch = 23; loss = 0.4277, accuracy = 85.218%  val loss = 0.4972, val acc = 84.400% LR = 0.100000 & step_val = 4485\n",
      "ResNet-34: total # of trainable parameters = 21282122, # of masks = 21282122 & sparsity = 0.000%\n",
      "Saving trained model with highest val_acc = 84.400%, sparsity = 0.000%\n",
      "\n",
      "Epoch = 24; loss = 0.4052, accuracy = 85.938%  val loss = 0.5445, val acc = 82.420% LR = 0.100000 & step_val = 4680\n",
      "ResNet-34: total # of trainable parameters = 21282122, # of masks = 21282122 & sparsity = 0.000%\n",
      "\n",
      "Epoch = 25; loss = 0.3821, accuracy = 86.729%  val loss = 0.4476, val acc = 85.440% LR = 0.100000 & step_val = 4875\n",
      "ResNet-34: total # of trainable parameters = 21282122, # of masks = 21282122 & sparsity = 0.000%\n",
      "Saving trained model with highest val_acc = 85.440%, sparsity = 0.000%\n",
      "\n",
      "Epoch = 26; loss = 0.3698, accuracy = 87.208%  val loss = 0.4903, val acc = 83.950% LR = 0.100000 & step_val = 5070\n",
      "ResNet-34: total # of trainable parameters = 21282122, # of masks = 21282122 & sparsity = 0.000%\n",
      "\n",
      "Epoch = 27; loss = 0.3560, accuracy = 87.534%  val loss = 0.4236, val acc = 86.600% LR = 0.100000 & step_val = 5265\n",
      "ResNet-34: total # of trainable parameters = 21282122, # of masks = 21282122 & sparsity = 0.000%\n",
      "Saving trained model with highest val_acc = 86.600%, sparsity = 0.000%\n",
      "\n",
      "Epoch = 28; loss = 0.3472, accuracy = 87.863%  val loss = 0.4369, val acc = 85.840% LR = 0.100000 & step_val = 5460\n",
      "ResNet-34: total # of trainable parameters = 21282122, # of masks = 21282122 & sparsity = 0.000%\n",
      "\n",
      "Epoch = 29; loss = 0.3304, accuracy = 88.526%  val loss = 0.4625, val acc = 84.720% LR = 0.100000 & step_val = 5655\n",
      "ResNet-34: total # of trainable parameters = 21282122, # of masks = 21282122 & sparsity = 0.000%\n",
      "\n",
      "Epoch = 30; loss = 0.3067, accuracy = 89.403%  val loss = 0.5217, val acc = 84.370% LR = 0.100000 & step_val = 5850\n",
      "ResNet-34: total # of trainable parameters = 21282122, # of masks = 21282122 & sparsity = 0.000%\n",
      "\n",
      "Epoch = 31; loss = 0.3033, accuracy = 89.479%  val loss = 0.4002, val acc = 87.490% LR = 0.100000 & step_val = 6045\n",
      "ResNet-34: total # of trainable parameters = 21282122, # of masks = 21282122 & sparsity = 0.000%\n",
      "Saving trained model with highest val_acc = 87.490%, sparsity = 0.000%\n",
      "\n",
      "Epoch = 32; loss = 0.2915, accuracy = 89.862%  val loss = 0.4149, val acc = 86.950% LR = 0.100000 & step_val = 6240\n",
      "ResNet-34: total # of trainable parameters = 21282122, # of masks = 21282122 & sparsity = 0.000%\n",
      "\n",
      "Epoch = 33; loss = 0.2790, accuracy = 90.234%  val loss = 0.3881, val acc = 87.490% LR = 0.100000 & step_val = 6435\n",
      "ResNet-34: total # of trainable parameters = 21282122, # of masks = 21282122 & sparsity = 0.000%\n",
      "\n",
      "Epoch = 34; loss = 0.2633, accuracy = 90.733%  val loss = 0.4176, val acc = 86.760% LR = 0.100000 & step_val = 6630\n",
      "ResNet-34: total # of trainable parameters = 21282122, # of masks = 21282122 & sparsity = 0.000%\n",
      "\n",
      "Epoch = 35; loss = 0.2646, accuracy = 90.771%  val loss = 0.4250, val acc = 87.420% LR = 0.100000 & step_val = 6825\n",
      "ResNet-34: total # of trainable parameters = 21282122, # of masks = 21282122 & sparsity = 0.000%\n",
      "\n",
      "Epoch = 36; loss = 0.2577, accuracy = 90.933%  val loss = 0.4003, val acc = 87.460% LR = 0.100000 & step_val = 7020\n",
      "ResNet-34: total # of trainable parameters = 21282122, # of masks = 21282122 & sparsity = 0.000%\n",
      "\n",
      "Epoch = 37; loss = 0.2457, accuracy = 91.392%  val loss = 0.4013, val acc = 87.290% LR = 0.100000 & step_val = 7215\n",
      "ResNet-34: total # of trainable parameters = 21282122, # of masks = 21282122 & sparsity = 0.000%\n",
      "\n",
      "Epoch = 38; loss = 0.2368, accuracy = 91.629%  val loss = 0.4150, val acc = 86.940% LR = 0.100000 & step_val = 7410\n",
      "ResNet-34: total # of trainable parameters = 21282122, # of masks = 21282122 & sparsity = 0.000%\n",
      "\n",
      "Epoch = 39; loss = 0.2318, accuracy = 91.845%  val loss = 0.4397, val acc = 86.710% LR = 0.100000 & step_val = 7605\n",
      "ResNet-34: total # of trainable parameters = 21282122, # of masks = 21282122 & sparsity = 0.000%\n",
      "\n",
      "Epoch = 40; loss = 0.2219, accuracy = 92.141%  val loss = 0.4158, val acc = 87.460% LR = 0.100000 & step_val = 7800\n",
      "ResNet-34: total # of trainable parameters = 21282122, # of masks = 21282122 & sparsity = 0.000%\n",
      "\n",
      "Epoch = 41; loss = 0.2184, accuracy = 92.284%  val loss = 0.3808, val acc = 88.370% LR = 0.100000 & step_val = 7995\n",
      "ResNet-34: total # of trainable parameters = 21282122, # of masks = 21282122 & sparsity = 0.000%\n",
      "Saving trained model with highest val_acc = 88.370%, sparsity = 0.000%\n",
      "\n",
      "Epoch = 42; loss = 0.2097, accuracy = 92.556%  val loss = 0.4539, val acc = 86.740% LR = 0.100000 & step_val = 8190\n",
      "ResNet-34: total # of trainable parameters = 21282122, # of masks = 21282122 & sparsity = 0.000%\n",
      "\n",
      "Epoch = 43; loss = 0.2012, accuracy = 92.808%  val loss = 0.4116, val acc = 88.080% LR = 0.100000 & step_val = 8385\n",
      "ResNet-34: total # of trainable parameters = 21282122, # of masks = 21282122 & sparsity = 0.000%\n",
      "\n",
      "Epoch = 44; loss = 0.1908, accuracy = 93.241%  val loss = 0.3907, val acc = 88.210% LR = 0.100000 & step_val = 8580\n",
      "ResNet-34: total # of trainable parameters = 21282122, # of masks = 21282122 & sparsity = 0.000%\n",
      "\n",
      "Epoch = 45; loss = 0.1932, accuracy = 93.175%  val loss = 0.3806, val acc = 88.520% LR = 0.100000 & step_val = 8775\n",
      "ResNet-34: total # of trainable parameters = 21282122, # of masks = 21282122 & sparsity = 0.000%\n",
      "Saving trained model with highest val_acc = 88.520%, sparsity = 0.000%\n",
      "\n",
      "Epoch = 46; loss = 0.1426, accuracy = 95.082%  val loss = 0.3513, val acc = 90.080% LR = 0.010000 & step_val = 8970\n",
      "ResNet-34: total # of trainable parameters = 21282122, # of masks = 21282122 & sparsity = 0.000%\n",
      "Saving trained model with highest val_acc = 90.080%, sparsity = 0.000%\n",
      "\n",
      "Epoch = 47; loss = 0.1032, accuracy = 96.430%  val loss = 0.3549, val acc = 90.340% LR = 0.010000 & step_val = 9165\n",
      "ResNet-34: total # of trainable parameters = 21282122, # of masks = 21282122 & sparsity = 0.000%\n",
      "Saving trained model with highest val_acc = 90.340%, sparsity = 0.000%\n",
      "\n",
      "Epoch = 48; loss = 0.0896, accuracy = 96.867%  val loss = 0.3579, val acc = 90.650% LR = 0.010000 & step_val = 9360\n",
      "ResNet-34: total # of trainable parameters = 21282122, # of masks = 21282122 & sparsity = 0.000%\n",
      "Saving trained model with highest val_acc = 90.650%, sparsity = 0.000%\n",
      "\n",
      "Epoch = 49; loss = 0.0866, accuracy = 97.023%  val loss = 0.3593, val acc = 90.400% LR = 0.010000 & step_val = 9555\n",
      "ResNet-34: total # of trainable parameters = 21282122, # of masks = 21282122 & sparsity = 0.000%\n",
      "\n",
      "Epoch = 50; loss = 0.0850, accuracy = 97.009%  val loss = 0.3643, val acc = 90.430% LR = 0.010000 & step_val = 9750\n",
      "ResNet-34: total # of trainable parameters = 21282122, # of masks = 21282122 & sparsity = 0.000%\n",
      "\n",
      "Epoch = 51; loss = 0.0783, accuracy = 97.230%  val loss = 0.3577, val acc = 90.670% LR = 0.010000 & step_val = 9945\n",
      "ResNet-34: total # of trainable parameters = 21282122, # of masks = 21282122 & sparsity = 0.000%\n",
      "Saving trained model with highest val_acc = 90.670%, sparsity = 0.000%\n",
      "\n",
      "Epoch = 52; loss = 0.0748, accuracy = 97.300%  val loss = 0.3629, val acc = 90.770% LR = 0.010000 & step_val = 10140\n",
      "ResNet-34: total # of trainable parameters = 21282122, # of masks = 21282122 & sparsity = 0.000%\n",
      "Saving trained model with highest val_acc = 90.770%, sparsity = 0.000%\n",
      "\n",
      "Epoch = 53; loss = 0.0702, accuracy = 97.584%  val loss = 0.3674, val acc = 90.660% LR = 0.010000 & step_val = 10335\n",
      "ResNet-34: total # of trainable parameters = 21282122, # of masks = 21282122 & sparsity = 0.000%\n",
      "\n",
      "Epoch = 54; loss = 0.0695, accuracy = 97.530%  val loss = 0.3673, val acc = 90.680% LR = 0.010000 & step_val = 10530\n",
      "ResNet-34: total # of trainable parameters = 21282122, # of masks = 21282122 & sparsity = 0.000%\n",
      "\n",
      "Epoch = 55; loss = 0.0650, accuracy = 97.782%  val loss = 0.3676, val acc = 90.870% LR = 0.010000 & step_val = 10725\n",
      "ResNet-34: total # of trainable parameters = 21282122, # of masks = 21282122 & sparsity = 0.000%\n",
      "Saving trained model with highest val_acc = 90.870%, sparsity = 0.000%\n",
      "\n",
      "Epoch = 56; loss = 0.0640, accuracy = 97.790%  val loss = 0.3803, val acc = 90.670% LR = 0.010000 & step_val = 10920\n",
      "ResNet-34: total # of trainable parameters = 21282122, # of masks = 21282122 & sparsity = 0.000%\n",
      "\n",
      "Epoch = 57; loss = 0.0624, accuracy = 97.734%  val loss = 0.3914, val acc = 90.620% LR = 0.010000 & step_val = 11115\n",
      "ResNet-34: total # of trainable parameters = 21282122, # of masks = 21282122 & sparsity = 0.000%\n",
      "\n",
      "Epoch = 58; loss = 0.0591, accuracy = 97.893%  val loss = 0.3939, val acc = 90.890% LR = 0.010000 & step_val = 11310\n",
      "ResNet-34: total # of trainable parameters = 21282122, # of masks = 21282122 & sparsity = 0.000%\n",
      "Saving trained model with highest val_acc = 90.890%, sparsity = 0.000%\n",
      "\n",
      "Epoch = 59; loss = 0.0585, accuracy = 97.957%  val loss = 0.3940, val acc = 90.670% LR = 0.010000 & step_val = 11505\n",
      "ResNet-34: total # of trainable parameters = 21282122, # of masks = 21282122 & sparsity = 0.000%\n",
      "\n",
      "Epoch = 60; loss = 0.0585, accuracy = 97.971%  val loss = 0.3902, val acc = 90.860% LR = 0.010000 & step_val = 11700\n",
      "ResNet-34: total # of trainable parameters = 21282122, # of masks = 21282122 & sparsity = 0.000%\n",
      "\n",
      "Epoch = 61; loss = 0.0572, accuracy = 98.039%  val loss = 0.3907, val acc = 90.830% LR = 0.010000 & step_val = 11895\n",
      "ResNet-34: total # of trainable parameters = 21282122, # of masks = 21282122 & sparsity = 0.000%\n",
      "\n",
      "Epoch = 62; loss = 0.0549, accuracy = 98.093%  val loss = 0.4104, val acc = 90.560% LR = 0.010000 & step_val = 12090\n",
      "ResNet-34: total # of trainable parameters = 21282122, # of masks = 21282122 & sparsity = 0.000%\n",
      "\n",
      "Epoch = 63; loss = 0.0523, accuracy = 98.123%  val loss = 0.4240, val acc = 90.590% LR = 0.010000 & step_val = 12285\n",
      "ResNet-34: total # of trainable parameters = 21282122, # of masks = 21282122 & sparsity = 0.000%\n",
      "\n",
      "Epoch = 64; loss = 0.0493, accuracy = 98.233%  val loss = 0.4021, val acc = 90.710% LR = 0.010000 & step_val = 12480\n",
      "ResNet-34: total # of trainable parameters = 21282122, # of masks = 21282122 & sparsity = 0.000%\n",
      "\n",
      "Epoch = 65; loss = 0.0499, accuracy = 98.299%  val loss = 0.3994, val acc = 90.850% LR = 0.010000 & step_val = 12675\n",
      "ResNet-34: total # of trainable parameters = 21282122, # of masks = 21282122 & sparsity = 0.000%\n",
      "\n",
      "Epoch = 66; loss = 0.0480, accuracy = 98.275%  val loss = 0.4415, val acc = 90.470% LR = 0.010000 & step_val = 12870\n",
      "ResNet-34: total # of trainable parameters = 21282122, # of masks = 21282122 & sparsity = 0.000%\n",
      "\n",
      "Epoch = 67; loss = 0.0472, accuracy = 98.351%  val loss = 0.4202, val acc = 90.740% LR = 0.010000 & step_val = 13065\n",
      "ResNet-34: total # of trainable parameters = 21282122, # of masks = 21282122 & sparsity = 0.000%\n",
      "\n",
      "Epoch = 68; loss = 0.0458, accuracy = 98.395%  val loss = 0.4049, val acc = 90.890% LR = 0.010000 & step_val = 13260\n",
      "ResNet-34: total # of trainable parameters = 21282122, # of masks = 21282122 & sparsity = 0.000%\n",
      "\n",
      "Epoch = 69; loss = 0.0443, accuracy = 98.512%  val loss = 0.4177, val acc = 90.870% LR = 0.010000 & step_val = 13455\n",
      "ResNet-34: total # of trainable parameters = 21282122, # of masks = 21282122 & sparsity = 0.000%\n",
      "\n",
      "Epoch = 70; loss = 0.0444, accuracy = 98.466%  val loss = 0.4042, val acc = 90.790% LR = 0.010000 & step_val = 13650\n",
      "ResNet-34: total # of trainable parameters = 21282122, # of masks = 21282122 & sparsity = 0.000%\n",
      "\n",
      "Epoch = 71; loss = 0.0415, accuracy = 98.558%  val loss = 0.4121, val acc = 90.800% LR = 0.001000 & step_val = 13845\n",
      "ResNet-34: total # of trainable parameters = 21282122, # of masks = 21282122 & sparsity = 0.000%\n",
      "\n",
      "Epoch = 72; loss = 0.0400, accuracy = 98.582%  val loss = 0.4148, val acc = 90.750% LR = 0.001000 & step_val = 14040\n",
      "ResNet-34: total # of trainable parameters = 21282122, # of masks = 21282122 & sparsity = 0.000%\n",
      "\n",
      "Epoch = 73; loss = 0.0368, accuracy = 98.724%  val loss = 0.4190, val acc = 90.790% LR = 0.001000 & step_val = 14235\n",
      "ResNet-34: total # of trainable parameters = 21282122, # of masks = 21282122 & sparsity = 0.000%\n",
      "\n",
      "Epoch = 74; loss = 0.0371, accuracy = 98.698%  val loss = 0.4188, val acc = 90.820% LR = 0.001000 & step_val = 14430\n",
      "ResNet-34: total # of trainable parameters = 21282122, # of masks = 21282122 & sparsity = 0.000%\n",
      "\n",
      "Epoch = 75; loss = 0.0370, accuracy = 98.714%  val loss = 0.4135, val acc = 90.940% LR = 0.001000 & step_val = 14625\n",
      "ResNet-34: total # of trainable parameters = 21282122, # of masks = 21282122 & sparsity = 0.000%\n",
      "Saving trained model with highest val_acc = 90.940%, sparsity = 0.000%\n",
      "\n",
      "Epoch = 76; loss = 0.0378, accuracy = 98.648%  val loss = 0.4230, val acc = 90.680% LR = 0.001000 & step_val = 14820\n",
      "ResNet-34: total # of trainable parameters = 21282122, # of masks = 21282122 & sparsity = 0.000%\n",
      "\n",
      "Epoch = 77; loss = 0.0373, accuracy = 98.722%  val loss = 0.4210, val acc = 90.790% LR = 0.001000 & step_val = 15015\n",
      "ResNet-34: total # of trainable parameters = 21282122, # of masks = 21282122 & sparsity = 0.000%\n",
      "\n",
      "Epoch = 78; loss = 0.0364, accuracy = 98.776%  val loss = 0.4209, val acc = 90.910% LR = 0.001000 & step_val = 15210\n",
      "ResNet-34: total # of trainable parameters = 21282122, # of masks = 21282122 & sparsity = 0.000%\n",
      "\n",
      "Epoch = 79; loss = 0.0364, accuracy = 98.718%  val loss = 0.4193, val acc = 90.870% LR = 0.001000 & step_val = 15405\n",
      "ResNet-34: total # of trainable parameters = 21282122, # of masks = 21282122 & sparsity = 0.000%\n",
      "\n",
      "Epoch = 80; loss = 0.0363, accuracy = 98.734%  val loss = 0.4194, val acc = 90.970% LR = 0.001000 & step_val = 15600\n",
      "ResNet-34: total # of trainable parameters = 21282122, # of masks = 21282122 & sparsity = 0.000%\n",
      "Saving trained model with highest val_acc = 90.970%, sparsity = 0.000%\n"
     ]
    }
   ],
   "source": [
    "# Train model until convergence-\n",
    "model, train_hist = train_till_convergence(\n",
    "    model = model, mask_model = mask_model\n",
    ")"
   ]
  },
  {
   "cell_type": "code",
   "execution_count": null,
   "id": "56f17cfd-ebf6-4dd8-844b-892742a4cb69",
   "metadata": {},
   "outputs": [],
   "source": []
  },
  {
   "cell_type": "code",
   "execution_count": null,
   "id": "ea71dbe2-4b3b-4baf-8410-c363f90342fe",
   "metadata": {},
   "outputs": [],
   "source": []
  },
  {
   "cell_type": "code",
   "execution_count": 46,
   "id": "635281b8-3076-48c0-97f1-0df50341c456",
   "metadata": {},
   "outputs": [],
   "source": [
    "with open(\"ResNet34_training_history_lr_scheduler.pkl\", \"wb\") as file:\n",
    "    pickle.dump(train_hist, file)"
   ]
  },
  {
   "cell_type": "code",
   "execution_count": null,
   "id": "c90c676e-11f8-4ec2-be7c-11d438d46543",
   "metadata": {},
   "outputs": [],
   "source": []
  },
  {
   "cell_type": "code",
   "execution_count": 47,
   "id": "8c0ce5f2-7d4c-43a7-a272-245cff60a6fd",
   "metadata": {},
   "outputs": [],
   "source": [
    "# Sanity check - Initialize & load best weights model-\n",
    "best_model = ResNet34()\n",
    "best_model.build(input_shape = (None, 32, 32, 3))\n",
    "best_model.load_weights(\"ResNet34_best_val_acc_0.00.h5\")"
   ]
  },
  {
   "cell_type": "code",
   "execution_count": 48,
   "id": "6fe92a36-8d8c-466b-aec0-4de1ae5667e2",
   "metadata": {},
   "outputs": [],
   "source": [
    "# Compile model-\n",
    "best_model.compile(\n",
    "    loss=tf.keras.losses.categorical_crossentropy,\n",
    "    optimizer = tf.keras.optimizers.SGD(learning_rate = warmup_shcedule, momentum = 0.9, decay = 0.0, nesterov = False),\n",
    "    # optimizer = tf.keras.optimizers.SGD(learning_rate = 0.01, momentum = 0.9),\n",
    "    metrics = ['accuracy']\n",
    ")"
   ]
  },
  {
   "cell_type": "code",
   "execution_count": 49,
   "id": "202f074e-3fb2-43d6-9446-f7f5e93378ac",
   "metadata": {},
   "outputs": [],
   "source": [
    "# Evaluate trained model's validation loss and validation accuracy on validation dataset-\n",
    "loss, acc = best_model.evaluate(X_test, y_test, verbose = 0)"
   ]
  },
  {
   "cell_type": "code",
   "execution_count": 50,
   "id": "af979353-c77f-46c4-a3ef-212a30e192a0",
   "metadata": {},
   "outputs": [
    {
     "name": "stdout",
     "output_type": "stream",
     "text": [
      "Trained ResNet-34 CNN model metrics on validation dataset:\n",
      "loss = 0.8035 & accuracy = 90.97%\n"
     ]
    }
   ],
   "source": [
    "print(\"Trained ResNet-34 CNN model metrics on validation dataset:\")\n",
    "print(f\"loss = {loss:.4f} & accuracy = {acc * 100:.2f}%\")"
   ]
  },
  {
   "cell_type": "code",
   "execution_count": 51,
   "id": "23c47e52-62a5-4274-96e1-1b05000c8e49",
   "metadata": {},
   "outputs": [],
   "source": [
    "del best_model, model"
   ]
  },
  {
   "cell_type": "code",
   "execution_count": null,
   "id": "b23ab3a4-30ac-48e7-9ae2-0d9b76d2ea55",
   "metadata": {},
   "outputs": [],
   "source": []
  },
  {
   "cell_type": "code",
   "execution_count": null,
   "id": "6612e4b5-c453-4944-a36f-f7fd00bd314d",
   "metadata": {},
   "outputs": [],
   "source": []
  },
  {
   "cell_type": "markdown",
   "id": "f7e1070c-c7d2-44d8-8956-cd3720d45f63",
   "metadata": {},
   "source": [
    "### Training Visualizations"
   ]
  },
  {
   "cell_type": "code",
   "execution_count": 52,
   "id": "216fd2fc-4727-4735-a943-6a8aa1b1472c",
   "metadata": {},
   "outputs": [
    {
     "data": {
      "image/png": "[encoded data removed]",
      "text/plain": [
       "<Figure size 648x504 with 1 Axes>"
      ]
     },
     "metadata": {
      "needs_background": "light"
     },
     "output_type": "display_data"
    }
   ],
   "source": [
    "# Visualize accuracies-\n",
    "plt.figure(figsize = (9, 7))\n",
    "plt.plot(list(train_hist.keys()), [train_hist[x]['val_acc'] for x in train_hist.keys()], label = 'val_acc')\n",
    "plt.plot(list(train_hist.keys()), [train_hist[x]['acc'] for x in train_hist.keys()], label = 'acc')\n",
    "plt.title(\"ResNet-34: Training Visualization - Accuracy\")\n",
    "plt.xlabel(\"epochs\")\n",
    "plt.ylabel(\"accuracy (%)\")\n",
    "plt.legend(loc = 'best')\n",
    "plt.show()"
   ]
  },
  {
   "cell_type": "code",
   "execution_count": 53,
   "id": "8698387c-c354-4e47-9ff9-44b1d7056469",
   "metadata": {},
   "outputs": [
    {
     "data": {
      "image/png": "[encoded data removed]",
      "text/plain": [
       "<Figure size 648x504 with 1 Axes>"
      ]
     },
     "metadata": {
      "needs_background": "light"
     },
     "output_type": "display_data"
    }
   ],
   "source": [
    "# Visualize losses-\n",
    "plt.figure(figsize = (9, 7))\n",
    "plt.plot(list(train_hist.keys()), [train_hist[x]['val_loss'] for x in train_hist.keys()], label = 'val_loss')\n",
    "plt.plot(list(train_hist.keys()), [train_hist[x]['loss'] for x in train_hist.keys()], label = 'loss')\n",
    "plt.title(\"ResNet-34: Training Visualization - Loss\")\n",
    "plt.xlabel(\"epochs\")\n",
    "plt.ylabel(\"loss\")\n",
    "plt.legend(loc = 'best')\n",
    "plt.show()"
   ]
  },
  {
   "cell_type": "code",
   "execution_count": 54,
   "id": "b9cc01c6-201a-4e1f-890d-468993a8742a",
   "metadata": {},
   "outputs": [
    {
     "data": {
      "image/png": "[encoded data removed]",
      "text/plain": [
       "<Figure size 648x504 with 1 Axes>"
      ]
     },
     "metadata": {
      "needs_background": "light"
     },
     "output_type": "display_data"
    }
   ],
   "source": [
    "# Visualize learning rate during training-\n",
    "plt.figure(figsize = (9, 7))\n",
    "plt.plot(list(train_hist.keys()), [train_hist[x]['lr'] for x in train_hist.keys()])\n",
    "plt.title(\"ResNet-34: Learning Rate Warmup & Step-Decay (SGD)\")\n",
    "plt.xlabel(\"epochs\")\n",
    "plt.ylabel(\"LR\")\n",
    "plt.show()"
   ]
  },
  {
   "cell_type": "code",
   "execution_count": null,
   "id": "253281ef-91b9-41eb-8a0f-9a37cd3c7f35",
   "metadata": {},
   "outputs": [],
   "source": []
  },
  {
   "cell_type": "code",
   "execution_count": null,
   "id": "3621974f-061d-4526-a15c-5c2979c90cb8",
   "metadata": {},
   "outputs": [],
   "source": []
  }
 ],
 "metadata": {
  "kernelspec": {
   "display_name": "Python 3 (ipykernel)",
   "language": "python",
   "name": "python3"
  },
  "language_info": {
   "codemirror_mode": {
    "name": "ipython",
    "version": 3
   },
   "file_extension": ".py",
   "mimetype": "text/x-python",
   "name": "python",
   "nbconvert_exporter": "python",
   "pygments_lexer": "ipython3",
   "version": "3.8.13"
  }
 },
 "nbformat": 4,
 "nbformat_minor": 5
}
