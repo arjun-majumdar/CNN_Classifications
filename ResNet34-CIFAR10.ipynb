{
 "cells": [
  {
   "cell_type": "markdown",
   "id": "76c6ca28-2e0e-4cd2-bbbc-edb0d648b760",
   "metadata": {},
   "source": [
    "# ResNet-34: CIFAR-10 & TF2\n",
    "\n",
    "__Deep Residual Learning for Image Recognition__ research paper by Kaiming He et al."
   ]
  },
  {
   "cell_type": "code",
   "execution_count": 1,
   "id": "7a5f70f9-a202-4366-9d29-da931ade6223",
   "metadata": {},
   "outputs": [
    {
     "name": "stdout",
     "output_type": "stream",
     "text": [
      "env: CUDA_DEVICE_ORDER=PCI_BUS_ID\n",
      "env: CUDA_VISIBLE_DEVICES=0\n"
     ]
    }
   ],
   "source": [
    "# Specify GPU to be used-\n",
    "%env CUDA_DEVICE_ORDER = PCI_BUS_ID\n",
    "%env CUDA_VISIBLE_DEVICES = 0"
   ]
  },
  {
   "cell_type": "code",
   "execution_count": 2,
   "id": "78b56ead-32bd-4655-b39c-5ca66a6e0837",
   "metadata": {},
   "outputs": [],
   "source": [
    "import tensorflow as tf\n",
    "import numpy as np\n",
    "import matplotlib.pyplot as plt\n",
    "import seaborn as sns\n",
    "import pickle, os, time\n",
    "import math\n",
    "\n",
    "from tqdm import tqdm\n",
    "from tqdm import trange\n",
    "\n",
    "from tensorflow.keras.preprocessing.image import ImageDataGenerator\n",
    "from tensorflow.keras import regularizers\n",
    "import tensorflow.keras.backend as K\n",
    "\n",
    "from tensorflow.keras.layers import AveragePooling2D, Conv2D, MaxPooling2D, ReLU\n",
    "from tensorflow.keras import models, layers, datasets\n",
    "from tensorflow.keras.layers import Dense, Flatten, Reshape, Input, InputLayer, GlobalAveragePooling2D\n",
    "from tensorflow.keras.layers import Layer, Dropout, BatchNormalization, Activation\n",
    "from tensorflow.keras.models import Sequential, Model\n",
    "from tensorflow.keras.initializers import RandomNormal, Constant"
   ]
  },
  {
   "cell_type": "code",
   "execution_count": null,
   "id": "3882420a-eeb0-48b1-953d-174f0842db25",
   "metadata": {},
   "outputs": [],
   "source": []
  },
  {
   "cell_type": "code",
   "execution_count": null,
   "id": "e1114a49-b2a9-4ee5-8792-9dbca94b84e8",
   "metadata": {},
   "outputs": [],
   "source": []
  },
  {
   "cell_type": "code",
   "execution_count": 3,
   "id": "8a6efdde-eb3b-481b-ad30-464c39f32612",
   "metadata": {},
   "outputs": [
    {
     "name": "stdout",
     "output_type": "stream",
     "text": [
      "TensorFlow version: 2.8.0\n"
     ]
    }
   ],
   "source": [
    "print(f\"TensorFlow version: {tf.__version__}\")"
   ]
  },
  {
   "cell_type": "code",
   "execution_count": 4,
   "id": "15690aa7-dd48-4475-93c6-6ab9695ee09e",
   "metadata": {},
   "outputs": [
    {
     "name": "stdout",
     "output_type": "stream",
     "text": [
      "GPU: [PhysicalDevice(name='/physical_device:GPU:0', device_type='GPU')]\n",
      "GPU details: NVIDIA GeForce RTX 3080\n"
     ]
    },
    {
     "name": "stderr",
     "output_type": "stream",
     "text": [
      "2022-07-11 22:16:52.670047: I tensorflow/stream_executor/cuda/cuda_gpu_executor.cc:936] successful NUMA node read from SysFS had negative value (-1), but there must be at least one NUMA node, so returning NUMA node zero\n",
      "2022-07-11 22:16:52.703146: I tensorflow/stream_executor/cuda/cuda_gpu_executor.cc:936] successful NUMA node read from SysFS had negative value (-1), but there must be at least one NUMA node, so returning NUMA node zero\n",
      "2022-07-11 22:16:52.703415: I tensorflow/stream_executor/cuda/cuda_gpu_executor.cc:936] successful NUMA node read from SysFS had negative value (-1), but there must be at least one NUMA node, so returning NUMA node zero\n",
      "2022-07-11 22:16:52.704297: I tensorflow/stream_executor/cuda/cuda_gpu_executor.cc:936] successful NUMA node read from SysFS had negative value (-1), but there must be at least one NUMA node, so returning NUMA node zero\n"
     ]
    }
   ],
   "source": [
    "# Check GPU availibility-\n",
    "gpu_devices = tf.config.list_physical_devices('GPU')\n",
    "# print(f\"GPU: {gpu_devices}\")\n",
    "\n",
    "if gpu_devices:\n",
    "    print(f\"GPU: {gpu_devices}\")\n",
    "    details = tf.config.experimental.get_device_details(gpu_devices[0])\n",
    "    print(f\"GPU details: {details.get('device_name', 'Unknown GPU')}\")\n",
    "else:\n",
    "    print(\"No GPU found\")"
   ]
  },
  {
   "cell_type": "code",
   "execution_count": null,
   "id": "f9725359-1db6-45f2-98d3-739d1c8f5621",
   "metadata": {},
   "outputs": [],
   "source": []
  },
  {
   "cell_type": "code",
   "execution_count": null,
   "id": "a0b6c97b-0be0-4f89-ba91-6a4b2e34b1f9",
   "metadata": {},
   "outputs": [],
   "source": []
  },
  {
   "cell_type": "code",
   "execution_count": 5,
   "id": "a93e5ee5-7894-4cf4-b970-2bdc3fbf71c7",
   "metadata": {},
   "outputs": [],
   "source": [
    "# Specify hyper-parameters\n",
    "batch_size = 256\n",
    "num_classes = 10\n",
    "num_epochs = 80"
   ]
  },
  {
   "cell_type": "code",
   "execution_count": 6,
   "id": "df51fd4e-30d4-4016-bf85-c09d04bb2021",
   "metadata": {},
   "outputs": [],
   "source": [
    "# A regularizer that applies a L2 regularization penalty-\n",
    "weight_decay = 0.001"
   ]
  },
  {
   "cell_type": "code",
   "execution_count": null,
   "id": "7f25986d-0578-4889-93b9-17777ec6f7ca",
   "metadata": {},
   "outputs": [],
   "source": []
  },
  {
   "cell_type": "code",
   "execution_count": null,
   "id": "ac172205-cefc-494d-a412-637363821a77",
   "metadata": {},
   "outputs": [],
   "source": []
  },
  {
   "cell_type": "markdown",
   "id": "21e4bcff-b8f6-4f88-890d-cd5190970567",
   "metadata": {},
   "source": [
    "### CIFAR-10 data pre-processing"
   ]
  },
  {
   "cell_type": "code",
   "execution_count": 7,
   "id": "a2b688fe-f3df-4983-a17c-8db2dcf9d4d2",
   "metadata": {},
   "outputs": [
    {
     "name": "stdout",
     "output_type": "stream",
     "text": [
      "'input_shape' which will be used = (32, 32, 3)\n",
      "\n"
     ]
    }
   ],
   "source": [
    "# Data preprocessing and cleaning:\n",
    "# input image dimensions\n",
    "img_rows, img_cols = 32, 32\n",
    "\n",
    "# Load CIFAR-10 dataset-\n",
    "(X_train, y_train), (X_test, y_test) = tf.keras.datasets.cifar10.load_data()\n",
    "\n",
    "if tf.keras.backend.image_data_format() == 'channels_first':\n",
    "    X_train = X_train.reshape(X_train.shape[0], 3, img_rows, img_cols)\n",
    "    X_test = X_test.reshape(X_test.shape[0], 3, img_rows, img_cols)\n",
    "    input_shape = (3, img_rows, img_cols)\n",
    "else:\n",
    "    X_train = X_train.reshape(X_train.shape[0], img_rows, img_cols, 3)\n",
    "    X_test = X_test.reshape(X_test.shape[0], img_rows, img_cols, 3)\n",
    "    input_shape = (img_rows, img_cols, 3)\n",
    "\n",
    "print(\"'input_shape' which will be used = {0}\\n\".format(input_shape))"
   ]
  },
  {
   "cell_type": "code",
   "execution_count": 8,
   "id": "962ddb0c-a9bb-4e9c-9194-c7404611f470",
   "metadata": {},
   "outputs": [],
   "source": [
    "# Convert datasets to floating point types-\n",
    "X_train = X_train.astype('float32')\n",
    "X_test = X_test.astype('float32')\n",
    "\n",
    "# Normalize the training and testing datasets-\n",
    "X_train /= 255.0\n",
    "X_test /= 255.0\n",
    "\n",
    "# convert class vectors/target to binary class matrices or one-hot encoded values-\n",
    "y_train = tf.keras.utils.to_categorical(y_train, num_classes)\n",
    "y_test = tf.keras.utils.to_categorical(y_test, num_classes)"
   ]
  },
  {
   "cell_type": "code",
   "execution_count": 9,
   "id": "dcdcfa7b-38af-422d-ae4a-883f90840c6a",
   "metadata": {},
   "outputs": [
    {
     "name": "stdout",
     "output_type": "stream",
     "text": [
      "\n",
      "Dimensions of training and testing sets are:\n",
      "X_train.shape = (50000, 32, 32, 3), y_train.shape = (50000, 10)\n",
      "X_test.shape = (10000, 32, 32, 3), y_test.shape = (10000, 10)\n"
     ]
    }
   ],
   "source": [
    "print(\"\\nDimensions of training and testing sets are:\")\n",
    "print(\"X_train.shape = {0}, y_train.shape = {1}\".format(X_train.shape, y_train.shape))\n",
    "print(\"X_test.shape = {0}, y_test.shape = {1}\".format(X_test.shape, y_test.shape))"
   ]
  },
  {
   "cell_type": "code",
   "execution_count": null,
   "id": "695727f9-5ead-4235-96c6-ff9ce5bb63a6",
   "metadata": {},
   "outputs": [],
   "source": []
  },
  {
   "cell_type": "code",
   "execution_count": 10,
   "id": "6acab034-c5f0-4b19-b5bb-68e7cdfc66f0",
   "metadata": {},
   "outputs": [
    {
     "name": "stderr",
     "output_type": "stream",
     "text": [
      "2022-07-11 22:17:00.056941: I tensorflow/core/platform/cpu_feature_guard.cc:151] This TensorFlow binary is optimized with oneAPI Deep Neural Network Library (oneDNN) to use the following CPU instructions in performance-critical operations:  AVX2 FMA\n",
      "To enable them in other operations, rebuild TensorFlow with the appropriate compiler flags.\n",
      "2022-07-11 22:17:00.059443: I tensorflow/stream_executor/cuda/cuda_gpu_executor.cc:936] successful NUMA node read from SysFS had negative value (-1), but there must be at least one NUMA node, so returning NUMA node zero\n",
      "2022-07-11 22:17:00.059790: I tensorflow/stream_executor/cuda/cuda_gpu_executor.cc:936] successful NUMA node read from SysFS had negative value (-1), but there must be at least one NUMA node, so returning NUMA node zero\n",
      "2022-07-11 22:17:00.060067: I tensorflow/stream_executor/cuda/cuda_gpu_executor.cc:936] successful NUMA node read from SysFS had negative value (-1), but there must be at least one NUMA node, so returning NUMA node zero\n",
      "2022-07-11 22:17:00.352040: I tensorflow/stream_executor/cuda/cuda_gpu_executor.cc:936] successful NUMA node read from SysFS had negative value (-1), but there must be at least one NUMA node, so returning NUMA node zero\n",
      "2022-07-11 22:17:00.352234: I tensorflow/stream_executor/cuda/cuda_gpu_executor.cc:936] successful NUMA node read from SysFS had negative value (-1), but there must be at least one NUMA node, so returning NUMA node zero\n",
      "2022-07-11 22:17:00.352387: I tensorflow/stream_executor/cuda/cuda_gpu_executor.cc:936] successful NUMA node read from SysFS had negative value (-1), but there must be at least one NUMA node, so returning NUMA node zero\n",
      "2022-07-11 22:17:00.352525: I tensorflow/core/common_runtime/gpu/gpu_device.cc:1525] Created device /job:localhost/replica:0/task:0/device:GPU:0 with 8096 MB memory:  -> device: 0, name: NVIDIA GeForce RTX 3080, pci bus id: 0000:04:00.0, compute capability: 8.6\n"
     ]
    }
   ],
   "source": [
    "# Prepare CIFAR10 dataset for TensorFlow GradientTape training:\n",
    "\n",
    "# Create training and testing datasets-\n",
    "train_dataset = tf.data.Dataset.from_tensor_slices((X_train, y_train))\n",
    "test_dataset = tf.data.Dataset.from_tensor_slices((X_test, y_test))"
   ]
  },
  {
   "cell_type": "code",
   "execution_count": 11,
   "id": "85658351-6d68-4544-8e4a-7eccdb3d6fa0",
   "metadata": {},
   "outputs": [],
   "source": [
    "train_dataset = train_dataset.\\\n",
    "shuffle(buffer_size = 20000, reshuffle_each_iteration = True).\\\n",
    "batch(batch_size = batch_size, drop_remainder = False)\n",
    "test_dataset = test_dataset.batch(batch_size=batch_size, drop_remainder=False)"
   ]
  },
  {
   "cell_type": "code",
   "execution_count": null,
   "id": "830701b6-42d3-4a49-a943-8f544b66c3a7",
   "metadata": {},
   "outputs": [],
   "source": []
  },
  {
   "cell_type": "code",
   "execution_count": 12,
   "id": "82d04676-f55f-4e24-8a00-7cd525ae9dcb",
   "metadata": {},
   "outputs": [],
   "source": [
    "# Choose loss function for training-\n",
    "loss_fn = tf.keras.losses.CategoricalCrossentropy()"
   ]
  },
  {
   "cell_type": "code",
   "execution_count": 13,
   "id": "ef1b52a7-ea47-4d02-92a4-cb8b2e936d6b",
   "metadata": {},
   "outputs": [],
   "source": [
    "# Select metrics to measure the error & accuracy of model.\n",
    "# These metrics accumulate the values over epochs and then\n",
    "# print the overall result-\n",
    "train_loss = tf.keras.metrics.Mean(name = 'train_loss')\n",
    "train_accuracy = tf.keras.metrics.CategoricalAccuracy(name = 'train_accuracy')\n",
    "\n",
    "test_loss = tf.keras.metrics.Mean(name = 'test_loss')\n",
    "test_accuracy = tf.keras.metrics.CategoricalAccuracy(name = 'test_accuracy')"
   ]
  },
  {
   "cell_type": "code",
   "execution_count": null,
   "id": "ad1e8763-64bd-44c7-ae00-1fb7223c66c8",
   "metadata": {},
   "outputs": [],
   "source": []
  },
  {
   "cell_type": "code",
   "execution_count": null,
   "id": "1d216663-ffa9-416c-b892-ccd9f927562f",
   "metadata": {},
   "outputs": [],
   "source": []
  },
  {
   "cell_type": "markdown",
   "id": "daaa01cf-06a4-4236-9a35-3f670fbcfdbe",
   "metadata": {},
   "source": [
    "### ResNet-34 architecture\n",
    "\n",
    "__Deep Residual Learning for Image Recognition__ research paper by Kaiming He et al.\n",
    "\n",
    "Periodically, we double the number of filters and down sample spatially using stride = 2 (when we do that)."
   ]
  },
  {
   "cell_type": "code",
   "execution_count": 14,
   "id": "2dd1d995-a613-4646-bca6-6c9c09dd2408",
   "metadata": {},
   "outputs": [],
   "source": [
    "class ResNet_Block(Layer):\n",
    "    \n",
    "    def __init__(\n",
    "        self, num_channels,\n",
    "        stride = 1, dropout = 0.2,\n",
    "        use_1x1_conv = False\n",
    "    ):\n",
    "        super(ResNet_Block, self).__init__()\n",
    "    \n",
    "        self.num_channels = num_channels\n",
    "        self.stride = stride\n",
    "        self.dropout = dropout\n",
    "        self.use_1x1_conv = use_1x1_conv\n",
    "    \n",
    "        \n",
    "        self.conv1 = Conv2D(\n",
    "            filters = self.num_channels, kernel_size = (3, 3),\n",
    "            strides = self.stride, padding = \"same\",\n",
    "            kernel_initializer = tf.keras.initializers.he_normal(),\n",
    "            use_bias = False, kernel_regularizer = regularizers.l2(weight_decay)\n",
    "        )\n",
    "        self.bn1 = BatchNormalization()\n",
    "    \n",
    "        self.conv2 = Conv2D(\n",
    "            filters = self.num_channels, kernel_size = (3, 3),\n",
    "            strides = 1, padding = \"same\",\n",
    "            kernel_initializer = tf.keras.initializers.he_normal(),\n",
    "            use_bias = False, kernel_regularizer = regularizers.l2(weight_decay)\n",
    "        )\n",
    "        self.bn2 = BatchNormalization()\n",
    "        self.dropout = Dropout(rate = self.dropout)\n",
    "        \n",
    "        if use_1x1_conv:\n",
    "            self.conv3 = Conv2D(\n",
    "            filters = self.num_channels, kernel_size = (3, 3),\n",
    "            strides = self.stride, padding = \"same\",\n",
    "            kernel_initializer = tf.keras.initializers.he_normal(),\n",
    "            use_bias = False, kernel_regularizer = regularizers.l2(weight_decay)\n",
    "            )\n",
    "            self.bn3 = BatchNormalization()\n",
    "    \n",
    "    \n",
    "    def call(self, x):\n",
    "        y = tf.nn.relu(self.bn1(self.conv1(x)))\n",
    "        y = self.bn2(self.conv2(y))\n",
    "        \n",
    "        if self.use_1x1_conv:\n",
    "            x = self.bn3(self.conv3(x))\n",
    "            \n",
    "        y += x\n",
    "        return tf.nn.relu(self.dropout(y))\n",
    "    \n",
    "    \n",
    "    def shape_computation(self, x):\n",
    "        print(f\"Input shape: {x.shape}\")\n",
    "        y = tf.nn.relu(self.bn1(self.conv1(x)))\n",
    "        print(f\"First conv layer output shape: {y.shape}\")\n",
    "        y = self.bn2(self.conv2(y))\n",
    "        print(f\"Second conv layer output shape: {y.shape}\")\n",
    "        \n",
    "        if self.use_1x1_conv:\n",
    "            x = self.bn3(self.conv3(x))\n",
    "            print(f\"Downsample with S = 2; identity connection output shape: {x.shape}\")\n",
    "            \n",
    "        y += x\n",
    "        print(f\"Residual block output shape: {y.shape}\")\n",
    "        return None\n",
    "    "
   ]
  },
  {
   "cell_type": "code",
   "execution_count": null,
   "id": "3350a164-d8df-40b6-a8e6-e0bc90d912bb",
   "metadata": {},
   "outputs": [],
   "source": []
  },
  {
   "cell_type": "code",
   "execution_count": 15,
   "id": "e85a9ba8-25bf-419e-99c1-24a071cb0615",
   "metadata": {},
   "outputs": [],
   "source": [
    "class ResNet34(Model):\n",
    "    def __init__(self):\n",
    "        super(ResNet34, self).__init__()\n",
    "        \n",
    "        self.conv1 = Conv2D(\n",
    "            filters = 64, kernel_size = (3, 3),\n",
    "            strides = 1, padding = \"same\",\n",
    "            kernel_initializer = tf.keras.initializers.he_normal(),\n",
    "            use_bias = False, kernel_regularizer = regularizers.l2(weight_decay)\n",
    "        )\n",
    "        self.bn1 = BatchNormalization()\n",
    "        \n",
    "        self.resblock1 = ResNet_Block(\n",
    "            num_channels = 64, stride = 1,\n",
    "            dropout = 0.2, use_1x1_conv = False\n",
    "        )\n",
    "        \n",
    "        self.resblock2 = ResNet_Block(\n",
    "            num_channels = 64, stride = 1,\n",
    "            dropout = 0.2, use_1x1_conv = False\n",
    "        )\n",
    "        \n",
    "        self.resblock3 = ResNet_Block(\n",
    "            num_channels = 64, stride = 1,\n",
    "            dropout = 0.2, use_1x1_conv = False\n",
    "        )\n",
    "\n",
    "        # Downsample-\n",
    "        self.resblock4 = ResNet_Block(\n",
    "            num_channels = 128, stride = 2,\n",
    "            dropout = 0.2, use_1x1_conv = True\n",
    "        )\n",
    "\n",
    "        self.resblock5 = ResNet_Block(\n",
    "            num_channels = 128, stride = 1,\n",
    "            dropout = 0.2, use_1x1_conv = False\n",
    "        )\n",
    "        \n",
    "        self.resblock6 = ResNet_Block(\n",
    "            num_channels = 128, stride = 1,\n",
    "            dropout = 0.2, use_1x1_conv = False\n",
    "        )\n",
    "        \n",
    "        self.resblock7 = ResNet_Block(\n",
    "            num_channels = 128, stride = 1,\n",
    "            dropout = 0.2, use_1x1_conv = False\n",
    "        )\n",
    "\n",
    "        # Downsample-\n",
    "        self.resblock8 = ResNet_Block(\n",
    "            num_channels = 256, stride = 2,\n",
    "            dropout = 0.2, use_1x1_conv = True\n",
    "        )\n",
    "\n",
    "        self.resblock9 = ResNet_Block(\n",
    "            num_channels = 256, stride = 1,\n",
    "            dropout = 0.2, use_1x1_conv = False\n",
    "        )\n",
    "        \n",
    "        self.resblock10 = ResNet_Block(\n",
    "            num_channels = 256, stride = 1,\n",
    "            dropout = 0.2, use_1x1_conv = False\n",
    "        )\n",
    "        \n",
    "        self.resblock11 = ResNet_Block(\n",
    "            num_channels = 256, stride = 1,\n",
    "            dropout = 0.2, use_1x1_conv = False\n",
    "        )\n",
    "        \n",
    "        self.resblock12 = ResNet_Block(\n",
    "            num_channels = 256, stride = 1,\n",
    "            dropout = 0.2, use_1x1_conv = False\n",
    "        )\n",
    "        \n",
    "        self.resblock13 = ResNet_Block(\n",
    "            num_channels = 256, stride = 1,\n",
    "            dropout = 0.2, use_1x1_conv = False\n",
    "        )\n",
    "\n",
    "        # Downsample-\n",
    "        self.resblock14 = ResNet_Block(\n",
    "            num_channels = 512, stride = 2,\n",
    "            dropout = 0.2, use_1x1_conv = True\n",
    "        )\n",
    "\n",
    "        self.resblock15 = ResNet_Block(\n",
    "            num_channels = 512, stride = 1,\n",
    "            dropout = 0.2, use_1x1_conv = False\n",
    "        )\n",
    "        \n",
    "        self.resblock16 = ResNet_Block(\n",
    "            num_channels = 512, stride = 1,\n",
    "            dropout = 0.2, use_1x1_conv = False\n",
    "        )\n",
    "\n",
    "        self.avg_pool = GlobalAveragePooling2D()\n",
    "        self.output_layer = Dense(units = 10, activation = None)\n",
    "\n",
    "\n",
    "\n",
    "    def call(self, x):\n",
    "        x = tf.nn.relu(self.bn1(self.conv1(x)))\n",
    "        x = self.resblock1(x)\n",
    "        x = self.resblock2(x)\n",
    "        x = self.resblock3(x)\n",
    "        x = self.resblock4(x)\n",
    "        x = self.resblock5(x)\n",
    "        x = self.resblock6(x)\n",
    "        x = self.resblock7(x)\n",
    "        x = self.resblock8(x)\n",
    "        x = self.resblock9(x)\n",
    "        x = self.resblock10(x)\n",
    "        x = self.resblock11(x)\n",
    "        x = self.resblock12(x)\n",
    "        x = self.resblock13(x)\n",
    "        x = self.resblock14(x)\n",
    "        x = self.resblock15(x)\n",
    "        x = self.resblock16(x)\n",
    "        x = self.avg_pool(x)\n",
    "        x = tf.nn.softmax(self.output_layer(x))\n",
    "        return x\n",
    "    \n",
    "    \n",
    "    def shape_computation(self, x):\n",
    "        print(f\"Input shape: {x.shape}\")\n",
    "        x = tf.nn.relu(self.bn1(self.conv1(x)))\n",
    "        print(f\"First conv layer output shape: {x.shape}\")\n",
    "        x = self.resblock1(x)\n",
    "        print(f\"First Residual block output shape: {x.shape}\")\n",
    "        x = self.resblock2(x)\n",
    "        print(f\"Second Residual block output shape: {x.shape}\")\n",
    "        x = self.resblock3(x)\n",
    "        print(f\"Third Residual block output shape: {x.shape}\")\n",
    "        x = self.resblock4(x)\n",
    "        print(f\"Forth Residual block output shape: {x.shape}\")\n",
    "        x = self.resblock5(x)\n",
    "        print(f\"Fifth Residual block output shape: {x.shape}\")\n",
    "        x = self.resblock6(x)\n",
    "        print(f\"Sixth Residual block output shape: {x.shape}\")\n",
    "        x = self.resblock7(x)\n",
    "        print(f\"Seventh Residual block output shape: {x.shape}\")\n",
    "        x = self.resblock8(x)\n",
    "        print(f\"Eigth Residual block output shape: {x.shape}\")\n",
    "        x = self.resblock9(x)\n",
    "        print(f\"Ninth Residual block output shape: {x.shape}\")\n",
    "        x = self.resblock10(x)\n",
    "        print(f\"Tenth Residual block output shape: {x.shape}\")\n",
    "        x = self.resblock11(x)\n",
    "        print(f\"Eleventh Residual block output shape: {x.shape}\")\n",
    "        x = self.resblock12(x)\n",
    "        print(f\"Twelth Residual block output shape: {x.shape}\")\n",
    "        x = self.resblock13(x)\n",
    "        print(f\"Thirteenth Residual block output shape: {x.shape}\")\n",
    "        x = self.resblock14(x)\n",
    "        print(f\"Fourteenth Residual block output shape: {x.shape}\")\n",
    "        x = self.resblock15(x)\n",
    "        print(f\"Fifteenth Residual block output shape: {x.shape}\")\n",
    "        x = self.resblock16(x)\n",
    "        print(f\"Sixteenth Residual block output shape: {x.shape}\")\n",
    "        x = self.avg_pool(x)\n",
    "        print(f\"Global Average Pool 2D output shape: {x.shape}\")\n",
    "        x = tf.nn.softmax(self.output_layer(x))\n",
    "        print(f\"Output layer shape: {x.shape}\")\n",
    "        del x\n",
    "        return None\n",
    "    "
   ]
  },
  {
   "cell_type": "code",
   "execution_count": null,
   "id": "9ea3673e-a206-455d-bcbe-d03744ced4b1",
   "metadata": {},
   "outputs": [],
   "source": []
  },
  {
   "cell_type": "code",
   "execution_count": 16,
   "id": "96456d15-52be-4000-802f-cc9306bf9c19",
   "metadata": {},
   "outputs": [],
   "source": [
    "# Initialize ResNet-34 CNN architecture-\n",
    "model = ResNet34()"
   ]
  },
  {
   "cell_type": "code",
   "execution_count": null,
   "id": "44465be5-c4ba-43dc-a5b3-6e9a07c5955b",
   "metadata": {},
   "outputs": [],
   "source": []
  },
  {
   "cell_type": "code",
   "execution_count": 17,
   "id": "0ae52057-71b3-4707-aec4-5f13538073fe",
   "metadata": {},
   "outputs": [
    {
     "data": {
      "text/plain": [
       "(TensorShape([256, 32, 32, 3]), TensorShape([256, 10]))"
      ]
     },
     "execution_count": 17,
     "metadata": {},
     "output_type": "execute_result"
    }
   ],
   "source": [
    "# Sanity check-\n",
    "x, y = next(iter(train_dataset))\n",
    "x.shape, y.shape"
   ]
  },
  {
   "cell_type": "code",
   "execution_count": 18,
   "id": "bbc9ffa1-2bde-4abc-8c1c-a481368ab3ad",
   "metadata": {},
   "outputs": [
    {
     "name": "stderr",
     "output_type": "stream",
     "text": [
      "2022-07-11 22:17:48.209609: I tensorflow/stream_executor/cuda/cuda_dnn.cc:368] Loaded cuDNN version 8400\n",
      "2022-07-11 22:17:49.136878: I tensorflow/stream_executor/cuda/cuda_blas.cc:1786] TensorFloat-32 will be used for the matrix multiplication. This will only be logged once.\n"
     ]
    }
   ],
   "source": [
    "out = model(x)"
   ]
  },
  {
   "cell_type": "code",
   "execution_count": 19,
   "id": "7a33bcbd-4670-40db-a5a7-0601cc5c2454",
   "metadata": {},
   "outputs": [
    {
     "data": {
      "text/plain": [
       "TensorShape([256, 10])"
      ]
     },
     "execution_count": 19,
     "metadata": {},
     "output_type": "execute_result"
    }
   ],
   "source": [
    "out.shape"
   ]
  },
  {
   "cell_type": "code",
   "execution_count": 20,
   "id": "ecf875c4-67fc-4509-bfb6-cdb11101e12d",
   "metadata": {},
   "outputs": [
    {
     "name": "stdout",
     "output_type": "stream",
     "text": [
      "Input shape: (256, 32, 32, 3)\n",
      "First conv layer output shape: (256, 32, 32, 64)\n",
      "First Residual block output shape: (256, 32, 32, 64)\n",
      "Second Residual block output shape: (256, 32, 32, 64)\n",
      "Third Residual block output shape: (256, 32, 32, 64)\n",
      "Forth Residual block output shape: (256, 16, 16, 128)\n",
      "Fifth Residual block output shape: (256, 16, 16, 128)\n",
      "Sixth Residual block output shape: (256, 16, 16, 128)\n",
      "Seventh Residual block output shape: (256, 16, 16, 128)\n",
      "Eigth Residual block output shape: (256, 8, 8, 256)\n",
      "Ninth Residual block output shape: (256, 8, 8, 256)\n",
      "Tenth Residual block output shape: (256, 8, 8, 256)\n",
      "Eleventh Residual block output shape: (256, 8, 8, 256)\n",
      "Twelth Residual block output shape: (256, 8, 8, 256)\n",
      "Thirteenth Residual block output shape: (256, 8, 8, 256)\n",
      "Fourteenth Residual block output shape: (256, 4, 4, 512)\n",
      "Fifteenth Residual block output shape: (256, 4, 4, 512)\n",
      "Sixteenth Residual block output shape: (256, 4, 4, 512)\n",
      "Global Average Pool 2D output shape: (256, 512)\n",
      "Output layer shape: (256, 10)\n"
     ]
    }
   ],
   "source": [
    "model.shape_computation(x)"
   ]
  },
  {
   "cell_type": "code",
   "execution_count": 21,
   "id": "0afc1931-7542-43ab-befa-fd4ddf99e036",
   "metadata": {},
   "outputs": [],
   "source": [
    "del x, y, out"
   ]
  },
  {
   "cell_type": "code",
   "execution_count": null,
   "id": "ed5729f4-3ece-423e-a670-7dcb69e34ce6",
   "metadata": {},
   "outputs": [],
   "source": []
  },
  {
   "cell_type": "code",
   "execution_count": 22,
   "id": "6efeb605-afef-4fd4-943b-76063dc579bd",
   "metadata": {},
   "outputs": [
    {
     "name": "stdout",
     "output_type": "stream",
     "text": [
      "layer: (3, 3, 3, 64) has 1728 params\n",
      "layer: (64,) has 64 params\n",
      "layer: (64,) has 0 params\n",
      "layer: (3, 3, 64, 64) has 36864 params\n",
      "layer: (64,) has 64 params\n",
      "layer: (64,) has 0 params\n",
      "layer: (3, 3, 64, 64) has 36864 params\n",
      "layer: (64,) has 64 params\n",
      "layer: (64,) has 0 params\n",
      "layer: (3, 3, 64, 64) has 36864 params\n",
      "layer: (64,) has 64 params\n",
      "layer: (64,) has 0 params\n",
      "layer: (3, 3, 64, 64) has 36864 params\n",
      "layer: (64,) has 64 params\n",
      "layer: (64,) has 0 params\n",
      "layer: (3, 3, 64, 64) has 36864 params\n",
      "layer: (64,) has 64 params\n",
      "layer: (64,) has 0 params\n",
      "layer: (3, 3, 64, 64) has 36864 params\n",
      "layer: (64,) has 64 params\n",
      "layer: (64,) has 0 params\n",
      "layer: (3, 3, 64, 128) has 73728 params\n",
      "layer: (128,) has 128 params\n",
      "layer: (128,) has 0 params\n",
      "layer: (3, 3, 128, 128) has 147456 params\n",
      "layer: (128,) has 128 params\n",
      "layer: (128,) has 0 params\n",
      "layer: (3, 3, 64, 128) has 73728 params\n",
      "layer: (128,) has 128 params\n",
      "layer: (128,) has 0 params\n",
      "layer: (3, 3, 128, 128) has 147456 params\n",
      "layer: (128,) has 128 params\n",
      "layer: (128,) has 0 params\n",
      "layer: (3, 3, 128, 128) has 147456 params\n",
      "layer: (128,) has 128 params\n",
      "layer: (128,) has 0 params\n",
      "layer: (3, 3, 128, 128) has 147456 params\n",
      "layer: (128,) has 128 params\n",
      "layer: (128,) has 0 params\n",
      "layer: (3, 3, 128, 128) has 147456 params\n",
      "layer: (128,) has 128 params\n",
      "layer: (128,) has 0 params\n",
      "layer: (3, 3, 128, 128) has 147456 params\n",
      "layer: (128,) has 128 params\n",
      "layer: (128,) has 0 params\n",
      "layer: (3, 3, 128, 128) has 147456 params\n",
      "layer: (128,) has 128 params\n",
      "layer: (128,) has 0 params\n",
      "layer: (3, 3, 128, 256) has 294912 params\n",
      "layer: (256,) has 256 params\n",
      "layer: (256,) has 0 params\n",
      "layer: (3, 3, 256, 256) has 589824 params\n",
      "layer: (256,) has 256 params\n",
      "layer: (256,) has 0 params\n",
      "layer: (3, 3, 128, 256) has 294912 params\n",
      "layer: (256,) has 256 params\n",
      "layer: (256,) has 0 params\n",
      "layer: (3, 3, 256, 256) has 589824 params\n",
      "layer: (256,) has 256 params\n",
      "layer: (256,) has 0 params\n",
      "layer: (3, 3, 256, 256) has 589824 params\n",
      "layer: (256,) has 256 params\n",
      "layer: (256,) has 0 params\n",
      "layer: (3, 3, 256, 256) has 589824 params\n",
      "layer: (256,) has 256 params\n",
      "layer: (256,) has 0 params\n",
      "layer: (3, 3, 256, 256) has 589824 params\n",
      "layer: (256,) has 256 params\n",
      "layer: (256,) has 0 params\n",
      "layer: (3, 3, 256, 256) has 589824 params\n",
      "layer: (256,) has 256 params\n",
      "layer: (256,) has 0 params\n",
      "layer: (3, 3, 256, 256) has 589824 params\n",
      "layer: (256,) has 256 params\n",
      "layer: (256,) has 0 params\n",
      "layer: (3, 3, 256, 256) has 589824 params\n",
      "layer: (256,) has 256 params\n",
      "layer: (256,) has 0 params\n",
      "layer: (3, 3, 256, 256) has 589824 params\n",
      "layer: (256,) has 256 params\n",
      "layer: (256,) has 0 params\n",
      "layer: (3, 3, 256, 256) has 589824 params\n",
      "layer: (256,) has 256 params\n",
      "layer: (256,) has 0 params\n",
      "layer: (3, 3, 256, 256) has 589824 params\n",
      "layer: (256,) has 256 params\n",
      "layer: (256,) has 0 params\n",
      "layer: (3, 3, 256, 512) has 1179648 params\n",
      "layer: (512,) has 512 params\n",
      "layer: (512,) has 0 params\n",
      "layer: (3, 3, 512, 512) has 2359296 params\n",
      "layer: (512,) has 512 params\n",
      "layer: (512,) has 0 params\n",
      "layer: (3, 3, 256, 512) has 1179648 params\n",
      "layer: (512,) has 512 params\n",
      "layer: (512,) has 0 params\n",
      "layer: (3, 3, 512, 512) has 2359296 params\n",
      "layer: (512,) has 512 params\n",
      "layer: (512,) has 0 params\n",
      "layer: (3, 3, 512, 512) has 2359296 params\n",
      "layer: (512,) has 512 params\n",
      "layer: (512,) has 0 params\n",
      "layer: (3, 3, 512, 512) has 2359296 params\n",
      "layer: (512,) has 512 params\n",
      "layer: (512,) has 0 params\n",
      "layer: (3, 3, 512, 512) has 2359296 params\n",
      "layer: (512,) has 512 params\n",
      "layer: (512,) has 0 params\n",
      "layer: (512, 10) has 5120 params\n",
      "layer: (10,) has 0 params\n"
     ]
    }
   ],
   "source": [
    "# Count number of trainable parameters in ResNet-18 model-\n",
    "tot_params = 0\n",
    "\n",
    "for layer in model.trainable_weights:\n",
    "    loc_params = tf.math.count_nonzero(layer, axis = None).numpy()\n",
    "    print(f\"layer: {layer.shape} has {loc_params} params\")\n",
    "    tot_params += loc_params"
   ]
  },
  {
   "cell_type": "code",
   "execution_count": 23,
   "id": "4c07442d-3424-4d8e-adba-b89377facf17",
   "metadata": {},
   "outputs": [
    {
     "name": "stdout",
     "output_type": "stream",
     "text": [
      "ResNet-34 has 22649856 trainable parameters\n"
     ]
    }
   ],
   "source": [
    "print(f\"ResNet-34 has {tot_params} trainable parameters\")"
   ]
  },
  {
   "cell_type": "code",
   "execution_count": 24,
   "id": "f8d9ac04-82b6-4a3a-9eca-fb0a2c09c4c6",
   "metadata": {},
   "outputs": [
    {
     "name": "stdout",
     "output_type": "stream",
     "text": [
      "Number of training weights = 22658378 and non-trainable weights = 17024\n",
      "Total number of parameters = 22675402\n"
     ]
    }
   ],
   "source": [
    "import tensorflow.keras.backend as K\n",
    "\n",
    "\n",
    "# METHOD-1: This also counts biases\n",
    "trainable_wts = np.sum([K.count_params(w) for w in model.trainable_weights])\n",
    "non_trainable_wts = np.sum([K.count_params(w) for w in model.non_trainable_weights])\n",
    "\n",
    "print(f\"Number of training weights = {trainable_wts} and non-trainable weights = {non_trainable_wts}\")\n",
    "print(f\"Total number of parameters = {trainable_wts + non_trainable_wts}\")"
   ]
  },
  {
   "cell_type": "code",
   "execution_count": 25,
   "id": "581118ce-2e17-4860-b82d-f168a388b562",
   "metadata": {},
   "outputs": [
    {
     "name": "stdout",
     "output_type": "stream",
     "text": [
      "According to tf.keras.backend: Number of training weights = 22658378, non-trainable weights = 17024 and total number of parameters = 22675402\n",
      "According to tf.math.count_nonzero() method, total number of trainable weights = 22649856\n"
     ]
    }
   ],
   "source": [
    "print(f\"According to tf.keras.backend: Number of training weights = {trainable_wts},\"\n",
    "      f\" non-trainable weights = {non_trainable_wts} and total number of parameters \"\n",
    "      f\"= {(trainable_wts + non_trainable_wts)}\")\n",
    "print(f\"According to tf.math.count_nonzero() method, total number of trainable weights = {tot_params}\")"
   ]
  },
  {
   "cell_type": "code",
   "execution_count": null,
   "id": "10831111-bf16-4337-83e5-a0c62620ab10",
   "metadata": {},
   "outputs": [],
   "source": []
  },
  {
   "cell_type": "markdown",
   "id": "752b9bae-c2e9-4cd9-b7f7-f90895171da1",
   "metadata": {},
   "source": [
    "#### Image Augmentation using ImageDataGenerator:\n",
    "\n",
    "[Reference](https://www.tensorflow.org/api_docs/python/tf/keras/preprocessing/image/ImageDataGenerator)"
   ]
  },
  {
   "cell_type": "code",
   "execution_count": 26,
   "id": "8643a11c-e129-4701-b77f-dbb61c7d7cc5",
   "metadata": {},
   "outputs": [],
   "source": [
    "# Example of using 'tf.keras.preprocessing.image import ImageDataGenerator class's - flow(x, y)':\n",
    "datagen = ImageDataGenerator(\n",
    "    # featurewise_center=True,\n",
    "    # featurewise_std_normalization=True,\n",
    "    rotation_range = 15,\n",
    "    width_shift_range = 0.1, # 0.2\n",
    "    height_shift_range = 0.1, # 0.2\n",
    "    horizontal_flip = True\n",
    ")\n",
    "\n",
    "# flow():\n",
    "# Takes data & label arrays, generates batches of augmented data.\n",
    "\n",
    "# datagen.flow(X_train, y_train, batch_size=batch_size, shuffle=True)"
   ]
  },
  {
   "cell_type": "code",
   "execution_count": 27,
   "id": "70720d33-4d9a-4e40-838e-c73695486135",
   "metadata": {},
   "outputs": [],
   "source": [
    "# compute quantities required for featurewise normalization\n",
    "# (std, mean, and principal components if ZCA whitening is applied)\n",
    "datagen.fit(X_train)"
   ]
  },
  {
   "cell_type": "code",
   "execution_count": null,
   "id": "f60458cc-c828-40ae-b2be-46eb6bf933e8",
   "metadata": {},
   "outputs": [],
   "source": []
  },
  {
   "cell_type": "code",
   "execution_count": null,
   "id": "df18ed13-f392-4397-9ed4-7fd844f9d3c1",
   "metadata": {},
   "outputs": [],
   "source": []
  },
  {
   "cell_type": "code",
   "execution_count": 28,
   "id": "54344882-6e3b-4a0b-afd0-12b885f9ab42",
   "metadata": {},
   "outputs": [],
   "source": [
    "def create_mask_np(model):\n",
    "    # Function to create np mask using TF2 neural\n",
    "    # network 'model' as input.\n",
    "    \n",
    "    # Python3 list to contain masks-\n",
    "    mask_model = []\n",
    "    \n",
    "    for layer in model.trainable_weights:\n",
    "        m = np.ones_like(layer, dtype = np.int8)\n",
    "        mask_model.append(m)\n",
    "        \n",
    "    return mask_model\n"
   ]
  },
  {
   "cell_type": "code",
   "execution_count": null,
   "id": "ff853047-64b3-4110-8427-915243d85ec4",
   "metadata": {},
   "outputs": [],
   "source": []
  },
  {
   "cell_type": "code",
   "execution_count": 29,
   "id": "766b2caf-681b-41f5-99c9-5af4c103ca64",
   "metadata": {},
   "outputs": [],
   "source": [
    "# Sanity check-\n",
    "mask_model = create_mask_np(model = model)"
   ]
  },
  {
   "cell_type": "code",
   "execution_count": null,
   "id": "8611f97c-a2f0-4db1-86ea-272dcf1edb5c",
   "metadata": {},
   "outputs": [],
   "source": []
  },
  {
   "cell_type": "code",
   "execution_count": 30,
   "id": "abc29343-4e94-4fd1-89ed-147611ac7eea",
   "metadata": {},
   "outputs": [],
   "source": [
    "def count_nonzero_masks(mask_model):\n",
    "    # Count non-zero masks using Python3 'mask_model'\n",
    "    # list of np arrays as input.\n",
    "    \n",
    "    tot_masks = 0\n",
    "    for x in mask_model:\n",
    "        loc_masks = np.count_nonzero(x)\n",
    "        tot_masks += loc_masks\n",
    "        # print(f\"mask.shape: {x.shape} has {np.count_nonzero(x)} masks\")\n",
    "        \n",
    "    return tot_masks\n"
   ]
  },
  {
   "cell_type": "code",
   "execution_count": 31,
   "id": "4d9e3071-6404-40d4-9c21-0d02b0cae53a",
   "metadata": {},
   "outputs": [],
   "source": [
    "def count_params(model):\n",
    "    # Function to count number of non-zero parameters.\n",
    "    model_sum_params = 0\n",
    "\n",
    "    for layer in model.trainable_weights:\n",
    "        # print(tf.math.count_nonzero(layer, axis = None).numpy())\n",
    "        model_sum_params += tf.math.count_nonzero(layer, axis = None).numpy()\n",
    "    \n",
    "    return model_sum_params\n",
    "    \n"
   ]
  },
  {
   "cell_type": "code",
   "execution_count": null,
   "id": "5c62bd89-6829-4e02-8d5c-6228776f8543",
   "metadata": {},
   "outputs": [],
   "source": []
  },
  {
   "cell_type": "code",
   "execution_count": 32,
   "id": "7880abd5-4efb-49e4-a408-7a4a885a81c2",
   "metadata": {},
   "outputs": [
    {
     "name": "stdout",
     "output_type": "stream",
     "text": [
      " total # of params = 22649856 & # of masks = 22658378\n"
     ]
    }
   ],
   "source": [
    "print(f\" total # of params = {tot_params} & # of masks = \"\n",
    "      f\"{count_nonzero_masks(mask_model = mask_model)}\")"
   ]
  },
  {
   "cell_type": "code",
   "execution_count": null,
   "id": "da94501b-baec-458b-9aa4-a5eb2ca0ab84",
   "metadata": {},
   "outputs": [],
   "source": []
  },
  {
   "cell_type": "code",
   "execution_count": null,
   "id": "855a5171-d0fb-444b-95be-d72ac3224650",
   "metadata": {},
   "outputs": [],
   "source": []
  },
  {
   "cell_type": "markdown",
   "id": "b9059492-2d63-40d1-b596-514dc152cf75",
   "metadata": {},
   "source": [
    "### Learning rate warmup:\n",
    "\n",
    "Using a large learning rate may result in numerical instability especially at the very beginning of training where parameters are randomly initialized. The warmup strategy increases the learning rate from 0 to the initial learning rate linearly during the initial __N__ epochs or __m__ batches.\n",
    "\n",
    "Even though Keras already came with the LearningRateScheduler capable of updating the learning rate for each training epoch, in order to achieve finer updates for each batch, the following code is how you can implement a custom Keras callback to do that."
   ]
  },
  {
   "cell_type": "code",
   "execution_count": 33,
   "id": "83823d03-c7d6-4049-b6bc-02d4ee0d49b2",
   "metadata": {},
   "outputs": [],
   "source": [
    "from typing import Callable, List, Optional, Union"
   ]
  },
  {
   "cell_type": "code",
   "execution_count": 34,
   "id": "28152ab6-8d1b-4513-89ad-84a6e798bb71",
   "metadata": {},
   "outputs": [],
   "source": [
    "class WarmUp(tf.keras.optimizers.schedules.LearningRateSchedule):\n",
    "    \"\"\"\n",
    "    Applies a warmup schedule on a given learning rate decay schedule.\n",
    "\n",
    "    Args:\n",
    "        initial_learning_rate (:obj:`float`):\n",
    "            The initial learning rate for the schedule after the warmup (so this will be the learning rate at the end\n",
    "            of the warmup).\n",
    "            \n",
    "        decay_schedule_fn (:obj:`Callable`):\n",
    "            The schedule function to apply after the warmup for the rest of training.\n",
    "        \n",
    "        warmup_steps (:obj:`int`):\n",
    "            The number of steps for the warmup part of training.\n",
    "        \n",
    "        power (:obj:`float`, `optional`, defaults to 1):\n",
    "            The power to use for the polynomial warmup (defaults is a linear warmup).\n",
    "        \n",
    "        name (:obj:`str`, `optional`):\n",
    "            Optional name prefix for the returned tensors during the schedule.\n",
    "    \"\"\"\n",
    "\n",
    "    def __init__(\n",
    "        self,\n",
    "        initial_learning_rate: float,\n",
    "        decay_schedule_fn: Callable,\n",
    "        warmup_steps: int,\n",
    "        power: float = 1.0,\n",
    "        name: str = None,\n",
    "    ):\n",
    "        super().__init__()\n",
    "        self.initial_learning_rate = initial_learning_rate\n",
    "        self.warmup_steps = warmup_steps\n",
    "        self.power = power\n",
    "        self.decay_schedule_fn = decay_schedule_fn\n",
    "        self.name = name\n",
    "\n",
    "    def __call__(self, step):\n",
    "        with tf.name_scope(self.name or \"WarmUp\") as name:\n",
    "            # Implements polynomial warmup. i.e., if global_step < warmup_steps, the\n",
    "            # learning rate will be `global_step/num_warmup_steps * init_lr`.\n",
    "            global_step_float = tf.cast(step, tf.float32)\n",
    "            warmup_steps_float = tf.cast(self.warmup_steps, tf.float32)\n",
    "            warmup_percent_done = global_step_float / warmup_steps_float\n",
    "            warmup_learning_rate = self.initial_learning_rate * tf.math.pow(warmup_percent_done, self.power)\n",
    "            return tf.cond(\n",
    "                global_step_float < warmup_steps_float,\n",
    "                lambda: warmup_learning_rate,\n",
    "                lambda: self.decay_schedule_fn(step - self.warmup_steps),\n",
    "                name=name,\n",
    "            )\n",
    "\n",
    "    def get_config(self):\n",
    "        return {\n",
    "            \"initial_learning_rate\": self.initial_learning_rate,\n",
    "            \"decay_schedule_fn\": self.decay_schedule_fn,\n",
    "            \"warmup_steps\": self.warmup_steps,\n",
    "            \"power\": self.power,\n",
    "            \"name\": self.name,\n",
    "        }\n",
    "    "
   ]
  },
  {
   "cell_type": "code",
   "execution_count": null,
   "id": "693608f8-6c49-46da-add3-0d7489a0a609",
   "metadata": {},
   "outputs": [],
   "source": []
  },
  {
   "cell_type": "code",
   "execution_count": 35,
   "id": "2ba54b0e-98b0-4476-909a-292de69974c6",
   "metadata": {},
   "outputs": [
    {
     "name": "stdout",
     "output_type": "stream",
     "text": [
      "CIFAR-10: Using a batch size of 256 gives 195.3125 training steps\n"
     ]
    }
   ],
   "source": [
    "print(f\"CIFAR-10: Using a batch size of {batch_size} gives {len(X_train) / batch_size} training steps\")"
   ]
  },
  {
   "cell_type": "code",
   "execution_count": null,
   "id": "78f7d2b9-24bc-44b8-a693-de2dad030352",
   "metadata": {},
   "outputs": [],
   "source": []
  },
  {
   "cell_type": "markdown",
   "id": "ee754214-bd62-4dce-9b8b-b36a5f0ab64c",
   "metadata": {},
   "source": [
    "### Train model with learning rate scheduler\n",
    "\n",
    "Training dataset = 50000, batch size = 256, number of training steps/iterations per epoch = 50000 / 256 = 195.3125 = 195\n",
    "\n",
    "After an initial linear learning rate warmup of 13 epochs or 2539 training steps:\n",
    "\n",
    "- For the next 32 epochs, or, 6250 steps - until 43rd epoch, use lr = 0.1.\n",
    "\n",
    "- For the next 25 epochs, or, 4882 steps - until 68th epoch, use lr = 0.01.\n",
    "\n",
    "- For remaining epochs (13 epochs), use lr = 0.001."
   ]
  },
  {
   "cell_type": "code",
   "execution_count": 36,
   "id": "90da50b0-2c76-428a-bb0e-375494f1123d",
   "metadata": {},
   "outputs": [],
   "source": [
    "boundaries = [6250, 11132]\n",
    "values = [0.1, 0.01, 0.001]"
   ]
  },
  {
   "cell_type": "markdown",
   "id": "42f432f8-a84c-4cb4-b569-ace83c67a4f5",
   "metadata": {},
   "source": [
    "tf.keras.optimizers.schedules.PiecewiseConstantDecay\n",
    "\n",
    "A LearningRateSchedule that uses a piecewise constant decay schedule. Inherits From: ```LearningRateSchedule```\n",
    "\n",
    "tf.keras.optimizers.schedules.PiecewiseConstantDecay(\n",
    "    boundaries, values, name=None\n",
    ")\n",
    "\n",
    "The function returns a 1-arg callable to compute the piecewise constant when passed the current optimizer step. This can be useful for changing the learning rate value across different invocations of optimizer functions.\n",
    "\n",
    "Example: use a learning rate that's 1.0 for the first 100001 steps, 0.5 for the next 10000 steps, and 0.1 for any additional steps.\n",
    "\n",
    "```\n",
    "step = tf.Variable(0, trainable=False)\n",
    "boundaries = [100000, 110000]\n",
    "values = [1.0, 0.5, 0.1]\n",
    "learning_rate_fn = keras.optimizers.schedules.PiecewiseConstantDecay(\n",
    "    boundaries, values)\n",
    "\n",
    "# Later, whenever we perform an optimization step, we pass in the step.\n",
    "learning_rate = learning_rate_fn(step)\n",
    "```\n",
    "\n",
    "You can pass this schedule directly into a tf.keras.optimizers.Optimizer as the learning rate. The learning rate schedule is also serializable and deserializable using ```tf.keras.optimizers.schedules.serialize``` and ```tf.keras.optimizers.schedules.deserialize```.\n",
    "\n",
    "__Returns__ A 1-arg callable learning rate schedule that takes the current optimizer step and outputs the decayed learning rate, a scalar Tensor of the same type as the boundary tensors.\n",
    "\n",
    "The output of the 1-arg function that takes the ```step``` is ```values[0]``` when ```step <= boundaries[0]```, ```values[1]``` when ```step > boundaries[0]``` and ```step <= boundaries[1]```, ..., and ```values[-1]``` when ```step > boundaries[-1]```.\n",
    "\n",
    "[tf.keras.optimizers.schedules.PiecewiseConstantDecay](https://www.tensorflow.org/api_docs/python/tf/keras/optimizers/schedules/PiecewiseConstantDecay)"
   ]
  },
  {
   "cell_type": "code",
   "execution_count": 37,
   "id": "b08c7686-626b-4bd1-90cc-d7dcdcc5ffc1",
   "metadata": {},
   "outputs": [],
   "source": [
    "learning_rate_fn = tf.keras.optimizers.schedules.PiecewiseConstantDecay(boundaries, values)"
   ]
  },
  {
   "cell_type": "code",
   "execution_count": 38,
   "id": "1cab1272-4efc-4971-91e8-995d52a70805",
   "metadata": {},
   "outputs": [],
   "source": [
    "warmup_shcedule = WarmUp(initial_learning_rate = 0.1, decay_schedule_fn = learning_rate_fn, warmup_steps = 2539)"
   ]
  },
  {
   "cell_type": "code",
   "execution_count": 39,
   "id": "a413a4ef-4633-44fd-95c3-e412fbdb3002",
   "metadata": {},
   "outputs": [],
   "source": [
    "optimizer = tf.keras.optimizers.SGD(learning_rate = warmup_shcedule, momentum = 0.9, decay = 0.0, nesterov = False)"
   ]
  },
  {
   "cell_type": "code",
   "execution_count": null,
   "id": "f3f44596-d068-4c3f-a3ed-e607d04b4fe8",
   "metadata": {},
   "outputs": [],
   "source": []
  },
  {
   "cell_type": "code",
   "execution_count": null,
   "id": "ba1e01d2-c902-4836-af4a-6601751ded6d",
   "metadata": {},
   "outputs": [],
   "source": []
  },
  {
   "cell_type": "markdown",
   "id": "fc81ef37-d7ff-4fa2-9ebe-6f12798c9af6",
   "metadata": {},
   "source": [
    "### Train model using ```tf.GradientTape```:"
   ]
  },
  {
   "cell_type": "code",
   "execution_count": 40,
   "id": "8980ff09-f29a-475b-b26e-8afe9ba545d5",
   "metadata": {},
   "outputs": [],
   "source": [
    "# Define 'train_one_step()' and 'test_step()' functions here-\n",
    "@tf.function\n",
    "def train_one_step(model, mask_model, optimizer, x, y):\n",
    "    '''\n",
    "    Function to compute one step of gradient descent optimization\n",
    "    '''\n",
    "    with tf.GradientTape() as tape:\n",
    "        # Make predictions using defined model-\n",
    "        y_pred = model(x)\n",
    "\n",
    "        # Compute loss-\n",
    "        loss = loss_fn(y, y_pred)\n",
    "        \n",
    "    # Compute gradients wrt defined loss and weights and biases-\n",
    "    grads = tape.gradient(loss, model.trainable_variables)\n",
    "    \n",
    "    # type(grads)\n",
    "    # list\n",
    "    \n",
    "    # List to hold element-wise multiplication between-\n",
    "    # computed gradient and masks-\n",
    "    grad_mask_mul = []\n",
    "    \n",
    "    # Perform element-wise multiplication between computed gradients and masks-\n",
    "    '''\n",
    "    for grad_layer, mask in zip(grads, mask_model.trainable_weights):\n",
    "        grad_mask_mul.append(tf.math.multiply(grad_layer, mask))\n",
    "    '''\n",
    "    for grad_layer, mask in zip(grads, mask_model):\n",
    "        grad_mask_mul.append(\n",
    "            tf.math.multiply(\n",
    "                grad_layer, tf.cast(x = mask, dtype = tf.float32)\n",
    "                # grad_layer, tf.convert_to_tensor(value = mask, dtype = tf.float32)\n",
    "            )\n",
    "        )\n",
    "    \n",
    "    # Apply computed gradients to model's weights and biases-\n",
    "    optimizer.apply_gradients(zip(grad_mask_mul, model.trainable_variables))\n",
    "\n",
    "    # Compute accuracy-\n",
    "    train_loss(loss)\n",
    "    train_accuracy(y, y_pred)\n",
    "\n",
    "    return None\n"
   ]
  },
  {
   "cell_type": "code",
   "execution_count": 41,
   "id": "3708f332-b672-446f-88c8-ea35caec245a",
   "metadata": {},
   "outputs": [],
   "source": [
    "@tf.function\n",
    "def test_step(model, optimizer, data, labels):\n",
    "    \"\"\"\n",
    "    Function to test model performance\n",
    "    on testing dataset\n",
    "    \"\"\"\n",
    "    \n",
    "    predictions = model(data)\n",
    "    t_loss = loss_fn(labels, predictions)\n",
    "\n",
    "    test_loss(t_loss)\n",
    "    test_accuracy(labels, predictions)\n",
    "\n",
    "    return None\n"
   ]
  },
  {
   "cell_type": "code",
   "execution_count": null,
   "id": "4b5a24ed-aa72-452a-bc03-ba63d4b7f8d5",
   "metadata": {},
   "outputs": [],
   "source": []
  },
  {
   "cell_type": "code",
   "execution_count": 42,
   "id": "f990b040-39fd-4fd2-8bec-191a408d7f9d",
   "metadata": {},
   "outputs": [],
   "source": [
    "def train_till_convergence(model, mask_model):\n",
    "    \n",
    "    # Keep track of best validation accuracy-\n",
    "    best_val_acc = 0\n",
    "\n",
    "    \n",
    "    # Python3 dict to contain model training metrics-\n",
    "    train_hist = {}\n",
    "    \n",
    "    # Training Loop:\n",
    "    for epoch in range(num_epochs):\n",
    "    \n",
    "        # Reset the metrics at the start of the next epoch\n",
    "        train_loss.reset_states()\n",
    "        train_accuracy.reset_states()\n",
    "        test_loss.reset_states()\n",
    "        test_accuracy.reset_states()\n",
    "    \n",
    "        # variable to keep track of current training step-\n",
    "        curr_step = 0\n",
    "    \n",
    "        # Train using data augmentation (ImageDataGenerator())-\n",
    "        for x, y in datagen.flow(X_train, y_train, batch_size = batch_size, shuffle = True):\n",
    "            train_one_step(\n",
    "                model = model, mask_model = mask_model,\n",
    "                optimizer = optimizer, x = x,\n",
    "                y = y\n",
    "            )\n",
    "            \n",
    "            # print(\"current step = \", curr_step)\n",
    "            curr_step += 1\n",
    "        \n",
    "            # break out of infinite loop to end current training epoch-\n",
    "            if curr_step >= X_train.shape[0] // batch_size:\n",
    "                # print(\"\\nTerminating training (datagen.flow())\")\n",
    "                break\n",
    "\n",
    "        # Testing dataset-\n",
    "        for x_t, y_t in test_dataset:\n",
    "            test_step(\n",
    "                model = model, optimizer = optimizer,\n",
    "                data = x_t, labels = y_t\n",
    "            )\n",
    "\n",
    "    \n",
    "        print(f\"\\nEpoch = {epoch + 1}; loss = {train_loss.result().numpy():.4f}, accuracy = {train_accuracy.result().numpy() * 100:.3f}%\",\n",
    "              f\" val loss = {test_loss.result().numpy():.4f}, val acc = {test_accuracy.result().numpy() * 100:.3f}%\"\n",
    "              f\" LR = {optimizer._decayed_lr('float32').numpy():.6f} & step_val = {optimizer.iterations.numpy()}\"\n",
    "             )\n",
    "    \n",
    "        train_hist[epoch + 1] = {\n",
    "            'loss': train_loss.result().numpy(), 'acc': train_accuracy.result().numpy() * 100,\n",
    "            'val_loss': test_loss.result().numpy(), 'val_acc': test_accuracy.result().numpy() * 100,\n",
    "            'lr': optimizer._decayed_lr('float32').numpy(), 'step_val': optimizer.iterations.numpy()\n",
    "        }\n",
    "        \n",
    "        # Compute sparsity-\n",
    "        sparsity = (tot_params - count_params(model)) / tot_params * 100\n",
    "        \n",
    "        # Count number of non-zero parameters in each layer and in total-\n",
    "        print(f\"ResNet-34: total # of trainable parameters = {count_params(model = model)}, \"\n",
    "              f\"# of masks = {count_nonzero_masks(mask_model = mask_model)} & sparsity = {sparsity:.3f}%\"\n",
    "             )\n",
    "    \n",
    "    \n",
    "        # Save 'best' trained model so far-\n",
    "        if (test_accuracy.result() * 100 > best_val_acc):\n",
    "\n",
    "            # Update 'best_val_loss' variable to lowest loss encountered so far-\n",
    "            # best_val_loss = test_loss.result()\n",
    "        \n",
    "            # Update best val acc to highest val acc so far-\n",
    "            best_val_acc = test_accuracy.result() * 100\n",
    "        \n",
    "            # print(f\"Saving model with lowest val_loss = {test_loss.result():.4f}\\n\")\n",
    "            print(f\"Saving trained model with highest val_acc = {best_val_acc:.3f}%, sparsity = {sparsity:.3f}%\")\n",
    "        \n",
    "            # Save trained model with 'best' validation accuracy-\n",
    "            model.save_weights(f\"ResNet34_best_val_acc_{sparsity:.2f}.h5\", overwrite = True)\n",
    "    \n",
    "    \n",
    "    return model, train_hist\n"
   ]
  },
  {
   "cell_type": "code",
   "execution_count": null,
   "id": "7c231e52-7297-4db8-8d7d-2d6447ee67ce",
   "metadata": {},
   "outputs": [],
   "source": []
  },
  {
   "cell_type": "code",
   "execution_count": 43,
   "id": "dc8fb462-76b4-44d9-abcd-beb00c40eea9",
   "metadata": {},
   "outputs": [
    {
     "name": "stdout",
     "output_type": "stream",
     "text": [
      "\n",
      "Epoch = 1; loss = 7.1201, accuracy = 12.077%  val loss = 2.2928, val acc = 14.550% LR = 0.007680 & step_val = 195\n",
      "ResNet-34: total # of trainable parameters = 22658378, # of masks = 22658378 & sparsity = -0.038%\n",
      "Saving trained model with highest val_acc = 14.550%, sparsity = -0.038%\n",
      "\n",
      "Epoch = 2; loss = 2.2165, accuracy = 16.599%  val loss = 2.0636, val acc = 22.520% LR = 0.015360 & step_val = 390\n",
      "ResNet-34: total # of trainable parameters = 22658378, # of masks = 22658378 & sparsity = -0.038%\n",
      "Saving trained model with highest val_acc = 22.520%, sparsity = -0.038%\n",
      "\n",
      "Epoch = 3; loss = 2.0862, accuracy = 21.050%  val loss = 2.0538, val acc = 20.540% LR = 0.023041 & step_val = 585\n",
      "ResNet-34: total # of trainable parameters = 22658378, # of masks = 22658378 & sparsity = -0.038%\n",
      "\n",
      "Epoch = 4; loss = 2.0202, accuracy = 24.187%  val loss = 1.8849, val acc = 30.180% LR = 0.030721 & step_val = 780\n",
      "ResNet-34: total # of trainable parameters = 22658378, # of masks = 22658378 & sparsity = -0.038%\n",
      "Saving trained model with highest val_acc = 30.180%, sparsity = -0.038%\n",
      "\n",
      "Epoch = 5; loss = 1.7877, accuracy = 33.642%  val loss = 1.6133, val acc = 40.370% LR = 0.038401 & step_val = 975\n",
      "ResNet-34: total # of trainable parameters = 22658378, # of masks = 22658378 & sparsity = -0.038%\n",
      "Saving trained model with highest val_acc = 40.370%, sparsity = -0.038%\n",
      "\n",
      "Epoch = 6; loss = 1.5676, accuracy = 42.436%  val loss = 1.5054, val acc = 44.560% LR = 0.046081 & step_val = 1170\n",
      "ResNet-34: total # of trainable parameters = 22658378, # of masks = 22658378 & sparsity = -0.038%\n",
      "Saving trained model with highest val_acc = 44.560%, sparsity = -0.038%\n",
      "\n",
      "Epoch = 7; loss = 1.4052, accuracy = 48.676%  val loss = 1.3670, val acc = 50.030% LR = 0.053761 & step_val = 1365\n",
      "ResNet-34: total # of trainable parameters = 22658378, # of masks = 22658378 & sparsity = -0.038%\n",
      "Saving trained model with highest val_acc = 50.030%, sparsity = -0.038%\n",
      "\n",
      "Epoch = 8; loss = 1.2385, accuracy = 55.174%  val loss = 1.1760, val acc = 58.190% LR = 0.061442 & step_val = 1560\n",
      "ResNet-34: total # of trainable parameters = 22658378, # of masks = 22658378 & sparsity = -0.038%\n",
      "Saving trained model with highest val_acc = 58.190%, sparsity = -0.038%\n",
      "\n",
      "Epoch = 9; loss = 1.1127, accuracy = 60.092%  val loss = 0.9592, val acc = 66.330% LR = 0.069122 & step_val = 1755\n",
      "ResNet-34: total # of trainable parameters = 22658378, # of masks = 22658378 & sparsity = -0.038%\n",
      "Saving trained model with highest val_acc = 66.330%, sparsity = -0.038%\n",
      "\n",
      "Epoch = 10; loss = 0.9908, accuracy = 64.441%  val loss = 0.9393, val acc = 67.830% LR = 0.076802 & step_val = 1950\n",
      "ResNet-34: total # of trainable parameters = 22658378, # of masks = 22658378 & sparsity = -0.038%\n",
      "Saving trained model with highest val_acc = 67.830%, sparsity = -0.038%\n",
      "\n",
      "Epoch = 11; loss = 0.8886, accuracy = 68.662%  val loss = 0.8072, val acc = 71.720% LR = 0.084482 & step_val = 2145\n",
      "ResNet-34: total # of trainable parameters = 22658378, # of masks = 22658378 & sparsity = -0.038%\n",
      "Saving trained model with highest val_acc = 71.720%, sparsity = -0.038%\n",
      "\n",
      "Epoch = 12; loss = 0.8174, accuracy = 71.026%  val loss = 1.0075, val acc = 66.880% LR = 0.092162 & step_val = 2340\n",
      "ResNet-34: total # of trainable parameters = 22658378, # of masks = 22658378 & sparsity = -0.038%\n",
      "\n",
      "Epoch = 13; loss = 0.7551, accuracy = 73.594%  val loss = 0.7024, val acc = 76.440% LR = 0.099842 & step_val = 2535\n",
      "ResNet-34: total # of trainable parameters = 22658378, # of masks = 22658378 & sparsity = -0.038%\n",
      "Saving trained model with highest val_acc = 76.440%, sparsity = -0.038%\n",
      "\n",
      "Epoch = 14; loss = 0.6955, accuracy = 75.621%  val loss = 0.6766, val acc = 76.980% LR = 0.100000 & step_val = 2730\n",
      "ResNet-34: total # of trainable parameters = 22658378, # of masks = 22658378 & sparsity = -0.038%\n",
      "Saving trained model with highest val_acc = 76.980%, sparsity = -0.038%\n",
      "\n",
      "Epoch = 15; loss = 0.6323, accuracy = 77.776%  val loss = 0.6052, val acc = 78.930% LR = 0.100000 & step_val = 2925\n",
      "ResNet-34: total # of trainable parameters = 22658378, # of masks = 22658378 & sparsity = -0.038%\n",
      "Saving trained model with highest val_acc = 78.930%, sparsity = -0.038%\n",
      "\n",
      "Epoch = 16; loss = 0.5966, accuracy = 79.209%  val loss = 0.6123, val acc = 79.550% LR = 0.100000 & step_val = 3120\n",
      "ResNet-34: total # of trainable parameters = 22658378, # of masks = 22658378 & sparsity = -0.038%\n",
      "Saving trained model with highest val_acc = 79.550%, sparsity = -0.038%\n",
      "\n",
      "Epoch = 17; loss = 0.5636, accuracy = 80.447%  val loss = 0.5601, val acc = 80.840% LR = 0.100000 & step_val = 3315\n",
      "ResNet-34: total # of trainable parameters = 22658378, # of masks = 22658378 & sparsity = -0.038%\n",
      "Saving trained model with highest val_acc = 80.840%, sparsity = -0.038%\n",
      "\n",
      "Epoch = 18; loss = 0.5287, accuracy = 81.573%  val loss = 0.5882, val acc = 80.620% LR = 0.100000 & step_val = 3510\n",
      "ResNet-34: total # of trainable parameters = 22658378, # of masks = 22658378 & sparsity = -0.038%\n",
      "\n",
      "Epoch = 19; loss = 0.4985, accuracy = 82.620%  val loss = 0.5185, val acc = 82.630% LR = 0.100000 & step_val = 3705\n",
      "ResNet-34: total # of trainable parameters = 22658378, # of masks = 22658378 & sparsity = -0.038%\n",
      "Saving trained model with highest val_acc = 82.630%, sparsity = -0.038%\n",
      "\n",
      "Epoch = 20; loss = 0.4685, accuracy = 83.840%  val loss = 0.5015, val acc = 83.550% LR = 0.100000 & step_val = 3900\n",
      "ResNet-34: total # of trainable parameters = 22658378, # of masks = 22658378 & sparsity = -0.038%\n",
      "Saving trained model with highest val_acc = 83.550%, sparsity = -0.038%\n",
      "\n",
      "Epoch = 21; loss = 0.4476, accuracy = 84.447%  val loss = 0.5561, val acc = 82.030% LR = 0.100000 & step_val = 4095\n",
      "ResNet-34: total # of trainable parameters = 22658378, # of masks = 22658378 & sparsity = -0.038%\n",
      "\n",
      "Epoch = 22; loss = 0.4164, accuracy = 85.361%  val loss = 0.4540, val acc = 84.850% LR = 0.100000 & step_val = 4290\n",
      "ResNet-34: total # of trainable parameters = 22658378, # of masks = 22658378 & sparsity = -0.038%\n",
      "Saving trained model with highest val_acc = 84.850%, sparsity = -0.038%\n",
      "\n",
      "Epoch = 23; loss = 0.4000, accuracy = 86.080%  val loss = 0.4537, val acc = 84.680% LR = 0.100000 & step_val = 4485\n",
      "ResNet-34: total # of trainable parameters = 22658378, # of masks = 22658378 & sparsity = -0.038%\n",
      "\n",
      "Epoch = 24; loss = 0.3761, accuracy = 86.933%  val loss = 0.4630, val acc = 85.060% LR = 0.100000 & step_val = 4680\n",
      "ResNet-34: total # of trainable parameters = 22658378, # of masks = 22658378 & sparsity = -0.038%\n",
      "Saving trained model with highest val_acc = 85.060%, sparsity = -0.038%\n",
      "\n",
      "Epoch = 25; loss = 0.3621, accuracy = 87.382%  val loss = 0.4294, val acc = 85.780% LR = 0.100000 & step_val = 4875\n",
      "ResNet-34: total # of trainable parameters = 22658378, # of masks = 22658378 & sparsity = -0.038%\n",
      "Saving trained model with highest val_acc = 85.780%, sparsity = -0.038%\n",
      "\n",
      "Epoch = 26; loss = 0.3477, accuracy = 87.841%  val loss = 0.4727, val acc = 85.510% LR = 0.100000 & step_val = 5070\n",
      "ResNet-34: total # of trainable parameters = 22658378, # of masks = 22658378 & sparsity = -0.038%\n",
      "\n",
      "Epoch = 27; loss = 0.3239, accuracy = 88.698%  val loss = 0.4530, val acc = 85.680% LR = 0.100000 & step_val = 5265\n",
      "ResNet-34: total # of trainable parameters = 22658378, # of masks = 22658378 & sparsity = -0.038%\n",
      "\n",
      "Epoch = 28; loss = 0.3187, accuracy = 88.854%  val loss = 0.4710, val acc = 85.170% LR = 0.100000 & step_val = 5460\n",
      "ResNet-34: total # of trainable parameters = 22658378, # of masks = 22658378 & sparsity = -0.038%\n",
      "\n",
      "Epoch = 29; loss = 0.3088, accuracy = 89.067%  val loss = 0.4087, val acc = 86.980% LR = 0.100000 & step_val = 5655\n",
      "ResNet-34: total # of trainable parameters = 22658378, # of masks = 22658378 & sparsity = -0.038%\n",
      "Saving trained model with highest val_acc = 86.980%, sparsity = -0.038%\n",
      "\n",
      "Epoch = 30; loss = 0.2918, accuracy = 89.611%  val loss = 0.4298, val acc = 86.370% LR = 0.100000 & step_val = 5850\n",
      "ResNet-34: total # of trainable parameters = 22658378, # of masks = 22658378 & sparsity = -0.038%\n",
      "\n",
      "Epoch = 31; loss = 0.2862, accuracy = 90.018%  val loss = 0.4105, val acc = 86.860% LR = 0.100000 & step_val = 6045\n",
      "ResNet-34: total # of trainable parameters = 22658378, # of masks = 22658378 & sparsity = -0.038%\n",
      "\n",
      "Epoch = 32; loss = 0.2644, accuracy = 90.851%  val loss = 0.5136, val acc = 84.640% LR = 0.100000 & step_val = 6240\n",
      "ResNet-34: total # of trainable parameters = 22658378, # of masks = 22658378 & sparsity = -0.038%\n",
      "\n",
      "Epoch = 33; loss = 0.2558, accuracy = 91.044%  val loss = 0.4155, val acc = 86.920% LR = 0.100000 & step_val = 6435\n",
      "ResNet-34: total # of trainable parameters = 22658378, # of masks = 22658378 & sparsity = -0.038%\n",
      "\n",
      "Epoch = 34; loss = 0.2527, accuracy = 91.128%  val loss = 0.4340, val acc = 87.300% LR = 0.100000 & step_val = 6630\n",
      "ResNet-34: total # of trainable parameters = 22658378, # of masks = 22658378 & sparsity = -0.038%\n",
      "Saving trained model with highest val_acc = 87.300%, sparsity = -0.038%\n",
      "\n",
      "Epoch = 35; loss = 0.2435, accuracy = 91.416%  val loss = 0.4432, val acc = 87.480% LR = 0.100000 & step_val = 6825\n",
      "ResNet-34: total # of trainable parameters = 22658378, # of masks = 22658378 & sparsity = -0.038%\n",
      "Saving trained model with highest val_acc = 87.480%, sparsity = -0.038%\n",
      "\n",
      "Epoch = 36; loss = 0.2281, accuracy = 91.969%  val loss = 0.3708, val acc = 88.560% LR = 0.100000 & step_val = 7020\n",
      "ResNet-34: total # of trainable parameters = 22658378, # of masks = 22658378 & sparsity = -0.038%\n",
      "Saving trained model with highest val_acc = 88.560%, sparsity = -0.038%\n",
      "\n",
      "Epoch = 37; loss = 0.2248, accuracy = 92.083%  val loss = 0.3901, val acc = 88.080% LR = 0.100000 & step_val = 7215\n",
      "ResNet-34: total # of trainable parameters = 22658378, # of masks = 22658378 & sparsity = -0.038%\n",
      "\n",
      "Epoch = 38; loss = 0.2263, accuracy = 92.105%  val loss = 0.4098, val acc = 87.770% LR = 0.100000 & step_val = 7410\n",
      "ResNet-34: total # of trainable parameters = 22658378, # of masks = 22658378 & sparsity = -0.038%\n",
      "\n",
      "Epoch = 39; loss = 0.2049, accuracy = 92.863%  val loss = 0.4357, val acc = 87.940% LR = 0.100000 & step_val = 7605\n",
      "ResNet-34: total # of trainable parameters = 22658378, # of masks = 22658378 & sparsity = -0.038%\n",
      "\n",
      "Epoch = 40; loss = 0.1996, accuracy = 93.121%  val loss = 0.4425, val acc = 87.240% LR = 0.100000 & step_val = 7800\n",
      "ResNet-34: total # of trainable parameters = 22658378, # of masks = 22658378 & sparsity = -0.038%\n",
      "\n",
      "Epoch = 41; loss = 0.1942, accuracy = 93.147%  val loss = 0.4191, val acc = 88.050% LR = 0.100000 & step_val = 7995\n",
      "ResNet-34: total # of trainable parameters = 22658378, # of masks = 22658378 & sparsity = -0.038%\n",
      "\n",
      "Epoch = 42; loss = 0.1857, accuracy = 93.351%  val loss = 0.4599, val acc = 86.710% LR = 0.100000 & step_val = 8190\n",
      "ResNet-34: total # of trainable parameters = 22658378, # of masks = 22658378 & sparsity = -0.038%\n",
      "\n",
      "Epoch = 43; loss = 0.1828, accuracy = 93.620%  val loss = 0.4190, val acc = 88.000% LR = 0.100000 & step_val = 8385\n",
      "ResNet-34: total # of trainable parameters = 22658378, # of masks = 22658378 & sparsity = -0.038%\n",
      "\n",
      "Epoch = 44; loss = 0.1746, accuracy = 93.884%  val loss = 0.4118, val acc = 88.560% LR = 0.100000 & step_val = 8580\n",
      "ResNet-34: total # of trainable parameters = 22658378, # of masks = 22658378 & sparsity = -0.038%\n",
      "\n",
      "Epoch = 45; loss = 0.1702, accuracy = 94.101%  val loss = 0.3795, val acc = 88.870% LR = 0.100000 & step_val = 8775\n",
      "ResNet-34: total # of trainable parameters = 22658378, # of masks = 22658378 & sparsity = -0.038%\n",
      "Saving trained model with highest val_acc = 88.870%, sparsity = -0.038%\n",
      "\n",
      "Epoch = 46; loss = 0.1272, accuracy = 95.635%  val loss = 0.3787, val acc = 90.000% LR = 0.010000 & step_val = 8970\n",
      "ResNet-34: total # of trainable parameters = 22658378, # of masks = 22658378 & sparsity = -0.038%\n",
      "Saving trained model with highest val_acc = 90.000%, sparsity = -0.038%\n",
      "\n",
      "Epoch = 47; loss = 0.0866, accuracy = 97.007%  val loss = 0.4073, val acc = 89.680% LR = 0.010000 & step_val = 9165\n",
      "ResNet-34: total # of trainable parameters = 22658378, # of masks = 22658378 & sparsity = -0.038%\n",
      "\n",
      "Epoch = 48; loss = 0.0791, accuracy = 97.298%  val loss = 0.3993, val acc = 90.040% LR = 0.010000 & step_val = 9360\n",
      "ResNet-34: total # of trainable parameters = 22658378, # of masks = 22658378 & sparsity = -0.038%\n",
      "Saving trained model with highest val_acc = 90.040%, sparsity = -0.038%\n",
      "\n",
      "Epoch = 49; loss = 0.0734, accuracy = 97.518%  val loss = 0.4157, val acc = 89.890% LR = 0.010000 & step_val = 9555\n",
      "ResNet-34: total # of trainable parameters = 22658378, # of masks = 22658378 & sparsity = -0.038%\n",
      "\n",
      "Epoch = 50; loss = 0.0721, accuracy = 97.436%  val loss = 0.4141, val acc = 89.870% LR = 0.010000 & step_val = 9750\n",
      "ResNet-34: total # of trainable parameters = 22658378, # of masks = 22658378 & sparsity = -0.038%\n",
      "\n",
      "Epoch = 51; loss = 0.0659, accuracy = 97.714%  val loss = 0.4195, val acc = 90.000% LR = 0.010000 & step_val = 9945\n",
      "ResNet-34: total # of trainable parameters = 22658378, # of masks = 22658378 & sparsity = -0.038%\n",
      "\n",
      "Epoch = 52; loss = 0.0618, accuracy = 97.847%  val loss = 0.4231, val acc = 90.040% LR = 0.010000 & step_val = 10140\n",
      "ResNet-34: total # of trainable parameters = 22658378, # of masks = 22658378 & sparsity = -0.038%\n",
      "\n",
      "Epoch = 53; loss = 0.0603, accuracy = 97.869%  val loss = 0.4188, val acc = 90.350% LR = 0.010000 & step_val = 10335\n",
      "ResNet-34: total # of trainable parameters = 22658378, # of masks = 22658378 & sparsity = -0.038%\n",
      "Saving trained model with highest val_acc = 90.350%, sparsity = -0.038%\n",
      "\n",
      "Epoch = 54; loss = 0.0597, accuracy = 97.941%  val loss = 0.4171, val acc = 90.270% LR = 0.010000 & step_val = 10530\n",
      "ResNet-34: total # of trainable parameters = 22658378, # of masks = 22658378 & sparsity = -0.038%\n",
      "\n",
      "Epoch = 55; loss = 0.0565, accuracy = 97.977%  val loss = 0.4177, val acc = 90.420% LR = 0.010000 & step_val = 10725\n",
      "ResNet-34: total # of trainable parameters = 22658378, # of masks = 22658378 & sparsity = -0.038%\n",
      "Saving trained model with highest val_acc = 90.420%, sparsity = -0.038%\n",
      "\n",
      "Epoch = 56; loss = 0.0515, accuracy = 98.241%  val loss = 0.4237, val acc = 90.510% LR = 0.010000 & step_val = 10920\n",
      "ResNet-34: total # of trainable parameters = 22658378, # of masks = 22658378 & sparsity = -0.038%\n",
      "Saving trained model with highest val_acc = 90.510%, sparsity = -0.038%\n",
      "\n",
      "Epoch = 57; loss = 0.0505, accuracy = 98.181%  val loss = 0.4429, val acc = 90.570% LR = 0.010000 & step_val = 11115\n",
      "ResNet-34: total # of trainable parameters = 22658378, # of masks = 22658378 & sparsity = -0.038%\n",
      "Saving trained model with highest val_acc = 90.570%, sparsity = -0.038%\n",
      "\n",
      "Epoch = 58; loss = 0.0509, accuracy = 98.245%  val loss = 0.4499, val acc = 90.050% LR = 0.010000 & step_val = 11310\n",
      "ResNet-34: total # of trainable parameters = 22658378, # of masks = 22658378 & sparsity = -0.038%\n",
      "\n",
      "Epoch = 59; loss = 0.0477, accuracy = 98.377%  val loss = 0.4465, val acc = 90.310% LR = 0.010000 & step_val = 11505\n",
      "ResNet-34: total # of trainable parameters = 22658378, # of masks = 22658378 & sparsity = -0.038%\n",
      "\n",
      "Epoch = 60; loss = 0.0464, accuracy = 98.403%  val loss = 0.4561, val acc = 90.350% LR = 0.010000 & step_val = 11700\n",
      "ResNet-34: total # of trainable parameters = 22658378, # of masks = 22658378 & sparsity = -0.038%\n",
      "\n",
      "Epoch = 61; loss = 0.0471, accuracy = 98.413%  val loss = 0.4544, val acc = 90.210% LR = 0.010000 & step_val = 11895\n",
      "ResNet-34: total # of trainable parameters = 22658378, # of masks = 22658378 & sparsity = -0.038%\n",
      "\n",
      "Epoch = 62; loss = 0.0442, accuracy = 98.488%  val loss = 0.4406, val acc = 90.400% LR = 0.010000 & step_val = 12090\n",
      "ResNet-34: total # of trainable parameters = 22658378, # of masks = 22658378 & sparsity = -0.038%\n",
      "\n",
      "Epoch = 63; loss = 0.0441, accuracy = 98.480%  val loss = 0.4529, val acc = 90.360% LR = 0.010000 & step_val = 12285\n",
      "ResNet-34: total # of trainable parameters = 22658378, # of masks = 22658378 & sparsity = -0.038%\n",
      "\n",
      "Epoch = 64; loss = 0.0408, accuracy = 98.538%  val loss = 0.4600, val acc = 90.640% LR = 0.010000 & step_val = 12480\n",
      "ResNet-34: total # of trainable parameters = 22658378, # of masks = 22658378 & sparsity = -0.038%\n",
      "Saving trained model with highest val_acc = 90.640%, sparsity = -0.038%\n",
      "\n",
      "Epoch = 65; loss = 0.0406, accuracy = 98.592%  val loss = 0.4609, val acc = 90.530% LR = 0.010000 & step_val = 12675\n",
      "ResNet-34: total # of trainable parameters = 22658378, # of masks = 22658378 & sparsity = -0.038%\n",
      "\n",
      "Epoch = 66; loss = 0.0384, accuracy = 98.654%  val loss = 0.4615, val acc = 90.640% LR = 0.010000 & step_val = 12870\n",
      "ResNet-34: total # of trainable parameters = 22658378, # of masks = 22658378 & sparsity = -0.038%\n",
      "\n",
      "Epoch = 67; loss = 0.0378, accuracy = 98.654%  val loss = 0.4773, val acc = 90.270% LR = 0.010000 & step_val = 13065\n",
      "ResNet-34: total # of trainable parameters = 22658378, # of masks = 22658378 & sparsity = -0.038%\n",
      "\n",
      "Epoch = 68; loss = 0.0389, accuracy = 98.670%  val loss = 0.4591, val acc = 90.560% LR = 0.010000 & step_val = 13260\n",
      "ResNet-34: total # of trainable parameters = 22658378, # of masks = 22658378 & sparsity = -0.038%\n",
      "\n",
      "Epoch = 69; loss = 0.0369, accuracy = 98.716%  val loss = 0.4609, val acc = 90.640% LR = 0.010000 & step_val = 13455\n",
      "ResNet-34: total # of trainable parameters = 22658378, # of masks = 22658378 & sparsity = -0.038%\n",
      "\n",
      "Epoch = 70; loss = 0.0344, accuracy = 98.830%  val loss = 0.4683, val acc = 90.690% LR = 0.010000 & step_val = 13650\n",
      "ResNet-34: total # of trainable parameters = 22658378, # of masks = 22658378 & sparsity = -0.038%\n",
      "Saving trained model with highest val_acc = 90.690%, sparsity = -0.038%\n",
      "\n",
      "Epoch = 71; loss = 0.0327, accuracy = 98.864%  val loss = 0.4742, val acc = 90.680% LR = 0.001000 & step_val = 13845\n",
      "ResNet-34: total # of trainable parameters = 22658378, # of masks = 22658378 & sparsity = -0.038%\n",
      "\n",
      "Epoch = 72; loss = 0.0323, accuracy = 98.834%  val loss = 0.4798, val acc = 90.600% LR = 0.001000 & step_val = 14040\n",
      "ResNet-34: total # of trainable parameters = 22658378, # of masks = 22658378 & sparsity = -0.038%\n",
      "\n",
      "Epoch = 73; loss = 0.0323, accuracy = 98.860%  val loss = 0.4743, val acc = 90.670% LR = 0.001000 & step_val = 14235\n",
      "ResNet-34: total # of trainable parameters = 22658378, # of masks = 22658378 & sparsity = -0.038%\n",
      "\n",
      "Epoch = 74; loss = 0.0306, accuracy = 98.906%  val loss = 0.4835, val acc = 90.540% LR = 0.001000 & step_val = 14430\n",
      "ResNet-34: total # of trainable parameters = 22658378, # of masks = 22658378 & sparsity = -0.038%\n",
      "\n",
      "Epoch = 75; loss = 0.0333, accuracy = 98.824%  val loss = 0.4774, val acc = 90.720% LR = 0.001000 & step_val = 14625\n",
      "ResNet-34: total # of trainable parameters = 22658378, # of masks = 22658378 & sparsity = -0.038%\n",
      "Saving trained model with highest val_acc = 90.720%, sparsity = -0.038%\n",
      "\n",
      "Epoch = 76; loss = 0.0314, accuracy = 98.914%  val loss = 0.4818, val acc = 90.570% LR = 0.001000 & step_val = 14820\n",
      "ResNet-34: total # of trainable parameters = 22658378, # of masks = 22658378 & sparsity = -0.038%\n",
      "\n",
      "Epoch = 77; loss = 0.0314, accuracy = 98.950%  val loss = 0.4806, val acc = 90.570% LR = 0.001000 & step_val = 15015\n",
      "ResNet-34: total # of trainable parameters = 22658378, # of masks = 22658378 & sparsity = -0.038%\n",
      "\n",
      "Epoch = 78; loss = 0.0307, accuracy = 98.982%  val loss = 0.4808, val acc = 90.590% LR = 0.001000 & step_val = 15210\n",
      "ResNet-34: total # of trainable parameters = 22658378, # of masks = 22658378 & sparsity = -0.038%\n",
      "\n",
      "Epoch = 79; loss = 0.0305, accuracy = 98.996%  val loss = 0.4856, val acc = 90.650% LR = 0.001000 & step_val = 15405\n",
      "ResNet-34: total # of trainable parameters = 22658378, # of masks = 22658378 & sparsity = -0.038%\n",
      "\n",
      "Epoch = 80; loss = 0.0305, accuracy = 98.914%  val loss = 0.4820, val acc = 90.670% LR = 0.001000 & step_val = 15600\n",
      "ResNet-34: total # of trainable parameters = 22658378, # of masks = 22658378 & sparsity = -0.038%\n"
     ]
    }
   ],
   "source": [
    "# Train model until convergence-\n",
    "model, train_hist = train_till_convergence(\n",
    "    model = model, mask_model = mask_model\n",
    ")"
   ]
  },
  {
   "cell_type": "code",
   "execution_count": null,
   "id": "56f17cfd-ebf6-4dd8-844b-892742a4cb69",
   "metadata": {},
   "outputs": [],
   "source": []
  },
  {
   "cell_type": "code",
   "execution_count": null,
   "id": "ea71dbe2-4b3b-4baf-8410-c363f90342fe",
   "metadata": {},
   "outputs": [],
   "source": []
  },
  {
   "cell_type": "code",
   "execution_count": 44,
   "id": "635281b8-3076-48c0-97f1-0df50341c456",
   "metadata": {},
   "outputs": [],
   "source": [
    "with open(\"ResNet34_training_history_lr_scheduler.pkl\", \"wb\") as file:\n",
    "    pickle.dump(train_hist, file)"
   ]
  },
  {
   "cell_type": "code",
   "execution_count": null,
   "id": "c90c676e-11f8-4ec2-be7c-11d438d46543",
   "metadata": {},
   "outputs": [],
   "source": []
  },
  {
   "cell_type": "code",
   "execution_count": 45,
   "id": "8c0ce5f2-7d4c-43a7-a272-245cff60a6fd",
   "metadata": {},
   "outputs": [],
   "source": [
    "# Sanity check - Initialize & load best weights model-\n",
    "best_model = ResNet34()\n",
    "best_model.build(input_shape = (None, 32, 32, 3))\n",
    "best_model.load_weights(\"ResNet34_best_val_acc_-0.04.h5\")"
   ]
  },
  {
   "cell_type": "code",
   "execution_count": 46,
   "id": "6fe92a36-8d8c-466b-aec0-4de1ae5667e2",
   "metadata": {},
   "outputs": [],
   "source": [
    "# Compile model-\n",
    "best_model.compile(\n",
    "    loss=tf.keras.losses.categorical_crossentropy,\n",
    "    optimizer = tf.keras.optimizers.SGD(learning_rate = warmup_shcedule, momentum = 0.9, decay = 0.0, nesterov = False),\n",
    "    # optimizer = tf.keras.optimizers.SGD(learning_rate = 0.01, momentum = 0.9),\n",
    "    metrics = ['accuracy']\n",
    ")"
   ]
  },
  {
   "cell_type": "code",
   "execution_count": 47,
   "id": "202f074e-3fb2-43d6-9446-f7f5e93378ac",
   "metadata": {},
   "outputs": [],
   "source": [
    "# Evaluate trained model's validation loss and validation accuracy on validation dataset-\n",
    "loss, acc = best_model.evaluate(X_test, y_test, verbose = 0)"
   ]
  },
  {
   "cell_type": "code",
   "execution_count": 48,
   "id": "af979353-c77f-46c4-a3ef-212a30e192a0",
   "metadata": {},
   "outputs": [
    {
     "name": "stdout",
     "output_type": "stream",
     "text": [
      "Trained ResNet-34 CNN model metrics on validation dataset:\n",
      "loss = 26.2187 & accuracy = 90.72%\n"
     ]
    }
   ],
   "source": [
    "print(\"Trained ResNet-34 CNN model metrics on validation dataset:\")\n",
    "print(f\"loss = {loss:.4f} & accuracy = {acc * 100:.2f}%\")"
   ]
  },
  {
   "cell_type": "code",
   "execution_count": 52,
   "id": "23c47e52-62a5-4274-96e1-1b05000c8e49",
   "metadata": {},
   "outputs": [],
   "source": [
    "del best_model, model"
   ]
  },
  {
   "cell_type": "code",
   "execution_count": null,
   "id": "b23ab3a4-30ac-48e7-9ae2-0d9b76d2ea55",
   "metadata": {},
   "outputs": [],
   "source": []
  },
  {
   "cell_type": "code",
   "execution_count": null,
   "id": "6612e4b5-c453-4944-a36f-f7fd00bd314d",
   "metadata": {},
   "outputs": [],
   "source": []
  },
  {
   "cell_type": "markdown",
   "id": "f7e1070c-c7d2-44d8-8956-cd3720d45f63",
   "metadata": {},
   "source": [
    "### Training Visualizations"
   ]
  },
  {
   "cell_type": "code",
   "execution_count": 49,
   "id": "216fd2fc-4727-4735-a943-6a8aa1b1472c",
   "metadata": {},
   "outputs": [
    {
     "data": {
      "image/png": "[encoded data removed]",
      "text/plain": [
       "<Figure size 648x504 with 1 Axes>"
      ]
     },
     "metadata": {
      "needs_background": "light"
     },
     "output_type": "display_data"
    }
   ],
   "source": [
    "# Visualize accuracies-\n",
    "plt.figure(figsize = (9, 7))\n",
    "plt.plot(list(train_hist.keys()), [train_hist[x]['val_acc'] for x in train_hist.keys()], label = 'val_acc')\n",
    "plt.plot(list(train_hist.keys()), [train_hist[x]['acc'] for x in train_hist.keys()], label = 'acc')\n",
    "plt.title(\"ResNet-34: Training Visualization - Accuracy\")\n",
    "plt.xlabel(\"epochs\")\n",
    "plt.ylabel(\"accuracy (%)\")\n",
    "plt.legend(loc = 'best')\n",
    "plt.show()"
   ]
  },
  {
   "cell_type": "code",
   "execution_count": 50,
   "id": "8698387c-c354-4e47-9ff9-44b1d7056469",
   "metadata": {},
   "outputs": [
    {
     "data": {
      "image/png": "[encoded data removed]",
      "text/plain": [
       "<Figure size 648x504 with 1 Axes>"
      ]
     },
     "metadata": {
      "needs_background": "light"
     },
     "output_type": "display_data"
    }
   ],
   "source": [
    "# Visualize losses-\n",
    "plt.figure(figsize = (9, 7))\n",
    "plt.plot(list(train_hist.keys()), [train_hist[x]['val_loss'] for x in train_hist.keys()], label = 'val_loss')\n",
    "plt.plot(list(train_hist.keys()), [train_hist[x]['loss'] for x in train_hist.keys()], label = 'loss')\n",
    "plt.title(\"ResNet-34: Training Visualization - Loss\")\n",
    "plt.xlabel(\"epochs\")\n",
    "plt.ylabel(\"loss\")\n",
    "plt.legend(loc = 'best')\n",
    "plt.show()"
   ]
  },
  {
   "cell_type": "code",
   "execution_count": 51,
   "id": "b9cc01c6-201a-4e1f-890d-468993a8742a",
   "metadata": {},
   "outputs": [
    {
     "data": {
      "image/png": "[encoded data removed]",
      "text/plain": [
       "<Figure size 648x504 with 1 Axes>"
      ]
     },
     "metadata": {
      "needs_background": "light"
     },
     "output_type": "display_data"
    }
   ],
   "source": [
    "# Visualize learning rate during training-\n",
    "plt.figure(figsize = (9, 7))\n",
    "plt.plot(list(train_hist.keys()), [train_hist[x]['lr'] for x in train_hist.keys()])\n",
    "plt.title(\"ResNet-34: Learning Rate Warmup & Step-Decay (SGD)\")\n",
    "plt.xlabel(\"epochs\")\n",
    "plt.ylabel(\"LR\")\n",
    "plt.show()"
   ]
  },
  {
   "cell_type": "code",
   "execution_count": null,
   "id": "253281ef-91b9-41eb-8a0f-9a37cd3c7f35",
   "metadata": {},
   "outputs": [],
   "source": []
  },
  {
   "cell_type": "code",
   "execution_count": null,
   "id": "3621974f-061d-4526-a15c-5c2979c90cb8",
   "metadata": {},
   "outputs": [],
   "source": []
  }
 ],
 "metadata": {
  "kernelspec": {
   "display_name": "Python 3 (ipykernel)",
   "language": "python",
   "name": "python3"
  },
  "language_info": {
   "codemirror_mode": {
    "name": "ipython",
    "version": 3
   },
   "file_extension": ".py",
   "mimetype": "text/x-python",
   "name": "python",
   "nbconvert_exporter": "python",
   "pygments_lexer": "ipython3",
   "version": "3.8.13"
  }
 },
 "nbformat": 4,
 "nbformat_minor": 5
}
