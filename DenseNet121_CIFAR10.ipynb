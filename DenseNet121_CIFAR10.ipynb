{
 "cells": [
  {
   "cell_type": "markdown",
   "id": "d6101e03-21c8-4e93-b713-45dc30cac7b1",
   "metadata": {},
   "source": [
    "# DenseNet-121 fine-tuning, CIFAR-10, PyTorch"
   ]
  },
  {
   "cell_type": "code",
   "execution_count": 1,
   "id": "abdc8266-85be-4c78-9ce3-0a372f840066",
   "metadata": {},
   "outputs": [
    {
     "name": "stdout",
     "output_type": "stream",
     "text": [
      "env: CUDA_DEVICE_ORDER=PCI_BUS_ID\n",
      "env: CUDA_VISIBLE_DEVICES=0, 1, 2, 3\n"
     ]
    }
   ],
   "source": [
    "# Specify GPU to be used-\n",
    "%env CUDA_DEVICE_ORDER = PCI_BUS_ID\n",
    "'''\n",
    "Specify GPU(s) to be used here. Say you have 6 GPUs and you want to train Model A on 2 of them\n",
    "and Model B on 4 of them. You can do that as follows-\n",
    "CUDA_VISIBLE_DEVICES=0,1 python model_A.py\n",
    "CUDA_VISIBLE_DEVICES=2,3,4,5 python model_B.py\n",
    "'''\n",
    "%env CUDA_VISIBLE_DEVICES = 0, 1, 2, 3\n",
    "# %env CUDA_VISIBLE_DEVICES = 0"
   ]
  },
  {
   "cell_type": "code",
   "execution_count": 2,
   "id": "716f673b-ba7b-44dd-8a4d-6c33d9512cec",
   "metadata": {},
   "outputs": [
    {
     "name": "stderr",
     "output_type": "stream",
     "text": [
      "/home/majumdar/anaconda3/envs/torch-cuda-new/lib/python3.10/site-packages/tqdm/auto.py:22: TqdmWarning: IProgress not found. Please update jupyter and ipywidgets. See https://ipywidgets.readthedocs.io/en/stable/user_install.html\n",
      "  from .autonotebook import tqdm as notebook_tqdm\n"
     ]
    }
   ],
   "source": [
    "import cv2\n",
    "import numpy as np\n",
    "import matplotlib.pyplot as plt\n",
    "\n",
    "import torch\n",
    "import torch.nn as nn\n",
    "import torch.nn.functional as F\n",
    "import torchvision\n",
    "from torchvision import datasets, models\n",
    "# import torchvision.transforms as transforms\n",
    "\n",
    "from tqdm import tqdm\n",
    "from tqdm import trange\n",
    "import matplotlib.pyplot as plt\n",
    "import seaborn as sns\n",
    "import numpy as np\n",
    "import os, pickle\n",
    "import albumentations as A\n",
    "from albumentations.pytorch import ToTensorV2"
   ]
  },
  {
   "cell_type": "code",
   "execution_count": null,
   "id": "9698d3e8-36a2-4af8-9263-0ce5fc79b61b",
   "metadata": {},
   "outputs": [],
   "source": []
  },
  {
   "cell_type": "code",
   "execution_count": null,
   "id": "6ce63229-1df5-4ed9-93fa-70f77862d09f",
   "metadata": {},
   "outputs": [],
   "source": []
  },
  {
   "cell_type": "code",
   "execution_count": 3,
   "id": "20ba7538-b427-4fa4-afb1-880982d97edd",
   "metadata": {},
   "outputs": [
    {
     "name": "stdout",
     "output_type": "stream",
     "text": [
      "torch version: 1.13.1\n",
      "Number of GPU(s) available = 4\n",
      "Current GPU: 0\n",
      "Current GPU name: NVIDIA GeForce GTX 1080 Ti\n",
      "Available device is cuda\n"
     ]
    }
   ],
   "source": [
    "print(f\"torch version: {torch.__version__}\")\n",
    "\n",
    "# Check if there are multiple devices (i.e., GPU cards)-\n",
    "print(f\"Number of GPU(s) available = {torch.cuda.device_count()}\")\n",
    "\n",
    "if torch.cuda.is_available():\n",
    "    print(f\"Current GPU: {torch.cuda.current_device()}\")\n",
    "    print(f\"Current GPU name: {torch.cuda.get_device_name(torch.cuda.current_device())}\")\n",
    "else:\n",
    "    print(\"PyTorch does not have access to GPU\")\n",
    "\n",
    "# Device configuration-\n",
    "device = torch.device('cuda' if torch.cuda.is_available() else 'cpu')\n",
    "print(f'Available device is {device}')"
   ]
  },
  {
   "cell_type": "code",
   "execution_count": null,
   "id": "a9ce5d27-a5eb-459f-af31-65d788104de3",
   "metadata": {},
   "outputs": [],
   "source": []
  },
  {
   "cell_type": "code",
   "execution_count": null,
   "id": "aa5a9175-0d28-4502-aa88-498cff3b9df6",
   "metadata": {},
   "outputs": [],
   "source": []
  },
  {
   "cell_type": "code",
   "execution_count": 4,
   "id": "84914707-3b17-44cb-8f00-527db470358e",
   "metadata": {},
   "outputs": [],
   "source": [
    "# Specify hyper-parameters-\n",
    "batch_size = 64\n",
    "num_classes = 10\n",
    "num_epochs = 50"
   ]
  },
  {
   "cell_type": "code",
   "execution_count": null,
   "id": "0070b909-7ef2-451c-8afb-2882545f8431",
   "metadata": {},
   "outputs": [],
   "source": []
  },
  {
   "cell_type": "code",
   "execution_count": null,
   "id": "7a00a3d6-41b0-4020-8df9-4326b90546db",
   "metadata": {},
   "outputs": [],
   "source": []
  },
  {
   "cell_type": "markdown",
   "id": "89b96d48-7751-4ad8-8b73-32b5adf7eda1",
   "metadata": {},
   "source": [
    "#### CIFAR-10 data pre-processing"
   ]
  },
  {
   "cell_type": "code",
   "execution_count": 5,
   "id": "f97645bf-eead-4e6a-b654-2eec07712125",
   "metadata": {},
   "outputs": [],
   "source": [
    "# Define transformations using albumentations-\n",
    "transform_train = A.Compose(\n",
    "    [\n",
    "        A.Resize(width = 224, height = 224),\n",
    "        # A.RandomCrop(width = 20, height = 20),\n",
    "        A.Rotate(limit = 40, p = 0.9, border_mode = cv2.BORDER_CONSTANT),\n",
    "        A.HorizontalFlip(p = 0.5),\n",
    "        A.VerticalFlip(p = 0.1),\n",
    "        A.RGBShift(r_shift_limit = 25, g_shift_limit = 25, b_shift_limit = 25, p = 0.9),\n",
    "        A.OneOf([\n",
    "            A.Blur(blur_limit = 3, p = 0.5),\n",
    "            A.ColorJitter(p = 0.5),\n",
    "        ], p = 1.0),\n",
    "        A.Normalize(\n",
    "            # mean = [0.4914, 0.4822, 0.4465],\n",
    "            # std = [0.247, 0.243, 0.261],\n",
    "            mean = [0, 0, 0],\n",
    "            std = [1, 1, 1],\n",
    "            max_pixel_value = 255,\n",
    "        ),\n",
    "        # This is not dividing by 255, which it does in PyTorch-\n",
    "        ToTensorV2(),\n",
    "    ]\n",
    ")\n",
    "\n",
    "transform_val = A.Compose(\n",
    "    [\n",
    "        A.Resize(width = 224, height = 224),\n",
    "        A.Normalize(\n",
    "            mean = [0, 0, 0],\n",
    "            std = [1, 1, 1],\n",
    "            max_pixel_value = 255\n",
    "        ),\n",
    "        ToTensorV2()\n",
    "    ]\n",
    ")"
   ]
  },
  {
   "cell_type": "code",
   "execution_count": 6,
   "id": "5ba8b1a5-3362-4621-a138-3f7430e35586",
   "metadata": {},
   "outputs": [],
   "source": [
    "class Cifar10Dataset(torchvision.datasets.CIFAR10):\n",
    "    def __init__(\n",
    "        self, root = \"~/data/cifar10\",\n",
    "        train = True, download = True,\n",
    "        transform = None\n",
    "    ):\n",
    "        super().__init__(\n",
    "            root = root, train = train,\n",
    "            download = download, transform = transform\n",
    "        )\n",
    "\n",
    "    def __getitem__(self, index):\n",
    "        image, label = self.data[index], self.targets[index]\n",
    "\n",
    "        if self.transform is not None:\n",
    "            transformed = self.transform(image = image)\n",
    "            image = transformed[\"image\"]\n",
    "\n",
    "        return image, label\n",
    "    "
   ]
  },
  {
   "cell_type": "code",
   "execution_count": null,
   "id": "7392b156-6cf5-48fc-8e8c-aa14c990dfd6",
   "metadata": {},
   "outputs": [],
   "source": []
  },
  {
   "cell_type": "code",
   "execution_count": 7,
   "id": "848a73a1-81d4-48c1-a73b-5e2440f842ce",
   "metadata": {},
   "outputs": [
    {
     "name": "stdout",
     "output_type": "stream",
     "text": [
      "Files already downloaded and verified\n",
      "Files already downloaded and verified\n"
     ]
    }
   ],
   "source": [
    "# Define train and validate sets-\n",
    "train_dataset = Cifar10Dataset(\n",
    "    root = '/home/majumdar/Downloads/.data', train = True,\n",
    "    download = True, transform = transform_train\n",
    ")\n",
    "\n",
    "val_dataset = Cifar10Dataset(\n",
    "    root = '/home/majumdar/Downloads/.data', train = False,\n",
    "    download = True, transform = transform_val\n",
    ")"
   ]
  },
  {
   "cell_type": "code",
   "execution_count": 8,
   "id": "a45697de-d47a-476c-90f5-bdfd7079048c",
   "metadata": {},
   "outputs": [],
   "source": [
    "# Define train and validate loaders-\n",
    "train_loader = torch.utils.data.DataLoader(\n",
    "    dataset = train_dataset, batch_size = batch_size,\n",
    "    shuffle = True\n",
    "    )\n",
    "\n",
    "val_loader = torch.utils.data.DataLoader(\n",
    "    dataset = val_dataset, batch_size = batch_size,\n",
    "    shuffle = True\n",
    "    )"
   ]
  },
  {
   "cell_type": "code",
   "execution_count": 9,
   "id": "212ed45c-0152-4a0d-a831-2d0cc63d468a",
   "metadata": {},
   "outputs": [
    {
     "name": "stdout",
     "output_type": "stream",
     "text": [
      "len(train_dataset) = 50000 & len(val_dataset) = 10000\n",
      "len(train_loader) = 782 & len(val_loader) = 157\n"
     ]
    },
    {
     "data": {
      "text/plain": [
       "(781.25, 156.25)"
      ]
     },
     "execution_count": 9,
     "metadata": {},
     "output_type": "execute_result"
    }
   ],
   "source": [
    "print(f\"len(train_dataset) = {len(train_dataset)} & len(val_dataset) = {len(val_dataset)}\")\n",
    "print(f\"len(train_loader) = {len(train_loader)} & len(val_loader) = {len(val_loader)}\")\n",
    "\n",
    "# Sanity check-\n",
    "len(train_dataset) / batch_size, len(val_dataset) / batch_size"
   ]
  },
  {
   "cell_type": "code",
   "execution_count": null,
   "id": "4cd42424-60ca-48f5-930c-c51986620270",
   "metadata": {},
   "outputs": [],
   "source": []
  },
  {
   "cell_type": "markdown",
   "id": "6dbdf7f0-caf5-4658-b630-e782763ea893",
   "metadata": {},
   "source": [
    "#### DenseNet-121 pre-trained CNN architecture"
   ]
  },
  {
   "cell_type": "code",
   "execution_count": 10,
   "id": "adb9a5ea-0cc6-4949-967e-fdc3fd330ca2",
   "metadata": {},
   "outputs": [],
   "source": [
    "# Load pre-trained DenseNet-121 model-\n",
    "model = models.densenet121(weights = torchvision.models.DenseNet121_Weights.IMAGENET1K_V1)"
   ]
  },
  {
   "cell_type": "code",
   "execution_count": 11,
   "id": "fd9141b4-0f89-457e-9c8c-4f4932c7d148",
   "metadata": {},
   "outputs": [],
   "source": [
    "# Remove (2x2) pool since CIFAR-10 images are small and don't need it-\n",
    "del model.features.pool0"
   ]
  },
  {
   "cell_type": "code",
   "execution_count": 12,
   "id": "b5094d8e-4ac6-4bc8-a34a-1bde3e21411d",
   "metadata": {},
   "outputs": [],
   "source": [
    "# Modify output layer to have 10 instead of 1000 output neurons-\n",
    "model.classifier = nn.Linear(\n",
    "    in_features = 1024, out_features = num_classes,\n",
    "    bias = True\n",
    ")"
   ]
  },
  {
   "cell_type": "code",
   "execution_count": 13,
   "id": "bed8c2e7-4745-4d3f-8d66-f5d67110394d",
   "metadata": {},
   "outputs": [
    {
     "data": {
      "text/plain": [
       "Linear(in_features=1024, out_features=10, bias=True)"
      ]
     },
     "execution_count": 13,
     "metadata": {},
     "output_type": "execute_result"
    }
   ],
   "source": [
    "# Sanity check-\n",
    "model.classifier"
   ]
  },
  {
   "cell_type": "code",
   "execution_count": null,
   "id": "4e93c1f0-9f88-4d99-9f4a-72714d6642da",
   "metadata": {},
   "outputs": [],
   "source": []
  },
  {
   "cell_type": "code",
   "execution_count": null,
   "id": "d2862943-d2ba-40ce-adad-31c1b43b4705",
   "metadata": {},
   "outputs": [],
   "source": [
    "# Place model on GPU-\n",
    "# model = model.to(device)"
   ]
  },
  {
   "cell_type": "markdown",
   "id": "d95d75c7-cc16-43ee-8fbb-752c49fc3f0e",
   "metadata": {},
   "source": [
    "#### Multi-GPU PyTorch training\n",
    "\n",
    "Using Data Parallelism\n",
    "\n",
    "To use data parallelism with PyTorch, you can use the DataParallel class. When using this class, you define your GPU IDs and initialize your network using a Module object with a DataParallel object.\n",
    "\n",
    "```\n",
    "parallel_net = nn.DataParallel(myNet, gpu_ids = [0,1,2])\n",
    "```\n",
    "\n",
    "Once defined, you can perform the standard model training steps just as you would with a standard ```nn.Module``` object. For example:\n",
    "\n",
    "```\n",
    "# performs a forward pass\n",
    "predictions = parallel_net(inputs) \n",
    "\n",
    "# computes a loss function\n",
    "loss = loss_function(predictions, labels)\n",
    "\n",
    "# averages GPU-losses and performs a backward pass\n",
    "loss.mean().backward()\n",
    "\n",
    "optimizer.step()\n",
    "```\n",
    "\n",
    "When using this method, you need to ensure that your data is initially stored on one GPU (the “primary GPU”). You should also place your data parallel object on that same GPU. You can do this using code like the following:\n",
    "\n",
    "```\n",
    "input = input.to(0)\n",
    "parallel_net = parellel_net.to(0)\n",
    "```\n",
    "\n",
    "Then, when you call your object it can split your dataset into batches that are distributed across your defined GPUs. Once the operations are complete, the outputs are aggregated on the primary GPU.\n",
    "\n",
    "[Reference](https://www.run.ai/guides/multi-gpu/pytorch-multi-gpu-4-techniques-explained)"
   ]
  },
  {
   "cell_type": "code",
   "execution_count": 14,
   "id": "9e0cc447-b4cf-494e-a2e2-bf102ac51970",
   "metadata": {},
   "outputs": [],
   "source": [
    "# Use specific GPUs for training-\n",
    "parallel_net = nn.DataParallel(model, device_ids = [0, 1, 2, 3])\n",
    "\n",
    "# Move to CUDA GPU-\n",
    "parallel_net = parallel_net.to(0)"
   ]
  },
  {
   "cell_type": "code",
   "execution_count": null,
   "id": "d0a76c92-f02d-440e-b140-6dfe5dfdbff0",
   "metadata": {},
   "outputs": [],
   "source": []
  },
  {
   "cell_type": "code",
   "execution_count": 15,
   "id": "39993e29-c3c6-4d87-ba1c-585ed29cff8f",
   "metadata": {},
   "outputs": [
    {
     "name": "stdout",
     "output_type": "stream",
     "text": [
      "Total number of parameters in DenseNet-121 CNN = 6964106\n"
     ]
    }
   ],
   "source": [
    "# Count number of layer-wise parameters and total parameters-\n",
    "tot_params = 0\n",
    "for param in model.parameters():\n",
    "    # print(f\"layer.shape = {param.shape} has {param.nelement()} parameters\")\n",
    "    tot_params += param.nelement()\n",
    "\n",
    "print(f\"Total number of parameters in DenseNet-121 CNN = {tot_params}\")"
   ]
  },
  {
   "cell_type": "code",
   "execution_count": null,
   "id": "a5ac6975-e8db-4470-914d-991ac28a3730",
   "metadata": {},
   "outputs": [],
   "source": []
  },
  {
   "cell_type": "code",
   "execution_count": 16,
   "id": "712282a6-c8e7-4376-bf2f-6e6d98271f29",
   "metadata": {},
   "outputs": [],
   "source": [
    "# Define cost function-\n",
    "loss = nn.CrossEntropyLoss()\n",
    "\n",
    "# Learning rate - Observe that all parameters are being optimized-\n",
    "optimizer = torch.optim.SGD(params = model.parameters(), lr = 0.001, momentum = 0.9)"
   ]
  },
  {
   "cell_type": "code",
   "execution_count": 17,
   "id": "278adfca-f801-42f4-82c1-180c451559b2",
   "metadata": {},
   "outputs": [],
   "source": [
    "# Learning rate scheduler - Decay LR by a factor of 0.1 every 15 epochs-\n",
    "exp_lr_scheduler = torch.optim.lr_scheduler.StepLR(optimizer, step_size = 15, gamma = 0.1)"
   ]
  },
  {
   "cell_type": "code",
   "execution_count": null,
   "id": "5a831acb-f3e3-4236-9dd9-ff1fe50a9049",
   "metadata": {},
   "outputs": [],
   "source": []
  },
  {
   "cell_type": "code",
   "execution_count": 18,
   "id": "84577f4e-6d5e-4c95-816e-03e5e6777f41",
   "metadata": {},
   "outputs": [],
   "source": [
    "def train_model_progress(model, train_loader, train_dataset):\n",
    "    '''\n",
    "    Function to perform one epoch of training by using 'train_loader'.\n",
    "    Returns loss and number of correct predictions for this epoch.\n",
    "    '''\n",
    "    running_loss = 0.0\n",
    "    running_corrects = 0.0\n",
    "    \n",
    "    model.train()\n",
    "    \n",
    "    with tqdm(train_loader, unit = 'batch') as tepoch:\n",
    "        for images, labels in tepoch:\n",
    "            tepoch.set_description(f\"Training: \")\n",
    "            \n",
    "            images = images.to(0)\n",
    "            labels = labels.to(0)\n",
    "            \n",
    "            # Get model predictions-\n",
    "            outputs = model(images)\n",
    "            \n",
    "            # Compute loss-\n",
    "            J = loss(outputs, labels)\n",
    "            \n",
    "            # Empty accumulated gradients-\n",
    "            optimizer.zero_grad()\n",
    "            \n",
    "            # Perform backprop-\n",
    "            J.backward()\n",
    "            \n",
    "            # Update parameters-\n",
    "            optimizer.step()\n",
    "            \n",
    "            # global step\n",
    "            # optimizer.param_groups[0]['lr'] = custom_lr_scheduler.get_lr(step)\n",
    "            # step += 1\n",
    "            \n",
    "            # Compute model's performance statistics-\n",
    "            running_loss += J.item() * images.size(0)\n",
    "            _, predicted = torch.max(outputs, 1)\n",
    "            running_corrects += torch.sum(predicted == labels.data)\n",
    "            \n",
    "            tepoch.set_postfix(\n",
    "                loss = running_loss / len(train_dataset),\n",
    "                accuracy = (running_corrects.double().cpu().numpy() / len(train_dataset)) * 100\n",
    "            )\n",
    "            \n",
    "    \n",
    "    train_loss = running_loss / len(train_dataset)\n",
    "    train_acc = (running_corrects.double() / len(train_dataset)) * 100\n",
    "    \n",
    "\n",
    "    # return running_loss, running_corrects\n",
    "    return train_loss, train_acc.cpu().numpy()\n",
    "\n",
    "\n",
    "def test_model_progress(model, test_loader, test_dataset):\n",
    "    total = 0.0\n",
    "    correct = 0.0\n",
    "    running_loss_val = 0.0\n",
    "\n",
    "    with torch.no_grad():\n",
    "        with tqdm(test_loader, unit = 'batch') as tepoch:\n",
    "            for images, labels in tepoch:\n",
    "                tepoch.set_description(f\"Validation: \")\n",
    "                \n",
    "                images = images.to(0)\n",
    "                labels = labels.to(0)\n",
    "                \n",
    "                # Set model to evaluation mode-\n",
    "                model.eval()\n",
    "            \n",
    "                # Predict using trained model-\n",
    "                outputs = model(images)\n",
    "                _, y_pred = torch.max(outputs, 1)\n",
    "                \n",
    "                # Compute validation loss-\n",
    "                J_val = loss(outputs, labels)\n",
    "                \n",
    "                running_loss_val += J_val.item() * labels.size(0)\n",
    "    \n",
    "                # Total number of labels-\n",
    "                total += labels.size(0)\n",
    "\n",
    "                # Total number of correct predictions-\n",
    "                correct += (y_pred == labels).sum()\n",
    "                \n",
    "                tepoch.set_postfix(\n",
    "                    val_loss = running_loss_val / len(test_dataset),\n",
    "                    val_acc = 100 * (correct.cpu().numpy() / total)\n",
    "                )\n",
    "            \n",
    "        \n",
    "    # return (running_loss_val, correct, total)\n",
    "    val_loss = running_loss_val / len(test_dataset)\n",
    "    val_acc = (correct / total) * 100\n",
    "\n",
    "    return val_loss, val_acc.cpu().numpy()\n"
   ]
  },
  {
   "cell_type": "code",
   "execution_count": null,
   "id": "e1bf69a7-7f40-4f62-b7c0-63758e250536",
   "metadata": {},
   "outputs": [],
   "source": []
  },
  {
   "cell_type": "code",
   "execution_count": 19,
   "id": "6ae364d9-8bc7-48ba-b866-a57a08ac6e32",
   "metadata": {},
   "outputs": [],
   "source": [
    "# Python3 dict to contain training metrics-\n",
    "training_history_lr_scheduler = {}\n",
    "\n",
    "# Initialize parameters saving 'best' models-\n",
    "best_val_acc = 80"
   ]
  },
  {
   "cell_type": "code",
   "execution_count": null,
   "id": "734fab92-51cd-40f4-8018-c52065a259fa",
   "metadata": {},
   "outputs": [],
   "source": []
  },
  {
   "cell_type": "code",
   "execution_count": 20,
   "id": "702e3e79-bbab-4e70-bfb7-af4164053cb0",
   "metadata": {},
   "outputs": [
    {
     "name": "stderr",
     "output_type": "stream",
     "text": [
      "Training: : 100%|████████████████████████████████████| 782/782 [08:45<00:00,  1.49batch/s, accuracy=61.3, loss=1.13]\n",
      "Validation: : 100%|████████████████████████████████| 157/157 [00:38<00:00,  4.11batch/s, val_acc=86, val_loss=0.414]\n"
     ]
    },
    {
     "name": "stdout",
     "output_type": "stream",
     "text": [
      "\n",
      "epoch: 1 training loss = 1.1345, training accuracy = 61.33%, val_loss = 0.4137, val_accuracy = 86.03% & LR = 0.00100\n",
      "\n",
      "Saving model with highest val_acc = 86.03%\n",
      "\n"
     ]
    },
    {
     "name": "stderr",
     "output_type": "stream",
     "text": [
      "Training: : 100%|███████████████████████████████████| 782/782 [08:31<00:00,  1.53batch/s, accuracy=80.3, loss=0.585]\n",
      "Validation: : 100%|██████████████████████████████| 157/157 [00:38<00:00,  4.10batch/s, val_acc=90.8, val_loss=0.272]\n"
     ]
    },
    {
     "name": "stdout",
     "output_type": "stream",
     "text": [
      "\n",
      "epoch: 2 training loss = 0.5848, training accuracy = 80.29%, val_loss = 0.2718, val_accuracy = 90.76% & LR = 0.00100\n",
      "\n",
      "Saving model with highest val_acc = 90.76%\n",
      "\n"
     ]
    },
    {
     "name": "stderr",
     "output_type": "stream",
     "text": [
      "Training: : 100%|█████████████████████████████████████| 782/782 [08:33<00:00,  1.52batch/s, accuracy=84, loss=0.467]\n",
      "Validation: : 100%|██████████████████████████████| 157/157 [00:37<00:00,  4.20batch/s, val_acc=92.2, val_loss=0.241]\n"
     ]
    },
    {
     "name": "stdout",
     "output_type": "stream",
     "text": [
      "\n",
      "epoch: 3 training loss = 0.4672, training accuracy = 84.01%, val_loss = 0.2408, val_accuracy = 92.19% & LR = 0.00100\n",
      "\n",
      "Saving model with highest val_acc = 92.19%\n",
      "\n"
     ]
    },
    {
     "name": "stderr",
     "output_type": "stream",
     "text": [
      "Training: : 100%|███████████████████████████████████| 782/782 [08:31<00:00,  1.53batch/s, accuracy=86.4, loss=0.397]\n",
      "Validation: : 100%|██████████████████████████████| 157/157 [00:38<00:00,  4.05batch/s, val_acc=93.2, val_loss=0.203]\n"
     ]
    },
    {
     "name": "stdout",
     "output_type": "stream",
     "text": [
      "\n",
      "epoch: 4 training loss = 0.3967, training accuracy = 86.36%, val_loss = 0.2026, val_accuracy = 93.16% & LR = 0.00100\n",
      "\n",
      "Saving model with highest val_acc = 93.16%\n",
      "\n"
     ]
    },
    {
     "name": "stderr",
     "output_type": "stream",
     "text": [
      "Training: : 100%|███████████████████████████████████| 782/782 [08:34<00:00,  1.52batch/s, accuracy=87.9, loss=0.358]\n",
      "Validation: : 100%|██████████████████████████████| 157/157 [00:37<00:00,  4.16batch/s, val_acc=93.9, val_loss=0.183]\n"
     ]
    },
    {
     "name": "stdout",
     "output_type": "stream",
     "text": [
      "\n",
      "epoch: 5 training loss = 0.3583, training accuracy = 87.91%, val_loss = 0.1826, val_accuracy = 93.92% & LR = 0.00100\n",
      "\n",
      "Saving model with highest val_acc = 93.92%\n",
      "\n"
     ]
    },
    {
     "name": "stderr",
     "output_type": "stream",
     "text": [
      "Training: : 100%|███████████████████████████████████| 782/782 [08:31<00:00,  1.53batch/s, accuracy=88.9, loss=0.325]\n",
      "Validation: : 100%|██████████████████████████████| 157/157 [00:39<00:00,  3.96batch/s, val_acc=93.9, val_loss=0.183]\n"
     ]
    },
    {
     "name": "stdout",
     "output_type": "stream",
     "text": [
      "\n",
      "epoch: 6 training loss = 0.3250, training accuracy = 88.88%, val_loss = 0.1829, val_accuracy = 93.94% & LR = 0.00100\n",
      "\n",
      "Saving model with highest val_acc = 93.94%\n",
      "\n"
     ]
    },
    {
     "name": "stderr",
     "output_type": "stream",
     "text": [
      "Training: : 100%|███████████████████████████████████| 782/782 [08:36<00:00,  1.51batch/s, accuracy=89.9, loss=0.294]\n",
      "Validation: : 100%|██████████████████████████████| 157/157 [00:36<00:00,  4.25batch/s, val_acc=94.1, val_loss=0.173]\n"
     ]
    },
    {
     "name": "stdout",
     "output_type": "stream",
     "text": [
      "\n",
      "epoch: 7 training loss = 0.2942, training accuracy = 89.93%, val_loss = 0.1732, val_accuracy = 94.12% & LR = 0.00100\n",
      "\n",
      "Saving model with highest val_acc = 94.12%\n",
      "\n"
     ]
    },
    {
     "name": "stderr",
     "output_type": "stream",
     "text": [
      "Training: : 100%|███████████████████████████████████| 782/782 [08:29<00:00,  1.54batch/s, accuracy=90.5, loss=0.275]\n",
      "Validation: : 100%|██████████████████████████████| 157/157 [00:37<00:00,  4.17batch/s, val_acc=94.5, val_loss=0.167]\n"
     ]
    },
    {
     "name": "stdout",
     "output_type": "stream",
     "text": [
      "\n",
      "epoch: 8 training loss = 0.2751, training accuracy = 90.49%, val_loss = 0.1669, val_accuracy = 94.51% & LR = 0.00100\n",
      "\n",
      "Saving model with highest val_acc = 94.51%\n",
      "\n"
     ]
    },
    {
     "name": "stderr",
     "output_type": "stream",
     "text": [
      "Training: : 100%|███████████████████████████████████| 782/782 [08:30<00:00,  1.53batch/s, accuracy=91.4, loss=0.257]\n",
      "Validation: : 100%|██████████████████████████████| 157/157 [00:37<00:00,  4.15batch/s, val_acc=94.5, val_loss=0.162]\n"
     ]
    },
    {
     "name": "stdout",
     "output_type": "stream",
     "text": [
      "\n",
      "epoch: 9 training loss = 0.2573, training accuracy = 91.39%, val_loss = 0.1615, val_accuracy = 94.55% & LR = 0.00100\n",
      "\n",
      "Saving model with highest val_acc = 94.55%\n",
      "\n"
     ]
    },
    {
     "name": "stderr",
     "output_type": "stream",
     "text": [
      "Training: : 100%|███████████████████████████████████| 782/782 [08:30<00:00,  1.53batch/s, accuracy=91.7, loss=0.245]\n",
      "Validation: : 100%|██████████████████████████████| 157/157 [00:36<00:00,  4.26batch/s, val_acc=94.2, val_loss=0.172]\n"
     ]
    },
    {
     "name": "stdout",
     "output_type": "stream",
     "text": [
      "\n",
      "epoch: 10 training loss = 0.2445, training accuracy = 91.74%, val_loss = 0.1720, val_accuracy = 94.17% & LR = 0.00100\n",
      "\n"
     ]
    },
    {
     "name": "stderr",
     "output_type": "stream",
     "text": [
      "Training: : 100%|███████████████████████████████████| 782/782 [08:31<00:00,  1.53batch/s, accuracy=92.3, loss=0.231]\n",
      "Validation: : 100%|██████████████████████████████| 157/157 [00:37<00:00,  4.22batch/s, val_acc=94.8, val_loss=0.157]\n"
     ]
    },
    {
     "name": "stdout",
     "output_type": "stream",
     "text": [
      "\n",
      "epoch: 11 training loss = 0.2308, training accuracy = 92.26%, val_loss = 0.1566, val_accuracy = 94.75% & LR = 0.00100\n",
      "\n",
      "Saving model with highest val_acc = 94.75%\n",
      "\n"
     ]
    },
    {
     "name": "stderr",
     "output_type": "stream",
     "text": [
      "Training: : 100%|███████████████████████████████████| 782/782 [08:30<00:00,  1.53batch/s, accuracy=92.6, loss=0.218]\n",
      "Validation: : 100%|██████████████████████████████| 157/157 [00:38<00:00,  4.12batch/s, val_acc=95.2, val_loss=0.142]\n"
     ]
    },
    {
     "name": "stdout",
     "output_type": "stream",
     "text": [
      "\n",
      "epoch: 12 training loss = 0.2176, training accuracy = 92.57%, val_loss = 0.1425, val_accuracy = 95.18% & LR = 0.00100\n",
      "\n",
      "Saving model with highest val_acc = 95.18%\n",
      "\n"
     ]
    },
    {
     "name": "stderr",
     "output_type": "stream",
     "text": [
      "Training: : 100%|███████████████████████████████████| 782/782 [08:29<00:00,  1.53batch/s, accuracy=92.9, loss=0.208]\n",
      "Validation: : 100%|██████████████████████████████| 157/157 [00:38<00:00,  4.09batch/s, val_acc=95.4, val_loss=0.141]\n"
     ]
    },
    {
     "name": "stdout",
     "output_type": "stream",
     "text": [
      "\n",
      "epoch: 13 training loss = 0.2079, training accuracy = 92.87%, val_loss = 0.1406, val_accuracy = 95.44% & LR = 0.00100\n",
      "\n",
      "Saving model with highest val_acc = 95.44%\n",
      "\n"
     ]
    },
    {
     "name": "stderr",
     "output_type": "stream",
     "text": [
      "Training: : 100%|███████████████████████████████████| 782/782 [08:31<00:00,  1.53batch/s, accuracy=93.3, loss=0.198]\n",
      "Validation: : 100%|██████████████████████████████| 157/157 [00:37<00:00,  4.22batch/s, val_acc=94.7, val_loss=0.161]\n"
     ]
    },
    {
     "name": "stdout",
     "output_type": "stream",
     "text": [
      "\n",
      "epoch: 14 training loss = 0.1976, training accuracy = 93.35%, val_loss = 0.1607, val_accuracy = 94.66% & LR = 0.00100\n",
      "\n"
     ]
    },
    {
     "name": "stderr",
     "output_type": "stream",
     "text": [
      "Training: : 100%|███████████████████████████████████| 782/782 [08:28<00:00,  1.54batch/s, accuracy=93.7, loss=0.184]\n",
      "Validation: : 100%|██████████████████████████████| 157/157 [00:38<00:00,  4.06batch/s, val_acc=95.1, val_loss=0.141]\n"
     ]
    },
    {
     "name": "stdout",
     "output_type": "stream",
     "text": [
      "\n",
      "epoch: 15 training loss = 0.1844, training accuracy = 93.73%, val_loss = 0.1413, val_accuracy = 95.10% & LR = 0.00100\n",
      "\n"
     ]
    },
    {
     "name": "stderr",
     "output_type": "stream",
     "text": [
      "Training: : 100%|███████████████████████████████████| 782/782 [08:30<00:00,  1.53batch/s, accuracy=94.9, loss=0.153]\n",
      "Validation: : 100%|██████████████████████████████| 157/157 [00:37<00:00,  4.23batch/s, val_acc=95.6, val_loss=0.133]\n"
     ]
    },
    {
     "name": "stdout",
     "output_type": "stream",
     "text": [
      "\n",
      "epoch: 16 training loss = 0.1532, training accuracy = 94.87%, val_loss = 0.1332, val_accuracy = 95.58% & LR = 0.00010\n",
      "\n",
      "Saving model with highest val_acc = 95.58%\n",
      "\n"
     ]
    },
    {
     "name": "stderr",
     "output_type": "stream",
     "text": [
      "Training: : 100%|███████████████████████████████████| 782/782 [08:32<00:00,  1.53batch/s, accuracy=95.2, loss=0.145]\n",
      "Validation: : 100%|██████████████████████████████| 157/157 [00:39<00:00,  3.98batch/s, val_acc=95.7, val_loss=0.131]\n"
     ]
    },
    {
     "name": "stdout",
     "output_type": "stream",
     "text": [
      "\n",
      "epoch: 17 training loss = 0.1445, training accuracy = 95.21%, val_loss = 0.1309, val_accuracy = 95.73% & LR = 0.00010\n",
      "\n",
      "Saving model with highest val_acc = 95.73%\n",
      "\n"
     ]
    },
    {
     "name": "stderr",
     "output_type": "stream",
     "text": [
      "Training: : 100%|███████████████████████████████████| 782/782 [08:35<00:00,  1.52batch/s, accuracy=95.4, loss=0.138]\n",
      "Validation: : 100%|██████████████████████████████| 157/157 [00:37<00:00,  4.24batch/s, val_acc=95.8, val_loss=0.126]\n"
     ]
    },
    {
     "name": "stdout",
     "output_type": "stream",
     "text": [
      "\n",
      "epoch: 18 training loss = 0.1381, training accuracy = 95.45%, val_loss = 0.1257, val_accuracy = 95.83% & LR = 0.00010\n",
      "\n",
      "Saving model with highest val_acc = 95.83%\n",
      "\n"
     ]
    },
    {
     "name": "stderr",
     "output_type": "stream",
     "text": [
      "Training: : 100%|███████████████████████████████████| 782/782 [08:32<00:00,  1.53batch/s, accuracy=95.5, loss=0.136]\n",
      "Validation: : 100%|██████████████████████████████| 157/157 [00:40<00:00,  3.89batch/s, val_acc=95.9, val_loss=0.123]\n"
     ]
    },
    {
     "name": "stdout",
     "output_type": "stream",
     "text": [
      "\n",
      "epoch: 19 training loss = 0.1355, training accuracy = 95.48%, val_loss = 0.1234, val_accuracy = 95.92% & LR = 0.00010\n",
      "\n",
      "Saving model with highest val_acc = 95.92%\n",
      "\n"
     ]
    },
    {
     "name": "stderr",
     "output_type": "stream",
     "text": [
      "Training: : 100%|███████████████████████████████████| 782/782 [08:34<00:00,  1.52batch/s, accuracy=95.7, loss=0.131]\n",
      "Validation: : 100%|██████████████████████████████| 157/157 [00:36<00:00,  4.25batch/s, val_acc=95.9, val_loss=0.125]\n"
     ]
    },
    {
     "name": "stdout",
     "output_type": "stream",
     "text": [
      "\n",
      "epoch: 20 training loss = 0.1307, training accuracy = 95.72%, val_loss = 0.1248, val_accuracy = 95.85% & LR = 0.00010\n",
      "\n"
     ]
    },
    {
     "name": "stderr",
     "output_type": "stream",
     "text": [
      "Training: : 100%|███████████████████████████████████| 782/782 [08:33<00:00,  1.52batch/s, accuracy=95.7, loss=0.131]\n",
      "Validation: : 100%|██████████████████████████████| 157/157 [00:37<00:00,  4.24batch/s, val_acc=96.1, val_loss=0.123]\n"
     ]
    },
    {
     "name": "stdout",
     "output_type": "stream",
     "text": [
      "\n",
      "epoch: 21 training loss = 0.1311, training accuracy = 95.73%, val_loss = 0.1226, val_accuracy = 96.12% & LR = 0.00010\n",
      "\n",
      "Saving model with highest val_acc = 96.12%\n",
      "\n"
     ]
    },
    {
     "name": "stderr",
     "output_type": "stream",
     "text": [
      "Training: : 100%|███████████████████████████████████| 782/782 [08:35<00:00,  1.52batch/s, accuracy=95.8, loss=0.129]\n",
      "Validation: : 100%|████████████████████████████████| 157/157 [00:37<00:00,  4.18batch/s, val_acc=96, val_loss=0.124]\n"
     ]
    },
    {
     "name": "stdout",
     "output_type": "stream",
     "text": [
      "\n",
      "epoch: 22 training loss = 0.1293, training accuracy = 95.79%, val_loss = 0.1236, val_accuracy = 96.01% & LR = 0.00010\n",
      "\n"
     ]
    },
    {
     "name": "stderr",
     "output_type": "stream",
     "text": [
      "Training: : 100%|███████████████████████████████████| 782/782 [08:32<00:00,  1.53batch/s, accuracy=95.7, loss=0.129]\n",
      "Validation: : 100%|██████████████████████████████| 157/157 [00:37<00:00,  4.19batch/s, val_acc=95.8, val_loss=0.127]\n"
     ]
    },
    {
     "name": "stdout",
     "output_type": "stream",
     "text": [
      "\n",
      "epoch: 23 training loss = 0.1286, training accuracy = 95.69%, val_loss = 0.1270, val_accuracy = 95.79% & LR = 0.00010\n",
      "\n"
     ]
    },
    {
     "name": "stderr",
     "output_type": "stream",
     "text": [
      "Training: : 100%|███████████████████████████████████| 782/782 [08:32<00:00,  1.53batch/s, accuracy=95.8, loss=0.128]\n",
      "Validation: : 100%|████████████████████████████████| 157/157 [00:37<00:00,  4.18batch/s, val_acc=96, val_loss=0.124]\n"
     ]
    },
    {
     "name": "stdout",
     "output_type": "stream",
     "text": [
      "\n",
      "epoch: 24 training loss = 0.1282, training accuracy = 95.79%, val_loss = 0.1238, val_accuracy = 95.96% & LR = 0.00010\n",
      "\n"
     ]
    },
    {
     "name": "stderr",
     "output_type": "stream",
     "text": [
      "Training: : 100%|█████████████████████████████████████| 782/782 [08:28<00:00,  1.54batch/s, accuracy=96, loss=0.123]\n",
      "Validation: : 100%|██████████████████████████████| 157/157 [00:37<00:00,  4.21batch/s, val_acc=95.9, val_loss=0.124]\n"
     ]
    },
    {
     "name": "stdout",
     "output_type": "stream",
     "text": [
      "\n",
      "epoch: 25 training loss = 0.1230, training accuracy = 95.95%, val_loss = 0.1239, val_accuracy = 95.87% & LR = 0.00010\n",
      "\n"
     ]
    },
    {
     "name": "stderr",
     "output_type": "stream",
     "text": [
      "Training: : 100%|███████████████████████████████████| 782/782 [08:34<00:00,  1.52batch/s, accuracy=95.9, loss=0.123]\n",
      "Validation: : 100%|██████████████████████████████| 157/157 [00:41<00:00,  3.78batch/s, val_acc=95.9, val_loss=0.127]\n"
     ]
    },
    {
     "name": "stdout",
     "output_type": "stream",
     "text": [
      "\n",
      "epoch: 26 training loss = 0.1235, training accuracy = 95.88%, val_loss = 0.1267, val_accuracy = 95.90% & LR = 0.00010\n",
      "\n"
     ]
    },
    {
     "name": "stderr",
     "output_type": "stream",
     "text": [
      "Training: : 100%|█████████████████████████████████████| 782/782 [08:33<00:00,  1.52batch/s, accuracy=96, loss=0.122]\n",
      "Validation: : 100%|██████████████████████████████| 157/157 [00:39<00:00,  3.96batch/s, val_acc=96.1, val_loss=0.123]\n"
     ]
    },
    {
     "name": "stdout",
     "output_type": "stream",
     "text": [
      "\n",
      "epoch: 27 training loss = 0.1224, training accuracy = 96.02%, val_loss = 0.1226, val_accuracy = 96.10% & LR = 0.00010\n",
      "\n"
     ]
    },
    {
     "name": "stderr",
     "output_type": "stream",
     "text": [
      "Training: : 100%|█████████████████████████████████████| 782/782 [08:33<00:00,  1.52batch/s, accuracy=96, loss=0.121]\n",
      "Validation: : 100%|██████████████████████████████| 157/157 [00:38<00:00,  4.05batch/s, val_acc=95.9, val_loss=0.125]\n"
     ]
    },
    {
     "name": "stdout",
     "output_type": "stream",
     "text": [
      "\n",
      "epoch: 28 training loss = 0.1212, training accuracy = 96.02%, val_loss = 0.1252, val_accuracy = 95.85% & LR = 0.00010\n",
      "\n"
     ]
    },
    {
     "name": "stderr",
     "output_type": "stream",
     "text": [
      "Training: : 100%|███████████████████████████████████| 782/782 [08:33<00:00,  1.52batch/s, accuracy=96.1, loss=0.121]\n",
      "Validation: : 100%|████████████████████████████████| 157/157 [00:39<00:00,  3.95batch/s, val_acc=96, val_loss=0.125]\n"
     ]
    },
    {
     "name": "stdout",
     "output_type": "stream",
     "text": [
      "\n",
      "epoch: 29 training loss = 0.1209, training accuracy = 96.11%, val_loss = 0.1249, val_accuracy = 95.99% & LR = 0.00010\n",
      "\n"
     ]
    },
    {
     "name": "stderr",
     "output_type": "stream",
     "text": [
      "Training: : 100%|███████████████████████████████████| 782/782 [08:28<00:00,  1.54batch/s, accuracy=96.1, loss=0.118]\n",
      "Validation: : 100%|████████████████████████████████| 157/157 [00:36<00:00,  4.27batch/s, val_acc=96, val_loss=0.124]\n"
     ]
    },
    {
     "name": "stdout",
     "output_type": "stream",
     "text": [
      "\n",
      "epoch: 30 training loss = 0.1183, training accuracy = 96.12%, val_loss = 0.1244, val_accuracy = 95.95% & LR = 0.00010\n",
      "\n"
     ]
    },
    {
     "name": "stderr",
     "output_type": "stream",
     "text": [
      "Training: : 100%|███████████████████████████████████| 782/782 [08:28<00:00,  1.54batch/s, accuracy=96.3, loss=0.113]\n",
      "Validation: : 100%|██████████████████████████████| 157/157 [00:39<00:00,  4.01batch/s, val_acc=95.8, val_loss=0.128]\n"
     ]
    },
    {
     "name": "stdout",
     "output_type": "stream",
     "text": [
      "\n",
      "epoch: 31 training loss = 0.1132, training accuracy = 96.33%, val_loss = 0.1280, val_accuracy = 95.76% & LR = 0.00001\n",
      "\n"
     ]
    },
    {
     "name": "stderr",
     "output_type": "stream",
     "text": [
      "Training: : 100%|███████████████████████████████████| 782/782 [08:36<00:00,  1.51batch/s, accuracy=96.3, loss=0.113]\n",
      "Validation: : 100%|██████████████████████████████| 157/157 [00:39<00:00,  3.96batch/s, val_acc=96.2, val_loss=0.125]\n"
     ]
    },
    {
     "name": "stdout",
     "output_type": "stream",
     "text": [
      "\n",
      "epoch: 32 training loss = 0.1129, training accuracy = 96.35%, val_loss = 0.1246, val_accuracy = 96.19% & LR = 0.00001\n",
      "\n",
      "Saving model with highest val_acc = 96.19%\n",
      "\n"
     ]
    },
    {
     "name": "stderr",
     "output_type": "stream",
     "text": [
      "Training: : 100%|███████████████████████████████████| 782/782 [08:32<00:00,  1.53batch/s, accuracy=96.3, loss=0.114]\n",
      "Validation: : 100%|██████████████████████████████| 157/157 [00:39<00:00,  3.94batch/s, val_acc=95.9, val_loss=0.125]\n"
     ]
    },
    {
     "name": "stdout",
     "output_type": "stream",
     "text": [
      "\n",
      "epoch: 33 training loss = 0.1145, training accuracy = 96.27%, val_loss = 0.1251, val_accuracy = 95.91% & LR = 0.00001\n",
      "\n"
     ]
    },
    {
     "name": "stderr",
     "output_type": "stream",
     "text": [
      "Training: : 100%|███████████████████████████████████| 782/782 [08:38<00:00,  1.51batch/s, accuracy=96.2, loss=0.116]\n",
      "Validation: : 100%|██████████████████████████████| 157/157 [00:38<00:00,  4.04batch/s, val_acc=95.9, val_loss=0.127]\n"
     ]
    },
    {
     "name": "stdout",
     "output_type": "stream",
     "text": [
      "\n",
      "epoch: 34 training loss = 0.1157, training accuracy = 96.20%, val_loss = 0.1266, val_accuracy = 95.88% & LR = 0.00001\n",
      "\n"
     ]
    },
    {
     "name": "stderr",
     "output_type": "stream",
     "text": [
      "Training: : 100%|███████████████████████████████████| 782/782 [08:31<00:00,  1.53batch/s, accuracy=96.3, loss=0.113]\n",
      "Validation: : 100%|██████████████████████████████| 157/157 [00:37<00:00,  4.20batch/s, val_acc=96.1, val_loss=0.122]\n"
     ]
    },
    {
     "name": "stdout",
     "output_type": "stream",
     "text": [
      "\n",
      "epoch: 35 training loss = 0.1129, training accuracy = 96.32%, val_loss = 0.1217, val_accuracy = 96.08% & LR = 0.00001\n",
      "\n"
     ]
    },
    {
     "name": "stderr",
     "output_type": "stream",
     "text": [
      "Training: : 100%|███████████████████████████████████| 782/782 [08:33<00:00,  1.52batch/s, accuracy=96.2, loss=0.115]\n",
      "Validation: : 100%|████████████████████████████████| 157/157 [00:39<00:00,  4.01batch/s, val_acc=96, val_loss=0.124]\n"
     ]
    },
    {
     "name": "stdout",
     "output_type": "stream",
     "text": [
      "\n",
      "epoch: 36 training loss = 0.1146, training accuracy = 96.17%, val_loss = 0.1236, val_accuracy = 96.00% & LR = 0.00001\n",
      "\n"
     ]
    },
    {
     "name": "stderr",
     "output_type": "stream",
     "text": [
      "Training: : 100%|███████████████████████████████████| 782/782 [08:32<00:00,  1.53batch/s, accuracy=96.3, loss=0.114]\n",
      "Validation: : 100%|███████████████████████████████| 157/157 [00:37<00:00,  4.16batch/s, val_acc=96.1, val_loss=0.12]\n"
     ]
    },
    {
     "name": "stdout",
     "output_type": "stream",
     "text": [
      "\n",
      "epoch: 37 training loss = 0.1140, training accuracy = 96.28%, val_loss = 0.1203, val_accuracy = 96.13% & LR = 0.00001\n",
      "\n"
     ]
    },
    {
     "name": "stderr",
     "output_type": "stream",
     "text": [
      "Training: : 100%|███████████████████████████████████| 782/782 [08:29<00:00,  1.53batch/s, accuracy=96.3, loss=0.116]\n",
      "Validation: : 100%|██████████████████████████████| 157/157 [00:37<00:00,  4.16batch/s, val_acc=95.9, val_loss=0.124]\n"
     ]
    },
    {
     "name": "stdout",
     "output_type": "stream",
     "text": [
      "\n",
      "epoch: 38 training loss = 0.1162, training accuracy = 96.26%, val_loss = 0.1239, val_accuracy = 95.92% & LR = 0.00001\n",
      "\n"
     ]
    },
    {
     "name": "stderr",
     "output_type": "stream",
     "text": [
      "Training: : 100%|███████████████████████████████████| 782/782 [08:32<00:00,  1.53batch/s, accuracy=96.3, loss=0.114]\n",
      "Validation: : 100%|████████████████████████████████| 157/157 [00:37<00:00,  4.23batch/s, val_acc=96, val_loss=0.123]\n"
     ]
    },
    {
     "name": "stdout",
     "output_type": "stream",
     "text": [
      "\n",
      "epoch: 39 training loss = 0.1136, training accuracy = 96.28%, val_loss = 0.1230, val_accuracy = 96.05% & LR = 0.00001\n",
      "\n"
     ]
    },
    {
     "name": "stderr",
     "output_type": "stream",
     "text": [
      "Training: : 100%|███████████████████████████████████| 782/782 [08:28<00:00,  1.54batch/s, accuracy=96.4, loss=0.113]\n",
      "Validation: : 100%|██████████████████████████████| 157/157 [00:37<00:00,  4.19batch/s, val_acc=96.1, val_loss=0.122]\n"
     ]
    },
    {
     "name": "stdout",
     "output_type": "stream",
     "text": [
      "\n",
      "epoch: 40 training loss = 0.1129, training accuracy = 96.36%, val_loss = 0.1219, val_accuracy = 96.08% & LR = 0.00001\n",
      "\n"
     ]
    },
    {
     "name": "stderr",
     "output_type": "stream",
     "text": [
      "Training: : 100%|███████████████████████████████████| 782/782 [08:27<00:00,  1.54batch/s, accuracy=96.4, loss=0.111]\n",
      "Validation: : 100%|████████████████████████████████| 157/157 [00:38<00:00,  4.13batch/s, val_acc=96, val_loss=0.123]\n"
     ]
    },
    {
     "name": "stdout",
     "output_type": "stream",
     "text": [
      "\n",
      "epoch: 41 training loss = 0.1109, training accuracy = 96.38%, val_loss = 0.1231, val_accuracy = 96.01% & LR = 0.00001\n",
      "\n"
     ]
    },
    {
     "name": "stderr",
     "output_type": "stream",
     "text": [
      "Training: : 100%|███████████████████████████████████| 782/782 [08:26<00:00,  1.54batch/s, accuracy=96.3, loss=0.113]\n",
      "Validation: : 100%|████████████████████████████████| 157/157 [00:37<00:00,  4.14batch/s, val_acc=96, val_loss=0.124]\n"
     ]
    },
    {
     "name": "stdout",
     "output_type": "stream",
     "text": [
      "\n",
      "epoch: 42 training loss = 0.1126, training accuracy = 96.33%, val_loss = 0.1238, val_accuracy = 95.99% & LR = 0.00001\n",
      "\n"
     ]
    },
    {
     "name": "stderr",
     "output_type": "stream",
     "text": [
      "Training: : 100%|███████████████████████████████████| 782/782 [08:28<00:00,  1.54batch/s, accuracy=96.3, loss=0.113]\n",
      "Validation: : 100%|████████████████████████████████| 157/157 [00:37<00:00,  4.18batch/s, val_acc=96, val_loss=0.123]\n"
     ]
    },
    {
     "name": "stdout",
     "output_type": "stream",
     "text": [
      "\n",
      "epoch: 43 training loss = 0.1134, training accuracy = 96.28%, val_loss = 0.1229, val_accuracy = 96.01% & LR = 0.00001\n",
      "\n"
     ]
    },
    {
     "name": "stderr",
     "output_type": "stream",
     "text": [
      "Training: : 100%|███████████████████████████████████| 782/782 [08:30<00:00,  1.53batch/s, accuracy=96.3, loss=0.114]\n",
      "Validation: : 100%|██████████████████████████████| 157/157 [00:36<00:00,  4.29batch/s, val_acc=95.9, val_loss=0.124]\n"
     ]
    },
    {
     "name": "stdout",
     "output_type": "stream",
     "text": [
      "\n",
      "epoch: 44 training loss = 0.1145, training accuracy = 96.31%, val_loss = 0.1239, val_accuracy = 95.94% & LR = 0.00001\n",
      "\n"
     ]
    },
    {
     "name": "stderr",
     "output_type": "stream",
     "text": [
      "Training: : 100%|███████████████████████████████████| 782/782 [08:32<00:00,  1.52batch/s, accuracy=96.3, loss=0.112]\n",
      "Validation: : 100%|███████████████████████████████| 157/157 [00:38<00:00,  4.10batch/s, val_acc=96.2, val_loss=0.12]\n"
     ]
    },
    {
     "name": "stdout",
     "output_type": "stream",
     "text": [
      "\n",
      "epoch: 45 training loss = 0.1124, training accuracy = 96.34%, val_loss = 0.1200, val_accuracy = 96.20% & LR = 0.00001\n",
      "\n",
      "Saving model with highest val_acc = 96.20%\n",
      "\n"
     ]
    },
    {
     "name": "stderr",
     "output_type": "stream",
     "text": [
      "Training: : 100%|███████████████████████████████████| 782/782 [08:30<00:00,  1.53batch/s, accuracy=96.4, loss=0.112]\n",
      "Validation: : 100%|██████████████████████████████| 157/157 [00:36<00:00,  4.27batch/s, val_acc=95.9, val_loss=0.126]\n"
     ]
    },
    {
     "name": "stdout",
     "output_type": "stream",
     "text": [
      "\n",
      "epoch: 46 training loss = 0.1119, training accuracy = 96.41%, val_loss = 0.1260, val_accuracy = 95.88% & LR = 0.00000\n",
      "\n"
     ]
    },
    {
     "name": "stderr",
     "output_type": "stream",
     "text": [
      "Training: : 100%|███████████████████████████████████| 782/782 [08:32<00:00,  1.53batch/s, accuracy=96.3, loss=0.112]\n",
      "Validation: : 100%|████████████████████████████████| 157/157 [00:37<00:00,  4.14batch/s, val_acc=96, val_loss=0.126]\n"
     ]
    },
    {
     "name": "stdout",
     "output_type": "stream",
     "text": [
      "\n",
      "epoch: 47 training loss = 0.1121, training accuracy = 96.32%, val_loss = 0.1262, val_accuracy = 96.01% & LR = 0.00000\n",
      "\n"
     ]
    },
    {
     "name": "stderr",
     "output_type": "stream",
     "text": [
      "Training: : 100%|███████████████████████████████████| 782/782 [08:30<00:00,  1.53batch/s, accuracy=96.3, loss=0.112]\n",
      "Validation: : 100%|████████████████████████████████| 157/157 [00:36<00:00,  4.25batch/s, val_acc=96, val_loss=0.123]\n"
     ]
    },
    {
     "name": "stdout",
     "output_type": "stream",
     "text": [
      "\n",
      "epoch: 48 training loss = 0.1123, training accuracy = 96.31%, val_loss = 0.1227, val_accuracy = 96.05% & LR = 0.00000\n",
      "\n"
     ]
    },
    {
     "name": "stderr",
     "output_type": "stream",
     "text": [
      "Training: : 100%|███████████████████████████████████| 782/782 [08:30<00:00,  1.53batch/s, accuracy=96.3, loss=0.113]\n",
      "Validation: : 100%|██████████████████████████████| 157/157 [00:37<00:00,  4.21batch/s, val_acc=96.2, val_loss=0.122]\n"
     ]
    },
    {
     "name": "stdout",
     "output_type": "stream",
     "text": [
      "\n",
      "epoch: 49 training loss = 0.1128, training accuracy = 96.33%, val_loss = 0.1217, val_accuracy = 96.15% & LR = 0.00000\n",
      "\n"
     ]
    },
    {
     "name": "stderr",
     "output_type": "stream",
     "text": [
      "Training: : 100%|███████████████████████████████████| 782/782 [08:37<00:00,  1.51batch/s, accuracy=96.4, loss=0.111]\n",
      "Validation: : 100%|████████████████████████████████| 157/157 [00:38<00:00,  4.11batch/s, val_acc=96, val_loss=0.122]"
     ]
    },
    {
     "name": "stdout",
     "output_type": "stream",
     "text": [
      "\n",
      "epoch: 50 training loss = 0.1109, training accuracy = 96.42%, val_loss = 0.1218, val_accuracy = 96.05% & LR = 0.00000\n",
      "\n"
     ]
    },
    {
     "name": "stderr",
     "output_type": "stream",
     "text": [
      "\n"
     ]
    }
   ],
   "source": [
    "for epoch in range(num_epochs):\n",
    "\n",
    "    # Train and validate model for 1 epoch-\n",
    "    train_loss, train_acc = train_model_progress(\n",
    "        model = parallel_net, train_loader = train_loader,\n",
    "        train_dataset = train_dataset\n",
    "    )\n",
    "    val_loss, val_acc = test_model_progress(\n",
    "        model = parallel_net, test_loader = val_loader,\n",
    "        test_dataset = val_dataset\n",
    "    )\n",
    "    \n",
    "    print(f\"\\nepoch: {epoch + 1} training loss = {train_loss:.4f}, \"\n",
    "          f\"training accuracy = {train_acc:.2f}%, val_loss = {val_loss:.4f}\"\n",
    "          f\", val_accuracy = {val_acc:.2f}% & \"\n",
    "          f\"LR = {optimizer.param_groups[0]['lr']:.5f}\\n\")\n",
    "    \n",
    "    training_history_lr_scheduler[epoch + 1] = {\n",
    "        'loss': train_loss, 'acc': train_acc,\n",
    "        'val_loss': val_loss, 'val_acc': val_acc,\n",
    "        'lr': optimizer.param_groups[0]['lr']\n",
    "    }\n",
    "\n",
    "    exp_lr_scheduler.step()\n",
    "    \n",
    "    # Save best weights achieved until now-\n",
    "    if (val_acc > best_val_acc):\n",
    "        # update 'best_val_loss' variable to lowest loss encountered so far-\n",
    "        best_val_acc = val_acc\n",
    "\n",
    "        print(f\"Saving model with highest val_acc = {val_acc:.2f}%\\n\")\n",
    "        \n",
    "        # Save trained model with 'best' validation accuracy-\n",
    "        # torch.save(model.state_dict(), \"DenseNet121_best_model.pth\")\n",
    "        torch.save(parallel_net.module.state_dict(), \"DenseNet121_best_model.pth\") \n",
    "        "
   ]
  },
  {
   "cell_type": "code",
   "execution_count": null,
   "id": "06a892cc-65f5-4697-8168-b6d2ce52d1af",
   "metadata": {},
   "outputs": [],
   "source": []
  },
  {
   "cell_type": "code",
   "execution_count": 21,
   "id": "b894a8b7-9a18-4ff5-a433-c44d2799867e",
   "metadata": {},
   "outputs": [],
   "source": [
    "# Save training metrics as Python3 history for later analysis-\n",
    "with open(\"DenseNet121_CIFAR10_training_history.pkl\", \"wb\") as file:\n",
    "    pickle.dump(training_history_lr_scheduler, file)"
   ]
  },
  {
   "cell_type": "code",
   "execution_count": null,
   "id": "afb17b77-c719-494e-b00e-0743b385e93e",
   "metadata": {},
   "outputs": [],
   "source": []
  },
  {
   "cell_type": "code",
   "execution_count": 22,
   "id": "262152f5-68d6-4041-88f4-9f50857f271d",
   "metadata": {},
   "outputs": [
    {
     "data": {
      "image/png": "[encoded data removed]",
      "text/plain": [
       "<Figure size 900x700 with 1 Axes>"
      ]
     },
     "metadata": {},
     "output_type": "display_data"
    }
   ],
   "source": [
    "# Visualize ResNet-training-\n",
    "plt.figure(figsize = (9, 7))\n",
    "plt.plot(list(training_history_lr_scheduler.keys()), [training_history_lr_scheduler[k]['acc'] for k in training_history_lr_scheduler.keys()], label = 'training acc')\n",
    "plt.plot(list(training_history_lr_scheduler.keys()), [training_history_lr_scheduler[k]['val_acc'] for k in training_history_lr_scheduler.keys()], label = 'val acc')\n",
    "plt.title(\"DenseNet-121: Training Accuracy\")\n",
    "plt.xlabel(\"epochs\")\n",
    "plt.ylabel(\"accuracy (%)\")\n",
    "plt.legend(loc = 'best')\n",
    "plt.show()"
   ]
  },
  {
   "cell_type": "code",
   "execution_count": 23,
   "id": "cb18d537-0b33-431d-be11-01a41ac24b50",
   "metadata": {},
   "outputs": [
    {
     "data": {
      "image/png": "[encoded data removed]",
      "text/plain": [
       "<Figure size 900x700 with 1 Axes>"
      ]
     },
     "metadata": {},
     "output_type": "display_data"
    }
   ],
   "source": [
    "plt.figure(figsize = (9, 7))\n",
    "plt.plot(list(training_history_lr_scheduler.keys()), [training_history_lr_scheduler[k]['loss'] for k in training_history_lr_scheduler.keys()], label = 'training loss')\n",
    "plt.plot(list(training_history_lr_scheduler.keys()), [training_history_lr_scheduler[k]['val_loss'] for k in training_history_lr_scheduler.keys()], label = 'val loss')\n",
    "plt.xlabel(\"epochs\")\n",
    "plt.ylabel(\"loss\")\n",
    "plt.legend(loc = 'best')\n",
    "plt.title(\"DenseNet-121: Training Loss\")\n",
    "plt.show()"
   ]
  },
  {
   "cell_type": "code",
   "execution_count": 24,
   "id": "d94061c4-75a6-4b42-80d3-7f331cfef268",
   "metadata": {},
   "outputs": [
    {
     "data": {
      "image/png": "[encoded data removed]",
      "text/plain": [
       "<Figure size 900x700 with 1 Axes>"
      ]
     },
     "metadata": {},
     "output_type": "display_data"
    }
   ],
   "source": [
    "plt.figure(figsize = (9, 7))\n",
    "plt.plot(list(training_history_lr_scheduler.keys()), [training_history_lr_scheduler[k]['lr'] for k in training_history_lr_scheduler.keys()])\n",
    "plt.xlabel(\"epochs\")\n",
    "plt.ylabel(\"lr\")\n",
    "plt.title(\"DensezeNet-121: Learning-Rate\")\n",
    "plt.show()"
   ]
  },
  {
   "cell_type": "code",
   "execution_count": null,
   "id": "bc7d10ec-4bb9-4d76-a6b4-306feec3d96c",
   "metadata": {},
   "outputs": [],
   "source": []
  },
  {
   "cell_type": "code",
   "execution_count": null,
   "id": "e1f0ee24-9b44-4da3-b813-a6afc0260d9f",
   "metadata": {},
   "outputs": [],
   "source": []
  }
 ],
 "metadata": {
  "kernelspec": {
   "display_name": "Python 3 (ipykernel)",
   "language": "python",
   "name": "python3"
  },
  "language_info": {
   "codemirror_mode": {
    "name": "ipython",
    "version": 3
   },
   "file_extension": ".py",
   "mimetype": "text/x-python",
   "name": "python",
   "nbconvert_exporter": "python",
   "pygments_lexer": "ipython3",
   "version": "3.10.8"
  }
 },
 "nbformat": 4,
 "nbformat_minor": 5
}
