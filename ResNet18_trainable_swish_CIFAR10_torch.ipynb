{
 "cells": [
  {
   "cell_type": "markdown",
   "id": "06279483-490c-4aaf-a791-4ae81c28ca35",
   "metadata": {},
   "source": [
    "# ResNet-18: CIFAR-10 + PyTorch\n",
    "\n",
    "Trained with:\n",
    "- linear lr warmup, followed by step-decays.\n",
    "- __Trainable $\\beta$ hyper-parameter__ in Swish activation function.\n",
    "\n",
    "[SEARCHING FOR ACTIVATION FUNCTIONS](https://arxiv.org/pdf/1710.05941v2.pdf) by Prajit Ramachandran, Barret Zoph and Quoc V. Le; ICLR 2018 paper.\n",
    "\n",
    "Swish is an activation function: $f(x) = \\frac{1}{1 + e^{-\\beta \\cdot x}}$ where $\\beta$ is a learnable parameter. Nearly all implementations do not use the learnable parameter $\\beta$, in which case the activation function is $f(x) = \\frac{1}{1 + e^{-x}}$ (\"Swish-1\") - [paperswithcode, swish](https://paperswithcode.com/method/swish)."
   ]
  },
  {
   "cell_type": "code",
   "execution_count": 1,
   "id": "ecab793c-af51-4da0-bfda-80b4c1abe0b4",
   "metadata": {},
   "outputs": [
    {
     "name": "stdout",
     "output_type": "stream",
     "text": [
      "env: CUDA_DEVICE_ORDER=PCI_BUS_ID\n",
      "env: CUDA_VISIBLE_DEVICES=0\n"
     ]
    }
   ],
   "source": [
    "# Specify GPU to be used-\n",
    "%env CUDA_DEVICE_ORDER = PCI_BUS_ID\n",
    "%env CUDA_VISIBLE_DEVICES = 0"
   ]
  },
  {
   "cell_type": "code",
   "execution_count": 2,
   "id": "0244bcb4-c207-4bdb-911b-71d637e0f746",
   "metadata": {},
   "outputs": [],
   "source": [
    "import torch\n",
    "import torch.nn as nn\n",
    "import torch.nn.functional as F\n",
    "\n",
    "from tqdm import tqdm\n",
    "from tqdm import trange\n",
    "import matplotlib.pyplot as plt\n",
    "import numpy as np\n",
    "import os, pickle\n",
    "\n",
    "from cifar10_dataloader import get_cifar10_data\n",
    "from ResNet18_trainable_swish_torch import ResNet_Block, ResNet18"
   ]
  },
  {
   "cell_type": "code",
   "execution_count": null,
   "id": "4eb00f4e-9793-409e-9ddb-a429ced233be",
   "metadata": {},
   "outputs": [],
   "source": []
  },
  {
   "cell_type": "code",
   "execution_count": null,
   "id": "5ae4da8f-ee7a-4f89-83ec-8cf3413998a5",
   "metadata": {},
   "outputs": [],
   "source": []
  },
  {
   "cell_type": "code",
   "execution_count": 3,
   "id": "37ebf097-fdd1-45ef-9e45-19433805535f",
   "metadata": {},
   "outputs": [
    {
     "name": "stdout",
     "output_type": "stream",
     "text": [
      "torch version: 2.0.0\n",
      "Number of GPU(s) available = 1\n",
      "Current GPU: 0\n",
      "Current GPU name: NVIDIA GeForce RTX 3080 Laptop GPU\n",
      "Available device is cuda\n"
     ]
    }
   ],
   "source": [
    "print(f\"torch version: {torch.__version__}\")\n",
    "\n",
    "\n",
    "# Check if there are multiple devices (i.e., GPU cards)-\n",
    "print(f\"Number of GPU(s) available = {torch.cuda.device_count()}\")\n",
    "\n",
    "if torch.cuda.is_available():\n",
    "    print(f\"Current GPU: {torch.cuda.current_device()}\")\n",
    "    print(f\"Current GPU name: {torch.cuda.get_device_name(torch.cuda.current_device())}\")\n",
    "else:\n",
    "    print(\"PyTorch does not have access to GPU\")\n",
    "\n",
    "# Device configuration-\n",
    "device = torch.device('cuda' if torch.cuda.is_available() else 'cpu')\n",
    "print(f'Available device is {device}')"
   ]
  },
  {
   "cell_type": "code",
   "execution_count": null,
   "id": "ead145c1-18e5-4577-ae6b-e73647a084e6",
   "metadata": {},
   "outputs": [],
   "source": []
  },
  {
   "cell_type": "code",
   "execution_count": 4,
   "id": "00477b3d-3ee2-456b-a29a-83d1ab8cb663",
   "metadata": {},
   "outputs": [],
   "source": [
    "# Specify hyper-parameters\n",
    "batch_size = 256\n",
    "num_classes = 10\n",
    "num_epochs = 85"
   ]
  },
  {
   "cell_type": "code",
   "execution_count": null,
   "id": "7bc6fd94-d736-4477-9d4d-711e4c336533",
   "metadata": {},
   "outputs": [],
   "source": []
  },
  {
   "cell_type": "code",
   "execution_count": 5,
   "id": "cd037808-e83c-4fdf-9e69-2e0cd3bdcc8e",
   "metadata": {},
   "outputs": [
    {
     "name": "stdout",
     "output_type": "stream",
     "text": [
      "Files already downloaded and verified\n",
      "Files already downloaded and verified\n"
     ]
    }
   ],
   "source": [
    "train_loader, val_loader, train_dataset, val_dataset = get_cifar10_data(\n",
    "    path_to_files = 'C:/Users/arjun/Downloads/data/',\n",
    "    batch_size = batch_size\n",
    ")"
   ]
  },
  {
   "cell_type": "code",
   "execution_count": null,
   "id": "79fde03c-42b0-4081-b38d-e799bf8f92b5",
   "metadata": {},
   "outputs": [],
   "source": []
  },
  {
   "cell_type": "code",
   "execution_count": 6,
   "id": "ecd0ec21-f6a6-442f-8b0d-2ecc6afb4d1a",
   "metadata": {},
   "outputs": [],
   "source": [
    "# Initialize ResNet-50 CNN architecture-\n",
    "model = ResNet18(beta = 1.0)"
   ]
  },
  {
   "cell_type": "code",
   "execution_count": 7,
   "id": "ef891fa7-1858-438c-9132-cb28bbe60fd0",
   "metadata": {},
   "outputs": [],
   "source": [
    "# Move to device-\n",
    "model = model.to(device)"
   ]
  },
  {
   "cell_type": "code",
   "execution_count": null,
   "id": "f5709cf5-40fc-49d6-8b72-2720dd6bde70",
   "metadata": {},
   "outputs": [],
   "source": []
  },
  {
   "cell_type": "code",
   "execution_count": 8,
   "id": "8f4ae74b-ee16-4f13-b698-682d7c3e77a0",
   "metadata": {},
   "outputs": [],
   "source": [
    "# Save randomly initialize parameters-\n",
    "torch.save(model.state_dict(), \"ResNet18_random_params.pth\")"
   ]
  },
  {
   "cell_type": "code",
   "execution_count": null,
   "id": "65f60a9b-e739-437d-a10a-158f6f5c3ea2",
   "metadata": {},
   "outputs": [],
   "source": [
    "# model.load_state_dict(torch.load(\"ResNet50_best_model.pth\"))"
   ]
  },
  {
   "cell_type": "code",
   "execution_count": 20,
   "id": "90376e58-2799-408d-83cc-a5c99c486f3e",
   "metadata": {},
   "outputs": [
    {
     "data": {
      "text/plain": [
       "True"
      ]
     },
     "execution_count": 20,
     "metadata": {},
     "output_type": "execute_result"
    }
   ],
   "source": [
    "'beta' in model.state_dict().keys()"
   ]
  },
  {
   "cell_type": "code",
   "execution_count": null,
   "id": "efcc0aff-d2e8-45a9-8b16-3c0983b28ff7",
   "metadata": {},
   "outputs": [],
   "source": []
  },
  {
   "cell_type": "code",
   "execution_count": 9,
   "id": "8f851aea-3267-4c03-9b73-0feacdbdce66",
   "metadata": {},
   "outputs": [],
   "source": [
    "def count_trainable_params(model):\n",
    "    # Count number of layer-wise parameters and total parameters-\n",
    "    tot_params = 0\n",
    "    for param in model.parameters():\n",
    "        # print(f\"layer.shape = {param.shape} has {param.nelement()} parameters\")\n",
    "        tot_params += param.nelement()\n",
    "\n",
    "    return tot_params\n"
   ]
  },
  {
   "cell_type": "code",
   "execution_count": 11,
   "id": "06c028e2-8577-4840-a52f-a5d8abdb6684",
   "metadata": {},
   "outputs": [
    {
     "name": "stdout",
     "output_type": "stream",
     "text": [
      "ResNet-18 has 11168833 params\n"
     ]
    }
   ],
   "source": [
    "print(f\"ResNet-18 has {count_trainable_params(model = model)} params\")"
   ]
  },
  {
   "cell_type": "code",
   "execution_count": null,
   "id": "c0c4679a-24e2-4d53-b6b9-d50ba7762454",
   "metadata": {},
   "outputs": [],
   "source": []
  },
  {
   "cell_type": "code",
   "execution_count": null,
   "id": "f6b625ab-850a-44e8-9936-f42f21eba1db",
   "metadata": {},
   "outputs": [],
   "source": []
  },
  {
   "cell_type": "markdown",
   "id": "438eaaca-70b0-44cb-8166-32ee819625b0",
   "metadata": {},
   "source": [
    "### Learning Rate Scheduler\n",
    "\n",
    "Training dataset size = 50K, batch-size = 256, number of training steps per epoch = 50K / 256 = 195.3125\n",
    "\n",
    "After an initial LR warmup of 13 epochs or, 2539.0625 = 2540 training iterations:\n",
    "\n",
    "- For the next 32 epochs, or, until $45^{th}$ epoch, use lr = 01.\n",
    "\n",
    "- For the next 25 epochs, or, until $70^{th}$ epoch, use lr = 0.01.\n",
    "\n",
    "- For remaninig epochs, use lr = 0.001."
   ]
  },
  {
   "cell_type": "code",
   "execution_count": 12,
   "id": "8c6c491b-9716-4596-b8d0-e1961411354c",
   "metadata": {},
   "outputs": [],
   "source": [
    "boundaries = [8790, 13672]\n",
    "values = [0.1, 0.01, 0.001]"
   ]
  },
  {
   "cell_type": "code",
   "execution_count": null,
   "id": "e8dcb973-9f9d-46b6-a478-e5c9fdb6c5ee",
   "metadata": {},
   "outputs": [],
   "source": []
  },
  {
   "cell_type": "code",
   "execution_count": 13,
   "id": "a8a036f1-c038-4391-b9a1-76cbf088f312",
   "metadata": {},
   "outputs": [],
   "source": [
    "# Define loss function and optimizer-\n",
    "loss = nn.CrossEntropyLoss()\n",
    "\n",
    "optimizer = torch.optim.SGD(\n",
    "    params = model.parameters(), lr = 0.0,\n",
    "    momentum = 0.9, weight_decay = 5e-4\n",
    ")"
   ]
  },
  {
   "cell_type": "code",
   "execution_count": 14,
   "id": "c8c08209-5847-44d0-883f-9828c9034817",
   "metadata": {},
   "outputs": [
    {
     "data": {
      "text/plain": [
       "0.0"
      ]
     },
     "execution_count": 14,
     "metadata": {},
     "output_type": "execute_result"
    }
   ],
   "source": [
    "# Sanity check-\n",
    "optimizer.param_groups[0]['lr']"
   ]
  },
  {
   "cell_type": "code",
   "execution_count": null,
   "id": "d0f081c2-f5e4-45fc-b16d-709f76fe0e99",
   "metadata": {},
   "outputs": [],
   "source": []
  },
  {
   "cell_type": "code",
   "execution_count": 15,
   "id": "4afd3495-b397-4121-b9ac-9daf213e3027",
   "metadata": {},
   "outputs": [],
   "source": [
    "def decay_function(step, boundaries = [8790, 13672], values = [0.1, 0.01, 0.001]):\n",
    "    \n",
    "    for idx, bound in enumerate(boundaries):\n",
    "        if step < bound:\n",
    "            return values[idx]\n",
    "\n",
    "    return values[-1]\n",
    "\n",
    "\n",
    "class schedule():\n",
    "    def __init__(self, initial_learning_rate = 0.1, warmup_steps = 1000, decay_func = None):\n",
    "        self.initial_learning_rate = initial_learning_rate\n",
    "        self.warmup_steps = warmup_steps\n",
    "        self.decay_func = decay_func\n",
    "        self.warmup_step_size = initial_learning_rate/warmup_steps\n",
    "        self.current_lr = 0\n",
    "\n",
    "    def get_lr(self, step):\n",
    "        if step == 0:\n",
    "            return self.current_lr\n",
    "        elif step <= self.warmup_steps:\n",
    "            self.current_lr+=self.warmup_step_size\n",
    "            return self.current_lr\n",
    "        elif step > self.warmup_steps:\n",
    "            if self.decay_func:\n",
    "                return self.decay_func(step)\n",
    "        else:\n",
    "            return self.current_lr\n",
    "        "
   ]
  },
  {
   "cell_type": "code",
   "execution_count": 16,
   "id": "13e55cc2-b632-4e11-8eea-bbaa571fb476",
   "metadata": {},
   "outputs": [],
   "source": [
    "# Initial linear LR warmup: 195.3125 x 13 = 2540 steps in 13 epochs.\n",
    "custom_lr_scheduler = schedule(\n",
    "    initial_learning_rate = 0.1, warmup_steps = 2540,\n",
    "    decay_func = decay_function\n",
    ")"
   ]
  },
  {
   "cell_type": "code",
   "execution_count": null,
   "id": "17ce220f-696c-492d-a740-fd34d836fbcc",
   "metadata": {},
   "outputs": [],
   "source": []
  },
  {
   "cell_type": "code",
   "execution_count": 17,
   "id": "6d784855-5bd6-4c9a-a22d-790a37979e7a",
   "metadata": {},
   "outputs": [],
   "source": [
    "step = 0"
   ]
  },
  {
   "cell_type": "code",
   "execution_count": 18,
   "id": "a37f4f47-57b3-4c0d-aa6d-9b19211cd00a",
   "metadata": {},
   "outputs": [],
   "source": [
    "def train_model_progress(model, train_loader, train_dataset):\n",
    "    '''\n",
    "    Function to perform one epoch of training by using 'train_loader'.\n",
    "    Returns loss and number of correct predictions for this epoch.\n",
    "    '''\n",
    "    running_loss = 0.0\n",
    "    running_corrects = 0.0\n",
    "    \n",
    "    model.train()\n",
    "    \n",
    "    with tqdm(train_loader, unit = 'batch') as tepoch:\n",
    "        for images, labels in tepoch:\n",
    "            tepoch.set_description(f\"Training: \")\n",
    "            \n",
    "            images = images.to(device)\n",
    "            labels = labels.to(device)\n",
    "            \n",
    "            # Get model predictions-\n",
    "            outputs = model(images)\n",
    "            \n",
    "            # Compute loss-\n",
    "            J = loss(outputs, labels)\n",
    "            \n",
    "            # Empty accumulated gradients-\n",
    "            optimizer.zero_grad()\n",
    "            \n",
    "            # Perform backprop-\n",
    "            J.backward()\n",
    "            \n",
    "            # Update parameters-\n",
    "            optimizer.step()\n",
    "            \n",
    "            global step\n",
    "            optimizer.param_groups[0]['lr'] = custom_lr_scheduler.get_lr(step)\n",
    "            step += 1\n",
    "            \n",
    "            # Compute model's performance statistics-\n",
    "            running_loss += J.item() * images.size(0)\n",
    "            _, predicted = torch.max(outputs, 1)\n",
    "            running_corrects += torch.sum(predicted == labels.data)\n",
    "            \n",
    "            tepoch.set_postfix(\n",
    "                loss = running_loss / len(train_dataset),\n",
    "                accuracy = (running_corrects.double().cpu().numpy() / len(train_dataset)) * 100\n",
    "            )\n",
    "            \n",
    "    \n",
    "    train_loss = running_loss / len(train_dataset)\n",
    "    train_acc = (running_corrects.double() / len(train_dataset)) * 100\n",
    "\n",
    "    # return running_loss, running_corrects\n",
    "    return train_loss, train_acc.cpu().numpy()\n",
    "\n",
    "\n",
    "def test_model_progress(model, test_loader, test_dataset):\n",
    "    total = 0.0\n",
    "    correct = 0.0\n",
    "    running_loss_val = 0.0\n",
    "    \n",
    "    # Set model to evaluation mode-\n",
    "    model.eval()\n",
    "\n",
    "    with torch.no_grad():\n",
    "        with tqdm(test_loader, unit = 'batch') as tepoch:\n",
    "            for images, labels in tepoch:\n",
    "                tepoch.set_description(f\"Validation: \")\n",
    "                \n",
    "                images = images.to(device)\n",
    "                labels = labels.to(device)\n",
    "            \n",
    "                # Predict using trained model-\n",
    "                outputs = model(images)\n",
    "                _, y_pred = torch.max(outputs, 1)\n",
    "                \n",
    "                # Compute validation loss-\n",
    "                J_val = loss(outputs, labels)\n",
    "                \n",
    "                running_loss_val += J_val.item() * labels.size(0)\n",
    "    \n",
    "                # Total number of labels-\n",
    "                total += labels.size(0)\n",
    "\n",
    "                # Total number of correct predictions-\n",
    "                correct += (y_pred == labels).sum()\n",
    "                \n",
    "                tepoch.set_postfix(\n",
    "                    val_loss = running_loss_val / len(test_dataset),\n",
    "                    val_acc = 100 * (correct.cpu().numpy() / total)\n",
    "                )\n",
    "            \n",
    "        \n",
    "    # return (running_loss_val, correct, total)\n",
    "    val_loss = running_loss_val / len(test_dataset)\n",
    "    val_acc = (correct / total) * 100\n",
    "\n",
    "    return val_loss, val_acc.cpu().numpy()\n",
    " "
   ]
  },
  {
   "cell_type": "code",
   "execution_count": null,
   "id": "0af6cdbf-dbbe-465c-a45a-25994f0d92cf",
   "metadata": {},
   "outputs": [],
   "source": []
  },
  {
   "cell_type": "code",
   "execution_count": 19,
   "id": "437f68df-3034-4a9d-8412-1893cd0e1873",
   "metadata": {},
   "outputs": [],
   "source": [
    "# Python3 dict to contain training metrics-\n",
    "training_history_lr_scheduler = {}\n",
    "\n",
    "# Initialize parameters saving 'best' models-\n",
    "best_val_acc = 0"
   ]
  },
  {
   "cell_type": "code",
   "execution_count": null,
   "id": "82d22978-f139-40bf-893a-7f1a166353e6",
   "metadata": {},
   "outputs": [],
   "source": []
  },
  {
   "cell_type": "code",
   "execution_count": 21,
   "id": "06e5139f-a10f-4f6d-b424-40dd80d8678b",
   "metadata": {},
   "outputs": [
    {
     "name": "stderr",
     "output_type": "stream",
     "text": [
      "Training: : 100%|███████████████████████████████████████| 196/196 [00:52<00:00,  3.76batch/s, accuracy=22.3, loss=4.25]\n",
      "Validation: : 100%|████████████████████████████████████| 40/40 [00:02<00:00, 19.16batch/s, val_acc=37.5, val_loss=2.07]\n"
     ]
    },
    {
     "name": "stdout",
     "output_type": "stream",
     "text": [
      "\n",
      "epoch: 1 training loss = 4.2471, training accuracy = 22.26%, val_loss = 2.0669, val_accuracy = 37.53% &  beta = 1.886302 & LR = 0.00768\n",
      "\n",
      "Saving model with highest val_acc = 37.5300%\n",
      "\n"
     ]
    },
    {
     "name": "stderr",
     "output_type": "stream",
     "text": [
      "Training: : 100%|████████████████████████████████████████| 196/196 [00:47<00:00,  4.10batch/s, accuracy=40.7, loss=1.8]\n",
      "Validation: : 100%|████████████████████████████████████| 40/40 [00:02<00:00, 19.41batch/s, val_acc=47.5, val_loss=1.47]\n"
     ]
    },
    {
     "name": "stdout",
     "output_type": "stream",
     "text": [
      "\n",
      "epoch: 2 training loss = 1.7980, training accuracy = 40.74%, val_loss = 1.4717, val_accuracy = 47.50% &  beta = 2.044027 & LR = 0.01539\n",
      "\n",
      "Saving model with highest val_acc = 47.5000%\n",
      "\n"
     ]
    },
    {
     "name": "stderr",
     "output_type": "stream",
     "text": [
      "Training: : 100%|████████████████████████████████████████| 196/196 [00:47<00:00,  4.10batch/s, accuracy=47.9, loss=1.5]\n",
      "Validation: : 100%|████████████████████████████████████| 40/40 [00:02<00:00, 18.81batch/s, val_acc=51.8, val_loss=1.38]\n"
     ]
    },
    {
     "name": "stdout",
     "output_type": "stream",
     "text": [
      "\n",
      "epoch: 3 training loss = 1.5028, training accuracy = 47.87%, val_loss = 1.3760, val_accuracy = 51.82% &  beta = 2.081630 & LR = 0.02311\n",
      "\n",
      "Saving model with highest val_acc = 51.8200%\n",
      "\n"
     ]
    },
    {
     "name": "stderr",
     "output_type": "stream",
     "text": [
      "Training: : 100%|███████████████████████████████████████| 196/196 [00:48<00:00,  4.04batch/s, accuracy=53.1, loss=1.34]\n",
      "Validation: : 100%|████████████████████████████████████| 40/40 [00:02<00:00, 19.55batch/s, val_acc=57.7, val_loss=1.23]\n"
     ]
    },
    {
     "name": "stdout",
     "output_type": "stream",
     "text": [
      "\n",
      "epoch: 4 training loss = 1.3438, training accuracy = 53.10%, val_loss = 1.2282, val_accuracy = 57.66% &  beta = 2.095978 & LR = 0.03083\n",
      "\n",
      "Saving model with highest val_acc = 57.6600%\n",
      "\n"
     ]
    },
    {
     "name": "stderr",
     "output_type": "stream",
     "text": [
      "Training: : 100%|██████████████████████████████████████████| 196/196 [00:47<00:00,  4.10batch/s, accuracy=58, loss=1.2]\n",
      "Validation: : 100%|████████████████████████████████████| 40/40 [00:02<00:00, 19.67batch/s, val_acc=62.5, val_loss=1.08]\n"
     ]
    },
    {
     "name": "stdout",
     "output_type": "stream",
     "text": [
      "\n",
      "epoch: 5 training loss = 1.1993, training accuracy = 58.02%, val_loss = 1.0775, val_accuracy = 62.52% &  beta = 2.055020 & LR = 0.03854\n",
      "\n",
      "Saving model with highest val_acc = 62.5200%\n",
      "\n"
     ]
    },
    {
     "name": "stderr",
     "output_type": "stream",
     "text": [
      "Training: : 100%|███████████████████████████████████████| 196/196 [00:47<00:00,  4.13batch/s, accuracy=62.2, loss=1.09]\n",
      "Validation: : 100%|███████████████████████████████████| 40/40 [00:02<00:00, 19.73batch/s, val_acc=68.1, val_loss=0.936]\n"
     ]
    },
    {
     "name": "stdout",
     "output_type": "stream",
     "text": [
      "\n",
      "epoch: 6 training loss = 1.0850, training accuracy = 62.24%, val_loss = 0.9363, val_accuracy = 68.11% &  beta = 2.147521 & LR = 0.04626\n",
      "\n",
      "Saving model with highest val_acc = 68.1100%\n",
      "\n"
     ]
    },
    {
     "name": "stderr",
     "output_type": "stream",
     "text": [
      "Training: : 100%|██████████████████████████████████████| 196/196 [00:47<00:00,  4.13batch/s, accuracy=65.4, loss=0.998]\n",
      "Validation: : 100%|█████████████████████████████████████| 40/40 [00:02<00:00, 19.71batch/s, val_acc=72, val_loss=0.818]\n"
     ]
    },
    {
     "name": "stdout",
     "output_type": "stream",
     "text": [
      "\n",
      "epoch: 7 training loss = 0.9985, training accuracy = 65.37%, val_loss = 0.8183, val_accuracy = 72.03% &  beta = 2.235134 & LR = 0.05398\n",
      "\n",
      "Saving model with highest val_acc = 72.0300%\n",
      "\n"
     ]
    },
    {
     "name": "stderr",
     "output_type": "stream",
     "text": [
      "Training: : 100%|██████████████████████████████████████| 196/196 [00:47<00:00,  4.14batch/s, accuracy=67.3, loss=0.942]\n",
      "Validation: : 100%|███████████████████████████████████| 40/40 [00:02<00:00, 19.77batch/s, val_acc=71.2, val_loss=0.834]\n"
     ]
    },
    {
     "name": "stdout",
     "output_type": "stream",
     "text": [
      "\n",
      "epoch: 8 training loss = 0.9420, training accuracy = 67.26%, val_loss = 0.8344, val_accuracy = 71.24% &  beta = 2.299520 & LR = 0.06169\n",
      "\n"
     ]
    },
    {
     "name": "stderr",
     "output_type": "stream",
     "text": [
      "Training: : 100%|███████████████████████████████████████| 196/196 [00:47<00:00,  4.14batch/s, accuracy=69.4, loss=0.88]\n",
      "Validation: : 100%|████████████████████████████████████| 40/40 [00:02<00:00, 19.76batch/s, val_acc=62.1, val_loss=1.21]\n"
     ]
    },
    {
     "name": "stdout",
     "output_type": "stream",
     "text": [
      "\n",
      "epoch: 9 training loss = 0.8796, training accuracy = 69.42%, val_loss = 1.2104, val_accuracy = 62.12% &  beta = 2.523668 & LR = 0.06941\n",
      "\n"
     ]
    },
    {
     "name": "stderr",
     "output_type": "stream",
     "text": [
      "Training: : 100%|██████████████████████████████████████| 196/196 [00:47<00:00,  4.14batch/s, accuracy=71.2, loss=0.836]\n",
      "Validation: : 100%|███████████████████████████████████| 40/40 [00:02<00:00, 19.71batch/s, val_acc=69.7, val_loss=0.882]\n"
     ]
    },
    {
     "name": "stdout",
     "output_type": "stream",
     "text": [
      "\n",
      "epoch: 10 training loss = 0.8359, training accuracy = 71.25%, val_loss = 0.8819, val_accuracy = 69.69% &  beta = 2.675123 & LR = 0.07713\n",
      "\n"
     ]
    },
    {
     "name": "stderr",
     "output_type": "stream",
     "text": [
      "Training: : 100%|██████████████████████████████████████| 196/196 [00:47<00:00,  4.14batch/s, accuracy=72.4, loss=0.802]\n",
      "Validation: : 100%|███████████████████████████████████| 40/40 [00:02<00:00, 19.75batch/s, val_acc=75.1, val_loss=0.728]\n"
     ]
    },
    {
     "name": "stdout",
     "output_type": "stream",
     "text": [
      "\n",
      "epoch: 11 training loss = 0.8021, training accuracy = 72.39%, val_loss = 0.7279, val_accuracy = 75.14% &  beta = 2.873386 & LR = 0.08484\n",
      "\n",
      "Saving model with highest val_acc = 75.1400%\n",
      "\n"
     ]
    },
    {
     "name": "stderr",
     "output_type": "stream",
     "text": [
      "Training: : 100%|██████████████████████████████████████| 196/196 [00:47<00:00,  4.13batch/s, accuracy=73.2, loss=0.777]\n",
      "Validation: : 100%|███████████████████████████████████| 40/40 [00:02<00:00, 19.78batch/s, val_acc=75.1, val_loss=0.741]\n"
     ]
    },
    {
     "name": "stdout",
     "output_type": "stream",
     "text": [
      "\n",
      "epoch: 12 training loss = 0.7767, training accuracy = 73.19%, val_loss = 0.7412, val_accuracy = 75.12% &  beta = 3.043522 & LR = 0.09256\n",
      "\n"
     ]
    },
    {
     "name": "stderr",
     "output_type": "stream",
     "text": [
      "Training: : 100%|██████████████████████████████████████| 196/196 [00:47<00:00,  4.14batch/s, accuracy=74.2, loss=0.748]\n",
      "Validation: : 100%|███████████████████████████████████| 40/40 [00:02<00:00, 19.74batch/s, val_acc=71.7, val_loss=0.835]\n"
     ]
    },
    {
     "name": "stdout",
     "output_type": "stream",
     "text": [
      "\n",
      "epoch: 13 training loss = 0.7476, training accuracy = 74.16%, val_loss = 0.8354, val_accuracy = 71.69% &  beta = 3.369721 & LR = 0.10000\n",
      "\n"
     ]
    },
    {
     "name": "stderr",
     "output_type": "stream",
     "text": [
      "Training: : 100%|██████████████████████████████████████| 196/196 [00:47<00:00,  4.14batch/s, accuracy=75.2, loss=0.717]\n",
      "Validation: : 100%|███████████████████████████████████| 40/40 [00:02<00:00, 19.71batch/s, val_acc=79.7, val_loss=0.602]\n"
     ]
    },
    {
     "name": "stdout",
     "output_type": "stream",
     "text": [
      "\n",
      "epoch: 14 training loss = 0.7168, training accuracy = 75.20%, val_loss = 0.6021, val_accuracy = 79.70% &  beta = 3.658306 & LR = 0.10000\n",
      "\n",
      "Saving model with highest val_acc = 79.7000%\n",
      "\n"
     ]
    },
    {
     "name": "stderr",
     "output_type": "stream",
     "text": [
      "Training: : 100%|██████████████████████████████████████| 196/196 [00:47<00:00,  4.13batch/s, accuracy=76.1, loss=0.697]\n",
      "Validation: : 100%|███████████████████████████████████| 40/40 [00:02<00:00, 19.79batch/s, val_acc=78.3, val_loss=0.641]\n"
     ]
    },
    {
     "name": "stdout",
     "output_type": "stream",
     "text": [
      "\n",
      "epoch: 15 training loss = 0.6966, training accuracy = 76.05%, val_loss = 0.6406, val_accuracy = 78.35% &  beta = 4.019728 & LR = 0.10000\n",
      "\n"
     ]
    },
    {
     "name": "stderr",
     "output_type": "stream",
     "text": [
      "Training: : 100%|██████████████████████████████████████| 196/196 [00:47<00:00,  4.14batch/s, accuracy=77.1, loss=0.668]\n",
      "Validation: : 100%|███████████████████████████████████| 40/40 [00:02<00:00, 19.74batch/s, val_acc=74.4, val_loss=0.767]\n"
     ]
    },
    {
     "name": "stdout",
     "output_type": "stream",
     "text": [
      "\n",
      "epoch: 16 training loss = 0.6680, training accuracy = 77.11%, val_loss = 0.7670, val_accuracy = 74.36% &  beta = 4.294059 & LR = 0.10000\n",
      "\n"
     ]
    },
    {
     "name": "stderr",
     "output_type": "stream",
     "text": [
      "Training: : 100%|██████████████████████████████████████| 196/196 [00:47<00:00,  4.14batch/s, accuracy=77.4, loss=0.648]\n",
      "Validation: : 100%|███████████████████████████████████| 40/40 [00:02<00:00, 19.78batch/s, val_acc=82.2, val_loss=0.541]\n"
     ]
    },
    {
     "name": "stdout",
     "output_type": "stream",
     "text": [
      "\n",
      "epoch: 17 training loss = 0.6475, training accuracy = 77.43%, val_loss = 0.5414, val_accuracy = 82.16% &  beta = 4.610133 & LR = 0.10000\n",
      "\n",
      "Saving model with highest val_acc = 82.1600%\n",
      "\n"
     ]
    },
    {
     "name": "stderr",
     "output_type": "stream",
     "text": [
      "Training: : 100%|███████████████████████████████████████| 196/196 [00:49<00:00,  3.99batch/s, accuracy=78.4, loss=0.63]\n",
      "Validation: : 100%|███████████████████████████████████| 40/40 [00:02<00:00, 19.49batch/s, val_acc=80.3, val_loss=0.565]\n"
     ]
    },
    {
     "name": "stdout",
     "output_type": "stream",
     "text": [
      "\n",
      "epoch: 18 training loss = 0.6296, training accuracy = 78.38%, val_loss = 0.5649, val_accuracy = 80.27% &  beta = 4.911165 & LR = 0.10000\n",
      "\n"
     ]
    },
    {
     "name": "stderr",
     "output_type": "stream",
     "text": [
      "Training: : 100%|██████████████████████████████████████| 196/196 [00:47<00:00,  4.14batch/s, accuracy=78.8, loss=0.618]\n",
      "Validation: : 100%|█████████████████████████████████████| 40/40 [00:02<00:00, 19.74batch/s, val_acc=81, val_loss=0.566]\n"
     ]
    },
    {
     "name": "stdout",
     "output_type": "stream",
     "text": [
      "\n",
      "epoch: 19 training loss = 0.6183, training accuracy = 78.76%, val_loss = 0.5663, val_accuracy = 81.02% &  beta = 5.193012 & LR = 0.10000\n",
      "\n"
     ]
    },
    {
     "name": "stderr",
     "output_type": "stream",
     "text": [
      "Training: : 100%|██████████████████████████████████████| 196/196 [00:47<00:00,  4.14batch/s, accuracy=79.2, loss=0.606]\n",
      "Validation: : 100%|███████████████████████████████████| 40/40 [00:02<00:00, 19.80batch/s, val_acc=72.2, val_loss=0.832]\n"
     ]
    },
    {
     "name": "stdout",
     "output_type": "stream",
     "text": [
      "\n",
      "epoch: 20 training loss = 0.6061, training accuracy = 79.24%, val_loss = 0.8319, val_accuracy = 72.21% &  beta = 5.481262 & LR = 0.10000\n",
      "\n"
     ]
    },
    {
     "name": "stderr",
     "output_type": "stream",
     "text": [
      "Training: : 100%|██████████████████████████████████████| 196/196 [00:47<00:00,  4.14batch/s, accuracy=79.4, loss=0.601]\n",
      "Validation: : 100%|███████████████████████████████████| 40/40 [00:02<00:00, 19.78batch/s, val_acc=80.1, val_loss=0.594]\n"
     ]
    },
    {
     "name": "stdout",
     "output_type": "stream",
     "text": [
      "\n",
      "epoch: 21 training loss = 0.6007, training accuracy = 79.44%, val_loss = 0.5944, val_accuracy = 80.08% &  beta = 5.733926 & LR = 0.10000\n",
      "\n"
     ]
    },
    {
     "name": "stderr",
     "output_type": "stream",
     "text": [
      "Training: : 100%|██████████████████████████████████████| 196/196 [00:47<00:00,  4.14batch/s, accuracy=79.7, loss=0.588]\n",
      "Validation: : 100%|███████████████████████████████████| 40/40 [00:02<00:00, 19.77batch/s, val_acc=83.4, val_loss=0.511]\n"
     ]
    },
    {
     "name": "stdout",
     "output_type": "stream",
     "text": [
      "\n",
      "epoch: 22 training loss = 0.5879, training accuracy = 79.72%, val_loss = 0.5110, val_accuracy = 83.39% &  beta = 5.951094 & LR = 0.10000\n",
      "\n",
      "Saving model with highest val_acc = 83.3900%\n",
      "\n"
     ]
    },
    {
     "name": "stderr",
     "output_type": "stream",
     "text": [
      "Training: : 100%|██████████████████████████████████████| 196/196 [00:47<00:00,  4.14batch/s, accuracy=80.1, loss=0.583]\n",
      "Validation: : 100%|███████████████████████████████████| 40/40 [00:02<00:00, 19.72batch/s, val_acc=83.4, val_loss=0.493]\n"
     ]
    },
    {
     "name": "stdout",
     "output_type": "stream",
     "text": [
      "\n",
      "epoch: 23 training loss = 0.5832, training accuracy = 80.10%, val_loss = 0.4927, val_accuracy = 83.37% &  beta = 6.076081 & LR = 0.10000\n",
      "\n"
     ]
    },
    {
     "name": "stderr",
     "output_type": "stream",
     "text": [
      "Training: : 100%|██████████████████████████████████████| 196/196 [00:47<00:00,  4.14batch/s, accuracy=80.4, loss=0.572]\n",
      "Validation: : 100%|█████████████████████████████████████| 40/40 [00:02<00:00, 19.72batch/s, val_acc=82, val_loss=0.548]\n"
     ]
    },
    {
     "name": "stdout",
     "output_type": "stream",
     "text": [
      "\n",
      "epoch: 24 training loss = 0.5715, training accuracy = 80.39%, val_loss = 0.5475, val_accuracy = 81.98% &  beta = 6.217688 & LR = 0.10000\n",
      "\n"
     ]
    },
    {
     "name": "stderr",
     "output_type": "stream",
     "text": [
      "Training: : 100%|██████████████████████████████████████| 196/196 [00:47<00:00,  4.14batch/s, accuracy=80.5, loss=0.565]\n",
      "Validation: : 100%|███████████████████████████████████| 40/40 [00:02<00:00, 19.57batch/s, val_acc=73.5, val_loss=0.859]\n"
     ]
    },
    {
     "name": "stdout",
     "output_type": "stream",
     "text": [
      "\n",
      "epoch: 25 training loss = 0.5653, training accuracy = 80.52%, val_loss = 0.8594, val_accuracy = 73.48% &  beta = 6.308719 & LR = 0.10000\n",
      "\n"
     ]
    },
    {
     "name": "stderr",
     "output_type": "stream",
     "text": [
      "Training: : 100%|██████████████████████████████████████| 196/196 [00:47<00:00,  4.14batch/s, accuracy=81.1, loss=0.553]\n",
      "Validation: : 100%|████████████████████████████████████| 40/40 [00:02<00:00, 19.58batch/s, val_acc=84.2, val_loss=0.47]\n"
     ]
    },
    {
     "name": "stdout",
     "output_type": "stream",
     "text": [
      "\n",
      "epoch: 26 training loss = 0.5534, training accuracy = 81.12%, val_loss = 0.4703, val_accuracy = 84.25% &  beta = 6.451999 & LR = 0.10000\n",
      "\n",
      "Saving model with highest val_acc = 84.2500%\n",
      "\n"
     ]
    },
    {
     "name": "stderr",
     "output_type": "stream",
     "text": [
      "Training: : 100%|██████████████████████████████████████| 196/196 [00:47<00:00,  4.13batch/s, accuracy=81.4, loss=0.542]\n",
      "Validation: : 100%|███████████████████████████████████| 40/40 [00:02<00:00, 19.63batch/s, val_acc=81.1, val_loss=0.579]\n"
     ]
    },
    {
     "name": "stdout",
     "output_type": "stream",
     "text": [
      "\n",
      "epoch: 27 training loss = 0.5422, training accuracy = 81.40%, val_loss = 0.5786, val_accuracy = 81.13% &  beta = 6.526549 & LR = 0.10000\n",
      "\n"
     ]
    },
    {
     "name": "stderr",
     "output_type": "stream",
     "text": [
      "Training: : 100%|██████████████████████████████████████| 196/196 [00:47<00:00,  4.13batch/s, accuracy=81.3, loss=0.547]\n",
      "Validation: : 100%|███████████████████████████████████| 40/40 [00:02<00:00, 19.60batch/s, val_acc=82.7, val_loss=0.512]\n"
     ]
    },
    {
     "name": "stdout",
     "output_type": "stream",
     "text": [
      "\n",
      "epoch: 28 training loss = 0.5467, training accuracy = 81.31%, val_loss = 0.5115, val_accuracy = 82.73% &  beta = 6.561112 & LR = 0.10000\n",
      "\n"
     ]
    },
    {
     "name": "stderr",
     "output_type": "stream",
     "text": [
      "Training: : 100%|██████████████████████████████████████| 196/196 [00:47<00:00,  4.14batch/s, accuracy=81.6, loss=0.541]\n",
      "Validation: : 100%|███████████████████████████████████| 40/40 [00:02<00:00, 19.64batch/s, val_acc=82.3, val_loss=0.527]\n"
     ]
    },
    {
     "name": "stdout",
     "output_type": "stream",
     "text": [
      "\n",
      "epoch: 29 training loss = 0.5406, training accuracy = 81.64%, val_loss = 0.5274, val_accuracy = 82.32% &  beta = 6.590678 & LR = 0.10000\n",
      "\n"
     ]
    },
    {
     "name": "stderr",
     "output_type": "stream",
     "text": [
      "Training: : 100%|██████████████████████████████████████| 196/196 [00:47<00:00,  4.13batch/s, accuracy=81.5, loss=0.536]\n",
      "Validation: : 100%|███████████████████████████████████| 40/40 [00:02<00:00, 19.70batch/s, val_acc=82.8, val_loss=0.527]\n"
     ]
    },
    {
     "name": "stdout",
     "output_type": "stream",
     "text": [
      "\n",
      "epoch: 30 training loss = 0.5360, training accuracy = 81.49%, val_loss = 0.5270, val_accuracy = 82.85% &  beta = 6.627245 & LR = 0.10000\n",
      "\n"
     ]
    },
    {
     "name": "stderr",
     "output_type": "stream",
     "text": [
      "Training: : 100%|██████████████████████████████████████| 196/196 [00:47<00:00,  4.14batch/s, accuracy=81.7, loss=0.531]\n",
      "Validation: : 100%|███████████████████████████████████| 40/40 [00:02<00:00, 19.64batch/s, val_acc=81.6, val_loss=0.568]\n"
     ]
    },
    {
     "name": "stdout",
     "output_type": "stream",
     "text": [
      "\n",
      "epoch: 31 training loss = 0.5307, training accuracy = 81.70%, val_loss = 0.5679, val_accuracy = 81.62% &  beta = 6.661466 & LR = 0.10000\n",
      "\n"
     ]
    },
    {
     "name": "stderr",
     "output_type": "stream",
     "text": [
      "Training: : 100%|██████████████████████████████████████| 196/196 [00:47<00:00,  4.14batch/s, accuracy=81.9, loss=0.528]\n",
      "Validation: : 100%|███████████████████████████████████| 40/40 [00:02<00:00, 19.66batch/s, val_acc=81.9, val_loss=0.574]\n"
     ]
    },
    {
     "name": "stdout",
     "output_type": "stream",
     "text": [
      "\n",
      "epoch: 32 training loss = 0.5281, training accuracy = 81.88%, val_loss = 0.5737, val_accuracy = 81.88% &  beta = 6.647497 & LR = 0.10000\n",
      "\n"
     ]
    },
    {
     "name": "stderr",
     "output_type": "stream",
     "text": [
      "Training: : 100%|███████████████████████████████████████| 196/196 [00:47<00:00,  4.14batch/s, accuracy=82.3, loss=0.52]\n",
      "Validation: : 100%|███████████████████████████████████| 40/40 [00:02<00:00, 19.64batch/s, val_acc=82.2, val_loss=0.543]\n"
     ]
    },
    {
     "name": "stdout",
     "output_type": "stream",
     "text": [
      "\n",
      "epoch: 33 training loss = 0.5197, training accuracy = 82.26%, val_loss = 0.5431, val_accuracy = 82.23% &  beta = 6.642533 & LR = 0.10000\n",
      "\n"
     ]
    },
    {
     "name": "stderr",
     "output_type": "stream",
     "text": [
      "Training: : 100%|██████████████████████████████████████| 196/196 [00:47<00:00,  4.14batch/s, accuracy=82.4, loss=0.518]\n",
      "Validation: : 100%|███████████████████████████████████| 40/40 [00:02<00:00, 19.65batch/s, val_acc=77.3, val_loss=0.708]\n"
     ]
    },
    {
     "name": "stdout",
     "output_type": "stream",
     "text": [
      "\n",
      "epoch: 34 training loss = 0.5185, training accuracy = 82.38%, val_loss = 0.7081, val_accuracy = 77.33% &  beta = 6.626249 & LR = 0.10000\n",
      "\n"
     ]
    },
    {
     "name": "stderr",
     "output_type": "stream",
     "text": [
      "Training: : 100%|██████████████████████████████████████| 196/196 [00:47<00:00,  4.14batch/s, accuracy=82.2, loss=0.519]\n",
      "Validation: : 100%|███████████████████████████████████| 40/40 [00:02<00:00, 19.70batch/s, val_acc=82.2, val_loss=0.537]\n"
     ]
    },
    {
     "name": "stdout",
     "output_type": "stream",
     "text": [
      "\n",
      "epoch: 35 training loss = 0.5190, training accuracy = 82.20%, val_loss = 0.5372, val_accuracy = 82.15% &  beta = 6.683588 & LR = 0.10000\n",
      "\n"
     ]
    },
    {
     "name": "stderr",
     "output_type": "stream",
     "text": [
      "Training: : 100%|██████████████████████████████████████| 196/196 [00:47<00:00,  4.14batch/s, accuracy=82.9, loss=0.506]\n",
      "Validation: : 100%|███████████████████████████████████| 40/40 [00:02<00:00, 19.65batch/s, val_acc=85.8, val_loss=0.439]\n"
     ]
    },
    {
     "name": "stdout",
     "output_type": "stream",
     "text": [
      "\n",
      "epoch: 36 training loss = 0.5062, training accuracy = 82.90%, val_loss = 0.4387, val_accuracy = 85.78% &  beta = 6.662245 & LR = 0.10000\n",
      "\n",
      "Saving model with highest val_acc = 85.7800%\n",
      "\n"
     ]
    },
    {
     "name": "stderr",
     "output_type": "stream",
     "text": [
      "Training: : 100%|██████████████████████████████████████| 196/196 [00:47<00:00,  4.14batch/s, accuracy=82.9, loss=0.503]\n",
      "Validation: : 100%|███████████████████████████████████| 40/40 [00:02<00:00, 19.64batch/s, val_acc=83.4, val_loss=0.507]\n"
     ]
    },
    {
     "name": "stdout",
     "output_type": "stream",
     "text": [
      "\n",
      "epoch: 37 training loss = 0.5030, training accuracy = 82.94%, val_loss = 0.5069, val_accuracy = 83.36% &  beta = 6.667841 & LR = 0.10000\n",
      "\n"
     ]
    },
    {
     "name": "stderr",
     "output_type": "stream",
     "text": [
      "Training: : 100%|██████████████████████████████████████| 196/196 [00:54<00:00,  3.63batch/s, accuracy=82.9, loss=0.499]\n",
      "Validation: : 100%|███████████████████████████████████| 40/40 [00:03<00:00, 12.82batch/s, val_acc=85.5, val_loss=0.439]\n"
     ]
    },
    {
     "name": "stdout",
     "output_type": "stream",
     "text": [
      "\n",
      "epoch: 38 training loss = 0.4992, training accuracy = 82.89%, val_loss = 0.4388, val_accuracy = 85.49% &  beta = 6.660444 & LR = 0.10000\n",
      "\n"
     ]
    },
    {
     "name": "stderr",
     "output_type": "stream",
     "text": [
      "Training: : 100%|██████████████████████████████████████| 196/196 [01:03<00:00,  3.07batch/s, accuracy=83.1, loss=0.496]\n",
      "Validation: : 100%|███████████████████████████████████| 40/40 [00:02<00:00, 13.35batch/s, val_acc=82.9, val_loss=0.515]\n"
     ]
    },
    {
     "name": "stdout",
     "output_type": "stream",
     "text": [
      "\n",
      "epoch: 39 training loss = 0.4964, training accuracy = 83.09%, val_loss = 0.5148, val_accuracy = 82.88% &  beta = 6.648847 & LR = 0.10000\n",
      "\n"
     ]
    },
    {
     "name": "stderr",
     "output_type": "stream",
     "text": [
      "Training: : 100%|██████████████████████████████████████| 196/196 [00:56<00:00,  3.47batch/s, accuracy=83.1, loss=0.495]\n",
      "Validation: : 100%|███████████████████████████████████| 40/40 [00:02<00:00, 19.65batch/s, val_acc=85.3, val_loss=0.437]\n"
     ]
    },
    {
     "name": "stdout",
     "output_type": "stream",
     "text": [
      "\n",
      "epoch: 40 training loss = 0.4951, training accuracy = 83.11%, val_loss = 0.4369, val_accuracy = 85.31% &  beta = 6.615694 & LR = 0.10000\n",
      "\n"
     ]
    },
    {
     "name": "stderr",
     "output_type": "stream",
     "text": [
      "Training: : 100%|███████████████████████████████████████| 196/196 [00:47<00:00,  4.15batch/s, accuracy=83.2, loss=0.49]\n",
      "Validation: : 100%|█████████████████████████████████████| 40/40 [00:02<00:00, 19.65batch/s, val_acc=83.8, val_loss=0.5]\n"
     ]
    },
    {
     "name": "stdout",
     "output_type": "stream",
     "text": [
      "\n",
      "epoch: 41 training loss = 0.4897, training accuracy = 83.23%, val_loss = 0.4999, val_accuracy = 83.84% &  beta = 6.564793 & LR = 0.10000\n",
      "\n"
     ]
    },
    {
     "name": "stderr",
     "output_type": "stream",
     "text": [
      "Training: : 100%|███████████████████████████████████████| 196/196 [00:47<00:00,  4.15batch/s, accuracy=83.2, loss=0.49]\n",
      "Validation: : 100%|███████████████████████████████████| 40/40 [00:02<00:00, 19.65batch/s, val_acc=85.1, val_loss=0.449]\n"
     ]
    },
    {
     "name": "stdout",
     "output_type": "stream",
     "text": [
      "\n",
      "epoch: 42 training loss = 0.4903, training accuracy = 83.17%, val_loss = 0.4494, val_accuracy = 85.12% &  beta = 6.569628 & LR = 0.10000\n",
      "\n"
     ]
    },
    {
     "name": "stderr",
     "output_type": "stream",
     "text": [
      "Training: : 100%|██████████████████████████████████████| 196/196 [00:47<00:00,  4.15batch/s, accuracy=83.4, loss=0.481]\n",
      "Validation: : 100%|███████████████████████████████████| 40/40 [00:02<00:00, 19.68batch/s, val_acc=81.7, val_loss=0.549]\n"
     ]
    },
    {
     "name": "stdout",
     "output_type": "stream",
     "text": [
      "\n",
      "epoch: 43 training loss = 0.4813, training accuracy = 83.41%, val_loss = 0.5486, val_accuracy = 81.68% &  beta = 6.586953 & LR = 0.10000\n",
      "\n"
     ]
    },
    {
     "name": "stderr",
     "output_type": "stream",
     "text": [
      "Training: : 100%|██████████████████████████████████████| 196/196 [00:47<00:00,  4.14batch/s, accuracy=83.4, loss=0.485]\n",
      "Validation: : 100%|███████████████████████████████████| 40/40 [00:02<00:00, 19.66batch/s, val_acc=82.2, val_loss=0.527]\n"
     ]
    },
    {
     "name": "stdout",
     "output_type": "stream",
     "text": [
      "\n",
      "epoch: 44 training loss = 0.4847, training accuracy = 83.41%, val_loss = 0.5274, val_accuracy = 82.18% &  beta = 6.581092 & LR = 0.10000\n",
      "\n"
     ]
    },
    {
     "name": "stderr",
     "output_type": "stream",
     "text": [
      "Training: : 100%|████████████████████████████████████████| 196/196 [00:47<00:00,  4.14batch/s, accuracy=84, loss=0.467]\n",
      "Validation: : 100%|███████████████████████████████████| 40/40 [00:02<00:00, 19.44batch/s, val_acc=89.3, val_loss=0.314]\n"
     ]
    },
    {
     "name": "stdout",
     "output_type": "stream",
     "text": [
      "\n",
      "epoch: 45 training loss = 0.4670, training accuracy = 83.96%, val_loss = 0.3142, val_accuracy = 89.27% &  beta = 6.555890 & LR = 0.01000\n",
      "\n",
      "Saving model with highest val_acc = 89.2700%\n",
      "\n"
     ]
    },
    {
     "name": "stderr",
     "output_type": "stream",
     "text": [
      "Training: : 100%|██████████████████████████████████████| 196/196 [00:47<00:00,  4.14batch/s, accuracy=89.1, loss=0.322]\n",
      "Validation: : 100%|███████████████████████████████████| 40/40 [00:02<00:00, 19.65batch/s, val_acc=91.1, val_loss=0.265]\n"
     ]
    },
    {
     "name": "stdout",
     "output_type": "stream",
     "text": [
      "\n",
      "epoch: 46 training loss = 0.3217, training accuracy = 89.11%, val_loss = 0.2646, val_accuracy = 91.10% &  beta = 6.553314 & LR = 0.01000\n",
      "\n",
      "Saving model with highest val_acc = 91.1000%\n",
      "\n"
     ]
    },
    {
     "name": "stderr",
     "output_type": "stream",
     "text": [
      "Training: : 100%|██████████████████████████████████████| 196/196 [00:47<00:00,  4.14batch/s, accuracy=90.7, loss=0.278]\n",
      "Validation: : 100%|███████████████████████████████████| 40/40 [00:02<00:00, 19.64batch/s, val_acc=91.5, val_loss=0.251]\n"
     ]
    },
    {
     "name": "stdout",
     "output_type": "stream",
     "text": [
      "\n",
      "epoch: 47 training loss = 0.2777, training accuracy = 90.72%, val_loss = 0.2506, val_accuracy = 91.48% &  beta = 6.543442 & LR = 0.01000\n",
      "\n",
      "Saving model with highest val_acc = 91.4800%\n",
      "\n"
     ]
    },
    {
     "name": "stderr",
     "output_type": "stream",
     "text": [
      "Training: : 100%|███████████████████████████████████████| 196/196 [00:47<00:00,  4.14batch/s, accuracy=91.2, loss=0.26]\n",
      "Validation: : 100%|████████████████████████████████████| 40/40 [00:02<00:00, 19.60batch/s, val_acc=91.5, val_loss=0.25]\n"
     ]
    },
    {
     "name": "stdout",
     "output_type": "stream",
     "text": [
      "\n",
      "epoch: 48 training loss = 0.2599, training accuracy = 91.21%, val_loss = 0.2499, val_accuracy = 91.48% &  beta = 6.531926 & LR = 0.01000\n",
      "\n"
     ]
    },
    {
     "name": "stderr",
     "output_type": "stream",
     "text": [
      "Training: : 100%|██████████████████████████████████████| 196/196 [00:47<00:00,  4.14batch/s, accuracy=91.8, loss=0.242]\n",
      "Validation: : 100%|███████████████████████████████████| 40/40 [00:02<00:00, 19.59batch/s, val_acc=91.9, val_loss=0.241]\n"
     ]
    },
    {
     "name": "stdout",
     "output_type": "stream",
     "text": [
      "\n",
      "epoch: 49 training loss = 0.2416, training accuracy = 91.77%, val_loss = 0.2406, val_accuracy = 91.89% &  beta = 6.521212 & LR = 0.01000\n",
      "\n",
      "Saving model with highest val_acc = 91.8900%\n",
      "\n"
     ]
    },
    {
     "name": "stderr",
     "output_type": "stream",
     "text": [
      "Training: : 100%|███████████████████████████████████████| 196/196 [00:47<00:00,  4.14batch/s, accuracy=92.3, loss=0.23]\n",
      "Validation: : 100%|███████████████████████████████████| 40/40 [00:02<00:00, 19.59batch/s, val_acc=91.7, val_loss=0.241]\n"
     ]
    },
    {
     "name": "stdout",
     "output_type": "stream",
     "text": [
      "\n",
      "epoch: 50 training loss = 0.2301, training accuracy = 92.25%, val_loss = 0.2408, val_accuracy = 91.74% &  beta = 6.521156 & LR = 0.01000\n",
      "\n"
     ]
    },
    {
     "name": "stderr",
     "output_type": "stream",
     "text": [
      "Training: : 100%|██████████████████████████████████████| 196/196 [00:47<00:00,  4.13batch/s, accuracy=92.3, loss=0.223]\n",
      "Validation: : 100%|███████████████████████████████████| 40/40 [00:02<00:00, 19.60batch/s, val_acc=92.1, val_loss=0.237]\n"
     ]
    },
    {
     "name": "stdout",
     "output_type": "stream",
     "text": [
      "\n",
      "epoch: 51 training loss = 0.2230, training accuracy = 92.34%, val_loss = 0.2372, val_accuracy = 92.07% &  beta = 6.512432 & LR = 0.01000\n",
      "\n",
      "Saving model with highest val_acc = 92.0700%\n",
      "\n"
     ]
    },
    {
     "name": "stderr",
     "output_type": "stream",
     "text": [
      "Training: : 100%|████████████████████████████████████████| 196/196 [00:47<00:00,  4.14batch/s, accuracy=93, loss=0.211]\n",
      "Validation: : 100%|████████████████████████████████████| 40/40 [00:02<00:00, 19.61batch/s, val_acc=91.9, val_loss=0.24]\n"
     ]
    },
    {
     "name": "stdout",
     "output_type": "stream",
     "text": [
      "\n",
      "epoch: 52 training loss = 0.2113, training accuracy = 93.02%, val_loss = 0.2396, val_accuracy = 91.93% &  beta = 6.505198 & LR = 0.01000\n",
      "\n"
     ]
    },
    {
     "name": "stderr",
     "output_type": "stream",
     "text": [
      "Training: : 100%|██████████████████████████████████████| 196/196 [00:47<00:00,  4.14batch/s, accuracy=92.8, loss=0.211]\n",
      "Validation: : 100%|███████████████████████████████████| 40/40 [00:02<00:00, 19.67batch/s, val_acc=92.1, val_loss=0.243]\n"
     ]
    },
    {
     "name": "stdout",
     "output_type": "stream",
     "text": [
      "\n",
      "epoch: 53 training loss = 0.2109, training accuracy = 92.85%, val_loss = 0.2431, val_accuracy = 92.07% &  beta = 6.501472 & LR = 0.01000\n",
      "\n"
     ]
    },
    {
     "name": "stderr",
     "output_type": "stream",
     "text": [
      "Training: : 100%|██████████████████████████████████████| 196/196 [00:47<00:00,  4.14batch/s, accuracy=93.4, loss=0.197]\n",
      "Validation: : 100%|████████████████████████████████████| 40/40 [00:02<00:00, 19.66batch/s, val_acc=92.2, val_loss=0.24]\n"
     ]
    },
    {
     "name": "stdout",
     "output_type": "stream",
     "text": [
      "\n",
      "epoch: 54 training loss = 0.1967, training accuracy = 93.42%, val_loss = 0.2404, val_accuracy = 92.15% &  beta = 6.496717 & LR = 0.01000\n",
      "\n",
      "Saving model with highest val_acc = 92.1500%\n",
      "\n"
     ]
    },
    {
     "name": "stderr",
     "output_type": "stream",
     "text": [
      "Training: : 100%|██████████████████████████████████████| 196/196 [00:47<00:00,  4.14batch/s, accuracy=93.5, loss=0.194]\n",
      "Validation: : 100%|███████████████████████████████████| 40/40 [00:02<00:00, 19.64batch/s, val_acc=92.2, val_loss=0.239]\n"
     ]
    },
    {
     "name": "stdout",
     "output_type": "stream",
     "text": [
      "\n",
      "epoch: 55 training loss = 0.1943, training accuracy = 93.51%, val_loss = 0.2390, val_accuracy = 92.17% &  beta = 6.494266 & LR = 0.01000\n",
      "\n",
      "Saving model with highest val_acc = 92.1700%\n",
      "\n"
     ]
    },
    {
     "name": "stderr",
     "output_type": "stream",
     "text": [
      "Training: : 100%|██████████████████████████████████████| 196/196 [00:47<00:00,  4.14batch/s, accuracy=93.7, loss=0.191]\n",
      "Validation: : 100%|███████████████████████████████████| 40/40 [00:02<00:00, 19.71batch/s, val_acc=92.2, val_loss=0.241]\n"
     ]
    },
    {
     "name": "stdout",
     "output_type": "stream",
     "text": [
      "\n",
      "epoch: 56 training loss = 0.1913, training accuracy = 93.71%, val_loss = 0.2409, val_accuracy = 92.24% &  beta = 6.489770 & LR = 0.01000\n",
      "\n",
      "Saving model with highest val_acc = 92.2400%\n",
      "\n"
     ]
    },
    {
     "name": "stderr",
     "output_type": "stream",
     "text": [
      "Training: : 100%|███████████████████████████████████████| 196/196 [00:47<00:00,  4.15batch/s, accuracy=94.1, loss=0.18]\n",
      "Validation: : 100%|█████████████████████████████████████| 40/40 [00:02<00:00, 19.64batch/s, val_acc=92, val_loss=0.254]\n"
     ]
    },
    {
     "name": "stdout",
     "output_type": "stream",
     "text": [
      "\n",
      "epoch: 57 training loss = 0.1797, training accuracy = 94.10%, val_loss = 0.2536, val_accuracy = 92.03% &  beta = 6.491140 & LR = 0.01000\n",
      "\n"
     ]
    },
    {
     "name": "stderr",
     "output_type": "stream",
     "text": [
      "Training: : 100%|██████████████████████████████████████| 196/196 [00:47<00:00,  4.14batch/s, accuracy=94.2, loss=0.175]\n",
      "Validation: : 100%|███████████████████████████████████| 40/40 [00:02<00:00, 19.61batch/s, val_acc=92.5, val_loss=0.237]\n"
     ]
    },
    {
     "name": "stdout",
     "output_type": "stream",
     "text": [
      "\n",
      "epoch: 58 training loss = 0.1746, training accuracy = 94.18%, val_loss = 0.2369, val_accuracy = 92.45% &  beta = 6.496712 & LR = 0.01000\n",
      "\n",
      "Saving model with highest val_acc = 92.4500%\n",
      "\n"
     ]
    },
    {
     "name": "stderr",
     "output_type": "stream",
     "text": [
      "Training: : 100%|██████████████████████████████████████| 196/196 [00:47<00:00,  4.14batch/s, accuracy=94.2, loss=0.173]\n",
      "Validation: : 100%|███████████████████████████████████| 40/40 [00:02<00:00, 19.66batch/s, val_acc=91.9, val_loss=0.248]\n"
     ]
    },
    {
     "name": "stdout",
     "output_type": "stream",
     "text": [
      "\n",
      "epoch: 59 training loss = 0.1728, training accuracy = 94.24%, val_loss = 0.2481, val_accuracy = 91.86% &  beta = 6.505071 & LR = 0.01000\n",
      "\n"
     ]
    },
    {
     "name": "stderr",
     "output_type": "stream",
     "text": [
      "Training: : 100%|███████████████████████████████████████| 196/196 [00:47<00:00,  4.14batch/s, accuracy=94.2, loss=0.17]\n",
      "Validation: : 100%|███████████████████████████████████| 40/40 [00:02<00:00, 19.62batch/s, val_acc=92.1, val_loss=0.248]\n"
     ]
    },
    {
     "name": "stdout",
     "output_type": "stream",
     "text": [
      "\n",
      "epoch: 60 training loss = 0.1704, training accuracy = 94.20%, val_loss = 0.2484, val_accuracy = 92.12% &  beta = 6.517155 & LR = 0.01000\n",
      "\n"
     ]
    },
    {
     "name": "stderr",
     "output_type": "stream",
     "text": [
      "Training: : 100%|██████████████████████████████████████| 196/196 [00:47<00:00,  4.13batch/s, accuracy=94.5, loss=0.167]\n",
      "Validation: : 100%|███████████████████████████████████| 40/40 [00:02<00:00, 19.51batch/s, val_acc=92.2, val_loss=0.241]\n"
     ]
    },
    {
     "name": "stdout",
     "output_type": "stream",
     "text": [
      "\n",
      "epoch: 61 training loss = 0.1674, training accuracy = 94.48%, val_loss = 0.2409, val_accuracy = 92.18% &  beta = 6.516994 & LR = 0.01000\n",
      "\n"
     ]
    },
    {
     "name": "stderr",
     "output_type": "stream",
     "text": [
      "Training: : 100%|██████████████████████████████████████| 196/196 [00:47<00:00,  4.13batch/s, accuracy=94.6, loss=0.164]\n",
      "Validation: : 100%|███████████████████████████████████| 40/40 [00:02<00:00, 19.62batch/s, val_acc=92.2, val_loss=0.245]\n"
     ]
    },
    {
     "name": "stdout",
     "output_type": "stream",
     "text": [
      "\n",
      "epoch: 62 training loss = 0.1641, training accuracy = 94.60%, val_loss = 0.2454, val_accuracy = 92.21% &  beta = 6.520722 & LR = 0.01000\n",
      "\n"
     ]
    },
    {
     "name": "stderr",
     "output_type": "stream",
     "text": [
      "Training: : 100%|██████████████████████████████████████| 196/196 [00:47<00:00,  4.14batch/s, accuracy=94.8, loss=0.155]\n",
      "Validation: : 100%|███████████████████████████████████| 40/40 [00:02<00:00, 19.57batch/s, val_acc=92.1, val_loss=0.252]\n"
     ]
    },
    {
     "name": "stdout",
     "output_type": "stream",
     "text": [
      "\n",
      "epoch: 63 training loss = 0.1551, training accuracy = 94.84%, val_loss = 0.2520, val_accuracy = 92.10% &  beta = 6.528920 & LR = 0.01000\n",
      "\n"
     ]
    },
    {
     "name": "stderr",
     "output_type": "stream",
     "text": [
      "Training: : 100%|████████████████████████████████████████| 196/196 [00:47<00:00,  4.14batch/s, accuracy=95, loss=0.154]\n",
      "Validation: : 100%|███████████████████████████████████| 40/40 [00:02<00:00, 19.61batch/s, val_acc=92.3, val_loss=0.246]\n"
     ]
    },
    {
     "name": "stdout",
     "output_type": "stream",
     "text": [
      "\n",
      "epoch: 64 training loss = 0.1542, training accuracy = 94.98%, val_loss = 0.2459, val_accuracy = 92.27% &  beta = 6.540968 & LR = 0.01000\n",
      "\n"
     ]
    },
    {
     "name": "stderr",
     "output_type": "stream",
     "text": [
      "Training: : 100%|██████████████████████████████████████| 196/196 [00:47<00:00,  4.14batch/s, accuracy=94.9, loss=0.157]\n",
      "Validation: : 100%|█████████████████████████████████████| 40/40 [00:02<00:00, 19.65batch/s, val_acc=92, val_loss=0.254]\n"
     ]
    },
    {
     "name": "stdout",
     "output_type": "stream",
     "text": [
      "\n",
      "epoch: 65 training loss = 0.1566, training accuracy = 94.87%, val_loss = 0.2536, val_accuracy = 92.04% &  beta = 6.548135 & LR = 0.01000\n",
      "\n"
     ]
    },
    {
     "name": "stderr",
     "output_type": "stream",
     "text": [
      "Training: : 100%|██████████████████████████████████████| 196/196 [00:47<00:00,  4.14batch/s, accuracy=95.3, loss=0.148]\n",
      "Validation: : 100%|███████████████████████████████████| 40/40 [00:02<00:00, 19.57batch/s, val_acc=92.3, val_loss=0.258]\n"
     ]
    },
    {
     "name": "stdout",
     "output_type": "stream",
     "text": [
      "\n",
      "epoch: 66 training loss = 0.1485, training accuracy = 95.27%, val_loss = 0.2578, val_accuracy = 92.26% &  beta = 6.559021 & LR = 0.01000\n",
      "\n"
     ]
    },
    {
     "name": "stderr",
     "output_type": "stream",
     "text": [
      "Training: : 100%|██████████████████████████████████████| 196/196 [00:47<00:00,  4.14batch/s, accuracy=95.2, loss=0.145]\n",
      "Validation: : 100%|████████████████████████████████████| 40/40 [00:02<00:00, 19.64batch/s, val_acc=91.5, val_loss=0.27]\n"
     ]
    },
    {
     "name": "stdout",
     "output_type": "stream",
     "text": [
      "\n",
      "epoch: 67 training loss = 0.1455, training accuracy = 95.20%, val_loss = 0.2701, val_accuracy = 91.52% &  beta = 6.566317 & LR = 0.01000\n",
      "\n"
     ]
    },
    {
     "name": "stderr",
     "output_type": "stream",
     "text": [
      "Training: : 100%|██████████████████████████████████████| 196/196 [00:47<00:00,  4.15batch/s, accuracy=95.4, loss=0.144]\n",
      "Validation: : 100%|█████████████████████████████████████| 40/40 [00:02<00:00, 19.60batch/s, val_acc=92, val_loss=0.258]\n"
     ]
    },
    {
     "name": "stdout",
     "output_type": "stream",
     "text": [
      "\n",
      "epoch: 68 training loss = 0.1437, training accuracy = 95.38%, val_loss = 0.2575, val_accuracy = 91.95% &  beta = 6.574825 & LR = 0.01000\n",
      "\n"
     ]
    },
    {
     "name": "stderr",
     "output_type": "stream",
     "text": [
      "Training: : 100%|██████████████████████████████████████| 196/196 [00:47<00:00,  4.14batch/s, accuracy=95.4, loss=0.139]\n",
      "Validation: : 100%|███████████████████████████████████| 40/40 [00:02<00:00, 19.60batch/s, val_acc=92.2, val_loss=0.249]\n"
     ]
    },
    {
     "name": "stdout",
     "output_type": "stream",
     "text": [
      "\n",
      "epoch: 69 training loss = 0.1389, training accuracy = 95.42%, val_loss = 0.2493, val_accuracy = 92.22% &  beta = 6.583127 & LR = 0.01000\n",
      "\n"
     ]
    },
    {
     "name": "stderr",
     "output_type": "stream",
     "text": [
      "Training: : 100%|███████████████████████████████████████| 196/196 [00:47<00:00,  4.14batch/s, accuracy=95.4, loss=0.14]\n",
      "Validation: : 100%|███████████████████████████████████| 40/40 [00:02<00:00, 19.60batch/s, val_acc=92.5, val_loss=0.241]\n"
     ]
    },
    {
     "name": "stdout",
     "output_type": "stream",
     "text": [
      "\n",
      "epoch: 70 training loss = 0.1396, training accuracy = 95.44%, val_loss = 0.2413, val_accuracy = 92.48% &  beta = 6.593835 & LR = 0.00100\n",
      "\n",
      "Saving model with highest val_acc = 92.4800%\n",
      "\n"
     ]
    },
    {
     "name": "stderr",
     "output_type": "stream",
     "text": [
      "Training: : 100%|██████████████████████████████████████| 196/196 [00:47<00:00,  4.14batch/s, accuracy=96.1, loss=0.121]\n",
      "Validation: : 100%|█████████████████████████████████████| 40/40 [00:02<00:00, 19.61batch/s, val_acc=93, val_loss=0.233]\n"
     ]
    },
    {
     "name": "stdout",
     "output_type": "stream",
     "text": [
      "\n",
      "epoch: 71 training loss = 0.1205, training accuracy = 96.08%, val_loss = 0.2326, val_accuracy = 93.05% &  beta = 6.594110 & LR = 0.00100\n",
      "\n",
      "Saving model with highest val_acc = 93.0500%\n",
      "\n"
     ]
    },
    {
     "name": "stderr",
     "output_type": "stream",
     "text": [
      "Training: : 100%|██████████████████████████████████████| 196/196 [00:47<00:00,  4.14batch/s, accuracy=96.4, loss=0.112]\n",
      "Validation: : 100%|██████████████████████████████████████| 40/40 [00:02<00:00, 19.54batch/s, val_acc=93, val_loss=0.23]\n"
     ]
    },
    {
     "name": "stdout",
     "output_type": "stream",
     "text": [
      "\n",
      "epoch: 72 training loss = 0.1120, training accuracy = 96.44%, val_loss = 0.2301, val_accuracy = 92.98% &  beta = 6.595648 & LR = 0.00100\n",
      "\n"
     ]
    },
    {
     "name": "stderr",
     "output_type": "stream",
     "text": [
      "Training: : 100%|██████████████████████████████████████| 196/196 [00:47<00:00,  4.14batch/s, accuracy=96.6, loss=0.111]\n",
      "Validation: : 100%|███████████████████████████████████| 40/40 [00:02<00:00, 19.63batch/s, val_acc=93.1, val_loss=0.232]\n"
     ]
    },
    {
     "name": "stdout",
     "output_type": "stream",
     "text": [
      "\n",
      "epoch: 73 training loss = 0.1109, training accuracy = 96.61%, val_loss = 0.2324, val_accuracy = 93.07% &  beta = 6.595726 & LR = 0.00100\n",
      "\n",
      "Saving model with highest val_acc = 93.0700%\n",
      "\n"
     ]
    },
    {
     "name": "stderr",
     "output_type": "stream",
     "text": [
      "Training: : 100%|██████████████████████████████████████| 196/196 [00:47<00:00,  4.14batch/s, accuracy=96.8, loss=0.105]\n",
      "Validation: : 100%|█████████████████████████████████████| 40/40 [00:02<00:00, 19.56batch/s, val_acc=93, val_loss=0.231]\n"
     ]
    },
    {
     "name": "stdout",
     "output_type": "stream",
     "text": [
      "\n",
      "epoch: 74 training loss = 0.1054, training accuracy = 96.79%, val_loss = 0.2308, val_accuracy = 93.04% &  beta = 6.594266 & LR = 0.00100\n",
      "\n"
     ]
    },
    {
     "name": "stderr",
     "output_type": "stream",
     "text": [
      "Training: : 100%|██████████████████████████████████████| 196/196 [00:47<00:00,  4.15batch/s, accuracy=96.7, loss=0.104]\n",
      "Validation: : 100%|█████████████████████████████████████| 40/40 [00:02<00:00, 19.61batch/s, val_acc=93, val_loss=0.233]\n"
     ]
    },
    {
     "name": "stdout",
     "output_type": "stream",
     "text": [
      "\n",
      "epoch: 75 training loss = 0.1041, training accuracy = 96.74%, val_loss = 0.2328, val_accuracy = 93.05% &  beta = 6.592986 & LR = 0.00100\n",
      "\n"
     ]
    },
    {
     "name": "stderr",
     "output_type": "stream",
     "text": [
      "Training: : 100%|██████████████████████████████████████| 196/196 [00:47<00:00,  4.13batch/s, accuracy=96.8, loss=0.103]\n",
      "Validation: : 100%|█████████████████████████████████████| 40/40 [00:02<00:00, 19.66batch/s, val_acc=93, val_loss=0.231]\n"
     ]
    },
    {
     "name": "stdout",
     "output_type": "stream",
     "text": [
      "\n",
      "epoch: 76 training loss = 0.1027, training accuracy = 96.78%, val_loss = 0.2309, val_accuracy = 93.04% &  beta = 6.592631 & LR = 0.00100\n",
      "\n"
     ]
    },
    {
     "name": "stderr",
     "output_type": "stream",
     "text": [
      "Training: : 100%|██████████████████████████████████████| 196/196 [00:47<00:00,  4.12batch/s, accuracy=96.9, loss=0.102]\n",
      "Validation: : 100%|█████████████████████████████████████| 40/40 [00:02<00:00, 19.60batch/s, val_acc=93, val_loss=0.231]\n"
     ]
    },
    {
     "name": "stdout",
     "output_type": "stream",
     "text": [
      "\n",
      "epoch: 77 training loss = 0.1023, training accuracy = 96.90%, val_loss = 0.2314, val_accuracy = 93.03% &  beta = 6.591558 & LR = 0.00100\n",
      "\n"
     ]
    },
    {
     "name": "stderr",
     "output_type": "stream",
     "text": [
      "Training: : 100%|█████████████████████████████████████| 196/196 [00:47<00:00,  4.15batch/s, accuracy=96.9, loss=0.0988]\n",
      "Validation: : 100%|█████████████████████████████████████| 40/40 [00:02<00:00, 19.68batch/s, val_acc=93, val_loss=0.233]\n"
     ]
    },
    {
     "name": "stdout",
     "output_type": "stream",
     "text": [
      "\n",
      "epoch: 78 training loss = 0.0988, training accuracy = 96.92%, val_loss = 0.2329, val_accuracy = 92.96% &  beta = 6.590920 & LR = 0.00100\n",
      "\n"
     ]
    },
    {
     "name": "stderr",
     "output_type": "stream",
     "text": [
      "Training: : 100%|████████████████████████████████████████| 196/196 [00:47<00:00,  4.15batch/s, accuracy=96.9, loss=0.1]\n",
      "Validation: : 100%|█████████████████████████████████████| 40/40 [00:02<00:00, 19.63batch/s, val_acc=93, val_loss=0.232]\n"
     ]
    },
    {
     "name": "stdout",
     "output_type": "stream",
     "text": [
      "\n",
      "epoch: 79 training loss = 0.1003, training accuracy = 96.93%, val_loss = 0.2322, val_accuracy = 93.04% &  beta = 6.589186 & LR = 0.00100\n",
      "\n"
     ]
    },
    {
     "name": "stderr",
     "output_type": "stream",
     "text": [
      "Training: : 100%|█████████████████████████████████████| 196/196 [00:47<00:00,  4.15batch/s, accuracy=96.9, loss=0.0983]\n",
      "Validation: : 100%|█████████████████████████████████████| 40/40 [00:02<00:00, 19.69batch/s, val_acc=93, val_loss=0.234]\n"
     ]
    },
    {
     "name": "stdout",
     "output_type": "stream",
     "text": [
      "\n",
      "epoch: 80 training loss = 0.0983, training accuracy = 96.94%, val_loss = 0.2341, val_accuracy = 93.00% &  beta = 6.588081 & LR = 0.00100\n",
      "\n"
     ]
    },
    {
     "name": "stderr",
     "output_type": "stream",
     "text": [
      "Training: : 100%|█████████████████████████████████████| 196/196 [00:47<00:00,  4.15batch/s, accuracy=97.1, loss=0.0947]\n",
      "Validation: : 100%|███████████████████████████████████| 40/40 [00:02<00:00, 19.62batch/s, val_acc=93.2, val_loss=0.231]\n"
     ]
    },
    {
     "name": "stdout",
     "output_type": "stream",
     "text": [
      "\n",
      "epoch: 81 training loss = 0.0947, training accuracy = 97.10%, val_loss = 0.2306, val_accuracy = 93.19% &  beta = 6.587454 & LR = 0.00100\n",
      "\n",
      "Saving model with highest val_acc = 93.1900%\n",
      "\n"
     ]
    },
    {
     "name": "stderr",
     "output_type": "stream",
     "text": [
      "Training: : 100%|█████████████████████████████████████| 196/196 [00:47<00:00,  4.15batch/s, accuracy=97.1, loss=0.0944]\n",
      "Validation: : 100%|███████████████████████████████████| 40/40 [00:02<00:00, 19.65batch/s, val_acc=93.1, val_loss=0.231]\n"
     ]
    },
    {
     "name": "stdout",
     "output_type": "stream",
     "text": [
      "\n",
      "epoch: 82 training loss = 0.0944, training accuracy = 97.13%, val_loss = 0.2311, val_accuracy = 93.08% &  beta = 6.586453 & LR = 0.00100\n",
      "\n"
     ]
    },
    {
     "name": "stderr",
     "output_type": "stream",
     "text": [
      "Training: : 100%|█████████████████████████████████████| 196/196 [00:47<00:00,  4.15batch/s, accuracy=97.1, loss=0.0927]\n",
      "Validation: : 100%|█████████████████████████████████████| 40/40 [00:02<00:00, 19.62batch/s, val_acc=93, val_loss=0.232]\n"
     ]
    },
    {
     "name": "stdout",
     "output_type": "stream",
     "text": [
      "\n",
      "epoch: 83 training loss = 0.0927, training accuracy = 97.10%, val_loss = 0.2318, val_accuracy = 93.01% &  beta = 6.585247 & LR = 0.00100\n",
      "\n"
     ]
    },
    {
     "name": "stderr",
     "output_type": "stream",
     "text": [
      "Training: : 100%|█████████████████████████████████████| 196/196 [00:47<00:00,  4.14batch/s, accuracy=97.1, loss=0.0924]\n",
      "Validation: : 100%|███████████████████████████████████| 40/40 [00:02<00:00, 19.45batch/s, val_acc=93.2, val_loss=0.234]\n"
     ]
    },
    {
     "name": "stdout",
     "output_type": "stream",
     "text": [
      "\n",
      "epoch: 84 training loss = 0.0924, training accuracy = 97.11%, val_loss = 0.2336, val_accuracy = 93.18% &  beta = 6.584311 & LR = 0.00100\n",
      "\n"
     ]
    },
    {
     "name": "stderr",
     "output_type": "stream",
     "text": [
      "Training: : 100%|█████████████████████████████████████| 196/196 [00:47<00:00,  4.12batch/s, accuracy=97.2, loss=0.0931]\n",
      "Validation: : 100%|█████████████████████████████████████| 40/40 [00:02<00:00, 19.40batch/s, val_acc=93, val_loss=0.235]"
     ]
    },
    {
     "name": "stdout",
     "output_type": "stream",
     "text": [
      "\n",
      "epoch: 85 training loss = 0.0931, training accuracy = 97.19%, val_loss = 0.2350, val_accuracy = 92.99% &  beta = 6.581717 & LR = 0.00100\n",
      "\n"
     ]
    },
    {
     "name": "stderr",
     "output_type": "stream",
     "text": [
      "\n"
     ]
    }
   ],
   "source": [
    "for epoch in range(num_epochs):\n",
    "\n",
    "    # Train and validate model for 1 epoch-\n",
    "    train_loss, train_acc = train_model_progress(\n",
    "        model, train_loader,\n",
    "        train_dataset\n",
    "    )\n",
    "    val_loss, val_acc = test_model_progress(\n",
    "        model, val_loader,\n",
    "        val_dataset\n",
    "    )\n",
    "    \n",
    "    print(f\"\\nepoch: {epoch + 1} training loss = {train_loss:.4f}, \"\n",
    "          f\"training accuracy = {train_acc:.2f}%, val_loss = {val_loss:.4f}\"\n",
    "          f\", val_accuracy = {val_acc:.2f}% & \"\n",
    "          f\" beta = {model.beta.cpu().detach().numpy():.6f} & LR = {optimizer.param_groups[0]['lr']:.5f}\\n\"\n",
    "         )\n",
    "    \n",
    "    training_history_lr_scheduler[epoch + 1] = {\n",
    "        'loss': train_loss, 'acc': train_acc,\n",
    "        'val_loss': val_loss, 'val_acc': val_acc,\n",
    "        'lr': optimizer.param_groups[0]['lr'],\n",
    "        'beta': model.beta.cpu().detach().numpy()\n",
    "    }\n",
    "\n",
    "    \n",
    "    # Save best weights achieved until now-\n",
    "    if (val_acc > best_val_acc):\n",
    "        # update 'best_val_loss' variable to lowest loss encountered so far-\n",
    "        best_val_acc = val_acc\n",
    "\n",
    "        print(f\"Saving model with highest val_acc = {val_acc:.4f}%\\n\")\n",
    "        \n",
    "        # Save trained model with 'best' validation accuracy-\n",
    "        torch.save(model.state_dict(), \"ResNet18_swish_best_model.pth\")\n",
    "        "
   ]
  },
  {
   "cell_type": "code",
   "execution_count": null,
   "id": "f63f3626-1571-4b1b-826e-61bcb6f6b3f9",
   "metadata": {},
   "outputs": [],
   "source": []
  },
  {
   "cell_type": "code",
   "execution_count": 22,
   "id": "52ff8b3f-3dc1-4207-9da0-311f0e3d7bf0",
   "metadata": {},
   "outputs": [],
   "source": [
    "# Save training metrics as Python3 history for later analysis-\n",
    "with open(\"ResNet18_trainable_Swish_training_history.pkl\", \"wb\") as file:\n",
    "    pickle.dump(training_history_lr_scheduler, file)"
   ]
  },
  {
   "cell_type": "code",
   "execution_count": null,
   "id": "8d29a6ac-e953-4d20-8947-e217db0da002",
   "metadata": {},
   "outputs": [],
   "source": []
  },
  {
   "cell_type": "code",
   "execution_count": 23,
   "id": "f9239d8a-0e80-4e17-978a-b7d7400fab31",
   "metadata": {},
   "outputs": [
    {
     "data": {
      "image/png": "[encoded data removed]",
      "text/plain": [
       "<Figure size 900x700 with 1 Axes>"
      ]
     },
     "metadata": {},
     "output_type": "display_data"
    }
   ],
   "source": [
    "plt.figure(figsize = (9, 7))\n",
    "plt.plot(list(training_history_lr_scheduler.keys()), [training_history_lr_scheduler[k]['acc'] for k in training_history_lr_scheduler.keys()], label = 'training acc')\n",
    "plt.plot(list(training_history_lr_scheduler.keys()), [training_history_lr_scheduler[k]['val_acc'] for k in training_history_lr_scheduler.keys()], label = 'val acc')\n",
    "plt.title(\"ResNet-18: Training Accuracy\")\n",
    "plt.xlabel(\"epochs\")\n",
    "plt.ylabel(\"accuracy (%)\")\n",
    "plt.legend(loc = 'best')\n",
    "plt.show()"
   ]
  },
  {
   "cell_type": "code",
   "execution_count": 24,
   "id": "d66914d0-2c06-46c2-9759-907197ecc7fc",
   "metadata": {},
   "outputs": [
    {
     "data": {
      "image/png": "[encoded data removed]",
      "text/plain": [
       "<Figure size 900x700 with 1 Axes>"
      ]
     },
     "metadata": {},
     "output_type": "display_data"
    }
   ],
   "source": [
    "plt.figure(figsize = (9, 7))\n",
    "plt.plot(list(training_history_lr_scheduler.keys()), [training_history_lr_scheduler[k]['loss'] for k in training_history_lr_scheduler.keys()], label = 'training loss')\n",
    "plt.plot(list(training_history_lr_scheduler.keys()), [training_history_lr_scheduler[k]['val_loss'] for k in training_history_lr_scheduler.keys()], label = 'val loss')\n",
    "plt.xlabel(\"epochs\")\n",
    "plt.ylabel(\"loss\")\n",
    "plt.legend(loc = 'best')\n",
    "plt.title(\"ResNet-18: Training Loss\")\n",
    "plt.show()"
   ]
  },
  {
   "cell_type": "code",
   "execution_count": 25,
   "id": "310fc81c-2259-4d4f-a253-5058bdd2d806",
   "metadata": {},
   "outputs": [
    {
     "data": {
      "image/png": "[encoded data removed]",
      "text/plain": [
       "<Figure size 900x700 with 1 Axes>"
      ]
     },
     "metadata": {},
     "output_type": "display_data"
    }
   ],
   "source": [
    "plt.figure(figsize = (9, 7))\n",
    "plt.plot(list(training_history_lr_scheduler.keys()), [training_history_lr_scheduler[k]['lr'] for k in training_history_lr_scheduler.keys()])\n",
    "plt.xlabel(\"epochs\")\n",
    "plt.ylabel(\"lr\")\n",
    "plt.title(\"ResNet-18: Learning-Rate\")\n",
    "plt.show()"
   ]
  },
  {
   "cell_type": "code",
   "execution_count": 26,
   "id": "eb711d1d-d352-4389-9434-ff421257919e",
   "metadata": {},
   "outputs": [
    {
     "data": {
      "image/png": "[encoded data removed]",
      "text/plain": [
       "<Figure size 900x700 with 1 Axes>"
      ]
     },
     "metadata": {},
     "output_type": "display_data"
    }
   ],
   "source": [
    "plt.figure(figsize = (9, 7))\n",
    "plt.plot(list(training_history_lr_scheduler.keys()), [training_history_lr_scheduler[k]['beta'] for k in training_history_lr_scheduler.keys()])\n",
    "plt.xlabel(\"epochs\")\n",
    "plt.ylabel(\"lr\")\n",
    "plt.title(\"ResNet-18: Swish (beta) activation function\")\n",
    "plt.show()"
   ]
  },
  {
   "cell_type": "code",
   "execution_count": 27,
   "id": "01ebd79a-0549-48c2-a888-5a403c5da06f",
   "metadata": {},
   "outputs": [],
   "source": [
    "del model"
   ]
  },
  {
   "cell_type": "code",
   "execution_count": null,
   "id": "8611fb2a-a41c-404d-bee6-a961c486e892",
   "metadata": {},
   "outputs": [],
   "source": []
  },
  {
   "cell_type": "code",
   "execution_count": null,
   "id": "f5c960f8-3abe-4f6a-9efb-267a99ef27ff",
   "metadata": {},
   "outputs": [],
   "source": []
  },
  {
   "cell_type": "code",
   "execution_count": null,
   "id": "2e80c1e4-30a7-40bf-9ddf-048c6cb7e35a",
   "metadata": {},
   "outputs": [],
   "source": [
    "# Initialize and load 'best' trained parameters from above-\n",
    "best_model = ResNet18(beta = 1.0)\n",
    "best_model.load_state_dict(torch.load(\"ResNet18_swish_best_model.pth\"))\n",
    "\n",
    "# Move to GPU device-\n",
    "best_model.to(device)"
   ]
  },
  {
   "cell_type": "code",
   "execution_count": 29,
   "id": "a86270be-d5a9-4aa7-ad5a-70e96b620638",
   "metadata": {},
   "outputs": [
    {
     "name": "stderr",
     "output_type": "stream",
     "text": [
      "Validation: : 100%|███████████████████████████████████| 40/40 [00:02<00:00, 16.53batch/s, val_acc=93.2, val_loss=0.231]\n"
     ]
    }
   ],
   "source": [
    "# Get validation metrics of 'best' trained model-\n",
    "val_loss, val_acc = test_model_progress(\n",
    "    model = best_model, test_loader = val_loader,\n",
    "    test_dataset = val_dataset\n",
    ")"
   ]
  },
  {
   "cell_type": "code",
   "execution_count": 30,
   "id": "48adcd3e-47aa-4206-bbf8-f2d3b691e0af",
   "metadata": {},
   "outputs": [
    {
     "name": "stdout",
     "output_type": "stream",
     "text": [
      "ResNet-18 'best' trained validation metrics:  loss = 0.2306 & acc = 93.19%\n"
     ]
    }
   ],
   "source": [
    "print(\"ResNet-18 'best' trained validation metrics: \",\n",
    "      f\"loss = {val_loss:.4f} & acc = {val_acc:.2f}%\"\n",
    "     )"
   ]
  },
  {
   "cell_type": "code",
   "execution_count": null,
   "id": "c662e4a2-c39a-4f0f-ad78-bb7bf511fac8",
   "metadata": {},
   "outputs": [],
   "source": []
  },
  {
   "cell_type": "code",
   "execution_count": 32,
   "id": "88bc9729-52e1-40cf-95f9-053a80633718",
   "metadata": {},
   "outputs": [],
   "source": [
    "# max([train_history[k]['val_acc'] for k in train_history.keys()])\n",
    "max_val_acc = 0\n",
    "max_epoch = 0\n",
    "\n",
    "for e in training_history_lr_scheduler.keys():\n",
    "    if training_history_lr_scheduler[e]['val_acc'] > max_val_acc:\n",
    "        max_val_acc = training_history_lr_scheduler[e]['val_acc']\n",
    "        max_epoch = e"
   ]
  },
  {
   "cell_type": "code",
   "execution_count": 34,
   "id": "ce1b2528-1ac5-4d22-a4c1-f0e9a2557e8a",
   "metadata": {},
   "outputs": [
    {
     "name": "stdout",
     "output_type": "stream",
     "text": [
      "highest val acc = 93.19%  is obtained for beta = 6.5875\n"
     ]
    }
   ],
   "source": [
    "print(f\"highest val acc = {training_history_lr_scheduler[max_epoch]['val_acc']:.2f}%\",\n",
    "      f\" is obtained for beta = {training_history_lr_scheduler[max_epoch]['beta']:.4f}\"\n",
    ")"
   ]
  },
  {
   "cell_type": "code",
   "execution_count": null,
   "id": "4551d098-c95c-41fd-a44c-70609fd8c8eb",
   "metadata": {},
   "outputs": [],
   "source": []
  },
  {
   "cell_type": "code",
   "execution_count": null,
   "id": "7a43fe0b-ed65-46c3-bee3-2a466b4c7c86",
   "metadata": {},
   "outputs": [],
   "source": []
  },
  {
   "cell_type": "code",
   "execution_count": 35,
   "id": "8c60194b-ff72-4ec4-88d3-899c1f3d62dc",
   "metadata": {},
   "outputs": [],
   "source": [
    "def compute_swish_fn(x, b = 1.0):\n",
    "    return x * (1 / (1 + np.exp(-b * x)))"
   ]
  },
  {
   "cell_type": "code",
   "execution_count": 42,
   "id": "3e15a11e-a233-4340-a93b-e97a34123ba2",
   "metadata": {},
   "outputs": [],
   "source": [
    "x = np.arange(-10, 11, 0.01)"
   ]
  },
  {
   "cell_type": "code",
   "execution_count": 48,
   "id": "8871751e-30b0-4ab7-8677-28d630c92b94",
   "metadata": {},
   "outputs": [
    {
     "data": {
      "image/png": "[encoded data removed]",
      "text/plain": [
       "<Figure size 640x480 with 1 Axes>"
      ]
     },
     "metadata": {},
     "output_type": "display_data"
    }
   ],
   "source": [
    "plt.plot(x, compute_swish_fn(x = x, b = 6.5875), label = '6.5875')\n",
    "plt.plot(x, compute_swish_fn(x = x, b = 1.0), label = '1.0')\n",
    "plt.plot(x, compute_swish_fn(x = x, b = 10.0), label = '10.0')\n",
    "plt.xlabel(\"x\")\n",
    "plt.ylabel(\"f(x)\")\n",
    "plt.title(\"Swish activation fn, different betas\")\n",
    "plt.legend(loc = 'best')\n",
    "plt.show()"
   ]
  },
  {
   "cell_type": "code",
   "execution_count": 49,
   "id": "6f87d0a9-4c34-476c-a71c-ebceb84d9166",
   "metadata": {},
   "outputs": [
    {
     "data": {
      "image/png": "[encoded data removed]",
      "text/plain": [
       "<Figure size 640x480 with 1 Axes>"
      ]
     },
     "metadata": {},
     "output_type": "display_data"
    }
   ],
   "source": [
    "plt.plot(x, compute_swish_fn(x = x, b = 6.5875), label = '6.5875')\n",
    "plt.plot(x, np.where(x <= 0, 0.0, x), label = 'relu')\n",
    "plt.xlabel(\"x\")\n",
    "plt.ylabel(\"f(x)\")\n",
    "plt.title(\"Swish vs. ReLU\")\n",
    "plt.legend(loc = 'best')\n",
    "plt.show()"
   ]
  },
  {
   "cell_type": "code",
   "execution_count": null,
   "id": "668048ec-0f27-4712-a424-d4f145e79b01",
   "metadata": {},
   "outputs": [],
   "source": []
  },
  {
   "cell_type": "code",
   "execution_count": 51,
   "id": "928b98a4-3e3f-47e4-af8d-b0a91aaadc01",
   "metadata": {},
   "outputs": [],
   "source": [
    "x = np.arange(-2, 2, 0.01)"
   ]
  },
  {
   "cell_type": "code",
   "execution_count": 52,
   "id": "2a331aa8-1f58-48aa-b4f4-5c8d4a9548c0",
   "metadata": {},
   "outputs": [
    {
     "data": {
      "image/png": "[encoded data removed]",
      "text/plain": [
       "<Figure size 640x480 with 1 Axes>"
      ]
     },
     "metadata": {},
     "output_type": "display_data"
    }
   ],
   "source": [
    "plt.plot(x, compute_swish_fn(x = x, b = 6.5875), label = '6.5875')\n",
    "plt.plot(x, np.where(x <= 0, 0.0, x), label = 'relu')\n",
    "plt.xlabel(\"x\")\n",
    "plt.ylabel(\"f(x)\")\n",
    "plt.title(\"Swish vs. ReLU\")\n",
    "plt.legend(loc = 'best')\n",
    "plt.show()"
   ]
  },
  {
   "cell_type": "code",
   "execution_count": null,
   "id": "2cb9aec9-557e-4242-b66a-ca3c5a36c79b",
   "metadata": {},
   "outputs": [],
   "source": []
  },
  {
   "cell_type": "code",
   "execution_count": 53,
   "id": "e0ece13c-64fa-49e2-beda-fd9071a44029",
   "metadata": {},
   "outputs": [],
   "source": [
    "x = np.arange(-1.2, 1.2, 0.01)"
   ]
  },
  {
   "cell_type": "code",
   "execution_count": 54,
   "id": "63ad4115-bcaa-4685-82ff-003b3f1cedda",
   "metadata": {},
   "outputs": [
    {
     "data": {
      "image/png": "[encoded data removed]",
      "text/plain": [
       "<Figure size 640x480 with 1 Axes>"
      ]
     },
     "metadata": {},
     "output_type": "display_data"
    }
   ],
   "source": [
    "plt.plot(x, compute_swish_fn(x = x, b = 6.5875), label = '6.5875')\n",
    "plt.plot(x, np.where(x <= 0, 0.0, x), label = 'relu')\n",
    "plt.xlabel(\"x\")\n",
    "plt.ylabel(\"f(x)\")\n",
    "plt.title(\"Swish vs. ReLU\")\n",
    "plt.legend(loc = 'best')\n",
    "plt.show()"
   ]
  },
  {
   "cell_type": "markdown",
   "id": "635c92e7-063b-4db0-a6e2-dc3d6b98c063",
   "metadata": {},
   "source": [
    "#### Observation\n",
    "\n",
    "Except for a small interval $x \\in [-1.0, + 1.0]$ (approximately), both, trainable swish and relu (seem to) behave in a similar manner."
   ]
  },
  {
   "cell_type": "code",
   "execution_count": null,
   "id": "91a001e2-6a0c-41e6-ac3a-5b3985983bca",
   "metadata": {},
   "outputs": [],
   "source": []
  },
  {
   "cell_type": "code",
   "execution_count": null,
   "id": "d183d002-a67f-4981-a2d5-8766bb04a823",
   "metadata": {},
   "outputs": [],
   "source": []
  }
 ],
 "metadata": {
  "kernelspec": {
   "display_name": "Python 3 (ipykernel)",
   "language": "python",
   "name": "python3"
  },
  "language_info": {
   "codemirror_mode": {
    "name": "ipython",
    "version": 3
   },
   "file_extension": ".py",
   "mimetype": "text/x-python",
   "name": "python",
   "nbconvert_exporter": "python",
   "pygments_lexer": "ipython3",
   "version": "3.10.9"
  }
 },
 "nbformat": 4,
 "nbformat_minor": 5
}
